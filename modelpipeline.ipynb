{
 "cells": [
  {
   "cell_type": "markdown",
   "metadata": {
    "toc": true
   },
   "source": [
    "<h1>Table of Contents<span class=\"tocSkip\"></span></h1>\n",
    "<div class=\"toc\"><ul class=\"toc-item\"><li><span><a href=\"#Code-Setup\" data-toc-modified-id=\"Code-Setup-1\"><span class=\"toc-item-num\">1&nbsp;&nbsp;</span>Code Setup</a></span><ul class=\"toc-item\"><li><span><a href=\"#Acronyms-and-abbreviations\" data-toc-modified-id=\"Acronyms-and-abbreviations-1.1\"><span class=\"toc-item-num\">1.1&nbsp;&nbsp;</span>Acronyms and abbreviations</a></span></li></ul></li><li><span><a href=\"#Establish-Data-Frames\" data-toc-modified-id=\"Establish-Data-Frames-2\"><span class=\"toc-item-num\">2&nbsp;&nbsp;</span>Establish Data Frames</a></span><ul class=\"toc-item\"><li><span><a href=\"#Read-in-feature-data\" data-toc-modified-id=\"Read-in-feature-data-2.1\"><span class=\"toc-item-num\">2.1&nbsp;&nbsp;</span>Read in feature data</a></span></li><li><span><a href=\"#Read-in-WF-data\" data-toc-modified-id=\"Read-in-WF-data-2.2\"><span class=\"toc-item-num\">2.2&nbsp;&nbsp;</span>Read in WF data</a></span><ul class=\"toc-item\"><li><span><a href=\"#WF-ENM\" data-toc-modified-id=\"WF-ENM-2.2.1\"><span class=\"toc-item-num\">2.2.1&nbsp;&nbsp;</span>WF ENM</a></span></li><li><span><a href=\"#WF-Source\" data-toc-modified-id=\"WF-Source-2.2.2\"><span class=\"toc-item-num\">2.2.2&nbsp;&nbsp;</span>WF Source</a></span></li></ul></li><li><span><a href=\"#Data-frames\" data-toc-modified-id=\"Data-frames-2.3\"><span class=\"toc-item-num\">2.3&nbsp;&nbsp;</span>Data frames</a></span><ul class=\"toc-item\"><li><span><a href=\"#1:200-ENM-organics-data\" data-toc-modified-id=\"1:200-ENM-organics-data-2.3.1\"><span class=\"toc-item-num\">2.3.1&nbsp;&nbsp;</span>1:200 ENM-organics data</a></span></li><li><span><a href=\"#1:100-ENM-organics-data\" data-toc-modified-id=\"1:100-ENM-organics-data-2.3.2\"><span class=\"toc-item-num\">2.3.2&nbsp;&nbsp;</span>1:100 ENM-organics data</a></span></li><li><span><a href=\"#1:50-ENM-organics-data\" data-toc-modified-id=\"1:50-ENM-organics-data-2.3.3\"><span class=\"toc-item-num\">2.3.3&nbsp;&nbsp;</span>1:50 ENM-organics data</a></span></li><li><span><a href=\"#1:20-ENM-organics-data\" data-toc-modified-id=\"1:20-ENM-organics-data-2.3.4\"><span class=\"toc-item-num\">2.3.4&nbsp;&nbsp;</span>1:20 ENM-organics data</a></span></li><li><span><a href=\"#1:10-ENM-organics-data\" data-toc-modified-id=\"1:10-ENM-organics-data-2.3.5\"><span class=\"toc-item-num\">2.3.5&nbsp;&nbsp;</span>1:10 ENM-organics data</a></span></li><li><span><a href=\"#1:4-ENM-organics-data\" data-toc-modified-id=\"1:4-ENM-organics-data-2.3.6\"><span class=\"toc-item-num\">2.3.6&nbsp;&nbsp;</span>1:4 ENM-organics data</a></span></li><li><span><a href=\"#1:2-ENM-organics-data\" data-toc-modified-id=\"1:2-ENM-organics-data-2.3.7\"><span class=\"toc-item-num\">2.3.7&nbsp;&nbsp;</span>1:2 ENM-organics data</a></span></li><li><span><a href=\"#Matching-1:2-ENM-organics\" data-toc-modified-id=\"Matching-1:2-ENM-organics-2.3.8\"><span class=\"toc-item-num\">2.3.8&nbsp;&nbsp;</span>Matching 1:2 ENM-organics</a></span></li><li><span><a href=\"#Matching-1:1-ENM-organics\" data-toc-modified-id=\"Matching-1:1-ENM-organics-2.3.9\"><span class=\"toc-item-num\">2.3.9&nbsp;&nbsp;</span>Matching 1:1 ENM-organics</a></span></li><li><span><a href=\"#Make-bins-1D-arrays\" data-toc-modified-id=\"Make-bins-1D-arrays-2.3.10\"><span class=\"toc-item-num\">2.3.10&nbsp;&nbsp;</span>Make bins 1D arrays</a></span></li></ul></li></ul></li><li><span><a href=\"#Models\" data-toc-modified-id=\"Models-3\"><span class=\"toc-item-num\">3&nbsp;&nbsp;</span>Models</a></span><ul class=\"toc-item\"><li><span><a href=\"#ENM-only\" data-toc-modified-id=\"ENM-only-3.1\"><span class=\"toc-item-num\">3.1&nbsp;&nbsp;</span>ENM only</a></span></li><li><span><a href=\"#Essentially-leave-one-out-cross-validation,-slight-biases,-might-be-overfitting\" data-toc-modified-id=\"Essentially-leave-one-out-cross-validation,-slight-biases,-might-be-overfitting-3.2\"><span class=\"toc-item-num\">3.2&nbsp;&nbsp;</span>Essentially leave one out cross validation, slight biases, might be overfitting</a></span></li><li><span><a href=\"#1:200-ENM-organics-data\" data-toc-modified-id=\"1:200-ENM-organics-data-3.3\"><span class=\"toc-item-num\">3.3&nbsp;&nbsp;</span>1:200 ENM-organics data</a></span></li><li><span><a href=\"#1:100-ENM-organics-data\" data-toc-modified-id=\"1:100-ENM-organics-data-3.4\"><span class=\"toc-item-num\">3.4&nbsp;&nbsp;</span>1:100 ENM-organics data</a></span></li><li><span><a href=\"#1:50-ENM-organics-data\" data-toc-modified-id=\"1:50-ENM-organics-data-3.5\"><span class=\"toc-item-num\">3.5&nbsp;&nbsp;</span>1:50 ENM-organics data</a></span></li><li><span><a href=\"#1:20-ENM-organics-data\" data-toc-modified-id=\"1:20-ENM-organics-data-3.6\"><span class=\"toc-item-num\">3.6&nbsp;&nbsp;</span>1:20 ENM-organics data</a></span></li><li><span><a href=\"#1:10-ENM-organics-data\" data-toc-modified-id=\"1:10-ENM-organics-data-3.7\"><span class=\"toc-item-num\">3.7&nbsp;&nbsp;</span>1:10 ENM-organics data</a></span></li><li><span><a href=\"#1:4-ENM-organics-data\" data-toc-modified-id=\"1:4-ENM-organics-data-3.8\"><span class=\"toc-item-num\">3.8&nbsp;&nbsp;</span>1:4 ENM-organics data</a></span></li><li><span><a href=\"#1:2-ENM-organics-data\" data-toc-modified-id=\"1:2-ENM-organics-data-3.9\"><span class=\"toc-item-num\">3.9&nbsp;&nbsp;</span>1:2 ENM-organics data</a></span></li><li><span><a href=\"#Matching-1:2\" data-toc-modified-id=\"Matching-1:2-3.10\"><span class=\"toc-item-num\">3.10&nbsp;&nbsp;</span>Matching 1:2</a></span></li><li><span><a href=\"#Matching-1:1\" data-toc-modified-id=\"Matching-1:1-3.11\"><span class=\"toc-item-num\">3.11&nbsp;&nbsp;</span>Matching 1:1</a></span></li><li><span><a href=\"#Augmentation-Performance\" data-toc-modified-id=\"Augmentation-Performance-3.12\"><span class=\"toc-item-num\">3.12&nbsp;&nbsp;</span>Augmentation Performance</a></span></li></ul></li></ul></div>"
   ]
  },
  {
   "cell_type": "markdown",
   "metadata": {},
   "source": [
    "Summary since 12/16:\n",
    "* Added data frames for matching augmentation\n",
    "* Adjusted augmentation dataframes so that they take a fraction of the data from the larger dataset before it\n",
    "* Started code to add graph of performance vs % of augmentation with organics data\n"
   ]
  },
  {
   "cell_type": "markdown",
   "metadata": {},
   "source": [
    "# Code Setup"
   ]
  },
  {
   "cell_type": "code",
   "execution_count": 2,
   "metadata": {
    "ExecuteTime": {
     "end_time": "2019-01-07T17:52:21.948146Z",
     "start_time": "2019-01-07T17:52:21.258520Z"
    },
    "collapsed": true
   },
   "outputs": [],
   "source": [
    "# To support both python 2 and python 3\n",
    "from __future__ import division, print_function, unicode_literals\n",
    "\n",
    "# Common imports\n",
    "import numpy as np\n",
    "import pandas as pd\n",
    "import os"
   ]
  },
  {
   "cell_type": "code",
   "execution_count": 3,
   "metadata": {
    "ExecuteTime": {
     "end_time": "2019-01-07T17:52:22.407237Z",
     "start_time": "2019-01-07T17:52:22.389428Z"
    },
    "collapsed": true
   },
   "outputs": [],
   "source": [
    "# to make this notebook's output stable across runs\n",
    "np.random.seed(42)"
   ]
  },
  {
   "cell_type": "code",
   "execution_count": 4,
   "metadata": {
    "ExecuteTime": {
     "end_time": "2019-01-07T17:52:23.295207Z",
     "start_time": "2019-01-07T17:52:23.056209Z"
    },
    "collapsed": true
   },
   "outputs": [],
   "source": [
    "# To plot pretty figures\n",
    "%matplotlib inline\n",
    "import matplotlib\n",
    "import matplotlib.pyplot as plt\n",
    "import matplotlib.cm as cm\n",
    "import matplotlib.image as mpimg\n",
    "plt.rcParams['axes.labelsize'] = 14\n",
    "plt.rcParams['xtick.labelsize'] = 12\n",
    "plt.rcParams['ytick.labelsize'] = 12"
   ]
  },
  {
   "cell_type": "code",
   "execution_count": 5,
   "metadata": {
    "ExecuteTime": {
     "end_time": "2019-01-07T17:52:23.589393Z",
     "start_time": "2019-01-07T17:52:23.571593Z"
    },
    "collapsed": true
   },
   "outputs": [],
   "source": [
    "# Where to save the figures\n",
    "PROJECT_ROOT_DIR = \".\"\n",
    "PROJECT_SAVE_DIR = \"BLTfigs\""
   ]
  },
  {
   "cell_type": "code",
   "execution_count": 6,
   "metadata": {
    "ExecuteTime": {
     "end_time": "2019-01-07T17:52:24.152643Z",
     "start_time": "2019-01-07T17:52:24.121742Z"
    }
   },
   "outputs": [
    {
     "name": "stdout",
     "output_type": "stream",
     "text": [
      "Figure directory exists.\n"
     ]
    }
   ],
   "source": [
    "import os\n",
    "#os.chdir(path)\n",
    "if not (os.path.isdir(PROJECT_ROOT_DIR+'/'+PROJECT_SAVE_DIR)):\n",
    "    print('Figure directory did not exist, creating now.')\n",
    "    os.mkdir(PROJECT_ROOT_DIR+'/'+PROJECT_SAVE_DIR)\n",
    "else:\n",
    "    print('Figure directory exists.')"
   ]
  },
  {
   "cell_type": "code",
   "execution_count": 7,
   "metadata": {
    "ExecuteTime": {
     "end_time": "2019-01-07T17:52:24.661527Z",
     "start_time": "2019-01-07T17:52:24.637984Z"
    },
    "collapsed": true
   },
   "outputs": [],
   "source": [
    "def savepdf(fig,name):\n",
    "    fig.savefig(PROJECT_ROOT_DIR+'/'+PROJECT_SAVE_DIR+'/'+name+'.pdf')"
   ]
  },
  {
   "cell_type": "code",
   "execution_count": 8,
   "metadata": {
    "ExecuteTime": {
     "end_time": "2019-01-07T17:52:25.221999Z",
     "start_time": "2019-01-07T17:52:25.128270Z"
    }
   },
   "outputs": [
    {
     "data": {
      "text/html": [
       "\n",
       "                <audio controls=\"controls\" autoplay=\"autoplay\">\n",
       "                    <source src=\"./data/Glass.wav\" type=\"audio/x-wav\" />\n",
       "                    Your browser does not support the audio element.\n",
       "                </audio>\n",
       "              "
      ],
      "text/plain": [
       "<IPython.lib.display.Audio object>"
      ]
     },
     "execution_count": 8,
     "metadata": {},
     "output_type": "execute_result"
    }
   ],
   "source": [
    "# To enable a specified sound to play\n",
    "from IPython.display import Audio\n",
    "sound_file = './data/Glass.wav'\n",
    "\n",
    "# Add the following to the end of a cell with a long run time\n",
    "# Play sound when cell is done running\n",
    "Audio(url=sound_file, autoplay=True)"
   ]
  },
  {
   "cell_type": "code",
   "execution_count": 9,
   "metadata": {
    "ExecuteTime": {
     "end_time": "2019-01-07T17:52:25.868203Z",
     "start_time": "2019-01-07T17:52:25.850223Z"
    },
    "collapsed": true
   },
   "outputs": [],
   "source": [
    "# Shift tab to understand function components\n",
    "# Type questionmark before function to bring up help"
   ]
  },
  {
   "cell_type": "markdown",
   "metadata": {
    "ExecuteTime": {
     "end_time": "2018-07-17T17:12:41.336563Z",
     "start_time": "2018-07-17T17:12:41.333288Z"
    }
   },
   "source": [
    "## Acronyms and abbreviations"
   ]
  },
  {
   "cell_type": "code",
   "execution_count": 10,
   "metadata": {
    "ExecuteTime": {
     "end_time": "2019-01-07T17:52:26.871749Z",
     "start_time": "2019-01-07T17:52:26.852234Z"
    },
    "collapsed": true
   },
   "outputs": [],
   "source": [
    "# arr = array\n",
    "# df = dataframe\n",
    "# enm = engineered nanomaterial\n",
    "# mw = molecular weight\n",
    "# NOC = not otherwise categorizable\n",
    "# oecd = Organisation for Economic Co-operation and Development\n",
    "# prop = property\n",
    "# PUC = product use category\n",
    "# wf = weight fraction"
   ]
  },
  {
   "cell_type": "markdown",
   "metadata": {},
   "source": [
    "# Establish Data Frames"
   ]
  },
  {
   "cell_type": "markdown",
   "metadata": {},
   "source": [
    "## Read in feature data"
   ]
  },
  {
   "cell_type": "code",
   "execution_count": 320,
   "metadata": {
    "ExecuteTime": {
     "end_time": "2019-01-10T17:22:29.542240Z",
     "start_time": "2019-01-10T17:22:29.471346Z"
    }
   },
   "outputs": [
    {
     "data": {
      "text/html": [
       "<div>\n",
       "<style scoped>\n",
       "    .dataframe tbody tr th:only-of-type {\n",
       "        vertical-align: middle;\n",
       "    }\n",
       "\n",
       "    .dataframe tbody tr th {\n",
       "        vertical-align: top;\n",
       "    }\n",
       "\n",
       "    .dataframe thead th {\n",
       "        text-align: right;\n",
       "    }\n",
       "</style>\n",
       "<table border=\"1\" class=\"dataframe\">\n",
       "  <thead>\n",
       "    <tr style=\"text-align: right;\">\n",
       "      <th></th>\n",
       "      <th>propMW</th>\n",
       "      <th>propMP</th>\n",
       "      <th>propBP</th>\n",
       "      <th>propLogDensity</th>\n",
       "      <th>0</th>\n",
       "      <th>1</th>\n",
       "      <th>2</th>\n",
       "      <th>3</th>\n",
       "      <th>4</th>\n",
       "      <th>5</th>\n",
       "      <th>...</th>\n",
       "      <th>group_facialcleansingandmoisturizing</th>\n",
       "      <th>group_fungicide</th>\n",
       "      <th>group_generalhouseholdcleaning</th>\n",
       "      <th>group_generalmoisturizing</th>\n",
       "      <th>group_makeupandrelated</th>\n",
       "      <th>group_paintstainandrelatedproducts</th>\n",
       "      <th>group_sunscreen</th>\n",
       "      <th>group_surfacesealers</th>\n",
       "      <th>refined_spray</th>\n",
       "      <th>matrix_F</th>\n",
       "    </tr>\n",
       "  </thead>\n",
       "  <tbody>\n",
       "    <tr>\n",
       "      <th>0</th>\n",
       "      <td>79.867</td>\n",
       "      <td>1843.00</td>\n",
       "      <td>2972.0</td>\n",
       "      <td>0.626340</td>\n",
       "      <td>0.5</td>\n",
       "      <td>0.0</td>\n",
       "      <td>0.0</td>\n",
       "      <td>0.0</td>\n",
       "      <td>0.0</td>\n",
       "      <td>1.0</td>\n",
       "      <td>...</td>\n",
       "      <td>0</td>\n",
       "      <td>0</td>\n",
       "      <td>0</td>\n",
       "      <td>0</td>\n",
       "      <td>0</td>\n",
       "      <td>1</td>\n",
       "      <td>0</td>\n",
       "      <td>0</td>\n",
       "      <td>0</td>\n",
       "      <td>1</td>\n",
       "    </tr>\n",
       "    <tr>\n",
       "      <th>1</th>\n",
       "      <td>63.546</td>\n",
       "      <td>1083.00</td>\n",
       "      <td>2567.0</td>\n",
       "      <td>0.952308</td>\n",
       "      <td>0.0</td>\n",
       "      <td>0.0</td>\n",
       "      <td>0.0</td>\n",
       "      <td>0.0</td>\n",
       "      <td>0.0</td>\n",
       "      <td>0.0</td>\n",
       "      <td>...</td>\n",
       "      <td>0</td>\n",
       "      <td>0</td>\n",
       "      <td>0</td>\n",
       "      <td>0</td>\n",
       "      <td>0</td>\n",
       "      <td>0</td>\n",
       "      <td>0</td>\n",
       "      <td>0</td>\n",
       "      <td>0</td>\n",
       "      <td>1</td>\n",
       "    </tr>\n",
       "    <tr>\n",
       "      <th>2</th>\n",
       "      <td>65.370</td>\n",
       "      <td>419.53</td>\n",
       "      <td>907.0</td>\n",
       "      <td>0.853698</td>\n",
       "      <td>0.0</td>\n",
       "      <td>0.0</td>\n",
       "      <td>0.0</td>\n",
       "      <td>0.0</td>\n",
       "      <td>0.0</td>\n",
       "      <td>0.0</td>\n",
       "      <td>...</td>\n",
       "      <td>0</td>\n",
       "      <td>0</td>\n",
       "      <td>0</td>\n",
       "      <td>0</td>\n",
       "      <td>0</td>\n",
       "      <td>0</td>\n",
       "      <td>0</td>\n",
       "      <td>0</td>\n",
       "      <td>0</td>\n",
       "      <td>1</td>\n",
       "    </tr>\n",
       "    <tr>\n",
       "      <th>3</th>\n",
       "      <td>107.868</td>\n",
       "      <td>961.78</td>\n",
       "      <td>2162.0</td>\n",
       "      <td>1.014730</td>\n",
       "      <td>0.0</td>\n",
       "      <td>0.0</td>\n",
       "      <td>0.0</td>\n",
       "      <td>0.0</td>\n",
       "      <td>0.0</td>\n",
       "      <td>0.0</td>\n",
       "      <td>...</td>\n",
       "      <td>1</td>\n",
       "      <td>0</td>\n",
       "      <td>0</td>\n",
       "      <td>0</td>\n",
       "      <td>0</td>\n",
       "      <td>0</td>\n",
       "      <td>0</td>\n",
       "      <td>0</td>\n",
       "      <td>0</td>\n",
       "      <td>1</td>\n",
       "    </tr>\n",
       "  </tbody>\n",
       "</table>\n",
       "<p>4 rows × 39 columns</p>\n",
       "</div>"
      ],
      "text/plain": [
       "    propMW   propMP  propBP  propLogDensity    0    1    2    3    4    5  \\\n",
       "0   79.867  1843.00  2972.0        0.626340  0.5  0.0  0.0  0.0  0.0  1.0   \n",
       "1   63.546  1083.00  2567.0        0.952308  0.0  0.0  0.0  0.0  0.0  0.0   \n",
       "2   65.370   419.53   907.0        0.853698  0.0  0.0  0.0  0.0  0.0  0.0   \n",
       "3  107.868   961.78  2162.0        1.014730  0.0  0.0  0.0  0.0  0.0  0.0   \n",
       "\n",
       "     ...     group_facialcleansingandmoisturizing  group_fungicide  \\\n",
       "0    ...                                        0                0   \n",
       "1    ...                                        0                0   \n",
       "2    ...                                        0                0   \n",
       "3    ...                                        1                0   \n",
       "\n",
       "   group_generalhouseholdcleaning  group_generalmoisturizing  \\\n",
       "0                               0                          0   \n",
       "1                               0                          0   \n",
       "2                               0                          0   \n",
       "3                               0                          0   \n",
       "\n",
       "   group_makeupandrelated  group_paintstainandrelatedproducts  \\\n",
       "0                       0                                   1   \n",
       "1                       0                                   0   \n",
       "2                       0                                   0   \n",
       "3                       0                                   0   \n",
       "\n",
       "   group_sunscreen  group_surfacesealers  refined_spray  matrix_F  \n",
       "0                0                     0              0         1  \n",
       "1                0                     0              0         1  \n",
       "2                0                     0              0         1  \n",
       "3                0                     0              0         1  \n",
       "\n",
       "[4 rows x 39 columns]"
      ]
     },
     "execution_count": 320,
     "metadata": {},
     "output_type": "execute_result"
    }
   ],
   "source": [
    "# Target (ENM) model data\n",
    "X_enm = pd.read_csv(\"./data/XX_enm.csv\", sep='\\t', header='infer', index_col=0)\n",
    "X_enm.head(4)"
   ]
  },
  {
   "cell_type": "code",
   "execution_count": 321,
   "metadata": {
    "ExecuteTime": {
     "end_time": "2019-01-10T17:22:30.526480Z",
     "start_time": "2019-01-10T17:22:30.273021Z"
    }
   },
   "outputs": [
    {
     "data": {
      "text/html": [
       "<div>\n",
       "<style scoped>\n",
       "    .dataframe tbody tr th:only-of-type {\n",
       "        vertical-align: middle;\n",
       "    }\n",
       "\n",
       "    .dataframe tbody tr th {\n",
       "        vertical-align: top;\n",
       "    }\n",
       "\n",
       "    .dataframe thead th {\n",
       "        text-align: right;\n",
       "    }\n",
       "</style>\n",
       "<table border=\"1\" class=\"dataframe\">\n",
       "  <thead>\n",
       "    <tr style=\"text-align: right;\">\n",
       "      <th></th>\n",
       "      <th>propMW</th>\n",
       "      <th>propMP</th>\n",
       "      <th>propBP</th>\n",
       "      <th>propLogDensity</th>\n",
       "      <th>0</th>\n",
       "      <th>1</th>\n",
       "      <th>2</th>\n",
       "      <th>3</th>\n",
       "      <th>4</th>\n",
       "      <th>5</th>\n",
       "      <th>...</th>\n",
       "      <th>group_facialcleansingandmoisturizing</th>\n",
       "      <th>group_fungicide</th>\n",
       "      <th>group_generalhouseholdcleaning</th>\n",
       "      <th>group_generalmoisturizing</th>\n",
       "      <th>group_makeupandrelated</th>\n",
       "      <th>group_paintstainandrelatedproducts</th>\n",
       "      <th>group_sunscreen</th>\n",
       "      <th>group_surfacesealers</th>\n",
       "      <th>refined_spray</th>\n",
       "      <th>matrix_F</th>\n",
       "    </tr>\n",
       "  </thead>\n",
       "  <tbody>\n",
       "    <tr>\n",
       "      <th>1</th>\n",
       "      <td>106.168</td>\n",
       "      <td>-52.5218</td>\n",
       "      <td>147.1505</td>\n",
       "      <td>-0.05061</td>\n",
       "      <td>0.5</td>\n",
       "      <td>0.0</td>\n",
       "      <td>0.0</td>\n",
       "      <td>0.0</td>\n",
       "      <td>0.0</td>\n",
       "      <td>0.0</td>\n",
       "      <td>...</td>\n",
       "      <td>0</td>\n",
       "      <td>0</td>\n",
       "      <td>0</td>\n",
       "      <td>0</td>\n",
       "      <td>0</td>\n",
       "      <td>0</td>\n",
       "      <td>0</td>\n",
       "      <td>0</td>\n",
       "      <td>0</td>\n",
       "      <td>1</td>\n",
       "    </tr>\n",
       "    <tr>\n",
       "      <th>2</th>\n",
       "      <td>106.168</td>\n",
       "      <td>-52.5218</td>\n",
       "      <td>147.1505</td>\n",
       "      <td>-0.05061</td>\n",
       "      <td>0.5</td>\n",
       "      <td>0.0</td>\n",
       "      <td>0.0</td>\n",
       "      <td>0.0</td>\n",
       "      <td>0.0</td>\n",
       "      <td>0.0</td>\n",
       "      <td>...</td>\n",
       "      <td>0</td>\n",
       "      <td>0</td>\n",
       "      <td>0</td>\n",
       "      <td>0</td>\n",
       "      <td>0</td>\n",
       "      <td>0</td>\n",
       "      <td>0</td>\n",
       "      <td>0</td>\n",
       "      <td>0</td>\n",
       "      <td>1</td>\n",
       "    </tr>\n",
       "    <tr>\n",
       "      <th>3</th>\n",
       "      <td>106.168</td>\n",
       "      <td>-52.5218</td>\n",
       "      <td>147.1505</td>\n",
       "      <td>-0.05061</td>\n",
       "      <td>0.5</td>\n",
       "      <td>0.0</td>\n",
       "      <td>0.0</td>\n",
       "      <td>0.0</td>\n",
       "      <td>0.0</td>\n",
       "      <td>0.0</td>\n",
       "      <td>...</td>\n",
       "      <td>0</td>\n",
       "      <td>0</td>\n",
       "      <td>0</td>\n",
       "      <td>0</td>\n",
       "      <td>0</td>\n",
       "      <td>1</td>\n",
       "      <td>0</td>\n",
       "      <td>0</td>\n",
       "      <td>1</td>\n",
       "      <td>1</td>\n",
       "    </tr>\n",
       "    <tr>\n",
       "      <th>4</th>\n",
       "      <td>106.168</td>\n",
       "      <td>-52.5218</td>\n",
       "      <td>147.1505</td>\n",
       "      <td>-0.05061</td>\n",
       "      <td>0.5</td>\n",
       "      <td>0.0</td>\n",
       "      <td>0.0</td>\n",
       "      <td>0.0</td>\n",
       "      <td>0.0</td>\n",
       "      <td>0.0</td>\n",
       "      <td>...</td>\n",
       "      <td>0</td>\n",
       "      <td>0</td>\n",
       "      <td>0</td>\n",
       "      <td>0</td>\n",
       "      <td>0</td>\n",
       "      <td>1</td>\n",
       "      <td>0</td>\n",
       "      <td>0</td>\n",
       "      <td>1</td>\n",
       "      <td>1</td>\n",
       "    </tr>\n",
       "  </tbody>\n",
       "</table>\n",
       "<p>4 rows × 39 columns</p>\n",
       "</div>"
      ],
      "text/plain": [
       "    propMW   propMP    propBP  propLogDensity    0    1    2    3    4    5  \\\n",
       "1  106.168 -52.5218  147.1505        -0.05061  0.5  0.0  0.0  0.0  0.0  0.0   \n",
       "2  106.168 -52.5218  147.1505        -0.05061  0.5  0.0  0.0  0.0  0.0  0.0   \n",
       "3  106.168 -52.5218  147.1505        -0.05061  0.5  0.0  0.0  0.0  0.0  0.0   \n",
       "4  106.168 -52.5218  147.1505        -0.05061  0.5  0.0  0.0  0.0  0.0  0.0   \n",
       "\n",
       "     ...     group_facialcleansingandmoisturizing  group_fungicide  \\\n",
       "1    ...                                        0                0   \n",
       "2    ...                                        0                0   \n",
       "3    ...                                        0                0   \n",
       "4    ...                                        0                0   \n",
       "\n",
       "   group_generalhouseholdcleaning  group_generalmoisturizing  \\\n",
       "1                               0                          0   \n",
       "2                               0                          0   \n",
       "3                               0                          0   \n",
       "4                               0                          0   \n",
       "\n",
       "   group_makeupandrelated  group_paintstainandrelatedproducts  \\\n",
       "1                       0                                   0   \n",
       "2                       0                                   0   \n",
       "3                       0                                   1   \n",
       "4                       0                                   1   \n",
       "\n",
       "   group_sunscreen  group_surfacesealers  refined_spray  matrix_F  \n",
       "1                0                     0              0         1  \n",
       "2                0                     0              0         1  \n",
       "3                0                     0              1         1  \n",
       "4                0                     0              1         1  \n",
       "\n",
       "[4 rows x 39 columns]"
      ]
     },
     "execution_count": 321,
     "metadata": {},
     "output_type": "execute_result"
    }
   ],
   "source": [
    "# Source (organics) model data\n",
    "X_source = pd.read_csv(\"./data/XX_source.csv\", sep='\\t', header='infer', index_col=0)\n",
    "X_source.head(4)"
   ]
  },
  {
   "cell_type": "code",
   "execution_count": 322,
   "metadata": {
    "ExecuteTime": {
     "end_time": "2019-01-10T17:22:31.271188Z",
     "start_time": "2019-01-10T17:22:31.241892Z"
    }
   },
   "outputs": [
    {
     "name": "stdout",
     "output_type": "stream",
     "text": [
      "(16354, 39)\n"
     ]
    }
   ],
   "source": [
    "print(X_source.shape)"
   ]
  },
  {
   "cell_type": "markdown",
   "metadata": {},
   "source": [
    "## Read in WF data"
   ]
  },
  {
   "cell_type": "markdown",
   "metadata": {},
   "source": [
    "### WF ENM"
   ]
  },
  {
   "cell_type": "code",
   "execution_count": 323,
   "metadata": {
    "ExecuteTime": {
     "end_time": "2019-01-10T17:22:33.719837Z",
     "start_time": "2019-01-10T17:22:33.700692Z"
    },
    "collapsed": true
   },
   "outputs": [],
   "source": [
    "# Read in ENM maximum_weight_fraction data\n",
    "y_enm = pd.read_csv(\"./data/ENM_conc_export.csv\", sep=',', header='infer', usecols=[3])"
   ]
  },
  {
   "cell_type": "code",
   "execution_count": 324,
   "metadata": {
    "ExecuteTime": {
     "end_time": "2019-01-10T17:22:34.220927Z",
     "start_time": "2019-01-10T17:22:34.192372Z"
    },
    "collapsed": true
   },
   "outputs": [],
   "source": [
    "# Define function to assign weight fractions to bins \n",
    "# (different from those used by Isaacs et al. 2016)\n",
    "def bins(row):\n",
    "    if row['maximum_weight_fraction'] <= 0.002:\n",
    "        val = 'bottom'\n",
    "    elif row['maximum_weight_fraction'] > 0.05:\n",
    "        val = 'top'\n",
    "    else:\n",
    "        val = 'middle'\n",
    "    return val\n",
    "bin_enm = y_enm.apply(bins, axis=1)"
   ]
  },
  {
   "cell_type": "code",
   "execution_count": 325,
   "metadata": {
    "ExecuteTime": {
     "end_time": "2019-01-10T17:22:35.348652Z",
     "start_time": "2019-01-10T17:22:35.097155Z"
    }
   },
   "outputs": [
    {
     "data": {
      "text/plain": [
       "Text(0.5,1,'Frequency of ENM Weight Fraction Bins')"
      ]
     },
     "execution_count": 325,
     "metadata": {},
     "output_type": "execute_result"
    },
    {
     "data": {
      "image/png": "[encoded data removed]",
      "text/plain": [
       "<Figure size 432x288 with 1 Axes>"
      ]
     },
     "metadata": {},
     "output_type": "display_data"
    }
   ],
   "source": [
    "bin_enm.value_counts().plot(kind='bar')\n",
    "plt.title('Frequency of ENM Weight Fraction Bins')"
   ]
  },
  {
   "cell_type": "code",
   "execution_count": 326,
   "metadata": {
    "ExecuteTime": {
     "end_time": "2019-01-10T17:22:35.873794Z",
     "start_time": "2019-01-10T17:22:35.854971Z"
    },
    "collapsed": true
   },
   "outputs": [],
   "source": [
    "# Use label encoder to make bins compatible with Scikit-Learn\n",
    "from sklearn import preprocessing\n",
    "le = preprocessing.LabelEncoder()\n",
    "\n",
    "# Fit the encoder and transform categories into integers\n",
    "bin_enm = le.fit_transform(bin_enm)"
   ]
  },
  {
   "cell_type": "markdown",
   "metadata": {},
   "source": [
    "### WF Source"
   ]
  },
  {
   "cell_type": "code",
   "execution_count": 327,
   "metadata": {
    "ExecuteTime": {
     "end_time": "2019-01-10T17:22:42.316049Z",
     "start_time": "2019-01-10T17:22:41.898348Z"
    },
    "collapsed": true
   },
   "outputs": [],
   "source": [
    "# Read in organics maximum_weight_fraction data\n",
    "y_source = pd.read_csv(\"./data/y_source.csv\", sep=',', header='infer')\n",
    "y_source.index = X_source.index\n",
    "\n",
    "# Apply bins\n",
    "bin_source = y_source.apply(bins, axis=1)"
   ]
  },
  {
   "cell_type": "code",
   "execution_count": 328,
   "metadata": {
    "ExecuteTime": {
     "end_time": "2019-01-10T17:22:48.281844Z",
     "start_time": "2019-01-10T17:22:48.101873Z"
    }
   },
   "outputs": [
    {
     "data": {
      "text/plain": [
       "Text(0.5,1,'Frequency of Organics Weight Fraction Bins')"
      ]
     },
     "execution_count": 328,
     "metadata": {},
     "output_type": "execute_result"
    },
    {
     "data": {
      "image/png": "[encoded data removed]",
      "text/plain": [
       "<Figure size 432x288 with 1 Axes>"
      ]
     },
     "metadata": {},
     "output_type": "display_data"
    }
   ],
   "source": [
    "bin_source.value_counts().plot(kind='bar')\n",
    "plt.title('Frequency of Organics Weight Fraction Bins')"
   ]
  },
  {
   "cell_type": "code",
   "execution_count": 329,
   "metadata": {
    "ExecuteTime": {
     "end_time": "2019-01-10T17:22:52.202512Z",
     "start_time": "2019-01-10T17:22:52.178077Z"
    },
    "collapsed": true
   },
   "outputs": [],
   "source": [
    "# Use label encoder to make bins compatible with Scikit-Learn\n",
    "bin_source = le.fit_transform(bin_source)"
   ]
  },
  {
   "cell_type": "markdown",
   "metadata": {
    "ExecuteTime": {
     "end_time": "2018-07-31T20:29:35.081047Z",
     "start_time": "2018-07-31T20:29:35.076307Z"
    }
   },
   "source": [
    "## Data frames"
   ]
  },
  {
   "cell_type": "markdown",
   "metadata": {
    "ExecuteTime": {
     "end_time": "2018-12-14T18:14:07.512582Z",
     "start_time": "2018-12-14T18:14:07.505735Z"
    }
   },
   "source": [
    "### 1:200 ENM-organics data"
   ]
  },
  {
   "cell_type": "code",
   "execution_count": 164,
   "metadata": {
    "ExecuteTime": {
     "end_time": "2019-01-09T07:35:25.649643Z",
     "start_time": "2019-01-09T07:35:25.614144Z"
    }
   },
   "outputs": [
    {
     "name": "stdout",
     "output_type": "stream",
     "text": [
      "(16436, 39)\n",
      "(16436,)\n"
     ]
    }
   ],
   "source": [
    "# ENM and all organics data stacked, respectively\n",
    "X_all = pd.concat([X_enm, X_source], sort=False)\n",
    "bin_all = np.concatenate([bin_enm, bin_source])\n",
    "\n",
    "print(X_all.shape)\n",
    "print(bin_all.shape)"
   ]
  },
  {
   "cell_type": "code",
   "execution_count": 165,
   "metadata": {
    "ExecuteTime": {
     "end_time": "2019-01-09T07:35:29.473640Z",
     "start_time": "2019-01-09T07:35:29.428418Z"
    }
   },
   "outputs": [
    {
     "data": {
      "text/html": [
       "<div>\n",
       "<style scoped>\n",
       "    .dataframe tbody tr th:only-of-type {\n",
       "        vertical-align: middle;\n",
       "    }\n",
       "\n",
       "    .dataframe tbody tr th {\n",
       "        vertical-align: top;\n",
       "    }\n",
       "\n",
       "    .dataframe thead th {\n",
       "        text-align: right;\n",
       "    }\n",
       "</style>\n",
       "<table border=\"1\" class=\"dataframe\">\n",
       "  <thead>\n",
       "    <tr style=\"text-align: right;\">\n",
       "      <th></th>\n",
       "      <th>propMW</th>\n",
       "      <th>propMP</th>\n",
       "      <th>propBP</th>\n",
       "      <th>propLogDensity</th>\n",
       "      <th>0</th>\n",
       "      <th>1</th>\n",
       "      <th>2</th>\n",
       "      <th>3</th>\n",
       "      <th>4</th>\n",
       "      <th>5</th>\n",
       "      <th>...</th>\n",
       "      <th>group_facialcleansingandmoisturizing</th>\n",
       "      <th>group_fungicide</th>\n",
       "      <th>group_generalhouseholdcleaning</th>\n",
       "      <th>group_generalmoisturizing</th>\n",
       "      <th>group_makeupandrelated</th>\n",
       "      <th>group_paintstainandrelatedproducts</th>\n",
       "      <th>group_sunscreen</th>\n",
       "      <th>group_surfacesealers</th>\n",
       "      <th>refined_spray</th>\n",
       "      <th>matrix_F</th>\n",
       "    </tr>\n",
       "  </thead>\n",
       "  <tbody>\n",
       "    <tr>\n",
       "      <th>0</th>\n",
       "      <td>79.867</td>\n",
       "      <td>1843.00</td>\n",
       "      <td>2972.0</td>\n",
       "      <td>0.626340</td>\n",
       "      <td>0.5</td>\n",
       "      <td>0.0</td>\n",
       "      <td>0.0</td>\n",
       "      <td>0.0</td>\n",
       "      <td>0.0</td>\n",
       "      <td>1.0</td>\n",
       "      <td>...</td>\n",
       "      <td>0</td>\n",
       "      <td>0</td>\n",
       "      <td>0</td>\n",
       "      <td>0</td>\n",
       "      <td>0</td>\n",
       "      <td>1</td>\n",
       "      <td>0</td>\n",
       "      <td>0</td>\n",
       "      <td>0</td>\n",
       "      <td>1</td>\n",
       "    </tr>\n",
       "    <tr>\n",
       "      <th>1</th>\n",
       "      <td>63.546</td>\n",
       "      <td>1083.00</td>\n",
       "      <td>2567.0</td>\n",
       "      <td>0.952308</td>\n",
       "      <td>0.0</td>\n",
       "      <td>0.0</td>\n",
       "      <td>0.0</td>\n",
       "      <td>0.0</td>\n",
       "      <td>0.0</td>\n",
       "      <td>0.0</td>\n",
       "      <td>...</td>\n",
       "      <td>0</td>\n",
       "      <td>0</td>\n",
       "      <td>0</td>\n",
       "      <td>0</td>\n",
       "      <td>0</td>\n",
       "      <td>0</td>\n",
       "      <td>0</td>\n",
       "      <td>0</td>\n",
       "      <td>0</td>\n",
       "      <td>1</td>\n",
       "    </tr>\n",
       "    <tr>\n",
       "      <th>2</th>\n",
       "      <td>65.370</td>\n",
       "      <td>419.53</td>\n",
       "      <td>907.0</td>\n",
       "      <td>0.853698</td>\n",
       "      <td>0.0</td>\n",
       "      <td>0.0</td>\n",
       "      <td>0.0</td>\n",
       "      <td>0.0</td>\n",
       "      <td>0.0</td>\n",
       "      <td>0.0</td>\n",
       "      <td>...</td>\n",
       "      <td>0</td>\n",
       "      <td>0</td>\n",
       "      <td>0</td>\n",
       "      <td>0</td>\n",
       "      <td>0</td>\n",
       "      <td>0</td>\n",
       "      <td>0</td>\n",
       "      <td>0</td>\n",
       "      <td>0</td>\n",
       "      <td>1</td>\n",
       "    </tr>\n",
       "    <tr>\n",
       "      <th>3</th>\n",
       "      <td>107.868</td>\n",
       "      <td>961.78</td>\n",
       "      <td>2162.0</td>\n",
       "      <td>1.014730</td>\n",
       "      <td>0.0</td>\n",
       "      <td>0.0</td>\n",
       "      <td>0.0</td>\n",
       "      <td>0.0</td>\n",
       "      <td>0.0</td>\n",
       "      <td>0.0</td>\n",
       "      <td>...</td>\n",
       "      <td>1</td>\n",
       "      <td>0</td>\n",
       "      <td>0</td>\n",
       "      <td>0</td>\n",
       "      <td>0</td>\n",
       "      <td>0</td>\n",
       "      <td>0</td>\n",
       "      <td>0</td>\n",
       "      <td>0</td>\n",
       "      <td>1</td>\n",
       "    </tr>\n",
       "  </tbody>\n",
       "</table>\n",
       "<p>4 rows × 39 columns</p>\n",
       "</div>"
      ],
      "text/plain": [
       "    propMW   propMP  propBP  propLogDensity    0    1    2    3    4    5  \\\n",
       "0   79.867  1843.00  2972.0        0.626340  0.5  0.0  0.0  0.0  0.0  1.0   \n",
       "1   63.546  1083.00  2567.0        0.952308  0.0  0.0  0.0  0.0  0.0  0.0   \n",
       "2   65.370   419.53   907.0        0.853698  0.0  0.0  0.0  0.0  0.0  0.0   \n",
       "3  107.868   961.78  2162.0        1.014730  0.0  0.0  0.0  0.0  0.0  0.0   \n",
       "\n",
       "     ...     group_facialcleansingandmoisturizing  group_fungicide  \\\n",
       "0    ...                                        0                0   \n",
       "1    ...                                        0                0   \n",
       "2    ...                                        0                0   \n",
       "3    ...                                        1                0   \n",
       "\n",
       "   group_generalhouseholdcleaning  group_generalmoisturizing  \\\n",
       "0                               0                          0   \n",
       "1                               0                          0   \n",
       "2                               0                          0   \n",
       "3                               0                          0   \n",
       "\n",
       "   group_makeupandrelated  group_paintstainandrelatedproducts  \\\n",
       "0                       0                                   1   \n",
       "1                       0                                   0   \n",
       "2                       0                                   0   \n",
       "3                       0                                   0   \n",
       "\n",
       "   group_sunscreen  group_surfacesealers  refined_spray  matrix_F  \n",
       "0                0                     0              0         1  \n",
       "1                0                     0              0         1  \n",
       "2                0                     0              0         1  \n",
       "3                0                     0              0         1  \n",
       "\n",
       "[4 rows x 39 columns]"
      ]
     },
     "execution_count": 165,
     "metadata": {},
     "output_type": "execute_result"
    }
   ],
   "source": [
    "X_all.head(4)"
   ]
  },
  {
   "cell_type": "code",
   "execution_count": 166,
   "metadata": {
    "ExecuteTime": {
     "end_time": "2019-01-09T07:35:31.363639Z",
     "start_time": "2019-01-09T07:35:31.338059Z"
    }
   },
   "outputs": [
    {
     "data": {
      "text/plain": [
       "array([0, 0, 1, 1, 1, 1, 1, 1, 1, 1, 2, 1, 1, 1, 1, 1, 1, 1, 1, 0])"
      ]
     },
     "execution_count": 166,
     "metadata": {},
     "output_type": "execute_result"
    }
   ],
   "source": [
    "bin_all[80:100,]"
   ]
  },
  {
   "cell_type": "markdown",
   "metadata": {},
   "source": [
    "### 1:100 ENM-organics data"
   ]
  },
  {
   "cell_type": "code",
   "execution_count": 297,
   "metadata": {
    "ExecuteTime": {
     "end_time": "2019-01-10T01:53:58.632180Z",
     "start_time": "2019-01-10T01:53:58.581481Z"
    }
   },
   "outputs": [
    {
     "name": "stdout",
     "output_type": "stream",
     "text": [
      "(8200, 39)\n",
      "(8200, 1)\n"
     ]
    }
   ],
   "source": [
    "# Randomly sample 50% of organics data\n",
    "X_oneto100 = X_source.reset_index(drop=True).sample(n=8200, replace=False, random_state=37, axis=0)\n",
    "idx = X_oneto100.index.tolist()\n",
    "\n",
    "bin_oneto100 = pd.DataFrame(bin_source)\n",
    "bin_oneto100 = bin_oneto100.loc[bin_oneto100.index[idx]]\n",
    "\n",
    "print(X_oneto100.shape)\n",
    "print(bin_oneto100.shape)"
   ]
  },
  {
   "cell_type": "code",
   "execution_count": 298,
   "metadata": {
    "ExecuteTime": {
     "end_time": "2019-01-10T01:53:59.275118Z",
     "start_time": "2019-01-10T01:53:59.222547Z"
    }
   },
   "outputs": [
    {
     "data": {
      "text/html": [
       "<div>\n",
       "<style scoped>\n",
       "    .dataframe tbody tr th:only-of-type {\n",
       "        vertical-align: middle;\n",
       "    }\n",
       "\n",
       "    .dataframe tbody tr th {\n",
       "        vertical-align: top;\n",
       "    }\n",
       "\n",
       "    .dataframe thead th {\n",
       "        text-align: right;\n",
       "    }\n",
       "</style>\n",
       "<table border=\"1\" class=\"dataframe\">\n",
       "  <thead>\n",
       "    <tr style=\"text-align: right;\">\n",
       "      <th></th>\n",
       "      <th>propMW</th>\n",
       "      <th>propMP</th>\n",
       "      <th>propBP</th>\n",
       "      <th>propLogDensity</th>\n",
       "      <th>0</th>\n",
       "      <th>1</th>\n",
       "      <th>2</th>\n",
       "      <th>3</th>\n",
       "      <th>4</th>\n",
       "      <th>5</th>\n",
       "      <th>...</th>\n",
       "      <th>group_facialcleansingandmoisturizing</th>\n",
       "      <th>group_fungicide</th>\n",
       "      <th>group_generalhouseholdcleaning</th>\n",
       "      <th>group_generalmoisturizing</th>\n",
       "      <th>group_makeupandrelated</th>\n",
       "      <th>group_paintstainandrelatedproducts</th>\n",
       "      <th>group_sunscreen</th>\n",
       "      <th>group_surfacesealers</th>\n",
       "      <th>refined_spray</th>\n",
       "      <th>matrix_F</th>\n",
       "    </tr>\n",
       "  </thead>\n",
       "  <tbody>\n",
       "    <tr>\n",
       "      <th>3790</th>\n",
       "      <td>116.160</td>\n",
       "      <td>-75.87030</td>\n",
       "      <td>124.302500</td>\n",
       "      <td>-0.045757</td>\n",
       "      <td>0.0</td>\n",
       "      <td>0.0</td>\n",
       "      <td>0.0</td>\n",
       "      <td>0.0</td>\n",
       "      <td>0.0</td>\n",
       "      <td>0.0</td>\n",
       "      <td>...</td>\n",
       "      <td>0</td>\n",
       "      <td>0</td>\n",
       "      <td>0</td>\n",
       "      <td>0</td>\n",
       "      <td>0</td>\n",
       "      <td>0</td>\n",
       "      <td>0</td>\n",
       "      <td>0</td>\n",
       "      <td>0</td>\n",
       "      <td>1</td>\n",
       "    </tr>\n",
       "    <tr>\n",
       "      <th>8998</th>\n",
       "      <td>92.094</td>\n",
       "      <td>41.33495</td>\n",
       "      <td>267.430500</td>\n",
       "      <td>0.070407</td>\n",
       "      <td>0.5</td>\n",
       "      <td>0.0</td>\n",
       "      <td>1.0</td>\n",
       "      <td>0.0</td>\n",
       "      <td>0.0</td>\n",
       "      <td>0.0</td>\n",
       "      <td>...</td>\n",
       "      <td>0</td>\n",
       "      <td>0</td>\n",
       "      <td>0</td>\n",
       "      <td>0</td>\n",
       "      <td>0</td>\n",
       "      <td>0</td>\n",
       "      <td>0</td>\n",
       "      <td>0</td>\n",
       "      <td>0</td>\n",
       "      <td>1</td>\n",
       "    </tr>\n",
       "    <tr>\n",
       "      <th>12985</th>\n",
       "      <td>58.080</td>\n",
       "      <td>-75.59565</td>\n",
       "      <td>44.936750</td>\n",
       "      <td>-0.077275</td>\n",
       "      <td>0.0</td>\n",
       "      <td>0.0</td>\n",
       "      <td>0.0</td>\n",
       "      <td>0.0</td>\n",
       "      <td>0.0</td>\n",
       "      <td>0.0</td>\n",
       "      <td>...</td>\n",
       "      <td>0</td>\n",
       "      <td>0</td>\n",
       "      <td>0</td>\n",
       "      <td>0</td>\n",
       "      <td>0</td>\n",
       "      <td>0</td>\n",
       "      <td>0</td>\n",
       "      <td>0</td>\n",
       "      <td>0</td>\n",
       "      <td>1</td>\n",
       "    </tr>\n",
       "    <tr>\n",
       "      <th>13998</th>\n",
       "      <td>58.124</td>\n",
       "      <td>-122.01950</td>\n",
       "      <td>-0.131515</td>\n",
       "      <td>-0.159267</td>\n",
       "      <td>0.0</td>\n",
       "      <td>0.0</td>\n",
       "      <td>0.0</td>\n",
       "      <td>0.0</td>\n",
       "      <td>0.0</td>\n",
       "      <td>0.0</td>\n",
       "      <td>...</td>\n",
       "      <td>0</td>\n",
       "      <td>0</td>\n",
       "      <td>0</td>\n",
       "      <td>0</td>\n",
       "      <td>0</td>\n",
       "      <td>0</td>\n",
       "      <td>0</td>\n",
       "      <td>0</td>\n",
       "      <td>0</td>\n",
       "      <td>1</td>\n",
       "    </tr>\n",
       "    <tr>\n",
       "      <th>2788</th>\n",
       "      <td>178.228</td>\n",
       "      <td>-38.99625</td>\n",
       "      <td>251.387000</td>\n",
       "      <td>0.011147</td>\n",
       "      <td>0.0</td>\n",
       "      <td>0.0</td>\n",
       "      <td>0.0</td>\n",
       "      <td>0.0</td>\n",
       "      <td>0.0</td>\n",
       "      <td>0.0</td>\n",
       "      <td>...</td>\n",
       "      <td>0</td>\n",
       "      <td>0</td>\n",
       "      <td>0</td>\n",
       "      <td>0</td>\n",
       "      <td>0</td>\n",
       "      <td>0</td>\n",
       "      <td>0</td>\n",
       "      <td>0</td>\n",
       "      <td>0</td>\n",
       "      <td>1</td>\n",
       "    </tr>\n",
       "  </tbody>\n",
       "</table>\n",
       "<p>5 rows × 39 columns</p>\n",
       "</div>"
      ],
      "text/plain": [
       "        propMW     propMP      propBP  propLogDensity    0    1    2    3  \\\n",
       "3790   116.160  -75.87030  124.302500       -0.045757  0.0  0.0  0.0  0.0   \n",
       "8998    92.094   41.33495  267.430500        0.070407  0.5  0.0  1.0  0.0   \n",
       "12985   58.080  -75.59565   44.936750       -0.077275  0.0  0.0  0.0  0.0   \n",
       "13998   58.124 -122.01950   -0.131515       -0.159267  0.0  0.0  0.0  0.0   \n",
       "2788   178.228  -38.99625  251.387000        0.011147  0.0  0.0  0.0  0.0   \n",
       "\n",
       "         4    5    ...     group_facialcleansingandmoisturizing  \\\n",
       "3790   0.0  0.0    ...                                        0   \n",
       "8998   0.0  0.0    ...                                        0   \n",
       "12985  0.0  0.0    ...                                        0   \n",
       "13998  0.0  0.0    ...                                        0   \n",
       "2788   0.0  0.0    ...                                        0   \n",
       "\n",
       "       group_fungicide  group_generalhouseholdcleaning  \\\n",
       "3790                 0                               0   \n",
       "8998                 0                               0   \n",
       "12985                0                               0   \n",
       "13998                0                               0   \n",
       "2788                 0                               0   \n",
       "\n",
       "       group_generalmoisturizing  group_makeupandrelated  \\\n",
       "3790                           0                       0   \n",
       "8998                           0                       0   \n",
       "12985                          0                       0   \n",
       "13998                          0                       0   \n",
       "2788                           0                       0   \n",
       "\n",
       "       group_paintstainandrelatedproducts  group_sunscreen  \\\n",
       "3790                                    0                0   \n",
       "8998                                    0                0   \n",
       "12985                                   0                0   \n",
       "13998                                   0                0   \n",
       "2788                                    0                0   \n",
       "\n",
       "       group_surfacesealers  refined_spray  matrix_F  \n",
       "3790                      0              0         1  \n",
       "8998                      0              0         1  \n",
       "12985                     0              0         1  \n",
       "13998                     0              0         1  \n",
       "2788                      0              0         1  \n",
       "\n",
       "[5 rows x 39 columns]"
      ]
     },
     "execution_count": 298,
     "metadata": {},
     "output_type": "execute_result"
    }
   ],
   "source": [
    "X_oneto100.head(5)"
   ]
  },
  {
   "cell_type": "code",
   "execution_count": 299,
   "metadata": {
    "ExecuteTime": {
     "end_time": "2019-01-10T01:53:59.948671Z",
     "start_time": "2019-01-10T01:53:59.916151Z"
    }
   },
   "outputs": [
    {
     "data": {
      "text/html": [
       "<div>\n",
       "<style scoped>\n",
       "    .dataframe tbody tr th:only-of-type {\n",
       "        vertical-align: middle;\n",
       "    }\n",
       "\n",
       "    .dataframe tbody tr th {\n",
       "        vertical-align: top;\n",
       "    }\n",
       "\n",
       "    .dataframe thead th {\n",
       "        text-align: right;\n",
       "    }\n",
       "</style>\n",
       "<table border=\"1\" class=\"dataframe\">\n",
       "  <thead>\n",
       "    <tr style=\"text-align: right;\">\n",
       "      <th></th>\n",
       "      <th>0</th>\n",
       "    </tr>\n",
       "  </thead>\n",
       "  <tbody>\n",
       "    <tr>\n",
       "      <th>3790</th>\n",
       "      <td>2</td>\n",
       "    </tr>\n",
       "    <tr>\n",
       "      <th>8998</th>\n",
       "      <td>2</td>\n",
       "    </tr>\n",
       "    <tr>\n",
       "      <th>12985</th>\n",
       "      <td>2</td>\n",
       "    </tr>\n",
       "    <tr>\n",
       "      <th>13998</th>\n",
       "      <td>1</td>\n",
       "    </tr>\n",
       "    <tr>\n",
       "      <th>2788</th>\n",
       "      <td>2</td>\n",
       "    </tr>\n",
       "  </tbody>\n",
       "</table>\n",
       "</div>"
      ],
      "text/plain": [
       "       0\n",
       "3790   2\n",
       "8998   2\n",
       "12985  2\n",
       "13998  1\n",
       "2788   2"
      ]
     },
     "execution_count": 299,
     "metadata": {},
     "output_type": "execute_result"
    }
   ],
   "source": [
    "bin_oneto100.head(5)"
   ]
  },
  {
   "cell_type": "code",
   "execution_count": 300,
   "metadata": {
    "ExecuteTime": {
     "end_time": "2019-01-10T01:54:01.130875Z",
     "start_time": "2019-01-10T01:54:01.099112Z"
    }
   },
   "outputs": [
    {
     "data": {
      "text/plain": [
       "{0: 1082, 1: 4743, 2: 2375}"
      ]
     },
     "execution_count": 300,
     "metadata": {},
     "output_type": "execute_result"
    }
   ],
   "source": [
    "unique, counts = np.unique(bin_oneto100, return_counts=True)\n",
    "dict(zip(unique, counts))"
   ]
  },
  {
   "cell_type": "code",
   "execution_count": 301,
   "metadata": {
    "ExecuteTime": {
     "end_time": "2019-01-10T01:54:03.186182Z",
     "start_time": "2019-01-10T01:54:03.148732Z"
    }
   },
   "outputs": [
    {
     "name": "stdout",
     "output_type": "stream",
     "text": [
      "(8282, 39)\n",
      "(8282, 1)\n"
     ]
    }
   ],
   "source": [
    "# Append sampled organics data to ENM data\n",
    "X_oneto100 = pd.concat([X_enm, X_oneto100], sort=False)\n",
    "\n",
    "bin_oneto100 = pd.concat([pd.DataFrame(bin_enm), bin_oneto100], sort=False)\n",
    "bin_oneto100.columns = ['maximum_weight_fraction']\n",
    "\n",
    "print(X_oneto100.shape)\n",
    "print(bin_oneto100.shape)"
   ]
  },
  {
   "cell_type": "code",
   "execution_count": 302,
   "metadata": {
    "ExecuteTime": {
     "end_time": "2019-01-10T01:54:05.927498Z",
     "start_time": "2019-01-10T01:54:05.876810Z"
    }
   },
   "outputs": [
    {
     "data": {
      "text/html": [
       "<div>\n",
       "<style scoped>\n",
       "    .dataframe tbody tr th:only-of-type {\n",
       "        vertical-align: middle;\n",
       "    }\n",
       "\n",
       "    .dataframe tbody tr th {\n",
       "        vertical-align: top;\n",
       "    }\n",
       "\n",
       "    .dataframe thead th {\n",
       "        text-align: right;\n",
       "    }\n",
       "</style>\n",
       "<table border=\"1\" class=\"dataframe\">\n",
       "  <thead>\n",
       "    <tr style=\"text-align: right;\">\n",
       "      <th></th>\n",
       "      <th>propMW</th>\n",
       "      <th>propMP</th>\n",
       "      <th>propBP</th>\n",
       "      <th>propLogDensity</th>\n",
       "      <th>0</th>\n",
       "      <th>1</th>\n",
       "      <th>2</th>\n",
       "      <th>3</th>\n",
       "      <th>4</th>\n",
       "      <th>5</th>\n",
       "      <th>...</th>\n",
       "      <th>group_facialcleansingandmoisturizing</th>\n",
       "      <th>group_fungicide</th>\n",
       "      <th>group_generalhouseholdcleaning</th>\n",
       "      <th>group_generalmoisturizing</th>\n",
       "      <th>group_makeupandrelated</th>\n",
       "      <th>group_paintstainandrelatedproducts</th>\n",
       "      <th>group_sunscreen</th>\n",
       "      <th>group_surfacesealers</th>\n",
       "      <th>refined_spray</th>\n",
       "      <th>matrix_F</th>\n",
       "    </tr>\n",
       "  </thead>\n",
       "  <tbody>\n",
       "    <tr>\n",
       "      <th>80</th>\n",
       "      <td>79.867</td>\n",
       "      <td>1843.00000</td>\n",
       "      <td>2972.00000</td>\n",
       "      <td>0.626340</td>\n",
       "      <td>0.0</td>\n",
       "      <td>0.0</td>\n",
       "      <td>0.0</td>\n",
       "      <td>0.0</td>\n",
       "      <td>0.0</td>\n",
       "      <td>1.0</td>\n",
       "      <td>...</td>\n",
       "      <td>0</td>\n",
       "      <td>0</td>\n",
       "      <td>0</td>\n",
       "      <td>0</td>\n",
       "      <td>0</td>\n",
       "      <td>0</td>\n",
       "      <td>1</td>\n",
       "      <td>0</td>\n",
       "      <td>1</td>\n",
       "      <td>1</td>\n",
       "    </tr>\n",
       "    <tr>\n",
       "      <th>81</th>\n",
       "      <td>107.868</td>\n",
       "      <td>961.78000</td>\n",
       "      <td>2162.00000</td>\n",
       "      <td>1.014730</td>\n",
       "      <td>0.0</td>\n",
       "      <td>0.0</td>\n",
       "      <td>0.0</td>\n",
       "      <td>0.0</td>\n",
       "      <td>0.0</td>\n",
       "      <td>0.0</td>\n",
       "      <td>...</td>\n",
       "      <td>0</td>\n",
       "      <td>0</td>\n",
       "      <td>0</td>\n",
       "      <td>0</td>\n",
       "      <td>0</td>\n",
       "      <td>0</td>\n",
       "      <td>0</td>\n",
       "      <td>0</td>\n",
       "      <td>1</td>\n",
       "      <td>1</td>\n",
       "    </tr>\n",
       "    <tr>\n",
       "      <th>3790</th>\n",
       "      <td>116.160</td>\n",
       "      <td>-75.87030</td>\n",
       "      <td>124.30250</td>\n",
       "      <td>-0.045757</td>\n",
       "      <td>0.0</td>\n",
       "      <td>0.0</td>\n",
       "      <td>0.0</td>\n",
       "      <td>0.0</td>\n",
       "      <td>0.0</td>\n",
       "      <td>0.0</td>\n",
       "      <td>...</td>\n",
       "      <td>0</td>\n",
       "      <td>0</td>\n",
       "      <td>0</td>\n",
       "      <td>0</td>\n",
       "      <td>0</td>\n",
       "      <td>0</td>\n",
       "      <td>0</td>\n",
       "      <td>0</td>\n",
       "      <td>0</td>\n",
       "      <td>1</td>\n",
       "    </tr>\n",
       "    <tr>\n",
       "      <th>8998</th>\n",
       "      <td>92.094</td>\n",
       "      <td>41.33495</td>\n",
       "      <td>267.43050</td>\n",
       "      <td>0.070407</td>\n",
       "      <td>0.5</td>\n",
       "      <td>0.0</td>\n",
       "      <td>1.0</td>\n",
       "      <td>0.0</td>\n",
       "      <td>0.0</td>\n",
       "      <td>0.0</td>\n",
       "      <td>...</td>\n",
       "      <td>0</td>\n",
       "      <td>0</td>\n",
       "      <td>0</td>\n",
       "      <td>0</td>\n",
       "      <td>0</td>\n",
       "      <td>0</td>\n",
       "      <td>0</td>\n",
       "      <td>0</td>\n",
       "      <td>0</td>\n",
       "      <td>1</td>\n",
       "    </tr>\n",
       "    <tr>\n",
       "      <th>12985</th>\n",
       "      <td>58.080</td>\n",
       "      <td>-75.59565</td>\n",
       "      <td>44.93675</td>\n",
       "      <td>-0.077275</td>\n",
       "      <td>0.0</td>\n",
       "      <td>0.0</td>\n",
       "      <td>0.0</td>\n",
       "      <td>0.0</td>\n",
       "      <td>0.0</td>\n",
       "      <td>0.0</td>\n",
       "      <td>...</td>\n",
       "      <td>0</td>\n",
       "      <td>0</td>\n",
       "      <td>0</td>\n",
       "      <td>0</td>\n",
       "      <td>0</td>\n",
       "      <td>0</td>\n",
       "      <td>0</td>\n",
       "      <td>0</td>\n",
       "      <td>0</td>\n",
       "      <td>1</td>\n",
       "    </tr>\n",
       "  </tbody>\n",
       "</table>\n",
       "<p>5 rows × 39 columns</p>\n",
       "</div>"
      ],
      "text/plain": [
       "        propMW      propMP      propBP  propLogDensity    0    1    2    3  \\\n",
       "80      79.867  1843.00000  2972.00000        0.626340  0.0  0.0  0.0  0.0   \n",
       "81     107.868   961.78000  2162.00000        1.014730  0.0  0.0  0.0  0.0   \n",
       "3790   116.160   -75.87030   124.30250       -0.045757  0.0  0.0  0.0  0.0   \n",
       "8998    92.094    41.33495   267.43050        0.070407  0.5  0.0  1.0  0.0   \n",
       "12985   58.080   -75.59565    44.93675       -0.077275  0.0  0.0  0.0  0.0   \n",
       "\n",
       "         4    5    ...     group_facialcleansingandmoisturizing  \\\n",
       "80     0.0  1.0    ...                                        0   \n",
       "81     0.0  0.0    ...                                        0   \n",
       "3790   0.0  0.0    ...                                        0   \n",
       "8998   0.0  0.0    ...                                        0   \n",
       "12985  0.0  0.0    ...                                        0   \n",
       "\n",
       "       group_fungicide  group_generalhouseholdcleaning  \\\n",
       "80                   0                               0   \n",
       "81                   0                               0   \n",
       "3790                 0                               0   \n",
       "8998                 0                               0   \n",
       "12985                0                               0   \n",
       "\n",
       "       group_generalmoisturizing  group_makeupandrelated  \\\n",
       "80                             0                       0   \n",
       "81                             0                       0   \n",
       "3790                           0                       0   \n",
       "8998                           0                       0   \n",
       "12985                          0                       0   \n",
       "\n",
       "       group_paintstainandrelatedproducts  group_sunscreen  \\\n",
       "80                                      0                1   \n",
       "81                                      0                0   \n",
       "3790                                    0                0   \n",
       "8998                                    0                0   \n",
       "12985                                   0                0   \n",
       "\n",
       "       group_surfacesealers  refined_spray  matrix_F  \n",
       "80                        0              1         1  \n",
       "81                        0              1         1  \n",
       "3790                      0              0         1  \n",
       "8998                      0              0         1  \n",
       "12985                     0              0         1  \n",
       "\n",
       "[5 rows x 39 columns]"
      ]
     },
     "execution_count": 302,
     "metadata": {},
     "output_type": "execute_result"
    }
   ],
   "source": [
    "X_oneto100.iloc[80:85,:]"
   ]
  },
  {
   "cell_type": "code",
   "execution_count": 303,
   "metadata": {
    "ExecuteTime": {
     "end_time": "2019-01-10T01:54:08.485142Z",
     "start_time": "2019-01-10T01:54:08.452258Z"
    }
   },
   "outputs": [
    {
     "data": {
      "text/html": [
       "<div>\n",
       "<style scoped>\n",
       "    .dataframe tbody tr th:only-of-type {\n",
       "        vertical-align: middle;\n",
       "    }\n",
       "\n",
       "    .dataframe tbody tr th {\n",
       "        vertical-align: top;\n",
       "    }\n",
       "\n",
       "    .dataframe thead th {\n",
       "        text-align: right;\n",
       "    }\n",
       "</style>\n",
       "<table border=\"1\" class=\"dataframe\">\n",
       "  <thead>\n",
       "    <tr style=\"text-align: right;\">\n",
       "      <th></th>\n",
       "      <th>maximum_weight_fraction</th>\n",
       "    </tr>\n",
       "  </thead>\n",
       "  <tbody>\n",
       "    <tr>\n",
       "      <th>80</th>\n",
       "      <td>0</td>\n",
       "    </tr>\n",
       "    <tr>\n",
       "      <th>81</th>\n",
       "      <td>0</td>\n",
       "    </tr>\n",
       "    <tr>\n",
       "      <th>3790</th>\n",
       "      <td>2</td>\n",
       "    </tr>\n",
       "    <tr>\n",
       "      <th>8998</th>\n",
       "      <td>2</td>\n",
       "    </tr>\n",
       "    <tr>\n",
       "      <th>12985</th>\n",
       "      <td>2</td>\n",
       "    </tr>\n",
       "  </tbody>\n",
       "</table>\n",
       "</div>"
      ],
      "text/plain": [
       "       maximum_weight_fraction\n",
       "80                           0\n",
       "81                           0\n",
       "3790                         2\n",
       "8998                         2\n",
       "12985                        2"
      ]
     },
     "execution_count": 303,
     "metadata": {},
     "output_type": "execute_result"
    }
   ],
   "source": [
    "bin_oneto100.iloc[80:85,:]"
   ]
  },
  {
   "cell_type": "markdown",
   "metadata": {},
   "source": [
    "### 1:50 ENM-organics data"
   ]
  },
  {
   "cell_type": "code",
   "execution_count": 331,
   "metadata": {
    "ExecuteTime": {
     "end_time": "2019-01-10T20:16:09.941664Z",
     "start_time": "2019-01-10T20:16:09.849229Z"
    }
   },
   "outputs": [
    {
     "name": "stdout",
     "output_type": "stream",
     "text": [
      "(4100, 39)\n",
      "(4100, 1)\n"
     ]
    }
   ],
   "source": [
    "# Randomly sample 25% of organics data\n",
    "X_oneto50 = X_source.reset_index(drop=True).sample(n=4100, replace=False, random_state=36, axis=0)\n",
    "idx = X_oneto50.index.tolist()\n",
    "\n",
    "bin_oneto50 = pd.DataFrame(bin_source)\n",
    "bin_oneto50 = bin_oneto50.loc[bin_oneto50.index[idx]]\n",
    "\n",
    "print(X_oneto50.shape)\n",
    "print(bin_oneto50.shape)"
   ]
  },
  {
   "cell_type": "code",
   "execution_count": 332,
   "metadata": {
    "ExecuteTime": {
     "end_time": "2019-01-10T20:16:15.509459Z",
     "start_time": "2019-01-10T20:16:15.467689Z"
    }
   },
   "outputs": [
    {
     "name": "stdout",
     "output_type": "stream",
     "text": [
      "(4182, 39)\n",
      "(4182,)\n"
     ]
    }
   ],
   "source": [
    "# Append sampled organics data to ENM data\n",
    "X_oneto50 = pd.concat([X_enm, X_oneto50], sort=False)\n",
    "\n",
    "bin_oneto50 = pd.concat([pd.DataFrame(bin_enm), bin_oneto50], sort=False)\n",
    "bin_oneto50.columns = ['maximum_weight_fraction']\n",
    "bin_oneto50 = bin_oneto50.values.ravel()\n",
    "\n",
    "print(X_oneto50.shape)\n",
    "print(bin_oneto50.shape)"
   ]
  },
  {
   "cell_type": "code",
   "execution_count": 37,
   "metadata": {
    "ExecuteTime": {
     "end_time": "2019-01-07T17:55:13.713401Z",
     "start_time": "2019-01-07T17:55:13.661899Z"
    }
   },
   "outputs": [
    {
     "data": {
      "text/html": [
       "<div>\n",
       "<style scoped>\n",
       "    .dataframe tbody tr th:only-of-type {\n",
       "        vertical-align: middle;\n",
       "    }\n",
       "\n",
       "    .dataframe tbody tr th {\n",
       "        vertical-align: top;\n",
       "    }\n",
       "\n",
       "    .dataframe thead th {\n",
       "        text-align: right;\n",
       "    }\n",
       "</style>\n",
       "<table border=\"1\" class=\"dataframe\">\n",
       "  <thead>\n",
       "    <tr style=\"text-align: right;\">\n",
       "      <th></th>\n",
       "      <th>propMW</th>\n",
       "      <th>propMP</th>\n",
       "      <th>propBP</th>\n",
       "      <th>propLogDensity</th>\n",
       "      <th>0</th>\n",
       "      <th>1</th>\n",
       "      <th>2</th>\n",
       "      <th>3</th>\n",
       "      <th>4</th>\n",
       "      <th>5</th>\n",
       "      <th>...</th>\n",
       "      <th>group_facialcleansingandmoisturizing</th>\n",
       "      <th>group_fungicide</th>\n",
       "      <th>group_generalhouseholdcleaning</th>\n",
       "      <th>group_generalmoisturizing</th>\n",
       "      <th>group_makeupandrelated</th>\n",
       "      <th>group_paintstainandrelatedproducts</th>\n",
       "      <th>group_sunscreen</th>\n",
       "      <th>group_surfacesealers</th>\n",
       "      <th>refined_spray</th>\n",
       "      <th>matrix_F</th>\n",
       "    </tr>\n",
       "  </thead>\n",
       "  <tbody>\n",
       "    <tr>\n",
       "      <th>80</th>\n",
       "      <td>79.867</td>\n",
       "      <td>1843.00000</td>\n",
       "      <td>2972.0000</td>\n",
       "      <td>0.626340</td>\n",
       "      <td>0.0</td>\n",
       "      <td>0.0</td>\n",
       "      <td>0.0</td>\n",
       "      <td>0.0</td>\n",
       "      <td>0.0</td>\n",
       "      <td>1.0</td>\n",
       "      <td>...</td>\n",
       "      <td>0</td>\n",
       "      <td>0</td>\n",
       "      <td>0</td>\n",
       "      <td>0</td>\n",
       "      <td>0</td>\n",
       "      <td>0</td>\n",
       "      <td>1</td>\n",
       "      <td>0</td>\n",
       "      <td>1</td>\n",
       "      <td>1</td>\n",
       "    </tr>\n",
       "    <tr>\n",
       "      <th>81</th>\n",
       "      <td>107.868</td>\n",
       "      <td>961.78000</td>\n",
       "      <td>2162.0000</td>\n",
       "      <td>1.014730</td>\n",
       "      <td>0.0</td>\n",
       "      <td>0.0</td>\n",
       "      <td>0.0</td>\n",
       "      <td>0.0</td>\n",
       "      <td>0.0</td>\n",
       "      <td>0.0</td>\n",
       "      <td>...</td>\n",
       "      <td>0</td>\n",
       "      <td>0</td>\n",
       "      <td>0</td>\n",
       "      <td>0</td>\n",
       "      <td>0</td>\n",
       "      <td>0</td>\n",
       "      <td>0</td>\n",
       "      <td>0</td>\n",
       "      <td>1</td>\n",
       "      <td>1</td>\n",
       "    </tr>\n",
       "    <tr>\n",
       "      <th>15304</th>\n",
       "      <td>232.400</td>\n",
       "      <td>151.66830</td>\n",
       "      <td>264.9810</td>\n",
       "      <td>0.349278</td>\n",
       "      <td>0.0</td>\n",
       "      <td>0.0</td>\n",
       "      <td>0.0</td>\n",
       "      <td>0.0</td>\n",
       "      <td>0.0</td>\n",
       "      <td>0.0</td>\n",
       "      <td>...</td>\n",
       "      <td>0</td>\n",
       "      <td>0</td>\n",
       "      <td>0</td>\n",
       "      <td>0</td>\n",
       "      <td>0</td>\n",
       "      <td>0</td>\n",
       "      <td>0</td>\n",
       "      <td>0</td>\n",
       "      <td>0</td>\n",
       "      <td>1</td>\n",
       "    </tr>\n",
       "    <tr>\n",
       "      <th>9189</th>\n",
       "      <td>92.094</td>\n",
       "      <td>41.33495</td>\n",
       "      <td>267.4305</td>\n",
       "      <td>0.070407</td>\n",
       "      <td>0.5</td>\n",
       "      <td>0.0</td>\n",
       "      <td>1.0</td>\n",
       "      <td>0.0</td>\n",
       "      <td>0.0</td>\n",
       "      <td>0.0</td>\n",
       "      <td>...</td>\n",
       "      <td>0</td>\n",
       "      <td>0</td>\n",
       "      <td>0</td>\n",
       "      <td>0</td>\n",
       "      <td>0</td>\n",
       "      <td>0</td>\n",
       "      <td>1</td>\n",
       "      <td>0</td>\n",
       "      <td>1</td>\n",
       "      <td>1</td>\n",
       "    </tr>\n",
       "    <tr>\n",
       "      <th>10251</th>\n",
       "      <td>472.754</td>\n",
       "      <td>41.37125</td>\n",
       "      <td>440.8335</td>\n",
       "      <td>-0.071092</td>\n",
       "      <td>0.0</td>\n",
       "      <td>0.0</td>\n",
       "      <td>0.5</td>\n",
       "      <td>0.0</td>\n",
       "      <td>0.0</td>\n",
       "      <td>0.0</td>\n",
       "      <td>...</td>\n",
       "      <td>0</td>\n",
       "      <td>0</td>\n",
       "      <td>0</td>\n",
       "      <td>0</td>\n",
       "      <td>1</td>\n",
       "      <td>0</td>\n",
       "      <td>0</td>\n",
       "      <td>0</td>\n",
       "      <td>0</td>\n",
       "      <td>1</td>\n",
       "    </tr>\n",
       "  </tbody>\n",
       "</table>\n",
       "<p>5 rows × 39 columns</p>\n",
       "</div>"
      ],
      "text/plain": [
       "        propMW      propMP     propBP  propLogDensity    0    1    2    3  \\\n",
       "80      79.867  1843.00000  2972.0000        0.626340  0.0  0.0  0.0  0.0   \n",
       "81     107.868   961.78000  2162.0000        1.014730  0.0  0.0  0.0  0.0   \n",
       "15304  232.400   151.66830   264.9810        0.349278  0.0  0.0  0.0  0.0   \n",
       "9189    92.094    41.33495   267.4305        0.070407  0.5  0.0  1.0  0.0   \n",
       "10251  472.754    41.37125   440.8335       -0.071092  0.0  0.0  0.5  0.0   \n",
       "\n",
       "         4    5    ...     group_facialcleansingandmoisturizing  \\\n",
       "80     0.0  1.0    ...                                        0   \n",
       "81     0.0  0.0    ...                                        0   \n",
       "15304  0.0  0.0    ...                                        0   \n",
       "9189   0.0  0.0    ...                                        0   \n",
       "10251  0.0  0.0    ...                                        0   \n",
       "\n",
       "       group_fungicide  group_generalhouseholdcleaning  \\\n",
       "80                   0                               0   \n",
       "81                   0                               0   \n",
       "15304                0                               0   \n",
       "9189                 0                               0   \n",
       "10251                0                               0   \n",
       "\n",
       "       group_generalmoisturizing  group_makeupandrelated  \\\n",
       "80                             0                       0   \n",
       "81                             0                       0   \n",
       "15304                          0                       0   \n",
       "9189                           0                       0   \n",
       "10251                          0                       1   \n",
       "\n",
       "       group_paintstainandrelatedproducts  group_sunscreen  \\\n",
       "80                                      0                1   \n",
       "81                                      0                0   \n",
       "15304                                   0                0   \n",
       "9189                                    0                1   \n",
       "10251                                   0                0   \n",
       "\n",
       "       group_surfacesealers  refined_spray  matrix_F  \n",
       "80                        0              1         1  \n",
       "81                        0              1         1  \n",
       "15304                     0              0         1  \n",
       "9189                      0              1         1  \n",
       "10251                     0              0         1  \n",
       "\n",
       "[5 rows x 39 columns]"
      ]
     },
     "execution_count": 37,
     "metadata": {},
     "output_type": "execute_result"
    }
   ],
   "source": [
    "X_oneto50.iloc[80:85,:]"
   ]
  },
  {
   "cell_type": "markdown",
   "metadata": {
    "ExecuteTime": {
     "end_time": "2018-12-14T18:14:35.272027Z",
     "start_time": "2018-12-14T18:14:35.264956Z"
    }
   },
   "source": [
    "### 1:20 ENM-organics data"
   ]
  },
  {
   "cell_type": "code",
   "execution_count": 39,
   "metadata": {
    "ExecuteTime": {
     "end_time": "2019-01-07T17:55:15.120790Z",
     "start_time": "2019-01-07T17:55:15.084552Z"
    }
   },
   "outputs": [
    {
     "name": "stdout",
     "output_type": "stream",
     "text": [
      "(1640, 39)\n",
      "(1640, 1)\n"
     ]
    }
   ],
   "source": [
    "# Randomly sample 10% of organics data\n",
    "X_oneto20 = X_source.reset_index(drop=True).sample(n=1640, replace=False, random_state=38, axis=0)\n",
    "idx = X_oneto20.index.tolist()\n",
    "\n",
    "bin_oneto20 = pd.DataFrame(bin_source)\n",
    "bin_oneto20 = bin_oneto20.loc[bin_oneto20.index[idx]]\n",
    "\n",
    "print(X_oneto20.shape)\n",
    "print(bin_oneto20.shape)"
   ]
  },
  {
   "cell_type": "code",
   "execution_count": 40,
   "metadata": {
    "ExecuteTime": {
     "end_time": "2019-01-07T17:55:15.642860Z",
     "start_time": "2019-01-07T17:55:15.599038Z"
    }
   },
   "outputs": [
    {
     "name": "stdout",
     "output_type": "stream",
     "text": [
      "(1722, 39)\n",
      "(1722,)\n"
     ]
    }
   ],
   "source": [
    "# Append sampled organics data to ENM data\n",
    "X_oneto20 = pd.concat([X_enm, X_oneto20], sort=False)\n",
    "\n",
    "bin_oneto20 = pd.concat([pd.DataFrame(bin_enm), bin_oneto20], sort=False)\n",
    "bin_oneto20.columns = ['maximum_weight_fraction']\n",
    "bin_oneto20 = bin_oneto20.values.ravel()\n",
    "\n",
    "print(X_oneto20.shape)\n",
    "print(bin_oneto20.shape)"
   ]
  },
  {
   "cell_type": "markdown",
   "metadata": {},
   "source": [
    "### 1:10 ENM-organics data"
   ]
  },
  {
   "cell_type": "code",
   "execution_count": 41,
   "metadata": {
    "ExecuteTime": {
     "end_time": "2019-01-07T17:55:16.522385Z",
     "start_time": "2019-01-07T17:55:16.482673Z"
    }
   },
   "outputs": [
    {
     "name": "stdout",
     "output_type": "stream",
     "text": [
      "(820, 39)\n",
      "(820, 1)\n"
     ]
    }
   ],
   "source": [
    "# Randomly sample 5% of organics data\n",
    "X_oneto10 = X_source.reset_index(drop=True).sample(n=820, replace=False, random_state=39, axis=0)\n",
    "idx = X_oneto10.index.tolist()\n",
    "\n",
    "bin_oneto10 = pd.DataFrame(bin_source)\n",
    "bin_oneto10 = bin_oneto10.loc[bin_oneto10.index[idx]]\n",
    "\n",
    "print(X_oneto10.shape)\n",
    "print(bin_oneto10.shape)"
   ]
  },
  {
   "cell_type": "code",
   "execution_count": 42,
   "metadata": {
    "ExecuteTime": {
     "end_time": "2019-01-07T17:55:17.080184Z",
     "start_time": "2019-01-07T17:55:17.042556Z"
    }
   },
   "outputs": [
    {
     "name": "stdout",
     "output_type": "stream",
     "text": [
      "(902, 39)\n",
      "(902,)\n",
      "<class 'numpy.ndarray'>\n"
     ]
    }
   ],
   "source": [
    "# Append sampled organics data to ENM data\n",
    "X_oneto10 = pd.concat([X_enm, X_oneto10], sort=False)\n",
    "\n",
    "bin_oneto10 = pd.concat([pd.DataFrame(bin_enm), bin_oneto10], sort=False)\n",
    "bin_oneto10.columns = ['maximum_weight_fraction']\n",
    "bin_oneto10 = bin_oneto10.values.ravel()\n",
    "\n",
    "print(X_oneto10.shape)\n",
    "print(bin_oneto10.shape)\n",
    "print(type(bin_oneto10))"
   ]
  },
  {
   "cell_type": "markdown",
   "metadata": {},
   "source": [
    "### 1:4 ENM-organics data"
   ]
  },
  {
   "cell_type": "code",
   "execution_count": 43,
   "metadata": {
    "ExecuteTime": {
     "end_time": "2019-01-07T17:55:18.204242Z",
     "start_time": "2019-01-07T17:55:18.156168Z"
    }
   },
   "outputs": [
    {
     "name": "stdout",
     "output_type": "stream",
     "text": [
      "(328, 39)\n",
      "(328, 1)\n"
     ]
    }
   ],
   "source": [
    "# Randomly sample 2% of organics data\n",
    "X_oneto4 = X_source.reset_index(drop=True).sample(n=328, replace=False, random_state=28, axis=0)\n",
    "idx = X_oneto4.index.tolist()\n",
    "\n",
    "bin_oneto4 = pd.DataFrame(bin_source)\n",
    "bin_oneto4 = bin_oneto4.loc[bin_oneto4.index[idx]]\n",
    "\n",
    "print(X_oneto4.shape)\n",
    "print(bin_oneto4.shape)"
   ]
  },
  {
   "cell_type": "code",
   "execution_count": 44,
   "metadata": {
    "ExecuteTime": {
     "end_time": "2019-01-07T17:55:18.728059Z",
     "start_time": "2019-01-07T17:55:18.682327Z"
    }
   },
   "outputs": [
    {
     "name": "stdout",
     "output_type": "stream",
     "text": [
      "(410, 39)\n",
      "(410,)\n"
     ]
    }
   ],
   "source": [
    "# Append sampled organics data to ENM data\n",
    "X_oneto4 = pd.concat([X_enm, X_oneto4], sort=False)\n",
    "\n",
    "bin_oneto4 = pd.concat([pd.DataFrame(bin_enm), bin_oneto4], sort=False)\n",
    "bin_oneto4.columns = ['maximum_weight_fraction']\n",
    "bin_oneto4 = bin_oneto4.values.ravel()\n",
    "\n",
    "print(X_oneto4.shape)\n",
    "print(bin_oneto4.shape)"
   ]
  },
  {
   "cell_type": "code",
   "execution_count": 45,
   "metadata": {
    "ExecuteTime": {
     "end_time": "2019-01-07T17:55:19.437978Z",
     "start_time": "2019-01-07T17:55:19.378149Z"
    }
   },
   "outputs": [
    {
     "data": {
      "text/html": [
       "<div>\n",
       "<style scoped>\n",
       "    .dataframe tbody tr th:only-of-type {\n",
       "        vertical-align: middle;\n",
       "    }\n",
       "\n",
       "    .dataframe tbody tr th {\n",
       "        vertical-align: top;\n",
       "    }\n",
       "\n",
       "    .dataframe thead th {\n",
       "        text-align: right;\n",
       "    }\n",
       "</style>\n",
       "<table border=\"1\" class=\"dataframe\">\n",
       "  <thead>\n",
       "    <tr style=\"text-align: right;\">\n",
       "      <th></th>\n",
       "      <th>propMW</th>\n",
       "      <th>propMP</th>\n",
       "      <th>propBP</th>\n",
       "      <th>propLogDensity</th>\n",
       "      <th>0</th>\n",
       "      <th>1</th>\n",
       "      <th>2</th>\n",
       "      <th>3</th>\n",
       "      <th>4</th>\n",
       "      <th>5</th>\n",
       "      <th>...</th>\n",
       "      <th>group_facialcleansingandmoisturizing</th>\n",
       "      <th>group_fungicide</th>\n",
       "      <th>group_generalhouseholdcleaning</th>\n",
       "      <th>group_generalmoisturizing</th>\n",
       "      <th>group_makeupandrelated</th>\n",
       "      <th>group_paintstainandrelatedproducts</th>\n",
       "      <th>group_sunscreen</th>\n",
       "      <th>group_surfacesealers</th>\n",
       "      <th>refined_spray</th>\n",
       "      <th>matrix_F</th>\n",
       "    </tr>\n",
       "  </thead>\n",
       "  <tbody>\n",
       "    <tr>\n",
       "      <th>80</th>\n",
       "      <td>79.867</td>\n",
       "      <td>1843.00000</td>\n",
       "      <td>2972.0000</td>\n",
       "      <td>0.626340</td>\n",
       "      <td>0.0</td>\n",
       "      <td>0.0</td>\n",
       "      <td>0.0</td>\n",
       "      <td>0.0</td>\n",
       "      <td>0.0</td>\n",
       "      <td>1.0</td>\n",
       "      <td>...</td>\n",
       "      <td>0</td>\n",
       "      <td>0</td>\n",
       "      <td>0</td>\n",
       "      <td>0</td>\n",
       "      <td>0</td>\n",
       "      <td>0</td>\n",
       "      <td>1</td>\n",
       "      <td>0</td>\n",
       "      <td>1</td>\n",
       "      <td>1</td>\n",
       "    </tr>\n",
       "    <tr>\n",
       "      <th>81</th>\n",
       "      <td>107.868</td>\n",
       "      <td>961.78000</td>\n",
       "      <td>2162.0000</td>\n",
       "      <td>1.014730</td>\n",
       "      <td>0.0</td>\n",
       "      <td>0.0</td>\n",
       "      <td>0.0</td>\n",
       "      <td>0.0</td>\n",
       "      <td>0.0</td>\n",
       "      <td>0.0</td>\n",
       "      <td>...</td>\n",
       "      <td>0</td>\n",
       "      <td>0</td>\n",
       "      <td>0</td>\n",
       "      <td>0</td>\n",
       "      <td>0</td>\n",
       "      <td>0</td>\n",
       "      <td>0</td>\n",
       "      <td>0</td>\n",
       "      <td>1</td>\n",
       "      <td>1</td>\n",
       "    </tr>\n",
       "    <tr>\n",
       "      <th>1336</th>\n",
       "      <td>62.068</td>\n",
       "      <td>-8.48790</td>\n",
       "      <td>172.8605</td>\n",
       "      <td>0.013259</td>\n",
       "      <td>0.5</td>\n",
       "      <td>0.0</td>\n",
       "      <td>0.5</td>\n",
       "      <td>0.0</td>\n",
       "      <td>0.0</td>\n",
       "      <td>0.0</td>\n",
       "      <td>...</td>\n",
       "      <td>0</td>\n",
       "      <td>0</td>\n",
       "      <td>0</td>\n",
       "      <td>0</td>\n",
       "      <td>0</td>\n",
       "      <td>0</td>\n",
       "      <td>0</td>\n",
       "      <td>0</td>\n",
       "      <td>0</td>\n",
       "      <td>1</td>\n",
       "    </tr>\n",
       "    <tr>\n",
       "      <th>16010</th>\n",
       "      <td>122.127</td>\n",
       "      <td>141.62100</td>\n",
       "      <td>291.4530</td>\n",
       "      <td>0.072250</td>\n",
       "      <td>0.0</td>\n",
       "      <td>0.0</td>\n",
       "      <td>0.5</td>\n",
       "      <td>0.0</td>\n",
       "      <td>0.0</td>\n",
       "      <td>0.0</td>\n",
       "      <td>...</td>\n",
       "      <td>0</td>\n",
       "      <td>0</td>\n",
       "      <td>0</td>\n",
       "      <td>0</td>\n",
       "      <td>1</td>\n",
       "      <td>0</td>\n",
       "      <td>0</td>\n",
       "      <td>0</td>\n",
       "      <td>0</td>\n",
       "      <td>1</td>\n",
       "    </tr>\n",
       "    <tr>\n",
       "      <th>8704</th>\n",
       "      <td>281.093</td>\n",
       "      <td>40.06515</td>\n",
       "      <td>276.2420</td>\n",
       "      <td>0.198657</td>\n",
       "      <td>0.0</td>\n",
       "      <td>0.0</td>\n",
       "      <td>0.0</td>\n",
       "      <td>0.0</td>\n",
       "      <td>0.0</td>\n",
       "      <td>0.0</td>\n",
       "      <td>...</td>\n",
       "      <td>0</td>\n",
       "      <td>0</td>\n",
       "      <td>0</td>\n",
       "      <td>0</td>\n",
       "      <td>0</td>\n",
       "      <td>1</td>\n",
       "      <td>0</td>\n",
       "      <td>0</td>\n",
       "      <td>0</td>\n",
       "      <td>1</td>\n",
       "    </tr>\n",
       "  </tbody>\n",
       "</table>\n",
       "<p>5 rows × 39 columns</p>\n",
       "</div>"
      ],
      "text/plain": [
       "        propMW      propMP     propBP  propLogDensity    0    1    2    3  \\\n",
       "80      79.867  1843.00000  2972.0000        0.626340  0.0  0.0  0.0  0.0   \n",
       "81     107.868   961.78000  2162.0000        1.014730  0.0  0.0  0.0  0.0   \n",
       "1336    62.068    -8.48790   172.8605        0.013259  0.5  0.0  0.5  0.0   \n",
       "16010  122.127   141.62100   291.4530        0.072250  0.0  0.0  0.5  0.0   \n",
       "8704   281.093    40.06515   276.2420        0.198657  0.0  0.0  0.0  0.0   \n",
       "\n",
       "         4    5    ...     group_facialcleansingandmoisturizing  \\\n",
       "80     0.0  1.0    ...                                        0   \n",
       "81     0.0  0.0    ...                                        0   \n",
       "1336   0.0  0.0    ...                                        0   \n",
       "16010  0.0  0.0    ...                                        0   \n",
       "8704   0.0  0.0    ...                                        0   \n",
       "\n",
       "       group_fungicide  group_generalhouseholdcleaning  \\\n",
       "80                   0                               0   \n",
       "81                   0                               0   \n",
       "1336                 0                               0   \n",
       "16010                0                               0   \n",
       "8704                 0                               0   \n",
       "\n",
       "       group_generalmoisturizing  group_makeupandrelated  \\\n",
       "80                             0                       0   \n",
       "81                             0                       0   \n",
       "1336                           0                       0   \n",
       "16010                          0                       1   \n",
       "8704                           0                       0   \n",
       "\n",
       "       group_paintstainandrelatedproducts  group_sunscreen  \\\n",
       "80                                      0                1   \n",
       "81                                      0                0   \n",
       "1336                                    0                0   \n",
       "16010                                   0                0   \n",
       "8704                                    1                0   \n",
       "\n",
       "       group_surfacesealers  refined_spray  matrix_F  \n",
       "80                        0              1         1  \n",
       "81                        0              1         1  \n",
       "1336                      0              0         1  \n",
       "16010                     0              0         1  \n",
       "8704                      0              0         1  \n",
       "\n",
       "[5 rows x 39 columns]"
      ]
     },
     "execution_count": 45,
     "metadata": {},
     "output_type": "execute_result"
    }
   ],
   "source": [
    "X_oneto4.iloc[80:85,:]"
   ]
  },
  {
   "cell_type": "markdown",
   "metadata": {},
   "source": [
    "### 1:2 ENM-organics data"
   ]
  },
  {
   "cell_type": "code",
   "execution_count": 46,
   "metadata": {
    "ExecuteTime": {
     "end_time": "2019-01-07T17:55:20.565725Z",
     "start_time": "2019-01-07T17:55:20.540383Z"
    }
   },
   "outputs": [
    {
     "name": "stdout",
     "output_type": "stream",
     "text": [
      "(164, 39)\n",
      "(164, 1)\n"
     ]
    }
   ],
   "source": [
    "# Randomly sample 1% of organics data\n",
    "X_oneto2 = X_source.reset_index(drop=True).sample(n=164, replace=False, random_state=29, axis=0)\n",
    "idx = X_oneto2.index.tolist()\n",
    "\n",
    "bin_oneto2 = pd.DataFrame(bin_source)\n",
    "bin_oneto2 = bin_oneto2.loc[bin_oneto2.index[idx]]\n",
    "\n",
    "print(X_oneto2.shape)\n",
    "print(bin_oneto2.shape)"
   ]
  },
  {
   "cell_type": "code",
   "execution_count": 47,
   "metadata": {
    "ExecuteTime": {
     "end_time": "2019-01-07T17:55:21.130623Z",
     "start_time": "2019-01-07T17:55:21.116290Z"
    }
   },
   "outputs": [
    {
     "name": "stdout",
     "output_type": "stream",
     "text": [
      "(246, 39)\n",
      "(246,)\n"
     ]
    }
   ],
   "source": [
    "# Append sampled organics data to ENM data\n",
    "X_oneto2 = pd.concat([X_enm, X_oneto2], sort=False)\n",
    "\n",
    "bin_oneto2 = pd.concat([pd.DataFrame(bin_enm), bin_oneto2], sort=False)\n",
    "bin_oneto2.columns = ['maximum_weight_fraction']\n",
    "bin_oneto2 = bin_oneto2.values.ravel()\n",
    "\n",
    "print(X_oneto2.shape)\n",
    "print(bin_oneto2.shape)"
   ]
  },
  {
   "cell_type": "markdown",
   "metadata": {},
   "source": [
    "### Matching 1:2 ENM-organics"
   ]
  },
  {
   "cell_type": "markdown",
   "metadata": {},
   "source": [
    "* https://scikit-learn.org/stable/modules/generated/sklearn.metrics.jaccard_similarity_score.html\n",
    "* https://stackoverflow.com/questions/28910089/filling-empty-python-dataframe-using-loops\n",
    "* https://stackoverflow.com/questions/46397892/compute-distance-between-strings-of-two-pandas-dataframes"
   ]
  },
  {
   "cell_type": "code",
   "execution_count": 179,
   "metadata": {
    "ExecuteTime": {
     "end_time": "2019-01-09T07:57:43.749381Z",
     "start_time": "2019-01-09T07:57:43.710547Z"
    }
   },
   "outputs": [],
   "source": [
    "# Scale/normalize data for computing distance\n",
    "from sklearn.preprocessing import MinMaxScaler\n",
    "\n",
    "scaler = MinMaxScaler(feature_range=(0, 1))\n",
    "X_enm_scaled = pd.DataFrame(scaler.fit_transform(X_enm), \n",
    "                            columns = X_enm.columns, \n",
    "                            index = X_enm.index)\n",
    "X_source_scaled = pd.DataFrame(scaler.fit_transform(X_source),\n",
    "                             columns = X_source.columns,\n",
    "                             index = X_source.index)"
   ]
  },
  {
   "cell_type": "code",
   "execution_count": 180,
   "metadata": {
    "ExecuteTime": {
     "end_time": "2019-01-09T07:57:45.072612Z",
     "start_time": "2019-01-09T07:57:45.018142Z"
    }
   },
   "outputs": [],
   "source": [
    "# Cosine similarity computes the L2-normalized dot product of vectors\n",
    "# Cosine distance = 1 - cosine similarity\n",
    "from sklearn.metrics.pairwise import cosine_distances\n",
    "\n",
    "cosdist = cosine_distances(X = X_source_scaled, \n",
    "                    Y = X_enm_scaled)\n",
    "#cosdist = pd.DataFrame(cosdist, \n",
    "#                       index = X_source_scaled.index, \n",
    "#                       columns = X_enm.index)"
   ]
  },
  {
   "cell_type": "code",
   "execution_count": 182,
   "metadata": {
    "ExecuteTime": {
     "end_time": "2019-01-09T07:57:47.835714Z",
     "start_time": "2019-01-09T07:57:47.814232Z"
    }
   },
   "outputs": [
    {
     "name": "stdout",
     "output_type": "stream",
     "text": [
      "(16354, 82)\n"
     ]
    }
   ],
   "source": [
    "print(cosdist.shape)"
   ]
  },
  {
   "cell_type": "code",
   "execution_count": 275,
   "metadata": {
    "ExecuteTime": {
     "end_time": "2019-01-10T01:44:24.212641Z",
     "start_time": "2019-01-10T01:44:24.151675Z"
    }
   },
   "outputs": [],
   "source": [
    "# Write loop to match most similar organics examples \n",
    "# to ENM examples based on smallest cosine distance\n",
    "\n",
    "# Set number of matches to return\n",
    "k = 2\n",
    "\n",
    "# Define function to get indices of k smallest distances\n",
    "def smallest(X, k): \n",
    "    matches = np.argpartition(X, k-1)[:k]\n",
    "    return matches\n",
    "\n",
    "# Loop over cosdist \"matrix\" to return list of matching organics indices\n",
    "idx_match = []\n",
    "dist_match = []\n",
    "for col in cosdist.T:\n",
    "    # Find indices of k-smallest distances\n",
    "    matches = smallest(col,k)\n",
    "    idx_match.extend(matches)\n",
    "    dist_match.extend(col[matches])"
   ]
  },
  {
   "cell_type": "markdown",
   "metadata": {},
   "source": [
    "* https://stackoverflow.com/questions/34226400/find-the-index-of-the-k-smallest-values-of-a-numpy-array\n",
    "* https://stackoverflow.com/questions/22117834/how-do-i-return-a-list-of-the-3-lowest-values-in-another-list"
   ]
  },
  {
   "cell_type": "code",
   "execution_count": 276,
   "metadata": {
    "ExecuteTime": {
     "end_time": "2019-01-10T01:44:28.423271Z",
     "start_time": "2019-01-10T01:44:28.405673Z"
    }
   },
   "outputs": [],
   "source": [
    "#match_table = pd.DataFrame({\n",
    "#    'organic_idx': idx_match, \n",
    "#    'cosdist': dist_match})\n",
    "#match_table"
   ]
  },
  {
   "cell_type": "code",
   "execution_count": 277,
   "metadata": {
    "ExecuteTime": {
     "end_time": "2019-01-10T01:44:29.199451Z",
     "start_time": "2019-01-10T01:44:29.174107Z"
    }
   },
   "outputs": [],
   "source": [
    "# Create X and y dataframes of matches using the generated index list\n",
    "X_match2 = X_source.iloc[idx_match]\n",
    "y_source.index = X_source.index\n",
    "bin_match2 = pd.DataFrame(y_source)\n",
    "bin_match2 = bin_match2.iloc[idx_match]\n",
    "bin_match2 = bin_match2.apply(bins, axis=1)\n",
    "bin_match2 = le.fit_transform(bin_match2)"
   ]
  },
  {
   "cell_type": "code",
   "execution_count": 278,
   "metadata": {
    "ExecuteTime": {
     "end_time": "2019-01-10T01:44:30.365131Z",
     "start_time": "2019-01-10T01:44:30.314661Z"
    }
   },
   "outputs": [
    {
     "data": {
      "text/html": [
       "<div>\n",
       "<style scoped>\n",
       "    .dataframe tbody tr th:only-of-type {\n",
       "        vertical-align: middle;\n",
       "    }\n",
       "\n",
       "    .dataframe tbody tr th {\n",
       "        vertical-align: top;\n",
       "    }\n",
       "\n",
       "    .dataframe thead th {\n",
       "        text-align: right;\n",
       "    }\n",
       "</style>\n",
       "<table border=\"1\" class=\"dataframe\">\n",
       "  <thead>\n",
       "    <tr style=\"text-align: right;\">\n",
       "      <th></th>\n",
       "      <th>propMW</th>\n",
       "      <th>propMP</th>\n",
       "      <th>propBP</th>\n",
       "      <th>propLogDensity</th>\n",
       "      <th>0</th>\n",
       "      <th>1</th>\n",
       "      <th>2</th>\n",
       "      <th>3</th>\n",
       "      <th>4</th>\n",
       "      <th>5</th>\n",
       "      <th>...</th>\n",
       "      <th>group_facialcleansingandmoisturizing</th>\n",
       "      <th>group_fungicide</th>\n",
       "      <th>group_generalhouseholdcleaning</th>\n",
       "      <th>group_generalmoisturizing</th>\n",
       "      <th>group_makeupandrelated</th>\n",
       "      <th>group_paintstainandrelatedproducts</th>\n",
       "      <th>group_sunscreen</th>\n",
       "      <th>group_surfacesealers</th>\n",
       "      <th>refined_spray</th>\n",
       "      <th>matrix_F</th>\n",
       "    </tr>\n",
       "  </thead>\n",
       "  <tbody>\n",
       "    <tr>\n",
       "      <th>14452</th>\n",
       "      <td>296.616</td>\n",
       "      <td>-6.7498</td>\n",
       "      <td>185.899</td>\n",
       "      <td>-0.016825</td>\n",
       "      <td>0.5</td>\n",
       "      <td>0.0</td>\n",
       "      <td>0.5</td>\n",
       "      <td>0.0</td>\n",
       "      <td>0.0</td>\n",
       "      <td>0.0</td>\n",
       "      <td>...</td>\n",
       "      <td>0</td>\n",
       "      <td>0</td>\n",
       "      <td>0</td>\n",
       "      <td>0</td>\n",
       "      <td>0</td>\n",
       "      <td>0</td>\n",
       "      <td>1</td>\n",
       "      <td>0</td>\n",
       "      <td>1</td>\n",
       "      <td>1</td>\n",
       "    </tr>\n",
       "    <tr>\n",
       "      <th>21507</th>\n",
       "      <td>310.393</td>\n",
       "      <td>96.0451</td>\n",
       "      <td>374.911</td>\n",
       "      <td>0.029789</td>\n",
       "      <td>0.0</td>\n",
       "      <td>0.0</td>\n",
       "      <td>0.0</td>\n",
       "      <td>0.0</td>\n",
       "      <td>0.0</td>\n",
       "      <td>1.0</td>\n",
       "      <td>...</td>\n",
       "      <td>0</td>\n",
       "      <td>0</td>\n",
       "      <td>0</td>\n",
       "      <td>0</td>\n",
       "      <td>0</td>\n",
       "      <td>0</td>\n",
       "      <td>1</td>\n",
       "      <td>0</td>\n",
       "      <td>1</td>\n",
       "      <td>1</td>\n",
       "    </tr>\n",
       "    <tr>\n",
       "      <th>21513</th>\n",
       "      <td>310.393</td>\n",
       "      <td>96.0451</td>\n",
       "      <td>374.911</td>\n",
       "      <td>0.029789</td>\n",
       "      <td>0.0</td>\n",
       "      <td>0.0</td>\n",
       "      <td>0.0</td>\n",
       "      <td>0.0</td>\n",
       "      <td>0.0</td>\n",
       "      <td>1.0</td>\n",
       "      <td>...</td>\n",
       "      <td>0</td>\n",
       "      <td>0</td>\n",
       "      <td>0</td>\n",
       "      <td>0</td>\n",
       "      <td>0</td>\n",
       "      <td>0</td>\n",
       "      <td>1</td>\n",
       "      <td>0</td>\n",
       "      <td>1</td>\n",
       "      <td>1</td>\n",
       "    </tr>\n",
       "    <tr>\n",
       "      <th>12165</th>\n",
       "      <td>289.540</td>\n",
       "      <td>109.6000</td>\n",
       "      <td>356.045</td>\n",
       "      <td>0.182700</td>\n",
       "      <td>0.0</td>\n",
       "      <td>0.0</td>\n",
       "      <td>0.0</td>\n",
       "      <td>0.0</td>\n",
       "      <td>0.0</td>\n",
       "      <td>0.0</td>\n",
       "      <td>...</td>\n",
       "      <td>0</td>\n",
       "      <td>0</td>\n",
       "      <td>0</td>\n",
       "      <td>0</td>\n",
       "      <td>0</td>\n",
       "      <td>0</td>\n",
       "      <td>0</td>\n",
       "      <td>0</td>\n",
       "      <td>1</td>\n",
       "      <td>1</td>\n",
       "    </tr>\n",
       "    <tr>\n",
       "      <th>12173</th>\n",
       "      <td>289.540</td>\n",
       "      <td>109.6000</td>\n",
       "      <td>356.045</td>\n",
       "      <td>0.182700</td>\n",
       "      <td>0.0</td>\n",
       "      <td>0.0</td>\n",
       "      <td>0.0</td>\n",
       "      <td>0.0</td>\n",
       "      <td>0.0</td>\n",
       "      <td>0.0</td>\n",
       "      <td>...</td>\n",
       "      <td>0</td>\n",
       "      <td>0</td>\n",
       "      <td>0</td>\n",
       "      <td>0</td>\n",
       "      <td>0</td>\n",
       "      <td>0</td>\n",
       "      <td>0</td>\n",
       "      <td>0</td>\n",
       "      <td>1</td>\n",
       "      <td>1</td>\n",
       "    </tr>\n",
       "  </tbody>\n",
       "</table>\n",
       "<p>5 rows × 39 columns</p>\n",
       "</div>"
      ],
      "text/plain": [
       "        propMW    propMP   propBP  propLogDensity    0    1    2    3    4  \\\n",
       "14452  296.616   -6.7498  185.899       -0.016825  0.5  0.0  0.5  0.0  0.0   \n",
       "21507  310.393   96.0451  374.911        0.029789  0.0  0.0  0.0  0.0  0.0   \n",
       "21513  310.393   96.0451  374.911        0.029789  0.0  0.0  0.0  0.0  0.0   \n",
       "12165  289.540  109.6000  356.045        0.182700  0.0  0.0  0.0  0.0  0.0   \n",
       "12173  289.540  109.6000  356.045        0.182700  0.0  0.0  0.0  0.0  0.0   \n",
       "\n",
       "         5    ...     group_facialcleansingandmoisturizing  group_fungicide  \\\n",
       "14452  0.0    ...                                        0                0   \n",
       "21507  1.0    ...                                        0                0   \n",
       "21513  1.0    ...                                        0                0   \n",
       "12165  0.0    ...                                        0                0   \n",
       "12173  0.0    ...                                        0                0   \n",
       "\n",
       "       group_generalhouseholdcleaning  group_generalmoisturizing  \\\n",
       "14452                               0                          0   \n",
       "21507                               0                          0   \n",
       "21513                               0                          0   \n",
       "12165                               0                          0   \n",
       "12173                               0                          0   \n",
       "\n",
       "       group_makeupandrelated  group_paintstainandrelatedproducts  \\\n",
       "14452                       0                                   0   \n",
       "21507                       0                                   0   \n",
       "21513                       0                                   0   \n",
       "12165                       0                                   0   \n",
       "12173                       0                                   0   \n",
       "\n",
       "       group_sunscreen  group_surfacesealers  refined_spray  matrix_F  \n",
       "14452                1                     0              1         1  \n",
       "21507                1                     0              1         1  \n",
       "21513                1                     0              1         1  \n",
       "12165                0                     0              1         1  \n",
       "12173                0                     0              1         1  \n",
       "\n",
       "[5 rows x 39 columns]"
      ]
     },
     "execution_count": 278,
     "metadata": {},
     "output_type": "execute_result"
    }
   ],
   "source": [
    "X_match2.tail(5)"
   ]
  },
  {
   "cell_type": "code",
   "execution_count": 279,
   "metadata": {
    "ExecuteTime": {
     "end_time": "2019-01-10T01:44:33.894829Z",
     "start_time": "2019-01-10T01:44:33.856293Z"
    }
   },
   "outputs": [
    {
     "name": "stdout",
     "output_type": "stream",
     "text": [
      "(246, 39)\n",
      "(246,)\n"
     ]
    }
   ],
   "source": [
    "# Append sampled organics data to ENM data\n",
    "X_match2 = pd.concat([X_enm, X_match2], sort=False)\n",
    "\n",
    "bin_match2 = pd.concat([pd.DataFrame(bin_enm), pd.DataFrame(bin_match2)], sort=False)\n",
    "bin_match2.columns = ['maximum_weight_fraction']\n",
    "bin_match2 = bin_match2.values.ravel()\n",
    "\n",
    "print(X_match2.shape)\n",
    "print(bin_match2.shape)"
   ]
  },
  {
   "cell_type": "code",
   "execution_count": 280,
   "metadata": {
    "ExecuteTime": {
     "end_time": "2019-01-10T01:44:34.751653Z",
     "start_time": "2019-01-10T01:44:34.719027Z"
    }
   },
   "outputs": [
    {
     "data": {
      "text/plain": [
       "{0: 54, 1: 138, 2: 54}"
      ]
     },
     "execution_count": 280,
     "metadata": {},
     "output_type": "execute_result"
    }
   ],
   "source": [
    "unique, counts = np.unique(bin_match2, return_counts=True)\n",
    "dict(zip(unique, counts))"
   ]
  },
  {
   "cell_type": "markdown",
   "metadata": {
    "ExecuteTime": {
     "end_time": "2019-01-10T01:40:15.939429Z",
     "start_time": "2019-01-10T01:40:15.921574Z"
    }
   },
   "source": [
    "### Matching 1:1 ENM-organics"
   ]
  },
  {
   "cell_type": "code",
   "execution_count": 289,
   "metadata": {
    "ExecuteTime": {
     "end_time": "2019-01-10T01:48:33.452920Z",
     "start_time": "2019-01-10T01:48:33.412580Z"
    },
    "collapsed": true
   },
   "outputs": [],
   "source": [
    "# Write loop to match most similar organics examples \n",
    "# to ENM examples based on smallest cosine distance\n",
    "\n",
    "# Set number of matches to return\n",
    "k = 1\n",
    "\n",
    "# Define function to get indices of k smallest distances\n",
    "def smallest(X, k): \n",
    "    matches = np.argpartition(X, k-1)[:k]\n",
    "    return matches\n",
    "\n",
    "# Loop over cosdist \"matrix\" to return list of matching organics indices\n",
    "idx_match = []\n",
    "dist_match = []\n",
    "for col in cosdist.T:\n",
    "    # Find indices of k-smallest distances\n",
    "    matches = smallest(col,k)\n",
    "    idx_match.extend(matches)\n",
    "    dist_match.extend(col[matches])"
   ]
  },
  {
   "cell_type": "code",
   "execution_count": 290,
   "metadata": {
    "ExecuteTime": {
     "end_time": "2019-01-10T01:48:34.966213Z",
     "start_time": "2019-01-10T01:48:34.941362Z"
    },
    "collapsed": true
   },
   "outputs": [],
   "source": [
    "# Create X and y dataframes of matches using the generated index list\n",
    "X_match1 = X_source.iloc[idx_match]\n",
    "y_source.index = X_source.index\n",
    "bin_match1 = pd.DataFrame(y_source)\n",
    "bin_match1 = bin_match1.iloc[idx_match]\n",
    "bin_match1 = bin_match1.apply(bins, axis=1)\n",
    "bin_match1 = le.fit_transform(bin_match1)"
   ]
  },
  {
   "cell_type": "code",
   "execution_count": 291,
   "metadata": {
    "ExecuteTime": {
     "end_time": "2019-01-10T01:48:36.497733Z",
     "start_time": "2019-01-10T01:48:36.482390Z"
    }
   },
   "outputs": [
    {
     "name": "stdout",
     "output_type": "stream",
     "text": [
      "(164, 39)\n",
      "(164,)\n"
     ]
    }
   ],
   "source": [
    "# Append sampled organics data to ENM data\n",
    "X_match1 = pd.concat([X_enm, X_match1], sort=False)\n",
    "\n",
    "bin_match1 = pd.concat([pd.DataFrame(bin_enm), pd.DataFrame(bin_match1)], sort=False)\n",
    "bin_match1.columns = ['maximum_weight_fraction']\n",
    "bin_match1 = bin_match1.values.ravel()\n",
    "\n",
    "print(X_match1.shape)\n",
    "print(bin_match1.shape)"
   ]
  },
  {
   "cell_type": "markdown",
   "metadata": {
    "collapsed": true
   },
   "source": [
    "### Make bins 1D arrays"
   ]
  },
  {
   "cell_type": "code",
   "execution_count": 305,
   "metadata": {
    "ExecuteTime": {
     "end_time": "2019-01-10T01:54:46.132243Z",
     "start_time": "2019-01-10T01:54:46.125897Z"
    }
   },
   "outputs": [
    {
     "name": "stdout",
     "output_type": "stream",
     "text": [
      "(8282,)\n",
      "<class 'numpy.ndarray'>\n"
     ]
    }
   ],
   "source": [
    "# Transform data type into 1D array\n",
    "bin_oneto100 = bin_oneto100.values.ravel()\n",
    "\n",
    "print(bin_oneto100.shape)\n",
    "print(type(bin_oneto100))\n",
    "\n",
    "#bin_oneto50 = bin_oneto50.values.ravel()"
   ]
  },
  {
   "cell_type": "markdown",
   "metadata": {},
   "source": [
    "# Models"
   ]
  },
  {
   "cell_type": "markdown",
   "metadata": {},
   "source": [
    "## ENM only"
   ]
  },
  {
   "cell_type": "markdown",
   "metadata": {},
   "source": [
    "Here I make use of a helper class in order to compare different model estimators with different parameters. Estimator Selection Helper is by David Batista:\n",
    "http://www.davidsbatista.net/blog/2018/02/23/model_optimization/."
   ]
  },
  {
   "cell_type": "code",
   "execution_count": 311,
   "metadata": {
    "ExecuteTime": {
     "end_time": "2019-01-10T16:52:02.546779Z",
     "start_time": "2019-01-10T16:52:02.512082Z"
    },
    "collapsed": true
   },
   "outputs": [],
   "source": [
    "# Scale pchem properties since pipelines are not included in the helper.\n",
    "from sklearn.preprocessing import MinMaxScaler\n",
    "scaler = MinMaxScaler()\n",
    "X_enm_scaled = scaler.fit_transform(X_enm)"
   ]
  },
  {
   "cell_type": "code",
   "execution_count": 312,
   "metadata": {
    "ExecuteTime": {
     "end_time": "2019-01-10T16:52:03.882797Z",
     "start_time": "2019-01-10T16:52:03.719025Z"
    },
    "collapsed": true
   },
   "outputs": [],
   "source": [
    "# Set up for grid search across multiple pipelines\n",
    "from sklearn.model_selection import GridSearchCV\n",
    "\n",
    "cv=10\n",
    "class EstimatorSelectionHelper:\n",
    "\n",
    "    def __init__(self, models, params):\n",
    "        if not set(models.keys()).issubset(set(params.keys())):\n",
    "            missing_params = list(set(models.keys()) - set(params.keys()))\n",
    "            raise ValueError(\"Some estimators are missing parameters: %s\" % missing_params)\n",
    "        self.models = models\n",
    "        self.params = params\n",
    "        self.keys = models.keys()\n",
    "        self.grid_searches = {}\n",
    "\n",
    "    def fit(self, X, y, cv=cv, n_jobs=1, verbose=1, scoring='accuracy', refit=False):\n",
    "        for key in self.keys:\n",
    "            print(\"Running GridSearchCV for %s.\" % key)\n",
    "            model = self.models[key]\n",
    "            params = self.params[key]\n",
    "            gs = GridSearchCV(model, params, cv=cv, n_jobs=n_jobs,\n",
    "                              verbose=verbose, scoring=scoring, refit=refit,\n",
    "                              return_train_score=True)\n",
    "            gs.fit(X,y)\n",
    "            self.grid_searches[key] = gs    \n",
    "\n",
    "    def score_summary(self, sort_by='mean_score'):\n",
    "        def row(key, scores, params):\n",
    "            d = {\n",
    "                 'estimator': key,\n",
    "                 'min_score': min(scores),\n",
    "                 'max_score': max(scores),\n",
    "                 'mean_score': np.mean(scores),\n",
    "                 'std_score': np.std(scores),\n",
    "            }\n",
    "            return pd.Series({**params,**d})\n",
    "\n",
    "        rows = []\n",
    "        for k in self.grid_searches:\n",
    "            print(k)\n",
    "            params = self.grid_searches[k].cv_results_['params']\n",
    "            scores = []\n",
    "            for i in range(self.grid_searches[k].cv):\n",
    "                key = \"split{}_test_score\".format(i)\n",
    "                r = self.grid_searches[k].cv_results_[key]        \n",
    "                scores.append(r.reshape(len(params),1))\n",
    "\n",
    "            all_scores = np.hstack(scores)\n",
    "            for p, s in zip(params,all_scores):\n",
    "                rows.append((row(k, s, p)))\n",
    "\n",
    "        df = pd.concat(rows, axis=1).T.sort_values([sort_by], ascending=False)\n",
    "\n",
    "        columns = ['estimator', 'min_score', 'mean_score', 'max_score', 'std_score']\n",
    "        columns = columns + [c for c in df.columns if c not in columns]\n",
    "\n",
    "        return df[columns]"
   ]
  },
  {
   "cell_type": "code",
   "execution_count": 316,
   "metadata": {
    "ExecuteTime": {
     "end_time": "2019-01-10T16:53:12.899300Z",
     "start_time": "2019-01-10T16:53:12.875863Z"
    },
    "collapsed": true
   },
   "outputs": [],
   "source": [
    "# Define sets of models and their respective parameters to compare\n",
    "# The first dictionary contains the models to be scored\n",
    "# while the second contains the parameters for each model\n",
    "\n",
    "from sklearn.cluster import FeatureAgglomeration\n",
    "from sklearn.svm import SVC\n",
    "from sklearn.ensemble import RandomForestClassifier\n",
    "\n",
    "cv=10\n",
    "models = {\n",
    "    'RandomForest': RandomForestClassifier(),\n",
    "    'SVC': SVC()\n",
    "}\n",
    "\n",
    "params = {\n",
    "    'RandomForest': { 'n_estimators': [10,12,14,16,18,20]},\n",
    "    'SVC': [\n",
    "        {'kernel': ['linear'], 'C': np.logspace(0,5,10)},\n",
    "        {'kernel': ['rbf'], 'C': np.logspace(0,5,10), 'gamma': np.logspace(-6,0,10)},\n",
    "    ]\n",
    "}"
   ]
  },
  {
   "cell_type": "code",
   "execution_count": 317,
   "metadata": {
    "ExecuteTime": {
     "end_time": "2019-01-10T16:53:21.335990Z",
     "start_time": "2019-01-10T16:53:18.843574Z"
    }
   },
   "outputs": [
    {
     "name": "stdout",
     "output_type": "stream",
     "text": [
      "Running GridSearchCV for RandomForest.\n",
      "Fitting 10 folds for each of 6 candidates, totalling 60 fits\n",
      "Running GridSearchCV for SVC.\n",
      "Fitting 10 folds for each of 110 candidates, totalling 1100 fits\n"
     ]
    },
    {
     "name": "stderr",
     "output_type": "stream",
     "text": [
      "[Parallel(n_jobs=3)]: Done  60 out of  60 | elapsed:    0.8s finished\n",
      "[Parallel(n_jobs=3)]: Done 1100 out of 1100 | elapsed:    1.2s finished\n"
     ]
    },
    {
     "data": {
      "text/html": [
       "\n",
       "                <audio controls=\"controls\" autoplay=\"autoplay\">\n",
       "                    <source src=\"./data/Glass.wav\" type=\"audio/x-wav\" />\n",
       "                    Your browser does not support the audio element.\n",
       "                </audio>\n",
       "              "
      ],
      "text/plain": [
       "<IPython.lib.display.Audio object>"
      ]
     },
     "execution_count": 317,
     "metadata": {},
     "output_type": "execute_result"
    }
   ],
   "source": [
    "# Fit gridsearch models to select best estimator\n",
    "helper = EstimatorSelectionHelper(models, params)\n",
    "helper.fit(X_enm_scaled, bin_enm, n_jobs=3)\n",
    "\n",
    "# Play sound when cell is done running\n",
    "Audio(url=sound_file, autoplay=True)"
   ]
  },
  {
   "cell_type": "code",
   "execution_count": 318,
   "metadata": {
    "ExecuteTime": {
     "end_time": "2019-01-10T16:53:23.514094Z",
     "start_time": "2019-01-10T16:53:23.345651Z"
    }
   },
   "outputs": [
    {
     "name": "stdout",
     "output_type": "stream",
     "text": [
      "RandomForest\n",
      "SVC\n"
     ]
    },
    {
     "name": "stderr",
     "output_type": "stream",
     "text": [
      "/anaconda3/lib/python3.6/site-packages/ipykernel/__main__.py:52: FutureWarning: Sorting because non-concatenation axis is not aligned. A future version\n",
      "of pandas will change to not sort by default.\n",
      "\n",
      "To accept the future behavior, pass 'sort=True'.\n",
      "\n",
      "To retain the current behavior and silence the warning, pass sort=False\n",
      "\n"
     ]
    },
    {
     "data": {
      "text/html": [
       "<div>\n",
       "<style scoped>\n",
       "    .dataframe tbody tr th:only-of-type {\n",
       "        vertical-align: middle;\n",
       "    }\n",
       "\n",
       "    .dataframe tbody tr th {\n",
       "        vertical-align: top;\n",
       "    }\n",
       "\n",
       "    .dataframe thead th {\n",
       "        text-align: right;\n",
       "    }\n",
       "</style>\n",
       "<table border=\"1\" class=\"dataframe\">\n",
       "  <thead>\n",
       "    <tr style=\"text-align: right;\">\n",
       "      <th></th>\n",
       "      <th>estimator</th>\n",
       "      <th>min_score</th>\n",
       "      <th>mean_score</th>\n",
       "      <th>max_score</th>\n",
       "      <th>std_score</th>\n",
       "      <th>C</th>\n",
       "      <th>gamma</th>\n",
       "      <th>kernel</th>\n",
       "      <th>n_estimators</th>\n",
       "    </tr>\n",
       "  </thead>\n",
       "  <tbody>\n",
       "    <tr>\n",
       "      <th>71</th>\n",
       "      <td>SVC</td>\n",
       "      <td>0.333333</td>\n",
       "      <td>0.622817</td>\n",
       "      <td>0.857143</td>\n",
       "      <td>0.190713</td>\n",
       "      <td>599.484</td>\n",
       "      <td>0.00215443</td>\n",
       "      <td>rbf</td>\n",
       "      <td>NaN</td>\n",
       "    </tr>\n",
       "    <tr>\n",
       "      <th>7</th>\n",
       "      <td>SVC</td>\n",
       "      <td>0.333333</td>\n",
       "      <td>0.622817</td>\n",
       "      <td>0.857143</td>\n",
       "      <td>0.190713</td>\n",
       "      <td>3.59381</td>\n",
       "      <td>NaN</td>\n",
       "      <td>linear</td>\n",
       "      <td>NaN</td>\n",
       "    </tr>\n",
       "    <tr>\n",
       "      <th>62</th>\n",
       "      <td>SVC</td>\n",
       "      <td>0.333333</td>\n",
       "      <td>0.611706</td>\n",
       "      <td>0.857143</td>\n",
       "      <td>0.191071</td>\n",
       "      <td>166.81</td>\n",
       "      <td>0.01</td>\n",
       "      <td>rbf</td>\n",
       "      <td>NaN</td>\n",
       "    </tr>\n",
       "    <tr>\n",
       "      <th>80</th>\n",
       "      <td>SVC</td>\n",
       "      <td>0.333333</td>\n",
       "      <td>0.608532</td>\n",
       "      <td>0.857143</td>\n",
       "      <td>0.177519</td>\n",
       "      <td>2154.43</td>\n",
       "      <td>0.000464159</td>\n",
       "      <td>rbf</td>\n",
       "      <td>NaN</td>\n",
       "    </tr>\n",
       "    <tr>\n",
       "      <th>89</th>\n",
       "      <td>SVC</td>\n",
       "      <td>0.333333</td>\n",
       "      <td>0.602976</td>\n",
       "      <td>0.857143</td>\n",
       "      <td>0.165654</td>\n",
       "      <td>7742.64</td>\n",
       "      <td>0.0001</td>\n",
       "      <td>rbf</td>\n",
       "      <td>NaN</td>\n",
       "    </tr>\n",
       "    <tr>\n",
       "      <th>70</th>\n",
       "      <td>SVC</td>\n",
       "      <td>0.333333</td>\n",
       "      <td>0.601587</td>\n",
       "      <td>0.888889</td>\n",
       "      <td>0.183222</td>\n",
       "      <td>599.484</td>\n",
       "      <td>0.000464159</td>\n",
       "      <td>rbf</td>\n",
       "      <td>NaN</td>\n",
       "    </tr>\n",
       "    <tr>\n",
       "      <th>1</th>\n",
       "      <td>RandomForest</td>\n",
       "      <td>0.333333</td>\n",
       "      <td>0.591865</td>\n",
       "      <td>0.857143</td>\n",
       "      <td>0.179095</td>\n",
       "      <td>NaN</td>\n",
       "      <td>NaN</td>\n",
       "      <td>NaN</td>\n",
       "      <td>12</td>\n",
       "    </tr>\n",
       "    <tr>\n",
       "      <th>0</th>\n",
       "      <td>RandomForest</td>\n",
       "      <td>0.222222</td>\n",
       "      <td>0.591071</td>\n",
       "      <td>0.777778</td>\n",
       "      <td>0.166408</td>\n",
       "      <td>NaN</td>\n",
       "      <td>NaN</td>\n",
       "      <td>NaN</td>\n",
       "      <td>10</td>\n",
       "    </tr>\n",
       "    <tr>\n",
       "      <th>24</th>\n",
       "      <td>SVC</td>\n",
       "      <td>0.333333</td>\n",
       "      <td>0.590476</td>\n",
       "      <td>0.888889</td>\n",
       "      <td>0.188956</td>\n",
       "      <td>1</td>\n",
       "      <td>0.215443</td>\n",
       "      <td>rbf</td>\n",
       "      <td>NaN</td>\n",
       "    </tr>\n",
       "    <tr>\n",
       "      <th>60</th>\n",
       "      <td>SVC</td>\n",
       "      <td>0.333333</td>\n",
       "      <td>0.585317</td>\n",
       "      <td>1</td>\n",
       "      <td>0.200727</td>\n",
       "      <td>166.81</td>\n",
       "      <td>0.000464159</td>\n",
       "      <td>rbf</td>\n",
       "      <td>NaN</td>\n",
       "    </tr>\n",
       "    <tr>\n",
       "      <th>42</th>\n",
       "      <td>SVC</td>\n",
       "      <td>0.333333</td>\n",
       "      <td>0.584921</td>\n",
       "      <td>0.857143</td>\n",
       "      <td>0.156976</td>\n",
       "      <td>12.9155</td>\n",
       "      <td>0.01</td>\n",
       "      <td>rbf</td>\n",
       "      <td>NaN</td>\n",
       "    </tr>\n",
       "    <tr>\n",
       "      <th>97</th>\n",
       "      <td>SVC</td>\n",
       "      <td>0.333333</td>\n",
       "      <td>0.584921</td>\n",
       "      <td>0.857143</td>\n",
       "      <td>0.156976</td>\n",
       "      <td>27825.6</td>\n",
       "      <td>4.64159e-06</td>\n",
       "      <td>rbf</td>\n",
       "      <td>NaN</td>\n",
       "    </tr>\n",
       "    <tr>\n",
       "      <th>108</th>\n",
       "      <td>SVC</td>\n",
       "      <td>0.333333</td>\n",
       "      <td>0.583135</td>\n",
       "      <td>0.857143</td>\n",
       "      <td>0.165411</td>\n",
       "      <td>100000</td>\n",
       "      <td>2.15443e-05</td>\n",
       "      <td>rbf</td>\n",
       "      <td>NaN</td>\n",
       "    </tr>\n",
       "    <tr>\n",
       "      <th>32</th>\n",
       "      <td>SVC</td>\n",
       "      <td>0.333333</td>\n",
       "      <td>0.576587</td>\n",
       "      <td>0.857143</td>\n",
       "      <td>0.165225</td>\n",
       "      <td>3.59381</td>\n",
       "      <td>0.01</td>\n",
       "      <td>rbf</td>\n",
       "      <td>NaN</td>\n",
       "    </tr>\n",
       "    <tr>\n",
       "      <th>87</th>\n",
       "      <td>SVC</td>\n",
       "      <td>0.333333</td>\n",
       "      <td>0.576587</td>\n",
       "      <td>0.857143</td>\n",
       "      <td>0.165225</td>\n",
       "      <td>7742.64</td>\n",
       "      <td>4.64159e-06</td>\n",
       "      <td>rbf</td>\n",
       "      <td>NaN</td>\n",
       "    </tr>\n",
       "    <tr>\n",
       "      <th>98</th>\n",
       "      <td>SVC</td>\n",
       "      <td>0.333333</td>\n",
       "      <td>0.575198</td>\n",
       "      <td>0.857143</td>\n",
       "      <td>0.173868</td>\n",
       "      <td>27825.6</td>\n",
       "      <td>2.15443e-05</td>\n",
       "      <td>rbf</td>\n",
       "      <td>NaN</td>\n",
       "    </tr>\n",
       "    <tr>\n",
       "      <th>61</th>\n",
       "      <td>SVC</td>\n",
       "      <td>0.333333</td>\n",
       "      <td>0.57381</td>\n",
       "      <td>0.888889</td>\n",
       "      <td>0.190478</td>\n",
       "      <td>166.81</td>\n",
       "      <td>0.00215443</td>\n",
       "      <td>rbf</td>\n",
       "      <td>NaN</td>\n",
       "    </tr>\n",
       "    <tr>\n",
       "      <th>69</th>\n",
       "      <td>SVC</td>\n",
       "      <td>0.333333</td>\n",
       "      <td>0.572817</td>\n",
       "      <td>1</td>\n",
       "      <td>0.193857</td>\n",
       "      <td>599.484</td>\n",
       "      <td>0.0001</td>\n",
       "      <td>rbf</td>\n",
       "      <td>NaN</td>\n",
       "    </tr>\n",
       "    <tr>\n",
       "      <th>51</th>\n",
       "      <td>SVC</td>\n",
       "      <td>0.333333</td>\n",
       "      <td>0.568254</td>\n",
       "      <td>0.857143</td>\n",
       "      <td>0.156259</td>\n",
       "      <td>46.4159</td>\n",
       "      <td>0.00215443</td>\n",
       "      <td>rbf</td>\n",
       "      <td>NaN</td>\n",
       "    </tr>\n",
       "    <tr>\n",
       "      <th>79</th>\n",
       "      <td>SVC</td>\n",
       "      <td>0.333333</td>\n",
       "      <td>0.568254</td>\n",
       "      <td>0.857143</td>\n",
       "      <td>0.156259</td>\n",
       "      <td>2154.43</td>\n",
       "      <td>0.0001</td>\n",
       "      <td>rbf</td>\n",
       "      <td>NaN</td>\n",
       "    </tr>\n",
       "    <tr>\n",
       "      <th>88</th>\n",
       "      <td>SVC</td>\n",
       "      <td>0.333333</td>\n",
       "      <td>0.568254</td>\n",
       "      <td>0.857143</td>\n",
       "      <td>0.156259</td>\n",
       "      <td>7742.64</td>\n",
       "      <td>2.15443e-05</td>\n",
       "      <td>rbf</td>\n",
       "      <td>NaN</td>\n",
       "    </tr>\n",
       "    <tr>\n",
       "      <th>5</th>\n",
       "      <td>RandomForest</td>\n",
       "      <td>0.333333</td>\n",
       "      <td>0.56746</td>\n",
       "      <td>0.777778</td>\n",
       "      <td>0.157905</td>\n",
       "      <td>NaN</td>\n",
       "      <td>NaN</td>\n",
       "      <td>NaN</td>\n",
       "      <td>20</td>\n",
       "    </tr>\n",
       "    <tr>\n",
       "      <th>23</th>\n",
       "      <td>SVC</td>\n",
       "      <td>0.333333</td>\n",
       "      <td>0.564087</td>\n",
       "      <td>0.857143</td>\n",
       "      <td>0.156109</td>\n",
       "      <td>1</td>\n",
       "      <td>0.0464159</td>\n",
       "      <td>rbf</td>\n",
       "      <td>NaN</td>\n",
       "    </tr>\n",
       "    <tr>\n",
       "      <th>107</th>\n",
       "      <td>SVC</td>\n",
       "      <td>0.333333</td>\n",
       "      <td>0.562698</td>\n",
       "      <td>0.857143</td>\n",
       "      <td>0.174331</td>\n",
       "      <td>100000</td>\n",
       "      <td>4.64159e-06</td>\n",
       "      <td>rbf</td>\n",
       "      <td>NaN</td>\n",
       "    </tr>\n",
       "    <tr>\n",
       "      <th>52</th>\n",
       "      <td>SVC</td>\n",
       "      <td>0.333333</td>\n",
       "      <td>0.562698</td>\n",
       "      <td>0.857143</td>\n",
       "      <td>0.174331</td>\n",
       "      <td>46.4159</td>\n",
       "      <td>0.01</td>\n",
       "      <td>rbf</td>\n",
       "      <td>NaN</td>\n",
       "    </tr>\n",
       "    <tr>\n",
       "      <th>6</th>\n",
       "      <td>SVC</td>\n",
       "      <td>0.333333</td>\n",
       "      <td>0.562698</td>\n",
       "      <td>0.857143</td>\n",
       "      <td>0.174331</td>\n",
       "      <td>1</td>\n",
       "      <td>NaN</td>\n",
       "      <td>linear</td>\n",
       "      <td>NaN</td>\n",
       "    </tr>\n",
       "    <tr>\n",
       "      <th>43</th>\n",
       "      <td>SVC</td>\n",
       "      <td>0.333333</td>\n",
       "      <td>0.562698</td>\n",
       "      <td>0.857143</td>\n",
       "      <td>0.174331</td>\n",
       "      <td>12.9155</td>\n",
       "      <td>0.0464159</td>\n",
       "      <td>rbf</td>\n",
       "      <td>NaN</td>\n",
       "    </tr>\n",
       "    <tr>\n",
       "      <th>53</th>\n",
       "      <td>SVC</td>\n",
       "      <td>0.333333</td>\n",
       "      <td>0.560913</td>\n",
       "      <td>0.857143</td>\n",
       "      <td>0.188415</td>\n",
       "      <td>46.4159</td>\n",
       "      <td>0.0464159</td>\n",
       "      <td>rbf</td>\n",
       "      <td>NaN</td>\n",
       "    </tr>\n",
       "    <tr>\n",
       "      <th>25</th>\n",
       "      <td>SVC</td>\n",
       "      <td>0.333333</td>\n",
       "      <td>0.558135</td>\n",
       "      <td>0.777778</td>\n",
       "      <td>0.147894</td>\n",
       "      <td>1</td>\n",
       "      <td>1</td>\n",
       "      <td>rbf</td>\n",
       "      <td>NaN</td>\n",
       "    </tr>\n",
       "    <tr>\n",
       "      <th>112</th>\n",
       "      <td>SVC</td>\n",
       "      <td>0.333333</td>\n",
       "      <td>0.557738</td>\n",
       "      <td>0.777778</td>\n",
       "      <td>0.158885</td>\n",
       "      <td>100000</td>\n",
       "      <td>0.01</td>\n",
       "      <td>rbf</td>\n",
       "      <td>NaN</td>\n",
       "    </tr>\n",
       "    <tr>\n",
       "      <th>...</th>\n",
       "      <td>...</td>\n",
       "      <td>...</td>\n",
       "      <td>...</td>\n",
       "      <td>...</td>\n",
       "      <td>...</td>\n",
       "      <td>...</td>\n",
       "      <td>...</td>\n",
       "      <td>...</td>\n",
       "      <td>...</td>\n",
       "    </tr>\n",
       "    <tr>\n",
       "      <th>56</th>\n",
       "      <td>SVC</td>\n",
       "      <td>0.375</td>\n",
       "      <td>0.439881</td>\n",
       "      <td>0.5</td>\n",
       "      <td>0.0286437</td>\n",
       "      <td>166.81</td>\n",
       "      <td>1e-06</td>\n",
       "      <td>rbf</td>\n",
       "      <td>NaN</td>\n",
       "    </tr>\n",
       "    <tr>\n",
       "      <th>17</th>\n",
       "      <td>SVC</td>\n",
       "      <td>0.375</td>\n",
       "      <td>0.439881</td>\n",
       "      <td>0.5</td>\n",
       "      <td>0.0286437</td>\n",
       "      <td>1</td>\n",
       "      <td>4.64159e-06</td>\n",
       "      <td>rbf</td>\n",
       "      <td>NaN</td>\n",
       "    </tr>\n",
       "    <tr>\n",
       "      <th>16</th>\n",
       "      <td>SVC</td>\n",
       "      <td>0.375</td>\n",
       "      <td>0.439881</td>\n",
       "      <td>0.5</td>\n",
       "      <td>0.0286437</td>\n",
       "      <td>1</td>\n",
       "      <td>1e-06</td>\n",
       "      <td>rbf</td>\n",
       "      <td>NaN</td>\n",
       "    </tr>\n",
       "    <tr>\n",
       "      <th>20</th>\n",
       "      <td>SVC</td>\n",
       "      <td>0.375</td>\n",
       "      <td>0.439881</td>\n",
       "      <td>0.5</td>\n",
       "      <td>0.0286437</td>\n",
       "      <td>1</td>\n",
       "      <td>0.000464159</td>\n",
       "      <td>rbf</td>\n",
       "      <td>NaN</td>\n",
       "    </tr>\n",
       "    <tr>\n",
       "      <th>19</th>\n",
       "      <td>SVC</td>\n",
       "      <td>0.375</td>\n",
       "      <td>0.439881</td>\n",
       "      <td>0.5</td>\n",
       "      <td>0.0286437</td>\n",
       "      <td>1</td>\n",
       "      <td>0.0001</td>\n",
       "      <td>rbf</td>\n",
       "      <td>NaN</td>\n",
       "    </tr>\n",
       "    <tr>\n",
       "      <th>86</th>\n",
       "      <td>SVC</td>\n",
       "      <td>0.375</td>\n",
       "      <td>0.439881</td>\n",
       "      <td>0.5</td>\n",
       "      <td>0.0286437</td>\n",
       "      <td>7742.64</td>\n",
       "      <td>1e-06</td>\n",
       "      <td>rbf</td>\n",
       "      <td>NaN</td>\n",
       "    </tr>\n",
       "    <tr>\n",
       "      <th>21</th>\n",
       "      <td>SVC</td>\n",
       "      <td>0.375</td>\n",
       "      <td>0.439881</td>\n",
       "      <td>0.5</td>\n",
       "      <td>0.0286437</td>\n",
       "      <td>1</td>\n",
       "      <td>0.00215443</td>\n",
       "      <td>rbf</td>\n",
       "      <td>NaN</td>\n",
       "    </tr>\n",
       "    <tr>\n",
       "      <th>22</th>\n",
       "      <td>SVC</td>\n",
       "      <td>0.375</td>\n",
       "      <td>0.439881</td>\n",
       "      <td>0.5</td>\n",
       "      <td>0.0286437</td>\n",
       "      <td>1</td>\n",
       "      <td>0.01</td>\n",
       "      <td>rbf</td>\n",
       "      <td>NaN</td>\n",
       "    </tr>\n",
       "    <tr>\n",
       "      <th>49</th>\n",
       "      <td>SVC</td>\n",
       "      <td>0.375</td>\n",
       "      <td>0.439881</td>\n",
       "      <td>0.5</td>\n",
       "      <td>0.0286437</td>\n",
       "      <td>46.4159</td>\n",
       "      <td>0.0001</td>\n",
       "      <td>rbf</td>\n",
       "      <td>NaN</td>\n",
       "    </tr>\n",
       "    <tr>\n",
       "      <th>48</th>\n",
       "      <td>SVC</td>\n",
       "      <td>0.375</td>\n",
       "      <td>0.439881</td>\n",
       "      <td>0.5</td>\n",
       "      <td>0.0286437</td>\n",
       "      <td>46.4159</td>\n",
       "      <td>2.15443e-05</td>\n",
       "      <td>rbf</td>\n",
       "      <td>NaN</td>\n",
       "    </tr>\n",
       "    <tr>\n",
       "      <th>47</th>\n",
       "      <td>SVC</td>\n",
       "      <td>0.375</td>\n",
       "      <td>0.439881</td>\n",
       "      <td>0.5</td>\n",
       "      <td>0.0286437</td>\n",
       "      <td>46.4159</td>\n",
       "      <td>4.64159e-06</td>\n",
       "      <td>rbf</td>\n",
       "      <td>NaN</td>\n",
       "    </tr>\n",
       "    <tr>\n",
       "      <th>66</th>\n",
       "      <td>SVC</td>\n",
       "      <td>0.375</td>\n",
       "      <td>0.439881</td>\n",
       "      <td>0.5</td>\n",
       "      <td>0.0286437</td>\n",
       "      <td>599.484</td>\n",
       "      <td>1e-06</td>\n",
       "      <td>rbf</td>\n",
       "      <td>NaN</td>\n",
       "    </tr>\n",
       "    <tr>\n",
       "      <th>67</th>\n",
       "      <td>SVC</td>\n",
       "      <td>0.375</td>\n",
       "      <td>0.439881</td>\n",
       "      <td>0.5</td>\n",
       "      <td>0.0286437</td>\n",
       "      <td>599.484</td>\n",
       "      <td>4.64159e-06</td>\n",
       "      <td>rbf</td>\n",
       "      <td>NaN</td>\n",
       "    </tr>\n",
       "    <tr>\n",
       "      <th>68</th>\n",
       "      <td>SVC</td>\n",
       "      <td>0.375</td>\n",
       "      <td>0.439881</td>\n",
       "      <td>0.5</td>\n",
       "      <td>0.0286437</td>\n",
       "      <td>599.484</td>\n",
       "      <td>2.15443e-05</td>\n",
       "      <td>rbf</td>\n",
       "      <td>NaN</td>\n",
       "    </tr>\n",
       "    <tr>\n",
       "      <th>46</th>\n",
       "      <td>SVC</td>\n",
       "      <td>0.375</td>\n",
       "      <td>0.439881</td>\n",
       "      <td>0.5</td>\n",
       "      <td>0.0286437</td>\n",
       "      <td>46.4159</td>\n",
       "      <td>1e-06</td>\n",
       "      <td>rbf</td>\n",
       "      <td>NaN</td>\n",
       "    </tr>\n",
       "    <tr>\n",
       "      <th>40</th>\n",
       "      <td>SVC</td>\n",
       "      <td>0.375</td>\n",
       "      <td>0.439881</td>\n",
       "      <td>0.5</td>\n",
       "      <td>0.0286437</td>\n",
       "      <td>12.9155</td>\n",
       "      <td>0.000464159</td>\n",
       "      <td>rbf</td>\n",
       "      <td>NaN</td>\n",
       "    </tr>\n",
       "    <tr>\n",
       "      <th>39</th>\n",
       "      <td>SVC</td>\n",
       "      <td>0.375</td>\n",
       "      <td>0.439881</td>\n",
       "      <td>0.5</td>\n",
       "      <td>0.0286437</td>\n",
       "      <td>12.9155</td>\n",
       "      <td>0.0001</td>\n",
       "      <td>rbf</td>\n",
       "      <td>NaN</td>\n",
       "    </tr>\n",
       "    <tr>\n",
       "      <th>76</th>\n",
       "      <td>SVC</td>\n",
       "      <td>0.375</td>\n",
       "      <td>0.439881</td>\n",
       "      <td>0.5</td>\n",
       "      <td>0.0286437</td>\n",
       "      <td>2154.43</td>\n",
       "      <td>1e-06</td>\n",
       "      <td>rbf</td>\n",
       "      <td>NaN</td>\n",
       "    </tr>\n",
       "    <tr>\n",
       "      <th>77</th>\n",
       "      <td>SVC</td>\n",
       "      <td>0.375</td>\n",
       "      <td>0.439881</td>\n",
       "      <td>0.5</td>\n",
       "      <td>0.0286437</td>\n",
       "      <td>2154.43</td>\n",
       "      <td>4.64159e-06</td>\n",
       "      <td>rbf</td>\n",
       "      <td>NaN</td>\n",
       "    </tr>\n",
       "    <tr>\n",
       "      <th>38</th>\n",
       "      <td>SVC</td>\n",
       "      <td>0.375</td>\n",
       "      <td>0.439881</td>\n",
       "      <td>0.5</td>\n",
       "      <td>0.0286437</td>\n",
       "      <td>12.9155</td>\n",
       "      <td>2.15443e-05</td>\n",
       "      <td>rbf</td>\n",
       "      <td>NaN</td>\n",
       "    </tr>\n",
       "    <tr>\n",
       "      <th>37</th>\n",
       "      <td>SVC</td>\n",
       "      <td>0.375</td>\n",
       "      <td>0.439881</td>\n",
       "      <td>0.5</td>\n",
       "      <td>0.0286437</td>\n",
       "      <td>12.9155</td>\n",
       "      <td>4.64159e-06</td>\n",
       "      <td>rbf</td>\n",
       "      <td>NaN</td>\n",
       "    </tr>\n",
       "    <tr>\n",
       "      <th>36</th>\n",
       "      <td>SVC</td>\n",
       "      <td>0.375</td>\n",
       "      <td>0.439881</td>\n",
       "      <td>0.5</td>\n",
       "      <td>0.0286437</td>\n",
       "      <td>12.9155</td>\n",
       "      <td>1e-06</td>\n",
       "      <td>rbf</td>\n",
       "      <td>NaN</td>\n",
       "    </tr>\n",
       "    <tr>\n",
       "      <th>31</th>\n",
       "      <td>SVC</td>\n",
       "      <td>0.375</td>\n",
       "      <td>0.439881</td>\n",
       "      <td>0.5</td>\n",
       "      <td>0.0286437</td>\n",
       "      <td>3.59381</td>\n",
       "      <td>0.00215443</td>\n",
       "      <td>rbf</td>\n",
       "      <td>NaN</td>\n",
       "    </tr>\n",
       "    <tr>\n",
       "      <th>30</th>\n",
       "      <td>SVC</td>\n",
       "      <td>0.375</td>\n",
       "      <td>0.439881</td>\n",
       "      <td>0.5</td>\n",
       "      <td>0.0286437</td>\n",
       "      <td>3.59381</td>\n",
       "      <td>0.000464159</td>\n",
       "      <td>rbf</td>\n",
       "      <td>NaN</td>\n",
       "    </tr>\n",
       "    <tr>\n",
       "      <th>29</th>\n",
       "      <td>SVC</td>\n",
       "      <td>0.375</td>\n",
       "      <td>0.439881</td>\n",
       "      <td>0.5</td>\n",
       "      <td>0.0286437</td>\n",
       "      <td>3.59381</td>\n",
       "      <td>0.0001</td>\n",
       "      <td>rbf</td>\n",
       "      <td>NaN</td>\n",
       "    </tr>\n",
       "    <tr>\n",
       "      <th>57</th>\n",
       "      <td>SVC</td>\n",
       "      <td>0.375</td>\n",
       "      <td>0.439881</td>\n",
       "      <td>0.5</td>\n",
       "      <td>0.0286437</td>\n",
       "      <td>166.81</td>\n",
       "      <td>4.64159e-06</td>\n",
       "      <td>rbf</td>\n",
       "      <td>NaN</td>\n",
       "    </tr>\n",
       "    <tr>\n",
       "      <th>28</th>\n",
       "      <td>SVC</td>\n",
       "      <td>0.375</td>\n",
       "      <td>0.439881</td>\n",
       "      <td>0.5</td>\n",
       "      <td>0.0286437</td>\n",
       "      <td>3.59381</td>\n",
       "      <td>2.15443e-05</td>\n",
       "      <td>rbf</td>\n",
       "      <td>NaN</td>\n",
       "    </tr>\n",
       "    <tr>\n",
       "      <th>27</th>\n",
       "      <td>SVC</td>\n",
       "      <td>0.375</td>\n",
       "      <td>0.439881</td>\n",
       "      <td>0.5</td>\n",
       "      <td>0.0286437</td>\n",
       "      <td>3.59381</td>\n",
       "      <td>4.64159e-06</td>\n",
       "      <td>rbf</td>\n",
       "      <td>NaN</td>\n",
       "    </tr>\n",
       "    <tr>\n",
       "      <th>26</th>\n",
       "      <td>SVC</td>\n",
       "      <td>0.375</td>\n",
       "      <td>0.439881</td>\n",
       "      <td>0.5</td>\n",
       "      <td>0.0286437</td>\n",
       "      <td>3.59381</td>\n",
       "      <td>1e-06</td>\n",
       "      <td>rbf</td>\n",
       "      <td>NaN</td>\n",
       "    </tr>\n",
       "    <tr>\n",
       "      <th>58</th>\n",
       "      <td>SVC</td>\n",
       "      <td>0.375</td>\n",
       "      <td>0.439881</td>\n",
       "      <td>0.5</td>\n",
       "      <td>0.0286437</td>\n",
       "      <td>166.81</td>\n",
       "      <td>2.15443e-05</td>\n",
       "      <td>rbf</td>\n",
       "      <td>NaN</td>\n",
       "    </tr>\n",
       "  </tbody>\n",
       "</table>\n",
       "<p>116 rows × 9 columns</p>\n",
       "</div>"
      ],
      "text/plain": [
       "        estimator min_score mean_score max_score  std_score        C  \\\n",
       "71            SVC  0.333333   0.622817  0.857143   0.190713  599.484   \n",
       "7             SVC  0.333333   0.622817  0.857143   0.190713  3.59381   \n",
       "62            SVC  0.333333   0.611706  0.857143   0.191071   166.81   \n",
       "80            SVC  0.333333   0.608532  0.857143   0.177519  2154.43   \n",
       "89            SVC  0.333333   0.602976  0.857143   0.165654  7742.64   \n",
       "70            SVC  0.333333   0.601587  0.888889   0.183222  599.484   \n",
       "1    RandomForest  0.333333   0.591865  0.857143   0.179095      NaN   \n",
       "0    RandomForest  0.222222   0.591071  0.777778   0.166408      NaN   \n",
       "24            SVC  0.333333   0.590476  0.888889   0.188956        1   \n",
       "60            SVC  0.333333   0.585317         1   0.200727   166.81   \n",
       "42            SVC  0.333333   0.584921  0.857143   0.156976  12.9155   \n",
       "97            SVC  0.333333   0.584921  0.857143   0.156976  27825.6   \n",
       "108           SVC  0.333333   0.583135  0.857143   0.165411   100000   \n",
       "32            SVC  0.333333   0.576587  0.857143   0.165225  3.59381   \n",
       "87            SVC  0.333333   0.576587  0.857143   0.165225  7742.64   \n",
       "98            SVC  0.333333   0.575198  0.857143   0.173868  27825.6   \n",
       "61            SVC  0.333333    0.57381  0.888889   0.190478   166.81   \n",
       "69            SVC  0.333333   0.572817         1   0.193857  599.484   \n",
       "51            SVC  0.333333   0.568254  0.857143   0.156259  46.4159   \n",
       "79            SVC  0.333333   0.568254  0.857143   0.156259  2154.43   \n",
       "88            SVC  0.333333   0.568254  0.857143   0.156259  7742.64   \n",
       "5    RandomForest  0.333333    0.56746  0.777778   0.157905      NaN   \n",
       "23            SVC  0.333333   0.564087  0.857143   0.156109        1   \n",
       "107           SVC  0.333333   0.562698  0.857143   0.174331   100000   \n",
       "52            SVC  0.333333   0.562698  0.857143   0.174331  46.4159   \n",
       "6             SVC  0.333333   0.562698  0.857143   0.174331        1   \n",
       "43            SVC  0.333333   0.562698  0.857143   0.174331  12.9155   \n",
       "53            SVC  0.333333   0.560913  0.857143   0.188415  46.4159   \n",
       "25            SVC  0.333333   0.558135  0.777778   0.147894        1   \n",
       "112           SVC  0.333333   0.557738  0.777778   0.158885   100000   \n",
       "..            ...       ...        ...       ...        ...      ...   \n",
       "56            SVC     0.375   0.439881       0.5  0.0286437   166.81   \n",
       "17            SVC     0.375   0.439881       0.5  0.0286437        1   \n",
       "16            SVC     0.375   0.439881       0.5  0.0286437        1   \n",
       "20            SVC     0.375   0.439881       0.5  0.0286437        1   \n",
       "19            SVC     0.375   0.439881       0.5  0.0286437        1   \n",
       "86            SVC     0.375   0.439881       0.5  0.0286437  7742.64   \n",
       "21            SVC     0.375   0.439881       0.5  0.0286437        1   \n",
       "22            SVC     0.375   0.439881       0.5  0.0286437        1   \n",
       "49            SVC     0.375   0.439881       0.5  0.0286437  46.4159   \n",
       "48            SVC     0.375   0.439881       0.5  0.0286437  46.4159   \n",
       "47            SVC     0.375   0.439881       0.5  0.0286437  46.4159   \n",
       "66            SVC     0.375   0.439881       0.5  0.0286437  599.484   \n",
       "67            SVC     0.375   0.439881       0.5  0.0286437  599.484   \n",
       "68            SVC     0.375   0.439881       0.5  0.0286437  599.484   \n",
       "46            SVC     0.375   0.439881       0.5  0.0286437  46.4159   \n",
       "40            SVC     0.375   0.439881       0.5  0.0286437  12.9155   \n",
       "39            SVC     0.375   0.439881       0.5  0.0286437  12.9155   \n",
       "76            SVC     0.375   0.439881       0.5  0.0286437  2154.43   \n",
       "77            SVC     0.375   0.439881       0.5  0.0286437  2154.43   \n",
       "38            SVC     0.375   0.439881       0.5  0.0286437  12.9155   \n",
       "37            SVC     0.375   0.439881       0.5  0.0286437  12.9155   \n",
       "36            SVC     0.375   0.439881       0.5  0.0286437  12.9155   \n",
       "31            SVC     0.375   0.439881       0.5  0.0286437  3.59381   \n",
       "30            SVC     0.375   0.439881       0.5  0.0286437  3.59381   \n",
       "29            SVC     0.375   0.439881       0.5  0.0286437  3.59381   \n",
       "57            SVC     0.375   0.439881       0.5  0.0286437   166.81   \n",
       "28            SVC     0.375   0.439881       0.5  0.0286437  3.59381   \n",
       "27            SVC     0.375   0.439881       0.5  0.0286437  3.59381   \n",
       "26            SVC     0.375   0.439881       0.5  0.0286437  3.59381   \n",
       "58            SVC     0.375   0.439881       0.5  0.0286437   166.81   \n",
       "\n",
       "           gamma  kernel n_estimators  \n",
       "71    0.00215443     rbf          NaN  \n",
       "7            NaN  linear          NaN  \n",
       "62          0.01     rbf          NaN  \n",
       "80   0.000464159     rbf          NaN  \n",
       "89        0.0001     rbf          NaN  \n",
       "70   0.000464159     rbf          NaN  \n",
       "1            NaN     NaN           12  \n",
       "0            NaN     NaN           10  \n",
       "24      0.215443     rbf          NaN  \n",
       "60   0.000464159     rbf          NaN  \n",
       "42          0.01     rbf          NaN  \n",
       "97   4.64159e-06     rbf          NaN  \n",
       "108  2.15443e-05     rbf          NaN  \n",
       "32          0.01     rbf          NaN  \n",
       "87   4.64159e-06     rbf          NaN  \n",
       "98   2.15443e-05     rbf          NaN  \n",
       "61    0.00215443     rbf          NaN  \n",
       "69        0.0001     rbf          NaN  \n",
       "51    0.00215443     rbf          NaN  \n",
       "79        0.0001     rbf          NaN  \n",
       "88   2.15443e-05     rbf          NaN  \n",
       "5            NaN     NaN           20  \n",
       "23     0.0464159     rbf          NaN  \n",
       "107  4.64159e-06     rbf          NaN  \n",
       "52          0.01     rbf          NaN  \n",
       "6            NaN  linear          NaN  \n",
       "43     0.0464159     rbf          NaN  \n",
       "53     0.0464159     rbf          NaN  \n",
       "25             1     rbf          NaN  \n",
       "112         0.01     rbf          NaN  \n",
       "..           ...     ...          ...  \n",
       "56         1e-06     rbf          NaN  \n",
       "17   4.64159e-06     rbf          NaN  \n",
       "16         1e-06     rbf          NaN  \n",
       "20   0.000464159     rbf          NaN  \n",
       "19        0.0001     rbf          NaN  \n",
       "86         1e-06     rbf          NaN  \n",
       "21    0.00215443     rbf          NaN  \n",
       "22          0.01     rbf          NaN  \n",
       "49        0.0001     rbf          NaN  \n",
       "48   2.15443e-05     rbf          NaN  \n",
       "47   4.64159e-06     rbf          NaN  \n",
       "66         1e-06     rbf          NaN  \n",
       "67   4.64159e-06     rbf          NaN  \n",
       "68   2.15443e-05     rbf          NaN  \n",
       "46         1e-06     rbf          NaN  \n",
       "40   0.000464159     rbf          NaN  \n",
       "39        0.0001     rbf          NaN  \n",
       "76         1e-06     rbf          NaN  \n",
       "77   4.64159e-06     rbf          NaN  \n",
       "38   2.15443e-05     rbf          NaN  \n",
       "37   4.64159e-06     rbf          NaN  \n",
       "36         1e-06     rbf          NaN  \n",
       "31    0.00215443     rbf          NaN  \n",
       "30   0.000464159     rbf          NaN  \n",
       "29        0.0001     rbf          NaN  \n",
       "57   4.64159e-06     rbf          NaN  \n",
       "28   2.15443e-05     rbf          NaN  \n",
       "27   4.64159e-06     rbf          NaN  \n",
       "26         1e-06     rbf          NaN  \n",
       "58   2.15443e-05     rbf          NaN  \n",
       "\n",
       "[116 rows x 9 columns]"
      ]
     },
     "execution_count": 318,
     "metadata": {},
     "output_type": "execute_result"
    }
   ],
   "source": [
    "# Compare performance for estimators (accuracy)\n",
    "# Function features only\n",
    "helper.score_summary(sort_by='mean_score')"
   ]
  },
  {
   "cell_type": "markdown",
   "metadata": {
    "ExecuteTime": {
     "end_time": "2018-10-22T17:34:55.421515Z",
     "start_time": "2018-10-22T17:34:55.417186Z"
    },
    "collapsed": true
   },
   "source": [
    "## Essentially leave one out cross validation, slight biases, might be overfitting"
   ]
  },
  {
   "cell_type": "markdown",
   "metadata": {
    "collapsed": true
   },
   "source": [
    "This runs just the ENM data using an SVC, optimizing parameters with a grid search using cross-validation."
   ]
  },
  {
   "cell_type": "code",
   "execution_count": 252,
   "metadata": {
    "ExecuteTime": {
     "end_time": "2019-01-10T01:27:41.467755Z",
     "start_time": "2019-01-10T01:27:34.232369Z"
    }
   },
   "outputs": [
    {
     "name": "stdout",
     "output_type": "stream",
     "text": [
      "{'estimator__C': 297.63514416313194, 'estimator__gamma': 0.002976351441631316}\n",
      "0.6219512195121951\n",
      "accuracy\n"
     ]
    },
    {
     "data": {
      "text/html": [
       "\n",
       "                <audio controls=\"controls\" autoplay=\"autoplay\">\n",
       "                    <source src=\"./data/Glass.wav\" type=\"audio/x-wav\" />\n",
       "                    Your browser does not support the audio element.\n",
       "                </audio>\n",
       "              "
      ],
      "text/plain": [
       "<IPython.lib.display.Audio object>"
      ]
     },
     "execution_count": 252,
     "metadata": {},
     "output_type": "execute_result"
    }
   ],
   "source": [
    "# SVR-RBF with all features, normalized\n",
    "    # ENM weight fractions\n",
    "    # Accuracy\n",
    "\n",
    "from sklearn.pipeline import Pipeline\n",
    "from sklearn.model_selection import GridSearchCV\n",
    "from sklearn.preprocessing import MinMaxScaler\n",
    "from sklearn.svm import SVC\n",
    "\n",
    "# Pipeline\n",
    "estimator = SVC(kernel='rbf',class_weight='balanced')\n",
    "prepipe = Pipeline([\n",
    "    ('scale', MinMaxScaler()),\n",
    "    ('estimator', estimator)\n",
    "])\n",
    "\n",
    "# Set parameter ranges for gridsearch\n",
    "cv=10\n",
    "n_jobs=3\n",
    "c_set=np.logspace(1,3,20)\n",
    "gamma_set=np.logspace(-6,0,20)\n",
    "\n",
    "# Gridsearch\n",
    "param_grid={'estimator__C': c_set,\n",
    "            'estimator__gamma': gamma_set\n",
    "           }\n",
    "grid_search=GridSearchCV(prepipe,param_grid,cv=cv,scoring='accuracy', n_jobs=n_jobs, pre_dispatch=2*n_jobs)\n",
    "grid_search.fit(X_enm+0.00001,bin_enm)\n",
    "print(grid_search.best_params_)\n",
    "print(grid_search.best_score_)\n",
    "print(grid_search.scoring)\n",
    "\n",
    "# Play sound when done running\n",
    "Audio(url=sound_file, autoplay=True)"
   ]
  },
  {
   "cell_type": "code",
   "execution_count": 253,
   "metadata": {
    "ExecuteTime": {
     "end_time": "2019-01-10T01:27:41.508977Z",
     "start_time": "2019-01-10T01:27:41.481637Z"
    },
    "collapsed": true
   },
   "outputs": [],
   "source": [
    "# Final pipeline\n",
    "bestpipe = Pipeline([\n",
    "    ('scale', MinMaxScaler()),\n",
    "    ('estimator', SVC(kernel='rbf',class_weight='balanced', \n",
    "                      C=297.63514416313194, \n",
    "                      gamma=0.002976351441631316))\n",
    "     ])"
   ]
  },
  {
   "cell_type": "code",
   "execution_count": 254,
   "metadata": {
    "ExecuteTime": {
     "end_time": "2019-01-10T01:27:41.603900Z",
     "start_time": "2019-01-10T01:27:41.545918Z"
    },
    "collapsed": true
   },
   "outputs": [],
   "source": [
    "# Make a confusion matrix function to summarize accuracy across labels\n",
    "from sklearn.metrics import confusion_matrix\n",
    "import itertools\n",
    "\n",
    "def plot_confusion_matrix(cm, classes,\n",
    "                          normalize=False,\n",
    "                          title='Confusion matrix',\n",
    "                          cmap=plt.cm.Blues):\n",
    "    \"\"\"\n",
    "    This function prints and plots the confusion matrix.\n",
    "    Normalization can be applied by setting `normalize=True`.\n",
    "    \"\"\"\n",
    "    if normalize:\n",
    "        cm = cm.astype('float') / cm.sum(axis=1)[:, np.newaxis]\n",
    "        print(\"Normalized confusion matrix\")\n",
    "    else:\n",
    "        print('Confusion matrix, without normalization')\n",
    "\n",
    "    print(cm)\n",
    "\n",
    "    plt.imshow(cm, interpolation='nearest', cmap=cmap)\n",
    "    plt.title(title)\n",
    "    plt.colorbar()\n",
    "    tick_marks = np.arange(len(classes))\n",
    "    plt.xticks(tick_marks, classes, rotation=45)\n",
    "    plt.yticks(tick_marks, classes)\n",
    "\n",
    "    fmt = '.2f' if normalize else 'd'\n",
    "    thresh = cm.max() / 2.\n",
    "    for i, j in itertools.product(range(cm.shape[0]), range(cm.shape[1])):\n",
    "        plt.text(j, i, format(cm[i, j], fmt),\n",
    "                 horizontalalignment=\"center\",\n",
    "                 color=\"white\" if cm[i, j] > thresh else \"black\")\n",
    "    plt.tight_layout()\n",
    "    plt.ylabel('True label')\n",
    "    plt.xlabel('Predicted label')"
   ]
  },
  {
   "cell_type": "code",
   "execution_count": 255,
   "metadata": {
    "ExecuteTime": {
     "end_time": "2019-01-10T01:27:42.340279Z",
     "start_time": "2019-01-10T01:27:41.618490Z"
    }
   },
   "outputs": [
    {
     "name": "stdout",
     "output_type": "stream",
     "text": [
      "Confusion matrix, without normalization\n",
      "[[30  3  3]\n",
      " [10 15  4]\n",
      " [ 4  2 11]]\n",
      "Normalized confusion matrix\n",
      "[[0.83 0.08 0.08]\n",
      " [0.34 0.52 0.14]\n",
      " [0.24 0.12 0.65]]\n"
     ]
    },
    {
     "data": {
      "image/png": "[encoded data removed]",
      "text/plain": [
       "<Figure size 432x288 with 2 Axes>"
      ]
     },
     "metadata": {},
     "output_type": "display_data"
    },
    {
     "data": {
      "image/png": "[encoded data removed]",
      "text/plain": [
       "<Figure size 432x288 with 2 Axes>"
      ]
     },
     "metadata": {},
     "output_type": "display_data"
    }
   ],
   "source": [
    "# Cross-validation for confusion matrix\n",
    "from sklearn import model_selection\n",
    "\n",
    "X=np.array(X_enm)\n",
    "y=np.array(bin_enm)\n",
    "\n",
    "kfold = model_selection.StratifiedKFold(n_splits=17,shuffle=True, random_state=24)\n",
    "cnf_matrix2=np.zeros([3,3])\n",
    "\n",
    "for train_index,test_index in kfold.split(X,y):\n",
    "    X_train, X_test = X[train_index], X[test_index]\n",
    "    y_train, y_test = y[train_index], y[test_index]\n",
    "    bestpipe.fit(X_train,y_train)\n",
    "    y_enm_predict=bestpipe.predict(X_test)\n",
    "    y[test_index]=y_enm_predict\n",
    "    cnf_matrix2+= confusion_matrix(y_test, y_enm_predict);\n",
    "    \n",
    "# Set confusion matrix\n",
    "cnf_matrix=cnf_matrix2.astype(np.int)\n",
    "cnf_matrix = confusion_matrix(bin_enm, y)\n",
    "\n",
    "np.set_printoptions(precision=2)\n",
    "class_names=[\"low\",\"mid\",\"high\"]\n",
    "\n",
    "# Plot non-normalized confusion matrix\n",
    "fig = plt.figure()\n",
    "plot_confusion_matrix(cnf_matrix, classes=class_names,\n",
    "                      title='Confusion matrix, without normalization')\n",
    "fig.savefig('./BLTfigs/confusion_notnorm_enm_only.png')\n",
    "\n",
    "# Plot normalized confusion matrix\n",
    "fig = plt.figure()\n",
    "plot_confusion_matrix(cnf_matrix, classes=class_names, normalize=True,\n",
    "                      title='Normalized confusion matrix')\n",
    "fig.savefig('./BLTfigs/confusion_norm_enm_only.png')\n",
    "plt.show()"
   ]
  },
  {
   "cell_type": "code",
   "execution_count": 256,
   "metadata": {
    "ExecuteTime": {
     "end_time": "2019-01-10T01:27:49.490238Z",
     "start_time": "2019-01-10T01:27:49.451273Z"
    }
   },
   "outputs": [
    {
     "data": {
      "text/plain": [
       "0.66587784539103"
      ]
     },
     "execution_count": 256,
     "metadata": {},
     "output_type": "execute_result"
    }
   ],
   "source": [
    "# TODO: Calculate the normalized average accuracy\n",
    "# for use in a graph of augmentation performance\n",
    "cm_norm = cnf_matrix.astype('float') / cnf_matrix.sum(axis=1)[:, np.newaxis]\n",
    "avg_norm_enm = (cm_norm[0,0]+cm_norm[1,1]+cm_norm[2,2])/3\n",
    "avg_norm_enm"
   ]
  },
  {
   "cell_type": "markdown",
   "metadata": {
    "collapsed": true
   },
   "source": [
    "## 1:200 ENM-organics data"
   ]
  },
  {
   "cell_type": "code",
   "execution_count": 84,
   "metadata": {
    "ExecuteTime": {
     "end_time": "2018-12-14T11:30:39.209058Z",
     "start_time": "2018-12-14T09:31:06.361131Z"
    }
   },
   "outputs": [
    {
     "name": "stdout",
     "output_type": "stream",
     "text": [
      "{'estimator__C': 6.309573444801933, 'estimator__gamma': 1e-05}\n",
      "0.49202969092236554\n"
     ]
    },
    {
     "data": {
      "text/html": [
       "\n",
       "                <audio controls=\"controls\" autoplay=\"autoplay\">\n",
       "                    <source src=\"./data/Glass.wav\" type=\"audio/x-wav\" />\n",
       "                    Your browser does not support the audio element.\n",
       "                </audio>\n",
       "              "
      ],
      "text/plain": [
       "<IPython.lib.display.Audio object>"
      ]
     },
     "execution_count": 84,
     "metadata": {},
     "output_type": "execute_result"
    }
   ],
   "source": [
    "# TODO: Rerun with gamma_set=np.logspace(-6,0,6)\n",
    "# SVC-RBF with all features, normalized\n",
    "    # ENM weight fractions\n",
    "    # Accuracy\n",
    "\n",
    "from sklearn.pipeline import Pipeline\n",
    "from sklearn.model_selection import GridSearchCV\n",
    "from sklearn.preprocessing import MinMaxScaler\n",
    "from sklearn.svm import SVC\n",
    "\n",
    "# Pipeline\n",
    "estimator = SVC(kernel='rbf',class_weight='balanced')\n",
    "prepipe = Pipeline([\n",
    "    ('scale', MinMaxScaler()),\n",
    "    ('estimator', estimator)\n",
    "])\n",
    "\n",
    "# Set parameter ranges for gridsearch\n",
    "cv=10\n",
    "n_jobs=3\n",
    "c_set=np.logspace(0,4,6)\n",
    "gamma_set=np.logspace(-5,0,6)\n",
    "\n",
    "# Gridsearch\n",
    "param_grid={'estimator__C': c_set,\n",
    "            'estimator__gamma': gamma_set\n",
    "           }\n",
    "grid_search=GridSearchCV(prepipe,param_grid,cv=cv,scoring='accuracy', n_jobs=n_jobs, pre_dispatch=2*n_jobs)\n",
    "grid_search.fit(X_all+0.00001,bin_all)\n",
    "print(grid_search.best_params_)\n",
    "print(grid_search.best_score_)\n",
    "\n",
    "# Play sound when done running\n",
    "Audio(url=sound_file, autoplay=True)"
   ]
  },
  {
   "cell_type": "code",
   "execution_count": 160,
   "metadata": {
    "ExecuteTime": {
     "end_time": "2018-12-14T20:35:52.286024Z",
     "start_time": "2018-12-14T20:35:19.671922Z"
    }
   },
   "outputs": [
    {
     "data": {
      "text/plain": [
       "Pipeline(memory=None,\n",
       "     steps=[('scale', MinMaxScaler(copy=True, feature_range=(0, 1))), ('estimator', SVC(C=6.309573444801933, cache_size=200, class_weight='balanced', coef0=0.0,\n",
       "  decision_function_shape='ovr', degree=3, gamma=1e-05, kernel='rbf',\n",
       "  max_iter=-1, probability=False, random_state=None, shrinking=True,\n",
       "  tol=0.001, verbose=False))])"
      ]
     },
     "execution_count": 160,
     "metadata": {},
     "output_type": "execute_result"
    }
   ],
   "source": [
    "# Final pipeline\n",
    "bestpipe = Pipeline([\n",
    "    ('scale', MinMaxScaler()),\n",
    "    ('estimator', SVC(kernel='rbf',class_weight='balanced', \n",
    "                      C=6.309573444801933, \n",
    "                      gamma=1e-05))\n",
    "     ])\n",
    "bestpipe.fit(X_all,bin_all)"
   ]
  },
  {
   "cell_type": "code",
   "execution_count": 161,
   "metadata": {
    "ExecuteTime": {
     "end_time": "2018-12-14T20:36:41.798948Z",
     "start_time": "2018-12-14T20:36:41.419290Z"
    }
   },
   "outputs": [
    {
     "name": "stdout",
     "output_type": "stream",
     "text": [
      "Confusion matrix, without normalization\n",
      "[[ 6 15 15]\n",
      " [ 5 11 13]\n",
      " [ 4  7  6]]\n",
      "Normalized confusion matrix\n",
      "[[0.17 0.42 0.42]\n",
      " [0.17 0.38 0.45]\n",
      " [0.24 0.41 0.35]]\n"
     ]
    },
    {
     "data": {
      "image/png": "[encoded data removed]",
      "text/plain": [
       "<Figure size 432x288 with 2 Axes>"
      ]
     },
     "metadata": {},
     "output_type": "display_data"
    },
    {
     "data": {
      "image/png": "[encoded data removed]",
      "text/plain": [
       "<Figure size 432x288 with 2 Axes>"
      ]
     },
     "metadata": {},
     "output_type": "display_data"
    }
   ],
   "source": [
    "# Cross-validation for confusion matrix\n",
    "from sklearn import model_selection\n",
    "\n",
    "X=np.array(X_enm)\n",
    "y=np.array(bin_enm)\n",
    "\n",
    "kfold = model_selection.StratifiedKFold(n_splits=17,shuffle=True, random_state=24)\n",
    "cnf_matrix2=np.zeros([3,3])\n",
    "\n",
    "for train_index,test_index in kfold.split(X,y):\n",
    "    X_train, X_test = X[train_index], X[test_index]\n",
    "    y_train, y_test = y[train_index], y[test_index]\n",
    "    bestpipe.fit(X_train,y_train)\n",
    "    y_enm_predict=bestpipe.predict(X_test)\n",
    "    y[test_index]=y_enm_predict\n",
    "    cnf_matrix2+= confusion_matrix(y_test, y_enm_predict);\n",
    "    \n",
    "# Set confusion matrix\n",
    "cnf_matrix=cnf_matrix2.astype(np.int)\n",
    "cnf_matrix = confusion_matrix(bin_enm, y)\n",
    "\n",
    "np.set_printoptions(precision=2)\n",
    "class_names=[\"low\",\"mid\",\"high\"]\n",
    "\n",
    "# Plot non-normalized confusion matrix\n",
    "fig = plt.figure()\n",
    "plot_confusion_matrix(cnf_matrix, classes=class_names,\n",
    "                      title='Confusion matrix, without normalization')\n",
    "fig.savefig('./BLTfigs/confusion_notnorm_mix_200.png')\n",
    "\n",
    "# Plot normalized confusion matrix\n",
    "fig = plt.figure()\n",
    "plot_confusion_matrix(cnf_matrix, classes=class_names, normalize=True,\n",
    "                      title='Normalized confusion matrix')\n",
    "fig.savefig('./BLTfigs/confusion_norm_mix_200.png')\n",
    "plt.show()"
   ]
  },
  {
   "cell_type": "code",
   "execution_count": 257,
   "metadata": {
    "ExecuteTime": {
     "end_time": "2019-01-10T01:28:21.993280Z",
     "start_time": "2019-01-10T01:28:21.962163Z"
    }
   },
   "outputs": [
    {
     "data": {
      "text/plain": [
       "0.3"
      ]
     },
     "execution_count": 257,
     "metadata": {},
     "output_type": "execute_result"
    }
   ],
   "source": [
    "# Calculate the normalized average accuracy\n",
    "# for use in a graph of augmentation performance\n",
    "avg_norm_oneto200 = (0.17+0.38+0.35)/3\n",
    "avg_norm_oneto200"
   ]
  },
  {
   "cell_type": "markdown",
   "metadata": {},
   "source": [
    "## 1:100 ENM-organics data"
   ]
  },
  {
   "cell_type": "code",
   "execution_count": 306,
   "metadata": {
    "ExecuteTime": {
     "end_time": "2019-01-10T02:22:22.368617Z",
     "start_time": "2019-01-10T01:54:51.208858Z"
    }
   },
   "outputs": [
    {
     "name": "stdout",
     "output_type": "stream",
     "text": [
      "{'estimator__C': 10000.0, 'estimator__gamma': 1.0}\n",
      "0.7407631007003139\n"
     ]
    },
    {
     "data": {
      "text/html": [
       "\n",
       "                <audio controls=\"controls\" autoplay=\"autoplay\">\n",
       "                    <source src=\"./data/Glass.wav\" type=\"audio/x-wav\" />\n",
       "                    Your browser does not support the audio element.\n",
       "                </audio>\n",
       "              "
      ],
      "text/plain": [
       "<IPython.lib.display.Audio object>"
      ]
     },
     "execution_count": 306,
     "metadata": {},
     "output_type": "execute_result"
    }
   ],
   "source": [
    "# SVC-RBF with all features, normalized\n",
    "    # ENM weight fractions\n",
    "    # Accuracy\n",
    "\n",
    "from sklearn.pipeline import Pipeline\n",
    "from sklearn.model_selection import GridSearchCV\n",
    "from sklearn.preprocessing import MinMaxScaler\n",
    "from sklearn.svm import SVC\n",
    "\n",
    "# Pipeline\n",
    "estimator = SVC(kernel='rbf',class_weight='balanced')\n",
    "prepipe = Pipeline([\n",
    "    ('scale', MinMaxScaler()),\n",
    "    ('estimator', estimator)\n",
    "])\n",
    "\n",
    "# Set parameter ranges for gridsearch\n",
    "cv=10\n",
    "n_jobs=3\n",
    "c_set=np.logspace(0,4,6)\n",
    "gamma_set=np.logspace(-6,0,6)\n",
    "\n",
    "# Gridsearch\n",
    "param_grid={'estimator__C': c_set,\n",
    "            'estimator__gamma': gamma_set\n",
    "           }\n",
    "grid_search=GridSearchCV(prepipe,param_grid,cv=cv,scoring='accuracy', n_jobs=n_jobs, pre_dispatch=2*n_jobs)\n",
    "grid_search.fit(X_oneto100+0.00001,bin_oneto100)\n",
    "print(grid_search.best_params_)\n",
    "print(grid_search.best_score_)\n",
    "\n",
    "# Play sound when done running\n",
    "Audio(url=sound_file, autoplay=True)"
   ]
  },
  {
   "cell_type": "code",
   "execution_count": 307,
   "metadata": {
    "ExecuteTime": {
     "end_time": "2019-01-10T02:24:25.140612Z",
     "start_time": "2019-01-10T02:24:16.544044Z"
    }
   },
   "outputs": [
    {
     "data": {
      "text/plain": [
       "Pipeline(memory=None,\n",
       "     steps=[('scale', MinMaxScaler(copy=True, feature_range=(0, 1))), ('estimator', SVC(C=10000.0, cache_size=200, class_weight='balanced', coef0=0.0,\n",
       "  decision_function_shape='ovr', degree=3, gamma=1.0, kernel='rbf',\n",
       "  max_iter=-1, probability=False, random_state=None, shrinking=True,\n",
       "  tol=0.001, verbose=False))])"
      ]
     },
     "execution_count": 307,
     "metadata": {},
     "output_type": "execute_result"
    }
   ],
   "source": [
    "# Final pipeline\n",
    "bestpipe = Pipeline([\n",
    "    ('scale', MinMaxScaler()),\n",
    "    ('estimator', SVC(kernel='rbf',class_weight='balanced', \n",
    "                      C=10000.0, \n",
    "                      gamma=1.0))\n",
    "     ])\n",
    "bestpipe.fit(X_oneto100,bin_oneto100)"
   ]
  },
  {
   "cell_type": "code",
   "execution_count": 308,
   "metadata": {
    "ExecuteTime": {
     "end_time": "2019-01-10T02:24:29.220213Z",
     "start_time": "2019-01-10T02:24:28.662079Z"
    }
   },
   "outputs": [
    {
     "name": "stdout",
     "output_type": "stream",
     "text": [
      "Confusion matrix, without normalization\n",
      "[[22 11  3]\n",
      " [ 7 19  3]\n",
      " [10  3  4]]\n",
      "Normalized confusion matrix\n",
      "[[0.61 0.31 0.08]\n",
      " [0.24 0.66 0.1 ]\n",
      " [0.59 0.18 0.24]]\n"
     ]
    },
    {
     "data": {
      "image/png": "[encoded data removed]",
      "text/plain": [
       "<Figure size 432x288 with 2 Axes>"
      ]
     },
     "metadata": {},
     "output_type": "display_data"
    },
    {
     "data": {
      "image/png": "[encoded data removed]",
      "text/plain": [
       "<Figure size 432x288 with 2 Axes>"
      ]
     },
     "metadata": {},
     "output_type": "display_data"
    }
   ],
   "source": [
    "# Cross-validation for confusion matrix\n",
    "from sklearn import model_selection\n",
    "\n",
    "X=np.array(X_enm)\n",
    "y=np.array(bin_enm)\n",
    "\n",
    "kfold = model_selection.StratifiedKFold(n_splits=17,shuffle=True, random_state=24)\n",
    "cnf_matrix2=np.zeros([3,3])\n",
    "\n",
    "for train_index,test_index in kfold.split(X,y):\n",
    "    X_train, X_test = X[train_index], X[test_index]\n",
    "    y_train, y_test = y[train_index], y[test_index]\n",
    "    bestpipe.fit(X_train,y_train)\n",
    "    y_enm_predict=bestpipe.predict(X_test)\n",
    "    y[test_index]=y_enm_predict\n",
    "    cnf_matrix2+= confusion_matrix(y_test, y_enm_predict);\n",
    "    \n",
    "# Set confusion matrix\n",
    "cnf_matrix=cnf_matrix2.astype(np.int)\n",
    "cnf_matrix = confusion_matrix(bin_enm, y)\n",
    "\n",
    "np.set_printoptions(precision=2)\n",
    "class_names=[\"low\",\"mid\",\"high\"]\n",
    "\n",
    "# Plot non-normalized confusion matrix\n",
    "fig = plt.figure()\n",
    "plot_confusion_matrix(cnf_matrix, classes=class_names,\n",
    "                      title='Confusion matrix, without normalization')\n",
    "fig.savefig('./BLTfigs/confusion_notnorm_mix_100.png')\n",
    "\n",
    "# Plot normalized confusion matrix\n",
    "fig = plt.figure()\n",
    "plot_confusion_matrix(cnf_matrix, classes=class_names, normalize=True,\n",
    "                      title='Normalized confusion matrix')\n",
    "fig.savefig('./BLTfigs/confusion_norm_mix_100.png')\n",
    "plt.show()"
   ]
  },
  {
   "cell_type": "code",
   "execution_count": 309,
   "metadata": {
    "ExecuteTime": {
     "end_time": "2019-01-10T02:24:34.114042Z",
     "start_time": "2019-01-10T02:24:34.079126Z"
    }
   },
   "outputs": [
    {
     "data": {
      "text/plain": [
       "0.5005258808504245"
      ]
     },
     "execution_count": 309,
     "metadata": {},
     "output_type": "execute_result"
    }
   ],
   "source": [
    "# Calculate the normalized average accuracy\n",
    "# for use in a graph of augmentation performance\n",
    "cm_norm = cnf_matrix.astype('float') / cnf_matrix.sum(axis=1)[:, np.newaxis]\n",
    "avg_norm_oneto100 = (cm_norm[0,0]+cm_norm[1,1]+cm_norm[2,2])/3\n",
    "avg_norm_oneto100"
   ]
  },
  {
   "cell_type": "markdown",
   "metadata": {},
   "source": [
    "## 1:50 ENM-organics data"
   ]
  },
  {
   "cell_type": "code",
   "execution_count": 95,
   "metadata": {
    "ExecuteTime": {
     "end_time": "2018-12-18T00:43:37.208444Z",
     "start_time": "2018-12-18T00:38:22.582125Z"
    }
   },
   "outputs": [
    {
     "ename": "KeyboardInterrupt",
     "evalue": "",
     "output_type": "error",
     "traceback": [
      "\u001b[0;31m---------------------------------------------------------------------------\u001b[0m",
      "\u001b[0;31mKeyboardInterrupt\u001b[0m                         Traceback (most recent call last)",
      "\u001b[0;32m<ipython-input-95-d281bb46d4e2>\u001b[0m in \u001b[0;36m<module>\u001b[0;34m()\u001b[0m\n\u001b[1;32m     26\u001b[0m            }\n\u001b[1;32m     27\u001b[0m \u001b[0mgrid_search\u001b[0m\u001b[0;34m=\u001b[0m\u001b[0mGridSearchCV\u001b[0m\u001b[0;34m(\u001b[0m\u001b[0mprepipe\u001b[0m\u001b[0;34m,\u001b[0m\u001b[0mparam_grid\u001b[0m\u001b[0;34m,\u001b[0m\u001b[0mcv\u001b[0m\u001b[0;34m=\u001b[0m\u001b[0mcv\u001b[0m\u001b[0;34m,\u001b[0m\u001b[0mscoring\u001b[0m\u001b[0;34m=\u001b[0m\u001b[0;34m'accuracy'\u001b[0m\u001b[0;34m,\u001b[0m \u001b[0mn_jobs\u001b[0m\u001b[0;34m=\u001b[0m\u001b[0mn_jobs\u001b[0m\u001b[0;34m,\u001b[0m \u001b[0mpre_dispatch\u001b[0m\u001b[0;34m=\u001b[0m\u001b[0;36m2\u001b[0m\u001b[0;34m*\u001b[0m\u001b[0mn_jobs\u001b[0m\u001b[0;34m)\u001b[0m\u001b[0;34m\u001b[0m\u001b[0m\n\u001b[0;32m---> 28\u001b[0;31m \u001b[0mgrid_search\u001b[0m\u001b[0;34m.\u001b[0m\u001b[0mfit\u001b[0m\u001b[0;34m(\u001b[0m\u001b[0mX_oneto50\u001b[0m\u001b[0;34m+\u001b[0m\u001b[0;36m0.00001\u001b[0m\u001b[0;34m,\u001b[0m\u001b[0mbin_oneto50\u001b[0m\u001b[0;34m)\u001b[0m\u001b[0;34m\u001b[0m\u001b[0m\n\u001b[0m\u001b[1;32m     29\u001b[0m \u001b[0mprint\u001b[0m\u001b[0;34m(\u001b[0m\u001b[0mgrid_search\u001b[0m\u001b[0;34m.\u001b[0m\u001b[0mbest_params_\u001b[0m\u001b[0;34m)\u001b[0m\u001b[0;34m\u001b[0m\u001b[0m\n\u001b[1;32m     30\u001b[0m \u001b[0mprint\u001b[0m\u001b[0;34m(\u001b[0m\u001b[0mgrid_search\u001b[0m\u001b[0;34m.\u001b[0m\u001b[0mbest_score_\u001b[0m\u001b[0;34m)\u001b[0m\u001b[0;34m\u001b[0m\u001b[0m\n",
      "\u001b[0;32m/anaconda3/lib/python3.6/site-packages/sklearn/model_selection/_search.py\u001b[0m in \u001b[0;36mfit\u001b[0;34m(self, X, y, groups, **fit_params)\u001b[0m\n\u001b[1;32m    637\u001b[0m                                   error_score=self.error_score)\n\u001b[1;32m    638\u001b[0m           for parameters, (train, test) in product(candidate_params,\n\u001b[0;32m--> 639\u001b[0;31m                                                    cv.split(X, y, groups)))\n\u001b[0m\u001b[1;32m    640\u001b[0m \u001b[0;34m\u001b[0m\u001b[0m\n\u001b[1;32m    641\u001b[0m         \u001b[0;31m# if one choose to see train score, \"out\" will contain train score info\u001b[0m\u001b[0;34m\u001b[0m\u001b[0;34m\u001b[0m\u001b[0m\n",
      "\u001b[0;32m/anaconda3/lib/python3.6/site-packages/sklearn/externals/joblib/parallel.py\u001b[0m in \u001b[0;36m__call__\u001b[0;34m(self, iterable)\u001b[0m\n\u001b[1;32m    787\u001b[0m                 \u001b[0;31m# consumption.\u001b[0m\u001b[0;34m\u001b[0m\u001b[0;34m\u001b[0m\u001b[0m\n\u001b[1;32m    788\u001b[0m                 \u001b[0mself\u001b[0m\u001b[0;34m.\u001b[0m\u001b[0m_iterating\u001b[0m \u001b[0;34m=\u001b[0m \u001b[0;32mFalse\u001b[0m\u001b[0;34m\u001b[0m\u001b[0m\n\u001b[0;32m--> 789\u001b[0;31m             \u001b[0mself\u001b[0m\u001b[0;34m.\u001b[0m\u001b[0mretrieve\u001b[0m\u001b[0;34m(\u001b[0m\u001b[0;34m)\u001b[0m\u001b[0;34m\u001b[0m\u001b[0m\n\u001b[0m\u001b[1;32m    790\u001b[0m             \u001b[0;31m# Make sure that we get a last message telling us we are done\u001b[0m\u001b[0;34m\u001b[0m\u001b[0;34m\u001b[0m\u001b[0m\n\u001b[1;32m    791\u001b[0m             \u001b[0melapsed_time\u001b[0m \u001b[0;34m=\u001b[0m \u001b[0mtime\u001b[0m\u001b[0;34m.\u001b[0m\u001b[0mtime\u001b[0m\u001b[0;34m(\u001b[0m\u001b[0;34m)\u001b[0m \u001b[0;34m-\u001b[0m \u001b[0mself\u001b[0m\u001b[0;34m.\u001b[0m\u001b[0m_start_time\u001b[0m\u001b[0;34m\u001b[0m\u001b[0m\n",
      "\u001b[0;32m/anaconda3/lib/python3.6/site-packages/sklearn/externals/joblib/parallel.py\u001b[0m in \u001b[0;36mretrieve\u001b[0;34m(self)\u001b[0m\n\u001b[1;32m    697\u001b[0m             \u001b[0;32mtry\u001b[0m\u001b[0;34m:\u001b[0m\u001b[0;34m\u001b[0m\u001b[0m\n\u001b[1;32m    698\u001b[0m                 \u001b[0;32mif\u001b[0m \u001b[0mgetattr\u001b[0m\u001b[0;34m(\u001b[0m\u001b[0mself\u001b[0m\u001b[0;34m.\u001b[0m\u001b[0m_backend\u001b[0m\u001b[0;34m,\u001b[0m \u001b[0;34m'supports_timeout'\u001b[0m\u001b[0;34m,\u001b[0m \u001b[0;32mFalse\u001b[0m\u001b[0;34m)\u001b[0m\u001b[0;34m:\u001b[0m\u001b[0;34m\u001b[0m\u001b[0m\n\u001b[0;32m--> 699\u001b[0;31m                     \u001b[0mself\u001b[0m\u001b[0;34m.\u001b[0m\u001b[0m_output\u001b[0m\u001b[0;34m.\u001b[0m\u001b[0mextend\u001b[0m\u001b[0;34m(\u001b[0m\u001b[0mjob\u001b[0m\u001b[0;34m.\u001b[0m\u001b[0mget\u001b[0m\u001b[0;34m(\u001b[0m\u001b[0mtimeout\u001b[0m\u001b[0;34m=\u001b[0m\u001b[0mself\u001b[0m\u001b[0;34m.\u001b[0m\u001b[0mtimeout\u001b[0m\u001b[0;34m)\u001b[0m\u001b[0;34m)\u001b[0m\u001b[0;34m\u001b[0m\u001b[0m\n\u001b[0m\u001b[1;32m    700\u001b[0m                 \u001b[0;32melse\u001b[0m\u001b[0;34m:\u001b[0m\u001b[0;34m\u001b[0m\u001b[0m\n\u001b[1;32m    701\u001b[0m                     \u001b[0mself\u001b[0m\u001b[0;34m.\u001b[0m\u001b[0m_output\u001b[0m\u001b[0;34m.\u001b[0m\u001b[0mextend\u001b[0m\u001b[0;34m(\u001b[0m\u001b[0mjob\u001b[0m\u001b[0;34m.\u001b[0m\u001b[0mget\u001b[0m\u001b[0;34m(\u001b[0m\u001b[0;34m)\u001b[0m\u001b[0;34m)\u001b[0m\u001b[0;34m\u001b[0m\u001b[0m\n",
      "\u001b[0;32m/anaconda3/lib/python3.6/multiprocessing/pool.py\u001b[0m in \u001b[0;36mget\u001b[0;34m(self, timeout)\u001b[0m\n\u001b[1;32m    636\u001b[0m \u001b[0;34m\u001b[0m\u001b[0m\n\u001b[1;32m    637\u001b[0m     \u001b[0;32mdef\u001b[0m \u001b[0mget\u001b[0m\u001b[0;34m(\u001b[0m\u001b[0mself\u001b[0m\u001b[0;34m,\u001b[0m \u001b[0mtimeout\u001b[0m\u001b[0;34m=\u001b[0m\u001b[0;32mNone\u001b[0m\u001b[0;34m)\u001b[0m\u001b[0;34m:\u001b[0m\u001b[0;34m\u001b[0m\u001b[0m\n\u001b[0;32m--> 638\u001b[0;31m         \u001b[0mself\u001b[0m\u001b[0;34m.\u001b[0m\u001b[0mwait\u001b[0m\u001b[0;34m(\u001b[0m\u001b[0mtimeout\u001b[0m\u001b[0;34m)\u001b[0m\u001b[0;34m\u001b[0m\u001b[0m\n\u001b[0m\u001b[1;32m    639\u001b[0m         \u001b[0;32mif\u001b[0m \u001b[0;32mnot\u001b[0m \u001b[0mself\u001b[0m\u001b[0;34m.\u001b[0m\u001b[0mready\u001b[0m\u001b[0;34m(\u001b[0m\u001b[0;34m)\u001b[0m\u001b[0;34m:\u001b[0m\u001b[0;34m\u001b[0m\u001b[0m\n\u001b[1;32m    640\u001b[0m             \u001b[0;32mraise\u001b[0m \u001b[0mTimeoutError\u001b[0m\u001b[0;34m\u001b[0m\u001b[0m\n",
      "\u001b[0;32m/anaconda3/lib/python3.6/multiprocessing/pool.py\u001b[0m in \u001b[0;36mwait\u001b[0;34m(self, timeout)\u001b[0m\n\u001b[1;32m    633\u001b[0m \u001b[0;34m\u001b[0m\u001b[0m\n\u001b[1;32m    634\u001b[0m     \u001b[0;32mdef\u001b[0m \u001b[0mwait\u001b[0m\u001b[0;34m(\u001b[0m\u001b[0mself\u001b[0m\u001b[0;34m,\u001b[0m \u001b[0mtimeout\u001b[0m\u001b[0;34m=\u001b[0m\u001b[0;32mNone\u001b[0m\u001b[0;34m)\u001b[0m\u001b[0;34m:\u001b[0m\u001b[0;34m\u001b[0m\u001b[0m\n\u001b[0;32m--> 635\u001b[0;31m         \u001b[0mself\u001b[0m\u001b[0;34m.\u001b[0m\u001b[0m_event\u001b[0m\u001b[0;34m.\u001b[0m\u001b[0mwait\u001b[0m\u001b[0;34m(\u001b[0m\u001b[0mtimeout\u001b[0m\u001b[0;34m)\u001b[0m\u001b[0;34m\u001b[0m\u001b[0m\n\u001b[0m\u001b[1;32m    636\u001b[0m \u001b[0;34m\u001b[0m\u001b[0m\n\u001b[1;32m    637\u001b[0m     \u001b[0;32mdef\u001b[0m \u001b[0mget\u001b[0m\u001b[0;34m(\u001b[0m\u001b[0mself\u001b[0m\u001b[0;34m,\u001b[0m \u001b[0mtimeout\u001b[0m\u001b[0;34m=\u001b[0m\u001b[0;32mNone\u001b[0m\u001b[0;34m)\u001b[0m\u001b[0;34m:\u001b[0m\u001b[0;34m\u001b[0m\u001b[0m\n",
      "\u001b[0;32m/anaconda3/lib/python3.6/threading.py\u001b[0m in \u001b[0;36mwait\u001b[0;34m(self, timeout)\u001b[0m\n\u001b[1;32m    549\u001b[0m             \u001b[0msignaled\u001b[0m \u001b[0;34m=\u001b[0m \u001b[0mself\u001b[0m\u001b[0;34m.\u001b[0m\u001b[0m_flag\u001b[0m\u001b[0;34m\u001b[0m\u001b[0m\n\u001b[1;32m    550\u001b[0m             \u001b[0;32mif\u001b[0m \u001b[0;32mnot\u001b[0m \u001b[0msignaled\u001b[0m\u001b[0;34m:\u001b[0m\u001b[0;34m\u001b[0m\u001b[0m\n\u001b[0;32m--> 551\u001b[0;31m                 \u001b[0msignaled\u001b[0m \u001b[0;34m=\u001b[0m \u001b[0mself\u001b[0m\u001b[0;34m.\u001b[0m\u001b[0m_cond\u001b[0m\u001b[0;34m.\u001b[0m\u001b[0mwait\u001b[0m\u001b[0;34m(\u001b[0m\u001b[0mtimeout\u001b[0m\u001b[0;34m)\u001b[0m\u001b[0;34m\u001b[0m\u001b[0m\n\u001b[0m\u001b[1;32m    552\u001b[0m             \u001b[0;32mreturn\u001b[0m \u001b[0msignaled\u001b[0m\u001b[0;34m\u001b[0m\u001b[0m\n\u001b[1;32m    553\u001b[0m \u001b[0;34m\u001b[0m\u001b[0m\n",
      "\u001b[0;32m/anaconda3/lib/python3.6/threading.py\u001b[0m in \u001b[0;36mwait\u001b[0;34m(self, timeout)\u001b[0m\n\u001b[1;32m    293\u001b[0m         \u001b[0;32mtry\u001b[0m\u001b[0;34m:\u001b[0m    \u001b[0;31m# restore state no matter what (e.g., KeyboardInterrupt)\u001b[0m\u001b[0;34m\u001b[0m\u001b[0m\n\u001b[1;32m    294\u001b[0m             \u001b[0;32mif\u001b[0m \u001b[0mtimeout\u001b[0m \u001b[0;32mis\u001b[0m \u001b[0;32mNone\u001b[0m\u001b[0;34m:\u001b[0m\u001b[0;34m\u001b[0m\u001b[0m\n\u001b[0;32m--> 295\u001b[0;31m                 \u001b[0mwaiter\u001b[0m\u001b[0;34m.\u001b[0m\u001b[0macquire\u001b[0m\u001b[0;34m(\u001b[0m\u001b[0;34m)\u001b[0m\u001b[0;34m\u001b[0m\u001b[0m\n\u001b[0m\u001b[1;32m    296\u001b[0m                 \u001b[0mgotit\u001b[0m \u001b[0;34m=\u001b[0m \u001b[0;32mTrue\u001b[0m\u001b[0;34m\u001b[0m\u001b[0m\n\u001b[1;32m    297\u001b[0m             \u001b[0;32melse\u001b[0m\u001b[0;34m:\u001b[0m\u001b[0;34m\u001b[0m\u001b[0m\n",
      "\u001b[0;31mKeyboardInterrupt\u001b[0m: "
     ]
    }
   ],
   "source": [
    "# SVC-RBF with all features, normalized\n",
    "    # ENM weight fractions\n",
    "    # Accuracy\n",
    "\n",
    "from sklearn.pipeline import Pipeline\n",
    "from sklearn.model_selection import GridSearchCV\n",
    "from sklearn.preprocessing import MinMaxScaler\n",
    "from sklearn.svm import SVC\n",
    "\n",
    "# Pipeline\n",
    "estimator = SVC(kernel='rbf',class_weight='balanced')\n",
    "prepipe = Pipeline([\n",
    "    ('scale', MinMaxScaler()),\n",
    "    ('estimator', estimator)\n",
    "])\n",
    "\n",
    "# Set parameter ranges for gridsearch\n",
    "cv=10\n",
    "n_jobs=3\n",
    "c_set=np.logspace(0,4,16)\n",
    "gamma_set=np.logspace(-6,0,16)\n",
    "\n",
    "# Gridsearch\n",
    "param_grid={'estimator__C': c_set,\n",
    "            'estimator__gamma': gamma_set\n",
    "           }\n",
    "grid_search=GridSearchCV(prepipe,param_grid,cv=cv,scoring='accuracy', n_jobs=n_jobs, pre_dispatch=2*n_jobs)\n",
    "grid_search.fit(X_oneto50+0.00001,bin_oneto50)\n",
    "print(grid_search.best_params_)\n",
    "print(grid_search.best_score_)\n",
    "\n",
    "# Play sound when done running\n",
    "Audio(url=sound_file, autoplay=True)"
   ]
  },
  {
   "cell_type": "code",
   "execution_count": null,
   "metadata": {
    "collapsed": true
   },
   "outputs": [],
   "source": [
    "# Final pipeline\n",
    "bestpipe = Pipeline([\n",
    "    ('scale', MinMaxScaler()),\n",
    "    ('estimator', SVC(kernel='rbf',class_weight='balanced', \n",
    "                      C=5411.6952654646375, \n",
    "                      gamma=1.0))\n",
    "     ])\n",
    "bestpipe.fit(X_oneto50,bin_oneto50)"
   ]
  },
  {
   "cell_type": "code",
   "execution_count": null,
   "metadata": {
    "collapsed": true
   },
   "outputs": [],
   "source": [
    "# Cross-validation for confusion matrix\n",
    "from sklearn import model_selection\n",
    "\n",
    "X=np.array(X_enm)\n",
    "y=np.array(bin_enm)\n",
    "\n",
    "kfold = model_selection.StratifiedKFold(n_splits=17,shuffle=True, random_state=24)\n",
    "cnf_matrix2=np.zeros([3,3])\n",
    "\n",
    "for train_index,test_index in kfold.split(X,y):\n",
    "    X_train, X_test = X[train_index], X[test_index]\n",
    "    y_train, y_test = y[train_index], y[test_index]\n",
    "    bestpipe.fit(X_train,y_train)\n",
    "    y_enm_predict=bestpipe.predict(X_test)\n",
    "    y[test_index]=y_enm_predict\n",
    "    cnf_matrix2+= confusion_matrix(y_test, y_enm_predict);\n",
    "    \n",
    "# Set confusion matrix\n",
    "cnf_matrix=cnf_matrix2.astype(np.int)\n",
    "cnf_matrix = confusion_matrix(bin_enm, y)\n",
    "\n",
    "np.set_printoptions(precision=2)\n",
    "class_names=[\"low\",\"mid\",\"high\"]\n",
    "\n",
    "# Plot non-normalized confusion matrix\n",
    "fig = plt.figure()\n",
    "plot_confusion_matrix(cnf_matrix, classes=class_names,\n",
    "                      title='Confusion matrix, without normalization')\n",
    "fig.savefig('./BLTfigs/confusion_notnorm_mix_50.png')\n",
    "\n",
    "# Plot normalized confusion matrix\n",
    "fig = plt.figure()\n",
    "plot_confusion_matrix(cnf_matrix, classes=class_names, normalize=True,\n",
    "                      title='Normalized confusion matrix')\n",
    "fig.savefig('./BLTfigs/confusion_norm_mix_50.png')\n",
    "plt.show()"
   ]
  },
  {
   "cell_type": "code",
   "execution_count": null,
   "metadata": {
    "collapsed": true
   },
   "outputs": [],
   "source": [
    "# Calculate the normalized average accuracy\n",
    "# for use in a graph of augmentation performance\n",
    "cm_norm = cnf_matrix.astype('float') / cnf_matrix.sum(axis=1)[:, np.newaxis]\n",
    "avg_norm_oneto50 = (cm_norm[0,0]+cm_norm[1,1]+cm_norm[2,2])/3\n",
    "avg_norm_oneto50"
   ]
  },
  {
   "cell_type": "markdown",
   "metadata": {},
   "source": [
    "## 1:20 ENM-organics data"
   ]
  },
  {
   "cell_type": "markdown",
   "metadata": {},
   "source": [
    "Ran with a slightly larger parameter grid for optimizing."
   ]
  },
  {
   "cell_type": "code",
   "execution_count": 72,
   "metadata": {
    "ExecuteTime": {
     "end_time": "2018-12-17T23:48:32.702548Z",
     "start_time": "2018-12-17T23:42:57.931682Z"
    }
   },
   "outputs": [
    {
     "name": "stdout",
     "output_type": "stream",
     "text": [
      "{'estimator__C': 5411.6952654646375, 'estimator__gamma': 1.0}\n",
      "0.6951219512195121\n"
     ]
    },
    {
     "data": {
      "text/html": [
       "\n",
       "                <audio controls=\"controls\" autoplay=\"autoplay\">\n",
       "                    <source src=\"./data/Glass.wav\" type=\"audio/x-wav\" />\n",
       "                    Your browser does not support the audio element.\n",
       "                </audio>\n",
       "              "
      ],
      "text/plain": [
       "<IPython.lib.display.Audio object>"
      ]
     },
     "execution_count": 72,
     "metadata": {},
     "output_type": "execute_result"
    }
   ],
   "source": [
    "# SVC-RBF with all features, normalized\n",
    "    # ENM weight fractions\n",
    "    # Accuracy\n",
    "\n",
    "from sklearn.pipeline import Pipeline\n",
    "from sklearn.model_selection import GridSearchCV\n",
    "from sklearn.preprocessing import MinMaxScaler\n",
    "from sklearn.svm import SVC\n",
    "\n",
    "# Pipeline\n",
    "estimator = SVC(kernel='rbf',class_weight='balanced')\n",
    "prepipe = Pipeline([\n",
    "    ('scale', MinMaxScaler()),\n",
    "    ('estimator', estimator)\n",
    "])\n",
    "\n",
    "# Set parameter ranges for gridsearch\n",
    "cv=10\n",
    "n_jobs=3\n",
    "c_set=np.logspace(0,4,16)\n",
    "gamma_set=np.logspace(-6,0,16)\n",
    "\n",
    "# Gridsearch\n",
    "param_grid={'estimator__C': c_set,\n",
    "            'estimator__gamma': gamma_set\n",
    "           }\n",
    "grid_search=GridSearchCV(prepipe,param_grid,cv=cv,scoring='accuracy', n_jobs=n_jobs, pre_dispatch=2*n_jobs)\n",
    "grid_search.fit(X_oneto20+0.00001,bin_oneto20)\n",
    "print(grid_search.best_params_)\n",
    "print(grid_search.best_score_)\n",
    "\n",
    "# Play sound when done running\n",
    "Audio(url=sound_file, autoplay=True)"
   ]
  },
  {
   "cell_type": "code",
   "execution_count": 141,
   "metadata": {
    "ExecuteTime": {
     "end_time": "2018-12-18T01:01:00.270708Z",
     "start_time": "2018-12-18T01:01:00.026238Z"
    }
   },
   "outputs": [
    {
     "data": {
      "text/plain": [
       "Pipeline(memory=None,\n",
       "     steps=[('scale', MinMaxScaler(copy=True, feature_range=(0, 1))), ('estimator', SVC(C=5411.6952654646375, cache_size=200, class_weight='balanced', coef0=0.0,\n",
       "  decision_function_shape='ovr', degree=3, gamma=1.0, kernel='rbf',\n",
       "  max_iter=-1, probability=False, random_state=None, shrinking=True,\n",
       "  tol=0.001, verbose=False))])"
      ]
     },
     "execution_count": 141,
     "metadata": {},
     "output_type": "execute_result"
    }
   ],
   "source": [
    "# Final pipeline\n",
    "bestpipe = Pipeline([\n",
    "    ('scale', MinMaxScaler()),\n",
    "    ('estimator', SVC(kernel='rbf',class_weight='balanced', \n",
    "                      C=5411.6952654646375, \n",
    "                      gamma=1.0))\n",
    "     ])\n",
    "bestpipe.fit(X_oneto20,bin_oneto20)"
   ]
  },
  {
   "cell_type": "code",
   "execution_count": 142,
   "metadata": {
    "ExecuteTime": {
     "end_time": "2018-12-18T01:01:04.548419Z",
     "start_time": "2018-12-18T01:01:04.039954Z"
    }
   },
   "outputs": [
    {
     "name": "stdout",
     "output_type": "stream",
     "text": [
      "Confusion matrix, without normalization\n",
      "[[22 11  3]\n",
      " [ 7 19  3]\n",
      " [10  3  4]]\n",
      "Normalized confusion matrix\n",
      "[[0.61 0.31 0.08]\n",
      " [0.24 0.66 0.1 ]\n",
      " [0.59 0.18 0.24]]\n"
     ]
    },
    {
     "data": {
      "image/png": "[encoded data removed]",
      "text/plain": [
       "<Figure size 432x288 with 2 Axes>"
      ]
     },
     "metadata": {},
     "output_type": "display_data"
    },
    {
     "data": {
      "image/png": "[encoded data removed]",
      "text/plain": [
       "<Figure size 432x288 with 2 Axes>"
      ]
     },
     "metadata": {},
     "output_type": "display_data"
    }
   ],
   "source": [
    "# Cross-validation for confusion matrix\n",
    "from sklearn import model_selection\n",
    "\n",
    "X=np.array(X_enm)\n",
    "y=np.array(bin_enm)\n",
    "\n",
    "kfold = model_selection.StratifiedKFold(n_splits=17,shuffle=True, random_state=24)\n",
    "cnf_matrix2=np.zeros([3,3])\n",
    "\n",
    "for train_index,test_index in kfold.split(X,y):\n",
    "    X_train, X_test = X[train_index], X[test_index]\n",
    "    y_train, y_test = y[train_index], y[test_index]\n",
    "    bestpipe.fit(X_train,y_train)\n",
    "    y_enm_predict=bestpipe.predict(X_test)\n",
    "    y[test_index]=y_enm_predict\n",
    "    cnf_matrix2+= confusion_matrix(y_test, y_enm_predict);\n",
    "    \n",
    "# Set confusion matrix\n",
    "cnf_matrix=cnf_matrix2.astype(np.int)\n",
    "cnf_matrix = confusion_matrix(bin_enm, y)\n",
    "\n",
    "np.set_printoptions(precision=2)\n",
    "class_names=[\"low\",\"mid\",\"high\"]\n",
    "\n",
    "# Plot non-normalized confusion matrix\n",
    "fig = plt.figure()\n",
    "plot_confusion_matrix(cnf_matrix, classes=class_names,\n",
    "                      title='Confusion matrix, without normalization')\n",
    "fig.savefig('./BLTfigs/confusion_notnorm_mix_20.png')\n",
    "\n",
    "# Plot normalized confusion matrix\n",
    "fig = plt.figure()\n",
    "plot_confusion_matrix(cnf_matrix, classes=class_names, normalize=True,\n",
    "                      title='Normalized confusion matrix')\n",
    "fig.savefig('./BLTfigs/confusion_norm_mix_20.png')\n",
    "plt.show()"
   ]
  },
  {
   "cell_type": "code",
   "execution_count": 143,
   "metadata": {
    "ExecuteTime": {
     "end_time": "2018-12-18T01:01:12.477420Z",
     "start_time": "2018-12-18T01:01:12.461062Z"
    }
   },
   "outputs": [
    {
     "data": {
      "text/plain": [
       "0.5005258808504245"
      ]
     },
     "execution_count": 143,
     "metadata": {},
     "output_type": "execute_result"
    }
   ],
   "source": [
    "# Calculate the normalized average accuracy\n",
    "# for use in a graph of augmentation performance\n",
    "cm_norm = cnf_matrix.astype('float') / cnf_matrix.sum(axis=1)[:, np.newaxis]\n",
    "avg_norm_oneto20 = (cm_norm[0,0]+cm_norm[1,1]+cm_norm[2,2])/3\n",
    "avg_norm_oneto20"
   ]
  },
  {
   "cell_type": "markdown",
   "metadata": {},
   "source": [
    "## 1:10 ENM-organics data"
   ]
  },
  {
   "cell_type": "code",
   "execution_count": 101,
   "metadata": {
    "ExecuteTime": {
     "end_time": "2018-12-18T00:46:52.332013Z",
     "start_time": "2018-12-18T00:45:11.558033Z"
    }
   },
   "outputs": [
    {
     "name": "stdout",
     "output_type": "stream",
     "text": [
      "{'estimator__C': 251.18864315095797, 'estimator__gamma': 1.0}\n",
      "0.6851441241685144\n"
     ]
    },
    {
     "data": {
      "text/html": [
       "\n",
       "                <audio controls=\"controls\" autoplay=\"autoplay\">\n",
       "                    <source src=\"./data/Glass.wav\" type=\"audio/x-wav\" />\n",
       "                    Your browser does not support the audio element.\n",
       "                </audio>\n",
       "              "
      ],
      "text/plain": [
       "<IPython.lib.display.Audio object>"
      ]
     },
     "execution_count": 101,
     "metadata": {},
     "output_type": "execute_result"
    }
   ],
   "source": [
    "# SVC-RBF with all features, normalized\n",
    "    # ENM weight fractions\n",
    "    # Accuracy\n",
    "\n",
    "from sklearn.pipeline import Pipeline\n",
    "from sklearn.model_selection import GridSearchCV\n",
    "from sklearn.preprocessing import MinMaxScaler\n",
    "from sklearn.svm import SVC\n",
    "\n",
    "# Pipeline\n",
    "estimator = SVC(kernel='rbf',class_weight='balanced')\n",
    "prepipe = Pipeline([\n",
    "    ('scale', MinMaxScaler()),\n",
    "    ('estimator', estimator)\n",
    "])\n",
    "\n",
    "# Set parameter ranges for gridsearch\n",
    "cv=10\n",
    "n_jobs=3\n",
    "c_set=np.logspace(0,4,16)\n",
    "gamma_set=np.logspace(-6,0,16)\n",
    "\n",
    "# Gridsearch\n",
    "param_grid={'estimator__C': c_set,\n",
    "            'estimator__gamma': gamma_set\n",
    "           }\n",
    "grid_search=GridSearchCV(prepipe,param_grid,cv=cv,scoring='accuracy', n_jobs=n_jobs, pre_dispatch=2*n_jobs)\n",
    "grid_search.fit(X_oneto10+0.00001,bin_oneto10)\n",
    "print(grid_search.best_params_)\n",
    "print(grid_search.best_score_)\n",
    "\n",
    "# Play sound when done running\n",
    "Audio(url=sound_file, autoplay=True)"
   ]
  },
  {
   "cell_type": "code",
   "execution_count": 144,
   "metadata": {
    "ExecuteTime": {
     "end_time": "2018-12-18T01:01:25.665565Z",
     "start_time": "2018-12-18T01:01:25.600626Z"
    }
   },
   "outputs": [
    {
     "data": {
      "text/plain": [
       "Pipeline(memory=None,\n",
       "     steps=[('scale', MinMaxScaler(copy=True, feature_range=(0, 1))), ('estimator', SVC(C=251.18864315095797, cache_size=200, class_weight='balanced', coef0=0.0,\n",
       "  decision_function_shape='ovr', degree=3, gamma=1.0, kernel='rbf',\n",
       "  max_iter=-1, probability=False, random_state=None, shrinking=True,\n",
       "  tol=0.001, verbose=False))])"
      ]
     },
     "execution_count": 144,
     "metadata": {},
     "output_type": "execute_result"
    }
   ],
   "source": [
    "# Final pipeline\n",
    "bestpipe = Pipeline([\n",
    "    ('scale', MinMaxScaler()),\n",
    "    ('estimator', SVC(kernel='rbf',class_weight='balanced', \n",
    "                      C=251.18864315095797, \n",
    "                      gamma=1.0))\n",
    "     ])\n",
    "bestpipe.fit(X_oneto10,bin_oneto10)"
   ]
  },
  {
   "cell_type": "code",
   "execution_count": 145,
   "metadata": {
    "ExecuteTime": {
     "end_time": "2018-12-18T01:01:27.371668Z",
     "start_time": "2018-12-18T01:01:26.872896Z"
    }
   },
   "outputs": [
    {
     "name": "stdout",
     "output_type": "stream",
     "text": [
      "Confusion matrix, without normalization\n",
      "[[22 11  3]\n",
      " [ 7 19  3]\n",
      " [10  3  4]]\n",
      "Normalized confusion matrix\n",
      "[[0.61 0.31 0.08]\n",
      " [0.24 0.66 0.1 ]\n",
      " [0.59 0.18 0.24]]\n"
     ]
    },
    {
     "data": {
      "image/png": "[encoded data removed]",
      "text/plain": [
       "<Figure size 432x288 with 2 Axes>"
      ]
     },
     "metadata": {},
     "output_type": "display_data"
    },
    {
     "data": {
      "image/png": "[encoded data removed]",
      "text/plain": [
       "<Figure size 432x288 with 2 Axes>"
      ]
     },
     "metadata": {},
     "output_type": "display_data"
    }
   ],
   "source": [
    "# Cross-validation for confusion matrix\n",
    "from sklearn import model_selection\n",
    "\n",
    "X=np.array(X_enm)\n",
    "y=np.array(bin_enm)\n",
    "\n",
    "kfold = model_selection.StratifiedKFold(n_splits=17,shuffle=True, random_state=24)\n",
    "cnf_matrix2=np.zeros([3,3])\n",
    "\n",
    "for train_index,test_index in kfold.split(X,y):\n",
    "    X_train, X_test = X[train_index], X[test_index]\n",
    "    y_train, y_test = y[train_index], y[test_index]\n",
    "    bestpipe.fit(X_train,y_train)\n",
    "    y_enm_predict=bestpipe.predict(X_test)\n",
    "    y[test_index]=y_enm_predict\n",
    "    cnf_matrix2+= confusion_matrix(y_test, y_enm_predict);\n",
    "    \n",
    "# Set confusion matrix\n",
    "cnf_matrix=cnf_matrix2.astype(np.int)\n",
    "cnf_matrix = confusion_matrix(bin_enm, y)\n",
    "\n",
    "np.set_printoptions(precision=2)\n",
    "class_names=[\"low\",\"mid\",\"high\"]\n",
    "\n",
    "# Plot non-normalized confusion matrix\n",
    "fig = plt.figure()\n",
    "plot_confusion_matrix(cnf_matrix, classes=class_names,\n",
    "                      title='Confusion matrix, without normalization')\n",
    "fig.savefig('./BLTfigs/confusion_notnorm_mix_10.png')\n",
    "\n",
    "# Plot normalized confusion matrix\n",
    "fig = plt.figure()\n",
    "plot_confusion_matrix(cnf_matrix, classes=class_names, normalize=True,\n",
    "                      title='Normalized confusion matrix')\n",
    "fig.savefig('./BLTfigs/confusion_norm_mix_10.png')\n",
    "plt.show()"
   ]
  },
  {
   "cell_type": "code",
   "execution_count": 146,
   "metadata": {
    "ExecuteTime": {
     "end_time": "2018-12-18T01:01:32.383834Z",
     "start_time": "2018-12-18T01:01:32.367604Z"
    }
   },
   "outputs": [
    {
     "data": {
      "text/plain": [
       "0.5005258808504245"
      ]
     },
     "execution_count": 146,
     "metadata": {},
     "output_type": "execute_result"
    }
   ],
   "source": [
    "# Calculate the normalized average accuracy\n",
    "# for use in a graph of augmentation performance\n",
    "cm_norm = cnf_matrix.astype('float') / cnf_matrix.sum(axis=1)[:, np.newaxis]\n",
    "avg_norm_oneto10 = (cm_norm[0,0]+cm_norm[1,1]+cm_norm[2,2])/3\n",
    "avg_norm_oneto10"
   ]
  },
  {
   "cell_type": "markdown",
   "metadata": {},
   "source": [
    "## 1:4 ENM-organics data"
   ]
  },
  {
   "cell_type": "code",
   "execution_count": 160,
   "metadata": {
    "ExecuteTime": {
     "end_time": "2018-12-18T01:18:26.793197Z",
     "start_time": "2018-12-18T01:17:51.443768Z"
    }
   },
   "outputs": [
    {
     "name": "stdout",
     "output_type": "stream",
     "text": [
      "{'estimator__C': 885.8667904100823, 'estimator__gamma': 1.0}\n",
      "0.5878048780487805\n"
     ]
    },
    {
     "data": {
      "text/html": [
       "\n",
       "                <audio controls=\"controls\" autoplay=\"autoplay\">\n",
       "                    <source src=\"./data/Glass.wav\" type=\"audio/x-wav\" />\n",
       "                    Your browser does not support the audio element.\n",
       "                </audio>\n",
       "              "
      ],
      "text/plain": [
       "<IPython.lib.display.Audio object>"
      ]
     },
     "execution_count": 160,
     "metadata": {},
     "output_type": "execute_result"
    }
   ],
   "source": [
    "# SVC-RBF with all features, normalized\n",
    "    # ENM weight fractions\n",
    "    # Accuracy\n",
    "\n",
    "from sklearn.pipeline import Pipeline\n",
    "from sklearn.model_selection import GridSearchCV\n",
    "from sklearn.preprocessing import MinMaxScaler\n",
    "from sklearn.svm import SVC\n",
    "\n",
    "# Pipeline\n",
    "estimator = SVC(kernel='rbf',class_weight='balanced')\n",
    "prepipe = Pipeline([\n",
    "    ('scale', MinMaxScaler()),\n",
    "    ('estimator', estimator)\n",
    "])\n",
    "\n",
    "# Set parameter ranges for gridsearch\n",
    "cv=10\n",
    "n_jobs=3\n",
    "c_set=np.logspace(0,4,16)\n",
    "gamma_set=np.logspace(-6,0,16)\n",
    "\n",
    "# Gridsearch\n",
    "param_grid={'estimator__C': c_set,\n",
    "            'estimator__gamma': gamma_set\n",
    "           }\n",
    "grid_search=GridSearchCV(prepipe,param_grid,cv=cv,scoring='accuracy', n_jobs=n_jobs, pre_dispatch=2*n_jobs)\n",
    "grid_search.fit(X_oneto4+0.00001,bin_oneto4)\n",
    "print(grid_search.best_params_)\n",
    "print(grid_search.best_score_)\n",
    "\n",
    "# Play sound when done running\n",
    "Audio(url=sound_file, autoplay=True)"
   ]
  },
  {
   "cell_type": "code",
   "execution_count": 164,
   "metadata": {
    "ExecuteTime": {
     "end_time": "2018-12-18T01:21:00.876767Z",
     "start_time": "2018-12-18T01:21:00.839702Z"
    }
   },
   "outputs": [
    {
     "data": {
      "text/plain": [
       "Pipeline(memory=None,\n",
       "     steps=[('scale', MinMaxScaler(copy=True, feature_range=(0, 1))), ('estimator', SVC(C=1584.893192461114, cache_size=200, class_weight='balanced', coef0=0.0,\n",
       "  decision_function_shape='ovr', degree=3, gamma=0.003981071705534973,\n",
       "  kernel='rbf', max_iter=-1, probability=False, random_state=None,\n",
       "  shrinking=True, tol=0.001, verbose=False))])"
      ]
     },
     "execution_count": 164,
     "metadata": {},
     "output_type": "execute_result"
    }
   ],
   "source": [
    "# Final pipeline\n",
    "bestpipe = Pipeline([\n",
    "    ('scale', MinMaxScaler()),\n",
    "    ('estimator', SVC(kernel='rbf',class_weight='balanced', \n",
    "                      C=1584.893192461114, \n",
    "                      gamma=0.003981071705534973))\n",
    "     ])\n",
    "bestpipe.fit(X_oneto4,bin_oneto4)"
   ]
  },
  {
   "cell_type": "code",
   "execution_count": 165,
   "metadata": {
    "ExecuteTime": {
     "end_time": "2018-12-18T01:21:05.224541Z",
     "start_time": "2018-12-18T01:21:04.695334Z"
    }
   },
   "outputs": [
    {
     "name": "stdout",
     "output_type": "stream",
     "text": [
      "Confusion matrix, without normalization\n",
      "[[24  6  6]\n",
      " [ 7 18  4]\n",
      " [ 3  3 11]]\n",
      "Normalized confusion matrix\n",
      "[[0.67 0.17 0.17]\n",
      " [0.24 0.62 0.14]\n",
      " [0.18 0.18 0.65]]\n"
     ]
    },
    {
     "data": {
      "image/png": "[encoded data removed]",
      "text/plain": [
       "<Figure size 432x288 with 2 Axes>"
      ]
     },
     "metadata": {},
     "output_type": "display_data"
    },
    {
     "data": {
      "image/png": "[encoded data removed]",
      "text/plain": [
       "<Figure size 432x288 with 2 Axes>"
      ]
     },
     "metadata": {},
     "output_type": "display_data"
    }
   ],
   "source": [
    "# Cross-validation for confusion matrix\n",
    "from sklearn import model_selection\n",
    "\n",
    "X=np.array(X_enm)\n",
    "y=np.array(bin_enm)\n",
    "\n",
    "kfold = model_selection.StratifiedKFold(n_splits=17,shuffle=True, random_state=24)\n",
    "cnf_matrix2=np.zeros([3,3])\n",
    "\n",
    "for train_index,test_index in kfold.split(X,y):\n",
    "    X_train, X_test = X[train_index], X[test_index]\n",
    "    y_train, y_test = y[train_index], y[test_index]\n",
    "    bestpipe.fit(X_train,y_train)\n",
    "    y_enm_predict=bestpipe.predict(X_test)\n",
    "    y[test_index]=y_enm_predict\n",
    "    cnf_matrix2+= confusion_matrix(y_test, y_enm_predict);\n",
    "    \n",
    "# Set confusion matrix\n",
    "cnf_matrix=cnf_matrix2.astype(np.int)\n",
    "cnf_matrix = confusion_matrix(bin_enm, y)\n",
    "\n",
    "np.set_printoptions(precision=2)\n",
    "class_names=[\"low\",\"mid\",\"high\"]\n",
    "\n",
    "# Plot non-normalized confusion matrix\n",
    "fig = plt.figure()\n",
    "plot_confusion_matrix(cnf_matrix, classes=class_names,\n",
    "                      title='Confusion matrix, without normalization')\n",
    "fig.savefig('./BLTfigs/confusion_notnorm_mix_4.png')\n",
    "\n",
    "# Plot normalized confusion matrix\n",
    "fig = plt.figure()\n",
    "plot_confusion_matrix(cnf_matrix, classes=class_names, normalize=True,\n",
    "                      title='Normalized confusion matrix')\n",
    "fig.savefig('./BLTfigs/confusion_norm_mix_4.png')\n",
    "plt.show()"
   ]
  },
  {
   "cell_type": "code",
   "execution_count": 166,
   "metadata": {
    "ExecuteTime": {
     "end_time": "2018-12-18T01:21:22.096848Z",
     "start_time": "2018-12-18T01:21:22.081377Z"
    }
   },
   "outputs": [
    {
     "data": {
      "text/plain": [
       "0.6448050484561642"
      ]
     },
     "execution_count": 166,
     "metadata": {},
     "output_type": "execute_result"
    }
   ],
   "source": [
    "# Calculate the normalized average accuracy\n",
    "# for use in a graph of augmentation performance\n",
    "cm_norm = cnf_matrix.astype('float') / cnf_matrix.sum(axis=1)[:, np.newaxis]\n",
    "avg_norm_oneto4 = (cm_norm[0,0]+cm_norm[1,1]+cm_norm[2,2])/3\n",
    "avg_norm_oneto4"
   ]
  },
  {
   "cell_type": "markdown",
   "metadata": {},
   "source": [
    "## 1:2 ENM-organics data"
   ]
  },
  {
   "cell_type": "code",
   "execution_count": 119,
   "metadata": {
    "ExecuteTime": {
     "end_time": "2018-12-18T00:52:11.186149Z",
     "start_time": "2018-12-18T00:52:00.227796Z"
    }
   },
   "outputs": [
    {
     "name": "stdout",
     "output_type": "stream",
     "text": [
      "{'estimator__C': 135.93563908785256, 'estimator__gamma': 0.39810717055349776}\n",
      "0.6382113821138211\n"
     ]
    },
    {
     "data": {
      "text/html": [
       "\n",
       "                <audio controls=\"controls\" autoplay=\"autoplay\">\n",
       "                    <source src=\"./data/Glass.wav\" type=\"audio/x-wav\" />\n",
       "                    Your browser does not support the audio element.\n",
       "                </audio>\n",
       "              "
      ],
      "text/plain": [
       "<IPython.lib.display.Audio object>"
      ]
     },
     "execution_count": 119,
     "metadata": {},
     "output_type": "execute_result"
    }
   ],
   "source": [
    "# SVC-RBF with all features, normalized\n",
    "    # ENM weight fractions\n",
    "    # Accuracy\n",
    "\n",
    "from sklearn.pipeline import Pipeline\n",
    "from sklearn.model_selection import GridSearchCV\n",
    "from sklearn.preprocessing import MinMaxScaler\n",
    "from sklearn.svm import SVC\n",
    "\n",
    "# Pipeline\n",
    "estimator = SVC(kernel='rbf',class_weight='balanced')\n",
    "prepipe = Pipeline([\n",
    "    ('scale', MinMaxScaler()),\n",
    "    ('estimator', estimator)\n",
    "])\n",
    "\n",
    "# Set parameter ranges for gridsearch\n",
    "cv=10\n",
    "n_jobs=3\n",
    "c_set=np.logspace(0,4,16)\n",
    "gamma_set=np.logspace(-6,0,16)\n",
    "\n",
    "# Gridsearch\n",
    "param_grid={'estimator__C': c_set,\n",
    "            'estimator__gamma': gamma_set\n",
    "           }\n",
    "grid_search=GridSearchCV(prepipe,param_grid,cv=cv,scoring='accuracy', n_jobs=n_jobs, pre_dispatch=2*n_jobs)\n",
    "grid_search.fit(X_oneto2+0.00001,bin_oneto2)\n",
    "print(grid_search.best_params_)\n",
    "print(grid_search.best_score_)\n",
    "\n",
    "# Play sound when done running\n",
    "Audio(url=sound_file, autoplay=True)"
   ]
  },
  {
   "cell_type": "code",
   "execution_count": 120,
   "metadata": {
    "ExecuteTime": {
     "end_time": "2018-12-18T00:52:18.000841Z",
     "start_time": "2018-12-18T00:52:17.977853Z"
    }
   },
   "outputs": [
    {
     "data": {
      "text/plain": [
       "Pipeline(memory=None,\n",
       "     steps=[('scale', MinMaxScaler(copy=True, feature_range=(0, 1))), ('estimator', SVC(C=6.309573444801933, cache_size=200, class_weight='balanced', coef0=0.0,\n",
       "  decision_function_shape='ovr', degree=3, gamma=1e-05, kernel='rbf',\n",
       "  max_iter=-1, probability=False, random_state=None, shrinking=True,\n",
       "  tol=0.001, verbose=False))])"
      ]
     },
     "execution_count": 120,
     "metadata": {},
     "output_type": "execute_result"
    }
   ],
   "source": [
    "# Final pipeline\n",
    "bestpipe = Pipeline([\n",
    "    ('scale', MinMaxScaler()),\n",
    "    ('estimator', SVC(kernel='rbf',class_weight='balanced', \n",
    "                      C=6.309573444801933, \n",
    "                      gamma=1e-05))\n",
    "     ])\n",
    "bestpipe.fit(X_oneto2,bin_oneto2)"
   ]
  },
  {
   "cell_type": "code",
   "execution_count": 121,
   "metadata": {
    "ExecuteTime": {
     "end_time": "2018-12-18T00:52:24.635460Z",
     "start_time": "2018-12-18T00:52:24.132360Z"
    }
   },
   "outputs": [
    {
     "name": "stdout",
     "output_type": "stream",
     "text": [
      "Confusion matrix, without normalization\n",
      "[[ 6 15 15]\n",
      " [ 5 11 13]\n",
      " [ 4  7  6]]\n",
      "Normalized confusion matrix\n",
      "[[0.17 0.42 0.42]\n",
      " [0.17 0.38 0.45]\n",
      " [0.24 0.41 0.35]]\n"
     ]
    },
    {
     "data": {
      "image/png": "[encoded data removed]",
      "text/plain": [
       "<Figure size 432x288 with 2 Axes>"
      ]
     },
     "metadata": {},
     "output_type": "display_data"
    },
    {
     "data": {
      "image/png": "[encoded data removed]",
      "text/plain": [
       "<Figure size 432x288 with 2 Axes>"
      ]
     },
     "metadata": {},
     "output_type": "display_data"
    }
   ],
   "source": [
    "# Cross-validation for confusion matrix\n",
    "from sklearn import model_selection\n",
    "\n",
    "X=np.array(X_enm)\n",
    "y=np.array(bin_enm)\n",
    "\n",
    "kfold = model_selection.StratifiedKFold(n_splits=17,shuffle=True, random_state=24)\n",
    "cnf_matrix2=np.zeros([3,3])\n",
    "\n",
    "for train_index,test_index in kfold.split(X,y):\n",
    "    X_train, X_test = X[train_index], X[test_index]\n",
    "    y_train, y_test = y[train_index], y[test_index]\n",
    "    bestpipe.fit(X_train,y_train)\n",
    "    y_enm_predict=bestpipe.predict(X_test)\n",
    "    y[test_index]=y_enm_predict\n",
    "    cnf_matrix2+= confusion_matrix(y_test, y_enm_predict);\n",
    "    \n",
    "# Set confusion matrix\n",
    "cnf_matrix=cnf_matrix2.astype(np.int)\n",
    "cnf_matrix = confusion_matrix(bin_enm, y)\n",
    "\n",
    "np.set_printoptions(precision=2)\n",
    "class_names=[\"low\",\"mid\",\"high\"]\n",
    "\n",
    "# Plot non-normalized confusion matrix\n",
    "fig = plt.figure()\n",
    "plot_confusion_matrix(cnf_matrix, classes=class_names,\n",
    "                      title='Confusion matrix, without normalization')\n",
    "fig.savefig('./BLTfigs/confusion_notnorm_mix_2.png')\n",
    "\n",
    "# Plot normalized confusion matrix\n",
    "fig = plt.figure()\n",
    "plot_confusion_matrix(cnf_matrix, classes=class_names, normalize=True,\n",
    "                      title='Normalized confusion matrix')\n",
    "fig.savefig('./BLTfigs/confusion_norm_mix_2.png')\n",
    "plt.show()"
   ]
  },
  {
   "cell_type": "code",
   "execution_count": 122,
   "metadata": {
    "ExecuteTime": {
     "end_time": "2018-12-18T00:52:32.529380Z",
     "start_time": "2018-12-18T00:52:32.512217Z"
    }
   },
   "outputs": [
    {
     "data": {
      "text/plain": [
       "0.2996393959882804"
      ]
     },
     "execution_count": 122,
     "metadata": {},
     "output_type": "execute_result"
    }
   ],
   "source": [
    "# Calculate the normalized average accuracy\n",
    "# for use in a graph of augmentation performance\n",
    "cm_norm = cnf_matrix.astype('float') / cnf_matrix.sum(axis=1)[:, np.newaxis]\n",
    "avg_norm_oneto2 = (cm_norm[0,0]+cm_norm[1,1]+cm_norm[2,2])/3\n",
    "avg_norm_oneto2"
   ]
  },
  {
   "cell_type": "markdown",
   "metadata": {},
   "source": [
    "## Matching 1:2"
   ]
  },
  {
   "cell_type": "code",
   "execution_count": 285,
   "metadata": {
    "ExecuteTime": {
     "end_time": "2019-01-10T01:46:15.654153Z",
     "start_time": "2019-01-10T01:46:04.540582Z"
    }
   },
   "outputs": [
    {
     "name": "stdout",
     "output_type": "stream",
     "text": [
      "{'estimator__C': 2928.6445646252373, 'estimator__gamma': 0.003981071705534973}\n",
      "0.7317073170731707\n"
     ]
    },
    {
     "data": {
      "text/html": [
       "\n",
       "                <audio controls=\"controls\" autoplay=\"autoplay\">\n",
       "                    <source src=\"./data/Glass.wav\" type=\"audio/x-wav\" />\n",
       "                    Your browser does not support the audio element.\n",
       "                </audio>\n",
       "              "
      ],
      "text/plain": [
       "<IPython.lib.display.Audio object>"
      ]
     },
     "execution_count": 285,
     "metadata": {},
     "output_type": "execute_result"
    }
   ],
   "source": [
    "# SVC-RBF with all features, normalized\n",
    "    # ENM weight fractions\n",
    "    # Accuracy\n",
    "\n",
    "from sklearn.pipeline import Pipeline\n",
    "from sklearn.model_selection import GridSearchCV\n",
    "from sklearn.preprocessing import MinMaxScaler\n",
    "from sklearn.svm import SVC\n",
    "\n",
    "# Pipeline\n",
    "estimator = SVC(kernel='rbf',class_weight='balanced')\n",
    "prepipe = Pipeline([\n",
    "    ('scale', MinMaxScaler()),\n",
    "    ('estimator', estimator)\n",
    "])\n",
    "\n",
    "# Set parameter ranges for gridsearch\n",
    "cv=10\n",
    "n_jobs=3\n",
    "\n",
    "c_set=np.logspace(0,4,16)\n",
    "gamma_set=np.logspace(-6,0,16)\n",
    "\n",
    "# Gridsearch\n",
    "param_grid={'estimator__C': c_set,\n",
    "            'estimator__gamma': gamma_set\n",
    "           }\n",
    "grid_search=GridSearchCV(prepipe,param_grid,cv=cv,scoring='accuracy', n_jobs=n_jobs, pre_dispatch=2*n_jobs)\n",
    "grid_search.fit(X_match2+0.00001,bin_match2)\n",
    "print(grid_search.best_params_)\n",
    "print(grid_search.best_score_)\n",
    "\n",
    "# Play sound when done running\n",
    "Audio(url=sound_file, autoplay=True)"
   ]
  },
  {
   "cell_type": "code",
   "execution_count": 286,
   "metadata": {
    "ExecuteTime": {
     "end_time": "2019-01-10T01:46:18.506397Z",
     "start_time": "2019-01-10T01:46:18.437079Z"
    }
   },
   "outputs": [
    {
     "data": {
      "text/plain": [
       "Pipeline(memory=None,\n",
       "     steps=[('scale', MinMaxScaler(copy=True, feature_range=(0, 1))), ('estimator', SVC(C=2928.6445646252373, cache_size=200, class_weight='balanced', coef0=0.0,\n",
       "  decision_function_shape='ovr', degree=3, gamma=0.003981071705534973,\n",
       "  kernel='rbf', max_iter=-1, probability=False, random_state=None,\n",
       "  shrinking=True, tol=0.001, verbose=False))])"
      ]
     },
     "execution_count": 286,
     "metadata": {},
     "output_type": "execute_result"
    }
   ],
   "source": [
    "# Final pipeline\n",
    "bestpipe = Pipeline([\n",
    "    ('scale', MinMaxScaler()),\n",
    "    ('estimator', SVC(kernel='rbf',class_weight='balanced', \n",
    "                      C=2928.6445646252373, \n",
    "                      gamma=0.003981071705534973))\n",
    "     ])\n",
    "bestpipe.fit(X_match2,bin_match2)"
   ]
  },
  {
   "cell_type": "code",
   "execution_count": 287,
   "metadata": {
    "ExecuteTime": {
     "end_time": "2019-01-10T01:46:25.225773Z",
     "start_time": "2019-01-10T01:46:24.659019Z"
    }
   },
   "outputs": [
    {
     "name": "stdout",
     "output_type": "stream",
     "text": [
      "Confusion matrix, without normalization\n",
      "[[21  9  6]\n",
      " [ 7 18  4]\n",
      " [ 3  3 11]]\n",
      "Normalized confusion matrix\n",
      "[[0.58 0.25 0.17]\n",
      " [0.24 0.62 0.14]\n",
      " [0.18 0.18 0.65]]\n"
     ]
    },
    {
     "data": {
      "image/png": "[encoded data removed]",
      "text/plain": [
       "<Figure size 432x288 with 2 Axes>"
      ]
     },
     "metadata": {},
     "output_type": "display_data"
    },
    {
     "data": {
      "image/png": "[encoded data removed]",
      "text/plain": [
       "<Figure size 432x288 with 2 Axes>"
      ]
     },
     "metadata": {},
     "output_type": "display_data"
    }
   ],
   "source": [
    "# Cross-validation for confusion matrix\n",
    "from sklearn import model_selection\n",
    "\n",
    "X=np.array(X_enm)\n",
    "y=np.array(bin_enm)\n",
    "\n",
    "kfold = model_selection.StratifiedKFold(n_splits=17,shuffle=True, random_state=24)\n",
    "cnf_matrix2=np.zeros([3,3])\n",
    "\n",
    "for train_index,test_index in kfold.split(X,y):\n",
    "    X_train, X_test = X[train_index], X[test_index]\n",
    "    y_train, y_test = y[train_index], y[test_index]\n",
    "    bestpipe.fit(X_train,y_train)\n",
    "    y_enm_predict=bestpipe.predict(X_test)\n",
    "    y[test_index]=y_enm_predict\n",
    "    cnf_matrix2+= confusion_matrix(y_test, y_enm_predict);\n",
    "    \n",
    "# Set confusion matrix\n",
    "cnf_matrix=cnf_matrix2.astype(np.int)\n",
    "cnf_matrix = confusion_matrix(bin_enm, y)\n",
    "\n",
    "np.set_printoptions(precision=2)\n",
    "class_names=[\"low\",\"mid\",\"high\"]\n",
    "\n",
    "# Plot non-normalized confusion matrix\n",
    "fig = plt.figure()\n",
    "plot_confusion_matrix(cnf_matrix, classes=class_names,\n",
    "                      title='Confusion matrix, without normalization')\n",
    "fig.savefig('./BLTfigs/confusion_notnorm_mix_match.png')\n",
    "\n",
    "# Plot normalized confusion matrix\n",
    "fig = plt.figure()\n",
    "plot_confusion_matrix(cnf_matrix, classes=class_names, normalize=True,\n",
    "                      title='Normalized confusion matrix')\n",
    "fig.savefig('./BLTfigs/confusion_norm_mix_match.png')\n",
    "plt.show()"
   ]
  },
  {
   "cell_type": "code",
   "execution_count": 288,
   "metadata": {
    "ExecuteTime": {
     "end_time": "2019-01-10T01:46:31.184505Z",
     "start_time": "2019-01-10T01:46:31.169188Z"
    }
   },
   "outputs": [
    {
     "data": {
      "text/plain": [
       "0.6170272706783863"
      ]
     },
     "execution_count": 288,
     "metadata": {},
     "output_type": "execute_result"
    }
   ],
   "source": [
    "# Calculate the normalized average accuracy\n",
    "# for use in a graph of augmentation performance\n",
    "cm_norm = cnf_matrix.astype('float') / cnf_matrix.sum(axis=1)[:, np.newaxis]\n",
    "avg_norm_match2 = (cm_norm[0,0]+cm_norm[1,1]+cm_norm[2,2])/3\n",
    "avg_norm_match2"
   ]
  },
  {
   "cell_type": "markdown",
   "metadata": {},
   "source": [
    "## Matching 1:1"
   ]
  },
  {
   "cell_type": "code",
   "execution_count": 292,
   "metadata": {
    "ExecuteTime": {
     "end_time": "2019-01-10T01:48:52.320581Z",
     "start_time": "2019-01-10T01:48:45.205152Z"
    }
   },
   "outputs": [
    {
     "name": "stdout",
     "output_type": "stream",
     "text": [
      "{'estimator__C': 11.659144011798316, 'estimator__gamma': 0.025118864315095822}\n",
      "0.6585365853658537\n"
     ]
    },
    {
     "data": {
      "text/html": [
       "\n",
       "                <audio controls=\"controls\" autoplay=\"autoplay\">\n",
       "                    <source src=\"./data/Glass.wav\" type=\"audio/x-wav\" />\n",
       "                    Your browser does not support the audio element.\n",
       "                </audio>\n",
       "              "
      ],
      "text/plain": [
       "<IPython.lib.display.Audio object>"
      ]
     },
     "execution_count": 292,
     "metadata": {},
     "output_type": "execute_result"
    }
   ],
   "source": [
    "# SVC-RBF with all features, normalized\n",
    "    # ENM weight fractions\n",
    "    # Accuracy\n",
    "\n",
    "from sklearn.pipeline import Pipeline\n",
    "from sklearn.model_selection import GridSearchCV\n",
    "from sklearn.preprocessing import MinMaxScaler\n",
    "from sklearn.svm import SVC\n",
    "\n",
    "# Pipeline\n",
    "estimator = SVC(kernel='rbf',class_weight='balanced')\n",
    "prepipe = Pipeline([\n",
    "    ('scale', MinMaxScaler()),\n",
    "    ('estimator', estimator)\n",
    "])\n",
    "\n",
    "# Set parameter ranges for gridsearch\n",
    "cv=10\n",
    "n_jobs=3\n",
    "\n",
    "c_set=np.logspace(0,4,16)\n",
    "gamma_set=np.logspace(-6,0,16)\n",
    "\n",
    "# Gridsearch\n",
    "param_grid={'estimator__C': c_set,\n",
    "            'estimator__gamma': gamma_set\n",
    "           }\n",
    "grid_search=GridSearchCV(prepipe,param_grid,cv=cv,scoring='accuracy', n_jobs=n_jobs, pre_dispatch=2*n_jobs)\n",
    "grid_search.fit(X_match1+0.00001,bin_match1)\n",
    "print(grid_search.best_params_)\n",
    "print(grid_search.best_score_)\n",
    "\n",
    "# Play sound when done running\n",
    "Audio(url=sound_file, autoplay=True)"
   ]
  },
  {
   "cell_type": "code",
   "execution_count": 294,
   "metadata": {
    "ExecuteTime": {
     "end_time": "2019-01-10T01:49:15.255945Z",
     "start_time": "2019-01-10T01:49:15.236831Z"
    }
   },
   "outputs": [
    {
     "data": {
      "text/plain": [
       "Pipeline(memory=None,\n",
       "     steps=[('scale', MinMaxScaler(copy=True, feature_range=(0, 1))), ('estimator', SVC(C=11.659144011798316, cache_size=200, class_weight='balanced', coef0=0.0,\n",
       "  decision_function_shape='ovr', degree=3, gamma=0.025118864315095822,\n",
       "  kernel='rbf', max_iter=-1, probability=False, random_state=None,\n",
       "  shrinking=True, tol=0.001, verbose=False))])"
      ]
     },
     "execution_count": 294,
     "metadata": {},
     "output_type": "execute_result"
    }
   ],
   "source": [
    "# Final pipeline\n",
    "bestpipe = Pipeline([\n",
    "    ('scale', MinMaxScaler()),\n",
    "    ('estimator', SVC(kernel='rbf',class_weight='balanced', \n",
    "                      C=11.659144011798316, \n",
    "                      gamma=0.025118864315095822))\n",
    "     ])\n",
    "bestpipe.fit(X_match1,bin_match1)"
   ]
  },
  {
   "cell_type": "code",
   "execution_count": 295,
   "metadata": {
    "ExecuteTime": {
     "end_time": "2019-01-10T01:49:19.309948Z",
     "start_time": "2019-01-10T01:49:18.691479Z"
    }
   },
   "outputs": [
    {
     "name": "stdout",
     "output_type": "stream",
     "text": [
      "Confusion matrix, without normalization\n",
      "[[28  2  6]\n",
      " [10 12  7]\n",
      " [ 2  2 13]]\n",
      "Normalized confusion matrix\n",
      "[[0.78 0.06 0.17]\n",
      " [0.34 0.41 0.24]\n",
      " [0.12 0.12 0.76]]\n"
     ]
    },
    {
     "data": {
      "image/png": "[encoded data removed]",
      "text/plain": [
       "<Figure size 432x288 with 2 Axes>"
      ]
     },
     "metadata": {},
     "output_type": "display_data"
    },
    {
     "data": {
      "image/png": "[encoded data removed]",
      "text/plain": [
       "<Figure size 432x288 with 2 Axes>"
      ]
     },
     "metadata": {},
     "output_type": "display_data"
    }
   ],
   "source": [
    "# Cross-validation for confusion matrix\n",
    "from sklearn import model_selection\n",
    "\n",
    "X=np.array(X_enm)\n",
    "y=np.array(bin_enm)\n",
    "\n",
    "kfold = model_selection.StratifiedKFold(n_splits=17,shuffle=True, random_state=24)\n",
    "cnf_matrix2=np.zeros([3,3])\n",
    "\n",
    "for train_index,test_index in kfold.split(X,y):\n",
    "    X_train, X_test = X[train_index], X[test_index]\n",
    "    y_train, y_test = y[train_index], y[test_index]\n",
    "    bestpipe.fit(X_train,y_train)\n",
    "    y_enm_predict=bestpipe.predict(X_test)\n",
    "    y[test_index]=y_enm_predict\n",
    "    cnf_matrix2+= confusion_matrix(y_test, y_enm_predict);\n",
    "    \n",
    "# Set confusion matrix\n",
    "cnf_matrix=cnf_matrix2.astype(np.int)\n",
    "cnf_matrix = confusion_matrix(bin_enm, y)\n",
    "\n",
    "np.set_printoptions(precision=2)\n",
    "class_names=[\"low\",\"mid\",\"high\"]\n",
    "\n",
    "# Plot non-normalized confusion matrix\n",
    "fig = plt.figure()\n",
    "plot_confusion_matrix(cnf_matrix, classes=class_names,\n",
    "                      title='Confusion matrix, without normalization')\n",
    "fig.savefig('./BLTfigs/confusion_notnorm_mix_match.png')\n",
    "\n",
    "# Plot normalized confusion matrix\n",
    "fig = plt.figure()\n",
    "plot_confusion_matrix(cnf_matrix, classes=class_names, normalize=True,\n",
    "                      title='Normalized confusion matrix')\n",
    "fig.savefig('./BLTfigs/confusion_norm_mix_match.png')\n",
    "plt.show()"
   ]
  },
  {
   "cell_type": "code",
   "execution_count": 296,
   "metadata": {
    "ExecuteTime": {
     "end_time": "2019-01-10T01:49:25.411198Z",
     "start_time": "2019-01-10T01:49:25.379968Z"
    }
   },
   "outputs": [
    {
     "data": {
      "text/plain": [
       "0.6520922545263316"
      ]
     },
     "execution_count": 296,
     "metadata": {},
     "output_type": "execute_result"
    }
   ],
   "source": [
    "# Calculate the normalized average accuracy\n",
    "# for use in a graph of augmentation performance\n",
    "cm_norm = cnf_matrix.astype('float') / cnf_matrix.sum(axis=1)[:, np.newaxis]\n",
    "avg_norm_match1 = (cm_norm[0,0]+cm_norm[1,1]+cm_norm[2,2])/3\n",
    "avg_norm_match1"
   ]
  },
  {
   "cell_type": "markdown",
   "metadata": {},
   "source": [
    "## Augmentation Performance"
   ]
  },
  {
   "cell_type": "markdown",
   "metadata": {},
   "source": [
    "Using dataframes with different random states."
   ]
  },
  {
   "cell_type": "code",
   "execution_count": null,
   "metadata": {
    "collapsed": true
   },
   "outputs": [],
   "source": [
    "augment = [('ENM-Organics_Ratio', ['1:200','1:100','1:50','1:20','1:10','1:4','1:2','1:0']),\n",
    "           ('Random_State',['NA','37','36','38','39','28','29','NA']),\n",
    "           ('Percent_Organics',[100,50,25,10,5,2,1,0]),\n",
    "          ('Avg_Norm_Performance', [avg_norm_oneto200,avg_norm_oneto100,avg_norm_oneto50,avg_norm_oneto20,avg_norm_oneto10,avg_norm_oneto4,avg_norm_oneto2,avg_norm_enm])]\n",
    "augment_df = pd.DataFrame.from_list(augment)"
   ]
  },
  {
   "cell_type": "code",
   "execution_count": 68,
   "metadata": {
    "ExecuteTime": {
     "end_time": "2019-01-02T01:44:07.802354Z",
     "start_time": "2019-01-02T01:44:07.750462Z"
    }
   },
   "outputs": [
    {
     "ename": "NameError",
     "evalue": "name 'avg_norm_oneto20' is not defined",
     "output_type": "error",
     "traceback": [
      "\u001b[0;31m---------------------------------------------------------------------------\u001b[0m",
      "\u001b[0;31mNameError\u001b[0m                                 Traceback (most recent call last)",
      "\u001b[0;32m<ipython-input-68-3432212545b3>\u001b[0m in \u001b[0;36m<module>\u001b[0;34m()\u001b[0m\n\u001b[1;32m      2\u001b[0m            \u001b[0;34m(\u001b[0m\u001b[0;34m'Random_State'\u001b[0m\u001b[0;34m,\u001b[0m\u001b[0;34m[\u001b[0m\u001b[0;34m'NA'\u001b[0m\u001b[0;34m,\u001b[0m\u001b[0;34m'38'\u001b[0m\u001b[0;34m,\u001b[0m\u001b[0;34m'39'\u001b[0m\u001b[0;34m,\u001b[0m\u001b[0;34m'28'\u001b[0m\u001b[0;34m,\u001b[0m\u001b[0;34m'29'\u001b[0m\u001b[0;34m,\u001b[0m\u001b[0;34m'NA'\u001b[0m\u001b[0;34m]\u001b[0m\u001b[0;34m)\u001b[0m\u001b[0;34m,\u001b[0m\u001b[0;34m\u001b[0m\u001b[0m\n\u001b[1;32m      3\u001b[0m            \u001b[0;34m(\u001b[0m\u001b[0;34m'Percent_Organics'\u001b[0m\u001b[0;34m,\u001b[0m\u001b[0;34m[\u001b[0m\u001b[0;36m100\u001b[0m\u001b[0;34m,\u001b[0m\u001b[0;36m10\u001b[0m\u001b[0;34m,\u001b[0m\u001b[0;36m5\u001b[0m\u001b[0;34m,\u001b[0m\u001b[0;36m2\u001b[0m\u001b[0;34m,\u001b[0m\u001b[0;36m1\u001b[0m\u001b[0;34m,\u001b[0m\u001b[0;36m0\u001b[0m\u001b[0;34m]\u001b[0m\u001b[0;34m)\u001b[0m\u001b[0;34m,\u001b[0m\u001b[0;34m\u001b[0m\u001b[0m\n\u001b[0;32m----> 4\u001b[0;31m           ('Avg_Norm_Performance', [avg_norm_oneto200,avg_norm_oneto20,avg_norm_oneto10,avg_norm_oneto4,avg_norm_oneto2,avg_norm_enm])]\n\u001b[0m\u001b[1;32m      5\u001b[0m \u001b[0maugment_df\u001b[0m \u001b[0;34m=\u001b[0m \u001b[0mpd\u001b[0m\u001b[0;34m.\u001b[0m\u001b[0mDataFrame\u001b[0m\u001b[0;34m.\u001b[0m\u001b[0mfrom_items\u001b[0m\u001b[0;34m(\u001b[0m\u001b[0maugment\u001b[0m\u001b[0;34m)\u001b[0m\u001b[0;34m\u001b[0m\u001b[0m\n\u001b[1;32m      6\u001b[0m \u001b[0maugment_df\u001b[0m\u001b[0;34m\u001b[0m\u001b[0m\n",
      "\u001b[0;31mNameError\u001b[0m: name 'avg_norm_oneto20' is not defined"
     ]
    }
   ],
   "source": [
    "augment = [('ENM-Organics_Ratio', ['1:200','1:20','1:10','1:4','1:2','1:0']),\n",
    "           ('Random_State',['NA','38','39','28','29','NA']),\n",
    "           ('Percent_Organics',[100,10,5,2,1,0]),\n",
    "          ('Avg_Norm_Performance', [avg_norm_oneto200,avg_norm_oneto20,avg_norm_oneto10,avg_norm_oneto4,avg_norm_oneto2,avg_norm_enm])]\n",
    "augment_df = pd.DataFrame.from_items(augment)\n",
    "augment_df"
   ]
  },
  {
   "cell_type": "markdown",
   "metadata": {},
   "source": [
    "Using dataframes with same random state."
   ]
  },
  {
   "cell_type": "code",
   "execution_count": null,
   "metadata": {
    "collapsed": true
   },
   "outputs": [],
   "source": [
    "augment = [('ENM-Organics_Ratio', ['1:200','1:100','1:50','1:20','1:10','1:4','1:2','1:0']),\n",
    "           ('Random_State',['NA','37','36','38','39','28','29','NA']),\n",
    "           ('Percent_Organics',[100,50,25,10,5,2,1,0]),\n",
    "          ('Avg_Norm_Performance', [avg_norm_oneto200,avg_norm_oneto100,avg_norm_oneto50,avg_norm_oneto20,avg_norm_oneto10,avg_norm_oneto4,avg_norm_oneto2,avg_norm_enm])]\n",
    "augment_df = pd.DataFrame.from_list(augment)"
   ]
  }
 ],
 "metadata": {
  "kernelspec": {
   "display_name": "Python [default]",
   "language": "python",
   "name": "python3"
  },
  "language_info": {
   "codemirror_mode": {
    "name": "ipython",
    "version": 3
   },
   "file_extension": ".py",
   "mimetype": "text/x-python",
   "name": "python",
   "nbconvert_exporter": "python",
   "pygments_lexer": "ipython3",
   "version": "3.6.3"
  },
  "toc": {
   "base_numbering": 1,
   "nav_menu": {},
   "number_sections": true,
   "sideBar": true,
   "skip_h1_title": false,
   "title_cell": "Table of Contents",
   "title_sidebar": "Contents",
   "toc_cell": true,
   "toc_position": {
    "height": "calc(100% - 180px)",
    "left": "10px",
    "top": "150px",
    "width": "165px"
   },
   "toc_section_display": true,
   "toc_window_display": true
  }
 },
 "nbformat": 4,
 "nbformat_minor": 2
}
