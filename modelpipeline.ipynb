{
 "cells": [
  {
   "cell_type": "markdown",
   "metadata": {
    "toc": true
   },
   "source": [
    "<h1>Table of Contents<span class=\"tocSkip\"></span></h1>\n",
    "<div class=\"toc\"><ul class=\"toc-item\"><li><span><a href=\"#Code-setup\" data-toc-modified-id=\"Code-setup-1\"><span class=\"toc-item-num\">1&nbsp;&nbsp;</span>Code setup</a></span></li><li><span><a href=\"#Data\" data-toc-modified-id=\"Data-2\"><span class=\"toc-item-num\">2&nbsp;&nbsp;</span>Data</a></span><ul class=\"toc-item\"><li><span><a href=\"#Read-in-data\" data-toc-modified-id=\"Read-in-data-2.1\"><span class=\"toc-item-num\">2.1&nbsp;&nbsp;</span>Read in data</a></span></li><li><span><a href=\"#Apply-WF-bins\" data-toc-modified-id=\"Apply-WF-bins-2.2\"><span class=\"toc-item-num\">2.2&nbsp;&nbsp;</span>Apply WF bins</a></span></li></ul></li><li><span><a href=\"#Model-setup\" data-toc-modified-id=\"Model-setup-3\"><span class=\"toc-item-num\">3&nbsp;&nbsp;</span>Model setup</a></span><ul class=\"toc-item\"><li><span><a href=\"#Model-selection\" data-toc-modified-id=\"Model-selection-3.1\"><span class=\"toc-item-num\">3.1&nbsp;&nbsp;</span>Model selection</a></span></li><li><span><a href=\"#Model-functions\" data-toc-modified-id=\"Model-functions-3.2\"><span class=\"toc-item-num\">3.2&nbsp;&nbsp;</span>Model functions</a></span></li></ul></li><li><span><a href=\"#SVC-Models\" data-toc-modified-id=\"SVC-Models-4\"><span class=\"toc-item-num\">4&nbsp;&nbsp;</span>SVC Models</a></span><ul class=\"toc-item\"><li><span><a href=\"#ENM-only\" data-toc-modified-id=\"ENM-only-4.1\"><span class=\"toc-item-num\">4.1&nbsp;&nbsp;</span>ENM-only</a></span><ul class=\"toc-item\"><li><span><a href=\"#Baseline-model\" data-toc-modified-id=\"Baseline-model-4.1.1\"><span class=\"toc-item-num\">4.1.1&nbsp;&nbsp;</span>Baseline model</a></span></li><li><span><a href=\"#PCA-feature-data\" data-toc-modified-id=\"PCA-feature-data-4.1.2\"><span class=\"toc-item-num\">4.1.2&nbsp;&nbsp;</span>PCA feature data</a></span></li><li><span><a href=\"#Permutation-test\" data-toc-modified-id=\"Permutation-test-4.1.3\"><span class=\"toc-item-num\">4.1.3&nbsp;&nbsp;</span>Permutation test</a></span></li><li><span><a href=\"#Feature-comparison\" data-toc-modified-id=\"Feature-comparison-4.1.4\"><span class=\"toc-item-num\">4.1.4&nbsp;&nbsp;</span>Feature comparison</a></span></li></ul></li><li><span><a href=\"#Organics-only\" data-toc-modified-id=\"Organics-only-4.2\"><span class=\"toc-item-num\">4.2&nbsp;&nbsp;</span>Organics-only</a></span></li><li><span><a href=\"#Randomly-augmented-data\" data-toc-modified-id=\"Randomly-augmented-data-4.3\"><span class=\"toc-item-num\">4.3&nbsp;&nbsp;</span>Randomly augmented data</a></span></li><li><span><a href=\"#Matching-(unsupervised)-augmented-data\" data-toc-modified-id=\"Matching-(unsupervised)-augmented-data-4.4\"><span class=\"toc-item-num\">4.4&nbsp;&nbsp;</span>Matching (unsupervised) augmented data</a></span></li><li><span><a href=\"#Matching-(supervised)-augmented-data\" data-toc-modified-id=\"Matching-(supervised)-augmented-data-4.5\"><span class=\"toc-item-num\">4.5&nbsp;&nbsp;</span>Matching (supervised) augmented data</a></span><ul class=\"toc-item\"><li><span><a href=\"#w/-PCA\" data-toc-modified-id=\"w/-PCA-4.5.1\"><span class=\"toc-item-num\">4.5.1&nbsp;&nbsp;</span>w/ PCA</a></span></li></ul></li></ul></li><li><span><a href=\"#Random-Forest-Models\" data-toc-modified-id=\"Random-Forest-Models-5\"><span class=\"toc-item-num\">5&nbsp;&nbsp;</span>Random Forest Models</a></span><ul class=\"toc-item\"><li><span><a href=\"#ENM-only\" data-toc-modified-id=\"ENM-only-5.1\"><span class=\"toc-item-num\">5.1&nbsp;&nbsp;</span>ENM-only</a></span><ul class=\"toc-item\"><li><span><a href=\"#Permutation-test\" data-toc-modified-id=\"Permutation-test-5.1.1\"><span class=\"toc-item-num\">5.1.1&nbsp;&nbsp;</span>Permutation test</a></span></li></ul></li><li><span><a href=\"#Randomly-augmented-data\" data-toc-modified-id=\"Randomly-augmented-data-5.2\"><span class=\"toc-item-num\">5.2&nbsp;&nbsp;</span>Randomly augmented data</a></span></li><li><span><a href=\"#Matching-(unsupervised)-augmented-data\" data-toc-modified-id=\"Matching-(unsupervised)-augmented-data-5.3\"><span class=\"toc-item-num\">5.3&nbsp;&nbsp;</span>Matching (unsupervised) augmented data</a></span></li><li><span><a href=\"#Matching-(supervised)-augmented-data\" data-toc-modified-id=\"Matching-(supervised)-augmented-data-5.4\"><span class=\"toc-item-num\">5.4&nbsp;&nbsp;</span>Matching (supervised) augmented data</a></span></li></ul></li><li><span><a href=\"#Performance-Results\" data-toc-modified-id=\"Performance-Results-6\"><span class=\"toc-item-num\">6&nbsp;&nbsp;</span>Performance Results</a></span><ul class=\"toc-item\"><li><span><a href=\"#SVC-RBF\" data-toc-modified-id=\"SVC-RBF-6.1\"><span class=\"toc-item-num\">6.1&nbsp;&nbsp;</span>SVC-RBF</a></span><ul class=\"toc-item\"><li><span><a href=\"#Permutation-test\" data-toc-modified-id=\"Permutation-test-6.1.1\"><span class=\"toc-item-num\">6.1.1&nbsp;&nbsp;</span>Permutation test</a></span></li></ul></li><li><span><a href=\"#RFC\" data-toc-modified-id=\"RFC-6.2\"><span class=\"toc-item-num\">6.2&nbsp;&nbsp;</span>RFC</a></span></li></ul></li></ul></div>"
   ]
  },
  {
   "cell_type": "markdown",
   "metadata": {},
   "source": [
    "# Code setup"
   ]
  },
  {
   "cell_type": "code",
   "execution_count": 23,
   "metadata": {
    "ExecuteTime": {
     "end_time": "2019-09-26T09:03:52.152952Z",
     "start_time": "2019-09-26T09:03:52.148940Z"
    }
   },
   "outputs": [],
   "source": [
    "# To support both python 2 and python 3\n",
    "from __future__ import division, print_function, unicode_literals\n",
    "\n",
    "# To suppress warning output\n",
    "import warnings\n",
    "warnings.filterwarnings('ignore')\n",
    "warnings.simplefilter('ignore')\n",
    "\n",
    "# Important imports\n",
    "import numpy as np\n",
    "from numpy import random\n",
    "import pandas as pd\n",
    "import os, sys\n",
    "\n",
    "# Set random seed across notebook for repeatable results\n",
    "np.random.seed(42)"
   ]
  },
  {
   "cell_type": "code",
   "execution_count": 2,
   "metadata": {
    "ExecuteTime": {
     "end_time": "2019-09-26T08:55:13.884372Z",
     "start_time": "2019-09-26T08:55:13.686094Z"
    }
   },
   "outputs": [],
   "source": [
    "# To plot nice figures\n",
    "%matplotlib inline\n",
    "import matplotlib\n",
    "import matplotlib.pyplot as plt\n",
    "import matplotlib.cm as cm\n",
    "import matplotlib.image as mpimg\n",
    "plt.rcParams['axes.titlesize'] = 'x-large' #16\n",
    "plt.rcParams['axes.labelsize'] = 'x-large'\n",
    "plt.rcParams['xtick.labelsize'] = 'x-large'\n",
    "plt.rcParams['ytick.labelsize'] = 'x-large'"
   ]
  },
  {
   "cell_type": "code",
   "execution_count": 3,
   "metadata": {
    "ExecuteTime": {
     "end_time": "2019-09-26T08:55:14.565400Z",
     "start_time": "2019-09-26T08:55:14.555271Z"
    }
   },
   "outputs": [
    {
     "name": "stdout",
     "output_type": "stream",
     "text": [
      "Figure directory exists.\n"
     ]
    }
   ],
   "source": [
    "# Where to save the figures\n",
    "PROJECT_ROOT_DIR = \".\"\n",
    "PROJECT_SAVE_DIR = \"figs\"\n",
    "\n",
    "if not (os.path.isdir(PROJECT_ROOT_DIR+'/'+PROJECT_SAVE_DIR)):\n",
    "    print('Figure directory did not exist, creating now.')\n",
    "    os.mkdir(PROJECT_ROOT_DIR+'/'+PROJECT_SAVE_DIR)\n",
    "else:\n",
    "    print('Figure directory exists.')"
   ]
  },
  {
   "cell_type": "code",
   "execution_count": 4,
   "metadata": {
    "ExecuteTime": {
     "end_time": "2019-09-26T08:55:16.992518Z",
     "start_time": "2019-09-26T08:55:15.339667Z"
    }
   },
   "outputs": [
    {
     "name": "stdout",
     "output_type": "stream",
     "text": [
      "Figure directory exists.\n",
      "Figure directory exists.\n"
     ]
    }
   ],
   "source": [
    "# Import classes and functions used across multiple notebooks\n",
    "sys.path.append(os.getcwd())\n",
    "import importlib\n",
    "import functions as blt\n",
    "importlib.reload(blt);"
   ]
  },
  {
   "cell_type": "markdown",
   "metadata": {},
   "source": [
    "# Data"
   ]
  },
  {
   "cell_type": "markdown",
   "metadata": {},
   "source": [
    "## Read in data"
   ]
  },
  {
   "cell_type": "code",
   "execution_count": 15,
   "metadata": {
    "ExecuteTime": {
     "end_time": "2019-09-26T08:57:32.407835Z",
     "start_time": "2019-09-26T08:57:32.302339Z"
    }
   },
   "outputs": [
    {
     "name": "stdout",
     "output_type": "stream",
     "text": [
      "X_enm shape:    (112, 35)\n",
      "X_source shape: (16439, 35)\n",
      "y_enm shape:    (112, 1)\n",
      "y_source shape: (16439, 1)\n"
     ]
    }
   ],
   "source": [
    "# Read in target (ENM) feature data\n",
    "X_enm = pd.read_csv(\"./data/ENM-preprocessed-feats.csv\", \n",
    "                    sep='\\t', header='infer', index_col=0)\n",
    "\n",
    "# Read in alternate target (ENM) feature data (PCA results)\n",
    "PCA_enm = pd.read_csv(\"./data/ENM-PCA-feats.csv\", \n",
    "                      sep='\\t', header='infer', index_col=0)\n",
    "\n",
    "# Read in source (organics) feature data\n",
    "X_source = pd.read_csv(\"./data/organics-preprocessed-feats.csv\", \n",
    "                       sep='\\t', header='infer', index_col=0)\n",
    "\n",
    "# Read in ENM labels (maximum_weight_fraction)\n",
    "y_enm = pd.read_csv(\"./data/ENM-clean.csv\", \n",
    "                    sep=',', header='infer', usecols=[4])\n",
    "\n",
    "# Read in organics labels (maximum_weight_fraction)\n",
    "y_source = pd.read_csv(\"./data/organics-preprocessed-WF.csv\", \n",
    "                       sep='\\t', header='infer', index_col=0)\n",
    "y_source.index = X_source.index\n",
    "\n",
    "print('X_enm shape:   ', X_enm.shape)\n",
    "print('X_source shape:', X_source.shape)\n",
    "print('y_enm shape:   ', y_enm.shape)\n",
    "print('y_source shape:', y_source.shape)"
   ]
  },
  {
   "cell_type": "code",
   "execution_count": 10,
   "metadata": {
    "ExecuteTime": {
     "end_time": "2019-09-26T08:56:40.755144Z",
     "start_time": "2019-09-26T08:56:40.736744Z"
    }
   },
   "outputs": [
    {
     "data": {
      "text/html": [
       "<div>\n",
       "<style scoped>\n",
       "    .dataframe tbody tr th:only-of-type {\n",
       "        vertical-align: middle;\n",
       "    }\n",
       "\n",
       "    .dataframe tbody tr th {\n",
       "        vertical-align: top;\n",
       "    }\n",
       "\n",
       "    .dataframe thead th {\n",
       "        text-align: right;\n",
       "    }\n",
       "</style>\n",
       "<table border=\"1\" class=\"dataframe\">\n",
       "  <thead>\n",
       "    <tr style=\"text-align: right;\">\n",
       "      <th></th>\n",
       "      <th>propMW</th>\n",
       "      <th>propMP</th>\n",
       "      <th>propLogDensity</th>\n",
       "      <th>agg_absorbent_opacifier</th>\n",
       "      <th>agg_brightener_viscocity_mod</th>\n",
       "      <th>agg_filler_humectant</th>\n",
       "      <th>anti_adhesive_cohesive</th>\n",
       "      <th>antioxidant</th>\n",
       "      <th>antiredeposition_agent</th>\n",
       "      <th>biocide</th>\n",
       "      <th>...</th>\n",
       "      <th>group_dentalcare</th>\n",
       "      <th>group_deodorant</th>\n",
       "      <th>group_facialcleansingandmoisturizing</th>\n",
       "      <th>group_footcare</th>\n",
       "      <th>group_generalmoisturizing</th>\n",
       "      <th>group_makeupandrelated</th>\n",
       "      <th>group_surfacesealers</th>\n",
       "      <th>refined_spray</th>\n",
       "      <th>matrix_F</th>\n",
       "      <th>WF_measured</th>\n",
       "    </tr>\n",
       "  </thead>\n",
       "  <tbody>\n",
       "    <tr>\n",
       "      <th>0</th>\n",
       "      <td>79.867</td>\n",
       "      <td>1843.00</td>\n",
       "      <td>0.626340</td>\n",
       "      <td>0.0</td>\n",
       "      <td>0.5</td>\n",
       "      <td>0.0</td>\n",
       "      <td>0.0</td>\n",
       "      <td>0.0</td>\n",
       "      <td>1.0</td>\n",
       "      <td>0.0</td>\n",
       "      <td>...</td>\n",
       "      <td>0.0</td>\n",
       "      <td>0.0</td>\n",
       "      <td>0.0</td>\n",
       "      <td>0.0</td>\n",
       "      <td>0.0</td>\n",
       "      <td>0.0</td>\n",
       "      <td>0.0</td>\n",
       "      <td>0</td>\n",
       "      <td>1</td>\n",
       "      <td>0</td>\n",
       "    </tr>\n",
       "    <tr>\n",
       "      <th>1</th>\n",
       "      <td>63.546</td>\n",
       "      <td>1083.00</td>\n",
       "      <td>0.952308</td>\n",
       "      <td>0.0</td>\n",
       "      <td>0.0</td>\n",
       "      <td>0.0</td>\n",
       "      <td>0.0</td>\n",
       "      <td>1.0</td>\n",
       "      <td>0.0</td>\n",
       "      <td>1.0</td>\n",
       "      <td>...</td>\n",
       "      <td>0.0</td>\n",
       "      <td>0.0</td>\n",
       "      <td>0.0</td>\n",
       "      <td>0.0</td>\n",
       "      <td>0.0</td>\n",
       "      <td>0.0</td>\n",
       "      <td>0.0</td>\n",
       "      <td>0</td>\n",
       "      <td>1</td>\n",
       "      <td>0</td>\n",
       "    </tr>\n",
       "    <tr>\n",
       "      <th>2</th>\n",
       "      <td>65.370</td>\n",
       "      <td>419.53</td>\n",
       "      <td>0.853698</td>\n",
       "      <td>0.0</td>\n",
       "      <td>0.0</td>\n",
       "      <td>0.0</td>\n",
       "      <td>0.0</td>\n",
       "      <td>1.0</td>\n",
       "      <td>0.0</td>\n",
       "      <td>0.0</td>\n",
       "      <td>...</td>\n",
       "      <td>0.0</td>\n",
       "      <td>0.0</td>\n",
       "      <td>0.0</td>\n",
       "      <td>0.0</td>\n",
       "      <td>0.0</td>\n",
       "      <td>0.0</td>\n",
       "      <td>0.0</td>\n",
       "      <td>0</td>\n",
       "      <td>1</td>\n",
       "      <td>0</td>\n",
       "    </tr>\n",
       "    <tr>\n",
       "      <th>3</th>\n",
       "      <td>107.868</td>\n",
       "      <td>961.78</td>\n",
       "      <td>1.014730</td>\n",
       "      <td>0.0</td>\n",
       "      <td>0.0</td>\n",
       "      <td>0.0</td>\n",
       "      <td>0.0</td>\n",
       "      <td>0.0</td>\n",
       "      <td>0.0</td>\n",
       "      <td>1.0</td>\n",
       "      <td>...</td>\n",
       "      <td>0.0</td>\n",
       "      <td>0.0</td>\n",
       "      <td>1.0</td>\n",
       "      <td>0.0</td>\n",
       "      <td>0.0</td>\n",
       "      <td>0.0</td>\n",
       "      <td>0.0</td>\n",
       "      <td>0</td>\n",
       "      <td>1</td>\n",
       "      <td>0</td>\n",
       "    </tr>\n",
       "  </tbody>\n",
       "</table>\n",
       "<p>4 rows × 35 columns</p>\n",
       "</div>"
      ],
      "text/plain": [
       "    propMW   propMP  propLogDensity  agg_absorbent_opacifier  \\\n",
       "0   79.867  1843.00        0.626340                      0.0   \n",
       "1   63.546  1083.00        0.952308                      0.0   \n",
       "2   65.370   419.53        0.853698                      0.0   \n",
       "3  107.868   961.78        1.014730                      0.0   \n",
       "\n",
       "   agg_brightener_viscocity_mod  agg_filler_humectant  anti_adhesive_cohesive  \\\n",
       "0                           0.5                   0.0                     0.0   \n",
       "1                           0.0                   0.0                     0.0   \n",
       "2                           0.0                   0.0                     0.0   \n",
       "3                           0.0                   0.0                     0.0   \n",
       "\n",
       "   antioxidant  antiredeposition_agent  biocide  ...  group_dentalcare  \\\n",
       "0          0.0                     1.0      0.0  ...               0.0   \n",
       "1          1.0                     0.0      1.0  ...               0.0   \n",
       "2          1.0                     0.0      0.0  ...               0.0   \n",
       "3          0.0                     0.0      1.0  ...               0.0   \n",
       "\n",
       "   group_deodorant  group_facialcleansingandmoisturizing  group_footcare  \\\n",
       "0              0.0                                   0.0             0.0   \n",
       "1              0.0                                   0.0             0.0   \n",
       "2              0.0                                   0.0             0.0   \n",
       "3              0.0                                   1.0             0.0   \n",
       "\n",
       "   group_generalmoisturizing  group_makeupandrelated  group_surfacesealers  \\\n",
       "0                        0.0                     0.0                   0.0   \n",
       "1                        0.0                     0.0                   0.0   \n",
       "2                        0.0                     0.0                   0.0   \n",
       "3                        0.0                     0.0                   0.0   \n",
       "\n",
       "   refined_spray  matrix_F  WF_measured  \n",
       "0              0         1            0  \n",
       "1              0         1            0  \n",
       "2              0         1            0  \n",
       "3              0         1            0  \n",
       "\n",
       "[4 rows x 35 columns]"
      ]
     },
     "execution_count": 10,
     "metadata": {},
     "output_type": "execute_result"
    }
   ],
   "source": [
    "# View ENM feature df\n",
    "X_enm.head(4)"
   ]
  },
  {
   "cell_type": "code",
   "execution_count": 11,
   "metadata": {
    "ExecuteTime": {
     "end_time": "2019-09-26T08:56:42.860594Z",
     "start_time": "2019-09-26T08:56:42.847763Z"
    }
   },
   "outputs": [],
   "source": [
    "# Read in previous model evaluation results tables\n",
    "results_svc = pd.read_csv(\"./data/results-SVC.csv\", sep='\\t', na_values='nan')\n",
    "results_rfc = pd.read_csv(\"./data/results-RFC.csv\", sep='\\t')\n",
    "results_permute = np.loadtxt('./data/results-permutation-SVC.txt')"
   ]
  },
  {
   "cell_type": "markdown",
   "metadata": {},
   "source": [
    "## Apply WF bins"
   ]
  },
  {
   "cell_type": "markdown",
   "metadata": {},
   "source": [
    "Labels (continuous WF data) will be binned into low, medium and high categories."
   ]
  },
  {
   "cell_type": "code",
   "execution_count": 17,
   "metadata": {
    "ExecuteTime": {
     "end_time": "2019-09-26T08:57:52.067356Z",
     "start_time": "2019-09-26T08:57:51.791285Z"
    }
   },
   "outputs": [],
   "source": [
    "# Apply bins to ENM and organics data\n",
    "bin_enm = np.asarray(y_enm.apply(blt.bins, axis=1))\n",
    "bin_source = np.asarray(y_source.apply(blt.bins, axis=1))"
   ]
  },
  {
   "cell_type": "code",
   "execution_count": 18,
   "metadata": {
    "ExecuteTime": {
     "end_time": "2019-09-26T08:58:26.280878Z",
     "start_time": "2019-09-26T08:58:26.182307Z"
    }
   },
   "outputs": [
    {
     "data": {
      "image/png": "[encoded data removed]",
      "text/plain": [
       "<Figure size 432x288 with 1 Axes>"
      ]
     },
     "metadata": {
      "needs_background": "light"
     },
     "output_type": "display_data"
    },
    {
     "name": "stdout",
     "output_type": "stream",
     "text": [
      "Label bin:  [0 1 2]\n",
      "Count    :  [48 27 37]\n",
      "Frequency:  [0.43, 0.24, 0.33]\n"
     ]
    }
   ],
   "source": [
    "# View bar plot of ENM WF bins\n",
    "blt.bar_graph_bins(bin_enm, data_composition='ENM')"
   ]
  },
  {
   "cell_type": "markdown",
   "metadata": {},
   "source": [
    "The medium WF bin has the least number of samples at 27. This is important for evaluating models later on; 27 will be used for the number of cross validation folds so that it's essentially \"leave-one-out\" CV. This approach is, for the most part, considered unbiased.\n",
    "\n",
    "https://stats.stackexchange.com/questions/154830/10-fold-cross-validation-vs-leave-one-out-cross-validation"
   ]
  },
  {
   "cell_type": "code",
   "execution_count": 19,
   "metadata": {
    "ExecuteTime": {
     "end_time": "2019-09-26T08:59:06.918325Z",
     "start_time": "2019-09-26T08:59:06.826143Z"
    }
   },
   "outputs": [
    {
     "data": {
      "image/png": "[encoded data removed]",
      "text/plain": [
       "<Figure size 432x288 with 1 Axes>"
      ]
     },
     "metadata": {
      "needs_background": "light"
     },
     "output_type": "display_data"
    },
    {
     "name": "stdout",
     "output_type": "stream",
     "text": [
      "Label bin:  [0 1 2]\n",
      "Count    :  [  381  5746 10312]\n",
      "Frequency:  [0.02, 0.35, 0.63]\n"
     ]
    }
   ],
   "source": [
    "# View bar plot of Organics WF bins\n",
    "blt.bar_graph_bins(bin_source, data_composition='Organics')"
   ]
  },
  {
   "cell_type": "markdown",
   "metadata": {},
   "source": [
    "# Model setup"
   ]
  },
  {
   "cell_type": "markdown",
   "metadata": {},
   "source": [
    "## Model selection"
   ]
  },
  {
   "cell_type": "markdown",
   "metadata": {},
   "source": [
    "This makes use of a helper class (see functions.ipynb) in order to compare different model estimators with different parameters. Estimator Selection Helper is by David Batista:\n",
    "http://www.davidsbatista.net/blog/2018/02/23/model_optimization/ with some slight modifications. A random forest classifier, linear SVC and non-linear SVC (RBF) were evaluated on the ENM data (normalized)."
   ]
  },
  {
   "cell_type": "code",
   "execution_count": 20,
   "metadata": {
    "ExecuteTime": {
     "end_time": "2019-09-26T09:00:21.734441Z",
     "start_time": "2019-09-26T09:00:21.640164Z"
    }
   },
   "outputs": [],
   "source": [
    "# Test a few model types\n",
    "from sklearn.model_selection import GridSearchCV\n",
    "from sklearn.svm import SVC\n",
    "from sklearn.ensemble import RandomForestClassifier\n",
    "\n",
    "cv = 10\n",
    "c_set = np.logspace(-1,7,9)\n",
    "gamma_set = np.logspace(-7,1,9)\n",
    "\n",
    "# The first dictionary contains the models to be scored\n",
    "models = {'RandomForest': RandomForestClassifier(),\n",
    "          'SVC': SVC(class_weight='balanced')\n",
    "         }\n",
    "# The second contains the parameters for each model\n",
    "params = {'RandomForest': { 'n_estimators': np.arange(8,26,2)},\n",
    "          'SVC': [{'kernel': ['linear'], 'C': c_set}, \n",
    "                  {'kernel': ['rbf'], 'C': c_set, 'gamma': gamma_set}, \n",
    "                 ]\n",
    "         }"
   ]
  },
  {
   "cell_type": "code",
   "execution_count": 24,
   "metadata": {
    "ExecuteTime": {
     "end_time": "2019-09-26T09:04:50.625766Z",
     "start_time": "2019-09-26T09:04:17.404404Z"
    }
   },
   "outputs": [
    {
     "name": "stdout",
     "output_type": "stream",
     "text": [
      "Running GridSearchCV for RandomForest.\n",
      "Fitting 10 folds for each of 9 candidates, totalling 90 fits\n"
     ]
    },
    {
     "name": "stderr",
     "output_type": "stream",
     "text": [
      "[Parallel(n_jobs=3)]: Using backend LokyBackend with 3 concurrent workers.\n",
      "[Parallel(n_jobs=3)]: Done  90 out of  90 | elapsed:    0.6s finished\n",
      "[Parallel(n_jobs=3)]: Using backend LokyBackend with 3 concurrent workers.\n"
     ]
    },
    {
     "name": "stdout",
     "output_type": "stream",
     "text": [
      "Running GridSearchCV for SVC.\n",
      "Fitting 10 folds for each of 90 candidates, totalling 900 fits\n",
      "RandomForest\n",
      "SVC\n"
     ]
    },
    {
     "name": "stderr",
     "output_type": "stream",
     "text": [
      "[Parallel(n_jobs=3)]: Done 900 out of 900 | elapsed:   32.5s finished\n"
     ]
    },
    {
     "data": {
      "text/html": [
       "<div>\n",
       "<style scoped>\n",
       "    .dataframe tbody tr th:only-of-type {\n",
       "        vertical-align: middle;\n",
       "    }\n",
       "\n",
       "    .dataframe tbody tr th {\n",
       "        vertical-align: top;\n",
       "    }\n",
       "\n",
       "    .dataframe thead th {\n",
       "        text-align: right;\n",
       "    }\n",
       "</style>\n",
       "<table border=\"1\" class=\"dataframe\">\n",
       "  <thead>\n",
       "    <tr style=\"text-align: right;\">\n",
       "      <th></th>\n",
       "      <th>estimator</th>\n",
       "      <th>min_score</th>\n",
       "      <th>mean_score</th>\n",
       "      <th>max_score</th>\n",
       "      <th>std_score</th>\n",
       "      <th>C</th>\n",
       "      <th>gamma</th>\n",
       "      <th>kernel</th>\n",
       "      <th>n_estimators</th>\n",
       "    </tr>\n",
       "  </thead>\n",
       "  <tbody>\n",
       "    <tr>\n",
       "      <th>6</th>\n",
       "      <td>RandomForest</td>\n",
       "      <td>0.416667</td>\n",
       "      <td>0.736667</td>\n",
       "      <td>0.916667</td>\n",
       "      <td>0.1506</td>\n",
       "      <td>NaN</td>\n",
       "      <td>NaN</td>\n",
       "      <td>NaN</td>\n",
       "      <td>20</td>\n",
       "    </tr>\n",
       "    <tr>\n",
       "      <th>8</th>\n",
       "      <td>RandomForest</td>\n",
       "      <td>0.416667</td>\n",
       "      <td>0.728333</td>\n",
       "      <td>0.916667</td>\n",
       "      <td>0.142496</td>\n",
       "      <td>NaN</td>\n",
       "      <td>NaN</td>\n",
       "      <td>NaN</td>\n",
       "      <td>24</td>\n",
       "    </tr>\n",
       "    <tr>\n",
       "      <th>3</th>\n",
       "      <td>RandomForest</td>\n",
       "      <td>0.416667</td>\n",
       "      <td>0.728333</td>\n",
       "      <td>0.916667</td>\n",
       "      <td>0.147289</td>\n",
       "      <td>NaN</td>\n",
       "      <td>NaN</td>\n",
       "      <td>NaN</td>\n",
       "      <td>14</td>\n",
       "    </tr>\n",
       "    <tr>\n",
       "      <th>0</th>\n",
       "      <td>RandomForest</td>\n",
       "      <td>0.416667</td>\n",
       "      <td>0.72</td>\n",
       "      <td>0.916667</td>\n",
       "      <td>0.138493</td>\n",
       "      <td>NaN</td>\n",
       "      <td>NaN</td>\n",
       "      <td>NaN</td>\n",
       "      <td>8</td>\n",
       "    </tr>\n",
       "    <tr>\n",
       "      <th>7</th>\n",
       "      <td>RandomForest</td>\n",
       "      <td>0.416667</td>\n",
       "      <td>0.72</td>\n",
       "      <td>0.833333</td>\n",
       "      <td>0.133384</td>\n",
       "      <td>NaN</td>\n",
       "      <td>NaN</td>\n",
       "      <td>NaN</td>\n",
       "      <td>22</td>\n",
       "    </tr>\n",
       "    <tr>\n",
       "      <th>10</th>\n",
       "      <td>SVC</td>\n",
       "      <td>0.416667</td>\n",
       "      <td>0.715</td>\n",
       "      <td>0.916667</td>\n",
       "      <td>0.151455</td>\n",
       "      <td>1</td>\n",
       "      <td>NaN</td>\n",
       "      <td>linear</td>\n",
       "      <td>NaN</td>\n",
       "    </tr>\n",
       "    <tr>\n",
       "      <th>42</th>\n",
       "      <td>SVC</td>\n",
       "      <td>0.416667</td>\n",
       "      <td>0.713333</td>\n",
       "      <td>0.916667</td>\n",
       "      <td>0.151336</td>\n",
       "      <td>10</td>\n",
       "      <td>0.1</td>\n",
       "      <td>rbf</td>\n",
       "      <td>NaN</td>\n",
       "    </tr>\n",
       "    <tr>\n",
       "      <th>17</th>\n",
       "      <td>SVC</td>\n",
       "      <td>0.333333</td>\n",
       "      <td>0.711667</td>\n",
       "      <td>1</td>\n",
       "      <td>0.189663</td>\n",
       "      <td>1e+07</td>\n",
       "      <td>NaN</td>\n",
       "      <td>linear</td>\n",
       "      <td>NaN</td>\n",
       "    </tr>\n",
       "    <tr>\n",
       "      <th>76</th>\n",
       "      <td>SVC</td>\n",
       "      <td>0.416667</td>\n",
       "      <td>0.711667</td>\n",
       "      <td>1</td>\n",
       "      <td>0.166249</td>\n",
       "      <td>100000</td>\n",
       "      <td>0.001</td>\n",
       "      <td>rbf</td>\n",
       "      <td>NaN</td>\n",
       "    </tr>\n",
       "    <tr>\n",
       "      <th>5</th>\n",
       "      <td>RandomForest</td>\n",
       "      <td>0.416667</td>\n",
       "      <td>0.711667</td>\n",
       "      <td>0.916667</td>\n",
       "      <td>0.133852</td>\n",
       "      <td>NaN</td>\n",
       "      <td>NaN</td>\n",
       "      <td>NaN</td>\n",
       "      <td>18</td>\n",
       "    </tr>\n",
       "    <tr>\n",
       "      <th>12</th>\n",
       "      <td>SVC</td>\n",
       "      <td>0.416667</td>\n",
       "      <td>0.705</td>\n",
       "      <td>0.916667</td>\n",
       "      <td>0.151381</td>\n",
       "      <td>100</td>\n",
       "      <td>NaN</td>\n",
       "      <td>linear</td>\n",
       "      <td>NaN</td>\n",
       "    </tr>\n",
       "    <tr>\n",
       "      <th>13</th>\n",
       "      <td>SVC</td>\n",
       "      <td>0.416667</td>\n",
       "      <td>0.705</td>\n",
       "      <td>0.916667</td>\n",
       "      <td>0.151381</td>\n",
       "      <td>1000</td>\n",
       "      <td>NaN</td>\n",
       "      <td>linear</td>\n",
       "      <td>NaN</td>\n",
       "    </tr>\n",
       "    <tr>\n",
       "      <th>14</th>\n",
       "      <td>SVC</td>\n",
       "      <td>0.416667</td>\n",
       "      <td>0.705</td>\n",
       "      <td>0.916667</td>\n",
       "      <td>0.151381</td>\n",
       "      <td>10000</td>\n",
       "      <td>NaN</td>\n",
       "      <td>linear</td>\n",
       "      <td>NaN</td>\n",
       "    </tr>\n",
       "    <tr>\n",
       "      <th>91</th>\n",
       "      <td>SVC</td>\n",
       "      <td>0.416667</td>\n",
       "      <td>0.705</td>\n",
       "      <td>0.916667</td>\n",
       "      <td>0.151381</td>\n",
       "      <td>1e+07</td>\n",
       "      <td>1e-06</td>\n",
       "      <td>rbf</td>\n",
       "      <td>NaN</td>\n",
       "    </tr>\n",
       "    <tr>\n",
       "      <th>93</th>\n",
       "      <td>SVC</td>\n",
       "      <td>0.416667</td>\n",
       "      <td>0.703333</td>\n",
       "      <td>0.916667</td>\n",
       "      <td>0.15316</td>\n",
       "      <td>1e+07</td>\n",
       "      <td>0.0001</td>\n",
       "      <td>rbf</td>\n",
       "      <td>NaN</td>\n",
       "    </tr>\n",
       "    <tr>\n",
       "      <th>95</th>\n",
       "      <td>SVC</td>\n",
       "      <td>0.333333</td>\n",
       "      <td>0.703333</td>\n",
       "      <td>1</td>\n",
       "      <td>0.182154</td>\n",
       "      <td>1e+07</td>\n",
       "      <td>0.01</td>\n",
       "      <td>rbf</td>\n",
       "      <td>NaN</td>\n",
       "    </tr>\n",
       "    <tr>\n",
       "      <th>86</th>\n",
       "      <td>SVC</td>\n",
       "      <td>0.333333</td>\n",
       "      <td>0.703333</td>\n",
       "      <td>1</td>\n",
       "      <td>0.182154</td>\n",
       "      <td>1e+06</td>\n",
       "      <td>0.01</td>\n",
       "      <td>rbf</td>\n",
       "      <td>NaN</td>\n",
       "    </tr>\n",
       "    <tr>\n",
       "      <th>68</th>\n",
       "      <td>SVC</td>\n",
       "      <td>0.333333</td>\n",
       "      <td>0.703333</td>\n",
       "      <td>1</td>\n",
       "      <td>0.182154</td>\n",
       "      <td>10000</td>\n",
       "      <td>0.01</td>\n",
       "      <td>rbf</td>\n",
       "      <td>NaN</td>\n",
       "    </tr>\n",
       "    <tr>\n",
       "      <th>92</th>\n",
       "      <td>SVC</td>\n",
       "      <td>0.416667</td>\n",
       "      <td>0.703333</td>\n",
       "      <td>0.916667</td>\n",
       "      <td>0.15316</td>\n",
       "      <td>1e+07</td>\n",
       "      <td>1e-05</td>\n",
       "      <td>rbf</td>\n",
       "      <td>NaN</td>\n",
       "    </tr>\n",
       "    <tr>\n",
       "      <th>94</th>\n",
       "      <td>SVC</td>\n",
       "      <td>0.333333</td>\n",
       "      <td>0.703333</td>\n",
       "      <td>1</td>\n",
       "      <td>0.182154</td>\n",
       "      <td>1e+07</td>\n",
       "      <td>0.001</td>\n",
       "      <td>rbf</td>\n",
       "      <td>NaN</td>\n",
       "    </tr>\n",
       "    <tr>\n",
       "      <th>85</th>\n",
       "      <td>SVC</td>\n",
       "      <td>0.333333</td>\n",
       "      <td>0.703333</td>\n",
       "      <td>1</td>\n",
       "      <td>0.182154</td>\n",
       "      <td>1e+06</td>\n",
       "      <td>0.001</td>\n",
       "      <td>rbf</td>\n",
       "      <td>NaN</td>\n",
       "    </tr>\n",
       "    <tr>\n",
       "      <th>84</th>\n",
       "      <td>SVC</td>\n",
       "      <td>0.416667</td>\n",
       "      <td>0.703333</td>\n",
       "      <td>0.916667</td>\n",
       "      <td>0.15316</td>\n",
       "      <td>1e+06</td>\n",
       "      <td>0.0001</td>\n",
       "      <td>rbf</td>\n",
       "      <td>NaN</td>\n",
       "    </tr>\n",
       "    <tr>\n",
       "      <th>77</th>\n",
       "      <td>SVC</td>\n",
       "      <td>0.333333</td>\n",
       "      <td>0.703333</td>\n",
       "      <td>1</td>\n",
       "      <td>0.182154</td>\n",
       "      <td>100000</td>\n",
       "      <td>0.01</td>\n",
       "      <td>rbf</td>\n",
       "      <td>NaN</td>\n",
       "    </tr>\n",
       "    <tr>\n",
       "      <th>16</th>\n",
       "      <td>SVC</td>\n",
       "      <td>0.416667</td>\n",
       "      <td>0.703333</td>\n",
       "      <td>0.916667</td>\n",
       "      <td>0.15316</td>\n",
       "      <td>1e+06</td>\n",
       "      <td>NaN</td>\n",
       "      <td>linear</td>\n",
       "      <td>NaN</td>\n",
       "    </tr>\n",
       "    <tr>\n",
       "      <th>2</th>\n",
       "      <td>RandomForest</td>\n",
       "      <td>0.333333</td>\n",
       "      <td>0.703333</td>\n",
       "      <td>1</td>\n",
       "      <td>0.200311</td>\n",
       "      <td>NaN</td>\n",
       "      <td>NaN</td>\n",
       "      <td>NaN</td>\n",
       "      <td>12</td>\n",
       "    </tr>\n",
       "    <tr>\n",
       "      <th>83</th>\n",
       "      <td>SVC</td>\n",
       "      <td>0.333333</td>\n",
       "      <td>0.696667</td>\n",
       "      <td>0.916667</td>\n",
       "      <td>0.168365</td>\n",
       "      <td>1e+06</td>\n",
       "      <td>1e-05</td>\n",
       "      <td>rbf</td>\n",
       "      <td>NaN</td>\n",
       "    </tr>\n",
       "    <tr>\n",
       "      <th>67</th>\n",
       "      <td>SVC</td>\n",
       "      <td>0.333333</td>\n",
       "      <td>0.696667</td>\n",
       "      <td>0.916667</td>\n",
       "      <td>0.168365</td>\n",
       "      <td>10000</td>\n",
       "      <td>0.001</td>\n",
       "      <td>rbf</td>\n",
       "      <td>NaN</td>\n",
       "    </tr>\n",
       "    <tr>\n",
       "      <th>50</th>\n",
       "      <td>SVC</td>\n",
       "      <td>0.416667</td>\n",
       "      <td>0.696667</td>\n",
       "      <td>0.916667</td>\n",
       "      <td>0.141469</td>\n",
       "      <td>100</td>\n",
       "      <td>0.01</td>\n",
       "      <td>rbf</td>\n",
       "      <td>NaN</td>\n",
       "    </tr>\n",
       "    <tr>\n",
       "      <th>4</th>\n",
       "      <td>RandomForest</td>\n",
       "      <td>0.333333</td>\n",
       "      <td>0.695</td>\n",
       "      <td>0.833333</td>\n",
       "      <td>0.143274</td>\n",
       "      <td>NaN</td>\n",
       "      <td>NaN</td>\n",
       "      <td>NaN</td>\n",
       "      <td>16</td>\n",
       "    </tr>\n",
       "    <tr>\n",
       "      <th>15</th>\n",
       "      <td>SVC</td>\n",
       "      <td>0.416667</td>\n",
       "      <td>0.695</td>\n",
       "      <td>0.916667</td>\n",
       "      <td>0.148042</td>\n",
       "      <td>100000</td>\n",
       "      <td>NaN</td>\n",
       "      <td>linear</td>\n",
       "      <td>NaN</td>\n",
       "    </tr>\n",
       "    <tr>\n",
       "      <th>...</th>\n",
       "      <td>...</td>\n",
       "      <td>...</td>\n",
       "      <td>...</td>\n",
       "      <td>...</td>\n",
       "      <td>...</td>\n",
       "      <td>...</td>\n",
       "      <td>...</td>\n",
       "      <td>...</td>\n",
       "      <td>...</td>\n",
       "    </tr>\n",
       "    <tr>\n",
       "      <th>35</th>\n",
       "      <td>SVC</td>\n",
       "      <td>0.0833333</td>\n",
       "      <td>0.554444</td>\n",
       "      <td>0.777778</td>\n",
       "      <td>0.1977</td>\n",
       "      <td>1</td>\n",
       "      <td>10</td>\n",
       "      <td>rbf</td>\n",
       "      <td>NaN</td>\n",
       "    </tr>\n",
       "    <tr>\n",
       "      <th>89</th>\n",
       "      <td>SVC</td>\n",
       "      <td>0.0833333</td>\n",
       "      <td>0.553333</td>\n",
       "      <td>0.777778</td>\n",
       "      <td>0.192245</td>\n",
       "      <td>1e+06</td>\n",
       "      <td>10</td>\n",
       "      <td>rbf</td>\n",
       "      <td>NaN</td>\n",
       "    </tr>\n",
       "    <tr>\n",
       "      <th>80</th>\n",
       "      <td>SVC</td>\n",
       "      <td>0.0833333</td>\n",
       "      <td>0.553333</td>\n",
       "      <td>0.777778</td>\n",
       "      <td>0.192245</td>\n",
       "      <td>100000</td>\n",
       "      <td>10</td>\n",
       "      <td>rbf</td>\n",
       "      <td>NaN</td>\n",
       "    </tr>\n",
       "    <tr>\n",
       "      <th>98</th>\n",
       "      <td>SVC</td>\n",
       "      <td>0.0833333</td>\n",
       "      <td>0.553333</td>\n",
       "      <td>0.777778</td>\n",
       "      <td>0.192245</td>\n",
       "      <td>1e+07</td>\n",
       "      <td>10</td>\n",
       "      <td>rbf</td>\n",
       "      <td>NaN</td>\n",
       "    </tr>\n",
       "    <tr>\n",
       "      <th>71</th>\n",
       "      <td>SVC</td>\n",
       "      <td>0.0833333</td>\n",
       "      <td>0.553333</td>\n",
       "      <td>0.777778</td>\n",
       "      <td>0.192245</td>\n",
       "      <td>10000</td>\n",
       "      <td>10</td>\n",
       "      <td>rbf</td>\n",
       "      <td>NaN</td>\n",
       "    </tr>\n",
       "    <tr>\n",
       "      <th>44</th>\n",
       "      <td>SVC</td>\n",
       "      <td>0.0833333</td>\n",
       "      <td>0.553333</td>\n",
       "      <td>0.777778</td>\n",
       "      <td>0.192245</td>\n",
       "      <td>10</td>\n",
       "      <td>10</td>\n",
       "      <td>rbf</td>\n",
       "      <td>NaN</td>\n",
       "    </tr>\n",
       "    <tr>\n",
       "      <th>53</th>\n",
       "      <td>SVC</td>\n",
       "      <td>0.0833333</td>\n",
       "      <td>0.553333</td>\n",
       "      <td>0.777778</td>\n",
       "      <td>0.192245</td>\n",
       "      <td>100</td>\n",
       "      <td>10</td>\n",
       "      <td>rbf</td>\n",
       "      <td>NaN</td>\n",
       "    </tr>\n",
       "    <tr>\n",
       "      <th>62</th>\n",
       "      <td>SVC</td>\n",
       "      <td>0.0833333</td>\n",
       "      <td>0.553333</td>\n",
       "      <td>0.777778</td>\n",
       "      <td>0.192245</td>\n",
       "      <td>1000</td>\n",
       "      <td>10</td>\n",
       "      <td>rbf</td>\n",
       "      <td>NaN</td>\n",
       "    </tr>\n",
       "    <tr>\n",
       "      <th>26</th>\n",
       "      <td>SVC</td>\n",
       "      <td>0.0833333</td>\n",
       "      <td>0.511667</td>\n",
       "      <td>0.777778</td>\n",
       "      <td>0.178962</td>\n",
       "      <td>0.1</td>\n",
       "      <td>10</td>\n",
       "      <td>rbf</td>\n",
       "      <td>NaN</td>\n",
       "    </tr>\n",
       "    <tr>\n",
       "      <th>18</th>\n",
       "      <td>SVC</td>\n",
       "      <td>0.2</td>\n",
       "      <td>0.400556</td>\n",
       "      <td>0.444444</td>\n",
       "      <td>0.0677436</td>\n",
       "      <td>0.1</td>\n",
       "      <td>1e-07</td>\n",
       "      <td>rbf</td>\n",
       "      <td>NaN</td>\n",
       "    </tr>\n",
       "    <tr>\n",
       "      <th>19</th>\n",
       "      <td>SVC</td>\n",
       "      <td>0.2</td>\n",
       "      <td>0.400556</td>\n",
       "      <td>0.444444</td>\n",
       "      <td>0.0677436</td>\n",
       "      <td>0.1</td>\n",
       "      <td>1e-06</td>\n",
       "      <td>rbf</td>\n",
       "      <td>NaN</td>\n",
       "    </tr>\n",
       "    <tr>\n",
       "      <th>20</th>\n",
       "      <td>SVC</td>\n",
       "      <td>0.2</td>\n",
       "      <td>0.400556</td>\n",
       "      <td>0.444444</td>\n",
       "      <td>0.0677436</td>\n",
       "      <td>0.1</td>\n",
       "      <td>1e-05</td>\n",
       "      <td>rbf</td>\n",
       "      <td>NaN</td>\n",
       "    </tr>\n",
       "    <tr>\n",
       "      <th>21</th>\n",
       "      <td>SVC</td>\n",
       "      <td>0.2</td>\n",
       "      <td>0.400556</td>\n",
       "      <td>0.444444</td>\n",
       "      <td>0.0677436</td>\n",
       "      <td>0.1</td>\n",
       "      <td>0.0001</td>\n",
       "      <td>rbf</td>\n",
       "      <td>NaN</td>\n",
       "    </tr>\n",
       "    <tr>\n",
       "      <th>22</th>\n",
       "      <td>SVC</td>\n",
       "      <td>0.2</td>\n",
       "      <td>0.400556</td>\n",
       "      <td>0.444444</td>\n",
       "      <td>0.0677436</td>\n",
       "      <td>0.1</td>\n",
       "      <td>0.001</td>\n",
       "      <td>rbf</td>\n",
       "      <td>NaN</td>\n",
       "    </tr>\n",
       "    <tr>\n",
       "      <th>23</th>\n",
       "      <td>SVC</td>\n",
       "      <td>0.2</td>\n",
       "      <td>0.400556</td>\n",
       "      <td>0.444444</td>\n",
       "      <td>0.0677436</td>\n",
       "      <td>0.1</td>\n",
       "      <td>0.01</td>\n",
       "      <td>rbf</td>\n",
       "      <td>NaN</td>\n",
       "    </tr>\n",
       "    <tr>\n",
       "      <th>55</th>\n",
       "      <td>SVC</td>\n",
       "      <td>0.333333</td>\n",
       "      <td>0.398333</td>\n",
       "      <td>0.416667</td>\n",
       "      <td>0.0328718</td>\n",
       "      <td>1000</td>\n",
       "      <td>1e-06</td>\n",
       "      <td>rbf</td>\n",
       "      <td>NaN</td>\n",
       "    </tr>\n",
       "    <tr>\n",
       "      <th>54</th>\n",
       "      <td>SVC</td>\n",
       "      <td>0.333333</td>\n",
       "      <td>0.398333</td>\n",
       "      <td>0.416667</td>\n",
       "      <td>0.0328718</td>\n",
       "      <td>1000</td>\n",
       "      <td>1e-07</td>\n",
       "      <td>rbf</td>\n",
       "      <td>NaN</td>\n",
       "    </tr>\n",
       "    <tr>\n",
       "      <th>36</th>\n",
       "      <td>SVC</td>\n",
       "      <td>0.2</td>\n",
       "      <td>0.386667</td>\n",
       "      <td>0.777778</td>\n",
       "      <td>0.153703</td>\n",
       "      <td>10</td>\n",
       "      <td>1e-07</td>\n",
       "      <td>rbf</td>\n",
       "      <td>NaN</td>\n",
       "    </tr>\n",
       "    <tr>\n",
       "      <th>39</th>\n",
       "      <td>SVC</td>\n",
       "      <td>0.2</td>\n",
       "      <td>0.386667</td>\n",
       "      <td>0.777778</td>\n",
       "      <td>0.153703</td>\n",
       "      <td>10</td>\n",
       "      <td>0.0001</td>\n",
       "      <td>rbf</td>\n",
       "      <td>NaN</td>\n",
       "    </tr>\n",
       "    <tr>\n",
       "      <th>37</th>\n",
       "      <td>SVC</td>\n",
       "      <td>0.2</td>\n",
       "      <td>0.386667</td>\n",
       "      <td>0.777778</td>\n",
       "      <td>0.153703</td>\n",
       "      <td>10</td>\n",
       "      <td>1e-06</td>\n",
       "      <td>rbf</td>\n",
       "      <td>NaN</td>\n",
       "    </tr>\n",
       "    <tr>\n",
       "      <th>38</th>\n",
       "      <td>SVC</td>\n",
       "      <td>0.2</td>\n",
       "      <td>0.386667</td>\n",
       "      <td>0.777778</td>\n",
       "      <td>0.153703</td>\n",
       "      <td>10</td>\n",
       "      <td>1e-05</td>\n",
       "      <td>rbf</td>\n",
       "      <td>NaN</td>\n",
       "    </tr>\n",
       "    <tr>\n",
       "      <th>47</th>\n",
       "      <td>SVC</td>\n",
       "      <td>0.222222</td>\n",
       "      <td>0.376111</td>\n",
       "      <td>0.416667</td>\n",
       "      <td>0.0771022</td>\n",
       "      <td>100</td>\n",
       "      <td>1e-05</td>\n",
       "      <td>rbf</td>\n",
       "      <td>NaN</td>\n",
       "    </tr>\n",
       "    <tr>\n",
       "      <th>46</th>\n",
       "      <td>SVC</td>\n",
       "      <td>0.222222</td>\n",
       "      <td>0.376111</td>\n",
       "      <td>0.416667</td>\n",
       "      <td>0.0771022</td>\n",
       "      <td>100</td>\n",
       "      <td>1e-06</td>\n",
       "      <td>rbf</td>\n",
       "      <td>NaN</td>\n",
       "    </tr>\n",
       "    <tr>\n",
       "      <th>45</th>\n",
       "      <td>SVC</td>\n",
       "      <td>0.222222</td>\n",
       "      <td>0.376111</td>\n",
       "      <td>0.416667</td>\n",
       "      <td>0.0771022</td>\n",
       "      <td>100</td>\n",
       "      <td>1e-07</td>\n",
       "      <td>rbf</td>\n",
       "      <td>NaN</td>\n",
       "    </tr>\n",
       "    <tr>\n",
       "      <th>63</th>\n",
       "      <td>SVC</td>\n",
       "      <td>0.2</td>\n",
       "      <td>0.32</td>\n",
       "      <td>0.333333</td>\n",
       "      <td>0.04</td>\n",
       "      <td>10000</td>\n",
       "      <td>1e-07</td>\n",
       "      <td>rbf</td>\n",
       "      <td>NaN</td>\n",
       "    </tr>\n",
       "    <tr>\n",
       "      <th>27</th>\n",
       "      <td>SVC</td>\n",
       "      <td>0.2</td>\n",
       "      <td>0.297778</td>\n",
       "      <td>0.333333</td>\n",
       "      <td>0.0546142</td>\n",
       "      <td>1</td>\n",
       "      <td>1e-07</td>\n",
       "      <td>rbf</td>\n",
       "      <td>NaN</td>\n",
       "    </tr>\n",
       "    <tr>\n",
       "      <th>29</th>\n",
       "      <td>SVC</td>\n",
       "      <td>0.2</td>\n",
       "      <td>0.297778</td>\n",
       "      <td>0.333333</td>\n",
       "      <td>0.0546142</td>\n",
       "      <td>1</td>\n",
       "      <td>1e-05</td>\n",
       "      <td>rbf</td>\n",
       "      <td>NaN</td>\n",
       "    </tr>\n",
       "    <tr>\n",
       "      <th>30</th>\n",
       "      <td>SVC</td>\n",
       "      <td>0.2</td>\n",
       "      <td>0.297778</td>\n",
       "      <td>0.333333</td>\n",
       "      <td>0.0546142</td>\n",
       "      <td>1</td>\n",
       "      <td>0.0001</td>\n",
       "      <td>rbf</td>\n",
       "      <td>NaN</td>\n",
       "    </tr>\n",
       "    <tr>\n",
       "      <th>31</th>\n",
       "      <td>SVC</td>\n",
       "      <td>0.2</td>\n",
       "      <td>0.297778</td>\n",
       "      <td>0.333333</td>\n",
       "      <td>0.0546142</td>\n",
       "      <td>1</td>\n",
       "      <td>0.001</td>\n",
       "      <td>rbf</td>\n",
       "      <td>NaN</td>\n",
       "    </tr>\n",
       "    <tr>\n",
       "      <th>28</th>\n",
       "      <td>SVC</td>\n",
       "      <td>0.2</td>\n",
       "      <td>0.297778</td>\n",
       "      <td>0.333333</td>\n",
       "      <td>0.0546142</td>\n",
       "      <td>1</td>\n",
       "      <td>1e-06</td>\n",
       "      <td>rbf</td>\n",
       "      <td>NaN</td>\n",
       "    </tr>\n",
       "  </tbody>\n",
       "</table>\n",
       "<p>99 rows × 9 columns</p>\n",
       "</div>"
      ],
      "text/plain": [
       "       estimator  min_score mean_score max_score  std_score       C   gamma  \\\n",
       "6   RandomForest   0.416667   0.736667  0.916667     0.1506     NaN     NaN   \n",
       "8   RandomForest   0.416667   0.728333  0.916667   0.142496     NaN     NaN   \n",
       "3   RandomForest   0.416667   0.728333  0.916667   0.147289     NaN     NaN   \n",
       "0   RandomForest   0.416667       0.72  0.916667   0.138493     NaN     NaN   \n",
       "7   RandomForest   0.416667       0.72  0.833333   0.133384     NaN     NaN   \n",
       "10           SVC   0.416667      0.715  0.916667   0.151455       1     NaN   \n",
       "42           SVC   0.416667   0.713333  0.916667   0.151336      10     0.1   \n",
       "17           SVC   0.333333   0.711667         1   0.189663   1e+07     NaN   \n",
       "76           SVC   0.416667   0.711667         1   0.166249  100000   0.001   \n",
       "5   RandomForest   0.416667   0.711667  0.916667   0.133852     NaN     NaN   \n",
       "12           SVC   0.416667      0.705  0.916667   0.151381     100     NaN   \n",
       "13           SVC   0.416667      0.705  0.916667   0.151381    1000     NaN   \n",
       "14           SVC   0.416667      0.705  0.916667   0.151381   10000     NaN   \n",
       "91           SVC   0.416667      0.705  0.916667   0.151381   1e+07   1e-06   \n",
       "93           SVC   0.416667   0.703333  0.916667    0.15316   1e+07  0.0001   \n",
       "95           SVC   0.333333   0.703333         1   0.182154   1e+07    0.01   \n",
       "86           SVC   0.333333   0.703333         1   0.182154   1e+06    0.01   \n",
       "68           SVC   0.333333   0.703333         1   0.182154   10000    0.01   \n",
       "92           SVC   0.416667   0.703333  0.916667    0.15316   1e+07   1e-05   \n",
       "94           SVC   0.333333   0.703333         1   0.182154   1e+07   0.001   \n",
       "85           SVC   0.333333   0.703333         1   0.182154   1e+06   0.001   \n",
       "84           SVC   0.416667   0.703333  0.916667    0.15316   1e+06  0.0001   \n",
       "77           SVC   0.333333   0.703333         1   0.182154  100000    0.01   \n",
       "16           SVC   0.416667   0.703333  0.916667    0.15316   1e+06     NaN   \n",
       "2   RandomForest   0.333333   0.703333         1   0.200311     NaN     NaN   \n",
       "83           SVC   0.333333   0.696667  0.916667   0.168365   1e+06   1e-05   \n",
       "67           SVC   0.333333   0.696667  0.916667   0.168365   10000   0.001   \n",
       "50           SVC   0.416667   0.696667  0.916667   0.141469     100    0.01   \n",
       "4   RandomForest   0.333333      0.695  0.833333   0.143274     NaN     NaN   \n",
       "15           SVC   0.416667      0.695  0.916667   0.148042  100000     NaN   \n",
       "..           ...        ...        ...       ...        ...     ...     ...   \n",
       "35           SVC  0.0833333   0.554444  0.777778     0.1977       1      10   \n",
       "89           SVC  0.0833333   0.553333  0.777778   0.192245   1e+06      10   \n",
       "80           SVC  0.0833333   0.553333  0.777778   0.192245  100000      10   \n",
       "98           SVC  0.0833333   0.553333  0.777778   0.192245   1e+07      10   \n",
       "71           SVC  0.0833333   0.553333  0.777778   0.192245   10000      10   \n",
       "44           SVC  0.0833333   0.553333  0.777778   0.192245      10      10   \n",
       "53           SVC  0.0833333   0.553333  0.777778   0.192245     100      10   \n",
       "62           SVC  0.0833333   0.553333  0.777778   0.192245    1000      10   \n",
       "26           SVC  0.0833333   0.511667  0.777778   0.178962     0.1      10   \n",
       "18           SVC        0.2   0.400556  0.444444  0.0677436     0.1   1e-07   \n",
       "19           SVC        0.2   0.400556  0.444444  0.0677436     0.1   1e-06   \n",
       "20           SVC        0.2   0.400556  0.444444  0.0677436     0.1   1e-05   \n",
       "21           SVC        0.2   0.400556  0.444444  0.0677436     0.1  0.0001   \n",
       "22           SVC        0.2   0.400556  0.444444  0.0677436     0.1   0.001   \n",
       "23           SVC        0.2   0.400556  0.444444  0.0677436     0.1    0.01   \n",
       "55           SVC   0.333333   0.398333  0.416667  0.0328718    1000   1e-06   \n",
       "54           SVC   0.333333   0.398333  0.416667  0.0328718    1000   1e-07   \n",
       "36           SVC        0.2   0.386667  0.777778   0.153703      10   1e-07   \n",
       "39           SVC        0.2   0.386667  0.777778   0.153703      10  0.0001   \n",
       "37           SVC        0.2   0.386667  0.777778   0.153703      10   1e-06   \n",
       "38           SVC        0.2   0.386667  0.777778   0.153703      10   1e-05   \n",
       "47           SVC   0.222222   0.376111  0.416667  0.0771022     100   1e-05   \n",
       "46           SVC   0.222222   0.376111  0.416667  0.0771022     100   1e-06   \n",
       "45           SVC   0.222222   0.376111  0.416667  0.0771022     100   1e-07   \n",
       "63           SVC        0.2       0.32  0.333333       0.04   10000   1e-07   \n",
       "27           SVC        0.2   0.297778  0.333333  0.0546142       1   1e-07   \n",
       "29           SVC        0.2   0.297778  0.333333  0.0546142       1   1e-05   \n",
       "30           SVC        0.2   0.297778  0.333333  0.0546142       1  0.0001   \n",
       "31           SVC        0.2   0.297778  0.333333  0.0546142       1   0.001   \n",
       "28           SVC        0.2   0.297778  0.333333  0.0546142       1   1e-06   \n",
       "\n",
       "    kernel n_estimators  \n",
       "6      NaN           20  \n",
       "8      NaN           24  \n",
       "3      NaN           14  \n",
       "0      NaN            8  \n",
       "7      NaN           22  \n",
       "10  linear          NaN  \n",
       "42     rbf          NaN  \n",
       "17  linear          NaN  \n",
       "76     rbf          NaN  \n",
       "5      NaN           18  \n",
       "12  linear          NaN  \n",
       "13  linear          NaN  \n",
       "14  linear          NaN  \n",
       "91     rbf          NaN  \n",
       "93     rbf          NaN  \n",
       "95     rbf          NaN  \n",
       "86     rbf          NaN  \n",
       "68     rbf          NaN  \n",
       "92     rbf          NaN  \n",
       "94     rbf          NaN  \n",
       "85     rbf          NaN  \n",
       "84     rbf          NaN  \n",
       "77     rbf          NaN  \n",
       "16  linear          NaN  \n",
       "2      NaN           12  \n",
       "83     rbf          NaN  \n",
       "67     rbf          NaN  \n",
       "50     rbf          NaN  \n",
       "4      NaN           16  \n",
       "15  linear          NaN  \n",
       "..     ...          ...  \n",
       "35     rbf          NaN  \n",
       "89     rbf          NaN  \n",
       "80     rbf          NaN  \n",
       "98     rbf          NaN  \n",
       "71     rbf          NaN  \n",
       "44     rbf          NaN  \n",
       "53     rbf          NaN  \n",
       "62     rbf          NaN  \n",
       "26     rbf          NaN  \n",
       "18     rbf          NaN  \n",
       "19     rbf          NaN  \n",
       "20     rbf          NaN  \n",
       "21     rbf          NaN  \n",
       "22     rbf          NaN  \n",
       "23     rbf          NaN  \n",
       "55     rbf          NaN  \n",
       "54     rbf          NaN  \n",
       "36     rbf          NaN  \n",
       "39     rbf          NaN  \n",
       "37     rbf          NaN  \n",
       "38     rbf          NaN  \n",
       "47     rbf          NaN  \n",
       "46     rbf          NaN  \n",
       "45     rbf          NaN  \n",
       "63     rbf          NaN  \n",
       "27     rbf          NaN  \n",
       "29     rbf          NaN  \n",
       "30     rbf          NaN  \n",
       "31     rbf          NaN  \n",
       "28     rbf          NaN  \n",
       "\n",
       "[99 rows x 9 columns]"
      ]
     },
     "metadata": {},
     "output_type": "display_data"
    }
   ],
   "source": [
    "# Scale the data first (i.e., chemical properties) from 0 to 1\n",
    "from sklearn.preprocessing import MinMaxScaler\n",
    "scaler = MinMaxScaler()\n",
    "X_enm_scaled = scaler.fit_transform(X_enm)\n",
    "\n",
    "# Fit gridsearch models to select best estimator\n",
    "helper = blt.EstimatorSelectionHelper(models, params)\n",
    "helper.fit(X_enm_scaled, bin_enm, n_jobs=3)\n",
    "\n",
    "# Compare performance for estimators (accuracy)\n",
    "display(helper.score_summary(sort_by='mean_score'))"
   ]
  },
  {
   "cell_type": "markdown",
   "metadata": {},
   "source": [
    "## Model functions"
   ]
  },
  {
   "cell_type": "markdown",
   "metadata": {},
   "source": [
    "The main prediction model function, <b>blt.model_opt_exe</b>, optimizes, executes and evaluates a classifier using stratified CV. It has the option to augment the training data within the pipeline. It is defined in an external file called at the beginning of this script.\n",
    "\n",
    "The first part of the <b>blt.model_opt_exe</b> function runs a pipeline that normalizes features on a 0 to 1 scale then performs data augmentation and runs a classifer (SVC-RBF or RFC) using leave-one-out cross validation. Model parameters are optimized using a custom parameter grid search, with the optional aid of plots to visualize accuracy over the grid.\n",
    "\n",
    "The final pipeline (trained using augmented data) is tested on the original ENM data using stratified cross-validation with n_folds = n_samples in the smallest WF bin--essentially leave-one-out CV (discussed earlier). A confusion matrix summarizes accuracy results according to each WF bin (\"class\"). The average normalized accuracy across all bins is then calculated from the confusion matrix and written to a results table for every data set."
   ]
  },
  {
   "cell_type": "markdown",
   "metadata": {},
   "source": [
    "# SVC Models"
   ]
  },
  {
   "cell_type": "markdown",
   "metadata": {},
   "source": [
    "## ENM-only"
   ]
  },
  {
   "cell_type": "markdown",
   "metadata": {},
   "source": [
    "### Baseline model"
   ]
  },
  {
   "cell_type": "markdown",
   "metadata": {},
   "source": [
    "Run model_opt_exe on clustered ENM-only data"
   ]
  },
  {
   "cell_type": "code",
   "execution_count": 25,
   "metadata": {
    "ExecuteTime": {
     "end_time": "2019-09-26T09:07:02.699021Z",
     "start_time": "2019-09-26T09:06:56.373142Z"
    }
   },
   "outputs": [
    {
     "data": {
      "image/png": "[encoded data removed]",
      "text/plain": [
       "<Figure size 432x288 with 2 Axes>"
      ]
     },
     "metadata": {
      "needs_background": "light"
     },
     "output_type": "display_data"
    },
    {
     "name": "stdout",
     "output_type": "stream",
     "text": [
      "Random state:\t 42\n",
      "Best parameters: {'C': 10.0, 'gamma': 0.1}\n",
      "Max opt. balanced accuracy: 0.716\n",
      "Avg. balanced accuracy:     0.724\n",
      "Normalized Confusion Matrix\n",
      "[[0.83 0.12 0.04]\n",
      " [0.37 0.56 0.07]\n",
      " [0.08 0.14 0.78]]\n"
     ]
    },
    {
     "data": {
      "text/html": [
       "\n",
       "                <audio controls=\"controls\" autoplay=\"autoplay\">\n",
       "                    <source src=\"./data/ping.wav\" type=\"audio/x-wav\" />\n",
       "                    Your browser does not support the audio element.\n",
       "                </audio>\n",
       "              "
      ],
      "text/plain": [
       "<IPython.lib.display.Audio object>"
      ]
     },
     "metadata": {},
     "output_type": "display_data"
    },
    {
     "data": {
      "image/png": "[encoded data removed]",
      "text/plain": [
       "<Figure size 432x288 with 2 Axes>"
      ]
     },
     "metadata": {
      "needs_background": "light"
     },
     "output_type": "display_data"
    }
   ],
   "source": [
    "# Single trial SVC-RBF, balanced accuracy\n",
    "param_grid = {'estimator__C': np.logspace(-1,7,9), \n",
    "              'estimator__gamma': np.logspace(-7,1,9)\n",
    "             }\n",
    "results_svc.loc[results_svc['ENM-Organics-Ratio']=='1:0','Avg-Random-Augment']\\\n",
    "    = blt.model_opt_exe(classifier='svc', \n",
    "                        aug_type='none', \n",
    "                        k=0, \n",
    "                        feat_data=X_enm, \n",
    "                        bin_data=bin_enm, \n",
    "                        seed=42, \n",
    "                        save_fig_name='enm-only', \n",
    "                        show_opt_plot=True, \n",
    "                        show_feat_impt=False, \n",
    "                        show_cnf_matrix=True, \n",
    "                        use_balanced_accu=True, # Balanced accuracy\n",
    "                        param_grid=param_grid)"
   ]
  },
  {
   "cell_type": "code",
   "execution_count": 26,
   "metadata": {
    "ExecuteTime": {
     "end_time": "2019-09-26T09:17:19.814390Z",
     "start_time": "2019-09-26T09:07:25.696165Z"
    }
   },
   "outputs": [
    {
     "name": "stdout",
     "output_type": "stream",
     "text": [
      "Avg accuracy:     0.715\n",
      "Median accuracy:  0.715\n",
      "StdDev accuracy:  0.011\n",
      "Numer of trials:  100\n",
      "Results:  [0.72, 0.71, 0.7, 0.72, 0.72, 0.74, 0.71, 0.71, 0.71, 0.72, 0.73, 0.71, 0.72, 0.73, 0.69, 0.72, 0.71, 0.7, 0.7, 0.72, 0.71, 0.73, 0.72, 0.7, 0.71, 0.73, 0.71, 0.72, 0.68, 0.71, 0.71, 0.72, 0.71, 0.71, 0.71, 0.7, 0.72, 0.7, 0.72, 0.72, 0.72, 0.72, 0.7, 0.72, 0.72, 0.73, 0.71, 0.72, 0.72, 0.72, 0.7, 0.71, 0.7, 0.73, 0.74, 0.72, 0.71, 0.73, 0.69, 0.71, 0.72, 0.71, 0.7, 0.7, 0.72, 0.71, 0.71, 0.71, 0.7, 0.73, 0.71, 0.72, 0.72, 0.7, 0.74, 0.71, 0.71, 0.72, 0.73, 0.7, 0.73, 0.71, 0.72, 0.72, 0.7, 0.73, 0.73, 0.7, 0.72, 0.73, 0.72, 0.74, 0.72, 0.73, 0.74, 0.71, 0.72, 0.7, 0.72, 0.71]\n"
     ]
    },
    {
     "data": {
      "text/html": [
       "\n",
       "                <audio controls=\"controls\" autoplay=\"autoplay\">\n",
       "                    <source src=\"./data/ping.wav\" type=\"audio/x-wav\" />\n",
       "                    Your browser does not support the audio element.\n",
       "                </audio>\n",
       "              "
      ],
      "text/plain": [
       "<IPython.lib.display.Audio object>"
      ]
     },
     "metadata": {},
     "output_type": "display_data"
    }
   ],
   "source": [
    "# Multiple trials SVC-RBF, balanced accuracy\n",
    "model_params = {'classifier': 'svc', \n",
    "                'aug_type': 'none', \n",
    "                'k': 0, \n",
    "                'feat_data': X_enm, \n",
    "                'bin_data': bin_enm, \n",
    "                'use_balanced_accu': True, \n",
    "                'param_grid': {'estimator__C': np.logspace(-1,7,9), \n",
    "                               'estimator__gamma': np.logspace(-7,1,9)}\n",
    "               }\n",
    "results_svc.iloc[1,1:3] = blt.multi_trials(num_trials=100, \n",
    "                                           model_params=model_params, \n",
    "                                           print_results=True)"
   ]
  },
  {
   "cell_type": "code",
   "execution_count": 27,
   "metadata": {
    "ExecuteTime": {
     "end_time": "2019-09-26T09:18:09.339340Z",
     "start_time": "2019-09-26T09:18:09.327224Z"
    }
   },
   "outputs": [],
   "source": [
    "# Save balanced accuracy results for later evaluation\n",
    "base_distrib = [0.72, 0.71, 0.7, 0.72, 0.72, 0.74, 0.71, 0.71, 0.71, 0.72, \n",
    "                0.73, 0.71, 0.72, 0.73, 0.69, 0.72, 0.71, 0.7, 0.7, 0.72, \n",
    "                0.71, 0.73, 0.72, 0.7, 0.71, 0.73, 0.71, 0.72, 0.68, 0.71, \n",
    "                0.71, 0.72, 0.71, 0.71, 0.71, 0.7, 0.72, 0.7, 0.72, 0.72, \n",
    "                0.72, 0.72, 0.7, 0.72, 0.72, 0.73, 0.71, 0.72, 0.72, 0.72, \n",
    "                0.7, 0.71, 0.7, 0.73, 0.74, 0.72, 0.71, 0.73, 0.69, 0.71, \n",
    "                0.72, 0.71, 0.7, 0.7, 0.72, 0.71, 0.71, 0.71, 0.7, 0.73, \n",
    "                0.71, 0.72, 0.72, 0.7, 0.74, 0.71, 0.71, 0.72, 0.73, 0.7, \n",
    "                0.73, 0.71, 0.72, 0.72, 0.7, 0.73, 0.73, 0.7, 0.72, 0.73, \n",
    "                0.72, 0.74, 0.72, 0.73, 0.74, 0.71, 0.72, 0.7, 0.72, 0.71]"
   ]
  },
  {
   "cell_type": "code",
   "execution_count": 16,
   "metadata": {
    "ExecuteTime": {
     "end_time": "2019-07-23T05:31:05.211712Z",
     "start_time": "2019-07-23T05:28:30.208883Z"
    }
   },
   "outputs": [
    {
     "name": "stdout",
     "output_type": "stream",
     "text": [
      "Avg accuracy:     0.5725199083464803\n",
      "Median accuracy:  0.5703365637442718\n",
      "StdDev accuracy:  0.01658485571158988\n",
      "Numer of trials:  100\n"
     ]
    },
    {
     "data": {
      "text/html": [
       "\n",
       "                <audio controls=\"controls\" autoplay=\"autoplay\">\n",
       "                    <source src=\"./data/ping.wav\" type=\"audio/x-wav\" />\n",
       "                    Your browser does not support the audio element.\n",
       "                </audio>\n",
       "              "
      ],
      "text/plain": [
       "<IPython.lib.display.Audio object>"
      ]
     },
     "metadata": {},
     "output_type": "display_data"
    },
    {
     "data": {
      "text/plain": [
       "(0.5725199083464803, 0.01658485571158988)"
      ]
     },
     "execution_count": 16,
     "metadata": {},
     "output_type": "execute_result"
    }
   ],
   "source": [
    "# Multiple trials SVC-RBF, normal accuracy\n",
    "model_params = {'classifier': 'svc', \n",
    "                'aug_type': 'none', \n",
    "                'k': 0, \n",
    "                'feat_data': X_enm, \n",
    "                'bin_data': bin_enm, \n",
    "                'use_balanced_accu': False, \n",
    "                'param_grid': {'estimator__C': np.logspace(-1,7,9), \n",
    "                               'estimator__gamma': np.logspace(-7,1,9)}\n",
    "               }\n",
    "blt.multi_trials(num_trials=100, model_params=model_params)"
   ]
  },
  {
   "cell_type": "markdown",
   "metadata": {},
   "source": [
    "Balanced accuracy performed negligibly better, but makes more sense to use given the imbalance of data between WF bins. Therefore, it will be used throughout."
   ]
  },
  {
   "cell_type": "markdown",
   "metadata": {},
   "source": [
    "### PCA feature data"
   ]
  },
  {
   "cell_type": "code",
   "execution_count": 44,
   "metadata": {
    "ExecuteTime": {
     "end_time": "2019-07-23T07:09:51.510249Z",
     "start_time": "2019-07-23T07:09:49.287899Z"
    }
   },
   "outputs": [
    {
     "data": {
      "image/png": "[encoded data removed]",
      "text/plain": [
       "<Figure size 432x288 with 2 Axes>"
      ]
     },
     "metadata": {
      "needs_background": "light"
     },
     "output_type": "display_data"
    },
    {
     "name": "stdout",
     "output_type": "stream",
     "text": [
      "Random state:\t 69\n",
      "Best parameters: {'C': 10000.0, 'gamma': 1e-05}\n",
      "Max opt. balanced accuracy: 0.575\n",
      "Avg. balanced accuracy:     0.566\n",
      "Normalized Confusion Matrix\n",
      "[[0.92 0.   0.08]\n",
      " [0.52 0.31 0.17]\n",
      " [0.47 0.06 0.47]]\n"
     ]
    },
    {
     "data": {
      "text/html": [
       "\n",
       "                <audio controls=\"controls\" autoplay=\"autoplay\">\n",
       "                    <source src=\"./data/ping.wav\" type=\"audio/x-wav\" />\n",
       "                    Your browser does not support the audio element.\n",
       "                </audio>\n",
       "              "
      ],
      "text/plain": [
       "<IPython.lib.display.Audio object>"
      ]
     },
     "metadata": {},
     "output_type": "display_data"
    },
    {
     "data": {
      "text/plain": [
       "0.5658665765156637"
      ]
     },
     "execution_count": 44,
     "metadata": {},
     "output_type": "execute_result"
    },
    {
     "data": {
      "image/png": "[encoded data removed]",
      "text/plain": [
       "<Figure size 432x288 with 2 Axes>"
      ]
     },
     "metadata": {
      "needs_background": "light"
     },
     "output_type": "display_data"
    }
   ],
   "source": [
    "# Compare with PCA features, single trial\n",
    "blt.model_opt_exe(classifier='svc', \n",
    "                  aug_type='none', \n",
    "                  k=0, \n",
    "                  feat_data=PCA_enm, \n",
    "                  bin_data=bin_enm, \n",
    "                  seed=69, \n",
    "                  save_fig_name='enm-only-PCA', \n",
    "                  show_opt_plot=True, \n",
    "                  show_cnf_matrix=True, \n",
    "                  param_grid=param_grid)"
   ]
  },
  {
   "cell_type": "code",
   "execution_count": 21,
   "metadata": {
    "ExecuteTime": {
     "end_time": "2019-07-23T05:56:47.970551Z",
     "start_time": "2019-07-23T05:53:34.735416Z"
    }
   },
   "outputs": [
    {
     "name": "stdout",
     "output_type": "stream",
     "text": [
      "Avg accuracy:     0.5672391255352714\n",
      "Median accuracy:  0.5686462324393358\n",
      "StdDev accuracy:  0.02094355472148609\n",
      "Numer of trials:  100\n"
     ]
    },
    {
     "data": {
      "text/html": [
       "\n",
       "                <audio controls=\"controls\" autoplay=\"autoplay\">\n",
       "                    <source src=\"./data/ping.wav\" type=\"audio/x-wav\" />\n",
       "                    Your browser does not support the audio element.\n",
       "                </audio>\n",
       "              "
      ],
      "text/plain": [
       "<IPython.lib.display.Audio object>"
      ]
     },
     "metadata": {},
     "output_type": "display_data"
    },
    {
     "data": {
      "text/plain": [
       "(0.5672391255352714, 0.02094355472148609)"
      ]
     },
     "execution_count": 21,
     "metadata": {},
     "output_type": "execute_result"
    }
   ],
   "source": [
    "# Compare with PCA features, multiple trials\n",
    "model_params = {'classifier': 'svc', \n",
    "                'aug_type': 'none', \n",
    "                'k': 0, \n",
    "                'feat_data': PCA_enm, \n",
    "                'bin_data': bin_enm, \n",
    "                'use_balanced_accu': True, \n",
    "                'param_grid': {'estimator__C': np.logspace(-1,7,9), \n",
    "                               'estimator__gamma': np.logspace(-7,1,9)}\n",
    "               }\n",
    "blt.multi_trials(num_trials=100, model_params=model_params)"
   ]
  },
  {
   "cell_type": "markdown",
   "metadata": {},
   "source": [
    "TODO: Update.\n",
    "The model trained on clustered ENM-only data performs better than the PCA ENM-only data. However, the opposite is seen with a more refined parameter space (below). Regardless, the clustered data was selected to test the remaining models due to its interpretability, and the preference of using a parameter space with fewer points in order to minimize computation time."
   ]
  },
  {
   "cell_type": "code",
   "execution_count": 48,
   "metadata": {
    "ExecuteTime": {
     "end_time": "2019-07-23T07:20:11.579680Z",
     "start_time": "2019-07-23T07:20:04.821312Z"
    }
   },
   "outputs": [
    {
     "data": {
      "image/png": "[encoded data removed]",
      "text/plain": [
       "<Figure size 432x288 with 2 Axes>"
      ]
     },
     "metadata": {
      "needs_background": "light"
     },
     "output_type": "display_data"
    },
    {
     "name": "stdout",
     "output_type": "stream",
     "text": [
      "Random state:\t 69\n",
      "Best parameters: {'C': 1.0, 'gamma': 0.1}\n",
      "Max opt. balanced accuracy: 0.592\n",
      "Avg. balanced accuracy:     0.582\n",
      "Normalized Confusion Matrix\n",
      "[[0.86 0.03 0.11]\n",
      " [0.45 0.41 0.14]\n",
      " [0.29 0.24 0.47]]\n"
     ]
    },
    {
     "data": {
      "text/html": [
       "\n",
       "                <audio controls=\"controls\" autoplay=\"autoplay\">\n",
       "                    <source src=\"./data/ping.wav\" type=\"audio/x-wav\" />\n",
       "                    Your browser does not support the audio element.\n",
       "                </audio>\n",
       "              "
      ],
      "text/plain": [
       "<IPython.lib.display.Audio object>"
      ]
     },
     "metadata": {},
     "output_type": "display_data"
    },
    {
     "data": {
      "text/plain": [
       "0.5818308166178349"
      ]
     },
     "execution_count": 48,
     "metadata": {},
     "output_type": "execute_result"
    },
    {
     "data": {
      "image/png": "[encoded data removed]",
      "text/plain": [
       "<Figure size 432x288 with 2 Axes>"
      ]
     },
     "metadata": {
      "needs_background": "light"
     },
     "output_type": "display_data"
    }
   ],
   "source": [
    "# Clustered ENM-only data using larger parameter space\n",
    "param_grid = {'estimator__C': np.logspace(-1,7,17), \n",
    "              'estimator__gamma': np.logspace(-7,1,17)\n",
    "             }\n",
    "blt.model_opt_exe(classifier='svc', \n",
    "                  aug_type='none', \n",
    "                  k=0, \n",
    "                  feat_data=X_enm, \n",
    "                  seed=69, \n",
    "                  show_opt_plot=True, \n",
    "                  show_cnf_matrix=False, \n",
    "                  param_grid=param_grid)"
   ]
  },
  {
   "cell_type": "code",
   "execution_count": null,
   "metadata": {},
   "outputs": [],
   "source": [
    "# PCA ENM-only feature data using larger parameter space\n",
    "param_grid = {'estimator__C': np.logspace(-1,7,17), \n",
    "              'estimator__gamma': np.logspace(-7,1,17)\n",
    "             }\n",
    "blt.model_opt_exe(classifier='svc', \n",
    "                  aug_type='none', \n",
    "                  k=0, \n",
    "                  feat_data=PCA_enm, \n",
    "                  seed=69, \n",
    "                  show_opt_plot=True, \n",
    "                  show_cnf_matrix=False, \n",
    "                  param_grid=param_grid)"
   ]
  },
  {
   "cell_type": "code",
   "execution_count": null,
   "metadata": {},
   "outputs": [],
   "source": [
    "# Multiple trials PCA ENM-only feature data using larger parameter space\n",
    "model_params = {'classifier': 'svc', \n",
    "                'aug_type': 'none', \n",
    "                'k': 0, \n",
    "                'feat_data': PCA_enm, \n",
    "                'bin_data': bin_enm, \n",
    "                'use_balanced_accu': True, \n",
    "                'param_grid': {'estimator__C': np.logspace(-1,7,17), \n",
    "                               'estimator__gamma': np.logspace(-7,1,17)}\n",
    "               }\n",
    "blt.multi_trials(num_trials=30, model_params=model_params)"
   ]
  },
  {
   "cell_type": "markdown",
   "metadata": {},
   "source": [
    "### Permutation test"
   ]
  },
  {
   "cell_type": "markdown",
   "metadata": {},
   "source": [
    "The following tests are performed with randomly permuted labels (ENM data only)."
   ]
  },
  {
   "cell_type": "code",
   "execution_count": 31,
   "metadata": {
    "ExecuteTime": {
     "end_time": "2019-09-26T09:27:41.847227Z",
     "start_time": "2019-09-26T09:27:41.841049Z"
    }
   },
   "outputs": [],
   "source": [
    "# TODO: Decorator allows selective application of completion \"pings\"\n",
    "notify_on_complete = blt.CompletionNotifier(blt.ping_notify)"
   ]
  },
  {
   "cell_type": "code",
   "execution_count": 35,
   "metadata": {
    "ExecuteTime": {
     "end_time": "2019-09-26T09:29:43.107662Z",
     "start_time": "2019-09-26T09:29:43.100693Z"
    }
   },
   "outputs": [],
   "source": [
    "@notify_on_complete\n",
    "def perm_test(num_trials, model_params):\n",
    "    seed_set = np.random.choice(np.arange(0,100), \n",
    "                                size=num_trials, replace=False)\n",
    "    results_permute = np.empty(seed_set.size)\n",
    "    for idx, s in enumerate(seed_set):\n",
    "        with blt.HiddenPrints():\n",
    "            bin_enm_permute = np.random.RandomState(seed=s).permutation(bin_enm)\n",
    "            results_permute[idx] = blt.model_opt_exe(classifier='svc', \n",
    "                                                     aug_type='none', \n",
    "                                                     k=0, \n",
    "                                                     feat_data=X_enm, \n",
    "                                                     bin_data=bin_enm_permute,\n",
    "                                                     param_grid=param_grid);\n",
    "    mu_permute = results_permute.mean()\n",
    "    sigma_permute = results_permute.std()\n",
    "    print(\"Avg accuracy:    \", mu_permute)\n",
    "    print(\"Median accuracy: \", np.median(results_permute))\n",
    "    print(\"StdDev accuracy: \", sigma_permute)\n",
    "    print(\"Numer of trials: \", num_trials)\n",
    "    print(\"Results: \", results_permute)\n",
    "    return mu_permute, sigma_permute"
   ]
  },
  {
   "cell_type": "code",
   "execution_count": 36,
   "metadata": {
    "ExecuteTime": {
     "end_time": "2019-09-26T09:43:55.931737Z",
     "start_time": "2019-09-26T09:29:44.078843Z"
    }
   },
   "outputs": [
    {
     "data": {
      "text/html": [
       "\n",
       "                <audio controls=\"controls\" autoplay=\"autoplay\">\n",
       "                    <source src=\"./data/ping.wav\" type=\"audio/x-wav\" />\n",
       "                    Your browser does not support the audio element.\n",
       "                </audio>\n",
       "              "
      ],
      "text/plain": [
       "<IPython.lib.display.Audio object>"
      ]
     },
     "metadata": {},
     "output_type": "display_data"
    },
    {
     "data": {
      "text/html": [
       "\n",
       "                <audio controls=\"controls\" autoplay=\"autoplay\">\n",
       "                    <source src=\"./data/ping.wav\" type=\"audio/x-wav\" />\n",
       "                    Your browser does not support the audio element.\n",
       "                </audio>\n",
       "              "
      ],
      "text/plain": [
       "<IPython.lib.display.Audio object>"
      ]
     },
     "metadata": {},
     "output_type": "display_data"
    },
    {
     "data": {
      "text/html": [
       "\n",
       "                <audio controls=\"controls\" autoplay=\"autoplay\">\n",
       "                    <source src=\"./data/ping.wav\" type=\"audio/x-wav\" />\n",
       "                    Your browser does not support the audio element.\n",
       "                </audio>\n",
       "              "
      ],
      "text/plain": [
       "<IPython.lib.display.Audio object>"
      ]
     },
     "metadata": {},
     "output_type": "display_data"
    },
    {
     "data": {
      "text/html": [
       "\n",
       "                <audio controls=\"controls\" autoplay=\"autoplay\">\n",
       "                    <source src=\"./data/ping.wav\" type=\"audio/x-wav\" />\n",
       "                    Your browser does not support the audio element.\n",
       "                </audio>\n",
       "              "
      ],
      "text/plain": [
       "<IPython.lib.display.Audio object>"
      ]
     },
     "metadata": {},
     "output_type": "display_data"
    },
    {
     "data": {
      "text/html": [
       "\n",
       "                <audio controls=\"controls\" autoplay=\"autoplay\">\n",
       "                    <source src=\"./data/ping.wav\" type=\"audio/x-wav\" />\n",
       "                    Your browser does not support the audio element.\n",
       "                </audio>\n",
       "              "
      ],
      "text/plain": [
       "<IPython.lib.display.Audio object>"
      ]
     },
     "metadata": {},
     "output_type": "display_data"
    },
    {
     "data": {
      "text/html": [
       "\n",
       "                <audio controls=\"controls\" autoplay=\"autoplay\">\n",
       "                    <source src=\"./data/ping.wav\" type=\"audio/x-wav\" />\n",
       "                    Your browser does not support the audio element.\n",
       "                </audio>\n",
       "              "
      ],
      "text/plain": [
       "<IPython.lib.display.Audio object>"
      ]
     },
     "metadata": {},
     "output_type": "display_data"
    },
    {
     "data": {
      "text/html": [
       "\n",
       "                <audio controls=\"controls\" autoplay=\"autoplay\">\n",
       "                    <source src=\"./data/ping.wav\" type=\"audio/x-wav\" />\n",
       "                    Your browser does not support the audio element.\n",
       "                </audio>\n",
       "              "
      ],
      "text/plain": [
       "<IPython.lib.display.Audio object>"
      ]
     },
     "metadata": {},
     "output_type": "display_data"
    },
    {
     "data": {
      "text/html": [
       "\n",
       "                <audio controls=\"controls\" autoplay=\"autoplay\">\n",
       "                    <source src=\"./data/ping.wav\" type=\"audio/x-wav\" />\n",
       "                    Your browser does not support the audio element.\n",
       "                </audio>\n",
       "              "
      ],
      "text/plain": [
       "<IPython.lib.display.Audio object>"
      ]
     },
     "metadata": {},
     "output_type": "display_data"
    },
    {
     "data": {
      "text/html": [
       "\n",
       "                <audio controls=\"controls\" autoplay=\"autoplay\">\n",
       "                    <source src=\"./data/ping.wav\" type=\"audio/x-wav\" />\n",
       "                    Your browser does not support the audio element.\n",
       "                </audio>\n",
       "              "
      ],
      "text/plain": [
       "<IPython.lib.display.Audio object>"
      ]
     },
     "metadata": {},
     "output_type": "display_data"
    },
    {
     "data": {
      "text/html": [
       "\n",
       "                <audio controls=\"controls\" autoplay=\"autoplay\">\n",
       "                    <source src=\"./data/ping.wav\" type=\"audio/x-wav\" />\n",
       "                    Your browser does not support the audio element.\n",
       "                </audio>\n",
       "              "
      ],
      "text/plain": [
       "<IPython.lib.display.Audio object>"
      ]
     },
     "metadata": {},
     "output_type": "display_data"
    },
    {
     "data": {
      "text/html": [
       "\n",
       "                <audio controls=\"controls\" autoplay=\"autoplay\">\n",
       "                    <source src=\"./data/ping.wav\" type=\"audio/x-wav\" />\n",
       "                    Your browser does not support the audio element.\n",
       "                </audio>\n",
       "              "
      ],
      "text/plain": [
       "<IPython.lib.display.Audio object>"
      ]
     },
     "metadata": {},
     "output_type": "display_data"
    },
    {
     "data": {
      "text/html": [
       "\n",
       "                <audio controls=\"controls\" autoplay=\"autoplay\">\n",
       "                    <source src=\"./data/ping.wav\" type=\"audio/x-wav\" />\n",
       "                    Your browser does not support the audio element.\n",
       "                </audio>\n",
       "              "
      ],
      "text/plain": [
       "<IPython.lib.display.Audio object>"
      ]
     },
     "metadata": {},
     "output_type": "display_data"
    },
    {
     "data": {
      "text/html": [
       "\n",
       "                <audio controls=\"controls\" autoplay=\"autoplay\">\n",
       "                    <source src=\"./data/ping.wav\" type=\"audio/x-wav\" />\n",
       "                    Your browser does not support the audio element.\n",
       "                </audio>\n",
       "              "
      ],
      "text/plain": [
       "<IPython.lib.display.Audio object>"
      ]
     },
     "metadata": {},
     "output_type": "display_data"
    },
    {
     "data": {
      "text/html": [
       "\n",
       "                <audio controls=\"controls\" autoplay=\"autoplay\">\n",
       "                    <source src=\"./data/ping.wav\" type=\"audio/x-wav\" />\n",
       "                    Your browser does not support the audio element.\n",
       "                </audio>\n",
       "              "
      ],
      "text/plain": [
       "<IPython.lib.display.Audio object>"
      ]
     },
     "metadata": {},
     "output_type": "display_data"
    },
    {
     "data": {
      "text/html": [
       "\n",
       "                <audio controls=\"controls\" autoplay=\"autoplay\">\n",
       "                    <source src=\"./data/ping.wav\" type=\"audio/x-wav\" />\n",
       "                    Your browser does not support the audio element.\n",
       "                </audio>\n",
       "              "
      ],
      "text/plain": [
       "<IPython.lib.display.Audio object>"
      ]
     },
     "metadata": {},
     "output_type": "display_data"
    },
    {
     "data": {
      "text/html": [
       "\n",
       "                <audio controls=\"controls\" autoplay=\"autoplay\">\n",
       "                    <source src=\"./data/ping.wav\" type=\"audio/x-wav\" />\n",
       "                    Your browser does not support the audio element.\n",
       "                </audio>\n",
       "              "
      ],
      "text/plain": [
       "<IPython.lib.display.Audio object>"
      ]
     },
     "metadata": {},
     "output_type": "display_data"
    },
    {
     "data": {
      "text/html": [
       "\n",
       "                <audio controls=\"controls\" autoplay=\"autoplay\">\n",
       "                    <source src=\"./data/ping.wav\" type=\"audio/x-wav\" />\n",
       "                    Your browser does not support the audio element.\n",
       "                </audio>\n",
       "              "
      ],
      "text/plain": [
       "<IPython.lib.display.Audio object>"
      ]
     },
     "metadata": {},
     "output_type": "display_data"
    },
    {
     "data": {
      "text/html": [
       "\n",
       "                <audio controls=\"controls\" autoplay=\"autoplay\">\n",
       "                    <source src=\"./data/ping.wav\" type=\"audio/x-wav\" />\n",
       "                    Your browser does not support the audio element.\n",
       "                </audio>\n",
       "              "
      ],
      "text/plain": [
       "<IPython.lib.display.Audio object>"
      ]
     },
     "metadata": {},
     "output_type": "display_data"
    },
    {
     "data": {
      "text/html": [
       "\n",
       "                <audio controls=\"controls\" autoplay=\"autoplay\">\n",
       "                    <source src=\"./data/ping.wav\" type=\"audio/x-wav\" />\n",
       "                    Your browser does not support the audio element.\n",
       "                </audio>\n",
       "              "
      ],
      "text/plain": [
       "<IPython.lib.display.Audio object>"
      ]
     },
     "metadata": {},
     "output_type": "display_data"
    },
    {
     "data": {
      "text/html": [
       "\n",
       "                <audio controls=\"controls\" autoplay=\"autoplay\">\n",
       "                    <source src=\"./data/ping.wav\" type=\"audio/x-wav\" />\n",
       "                    Your browser does not support the audio element.\n",
       "                </audio>\n",
       "              "
      ],
      "text/plain": [
       "<IPython.lib.display.Audio object>"
      ]
     },
     "metadata": {},
     "output_type": "display_data"
    },
    {
     "data": {
      "text/html": [
       "\n",
       "                <audio controls=\"controls\" autoplay=\"autoplay\">\n",
       "                    <source src=\"./data/ping.wav\" type=\"audio/x-wav\" />\n",
       "                    Your browser does not support the audio element.\n",
       "                </audio>\n",
       "              "
      ],
      "text/plain": [
       "<IPython.lib.display.Audio object>"
      ]
     },
     "metadata": {},
     "output_type": "display_data"
    },
    {
     "data": {
      "text/html": [
       "\n",
       "                <audio controls=\"controls\" autoplay=\"autoplay\">\n",
       "                    <source src=\"./data/ping.wav\" type=\"audio/x-wav\" />\n",
       "                    Your browser does not support the audio element.\n",
       "                </audio>\n",
       "              "
      ],
      "text/plain": [
       "<IPython.lib.display.Audio object>"
      ]
     },
     "metadata": {},
     "output_type": "display_data"
    },
    {
     "data": {
      "text/html": [
       "\n",
       "                <audio controls=\"controls\" autoplay=\"autoplay\">\n",
       "                    <source src=\"./data/ping.wav\" type=\"audio/x-wav\" />\n",
       "                    Your browser does not support the audio element.\n",
       "                </audio>\n",
       "              "
      ],
      "text/plain": [
       "<IPython.lib.display.Audio object>"
      ]
     },
     "metadata": {},
     "output_type": "display_data"
    },
    {
     "data": {
      "text/html": [
       "\n",
       "                <audio controls=\"controls\" autoplay=\"autoplay\">\n",
       "                    <source src=\"./data/ping.wav\" type=\"audio/x-wav\" />\n",
       "                    Your browser does not support the audio element.\n",
       "                </audio>\n",
       "              "
      ],
      "text/plain": [
       "<IPython.lib.display.Audio object>"
      ]
     },
     "metadata": {},
     "output_type": "display_data"
    },
    {
     "data": {
      "text/html": [
       "\n",
       "                <audio controls=\"controls\" autoplay=\"autoplay\">\n",
       "                    <source src=\"./data/ping.wav\" type=\"audio/x-wav\" />\n",
       "                    Your browser does not support the audio element.\n",
       "                </audio>\n",
       "              "
      ],
      "text/plain": [
       "<IPython.lib.display.Audio object>"
      ]
     },
     "metadata": {},
     "output_type": "display_data"
    },
    {
     "data": {
      "text/html": [
       "\n",
       "                <audio controls=\"controls\" autoplay=\"autoplay\">\n",
       "                    <source src=\"./data/ping.wav\" type=\"audio/x-wav\" />\n",
       "                    Your browser does not support the audio element.\n",
       "                </audio>\n",
       "              "
      ],
      "text/plain": [
       "<IPython.lib.display.Audio object>"
      ]
     },
     "metadata": {},
     "output_type": "display_data"
    },
    {
     "data": {
      "text/html": [
       "\n",
       "                <audio controls=\"controls\" autoplay=\"autoplay\">\n",
       "                    <source src=\"./data/ping.wav\" type=\"audio/x-wav\" />\n",
       "                    Your browser does not support the audio element.\n",
       "                </audio>\n",
       "              "
      ],
      "text/plain": [
       "<IPython.lib.display.Audio object>"
      ]
     },
     "metadata": {},
     "output_type": "display_data"
    },
    {
     "data": {
      "text/html": [
       "\n",
       "                <audio controls=\"controls\" autoplay=\"autoplay\">\n",
       "                    <source src=\"./data/ping.wav\" type=\"audio/x-wav\" />\n",
       "                    Your browser does not support the audio element.\n",
       "                </audio>\n",
       "              "
      ],
      "text/plain": [
       "<IPython.lib.display.Audio object>"
      ]
     },
     "metadata": {},
     "output_type": "display_data"
    },
    {
     "data": {
      "text/html": [
       "\n",
       "                <audio controls=\"controls\" autoplay=\"autoplay\">\n",
       "                    <source src=\"./data/ping.wav\" type=\"audio/x-wav\" />\n",
       "                    Your browser does not support the audio element.\n",
       "                </audio>\n",
       "              "
      ],
      "text/plain": [
       "<IPython.lib.display.Audio object>"
      ]
     },
     "metadata": {},
     "output_type": "display_data"
    },
    {
     "data": {
      "text/html": [
       "\n",
       "                <audio controls=\"controls\" autoplay=\"autoplay\">\n",
       "                    <source src=\"./data/ping.wav\" type=\"audio/x-wav\" />\n",
       "                    Your browser does not support the audio element.\n",
       "                </audio>\n",
       "              "
      ],
      "text/plain": [
       "<IPython.lib.display.Audio object>"
      ]
     },
     "metadata": {},
     "output_type": "display_data"
    },
    {
     "data": {
      "text/html": [
       "\n",
       "                <audio controls=\"controls\" autoplay=\"autoplay\">\n",
       "                    <source src=\"./data/ping.wav\" type=\"audio/x-wav\" />\n",
       "                    Your browser does not support the audio element.\n",
       "                </audio>\n",
       "              "
      ],
      "text/plain": [
       "<IPython.lib.display.Audio object>"
      ]
     },
     "metadata": {},
     "output_type": "display_data"
    },
    {
     "data": {
      "text/html": [
       "\n",
       "                <audio controls=\"controls\" autoplay=\"autoplay\">\n",
       "                    <source src=\"./data/ping.wav\" type=\"audio/x-wav\" />\n",
       "                    Your browser does not support the audio element.\n",
       "                </audio>\n",
       "              "
      ],
      "text/plain": [
       "<IPython.lib.display.Audio object>"
      ]
     },
     "metadata": {},
     "output_type": "display_data"
    },
    {
     "data": {
      "text/html": [
       "\n",
       "                <audio controls=\"controls\" autoplay=\"autoplay\">\n",
       "                    <source src=\"./data/ping.wav\" type=\"audio/x-wav\" />\n",
       "                    Your browser does not support the audio element.\n",
       "                </audio>\n",
       "              "
      ],
      "text/plain": [
       "<IPython.lib.display.Audio object>"
      ]
     },
     "metadata": {},
     "output_type": "display_data"
    },
    {
     "data": {
      "text/html": [
       "\n",
       "                <audio controls=\"controls\" autoplay=\"autoplay\">\n",
       "                    <source src=\"./data/ping.wav\" type=\"audio/x-wav\" />\n",
       "                    Your browser does not support the audio element.\n",
       "                </audio>\n",
       "              "
      ],
      "text/plain": [
       "<IPython.lib.display.Audio object>"
      ]
     },
     "metadata": {},
     "output_type": "display_data"
    },
    {
     "data": {
      "text/html": [
       "\n",
       "                <audio controls=\"controls\" autoplay=\"autoplay\">\n",
       "                    <source src=\"./data/ping.wav\" type=\"audio/x-wav\" />\n",
       "                    Your browser does not support the audio element.\n",
       "                </audio>\n",
       "              "
      ],
      "text/plain": [
       "<IPython.lib.display.Audio object>"
      ]
     },
     "metadata": {},
     "output_type": "display_data"
    },
    {
     "data": {
      "text/html": [
       "\n",
       "                <audio controls=\"controls\" autoplay=\"autoplay\">\n",
       "                    <source src=\"./data/ping.wav\" type=\"audio/x-wav\" />\n",
       "                    Your browser does not support the audio element.\n",
       "                </audio>\n",
       "              "
      ],
      "text/plain": [
       "<IPython.lib.display.Audio object>"
      ]
     },
     "metadata": {},
     "output_type": "display_data"
    },
    {
     "data": {
      "text/html": [
       "\n",
       "                <audio controls=\"controls\" autoplay=\"autoplay\">\n",
       "                    <source src=\"./data/ping.wav\" type=\"audio/x-wav\" />\n",
       "                    Your browser does not support the audio element.\n",
       "                </audio>\n",
       "              "
      ],
      "text/plain": [
       "<IPython.lib.display.Audio object>"
      ]
     },
     "metadata": {},
     "output_type": "display_data"
    },
    {
     "data": {
      "text/html": [
       "\n",
       "                <audio controls=\"controls\" autoplay=\"autoplay\">\n",
       "                    <source src=\"./data/ping.wav\" type=\"audio/x-wav\" />\n",
       "                    Your browser does not support the audio element.\n",
       "                </audio>\n",
       "              "
      ],
      "text/plain": [
       "<IPython.lib.display.Audio object>"
      ]
     },
     "metadata": {},
     "output_type": "display_data"
    },
    {
     "data": {
      "text/html": [
       "\n",
       "                <audio controls=\"controls\" autoplay=\"autoplay\">\n",
       "                    <source src=\"./data/ping.wav\" type=\"audio/x-wav\" />\n",
       "                    Your browser does not support the audio element.\n",
       "                </audio>\n",
       "              "
      ],
      "text/plain": [
       "<IPython.lib.display.Audio object>"
      ]
     },
     "metadata": {},
     "output_type": "display_data"
    },
    {
     "data": {
      "text/html": [
       "\n",
       "                <audio controls=\"controls\" autoplay=\"autoplay\">\n",
       "                    <source src=\"./data/ping.wav\" type=\"audio/x-wav\" />\n",
       "                    Your browser does not support the audio element.\n",
       "                </audio>\n",
       "              "
      ],
      "text/plain": [
       "<IPython.lib.display.Audio object>"
      ]
     },
     "metadata": {},
     "output_type": "display_data"
    },
    {
     "data": {
      "text/html": [
       "\n",
       "                <audio controls=\"controls\" autoplay=\"autoplay\">\n",
       "                    <source src=\"./data/ping.wav\" type=\"audio/x-wav\" />\n",
       "                    Your browser does not support the audio element.\n",
       "                </audio>\n",
       "              "
      ],
      "text/plain": [
       "<IPython.lib.display.Audio object>"
      ]
     },
     "metadata": {},
     "output_type": "display_data"
    },
    {
     "data": {
      "text/html": [
       "\n",
       "                <audio controls=\"controls\" autoplay=\"autoplay\">\n",
       "                    <source src=\"./data/ping.wav\" type=\"audio/x-wav\" />\n",
       "                    Your browser does not support the audio element.\n",
       "                </audio>\n",
       "              "
      ],
      "text/plain": [
       "<IPython.lib.display.Audio object>"
      ]
     },
     "metadata": {},
     "output_type": "display_data"
    },
    {
     "data": {
      "text/html": [
       "\n",
       "                <audio controls=\"controls\" autoplay=\"autoplay\">\n",
       "                    <source src=\"./data/ping.wav\" type=\"audio/x-wav\" />\n",
       "                    Your browser does not support the audio element.\n",
       "                </audio>\n",
       "              "
      ],
      "text/plain": [
       "<IPython.lib.display.Audio object>"
      ]
     },
     "metadata": {},
     "output_type": "display_data"
    },
    {
     "data": {
      "text/html": [
       "\n",
       "                <audio controls=\"controls\" autoplay=\"autoplay\">\n",
       "                    <source src=\"./data/ping.wav\" type=\"audio/x-wav\" />\n",
       "                    Your browser does not support the audio element.\n",
       "                </audio>\n",
       "              "
      ],
      "text/plain": [
       "<IPython.lib.display.Audio object>"
      ]
     },
     "metadata": {},
     "output_type": "display_data"
    },
    {
     "data": {
      "text/html": [
       "\n",
       "                <audio controls=\"controls\" autoplay=\"autoplay\">\n",
       "                    <source src=\"./data/ping.wav\" type=\"audio/x-wav\" />\n",
       "                    Your browser does not support the audio element.\n",
       "                </audio>\n",
       "              "
      ],
      "text/plain": [
       "<IPython.lib.display.Audio object>"
      ]
     },
     "metadata": {},
     "output_type": "display_data"
    },
    {
     "data": {
      "text/html": [
       "\n",
       "                <audio controls=\"controls\" autoplay=\"autoplay\">\n",
       "                    <source src=\"./data/ping.wav\" type=\"audio/x-wav\" />\n",
       "                    Your browser does not support the audio element.\n",
       "                </audio>\n",
       "              "
      ],
      "text/plain": [
       "<IPython.lib.display.Audio object>"
      ]
     },
     "metadata": {},
     "output_type": "display_data"
    },
    {
     "data": {
      "text/html": [
       "\n",
       "                <audio controls=\"controls\" autoplay=\"autoplay\">\n",
       "                    <source src=\"./data/ping.wav\" type=\"audio/x-wav\" />\n",
       "                    Your browser does not support the audio element.\n",
       "                </audio>\n",
       "              "
      ],
      "text/plain": [
       "<IPython.lib.display.Audio object>"
      ]
     },
     "metadata": {},
     "output_type": "display_data"
    },
    {
     "data": {
      "text/html": [
       "\n",
       "                <audio controls=\"controls\" autoplay=\"autoplay\">\n",
       "                    <source src=\"./data/ping.wav\" type=\"audio/x-wav\" />\n",
       "                    Your browser does not support the audio element.\n",
       "                </audio>\n",
       "              "
      ],
      "text/plain": [
       "<IPython.lib.display.Audio object>"
      ]
     },
     "metadata": {},
     "output_type": "display_data"
    },
    {
     "data": {
      "text/html": [
       "\n",
       "                <audio controls=\"controls\" autoplay=\"autoplay\">\n",
       "                    <source src=\"./data/ping.wav\" type=\"audio/x-wav\" />\n",
       "                    Your browser does not support the audio element.\n",
       "                </audio>\n",
       "              "
      ],
      "text/plain": [
       "<IPython.lib.display.Audio object>"
      ]
     },
     "metadata": {},
     "output_type": "display_data"
    },
    {
     "data": {
      "text/html": [
       "\n",
       "                <audio controls=\"controls\" autoplay=\"autoplay\">\n",
       "                    <source src=\"./data/ping.wav\" type=\"audio/x-wav\" />\n",
       "                    Your browser does not support the audio element.\n",
       "                </audio>\n",
       "              "
      ],
      "text/plain": [
       "<IPython.lib.display.Audio object>"
      ]
     },
     "metadata": {},
     "output_type": "display_data"
    },
    {
     "data": {
      "text/html": [
       "\n",
       "                <audio controls=\"controls\" autoplay=\"autoplay\">\n",
       "                    <source src=\"./data/ping.wav\" type=\"audio/x-wav\" />\n",
       "                    Your browser does not support the audio element.\n",
       "                </audio>\n",
       "              "
      ],
      "text/plain": [
       "<IPython.lib.display.Audio object>"
      ]
     },
     "metadata": {},
     "output_type": "display_data"
    },
    {
     "data": {
      "text/html": [
       "\n",
       "                <audio controls=\"controls\" autoplay=\"autoplay\">\n",
       "                    <source src=\"./data/ping.wav\" type=\"audio/x-wav\" />\n",
       "                    Your browser does not support the audio element.\n",
       "                </audio>\n",
       "              "
      ],
      "text/plain": [
       "<IPython.lib.display.Audio object>"
      ]
     },
     "metadata": {},
     "output_type": "display_data"
    },
    {
     "data": {
      "text/html": [
       "\n",
       "                <audio controls=\"controls\" autoplay=\"autoplay\">\n",
       "                    <source src=\"./data/ping.wav\" type=\"audio/x-wav\" />\n",
       "                    Your browser does not support the audio element.\n",
       "                </audio>\n",
       "              "
      ],
      "text/plain": [
       "<IPython.lib.display.Audio object>"
      ]
     },
     "metadata": {},
     "output_type": "display_data"
    },
    {
     "data": {
      "text/html": [
       "\n",
       "                <audio controls=\"controls\" autoplay=\"autoplay\">\n",
       "                    <source src=\"./data/ping.wav\" type=\"audio/x-wav\" />\n",
       "                    Your browser does not support the audio element.\n",
       "                </audio>\n",
       "              "
      ],
      "text/plain": [
       "<IPython.lib.display.Audio object>"
      ]
     },
     "metadata": {},
     "output_type": "display_data"
    },
    {
     "data": {
      "text/html": [
       "\n",
       "                <audio controls=\"controls\" autoplay=\"autoplay\">\n",
       "                    <source src=\"./data/ping.wav\" type=\"audio/x-wav\" />\n",
       "                    Your browser does not support the audio element.\n",
       "                </audio>\n",
       "              "
      ],
      "text/plain": [
       "<IPython.lib.display.Audio object>"
      ]
     },
     "metadata": {},
     "output_type": "display_data"
    },
    {
     "data": {
      "text/html": [
       "\n",
       "                <audio controls=\"controls\" autoplay=\"autoplay\">\n",
       "                    <source src=\"./data/ping.wav\" type=\"audio/x-wav\" />\n",
       "                    Your browser does not support the audio element.\n",
       "                </audio>\n",
       "              "
      ],
      "text/plain": [
       "<IPython.lib.display.Audio object>"
      ]
     },
     "metadata": {},
     "output_type": "display_data"
    },
    {
     "data": {
      "text/html": [
       "\n",
       "                <audio controls=\"controls\" autoplay=\"autoplay\">\n",
       "                    <source src=\"./data/ping.wav\" type=\"audio/x-wav\" />\n",
       "                    Your browser does not support the audio element.\n",
       "                </audio>\n",
       "              "
      ],
      "text/plain": [
       "<IPython.lib.display.Audio object>"
      ]
     },
     "metadata": {},
     "output_type": "display_data"
    },
    {
     "data": {
      "text/html": [
       "\n",
       "                <audio controls=\"controls\" autoplay=\"autoplay\">\n",
       "                    <source src=\"./data/ping.wav\" type=\"audio/x-wav\" />\n",
       "                    Your browser does not support the audio element.\n",
       "                </audio>\n",
       "              "
      ],
      "text/plain": [
       "<IPython.lib.display.Audio object>"
      ]
     },
     "metadata": {},
     "output_type": "display_data"
    },
    {
     "data": {
      "text/html": [
       "\n",
       "                <audio controls=\"controls\" autoplay=\"autoplay\">\n",
       "                    <source src=\"./data/ping.wav\" type=\"audio/x-wav\" />\n",
       "                    Your browser does not support the audio element.\n",
       "                </audio>\n",
       "              "
      ],
      "text/plain": [
       "<IPython.lib.display.Audio object>"
      ]
     },
     "metadata": {},
     "output_type": "display_data"
    },
    {
     "data": {
      "text/html": [
       "\n",
       "                <audio controls=\"controls\" autoplay=\"autoplay\">\n",
       "                    <source src=\"./data/ping.wav\" type=\"audio/x-wav\" />\n",
       "                    Your browser does not support the audio element.\n",
       "                </audio>\n",
       "              "
      ],
      "text/plain": [
       "<IPython.lib.display.Audio object>"
      ]
     },
     "metadata": {},
     "output_type": "display_data"
    },
    {
     "data": {
      "text/html": [
       "\n",
       "                <audio controls=\"controls\" autoplay=\"autoplay\">\n",
       "                    <source src=\"./data/ping.wav\" type=\"audio/x-wav\" />\n",
       "                    Your browser does not support the audio element.\n",
       "                </audio>\n",
       "              "
      ],
      "text/plain": [
       "<IPython.lib.display.Audio object>"
      ]
     },
     "metadata": {},
     "output_type": "display_data"
    },
    {
     "data": {
      "text/html": [
       "\n",
       "                <audio controls=\"controls\" autoplay=\"autoplay\">\n",
       "                    <source src=\"./data/ping.wav\" type=\"audio/x-wav\" />\n",
       "                    Your browser does not support the audio element.\n",
       "                </audio>\n",
       "              "
      ],
      "text/plain": [
       "<IPython.lib.display.Audio object>"
      ]
     },
     "metadata": {},
     "output_type": "display_data"
    },
    {
     "data": {
      "text/html": [
       "\n",
       "                <audio controls=\"controls\" autoplay=\"autoplay\">\n",
       "                    <source src=\"./data/ping.wav\" type=\"audio/x-wav\" />\n",
       "                    Your browser does not support the audio element.\n",
       "                </audio>\n",
       "              "
      ],
      "text/plain": [
       "<IPython.lib.display.Audio object>"
      ]
     },
     "metadata": {},
     "output_type": "display_data"
    },
    {
     "data": {
      "text/html": [
       "\n",
       "                <audio controls=\"controls\" autoplay=\"autoplay\">\n",
       "                    <source src=\"./data/ping.wav\" type=\"audio/x-wav\" />\n",
       "                    Your browser does not support the audio element.\n",
       "                </audio>\n",
       "              "
      ],
      "text/plain": [
       "<IPython.lib.display.Audio object>"
      ]
     },
     "metadata": {},
     "output_type": "display_data"
    },
    {
     "data": {
      "text/html": [
       "\n",
       "                <audio controls=\"controls\" autoplay=\"autoplay\">\n",
       "                    <source src=\"./data/ping.wav\" type=\"audio/x-wav\" />\n",
       "                    Your browser does not support the audio element.\n",
       "                </audio>\n",
       "              "
      ],
      "text/plain": [
       "<IPython.lib.display.Audio object>"
      ]
     },
     "metadata": {},
     "output_type": "display_data"
    },
    {
     "data": {
      "text/html": [
       "\n",
       "                <audio controls=\"controls\" autoplay=\"autoplay\">\n",
       "                    <source src=\"./data/ping.wav\" type=\"audio/x-wav\" />\n",
       "                    Your browser does not support the audio element.\n",
       "                </audio>\n",
       "              "
      ],
      "text/plain": [
       "<IPython.lib.display.Audio object>"
      ]
     },
     "metadata": {},
     "output_type": "display_data"
    },
    {
     "data": {
      "text/html": [
       "\n",
       "                <audio controls=\"controls\" autoplay=\"autoplay\">\n",
       "                    <source src=\"./data/ping.wav\" type=\"audio/x-wav\" />\n",
       "                    Your browser does not support the audio element.\n",
       "                </audio>\n",
       "              "
      ],
      "text/plain": [
       "<IPython.lib.display.Audio object>"
      ]
     },
     "metadata": {},
     "output_type": "display_data"
    },
    {
     "data": {
      "text/html": [
       "\n",
       "                <audio controls=\"controls\" autoplay=\"autoplay\">\n",
       "                    <source src=\"./data/ping.wav\" type=\"audio/x-wav\" />\n",
       "                    Your browser does not support the audio element.\n",
       "                </audio>\n",
       "              "
      ],
      "text/plain": [
       "<IPython.lib.display.Audio object>"
      ]
     },
     "metadata": {},
     "output_type": "display_data"
    },
    {
     "data": {
      "text/html": [
       "\n",
       "                <audio controls=\"controls\" autoplay=\"autoplay\">\n",
       "                    <source src=\"./data/ping.wav\" type=\"audio/x-wav\" />\n",
       "                    Your browser does not support the audio element.\n",
       "                </audio>\n",
       "              "
      ],
      "text/plain": [
       "<IPython.lib.display.Audio object>"
      ]
     },
     "metadata": {},
     "output_type": "display_data"
    },
    {
     "data": {
      "text/html": [
       "\n",
       "                <audio controls=\"controls\" autoplay=\"autoplay\">\n",
       "                    <source src=\"./data/ping.wav\" type=\"audio/x-wav\" />\n",
       "                    Your browser does not support the audio element.\n",
       "                </audio>\n",
       "              "
      ],
      "text/plain": [
       "<IPython.lib.display.Audio object>"
      ]
     },
     "metadata": {},
     "output_type": "display_data"
    },
    {
     "data": {
      "text/html": [
       "\n",
       "                <audio controls=\"controls\" autoplay=\"autoplay\">\n",
       "                    <source src=\"./data/ping.wav\" type=\"audio/x-wav\" />\n",
       "                    Your browser does not support the audio element.\n",
       "                </audio>\n",
       "              "
      ],
      "text/plain": [
       "<IPython.lib.display.Audio object>"
      ]
     },
     "metadata": {},
     "output_type": "display_data"
    },
    {
     "data": {
      "text/html": [
       "\n",
       "                <audio controls=\"controls\" autoplay=\"autoplay\">\n",
       "                    <source src=\"./data/ping.wav\" type=\"audio/x-wav\" />\n",
       "                    Your browser does not support the audio element.\n",
       "                </audio>\n",
       "              "
      ],
      "text/plain": [
       "<IPython.lib.display.Audio object>"
      ]
     },
     "metadata": {},
     "output_type": "display_data"
    },
    {
     "data": {
      "text/html": [
       "\n",
       "                <audio controls=\"controls\" autoplay=\"autoplay\">\n",
       "                    <source src=\"./data/ping.wav\" type=\"audio/x-wav\" />\n",
       "                    Your browser does not support the audio element.\n",
       "                </audio>\n",
       "              "
      ],
      "text/plain": [
       "<IPython.lib.display.Audio object>"
      ]
     },
     "metadata": {},
     "output_type": "display_data"
    },
    {
     "data": {
      "text/html": [
       "\n",
       "                <audio controls=\"controls\" autoplay=\"autoplay\">\n",
       "                    <source src=\"./data/ping.wav\" type=\"audio/x-wav\" />\n",
       "                    Your browser does not support the audio element.\n",
       "                </audio>\n",
       "              "
      ],
      "text/plain": [
       "<IPython.lib.display.Audio object>"
      ]
     },
     "metadata": {},
     "output_type": "display_data"
    },
    {
     "data": {
      "text/html": [
       "\n",
       "                <audio controls=\"controls\" autoplay=\"autoplay\">\n",
       "                    <source src=\"./data/ping.wav\" type=\"audio/x-wav\" />\n",
       "                    Your browser does not support the audio element.\n",
       "                </audio>\n",
       "              "
      ],
      "text/plain": [
       "<IPython.lib.display.Audio object>"
      ]
     },
     "metadata": {},
     "output_type": "display_data"
    },
    {
     "data": {
      "text/html": [
       "\n",
       "                <audio controls=\"controls\" autoplay=\"autoplay\">\n",
       "                    <source src=\"./data/ping.wav\" type=\"audio/x-wav\" />\n",
       "                    Your browser does not support the audio element.\n",
       "                </audio>\n",
       "              "
      ],
      "text/plain": [
       "<IPython.lib.display.Audio object>"
      ]
     },
     "metadata": {},
     "output_type": "display_data"
    },
    {
     "data": {
      "text/html": [
       "\n",
       "                <audio controls=\"controls\" autoplay=\"autoplay\">\n",
       "                    <source src=\"./data/ping.wav\" type=\"audio/x-wav\" />\n",
       "                    Your browser does not support the audio element.\n",
       "                </audio>\n",
       "              "
      ],
      "text/plain": [
       "<IPython.lib.display.Audio object>"
      ]
     },
     "metadata": {},
     "output_type": "display_data"
    },
    {
     "data": {
      "text/html": [
       "\n",
       "                <audio controls=\"controls\" autoplay=\"autoplay\">\n",
       "                    <source src=\"./data/ping.wav\" type=\"audio/x-wav\" />\n",
       "                    Your browser does not support the audio element.\n",
       "                </audio>\n",
       "              "
      ],
      "text/plain": [
       "<IPython.lib.display.Audio object>"
      ]
     },
     "metadata": {},
     "output_type": "display_data"
    },
    {
     "data": {
      "text/html": [
       "\n",
       "                <audio controls=\"controls\" autoplay=\"autoplay\">\n",
       "                    <source src=\"./data/ping.wav\" type=\"audio/x-wav\" />\n",
       "                    Your browser does not support the audio element.\n",
       "                </audio>\n",
       "              "
      ],
      "text/plain": [
       "<IPython.lib.display.Audio object>"
      ]
     },
     "metadata": {},
     "output_type": "display_data"
    },
    {
     "data": {
      "text/html": [
       "\n",
       "                <audio controls=\"controls\" autoplay=\"autoplay\">\n",
       "                    <source src=\"./data/ping.wav\" type=\"audio/x-wav\" />\n",
       "                    Your browser does not support the audio element.\n",
       "                </audio>\n",
       "              "
      ],
      "text/plain": [
       "<IPython.lib.display.Audio object>"
      ]
     },
     "metadata": {},
     "output_type": "display_data"
    },
    {
     "data": {
      "text/html": [
       "\n",
       "                <audio controls=\"controls\" autoplay=\"autoplay\">\n",
       "                    <source src=\"./data/ping.wav\" type=\"audio/x-wav\" />\n",
       "                    Your browser does not support the audio element.\n",
       "                </audio>\n",
       "              "
      ],
      "text/plain": [
       "<IPython.lib.display.Audio object>"
      ]
     },
     "metadata": {},
     "output_type": "display_data"
    },
    {
     "data": {
      "text/html": [
       "\n",
       "                <audio controls=\"controls\" autoplay=\"autoplay\">\n",
       "                    <source src=\"./data/ping.wav\" type=\"audio/x-wav\" />\n",
       "                    Your browser does not support the audio element.\n",
       "                </audio>\n",
       "              "
      ],
      "text/plain": [
       "<IPython.lib.display.Audio object>"
      ]
     },
     "metadata": {},
     "output_type": "display_data"
    },
    {
     "data": {
      "text/html": [
       "\n",
       "                <audio controls=\"controls\" autoplay=\"autoplay\">\n",
       "                    <source src=\"./data/ping.wav\" type=\"audio/x-wav\" />\n",
       "                    Your browser does not support the audio element.\n",
       "                </audio>\n",
       "              "
      ],
      "text/plain": [
       "<IPython.lib.display.Audio object>"
      ]
     },
     "metadata": {},
     "output_type": "display_data"
    },
    {
     "data": {
      "text/html": [
       "\n",
       "                <audio controls=\"controls\" autoplay=\"autoplay\">\n",
       "                    <source src=\"./data/ping.wav\" type=\"audio/x-wav\" />\n",
       "                    Your browser does not support the audio element.\n",
       "                </audio>\n",
       "              "
      ],
      "text/plain": [
       "<IPython.lib.display.Audio object>"
      ]
     },
     "metadata": {},
     "output_type": "display_data"
    },
    {
     "data": {
      "text/html": [
       "\n",
       "                <audio controls=\"controls\" autoplay=\"autoplay\">\n",
       "                    <source src=\"./data/ping.wav\" type=\"audio/x-wav\" />\n",
       "                    Your browser does not support the audio element.\n",
       "                </audio>\n",
       "              "
      ],
      "text/plain": [
       "<IPython.lib.display.Audio object>"
      ]
     },
     "metadata": {},
     "output_type": "display_data"
    },
    {
     "data": {
      "text/html": [
       "\n",
       "                <audio controls=\"controls\" autoplay=\"autoplay\">\n",
       "                    <source src=\"./data/ping.wav\" type=\"audio/x-wav\" />\n",
       "                    Your browser does not support the audio element.\n",
       "                </audio>\n",
       "              "
      ],
      "text/plain": [
       "<IPython.lib.display.Audio object>"
      ]
     },
     "metadata": {},
     "output_type": "display_data"
    },
    {
     "data": {
      "text/html": [
       "\n",
       "                <audio controls=\"controls\" autoplay=\"autoplay\">\n",
       "                    <source src=\"./data/ping.wav\" type=\"audio/x-wav\" />\n",
       "                    Your browser does not support the audio element.\n",
       "                </audio>\n",
       "              "
      ],
      "text/plain": [
       "<IPython.lib.display.Audio object>"
      ]
     },
     "metadata": {},
     "output_type": "display_data"
    },
    {
     "data": {
      "text/html": [
       "\n",
       "                <audio controls=\"controls\" autoplay=\"autoplay\">\n",
       "                    <source src=\"./data/ping.wav\" type=\"audio/x-wav\" />\n",
       "                    Your browser does not support the audio element.\n",
       "                </audio>\n",
       "              "
      ],
      "text/plain": [
       "<IPython.lib.display.Audio object>"
      ]
     },
     "metadata": {},
     "output_type": "display_data"
    },
    {
     "data": {
      "text/html": [
       "\n",
       "                <audio controls=\"controls\" autoplay=\"autoplay\">\n",
       "                    <source src=\"./data/ping.wav\" type=\"audio/x-wav\" />\n",
       "                    Your browser does not support the audio element.\n",
       "                </audio>\n",
       "              "
      ],
      "text/plain": [
       "<IPython.lib.display.Audio object>"
      ]
     },
     "metadata": {},
     "output_type": "display_data"
    },
    {
     "data": {
      "text/html": [
       "\n",
       "                <audio controls=\"controls\" autoplay=\"autoplay\">\n",
       "                    <source src=\"./data/ping.wav\" type=\"audio/x-wav\" />\n",
       "                    Your browser does not support the audio element.\n",
       "                </audio>\n",
       "              "
      ],
      "text/plain": [
       "<IPython.lib.display.Audio object>"
      ]
     },
     "metadata": {},
     "output_type": "display_data"
    },
    {
     "data": {
      "text/html": [
       "\n",
       "                <audio controls=\"controls\" autoplay=\"autoplay\">\n",
       "                    <source src=\"./data/ping.wav\" type=\"audio/x-wav\" />\n",
       "                    Your browser does not support the audio element.\n",
       "                </audio>\n",
       "              "
      ],
      "text/plain": [
       "<IPython.lib.display.Audio object>"
      ]
     },
     "metadata": {},
     "output_type": "display_data"
    },
    {
     "data": {
      "text/html": [
       "\n",
       "                <audio controls=\"controls\" autoplay=\"autoplay\">\n",
       "                    <source src=\"./data/ping.wav\" type=\"audio/x-wav\" />\n",
       "                    Your browser does not support the audio element.\n",
       "                </audio>\n",
       "              "
      ],
      "text/plain": [
       "<IPython.lib.display.Audio object>"
      ]
     },
     "metadata": {},
     "output_type": "display_data"
    },
    {
     "data": {
      "text/html": [
       "\n",
       "                <audio controls=\"controls\" autoplay=\"autoplay\">\n",
       "                    <source src=\"./data/ping.wav\" type=\"audio/x-wav\" />\n",
       "                    Your browser does not support the audio element.\n",
       "                </audio>\n",
       "              "
      ],
      "text/plain": [
       "<IPython.lib.display.Audio object>"
      ]
     },
     "metadata": {},
     "output_type": "display_data"
    },
    {
     "data": {
      "text/html": [
       "\n",
       "                <audio controls=\"controls\" autoplay=\"autoplay\">\n",
       "                    <source src=\"./data/ping.wav\" type=\"audio/x-wav\" />\n",
       "                    Your browser does not support the audio element.\n",
       "                </audio>\n",
       "              "
      ],
      "text/plain": [
       "<IPython.lib.display.Audio object>"
      ]
     },
     "metadata": {},
     "output_type": "display_data"
    },
    {
     "data": {
      "text/html": [
       "\n",
       "                <audio controls=\"controls\" autoplay=\"autoplay\">\n",
       "                    <source src=\"./data/ping.wav\" type=\"audio/x-wav\" />\n",
       "                    Your browser does not support the audio element.\n",
       "                </audio>\n",
       "              "
      ],
      "text/plain": [
       "<IPython.lib.display.Audio object>"
      ]
     },
     "metadata": {},
     "output_type": "display_data"
    },
    {
     "data": {
      "text/html": [
       "\n",
       "                <audio controls=\"controls\" autoplay=\"autoplay\">\n",
       "                    <source src=\"./data/ping.wav\" type=\"audio/x-wav\" />\n",
       "                    Your browser does not support the audio element.\n",
       "                </audio>\n",
       "              "
      ],
      "text/plain": [
       "<IPython.lib.display.Audio object>"
      ]
     },
     "metadata": {},
     "output_type": "display_data"
    },
    {
     "data": {
      "text/html": [
       "\n",
       "                <audio controls=\"controls\" autoplay=\"autoplay\">\n",
       "                    <source src=\"./data/ping.wav\" type=\"audio/x-wav\" />\n",
       "                    Your browser does not support the audio element.\n",
       "                </audio>\n",
       "              "
      ],
      "text/plain": [
       "<IPython.lib.display.Audio object>"
      ]
     },
     "metadata": {},
     "output_type": "display_data"
    },
    {
     "data": {
      "text/html": [
       "\n",
       "                <audio controls=\"controls\" autoplay=\"autoplay\">\n",
       "                    <source src=\"./data/ping.wav\" type=\"audio/x-wav\" />\n",
       "                    Your browser does not support the audio element.\n",
       "                </audio>\n",
       "              "
      ],
      "text/plain": [
       "<IPython.lib.display.Audio object>"
      ]
     },
     "metadata": {},
     "output_type": "display_data"
    },
    {
     "data": {
      "text/html": [
       "\n",
       "                <audio controls=\"controls\" autoplay=\"autoplay\">\n",
       "                    <source src=\"./data/ping.wav\" type=\"audio/x-wav\" />\n",
       "                    Your browser does not support the audio element.\n",
       "                </audio>\n",
       "              "
      ],
      "text/plain": [
       "<IPython.lib.display.Audio object>"
      ]
     },
     "metadata": {},
     "output_type": "display_data"
    },
    {
     "data": {
      "text/html": [
       "\n",
       "                <audio controls=\"controls\" autoplay=\"autoplay\">\n",
       "                    <source src=\"./data/ping.wav\" type=\"audio/x-wav\" />\n",
       "                    Your browser does not support the audio element.\n",
       "                </audio>\n",
       "              "
      ],
      "text/plain": [
       "<IPython.lib.display.Audio object>"
      ]
     },
     "metadata": {},
     "output_type": "display_data"
    },
    {
     "name": "stdout",
     "output_type": "stream",
     "text": [
      "Avg accuracy:     0.4033948531865199\n",
      "Median accuracy:  0.4043105605605606\n",
      "StdDev accuracy:  0.04740425911893349\n",
      "Numer of trials:  100\n",
      "Results:  [0.36 0.39 0.39 0.45 0.4  0.42 0.32 0.48 0.42 0.43 0.34 0.4  0.38 0.47\n",
      " 0.34 0.34 0.41 0.34 0.34 0.42 0.48 0.35 0.37 0.41 0.39 0.38 0.46 0.47\n",
      " 0.48 0.39 0.45 0.4  0.43 0.42 0.41 0.47 0.41 0.34 0.38 0.38 0.39 0.35\n",
      " 0.46 0.44 0.38 0.35 0.42 0.37 0.33 0.44 0.39 0.44 0.47 0.45 0.39 0.35\n",
      " 0.43 0.5  0.34 0.38 0.34 0.43 0.34 0.36 0.37 0.54 0.37 0.34 0.42 0.49\n",
      " 0.41 0.39 0.35 0.42 0.46 0.42 0.43 0.41 0.43 0.39 0.33 0.38 0.48 0.36\n",
      " 0.43 0.34 0.42 0.45 0.45 0.47 0.33 0.43 0.42 0.48 0.38 0.4  0.44 0.35\n",
      " 0.4  0.34]\n"
     ]
    },
    {
     "data": {
      "text/html": [
       "\n",
       "                <audio controls=\"controls\" autoplay=\"autoplay\">\n",
       "                    <source src=\"./data/ping.wav\" type=\"audio/x-wav\" />\n",
       "                    Your browser does not support the audio element.\n",
       "                </audio>\n",
       "              "
      ],
      "text/plain": [
       "<IPython.lib.display.Audio object>"
      ]
     },
     "metadata": {},
     "output_type": "display_data"
    }
   ],
   "source": [
    "# Run permutation tests over a number of trials, \"num_trials\"\n",
    "num_trials = 100\n",
    "param_grid = {'estimator__C': np.logspace(-1,7,9), \n",
    "              'estimator__gamma': np.logspace(-7,1,9)\n",
    "             }\n",
    "mu_permute, sigma_permute = perm_test(100, model_params=param_grid)"
   ]
  },
  {
   "cell_type": "code",
   "execution_count": 14,
   "metadata": {
    "ExecuteTime": {
     "end_time": "2019-08-02T08:14:46.577396Z",
     "start_time": "2019-08-02T08:14:46.571108Z"
    }
   },
   "outputs": [],
   "source": [
    "results_svc.iloc[0,1:3] = (mu_permute, sigma_permute)"
   ]
  },
  {
   "cell_type": "code",
   "execution_count": 37,
   "metadata": {
    "ExecuteTime": {
     "end_time": "2019-09-26T09:46:50.671542Z",
     "start_time": "2019-09-26T09:46:50.664599Z"
    }
   },
   "outputs": [],
   "source": [
    "results_permute = [0.36,0.39,0.39,0.45,0.4,0.42,0.32,0.48,0.42,0.43,0.34,0.4,\n",
    "                   0.38,0.47,0.34,0.34,0.41,0.34,0.34,0.42,0.48,0.35,0.37,\n",
    "                   0.41,0.39,0.38,0.46,0.47,0.48,0.39,0.45,0.4,0.43,0.42,\n",
    "                   0.41,0.47,0.41,0.34,0.38,0.38,0.39,0.35,0.46,0.44,0.38,\n",
    "                   0.35,0.42,0.37,0.33,0.44,0.39,0.44,0.47,0.45,0.39,0.35,\n",
    "                   0.43,0.5,0.34,0.38,0.34,0.43,0.34,0.36,0.37,0.54,0.37,\n",
    "                   0.34,0.42,0.49,0.41,0.39,0.35,0.42,0.46,0.42,0.43,0.41,\n",
    "                   0.43,0.39,0.33,0.38,0.48,0.36,0.43,0.34,0.42,0.45,0.45,\n",
    "                   0.47,0.33,0.43,0.42,0.48,0.38,0.4,0.44,0.35,0.4,0.34]"
   ]
  },
  {
   "cell_type": "code",
   "execution_count": 38,
   "metadata": {
    "ExecuteTime": {
     "end_time": "2019-09-26T09:46:54.198303Z",
     "start_time": "2019-09-26T09:46:54.191908Z"
    }
   },
   "outputs": [],
   "source": [
    "# Export permutation results to text file\n",
    "np.savetxt('./data/results-permutation-SVC.txt', results_permute, \n",
    "           delimiter='\\t', fmt='%.2f')"
   ]
  },
  {
   "cell_type": "markdown",
   "metadata": {},
   "source": [
    "### Feature comparison"
   ]
  },
  {
   "cell_type": "code",
   "execution_count": null,
   "metadata": {},
   "outputs": [],
   "source": [
    "# TODO: feature comparison\n",
    "# TODO: auto save results"
   ]
  },
  {
   "cell_type": "markdown",
   "metadata": {},
   "source": [
    "Next, model optimization and evaluation is performed on the clustered ENM-only data after it is separated by groups of features: functions, PUCs, chemical properties and matrix properties. This serves as a means of comparing the usefulness of the different feature groups while using an SVC-RBF. A similar comparison is made later by calculating feature importance with the RFC."
   ]
  },
  {
   "cell_type": "code",
   "execution_count": 49,
   "metadata": {
    "ExecuteTime": {
     "end_time": "2019-07-23T07:20:26.543660Z",
     "start_time": "2019-07-23T07:20:26.540693Z"
    }
   },
   "outputs": [],
   "source": [
    "param_grid = {'estimator__C': np.logspace(-1,7,17), \n",
    "              'estimator__gamma': np.logspace(-7,1,17)\n",
    "             }"
   ]
  },
  {
   "cell_type": "markdown",
   "metadata": {},
   "source": [
    "##### Function-only"
   ]
  },
  {
   "cell_type": "code",
   "execution_count": 55,
   "metadata": {
    "ExecuteTime": {
     "end_time": "2019-07-23T07:28:49.677122Z",
     "start_time": "2019-07-23T07:28:43.461385Z"
    },
    "scrolled": false
   },
   "outputs": [
    {
     "data": {
      "image/png": "[encoded data removed]",
      "text/plain": [
       "<Figure size 432x288 with 2 Axes>"
      ]
     },
     "metadata": {
      "needs_background": "light"
     },
     "output_type": "display_data"
    },
    {
     "name": "stdout",
     "output_type": "stream",
     "text": [
      "Random state:\t 69\n",
      "Best parameters: {'C': 1.0, 'gamma': 0.03162277660168379}\n",
      "Max opt. balanced accuracy: 0.569\n",
      "Avg. balanced accuracy:     0.582\n",
      "Normalized Confusion Matrix\n",
      "[[0.86 0.06 0.08]\n",
      " [0.45 0.41 0.14]\n",
      " [0.29 0.24 0.47]]\n"
     ]
    },
    {
     "data": {
      "text/html": [
       "\n",
       "                <audio controls=\"controls\" autoplay=\"autoplay\">\n",
       "                    <source src=\"./data/ping.wav\" type=\"audio/x-wav\" />\n",
       "                    Your browser does not support the audio element.\n",
       "                </audio>\n",
       "              "
      ],
      "text/plain": [
       "<IPython.lib.display.Audio object>"
      ]
     },
     "metadata": {},
     "output_type": "display_data"
    },
    {
     "data": {
      "text/plain": [
       "0.5818308166178349"
      ]
     },
     "execution_count": 55,
     "metadata": {},
     "output_type": "execute_result"
    }
   ],
   "source": [
    "blt.model_opt_exe(classifier='svc', \n",
    "                  aug_type='none', \n",
    "                  k=0, \n",
    "                  feat_data=X_enm.iloc[:,4:20], \n",
    "                  bin_data=bin_enm, \n",
    "                  seed=69, \n",
    "                  save_fig_name='enm_only_func',\n",
    "                  show_opt_plot=True, \n",
    "                  show_cnf_matrix=False, \n",
    "                  param_grid=param_grid)"
   ]
  },
  {
   "cell_type": "code",
   "execution_count": 71,
   "metadata": {
    "ExecuteTime": {
     "end_time": "2019-07-23T07:47:22.026912Z",
     "start_time": "2019-07-23T07:46:22.691289Z"
    }
   },
   "outputs": [
    {
     "name": "stdout",
     "output_type": "stream",
     "text": [
      "Avg accuracy:     0.5830910525129592\n",
      "Median accuracy:  0.5877375854556381\n",
      "StdDev accuracy:  0.017065209076626356\n",
      "Numer of trials:  10\n"
     ]
    },
    {
     "data": {
      "text/html": [
       "\n",
       "                <audio controls=\"controls\" autoplay=\"autoplay\">\n",
       "                    <source src=\"./data/ping.wav\" type=\"audio/x-wav\" />\n",
       "                    Your browser does not support the audio element.\n",
       "                </audio>\n",
       "              "
      ],
      "text/plain": [
       "<IPython.lib.display.Audio object>"
      ]
     },
     "metadata": {},
     "output_type": "display_data"
    }
   ],
   "source": [
    "model_params = {'classifier': 'svc', \n",
    "                'aug_type': 'none', \n",
    "                'k': 0, \n",
    "                'feat_data': X_enm.iloc[:,4:20], \n",
    "                'bin_data': bin_enm, \n",
    "                'param_grid': {'estimator__C': np.logspace(-1,7,17), \n",
    "                               'estimator__gamma': np.logspace(-7,1,17)}\n",
    "               }\n",
    "mu_func, sigma_func = blt.multi_trials(num_trials=10, \n",
    "                                       model_params=model_params)"
   ]
  },
  {
   "cell_type": "markdown",
   "metadata": {},
   "source": [
    "##### PUC-only"
   ]
  },
  {
   "cell_type": "code",
   "execution_count": 56,
   "metadata": {
    "ExecuteTime": {
     "end_time": "2019-07-23T07:29:07.464316Z",
     "start_time": "2019-07-23T07:29:01.524113Z"
    }
   },
   "outputs": [
    {
     "data": {
      "image/png": "[encoded data removed]",
      "text/plain": [
       "<Figure size 432x288 with 2 Axes>"
      ]
     },
     "metadata": {
      "needs_background": "light"
     },
     "output_type": "display_data"
    },
    {
     "name": "stdout",
     "output_type": "stream",
     "text": [
      "Random state:\t 69\n",
      "Best parameters: {'C': 1.0, 'gamma': 1.0}\n",
      "Max opt. balanced accuracy: 0.600\n",
      "Avg. balanced accuracy:     0.576\n",
      "Normalized Confusion Matrix\n",
      "[[0.75 0.06 0.19]\n",
      " [0.34 0.45 0.21]\n",
      " [0.29 0.18 0.53]]\n"
     ]
    },
    {
     "data": {
      "text/html": [
       "\n",
       "                <audio controls=\"controls\" autoplay=\"autoplay\">\n",
       "                    <source src=\"./data/ping.wav\" type=\"audio/x-wav\" />\n",
       "                    Your browser does not support the audio element.\n",
       "                </audio>\n",
       "              "
      ],
      "text/plain": [
       "<IPython.lib.display.Audio object>"
      ]
     },
     "metadata": {},
     "output_type": "display_data"
    },
    {
     "data": {
      "text/plain": [
       "0.575895875591616"
      ]
     },
     "execution_count": 56,
     "metadata": {},
     "output_type": "execute_result"
    }
   ],
   "source": [
    "# All product use categories\n",
    "blt.model_opt_exe(classifier='svc', \n",
    "                  aug_type='none', \n",
    "                  k=0, \n",
    "                  feat_data=X_enm.iloc[:,20:36], \n",
    "                  bin_data=bin_enm, \n",
    "                  seed=69, \n",
    "                  save_fig_name='enm_only_puc', \n",
    "                  show_opt_plot=True, \n",
    "                  param_grid=param_grid)"
   ]
  },
  {
   "cell_type": "code",
   "execution_count": 57,
   "metadata": {
    "ExecuteTime": {
     "end_time": "2019-07-23T07:30:36.361980Z",
     "start_time": "2019-07-23T07:30:30.563853Z"
    }
   },
   "outputs": [
    {
     "name": "stdout",
     "output_type": "stream",
     "text": [
      "Random state:\t 69\n",
      "Best parameters: {'C': 0.31622776601683794, 'gamma': 1.0}\n",
      "Max opt. balanced accuracy: 0.539\n",
      "Avg. balanced accuracy:     0.523\n",
      "Normalized Confusion Matrix\n",
      "[[0.75 0.06 0.19]\n",
      " [0.34 0.17 0.48]\n",
      " [0.18 0.18 0.65]]\n"
     ]
    },
    {
     "data": {
      "text/html": [
       "\n",
       "                <audio controls=\"controls\" autoplay=\"autoplay\">\n",
       "                    <source src=\"./data/ping.wav\" type=\"audio/x-wav\" />\n",
       "                    Your browser does not support the audio element.\n",
       "                </audio>\n",
       "              "
      ],
      "text/plain": [
       "<IPython.lib.display.Audio object>"
      ]
     },
     "metadata": {},
     "output_type": "display_data"
    },
    {
     "data": {
      "text/plain": [
       "0.5231575388776201"
      ]
     },
     "execution_count": 57,
     "metadata": {},
     "output_type": "execute_result"
    }
   ],
   "source": [
    "# General product use categories\n",
    "blt.model_opt_exe(classifier='svc', \n",
    "                  aug_type='none', \n",
    "                  k=0, \n",
    "                  feat_data=X_enm.iloc[:,20:27], \n",
    "                  bin_data=bin_enm,\n",
    "                  seed=69, \n",
    "                  save_fig_name='enm_only_puc',\n",
    "                  show_opt_plot=False,\n",
    "                  param_grid=param_grid)"
   ]
  },
  {
   "cell_type": "code",
   "execution_count": 58,
   "metadata": {
    "ExecuteTime": {
     "end_time": "2019-07-23T07:31:37.423104Z",
     "start_time": "2019-07-23T07:31:31.896012Z"
    }
   },
   "outputs": [
    {
     "name": "stdout",
     "output_type": "stream",
     "text": [
      "Random state:\t 69\n",
      "Best parameters: {'C': 3.1622776601683795, 'gamma': 0.1}\n",
      "Max opt. balanced accuracy: 0.539\n",
      "Avg. balanced accuracy:     0.522\n",
      "Normalized Confusion Matrix\n",
      "[[0.97 0.   0.03]\n",
      " [0.59 0.24 0.17]\n",
      " [0.59 0.06 0.35]]\n"
     ]
    },
    {
     "data": {
      "text/html": [
       "\n",
       "                <audio controls=\"controls\" autoplay=\"autoplay\">\n",
       "                    <source src=\"./data/ping.wav\" type=\"audio/x-wav\" />\n",
       "                    Your browser does not support the audio element.\n",
       "                </audio>\n",
       "              "
      ],
      "text/plain": [
       "<IPython.lib.display.Audio object>"
      ]
     },
     "metadata": {},
     "output_type": "display_data"
    },
    {
     "data": {
      "text/plain": [
       "0.522180903012546"
      ]
     },
     "execution_count": 58,
     "metadata": {},
     "output_type": "execute_result"
    }
   ],
   "source": [
    "# Product group categories\n",
    "blt.model_opt_exe(classifier='svc', \n",
    "                  aug_type='none', \n",
    "                  k=0,                  \n",
    "                  feat_data=X_enm.iloc[:,27:36], \n",
    "                  bin_data=bin_enm,\n",
    "                  seed=69, \n",
    "                  save_fig_name='enm_only_puc',\n",
    "                  show_opt_plot=False,\n",
    "                  param_grid=param_grid)"
   ]
  },
  {
   "cell_type": "markdown",
   "metadata": {},
   "source": [
    "##### Pchem-properties-only"
   ]
  },
  {
   "cell_type": "code",
   "execution_count": 60,
   "metadata": {
    "ExecuteTime": {
     "end_time": "2019-07-23T07:32:43.323123Z",
     "start_time": "2019-07-23T07:32:35.858010Z"
    }
   },
   "outputs": [
    {
     "data": {
      "image/png": "[encoded data removed]",
      "text/plain": [
       "<Figure size 432x288 with 2 Axes>"
      ]
     },
     "metadata": {
      "needs_background": "light"
     },
     "output_type": "display_data"
    },
    {
     "name": "stdout",
     "output_type": "stream",
     "text": [
      "Random state:\t 69\n",
      "Best parameters: {'C': 1.0, 'gamma': 10.0}\n",
      "Max opt. balanced accuracy: 0.608\n",
      "Avg. balanced accuracy:     0.614\n",
      "Normalized Confusion Matrix\n",
      "[[0.86 0.06 0.08]\n",
      " [0.45 0.28 0.28]\n",
      " [0.18 0.12 0.71]]\n"
     ]
    },
    {
     "data": {
      "text/html": [
       "\n",
       "                <audio controls=\"controls\" autoplay=\"autoplay\">\n",
       "                    <source src=\"./data/ping.wav\" type=\"audio/x-wav\" />\n",
       "                    Your browser does not support the audio element.\n",
       "                </audio>\n",
       "              "
      ],
      "text/plain": [
       "<IPython.lib.display.Audio object>"
      ]
     },
     "metadata": {},
     "output_type": "display_data"
    },
    {
     "data": {
      "text/plain": [
       "0.6142851776726017"
      ]
     },
     "execution_count": 60,
     "metadata": {},
     "output_type": "execute_result"
    }
   ],
   "source": [
    "blt.model_opt_exe(classifier='svc', \n",
    "                  aug_type='none', \n",
    "                  k=0, \n",
    "                  feat_data=X_enm.iloc[:,:4], \n",
    "                  bin_data=bin_enm,\n",
    "                  seed=69, \n",
    "                  save_fig_name='enm_only_pchem',\n",
    "                  show_opt_plot=True, \n",
    "                  param_grid=param_grid)"
   ]
  },
  {
   "cell_type": "markdown",
   "metadata": {},
   "source": [
    "##### Matrix-properties-only"
   ]
  },
  {
   "cell_type": "code",
   "execution_count": 61,
   "metadata": {
    "ExecuteTime": {
     "end_time": "2019-07-23T07:33:22.550216Z",
     "start_time": "2019-07-23T07:33:17.280887Z"
    }
   },
   "outputs": [
    {
     "data": {
      "image/png": "[encoded data removed]",
      "text/plain": [
       "<Figure size 432x288 with 2 Axes>"
      ]
     },
     "metadata": {
      "needs_background": "light"
     },
     "output_type": "display_data"
    },
    {
     "name": "stdout",
     "output_type": "stream",
     "text": [
      "Random state:\t 69\n",
      "Best parameters: {'C': 0.31622776601683794, 'gamma': 1.0}\n",
      "Max opt. balanced accuracy: 0.444\n",
      "Avg. balanced accuracy:     0.479\n",
      "Normalized Confusion Matrix\n",
      "[[0.5  0.14 0.36]\n",
      " [0.24 0.17 0.59]\n",
      " [0.18 0.06 0.76]]\n"
     ]
    },
    {
     "data": {
      "text/html": [
       "\n",
       "                <audio controls=\"controls\" autoplay=\"autoplay\">\n",
       "                    <source src=\"./data/ping.wav\" type=\"audio/x-wav\" />\n",
       "                    Your browser does not support the audio element.\n",
       "                </audio>\n",
       "              "
      ],
      "text/plain": [
       "<IPython.lib.display.Audio object>"
      ]
     },
     "metadata": {},
     "output_type": "display_data"
    },
    {
     "data": {
      "text/plain": [
       "0.4790398918187965"
      ]
     },
     "execution_count": 61,
     "metadata": {},
     "output_type": "execute_result"
    }
   ],
   "source": [
    "blt.model_opt_exe(classifier='svc', \n",
    "                  aug_type='none', \n",
    "                  k=0, \n",
    "                  feat_data=X_enm.iloc[:,36:], \n",
    "                  bin_data=bin_enm,\n",
    "                  seed=69, \n",
    "                  save_fig_name='enm_only_matrix',\n",
    "                  show_opt_plot=True,\n",
    "                  param_grid=param_grid)"
   ]
  },
  {
   "cell_type": "markdown",
   "metadata": {},
   "source": [
    "## Organics-only"
   ]
  },
  {
   "cell_type": "code",
   "execution_count": null,
   "metadata": {},
   "outputs": [],
   "source": [
    "# Run model_opt_exe on clustered organics-only data\n",
    "param_grid = {'estimator__C': np.logspace(-1,7,9), \n",
    "              'estimator__gamma': np.logspace(-7,1,9)\n",
    "             }\n",
    "blt.model_opt_exe(classifier='svc', \n",
    "                  aug_type='none', \n",
    "                  k=0, \n",
    "                  feat_data=X_source, \n",
    "                  bin_data=bin_source, \n",
    "                  show_opt_plot=True, param_grid=param_grid)"
   ]
  },
  {
   "cell_type": "code",
   "execution_count": 122,
   "metadata": {
    "ExecuteTime": {
     "end_time": "2019-07-28T11:50:18.729710Z",
     "start_time": "2019-07-23T14:13:43.046559Z"
    }
   },
   "outputs": [
    {
     "data": {
      "image/png": "[encoded data removed]",
      "text/plain": [
       "<Figure size 432x288 with 2 Axes>"
      ]
     },
     "metadata": {
      "needs_background": "light"
     },
     "output_type": "display_data"
    },
    {
     "name": "stdout",
     "output_type": "stream",
     "text": [
      "Random state:\t 65\n",
      "Best parameters: {'C': 1000.0, 'gamma': 1.0}\n",
      "Max opt. balanced accuracy: 0.808\n",
      "Avg. balanced accuracy:     0.807\n",
      "Normalized Confusion Matrix\n",
      "[[0.87 0.11 0.02]\n",
      " [0.12 0.72 0.17]\n",
      " [0.02 0.14 0.84]]\n"
     ]
    },
    {
     "data": {
      "text/plain": [
       "0.807498632512841"
      ]
     },
     "execution_count": 122,
     "metadata": {},
     "output_type": "execute_result"
    }
   ],
   "source": [
    "# Run model_opt_exe on clustered organics-only data\n",
    "param_grid = {'estimator__C': np.logspace(-1,7,9), \n",
    "              'estimator__gamma': np.logspace(-7,1,9)\n",
    "             }\n",
    "blt.model_opt_exe(classifier='svc', \n",
    "                  aug_type='none', \n",
    "                  k=0, \n",
    "                  feat_data=X_source, \n",
    "                  bin_data=bin_source, \n",
    "                  show_opt_plot=True, param_grid=param_grid)"
   ]
  },
  {
   "cell_type": "code",
   "execution_count": 45,
   "metadata": {
    "ExecuteTime": {
     "end_time": "2019-09-26T19:37:50.104891Z",
     "start_time": "2019-09-26T11:02:07.430257Z"
    }
   },
   "outputs": [
    {
     "data": {
      "text/html": [
       "\n",
       "                <audio controls=\"controls\" autoplay=\"autoplay\">\n",
       "                    <source src=\"./data/ping.wav\" type=\"audio/x-wav\" />\n",
       "                    Your browser does not support the audio element.\n",
       "                </audio>\n",
       "              "
      ],
      "text/plain": [
       "<IPython.lib.display.Audio object>"
      ]
     },
     "metadata": {},
     "output_type": "display_data"
    },
    {
     "data": {
      "text/html": [
       "\n",
       "                <audio controls=\"controls\" autoplay=\"autoplay\">\n",
       "                    <source src=\"./data/ping.wav\" type=\"audio/x-wav\" />\n",
       "                    Your browser does not support the audio element.\n",
       "                </audio>\n",
       "              "
      ],
      "text/plain": [
       "<IPython.lib.display.Audio object>"
      ]
     },
     "metadata": {},
     "output_type": "display_data"
    },
    {
     "data": {
      "text/html": [
       "\n",
       "                <audio controls=\"controls\" autoplay=\"autoplay\">\n",
       "                    <source src=\"./data/ping.wav\" type=\"audio/x-wav\" />\n",
       "                    Your browser does not support the audio element.\n",
       "                </audio>\n",
       "              "
      ],
      "text/plain": [
       "<IPython.lib.display.Audio object>"
      ]
     },
     "metadata": {},
     "output_type": "display_data"
    },
    {
     "data": {
      "text/html": [
       "\n",
       "                <audio controls=\"controls\" autoplay=\"autoplay\">\n",
       "                    <source src=\"./data/ping.wav\" type=\"audio/x-wav\" />\n",
       "                    Your browser does not support the audio element.\n",
       "                </audio>\n",
       "              "
      ],
      "text/plain": [
       "<IPython.lib.display.Audio object>"
      ]
     },
     "metadata": {},
     "output_type": "display_data"
    },
    {
     "data": {
      "text/html": [
       "\n",
       "                <audio controls=\"controls\" autoplay=\"autoplay\">\n",
       "                    <source src=\"./data/ping.wav\" type=\"audio/x-wav\" />\n",
       "                    Your browser does not support the audio element.\n",
       "                </audio>\n",
       "              "
      ],
      "text/plain": [
       "<IPython.lib.display.Audio object>"
      ]
     },
     "metadata": {},
     "output_type": "display_data"
    },
    {
     "data": {
      "text/html": [
       "\n",
       "                <audio controls=\"controls\" autoplay=\"autoplay\">\n",
       "                    <source src=\"./data/ping.wav\" type=\"audio/x-wav\" />\n",
       "                    Your browser does not support the audio element.\n",
       "                </audio>\n",
       "              "
      ],
      "text/plain": [
       "<IPython.lib.display.Audio object>"
      ]
     },
     "metadata": {},
     "output_type": "display_data"
    },
    {
     "data": {
      "text/html": [
       "\n",
       "                <audio controls=\"controls\" autoplay=\"autoplay\">\n",
       "                    <source src=\"./data/ping.wav\" type=\"audio/x-wav\" />\n",
       "                    Your browser does not support the audio element.\n",
       "                </audio>\n",
       "              "
      ],
      "text/plain": [
       "<IPython.lib.display.Audio object>"
      ]
     },
     "metadata": {},
     "output_type": "display_data"
    },
    {
     "data": {
      "text/html": [
       "\n",
       "                <audio controls=\"controls\" autoplay=\"autoplay\">\n",
       "                    <source src=\"./data/ping.wav\" type=\"audio/x-wav\" />\n",
       "                    Your browser does not support the audio element.\n",
       "                </audio>\n",
       "              "
      ],
      "text/plain": [
       "<IPython.lib.display.Audio object>"
      ]
     },
     "metadata": {},
     "output_type": "display_data"
    },
    {
     "data": {
      "text/html": [
       "\n",
       "                <audio controls=\"controls\" autoplay=\"autoplay\">\n",
       "                    <source src=\"./data/ping.wav\" type=\"audio/x-wav\" />\n",
       "                    Your browser does not support the audio element.\n",
       "                </audio>\n",
       "              "
      ],
      "text/plain": [
       "<IPython.lib.display.Audio object>"
      ]
     },
     "metadata": {},
     "output_type": "display_data"
    },
    {
     "data": {
      "text/html": [
       "\n",
       "                <audio controls=\"controls\" autoplay=\"autoplay\">\n",
       "                    <source src=\"./data/ping.wav\" type=\"audio/x-wav\" />\n",
       "                    Your browser does not support the audio element.\n",
       "                </audio>\n",
       "              "
      ],
      "text/plain": [
       "<IPython.lib.display.Audio object>"
      ]
     },
     "metadata": {},
     "output_type": "display_data"
    },
    {
     "name": "stdout",
     "output_type": "stream",
     "text": [
      "Avg accuracy:     0.6284295249312917\n",
      "StdDev accuracy:  0.048662406675545285\n",
      "Numer of trials:  10\n",
      "Results:  [0.67 0.65 0.71 0.71 0.62 0.59 0.6  0.58 0.58 0.58]\n"
     ]
    }
   ],
   "source": [
    "# TODO: why does this error?\n",
    "# Run randomly sampled organics data (equivalent of ENM:organics ratio of 1:10)\n",
    "# over multiple trials\n",
    "from sklearn.model_selection import train_test_split\n",
    "\n",
    "num_trials = 10\n",
    "seed_set = np.random.choice(np.arange(0,100), size=num_trials, replace=False)\n",
    "param_grid = {'estimator__C': np.logspace(-1,7,9), \n",
    "              'estimator__gamma': np.logspace(-7,1,9)\n",
    "             }\n",
    "\n",
    "results_trial = np.empty(seed_set.size)\n",
    "for idx, s in enumerate(seed_set):\n",
    "    with blt.HiddenPrints():\n",
    "        # Randomly sample organics data using stratification\n",
    "        X_dud, X_10, y_dud, bin_10 = train_test_split(X_source, \n",
    "                                                      bin_source, \n",
    "                                                      test_size=902, \n",
    "                                                      random_state=s, \n",
    "                                                      shuffle=True, \n",
    "                                                      stratify=bin_source)\n",
    "        # Run model pipeline on sampled data\n",
    "        results_trial[idx] = blt.model_opt_exe(classifier='svc', \n",
    "                                               aug_type='none', \n",
    "                                               k=0, \n",
    "                                               feat_data=X_10, \n",
    "                                               bin_data=bin_10, \n",
    "                                               param_grid=param_grid)\n",
    "\n",
    "print(\"Avg accuracy:    \", results_trial.mean())\n",
    "print(\"StdDev accuracy: \", results_trial.std())\n",
    "print(\"Numer of trials: \", num_trials)\n",
    "print(\"Results: \", results_trial)"
   ]
  },
  {
   "cell_type": "code",
   "execution_count": 130,
   "metadata": {
    "ExecuteTime": {
     "end_time": "2019-07-31T20:10:05.443896Z",
     "start_time": "2019-07-31T19:56:51.274843Z"
    }
   },
   "outputs": [
    {
     "name": "stdout",
     "output_type": "stream",
     "text": [
      "Avg accuracy:     0.6756017665467521\n",
      "StdDev accuracy:  0.016452773436738944\n",
      "Numer of trials:  3\n",
      "Results:  [0.65 0.69 0.68]\n"
     ]
    }
   ],
   "source": [
    "# TODO: why does this error?\n",
    "# Run randomly sampled organics data (equivalent of ENM:organics ratio of 1:10)\n",
    "# over multiple trials\n",
    "from sklearn.model_selection import train_test_split\n",
    "\n",
    "num_trials = 3\n",
    "seed_set = np.random.choice(np.arange(0,100), size=num_trials, replace=False)\n",
    "param_grid = {'estimator__C': np.logspace(-1,7,9), \n",
    "              'estimator__gamma': np.logspace(-7,1,9)\n",
    "             }\n",
    "\n",
    "results_trial = np.empty(seed_set.size)\n",
    "for idx, s in enumerate(seed_set):\n",
    "    with blt.HiddenPrints():\n",
    "        # Randomly sample organics data using stratification\n",
    "        X_dud, X_10, y_dud, bin_10 = train_test_split(X_source, \n",
    "                                                      bin_source, \n",
    "                                                      test_size=902, \n",
    "                                                      random_state=s, \n",
    "                                                      shuffle=True, \n",
    "                                                      stratify=bin_source)\n",
    "        # Run model pipeline on sampled data\n",
    "        results_trial[idx] = blt.model_opt_exe(classifier='svc', \n",
    "                                               aug_type='none', \n",
    "                                               k=0, \n",
    "                                               feat_data=X_10, \n",
    "                                               bin_data=bin_10, \n",
    "                                               param_grid=param_grid)\n",
    "\n",
    "print(\"Avg accuracy:    \", results_trial.mean())\n",
    "print(\"StdDev accuracy: \", results_trial.std())\n",
    "print(\"Numer of trials: \", num_trials)\n",
    "print(\"Results: \", results_trial)"
   ]
  },
  {
   "cell_type": "markdown",
   "metadata": {},
   "source": [
    "## Randomly augmented data"
   ]
  },
  {
   "cell_type": "markdown",
   "metadata": {},
   "source": [
    "The remaining models use augmented training data."
   ]
  },
  {
   "cell_type": "code",
   "execution_count": 322,
   "metadata": {
    "ExecuteTime": {
     "end_time": "2019-08-02T02:14:58.288332Z",
     "start_time": "2019-08-02T02:11:49.052434Z"
    }
   },
   "outputs": [
    {
     "name": "stdout",
     "output_type": "stream",
     "text": [
      "Avg accuracy:     0.587\n",
      "Median accuracy:  0.584\n",
      "StdDev accuracy:  0.025\n",
      "Numer of trials:  30\n"
     ]
    },
    {
     "data": {
      "text/html": [
       "\n",
       "                <audio controls=\"controls\" autoplay=\"autoplay\">\n",
       "                    <source src=\"./data/ping.wav\" type=\"audio/x-wav\" />\n",
       "                    Your browser does not support the audio element.\n",
       "                </audio>\n",
       "              "
      ],
      "text/plain": [
       "<IPython.lib.display.Audio object>"
      ]
     },
     "metadata": {},
     "output_type": "display_data"
    }
   ],
   "source": [
    "# 1:1 ENM:Organics ratio\n",
    "model_params = {'classifier': 'svc', \n",
    "                'aug_type': 'random', \n",
    "                'k': 1, \n",
    "                'feat_data': X_enm, \n",
    "                'bin_data': bin_enm, \n",
    "                'param_grid': {'estimator__C': np.logspace(-1,7,9), \n",
    "                               'estimator__gamma': np.logspace(-7,1,9)}\n",
    "               }\n",
    "results_svc.iloc[2,1:3] = blt.multi_trials(num_trials=30, \n",
    "                                           model_params=model_params)"
   ]
  },
  {
   "cell_type": "code",
   "execution_count": 186,
   "metadata": {
    "ExecuteTime": {
     "end_time": "2019-07-31T23:18:55.875852Z",
     "start_time": "2019-07-31T23:15:50.744287Z"
    }
   },
   "outputs": [
    {
     "name": "stdout",
     "output_type": "stream",
     "text": [
      "Avg accuracy:     0.59\n",
      "Median accuracy:  0.588\n",
      "StdDev accuracy:  0.035\n",
      "Numer of trials:  10\n"
     ]
    },
    {
     "data": {
      "text/html": [
       "\n",
       "                <audio controls=\"controls\" autoplay=\"autoplay\">\n",
       "                    <source src=\"./data/ping.wav\" type=\"audio/x-wav\" />\n",
       "                    Your browser does not support the audio element.\n",
       "                </audio>\n",
       "              "
      ],
      "text/plain": [
       "<IPython.lib.display.Audio object>"
      ]
     },
     "metadata": {},
     "output_type": "display_data"
    }
   ],
   "source": [
    "# 1:2 ENM:Organics ratio\n",
    "model_params = {'classifier': 'svc', \n",
    "                'aug_type': 'random', \n",
    "                'k': 2, \n",
    "                'feat_data': X_enm, \n",
    "                'bin_data': bin_enm, \n",
    "                'param_grid': {'estimator__C': np.logspace(-1,7,9), \n",
    "                               'estimator__gamma': np.logspace(-7,1,9)}\n",
    "               }\n",
    "results_svc.iloc[3,1:3] = blt.multi_trials(num_trials=10, \n",
    "                                            model_params=model_params)"
   ]
  },
  {
   "cell_type": "code",
   "execution_count": 277,
   "metadata": {
    "ExecuteTime": {
     "end_time": "2019-08-02T00:25:27.767526Z",
     "start_time": "2019-08-02T00:20:04.877083Z"
    }
   },
   "outputs": [
    {
     "name": "stdout",
     "output_type": "stream",
     "text": [
      "Avg accuracy:     0.581\n",
      "Median accuracy:  0.59\n",
      "StdDev accuracy:  0.023\n",
      "Numer of trials:  10\n"
     ]
    },
    {
     "data": {
      "text/html": [
       "\n",
       "                <audio controls=\"controls\" autoplay=\"autoplay\">\n",
       "                    <source src=\"./data/ping.wav\" type=\"audio/x-wav\" />\n",
       "                    Your browser does not support the audio element.\n",
       "                </audio>\n",
       "              "
      ],
      "text/plain": [
       "<IPython.lib.display.Audio object>"
      ]
     },
     "metadata": {},
     "output_type": "display_data"
    }
   ],
   "source": [
    "# 1:3 ENM:Organics ratio\n",
    "model_params = {'classifier': 'svc', \n",
    "                'aug_type': 'random', \n",
    "                'k': 3, \n",
    "                'feat_data': X_enm, \n",
    "                'bin_data': bin_enm, \n",
    "                'param_grid': {'estimator__C': np.logspace(-1,7,9), \n",
    "                               'estimator__gamma': np.logspace(-7,1,9)}\n",
    "               }\n",
    "results_svc.iloc[4,1:3] = blt.multi_trials(num_trials=10, \n",
    "                                            model_params=model_params)"
   ]
  },
  {
   "cell_type": "code",
   "execution_count": 79,
   "metadata": {
    "ExecuteTime": {
     "end_time": "2019-08-04T08:20:28.749650Z",
     "start_time": "2019-08-04T07:55:56.932484Z"
    }
   },
   "outputs": [
    {
     "name": "stdout",
     "output_type": "stream",
     "text": [
      "Avg accuracy:     0.587\n",
      "Median accuracy:  0.591\n",
      "StdDev accuracy:  0.031\n",
      "Numer of trials:  30\n"
     ]
    },
    {
     "data": {
      "text/html": [
       "\n",
       "                <audio controls=\"controls\" autoplay=\"autoplay\">\n",
       "                    <source src=\"./data/ping.wav\" type=\"audio/x-wav\" />\n",
       "                    Your browser does not support the audio element.\n",
       "                </audio>\n",
       "              "
      ],
      "text/plain": [
       "<IPython.lib.display.Audio object>"
      ]
     },
     "metadata": {},
     "output_type": "display_data"
    }
   ],
   "source": [
    "# 1:4 ENM:Organics ratio\n",
    "model_params = {'classifier': 'svc', \n",
    "                'aug_type': 'random', \n",
    "                'k': 4, \n",
    "                'feat_data': X_enm, \n",
    "                'bin_data': bin_enm, \n",
    "                'param_grid': {'estimator__C': np.logspace(-1,7,9), \n",
    "                               'estimator__gamma': np.logspace(-7,1,9)}\n",
    "               }\n",
    "results_svc.iloc[5,1:3] = blt.multi_trials(num_trials=30, \n",
    "                                            model_params=model_params)"
   ]
  },
  {
   "cell_type": "code",
   "execution_count": 187,
   "metadata": {
    "ExecuteTime": {
     "end_time": "2019-07-31T23:51:49.376866Z",
     "start_time": "2019-07-31T23:21:17.351602Z"
    }
   },
   "outputs": [
    {
     "name": "stdout",
     "output_type": "stream",
     "text": [
      "Avg accuracy:     0.584\n",
      "Median accuracy:  0.577\n",
      "StdDev accuracy:  0.023\n",
      "Numer of trials:  10\n"
     ]
    },
    {
     "data": {
      "text/html": [
       "\n",
       "                <audio controls=\"controls\" autoplay=\"autoplay\">\n",
       "                    <source src=\"./data/ping.wav\" type=\"audio/x-wav\" />\n",
       "                    Your browser does not support the audio element.\n",
       "                </audio>\n",
       "              "
      ],
      "text/plain": [
       "<IPython.lib.display.Audio object>"
      ]
     },
     "metadata": {},
     "output_type": "display_data"
    }
   ],
   "source": [
    "# 1:5 ENM:Organics ratio\n",
    "model_params = {'classifier': 'svc', \n",
    "                'aug_type': 'random', \n",
    "                'k': 5, \n",
    "                'feat_data': X_enm, \n",
    "                'bin_data': bin_enm, \n",
    "                'param_grid': {'estimator__C': np.logspace(-1,7,9), \n",
    "                               'estimator__gamma': np.logspace(-7,1,9)}\n",
    "               }\n",
    "results_svc.iloc[6,1:3] = blt.multi_trials(num_trials=10, \n",
    "                                            model_params=model_params)"
   ]
  },
  {
   "cell_type": "code",
   "execution_count": 60,
   "metadata": {
    "ExecuteTime": {
     "end_time": "2019-08-01T06:54:50.743279Z",
     "start_time": "2019-08-01T06:04:36.369573Z"
    }
   },
   "outputs": [
    {
     "name": "stdout",
     "output_type": "stream",
     "text": [
      "Avg accuracy:     0.59\n",
      "Median accuracy:  0.594\n",
      "StdDev accuracy:  0.023\n",
      "Numer of trials:  10\n"
     ]
    },
    {
     "data": {
      "text/html": [
       "\n",
       "                <audio controls=\"controls\" autoplay=\"autoplay\">\n",
       "                    <source src=\"./data/ping.wav\" type=\"audio/x-wav\" />\n",
       "                    Your browser does not support the audio element.\n",
       "                </audio>\n",
       "              "
      ],
      "text/plain": [
       "<IPython.lib.display.Audio object>"
      ]
     },
     "metadata": {},
     "output_type": "display_data"
    }
   ],
   "source": [
    "# 1:10 ENM:Organics ratio\n",
    "model_params = {'classifier': 'svc', \n",
    "                'aug_type': 'random', \n",
    "                'k': 10, \n",
    "                'feat_data': X_enm, \n",
    "                'bin_data': bin_enm, \n",
    "                'param_grid': {'estimator__C': np.logspace(-1,7,9), \n",
    "                               'estimator__gamma': np.logspace(-7,1,9)}\n",
    "               }\n",
    "results_svc.iloc[7,1:3] = blt.multi_trials(num_trials=10, \n",
    "                                            model_params=model_params)"
   ]
  },
  {
   "cell_type": "code",
   "execution_count": 262,
   "metadata": {
    "ExecuteTime": {
     "end_time": "2019-08-01T22:57:35.156700Z",
     "start_time": "2019-08-01T15:18:19.697858Z"
    }
   },
   "outputs": [
    {
     "name": "stdout",
     "output_type": "stream",
     "text": [
      "Avg accuracy:     0.566\n",
      "Median accuracy:  0.568\n",
      "StdDev accuracy:  0.022\n",
      "Numer of trials:  10\n"
     ]
    },
    {
     "data": {
      "text/html": [
       "\n",
       "                <audio controls=\"controls\" autoplay=\"autoplay\">\n",
       "                    <source src=\"./data/ping.wav\" type=\"audio/x-wav\" />\n",
       "                    Your browser does not support the audio element.\n",
       "                </audio>\n",
       "              "
      ],
      "text/plain": [
       "<IPython.lib.display.Audio object>"
      ]
     },
     "metadata": {},
     "output_type": "display_data"
    }
   ],
   "source": [
    "# 1:20 ENM:Organics ratio\n",
    "model_params = {'classifier': 'svc', \n",
    "                'aug_type': 'random', \n",
    "                'k': 20, \n",
    "                'feat_data': X_enm, \n",
    "                'bin_data': bin_enm, \n",
    "                'param_grid': {'estimator__C': np.logspace(-1,7,9), \n",
    "                               'estimator__gamma': np.logspace(-7,1,9)}\n",
    "               }\n",
    "results_svc.iloc[8,1:3] = blt.multi_trials(num_trials=10, \n",
    "                                            model_params=model_params)"
   ]
  },
  {
   "cell_type": "markdown",
   "metadata": {},
   "source": [
    "## Matching (unsupervised) augmented data"
   ]
  },
  {
   "cell_type": "code",
   "execution_count": 97,
   "metadata": {
    "ExecuteTime": {
     "end_time": "2019-08-01T09:07:04.070383Z",
     "start_time": "2019-08-01T09:04:54.065460Z"
    }
   },
   "outputs": [
    {
     "name": "stdout",
     "output_type": "stream",
     "text": [
      "Avg accuracy:     0.568\n",
      "Median accuracy:  0.565\n",
      "StdDev accuracy:  0.019\n",
      "Numer of trials:  30\n"
     ]
    },
    {
     "data": {
      "text/html": [
       "\n",
       "                <audio controls=\"controls\" autoplay=\"autoplay\">\n",
       "                    <source src=\"./data/ping.wav\" type=\"audio/x-wav\" />\n",
       "                    Your browser does not support the audio element.\n",
       "                </audio>\n",
       "              "
      ],
      "text/plain": [
       "<IPython.lib.display.Audio object>"
      ]
     },
     "metadata": {},
     "output_type": "display_data"
    }
   ],
   "source": [
    "# 1:1 ENM:Organics ratio\n",
    "model_params = {'classifier': 'svc', \n",
    "                'aug_type': 'uns_match', \n",
    "                'k': 1, \n",
    "                'feat_data': X_enm, \n",
    "                'bin_data': bin_enm, \n",
    "                'param_grid': {'estimator__C': np.logspace(-1,7,9), \n",
    "                               'estimator__gamma': np.logspace(-7,1,9)}\n",
    "               }\n",
    "results_svc.iloc[2,3:5] = blt.multi_trials(num_trials=30, \n",
    "                                            model_params=model_params)"
   ]
  },
  {
   "cell_type": "code",
   "execution_count": 268,
   "metadata": {
    "ExecuteTime": {
     "end_time": "2019-08-01T23:25:25.951109Z",
     "start_time": "2019-08-01T23:21:40.912970Z"
    }
   },
   "outputs": [
    {
     "name": "stdout",
     "output_type": "stream",
     "text": [
      "Avg accuracy:     0.585\n",
      "Median accuracy:  0.583\n",
      "StdDev accuracy:  0.02\n",
      "Numer of trials:  30\n"
     ]
    },
    {
     "data": {
      "text/html": [
       "\n",
       "                <audio controls=\"controls\" autoplay=\"autoplay\">\n",
       "                    <source src=\"./data/ping.wav\" type=\"audio/x-wav\" />\n",
       "                    Your browser does not support the audio element.\n",
       "                </audio>\n",
       "              "
      ],
      "text/plain": [
       "<IPython.lib.display.Audio object>"
      ]
     },
     "metadata": {},
     "output_type": "display_data"
    }
   ],
   "source": [
    "# 1:2 ENM:Organics ratio\n",
    "model_params = {'classifier': 'svc', \n",
    "                'aug_type': 'uns_match', \n",
    "                'k': 2, \n",
    "                'feat_data': X_enm, \n",
    "                'bin_data': bin_enm, \n",
    "                'param_grid': {'estimator__C': np.logspace(-1,7,9), \n",
    "                               'estimator__gamma': np.logspace(-7,1,9)}\n",
    "               }\n",
    "results_svc.iloc[3,3:5] = blt.multi_trials(num_trials=30, \n",
    "                                           model_params=model_params)"
   ]
  },
  {
   "cell_type": "code",
   "execution_count": 267,
   "metadata": {
    "ExecuteTime": {
     "end_time": "2019-08-01T23:21:40.910545Z",
     "start_time": "2019-08-01T23:15:49.213114Z"
    }
   },
   "outputs": [
    {
     "name": "stdout",
     "output_type": "stream",
     "text": [
      "Avg accuracy:     0.6\n",
      "Median accuracy:  0.602\n",
      "StdDev accuracy:  0.017\n",
      "Numer of trials:  30\n"
     ]
    },
    {
     "data": {
      "text/html": [
       "\n",
       "                <audio controls=\"controls\" autoplay=\"autoplay\">\n",
       "                    <source src=\"./data/ping.wav\" type=\"audio/x-wav\" />\n",
       "                    Your browser does not support the audio element.\n",
       "                </audio>\n",
       "              "
      ],
      "text/plain": [
       "<IPython.lib.display.Audio object>"
      ]
     },
     "metadata": {},
     "output_type": "display_data"
    }
   ],
   "source": [
    "# 1:3 ENM:Organics ratio\n",
    "model_params = {'classifier': 'svc', \n",
    "                'aug_type': 'uns_match', \n",
    "                'k': 3, \n",
    "                'feat_data': X_enm, \n",
    "                'bin_data': bin_enm, \n",
    "                'param_grid': {'estimator__C': np.logspace(-1,7,9), \n",
    "                               'estimator__gamma': np.logspace(-7,1,9)}\n",
    "               }\n",
    "results_svc.iloc[4,3:5] = blt.multi_trials(num_trials=30, \n",
    "                                            model_params=model_params)"
   ]
  },
  {
   "cell_type": "code",
   "execution_count": 271,
   "metadata": {
    "ExecuteTime": {
     "end_time": "2019-08-02T00:07:26.133788Z",
     "start_time": "2019-08-01T23:59:45.341798Z"
    }
   },
   "outputs": [
    {
     "name": "stdout",
     "output_type": "stream",
     "text": [
      "Avg accuracy:     0.603\n",
      "Median accuracy:  0.601\n",
      "StdDev accuracy:  0.019\n",
      "Numer of trials:  30\n"
     ]
    },
    {
     "data": {
      "text/html": [
       "\n",
       "                <audio controls=\"controls\" autoplay=\"autoplay\">\n",
       "                    <source src=\"./data/ping.wav\" type=\"audio/x-wav\" />\n",
       "                    Your browser does not support the audio element.\n",
       "                </audio>\n",
       "              "
      ],
      "text/plain": [
       "<IPython.lib.display.Audio object>"
      ]
     },
     "metadata": {},
     "output_type": "display_data"
    }
   ],
   "source": [
    "# 1:4 ENM:Organics ratio\n",
    "model_params = {'classifier': 'svc', \n",
    "                'aug_type': 'uns_match', \n",
    "                'k': 4, \n",
    "                'feat_data': X_enm, \n",
    "                'bin_data': bin_enm, \n",
    "                'param_grid': {'estimator__C': np.logspace(-1,7,9), \n",
    "                               'estimator__gamma': np.logspace(-7,1,9)}\n",
    "               }\n",
    "results_svc.iloc[5,3:5] = blt.multi_trials(num_trials=30, \n",
    "                                            model_params=model_params)"
   ]
  },
  {
   "cell_type": "code",
   "execution_count": 190,
   "metadata": {
    "ExecuteTime": {
     "end_time": "2019-08-01T01:08:58.536440Z",
     "start_time": "2019-08-01T01:04:54.515669Z"
    }
   },
   "outputs": [
    {
     "name": "stdout",
     "output_type": "stream",
     "text": [
      "Avg accuracy:     0.592\n",
      "Median accuracy:  0.592\n",
      "StdDev accuracy:  0.011\n",
      "Numer of trials:  10\n"
     ]
    },
    {
     "data": {
      "text/html": [
       "\n",
       "                <audio controls=\"controls\" autoplay=\"autoplay\">\n",
       "                    <source src=\"./data/ping.wav\" type=\"audio/x-wav\" />\n",
       "                    Your browser does not support the audio element.\n",
       "                </audio>\n",
       "              "
      ],
      "text/plain": [
       "<IPython.lib.display.Audio object>"
      ]
     },
     "metadata": {},
     "output_type": "display_data"
    }
   ],
   "source": [
    "# 1:5 ENM:Organics ratio\n",
    "model_params = {'classifier': 'svc', \n",
    "                'aug_type': 'uns_match', \n",
    "                'k': 5, \n",
    "                'feat_data': X_enm, \n",
    "                'bin_data': bin_enm, \n",
    "                'param_grid': {'estimator__C': np.logspace(-1,7,9), \n",
    "                               'estimator__gamma': np.logspace(-7,1,9)}\n",
    "               }\n",
    "results_svc.iloc[6,3:5] = blt.multi_trials(num_trials=10, \n",
    "                                            model_params=model_params)"
   ]
  },
  {
   "cell_type": "code",
   "execution_count": 41,
   "metadata": {
    "ExecuteTime": {
     "end_time": "2019-08-01T02:02:33.525498Z",
     "start_time": "2019-08-01T01:51:16.096698Z"
    }
   },
   "outputs": [
    {
     "name": "stdout",
     "output_type": "stream",
     "text": [
      "Avg accuracy:     0.603\n",
      "Median accuracy:  0.611\n",
      "StdDev accuracy:  0.023\n",
      "Numer of trials:  10\n"
     ]
    },
    {
     "data": {
      "text/html": [
       "\n",
       "                <audio controls=\"controls\" autoplay=\"autoplay\">\n",
       "                    <source src=\"./data/ping.wav\" type=\"audio/x-wav\" />\n",
       "                    Your browser does not support the audio element.\n",
       "                </audio>\n",
       "              "
      ],
      "text/plain": [
       "<IPython.lib.display.Audio object>"
      ]
     },
     "metadata": {},
     "output_type": "display_data"
    }
   ],
   "source": [
    "# 1:10 ENM:Organics ratio\n",
    "model_params = {'classifier': 'svc', \n",
    "                'aug_type': 'uns_match', \n",
    "                'k': 10, \n",
    "                'feat_data': X_enm, \n",
    "                'bin_data': bin_enm, \n",
    "                'use_balanced_accu': True, \n",
    "                'param_grid': {'estimator__C': np.logspace(-1,7,9), \n",
    "                               'estimator__gamma': np.logspace(-7,1,9)}\n",
    "               }\n",
    "results_svc.iloc[7,3:5] = blt.multi_trials(num_trials=10, \n",
    "                                            model_params=model_params)"
   ]
  },
  {
   "cell_type": "code",
   "execution_count": 59,
   "metadata": {
    "ExecuteTime": {
     "end_time": "2019-08-01T06:03:18.557135Z",
     "start_time": "2019-08-01T05:20:20.941682Z"
    }
   },
   "outputs": [
    {
     "name": "stdout",
     "output_type": "stream",
     "text": [
      "Avg accuracy:     0.6\n",
      "Median accuracy:  0.594\n",
      "StdDev accuracy:  0.02\n",
      "Numer of trials:  10\n"
     ]
    },
    {
     "data": {
      "text/html": [
       "\n",
       "                <audio controls=\"controls\" autoplay=\"autoplay\">\n",
       "                    <source src=\"./data/ping.wav\" type=\"audio/x-wav\" />\n",
       "                    Your browser does not support the audio element.\n",
       "                </audio>\n",
       "              "
      ],
      "text/plain": [
       "<IPython.lib.display.Audio object>"
      ]
     },
     "metadata": {},
     "output_type": "display_data"
    }
   ],
   "source": [
    "# 1:20 ENM:Organics ratio\n",
    "model_params = {'classifier': 'svc', \n",
    "                'aug_type': 'uns_match', \n",
    "                'k': 20, \n",
    "                'feat_data': X_enm, \n",
    "                'bin_data': bin_enm, \n",
    "                'use_balanced_accu': True, \n",
    "                'param_grid': {'estimator__C': np.logspace(-1,7,9), \n",
    "                               'estimator__gamma': np.logspace(-7,1,9)}\n",
    "               }\n",
    "results_svc.iloc[8,3:5] = blt.multi_trials(num_trials=10, \n",
    "                                            model_params=model_params)"
   ]
  },
  {
   "cell_type": "markdown",
   "metadata": {},
   "source": [
    "## Matching (supervised) augmented data"
   ]
  },
  {
   "cell_type": "code",
   "execution_count": 42,
   "metadata": {
    "ExecuteTime": {
     "end_time": "2019-09-26T09:53:10.725332Z",
     "start_time": "2019-09-26T09:52:15.282107Z"
    }
   },
   "outputs": [
    {
     "name": "stdout",
     "output_type": "stream",
     "text": [
      "Avg accuracy:     0.693\n",
      "Median accuracy:  0.692\n",
      "StdDev accuracy:  0.007\n",
      "Numer of trials:  3\n"
     ]
    },
    {
     "data": {
      "text/html": [
       "\n",
       "                <audio controls=\"controls\" autoplay=\"autoplay\">\n",
       "                    <source src=\"./data/ping.wav\" type=\"audio/x-wav\" />\n",
       "                    Your browser does not support the audio element.\n",
       "                </audio>\n",
       "              "
      ],
      "text/plain": [
       "<IPython.lib.display.Audio object>"
      ]
     },
     "metadata": {},
     "output_type": "display_data"
    }
   ],
   "source": [
    "# 1:1 ENM:Organics ratio\n",
    "model_params = {'classifier': 'svc', \n",
    "                'aug_type': 'sup_match', \n",
    "                'k': 1, \n",
    "                'feat_data': X_enm, \n",
    "                'bin_data': bin_enm, \n",
    "                'param_grid': {'estimator__C': np.logspace(-1,7,9), \n",
    "                               'estimator__gamma': np.logspace(-7,1,9)}\n",
    "               }\n",
    "results_svc.iloc[2,5:7] = blt.multi_trials(num_trials=30, \n",
    "                                            model_params=model_params)"
   ]
  },
  {
   "cell_type": "code",
   "execution_count": 43,
   "metadata": {
    "ExecuteTime": {
     "end_time": "2019-09-26T10:20:46.802686Z",
     "start_time": "2019-09-26T09:54:09.652162Z"
    }
   },
   "outputs": [
    {
     "name": "stdout",
     "output_type": "stream",
     "text": [
      "Avg accuracy:     0.699\n",
      "Median accuracy:  0.697\n",
      "StdDev accuracy:  0.008\n",
      "Numer of trials:  50\n",
      "Results:  [0.71, 0.7, 0.7, 0.7, 0.7, 0.71, 0.7, 0.7, 0.71, 0.69, 0.7, 0.7, 0.7, 0.71, 0.7, 0.71, 0.7, 0.7, 0.7, 0.7, 0.7, 0.68, 0.69, 0.7, 0.69, 0.7, 0.69, 0.7, 0.7, 0.7, 0.7, 0.7, 0.7, 0.72, 0.72, 0.73, 0.72, 0.69, 0.7, 0.7, 0.7, 0.7, 0.7, 0.7, 0.7, 0.7, 0.7, 0.7, 0.7, 0.71]\n"
     ]
    },
    {
     "data": {
      "text/html": [
       "\n",
       "                <audio controls=\"controls\" autoplay=\"autoplay\">\n",
       "                    <source src=\"./data/ping.wav\" type=\"audio/x-wav\" />\n",
       "                    Your browser does not support the audio element.\n",
       "                </audio>\n",
       "              "
      ],
      "text/plain": [
       "<IPython.lib.display.Audio object>"
      ]
     },
     "metadata": {},
     "output_type": "display_data"
    }
   ],
   "source": [
    "# 1:2 ENM:Organics ratio\n",
    "model_params = {'classifier': 'svc', \n",
    "                'aug_type': 'sup_match', \n",
    "                'k': 2, \n",
    "                'feat_data': X_enm, \n",
    "                'bin_data': bin_enm, \n",
    "                'param_grid': {'estimator__C': np.logspace(-1,7,9), \n",
    "                               'estimator__gamma': np.logspace(-7,1,9)}\n",
    "               }\n",
    "results_svc.iloc[3,5:7] = blt.multi_trials(num_trials=50, \n",
    "                                           print_results=True, \n",
    "                                           model_params=model_params)"
   ]
  },
  {
   "cell_type": "code",
   "execution_count": 44,
   "metadata": {
    "ExecuteTime": {
     "end_time": "2019-09-26T11:02:07.427641Z",
     "start_time": "2019-09-26T10:20:46.804696Z"
    }
   },
   "outputs": [
    {
     "name": "stdout",
     "output_type": "stream",
     "text": [
      "Avg accuracy:     0.705\n",
      "Median accuracy:  0.704\n",
      "StdDev accuracy:  0.011\n",
      "Numer of trials:  50\n",
      "Results:  [0.69, 0.7, 0.71, 0.72, 0.7, 0.71, 0.71, 0.71, 0.72, 0.7, 0.69, 0.69, 0.7, 0.71, 0.73, 0.71, 0.7, 0.71, 0.71, 0.72, 0.7, 0.7, 0.7, 0.72, 0.71, 0.7, 0.71, 0.7, 0.7, 0.73, 0.69, 0.71, 0.69, 0.7, 0.71, 0.69, 0.69, 0.7, 0.73, 0.71, 0.7, 0.71, 0.71, 0.68, 0.7, 0.71, 0.71, 0.7, 0.7, 0.7]\n"
     ]
    },
    {
     "data": {
      "text/html": [
       "\n",
       "                <audio controls=\"controls\" autoplay=\"autoplay\">\n",
       "                    <source src=\"./data/ping.wav\" type=\"audio/x-wav\" />\n",
       "                    Your browser does not support the audio element.\n",
       "                </audio>\n",
       "              "
      ],
      "text/plain": [
       "<IPython.lib.display.Audio object>"
      ]
     },
     "metadata": {},
     "output_type": "display_data"
    }
   ],
   "source": [
    "# 1:3 ENM:Organics ratio\n",
    "model_params = {'classifier': 'svc', \n",
    "                'aug_type': 'sup_match', \n",
    "                'k': 3, \n",
    "                'feat_data': X_enm, \n",
    "                'bin_data': bin_enm, \n",
    "                'param_grid': {'estimator__C': np.logspace(-1,7,9), \n",
    "                               'estimator__gamma': np.logspace(-7,1,9)}\n",
    "               }\n",
    "results_svc.iloc[4,5:7] = blt.multi_trials(num_trials=50, \n",
    "                                           print_results=True, \n",
    "                                           model_params=model_params)"
   ]
  },
  {
   "cell_type": "code",
   "execution_count": 33,
   "metadata": {
    "ExecuteTime": {
     "end_time": "2019-08-02T08:22:55.111463Z",
     "start_time": "2019-08-02T08:22:55.105823Z"
    }
   },
   "outputs": [],
   "source": [
    "match_distrib = [0.64, 0.64, 0.61, 0.58, 0.62, 0.61, 0.61, 0.63, 0.63, 0.62, \n",
    "                 0.61, 0.6, 0.66, 0.63, 0.66, 0.64, 0.61, 0.61, 0.61, 0.63, \n",
    "                 0.6, 0.61, 0.61, 0.61, 0.61, 0.62, 0.62, 0.59, 0.61, 0.58, \n",
    "                 0.63, 0.59, 0.58, 0.61, 0.61, 0.62, 0.61, 0.6, 0.56, 0.63, \n",
    "                 0.61, 0.62, 0.6, 0.57, 0.62, 0.6, 0.58, 0.61, 0.59, 0.61]"
   ]
  },
  {
   "cell_type": "code",
   "execution_count": 406,
   "metadata": {
    "ExecuteTime": {
     "end_time": "2019-08-02T04:52:37.874198Z",
     "start_time": "2019-08-02T04:40:42.841279Z"
    }
   },
   "outputs": [
    {
     "name": "stdout",
     "output_type": "stream",
     "text": [
      "Avg accuracy:     0.613\n",
      "Median accuracy:  0.611\n",
      "StdDev accuracy:  0.017\n",
      "Numer of trials:  50\n"
     ]
    },
    {
     "data": {
      "text/html": [
       "\n",
       "                <audio controls=\"controls\" autoplay=\"autoplay\">\n",
       "                    <source src=\"./data/ping.wav\" type=\"audio/x-wav\" />\n",
       "                    Your browser does not support the audio element.\n",
       "                </audio>\n",
       "              "
      ],
      "text/plain": [
       "<IPython.lib.display.Audio object>"
      ]
     },
     "metadata": {},
     "output_type": "display_data"
    }
   ],
   "source": [
    "# 1:4 ENM:Organics ratio\n",
    "model_params = {'classifier': 'svc', \n",
    "                'aug_type': 'sup_match', \n",
    "                'k': 4, \n",
    "                'feat_data': X_enm, \n",
    "                'bin_data': bin_enm, \n",
    "                'param_grid': {'estimator__C': np.logspace(-1,7,9), \n",
    "                               'estimator__gamma': np.logspace(-7,1,9)}\n",
    "               }\n",
    "results_svc.iloc[5,5:7] = blt.multi_trials(num_trials=50, print_results=True, \n",
    "                                           model_params=model_params)"
   ]
  },
  {
   "cell_type": "code",
   "execution_count": 459,
   "metadata": {
    "ExecuteTime": {
     "end_time": "2019-08-02T06:52:18.999141Z",
     "start_time": "2019-08-02T06:37:29.767262Z"
    }
   },
   "outputs": [
    {
     "name": "stdout",
     "output_type": "stream",
     "text": [
      "Avg accuracy:     0.608\n",
      "Median accuracy:  0.606\n",
      "StdDev accuracy:  0.02\n",
      "Numer of trials:  50\n",
      "Results:  [0.61, 0.66, 0.61, 0.6, 0.63, 0.64, 0.59, 0.6, 0.62, 0.57, 0.62, 0.59, 0.6, 0.63, 0.6, 0.61, 0.59, 0.58, 0.6, 0.59, 0.6, 0.6, 0.59, 0.65, 0.61, 0.62, 0.59, 0.61, 0.61, 0.61, 0.63, 0.62, 0.6, 0.6, 0.59, 0.61, 0.6, 0.61, 0.61, 0.6, 0.62, 0.63, 0.59, 0.57, 0.6, 0.63, 0.63, 0.62, 0.66, 0.57]\n"
     ]
    },
    {
     "data": {
      "text/html": [
       "\n",
       "                <audio controls=\"controls\" autoplay=\"autoplay\">\n",
       "                    <source src=\"./data/ping.wav\" type=\"audio/x-wav\" />\n",
       "                    Your browser does not support the audio element.\n",
       "                </audio>\n",
       "              "
      ],
      "text/plain": [
       "<IPython.lib.display.Audio object>"
      ]
     },
     "metadata": {},
     "output_type": "display_data"
    }
   ],
   "source": [
    "# 1:5 ENM:Organics ratio\n",
    "model_params = {'classifier': 'svc', \n",
    "                'aug_type': 'sup_match', \n",
    "                'k': 5, \n",
    "                'feat_data': X_enm, \n",
    "                'bin_data': bin_enm, \n",
    "                'use_balanced_accu': True, \n",
    "                'param_grid': {'estimator__C': np.logspace(-1,7,9), \n",
    "                               'estimator__gamma': np.logspace(-7,1,9)}\n",
    "               }\n",
    "results_svc.iloc[6,5:7] = blt.multi_trials(num_trials=50, \n",
    "                                           print_results=True, \n",
    "                                           model_params=model_params)"
   ]
  },
  {
   "cell_type": "code",
   "execution_count": 61,
   "metadata": {
    "ExecuteTime": {
     "end_time": "2019-08-01T07:54:46.799318Z",
     "start_time": "2019-08-01T07:40:35.323902Z"
    }
   },
   "outputs": [
    {
     "name": "stdout",
     "output_type": "stream",
     "text": [
      "Avg accuracy:     0.612\n",
      "Median accuracy:  0.611\n",
      "StdDev accuracy:  0.021\n",
      "Numer of trials:  30\n"
     ]
    },
    {
     "data": {
      "text/html": [
       "\n",
       "                <audio controls=\"controls\" autoplay=\"autoplay\">\n",
       "                    <source src=\"./data/ping.wav\" type=\"audio/x-wav\" />\n",
       "                    Your browser does not support the audio element.\n",
       "                </audio>\n",
       "              "
      ],
      "text/plain": [
       "<IPython.lib.display.Audio object>"
      ]
     },
     "metadata": {},
     "output_type": "display_data"
    },
    {
     "data": {
      "text/plain": [
       "(0.612, 0.021)"
      ]
     },
     "execution_count": 61,
     "metadata": {},
     "output_type": "execute_result"
    }
   ],
   "source": [
    "# 1:7 ENM:Organics ratio\n",
    "model_params = {'classifier': 'svc', \n",
    "                'aug_type': 'sup_match', \n",
    "                'k': 7, \n",
    "                'feat_data': X_enm, \n",
    "                'bin_data': bin_enm, \n",
    "                'use_balanced_accu': True, \n",
    "                'param_grid': {'estimator__C': np.logspace(-1,7,9), \n",
    "                               'estimator__gamma': np.logspace(-7,1,9)}\n",
    "               }\n",
    "blt.multi_trials(num_trials=30, \n",
    "                                            model_params=model_params)"
   ]
  },
  {
   "cell_type": "code",
   "execution_count": 62,
   "metadata": {
    "ExecuteTime": {
     "end_time": "2019-08-02T10:04:34.703727Z",
     "start_time": "2019-08-02T09:25:05.001522Z"
    }
   },
   "outputs": [
    {
     "name": "stdout",
     "output_type": "stream",
     "text": [
      "Avg accuracy:     0.595\n",
      "Median accuracy:  0.594\n",
      "StdDev accuracy:  0.021\n",
      "Numer of trials:  50\n"
     ]
    },
    {
     "data": {
      "text/html": [
       "\n",
       "                <audio controls=\"controls\" autoplay=\"autoplay\">\n",
       "                    <source src=\"./data/ping.wav\" type=\"audio/x-wav\" />\n",
       "                    Your browser does not support the audio element.\n",
       "                </audio>\n",
       "              "
      ],
      "text/plain": [
       "<IPython.lib.display.Audio object>"
      ]
     },
     "metadata": {},
     "output_type": "display_data"
    }
   ],
   "source": [
    "# 1:10 ENM:Organics ratio\n",
    "model_params = {'classifier': 'svc', \n",
    "                'aug_type': 'sup_match', \n",
    "                'k': 10, \n",
    "                'feat_data': X_enm, \n",
    "                'bin_data': bin_enm, \n",
    "                'use_balanced_accu': True, \n",
    "                'param_grid': {'estimator__C': np.logspace(-1,7,9), \n",
    "                               'estimator__gamma': np.logspace(-7,1,9)}\n",
    "               }\n",
    "results_svc.iloc[7,5:7] = blt.multi_trials(num_trials=50, \n",
    "                                            model_params=model_params)"
   ]
  },
  {
   "cell_type": "code",
   "execution_count": 63,
   "metadata": {
    "ExecuteTime": {
     "end_time": "2019-08-02T12:14:35.541019Z",
     "start_time": "2019-08-02T10:04:34.705915Z"
    }
   },
   "outputs": [
    {
     "name": "stdout",
     "output_type": "stream",
     "text": [
      "Avg accuracy:     0.603\n",
      "Median accuracy:  0.605\n",
      "StdDev accuracy:  0.02\n",
      "Numer of trials:  50\n"
     ]
    },
    {
     "data": {
      "text/html": [
       "\n",
       "                <audio controls=\"controls\" autoplay=\"autoplay\">\n",
       "                    <source src=\"./data/ping.wav\" type=\"audio/x-wav\" />\n",
       "                    Your browser does not support the audio element.\n",
       "                </audio>\n",
       "              "
      ],
      "text/plain": [
       "<IPython.lib.display.Audio object>"
      ]
     },
     "metadata": {},
     "output_type": "display_data"
    }
   ],
   "source": [
    "# 1:20 ENM:Organics ratio\n",
    "model_params = {'classifier': 'svc', \n",
    "                'aug_type': 'sup_match', \n",
    "                'k': 20, \n",
    "                'feat_data': X_enm, \n",
    "                'bin_data': bin_enm, \n",
    "                'use_balanced_accu': True, \n",
    "                'param_grid': {'estimator__C': np.logspace(-1,7,9), \n",
    "                               'estimator__gamma': np.logspace(-7,1,9)}\n",
    "               }\n",
    "results_svc.iloc[8,5:7] = blt.multi_trials(num_trials=50, \n",
    "                                            model_params=model_params)"
   ]
  },
  {
   "cell_type": "code",
   "execution_count": 64,
   "metadata": {
    "ExecuteTime": {
     "end_time": "2019-08-03T09:47:09.032548Z",
     "start_time": "2019-08-02T12:14:35.543270Z"
    }
   },
   "outputs": [
    {
     "name": "stdout",
     "output_type": "stream",
     "text": [
      "Avg accuracy:     0.579\n",
      "Median accuracy:  0.581\n",
      "StdDev accuracy:  0.016\n",
      "Numer of trials:  50\n"
     ]
    },
    {
     "data": {
      "text/html": [
       "\n",
       "                <audio controls=\"controls\" autoplay=\"autoplay\">\n",
       "                    <source src=\"./data/ping.wav\" type=\"audio/x-wav\" />\n",
       "                    Your browser does not support the audio element.\n",
       "                </audio>\n",
       "              "
      ],
      "text/plain": [
       "<IPython.lib.display.Audio object>"
      ]
     },
     "metadata": {},
     "output_type": "display_data"
    }
   ],
   "source": [
    "# 1:50 ENM:Organics ratio\n",
    "model_params = {'classifier': 'svc', \n",
    "                'aug_type': 'sup_match', \n",
    "                'k': 50, \n",
    "                'feat_data': X_enm, \n",
    "                'bin_data': bin_enm, \n",
    "                'use_balanced_accu': True, \n",
    "                'param_grid': {'estimator__C': np.logspace(-1,7,9), \n",
    "                               'estimator__gamma': np.logspace(-7,1,9)}\n",
    "               }\n",
    "results_svc.iloc[9,5:7] = blt.multi_trials(num_trials=50, \n",
    "                                            model_params=model_params)"
   ]
  },
  {
   "cell_type": "code",
   "execution_count": 65,
   "metadata": {
    "ExecuteTime": {
     "end_time": "2019-08-03T18:33:38.955133Z",
     "start_time": "2019-08-03T09:47:09.039285Z"
    }
   },
   "outputs": [
    {
     "data": {
      "text/html": [
       "\n",
       "                <audio controls=\"controls\" autoplay=\"autoplay\">\n",
       "                    <source src=\"./data/ping.wav\" type=\"audio/x-wav\" />\n",
       "                    Your browser does not support the audio element.\n",
       "                </audio>\n",
       "              "
      ],
      "text/plain": [
       "<IPython.lib.display.Audio object>"
      ]
     },
     "metadata": {},
     "output_type": "display_data"
    },
    {
     "ename": "KeyboardInterrupt",
     "evalue": "",
     "output_type": "error",
     "traceback": [
      "\u001b[0;31m---------------------------------------------------------------------------\u001b[0m",
      "\u001b[0;31mKeyboardInterrupt\u001b[0m                         Traceback (most recent call last)",
      "\u001b[0;32m<ipython-input-65-4ce970fb536b>\u001b[0m in \u001b[0;36m<module>\u001b[0;34m\u001b[0m\n\u001b[1;32m     10\u001b[0m                }\n\u001b[1;32m     11\u001b[0m results_svc.iloc[10,5:7] = blt.multi_trials(num_trials=50, \n\u001b[0;32m---> 12\u001b[0;31m                                             model_params=model_params)\n\u001b[0m",
      "\u001b[0;32m~/Documents/ml-weight-fraction/functions.py\u001b[0m in \u001b[0;36mwrapper\u001b[0;34m(*args, **kwargs)\u001b[0m\n\u001b[1;32m    105\u001b[0m             \u001b[0mself\u001b[0m\u001b[0;34m.\u001b[0m\u001b[0misinner\u001b[0m \u001b[0;34m=\u001b[0m \u001b[0;32mTrue\u001b[0m\u001b[0;34m\u001b[0m\u001b[0;34m\u001b[0m\u001b[0m\n\u001b[1;32m    106\u001b[0m             \u001b[0;32mtry\u001b[0m\u001b[0;34m:\u001b[0m\u001b[0;34m\u001b[0m\u001b[0;34m\u001b[0m\u001b[0m\n\u001b[0;32m--> 107\u001b[0;31m                 \u001b[0;32mreturn\u001b[0m \u001b[0mf\u001b[0m\u001b[0;34m(\u001b[0m\u001b[0;34m*\u001b[0m\u001b[0margs\u001b[0m\u001b[0;34m,\u001b[0m \u001b[0;34m**\u001b[0m\u001b[0mkwargs\u001b[0m\u001b[0;34m)\u001b[0m\u001b[0;34m\u001b[0m\u001b[0;34m\u001b[0m\u001b[0m\n\u001b[0m\u001b[1;32m    108\u001b[0m             \u001b[0;32mfinally\u001b[0m\u001b[0;34m:\u001b[0m\u001b[0;34m\u001b[0m\u001b[0;34m\u001b[0m\u001b[0m\n\u001b[1;32m    109\u001b[0m                 \u001b[0mself\u001b[0m\u001b[0;34m.\u001b[0m\u001b[0misinner\u001b[0m \u001b[0;34m=\u001b[0m \u001b[0misinner\u001b[0m\u001b[0;34m\u001b[0m\u001b[0;34m\u001b[0m\u001b[0m\n",
      "\u001b[0;32m~/Documents/ml-weight-fraction/functions.py\u001b[0m in \u001b[0;36mmulti_trials\u001b[0;34m(num_trials, model_params, print_results)\u001b[0m\n\u001b[1;32m    845\u001b[0m             \u001b[0mmodel_params\u001b[0m\u001b[0;34m[\u001b[0m\u001b[0;34m'seed'\u001b[0m\u001b[0;34m]\u001b[0m \u001b[0;34m=\u001b[0m \u001b[0mseed\u001b[0m\u001b[0;34m\u001b[0m\u001b[0;34m\u001b[0m\u001b[0m\n\u001b[1;32m    846\u001b[0m             \u001b[0;31m# Apply all-in-one function that optimizes and executes model\u001b[0m\u001b[0;34m\u001b[0m\u001b[0;34m\u001b[0m\u001b[0;34m\u001b[0m\u001b[0m\n\u001b[0;32m--> 847\u001b[0;31m             \u001b[0mrs_row\u001b[0m \u001b[0;34m=\u001b[0m \u001b[0mmodel_opt_exe\u001b[0m\u001b[0;34m(\u001b[0m\u001b[0;34m**\u001b[0m\u001b[0mmodel_params\u001b[0m\u001b[0;34m)\u001b[0m\u001b[0;34m\u001b[0m\u001b[0;34m\u001b[0m\u001b[0m\n\u001b[0m\u001b[1;32m    848\u001b[0m             \u001b[0mrs\u001b[0m\u001b[0;34m.\u001b[0m\u001b[0mappend\u001b[0m\u001b[0;34m(\u001b[0m\u001b[0mrs_row\u001b[0m\u001b[0;34m)\u001b[0m\u001b[0;34m\u001b[0m\u001b[0;34m\u001b[0m\u001b[0m\n\u001b[1;32m    849\u001b[0m     \u001b[0;31m# For RFC, write accuracy and feature importance results\u001b[0m\u001b[0;34m\u001b[0m\u001b[0;34m\u001b[0m\u001b[0;34m\u001b[0m\u001b[0m\n",
      "\u001b[0;32m~/Documents/ml-weight-fraction/functions.py\u001b[0m in \u001b[0;36mwrapper\u001b[0;34m(*args, **kwargs)\u001b[0m\n\u001b[1;32m    105\u001b[0m             \u001b[0mself\u001b[0m\u001b[0;34m.\u001b[0m\u001b[0misinner\u001b[0m \u001b[0;34m=\u001b[0m \u001b[0;32mTrue\u001b[0m\u001b[0;34m\u001b[0m\u001b[0;34m\u001b[0m\u001b[0m\n\u001b[1;32m    106\u001b[0m             \u001b[0;32mtry\u001b[0m\u001b[0;34m:\u001b[0m\u001b[0;34m\u001b[0m\u001b[0;34m\u001b[0m\u001b[0m\n\u001b[0;32m--> 107\u001b[0;31m                 \u001b[0;32mreturn\u001b[0m \u001b[0mf\u001b[0m\u001b[0;34m(\u001b[0m\u001b[0;34m*\u001b[0m\u001b[0margs\u001b[0m\u001b[0;34m,\u001b[0m \u001b[0;34m**\u001b[0m\u001b[0mkwargs\u001b[0m\u001b[0;34m)\u001b[0m\u001b[0;34m\u001b[0m\u001b[0;34m\u001b[0m\u001b[0m\n\u001b[0m\u001b[1;32m    108\u001b[0m             \u001b[0;32mfinally\u001b[0m\u001b[0;34m:\u001b[0m\u001b[0;34m\u001b[0m\u001b[0;34m\u001b[0m\u001b[0m\n\u001b[1;32m    109\u001b[0m                 \u001b[0mself\u001b[0m\u001b[0;34m.\u001b[0m\u001b[0misinner\u001b[0m \u001b[0;34m=\u001b[0m \u001b[0misinner\u001b[0m\u001b[0;34m\u001b[0m\u001b[0;34m\u001b[0m\u001b[0m\n",
      "\u001b[0;32m~/Documents/ml-weight-fraction/functions.py\u001b[0m in \u001b[0;36mmodel_opt_exe\u001b[0;34m(classifier, aug_type, k, feat_data, bin_data, seed, save_fig_name, show_opt_plot, show_feat_impt, show_cnf_matrix, use_balanced_accu, param_grid)\u001b[0m\n\u001b[1;32m    731\u001b[0m                         \u001b[0;34m(\u001b[0m\u001b[0;34m'estimator'\u001b[0m\u001b[0;34m,\u001b[0m \u001b[0msvc\u001b[0m\u001b[0;34m)\u001b[0m\u001b[0;34m\u001b[0m\u001b[0;34m\u001b[0m\u001b[0m\n\u001b[1;32m    732\u001b[0m                     ])    \n\u001b[0;32m--> 733\u001b[0;31m                 \u001b[0mpipe\u001b[0m\u001b[0;34m.\u001b[0m\u001b[0mfit\u001b[0m\u001b[0;34m(\u001b[0m\u001b[0mX_train\u001b[0m\u001b[0;34m,\u001b[0m \u001b[0my_train\u001b[0m\u001b[0;34m)\u001b[0m\u001b[0;34m\u001b[0m\u001b[0;34m\u001b[0m\u001b[0m\n\u001b[0m\u001b[1;32m    734\u001b[0m                 \u001b[0mtrain_accu\u001b[0m\u001b[0;34m[\u001b[0m\u001b[0mq\u001b[0m\u001b[0;34m,\u001b[0m\u001b[0mr\u001b[0m\u001b[0;34m,\u001b[0m\u001b[0ms\u001b[0m\u001b[0;34m]\u001b[0m \u001b[0;34m=\u001b[0m \u001b[0maccuracy\u001b[0m\u001b[0;34m(\u001b[0m\u001b[0my_train\u001b[0m\u001b[0;34m,\u001b[0m \u001b[0mpipe\u001b[0m\u001b[0;34m.\u001b[0m\u001b[0mpredict\u001b[0m\u001b[0;34m(\u001b[0m\u001b[0mX_train\u001b[0m\u001b[0;34m)\u001b[0m\u001b[0;34m)\u001b[0m\u001b[0;34m\u001b[0m\u001b[0;34m\u001b[0m\u001b[0m\n\u001b[1;32m    735\u001b[0m                 \u001b[0mvalid_accu\u001b[0m\u001b[0;34m[\u001b[0m\u001b[0mq\u001b[0m\u001b[0;34m,\u001b[0m\u001b[0mr\u001b[0m\u001b[0;34m,\u001b[0m\u001b[0ms\u001b[0m\u001b[0;34m]\u001b[0m \u001b[0;34m=\u001b[0m \u001b[0maccuracy\u001b[0m\u001b[0;34m(\u001b[0m\u001b[0my_valid\u001b[0m\u001b[0;34m,\u001b[0m \u001b[0mpipe\u001b[0m\u001b[0;34m.\u001b[0m\u001b[0mpredict\u001b[0m\u001b[0;34m(\u001b[0m\u001b[0mX_valid\u001b[0m\u001b[0;34m)\u001b[0m\u001b[0;34m)\u001b[0m\u001b[0;34m\u001b[0m\u001b[0;34m\u001b[0m\u001b[0m\n",
      "\u001b[0;32m/anaconda3/lib/python3.7/site-packages/sklearn/pipeline.py\u001b[0m in \u001b[0;36mfit\u001b[0;34m(self, X, y, **fit_params)\u001b[0m\n\u001b[1;32m    265\u001b[0m         \u001b[0mXt\u001b[0m\u001b[0;34m,\u001b[0m \u001b[0mfit_params\u001b[0m \u001b[0;34m=\u001b[0m \u001b[0mself\u001b[0m\u001b[0;34m.\u001b[0m\u001b[0m_fit\u001b[0m\u001b[0;34m(\u001b[0m\u001b[0mX\u001b[0m\u001b[0;34m,\u001b[0m \u001b[0my\u001b[0m\u001b[0;34m,\u001b[0m \u001b[0;34m**\u001b[0m\u001b[0mfit_params\u001b[0m\u001b[0;34m)\u001b[0m\u001b[0;34m\u001b[0m\u001b[0;34m\u001b[0m\u001b[0m\n\u001b[1;32m    266\u001b[0m         \u001b[0;32mif\u001b[0m \u001b[0mself\u001b[0m\u001b[0;34m.\u001b[0m\u001b[0m_final_estimator\u001b[0m \u001b[0;32mis\u001b[0m \u001b[0;32mnot\u001b[0m \u001b[0;32mNone\u001b[0m\u001b[0;34m:\u001b[0m\u001b[0;34m\u001b[0m\u001b[0;34m\u001b[0m\u001b[0m\n\u001b[0;32m--> 267\u001b[0;31m             \u001b[0mself\u001b[0m\u001b[0;34m.\u001b[0m\u001b[0m_final_estimator\u001b[0m\u001b[0;34m.\u001b[0m\u001b[0mfit\u001b[0m\u001b[0;34m(\u001b[0m\u001b[0mXt\u001b[0m\u001b[0;34m,\u001b[0m \u001b[0my\u001b[0m\u001b[0;34m,\u001b[0m \u001b[0;34m**\u001b[0m\u001b[0mfit_params\u001b[0m\u001b[0;34m)\u001b[0m\u001b[0;34m\u001b[0m\u001b[0;34m\u001b[0m\u001b[0m\n\u001b[0m\u001b[1;32m    268\u001b[0m         \u001b[0;32mreturn\u001b[0m \u001b[0mself\u001b[0m\u001b[0;34m\u001b[0m\u001b[0;34m\u001b[0m\u001b[0m\n\u001b[1;32m    269\u001b[0m \u001b[0;34m\u001b[0m\u001b[0m\n",
      "\u001b[0;32m/anaconda3/lib/python3.7/site-packages/sklearn/svm/base.py\u001b[0m in \u001b[0;36mfit\u001b[0;34m(self, X, y, sample_weight)\u001b[0m\n\u001b[1;32m    210\u001b[0m \u001b[0;34m\u001b[0m\u001b[0m\n\u001b[1;32m    211\u001b[0m         \u001b[0mseed\u001b[0m \u001b[0;34m=\u001b[0m \u001b[0mrnd\u001b[0m\u001b[0;34m.\u001b[0m\u001b[0mrandint\u001b[0m\u001b[0;34m(\u001b[0m\u001b[0mnp\u001b[0m\u001b[0;34m.\u001b[0m\u001b[0miinfo\u001b[0m\u001b[0;34m(\u001b[0m\u001b[0;34m'i'\u001b[0m\u001b[0;34m)\u001b[0m\u001b[0;34m.\u001b[0m\u001b[0mmax\u001b[0m\u001b[0;34m)\u001b[0m\u001b[0;34m\u001b[0m\u001b[0;34m\u001b[0m\u001b[0m\n\u001b[0;32m--> 212\u001b[0;31m         \u001b[0mfit\u001b[0m\u001b[0;34m(\u001b[0m\u001b[0mX\u001b[0m\u001b[0;34m,\u001b[0m \u001b[0my\u001b[0m\u001b[0;34m,\u001b[0m \u001b[0msample_weight\u001b[0m\u001b[0;34m,\u001b[0m \u001b[0msolver_type\u001b[0m\u001b[0;34m,\u001b[0m \u001b[0mkernel\u001b[0m\u001b[0;34m,\u001b[0m \u001b[0mrandom_seed\u001b[0m\u001b[0;34m=\u001b[0m\u001b[0mseed\u001b[0m\u001b[0;34m)\u001b[0m\u001b[0;34m\u001b[0m\u001b[0;34m\u001b[0m\u001b[0m\n\u001b[0m\u001b[1;32m    213\u001b[0m         \u001b[0;31m# see comment on the other call to np.iinfo in this file\u001b[0m\u001b[0;34m\u001b[0m\u001b[0;34m\u001b[0m\u001b[0;34m\u001b[0m\u001b[0m\n\u001b[1;32m    214\u001b[0m \u001b[0;34m\u001b[0m\u001b[0m\n",
      "\u001b[0;32m/anaconda3/lib/python3.7/site-packages/sklearn/svm/base.py\u001b[0m in \u001b[0;36m_dense_fit\u001b[0;34m(self, X, y, sample_weight, solver_type, kernel, random_seed)\u001b[0m\n\u001b[1;32m    269\u001b[0m                 \u001b[0mcache_size\u001b[0m\u001b[0;34m=\u001b[0m\u001b[0mself\u001b[0m\u001b[0;34m.\u001b[0m\u001b[0mcache_size\u001b[0m\u001b[0;34m,\u001b[0m \u001b[0mcoef0\u001b[0m\u001b[0;34m=\u001b[0m\u001b[0mself\u001b[0m\u001b[0;34m.\u001b[0m\u001b[0mcoef0\u001b[0m\u001b[0;34m,\u001b[0m\u001b[0;34m\u001b[0m\u001b[0;34m\u001b[0m\u001b[0m\n\u001b[1;32m    270\u001b[0m                 \u001b[0mgamma\u001b[0m\u001b[0;34m=\u001b[0m\u001b[0mself\u001b[0m\u001b[0;34m.\u001b[0m\u001b[0m_gamma\u001b[0m\u001b[0;34m,\u001b[0m \u001b[0mepsilon\u001b[0m\u001b[0;34m=\u001b[0m\u001b[0mself\u001b[0m\u001b[0;34m.\u001b[0m\u001b[0mepsilon\u001b[0m\u001b[0;34m,\u001b[0m\u001b[0;34m\u001b[0m\u001b[0;34m\u001b[0m\u001b[0m\n\u001b[0;32m--> 271\u001b[0;31m                 max_iter=self.max_iter, random_seed=random_seed)\n\u001b[0m\u001b[1;32m    272\u001b[0m \u001b[0;34m\u001b[0m\u001b[0m\n\u001b[1;32m    273\u001b[0m         \u001b[0mself\u001b[0m\u001b[0;34m.\u001b[0m\u001b[0m_warn_from_fit_status\u001b[0m\u001b[0;34m(\u001b[0m\u001b[0;34m)\u001b[0m\u001b[0;34m\u001b[0m\u001b[0;34m\u001b[0m\u001b[0m\n",
      "\u001b[0;31mKeyboardInterrupt\u001b[0m: "
     ]
    }
   ],
   "source": [
    "# 1:100 ENM:Organics ratio\n",
    "model_params = {'classifier': 'svc', \n",
    "                'aug_type': 'sup_match', \n",
    "                'k': 100, \n",
    "                'feat_data': X_enm, \n",
    "                'bin_data': bin_enm, \n",
    "                'use_balanced_accu': True, \n",
    "                'param_grid': {'estimator__C': np.logspace(-1,7,9), \n",
    "                               'estimator__gamma': np.logspace(-7,1,9)}\n",
    "               }\n",
    "results_svc.iloc[10,5:7] = blt.multi_trials(num_trials=50, \n",
    "                                            model_params=model_params)"
   ]
  },
  {
   "cell_type": "markdown",
   "metadata": {},
   "source": [
    "### w/ PCA"
   ]
  },
  {
   "cell_type": "code",
   "execution_count": null,
   "metadata": {
    "collapsed": true
   },
   "outputs": [],
   "source": [
    "# TODO: run PCA on organics data too, so I can do matching."
   ]
  },
  {
   "cell_type": "code",
   "execution_count": null,
   "metadata": {
    "collapsed": true
   },
   "outputs": [],
   "source": [
    "# Compare with PCA features\n",
    "param_grid = {'estimator__C': np.logspace(-1,7,9), \n",
    "              'estimator__gamma': np.logspace(-7,1,9)\n",
    "             }\n",
    "    = blt.model_opt_exe(classifier='svc', \n",
    "                        feat_data=X_matchlab10, \n",
    "                        bin_data=bin_matchlab10, \n",
    "                        param_grid=param_grid)\n",
    "blt.model_opt_exe(classifier='svc', \n",
    "                  feat_data=PCA_enm, \n",
    "                  bin_data=bin_enm, \n",
    "                  save_fig_name='enm-only-PCA', \n",
    "                  show_opt_plot=True, \n",
    "                  show_cnf_matrix=True, \n",
    "                  param_grid=param_grid)"
   ]
  },
  {
   "cell_type": "markdown",
   "metadata": {},
   "source": [
    "# Random Forest Models"
   ]
  },
  {
   "cell_type": "markdown",
   "metadata": {},
   "source": [
    "RFC did not perform as well as SVC. RFC models here are being used as another way to look at the usefulness of different feature groups."
   ]
  },
  {
   "cell_type": "markdown",
   "metadata": {},
   "source": [
    "## ENM-only"
   ]
  },
  {
   "cell_type": "code",
   "execution_count": 263,
   "metadata": {
    "ExecuteTime": {
     "end_time": "2019-08-01T23:00:43.398866Z",
     "start_time": "2019-08-01T23:00:00.702286Z"
    }
   },
   "outputs": [
    {
     "data": {
      "image/png": "[encoded data removed]",
      "text/plain": [
       "<Figure size 432x288 with 2 Axes>"
      ]
     },
     "metadata": {
      "needs_background": "light"
     },
     "output_type": "display_data"
    },
    {
     "name": "stdout",
     "output_type": "stream",
     "text": [
      "Random state:\t 47\n",
      "Best parameters: {'max_depth': 2, 'n_estimators': 40}\n",
      "Max opt. balanced accuracy: 0.608\n",
      "Avg. balanced accuracy:     0.631\n",
      "Normalized Confusion Matrix\n",
      "[[0.83 0.06 0.11]\n",
      " [0.41 0.41 0.17]\n",
      " [0.18 0.18 0.65]]\n"
     ]
    }
   ],
   "source": [
    "# Single trial RFC optimizing max_depth and n_estimators (highly variable)\n",
    "param_grid = {'estimator__max_depth': np.arange(1,24,1), \n",
    "              'estimator__n_estimators': np.arange(40,120,20)}\n",
    "acc, impt = blt.model_opt_exe(classifier='rfc', \n",
    "                              aug_type='none', \n",
    "                              k=0, \n",
    "                              feat_data=X_enm, \n",
    "                              bin_data=bin_enm, \n",
    "                              show_opt_plot=True, \n",
    "                              show_feat_impt=False, \n",
    "                              show_cnf_matrix=False, \n",
    "                              param_grid=param_grid)"
   ]
  },
  {
   "cell_type": "markdown",
   "metadata": {},
   "source": [
    "The contour plots for parameter optimization show that accuracy does not vary much by n_estimators, so we will only test two. Accuracy also seems to bottom out fairly consistently at max_depths beyond 10, so the max_depth range will be capped off at 8."
   ]
  },
  {
   "cell_type": "code",
   "execution_count": 416,
   "metadata": {
    "ExecuteTime": {
     "end_time": "2019-08-02T05:30:43.206007Z",
     "start_time": "2019-08-02T05:17:44.317366Z"
    }
   },
   "outputs": [
    {
     "name": "stdout",
     "output_type": "stream",
     "text": [
      "Avg accuracy:     0.622\n",
      "Median accuracy:  0.622\n",
      "StdDev accuracy:  0.018\n",
      "Numer of trials:  100\n"
     ]
    },
    {
     "data": {
      "text/html": [
       "\n",
       "                <audio controls=\"controls\" autoplay=\"autoplay\">\n",
       "                    <source src=\"./data/ping.wav\" type=\"audio/x-wav\" />\n",
       "                    Your browser does not support the audio element.\n",
       "                </audio>\n",
       "              "
      ],
      "text/plain": [
       "<IPython.lib.display.Audio object>"
      ]
     },
     "metadata": {},
     "output_type": "display_data"
    }
   ],
   "source": [
    "# 100 trials RFC optimizing max_depth and n_estimators \n",
    "model_params = {'classifier': 'rfc', \n",
    "                'aug_type': 'none', \n",
    "                'k': 0, \n",
    "                'feat_data': X_enm, \n",
    "                'bin_data': bin_enm, \n",
    "                'param_grid': {'estimator__max_depth': np.arange(1,9,1), \n",
    "                               'estimator__n_estimators': [60,80]}\n",
    "               }\n",
    "mu_rfc, sigma_rfc, avg_impt, var_impt = \\\n",
    "    blt.multi_trials(num_trials=100, model_params=model_params)"
   ]
  },
  {
   "cell_type": "code",
   "execution_count": 431,
   "metadata": {
    "ExecuteTime": {
     "end_time": "2019-08-02T05:46:32.000630Z",
     "start_time": "2019-08-02T05:46:31.988860Z"
    }
   },
   "outputs": [],
   "source": [
    "# Save results to table\n",
    "results_rfc.loc[results_rfc['ENM-Organics-Ratio']=='1:0', \n",
    "    ['Avg-Random-Augment','Std-Random-Augment']] = [mu_rfc, sigma_rfc]"
   ]
  },
  {
   "cell_type": "code",
   "execution_count": 206,
   "metadata": {
    "ExecuteTime": {
     "end_time": "2019-08-01T10:21:56.860865Z",
     "start_time": "2019-08-01T10:21:56.337793Z"
    }
   },
   "outputs": [
    {
     "data": {
      "image/png": "[encoded data removed]",
      "text/plain": [
       "<Figure size 720x720 with 1 Axes>"
      ]
     },
     "metadata": {
      "needs_background": "light"
     },
     "output_type": "display_data"
    }
   ],
   "source": [
    "blt.plot_feat_impt(feature_names=X_enm.columns.values, \n",
    "                   importances=avg_impt, \n",
    "                   save_fig_name='ENM_RFC', \n",
    "                   variances=var_impt, \n",
    "                   combo_impt=False)"
   ]
  },
  {
   "cell_type": "code",
   "execution_count": 207,
   "metadata": {
    "ExecuteTime": {
     "end_time": "2019-08-01T10:22:01.901640Z",
     "start_time": "2019-08-01T10:22:01.468236Z"
    }
   },
   "outputs": [
    {
     "data": {
      "image/png": "[encoded data removed]",
      "text/plain": [
       "<Figure size 720x432 with 1 Axes>"
      ]
     },
     "metadata": {
      "needs_background": "light"
     },
     "output_type": "display_data"
    }
   ],
   "source": [
    "blt.plot_feat_impt(feature_names=X_enm.columns.values, \n",
    "                   importances=avg_impt, \n",
    "                   save_fig_name='ENM_RFC_combo', \n",
    "                   variances=var_impt, \n",
    "                   combo_impt=True)"
   ]
  },
  {
   "cell_type": "markdown",
   "metadata": {},
   "source": [
    "### Permutation test"
   ]
  },
  {
   "cell_type": "code",
   "execution_count": 210,
   "metadata": {
    "ExecuteTime": {
     "end_time": "2019-08-01T10:24:46.785843Z",
     "start_time": "2019-08-01T10:24:36.521468Z"
    }
   },
   "outputs": [
    {
     "ename": "ValueError",
     "evalue": "setting an array element with a sequence.",
     "output_type": "error",
     "traceback": [
      "\u001b[0;31m---------------------------------------------------------------------------\u001b[0m",
      "\u001b[0;31mValueError\u001b[0m                                Traceback (most recent call last)",
      "\u001b[0;32m<ipython-input-210-9258bc5f7d86>\u001b[0m in \u001b[0;36m<module>\u001b[0;34m\u001b[0m\n\u001b[1;32m     18\u001b[0m                                 \u001b[0mbin_data\u001b[0m\u001b[0;34m=\u001b[0m\u001b[0mbin_enm_permute\u001b[0m\u001b[0;34m,\u001b[0m\u001b[0;34m\u001b[0m\u001b[0;34m\u001b[0m\u001b[0m\n\u001b[1;32m     19\u001b[0m                                 \u001b[0mshow_opt_plot\u001b[0m\u001b[0;34m=\u001b[0m\u001b[0;32mFalse\u001b[0m\u001b[0;34m,\u001b[0m\u001b[0;34m\u001b[0m\u001b[0;34m\u001b[0m\u001b[0m\n\u001b[0;32m---> 20\u001b[0;31m                                 param_grid=param_grid)\n\u001b[0m\u001b[1;32m     21\u001b[0m \u001b[0mmu_rfc_perm\u001b[0m \u001b[0;34m=\u001b[0m \u001b[0mresults_permute\u001b[0m\u001b[0;34m.\u001b[0m\u001b[0mmean\u001b[0m\u001b[0;34m(\u001b[0m\u001b[0;34m)\u001b[0m\u001b[0;34m\u001b[0m\u001b[0;34m\u001b[0m\u001b[0m\n\u001b[1;32m     22\u001b[0m \u001b[0msigma_rfc_perm\u001b[0m \u001b[0;34m=\u001b[0m \u001b[0mresults_permute\u001b[0m\u001b[0;34m.\u001b[0m\u001b[0mstd\u001b[0m\u001b[0;34m(\u001b[0m\u001b[0;34m)\u001b[0m\u001b[0;34m\u001b[0m\u001b[0;34m\u001b[0m\u001b[0m\n",
      "\u001b[0;31mValueError\u001b[0m: setting an array element with a sequence."
     ]
    }
   ],
   "source": [
    "# TODO: fix\n",
    "# Run permutation tests over a number of trials, \"num_trials\"\n",
    "num_trials = 2\n",
    "seed_set = np.random.choice(np.arange(0,100), size=num_trials, replace=False)\n",
    "param_grid = {'estimator__max_depth': np.arange(1,22,2), \n",
    "              'estimator__n_estimators': [60,80]}\n",
    "\n",
    "results_permute = np.empty(seed_set.size)\n",
    "impt_permute = np.empty(seed_set.size)\n",
    "for idx, s in enumerate(seed_set):\n",
    "    with blt.HiddenPrints():\n",
    "        bin_enm_permute = np.random.RandomState(seed=s).permutation(bin_enm)\n",
    "        results_permute[idx], impt_permute[idx]\\\n",
    "            = blt.model_opt_exe(classifier='rfc', \n",
    "                                aug_type='none', \n",
    "                                k=0, \n",
    "                                feat_data=X_enm, \n",
    "                                bin_data=bin_enm_permute, \n",
    "                                show_opt_plot=False, \n",
    "                                param_grid=param_grid)\n",
    "mu_rfc_perm = results_permute.mean()\n",
    "sigma_rfc_perm = results_permute.std()\n",
    "print(\"Avg accuracy:    \", mu_rfc_perm)\n",
    "print(\"Median accuracy: \", np.median(results_permute))\n",
    "print(\"StdDev accuracy: \", sigma_rfc_perm)\n",
    "print(\"Numer of trials: \", num_trials)\n",
    "print(\"Results: \", results_permute)\n",
    "\n",
    "# Save to results table\n",
    "results_rfc.loc[results_rfc['ENM-Organics-Ratio']=='1:0*', \n",
    "    ['Avg-Random-Augment', 'Std-Random-Augment']] = [mu_rfc_perm, sigma_rfc_perm]"
   ]
  },
  {
   "cell_type": "markdown",
   "metadata": {},
   "source": [
    "## Randomly augmented data"
   ]
  },
  {
   "cell_type": "code",
   "execution_count": 91,
   "metadata": {
    "ExecuteTime": {
     "end_time": "2019-08-05T06:37:50.247062Z",
     "start_time": "2019-08-05T06:22:56.817891Z"
    }
   },
   "outputs": [
    {
     "name": "stdout",
     "output_type": "stream",
     "text": [
      "Avg accuracy:     0.627\n",
      "Median accuracy:  0.63\n",
      "StdDev accuracy:  0.023\n",
      "Numer of trials:  100\n"
     ]
    },
    {
     "data": {
      "text/html": [
       "\n",
       "                <audio controls=\"controls\" autoplay=\"autoplay\">\n",
       "                    <source src=\"./data/ping.wav\" type=\"audio/x-wav\" />\n",
       "                    Your browser does not support the audio element.\n",
       "                </audio>\n",
       "              "
      ],
      "text/plain": [
       "<IPython.lib.display.Audio object>"
      ]
     },
     "metadata": {},
     "output_type": "display_data"
    }
   ],
   "source": [
    "# 1:1\n",
    "model_params = {'classifier': 'rfc', \n",
    "                'aug_type': 'random', \n",
    "                'k': 1, \n",
    "                'feat_data': X_enm, \n",
    "                'bin_data': bin_enm, \n",
    "                'param_grid': {'estimator__max_depth': np.arange(1,9,1), \n",
    "                               'estimator__n_estimators': [60,80]}\n",
    "               }\n",
    "a, b, _, _ = blt.multi_trials(num_trials=100, model_params=model_params)\n",
    "results_rfc.iloc[2,1:3] = a, b"
   ]
  },
  {
   "cell_type": "code",
   "execution_count": 78,
   "metadata": {
    "ExecuteTime": {
     "end_time": "2019-08-04T07:55:56.930151Z",
     "start_time": "2019-08-04T07:49:06.907383Z"
    }
   },
   "outputs": [
    {
     "name": "stdout",
     "output_type": "stream",
     "text": [
      "Avg accuracy:     0.608\n",
      "Median accuracy:  0.601\n",
      "StdDev accuracy:  0.021\n",
      "Numer of trials:  50\n"
     ]
    },
    {
     "data": {
      "text/html": [
       "\n",
       "                <audio controls=\"controls\" autoplay=\"autoplay\">\n",
       "                    <source src=\"./data/ping.wav\" type=\"audio/x-wav\" />\n",
       "                    Your browser does not support the audio element.\n",
       "                </audio>\n",
       "              "
      ],
      "text/plain": [
       "<IPython.lib.display.Audio object>"
      ]
     },
     "metadata": {},
     "output_type": "display_data"
    }
   ],
   "source": [
    "# 1:2\n",
    "model_params = {'classifier': 'rfc', \n",
    "                'aug_type': 'random', \n",
    "                'k': 2, \n",
    "                'feat_data': X_enm, \n",
    "                'bin_data': bin_enm, \n",
    "                'param_grid': {'estimator__max_depth': np.arange(1,9,1), \n",
    "                               'estimator__n_estimators': [60,80]}\n",
    "               }\n",
    "a, b, _, _ = blt.multi_trials(num_trials=50, model_params=model_params)\n",
    "results_rfc.iloc[3,1:3] = a, b"
   ]
  },
  {
   "cell_type": "code",
   "execution_count": 107,
   "metadata": {
    "ExecuteTime": {
     "end_time": "2019-08-05T19:04:58.078838Z",
     "start_time": "2019-08-05T18:56:51.501239Z"
    }
   },
   "outputs": [
    {
     "name": "stdout",
     "output_type": "stream",
     "text": [
      "Avg accuracy:     0.601\n",
      "Median accuracy:  0.6\n",
      "StdDev accuracy:  0.02\n",
      "Numer of trials:  50\n"
     ]
    },
    {
     "data": {
      "text/html": [
       "\n",
       "                <audio controls=\"controls\" autoplay=\"autoplay\">\n",
       "                    <source src=\"./data/ping.wav\" type=\"audio/x-wav\" />\n",
       "                    Your browser does not support the audio element.\n",
       "                </audio>\n",
       "              "
      ],
      "text/plain": [
       "<IPython.lib.display.Audio object>"
      ]
     },
     "metadata": {},
     "output_type": "display_data"
    }
   ],
   "source": [
    "# 1:3\n",
    "model_params = {'classifier': 'rfc', \n",
    "                'aug_type': 'random', \n",
    "                'k': 3, \n",
    "                'feat_data': X_enm, \n",
    "                'bin_data': bin_enm, \n",
    "                'param_grid': {'estimator__max_depth': np.arange(1,9,1), \n",
    "                               'estimator__n_estimators': [60,80]}\n",
    "               }\n",
    "a, b, _, _ = blt.multi_trials(num_trials=50, model_params=model_params)\n",
    "results_rfc.iloc[4,1:3] = a, b"
   ]
  },
  {
   "cell_type": "code",
   "execution_count": null,
   "metadata": {},
   "outputs": [],
   "source": [
    "# 1:4\n",
    "model_params = {'classifier': 'rfc', \n",
    "                'aug_type': 'random', \n",
    "                'k': 4, \n",
    "                'feat_data': X_enm, \n",
    "                'bin_data': bin_enm, \n",
    "                'param_grid': {'estimator__max_depth': np.arange(1,9,1), \n",
    "                               'estimator__n_estimators': [60,80]}\n",
    "               }\n",
    "a, b, _, _ = blt.multi_trials(num_trials=50, model_params=model_params)\n",
    "results_rfc.iloc[5,1:3] = a, b"
   ]
  },
  {
   "cell_type": "code",
   "execution_count": 102,
   "metadata": {
    "ExecuteTime": {
     "end_time": "2019-08-05T08:25:49.230764Z",
     "start_time": "2019-08-05T08:18:13.192069Z"
    }
   },
   "outputs": [
    {
     "name": "stdout",
     "output_type": "stream",
     "text": [
      "Avg accuracy:     0.597\n",
      "Median accuracy:  0.6\n",
      "StdDev accuracy:  0.018\n",
      "Numer of trials:  50\n"
     ]
    },
    {
     "data": {
      "text/html": [
       "\n",
       "                <audio controls=\"controls\" autoplay=\"autoplay\">\n",
       "                    <source src=\"./data/ping.wav\" type=\"audio/x-wav\" />\n",
       "                    Your browser does not support the audio element.\n",
       "                </audio>\n",
       "              "
      ],
      "text/plain": [
       "<IPython.lib.display.Audio object>"
      ]
     },
     "metadata": {},
     "output_type": "display_data"
    }
   ],
   "source": [
    "# 1:5\n",
    "model_params = {'classifier': 'rfc', \n",
    "                'aug_type': 'random', \n",
    "                'k': 5, \n",
    "                'feat_data': X_enm, \n",
    "                'bin_data': bin_enm, \n",
    "                'param_grid': {'estimator__max_depth': np.arange(1,9,1), \n",
    "                               'estimator__n_estimators': [60,80]}\n",
    "               }\n",
    "a, b, _, _ = blt.multi_trials(num_trials=50, model_params=model_params)\n",
    "results_rfc.iloc[6,1:3] = a, b"
   ]
  },
  {
   "cell_type": "markdown",
   "metadata": {
    "collapsed": true
   },
   "source": [
    "## Matching (unsupervised) augmented data"
   ]
  },
  {
   "cell_type": "code",
   "execution_count": 94,
   "metadata": {
    "ExecuteTime": {
     "end_time": "2019-08-05T06:53:30.962182Z",
     "start_time": "2019-08-05T06:39:41.599639Z"
    }
   },
   "outputs": [
    {
     "name": "stdout",
     "output_type": "stream",
     "text": [
      "Avg accuracy:     0.619\n",
      "Median accuracy:  0.62\n",
      "StdDev accuracy:  0.015\n",
      "Numer of trials:  100\n"
     ]
    },
    {
     "data": {
      "text/html": [
       "\n",
       "                <audio controls=\"controls\" autoplay=\"autoplay\">\n",
       "                    <source src=\"./data/ping.wav\" type=\"audio/x-wav\" />\n",
       "                    Your browser does not support the audio element.\n",
       "                </audio>\n",
       "              "
      ],
      "text/plain": [
       "<IPython.lib.display.Audio object>"
      ]
     },
     "metadata": {},
     "output_type": "display_data"
    }
   ],
   "source": [
    "# 1:1\n",
    "model_params = {'classifier': 'rfc', \n",
    "                'aug_type': 'uns_match', \n",
    "                'k': 1, \n",
    "                'feat_data': X_enm, \n",
    "                'bin_data': bin_enm, \n",
    "                'param_grid': {'estimator__max_depth': np.arange(1,9,1), \n",
    "                               'estimator__n_estimators': [60,80]}\n",
    "               }\n",
    "a, b, _, _ = blt.multi_trials(num_trials=100, model_params=model_params)\n",
    "results_rfc.iloc[2,3:5] = a, b"
   ]
  },
  {
   "cell_type": "code",
   "execution_count": 70,
   "metadata": {
    "ExecuteTime": {
     "end_time": "2019-08-03T18:51:42.445357Z",
     "start_time": "2019-08-03T18:44:13.080255Z"
    }
   },
   "outputs": [
    {
     "name": "stdout",
     "output_type": "stream",
     "text": [
      "Avg accuracy:     0.601\n",
      "Median accuracy:  0.601\n",
      "StdDev accuracy:  0.019\n",
      "Numer of trials:  50\n"
     ]
    },
    {
     "data": {
      "text/html": [
       "\n",
       "                <audio controls=\"controls\" autoplay=\"autoplay\">\n",
       "                    <source src=\"./data/ping.wav\" type=\"audio/x-wav\" />\n",
       "                    Your browser does not support the audio element.\n",
       "                </audio>\n",
       "              "
      ],
      "text/plain": [
       "<IPython.lib.display.Audio object>"
      ]
     },
     "metadata": {},
     "output_type": "display_data"
    }
   ],
   "source": [
    "# 1:2\n",
    "model_params = {'classifier': 'rfc', \n",
    "                'aug_type': 'uns_match', \n",
    "                'k': 2, \n",
    "                'feat_data': X_enm, \n",
    "                'bin_data': bin_enm, \n",
    "                'param_grid': {'estimator__max_depth': np.arange(1,9,1), \n",
    "                               'estimator__n_estimators': [60,80]}\n",
    "               }\n",
    "a, b, _, _ = blt.multi_trials(num_trials=50, model_params=model_params)\n",
    "results_rfc.iloc[3,3:5] = a, b"
   ]
  },
  {
   "cell_type": "code",
   "execution_count": 71,
   "metadata": {
    "ExecuteTime": {
     "end_time": "2019-08-03T18:59:18.000962Z",
     "start_time": "2019-08-03T18:51:42.449240Z"
    }
   },
   "outputs": [
    {
     "name": "stdout",
     "output_type": "stream",
     "text": [
      "Avg accuracy:     0.595\n",
      "Median accuracy:  0.599\n",
      "StdDev accuracy:  0.019\n",
      "Numer of trials:  50\n"
     ]
    },
    {
     "data": {
      "text/html": [
       "\n",
       "                <audio controls=\"controls\" autoplay=\"autoplay\">\n",
       "                    <source src=\"./data/ping.wav\" type=\"audio/x-wav\" />\n",
       "                    Your browser does not support the audio element.\n",
       "                </audio>\n",
       "              "
      ],
      "text/plain": [
       "<IPython.lib.display.Audio object>"
      ]
     },
     "metadata": {},
     "output_type": "display_data"
    }
   ],
   "source": [
    "# 1:3\n",
    "model_params = {'classifier': 'rfc', \n",
    "                'aug_type': 'uns_match', \n",
    "                'k': 3, \n",
    "                'feat_data': X_enm, \n",
    "                'bin_data': bin_enm, \n",
    "                'param_grid': {'estimator__max_depth': np.arange(1,9,1), \n",
    "                               'estimator__n_estimators': [60,80]}\n",
    "               }\n",
    "a, b, _, _ = blt.multi_trials(num_trials=50, model_params=model_params)\n",
    "results_rfc.iloc[4,3:5] = a, b"
   ]
  },
  {
   "cell_type": "code",
   "execution_count": 85,
   "metadata": {
    "ExecuteTime": {
     "end_time": "2019-08-05T06:10:47.915087Z",
     "start_time": "2019-08-05T06:01:51.463304Z"
    }
   },
   "outputs": [
    {
     "name": "stdout",
     "output_type": "stream",
     "text": [
      "Avg accuracy:     0.587\n",
      "Median accuracy:  0.591\n",
      "StdDev accuracy:  0.018\n",
      "Numer of trials:  50\n"
     ]
    },
    {
     "data": {
      "text/html": [
       "\n",
       "                <audio controls=\"controls\" autoplay=\"autoplay\">\n",
       "                    <source src=\"./data/ping.wav\" type=\"audio/x-wav\" />\n",
       "                    Your browser does not support the audio element.\n",
       "                </audio>\n",
       "              "
      ],
      "text/plain": [
       "<IPython.lib.display.Audio object>"
      ]
     },
     "metadata": {},
     "output_type": "display_data"
    }
   ],
   "source": [
    "# 1:4\n",
    "model_params = {'classifier': 'rfc', \n",
    "                'aug_type': 'uns_match', \n",
    "                'k': 4, \n",
    "                'feat_data': X_enm, \n",
    "                'bin_data': bin_enm, \n",
    "                'param_grid': {'estimator__max_depth': np.arange(1,9,1), \n",
    "                               'estimator__n_estimators': [60,80]}\n",
    "               }\n",
    "a, b, _, _ = blt.multi_trials(num_trials=50, model_params=model_params)\n",
    "results_rfc.iloc[5,3:5] = a, b"
   ]
  },
  {
   "cell_type": "code",
   "execution_count": 86,
   "metadata": {
    "ExecuteTime": {
     "end_time": "2019-08-05T06:20:24.476459Z",
     "start_time": "2019-08-05T06:10:47.917281Z"
    }
   },
   "outputs": [
    {
     "name": "stdout",
     "output_type": "stream",
     "text": [
      "Avg accuracy:     0.593\n",
      "Median accuracy:  0.591\n",
      "StdDev accuracy:  0.019\n",
      "Numer of trials:  50\n"
     ]
    },
    {
     "data": {
      "text/html": [
       "\n",
       "                <audio controls=\"controls\" autoplay=\"autoplay\">\n",
       "                    <source src=\"./data/ping.wav\" type=\"audio/x-wav\" />\n",
       "                    Your browser does not support the audio element.\n",
       "                </audio>\n",
       "              "
      ],
      "text/plain": [
       "<IPython.lib.display.Audio object>"
      ]
     },
     "metadata": {},
     "output_type": "display_data"
    }
   ],
   "source": [
    "# 1:5\n",
    "model_params = {'classifier': 'rfc', \n",
    "                'aug_type': 'uns_match', \n",
    "                'k': 5, \n",
    "                'feat_data': X_enm, \n",
    "                'bin_data': bin_enm, \n",
    "                'param_grid': {'estimator__max_depth': np.arange(1,9,1), \n",
    "                               'estimator__n_estimators': [60,80]}\n",
    "               }\n",
    "a, b, _, _ = blt.multi_trials(num_trials=50, model_params=model_params)\n",
    "results_rfc.iloc[6,3:5] = a, b"
   ]
  },
  {
   "cell_type": "code",
   "execution_count": 100,
   "metadata": {
    "ExecuteTime": {
     "end_time": "2019-08-05T08:07:52.909372Z",
     "start_time": "2019-08-05T07:59:15.820980Z"
    }
   },
   "outputs": [
    {
     "name": "stdout",
     "output_type": "stream",
     "text": [
      "Avg accuracy:     0.588\n",
      "Median accuracy:  0.59\n",
      "StdDev accuracy:  0.017\n",
      "Numer of trials:  50\n"
     ]
    },
    {
     "data": {
      "text/html": [
       "\n",
       "                <audio controls=\"controls\" autoplay=\"autoplay\">\n",
       "                    <source src=\"./data/ping.wav\" type=\"audio/x-wav\" />\n",
       "                    Your browser does not support the audio element.\n",
       "                </audio>\n",
       "              "
      ],
      "text/plain": [
       "<IPython.lib.display.Audio object>"
      ]
     },
     "metadata": {},
     "output_type": "display_data"
    }
   ],
   "source": [
    "# 1:10\n",
    "model_params = {'classifier': 'rfc', \n",
    "                'aug_type': 'uns_match', \n",
    "                'k': 10, \n",
    "                'feat_data': X_enm, \n",
    "                'bin_data': bin_enm, \n",
    "                'param_grid': {'estimator__max_depth': np.arange(1,9,1), \n",
    "                               'estimator__n_estimators': [60,80]}\n",
    "               }\n",
    "a, b, _, _ = blt.multi_trials(num_trials=50, model_params=model_params)\n",
    "results_rfc.iloc[7,3:5] = a, b"
   ]
  },
  {
   "cell_type": "code",
   "execution_count": 101,
   "metadata": {
    "ExecuteTime": {
     "end_time": "2019-08-05T08:18:13.189650Z",
     "start_time": "2019-08-05T08:07:52.911979Z"
    }
   },
   "outputs": [
    {
     "name": "stdout",
     "output_type": "stream",
     "text": [
      "Avg accuracy:     0.573\n",
      "Median accuracy:  0.574\n",
      "StdDev accuracy:  0.022\n",
      "Numer of trials:  50\n"
     ]
    },
    {
     "data": {
      "text/html": [
       "\n",
       "                <audio controls=\"controls\" autoplay=\"autoplay\">\n",
       "                    <source src=\"./data/ping.wav\" type=\"audio/x-wav\" />\n",
       "                    Your browser does not support the audio element.\n",
       "                </audio>\n",
       "              "
      ],
      "text/plain": [
       "<IPython.lib.display.Audio object>"
      ]
     },
     "metadata": {},
     "output_type": "display_data"
    }
   ],
   "source": [
    "# 1:20\n",
    "model_params = {'classifier': 'rfc', \n",
    "                'aug_type': 'uns_match', \n",
    "                'k': 20, \n",
    "                'feat_data': X_enm, \n",
    "                'bin_data': bin_enm, \n",
    "                'param_grid': {'estimator__max_depth': np.arange(1,9,1), \n",
    "                               'estimator__n_estimators': [60,80]}\n",
    "               }\n",
    "a, b, _, _ = blt.multi_trials(num_trials=50, model_params=model_params)\n",
    "results_rfc.iloc[8,3:5] = a, b"
   ]
  },
  {
   "cell_type": "markdown",
   "metadata": {},
   "source": [
    "## Matching (supervised) augmented data"
   ]
  },
  {
   "cell_type": "code",
   "execution_count": 415,
   "metadata": {
    "ExecuteTime": {
     "end_time": "2019-08-02T05:05:41.321014Z",
     "start_time": "2019-08-02T05:05:31.311666Z"
    }
   },
   "outputs": [
    {
     "data": {
      "image/png": "[encoded data removed]",
      "text/plain": [
       "<Figure size 432x288 with 2 Axes>"
      ]
     },
     "metadata": {
      "needs_background": "light"
     },
     "output_type": "display_data"
    },
    {
     "name": "stdout",
     "output_type": "stream",
     "text": [
      "Random state:\t 18\n",
      "Best parameters: {'max_depth': 4, 'n_estimators': 80}\n",
      "Max opt. balanced accuracy: 0.636\n",
      "Avg. balanced accuracy:     0.631\n",
      "Normalized Confusion Matrix\n",
      "[[0.92 0.03 0.06]\n",
      " [0.41 0.45 0.14]\n",
      " [0.29 0.18 0.53]]\n"
     ]
    },
    {
     "data": {
      "text/html": [
       "\n",
       "                <audio controls=\"controls\" autoplay=\"autoplay\">\n",
       "                    <source src=\"./data/ping.wav\" type=\"audio/x-wav\" />\n",
       "                    Your browser does not support the audio element.\n",
       "                </audio>\n",
       "              "
      ],
      "text/plain": [
       "<IPython.lib.display.Audio object>"
      ]
     },
     "metadata": {},
     "output_type": "display_data"
    }
   ],
   "source": [
    "# Single trial RFC\n",
    "param_grid = {'estimator__max_depth': np.arange(1,9,1), \n",
    "              'estimator__n_estimators': [60,80]}\n",
    "acc, impt = blt.model_opt_exe(classifier='rfc', \n",
    "                              aug_type='sup_match', \n",
    "                              k=4, \n",
    "                              feat_data=X_enm, \n",
    "                              bin_data=bin_enm, \n",
    "                              show_opt_plot=True, \n",
    "                              show_feat_impt=False, \n",
    "                              show_cnf_matrix=False, \n",
    "                              param_grid=param_grid)"
   ]
  },
  {
   "cell_type": "code",
   "execution_count": 95,
   "metadata": {
    "ExecuteTime": {
     "end_time": "2019-08-05T07:08:03.382786Z",
     "start_time": "2019-08-05T06:53:30.964264Z"
    }
   },
   "outputs": [
    {
     "name": "stdout",
     "output_type": "stream",
     "text": [
      "Avg accuracy:     0.625\n",
      "Median accuracy:  0.623\n",
      "StdDev accuracy:  0.019\n",
      "Numer of trials:  100\n",
      "Results:  [0.63, 0.62, 0.62, 0.6, 0.61, 0.6, 0.66, 0.62, 0.64, 0.62, 0.63, 0.63, 0.59, 0.6, 0.65, 0.61, 0.61, 0.67, 0.64, 0.61, 0.62, 0.64, 0.63, 0.6, 0.61, 0.62, 0.62, 0.6, 0.62, 0.63, 0.6, 0.61, 0.59, 0.64, 0.61, 0.62, 0.66, 0.63, 0.65, 0.61, 0.62, 0.66, 0.63, 0.61, 0.6, 0.62, 0.64, 0.65, 0.68, 0.63, 0.62, 0.61, 0.61, 0.6, 0.63, 0.6, 0.6, 0.61, 0.67, 0.63, 0.63, 0.63, 0.61, 0.63, 0.62, 0.63, 0.61, 0.62, 0.64, 0.64, 0.62, 0.62, 0.66, 0.62, 0.63, 0.6, 0.61, 0.62, 0.63, 0.66, 0.63, 0.6, 0.64, 0.62, 0.6, 0.62, 0.62, 0.63, 0.64, 0.65, 0.58, 0.62, 0.65, 0.61, 0.63, 0.64, 0.62, 0.64, 0.63, 0.61]\n"
     ]
    },
    {
     "data": {
      "text/html": [
       "\n",
       "                <audio controls=\"controls\" autoplay=\"autoplay\">\n",
       "                    <source src=\"./data/ping.wav\" type=\"audio/x-wav\" />\n",
       "                    Your browser does not support the audio element.\n",
       "                </audio>\n",
       "              "
      ],
      "text/plain": [
       "<IPython.lib.display.Audio object>"
      ]
     },
     "metadata": {},
     "output_type": "display_data"
    }
   ],
   "source": [
    "# 1:1\n",
    "model_params = {'classifier': 'rfc', \n",
    "                'aug_type': 'sup_match', \n",
    "                'k': 1, \n",
    "                'feat_data': X_enm, \n",
    "                'bin_data': bin_enm, \n",
    "                'param_grid': {'estimator__max_depth': np.arange(1,9,1), \n",
    "                               'estimator__n_estimators': [60,80]}\n",
    "               }\n",
    "a, b, _, _ = blt.multi_trials(num_trials=100, print_results=True, \n",
    "                              model_params=model_params)\n",
    "results_rfc.iloc[2,5:7] = a, b"
   ]
  },
  {
   "cell_type": "code",
   "execution_count": 460,
   "metadata": {
    "ExecuteTime": {
     "end_time": "2019-08-02T06:59:44.678221Z",
     "start_time": "2019-08-02T06:52:19.001355Z"
    }
   },
   "outputs": [
    {
     "name": "stdout",
     "output_type": "stream",
     "text": [
      "Avg accuracy:     0.622\n",
      "Median accuracy:  0.622\n",
      "StdDev accuracy:  0.02\n",
      "Numer of trials:  50\n",
      "Results:  [0.61, 0.61, 0.65, 0.61, 0.58, 0.66, 0.62, 0.61, 0.66, 0.61, 0.65, 0.6, 0.62, 0.64, 0.65, 0.58, 0.61, 0.61, 0.62, 0.61, 0.63, 0.6, 0.61, 0.63, 0.61, 0.62, 0.62, 0.63, 0.6, 0.62, 0.6, 0.62, 0.63, 0.59, 0.62, 0.61, 0.61, 0.63, 0.6, 0.6, 0.63, 0.63, 0.64, 0.66, 0.63, 0.61, 0.6, 0.64, 0.63, 0.67]\n"
     ]
    },
    {
     "data": {
      "text/html": [
       "\n",
       "                <audio controls=\"controls\" autoplay=\"autoplay\">\n",
       "                    <source src=\"./data/ping.wav\" type=\"audio/x-wav\" />\n",
       "                    Your browser does not support the audio element.\n",
       "                </audio>\n",
       "              "
      ],
      "text/plain": [
       "<IPython.lib.display.Audio object>"
      ]
     },
     "metadata": {},
     "output_type": "display_data"
    }
   ],
   "source": [
    "# 1:2\n",
    "model_params = {'classifier': 'rfc', \n",
    "                'aug_type': 'sup_match', \n",
    "                'k': 2, \n",
    "                'feat_data': X_enm, \n",
    "                'bin_data': bin_enm, \n",
    "                'param_grid': {'estimator__max_depth': np.arange(1,9,1), \n",
    "                               'estimator__n_estimators': [60,80]}\n",
    "               }\n",
    "a, b, _, _ = blt.multi_trials(num_trials=50, print_results=True, \n",
    "                              model_params=model_params)\n",
    "results_rfc.iloc[3,5:7] = a, b"
   ]
  },
  {
   "cell_type": "code",
   "execution_count": 461,
   "metadata": {
    "ExecuteTime": {
     "end_time": "2019-08-02T07:07:27.523439Z",
     "start_time": "2019-08-02T06:59:44.681139Z"
    }
   },
   "outputs": [
    {
     "name": "stdout",
     "output_type": "stream",
     "text": [
      "Avg accuracy:     0.615\n",
      "Median accuracy:  0.613\n",
      "StdDev accuracy:  0.019\n",
      "Numer of trials:  50\n",
      "Results:  [0.62, 0.65, 0.55, 0.61, 0.63, 0.61, 0.6, 0.6, 0.62, 0.61, 0.6, 0.61, 0.62, 0.62, 0.6, 0.59, 0.59, 0.62, 0.62, 0.61, 0.6, 0.6, 0.63, 0.64, 0.62, 0.61, 0.64, 0.59, 0.62, 0.6, 0.63, 0.6, 0.62, 0.65, 0.6, 0.62, 0.65, 0.63, 0.59, 0.64, 0.61, 0.61, 0.62, 0.6, 0.59, 0.61, 0.62, 0.64, 0.58, 0.61]\n"
     ]
    },
    {
     "data": {
      "text/html": [
       "\n",
       "                <audio controls=\"controls\" autoplay=\"autoplay\">\n",
       "                    <source src=\"./data/ping.wav\" type=\"audio/x-wav\" />\n",
       "                    Your browser does not support the audio element.\n",
       "                </audio>\n",
       "              "
      ],
      "text/plain": [
       "<IPython.lib.display.Audio object>"
      ]
     },
     "metadata": {},
     "output_type": "display_data"
    }
   ],
   "source": [
    "# 1:3\n",
    "model_params = {'classifier': 'rfc', \n",
    "                'aug_type': 'sup_match', \n",
    "                'k': 3, \n",
    "                'feat_data': X_enm, \n",
    "                'bin_data': bin_enm, \n",
    "                'param_grid': {'estimator__max_depth': np.arange(1,9,1), \n",
    "                               'estimator__n_estimators': [60,80]}\n",
    "               }\n",
    "a, b, _, _ = blt.multi_trials(num_trials=50, print_results=True, \n",
    "                              model_params=model_params)\n",
    "results_rfc.iloc[4,5:7] = a, b"
   ]
  },
  {
   "cell_type": "code",
   "execution_count": 58,
   "metadata": {
    "ExecuteTime": {
     "end_time": "2019-08-02T08:56:42.249569Z",
     "start_time": "2019-08-02T08:48:49.038441Z"
    }
   },
   "outputs": [
    {
     "name": "stdout",
     "output_type": "stream",
     "text": [
      "Avg accuracy:     0.602\n",
      "Median accuracy:  0.604\n",
      "StdDev accuracy:  0.019\n",
      "Numer of trials:  50\n",
      "Results:  [0.62, 0.62, 0.58, 0.6, 0.59, 0.63, 0.6, 0.61, 0.58, 0.58, 0.63, 0.63, 0.58, 0.59, 0.6, 0.56, 0.63, 0.6, 0.56, 0.61, 0.61, 0.63, 0.6, 0.6, 0.6, 0.57, 0.6, 0.6, 0.63, 0.6, 0.62, 0.61, 0.59, 0.58, 0.57, 0.59, 0.61, 0.6, 0.61, 0.59, 0.59, 0.58, 0.61, 0.62, 0.61, 0.59, 0.59, 0.63, 0.6, 0.61]\n"
     ]
    },
    {
     "data": {
      "text/html": [
       "\n",
       "                <audio controls=\"controls\" autoplay=\"autoplay\">\n",
       "                    <source src=\"./data/ping.wav\" type=\"audio/x-wav\" />\n",
       "                    Your browser does not support the audio element.\n",
       "                </audio>\n",
       "              "
      ],
      "text/plain": [
       "<IPython.lib.display.Audio object>"
      ]
     },
     "metadata": {},
     "output_type": "display_data"
    }
   ],
   "source": [
    "# 1:4\n",
    "model_params = {'classifier': 'rfc', \n",
    "                'aug_type': 'sup_match', \n",
    "                'k': 4, \n",
    "                'feat_data': X_enm, \n",
    "                'bin_data': bin_enm, \n",
    "                'param_grid': {'estimator__max_depth': np.arange(1,9,1), \n",
    "                               'estimator__n_estimators': [60,80]}\n",
    "               }\n",
    "a, b, _, _ = blt.multi_trials(num_trials=50, print_results=True, \n",
    "                              model_params=model_params)\n",
    "results_rfc.iloc[5,5:7] = a, b"
   ]
  },
  {
   "cell_type": "code",
   "execution_count": 59,
   "metadata": {
    "ExecuteTime": {
     "end_time": "2019-08-02T09:04:44.672041Z",
     "start_time": "2019-08-02T08:56:42.253448Z"
    }
   },
   "outputs": [
    {
     "name": "stdout",
     "output_type": "stream",
     "text": [
      "Avg accuracy:     0.588\n",
      "Median accuracy:  0.591\n",
      "StdDev accuracy:  0.018\n",
      "Numer of trials:  50\n",
      "Results:  [0.59, 0.57, 0.58, 0.55, 0.56, 0.56, 0.58, 0.59, 0.56, 0.58, 0.59, 0.58, 0.61, 0.62, 0.57, 0.59, 0.6, 0.6, 0.57, 0.6, 0.6, 0.61, 0.6, 0.61, 0.6, 0.59, 0.62, 0.57, 0.59, 0.6, 0.56, 0.55, 0.59, 0.58, 0.58, 0.59, 0.58, 0.59, 0.59, 0.59, 0.58, 0.56, 0.59, 0.6, 0.58, 0.59, 0.6, 0.59, 0.61, 0.57]\n"
     ]
    },
    {
     "data": {
      "text/html": [
       "\n",
       "                <audio controls=\"controls\" autoplay=\"autoplay\">\n",
       "                    <source src=\"./data/ping.wav\" type=\"audio/x-wav\" />\n",
       "                    Your browser does not support the audio element.\n",
       "                </audio>\n",
       "              "
      ],
      "text/plain": [
       "<IPython.lib.display.Audio object>"
      ]
     },
     "metadata": {},
     "output_type": "display_data"
    }
   ],
   "source": [
    "# 1:5\n",
    "model_params = {'classifier': 'rfc', \n",
    "                'aug_type': 'sup_match', \n",
    "                'k': 5, \n",
    "                'feat_data': X_enm, \n",
    "                'bin_data': bin_enm, \n",
    "                'param_grid': {'estimator__max_depth': np.arange(1,9,1), \n",
    "                               'estimator__n_estimators': [60,80]}\n",
    "               }\n",
    "a, b, _, _ = blt.multi_trials(num_trials=50, print_results=True, \n",
    "                              model_params=model_params)\n",
    "results_rfc.iloc[6,5:7] = a, b"
   ]
  },
  {
   "cell_type": "code",
   "execution_count": 60,
   "metadata": {
    "ExecuteTime": {
     "end_time": "2019-08-02T09:14:26.904666Z",
     "start_time": "2019-08-02T09:04:44.674435Z"
    }
   },
   "outputs": [
    {
     "name": "stdout",
     "output_type": "stream",
     "text": [
      "Avg accuracy:     0.574\n",
      "Median accuracy:  0.574\n",
      "StdDev accuracy:  0.018\n",
      "Numer of trials:  50\n",
      "Results:  [0.55, 0.57, 0.56, 0.55, 0.57, 0.6, 0.59, 0.58, 0.59, 0.56, 0.57, 0.58, 0.55, 0.59, 0.61, 0.57, 0.59, 0.56, 0.57, 0.59, 0.56, 0.55, 0.57, 0.56, 0.59, 0.56, 0.58, 0.54, 0.57, 0.58, 0.6, 0.56, 0.6, 0.55, 0.6, 0.54, 0.57, 0.56, 0.56, 0.54, 0.56, 0.56, 0.58, 0.61, 0.59, 0.56, 0.59, 0.59, 0.57, 0.59]\n"
     ]
    },
    {
     "data": {
      "text/html": [
       "\n",
       "                <audio controls=\"controls\" autoplay=\"autoplay\">\n",
       "                    <source src=\"./data/ping.wav\" type=\"audio/x-wav\" />\n",
       "                    Your browser does not support the audio element.\n",
       "                </audio>\n",
       "              "
      ],
      "text/plain": [
       "<IPython.lib.display.Audio object>"
      ]
     },
     "metadata": {},
     "output_type": "display_data"
    }
   ],
   "source": [
    "# 1:10\n",
    "model_params = {'classifier': 'rfc', \n",
    "                'aug_type': 'sup_match', \n",
    "                'k': 10, \n",
    "                'feat_data': X_enm, \n",
    "                'bin_data': bin_enm, \n",
    "                'param_grid': {'estimator__max_depth': np.arange(1,9,1), \n",
    "                               'estimator__n_estimators': [60,80]}\n",
    "               }\n",
    "a, b, _, _ = blt.multi_trials(num_trials=50, print_results=True, \n",
    "                              model_params=model_params)\n",
    "results_rfc.iloc[7,5:7] = a, b"
   ]
  },
  {
   "cell_type": "code",
   "execution_count": 61,
   "metadata": {
    "ExecuteTime": {
     "end_time": "2019-08-02T09:25:04.997111Z",
     "start_time": "2019-08-02T09:14:26.906844Z"
    }
   },
   "outputs": [
    {
     "name": "stdout",
     "output_type": "stream",
     "text": [
      "Avg accuracy:     0.572\n",
      "Median accuracy:  0.574\n",
      "StdDev accuracy:  0.012\n",
      "Numer of trials:  50\n",
      "Results:  [0.59, 0.57, 0.56, 0.57, 0.56, 0.57, 0.56, 0.56, 0.56, 0.57, 0.6, 0.59, 0.57, 0.58, 0.57, 0.56, 0.57, 0.56, 0.57, 0.54, 0.57, 0.57, 0.59, 0.57, 0.57, 0.56, 0.56, 0.56, 0.57, 0.57, 0.57, 0.57, 0.56, 0.59, 0.58, 0.57, 0.57, 0.57, 0.55, 0.57, 0.58, 0.58, 0.56, 0.58, 0.58, 0.57, 0.59, 0.58, 0.59, 0.59]\n"
     ]
    },
    {
     "data": {
      "text/html": [
       "\n",
       "                <audio controls=\"controls\" autoplay=\"autoplay\">\n",
       "                    <source src=\"./data/ping.wav\" type=\"audio/x-wav\" />\n",
       "                    Your browser does not support the audio element.\n",
       "                </audio>\n",
       "              "
      ],
      "text/plain": [
       "<IPython.lib.display.Audio object>"
      ]
     },
     "metadata": {},
     "output_type": "display_data"
    }
   ],
   "source": [
    "# 1:20\n",
    "model_params = {'classifier': 'rfc', \n",
    "                'aug_type': 'sup_match', \n",
    "                'k': 20, \n",
    "                'feat_data': X_enm, \n",
    "                'bin_data': bin_enm, \n",
    "                'param_grid': {'estimator__max_depth': np.arange(1,9,1), \n",
    "                               'estimator__n_estimators': [60,80]}\n",
    "               }\n",
    "a, b, _, _ = blt.multi_trials(num_trials=50, print_results=True, \n",
    "                              model_params=model_params)\n",
    "results_rfc.iloc[8,5:7] = a, b"
   ]
  },
  {
   "cell_type": "code",
   "execution_count": 99,
   "metadata": {
    "ExecuteTime": {
     "end_time": "2019-08-05T07:59:15.818759Z",
     "start_time": "2019-08-05T07:43:42.279578Z"
    }
   },
   "outputs": [
    {
     "name": "stdout",
     "output_type": "stream",
     "text": [
      "Avg accuracy:     0.542\n",
      "Median accuracy:  0.541\n",
      "StdDev accuracy:  0.019\n",
      "Numer of trials:  50\n",
      "Results:  [0.58, 0.54, 0.56, 0.52, 0.55, 0.55, 0.52, 0.54, 0.54, 0.53, 0.56, 0.52, 0.55, 0.56, 0.57, 0.54, 0.56, 0.57, 0.55, 0.54, 0.54, 0.53, 0.54, 0.56, 0.54, 0.55, 0.52, 0.55, 0.51, 0.56, 0.56, 0.52, 0.53, 0.53, 0.53, 0.54, 0.5, 0.5, 0.58, 0.53, 0.51, 0.54, 0.56, 0.54, 0.56, 0.55, 0.57, 0.53, 0.54, 0.53]\n"
     ]
    },
    {
     "data": {
      "text/html": [
       "\n",
       "                <audio controls=\"controls\" autoplay=\"autoplay\">\n",
       "                    <source src=\"./data/ping.wav\" type=\"audio/x-wav\" />\n",
       "                    Your browser does not support the audio element.\n",
       "                </audio>\n",
       "              "
      ],
      "text/plain": [
       "<IPython.lib.display.Audio object>"
      ]
     },
     "metadata": {},
     "output_type": "display_data"
    }
   ],
   "source": [
    "# 1:50\n",
    "model_params = {'classifier': 'rfc', \n",
    "                'aug_type': 'sup_match', \n",
    "                'k': 50, \n",
    "                'feat_data': X_enm, \n",
    "                'bin_data': bin_enm, \n",
    "                'param_grid': {'estimator__max_depth': np.arange(1,9,1), \n",
    "                               'estimator__n_estimators': [60,80]}\n",
    "               }\n",
    "a, b, _, _ = blt.multi_trials(num_trials=50, print_results=True, \n",
    "                              model_params=model_params)\n",
    "results_rfc.iloc[9,5:7] = a, b"
   ]
  },
  {
   "cell_type": "markdown",
   "metadata": {},
   "source": [
    "# Performance Results"
   ]
  },
  {
   "cell_type": "markdown",
   "metadata": {},
   "source": [
    "The following two table summarize the average balanced accuracy for the 1) SVC-RBF models and 2) RFC models on all training data iterations.\n",
    "* 'ENM-Organics-Ratio' describes the ratio of ENM data to organics data used for augmentation. \n",
    "* An ENM-Organics-Ratio with ( * ) indicates that the labels were randomly permuted\n",
    "* 'Match-Feature-Augment' is average balanced accuracy across all bins for data frames with ENM data augmented with organics data based on the closest matching features.\n",
    "* 'Avg-Unsupervised-Match' is average accuracy across all bins for data frames with ENM data augmented with organics data based on the closest matching features AND labels (weighted 1:1).\n",
    "* The second trial (B) of the ENM-only data (1:0 ratio) is with different a different parameter grid for optimizing the SVC-RBF.\n",
    "\n",
    "Matching augmentation was not performed on data frames only containing ENM data (non-permuted and permuted)."
   ]
  },
  {
   "cell_type": "markdown",
   "metadata": {},
   "source": [
    "## SVC-RBF"
   ]
  },
  {
   "cell_type": "code",
   "execution_count": 109,
   "metadata": {
    "ExecuteTime": {
     "end_time": "2019-08-06T17:54:39.938081Z",
     "start_time": "2019-08-06T17:54:39.498696Z"
    }
   },
   "outputs": [
    {
     "data": {
      "text/html": [
       "<style  type=\"text/css\" >\n",
       "    #T_4324c5c0_b873_11e9_ac0f_38f9d35f0336row0_col0 {\n",
       "            background-color:  #ffd40e;\n",
       "            color:  #000000;\n",
       "            : ;\n",
       "            color:  black;\n",
       "        }    #T_4324c5c0_b873_11e9_ac0f_38f9d35f0336row0_col1 {\n",
       "            background-color:  #e4ff7a;\n",
       "            color:  #000000;\n",
       "            : ;\n",
       "            color:  #e4ff7a;\n",
       "        }    #T_4324c5c0_b873_11e9_ac0f_38f9d35f0336row0_col2 {\n",
       "            background-color:  #e4ff7a;\n",
       "            color:  #000000;\n",
       "            : ;\n",
       "            color:  #e4ff7a;\n",
       "        }    #T_4324c5c0_b873_11e9_ac0f_38f9d35f0336row1_col0 {\n",
       "            background-color:  #ffbb00;\n",
       "            color:  #000000;\n",
       "            : ;\n",
       "            color:  black;\n",
       "        }    #T_4324c5c0_b873_11e9_ac0f_38f9d35f0336row1_col1 {\n",
       "            background-color:  #e4ff7a;\n",
       "            color:  #000000;\n",
       "            : ;\n",
       "            color:  #e4ff7a;\n",
       "        }    #T_4324c5c0_b873_11e9_ac0f_38f9d35f0336row1_col2 {\n",
       "            background-color:  #e4ff7a;\n",
       "            color:  #000000;\n",
       "            : ;\n",
       "            color:  #e4ff7a;\n",
       "        }    #T_4324c5c0_b873_11e9_ac0f_38f9d35f0336row2_col0 {\n",
       "            background-color:  #ffba00;\n",
       "            color:  #000000;\n",
       "            : ;\n",
       "            color:  black;\n",
       "        }    #T_4324c5c0_b873_11e9_ac0f_38f9d35f0336row2_col1 {\n",
       "            background-color:  #ffbe01;\n",
       "            color:  #000000;\n",
       "            : ;\n",
       "            color:  black;\n",
       "        }    #T_4324c5c0_b873_11e9_ac0f_38f9d35f0336row2_col2 {\n",
       "            background-color:  #ffbb00;\n",
       "            color:  #000000;\n",
       "            : ;\n",
       "            color:  black;\n",
       "        }    #T_4324c5c0_b873_11e9_ac0f_38f9d35f0336row3_col0 {\n",
       "            background-color:  #ffba00;\n",
       "            color:  #000000;\n",
       "            background-color:  #fc7f00;\n",
       "            color:  black;\n",
       "        }    #T_4324c5c0_b873_11e9_ac0f_38f9d35f0336row3_col1 {\n",
       "            background-color:  #ffbc00;\n",
       "            color:  #000000;\n",
       "            : ;\n",
       "            color:  black;\n",
       "        }    #T_4324c5c0_b873_11e9_ac0f_38f9d35f0336row3_col2 {\n",
       "            background-color:  #ffba00;\n",
       "            color:  #000000;\n",
       "            : ;\n",
       "            color:  black;\n",
       "        }    #T_4324c5c0_b873_11e9_ac0f_38f9d35f0336row4_col0 {\n",
       "            background-color:  #ffbb00;\n",
       "            color:  #000000;\n",
       "            : ;\n",
       "            color:  black;\n",
       "        }    #T_4324c5c0_b873_11e9_ac0f_38f9d35f0336row4_col1 {\n",
       "            background-color:  #ffba00;\n",
       "            color:  #000000;\n",
       "            : ;\n",
       "            color:  black;\n",
       "        }    #T_4324c5c0_b873_11e9_ac0f_38f9d35f0336row4_col2 {\n",
       "            background-color:  #ffba00;\n",
       "            color:  #000000;\n",
       "            : ;\n",
       "            color:  black;\n",
       "        }    #T_4324c5c0_b873_11e9_ac0f_38f9d35f0336row5_col0 {\n",
       "            background-color:  #ffba00;\n",
       "            color:  #000000;\n",
       "            : ;\n",
       "            color:  black;\n",
       "        }    #T_4324c5c0_b873_11e9_ac0f_38f9d35f0336row5_col1 {\n",
       "            background-color:  #ffba00;\n",
       "            color:  #000000;\n",
       "            background-color:  #fc7f00;\n",
       "            color:  black;\n",
       "        }    #T_4324c5c0_b873_11e9_ac0f_38f9d35f0336row5_col2 {\n",
       "            background-color:  #ffba00;\n",
       "            color:  #000000;\n",
       "            background-color:  #fc7f00;\n",
       "            color:  black;\n",
       "        }    #T_4324c5c0_b873_11e9_ac0f_38f9d35f0336row6_col0 {\n",
       "            background-color:  #ffba00;\n",
       "            color:  #000000;\n",
       "            : ;\n",
       "            color:  black;\n",
       "        }    #T_4324c5c0_b873_11e9_ac0f_38f9d35f0336row6_col1 {\n",
       "            background-color:  #ffbb00;\n",
       "            color:  #000000;\n",
       "            : ;\n",
       "            color:  black;\n",
       "        }    #T_4324c5c0_b873_11e9_ac0f_38f9d35f0336row6_col2 {\n",
       "            background-color:  #ffba00;\n",
       "            color:  #000000;\n",
       "            : ;\n",
       "            color:  black;\n",
       "        }    #T_4324c5c0_b873_11e9_ac0f_38f9d35f0336row7_col0 {\n",
       "            background-color:  #ffba00;\n",
       "            color:  #000000;\n",
       "            background-color:  #fc7f00;\n",
       "            color:  black;\n",
       "        }    #T_4324c5c0_b873_11e9_ac0f_38f9d35f0336row7_col1 {\n",
       "            background-color:  #ffba00;\n",
       "            color:  #000000;\n",
       "            background-color:  #fc7f00;\n",
       "            color:  black;\n",
       "        }    #T_4324c5c0_b873_11e9_ac0f_38f9d35f0336row7_col2 {\n",
       "            background-color:  #ffbc00;\n",
       "            color:  #000000;\n",
       "            : ;\n",
       "            color:  black;\n",
       "        }    #T_4324c5c0_b873_11e9_ac0f_38f9d35f0336row8_col0 {\n",
       "            background-color:  #ffbc00;\n",
       "            color:  #000000;\n",
       "            : ;\n",
       "            color:  black;\n",
       "        }    #T_4324c5c0_b873_11e9_ac0f_38f9d35f0336row8_col1 {\n",
       "            background-color:  #ffba00;\n",
       "            color:  #000000;\n",
       "            : ;\n",
       "            color:  black;\n",
       "        }    #T_4324c5c0_b873_11e9_ac0f_38f9d35f0336row8_col2 {\n",
       "            background-color:  #ffbb00;\n",
       "            color:  #000000;\n",
       "            : ;\n",
       "            color:  black;\n",
       "        }    #T_4324c5c0_b873_11e9_ac0f_38f9d35f0336row9_col0 {\n",
       "            background-color:  #e4ff7a;\n",
       "            color:  #000000;\n",
       "            : ;\n",
       "            color:  #e4ff7a;\n",
       "        }    #T_4324c5c0_b873_11e9_ac0f_38f9d35f0336row9_col1 {\n",
       "            background-color:  #e4ff7a;\n",
       "            color:  #000000;\n",
       "            : ;\n",
       "            color:  #e4ff7a;\n",
       "        }    #T_4324c5c0_b873_11e9_ac0f_38f9d35f0336row9_col2 {\n",
       "            background-color:  #ffbd00;\n",
       "            color:  #000000;\n",
       "            : ;\n",
       "            color:  black;\n",
       "        }    #T_4324c5c0_b873_11e9_ac0f_38f9d35f0336row10_col0 {\n",
       "            background-color:  #e4ff7a;\n",
       "            color:  #000000;\n",
       "            : ;\n",
       "            color:  #e4ff7a;\n",
       "        }    #T_4324c5c0_b873_11e9_ac0f_38f9d35f0336row10_col1 {\n",
       "            background-color:  #e4ff7a;\n",
       "            color:  #000000;\n",
       "            : ;\n",
       "            color:  #e4ff7a;\n",
       "        }    #T_4324c5c0_b873_11e9_ac0f_38f9d35f0336row10_col2 {\n",
       "            background-color:  #e4ff7a;\n",
       "            color:  #000000;\n",
       "            : ;\n",
       "            color:  #e4ff7a;\n",
       "        }</style><table id=\"T_4324c5c0_b873_11e9_ac0f_38f9d35f0336\" ><caption>Colormap of average balanced accuracy for SVC-RBF models.</caption><thead>    <tr>        <th class=\"blank level0\" ></th>        <th class=\"col_heading level0 col0\" >Avg-Random-Augment</th>        <th class=\"col_heading level0 col1\" >Avg-Unsupervised-Match</th>        <th class=\"col_heading level0 col2\" >Avg-Supervised-Match</th>    </tr>    <tr>        <th class=\"index_name level0\" >ENM-Organics-Ratio</th>        <th class=\"blank\" ></th>        <th class=\"blank\" ></th>        <th class=\"blank\" ></th>    </tr></thead><tbody>\n",
       "                <tr>\n",
       "                        <th id=\"T_4324c5c0_b873_11e9_ac0f_38f9d35f0336level0_row0\" class=\"row_heading level0 row0\" >1:0*</th>\n",
       "                        <td id=\"T_4324c5c0_b873_11e9_ac0f_38f9d35f0336row0_col0\" class=\"data row0 col0\" >0.413</td>\n",
       "                        <td id=\"T_4324c5c0_b873_11e9_ac0f_38f9d35f0336row0_col1\" class=\"data row0 col1\" >0</td>\n",
       "                        <td id=\"T_4324c5c0_b873_11e9_ac0f_38f9d35f0336row0_col2\" class=\"data row0 col2\" >0</td>\n",
       "            </tr>\n",
       "            <tr>\n",
       "                        <th id=\"T_4324c5c0_b873_11e9_ac0f_38f9d35f0336level0_row1\" class=\"row_heading level0 row1\" >1:0</th>\n",
       "                        <td id=\"T_4324c5c0_b873_11e9_ac0f_38f9d35f0336row1_col0\" class=\"data row1 col0\" >0.577</td>\n",
       "                        <td id=\"T_4324c5c0_b873_11e9_ac0f_38f9d35f0336row1_col1\" class=\"data row1 col1\" >0</td>\n",
       "                        <td id=\"T_4324c5c0_b873_11e9_ac0f_38f9d35f0336row1_col2\" class=\"data row1 col2\" >0</td>\n",
       "            </tr>\n",
       "            <tr>\n",
       "                        <th id=\"T_4324c5c0_b873_11e9_ac0f_38f9d35f0336level0_row2\" class=\"row_heading level0 row2\" >1:1</th>\n",
       "                        <td id=\"T_4324c5c0_b873_11e9_ac0f_38f9d35f0336row2_col0\" class=\"data row2 col0\" >0.587</td>\n",
       "                        <td id=\"T_4324c5c0_b873_11e9_ac0f_38f9d35f0336row2_col1\" class=\"data row2 col1\" >0.568</td>\n",
       "                        <td id=\"T_4324c5c0_b873_11e9_ac0f_38f9d35f0336row2_col2\" class=\"data row2 col2\" >0.604</td>\n",
       "            </tr>\n",
       "            <tr>\n",
       "                        <th id=\"T_4324c5c0_b873_11e9_ac0f_38f9d35f0336level0_row3\" class=\"row_heading level0 row3\" >1:2</th>\n",
       "                        <td id=\"T_4324c5c0_b873_11e9_ac0f_38f9d35f0336row3_col0\" class=\"data row3 col0\" >0.59</td>\n",
       "                        <td id=\"T_4324c5c0_b873_11e9_ac0f_38f9d35f0336row3_col1\" class=\"data row3 col1\" >0.585</td>\n",
       "                        <td id=\"T_4324c5c0_b873_11e9_ac0f_38f9d35f0336row3_col2\" class=\"data row3 col2\" >0.611</td>\n",
       "            </tr>\n",
       "            <tr>\n",
       "                        <th id=\"T_4324c5c0_b873_11e9_ac0f_38f9d35f0336level0_row4\" class=\"row_heading level0 row4\" >1:3</th>\n",
       "                        <td id=\"T_4324c5c0_b873_11e9_ac0f_38f9d35f0336row4_col0\" class=\"data row4 col0\" >0.581</td>\n",
       "                        <td id=\"T_4324c5c0_b873_11e9_ac0f_38f9d35f0336row4_col1\" class=\"data row4 col1\" >0.6</td>\n",
       "                        <td id=\"T_4324c5c0_b873_11e9_ac0f_38f9d35f0336row4_col2\" class=\"data row4 col2\" >0.611</td>\n",
       "            </tr>\n",
       "            <tr>\n",
       "                        <th id=\"T_4324c5c0_b873_11e9_ac0f_38f9d35f0336level0_row5\" class=\"row_heading level0 row5\" >1:4</th>\n",
       "                        <td id=\"T_4324c5c0_b873_11e9_ac0f_38f9d35f0336row5_col0\" class=\"data row5 col0\" >0.587</td>\n",
       "                        <td id=\"T_4324c5c0_b873_11e9_ac0f_38f9d35f0336row5_col1\" class=\"data row5 col1\" >0.603</td>\n",
       "                        <td id=\"T_4324c5c0_b873_11e9_ac0f_38f9d35f0336row5_col2\" class=\"data row5 col2\" >0.613</td>\n",
       "            </tr>\n",
       "            <tr>\n",
       "                        <th id=\"T_4324c5c0_b873_11e9_ac0f_38f9d35f0336level0_row6\" class=\"row_heading level0 row6\" >1:5</th>\n",
       "                        <td id=\"T_4324c5c0_b873_11e9_ac0f_38f9d35f0336row6_col0\" class=\"data row6 col0\" >0.584</td>\n",
       "                        <td id=\"T_4324c5c0_b873_11e9_ac0f_38f9d35f0336row6_col1\" class=\"data row6 col1\" >0.592</td>\n",
       "                        <td id=\"T_4324c5c0_b873_11e9_ac0f_38f9d35f0336row6_col2\" class=\"data row6 col2\" >0.608</td>\n",
       "            </tr>\n",
       "            <tr>\n",
       "                        <th id=\"T_4324c5c0_b873_11e9_ac0f_38f9d35f0336level0_row7\" class=\"row_heading level0 row7\" >1:10</th>\n",
       "                        <td id=\"T_4324c5c0_b873_11e9_ac0f_38f9d35f0336row7_col0\" class=\"data row7 col0\" >0.59</td>\n",
       "                        <td id=\"T_4324c5c0_b873_11e9_ac0f_38f9d35f0336row7_col1\" class=\"data row7 col1\" >0.603</td>\n",
       "                        <td id=\"T_4324c5c0_b873_11e9_ac0f_38f9d35f0336row7_col2\" class=\"data row7 col2\" >0.595</td>\n",
       "            </tr>\n",
       "            <tr>\n",
       "                        <th id=\"T_4324c5c0_b873_11e9_ac0f_38f9d35f0336level0_row8\" class=\"row_heading level0 row8\" >1:20</th>\n",
       "                        <td id=\"T_4324c5c0_b873_11e9_ac0f_38f9d35f0336row8_col0\" class=\"data row8 col0\" >0.566</td>\n",
       "                        <td id=\"T_4324c5c0_b873_11e9_ac0f_38f9d35f0336row8_col1\" class=\"data row8 col1\" >0.6</td>\n",
       "                        <td id=\"T_4324c5c0_b873_11e9_ac0f_38f9d35f0336row8_col2\" class=\"data row8 col2\" >0.603</td>\n",
       "            </tr>\n",
       "            <tr>\n",
       "                        <th id=\"T_4324c5c0_b873_11e9_ac0f_38f9d35f0336level0_row9\" class=\"row_heading level0 row9\" >1:50</th>\n",
       "                        <td id=\"T_4324c5c0_b873_11e9_ac0f_38f9d35f0336row9_col0\" class=\"data row9 col0\" >0</td>\n",
       "                        <td id=\"T_4324c5c0_b873_11e9_ac0f_38f9d35f0336row9_col1\" class=\"data row9 col1\" >0</td>\n",
       "                        <td id=\"T_4324c5c0_b873_11e9_ac0f_38f9d35f0336row9_col2\" class=\"data row9 col2\" >0.579</td>\n",
       "            </tr>\n",
       "            <tr>\n",
       "                        <th id=\"T_4324c5c0_b873_11e9_ac0f_38f9d35f0336level0_row10\" class=\"row_heading level0 row10\" >1:100</th>\n",
       "                        <td id=\"T_4324c5c0_b873_11e9_ac0f_38f9d35f0336row10_col0\" class=\"data row10 col0\" >0</td>\n",
       "                        <td id=\"T_4324c5c0_b873_11e9_ac0f_38f9d35f0336row10_col1\" class=\"data row10 col1\" >0</td>\n",
       "                        <td id=\"T_4324c5c0_b873_11e9_ac0f_38f9d35f0336row10_col2\" class=\"data row10 col2\" >0</td>\n",
       "            </tr>\n",
       "    </tbody></table>"
      ],
      "text/plain": [
       "<pandas.io.formats.style.Styler at 0x11bf80ef0>"
      ]
     },
     "execution_count": 109,
     "metadata": {},
     "output_type": "execute_result"
    }
   ],
   "source": [
    "# View balanced accuracy results for all models as stylized heatmap\n",
    "cmap = matplotlib.cm.get_cmap('Wistia')\n",
    "(results_svc.iloc[:,[0,1,3,5]]\n",
    "     .set_index('ENM-Organics-Ratio')  # Set table index\n",
    "     .style\n",
    "     # Apply heatmap\n",
    "     .background_gradient(cmap=cmap, low=0, high=0.9, axis=0)\n",
    "     # Highlight maximum value in row\n",
    "     .apply(blt.highlight_max, color=blt.rgba2hex(cmap(255)), axis=0)\n",
    "     # Recolor zeroes\n",
    "     .applymap(lambda x: blt.recolor_text(x, color=blt.rgba2hex(cmap(0))))\n",
    "     .set_precision(3)  # Round decimals\n",
    "     .set_caption('Colormap of average balanced accuracy for SVC-RBF models.')\n",
    ")"
   ]
  },
  {
   "cell_type": "code",
   "execution_count": 110,
   "metadata": {
    "ExecuteTime": {
     "end_time": "2019-08-06T17:54:45.063825Z",
     "start_time": "2019-08-06T17:54:45.023704Z"
    }
   },
   "outputs": [],
   "source": [
    "# Export results table to .csv\n",
    "results_svc.to_csv(\"./data/results-SVC.csv\", \n",
    "                  sep='\\t', header='infer', na_rep='NaN', index=False)"
   ]
  },
  {
   "cell_type": "markdown",
   "metadata": {},
   "source": [
    "### Permutation test"
   ]
  },
  {
   "cell_type": "code",
   "execution_count": 39,
   "metadata": {
    "ExecuteTime": {
     "end_time": "2019-09-26T09:49:58.281787Z",
     "start_time": "2019-09-26T09:49:58.268592Z"
    }
   },
   "outputs": [
    {
     "data": {
      "text/plain": [
       "NormaltestResult(statistic=3.5539831224682628, pvalue=0.16914624872107303)"
      ]
     },
     "execution_count": 39,
     "metadata": {},
     "output_type": "execute_result"
    }
   ],
   "source": [
    "# Check the normality of the permutation test results\n",
    "from scipy.stats import normaltest\n",
    "normaltest(results_permute)"
   ]
  },
  {
   "cell_type": "markdown",
   "metadata": {},
   "source": [
    "The p-value of our normality test is well above alpha=0.05, so it is fairly safe to assume that it can be adequately represented by a normal distribution."
   ]
  },
  {
   "cell_type": "code",
   "execution_count": 40,
   "metadata": {
    "ExecuteTime": {
     "end_time": "2019-09-26T09:50:30.757284Z",
     "start_time": "2019-09-26T09:50:30.500819Z"
    }
   },
   "outputs": [
    {
     "data": {
      "image/png": "[encoded data removed]",
      "text/plain": [
       "<Figure size 864x432 with 1 Axes>"
      ]
     },
     "metadata": {
      "needs_background": "light"
     },
     "output_type": "display_data"
    }
   ],
   "source": [
    "# Plot permutation test results\n",
    "import numpy as np\n",
    "from scipy.stats import norm\n",
    "import matplotlib.pyplot as plt\n",
    "\n",
    "# Get average balanced accuracy for models of interest\n",
    "mu = results_svc.loc[results_svc['ENM-Organics-Ratio']=='1:0', \n",
    "                     'Avg-Random-Augment'].values\n",
    "mu_permute = results_svc.loc[results_svc['ENM-Organics-Ratio']=='1:0*', \n",
    "                             'Avg-Random-Augment'].values\n",
    "mu_match = results_svc.iloc[results_svc['Avg-Supervised-Match'].idxmax(), 5]\n",
    "\n",
    "# Plot histogram\n",
    "plt.hist(results_permute, bins=25, density=True, facecolor='gold')\n",
    "# Normal distribution\n",
    "std_permute = norm.fit(results_permute)[1]\n",
    "xmin, xmax = 0.22, 0.62\n",
    "x = np.linspace(xmin, xmax, 100)\n",
    "# Plot PDF\n",
    "plt.plot(x, norm.pdf(x, mu_permute, std_permute), \n",
    "         color='orange',\n",
    "         label='PDF-ENM-Permutations')\n",
    "plt.axvline(mu_permute, ls='--', c='orange', label='Avg-ENM-Permutations')\n",
    "plt.axvline(mu, ls='--', c='red', label='ENM-Only Model')\n",
    "plt.axvline(mu_match, ls='--', color='navy', label='Best Model')\n",
    "plt.title(\"SVC-RBF Permutation Test Results\", fontsize=18)\n",
    "plt.ylim(top=14)\n",
    "plt.xlabel(\"Balanced Accuracy\", size=16)\n",
    "plt.ylabel(\"Frequency\", size=16)\n",
    "plt.legend(loc=1, fontsize=16)\n",
    "fig = matplotlib.pyplot.gcf()\n",
    "fig.set_size_inches(12, 6)\n",
    "fig.savefig('./figs/permutation_test.png')\n",
    "plt.show()"
   ]
  },
  {
   "cell_type": "markdown",
   "metadata": {},
   "source": [
    "As is evident by the frequency plot, both models perform significantly better than the permutation test."
   ]
  },
  {
   "cell_type": "code",
   "execution_count": 112,
   "metadata": {
    "ExecuteTime": {
     "end_time": "2019-08-06T17:55:15.290283Z",
     "start_time": "2019-08-06T17:55:15.272572Z"
    }
   },
   "outputs": [
    {
     "data": {
      "text/plain": [
       "Ttest_indResult(statistic=-11.252172094202589, pvalue=1.3033850505013353e-21)"
      ]
     },
     "execution_count": 112,
     "metadata": {},
     "output_type": "execute_result"
    }
   ],
   "source": [
    "# Test for significance of difference between model means\n",
    "from scipy.stats import ttest_ind\n",
    "ttest_ind(base_distrib, match_distrib)"
   ]
  },
  {
   "cell_type": "markdown",
   "metadata": {},
   "source": [
    "Our null hypothesis was that the balanced average for our baseline model was the same as that of the best model. The alternative hypothesis is that the baseline model is smaller than the best model. Because the p-value (divided by 2 for a one-tailed test) from the t-test was incredibly small in comparison to an alpha of 0.05, and the t-statistic was negative, we can reject the null hypothesis. It is statistically likely that the best model performs better than the baseline."
   ]
  },
  {
   "cell_type": "code",
   "execution_count": null,
   "metadata": {
    "collapsed": true
   },
   "outputs": [],
   "source": [
    "# TODO: accu_pchem, accu_func, accu_puc_grp, accu_puc_gen, accu_mtrx"
   ]
  },
  {
   "cell_type": "markdown",
   "metadata": {},
   "source": [
    "## RFC"
   ]
  },
  {
   "cell_type": "code",
   "execution_count": 113,
   "metadata": {
    "ExecuteTime": {
     "end_time": "2019-08-06T17:55:20.543678Z",
     "start_time": "2019-08-06T17:55:20.523679Z"
    }
   },
   "outputs": [
    {
     "data": {
      "text/html": [
       "<div>\n",
       "<style scoped>\n",
       "    .dataframe tbody tr th:only-of-type {\n",
       "        vertical-align: middle;\n",
       "    }\n",
       "\n",
       "    .dataframe tbody tr th {\n",
       "        vertical-align: top;\n",
       "    }\n",
       "\n",
       "    .dataframe thead th {\n",
       "        text-align: right;\n",
       "    }\n",
       "</style>\n",
       "<table border=\"1\" class=\"dataframe\">\n",
       "  <thead>\n",
       "    <tr style=\"text-align: right;\">\n",
       "      <th></th>\n",
       "      <th>ENM-Organics-Ratio</th>\n",
       "      <th>Avg-Random-Augment</th>\n",
       "      <th>Std-Random-Augment</th>\n",
       "      <th>Avg-Unsupervised-Match</th>\n",
       "      <th>Std-Unsupervised-Match</th>\n",
       "      <th>Avg-Supervised-Match</th>\n",
       "      <th>Std-Supervised-Match</th>\n",
       "    </tr>\n",
       "  </thead>\n",
       "  <tbody>\n",
       "    <tr>\n",
       "      <th>0</th>\n",
       "      <td>1:0*</td>\n",
       "      <td>0.000</td>\n",
       "      <td>0.000</td>\n",
       "      <td>0.000</td>\n",
       "      <td>0.000</td>\n",
       "      <td>0.000</td>\n",
       "      <td>0.000</td>\n",
       "    </tr>\n",
       "    <tr>\n",
       "      <th>1</th>\n",
       "      <td>1:0</td>\n",
       "      <td>0.622</td>\n",
       "      <td>0.018</td>\n",
       "      <td>0.000</td>\n",
       "      <td>0.000</td>\n",
       "      <td>0.000</td>\n",
       "      <td>0.000</td>\n",
       "    </tr>\n",
       "    <tr>\n",
       "      <th>2</th>\n",
       "      <td>1:1</td>\n",
       "      <td>0.627</td>\n",
       "      <td>0.023</td>\n",
       "      <td>0.619</td>\n",
       "      <td>0.015</td>\n",
       "      <td>0.625</td>\n",
       "      <td>0.019</td>\n",
       "    </tr>\n",
       "    <tr>\n",
       "      <th>3</th>\n",
       "      <td>1:2</td>\n",
       "      <td>0.608</td>\n",
       "      <td>0.021</td>\n",
       "      <td>0.601</td>\n",
       "      <td>0.019</td>\n",
       "      <td>0.622</td>\n",
       "      <td>0.020</td>\n",
       "    </tr>\n",
       "    <tr>\n",
       "      <th>4</th>\n",
       "      <td>1:3</td>\n",
       "      <td>0.601</td>\n",
       "      <td>0.020</td>\n",
       "      <td>0.595</td>\n",
       "      <td>0.019</td>\n",
       "      <td>0.615</td>\n",
       "      <td>0.019</td>\n",
       "    </tr>\n",
       "    <tr>\n",
       "      <th>5</th>\n",
       "      <td>1:4</td>\n",
       "      <td>0.000</td>\n",
       "      <td>0.000</td>\n",
       "      <td>0.587</td>\n",
       "      <td>0.018</td>\n",
       "      <td>0.602</td>\n",
       "      <td>0.019</td>\n",
       "    </tr>\n",
       "    <tr>\n",
       "      <th>6</th>\n",
       "      <td>1:5</td>\n",
       "      <td>0.597</td>\n",
       "      <td>0.018</td>\n",
       "      <td>0.593</td>\n",
       "      <td>0.019</td>\n",
       "      <td>0.588</td>\n",
       "      <td>0.018</td>\n",
       "    </tr>\n",
       "    <tr>\n",
       "      <th>7</th>\n",
       "      <td>1:10</td>\n",
       "      <td>0.000</td>\n",
       "      <td>0.000</td>\n",
       "      <td>0.588</td>\n",
       "      <td>0.017</td>\n",
       "      <td>0.574</td>\n",
       "      <td>0.018</td>\n",
       "    </tr>\n",
       "    <tr>\n",
       "      <th>8</th>\n",
       "      <td>1:20</td>\n",
       "      <td>0.000</td>\n",
       "      <td>0.000</td>\n",
       "      <td>0.573</td>\n",
       "      <td>0.022</td>\n",
       "      <td>0.572</td>\n",
       "      <td>0.012</td>\n",
       "    </tr>\n",
       "    <tr>\n",
       "      <th>9</th>\n",
       "      <td>1:50</td>\n",
       "      <td>0.000</td>\n",
       "      <td>0.000</td>\n",
       "      <td>0.000</td>\n",
       "      <td>0.000</td>\n",
       "      <td>0.542</td>\n",
       "      <td>0.019</td>\n",
       "    </tr>\n",
       "    <tr>\n",
       "      <th>10</th>\n",
       "      <td>1:100</td>\n",
       "      <td>0.000</td>\n",
       "      <td>0.000</td>\n",
       "      <td>0.000</td>\n",
       "      <td>0.000</td>\n",
       "      <td>0.000</td>\n",
       "      <td>0.000</td>\n",
       "    </tr>\n",
       "  </tbody>\n",
       "</table>\n",
       "</div>"
      ],
      "text/plain": [
       "   ENM-Organics-Ratio  Avg-Random-Augment  Std-Random-Augment  \\\n",
       "0                1:0*               0.000               0.000   \n",
       "1                 1:0               0.622               0.018   \n",
       "2                 1:1               0.627               0.023   \n",
       "3                 1:2               0.608               0.021   \n",
       "4                 1:3               0.601               0.020   \n",
       "5                 1:4               0.000               0.000   \n",
       "6                 1:5               0.597               0.018   \n",
       "7                1:10               0.000               0.000   \n",
       "8                1:20               0.000               0.000   \n",
       "9                1:50               0.000               0.000   \n",
       "10              1:100               0.000               0.000   \n",
       "\n",
       "    Avg-Unsupervised-Match  Std-Unsupervised-Match  Avg-Supervised-Match  \\\n",
       "0                    0.000                   0.000                 0.000   \n",
       "1                    0.000                   0.000                 0.000   \n",
       "2                    0.619                   0.015                 0.625   \n",
       "3                    0.601                   0.019                 0.622   \n",
       "4                    0.595                   0.019                 0.615   \n",
       "5                    0.587                   0.018                 0.602   \n",
       "6                    0.593                   0.019                 0.588   \n",
       "7                    0.588                   0.017                 0.574   \n",
       "8                    0.573                   0.022                 0.572   \n",
       "9                    0.000                   0.000                 0.542   \n",
       "10                   0.000                   0.000                 0.000   \n",
       "\n",
       "    Std-Supervised-Match  \n",
       "0                  0.000  \n",
       "1                  0.000  \n",
       "2                  0.019  \n",
       "3                  0.020  \n",
       "4                  0.019  \n",
       "5                  0.019  \n",
       "6                  0.018  \n",
       "7                  0.018  \n",
       "8                  0.012  \n",
       "9                  0.019  \n",
       "10                 0.000  "
      ]
     },
     "execution_count": 113,
     "metadata": {},
     "output_type": "execute_result"
    }
   ],
   "source": [
    "results_rfc"
   ]
  },
  {
   "cell_type": "code",
   "execution_count": 114,
   "metadata": {
    "ExecuteTime": {
     "end_time": "2019-08-06T17:55:22.186530Z",
     "start_time": "2019-08-06T17:55:22.106348Z"
    }
   },
   "outputs": [
    {
     "data": {
      "text/html": [
       "<style  type=\"text/css\" >\n",
       "    #T_5c5b14c2_b873_11e9_ac0f_38f9d35f0336row0_col0 {\n",
       "            background-color:  #e4ff7a;\n",
       "            color:  #000000;\n",
       "            : ;\n",
       "            color:  #e4ff7a;\n",
       "        }    #T_5c5b14c2_b873_11e9_ac0f_38f9d35f0336row0_col1 {\n",
       "            background-color:  #e4ff7a;\n",
       "            color:  #000000;\n",
       "            : ;\n",
       "            color:  #e4ff7a;\n",
       "        }    #T_5c5b14c2_b873_11e9_ac0f_38f9d35f0336row0_col2 {\n",
       "            background-color:  #e4ff7a;\n",
       "            color:  #000000;\n",
       "            : ;\n",
       "            color:  #e4ff7a;\n",
       "        }    #T_5c5b14c2_b873_11e9_ac0f_38f9d35f0336row1_col0 {\n",
       "            background-color:  #ffba00;\n",
       "            color:  #000000;\n",
       "            : ;\n",
       "            color:  black;\n",
       "        }    #T_5c5b14c2_b873_11e9_ac0f_38f9d35f0336row1_col1 {\n",
       "            background-color:  #e4ff7a;\n",
       "            color:  #000000;\n",
       "            : ;\n",
       "            color:  #e4ff7a;\n",
       "        }    #T_5c5b14c2_b873_11e9_ac0f_38f9d35f0336row1_col2 {\n",
       "            background-color:  #e4ff7a;\n",
       "            color:  #000000;\n",
       "            : ;\n",
       "            color:  #e4ff7a;\n",
       "        }    #T_5c5b14c2_b873_11e9_ac0f_38f9d35f0336row2_col0 {\n",
       "            background-color:  #ffba00;\n",
       "            color:  #000000;\n",
       "            background-color:  #fc7f00;\n",
       "            color:  black;\n",
       "        }    #T_5c5b14c2_b873_11e9_ac0f_38f9d35f0336row2_col1 {\n",
       "            background-color:  #ffba00;\n",
       "            color:  #000000;\n",
       "            background-color:  #fc7f00;\n",
       "            color:  black;\n",
       "        }    #T_5c5b14c2_b873_11e9_ac0f_38f9d35f0336row2_col2 {\n",
       "            background-color:  #ffba00;\n",
       "            color:  #000000;\n",
       "            background-color:  #fc7f00;\n",
       "            color:  black;\n",
       "        }    #T_5c5b14c2_b873_11e9_ac0f_38f9d35f0336row3_col0 {\n",
       "            background-color:  #ffbc00;\n",
       "            color:  #000000;\n",
       "            : ;\n",
       "            color:  black;\n",
       "        }    #T_5c5b14c2_b873_11e9_ac0f_38f9d35f0336row3_col1 {\n",
       "            background-color:  #ffbc00;\n",
       "            color:  #000000;\n",
       "            : ;\n",
       "            color:  black;\n",
       "        }    #T_5c5b14c2_b873_11e9_ac0f_38f9d35f0336row3_col2 {\n",
       "            background-color:  #ffba00;\n",
       "            color:  #000000;\n",
       "            : ;\n",
       "            color:  black;\n",
       "        }    #T_5c5b14c2_b873_11e9_ac0f_38f9d35f0336row4_col0 {\n",
       "            background-color:  #ffbc00;\n",
       "            color:  #000000;\n",
       "            : ;\n",
       "            color:  black;\n",
       "        }    #T_5c5b14c2_b873_11e9_ac0f_38f9d35f0336row4_col1 {\n",
       "            background-color:  #ffbc00;\n",
       "            color:  #000000;\n",
       "            : ;\n",
       "            color:  black;\n",
       "        }    #T_5c5b14c2_b873_11e9_ac0f_38f9d35f0336row4_col2 {\n",
       "            background-color:  #ffbb00;\n",
       "            color:  #000000;\n",
       "            : ;\n",
       "            color:  black;\n",
       "        }    #T_5c5b14c2_b873_11e9_ac0f_38f9d35f0336row5_col0 {\n",
       "            background-color:  #e4ff7a;\n",
       "            color:  #000000;\n",
       "            : ;\n",
       "            color:  #e4ff7a;\n",
       "        }    #T_5c5b14c2_b873_11e9_ac0f_38f9d35f0336row5_col1 {\n",
       "            background-color:  #ffbd00;\n",
       "            color:  #000000;\n",
       "            : ;\n",
       "            color:  black;\n",
       "        }    #T_5c5b14c2_b873_11e9_ac0f_38f9d35f0336row5_col2 {\n",
       "            background-color:  #ffbc00;\n",
       "            color:  #000000;\n",
       "            : ;\n",
       "            color:  black;\n",
       "        }    #T_5c5b14c2_b873_11e9_ac0f_38f9d35f0336row6_col0 {\n",
       "            background-color:  #ffbd00;\n",
       "            color:  #000000;\n",
       "            : ;\n",
       "            color:  black;\n",
       "        }    #T_5c5b14c2_b873_11e9_ac0f_38f9d35f0336row6_col1 {\n",
       "            background-color:  #ffbc00;\n",
       "            color:  #000000;\n",
       "            : ;\n",
       "            color:  black;\n",
       "        }    #T_5c5b14c2_b873_11e9_ac0f_38f9d35f0336row6_col2 {\n",
       "            background-color:  #ffbe01;\n",
       "            color:  #000000;\n",
       "            : ;\n",
       "            color:  black;\n",
       "        }    #T_5c5b14c2_b873_11e9_ac0f_38f9d35f0336row7_col0 {\n",
       "            background-color:  #e4ff7a;\n",
       "            color:  #000000;\n",
       "            : ;\n",
       "            color:  #e4ff7a;\n",
       "        }    #T_5c5b14c2_b873_11e9_ac0f_38f9d35f0336row7_col1 {\n",
       "            background-color:  #ffbd00;\n",
       "            color:  #000000;\n",
       "            : ;\n",
       "            color:  black;\n",
       "        }    #T_5c5b14c2_b873_11e9_ac0f_38f9d35f0336row7_col2 {\n",
       "            background-color:  #ffc002;\n",
       "            color:  #000000;\n",
       "            : ;\n",
       "            color:  black;\n",
       "        }    #T_5c5b14c2_b873_11e9_ac0f_38f9d35f0336row8_col0 {\n",
       "            background-color:  #e4ff7a;\n",
       "            color:  #000000;\n",
       "            : ;\n",
       "            color:  #e4ff7a;\n",
       "        }    #T_5c5b14c2_b873_11e9_ac0f_38f9d35f0336row8_col1 {\n",
       "            background-color:  #ffbf01;\n",
       "            color:  #000000;\n",
       "            : ;\n",
       "            color:  black;\n",
       "        }    #T_5c5b14c2_b873_11e9_ac0f_38f9d35f0336row8_col2 {\n",
       "            background-color:  #ffc002;\n",
       "            color:  #000000;\n",
       "            : ;\n",
       "            color:  black;\n",
       "        }    #T_5c5b14c2_b873_11e9_ac0f_38f9d35f0336row9_col0 {\n",
       "            background-color:  #e4ff7a;\n",
       "            color:  #000000;\n",
       "            : ;\n",
       "            color:  #e4ff7a;\n",
       "        }    #T_5c5b14c2_b873_11e9_ac0f_38f9d35f0336row9_col1 {\n",
       "            background-color:  #e4ff7a;\n",
       "            color:  #000000;\n",
       "            : ;\n",
       "            color:  #e4ff7a;\n",
       "        }    #T_5c5b14c2_b873_11e9_ac0f_38f9d35f0336row9_col2 {\n",
       "            background-color:  #ffc505;\n",
       "            color:  #000000;\n",
       "            : ;\n",
       "            color:  black;\n",
       "        }    #T_5c5b14c2_b873_11e9_ac0f_38f9d35f0336row10_col0 {\n",
       "            background-color:  #e4ff7a;\n",
       "            color:  #000000;\n",
       "            : ;\n",
       "            color:  #e4ff7a;\n",
       "        }    #T_5c5b14c2_b873_11e9_ac0f_38f9d35f0336row10_col1 {\n",
       "            background-color:  #e4ff7a;\n",
       "            color:  #000000;\n",
       "            : ;\n",
       "            color:  #e4ff7a;\n",
       "        }    #T_5c5b14c2_b873_11e9_ac0f_38f9d35f0336row10_col2 {\n",
       "            background-color:  #e4ff7a;\n",
       "            color:  #000000;\n",
       "            : ;\n",
       "            color:  #e4ff7a;\n",
       "        }</style><table id=\"T_5c5b14c2_b873_11e9_ac0f_38f9d35f0336\" ><caption>Colormap of average balanced accuracy for RFC models.</caption><thead>    <tr>        <th class=\"blank level0\" ></th>        <th class=\"col_heading level0 col0\" >Avg-Random-Augment</th>        <th class=\"col_heading level0 col1\" >Avg-Unsupervised-Match</th>        <th class=\"col_heading level0 col2\" >Avg-Supervised-Match</th>    </tr>    <tr>        <th class=\"index_name level0\" >ENM-Organics-Ratio</th>        <th class=\"blank\" ></th>        <th class=\"blank\" ></th>        <th class=\"blank\" ></th>    </tr></thead><tbody>\n",
       "                <tr>\n",
       "                        <th id=\"T_5c5b14c2_b873_11e9_ac0f_38f9d35f0336level0_row0\" class=\"row_heading level0 row0\" >1:0*</th>\n",
       "                        <td id=\"T_5c5b14c2_b873_11e9_ac0f_38f9d35f0336row0_col0\" class=\"data row0 col0\" >0</td>\n",
       "                        <td id=\"T_5c5b14c2_b873_11e9_ac0f_38f9d35f0336row0_col1\" class=\"data row0 col1\" >0</td>\n",
       "                        <td id=\"T_5c5b14c2_b873_11e9_ac0f_38f9d35f0336row0_col2\" class=\"data row0 col2\" >0</td>\n",
       "            </tr>\n",
       "            <tr>\n",
       "                        <th id=\"T_5c5b14c2_b873_11e9_ac0f_38f9d35f0336level0_row1\" class=\"row_heading level0 row1\" >1:0</th>\n",
       "                        <td id=\"T_5c5b14c2_b873_11e9_ac0f_38f9d35f0336row1_col0\" class=\"data row1 col0\" >0.622</td>\n",
       "                        <td id=\"T_5c5b14c2_b873_11e9_ac0f_38f9d35f0336row1_col1\" class=\"data row1 col1\" >0</td>\n",
       "                        <td id=\"T_5c5b14c2_b873_11e9_ac0f_38f9d35f0336row1_col2\" class=\"data row1 col2\" >0</td>\n",
       "            </tr>\n",
       "            <tr>\n",
       "                        <th id=\"T_5c5b14c2_b873_11e9_ac0f_38f9d35f0336level0_row2\" class=\"row_heading level0 row2\" >1:1</th>\n",
       "                        <td id=\"T_5c5b14c2_b873_11e9_ac0f_38f9d35f0336row2_col0\" class=\"data row2 col0\" >0.627</td>\n",
       "                        <td id=\"T_5c5b14c2_b873_11e9_ac0f_38f9d35f0336row2_col1\" class=\"data row2 col1\" >0.619</td>\n",
       "                        <td id=\"T_5c5b14c2_b873_11e9_ac0f_38f9d35f0336row2_col2\" class=\"data row2 col2\" >0.625</td>\n",
       "            </tr>\n",
       "            <tr>\n",
       "                        <th id=\"T_5c5b14c2_b873_11e9_ac0f_38f9d35f0336level0_row3\" class=\"row_heading level0 row3\" >1:2</th>\n",
       "                        <td id=\"T_5c5b14c2_b873_11e9_ac0f_38f9d35f0336row3_col0\" class=\"data row3 col0\" >0.608</td>\n",
       "                        <td id=\"T_5c5b14c2_b873_11e9_ac0f_38f9d35f0336row3_col1\" class=\"data row3 col1\" >0.601</td>\n",
       "                        <td id=\"T_5c5b14c2_b873_11e9_ac0f_38f9d35f0336row3_col2\" class=\"data row3 col2\" >0.622</td>\n",
       "            </tr>\n",
       "            <tr>\n",
       "                        <th id=\"T_5c5b14c2_b873_11e9_ac0f_38f9d35f0336level0_row4\" class=\"row_heading level0 row4\" >1:3</th>\n",
       "                        <td id=\"T_5c5b14c2_b873_11e9_ac0f_38f9d35f0336row4_col0\" class=\"data row4 col0\" >0.601</td>\n",
       "                        <td id=\"T_5c5b14c2_b873_11e9_ac0f_38f9d35f0336row4_col1\" class=\"data row4 col1\" >0.595</td>\n",
       "                        <td id=\"T_5c5b14c2_b873_11e9_ac0f_38f9d35f0336row4_col2\" class=\"data row4 col2\" >0.615</td>\n",
       "            </tr>\n",
       "            <tr>\n",
       "                        <th id=\"T_5c5b14c2_b873_11e9_ac0f_38f9d35f0336level0_row5\" class=\"row_heading level0 row5\" >1:4</th>\n",
       "                        <td id=\"T_5c5b14c2_b873_11e9_ac0f_38f9d35f0336row5_col0\" class=\"data row5 col0\" >0</td>\n",
       "                        <td id=\"T_5c5b14c2_b873_11e9_ac0f_38f9d35f0336row5_col1\" class=\"data row5 col1\" >0.587</td>\n",
       "                        <td id=\"T_5c5b14c2_b873_11e9_ac0f_38f9d35f0336row5_col2\" class=\"data row5 col2\" >0.602</td>\n",
       "            </tr>\n",
       "            <tr>\n",
       "                        <th id=\"T_5c5b14c2_b873_11e9_ac0f_38f9d35f0336level0_row6\" class=\"row_heading level0 row6\" >1:5</th>\n",
       "                        <td id=\"T_5c5b14c2_b873_11e9_ac0f_38f9d35f0336row6_col0\" class=\"data row6 col0\" >0.597</td>\n",
       "                        <td id=\"T_5c5b14c2_b873_11e9_ac0f_38f9d35f0336row6_col1\" class=\"data row6 col1\" >0.593</td>\n",
       "                        <td id=\"T_5c5b14c2_b873_11e9_ac0f_38f9d35f0336row6_col2\" class=\"data row6 col2\" >0.588</td>\n",
       "            </tr>\n",
       "            <tr>\n",
       "                        <th id=\"T_5c5b14c2_b873_11e9_ac0f_38f9d35f0336level0_row7\" class=\"row_heading level0 row7\" >1:10</th>\n",
       "                        <td id=\"T_5c5b14c2_b873_11e9_ac0f_38f9d35f0336row7_col0\" class=\"data row7 col0\" >0</td>\n",
       "                        <td id=\"T_5c5b14c2_b873_11e9_ac0f_38f9d35f0336row7_col1\" class=\"data row7 col1\" >0.588</td>\n",
       "                        <td id=\"T_5c5b14c2_b873_11e9_ac0f_38f9d35f0336row7_col2\" class=\"data row7 col2\" >0.574</td>\n",
       "            </tr>\n",
       "            <tr>\n",
       "                        <th id=\"T_5c5b14c2_b873_11e9_ac0f_38f9d35f0336level0_row8\" class=\"row_heading level0 row8\" >1:20</th>\n",
       "                        <td id=\"T_5c5b14c2_b873_11e9_ac0f_38f9d35f0336row8_col0\" class=\"data row8 col0\" >0</td>\n",
       "                        <td id=\"T_5c5b14c2_b873_11e9_ac0f_38f9d35f0336row8_col1\" class=\"data row8 col1\" >0.573</td>\n",
       "                        <td id=\"T_5c5b14c2_b873_11e9_ac0f_38f9d35f0336row8_col2\" class=\"data row8 col2\" >0.572</td>\n",
       "            </tr>\n",
       "            <tr>\n",
       "                        <th id=\"T_5c5b14c2_b873_11e9_ac0f_38f9d35f0336level0_row9\" class=\"row_heading level0 row9\" >1:50</th>\n",
       "                        <td id=\"T_5c5b14c2_b873_11e9_ac0f_38f9d35f0336row9_col0\" class=\"data row9 col0\" >0</td>\n",
       "                        <td id=\"T_5c5b14c2_b873_11e9_ac0f_38f9d35f0336row9_col1\" class=\"data row9 col1\" >0</td>\n",
       "                        <td id=\"T_5c5b14c2_b873_11e9_ac0f_38f9d35f0336row9_col2\" class=\"data row9 col2\" >0.542</td>\n",
       "            </tr>\n",
       "            <tr>\n",
       "                        <th id=\"T_5c5b14c2_b873_11e9_ac0f_38f9d35f0336level0_row10\" class=\"row_heading level0 row10\" >1:100</th>\n",
       "                        <td id=\"T_5c5b14c2_b873_11e9_ac0f_38f9d35f0336row10_col0\" class=\"data row10 col0\" >0</td>\n",
       "                        <td id=\"T_5c5b14c2_b873_11e9_ac0f_38f9d35f0336row10_col1\" class=\"data row10 col1\" >0</td>\n",
       "                        <td id=\"T_5c5b14c2_b873_11e9_ac0f_38f9d35f0336row10_col2\" class=\"data row10 col2\" >0</td>\n",
       "            </tr>\n",
       "    </tbody></table>"
      ],
      "text/plain": [
       "<pandas.io.formats.style.Styler at 0x1a21ca7780>"
      ]
     },
     "execution_count": 114,
     "metadata": {},
     "output_type": "execute_result"
    }
   ],
   "source": [
    "# View balanced accuracy results for all models as stylized heatmap\n",
    "cmap = matplotlib.cm.get_cmap('Wistia')\n",
    "(results_rfc.iloc[:,[0,1,3,5]]\n",
    "     .set_index('ENM-Organics-Ratio')  # Set table index\n",
    "     .style\n",
    "     # Apply heatmap\n",
    "     .background_gradient(cmap=cmap, low=0, high=0.9, axis=0)\n",
    "     # Highlight maximum value in row\n",
    "     .apply(blt.highlight_max, color=blt.rgba2hex(cmap(255)), axis=0)\n",
    "     # Recolor zeroes\n",
    "     .applymap(lambda x: blt.recolor_text(x, color=blt.rgba2hex(cmap(0))))\n",
    "     .set_precision(3)  # Round decimals\n",
    "     .set_caption('Colormap of average balanced accuracy for RFC models.')\n",
    ")"
   ]
  },
  {
   "cell_type": "code",
   "execution_count": 115,
   "metadata": {
    "ExecuteTime": {
     "end_time": "2019-08-06T17:55:34.437829Z",
     "start_time": "2019-08-06T17:55:34.425668Z"
    }
   },
   "outputs": [],
   "source": [
    "# Export results table to .csv\n",
    "results_rfc.to_csv(\"./data/results-RFC.csv\", \n",
    "                  sep='\\t', header='infer', na_rep='NaN', index=False)"
   ]
  },
  {
   "cell_type": "code",
   "execution_count": null,
   "metadata": {},
   "outputs": [],
   "source": []
  }
 ],
 "metadata": {
  "kernelspec": {
   "display_name": "Python 3",
   "language": "python",
   "name": "python3"
  },
  "language_info": {
   "codemirror_mode": {
    "name": "ipython",
    "version": 3
   },
   "file_extension": ".py",
   "mimetype": "text/x-python",
   "name": "python",
   "nbconvert_exporter": "python",
   "pygments_lexer": "ipython3",
   "version": "3.7.3"
  },
  "toc": {
   "base_numbering": 1,
   "nav_menu": {
    "height": "11px",
    "width": "160px"
   },
   "number_sections": true,
   "sideBar": true,
   "skip_h1_title": false,
   "title_cell": "Table of Contents",
   "title_sidebar": "Contents",
   "toc_cell": true,
   "toc_position": {
    "height": "calc(100% - 180px)",
    "left": "10px",
    "top": "150px",
    "width": "165px"
   },
   "toc_section_display": true,
   "toc_window_display": true
  }
 },
 "nbformat": 4,
 "nbformat_minor": 2
}
