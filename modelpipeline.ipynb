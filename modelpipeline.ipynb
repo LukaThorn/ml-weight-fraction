{
 "cells": [
  {
   "cell_type": "markdown",
   "metadata": {
    "toc": true
   },
   "source": [
    "<h1>Table of Contents<span class=\"tocSkip\"></span></h1>\n",
    "<div class=\"toc\"><ul class=\"toc-item\"><li><span><a href=\"#Code-Setup\" data-toc-modified-id=\"Code-Setup-1\"><span class=\"toc-item-num\">1&nbsp;&nbsp;</span>Code Setup</a></span><ul class=\"toc-item\"><li><span><a href=\"#Summary-of-changes\" data-toc-modified-id=\"Summary-of-changes-1.1\"><span class=\"toc-item-num\">1.1&nbsp;&nbsp;</span>Summary of changes</a></span></li><li><span><a href=\"#Acronyms-and-abbreviations\" data-toc-modified-id=\"Acronyms-and-abbreviations-1.2\"><span class=\"toc-item-num\">1.2&nbsp;&nbsp;</span>Acronyms and abbreviations</a></span></li></ul></li><li><span><a href=\"#Establish-Data-Frames\" data-toc-modified-id=\"Establish-Data-Frames-2\"><span class=\"toc-item-num\">2&nbsp;&nbsp;</span>Establish Data Frames</a></span><ul class=\"toc-item\"><li><span><a href=\"#Read-in-data\" data-toc-modified-id=\"Read-in-data-2.1\"><span class=\"toc-item-num\">2.1&nbsp;&nbsp;</span>Read in data</a></span></li><li><span><a href=\"#Random-unsupervised-augmentation\" data-toc-modified-id=\"Random-unsupervised-augmentation-2.2\"><span class=\"toc-item-num\">2.2&nbsp;&nbsp;</span>Random unsupervised augmentation</a></span><ul class=\"toc-item\"><li><span><a href=\"#1:200-ENM-organics-data\" data-toc-modified-id=\"1:200-ENM-organics-data-2.2.1\"><span class=\"toc-item-num\">2.2.1&nbsp;&nbsp;</span>1:200 ENM-organics data</a></span></li><li><span><a href=\"#1:100-ENM-organics-data\" data-toc-modified-id=\"1:100-ENM-organics-data-2.2.2\"><span class=\"toc-item-num\">2.2.2&nbsp;&nbsp;</span>1:100 ENM-organics data</a></span></li><li><span><a href=\"#1:50-ENM-organics-data\" data-toc-modified-id=\"1:50-ENM-organics-data-2.2.3\"><span class=\"toc-item-num\">2.2.3&nbsp;&nbsp;</span>1:50 ENM-organics data</a></span></li><li><span><a href=\"#1:20-ENM-organics-data\" data-toc-modified-id=\"1:20-ENM-organics-data-2.2.4\"><span class=\"toc-item-num\">2.2.4&nbsp;&nbsp;</span>1:20 ENM-organics data</a></span></li><li><span><a href=\"#1:10-ENM-organics-data\" data-toc-modified-id=\"1:10-ENM-organics-data-2.2.5\"><span class=\"toc-item-num\">2.2.5&nbsp;&nbsp;</span>1:10 ENM-organics data</a></span></li><li><span><a href=\"#1:5-ENM-organics-data\" data-toc-modified-id=\"1:5-ENM-organics-data-2.2.6\"><span class=\"toc-item-num\">2.2.6&nbsp;&nbsp;</span>1:5 ENM-organics data</a></span></li><li><span><a href=\"#1:4-ENM-organics-data\" data-toc-modified-id=\"1:4-ENM-organics-data-2.2.7\"><span class=\"toc-item-num\">2.2.7&nbsp;&nbsp;</span>1:4 ENM-organics data</a></span></li><li><span><a href=\"#1:3-ENM-organics-data\" data-toc-modified-id=\"1:3-ENM-organics-data-2.2.8\"><span class=\"toc-item-num\">2.2.8&nbsp;&nbsp;</span>1:3 ENM-organics data</a></span></li><li><span><a href=\"#1:2-ENM-organics-data\" data-toc-modified-id=\"1:2-ENM-organics-data-2.2.9\"><span class=\"toc-item-num\">2.2.9&nbsp;&nbsp;</span>1:2 ENM-organics data</a></span></li><li><span><a href=\"#1:1-ENM-organics-data\" data-toc-modified-id=\"1:1-ENM-organics-data-2.2.10\"><span class=\"toc-item-num\">2.2.10&nbsp;&nbsp;</span>1:1 ENM-organics data</a></span></li><li><span><a href=\"#Apply-WF-bins\" data-toc-modified-id=\"Apply-WF-bins-2.2.11\"><span class=\"toc-item-num\">2.2.11&nbsp;&nbsp;</span>Apply WF bins</a></span></li></ul></li><li><span><a href=\"#WF-Permutation\" data-toc-modified-id=\"WF-Permutation-2.3\"><span class=\"toc-item-num\">2.3&nbsp;&nbsp;</span>WF Permutation</a></span></li><li><span><a href=\"#Matching-unsupervised-augmentation\" data-toc-modified-id=\"Matching-unsupervised-augmentation-2.4\"><span class=\"toc-item-num\">2.4&nbsp;&nbsp;</span>Matching unsupervised augmentation</a></span><ul class=\"toc-item\"><li><span><a href=\"#Setup\" data-toc-modified-id=\"Setup-2.4.1\"><span class=\"toc-item-num\">2.4.1&nbsp;&nbsp;</span>Setup</a></span></li><li><span><a href=\"#Data-frames\" data-toc-modified-id=\"Data-frames-2.4.2\"><span class=\"toc-item-num\">2.4.2&nbsp;&nbsp;</span>Data frames</a></span></li></ul></li><li><span><a href=\"#Matching-supervised-augmentation\" data-toc-modified-id=\"Matching-supervised-augmentation-2.5\"><span class=\"toc-item-num\">2.5&nbsp;&nbsp;</span>Matching supervised augmentation</a></span><ul class=\"toc-item\"><li><span><a href=\"#Setup\" data-toc-modified-id=\"Setup-2.5.1\"><span class=\"toc-item-num\">2.5.1&nbsp;&nbsp;</span>Setup</a></span></li><li><span><a href=\"#Data-frames\" data-toc-modified-id=\"Data-frames-2.5.2\"><span class=\"toc-item-num\">2.5.2&nbsp;&nbsp;</span>Data frames</a></span></li></ul></li></ul></li><li><span><a href=\"#Model-selection\" data-toc-modified-id=\"Model-selection-3\"><span class=\"toc-item-num\">3&nbsp;&nbsp;</span>Model selection</a></span></li><li><span><a href=\"#SVC-Models\" data-toc-modified-id=\"SVC-Models-4\"><span class=\"toc-item-num\">4&nbsp;&nbsp;</span>SVC Models</a></span><ul class=\"toc-item\"><li><span><a href=\"#Functions\" data-toc-modified-id=\"Functions-4.1\"><span class=\"toc-item-num\">4.1&nbsp;&nbsp;</span>Functions</a></span></li><li><span><a href=\"#ENM-only\" data-toc-modified-id=\"ENM-only-4.2\"><span class=\"toc-item-num\">4.2&nbsp;&nbsp;</span>ENM-only</a></span></li><li><span><a href=\"#ENM-only-permutations\" data-toc-modified-id=\"ENM-only-permutations-4.3\"><span class=\"toc-item-num\">4.3&nbsp;&nbsp;</span>ENM-only permutations</a></span></li><li><span><a href=\"#1:200-ENM-organics-data\" data-toc-modified-id=\"1:200-ENM-organics-data-4.4\"><span class=\"toc-item-num\">4.4&nbsp;&nbsp;</span>1:200 ENM-organics data</a></span></li><li><span><a href=\"#1:100-ENM-organics-data\" data-toc-modified-id=\"1:100-ENM-organics-data-4.5\"><span class=\"toc-item-num\">4.5&nbsp;&nbsp;</span>1:100 ENM-organics data</a></span></li><li><span><a href=\"#1:50-ENM-organics-data\" data-toc-modified-id=\"1:50-ENM-organics-data-4.6\"><span class=\"toc-item-num\">4.6&nbsp;&nbsp;</span>1:50 ENM-organics data</a></span></li><li><span><a href=\"#1:20-ENM-organics-data\" data-toc-modified-id=\"1:20-ENM-organics-data-4.7\"><span class=\"toc-item-num\">4.7&nbsp;&nbsp;</span>1:20 ENM-organics data</a></span></li><li><span><a href=\"#1:10-ENM-organics-data\" data-toc-modified-id=\"1:10-ENM-organics-data-4.8\"><span class=\"toc-item-num\">4.8&nbsp;&nbsp;</span>1:10 ENM-organics data</a></span></li><li><span><a href=\"#1:5-ENM-organics-data\" data-toc-modified-id=\"1:5-ENM-organics-data-4.9\"><span class=\"toc-item-num\">4.9&nbsp;&nbsp;</span>1:5 ENM-organics data</a></span></li><li><span><a href=\"#1:4-ENM-organics-data\" data-toc-modified-id=\"1:4-ENM-organics-data-4.10\"><span class=\"toc-item-num\">4.10&nbsp;&nbsp;</span>1:4 ENM-organics data</a></span></li><li><span><a href=\"#1:3-ENM-organics-data\" data-toc-modified-id=\"1:3-ENM-organics-data-4.11\"><span class=\"toc-item-num\">4.11&nbsp;&nbsp;</span>1:3 ENM-organics data</a></span></li><li><span><a href=\"#1:2-ENM-organics-data\" data-toc-modified-id=\"1:2-ENM-organics-data-4.12\"><span class=\"toc-item-num\">4.12&nbsp;&nbsp;</span>1:2 ENM-organics data</a></span></li><li><span><a href=\"#1:1-ENM-organics-data\" data-toc-modified-id=\"1:1-ENM-organics-data-4.13\"><span class=\"toc-item-num\">4.13&nbsp;&nbsp;</span>1:1 ENM-organics data</a></span></li><li><span><a href=\"#Matching-1:50\" data-toc-modified-id=\"Matching-1:50-4.14\"><span class=\"toc-item-num\">4.14&nbsp;&nbsp;</span>Matching 1:50</a></span></li><li><span><a href=\"#Matching-1:20\" data-toc-modified-id=\"Matching-1:20-4.15\"><span class=\"toc-item-num\">4.15&nbsp;&nbsp;</span>Matching 1:20</a></span></li><li><span><a href=\"#Matching-1:10\" data-toc-modified-id=\"Matching-1:10-4.16\"><span class=\"toc-item-num\">4.16&nbsp;&nbsp;</span>Matching 1:10</a></span></li><li><span><a href=\"#Matching-1:5\" data-toc-modified-id=\"Matching-1:5-4.17\"><span class=\"toc-item-num\">4.17&nbsp;&nbsp;</span>Matching 1:5</a></span></li><li><span><a href=\"#Matching-1:4\" data-toc-modified-id=\"Matching-1:4-4.18\"><span class=\"toc-item-num\">4.18&nbsp;&nbsp;</span>Matching 1:4</a></span></li><li><span><a href=\"#Matching-1:3\" data-toc-modified-id=\"Matching-1:3-4.19\"><span class=\"toc-item-num\">4.19&nbsp;&nbsp;</span>Matching 1:3</a></span></li><li><span><a href=\"#Matching-1:2\" data-toc-modified-id=\"Matching-1:2-4.20\"><span class=\"toc-item-num\">4.20&nbsp;&nbsp;</span>Matching 1:2</a></span></li><li><span><a href=\"#Matching-1:1\" data-toc-modified-id=\"Matching-1:1-4.21\"><span class=\"toc-item-num\">4.21&nbsp;&nbsp;</span>Matching 1:1</a></span></li><li><span><a href=\"#Matching-label-1:50\" data-toc-modified-id=\"Matching-label-1:50-4.22\"><span class=\"toc-item-num\">4.22&nbsp;&nbsp;</span>Matching label 1:50</a></span></li><li><span><a href=\"#Matching-label-1:20\" data-toc-modified-id=\"Matching-label-1:20-4.23\"><span class=\"toc-item-num\">4.23&nbsp;&nbsp;</span>Matching label 1:20</a></span></li><li><span><a href=\"#Matching-label-1:10\" data-toc-modified-id=\"Matching-label-1:10-4.24\"><span class=\"toc-item-num\">4.24&nbsp;&nbsp;</span>Matching label 1:10</a></span></li><li><span><a href=\"#Matching-label-1:5\" data-toc-modified-id=\"Matching-label-1:5-4.25\"><span class=\"toc-item-num\">4.25&nbsp;&nbsp;</span>Matching label 1:5</a></span></li><li><span><a href=\"#Matching-label-1:4\" data-toc-modified-id=\"Matching-label-1:4-4.26\"><span class=\"toc-item-num\">4.26&nbsp;&nbsp;</span>Matching label 1:4</a></span></li><li><span><a href=\"#Matching-label-1:3\" data-toc-modified-id=\"Matching-label-1:3-4.27\"><span class=\"toc-item-num\">4.27&nbsp;&nbsp;</span>Matching label 1:3</a></span></li><li><span><a href=\"#Matching-label-1:2\" data-toc-modified-id=\"Matching-label-1:2-4.28\"><span class=\"toc-item-num\">4.28&nbsp;&nbsp;</span>Matching label 1:2</a></span></li><li><span><a href=\"#Matching-label-1:1\" data-toc-modified-id=\"Matching-label-1:1-4.29\"><span class=\"toc-item-num\">4.29&nbsp;&nbsp;</span>Matching label 1:1</a></span></li><li><span><a href=\"#Performance-Results\" data-toc-modified-id=\"Performance-Results-4.30\"><span class=\"toc-item-num\">4.30&nbsp;&nbsp;</span>Performance Results</a></span></li></ul></li><li><span><a href=\"#Random-Forest-Models\" data-toc-modified-id=\"Random-Forest-Models-5\"><span class=\"toc-item-num\">5&nbsp;&nbsp;</span>Random Forest Models</a></span><ul class=\"toc-item\"><li><span><a href=\"#Functions\" data-toc-modified-id=\"Functions-5.1\"><span class=\"toc-item-num\">5.1&nbsp;&nbsp;</span>Functions</a></span></li></ul></li></ul></div>"
   ]
  },
  {
   "cell_type": "markdown",
   "metadata": {},
   "source": [
    "# Code Setup"
   ]
  },
  {
   "cell_type": "markdown",
   "metadata": {},
   "source": [
    "## Summary of changes"
   ]
  },
  {
   "cell_type": "markdown",
   "metadata": {},
   "source": [
    "###### Changes since 1/25/19:\n",
    "* Now writes model evaluation results directly to table\n",
    "* Permutation tests with ENM-only model\n",
    "* Changed SVC-RBF parameter grid from running:\n",
    "    * c_set = np.logspace(0,5,20)\n",
    "    * gamma_set = np.logspace(-6,0,16)\n",
    "* To running:\n",
    "    * c_set = np.logspace(-1,6,15), \n",
    "    * gamma_set = np.logspace(-6,1,15))\n",
    "\n",
    "###### Changes since 2/2/19\n",
    "* Changed random state for all SVC-RBF so it is always random and prints what seed was used\n",
    "* Cleaned superfluous code more\n",
    "* Updated gridsearchcv function for SVC-RBF with:\n",
    "    * GroupKFold option (random seed) to prevent data leaking with matching data augmentation dfs\n",
    "    * Option for viewing contour plot\n",
    "* Updated applied confusion matrix function with option to turn plot output on/off"
   ]
  },
  {
   "cell_type": "code",
   "execution_count": 1,
   "metadata": {
    "ExecuteTime": {
     "end_time": "2019-02-26T09:12:48.883693Z",
     "start_time": "2019-02-26T09:12:48.244082Z"
    },
    "collapsed": true
   },
   "outputs": [],
   "source": [
    "# To support both python 2 and python 3\n",
    "from __future__ import division, print_function, unicode_literals\n",
    "\n",
    "# Common imports\n",
    "import numpy as np\n",
    "import pandas as pd"
   ]
  },
  {
   "cell_type": "code",
   "execution_count": 2,
   "metadata": {
    "ExecuteTime": {
     "end_time": "2019-02-26T09:12:49.129993Z",
     "start_time": "2019-02-26T09:12:48.898936Z"
    },
    "collapsed": true
   },
   "outputs": [],
   "source": [
    "# To plot nice figures\n",
    "%matplotlib inline\n",
    "import matplotlib\n",
    "import matplotlib.pyplot as plt\n",
    "import matplotlib.cm as cm\n",
    "import matplotlib.image as mpimg\n",
    "plt.rcParams['axes.labelsize'] = 10\n",
    "plt.rcParams['xtick.labelsize'] = 10\n",
    "plt.rcParams['ytick.labelsize'] = 10"
   ]
  },
  {
   "cell_type": "code",
   "execution_count": 3,
   "metadata": {
    "ExecuteTime": {
     "end_time": "2019-02-26T09:12:49.163770Z",
     "start_time": "2019-02-26T09:12:49.139721Z"
    },
    "collapsed": true
   },
   "outputs": [],
   "source": [
    "# Where to save the figures\n",
    "PROJECT_ROOT_DIR = \".\"\n",
    "PROJECT_SAVE_DIR = \"BLTfigs\""
   ]
  },
  {
   "cell_type": "code",
   "execution_count": 4,
   "metadata": {
    "ExecuteTime": {
     "end_time": "2019-02-26T09:12:49.224014Z",
     "start_time": "2019-02-26T09:12:49.176325Z"
    }
   },
   "outputs": [
    {
     "name": "stdout",
     "output_type": "stream",
     "text": [
      "Figure directory exists.\n"
     ]
    }
   ],
   "source": [
    "import os\n",
    "#os.chdir(path)\n",
    "if not (os.path.isdir(PROJECT_ROOT_DIR+'/'+PROJECT_SAVE_DIR)):\n",
    "    print('Figure directory did not exist, creating now.')\n",
    "    os.mkdir(PROJECT_ROOT_DIR+'/'+PROJECT_SAVE_DIR)\n",
    "else:\n",
    "    print('Figure directory exists.')"
   ]
  },
  {
   "cell_type": "code",
   "execution_count": 5,
   "metadata": {
    "ExecuteTime": {
     "end_time": "2019-02-26T09:12:49.335204Z",
     "start_time": "2019-02-26T09:12:49.244737Z"
    }
   },
   "outputs": [
    {
     "data": {
      "text/html": [
       "\n",
       "                <audio controls=\"controls\" autoplay=\"autoplay\">\n",
       "                    <source src=\"./data/Glass.wav\" type=\"audio/x-wav\" />\n",
       "                    Your browser does not support the audio element.\n",
       "                </audio>\n",
       "              "
      ],
      "text/plain": [
       "<IPython.lib.display.Audio object>"
      ]
     },
     "execution_count": 5,
     "metadata": {},
     "output_type": "execute_result"
    }
   ],
   "source": [
    "# To enable a specified sound to play\n",
    "from IPython.display import Audio\n",
    "sound_file = './data/Glass.wav'\n",
    "\n",
    "# Option to play sound at the end of a function with a long run time\n",
    "Audio(url=sound_file, autoplay=True)"
   ]
  },
  {
   "cell_type": "markdown",
   "metadata": {
    "ExecuteTime": {
     "end_time": "2018-07-17T17:12:41.336563Z",
     "start_time": "2018-07-17T17:12:41.333288Z"
    }
   },
   "source": [
    "## Acronyms and abbreviations"
   ]
  },
  {
   "cell_type": "markdown",
   "metadata": {
    "ExecuteTime": {
     "end_time": "2019-01-10T17:35:10.076986Z",
     "start_time": "2019-01-10T17:35:10.060130Z"
    },
    "collapsed": true
   },
   "source": [
    "* arr = array\n",
    "* bp = boiling point\n",
    "* cv = cross validation\n",
    "* df = data frame\n",
    "* enm = engineered nanomaterials\n",
    "* matrix_F = matrix of the product is a formulation (i.e., not a solid)\n",
    "* mp = melting point\n",
    "* mw = molecular weight\n",
    "* oecd = Organisation for Economic Co-operation and Development\n",
    "* prop = property\n",
    "* puc = product use category\n",
    "* rbf = radial basis function (a non-linear implementation of SVM)\n",
    "* rf = random forest\n",
    "* svc = support vector classifier (for categorical data)\n",
    "* svm = support vector machine\n",
    "* wf = weight fraction"
   ]
  },
  {
   "cell_type": "markdown",
   "metadata": {},
   "source": [
    "# Establish Data Frames"
   ]
  },
  {
   "cell_type": "markdown",
   "metadata": {},
   "source": [
    "## Read in data"
   ]
  },
  {
   "cell_type": "markdown",
   "metadata": {},
   "source": [
    "Read in ENM (target model) and organics (source model) data. Numbered features are clustered chemical function groups."
   ]
  },
  {
   "cell_type": "code",
   "execution_count": 6,
   "metadata": {
    "ExecuteTime": {
     "end_time": "2019-02-26T09:12:50.381879Z",
     "start_time": "2019-02-26T09:12:50.178543Z"
    }
   },
   "outputs": [
    {
     "name": "stdout",
     "output_type": "stream",
     "text": [
      "(82, 39)\n",
      "(16354, 39)\n"
     ]
    }
   ],
   "source": [
    "# Read in target (ENM) model feature data\n",
    "X_enm = pd.read_csv(\"./data/XX_enm.csv\", sep='\\t', header='infer', index_col=0)\n",
    "\n",
    "# Read in source (organics) model feature data\n",
    "X_source = pd.read_csv(\"./data/XX_source.csv\", sep='\\t', header='infer', index_col=0)\n",
    "\n",
    "print(X_enm.shape)\n",
    "print(X_source.shape)"
   ]
  },
  {
   "cell_type": "code",
   "execution_count": 7,
   "metadata": {
    "ExecuteTime": {
     "end_time": "2019-02-26T09:12:50.474423Z",
     "start_time": "2019-02-26T09:12:50.396883Z"
    }
   },
   "outputs": [
    {
     "data": {
      "text/html": [
       "<div>\n",
       "<style scoped>\n",
       "    .dataframe tbody tr th:only-of-type {\n",
       "        vertical-align: middle;\n",
       "    }\n",
       "\n",
       "    .dataframe tbody tr th {\n",
       "        vertical-align: top;\n",
       "    }\n",
       "\n",
       "    .dataframe thead th {\n",
       "        text-align: right;\n",
       "    }\n",
       "</style>\n",
       "<table border=\"1\" class=\"dataframe\">\n",
       "  <thead>\n",
       "    <tr style=\"text-align: right;\">\n",
       "      <th></th>\n",
       "      <th>propMW</th>\n",
       "      <th>propMP</th>\n",
       "      <th>propBP</th>\n",
       "      <th>propLogDensity</th>\n",
       "      <th>0</th>\n",
       "      <th>1</th>\n",
       "      <th>2</th>\n",
       "      <th>3</th>\n",
       "      <th>4</th>\n",
       "      <th>5</th>\n",
       "      <th>...</th>\n",
       "      <th>group_facialcleansingandmoisturizing</th>\n",
       "      <th>group_fungicide</th>\n",
       "      <th>group_generalhouseholdcleaning</th>\n",
       "      <th>group_generalmoisturizing</th>\n",
       "      <th>group_makeupandrelated</th>\n",
       "      <th>group_paintstainandrelatedproducts</th>\n",
       "      <th>group_sunscreen</th>\n",
       "      <th>group_surfacesealers</th>\n",
       "      <th>refined_spray</th>\n",
       "      <th>matrix_F</th>\n",
       "    </tr>\n",
       "  </thead>\n",
       "  <tbody>\n",
       "    <tr>\n",
       "      <th>0</th>\n",
       "      <td>79.867</td>\n",
       "      <td>1843.00</td>\n",
       "      <td>2972.0</td>\n",
       "      <td>0.626340</td>\n",
       "      <td>0.5</td>\n",
       "      <td>0.0</td>\n",
       "      <td>0.0</td>\n",
       "      <td>0.0</td>\n",
       "      <td>0.0</td>\n",
       "      <td>1.0</td>\n",
       "      <td>...</td>\n",
       "      <td>0</td>\n",
       "      <td>0</td>\n",
       "      <td>0</td>\n",
       "      <td>0</td>\n",
       "      <td>0</td>\n",
       "      <td>1</td>\n",
       "      <td>0</td>\n",
       "      <td>0</td>\n",
       "      <td>0</td>\n",
       "      <td>1</td>\n",
       "    </tr>\n",
       "    <tr>\n",
       "      <th>1</th>\n",
       "      <td>63.546</td>\n",
       "      <td>1083.00</td>\n",
       "      <td>2567.0</td>\n",
       "      <td>0.952308</td>\n",
       "      <td>0.0</td>\n",
       "      <td>0.0</td>\n",
       "      <td>0.0</td>\n",
       "      <td>0.0</td>\n",
       "      <td>0.0</td>\n",
       "      <td>0.0</td>\n",
       "      <td>...</td>\n",
       "      <td>0</td>\n",
       "      <td>0</td>\n",
       "      <td>0</td>\n",
       "      <td>0</td>\n",
       "      <td>0</td>\n",
       "      <td>0</td>\n",
       "      <td>0</td>\n",
       "      <td>0</td>\n",
       "      <td>0</td>\n",
       "      <td>1</td>\n",
       "    </tr>\n",
       "    <tr>\n",
       "      <th>2</th>\n",
       "      <td>65.370</td>\n",
       "      <td>419.53</td>\n",
       "      <td>907.0</td>\n",
       "      <td>0.853698</td>\n",
       "      <td>0.0</td>\n",
       "      <td>0.0</td>\n",
       "      <td>0.0</td>\n",
       "      <td>0.0</td>\n",
       "      <td>0.0</td>\n",
       "      <td>0.0</td>\n",
       "      <td>...</td>\n",
       "      <td>0</td>\n",
       "      <td>0</td>\n",
       "      <td>0</td>\n",
       "      <td>0</td>\n",
       "      <td>0</td>\n",
       "      <td>0</td>\n",
       "      <td>0</td>\n",
       "      <td>0</td>\n",
       "      <td>0</td>\n",
       "      <td>1</td>\n",
       "    </tr>\n",
       "    <tr>\n",
       "      <th>3</th>\n",
       "      <td>107.868</td>\n",
       "      <td>961.78</td>\n",
       "      <td>2162.0</td>\n",
       "      <td>1.014730</td>\n",
       "      <td>0.0</td>\n",
       "      <td>0.0</td>\n",
       "      <td>0.0</td>\n",
       "      <td>0.0</td>\n",
       "      <td>0.0</td>\n",
       "      <td>0.0</td>\n",
       "      <td>...</td>\n",
       "      <td>1</td>\n",
       "      <td>0</td>\n",
       "      <td>0</td>\n",
       "      <td>0</td>\n",
       "      <td>0</td>\n",
       "      <td>0</td>\n",
       "      <td>0</td>\n",
       "      <td>0</td>\n",
       "      <td>0</td>\n",
       "      <td>1</td>\n",
       "    </tr>\n",
       "  </tbody>\n",
       "</table>\n",
       "<p>4 rows × 39 columns</p>\n",
       "</div>"
      ],
      "text/plain": [
       "    propMW   propMP  propBP  propLogDensity    0    1    2    3    4    5  \\\n",
       "0   79.867  1843.00  2972.0        0.626340  0.5  0.0  0.0  0.0  0.0  1.0   \n",
       "1   63.546  1083.00  2567.0        0.952308  0.0  0.0  0.0  0.0  0.0  0.0   \n",
       "2   65.370   419.53   907.0        0.853698  0.0  0.0  0.0  0.0  0.0  0.0   \n",
       "3  107.868   961.78  2162.0        1.014730  0.0  0.0  0.0  0.0  0.0  0.0   \n",
       "\n",
       "     ...     group_facialcleansingandmoisturizing  group_fungicide  \\\n",
       "0    ...                                        0                0   \n",
       "1    ...                                        0                0   \n",
       "2    ...                                        0                0   \n",
       "3    ...                                        1                0   \n",
       "\n",
       "   group_generalhouseholdcleaning  group_generalmoisturizing  \\\n",
       "0                               0                          0   \n",
       "1                               0                          0   \n",
       "2                               0                          0   \n",
       "3                               0                          0   \n",
       "\n",
       "   group_makeupandrelated  group_paintstainandrelatedproducts  \\\n",
       "0                       0                                   1   \n",
       "1                       0                                   0   \n",
       "2                       0                                   0   \n",
       "3                       0                                   0   \n",
       "\n",
       "   group_sunscreen  group_surfacesealers  refined_spray  matrix_F  \n",
       "0                0                     0              0         1  \n",
       "1                0                     0              0         1  \n",
       "2                0                     0              0         1  \n",
       "3                0                     0              0         1  \n",
       "\n",
       "[4 rows x 39 columns]"
      ]
     },
     "execution_count": 7,
     "metadata": {},
     "output_type": "execute_result"
    }
   ],
   "source": [
    "X_enm.head(4)"
   ]
  },
  {
   "cell_type": "code",
   "execution_count": 8,
   "metadata": {
    "ExecuteTime": {
     "end_time": "2019-02-26T09:12:50.590924Z",
     "start_time": "2019-02-26T09:12:50.532008Z"
    }
   },
   "outputs": [
    {
     "data": {
      "text/html": [
       "<div>\n",
       "<style scoped>\n",
       "    .dataframe tbody tr th:only-of-type {\n",
       "        vertical-align: middle;\n",
       "    }\n",
       "\n",
       "    .dataframe tbody tr th {\n",
       "        vertical-align: top;\n",
       "    }\n",
       "\n",
       "    .dataframe thead th {\n",
       "        text-align: right;\n",
       "    }\n",
       "</style>\n",
       "<table border=\"1\" class=\"dataframe\">\n",
       "  <thead>\n",
       "    <tr style=\"text-align: right;\">\n",
       "      <th></th>\n",
       "      <th>propMW</th>\n",
       "      <th>propMP</th>\n",
       "      <th>propBP</th>\n",
       "      <th>propLogDensity</th>\n",
       "      <th>0</th>\n",
       "      <th>1</th>\n",
       "      <th>2</th>\n",
       "      <th>3</th>\n",
       "      <th>4</th>\n",
       "      <th>5</th>\n",
       "      <th>...</th>\n",
       "      <th>group_facialcleansingandmoisturizing</th>\n",
       "      <th>group_fungicide</th>\n",
       "      <th>group_generalhouseholdcleaning</th>\n",
       "      <th>group_generalmoisturizing</th>\n",
       "      <th>group_makeupandrelated</th>\n",
       "      <th>group_paintstainandrelatedproducts</th>\n",
       "      <th>group_sunscreen</th>\n",
       "      <th>group_surfacesealers</th>\n",
       "      <th>refined_spray</th>\n",
       "      <th>matrix_F</th>\n",
       "    </tr>\n",
       "  </thead>\n",
       "  <tbody>\n",
       "    <tr>\n",
       "      <th>1</th>\n",
       "      <td>106.168</td>\n",
       "      <td>-52.5218</td>\n",
       "      <td>147.1505</td>\n",
       "      <td>-0.05061</td>\n",
       "      <td>0.5</td>\n",
       "      <td>0.0</td>\n",
       "      <td>0.0</td>\n",
       "      <td>0.0</td>\n",
       "      <td>0.0</td>\n",
       "      <td>0.0</td>\n",
       "      <td>...</td>\n",
       "      <td>0</td>\n",
       "      <td>0</td>\n",
       "      <td>0</td>\n",
       "      <td>0</td>\n",
       "      <td>0</td>\n",
       "      <td>0</td>\n",
       "      <td>0</td>\n",
       "      <td>0</td>\n",
       "      <td>0</td>\n",
       "      <td>1</td>\n",
       "    </tr>\n",
       "    <tr>\n",
       "      <th>2</th>\n",
       "      <td>106.168</td>\n",
       "      <td>-52.5218</td>\n",
       "      <td>147.1505</td>\n",
       "      <td>-0.05061</td>\n",
       "      <td>0.5</td>\n",
       "      <td>0.0</td>\n",
       "      <td>0.0</td>\n",
       "      <td>0.0</td>\n",
       "      <td>0.0</td>\n",
       "      <td>0.0</td>\n",
       "      <td>...</td>\n",
       "      <td>0</td>\n",
       "      <td>0</td>\n",
       "      <td>0</td>\n",
       "      <td>0</td>\n",
       "      <td>0</td>\n",
       "      <td>0</td>\n",
       "      <td>0</td>\n",
       "      <td>0</td>\n",
       "      <td>0</td>\n",
       "      <td>1</td>\n",
       "    </tr>\n",
       "    <tr>\n",
       "      <th>3</th>\n",
       "      <td>106.168</td>\n",
       "      <td>-52.5218</td>\n",
       "      <td>147.1505</td>\n",
       "      <td>-0.05061</td>\n",
       "      <td>0.5</td>\n",
       "      <td>0.0</td>\n",
       "      <td>0.0</td>\n",
       "      <td>0.0</td>\n",
       "      <td>0.0</td>\n",
       "      <td>0.0</td>\n",
       "      <td>...</td>\n",
       "      <td>0</td>\n",
       "      <td>0</td>\n",
       "      <td>0</td>\n",
       "      <td>0</td>\n",
       "      <td>0</td>\n",
       "      <td>1</td>\n",
       "      <td>0</td>\n",
       "      <td>0</td>\n",
       "      <td>1</td>\n",
       "      <td>1</td>\n",
       "    </tr>\n",
       "    <tr>\n",
       "      <th>4</th>\n",
       "      <td>106.168</td>\n",
       "      <td>-52.5218</td>\n",
       "      <td>147.1505</td>\n",
       "      <td>-0.05061</td>\n",
       "      <td>0.5</td>\n",
       "      <td>0.0</td>\n",
       "      <td>0.0</td>\n",
       "      <td>0.0</td>\n",
       "      <td>0.0</td>\n",
       "      <td>0.0</td>\n",
       "      <td>...</td>\n",
       "      <td>0</td>\n",
       "      <td>0</td>\n",
       "      <td>0</td>\n",
       "      <td>0</td>\n",
       "      <td>0</td>\n",
       "      <td>1</td>\n",
       "      <td>0</td>\n",
       "      <td>0</td>\n",
       "      <td>1</td>\n",
       "      <td>1</td>\n",
       "    </tr>\n",
       "  </tbody>\n",
       "</table>\n",
       "<p>4 rows × 39 columns</p>\n",
       "</div>"
      ],
      "text/plain": [
       "    propMW   propMP    propBP  propLogDensity    0    1    2    3    4    5  \\\n",
       "1  106.168 -52.5218  147.1505        -0.05061  0.5  0.0  0.0  0.0  0.0  0.0   \n",
       "2  106.168 -52.5218  147.1505        -0.05061  0.5  0.0  0.0  0.0  0.0  0.0   \n",
       "3  106.168 -52.5218  147.1505        -0.05061  0.5  0.0  0.0  0.0  0.0  0.0   \n",
       "4  106.168 -52.5218  147.1505        -0.05061  0.5  0.0  0.0  0.0  0.0  0.0   \n",
       "\n",
       "     ...     group_facialcleansingandmoisturizing  group_fungicide  \\\n",
       "1    ...                                        0                0   \n",
       "2    ...                                        0                0   \n",
       "3    ...                                        0                0   \n",
       "4    ...                                        0                0   \n",
       "\n",
       "   group_generalhouseholdcleaning  group_generalmoisturizing  \\\n",
       "1                               0                          0   \n",
       "2                               0                          0   \n",
       "3                               0                          0   \n",
       "4                               0                          0   \n",
       "\n",
       "   group_makeupandrelated  group_paintstainandrelatedproducts  \\\n",
       "1                       0                                   0   \n",
       "2                       0                                   0   \n",
       "3                       0                                   1   \n",
       "4                       0                                   1   \n",
       "\n",
       "   group_sunscreen  group_surfacesealers  refined_spray  matrix_F  \n",
       "1                0                     0              0         1  \n",
       "2                0                     0              0         1  \n",
       "3                0                     0              1         1  \n",
       "4                0                     0              1         1  \n",
       "\n",
       "[4 rows x 39 columns]"
      ]
     },
     "execution_count": 8,
     "metadata": {},
     "output_type": "execute_result"
    }
   ],
   "source": [
    "X_source.head(4)"
   ]
  },
  {
   "cell_type": "code",
   "execution_count": 9,
   "metadata": {
    "ExecuteTime": {
     "end_time": "2019-02-26T09:12:50.757885Z",
     "start_time": "2019-02-26T09:12:50.727528Z"
    },
    "collapsed": true
   },
   "outputs": [],
   "source": [
    "# Read in ENM labels (maximum_weight_fraction)\n",
    "y_enm = pd.read_csv(\"./data/ENM_conc_export.csv\", sep=',', header='infer', usecols=[3])\n",
    "\n",
    "# Read in organics labels (maximum_weight_fraction)\n",
    "y_source = pd.read_csv(\"./data/y_source.csv\", sep=',', header='infer')\n",
    "y_source.index = X_source.index"
   ]
  },
  {
   "cell_type": "code",
   "execution_count": 10,
   "metadata": {
    "ExecuteTime": {
     "end_time": "2019-02-26T09:12:50.922050Z",
     "start_time": "2019-02-26T09:12:50.895934Z"
    },
    "collapsed": true
   },
   "outputs": [],
   "source": [
    "# Read in previous model evaluation results table\n",
    "results_df = pd.read_csv(\"./data/2019-02-20_augment_results.csv\", sep='\\t')\n",
    "\n",
    "# Change column of ratios to strings\n",
    "results_df['ENM-Organics-Ratio'] = results_df['ENM-Organics-Ratio'].astype(str)"
   ]
  },
  {
   "cell_type": "markdown",
   "metadata": {
    "ExecuteTime": {
     "end_time": "2018-07-31T20:29:35.081047Z",
     "start_time": "2018-07-31T20:29:35.076307Z"
    }
   },
   "source": [
    "## Random unsupervised augmentation"
   ]
  },
  {
   "cell_type": "markdown",
   "metadata": {},
   "source": [
    "ENM data is augmented with randomly sampled organics data to see if model performance is improved. Multiple data frames are constructed for testing prediction models with varying ratios of ENM:organics data."
   ]
  },
  {
   "cell_type": "code",
   "execution_count": 34,
   "metadata": {
    "ExecuteTime": {
     "end_time": "2019-02-26T09:17:29.707467Z",
     "start_time": "2019-02-26T09:17:29.690349Z"
    },
    "collapsed": true
   },
   "outputs": [],
   "source": [
    "# Define function to augment ENM data with random organics data\n",
    "from numpy import random\n",
    "\n",
    "def augment(source_data, \n",
    "            enm_data, \n",
    "            n_samples, \n",
    "            random_state):\n",
    "    \n",
    "    # Sample source (organics) data\n",
    "    df_samples = source_data.sample(n=n_samples, replace=False, \n",
    "                            random_state=random_state, axis=0)\n",
    "    \n",
    "    # Append sampled organics data to ENM data\n",
    "    df_concat = pd.concat([enm_data, df_samples], sort=False)\n",
    "    \n",
    "    print('Shape of concatenated df: ', df_concat.shape)\n",
    "    \n",
    "    return df_concat"
   ]
  },
  {
   "cell_type": "markdown",
   "metadata": {
    "ExecuteTime": {
     "end_time": "2018-12-14T18:14:07.512582Z",
     "start_time": "2018-12-14T18:14:07.505735Z"
    }
   },
   "source": [
    "### 1:200 ENM-organics data"
   ]
  },
  {
   "cell_type": "code",
   "execution_count": 35,
   "metadata": {
    "ExecuteTime": {
     "end_time": "2019-02-26T09:17:30.858261Z",
     "start_time": "2019-02-26T09:17:30.838146Z"
    }
   },
   "outputs": [
    {
     "name": "stdout",
     "output_type": "stream",
     "text": [
      "(16436, 39)\n",
      "(16436, 1)\n"
     ]
    }
   ],
   "source": [
    "# ENM and all organics data stacked, respectively\n",
    "X_all = pd.concat([X_enm, X_source], sort=False)\n",
    "y_all = pd.concat([y_enm, y_source])\n",
    "\n",
    "print(X_all.shape)\n",
    "print(y_all.shape)"
   ]
  },
  {
   "cell_type": "code",
   "execution_count": 36,
   "metadata": {
    "ExecuteTime": {
     "end_time": "2019-02-26T09:17:31.375005Z",
     "start_time": "2019-02-26T09:17:31.329951Z"
    }
   },
   "outputs": [
    {
     "data": {
      "text/html": [
       "<div>\n",
       "<style scoped>\n",
       "    .dataframe tbody tr th:only-of-type {\n",
       "        vertical-align: middle;\n",
       "    }\n",
       "\n",
       "    .dataframe tbody tr th {\n",
       "        vertical-align: top;\n",
       "    }\n",
       "\n",
       "    .dataframe thead th {\n",
       "        text-align: right;\n",
       "    }\n",
       "</style>\n",
       "<table border=\"1\" class=\"dataframe\">\n",
       "  <thead>\n",
       "    <tr style=\"text-align: right;\">\n",
       "      <th></th>\n",
       "      <th>propMW</th>\n",
       "      <th>propMP</th>\n",
       "      <th>propBP</th>\n",
       "      <th>propLogDensity</th>\n",
       "      <th>0</th>\n",
       "      <th>1</th>\n",
       "      <th>2</th>\n",
       "      <th>3</th>\n",
       "      <th>4</th>\n",
       "      <th>5</th>\n",
       "      <th>...</th>\n",
       "      <th>group_facialcleansingandmoisturizing</th>\n",
       "      <th>group_fungicide</th>\n",
       "      <th>group_generalhouseholdcleaning</th>\n",
       "      <th>group_generalmoisturizing</th>\n",
       "      <th>group_makeupandrelated</th>\n",
       "      <th>group_paintstainandrelatedproducts</th>\n",
       "      <th>group_sunscreen</th>\n",
       "      <th>group_surfacesealers</th>\n",
       "      <th>refined_spray</th>\n",
       "      <th>matrix_F</th>\n",
       "    </tr>\n",
       "  </thead>\n",
       "  <tbody>\n",
       "    <tr>\n",
       "      <th>29366</th>\n",
       "      <td>152.149</td>\n",
       "      <td>84.03215</td>\n",
       "      <td>263.941</td>\n",
       "      <td>0.078457</td>\n",
       "      <td>0.0</td>\n",
       "      <td>0.0</td>\n",
       "      <td>0.0</td>\n",
       "      <td>0.0</td>\n",
       "      <td>0.0</td>\n",
       "      <td>0.0</td>\n",
       "      <td>...</td>\n",
       "      <td>0</td>\n",
       "      <td>0</td>\n",
       "      <td>0</td>\n",
       "      <td>1</td>\n",
       "      <td>0</td>\n",
       "      <td>0</td>\n",
       "      <td>0</td>\n",
       "      <td>0</td>\n",
       "      <td>0</td>\n",
       "      <td>1</td>\n",
       "    </tr>\n",
       "    <tr>\n",
       "      <th>29367</th>\n",
       "      <td>152.149</td>\n",
       "      <td>84.03215</td>\n",
       "      <td>263.941</td>\n",
       "      <td>0.078457</td>\n",
       "      <td>0.0</td>\n",
       "      <td>0.0</td>\n",
       "      <td>0.0</td>\n",
       "      <td>0.0</td>\n",
       "      <td>0.0</td>\n",
       "      <td>0.0</td>\n",
       "      <td>...</td>\n",
       "      <td>0</td>\n",
       "      <td>0</td>\n",
       "      <td>0</td>\n",
       "      <td>0</td>\n",
       "      <td>1</td>\n",
       "      <td>0</td>\n",
       "      <td>0</td>\n",
       "      <td>0</td>\n",
       "      <td>0</td>\n",
       "      <td>1</td>\n",
       "    </tr>\n",
       "    <tr>\n",
       "      <th>29368</th>\n",
       "      <td>135.210</td>\n",
       "      <td>-31.78080</td>\n",
       "      <td>203.080</td>\n",
       "      <td>-0.031517</td>\n",
       "      <td>0.0</td>\n",
       "      <td>0.0</td>\n",
       "      <td>0.0</td>\n",
       "      <td>0.0</td>\n",
       "      <td>1.0</td>\n",
       "      <td>0.0</td>\n",
       "      <td>...</td>\n",
       "      <td>0</td>\n",
       "      <td>0</td>\n",
       "      <td>0</td>\n",
       "      <td>0</td>\n",
       "      <td>0</td>\n",
       "      <td>0</td>\n",
       "      <td>0</td>\n",
       "      <td>0</td>\n",
       "      <td>0</td>\n",
       "      <td>1</td>\n",
       "    </tr>\n",
       "    <tr>\n",
       "      <th>29369</th>\n",
       "      <td>135.210</td>\n",
       "      <td>-31.78080</td>\n",
       "      <td>203.080</td>\n",
       "      <td>-0.031517</td>\n",
       "      <td>0.0</td>\n",
       "      <td>0.0</td>\n",
       "      <td>0.0</td>\n",
       "      <td>0.0</td>\n",
       "      <td>1.0</td>\n",
       "      <td>0.0</td>\n",
       "      <td>...</td>\n",
       "      <td>0</td>\n",
       "      <td>0</td>\n",
       "      <td>0</td>\n",
       "      <td>0</td>\n",
       "      <td>0</td>\n",
       "      <td>0</td>\n",
       "      <td>0</td>\n",
       "      <td>0</td>\n",
       "      <td>0</td>\n",
       "      <td>1</td>\n",
       "    </tr>\n",
       "  </tbody>\n",
       "</table>\n",
       "<p>4 rows × 39 columns</p>\n",
       "</div>"
      ],
      "text/plain": [
       "        propMW    propMP   propBP  propLogDensity    0    1    2    3    4  \\\n",
       "29366  152.149  84.03215  263.941        0.078457  0.0  0.0  0.0  0.0  0.0   \n",
       "29367  152.149  84.03215  263.941        0.078457  0.0  0.0  0.0  0.0  0.0   \n",
       "29368  135.210 -31.78080  203.080       -0.031517  0.0  0.0  0.0  0.0  1.0   \n",
       "29369  135.210 -31.78080  203.080       -0.031517  0.0  0.0  0.0  0.0  1.0   \n",
       "\n",
       "         5    ...     group_facialcleansingandmoisturizing  group_fungicide  \\\n",
       "29366  0.0    ...                                        0                0   \n",
       "29367  0.0    ...                                        0                0   \n",
       "29368  0.0    ...                                        0                0   \n",
       "29369  0.0    ...                                        0                0   \n",
       "\n",
       "       group_generalhouseholdcleaning  group_generalmoisturizing  \\\n",
       "29366                               0                          1   \n",
       "29367                               0                          0   \n",
       "29368                               0                          0   \n",
       "29369                               0                          0   \n",
       "\n",
       "       group_makeupandrelated  group_paintstainandrelatedproducts  \\\n",
       "29366                       0                                   0   \n",
       "29367                       1                                   0   \n",
       "29368                       0                                   0   \n",
       "29369                       0                                   0   \n",
       "\n",
       "       group_sunscreen  group_surfacesealers  refined_spray  matrix_F  \n",
       "29366                0                     0              0         1  \n",
       "29367                0                     0              0         1  \n",
       "29368                0                     0              0         1  \n",
       "29369                0                     0              0         1  \n",
       "\n",
       "[4 rows x 39 columns]"
      ]
     },
     "execution_count": 36,
     "metadata": {},
     "output_type": "execute_result"
    }
   ],
   "source": [
    "X_all.tail(4)"
   ]
  },
  {
   "cell_type": "code",
   "execution_count": 37,
   "metadata": {
    "ExecuteTime": {
     "end_time": "2019-02-26T09:17:32.005870Z",
     "start_time": "2019-02-26T09:17:31.996988Z"
    }
   },
   "outputs": [
    {
     "data": {
      "text/html": [
       "<div>\n",
       "<style scoped>\n",
       "    .dataframe tbody tr th:only-of-type {\n",
       "        vertical-align: middle;\n",
       "    }\n",
       "\n",
       "    .dataframe tbody tr th {\n",
       "        vertical-align: top;\n",
       "    }\n",
       "\n",
       "    .dataframe thead th {\n",
       "        text-align: right;\n",
       "    }\n",
       "</style>\n",
       "<table border=\"1\" class=\"dataframe\">\n",
       "  <thead>\n",
       "    <tr style=\"text-align: right;\">\n",
       "      <th></th>\n",
       "      <th>maximum_weight_fraction</th>\n",
       "    </tr>\n",
       "  </thead>\n",
       "  <tbody>\n",
       "    <tr>\n",
       "      <th>29366</th>\n",
       "      <td>0.01</td>\n",
       "    </tr>\n",
       "    <tr>\n",
       "      <th>29367</th>\n",
       "      <td>0.01</td>\n",
       "    </tr>\n",
       "    <tr>\n",
       "      <th>29368</th>\n",
       "      <td>0.02</td>\n",
       "    </tr>\n",
       "    <tr>\n",
       "      <th>29369</th>\n",
       "      <td>0.02</td>\n",
       "    </tr>\n",
       "  </tbody>\n",
       "</table>\n",
       "</div>"
      ],
      "text/plain": [
       "       maximum_weight_fraction\n",
       "29366                     0.01\n",
       "29367                     0.01\n",
       "29368                     0.02\n",
       "29369                     0.02"
      ]
     },
     "execution_count": 37,
     "metadata": {},
     "output_type": "execute_result"
    }
   ],
   "source": [
    "y_all.tail(4)"
   ]
  },
  {
   "cell_type": "markdown",
   "metadata": {},
   "source": [
    "### 1:100 ENM-organics data"
   ]
  },
  {
   "cell_type": "code",
   "execution_count": 38,
   "metadata": {
    "ExecuteTime": {
     "end_time": "2019-02-26T09:17:32.694680Z",
     "start_time": "2019-02-26T09:17:32.650484Z"
    }
   },
   "outputs": [
    {
     "name": "stdout",
     "output_type": "stream",
     "text": [
      "Shape of concatenated df:  (8282, 39)\n",
      "Shape of concatenated df:  (8282, 1)\n"
     ]
    }
   ],
   "source": [
    "# Randomly sample 50% of organics data\n",
    "X_oneto100a = augment(X_source, X_enm,\n",
    "                    n_samples=8200,\n",
    "                    random_state=50)\n",
    "y_oneto100a = augment(y_source, y_enm,\n",
    "                    n_samples=8200,\n",
    "                    random_state=50)"
   ]
  },
  {
   "cell_type": "code",
   "execution_count": 39,
   "metadata": {
    "ExecuteTime": {
     "end_time": "2019-02-26T09:17:34.263592Z",
     "start_time": "2019-02-26T09:17:34.218651Z"
    }
   },
   "outputs": [
    {
     "data": {
      "text/html": [
       "<div>\n",
       "<style scoped>\n",
       "    .dataframe tbody tr th:only-of-type {\n",
       "        vertical-align: middle;\n",
       "    }\n",
       "\n",
       "    .dataframe tbody tr th {\n",
       "        vertical-align: top;\n",
       "    }\n",
       "\n",
       "    .dataframe thead th {\n",
       "        text-align: right;\n",
       "    }\n",
       "</style>\n",
       "<table border=\"1\" class=\"dataframe\">\n",
       "  <thead>\n",
       "    <tr style=\"text-align: right;\">\n",
       "      <th></th>\n",
       "      <th>propMW</th>\n",
       "      <th>propMP</th>\n",
       "      <th>propBP</th>\n",
       "      <th>propLogDensity</th>\n",
       "      <th>0</th>\n",
       "      <th>1</th>\n",
       "      <th>2</th>\n",
       "      <th>3</th>\n",
       "      <th>4</th>\n",
       "      <th>5</th>\n",
       "      <th>...</th>\n",
       "      <th>group_facialcleansingandmoisturizing</th>\n",
       "      <th>group_fungicide</th>\n",
       "      <th>group_generalhouseholdcleaning</th>\n",
       "      <th>group_generalmoisturizing</th>\n",
       "      <th>group_makeupandrelated</th>\n",
       "      <th>group_paintstainandrelatedproducts</th>\n",
       "      <th>group_sunscreen</th>\n",
       "      <th>group_surfacesealers</th>\n",
       "      <th>refined_spray</th>\n",
       "      <th>matrix_F</th>\n",
       "    </tr>\n",
       "  </thead>\n",
       "  <tbody>\n",
       "    <tr>\n",
       "      <th>80</th>\n",
       "      <td>79.867</td>\n",
       "      <td>1843.00000</td>\n",
       "      <td>2972.00000</td>\n",
       "      <td>0.626340</td>\n",
       "      <td>0.0</td>\n",
       "      <td>0.0</td>\n",
       "      <td>0.0</td>\n",
       "      <td>0.0</td>\n",
       "      <td>0.0</td>\n",
       "      <td>1.0</td>\n",
       "      <td>...</td>\n",
       "      <td>0</td>\n",
       "      <td>0</td>\n",
       "      <td>0</td>\n",
       "      <td>0</td>\n",
       "      <td>0</td>\n",
       "      <td>0</td>\n",
       "      <td>1</td>\n",
       "      <td>0</td>\n",
       "      <td>1</td>\n",
       "      <td>1</td>\n",
       "    </tr>\n",
       "    <tr>\n",
       "      <th>81</th>\n",
       "      <td>107.868</td>\n",
       "      <td>961.78000</td>\n",
       "      <td>2162.00000</td>\n",
       "      <td>1.014730</td>\n",
       "      <td>0.0</td>\n",
       "      <td>0.0</td>\n",
       "      <td>0.0</td>\n",
       "      <td>0.0</td>\n",
       "      <td>0.0</td>\n",
       "      <td>0.0</td>\n",
       "      <td>...</td>\n",
       "      <td>0</td>\n",
       "      <td>0</td>\n",
       "      <td>0</td>\n",
       "      <td>0</td>\n",
       "      <td>0</td>\n",
       "      <td>0</td>\n",
       "      <td>0</td>\n",
       "      <td>0</td>\n",
       "      <td>1</td>\n",
       "      <td>1</td>\n",
       "    </tr>\n",
       "    <tr>\n",
       "      <th>21462</th>\n",
       "      <td>342.297</td>\n",
       "      <td>159.24950</td>\n",
       "      <td>379.30850</td>\n",
       "      <td>0.240300</td>\n",
       "      <td>0.0</td>\n",
       "      <td>0.0</td>\n",
       "      <td>0.5</td>\n",
       "      <td>0.0</td>\n",
       "      <td>0.0</td>\n",
       "      <td>0.0</td>\n",
       "      <td>...</td>\n",
       "      <td>0</td>\n",
       "      <td>0</td>\n",
       "      <td>0</td>\n",
       "      <td>0</td>\n",
       "      <td>0</td>\n",
       "      <td>0</td>\n",
       "      <td>0</td>\n",
       "      <td>0</td>\n",
       "      <td>0</td>\n",
       "      <td>1</td>\n",
       "    </tr>\n",
       "    <tr>\n",
       "      <th>13861</th>\n",
       "      <td>152.237</td>\n",
       "      <td>10.86245</td>\n",
       "      <td>221.57100</td>\n",
       "      <td>-0.061981</td>\n",
       "      <td>0.0</td>\n",
       "      <td>0.0</td>\n",
       "      <td>0.0</td>\n",
       "      <td>0.0</td>\n",
       "      <td>0.0</td>\n",
       "      <td>0.0</td>\n",
       "      <td>...</td>\n",
       "      <td>0</td>\n",
       "      <td>0</td>\n",
       "      <td>0</td>\n",
       "      <td>0</td>\n",
       "      <td>0</td>\n",
       "      <td>0</td>\n",
       "      <td>0</td>\n",
       "      <td>0</td>\n",
       "      <td>0</td>\n",
       "      <td>1</td>\n",
       "    </tr>\n",
       "    <tr>\n",
       "      <th>19309</th>\n",
       "      <td>60.096</td>\n",
       "      <td>-71.42240</td>\n",
       "      <td>86.55995</td>\n",
       "      <td>-0.063989</td>\n",
       "      <td>0.5</td>\n",
       "      <td>0.0</td>\n",
       "      <td>0.0</td>\n",
       "      <td>0.0</td>\n",
       "      <td>0.0</td>\n",
       "      <td>0.0</td>\n",
       "      <td>...</td>\n",
       "      <td>0</td>\n",
       "      <td>0</td>\n",
       "      <td>0</td>\n",
       "      <td>0</td>\n",
       "      <td>0</td>\n",
       "      <td>0</td>\n",
       "      <td>0</td>\n",
       "      <td>0</td>\n",
       "      <td>0</td>\n",
       "      <td>1</td>\n",
       "    </tr>\n",
       "  </tbody>\n",
       "</table>\n",
       "<p>5 rows × 39 columns</p>\n",
       "</div>"
      ],
      "text/plain": [
       "        propMW      propMP      propBP  propLogDensity    0    1    2    3  \\\n",
       "80      79.867  1843.00000  2972.00000        0.626340  0.0  0.0  0.0  0.0   \n",
       "81     107.868   961.78000  2162.00000        1.014730  0.0  0.0  0.0  0.0   \n",
       "21462  342.297   159.24950   379.30850        0.240300  0.0  0.0  0.5  0.0   \n",
       "13861  152.237    10.86245   221.57100       -0.061981  0.0  0.0  0.0  0.0   \n",
       "19309   60.096   -71.42240    86.55995       -0.063989  0.5  0.0  0.0  0.0   \n",
       "\n",
       "         4    5    ...     group_facialcleansingandmoisturizing  \\\n",
       "80     0.0  1.0    ...                                        0   \n",
       "81     0.0  0.0    ...                                        0   \n",
       "21462  0.0  0.0    ...                                        0   \n",
       "13861  0.0  0.0    ...                                        0   \n",
       "19309  0.0  0.0    ...                                        0   \n",
       "\n",
       "       group_fungicide  group_generalhouseholdcleaning  \\\n",
       "80                   0                               0   \n",
       "81                   0                               0   \n",
       "21462                0                               0   \n",
       "13861                0                               0   \n",
       "19309                0                               0   \n",
       "\n",
       "       group_generalmoisturizing  group_makeupandrelated  \\\n",
       "80                             0                       0   \n",
       "81                             0                       0   \n",
       "21462                          0                       0   \n",
       "13861                          0                       0   \n",
       "19309                          0                       0   \n",
       "\n",
       "       group_paintstainandrelatedproducts  group_sunscreen  \\\n",
       "80                                      0                1   \n",
       "81                                      0                0   \n",
       "21462                                   0                0   \n",
       "13861                                   0                0   \n",
       "19309                                   0                0   \n",
       "\n",
       "       group_surfacesealers  refined_spray  matrix_F  \n",
       "80                        0              1         1  \n",
       "81                        0              1         1  \n",
       "21462                     0              0         1  \n",
       "13861                     0              0         1  \n",
       "19309                     0              0         1  \n",
       "\n",
       "[5 rows x 39 columns]"
      ]
     },
     "execution_count": 39,
     "metadata": {},
     "output_type": "execute_result"
    }
   ],
   "source": [
    "X_oneto100a.iloc[80:85,:]"
   ]
  },
  {
   "cell_type": "code",
   "execution_count": 40,
   "metadata": {
    "ExecuteTime": {
     "end_time": "2019-02-26T09:17:34.924263Z",
     "start_time": "2019-02-26T09:17:34.892256Z"
    }
   },
   "outputs": [
    {
     "data": {
      "text/html": [
       "<div>\n",
       "<style scoped>\n",
       "    .dataframe tbody tr th:only-of-type {\n",
       "        vertical-align: middle;\n",
       "    }\n",
       "\n",
       "    .dataframe tbody tr th {\n",
       "        vertical-align: top;\n",
       "    }\n",
       "\n",
       "    .dataframe thead th {\n",
       "        text-align: right;\n",
       "    }\n",
       "</style>\n",
       "<table border=\"1\" class=\"dataframe\">\n",
       "  <thead>\n",
       "    <tr style=\"text-align: right;\">\n",
       "      <th></th>\n",
       "      <th>maximum_weight_fraction</th>\n",
       "    </tr>\n",
       "  </thead>\n",
       "  <tbody>\n",
       "    <tr>\n",
       "      <th>80</th>\n",
       "      <td>0.000667</td>\n",
       "    </tr>\n",
       "    <tr>\n",
       "      <th>81</th>\n",
       "      <td>0.000800</td>\n",
       "    </tr>\n",
       "    <tr>\n",
       "      <th>21462</th>\n",
       "      <td>0.300000</td>\n",
       "    </tr>\n",
       "    <tr>\n",
       "      <th>13861</th>\n",
       "      <td>0.050000</td>\n",
       "    </tr>\n",
       "    <tr>\n",
       "      <th>19309</th>\n",
       "      <td>0.050000</td>\n",
       "    </tr>\n",
       "  </tbody>\n",
       "</table>\n",
       "</div>"
      ],
      "text/plain": [
       "       maximum_weight_fraction\n",
       "80                    0.000667\n",
       "81                    0.000800\n",
       "21462                 0.300000\n",
       "13861                 0.050000\n",
       "19309                 0.050000"
      ]
     },
     "execution_count": 40,
     "metadata": {},
     "output_type": "execute_result"
    }
   ],
   "source": [
    "y_oneto100a.iloc[80:85,:]"
   ]
  },
  {
   "cell_type": "code",
   "execution_count": 41,
   "metadata": {
    "ExecuteTime": {
     "end_time": "2019-02-26T09:17:35.506492Z",
     "start_time": "2019-02-26T09:17:35.467270Z"
    }
   },
   "outputs": [
    {
     "name": "stdout",
     "output_type": "stream",
     "text": [
      "Shape of concatenated df:  (8282, 39)\n",
      "Shape of concatenated df:  (8282, 1)\n"
     ]
    }
   ],
   "source": [
    "# Randomly sample 50% of organics data\n",
    "X_oneto100b = augment(X_source, X_enm,\n",
    "                    n_samples=8200,\n",
    "                    random_state=60)\n",
    "y_oneto100b = augment(y_source, y_enm,\n",
    "                    n_samples=8200,\n",
    "                    random_state=60)"
   ]
  },
  {
   "cell_type": "code",
   "execution_count": 42,
   "metadata": {
    "ExecuteTime": {
     "end_time": "2019-02-26T09:17:35.930113Z",
     "start_time": "2019-02-26T09:17:35.890677Z"
    }
   },
   "outputs": [
    {
     "name": "stdout",
     "output_type": "stream",
     "text": [
      "Shape of concatenated df:  (8282, 39)\n",
      "Shape of concatenated df:  (8282, 1)\n"
     ]
    }
   ],
   "source": [
    "# Randomly sample 50% of organics data\n",
    "X_oneto100c = augment(X_source, X_enm,\n",
    "                    n_samples=8200,\n",
    "                    random_state=70)\n",
    "y_oneto100c = augment(y_source, y_enm,\n",
    "                    n_samples=8200,\n",
    "                    random_state=70)"
   ]
  },
  {
   "cell_type": "markdown",
   "metadata": {},
   "source": [
    "### 1:50 ENM-organics data"
   ]
  },
  {
   "cell_type": "code",
   "execution_count": 43,
   "metadata": {
    "ExecuteTime": {
     "end_time": "2019-02-26T09:17:37.370330Z",
     "start_time": "2019-02-26T09:17:37.330373Z"
    }
   },
   "outputs": [
    {
     "name": "stdout",
     "output_type": "stream",
     "text": [
      "Shape of concatenated df:  (4182, 39)\n",
      "Shape of concatenated df:  (4182, 1)\n"
     ]
    }
   ],
   "source": [
    "# Randomly sample 25% of organics data\n",
    "X_oneto50a = augment(X_source, X_enm,\n",
    "                    n_samples=4100,\n",
    "                    random_state=45)\n",
    "y_oneto50a = augment(y_source, y_enm,\n",
    "                    n_samples=4100,\n",
    "                    random_state=45)"
   ]
  },
  {
   "cell_type": "code",
   "execution_count": 44,
   "metadata": {
    "ExecuteTime": {
     "end_time": "2019-02-26T09:17:37.816924Z",
     "start_time": "2019-02-26T09:17:37.775225Z"
    }
   },
   "outputs": [
    {
     "name": "stdout",
     "output_type": "stream",
     "text": [
      "Shape of concatenated df:  (4182, 39)\n",
      "Shape of concatenated df:  (4182, 1)\n"
     ]
    }
   ],
   "source": [
    "# Randomly sample 25% of organics data again\n",
    "X_oneto50b = augment(X_source, X_enm,\n",
    "                    n_samples=4100,\n",
    "                    random_state=12)\n",
    "y_oneto50b = augment(y_source, y_enm,\n",
    "                    n_samples=4100,\n",
    "                    random_state=12)"
   ]
  },
  {
   "cell_type": "code",
   "execution_count": 45,
   "metadata": {
    "ExecuteTime": {
     "end_time": "2019-02-26T09:17:38.182641Z",
     "start_time": "2019-02-26T09:17:38.142608Z"
    }
   },
   "outputs": [
    {
     "name": "stdout",
     "output_type": "stream",
     "text": [
      "Shape of concatenated df:  (4182, 39)\n",
      "Shape of concatenated df:  (4182, 1)\n"
     ]
    }
   ],
   "source": [
    "# Randomly sample 25% of organics data again\n",
    "X_oneto50c = augment(X_source, X_enm,\n",
    "                    n_samples=4100,\n",
    "                    random_state=55)\n",
    "y_oneto50c = augment(y_source, y_enm,\n",
    "                    n_samples=4100,\n",
    "                    random_state=55)"
   ]
  },
  {
   "cell_type": "markdown",
   "metadata": {
    "ExecuteTime": {
     "end_time": "2018-12-14T18:14:35.272027Z",
     "start_time": "2018-12-14T18:14:35.264956Z"
    }
   },
   "source": [
    "### 1:20 ENM-organics data"
   ]
  },
  {
   "cell_type": "code",
   "execution_count": 46,
   "metadata": {
    "ExecuteTime": {
     "end_time": "2019-02-26T09:17:38.832548Z",
     "start_time": "2019-02-26T09:17:38.789247Z"
    }
   },
   "outputs": [
    {
     "name": "stdout",
     "output_type": "stream",
     "text": [
      "Shape of concatenated df:  (1722, 39)\n",
      "Shape of concatenated df:  (1722, 1)\n"
     ]
    }
   ],
   "source": [
    "# Randomly sample 10% of organics data\n",
    "X_oneto20a = augment(X_source, X_enm,\n",
    "                    n_samples=1640,\n",
    "                    random_state=42)\n",
    "y_oneto20a = augment(y_source, y_enm,\n",
    "                    n_samples=1640,\n",
    "                    random_state=42)"
   ]
  },
  {
   "cell_type": "code",
   "execution_count": 47,
   "metadata": {
    "ExecuteTime": {
     "end_time": "2019-02-26T09:17:39.045292Z",
     "start_time": "2019-02-26T09:17:39.005907Z"
    }
   },
   "outputs": [
    {
     "name": "stdout",
     "output_type": "stream",
     "text": [
      "Shape of concatenated df:  (1722, 39)\n",
      "Shape of concatenated df:  (1722, 1)\n"
     ]
    }
   ],
   "source": [
    "# Randomly sample 10% of organics data\n",
    "X_oneto20b = augment(X_source, X_enm,\n",
    "                    n_samples=1640,\n",
    "                    random_state=52)\n",
    "y_oneto20b = augment(y_source, y_enm,\n",
    "                    n_samples=1640,\n",
    "                    random_state=52)"
   ]
  },
  {
   "cell_type": "code",
   "execution_count": 48,
   "metadata": {
    "ExecuteTime": {
     "end_time": "2019-02-26T09:17:39.248248Z",
     "start_time": "2019-02-26T09:17:39.227702Z"
    }
   },
   "outputs": [
    {
     "name": "stdout",
     "output_type": "stream",
     "text": [
      "Shape of concatenated df:  (1722, 39)\n",
      "Shape of concatenated df:  (1722, 1)\n"
     ]
    }
   ],
   "source": [
    "# Randomly sample 10% of organics data\n",
    "X_oneto20c = augment(X_source, X_enm,\n",
    "                    n_samples=1640,\n",
    "                    random_state=62)\n",
    "y_oneto20c = augment(y_source, y_enm,\n",
    "                    n_samples=1640,\n",
    "                    random_state=62)"
   ]
  },
  {
   "cell_type": "markdown",
   "metadata": {},
   "source": [
    "### 1:10 ENM-organics data"
   ]
  },
  {
   "cell_type": "code",
   "execution_count": 49,
   "metadata": {
    "ExecuteTime": {
     "end_time": "2019-02-26T09:17:39.617969Z",
     "start_time": "2019-02-26T09:17:39.605914Z"
    },
    "scrolled": true
   },
   "outputs": [
    {
     "name": "stdout",
     "output_type": "stream",
     "text": [
      "Shape of concatenated df:  (902, 39)\n",
      "Shape of concatenated df:  (902, 1)\n"
     ]
    }
   ],
   "source": [
    "# Randomly sample 5% of organics data\n",
    "X_oneto10a = augment(X_source, X_enm,\n",
    "                    n_samples=820,\n",
    "                    random_state=40)\n",
    "y_oneto10a = augment(y_source, y_enm,\n",
    "                    n_samples=820,\n",
    "                    random_state=40)"
   ]
  },
  {
   "cell_type": "code",
   "execution_count": 50,
   "metadata": {
    "ExecuteTime": {
     "end_time": "2019-02-26T09:17:39.862095Z",
     "start_time": "2019-02-26T09:17:39.821287Z"
    }
   },
   "outputs": [
    {
     "name": "stdout",
     "output_type": "stream",
     "text": [
      "Shape of concatenated df:  (902, 39)\n",
      "Shape of concatenated df:  (902, 1)\n"
     ]
    }
   ],
   "source": [
    "# Randomly sample 5% of organics data\n",
    "X_oneto10b = augment(X_source, X_enm,\n",
    "                    n_samples=820,\n",
    "                    random_state=30)\n",
    "y_oneto10b = augment(y_source, y_enm,\n",
    "                    n_samples=820,\n",
    "                    random_state=30)"
   ]
  },
  {
   "cell_type": "code",
   "execution_count": 51,
   "metadata": {
    "ExecuteTime": {
     "end_time": "2019-02-26T09:17:40.071872Z",
     "start_time": "2019-02-26T09:17:40.028483Z"
    }
   },
   "outputs": [
    {
     "name": "stdout",
     "output_type": "stream",
     "text": [
      "Shape of concatenated df:  (902, 39)\n",
      "Shape of concatenated df:  (902, 1)\n"
     ]
    }
   ],
   "source": [
    "# Randomly sample 5% of organics data\n",
    "X_oneto10c = augment(X_source, X_enm,\n",
    "                    n_samples=820,\n",
    "                    random_state=20)\n",
    "y_oneto10c = augment(y_source, y_enm,\n",
    "                    n_samples=820,\n",
    "                    random_state=20)"
   ]
  },
  {
   "cell_type": "markdown",
   "metadata": {},
   "source": [
    "### 1:5 ENM-organics data"
   ]
  },
  {
   "cell_type": "code",
   "execution_count": 52,
   "metadata": {
    "ExecuteTime": {
     "end_time": "2019-02-26T09:17:40.444081Z",
     "start_time": "2019-02-26T09:17:40.424644Z"
    }
   },
   "outputs": [
    {
     "name": "stdout",
     "output_type": "stream",
     "text": [
      "Shape of concatenated df:  (492, 39)\n",
      "Shape of concatenated df:  (492, 1)\n"
     ]
    }
   ],
   "source": [
    "# Randomly sample 2.5% of organics data\n",
    "X_oneto5a = augment(X_source, X_enm,\n",
    "                    n_samples=410,\n",
    "                    random_state=35)\n",
    "y_oneto5a = augment(y_source, y_enm,\n",
    "                    n_samples=410,\n",
    "                    random_state=35)"
   ]
  },
  {
   "cell_type": "code",
   "execution_count": 53,
   "metadata": {
    "ExecuteTime": {
     "end_time": "2019-02-26T09:17:40.653510Z",
     "start_time": "2019-02-26T09:17:40.612156Z"
    }
   },
   "outputs": [
    {
     "name": "stdout",
     "output_type": "stream",
     "text": [
      "Shape of concatenated df:  (492, 39)\n",
      "Shape of concatenated df:  (492, 1)\n"
     ]
    }
   ],
   "source": [
    "# Randomly sample 2.5% of organics data\n",
    "X_oneto5b = augment(X_source, X_enm,\n",
    "                    n_samples=410,\n",
    "                    random_state=25)\n",
    "y_oneto5b = augment(y_source, y_enm,\n",
    "                    n_samples=410,\n",
    "                    random_state=25)"
   ]
  },
  {
   "cell_type": "code",
   "execution_count": 54,
   "metadata": {
    "ExecuteTime": {
     "end_time": "2019-02-26T09:17:40.847350Z",
     "start_time": "2019-02-26T09:17:40.803685Z"
    }
   },
   "outputs": [
    {
     "name": "stdout",
     "output_type": "stream",
     "text": [
      "Shape of concatenated df:  (492, 39)\n",
      "Shape of concatenated df:  (492, 1)\n"
     ]
    }
   ],
   "source": [
    "# Randomly sample 2.5% of organics data\n",
    "X_oneto5c = augment(X_source, X_enm,\n",
    "                    n_samples=410,\n",
    "                    random_state=15)\n",
    "y_oneto5c = augment(y_source, y_enm,\n",
    "                    n_samples=410,\n",
    "                    random_state=15)"
   ]
  },
  {
   "cell_type": "markdown",
   "metadata": {},
   "source": [
    "### 1:4 ENM-organics data"
   ]
  },
  {
   "cell_type": "code",
   "execution_count": 55,
   "metadata": {
    "ExecuteTime": {
     "end_time": "2019-02-26T09:17:41.233716Z",
     "start_time": "2019-02-26T09:17:41.192114Z"
    }
   },
   "outputs": [
    {
     "name": "stdout",
     "output_type": "stream",
     "text": [
      "Shape of concatenated df:  (410, 39)\n",
      "Shape of concatenated df:  (410, 1)\n"
     ]
    }
   ],
   "source": [
    "# Randomly sample 2% of organics data\n",
    "X_oneto4a = augment(X_source, X_enm,\n",
    "                    n_samples=328,\n",
    "                    random_state=34)\n",
    "y_oneto4a = augment(y_source, y_enm,\n",
    "                    n_samples=328,\n",
    "                    random_state=34)"
   ]
  },
  {
   "cell_type": "code",
   "execution_count": 56,
   "metadata": {
    "ExecuteTime": {
     "end_time": "2019-02-26T09:17:41.428810Z",
     "start_time": "2019-02-26T09:17:41.407659Z"
    }
   },
   "outputs": [
    {
     "name": "stdout",
     "output_type": "stream",
     "text": [
      "Shape of concatenated df:  (410, 39)\n",
      "Shape of concatenated df:  (410, 1)\n"
     ]
    }
   ],
   "source": [
    "# Randomly sample 2% of organics data\n",
    "X_oneto4b = augment(X_source, X_enm,\n",
    "                    n_samples=328,\n",
    "                    random_state=24)\n",
    "y_oneto4b = augment(y_source, y_enm,\n",
    "                    n_samples=328,\n",
    "                    random_state=24)"
   ]
  },
  {
   "cell_type": "code",
   "execution_count": 57,
   "metadata": {
    "ExecuteTime": {
     "end_time": "2019-02-26T09:17:41.652702Z",
     "start_time": "2019-02-26T09:17:41.604840Z"
    }
   },
   "outputs": [
    {
     "name": "stdout",
     "output_type": "stream",
     "text": [
      "Shape of concatenated df:  (410, 39)\n",
      "Shape of concatenated df:  (410, 1)\n"
     ]
    }
   ],
   "source": [
    "# Randomly sample 2% of organics data\n",
    "X_oneto4c = augment(X_source, X_enm,\n",
    "                    n_samples=328,\n",
    "                    random_state=14)\n",
    "y_oneto4c = augment(y_source, y_enm,\n",
    "                    n_samples=328,\n",
    "                    random_state=14)"
   ]
  },
  {
   "cell_type": "markdown",
   "metadata": {},
   "source": [
    "### 1:3 ENM-organics data"
   ]
  },
  {
   "cell_type": "code",
   "execution_count": 58,
   "metadata": {
    "ExecuteTime": {
     "end_time": "2019-02-26T09:17:42.065194Z",
     "start_time": "2019-02-26T09:17:42.024387Z"
    }
   },
   "outputs": [
    {
     "name": "stdout",
     "output_type": "stream",
     "text": [
      "Shape of concatenated df:  (328, 39)\n",
      "Shape of concatenated df:  (328, 1)\n"
     ]
    }
   ],
   "source": [
    "# Randomly sample 1.5% of organics data\n",
    "X_oneto3a = augment(X_source, X_enm,\n",
    "                    n_samples=246,\n",
    "                    random_state=43)\n",
    "y_oneto3a = augment(y_source, y_enm,\n",
    "                    n_samples=246,\n",
    "                    random_state=43)"
   ]
  },
  {
   "cell_type": "code",
   "execution_count": 59,
   "metadata": {
    "ExecuteTime": {
     "end_time": "2019-02-26T09:17:42.283279Z",
     "start_time": "2019-02-26T09:17:42.247488Z"
    }
   },
   "outputs": [
    {
     "name": "stdout",
     "output_type": "stream",
     "text": [
      "Shape of concatenated df:  (328, 39)\n",
      "Shape of concatenated df:  (328, 1)\n"
     ]
    }
   ],
   "source": [
    "# Randomly sample 1.5% of organics data\n",
    "X_oneto3b = augment(X_source, X_enm,\n",
    "                    n_samples=246,\n",
    "                    random_state=21)\n",
    "y_oneto3b = augment(y_source, y_enm,\n",
    "                    n_samples=246,\n",
    "                    random_state=21)"
   ]
  },
  {
   "cell_type": "code",
   "execution_count": 60,
   "metadata": {
    "ExecuteTime": {
     "end_time": "2019-02-26T09:17:42.527748Z",
     "start_time": "2019-02-26T09:17:42.475187Z"
    }
   },
   "outputs": [
    {
     "name": "stdout",
     "output_type": "stream",
     "text": [
      "Shape of concatenated df:  (328, 39)\n",
      "Shape of concatenated df:  (328, 1)\n"
     ]
    }
   ],
   "source": [
    "# Randomly sample 1.5% of organics data\n",
    "X_oneto3c = augment(X_source, X_enm,\n",
    "                    n_samples=246,\n",
    "                    random_state=13)\n",
    "y_oneto3c = augment(y_source, y_enm,\n",
    "                    n_samples=246,\n",
    "                    random_state=13)"
   ]
  },
  {
   "cell_type": "markdown",
   "metadata": {},
   "source": [
    "### 1:2 ENM-organics data"
   ]
  },
  {
   "cell_type": "code",
   "execution_count": 61,
   "metadata": {
    "ExecuteTime": {
     "end_time": "2019-02-26T09:17:43.014223Z",
     "start_time": "2019-02-26T09:17:42.945310Z"
    }
   },
   "outputs": [
    {
     "name": "stdout",
     "output_type": "stream",
     "text": [
      "Shape of concatenated df:  (246, 39)\n",
      "Shape of concatenated df:  (246, 1)\n"
     ]
    }
   ],
   "source": [
    "# Randomly sample 1% of organics data\n",
    "X_oneto2a = augment(X_source, X_enm,\n",
    "                    n_samples=164,\n",
    "                    random_state=32)\n",
    "y_oneto2a = augment(y_source, y_enm,\n",
    "                    n_samples=164,\n",
    "                    random_state=32)"
   ]
  },
  {
   "cell_type": "code",
   "execution_count": 62,
   "metadata": {
    "ExecuteTime": {
     "end_time": "2019-02-26T09:17:43.165786Z",
     "start_time": "2019-02-26T09:17:43.124765Z"
    }
   },
   "outputs": [
    {
     "name": "stdout",
     "output_type": "stream",
     "text": [
      "Shape of concatenated df:  (246, 39)\n",
      "Shape of concatenated df:  (246, 1)\n"
     ]
    }
   ],
   "source": [
    "# Randomly sample 1% of organics data\n",
    "X_oneto2b = augment(X_source, X_enm,\n",
    "                    n_samples=164,\n",
    "                    random_state=22)\n",
    "y_oneto2b = augment(y_source, y_enm,\n",
    "                    n_samples=164,\n",
    "                    random_state=22)"
   ]
  },
  {
   "cell_type": "code",
   "execution_count": 63,
   "metadata": {
    "ExecuteTime": {
     "end_time": "2019-02-26T09:17:43.373582Z",
     "start_time": "2019-02-26T09:17:43.338420Z"
    }
   },
   "outputs": [
    {
     "name": "stdout",
     "output_type": "stream",
     "text": [
      "Shape of concatenated df:  (246, 39)\n",
      "Shape of concatenated df:  (246, 1)\n"
     ]
    }
   ],
   "source": [
    "# Randomly sample 1% of organics data\n",
    "X_oneto2c = augment(X_source, X_enm,\n",
    "                    n_samples=164,\n",
    "                    random_state=12)\n",
    "y_oneto2c = augment(y_source, y_enm,\n",
    "                    n_samples=164,\n",
    "                    random_state=12)"
   ]
  },
  {
   "cell_type": "markdown",
   "metadata": {},
   "source": [
    "### 1:1 ENM-organics data"
   ]
  },
  {
   "cell_type": "code",
   "execution_count": 64,
   "metadata": {
    "ExecuteTime": {
     "end_time": "2019-02-26T09:17:43.805300Z",
     "start_time": "2019-02-26T09:17:43.771465Z"
    }
   },
   "outputs": [
    {
     "name": "stdout",
     "output_type": "stream",
     "text": [
      "Shape of concatenated df:  (164, 39)\n",
      "Shape of concatenated df:  (164, 1)\n"
     ]
    }
   ],
   "source": [
    "# Randomly sample 0.5% of organics data\n",
    "X_oneto1a = augment(X_source, X_enm,\n",
    "                    n_samples=82,\n",
    "                    random_state=31)\n",
    "y_oneto1a = augment(y_source, y_enm,\n",
    "                    n_samples=82,\n",
    "                    random_state=31)"
   ]
  },
  {
   "cell_type": "code",
   "execution_count": 65,
   "metadata": {
    "ExecuteTime": {
     "end_time": "2019-02-26T09:17:44.030100Z",
     "start_time": "2019-02-26T09:17:43.989362Z"
    }
   },
   "outputs": [
    {
     "name": "stdout",
     "output_type": "stream",
     "text": [
      "Shape of concatenated df:  (164, 39)\n",
      "Shape of concatenated df:  (164, 1)\n"
     ]
    }
   ],
   "source": [
    "# Randomly sample 0.5% of organics data\n",
    "X_oneto1b = augment(X_source, X_enm,\n",
    "                    n_samples=82,\n",
    "                    random_state=21)\n",
    "y_oneto1b = augment(y_source, y_enm,\n",
    "                    n_samples=82,\n",
    "                    random_state=21)"
   ]
  },
  {
   "cell_type": "code",
   "execution_count": 66,
   "metadata": {
    "ExecuteTime": {
     "end_time": "2019-02-26T09:17:44.245712Z",
     "start_time": "2019-02-26T09:17:44.204578Z"
    }
   },
   "outputs": [
    {
     "name": "stdout",
     "output_type": "stream",
     "text": [
      "Shape of concatenated df:  (164, 39)\n",
      "Shape of concatenated df:  (164, 1)\n"
     ]
    }
   ],
   "source": [
    "# Randomly sample 0.5% of organics data\n",
    "X_oneto1c = augment(X_source, X_enm,\n",
    "                    n_samples=82,\n",
    "                    random_state=11)\n",
    "y_oneto1c = augment(y_source, y_enm,\n",
    "                    n_samples=82,\n",
    "                    random_state=11)"
   ]
  },
  {
   "cell_type": "markdown",
   "metadata": {},
   "source": [
    "### Apply WF bins"
   ]
  },
  {
   "cell_type": "code",
   "execution_count": 67,
   "metadata": {
    "ExecuteTime": {
     "end_time": "2019-02-26T09:17:44.729286Z",
     "start_time": "2019-02-26T09:17:44.710225Z"
    },
    "collapsed": true
   },
   "outputs": [],
   "source": [
    "# Define function to assign weight fractions to bins \n",
    "# (slightly different ranges from those used by Isaacs et al. 2016)\n",
    "def bins(row):\n",
    "    if row['maximum_weight_fraction'] <= 0.002:\n",
    "        val = 'bottom'\n",
    "    elif row['maximum_weight_fraction'] > 0.05:\n",
    "        val = 'top'\n",
    "    else:\n",
    "        val = 'middle'\n",
    "    return val"
   ]
  },
  {
   "cell_type": "code",
   "execution_count": 68,
   "metadata": {
    "ExecuteTime": {
     "end_time": "2019-02-26T09:17:45.336774Z",
     "start_time": "2019-02-26T09:17:44.960064Z"
    }
   },
   "outputs": [
    {
     "data": {
      "text/plain": [
       "Text(0.5,1,'Frequency of ENM Weight Fraction Bins')"
      ]
     },
     "execution_count": 68,
     "metadata": {},
     "output_type": "execute_result"
    },
    {
     "data": {
      "image/png": "[encoded data removed]",
      "text/plain": [
       "<Figure size 432x288 with 1 Axes>"
      ]
     },
     "metadata": {},
     "output_type": "display_data"
    }
   ],
   "source": [
    "# Apply bins to ENM labels\n",
    "bin_enm = y_enm.apply(bins, axis=1)\n",
    "\n",
    "# View histogram of bins\n",
    "bin_enm.value_counts().plot(kind='bar')\n",
    "plt.title('Frequency of ENM Weight Fraction Bins')"
   ]
  },
  {
   "cell_type": "code",
   "execution_count": 69,
   "metadata": {
    "ExecuteTime": {
     "end_time": "2019-02-26T09:17:45.794392Z",
     "start_time": "2019-02-26T09:17:45.347479Z"
    },
    "collapsed": true
   },
   "outputs": [],
   "source": [
    "# Use label encoder to make bins compatible with Scikit-Learn\n",
    "from sklearn import preprocessing\n",
    "le = preprocessing.LabelEncoder()\n",
    "\n",
    "# Fit the encoder and transform categories into integers\n",
    "bin_enm = le.fit_transform(bin_enm)"
   ]
  },
  {
   "cell_type": "markdown",
   "metadata": {},
   "source": [
    "Do the same for the organics WF data."
   ]
  },
  {
   "cell_type": "code",
   "execution_count": 70,
   "metadata": {
    "ExecuteTime": {
     "end_time": "2019-02-26T09:17:46.623140Z",
     "start_time": "2019-02-26T09:17:46.089115Z"
    }
   },
   "outputs": [
    {
     "data": {
      "text/plain": [
       "Text(0.5,1,'Frequency of Organics Weight Fraction Bins')"
      ]
     },
     "execution_count": 70,
     "metadata": {},
     "output_type": "execute_result"
    },
    {
     "data": {
      "image/png": "[encoded data removed]",
      "text/plain": [
       "<Figure size 432x288 with 1 Axes>"
      ]
     },
     "metadata": {},
     "output_type": "display_data"
    }
   ],
   "source": [
    "# Apply bins, label encoder to organics labels\n",
    "bin_source = y_source.apply(bins, axis=1)\n",
    "\n",
    "# View histogram of bins\n",
    "bin_source.value_counts().plot(kind='bar')\n",
    "plt.title('Frequency of Organics Weight Fraction Bins')"
   ]
  },
  {
   "cell_type": "code",
   "execution_count": 71,
   "metadata": {
    "ExecuteTime": {
     "end_time": "2019-02-26T09:17:47.059277Z",
     "start_time": "2019-02-26T09:17:46.638234Z"
    }
   },
   "outputs": [
    {
     "name": "stdout",
     "output_type": "stream",
     "text": [
      "(16354,)\n",
      "<class 'numpy.ndarray'>\n"
     ]
    }
   ],
   "source": [
    "# Apply bins, label encoder to source WF data\n",
    "bin_source = y_source.apply(bins, axis=1)\n",
    "bin_source = le.fit_transform(bin_source)\n",
    "\n",
    "print(bin_source.shape)\n",
    "print(type(bin_source))"
   ]
  },
  {
   "cell_type": "markdown",
   "metadata": {},
   "source": [
    "Do the same for the augmented WF dfs."
   ]
  },
  {
   "cell_type": "code",
   "execution_count": 72,
   "metadata": {
    "ExecuteTime": {
     "end_time": "2019-02-26T09:17:49.054593Z",
     "start_time": "2019-02-26T09:17:47.068699Z"
    }
   },
   "outputs": [
    {
     "name": "stdout",
     "output_type": "stream",
     "text": [
      "(16436,)\n",
      "(8282,)\n",
      "(8282,)\n",
      "(8282,)\n",
      "(4182,)\n",
      "(4182,)\n",
      "(4182,)\n",
      "(1722,)\n",
      "(1722,)\n",
      "(1722,)\n",
      "(902,)\n",
      "(902,)\n",
      "(902,)\n",
      "(492,)\n",
      "(492,)\n",
      "(492,)\n",
      "(410,)\n",
      "(410,)\n",
      "(410,)\n",
      "(328,)\n",
      "(328,)\n",
      "(328,)\n",
      "(246,)\n",
      "(246,)\n",
      "(246,)\n",
      "(164,)\n",
      "(164,)\n",
      "(164,)\n"
     ]
    }
   ],
   "source": [
    "# Apply bins, label encoder to all other WF data frames\n",
    "\n",
    "# bin_all\n",
    "\n",
    "bin_all = y_all.apply(bins, axis=1)\n",
    "bin_all = le.fit_transform(bin_all)\n",
    "print(bin_all.shape)\n",
    "\n",
    "# bin_oneto100\n",
    "\n",
    "bin_oneto100a = y_oneto100a.apply(bins, axis=1)\n",
    "bin_oneto100a = le.fit_transform(bin_oneto100a)\n",
    "print(bin_oneto100a.shape)\n",
    "\n",
    "bin_oneto100b = y_oneto100b.apply(bins, axis=1)\n",
    "bin_oneto100b = le.fit_transform(bin_oneto100b)\n",
    "print(bin_oneto100b.shape)\n",
    "\n",
    "bin_oneto100c = y_oneto100c.apply(bins, axis=1)\n",
    "bin_oneto100c = le.fit_transform(bin_oneto100c)\n",
    "print(bin_oneto100c.shape)\n",
    "\n",
    "# bin_oneto50\n",
    "\n",
    "bin_oneto50a = y_oneto50a.apply(bins, axis=1)\n",
    "bin_oneto50a = le.fit_transform(bin_oneto50a)\n",
    "print(bin_oneto50a.shape)\n",
    "\n",
    "bin_oneto50b = y_oneto50b.apply(bins, axis=1)\n",
    "bin_oneto50b = le.fit_transform(bin_oneto50b)\n",
    "print(bin_oneto50b.shape)\n",
    "\n",
    "bin_oneto50c = y_oneto50c.apply(bins, axis=1)\n",
    "bin_oneto50c = le.fit_transform(bin_oneto50c)\n",
    "print(bin_oneto50c.shape)\n",
    "\n",
    "# bin_oneto20\n",
    "\n",
    "bin_oneto20a = y_oneto20a.apply(bins, axis=1)\n",
    "bin_oneto20a = le.fit_transform(bin_oneto20a)\n",
    "print(bin_oneto20a.shape)\n",
    "\n",
    "bin_oneto20b = y_oneto20b.apply(bins, axis=1)\n",
    "bin_oneto20b = le.fit_transform(bin_oneto20b)\n",
    "print(bin_oneto20b.shape)\n",
    "\n",
    "bin_oneto20c = y_oneto20c.apply(bins, axis=1)\n",
    "bin_oneto20c = le.fit_transform(bin_oneto20c)\n",
    "print(bin_oneto20c.shape)\n",
    "\n",
    "# bin_oneto10\n",
    "\n",
    "bin_oneto10a = y_oneto10a.apply(bins, axis=1)\n",
    "bin_oneto10a = le.fit_transform(bin_oneto10a)\n",
    "print(bin_oneto10a.shape)\n",
    "\n",
    "bin_oneto10b = y_oneto10b.apply(bins, axis=1)\n",
    "bin_oneto10b = le.fit_transform(bin_oneto10b)\n",
    "print(bin_oneto10b.shape)\n",
    "\n",
    "bin_oneto10c = y_oneto10c.apply(bins, axis=1)\n",
    "bin_oneto10c = le.fit_transform(bin_oneto10c)\n",
    "print(bin_oneto10c.shape)\n",
    "\n",
    "# bin_oneto5\n",
    "\n",
    "bin_oneto5a = y_oneto5a.apply(bins, axis=1)\n",
    "bin_oneto5a = le.fit_transform(bin_oneto5a)\n",
    "print(bin_oneto5a.shape)\n",
    "\n",
    "bin_oneto5b = y_oneto5b.apply(bins, axis=1)\n",
    "bin_oneto5b = le.fit_transform(bin_oneto5b)\n",
    "print(bin_oneto5b.shape)\n",
    "\n",
    "bin_oneto5c = y_oneto5c.apply(bins, axis=1)\n",
    "bin_oneto5c = le.fit_transform(bin_oneto5c)\n",
    "print(bin_oneto5c.shape)\n",
    "\n",
    "# bin_oneto4\n",
    "\n",
    "bin_oneto4a = y_oneto4a.apply(bins, axis=1)\n",
    "bin_oneto4a = le.fit_transform(bin_oneto4a)\n",
    "print(bin_oneto4a.shape)\n",
    "\n",
    "bin_oneto4b = y_oneto4b.apply(bins, axis=1)\n",
    "bin_oneto4b = le.fit_transform(bin_oneto4b)\n",
    "print(bin_oneto4b.shape)\n",
    "\n",
    "bin_oneto4c = y_oneto4c.apply(bins, axis=1)\n",
    "bin_oneto4c = le.fit_transform(bin_oneto4c)\n",
    "print(bin_oneto4c.shape)\n",
    "\n",
    "# bin_oneto3\n",
    "\n",
    "bin_oneto3a = y_oneto3a.apply(bins, axis=1)\n",
    "bin_oneto3a = le.fit_transform(bin_oneto3a)\n",
    "print(bin_oneto3a.shape)\n",
    "\n",
    "bin_oneto3b = y_oneto3b.apply(bins, axis=1)\n",
    "bin_oneto3b = le.fit_transform(bin_oneto3b)\n",
    "print(bin_oneto3b.shape)\n",
    "\n",
    "bin_oneto3c = y_oneto3c.apply(bins, axis=1)\n",
    "bin_oneto3c = le.fit_transform(bin_oneto3c)\n",
    "print(bin_oneto3c.shape)\n",
    "\n",
    "# bin_oneto2\n",
    "\n",
    "bin_oneto2a = y_oneto2a.apply(bins, axis=1)\n",
    "bin_oneto2a = le.fit_transform(bin_oneto2a)\n",
    "print(bin_oneto2a.shape)\n",
    "\n",
    "bin_oneto2b = y_oneto2b.apply(bins, axis=1)\n",
    "bin_oneto2b = le.fit_transform(bin_oneto2b)\n",
    "print(bin_oneto2b.shape)\n",
    "\n",
    "bin_oneto2c = y_oneto2c.apply(bins, axis=1)\n",
    "bin_oneto2c = le.fit_transform(bin_oneto2c)\n",
    "print(bin_oneto2c.shape)\n",
    "\n",
    "# bin_oneto1\n",
    "\n",
    "bin_oneto1a = y_oneto1a.apply(bins, axis=1)\n",
    "bin_oneto1a = le.fit_transform(bin_oneto1a)\n",
    "print(bin_oneto1a.shape)\n",
    "\n",
    "bin_oneto1b = y_oneto1b.apply(bins, axis=1)\n",
    "bin_oneto1b = le.fit_transform(bin_oneto1b)\n",
    "print(bin_oneto1b.shape)\n",
    "\n",
    "bin_oneto1c = y_oneto1c.apply(bins, axis=1)\n",
    "bin_oneto1c = le.fit_transform(bin_oneto1c)\n",
    "print(bin_oneto1c.shape)"
   ]
  },
  {
   "cell_type": "code",
   "execution_count": 73,
   "metadata": {
    "ExecuteTime": {
     "end_time": "2019-02-26T09:17:49.092028Z",
     "start_time": "2019-02-26T09:17:49.063737Z"
    }
   },
   "outputs": [
    {
     "data": {
      "text/plain": [
       "{0: 36, 1: 29, 2: 17}"
      ]
     },
     "execution_count": 73,
     "metadata": {},
     "output_type": "execute_result"
    }
   ],
   "source": [
    "# Check distribution across WF bins\n",
    "unique, counts = np.unique(bin_enm, return_counts=True)\n",
    "dict(zip(unique, counts))"
   ]
  },
  {
   "cell_type": "markdown",
   "metadata": {},
   "source": [
    "The top WF bin (>5% ENM) has the least number of samples at 17. This is important for evaluating prediction models later on; I'll use 17 for the number of cross validation folds so that it's essentially \"leave-one-out\" cv. This approach is for the most part considered unbiased.\n",
    "\n",
    "https://stats.stackexchange.com/questions/154830/10-fold-cross-validation-vs-leave-one-out-cross-validation"
   ]
  },
  {
   "cell_type": "markdown",
   "metadata": {},
   "source": [
    "## WF Permutation"
   ]
  },
  {
   "cell_type": "markdown",
   "metadata": {},
   "source": [
    "Create a data frame for permutation testing with only ENM data.  These results will serve as a baseline later."
   ]
  },
  {
   "cell_type": "code",
   "execution_count": 74,
   "metadata": {
    "ExecuteTime": {
     "end_time": "2019-02-26T09:17:49.105700Z",
     "start_time": "2019-02-26T09:17:49.097927Z"
    },
    "collapsed": true
   },
   "outputs": [],
   "source": [
    "# Create arrays with scrambled labels\n",
    "bin_enm_permuteA = np.random.RandomState(seed=64).permutation(bin_enm)\n",
    "bin_enm_permuteB = np.random.RandomState(seed=47).permutation(bin_enm)\n",
    "bin_enm_permuteC = np.random.RandomState(seed=39).permutation(bin_enm)"
   ]
  },
  {
   "cell_type": "code",
   "execution_count": 75,
   "metadata": {
    "ExecuteTime": {
     "end_time": "2019-02-26T09:17:49.151829Z",
     "start_time": "2019-02-26T09:17:49.118176Z"
    }
   },
   "outputs": [
    {
     "data": {
      "text/plain": [
       "array([1, 0, 1, 0, 0, 1, 2, 0, 0, 1, 1, 0, 1, 0, 1, 1, 2, 2, 0, 0, 0, 2,\n",
       "       1, 2, 0, 1, 2, 2, 1, 0, 0, 1, 0, 0, 1, 2, 1, 0, 1, 2, 1, 1, 2, 1,\n",
       "       2, 2, 1, 1, 0, 0, 1, 0, 0, 1, 0, 2, 0, 0, 0, 0, 0, 1, 1, 0, 0, 2,\n",
       "       0, 0, 1, 2, 1, 2, 0, 0, 0, 0, 0, 2, 1, 1, 0, 1])"
      ]
     },
     "execution_count": 75,
     "metadata": {},
     "output_type": "execute_result"
    }
   ],
   "source": [
    "bin_enm_permuteA"
   ]
  },
  {
   "cell_type": "code",
   "execution_count": 76,
   "metadata": {
    "ExecuteTime": {
     "end_time": "2019-02-26T09:17:49.178114Z",
     "start_time": "2019-02-26T09:17:49.167176Z"
    }
   },
   "outputs": [
    {
     "data": {
      "text/plain": [
       "array([0, 0, 0, 2, 0, 0, 1, 0, 0, 0, 0, 2, 2, 1, 1, 1, 2, 0, 1, 2, 2, 0,\n",
       "       0, 0, 0, 1, 0, 0, 0, 0, 2, 0, 2, 0, 1, 2, 0, 1, 1, 1, 0, 1, 0, 1,\n",
       "       1, 1, 0, 1, 1, 0, 0, 2, 1, 0, 0, 0, 0, 2, 1, 2, 0, 0, 0, 2, 2, 1,\n",
       "       2, 2, 1, 1, 2, 1, 1, 0, 0, 1, 1, 1, 0, 1, 1, 1])"
      ]
     },
     "execution_count": 76,
     "metadata": {},
     "output_type": "execute_result"
    }
   ],
   "source": [
    "bin_enm_permuteB"
   ]
  },
  {
   "cell_type": "code",
   "execution_count": 77,
   "metadata": {
    "ExecuteTime": {
     "end_time": "2019-02-26T09:17:49.196877Z",
     "start_time": "2019-02-26T09:17:49.187127Z"
    }
   },
   "outputs": [
    {
     "data": {
      "text/plain": [
       "array([1, 0, 0, 0, 0, 0, 2, 2, 1, 0, 0, 0, 1, 1, 0, 0, 2, 0, 1, 1, 0, 2,\n",
       "       1, 1, 0, 1, 0, 0, 1, 1, 2, 0, 2, 0, 0, 2, 0, 1, 0, 0, 1, 1, 2, 1,\n",
       "       1, 1, 1, 0, 1, 2, 2, 0, 2, 1, 0, 1, 1, 1, 1, 0, 1, 2, 0, 1, 2, 0,\n",
       "       0, 0, 1, 1, 2, 0, 0, 0, 0, 0, 2, 1, 2, 0, 2, 0])"
      ]
     },
     "execution_count": 77,
     "metadata": {},
     "output_type": "execute_result"
    }
   ],
   "source": [
    "bin_enm_permuteC"
   ]
  },
  {
   "cell_type": "code",
   "execution_count": 78,
   "metadata": {
    "ExecuteTime": {
     "end_time": "2019-02-26T09:17:49.240965Z",
     "start_time": "2019-02-26T09:17:49.209115Z"
    }
   },
   "outputs": [
    {
     "data": {
      "text/plain": [
       "array([2, 0, 1, 1, 0, 1, 1, 1, 0, 0, 0, 0, 2, 0, 0, 1, 0, 0, 0, 1, 2, 1,\n",
       "       1, 1, 0, 0, 1, 1, 0, 0, 0, 0, 0, 0, 0, 0, 2, 2, 0, 0, 2, 2, 1, 1,\n",
       "       1, 1, 2, 2, 2, 2, 1, 1, 2, 2, 1, 2, 2, 0, 0, 0, 0, 2, 0, 0, 0, 1,\n",
       "       1, 1, 1, 1, 1, 1, 1, 0, 2, 0, 1, 0, 0, 1, 0, 0])"
      ]
     },
     "execution_count": 78,
     "metadata": {},
     "output_type": "execute_result"
    }
   ],
   "source": [
    "bin_enm"
   ]
  },
  {
   "cell_type": "markdown",
   "metadata": {},
   "source": [
    "## Matching unsupervised augmentation"
   ]
  },
  {
   "cell_type": "markdown",
   "metadata": {},
   "source": [
    "### Setup"
   ]
  },
  {
   "cell_type": "markdown",
   "metadata": {},
   "source": [
    "Instead of randomly selecting organics \"tuples\" to use for augmentation, the _kth_ closest tuples to each ENM tuple were selected, or \"matched\", based on cosine distance, or _1 - cosine similarity_.\n",
    "\n",
    "Note: the use of \"tuple\" refers to a row of data describing an individual instance of one chemical used in one product, not the Python objects called \"tuples\".\n",
    "\n",
    "References for implementing this section of code:\n",
    "* https://stackoverflow.com/questions/34226400/find-the-index-of-the-k-smallest-values-of-a-numpy-array\n",
    "* https://stackoverflow.com/questions/22117834/how-do-i-return-a-list-of-the-3-lowest-values-in-another-list\n",
    "* http://dataaspirant.com/2015/04/11/five-most-popular-similarity-measures-implementation-in-python/\n",
    "* https://scikit-learn.org/stable/modules/generated/sklearn.metrics.pairwise.cosine_distances.html"
   ]
  },
  {
   "cell_type": "code",
   "execution_count": 79,
   "metadata": {
    "ExecuteTime": {
     "end_time": "2019-02-26T09:17:51.388723Z",
     "start_time": "2019-02-26T09:17:51.350408Z"
    },
    "collapsed": true
   },
   "outputs": [],
   "source": [
    "# Scale/normalize data for computing distance\n",
    "from sklearn.preprocessing import MinMaxScaler\n",
    "\n",
    "scaler = MinMaxScaler(feature_range=(0, 1))\n",
    "X_enm_scaled = pd.DataFrame(scaler.fit_transform(X_enm), \n",
    "                            columns = X_enm.columns, \n",
    "                            index = X_enm.index)\n",
    "X_source_scaled = pd.DataFrame(scaler.fit_transform(X_source),\n",
    "                             columns = X_source.columns,\n",
    "                             index = X_source.index)"
   ]
  },
  {
   "cell_type": "code",
   "execution_count": 80,
   "metadata": {
    "ExecuteTime": {
     "end_time": "2019-02-26T09:17:53.486452Z",
     "start_time": "2019-02-26T09:17:53.366644Z"
    }
   },
   "outputs": [
    {
     "name": "stdout",
     "output_type": "stream",
     "text": [
      "(16354, 82)\n"
     ]
    }
   ],
   "source": [
    "# Cosine similarity computes the L2-normalized dot product of vectors\n",
    "# Cosine distance = 1 - cosine similarity\n",
    "from sklearn.metrics.pairwise import cosine_distances\n",
    "\n",
    "cosdist_feats = cosine_distances(X = X_source_scaled, \n",
    "                    Y = X_enm_scaled)\n",
    "print(cosdist_feats.shape)"
   ]
  },
  {
   "cell_type": "code",
   "execution_count": 81,
   "metadata": {
    "ExecuteTime": {
     "end_time": "2019-02-26T09:17:53.690901Z",
     "start_time": "2019-02-26T09:17:53.661852Z"
    }
   },
   "outputs": [
    {
     "data": {
      "text/plain": [
       "array([ 0,  1,  2,  3,  4,  5,  6,  7,  8,  9, 10, 11, 12, 13, 14, 15, 16,\n",
       "       17, 18, 19, 20, 21, 22, 23, 24, 25, 26, 27, 28, 29, 30, 31, 32, 33,\n",
       "       34, 35, 36, 37, 38, 39, 40, 41, 42, 43, 44, 45, 46, 47, 48, 49, 50,\n",
       "       51, 52, 53, 54, 55, 56, 57, 58, 59, 60, 61, 62, 63, 64, 65, 66, 67,\n",
       "       68, 69, 70, 71, 72, 73, 74, 75, 76, 77, 78, 79, 80, 81])"
      ]
     },
     "execution_count": 81,
     "metadata": {},
     "output_type": "execute_result"
    }
   ],
   "source": [
    "y_enm.index.values"
   ]
  },
  {
   "cell_type": "code",
   "execution_count": 82,
   "metadata": {
    "ExecuteTime": {
     "end_time": "2019-02-26T09:17:53.969865Z",
     "start_time": "2019-02-26T09:17:53.941243Z"
    }
   },
   "outputs": [
    {
     "data": {
      "text/plain": [
       "array([ 0,  0,  1,  1,  2,  2,  3,  3,  4,  4,  5,  5,  6,  6,  7,  7,  8,\n",
       "        8,  9,  9, 10, 10, 11, 11, 12, 12, 13, 13, 14, 14, 15, 15, 16, 16,\n",
       "       17, 17, 18, 18, 19, 19, 20, 20, 21, 21, 22, 22, 23, 23, 24, 24, 25,\n",
       "       25, 26, 26, 27, 27, 28, 28, 29, 29, 30, 30, 31, 31, 32, 32, 33, 33,\n",
       "       34, 34, 35, 35, 36, 36, 37, 37, 38, 38, 39, 39, 40, 40, 41, 41, 42,\n",
       "       42, 43, 43, 44, 44, 45, 45, 46, 46, 47, 47, 48, 48, 49, 49, 50, 50,\n",
       "       51, 51, 52, 52, 53, 53, 54, 54, 55, 55, 56, 56, 57, 57, 58, 58, 59,\n",
       "       59, 60, 60, 61, 61, 62, 62, 63, 63, 64, 64, 65, 65, 66, 66, 67, 67,\n",
       "       68, 68, 69, 69, 70, 70, 71, 71, 72, 72, 73, 73, 74, 74, 75, 75, 76,\n",
       "       76, 77, 77, 78, 78, 79, 79, 80, 80, 81, 81])"
      ]
     },
     "execution_count": 82,
     "metadata": {},
     "output_type": "execute_result"
    }
   ],
   "source": [
    "k=1\n",
    "np.repeat(y_enm.index.values, k+1)"
   ]
  },
  {
   "cell_type": "code",
   "execution_count": 83,
   "metadata": {
    "ExecuteTime": {
     "end_time": "2019-02-26T09:17:54.249137Z",
     "start_time": "2019-02-26T09:17:54.197685Z"
    },
    "collapsed": true
   },
   "outputs": [],
   "source": [
    "# Define function to match k most similar organics examples \n",
    "# to ENM examples based on smallest distance\n",
    "\n",
    "def augment_match(k, dist_matrix): \n",
    "    \n",
    "    idx_match = []\n",
    "    \n",
    "    # Loop over cosdist_feats \"matrix\" to return list of matching organics indices\n",
    "    for col in dist_matrix.T:\n",
    "        # Find indices of k-smallest distances\n",
    "        matches = np.argsort(col)[:k]\n",
    "        idx_match.extend(matches)\n",
    "    \n",
    "    # Create X and y data frames of matches using the generated index list\n",
    "    X_match = X_source.iloc[idx_match]\n",
    "    y_match = pd.DataFrame(y_source)\n",
    "    y_match = y_match.iloc[idx_match]\n",
    "\n",
    "    # Append sampled organics data to ENM data\n",
    "    X_match = pd.concat([X_enm, X_match], sort=False)\n",
    "    y_match = pd.concat([y_enm, y_match], sort=False)\n",
    "\n",
    "    # Apply wf bins\n",
    "    bin_match = y_match.apply(bins, axis=1)\n",
    "    bin_match = le.fit_transform(bin_match)\n",
    "    \n",
    "    # Create array for which ENM group augmented data belongs to\n",
    "    match_group = np.repeat(y_enm.index.values, k+1)\n",
    "    \n",
    "    # Check distribution across wf bins\n",
    "    unique, counts = np.unique(bin_match, return_counts=True)\n",
    "\n",
    "    print('X_match shape:   ', X_match.shape)\n",
    "    print('bin_match shape: ', bin_match.shape)\n",
    "    print('Bin distributions', dict(zip(unique, counts)))\n",
    "    \n",
    "    return X_match, bin_match, match_group"
   ]
  },
  {
   "cell_type": "markdown",
   "metadata": {},
   "source": [
    "### Data frames"
   ]
  },
  {
   "cell_type": "code",
   "execution_count": 84,
   "metadata": {
    "ExecuteTime": {
     "end_time": "2019-02-26T09:17:55.421622Z",
     "start_time": "2019-02-26T09:17:54.593224Z"
    }
   },
   "outputs": [
    {
     "name": "stdout",
     "output_type": "stream",
     "text": [
      "X_match shape:    (4182, 39)\n",
      "bin_match shape:  (4182,)\n",
      "Bin distributions {0: 576, 1: 2312, 2: 1294}\n",
      "X_match shape:    (1722, 39)\n",
      "bin_match shape:  (1722,)\n",
      "Bin distributions {0: 238, 1: 1027, 2: 457}\n",
      "X_match shape:    (902, 39)\n",
      "bin_match shape:  (902,)\n",
      "Bin distributions {0: 132, 1: 569, 2: 201}\n",
      "X_match shape:    (492, 39)\n",
      "bin_match shape:  (492,)\n",
      "Bin distributions {0: 89, 1: 307, 2: 96}\n",
      "X_match shape:    (410, 39)\n",
      "bin_match shape:  (410,)\n",
      "Bin distributions {0: 78, 1: 250, 2: 82}\n",
      "X_match shape:    (328, 39)\n",
      "bin_match shape:  (328,)\n",
      "Bin distributions {0: 66, 1: 192, 2: 70}\n",
      "X_match shape:    (246, 39)\n",
      "bin_match shape:  (246,)\n",
      "Bin distributions {0: 60, 1: 133, 2: 53}\n",
      "X_match shape:    (164, 39)\n",
      "bin_match shape:  (164,)\n",
      "Bin distributions {0: 46, 1: 83, 2: 35}\n"
     ]
    }
   ],
   "source": [
    "# Match k most similar organics examples to ENM examples \n",
    "# based on smallest cosine distance and concatenate dfs\n",
    "\n",
    "X_match50, bin_match50, match_group50 = augment_match(k=50,\n",
    "                                           dist_matrix=cosdist_feats)\n",
    "X_match20, bin_match20, match_group20 = augment_match(k=20,\n",
    "                                           dist_matrix=cosdist_feats)\n",
    "X_match10, bin_match10, match_group10 = augment_match(k=10,\n",
    "                                           dist_matrix=cosdist_feats)\n",
    "X_match5, bin_match5, match_group5 = augment_match(k=5,\n",
    "                                           dist_matrix=cosdist_feats)\n",
    "X_match4, bin_match4, match_group4 = augment_match(k=4,\n",
    "                                           dist_matrix=cosdist_feats)\n",
    "X_match3, bin_match3, match_group3 = augment_match(k=3,\n",
    "                                           dist_matrix=cosdist_feats)\n",
    "X_match2, bin_match2, match_group2 = augment_match(k=2,\n",
    "                                           dist_matrix=cosdist_feats)\n",
    "X_match1, bin_match1, match_group1 = augment_match(k=1,\n",
    "                                           dist_matrix=cosdist_feats)"
   ]
  },
  {
   "cell_type": "code",
   "execution_count": 85,
   "metadata": {
    "ExecuteTime": {
     "end_time": "2019-02-26T09:17:55.464258Z",
     "start_time": "2019-02-26T09:17:55.430323Z"
    }
   },
   "outputs": [
    {
     "data": {
      "text/html": [
       "<div>\n",
       "<style scoped>\n",
       "    .dataframe tbody tr th:only-of-type {\n",
       "        vertical-align: middle;\n",
       "    }\n",
       "\n",
       "    .dataframe tbody tr th {\n",
       "        vertical-align: top;\n",
       "    }\n",
       "\n",
       "    .dataframe thead th {\n",
       "        text-align: right;\n",
       "    }\n",
       "</style>\n",
       "<table border=\"1\" class=\"dataframe\">\n",
       "  <thead>\n",
       "    <tr style=\"text-align: right;\">\n",
       "      <th></th>\n",
       "      <th>propMW</th>\n",
       "      <th>propMP</th>\n",
       "      <th>propBP</th>\n",
       "      <th>propLogDensity</th>\n",
       "      <th>0</th>\n",
       "      <th>1</th>\n",
       "      <th>2</th>\n",
       "      <th>3</th>\n",
       "      <th>4</th>\n",
       "      <th>5</th>\n",
       "      <th>...</th>\n",
       "      <th>group_facialcleansingandmoisturizing</th>\n",
       "      <th>group_fungicide</th>\n",
       "      <th>group_generalhouseholdcleaning</th>\n",
       "      <th>group_generalmoisturizing</th>\n",
       "      <th>group_makeupandrelated</th>\n",
       "      <th>group_paintstainandrelatedproducts</th>\n",
       "      <th>group_sunscreen</th>\n",
       "      <th>group_surfacesealers</th>\n",
       "      <th>refined_spray</th>\n",
       "      <th>matrix_F</th>\n",
       "    </tr>\n",
       "  </thead>\n",
       "  <tbody>\n",
       "    <tr>\n",
       "      <th>80</th>\n",
       "      <td>79.867</td>\n",
       "      <td>1843.00000</td>\n",
       "      <td>2972.000</td>\n",
       "      <td>0.626340</td>\n",
       "      <td>0.0</td>\n",
       "      <td>0.0</td>\n",
       "      <td>0.0</td>\n",
       "      <td>0.0</td>\n",
       "      <td>0.0</td>\n",
       "      <td>1.0</td>\n",
       "      <td>...</td>\n",
       "      <td>0</td>\n",
       "      <td>0</td>\n",
       "      <td>0</td>\n",
       "      <td>0</td>\n",
       "      <td>0</td>\n",
       "      <td>0</td>\n",
       "      <td>1</td>\n",
       "      <td>0</td>\n",
       "      <td>1</td>\n",
       "      <td>1</td>\n",
       "    </tr>\n",
       "    <tr>\n",
       "      <th>81</th>\n",
       "      <td>107.868</td>\n",
       "      <td>961.78000</td>\n",
       "      <td>2162.000</td>\n",
       "      <td>1.014730</td>\n",
       "      <td>0.0</td>\n",
       "      <td>0.0</td>\n",
       "      <td>0.0</td>\n",
       "      <td>0.0</td>\n",
       "      <td>0.0</td>\n",
       "      <td>0.0</td>\n",
       "      <td>...</td>\n",
       "      <td>0</td>\n",
       "      <td>0</td>\n",
       "      <td>0</td>\n",
       "      <td>0</td>\n",
       "      <td>0</td>\n",
       "      <td>0</td>\n",
       "      <td>0</td>\n",
       "      <td>0</td>\n",
       "      <td>1</td>\n",
       "      <td>1</td>\n",
       "    </tr>\n",
       "    <tr>\n",
       "      <th>26852</th>\n",
       "      <td>99.133</td>\n",
       "      <td>-9.54296</td>\n",
       "      <td>196.257</td>\n",
       "      <td>0.003891</td>\n",
       "      <td>0.0</td>\n",
       "      <td>0.0</td>\n",
       "      <td>0.0</td>\n",
       "      <td>0.0</td>\n",
       "      <td>0.0</td>\n",
       "      <td>1.0</td>\n",
       "      <td>...</td>\n",
       "      <td>0</td>\n",
       "      <td>0</td>\n",
       "      <td>0</td>\n",
       "      <td>0</td>\n",
       "      <td>0</td>\n",
       "      <td>1</td>\n",
       "      <td>0</td>\n",
       "      <td>0</td>\n",
       "      <td>0</td>\n",
       "      <td>1</td>\n",
       "    </tr>\n",
       "    <tr>\n",
       "      <th>26845</th>\n",
       "      <td>99.133</td>\n",
       "      <td>-9.54296</td>\n",
       "      <td>196.257</td>\n",
       "      <td>0.003891</td>\n",
       "      <td>0.0</td>\n",
       "      <td>0.0</td>\n",
       "      <td>0.0</td>\n",
       "      <td>0.0</td>\n",
       "      <td>0.0</td>\n",
       "      <td>1.0</td>\n",
       "      <td>...</td>\n",
       "      <td>0</td>\n",
       "      <td>0</td>\n",
       "      <td>0</td>\n",
       "      <td>0</td>\n",
       "      <td>0</td>\n",
       "      <td>1</td>\n",
       "      <td>0</td>\n",
       "      <td>0</td>\n",
       "      <td>0</td>\n",
       "      <td>1</td>\n",
       "    </tr>\n",
       "    <tr>\n",
       "      <th>17673</th>\n",
       "      <td>386.364</td>\n",
       "      <td>193.12100</td>\n",
       "      <td>408.005</td>\n",
       "      <td>0.140194</td>\n",
       "      <td>0.0</td>\n",
       "      <td>0.0</td>\n",
       "      <td>0.0</td>\n",
       "      <td>0.0</td>\n",
       "      <td>0.0</td>\n",
       "      <td>0.0</td>\n",
       "      <td>...</td>\n",
       "      <td>0</td>\n",
       "      <td>0</td>\n",
       "      <td>0</td>\n",
       "      <td>0</td>\n",
       "      <td>0</td>\n",
       "      <td>1</td>\n",
       "      <td>0</td>\n",
       "      <td>0</td>\n",
       "      <td>0</td>\n",
       "      <td>1</td>\n",
       "    </tr>\n",
       "  </tbody>\n",
       "</table>\n",
       "<p>5 rows × 39 columns</p>\n",
       "</div>"
      ],
      "text/plain": [
       "        propMW      propMP    propBP  propLogDensity    0    1    2    3    4  \\\n",
       "80      79.867  1843.00000  2972.000        0.626340  0.0  0.0  0.0  0.0  0.0   \n",
       "81     107.868   961.78000  2162.000        1.014730  0.0  0.0  0.0  0.0  0.0   \n",
       "26852   99.133    -9.54296   196.257        0.003891  0.0  0.0  0.0  0.0  0.0   \n",
       "26845   99.133    -9.54296   196.257        0.003891  0.0  0.0  0.0  0.0  0.0   \n",
       "17673  386.364   193.12100   408.005        0.140194  0.0  0.0  0.0  0.0  0.0   \n",
       "\n",
       "         5    ...     group_facialcleansingandmoisturizing  group_fungicide  \\\n",
       "80     1.0    ...                                        0                0   \n",
       "81     0.0    ...                                        0                0   \n",
       "26852  1.0    ...                                        0                0   \n",
       "26845  1.0    ...                                        0                0   \n",
       "17673  0.0    ...                                        0                0   \n",
       "\n",
       "       group_generalhouseholdcleaning  group_generalmoisturizing  \\\n",
       "80                                  0                          0   \n",
       "81                                  0                          0   \n",
       "26852                               0                          0   \n",
       "26845                               0                          0   \n",
       "17673                               0                          0   \n",
       "\n",
       "       group_makeupandrelated  group_paintstainandrelatedproducts  \\\n",
       "80                          0                                   0   \n",
       "81                          0                                   0   \n",
       "26852                       0                                   1   \n",
       "26845                       0                                   1   \n",
       "17673                       0                                   1   \n",
       "\n",
       "       group_sunscreen  group_surfacesealers  refined_spray  matrix_F  \n",
       "80                   1                     0              1         1  \n",
       "81                   0                     0              1         1  \n",
       "26852                0                     0              0         1  \n",
       "26845                0                     0              0         1  \n",
       "17673                0                     0              0         1  \n",
       "\n",
       "[5 rows x 39 columns]"
      ]
     },
     "execution_count": 85,
     "metadata": {},
     "output_type": "execute_result"
    }
   ],
   "source": [
    "X_match20.iloc[80:85,:]"
   ]
  },
  {
   "cell_type": "markdown",
   "metadata": {},
   "source": [
    "## Matching supervised augmentation"
   ]
  },
  {
   "cell_type": "markdown",
   "metadata": {},
   "source": [
    "### Setup"
   ]
  },
  {
   "cell_type": "markdown",
   "metadata": {},
   "source": [
    "This is similar to the matching augmentation performed above, except labels are weighted into the distance matrix (50/50)."
   ]
  },
  {
   "cell_type": "code",
   "execution_count": 86,
   "metadata": {
    "ExecuteTime": {
     "end_time": "2019-02-26T09:17:56.280507Z",
     "start_time": "2019-02-26T09:17:56.253816Z"
    }
   },
   "outputs": [
    {
     "name": "stdout",
     "output_type": "stream",
     "text": [
      "(16354, 82)\n",
      "(16354, 82)\n",
      "<class 'numpy.ndarray'>\n",
      "<class 'numpy.ndarray'>\n"
     ]
    }
   ],
   "source": [
    "# Turn 1D label arrays into 2D arrays\n",
    "bin_enm_2d = np.tile(bin_enm, (len(bin_source),1))\n",
    "bin_source_2d = np.tile(bin_source,(len(bin_enm),1)).transpose()\n",
    "\n",
    "print(bin_enm_2d.shape)\n",
    "print(bin_source_2d.shape)\n",
    "print(type(bin_enm_2d))\n",
    "print(type(bin_source_2d))"
   ]
  },
  {
   "cell_type": "code",
   "execution_count": 87,
   "metadata": {
    "ExecuteTime": {
     "end_time": "2019-02-26T09:17:56.770214Z",
     "start_time": "2019-02-26T09:17:56.740782Z"
    }
   },
   "outputs": [
    {
     "data": {
      "text/plain": [
       "array([[1, 1, 1, 1, 1, 1, 1, 1, 1, 1, ..., 1, 1, 1, 1, 1, 1, 1, 1, 1, 1],\n",
       "       [1, 1, 1, 1, 1, 1, 1, 1, 1, 1, ..., 1, 1, 1, 1, 1, 1, 1, 1, 1, 1],\n",
       "       [1, 1, 1, 1, 1, 1, 1, 1, 1, 1, ..., 1, 1, 1, 1, 1, 1, 1, 1, 1, 1],\n",
       "       [1, 1, 1, 1, 1, 1, 1, 1, 1, 1, ..., 1, 1, 1, 1, 1, 1, 1, 1, 1, 1],\n",
       "       [1, 1, 1, 1, 1, 1, 1, 1, 1, 1, ..., 1, 1, 1, 1, 1, 1, 1, 1, 1, 1],\n",
       "       [1, 1, 1, 1, 1, 1, 1, 1, 1, 1, ..., 1, 1, 1, 1, 1, 1, 1, 1, 1, 1],\n",
       "       [1, 1, 1, 1, 1, 1, 1, 1, 1, 1, ..., 1, 1, 1, 1, 1, 1, 1, 1, 1, 1],\n",
       "       [1, 1, 1, 1, 1, 1, 1, 1, 1, 1, ..., 1, 1, 1, 1, 1, 1, 1, 1, 1, 1],\n",
       "       [2, 2, 2, 2, 2, 2, 2, 2, 2, 2, ..., 2, 2, 2, 2, 2, 2, 2, 2, 2, 2],\n",
       "       [1, 1, 1, 1, 1, 1, 1, 1, 1, 1, ..., 1, 1, 1, 1, 1, 1, 1, 1, 1, 1],\n",
       "       ...,\n",
       "       [1, 1, 1, 1, 1, 1, 1, 1, 1, 1, ..., 1, 1, 1, 1, 1, 1, 1, 1, 1, 1],\n",
       "       [0, 0, 0, 0, 0, 0, 0, 0, 0, 0, ..., 0, 0, 0, 0, 0, 0, 0, 0, 0, 0],\n",
       "       [0, 0, 0, 0, 0, 0, 0, 0, 0, 0, ..., 0, 0, 0, 0, 0, 0, 0, 0, 0, 0],\n",
       "       [1, 1, 1, 1, 1, 1, 1, 1, 1, 1, ..., 1, 1, 1, 1, 1, 1, 1, 1, 1, 1],\n",
       "       [1, 1, 1, 1, 1, 1, 1, 1, 1, 1, ..., 1, 1, 1, 1, 1, 1, 1, 1, 1, 1],\n",
       "       [1, 1, 1, 1, 1, 1, 1, 1, 1, 1, ..., 1, 1, 1, 1, 1, 1, 1, 1, 1, 1],\n",
       "       [1, 1, 1, 1, 1, 1, 1, 1, 1, 1, ..., 1, 1, 1, 1, 1, 1, 1, 1, 1, 1],\n",
       "       [1, 1, 1, 1, 1, 1, 1, 1, 1, 1, ..., 1, 1, 1, 1, 1, 1, 1, 1, 1, 1],\n",
       "       [1, 1, 1, 1, 1, 1, 1, 1, 1, 1, ..., 1, 1, 1, 1, 1, 1, 1, 1, 1, 1],\n",
       "       [1, 1, 1, 1, 1, 1, 1, 1, 1, 1, ..., 1, 1, 1, 1, 1, 1, 1, 1, 1, 1]])"
      ]
     },
     "execution_count": 87,
     "metadata": {},
     "output_type": "execute_result"
    }
   ],
   "source": [
    "np.set_printoptions(edgeitems=10)\n",
    "bin_source_2d"
   ]
  },
  {
   "cell_type": "code",
   "execution_count": 88,
   "metadata": {
    "ExecuteTime": {
     "end_time": "2019-02-26T09:17:57.075942Z",
     "start_time": "2019-02-26T09:17:57.047221Z"
    }
   },
   "outputs": [
    {
     "data": {
      "text/plain": [
       "array([[2, 0, 1, 1, 0, 1, 1, 1, 0, 0, ..., 1, 0, 2, 0, 1, 0, 0, 1, 0, 0],\n",
       "       [2, 0, 1, 1, 0, 1, 1, 1, 0, 0, ..., 1, 0, 2, 0, 1, 0, 0, 1, 0, 0],\n",
       "       [2, 0, 1, 1, 0, 1, 1, 1, 0, 0, ..., 1, 0, 2, 0, 1, 0, 0, 1, 0, 0],\n",
       "       [2, 0, 1, 1, 0, 1, 1, 1, 0, 0, ..., 1, 0, 2, 0, 1, 0, 0, 1, 0, 0],\n",
       "       [2, 0, 1, 1, 0, 1, 1, 1, 0, 0, ..., 1, 0, 2, 0, 1, 0, 0, 1, 0, 0],\n",
       "       [2, 0, 1, 1, 0, 1, 1, 1, 0, 0, ..., 1, 0, 2, 0, 1, 0, 0, 1, 0, 0],\n",
       "       [2, 0, 1, 1, 0, 1, 1, 1, 0, 0, ..., 1, 0, 2, 0, 1, 0, 0, 1, 0, 0],\n",
       "       [2, 0, 1, 1, 0, 1, 1, 1, 0, 0, ..., 1, 0, 2, 0, 1, 0, 0, 1, 0, 0],\n",
       "       [2, 0, 1, 1, 0, 1, 1, 1, 0, 0, ..., 1, 0, 2, 0, 1, 0, 0, 1, 0, 0],\n",
       "       [2, 0, 1, 1, 0, 1, 1, 1, 0, 0, ..., 1, 0, 2, 0, 1, 0, 0, 1, 0, 0],\n",
       "       ...,\n",
       "       [2, 0, 1, 1, 0, 1, 1, 1, 0, 0, ..., 1, 0, 2, 0, 1, 0, 0, 1, 0, 0],\n",
       "       [2, 0, 1, 1, 0, 1, 1, 1, 0, 0, ..., 1, 0, 2, 0, 1, 0, 0, 1, 0, 0],\n",
       "       [2, 0, 1, 1, 0, 1, 1, 1, 0, 0, ..., 1, 0, 2, 0, 1, 0, 0, 1, 0, 0],\n",
       "       [2, 0, 1, 1, 0, 1, 1, 1, 0, 0, ..., 1, 0, 2, 0, 1, 0, 0, 1, 0, 0],\n",
       "       [2, 0, 1, 1, 0, 1, 1, 1, 0, 0, ..., 1, 0, 2, 0, 1, 0, 0, 1, 0, 0],\n",
       "       [2, 0, 1, 1, 0, 1, 1, 1, 0, 0, ..., 1, 0, 2, 0, 1, 0, 0, 1, 0, 0],\n",
       "       [2, 0, 1, 1, 0, 1, 1, 1, 0, 0, ..., 1, 0, 2, 0, 1, 0, 0, 1, 0, 0],\n",
       "       [2, 0, 1, 1, 0, 1, 1, 1, 0, 0, ..., 1, 0, 2, 0, 1, 0, 0, 1, 0, 0],\n",
       "       [2, 0, 1, 1, 0, 1, 1, 1, 0, 0, ..., 1, 0, 2, 0, 1, 0, 0, 1, 0, 0],\n",
       "       [2, 0, 1, 1, 0, 1, 1, 1, 0, 0, ..., 1, 0, 2, 0, 1, 0, 0, 1, 0, 0]])"
      ]
     },
     "execution_count": 88,
     "metadata": {},
     "output_type": "execute_result"
    }
   ],
   "source": [
    "bin_enm_2d"
   ]
  },
  {
   "cell_type": "code",
   "execution_count": 89,
   "metadata": {
    "ExecuteTime": {
     "end_time": "2019-02-26T09:17:57.397894Z",
     "start_time": "2019-02-26T09:17:57.310100Z"
    }
   },
   "outputs": [
    {
     "name": "stderr",
     "output_type": "stream",
     "text": [
      "/anaconda3/lib/python3.6/site-packages/sklearn/utils/validation.py:475: DataConversionWarning: Data with input dtype int64 was converted to float64 by MinMaxScaler.\n",
      "  warnings.warn(msg, DataConversionWarning)\n"
     ]
    }
   ],
   "source": [
    "# Calculate distance between ENM and organics labels (normalized on 0 to 1 scale)\n",
    "dist_labels = scaler.fit_transform(np.abs(bin_enm_2d-bin_source_2d))"
   ]
  },
  {
   "cell_type": "code",
   "execution_count": 90,
   "metadata": {
    "ExecuteTime": {
     "end_time": "2019-02-26T09:17:57.583979Z",
     "start_time": "2019-02-26T09:17:57.572854Z"
    },
    "collapsed": true
   },
   "outputs": [],
   "source": [
    "# Average the distances of the features and labels\n",
    "dist_avg = (cosdist_feats+dist_labels)/2"
   ]
  },
  {
   "cell_type": "markdown",
   "metadata": {},
   "source": [
    "### Data frames"
   ]
  },
  {
   "cell_type": "markdown",
   "metadata": {},
   "source": [
    "Apply the augment_match function for all dfs."
   ]
  },
  {
   "cell_type": "code",
   "execution_count": 91,
   "metadata": {
    "ExecuteTime": {
     "end_time": "2019-02-26T09:18:00.280015Z",
     "start_time": "2019-02-26T09:17:59.421597Z"
    }
   },
   "outputs": [
    {
     "name": "stdout",
     "output_type": "stream",
     "text": [
      "X_match shape:    (4182, 39)\n",
      "bin_match shape:  (4182,)\n",
      "Bin distributions {0: 1836, 1: 1479, 2: 867}\n",
      "X_match shape:    (1722, 39)\n",
      "bin_match shape:  (1722,)\n",
      "Bin distributions {0: 756, 1: 609, 2: 357}\n",
      "X_match shape:    (902, 39)\n",
      "bin_match shape:  (902,)\n",
      "Bin distributions {0: 396, 1: 319, 2: 187}\n",
      "X_match shape:    (492, 39)\n",
      "bin_match shape:  (492,)\n",
      "Bin distributions {0: 216, 1: 174, 2: 102}\n",
      "X_match shape:    (410, 39)\n",
      "bin_match shape:  (410,)\n",
      "Bin distributions {0: 180, 1: 145, 2: 85}\n",
      "X_match shape:    (328, 39)\n",
      "bin_match shape:  (328,)\n",
      "Bin distributions {0: 144, 1: 116, 2: 68}\n",
      "X_match shape:    (246, 39)\n",
      "bin_match shape:  (246,)\n",
      "Bin distributions {0: 108, 1: 87, 2: 51}\n",
      "X_match shape:    (164, 39)\n",
      "bin_match shape:  (164,)\n",
      "Bin distributions {0: 72, 1: 58, 2: 34}\n"
     ]
    }
   ],
   "source": [
    "# Match k most similar organics examples to ENM examples \n",
    "# based on smallest average distance and concatenate dfs\n",
    "X_matchlab50, bin_matchlab50, match_group50 = augment_match(k=50,\n",
    "                                                dist_matrix=dist_avg)\n",
    "X_matchlab20, bin_matchlab20, match_group20 = augment_match(k=20,\n",
    "                                                dist_matrix=dist_avg)\n",
    "X_matchlab10, bin_matchlab10, match_group10 = augment_match(k=10,\n",
    "                                                dist_matrix=dist_avg)\n",
    "X_matchlab5, bin_matchlab5, match_group5 = augment_match(k=5,\n",
    "                                                dist_matrix=dist_avg)\n",
    "X_matchlab4, bin_matchlab4, match_group4 = augment_match(k=4,\n",
    "                                                dist_matrix=dist_avg)\n",
    "X_matchlab3, bin_matchlab3, match_group3 = augment_match(k=3,\n",
    "                                                dist_matrix=dist_avg)\n",
    "X_matchlab2, bin_matchlab2, match_group2 = augment_match(k=2,\n",
    "                                                dist_matrix=dist_avg)\n",
    "X_matchlab1, bin_matchlab1, match_group1 = augment_match(k=1,\n",
    "                                                dist_matrix=dist_avg)"
   ]
  },
  {
   "cell_type": "code",
   "execution_count": 92,
   "metadata": {
    "ExecuteTime": {
     "end_time": "2019-02-26T09:18:00.342528Z",
     "start_time": "2019-02-26T09:18:00.286191Z"
    }
   },
   "outputs": [
    {
     "data": {
      "text/html": [
       "<div>\n",
       "<style scoped>\n",
       "    .dataframe tbody tr th:only-of-type {\n",
       "        vertical-align: middle;\n",
       "    }\n",
       "\n",
       "    .dataframe tbody tr th {\n",
       "        vertical-align: top;\n",
       "    }\n",
       "\n",
       "    .dataframe thead th {\n",
       "        text-align: right;\n",
       "    }\n",
       "</style>\n",
       "<table border=\"1\" class=\"dataframe\">\n",
       "  <thead>\n",
       "    <tr style=\"text-align: right;\">\n",
       "      <th></th>\n",
       "      <th>propMW</th>\n",
       "      <th>propMP</th>\n",
       "      <th>propBP</th>\n",
       "      <th>propLogDensity</th>\n",
       "      <th>0</th>\n",
       "      <th>1</th>\n",
       "      <th>2</th>\n",
       "      <th>3</th>\n",
       "      <th>4</th>\n",
       "      <th>5</th>\n",
       "      <th>...</th>\n",
       "      <th>group_facialcleansingandmoisturizing</th>\n",
       "      <th>group_fungicide</th>\n",
       "      <th>group_generalhouseholdcleaning</th>\n",
       "      <th>group_generalmoisturizing</th>\n",
       "      <th>group_makeupandrelated</th>\n",
       "      <th>group_paintstainandrelatedproducts</th>\n",
       "      <th>group_sunscreen</th>\n",
       "      <th>group_surfacesealers</th>\n",
       "      <th>refined_spray</th>\n",
       "      <th>matrix_F</th>\n",
       "    </tr>\n",
       "  </thead>\n",
       "  <tbody>\n",
       "    <tr>\n",
       "      <th>80</th>\n",
       "      <td>79.867</td>\n",
       "      <td>1843.00000</td>\n",
       "      <td>2972.00000</td>\n",
       "      <td>0.626340</td>\n",
       "      <td>0.0</td>\n",
       "      <td>0.0</td>\n",
       "      <td>0.0</td>\n",
       "      <td>0.0</td>\n",
       "      <td>0.0</td>\n",
       "      <td>1.0</td>\n",
       "      <td>...</td>\n",
       "      <td>0</td>\n",
       "      <td>0</td>\n",
       "      <td>0</td>\n",
       "      <td>0</td>\n",
       "      <td>0</td>\n",
       "      <td>0</td>\n",
       "      <td>1</td>\n",
       "      <td>0</td>\n",
       "      <td>1</td>\n",
       "      <td>1</td>\n",
       "    </tr>\n",
       "    <tr>\n",
       "      <th>81</th>\n",
       "      <td>107.868</td>\n",
       "      <td>961.78000</td>\n",
       "      <td>2162.00000</td>\n",
       "      <td>1.014730</td>\n",
       "      <td>0.0</td>\n",
       "      <td>0.0</td>\n",
       "      <td>0.0</td>\n",
       "      <td>0.0</td>\n",
       "      <td>0.0</td>\n",
       "      <td>0.0</td>\n",
       "      <td>...</td>\n",
       "      <td>0</td>\n",
       "      <td>0</td>\n",
       "      <td>0</td>\n",
       "      <td>0</td>\n",
       "      <td>0</td>\n",
       "      <td>0</td>\n",
       "      <td>0</td>\n",
       "      <td>0</td>\n",
       "      <td>1</td>\n",
       "      <td>1</td>\n",
       "    </tr>\n",
       "    <tr>\n",
       "      <th>26845</th>\n",
       "      <td>99.133</td>\n",
       "      <td>-9.54296</td>\n",
       "      <td>196.25700</td>\n",
       "      <td>0.003891</td>\n",
       "      <td>0.0</td>\n",
       "      <td>0.0</td>\n",
       "      <td>0.0</td>\n",
       "      <td>0.0</td>\n",
       "      <td>0.0</td>\n",
       "      <td>1.0</td>\n",
       "      <td>...</td>\n",
       "      <td>0</td>\n",
       "      <td>0</td>\n",
       "      <td>0</td>\n",
       "      <td>0</td>\n",
       "      <td>0</td>\n",
       "      <td>1</td>\n",
       "      <td>0</td>\n",
       "      <td>0</td>\n",
       "      <td>0</td>\n",
       "      <td>1</td>\n",
       "    </tr>\n",
       "    <tr>\n",
       "      <th>26852</th>\n",
       "      <td>99.133</td>\n",
       "      <td>-9.54296</td>\n",
       "      <td>196.25700</td>\n",
       "      <td>0.003891</td>\n",
       "      <td>0.0</td>\n",
       "      <td>0.0</td>\n",
       "      <td>0.0</td>\n",
       "      <td>0.0</td>\n",
       "      <td>0.0</td>\n",
       "      <td>1.0</td>\n",
       "      <td>...</td>\n",
       "      <td>0</td>\n",
       "      <td>0</td>\n",
       "      <td>0</td>\n",
       "      <td>0</td>\n",
       "      <td>0</td>\n",
       "      <td>1</td>\n",
       "      <td>0</td>\n",
       "      <td>0</td>\n",
       "      <td>0</td>\n",
       "      <td>1</td>\n",
       "    </tr>\n",
       "    <tr>\n",
       "      <th>26856</th>\n",
       "      <td>99.133</td>\n",
       "      <td>-9.54296</td>\n",
       "      <td>196.25700</td>\n",
       "      <td>0.003891</td>\n",
       "      <td>0.0</td>\n",
       "      <td>0.0</td>\n",
       "      <td>0.0</td>\n",
       "      <td>0.0</td>\n",
       "      <td>0.0</td>\n",
       "      <td>1.0</td>\n",
       "      <td>...</td>\n",
       "      <td>0</td>\n",
       "      <td>0</td>\n",
       "      <td>0</td>\n",
       "      <td>0</td>\n",
       "      <td>0</td>\n",
       "      <td>0</td>\n",
       "      <td>0</td>\n",
       "      <td>0</td>\n",
       "      <td>0</td>\n",
       "      <td>1</td>\n",
       "    </tr>\n",
       "    <tr>\n",
       "      <th>83</th>\n",
       "      <td>106.168</td>\n",
       "      <td>-52.52180</td>\n",
       "      <td>147.15050</td>\n",
       "      <td>-0.050610</td>\n",
       "      <td>0.5</td>\n",
       "      <td>0.0</td>\n",
       "      <td>0.0</td>\n",
       "      <td>0.0</td>\n",
       "      <td>0.0</td>\n",
       "      <td>0.0</td>\n",
       "      <td>...</td>\n",
       "      <td>0</td>\n",
       "      <td>0</td>\n",
       "      <td>0</td>\n",
       "      <td>0</td>\n",
       "      <td>0</td>\n",
       "      <td>1</td>\n",
       "      <td>0</td>\n",
       "      <td>0</td>\n",
       "      <td>0</td>\n",
       "      <td>1</td>\n",
       "    </tr>\n",
       "    <tr>\n",
       "      <th>40</th>\n",
       "      <td>106.168</td>\n",
       "      <td>-52.52180</td>\n",
       "      <td>147.15050</td>\n",
       "      <td>-0.050610</td>\n",
       "      <td>0.5</td>\n",
       "      <td>0.0</td>\n",
       "      <td>0.0</td>\n",
       "      <td>0.0</td>\n",
       "      <td>0.0</td>\n",
       "      <td>0.0</td>\n",
       "      <td>...</td>\n",
       "      <td>0</td>\n",
       "      <td>0</td>\n",
       "      <td>0</td>\n",
       "      <td>0</td>\n",
       "      <td>0</td>\n",
       "      <td>1</td>\n",
       "      <td>0</td>\n",
       "      <td>0</td>\n",
       "      <td>0</td>\n",
       "      <td>1</td>\n",
       "    </tr>\n",
       "    <tr>\n",
       "      <th>22227</th>\n",
       "      <td>84.930</td>\n",
       "      <td>-78.35250</td>\n",
       "      <td>41.07695</td>\n",
       "      <td>0.083503</td>\n",
       "      <td>0.0</td>\n",
       "      <td>0.0</td>\n",
       "      <td>0.0</td>\n",
       "      <td>0.0</td>\n",
       "      <td>0.0</td>\n",
       "      <td>0.0</td>\n",
       "      <td>...</td>\n",
       "      <td>0</td>\n",
       "      <td>0</td>\n",
       "      <td>0</td>\n",
       "      <td>0</td>\n",
       "      <td>0</td>\n",
       "      <td>1</td>\n",
       "      <td>0</td>\n",
       "      <td>0</td>\n",
       "      <td>0</td>\n",
       "      <td>1</td>\n",
       "    </tr>\n",
       "  </tbody>\n",
       "</table>\n",
       "<p>8 rows × 39 columns</p>\n",
       "</div>"
      ],
      "text/plain": [
       "        propMW      propMP      propBP  propLogDensity    0    1    2    3  \\\n",
       "80      79.867  1843.00000  2972.00000        0.626340  0.0  0.0  0.0  0.0   \n",
       "81     107.868   961.78000  2162.00000        1.014730  0.0  0.0  0.0  0.0   \n",
       "26845   99.133    -9.54296   196.25700        0.003891  0.0  0.0  0.0  0.0   \n",
       "26852   99.133    -9.54296   196.25700        0.003891  0.0  0.0  0.0  0.0   \n",
       "26856   99.133    -9.54296   196.25700        0.003891  0.0  0.0  0.0  0.0   \n",
       "83     106.168   -52.52180   147.15050       -0.050610  0.5  0.0  0.0  0.0   \n",
       "40     106.168   -52.52180   147.15050       -0.050610  0.5  0.0  0.0  0.0   \n",
       "22227   84.930   -78.35250    41.07695        0.083503  0.0  0.0  0.0  0.0   \n",
       "\n",
       "         4    5    ...     group_facialcleansingandmoisturizing  \\\n",
       "80     0.0  1.0    ...                                        0   \n",
       "81     0.0  0.0    ...                                        0   \n",
       "26845  0.0  1.0    ...                                        0   \n",
       "26852  0.0  1.0    ...                                        0   \n",
       "26856  0.0  1.0    ...                                        0   \n",
       "83     0.0  0.0    ...                                        0   \n",
       "40     0.0  0.0    ...                                        0   \n",
       "22227  0.0  0.0    ...                                        0   \n",
       "\n",
       "       group_fungicide  group_generalhouseholdcleaning  \\\n",
       "80                   0                               0   \n",
       "81                   0                               0   \n",
       "26845                0                               0   \n",
       "26852                0                               0   \n",
       "26856                0                               0   \n",
       "83                   0                               0   \n",
       "40                   0                               0   \n",
       "22227                0                               0   \n",
       "\n",
       "       group_generalmoisturizing  group_makeupandrelated  \\\n",
       "80                             0                       0   \n",
       "81                             0                       0   \n",
       "26845                          0                       0   \n",
       "26852                          0                       0   \n",
       "26856                          0                       0   \n",
       "83                             0                       0   \n",
       "40                             0                       0   \n",
       "22227                          0                       0   \n",
       "\n",
       "       group_paintstainandrelatedproducts  group_sunscreen  \\\n",
       "80                                      0                1   \n",
       "81                                      0                0   \n",
       "26845                                   1                0   \n",
       "26852                                   1                0   \n",
       "26856                                   0                0   \n",
       "83                                      1                0   \n",
       "40                                      1                0   \n",
       "22227                                   1                0   \n",
       "\n",
       "       group_surfacesealers  refined_spray  matrix_F  \n",
       "80                        0              1         1  \n",
       "81                        0              1         1  \n",
       "26845                     0              0         1  \n",
       "26852                     0              0         1  \n",
       "26856                     0              0         1  \n",
       "83                        0              0         1  \n",
       "40                        0              0         1  \n",
       "22227                     0              0         1  \n",
       "\n",
       "[8 rows x 39 columns]"
      ]
     },
     "execution_count": 92,
     "metadata": {},
     "output_type": "execute_result"
    }
   ],
   "source": [
    "X_matchlab20.iloc[80:88,:]"
   ]
  },
  {
   "cell_type": "markdown",
   "metadata": {},
   "source": [
    "# Model selection"
   ]
  },
  {
   "cell_type": "markdown",
   "metadata": {},
   "source": [
    "Here I make use of a helper class in order to compare different model estimators with different parameters. Estimator Selection Helper is by David Batista:\n",
    "http://www.davidsbatista.net/blog/2018/02/23/model_optimization/. A random forest classifier, linear SVC and non-linear SVC (RBF) were evaluated on the ENM data (normalized)."
   ]
  },
  {
   "cell_type": "code",
   "execution_count": 94,
   "metadata": {
    "ExecuteTime": {
     "end_time": "2019-02-26T09:18:24.583646Z",
     "start_time": "2019-02-26T09:18:24.458131Z"
    }
   },
   "outputs": [],
   "source": [
    "# Set up for grid search across multiple pipelines\n",
    "from sklearn.model_selection import GridSearchCV\n",
    "\n",
    "class EstimatorSelectionHelper:\n",
    "\n",
    "    cv=10\n",
    "    def __init__(self, models, params):\n",
    "        if not set(models.keys()).issubset(set(params.keys())):\n",
    "            missing_params = list(set(models.keys()) - set(params.keys()))\n",
    "            raise ValueError(\"Some estimators are missing parameters: %s\" % missing_params)\n",
    "        self.models = models\n",
    "        self.params = params\n",
    "        self.keys = models.keys()\n",
    "        self.grid_searches = {}\n",
    "\n",
    "    def fit(self, X, y, cv=cv, n_jobs=1, verbose=1, scoring='accuracy', refit=False):\n",
    "        for key in self.keys:\n",
    "            print(\"Running GridSearchCV for %s.\" % key)\n",
    "            model = self.models[key]\n",
    "            params = self.params[key]\n",
    "            gs = GridSearchCV(model, params, cv=cv, n_jobs=n_jobs,\n",
    "                              verbose=verbose, scoring=scoring, refit=refit,\n",
    "                              return_train_score=True)\n",
    "            gs.fit(X,y)\n",
    "            self.grid_searches[key] = gs    \n",
    "\n",
    "    def score_summary(self, sort_by='mean_score'):\n",
    "        def row(key, scores, params):\n",
    "            d = {\n",
    "                 'estimator': key,\n",
    "                 'min_score': min(scores),\n",
    "                 'max_score': max(scores),\n",
    "                 'mean_score': np.mean(scores),\n",
    "                 'std_score': np.std(scores),\n",
    "            }\n",
    "            return pd.Series({**params,**d})\n",
    "\n",
    "        rows = []\n",
    "        for k in self.grid_searches:\n",
    "            print(k)\n",
    "            params = self.grid_searches[k].cv_results_['params']\n",
    "            scores = []\n",
    "            for i in range(self.grid_searches[k].cv):\n",
    "                key = \"split{}_test_score\".format(i)\n",
    "                r = self.grid_searches[k].cv_results_[key]        \n",
    "                scores.append(r.reshape(len(params),1))\n",
    "\n",
    "            all_scores = np.hstack(scores)\n",
    "            for p, s in zip(params,all_scores):\n",
    "                rows.append((row(k, s, p)))\n",
    "\n",
    "        df = pd.concat(rows, axis=1).T.sort_values([sort_by], ascending=False)\n",
    "\n",
    "        columns = ['estimator', 'min_score', 'mean_score', 'max_score', 'std_score']\n",
    "        columns = columns + [c for c in df.columns if c not in columns]\n",
    "\n",
    "        return df[columns]"
   ]
  },
  {
   "cell_type": "code",
   "execution_count": 95,
   "metadata": {
    "ExecuteTime": {
     "end_time": "2019-02-26T09:18:27.181467Z",
     "start_time": "2019-02-26T09:18:27.008024Z"
    },
    "collapsed": true
   },
   "outputs": [],
   "source": [
    "# Define sets of models and their respective parameters to compare\n",
    "# The first dictionary contains the models to be scored\n",
    "# while the second contains the parameters for each model\n",
    "\n",
    "from sklearn.cluster import FeatureAgglomeration\n",
    "from sklearn.svm import SVC\n",
    "from sklearn.ensemble import RandomForestClassifier\n",
    "\n",
    "cv=17\n",
    "\n",
    "models = {\n",
    "    'RandomForest': RandomForestClassifier(),\n",
    "    'SVC': SVC(class_weight='balanced')\n",
    "}\n",
    "\n",
    "params = {\n",
    "    'RandomForest': { 'n_estimators': [10,12,14,16,18,20]},\n",
    "    'SVC': [\n",
    "        {'kernel': ['linear'], 'C': np.logspace(-1,6,8)},\n",
    "        {'kernel': ['rbf'], 'C': np.logspace(-1,6,8), 'gamma': np.logspace(-6,1,8)},\n",
    "    ]\n",
    "}"
   ]
  },
  {
   "cell_type": "code",
   "execution_count": 96,
   "metadata": {
    "ExecuteTime": {
     "end_time": "2019-02-26T09:18:31.811374Z",
     "start_time": "2019-02-26T09:18:29.648634Z"
    }
   },
   "outputs": [
    {
     "name": "stdout",
     "output_type": "stream",
     "text": [
      "Running GridSearchCV for RandomForest.\n",
      "Fitting 10 folds for each of 6 candidates, totalling 60 fits\n",
      "Running GridSearchCV for SVC.\n",
      "Fitting 10 folds for each of 72 candidates, totalling 720 fits\n"
     ]
    },
    {
     "name": "stderr",
     "output_type": "stream",
     "text": [
      "[Parallel(n_jobs=3)]: Done  60 out of  60 | elapsed:    0.7s finished\n",
      "[Parallel(n_jobs=3)]: Done 720 out of 720 | elapsed:    1.1s finished\n"
     ]
    },
    {
     "data": {
      "text/html": [
       "\n",
       "                <audio controls=\"controls\" autoplay=\"autoplay\">\n",
       "                    <source src=\"./data/Glass.wav\" type=\"audio/x-wav\" />\n",
       "                    Your browser does not support the audio element.\n",
       "                </audio>\n",
       "              "
      ],
      "text/plain": [
       "<IPython.lib.display.Audio object>"
      ]
     },
     "execution_count": 96,
     "metadata": {},
     "output_type": "execute_result"
    }
   ],
   "source": [
    "# Fit gridsearch models to select best estimator\n",
    "helper = EstimatorSelectionHelper(models, params)\n",
    "helper.fit(X_enm_scaled, bin_enm, n_jobs=3)\n",
    "\n",
    "# Play sound when cell is done running\n",
    "Audio(url=sound_file, autoplay=True)"
   ]
  },
  {
   "cell_type": "code",
   "execution_count": 102,
   "metadata": {
    "ExecuteTime": {
     "end_time": "2019-02-20T20:59:28.940563Z",
     "start_time": "2019-02-20T20:59:28.711583Z"
    }
   },
   "outputs": [
    {
     "name": "stdout",
     "output_type": "stream",
     "text": [
      "RandomForest\n",
      "SVC\n"
     ]
    },
    {
     "name": "stderr",
     "output_type": "stream",
     "text": [
      "/anaconda3/lib/python3.6/site-packages/ipykernel/__main__.py:52: FutureWarning: Sorting because non-concatenation axis is not aligned. A future version\n",
      "of pandas will change to not sort by default.\n",
      "\n",
      "To accept the future behavior, pass 'sort=True'.\n",
      "\n",
      "To retain the current behavior and silence the warning, pass sort=False\n",
      "\n"
     ]
    },
    {
     "data": {
      "text/html": [
       "<div>\n",
       "<style scoped>\n",
       "    .dataframe tbody tr th:only-of-type {\n",
       "        vertical-align: middle;\n",
       "    }\n",
       "\n",
       "    .dataframe tbody tr th {\n",
       "        vertical-align: top;\n",
       "    }\n",
       "\n",
       "    .dataframe thead th {\n",
       "        text-align: right;\n",
       "    }\n",
       "</style>\n",
       "<table border=\"1\" class=\"dataframe\">\n",
       "  <thead>\n",
       "    <tr style=\"text-align: right;\">\n",
       "      <th></th>\n",
       "      <th>estimator</th>\n",
       "      <th>min_score</th>\n",
       "      <th>mean_score</th>\n",
       "      <th>max_score</th>\n",
       "      <th>std_score</th>\n",
       "      <th>C</th>\n",
       "      <th>gamma</th>\n",
       "      <th>kernel</th>\n",
       "      <th>n_estimators</th>\n",
       "    </tr>\n",
       "  </thead>\n",
       "  <tbody>\n",
       "    <tr>\n",
       "      <th>70</th>\n",
       "      <td>SVC</td>\n",
       "      <td>0.444444</td>\n",
       "      <td>0.625198</td>\n",
       "      <td>0.888889</td>\n",
       "      <td>0.149568</td>\n",
       "      <td>1e+06</td>\n",
       "      <td>1e-06</td>\n",
       "      <td>rbf</td>\n",
       "      <td>NaN</td>\n",
       "    </tr>\n",
       "    <tr>\n",
       "      <th>42</th>\n",
       "      <td>SVC</td>\n",
       "      <td>0.333333</td>\n",
       "      <td>0.614087</td>\n",
       "      <td>0.888889</td>\n",
       "      <td>0.165827</td>\n",
       "      <td>100</td>\n",
       "      <td>0.01</td>\n",
       "      <td>rbf</td>\n",
       "      <td>NaN</td>\n",
       "    </tr>\n",
       "    <tr>\n",
       "      <th>49</th>\n",
       "      <td>SVC</td>\n",
       "      <td>0.333333</td>\n",
       "      <td>0.614087</td>\n",
       "      <td>0.888889</td>\n",
       "      <td>0.165827</td>\n",
       "      <td>1000</td>\n",
       "      <td>0.001</td>\n",
       "      <td>rbf</td>\n",
       "      <td>NaN</td>\n",
       "    </tr>\n",
       "    <tr>\n",
       "      <th>56</th>\n",
       "      <td>SVC</td>\n",
       "      <td>0.333333</td>\n",
       "      <td>0.614087</td>\n",
       "      <td>0.888889</td>\n",
       "      <td>0.165827</td>\n",
       "      <td>10000</td>\n",
       "      <td>0.0001</td>\n",
       "      <td>rbf</td>\n",
       "      <td>NaN</td>\n",
       "    </tr>\n",
       "    <tr>\n",
       "      <th>63</th>\n",
       "      <td>SVC</td>\n",
       "      <td>0.333333</td>\n",
       "      <td>0.614087</td>\n",
       "      <td>0.888889</td>\n",
       "      <td>0.165827</td>\n",
       "      <td>100000</td>\n",
       "      <td>1e-05</td>\n",
       "      <td>rbf</td>\n",
       "      <td>NaN</td>\n",
       "    </tr>\n",
       "    <tr>\n",
       "      <th>28</th>\n",
       "      <td>SVC</td>\n",
       "      <td>0.222222</td>\n",
       "      <td>0.587302</td>\n",
       "      <td>0.888889</td>\n",
       "      <td>0.205094</td>\n",
       "      <td>1</td>\n",
       "      <td>1</td>\n",
       "      <td>rbf</td>\n",
       "      <td>NaN</td>\n",
       "    </tr>\n",
       "    <tr>\n",
       "      <th>35</th>\n",
       "      <td>SVC</td>\n",
       "      <td>0.333333</td>\n",
       "      <td>0.577579</td>\n",
       "      <td>0.888889</td>\n",
       "      <td>0.181338</td>\n",
       "      <td>10</td>\n",
       "      <td>0.1</td>\n",
       "      <td>rbf</td>\n",
       "      <td>NaN</td>\n",
       "    </tr>\n",
       "    <tr>\n",
       "      <th>0</th>\n",
       "      <td>RandomForest</td>\n",
       "      <td>0.333333</td>\n",
       "      <td>0.575198</td>\n",
       "      <td>0.857143</td>\n",
       "      <td>0.194003</td>\n",
       "      <td>NaN</td>\n",
       "      <td>NaN</td>\n",
       "      <td>NaN</td>\n",
       "      <td>10</td>\n",
       "    </tr>\n",
       "    <tr>\n",
       "      <th>8</th>\n",
       "      <td>SVC</td>\n",
       "      <td>0.333333</td>\n",
       "      <td>0.572024</td>\n",
       "      <td>0.857143</td>\n",
       "      <td>0.177634</td>\n",
       "      <td>10</td>\n",
       "      <td>NaN</td>\n",
       "      <td>linear</td>\n",
       "      <td>NaN</td>\n",
       "    </tr>\n",
       "    <tr>\n",
       "      <th>4</th>\n",
       "      <td>RandomForest</td>\n",
       "      <td>0.222222</td>\n",
       "      <td>0.569643</td>\n",
       "      <td>0.857143</td>\n",
       "      <td>0.182195</td>\n",
       "      <td>NaN</td>\n",
       "      <td>NaN</td>\n",
       "      <td>NaN</td>\n",
       "      <td>18</td>\n",
       "    </tr>\n",
       "    <tr>\n",
       "      <th>3</th>\n",
       "      <td>RandomForest</td>\n",
       "      <td>0.222222</td>\n",
       "      <td>0.566468</td>\n",
       "      <td>0.777778</td>\n",
       "      <td>0.181305</td>\n",
       "      <td>NaN</td>\n",
       "      <td>NaN</td>\n",
       "      <td>NaN</td>\n",
       "      <td>16</td>\n",
       "    </tr>\n",
       "    <tr>\n",
       "      <th>27</th>\n",
       "      <td>SVC</td>\n",
       "      <td>0.333333</td>\n",
       "      <td>0.565873</td>\n",
       "      <td>1</td>\n",
       "      <td>0.205494</td>\n",
       "      <td>1</td>\n",
       "      <td>0.1</td>\n",
       "      <td>rbf</td>\n",
       "      <td>NaN</td>\n",
       "    </tr>\n",
       "    <tr>\n",
       "      <th>2</th>\n",
       "      <td>RandomForest</td>\n",
       "      <td>0.333333</td>\n",
       "      <td>0.56369</td>\n",
       "      <td>0.777778</td>\n",
       "      <td>0.175396</td>\n",
       "      <td>NaN</td>\n",
       "      <td>NaN</td>\n",
       "      <td>NaN</td>\n",
       "      <td>14</td>\n",
       "    </tr>\n",
       "    <tr>\n",
       "      <th>34</th>\n",
       "      <td>SVC</td>\n",
       "      <td>0.333333</td>\n",
       "      <td>0.553968</td>\n",
       "      <td>0.777778</td>\n",
       "      <td>0.143069</td>\n",
       "      <td>10</td>\n",
       "      <td>0.01</td>\n",
       "      <td>rbf</td>\n",
       "      <td>NaN</td>\n",
       "    </tr>\n",
       "    <tr>\n",
       "      <th>41</th>\n",
       "      <td>SVC</td>\n",
       "      <td>0.333333</td>\n",
       "      <td>0.553968</td>\n",
       "      <td>0.777778</td>\n",
       "      <td>0.143069</td>\n",
       "      <td>100</td>\n",
       "      <td>0.001</td>\n",
       "      <td>rbf</td>\n",
       "      <td>NaN</td>\n",
       "    </tr>\n",
       "    <tr>\n",
       "      <th>48</th>\n",
       "      <td>SVC</td>\n",
       "      <td>0.333333</td>\n",
       "      <td>0.553968</td>\n",
       "      <td>0.777778</td>\n",
       "      <td>0.143069</td>\n",
       "      <td>1000</td>\n",
       "      <td>0.0001</td>\n",
       "      <td>rbf</td>\n",
       "      <td>NaN</td>\n",
       "    </tr>\n",
       "    <tr>\n",
       "      <th>55</th>\n",
       "      <td>SVC</td>\n",
       "      <td>0.333333</td>\n",
       "      <td>0.553968</td>\n",
       "      <td>0.777778</td>\n",
       "      <td>0.143069</td>\n",
       "      <td>10000</td>\n",
       "      <td>1e-05</td>\n",
       "      <td>rbf</td>\n",
       "      <td>NaN</td>\n",
       "    </tr>\n",
       "    <tr>\n",
       "      <th>62</th>\n",
       "      <td>SVC</td>\n",
       "      <td>0.333333</td>\n",
       "      <td>0.553968</td>\n",
       "      <td>0.777778</td>\n",
       "      <td>0.143069</td>\n",
       "      <td>100000</td>\n",
       "      <td>1e-06</td>\n",
       "      <td>rbf</td>\n",
       "      <td>NaN</td>\n",
       "    </tr>\n",
       "    <tr>\n",
       "      <th>5</th>\n",
       "      <td>RandomForest</td>\n",
       "      <td>0.222222</td>\n",
       "      <td>0.552183</td>\n",
       "      <td>0.777778</td>\n",
       "      <td>0.159833</td>\n",
       "      <td>NaN</td>\n",
       "      <td>NaN</td>\n",
       "      <td>NaN</td>\n",
       "      <td>20</td>\n",
       "    </tr>\n",
       "    <tr>\n",
       "      <th>6</th>\n",
       "      <td>SVC</td>\n",
       "      <td>0.333333</td>\n",
       "      <td>0.551587</td>\n",
       "      <td>0.857143</td>\n",
       "      <td>0.177935</td>\n",
       "      <td>0.1</td>\n",
       "      <td>NaN</td>\n",
       "      <td>linear</td>\n",
       "      <td>NaN</td>\n",
       "    </tr>\n",
       "    <tr>\n",
       "      <th>7</th>\n",
       "      <td>SVC</td>\n",
       "      <td>0.333333</td>\n",
       "      <td>0.551587</td>\n",
       "      <td>0.857143</td>\n",
       "      <td>0.170856</td>\n",
       "      <td>1</td>\n",
       "      <td>NaN</td>\n",
       "      <td>linear</td>\n",
       "      <td>NaN</td>\n",
       "    </tr>\n",
       "    <tr>\n",
       "      <th>67</th>\n",
       "      <td>SVC</td>\n",
       "      <td>0.333333</td>\n",
       "      <td>0.550794</td>\n",
       "      <td>0.777778</td>\n",
       "      <td>0.138523</td>\n",
       "      <td>100000</td>\n",
       "      <td>0.1</td>\n",
       "      <td>rbf</td>\n",
       "      <td>NaN</td>\n",
       "    </tr>\n",
       "    <tr>\n",
       "      <th>75</th>\n",
       "      <td>SVC</td>\n",
       "      <td>0.333333</td>\n",
       "      <td>0.550794</td>\n",
       "      <td>0.777778</td>\n",
       "      <td>0.138523</td>\n",
       "      <td>1e+06</td>\n",
       "      <td>0.1</td>\n",
       "      <td>rbf</td>\n",
       "      <td>NaN</td>\n",
       "    </tr>\n",
       "    <tr>\n",
       "      <th>51</th>\n",
       "      <td>SVC</td>\n",
       "      <td>0.333333</td>\n",
       "      <td>0.550794</td>\n",
       "      <td>0.777778</td>\n",
       "      <td>0.138523</td>\n",
       "      <td>1000</td>\n",
       "      <td>0.1</td>\n",
       "      <td>rbf</td>\n",
       "      <td>NaN</td>\n",
       "    </tr>\n",
       "    <tr>\n",
       "      <th>59</th>\n",
       "      <td>SVC</td>\n",
       "      <td>0.333333</td>\n",
       "      <td>0.550794</td>\n",
       "      <td>0.777778</td>\n",
       "      <td>0.138523</td>\n",
       "      <td>10000</td>\n",
       "      <td>0.1</td>\n",
       "      <td>rbf</td>\n",
       "      <td>NaN</td>\n",
       "    </tr>\n",
       "    <tr>\n",
       "      <th>1</th>\n",
       "      <td>RandomForest</td>\n",
       "      <td>0.222222</td>\n",
       "      <td>0.548413</td>\n",
       "      <td>0.888889</td>\n",
       "      <td>0.20873</td>\n",
       "      <td>NaN</td>\n",
       "      <td>NaN</td>\n",
       "      <td>NaN</td>\n",
       "      <td>12</td>\n",
       "    </tr>\n",
       "    <tr>\n",
       "      <th>71</th>\n",
       "      <td>SVC</td>\n",
       "      <td>0.333333</td>\n",
       "      <td>0.548413</td>\n",
       "      <td>0.857143</td>\n",
       "      <td>0.174258</td>\n",
       "      <td>1e+06</td>\n",
       "      <td>1e-05</td>\n",
       "      <td>rbf</td>\n",
       "      <td>NaN</td>\n",
       "    </tr>\n",
       "    <tr>\n",
       "      <th>64</th>\n",
       "      <td>SVC</td>\n",
       "      <td>0.333333</td>\n",
       "      <td>0.548413</td>\n",
       "      <td>0.857143</td>\n",
       "      <td>0.174258</td>\n",
       "      <td>100000</td>\n",
       "      <td>0.0001</td>\n",
       "      <td>rbf</td>\n",
       "      <td>NaN</td>\n",
       "    </tr>\n",
       "    <tr>\n",
       "      <th>57</th>\n",
       "      <td>SVC</td>\n",
       "      <td>0.333333</td>\n",
       "      <td>0.548413</td>\n",
       "      <td>0.857143</td>\n",
       "      <td>0.174258</td>\n",
       "      <td>10000</td>\n",
       "      <td>0.001</td>\n",
       "      <td>rbf</td>\n",
       "      <td>NaN</td>\n",
       "    </tr>\n",
       "    <tr>\n",
       "      <th>69</th>\n",
       "      <td>SVC</td>\n",
       "      <td>0.333333</td>\n",
       "      <td>0.540675</td>\n",
       "      <td>0.777778</td>\n",
       "      <td>0.148275</td>\n",
       "      <td>100000</td>\n",
       "      <td>10</td>\n",
       "      <td>rbf</td>\n",
       "      <td>NaN</td>\n",
       "    </tr>\n",
       "    <tr>\n",
       "      <th>...</th>\n",
       "      <td>...</td>\n",
       "      <td>...</td>\n",
       "      <td>...</td>\n",
       "      <td>...</td>\n",
       "      <td>...</td>\n",
       "      <td>...</td>\n",
       "      <td>...</td>\n",
       "      <td>...</td>\n",
       "      <td>...</td>\n",
       "    </tr>\n",
       "    <tr>\n",
       "      <th>74</th>\n",
       "      <td>SVC</td>\n",
       "      <td>0.333333</td>\n",
       "      <td>0.510516</td>\n",
       "      <td>0.777778</td>\n",
       "      <td>0.16124</td>\n",
       "      <td>1e+06</td>\n",
       "      <td>0.01</td>\n",
       "      <td>rbf</td>\n",
       "      <td>NaN</td>\n",
       "    </tr>\n",
       "    <tr>\n",
       "      <th>73</th>\n",
       "      <td>SVC</td>\n",
       "      <td>0.333333</td>\n",
       "      <td>0.507341</td>\n",
       "      <td>0.777778</td>\n",
       "      <td>0.148234</td>\n",
       "      <td>1e+06</td>\n",
       "      <td>0.001</td>\n",
       "      <td>rbf</td>\n",
       "      <td>NaN</td>\n",
       "    </tr>\n",
       "    <tr>\n",
       "      <th>11</th>\n",
       "      <td>SVC</td>\n",
       "      <td>0.333333</td>\n",
       "      <td>0.507341</td>\n",
       "      <td>0.777778</td>\n",
       "      <td>0.148234</td>\n",
       "      <td>10000</td>\n",
       "      <td>NaN</td>\n",
       "      <td>linear</td>\n",
       "      <td>NaN</td>\n",
       "    </tr>\n",
       "    <tr>\n",
       "      <th>13</th>\n",
       "      <td>SVC</td>\n",
       "      <td>0.333333</td>\n",
       "      <td>0.507341</td>\n",
       "      <td>0.777778</td>\n",
       "      <td>0.148234</td>\n",
       "      <td>1e+06</td>\n",
       "      <td>NaN</td>\n",
       "      <td>linear</td>\n",
       "      <td>NaN</td>\n",
       "    </tr>\n",
       "    <tr>\n",
       "      <th>12</th>\n",
       "      <td>SVC</td>\n",
       "      <td>0.333333</td>\n",
       "      <td>0.507341</td>\n",
       "      <td>0.777778</td>\n",
       "      <td>0.148234</td>\n",
       "      <td>100000</td>\n",
       "      <td>NaN</td>\n",
       "      <td>linear</td>\n",
       "      <td>NaN</td>\n",
       "    </tr>\n",
       "    <tr>\n",
       "      <th>10</th>\n",
       "      <td>SVC</td>\n",
       "      <td>0.333333</td>\n",
       "      <td>0.507341</td>\n",
       "      <td>0.777778</td>\n",
       "      <td>0.148234</td>\n",
       "      <td>1000</td>\n",
       "      <td>NaN</td>\n",
       "      <td>linear</td>\n",
       "      <td>NaN</td>\n",
       "    </tr>\n",
       "    <tr>\n",
       "      <th>40</th>\n",
       "      <td>SVC</td>\n",
       "      <td>0.222222</td>\n",
       "      <td>0.463492</td>\n",
       "      <td>0.666667</td>\n",
       "      <td>0.117835</td>\n",
       "      <td>100</td>\n",
       "      <td>0.0001</td>\n",
       "      <td>rbf</td>\n",
       "      <td>NaN</td>\n",
       "    </tr>\n",
       "    <tr>\n",
       "      <th>29</th>\n",
       "      <td>SVC</td>\n",
       "      <td>0.222222</td>\n",
       "      <td>0.462897</td>\n",
       "      <td>0.714286</td>\n",
       "      <td>0.149209</td>\n",
       "      <td>1</td>\n",
       "      <td>10</td>\n",
       "      <td>rbf</td>\n",
       "      <td>NaN</td>\n",
       "    </tr>\n",
       "    <tr>\n",
       "      <th>54</th>\n",
       "      <td>SVC</td>\n",
       "      <td>0.333333</td>\n",
       "      <td>0.416667</td>\n",
       "      <td>0.666667</td>\n",
       "      <td>0.116277</td>\n",
       "      <td>10000</td>\n",
       "      <td>1e-06</td>\n",
       "      <td>rbf</td>\n",
       "      <td>NaN</td>\n",
       "    </tr>\n",
       "    <tr>\n",
       "      <th>47</th>\n",
       "      <td>SVC</td>\n",
       "      <td>0.333333</td>\n",
       "      <td>0.389881</td>\n",
       "      <td>0.666667</td>\n",
       "      <td>0.0995045</td>\n",
       "      <td>1000</td>\n",
       "      <td>1e-05</td>\n",
       "      <td>rbf</td>\n",
       "      <td>NaN</td>\n",
       "    </tr>\n",
       "    <tr>\n",
       "      <th>46</th>\n",
       "      <td>SVC</td>\n",
       "      <td>0.333333</td>\n",
       "      <td>0.389881</td>\n",
       "      <td>0.666667</td>\n",
       "      <td>0.0995045</td>\n",
       "      <td>1000</td>\n",
       "      <td>1e-06</td>\n",
       "      <td>rbf</td>\n",
       "      <td>NaN</td>\n",
       "    </tr>\n",
       "    <tr>\n",
       "      <th>30</th>\n",
       "      <td>SVC</td>\n",
       "      <td>0.333333</td>\n",
       "      <td>0.373214</td>\n",
       "      <td>0.5</td>\n",
       "      <td>0.0563468</td>\n",
       "      <td>10</td>\n",
       "      <td>1e-06</td>\n",
       "      <td>rbf</td>\n",
       "      <td>NaN</td>\n",
       "    </tr>\n",
       "    <tr>\n",
       "      <th>32</th>\n",
       "      <td>SVC</td>\n",
       "      <td>0.333333</td>\n",
       "      <td>0.373214</td>\n",
       "      <td>0.5</td>\n",
       "      <td>0.0563468</td>\n",
       "      <td>10</td>\n",
       "      <td>0.0001</td>\n",
       "      <td>rbf</td>\n",
       "      <td>NaN</td>\n",
       "    </tr>\n",
       "    <tr>\n",
       "      <th>31</th>\n",
       "      <td>SVC</td>\n",
       "      <td>0.333333</td>\n",
       "      <td>0.373214</td>\n",
       "      <td>0.5</td>\n",
       "      <td>0.0563468</td>\n",
       "      <td>10</td>\n",
       "      <td>1e-05</td>\n",
       "      <td>rbf</td>\n",
       "      <td>NaN</td>\n",
       "    </tr>\n",
       "    <tr>\n",
       "      <th>33</th>\n",
       "      <td>SVC</td>\n",
       "      <td>0.333333</td>\n",
       "      <td>0.370833</td>\n",
       "      <td>0.571429</td>\n",
       "      <td>0.073098</td>\n",
       "      <td>10</td>\n",
       "      <td>0.001</td>\n",
       "      <td>rbf</td>\n",
       "      <td>NaN</td>\n",
       "    </tr>\n",
       "    <tr>\n",
       "      <th>22</th>\n",
       "      <td>SVC</td>\n",
       "      <td>0.166667</td>\n",
       "      <td>0.362103</td>\n",
       "      <td>0.555556</td>\n",
       "      <td>0.0942126</td>\n",
       "      <td>1</td>\n",
       "      <td>1e-06</td>\n",
       "      <td>rbf</td>\n",
       "      <td>NaN</td>\n",
       "    </tr>\n",
       "    <tr>\n",
       "      <th>24</th>\n",
       "      <td>SVC</td>\n",
       "      <td>0.166667</td>\n",
       "      <td>0.362103</td>\n",
       "      <td>0.555556</td>\n",
       "      <td>0.0942126</td>\n",
       "      <td>1</td>\n",
       "      <td>0.0001</td>\n",
       "      <td>rbf</td>\n",
       "      <td>NaN</td>\n",
       "    </tr>\n",
       "    <tr>\n",
       "      <th>25</th>\n",
       "      <td>SVC</td>\n",
       "      <td>0.166667</td>\n",
       "      <td>0.362103</td>\n",
       "      <td>0.555556</td>\n",
       "      <td>0.0942126</td>\n",
       "      <td>1</td>\n",
       "      <td>0.001</td>\n",
       "      <td>rbf</td>\n",
       "      <td>NaN</td>\n",
       "    </tr>\n",
       "    <tr>\n",
       "      <th>26</th>\n",
       "      <td>SVC</td>\n",
       "      <td>0.166667</td>\n",
       "      <td>0.362103</td>\n",
       "      <td>0.555556</td>\n",
       "      <td>0.0942126</td>\n",
       "      <td>1</td>\n",
       "      <td>0.01</td>\n",
       "      <td>rbf</td>\n",
       "      <td>NaN</td>\n",
       "    </tr>\n",
       "    <tr>\n",
       "      <th>23</th>\n",
       "      <td>SVC</td>\n",
       "      <td>0.166667</td>\n",
       "      <td>0.362103</td>\n",
       "      <td>0.555556</td>\n",
       "      <td>0.0942126</td>\n",
       "      <td>1</td>\n",
       "      <td>1e-05</td>\n",
       "      <td>rbf</td>\n",
       "      <td>NaN</td>\n",
       "    </tr>\n",
       "    <tr>\n",
       "      <th>39</th>\n",
       "      <td>SVC</td>\n",
       "      <td>0.222222</td>\n",
       "      <td>0.306548</td>\n",
       "      <td>0.5</td>\n",
       "      <td>0.10703</td>\n",
       "      <td>100</td>\n",
       "      <td>1e-05</td>\n",
       "      <td>rbf</td>\n",
       "      <td>NaN</td>\n",
       "    </tr>\n",
       "    <tr>\n",
       "      <th>38</th>\n",
       "      <td>SVC</td>\n",
       "      <td>0.222222</td>\n",
       "      <td>0.306548</td>\n",
       "      <td>0.5</td>\n",
       "      <td>0.10703</td>\n",
       "      <td>100</td>\n",
       "      <td>1e-06</td>\n",
       "      <td>rbf</td>\n",
       "      <td>NaN</td>\n",
       "    </tr>\n",
       "    <tr>\n",
       "      <th>14</th>\n",
       "      <td>SVC</td>\n",
       "      <td>0.222222</td>\n",
       "      <td>0.289881</td>\n",
       "      <td>0.428571</td>\n",
       "      <td>0.0866428</td>\n",
       "      <td>0.1</td>\n",
       "      <td>1e-06</td>\n",
       "      <td>rbf</td>\n",
       "      <td>NaN</td>\n",
       "    </tr>\n",
       "    <tr>\n",
       "      <th>15</th>\n",
       "      <td>SVC</td>\n",
       "      <td>0.222222</td>\n",
       "      <td>0.289881</td>\n",
       "      <td>0.428571</td>\n",
       "      <td>0.0866428</td>\n",
       "      <td>0.1</td>\n",
       "      <td>1e-05</td>\n",
       "      <td>rbf</td>\n",
       "      <td>NaN</td>\n",
       "    </tr>\n",
       "    <tr>\n",
       "      <th>16</th>\n",
       "      <td>SVC</td>\n",
       "      <td>0.222222</td>\n",
       "      <td>0.289881</td>\n",
       "      <td>0.428571</td>\n",
       "      <td>0.0866428</td>\n",
       "      <td>0.1</td>\n",
       "      <td>0.0001</td>\n",
       "      <td>rbf</td>\n",
       "      <td>NaN</td>\n",
       "    </tr>\n",
       "    <tr>\n",
       "      <th>17</th>\n",
       "      <td>SVC</td>\n",
       "      <td>0.222222</td>\n",
       "      <td>0.289881</td>\n",
       "      <td>0.428571</td>\n",
       "      <td>0.0866428</td>\n",
       "      <td>0.1</td>\n",
       "      <td>0.001</td>\n",
       "      <td>rbf</td>\n",
       "      <td>NaN</td>\n",
       "    </tr>\n",
       "    <tr>\n",
       "      <th>18</th>\n",
       "      <td>SVC</td>\n",
       "      <td>0.222222</td>\n",
       "      <td>0.289881</td>\n",
       "      <td>0.428571</td>\n",
       "      <td>0.0866428</td>\n",
       "      <td>0.1</td>\n",
       "      <td>0.01</td>\n",
       "      <td>rbf</td>\n",
       "      <td>NaN</td>\n",
       "    </tr>\n",
       "    <tr>\n",
       "      <th>19</th>\n",
       "      <td>SVC</td>\n",
       "      <td>0.222222</td>\n",
       "      <td>0.289881</td>\n",
       "      <td>0.428571</td>\n",
       "      <td>0.0866428</td>\n",
       "      <td>0.1</td>\n",
       "      <td>0.1</td>\n",
       "      <td>rbf</td>\n",
       "      <td>NaN</td>\n",
       "    </tr>\n",
       "    <tr>\n",
       "      <th>21</th>\n",
       "      <td>SVC</td>\n",
       "      <td>0.222222</td>\n",
       "      <td>0.289881</td>\n",
       "      <td>0.428571</td>\n",
       "      <td>0.0866428</td>\n",
       "      <td>0.1</td>\n",
       "      <td>10</td>\n",
       "      <td>rbf</td>\n",
       "      <td>NaN</td>\n",
       "    </tr>\n",
       "    <tr>\n",
       "      <th>20</th>\n",
       "      <td>SVC</td>\n",
       "      <td>0.222222</td>\n",
       "      <td>0.289881</td>\n",
       "      <td>0.428571</td>\n",
       "      <td>0.0866428</td>\n",
       "      <td>0.1</td>\n",
       "      <td>1</td>\n",
       "      <td>rbf</td>\n",
       "      <td>NaN</td>\n",
       "    </tr>\n",
       "  </tbody>\n",
       "</table>\n",
       "<p>78 rows × 9 columns</p>\n",
       "</div>"
      ],
      "text/plain": [
       "       estimator min_score mean_score max_score  std_score       C   gamma  \\\n",
       "70           SVC  0.444444   0.625198  0.888889   0.149568   1e+06   1e-06   \n",
       "42           SVC  0.333333   0.614087  0.888889   0.165827     100    0.01   \n",
       "49           SVC  0.333333   0.614087  0.888889   0.165827    1000   0.001   \n",
       "56           SVC  0.333333   0.614087  0.888889   0.165827   10000  0.0001   \n",
       "63           SVC  0.333333   0.614087  0.888889   0.165827  100000   1e-05   \n",
       "28           SVC  0.222222   0.587302  0.888889   0.205094       1       1   \n",
       "35           SVC  0.333333   0.577579  0.888889   0.181338      10     0.1   \n",
       "0   RandomForest  0.333333   0.575198  0.857143   0.194003     NaN     NaN   \n",
       "8            SVC  0.333333   0.572024  0.857143   0.177634      10     NaN   \n",
       "4   RandomForest  0.222222   0.569643  0.857143   0.182195     NaN     NaN   \n",
       "3   RandomForest  0.222222   0.566468  0.777778   0.181305     NaN     NaN   \n",
       "27           SVC  0.333333   0.565873         1   0.205494       1     0.1   \n",
       "2   RandomForest  0.333333    0.56369  0.777778   0.175396     NaN     NaN   \n",
       "34           SVC  0.333333   0.553968  0.777778   0.143069      10    0.01   \n",
       "41           SVC  0.333333   0.553968  0.777778   0.143069     100   0.001   \n",
       "48           SVC  0.333333   0.553968  0.777778   0.143069    1000  0.0001   \n",
       "55           SVC  0.333333   0.553968  0.777778   0.143069   10000   1e-05   \n",
       "62           SVC  0.333333   0.553968  0.777778   0.143069  100000   1e-06   \n",
       "5   RandomForest  0.222222   0.552183  0.777778   0.159833     NaN     NaN   \n",
       "6            SVC  0.333333   0.551587  0.857143   0.177935     0.1     NaN   \n",
       "7            SVC  0.333333   0.551587  0.857143   0.170856       1     NaN   \n",
       "67           SVC  0.333333   0.550794  0.777778   0.138523  100000     0.1   \n",
       "75           SVC  0.333333   0.550794  0.777778   0.138523   1e+06     0.1   \n",
       "51           SVC  0.333333   0.550794  0.777778   0.138523    1000     0.1   \n",
       "59           SVC  0.333333   0.550794  0.777778   0.138523   10000     0.1   \n",
       "1   RandomForest  0.222222   0.548413  0.888889    0.20873     NaN     NaN   \n",
       "71           SVC  0.333333   0.548413  0.857143   0.174258   1e+06   1e-05   \n",
       "64           SVC  0.333333   0.548413  0.857143   0.174258  100000  0.0001   \n",
       "57           SVC  0.333333   0.548413  0.857143   0.174258   10000   0.001   \n",
       "69           SVC  0.333333   0.540675  0.777778   0.148275  100000      10   \n",
       "..           ...       ...        ...       ...        ...     ...     ...   \n",
       "74           SVC  0.333333   0.510516  0.777778    0.16124   1e+06    0.01   \n",
       "73           SVC  0.333333   0.507341  0.777778   0.148234   1e+06   0.001   \n",
       "11           SVC  0.333333   0.507341  0.777778   0.148234   10000     NaN   \n",
       "13           SVC  0.333333   0.507341  0.777778   0.148234   1e+06     NaN   \n",
       "12           SVC  0.333333   0.507341  0.777778   0.148234  100000     NaN   \n",
       "10           SVC  0.333333   0.507341  0.777778   0.148234    1000     NaN   \n",
       "40           SVC  0.222222   0.463492  0.666667   0.117835     100  0.0001   \n",
       "29           SVC  0.222222   0.462897  0.714286   0.149209       1      10   \n",
       "54           SVC  0.333333   0.416667  0.666667   0.116277   10000   1e-06   \n",
       "47           SVC  0.333333   0.389881  0.666667  0.0995045    1000   1e-05   \n",
       "46           SVC  0.333333   0.389881  0.666667  0.0995045    1000   1e-06   \n",
       "30           SVC  0.333333   0.373214       0.5  0.0563468      10   1e-06   \n",
       "32           SVC  0.333333   0.373214       0.5  0.0563468      10  0.0001   \n",
       "31           SVC  0.333333   0.373214       0.5  0.0563468      10   1e-05   \n",
       "33           SVC  0.333333   0.370833  0.571429   0.073098      10   0.001   \n",
       "22           SVC  0.166667   0.362103  0.555556  0.0942126       1   1e-06   \n",
       "24           SVC  0.166667   0.362103  0.555556  0.0942126       1  0.0001   \n",
       "25           SVC  0.166667   0.362103  0.555556  0.0942126       1   0.001   \n",
       "26           SVC  0.166667   0.362103  0.555556  0.0942126       1    0.01   \n",
       "23           SVC  0.166667   0.362103  0.555556  0.0942126       1   1e-05   \n",
       "39           SVC  0.222222   0.306548       0.5    0.10703     100   1e-05   \n",
       "38           SVC  0.222222   0.306548       0.5    0.10703     100   1e-06   \n",
       "14           SVC  0.222222   0.289881  0.428571  0.0866428     0.1   1e-06   \n",
       "15           SVC  0.222222   0.289881  0.428571  0.0866428     0.1   1e-05   \n",
       "16           SVC  0.222222   0.289881  0.428571  0.0866428     0.1  0.0001   \n",
       "17           SVC  0.222222   0.289881  0.428571  0.0866428     0.1   0.001   \n",
       "18           SVC  0.222222   0.289881  0.428571  0.0866428     0.1    0.01   \n",
       "19           SVC  0.222222   0.289881  0.428571  0.0866428     0.1     0.1   \n",
       "21           SVC  0.222222   0.289881  0.428571  0.0866428     0.1      10   \n",
       "20           SVC  0.222222   0.289881  0.428571  0.0866428     0.1       1   \n",
       "\n",
       "    kernel n_estimators  \n",
       "70     rbf          NaN  \n",
       "42     rbf          NaN  \n",
       "49     rbf          NaN  \n",
       "56     rbf          NaN  \n",
       "63     rbf          NaN  \n",
       "28     rbf          NaN  \n",
       "35     rbf          NaN  \n",
       "0      NaN           10  \n",
       "8   linear          NaN  \n",
       "4      NaN           18  \n",
       "3      NaN           16  \n",
       "27     rbf          NaN  \n",
       "2      NaN           14  \n",
       "34     rbf          NaN  \n",
       "41     rbf          NaN  \n",
       "48     rbf          NaN  \n",
       "55     rbf          NaN  \n",
       "62     rbf          NaN  \n",
       "5      NaN           20  \n",
       "6   linear          NaN  \n",
       "7   linear          NaN  \n",
       "67     rbf          NaN  \n",
       "75     rbf          NaN  \n",
       "51     rbf          NaN  \n",
       "59     rbf          NaN  \n",
       "1      NaN           12  \n",
       "71     rbf          NaN  \n",
       "64     rbf          NaN  \n",
       "57     rbf          NaN  \n",
       "69     rbf          NaN  \n",
       "..     ...          ...  \n",
       "74     rbf          NaN  \n",
       "73     rbf          NaN  \n",
       "11  linear          NaN  \n",
       "13  linear          NaN  \n",
       "12  linear          NaN  \n",
       "10  linear          NaN  \n",
       "40     rbf          NaN  \n",
       "29     rbf          NaN  \n",
       "54     rbf          NaN  \n",
       "47     rbf          NaN  \n",
       "46     rbf          NaN  \n",
       "30     rbf          NaN  \n",
       "32     rbf          NaN  \n",
       "31     rbf          NaN  \n",
       "33     rbf          NaN  \n",
       "22     rbf          NaN  \n",
       "24     rbf          NaN  \n",
       "25     rbf          NaN  \n",
       "26     rbf          NaN  \n",
       "23     rbf          NaN  \n",
       "39     rbf          NaN  \n",
       "38     rbf          NaN  \n",
       "14     rbf          NaN  \n",
       "15     rbf          NaN  \n",
       "16     rbf          NaN  \n",
       "17     rbf          NaN  \n",
       "18     rbf          NaN  \n",
       "19     rbf          NaN  \n",
       "21     rbf          NaN  \n",
       "20     rbf          NaN  \n",
       "\n",
       "[78 rows x 9 columns]"
      ]
     },
     "execution_count": 102,
     "metadata": {},
     "output_type": "execute_result"
    }
   ],
   "source": [
    "# Compare performance for estimators (accuracy)\n",
    "helper.score_summary(sort_by='mean_score')"
   ]
  },
  {
   "cell_type": "markdown",
   "metadata": {},
   "source": [
    "# SVC Models"
   ]
  },
  {
   "cell_type": "markdown",
   "metadata": {},
   "source": [
    "The SVC-RBF was the best performing classifer for the above test, as well as past implementations of model selection on this data. Therefore, it is used in all subsequent model testing."
   ]
  },
  {
   "cell_type": "markdown",
   "metadata": {
    "ExecuteTime": {
     "end_time": "2018-10-22T17:34:55.421515Z",
     "start_time": "2018-10-22T17:34:55.417186Z"
    },
    "collapsed": true
   },
   "source": [
    "## Functions"
   ]
  },
  {
   "cell_type": "markdown",
   "metadata": {},
   "source": [
    "The following code runs a pipeline that normalizes features on a 0 to 1 scale, then performs SVC-RBF using 10-fold cross-validation on all of the augmented and non-augmented dfs. Model parameters are optimized using a grid search, with the optional aid of a contour plot to visualize accuracy over the grid of parameter options."
   ]
  },
  {
   "cell_type": "code",
   "execution_count": 122,
   "metadata": {
    "ExecuteTime": {
     "end_time": "2019-02-26T21:25:14.584239Z",
     "start_time": "2019-02-26T21:25:14.368055Z"
    },
    "collapsed": true
   },
   "outputs": [],
   "source": [
    "# TODO: see if I can get CV to shuffle and if that makes a difference\n",
    "\n",
    "# Define function to optimize and perform SVC-RBF with all features\n",
    "# (normalized), accuracy scoring\n",
    "\n",
    "from sklearn.pipeline import Pipeline\n",
    "from sklearn.model_selection import GridSearchCV\n",
    "from sklearn.model_selection import GroupKFold\n",
    "from sklearn.preprocessing import MinMaxScaler\n",
    "from sklearn.svm import SVC\n",
    "\n",
    "def gridsearch_svcrbf(X_training, \n",
    "                      y_training,\n",
    "                      num_c=9, \n",
    "                      num_gamma=9,\n",
    "                      param_log_abs_max=7,\n",
    "                      param_log_abs_min=1,\n",
    "                      match_group=None,\n",
    "                      plot_contour=False):\n",
    "    \"\"\"\n",
    "    This function searches the specified grid of C and gamma values \n",
    "    for the optimal parameter values with which to run SVC-RBF,\n",
    "    then returns the best values based on validation accuracy. \n",
    "    \n",
    "    Parameters\n",
    "    ----------\n",
    "    param_log_abs_max: \n",
    "        the absolute value of the largest and smallest integer \n",
    "        for defining logspace for C and gamma, respectively\n",
    "    param_log_abs_min: \n",
    "        the absolute value of the smallest and largest integer \n",
    "        for defining logspace for C and gamma, respectively    \n",
    "    match_group: \n",
    "        the array of ENM indices that augmented data were matched \n",
    "        to; applicable only to dfs with matching augmentation\n",
    "        to prevent data leaking\n",
    "    plot_contour: \n",
    "        `True` will plot accuracy as contour lines on the \n",
    "        specified parameter grid.\n",
    "        \n",
    "    \"\"\"      \n",
    "    \n",
    "    # Pipeline to run normalization then SVC-RBF\n",
    "    seed = random.randint(1,100)\n",
    "    prepipe = Pipeline([\n",
    "        ('scale', MinMaxScaler()),\n",
    "        ('estimator', SVC(kernel='rbf', \n",
    "                          class_weight='balanced', \n",
    "                          random_state=seed))\n",
    "    ])\n",
    "    \n",
    "    # Set what kind of stratified k-fold CV to run\n",
    "    num_folds = 10\n",
    "    if np.all(match_group == None):\n",
    "        cv = num_folds\n",
    "    else: \n",
    "        gfk = GroupKFold(n_splits=num_folds)\n",
    "        gfk.random_state=seed\n",
    "        cv = gfk.split(X_training, y_training, match_group)\n",
    "\n",
    "    # Grid search with CV to find best model parameters\n",
    "    n_jobs = 3\n",
    "    c_set, = np.logspace(-param_log_abs_min, param_log_abs_max, num_c), \n",
    "    gamma_set = np.logspace(-param_log_abs_max, param_log_abs_min, num_gamma)\n",
    "    param_grid = {'estimator__C': c_set,\n",
    "                  'estimator__gamma': gamma_set\n",
    "                 }\n",
    "    grid_search = GridSearchCV(prepipe, \n",
    "                               param_grid, \n",
    "                               cv=cv, \n",
    "                               scoring='accuracy', \n",
    "                               n_jobs=n_jobs, \n",
    "                               pre_dispatch=2*n_jobs)\n",
    "    grid_search.fit(X_training, y_training)\n",
    "    C = grid_search.best_params_.get('estimator__C')\n",
    "    gamma = grid_search.best_params_.get('estimator__gamma')\n",
    "    \n",
    "    print(grid_search.best_params_)\n",
    "    print('K-fold CV random state: ', seed)\n",
    "    print('Best fold',grid_search.scoring, ':    ',grid_search.best_score_)\n",
    "    \n",
    "    # Optional contour plot\n",
    "    if plot_contour:\n",
    "        test_scores = np.reshape(grid_search.cv_results_.get('mean_test_score'), \n",
    "                                 newshape=[-1, num_gamma])\n",
    "        fig = plt.figure()\n",
    "        plt.contour(np.log10(gamma_set), \n",
    "                    np.log10(c_set), \n",
    "                    test_scores)\n",
    "        plt.title('Accuracy over parameter grid')\n",
    "        plt.xlabel('log_10(gamma)')\n",
    "        plt.ylabel('log_10(C)')\n",
    "        plt.colorbar()\n",
    "        plt.show()\n",
    "    \n",
    "    # Play sound when done running\n",
    "    display(Audio(url=sound_file, autoplay=True))\n",
    "    \n",
    "    return C, gamma"
   ]
  },
  {
   "cell_type": "markdown",
   "metadata": {},
   "source": [
    "The final pipeline (trained using augmented data) is tested on the original ENM data using stratified cross-validation with n_folds = n_samples in the smallest WF bin--essentially leave-one-out cv (discussed earlier). A confusion matrix summarizes accuracy results according to each WF bin category. The average normalized accuracy across all bins is then calculated from the confusion matrix and written to a results table for every data set.\n",
    "\n",
    "To REALLY minimize the potential for bias/overfitting, I could try nested cv."
   ]
  },
  {
   "cell_type": "code",
   "execution_count": 98,
   "metadata": {
    "ExecuteTime": {
     "end_time": "2019-02-26T09:18:41.259458Z",
     "start_time": "2019-02-26T09:18:41.206615Z"
    },
    "collapsed": true
   },
   "outputs": [],
   "source": [
    "# Define a confusion matrix function to plot model \n",
    "# accuracy across label bins\n",
    "\n",
    "from sklearn.metrics import confusion_matrix\n",
    "import itertools\n",
    "\n",
    "def plot_confusion_matrix(cm, classes,\n",
    "                          normalize=False,\n",
    "                          title='Confusion matrix',\n",
    "                          cmap=plt.cm.Blues):\n",
    "    \"\"\"\n",
    "    This function prints and plots the confusion matrix.\n",
    "    Normalization can be applied by setting `normalize=True`.\n",
    "    Adapted from:\n",
    "    http://scikit-learn.org/stable/auto_examples/model_selection/plot_confusion_matrix.html\n",
    "    \"\"\"\n",
    "    \n",
    "    if normalize:\n",
    "        cm = cm.astype('float') / cm.sum(axis=1)[:, np.newaxis]\n",
    "        print(\"Normalized confusion matrix\")\n",
    "    else:\n",
    "        print('Confusion matrix, without normalization')\n",
    "\n",
    "    print(cm)\n",
    "\n",
    "    plt.imshow(cm, interpolation='nearest', cmap=cmap)\n",
    "    plt.title(title)\n",
    "    plt.colorbar()\n",
    "    tick_marks = np.arange(len(classes))\n",
    "    plt.xticks(tick_marks, classes, rotation=45)\n",
    "    plt.yticks(tick_marks, classes)\n",
    "\n",
    "    fmt = '.2f' if normalize else 'd'\n",
    "    thresh = cm.max() / 2.\n",
    "    for i, j in itertools.product(range(cm.shape[0]), range(cm.shape[1])):\n",
    "        plt.text(j, i, format(cm[i, j], fmt),\n",
    "                 horizontalalignment=\"center\",\n",
    "                 color=\"white\" if cm[i, j] > thresh else \"black\")\n",
    "        \n",
    "    plt.gcf().subplots_adjust(bottom=0.2)\n",
    "    plt.ylabel('True weight fraction')\n",
    "    plt.xlabel('Predicted weight fraction')"
   ]
  },
  {
   "cell_type": "code",
   "execution_count": 99,
   "metadata": {
    "ExecuteTime": {
     "end_time": "2019-02-26T09:18:41.946044Z",
     "start_time": "2019-02-26T09:18:41.831311Z"
    },
    "collapsed": true
   },
   "outputs": [],
   "source": [
    "# Define a function for cross-validation within the confusion matrices\n",
    "\n",
    "from sklearn import model_selection\n",
    "from sklearn.metrics import confusion_matrix\n",
    "\n",
    "def confusion_matrix_cv(X_training, \n",
    "                        y_training, \n",
    "                        file_name,\n",
    "                        X_testing=X_enm, \n",
    "                        y_testing=bin_enm,\n",
    "                        hide_plot=True):\n",
    "    \"\"\"\n",
    "    This function tests a pipeline using stratified\n",
    "    k-fold cross validation and summarizes the results \n",
    "    in a confusion matrix broken down by target bins.\n",
    "    Matrices are saved as .png files, which are printed\n",
    "    if hide_plot=`False`.\n",
    "    \"\"\"        \n",
    "    \n",
    "    # Fit optimized pipeline to training data\n",
    "    seed = random.randint(1,100)\n",
    "    bestpipe = Pipeline([\n",
    "        ('scale', MinMaxScaler()),\n",
    "        ('estimator', SVC(kernel='rbf', \n",
    "                          class_weight='balanced', \n",
    "                          C=C, \n",
    "                          gamma=gamma, \n",
    "                          random_state=seed))\n",
    "    ])\n",
    "    bestpipe.fit(X_training,y_training)\n",
    "    \n",
    "    # Cross-validation for confusion matrix\n",
    "    X = np.array(X_testing)\n",
    "    y = np.array(y_testing)\n",
    "    kfold = model_selection.StratifiedKFold(n_splits=17, \n",
    "                                            shuffle=True, \n",
    "                                            random_state=seed)\n",
    "    cnf_matrix = np.zeros([3,3])\n",
    "    \n",
    "    for train_index,test_index in kfold.split(X,y):\n",
    "        X_train, X_test = X[train_index], X[test_index]\n",
    "        y_train, y_test = y[train_index], y[test_index]\n",
    "        y_enm_predict = bestpipe.predict(X_test)\n",
    "        y[test_index] = y_enm_predict\n",
    "        cnf_matrix += confusion_matrix(y_test, y_enm_predict)\n",
    "        \n",
    "    cnf_matrix = cnf_matrix.astype(np.int)\n",
    "    np.set_printoptions(precision=2)\n",
    "    class_names = [\"low\",\"mid\",\"high\"]\n",
    "\n",
    "    # Plot and save non-normalized confusion matrix\n",
    "    fig = plt.figure()\n",
    "    plot_confusion_matrix(cnf_matrix, classes=class_names, normalize=False)\n",
    "    fig.savefig('./BLTfigs/confusion_notnorm_%s.png' % file_name)\n",
    "    if hide_plot: plt.close(fig)\n",
    "\n",
    "    # Plot and save normalized confusion matrix\n",
    "    fig = plt.figure()\n",
    "    plot_confusion_matrix(cnf_matrix, classes=class_names, normalize=True)\n",
    "    fig.savefig('./BLTfigs/confusion_norm_%s.png' % file_name)\n",
    "    if hide_plot: plt.close(fig)\n",
    "    \n",
    "    # Calculate the average normalized accuracy across all bins\n",
    "    cm_norm = cnf_matrix.astype('float') / cnf_matrix.sum(axis=1)[:, np.newaxis]\n",
    "    avg_norm = (cm_norm[0,0] + cm_norm[1,1] + cm_norm[2,2]) / 3\n",
    "    \n",
    "    print('Average normalized accuracy: ', avg_norm)\n",
    "    print('K-fold CV random state:      ', seed)\n",
    "    \n",
    "    return avg_norm"
   ]
  },
  {
   "cell_type": "markdown",
   "metadata": {},
   "source": [
    "## ENM-only"
   ]
  },
  {
   "cell_type": "markdown",
   "metadata": {},
   "source": [
    "Using the functions defined above:"
   ]
  },
  {
   "cell_type": "code",
   "execution_count": 118,
   "metadata": {
    "ExecuteTime": {
     "end_time": "2019-02-26T21:18:47.661062Z",
     "start_time": "2019-02-26T21:18:39.399054Z"
    }
   },
   "outputs": [
    {
     "name": "stdout",
     "output_type": "stream",
     "text": [
      "{'estimator__C': 1000000.0, 'estimator__gamma': 1e-06}\n",
      "K-fold CV random state:  10\n",
      "Best fold accuracy :     0.6219512195121951\n"
     ]
    },
    {
     "data": {
      "image/png": "[encoded data removed]",
      "text/plain": [
       "<Figure size 432x288 with 2 Axes>"
      ]
     },
     "metadata": {},
     "output_type": "display_data"
    },
    {
     "data": {
      "text/html": [
       "\n",
       "                <audio controls=\"controls\" autoplay=\"autoplay\">\n",
       "                    <source src=\"./data/Glass.wav\" type=\"audio/x-wav\" />\n",
       "                    Your browser does not support the audio element.\n",
       "                </audio>\n",
       "              "
      ],
      "text/plain": [
       "<IPython.lib.display.Audio object>"
      ]
     },
     "metadata": {},
     "output_type": "display_data"
    },
    {
     "name": "stdout",
     "output_type": "stream",
     "text": [
      "Confusion matrix, without normalization\n",
      "[[33  1  2]\n",
      " [ 9 17  3]\n",
      " [ 2  0 15]]\n",
      "Normalized confusion matrix\n",
      "[[0.92 0.03 0.06]\n",
      " [0.31 0.59 0.1 ]\n",
      " [0.12 0.   0.88]]\n",
      "Average normalized accuracy:  0.7950755014649538\n",
      "K-fold CV random state:       38\n"
     ]
    },
    {
     "data": {
      "image/png": "[encoded data removed]",
      "text/plain": [
       "<Figure size 432x288 with 2 Axes>"
      ]
     },
     "metadata": {},
     "output_type": "display_data"
    },
    {
     "data": {
      "image/png": "[encoded data removed]",
      "text/plain": [
       "<Figure size 432x288 with 2 Axes>"
      ]
     },
     "metadata": {},
     "output_type": "display_data"
    }
   ],
   "source": [
    "# Get optimized parameters for SVC-RBF\n",
    "C, gamma = gridsearch_svcrbf(X_training=X_enm, \n",
    "                             y_training=bin_enm,\n",
    "                             num_c=17,\n",
    "                             num_gamma=17,\n",
    "                             plot_contour=True)\n",
    "\n",
    "# Apply SVC-RBF model; summarize performance in confusion matrices;\n",
    "# Assign the normalized average accuracy to results table\n",
    "results_df.loc[results_df['ENM-Organics-Ratio']=='1:0',\n",
    "               'Random-Augment-A'] = confusion_matrix_cv(X_training=X_enm, \n",
    "                                                         y_training=bin_enm, \n",
    "                                                         file_name='enm_only', \n",
    "                                                         hide_plot=False)"
   ]
  },
  {
   "cell_type": "code",
   "execution_count": 213,
   "metadata": {
    "ExecuteTime": {
     "end_time": "2019-02-26T07:53:34.588502Z",
     "start_time": "2019-02-26T07:53:32.647365Z"
    }
   },
   "outputs": [
    {
     "name": "stdout",
     "output_type": "stream",
     "text": [
      "{'estimator__C': 1000000.0, 'estimator__gamma': 1e-06}\n",
      "K-fold CV random state:  31\n",
      "Best fold accuracy :     0.6219512195121951\n"
     ]
    },
    {
     "data": {
      "text/html": [
       "\n",
       "                <audio controls=\"controls\" autoplay=\"autoplay\">\n",
       "                    <source src=\"./data/Glass.wav\" type=\"audio/x-wav\" />\n",
       "                    Your browser does not support the audio element.\n",
       "                </audio>\n",
       "              "
      ],
      "text/plain": [
       "<IPython.lib.display.Audio object>"
      ]
     },
     "metadata": {},
     "output_type": "display_data"
    },
    {
     "name": "stdout",
     "output_type": "stream",
     "text": [
      "Confusion matrix, without normalization\n",
      "[[33  1  2]\n",
      " [ 9 17  3]\n",
      " [ 2  0 15]]\n",
      "Normalized confusion matrix\n",
      "[[0.92 0.03 0.06]\n",
      " [0.31 0.59 0.1 ]\n",
      " [0.12 0.   0.88]]\n",
      "Average normalized accuracy:  0.7950755014649538\n",
      "K-fold CV random state:       94\n"
     ]
    },
    {
     "data": {
      "text/plain": [
       "0.7950755014649538"
      ]
     },
     "execution_count": 213,
     "metadata": {},
     "output_type": "execute_result"
    }
   ],
   "source": [
    "# Rerun to see if there is variance\n",
    "C, gamma = gridsearch_svcrbf(X_training=X_enm, \n",
    "                             y_training=bin_enm)\n",
    "\n",
    "confusion_matrix_cv(X_training=X_enm, \n",
    "                    y_training=bin_enm, \n",
    "                    file_name='enm_only')"
   ]
  },
  {
   "cell_type": "code",
   "execution_count": 387,
   "metadata": {
    "ExecuteTime": {
     "end_time": "2019-02-22T09:55:29.683701Z",
     "start_time": "2019-02-22T09:55:27.565848Z"
    }
   },
   "outputs": [
    {
     "name": "stdout",
     "output_type": "stream",
     "text": [
      "{'estimator__C': 1000000.0, 'estimator__gamma': 1e-06}\n",
      "K-fold CV random state:  3\n",
      "Best fold accuracy :     0.6219512195121951\n"
     ]
    },
    {
     "data": {
      "text/html": [
       "\n",
       "                <audio controls=\"controls\" autoplay=\"autoplay\">\n",
       "                    <source src=\"./data/Glass.wav\" type=\"audio/x-wav\" />\n",
       "                    Your browser does not support the audio element.\n",
       "                </audio>\n",
       "              "
      ],
      "text/plain": [
       "<IPython.lib.display.Audio object>"
      ]
     },
     "metadata": {},
     "output_type": "display_data"
    },
    {
     "name": "stdout",
     "output_type": "stream",
     "text": [
      "Confusion matrix, without normalization\n",
      "[[33  1  2]\n",
      " [ 9 17  3]\n",
      " [ 2  0 15]]\n",
      "Normalized confusion matrix\n",
      "[[0.92 0.03 0.06]\n",
      " [0.31 0.59 0.1 ]\n",
      " [0.12 0.   0.88]]\n",
      "Average normalized accuracy:  0.7950755014649538\n",
      "K-fold CV random state:       77\n"
     ]
    },
    {
     "data": {
      "text/plain": [
       "0.7950755014649538"
      ]
     },
     "execution_count": 387,
     "metadata": {},
     "output_type": "execute_result"
    }
   ],
   "source": [
    "# Rerun again\n",
    "C, gamma = gridsearch_svcrbf(X_training=X_enm, \n",
    "                             y_training=bin_enm)\n",
    "\n",
    "confusion_matrix_cv(X_training=X_enm, \n",
    "                    y_training=bin_enm, \n",
    "                    file_name='enm_only')"
   ]
  },
  {
   "cell_type": "markdown",
   "metadata": {
    "ExecuteTime": {
     "end_time": "2019-02-20T21:12:15.676426Z",
     "start_time": "2019-02-20T21:12:15.633733Z"
    }
   },
   "source": [
    "TODO: The following cell runs is the same as above, except with a few additional values for C and gamma. Why does the classifier opt for worse-performing parameters when it still has the option of the ones above? The results were the same when the splits for CV were a set random seed."
   ]
  },
  {
   "cell_type": "code",
   "execution_count": 224,
   "metadata": {
    "ExecuteTime": {
     "end_time": "2019-02-26T08:33:00.908064Z",
     "start_time": "2019-02-26T08:32:50.345590Z"
    }
   },
   "outputs": [
    {
     "name": "stdout",
     "output_type": "stream",
     "text": [
      "{'estimator__C': 31622776.60168379, 'estimator__gamma': 3.162277660168379e-08}\n",
      "K-fold CV random state:  30\n",
      "Best fold accuracy :     0.6463414634146342\n"
     ]
    },
    {
     "data": {
      "image/png": "[encoded data removed]",
      "text/plain": [
       "<Figure size 432x288 with 2 Axes>"
      ]
     },
     "metadata": {},
     "output_type": "display_data"
    },
    {
     "data": {
      "text/html": [
       "\n",
       "                <audio controls=\"controls\" autoplay=\"autoplay\">\n",
       "                    <source src=\"./data/Glass.wav\" type=\"audio/x-wav\" />\n",
       "                    Your browser does not support the audio element.\n",
       "                </audio>\n",
       "              "
      ],
      "text/plain": [
       "<IPython.lib.display.Audio object>"
      ]
     },
     "metadata": {},
     "output_type": "display_data"
    },
    {
     "name": "stdout",
     "output_type": "stream",
     "text": [
      "Confusion matrix, without normalization\n",
      "[[30  4  2]\n",
      " [ 8 18  3]\n",
      " [ 3  2 12]]\n",
      "Normalized confusion matrix\n",
      "[[0.83 0.11 0.06]\n",
      " [0.28 0.62 0.1 ]\n",
      " [0.18 0.12 0.71]]\n",
      "Average normalized accuracy:  0.7199684471489746\n",
      "K-fold CV random state:       14\n"
     ]
    },
    {
     "data": {
      "text/plain": [
       "0.7199684471489746"
      ]
     },
     "execution_count": 224,
     "metadata": {},
     "output_type": "execute_result"
    }
   ],
   "source": [
    "C, gamma = gridsearch_svcrbf(X_training=X_enm, \n",
    "                             y_training=bin_enm,\n",
    "                             num_c=23,\n",
    "                             num_gamma=23,\n",
    "                             param_log_abs_max=10,\n",
    "                             plot_contour=True)\n",
    "\n",
    "confusion_matrix_cv(X_training=X_enm, \n",
    "                    y_training=bin_enm, \n",
    "                    file_name='enm_only2')"
   ]
  },
  {
   "cell_type": "markdown",
   "metadata": {},
   "source": [
    "## ENM-only permutations"
   ]
  },
  {
   "cell_type": "markdown",
   "metadata": {},
   "source": [
    "The following tests are performed with randomly permuted labels (ENM data only)."
   ]
  },
  {
   "cell_type": "code",
   "execution_count": 218,
   "metadata": {
    "ExecuteTime": {
     "end_time": "2019-02-26T08:21:52.318556Z",
     "start_time": "2019-02-26T08:21:50.126005Z"
    }
   },
   "outputs": [
    {
     "name": "stdout",
     "output_type": "stream",
     "text": [
      "{'estimator__C': 1000000000.0, 'estimator__gamma': 1e-09}\n",
      "K-fold CV random state:  18\n",
      "Best fold accuracy :     0.4634146341463415\n"
     ]
    },
    {
     "data": {
      "image/png": "[encoded data removed]",
      "text/plain": [
       "<Figure size 432x288 with 2 Axes>"
      ]
     },
     "metadata": {},
     "output_type": "display_data"
    },
    {
     "data": {
      "text/html": [
       "\n",
       "                <audio controls=\"controls\" autoplay=\"autoplay\">\n",
       "                    <source src=\"./data/Glass.wav\" type=\"audio/x-wav\" />\n",
       "                    Your browser does not support the audio element.\n",
       "                </audio>\n",
       "              "
      ],
      "text/plain": [
       "<IPython.lib.display.Audio object>"
      ]
     },
     "metadata": {},
     "output_type": "display_data"
    },
    {
     "name": "stdout",
     "output_type": "stream",
     "text": [
      "Confusion matrix, without normalization\n",
      "[[32  0  4]\n",
      " [19  3  7]\n",
      " [11  0  6]]\n",
      "Normalized confusion matrix\n",
      "[[0.89 0.   0.11]\n",
      " [0.66 0.1  0.24]\n",
      " [0.65 0.   0.35]]\n",
      "Average normalized accuracy:  0.4484261137405154\n",
      "K-fold CV random state:       1\n"
     ]
    }
   ],
   "source": [
    "C, gamma = gridsearch_svcrbf(X_training=X_enm, \n",
    "                             y_training=bin_enm_permuteA, \n",
    "                             num_c=7, \n",
    "                             num_gamma=7,\n",
    "                             param_log_abs_max=11,\n",
    "                             plot_contour=True)\n",
    "\n",
    "results_df.loc[results_df['ENM-Organics-Ratio']=='1:0*',\n",
    "               'Random-Augment-A'] = confusion_matrix_cv(X_training=X_enm, \n",
    "                                                        y_training=bin_enm_permuteA, \n",
    "                                                        y_testing=bin_enm_permuteA, \n",
    "                                                        file_name='enm_permuteA')"
   ]
  },
  {
   "cell_type": "code",
   "execution_count": 219,
   "metadata": {
    "ExecuteTime": {
     "end_time": "2019-02-26T08:24:19.627699Z",
     "start_time": "2019-02-26T08:24:17.046060Z"
    }
   },
   "outputs": [
    {
     "name": "stdout",
     "output_type": "stream",
     "text": [
      "{'estimator__C': 10000000.0, 'estimator__gamma': 1e-07}\n",
      "K-fold CV random state:  38\n",
      "Best fold accuracy :     0.43902439024390244\n"
     ]
    },
    {
     "data": {
      "image/png": "[encoded data removed]",
      "text/plain": [
       "<Figure size 432x288 with 2 Axes>"
      ]
     },
     "metadata": {},
     "output_type": "display_data"
    },
    {
     "data": {
      "text/html": [
       "\n",
       "                <audio controls=\"controls\" autoplay=\"autoplay\">\n",
       "                    <source src=\"./data/Glass.wav\" type=\"audio/x-wav\" />\n",
       "                    Your browser does not support the audio element.\n",
       "                </audio>\n",
       "              "
      ],
      "text/plain": [
       "<IPython.lib.display.Audio object>"
      ]
     },
     "metadata": {},
     "output_type": "display_data"
    },
    {
     "name": "stdout",
     "output_type": "stream",
     "text": [
      "Confusion matrix, without normalization\n",
      "[[26  3  7]\n",
      " [ 6 16  7]\n",
      " [ 3  1 13]]\n",
      "Normalized confusion matrix\n",
      "[[0.72 0.08 0.19]\n",
      " [0.21 0.55 0.24]\n",
      " [0.18 0.06 0.76]]\n",
      "Average normalized accuracy:  0.6795507475020659\n",
      "K-fold CV random state:       14\n"
     ]
    }
   ],
   "source": [
    "C, gamma = gridsearch_svcrbf(X_training=X_enm, \n",
    "                             y_training=bin_enm_permuteB, \n",
    "                             num_c=7, \n",
    "                             num_gamma=7,\n",
    "                             param_log_abs_max=11,\n",
    "                             plot_contour=True)\n",
    "\n",
    "results_df.loc[results_df['ENM-Organics-Ratio']=='1:0*',\n",
    "               'Random-Augment-B'] = confusion_matrix_cv(X_training=X_enm, \n",
    "                                                         y_training=bin_enm_permuteB, \n",
    "                                                         y_testing=bin_enm_permuteB, \n",
    "                                                         file_name='enm_permuteB')"
   ]
  },
  {
   "cell_type": "code",
   "execution_count": 221,
   "metadata": {
    "ExecuteTime": {
     "end_time": "2019-02-26T08:25:10.121018Z",
     "start_time": "2019-02-26T08:25:08.432175Z"
    }
   },
   "outputs": [
    {
     "name": "stdout",
     "output_type": "stream",
     "text": [
      "{'estimator__C': 1000000000.0, 'estimator__gamma': 1e-07}\n",
      "K-fold CV random state:  15\n",
      "Best fold accuracy :     0.4268292682926829\n"
     ]
    },
    {
     "data": {
      "image/png": "[encoded data removed]",
      "text/plain": [
       "<Figure size 432x288 with 2 Axes>"
      ]
     },
     "metadata": {},
     "output_type": "display_data"
    },
    {
     "data": {
      "text/html": [
       "\n",
       "                <audio controls=\"controls\" autoplay=\"autoplay\">\n",
       "                    <source src=\"./data/Glass.wav\" type=\"audio/x-wav\" />\n",
       "                    Your browser does not support the audio element.\n",
       "                </audio>\n",
       "              "
      ],
      "text/plain": [
       "<IPython.lib.display.Audio object>"
      ]
     },
     "metadata": {},
     "output_type": "display_data"
    },
    {
     "name": "stdout",
     "output_type": "stream",
     "text": [
      "Confusion matrix, without normalization\n",
      "[[23  3 10]\n",
      " [12  8  9]\n",
      " [ 6  2  9]]\n",
      "Normalized confusion matrix\n",
      "[[0.64 0.08 0.28]\n",
      " [0.41 0.28 0.31]\n",
      " [0.35 0.12 0.53]]\n",
      "Average normalized accuracy:  0.4813875741867628\n",
      "K-fold CV random state:       35\n"
     ]
    }
   ],
   "source": [
    "C, gamma = gridsearch_svcrbf(X_training=X_enm, \n",
    "                             y_training=bin_enm_permuteC, \n",
    "                             num_c=7, \n",
    "                             num_gamma=7,\n",
    "                             param_log_abs_max=11,\n",
    "                             plot_contour=True)\n",
    "\n",
    "results_df.loc[results_df['ENM-Organics-Ratio']=='1:0*',\n",
    "               'Random-Augment-C'] = confusion_matrix_cv(X_training=X_enm, \n",
    "                                                         y_training=bin_enm_permuteC, \n",
    "                                                         y_testing=bin_enm_permuteC, \n",
    "                                                         file_name='enm_permuteC')"
   ]
  },
  {
   "cell_type": "markdown",
   "metadata": {
    "collapsed": true
   },
   "source": [
    "## 1:200 ENM-organics data"
   ]
  },
  {
   "cell_type": "markdown",
   "metadata": {},
   "source": [
    "The remaining models utilize augmented training data."
   ]
  },
  {
   "cell_type": "code",
   "execution_count": 455,
   "metadata": {
    "ExecuteTime": {
     "end_time": "2019-02-22T23:13:21.846240Z",
     "start_time": "2019-02-22T13:05:05.812079Z"
    }
   },
   "outputs": [
    {
     "name": "stdout",
     "output_type": "stream",
     "text": [
      "{'estimator__C': 0.1, 'estimator__gamma': 10.0}\n",
      "K-fold CV random state:  14\n",
      "Best fold accuracy :     0.49768800194694574\n"
     ]
    },
    {
     "data": {
      "text/html": [
       "\n",
       "                <audio controls=\"controls\" autoplay=\"autoplay\">\n",
       "                    <source src=\"./data/Glass.wav\" type=\"audio/x-wav\" />\n",
       "                    Your browser does not support the audio element.\n",
       "                </audio>\n",
       "              "
      ],
      "text/plain": [
       "<IPython.lib.display.Audio object>"
      ]
     },
     "metadata": {},
     "output_type": "display_data"
    },
    {
     "name": "stdout",
     "output_type": "stream",
     "text": [
      "Confusion matrix, without normalization\n",
      "[[22 14  0]\n",
      " [ 7 20  2]\n",
      " [ 2  0 15]]\n",
      "Normalized confusion matrix\n",
      "[[0.61 0.39 0.  ]\n",
      " [0.24 0.69 0.07]\n",
      " [0.12 0.   0.88]]\n",
      "Average normalized accuracy:  0.7277064082337916\n",
      "K-fold CV random state:       100\n"
     ]
    }
   ],
   "source": [
    "C, gamma = gridsearch_svcrbf(X_training=X_all, \n",
    "                             y_training=bin_all, \n",
    "                             num_c=5, \n",
    "                             num_gamma=5)\n",
    "\n",
    "results_df.loc[results_df['ENM-Organics-Ratio']=='1:200',\n",
    "               'Random-Augment-A'] = confusion_matrix_cv(X_training=X_all, \n",
    "                                                         y_training=bin_all, \n",
    "                                                         file_name='oneto200')"
   ]
  },
  {
   "cell_type": "markdown",
   "metadata": {},
   "source": [
    "## 1:100 ENM-organics data"
   ]
  },
  {
   "cell_type": "code",
   "execution_count": 124,
   "metadata": {
    "ExecuteTime": {
     "end_time": "2019-02-26T22:09:29.903447Z",
     "start_time": "2019-02-26T21:25:35.561081Z"
    }
   },
   "outputs": [
    {
     "name": "stdout",
     "output_type": "stream",
     "text": [
      "{'estimator__C': 31.622776601683793, 'estimator__gamma': 1000.0}\n",
      "K-fold CV random state:  33\n",
      "Best fold accuracy :     0.7603235933349433\n"
     ]
    },
    {
     "data": {
      "image/png": "[encoded data removed]",
      "text/plain": [
       "<Figure size 432x288 with 2 Axes>"
      ]
     },
     "metadata": {},
     "output_type": "display_data"
    },
    {
     "data": {
      "text/html": [
       "\n",
       "                <audio controls=\"controls\" autoplay=\"autoplay\">\n",
       "                    <source src=\"./data/Glass.wav\" type=\"audio/x-wav\" />\n",
       "                    Your browser does not support the audio element.\n",
       "                </audio>\n",
       "              "
      ],
      "text/plain": [
       "<IPython.lib.display.Audio object>"
      ]
     },
     "metadata": {},
     "output_type": "display_data"
    }
   ],
   "source": [
    "C, gamma = gridsearch_svcrbf(X_training=X_oneto100a, \n",
    "                             y_training=bin_oneto100a, \n",
    "                             num_c=5, \n",
    "                             num_gamma=5,\n",
    "                             param_log_abs_max=6, \n",
    "                             param_log_abs_min=3, \n",
    "                             plot_contour=True)"
   ]
  },
  {
   "cell_type": "code",
   "execution_count": 104,
   "metadata": {
    "ExecuteTime": {
     "end_time": "2019-02-26T11:23:40.013560Z",
     "start_time": "2019-02-26T09:21:19.863838Z"
    }
   },
   "outputs": [
    {
     "name": "stdout",
     "output_type": "stream",
     "text": [
      "{'estimator__C': 100000.0, 'estimator__gamma': 10.0}\n",
      "K-fold CV random state:  75\n",
      "Best fold accuracy :     0.7576672301376479\n"
     ]
    },
    {
     "data": {
      "image/png": "[encoded data removed]",
      "text/plain": [
       "<Figure size 432x288 with 2 Axes>"
      ]
     },
     "metadata": {},
     "output_type": "display_data"
    },
    {
     "data": {
      "text/html": [
       "\n",
       "                <audio controls=\"controls\" autoplay=\"autoplay\">\n",
       "                    <source src=\"./data/Glass.wav\" type=\"audio/x-wav\" />\n",
       "                    Your browser does not support the audio element.\n",
       "                </audio>\n",
       "              "
      ],
      "text/plain": [
       "<IPython.lib.display.Audio object>"
      ]
     },
     "metadata": {},
     "output_type": "display_data"
    },
    {
     "name": "stdout",
     "output_type": "stream",
     "text": [
      "Confusion matrix, without normalization\n",
      "[[36  0  0]\n",
      " [ 7 20  2]\n",
      " [ 2  0 15]]\n",
      "Normalized confusion matrix\n",
      "[[1.   0.   0.  ]\n",
      " [0.24 0.69 0.07]\n",
      " [0.12 0.   0.88]]\n",
      "Average normalized accuracy:  0.8573360378634213\n",
      "K-fold CV random state:       67\n"
     ]
    }
   ],
   "source": [
    "C, gamma = gridsearch_svcrbf(X_training=X_oneto100a, \n",
    "                             y_training=bin_oneto100a, \n",
    "                             num_c=5, \n",
    "                             num_gamma=5,\n",
    "                             plot_contour=True)\n",
    "\n",
    "results_df.loc[results_df['ENM-Organics-Ratio']=='1:100',\n",
    "               'Random-Augment-A'] = confusion_matrix_cv(X_training=X_oneto100a, \n",
    "                                                         y_training=bin_oneto100a, \n",
    "                                                         file_name='oneto100a')"
   ]
  },
  {
   "cell_type": "code",
   "execution_count": 105,
   "metadata": {
    "ExecuteTime": {
     "end_time": "2019-02-26T13:28:13.096832Z",
     "start_time": "2019-02-26T11:23:40.031290Z"
    }
   },
   "outputs": [
    {
     "name": "stdout",
     "output_type": "stream",
     "text": [
      "{'estimator__C': 100000.0, 'estimator__gamma': 10.0}\n",
      "K-fold CV random state:  18\n",
      "Best fold accuracy :     0.7631007003139338\n"
     ]
    },
    {
     "data": {
      "text/html": [
       "\n",
       "                <audio controls=\"controls\" autoplay=\"autoplay\">\n",
       "                    <source src=\"./data/Glass.wav\" type=\"audio/x-wav\" />\n",
       "                    Your browser does not support the audio element.\n",
       "                </audio>\n",
       "              "
      ],
      "text/plain": [
       "<IPython.lib.display.Audio object>"
      ]
     },
     "metadata": {},
     "output_type": "display_data"
    },
    {
     "name": "stdout",
     "output_type": "stream",
     "text": [
      "Confusion matrix, without normalization\n",
      "[[36  0  0]\n",
      " [ 7 20  2]\n",
      " [ 2  0 15]]\n",
      "Normalized confusion matrix\n",
      "[[1.   0.   0.  ]\n",
      " [0.24 0.69 0.07]\n",
      " [0.12 0.   0.88]]\n",
      "Average normalized accuracy:  0.8573360378634213\n",
      "K-fold CV random state:       24\n"
     ]
    }
   ],
   "source": [
    "C, gamma = gridsearch_svcrbf(X_training=X_oneto100b, \n",
    "                             y_training=bin_oneto100b, \n",
    "                             num_c=5, \n",
    "                             num_gamma=5)\n",
    "\n",
    "results_df.loc[results_df['ENM-Organics-Ratio']=='1:100',\n",
    "               'Random-Augment-B'] = confusion_matrix_cv(X_training=X_oneto100b, \n",
    "                                                         y_training=bin_oneto100b, \n",
    "                                                         file_name='oneto100b')"
   ]
  },
  {
   "cell_type": "code",
   "execution_count": 143,
   "metadata": {
    "ExecuteTime": {
     "end_time": "2019-02-13T12:17:52.933916Z",
     "start_time": "2019-02-13T07:31:33.161692Z"
    }
   },
   "outputs": [
    {
     "name": "stdout",
     "output_type": "stream",
     "text": [
      "{'estimator__C': 63095.73444801943, 'estimator__gamma': 10.0}\n",
      "accuracy\n",
      "0.7503018594542381\n"
     ]
    },
    {
     "data": {
      "text/html": [
       "\n",
       "                <audio controls=\"controls\" autoplay=\"autoplay\">\n",
       "                    <source src=\"./data/Glass.wav\" type=\"audio/x-wav\" />\n",
       "                    Your browser does not support the audio element.\n",
       "                </audio>\n",
       "              "
      ],
      "text/plain": [
       "<IPython.lib.display.Audio object>"
      ]
     },
     "metadata": {},
     "output_type": "display_data"
    },
    {
     "name": "stdout",
     "output_type": "stream",
     "text": [
      "Confusion matrix, without normalization\n",
      "[[36  0  0]\n",
      " [ 7 20  2]\n",
      " [ 2  0 15]]\n",
      "Normalized confusion matrix\n",
      "[[1.   0.   0.  ]\n",
      " [0.24 0.69 0.07]\n",
      " [0.12 0.   0.88]]\n"
     ]
    },
    {
     "data": {
      "image/png": "[encoded data removed]",
      "text/plain": [
       "<Figure size 432x288 with 2 Axes>"
      ]
     },
     "metadata": {},
     "output_type": "display_data"
    },
    {
     "data": {
      "image/png": "[encoded data removed]",
      "text/plain": [
       "<Figure size 432x288 with 2 Axes>"
      ]
     },
     "metadata": {},
     "output_type": "display_data"
    },
    {
     "name": "stdout",
     "output_type": "stream",
     "text": [
      "Average normalized accuracy:  0.8573360378634213\n"
     ]
    }
   ],
   "source": [
    "C, gamma = gridsearch_svcrbf(X_training=X_oneto100c, \n",
    "                             y_training=bin_oneto100c, \n",
    "                             c_set = np.logspace(-1,6,8), \n",
    "                             gamma_set = np.logspace(-6,1,8))\n",
    "\n",
    "results_df.loc[results_df['ENM-Organics-Ratio']=='1:100',\n",
    "               'Random-Augment-C'] = confusion_matrix_cv(X_training=X_oneto100c, \n",
    "                                                         y_training=bin_oneto100c, \n",
    "                                                         file_name='oneto100c')"
   ]
  },
  {
   "cell_type": "markdown",
   "metadata": {},
   "source": [
    "## 1:50 ENM-organics data"
   ]
  },
  {
   "cell_type": "code",
   "execution_count": 108,
   "metadata": {
    "ExecuteTime": {
     "end_time": "2019-02-26T17:53:51.151829Z",
     "start_time": "2019-02-26T17:25:01.788748Z"
    }
   },
   "outputs": [
    {
     "name": "stdout",
     "output_type": "stream",
     "text": [
      "{'estimator__C': 100000.0, 'estimator__gamma': 10.0}\n",
      "K-fold CV random state:  36\n",
      "Best fold accuracy :     0.7443806791009087\n"
     ]
    },
    {
     "data": {
      "image/png": "[encoded data removed]",
      "text/plain": [
       "<Figure size 432x288 with 2 Axes>"
      ]
     },
     "metadata": {},
     "output_type": "display_data"
    },
    {
     "data": {
      "text/html": [
       "\n",
       "                <audio controls=\"controls\" autoplay=\"autoplay\">\n",
       "                    <source src=\"./data/Glass.wav\" type=\"audio/x-wav\" />\n",
       "                    Your browser does not support the audio element.\n",
       "                </audio>\n",
       "              "
      ],
      "text/plain": [
       "<IPython.lib.display.Audio object>"
      ]
     },
     "metadata": {},
     "output_type": "display_data"
    },
    {
     "name": "stdout",
     "output_type": "stream",
     "text": [
      "Confusion matrix, without normalization\n",
      "[[36  0  0]\n",
      " [ 7 20  2]\n",
      " [ 2  0 15]]\n",
      "Normalized confusion matrix\n",
      "[[1.   0.   0.  ]\n",
      " [0.24 0.69 0.07]\n",
      " [0.12 0.   0.88]]\n",
      "Average normalized accuracy:  0.8573360378634213\n",
      "K-fold CV random state:       5\n"
     ]
    }
   ],
   "source": [
    "C, gamma = gridsearch_svcrbf(X_training=X_oneto50a, \n",
    "                             y_training=bin_oneto50a, \n",
    "                             num_c=5, \n",
    "                             num_gamma=5,\n",
    "                             plot_contour=True)\n",
    "\n",
    "results_df.loc[results_df['ENM-Organics-Ratio']=='1:50',\n",
    "               'Random-Augment-A'] = confusion_matrix_cv(X_training=X_oneto50a, \n",
    "                                                         y_training=bin_oneto50a, \n",
    "                                                         file_name='oneto50a')"
   ]
  },
  {
   "cell_type": "code",
   "execution_count": 109,
   "metadata": {
    "ExecuteTime": {
     "end_time": "2019-02-26T18:25:39.156571Z",
     "start_time": "2019-02-26T17:53:51.158786Z"
    }
   },
   "outputs": [
    {
     "name": "stdout",
     "output_type": "stream",
     "text": [
      "{'estimator__C': 100000.0, 'estimator__gamma': 10.0}\n",
      "K-fold CV random state:  68\n",
      "Best fold accuracy :     0.7465327594452416\n"
     ]
    },
    {
     "data": {
      "text/html": [
       "\n",
       "                <audio controls=\"controls\" autoplay=\"autoplay\">\n",
       "                    <source src=\"./data/Glass.wav\" type=\"audio/x-wav\" />\n",
       "                    Your browser does not support the audio element.\n",
       "                </audio>\n",
       "              "
      ],
      "text/plain": [
       "<IPython.lib.display.Audio object>"
      ]
     },
     "metadata": {},
     "output_type": "display_data"
    },
    {
     "name": "stdout",
     "output_type": "stream",
     "text": [
      "Confusion matrix, without normalization\n",
      "[[36  0  0]\n",
      " [ 7 20  2]\n",
      " [ 2  0 15]]\n",
      "Normalized confusion matrix\n",
      "[[1.   0.   0.  ]\n",
      " [0.24 0.69 0.07]\n",
      " [0.12 0.   0.88]]\n",
      "Average normalized accuracy:  0.8573360378634213\n",
      "K-fold CV random state:       99\n"
     ]
    }
   ],
   "source": [
    "C, gamma = gridsearch_svcrbf(X_training=X_oneto50b, \n",
    "                             y_training=bin_oneto50b, \n",
    "                             num_c=5, \n",
    "                             num_gamma=5)\n",
    "\n",
    "results_df.loc[results_df['ENM-Organics-Ratio']=='1:50',\n",
    "               'Random-Augment-B'] = confusion_matrix_cv(X_training=X_oneto50b, \n",
    "                                                         y_training=bin_oneto50b, \n",
    "                                                         file_name='oneto50b')"
   ]
  },
  {
   "cell_type": "code",
   "execution_count": 137,
   "metadata": {
    "ExecuteTime": {
     "end_time": "2019-02-25T11:31:54.206440Z",
     "start_time": "2019-02-25T11:07:19.167387Z"
    }
   },
   "outputs": [
    {
     "name": "stdout",
     "output_type": "stream",
     "text": [
      "{'estimator__C': 100000.0, 'estimator__gamma': 10.0}\n",
      "K-fold CV random state:  82\n",
      "Best fold accuracy :     0.7352941176470589\n"
     ]
    },
    {
     "data": {
      "text/html": [
       "\n",
       "                <audio controls=\"controls\" autoplay=\"autoplay\">\n",
       "                    <source src=\"./data/Glass.wav\" type=\"audio/x-wav\" />\n",
       "                    Your browser does not support the audio element.\n",
       "                </audio>\n",
       "              "
      ],
      "text/plain": [
       "<IPython.lib.display.Audio object>"
      ]
     },
     "metadata": {},
     "output_type": "display_data"
    },
    {
     "name": "stdout",
     "output_type": "stream",
     "text": [
      "Confusion matrix, without normalization\n",
      "[[36  0  0]\n",
      " [ 7 20  2]\n",
      " [ 2  0 15]]\n",
      "Normalized confusion matrix\n",
      "[[1.   0.   0.  ]\n",
      " [0.24 0.69 0.07]\n",
      " [0.12 0.   0.88]]\n",
      "Average normalized accuracy:  0.8573360378634213\n",
      "K-fold CV random state:       14\n"
     ]
    }
   ],
   "source": [
    "C, gamma = gridsearch_svcrbf(X_training=X_oneto50c, \n",
    "                             y_training=bin_oneto50c, \n",
    "                             num_c=5, \n",
    "                             num_gamma=5)\n",
    "\n",
    "results_df.loc[results_df['ENM-Organics-Ratio']=='1:50',\n",
    "               'Random-Augment-C'] = confusion_matrix_cv(X_training=X_oneto50c, \n",
    "                                                         y_training=bin_oneto50c, \n",
    "                                                         file_name='oneto50c')"
   ]
  },
  {
   "cell_type": "markdown",
   "metadata": {},
   "source": [
    "## 1:20 ENM-organics data"
   ]
  },
  {
   "cell_type": "code",
   "execution_count": 110,
   "metadata": {
    "ExecuteTime": {
     "end_time": "2019-02-26T18:57:22.676777Z",
     "start_time": "2019-02-26T18:45:50.939947Z"
    }
   },
   "outputs": [
    {
     "name": "stdout",
     "output_type": "stream",
     "text": [
      "{'estimator__C': 100000.0, 'estimator__gamma': 10.0}\n",
      "K-fold CV random state:  92\n",
      "Best fold accuracy :     0.6945412311265969\n"
     ]
    },
    {
     "data": {
      "image/png": "[encoded data removed]",
      "text/plain": [
       "<Figure size 432x288 with 2 Axes>"
      ]
     },
     "metadata": {},
     "output_type": "display_data"
    },
    {
     "data": {
      "text/html": [
       "\n",
       "                <audio controls=\"controls\" autoplay=\"autoplay\">\n",
       "                    <source src=\"./data/Glass.wav\" type=\"audio/x-wav\" />\n",
       "                    Your browser does not support the audio element.\n",
       "                </audio>\n",
       "              "
      ],
      "text/plain": [
       "<IPython.lib.display.Audio object>"
      ]
     },
     "metadata": {},
     "output_type": "display_data"
    },
    {
     "name": "stdout",
     "output_type": "stream",
     "text": [
      "Confusion matrix, without normalization\n",
      "[[36  0  0]\n",
      " [ 7 20  2]\n",
      " [ 2  0 15]]\n",
      "Normalized confusion matrix\n",
      "[[1.   0.   0.  ]\n",
      " [0.24 0.69 0.07]\n",
      " [0.12 0.   0.88]]\n",
      "Average normalized accuracy:  0.8573360378634213\n",
      "K-fold CV random state:       31\n"
     ]
    }
   ],
   "source": [
    "C, gamma = gridsearch_svcrbf(X_training=X_oneto20a, \n",
    "                             y_training=bin_oneto20a,\n",
    "                             plot_contour=True)\n",
    "\n",
    "results_df.loc[results_df['ENM-Organics-Ratio']=='1:20',\n",
    "               'Random-Augment-A'] = confusion_matrix_cv(X_training=X_oneto20a, \n",
    "                                                         y_training=bin_oneto20a, \n",
    "                                                         file_name='oneto20a')"
   ]
  },
  {
   "cell_type": "code",
   "execution_count": 111,
   "metadata": {
    "ExecuteTime": {
     "end_time": "2019-02-26T19:10:06.309768Z",
     "start_time": "2019-02-26T18:57:22.683422Z"
    }
   },
   "outputs": [
    {
     "name": "stdout",
     "output_type": "stream",
     "text": [
      "{'estimator__C': 1000000.0, 'estimator__gamma': 1.0}\n",
      "K-fold CV random state:  19\n",
      "Best fold accuracy :     0.6869918699186992\n"
     ]
    },
    {
     "data": {
      "text/html": [
       "\n",
       "                <audio controls=\"controls\" autoplay=\"autoplay\">\n",
       "                    <source src=\"./data/Glass.wav\" type=\"audio/x-wav\" />\n",
       "                    Your browser does not support the audio element.\n",
       "                </audio>\n",
       "              "
      ],
      "text/plain": [
       "<IPython.lib.display.Audio object>"
      ]
     },
     "metadata": {},
     "output_type": "display_data"
    },
    {
     "name": "stdout",
     "output_type": "stream",
     "text": [
      "Confusion matrix, without normalization\n",
      "[[36  0  0]\n",
      " [ 7 20  2]\n",
      " [ 2  0 15]]\n",
      "Normalized confusion matrix\n",
      "[[1.   0.   0.  ]\n",
      " [0.24 0.69 0.07]\n",
      " [0.12 0.   0.88]]\n",
      "Average normalized accuracy:  0.8573360378634213\n",
      "K-fold CV random state:       34\n"
     ]
    }
   ],
   "source": [
    "C, gamma = gridsearch_svcrbf(X_training=X_oneto20b, \n",
    "                             y_training=bin_oneto20b)\n",
    "\n",
    "results_df.loc[results_df['ENM-Organics-Ratio']=='1:20',\n",
    "               'Random-Augment-B'] = confusion_matrix_cv(X_training=X_oneto20b, \n",
    "                                                         y_training=bin_oneto20b, \n",
    "                                                         file_name='oneto20b')"
   ]
  },
  {
   "cell_type": "code",
   "execution_count": 112,
   "metadata": {
    "ExecuteTime": {
     "end_time": "2019-02-26T19:19:42.890704Z",
     "start_time": "2019-02-26T19:10:06.317417Z"
    }
   },
   "outputs": [
    {
     "name": "stdout",
     "output_type": "stream",
     "text": [
      "{'estimator__C': 100000.0, 'estimator__gamma': 10.0}\n",
      "K-fold CV random state:  32\n",
      "Best fold accuracy :     0.6974448315911731\n"
     ]
    },
    {
     "data": {
      "text/html": [
       "\n",
       "                <audio controls=\"controls\" autoplay=\"autoplay\">\n",
       "                    <source src=\"./data/Glass.wav\" type=\"audio/x-wav\" />\n",
       "                    Your browser does not support the audio element.\n",
       "                </audio>\n",
       "              "
      ],
      "text/plain": [
       "<IPython.lib.display.Audio object>"
      ]
     },
     "metadata": {},
     "output_type": "display_data"
    },
    {
     "name": "stdout",
     "output_type": "stream",
     "text": [
      "Confusion matrix, without normalization\n",
      "[[36  0  0]\n",
      " [ 7 20  2]\n",
      " [ 2  0 15]]\n",
      "Normalized confusion matrix\n",
      "[[1.   0.   0.  ]\n",
      " [0.24 0.69 0.07]\n",
      " [0.12 0.   0.88]]\n",
      "Average normalized accuracy:  0.8573360378634213\n",
      "K-fold CV random state:       36\n"
     ]
    }
   ],
   "source": [
    "C, gamma = gridsearch_svcrbf(X_training=X_oneto20c, \n",
    "                             y_training=bin_oneto20c)\n",
    "\n",
    "results_df.loc[results_df['ENM-Organics-Ratio']=='1:20',\n",
    "               'Random-Augment-C'] = confusion_matrix_cv(X_training=X_oneto20c, \n",
    "                                                         y_training=bin_oneto20c, \n",
    "                                                         file_name='oneto20c')"
   ]
  },
  {
   "cell_type": "markdown",
   "metadata": {},
   "source": [
    "## 1:10 ENM-organics data"
   ]
  },
  {
   "cell_type": "code",
   "execution_count": 216,
   "metadata": {
    "ExecuteTime": {
     "end_time": "2019-02-21T05:49:58.455841Z",
     "start_time": "2019-02-21T05:46:42.034054Z"
    }
   },
   "outputs": [
    {
     "name": "stdout",
     "output_type": "stream",
     "text": [
      "{'estimator__C': 3.1622776601683795, 'estimator__gamma': 10.0}\n",
      "K-fold CV random state:  78\n",
      "Best fold accuracy :     0.6696230598669624\n"
     ]
    },
    {
     "data": {
      "text/html": [
       "\n",
       "                <audio controls=\"controls\" autoplay=\"autoplay\">\n",
       "                    <source src=\"./data/Glass.wav\" type=\"audio/x-wav\" />\n",
       "                    Your browser does not support the audio element.\n",
       "                </audio>\n",
       "              "
      ],
      "text/plain": [
       "<IPython.lib.display.Audio object>"
      ]
     },
     "metadata": {},
     "output_type": "display_data"
    },
    {
     "name": "stdout",
     "output_type": "stream",
     "text": [
      "Confusion matrix, without normalization\n",
      "[[36  0  0]\n",
      " [ 7 20  2]\n",
      " [ 2  0 15]]\n",
      "Normalized confusion matrix\n",
      "[[1.   0.   0.  ]\n",
      " [0.24 0.69 0.07]\n",
      " [0.12 0.   0.88]]\n",
      "Average normalized accuracy:  0.8573360378634213\n",
      "K-fold CV random state:       77\n"
     ]
    }
   ],
   "source": [
    "C, gamma = gridsearch_svcrbf(X_training=X_oneto10a, \n",
    "                             y_training=bin_oneto10a, \n",
    "                             c_set = np.logspace(-1,6,15), \n",
    "                             gamma_set = np.logspace(-6,1,15))\n",
    "\n",
    "results_df.loc[results_df['ENM-Organics-Ratio']=='1:10',\n",
    "               'Random-Augment-A'] = confusion_matrix_cv(X_training=X_oneto10a, \n",
    "                                                         y_training=bin_oneto10a, \n",
    "                                                         file_name='oneto10a')"
   ]
  },
  {
   "cell_type": "code",
   "execution_count": 217,
   "metadata": {
    "ExecuteTime": {
     "end_time": "2019-02-21T05:53:17.761797Z",
     "start_time": "2019-02-21T05:49:58.490291Z"
    }
   },
   "outputs": [
    {
     "name": "stdout",
     "output_type": "stream",
     "text": [
      "{'estimator__C': 3162.2776601683795, 'estimator__gamma': 10.0}\n",
      "K-fold CV random state:  59\n",
      "Best fold accuracy :     0.6929046563192904\n"
     ]
    },
    {
     "data": {
      "text/html": [
       "\n",
       "                <audio controls=\"controls\" autoplay=\"autoplay\">\n",
       "                    <source src=\"./data/Glass.wav\" type=\"audio/x-wav\" />\n",
       "                    Your browser does not support the audio element.\n",
       "                </audio>\n",
       "              "
      ],
      "text/plain": [
       "<IPython.lib.display.Audio object>"
      ]
     },
     "metadata": {},
     "output_type": "display_data"
    },
    {
     "name": "stdout",
     "output_type": "stream",
     "text": [
      "Confusion matrix, without normalization\n",
      "[[36  0  0]\n",
      " [ 7 20  2]\n",
      " [ 2  0 15]]\n",
      "Normalized confusion matrix\n",
      "[[1.   0.   0.  ]\n",
      " [0.24 0.69 0.07]\n",
      " [0.12 0.   0.88]]\n",
      "Average normalized accuracy:  0.8573360378634213\n",
      "K-fold CV random state:       20\n"
     ]
    }
   ],
   "source": [
    "C, gamma = gridsearch_svcrbf(X_training=X_oneto10b, \n",
    "                             y_training=bin_oneto10b, \n",
    "                             c_set = np.logspace(-1,6,15), \n",
    "                             gamma_set = np.logspace(-6,1,15))\n",
    "\n",
    "results_df.loc[results_df['ENM-Organics-Ratio']=='1:10',\n",
    "               'Random-Augment-B'] = confusion_matrix_cv(X_training=X_oneto10b, \n",
    "                                                         y_training=bin_oneto10b, \n",
    "                                                         file_name='oneto10b')"
   ]
  },
  {
   "cell_type": "code",
   "execution_count": 218,
   "metadata": {
    "ExecuteTime": {
     "end_time": "2019-02-21T05:56:28.261217Z",
     "start_time": "2019-02-21T05:53:17.792371Z"
    }
   },
   "outputs": [
    {
     "name": "stdout",
     "output_type": "stream",
     "text": [
      "{'estimator__C': 1000.0, 'estimator__gamma': 1.0}\n",
      "K-fold CV random state:  92\n",
      "Best fold accuracy :     0.6574279379157428\n"
     ]
    },
    {
     "data": {
      "text/html": [
       "\n",
       "                <audio controls=\"controls\" autoplay=\"autoplay\">\n",
       "                    <source src=\"./data/Glass.wav\" type=\"audio/x-wav\" />\n",
       "                    Your browser does not support the audio element.\n",
       "                </audio>\n",
       "              "
      ],
      "text/plain": [
       "<IPython.lib.display.Audio object>"
      ]
     },
     "metadata": {},
     "output_type": "display_data"
    },
    {
     "name": "stdout",
     "output_type": "stream",
     "text": [
      "Confusion matrix, without normalization\n",
      "[[36  0  0]\n",
      " [ 7 20  2]\n",
      " [ 2  0 15]]\n",
      "Normalized confusion matrix\n",
      "[[1.   0.   0.  ]\n",
      " [0.24 0.69 0.07]\n",
      " [0.12 0.   0.88]]\n",
      "Average normalized accuracy:  0.8573360378634213\n",
      "K-fold CV random state:       77\n"
     ]
    }
   ],
   "source": [
    "C, gamma = gridsearch_svcrbf(X_training=X_oneto10c, \n",
    "                             y_training=bin_oneto10c, \n",
    "                             c_set = np.logspace(-1,6,15), \n",
    "                             gamma_set = np.logspace(-6,1,15))\n",
    "\n",
    "results_df.loc[results_df['ENM-Organics-Ratio']=='1:10',\n",
    "               'Random-Augment-C'] = confusion_matrix_cv(X_training=X_oneto10c, \n",
    "                                                         y_training=bin_oneto10c, \n",
    "                                                         file_name='oneto10c')"
   ]
  },
  {
   "cell_type": "markdown",
   "metadata": {},
   "source": [
    "## 1:5 ENM-organics data"
   ]
  },
  {
   "cell_type": "code",
   "execution_count": 405,
   "metadata": {
    "ExecuteTime": {
     "end_time": "2019-02-22T10:24:37.906276Z",
     "start_time": "2019-02-22T10:24:02.326178Z"
    }
   },
   "outputs": [
    {
     "name": "stdout",
     "output_type": "stream",
     "text": [
      "{'estimator__C': 10000.0, 'estimator__gamma': 0.1}\n",
      "K-fold CV random state:  70\n",
      "Best fold accuracy :     0.6199186991869918\n"
     ]
    },
    {
     "data": {
      "text/html": [
       "\n",
       "                <audio controls=\"controls\" autoplay=\"autoplay\">\n",
       "                    <source src=\"./data/Glass.wav\" type=\"audio/x-wav\" />\n",
       "                    Your browser does not support the audio element.\n",
       "                </audio>\n",
       "              "
      ],
      "text/plain": [
       "<IPython.lib.display.Audio object>"
      ]
     },
     "metadata": {},
     "output_type": "display_data"
    },
    {
     "name": "stdout",
     "output_type": "stream",
     "text": [
      "Confusion matrix, without normalization\n",
      "[[36  0  0]\n",
      " [ 7 20  2]\n",
      " [ 2  0 15]]\n",
      "Normalized confusion matrix\n",
      "[[1.   0.   0.  ]\n",
      " [0.24 0.69 0.07]\n",
      " [0.12 0.   0.88]]\n",
      "Average normalized accuracy:  0.8573360378634213\n",
      "K-fold CV random state:       7\n"
     ]
    }
   ],
   "source": [
    "C, gamma = gridsearch_svcrbf(X_training=X_oneto5a, \n",
    "                             y_training=bin_oneto5a, \n",
    "                             c_set = np.logspace(-1,7,9), \n",
    "                             gamma_set = np.logspace(-7,1,9))\n",
    "\n",
    "results_df.loc[results_df['ENM-Organics-Ratio']=='1:5',\n",
    "               'Random-Augment-A'] = confusion_matrix_cv(X_training=X_oneto5a, \n",
    "                                                         y_training=bin_oneto5a, \n",
    "                                                         file_name='oneto5a')"
   ]
  },
  {
   "cell_type": "code",
   "execution_count": 406,
   "metadata": {
    "ExecuteTime": {
     "end_time": "2019-02-22T10:25:28.363761Z",
     "start_time": "2019-02-22T10:24:46.904408Z"
    }
   },
   "outputs": [
    {
     "name": "stdout",
     "output_type": "stream",
     "text": [
      "{'estimator__C': 100000.0, 'estimator__gamma': 10.0}\n",
      "K-fold CV random state:  47\n",
      "Best fold accuracy :     0.6138211382113821\n"
     ]
    },
    {
     "data": {
      "text/html": [
       "\n",
       "                <audio controls=\"controls\" autoplay=\"autoplay\">\n",
       "                    <source src=\"./data/Glass.wav\" type=\"audio/x-wav\" />\n",
       "                    Your browser does not support the audio element.\n",
       "                </audio>\n",
       "              "
      ],
      "text/plain": [
       "<IPython.lib.display.Audio object>"
      ]
     },
     "metadata": {},
     "output_type": "display_data"
    },
    {
     "name": "stdout",
     "output_type": "stream",
     "text": [
      "Confusion matrix, without normalization\n",
      "[[36  0  0]\n",
      " [ 7 20  2]\n",
      " [ 2  0 15]]\n",
      "Normalized confusion matrix\n",
      "[[1.   0.   0.  ]\n",
      " [0.24 0.69 0.07]\n",
      " [0.12 0.   0.88]]\n",
      "Average normalized accuracy:  0.8573360378634213\n",
      "K-fold CV random state:       3\n"
     ]
    }
   ],
   "source": [
    "C, gamma = gridsearch_svcrbf(X_training=X_oneto5b, \n",
    "                             y_training=bin_oneto5b, \n",
    "                             c_set = np.logspace(-1,7,9), \n",
    "                             gamma_set = np.logspace(-7,1,9))\n",
    "\n",
    "results_df.loc[results_df['ENM-Organics-Ratio']=='1:5',\n",
    "               'Random-Augment-B'] = confusion_matrix_cv(X_training=X_oneto5b, \n",
    "                                                         y_training=bin_oneto5b, \n",
    "                                                         file_name='oneto5b')"
   ]
  },
  {
   "cell_type": "code",
   "execution_count": 407,
   "metadata": {
    "ExecuteTime": {
     "end_time": "2019-02-22T10:26:34.863018Z",
     "start_time": "2019-02-22T10:25:53.997941Z"
    }
   },
   "outputs": [
    {
     "name": "stdout",
     "output_type": "stream",
     "text": [
      "{'estimator__C': 10000.0, 'estimator__gamma': 1.0}\n",
      "K-fold CV random state:  60\n",
      "Best fold accuracy :     0.6666666666666666\n"
     ]
    },
    {
     "data": {
      "text/html": [
       "\n",
       "                <audio controls=\"controls\" autoplay=\"autoplay\">\n",
       "                    <source src=\"./data/Glass.wav\" type=\"audio/x-wav\" />\n",
       "                    Your browser does not support the audio element.\n",
       "                </audio>\n",
       "              "
      ],
      "text/plain": [
       "<IPython.lib.display.Audio object>"
      ]
     },
     "metadata": {},
     "output_type": "display_data"
    },
    {
     "name": "stdout",
     "output_type": "stream",
     "text": [
      "Confusion matrix, without normalization\n",
      "[[36  0  0]\n",
      " [ 7 20  2]\n",
      " [ 2  0 15]]\n",
      "Normalized confusion matrix\n",
      "[[1.   0.   0.  ]\n",
      " [0.24 0.69 0.07]\n",
      " [0.12 0.   0.88]]\n",
      "Average normalized accuracy:  0.8573360378634213\n",
      "K-fold CV random state:       92\n"
     ]
    }
   ],
   "source": [
    "C, gamma = gridsearch_svcrbf(X_training=X_oneto5c, \n",
    "                             y_training=bin_oneto5c, \n",
    "                             c_set = np.logspace(-1,7,9), \n",
    "                             gamma_set = np.logspace(-7,1,9))\n",
    "\n",
    "results_df.loc[results_df['ENM-Organics-Ratio']=='1:5',\n",
    "               'Random-Augment-C'] = confusion_matrix_cv(X_training=X_oneto5c, \n",
    "                                                         y_training=bin_oneto5c, \n",
    "                                                         file_name='oneto5c')"
   ]
  },
  {
   "cell_type": "markdown",
   "metadata": {},
   "source": [
    "## 1:4 ENM-organics data"
   ]
  },
  {
   "cell_type": "code",
   "execution_count": 408,
   "metadata": {
    "ExecuteTime": {
     "end_time": "2019-02-22T10:27:04.852759Z",
     "start_time": "2019-02-22T10:26:34.877025Z"
    }
   },
   "outputs": [
    {
     "name": "stdout",
     "output_type": "stream",
     "text": [
      "{'estimator__C': 1000.0, 'estimator__gamma': 10.0}\n",
      "K-fold CV random state:  94\n",
      "Best fold accuracy :     0.624390243902439\n"
     ]
    },
    {
     "data": {
      "text/html": [
       "\n",
       "                <audio controls=\"controls\" autoplay=\"autoplay\">\n",
       "                    <source src=\"./data/Glass.wav\" type=\"audio/x-wav\" />\n",
       "                    Your browser does not support the audio element.\n",
       "                </audio>\n",
       "              "
      ],
      "text/plain": [
       "<IPython.lib.display.Audio object>"
      ]
     },
     "metadata": {},
     "output_type": "display_data"
    },
    {
     "name": "stdout",
     "output_type": "stream",
     "text": [
      "Confusion matrix, without normalization\n",
      "[[36  0  0]\n",
      " [ 7 20  2]\n",
      " [ 2  0 15]]\n",
      "Normalized confusion matrix\n",
      "[[1.   0.   0.  ]\n",
      " [0.24 0.69 0.07]\n",
      " [0.12 0.   0.88]]\n",
      "Average normalized accuracy:  0.8573360378634213\n",
      "K-fold CV random state:       62\n"
     ]
    }
   ],
   "source": [
    "C, gamma = gridsearch_svcrbf(X_training=X_oneto4a, \n",
    "                             y_training=bin_oneto4a, \n",
    "                             c_set = np.logspace(-1,7,9), \n",
    "                             gamma_set = np.logspace(-7,1,9))\n",
    "\n",
    "results_df.loc[results_df['ENM-Organics-Ratio']=='1:4',\n",
    "               'Random-Augment-A'] = confusion_matrix_cv(X_training=X_oneto4a, \n",
    "                                                         y_training=bin_oneto4a, \n",
    "                                                         file_name='oneto4a')"
   ]
  },
  {
   "cell_type": "code",
   "execution_count": 409,
   "metadata": {
    "ExecuteTime": {
     "end_time": "2019-02-22T10:27:32.125263Z",
     "start_time": "2019-02-22T10:27:04.874294Z"
    }
   },
   "outputs": [
    {
     "name": "stdout",
     "output_type": "stream",
     "text": [
      "{'estimator__C': 1000.0, 'estimator__gamma': 1.0}\n",
      "K-fold CV random state:  83\n",
      "Best fold accuracy :     0.6268292682926829\n"
     ]
    },
    {
     "data": {
      "text/html": [
       "\n",
       "                <audio controls=\"controls\" autoplay=\"autoplay\">\n",
       "                    <source src=\"./data/Glass.wav\" type=\"audio/x-wav\" />\n",
       "                    Your browser does not support the audio element.\n",
       "                </audio>\n",
       "              "
      ],
      "text/plain": [
       "<IPython.lib.display.Audio object>"
      ]
     },
     "metadata": {},
     "output_type": "display_data"
    },
    {
     "name": "stdout",
     "output_type": "stream",
     "text": [
      "Confusion matrix, without normalization\n",
      "[[36  0  0]\n",
      " [ 7 20  2]\n",
      " [ 2  0 15]]\n",
      "Normalized confusion matrix\n",
      "[[1.   0.   0.  ]\n",
      " [0.24 0.69 0.07]\n",
      " [0.12 0.   0.88]]\n",
      "Average normalized accuracy:  0.8573360378634213\n",
      "K-fold CV random state:       74\n"
     ]
    }
   ],
   "source": [
    "C, gamma = gridsearch_svcrbf(X_training=X_oneto4b, \n",
    "                             y_training=bin_oneto4b, \n",
    "                             c_set = np.logspace(-1,7,9), \n",
    "                             gamma_set = np.logspace(-7,1,9))\n",
    "\n",
    "results_df.loc[results_df['ENM-Organics-Ratio']=='1:4',\n",
    "               'Random-Augment-B'] = confusion_matrix_cv(X_training=X_oneto4b, \n",
    "                                                         y_training=bin_oneto4b, \n",
    "                                                         file_name='oneto4b')"
   ]
  },
  {
   "cell_type": "code",
   "execution_count": 410,
   "metadata": {
    "ExecuteTime": {
     "end_time": "2019-02-22T10:28:00.958019Z",
     "start_time": "2019-02-22T10:27:32.152983Z"
    }
   },
   "outputs": [
    {
     "name": "stdout",
     "output_type": "stream",
     "text": [
      "{'estimator__C': 1.0, 'estimator__gamma': 10.0}\n",
      "K-fold CV random state:  10\n",
      "Best fold accuracy :     0.6146341463414634\n"
     ]
    },
    {
     "data": {
      "text/html": [
       "\n",
       "                <audio controls=\"controls\" autoplay=\"autoplay\">\n",
       "                    <source src=\"./data/Glass.wav\" type=\"audio/x-wav\" />\n",
       "                    Your browser does not support the audio element.\n",
       "                </audio>\n",
       "              "
      ],
      "text/plain": [
       "<IPython.lib.display.Audio object>"
      ]
     },
     "metadata": {},
     "output_type": "display_data"
    },
    {
     "name": "stdout",
     "output_type": "stream",
     "text": [
      "Confusion matrix, without normalization\n",
      "[[36  0  0]\n",
      " [ 7 20  2]\n",
      " [ 2  0 15]]\n",
      "Normalized confusion matrix\n",
      "[[1.   0.   0.  ]\n",
      " [0.24 0.69 0.07]\n",
      " [0.12 0.   0.88]]\n",
      "Average normalized accuracy:  0.8573360378634213\n",
      "K-fold CV random state:       49\n"
     ]
    }
   ],
   "source": [
    "C, gamma = gridsearch_svcrbf(X_training=X_oneto4c, \n",
    "                             y_training=bin_oneto4c, \n",
    "                             c_set = np.logspace(-1,7,9), \n",
    "                             gamma_set = np.logspace(-7,1,9))\n",
    "\n",
    "results_df.loc[results_df['ENM-Organics-Ratio']=='1:4',\n",
    "               'Random-Augment-C'] = confusion_matrix_cv(X_training=X_oneto4c, \n",
    "                                                         y_training=bin_oneto4c, \n",
    "                                                         file_name='oneto4c')"
   ]
  },
  {
   "cell_type": "markdown",
   "metadata": {},
   "source": [
    "## 1:3 ENM-organics data"
   ]
  },
  {
   "cell_type": "code",
   "execution_count": 432,
   "metadata": {
    "ExecuteTime": {
     "end_time": "2019-02-22T10:38:45.463081Z",
     "start_time": "2019-02-22T10:38:24.787171Z"
    }
   },
   "outputs": [
    {
     "name": "stdout",
     "output_type": "stream",
     "text": [
      "{'estimator__C': 10.0, 'estimator__gamma': 10.0}\n",
      "K-fold CV random state:  33\n",
      "Best fold accuracy :     0.5853658536585366\n"
     ]
    },
    {
     "data": {
      "text/html": [
       "\n",
       "                <audio controls=\"controls\" autoplay=\"autoplay\">\n",
       "                    <source src=\"./data/Glass.wav\" type=\"audio/x-wav\" />\n",
       "                    Your browser does not support the audio element.\n",
       "                </audio>\n",
       "              "
      ],
      "text/plain": [
       "<IPython.lib.display.Audio object>"
      ]
     },
     "metadata": {},
     "output_type": "display_data"
    },
    {
     "name": "stdout",
     "output_type": "stream",
     "text": [
      "Confusion matrix, without normalization\n",
      "[[36  0  0]\n",
      " [ 7 20  2]\n",
      " [ 2  0 15]]\n",
      "Normalized confusion matrix\n",
      "[[1.   0.   0.  ]\n",
      " [0.24 0.69 0.07]\n",
      " [0.12 0.   0.88]]\n",
      "Average normalized accuracy:  0.8573360378634213\n",
      "K-fold CV random state:       53\n"
     ]
    }
   ],
   "source": [
    "C, gamma = gridsearch_svcrbf(X_training=X_oneto3a, \n",
    "                             y_training=bin_oneto3a, \n",
    "                             c_set = np.logspace(-1,7,9), \n",
    "                             gamma_set = np.logspace(-7,1,9))\n",
    "\n",
    "results_df.loc[results_df['ENM-Organics-Ratio']=='1:3',\n",
    "               'Random-Augment-A'] = confusion_matrix_cv(X_training=X_oneto3a, \n",
    "                                                         y_training=bin_oneto3a, \n",
    "                                                         file_name='oneto3a')"
   ]
  },
  {
   "cell_type": "code",
   "execution_count": 225,
   "metadata": {
    "ExecuteTime": {
     "end_time": "2019-02-26T08:38:01.093666Z",
     "start_time": "2019-02-26T08:37:45.663376Z"
    }
   },
   "outputs": [
    {
     "name": "stdout",
     "output_type": "stream",
     "text": [
      "{'estimator__C': 10000.0, 'estimator__gamma': 10.0}\n",
      "K-fold CV random state:  26\n",
      "Best fold accuracy :     0.6219512195121951\n"
     ]
    },
    {
     "data": {
      "text/html": [
       "\n",
       "                <audio controls=\"controls\" autoplay=\"autoplay\">\n",
       "                    <source src=\"./data/Glass.wav\" type=\"audio/x-wav\" />\n",
       "                    Your browser does not support the audio element.\n",
       "                </audio>\n",
       "              "
      ],
      "text/plain": [
       "<IPython.lib.display.Audio object>"
      ]
     },
     "metadata": {},
     "output_type": "display_data"
    },
    {
     "name": "stdout",
     "output_type": "stream",
     "text": [
      "Confusion matrix, without normalization\n",
      "[[36  0  0]\n",
      " [ 7 20  2]\n",
      " [ 2  0 15]]\n",
      "Normalized confusion matrix\n",
      "[[1.   0.   0.  ]\n",
      " [0.24 0.69 0.07]\n",
      " [0.12 0.   0.88]]\n",
      "Average normalized accuracy:  0.8573360378634213\n",
      "K-fold CV random state:       61\n"
     ]
    }
   ],
   "source": [
    "C, gamma = gridsearch_svcrbf(X_training=X_oneto3b, \n",
    "                             y_training=bin_oneto3b)\n",
    "\n",
    "results_df.loc[results_df['ENM-Organics-Ratio']=='1:3',\n",
    "               'Random-Augment-B'] = confusion_matrix_cv(X_training=X_oneto3b, \n",
    "                                                         y_training=bin_oneto3b, \n",
    "                                                         file_name='oneto3b')"
   ]
  },
  {
   "cell_type": "code",
   "execution_count": 413,
   "metadata": {
    "ExecuteTime": {
     "end_time": "2019-02-22T10:29:10.161127Z",
     "start_time": "2019-02-22T10:28:52.755535Z"
    }
   },
   "outputs": [
    {
     "name": "stdout",
     "output_type": "stream",
     "text": [
      "{'estimator__C': 10000.0, 'estimator__gamma': 1.0}\n",
      "K-fold CV random state:  86\n",
      "Best fold accuracy :     0.5975609756097561\n"
     ]
    },
    {
     "data": {
      "text/html": [
       "\n",
       "                <audio controls=\"controls\" autoplay=\"autoplay\">\n",
       "                    <source src=\"./data/Glass.wav\" type=\"audio/x-wav\" />\n",
       "                    Your browser does not support the audio element.\n",
       "                </audio>\n",
       "              "
      ],
      "text/plain": [
       "<IPython.lib.display.Audio object>"
      ]
     },
     "metadata": {},
     "output_type": "display_data"
    },
    {
     "name": "stdout",
     "output_type": "stream",
     "text": [
      "Confusion matrix, without normalization\n",
      "[[36  0  0]\n",
      " [ 7 20  2]\n",
      " [ 2  0 15]]\n",
      "Normalized confusion matrix\n",
      "[[1.   0.   0.  ]\n",
      " [0.24 0.69 0.07]\n",
      " [0.12 0.   0.88]]\n",
      "Average normalized accuracy:  0.8573360378634213\n",
      "K-fold CV random state:       8\n"
     ]
    }
   ],
   "source": [
    "C, gamma = gridsearch_svcrbf(X_training=X_oneto3c, \n",
    "                             y_training=bin_oneto3c)\n",
    "\n",
    "results_df.loc[results_df['ENM-Organics-Ratio']=='1:3',\n",
    "               'Random-Augment-C'] = confusion_matrix_cv(X_training=X_oneto3c, \n",
    "                                                         y_training=bin_oneto3c, \n",
    "                                                         file_name='oneto3c')"
   ]
  },
  {
   "cell_type": "markdown",
   "metadata": {},
   "source": [
    "## 1:2 ENM-organics data"
   ]
  },
  {
   "cell_type": "code",
   "execution_count": 226,
   "metadata": {
    "ExecuteTime": {
     "end_time": "2019-02-26T08:38:56.260336Z",
     "start_time": "2019-02-26T08:38:42.717721Z"
    }
   },
   "outputs": [
    {
     "name": "stdout",
     "output_type": "stream",
     "text": [
      "{'estimator__C': 100.0, 'estimator__gamma': 0.1}\n",
      "K-fold CV random state:  18\n",
      "Best fold accuracy :     0.6463414634146342\n"
     ]
    },
    {
     "data": {
      "text/html": [
       "\n",
       "                <audio controls=\"controls\" autoplay=\"autoplay\">\n",
       "                    <source src=\"./data/Glass.wav\" type=\"audio/x-wav\" />\n",
       "                    Your browser does not support the audio element.\n",
       "                </audio>\n",
       "              "
      ],
      "text/plain": [
       "<IPython.lib.display.Audio object>"
      ]
     },
     "metadata": {},
     "output_type": "display_data"
    },
    {
     "name": "stdout",
     "output_type": "stream",
     "text": [
      "Confusion matrix, without normalization\n",
      "[[36  0  0]\n",
      " [ 7 20  2]\n",
      " [ 2  0 15]]\n",
      "Normalized confusion matrix\n",
      "[[1.   0.   0.  ]\n",
      " [0.24 0.69 0.07]\n",
      " [0.12 0.   0.88]]\n",
      "Average normalized accuracy:  0.8573360378634213\n",
      "K-fold CV random state:       72\n"
     ]
    }
   ],
   "source": [
    "C, gamma = gridsearch_svcrbf(X_training=X_oneto2a, \n",
    "                             y_training=bin_oneto2a)\n",
    "\n",
    "results_df.loc[results_df['ENM-Organics-Ratio']=='1:2',\n",
    "               'Random-Augment-A'] = confusion_matrix_cv(X_training=X_oneto2a, \n",
    "                                                         y_training=bin_oneto2a, \n",
    "                                                         file_name='oneto2a')"
   ]
  },
  {
   "cell_type": "code",
   "execution_count": 416,
   "metadata": {
    "ExecuteTime": {
     "end_time": "2019-02-22T10:30:08.067941Z",
     "start_time": "2019-02-22T10:29:57.634133Z"
    }
   },
   "outputs": [
    {
     "name": "stdout",
     "output_type": "stream",
     "text": [
      "{'estimator__C': 1.0, 'estimator__gamma': 1.0}\n",
      "K-fold CV random state:  9\n",
      "Best fold accuracy :     0.6341463414634146\n"
     ]
    },
    {
     "data": {
      "text/html": [
       "\n",
       "                <audio controls=\"controls\" autoplay=\"autoplay\">\n",
       "                    <source src=\"./data/Glass.wav\" type=\"audio/x-wav\" />\n",
       "                    Your browser does not support the audio element.\n",
       "                </audio>\n",
       "              "
      ],
      "text/plain": [
       "<IPython.lib.display.Audio object>"
      ]
     },
     "metadata": {},
     "output_type": "display_data"
    },
    {
     "name": "stdout",
     "output_type": "stream",
     "text": [
      "Confusion matrix, without normalization\n",
      "[[36  0  0]\n",
      " [ 8 19  2]\n",
      " [ 3  0 14]]\n",
      "Normalized confusion matrix\n",
      "[[1.   0.   0.  ]\n",
      " [0.28 0.66 0.07]\n",
      " [0.18 0.   0.82]]\n",
      "Average normalized accuracy:  0.8262339418526031\n",
      "K-fold CV random state:       15\n"
     ]
    }
   ],
   "source": [
    "C, gamma = gridsearch_svcrbf(X_training=X_oneto2b, \n",
    "                             y_training=bin_oneto2b)\n",
    "\n",
    "results_df.loc[results_df['ENM-Organics-Ratio']=='1:2',\n",
    "               'Random-Augment-B'] = confusion_matrix_cv(X_training=X_oneto2b, \n",
    "                                                         y_training=bin_oneto2b, \n",
    "                                                         file_name='oneto2b')"
   ]
  },
  {
   "cell_type": "code",
   "execution_count": 417,
   "metadata": {
    "ExecuteTime": {
     "end_time": "2019-02-22T10:30:22.066303Z",
     "start_time": "2019-02-22T10:30:08.101871Z"
    }
   },
   "outputs": [
    {
     "name": "stdout",
     "output_type": "stream",
     "text": [
      "{'estimator__C': 1.0, 'estimator__gamma': 10.0}\n",
      "K-fold CV random state:  16\n",
      "Best fold accuracy :     0.5934959349593496\n"
     ]
    },
    {
     "data": {
      "text/html": [
       "\n",
       "                <audio controls=\"controls\" autoplay=\"autoplay\">\n",
       "                    <source src=\"./data/Glass.wav\" type=\"audio/x-wav\" />\n",
       "                    Your browser does not support the audio element.\n",
       "                </audio>\n",
       "              "
      ],
      "text/plain": [
       "<IPython.lib.display.Audio object>"
      ]
     },
     "metadata": {},
     "output_type": "display_data"
    },
    {
     "name": "stdout",
     "output_type": "stream",
     "text": [
      "Confusion matrix, without normalization\n",
      "[[36  0  0]\n",
      " [ 7 20  2]\n",
      " [ 2  0 15]]\n",
      "Normalized confusion matrix\n",
      "[[1.   0.   0.  ]\n",
      " [0.24 0.69 0.07]\n",
      " [0.12 0.   0.88]]\n",
      "Average normalized accuracy:  0.8573360378634213\n",
      "K-fold CV random state:       91\n"
     ]
    }
   ],
   "source": [
    "C, gamma = gridsearch_svcrbf(X_training=X_oneto2c, \n",
    "                             y_training=bin_oneto2c)\n",
    "\n",
    "results_df.loc[results_df['ENM-Organics-Ratio']=='1:2',\n",
    "               'Random-Augment-C'] = confusion_matrix_cv(X_training=X_oneto2c, \n",
    "                                                         y_training=bin_oneto2c, \n",
    "                                                         file_name='oneto2c')"
   ]
  },
  {
   "cell_type": "markdown",
   "metadata": {},
   "source": [
    "## 1:1 ENM-organics data"
   ]
  },
  {
   "cell_type": "code",
   "execution_count": 418,
   "metadata": {
    "ExecuteTime": {
     "end_time": "2019-02-22T10:30:27.801755Z",
     "start_time": "2019-02-22T10:30:22.093617Z"
    }
   },
   "outputs": [
    {
     "name": "stdout",
     "output_type": "stream",
     "text": [
      "{'estimator__C': 1000.0, 'estimator__gamma': 10.0}\n",
      "K-fold CV random state:  49\n",
      "Best fold accuracy :     0.5304878048780488\n"
     ]
    },
    {
     "data": {
      "text/html": [
       "\n",
       "                <audio controls=\"controls\" autoplay=\"autoplay\">\n",
       "                    <source src=\"./data/Glass.wav\" type=\"audio/x-wav\" />\n",
       "                    Your browser does not support the audio element.\n",
       "                </audio>\n",
       "              "
      ],
      "text/plain": [
       "<IPython.lib.display.Audio object>"
      ]
     },
     "metadata": {},
     "output_type": "display_data"
    },
    {
     "name": "stdout",
     "output_type": "stream",
     "text": [
      "Confusion matrix, without normalization\n",
      "[[36  0  0]\n",
      " [ 7 20  2]\n",
      " [ 2  0 15]]\n",
      "Normalized confusion matrix\n",
      "[[1.   0.   0.  ]\n",
      " [0.24 0.69 0.07]\n",
      " [0.12 0.   0.88]]\n",
      "Average normalized accuracy:  0.8573360378634213\n",
      "K-fold CV random state:       82\n"
     ]
    }
   ],
   "source": [
    "C, gamma = gridsearch_svcrbf(X_training=X_oneto1a, \n",
    "                             y_training=bin_oneto1a)\n",
    "\n",
    "results_df.loc[results_df['ENM-Organics-Ratio']=='1:1',\n",
    "               'Random-Augment-A'] = confusion_matrix_cv(X_training=X_oneto1a, \n",
    "                                                         y_training=bin_oneto1a, \n",
    "                                                         file_name='oneto1a')"
   ]
  },
  {
   "cell_type": "code",
   "execution_count": 419,
   "metadata": {
    "ExecuteTime": {
     "end_time": "2019-02-22T10:30:34.168411Z",
     "start_time": "2019-02-22T10:30:27.807960Z"
    }
   },
   "outputs": [
    {
     "name": "stdout",
     "output_type": "stream",
     "text": [
      "{'estimator__C': 1.0, 'estimator__gamma': 0.01}\n",
      "K-fold CV random state:  55\n",
      "Best fold accuracy :     0.5792682926829268\n"
     ]
    },
    {
     "data": {
      "text/html": [
       "\n",
       "                <audio controls=\"controls\" autoplay=\"autoplay\">\n",
       "                    <source src=\"./data/Glass.wav\" type=\"audio/x-wav\" />\n",
       "                    Your browser does not support the audio element.\n",
       "                </audio>\n",
       "              "
      ],
      "text/plain": [
       "<IPython.lib.display.Audio object>"
      ]
     },
     "metadata": {},
     "output_type": "display_data"
    },
    {
     "name": "stdout",
     "output_type": "stream",
     "text": [
      "Confusion matrix, without normalization\n",
      "[[36  0  0]\n",
      " [19  0 10]\n",
      " [ 9  0  8]]\n",
      "Normalized confusion matrix\n",
      "[[1.   0.   0.  ]\n",
      " [0.66 0.   0.34]\n",
      " [0.53 0.   0.47]]\n",
      "Average normalized accuracy:  0.4901960784313726\n",
      "K-fold CV random state:       94\n"
     ]
    }
   ],
   "source": [
    "C, gamma = gridsearch_svcrbf(X_training=X_oneto1b, \n",
    "                             y_training=bin_oneto1b)\n",
    "\n",
    "results_df.loc[results_df['ENM-Organics-Ratio']=='1:1',\n",
    "               'Random-Augment-B'] = confusion_matrix_cv(X_training=X_oneto1b, \n",
    "                                                         y_training=bin_oneto1b, \n",
    "                                                         file_name='oneto1b')"
   ]
  },
  {
   "cell_type": "code",
   "execution_count": 420,
   "metadata": {
    "ExecuteTime": {
     "end_time": "2019-02-22T10:30:39.526727Z",
     "start_time": "2019-02-22T10:30:34.177030Z"
    }
   },
   "outputs": [
    {
     "name": "stdout",
     "output_type": "stream",
     "text": [
      "{'estimator__C': 10.0, 'estimator__gamma': 10.0}\n",
      "K-fold CV random state:  86\n",
      "Best fold accuracy :     0.5426829268292683\n"
     ]
    },
    {
     "data": {
      "text/html": [
       "\n",
       "                <audio controls=\"controls\" autoplay=\"autoplay\">\n",
       "                    <source src=\"./data/Glass.wav\" type=\"audio/x-wav\" />\n",
       "                    Your browser does not support the audio element.\n",
       "                </audio>\n",
       "              "
      ],
      "text/plain": [
       "<IPython.lib.display.Audio object>"
      ]
     },
     "metadata": {},
     "output_type": "display_data"
    },
    {
     "name": "stdout",
     "output_type": "stream",
     "text": [
      "Confusion matrix, without normalization\n",
      "[[36  0  0]\n",
      " [ 7 20  2]\n",
      " [ 2  0 15]]\n",
      "Normalized confusion matrix\n",
      "[[1.   0.   0.  ]\n",
      " [0.24 0.69 0.07]\n",
      " [0.12 0.   0.88]]\n",
      "Average normalized accuracy:  0.8573360378634213\n",
      "K-fold CV random state:       69\n"
     ]
    }
   ],
   "source": [
    "C, gamma = gridsearch_svcrbf(X_training=X_oneto1c, \n",
    "                             y_training=bin_oneto1c)\n",
    "\n",
    "results_df.loc[results_df['ENM-Organics-Ratio']=='1:1',\n",
    "               'Random-Augment-C'] = confusion_matrix_cv(X_training=X_oneto1c, \n",
    "                                                         y_training=bin_oneto1c, \n",
    "                                                         file_name='oneto1c')"
   ]
  },
  {
   "cell_type": "markdown",
   "metadata": {},
   "source": [
    "## Matching 1:50"
   ]
  },
  {
   "cell_type": "code",
   "execution_count": 447,
   "metadata": {
    "ExecuteTime": {
     "end_time": "2019-02-22T12:44:01.315923Z",
     "start_time": "2019-02-22T12:28:08.186767Z"
    }
   },
   "outputs": [
    {
     "name": "stdout",
     "output_type": "stream",
     "text": [
      "{'estimator__C': 100000.0, 'estimator__gamma': 10.0}\n",
      "K-fold CV random state:  100\n",
      "Best fold accuracy :     0.7678144428503109\n"
     ]
    },
    {
     "data": {
      "text/html": [
       "\n",
       "                <audio controls=\"controls\" autoplay=\"autoplay\">\n",
       "                    <source src=\"./data/Glass.wav\" type=\"audio/x-wav\" />\n",
       "                    Your browser does not support the audio element.\n",
       "                </audio>\n",
       "              "
      ],
      "text/plain": [
       "<IPython.lib.display.Audio object>"
      ]
     },
     "metadata": {},
     "output_type": "display_data"
    },
    {
     "name": "stdout",
     "output_type": "stream",
     "text": [
      "Confusion matrix, without normalization\n",
      "[[36  0  0]\n",
      " [ 7 20  2]\n",
      " [ 2  0 15]]\n",
      "Normalized confusion matrix\n",
      "[[1.   0.   0.  ]\n",
      " [0.24 0.69 0.07]\n",
      " [0.12 0.   0.88]]\n",
      "Average normalized accuracy:  0.8573360378634213\n",
      "K-fold CV random state:       26\n"
     ]
    }
   ],
   "source": [
    "# Get optimized parameters for SVC-RBF\n",
    "C, gamma = gridsearch_svcrbf(X_training=X_match50, \n",
    "                             y_training=bin_match50, \n",
    "                             match_group = match_group50)\n",
    "\n",
    "# Apply SVC-RBF model; summarize performance in confusion matrices;\n",
    "# Assign the normalized average accuracy to results table\n",
    "results_df.loc[results_df['ENM-Organics-Ratio']=='1:50',\n",
    "               'Match-Feature-Augment'] = confusion_matrix_cv(X_training=X_match50, \n",
    "                                                              y_training=bin_match50, \n",
    "                                                              file_name='match50')"
   ]
  },
  {
   "cell_type": "markdown",
   "metadata": {},
   "source": [
    "## Matching 1:20"
   ]
  },
  {
   "cell_type": "code",
   "execution_count": 446,
   "metadata": {
    "ExecuteTime": {
     "end_time": "2019-02-22T11:37:07.185954Z",
     "start_time": "2019-02-22T11:34:31.531278Z"
    }
   },
   "outputs": [
    {
     "name": "stdout",
     "output_type": "stream",
     "text": [
      "{'estimator__C': 100000.0, 'estimator__gamma': 10.0}\n",
      "K-fold CV random state:  72\n",
      "Best fold accuracy :     0.7688734030197445\n"
     ]
    },
    {
     "data": {
      "text/html": [
       "\n",
       "                <audio controls=\"controls\" autoplay=\"autoplay\">\n",
       "                    <source src=\"./data/Glass.wav\" type=\"audio/x-wav\" />\n",
       "                    Your browser does not support the audio element.\n",
       "                </audio>\n",
       "              "
      ],
      "text/plain": [
       "<IPython.lib.display.Audio object>"
      ]
     },
     "metadata": {},
     "output_type": "display_data"
    },
    {
     "name": "stdout",
     "output_type": "stream",
     "text": [
      "Confusion matrix, without normalization\n",
      "[[36  0  0]\n",
      " [ 7 20  2]\n",
      " [ 2  0 15]]\n",
      "Normalized confusion matrix\n",
      "[[1.   0.   0.  ]\n",
      " [0.24 0.69 0.07]\n",
      " [0.12 0.   0.88]]\n",
      "Average normalized accuracy:  0.8573360378634213\n",
      "K-fold CV random state:       31\n"
     ]
    }
   ],
   "source": [
    "C, gamma = gridsearch_svcrbf(X_training=X_match20, \n",
    "                             y_training=bin_match20, \n",
    "                             match_group = match_group20)\n",
    "\n",
    "results_df.loc[results_df['ENM-Organics-Ratio']=='1:20',\n",
    "               'Match-Feature-Augment'] = confusion_matrix_cv(X_training=X_match20, \n",
    "                                                              y_training=bin_match20, \n",
    "                                                              file_name='match20')"
   ]
  },
  {
   "cell_type": "markdown",
   "metadata": {},
   "source": [
    "## Matching 1:10"
   ]
  },
  {
   "cell_type": "code",
   "execution_count": 445,
   "metadata": {
    "ExecuteTime": {
     "end_time": "2019-02-22T11:33:52.982453Z",
     "start_time": "2019-02-22T11:33:15.097878Z"
    }
   },
   "outputs": [
    {
     "name": "stdout",
     "output_type": "stream",
     "text": [
      "{'estimator__C': 1000.0, 'estimator__gamma': 10.0}\n",
      "K-fold CV random state:  31\n",
      "Best fold accuracy :     0.7782705099778271\n"
     ]
    },
    {
     "data": {
      "text/html": [
       "\n",
       "                <audio controls=\"controls\" autoplay=\"autoplay\">\n",
       "                    <source src=\"./data/Glass.wav\" type=\"audio/x-wav\" />\n",
       "                    Your browser does not support the audio element.\n",
       "                </audio>\n",
       "              "
      ],
      "text/plain": [
       "<IPython.lib.display.Audio object>"
      ]
     },
     "metadata": {},
     "output_type": "display_data"
    },
    {
     "name": "stdout",
     "output_type": "stream",
     "text": [
      "Confusion matrix, without normalization\n",
      "[[36  0  0]\n",
      " [ 7 20  2]\n",
      " [ 2  0 15]]\n",
      "Normalized confusion matrix\n",
      "[[1.   0.   0.  ]\n",
      " [0.24 0.69 0.07]\n",
      " [0.12 0.   0.88]]\n",
      "Average normalized accuracy:  0.8573360378634213\n",
      "K-fold CV random state:       48\n"
     ]
    }
   ],
   "source": [
    "C, gamma = gridsearch_svcrbf(X_training=X_match10, \n",
    "                             y_training=bin_match10, \n",
    "                             match_group = match_group10)\n",
    "\n",
    "results_df.loc[results_df['ENM-Organics-Ratio']=='1:10',\n",
    "               'Match-Feature-Augment'] = confusion_matrix_cv(X_training=X_match10, \n",
    "                                                              y_training=bin_match10, \n",
    "                                                              file_name='match10')"
   ]
  },
  {
   "cell_type": "markdown",
   "metadata": {},
   "source": [
    "## Matching 1:5"
   ]
  },
  {
   "cell_type": "code",
   "execution_count": 227,
   "metadata": {
    "ExecuteTime": {
     "end_time": "2019-02-26T08:41:12.664184Z",
     "start_time": "2019-02-26T08:40:59.237135Z"
    }
   },
   "outputs": [
    {
     "name": "stdout",
     "output_type": "stream",
     "text": [
      "{'estimator__C': 100000.0, 'estimator__gamma': 0.1}\n",
      "K-fold CV random state:  63\n",
      "Best fold accuracy :     0.823170731707317\n"
     ]
    },
    {
     "data": {
      "text/html": [
       "\n",
       "                <audio controls=\"controls\" autoplay=\"autoplay\">\n",
       "                    <source src=\"./data/Glass.wav\" type=\"audio/x-wav\" />\n",
       "                    Your browser does not support the audio element.\n",
       "                </audio>\n",
       "              "
      ],
      "text/plain": [
       "<IPython.lib.display.Audio object>"
      ]
     },
     "metadata": {},
     "output_type": "display_data"
    },
    {
     "name": "stdout",
     "output_type": "stream",
     "text": [
      "Confusion matrix, without normalization\n",
      "[[36  0  0]\n",
      " [ 7 20  2]\n",
      " [ 2  0 15]]\n",
      "Normalized confusion matrix\n",
      "[[1.   0.   0.  ]\n",
      " [0.24 0.69 0.07]\n",
      " [0.12 0.   0.88]]\n",
      "Average normalized accuracy:  0.8573360378634213\n",
      "K-fold CV random state:       81\n"
     ]
    }
   ],
   "source": [
    "C, gamma = gridsearch_svcrbf(X_training=X_match5, \n",
    "                             y_training=bin_match5, \n",
    "                             match_group = match_group5)\n",
    "\n",
    "results_df.loc[results_df['ENM-Organics-Ratio']=='1:5',\n",
    "               'Match-Feature-Augment'] = confusion_matrix_cv(X_training=X_match5, \n",
    "                                                              y_training=bin_match5, \n",
    "                                                              file_name='match5')"
   ]
  },
  {
   "cell_type": "markdown",
   "metadata": {},
   "source": [
    "## Matching 1:4"
   ]
  },
  {
   "cell_type": "code",
   "execution_count": 426,
   "metadata": {
    "ExecuteTime": {
     "end_time": "2019-02-22T10:35:42.507597Z",
     "start_time": "2019-02-22T10:35:31.034815Z"
    }
   },
   "outputs": [
    {
     "name": "stdout",
     "output_type": "stream",
     "text": [
      "{'estimator__C': 100.0, 'estimator__gamma': 10.0}\n",
      "K-fold CV random state:  98\n",
      "Best fold accuracy :     0.7975609756097561\n"
     ]
    },
    {
     "data": {
      "text/html": [
       "\n",
       "                <audio controls=\"controls\" autoplay=\"autoplay\">\n",
       "                    <source src=\"./data/Glass.wav\" type=\"audio/x-wav\" />\n",
       "                    Your browser does not support the audio element.\n",
       "                </audio>\n",
       "              "
      ],
      "text/plain": [
       "<IPython.lib.display.Audio object>"
      ]
     },
     "metadata": {},
     "output_type": "display_data"
    },
    {
     "name": "stdout",
     "output_type": "stream",
     "text": [
      "Confusion matrix, without normalization\n",
      "[[36  0  0]\n",
      " [ 7 20  2]\n",
      " [ 2  0 15]]\n",
      "Normalized confusion matrix\n",
      "[[1.   0.   0.  ]\n",
      " [0.24 0.69 0.07]\n",
      " [0.12 0.   0.88]]\n",
      "Average normalized accuracy:  0.8573360378634213\n",
      "K-fold CV random state:       79\n"
     ]
    }
   ],
   "source": [
    "C, gamma = gridsearch_svcrbf(X_training=X_match4, \n",
    "                             y_training=bin_match4, \n",
    "                             match_group = match_group4)\n",
    "\n",
    "results_df.loc[results_df['ENM-Organics-Ratio']=='1:4',\n",
    "               'Match-Feature-Augment'] = confusion_matrix_cv(X_training=X_match4, \n",
    "                                                              y_training=bin_match4, \n",
    "                                                              file_name='match4')"
   ]
  },
  {
   "cell_type": "markdown",
   "metadata": {},
   "source": [
    "## Matching 1:3"
   ]
  },
  {
   "cell_type": "code",
   "execution_count": 427,
   "metadata": {
    "ExecuteTime": {
     "end_time": "2019-02-22T10:36:02.219788Z",
     "start_time": "2019-02-22T10:35:54.158923Z"
    }
   },
   "outputs": [
    {
     "name": "stdout",
     "output_type": "stream",
     "text": [
      "{'estimator__C': 1000.0, 'estimator__gamma': 0.1}\n",
      "K-fold CV random state:  58\n",
      "Best fold accuracy :     0.7682926829268293\n"
     ]
    },
    {
     "data": {
      "text/html": [
       "\n",
       "                <audio controls=\"controls\" autoplay=\"autoplay\">\n",
       "                    <source src=\"./data/Glass.wav\" type=\"audio/x-wav\" />\n",
       "                    Your browser does not support the audio element.\n",
       "                </audio>\n",
       "              "
      ],
      "text/plain": [
       "<IPython.lib.display.Audio object>"
      ]
     },
     "metadata": {},
     "output_type": "display_data"
    },
    {
     "name": "stdout",
     "output_type": "stream",
     "text": [
      "Confusion matrix, without normalization\n",
      "[[36  0  0]\n",
      " [ 7 20  2]\n",
      " [ 2  0 15]]\n",
      "Normalized confusion matrix\n",
      "[[1.   0.   0.  ]\n",
      " [0.24 0.69 0.07]\n",
      " [0.12 0.   0.88]]\n",
      "Average normalized accuracy:  0.8573360378634213\n",
      "K-fold CV random state:       24\n"
     ]
    }
   ],
   "source": [
    "C, gamma = gridsearch_svcrbf(X_training=X_match3, \n",
    "                             y_training=bin_match3, \n",
    "                             match_group = match_group3)\n",
    "\n",
    "results_df.loc[results_df['ENM-Organics-Ratio']=='1:3',\n",
    "               'Match-Feature-Augment'] = confusion_matrix_cv(X_training=X_match3, \n",
    "                                                              y_training=bin_match3, \n",
    "                                                              file_name='match3')"
   ]
  },
  {
   "cell_type": "markdown",
   "metadata": {},
   "source": [
    "## Matching 1:2"
   ]
  },
  {
   "cell_type": "code",
   "execution_count": 428,
   "metadata": {
    "ExecuteTime": {
     "end_time": "2019-02-22T10:36:23.740597Z",
     "start_time": "2019-02-22T10:36:16.388748Z"
    }
   },
   "outputs": [
    {
     "name": "stdout",
     "output_type": "stream",
     "text": [
      "{'estimator__C': 100.0, 'estimator__gamma': 1.0}\n",
      "K-fold CV random state:  85\n",
      "Best fold accuracy :     0.7317073170731707\n"
     ]
    },
    {
     "data": {
      "text/html": [
       "\n",
       "                <audio controls=\"controls\" autoplay=\"autoplay\">\n",
       "                    <source src=\"./data/Glass.wav\" type=\"audio/x-wav\" />\n",
       "                    Your browser does not support the audio element.\n",
       "                </audio>\n",
       "              "
      ],
      "text/plain": [
       "<IPython.lib.display.Audio object>"
      ]
     },
     "metadata": {},
     "output_type": "display_data"
    },
    {
     "name": "stdout",
     "output_type": "stream",
     "text": [
      "Confusion matrix, without normalization\n",
      "[[36  0  0]\n",
      " [ 7 20  2]\n",
      " [ 2  0 15]]\n",
      "Normalized confusion matrix\n",
      "[[1.   0.   0.  ]\n",
      " [0.24 0.69 0.07]\n",
      " [0.12 0.   0.88]]\n",
      "Average normalized accuracy:  0.8573360378634213\n",
      "K-fold CV random state:       88\n"
     ]
    }
   ],
   "source": [
    "C, gamma = gridsearch_svcrbf(X_training=X_match2, \n",
    "                             y_training=bin_match2, \n",
    "                             match_group = match_group2)\n",
    "\n",
    "results_df.loc[results_df['ENM-Organics-Ratio']=='1:2',\n",
    "               'Match-Feature-Augment'] = confusion_matrix_cv(X_training=X_match2, \n",
    "                                                              y_training=bin_match2, \n",
    "                                                              file_name='match2')"
   ]
  },
  {
   "cell_type": "markdown",
   "metadata": {},
   "source": [
    "## Matching 1:1"
   ]
  },
  {
   "cell_type": "code",
   "execution_count": 228,
   "metadata": {
    "ExecuteTime": {
     "end_time": "2019-02-26T08:41:54.290313Z",
     "start_time": "2019-02-26T08:41:50.655116Z"
    }
   },
   "outputs": [
    {
     "name": "stdout",
     "output_type": "stream",
     "text": [
      "{'estimator__C': 100.0, 'estimator__gamma': 0.1}\n",
      "K-fold CV random state:  60\n",
      "Best fold accuracy :     0.7073170731707317\n"
     ]
    },
    {
     "data": {
      "text/html": [
       "\n",
       "                <audio controls=\"controls\" autoplay=\"autoplay\">\n",
       "                    <source src=\"./data/Glass.wav\" type=\"audio/x-wav\" />\n",
       "                    Your browser does not support the audio element.\n",
       "                </audio>\n",
       "              "
      ],
      "text/plain": [
       "<IPython.lib.display.Audio object>"
      ]
     },
     "metadata": {},
     "output_type": "display_data"
    },
    {
     "name": "stdout",
     "output_type": "stream",
     "text": [
      "Confusion matrix, without normalization\n",
      "[[36  0  0]\n",
      " [ 7 20  2]\n",
      " [ 2  0 15]]\n",
      "Normalized confusion matrix\n",
      "[[1.   0.   0.  ]\n",
      " [0.24 0.69 0.07]\n",
      " [0.12 0.   0.88]]\n",
      "Average normalized accuracy:  0.8573360378634213\n",
      "K-fold CV random state:       75\n"
     ]
    }
   ],
   "source": [
    "C, gamma = gridsearch_svcrbf(X_training=X_match1, \n",
    "                             y_training=bin_match1, \n",
    "                             match_group = match_group1)\n",
    "\n",
    "results_df.loc[results_df['ENM-Organics-Ratio']=='1:1',\n",
    "               'Match-Feature-Augment'] = confusion_matrix_cv(X_training=X_match1, \n",
    "                                                              y_training=bin_match1, \n",
    "                                                              file_name='match1')"
   ]
  },
  {
   "cell_type": "markdown",
   "metadata": {},
   "source": [
    "## Matching label 1:50"
   ]
  },
  {
   "cell_type": "code",
   "execution_count": 103,
   "metadata": {
    "ExecuteTime": {
     "end_time": "2019-02-25T10:01:53.957304Z",
     "start_time": "2019-02-25T09:53:14.007215Z"
    }
   },
   "outputs": [
    {
     "name": "stdout",
     "output_type": "stream",
     "text": [
      "{'estimator__C': 100000.0, 'estimator__gamma': 1.0}\n",
      "K-fold CV random state:  80\n",
      "Best fold accuracy :     0.7685318029650885\n"
     ]
    },
    {
     "data": {
      "text/html": [
       "\n",
       "                <audio controls=\"controls\" autoplay=\"autoplay\">\n",
       "                    <source src=\"./data/Glass.wav\" type=\"audio/x-wav\" />\n",
       "                    Your browser does not support the audio element.\n",
       "                </audio>\n",
       "              "
      ],
      "text/plain": [
       "<IPython.lib.display.Audio object>"
      ]
     },
     "metadata": {},
     "output_type": "display_data"
    },
    {
     "name": "stdout",
     "output_type": "stream",
     "text": [
      "Confusion matrix, without normalization\n",
      "[[28  6  2]\n",
      " [ 2 25  2]\n",
      " [ 0  1 16]]\n",
      "Normalized confusion matrix\n",
      "[[0.78 0.17 0.06]\n",
      " [0.07 0.86 0.07]\n",
      " [0.   0.06 0.94]]\n",
      "Average normalized accuracy:  0.8603410712944181\n",
      "K-fold CV random state:       85\n"
     ]
    }
   ],
   "source": [
    "# Get optimized parameters for SVC-RBF\n",
    "C, gamma = gridsearch_svcrbf(X_training=X_matchlab50, \n",
    "                             y_training=bin_matchlab50, \n",
    "                             match_group = match_group50)\n",
    "\n",
    "# Apply SVC-RBF model; summarize performance in confusion matrices;\n",
    "# Assign the normalized average accuracy to results table\n",
    "results_df.loc[results_df['ENM-Organics-Ratio']=='1:50',\n",
    "               'Match-Label-Augment'] = confusion_matrix_cv(X_training=X_matchlab50, \n",
    "                                                            y_training=bin_matchlab50, \n",
    "                                                            file_name='matchlab50')"
   ]
  },
  {
   "cell_type": "markdown",
   "metadata": {},
   "source": [
    "## Matching label 1:20"
   ]
  },
  {
   "cell_type": "code",
   "execution_count": 451,
   "metadata": {
    "ExecuteTime": {
     "end_time": "2019-02-22T12:56:02.952965Z",
     "start_time": "2019-02-22T12:50:38.705060Z"
    }
   },
   "outputs": [
    {
     "name": "stdout",
     "output_type": "stream",
     "text": [
      "{'estimator__C': 3162277.6601683795, 'estimator__gamma': 0.1}\n",
      "K-fold CV random state:  24\n",
      "Best fold accuracy :     0.7497096399535423\n"
     ]
    },
    {
     "data": {
      "text/html": [
       "\n",
       "                <audio controls=\"controls\" autoplay=\"autoplay\">\n",
       "                    <source src=\"./data/Glass.wav\" type=\"audio/x-wav\" />\n",
       "                    Your browser does not support the audio element.\n",
       "                </audio>\n",
       "              "
      ],
      "text/plain": [
       "<IPython.lib.display.Audio object>"
      ]
     },
     "metadata": {},
     "output_type": "display_data"
    },
    {
     "name": "stdout",
     "output_type": "stream",
     "text": [
      "Confusion matrix, without normalization\n",
      "[[28  6  2]\n",
      " [ 2 25  2]\n",
      " [ 0  1 16]]\n",
      "Normalized confusion matrix\n",
      "[[0.78 0.17 0.06]\n",
      " [0.07 0.86 0.07]\n",
      " [0.   0.06 0.94]]\n",
      "Average normalized accuracy:  0.8603410712944181\n",
      "K-fold CV random state:       24\n"
     ]
    }
   ],
   "source": [
    "C, gamma = gridsearch_svcrbf(X_training=X_matchlab20, \n",
    "                             y_training=bin_matchlab20, \n",
    "                             c_set = np.logspace(-1,7,17), \n",
    "                             gamma_set = np.logspace(-7,1,17), \n",
    "                             match_group = match_group20)\n",
    "\n",
    "results_df.loc[results_df['ENM-Organics-Ratio']=='1:20',\n",
    "               'Match-Label-Augment'] = confusion_matrix_cv(X_training=X_matchlab20, \n",
    "                                                            y_training=bin_matchlab20, \n",
    "                                                            X_testing=X_enm, \n",
    "                                                            y_testing=bin_enm, \n",
    "                                                            file_name='matchlab20')"
   ]
  },
  {
   "cell_type": "markdown",
   "metadata": {},
   "source": [
    "## Matching label 1:10"
   ]
  },
  {
   "cell_type": "code",
   "execution_count": 448,
   "metadata": {
    "ExecuteTime": {
     "end_time": "2019-02-22T12:47:24.676491Z",
     "start_time": "2019-02-22T12:46:55.901031Z"
    }
   },
   "outputs": [
    {
     "name": "stdout",
     "output_type": "stream",
     "text": [
      "{'estimator__C': 100000.0, 'estimator__gamma': 0.01}\n",
      "K-fold CV random state:  37\n",
      "Best fold accuracy :     0.7827050997782705\n"
     ]
    },
    {
     "data": {
      "text/html": [
       "\n",
       "                <audio controls=\"controls\" autoplay=\"autoplay\">\n",
       "                    <source src=\"./data/Glass.wav\" type=\"audio/x-wav\" />\n",
       "                    Your browser does not support the audio element.\n",
       "                </audio>\n",
       "              "
      ],
      "text/plain": [
       "<IPython.lib.display.Audio object>"
      ]
     },
     "metadata": {},
     "output_type": "display_data"
    },
    {
     "name": "stdout",
     "output_type": "stream",
     "text": [
      "Confusion matrix, without normalization\n",
      "[[28  6  2]\n",
      " [ 2 25  2]\n",
      " [ 0  1 16]]\n",
      "Normalized confusion matrix\n",
      "[[0.78 0.17 0.06]\n",
      " [0.07 0.86 0.07]\n",
      " [0.   0.06 0.94]]\n",
      "Average normalized accuracy:  0.8603410712944181\n",
      "K-fold CV random state:       25\n"
     ]
    }
   ],
   "source": [
    "C, gamma = gridsearch_svcrbf(X_training=X_matchlab10, \n",
    "                             y_training=bin_matchlab10, \n",
    "                             c_set = np.logspace(-1,7,9), \n",
    "                             gamma_set = np.logspace(-7,1,9), \n",
    "                             match_group = match_group10)\n",
    "\n",
    "results_df.loc[results_df['ENM-Organics-Ratio']=='1:10',\n",
    "               'Match-Label-Augment'] = confusion_matrix_cv(X_training=X_matchlab10, \n",
    "                                                            y_training=bin_matchlab10, \n",
    "                                                            X_testing=X_enm, \n",
    "                                                            y_testing=bin_enm, \n",
    "                                                            file_name='matchlab10')"
   ]
  },
  {
   "cell_type": "markdown",
   "metadata": {},
   "source": [
    "## Matching label 1:5"
   ]
  },
  {
   "cell_type": "code",
   "execution_count": 438,
   "metadata": {
    "ExecuteTime": {
     "end_time": "2019-02-22T10:54:32.549033Z",
     "start_time": "2019-02-22T10:54:21.461285Z"
    }
   },
   "outputs": [
    {
     "name": "stdout",
     "output_type": "stream",
     "text": [
      "{'estimator__C': 100.0, 'estimator__gamma': 1.0}\n",
      "K-fold CV random state:  52\n",
      "Best fold accuracy :     0.790650406504065\n"
     ]
    },
    {
     "data": {
      "text/html": [
       "\n",
       "                <audio controls=\"controls\" autoplay=\"autoplay\">\n",
       "                    <source src=\"./data/Glass.wav\" type=\"audio/x-wav\" />\n",
       "                    Your browser does not support the audio element.\n",
       "                </audio>\n",
       "              "
      ],
      "text/plain": [
       "<IPython.lib.display.Audio object>"
      ]
     },
     "metadata": {},
     "output_type": "display_data"
    },
    {
     "name": "stdout",
     "output_type": "stream",
     "text": [
      "Confusion matrix, without normalization\n",
      "[[28  6  2]\n",
      " [ 2 25  2]\n",
      " [ 0  1 16]]\n",
      "Normalized confusion matrix\n",
      "[[0.78 0.17 0.06]\n",
      " [0.07 0.86 0.07]\n",
      " [0.   0.06 0.94]]\n",
      "Average normalized accuracy:  0.8603410712944181\n",
      "K-fold CV random state:       73\n"
     ]
    }
   ],
   "source": [
    "C, gamma = gridsearch_svcrbf(X_training=X_matchlab5, \n",
    "                             y_training=bin_matchlab5, \n",
    "                             c_set = np.logspace(-1,7,9), \n",
    "                             gamma_set = np.logspace(-7,1,9), \n",
    "                             match_group = match_group5)\n",
    "\n",
    "results_df.loc[results_df['ENM-Organics-Ratio']=='1:5',\n",
    "               'Match-Label-Augment'] = confusion_matrix_cv(X_training=X_matchlab5, \n",
    "                                                            y_training=bin_matchlab5, \n",
    "                                                            X_testing=X_enm, \n",
    "                                                            y_testing=bin_enm, \n",
    "                                                            file_name='matchlab5')"
   ]
  },
  {
   "cell_type": "markdown",
   "metadata": {},
   "source": [
    "## Matching label 1:4"
   ]
  },
  {
   "cell_type": "code",
   "execution_count": 439,
   "metadata": {
    "ExecuteTime": {
     "end_time": "2019-02-22T10:54:54.427132Z",
     "start_time": "2019-02-22T10:54:45.418851Z"
    }
   },
   "outputs": [
    {
     "name": "stdout",
     "output_type": "stream",
     "text": [
      "{'estimator__C': 10.0, 'estimator__gamma': 0.1}\n",
      "K-fold CV random state:  65\n",
      "Best fold accuracy :     0.7658536585365854\n"
     ]
    },
    {
     "data": {
      "text/html": [
       "\n",
       "                <audio controls=\"controls\" autoplay=\"autoplay\">\n",
       "                    <source src=\"./data/Glass.wav\" type=\"audio/x-wav\" />\n",
       "                    Your browser does not support the audio element.\n",
       "                </audio>\n",
       "              "
      ],
      "text/plain": [
       "<IPython.lib.display.Audio object>"
      ]
     },
     "metadata": {},
     "output_type": "display_data"
    },
    {
     "name": "stdout",
     "output_type": "stream",
     "text": [
      "Confusion matrix, without normalization\n",
      "[[27  7  2]\n",
      " [ 2 24  3]\n",
      " [ 1  1 15]]\n",
      "Normalized confusion matrix\n",
      "[[0.75 0.19 0.06]\n",
      " [0.07 0.83 0.1 ]\n",
      " [0.06 0.06 0.88]]\n",
      "Average normalized accuracy:  0.8199797160243407\n",
      "K-fold CV random state:       94\n"
     ]
    }
   ],
   "source": [
    "C, gamma = gridsearch_svcrbf(X_training=X_matchlab4, \n",
    "                             y_training=bin_matchlab4, \n",
    "                             c_set = np.logspace(-1,7,9), \n",
    "                             gamma_set = np.logspace(-7,1,9), \n",
    "                             match_group = match_group4)\n",
    "\n",
    "results_df.loc[results_df['ENM-Organics-Ratio']=='1:4',\n",
    "               'Match-Label-Augment'] = confusion_matrix_cv(X_training=X_matchlab4, \n",
    "                                                            y_training=bin_matchlab4, \n",
    "                                                            X_testing=X_enm, \n",
    "                                                            y_testing=bin_enm, \n",
    "                                                            file_name='matchlab4')"
   ]
  },
  {
   "cell_type": "markdown",
   "metadata": {},
   "source": [
    "## Matching label 1:3"
   ]
  },
  {
   "cell_type": "code",
   "execution_count": 129,
   "metadata": {
    "ExecuteTime": {
     "end_time": "2019-02-25T10:29:59.310075Z",
     "start_time": "2019-02-25T10:29:52.588422Z"
    }
   },
   "outputs": [
    {
     "name": "stdout",
     "output_type": "stream",
     "text": [
      "{'estimator__C': 10.0, 'estimator__gamma': 0.1}\n",
      "K-fold CV random state:  22\n",
      "Best fold accuracy :     0.75\n"
     ]
    },
    {
     "data": {
      "text/html": [
       "\n",
       "                <audio controls=\"controls\" autoplay=\"autoplay\">\n",
       "                    <source src=\"./data/Glass.wav\" type=\"audio/x-wav\" />\n",
       "                    Your browser does not support the audio element.\n",
       "                </audio>\n",
       "              "
      ],
      "text/plain": [
       "<IPython.lib.display.Audio object>"
      ]
     },
     "metadata": {},
     "output_type": "display_data"
    },
    {
     "name": "stdout",
     "output_type": "stream",
     "text": [
      "Confusion matrix, without normalization\n",
      "[[27  7  2]\n",
      " [ 2 24  3]\n",
      " [ 2  1 14]]\n",
      "Normalized confusion matrix\n",
      "[[0.75 0.19 0.06]\n",
      " [0.07 0.83 0.1 ]\n",
      " [0.12 0.06 0.82]]\n",
      "Average normalized accuracy:  0.8003718728870858\n",
      "K-fold CV random state:       16\n"
     ]
    }
   ],
   "source": [
    "C, gamma = gridsearch_svcrbf(X_training=X_matchlab3, \n",
    "                             y_training=bin_matchlab3, \n",
    "                             c_set = np.logspace(-1,7,9), \n",
    "                             gamma_set = np.logspace(-7,1,9), \n",
    "                             match_group = match_group3)\n",
    "\n",
    "results_df.loc[results_df['ENM-Organics-Ratio']=='1:3',\n",
    "               'Match-Label-Augment'] = confusion_matrix_cv(X_training=X_matchlab3, \n",
    "                                                            y_training=bin_matchlab3, \n",
    "                                                            X_testing=X_enm, \n",
    "                                                            y_testing=bin_enm, \n",
    "                                                            file_name='matchlab3')"
   ]
  },
  {
   "cell_type": "markdown",
   "metadata": {},
   "source": [
    "## Matching label 1:2"
   ]
  },
  {
   "cell_type": "code",
   "execution_count": 130,
   "metadata": {
    "ExecuteTime": {
     "end_time": "2019-02-25T10:30:09.117596Z",
     "start_time": "2019-02-25T10:30:03.723107Z"
    }
   },
   "outputs": [
    {
     "name": "stdout",
     "output_type": "stream",
     "text": [
      "{'estimator__C': 100.0, 'estimator__gamma': 1.0}\n",
      "K-fold CV random state:  46\n",
      "Best fold accuracy :     0.7439024390243902\n"
     ]
    },
    {
     "data": {
      "text/html": [
       "\n",
       "                <audio controls=\"controls\" autoplay=\"autoplay\">\n",
       "                    <source src=\"./data/Glass.wav\" type=\"audio/x-wav\" />\n",
       "                    Your browser does not support the audio element.\n",
       "                </audio>\n",
       "              "
      ],
      "text/plain": [
       "<IPython.lib.display.Audio object>"
      ]
     },
     "metadata": {},
     "output_type": "display_data"
    },
    {
     "name": "stdout",
     "output_type": "stream",
     "text": [
      "Confusion matrix, without normalization\n",
      "[[28  6  2]\n",
      " [ 2 25  2]\n",
      " [ 0  1 16]]\n",
      "Normalized confusion matrix\n",
      "[[0.78 0.17 0.06]\n",
      " [0.07 0.86 0.07]\n",
      " [0.   0.06 0.94]]\n",
      "Average normalized accuracy:  0.8603410712944181\n",
      "K-fold CV random state:       34\n"
     ]
    }
   ],
   "source": [
    "C, gamma = gridsearch_svcrbf(X_training=X_matchlab2, \n",
    "                             y_training=bin_matchlab2, \n",
    "                             c_set = np.logspace(-1,7,9), \n",
    "                             gamma_set = np.logspace(-7,1,9), \n",
    "                             match_group = match_group2)\n",
    "\n",
    "results_df.loc[results_df['ENM-Organics-Ratio']=='1:2',\n",
    "               'Match-Label-Augment'] = confusion_matrix_cv(X_training=X_matchlab2, \n",
    "                                                            y_training=bin_matchlab2, \n",
    "                                                            X_testing=X_enm, \n",
    "                                                            y_testing=bin_enm, \n",
    "                                                            file_name='matchlab2')"
   ]
  },
  {
   "cell_type": "markdown",
   "metadata": {},
   "source": [
    "## Matching label 1:1"
   ]
  },
  {
   "cell_type": "code",
   "execution_count": 131,
   "metadata": {
    "ExecuteTime": {
     "end_time": "2019-02-25T10:30:18.269539Z",
     "start_time": "2019-02-25T10:30:15.028043Z"
    }
   },
   "outputs": [
    {
     "name": "stdout",
     "output_type": "stream",
     "text": [
      "{'estimator__C': 100000.0, 'estimator__gamma': 0.0001}\n",
      "K-fold CV random state:  41\n",
      "Best fold accuracy :     0.7073170731707317\n"
     ]
    },
    {
     "data": {
      "text/html": [
       "\n",
       "                <audio controls=\"controls\" autoplay=\"autoplay\">\n",
       "                    <source src=\"./data/Glass.wav\" type=\"audio/x-wav\" />\n",
       "                    Your browser does not support the audio element.\n",
       "                </audio>\n",
       "              "
      ],
      "text/plain": [
       "<IPython.lib.display.Audio object>"
      ]
     },
     "metadata": {},
     "output_type": "display_data"
    },
    {
     "name": "stdout",
     "output_type": "stream",
     "text": [
      "Confusion matrix, without normalization\n",
      "[[28  6  2]\n",
      " [ 2 25  2]\n",
      " [ 2  1 14]]\n",
      "Normalized confusion matrix\n",
      "[[0.78 0.17 0.06]\n",
      " [0.07 0.86 0.07]\n",
      " [0.12 0.06 0.82]]\n",
      "Average normalized accuracy:  0.8211253850199084\n",
      "K-fold CV random state:       43\n"
     ]
    }
   ],
   "source": [
    "C, gamma = gridsearch_svcrbf(X_training=X_matchlab1, \n",
    "                             y_training=bin_matchlab1, \n",
    "                             c_set = np.logspace(-1,7,9), \n",
    "                             gamma_set = np.logspace(-7,1,9), \n",
    "                             match_group = match_group1)\n",
    "\n",
    "results_df.loc[results_df['ENM-Organics-Ratio']=='1:1',\n",
    "               'Match-Label-Augment'] = confusion_matrix_cv(X_training=X_matchlab1, \n",
    "                                                            y_training=bin_matchlab1, \n",
    "                                                            X_testing=X_enm, \n",
    "                                                            y_testing=bin_enm, \n",
    "                                                            file_name='matchlab1')"
   ]
  },
  {
   "cell_type": "markdown",
   "metadata": {},
   "source": [
    "## Performance Results"
   ]
  },
  {
   "cell_type": "markdown",
   "metadata": {},
   "source": [
    "The following table summarizes the average normalized accuracy for SVC-RBF models on all data frames.\n",
    "* 'ENM-Organics-Ratio' describes the ratio of ENM data to organics data used for augmentation. \n",
    "* 'Percent-Organics' is a similar descriptor, but explains what percent of the orginal 16,354 organics data points were used for augmenting the ENM data.\n",
    "* An ENM-Organics-Ratio with ( * ) indicates that the labels were randomly permuted\n",
    "* 'Match-Feature-Augment' is average accuracy across all bins for data frames with ENM data augmented with organics data based on the closest matching features.\n",
    "* 'Match-Label-Augment' is average accuracy across all bins for data frames with ENM data augmented with organics data based on the closest matching features AND labels (weighted 1:1).\n",
    "* The second trial (B) of the ENM-only data (1:0 ratio) is with different a different parameter grid for optimizing the SVC-RBF.\n",
    "\n",
    "Matching augmentation was not performed on data frames only containing ENM data (non-permuted and permuted)."
   ]
  },
  {
   "cell_type": "code",
   "execution_count": 119,
   "metadata": {
    "ExecuteTime": {
     "end_time": "2019-02-26T21:22:41.028094Z",
     "start_time": "2019-02-26T21:22:40.932422Z"
    }
   },
   "outputs": [
    {
     "name": "stderr",
     "output_type": "stream",
     "text": [
      "/anaconda3/lib/python3.6/site-packages/matplotlib/colors.py:504: RuntimeWarning: invalid value encountered in less\n",
      "  xa[xa < 0] = -1\n"
     ]
    },
    {
     "data": {
      "text/html": [
       "<style  type=\"text/css\" >\n",
       "    #T_a5f8fa12_3a0c_11e9_a25d_4a0005f8ab30row0_col1 {\n",
       "            background-color:  #ffba00;\n",
       "        }    #T_a5f8fa12_3a0c_11e9_a25d_4a0005f8ab30row0_col2 {\n",
       "            background-color:  #e4ff7a;\n",
       "        }    #T_a5f8fa12_3a0c_11e9_a25d_4a0005f8ab30row0_col3 {\n",
       "            background-color:  #e4ff7a;\n",
       "        }    #T_a5f8fa12_3a0c_11e9_a25d_4a0005f8ab30row0_col4 {\n",
       "            background-color:  #ffa100;\n",
       "        }    #T_a5f8fa12_3a0c_11e9_a25d_4a0005f8ab30row0_col5 {\n",
       "            background-color:  #e4ff7a;\n",
       "        }    #T_a5f8fa12_3a0c_11e9_a25d_4a0005f8ab30row0_col6 {\n",
       "            background-color:  #e4ff7a;\n",
       "        }    #T_a5f8fa12_3a0c_11e9_a25d_4a0005f8ab30row0_col7 {\n",
       "            background-color:  #e4ff7a;\n",
       "        }    #T_a5f8fa12_3a0c_11e9_a25d_4a0005f8ab30row1_col1 {\n",
       "            background-color:  #eff551;\n",
       "        }    #T_a5f8fa12_3a0c_11e9_a25d_4a0005f8ab30row1_col2 {\n",
       "            background-color:  #f9ed30;\n",
       "        }    #T_a5f8fa12_3a0c_11e9_a25d_4a0005f8ab30row1_col3 {\n",
       "            background-color:  #ebf962;\n",
       "        }    #T_a5f8fa12_3a0c_11e9_a25d_4a0005f8ab30row1_col4 {\n",
       "            background-color:  #e4ff7a;\n",
       "        }    #T_a5f8fa12_3a0c_11e9_a25d_4a0005f8ab30row1_col5 {\n",
       "            background-color:  #ffbf01;\n",
       "        }    #T_a5f8fa12_3a0c_11e9_a25d_4a0005f8ab30row1_col6 {\n",
       "            background-color:  #e4ff7a;\n",
       "        }    #T_a5f8fa12_3a0c_11e9_a25d_4a0005f8ab30row1_col7 {\n",
       "            background-color:  #e4ff7a;\n",
       "        }    #T_a5f8fa12_3a0c_11e9_a25d_4a0005f8ab30row2_col1 {\n",
       "            background-color:  #fc7f00;\n",
       "        }    #T_a5f8fa12_3a0c_11e9_a25d_4a0005f8ab30row2_col2 {\n",
       "            background-color:  #e4ff7a;\n",
       "        }    #T_a5f8fa12_3a0c_11e9_a25d_4a0005f8ab30row2_col3 {\n",
       "            background-color:  #fc7f00;\n",
       "        }    #T_a5f8fa12_3a0c_11e9_a25d_4a0005f8ab30row2_col4 {\n",
       "            background-color:  #ffc102;\n",
       "        }    #T_a5f8fa12_3a0c_11e9_a25d_4a0005f8ab30row2_col5 {\n",
       "            background-color:  #fc7f00;\n",
       "        }    #T_a5f8fa12_3a0c_11e9_a25d_4a0005f8ab30row2_col6 {\n",
       "            background-color:  #ffb100;\n",
       "        }    #T_a5f8fa12_3a0c_11e9_a25d_4a0005f8ab30row2_col7 {\n",
       "            background-color:  #ffd810;\n",
       "        }    #T_a5f8fa12_3a0c_11e9_a25d_4a0005f8ab30row3_col1 {\n",
       "            background-color:  #fc7f00;\n",
       "        }    #T_a5f8fa12_3a0c_11e9_a25d_4a0005f8ab30row3_col2 {\n",
       "            background-color:  #fd8a00;\n",
       "        }    #T_a5f8fa12_3a0c_11e9_a25d_4a0005f8ab30row3_col3 {\n",
       "            background-color:  #fc7f00;\n",
       "        }    #T_a5f8fa12_3a0c_11e9_a25d_4a0005f8ab30row3_col4 {\n",
       "            background-color:  #fd8500;\n",
       "        }    #T_a5f8fa12_3a0c_11e9_a25d_4a0005f8ab30row3_col5 {\n",
       "            background-color:  #edf75a;\n",
       "        }    #T_a5f8fa12_3a0c_11e9_a25d_4a0005f8ab30row3_col6 {\n",
       "            background-color:  #e4ff7a;\n",
       "        }    #T_a5f8fa12_3a0c_11e9_a25d_4a0005f8ab30row3_col7 {\n",
       "            background-color:  #fc7f00;\n",
       "        }    #T_a5f8fa12_3a0c_11e9_a25d_4a0005f8ab30row4_col1 {\n",
       "            background-color:  #fc7f00;\n",
       "        }    #T_a5f8fa12_3a0c_11e9_a25d_4a0005f8ab30row4_col2 {\n",
       "            background-color:  #fc7f00;\n",
       "        }    #T_a5f8fa12_3a0c_11e9_a25d_4a0005f8ab30row4_col3 {\n",
       "            background-color:  #e4ff7a;\n",
       "        }    #T_a5f8fa12_3a0c_11e9_a25d_4a0005f8ab30row4_col4 {\n",
       "            background-color:  #ffb700;\n",
       "        }    #T_a5f8fa12_3a0c_11e9_a25d_4a0005f8ab30row4_col5 {\n",
       "            background-color:  #fe9200;\n",
       "        }    #T_a5f8fa12_3a0c_11e9_a25d_4a0005f8ab30row4_col6 {\n",
       "            background-color:  #fc7f00;\n",
       "        }    #T_a5f8fa12_3a0c_11e9_a25d_4a0005f8ab30row4_col7 {\n",
       "            background-color:  #e4ff7a;\n",
       "        }    #T_a5f8fa12_3a0c_11e9_a25d_4a0005f8ab30row5_col1 {\n",
       "            background-color:  #fc7f00;\n",
       "        }    #T_a5f8fa12_3a0c_11e9_a25d_4a0005f8ab30row5_col2 {\n",
       "            background-color:  #fc7f00;\n",
       "        }    #T_a5f8fa12_3a0c_11e9_a25d_4a0005f8ab30row5_col3 {\n",
       "            background-color:  #fc7f00;\n",
       "        }    #T_a5f8fa12_3a0c_11e9_a25d_4a0005f8ab30row5_col4 {\n",
       "            background-color:  #fc7f00;\n",
       "        }    #T_a5f8fa12_3a0c_11e9_a25d_4a0005f8ab30row5_col5 {\n",
       "            background-color:  #e4ff7a;\n",
       "        }    #T_a5f8fa12_3a0c_11e9_a25d_4a0005f8ab30row5_col6 {\n",
       "            background-color:  #fc7f00;\n",
       "        }    #T_a5f8fa12_3a0c_11e9_a25d_4a0005f8ab30row5_col7 {\n",
       "            background-color:  #ffdb12;\n",
       "        }    #T_a5f8fa12_3a0c_11e9_a25d_4a0005f8ab30row6_col1 {\n",
       "            background-color:  #fc7f00;\n",
       "        }    #T_a5f8fa12_3a0c_11e9_a25d_4a0005f8ab30row6_col2 {\n",
       "            background-color:  #fc7f00;\n",
       "        }    #T_a5f8fa12_3a0c_11e9_a25d_4a0005f8ab30row6_col3 {\n",
       "            background-color:  #fc7f00;\n",
       "        }    #T_a5f8fa12_3a0c_11e9_a25d_4a0005f8ab30row6_col4 {\n",
       "            background-color:  #fc7f00;\n",
       "        }    #T_a5f8fa12_3a0c_11e9_a25d_4a0005f8ab30row6_col5 {\n",
       "            background-color:  #e4ff7a;\n",
       "        }    #T_a5f8fa12_3a0c_11e9_a25d_4a0005f8ab30row6_col6 {\n",
       "            background-color:  #fc7f00;\n",
       "        }    #T_a5f8fa12_3a0c_11e9_a25d_4a0005f8ab30row6_col7 {\n",
       "            background-color:  #fc7f00;\n",
       "        }    #T_a5f8fa12_3a0c_11e9_a25d_4a0005f8ab30row7_col1 {\n",
       "            background-color:  #fc7f00;\n",
       "        }    #T_a5f8fa12_3a0c_11e9_a25d_4a0005f8ab30row7_col2 {\n",
       "            background-color:  #fc7f00;\n",
       "        }    #T_a5f8fa12_3a0c_11e9_a25d_4a0005f8ab30row7_col3 {\n",
       "            background-color:  #fc7f00;\n",
       "        }    #T_a5f8fa12_3a0c_11e9_a25d_4a0005f8ab30row7_col4 {\n",
       "            background-color:  #fc7f00;\n",
       "        }    #T_a5f8fa12_3a0c_11e9_a25d_4a0005f8ab30row7_col5 {\n",
       "            background-color:  #e4ff7a;\n",
       "        }    #T_a5f8fa12_3a0c_11e9_a25d_4a0005f8ab30row7_col6 {\n",
       "            background-color:  #fc7f00;\n",
       "        }    #T_a5f8fa12_3a0c_11e9_a25d_4a0005f8ab30row7_col7 {\n",
       "            background-color:  #fc7f00;\n",
       "        }    #T_a5f8fa12_3a0c_11e9_a25d_4a0005f8ab30row8_col1 {\n",
       "            background-color:  #fc7f00;\n",
       "        }    #T_a5f8fa12_3a0c_11e9_a25d_4a0005f8ab30row8_col2 {\n",
       "            background-color:  #fc7f00;\n",
       "        }    #T_a5f8fa12_3a0c_11e9_a25d_4a0005f8ab30row8_col3 {\n",
       "            background-color:  #fc7f00;\n",
       "        }    #T_a5f8fa12_3a0c_11e9_a25d_4a0005f8ab30row8_col4 {\n",
       "            background-color:  #fc7f00;\n",
       "        }    #T_a5f8fa12_3a0c_11e9_a25d_4a0005f8ab30row8_col5 {\n",
       "            background-color:  #e4ff7a;\n",
       "        }    #T_a5f8fa12_3a0c_11e9_a25d_4a0005f8ab30row8_col6 {\n",
       "            background-color:  #fc7f00;\n",
       "        }    #T_a5f8fa12_3a0c_11e9_a25d_4a0005f8ab30row8_col7 {\n",
       "            background-color:  #fc7f00;\n",
       "        }    #T_a5f8fa12_3a0c_11e9_a25d_4a0005f8ab30row9_col1 {\n",
       "            background-color:  #fc7f00;\n",
       "        }    #T_a5f8fa12_3a0c_11e9_a25d_4a0005f8ab30row9_col2 {\n",
       "            background-color:  #fc7f00;\n",
       "        }    #T_a5f8fa12_3a0c_11e9_a25d_4a0005f8ab30row9_col3 {\n",
       "            background-color:  #fc7f00;\n",
       "        }    #T_a5f8fa12_3a0c_11e9_a25d_4a0005f8ab30row9_col4 {\n",
       "            background-color:  #fc7f00;\n",
       "        }    #T_a5f8fa12_3a0c_11e9_a25d_4a0005f8ab30row9_col5 {\n",
       "            background-color:  #e4ff7a;\n",
       "        }    #T_a5f8fa12_3a0c_11e9_a25d_4a0005f8ab30row9_col6 {\n",
       "            background-color:  #fc7f00;\n",
       "        }    #T_a5f8fa12_3a0c_11e9_a25d_4a0005f8ab30row9_col7 {\n",
       "            background-color:  #fc7f00;\n",
       "        }    #T_a5f8fa12_3a0c_11e9_a25d_4a0005f8ab30row10_col1 {\n",
       "            background-color:  #fc7f00;\n",
       "        }    #T_a5f8fa12_3a0c_11e9_a25d_4a0005f8ab30row10_col2 {\n",
       "            background-color:  #fc7f00;\n",
       "        }    #T_a5f8fa12_3a0c_11e9_a25d_4a0005f8ab30row10_col3 {\n",
       "            background-color:  #fc7f00;\n",
       "        }    #T_a5f8fa12_3a0c_11e9_a25d_4a0005f8ab30row10_col4 {\n",
       "            background-color:  #fc7f00;\n",
       "        }    #T_a5f8fa12_3a0c_11e9_a25d_4a0005f8ab30row10_col5 {\n",
       "            background-color:  #e4ff7a;\n",
       "        }    #T_a5f8fa12_3a0c_11e9_a25d_4a0005f8ab30row10_col6 {\n",
       "            background-color:  #e4ff7a;\n",
       "        }    #T_a5f8fa12_3a0c_11e9_a25d_4a0005f8ab30row10_col7 {\n",
       "            background-color:  #e4ff7a;\n",
       "        }    #T_a5f8fa12_3a0c_11e9_a25d_4a0005f8ab30row11_col1 {\n",
       "            background-color:  #e4ff7a;\n",
       "        }    #T_a5f8fa12_3a0c_11e9_a25d_4a0005f8ab30row11_col2 {\n",
       "            background-color:  #e4ff7a;\n",
       "        }    #T_a5f8fa12_3a0c_11e9_a25d_4a0005f8ab30row11_col3 {\n",
       "            background-color:  #e4ff7a;\n",
       "        }    #T_a5f8fa12_3a0c_11e9_a25d_4a0005f8ab30row11_col4 {\n",
       "            background-color:  #ffc606;\n",
       "        }    #T_a5f8fa12_3a0c_11e9_a25d_4a0005f8ab30row11_col5 {\n",
       "            background-color:  #e4ff7a;\n",
       "        }    #T_a5f8fa12_3a0c_11e9_a25d_4a0005f8ab30row11_col6 {\n",
       "            background-color:  #e4ff7a;\n",
       "        }    #T_a5f8fa12_3a0c_11e9_a25d_4a0005f8ab30row11_col7 {\n",
       "            background-color:  #e4ff7a;\n",
       "        }</style>  \n",
       "<table id=\"T_a5f8fa12_3a0c_11e9_a25d_4a0005f8ab30\" > \n",
       "<thead>    <tr> \n",
       "        <th class=\"blank level0\" ></th> \n",
       "        <th class=\"col_heading level0 col0\" >ENM-Organics-Ratio</th> \n",
       "        <th class=\"col_heading level0 col1\" >Random-Augment-A</th> \n",
       "        <th class=\"col_heading level0 col2\" >Random-Augment-B</th> \n",
       "        <th class=\"col_heading level0 col3\" >Random-Augment-C</th> \n",
       "        <th class=\"col_heading level0 col4\" >Avg-Random-Augment</th> \n",
       "        <th class=\"col_heading level0 col5\" >Std-Random-Augment</th> \n",
       "        <th class=\"col_heading level0 col6\" >Match-Feature-Augment</th> \n",
       "        <th class=\"col_heading level0 col7\" >Match-Label-Augment</th> \n",
       "    </tr></thead> \n",
       "<tbody>    <tr> \n",
       "        <th id=\"T_a5f8fa12_3a0c_11e9_a25d_4a0005f8ab30level0_row0\" class=\"row_heading level0 row0\" >0</th> \n",
       "        <td id=\"T_a5f8fa12_3a0c_11e9_a25d_4a0005f8ab30row0_col0\" class=\"data row0 col0\" >1:0</td> \n",
       "        <td id=\"T_a5f8fa12_3a0c_11e9_a25d_4a0005f8ab30row0_col1\" class=\"data row0 col1\" >0.7951</td> \n",
       "        <td id=\"T_a5f8fa12_3a0c_11e9_a25d_4a0005f8ab30row0_col2\" class=\"data row0 col2\" >nan</td> \n",
       "        <td id=\"T_a5f8fa12_3a0c_11e9_a25d_4a0005f8ab30row0_col3\" class=\"data row0 col3\" >nan</td> \n",
       "        <td id=\"T_a5f8fa12_3a0c_11e9_a25d_4a0005f8ab30row0_col4\" class=\"data row0 col4\" >0.7951</td> \n",
       "        <td id=\"T_a5f8fa12_3a0c_11e9_a25d_4a0005f8ab30row0_col5\" class=\"data row0 col5\" >nan</td> \n",
       "        <td id=\"T_a5f8fa12_3a0c_11e9_a25d_4a0005f8ab30row0_col6\" class=\"data row0 col6\" >nan</td> \n",
       "        <td id=\"T_a5f8fa12_3a0c_11e9_a25d_4a0005f8ab30row0_col7\" class=\"data row0 col7\" >nan</td> \n",
       "    </tr>    <tr> \n",
       "        <th id=\"T_a5f8fa12_3a0c_11e9_a25d_4a0005f8ab30level0_row1\" class=\"row_heading level0 row1\" >1</th> \n",
       "        <td id=\"T_a5f8fa12_3a0c_11e9_a25d_4a0005f8ab30row1_col0\" class=\"data row1 col0\" >1:0*</td> \n",
       "        <td id=\"T_a5f8fa12_3a0c_11e9_a25d_4a0005f8ab30row1_col1\" class=\"data row1 col1\" >0.7415</td> \n",
       "        <td id=\"T_a5f8fa12_3a0c_11e9_a25d_4a0005f8ab30row1_col2\" class=\"data row1 col2\" >0.5611</td> \n",
       "        <td id=\"T_a5f8fa12_3a0c_11e9_a25d_4a0005f8ab30row1_col3\" class=\"data row1 col3\" >0.5635</td> \n",
       "        <td id=\"T_a5f8fa12_3a0c_11e9_a25d_4a0005f8ab30row1_col4\" class=\"data row1 col4\" >0.622</td> \n",
       "        <td id=\"T_a5f8fa12_3a0c_11e9_a25d_4a0005f8ab30row1_col5\" class=\"data row1 col5\" >0.1034</td> \n",
       "        <td id=\"T_a5f8fa12_3a0c_11e9_a25d_4a0005f8ab30row1_col6\" class=\"data row1 col6\" >nan</td> \n",
       "        <td id=\"T_a5f8fa12_3a0c_11e9_a25d_4a0005f8ab30row1_col7\" class=\"data row1 col7\" >nan</td> \n",
       "    </tr>    <tr> \n",
       "        <th id=\"T_a5f8fa12_3a0c_11e9_a25d_4a0005f8ab30level0_row2\" class=\"row_heading level0 row2\" >2</th> \n",
       "        <td id=\"T_a5f8fa12_3a0c_11e9_a25d_4a0005f8ab30row2_col0\" class=\"data row2 col0\" >1:1</td> \n",
       "        <td id=\"T_a5f8fa12_3a0c_11e9_a25d_4a0005f8ab30row2_col1\" class=\"data row2 col1\" >0.8573</td> \n",
       "        <td id=\"T_a5f8fa12_3a0c_11e9_a25d_4a0005f8ab30row2_col2\" class=\"data row2 col2\" >0.4902</td> \n",
       "        <td id=\"T_a5f8fa12_3a0c_11e9_a25d_4a0005f8ab30row2_col3\" class=\"data row2 col3\" >0.8573</td> \n",
       "        <td id=\"T_a5f8fa12_3a0c_11e9_a25d_4a0005f8ab30row2_col4\" class=\"data row2 col4\" >0.735</td> \n",
       "        <td id=\"T_a5f8fa12_3a0c_11e9_a25d_4a0005f8ab30row2_col5\" class=\"data row2 col5\" >0.212</td> \n",
       "        <td id=\"T_a5f8fa12_3a0c_11e9_a25d_4a0005f8ab30row2_col6\" class=\"data row2 col6\" >0.8343</td> \n",
       "        <td id=\"T_a5f8fa12_3a0c_11e9_a25d_4a0005f8ab30row2_col7\" class=\"data row2 col7\" >0.8211</td> \n",
       "    </tr>    <tr> \n",
       "        <th id=\"T_a5f8fa12_3a0c_11e9_a25d_4a0005f8ab30level0_row3\" class=\"row_heading level0 row3\" >3</th> \n",
       "        <td id=\"T_a5f8fa12_3a0c_11e9_a25d_4a0005f8ab30row3_col0\" class=\"data row3 col0\" >1:2</td> \n",
       "        <td id=\"T_a5f8fa12_3a0c_11e9_a25d_4a0005f8ab30row3_col1\" class=\"data row3 col1\" >0.8573</td> \n",
       "        <td id=\"T_a5f8fa12_3a0c_11e9_a25d_4a0005f8ab30row3_col2\" class=\"data row3 col2\" >0.8262</td> \n",
       "        <td id=\"T_a5f8fa12_3a0c_11e9_a25d_4a0005f8ab30row3_col3\" class=\"data row3 col3\" >0.8573</td> \n",
       "        <td id=\"T_a5f8fa12_3a0c_11e9_a25d_4a0005f8ab30row3_col4\" class=\"data row3 col4\" >0.847</td> \n",
       "        <td id=\"T_a5f8fa12_3a0c_11e9_a25d_4a0005f8ab30row3_col5\" class=\"data row3 col5\" >0.018</td> \n",
       "        <td id=\"T_a5f8fa12_3a0c_11e9_a25d_4a0005f8ab30row3_col6\" class=\"data row3 col6\" >0.7999</td> \n",
       "        <td id=\"T_a5f8fa12_3a0c_11e9_a25d_4a0005f8ab30row3_col7\" class=\"data row3 col7\" >0.8603</td> \n",
       "    </tr>    <tr> \n",
       "        <th id=\"T_a5f8fa12_3a0c_11e9_a25d_4a0005f8ab30level0_row4\" class=\"row_heading level0 row4\" >4</th> \n",
       "        <td id=\"T_a5f8fa12_3a0c_11e9_a25d_4a0005f8ab30row4_col0\" class=\"data row4 col0\" >1:3</td> \n",
       "        <td id=\"T_a5f8fa12_3a0c_11e9_a25d_4a0005f8ab30row4_col1\" class=\"data row4 col1\" >0.8573</td> \n",
       "        <td id=\"T_a5f8fa12_3a0c_11e9_a25d_4a0005f8ab30row4_col2\" class=\"data row4 col2\" >0.8573</td> \n",
       "        <td id=\"T_a5f8fa12_3a0c_11e9_a25d_4a0005f8ab30row4_col3\" class=\"data row4 col3\" >0.5427</td> \n",
       "        <td id=\"T_a5f8fa12_3a0c_11e9_a25d_4a0005f8ab30row4_col4\" class=\"data row4 col4\" >0.7524</td> \n",
       "        <td id=\"T_a5f8fa12_3a0c_11e9_a25d_4a0005f8ab30row4_col5\" class=\"data row4 col5\" >0.1817</td> \n",
       "        <td id=\"T_a5f8fa12_3a0c_11e9_a25d_4a0005f8ab30row4_col6\" class=\"data row4 col6\" >0.8573</td> \n",
       "        <td id=\"T_a5f8fa12_3a0c_11e9_a25d_4a0005f8ab30row4_col7\" class=\"data row4 col7\" >0.8004</td> \n",
       "    </tr>    <tr> \n",
       "        <th id=\"T_a5f8fa12_3a0c_11e9_a25d_4a0005f8ab30level0_row5\" class=\"row_heading level0 row5\" >5</th> \n",
       "        <td id=\"T_a5f8fa12_3a0c_11e9_a25d_4a0005f8ab30row5_col0\" class=\"data row5 col0\" >1:4</td> \n",
       "        <td id=\"T_a5f8fa12_3a0c_11e9_a25d_4a0005f8ab30row5_col1\" class=\"data row5 col1\" >0.8573</td> \n",
       "        <td id=\"T_a5f8fa12_3a0c_11e9_a25d_4a0005f8ab30row5_col2\" class=\"data row5 col2\" >0.8573</td> \n",
       "        <td id=\"T_a5f8fa12_3a0c_11e9_a25d_4a0005f8ab30row5_col3\" class=\"data row5 col3\" >0.8573</td> \n",
       "        <td id=\"T_a5f8fa12_3a0c_11e9_a25d_4a0005f8ab30row5_col4\" class=\"data row5 col4\" >0.8573</td> \n",
       "        <td id=\"T_a5f8fa12_3a0c_11e9_a25d_4a0005f8ab30row5_col5\" class=\"data row5 col5\" >0</td> \n",
       "        <td id=\"T_a5f8fa12_3a0c_11e9_a25d_4a0005f8ab30row5_col6\" class=\"data row5 col6\" >0.8573</td> \n",
       "        <td id=\"T_a5f8fa12_3a0c_11e9_a25d_4a0005f8ab30row5_col7\" class=\"data row5 col7\" >0.82</td> \n",
       "    </tr>    <tr> \n",
       "        <th id=\"T_a5f8fa12_3a0c_11e9_a25d_4a0005f8ab30level0_row6\" class=\"row_heading level0 row6\" >6</th> \n",
       "        <td id=\"T_a5f8fa12_3a0c_11e9_a25d_4a0005f8ab30row6_col0\" class=\"data row6 col0\" >1:5</td> \n",
       "        <td id=\"T_a5f8fa12_3a0c_11e9_a25d_4a0005f8ab30row6_col1\" class=\"data row6 col1\" >0.8573</td> \n",
       "        <td id=\"T_a5f8fa12_3a0c_11e9_a25d_4a0005f8ab30row6_col2\" class=\"data row6 col2\" >0.8573</td> \n",
       "        <td id=\"T_a5f8fa12_3a0c_11e9_a25d_4a0005f8ab30row6_col3\" class=\"data row6 col3\" >0.8573</td> \n",
       "        <td id=\"T_a5f8fa12_3a0c_11e9_a25d_4a0005f8ab30row6_col4\" class=\"data row6 col4\" >0.8573</td> \n",
       "        <td id=\"T_a5f8fa12_3a0c_11e9_a25d_4a0005f8ab30row6_col5\" class=\"data row6 col5\" >0</td> \n",
       "        <td id=\"T_a5f8fa12_3a0c_11e9_a25d_4a0005f8ab30row6_col6\" class=\"data row6 col6\" >0.8573</td> \n",
       "        <td id=\"T_a5f8fa12_3a0c_11e9_a25d_4a0005f8ab30row6_col7\" class=\"data row6 col7\" >0.8603</td> \n",
       "    </tr>    <tr> \n",
       "        <th id=\"T_a5f8fa12_3a0c_11e9_a25d_4a0005f8ab30level0_row7\" class=\"row_heading level0 row7\" >7</th> \n",
       "        <td id=\"T_a5f8fa12_3a0c_11e9_a25d_4a0005f8ab30row7_col0\" class=\"data row7 col0\" >1:10</td> \n",
       "        <td id=\"T_a5f8fa12_3a0c_11e9_a25d_4a0005f8ab30row7_col1\" class=\"data row7 col1\" >0.8573</td> \n",
       "        <td id=\"T_a5f8fa12_3a0c_11e9_a25d_4a0005f8ab30row7_col2\" class=\"data row7 col2\" >0.8573</td> \n",
       "        <td id=\"T_a5f8fa12_3a0c_11e9_a25d_4a0005f8ab30row7_col3\" class=\"data row7 col3\" >0.8573</td> \n",
       "        <td id=\"T_a5f8fa12_3a0c_11e9_a25d_4a0005f8ab30row7_col4\" class=\"data row7 col4\" >0.8573</td> \n",
       "        <td id=\"T_a5f8fa12_3a0c_11e9_a25d_4a0005f8ab30row7_col5\" class=\"data row7 col5\" >0</td> \n",
       "        <td id=\"T_a5f8fa12_3a0c_11e9_a25d_4a0005f8ab30row7_col6\" class=\"data row7 col6\" >0.8573</td> \n",
       "        <td id=\"T_a5f8fa12_3a0c_11e9_a25d_4a0005f8ab30row7_col7\" class=\"data row7 col7\" >0.8603</td> \n",
       "    </tr>    <tr> \n",
       "        <th id=\"T_a5f8fa12_3a0c_11e9_a25d_4a0005f8ab30level0_row8\" class=\"row_heading level0 row8\" >8</th> \n",
       "        <td id=\"T_a5f8fa12_3a0c_11e9_a25d_4a0005f8ab30row8_col0\" class=\"data row8 col0\" >1:20</td> \n",
       "        <td id=\"T_a5f8fa12_3a0c_11e9_a25d_4a0005f8ab30row8_col1\" class=\"data row8 col1\" >0.8573</td> \n",
       "        <td id=\"T_a5f8fa12_3a0c_11e9_a25d_4a0005f8ab30row8_col2\" class=\"data row8 col2\" >0.8573</td> \n",
       "        <td id=\"T_a5f8fa12_3a0c_11e9_a25d_4a0005f8ab30row8_col3\" class=\"data row8 col3\" >0.8573</td> \n",
       "        <td id=\"T_a5f8fa12_3a0c_11e9_a25d_4a0005f8ab30row8_col4\" class=\"data row8 col4\" >0.8573</td> \n",
       "        <td id=\"T_a5f8fa12_3a0c_11e9_a25d_4a0005f8ab30row8_col5\" class=\"data row8 col5\" >0</td> \n",
       "        <td id=\"T_a5f8fa12_3a0c_11e9_a25d_4a0005f8ab30row8_col6\" class=\"data row8 col6\" >0.8573</td> \n",
       "        <td id=\"T_a5f8fa12_3a0c_11e9_a25d_4a0005f8ab30row8_col7\" class=\"data row8 col7\" >0.8603</td> \n",
       "    </tr>    <tr> \n",
       "        <th id=\"T_a5f8fa12_3a0c_11e9_a25d_4a0005f8ab30level0_row9\" class=\"row_heading level0 row9\" >9</th> \n",
       "        <td id=\"T_a5f8fa12_3a0c_11e9_a25d_4a0005f8ab30row9_col0\" class=\"data row9 col0\" >1:50</td> \n",
       "        <td id=\"T_a5f8fa12_3a0c_11e9_a25d_4a0005f8ab30row9_col1\" class=\"data row9 col1\" >0.8573</td> \n",
       "        <td id=\"T_a5f8fa12_3a0c_11e9_a25d_4a0005f8ab30row9_col2\" class=\"data row9 col2\" >0.8573</td> \n",
       "        <td id=\"T_a5f8fa12_3a0c_11e9_a25d_4a0005f8ab30row9_col3\" class=\"data row9 col3\" >0.8573</td> \n",
       "        <td id=\"T_a5f8fa12_3a0c_11e9_a25d_4a0005f8ab30row9_col4\" class=\"data row9 col4\" >0.8573</td> \n",
       "        <td id=\"T_a5f8fa12_3a0c_11e9_a25d_4a0005f8ab30row9_col5\" class=\"data row9 col5\" >0</td> \n",
       "        <td id=\"T_a5f8fa12_3a0c_11e9_a25d_4a0005f8ab30row9_col6\" class=\"data row9 col6\" >0.8573</td> \n",
       "        <td id=\"T_a5f8fa12_3a0c_11e9_a25d_4a0005f8ab30row9_col7\" class=\"data row9 col7\" >0.8603</td> \n",
       "    </tr>    <tr> \n",
       "        <th id=\"T_a5f8fa12_3a0c_11e9_a25d_4a0005f8ab30level0_row10\" class=\"row_heading level0 row10\" >10</th> \n",
       "        <td id=\"T_a5f8fa12_3a0c_11e9_a25d_4a0005f8ab30row10_col0\" class=\"data row10 col0\" >1:100</td> \n",
       "        <td id=\"T_a5f8fa12_3a0c_11e9_a25d_4a0005f8ab30row10_col1\" class=\"data row10 col1\" >0.8573</td> \n",
       "        <td id=\"T_a5f8fa12_3a0c_11e9_a25d_4a0005f8ab30row10_col2\" class=\"data row10 col2\" >0.8573</td> \n",
       "        <td id=\"T_a5f8fa12_3a0c_11e9_a25d_4a0005f8ab30row10_col3\" class=\"data row10 col3\" >0.8573</td> \n",
       "        <td id=\"T_a5f8fa12_3a0c_11e9_a25d_4a0005f8ab30row10_col4\" class=\"data row10 col4\" >0.8573</td> \n",
       "        <td id=\"T_a5f8fa12_3a0c_11e9_a25d_4a0005f8ab30row10_col5\" class=\"data row10 col5\" >0</td> \n",
       "        <td id=\"T_a5f8fa12_3a0c_11e9_a25d_4a0005f8ab30row10_col6\" class=\"data row10 col6\" >nan</td> \n",
       "        <td id=\"T_a5f8fa12_3a0c_11e9_a25d_4a0005f8ab30row10_col7\" class=\"data row10 col7\" >nan</td> \n",
       "    </tr>    <tr> \n",
       "        <th id=\"T_a5f8fa12_3a0c_11e9_a25d_4a0005f8ab30level0_row11\" class=\"row_heading level0 row11\" >11</th> \n",
       "        <td id=\"T_a5f8fa12_3a0c_11e9_a25d_4a0005f8ab30row11_col0\" class=\"data row11 col0\" >1:200</td> \n",
       "        <td id=\"T_a5f8fa12_3a0c_11e9_a25d_4a0005f8ab30row11_col1\" class=\"data row11 col1\" >0.7277</td> \n",
       "        <td id=\"T_a5f8fa12_3a0c_11e9_a25d_4a0005f8ab30row11_col2\" class=\"data row11 col2\" >nan</td> \n",
       "        <td id=\"T_a5f8fa12_3a0c_11e9_a25d_4a0005f8ab30row11_col3\" class=\"data row11 col3\" >nan</td> \n",
       "        <td id=\"T_a5f8fa12_3a0c_11e9_a25d_4a0005f8ab30row11_col4\" class=\"data row11 col4\" >0.7277</td> \n",
       "        <td id=\"T_a5f8fa12_3a0c_11e9_a25d_4a0005f8ab30row11_col5\" class=\"data row11 col5\" >nan</td> \n",
       "        <td id=\"T_a5f8fa12_3a0c_11e9_a25d_4a0005f8ab30row11_col6\" class=\"data row11 col6\" >nan</td> \n",
       "        <td id=\"T_a5f8fa12_3a0c_11e9_a25d_4a0005f8ab30row11_col7\" class=\"data row11 col7\" >nan</td> \n",
       "    </tr></tbody> \n",
       "</table> "
      ],
      "text/plain": [
       "<pandas.io.formats.style.Styler at 0x1a1c829518>"
      ]
     },
     "execution_count": 119,
     "metadata": {},
     "output_type": "execute_result"
    }
   ],
   "source": [
    "# Calculate average and standard deviation of random augmentation accuracy results\n",
    "results_df['Avg-Random-Augment'] = results_df.iloc[:,1:4].mean(axis=1)\n",
    "results_df['Std-Random-Augment'] = results_df.iloc[:,1:4].std(axis=1).round(decimals=4)\n",
    "\n",
    "# Set multi-index\n",
    "results_df.set_index(['ENM-Organics-Ratio'])\n",
    "\n",
    "# Color results as heatmap\n",
    "results_df.style.background_gradient(cmap='Wistia').set_precision(4)"
   ]
  },
  {
   "cell_type": "code",
   "execution_count": 120,
   "metadata": {
    "ExecuteTime": {
     "end_time": "2019-02-26T21:23:10.249029Z",
     "start_time": "2019-02-26T21:23:10.237001Z"
    },
    "collapsed": true
   },
   "outputs": [],
   "source": [
    "# Export results table to .csv\n",
    "results_df.to_csv(\"./data/2019-02-20_augment_results.csv\", \n",
    "                  sep='\\t', header='infer', na_rep='NaN', index=False)"
   ]
  },
  {
   "cell_type": "markdown",
   "metadata": {},
   "source": [
    "# Random Forest Models"
   ]
  },
  {
   "cell_type": "markdown",
   "metadata": {},
   "source": [
    "## Functions"
   ]
  },
  {
   "cell_type": "code",
   "execution_count": null,
   "metadata": {
    "collapsed": true
   },
   "outputs": [],
   "source": [
    "# Define function to optimize and perform a random forest classifier\n",
    "# with all features (normalized), accuracy scoring\n",
    "\n",
    "from sklearn.pipeline import Pipeline\n",
    "from sklearn.model_selection import GridSearchCV\n",
    "from sklearn.preprocessing import MinMaxScaler\n",
    "from sklearn.ensemble import RandomForestClassifier\n",
    "\n",
    "def gridsearch_rf(X_training, \n",
    "                  y_training, \n",
    "                  n_set):\n",
    "    \"\"\"\n",
    "    This function searches specified grids of values for the \n",
    "    optimal parameters (n trees) with which to run a random \n",
    "    forest classifier, then returns the best n.\n",
    "    \"\"\"    \n",
    "    \n",
    "    # Pipeline to run normalization, then SVC-RBF\n",
    "    seed = random.randint(1,100)\n",
    "    prepipe = Pipeline([\n",
    "        ('scale', MinMaxScaler()), \n",
    "        ('estimator', RandomForestClassifier())\n",
    "    ])\n",
    "\n",
    "    # Grid search with CV to find best model parameters\n",
    "    n_jobs=3\n",
    "    param_grid = {'estimator__C': c_set,\n",
    "                'estimator__gamma': gamma_set\n",
    "                 }\n",
    "    grid_search = GridSearchCV(prepipe, \n",
    "                               param_grid, \n",
    "                               cv=10, \n",
    "                               scoring='accuracy', \n",
    "                               n_jobs=n_jobs, \n",
    "                               pre_dispatch=2*n_jobs)\n",
    "    grid_search.fit(X_training, \n",
    "                    y_training)\n",
    "        \n",
    "    print(grid_search.best_params_)\n",
    "    print('K-fold CV random state: ', seed)\n",
    "    print('Best fold',grid_search.scoring, ':    ',grid_search.best_score_)\n",
    "    \n",
    "    C = grid_search.best_params_.get('estimator__C')\n",
    "    gamma = grid_search.best_params_.get('estimator__gamma')\n",
    "\n",
    "    # Play sound when done running\n",
    "    display(Audio(url=sound_file, autoplay=True))\n",
    "    \n",
    "    return C, gamma"
   ]
  },
  {
   "cell_type": "code",
   "execution_count": 186,
   "metadata": {
    "ExecuteTime": {
     "end_time": "2019-01-14T22:27:02.318348Z",
     "start_time": "2019-01-14T22:27:00.990723Z"
    }
   },
   "outputs": [
    {
     "name": "stdout",
     "output_type": "stream",
     "text": [
      "{'estimator__n_estimators': 20}\n",
      "0.5853658536585366\n",
      "accuracy\n"
     ]
    },
    {
     "data": {
      "text/html": [
       "\n",
       "                <audio controls=\"controls\" autoplay=\"autoplay\">\n",
       "                    <source src=\"./data/Glass.wav\" type=\"audio/x-wav\" />\n",
       "                    Your browser does not support the audio element.\n",
       "                </audio>\n",
       "              "
      ],
      "text/plain": [
       "<IPython.lib.display.Audio object>"
      ]
     },
     "execution_count": 186,
     "metadata": {},
     "output_type": "execute_result"
    }
   ],
   "source": [
    "# SVR-RBF with all features, normalized\n",
    "    # ENM weight fractions\n",
    "    # Accuracy\n",
    "\n",
    "from sklearn.pipeline import Pipeline\n",
    "from sklearn.model_selection import GridSearchCV\n",
    "from sklearn.preprocessing import MinMaxScaler\n",
    "from sklearn.ensemble import RandomForestClassifier\n",
    "\n",
    "# Pipeline\n",
    "estimator = RandomForestClassifier()\n",
    "prepipe = Pipeline([\n",
    "    ('scale', MinMaxScaler()),\n",
    "    ('estimator', estimator)\n",
    "])\n",
    "\n",
    "# Set parameter ranges for gridsearch\n",
    "cv = 10\n",
    "n_jobs = 3\n",
    "n_set = [8,10,12,14,16,18,20,22,24,26]\n",
    "\n",
    "# Gridsearch\n",
    "param_grid={'estimator__n_estimators': n_set}\n",
    "grid_search=GridSearchCV(prepipe,param_grid,cv=cv,scoring='accuracy', n_jobs=n_jobs, pre_dispatch=2*n_jobs)\n",
    "grid_search.fit(X_enm+0.00001,bin_enm)\n",
    "print(grid_search.best_params_)\n",
    "print(grid_search.best_score_)\n",
    "print(grid_search.scoring)\n",
    "\n",
    "# Play sound when done running\n",
    "Audio(url=sound_file, autoplay=True)"
   ]
  },
  {
   "cell_type": "code",
   "execution_count": 202,
   "metadata": {
    "ExecuteTime": {
     "end_time": "2019-01-14T22:39:26.442769Z",
     "start_time": "2019-01-14T22:39:24.411883Z"
    }
   },
   "outputs": [
    {
     "name": "stdout",
     "output_type": "stream",
     "text": [
      "{'estimator__n_estimators': 28}\n",
      "0.6869918699186992\n",
      "accuracy\n"
     ]
    },
    {
     "data": {
      "text/html": [
       "\n",
       "                <audio controls=\"controls\" autoplay=\"autoplay\">\n",
       "                    <source src=\"./data/Glass.wav\" type=\"audio/x-wav\" />\n",
       "                    Your browser does not support the audio element.\n",
       "                </audio>\n",
       "              "
      ],
      "text/plain": [
       "<IPython.lib.display.Audio object>"
      ]
     },
     "execution_count": 202,
     "metadata": {},
     "output_type": "execute_result"
    }
   ],
   "source": [
    "# SVR-RBF with all features, normalized\n",
    "    # ENM weight fractions\n",
    "    # Accuracy\n",
    "\n",
    "from sklearn.pipeline import Pipeline\n",
    "from sklearn.model_selection import GridSearchCV\n",
    "from sklearn.preprocessing import MinMaxScaler\n",
    "from sklearn.ensemble import RandomForestClassifier\n",
    "\n",
    "# Pipeline\n",
    "estimator = RandomForestClassifier()\n",
    "prepipe = Pipeline([\n",
    "    ('scale', MinMaxScaler()),\n",
    "    ('estimator', estimator)\n",
    "])\n",
    "\n",
    "# Set parameter ranges for gridsearch\n",
    "cv = 10\n",
    "n_jobs = 3\n",
    "n_set = [8,10,12,14,16,18,20,22,24,26,28,30,32]\n",
    "\n",
    "# Gridsearch\n",
    "param_grid={'estimator__n_estimators': n_set}\n",
    "grid_search=GridSearchCV(prepipe,param_grid,cv=cv,scoring='accuracy', n_jobs=n_jobs, pre_dispatch=2*n_jobs)\n",
    "grid_search.fit(X_match2+0.00001,bin_match2)\n",
    "print(grid_search.best_params_)\n",
    "print(grid_search.best_score_)\n",
    "print(grid_search.scoring)\n",
    "\n",
    "# Play sound when done running\n",
    "Audio(url=sound_file, autoplay=True)"
   ]
  },
  {
   "cell_type": "code",
   "execution_count": 205,
   "metadata": {
    "ExecuteTime": {
     "end_time": "2019-01-14T22:41:22.923534Z",
     "start_time": "2019-01-14T22:41:22.905293Z"
    }
   },
   "outputs": [
    {
     "data": {
      "text/plain": [
       "28"
      ]
     },
     "execution_count": 205,
     "metadata": {},
     "output_type": "execute_result"
    }
   ],
   "source": [
    "grid_search.best_params_.get('estimator__n_estimators')"
   ]
  },
  {
   "cell_type": "code",
   "execution_count": 206,
   "metadata": {
    "ExecuteTime": {
     "end_time": "2019-01-14T22:42:13.772670Z",
     "start_time": "2019-01-14T22:42:13.718847Z"
    }
   },
   "outputs": [
    {
     "data": {
      "text/plain": [
       "Pipeline(memory=None,\n",
       "     steps=[('scale', MinMaxScaler(copy=True, feature_range=(0, 1))), ('estimator', RandomForestClassifier(bootstrap=True, class_weight=None, criterion='gini',\n",
       "            max_depth=None, max_features='auto', max_leaf_nodes=None,\n",
       "            min_impurity_decrease=0.0, min_impurity_split=None,\n",
       "           ...n_jobs=1,\n",
       "            oob_score=False, random_state=None, verbose=0,\n",
       "            warm_start=False))])"
      ]
     },
     "execution_count": 206,
     "metadata": {},
     "output_type": "execute_result"
    }
   ],
   "source": [
    "# Final pipeline\n",
    "bestpipe = Pipeline([\n",
    "    ('scale', MinMaxScaler()),\n",
    "    ('estimator', RandomForestClassifier(\n",
    "        n_estimators = grid_search.best_params_.get('estimator__n_estimators')))\n",
    "     ])\n",
    "bestpipe.fit(X_match2,bin_match2)"
   ]
  },
  {
   "cell_type": "code",
   "execution_count": 204,
   "metadata": {
    "ExecuteTime": {
     "end_time": "2019-01-14T22:39:56.146946Z",
     "start_time": "2019-01-14T22:39:55.631804Z"
    }
   },
   "outputs": [
    {
     "name": "stdout",
     "output_type": "stream",
     "text": [
      "Confusion matrix, without normalization\n",
      "[[36  0  0]\n",
      " [ 7 20  2]\n",
      " [ 2  0 15]]\n",
      "Normalized confusion matrix\n",
      "[[1.   0.   0.  ]\n",
      " [0.24 0.69 0.07]\n",
      " [0.12 0.   0.88]]\n"
     ]
    },
    {
     "data": {
      "image/png": "[encoded data removed]",
      "text/plain": [
       "<Figure size 432x288 with 2 Axes>"
      ]
     },
     "metadata": {},
     "output_type": "display_data"
    },
    {
     "data": {
      "image/png": "[encoded data removed]",
      "text/plain": [
       "<Figure size 432x288 with 2 Axes>"
      ]
     },
     "metadata": {},
     "output_type": "display_data"
    }
   ],
   "source": [
    "# Cross-validation for confusion matrix\n",
    "from sklearn import model_selection\n",
    "\n",
    "X=np.array(X_enm)\n",
    "y=np.array(bin_enm)\n",
    "\n",
    "kfold = model_selection.StratifiedKFold(n_splits=17,shuffle=True, random_state=24)\n",
    "cnf_matrix2=np.zeros([3,3])\n",
    "\n",
    "for train_index,test_index in kfold.split(X,y):\n",
    "    X_train, X_test = X[train_index], X[test_index]\n",
    "    y_train, y_test = y[train_index], y[test_index]\n",
    "    y_enm_predict=bestpipe.predict(X_test)\n",
    "    y[test_index]=y_enm_predict\n",
    "    cnf_matrix2+= confusion_matrix(y_test, y_enm_predict);\n",
    "    \n",
    "# Set confusion matrix\n",
    "cnf_matrix=cnf_matrix2.astype(np.int)\n",
    "cnf_matrix = confusion_matrix(bin_enm, y)\n",
    "\n",
    "np.set_printoptions(precision=2)\n",
    "class_names=[\"low\",\"mid\",\"high\"]\n",
    "\n",
    "# Plot non-normalized confusion matrix\n",
    "fig = plt.figure()\n",
    "plot_confusion_matrix(cnf_matrix, classes=class_names,\n",
    "                      title='Confusion matrix, without normalization')\n",
    "fig.savefig('./BLTfigs/confusion_notnorm_mix_match2.png')\n",
    "\n",
    "# Plot normalized confusion matrix\n",
    "fig = plt.figure()\n",
    "plot_confusion_matrix(cnf_matrix, classes=class_names, normalize=True,\n",
    "                      title='Normalized confusion matrix')\n",
    "fig.savefig('./BLTfigs/confusion_norm_mix_match2.png')\n",
    "plt.show()"
   ]
  },
  {
   "cell_type": "code",
   "execution_count": null,
   "metadata": {
    "collapsed": true
   },
   "outputs": [],
   "source": []
  }
 ],
 "metadata": {
  "kernelspec": {
   "display_name": "Python 3",
   "language": "python",
   "name": "python3"
  },
  "language_info": {
   "codemirror_mode": {
    "name": "ipython",
    "version": 3
   },
   "file_extension": ".py",
   "mimetype": "text/x-python",
   "name": "python",
   "nbconvert_exporter": "python",
   "pygments_lexer": "ipython3",
   "version": "3.7.3"
  },
  "toc": {
   "base_numbering": 1,
   "nav_menu": {
    "height": "11px",
    "width": "160px"
   },
   "number_sections": true,
   "sideBar": true,
   "skip_h1_title": false,
   "title_cell": "Table of Contents",
   "title_sidebar": "Contents",
   "toc_cell": true,
   "toc_position": {
    "height": "calc(100% - 180px)",
    "left": "10px",
    "top": "150px",
    "width": "209px"
   },
   "toc_section_display": true,
   "toc_window_display": true
  }
 },
 "nbformat": 4,
 "nbformat_minor": 2
}
