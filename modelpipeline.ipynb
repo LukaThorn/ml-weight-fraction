{
 "cells": [
  {
   "cell_type": "markdown",
   "metadata": {
    "toc": true
   },
   "source": [
    "<h1>Table of Contents<span class=\"tocSkip\"></span></h1>\n",
    "<div class=\"toc\"><ul class=\"toc-item\"><li><span><a href=\"#Code-Setup\" data-toc-modified-id=\"Code-Setup-1\"><span class=\"toc-item-num\">1&nbsp;&nbsp;</span>Code Setup</a></span><ul class=\"toc-item\"><li><span><a href=\"#Acronyms-and-abbreviations\" data-toc-modified-id=\"Acronyms-and-abbreviations-1.1\"><span class=\"toc-item-num\">1.1&nbsp;&nbsp;</span>Acronyms and abbreviations</a></span></li></ul></li><li><span><a href=\"#Establish-Data-Frames\" data-toc-modified-id=\"Establish-Data-Frames-2\"><span class=\"toc-item-num\">2&nbsp;&nbsp;</span>Establish Data Frames</a></span><ul class=\"toc-item\"><li><span><a href=\"#Read-organics-data\" data-toc-modified-id=\"Read-organics-data-2.1\"><span class=\"toc-item-num\">2.1&nbsp;&nbsp;</span>Read organics data</a></span></li><li><span><a href=\"#Organics-dataframes\" data-toc-modified-id=\"Organics-dataframes-2.2\"><span class=\"toc-item-num\">2.2&nbsp;&nbsp;</span>Organics dataframes</a></span><ul class=\"toc-item\"><li><span><a href=\"#Imputation-for-density\" data-toc-modified-id=\"Imputation-for-density-2.2.1\"><span class=\"toc-item-num\">2.2.1&nbsp;&nbsp;</span>Imputation for density</a></span></li><li><span><a href=\"#Continuous-data,-no-NAs\" data-toc-modified-id=\"Continuous-data,-no-NAs-2.2.2\"><span class=\"toc-item-num\">2.2.2&nbsp;&nbsp;</span>Continuous data, no NAs</a></span></li><li><span><a href=\"#No-p-chem-data-(&quot;keeping&quot;-NAs)\" data-toc-modified-id=\"No-p-chem-data-(&quot;keeping&quot;-NAs)-2.2.3\"><span class=\"toc-item-num\">2.2.3&nbsp;&nbsp;</span>No p-chem data (\"keeping\" NAs)</a></span></li><li><span><a href=\"#WF-bins-as-alternative-target-variable\" data-toc-modified-id=\"WF-bins-as-alternative-target-variable-2.2.4\"><span class=\"toc-item-num\">2.2.4&nbsp;&nbsp;</span>WF bins as alternative target variable</a></span></li><li><span><a href=\"#Source-model\" data-toc-modified-id=\"Source-model-2.2.5\"><span class=\"toc-item-num\">2.2.5&nbsp;&nbsp;</span>Source model</a></span></li></ul></li><li><span><a href=\"#Read-ENM-data\" data-toc-modified-id=\"Read-ENM-data-2.3\"><span class=\"toc-item-num\">2.3&nbsp;&nbsp;</span>Read ENM data</a></span></li><li><span><a href=\"#ENM-dataframes\" data-toc-modified-id=\"ENM-dataframes-2.4\"><span class=\"toc-item-num\">2.4&nbsp;&nbsp;</span>ENM dataframes</a></span><ul class=\"toc-item\"><li><span><a href=\"#WF-bins\" data-toc-modified-id=\"WF-bins-2.4.1\"><span class=\"toc-item-num\">2.4.1&nbsp;&nbsp;</span>WF bins</a></span></li></ul></li></ul></li><li><span><a href=\"#Performance-check-with-all-data-prior-to-pre-processing\" data-toc-modified-id=\"Performance-check-with-all-data-prior-to-pre-processing-3\"><span class=\"toc-item-num\">3&nbsp;&nbsp;</span>Performance check with all data prior to pre-processing</a></span><ul class=\"toc-item\"><li><span><a href=\"#Continuous-WF-data\" data-toc-modified-id=\"Continuous-WF-data-3.1\"><span class=\"toc-item-num\">3.1&nbsp;&nbsp;</span>Continuous WF data</a></span></li><li><span><a href=\"#WF-Bins\" data-toc-modified-id=\"WF-Bins-3.2\"><span class=\"toc-item-num\">3.2&nbsp;&nbsp;</span>WF Bins</a></span></li><li><span><a href=\"#WF-Source\" data-toc-modified-id=\"WF-Source-3.3\"><span class=\"toc-item-num\">3.3&nbsp;&nbsp;</span>WF Source</a></span></li><li><span><a href=\"#WF-ENM\" data-toc-modified-id=\"WF-ENM-3.4\"><span class=\"toc-item-num\">3.4&nbsp;&nbsp;</span>WF ENM</a></span></li></ul></li><li><span><a href=\"#Pre-processing\" data-toc-modified-id=\"Pre-processing-4\"><span class=\"toc-item-num\">4&nbsp;&nbsp;</span>Pre-processing</a></span><ul class=\"toc-item\"><li><span><a href=\"#Non-negative-Matrix-Factorization-(NMF)\" data-toc-modified-id=\"Non-negative-Matrix-Factorization-(NMF)-4.1\"><span class=\"toc-item-num\">4.1&nbsp;&nbsp;</span>Non-negative Matrix Factorization (NMF)</a></span></li><li><span><a href=\"#PCA\" data-toc-modified-id=\"PCA-4.2\"><span class=\"toc-item-num\">4.2&nbsp;&nbsp;</span>PCA</a></span><ul class=\"toc-item\"><li><span><a href=\"#PCA-for-full-organics-model\" data-toc-modified-id=\"PCA-for-full-organics-model-4.2.1\"><span class=\"toc-item-num\">4.2.1&nbsp;&nbsp;</span>PCA for full organics model</a></span></li><li><span><a href=\"#PCA-for-source-model\" data-toc-modified-id=\"PCA-for-source-model-4.2.2\"><span class=\"toc-item-num\">4.2.2&nbsp;&nbsp;</span>PCA for source model</a></span></li><li><span><a href=\"#PCA-ENM\" data-toc-modified-id=\"PCA-ENM-4.2.3\"><span class=\"toc-item-num\">4.2.3&nbsp;&nbsp;</span>PCA ENM</a></span></li></ul></li><li><span><a href=\"#Hierarchical-Agglomerative-Clustering-(HAC)\" data-toc-modified-id=\"Hierarchical-Agglomerative-Clustering-(HAC)-4.3\"><span class=\"toc-item-num\">4.3&nbsp;&nbsp;</span>Hierarchical Agglomerative Clustering (HAC)</a></span><ul class=\"toc-item\"><li><span><a href=\"#Alternate-clustering-approach\" data-toc-modified-id=\"Alternate-clustering-approach-4.3.1\"><span class=\"toc-item-num\">4.3.1&nbsp;&nbsp;</span>Alternate clustering approach</a></span></li><li><span><a href=\"#Helper-class-for-selecting-best-estimator\" data-toc-modified-id=\"Helper-class-for-selecting-best-estimator-4.3.2\"><span class=\"toc-item-num\">4.3.2&nbsp;&nbsp;</span>Helper class for selecting best estimator</a></span></li><li><span><a href=\"#Helper-class-for-bins\" data-toc-modified-id=\"Helper-class-for-bins-4.3.3\"><span class=\"toc-item-num\">4.3.3&nbsp;&nbsp;</span>Helper class for bins</a></span></li><li><span><a href=\"#Pipeline/GridSearch-to-select-n_clusters\" data-toc-modified-id=\"Pipeline/GridSearch-to-select-n_clusters-4.3.4\"><span class=\"toc-item-num\">4.3.4&nbsp;&nbsp;</span>Pipeline/GridSearch to select n_clusters</a></span><ul class=\"toc-item\"><li><span><a href=\"#ENM\" data-toc-modified-id=\"ENM-4.3.4.1\"><span class=\"toc-item-num\">4.3.4.1&nbsp;&nbsp;</span>ENM</a></span></li></ul></li><li><span><a href=\"#Apply-feature-agglomeration-using-optimized-n_clusters\" data-toc-modified-id=\"Apply-feature-agglomeration-using-optimized-n_clusters-4.3.5\"><span class=\"toc-item-num\">4.3.5&nbsp;&nbsp;</span>Apply feature agglomeration using optimized n_clusters</a></span><ul class=\"toc-item\"><li><span><a href=\"#ENM-model\" data-toc-modified-id=\"ENM-model-4.3.5.1\"><span class=\"toc-item-num\">4.3.5.1&nbsp;&nbsp;</span>ENM model</a></span></li></ul></li></ul></li></ul></li><li><span><a href=\"#Core-models\" data-toc-modified-id=\"Core-models-5\"><span class=\"toc-item-num\">5&nbsp;&nbsp;</span>Core models</a></span><ul class=\"toc-item\"><li><span><a href=\"#Model-with-clustering,-regression\" data-toc-modified-id=\"Model-with-clustering,-regression-5.1\"><span class=\"toc-item-num\">5.1&nbsp;&nbsp;</span>Model with clustering, regression</a></span></li><li><span><a href=\"#Model-with-PCA,-regression\" data-toc-modified-id=\"Model-with-PCA,-regression-5.2\"><span class=\"toc-item-num\">5.2&nbsp;&nbsp;</span>Model with PCA, regression</a></span><ul class=\"toc-item\"><li><span><a href=\"#Evaluate-model-without-product-categories\" data-toc-modified-id=\"Evaluate-model-without-product-categories-5.2.1\"><span class=\"toc-item-num\">5.2.1&nbsp;&nbsp;</span>Evaluate model without product categories</a></span></li></ul></li><li><span><a href=\"#Model-with-PCA,-WF-Bins\" data-toc-modified-id=\"Model-with-PCA,-WF-Bins-5.3\"><span class=\"toc-item-num\">5.3&nbsp;&nbsp;</span>Model with PCA, WF Bins</a></span><ul class=\"toc-item\"><li><span><a href=\"#Optimize-SVC-RBF\" data-toc-modified-id=\"Optimize-SVC-RBF-5.3.1\"><span class=\"toc-item-num\">5.3.1&nbsp;&nbsp;</span>Optimize SVC-RBF</a></span></li><li><span><a href=\"#Final-Organics-Model\" data-toc-modified-id=\"Final-Organics-Model-5.3.2\"><span class=\"toc-item-num\">5.3.2&nbsp;&nbsp;</span>Final Organics Model</a></span></li><li><span><a href=\"#Final-ENM-Model\" data-toc-modified-id=\"Final-ENM-Model-5.3.3\"><span class=\"toc-item-num\">5.3.3&nbsp;&nbsp;</span>Final ENM Model</a></span></li><li><span><a href=\"#NEW-ENM-Model-(Clusters)\" data-toc-modified-id=\"NEW-ENM-Model-(Clusters)-5.3.4\"><span class=\"toc-item-num\">5.3.4&nbsp;&nbsp;</span>NEW ENM Model (Clusters)</a></span></li><li><span><a href=\"#NEW-ENM-Model-(PCA)\" data-toc-modified-id=\"NEW-ENM-Model-(PCA)-5.3.5\"><span class=\"toc-item-num\">5.3.5&nbsp;&nbsp;</span>NEW ENM Model (PCA)</a></span></li></ul></li></ul></li></ul></div>"
   ]
  },
  {
   "cell_type": "markdown",
   "metadata": {},
   "source": [
    "# Code Setup"
   ]
  },
  {
   "cell_type": "code",
   "execution_count": 1,
   "metadata": {
    "ExecuteTime": {
     "end_time": "2018-09-01T23:07:59.999291Z",
     "start_time": "2018-09-01T23:07:59.603161Z"
    },
    "collapsed": true
   },
   "outputs": [],
   "source": [
    "# To support both python 2 and python 3\n",
    "from __future__ import division, print_function, unicode_literals\n",
    "\n",
    "# Common imports\n",
    "import numpy as np\n",
    "import pandas as pd\n",
    "import os"
   ]
  },
  {
   "cell_type": "code",
   "execution_count": 2,
   "metadata": {
    "ExecuteTime": {
     "end_time": "2018-09-01T23:08:00.407395Z",
     "start_time": "2018-09-01T23:08:00.403612Z"
    },
    "collapsed": true
   },
   "outputs": [],
   "source": [
    "# to make this notebook's output stable across runs\n",
    "np.random.seed(42)"
   ]
  },
  {
   "cell_type": "code",
   "execution_count": 3,
   "metadata": {
    "ExecuteTime": {
     "end_time": "2018-09-01T23:08:01.246452Z",
     "start_time": "2018-09-01T23:08:01.073578Z"
    },
    "collapsed": true
   },
   "outputs": [],
   "source": [
    "# To plot pretty figures\n",
    "%matplotlib inline\n",
    "import matplotlib\n",
    "import matplotlib.pyplot as plt\n",
    "import matplotlib.image as mpimg\n",
    "plt.rcParams['axes.labelsize'] = 14\n",
    "plt.rcParams['xtick.labelsize'] = 12\n",
    "plt.rcParams['ytick.labelsize'] = 12"
   ]
  },
  {
   "cell_type": "code",
   "execution_count": 4,
   "metadata": {
    "ExecuteTime": {
     "end_time": "2018-09-01T23:08:01.652022Z",
     "start_time": "2018-09-01T23:08:01.647131Z"
    },
    "collapsed": true
   },
   "outputs": [],
   "source": [
    "# Where to save the figures\n",
    "PROJECT_ROOT_DIR = \".\"\n",
    "PROJECT_SAVE_DIR = \"BLTfigs\""
   ]
  },
  {
   "cell_type": "code",
   "execution_count": 5,
   "metadata": {
    "ExecuteTime": {
     "end_time": "2018-09-01T23:08:02.278595Z",
     "start_time": "2018-09-01T23:08:02.271401Z"
    }
   },
   "outputs": [
    {
     "name": "stdout",
     "output_type": "stream",
     "text": [
      "Figure directory exists.\n"
     ]
    }
   ],
   "source": [
    "import os\n",
    "#os.chdir(path)\n",
    "if not (os.path.isdir(PROJECT_ROOT_DIR+'/'+PROJECT_SAVE_DIR)):\n",
    "    print('Figure directory did not exist, creating now.')\n",
    "    os.mkdir(PROJECT_ROOT_DIR+'/'+PROJECT_SAVE_DIR)\n",
    "else:\n",
    "    print('Figure directory exists.')"
   ]
  },
  {
   "cell_type": "code",
   "execution_count": 6,
   "metadata": {
    "ExecuteTime": {
     "end_time": "2018-09-01T23:08:02.570700Z",
     "start_time": "2018-09-01T23:08:02.565590Z"
    },
    "collapsed": true
   },
   "outputs": [],
   "source": [
    "def savepdf(fig,name):\n",
    "    fig.savefig(PROJECT_ROOT_DIR+'/'+PROJECT_SAVE_DIR+'/'+name+'.pdf')"
   ]
  },
  {
   "cell_type": "code",
   "execution_count": 7,
   "metadata": {
    "ExecuteTime": {
     "end_time": "2018-09-01T23:08:02.866629Z",
     "start_time": "2018-09-01T23:08:02.818173Z"
    }
   },
   "outputs": [
    {
     "data": {
      "text/html": [
       "\n",
       "                <audio controls=\"controls\" autoplay=\"autoplay\">\n",
       "                    <source src=\"./data/Glass.wav\" type=\"audio/x-wav\" />\n",
       "                    Your browser does not support the audio element.\n",
       "                </audio>\n",
       "              "
      ],
      "text/plain": [
       "<IPython.lib.display.Audio object>"
      ]
     },
     "execution_count": 7,
     "metadata": {},
     "output_type": "execute_result"
    }
   ],
   "source": [
    "# To enable a specified sound to play\n",
    "from IPython.display import Audio\n",
    "sound_file = './data/Glass.wav'\n",
    "\n",
    "# Add the following to the end of a cell with a long run time\n",
    "# Play sound when cell is done running\n",
    "Audio(url=sound_file, autoplay=True)"
   ]
  },
  {
   "cell_type": "code",
   "execution_count": 8,
   "metadata": {
    "ExecuteTime": {
     "end_time": "2018-09-01T23:08:03.286771Z",
     "start_time": "2018-09-01T23:08:03.283330Z"
    },
    "collapsed": true
   },
   "outputs": [],
   "source": [
    "# Shift tab to understand function components\n",
    "# Type questionmark before function to bring up help"
   ]
  },
  {
   "cell_type": "markdown",
   "metadata": {
    "ExecuteTime": {
     "end_time": "2018-07-17T17:12:41.336563Z",
     "start_time": "2018-07-17T17:12:41.333288Z"
    }
   },
   "source": [
    "## Acronyms and abbreviations"
   ]
  },
  {
   "cell_type": "code",
   "execution_count": 9,
   "metadata": {
    "ExecuteTime": {
     "end_time": "2018-09-01T23:08:05.988828Z",
     "start_time": "2018-09-01T23:08:05.984608Z"
    },
    "collapsed": true
   },
   "outputs": [],
   "source": [
    "# enm = engineered nanomaterial\n",
    "# mw = molecular weight\n",
    "# oecd = Organisation for Economic Co-operation and Development\n",
    "# prop = property\n",
    "# PUC = product use category\n",
    "# wf = weight fraction"
   ]
  },
  {
   "cell_type": "markdown",
   "metadata": {},
   "source": [
    "# Establish Data Frames"
   ]
  },
  {
   "cell_type": "markdown",
   "metadata": {},
   "source": [
    "## Read organics data"
   ]
  },
  {
   "cell_type": "code",
   "execution_count": 10,
   "metadata": {
    "ExecuteTime": {
     "end_time": "2018-09-01T23:08:07.172714Z",
     "start_time": "2018-09-01T23:08:06.577383Z"
    }
   },
   "outputs": [
    {
     "name": "stdout",
     "output_type": "stream",
     "text": [
      "(18466, 83)\n"
     ]
    }
   ],
   "source": [
    "# Read in weight fraction data and potential predictive variables\n",
    "wfdata=pd.read_csv(\"./data/WFdata_assignedfeatures.csv\", sep=',', header='infer', usecols=range(1,88))\n",
    "\n",
    "# Drop unwanted columns \n",
    "wfdata.drop(wfdata.columns[[0,1,2,6]], axis=1, inplace=True) # index, CASRN, 2/5 product category components\n",
    "wfdata = wfdata[wfdata['propKow'].notnull()] # delete missing data\n",
    "\n",
    "# Rename columns\n",
    "wfdata.rename(columns = {'product_type':'product'}, inplace = True)\n",
    "wfdata.rename(columns = {'refined_product_type':'refined'}, inplace = True)\n",
    "\n",
    "# Assign correct data types\n",
    "wfdata['group'] = wfdata['group'].astype('object')\n",
    "wfdata['product'] = wfdata['product'].astype('object')\n",
    "wfdata['refined'] = wfdata['refined'].astype('object')\n",
    "#wfdata.dtypes\n",
    "print(wfdata.shape)"
   ]
  },
  {
   "cell_type": "code",
   "execution_count": 11,
   "metadata": {
    "ExecuteTime": {
     "end_time": "2018-09-01T23:08:07.266822Z",
     "start_time": "2018-09-01T23:08:07.175254Z"
    }
   },
   "outputs": [
    {
     "data": {
      "text/html": [
       "<div>\n",
       "<style scoped>\n",
       "    .dataframe tbody tr th:only-of-type {\n",
       "        vertical-align: middle;\n",
       "    }\n",
       "\n",
       "    .dataframe tbody tr th {\n",
       "        vertical-align: top;\n",
       "    }\n",
       "\n",
       "    .dataframe thead th {\n",
       "        text-align: right;\n",
       "    }\n",
       "</style>\n",
       "<table border=\"1\" class=\"dataframe\">\n",
       "  <thead>\n",
       "    <tr style=\"text-align: right;\">\n",
       "      <th></th>\n",
       "      <th>propMW</th>\n",
       "      <th>propKow</th>\n",
       "      <th>propKwa</th>\n",
       "      <th>propKoa</th>\n",
       "      <th>propKoc</th>\n",
       "      <th>propMP</th>\n",
       "      <th>propBP</th>\n",
       "      <th>propVP</th>\n",
       "      <th>propSolubility</th>\n",
       "      <th>propDensity</th>\n",
       "      <th>...</th>\n",
       "      <th>refined_gel|spray</th>\n",
       "      <th>refined_interior</th>\n",
       "      <th>refined_liquid</th>\n",
       "      <th>refined_mousse</th>\n",
       "      <th>refined_oil or diffuse</th>\n",
       "      <th>refined_ph control</th>\n",
       "      <th>refined_powder</th>\n",
       "      <th>refined_shock</th>\n",
       "      <th>refined_solid</th>\n",
       "      <th>refined_spray</th>\n",
       "    </tr>\n",
       "  </thead>\n",
       "  <tbody>\n",
       "    <tr>\n",
       "      <th>0</th>\n",
       "      <td>498.572</td>\n",
       "      <td>4.23709</td>\n",
       "      <td>2.065050e-11</td>\n",
       "      <td>9.47288</td>\n",
       "      <td>143887.000</td>\n",
       "      <td>215.2255</td>\n",
       "      <td>508.5280</td>\n",
       "      <td>6.625544e-10</td>\n",
       "      <td>0.003361</td>\n",
       "      <td>1.528</td>\n",
       "      <td>...</td>\n",
       "      <td>0</td>\n",
       "      <td>0</td>\n",
       "      <td>0</td>\n",
       "      <td>0</td>\n",
       "      <td>0</td>\n",
       "      <td>0</td>\n",
       "      <td>0</td>\n",
       "      <td>0</td>\n",
       "      <td>0</td>\n",
       "      <td>0</td>\n",
       "    </tr>\n",
       "    <tr>\n",
       "      <th>1</th>\n",
       "      <td>106.168</td>\n",
       "      <td>3.17849</td>\n",
       "      <td>7.146950e-03</td>\n",
       "      <td>3.87094</td>\n",
       "      <td>203.727</td>\n",
       "      <td>-52.5218</td>\n",
       "      <td>147.1505</td>\n",
       "      <td>6.184400e+00</td>\n",
       "      <td>0.002197</td>\n",
       "      <td>0.890</td>\n",
       "      <td>...</td>\n",
       "      <td>0</td>\n",
       "      <td>0</td>\n",
       "      <td>0</td>\n",
       "      <td>0</td>\n",
       "      <td>0</td>\n",
       "      <td>0</td>\n",
       "      <td>0</td>\n",
       "      <td>0</td>\n",
       "      <td>0</td>\n",
       "      <td>0</td>\n",
       "    </tr>\n",
       "    <tr>\n",
       "      <th>2</th>\n",
       "      <td>106.168</td>\n",
       "      <td>3.17849</td>\n",
       "      <td>7.146950e-03</td>\n",
       "      <td>3.87094</td>\n",
       "      <td>203.727</td>\n",
       "      <td>-52.5218</td>\n",
       "      <td>147.1505</td>\n",
       "      <td>6.184400e+00</td>\n",
       "      <td>0.002197</td>\n",
       "      <td>0.890</td>\n",
       "      <td>...</td>\n",
       "      <td>0</td>\n",
       "      <td>0</td>\n",
       "      <td>0</td>\n",
       "      <td>0</td>\n",
       "      <td>0</td>\n",
       "      <td>0</td>\n",
       "      <td>0</td>\n",
       "      <td>0</td>\n",
       "      <td>0</td>\n",
       "      <td>0</td>\n",
       "    </tr>\n",
       "    <tr>\n",
       "      <th>3</th>\n",
       "      <td>106.168</td>\n",
       "      <td>3.17849</td>\n",
       "      <td>7.146950e-03</td>\n",
       "      <td>3.87094</td>\n",
       "      <td>203.727</td>\n",
       "      <td>-52.5218</td>\n",
       "      <td>147.1505</td>\n",
       "      <td>6.184400e+00</td>\n",
       "      <td>0.002197</td>\n",
       "      <td>0.890</td>\n",
       "      <td>...</td>\n",
       "      <td>0</td>\n",
       "      <td>0</td>\n",
       "      <td>0</td>\n",
       "      <td>0</td>\n",
       "      <td>0</td>\n",
       "      <td>0</td>\n",
       "      <td>0</td>\n",
       "      <td>0</td>\n",
       "      <td>0</td>\n",
       "      <td>1</td>\n",
       "    </tr>\n",
       "  </tbody>\n",
       "</table>\n",
       "<p>4 rows × 383 columns</p>\n",
       "</div>"
      ],
      "text/plain": [
       "    propMW  propKow       propKwa  propKoa     propKoc    propMP    propBP  \\\n",
       "0  498.572  4.23709  2.065050e-11  9.47288  143887.000  215.2255  508.5280   \n",
       "1  106.168  3.17849  7.146950e-03  3.87094     203.727  -52.5218  147.1505   \n",
       "2  106.168  3.17849  7.146950e-03  3.87094     203.727  -52.5218  147.1505   \n",
       "3  106.168  3.17849  7.146950e-03  3.87094     203.727  -52.5218  147.1505   \n",
       "\n",
       "         propVP  propSolubility  propDensity      ...        \\\n",
       "0  6.625544e-10        0.003361        1.528      ...         \n",
       "1  6.184400e+00        0.002197        0.890      ...         \n",
       "2  6.184400e+00        0.002197        0.890      ...         \n",
       "3  6.184400e+00        0.002197        0.890      ...         \n",
       "\n",
       "   refined_gel|spray  refined_interior  refined_liquid  refined_mousse  \\\n",
       "0                  0                 0               0               0   \n",
       "1                  0                 0               0               0   \n",
       "2                  0                 0               0               0   \n",
       "3                  0                 0               0               0   \n",
       "\n",
       "   refined_oil or diffuse  refined_ph control  refined_powder  refined_shock  \\\n",
       "0                       0                   0               0              0   \n",
       "1                       0                   0               0              0   \n",
       "2                       0                   0               0              0   \n",
       "3                       0                   0               0              0   \n",
       "\n",
       "   refined_solid  refined_spray  \n",
       "0              0              0  \n",
       "1              0              0  \n",
       "2              0              0  \n",
       "3              0              1  \n",
       "\n",
       "[4 rows x 383 columns]"
      ]
     },
     "execution_count": 11,
     "metadata": {},
     "output_type": "execute_result"
    }
   ],
   "source": [
    "# Transform factor data (product categories) into binary columns\n",
    "wfdata=pd.get_dummies(wfdata, prefix=[\"group\",\"product\",\"refined\"], columns=[\"group\",\"product\",\"refined\"])\n",
    "wfdata.loc[0:3,]"
   ]
  },
  {
   "cell_type": "markdown",
   "metadata": {},
   "source": [
    "Some of the refined product categories are non-atomic (e.g., 'refined_gel|spray').  The code below will correctly reassign these columns to their appropriate atomic equivalents (e.g., 'refined_gel' and 'refined_spray') so that the column can be deleted later without loss of data.\n",
    "https://stackoverflow.com/questions/19226488/change-one-value-based-on-another-value-in-pandas"
   ]
  },
  {
   "cell_type": "code",
   "execution_count": 12,
   "metadata": {
    "ExecuteTime": {
     "end_time": "2018-09-01T23:08:07.322373Z",
     "start_time": "2018-09-01T23:08:07.269323Z"
    }
   },
   "outputs": [
    {
     "name": "stdout",
     "output_type": "stream",
     "text": [
      "column 373 - to delete\n",
      "column 369 - to delete\n"
     ]
    }
   ],
   "source": [
    "# Relocate data for duplicative columns\n",
    "wfdata.columns = wfdata.columns.str.replace('|','_')\n",
    "wfdata.loc[wfdata.refined_child_spray == 1, ['refined_child', 'refined_spray']] = 1, 1\n",
    "wfdata.loc[wfdata.refined_gel_spray == 1, ['refined_gel', 'refined_spray']] = 1, 1\n",
    "\n",
    "# Check that it applied correctly\n",
    "#wfdata.loc[wfdata.refined_gel_spray == 1, ['refined_gel', 'refined_gel_spray','refined_spray']]\n",
    "print('column {} - to delete'.format(wfdata.columns.get_loc('refined_gel_spray')))\n",
    "print('column {} - to delete'.format(wfdata.columns.get_loc('refined_child_spray')))"
   ]
  },
  {
   "cell_type": "markdown",
   "metadata": {},
   "source": [
    "Features with <10 hits need to be deleted, per Isaacs et al. 2016. The alternative is to add a very small number to the entire feature matrix.  Either will prevent errors from having too few positive classes during feature agglomeration and regression."
   ]
  },
  {
   "cell_type": "code",
   "execution_count": 13,
   "metadata": {
    "ExecuteTime": {
     "end_time": "2018-09-01T23:08:07.894683Z",
     "start_time": "2018-09-01T23:08:07.681468Z"
    }
   },
   "outputs": [
    {
     "name": "stdout",
     "output_type": "stream",
     "text": [
      "(18466, 289)\n"
     ]
    }
   ],
   "source": [
    "# Get counts per column\n",
    "colsum = wfdata.sum(axis=0)\n",
    "colsum.to_csv('./BLTfigs/wfdata_colsum.csv')\n",
    "\n",
    "# Delete columns with <10 hits\n",
    "# Also delete the child_spray [368] and gel_spray [372] columns from above (they're duplicative)\n",
    "wfdata.drop(wfdata.columns[[15,20,31,36,45,50,63,84,90,96,102,104,108,115,118,124,127,131,134,139,140,143,145,150,151,152,153,155,156,161,163,164,165,168,171,174,181,182,185,186,187,190,194,197,200,211,212,215,216,217,222,226,229,233,235,239,251,252,256,257,260,263,264,270,271,283,289,301,303,308,310,312,314,315,324,328,333,337,338,339,340,343,344,349,354,356,359,360,361,362,364,367,369,373]],\n",
    "            axis=1, inplace=True)\n",
    "print(wfdata.shape)"
   ]
  },
  {
   "cell_type": "code",
   "execution_count": 14,
   "metadata": {
    "ExecuteTime": {
     "end_time": "2018-09-01T23:08:07.984963Z",
     "start_time": "2018-09-01T23:08:07.955949Z"
    }
   },
   "outputs": [
    {
     "data": {
      "text/html": [
       "<div>\n",
       "<style scoped>\n",
       "    .dataframe tbody tr th:only-of-type {\n",
       "        vertical-align: middle;\n",
       "    }\n",
       "\n",
       "    .dataframe tbody tr th {\n",
       "        vertical-align: top;\n",
       "    }\n",
       "\n",
       "    .dataframe thead th {\n",
       "        text-align: right;\n",
       "    }\n",
       "</style>\n",
       "<table border=\"1\" class=\"dataframe\">\n",
       "  <thead>\n",
       "    <tr style=\"text-align: right;\">\n",
       "      <th></th>\n",
       "      <th>propMW</th>\n",
       "      <th>propKow</th>\n",
       "      <th>propKwa</th>\n",
       "      <th>propKoa</th>\n",
       "      <th>propKoc</th>\n",
       "      <th>propMP</th>\n",
       "      <th>propBP</th>\n",
       "      <th>propVP</th>\n",
       "      <th>propSolubility</th>\n",
       "      <th>propDensity</th>\n",
       "      <th>...</th>\n",
       "      <th>refined_gel</th>\n",
       "      <th>refined_interior</th>\n",
       "      <th>refined_liquid</th>\n",
       "      <th>refined_mousse</th>\n",
       "      <th>refined_oil or diffuse</th>\n",
       "      <th>refined_ph control</th>\n",
       "      <th>refined_powder</th>\n",
       "      <th>refined_shock</th>\n",
       "      <th>refined_solid</th>\n",
       "      <th>refined_spray</th>\n",
       "    </tr>\n",
       "  </thead>\n",
       "  <tbody>\n",
       "    <tr>\n",
       "      <th>0</th>\n",
       "      <td>498.572</td>\n",
       "      <td>4.23709</td>\n",
       "      <td>2.065050e-11</td>\n",
       "      <td>9.47288</td>\n",
       "      <td>143887.000</td>\n",
       "      <td>215.2255</td>\n",
       "      <td>508.5280</td>\n",
       "      <td>6.625544e-10</td>\n",
       "      <td>0.003361</td>\n",
       "      <td>1.528</td>\n",
       "      <td>...</td>\n",
       "      <td>0</td>\n",
       "      <td>0</td>\n",
       "      <td>0</td>\n",
       "      <td>0</td>\n",
       "      <td>0</td>\n",
       "      <td>0</td>\n",
       "      <td>0</td>\n",
       "      <td>0</td>\n",
       "      <td>0</td>\n",
       "      <td>0</td>\n",
       "    </tr>\n",
       "    <tr>\n",
       "      <th>1</th>\n",
       "      <td>106.168</td>\n",
       "      <td>3.17849</td>\n",
       "      <td>7.146950e-03</td>\n",
       "      <td>3.87094</td>\n",
       "      <td>203.727</td>\n",
       "      <td>-52.5218</td>\n",
       "      <td>147.1505</td>\n",
       "      <td>6.184400e+00</td>\n",
       "      <td>0.002197</td>\n",
       "      <td>0.890</td>\n",
       "      <td>...</td>\n",
       "      <td>0</td>\n",
       "      <td>0</td>\n",
       "      <td>0</td>\n",
       "      <td>0</td>\n",
       "      <td>0</td>\n",
       "      <td>0</td>\n",
       "      <td>0</td>\n",
       "      <td>0</td>\n",
       "      <td>0</td>\n",
       "      <td>0</td>\n",
       "    </tr>\n",
       "    <tr>\n",
       "      <th>2</th>\n",
       "      <td>106.168</td>\n",
       "      <td>3.17849</td>\n",
       "      <td>7.146950e-03</td>\n",
       "      <td>3.87094</td>\n",
       "      <td>203.727</td>\n",
       "      <td>-52.5218</td>\n",
       "      <td>147.1505</td>\n",
       "      <td>6.184400e+00</td>\n",
       "      <td>0.002197</td>\n",
       "      <td>0.890</td>\n",
       "      <td>...</td>\n",
       "      <td>0</td>\n",
       "      <td>0</td>\n",
       "      <td>0</td>\n",
       "      <td>0</td>\n",
       "      <td>0</td>\n",
       "      <td>0</td>\n",
       "      <td>0</td>\n",
       "      <td>0</td>\n",
       "      <td>0</td>\n",
       "      <td>0</td>\n",
       "    </tr>\n",
       "    <tr>\n",
       "      <th>3</th>\n",
       "      <td>106.168</td>\n",
       "      <td>3.17849</td>\n",
       "      <td>7.146950e-03</td>\n",
       "      <td>3.87094</td>\n",
       "      <td>203.727</td>\n",
       "      <td>-52.5218</td>\n",
       "      <td>147.1505</td>\n",
       "      <td>6.184400e+00</td>\n",
       "      <td>0.002197</td>\n",
       "      <td>0.890</td>\n",
       "      <td>...</td>\n",
       "      <td>0</td>\n",
       "      <td>0</td>\n",
       "      <td>0</td>\n",
       "      <td>0</td>\n",
       "      <td>0</td>\n",
       "      <td>0</td>\n",
       "      <td>0</td>\n",
       "      <td>0</td>\n",
       "      <td>0</td>\n",
       "      <td>1</td>\n",
       "    </tr>\n",
       "  </tbody>\n",
       "</table>\n",
       "<p>4 rows × 289 columns</p>\n",
       "</div>"
      ],
      "text/plain": [
       "    propMW  propKow       propKwa  propKoa     propKoc    propMP    propBP  \\\n",
       "0  498.572  4.23709  2.065050e-11  9.47288  143887.000  215.2255  508.5280   \n",
       "1  106.168  3.17849  7.146950e-03  3.87094     203.727  -52.5218  147.1505   \n",
       "2  106.168  3.17849  7.146950e-03  3.87094     203.727  -52.5218  147.1505   \n",
       "3  106.168  3.17849  7.146950e-03  3.87094     203.727  -52.5218  147.1505   \n",
       "\n",
       "         propVP  propSolubility  propDensity      ...        refined_gel  \\\n",
       "0  6.625544e-10        0.003361        1.528      ...                  0   \n",
       "1  6.184400e+00        0.002197        0.890      ...                  0   \n",
       "2  6.184400e+00        0.002197        0.890      ...                  0   \n",
       "3  6.184400e+00        0.002197        0.890      ...                  0   \n",
       "\n",
       "   refined_interior  refined_liquid  refined_mousse  refined_oil or diffuse  \\\n",
       "0                 0               0               0                       0   \n",
       "1                 0               0               0                       0   \n",
       "2                 0               0               0                       0   \n",
       "3                 0               0               0                       0   \n",
       "\n",
       "   refined_ph control  refined_powder  refined_shock  refined_solid  \\\n",
       "0                   0               0              0              0   \n",
       "1                   0               0              0              0   \n",
       "2                   0               0              0              0   \n",
       "3                   0               0              0              0   \n",
       "\n",
       "   refined_spray  \n",
       "0              0  \n",
       "1              0  \n",
       "2              0  \n",
       "3              1  \n",
       "\n",
       "[4 rows x 289 columns]"
      ]
     },
     "execution_count": 14,
     "metadata": {},
     "output_type": "execute_result"
    }
   ],
   "source": [
    "wfdata.loc[0:3,]"
   ]
  },
  {
   "cell_type": "markdown",
   "metadata": {},
   "source": [
    "##  Organics dataframes"
   ]
  },
  {
   "cell_type": "markdown",
   "metadata": {},
   "source": [
    "I split up wfdata into a few separate dataframes for doing separate hierarchical clustering later on."
   ]
  },
  {
   "cell_type": "markdown",
   "metadata": {},
   "source": [
    "### Imputation for density"
   ]
  },
  {
   "cell_type": "markdown",
   "metadata": {},
   "source": [
    "https://medium.com/ibm-data-science-experience/missing-data-conundrum-exploration-and-imputation-techniques-9f40abe0fd87"
   ]
  },
  {
   "cell_type": "code",
   "execution_count": null,
   "metadata": {
    "collapsed": true
   },
   "outputs": [],
   "source": []
  },
  {
   "cell_type": "markdown",
   "metadata": {},
   "source": [
    "Without density and imputation."
   ]
  },
  {
   "cell_type": "code",
   "execution_count": 15,
   "metadata": {
    "ExecuteTime": {
     "end_time": "2018-09-01T23:08:10.350740Z",
     "start_time": "2018-09-01T23:08:10.318396Z"
    }
   },
   "outputs": [
    {
     "data": {
      "text/html": [
       "<div>\n",
       "<style scoped>\n",
       "    .dataframe tbody tr th:only-of-type {\n",
       "        vertical-align: middle;\n",
       "    }\n",
       "\n",
       "    .dataframe tbody tr th {\n",
       "        vertical-align: top;\n",
       "    }\n",
       "\n",
       "    .dataframe thead th {\n",
       "        text-align: right;\n",
       "    }\n",
       "</style>\n",
       "<table border=\"1\" class=\"dataframe\">\n",
       "  <thead>\n",
       "    <tr style=\"text-align: right;\">\n",
       "      <th></th>\n",
       "      <th>propMW</th>\n",
       "      <th>propKow</th>\n",
       "      <th>propKwa</th>\n",
       "      <th>propKoa</th>\n",
       "      <th>propKoc</th>\n",
       "      <th>propMP</th>\n",
       "      <th>propBP</th>\n",
       "      <th>propVP</th>\n",
       "      <th>propSolubility</th>\n",
       "      <th>propBCF</th>\n",
       "      <th>...</th>\n",
       "      <th>refined_gel</th>\n",
       "      <th>refined_interior</th>\n",
       "      <th>refined_liquid</th>\n",
       "      <th>refined_mousse</th>\n",
       "      <th>refined_oil or diffuse</th>\n",
       "      <th>refined_ph control</th>\n",
       "      <th>refined_powder</th>\n",
       "      <th>refined_shock</th>\n",
       "      <th>refined_solid</th>\n",
       "      <th>refined_spray</th>\n",
       "    </tr>\n",
       "  </thead>\n",
       "  <tbody>\n",
       "    <tr>\n",
       "      <th>0</th>\n",
       "      <td>498.572</td>\n",
       "      <td>4.23709</td>\n",
       "      <td>2.065050e-11</td>\n",
       "      <td>9.47288</td>\n",
       "      <td>143887.000</td>\n",
       "      <td>215.2255</td>\n",
       "      <td>508.5280</td>\n",
       "      <td>6.625544e-10</td>\n",
       "      <td>0.003361</td>\n",
       "      <td>7.66712</td>\n",
       "      <td>...</td>\n",
       "      <td>0</td>\n",
       "      <td>0</td>\n",
       "      <td>0</td>\n",
       "      <td>0</td>\n",
       "      <td>0</td>\n",
       "      <td>0</td>\n",
       "      <td>0</td>\n",
       "      <td>0</td>\n",
       "      <td>0</td>\n",
       "      <td>0</td>\n",
       "    </tr>\n",
       "    <tr>\n",
       "      <th>1</th>\n",
       "      <td>106.168</td>\n",
       "      <td>3.17849</td>\n",
       "      <td>7.146950e-03</td>\n",
       "      <td>3.87094</td>\n",
       "      <td>203.727</td>\n",
       "      <td>-52.5218</td>\n",
       "      <td>147.1505</td>\n",
       "      <td>6.184400e+00</td>\n",
       "      <td>0.002197</td>\n",
       "      <td>87.66770</td>\n",
       "      <td>...</td>\n",
       "      <td>0</td>\n",
       "      <td>0</td>\n",
       "      <td>0</td>\n",
       "      <td>0</td>\n",
       "      <td>0</td>\n",
       "      <td>0</td>\n",
       "      <td>0</td>\n",
       "      <td>0</td>\n",
       "      <td>0</td>\n",
       "      <td>0</td>\n",
       "    </tr>\n",
       "    <tr>\n",
       "      <th>2</th>\n",
       "      <td>106.168</td>\n",
       "      <td>3.17849</td>\n",
       "      <td>7.146950e-03</td>\n",
       "      <td>3.87094</td>\n",
       "      <td>203.727</td>\n",
       "      <td>-52.5218</td>\n",
       "      <td>147.1505</td>\n",
       "      <td>6.184400e+00</td>\n",
       "      <td>0.002197</td>\n",
       "      <td>87.66770</td>\n",
       "      <td>...</td>\n",
       "      <td>0</td>\n",
       "      <td>0</td>\n",
       "      <td>0</td>\n",
       "      <td>0</td>\n",
       "      <td>0</td>\n",
       "      <td>0</td>\n",
       "      <td>0</td>\n",
       "      <td>0</td>\n",
       "      <td>0</td>\n",
       "      <td>0</td>\n",
       "    </tr>\n",
       "    <tr>\n",
       "      <th>3</th>\n",
       "      <td>106.168</td>\n",
       "      <td>3.17849</td>\n",
       "      <td>7.146950e-03</td>\n",
       "      <td>3.87094</td>\n",
       "      <td>203.727</td>\n",
       "      <td>-52.5218</td>\n",
       "      <td>147.1505</td>\n",
       "      <td>6.184400e+00</td>\n",
       "      <td>0.002197</td>\n",
       "      <td>87.66770</td>\n",
       "      <td>...</td>\n",
       "      <td>0</td>\n",
       "      <td>0</td>\n",
       "      <td>0</td>\n",
       "      <td>0</td>\n",
       "      <td>0</td>\n",
       "      <td>0</td>\n",
       "      <td>0</td>\n",
       "      <td>0</td>\n",
       "      <td>0</td>\n",
       "      <td>1</td>\n",
       "    </tr>\n",
       "  </tbody>\n",
       "</table>\n",
       "<p>4 rows × 288 columns</p>\n",
       "</div>"
      ],
      "text/plain": [
       "    propMW  propKow       propKwa  propKoa     propKoc    propMP    propBP  \\\n",
       "0  498.572  4.23709  2.065050e-11  9.47288  143887.000  215.2255  508.5280   \n",
       "1  106.168  3.17849  7.146950e-03  3.87094     203.727  -52.5218  147.1505   \n",
       "2  106.168  3.17849  7.146950e-03  3.87094     203.727  -52.5218  147.1505   \n",
       "3  106.168  3.17849  7.146950e-03  3.87094     203.727  -52.5218  147.1505   \n",
       "\n",
       "         propVP  propSolubility   propBCF      ...        refined_gel  \\\n",
       "0  6.625544e-10        0.003361   7.66712      ...                  0   \n",
       "1  6.184400e+00        0.002197  87.66770      ...                  0   \n",
       "2  6.184400e+00        0.002197  87.66770      ...                  0   \n",
       "3  6.184400e+00        0.002197  87.66770      ...                  0   \n",
       "\n",
       "   refined_interior  refined_liquid  refined_mousse  refined_oil or diffuse  \\\n",
       "0                 0               0               0                       0   \n",
       "1                 0               0               0                       0   \n",
       "2                 0               0               0                       0   \n",
       "3                 0               0               0                       0   \n",
       "\n",
       "   refined_ph control  refined_powder  refined_shock  refined_solid  \\\n",
       "0                   0               0              0              0   \n",
       "1                   0               0              0              0   \n",
       "2                   0               0              0              0   \n",
       "3                   0               0              0              0   \n",
       "\n",
       "   refined_spray  \n",
       "0              0  \n",
       "1              0  \n",
       "2              0  \n",
       "3              1  \n",
       "\n",
       "[4 rows x 288 columns]"
      ]
     },
     "execution_count": 15,
     "metadata": {},
     "output_type": "execute_result"
    }
   ],
   "source": [
    "wfdata.drop(wfdata.columns[9], axis=1, inplace=True)\n",
    "wfdata.loc[0:3,]"
   ]
  },
  {
   "cell_type": "markdown",
   "metadata": {},
   "source": [
    "### Continuous data, no NAs"
   ]
  },
  {
   "cell_type": "code",
   "execution_count": 16,
   "metadata": {
    "ExecuteTime": {
     "end_time": "2018-09-01T23:08:10.813610Z",
     "start_time": "2018-09-01T23:08:10.797748Z"
    },
    "collapsed": true
   },
   "outputs": [],
   "source": [
    "# Dataframe for feature reduction (functions and product categories only)\n",
    "X=pd.DataFrame(wfdata)\n",
    "# Drop chemical property features\n",
    "X.drop(X.columns[[0,1,2,3,4,5,6,7,8,9,10]], axis=1, inplace=True)\n",
    "feat_names=list(X.columns.values)\n",
    "#func_names=list(X.columns.values[11:80])\n",
    "#PUC_names=list(X.columns.values[81:])\n",
    "#feat_names\n",
    "#X.loc[0:3,]"
   ]
  },
  {
   "cell_type": "code",
   "execution_count": 17,
   "metadata": {
    "ExecuteTime": {
     "end_time": "2018-09-01T23:08:11.090895Z",
     "start_time": "2018-09-01T23:08:11.055922Z"
    }
   },
   "outputs": [
    {
     "name": "stdout",
     "output_type": "stream",
     "text": [
      "(18466, 277)\n"
     ]
    }
   ],
   "source": [
    "# Array for feature reduction (functions and product categories only)\n",
    "X=np.array(X)\n",
    "print(X.shape)"
   ]
  },
  {
   "cell_type": "code",
   "execution_count": 18,
   "metadata": {
    "ExecuteTime": {
     "end_time": "2018-09-01T23:08:11.320641Z",
     "start_time": "2018-09-01T23:08:11.281942Z"
    }
   },
   "outputs": [
    {
     "data": {
      "text/html": [
       "<div>\n",
       "<style scoped>\n",
       "    .dataframe tbody tr th:only-of-type {\n",
       "        vertical-align: middle;\n",
       "    }\n",
       "\n",
       "    .dataframe tbody tr th {\n",
       "        vertical-align: top;\n",
       "    }\n",
       "\n",
       "    .dataframe thead th {\n",
       "        text-align: right;\n",
       "    }\n",
       "</style>\n",
       "<table border=\"1\" class=\"dataframe\">\n",
       "  <thead>\n",
       "    <tr style=\"text-align: right;\">\n",
       "      <th></th>\n",
       "      <th>abrasive</th>\n",
       "      <th>absorbent</th>\n",
       "      <th>adhesion_cohesion_promoter</th>\n",
       "      <th>anti_adhesive_cohesive</th>\n",
       "      <th>antifreeze_agent</th>\n",
       "      <th>antiredeposition_agent</th>\n",
       "      <th>antiscaling_agent</th>\n",
       "      <th>antistatic_agent</th>\n",
       "      <th>antioxidant</th>\n",
       "      <th>antiseborrheic</th>\n",
       "      <th>...</th>\n",
       "      <th>softener_conditioner</th>\n",
       "      <th>solubility_enhancer</th>\n",
       "      <th>solvent</th>\n",
       "      <th>stabilizing_agent</th>\n",
       "      <th>surface_modifier</th>\n",
       "      <th>surfactant</th>\n",
       "      <th>uv_stabilizer</th>\n",
       "      <th>viscosity_modifier</th>\n",
       "      <th>waterproofing_agent</th>\n",
       "      <th>wetting_agent</th>\n",
       "    </tr>\n",
       "  </thead>\n",
       "  <tbody>\n",
       "    <tr>\n",
       "      <th>0</th>\n",
       "      <td>0</td>\n",
       "      <td>0</td>\n",
       "      <td>0</td>\n",
       "      <td>0</td>\n",
       "      <td>0</td>\n",
       "      <td>0</td>\n",
       "      <td>0</td>\n",
       "      <td>0</td>\n",
       "      <td>0</td>\n",
       "      <td>0</td>\n",
       "      <td>...</td>\n",
       "      <td>0</td>\n",
       "      <td>0</td>\n",
       "      <td>0</td>\n",
       "      <td>0</td>\n",
       "      <td>0</td>\n",
       "      <td>0</td>\n",
       "      <td>0</td>\n",
       "      <td>0</td>\n",
       "      <td>0</td>\n",
       "      <td>0</td>\n",
       "    </tr>\n",
       "    <tr>\n",
       "      <th>1</th>\n",
       "      <td>0</td>\n",
       "      <td>0</td>\n",
       "      <td>0</td>\n",
       "      <td>0</td>\n",
       "      <td>0</td>\n",
       "      <td>0</td>\n",
       "      <td>0</td>\n",
       "      <td>1</td>\n",
       "      <td>0</td>\n",
       "      <td>0</td>\n",
       "      <td>...</td>\n",
       "      <td>0</td>\n",
       "      <td>0</td>\n",
       "      <td>0</td>\n",
       "      <td>0</td>\n",
       "      <td>0</td>\n",
       "      <td>0</td>\n",
       "      <td>0</td>\n",
       "      <td>0</td>\n",
       "      <td>0</td>\n",
       "      <td>0</td>\n",
       "    </tr>\n",
       "    <tr>\n",
       "      <th>2</th>\n",
       "      <td>0</td>\n",
       "      <td>0</td>\n",
       "      <td>0</td>\n",
       "      <td>0</td>\n",
       "      <td>0</td>\n",
       "      <td>0</td>\n",
       "      <td>0</td>\n",
       "      <td>1</td>\n",
       "      <td>0</td>\n",
       "      <td>0</td>\n",
       "      <td>...</td>\n",
       "      <td>0</td>\n",
       "      <td>0</td>\n",
       "      <td>0</td>\n",
       "      <td>0</td>\n",
       "      <td>0</td>\n",
       "      <td>0</td>\n",
       "      <td>0</td>\n",
       "      <td>0</td>\n",
       "      <td>0</td>\n",
       "      <td>0</td>\n",
       "    </tr>\n",
       "    <tr>\n",
       "      <th>3</th>\n",
       "      <td>0</td>\n",
       "      <td>0</td>\n",
       "      <td>0</td>\n",
       "      <td>0</td>\n",
       "      <td>0</td>\n",
       "      <td>0</td>\n",
       "      <td>0</td>\n",
       "      <td>1</td>\n",
       "      <td>0</td>\n",
       "      <td>0</td>\n",
       "      <td>...</td>\n",
       "      <td>0</td>\n",
       "      <td>0</td>\n",
       "      <td>0</td>\n",
       "      <td>0</td>\n",
       "      <td>0</td>\n",
       "      <td>0</td>\n",
       "      <td>0</td>\n",
       "      <td>0</td>\n",
       "      <td>0</td>\n",
       "      <td>0</td>\n",
       "    </tr>\n",
       "  </tbody>\n",
       "</table>\n",
       "<p>4 rows × 62 columns</p>\n",
       "</div>"
      ],
      "text/plain": [
       "   abrasive  absorbent  adhesion_cohesion_promoter  anti_adhesive_cohesive  \\\n",
       "0         0          0                           0                       0   \n",
       "1         0          0                           0                       0   \n",
       "2         0          0                           0                       0   \n",
       "3         0          0                           0                       0   \n",
       "\n",
       "   antifreeze_agent  antiredeposition_agent  antiscaling_agent  \\\n",
       "0                 0                       0                  0   \n",
       "1                 0                       0                  0   \n",
       "2                 0                       0                  0   \n",
       "3                 0                       0                  0   \n",
       "\n",
       "   antistatic_agent  antioxidant  antiseborrheic      ...        \\\n",
       "0                 0            0               0      ...         \n",
       "1                 1            0               0      ...         \n",
       "2                 1            0               0      ...         \n",
       "3                 1            0               0      ...         \n",
       "\n",
       "   softener_conditioner  solubility_enhancer  solvent  stabilizing_agent  \\\n",
       "0                     0                    0        0                  0   \n",
       "1                     0                    0        0                  0   \n",
       "2                     0                    0        0                  0   \n",
       "3                     0                    0        0                  0   \n",
       "\n",
       "   surface_modifier  surfactant  uv_stabilizer  viscosity_modifier  \\\n",
       "0                 0           0              0                   0   \n",
       "1                 0           0              0                   0   \n",
       "2                 0           0              0                   0   \n",
       "3                 0           0              0                   0   \n",
       "\n",
       "   waterproofing_agent  wetting_agent  \n",
       "0                    0              0  \n",
       "1                    0              0  \n",
       "2                    0              0  \n",
       "3                    0              0  \n",
       "\n",
       "[4 rows x 62 columns]"
      ]
     },
     "execution_count": 18,
     "metadata": {},
     "output_type": "execute_result"
    }
   ],
   "source": [
    "# Dataframe for only functional use categories\n",
    "Xf=pd.DataFrame(wfdata)\n",
    "# Drop unwanted columns\n",
    "Xf.drop(Xf.columns[0:10], axis=1, inplace=True) # drop chem props\n",
    "Xf.drop(Xf.columns[62:], axis=1, inplace=True) # drop product categories\n",
    "func_names=list(Xf.columns.values)\n",
    "#func_names\n",
    "Xf.loc[0:3,]"
   ]
  },
  {
   "cell_type": "code",
   "execution_count": 19,
   "metadata": {
    "ExecuteTime": {
     "end_time": "2018-09-01T23:08:12.277361Z",
     "start_time": "2018-09-01T23:08:12.272088Z"
    }
   },
   "outputs": [
    {
     "data": {
      "text/plain": [
       "['abrasive',\n",
       " 'absorbent',\n",
       " 'adhesion_cohesion_promoter',\n",
       " 'anti_adhesive_cohesive',\n",
       " 'antifreeze_agent',\n",
       " 'antiredeposition_agent',\n",
       " 'antiscaling_agent',\n",
       " 'antistatic_agent',\n",
       " 'antioxidant',\n",
       " 'antiseborrheic',\n",
       " 'binder',\n",
       " 'biocide',\n",
       " 'bleaching_agent',\n",
       " 'brightener',\n",
       " 'chelating_agent',\n",
       " 'chemical_reaction_regulator',\n",
       " 'cleaning_agent',\n",
       " 'colorant',\n",
       " 'corrosion_inhibitor',\n",
       " 'crystal_growth_modifier',\n",
       " 'defoamer',\n",
       " 'dehydrating_agent',\n",
       " 'deodorizer',\n",
       " 'diluent',\n",
       " 'dispersing_agent',\n",
       " 'dust_suppressant',\n",
       " 'dusting_agent',\n",
       " 'emulsifier',\n",
       " 'filler',\n",
       " 'film_former',\n",
       " 'flame_retardant',\n",
       " 'flavouring_nutrient',\n",
       " 'foamant',\n",
       " 'fragrance',\n",
       " 'hardener',\n",
       " 'heat_stabilizer',\n",
       " 'heat_transferring_agent',\n",
       " 'humectant',\n",
       " 'intermediate',\n",
       " 'ion_exchange_agent',\n",
       " 'monomer',\n",
       " 'opacifier',\n",
       " 'oxidizing_agent',\n",
       " 'pH_regulating_agent',\n",
       " 'photosensitizer',\n",
       " 'plasticizer',\n",
       " 'polymerization_promoter',\n",
       " 'preservative',\n",
       " 'processing_aid',\n",
       " 'propellant',\n",
       " 'reducing_agent',\n",
       " 'sizing_agent',\n",
       " 'softener_conditioner',\n",
       " 'solubility_enhancer',\n",
       " 'solvent',\n",
       " 'stabilizing_agent',\n",
       " 'surface_modifier',\n",
       " 'surfactant',\n",
       " 'uv_stabilizer',\n",
       " 'viscosity_modifier',\n",
       " 'waterproofing_agent',\n",
       " 'wetting_agent']"
      ]
     },
     "execution_count": 19,
     "metadata": {},
     "output_type": "execute_result"
    }
   ],
   "source": [
    "func_names"
   ]
  },
  {
   "cell_type": "code",
   "execution_count": 20,
   "metadata": {
    "ExecuteTime": {
     "end_time": "2018-09-01T23:08:13.094466Z",
     "start_time": "2018-09-01T23:08:13.086684Z"
    }
   },
   "outputs": [
    {
     "name": "stdout",
     "output_type": "stream",
     "text": [
      "(18466, 62)\n"
     ]
    }
   ],
   "source": [
    "# Array for only functional use categories\n",
    "Xf=np.array(Xf)\n",
    "print(Xf.shape)"
   ]
  },
  {
   "cell_type": "code",
   "execution_count": 21,
   "metadata": {
    "ExecuteTime": {
     "end_time": "2018-09-01T23:08:13.582116Z",
     "start_time": "2018-09-01T23:08:13.554337Z"
    }
   },
   "outputs": [
    {
     "data": {
      "text/html": [
       "<div>\n",
       "<style scoped>\n",
       "    .dataframe tbody tr th:only-of-type {\n",
       "        vertical-align: middle;\n",
       "    }\n",
       "\n",
       "    .dataframe tbody tr th {\n",
       "        vertical-align: top;\n",
       "    }\n",
       "\n",
       "    .dataframe thead th {\n",
       "        text-align: right;\n",
       "    }\n",
       "</style>\n",
       "<table border=\"1\" class=\"dataframe\">\n",
       "  <thead>\n",
       "    <tr style=\"text-align: right;\">\n",
       "      <th></th>\n",
       "      <th>group_adhesives and adhesive removers</th>\n",
       "      <th>group_air freshener</th>\n",
       "      <th>group_all pets</th>\n",
       "      <th>group_auto body work</th>\n",
       "      <th>group_bathroom</th>\n",
       "      <th>group_boat care and maintenance</th>\n",
       "      <th>group_body care set</th>\n",
       "      <th>group_body hygiene</th>\n",
       "      <th>group_body paint</th>\n",
       "      <th>group_body powder</th>\n",
       "      <th>...</th>\n",
       "      <th>refined_gel</th>\n",
       "      <th>refined_interior</th>\n",
       "      <th>refined_liquid</th>\n",
       "      <th>refined_mousse</th>\n",
       "      <th>refined_oil or diffuse</th>\n",
       "      <th>refined_ph control</th>\n",
       "      <th>refined_powder</th>\n",
       "      <th>refined_shock</th>\n",
       "      <th>refined_solid</th>\n",
       "      <th>refined_spray</th>\n",
       "    </tr>\n",
       "  </thead>\n",
       "  <tbody>\n",
       "    <tr>\n",
       "      <th>0</th>\n",
       "      <td>0</td>\n",
       "      <td>0</td>\n",
       "      <td>0</td>\n",
       "      <td>0</td>\n",
       "      <td>0</td>\n",
       "      <td>0</td>\n",
       "      <td>0</td>\n",
       "      <td>0</td>\n",
       "      <td>0</td>\n",
       "      <td>0</td>\n",
       "      <td>...</td>\n",
       "      <td>0</td>\n",
       "      <td>0</td>\n",
       "      <td>0</td>\n",
       "      <td>0</td>\n",
       "      <td>0</td>\n",
       "      <td>0</td>\n",
       "      <td>0</td>\n",
       "      <td>0</td>\n",
       "      <td>0</td>\n",
       "      <td>0</td>\n",
       "    </tr>\n",
       "    <tr>\n",
       "      <th>1</th>\n",
       "      <td>0</td>\n",
       "      <td>0</td>\n",
       "      <td>0</td>\n",
       "      <td>0</td>\n",
       "      <td>0</td>\n",
       "      <td>0</td>\n",
       "      <td>0</td>\n",
       "      <td>0</td>\n",
       "      <td>0</td>\n",
       "      <td>0</td>\n",
       "      <td>...</td>\n",
       "      <td>0</td>\n",
       "      <td>0</td>\n",
       "      <td>0</td>\n",
       "      <td>0</td>\n",
       "      <td>0</td>\n",
       "      <td>0</td>\n",
       "      <td>0</td>\n",
       "      <td>0</td>\n",
       "      <td>0</td>\n",
       "      <td>0</td>\n",
       "    </tr>\n",
       "    <tr>\n",
       "      <th>2</th>\n",
       "      <td>0</td>\n",
       "      <td>0</td>\n",
       "      <td>0</td>\n",
       "      <td>1</td>\n",
       "      <td>0</td>\n",
       "      <td>0</td>\n",
       "      <td>0</td>\n",
       "      <td>0</td>\n",
       "      <td>0</td>\n",
       "      <td>0</td>\n",
       "      <td>...</td>\n",
       "      <td>0</td>\n",
       "      <td>0</td>\n",
       "      <td>0</td>\n",
       "      <td>0</td>\n",
       "      <td>0</td>\n",
       "      <td>0</td>\n",
       "      <td>0</td>\n",
       "      <td>0</td>\n",
       "      <td>0</td>\n",
       "      <td>0</td>\n",
       "    </tr>\n",
       "    <tr>\n",
       "      <th>3</th>\n",
       "      <td>0</td>\n",
       "      <td>0</td>\n",
       "      <td>0</td>\n",
       "      <td>0</td>\n",
       "      <td>0</td>\n",
       "      <td>0</td>\n",
       "      <td>0</td>\n",
       "      <td>0</td>\n",
       "      <td>0</td>\n",
       "      <td>0</td>\n",
       "      <td>...</td>\n",
       "      <td>0</td>\n",
       "      <td>0</td>\n",
       "      <td>0</td>\n",
       "      <td>0</td>\n",
       "      <td>0</td>\n",
       "      <td>0</td>\n",
       "      <td>0</td>\n",
       "      <td>0</td>\n",
       "      <td>0</td>\n",
       "      <td>1</td>\n",
       "    </tr>\n",
       "  </tbody>\n",
       "</table>\n",
       "<p>4 rows × 215 columns</p>\n",
       "</div>"
      ],
      "text/plain": [
       "   group_adhesives and adhesive removers  group_air freshener  group_all pets  \\\n",
       "0                                      0                    0               0   \n",
       "1                                      0                    0               0   \n",
       "2                                      0                    0               0   \n",
       "3                                      0                    0               0   \n",
       "\n",
       "   group_auto body work  group_bathroom  group_boat care and maintenance  \\\n",
       "0                     0               0                                0   \n",
       "1                     0               0                                0   \n",
       "2                     1               0                                0   \n",
       "3                     0               0                                0   \n",
       "\n",
       "   group_body care set  group_body hygiene  group_body paint  \\\n",
       "0                    0                   0                 0   \n",
       "1                    0                   0                 0   \n",
       "2                    0                   0                 0   \n",
       "3                    0                   0                 0   \n",
       "\n",
       "   group_body powder      ...        refined_gel  refined_interior  \\\n",
       "0                  0      ...                  0                 0   \n",
       "1                  0      ...                  0                 0   \n",
       "2                  0      ...                  0                 0   \n",
       "3                  0      ...                  0                 0   \n",
       "\n",
       "   refined_liquid  refined_mousse  refined_oil or diffuse  refined_ph control  \\\n",
       "0               0               0                       0                   0   \n",
       "1               0               0                       0                   0   \n",
       "2               0               0                       0                   0   \n",
       "3               0               0                       0                   0   \n",
       "\n",
       "   refined_powder  refined_shock  refined_solid  refined_spray  \n",
       "0               0              0              0              0  \n",
       "1               0              0              0              0  \n",
       "2               0              0              0              0  \n",
       "3               0              0              0              1  \n",
       "\n",
       "[4 rows x 215 columns]"
      ]
     },
     "execution_count": 21,
     "metadata": {},
     "output_type": "execute_result"
    }
   ],
   "source": [
    "# Array for only product categories\n",
    "Xp=pd.DataFrame(wfdata)\n",
    "# Drop unwanted columns\n",
    "Xp.drop(Xp.columns[0:73], axis=1, inplace=True)\n",
    "PUC_names=list(Xp.columns.values)\n",
    "#PUC_names\n",
    "Xp.loc[0:3,]"
   ]
  },
  {
   "cell_type": "code",
   "execution_count": 22,
   "metadata": {
    "ExecuteTime": {
     "end_time": "2018-09-01T23:08:14.054631Z",
     "start_time": "2018-09-01T23:08:14.014616Z"
    }
   },
   "outputs": [
    {
     "name": "stdout",
     "output_type": "stream",
     "text": [
      "(18466, 215)\n"
     ]
    }
   ],
   "source": [
    "# Array for only product categories\n",
    "Xp=np.array(Xp)\n",
    "print(Xp.shape)"
   ]
  },
  {
   "cell_type": "code",
   "execution_count": 23,
   "metadata": {
    "ExecuteTime": {
     "end_time": "2018-09-01T23:08:14.576749Z",
     "start_time": "2018-09-01T23:08:14.562512Z"
    }
   },
   "outputs": [
    {
     "name": "stdout",
     "output_type": "stream",
     "text": [
      "(18466, 11)\n"
     ]
    }
   ],
   "source": [
    "# Array for only chemical properties\n",
    "Xc=pd.DataFrame(wfdata)\n",
    "# Drop unwanted columns\n",
    "Xc.drop(Xc.columns[11:], axis=1, inplace=True)\n",
    "chemprop_names=list(Xc.columns.values)\n",
    "#chemprop_names\n",
    "\n",
    "Xc=np.array(Xc)\n",
    "print(Xc.shape)"
   ]
  },
  {
   "cell_type": "code",
   "execution_count": 24,
   "metadata": {
    "ExecuteTime": {
     "end_time": "2018-09-01T23:08:15.137167Z",
     "start_time": "2018-09-01T23:08:14.962146Z"
    }
   },
   "outputs": [
    {
     "name": "stdout",
     "output_type": "stream",
     "text": [
      "(18466,)\n"
     ]
    }
   ],
   "source": [
    "# Set maximum weight fraction as y array (target variable)\n",
    "ydf = pd.read_csv(\"./data/WFdata_assignedfeatures.csv\", sep=',', header='infer', usecols=[2,9])\n",
    "ydf = ydf[ydf['propKow'].notnull()]\n",
    "ydf.drop(ydf.columns[1], axis=1, inplace=True)\n",
    "y = ydf.values.ravel()\n",
    "#y.loc[0:3,]\n",
    "print(y.shape)\n",
    "\n",
    "# Maximum weight fraction as LOG TRANSFORMED y array\n",
    "########### NOTE*****************\n",
    "########### Predictions get bad around 10^-5.\n",
    "########### Therefore, 10^-5 was added to all weight\n",
    "########### fractions to improve model performance.\n",
    "########### Results around this value may be\n",
    "########### unreliable.\n",
    "y_log = np.log10(y)\n",
    "y_log_cut = np.log10(y+0.00001)"
   ]
  },
  {
   "cell_type": "code",
   "execution_count": 25,
   "metadata": {
    "ExecuteTime": {
     "end_time": "2018-09-01T23:08:15.739144Z",
     "start_time": "2018-09-01T23:08:15.462984Z"
    }
   },
   "outputs": [
    {
     "data": {
      "text/plain": [
       "(array([15393.,   988.,   691.,   410.,   141.,   278.,   149.,   116.,\n",
       "           53.,   247.]),\n",
       " array([1.00000000e-09, 1.00000001e-01, 2.00000001e-01, 3.00000001e-01,\n",
       "        4.00000001e-01, 5.00000000e-01, 6.00000000e-01, 7.00000000e-01,\n",
       "        8.00000000e-01, 9.00000000e-01, 1.00000000e+00]),\n",
       " <a list of 10 Patch objects>)"
      ]
     },
     "execution_count": 25,
     "metadata": {},
     "output_type": "execute_result"
    },
    {
     "data": {
      "image/png": "[encoded data removed]",
      "text/plain": [
       "<Figure size 432x288 with 1 Axes>"
      ]
     },
     "metadata": {},
     "output_type": "display_data"
    }
   ],
   "source": [
    "# Histogram of weight fractions\n",
    "plt.hist(y)"
   ]
  },
  {
   "cell_type": "code",
   "execution_count": 26,
   "metadata": {
    "ExecuteTime": {
     "end_time": "2018-09-01T23:08:16.285689Z",
     "start_time": "2018-09-01T23:08:16.131569Z"
    }
   },
   "outputs": [
    {
     "data": {
      "text/plain": [
       "(array([3.000e+00, 1.090e+02, 1.400e+01, 4.700e+01, 9.900e+01, 2.660e+02,\n",
       "        1.618e+03, 5.586e+03, 7.733e+03, 2.991e+03]),\n",
       " array([-9. , -8.1, -7.2, -6.3, -5.4, -4.5, -3.6, -2.7, -1.8, -0.9,  0. ]),\n",
       " <a list of 10 Patch objects>)"
      ]
     },
     "execution_count": 26,
     "metadata": {},
     "output_type": "execute_result"
    },
    {
     "data": {
      "image/png": "[encoded data removed]",
      "text/plain": [
       "<Figure size 432x288 with 1 Axes>"
      ]
     },
     "metadata": {},
     "output_type": "display_data"
    }
   ],
   "source": [
    "# Log-transformed histogram of weight fraction\n",
    "plt.hist(y_log, bins=10)"
   ]
  },
  {
   "cell_type": "code",
   "execution_count": 27,
   "metadata": {
    "ExecuteTime": {
     "end_time": "2018-09-01T23:08:16.770420Z",
     "start_time": "2018-09-01T23:08:16.629218Z"
    }
   },
   "outputs": [
    {
     "data": {
      "text/plain": [
       "(array([ 274.,  182.,  302., 1719., 4447., 6127., 3370., 2045.]),\n",
       " array([-4.99995657e+00, -4.37496146e+00, -3.74996634e+00, -3.12497123e+00,\n",
       "        -2.49997611e+00, -1.87498100e+00, -1.24998589e+00, -6.24990772e-01,\n",
       "         4.34292310e-06]),\n",
       " <a list of 8 Patch objects>)"
      ]
     },
     "execution_count": 27,
     "metadata": {},
     "output_type": "execute_result"
    },
    {
     "data": {
      "image/png": "[encoded data removed]",
      "text/plain": [
       "<Figure size 432x288 with 1 Axes>"
      ]
     },
     "metadata": {},
     "output_type": "display_data"
    }
   ],
   "source": [
    "# Log-transformed histogram of weight fraction\n",
    "plt.hist(y_log_cut, bins=8)"
   ]
  },
  {
   "cell_type": "markdown",
   "metadata": {},
   "source": [
    "### No p-chem data (\"keeping\" NAs)"
   ]
  },
  {
   "cell_type": "markdown",
   "metadata": {},
   "source": [
    "1/3 of the data is lost by excluding NAs, which are only found in the chemical property columns. Here I'll restructure my dataframes to exclude chemical property data and keep all of the ~30,000 tuples. Later on I'll test the performance without chemical property data, and it explains 5% less variance. In conclusion, getting rid of the NAs (keeping chemical property data) is better."
   ]
  },
  {
   "cell_type": "code",
   "execution_count": 28,
   "metadata": {
    "ExecuteTime": {
     "end_time": "2018-08-30T21:55:29.809863Z",
     "start_time": "2018-08-30T21:55:29.330496Z"
    }
   },
   "outputs": [
    {
     "name": "stdout",
     "output_type": "stream",
     "text": [
      "(29373, 82)\n"
     ]
    }
   ],
   "source": [
    "# Read in all data without dropping NAs\n",
    "wfdata_all=pd.read_csv(\"./data/WFdata_assignedfeatures.csv\", sep=',', header='infer', usecols=range(1,87))\n",
    "\n",
    "# Drop unwanted columns (index, CASRN, 2/5 product category components)\n",
    "wfdata_all.drop(wfdata_all.columns[[0,1,2,6]], axis=1, inplace=True)\n",
    "\n",
    "# Rename columns\n",
    "wfdata_all.rename(columns = {'product_type':'product'}, inplace = True)\n",
    "wfdata_all.rename(columns = {'refined_product_type':'refined'}, inplace = True)\n",
    "\n",
    "# Assign correct data types\n",
    "wfdata_all['group'] = wfdata_all['group'].astype('object')\n",
    "wfdata_all['product'] = wfdata_all['product'].astype('object')\n",
    "wfdata_all['refined'] = wfdata_all['refined'].astype('object')\n",
    "#wfdata_all.dtypes\n",
    "print(wfdata_all.shape)"
   ]
  },
  {
   "cell_type": "code",
   "execution_count": 29,
   "metadata": {
    "ExecuteTime": {
     "end_time": "2018-08-30T21:55:30.560560Z",
     "start_time": "2018-08-30T21:55:30.029064Z"
    }
   },
   "outputs": [
    {
     "name": "stdout",
     "output_type": "stream",
     "text": [
      "(29373, 305)\n"
     ]
    }
   ],
   "source": [
    "# Transform factor data (product categories) into binary columns\n",
    "wfdata_all=pd.get_dummies(wfdata_all, prefix=[\"group\",\"product\",\"refined\"], columns=[\"group\",\"product\",\"refined\"])\n",
    "\n",
    "# Relocate data for duplicative columns\n",
    "wfdata_all.columns = wfdata_all.columns.str.replace('|','_')\n",
    "wfdata_all.loc[wfdata_all.refined_child_spray == 1, ['refined_child', 'refined_spray']] = 1, 1\n",
    "wfdata_all.loc[wfdata_all.refined_gel_spray == 1, ['refined_gel', 'refined_spray']] = 1, 1\n",
    "\n",
    "# Get counts for columns\n",
    "colsum2 = wfdata_all.sum(axis=0)\n",
    "colsum2.to_csv('./BLTfigs/wfdata_colsum2.csv')\n",
    "\n",
    "# Delete the following features:\n",
    "    # chemical property columns\n",
    "    # columns with <10 hits\n",
    "    # child_spray [380] and gel_spray [384] columns (duplicative)\n",
    "wfdata_all.drop(wfdata_all.columns[[9]],\n",
    "            axis=1, inplace=True) # drop density\n",
    "wfdata_all.drop(wfdata_all.columns[[0,1,2,3,4,5,6,7,8,9,108,115,142,166,175,188,214,255,316,326,344,371,135,189,191,228,264,360,116,141,153,157,190,259,311,323,349,354,83,128,139,173,177,220,290,308,370,375,119,170,263,318,154,184,320,342,350,227,270,277,309,101,155,158,163,221,232,245,351,355,365,372,125,167,201,271,347,373,49,89,145,152,165,204,267,322,380,384]],\n",
    "            axis=1, inplace=True) # drop all other stuff\n",
    "\n",
    "print(wfdata_all.shape)\n",
    "\n",
    "X_all=np.array(wfdata_all)"
   ]
  },
  {
   "cell_type": "code",
   "execution_count": 30,
   "metadata": {
    "ExecuteTime": {
     "end_time": "2018-08-30T21:55:30.850604Z",
     "start_time": "2018-08-30T21:55:30.736495Z"
    }
   },
   "outputs": [
    {
     "name": "stdout",
     "output_type": "stream",
     "text": [
      "(29373,)\n"
     ]
    }
   ],
   "source": [
    "# Set maximum weight fraction as y_all array\n",
    "# Log-transform\n",
    "y_all=pd.read_csv(\"./data/WFdata_assignedfeatures.csv\", sep=',', header='infer', usecols=[2])\n",
    "y_all=y_all.values.ravel()\n",
    "print(y_all.shape)\n",
    "y_all=np.log(y_all)"
   ]
  },
  {
   "cell_type": "markdown",
   "metadata": {},
   "source": [
    "### WF bins as alternative target variable"
   ]
  },
  {
   "cell_type": "markdown",
   "metadata": {},
   "source": [
    "Right now weight fraction is a continuous variable. This will make it categorical, as implemented in Isaacs et al. 2016.\n",
    "\n",
    "Resources for implementing classifier with categorical target:\n",
    "\n",
    "https://stackoverflow.com/questions/30271257/categorical-numerical-features-categorical-target-scikit-learn-python\n",
    "\n",
    "https://stackoverflow.com/questions/21702342/creating-a-new-column-based-on-if-elif-else-condition\n",
    "\n",
    "https://www.quora.com/Does-random-forest-works-with-categorical-variables\n",
    "\n",
    "https://chrisalbon.com/machine_learning/preprocessing_structured_data/convert_pandas_categorical_column_into_integers_for_scikit-learn/"
   ]
  },
  {
   "cell_type": "code",
   "execution_count": 31,
   "metadata": {
    "ExecuteTime": {
     "end_time": "2018-09-01T23:03:12.377408Z",
     "start_time": "2018-09-01T23:03:11.965082Z"
    },
    "collapsed": true
   },
   "outputs": [],
   "source": [
    "# Define function to assign weight fractions to bins per Isaacs et al. 2016\n",
    "def bins(row):\n",
    "    if row['maximum_weight_fraction'] <= 0.005:\n",
    "        val = 'bottom'\n",
    "    elif row['maximum_weight_fraction'] > 0.05:\n",
    "        val = 'top'\n",
    "    else:\n",
    "        val = 'middle'\n",
    "    return val\n",
    "ydf['wfbin'] = ydf.apply(bins, axis=1)"
   ]
  },
  {
   "cell_type": "code",
   "execution_count": 32,
   "metadata": {
    "ExecuteTime": {
     "end_time": "2018-09-01T23:03:13.084014Z",
     "start_time": "2018-09-01T23:03:12.924473Z"
    }
   },
   "outputs": [
    {
     "ename": "KeyboardInterrupt",
     "evalue": "",
     "output_type": "error",
     "traceback": [
      "\u001b[0;31m---------------------------------------------------------------------------\u001b[0m",
      "\u001b[0;31mKeyboardInterrupt\u001b[0m                         Traceback (most recent call last)",
      "\u001b[0;32m<ipython-input-32-ecedd2d970e5>\u001b[0m in \u001b[0;36m<module>\u001b[0;34m()\u001b[0m\n\u001b[0;32m----> 1\u001b[0;31m \u001b[0mplt\u001b[0m\u001b[0;34m.\u001b[0m\u001b[0mhist\u001b[0m\u001b[0;34m(\u001b[0m\u001b[0mydf\u001b[0m\u001b[0;34m[\u001b[0m\u001b[0;34m'wfbin'\u001b[0m\u001b[0;34m]\u001b[0m\u001b[0;34m)\u001b[0m\u001b[0;34m\u001b[0m\u001b[0m\n\u001b[0m\u001b[1;32m      2\u001b[0m \u001b[0mplt\u001b[0m\u001b[0;34m.\u001b[0m\u001b[0mtitle\u001b[0m\u001b[0;34m(\u001b[0m\u001b[0;34m'Frequency of Chemical Weight Fraction Bins'\u001b[0m\u001b[0;34m)\u001b[0m\u001b[0;34m\u001b[0m\u001b[0m\n",
      "\u001b[0;32m/Users/dec18/anaconda/lib/python3.6/site-packages/matplotlib/pyplot.py\u001b[0m in \u001b[0;36mhist\u001b[0;34m(x, bins, range, density, weights, cumulative, bottom, histtype, align, orientation, rwidth, log, color, label, stacked, normed, hold, data, **kwargs)\u001b[0m\n\u001b[1;32m   3135\u001b[0m                       \u001b[0mhisttype\u001b[0m\u001b[0;34m=\u001b[0m\u001b[0mhisttype\u001b[0m\u001b[0;34m,\u001b[0m \u001b[0malign\u001b[0m\u001b[0;34m=\u001b[0m\u001b[0malign\u001b[0m\u001b[0;34m,\u001b[0m \u001b[0morientation\u001b[0m\u001b[0;34m=\u001b[0m\u001b[0morientation\u001b[0m\u001b[0;34m,\u001b[0m\u001b[0;34m\u001b[0m\u001b[0m\n\u001b[1;32m   3136\u001b[0m                       \u001b[0mrwidth\u001b[0m\u001b[0;34m=\u001b[0m\u001b[0mrwidth\u001b[0m\u001b[0;34m,\u001b[0m \u001b[0mlog\u001b[0m\u001b[0;34m=\u001b[0m\u001b[0mlog\u001b[0m\u001b[0;34m,\u001b[0m \u001b[0mcolor\u001b[0m\u001b[0;34m=\u001b[0m\u001b[0mcolor\u001b[0m\u001b[0;34m,\u001b[0m \u001b[0mlabel\u001b[0m\u001b[0;34m=\u001b[0m\u001b[0mlabel\u001b[0m\u001b[0;34m,\u001b[0m\u001b[0;34m\u001b[0m\u001b[0m\n\u001b[0;32m-> 3137\u001b[0;31m                       stacked=stacked, normed=normed, data=data, **kwargs)\n\u001b[0m\u001b[1;32m   3138\u001b[0m     \u001b[0;32mfinally\u001b[0m\u001b[0;34m:\u001b[0m\u001b[0;34m\u001b[0m\u001b[0m\n\u001b[1;32m   3139\u001b[0m         \u001b[0max\u001b[0m\u001b[0;34m.\u001b[0m\u001b[0m_hold\u001b[0m \u001b[0;34m=\u001b[0m \u001b[0mwashold\u001b[0m\u001b[0;34m\u001b[0m\u001b[0m\n",
      "\u001b[0;32m/Users/dec18/anaconda/lib/python3.6/site-packages/matplotlib/__init__.py\u001b[0m in \u001b[0;36minner\u001b[0;34m(ax, *args, **kwargs)\u001b[0m\n\u001b[1;32m   1865\u001b[0m                         \u001b[0;34m\"the Matplotlib list!)\"\u001b[0m \u001b[0;34m%\u001b[0m \u001b[0;34m(\u001b[0m\u001b[0mlabel_namer\u001b[0m\u001b[0;34m,\u001b[0m \u001b[0mfunc\u001b[0m\u001b[0;34m.\u001b[0m\u001b[0m__name__\u001b[0m\u001b[0;34m)\u001b[0m\u001b[0;34m,\u001b[0m\u001b[0;34m\u001b[0m\u001b[0m\n\u001b[1;32m   1866\u001b[0m                         RuntimeWarning, stacklevel=2)\n\u001b[0;32m-> 1867\u001b[0;31m             \u001b[0;32mreturn\u001b[0m \u001b[0mfunc\u001b[0m\u001b[0;34m(\u001b[0m\u001b[0max\u001b[0m\u001b[0;34m,\u001b[0m \u001b[0;34m*\u001b[0m\u001b[0margs\u001b[0m\u001b[0;34m,\u001b[0m \u001b[0;34m**\u001b[0m\u001b[0mkwargs\u001b[0m\u001b[0;34m)\u001b[0m\u001b[0;34m\u001b[0m\u001b[0m\n\u001b[0m\u001b[1;32m   1868\u001b[0m \u001b[0;34m\u001b[0m\u001b[0m\n\u001b[1;32m   1869\u001b[0m         inner.__doc__ = _add_data_doc(inner.__doc__,\n",
      "\u001b[0;32m/Users/dec18/anaconda/lib/python3.6/site-packages/matplotlib/axes/_axes.py\u001b[0m in \u001b[0;36mhist\u001b[0;34m(***failed resolving arguments***)\u001b[0m\n\u001b[1;32m   6713\u001b[0m                 patch = _barfunc(bins[:-1]+boffset, height, width,\n\u001b[1;32m   6714\u001b[0m                                  \u001b[0malign\u001b[0m\u001b[0;34m=\u001b[0m\u001b[0;34m'center'\u001b[0m\u001b[0;34m,\u001b[0m \u001b[0mlog\u001b[0m\u001b[0;34m=\u001b[0m\u001b[0mlog\u001b[0m\u001b[0;34m,\u001b[0m\u001b[0;34m\u001b[0m\u001b[0m\n\u001b[0;32m-> 6715\u001b[0;31m                                  color=c, **{bottom_kwarg: bottom})\n\u001b[0m\u001b[1;32m   6716\u001b[0m                 \u001b[0mpatches\u001b[0m\u001b[0;34m.\u001b[0m\u001b[0mappend\u001b[0m\u001b[0;34m(\u001b[0m\u001b[0mpatch\u001b[0m\u001b[0;34m)\u001b[0m\u001b[0;34m\u001b[0m\u001b[0m\n\u001b[1;32m   6717\u001b[0m                 \u001b[0;32mif\u001b[0m \u001b[0mstacked\u001b[0m\u001b[0;34m:\u001b[0m\u001b[0;34m\u001b[0m\u001b[0m\n",
      "\u001b[0;32m/Users/dec18/anaconda/lib/python3.6/site-packages/matplotlib/__init__.py\u001b[0m in \u001b[0;36minner\u001b[0;34m(ax, *args, **kwargs)\u001b[0m\n\u001b[1;32m   1865\u001b[0m                         \u001b[0;34m\"the Matplotlib list!)\"\u001b[0m \u001b[0;34m%\u001b[0m \u001b[0;34m(\u001b[0m\u001b[0mlabel_namer\u001b[0m\u001b[0;34m,\u001b[0m \u001b[0mfunc\u001b[0m\u001b[0;34m.\u001b[0m\u001b[0m__name__\u001b[0m\u001b[0;34m)\u001b[0m\u001b[0;34m,\u001b[0m\u001b[0;34m\u001b[0m\u001b[0m\n\u001b[1;32m   1866\u001b[0m                         RuntimeWarning, stacklevel=2)\n\u001b[0;32m-> 1867\u001b[0;31m             \u001b[0;32mreturn\u001b[0m \u001b[0mfunc\u001b[0m\u001b[0;34m(\u001b[0m\u001b[0max\u001b[0m\u001b[0;34m,\u001b[0m \u001b[0;34m*\u001b[0m\u001b[0margs\u001b[0m\u001b[0;34m,\u001b[0m \u001b[0;34m**\u001b[0m\u001b[0mkwargs\u001b[0m\u001b[0;34m)\u001b[0m\u001b[0;34m\u001b[0m\u001b[0m\n\u001b[0m\u001b[1;32m   1868\u001b[0m \u001b[0;34m\u001b[0m\u001b[0m\n\u001b[1;32m   1869\u001b[0m         inner.__doc__ = _add_data_doc(inner.__doc__,\n",
      "\u001b[0;32m/Users/dec18/anaconda/lib/python3.6/site-packages/matplotlib/axes/_axes.py\u001b[0m in \u001b[0;36mbar\u001b[0;34m(self, *args, **kwargs)\u001b[0m\n\u001b[1;32m   2331\u001b[0m             \u001b[0mymin\u001b[0m \u001b[0;34m=\u001b[0m \u001b[0mmax\u001b[0m\u001b[0;34m(\u001b[0m\u001b[0mymin\u001b[0m \u001b[0;34m*\u001b[0m \u001b[0;36m0.9\u001b[0m\u001b[0;34m,\u001b[0m \u001b[0;36m1e-100\u001b[0m\u001b[0;34m)\u001b[0m\u001b[0;34m\u001b[0m\u001b[0m\n\u001b[1;32m   2332\u001b[0m             \u001b[0mself\u001b[0m\u001b[0;34m.\u001b[0m\u001b[0mdataLim\u001b[0m\u001b[0;34m.\u001b[0m\u001b[0mintervaly\u001b[0m \u001b[0;34m=\u001b[0m \u001b[0;34m(\u001b[0m\u001b[0mymin\u001b[0m\u001b[0;34m,\u001b[0m \u001b[0mymax\u001b[0m\u001b[0;34m)\u001b[0m\u001b[0;34m\u001b[0m\u001b[0m\n\u001b[0;32m-> 2333\u001b[0;31m         \u001b[0mself\u001b[0m\u001b[0;34m.\u001b[0m\u001b[0mautoscale_view\u001b[0m\u001b[0;34m(\u001b[0m\u001b[0;34m)\u001b[0m\u001b[0;34m\u001b[0m\u001b[0m\n\u001b[0m\u001b[1;32m   2334\u001b[0m \u001b[0;34m\u001b[0m\u001b[0m\n\u001b[1;32m   2335\u001b[0m         \u001b[0mbar_container\u001b[0m \u001b[0;34m=\u001b[0m \u001b[0mBarContainer\u001b[0m\u001b[0;34m(\u001b[0m\u001b[0mpatches\u001b[0m\u001b[0;34m,\u001b[0m \u001b[0merrorbar\u001b[0m\u001b[0;34m,\u001b[0m \u001b[0mlabel\u001b[0m\u001b[0;34m=\u001b[0m\u001b[0mlabel\u001b[0m\u001b[0;34m)\u001b[0m\u001b[0;34m\u001b[0m\u001b[0m\n",
      "\u001b[0;32m/Users/dec18/anaconda/lib/python3.6/site-packages/matplotlib/axes/_base.py\u001b[0m in \u001b[0;36mautoscale_view\u001b[0;34m(self, tight, scalex, scaley)\u001b[0m\n\u001b[1;32m   2476\u001b[0m             \u001b[0mstickies\u001b[0m \u001b[0;34m=\u001b[0m \u001b[0;34m[\u001b[0m\u001b[0martist\u001b[0m\u001b[0;34m.\u001b[0m\u001b[0msticky_edges\u001b[0m \u001b[0;32mfor\u001b[0m \u001b[0martist\u001b[0m \u001b[0;32min\u001b[0m \u001b[0mself\u001b[0m\u001b[0;34m.\u001b[0m\u001b[0mget_children\u001b[0m\u001b[0;34m(\u001b[0m\u001b[0;34m)\u001b[0m\u001b[0;34m]\u001b[0m\u001b[0;34m\u001b[0m\u001b[0m\n\u001b[1;32m   2477\u001b[0m             \u001b[0mx_stickies\u001b[0m \u001b[0;34m=\u001b[0m \u001b[0msum\u001b[0m\u001b[0;34m(\u001b[0m\u001b[0;34m[\u001b[0m\u001b[0msticky\u001b[0m\u001b[0;34m.\u001b[0m\u001b[0mx\u001b[0m \u001b[0;32mfor\u001b[0m \u001b[0msticky\u001b[0m \u001b[0;32min\u001b[0m \u001b[0mstickies\u001b[0m\u001b[0;34m]\u001b[0m\u001b[0;34m,\u001b[0m \u001b[0;34m[\u001b[0m\u001b[0;34m]\u001b[0m\u001b[0;34m)\u001b[0m\u001b[0;34m\u001b[0m\u001b[0m\n\u001b[0;32m-> 2478\u001b[0;31m             \u001b[0my_stickies\u001b[0m \u001b[0;34m=\u001b[0m \u001b[0msum\u001b[0m\u001b[0;34m(\u001b[0m\u001b[0;34m[\u001b[0m\u001b[0msticky\u001b[0m\u001b[0;34m.\u001b[0m\u001b[0my\u001b[0m \u001b[0;32mfor\u001b[0m \u001b[0msticky\u001b[0m \u001b[0;32min\u001b[0m \u001b[0mstickies\u001b[0m\u001b[0;34m]\u001b[0m\u001b[0;34m,\u001b[0m \u001b[0;34m[\u001b[0m\u001b[0;34m]\u001b[0m\u001b[0;34m)\u001b[0m\u001b[0;34m\u001b[0m\u001b[0m\n\u001b[0m\u001b[1;32m   2479\u001b[0m             \u001b[0;32mif\u001b[0m \u001b[0mself\u001b[0m\u001b[0;34m.\u001b[0m\u001b[0mget_xscale\u001b[0m\u001b[0;34m(\u001b[0m\u001b[0;34m)\u001b[0m\u001b[0;34m.\u001b[0m\u001b[0mlower\u001b[0m\u001b[0;34m(\u001b[0m\u001b[0;34m)\u001b[0m \u001b[0;34m==\u001b[0m \u001b[0;34m'log'\u001b[0m\u001b[0;34m:\u001b[0m\u001b[0;34m\u001b[0m\u001b[0m\n\u001b[1;32m   2480\u001b[0m                 \u001b[0mx_stickies\u001b[0m \u001b[0;34m=\u001b[0m \u001b[0;34m[\u001b[0m\u001b[0mxs\u001b[0m \u001b[0;32mfor\u001b[0m \u001b[0mxs\u001b[0m \u001b[0;32min\u001b[0m \u001b[0mx_stickies\u001b[0m \u001b[0;32mif\u001b[0m \u001b[0mxs\u001b[0m \u001b[0;34m>\u001b[0m \u001b[0;36m0\u001b[0m\u001b[0;34m]\u001b[0m\u001b[0;34m\u001b[0m\u001b[0m\n",
      "\u001b[0;31mKeyboardInterrupt\u001b[0m: "
     ]
    },
    {
     "data": {
      "image/png": "[encoded data removed]",
      "text/plain": [
       "<Figure size 432x288 with 1 Axes>"
      ]
     },
     "metadata": {},
     "output_type": "display_data"
    }
   ],
   "source": [
    "plt.hist(ydf['wfbin'])\n",
    "plt.title('Frequency of Chemical Weight Fraction Bins')"
   ]
  },
  {
   "cell_type": "code",
   "execution_count": null,
   "metadata": {
    "ExecuteTime": {
     "end_time": "2018-09-01T23:03:21.458896Z",
     "start_time": "2018-09-01T23:03:21.294087Z"
    },
    "collapsed": true
   },
   "outputs": [],
   "source": [
    "plt.hist(ydf['wfbin'])\n",
    "plt.title('Frequency of Chemical Weight Fraction Bins in Isaacs et al. 2016')"
   ]
  },
  {
   "cell_type": "code",
   "execution_count": null,
   "metadata": {
    "ExecuteTime": {
     "end_time": "2018-09-01T23:03:29.349809Z",
     "start_time": "2018-09-01T23:03:29.022872Z"
    },
    "collapsed": true
   },
   "outputs": [],
   "source": [
    "# Use label encoder to make bins compatible with Scikit-Learn\n",
    "from sklearn import preprocessing\n",
    "le = preprocessing.LabelEncoder()\n",
    "# Fit the encoder to the categorical column\n",
    "bin_num = le.fit_transform(ydf['wfbin'])\n",
    "# Transform categories into integers\n",
    "le.transform(ydf['wfbin'])\n",
    "# Convert a list of integers into their category names\n",
    "print('[0, 1, 2]')\n",
    "print(list(le.inverse_transform([0,1,2])))\n",
    "print('bin_num shape: {}'.format(bin_num.shape))"
   ]
  },
  {
   "cell_type": "markdown",
   "metadata": {},
   "source": [
    "### Source model"
   ]
  },
  {
   "cell_type": "code",
   "execution_count": null,
   "metadata": {
    "ExecuteTime": {
     "end_time": "2018-09-01T23:08:25.050529Z",
     "start_time": "2018-09-01T23:08:25.012452Z"
    },
    "collapsed": true
   },
   "outputs": [],
   "source": [
    "# Dataframe for source model\n",
    "wfdata_source=pd.DataFrame(wfdata)\n",
    "# Drop all chemical property features except MW, solubility\n",
    "wfdata_source.drop(wfdata_source.columns[[1,2,3,4,5,6,7,10]], axis=1, inplace=True)\n",
    "\n",
    "wfdata_source.loc[0:3,]\n",
    "#print(wfdata_source.shape)"
   ]
  },
  {
   "cell_type": "markdown",
   "metadata": {},
   "source": [
    "Arrays for only functions and only product categories are the same as for the full organics model. The only difference is the chemical property array, since this has been cut from 10 features down to 2."
   ]
  },
  {
   "cell_type": "code",
   "execution_count": null,
   "metadata": {
    "ExecuteTime": {
     "end_time": "2018-09-01T23:08:26.408753Z",
     "start_time": "2018-09-01T23:08:26.400890Z"
    },
    "collapsed": true
   },
   "outputs": [],
   "source": [
    "# Array for only chemical properties (MW and solubility)\n",
    "Xsc=pd.DataFrame(wfdata_source)\n",
    "# Drop unwanted columns\n",
    "Xsc.drop(Xsc.columns[3:], axis=1, inplace=True)\n",
    "\n",
    "Xsc=np.array(Xsc)\n",
    "print(Xsc.shape)"
   ]
  },
  {
   "cell_type": "markdown",
   "metadata": {},
   "source": [
    "Blind data"
   ]
  },
  {
   "cell_type": "markdown",
   "metadata": {},
   "source": [
    "Same number of tuples as original wfdata."
   ]
  },
  {
   "cell_type": "code",
   "execution_count": null,
   "metadata": {
    "ExecuteTime": {
     "end_time": "2018-09-01T23:08:27.746219Z",
     "start_time": "2018-09-01T23:08:27.742706Z"
    },
    "collapsed": true
   },
   "outputs": [],
   "source": [
    "# Get CASRN for all chemicals without property data\n",
    "\n",
    "#CASRN=pd.read_csv(\"./data/WFdata_assignedfeatures.csv\", sep=',', header='infer', usecols=[1])\n",
    "#wfdata_source = pd.concat([CASRN,wfdata_source], axis=1)\n",
    "#wfdrop = wfdata_source[wfdata_source.isnull().any(axis=1)]\n",
    "#print(wfdrop.shape)\n",
    "#wfdrop.to_csv('./BLTfigs/wfdata_dropped.csv')"
   ]
  },
  {
   "cell_type": "code",
   "execution_count": null,
   "metadata": {
    "ExecuteTime": {
     "end_time": "2018-09-01T23:08:28.394297Z",
     "start_time": "2018-09-01T23:08:28.389696Z"
    },
    "collapsed": true
   },
   "outputs": [],
   "source": [
    "#wfdrop.CASRN.unique()"
   ]
  },
  {
   "cell_type": "markdown",
   "metadata": {
    "ExecuteTime": {
     "end_time": "2018-07-31T20:26:39.287566Z",
     "start_time": "2018-07-31T20:26:39.283890Z"
    }
   },
   "source": [
    "## Read ENM data"
   ]
  },
  {
   "cell_type": "code",
   "execution_count": 33,
   "metadata": {
    "ExecuteTime": {
     "end_time": "2018-09-01T23:08:30.602400Z",
     "start_time": "2018-09-01T23:08:30.583849Z"
    },
    "collapsed": true
   },
   "outputs": [],
   "source": [
    "# Read in engineered nanomaterials (ENM) weight fraction data and potential predictive variables\n",
    "X_enm=pd.read_csv(\"./data/ENM_conc_export.csv\", sep=',', header='infer') #, usecols=range(0,34), nrows=60\n",
    "\n",
    "# Drop unwanted columns\n",
    "# For PUC, keeping getcat, group, refined, assigned\n",
    "#X_enm = X_enm[X_enm['LOD'].notnull()] # delete missing data\n",
    "X_enm.drop(X_enm.columns[[0,1,2,3,4,9,12,22,24,27,34,35,36]], axis=1, inplace=True)\n",
    "# drop dehydrating_agent[22],dispersing_agent[24],fuel_agent[27]\n",
    "\n",
    "# Rename columns\n",
    "X_enm.rename(columns = {'gencatID':'gen'}, inplace = True)\n",
    "#X_enm.rename(columns = {'product_type':'prod'}, inplace = True)\n",
    "X_enm.rename(columns = {'refined_product_type':'refined'}, inplace = True)\n",
    "X_enm.rename(columns = {'assignedID':'matrix'}, inplace = True)"
   ]
  },
  {
   "cell_type": "code",
   "execution_count": null,
   "metadata": {
    "collapsed": true
   },
   "outputs": [],
   "source": []
  },
  {
   "cell_type": "code",
   "execution_count": 34,
   "metadata": {
    "ExecuteTime": {
     "end_time": "2018-09-01T23:11:52.217779Z",
     "start_time": "2018-09-01T23:11:52.191360Z"
    },
    "collapsed": true
   },
   "outputs": [],
   "source": [
    "# Find and replace (clean data)\n",
    "\n",
    "# To maintain atomicity, assign all child-specific products (C) as articles (A) (there were no formulas) \n",
    "    # and all OTC pharmaceuticals (P) as formulas (F) (they were all liquids)\n",
    "X_enm['matrix'] = X_enm['matrix'].replace('C','A', regex=True)\n",
    "X_enm['matrix'] = X_enm['matrix'].replace('P','F', regex=True)\n",
    "#list(X_enm.assigned.values)\n",
    "\n",
    "# Clean up data in refined column so it's only spray vs NOC\n",
    "X_enm['refined'] = X_enm['refined'].replace('child','NOC', regex=True)\n",
    "X_enm['refined'] = X_enm['refined'].replace('exterior','NOC', regex=True)\n",
    "X_enm['refined'] = X_enm['refined'].replace('interior','NOC', regex=True)\n",
    "X_enm['refined'] = X_enm['refined'].replace('soft','NOC', regex=True)\n",
    "X_enm['refined'] = X_enm['refined'].replace('plastic','NOC', regex=True)\n",
    "\n",
    "# Replace antistain_agent as antiredeposition_agent, as the former does not exist in the organics dataset\n",
    "X_enm.rename(columns = {'antistain_agent':'antiredeposition_agent'}, inplace = True)"
   ]
  },
  {
   "cell_type": "code",
   "execution_count": 35,
   "metadata": {
    "ExecuteTime": {
     "end_time": "2018-09-01T23:11:54.231566Z",
     "start_time": "2018-09-01T23:11:54.206117Z"
    }
   },
   "outputs": [
    {
     "data": {
      "text/html": [
       "<div>\n",
       "<style scoped>\n",
       "    .dataframe tbody tr th:only-of-type {\n",
       "        vertical-align: middle;\n",
       "    }\n",
       "\n",
       "    .dataframe tbody tr th {\n",
       "        vertical-align: top;\n",
       "    }\n",
       "\n",
       "    .dataframe thead th {\n",
       "        text-align: right;\n",
       "    }\n",
       "</style>\n",
       "<table border=\"1\" class=\"dataframe\">\n",
       "  <thead>\n",
       "    <tr style=\"text-align: right;\">\n",
       "      <th></th>\n",
       "      <th>propMW</th>\n",
       "      <th>propMP</th>\n",
       "      <th>propBP</th>\n",
       "      <th>propDensity</th>\n",
       "      <th>gen</th>\n",
       "      <th>group</th>\n",
       "      <th>refined</th>\n",
       "      <th>matrix</th>\n",
       "      <th>absorbent</th>\n",
       "      <th>antioxidant</th>\n",
       "      <th>...</th>\n",
       "      <th>colorant</th>\n",
       "      <th>deodorizer</th>\n",
       "      <th>filler</th>\n",
       "      <th>flavouring_nutrient</th>\n",
       "      <th>hardener</th>\n",
       "      <th>humectant</th>\n",
       "      <th>lubricating_agent</th>\n",
       "      <th>opacifier</th>\n",
       "      <th>uv_stabilizer</th>\n",
       "      <th>viscosity_modifier</th>\n",
       "    </tr>\n",
       "  </thead>\n",
       "  <tbody>\n",
       "    <tr>\n",
       "      <th>69</th>\n",
       "      <td>101.960</td>\n",
       "      <td>2072.00</td>\n",
       "      <td>2977.0</td>\n",
       "      <td>3.7950</td>\n",
       "      <td>PC</td>\n",
       "      <td>facial cleansing and moisturizing</td>\n",
       "      <td>NOC</td>\n",
       "      <td>F</td>\n",
       "      <td>1</td>\n",
       "      <td>0</td>\n",
       "      <td>...</td>\n",
       "      <td>0</td>\n",
       "      <td>0</td>\n",
       "      <td>0</td>\n",
       "      <td>0</td>\n",
       "      <td>0</td>\n",
       "      <td>0</td>\n",
       "      <td>0</td>\n",
       "      <td>0</td>\n",
       "      <td>0</td>\n",
       "      <td>1</td>\n",
       "    </tr>\n",
       "    <tr>\n",
       "      <th>70</th>\n",
       "      <td>60.085</td>\n",
       "      <td>1600.00</td>\n",
       "      <td>2230.0</td>\n",
       "      <td>2.5915</td>\n",
       "      <td>PC</td>\n",
       "      <td>facial cleansing and moisturizing</td>\n",
       "      <td>NOC</td>\n",
       "      <td>F</td>\n",
       "      <td>1</td>\n",
       "      <td>0</td>\n",
       "      <td>...</td>\n",
       "      <td>0</td>\n",
       "      <td>0</td>\n",
       "      <td>1</td>\n",
       "      <td>0</td>\n",
       "      <td>0</td>\n",
       "      <td>0</td>\n",
       "      <td>0</td>\n",
       "      <td>1</td>\n",
       "      <td>0</td>\n",
       "      <td>1</td>\n",
       "    </tr>\n",
       "    <tr>\n",
       "      <th>71</th>\n",
       "      <td>79.867</td>\n",
       "      <td>1843.00</td>\n",
       "      <td>2972.0</td>\n",
       "      <td>4.2300</td>\n",
       "      <td>PC</td>\n",
       "      <td>facial cleansing and moisturizing</td>\n",
       "      <td>NOC</td>\n",
       "      <td>F</td>\n",
       "      <td>0</td>\n",
       "      <td>0</td>\n",
       "      <td>...</td>\n",
       "      <td>0</td>\n",
       "      <td>0</td>\n",
       "      <td>0</td>\n",
       "      <td>0</td>\n",
       "      <td>0</td>\n",
       "      <td>0</td>\n",
       "      <td>0</td>\n",
       "      <td>0</td>\n",
       "      <td>0</td>\n",
       "      <td>1</td>\n",
       "    </tr>\n",
       "    <tr>\n",
       "      <th>72</th>\n",
       "      <td>107.868</td>\n",
       "      <td>961.78</td>\n",
       "      <td>2162.0</td>\n",
       "      <td>10.3450</td>\n",
       "      <td>AP</td>\n",
       "      <td>apparel</td>\n",
       "      <td>NOC</td>\n",
       "      <td>A</td>\n",
       "      <td>0</td>\n",
       "      <td>0</td>\n",
       "      <td>...</td>\n",
       "      <td>0</td>\n",
       "      <td>1</td>\n",
       "      <td>0</td>\n",
       "      <td>0</td>\n",
       "      <td>0</td>\n",
       "      <td>0</td>\n",
       "      <td>0</td>\n",
       "      <td>0</td>\n",
       "      <td>0</td>\n",
       "      <td>0</td>\n",
       "    </tr>\n",
       "    <tr>\n",
       "      <th>73</th>\n",
       "      <td>107.868</td>\n",
       "      <td>961.78</td>\n",
       "      <td>2162.0</td>\n",
       "      <td>10.3450</td>\n",
       "      <td>AP</td>\n",
       "      <td>apparel</td>\n",
       "      <td>NOC</td>\n",
       "      <td>A</td>\n",
       "      <td>0</td>\n",
       "      <td>0</td>\n",
       "      <td>...</td>\n",
       "      <td>0</td>\n",
       "      <td>0</td>\n",
       "      <td>0</td>\n",
       "      <td>0</td>\n",
       "      <td>0</td>\n",
       "      <td>0</td>\n",
       "      <td>0</td>\n",
       "      <td>0</td>\n",
       "      <td>0</td>\n",
       "      <td>0</td>\n",
       "    </tr>\n",
       "  </tbody>\n",
       "</table>\n",
       "<p>5 rows × 24 columns</p>\n",
       "</div>"
      ],
      "text/plain": [
       "     propMW   propMP  propBP  propDensity gen  \\\n",
       "69  101.960  2072.00  2977.0       3.7950  PC   \n",
       "70   60.085  1600.00  2230.0       2.5915  PC   \n",
       "71   79.867  1843.00  2972.0       4.2300  PC   \n",
       "72  107.868   961.78  2162.0      10.3450  AP   \n",
       "73  107.868   961.78  2162.0      10.3450  AP   \n",
       "\n",
       "                                 group refined matrix  absorbent  antioxidant  \\\n",
       "69  facial cleansing and moisturizing      NOC      F          1            0   \n",
       "70  facial cleansing and moisturizing      NOC      F          1            0   \n",
       "71  facial cleansing and moisturizing      NOC      F          0            0   \n",
       "72                            apparel      NOC      A          0            0   \n",
       "73                            apparel      NOC      A          0            0   \n",
       "\n",
       "           ...          colorant  deodorizer  filler  flavouring_nutrient  \\\n",
       "69         ...                 0           0       0                    0   \n",
       "70         ...                 0           0       1                    0   \n",
       "71         ...                 0           0       0                    0   \n",
       "72         ...                 0           1       0                    0   \n",
       "73         ...                 0           0       0                    0   \n",
       "\n",
       "    hardener  humectant  lubricating_agent  opacifier  uv_stabilizer  \\\n",
       "69         0          0                  0          0              0   \n",
       "70         0          0                  0          1              0   \n",
       "71         0          0                  0          0              0   \n",
       "72         0          0                  0          0              0   \n",
       "73         0          0                  0          0              0   \n",
       "\n",
       "    viscosity_modifier  \n",
       "69                   1  \n",
       "70                   1  \n",
       "71                   1  \n",
       "72                   0  \n",
       "73                   0  \n",
       "\n",
       "[5 rows x 24 columns]"
      ]
     },
     "execution_count": 35,
     "metadata": {},
     "output_type": "execute_result"
    }
   ],
   "source": [
    "X_enm.loc[69:73,]"
   ]
  },
  {
   "cell_type": "code",
   "execution_count": 36,
   "metadata": {
    "ExecuteTime": {
     "end_time": "2018-09-01T23:12:06.207334Z",
     "start_time": "2018-09-01T23:12:06.179497Z"
    }
   },
   "outputs": [
    {
     "data": {
      "text/html": [
       "<div>\n",
       "<style scoped>\n",
       "    .dataframe tbody tr th:only-of-type {\n",
       "        vertical-align: middle;\n",
       "    }\n",
       "\n",
       "    .dataframe tbody tr th {\n",
       "        vertical-align: top;\n",
       "    }\n",
       "\n",
       "    .dataframe thead th {\n",
       "        text-align: right;\n",
       "    }\n",
       "</style>\n",
       "<table border=\"1\" class=\"dataframe\">\n",
       "  <thead>\n",
       "    <tr style=\"text-align: right;\">\n",
       "      <th></th>\n",
       "      <th>propMW</th>\n",
       "      <th>propMP</th>\n",
       "      <th>propBP</th>\n",
       "      <th>propDensity</th>\n",
       "      <th>absorbent</th>\n",
       "      <th>antioxidant</th>\n",
       "      <th>antiredeposition_agent</th>\n",
       "      <th>biocide</th>\n",
       "      <th>brightener</th>\n",
       "      <th>chemical_reaction_regulator</th>\n",
       "      <th>...</th>\n",
       "      <th>group_nutritional supplements</th>\n",
       "      <th>group_paint/stain and related products</th>\n",
       "      <th>group_portable air processing</th>\n",
       "      <th>group_sunscreen</th>\n",
       "      <th>group_surface sealers</th>\n",
       "      <th>group_toys</th>\n",
       "      <th>refined_NOC</th>\n",
       "      <th>refined_spray</th>\n",
       "      <th>matrix_A</th>\n",
       "      <th>matrix_F</th>\n",
       "    </tr>\n",
       "  </thead>\n",
       "  <tbody>\n",
       "    <tr>\n",
       "      <th>0</th>\n",
       "      <td>79.867</td>\n",
       "      <td>1843.00</td>\n",
       "      <td>2972.0</td>\n",
       "      <td>4.230</td>\n",
       "      <td>0</td>\n",
       "      <td>0</td>\n",
       "      <td>1</td>\n",
       "      <td>0</td>\n",
       "      <td>0</td>\n",
       "      <td>0</td>\n",
       "      <td>...</td>\n",
       "      <td>0</td>\n",
       "      <td>1</td>\n",
       "      <td>0</td>\n",
       "      <td>0</td>\n",
       "      <td>0</td>\n",
       "      <td>0</td>\n",
       "      <td>1</td>\n",
       "      <td>0</td>\n",
       "      <td>0</td>\n",
       "      <td>1</td>\n",
       "    </tr>\n",
       "    <tr>\n",
       "      <th>1</th>\n",
       "      <td>63.546</td>\n",
       "      <td>1083.00</td>\n",
       "      <td>2567.0</td>\n",
       "      <td>8.960</td>\n",
       "      <td>0</td>\n",
       "      <td>1</td>\n",
       "      <td>0</td>\n",
       "      <td>1</td>\n",
       "      <td>0</td>\n",
       "      <td>0</td>\n",
       "      <td>...</td>\n",
       "      <td>1</td>\n",
       "      <td>0</td>\n",
       "      <td>0</td>\n",
       "      <td>0</td>\n",
       "      <td>0</td>\n",
       "      <td>0</td>\n",
       "      <td>1</td>\n",
       "      <td>0</td>\n",
       "      <td>0</td>\n",
       "      <td>1</td>\n",
       "    </tr>\n",
       "    <tr>\n",
       "      <th>2</th>\n",
       "      <td>65.370</td>\n",
       "      <td>419.53</td>\n",
       "      <td>907.0</td>\n",
       "      <td>7.140</td>\n",
       "      <td>0</td>\n",
       "      <td>1</td>\n",
       "      <td>0</td>\n",
       "      <td>0</td>\n",
       "      <td>0</td>\n",
       "      <td>0</td>\n",
       "      <td>...</td>\n",
       "      <td>1</td>\n",
       "      <td>0</td>\n",
       "      <td>0</td>\n",
       "      <td>0</td>\n",
       "      <td>0</td>\n",
       "      <td>0</td>\n",
       "      <td>1</td>\n",
       "      <td>0</td>\n",
       "      <td>0</td>\n",
       "      <td>1</td>\n",
       "    </tr>\n",
       "    <tr>\n",
       "      <th>3</th>\n",
       "      <td>107.868</td>\n",
       "      <td>961.78</td>\n",
       "      <td>2162.0</td>\n",
       "      <td>10.345</td>\n",
       "      <td>0</td>\n",
       "      <td>0</td>\n",
       "      <td>0</td>\n",
       "      <td>1</td>\n",
       "      <td>0</td>\n",
       "      <td>0</td>\n",
       "      <td>...</td>\n",
       "      <td>0</td>\n",
       "      <td>0</td>\n",
       "      <td>0</td>\n",
       "      <td>0</td>\n",
       "      <td>0</td>\n",
       "      <td>0</td>\n",
       "      <td>1</td>\n",
       "      <td>0</td>\n",
       "      <td>0</td>\n",
       "      <td>1</td>\n",
       "    </tr>\n",
       "  </tbody>\n",
       "</table>\n",
       "<p>4 rows × 56 columns</p>\n",
       "</div>"
      ],
      "text/plain": [
       "    propMW   propMP  propBP  propDensity  absorbent  antioxidant  \\\n",
       "0   79.867  1843.00  2972.0        4.230          0            0   \n",
       "1   63.546  1083.00  2567.0        8.960          0            1   \n",
       "2   65.370   419.53   907.0        7.140          0            1   \n",
       "3  107.868   961.78  2162.0       10.345          0            0   \n",
       "\n",
       "   antiredeposition_agent  biocide  brightener  chemical_reaction_regulator  \\\n",
       "0                       1        0           0                            0   \n",
       "1                       0        1           0                            0   \n",
       "2                       0        0           0                            0   \n",
       "3                       0        1           0                            0   \n",
       "\n",
       "     ...     group_nutritional supplements   \\\n",
       "0    ...                                  0   \n",
       "1    ...                                  1   \n",
       "2    ...                                  1   \n",
       "3    ...                                  0   \n",
       "\n",
       "   group_paint/stain and related products   group_portable air processing   \\\n",
       "0                                        1                               0   \n",
       "1                                        0                               0   \n",
       "2                                        0                               0   \n",
       "3                                        0                               0   \n",
       "\n",
       "   group_sunscreen   group_surface sealers   group_toys   refined_NOC  \\\n",
       "0                 0                       0            0            1   \n",
       "1                 0                       0            0            1   \n",
       "2                 0                       0            0            1   \n",
       "3                 0                       0            0            1   \n",
       "\n",
       "   refined_spray  matrix_A  matrix_F  \n",
       "0              0         0         1  \n",
       "1              0         0         1  \n",
       "2              0         0         1  \n",
       "3              0         0         1  \n",
       "\n",
       "[4 rows x 56 columns]"
      ]
     },
     "execution_count": 36,
     "metadata": {},
     "output_type": "execute_result"
    }
   ],
   "source": [
    "# Transform factor data (product categories) into binary columns\n",
    "X_enm=pd.get_dummies(X_enm, prefix=[\"gen\",\"group\",\"refined\",\"matrix\"], columns=[\"gen\",\"group\",\"refined\",\"matrix\"])\n",
    "X_enm.loc[0:3,]"
   ]
  },
  {
   "cell_type": "code",
   "execution_count": 37,
   "metadata": {
    "ExecuteTime": {
     "end_time": "2018-09-01T23:12:10.568242Z",
     "start_time": "2018-09-01T23:12:10.558869Z"
    }
   },
   "outputs": [
    {
     "data": {
      "text/plain": [
       "propMW                                        8919.998\n",
       "propMP                                      109340.950\n",
       "propBP                                      203338.900\n",
       "propDensity                                    693.180\n",
       "absorbent                                        5.000\n",
       "antioxidant                                      2.000\n",
       "antiredeposition_agent                           2.000\n",
       "biocide                                         40.000\n",
       "brightener                                       6.000\n",
       "chemical_reaction_regulator                      2.000\n",
       "colorant                                         4.000\n",
       "deodorizer                                       2.000\n",
       "filler                                          14.000\n",
       "flavouring_nutrient                             22.000\n",
       "hardener                                         3.000\n",
       "humectant                                        7.000\n",
       "lubricating_agent                                5.000\n",
       "opacifier                                        5.000\n",
       "uv_stabilizer                                   16.000\n",
       "viscosity_modifier                              13.000\n",
       "gen_AC                                           2.000\n",
       "gen_AP                                           5.000\n",
       "gen_CP                                           1.000\n",
       "gen_CS                                           1.000\n",
       "gen_EL                                           1.000\n",
       "gen_FC                                           2.000\n",
       "gen_HM                                           6.000\n",
       "gen_PC                                          30.000\n",
       "gen_PE                                           1.000\n",
       "gen_PH                                          27.000\n",
       "gen_VE                                           6.000\n",
       "group_apparel                                    5.000\n",
       "group_child specific                             3.000\n",
       "group_cold relief                                5.000\n",
       "group_dental care                                4.000\n",
       "group_deodorant                                  1.000\n",
       "group_engine maintenance                         6.000\n",
       "group_fabric treatment and dye                   2.000\n",
       "group_facial cleansing and moisturizing          7.000\n",
       "group_first aid                                  1.000\n",
       "group_food storage                               2.000\n",
       "group_fungicide                                  1.000\n",
       "group_general household cleaning                 1.000\n",
       "group_general moisturizing                       1.000\n",
       "group_large appliances                           2.000\n",
       "group_make-up and related                        4.000\n",
       "group_nutritional supplements                   22.000\n",
       "group_paint/stain and related products           3.000\n",
       "group_portable air processing                    1.000\n",
       "group_sunscreen                                  9.000\n",
       "group_surface sealers                            1.000\n",
       "group_toys                                       1.000\n",
       "refined_NOC                                     69.000\n",
       "refined_spray                                   13.000\n",
       "matrix_A                                        15.000\n",
       "matrix_F                                        67.000\n",
       "dtype: float64"
      ]
     },
     "execution_count": 37,
     "metadata": {},
     "output_type": "execute_result"
    }
   ],
   "source": [
    "# Sum columns\n",
    "X_enm.sum(axis=0)"
   ]
  },
  {
   "cell_type": "code",
   "execution_count": 38,
   "metadata": {
    "ExecuteTime": {
     "end_time": "2018-09-01T23:12:35.081271Z",
     "start_time": "2018-09-01T23:12:35.073180Z"
    },
    "collapsed": true
   },
   "outputs": [],
   "source": [
    "# Read in ENM maximum_weight_fraction data\n",
    "y_enm = pd.read_csv(\"./data/ENM_conc_export.csv\", sep=',', header='infer', usecols=[3]) #,36, nrows=60\n",
    "#y_enm = y_enm[y_enm['LOD'].notnull()] # delete missing data\n",
    "#y_enm.drop(y_enm.columns[[1]], axis=1, inplace=True)"
   ]
  },
  {
   "cell_type": "code",
   "execution_count": 39,
   "metadata": {
    "ExecuteTime": {
     "end_time": "2018-09-01T23:12:37.525664Z",
     "start_time": "2018-09-01T23:12:37.519591Z"
    }
   },
   "outputs": [
    {
     "name": "stdout",
     "output_type": "stream",
     "text": [
      "(82,)\n"
     ]
    }
   ],
   "source": [
    "# Array for ENM function and product categories\n",
    "yarr_enm=np.array(y_enm.maximum_weight_fraction)\n",
    "print(yarr_enm.shape)"
   ]
  },
  {
   "cell_type": "code",
   "execution_count": 40,
   "metadata": {
    "ExecuteTime": {
     "end_time": "2018-09-01T23:12:45.541266Z",
     "start_time": "2018-09-01T23:12:45.534708Z"
    }
   },
   "outputs": [
    {
     "data": {
      "text/plain": [
       "array([3.10000000e-01, 1.00000000e-03, 3.00000000e-03, 3.00000000e-03,\n",
       "       5.00000000e-04, 5.00000000e-03, 5.00000000e-02, 2.20000000e-03,\n",
       "       2.00000000e-03, 1.00000000e-03, 2.00000000e-03, 8.00000000e-04,\n",
       "       2.00000000e-01, 9.90000000e-04, 6.00000000e-04, 3.00000000e-03,\n",
       "       1.00000000e-03, 1.40000000e-03, 1.00000000e-03, 2.50000000e-02,\n",
       "       9.50000000e-01, 2.20000000e-03, 1.00000000e-02, 3.00000000e-03,\n",
       "       2.00000000e-03, 2.00000000e-03, 3.00000000e-03, 3.00000000e-03,\n",
       "       1.00000000e-03, 1.00000000e-03, 5.00000000e-04, 5.00000000e-04,\n",
       "       2.00000000e-03, 1.00000000e-03, 1.00000000e-03, 1.00000000e-03,\n",
       "       6.00000000e-02, 6.00000000e-02, 1.00000000e-03, 1.00000000e-03,\n",
       "       9.90000000e-01, 7.00000000e-02, 5.00000000e-02, 5.00000000e-02,\n",
       "       5.00000000e-02, 5.00000000e-02, 6.00000000e-02, 6.00000000e-02,\n",
       "       2.50000000e-01, 2.00000000e-01, 6.19469000e-03, 2.20000000e-03,\n",
       "       6.80000000e-02, 2.00000000e-01, 3.00000000e-02, 1.80000000e-01,\n",
       "       6.00000000e-02, 1.00000000e-05, 2.00000000e-03, 1.00000000e-03,\n",
       "       6.67408000e-04, 1.50616032e-01, 8.50000000e-04, 8.00000000e-04,\n",
       "       8.40000000e-04, 2.13939800e-03, 2.66963040e-02, 1.92545840e-02,\n",
       "       3.33703800e-03, 2.64536690e-02, 4.92061600e-02, 3.33703800e-03,\n",
       "       1.00000000e-02, 8.00000000e-04, 9.50000000e-01, 8.00000000e-04,\n",
       "       5.00555700e-03, 2.00000000e-04, 6.22380000e-04, 8.12971300e-03,\n",
       "       6.67408000e-04, 8.00000000e-04])"
      ]
     },
     "execution_count": 40,
     "metadata": {},
     "output_type": "execute_result"
    }
   ],
   "source": [
    "yarr_enm"
   ]
  },
  {
   "cell_type": "markdown",
   "metadata": {},
   "source": [
    "## ENM dataframes"
   ]
  },
  {
   "cell_type": "markdown",
   "metadata": {},
   "source": [
    "Split ENM-WF into separate dataframes."
   ]
  },
  {
   "cell_type": "code",
   "execution_count": 41,
   "metadata": {
    "ExecuteTime": {
     "end_time": "2018-09-01T23:12:49.764940Z",
     "start_time": "2018-09-01T23:12:49.758996Z"
    },
    "collapsed": true
   },
   "outputs": [],
   "source": [
    "# Dataframe for ENM function and product categories\n",
    "Xfp_enm=pd.DataFrame(X_enm)\n",
    "# Drop unwanted columns\n",
    "Xfp_enm.drop(Xfp_enm.columns[0:4], axis=1, inplace=True) # drop chem props\n",
    "enm_all_names=list(Xfp_enm.columns.values)\n",
    "#enm_all_names"
   ]
  },
  {
   "cell_type": "code",
   "execution_count": 42,
   "metadata": {
    "ExecuteTime": {
     "end_time": "2018-09-01T23:12:50.217845Z",
     "start_time": "2018-09-01T23:12:50.211921Z"
    }
   },
   "outputs": [
    {
     "name": "stdout",
     "output_type": "stream",
     "text": [
      "(82, 52)\n"
     ]
    }
   ],
   "source": [
    "# Array for ENM function and product categories\n",
    "Xfp_enm=np.array(Xfp_enm)\n",
    "print(Xfp_enm.shape)"
   ]
  },
  {
   "cell_type": "code",
   "execution_count": 43,
   "metadata": {
    "ExecuteTime": {
     "end_time": "2018-09-01T23:13:13.411052Z",
     "start_time": "2018-09-01T23:13:13.395565Z"
    },
    "scrolled": true
   },
   "outputs": [
    {
     "data": {
      "text/plain": [
       "['absorbent',\n",
       " 'antioxidant',\n",
       " 'antiredeposition_agent',\n",
       " 'biocide',\n",
       " 'brightener',\n",
       " 'chemical_reaction_regulator',\n",
       " 'colorant',\n",
       " 'deodorizer',\n",
       " 'filler',\n",
       " 'flavouring_nutrient',\n",
       " 'hardener',\n",
       " 'humectant',\n",
       " 'lubricating_agent',\n",
       " 'opacifier',\n",
       " 'uv_stabilizer',\n",
       " 'viscosity_modifier']"
      ]
     },
     "execution_count": 43,
     "metadata": {},
     "output_type": "execute_result"
    }
   ],
   "source": [
    "# Dataframe for only ENM functional use categories\n",
    "Xf_enm=pd.DataFrame(X_enm)\n",
    "# Drop unwanted columns\n",
    "Xf_enm.drop(Xf_enm.columns[0:4], axis=1, inplace=True) # drop chem props\n",
    "Xf_enm.drop(Xf_enm.columns[16:], axis=1, inplace=True) # drop product categories\n",
    "enm_func_names=list(Xf_enm.columns.values)\n",
    "enm_func_names"
   ]
  },
  {
   "cell_type": "code",
   "execution_count": 44,
   "metadata": {
    "ExecuteTime": {
     "end_time": "2018-09-01T23:13:18.167571Z",
     "start_time": "2018-09-01T23:13:18.162892Z"
    }
   },
   "outputs": [
    {
     "name": "stdout",
     "output_type": "stream",
     "text": [
      "(82, 16)\n"
     ]
    }
   ],
   "source": [
    "# Array for only ENM functional use categories\n",
    "Xf_enm=np.array(Xf_enm)\n",
    "print(Xf_enm.shape)"
   ]
  },
  {
   "cell_type": "code",
   "execution_count": 45,
   "metadata": {
    "ExecuteTime": {
     "end_time": "2018-09-03T16:05:11.993064Z",
     "start_time": "2018-09-03T16:05:11.978586Z"
    }
   },
   "outputs": [
    {
     "data": {
      "text/plain": [
       "['gen_AC',\n",
       " 'gen_AP',\n",
       " 'gen_CP',\n",
       " 'gen_CS',\n",
       " 'gen_EL',\n",
       " 'gen_FC',\n",
       " 'gen_HM',\n",
       " 'gen_PC',\n",
       " 'gen_PE',\n",
       " 'gen_PH',\n",
       " 'gen_VE',\n",
       " 'group_apparel ',\n",
       " 'group_child specific ',\n",
       " 'group_cold relief',\n",
       " 'group_dental care ',\n",
       " 'group_deodorant ',\n",
       " 'group_engine maintenance ',\n",
       " 'group_fabric treatment and dye ',\n",
       " 'group_facial cleansing and moisturizing ',\n",
       " 'group_first aid ',\n",
       " 'group_food storage ',\n",
       " 'group_fungicide ',\n",
       " 'group_general household cleaning ',\n",
       " 'group_general moisturizing ',\n",
       " 'group_large appliances ',\n",
       " 'group_make-up and related ',\n",
       " 'group_nutritional supplements ',\n",
       " 'group_paint/stain and related products ',\n",
       " 'group_portable air processing ',\n",
       " 'group_sunscreen ',\n",
       " 'group_surface sealers ',\n",
       " 'group_toys ']"
      ]
     },
     "execution_count": 45,
     "metadata": {},
     "output_type": "execute_result"
    }
   ],
   "source": [
    "# Dataframe for only ENM product categories\n",
    "Xp_enm=pd.DataFrame(X_enm)\n",
    "# Drop unwanted columns\n",
    "Xp_enm.drop(Xp_enm.columns[0:20], axis=1, inplace=True) # drop chem props and functions\n",
    "Xp_enm.drop(Xp_enm.columns[32:], axis=1, inplace=True) # drop matrix categories\n",
    "enm_PUC_names=list(Xp_enm.columns.values)\n",
    "enm_PUC_names"
   ]
  },
  {
   "cell_type": "code",
   "execution_count": 46,
   "metadata": {
    "ExecuteTime": {
     "end_time": "2018-09-03T16:05:20.545469Z",
     "start_time": "2018-09-03T16:05:20.539359Z"
    }
   },
   "outputs": [
    {
     "name": "stdout",
     "output_type": "stream",
     "text": [
      "(82, 32)\n"
     ]
    }
   ],
   "source": [
    "# Array for only ENM product categories\n",
    "Xp_enm=np.array(Xp_enm)\n",
    "print(Xp_enm.shape)"
   ]
  },
  {
   "cell_type": "code",
   "execution_count": 47,
   "metadata": {
    "ExecuteTime": {
     "end_time": "2018-09-03T16:03:01.612880Z",
     "start_time": "2018-09-03T16:03:01.602403Z"
    }
   },
   "outputs": [
    {
     "data": {
      "text/plain": [
       "['refined_NOC', 'refined_spray', 'matrix_A', 'matrix_F']"
      ]
     },
     "execution_count": 47,
     "metadata": {},
     "output_type": "execute_result"
    }
   ],
   "source": [
    "# Dataframe for only ENM product categories\n",
    "Xm_enm=pd.DataFrame(X_enm)\n",
    "# Drop unwanted columns\n",
    "Xm_enm.drop(Xm_enm.columns[0:52], axis=1, inplace=True) # drop chem props\n",
    "enm_matrix_names=list(Xm_enm.columns.values)\n",
    "enm_matrix_names"
   ]
  },
  {
   "cell_type": "code",
   "execution_count": 48,
   "metadata": {
    "ExecuteTime": {
     "end_time": "2018-09-01T23:14:22.737063Z",
     "start_time": "2018-09-01T23:14:22.732609Z"
    },
    "collapsed": true
   },
   "outputs": [],
   "source": [
    "# Array for only chemical properties\n",
    "Xc_enm=pd.DataFrame(X_enm)\n",
    "# Drop unwanted columns\n",
    "Xc_enm.drop(Xc_enm.columns[4:], axis=1, inplace=True)"
   ]
  },
  {
   "cell_type": "markdown",
   "metadata": {
    "ExecuteTime": {
     "end_time": "2018-07-31T20:29:35.081047Z",
     "start_time": "2018-07-31T20:29:35.076307Z"
    }
   },
   "source": [
    "### WF bins"
   ]
  },
  {
   "cell_type": "code",
   "execution_count": 49,
   "metadata": {
    "ExecuteTime": {
     "end_time": "2018-09-01T23:14:26.082983Z",
     "start_time": "2018-09-01T23:14:25.940632Z"
    }
   },
   "outputs": [
    {
     "data": {
      "text/plain": [
       "(array([ 1.,  0.,  1., 15., 29.,  6.,  7., 13.,  7.,  3.]),\n",
       " array([-5.00000000e+00, -4.50043648e+00, -4.00087296e+00, -3.50130944e+00,\n",
       "        -3.00174592e+00, -2.50218240e+00, -2.00261888e+00, -1.50305536e+00,\n",
       "        -1.00349184e+00, -5.03928325e-01, -4.36480540e-03]),\n",
       " <a list of 10 Patch objects>)"
      ]
     },
     "execution_count": 49,
     "metadata": {},
     "output_type": "execute_result"
    },
    {
     "data": {
      "image/png": "[encoded data removed]",
      "text/plain": [
       "<Figure size 432x288 with 1 Axes>"
      ]
     },
     "metadata": {},
     "output_type": "display_data"
    }
   ],
   "source": [
    "# Log-transformed histogram of weight fraction\n",
    "plt.hist(np.log10(yarr_enm)) #, bins=8"
   ]
  },
  {
   "cell_type": "code",
   "execution_count": 50,
   "metadata": {
    "ExecuteTime": {
     "end_time": "2018-09-03T16:25:53.126044Z",
     "start_time": "2018-09-03T16:25:53.107277Z"
    },
    "collapsed": true
   },
   "outputs": [],
   "source": [
    "#bin_enm = pd.DataFrame(np.log10(yarr_enm)) #['maximum_weight_fraction']\n",
    "#bin_enm.columns = ['maximum_weight_fraction']\n",
    "#bin_enm"
   ]
  },
  {
   "cell_type": "code",
   "execution_count": 1,
   "metadata": {
    "ExecuteTime": {
     "end_time": "2018-09-05T02:56:35.964291Z",
     "start_time": "2018-09-05T02:56:35.788866Z"
    }
   },
   "outputs": [
    {
     "ename": "NameError",
     "evalue": "name 'y_enm' is not defined",
     "output_type": "error",
     "traceback": [
      "\u001b[0;31m---------------------------------------------------------------------------\u001b[0m",
      "\u001b[0;31mNameError\u001b[0m                                 Traceback (most recent call last)",
      "\u001b[0;32m<ipython-input-1-d201586b3c85>\u001b[0m in \u001b[0;36m<module>\u001b[0;34m()\u001b[0m\n\u001b[1;32m      9\u001b[0m     \u001b[0;32mreturn\u001b[0m \u001b[0mval\u001b[0m\u001b[0;34m\u001b[0m\u001b[0m\n\u001b[1;32m     10\u001b[0m \u001b[0;34m\u001b[0m\u001b[0m\n\u001b[0;32m---> 11\u001b[0;31m \u001b[0mbin_enm\u001b[0m \u001b[0;34m=\u001b[0m \u001b[0my_enm\u001b[0m\u001b[0;34m\u001b[0m\u001b[0m\n\u001b[0m\u001b[1;32m     12\u001b[0m \u001b[0mbin_enm\u001b[0m\u001b[0;34m[\u001b[0m\u001b[0;34m'bin_enm'\u001b[0m\u001b[0;34m]\u001b[0m \u001b[0;34m=\u001b[0m \u001b[0mbin_enm\u001b[0m\u001b[0;34m.\u001b[0m\u001b[0mapply\u001b[0m\u001b[0;34m(\u001b[0m\u001b[0mbins\u001b[0m\u001b[0;34m,\u001b[0m \u001b[0maxis\u001b[0m\u001b[0;34m=\u001b[0m\u001b[0;36m1\u001b[0m\u001b[0;34m)\u001b[0m\u001b[0;34m\u001b[0m\u001b[0m\n",
      "\u001b[0;31mNameError\u001b[0m: name 'y_enm' is not defined"
     ]
    }
   ],
   "source": [
    "# Define function to assign weight fractions to bins per Isaacs et al. 2016\n",
    "def bins(row):\n",
    "    if row['maximum_weight_fraction'] <= 0.001:\n",
    "        val = 'bottom'\n",
    "    elif row['maximum_weight_fraction'] > 0.05:\n",
    "        val = 'top'\n",
    "    else:\n",
    "        val = 'middle'\n",
    "    return val\n",
    "\n",
    "bin_enm = y_enm\n",
    "bin_enm['bin_enm'] = bin_enm.apply(bins, axis=1)"
   ]
  },
  {
   "cell_type": "code",
   "execution_count": null,
   "metadata": {
    "ExecuteTime": {
     "end_time": "2018-09-05T02:56:35.965127Z",
     "start_time": "2018-09-05T02:56:35.941Z"
    },
    "collapsed": true
   },
   "outputs": [],
   "source": [
    "# Apply function to assign weight fractions to bins that were log10-transformed\n",
    "#bin_enm = pd.DataFrame(np.log10(yarr_enm))\n",
    "#bin_enm['bin_enm'] = bin_enm.apply(bins, axis=1)"
   ]
  },
  {
   "cell_type": "code",
   "execution_count": 2,
   "metadata": {
    "ExecuteTime": {
     "end_time": "2018-09-05T02:56:36.128765Z",
     "start_time": "2018-09-05T02:56:36.116716Z"
    }
   },
   "outputs": [
    {
     "ename": "NameError",
     "evalue": "name 'bin_enm' is not defined",
     "output_type": "error",
     "traceback": [
      "\u001b[0;31m---------------------------------------------------------------------------\u001b[0m",
      "\u001b[0;31mNameError\u001b[0m                                 Traceback (most recent call last)",
      "\u001b[0;32m<ipython-input-2-ac36d5f24149>\u001b[0m in \u001b[0;36m<module>\u001b[0;34m()\u001b[0m\n\u001b[0;32m----> 1\u001b[0;31m \u001b[0mprint\u001b[0m\u001b[0;34m(\u001b[0m\u001b[0mbin_enm\u001b[0m\u001b[0;34m.\u001b[0m\u001b[0mshape\u001b[0m\u001b[0;34m)\u001b[0m\u001b[0;34m\u001b[0m\u001b[0m\n\u001b[0m",
      "\u001b[0;31mNameError\u001b[0m: name 'bin_enm' is not defined"
     ]
    }
   ],
   "source": [
    "print(bin_enm.shape)"
   ]
  },
  {
   "cell_type": "code",
   "execution_count": 3,
   "metadata": {
    "ExecuteTime": {
     "end_time": "2018-09-05T02:56:36.271596Z",
     "start_time": "2018-09-05T02:56:36.259236Z"
    }
   },
   "outputs": [
    {
     "ename": "NameError",
     "evalue": "name 'plt' is not defined",
     "output_type": "error",
     "traceback": [
      "\u001b[0;31m---------------------------------------------------------------------------\u001b[0m",
      "\u001b[0;31mNameError\u001b[0m                                 Traceback (most recent call last)",
      "\u001b[0;32m<ipython-input-3-3074181b8920>\u001b[0m in \u001b[0;36m<module>\u001b[0;34m()\u001b[0m\n\u001b[0;32m----> 1\u001b[0;31m \u001b[0mplt\u001b[0m\u001b[0;34m.\u001b[0m\u001b[0mhist\u001b[0m\u001b[0;34m(\u001b[0m\u001b[0mbin_enm\u001b[0m\u001b[0;34m[\u001b[0m\u001b[0;34m'bin_enm'\u001b[0m\u001b[0;34m]\u001b[0m\u001b[0;34m)\u001b[0m\u001b[0;34m\u001b[0m\u001b[0m\n\u001b[0m\u001b[1;32m      2\u001b[0m \u001b[0mplt\u001b[0m\u001b[0;34m.\u001b[0m\u001b[0mtitle\u001b[0m\u001b[0;34m(\u001b[0m\u001b[0;34m'Frequency of ENM Weight Fraction Bins'\u001b[0m\u001b[0;34m)\u001b[0m\u001b[0;34m\u001b[0m\u001b[0m\n",
      "\u001b[0;31mNameError\u001b[0m: name 'plt' is not defined"
     ]
    }
   ],
   "source": [
    "plt.hist(bin_enm['bin_enm'])\n",
    "plt.title('Frequency of ENM Weight Fraction Bins')"
   ]
  },
  {
   "cell_type": "code",
   "execution_count": 55,
   "metadata": {
    "ExecuteTime": {
     "end_time": "2018-09-03T17:43:41.016071Z",
     "start_time": "2018-09-03T17:43:41.000186Z"
    }
   },
   "outputs": [
    {
     "name": "stdout",
     "output_type": "stream",
     "text": [
      "[0, 1, 2]\n",
      "['bottom', 'middle', 'top']\n",
      "bin_num_enm shape: (82,)\n"
     ]
    },
    {
     "name": "stderr",
     "output_type": "stream",
     "text": [
      "/Users/dec18/anaconda/lib/python3.6/site-packages/sklearn/preprocessing/label.py:151: DeprecationWarning: The truth value of an empty array is ambiguous. Returning False, but in future this will result in an error. Use `array.size > 0` to check that an array is not empty.\n",
      "  if diff:\n"
     ]
    }
   ],
   "source": [
    "# Use label encoder to make bins compatible with Scikit-Learn\n",
    "from sklearn import preprocessing\n",
    "le2 = preprocessing.LabelEncoder()\n",
    "# Fit the encoder to the categorical column\n",
    "bin_num_enm = le2.fit_transform(bin_enm['bin_enm'])\n",
    "# Transform categories into integers\n",
    "le2.transform(bin_enm['bin_enm'])\n",
    "# Convert a list of integers into their category names\n",
    "print('[0, 1, 2]')\n",
    "print(list(le2.inverse_transform([0,1,2])))\n",
    "print('bin_num_enm shape: {}'.format(bin_num_enm.shape))"
   ]
  },
  {
   "cell_type": "code",
   "execution_count": 56,
   "metadata": {
    "ExecuteTime": {
     "end_time": "2018-09-03T17:43:44.726284Z",
     "start_time": "2018-09-03T17:43:44.718982Z"
    }
   },
   "outputs": [
    {
     "data": {
      "text/plain": [
       "array([2, 0, 1, 1, 0, 1, 1, 1, 1, 0, 1, 0, 2, 0, 0, 1, 0, 1, 0, 1, 2, 1,\n",
       "       1, 1, 1, 1, 1, 1, 0, 0, 0, 0, 1, 0, 0, 0, 2, 2, 0, 0, 2, 2, 1, 1,\n",
       "       1, 1, 2, 2, 2, 2, 1, 1, 2, 2, 1, 2, 2, 0, 1, 0, 0, 2, 0, 0, 0, 1,\n",
       "       1, 1, 1, 1, 1, 1, 1, 0, 2, 0, 1, 0, 0, 1, 0, 0])"
      ]
     },
     "execution_count": 56,
     "metadata": {},
     "output_type": "execute_result"
    }
   ],
   "source": [
    "bin_num_enm"
   ]
  },
  {
   "cell_type": "markdown",
   "metadata": {},
   "source": [
    "# Performance check with all data prior to pre-processing"
   ]
  },
  {
   "cell_type": "markdown",
   "metadata": {},
   "source": [
    "I already know SVR-RBF is the best performing, on average, based on later results. I'll test this with all of the data to get a baseline measure of how well I can make predictions. Because weight fraction is not normally distributed, I tried the log-transformed target, too--it performed much better."
   ]
  },
  {
   "cell_type": "markdown",
   "metadata": {},
   "source": [
    "## Continuous WF data"
   ]
  },
  {
   "cell_type": "code",
   "execution_count": 57,
   "metadata": {
    "ExecuteTime": {
     "end_time": "2018-07-17T23:13:14.161909Z",
     "start_time": "2018-07-17T23:13:12.953650Z"
    }
   },
   "outputs": [
    {
     "ename": "KeyboardInterrupt",
     "evalue": "",
     "output_type": "error",
     "traceback": [
      "\u001b[0;31m---------------------------------------------------------------------------\u001b[0m",
      "\u001b[0;31mKeyboardInterrupt\u001b[0m                         Traceback (most recent call last)",
      "\u001b[0;32m<ipython-input-57-77392df3f2ab>\u001b[0m in \u001b[0;36m<module>\u001b[0;34m()\u001b[0m\n\u001b[1;32m     28\u001b[0m            }\n\u001b[1;32m     29\u001b[0m \u001b[0mgrid_search\u001b[0m\u001b[0;34m=\u001b[0m\u001b[0mGridSearchCV\u001b[0m\u001b[0;34m(\u001b[0m\u001b[0mprepipe\u001b[0m\u001b[0;34m,\u001b[0m\u001b[0mparam_grid\u001b[0m\u001b[0;34m,\u001b[0m\u001b[0mcv\u001b[0m\u001b[0;34m=\u001b[0m\u001b[0mcv\u001b[0m\u001b[0;34m,\u001b[0m\u001b[0mscoring\u001b[0m\u001b[0;34m=\u001b[0m\u001b[0;34m'explained_variance'\u001b[0m\u001b[0;34m,\u001b[0m \u001b[0mn_jobs\u001b[0m\u001b[0;34m=\u001b[0m\u001b[0mn_jobs\u001b[0m\u001b[0;34m,\u001b[0m \u001b[0mpre_dispatch\u001b[0m\u001b[0;34m=\u001b[0m\u001b[0;36m2\u001b[0m\u001b[0;34m*\u001b[0m\u001b[0mn_jobs\u001b[0m\u001b[0;34m)\u001b[0m\u001b[0;34m\u001b[0m\u001b[0m\n\u001b[0;32m---> 30\u001b[0;31m \u001b[0mgrid_search\u001b[0m\u001b[0;34m.\u001b[0m\u001b[0mfit\u001b[0m\u001b[0;34m(\u001b[0m\u001b[0mwfdata\u001b[0m\u001b[0;34m,\u001b[0m\u001b[0my_log\u001b[0m\u001b[0;34m)\u001b[0m\u001b[0;34m\u001b[0m\u001b[0m\n\u001b[0m\u001b[1;32m     31\u001b[0m \u001b[0mprint\u001b[0m\u001b[0;34m(\u001b[0m\u001b[0mgrid_search\u001b[0m\u001b[0;34m.\u001b[0m\u001b[0mbest_params_\u001b[0m\u001b[0;34m)\u001b[0m\u001b[0;34m\u001b[0m\u001b[0m\n\u001b[1;32m     32\u001b[0m \u001b[0mprint\u001b[0m\u001b[0;34m(\u001b[0m\u001b[0mgrid_search\u001b[0m\u001b[0;34m.\u001b[0m\u001b[0mbest_score_\u001b[0m\u001b[0;34m)\u001b[0m\u001b[0;34m\u001b[0m\u001b[0m\n",
      "\u001b[0;32m/Users/dec18/anaconda/lib/python3.6/site-packages/sklearn/model_selection/_search.py\u001b[0m in \u001b[0;36mfit\u001b[0;34m(self, X, y, groups, **fit_params)\u001b[0m\n\u001b[1;32m    637\u001b[0m                                   error_score=self.error_score)\n\u001b[1;32m    638\u001b[0m           for parameters, (train, test) in product(candidate_params,\n\u001b[0;32m--> 639\u001b[0;31m                                                    cv.split(X, y, groups)))\n\u001b[0m\u001b[1;32m    640\u001b[0m \u001b[0;34m\u001b[0m\u001b[0m\n\u001b[1;32m    641\u001b[0m         \u001b[0;31m# if one choose to see train score, \"out\" will contain train score info\u001b[0m\u001b[0;34m\u001b[0m\u001b[0;34m\u001b[0m\u001b[0m\n",
      "\u001b[0;32m/Users/dec18/anaconda/lib/python3.6/site-packages/sklearn/externals/joblib/parallel.py\u001b[0m in \u001b[0;36m__call__\u001b[0;34m(self, iterable)\u001b[0m\n\u001b[1;32m    787\u001b[0m                 \u001b[0;31m# consumption.\u001b[0m\u001b[0;34m\u001b[0m\u001b[0;34m\u001b[0m\u001b[0m\n\u001b[1;32m    788\u001b[0m                 \u001b[0mself\u001b[0m\u001b[0;34m.\u001b[0m\u001b[0m_iterating\u001b[0m \u001b[0;34m=\u001b[0m \u001b[0;32mFalse\u001b[0m\u001b[0;34m\u001b[0m\u001b[0m\n\u001b[0;32m--> 789\u001b[0;31m             \u001b[0mself\u001b[0m\u001b[0;34m.\u001b[0m\u001b[0mretrieve\u001b[0m\u001b[0;34m(\u001b[0m\u001b[0;34m)\u001b[0m\u001b[0;34m\u001b[0m\u001b[0m\n\u001b[0m\u001b[1;32m    790\u001b[0m             \u001b[0;31m# Make sure that we get a last message telling us we are done\u001b[0m\u001b[0;34m\u001b[0m\u001b[0;34m\u001b[0m\u001b[0m\n\u001b[1;32m    791\u001b[0m             \u001b[0melapsed_time\u001b[0m \u001b[0;34m=\u001b[0m \u001b[0mtime\u001b[0m\u001b[0;34m.\u001b[0m\u001b[0mtime\u001b[0m\u001b[0;34m(\u001b[0m\u001b[0;34m)\u001b[0m \u001b[0;34m-\u001b[0m \u001b[0mself\u001b[0m\u001b[0;34m.\u001b[0m\u001b[0m_start_time\u001b[0m\u001b[0;34m\u001b[0m\u001b[0m\n",
      "\u001b[0;32m/Users/dec18/anaconda/lib/python3.6/site-packages/sklearn/externals/joblib/parallel.py\u001b[0m in \u001b[0;36mretrieve\u001b[0;34m(self)\u001b[0m\n\u001b[1;32m    697\u001b[0m             \u001b[0;32mtry\u001b[0m\u001b[0;34m:\u001b[0m\u001b[0;34m\u001b[0m\u001b[0m\n\u001b[1;32m    698\u001b[0m                 \u001b[0;32mif\u001b[0m \u001b[0mgetattr\u001b[0m\u001b[0;34m(\u001b[0m\u001b[0mself\u001b[0m\u001b[0;34m.\u001b[0m\u001b[0m_backend\u001b[0m\u001b[0;34m,\u001b[0m \u001b[0;34m'supports_timeout'\u001b[0m\u001b[0;34m,\u001b[0m \u001b[0;32mFalse\u001b[0m\u001b[0;34m)\u001b[0m\u001b[0;34m:\u001b[0m\u001b[0;34m\u001b[0m\u001b[0m\n\u001b[0;32m--> 699\u001b[0;31m                     \u001b[0mself\u001b[0m\u001b[0;34m.\u001b[0m\u001b[0m_output\u001b[0m\u001b[0;34m.\u001b[0m\u001b[0mextend\u001b[0m\u001b[0;34m(\u001b[0m\u001b[0mjob\u001b[0m\u001b[0;34m.\u001b[0m\u001b[0mget\u001b[0m\u001b[0;34m(\u001b[0m\u001b[0mtimeout\u001b[0m\u001b[0;34m=\u001b[0m\u001b[0mself\u001b[0m\u001b[0;34m.\u001b[0m\u001b[0mtimeout\u001b[0m\u001b[0;34m)\u001b[0m\u001b[0;34m)\u001b[0m\u001b[0;34m\u001b[0m\u001b[0m\n\u001b[0m\u001b[1;32m    700\u001b[0m                 \u001b[0;32melse\u001b[0m\u001b[0;34m:\u001b[0m\u001b[0;34m\u001b[0m\u001b[0m\n\u001b[1;32m    701\u001b[0m                     \u001b[0mself\u001b[0m\u001b[0;34m.\u001b[0m\u001b[0m_output\u001b[0m\u001b[0;34m.\u001b[0m\u001b[0mextend\u001b[0m\u001b[0;34m(\u001b[0m\u001b[0mjob\u001b[0m\u001b[0;34m.\u001b[0m\u001b[0mget\u001b[0m\u001b[0;34m(\u001b[0m\u001b[0;34m)\u001b[0m\u001b[0;34m)\u001b[0m\u001b[0;34m\u001b[0m\u001b[0m\n",
      "\u001b[0;32m/Users/dec18/anaconda/lib/python3.6/multiprocessing/pool.py\u001b[0m in \u001b[0;36mget\u001b[0;34m(self, timeout)\u001b[0m\n\u001b[1;32m    636\u001b[0m \u001b[0;34m\u001b[0m\u001b[0m\n\u001b[1;32m    637\u001b[0m     \u001b[0;32mdef\u001b[0m \u001b[0mget\u001b[0m\u001b[0;34m(\u001b[0m\u001b[0mself\u001b[0m\u001b[0;34m,\u001b[0m \u001b[0mtimeout\u001b[0m\u001b[0;34m=\u001b[0m\u001b[0;32mNone\u001b[0m\u001b[0;34m)\u001b[0m\u001b[0;34m:\u001b[0m\u001b[0;34m\u001b[0m\u001b[0m\n\u001b[0;32m--> 638\u001b[0;31m         \u001b[0mself\u001b[0m\u001b[0;34m.\u001b[0m\u001b[0mwait\u001b[0m\u001b[0;34m(\u001b[0m\u001b[0mtimeout\u001b[0m\u001b[0;34m)\u001b[0m\u001b[0;34m\u001b[0m\u001b[0m\n\u001b[0m\u001b[1;32m    639\u001b[0m         \u001b[0;32mif\u001b[0m \u001b[0;32mnot\u001b[0m \u001b[0mself\u001b[0m\u001b[0;34m.\u001b[0m\u001b[0mready\u001b[0m\u001b[0;34m(\u001b[0m\u001b[0;34m)\u001b[0m\u001b[0;34m:\u001b[0m\u001b[0;34m\u001b[0m\u001b[0m\n\u001b[1;32m    640\u001b[0m             \u001b[0;32mraise\u001b[0m \u001b[0mTimeoutError\u001b[0m\u001b[0;34m\u001b[0m\u001b[0m\n",
      "\u001b[0;32m/Users/dec18/anaconda/lib/python3.6/multiprocessing/pool.py\u001b[0m in \u001b[0;36mwait\u001b[0;34m(self, timeout)\u001b[0m\n\u001b[1;32m    633\u001b[0m \u001b[0;34m\u001b[0m\u001b[0m\n\u001b[1;32m    634\u001b[0m     \u001b[0;32mdef\u001b[0m \u001b[0mwait\u001b[0m\u001b[0;34m(\u001b[0m\u001b[0mself\u001b[0m\u001b[0;34m,\u001b[0m \u001b[0mtimeout\u001b[0m\u001b[0;34m=\u001b[0m\u001b[0;32mNone\u001b[0m\u001b[0;34m)\u001b[0m\u001b[0;34m:\u001b[0m\u001b[0;34m\u001b[0m\u001b[0m\n\u001b[0;32m--> 635\u001b[0;31m         \u001b[0mself\u001b[0m\u001b[0;34m.\u001b[0m\u001b[0m_event\u001b[0m\u001b[0;34m.\u001b[0m\u001b[0mwait\u001b[0m\u001b[0;34m(\u001b[0m\u001b[0mtimeout\u001b[0m\u001b[0;34m)\u001b[0m\u001b[0;34m\u001b[0m\u001b[0m\n\u001b[0m\u001b[1;32m    636\u001b[0m \u001b[0;34m\u001b[0m\u001b[0m\n\u001b[1;32m    637\u001b[0m     \u001b[0;32mdef\u001b[0m \u001b[0mget\u001b[0m\u001b[0;34m(\u001b[0m\u001b[0mself\u001b[0m\u001b[0;34m,\u001b[0m \u001b[0mtimeout\u001b[0m\u001b[0;34m=\u001b[0m\u001b[0;32mNone\u001b[0m\u001b[0;34m)\u001b[0m\u001b[0;34m:\u001b[0m\u001b[0;34m\u001b[0m\u001b[0m\n",
      "\u001b[0;32m/Users/dec18/anaconda/lib/python3.6/threading.py\u001b[0m in \u001b[0;36mwait\u001b[0;34m(self, timeout)\u001b[0m\n\u001b[1;32m    549\u001b[0m             \u001b[0msignaled\u001b[0m \u001b[0;34m=\u001b[0m \u001b[0mself\u001b[0m\u001b[0;34m.\u001b[0m\u001b[0m_flag\u001b[0m\u001b[0;34m\u001b[0m\u001b[0m\n\u001b[1;32m    550\u001b[0m             \u001b[0;32mif\u001b[0m \u001b[0;32mnot\u001b[0m \u001b[0msignaled\u001b[0m\u001b[0;34m:\u001b[0m\u001b[0;34m\u001b[0m\u001b[0m\n\u001b[0;32m--> 551\u001b[0;31m                 \u001b[0msignaled\u001b[0m \u001b[0;34m=\u001b[0m \u001b[0mself\u001b[0m\u001b[0;34m.\u001b[0m\u001b[0m_cond\u001b[0m\u001b[0;34m.\u001b[0m\u001b[0mwait\u001b[0m\u001b[0;34m(\u001b[0m\u001b[0mtimeout\u001b[0m\u001b[0;34m)\u001b[0m\u001b[0;34m\u001b[0m\u001b[0m\n\u001b[0m\u001b[1;32m    552\u001b[0m             \u001b[0;32mreturn\u001b[0m \u001b[0msignaled\u001b[0m\u001b[0;34m\u001b[0m\u001b[0m\n\u001b[1;32m    553\u001b[0m \u001b[0;34m\u001b[0m\u001b[0m\n",
      "\u001b[0;32m/Users/dec18/anaconda/lib/python3.6/threading.py\u001b[0m in \u001b[0;36mwait\u001b[0;34m(self, timeout)\u001b[0m\n\u001b[1;32m    293\u001b[0m         \u001b[0;32mtry\u001b[0m\u001b[0;34m:\u001b[0m    \u001b[0;31m# restore state no matter what (e.g., KeyboardInterrupt)\u001b[0m\u001b[0;34m\u001b[0m\u001b[0m\n\u001b[1;32m    294\u001b[0m             \u001b[0;32mif\u001b[0m \u001b[0mtimeout\u001b[0m \u001b[0;32mis\u001b[0m \u001b[0;32mNone\u001b[0m\u001b[0;34m:\u001b[0m\u001b[0;34m\u001b[0m\u001b[0m\n\u001b[0;32m--> 295\u001b[0;31m                 \u001b[0mwaiter\u001b[0m\u001b[0;34m.\u001b[0m\u001b[0macquire\u001b[0m\u001b[0;34m(\u001b[0m\u001b[0;34m)\u001b[0m\u001b[0;34m\u001b[0m\u001b[0m\n\u001b[0m\u001b[1;32m    296\u001b[0m                 \u001b[0mgotit\u001b[0m \u001b[0;34m=\u001b[0m \u001b[0;32mTrue\u001b[0m\u001b[0;34m\u001b[0m\u001b[0m\n\u001b[1;32m    297\u001b[0m             \u001b[0;32melse\u001b[0m\u001b[0;34m:\u001b[0m\u001b[0;34m\u001b[0m\u001b[0m\n",
      "\u001b[0;31mKeyboardInterrupt\u001b[0m: "
     ]
    }
   ],
   "source": [
    "# REDID w/ cv=5\n",
    "\n",
    "# SVR-RBF with all features, normalized\n",
    "    # Log-transformed weight fractions\n",
    "    # Explained variance\n",
    "\n",
    "from sklearn.pipeline import Pipeline\n",
    "from sklearn.model_selection import GridSearchCV\n",
    "from sklearn.preprocessing import MinMaxScaler\n",
    "from sklearn.svm import SVR\n",
    "\n",
    "# Pipeline\n",
    "estimator = SVR(kernel='rbf')\n",
    "prepipe = Pipeline([\n",
    "    ('scale', MinMaxScaler()),\n",
    "    ('estimator', estimator)\n",
    "])\n",
    "\n",
    "# Set parameter ranges for gridsearch\n",
    "cv=5\n",
    "n_jobs=3\n",
    "c_set=[5]\n",
    "gamma_set=[0.001]\n",
    "\n",
    "# Gridsearch\n",
    "param_grid={'estimator__C': c_set,\n",
    "            'estimator__gamma': gamma_set\n",
    "           }\n",
    "grid_search=GridSearchCV(prepipe,param_grid,cv=cv,scoring='explained_variance', n_jobs=n_jobs, pre_dispatch=2*n_jobs)\n",
    "grid_search.fit(wfdata,y_log)\n",
    "print(grid_search.best_params_)\n",
    "print(grid_search.best_score_)\n",
    "\n",
    "# Play sound when done running\n",
    "Audio(url=sound_file, autoplay=True)"
   ]
  },
  {
   "cell_type": "code",
   "execution_count": null,
   "metadata": {
    "ExecuteTime": {
     "end_time": "2018-05-10T17:18:21.664119Z",
     "start_time": "2018-05-10T17:12:24.357650Z"
    },
    "collapsed": true
   },
   "outputs": [],
   "source": [
    "# SVR-RBF with all features, normalized\n",
    "    # Normal weight fractions\n",
    "    # Explained variance\n",
    "\n",
    "# Pipeline\n",
    "estimator = SVR(kernel='rbf')\n",
    "prepipe = Pipeline([\n",
    "    ('scale', MinMaxScaler()),\n",
    "    ('estimator', estimator)\n",
    "])\n",
    "\n",
    "# Set parameter ranges for gridsearch\n",
    "cv=4\n",
    "n_jobs=3\n",
    "c_set=[1,10]\n",
    "gamma_set=[0.0001,0.001]\n",
    "\n",
    "# Gridsearch\n",
    "param_grid={'estimator__C': c_set,\n",
    "            'estimator__gamma': gamma_set\n",
    "           }\n",
    "grid_search=GridSearchCV(prepipe,param_grid,cv=cv,scoring='explained_variance', n_jobs=n_jobs, pre_dispatch=2*n_jobs)\n",
    "grid_search.fit(wfdata,y)\n",
    "#grid_search.fit(wfdata+.0001,y)\n",
    "print(grid_search.best_params_)\n",
    "print(grid_search.best_score_)\n",
    "\n",
    "# Play sound when done running\n",
    "Audio(url=sound_file, autoplay=True)"
   ]
  },
  {
   "cell_type": "markdown",
   "metadata": {},
   "source": [
    "Explained variance is much better when weight fractions are log-transformed. y_log will be used from now on."
   ]
  },
  {
   "cell_type": "code",
   "execution_count": null,
   "metadata": {
    "ExecuteTime": {
     "end_time": "2018-05-10T17:26:32.663308Z",
     "start_time": "2018-05-10T17:23:31.989098Z"
    },
    "collapsed": true
   },
   "outputs": [],
   "source": [
    "# SVR-RBF with all features, normalized\n",
    "    # Normal weight fractions\n",
    "    # Negative mean squared error\n",
    "\n",
    "# Pipeline\n",
    "estimator = SVR(kernel='rbf')\n",
    "prepipe = Pipeline([\n",
    "    ('scale', MinMaxScaler()),\n",
    "    ('estimator', estimator)\n",
    "])\n",
    "\n",
    "# Set parameter ranges for gridsearch\n",
    "cv=4\n",
    "n_jobs=3\n",
    "c_set=[1]\n",
    "gamma_set=[0.001,0.01]\n",
    "\n",
    "# Gridsearch\n",
    "param_grid={'estimator__C': c_set,\n",
    "            'estimator__gamma': gamma_set\n",
    "           }\n",
    "grid_search=GridSearchCV(prepipe,param_grid,cv=cv,scoring='neg_mean_squared_error', n_jobs=n_jobs, pre_dispatch=2*n_jobs)\n",
    "grid_search.fit(wfdata,y)\n",
    "print(grid_search.best_params_)\n",
    "print(grid_search.best_score_)\n",
    "\n",
    "# Play sound when done running\n",
    "Audio(url=sound_file, autoplay=True)"
   ]
  },
  {
   "cell_type": "markdown",
   "metadata": {},
   "source": [
    "I'll try the random forest regressor on all of the data, too, even though it didn't perform as well on average (see later results)."
   ]
  },
  {
   "cell_type": "code",
   "execution_count": null,
   "metadata": {
    "ExecuteTime": {
     "end_time": "2018-05-25T00:24:57.240514Z",
     "start_time": "2018-05-25T00:24:44.259847Z"
    },
    "collapsed": true
   },
   "outputs": [],
   "source": [
    "# Random forest regressor with all features, normalized\n",
    "    # Log-tranformed weight fraction\n",
    "    # Explained variance\n",
    "\n",
    "from sklearn.pipeline import Pipeline\n",
    "from sklearn.model_selection import GridSearchCV\n",
    "from sklearn.preprocessing import MinMaxScaler\n",
    "from sklearn.ensemble import RandomForestRegressor\n",
    "\n",
    "# Pipeline\n",
    "estimator = RandomForestRegressor()\n",
    "prepipe = Pipeline([\n",
    "    ('scale', MinMaxScaler()),\n",
    "    ('estimator', estimator)\n",
    "])\n",
    "\n",
    "# Set parameter ranges for gridsearch\n",
    "cv=4\n",
    "n_jobs=3\n",
    "n_set=[8,16]\n",
    "\n",
    "# Gridsearch\n",
    "param_grid={'estimator__n_estimators': n_set\n",
    "           }\n",
    "grid_search=GridSearchCV(prepipe,param_grid,cv=cv,scoring='explained_variance', n_jobs=n_jobs, pre_dispatch=2*n_jobs)\n",
    "grid_search.fit(wfdata,y_log)\n",
    "print(grid_search.best_params_)\n",
    "print(grid_search.best_score_)\n",
    "\n",
    "# Play sound when done running\n",
    "Audio(url=sound_file, autoplay=True)"
   ]
  },
  {
   "cell_type": "markdown",
   "metadata": {},
   "source": [
    "As seen below, it turns out that including the 10 chemical property variables was better for performance, even though it meant sacrificing 1/3 of tuples."
   ]
  },
  {
   "cell_type": "code",
   "execution_count": null,
   "metadata": {
    "ExecuteTime": {
     "end_time": "2018-05-25T00:28:15.616294Z",
     "start_time": "2018-05-25T00:27:58.016488Z"
    },
    "collapsed": true
   },
   "outputs": [],
   "source": [
    "# Random forest regressor with all features, normalized\n",
    "    # No chem properties, 30,000 datapoints\n",
    "    # Log-tranformed weight fraction\n",
    "    # Explained variance\n",
    "\n",
    "# Pipeline\n",
    "estimator = RandomForestRegressor()\n",
    "prepipe = Pipeline([\n",
    "#    ('scale', MinMaxScaler()),\n",
    "    ('estimator', estimator)\n",
    "])\n",
    "\n",
    "# Set parameter ranges for gridsearch\n",
    "cv=4\n",
    "n_jobs=3\n",
    "n_set=[8]\n",
    "\n",
    "# Gridsearch\n",
    "param_grid={'estimator__n_estimators': n_set\n",
    "           }\n",
    "grid_search=GridSearchCV(prepipe,param_grid,cv=cv,scoring='explained_variance', n_jobs=n_jobs, pre_dispatch=2*n_jobs)\n",
    "grid_search.fit(X_all,y_all)\n",
    "print(grid_search.best_params_)\n",
    "print(grid_search.best_score_)\n",
    "\n",
    "# Play sound when done running\n",
    "Audio(url=sound_file, autoplay=True)"
   ]
  },
  {
   "cell_type": "markdown",
   "metadata": {},
   "source": [
    "## WF Bins"
   ]
  },
  {
   "cell_type": "code",
   "execution_count": null,
   "metadata": {
    "ExecuteTime": {
     "end_time": "2018-08-01T14:54:55.217588Z",
     "start_time": "2018-08-01T14:31:22.599832Z"
    },
    "collapsed": true
   },
   "outputs": [],
   "source": [
    "# REDID w/ cv=5\n",
    "\n",
    "# CLASSIFIER: SVC-RBF with all features, normalized\n",
    "    # Weight fraction bins\n",
    "    # Accuracy\n",
    "\n",
    "from sklearn.pipeline import Pipeline\n",
    "from sklearn.model_selection import GridSearchCV\n",
    "from sklearn.preprocessing import MinMaxScaler\n",
    "from sklearn.svm import SVC\n",
    "\n",
    "# Pipeline\n",
    "estimator = SVC(kernel='rbf')\n",
    "prepipe = Pipeline([\n",
    "    ('scale', MinMaxScaler()),\n",
    "    ('estimator', estimator)\n",
    "])\n",
    "\n",
    "# Set parameter ranges for gridsearch\n",
    "cv=5\n",
    "n_jobs=3\n",
    "c_set=[1,5]\n",
    "gamma_set=[0.0001,0.001]\n",
    "\n",
    "# Gridsearch\n",
    "param_grid={'estimator__C': c_set,\n",
    "            'estimator__gamma': gamma_set\n",
    "           }\n",
    "grid_search=GridSearchCV(prepipe,param_grid,cv=cv,scoring='accuracy', n_jobs=n_jobs, pre_dispatch=2*n_jobs)\n",
    "grid_search.fit(wfdata,bin_num)\n",
    "print(grid_search.best_params_)\n",
    "print(grid_search.best_score_)\n",
    "\n",
    "# Play sound when done running\n",
    "Audio(url=sound_file, autoplay=True)"
   ]
  },
  {
   "cell_type": "code",
   "execution_count": null,
   "metadata": {
    "ExecuteTime": {
     "end_time": "2018-07-17T18:39:51.763910Z",
     "start_time": "2018-07-17T18:17:42.492767Z"
    },
    "collapsed": true
   },
   "outputs": [],
   "source": [
    "# REDID w/ cv=5\n",
    "\n",
    "# CLASSIFIER: SVC-RBF with all features, normalized\n",
    "    # Weight fraction bins\n",
    "    # Accuracy\n",
    "\n",
    "from sklearn.pipeline import Pipeline\n",
    "from sklearn.model_selection import GridSearchCV\n",
    "from sklearn.preprocessing import MinMaxScaler\n",
    "from sklearn.svm import SVC\n",
    "\n",
    "# Pipeline\n",
    "estimator = SVC(kernel='rbf')\n",
    "prepipe = Pipeline([\n",
    "    ('scale', MinMaxScaler()),\n",
    "    ('estimator', estimator)\n",
    "])\n",
    "\n",
    "# Set parameter ranges for gridsearch\n",
    "cv=5\n",
    "n_jobs=3\n",
    "c_set=[1,5]\n",
    "gamma_set=[0.0001,0.001]\n",
    "\n",
    "# Gridsearch\n",
    "param_grid={'estimator__C': c_set,\n",
    "            'estimator__gamma': gamma_set\n",
    "           }\n",
    "grid_search=GridSearchCV(prepipe,param_grid,cv=cv,scoring='accuracy', n_jobs=n_jobs, pre_dispatch=2*n_jobs)\n",
    "grid_search.fit(wfdata,bin_num)\n",
    "print(grid_search.best_params_)\n",
    "print(grid_search.best_score_)\n",
    "\n",
    "# Play sound when done running\n",
    "Audio(url=sound_file, autoplay=True)"
   ]
  },
  {
   "cell_type": "code",
   "execution_count": null,
   "metadata": {
    "ExecuteTime": {
     "end_time": "2018-07-13T10:23:29.639766Z",
     "start_time": "2018-07-13T10:07:22.008638Z"
    },
    "collapsed": true
   },
   "outputs": [],
   "source": [
    "# CLASSIFIER: SVC-RBF with all features, normalized\n",
    "    # Weight fraction bins\n",
    "    # Accuracy\n",
    "\n",
    "from sklearn.pipeline import Pipeline\n",
    "from sklearn.model_selection import GridSearchCV\n",
    "from sklearn.preprocessing import MinMaxScaler\n",
    "from sklearn.svm import SVC\n",
    "\n",
    "# Pipeline\n",
    "estimator = SVC(kernel='rbf')\n",
    "prepipe = Pipeline([\n",
    "    ('scale', MinMaxScaler()),\n",
    "    ('estimator', estimator)\n",
    "])\n",
    "\n",
    "# Set parameter ranges for gridsearch\n",
    "cv=4\n",
    "n_jobs=3\n",
    "c_set=[1,10]\n",
    "gamma_set=[0.0001,0.001]\n",
    "\n",
    "# Gridsearch\n",
    "param_grid={'estimator__C': c_set,\n",
    "            'estimator__gamma': gamma_set\n",
    "           }\n",
    "grid_search=GridSearchCV(prepipe,param_grid,cv=cv,scoring='accuracy', n_jobs=n_jobs, pre_dispatch=2*n_jobs)\n",
    "grid_search.fit(wfdata,bin_num)\n",
    "print(grid_search.best_params_)\n",
    "print(grid_search.best_score_)\n",
    "\n",
    "# Play sound when done running\n",
    "Audio(url=sound_file, autoplay=True)"
   ]
  },
  {
   "cell_type": "code",
   "execution_count": null,
   "metadata": {
    "ExecuteTime": {
     "end_time": "2018-07-13T10:34:19.052758Z",
     "start_time": "2018-07-13T10:24:47.238035Z"
    },
    "collapsed": true
   },
   "outputs": [],
   "source": [
    "# CLASSIFIER: SVC-RBF with all features, normalized\n",
    "    # Weight fraction bins\n",
    "    # Explained variance\n",
    "    # Additional parameter settings\n",
    "\n",
    "# Pipeline\n",
    "estimator = SVC(kernel='rbf')\n",
    "prepipe = Pipeline([\n",
    "    ('scale', MinMaxScaler()),\n",
    "    ('estimator', estimator)\n",
    "])\n",
    "\n",
    "# Set parameter ranges for gridsearch\n",
    "cv=4\n",
    "n_jobs=3\n",
    "c_set=[1,3]\n",
    "gamma_set=[0.001]\n",
    "\n",
    "# Gridsearch\n",
    "param_grid={'estimator__C': c_set,\n",
    "            'estimator__gamma': gamma_set\n",
    "           }\n",
    "grid_search=GridSearchCV(prepipe,param_grid,cv=cv,scoring='accuracy', n_jobs=n_jobs, pre_dispatch=2*n_jobs)\n",
    "grid_search.fit(wfdata_source,bin_num)\n",
    "print(grid_search.best_params_)\n",
    "print(grid_search.best_score_)\n",
    "\n",
    "# Play sound when done running\n",
    "Audio(url=sound_file, autoplay=True)"
   ]
  },
  {
   "cell_type": "markdown",
   "metadata": {},
   "source": [
    "SVC-RBF best settings so far:\n",
    "\n",
    "For c_set=[0.1,1,5] --> C=1\n",
    "\n",
    "For gamma_set=[0.0001,0.001,0.01] --> gamma=0.001"
   ]
  },
  {
   "cell_type": "markdown",
   "metadata": {},
   "source": [
    "## WF Source"
   ]
  },
  {
   "cell_type": "code",
   "execution_count": null,
   "metadata": {
    "ExecuteTime": {
     "end_time": "2018-07-17T19:05:50.782100Z",
     "start_time": "2018-07-17T18:43:29.457043Z"
    },
    "collapsed": true
   },
   "outputs": [],
   "source": [
    "# REDID w/ cv=5\n",
    "\n",
    "# SVR-RBF with all features, normalized\n",
    "    # Log-transformed weight fractions\n",
    "    # Explained variance\n",
    "\n",
    "from sklearn.pipeline import Pipeline\n",
    "from sklearn.model_selection import GridSearchCV\n",
    "from sklearn.preprocessing import MinMaxScaler\n",
    "from sklearn.svm import SVR\n",
    "\n",
    "# Pipeline\n",
    "estimator = SVR(kernel='rbf')\n",
    "prepipe = Pipeline([\n",
    "    ('scale', MinMaxScaler()),\n",
    "    ('estimator', estimator)\n",
    "])\n",
    "\n",
    "# Set parameter ranges for gridsearch\n",
    "cv=5\n",
    "n_jobs=3\n",
    "c_set=[1,5]\n",
    "gamma_set=[0.0001,0.001]\n",
    "\n",
    "# Gridsearch\n",
    "param_grid={'estimator__C': c_set,\n",
    "            'estimator__gamma': gamma_set\n",
    "           }\n",
    "grid_search=GridSearchCV(prepipe,param_grid,cv=cv,scoring='explained_variance', n_jobs=n_jobs, pre_dispatch=2*n_jobs)\n",
    "grid_search.fit(wfdata_source,y_log)\n",
    "print(grid_search.best_params_)\n",
    "print(grid_search.best_score_)\n",
    "\n",
    "# Play sound when cell is done running\n",
    "Audio(url=sound_file, autoplay=True)"
   ]
  },
  {
   "cell_type": "code",
   "execution_count": null,
   "metadata": {
    "ExecuteTime": {
     "end_time": "2018-07-13T08:32:15.223293Z",
     "start_time": "2018-07-13T08:21:28.095769Z"
    },
    "collapsed": true
   },
   "outputs": [],
   "source": [
    "# SVR-RBF with all features, normalized\n",
    "    # Log-transformed weight fractions\n",
    "    # Explained variance\n",
    "\n",
    "from sklearn.pipeline import Pipeline\n",
    "from sklearn.model_selection import GridSearchCV\n",
    "from sklearn.preprocessing import MinMaxScaler\n",
    "from sklearn.svm import SVR\n",
    "\n",
    "# Pipeline\n",
    "estimator = SVR(kernel='rbf')\n",
    "prepipe = Pipeline([\n",
    "    ('scale', MinMaxScaler()),\n",
    "    ('estimator', estimator)\n",
    "])\n",
    "\n",
    "# Set parameter ranges for gridsearch\n",
    "cv=4\n",
    "n_jobs=3\n",
    "c_set=[1]\n",
    "gamma_set=[0.0001,0.001]\n",
    "\n",
    "# Gridsearch\n",
    "param_grid={'estimator__C': c_set,\n",
    "            'estimator__gamma': gamma_set\n",
    "           }\n",
    "grid_search=GridSearchCV(prepipe,param_grid,cv=cv,scoring='explained_variance', n_jobs=n_jobs, pre_dispatch=2*n_jobs)\n",
    "grid_search.fit(wfdata_source,y_log)\n",
    "print(grid_search.best_params_)\n",
    "print(grid_search.best_score_)\n",
    "\n",
    "# Play sound when cell is done running\n",
    "Audio(url=sound_file, autoplay=True)"
   ]
  },
  {
   "cell_type": "code",
   "execution_count": null,
   "metadata": {
    "ExecuteTime": {
     "end_time": "2018-07-17T19:29:52.049460Z",
     "start_time": "2018-07-17T19:08:42.762959Z"
    },
    "collapsed": true
   },
   "outputs": [],
   "source": [
    "# REDID w/ cv=5\n",
    "\n",
    "# SVR-RBF with all features, normalized\n",
    "    # Log-transformed weight fractions + 10^-5 to improve performance\n",
    "    # Explained variance\n",
    "\n",
    "from sklearn.pipeline import Pipeline\n",
    "from sklearn.model_selection import GridSearchCV\n",
    "from sklearn.preprocessing import MinMaxScaler\n",
    "from sklearn.svm import SVR\n",
    "\n",
    "# Pipeline\n",
    "estimator = SVR(kernel='rbf')\n",
    "prepipe = Pipeline([\n",
    "    ('scale', MinMaxScaler()),\n",
    "    ('estimator', estimator)\n",
    "])\n",
    "\n",
    "# Set parameter ranges for gridsearch\n",
    "cv=5\n",
    "n_jobs=3\n",
    "c_set=[1,5]\n",
    "gamma_set=[0.0001, 0.001]\n",
    "\n",
    "# Gridsearch\n",
    "param_grid={'estimator__C': c_set,\n",
    "            'estimator__gamma': gamma_set\n",
    "           }\n",
    "grid_search=GridSearchCV(prepipe,param_grid,cv=cv,scoring='explained_variance', n_jobs=n_jobs, pre_dispatch=2*n_jobs)\n",
    "grid_search.fit(wfdata_source,y_log_cut)\n",
    "print(grid_search.best_params_)\n",
    "print(grid_search.best_score_)\n",
    "\n",
    "# Play sound when cell is done running\n",
    "Audio(url=sound_file, autoplay=True)"
   ]
  },
  {
   "cell_type": "code",
   "execution_count": null,
   "metadata": {
    "ExecuteTime": {
     "end_time": "2018-07-13T09:23:44.271492Z",
     "start_time": "2018-07-13T09:16:21.071499Z"
    },
    "collapsed": true
   },
   "outputs": [],
   "source": [
    "# SVR-RBF with all features, normalized\n",
    "    # Log-transformed weight fractions + 10^-5 to improve performance\n",
    "    # Explained variance\n",
    "\n",
    "from sklearn.pipeline import Pipeline\n",
    "from sklearn.model_selection import GridSearchCV\n",
    "from sklearn.preprocessing import MinMaxScaler\n",
    "from sklearn.svm import SVR\n",
    "\n",
    "# Pipeline\n",
    "estimator = SVR(kernel='rbf')\n",
    "prepipe = Pipeline([\n",
    "    ('scale', MinMaxScaler()),\n",
    "    ('estimator', estimator)\n",
    "])\n",
    "\n",
    "# Set parameter ranges for gridsearch\n",
    "cv=4\n",
    "n_jobs=3\n",
    "c_set=[1]\n",
    "gamma_set=[0.001]\n",
    "\n",
    "# Gridsearch\n",
    "param_grid={'estimator__C': c_set,\n",
    "            'estimator__gamma': gamma_set\n",
    "           }\n",
    "grid_search=GridSearchCV(prepipe,param_grid,cv=cv,scoring='explained_variance', n_jobs=n_jobs, pre_dispatch=2*n_jobs)\n",
    "grid_search.fit(wfdata_source,y_log_cut)\n",
    "print(grid_search.best_params_)\n",
    "print(grid_search.best_score_)\n",
    "\n",
    "# Play sound when cell is done running\n",
    "Audio(url=sound_file, autoplay=True)"
   ]
  },
  {
   "cell_type": "code",
   "execution_count": null,
   "metadata": {
    "ExecuteTime": {
     "end_time": "2018-07-13T09:13:52.812266Z",
     "start_time": "2018-07-13T09:11:13.109574Z"
    },
    "collapsed": true
   },
   "outputs": [],
   "source": [
    "# SVR-RBF with only function, normalized\n",
    "    # Log-transformed weight fractions + 10^-5 to improve performance\n",
    "    # Explained variance\n",
    "\n",
    "from sklearn.pipeline import Pipeline\n",
    "from sklearn.model_selection import GridSearchCV\n",
    "from sklearn.preprocessing import MinMaxScaler\n",
    "from sklearn.svm import SVR\n",
    "\n",
    "# Pipeline\n",
    "estimator = SVR(kernel='rbf')\n",
    "prepipe = Pipeline([\n",
    "    ('scale', MinMaxScaler()),\n",
    "    ('estimator', estimator)\n",
    "])\n",
    "\n",
    "# Set parameter ranges for gridsearch\n",
    "cv=4\n",
    "n_jobs=3\n",
    "c_set=[1]\n",
    "gamma_set=[0.0001,0.001]\n",
    "\n",
    "# Gridsearch\n",
    "param_grid={'estimator__C': c_set,\n",
    "            'estimator__gamma': gamma_set\n",
    "           }\n",
    "grid_search=GridSearchCV(prepipe,param_grid,cv=cv,scoring='explained_variance', n_jobs=n_jobs, pre_dispatch=2*n_jobs)\n",
    "grid_search.fit(Xf,y_log_cut)\n",
    "print(grid_search.best_params_)\n",
    "print(grid_search.best_score_)\n",
    "\n",
    "# Play sound when cell is done running\n",
    "Audio(url=sound_file, autoplay=True)"
   ]
  },
  {
   "cell_type": "code",
   "execution_count": null,
   "metadata": {
    "ExecuteTime": {
     "end_time": "2018-07-17T21:20:45.540520Z",
     "start_time": "2018-07-17T20:58:57.464789Z"
    },
    "collapsed": true
   },
   "outputs": [],
   "source": [
    "# CLASSIFIER: SVC-RBF with all features, normalized\n",
    "    # Weight fraction bins\n",
    "    # Explained variance\n",
    "    # Additional parameter settings\n",
    "\n",
    "# Pipeline\n",
    "estimator = SVC(kernel='rbf')\n",
    "prepipe = Pipeline([\n",
    "    ('scale', MinMaxScaler()),\n",
    "    ('estimator', estimator)\n",
    "])\n",
    "\n",
    "# Set parameter ranges for gridsearch\n",
    "cv=5\n",
    "n_jobs=3\n",
    "c_set=[1,5]\n",
    "gamma_set=[0.0001,0.001]\n",
    "\n",
    "# Gridsearch\n",
    "param_grid={'estimator__C': c_set,\n",
    "            'estimator__gamma': gamma_set\n",
    "           }\n",
    "grid_search=GridSearchCV(prepipe,param_grid,cv=cv,scoring='accuracy', n_jobs=n_jobs, pre_dispatch=2*n_jobs)\n",
    "grid_search.fit(wfdata_source,bin_num)\n",
    "print(grid_search.best_params_)\n",
    "print(grid_search.best_score_)\n",
    "\n",
    "# Play sound when done running\n",
    "Audio(url=sound_file, autoplay=True)"
   ]
  },
  {
   "cell_type": "code",
   "execution_count": null,
   "metadata": {
    "ExecuteTime": {
     "end_time": "2018-07-13T10:46:47.680207Z",
     "start_time": "2018-07-13T10:37:15.181961Z"
    },
    "collapsed": true
   },
   "outputs": [],
   "source": [
    "# CLASSIFIER: SVC-RBF with all features, normalized\n",
    "    # Weight fraction bins\n",
    "    # Accuracy\n",
    "    # Additional parameter settings\n",
    "\n",
    "# Pipeline\n",
    "estimator = SVC(kernel='rbf')\n",
    "prepipe = Pipeline([\n",
    "    ('scale', MinMaxScaler()),\n",
    "    ('estimator', estimator)\n",
    "])\n",
    "\n",
    "# Set parameter ranges for gridsearch\n",
    "cv=4\n",
    "n_jobs=3\n",
    "c_set=[1,5]\n",
    "gamma_set=[0.001]\n",
    "\n",
    "# Gridsearch\n",
    "param_grid={'estimator__C': c_set,\n",
    "            'estimator__gamma': gamma_set\n",
    "           }\n",
    "grid_search=GridSearchCV(prepipe,param_grid,cv=cv,scoring='accuracy', n_jobs=n_jobs, pre_dispatch=2*n_jobs)\n",
    "grid_search.fit(wfdata_source,bin_num)\n",
    "print(grid_search.best_params_)\n",
    "print(grid_search.best_score_)\n",
    "\n",
    "# Play sound when done running\n",
    "Audio(url=sound_file, autoplay=True)"
   ]
  },
  {
   "cell_type": "markdown",
   "metadata": {},
   "source": [
    "Before adjusting y_log."
   ]
  },
  {
   "cell_type": "code",
   "execution_count": null,
   "metadata": {
    "ExecuteTime": {
     "end_time": "2018-07-13T08:34:35.609824Z",
     "start_time": "2018-07-13T08:34:35.583480Z"
    },
    "collapsed": true
   },
   "outputs": [],
   "source": [
    "from sklearn.pipeline import Pipeline\n",
    "from sklearn.model_selection import GridSearchCV\n",
    "from sklearn.preprocessing import MinMaxScaler\n",
    "from sklearn import decomposition\n",
    "from sklearn.svm import SVC"
   ]
  },
  {
   "cell_type": "code",
   "execution_count": null,
   "metadata": {
    "ExecuteTime": {
     "end_time": "2018-07-13T08:35:01.832892Z",
     "start_time": "2018-07-13T08:34:37.647134Z"
    },
    "collapsed": true
   },
   "outputs": [],
   "source": [
    "bestpipe = Pipeline([\n",
    "    ('scale', MinMaxScaler()),\n",
    "    ('feat', decomposition.PCA(n_components=46)),\n",
    "    ('estimator', SVR(kernel='rbf', C=5, gamma=0.0003))\n",
    "     ])\n",
    "bestpipe.fit(wfdata_source,y_log)"
   ]
  },
  {
   "cell_type": "code",
   "execution_count": null,
   "metadata": {
    "ExecuteTime": {
     "end_time": "2018-07-13T08:35:41.510115Z",
     "start_time": "2018-07-13T08:35:23.978182Z"
    },
    "collapsed": true
   },
   "outputs": [],
   "source": [
    "y_predict = bestpipe.predict(wfdata_source)"
   ]
  },
  {
   "cell_type": "code",
   "execution_count": null,
   "metadata": {
    "ExecuteTime": {
     "end_time": "2018-07-13T11:06:18.925459Z",
     "start_time": "2018-07-13T10:48:51.252785Z"
    },
    "collapsed": true
   },
   "outputs": [],
   "source": [
    "# BEFORE\n",
    "from statistics import mean\n",
    "\n",
    "xs = y_log\n",
    "ys = y_predict\n",
    "\n",
    "def best_fit_slope_and_intercept(xs,ys):\n",
    "    m = (((mean(xs)*mean(ys)) - mean(xs*ys)) /\n",
    "         ((mean(xs)*mean(xs)) - mean(xs*xs)))\n",
    "    b = mean(ys) - m*mean(xs)\n",
    "    return m, b\n",
    "def squared_error(ys_orig,ys_line):\n",
    "    return sum((ys_line - ys_orig) * (ys_line - ys_orig))\n",
    "def coefficient_of_determination(ys_orig,ys_line):\n",
    "    y_mean_line = [mean(ys_orig) for y in ys_orig]\n",
    "    squared_error_regr = squared_error(ys_orig, ys_line)\n",
    "    squared_error_y_mean = squared_error(ys_orig, y_mean_line)\n",
    "    return 1 - (squared_error_regr/squared_error_y_mean)\n",
    "\n",
    "regression_line = [(m*x)+b for x in xs]\n",
    "r_squared = coefficient_of_determination(ys,regression_line)\n",
    "\n",
    "m, b = best_fit_slope_and_intercept(xs,ys)\n",
    "r_squared = coefficient_of_determination(ys,regression_line)\n",
    "print('slope={}; y-intercept={}; R^2={}'.format(m,b,r_squared))\n",
    "#print(m,b)"
   ]
  },
  {
   "cell_type": "code",
   "execution_count": null,
   "metadata": {
    "ExecuteTime": {
     "end_time": "2018-07-13T08:50:02.766315Z",
     "start_time": "2018-07-13T08:50:02.505023Z"
    },
    "collapsed": true
   },
   "outputs": [],
   "source": [
    "#plt.plot(np.unique(y_log), np.poly1d(np.polyfit(y_log, y_predict, 1))(np.unique(y_log)), )\n",
    "plt.scatter(y_log,y_predict)\n",
    "plt.plot(xs, regression_line, color='red')\n",
    "plt.title('predicted vs actual')\n",
    "plt.show()"
   ]
  },
  {
   "cell_type": "markdown",
   "metadata": {},
   "source": [
    "After adjusting y_log by adding 10^-5."
   ]
  },
  {
   "cell_type": "code",
   "execution_count": null,
   "metadata": {
    "ExecuteTime": {
     "end_time": "2018-07-13T08:52:32.943791Z",
     "start_time": "2018-07-13T08:52:08.403328Z"
    },
    "collapsed": true
   },
   "outputs": [],
   "source": [
    "bestpipe2 = Pipeline([\n",
    "    ('scale', MinMaxScaler()),\n",
    "    ('feat', decomposition.PCA(n_components=46)),\n",
    "    ('estimator', SVR(kernel='rbf', C=5, gamma=0.0003))\n",
    "     ])\n",
    "bestpipe2.fit(wfdata_source,y_log_cut)"
   ]
  },
  {
   "cell_type": "code",
   "execution_count": null,
   "metadata": {
    "ExecuteTime": {
     "end_time": "2018-07-13T08:53:11.216475Z",
     "start_time": "2018-07-13T08:52:54.096079Z"
    },
    "collapsed": true
   },
   "outputs": [],
   "source": [
    "y_predict_cut = bestpipe2.predict(wfdata_source)"
   ]
  },
  {
   "cell_type": "code",
   "execution_count": null,
   "metadata": {
    "ExecuteTime": {
     "end_time": "2018-07-13T11:38:43.427817Z",
     "start_time": "2018-07-13T11:29:49.716861Z"
    },
    "collapsed": true
   },
   "outputs": [],
   "source": [
    "xs = y_log_cut\n",
    "ys = y_predict_cut\n",
    "\n",
    "m, b = best_fit_slope_and_intercept(xs,ys)\n",
    "regression_line = [(m*x)+b for x in xs]\n",
    "r_squared = coefficient_of_determination(ys,regression_line)\n",
    "#print(m,b)\n",
    "print('slope={}; y-intercept={}; R^2={}'.format(m,b,r_squared))"
   ]
  },
  {
   "cell_type": "code",
   "execution_count": null,
   "metadata": {
    "ExecuteTime": {
     "end_time": "2018-07-17T19:45:20.698752Z",
     "start_time": "2018-07-17T19:45:20.403010Z"
    },
    "collapsed": true
   },
   "outputs": [],
   "source": [
    "#plt.plot(np.unique(y_log), np.poly1d(np.polyfit(y_log, y_predict, 1))(np.unique(y_log)), )\n",
    "plt.scatter(y_log_cut,y_predict_cut)\n",
    "plt.plot(xs, regression_line, color='red')\n",
    "plt.title('predicted vs actual')\n",
    "plt.xlim([-9,0.5])\n",
    "plt.show()"
   ]
  },
  {
   "cell_type": "markdown",
   "metadata": {},
   "source": [
    "## WF ENM"
   ]
  },
  {
   "cell_type": "code",
   "execution_count": null,
   "metadata": {
    "ExecuteTime": {
     "end_time": "2018-09-03T17:47:25.031889Z",
     "start_time": "2018-09-03T17:47:24.683448Z"
    },
    "collapsed": true
   },
   "outputs": [],
   "source": [
    "# SVR-RBF with all features, normalized\n",
    "    # Log-transformed weight fractions\n",
    "    # Explained variance\n",
    "\n",
    "from sklearn.pipeline import Pipeline\n",
    "from sklearn.model_selection import GridSearchCV\n",
    "from sklearn.preprocessing import MinMaxScaler\n",
    "from sklearn.svm import SVR\n",
    "\n",
    "# Pipeline\n",
    "estimator = SVR(kernel='rbf')\n",
    "prepipe = Pipeline([\n",
    "    ('scale', MinMaxScaler()),\n",
    "    ('estimator', estimator)\n",
    "])\n",
    "\n",
    "# Set parameter ranges for gridsearch\n",
    "cv=3\n",
    "n_jobs=3\n",
    "c_set=[1,10,15]\n",
    "gamma_set=[0.0001, 0.001]\n",
    "\n",
    "# Gridsearch\n",
    "param_grid={'estimator__C': c_set,\n",
    "            'estimator__gamma': gamma_set\n",
    "           }\n",
    "grid_search=GridSearchCV(prepipe,param_grid,cv=cv,scoring='explained_variance', n_jobs=n_jobs, pre_dispatch=2*n_jobs)\n",
    "grid_search.fit(X_enm,yarr_enm)\n",
    "print(grid_search.best_params_)\n",
    "print(grid_search.best_score_)\n",
    "\n",
    "# Play sound when done running\n",
    "Audio(url=sound_file, autoplay=True)"
   ]
  },
  {
   "cell_type": "markdown",
   "metadata": {},
   "source": [
    "# Pre-processing"
   ]
  },
  {
   "cell_type": "markdown",
   "metadata": {},
   "source": [
    "## Non-negative Matrix Factorization (NMF)"
   ]
  },
  {
   "cell_type": "markdown",
   "metadata": {},
   "source": [
    "I never got this code to work.\n",
    "\n",
    "http://scikit-learn.org/stable/modules/generated/sklearn.decomposition.NMF.html#sklearn.decomposition.NMF\n",
    "\n",
    "https://www.sciencedirect.com/science/article/pii/S0925231211006370\n",
    "\n",
    "https://stats.stackexchange.com/questions/200699/evaluate-performance-of-non-negative-matrix-factorization-nmf"
   ]
  },
  {
   "cell_type": "code",
   "execution_count": null,
   "metadata": {
    "ExecuteTime": {
     "end_time": "2018-05-23T22:13:57.682909Z",
     "start_time": "2018-05-23T22:13:57.472986Z"
    },
    "collapsed": true
   },
   "outputs": [],
   "source": [
    "# Scale the data first (i.e., the chemical properties) so everything is from 0 to 1\n",
    "from sklearn.preprocessing import MinMaxScaler\n",
    "scaler = MinMaxScaler()\n",
    "wf_scaled = scaler.fit_transform(wfdata)\n",
    "wf_scaleddf = pd.DataFrame(data=wf_scaled)"
   ]
  },
  {
   "cell_type": "code",
   "execution_count": null,
   "metadata": {
    "ExecuteTime": {
     "end_time": "2018-05-23T22:14:10.833619Z",
     "start_time": "2018-05-23T22:13:58.847258Z"
    },
    "collapsed": true
   },
   "outputs": [],
   "source": [
    "from sklearn import decomposition\n",
    "nmf=decomposition.NMF(n_components=30)\n",
    "S=nmf.fit_transform(wf_scaled)"
   ]
  },
  {
   "cell_type": "code",
   "execution_count": null,
   "metadata": {
    "ExecuteTime": {
     "end_time": "2018-05-23T22:19:19.441876Z",
     "start_time": "2018-05-23T22:19:19.419167Z"
    },
    "collapsed": true
   },
   "outputs": [],
   "source": [
    "fig=plt.figure()\n",
    "plt.plot(n_components,nmf.reconstruction_err_,'.-',label='NMF')\n",
    "#plt.plot([0, S.shape[1]],[.70,.70],'k',label='70%')\n",
    "#plt.plot([0, S.shape[1]],[.85,.85],'r',label='85%')\n",
    "#plt.xlim([15,55])\n",
    "plt.xlabel('Coefficient Number')\n",
    "plt.ylabel('Cumulative Explained Variance Ratio')\n",
    "plt.grid()\n",
    "plt.legend()\n",
    "plt.show()"
   ]
  },
  {
   "cell_type": "markdown",
   "metadata": {},
   "source": [
    "## PCA"
   ]
  },
  {
   "cell_type": "markdown",
   "metadata": {},
   "source": [
    "http://scikit-learn.org/stable/modules/generated/sklearn.decomposition.PCA.html#sklearn.decomposition.PCA\n",
    "\n",
    "***Need to add in cross-validation***"
   ]
  },
  {
   "cell_type": "code",
   "execution_count": null,
   "metadata": {
    "ExecuteTime": {
     "end_time": "2018-08-03T20:57:21.663892Z",
     "start_time": "2018-08-03T20:57:21.301952Z"
    },
    "collapsed": true
   },
   "outputs": [],
   "source": [
    "# Scale the data first (i.e., the chemical properties) so everything is from 0 to 1\n",
    "from sklearn.preprocessing import MinMaxScaler\n",
    "scaler = MinMaxScaler()\n",
    "wf_scaled = scaler.fit_transform(wfdata)\n",
    "wf_source_scaled = scaler.fit_transform(wfdata_source)"
   ]
  },
  {
   "cell_type": "markdown",
   "metadata": {},
   "source": [
    "### PCA for full organics model"
   ]
  },
  {
   "cell_type": "code",
   "execution_count": null,
   "metadata": {
    "ExecuteTime": {
     "end_time": "2018-08-03T20:57:24.578812Z",
     "start_time": "2018-08-03T20:57:23.848062Z"
    },
    "collapsed": true
   },
   "outputs": [],
   "source": [
    "# Figure out number of components to achieve 85% cumulative explained variance\n",
    "from sklearn import decomposition \n",
    "pca=decomposition.PCA(n_components=51)\n",
    "dim_red=pca.fit(wf_scaled)\n",
    "\n",
    "fig =plt.figure()\n",
    "plt.plot(np.cumsum(pca.explained_variance_ratio_),'.-',label='pca')\n",
    "plt.plot([0, 50],[.70,.70],'k',label='70%')\n",
    "plt.plot([0, 50],[.85,.85],'r',label='85%')\n",
    "plt.xlim([15,50])\n",
    "plt.xlabel('Coefficient Number')\n",
    "plt.ylabel('Cumulative Explained Variance Ratio')\n",
    "plt.grid()\n",
    "plt.legend()\n",
    "plt.show()"
   ]
  },
  {
   "cell_type": "markdown",
   "metadata": {},
   "source": [
    "Most of the variance can be explained using 46 components in PCA. \n",
    "\n",
    "I also wanted to look at a simple breakdown of a 2-component PCA to see which features explained the most variance."
   ]
  },
  {
   "cell_type": "code",
   "execution_count": null,
   "metadata": {
    "ExecuteTime": {
     "end_time": "2018-07-18T21:00:00.856816Z",
     "start_time": "2018-07-18T21:00:00.597497Z"
    },
    "collapsed": true,
    "scrolled": true
   },
   "outputs": [],
   "source": [
    "# PCA, 2 component\n",
    "pca = decomposition.PCA(n_components=2)\n",
    "pca.fit_transform(wf_scaled)\n",
    "\n",
    "# Dump components relations with features:\n",
    "#https://stackoverflow.com/questions/22984335/recovering-features-names-of-explained-variance-ratio-in-pca-with-sklearn\n",
    "pca_df = pd.DataFrame(pca.components_,columns=wfdata.columns,index = ['PC-1','PC-2'])\n",
    "pca_df.to_csv('./BLTfigs/wfdata_pca2component.csv')"
   ]
  },
  {
   "cell_type": "code",
   "execution_count": null,
   "metadata": {
    "ExecuteTime": {
     "end_time": "2018-05-25T18:56:31.848979Z",
     "start_time": "2018-05-25T18:56:31.416194Z"
    },
    "collapsed": true
   },
   "outputs": [],
   "source": [
    "# Transform/apply PCA\n",
    "from sklearn import decomposition \n",
    "pca=decomposition.PCA(n_components=46)\n",
    "dim_red=pca.fit_transform(wf_scaled)"
   ]
  },
  {
   "cell_type": "markdown",
   "metadata": {},
   "source": [
    "### PCA for source model"
   ]
  },
  {
   "cell_type": "code",
   "execution_count": null,
   "metadata": {
    "ExecuteTime": {
     "end_time": "2018-07-18T21:01:47.018754Z",
     "start_time": "2018-07-18T21:01:46.373615Z"
    },
    "collapsed": true
   },
   "outputs": [],
   "source": [
    "# Figure out number of components to achieve 85% cumulative explained variance\n",
    "from sklearn import decomposition \n",
    "pca=decomposition.PCA(n_components=70)\n",
    "dim_red_source=pca.fit(wf_source_scaled)\n",
    "\n",
    "fig =plt.figure()\n",
    "plt.plot(np.cumsum(pca.explained_variance_ratio_),'.-',label='pca')\n",
    "plt.plot([0, 50],[.70,.70],'k',label='70%')\n",
    "plt.plot([0, 50],[.85,.85],'r',label='85%')\n",
    "plt.xlim([15,50])\n",
    "plt.xlabel('Coefficient Number')\n",
    "plt.ylabel('Cumulative Explained Variance Ratio')\n",
    "plt.grid()\n",
    "plt.legend()\n",
    "plt.show()"
   ]
  },
  {
   "cell_type": "markdown",
   "metadata": {},
   "source": [
    "Most of the variance can be explained using 45 components in PCA. \n",
    "\n",
    "I also wanted to look at a simple breakdown of a 2-component PCA to see which features explained the most variance."
   ]
  },
  {
   "cell_type": "code",
   "execution_count": null,
   "metadata": {
    "collapsed": true
   },
   "outputs": [],
   "source": [
    "# Figure out number of components to achieve 85% cumulative explained variance\n",
    "from sklearn import decomposition \n",
    "pca=decomposition.PCA(n_components=70)\n",
    "dim_red_source=pca.fit(wf_source_scaled)\n",
    "\n",
    "fig =plt.figure()\n",
    "plt.plot(np.cumsum(pca.explained_variance_ratio_),'.-',label='pca')\n",
    "plt.plot([0, 50],[.70,.70],'k',label='70%')\n",
    "plt.plot([0, 50],[.85,.85],'r',label='85%')\n",
    "plt.xlim([15,50])\n",
    "plt.xlabel('Coefficient Number')\n",
    "plt.ylabel('Cumulative Explained Variance Ratio')\n",
    "plt.grid()\n",
    "plt.legend()\n",
    "plt.show()"
   ]
  },
  {
   "cell_type": "code",
   "execution_count": null,
   "metadata": {
    "ExecuteTime": {
     "end_time": "2018-07-18T21:03:38.727828Z",
     "start_time": "2018-07-18T21:03:38.449812Z"
    },
    "collapsed": true
   },
   "outputs": [],
   "source": [
    "# PCA, 2 component\n",
    "pca = decomposition.PCA(n_components=2)\n",
    "pca.fit_transform(wf_source_scaled)\n",
    "\n",
    "# Dump components relations with features:\n",
    "#https://stackoverflow.com/questions/22984335/recovering-features-names-of-explained-variance-ratio-in-pca-with-sklearn\n",
    "pca_source_df = pd.DataFrame(pca.components_,columns=wfdata.columns,index = ['PC-1','PC-2'])\n",
    "#pca_source_df.to_csv('./BLTfigs/wfsource_pca2component.csv')"
   ]
  },
  {
   "cell_type": "code",
   "execution_count": null,
   "metadata": {
    "ExecuteTime": {
     "end_time": "2018-07-18T21:04:32.074119Z",
     "start_time": "2018-07-18T21:04:31.659086Z"
    },
    "collapsed": true
   },
   "outputs": [],
   "source": [
    "# Transform/apply PCA\n",
    "from sklearn import decomposition \n",
    "pca=decomposition.PCA(n_components=45)\n",
    "dim_red_source=pca.fit_transform(wf_source_scaled)"
   ]
  },
  {
   "cell_type": "markdown",
   "metadata": {},
   "source": [
    "### PCA ENM"
   ]
  },
  {
   "cell_type": "code",
   "execution_count": 98,
   "metadata": {
    "ExecuteTime": {
     "end_time": "2018-09-03T17:33:25.007437Z",
     "start_time": "2018-09-03T17:33:24.998490Z"
    },
    "collapsed": true
   },
   "outputs": [],
   "source": [
    "# Scale the data first (i.e., the chemical properties) so everything is from 0 to 1\n",
    "from sklearn.preprocessing import MinMaxScaler\n",
    "scaler = MinMaxScaler()\n",
    "X_enm_scaled = scaler.fit_transform(X_enm)"
   ]
  },
  {
   "cell_type": "code",
   "execution_count": 99,
   "metadata": {
    "ExecuteTime": {
     "end_time": "2018-09-03T17:33:26.098033Z",
     "start_time": "2018-09-03T17:33:25.869586Z"
    }
   },
   "outputs": [
    {
     "data": {
      "image/png": "[encoded data removed]",
      "text/plain": [
       "<Figure size 432x288 with 1 Axes>"
      ]
     },
     "metadata": {},
     "output_type": "display_data"
    }
   ],
   "source": [
    "# Figure out number of components to achieve 85% cumulative explained variance\n",
    "from sklearn import decomposition \n",
    "pca=decomposition.PCA(n_components=30)\n",
    "dim_red_source=pca.fit(X_enm_scaled)\n",
    "\n",
    "fig =plt.figure()\n",
    "plt.plot(np.cumsum(pca.explained_variance_ratio_),'.-',label='pca')\n",
    "plt.plot([0, 30],[.95,.95],'k',label='95%')\n",
    "plt.plot([0, 30],[.85,.85],'r',label='85%')\n",
    "#plt.xlim([15,50])\n",
    "plt.xlabel('Coefficient Number')\n",
    "plt.ylabel('Cumulative Explained Variance Ratio')\n",
    "plt.grid()\n",
    "plt.legend()\n",
    "plt.show()"
   ]
  },
  {
   "cell_type": "code",
   "execution_count": 100,
   "metadata": {
    "ExecuteTime": {
     "end_time": "2018-09-01T23:15:37.060720Z",
     "start_time": "2018-09-01T23:15:37.049688Z"
    },
    "collapsed": true
   },
   "outputs": [],
   "source": [
    "# PCA, 2 component\n",
    "pca = decomposition.PCA(n_components=2)\n",
    "pca.fit_transform(X_enm_scaled)\n",
    "\n",
    "# Dump components relations with features:\n",
    "#https://stackoverflow.com/questions/22984335/recovering-features-names-of-explained-variance-ratio-in-pca-with-sklearn\n",
    "pca_enm_df = pd.DataFrame(pca.components_,columns=X_enm.columns,index = ['PC-1','PC-2'])\n",
    "pca_enm_df.to_csv('./BLTfigs/enm_pca2component_2.csv')"
   ]
  },
  {
   "cell_type": "code",
   "execution_count": 101,
   "metadata": {
    "ExecuteTime": {
     "end_time": "2018-09-03T17:33:54.880304Z",
     "start_time": "2018-09-03T17:33:54.873953Z"
    },
    "collapsed": true
   },
   "outputs": [],
   "source": [
    "# Transform/apply PCA\n",
    "from sklearn import decomposition \n",
    "pca=decomposition.PCA(n_components=21)\n",
    "dim_red_enm=pca.fit_transform(X_enm_scaled)"
   ]
  },
  {
   "cell_type": "markdown",
   "metadata": {},
   "source": [
    "## Hierarchical Agglomerative Clustering (HAC)"
   ]
  },
  {
   "cell_type": "markdown",
   "metadata": {},
   "source": [
    "Feature Agglomeration sklearn http://scikit-learn.org/stable/modules/generated/sklearn.cluster.FeatureAgglomeration.html"
   ]
  },
  {
   "cell_type": "code",
   "execution_count": null,
   "metadata": {
    "ExecuteTime": {
     "end_time": "2018-05-29T02:53:30.038792Z",
     "start_time": "2018-05-29T02:53:29.243430Z"
    },
    "collapsed": true
   },
   "outputs": [],
   "source": [
    "# Feature Agglomeration (Clustering)\n",
    "# Functions and product categories\n",
    "from sklearn.cluster import FeatureAgglomeration\n",
    "agg = FeatureAgglomeration(n_clusters=2, affinity=\"cosine\", linkage=\"average\") #, compute_full_tree=’auto’\n",
    "agg.fit(X) #+0.0001\n",
    "#Xred = agg.fit_transform(X) # fit to data, then transform it\n",
    "#agg.fit_predict(distance)  # Returns cluster labels\n",
    "#https://stackoverflow.com/questions/44834944/agglomerative-clustering-in-sklearn"
   ]
  },
  {
   "cell_type": "code",
   "execution_count": null,
   "metadata": {
    "ExecuteTime": {
     "end_time": "2018-05-29T02:53:40.266362Z",
     "start_time": "2018-05-29T02:53:40.253427Z"
    },
    "collapsed": true
   },
   "outputs": [],
   "source": [
    "# Create plot_dendrogram function for sklearn clustering\n",
    "# https://github.com/scikit-learn/scikit-learn/blob/70cf4a676caa2d2dad2e3f6e4478d64bcb0506f7/examples/cluster/plot_hierarchical_clustering_dendrogram.py\n",
    "from scipy.cluster.hierarchy import dendrogram\n",
    "def plot_dendrogram(model, **kwargs):\n",
    "    # Children of hierarchical clustering\n",
    "    children = agg.children_\n",
    "    # Distances between each pair of children\n",
    "    # Since we don't have this information, we can use a uniform one for plotting\n",
    "    distance = np.arange(children.shape[0])\n",
    "    # The number of observations contained in each cluster level\n",
    "    no_of_observations = np.arange(2, children.shape[0]+2)\n",
    "    # Create linkage matrix and then plot the dendrogram\n",
    "    linkage_matrix = np.column_stack([children, distance, no_of_observations]).astype(float)\n",
    "    # Plot the corresponding dendrogram\n",
    "    dendrogram(linkage_matrix, **kwargs)"
   ]
  },
  {
   "cell_type": "code",
   "execution_count": null,
   "metadata": {
    "ExecuteTime": {
     "end_time": "2018-05-29T02:53:52.336501Z",
     "start_time": "2018-05-29T02:53:50.364397Z"
    },
    "collapsed": true
   },
   "outputs": [],
   "source": [
    "# Functions and product categories dendrogram\n",
    "fig=plt.figure(figsize=(40, 15))\n",
    "plt.title('Hierarchical Clustering Dendrogram')\n",
    "plt.xlabel('Feature Index')\n",
    "plt.ylabel('Distance')\n",
    "plot_dendrogram(agg, labels=feat_names)\n",
    "plt.show()\n",
    "savepdf(fig,'sklearn_dendrogram_both2')"
   ]
  },
  {
   "cell_type": "code",
   "execution_count": null,
   "metadata": {
    "ExecuteTime": {
     "end_time": "2018-05-29T02:54:15.682120Z",
     "start_time": "2018-05-29T02:54:15.628914Z"
    },
    "collapsed": true
   },
   "outputs": [],
   "source": [
    "# Feature Agglomeration (Clustering)\n",
    "# Functions\n",
    "agg = FeatureAgglomeration(n_clusters=2, affinity=\"cosine\", linkage=\"average\")\n",
    "agg.fit(Xf) #Xf+0.0001"
   ]
  },
  {
   "cell_type": "code",
   "execution_count": null,
   "metadata": {
    "ExecuteTime": {
     "end_time": "2018-05-29T02:54:30.123645Z",
     "start_time": "2018-05-29T02:54:29.419305Z"
    },
    "collapsed": true
   },
   "outputs": [],
   "source": [
    "# Functions dendrogram\n",
    "fig2=plt.figure(figsize=(40, 15))\n",
    "plt.title('Hierarchical Clustering Dendrogram')\n",
    "plt.xlabel('Feature Index')\n",
    "plt.ylabel('Distance')\n",
    "plot_dendrogram(agg, labels=func_names) #\n",
    "plt.show()\n",
    "savepdf(fig2,'sklearn_dendrogram_func2')"
   ]
  },
  {
   "cell_type": "code",
   "execution_count": null,
   "metadata": {
    "ExecuteTime": {
     "end_time": "2018-05-29T02:55:01.538130Z",
     "start_time": "2018-05-29T02:55:01.040458Z"
    },
    "collapsed": true
   },
   "outputs": [],
   "source": [
    "# Feature Agglomeration (Clustering)\n",
    "# Product categories\n",
    "agg = FeatureAgglomeration(n_clusters=18, affinity=\"cosine\", linkage=\"average\") #, compute_full_tree=’auto’\n",
    "agg.fit(Xp) #Xp+0.0001"
   ]
  },
  {
   "cell_type": "code",
   "execution_count": null,
   "metadata": {
    "ExecuteTime": {
     "end_time": "2018-05-29T02:55:07.085957Z",
     "start_time": "2018-05-29T02:55:05.326744Z"
    },
    "collapsed": true
   },
   "outputs": [],
   "source": [
    "# Product categories dendrogram\n",
    "fig3=plt.figure(figsize=(40, 15))\n",
    "plt.title('Hierarchical Clustering Dendrogram')\n",
    "plt.xlabel('Feature Index')\n",
    "plt.ylabel('Distance')\n",
    "plot_dendrogram(agg, labels=PUC_names)\n",
    "plt.show()\n",
    "savepdf(fig3,'sklearn_dendrogram_PUC2')"
   ]
  },
  {
   "cell_type": "markdown",
   "metadata": {},
   "source": [
    "### Alternate clustering approach"
   ]
  },
  {
   "cell_type": "markdown",
   "metadata": {},
   "source": [
    "Alternate approach\n",
    "https://joernhees.de/blog/2015/08/26/scipy-hierarchical-clustering-and-dendrogram-tutorial/"
   ]
  },
  {
   "cell_type": "code",
   "execution_count": null,
   "metadata": {
    "ExecuteTime": {
     "end_time": "2018-09-01T23:16:07.535087Z",
     "start_time": "2018-09-01T23:16:06.689800Z"
    },
    "collapsed": true
   },
   "outputs": [],
   "source": [
    "# Distance matrix using cosine\n",
    "# Functions and Product Category Features\n",
    "\n",
    "from scipy.spatial.distance import squareform, pdist, cosine\n",
    "from scipy.cluster.hierarchy import dendrogram, linkage\n",
    "\n",
    "# https://stackoverflow.com/questions/35639571/python-pandas-distance-matrix-using-jaccard-similarity\n",
    "res = 1-pdist(X.T, 'cosine') # transform to find similarity between features (not datapoints)\n",
    "distance = pd.DataFrame(squareform(res), index=feat_names, columns=feat_names)\n",
    "#distance"
   ]
  },
  {
   "cell_type": "code",
   "execution_count": null,
   "metadata": {
    "ExecuteTime": {
     "end_time": "2018-09-01T23:16:07.594335Z",
     "start_time": "2018-09-01T23:16:07.538189Z"
    },
    "collapsed": true
   },
   "outputs": [],
   "source": [
    "# Distance matrix using Jaccard similarity\n",
    "# Functions only\n",
    "\n",
    "from scipy.spatial.distance import squareform, pdist, jaccard\n",
    "from scipy.cluster.hierarchy import dendrogram, linkage\n",
    "\n",
    "res1 = 1-pdist(Xf.T, 'jaccard') # transform to find similarity between features (not datapoints)\n",
    "distance1 = pd.DataFrame(squareform(res1), index=func_names, columns=func_names)\n",
    "#distance1"
   ]
  },
  {
   "cell_type": "code",
   "execution_count": null,
   "metadata": {
    "ExecuteTime": {
     "end_time": "2018-09-01T23:16:07.650962Z",
     "start_time": "2018-09-01T23:16:07.597311Z"
    },
    "collapsed": true
   },
   "outputs": [],
   "source": [
    "# Distance matrix using cosine\n",
    "# Functions only\n",
    "\n",
    "from scipy.spatial.distance import squareform, pdist, cosine\n",
    "from scipy.cluster.hierarchy import dendrogram, linkage\n",
    "\n",
    "res2 = 1-pdist(Xf.T, 'cosine') # transform to find similarity between features (not datapoints)\n",
    "distance2 = pd.DataFrame(squareform(res2), index=func_names, columns=func_names)\n",
    "#distance2"
   ]
  },
  {
   "cell_type": "code",
   "execution_count": null,
   "metadata": {
    "ExecuteTime": {
     "end_time": "2018-09-01T23:16:07.987129Z",
     "start_time": "2018-09-01T23:16:07.978619Z"
    },
    "collapsed": true
   },
   "outputs": [],
   "source": [
    "###############\n",
    "# Distance matrix using cosine\n",
    "# ENM Functions and Product Category Features\n",
    "\n",
    "from scipy.spatial.distance import squareform, pdist, cosine\n",
    "from scipy.cluster.hierarchy import dendrogram, linkage\n",
    "\n",
    "# https://stackoverflow.com/questions/35639571/python-pandas-distance-matrix-using-jaccard-similarity\n",
    "res_enm = 1-pdist(Xfp_enm.T, 'cosine') # transform to find similarity between features (not datapoints)\n",
    "distance_enm = pd.DataFrame(squareform(res_enm), index=enm_all_names, columns=enm_all_names)"
   ]
  },
  {
   "cell_type": "code",
   "execution_count": null,
   "metadata": {
    "ExecuteTime": {
     "end_time": "2018-09-01T23:16:08.848823Z",
     "start_time": "2018-09-01T23:16:08.785047Z"
    },
    "collapsed": true
   },
   "outputs": [],
   "source": [
    "distance_enm"
   ]
  },
  {
   "cell_type": "code",
   "execution_count": null,
   "metadata": {
    "ExecuteTime": {
     "end_time": "2018-09-01T23:16:13.276253Z",
     "start_time": "2018-09-01T23:16:13.004799Z"
    },
    "collapsed": true
   },
   "outputs": [],
   "source": [
    "# Organics Functions and Product Category Features\n",
    "from textwrap import wrap\n",
    "fig=plt.imshow(distance)\n",
    "#plt.title('Distance Matrix (Cosine) of Function and Product Category Features')\n",
    "plt.title(\"\\n\".join(wrap(\"Distance Matrix (Cosine) of Function and Product Category Features\", 60)))\n",
    "plt.colorbar()\n",
    "plt.savefig('./BLTfigs/distmatrix_function-PUC_cosine.png')"
   ]
  },
  {
   "cell_type": "code",
   "execution_count": null,
   "metadata": {
    "ExecuteTime": {
     "end_time": "2018-09-01T23:16:14.049069Z",
     "start_time": "2018-09-01T23:16:13.819858Z"
    },
    "collapsed": true
   },
   "outputs": [],
   "source": [
    "fig=plt.imshow(distance1)\n",
    "plt.title('Distance Matrix (Jaccard Similarity) of Function Features')\n",
    "plt.colorbar()\n",
    "plt.savefig('./BLTfigs/distmatrix_function_only_jaccard.png')"
   ]
  },
  {
   "cell_type": "code",
   "execution_count": null,
   "metadata": {
    "ExecuteTime": {
     "end_time": "2018-09-01T23:16:14.905510Z",
     "start_time": "2018-09-01T23:16:14.651599Z"
    },
    "collapsed": true
   },
   "outputs": [],
   "source": [
    "fig=plt.imshow(distance2)\n",
    "plt.title('Distance Matrix (Cosine) of Function Features')\n",
    "plt.colorbar()\n",
    "plt.savefig('./BLTfigs/distmatrix_function_only_cosine.png')"
   ]
  },
  {
   "cell_type": "code",
   "execution_count": null,
   "metadata": {
    "ExecuteTime": {
     "end_time": "2018-09-01T23:16:18.097388Z",
     "start_time": "2018-09-01T23:16:17.851232Z"
    },
    "collapsed": true
   },
   "outputs": [],
   "source": [
    "# ENM Functions and Product Category Features\n",
    "from textwrap import wrap\n",
    "fig=plt.imshow(distance_enm)\n",
    "#plt.title('Distance Matrix (Cosine) of Function and Product Category Features')\n",
    "plt.title(\"\\n\".join(wrap(\"Distance Matrix (Cosine) of ENM Function and Product Category Features\", 60)))\n",
    "plt.colorbar()\n",
    "plt.savefig('./BLTfigs/enm_distmatrix_function-PUC_cosine.png')"
   ]
  },
  {
   "cell_type": "code",
   "execution_count": null,
   "metadata": {
    "ExecuteTime": {
     "end_time": "2018-08-03T19:20:23.093068Z",
     "start_time": "2018-08-03T19:20:23.025355Z"
    },
    "collapsed": true
   },
   "outputs": [],
   "source": [
    "# Generate linkage matrix\n",
    "# Organics Functions only\n",
    "#https://stackoverflow.com/questions/18952587/use-distance-matrix-in-scipy-cluster-hierarchy-linkage\n",
    "#https://stackoverflow.com/questions/33721996/how-to-specify-a-distance-function-for-clustering\n",
    "from scipy.spatial.distance import squareform, pdist, cosine\n",
    "from scipy.cluster.hierarchy import dendrogram, linkage\n",
    "#Xfx = Xf+0.0001\n",
    "Z = linkage((Xf.T), method='average', metric='cosine')\n",
    "\n",
    "# Z-array with format [idx1, idx2, dist, sample_count]\n",
    "Z[:5]"
   ]
  },
  {
   "cell_type": "code",
   "execution_count": null,
   "metadata": {
    "ExecuteTime": {
     "end_time": "2018-08-03T19:28:29.725041Z",
     "start_time": "2018-08-03T19:28:28.803470Z"
    },
    "collapsed": true
   },
   "outputs": [],
   "source": [
    "# Calculate full dendrogram\n",
    "# Organic functions only\n",
    "\n",
    "fig=plt.figure(figsize=(40, 15))\n",
    "plt.title('Hierarchical Clustering Dendrogram')\n",
    "plt.xlabel('Feature Index')\n",
    "plt.ylabel('Distance')\n",
    "dendrogram(\n",
    "    Z,\n",
    "    leaf_rotation=90.,  # rotates the x axis labels\n",
    "    leaf_font_size=12.,  # font size for the x axis labels\n",
    "    labels=func_names\n",
    ")\n",
    "plt.axhline(y=0.36, color='gray', linestyle='--')\n",
    "plt.tight_layout() # x-labels don't get cut off\n",
    "plt.show()\n",
    "savepdf(fig,'cluster_dendrogram_func-only3')"
   ]
  },
  {
   "cell_type": "markdown",
   "metadata": {},
   "source": [
    "Reading the dendrogram: heights of the horizontal lines tell you about the distance that needed to be \"bridged\" to form the new cluster."
   ]
  },
  {
   "cell_type": "markdown",
   "metadata": {},
   "source": [
    "Optimize the number of clusters using the elbow method, which estimates the clustering step where the acceleration of distance growth is largest."
   ]
  },
  {
   "cell_type": "code",
   "execution_count": null,
   "metadata": {
    "ExecuteTime": {
     "end_time": "2018-08-01T20:59:54.941301Z",
     "start_time": "2018-08-01T20:59:54.733178Z"
    },
    "collapsed": true
   },
   "outputs": [],
   "source": [
    "# Optimize n_clusters with Elbow Method\n",
    "# Organic functions only\n",
    "\n",
    "last = Z[-63:, 2]\n",
    "last_rev = last[::-1]\n",
    "idxs = np.arange(1, len(last) + 1)\n",
    "acceleration = np.diff(last, 2)  # 2nd derivative of the distances\n",
    "acceleration_rev = acceleration[::-1]\n",
    "\n",
    "plt.plot(idxs, last_rev, label='distance')\n",
    "plt.axhline(y=0.016, color='gray', linestyle='--')\n",
    "plt.plot(idxs[:-2] + 1, acceleration_rev, label='acceleration')\n",
    "plt.title('Elbow Method to determine n_clusters of functions')\n",
    "plt.legend(bbox_to_anchor=(1.05, 1), loc=1, borderaxespad=0.)\n",
    "plt.xlim([10,62])\n",
    "#plt.ylim([-.05,.1])\n",
    "plt.savefig('./BLTfigs/elbow_func-only2.png')\n",
    "plt.show()\n",
    "\n",
    "k = acceleration_rev.argmax() + 2  # if idx 0 is the max of this we want 2 clusters\n",
    "print(\"clusters:\", k)\n",
    "\n",
    "# look for spikes in orange"
   ]
  },
  {
   "cell_type": "markdown",
   "metadata": {},
   "source": [
    "Clusters to try: 17, 27, 32, 46, 55\n",
    "\n",
    "Do same with product category features."
   ]
  },
  {
   "cell_type": "code",
   "execution_count": null,
   "metadata": {
    "ExecuteTime": {
     "end_time": "2018-05-29T03:00:22.983967Z",
     "start_time": "2018-05-29T03:00:22.500638Z"
    },
    "collapsed": true
   },
   "outputs": [],
   "source": [
    "# Distance matrix using cosine\n",
    "# Product categories only\n",
    "\n",
    "from scipy.spatial.distance import squareform, pdist, cosine\n",
    "from scipy.cluster.hierarchy import dendrogram, linkage, cophenet\n",
    "\n",
    "res2 = 1-pdist(Xp.T, 'cosine') # transform to find similarity between features (not datapoints)\n",
    "distance2 = pd.DataFrame(squareform(res2), index=PUC_names, columns=PUC_names)\n",
    "#distance2"
   ]
  },
  {
   "cell_type": "code",
   "execution_count": null,
   "metadata": {
    "ExecuteTime": {
     "end_time": "2018-05-29T03:00:28.006180Z",
     "start_time": "2018-05-29T03:00:27.781984Z"
    },
    "collapsed": true
   },
   "outputs": [],
   "source": [
    "fig=plt.imshow(distance2)\n",
    "plt.title('Distance Matrix (Cosine) of Product Category Features')\n",
    "plt.colorbar()\n",
    "plt.savefig('./BLTfigs/distmatrix_PUC_only_cosine2.png')"
   ]
  },
  {
   "cell_type": "code",
   "execution_count": null,
   "metadata": {
    "ExecuteTime": {
     "end_time": "2018-07-18T21:07:48.166520Z",
     "start_time": "2018-07-18T21:07:47.623436Z"
    },
    "collapsed": true
   },
   "outputs": [],
   "source": [
    "# Generate linkage matrix\n",
    "# Product categories only\n",
    "\n",
    "# Z-array with format [idx1, idx2, dist, sample_count]\n",
    "Z = linkage(Xp.T, method='average', metric='cosine')\n",
    "Z[:5]"
   ]
  },
  {
   "cell_type": "code",
   "execution_count": null,
   "metadata": {
    "ExecuteTime": {
     "end_time": "2018-07-18T21:08:20.233138Z",
     "start_time": "2018-07-18T21:08:18.449433Z"
    },
    "collapsed": true
   },
   "outputs": [],
   "source": [
    "# Calculate full dendrogram\n",
    "# Product categories only\n",
    "\n",
    "fig=plt.figure(figsize=(40, 15))\n",
    "plt.title('Hierarchical Clustering Dendrogram')\n",
    "plt.xlabel('Feature Index')\n",
    "plt.ylabel('Distance')\n",
    "dendrogram(\n",
    "    Z,\n",
    "    leaf_rotation=90.,  # rotates the x axis labels\n",
    "    leaf_font_size=8.,  # font size for the x axis labels\n",
    "    labels=PUC_names\n",
    ")\n",
    "plt.show()\n",
    "savepdf(fig,'cluster_dendrogram_PUC-only3')"
   ]
  },
  {
   "cell_type": "code",
   "execution_count": null,
   "metadata": {
    "ExecuteTime": {
     "end_time": "2018-07-18T21:10:23.490784Z",
     "start_time": "2018-07-18T21:10:23.206498Z"
    },
    "collapsed": true
   },
   "outputs": [],
   "source": [
    "# Optimize n_clusters with Elbow Method\n",
    "# Product categories only\n",
    "\n",
    "last = Z[-216:, 2]\n",
    "last_rev = last[::-1]\n",
    "idxs = np.arange(1, len(last) + 1)\n",
    "acceleration = np.diff(last, 2)  # 2nd derivative of the distances\n",
    "acceleration_rev = acceleration[::-1]\n",
    "\n",
    "plt.plot(idxs, last_rev, label='distance')\n",
    "plt.axhline(y=0.01, color='gray', linestyle='--')\n",
    "plt.plot(idxs[:-2] + 1, acceleration_rev, label='acceleration')\n",
    "plt.title('Elbow Method to determine n_clusters of product categories')\n",
    "plt.legend(bbox_to_anchor=(1.05, 1), loc=1, borderaxespad=0.)\n",
    "#plt.xlim([10,40])\n",
    "#plt.ylim([-.05,.1])\n",
    "plt.savefig('./BLTfigs/elbow_PUC-only2.png')\n",
    "plt.show()\n",
    "\n",
    "k = acceleration_rev.argmax() + 2  # if idx 0 is the max of this we want 2 clusters\n",
    "print(\"clusters:\", k)\n",
    "\n",
    "# look for spikes in orange"
   ]
  },
  {
   "cell_type": "markdown",
   "metadata": {},
   "source": [
    "Clusters to try: 183, 176, 156, 147, 134, 106"
   ]
  },
  {
   "cell_type": "markdown",
   "metadata": {},
   "source": [
    "Now to repeat with ENM functions."
   ]
  },
  {
   "cell_type": "code",
   "execution_count": null,
   "metadata": {
    "ExecuteTime": {
     "end_time": "2018-09-01T23:16:29.817940Z",
     "start_time": "2018-09-01T23:16:29.807132Z"
    },
    "collapsed": true
   },
   "outputs": [],
   "source": [
    "# Generate linkage matrix\n",
    "# ENM Functions only\n",
    "from scipy.spatial.distance import squareform, pdist, cosine\n",
    "from scipy.cluster.hierarchy import dendrogram, linkage\n",
    "Z = linkage((Xf_enm.T), method='average', metric='cosine')\n",
    "\n",
    "# Z-array with format [idx1, idx2, dist, sample_count]\n",
    "Z[:5]"
   ]
  },
  {
   "cell_type": "code",
   "execution_count": null,
   "metadata": {
    "ExecuteTime": {
     "end_time": "2018-09-01T23:16:33.978954Z",
     "start_time": "2018-09-01T23:16:33.535858Z"
    },
    "collapsed": true
   },
   "outputs": [],
   "source": [
    "# Calculate full dendrogram\n",
    "# ENM Functions only\n",
    "\n",
    "fig=plt.figure(figsize=(30, 15))\n",
    "plt.title('Hierarchical Clustering Dendrogram')\n",
    "plt.xlabel('Feature Index')\n",
    "plt.ylabel('Distance')\n",
    "dendrogram(\n",
    "    Z,\n",
    "    leaf_rotation=90.,  # rotates the x axis labels\n",
    "    leaf_font_size=12.,  # font size for the x axis labels\n",
    "    labels=enm_func_names\n",
    ")\n",
    "plt.axhline(y=0.4, color='gray', linestyle='--')\n",
    "plt.show()\n",
    "savepdf(fig,'enm_cluster_dendrogram_func-only')"
   ]
  },
  {
   "cell_type": "code",
   "execution_count": null,
   "metadata": {
    "ExecuteTime": {
     "end_time": "2018-09-01T23:17:12.935328Z",
     "start_time": "2018-09-01T23:17:12.725896Z"
    },
    "collapsed": true
   },
   "outputs": [],
   "source": [
    "# Optimize n_clusters with Elbow Method\n",
    "# Organic functions only\n",
    "\n",
    "last = Z[-16:, 2]\n",
    "last_rev = last[::-1]\n",
    "idxs = np.arange(1, len(last) + 1)\n",
    "acceleration = np.diff(last, 2)  # 2nd derivative of the distances\n",
    "acceleration_rev = acceleration[::-1]\n",
    "\n",
    "plt.plot(idxs, last_rev, label='distance')\n",
    "plt.axhline(y=0.016, color='gray', linestyle='--')\n",
    "plt.plot(idxs[:-2] + 1, acceleration_rev, label='acceleration')\n",
    "plt.title('Elbow Method to determine n_clusters of functions')\n",
    "plt.legend(bbox_to_anchor=(1.05, 1), loc=1, borderaxespad=0.)\n",
    "#plt.xlim([10,62])\n",
    "#plt.ylim([-.05,.1])\n",
    "plt.savefig('./BLTfigs/enm_elbow_func-only.png')\n",
    "plt.show()\n",
    "\n",
    "k = acceleration_rev.argmax() + 2  # if idx 0 is the max of this we want 2 clusters\n",
    "print(\"clusters:\", k)\n",
    "\n",
    "# look for spikes in orange\n",
    "# 13,10,8"
   ]
  },
  {
   "cell_type": "markdown",
   "metadata": {},
   "source": [
    "Now to repeat with ENM product categories."
   ]
  },
  {
   "cell_type": "code",
   "execution_count": null,
   "metadata": {
    "ExecuteTime": {
     "end_time": "2018-09-01T23:18:08.248131Z",
     "start_time": "2018-09-01T23:18:08.242617Z"
    },
    "collapsed": true
   },
   "outputs": [],
   "source": [
    "# Generate linkage matrix\n",
    "# ENM PUCs only\n",
    "Z = linkage((Xp_enm.T), method='average', metric='cosine')\n",
    "# Z-array with format [idx1, idx2, dist, sample_count]\n",
    "np.savetxt(\"./BLTfigs/Z_puc.csv\", Z, delimiter=\",\")"
   ]
  },
  {
   "cell_type": "code",
   "execution_count": null,
   "metadata": {
    "ExecuteTime": {
     "end_time": "2018-09-01T23:18:09.561227Z",
     "start_time": "2018-09-01T23:18:08.714925Z"
    },
    "collapsed": true
   },
   "outputs": [],
   "source": [
    "# Calculate full dendrogram\n",
    "# ENM PUCs only\n",
    "\n",
    "fig=plt.figure(figsize=(40, 25))\n",
    "plt.title('Hierarchical Clustering Dendrogram')\n",
    "plt.xlabel('Feature Index')\n",
    "plt.ylabel('Distance')\n",
    "dendrogram(\n",
    "    Z,\n",
    "    leaf_rotation=90.,  # rotates the x axis labels\n",
    "    leaf_font_size=12.,  # font size for the x axis labels\n",
    "    labels=enm_PUC_names\n",
    ")\n",
    "plt.axhline(y=0.58, color='gray', linestyle='--')\n",
    "plt.show()\n",
    "savepdf(fig,'enm_cluster_dendrogram_PUC-nomatrix')"
   ]
  },
  {
   "cell_type": "code",
   "execution_count": null,
   "metadata": {
    "ExecuteTime": {
     "end_time": "2018-09-01T23:19:23.484919Z",
     "start_time": "2018-09-01T23:19:23.286551Z"
    },
    "collapsed": true
   },
   "outputs": [],
   "source": [
    "# Optimize n_clusters with Elbow Method\n",
    "# Organic functions only\n",
    "\n",
    "last = Z[-36:, 2]\n",
    "last_rev = last[::-1]\n",
    "idxs = np.arange(1, len(last) + 1)\n",
    "acceleration = np.diff(last, 2)  # 2nd derivative of the distances\n",
    "acceleration_rev = acceleration[::-1]\n",
    "\n",
    "plt.plot(idxs, last_rev, label='distance')\n",
    "plt.axhline(y=0.016, color='gray', linestyle='--')\n",
    "plt.plot(idxs[:-2] + 1, acceleration_rev, label='acceleration')\n",
    "plt.title('Elbow Method to determine n_clusters of functions')\n",
    "plt.legend(bbox_to_anchor=(1.05, 1), loc=1, borderaxespad=0.)\n",
    "plt.xlim([5,30])\n",
    "#plt.ylim([-.05,.1])\n",
    "plt.savefig('./BLTfigs/enm_elbow_PUC-nomatrix.png')\n",
    "plt.show()\n",
    "\n",
    "k = acceleration_rev.argmax() + 2  # if idx 0 is the max of this we want 2 clusters\n",
    "print(\"clusters:\", k)\n",
    "\n",
    "# look for spikes in orange"
   ]
  },
  {
   "cell_type": "markdown",
   "metadata": {},
   "source": [
    "Clusters to try: 17, 19, 22, 28"
   ]
  },
  {
   "cell_type": "markdown",
   "metadata": {},
   "source": [
    "### Helper class for selecting best estimator"
   ]
  },
  {
   "cell_type": "markdown",
   "metadata": {},
   "source": [
    "Estimator Selection Helper by David Batista\n",
    "http://www.davidsbatista.net/blog/2018/02/23/model_optimization/"
   ]
  },
  {
   "cell_type": "code",
   "execution_count": null,
   "metadata": {
    "ExecuteTime": {
     "end_time": "2018-07-18T21:16:25.203079Z",
     "start_time": "2018-07-18T21:16:25.087206Z"
    },
    "collapsed": true
   },
   "outputs": [],
   "source": [
    "# Set up for grid search across multiple pipelines\n",
    "from sklearn.model_selection import GridSearchCV\n",
    "\n",
    "cv=5\n",
    "class EstimatorSelectionHelper:\n",
    "\n",
    "    def __init__(self, models, params):\n",
    "        if not set(models.keys()).issubset(set(params.keys())):\n",
    "            missing_params = list(set(models.keys()) - set(params.keys()))\n",
    "            raise ValueError(\"Some estimators are missing parameters: %s\" % missing_params)\n",
    "        self.models = models\n",
    "        self.params = params\n",
    "        self.keys = models.keys()\n",
    "        self.grid_searches = {}\n",
    "\n",
    "    def fit(self, X, y, cv=cv, n_jobs=1, verbose=1, scoring='explained_variance', refit=False): #scoring=None\n",
    "        for key in self.keys:\n",
    "            print(\"Running GridSearchCV for %s.\" % key)\n",
    "            model = self.models[key]\n",
    "            params = self.params[key]\n",
    "            gs = GridSearchCV(model, params, cv=cv, n_jobs=n_jobs,\n",
    "                              verbose=verbose, scoring=scoring, refit=refit,\n",
    "                              return_train_score=True)\n",
    "            gs.fit(X,y)\n",
    "            self.grid_searches[key] = gs    \n",
    "\n",
    "    def score_summary(self, sort_by='mean_score'):\n",
    "        def row(key, scores, params):\n",
    "            d = {\n",
    "                 'estimator': key,\n",
    "                 'min_score': min(scores),\n",
    "                 'max_score': max(scores),\n",
    "                 'mean_score': np.mean(scores),\n",
    "                 'std_score': np.std(scores),\n",
    "            }\n",
    "            return pd.Series({**params,**d})\n",
    "        rows = []\n",
    "        for k in self.grid_searches:\n",
    "            print(k)\n",
    "            params = self.grid_searches[k].cv_results_['params']\n",
    "            scores = []\n",
    "            for i in range(self.grid_searches[k].cv):\n",
    "                key = \"split{}_test_score\".format(i)\n",
    "                r = self.grid_searches[k].cv_results_[key]        \n",
    "                scores.append(r.reshape(len(params),1))\n",
    "\n",
    "            all_scores = np.hstack(scores)\n",
    "            for p, s in zip(params,all_scores):\n",
    "                rows.append((row(k, s, p)))\n",
    "                \n",
    "        df = pd.concat(rows, axis=1).T.sort_values([sort_by], ascending=False)\n",
    "\n",
    "        columns = ['estimator', 'min_score', 'mean_score', 'max_score', 'std_score']\n",
    "        columns = columns + [c for c in df.columns if c not in columns]\n",
    "\n",
    "        return df[columns]"
   ]
  },
  {
   "cell_type": "code",
   "execution_count": null,
   "metadata": {
    "ExecuteTime": {
     "end_time": "2018-07-18T21:16:32.263058Z",
     "start_time": "2018-07-18T21:16:32.254785Z"
    },
    "collapsed": true
   },
   "outputs": [],
   "source": [
    "# Define sets of models and their respective parameters to compare\n",
    "# The first dictionary contains the models to be scored\n",
    "# while the second contains the parameters for each model\n",
    "\n",
    "from sklearn.cluster import FeatureAgglomeration\n",
    "from sklearn.svm import SVR\n",
    "from sklearn.ensemble import RandomForestRegressor\n",
    "\n",
    "cv=5\n",
    "models1 = {\n",
    "    'RandomForest': RandomForestRegressor(),\n",
    "    'SVR': SVR()\n",
    "}\n",
    "\n",
    "params1 = {\n",
    "    'RandomForest': { 'n_estimators': [8,16]},\n",
    "    'SVR': [\n",
    "        {'kernel': ['linear'], 'C': [1,5]},\n",
    "        {'kernel': ['rbf'], 'C': [1,5], 'gamma': [0.0001,0.001]},\n",
    "    ]\n",
    "}"
   ]
  },
  {
   "cell_type": "markdown",
   "metadata": {},
   "source": [
    "First use this for Function feature agglomeration."
   ]
  },
  {
   "cell_type": "code",
   "execution_count": null,
   "metadata": {
    "ExecuteTime": {
     "end_time": "2018-07-18T21:49:31.081687Z",
     "start_time": "2018-07-18T21:16:34.906461Z"
    },
    "collapsed": true
   },
   "outputs": [],
   "source": [
    "### RERUN ###\n",
    "# Fit gridsearch models to select best estimator\n",
    "# Function features only\n",
    "helper1 = EstimatorSelectionHelper(models1, params1)\n",
    "helper1.fit(wf_source_scaled, y_log, n_jobs=3)\n",
    "\n",
    "# Play sound when cell is done running\n",
    "Audio(url=sound_file, autoplay=True)"
   ]
  },
  {
   "cell_type": "code",
   "execution_count": null,
   "metadata": {
    "ExecuteTime": {
     "end_time": "2018-07-18T21:53:55.983419Z",
     "start_time": "2018-07-18T21:53:55.932821Z"
    },
    "collapsed": true
   },
   "outputs": [],
   "source": [
    "# Compare performance for estimators (explained variance)\n",
    "# All features\n",
    "helper1.score_summary(sort_by='mean_score')"
   ]
  },
  {
   "cell_type": "code",
   "execution_count": null,
   "metadata": {
    "ExecuteTime": {
     "end_time": "2018-07-18T22:09:06.253700Z",
     "start_time": "2018-07-18T21:59:35.224258Z"
    },
    "collapsed": true
   },
   "outputs": [],
   "source": [
    "# Fit gridsearch models to select best estimator\n",
    "# Function features only\n",
    "helper1 = EstimatorSelectionHelper(models1, params1)\n",
    "helper1.fit(Xf, y_log, n_jobs=3) # +0.0001\n",
    "\n",
    "# Play sound when cell is done running\n",
    "Audio(url=sound_file, autoplay=True)"
   ]
  },
  {
   "cell_type": "code",
   "execution_count": null,
   "metadata": {
    "ExecuteTime": {
     "end_time": "2018-07-18T22:20:24.877692Z",
     "start_time": "2018-07-18T22:20:24.843370Z"
    },
    "collapsed": true
   },
   "outputs": [],
   "source": [
    "# Compare performance for estimators (explained variance)\n",
    "# Function features only\n",
    "helper1.score_summary(sort_by='mean_score')"
   ]
  },
  {
   "cell_type": "markdown",
   "metadata": {},
   "source": [
    "An SVR-RBF was selected as the best estimator for the function features."
   ]
  },
  {
   "cell_type": "markdown",
   "metadata": {},
   "source": [
    "Now for the product category features."
   ]
  },
  {
   "cell_type": "code",
   "execution_count": null,
   "metadata": {
    "ExecuteTime": {
     "end_time": "2018-07-18T22:46:53.275205Z",
     "start_time": "2018-07-18T22:22:25.266811Z"
    },
    "collapsed": true
   },
   "outputs": [],
   "source": [
    "# Fit gridsearch models to select best estimator\n",
    "# Product category features only\n",
    "helper2 = EstimatorSelectionHelper(models1, params1)\n",
    "helper2.fit(Xp, y_log, n_jobs=3) # n_jobs=1 by default\n",
    "\n",
    "# Play sound when cell is done running\n",
    "Audio(url=sound_file, autoplay=True)"
   ]
  },
  {
   "cell_type": "code",
   "execution_count": null,
   "metadata": {
    "ExecuteTime": {
     "end_time": "2018-07-18T23:21:58.191991Z",
     "start_time": "2018-07-18T23:21:58.144589Z"
    },
    "collapsed": true
   },
   "outputs": [],
   "source": [
    "# Compare performance for estimators (explained variance)\n",
    "# Product category features only\n",
    "helper2.score_summary(sort_by='mean_score')"
   ]
  },
  {
   "cell_type": "markdown",
   "metadata": {},
   "source": [
    "An SVR-RBF was also selected as the best estimator for the product category features."
   ]
  },
  {
   "cell_type": "code",
   "execution_count": null,
   "metadata": {
    "ExecuteTime": {
     "end_time": "2018-07-18T23:30:30.302200Z",
     "start_time": "2018-07-18T23:30:30.293280Z"
    },
    "collapsed": true
   },
   "outputs": [],
   "source": [
    "# Define sets of models and their respective parameters to compare\n",
    "# The first dictionary contains the models to be scored\n",
    "# while the second contains the parameters for each model\n",
    "\n",
    "from sklearn.cluster import FeatureAgglomeration\n",
    "from sklearn.svm import SVR\n",
    "from sklearn.ensemble import RandomForestRegressor\n",
    "\n",
    "cv=5\n",
    "models1 = {\n",
    "    'RandomForest': RandomForestRegressor(),\n",
    "    'SVR': SVR()\n",
    "}\n",
    "\n",
    "params1 = {\n",
    "    'RandomForest': { 'n_estimators': [8,16]},\n",
    "    'SVR': [\n",
    "        {'kernel': ['linear'], 'C': [1,5]},\n",
    "        {'kernel': ['rbf'], 'C': [5, 10], 'gamma': [0.001, 0.005]},\n",
    "    ]\n",
    "}"
   ]
  },
  {
   "cell_type": "code",
   "execution_count": null,
   "metadata": {
    "ExecuteTime": {
     "end_time": "2018-07-18T23:52:12.759956Z",
     "start_time": "2018-07-18T23:30:31.388764Z"
    },
    "collapsed": true
   },
   "outputs": [],
   "source": [
    "# Fit gridsearch models to select best estimator\n",
    "# Product category features only\n",
    "helper1 = EstimatorSelectionHelper(models1, params1)\n",
    "helper1.fit(Xp, y_log_cut, n_jobs=3) # n_jobs=1 by default\n",
    "\n",
    "# Play sound when cell is done running\n",
    "Audio(url=sound_file, autoplay=True)"
   ]
  },
  {
   "cell_type": "code",
   "execution_count": null,
   "metadata": {
    "ExecuteTime": {
     "end_time": "2018-07-19T02:03:52.490221Z",
     "start_time": "2018-07-19T02:03:52.454471Z"
    },
    "collapsed": true
   },
   "outputs": [],
   "source": [
    "# Compare performance for estimators (explained variance)\n",
    "# Product category features only\n",
    "helper1.score_summary(sort_by='mean_score')"
   ]
  },
  {
   "cell_type": "markdown",
   "metadata": {},
   "source": [
    "### Helper class for bins"
   ]
  },
  {
   "cell_type": "code",
   "execution_count": null,
   "metadata": {
    "ExecuteTime": {
     "end_time": "2018-08-30T22:48:01.153392Z",
     "start_time": "2018-08-30T22:48:01.040014Z"
    },
    "collapsed": true
   },
   "outputs": [],
   "source": [
    "# Set up for grid search across multiple pipelines\n",
    "from sklearn.model_selection import GridSearchCV\n",
    "\n",
    "cv=5\n",
    "class EstimatorSelectionHelper:\n",
    "\n",
    "    def __init__(self, models, params):\n",
    "        if not set(models.keys()).issubset(set(params.keys())):\n",
    "            missing_params = list(set(models.keys()) - set(params.keys()))\n",
    "            raise ValueError(\"Some estimators are missing parameters: %s\" % missing_params)\n",
    "        self.models = models\n",
    "        self.params = params\n",
    "        self.keys = models.keys()\n",
    "        self.grid_searches = {}\n",
    "\n",
    "    def fit(self, X, y, cv=cv, n_jobs=1, verbose=1, scoring='accuracy', refit=False): # scoring=None\n",
    "        for key in self.keys:\n",
    "            print(\"Running GridSearchCV for %s.\" % key)\n",
    "            model = self.models[key]\n",
    "            params = self.params[key]\n",
    "            gs = GridSearchCV(model, params, cv=cv, n_jobs=n_jobs,\n",
    "                              verbose=verbose, scoring=scoring, refit=refit,\n",
    "                              return_train_score=True)\n",
    "            gs.fit(X,y)\n",
    "            self.grid_searches[key] = gs    \n",
    "\n",
    "    def score_summary(self, sort_by='mean_score'):\n",
    "        def row(key, scores, params):\n",
    "            d = {\n",
    "                 'estimator': key,\n",
    "                 'min_score': min(scores),\n",
    "                 'max_score': max(scores),\n",
    "                 'mean_score': np.mean(scores),\n",
    "                 'std_score': np.std(scores),\n",
    "            }\n",
    "            return pd.Series({**params,**d})\n",
    "\n",
    "        rows = []\n",
    "        for k in self.grid_searches:\n",
    "            print(k)\n",
    "            params = self.grid_searches[k].cv_results_['params']\n",
    "            scores = []\n",
    "            for i in range(self.grid_searches[k].cv):\n",
    "                key = \"split{}_test_score\".format(i)\n",
    "                r = self.grid_searches[k].cv_results_[key]        \n",
    "                scores.append(r.reshape(len(params),1))\n",
    "\n",
    "            all_scores = np.hstack(scores)\n",
    "            for p, s in zip(params,all_scores):\n",
    "                rows.append((row(k, s, p)))\n",
    "\n",
    "        df = pd.concat(rows, axis=1).T.sort_values([sort_by], ascending=False)\n",
    "\n",
    "        columns = ['estimator', 'min_score', 'mean_score', 'max_score', 'std_score']\n",
    "        columns = columns + [c for c in df.columns if c not in columns]\n",
    "\n",
    "        return df[columns]"
   ]
  },
  {
   "cell_type": "code",
   "execution_count": null,
   "metadata": {
    "ExecuteTime": {
     "end_time": "2018-07-31T22:40:32.907102Z",
     "start_time": "2018-07-31T22:40:32.894601Z"
    },
    "collapsed": true
   },
   "outputs": [],
   "source": [
    "# Define sets of models and their respective parameters to compare\n",
    "# The first dictionary contains the models to be scored\n",
    "# while the second contains the parameters for each model\n",
    "\n",
    "from sklearn.cluster import FeatureAgglomeration\n",
    "from sklearn.svm import SVC\n",
    "from sklearn.ensemble import RandomForestClassifier\n",
    "\n",
    "cv=5\n",
    "models_b = {\n",
    "    'RandomForest': RandomForestClassifier(),\n",
    "    'SVC': SVC()\n",
    "}\n",
    "\n",
    "params_b = {\n",
    "    'RandomForest': { 'n_estimators': [16,24]},\n",
    "    'SVC': [\n",
    "        {'kernel': ['linear'], 'C': [1,5]},\n",
    "        {'kernel': ['rbf'], 'C': [5,10], 'gamma': [0.0001, 0.001]},\n",
    "    ]\n",
    "}"
   ]
  },
  {
   "cell_type": "code",
   "execution_count": null,
   "metadata": {
    "ExecuteTime": {
     "end_time": "2018-07-19T02:37:25.806378Z",
     "start_time": "2018-07-19T02:12:54.531793Z"
    },
    "collapsed": true
   },
   "outputs": [],
   "source": [
    "# Fit gridsearch models to select best estimator\n",
    "# All organics features only\n",
    "helper_b = EstimatorSelectionHelper(models_b, params_b)\n",
    "helper_b.fit(wf_scaled, bin_num, n_jobs=3)"
   ]
  },
  {
   "cell_type": "code",
   "execution_count": null,
   "metadata": {
    "collapsed": true
   },
   "outputs": [],
   "source": [
    "# Compare performance for estimators (accuracy)\n",
    "# Function features only\n",
    "helper_b.score_summary(sort_by='mean_score')"
   ]
  },
  {
   "cell_type": "code",
   "execution_count": null,
   "metadata": {
    "collapsed": true
   },
   "outputs": [],
   "source": [
    "# Fit gridsearch models to select best estimator\n",
    "# Function features only\n",
    "helper_b = EstimatorSelectionHelper(models_b, params_b)\n",
    "helper_b.fit(Xf, y_log, n_jobs=2) # n_jobs=1 by default"
   ]
  },
  {
   "cell_type": "code",
   "execution_count": null,
   "metadata": {
    "collapsed": true
   },
   "outputs": [],
   "source": [
    "# Compare performance for estimators (accuracy)\n",
    "# Function features only\n",
    "helper_b.score_summary(sort_by='mean_score')"
   ]
  },
  {
   "cell_type": "markdown",
   "metadata": {
    "collapsed": true
   },
   "source": [
    "For ENM."
   ]
  },
  {
   "cell_type": "code",
   "execution_count": null,
   "metadata": {
    "ExecuteTime": {
     "end_time": "2018-08-30T22:55:58.240224Z",
     "start_time": "2018-08-30T22:55:58.230220Z"
    },
    "collapsed": true
   },
   "outputs": [],
   "source": [
    "# Define sets of models and their respective parameters to compare\n",
    "# The first dictionary contains the models to be scored\n",
    "# while the second contains the parameters for each model\n",
    "\n",
    "from sklearn.cluster import FeatureAgglomeration\n",
    "from sklearn.svm import SVC\n",
    "from sklearn.ensemble import RandomForestClassifier\n",
    "\n",
    "cv=3\n",
    "models_b = {\n",
    "    'RandomForest': RandomForestClassifier(),\n",
    "    'SVC': SVC()\n",
    "}\n",
    "\n",
    "params_b = {\n",
    "    'RandomForest': { 'n_estimators': [8,16]},\n",
    "    'SVC': [\n",
    "        {'kernel': ['linear'], 'C': [0.3,1,5]},\n",
    "        {'kernel': ['rbf'], 'C': [0.3,1,5], 'gamma': [0.00001, 0.0001, 0.001]},\n",
    "    ]\n",
    "}"
   ]
  },
  {
   "cell_type": "code",
   "execution_count": null,
   "metadata": {
    "ExecuteTime": {
     "end_time": "2018-08-30T22:56:56.456376Z",
     "start_time": "2018-08-30T22:56:55.895144Z"
    },
    "collapsed": true
   },
   "outputs": [],
   "source": [
    "# Fit gridsearch models to select best estimator\n",
    "# All organics features only\n",
    "helper_b = EstimatorSelectionHelper(models_b, params_b)\n",
    "helper_b.fit(Xf_enm+0.00001, bin_num_enm, n_jobs=3)"
   ]
  },
  {
   "cell_type": "code",
   "execution_count": null,
   "metadata": {
    "ExecuteTime": {
     "end_time": "2018-08-30T22:56:58.091356Z",
     "start_time": "2018-08-30T22:56:58.052707Z"
    },
    "collapsed": true
   },
   "outputs": [],
   "source": [
    "# Compare performance for estimators (accuracy)\n",
    "# Function features only\n",
    "helper_b.score_summary(sort_by='mean_score')"
   ]
  },
  {
   "cell_type": "code",
   "execution_count": null,
   "metadata": {
    "ExecuteTime": {
     "end_time": "2018-08-30T22:57:21.232169Z",
     "start_time": "2018-08-30T22:57:20.664031Z"
    },
    "collapsed": true
   },
   "outputs": [],
   "source": [
    "# Fit gridsearch models to select best estimator\n",
    "# All organics features only\n",
    "helper_b = EstimatorSelectionHelper(models_b, params_b)\n",
    "helper_b.fit(Xp_enm, bin_num_enm, n_jobs=3)"
   ]
  },
  {
   "cell_type": "code",
   "execution_count": null,
   "metadata": {
    "ExecuteTime": {
     "end_time": "2018-08-30T22:57:25.197638Z",
     "start_time": "2018-08-30T22:57:25.162408Z"
    },
    "collapsed": true
   },
   "outputs": [],
   "source": [
    "# Compare performance for estimators (accuracy)\n",
    "# Function features only\n",
    "helper_b.score_summary(sort_by='mean_score')"
   ]
  },
  {
   "cell_type": "markdown",
   "metadata": {},
   "source": [
    "### Pipeline/GridSearch to select n_clusters"
   ]
  },
  {
   "cell_type": "markdown",
   "metadata": {},
   "source": [
    "Have to run fit with [X + a very small number] so that features with very few ones don't go missing during cross validation. https://stats.stackexchange.com/questions/324732/kernel-density-estimator-kde-with-too-many-zeroes-as-input"
   ]
  },
  {
   "cell_type": "code",
   "execution_count": null,
   "metadata": {
    "ExecuteTime": {
     "end_time": "2018-08-01T21:02:44.633288Z",
     "start_time": "2018-08-01T21:02:44.626763Z"
    },
    "collapsed": true
   },
   "outputs": [],
   "source": [
    "from sklearn.pipeline import Pipeline\n",
    "from sklearn.model_selection import GridSearchCV\n",
    "from sklearn.cluster import FeatureAgglomeration\n",
    "from sklearn.svm import SVC\n",
    "#from sklearn import preprocessing"
   ]
  },
  {
   "cell_type": "code",
   "execution_count": null,
   "metadata": {
    "ExecuteTime": {
     "end_time": "2018-08-01T21:18:25.178280Z",
     "start_time": "2018-08-01T21:02:45.509195Z"
    },
    "collapsed": true
   },
   "outputs": [],
   "source": [
    "# Pipeline/GridSearch to select n_clusters for feature agglomeration\n",
    "# after selecting ideal estimator\n",
    "# Functions only\n",
    "# Take-2\n",
    "\n",
    "# Pipeline\n",
    "feat = FeatureAgglomeration(affinity=\"cosine\", linkage=\"average\")\n",
    "estimator = SVC(kernel='rbf')\n",
    "prepipe = Pipeline([\n",
    "    ('feat', feat),\n",
    "    ('estimator', estimator)\n",
    "])\n",
    "\n",
    "# Set parameter ranges for gridsearch\n",
    "cv=5\n",
    "k_set=[32,46,55]\n",
    "c_set=[1,5]\n",
    "gamma_set=[0.0001,0.001]\n",
    "\n",
    "# Gridsearch\n",
    "param_grid={'feat__n_clusters': k_set,\n",
    "            'estimator__C': c_set,\n",
    "            'estimator__gamma': gamma_set\n",
    "           }\n",
    "grid_search=GridSearchCV(prepipe,param_grid,cv=cv,scoring='accuracy', n_jobs=3)\n",
    "grid_search.fit(Xf+.0001,bin_num)\n",
    "print(grid_search.best_params_)\n",
    "print(grid_search.best_score_)\n",
    "\n",
    "# Play sound when cell is done running\n",
    "Audio(url=sound_file, autoplay=True)"
   ]
  },
  {
   "cell_type": "code",
   "execution_count": null,
   "metadata": {
    "ExecuteTime": {
     "end_time": "2018-08-03T19:55:00.945150Z",
     "start_time": "2018-08-03T19:40:01.071262Z"
    },
    "collapsed": true
   },
   "outputs": [],
   "source": [
    "# Pipeline/GridSearch to select n_clusters for feature agglomeration\n",
    "# after selecting ideal estimator\n",
    "# Functions only\n",
    "# Take-2\n",
    "\n",
    "# Pipeline\n",
    "feat = FeatureAgglomeration(affinity=\"cosine\", linkage=\"average\")\n",
    "estimator = SVC(kernel='rbf')\n",
    "prepipe = Pipeline([\n",
    "    ('feat', feat),\n",
    "    ('estimator', estimator)\n",
    "])\n",
    "\n",
    "# Set parameter ranges for gridsearch\n",
    "cv=5\n",
    "k_set=[61,55,32]\n",
    "c_set=[1,5]\n",
    "gamma_set=[0.001,0.01]\n",
    "\n",
    "# Gridsearch\n",
    "param_grid={'feat__n_clusters': k_set,\n",
    "            'estimator__C': c_set,\n",
    "            'estimator__gamma': gamma_set\n",
    "           }\n",
    "grid_search=GridSearchCV(prepipe,param_grid,cv=cv,scoring='explained_variance', n_jobs=3)\n",
    "grid_search.fit(Xf+.0001,bin_num)\n",
    "print(grid_search.best_params_)\n",
    "print(grid_search.best_score_)\n",
    "\n",
    "# Play sound when cell is done running\n",
    "Audio(url=sound_file, autoplay=True)"
   ]
  },
  {
   "cell_type": "code",
   "execution_count": null,
   "metadata": {
    "collapsed": true
   },
   "outputs": [],
   "source": [
    "# Pipeline/GridSearch to select n_clusters for feature agglomeration\n",
    "# after selecting ideal estimator\n",
    "# Functions only\n",
    "# Take-2\n",
    "\n",
    "# Pipeline\n",
    "feat = FeatureAgglomeration(affinity=\"cosine\", linkage=\"average\")\n",
    "estimator = SVC(kernel='rbf')\n",
    "prepipe = Pipeline([\n",
    "    ('feat', feat),\n",
    "    ('estimator', estimator)\n",
    "])\n",
    "\n",
    "# Set parameter ranges for gridsearch\n",
    "cv=5\n",
    "k_set=[55,32,27]\n",
    "c_set=[1,10]\n",
    "gamma_set=[0.0001,0.001]\n",
    "\n",
    "# Gridsearch\n",
    "param_grid={'feat__n_clusters': k_set,\n",
    "            'estimator__C': c_set,\n",
    "            'estimator__gamma': gamma_set\n",
    "           }\n",
    "grid_search=GridSearchCV(prepipe,param_grid,cv=cv,scoring='explained_variance', n_jobs=3)\n",
    "grid_search.fit(Xf+.0001,bin_num)\n",
    "print(grid_search.best_params_)\n",
    "print(grid_search.best_score_)\n",
    "\n",
    "# Play sound when cell is done running\n",
    "Audio(url=sound_file, autoplay=True)"
   ]
  },
  {
   "cell_type": "markdown",
   "metadata": {},
   "source": [
    "Previously run"
   ]
  },
  {
   "cell_type": "code",
   "execution_count": null,
   "metadata": {
    "ExecuteTime": {
     "end_time": "2018-05-04T07:21:45.637165Z",
     "start_time": "2018-05-04T07:21:45.631143Z"
    },
    "collapsed": true
   },
   "outputs": [],
   "source": [
    "from sklearn.pipeline import Pipeline\n",
    "from sklearn.model_selection import GridSearchCV\n",
    "from sklearn.cluster import FeatureAgglomeration\n",
    "from sklearn.ensemble import RandomForestRegressor\n",
    "from sklearn.svm import SVR\n",
    "#from sklearn import preprocessing"
   ]
  },
  {
   "cell_type": "code",
   "execution_count": null,
   "metadata": {
    "ExecuteTime": {
     "end_time": "2018-05-04T07:51:49.425279Z",
     "start_time": "2018-05-04T07:48:54.088666Z"
    },
    "collapsed": true
   },
   "outputs": [],
   "source": [
    "# Pipeline/GridSearch to select n_clusters for feature agglomeration\n",
    "# after selecting ideal estimator\n",
    "# Functions only\n",
    "\n",
    "# Pipeline\n",
    "feat = FeatureAgglomeration(affinity=\"cosine\", linkage=\"average\")\n",
    "estimator = SVR(kernel='rbf')\n",
    "prepipe = Pipeline([\n",
    "    ('feat', feat),\n",
    "    ('estimator', estimator)\n",
    "])\n",
    "\n",
    "# Set parameter ranges for gridsearch\n",
    "cv=4\n",
    "k_set=[19,39,48,57]\n",
    "c_set=[1,10]\n",
    "gamma_set=[0.0001,0.001]\n",
    "\n",
    "# Gridsearch\n",
    "param_grid={'feat__n_clusters': k_set,\n",
    "            'estimator__C': c_set,\n",
    "            'estimator__gamma': gamma_set\n",
    "           }\n",
    "grid_search=GridSearchCV(prepipe,param_grid,cv=cv,scoring='neg_mean_squared_error', n_jobs=-1)\n",
    "#grid_search.fit(Xf,y)\n",
    "grid_search.fit(Xf+.0001,y_log)\n",
    "print(grid_search.best_params_)\n",
    "print(grid_search.best_score_)"
   ]
  },
  {
   "cell_type": "code",
   "execution_count": null,
   "metadata": {
    "ExecuteTime": {
     "end_time": "2018-05-04T07:53:13.176415Z",
     "start_time": "2018-05-04T07:52:24.781599Z"
    },
    "collapsed": true
   },
   "outputs": [],
   "source": [
    "# Test additional n_clusters <116\n",
    "# Set parameter ranges for gridsearch\n",
    "# Functions only\n",
    "\n",
    "cv=4\n",
    "k_set=[23,35,39,65]\n",
    "c_set=[10]\n",
    "gamma_set=[0.0001]\n",
    "\n",
    "# Gridsearch\n",
    "param_grid={'feat__n_clusters': k_set,\n",
    "            'estimator__C': c_set,\n",
    "            'estimator__gamma': gamma_set\n",
    "           }\n",
    "grid_search=GridSearchCV(prepipe,param_grid,cv=cv,scoring='neg_mean_squared_error', n_jobs=-1)\n",
    "#grid_search.fit(Xf,y)\n",
    "grid_search.fit(Xf+.0001,y_log)\n",
    "print(grid_search.best_params_)\n",
    "print(grid_search.best_score_)"
   ]
  },
  {
   "cell_type": "code",
   "execution_count": null,
   "metadata": {
    "ExecuteTime": {
     "end_time": "2018-05-04T08:05:18.749842Z",
     "start_time": "2018-05-04T07:54:02.553202Z"
    },
    "collapsed": true
   },
   "outputs": [],
   "source": [
    "# Pipeline/GridSearch to select n_clusters for feature agglomeration\n",
    "# after selecting ideal estimator\n",
    "# Product categories only\n",
    "\n",
    "# Pipeline\n",
    "feat = FeatureAgglomeration(affinity=\"cosine\", linkage=\"average\")\n",
    "estimator = SVR(kernel='rbf')\n",
    "prepipe = Pipeline([\n",
    "#    ('scale', MinMaxScaler()),\n",
    "    ('feat', feat),\n",
    "    ('estimator', estimator)\n",
    "])\n",
    "\n",
    "# Set parameter ranges for gridsearch\n",
    "cv=4\n",
    "n_jobs=3\n",
    "k_set=[114,129,182,217]\n",
    "c_set=[1,10]\n",
    "gamma_set=[0.0001,0.001]\n",
    "\n",
    "# Gridsearch\n",
    "param_grid={'feat__n_clusters': k_set,\n",
    "            'estimator__C': c_set,\n",
    "            'estimator__gamma': gamma_set\n",
    "           }\n",
    "grid_search=GridSearchCV(prepipe,param_grid,cv=cv,scoring='neg_mean_squared_error', n_jobs=n_jobs, pre_dispatch=2*n_jobs)\n",
    "#grid_search.fit(Xp,y)\n",
    "grid_search.fit(Xp+.0001,y_log)\n",
    "print(grid_search.best_params_)\n",
    "print(grid_search.best_score_)"
   ]
  },
  {
   "cell_type": "code",
   "execution_count": null,
   "metadata": {
    "ExecuteTime": {
     "end_time": "2018-05-04T08:20:34.741953Z",
     "start_time": "2018-05-04T08:18:56.864409Z"
    },
    "collapsed": true
   },
   "outputs": [],
   "source": [
    "# Test additional n_clusters <217\n",
    "# Product categories only\n",
    "\n",
    "cv=4\n",
    "n_jobs=3\n",
    "k_set=[81,114,129]\n",
    "c_set=[10]\n",
    "gamma_set=[0.001]\n",
    "\n",
    "# Gridsearch\n",
    "param_grid={'feat__n_clusters': k_set,\n",
    "            'estimator__C': c_set,\n",
    "            'estimator__gamma': gamma_set\n",
    "           }\n",
    "grid_search=GridSearchCV(prepipe,param_grid,cv=cv,scoring='neg_mean_squared_error', n_jobs=n_jobs, pre_dispatch=2*n_jobs)\n",
    "#grid_search.fit(Xp,y)\n",
    "grid_search.fit(Xp+.0001,y_log)\n",
    "print(grid_search.best_params_)\n",
    "print(grid_search.best_score_)"
   ]
  },
  {
   "cell_type": "code",
   "execution_count": null,
   "metadata": {
    "ExecuteTime": {
     "end_time": "2018-05-04T08:27:22.115580Z",
     "start_time": "2018-05-04T08:26:02.146922Z"
    },
    "collapsed": true
   },
   "outputs": [],
   "source": [
    "# Test additional n_clusters around 81\n",
    "# Product categories only\n",
    "\n",
    "cv=4\n",
    "n_jobs=3\n",
    "k_set=[73,81,102]\n",
    "c_set=[10]\n",
    "gamma_set=[0.001]\n",
    "\n",
    "# Gridsearch\n",
    "param_grid={'feat__n_clusters': k_set,\n",
    "            'estimator__C': c_set,\n",
    "            'estimator__gamma': gamma_set\n",
    "           }\n",
    "grid_search=GridSearchCV(prepipe,param_grid,cv=cv,scoring='neg_mean_squared_error', n_jobs=n_jobs, pre_dispatch=2*n_jobs)\n",
    "#grid_search.fit(Xp,y)\n",
    "grid_search.fit(Xp+.0001,y_log)\n",
    "print(grid_search.best_params_)\n",
    "print(grid_search.best_score_)"
   ]
  },
  {
   "cell_type": "code",
   "execution_count": null,
   "metadata": {
    "ExecuteTime": {
     "end_time": "2018-05-04T08:33:58.649849Z",
     "start_time": "2018-05-04T08:32:57.598303Z"
    },
    "collapsed": true
   },
   "outputs": [],
   "source": [
    "# Test additional n_clusters <81\n",
    "# Product categories only\n",
    "\n",
    "cv=4\n",
    "n_jobs=3\n",
    "k_set=[73,63,46]\n",
    "c_set=[10]\n",
    "gamma_set=[0.001]\n",
    "\n",
    "# Gridsearch\n",
    "param_grid={'feat__n_clusters': k_set,\n",
    "            'estimator__C': c_set,\n",
    "            'estimator__gamma': gamma_set\n",
    "           }\n",
    "grid_search=GridSearchCV(prepipe,param_grid,cv=cv,scoring='neg_mean_squared_error', n_jobs=n_jobs, pre_dispatch=2*n_jobs)\n",
    "#grid_search.fit(Xp,y)\n",
    "grid_search.fit(Xp+.0001,y_log)\n",
    "print(grid_search.best_params_)\n",
    "print(grid_search.best_score_)"
   ]
  },
  {
   "cell_type": "code",
   "execution_count": null,
   "metadata": {
    "ExecuteTime": {
     "end_time": "2018-05-04T08:38:01.369003Z",
     "start_time": "2018-05-04T08:35:59.420377Z"
    },
    "collapsed": true
   },
   "outputs": [],
   "source": [
    "# Test additional n_clusters\n",
    "# Product categories only\n",
    "\n",
    "cv=4\n",
    "n_jobs=3\n",
    "k_set=[73,164,182]\n",
    "c_set=[10]\n",
    "gamma_set=[0.001]\n",
    "\n",
    "# Gridsearch\n",
    "param_grid={'feat__n_clusters': k_set,\n",
    "            'estimator__C': c_set,\n",
    "            'estimator__gamma': gamma_set\n",
    "           }\n",
    "grid_search=GridSearchCV(prepipe,param_grid,cv=cv,scoring='neg_mean_squared_error', n_jobs=n_jobs, pre_dispatch=2*n_jobs)\n",
    "#grid_search.fit(Xp,y)\n",
    "grid_search.fit(Xp+.0001,y_log)\n",
    "print(grid_search.best_params_)\n",
    "print(grid_search.best_score_)"
   ]
  },
  {
   "cell_type": "markdown",
   "metadata": {},
   "source": [
    "For functions, {C: 10, gamma: 0.0001, n_clusters: 39}.\n",
    "\n",
    "For product categories, {C: 10, gamma: 0.001, n_clusters: 73}."
   ]
  },
  {
   "cell_type": "markdown",
   "metadata": {},
   "source": [
    "#### ENM"
   ]
  },
  {
   "cell_type": "code",
   "execution_count": 58,
   "metadata": {
    "ExecuteTime": {
     "end_time": "2018-09-03T17:45:24.433324Z",
     "start_time": "2018-09-03T17:45:24.427208Z"
    },
    "collapsed": true
   },
   "outputs": [],
   "source": [
    "from sklearn.pipeline import Pipeline\n",
    "from sklearn.model_selection import GridSearchCV\n",
    "from sklearn.cluster import FeatureAgglomeration\n",
    "from sklearn.ensemble import RandomForestRegressor\n",
    "from sklearn.svm import SVC\n",
    "#from sklearn import preprocessing"
   ]
  },
  {
   "cell_type": "code",
   "execution_count": 59,
   "metadata": {
    "ExecuteTime": {
     "end_time": "2018-09-03T17:45:33.527367Z",
     "start_time": "2018-09-03T17:45:33.181153Z"
    }
   },
   "outputs": [
    {
     "name": "stdout",
     "output_type": "stream",
     "text": [
      "{'estimator__C': 0.1, 'estimator__gamma': 0.0001, 'feat__n_clusters': 8}\n",
      "0.43902439024390244\n"
     ]
    },
    {
     "data": {
      "text/html": [
       "\n",
       "                <audio controls=\"controls\" autoplay=\"autoplay\">\n",
       "                    <source src=\"./data/Glass.wav\" type=\"audio/x-wav\" />\n",
       "                    Your browser does not support the audio element.\n",
       "                </audio>\n",
       "              "
      ],
      "text/plain": [
       "<IPython.lib.display.Audio object>"
      ]
     },
     "execution_count": 59,
     "metadata": {},
     "output_type": "execute_result"
    }
   ],
   "source": [
    "# Pipeline/GridSearch to select n_clusters for feature agglomeration\n",
    "# after selecting ideal estimator\n",
    "# ENM Functions only\n",
    "\n",
    "# Pipeline\n",
    "feat = FeatureAgglomeration(affinity=\"cosine\", linkage=\"average\")\n",
    "estimator = SVC(kernel='rbf')\n",
    "prepipe = Pipeline([\n",
    "    ('feat', feat),\n",
    "    ('estimator', estimator)\n",
    "])\n",
    "\n",
    "# Set parameter ranges for gridsearch\n",
    "cv=3\n",
    "k_set=[8,10,13]\n",
    "c_set=[0.1,1,5]\n",
    "gamma_set=[0.0001,0.001]\n",
    "\n",
    "# Gridsearch\n",
    "param_grid={'feat__n_clusters': k_set,\n",
    "            'estimator__C': c_set,\n",
    "            'estimator__gamma': gamma_set\n",
    "           }\n",
    "grid_search=GridSearchCV(prepipe,param_grid,cv=cv,scoring='accuracy', n_jobs=3)\n",
    "grid_search.fit(Xf_enm+.0001,bin_num_enm)\n",
    "print(grid_search.best_params_)\n",
    "print(grid_search.best_score_)\n",
    "\n",
    "# Play sound when cell is done running\n",
    "Audio(url=sound_file, autoplay=True)"
   ]
  },
  {
   "cell_type": "code",
   "execution_count": 60,
   "metadata": {
    "ExecuteTime": {
     "end_time": "2018-09-03T17:45:43.695341Z",
     "start_time": "2018-09-03T17:45:43.124491Z"
    }
   },
   "outputs": [
    {
     "name": "stdout",
     "output_type": "stream",
     "text": [
      "{'estimator__C': 0.1, 'estimator__gamma': 0.001, 'feat__n_clusters': 17}\n",
      "0.43902439024390244\n"
     ]
    },
    {
     "data": {
      "text/html": [
       "\n",
       "                <audio controls=\"controls\" autoplay=\"autoplay\">\n",
       "                    <source src=\"./data/Glass.wav\" type=\"audio/x-wav\" />\n",
       "                    Your browser does not support the audio element.\n",
       "                </audio>\n",
       "              "
      ],
      "text/plain": [
       "<IPython.lib.display.Audio object>"
      ]
     },
     "execution_count": 60,
     "metadata": {},
     "output_type": "execute_result"
    }
   ],
   "source": [
    "# Pipeline/GridSearch to select n_clusters for feature agglomeration\n",
    "# after selecting ideal estimator\n",
    "# ENM PUCs only\n",
    "\n",
    "# Pipeline\n",
    "feat = FeatureAgglomeration(affinity=\"cosine\", linkage=\"average\")\n",
    "estimator = SVC(kernel='rbf')\n",
    "prepipe = Pipeline([\n",
    "    ('feat', feat),\n",
    "    ('estimator', estimator)\n",
    "])\n",
    "\n",
    "# Set parameter ranges for gridsearch\n",
    "cv=5\n",
    "k_set=[17,19,22,28]\n",
    "c_set=[0.1,1,5]\n",
    "gamma_set=[0.001,0.1]\n",
    "\n",
    "# Gridsearch\n",
    "param_grid={'feat__n_clusters': k_set,\n",
    "            'estimator__C': c_set,\n",
    "            'estimator__gamma': gamma_set\n",
    "           }\n",
    "grid_search=GridSearchCV(prepipe,param_grid,cv=cv,scoring='accuracy', n_jobs=3)\n",
    "grid_search.fit(Xp_enm+.0001,bin_num_enm)\n",
    "print(grid_search.best_params_)\n",
    "print(grid_search.best_score_)\n",
    "\n",
    "# Play sound when cell is done running\n",
    "Audio(url=sound_file, autoplay=True)"
   ]
  },
  {
   "cell_type": "code",
   "execution_count": 61,
   "metadata": {
    "ExecuteTime": {
     "end_time": "2018-09-01T23:26:19.332257Z",
     "start_time": "2018-09-01T23:26:18.896089Z"
    }
   },
   "outputs": [
    {
     "name": "stdout",
     "output_type": "stream",
     "text": [
      "{'estimator__C': 0.1, 'estimator__gamma': 0.0001, 'feat__n_clusters': 17}\n",
      "0.43902439024390244\n"
     ]
    },
    {
     "data": {
      "text/html": [
       "\n",
       "                <audio controls=\"controls\" autoplay=\"autoplay\">\n",
       "                    <source src=\"./data/Glass.wav\" type=\"audio/x-wav\" />\n",
       "                    Your browser does not support the audio element.\n",
       "                </audio>\n",
       "              "
      ],
      "text/plain": [
       "<IPython.lib.display.Audio object>"
      ]
     },
     "execution_count": 61,
     "metadata": {},
     "output_type": "execute_result"
    }
   ],
   "source": [
    "# Pipeline/GridSearch to select n_clusters for feature agglomeration\n",
    "# after selecting ideal estimator\n",
    "# ENM PUCs only\n",
    "\n",
    "# Pipeline\n",
    "feat = FeatureAgglomeration(affinity=\"cosine\", linkage=\"average\")\n",
    "estimator = SVC(kernel='rbf')\n",
    "prepipe = Pipeline([\n",
    "    ('feat', feat),\n",
    "    ('estimator', estimator)\n",
    "])\n",
    "\n",
    "# Set parameter ranges for gridsearch\n",
    "cv=3\n",
    "k_set=[17,19,22,28]\n",
    "c_set=[0.1,1,5]\n",
    "gamma_set=[0.0001,0.001,0.01]\n",
    "\n",
    "# Gridsearch\n",
    "param_grid={'feat__n_clusters': k_set,\n",
    "            'estimator__C': c_set,\n",
    "            'estimator__gamma': gamma_set\n",
    "           }\n",
    "grid_search=GridSearchCV(prepipe,param_grid,cv=cv,scoring='accuracy', n_jobs=3)\n",
    "grid_search.fit(Xp_enm+0.0001,bin_num_enm)\n",
    "print(grid_search.best_params_)\n",
    "print(grid_search.best_score_)\n",
    "\n",
    "# Play sound when cell is done running\n",
    "Audio(url=sound_file, autoplay=True)"
   ]
  },
  {
   "cell_type": "code",
   "execution_count": 62,
   "metadata": {
    "ExecuteTime": {
     "end_time": "2018-08-01T02:56:08.204788Z",
     "start_time": "2018-08-01T02:56:07.512536Z"
    }
   },
   "outputs": [
    {
     "name": "stdout",
     "output_type": "stream",
     "text": [
      "{'estimator__C': 10, 'estimator__gamma': 0.3, 'feat__n_clusters': 10}\n",
      "0.45121951219512196\n"
     ]
    },
    {
     "data": {
      "text/html": [
       "\n",
       "                <audio controls=\"controls\" autoplay=\"autoplay\">\n",
       "                    <source src=\"./data/Glass.wav\" type=\"audio/x-wav\" />\n",
       "                    Your browser does not support the audio element.\n",
       "                </audio>\n",
       "              "
      ],
      "text/plain": [
       "<IPython.lib.display.Audio object>"
      ]
     },
     "execution_count": 62,
     "metadata": {},
     "output_type": "execute_result"
    }
   ],
   "source": [
    "# Pipeline/GridSearch to select n_clusters for feature agglomeration\n",
    "# after selecting ideal estimator\n",
    "# ENM PUCs only\n",
    "\n",
    "# Pipeline\n",
    "feat = FeatureAgglomeration(affinity=\"cosine\", linkage=\"average\")\n",
    "estimator = SVC(kernel='rbf')\n",
    "prepipe = Pipeline([\n",
    "    ('feat', feat),\n",
    "    ('estimator', estimator)\n",
    "])\n",
    "\n",
    "# Set parameter ranges for gridsearch\n",
    "cv=5\n",
    "k_set=[10,12,18,20]\n",
    "c_set=[5,10,15]\n",
    "gamma_set=[0.003,0.1,0.3]\n",
    "\n",
    "# Gridsearch\n",
    "param_grid={'feat__n_clusters': k_set,\n",
    "            'estimator__C': c_set,\n",
    "            'estimator__gamma': gamma_set\n",
    "           }\n",
    "grid_search=GridSearchCV(prepipe,param_grid,cv=cv,scoring='accuracy', n_jobs=3)\n",
    "grid_search.fit(Xp_enm+0.0001,bin_num_enm)\n",
    "print(grid_search.best_params_)\n",
    "print(grid_search.best_score_)\n",
    "\n",
    "# Play sound when cell is done running\n",
    "Audio(url=sound_file, autoplay=True)"
   ]
  },
  {
   "cell_type": "markdown",
   "metadata": {},
   "source": [
    "### Apply feature agglomeration using optimized n_clusters"
   ]
  },
  {
   "cell_type": "code",
   "execution_count": 63,
   "metadata": {
    "ExecuteTime": {
     "end_time": "2018-08-01T02:57:54.739296Z",
     "start_time": "2018-08-01T02:57:54.515623Z"
    },
    "collapsed": true
   },
   "outputs": [],
   "source": [
    "# Apply feature agglomeration\n",
    "# Functions only\n",
    "\n",
    "agg = FeatureAgglomeration(n_clusters=32, affinity=\"cosine\", linkage=\"average\")\n",
    "Xf_red = agg.fit_transform(Xf+0.0001) # fit to data, then transform it"
   ]
  },
  {
   "cell_type": "code",
   "execution_count": 64,
   "metadata": {
    "ExecuteTime": {
     "end_time": "2018-08-01T02:57:57.968703Z",
     "start_time": "2018-08-01T02:57:57.962615Z"
    }
   },
   "outputs": [
    {
     "name": "stdout",
     "output_type": "stream",
     "text": [
      "(18466, 32)\n"
     ]
    }
   ],
   "source": [
    "Xf_reddf = pd.DataFrame(Xf_red)\n",
    "print(Xf_reddf.shape)"
   ]
  },
  {
   "cell_type": "code",
   "execution_count": 65,
   "metadata": {
    "ExecuteTime": {
     "end_time": "2018-08-01T02:57:59.872232Z",
     "start_time": "2018-08-01T02:57:59.263581Z"
    },
    "collapsed": true
   },
   "outputs": [],
   "source": [
    "# Apply feature agglomeration\n",
    "# Product categories only\n",
    "\n",
    "agg = FeatureAgglomeration(n_clusters=106, affinity=\"cosine\", linkage=\"average\")\n",
    "Xp_red = agg.fit_transform(Xp+0.0001) # fit to data, then transform it"
   ]
  },
  {
   "cell_type": "code",
   "execution_count": 66,
   "metadata": {
    "ExecuteTime": {
     "end_time": "2018-08-01T02:58:01.478311Z",
     "start_time": "2018-08-01T02:58:01.473147Z"
    }
   },
   "outputs": [
    {
     "name": "stdout",
     "output_type": "stream",
     "text": [
      "(18466, 106)\n"
     ]
    }
   ],
   "source": [
    "Xp_reddf = pd.DataFrame(Xp_red)\n",
    "print(Xp_reddf.shape)"
   ]
  },
  {
   "cell_type": "code",
   "execution_count": 67,
   "metadata": {
    "ExecuteTime": {
     "end_time": "2018-08-01T02:58:02.712767Z",
     "start_time": "2018-08-01T02:58:02.652046Z"
    }
   },
   "outputs": [
    {
     "name": "stdout",
     "output_type": "stream",
     "text": [
      "(18466, 149)\n"
     ]
    }
   ],
   "source": [
    "# Concatenate all clustered and scaled features into new dataframe\n",
    "Xc = pd.DataFrame(data=Xc)\n",
    "XX = pd.concat([Xc,Xf_reddf,Xp_reddf], axis=1)\n",
    "#XX.loc[0:3,]\n",
    "XX=np.array(XX)\n",
    "print(XX.shape)"
   ]
  },
  {
   "cell_type": "code",
   "execution_count": 68,
   "metadata": {
    "ExecuteTime": {
     "end_time": "2018-08-01T02:58:07.156700Z",
     "start_time": "2018-08-01T02:58:07.128144Z"
    },
    "collapsed": true
   },
   "outputs": [],
   "source": [
    "from sklearn.preprocessing import MinMaxScaler\n",
    "scaler = MinMaxScaler()\n",
    "Xc_scaled = scaler.fit_transform(Xc)\n",
    "Xc_scaleddf = pd.DataFrame(data=Xc_scaled)"
   ]
  },
  {
   "cell_type": "code",
   "execution_count": 69,
   "metadata": {
    "ExecuteTime": {
     "end_time": "2018-05-29T08:49:31.349392Z",
     "start_time": "2018-05-29T08:49:31.304216Z"
    }
   },
   "outputs": [
    {
     "name": "stdout",
     "output_type": "stream",
     "text": [
      "(18466, 149)\n"
     ]
    }
   ],
   "source": [
    "# Concatenate all clustered and scaled features into new dataframe\n",
    "XX_scaled = pd.concat([Xc_scaleddf,Xf_reddf,Xp_reddf], axis=1)\n",
    "#XX.loc[0:3,]\n",
    "XX_scaled=np.array(XX_scaled)\n",
    "print(XX_scaled.shape)"
   ]
  },
  {
   "cell_type": "markdown",
   "metadata": {},
   "source": [
    "#### ENM model"
   ]
  },
  {
   "cell_type": "code",
   "execution_count": 70,
   "metadata": {
    "ExecuteTime": {
     "end_time": "2018-09-03T17:26:49.225717Z",
     "start_time": "2018-09-03T17:26:49.219789Z"
    },
    "collapsed": true
   },
   "outputs": [],
   "source": [
    "# Apply feature agglomeration\n",
    "# Functions only\n",
    "\n",
    "agg = FeatureAgglomeration(n_clusters=13, affinity=\"cosine\", linkage=\"average\")\n",
    "Xf_enm_red = agg.fit_transform(Xf_enm+0.0001) # fit to data, then transform it"
   ]
  },
  {
   "cell_type": "code",
   "execution_count": 71,
   "metadata": {
    "ExecuteTime": {
     "end_time": "2018-09-03T17:26:53.356417Z",
     "start_time": "2018-09-03T17:26:53.349565Z"
    }
   },
   "outputs": [
    {
     "name": "stdout",
     "output_type": "stream",
     "text": [
      "(82, 13)\n"
     ]
    }
   ],
   "source": [
    "Xf_enm_red = pd.DataFrame(Xf_enm_red)\n",
    "print(Xf_enm_red.shape)"
   ]
  },
  {
   "cell_type": "code",
   "execution_count": 72,
   "metadata": {
    "ExecuteTime": {
     "end_time": "2018-09-03T17:27:27.307898Z",
     "start_time": "2018-09-03T17:27:27.300958Z"
    },
    "collapsed": true
   },
   "outputs": [],
   "source": [
    "# Apply feature agglomeration\n",
    "# Product categories only\n",
    "\n",
    "agg = FeatureAgglomeration(n_clusters=22, affinity=\"cosine\", linkage=\"average\")\n",
    "Xp_enm_red = agg.fit_transform(Xp_enm+0.0001) # fit to data, then transform it"
   ]
  },
  {
   "cell_type": "code",
   "execution_count": 73,
   "metadata": {
    "ExecuteTime": {
     "end_time": "2018-09-03T15:12:40.185348Z",
     "start_time": "2018-09-03T15:12:40.179161Z"
    }
   },
   "outputs": [
    {
     "name": "stdout",
     "output_type": "stream",
     "text": [
      "(82, 22)\n"
     ]
    }
   ],
   "source": [
    "Xp_enm_red = pd.DataFrame(Xp_enm_red)\n",
    "print(Xp_enm_red.shape)"
   ]
  },
  {
   "cell_type": "code",
   "execution_count": 74,
   "metadata": {
    "ExecuteTime": {
     "end_time": "2018-09-03T15:12:49.519985Z",
     "start_time": "2018-09-03T15:12:49.511798Z"
    },
    "collapsed": true
   },
   "outputs": [],
   "source": [
    "# Scale pchem properties\n",
    "from sklearn.preprocessing import MinMaxScaler\n",
    "scaler = MinMaxScaler()\n",
    "Xc_enm_scaled = scaler.fit_transform(Xc_enm)\n",
    "Xc_enm_scaled = pd.DataFrame(data=Xc_enm_scaled)"
   ]
  },
  {
   "cell_type": "code",
   "execution_count": 75,
   "metadata": {
    "ExecuteTime": {
     "end_time": "2018-09-03T16:06:39.235297Z",
     "start_time": "2018-09-03T16:06:39.201008Z"
    }
   },
   "outputs": [
    {
     "data": {
      "text/html": [
       "<div>\n",
       "<style scoped>\n",
       "    .dataframe tbody tr th:only-of-type {\n",
       "        vertical-align: middle;\n",
       "    }\n",
       "\n",
       "    .dataframe tbody tr th {\n",
       "        vertical-align: top;\n",
       "    }\n",
       "\n",
       "    .dataframe thead th {\n",
       "        text-align: right;\n",
       "    }\n",
       "</style>\n",
       "<table border=\"1\" class=\"dataframe\">\n",
       "  <thead>\n",
       "    <tr style=\"text-align: right;\">\n",
       "      <th></th>\n",
       "      <th>0</th>\n",
       "      <th>1</th>\n",
       "      <th>2</th>\n",
       "      <th>3</th>\n",
       "      <th>0</th>\n",
       "      <th>1</th>\n",
       "      <th>2</th>\n",
       "      <th>3</th>\n",
       "      <th>4</th>\n",
       "      <th>5</th>\n",
       "      <th>...</th>\n",
       "      <th>16</th>\n",
       "      <th>17</th>\n",
       "      <th>18</th>\n",
       "      <th>19</th>\n",
       "      <th>20</th>\n",
       "      <th>21</th>\n",
       "      <th>refined_NOC</th>\n",
       "      <th>refined_spray</th>\n",
       "      <th>matrix_A</th>\n",
       "      <th>matrix_F</th>\n",
       "    </tr>\n",
       "  </thead>\n",
       "  <tbody>\n",
       "    <tr>\n",
       "      <th>0</th>\n",
       "      <td>0.159910</td>\n",
       "      <td>0.728168</td>\n",
       "      <td>0.611018</td>\n",
       "      <td>0.082634</td>\n",
       "      <td>0.5001</td>\n",
       "      <td>0.0001</td>\n",
       "      <td>0.0001</td>\n",
       "      <td>0.0001</td>\n",
       "      <td>0.0001</td>\n",
       "      <td>1.0001</td>\n",
       "      <td>...</td>\n",
       "      <td>0.0001</td>\n",
       "      <td>0.0001</td>\n",
       "      <td>0.0001</td>\n",
       "      <td>0.0001</td>\n",
       "      <td>0.0001</td>\n",
       "      <td>0.0001</td>\n",
       "      <td>1</td>\n",
       "      <td>0</td>\n",
       "      <td>0</td>\n",
       "      <td>1</td>\n",
       "    </tr>\n",
       "    <tr>\n",
       "      <th>1</th>\n",
       "      <td>0.078351</td>\n",
       "      <td>0.387819</td>\n",
       "      <td>0.502819</td>\n",
       "      <td>0.321179</td>\n",
       "      <td>0.0001</td>\n",
       "      <td>0.0001</td>\n",
       "      <td>0.0001</td>\n",
       "      <td>0.0001</td>\n",
       "      <td>0.0001</td>\n",
       "      <td>0.0001</td>\n",
       "      <td>...</td>\n",
       "      <td>0.0001</td>\n",
       "      <td>0.0001</td>\n",
       "      <td>0.0001</td>\n",
       "      <td>0.0001</td>\n",
       "      <td>0.0001</td>\n",
       "      <td>0.0001</td>\n",
       "      <td>1</td>\n",
       "      <td>0</td>\n",
       "      <td>0</td>\n",
       "      <td>1</td>\n",
       "    </tr>\n",
       "    <tr>\n",
       "      <th>2</th>\n",
       "      <td>0.087466</td>\n",
       "      <td>0.090699</td>\n",
       "      <td>0.059336</td>\n",
       "      <td>0.229392</td>\n",
       "      <td>0.0001</td>\n",
       "      <td>0.0001</td>\n",
       "      <td>0.0001</td>\n",
       "      <td>0.0001</td>\n",
       "      <td>0.0001</td>\n",
       "      <td>0.0001</td>\n",
       "      <td>...</td>\n",
       "      <td>0.0001</td>\n",
       "      <td>0.0001</td>\n",
       "      <td>0.0001</td>\n",
       "      <td>0.0001</td>\n",
       "      <td>0.0001</td>\n",
       "      <td>0.0001</td>\n",
       "      <td>1</td>\n",
       "      <td>0</td>\n",
       "      <td>0</td>\n",
       "      <td>1</td>\n",
       "    </tr>\n",
       "    <tr>\n",
       "      <th>3</th>\n",
       "      <td>0.299836</td>\n",
       "      <td>0.333533</td>\n",
       "      <td>0.394619</td>\n",
       "      <td>0.391028</td>\n",
       "      <td>0.0001</td>\n",
       "      <td>0.0001</td>\n",
       "      <td>0.0001</td>\n",
       "      <td>0.0001</td>\n",
       "      <td>0.0001</td>\n",
       "      <td>0.0001</td>\n",
       "      <td>...</td>\n",
       "      <td>0.0001</td>\n",
       "      <td>0.0001</td>\n",
       "      <td>0.0001</td>\n",
       "      <td>1.0001</td>\n",
       "      <td>0.0001</td>\n",
       "      <td>1.0001</td>\n",
       "      <td>1</td>\n",
       "      <td>0</td>\n",
       "      <td>0</td>\n",
       "      <td>1</td>\n",
       "    </tr>\n",
       "  </tbody>\n",
       "</table>\n",
       "<p>4 rows × 43 columns</p>\n",
       "</div>"
      ],
      "text/plain": [
       "          0         1         2         3       0       1       2       3  \\\n",
       "0  0.159910  0.728168  0.611018  0.082634  0.5001  0.0001  0.0001  0.0001   \n",
       "1  0.078351  0.387819  0.502819  0.321179  0.0001  0.0001  0.0001  0.0001   \n",
       "2  0.087466  0.090699  0.059336  0.229392  0.0001  0.0001  0.0001  0.0001   \n",
       "3  0.299836  0.333533  0.394619  0.391028  0.0001  0.0001  0.0001  0.0001   \n",
       "\n",
       "        4       5    ...         16      17      18      19      20      21  \\\n",
       "0  0.0001  1.0001    ...     0.0001  0.0001  0.0001  0.0001  0.0001  0.0001   \n",
       "1  0.0001  0.0001    ...     0.0001  0.0001  0.0001  0.0001  0.0001  0.0001   \n",
       "2  0.0001  0.0001    ...     0.0001  0.0001  0.0001  0.0001  0.0001  0.0001   \n",
       "3  0.0001  0.0001    ...     0.0001  0.0001  0.0001  1.0001  0.0001  1.0001   \n",
       "\n",
       "   refined_NOC  refined_spray  matrix_A  matrix_F  \n",
       "0            1              0         0         1  \n",
       "1            1              0         0         1  \n",
       "2            1              0         0         1  \n",
       "3            1              0         0         1  \n",
       "\n",
       "[4 rows x 43 columns]"
      ]
     },
     "execution_count": 75,
     "metadata": {},
     "output_type": "execute_result"
    }
   ],
   "source": [
    "# Concatenate all clustered and scaled features into new dataframe\n",
    "XX_enm_scaled = pd.concat([Xc_enm_scaled,Xf_enm_red,Xp_enm_red,Xm_enm], axis=1)\n",
    "XX_enm_scaled.loc[0:3,]\n",
    "#XX_scaled=np.array(XX_scaled)\n",
    "#print(XX_scaled.shape)"
   ]
  },
  {
   "cell_type": "code",
   "execution_count": 76,
   "metadata": {
    "ExecuteTime": {
     "end_time": "2018-09-03T15:12:57.239668Z",
     "start_time": "2018-09-03T15:12:57.206888Z"
    }
   },
   "outputs": [
    {
     "data": {
      "text/html": [
       "<div>\n",
       "<style scoped>\n",
       "    .dataframe tbody tr th:only-of-type {\n",
       "        vertical-align: middle;\n",
       "    }\n",
       "\n",
       "    .dataframe tbody tr th {\n",
       "        vertical-align: top;\n",
       "    }\n",
       "\n",
       "    .dataframe thead th {\n",
       "        text-align: right;\n",
       "    }\n",
       "</style>\n",
       "<table border=\"1\" class=\"dataframe\">\n",
       "  <thead>\n",
       "    <tr style=\"text-align: right;\">\n",
       "      <th></th>\n",
       "      <th>propMW</th>\n",
       "      <th>propMP</th>\n",
       "      <th>propBP</th>\n",
       "      <th>propDensity</th>\n",
       "      <th>0</th>\n",
       "      <th>1</th>\n",
       "      <th>2</th>\n",
       "      <th>3</th>\n",
       "      <th>4</th>\n",
       "      <th>5</th>\n",
       "      <th>...</th>\n",
       "      <th>12</th>\n",
       "      <th>13</th>\n",
       "      <th>14</th>\n",
       "      <th>15</th>\n",
       "      <th>16</th>\n",
       "      <th>17</th>\n",
       "      <th>18</th>\n",
       "      <th>19</th>\n",
       "      <th>20</th>\n",
       "      <th>21</th>\n",
       "    </tr>\n",
       "  </thead>\n",
       "  <tbody>\n",
       "    <tr>\n",
       "      <th>0</th>\n",
       "      <td>79.867</td>\n",
       "      <td>1843.00</td>\n",
       "      <td>2972.0</td>\n",
       "      <td>4.230</td>\n",
       "      <td>0.5001</td>\n",
       "      <td>0.0001</td>\n",
       "      <td>0.0001</td>\n",
       "      <td>0.0001</td>\n",
       "      <td>0.0001</td>\n",
       "      <td>1.0001</td>\n",
       "      <td>...</td>\n",
       "      <td>0.0001</td>\n",
       "      <td>0.0001</td>\n",
       "      <td>0.0001</td>\n",
       "      <td>0.0001</td>\n",
       "      <td>0.0001</td>\n",
       "      <td>0.0001</td>\n",
       "      <td>0.0001</td>\n",
       "      <td>0.0001</td>\n",
       "      <td>0.0001</td>\n",
       "      <td>0.0001</td>\n",
       "    </tr>\n",
       "    <tr>\n",
       "      <th>1</th>\n",
       "      <td>63.546</td>\n",
       "      <td>1083.00</td>\n",
       "      <td>2567.0</td>\n",
       "      <td>8.960</td>\n",
       "      <td>0.0001</td>\n",
       "      <td>0.0001</td>\n",
       "      <td>0.0001</td>\n",
       "      <td>0.0001</td>\n",
       "      <td>0.0001</td>\n",
       "      <td>0.0001</td>\n",
       "      <td>...</td>\n",
       "      <td>0.0001</td>\n",
       "      <td>0.0001</td>\n",
       "      <td>0.0001</td>\n",
       "      <td>0.0001</td>\n",
       "      <td>0.0001</td>\n",
       "      <td>0.0001</td>\n",
       "      <td>0.0001</td>\n",
       "      <td>0.0001</td>\n",
       "      <td>0.0001</td>\n",
       "      <td>0.0001</td>\n",
       "    </tr>\n",
       "    <tr>\n",
       "      <th>2</th>\n",
       "      <td>65.370</td>\n",
       "      <td>419.53</td>\n",
       "      <td>907.0</td>\n",
       "      <td>7.140</td>\n",
       "      <td>0.0001</td>\n",
       "      <td>0.0001</td>\n",
       "      <td>0.0001</td>\n",
       "      <td>0.0001</td>\n",
       "      <td>0.0001</td>\n",
       "      <td>0.0001</td>\n",
       "      <td>...</td>\n",
       "      <td>0.0001</td>\n",
       "      <td>0.0001</td>\n",
       "      <td>0.0001</td>\n",
       "      <td>0.0001</td>\n",
       "      <td>0.0001</td>\n",
       "      <td>0.0001</td>\n",
       "      <td>0.0001</td>\n",
       "      <td>0.0001</td>\n",
       "      <td>0.0001</td>\n",
       "      <td>0.0001</td>\n",
       "    </tr>\n",
       "    <tr>\n",
       "      <th>3</th>\n",
       "      <td>107.868</td>\n",
       "      <td>961.78</td>\n",
       "      <td>2162.0</td>\n",
       "      <td>10.345</td>\n",
       "      <td>0.0001</td>\n",
       "      <td>0.0001</td>\n",
       "      <td>0.0001</td>\n",
       "      <td>0.0001</td>\n",
       "      <td>0.0001</td>\n",
       "      <td>0.0001</td>\n",
       "      <td>...</td>\n",
       "      <td>0.0001</td>\n",
       "      <td>0.0001</td>\n",
       "      <td>0.0001</td>\n",
       "      <td>0.0001</td>\n",
       "      <td>0.0001</td>\n",
       "      <td>0.0001</td>\n",
       "      <td>0.0001</td>\n",
       "      <td>1.0001</td>\n",
       "      <td>0.0001</td>\n",
       "      <td>1.0001</td>\n",
       "    </tr>\n",
       "  </tbody>\n",
       "</table>\n",
       "<p>4 rows × 39 columns</p>\n",
       "</div>"
      ],
      "text/plain": [
       "    propMW   propMP  propBP  propDensity       0       1       2       3  \\\n",
       "0   79.867  1843.00  2972.0        4.230  0.5001  0.0001  0.0001  0.0001   \n",
       "1   63.546  1083.00  2567.0        8.960  0.0001  0.0001  0.0001  0.0001   \n",
       "2   65.370   419.53   907.0        7.140  0.0001  0.0001  0.0001  0.0001   \n",
       "3  107.868   961.78  2162.0       10.345  0.0001  0.0001  0.0001  0.0001   \n",
       "\n",
       "        4       5   ...        12      13      14      15      16      17  \\\n",
       "0  0.0001  1.0001   ...    0.0001  0.0001  0.0001  0.0001  0.0001  0.0001   \n",
       "1  0.0001  0.0001   ...    0.0001  0.0001  0.0001  0.0001  0.0001  0.0001   \n",
       "2  0.0001  0.0001   ...    0.0001  0.0001  0.0001  0.0001  0.0001  0.0001   \n",
       "3  0.0001  0.0001   ...    0.0001  0.0001  0.0001  0.0001  0.0001  0.0001   \n",
       "\n",
       "       18      19      20      21  \n",
       "0  0.0001  0.0001  0.0001  0.0001  \n",
       "1  0.0001  0.0001  0.0001  0.0001  \n",
       "2  0.0001  0.0001  0.0001  0.0001  \n",
       "3  0.0001  1.0001  0.0001  1.0001  \n",
       "\n",
       "[4 rows x 39 columns]"
      ]
     },
     "execution_count": 76,
     "metadata": {},
     "output_type": "execute_result"
    }
   ],
   "source": [
    "# Concatenate all clustered and scaled features into new dataframe\n",
    "XX_enm = pd.concat([Xc_enm,Xf_enm_red,Xp_enm_red], axis=1)\n",
    "XX_enm.loc[0:3,]"
   ]
  },
  {
   "cell_type": "markdown",
   "metadata": {},
   "source": [
    "# Core models"
   ]
  },
  {
   "cell_type": "markdown",
   "metadata": {},
   "source": [
    "## Model with clustering, regression"
   ]
  },
  {
   "cell_type": "code",
   "execution_count": null,
   "metadata": {
    "ExecuteTime": {
     "end_time": "2018-05-29T08:50:05.891453Z",
     "start_time": "2018-05-29T08:50:05.880957Z"
    },
    "collapsed": true
   },
   "outputs": [],
   "source": [
    "# Define sets of models and their respective parameters to compare\n",
    "# The first dictionary contains the models to be scored\n",
    "# while the second contains the parameters for each model\n",
    "\n",
    "#from sklearn import model_selection, metrics\n",
    "from sklearn.svm import SVR\n",
    "from sklearn.ensemble import RandomForestRegressor\n",
    "\n",
    "njobs=3\n",
    "models3 = {\n",
    "    'RandomForest': RandomForestRegressor(),\n",
    "    'SVR': SVR()\n",
    "}\n",
    "\n",
    "params3 = {\n",
    "    'RandomForest': { 'n_estimators': [16, 32] },\n",
    "    'SVR': [\n",
    "        {'kernel': ['linear'], 'C': [1, 10]},\n",
    "        {'kernel': ['rbf'], 'C': [1, 10], 'gamma': [0.001, 0.0001]},\n",
    "    ]\n",
    "}"
   ]
  },
  {
   "cell_type": "code",
   "execution_count": null,
   "metadata": {
    "ExecuteTime": {
     "end_time": "2018-05-29T09:04:10.205195Z",
     "start_time": "2018-05-29T08:50:13.995472Z"
    },
    "collapsed": true
   },
   "outputs": [],
   "source": [
    "# Fit gridsearch models to select best estimator\n",
    "\n",
    "helper3 = EstimatorSelectionHelper(models3, params3)\n",
    "helper3.fit(XX_scaled+0.0001, y_log, n_jobs=n_jobs, scoring='explained_variance') # n_jobs=1 by default"
   ]
  },
  {
   "cell_type": "code",
   "execution_count": null,
   "metadata": {
    "ExecuteTime": {
     "end_time": "2018-05-29T09:04:17.686994Z",
     "start_time": "2018-05-29T09:04:17.640020Z"
    },
    "collapsed": true
   },
   "outputs": [],
   "source": [
    "# Compare performance for estimators\n",
    "helper3.score_summary(sort_by='mean_score')"
   ]
  },
  {
   "cell_type": "markdown",
   "metadata": {},
   "source": [
    "## Model with PCA, regression"
   ]
  },
  {
   "cell_type": "code",
   "execution_count": null,
   "metadata": {
    "ExecuteTime": {
     "end_time": "2018-05-29T09:25:25.233932Z",
     "start_time": "2018-05-29T09:18:30.231242Z"
    },
    "collapsed": true
   },
   "outputs": [],
   "source": [
    "# Fit gridsearch models to select best estimator\n",
    "\n",
    "helper2 = EstimatorSelectionHelper(models3, params3)\n",
    "helper2.fit(dim_red, y_log, n_jobs=n_jobs, scoring='explained_variance') # n_jobs=1 by default"
   ]
  },
  {
   "cell_type": "code",
   "execution_count": null,
   "metadata": {
    "ExecuteTime": {
     "end_time": "2018-05-29T09:25:35.115722Z",
     "start_time": "2018-05-29T09:25:35.076453Z"
    },
    "collapsed": true
   },
   "outputs": [],
   "source": [
    "# Compare performance for estimators\n",
    "helper2.score_summary(sort_by='mean_score')"
   ]
  },
  {
   "cell_type": "code",
   "execution_count": null,
   "metadata": {
    "ExecuteTime": {
     "end_time": "2018-05-23T16:06:30.182575Z",
     "start_time": "2018-05-22T22:45:10.760054Z"
    },
    "collapsed": true
   },
   "outputs": [],
   "source": [
    "# Pipeline/GridSearch to find best optimized model\n",
    "# after selecting ideal estimator\n",
    "\n",
    "# Pipeline\n",
    "estimator = SVR(kernel='rbf')\n",
    "prepipe = Pipeline([\n",
    "    ('scale', MinMaxScaler()),\n",
    "    ('estimator', estimator)\n",
    "])\n",
    "\n",
    "# Set parameter ranges for gridsearch\n",
    "cv=4\n",
    "n_jobs=3\n",
    "c_set=[5,10,15]\n",
    "gamma_set=[0.001,0.01]\n",
    "\n",
    "# Gridsearch\n",
    "param_grid={'estimator__C': c_set,\n",
    "            'estimator__gamma': gamma_set\n",
    "           }\n",
    "grid_search=GridSearchCV(prepipe,param_grid,cv=cv,scoring='explained_variance', n_jobs=n_jobs, pre_dispatch=2*n_jobs)\n",
    "#grid_search.fit(XX,y_log)\n",
    "grid_search.fit(XX+.0001,y_log)\n",
    "print(grid_search.best_params_)\n",
    "print(grid_search.best_score_)"
   ]
  },
  {
   "cell_type": "markdown",
   "metadata": {},
   "source": [
    "Try after adding 10^-6 to y_log"
   ]
  },
  {
   "cell_type": "code",
   "execution_count": null,
   "metadata": {
    "ExecuteTime": {
     "end_time": "2018-06-14T17:29:24.200807Z",
     "start_time": "2018-06-14T17:25:23.925035Z"
    },
    "collapsed": true
   },
   "outputs": [],
   "source": [
    "# Pipeline/GridSearch to find best optimized model\n",
    "# after selecting ideal estimator\n",
    "\n",
    "# Pipeline\n",
    "estimator = SVR(kernel='rbf')\n",
    "prepipe = Pipeline([\n",
    "    ('scale', MinMaxScaler()),\n",
    "    ('estimator', estimator)\n",
    "])\n",
    "\n",
    "# Set parameter ranges for gridsearch\n",
    "cv=4\n",
    "n_jobs=3\n",
    "c_set=[5]\n",
    "gamma_set=[0.0003]\n",
    "\n",
    "# Gridsearch\n",
    "param_grid={'estimator__C': c_set,\n",
    "            'estimator__gamma': gamma_set\n",
    "           }\n",
    "grid_search=GridSearchCV(prepipe,param_grid,cv=cv,scoring='explained_variance', n_jobs=n_jobs, pre_dispatch=2*n_jobs)\n",
    "#grid_search.fit(XX,y_log)\n",
    "grid_search.fit(XX+.0001,y_log)\n",
    "print(grid_search.best_params_)\n",
    "print(grid_search.best_score_)"
   ]
  },
  {
   "cell_type": "markdown",
   "metadata": {},
   "source": [
    "### Evaluate model without product categories"
   ]
  },
  {
   "cell_type": "code",
   "execution_count": null,
   "metadata": {
    "ExecuteTime": {
     "end_time": "2018-05-29T09:08:40.011378Z",
     "start_time": "2018-05-29T09:08:39.981269Z"
    },
    "collapsed": true
   },
   "outputs": [],
   "source": [
    "# Concatenate all clustered and scaled features into new dataframe\n",
    "XXwo = pd.concat([Xc_scaleddf,Xf_reddf], axis=1)\n",
    "XXwo_scaled=np.array(XXwo)\n",
    "print(XXwo_scaled.shape)"
   ]
  },
  {
   "cell_type": "code",
   "execution_count": null,
   "metadata": {
    "ExecuteTime": {
     "end_time": "2018-05-29T09:14:08.087881Z",
     "start_time": "2018-05-29T09:09:03.016596Z"
    },
    "collapsed": true
   },
   "outputs": [],
   "source": [
    "# Fit gridsearch models to select best estimator\n",
    "# estimated variance\n",
    "\n",
    "helper3 = EstimatorSelectionHelper(models3, params3)\n",
    "helper3.fit(XXwo_scaled+0.0001, y_log, n_jobs=n_jobs, scoring='explained_variance') "
   ]
  },
  {
   "cell_type": "code",
   "execution_count": null,
   "metadata": {
    "ExecuteTime": {
     "end_time": "2018-05-29T09:15:47.118743Z",
     "start_time": "2018-05-29T09:15:47.080917Z"
    },
    "collapsed": true
   },
   "outputs": [],
   "source": [
    "# Compare performance for estimators\n",
    "helper3.score_summary(sort_by='mean_score')"
   ]
  },
  {
   "cell_type": "markdown",
   "metadata": {},
   "source": [
    "## Model with PCA, WF Bins"
   ]
  },
  {
   "cell_type": "code",
   "execution_count": null,
   "metadata": {
    "ExecuteTime": {
     "end_time": "2018-08-03T20:59:27.119715Z",
     "start_time": "2018-08-03T20:59:26.556578Z"
    },
    "collapsed": true
   },
   "outputs": [],
   "source": [
    "# PREP DATA\n",
    "\n",
    "# Scale the data first (i.e., the chemical properties) so everything is from 0 to 1\n",
    "from sklearn.preprocessing import MinMaxScaler\n",
    "scaler = MinMaxScaler()\n",
    "wf_scaled = scaler.fit_transform(wfdata)\n",
    "\n",
    "from sklearn import decomposition \n",
    "pca=decomposition.PCA(n_components=46)\n",
    "dim_red=pca.fit_transform(wf_scaled)"
   ]
  },
  {
   "cell_type": "markdown",
   "metadata": {},
   "source": [
    "Define helper class from earlier."
   ]
  },
  {
   "cell_type": "code",
   "execution_count": null,
   "metadata": {
    "ExecuteTime": {
     "end_time": "2018-08-03T20:59:51.433541Z",
     "start_time": "2018-08-03T20:59:51.309713Z"
    },
    "collapsed": true
   },
   "outputs": [],
   "source": [
    "# Set up for grid search across multiple pipelines\n",
    "from sklearn.model_selection import GridSearchCV\n",
    "\n",
    "cv=5\n",
    "class EstimatorSelectionHelper:\n",
    "\n",
    "    def __init__(self, models, params):\n",
    "        if not set(models.keys()).issubset(set(params.keys())):\n",
    "            missing_params = list(set(models.keys()) - set(params.keys()))\n",
    "            raise ValueError(\"Some estimators are missing parameters: %s\" % missing_params)\n",
    "        self.models = models\n",
    "        self.params = params\n",
    "        self.keys = models.keys()\n",
    "        self.grid_searches = {}\n",
    "\n",
    "    def fit(self, X, y, cv=cv, n_jobs=1, verbose=1, scoring='accuracy', refit=False):\n",
    "        for key in self.keys:\n",
    "            print(\"Running GridSearchCV for %s.\" % key)\n",
    "            model = self.models[key]\n",
    "            params = self.params[key]\n",
    "            gs = GridSearchCV(model, params, cv=cv, n_jobs=n_jobs,\n",
    "                              verbose=verbose, scoring=scoring, refit=refit,\n",
    "                              return_train_score=True)\n",
    "            gs.fit(X,y)\n",
    "            self.grid_searches[key] = gs    \n",
    "\n",
    "    def score_summary(self, sort_by='mean_score'):\n",
    "        def row(key, scores, params):\n",
    "            d = {\n",
    "                 'estimator': key,\n",
    "                 'min_score': min(scores),\n",
    "                 'max_score': max(scores),\n",
    "                 'mean_score': np.mean(scores),\n",
    "                 'std_score': np.std(scores),\n",
    "            }\n",
    "            return pd.Series({**params,**d})\n",
    "\n",
    "        rows = []\n",
    "        for k in self.grid_searches:\n",
    "            print(k)\n",
    "            params = self.grid_searches[k].cv_results_['params']\n",
    "            scores = []\n",
    "            for i in range(self.grid_searches[k].cv):\n",
    "                key = \"split{}_test_score\".format(i)\n",
    "                r = self.grid_searches[k].cv_results_[key]        \n",
    "                scores.append(r.reshape(len(params),1))\n",
    "\n",
    "            all_scores = np.hstack(scores)\n",
    "            for p, s in zip(params,all_scores):\n",
    "                rows.append((row(k, s, p)))\n",
    "\n",
    "        df = pd.concat(rows, axis=1).T.sort_values([sort_by], ascending=False)\n",
    "\n",
    "        columns = ['estimator', 'min_score', 'mean_score', 'max_score', 'std_score']\n",
    "        columns = columns + [c for c in df.columns if c not in columns]\n",
    "\n",
    "        return df[columns]"
   ]
  },
  {
   "cell_type": "code",
   "execution_count": null,
   "metadata": {
    "ExecuteTime": {
     "end_time": "2018-08-03T21:00:04.866012Z",
     "start_time": "2018-08-03T21:00:04.854731Z"
    },
    "collapsed": true
   },
   "outputs": [],
   "source": [
    "# Define sets of models and their respective parameters to compare\n",
    "# The first dictionary contains the models to be scored\n",
    "# while the second contains the parameters for each model\n",
    "\n",
    "from sklearn.cluster import FeatureAgglomeration\n",
    "from sklearn.svm import SVC\n",
    "from sklearn.ensemble import RandomForestClassifier\n",
    "\n",
    "cv=5\n",
    "models1 = {\n",
    "    'RandomForest': RandomForestClassifier(),\n",
    "    'SVC': SVC()\n",
    "}\n",
    "\n",
    "params1 = {\n",
    "    'RandomForest': { 'n_estimators': [8, 16] },\n",
    "    'SVC': [\n",
    "        {'kernel': ['linear'], 'C': [1, 5]},\n",
    "        {'kernel': ['rbf'], 'C': [1, 5], 'gamma': [0.001, 0.0001]},\n",
    "    ]\n",
    "}"
   ]
  },
  {
   "cell_type": "code",
   "execution_count": null,
   "metadata": {
    "ExecuteTime": {
     "end_time": "2018-08-03T21:08:14.621977Z",
     "start_time": "2018-08-03T21:00:14.073609Z"
    },
    "collapsed": true
   },
   "outputs": [],
   "source": [
    "# Fit gridsearch models to select best estimator\n",
    "# Take2\n",
    "helper1 = EstimatorSelectionHelper(models1, params1)\n",
    "helper1.fit(dim_red, bin_num, n_jobs=3) # n_jobs=1 by default\n",
    "\n",
    "# Play sound when done running\n",
    "Audio(url=sound_file, autoplay=True)"
   ]
  },
  {
   "cell_type": "code",
   "execution_count": null,
   "metadata": {
    "ExecuteTime": {
     "end_time": "2018-08-03T21:24:06.339479Z",
     "start_time": "2018-08-03T21:24:06.287084Z"
    },
    "collapsed": true
   },
   "outputs": [],
   "source": [
    "# Compare performance for estimators\n",
    "# Explained variance\n",
    "helper1.score_summary(sort_by='mean_score')"
   ]
  },
  {
   "cell_type": "code",
   "execution_count": null,
   "metadata": {
    "ExecuteTime": {
     "end_time": "2018-08-03T21:27:47.455321Z",
     "start_time": "2018-08-03T21:27:47.443469Z"
    },
    "collapsed": true
   },
   "outputs": [],
   "source": [
    "# Define sets of models and their respective parameters to compare\n",
    "# The first dictionary contains the models to be scored\n",
    "# while the second contains the parameters for each model\n",
    "\n",
    "from sklearn.cluster import FeatureAgglomeration\n",
    "from sklearn.svm import SVC\n",
    "from sklearn.ensemble import RandomForestClassifier\n",
    "\n",
    "cv=5\n",
    "models1 = {\n",
    "    'RandomForest': RandomForestClassifier(),\n",
    "    'SVC': SVC()\n",
    "}\n",
    "\n",
    "params1 = {\n",
    "    'RandomForest': { 'n_estimators': [24] },\n",
    "    'SVC': [\n",
    "        {'kernel': ['linear'], 'C': [3]},\n",
    "        {'kernel': ['rbf'], 'C': [1, 3], 'gamma': [0.001, 0.003, 0.01]},\n",
    "    ]\n",
    "}"
   ]
  },
  {
   "cell_type": "code",
   "execution_count": null,
   "metadata": {
    "ExecuteTime": {
     "end_time": "2018-08-07T17:57:57.508076Z",
     "start_time": "2018-08-03T21:28:06.482385Z"
    },
    "collapsed": true
   },
   "outputs": [],
   "source": [
    "# Fit gridsearch models to select best estimator\n",
    "# Clustered data\n",
    "helper1 = EstimatorSelectionHelper(models1, params1)\n",
    "helper1.fit(XX, bin_num, n_jobs=3) # n_jobs=1 by default\n",
    "\n",
    "# Play sound when done running\n",
    "Audio(url=sound_file, autoplay=True)"
   ]
  },
  {
   "cell_type": "code",
   "execution_count": null,
   "metadata": {
    "collapsed": true
   },
   "outputs": [],
   "source": [
    "# Compare performance for estimators\n",
    "# Explained variance\n",
    "helper2.score_summary(sort_by='mean_score')"
   ]
  },
  {
   "cell_type": "markdown",
   "metadata": {},
   "source": [
    "SVC-RBF performed the best on average. Try optimizing with gridsearch, including preprocessing steps."
   ]
  },
  {
   "cell_type": "markdown",
   "metadata": {},
   "source": [
    "### Optimize SVC-RBF"
   ]
  },
  {
   "cell_type": "code",
   "execution_count": null,
   "metadata": {
    "ExecuteTime": {
     "end_time": "2018-05-29T04:43:48.592282Z",
     "start_time": "2018-05-29T04:33:46.983993Z"
    },
    "collapsed": true
   },
   "outputs": [],
   "source": [
    "# Pipeline/GridSearch to find best optimized model\n",
    "# after selecting ideal estimator\n",
    "\n",
    "from sklearn.pipeline import Pipeline\n",
    "from sklearn.model_selection import GridSearchCV\n",
    "from sklearn.preprocessing import MinMaxScaler\n",
    "from sklearn import decomposition\n",
    "from sklearn.svm import SVC\n",
    "\n",
    "# Pipeline\n",
    "#estimator = SVC(kernel='rbf')\n",
    "pipe = Pipeline([\n",
    "    ('scale', MinMaxScaler()),\n",
    "    ('feat', decomposition.PCA(n_components=46)),\n",
    "    ('estimator', SVC(kernel='rbf'))\n",
    "     ])\n",
    "\n",
    "# Set parameter ranges for gridsearch\n",
    "cv=4 # last ran with 5 --> 0.136648\n",
    "n_jobs=3\n",
    "c_set=[3,4,5]\n",
    "gamma_set=[0.0001,0.0003,0.005]\n",
    "\n",
    "# Gridsearch\n",
    "param_grid={'estimator__C': c_set,\n",
    "            'estimator__gamma': gamma_set\n",
    "           }\n",
    "grid_search=GridSearchCV(pipe,param_grid,cv=cv,scoring='explained_variance', n_jobs=n_jobs, pre_dispatch=2*n_jobs)\n",
    "grid_search.fit(wfdata,bin_num)\n",
    "print(grid_search.best_params_)\n",
    "print(grid_search.best_score_)\n",
    "\n",
    "# Play sound when done running\n",
    "Audio(url=sound_file, autoplay=True)"
   ]
  },
  {
   "cell_type": "code",
   "execution_count": null,
   "metadata": {
    "ExecuteTime": {
     "end_time": "2018-05-29T04:57:27.872234Z",
     "start_time": "2018-05-29T04:47:44.529903Z"
    },
    "collapsed": true
   },
   "outputs": [],
   "source": [
    "# Pipeline/GridSearch to find best optimized model\n",
    "# after selecting ideal estimator\n",
    "\n",
    "from sklearn.pipeline import Pipeline\n",
    "from sklearn.model_selection import GridSearchCV\n",
    "from sklearn.preprocessing import MinMaxScaler\n",
    "from sklearn import decomposition\n",
    "from sklearn.svm import SVC\n",
    "\n",
    "# Pipeline\n",
    "#estimator = SVC(kernel='rbf')\n",
    "pipe = Pipeline([\n",
    "    ('scale', MinMaxScaler()),\n",
    "    ('feat', decomposition.PCA(n_components=46)),\n",
    "    ('estimator', SVC(kernel='rbf'))\n",
    "     ])\n",
    "\n",
    "# Set parameter ranges for gridsearch\n",
    "cv=5\n",
    "n_jobs=3\n",
    "c_set=[4,5,6]\n",
    "gamma_set=[0.0003,0.0005,0.0007]\n",
    "\n",
    "# Gridsearch\n",
    "param_grid={'estimator__C': c_set,\n",
    "            'estimator__gamma': gamma_set\n",
    "           }\n",
    "grid_search=GridSearchCV(pipe,param_grid,cv=cv,scoring='explained_variance', n_jobs=n_jobs, pre_dispatch=2*n_jobs)\n",
    "grid_search.fit(wfdata,bin_num)\n",
    "\n",
    "#scores = grid.cv_results_['mean_test_score'].reshape(len(C_range),\n",
    "#                                                     len(gamma_range))\n",
    "print(grid_search.best_params_)\n",
    "print(grid_search.best_score_)\n",
    "\n",
    "# Play sound when done running\n",
    "Audio(url=sound_file, autoplay=True)"
   ]
  },
  {
   "cell_type": "code",
   "execution_count": null,
   "metadata": {
    "collapsed": true
   },
   "outputs": [],
   "source": [
    "# Draw heatmap of the validation accuracy as a function of gamma and C\n",
    "#\n",
    "# The score are encoded as colors with the hot colormap which varies from dark\n",
    "# red to bright yellow. As the most interesting scores are all located in the\n",
    "# 0.92 to 0.97 range we use a custom normalizer to set the mid-point to 0.92 so\n",
    "# as to make it easier to visualize the small variations of score values in the\n",
    "# interesting range while not brutally collapsing all the low score values to\n",
    "# the same color.\n",
    "\n",
    "plt.figure(figsize=(8, 6))\n",
    "plt.subplots_adjust(left=.2, right=0.95, bottom=0.15, top=0.95)\n",
    "plt.imshow(scores, interpolation='nearest', cmap=plt.cm.hot,\n",
    "           norm=MidpointNormalize(vmin=0.2, midpoint=0.92))\n",
    "plt.xlabel('gamma')\n",
    "plt.ylabel('C')\n",
    "plt.colorbar()\n",
    "plt.xticks(np.arange(len(gamma_range)), gamma_range, rotation=45)\n",
    "plt.yticks(np.arange(len(C_range)), C_range)\n",
    "plt.title('Validation accuracy')\n",
    "plt.show()"
   ]
  },
  {
   "cell_type": "markdown",
   "metadata": {},
   "source": [
    "### Final Organics Model"
   ]
  },
  {
   "cell_type": "code",
   "execution_count": null,
   "metadata": {
    "ExecuteTime": {
     "end_time": "2018-08-31T19:17:29.567331Z",
     "start_time": "2018-08-31T19:17:29.504302Z"
    },
    "collapsed": true
   },
   "outputs": [],
   "source": [
    "bestpipe = Pipeline([\n",
    "    ('scale', MinMaxScaler()),\n",
    "    ('feat', decomposition.PCA(n_components=46)),\n",
    "    ('estimator', SVC(kernel='rbf', C=5, gamma=0.0003))\n",
    "     ])\n",
    "bestpipe.fit(wf,bin_num)"
   ]
  },
  {
   "cell_type": "code",
   "execution_count": null,
   "metadata": {
    "ExecuteTime": {
     "end_time": "2018-06-15T22:02:18.595191Z",
     "start_time": "2018-06-15T22:01:56.220917Z"
    },
    "collapsed": true
   },
   "outputs": [],
   "source": [
    "bestpipe = Pipeline([\n",
    "    ('scale', MinMaxScaler()),\n",
    "    ('feat', decomposition.PCA(n_components=46)),\n",
    "    ('estimator', SVR(kernel='rbf', C=5, gamma=0.0003))\n",
    "     ])\n",
    "bestpipe.fit(XX,y_log)"
   ]
  },
  {
   "cell_type": "code",
   "execution_count": null,
   "metadata": {
    "ExecuteTime": {
     "end_time": "2018-06-15T22:02:44.496047Z",
     "start_time": "2018-06-15T22:02:27.659081Z"
    },
    "collapsed": true
   },
   "outputs": [],
   "source": [
    "y_predict=bestpipe.predict(XX)"
   ]
  },
  {
   "cell_type": "code",
   "execution_count": null,
   "metadata": {
    "ExecuteTime": {
     "end_time": "2018-05-29T18:29:35.992366Z",
     "start_time": "2018-05-29T18:29:35.977792Z"
    },
    "collapsed": true
   },
   "outputs": [],
   "source": [
    "# Check model performance\n",
    "#y_blind_predict=bestpipe.predict_proba(X_blind)\n",
    "\n",
    "from sklearn import metrics\n",
    "metrics.roc_auc_score(np.log(y),y_predict[:,1])"
   ]
  },
  {
   "cell_type": "code",
   "execution_count": null,
   "metadata": {
    "ExecuteTime": {
     "end_time": "2018-06-15T22:03:11.171295Z",
     "start_time": "2018-06-15T22:03:10.987905Z"
    },
    "collapsed": true
   },
   "outputs": [],
   "source": [
    "# AFTER adjusting y_log\n",
    "plt.plot(y_log,y_predict,'.')\n",
    "plt.title('predicted vs actual')"
   ]
  },
  {
   "cell_type": "code",
   "execution_count": null,
   "metadata": {
    "ExecuteTime": {
     "end_time": "2018-06-14T18:20:08.329378Z",
     "start_time": "2018-06-14T18:20:08.152755Z"
    },
    "collapsed": true
   },
   "outputs": [],
   "source": [
    "plt.plot(np.exp(y_log),np.exp(y_predict),'.')"
   ]
  },
  {
   "cell_type": "code",
   "execution_count": null,
   "metadata": {
    "ExecuteTime": {
     "end_time": "2018-06-14T17:24:21.102809Z",
     "start_time": "2018-06-14T17:24:20.955766Z"
    },
    "collapsed": true
   },
   "outputs": [],
   "source": [
    "# BEFORE\n",
    "plt.plot(np.log(y),y_predict,'.')\n",
    "plt.title('predicted vs actual')"
   ]
  },
  {
   "cell_type": "code",
   "execution_count": null,
   "metadata": {
    "collapsed": true
   },
   "outputs": [],
   "source": [
    "# add in offset (e.g., 1/10,000) when I take the y-log\n",
    "# what threshold is actually reasonable for my model?\n",
    "# be sure to state limitations"
   ]
  },
  {
   "cell_type": "markdown",
   "metadata": {
    "ExecuteTime": {
     "end_time": "2018-08-01T22:13:23.241143Z",
     "start_time": "2018-08-01T22:13:23.237012Z"
    }
   },
   "source": [
    "### Final ENM Model"
   ]
  },
  {
   "cell_type": "code",
   "execution_count": 77,
   "metadata": {
    "ExecuteTime": {
     "end_time": "2018-08-01T22:19:37.458373Z",
     "start_time": "2018-08-01T22:19:37.046639Z"
    }
   },
   "outputs": [
    {
     "name": "stdout",
     "output_type": "stream",
     "text": [
      "{'estimator__C': 1, 'estimator__gamma': 0.01}\n",
      "0.43902439024390244\n"
     ]
    },
    {
     "data": {
      "text/html": [
       "\n",
       "                <audio controls=\"controls\" autoplay=\"autoplay\">\n",
       "                    <source src=\"./data/Glass.wav\" type=\"audio/x-wav\" />\n",
       "                    Your browser does not support the audio element.\n",
       "                </audio>\n",
       "              "
      ],
      "text/plain": [
       "<IPython.lib.display.Audio object>"
      ]
     },
     "execution_count": 77,
     "metadata": {},
     "output_type": "execute_result"
    }
   ],
   "source": [
    "# SVR-RBF with all features, normalized\n",
    "    # Log-transformed weight fractions\n",
    "    # Explained variance\n",
    "\n",
    "from sklearn.pipeline import Pipeline\n",
    "from sklearn.model_selection import GridSearchCV\n",
    "from sklearn.svm import SVC\n",
    "\n",
    "# Pipeline\n",
    "estimator = SVC(kernel='rbf')\n",
    "prepipe = Pipeline([\n",
    "    ('scale', MinMaxScaler()),\n",
    "    ('estimator', estimator)\n",
    "])\n",
    "\n",
    "# Set parameter ranges for gridsearch\n",
    "cv=5\n",
    "n_jobs=3\n",
    "c_set=[1,5]\n",
    "gamma_set=[0.01, 0.1]\n",
    "\n",
    "# Gridsearch\n",
    "param_grid={'estimator__C': c_set,\n",
    "            'estimator__gamma': gamma_set\n",
    "           }\n",
    "grid_search=GridSearchCV(prepipe,param_grid,cv=cv,scoring='accuracy', n_jobs=n_jobs, pre_dispatch=2*n_jobs)\n",
    "grid_search.fit(XX_enm,bin_num_enm)\n",
    "print(grid_search.best_params_)\n",
    "print(grid_search.best_score_)\n",
    "\n",
    "# Play sound when done running\n",
    "Audio(url=sound_file, autoplay=True)"
   ]
  },
  {
   "cell_type": "code",
   "execution_count": 78,
   "metadata": {
    "ExecuteTime": {
     "end_time": "2018-08-01T22:20:54.708420Z",
     "start_time": "2018-08-01T22:20:54.312900Z"
    }
   },
   "outputs": [
    {
     "name": "stdout",
     "output_type": "stream",
     "text": [
      "{'estimator__C': 3, 'estimator__gamma': 0.03}\n",
      "0.3902439024390244\n"
     ]
    },
    {
     "data": {
      "text/html": [
       "\n",
       "                <audio controls=\"controls\" autoplay=\"autoplay\">\n",
       "                    <source src=\"./data/Glass.wav\" type=\"audio/x-wav\" />\n",
       "                    Your browser does not support the audio element.\n",
       "                </audio>\n",
       "              "
      ],
      "text/plain": [
       "<IPython.lib.display.Audio object>"
      ]
     },
     "execution_count": 78,
     "metadata": {},
     "output_type": "execute_result"
    }
   ],
   "source": [
    "# SVR-RBF with all features, normalized\n",
    "    # Log-transformed weight fractions\n",
    "    # Explained variance\n",
    "\n",
    "from sklearn.pipeline import Pipeline\n",
    "from sklearn.model_selection import GridSearchCV\n",
    "from sklearn.svm import SVC\n",
    "\n",
    "# Pipeline\n",
    "estimator = SVC(kernel='rbf')\n",
    "prepipe = Pipeline([\n",
    "    ('scale', MinMaxScaler()),\n",
    "    ('estimator', estimator)\n",
    "])\n",
    "\n",
    "# Set parameter ranges for gridsearch\n",
    "cv=5\n",
    "n_jobs=3\n",
    "c_set=[2,3,4]\n",
    "gamma_set=[0.03, 0.1,0.3]\n",
    "\n",
    "# Gridsearch\n",
    "param_grid={'estimator__C': c_set,\n",
    "            'estimator__gamma': gamma_set\n",
    "           }\n",
    "grid_search=GridSearchCV(prepipe,param_grid,cv=cv,scoring='accuracy', n_jobs=n_jobs, pre_dispatch=2*n_jobs)\n",
    "grid_search.fit(XX_enm,bin_num_enm)\n",
    "print(grid_search.best_params_)\n",
    "print(grid_search.best_score_)\n",
    "\n",
    "# Play sound when done running\n",
    "Audio(url=sound_file, autoplay=True)"
   ]
  },
  {
   "cell_type": "code",
   "execution_count": 79,
   "metadata": {
    "ExecuteTime": {
     "end_time": "2018-08-03T18:54:28.108013Z",
     "start_time": "2018-08-03T18:54:28.070613Z"
    }
   },
   "outputs": [
    {
     "data": {
      "text/plain": [
       "Pipeline(memory=None,\n",
       "     steps=[('scale', MinMaxScaler(copy=True, feature_range=(0, 1))), ('estimator', SVC(C=3, cache_size=200, class_weight=None, coef0=0.0,\n",
       "  decision_function_shape='ovr', degree=3, gamma=0.1, kernel='rbf',\n",
       "  max_iter=-1, probability=False, random_state=None, shrinking=True,\n",
       "  tol=0.001, verbose=False))])"
      ]
     },
     "execution_count": 79,
     "metadata": {},
     "output_type": "execute_result"
    }
   ],
   "source": [
    "# Final pipeline\n",
    "bestpipe = Pipeline([\n",
    "    ('scale', MinMaxScaler()),\n",
    "    ('estimator', SVC(kernel='rbf', C=3, gamma=0.1))\n",
    "     ])\n",
    "bestpipe.fit(XX_enm,bin_num_enm)"
   ]
  },
  {
   "cell_type": "code",
   "execution_count": 80,
   "metadata": {
    "ExecuteTime": {
     "end_time": "2018-08-03T18:57:42.645897Z",
     "start_time": "2018-08-03T18:57:42.638034Z"
    },
    "collapsed": true
   },
   "outputs": [],
   "source": [
    "# Predictions for ENM WF\n",
    "y_enm_predict=bestpipe.predict(XX_enm) "
   ]
  },
  {
   "cell_type": "code",
   "execution_count": 81,
   "metadata": {
    "ExecuteTime": {
     "end_time": "2018-08-03T19:15:35.044805Z",
     "start_time": "2018-08-03T19:15:35.017228Z"
    }
   },
   "outputs": [
    {
     "data": {
      "text/plain": [
       "0.6951219512195121"
      ]
     },
     "execution_count": 81,
     "metadata": {},
     "output_type": "execute_result"
    }
   ],
   "source": [
    "# Accuracy score of model\n",
    "from sklearn.metrics import accuracy_score\n",
    "accuracy_score(bin_num_enm, y_enm_predict, normalize=True, sample_weight=None)"
   ]
  },
  {
   "cell_type": "code",
   "execution_count": 82,
   "metadata": {
    "ExecuteTime": {
     "end_time": "2018-09-03T17:37:56.514501Z",
     "start_time": "2018-09-03T17:37:56.474856Z"
    },
    "collapsed": true
   },
   "outputs": [],
   "source": [
    "# Make a confusion matrix to summarize accuracy across labels\n",
    "from sklearn.metrics import confusion_matrix\n",
    "import itertools\n",
    "\n",
    "def plot_confusion_matrix(cm, classes,\n",
    "                          normalize=False,\n",
    "                          title='Confusion matrix',\n",
    "                          cmap=plt.cm.Blues):\n",
    "    \"\"\"\n",
    "    This function prints and plots the confusion matrix.\n",
    "    Normalization can be applied by setting `normalize=True`.\n",
    "    \"\"\"\n",
    "    if normalize:\n",
    "        cm = cm.astype('float') / cm.sum(axis=1)[:, np.newaxis]\n",
    "        print(\"Normalized confusion matrix\")\n",
    "    else:\n",
    "        print('Confusion matrix, without normalization')\n",
    "\n",
    "    print(cm)\n",
    "\n",
    "    plt.imshow(cm, interpolation='nearest', cmap=cmap)\n",
    "    plt.title(title)\n",
    "    plt.colorbar()\n",
    "    tick_marks = np.arange(len(classes))\n",
    "    plt.xticks(tick_marks, classes, rotation=45)\n",
    "    plt.yticks(tick_marks, classes)\n",
    "\n",
    "    fmt = '.2f' if normalize else 'd'\n",
    "    thresh = cm.max() / 2.\n",
    "    for i, j in itertools.product(range(cm.shape[0]), range(cm.shape[1])):\n",
    "        plt.text(j, i, format(cm[i, j], fmt),\n",
    "                 horizontalalignment=\"center\",\n",
    "                 color=\"white\" if cm[i, j] > thresh else \"black\")\n",
    "    plt.tight_layout()\n",
    "    plt.ylabel('True label')\n",
    "    plt.xlabel('Predicted label')"
   ]
  },
  {
   "cell_type": "code",
   "execution_count": 83,
   "metadata": {
    "ExecuteTime": {
     "end_time": "2018-08-10T19:09:17.644994Z",
     "start_time": "2018-08-10T19:09:17.260126Z"
    }
   },
   "outputs": [
    {
     "name": "stdout",
     "output_type": "stream",
     "text": [
      "Confusion matrix, without normalization\n",
      "[[24  4  1]\n",
      " [10 23  3]\n",
      " [ 5  2 10]]\n",
      "Normalized confusion matrix\n",
      "[[0.83 0.14 0.03]\n",
      " [0.28 0.64 0.08]\n",
      " [0.29 0.12 0.59]]\n"
     ]
    },
    {
     "data": {
      "image/png": "[encoded data removed]",
      "text/plain": [
       "<Figure size 432x288 with 2 Axes>"
      ]
     },
     "metadata": {},
     "output_type": "display_data"
    },
    {
     "data": {
      "image/png": "[encoded data removed]",
      "text/plain": [
       "<Figure size 432x288 with 2 Axes>"
      ]
     },
     "metadata": {},
     "output_type": "display_data"
    }
   ],
   "source": [
    "# Define confusion matrix\n",
    "cnf_matrix = confusion_matrix(bin_num_enm, y_enm_predict)\n",
    "\n",
    "np.set_printoptions(precision=2)\n",
    "class_names=[\"low\",\"mid\",\"high\"]\n",
    "\n",
    "# Plot non-normalized confusion matrix\n",
    "plt.figure()\n",
    "plot_confusion_matrix(cnf_matrix, classes=class_names,\n",
    "                      title='Confusion matrix, without normalization')\n",
    "# Plot normalized confusion matrix\n",
    "plt.figure()\n",
    "plot_confusion_matrix(cnf_matrix, classes=class_names, normalize=True,\n",
    "                      title='Normalized confusion matrix')\n",
    "\n",
    "plt.show()"
   ]
  },
  {
   "cell_type": "markdown",
   "metadata": {
    "collapsed": true
   },
   "source": [
    "### NEW ENM Model (Clusters)"
   ]
  },
  {
   "cell_type": "code",
   "execution_count": 84,
   "metadata": {
    "ExecuteTime": {
     "end_time": "2018-09-03T17:24:00.997154Z",
     "start_time": "2018-09-03T17:24:00.647702Z"
    }
   },
   "outputs": [
    {
     "name": "stdout",
     "output_type": "stream",
     "text": [
      "{'estimator__C': 0.1, 'estimator__gamma': 0.0001}\n",
      "0.4146341463414634\n"
     ]
    },
    {
     "data": {
      "text/html": [
       "\n",
       "                <audio controls=\"controls\" autoplay=\"autoplay\">\n",
       "                    <source src=\"./data/Glass.wav\" type=\"audio/x-wav\" />\n",
       "                    Your browser does not support the audio element.\n",
       "                </audio>\n",
       "              "
      ],
      "text/plain": [
       "<IPython.lib.display.Audio object>"
      ]
     },
     "execution_count": 84,
     "metadata": {},
     "output_type": "execute_result"
    }
   ],
   "source": [
    "# SVR-RBF with all features, normalized\n",
    "    # ENM weight fractions\n",
    "    # Accuracy\n",
    "\n",
    "from sklearn.pipeline import Pipeline\n",
    "from sklearn.model_selection import GridSearchCV\n",
    "from sklearn.svm import SVC\n",
    "\n",
    "# Pipeline\n",
    "estimator = SVC(kernel='rbf',class_weight='balanced')\n",
    "prepipe = Pipeline([\n",
    "#    ('scale', MinMaxScaler()),\n",
    "    ('estimator', estimator)\n",
    "])\n",
    "\n",
    "# Set parameter ranges for gridsearch\n",
    "cv=4\n",
    "n_jobs=3\n",
    "c_set=[0.1,1,5]\n",
    "gamma_set=[0.0001, 0.001]\n",
    "\n",
    "# Gridsearch\n",
    "param_grid={'estimator__C': c_set,\n",
    "            'estimator__gamma': gamma_set\n",
    "           }\n",
    "grid_search=GridSearchCV(prepipe,param_grid,cv=cv,scoring='accuracy', n_jobs=n_jobs, pre_dispatch=2*n_jobs)\n",
    "grid_search.fit(XX_enm,bin_num_enm) #dim_red_enm\n",
    "print(grid_search.best_params_)\n",
    "print(grid_search.best_score_)\n",
    "\n",
    "# Play sound when done running\n",
    "Audio(url=sound_file, autoplay=True)"
   ]
  },
  {
   "cell_type": "code",
   "execution_count": 85,
   "metadata": {
    "ExecuteTime": {
     "end_time": "2018-09-03T18:10:06.971237Z",
     "start_time": "2018-09-03T18:10:06.956662Z"
    }
   },
   "outputs": [
    {
     "data": {
      "text/plain": [
       "Pipeline(memory=None,\n",
       "     steps=[('scale', MinMaxScaler(copy=True, feature_range=(0, 1))), ('estimator', SVC(C=0.1, cache_size=200, class_weight='balanced', coef0=0.0,\n",
       "  decision_function_shape='ovr', degree=3, gamma=0.0001, kernel='rbf',\n",
       "  max_iter=-1, probability=False, random_state=None, shrinking=True,\n",
       "  tol=0.001, verbose=False))])"
      ]
     },
     "execution_count": 85,
     "metadata": {},
     "output_type": "execute_result"
    }
   ],
   "source": [
    "# Final pipeline\n",
    "bestpipe = Pipeline([\n",
    "    ('scale', MinMaxScaler()),\n",
    "    ('estimator', SVC(kernel='rbf',class_weight='balanced', C=0.1, gamma=0.0001))\n",
    "     ])\n",
    "bestpipe.fit(XX_enm,bin_num_enm)"
   ]
  },
  {
   "cell_type": "code",
   "execution_count": 86,
   "metadata": {
    "ExecuteTime": {
     "end_time": "2018-09-03T18:10:09.264219Z",
     "start_time": "2018-09-03T18:10:09.258005Z"
    },
    "collapsed": true
   },
   "outputs": [],
   "source": [
    "# Predictions for ENM WF\n",
    "y_enm_predict=bestpipe.predict(XX_enm) "
   ]
  },
  {
   "cell_type": "code",
   "execution_count": 87,
   "metadata": {
    "ExecuteTime": {
     "end_time": "2018-09-03T18:10:12.358549Z",
     "start_time": "2018-09-03T18:10:12.350288Z"
    }
   },
   "outputs": [
    {
     "data": {
      "text/plain": [
       "0.43902439024390244"
      ]
     },
     "execution_count": 87,
     "metadata": {},
     "output_type": "execute_result"
    }
   ],
   "source": [
    "# Accuracy score of model\n",
    "from sklearn.metrics import accuracy_score\n",
    "accuracy_score(bin_num_enm, y_enm_predict, normalize=True, sample_weight=None)"
   ]
  },
  {
   "cell_type": "code",
   "execution_count": 88,
   "metadata": {
    "ExecuteTime": {
     "end_time": "2018-09-03T18:10:18.495723Z",
     "start_time": "2018-09-03T18:10:18.047789Z"
    }
   },
   "outputs": [
    {
     "name": "stdout",
     "output_type": "stream",
     "text": [
      "Confusion matrix, without normalization\n",
      "[[ 0 29  0]\n",
      " [ 0 36  0]\n",
      " [ 0 17  0]]\n",
      "Normalized confusion matrix\n",
      "[[0. 1. 0.]\n",
      " [0. 1. 0.]\n",
      " [0. 1. 0.]]\n"
     ]
    },
    {
     "data": {
      "image/png": "[encoded data removed]",
      "text/plain": [
       "<Figure size 432x288 with 2 Axes>"
      ]
     },
     "metadata": {},
     "output_type": "display_data"
    },
    {
     "data": {
      "image/png": "[encoded data removed]",
      "text/plain": [
       "<Figure size 432x288 with 2 Axes>"
      ]
     },
     "metadata": {},
     "output_type": "display_data"
    }
   ],
   "source": [
    "# Define confusion matrix\n",
    "cnf_matrix = confusion_matrix(bin_num_enm, y_enm_predict)\n",
    "\n",
    "np.set_printoptions(precision=2)\n",
    "class_names=[\"low\",\"mid\",\"high\"]\n",
    "\n",
    "# Plot non-normalized confusion matrix\n",
    "plt.figure()\n",
    "plot_confusion_matrix(cnf_matrix, classes=class_names,\n",
    "                      title='Confusion matrix, without normalization')\n",
    "# Plot normalized confusion matrix\n",
    "plt.figure()\n",
    "plot_confusion_matrix(cnf_matrix, classes=class_names, normalize=True,\n",
    "                      title='Normalized confusion matrix')\n",
    "\n",
    "plt.show()"
   ]
  },
  {
   "cell_type": "markdown",
   "metadata": {
    "collapsed": true
   },
   "source": [
    "### NEW ENM Model (PCA)"
   ]
  },
  {
   "cell_type": "code",
   "execution_count": 152,
   "metadata": {
    "ExecuteTime": {
     "end_time": "2018-09-03T18:11:43.149406Z",
     "start_time": "2018-09-03T18:11:42.911606Z"
    }
   },
   "outputs": [
    {
     "name": "stdout",
     "output_type": "stream",
     "text": [
      "{'estimator__C': 0.01, 'estimator__gamma': 1e-06}\n",
      "0.43902439024390244\n"
     ]
    },
    {
     "data": {
      "text/html": [
       "\n",
       "                <audio controls=\"controls\" autoplay=\"autoplay\">\n",
       "                    <source src=\"./data/Glass.wav\" type=\"audio/x-wav\" />\n",
       "                    Your browser does not support the audio element.\n",
       "                </audio>\n",
       "              "
      ],
      "text/plain": [
       "<IPython.lib.display.Audio object>"
      ]
     },
     "execution_count": 152,
     "metadata": {},
     "output_type": "execute_result"
    }
   ],
   "source": [
    "# SVR-RBF with all features, normalized\n",
    "    # ENM weight fractions\n",
    "    # Accuracy\n",
    "\n",
    "from sklearn.pipeline import Pipeline\n",
    "from sklearn.model_selection import GridSearchCV\n",
    "from sklearn.svm import SVC\n",
    "\n",
    "# Pipeline\n",
    "estimator = SVC(kernel='rbf',class_weight=None)\n",
    "prepipe = Pipeline([\n",
    "#    ('scale', MinMaxScaler()),\n",
    "    ('estimator', estimator)\n",
    "])\n",
    "\n",
    "# Set parameter ranges for gridsearch\n",
    "cv=5\n",
    "n_jobs=3\n",
    "c_set=np.logspace(-2,4,20)\n",
    "gamma_set=np.logspace(-6,0,20)\n",
    "\n",
    "# Gridsearch\n",
    "param_grid={'estimator__C': c_set,\n",
    "            'estimator__gamma': gamma_set\n",
    "           }\n",
    "grid_search=GridSearchCV(prepipe,param_grid,cv=cv,scoring='accuracy', n_jobs=n_jobs, pre_dispatch=2*n_jobs)\n",
    "grid_search.fit(dim_red_enm,bin_num_enm)\n",
    "print(grid_search.best_params_)\n",
    "print(grid_search.best_score_)\n",
    "\n",
    "# Play sound when done running\n",
    "Audio(url=sound_file, autoplay=True)"
   ]
  },
  {
   "cell_type": "code",
   "execution_count": 1,
   "metadata": {
    "ExecuteTime": {
     "end_time": "2018-09-03T21:33:10.377516Z",
     "start_time": "2018-09-03T21:33:09.700021Z"
    }
   },
   "outputs": [
    {
     "ename": "NameError",
     "evalue": "name 'np' is not defined",
     "output_type": "error",
     "traceback": [
      "\u001b[0;31m---------------------------------------------------------------------------\u001b[0m",
      "\u001b[0;31mNameError\u001b[0m                                 Traceback (most recent call last)",
      "\u001b[0;32m<ipython-input-1-d099beac4a36>\u001b[0m in \u001b[0;36m<module>\u001b[0;34m()\u001b[0m\n\u001b[1;32m     17\u001b[0m \u001b[0mcv\u001b[0m\u001b[0;34m=\u001b[0m\u001b[0;36m10\u001b[0m\u001b[0;34m\u001b[0m\u001b[0m\n\u001b[1;32m     18\u001b[0m \u001b[0mn_jobs\u001b[0m\u001b[0;34m=\u001b[0m\u001b[0;36m3\u001b[0m\u001b[0;34m\u001b[0m\u001b[0m\n\u001b[0;32m---> 19\u001b[0;31m \u001b[0mc_set\u001b[0m\u001b[0;34m=\u001b[0m\u001b[0mnp\u001b[0m\u001b[0;34m.\u001b[0m\u001b[0mlogspace\u001b[0m\u001b[0;34m(\u001b[0m\u001b[0;34m-\u001b[0m\u001b[0;36m2\u001b[0m\u001b[0;34m,\u001b[0m\u001b[0;36m4\u001b[0m\u001b[0;34m,\u001b[0m\u001b[0;36m20\u001b[0m\u001b[0;34m)\u001b[0m\u001b[0;34m\u001b[0m\u001b[0m\n\u001b[0m\u001b[1;32m     20\u001b[0m \u001b[0mgamma_set\u001b[0m\u001b[0;34m=\u001b[0m\u001b[0mnp\u001b[0m\u001b[0;34m.\u001b[0m\u001b[0mlogspace\u001b[0m\u001b[0;34m(\u001b[0m\u001b[0;34m-\u001b[0m\u001b[0;36m6\u001b[0m\u001b[0;34m,\u001b[0m\u001b[0;36m0\u001b[0m\u001b[0;34m,\u001b[0m\u001b[0;36m20\u001b[0m\u001b[0;34m)\u001b[0m\u001b[0;34m\u001b[0m\u001b[0m\n\u001b[1;32m     21\u001b[0m \u001b[0;34m\u001b[0m\u001b[0m\n",
      "\u001b[0;31mNameError\u001b[0m: name 'np' is not defined"
     ]
    }
   ],
   "source": [
    "# SVR-RBF with all features, normalized\n",
    "    # ENM weight fractions\n",
    "    # Accuracy\n",
    "\n",
    "from sklearn.pipeline import Pipeline\n",
    "from sklearn.model_selection import GridSearchCV\n",
    "from sklearn.svm import SVC\n",
    "\n",
    "# Pipeline\n",
    "estimator = SVC(kernel='rbf',class_weight=None)\n",
    "prepipe = Pipeline([\n",
    "#    ('scale', MinMaxScaler()),\n",
    "    ('estimator', estimator)\n",
    "])\n",
    "\n",
    "# Set parameter ranges for gridsearch\n",
    "cv=10\n",
    "n_jobs=3\n",
    "c_set=np.logspace(-2,4,20)\n",
    "gamma_set=np.logspace(-6,0,20)\n",
    "\n",
    "# Gridsearch\n",
    "param_grid={'estimator__C': c_set,\n",
    "            'estimator__gamma': gamma_set\n",
    "           }\n",
    "grid_search=GridSearchCV(prepipe,param_grid,cv=cv,scoring='accuracy', n_jobs=n_jobs, pre_dispatch=2*n_jobs)\n",
    "grid_search.fit(dim_red_enm,bin_num_enm)\n",
    "print(grid_search.best_params_)\n",
    "print(grid_search.best_score_)\n",
    "\n",
    "# Play sound when done running\n",
    "Audio(url=sound_file, autoplay=True)"
   ]
  },
  {
   "cell_type": "code",
   "execution_count": 155,
   "metadata": {},
   "outputs": [
    {
     "name": "stdout",
     "output_type": "stream",
     "text": [
      "{'estimator__C': 0.7847599703514611, 'estimator__gamma': 0.23357214690901212}\n",
      "0.4634146341463415\n"
     ]
    },
    {
     "data": {
      "text/html": [
       "\n",
       "                <audio controls=\"controls\" autoplay=\"autoplay\">\n",
       "                    <source src=\"./data/Glass.wav\" type=\"audio/x-wav\" />\n",
       "                    Your browser does not support the audio element.\n",
       "                </audio>\n",
       "              "
      ],
      "text/plain": [
       "<IPython.lib.display.Audio object>"
      ]
     },
     "execution_count": 155,
     "metadata": {},
     "output_type": "execute_result"
    }
   ],
   "source": [
    "# SVR-RBF with all features, normalized\n",
    "    # ENM weight fractions\n",
    "    # Accuracy\n",
    "\n",
    "from sklearn.pipeline import Pipeline\n",
    "from sklearn.model_selection import GridSearchCV\n",
    "from sklearn.svm import SVC\n",
    "\n",
    "# Pipeline\n",
    "estimator = SVC(kernel='rbf',class_weight=None)\n",
    "prepipe = Pipeline([\n",
    "   ('scale', MinMaxScaler()),\n",
    "    ('estimator', estimator)\n",
    "])\n",
    "\n",
    "# Set parameter ranges for gridsearch\n",
    "cv=10\n",
    "n_jobs=3\n",
    "c_set=np.logspace(-2,4,20)\n",
    "gamma_set=np.logspace(-6,0,20)\n",
    "\n",
    "# Gridsearch\n",
    "param_grid={'estimator__C': c_set,\n",
    "            'estimator__gamma': gamma_set\n",
    "           }\n",
    "grid_search=GridSearchCV(prepipe,param_grid,cv=cv,scoring='accuracy', n_jobs=n_jobs, pre_dispatch=2*n_jobs)\n",
    "grid_search.fit(XX_enm,bin_num_enm)\n",
    "print(grid_search.best_params_)\n",
    "print(grid_search.best_score_)\n",
    "\n",
    "# Play sound when done running\n",
    "Audio(url=sound_file, autoplay=True)"
   ]
  },
  {
   "cell_type": "code",
   "execution_count": 241,
   "metadata": {},
   "outputs": [
    {
     "name": "stdout",
     "output_type": "stream",
     "text": [
      "{'estimator__max_depth': None, 'estimator__min_samples_split': 10, 'estimator__n_estimators': 10}\n",
      "0.5\n"
     ]
    },
    {
     "data": {
      "text/html": [
       "\n",
       "                <audio controls=\"controls\" autoplay=\"autoplay\">\n",
       "                    <source src=\"./data/Glass.wav\" type=\"audio/x-wav\" />\n",
       "                    Your browser does not support the audio element.\n",
       "                </audio>\n",
       "              "
      ],
      "text/plain": [
       "<IPython.lib.display.Audio object>"
      ]
     },
     "execution_count": 241,
     "metadata": {},
     "output_type": "execute_result"
    }
   ],
   "source": [
    "## Random Forest\n",
    "\n",
    "# SVR-RBF with all features, normalized\n",
    "    # ENM weight fractions\n",
    "    # Accuracy\n",
    "\n",
    "from sklearn.pipeline import Pipeline\n",
    "from sklearn.model_selection import GridSearchCV\n",
    "from sklearn.svm import SVC\n",
    "from sklearn.ensemble import RandomForestClassifier\n",
    "\n",
    "a=RandomForestClassifier()\n",
    "# Pipeline\n",
    "estimator = SVC(kernel='rbf',class_weight=None)\n",
    "prepipe = Pipeline([\n",
    "#    ('scale', MinMaxScaler()),\n",
    "    ('estimator', RandomForestClassifier())\n",
    "])\n",
    "\n",
    "# Set parameter ranges for gridsearch\n",
    "cv=17\n",
    "#cv=model_selection.LeaveOneOut()\n",
    "n_jobs=3\n",
    "c_set=[5,10,15,20]\n",
    "gamma_set=[2,3,4,5,6,7,8,9,10]\n",
    "depths=[None,1,2,3]\n",
    "\n",
    "# Gridsearch\n",
    "param_grid={'estimator__n_estimators': c_set,\n",
    "            'estimator__min_samples_split': gamma_set,\n",
    "            'estimator__max_depth': depths\n",
    "           }\n",
    "grid_search=GridSearchCV(prepipe,param_grid,cv=cv,scoring='accuracy', n_jobs=n_jobs, pre_dispatch=2*n_jobs)\n",
    "grid_search.fit(XX_enm,bin_num_enm)\n",
    "print(grid_search.best_params_)\n",
    "print(grid_search.best_score_)\n",
    "\n",
    "# Play sound when done running\n",
    "Audio(url=sound_file, autoplay=True)"
   ]
  },
  {
   "cell_type": "code",
   "execution_count": 242,
   "metadata": {},
   "outputs": [
    {
     "data": {
      "text/plain": [
       "{'estimator__max_depth': None,\n",
       " 'estimator__min_samples_split': 10,\n",
       " 'estimator__n_estimators': 10}"
      ]
     },
     "execution_count": 242,
     "metadata": {},
     "output_type": "execute_result"
    }
   ],
   "source": [
    "grid_search.best_params_"
   ]
  },
  {
   "cell_type": "code",
   "execution_count": 244,
   "metadata": {
    "collapsed": true
   },
   "outputs": [],
   "source": [
    "from sklearn import model_selection\n",
    "model=RandomForestClassifier(\\\n",
    "    max_depth=None,min_samples_split=9,n_estimators=5,class_weight='balanced')"
   ]
  },
  {
   "cell_type": "code",
   "execution_count": 245,
   "metadata": {
    "collapsed": true
   },
   "outputs": [],
   "source": [
    "kfold = model_selection.StratifiedKFold(n_splits=17,shuffle=True)\n",
    "cnf_matrix2=np.zeros([3,3])\n",
    "X=np.array(XX_enm)\n",
    "y=np.array(bin_num_enm)\n",
    "for train_index,test_index in kfold.split(X,y):\n",
    "    X_train, X_test = X[train_index], X[test_index]\n",
    "    y_train, y_test = y[train_index], y[test_index]\n",
    "    model.fit(X_train,y_train)\n",
    "    y_enm_predict=model.predict(X_test)\n",
    "    cnf_matrix2+= confusion_matrix(y_test, y_enm_predict);"
   ]
  },
  {
   "cell_type": "code",
   "execution_count": 246,
   "metadata": {
    "collapsed": true
   },
   "outputs": [],
   "source": [
    "cnf_matrix=cnf_matrix2.astype(np.int)"
   ]
  },
  {
   "cell_type": "code",
   "execution_count": 208,
   "metadata": {},
   "outputs": [
    {
     "name": "stdout",
     "output_type": "stream",
     "text": [
      "Confusion matrix, without normalization\n",
      "[[13 12  4]\n",
      " [15 14  7]\n",
      " [ 5  3  9]]\n",
      "Normalized confusion matrix\n",
      "[[0.45 0.41 0.14]\n",
      " [0.42 0.39 0.19]\n",
      " [0.29 0.18 0.53]]\n"
     ]
    },
    {
     "data": {
      "image/png": "[encoded data removed]",
      "text/plain": [
       "<Figure size 432x288 with 2 Axes>"
      ]
     },
     "metadata": {},
     "output_type": "display_data"
    },
    {
     "data": {
      "image/png": "[encoded data removed]",
      "text/plain": [
       "<Figure size 432x288 with 2 Axes>"
      ]
     },
     "metadata": {},
     "output_type": "display_data"
    }
   ],
   "source": [
    "np.set_printoptions(precision=2)\n",
    "class_names=[\"low\",\"mid\",\"high\"]\n",
    "\n",
    "# Plot non-normalized confusion matrix\n",
    "plt.figure()\n",
    "plot_confusion_matrix(cnf_matrix, classes=class_names,\n",
    "                      title='Confusion matrix, without normalization')\n",
    "# Plot normalized confusion matrix\n",
    "plt.figure()\n",
    "plot_confusion_matrix(cnf_matrix, classes=class_names, normalize=True,\n",
    "                      title='Normalized confusion matrix')\n",
    "\n",
    "plt.show()"
   ]
  },
  {
   "cell_type": "code",
   "execution_count": 167,
   "metadata": {
    "collapsed": true
   },
   "outputs": [],
   "source": [
    "cnf_matrix = confusion_matrix(bin_num_enm, y_enm_predict);"
   ]
  },
  {
   "cell_type": "code",
   "execution_count": 145,
   "metadata": {
    "ExecuteTime": {
     "end_time": "2018-09-03T18:11:48.769195Z",
     "start_time": "2018-09-03T18:11:48.756988Z"
    }
   },
   "outputs": [
    {
     "data": {
      "text/plain": [
       "Pipeline(memory=None,\n",
       "     steps=[('scale', MinMaxScaler(copy=True, feature_range=(0, 1))), ('estimator', SVC(C=10000.0, cache_size=200, class_weight=None, coef0=0.0,\n",
       "  decision_function_shape='ovr', degree=3, gamma=1.0, kernel='rbf',\n",
       "  max_iter=-1, probability=False, random_state=None, shrinking=True,\n",
       "  tol=0.001, verbose=False))])"
      ]
     },
     "execution_count": 145,
     "metadata": {},
     "output_type": "execute_result"
    }
   ],
   "source": [
    "# Final pipeline\n",
    "bestpipe = Pipeline([\n",
    "    ('scale', MinMaxScaler()),\n",
    "    ('estimator', SVC(kernel='rbf',class_weight=None, C=10000.0, gamma=1.00))\n",
    "     ])\n",
    "bestpipe.fit(dim_red_enm,bin_num_enm)"
   ]
  },
  {
   "cell_type": "code",
   "execution_count": 146,
   "metadata": {
    "ExecuteTime": {
     "end_time": "2018-09-03T18:11:50.102725Z",
     "start_time": "2018-09-03T18:11:50.097996Z"
    },
    "collapsed": true
   },
   "outputs": [],
   "source": [
    "# Predictions for ENM WF\n",
    "y_enm_predict=bestpipe.predict(dim_red_enm) "
   ]
  },
  {
   "cell_type": "code",
   "execution_count": 147,
   "metadata": {
    "ExecuteTime": {
     "end_time": "2018-09-03T18:11:52.216793Z",
     "start_time": "2018-09-03T18:11:52.207596Z"
    }
   },
   "outputs": [
    {
     "data": {
      "text/plain": [
       "0.8048780487804879"
      ]
     },
     "execution_count": 147,
     "metadata": {},
     "output_type": "execute_result"
    }
   ],
   "source": [
    "# Accuracy score of model\n",
    "from sklearn.metrics import accuracy_score\n",
    "accuracy_score(bin_num_enm, y_enm_predict, normalize=True, sample_weight=None)"
   ]
  },
  {
   "cell_type": "code",
   "execution_count": 148,
   "metadata": {
    "ExecuteTime": {
     "end_time": "2018-09-03T18:11:55.131085Z",
     "start_time": "2018-09-03T18:11:54.729029Z"
    }
   },
   "outputs": [
    {
     "name": "stdout",
     "output_type": "stream",
     "text": [
      "Confusion matrix, without normalization\n",
      "[[20  9  0]\n",
      " [ 3 31  2]\n",
      " [ 1  1 15]]\n",
      "Normalized confusion matrix\n",
      "[[0.69 0.31 0.  ]\n",
      " [0.08 0.86 0.06]\n",
      " [0.06 0.06 0.88]]\n"
     ]
    },
    {
     "data": {
      "image/png": "[encoded data removed]",
      "text/plain": [
       "<Figure size 432x288 with 2 Axes>"
      ]
     },
     "metadata": {},
     "output_type": "display_data"
    },
    {
     "data": {
      "image/png": "[encoded data removed]",
      "text/plain": [
       "<Figure size 432x288 with 2 Axes>"
      ]
     },
     "metadata": {},
     "output_type": "display_data"
    }
   ],
   "source": [
    "# Define confusion matrix\n",
    "cnf_matrix = confusion_matrix(bin_num_enm, y_enm_predict)\n",
    "\n",
    "np.set_printoptions(precision=2)\n",
    "class_names=[\"low\",\"mid\",\"high\"]\n",
    "\n",
    "# Plot non-no  rmalized confusion matrix\n",
    "plt.figure()\n",
    "plot_confusion_matrix(cnf_matrix, classes=class_names,\n",
    "                      title='Confusion matrix, without normalization')\n",
    "# Plot normalized confusion matrix\n",
    "plt.figure()\n",
    "plot_confusion_matrix(cnf_matrix, classes=class_names, normalize=True,\n",
    "                      title='Normalized confusion matrix')\n",
    "\n",
    "plt.show()"
   ]
  },
  {
   "cell_type": "code",
   "execution_count": null,
   "metadata": {
    "collapsed": true
   },
   "outputs": [],
   "source": []
  },
  {
   "cell_type": "code",
   "execution_count": null,
   "metadata": {
    "collapsed": true
   },
   "outputs": [],
   "source": []
  },
  {
   "cell_type": "code",
   "execution_count": null,
   "metadata": {
    "collapsed": true
   },
   "outputs": [],
   "source": []
  },
  {
   "cell_type": "code",
   "execution_count": null,
   "metadata": {
    "collapsed": true
   },
   "outputs": [],
   "source": []
  },
  {
   "cell_type": "code",
   "execution_count": null,
   "metadata": {
    "collapsed": true
   },
   "outputs": [],
   "source": []
  },
  {
   "cell_type": "markdown",
   "metadata": {
    "collapsed": true
   },
   "source": [
    "Make a fun plot"
   ]
  },
  {
   "cell_type": "code",
   "execution_count": 236,
   "metadata": {},
   "outputs": [
    {
     "data": {
      "text/plain": [
       "array([76, 38, 39, 15, 79, 68, 26, 78, 55, 56,  1, 33, 32, 47, 73, 30, 51,\n",
       "       23, 64,  4, 19, 20, 16, 50, 65,  0, 80, 36, 29, 42, 34, 37,  9, 27,\n",
       "       59, 62, 75, 46, 58, 63, 54, 71, 28, 69, 35, 81, 18, 44, 24, 12, 52,\n",
       "       22, 11, 53, 17, 10, 13, 41, 70,  2, 25, 21, 57, 72,  3,  6, 67, 61,\n",
       "       49,  7, 40, 31, 77,  8,  5, 66, 60, 74, 48, 43, 14, 45])"
      ]
     },
     "execution_count": 236,
     "metadata": {},
     "output_type": "execute_result"
    }
   ],
   "source": [
    "perm"
   ]
  },
  {
   "cell_type": "code",
   "execution_count": 251,
   "metadata": {},
   "outputs": [
    {
     "name": "stdout",
     "output_type": "stream",
     "text": [
      "[0.4146341463414634]\n",
      "[0.4146341463414634, 0.48]\n",
      "[0.4146341463414634, 0.48, 0.4482758620689655]\n",
      "[0.4146341463414634, 0.48, 0.4482758620689655, 0.3484848484848485]\n",
      "[0.4146341463414634, 0.48, 0.4482758620689655, 0.3484848484848485, 0.44594594594594594]\n",
      "[0.4146341463414634, 0.48, 0.4482758620689655, 0.3484848484848485, 0.44594594594594594, 0.45121951219512196]\n"
     ]
    },
    {
     "data": {
      "text/html": [
       "\n",
       "                <audio controls=\"controls\" autoplay=\"autoplay\">\n",
       "                    <source src=\"./data/Glass.wav\" type=\"audio/x-wav\" />\n",
       "                    Your browser does not support the audio element.\n",
       "                </audio>\n",
       "              "
      ],
      "text/plain": [
       "<IPython.lib.display.Audio object>"
      ]
     },
     "execution_count": 251,
     "metadata": {},
     "output_type": "execute_result"
    }
   ],
   "source": [
    "perm=np.random.permutation(82)\n",
    "Xtemp_full=np.array(XX_enm)[perm]\n",
    "ytemp_full=np.array(bin_num_enm)[perm]\n",
    "\n",
    "prepipe = Pipeline([\n",
    "#    ('scale', MinMaxScaler()),\n",
    "    ('estimator', RandomForestClassifier(class_weight=None))\n",
    "])\n",
    "\n",
    "# Set parameter ranges for gridsearch\n",
    "cv=model_selection.LeaveOneOut()\n",
    "cv=5\n",
    "n_jobs=3\n",
    "c_set=[5]\n",
    "gamma_set=[9]\n",
    "depths=[None]\n",
    "\n",
    "# Gridsearch\n",
    "param_grid={'estimator__n_estimators': c_set,\n",
    "            'estimator__min_samples_split': gamma_set,\n",
    "            'estimator__max_depth': depths\n",
    "           }\n",
    "grid_search=GridSearchCV(prepipe,param_grid,cv=cv,scoring='accuracy', n_jobs=n_jobs, pre_dispatch=2*n_jobs)\n",
    "acc=[]\n",
    "for p in np.arange(.5,1.01,.1):\n",
    "    ndx=np.arange(0,82*p-.001,1,dtype=np.int)\n",
    "    grid_search.fit(Xtemp_full[ndx],ytemp_full[ndx])\n",
    "    #print(grid_search.best_params_)\n",
    "    acc.append(grid_search.best_score_)\n",
    "    print(acc)\n",
    "# Play sound when done running\n",
    "Audio(url=sound_file, autoplay=True)"
   ]
  },
  {
   "cell_type": "code",
   "execution_count": 252,
   "metadata": {},
   "outputs": [
    {
     "data": {
      "text/plain": [
       "[<matplotlib.lines.Line2D at 0x11a404a90>]"
      ]
     },
     "execution_count": 252,
     "metadata": {},
     "output_type": "execute_result"
    },
    {
     "data": {
      "image/png": "[encoded data removed]",
      "text/plain": [
       "<Figure size 432x288 with 1 Axes>"
      ]
     },
     "metadata": {},
     "output_type": "display_data"
    }
   ],
   "source": [
    "plt.plot(acc)"
   ]
  },
  {
   "cell_type": "code",
   "execution_count": 223,
   "metadata": {},
   "outputs": [
    {
     "data": {
      "text/plain": [
       "(82, 39)"
      ]
     },
     "execution_count": 223,
     "metadata": {},
     "output_type": "execute_result"
    }
   ],
   "source": [
    "Xtemp_full.shape"
   ]
  }
 ],
 "metadata": {
  "kernelspec": {
   "display_name": "Python 3",
   "language": "python",
   "name": "python3"
  },
  "language_info": {
   "codemirror_mode": {
    "name": "ipython",
    "version": 3
   },
   "file_extension": ".py",
   "mimetype": "text/x-python",
   "name": "python",
   "nbconvert_exporter": "python",
   "pygments_lexer": "ipython3",
   "version": "3.7.3"
  },
  "toc": {
   "base_numbering": 1,
   "nav_menu": {},
   "number_sections": true,
   "sideBar": true,
   "skip_h1_title": false,
   "title_cell": "Table of Contents",
   "title_sidebar": "Contents",
   "toc_cell": true,
   "toc_position": {
    "height": "calc(100% - 180px)",
    "left": "10px",
    "top": "150px",
    "width": "165px"
   },
   "toc_section_display": true,
   "toc_window_display": true
  }
 },
 "nbformat": 4,
 "nbformat_minor": 2
}
