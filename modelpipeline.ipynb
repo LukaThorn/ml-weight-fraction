{
 "cells": [
  {
   "cell_type": "markdown",
   "metadata": {
    "toc": true
   },
   "source": [
    "<h1>Table of Contents<span class=\"tocSkip\"></span></h1>\n",
    "<div class=\"toc\"><ul class=\"toc-item\"><li><span><a href=\"#Code-Setup\" data-toc-modified-id=\"Code-Setup-1\"><span class=\"toc-item-num\">1&nbsp;&nbsp;</span>Code Setup</a></span><ul class=\"toc-item\"><li><span><a href=\"#Acronyms-and-abbreviations\" data-toc-modified-id=\"Acronyms-and-abbreviations-1.1\"><span class=\"toc-item-num\">1.1&nbsp;&nbsp;</span>Acronyms and abbreviations</a></span></li></ul></li><li><span><a href=\"#Establish-Data-Frames\" data-toc-modified-id=\"Establish-Data-Frames-2\"><span class=\"toc-item-num\">2&nbsp;&nbsp;</span>Establish Data Frames</a></span><ul class=\"toc-item\"><li><span><a href=\"#Read-in-feature-data\" data-toc-modified-id=\"Read-in-feature-data-2.1\"><span class=\"toc-item-num\">2.1&nbsp;&nbsp;</span>Read in feature data</a></span></li><li><span><a href=\"#Read-in-WF-data\" data-toc-modified-id=\"Read-in-WF-data-2.2\"><span class=\"toc-item-num\">2.2&nbsp;&nbsp;</span>Read in WF data</a></span><ul class=\"toc-item\"><li><span><a href=\"#WF-ENM\" data-toc-modified-id=\"WF-ENM-2.2.1\"><span class=\"toc-item-num\">2.2.1&nbsp;&nbsp;</span>WF ENM</a></span></li><li><span><a href=\"#WF-Source\" data-toc-modified-id=\"WF-Source-2.2.2\"><span class=\"toc-item-num\">2.2.2&nbsp;&nbsp;</span>WF Source</a></span></li></ul></li><li><span><a href=\"#Data-frames\" data-toc-modified-id=\"Data-frames-2.3\"><span class=\"toc-item-num\">2.3&nbsp;&nbsp;</span>Data frames</a></span><ul class=\"toc-item\"><li><span><a href=\"#ENM-&amp;-100%-organics\" data-toc-modified-id=\"ENM-&amp;-100%-organics-2.3.1\"><span class=\"toc-item-num\">2.3.1&nbsp;&nbsp;</span>ENM &amp; 100% organics</a></span></li><li><span><a href=\"#ENM-&amp;-10%-organics\" data-toc-modified-id=\"ENM-&amp;-10%-organics-2.3.2\"><span class=\"toc-item-num\">2.3.2&nbsp;&nbsp;</span>ENM &amp; 10% organics</a></span></li><li><span><a href=\"#ENM-&amp;-2%-organics\" data-toc-modified-id=\"ENM-&amp;-2%-organics-2.3.3\"><span class=\"toc-item-num\">2.3.3&nbsp;&nbsp;</span>ENM &amp; 2% organics</a></span></li><li><span><a href=\"#ENM-&amp;-1%-matching-organics\" data-toc-modified-id=\"ENM-&amp;-1%-matching-organics-2.3.4\"><span class=\"toc-item-num\">2.3.4&nbsp;&nbsp;</span>ENM &amp; 1% matching organics</a></span></li></ul></li></ul></li><li><span><a href=\"#Models\" data-toc-modified-id=\"Models-3\"><span class=\"toc-item-num\">3&nbsp;&nbsp;</span>Models</a></span><ul class=\"toc-item\"><li><span><a href=\"#ENM-only\" data-toc-modified-id=\"ENM-only-3.1\"><span class=\"toc-item-num\">3.1&nbsp;&nbsp;</span>ENM only</a></span></li><li><span><a href=\"#Essentially-leave-one-out-cross-validation,-slight-biases,-might-be-overfitting\" data-toc-modified-id=\"Essentially-leave-one-out-cross-validation,-slight-biases,-might-be-overfitting-3.2\"><span class=\"toc-item-num\">3.2&nbsp;&nbsp;</span>Essentially leave one out cross validation, slight biases, might be overfitting</a></span></li><li><span><a href=\"#100%-organics\" data-toc-modified-id=\"100%-organics-3.3\"><span class=\"toc-item-num\">3.3&nbsp;&nbsp;</span>100% organics</a></span></li><li><span><a href=\"#10%-organics-with-source-bins-=-ENM-bins\" data-toc-modified-id=\"10%-organics-with-source-bins-=-ENM-bins-3.4\"><span class=\"toc-item-num\">3.4&nbsp;&nbsp;</span>10% organics with source bins = ENM bins</a></span></li><li><span><a href=\"#10%-organics-with-custom-WF-bins\" data-toc-modified-id=\"10%-organics-with-custom-WF-bins-3.5\"><span class=\"toc-item-num\">3.5&nbsp;&nbsp;</span>10% organics with custom WF bins</a></span></li><li><span><a href=\"#2%-organics\" data-toc-modified-id=\"2%-organics-3.6\"><span class=\"toc-item-num\">3.6&nbsp;&nbsp;</span>2% organics</a></span></li><li><span><a href=\"#1%-matching-organics\" data-toc-modified-id=\"1%-matching-organics-3.7\"><span class=\"toc-item-num\">3.7&nbsp;&nbsp;</span>1% matching organics</a></span></li></ul></li></ul></div>"
   ]
  },
  {
   "cell_type": "markdown",
   "metadata": {},
   "source": [
    "Summary:\n",
    "* Established a new script for the final models\n"
   ]
  },
  {
   "cell_type": "markdown",
   "metadata": {},
   "source": [
    "# Code Setup"
   ]
  },
  {
   "cell_type": "code",
   "execution_count": 14,
   "metadata": {
    "ExecuteTime": {
     "end_time": "2018-12-12T21:49:02.244465Z",
     "start_time": "2018-12-12T21:49:02.214077Z"
    },
    "collapsed": true
   },
   "outputs": [],
   "source": [
    "# To support both python 2 and python 3\n",
    "from __future__ import division, print_function, unicode_literals\n",
    "\n",
    "# Common imports\n",
    "import numpy as np\n",
    "import pandas as pd\n",
    "import os"
   ]
  },
  {
   "cell_type": "code",
   "execution_count": 15,
   "metadata": {
    "ExecuteTime": {
     "end_time": "2018-12-12T21:49:02.836801Z",
     "start_time": "2018-12-12T21:49:02.823364Z"
    },
    "collapsed": true
   },
   "outputs": [],
   "source": [
    "# to make this notebook's output stable across runs\n",
    "np.random.seed(42)"
   ]
  },
  {
   "cell_type": "code",
   "execution_count": 16,
   "metadata": {
    "ExecuteTime": {
     "end_time": "2018-12-12T21:49:03.466809Z",
     "start_time": "2018-12-12T21:49:03.365277Z"
    },
    "collapsed": true
   },
   "outputs": [],
   "source": [
    "# To plot pretty figures\n",
    "%matplotlib inline\n",
    "import matplotlib\n",
    "import matplotlib.pyplot as plt\n",
    "import matplotlib.cm as cm\n",
    "import matplotlib.image as mpimg\n",
    "plt.rcParams['axes.labelsize'] = 14\n",
    "plt.rcParams['xtick.labelsize'] = 12\n",
    "plt.rcParams['ytick.labelsize'] = 12"
   ]
  },
  {
   "cell_type": "code",
   "execution_count": 17,
   "metadata": {
    "ExecuteTime": {
     "end_time": "2018-12-12T21:49:03.697362Z",
     "start_time": "2018-12-12T21:49:03.686530Z"
    },
    "collapsed": true
   },
   "outputs": [],
   "source": [
    "# Where to save the figures\n",
    "PROJECT_ROOT_DIR = \".\"\n",
    "PROJECT_SAVE_DIR = \"BLTfigs\""
   ]
  },
  {
   "cell_type": "code",
   "execution_count": 18,
   "metadata": {
    "ExecuteTime": {
     "end_time": "2018-12-12T21:49:04.078763Z",
     "start_time": "2018-12-12T21:49:04.053103Z"
    }
   },
   "outputs": [
    {
     "name": "stdout",
     "output_type": "stream",
     "text": [
      "Figure directory exists.\n"
     ]
    }
   ],
   "source": [
    "import os\n",
    "#os.chdir(path)\n",
    "if not (os.path.isdir(PROJECT_ROOT_DIR+'/'+PROJECT_SAVE_DIR)):\n",
    "    print('Figure directory did not exist, creating now.')\n",
    "    os.mkdir(PROJECT_ROOT_DIR+'/'+PROJECT_SAVE_DIR)\n",
    "else:\n",
    "    print('Figure directory exists.')"
   ]
  },
  {
   "cell_type": "code",
   "execution_count": 19,
   "metadata": {
    "ExecuteTime": {
     "end_time": "2018-12-12T21:49:04.374391Z",
     "start_time": "2018-12-12T21:49:04.369282Z"
    },
    "collapsed": true
   },
   "outputs": [],
   "source": [
    "def savepdf(fig,name):\n",
    "    fig.savefig(PROJECT_ROOT_DIR+'/'+PROJECT_SAVE_DIR+'/'+name+'.pdf')"
   ]
  },
  {
   "cell_type": "code",
   "execution_count": 20,
   "metadata": {
    "ExecuteTime": {
     "end_time": "2018-12-12T21:49:04.862566Z",
     "start_time": "2018-12-12T21:49:04.838760Z"
    }
   },
   "outputs": [
    {
     "data": {
      "text/html": [
       "\n",
       "                <audio controls=\"controls\" autoplay=\"autoplay\">\n",
       "                    <source src=\"./data/Glass.wav\" type=\"audio/x-wav\" />\n",
       "                    Your browser does not support the audio element.\n",
       "                </audio>\n",
       "              "
      ],
      "text/plain": [
       "<IPython.lib.display.Audio object>"
      ]
     },
     "execution_count": 20,
     "metadata": {},
     "output_type": "execute_result"
    }
   ],
   "source": [
    "# To enable a specified sound to play\n",
    "from IPython.display import Audio\n",
    "sound_file = './data/Glass.wav'\n",
    "\n",
    "# Add the following to the end of a cell with a long run time\n",
    "# Play sound when cell is done running\n",
    "Audio(url=sound_file, autoplay=True)"
   ]
  },
  {
   "cell_type": "code",
   "execution_count": 21,
   "metadata": {
    "ExecuteTime": {
     "end_time": "2018-12-12T21:49:05.345726Z",
     "start_time": "2018-12-12T21:49:05.333416Z"
    },
    "collapsed": true
   },
   "outputs": [],
   "source": [
    "# Shift tab to understand function components\n",
    "# Type questionmark before function to bring up help"
   ]
  },
  {
   "cell_type": "markdown",
   "metadata": {
    "ExecuteTime": {
     "end_time": "2018-07-17T17:12:41.336563Z",
     "start_time": "2018-07-17T17:12:41.333288Z"
    }
   },
   "source": [
    "## Acronyms and abbreviations"
   ]
  },
  {
   "cell_type": "code",
   "execution_count": 22,
   "metadata": {
    "ExecuteTime": {
     "end_time": "2018-12-12T21:49:08.459207Z",
     "start_time": "2018-12-12T21:49:08.448400Z"
    },
    "collapsed": true
   },
   "outputs": [],
   "source": [
    "# arr = array\n",
    "# df = dataframe\n",
    "# enm = engineered nanomaterial\n",
    "# mw = molecular weight\n",
    "# NOC = not otherwise categorizable\n",
    "# oecd = Organisation for Economic Co-operation and Development\n",
    "# prop = property\n",
    "# PUC = product use category\n",
    "# wf = weight fraction"
   ]
  },
  {
   "cell_type": "markdown",
   "metadata": {},
   "source": [
    "# Establish Data Frames"
   ]
  },
  {
   "cell_type": "markdown",
   "metadata": {},
   "source": [
    "## Read in feature data"
   ]
  },
  {
   "cell_type": "code",
   "execution_count": 226,
   "metadata": {
    "ExecuteTime": {
     "end_time": "2018-12-15T00:56:37.032259Z",
     "start_time": "2018-12-15T00:56:36.985156Z"
    }
   },
   "outputs": [
    {
     "data": {
      "text/html": [
       "<div>\n",
       "<style scoped>\n",
       "    .dataframe tbody tr th:only-of-type {\n",
       "        vertical-align: middle;\n",
       "    }\n",
       "\n",
       "    .dataframe tbody tr th {\n",
       "        vertical-align: top;\n",
       "    }\n",
       "\n",
       "    .dataframe thead th {\n",
       "        text-align: right;\n",
       "    }\n",
       "</style>\n",
       "<table border=\"1\" class=\"dataframe\">\n",
       "  <thead>\n",
       "    <tr style=\"text-align: right;\">\n",
       "      <th></th>\n",
       "      <th>propMW</th>\n",
       "      <th>propMP</th>\n",
       "      <th>propBP</th>\n",
       "      <th>propLogDensity</th>\n",
       "      <th>0</th>\n",
       "      <th>1</th>\n",
       "      <th>2</th>\n",
       "      <th>3</th>\n",
       "      <th>4</th>\n",
       "      <th>5</th>\n",
       "      <th>...</th>\n",
       "      <th>group_facialcleansingandmoisturizing</th>\n",
       "      <th>group_fungicide</th>\n",
       "      <th>group_generalhouseholdcleaning</th>\n",
       "      <th>group_generalmoisturizing</th>\n",
       "      <th>group_makeupandrelated</th>\n",
       "      <th>group_paintstainandrelatedproducts</th>\n",
       "      <th>group_sunscreen</th>\n",
       "      <th>group_surfacesealers</th>\n",
       "      <th>refined_spray</th>\n",
       "      <th>matrix_F</th>\n",
       "    </tr>\n",
       "  </thead>\n",
       "  <tbody>\n",
       "    <tr>\n",
       "      <th>0</th>\n",
       "      <td>79.867</td>\n",
       "      <td>1843.00</td>\n",
       "      <td>2972.0</td>\n",
       "      <td>0.626340</td>\n",
       "      <td>0.5</td>\n",
       "      <td>0.0</td>\n",
       "      <td>0.0</td>\n",
       "      <td>0.0</td>\n",
       "      <td>0.0</td>\n",
       "      <td>1.0</td>\n",
       "      <td>...</td>\n",
       "      <td>0</td>\n",
       "      <td>0</td>\n",
       "      <td>0</td>\n",
       "      <td>0</td>\n",
       "      <td>0</td>\n",
       "      <td>1</td>\n",
       "      <td>0</td>\n",
       "      <td>0</td>\n",
       "      <td>0</td>\n",
       "      <td>1</td>\n",
       "    </tr>\n",
       "    <tr>\n",
       "      <th>1</th>\n",
       "      <td>63.546</td>\n",
       "      <td>1083.00</td>\n",
       "      <td>2567.0</td>\n",
       "      <td>0.952308</td>\n",
       "      <td>0.0</td>\n",
       "      <td>0.0</td>\n",
       "      <td>0.0</td>\n",
       "      <td>0.0</td>\n",
       "      <td>0.0</td>\n",
       "      <td>0.0</td>\n",
       "      <td>...</td>\n",
       "      <td>0</td>\n",
       "      <td>0</td>\n",
       "      <td>0</td>\n",
       "      <td>0</td>\n",
       "      <td>0</td>\n",
       "      <td>0</td>\n",
       "      <td>0</td>\n",
       "      <td>0</td>\n",
       "      <td>0</td>\n",
       "      <td>1</td>\n",
       "    </tr>\n",
       "    <tr>\n",
       "      <th>2</th>\n",
       "      <td>65.370</td>\n",
       "      <td>419.53</td>\n",
       "      <td>907.0</td>\n",
       "      <td>0.853698</td>\n",
       "      <td>0.0</td>\n",
       "      <td>0.0</td>\n",
       "      <td>0.0</td>\n",
       "      <td>0.0</td>\n",
       "      <td>0.0</td>\n",
       "      <td>0.0</td>\n",
       "      <td>...</td>\n",
       "      <td>0</td>\n",
       "      <td>0</td>\n",
       "      <td>0</td>\n",
       "      <td>0</td>\n",
       "      <td>0</td>\n",
       "      <td>0</td>\n",
       "      <td>0</td>\n",
       "      <td>0</td>\n",
       "      <td>0</td>\n",
       "      <td>1</td>\n",
       "    </tr>\n",
       "    <tr>\n",
       "      <th>3</th>\n",
       "      <td>107.868</td>\n",
       "      <td>961.78</td>\n",
       "      <td>2162.0</td>\n",
       "      <td>1.014730</td>\n",
       "      <td>0.0</td>\n",
       "      <td>0.0</td>\n",
       "      <td>0.0</td>\n",
       "      <td>0.0</td>\n",
       "      <td>0.0</td>\n",
       "      <td>0.0</td>\n",
       "      <td>...</td>\n",
       "      <td>1</td>\n",
       "      <td>0</td>\n",
       "      <td>0</td>\n",
       "      <td>0</td>\n",
       "      <td>0</td>\n",
       "      <td>0</td>\n",
       "      <td>0</td>\n",
       "      <td>0</td>\n",
       "      <td>0</td>\n",
       "      <td>1</td>\n",
       "    </tr>\n",
       "  </tbody>\n",
       "</table>\n",
       "<p>4 rows × 39 columns</p>\n",
       "</div>"
      ],
      "text/plain": [
       "    propMW   propMP  propBP  propLogDensity    0    1    2    3    4    5  \\\n",
       "0   79.867  1843.00  2972.0        0.626340  0.5  0.0  0.0  0.0  0.0  1.0   \n",
       "1   63.546  1083.00  2567.0        0.952308  0.0  0.0  0.0  0.0  0.0  0.0   \n",
       "2   65.370   419.53   907.0        0.853698  0.0  0.0  0.0  0.0  0.0  0.0   \n",
       "3  107.868   961.78  2162.0        1.014730  0.0  0.0  0.0  0.0  0.0  0.0   \n",
       "\n",
       "     ...     group_facialcleansingandmoisturizing  group_fungicide  \\\n",
       "0    ...                                        0                0   \n",
       "1    ...                                        0                0   \n",
       "2    ...                                        0                0   \n",
       "3    ...                                        1                0   \n",
       "\n",
       "   group_generalhouseholdcleaning  group_generalmoisturizing  \\\n",
       "0                               0                          0   \n",
       "1                               0                          0   \n",
       "2                               0                          0   \n",
       "3                               0                          0   \n",
       "\n",
       "   group_makeupandrelated  group_paintstainandrelatedproducts  \\\n",
       "0                       0                                   1   \n",
       "1                       0                                   0   \n",
       "2                       0                                   0   \n",
       "3                       0                                   0   \n",
       "\n",
       "   group_sunscreen  group_surfacesealers  refined_spray  matrix_F  \n",
       "0                0                     0              0         1  \n",
       "1                0                     0              0         1  \n",
       "2                0                     0              0         1  \n",
       "3                0                     0              0         1  \n",
       "\n",
       "[4 rows x 39 columns]"
      ]
     },
     "execution_count": 226,
     "metadata": {},
     "output_type": "execute_result"
    }
   ],
   "source": [
    "# Target (ENM) model data\n",
    "X_enm = pd.read_csv(\"./data/XX_enm.csv\", sep='\\t', header='infer', index_col=0)\n",
    "X_enm.head(4)"
   ]
  },
  {
   "cell_type": "code",
   "execution_count": 227,
   "metadata": {
    "ExecuteTime": {
     "end_time": "2018-12-15T00:56:38.044927Z",
     "start_time": "2018-12-15T00:56:37.889499Z"
    }
   },
   "outputs": [
    {
     "data": {
      "text/html": [
       "<div>\n",
       "<style scoped>\n",
       "    .dataframe tbody tr th:only-of-type {\n",
       "        vertical-align: middle;\n",
       "    }\n",
       "\n",
       "    .dataframe tbody tr th {\n",
       "        vertical-align: top;\n",
       "    }\n",
       "\n",
       "    .dataframe thead th {\n",
       "        text-align: right;\n",
       "    }\n",
       "</style>\n",
       "<table border=\"1\" class=\"dataframe\">\n",
       "  <thead>\n",
       "    <tr style=\"text-align: right;\">\n",
       "      <th></th>\n",
       "      <th>propMW</th>\n",
       "      <th>propMP</th>\n",
       "      <th>propBP</th>\n",
       "      <th>propLogDensity</th>\n",
       "      <th>0</th>\n",
       "      <th>1</th>\n",
       "      <th>2</th>\n",
       "      <th>3</th>\n",
       "      <th>4</th>\n",
       "      <th>5</th>\n",
       "      <th>...</th>\n",
       "      <th>group_facialcleansingandmoisturizing</th>\n",
       "      <th>group_fungicide</th>\n",
       "      <th>group_generalhouseholdcleaning</th>\n",
       "      <th>group_generalmoisturizing</th>\n",
       "      <th>group_makeupandrelated</th>\n",
       "      <th>group_paintstainandrelatedproducts</th>\n",
       "      <th>group_sunscreen</th>\n",
       "      <th>group_surfacesealers</th>\n",
       "      <th>refined_spray</th>\n",
       "      <th>matrix_F</th>\n",
       "    </tr>\n",
       "  </thead>\n",
       "  <tbody>\n",
       "    <tr>\n",
       "      <th>1</th>\n",
       "      <td>106.168</td>\n",
       "      <td>-52.5218</td>\n",
       "      <td>147.1505</td>\n",
       "      <td>-0.05061</td>\n",
       "      <td>0.5</td>\n",
       "      <td>0.0</td>\n",
       "      <td>0.0</td>\n",
       "      <td>0.0</td>\n",
       "      <td>0.0</td>\n",
       "      <td>0.0</td>\n",
       "      <td>...</td>\n",
       "      <td>0</td>\n",
       "      <td>0</td>\n",
       "      <td>0</td>\n",
       "      <td>0</td>\n",
       "      <td>0</td>\n",
       "      <td>0</td>\n",
       "      <td>0</td>\n",
       "      <td>0</td>\n",
       "      <td>0</td>\n",
       "      <td>1</td>\n",
       "    </tr>\n",
       "    <tr>\n",
       "      <th>2</th>\n",
       "      <td>106.168</td>\n",
       "      <td>-52.5218</td>\n",
       "      <td>147.1505</td>\n",
       "      <td>-0.05061</td>\n",
       "      <td>0.5</td>\n",
       "      <td>0.0</td>\n",
       "      <td>0.0</td>\n",
       "      <td>0.0</td>\n",
       "      <td>0.0</td>\n",
       "      <td>0.0</td>\n",
       "      <td>...</td>\n",
       "      <td>0</td>\n",
       "      <td>0</td>\n",
       "      <td>0</td>\n",
       "      <td>0</td>\n",
       "      <td>0</td>\n",
       "      <td>0</td>\n",
       "      <td>0</td>\n",
       "      <td>0</td>\n",
       "      <td>0</td>\n",
       "      <td>1</td>\n",
       "    </tr>\n",
       "    <tr>\n",
       "      <th>3</th>\n",
       "      <td>106.168</td>\n",
       "      <td>-52.5218</td>\n",
       "      <td>147.1505</td>\n",
       "      <td>-0.05061</td>\n",
       "      <td>0.5</td>\n",
       "      <td>0.0</td>\n",
       "      <td>0.0</td>\n",
       "      <td>0.0</td>\n",
       "      <td>0.0</td>\n",
       "      <td>0.0</td>\n",
       "      <td>...</td>\n",
       "      <td>0</td>\n",
       "      <td>0</td>\n",
       "      <td>0</td>\n",
       "      <td>0</td>\n",
       "      <td>0</td>\n",
       "      <td>1</td>\n",
       "      <td>0</td>\n",
       "      <td>0</td>\n",
       "      <td>1</td>\n",
       "      <td>1</td>\n",
       "    </tr>\n",
       "    <tr>\n",
       "      <th>4</th>\n",
       "      <td>106.168</td>\n",
       "      <td>-52.5218</td>\n",
       "      <td>147.1505</td>\n",
       "      <td>-0.05061</td>\n",
       "      <td>0.5</td>\n",
       "      <td>0.0</td>\n",
       "      <td>0.0</td>\n",
       "      <td>0.0</td>\n",
       "      <td>0.0</td>\n",
       "      <td>0.0</td>\n",
       "      <td>...</td>\n",
       "      <td>0</td>\n",
       "      <td>0</td>\n",
       "      <td>0</td>\n",
       "      <td>0</td>\n",
       "      <td>0</td>\n",
       "      <td>1</td>\n",
       "      <td>0</td>\n",
       "      <td>0</td>\n",
       "      <td>1</td>\n",
       "      <td>1</td>\n",
       "    </tr>\n",
       "  </tbody>\n",
       "</table>\n",
       "<p>4 rows × 39 columns</p>\n",
       "</div>"
      ],
      "text/plain": [
       "    propMW   propMP    propBP  propLogDensity    0    1    2    3    4    5  \\\n",
       "1  106.168 -52.5218  147.1505        -0.05061  0.5  0.0  0.0  0.0  0.0  0.0   \n",
       "2  106.168 -52.5218  147.1505        -0.05061  0.5  0.0  0.0  0.0  0.0  0.0   \n",
       "3  106.168 -52.5218  147.1505        -0.05061  0.5  0.0  0.0  0.0  0.0  0.0   \n",
       "4  106.168 -52.5218  147.1505        -0.05061  0.5  0.0  0.0  0.0  0.0  0.0   \n",
       "\n",
       "     ...     group_facialcleansingandmoisturizing  group_fungicide  \\\n",
       "1    ...                                        0                0   \n",
       "2    ...                                        0                0   \n",
       "3    ...                                        0                0   \n",
       "4    ...                                        0                0   \n",
       "\n",
       "   group_generalhouseholdcleaning  group_generalmoisturizing  \\\n",
       "1                               0                          0   \n",
       "2                               0                          0   \n",
       "3                               0                          0   \n",
       "4                               0                          0   \n",
       "\n",
       "   group_makeupandrelated  group_paintstainandrelatedproducts  \\\n",
       "1                       0                                   0   \n",
       "2                       0                                   0   \n",
       "3                       0                                   1   \n",
       "4                       0                                   1   \n",
       "\n",
       "   group_sunscreen  group_surfacesealers  refined_spray  matrix_F  \n",
       "1                0                     0              0         1  \n",
       "2                0                     0              0         1  \n",
       "3                0                     0              1         1  \n",
       "4                0                     0              1         1  \n",
       "\n",
       "[4 rows x 39 columns]"
      ]
     },
     "execution_count": 227,
     "metadata": {},
     "output_type": "execute_result"
    }
   ],
   "source": [
    "# Source (organics) model data\n",
    "X_source = pd.read_csv(\"./data/XX_source.csv\", sep='\\t', header='infer', index_col=0)\n",
    "X_source.head(4)"
   ]
  },
  {
   "cell_type": "code",
   "execution_count": 228,
   "metadata": {
    "ExecuteTime": {
     "end_time": "2018-12-15T00:56:42.211794Z",
     "start_time": "2018-12-15T00:56:42.196783Z"
    }
   },
   "outputs": [
    {
     "name": "stdout",
     "output_type": "stream",
     "text": [
      "(16354, 39)\n"
     ]
    }
   ],
   "source": [
    "print(X_source.shape)"
   ]
  },
  {
   "cell_type": "markdown",
   "metadata": {},
   "source": [
    "## Read in WF data"
   ]
  },
  {
   "cell_type": "markdown",
   "metadata": {},
   "source": [
    "### WF ENM"
   ]
  },
  {
   "cell_type": "code",
   "execution_count": 352,
   "metadata": {
    "ExecuteTime": {
     "end_time": "2018-12-17T00:36:43.056353Z",
     "start_time": "2018-12-17T00:36:43.046943Z"
    },
    "collapsed": true
   },
   "outputs": [],
   "source": [
    "# Read in ENM maximum_weight_fraction data\n",
    "y_enm = pd.read_csv(\"./data/ENM_conc_export.csv\", sep=',', header='infer', usecols=[3])"
   ]
  },
  {
   "cell_type": "code",
   "execution_count": 353,
   "metadata": {
    "ExecuteTime": {
     "end_time": "2018-12-17T00:36:50.172092Z",
     "start_time": "2018-12-17T00:36:50.155121Z"
    },
    "collapsed": true
   },
   "outputs": [],
   "source": [
    "# Define function to assign weight fractions to bins per Isaacs et al. 2016\n",
    "def bins(row):\n",
    "    if row['maximum_weight_fraction'] <= 0.002:\n",
    "        val = 'bottom'\n",
    "    elif row['maximum_weight_fraction'] > 0.05:\n",
    "        val = 'top'\n",
    "    else:\n",
    "        val = 'middle'\n",
    "    return val\n",
    "bin_enm = y_enm.apply(bins, axis=1)"
   ]
  },
  {
   "cell_type": "code",
   "execution_count": 354,
   "metadata": {
    "ExecuteTime": {
     "end_time": "2018-12-17T00:37:09.114189Z",
     "start_time": "2018-12-17T00:37:08.969223Z"
    }
   },
   "outputs": [
    {
     "data": {
      "text/plain": [
       "Text(0.5,1,'Frequency of ENM Weight Fraction Bins (Custom)')"
      ]
     },
     "execution_count": 354,
     "metadata": {},
     "output_type": "execute_result"
    },
    {
     "data": {
      "image/png": "[encoded data removed]",
      "text/plain": [
       "<Figure size 432x288 with 1 Axes>"
      ]
     },
     "metadata": {},
     "output_type": "display_data"
    }
   ],
   "source": [
    "bin_enm.value_counts().plot(kind='bar')\n",
    "plt.title('Frequency of ENM Weight Fraction Bins (Custom)')"
   ]
  },
  {
   "cell_type": "code",
   "execution_count": 340,
   "metadata": {
    "ExecuteTime": {
     "end_time": "2018-12-17T00:17:12.694761Z",
     "start_time": "2018-12-17T00:17:12.560902Z"
    }
   },
   "outputs": [
    {
     "data": {
      "text/plain": [
       "Text(0.5,1,'Frequency of ENM Weight Fraction Bins')"
      ]
     },
     "execution_count": 340,
     "metadata": {},
     "output_type": "execute_result"
    },
    {
     "data": {
      "image/png": "[encoded data removed]",
      "text/plain": [
       "<Figure size 432x288 with 1 Axes>"
      ]
     },
     "metadata": {},
     "output_type": "display_data"
    }
   ],
   "source": [
    "bin_enm.value_counts().plot(kind='bar')\n",
    "plt.title('Frequency of ENM Weight Fraction Bins (Isaacs)')"
   ]
  },
  {
   "cell_type": "code",
   "execution_count": 355,
   "metadata": {
    "ExecuteTime": {
     "end_time": "2018-12-17T00:37:22.933755Z",
     "start_time": "2018-12-17T00:37:22.926647Z"
    },
    "collapsed": true
   },
   "outputs": [],
   "source": [
    "# Use label encoder to make bins compatible with Scikit-Learn\n",
    "from sklearn import preprocessing\n",
    "le = preprocessing.LabelEncoder()\n",
    "\n",
    "# Fit the encoder and transform categories into integers\n",
    "bin_enm = le.fit_transform(bin_enm)"
   ]
  },
  {
   "cell_type": "markdown",
   "metadata": {},
   "source": [
    "### WF Source"
   ]
  },
  {
   "cell_type": "code",
   "execution_count": 366,
   "metadata": {
    "ExecuteTime": {
     "end_time": "2018-12-17T02:25:51.982638Z",
     "start_time": "2018-12-17T02:25:51.961179Z"
    },
    "collapsed": true
   },
   "outputs": [],
   "source": [
    "# Read in organics maximum_weight_fraction data\n",
    "y_source = pd.read_csv(\"./data/y_source.csv\", sep=',', header='infer')"
   ]
  },
  {
   "cell_type": "code",
   "execution_count": 367,
   "metadata": {
    "ExecuteTime": {
     "end_time": "2018-12-17T02:25:53.272288Z",
     "start_time": "2018-12-17T02:25:52.936695Z"
    },
    "collapsed": true
   },
   "outputs": [],
   "source": [
    "# Define function to assign weight fractions to bins per Isaacs et al. 2016\n",
    "def bins_Isaacs(row):\n",
    "    if row['maximum_weight_fraction'] <= 0.01:\n",
    "        val = 'bottom'\n",
    "    elif row['maximum_weight_fraction'] > 0.05:\n",
    "        val = 'top'\n",
    "    else:\n",
    "        val = 'middle'\n",
    "    return val\n",
    "bin_source = y_source.apply(bins_Isaacs, axis=1)"
   ]
  },
  {
   "cell_type": "code",
   "execution_count": 368,
   "metadata": {
    "ExecuteTime": {
     "end_time": "2018-12-17T02:25:54.495474Z",
     "start_time": "2018-12-17T02:25:54.353155Z"
    }
   },
   "outputs": [
    {
     "data": {
      "text/plain": [
       "Text(0.5,1,'Frequency of Organics Weight Fraction Bins (Isaacs)')"
      ]
     },
     "execution_count": 368,
     "metadata": {},
     "output_type": "execute_result"
    },
    {
     "data": {
      "image/png": "[encoded data removed]",
      "text/plain": [
       "<Figure size 432x288 with 1 Axes>"
      ]
     },
     "metadata": {},
     "output_type": "display_data"
    }
   ],
   "source": [
    "bin_source.value_counts().plot(kind='bar')\n",
    "plt.title('Frequency of Organics Weight Fraction Bins (Isaacs)')"
   ]
  },
  {
   "cell_type": "code",
   "execution_count": 358,
   "metadata": {
    "ExecuteTime": {
     "end_time": "2018-12-17T00:37:35.805152Z",
     "start_time": "2018-12-17T00:37:35.671362Z"
    }
   },
   "outputs": [
    {
     "data": {
      "text/plain": [
       "Text(0.5,1,'Frequency of Organics Weight Fraction Bins (ENM)')"
      ]
     },
     "execution_count": 358,
     "metadata": {},
     "output_type": "execute_result"
    },
    {
     "data": {
      "image/png": "[encoded data removed]",
      "text/plain": [
       "<Figure size 432x288 with 1 Axes>"
      ]
     },
     "metadata": {},
     "output_type": "display_data"
    }
   ],
   "source": [
    "bin_source.value_counts().plot(kind='bar')\n",
    "plt.title('Frequency of Organics Weight Fraction Bins (ENM)')"
   ]
  },
  {
   "cell_type": "code",
   "execution_count": 369,
   "metadata": {
    "ExecuteTime": {
     "end_time": "2018-12-17T02:26:05.233495Z",
     "start_time": "2018-12-17T02:26:05.217794Z"
    },
    "collapsed": true
   },
   "outputs": [],
   "source": [
    "# Use label encoder to make bins compatible with Scikit-Learn\n",
    "bin_source = le.fit_transform(bin_source)"
   ]
  },
  {
   "cell_type": "markdown",
   "metadata": {
    "ExecuteTime": {
     "end_time": "2018-07-31T20:29:35.081047Z",
     "start_time": "2018-07-31T20:29:35.076307Z"
    }
   },
   "source": [
    "## Data frames"
   ]
  },
  {
   "cell_type": "markdown",
   "metadata": {
    "ExecuteTime": {
     "end_time": "2018-12-14T18:14:07.512582Z",
     "start_time": "2018-12-14T18:14:07.505735Z"
    }
   },
   "source": [
    "### ENM & 100% organics"
   ]
  },
  {
   "cell_type": "code",
   "execution_count": 253,
   "metadata": {
    "ExecuteTime": {
     "end_time": "2018-12-16T23:29:11.182318Z",
     "start_time": "2018-12-16T23:29:11.162736Z"
    },
    "collapsed": true
   },
   "outputs": [],
   "source": [
    "# ENM and all organics data stacked, respectively\n",
    "X_all = pd.concat([X_enm, X_source], sort=False)\n",
    "bin_all = np.concatenate([bin_enm, bin_source])"
   ]
  },
  {
   "cell_type": "code",
   "execution_count": 254,
   "metadata": {
    "ExecuteTime": {
     "end_time": "2018-12-16T23:29:11.828671Z",
     "start_time": "2018-12-16T23:29:11.785655Z"
    }
   },
   "outputs": [
    {
     "data": {
      "text/html": [
       "<div>\n",
       "<style scoped>\n",
       "    .dataframe tbody tr th:only-of-type {\n",
       "        vertical-align: middle;\n",
       "    }\n",
       "\n",
       "    .dataframe tbody tr th {\n",
       "        vertical-align: top;\n",
       "    }\n",
       "\n",
       "    .dataframe thead th {\n",
       "        text-align: right;\n",
       "    }\n",
       "</style>\n",
       "<table border=\"1\" class=\"dataframe\">\n",
       "  <thead>\n",
       "    <tr style=\"text-align: right;\">\n",
       "      <th></th>\n",
       "      <th>propMW</th>\n",
       "      <th>propMP</th>\n",
       "      <th>propBP</th>\n",
       "      <th>propLogDensity</th>\n",
       "      <th>0</th>\n",
       "      <th>1</th>\n",
       "      <th>2</th>\n",
       "      <th>3</th>\n",
       "      <th>4</th>\n",
       "      <th>5</th>\n",
       "      <th>...</th>\n",
       "      <th>group_facialcleansingandmoisturizing</th>\n",
       "      <th>group_fungicide</th>\n",
       "      <th>group_generalhouseholdcleaning</th>\n",
       "      <th>group_generalmoisturizing</th>\n",
       "      <th>group_makeupandrelated</th>\n",
       "      <th>group_paintstainandrelatedproducts</th>\n",
       "      <th>group_sunscreen</th>\n",
       "      <th>group_surfacesealers</th>\n",
       "      <th>refined_spray</th>\n",
       "      <th>matrix_F</th>\n",
       "    </tr>\n",
       "  </thead>\n",
       "  <tbody>\n",
       "    <tr>\n",
       "      <th>0</th>\n",
       "      <td>79.867</td>\n",
       "      <td>1843.00</td>\n",
       "      <td>2972.0</td>\n",
       "      <td>0.626340</td>\n",
       "      <td>0.5</td>\n",
       "      <td>0.0</td>\n",
       "      <td>0.0</td>\n",
       "      <td>0.0</td>\n",
       "      <td>0.0</td>\n",
       "      <td>1.0</td>\n",
       "      <td>...</td>\n",
       "      <td>0</td>\n",
       "      <td>0</td>\n",
       "      <td>0</td>\n",
       "      <td>0</td>\n",
       "      <td>0</td>\n",
       "      <td>1</td>\n",
       "      <td>0</td>\n",
       "      <td>0</td>\n",
       "      <td>0</td>\n",
       "      <td>1</td>\n",
       "    </tr>\n",
       "    <tr>\n",
       "      <th>1</th>\n",
       "      <td>63.546</td>\n",
       "      <td>1083.00</td>\n",
       "      <td>2567.0</td>\n",
       "      <td>0.952308</td>\n",
       "      <td>0.0</td>\n",
       "      <td>0.0</td>\n",
       "      <td>0.0</td>\n",
       "      <td>0.0</td>\n",
       "      <td>0.0</td>\n",
       "      <td>0.0</td>\n",
       "      <td>...</td>\n",
       "      <td>0</td>\n",
       "      <td>0</td>\n",
       "      <td>0</td>\n",
       "      <td>0</td>\n",
       "      <td>0</td>\n",
       "      <td>0</td>\n",
       "      <td>0</td>\n",
       "      <td>0</td>\n",
       "      <td>0</td>\n",
       "      <td>1</td>\n",
       "    </tr>\n",
       "    <tr>\n",
       "      <th>2</th>\n",
       "      <td>65.370</td>\n",
       "      <td>419.53</td>\n",
       "      <td>907.0</td>\n",
       "      <td>0.853698</td>\n",
       "      <td>0.0</td>\n",
       "      <td>0.0</td>\n",
       "      <td>0.0</td>\n",
       "      <td>0.0</td>\n",
       "      <td>0.0</td>\n",
       "      <td>0.0</td>\n",
       "      <td>...</td>\n",
       "      <td>0</td>\n",
       "      <td>0</td>\n",
       "      <td>0</td>\n",
       "      <td>0</td>\n",
       "      <td>0</td>\n",
       "      <td>0</td>\n",
       "      <td>0</td>\n",
       "      <td>0</td>\n",
       "      <td>0</td>\n",
       "      <td>1</td>\n",
       "    </tr>\n",
       "    <tr>\n",
       "      <th>3</th>\n",
       "      <td>107.868</td>\n",
       "      <td>961.78</td>\n",
       "      <td>2162.0</td>\n",
       "      <td>1.014730</td>\n",
       "      <td>0.0</td>\n",
       "      <td>0.0</td>\n",
       "      <td>0.0</td>\n",
       "      <td>0.0</td>\n",
       "      <td>0.0</td>\n",
       "      <td>0.0</td>\n",
       "      <td>...</td>\n",
       "      <td>1</td>\n",
       "      <td>0</td>\n",
       "      <td>0</td>\n",
       "      <td>0</td>\n",
       "      <td>0</td>\n",
       "      <td>0</td>\n",
       "      <td>0</td>\n",
       "      <td>0</td>\n",
       "      <td>0</td>\n",
       "      <td>1</td>\n",
       "    </tr>\n",
       "  </tbody>\n",
       "</table>\n",
       "<p>4 rows × 39 columns</p>\n",
       "</div>"
      ],
      "text/plain": [
       "    propMW   propMP  propBP  propLogDensity    0    1    2    3    4    5  \\\n",
       "0   79.867  1843.00  2972.0        0.626340  0.5  0.0  0.0  0.0  0.0  1.0   \n",
       "1   63.546  1083.00  2567.0        0.952308  0.0  0.0  0.0  0.0  0.0  0.0   \n",
       "2   65.370   419.53   907.0        0.853698  0.0  0.0  0.0  0.0  0.0  0.0   \n",
       "3  107.868   961.78  2162.0        1.014730  0.0  0.0  0.0  0.0  0.0  0.0   \n",
       "\n",
       "     ...     group_facialcleansingandmoisturizing  group_fungicide  \\\n",
       "0    ...                                        0                0   \n",
       "1    ...                                        0                0   \n",
       "2    ...                                        0                0   \n",
       "3    ...                                        1                0   \n",
       "\n",
       "   group_generalhouseholdcleaning  group_generalmoisturizing  \\\n",
       "0                               0                          0   \n",
       "1                               0                          0   \n",
       "2                               0                          0   \n",
       "3                               0                          0   \n",
       "\n",
       "   group_makeupandrelated  group_paintstainandrelatedproducts  \\\n",
       "0                       0                                   1   \n",
       "1                       0                                   0   \n",
       "2                       0                                   0   \n",
       "3                       0                                   0   \n",
       "\n",
       "   group_sunscreen  group_surfacesealers  refined_spray  matrix_F  \n",
       "0                0                     0              0         1  \n",
       "1                0                     0              0         1  \n",
       "2                0                     0              0         1  \n",
       "3                0                     0              0         1  \n",
       "\n",
       "[4 rows x 39 columns]"
      ]
     },
     "execution_count": 254,
     "metadata": {},
     "output_type": "execute_result"
    }
   ],
   "source": [
    "X_all.head(4)"
   ]
  },
  {
   "cell_type": "code",
   "execution_count": 255,
   "metadata": {
    "ExecuteTime": {
     "end_time": "2018-12-16T23:29:12.951331Z",
     "start_time": "2018-12-16T23:29:12.928899Z"
    }
   },
   "outputs": [
    {
     "data": {
      "text/plain": [
       "array([0, 0, 1, 1, 1, 0, 1, 0, 1, 0, 2, 0, 1, 1, 0, 1, 1, 0, 0, 0])"
      ]
     },
     "execution_count": 255,
     "metadata": {},
     "output_type": "execute_result"
    }
   ],
   "source": [
    "bin_all[80:100,]"
   ]
  },
  {
   "cell_type": "markdown",
   "metadata": {
    "ExecuteTime": {
     "end_time": "2018-12-14T18:14:35.272027Z",
     "start_time": "2018-12-14T18:14:35.264956Z"
    }
   },
   "source": [
    "### ENM & 10% organics"
   ]
  },
  {
   "cell_type": "code",
   "execution_count": 370,
   "metadata": {
    "ExecuteTime": {
     "end_time": "2018-12-17T02:26:09.578423Z",
     "start_time": "2018-12-17T02:26:09.546640Z"
    }
   },
   "outputs": [
    {
     "name": "stdout",
     "output_type": "stream",
     "text": [
      "(1635, 39)\n",
      "(1635, 1)\n"
     ]
    }
   ],
   "source": [
    "# Randomly sample 10% of organics data\n",
    "X_ten = X_source.reset_index(drop=True).sample(frac=0.1, replace=False, random_state=38, axis=0)\n",
    "idx = X_ten.index.tolist()\n",
    "\n",
    "bin_ten = pd.DataFrame(bin_source)\n",
    "bin_ten = bin_ten.loc[bin_ten.index[idx]]\n",
    "\n",
    "print(X_ten.shape)\n",
    "print(bin_ten.shape)"
   ]
  },
  {
   "cell_type": "code",
   "execution_count": 371,
   "metadata": {
    "ExecuteTime": {
     "end_time": "2018-12-17T02:26:10.380816Z",
     "start_time": "2018-12-17T02:26:10.355546Z"
    }
   },
   "outputs": [
    {
     "name": "stdout",
     "output_type": "stream",
     "text": [
      "(1717, 39)\n",
      "(1717,)\n",
      "<class 'numpy.ndarray'>\n"
     ]
    }
   ],
   "source": [
    "# Append sampled organics data to ENM data\n",
    "X_ten = pd.concat([X_enm, X_ten], sort=False)\n",
    "\n",
    "bin_ten = pd.concat([pd.DataFrame(bin_enm), bin_ten], sort=False)\n",
    "bin_ten.columns = ['maximum_weight_fraction']\n",
    "bin_ten = bin_ten.values.ravel()\n",
    "\n",
    "print(X_ten.shape)\n",
    "print(bin_ten.shape)\n",
    "print(type(bin_ten))"
   ]
  },
  {
   "cell_type": "code",
   "execution_count": 372,
   "metadata": {
    "ExecuteTime": {
     "end_time": "2018-12-17T02:26:11.178826Z",
     "start_time": "2018-12-17T02:26:11.139630Z"
    }
   },
   "outputs": [
    {
     "data": {
      "text/html": [
       "<div>\n",
       "<style scoped>\n",
       "    .dataframe tbody tr th:only-of-type {\n",
       "        vertical-align: middle;\n",
       "    }\n",
       "\n",
       "    .dataframe tbody tr th {\n",
       "        vertical-align: top;\n",
       "    }\n",
       "\n",
       "    .dataframe thead th {\n",
       "        text-align: right;\n",
       "    }\n",
       "</style>\n",
       "<table border=\"1\" class=\"dataframe\">\n",
       "  <thead>\n",
       "    <tr style=\"text-align: right;\">\n",
       "      <th></th>\n",
       "      <th>propMW</th>\n",
       "      <th>propMP</th>\n",
       "      <th>propBP</th>\n",
       "      <th>propLogDensity</th>\n",
       "      <th>0</th>\n",
       "      <th>1</th>\n",
       "      <th>2</th>\n",
       "      <th>3</th>\n",
       "      <th>4</th>\n",
       "      <th>5</th>\n",
       "      <th>...</th>\n",
       "      <th>group_facialcleansingandmoisturizing</th>\n",
       "      <th>group_fungicide</th>\n",
       "      <th>group_generalhouseholdcleaning</th>\n",
       "      <th>group_generalmoisturizing</th>\n",
       "      <th>group_makeupandrelated</th>\n",
       "      <th>group_paintstainandrelatedproducts</th>\n",
       "      <th>group_sunscreen</th>\n",
       "      <th>group_surfacesealers</th>\n",
       "      <th>refined_spray</th>\n",
       "      <th>matrix_F</th>\n",
       "    </tr>\n",
       "  </thead>\n",
       "  <tbody>\n",
       "    <tr>\n",
       "      <th>80</th>\n",
       "      <td>79.867</td>\n",
       "      <td>1843.000000</td>\n",
       "      <td>2972.0000</td>\n",
       "      <td>0.626340</td>\n",
       "      <td>0.0</td>\n",
       "      <td>0.0</td>\n",
       "      <td>0.0</td>\n",
       "      <td>0.0</td>\n",
       "      <td>0.0</td>\n",
       "      <td>1.0</td>\n",
       "      <td>...</td>\n",
       "      <td>0</td>\n",
       "      <td>0</td>\n",
       "      <td>0</td>\n",
       "      <td>0</td>\n",
       "      <td>0</td>\n",
       "      <td>0</td>\n",
       "      <td>1</td>\n",
       "      <td>0</td>\n",
       "      <td>1</td>\n",
       "      <td>1</td>\n",
       "    </tr>\n",
       "    <tr>\n",
       "      <th>81</th>\n",
       "      <td>107.868</td>\n",
       "      <td>961.780000</td>\n",
       "      <td>2162.0000</td>\n",
       "      <td>1.014730</td>\n",
       "      <td>0.0</td>\n",
       "      <td>0.0</td>\n",
       "      <td>0.0</td>\n",
       "      <td>0.0</td>\n",
       "      <td>0.0</td>\n",
       "      <td>0.0</td>\n",
       "      <td>...</td>\n",
       "      <td>0</td>\n",
       "      <td>0</td>\n",
       "      <td>0</td>\n",
       "      <td>0</td>\n",
       "      <td>0</td>\n",
       "      <td>0</td>\n",
       "      <td>0</td>\n",
       "      <td>0</td>\n",
       "      <td>1</td>\n",
       "      <td>1</td>\n",
       "    </tr>\n",
       "    <tr>\n",
       "      <th>14954</th>\n",
       "      <td>72.107</td>\n",
       "      <td>-66.158800</td>\n",
       "      <td>78.8506</td>\n",
       "      <td>-0.057000</td>\n",
       "      <td>0.0</td>\n",
       "      <td>0.0</td>\n",
       "      <td>0.0</td>\n",
       "      <td>0.0</td>\n",
       "      <td>0.0</td>\n",
       "      <td>0.0</td>\n",
       "      <td>...</td>\n",
       "      <td>0</td>\n",
       "      <td>0</td>\n",
       "      <td>0</td>\n",
       "      <td>0</td>\n",
       "      <td>0</td>\n",
       "      <td>1</td>\n",
       "      <td>0</td>\n",
       "      <td>0</td>\n",
       "      <td>1</td>\n",
       "      <td>1</td>\n",
       "    </tr>\n",
       "    <tr>\n",
       "      <th>2145</th>\n",
       "      <td>270.457</td>\n",
       "      <td>3.531835</td>\n",
       "      <td>303.6770</td>\n",
       "      <td>-0.078834</td>\n",
       "      <td>0.0</td>\n",
       "      <td>0.0</td>\n",
       "      <td>0.5</td>\n",
       "      <td>0.0</td>\n",
       "      <td>0.0</td>\n",
       "      <td>0.0</td>\n",
       "      <td>...</td>\n",
       "      <td>0</td>\n",
       "      <td>0</td>\n",
       "      <td>0</td>\n",
       "      <td>1</td>\n",
       "      <td>0</td>\n",
       "      <td>0</td>\n",
       "      <td>0</td>\n",
       "      <td>0</td>\n",
       "      <td>0</td>\n",
       "      <td>1</td>\n",
       "    </tr>\n",
       "    <tr>\n",
       "      <th>2263</th>\n",
       "      <td>104.149</td>\n",
       "      <td>-10.558055</td>\n",
       "      <td>222.9220</td>\n",
       "      <td>0.009451</td>\n",
       "      <td>0.0</td>\n",
       "      <td>0.0</td>\n",
       "      <td>0.5</td>\n",
       "      <td>0.0</td>\n",
       "      <td>0.0</td>\n",
       "      <td>0.0</td>\n",
       "      <td>...</td>\n",
       "      <td>0</td>\n",
       "      <td>0</td>\n",
       "      <td>0</td>\n",
       "      <td>0</td>\n",
       "      <td>0</td>\n",
       "      <td>0</td>\n",
       "      <td>0</td>\n",
       "      <td>0</td>\n",
       "      <td>0</td>\n",
       "      <td>1</td>\n",
       "    </tr>\n",
       "  </tbody>\n",
       "</table>\n",
       "<p>5 rows × 39 columns</p>\n",
       "</div>"
      ],
      "text/plain": [
       "        propMW       propMP     propBP  propLogDensity    0    1    2    3  \\\n",
       "80      79.867  1843.000000  2972.0000        0.626340  0.0  0.0  0.0  0.0   \n",
       "81     107.868   961.780000  2162.0000        1.014730  0.0  0.0  0.0  0.0   \n",
       "14954   72.107   -66.158800    78.8506       -0.057000  0.0  0.0  0.0  0.0   \n",
       "2145   270.457     3.531835   303.6770       -0.078834  0.0  0.0  0.5  0.0   \n",
       "2263   104.149   -10.558055   222.9220        0.009451  0.0  0.0  0.5  0.0   \n",
       "\n",
       "         4    5    ...     group_facialcleansingandmoisturizing  \\\n",
       "80     0.0  1.0    ...                                        0   \n",
       "81     0.0  0.0    ...                                        0   \n",
       "14954  0.0  0.0    ...                                        0   \n",
       "2145   0.0  0.0    ...                                        0   \n",
       "2263   0.0  0.0    ...                                        0   \n",
       "\n",
       "       group_fungicide  group_generalhouseholdcleaning  \\\n",
       "80                   0                               0   \n",
       "81                   0                               0   \n",
       "14954                0                               0   \n",
       "2145                 0                               0   \n",
       "2263                 0                               0   \n",
       "\n",
       "       group_generalmoisturizing  group_makeupandrelated  \\\n",
       "80                             0                       0   \n",
       "81                             0                       0   \n",
       "14954                          0                       0   \n",
       "2145                           1                       0   \n",
       "2263                           0                       0   \n",
       "\n",
       "       group_paintstainandrelatedproducts  group_sunscreen  \\\n",
       "80                                      0                1   \n",
       "81                                      0                0   \n",
       "14954                                   1                0   \n",
       "2145                                    0                0   \n",
       "2263                                    0                0   \n",
       "\n",
       "       group_surfacesealers  refined_spray  matrix_F  \n",
       "80                        0              1         1  \n",
       "81                        0              1         1  \n",
       "14954                     0              1         1  \n",
       "2145                      0              0         1  \n",
       "2263                      0              0         1  \n",
       "\n",
       "[5 rows x 39 columns]"
      ]
     },
     "execution_count": 372,
     "metadata": {},
     "output_type": "execute_result"
    }
   ],
   "source": [
    "X_ten.iloc[80:85,:]"
   ]
  },
  {
   "cell_type": "markdown",
   "metadata": {},
   "source": [
    "### ENM & 2% organics"
   ]
  },
  {
   "cell_type": "code",
   "execution_count": 322,
   "metadata": {
    "ExecuteTime": {
     "end_time": "2018-12-17T00:02:35.296076Z",
     "start_time": "2018-12-17T00:02:35.264784Z"
    }
   },
   "outputs": [
    {
     "name": "stdout",
     "output_type": "stream",
     "text": [
      "(328, 39)\n",
      "(328, 1)\n"
     ]
    }
   ],
   "source": [
    "# Randomly sample 2% of organics data\n",
    "X_two = X_source.reset_index(drop=True).sample(n=328, replace=False, random_state=28, axis=0)\n",
    "idx = X_two.index.tolist()\n",
    "\n",
    "bin_two = pd.DataFrame(bin_source)\n",
    "bin_two = bin_two.loc[bin_two.index[idx]]\n",
    "\n",
    "print(X_two.shape)\n",
    "print(bin_two.shape)"
   ]
  },
  {
   "cell_type": "code",
   "execution_count": 323,
   "metadata": {
    "ExecuteTime": {
     "end_time": "2018-12-17T00:02:36.524049Z",
     "start_time": "2018-12-17T00:02:36.497355Z"
    }
   },
   "outputs": [
    {
     "name": "stdout",
     "output_type": "stream",
     "text": [
      "(410, 39)\n",
      "(410,)\n"
     ]
    }
   ],
   "source": [
    "# Append sampled organics data to ENM data\n",
    "X_two = pd.concat([X_enm, X_two], sort=False)\n",
    "\n",
    "bin_two = pd.concat([pd.DataFrame(bin_enm), bin_two], sort=False)\n",
    "bin_two.columns = ['maximum_weight_fraction']\n",
    "bin_two = bin_two.values.ravel()\n",
    "\n",
    "print(X_two.shape)\n",
    "print(bin_two.shape)"
   ]
  },
  {
   "cell_type": "code",
   "execution_count": 324,
   "metadata": {
    "ExecuteTime": {
     "end_time": "2018-12-17T00:02:45.583691Z",
     "start_time": "2018-12-17T00:02:45.545299Z"
    }
   },
   "outputs": [
    {
     "data": {
      "text/html": [
       "<div>\n",
       "<style scoped>\n",
       "    .dataframe tbody tr th:only-of-type {\n",
       "        vertical-align: middle;\n",
       "    }\n",
       "\n",
       "    .dataframe tbody tr th {\n",
       "        vertical-align: top;\n",
       "    }\n",
       "\n",
       "    .dataframe thead th {\n",
       "        text-align: right;\n",
       "    }\n",
       "</style>\n",
       "<table border=\"1\" class=\"dataframe\">\n",
       "  <thead>\n",
       "    <tr style=\"text-align: right;\">\n",
       "      <th></th>\n",
       "      <th>propMW</th>\n",
       "      <th>propMP</th>\n",
       "      <th>propBP</th>\n",
       "      <th>propLogDensity</th>\n",
       "      <th>0</th>\n",
       "      <th>1</th>\n",
       "      <th>2</th>\n",
       "      <th>3</th>\n",
       "      <th>4</th>\n",
       "      <th>5</th>\n",
       "      <th>...</th>\n",
       "      <th>group_facialcleansingandmoisturizing</th>\n",
       "      <th>group_fungicide</th>\n",
       "      <th>group_generalhouseholdcleaning</th>\n",
       "      <th>group_generalmoisturizing</th>\n",
       "      <th>group_makeupandrelated</th>\n",
       "      <th>group_paintstainandrelatedproducts</th>\n",
       "      <th>group_sunscreen</th>\n",
       "      <th>group_surfacesealers</th>\n",
       "      <th>refined_spray</th>\n",
       "      <th>matrix_F</th>\n",
       "    </tr>\n",
       "  </thead>\n",
       "  <tbody>\n",
       "    <tr>\n",
       "      <th>80</th>\n",
       "      <td>79.867</td>\n",
       "      <td>1843.00000</td>\n",
       "      <td>2972.0000</td>\n",
       "      <td>0.626340</td>\n",
       "      <td>0.0</td>\n",
       "      <td>0.0</td>\n",
       "      <td>0.0</td>\n",
       "      <td>0.0</td>\n",
       "      <td>0.0</td>\n",
       "      <td>1.0</td>\n",
       "      <td>...</td>\n",
       "      <td>0</td>\n",
       "      <td>0</td>\n",
       "      <td>0</td>\n",
       "      <td>0</td>\n",
       "      <td>0</td>\n",
       "      <td>0</td>\n",
       "      <td>1</td>\n",
       "      <td>0</td>\n",
       "      <td>1</td>\n",
       "      <td>1</td>\n",
       "    </tr>\n",
       "    <tr>\n",
       "      <th>81</th>\n",
       "      <td>107.868</td>\n",
       "      <td>961.78000</td>\n",
       "      <td>2162.0000</td>\n",
       "      <td>1.014730</td>\n",
       "      <td>0.0</td>\n",
       "      <td>0.0</td>\n",
       "      <td>0.0</td>\n",
       "      <td>0.0</td>\n",
       "      <td>0.0</td>\n",
       "      <td>0.0</td>\n",
       "      <td>...</td>\n",
       "      <td>0</td>\n",
       "      <td>0</td>\n",
       "      <td>0</td>\n",
       "      <td>0</td>\n",
       "      <td>0</td>\n",
       "      <td>0</td>\n",
       "      <td>0</td>\n",
       "      <td>0</td>\n",
       "      <td>1</td>\n",
       "      <td>1</td>\n",
       "    </tr>\n",
       "    <tr>\n",
       "      <th>1336</th>\n",
       "      <td>62.068</td>\n",
       "      <td>-8.48790</td>\n",
       "      <td>172.8605</td>\n",
       "      <td>0.013259</td>\n",
       "      <td>0.5</td>\n",
       "      <td>0.0</td>\n",
       "      <td>0.5</td>\n",
       "      <td>0.0</td>\n",
       "      <td>0.0</td>\n",
       "      <td>0.0</td>\n",
       "      <td>...</td>\n",
       "      <td>0</td>\n",
       "      <td>0</td>\n",
       "      <td>0</td>\n",
       "      <td>0</td>\n",
       "      <td>0</td>\n",
       "      <td>0</td>\n",
       "      <td>0</td>\n",
       "      <td>0</td>\n",
       "      <td>0</td>\n",
       "      <td>1</td>\n",
       "    </tr>\n",
       "    <tr>\n",
       "      <th>16010</th>\n",
       "      <td>122.127</td>\n",
       "      <td>141.62100</td>\n",
       "      <td>291.4530</td>\n",
       "      <td>0.072250</td>\n",
       "      <td>0.0</td>\n",
       "      <td>0.0</td>\n",
       "      <td>0.5</td>\n",
       "      <td>0.0</td>\n",
       "      <td>0.0</td>\n",
       "      <td>0.0</td>\n",
       "      <td>...</td>\n",
       "      <td>0</td>\n",
       "      <td>0</td>\n",
       "      <td>0</td>\n",
       "      <td>0</td>\n",
       "      <td>1</td>\n",
       "      <td>0</td>\n",
       "      <td>0</td>\n",
       "      <td>0</td>\n",
       "      <td>0</td>\n",
       "      <td>1</td>\n",
       "    </tr>\n",
       "    <tr>\n",
       "      <th>8704</th>\n",
       "      <td>281.093</td>\n",
       "      <td>40.06515</td>\n",
       "      <td>276.2420</td>\n",
       "      <td>0.198657</td>\n",
       "      <td>0.0</td>\n",
       "      <td>0.0</td>\n",
       "      <td>0.0</td>\n",
       "      <td>0.0</td>\n",
       "      <td>0.0</td>\n",
       "      <td>0.0</td>\n",
       "      <td>...</td>\n",
       "      <td>0</td>\n",
       "      <td>0</td>\n",
       "      <td>0</td>\n",
       "      <td>0</td>\n",
       "      <td>0</td>\n",
       "      <td>1</td>\n",
       "      <td>0</td>\n",
       "      <td>0</td>\n",
       "      <td>0</td>\n",
       "      <td>1</td>\n",
       "    </tr>\n",
       "  </tbody>\n",
       "</table>\n",
       "<p>5 rows × 39 columns</p>\n",
       "</div>"
      ],
      "text/plain": [
       "        propMW      propMP     propBP  propLogDensity    0    1    2    3  \\\n",
       "80      79.867  1843.00000  2972.0000        0.626340  0.0  0.0  0.0  0.0   \n",
       "81     107.868   961.78000  2162.0000        1.014730  0.0  0.0  0.0  0.0   \n",
       "1336    62.068    -8.48790   172.8605        0.013259  0.5  0.0  0.5  0.0   \n",
       "16010  122.127   141.62100   291.4530        0.072250  0.0  0.0  0.5  0.0   \n",
       "8704   281.093    40.06515   276.2420        0.198657  0.0  0.0  0.0  0.0   \n",
       "\n",
       "         4    5    ...     group_facialcleansingandmoisturizing  \\\n",
       "80     0.0  1.0    ...                                        0   \n",
       "81     0.0  0.0    ...                                        0   \n",
       "1336   0.0  0.0    ...                                        0   \n",
       "16010  0.0  0.0    ...                                        0   \n",
       "8704   0.0  0.0    ...                                        0   \n",
       "\n",
       "       group_fungicide  group_generalhouseholdcleaning  \\\n",
       "80                   0                               0   \n",
       "81                   0                               0   \n",
       "1336                 0                               0   \n",
       "16010                0                               0   \n",
       "8704                 0                               0   \n",
       "\n",
       "       group_generalmoisturizing  group_makeupandrelated  \\\n",
       "80                             0                       0   \n",
       "81                             0                       0   \n",
       "1336                           0                       0   \n",
       "16010                          0                       1   \n",
       "8704                           0                       0   \n",
       "\n",
       "       group_paintstainandrelatedproducts  group_sunscreen  \\\n",
       "80                                      0                1   \n",
       "81                                      0                0   \n",
       "1336                                    0                0   \n",
       "16010                                   0                0   \n",
       "8704                                    1                0   \n",
       "\n",
       "       group_surfacesealers  refined_spray  matrix_F  \n",
       "80                        0              1         1  \n",
       "81                        0              1         1  \n",
       "1336                      0              0         1  \n",
       "16010                     0              0         1  \n",
       "8704                      0              0         1  \n",
       "\n",
       "[5 rows x 39 columns]"
      ]
     },
     "execution_count": 324,
     "metadata": {},
     "output_type": "execute_result"
    }
   ],
   "source": [
    "X_two.iloc[80:85,:]"
   ]
  },
  {
   "cell_type": "markdown",
   "metadata": {},
   "source": [
    "### ENM & 1% matching organics"
   ]
  },
  {
   "cell_type": "markdown",
   "metadata": {},
   "source": [
    "* https://scikit-learn.org/stable/modules/generated/sklearn.metrics.jaccard_similarity_score.html\n",
    "* https://stackoverflow.com/questions/28910089/filling-empty-python-dataframe-using-loops"
   ]
  },
  {
   "cell_type": "code",
   "execution_count": null,
   "metadata": {
    "collapsed": true
   },
   "outputs": [],
   "source": [
    "# Write loop to match organics tuples to ENM tuples based on Jaccard similarity\n",
    "X_match = []\n",
    "for i in X_enm.index:\n",
    "    # Find most similar tuple in X_source\n",
    "    #tuple_match = pd.DataFrame()\n",
    "    X_match.append(tuple_match)"
   ]
  },
  {
   "cell_type": "code",
   "execution_count": null,
   "metadata": {
    "collapsed": true
   },
   "outputs": [],
   "source": [
    "# Append sampled organics data to ENM data\n",
    "X_match = pd.concat([X_enm, X_match], sort=False)"
   ]
  },
  {
   "cell_type": "code",
   "execution_count": null,
   "metadata": {
    "collapsed": true
   },
   "outputs": [],
   "source": []
  },
  {
   "cell_type": "markdown",
   "metadata": {},
   "source": [
    "# Models"
   ]
  },
  {
   "cell_type": "markdown",
   "metadata": {},
   "source": [
    "## ENM only"
   ]
  },
  {
   "cell_type": "markdown",
   "metadata": {},
   "source": [
    "Here I make use of a helper class in order to compare different model estimators with different parameters. Estimator Selection Helper is by David Batista:\n",
    "http://www.davidsbatista.net/blog/2018/02/23/model_optimization/."
   ]
  },
  {
   "cell_type": "code",
   "execution_count": 126,
   "metadata": {
    "ExecuteTime": {
     "end_time": "2018-12-14T19:45:40.365031Z",
     "start_time": "2018-12-14T19:45:40.357229Z"
    },
    "collapsed": true
   },
   "outputs": [],
   "source": [
    "# Scale pchem properties since pipelines are not included in the helper.\n",
    "from sklearn.preprocessing import MinMaxScaler\n",
    "scaler = MinMaxScaler()\n",
    "X_enm_scaled = scaler.fit_transform(X_enm)"
   ]
  },
  {
   "cell_type": "code",
   "execution_count": 118,
   "metadata": {
    "ExecuteTime": {
     "end_time": "2018-12-14T18:55:03.879102Z",
     "start_time": "2018-12-14T18:55:03.761018Z"
    },
    "collapsed": true
   },
   "outputs": [],
   "source": [
    "# Set up for grid search across multiple pipelines\n",
    "from sklearn.model_selection import GridSearchCV\n",
    "\n",
    "cv=10\n",
    "class EstimatorSelectionHelper:\n",
    "\n",
    "    def __init__(self, models, params):\n",
    "        if not set(models.keys()).issubset(set(params.keys())):\n",
    "            missing_params = list(set(models.keys()) - set(params.keys()))\n",
    "            raise ValueError(\"Some estimators are missing parameters: %s\" % missing_params)\n",
    "        self.models = models\n",
    "        self.params = params\n",
    "        self.keys = models.keys()\n",
    "        self.grid_searches = {}\n",
    "\n",
    "    def fit(self, X, y, cv=cv, n_jobs=1, verbose=1, scoring='accuracy', refit=False):\n",
    "        for key in self.keys:\n",
    "            print(\"Running GridSearchCV for %s.\" % key)\n",
    "            model = self.models[key]\n",
    "            params = self.params[key]\n",
    "            gs = GridSearchCV(model, params, cv=cv, n_jobs=n_jobs,\n",
    "                              verbose=verbose, scoring=scoring, refit=refit,\n",
    "                              return_train_score=True)\n",
    "            gs.fit(X,y)\n",
    "            self.grid_searches[key] = gs    \n",
    "\n",
    "    def score_summary(self, sort_by='mean_score'):\n",
    "        def row(key, scores, params):\n",
    "            d = {\n",
    "                 'estimator': key,\n",
    "                 'min_score': min(scores),\n",
    "                 'max_score': max(scores),\n",
    "                 'mean_score': np.mean(scores),\n",
    "                 'std_score': np.std(scores),\n",
    "            }\n",
    "            return pd.Series({**params,**d})\n",
    "\n",
    "        rows = []\n",
    "        for k in self.grid_searches:\n",
    "            print(k)\n",
    "            params = self.grid_searches[k].cv_results_['params']\n",
    "            scores = []\n",
    "            for i in range(self.grid_searches[k].cv):\n",
    "                key = \"split{}_test_score\".format(i)\n",
    "                r = self.grid_searches[k].cv_results_[key]        \n",
    "                scores.append(r.reshape(len(params),1))\n",
    "\n",
    "            all_scores = np.hstack(scores)\n",
    "            for p, s in zip(params,all_scores):\n",
    "                rows.append((row(k, s, p)))\n",
    "\n",
    "        df = pd.concat(rows, axis=1).T.sort_values([sort_by], ascending=False)\n",
    "\n",
    "        columns = ['estimator', 'min_score', 'mean_score', 'max_score', 'std_score']\n",
    "        columns = columns + [c for c in df.columns if c not in columns]\n",
    "\n",
    "        return df[columns]"
   ]
  },
  {
   "cell_type": "code",
   "execution_count": 135,
   "metadata": {
    "ExecuteTime": {
     "end_time": "2018-12-14T19:50:28.326633Z",
     "start_time": "2018-12-14T19:50:28.314383Z"
    },
    "collapsed": true
   },
   "outputs": [],
   "source": [
    "# Define sets of models and their respective parameters to compare\n",
    "# The first dictionary contains the models to be scored\n",
    "# while the second contains the parameters for each model\n",
    "\n",
    "from sklearn.cluster import FeatureAgglomeration\n",
    "from sklearn.svm import SVC\n",
    "from sklearn.ensemble import RandomForestClassifier\n",
    "\n",
    "cv=10\n",
    "models = {\n",
    "    'RandomForest': RandomForestClassifier(),\n",
    "    'SVC': SVC()\n",
    "}\n",
    "\n",
    "params = {\n",
    "    'RandomForest': { 'n_estimators': [8,12,16,20,24]},\n",
    "    'SVC': [\n",
    "        {'kernel': ['linear'], 'C': np.logspace(0,4,10)},\n",
    "        {'kernel': ['rbf'], 'C': np.logspace(0,4,10), 'gamma': np.logspace(-6,0,10)},\n",
    "    ]\n",
    "}"
   ]
  },
  {
   "cell_type": "code",
   "execution_count": 136,
   "metadata": {
    "ExecuteTime": {
     "end_time": "2018-12-14T19:50:31.327432Z",
     "start_time": "2018-12-14T19:50:29.450789Z"
    }
   },
   "outputs": [
    {
     "name": "stdout",
     "output_type": "stream",
     "text": [
      "Running GridSearchCV for RandomForest.\n",
      "Fitting 10 folds for each of 5 candidates, totalling 50 fits\n",
      "Running GridSearchCV for SVC.\n",
      "Fitting 10 folds for each of 110 candidates, totalling 1100 fits\n"
     ]
    },
    {
     "name": "stderr",
     "output_type": "stream",
     "text": [
      "[Parallel(n_jobs=3)]: Done  50 out of  50 | elapsed:    0.5s finished\n",
      "[Parallel(n_jobs=3)]: Done 1100 out of 1100 | elapsed:    1.0s finished\n"
     ]
    },
    {
     "data": {
      "text/html": [
       "\n",
       "                <audio controls=\"controls\" autoplay=\"autoplay\">\n",
       "                    <source src=\"./data/Glass.wav\" type=\"audio/x-wav\" />\n",
       "                    Your browser does not support the audio element.\n",
       "                </audio>\n",
       "              "
      ],
      "text/plain": [
       "<IPython.lib.display.Audio object>"
      ]
     },
     "execution_count": 136,
     "metadata": {},
     "output_type": "execute_result"
    }
   ],
   "source": [
    "# Fit gridsearch models to select best estimator\n",
    "helper = EstimatorSelectionHelper(models, params)\n",
    "helper.fit(X_enm_scaled, bin_enm, n_jobs=3)\n",
    "\n",
    "# Play sound when cell is done running\n",
    "Audio(url=sound_file, autoplay=True)"
   ]
  },
  {
   "cell_type": "code",
   "execution_count": 137,
   "metadata": {
    "ExecuteTime": {
     "end_time": "2018-12-14T19:50:33.310664Z",
     "start_time": "2018-12-14T19:50:33.185034Z"
    }
   },
   "outputs": [
    {
     "name": "stdout",
     "output_type": "stream",
     "text": [
      "RandomForest\n",
      "SVC\n"
     ]
    },
    {
     "name": "stderr",
     "output_type": "stream",
     "text": [
      "/anaconda3/lib/python3.6/site-packages/ipykernel/__main__.py:52: FutureWarning: Sorting because non-concatenation axis is not aligned. A future version\n",
      "of pandas will change to not sort by default.\n",
      "\n",
      "To accept the future behavior, pass 'sort=True'.\n",
      "\n",
      "To retain the current behavior and silence the warning, pass sort=False\n",
      "\n"
     ]
    },
    {
     "data": {
      "text/html": [
       "<div>\n",
       "<style scoped>\n",
       "    .dataframe tbody tr th:only-of-type {\n",
       "        vertical-align: middle;\n",
       "    }\n",
       "\n",
       "    .dataframe tbody tr th {\n",
       "        vertical-align: top;\n",
       "    }\n",
       "\n",
       "    .dataframe thead th {\n",
       "        text-align: right;\n",
       "    }\n",
       "</style>\n",
       "<table border=\"1\" class=\"dataframe\">\n",
       "  <thead>\n",
       "    <tr style=\"text-align: right;\">\n",
       "      <th></th>\n",
       "      <th>estimator</th>\n",
       "      <th>min_score</th>\n",
       "      <th>mean_score</th>\n",
       "      <th>max_score</th>\n",
       "      <th>std_score</th>\n",
       "      <th>C</th>\n",
       "      <th>gamma</th>\n",
       "      <th>kernel</th>\n",
       "      <th>n_estimators</th>\n",
       "    </tr>\n",
       "  </thead>\n",
       "  <tbody>\n",
       "    <tr>\n",
       "      <th>2</th>\n",
       "      <td>RandomForest</td>\n",
       "      <td>0.333333</td>\n",
       "      <td>0.630754</td>\n",
       "      <td>0.857143</td>\n",
       "      <td>0.145799</td>\n",
       "      <td>NaN</td>\n",
       "      <td>NaN</td>\n",
       "      <td>NaN</td>\n",
       "      <td>16</td>\n",
       "    </tr>\n",
       "    <tr>\n",
       "      <th>99</th>\n",
       "      <td>SVC</td>\n",
       "      <td>0.333333</td>\n",
       "      <td>0.622817</td>\n",
       "      <td>0.857143</td>\n",
       "      <td>0.190713</td>\n",
       "      <td>3593.81</td>\n",
       "      <td>0.000464159</td>\n",
       "      <td>rbf</td>\n",
       "      <td>NaN</td>\n",
       "    </tr>\n",
       "    <tr>\n",
       "      <th>6</th>\n",
       "      <td>SVC</td>\n",
       "      <td>0.333333</td>\n",
       "      <td>0.622817</td>\n",
       "      <td>0.857143</td>\n",
       "      <td>0.190713</td>\n",
       "      <td>2.78256</td>\n",
       "      <td>NaN</td>\n",
       "      <td>linear</td>\n",
       "      <td>NaN</td>\n",
       "    </tr>\n",
       "    <tr>\n",
       "      <th>71</th>\n",
       "      <td>SVC</td>\n",
       "      <td>0.333333</td>\n",
       "      <td>0.611706</td>\n",
       "      <td>0.857143</td>\n",
       "      <td>0.191071</td>\n",
       "      <td>166.81</td>\n",
       "      <td>0.01</td>\n",
       "      <td>rbf</td>\n",
       "      <td>NaN</td>\n",
       "    </tr>\n",
       "    <tr>\n",
       "      <th>1</th>\n",
       "      <td>RandomForest</td>\n",
       "      <td>0.333333</td>\n",
       "      <td>0.610913</td>\n",
       "      <td>0.857143</td>\n",
       "      <td>0.14718</td>\n",
       "      <td>NaN</td>\n",
       "      <td>NaN</td>\n",
       "      <td>NaN</td>\n",
       "      <td>12</td>\n",
       "    </tr>\n",
       "    <tr>\n",
       "      <th>108</th>\n",
       "      <td>SVC</td>\n",
       "      <td>0.333333</td>\n",
       "      <td>0.608532</td>\n",
       "      <td>0.857143</td>\n",
       "      <td>0.177519</td>\n",
       "      <td>10000</td>\n",
       "      <td>0.0001</td>\n",
       "      <td>rbf</td>\n",
       "      <td>NaN</td>\n",
       "    </tr>\n",
       "    <tr>\n",
       "      <th>80</th>\n",
       "      <td>SVC</td>\n",
       "      <td>0.333333</td>\n",
       "      <td>0.608532</td>\n",
       "      <td>0.857143</td>\n",
       "      <td>0.177519</td>\n",
       "      <td>464.159</td>\n",
       "      <td>0.00215443</td>\n",
       "      <td>rbf</td>\n",
       "      <td>NaN</td>\n",
       "    </tr>\n",
       "    <tr>\n",
       "      <th>52</th>\n",
       "      <td>SVC</td>\n",
       "      <td>0.333333</td>\n",
       "      <td>0.597421</td>\n",
       "      <td>0.857143</td>\n",
       "      <td>0.177009</td>\n",
       "      <td>21.5443</td>\n",
       "      <td>0.0464159</td>\n",
       "      <td>rbf</td>\n",
       "      <td>NaN</td>\n",
       "    </tr>\n",
       "    <tr>\n",
       "      <th>23</th>\n",
       "      <td>SVC</td>\n",
       "      <td>0.333333</td>\n",
       "      <td>0.590476</td>\n",
       "      <td>0.888889</td>\n",
       "      <td>0.188956</td>\n",
       "      <td>1</td>\n",
       "      <td>0.215443</td>\n",
       "      <td>rbf</td>\n",
       "      <td>NaN</td>\n",
       "    </tr>\n",
       "    <tr>\n",
       "      <th>3</th>\n",
       "      <td>RandomForest</td>\n",
       "      <td>0.333333</td>\n",
       "      <td>0.58869</td>\n",
       "      <td>0.777778</td>\n",
       "      <td>0.156477</td>\n",
       "      <td>NaN</td>\n",
       "      <td>NaN</td>\n",
       "      <td>NaN</td>\n",
       "      <td>20</td>\n",
       "    </tr>\n",
       "    <tr>\n",
       "      <th>69</th>\n",
       "      <td>SVC</td>\n",
       "      <td>0.333333</td>\n",
       "      <td>0.585317</td>\n",
       "      <td>1</td>\n",
       "      <td>0.200727</td>\n",
       "      <td>166.81</td>\n",
       "      <td>0.000464159</td>\n",
       "      <td>rbf</td>\n",
       "      <td>NaN</td>\n",
       "    </tr>\n",
       "    <tr>\n",
       "      <th>41</th>\n",
       "      <td>SVC</td>\n",
       "      <td>0.333333</td>\n",
       "      <td>0.585317</td>\n",
       "      <td>1</td>\n",
       "      <td>0.200727</td>\n",
       "      <td>7.74264</td>\n",
       "      <td>0.01</td>\n",
       "      <td>rbf</td>\n",
       "      <td>NaN</td>\n",
       "    </tr>\n",
       "    <tr>\n",
       "      <th>97</th>\n",
       "      <td>SVC</td>\n",
       "      <td>0.333333</td>\n",
       "      <td>0.585317</td>\n",
       "      <td>1</td>\n",
       "      <td>0.200727</td>\n",
       "      <td>3593.81</td>\n",
       "      <td>2.15443e-05</td>\n",
       "      <td>rbf</td>\n",
       "      <td>NaN</td>\n",
       "    </tr>\n",
       "    <tr>\n",
       "      <th>88</th>\n",
       "      <td>SVC</td>\n",
       "      <td>0.333333</td>\n",
       "      <td>0.584921</td>\n",
       "      <td>0.857143</td>\n",
       "      <td>0.156976</td>\n",
       "      <td>1291.55</td>\n",
       "      <td>0.0001</td>\n",
       "      <td>rbf</td>\n",
       "      <td>NaN</td>\n",
       "    </tr>\n",
       "    <tr>\n",
       "      <th>60</th>\n",
       "      <td>SVC</td>\n",
       "      <td>0.333333</td>\n",
       "      <td>0.584921</td>\n",
       "      <td>0.857143</td>\n",
       "      <td>0.156976</td>\n",
       "      <td>59.9484</td>\n",
       "      <td>0.00215443</td>\n",
       "      <td>rbf</td>\n",
       "      <td>NaN</td>\n",
       "    </tr>\n",
       "    <tr>\n",
       "      <th>42</th>\n",
       "      <td>SVC</td>\n",
       "      <td>0.333333</td>\n",
       "      <td>0.584921</td>\n",
       "      <td>0.888889</td>\n",
       "      <td>0.198636</td>\n",
       "      <td>7.74264</td>\n",
       "      <td>0.0464159</td>\n",
       "      <td>rbf</td>\n",
       "      <td>NaN</td>\n",
       "    </tr>\n",
       "    <tr>\n",
       "      <th>61</th>\n",
       "      <td>SVC</td>\n",
       "      <td>0.333333</td>\n",
       "      <td>0.575198</td>\n",
       "      <td>0.857143</td>\n",
       "      <td>0.173868</td>\n",
       "      <td>59.9484</td>\n",
       "      <td>0.01</td>\n",
       "      <td>rbf</td>\n",
       "      <td>NaN</td>\n",
       "    </tr>\n",
       "    <tr>\n",
       "      <th>89</th>\n",
       "      <td>SVC</td>\n",
       "      <td>0.333333</td>\n",
       "      <td>0.575198</td>\n",
       "      <td>0.857143</td>\n",
       "      <td>0.173868</td>\n",
       "      <td>1291.55</td>\n",
       "      <td>0.000464159</td>\n",
       "      <td>rbf</td>\n",
       "      <td>NaN</td>\n",
       "    </tr>\n",
       "    <tr>\n",
       "      <th>70</th>\n",
       "      <td>SVC</td>\n",
       "      <td>0.333333</td>\n",
       "      <td>0.57381</td>\n",
       "      <td>0.888889</td>\n",
       "      <td>0.190478</td>\n",
       "      <td>166.81</td>\n",
       "      <td>0.00215443</td>\n",
       "      <td>rbf</td>\n",
       "      <td>NaN</td>\n",
       "    </tr>\n",
       "    <tr>\n",
       "      <th>98</th>\n",
       "      <td>SVC</td>\n",
       "      <td>0.333333</td>\n",
       "      <td>0.57381</td>\n",
       "      <td>0.888889</td>\n",
       "      <td>0.190478</td>\n",
       "      <td>3593.81</td>\n",
       "      <td>0.0001</td>\n",
       "      <td>rbf</td>\n",
       "      <td>NaN</td>\n",
       "    </tr>\n",
       "    <tr>\n",
       "      <th>32</th>\n",
       "      <td>SVC</td>\n",
       "      <td>0.333333</td>\n",
       "      <td>0.571429</td>\n",
       "      <td>0.857143</td>\n",
       "      <td>0.179267</td>\n",
       "      <td>2.78256</td>\n",
       "      <td>0.0464159</td>\n",
       "      <td>rbf</td>\n",
       "      <td>NaN</td>\n",
       "    </tr>\n",
       "    <tr>\n",
       "      <th>51</th>\n",
       "      <td>SVC</td>\n",
       "      <td>0.333333</td>\n",
       "      <td>0.568254</td>\n",
       "      <td>0.857143</td>\n",
       "      <td>0.156259</td>\n",
       "      <td>21.5443</td>\n",
       "      <td>0.01</td>\n",
       "      <td>rbf</td>\n",
       "      <td>NaN</td>\n",
       "    </tr>\n",
       "    <tr>\n",
       "      <th>107</th>\n",
       "      <td>SVC</td>\n",
       "      <td>0.333333</td>\n",
       "      <td>0.568254</td>\n",
       "      <td>0.857143</td>\n",
       "      <td>0.156259</td>\n",
       "      <td>10000</td>\n",
       "      <td>2.15443e-05</td>\n",
       "      <td>rbf</td>\n",
       "      <td>NaN</td>\n",
       "    </tr>\n",
       "    <tr>\n",
       "      <th>79</th>\n",
       "      <td>SVC</td>\n",
       "      <td>0.333333</td>\n",
       "      <td>0.568254</td>\n",
       "      <td>0.857143</td>\n",
       "      <td>0.156259</td>\n",
       "      <td>464.159</td>\n",
       "      <td>0.000464159</td>\n",
       "      <td>rbf</td>\n",
       "      <td>NaN</td>\n",
       "    </tr>\n",
       "    <tr>\n",
       "      <th>22</th>\n",
       "      <td>SVC</td>\n",
       "      <td>0.333333</td>\n",
       "      <td>0.564087</td>\n",
       "      <td>0.857143</td>\n",
       "      <td>0.156109</td>\n",
       "      <td>1</td>\n",
       "      <td>0.0464159</td>\n",
       "      <td>rbf</td>\n",
       "      <td>NaN</td>\n",
       "    </tr>\n",
       "    <tr>\n",
       "      <th>5</th>\n",
       "      <td>SVC</td>\n",
       "      <td>0.333333</td>\n",
       "      <td>0.562698</td>\n",
       "      <td>0.857143</td>\n",
       "      <td>0.174331</td>\n",
       "      <td>1</td>\n",
       "      <td>NaN</td>\n",
       "      <td>linear</td>\n",
       "      <td>NaN</td>\n",
       "    </tr>\n",
       "    <tr>\n",
       "      <th>33</th>\n",
       "      <td>SVC</td>\n",
       "      <td>0.333333</td>\n",
       "      <td>0.562698</td>\n",
       "      <td>0.888889</td>\n",
       "      <td>0.194419</td>\n",
       "      <td>2.78256</td>\n",
       "      <td>0.215443</td>\n",
       "      <td>rbf</td>\n",
       "      <td>NaN</td>\n",
       "    </tr>\n",
       "    <tr>\n",
       "      <th>24</th>\n",
       "      <td>SVC</td>\n",
       "      <td>0.333333</td>\n",
       "      <td>0.558135</td>\n",
       "      <td>0.777778</td>\n",
       "      <td>0.147894</td>\n",
       "      <td>1</td>\n",
       "      <td>1</td>\n",
       "      <td>rbf</td>\n",
       "      <td>NaN</td>\n",
       "    </tr>\n",
       "    <tr>\n",
       "      <th>72</th>\n",
       "      <td>SVC</td>\n",
       "      <td>0.333333</td>\n",
       "      <td>0.557738</td>\n",
       "      <td>0.777778</td>\n",
       "      <td>0.158885</td>\n",
       "      <td>166.81</td>\n",
       "      <td>0.0464159</td>\n",
       "      <td>rbf</td>\n",
       "      <td>NaN</td>\n",
       "    </tr>\n",
       "    <tr>\n",
       "      <th>82</th>\n",
       "      <td>SVC</td>\n",
       "      <td>0.333333</td>\n",
       "      <td>0.557738</td>\n",
       "      <td>0.777778</td>\n",
       "      <td>0.158885</td>\n",
       "      <td>464.159</td>\n",
       "      <td>0.0464159</td>\n",
       "      <td>rbf</td>\n",
       "      <td>NaN</td>\n",
       "    </tr>\n",
       "    <tr>\n",
       "      <th>...</th>\n",
       "      <td>...</td>\n",
       "      <td>...</td>\n",
       "      <td>...</td>\n",
       "      <td>...</td>\n",
       "      <td>...</td>\n",
       "      <td>...</td>\n",
       "      <td>...</td>\n",
       "      <td>...</td>\n",
       "      <td>...</td>\n",
       "    </tr>\n",
       "    <tr>\n",
       "      <th>105</th>\n",
       "      <td>SVC</td>\n",
       "      <td>0.375</td>\n",
       "      <td>0.439881</td>\n",
       "      <td>0.5</td>\n",
       "      <td>0.0286437</td>\n",
       "      <td>10000</td>\n",
       "      <td>1e-06</td>\n",
       "      <td>rbf</td>\n",
       "      <td>NaN</td>\n",
       "    </tr>\n",
       "    <tr>\n",
       "      <th>25</th>\n",
       "      <td>SVC</td>\n",
       "      <td>0.375</td>\n",
       "      <td>0.439881</td>\n",
       "      <td>0.5</td>\n",
       "      <td>0.0286437</td>\n",
       "      <td>2.78256</td>\n",
       "      <td>1e-06</td>\n",
       "      <td>rbf</td>\n",
       "      <td>NaN</td>\n",
       "    </tr>\n",
       "    <tr>\n",
       "      <th>21</th>\n",
       "      <td>SVC</td>\n",
       "      <td>0.375</td>\n",
       "      <td>0.439881</td>\n",
       "      <td>0.5</td>\n",
       "      <td>0.0286437</td>\n",
       "      <td>1</td>\n",
       "      <td>0.01</td>\n",
       "      <td>rbf</td>\n",
       "      <td>NaN</td>\n",
       "    </tr>\n",
       "    <tr>\n",
       "      <th>20</th>\n",
       "      <td>SVC</td>\n",
       "      <td>0.375</td>\n",
       "      <td>0.439881</td>\n",
       "      <td>0.5</td>\n",
       "      <td>0.0286437</td>\n",
       "      <td>1</td>\n",
       "      <td>0.00215443</td>\n",
       "      <td>rbf</td>\n",
       "      <td>NaN</td>\n",
       "    </tr>\n",
       "    <tr>\n",
       "      <th>19</th>\n",
       "      <td>SVC</td>\n",
       "      <td>0.375</td>\n",
       "      <td>0.439881</td>\n",
       "      <td>0.5</td>\n",
       "      <td>0.0286437</td>\n",
       "      <td>1</td>\n",
       "      <td>0.000464159</td>\n",
       "      <td>rbf</td>\n",
       "      <td>NaN</td>\n",
       "    </tr>\n",
       "    <tr>\n",
       "      <th>18</th>\n",
       "      <td>SVC</td>\n",
       "      <td>0.375</td>\n",
       "      <td>0.439881</td>\n",
       "      <td>0.5</td>\n",
       "      <td>0.0286437</td>\n",
       "      <td>1</td>\n",
       "      <td>0.0001</td>\n",
       "      <td>rbf</td>\n",
       "      <td>NaN</td>\n",
       "    </tr>\n",
       "    <tr>\n",
       "      <th>17</th>\n",
       "      <td>SVC</td>\n",
       "      <td>0.375</td>\n",
       "      <td>0.439881</td>\n",
       "      <td>0.5</td>\n",
       "      <td>0.0286437</td>\n",
       "      <td>1</td>\n",
       "      <td>2.15443e-05</td>\n",
       "      <td>rbf</td>\n",
       "      <td>NaN</td>\n",
       "    </tr>\n",
       "    <tr>\n",
       "      <th>16</th>\n",
       "      <td>SVC</td>\n",
       "      <td>0.375</td>\n",
       "      <td>0.439881</td>\n",
       "      <td>0.5</td>\n",
       "      <td>0.0286437</td>\n",
       "      <td>1</td>\n",
       "      <td>4.64159e-06</td>\n",
       "      <td>rbf</td>\n",
       "      <td>NaN</td>\n",
       "    </tr>\n",
       "    <tr>\n",
       "      <th>15</th>\n",
       "      <td>SVC</td>\n",
       "      <td>0.375</td>\n",
       "      <td>0.439881</td>\n",
       "      <td>0.5</td>\n",
       "      <td>0.0286437</td>\n",
       "      <td>1</td>\n",
       "      <td>1e-06</td>\n",
       "      <td>rbf</td>\n",
       "      <td>NaN</td>\n",
       "    </tr>\n",
       "    <tr>\n",
       "      <th>37</th>\n",
       "      <td>SVC</td>\n",
       "      <td>0.375</td>\n",
       "      <td>0.439881</td>\n",
       "      <td>0.5</td>\n",
       "      <td>0.0286437</td>\n",
       "      <td>7.74264</td>\n",
       "      <td>2.15443e-05</td>\n",
       "      <td>rbf</td>\n",
       "      <td>NaN</td>\n",
       "    </tr>\n",
       "    <tr>\n",
       "      <th>38</th>\n",
       "      <td>SVC</td>\n",
       "      <td>0.375</td>\n",
       "      <td>0.439881</td>\n",
       "      <td>0.5</td>\n",
       "      <td>0.0286437</td>\n",
       "      <td>7.74264</td>\n",
       "      <td>0.0001</td>\n",
       "      <td>rbf</td>\n",
       "      <td>NaN</td>\n",
       "    </tr>\n",
       "    <tr>\n",
       "      <th>95</th>\n",
       "      <td>SVC</td>\n",
       "      <td>0.375</td>\n",
       "      <td>0.439881</td>\n",
       "      <td>0.5</td>\n",
       "      <td>0.0286437</td>\n",
       "      <td>3593.81</td>\n",
       "      <td>1e-06</td>\n",
       "      <td>rbf</td>\n",
       "      <td>NaN</td>\n",
       "    </tr>\n",
       "    <tr>\n",
       "      <th>55</th>\n",
       "      <td>SVC</td>\n",
       "      <td>0.375</td>\n",
       "      <td>0.439881</td>\n",
       "      <td>0.5</td>\n",
       "      <td>0.0286437</td>\n",
       "      <td>59.9484</td>\n",
       "      <td>1e-06</td>\n",
       "      <td>rbf</td>\n",
       "      <td>NaN</td>\n",
       "    </tr>\n",
       "    <tr>\n",
       "      <th>75</th>\n",
       "      <td>SVC</td>\n",
       "      <td>0.375</td>\n",
       "      <td>0.439881</td>\n",
       "      <td>0.5</td>\n",
       "      <td>0.0286437</td>\n",
       "      <td>464.159</td>\n",
       "      <td>1e-06</td>\n",
       "      <td>rbf</td>\n",
       "      <td>NaN</td>\n",
       "    </tr>\n",
       "    <tr>\n",
       "      <th>76</th>\n",
       "      <td>SVC</td>\n",
       "      <td>0.375</td>\n",
       "      <td>0.439881</td>\n",
       "      <td>0.5</td>\n",
       "      <td>0.0286437</td>\n",
       "      <td>464.159</td>\n",
       "      <td>4.64159e-06</td>\n",
       "      <td>rbf</td>\n",
       "      <td>NaN</td>\n",
       "    </tr>\n",
       "    <tr>\n",
       "      <th>77</th>\n",
       "      <td>SVC</td>\n",
       "      <td>0.375</td>\n",
       "      <td>0.439881</td>\n",
       "      <td>0.5</td>\n",
       "      <td>0.0286437</td>\n",
       "      <td>464.159</td>\n",
       "      <td>2.15443e-05</td>\n",
       "      <td>rbf</td>\n",
       "      <td>NaN</td>\n",
       "    </tr>\n",
       "    <tr>\n",
       "      <th>66</th>\n",
       "      <td>SVC</td>\n",
       "      <td>0.375</td>\n",
       "      <td>0.439881</td>\n",
       "      <td>0.5</td>\n",
       "      <td>0.0286437</td>\n",
       "      <td>166.81</td>\n",
       "      <td>4.64159e-06</td>\n",
       "      <td>rbf</td>\n",
       "      <td>NaN</td>\n",
       "    </tr>\n",
       "    <tr>\n",
       "      <th>65</th>\n",
       "      <td>SVC</td>\n",
       "      <td>0.375</td>\n",
       "      <td>0.439881</td>\n",
       "      <td>0.5</td>\n",
       "      <td>0.0286437</td>\n",
       "      <td>166.81</td>\n",
       "      <td>1e-06</td>\n",
       "      <td>rbf</td>\n",
       "      <td>NaN</td>\n",
       "    </tr>\n",
       "    <tr>\n",
       "      <th>58</th>\n",
       "      <td>SVC</td>\n",
       "      <td>0.375</td>\n",
       "      <td>0.439881</td>\n",
       "      <td>0.5</td>\n",
       "      <td>0.0286437</td>\n",
       "      <td>59.9484</td>\n",
       "      <td>0.0001</td>\n",
       "      <td>rbf</td>\n",
       "      <td>NaN</td>\n",
       "    </tr>\n",
       "    <tr>\n",
       "      <th>56</th>\n",
       "      <td>SVC</td>\n",
       "      <td>0.375</td>\n",
       "      <td>0.439881</td>\n",
       "      <td>0.5</td>\n",
       "      <td>0.0286437</td>\n",
       "      <td>59.9484</td>\n",
       "      <td>4.64159e-06</td>\n",
       "      <td>rbf</td>\n",
       "      <td>NaN</td>\n",
       "    </tr>\n",
       "    <tr>\n",
       "      <th>49</th>\n",
       "      <td>SVC</td>\n",
       "      <td>0.375</td>\n",
       "      <td>0.439881</td>\n",
       "      <td>0.5</td>\n",
       "      <td>0.0286437</td>\n",
       "      <td>21.5443</td>\n",
       "      <td>0.000464159</td>\n",
       "      <td>rbf</td>\n",
       "      <td>NaN</td>\n",
       "    </tr>\n",
       "    <tr>\n",
       "      <th>67</th>\n",
       "      <td>SVC</td>\n",
       "      <td>0.375</td>\n",
       "      <td>0.439881</td>\n",
       "      <td>0.5</td>\n",
       "      <td>0.0286437</td>\n",
       "      <td>166.81</td>\n",
       "      <td>2.15443e-05</td>\n",
       "      <td>rbf</td>\n",
       "      <td>NaN</td>\n",
       "    </tr>\n",
       "    <tr>\n",
       "      <th>85</th>\n",
       "      <td>SVC</td>\n",
       "      <td>0.375</td>\n",
       "      <td>0.439881</td>\n",
       "      <td>0.5</td>\n",
       "      <td>0.0286437</td>\n",
       "      <td>1291.55</td>\n",
       "      <td>1e-06</td>\n",
       "      <td>rbf</td>\n",
       "      <td>NaN</td>\n",
       "    </tr>\n",
       "    <tr>\n",
       "      <th>86</th>\n",
       "      <td>SVC</td>\n",
       "      <td>0.375</td>\n",
       "      <td>0.439881</td>\n",
       "      <td>0.5</td>\n",
       "      <td>0.0286437</td>\n",
       "      <td>1291.55</td>\n",
       "      <td>4.64159e-06</td>\n",
       "      <td>rbf</td>\n",
       "      <td>NaN</td>\n",
       "    </tr>\n",
       "    <tr>\n",
       "      <th>48</th>\n",
       "      <td>SVC</td>\n",
       "      <td>0.375</td>\n",
       "      <td>0.439881</td>\n",
       "      <td>0.5</td>\n",
       "      <td>0.0286437</td>\n",
       "      <td>21.5443</td>\n",
       "      <td>0.0001</td>\n",
       "      <td>rbf</td>\n",
       "      <td>NaN</td>\n",
       "    </tr>\n",
       "    <tr>\n",
       "      <th>47</th>\n",
       "      <td>SVC</td>\n",
       "      <td>0.375</td>\n",
       "      <td>0.439881</td>\n",
       "      <td>0.5</td>\n",
       "      <td>0.0286437</td>\n",
       "      <td>21.5443</td>\n",
       "      <td>2.15443e-05</td>\n",
       "      <td>rbf</td>\n",
       "      <td>NaN</td>\n",
       "    </tr>\n",
       "    <tr>\n",
       "      <th>46</th>\n",
       "      <td>SVC</td>\n",
       "      <td>0.375</td>\n",
       "      <td>0.439881</td>\n",
       "      <td>0.5</td>\n",
       "      <td>0.0286437</td>\n",
       "      <td>21.5443</td>\n",
       "      <td>4.64159e-06</td>\n",
       "      <td>rbf</td>\n",
       "      <td>NaN</td>\n",
       "    </tr>\n",
       "    <tr>\n",
       "      <th>45</th>\n",
       "      <td>SVC</td>\n",
       "      <td>0.375</td>\n",
       "      <td>0.439881</td>\n",
       "      <td>0.5</td>\n",
       "      <td>0.0286437</td>\n",
       "      <td>21.5443</td>\n",
       "      <td>1e-06</td>\n",
       "      <td>rbf</td>\n",
       "      <td>NaN</td>\n",
       "    </tr>\n",
       "    <tr>\n",
       "      <th>39</th>\n",
       "      <td>SVC</td>\n",
       "      <td>0.375</td>\n",
       "      <td>0.439881</td>\n",
       "      <td>0.5</td>\n",
       "      <td>0.0286437</td>\n",
       "      <td>7.74264</td>\n",
       "      <td>0.000464159</td>\n",
       "      <td>rbf</td>\n",
       "      <td>NaN</td>\n",
       "    </tr>\n",
       "    <tr>\n",
       "      <th>57</th>\n",
       "      <td>SVC</td>\n",
       "      <td>0.375</td>\n",
       "      <td>0.439881</td>\n",
       "      <td>0.5</td>\n",
       "      <td>0.0286437</td>\n",
       "      <td>59.9484</td>\n",
       "      <td>2.15443e-05</td>\n",
       "      <td>rbf</td>\n",
       "      <td>NaN</td>\n",
       "    </tr>\n",
       "  </tbody>\n",
       "</table>\n",
       "<p>115 rows × 9 columns</p>\n",
       "</div>"
      ],
      "text/plain": [
       "        estimator min_score mean_score max_score  std_score        C  \\\n",
       "2    RandomForest  0.333333   0.630754  0.857143   0.145799      NaN   \n",
       "99            SVC  0.333333   0.622817  0.857143   0.190713  3593.81   \n",
       "6             SVC  0.333333   0.622817  0.857143   0.190713  2.78256   \n",
       "71            SVC  0.333333   0.611706  0.857143   0.191071   166.81   \n",
       "1    RandomForest  0.333333   0.610913  0.857143    0.14718      NaN   \n",
       "108           SVC  0.333333   0.608532  0.857143   0.177519    10000   \n",
       "80            SVC  0.333333   0.608532  0.857143   0.177519  464.159   \n",
       "52            SVC  0.333333   0.597421  0.857143   0.177009  21.5443   \n",
       "23            SVC  0.333333   0.590476  0.888889   0.188956        1   \n",
       "3    RandomForest  0.333333    0.58869  0.777778   0.156477      NaN   \n",
       "69            SVC  0.333333   0.585317         1   0.200727   166.81   \n",
       "41            SVC  0.333333   0.585317         1   0.200727  7.74264   \n",
       "97            SVC  0.333333   0.585317         1   0.200727  3593.81   \n",
       "88            SVC  0.333333   0.584921  0.857143   0.156976  1291.55   \n",
       "60            SVC  0.333333   0.584921  0.857143   0.156976  59.9484   \n",
       "42            SVC  0.333333   0.584921  0.888889   0.198636  7.74264   \n",
       "61            SVC  0.333333   0.575198  0.857143   0.173868  59.9484   \n",
       "89            SVC  0.333333   0.575198  0.857143   0.173868  1291.55   \n",
       "70            SVC  0.333333    0.57381  0.888889   0.190478   166.81   \n",
       "98            SVC  0.333333    0.57381  0.888889   0.190478  3593.81   \n",
       "32            SVC  0.333333   0.571429  0.857143   0.179267  2.78256   \n",
       "51            SVC  0.333333   0.568254  0.857143   0.156259  21.5443   \n",
       "107           SVC  0.333333   0.568254  0.857143   0.156259    10000   \n",
       "79            SVC  0.333333   0.568254  0.857143   0.156259  464.159   \n",
       "22            SVC  0.333333   0.564087  0.857143   0.156109        1   \n",
       "5             SVC  0.333333   0.562698  0.857143   0.174331        1   \n",
       "33            SVC  0.333333   0.562698  0.888889   0.194419  2.78256   \n",
       "24            SVC  0.333333   0.558135  0.777778   0.147894        1   \n",
       "72            SVC  0.333333   0.557738  0.777778   0.158885   166.81   \n",
       "82            SVC  0.333333   0.557738  0.777778   0.158885  464.159   \n",
       "..            ...       ...        ...       ...        ...      ...   \n",
       "105           SVC     0.375   0.439881       0.5  0.0286437    10000   \n",
       "25            SVC     0.375   0.439881       0.5  0.0286437  2.78256   \n",
       "21            SVC     0.375   0.439881       0.5  0.0286437        1   \n",
       "20            SVC     0.375   0.439881       0.5  0.0286437        1   \n",
       "19            SVC     0.375   0.439881       0.5  0.0286437        1   \n",
       "18            SVC     0.375   0.439881       0.5  0.0286437        1   \n",
       "17            SVC     0.375   0.439881       0.5  0.0286437        1   \n",
       "16            SVC     0.375   0.439881       0.5  0.0286437        1   \n",
       "15            SVC     0.375   0.439881       0.5  0.0286437        1   \n",
       "37            SVC     0.375   0.439881       0.5  0.0286437  7.74264   \n",
       "38            SVC     0.375   0.439881       0.5  0.0286437  7.74264   \n",
       "95            SVC     0.375   0.439881       0.5  0.0286437  3593.81   \n",
       "55            SVC     0.375   0.439881       0.5  0.0286437  59.9484   \n",
       "75            SVC     0.375   0.439881       0.5  0.0286437  464.159   \n",
       "76            SVC     0.375   0.439881       0.5  0.0286437  464.159   \n",
       "77            SVC     0.375   0.439881       0.5  0.0286437  464.159   \n",
       "66            SVC     0.375   0.439881       0.5  0.0286437   166.81   \n",
       "65            SVC     0.375   0.439881       0.5  0.0286437   166.81   \n",
       "58            SVC     0.375   0.439881       0.5  0.0286437  59.9484   \n",
       "56            SVC     0.375   0.439881       0.5  0.0286437  59.9484   \n",
       "49            SVC     0.375   0.439881       0.5  0.0286437  21.5443   \n",
       "67            SVC     0.375   0.439881       0.5  0.0286437   166.81   \n",
       "85            SVC     0.375   0.439881       0.5  0.0286437  1291.55   \n",
       "86            SVC     0.375   0.439881       0.5  0.0286437  1291.55   \n",
       "48            SVC     0.375   0.439881       0.5  0.0286437  21.5443   \n",
       "47            SVC     0.375   0.439881       0.5  0.0286437  21.5443   \n",
       "46            SVC     0.375   0.439881       0.5  0.0286437  21.5443   \n",
       "45            SVC     0.375   0.439881       0.5  0.0286437  21.5443   \n",
       "39            SVC     0.375   0.439881       0.5  0.0286437  7.74264   \n",
       "57            SVC     0.375   0.439881       0.5  0.0286437  59.9484   \n",
       "\n",
       "           gamma  kernel n_estimators  \n",
       "2            NaN     NaN           16  \n",
       "99   0.000464159     rbf          NaN  \n",
       "6            NaN  linear          NaN  \n",
       "71          0.01     rbf          NaN  \n",
       "1            NaN     NaN           12  \n",
       "108       0.0001     rbf          NaN  \n",
       "80    0.00215443     rbf          NaN  \n",
       "52     0.0464159     rbf          NaN  \n",
       "23      0.215443     rbf          NaN  \n",
       "3            NaN     NaN           20  \n",
       "69   0.000464159     rbf          NaN  \n",
       "41          0.01     rbf          NaN  \n",
       "97   2.15443e-05     rbf          NaN  \n",
       "88        0.0001     rbf          NaN  \n",
       "60    0.00215443     rbf          NaN  \n",
       "42     0.0464159     rbf          NaN  \n",
       "61          0.01     rbf          NaN  \n",
       "89   0.000464159     rbf          NaN  \n",
       "70    0.00215443     rbf          NaN  \n",
       "98        0.0001     rbf          NaN  \n",
       "32     0.0464159     rbf          NaN  \n",
       "51          0.01     rbf          NaN  \n",
       "107  2.15443e-05     rbf          NaN  \n",
       "79   0.000464159     rbf          NaN  \n",
       "22     0.0464159     rbf          NaN  \n",
       "5            NaN  linear          NaN  \n",
       "33      0.215443     rbf          NaN  \n",
       "24             1     rbf          NaN  \n",
       "72     0.0464159     rbf          NaN  \n",
       "82     0.0464159     rbf          NaN  \n",
       "..           ...     ...          ...  \n",
       "105        1e-06     rbf          NaN  \n",
       "25         1e-06     rbf          NaN  \n",
       "21          0.01     rbf          NaN  \n",
       "20    0.00215443     rbf          NaN  \n",
       "19   0.000464159     rbf          NaN  \n",
       "18        0.0001     rbf          NaN  \n",
       "17   2.15443e-05     rbf          NaN  \n",
       "16   4.64159e-06     rbf          NaN  \n",
       "15         1e-06     rbf          NaN  \n",
       "37   2.15443e-05     rbf          NaN  \n",
       "38        0.0001     rbf          NaN  \n",
       "95         1e-06     rbf          NaN  \n",
       "55         1e-06     rbf          NaN  \n",
       "75         1e-06     rbf          NaN  \n",
       "76   4.64159e-06     rbf          NaN  \n",
       "77   2.15443e-05     rbf          NaN  \n",
       "66   4.64159e-06     rbf          NaN  \n",
       "65         1e-06     rbf          NaN  \n",
       "58        0.0001     rbf          NaN  \n",
       "56   4.64159e-06     rbf          NaN  \n",
       "49   0.000464159     rbf          NaN  \n",
       "67   2.15443e-05     rbf          NaN  \n",
       "85         1e-06     rbf          NaN  \n",
       "86   4.64159e-06     rbf          NaN  \n",
       "48        0.0001     rbf          NaN  \n",
       "47   2.15443e-05     rbf          NaN  \n",
       "46   4.64159e-06     rbf          NaN  \n",
       "45         1e-06     rbf          NaN  \n",
       "39   0.000464159     rbf          NaN  \n",
       "57   2.15443e-05     rbf          NaN  \n",
       "\n",
       "[115 rows x 9 columns]"
      ]
     },
     "execution_count": 137,
     "metadata": {},
     "output_type": "execute_result"
    }
   ],
   "source": [
    "# Compare performance for estimators (accuracy)\n",
    "# Function features only\n",
    "helper.score_summary(sort_by='mean_score')"
   ]
  },
  {
   "cell_type": "markdown",
   "metadata": {
    "ExecuteTime": {
     "end_time": "2018-10-22T17:34:55.421515Z",
     "start_time": "2018-10-22T17:34:55.417186Z"
    },
    "collapsed": true
   },
   "source": [
    "## Essentially leave one out cross validation, slight biases, might be overfitting"
   ]
  },
  {
   "cell_type": "markdown",
   "metadata": {
    "collapsed": true
   },
   "source": [
    "This runs just the ENM data using an SVC, optimizing parameters with a grid search using cross-validation."
   ]
  },
  {
   "cell_type": "code",
   "execution_count": 378,
   "metadata": {
    "ExecuteTime": {
     "end_time": "2018-12-17T02:43:00.879976Z",
     "start_time": "2018-12-17T02:42:53.958924Z"
    }
   },
   "outputs": [
    {
     "name": "stdout",
     "output_type": "stream",
     "text": [
      "{'estimator__C': 297.63514416313194, 'estimator__gamma': 0.002976351441631316}\n",
      "0.6219512195121951\n",
      "accuracy\n"
     ]
    },
    {
     "data": {
      "text/html": [
       "\n",
       "                <audio controls=\"controls\" autoplay=\"autoplay\">\n",
       "                    <source src=\"./data/Glass.wav\" type=\"audio/x-wav\" />\n",
       "                    Your browser does not support the audio element.\n",
       "                </audio>\n",
       "              "
      ],
      "text/plain": [
       "<IPython.lib.display.Audio object>"
      ]
     },
     "execution_count": 378,
     "metadata": {},
     "output_type": "execute_result"
    }
   ],
   "source": [
    "# SVR-RBF with all features, normalized\n",
    "    # ENM weight fractions\n",
    "    # Accuracy\n",
    "\n",
    "from sklearn.pipeline import Pipeline\n",
    "from sklearn.model_selection import GridSearchCV\n",
    "from sklearn.preprocessing import MinMaxScaler\n",
    "from sklearn.svm import SVC\n",
    "\n",
    "# Pipeline\n",
    "estimator = SVC(kernel='rbf',class_weight='balanced')\n",
    "prepipe = Pipeline([\n",
    "    ('scale', MinMaxScaler()),\n",
    "    ('estimator', estimator)\n",
    "])\n",
    "\n",
    "# Set parameter ranges for gridsearch\n",
    "cv=10\n",
    "n_jobs=3\n",
    "c_set=np.logspace(1,3,20)\n",
    "gamma_set=np.logspace(-6,0,20)\n",
    "\n",
    "# Gridsearch\n",
    "param_grid={'estimator__C': c_set,\n",
    "            'estimator__gamma': gamma_set\n",
    "           }\n",
    "grid_search=GridSearchCV(prepipe,param_grid,cv=cv,scoring='accuracy', n_jobs=n_jobs, pre_dispatch=2*n_jobs)\n",
    "grid_search.fit(X_enm+0.00001,bin_enm)\n",
    "print(grid_search.best_params_)\n",
    "print(grid_search.best_score_)\n",
    "print(grid_search.scoring)\n",
    "\n",
    "# Play sound when done running\n",
    "Audio(url=sound_file, autoplay=True)"
   ]
  },
  {
   "cell_type": "code",
   "execution_count": 379,
   "metadata": {
    "ExecuteTime": {
     "end_time": "2018-12-17T02:43:13.167486Z",
     "start_time": "2018-12-17T02:43:13.160774Z"
    },
    "collapsed": true
   },
   "outputs": [],
   "source": [
    "# Final pipeline\n",
    "bestpipe = Pipeline([\n",
    "    ('scale', MinMaxScaler()),\n",
    "    ('estimator', SVC(kernel='rbf',class_weight='balanced', \n",
    "                      C=297.63514416313194, \n",
    "                      gamma=0.002976351441631316))\n",
    "     ])"
   ]
  },
  {
   "cell_type": "code",
   "execution_count": 380,
   "metadata": {
    "ExecuteTime": {
     "end_time": "2018-12-17T02:43:22.158087Z",
     "start_time": "2018-12-17T02:43:22.113563Z"
    },
    "collapsed": true
   },
   "outputs": [],
   "source": [
    "# Make a confusion matrix function to summarize accuracy across labels\n",
    "from sklearn.metrics import confusion_matrix\n",
    "import itertools\n",
    "\n",
    "def plot_confusion_matrix(cm, classes,\n",
    "                          normalize=False,\n",
    "                          title='Confusion matrix',\n",
    "                          cmap=plt.cm.Blues):\n",
    "    \"\"\"\n",
    "    This function prints and plots the confusion matrix.\n",
    "    Normalization can be applied by setting `normalize=True`.\n",
    "    \"\"\"\n",
    "    if normalize:\n",
    "        cm = cm.astype('float') / cm.sum(axis=1)[:, np.newaxis]\n",
    "        print(\"Normalized confusion matrix\")\n",
    "    else:\n",
    "        print('Confusion matrix, without normalization')\n",
    "\n",
    "    print(cm)\n",
    "\n",
    "    plt.imshow(cm, interpolation='nearest', cmap=cmap)\n",
    "    plt.title(title)\n",
    "    plt.colorbar()\n",
    "    tick_marks = np.arange(len(classes))\n",
    "    plt.xticks(tick_marks, classes, rotation=45)\n",
    "    plt.yticks(tick_marks, classes)\n",
    "\n",
    "    fmt = '.2f' if normalize else 'd'\n",
    "    thresh = cm.max() / 2.\n",
    "    for i, j in itertools.product(range(cm.shape[0]), range(cm.shape[1])):\n",
    "        plt.text(j, i, format(cm[i, j], fmt),\n",
    "                 horizontalalignment=\"center\",\n",
    "                 color=\"white\" if cm[i, j] > thresh else \"black\")\n",
    "    plt.tight_layout()\n",
    "    plt.ylabel('True label')\n",
    "    plt.xlabel('Predicted label')"
   ]
  },
  {
   "cell_type": "code",
   "execution_count": 386,
   "metadata": {
    "ExecuteTime": {
     "end_time": "2018-12-17T03:05:11.159334Z",
     "start_time": "2018-12-17T03:05:10.675561Z"
    }
   },
   "outputs": [
    {
     "name": "stdout",
     "output_type": "stream",
     "text": [
      "Confusion matrix, without normalization\n",
      "[[30  3  3]\n",
      " [10 15  4]\n",
      " [ 4  2 11]]\n",
      "Normalized confusion matrix\n",
      "[[0.83 0.08 0.08]\n",
      " [0.34 0.52 0.14]\n",
      " [0.24 0.12 0.65]]\n"
     ]
    },
    {
     "data": {
      "image/png": "[encoded data removed]",
      "text/plain": [
       "<Figure size 432x288 with 2 Axes>"
      ]
     },
     "metadata": {},
     "output_type": "display_data"
    },
    {
     "data": {
      "image/png": "[encoded data removed]",
      "text/plain": [
       "<Figure size 432x288 with 2 Axes>"
      ]
     },
     "metadata": {},
     "output_type": "display_data"
    }
   ],
   "source": [
    "# Cross-validation for confusion matrix\n",
    "from sklearn import model_selection\n",
    "\n",
    "X=np.array(X_enm)\n",
    "y=np.array(bin_enm)\n",
    "\n",
    "kfold = model_selection.StratifiedKFold(n_splits=17,shuffle=True, random_state=24)\n",
    "cnf_matrix2=np.zeros([3,3])\n",
    "\n",
    "for train_index,test_index in kfold.split(X,y):\n",
    "    X_train, X_test = X[train_index], X[test_index]\n",
    "    y_train, y_test = y[train_index], y[test_index]\n",
    "    bestpipe.fit(X_train,y_train)\n",
    "    y_enm_predict=bestpipe.predict(X_test)\n",
    "    y[test_index]=y_enm_predict\n",
    "    cnf_matrix2+= confusion_matrix(y_test, y_enm_predict);\n",
    "    \n",
    "# Set confusion matrix\n",
    "cnf_matrix=cnf_matrix2.astype(np.int)\n",
    "cnf_matrix = confusion_matrix(bin_enm, y)\n",
    "\n",
    "np.set_printoptions(precision=2)\n",
    "class_names=[\"low\",\"mid\",\"high\"]\n",
    "\n",
    "# Plot non-normalized confusion matrix\n",
    "fig = plt.figure()\n",
    "plot_confusion_matrix(cnf_matrix, classes=class_names,\n",
    "                      title='Confusion matrix, without normalization')\n",
    "fig.savefig('./BLTfigs/confusion_notnorm_enm_only.png')\n",
    "\n",
    "# Plot normalized confusion matrix\n",
    "fig = plt.figure()\n",
    "plot_confusion_matrix(cnf_matrix, classes=class_names, normalize=True,\n",
    "                      title='Normalized confusion matrix')\n",
    "fig.savefig('./BLTfigs/confusion_norm_enm_only.png')\n",
    "plt.show()"
   ]
  },
  {
   "cell_type": "markdown",
   "metadata": {
    "collapsed": true
   },
   "source": [
    "## 100% organics"
   ]
  },
  {
   "cell_type": "code",
   "execution_count": 84,
   "metadata": {
    "ExecuteTime": {
     "end_time": "2018-12-14T11:30:39.209058Z",
     "start_time": "2018-12-14T09:31:06.361131Z"
    }
   },
   "outputs": [
    {
     "name": "stdout",
     "output_type": "stream",
     "text": [
      "{'estimator__C': 6.309573444801933, 'estimator__gamma': 1e-05}\n",
      "0.49202969092236554\n"
     ]
    },
    {
     "data": {
      "text/html": [
       "\n",
       "                <audio controls=\"controls\" autoplay=\"autoplay\">\n",
       "                    <source src=\"./data/Glass.wav\" type=\"audio/x-wav\" />\n",
       "                    Your browser does not support the audio element.\n",
       "                </audio>\n",
       "              "
      ],
      "text/plain": [
       "<IPython.lib.display.Audio object>"
      ]
     },
     "execution_count": 84,
     "metadata": {},
     "output_type": "execute_result"
    }
   ],
   "source": [
    "# TODO: Rerun with gamma_set=np.logspace(-6,0,6)\n",
    "# SVC-RBF with all features, normalized\n",
    "    # ENM weight fractions\n",
    "    # Accuracy\n",
    "\n",
    "from sklearn.pipeline import Pipeline\n",
    "from sklearn.model_selection import GridSearchCV\n",
    "from sklearn.svm import SVC\n",
    "\n",
    "# Pipeline\n",
    "estimator = SVC(kernel='rbf',class_weight='balanced')\n",
    "prepipe = Pipeline([\n",
    "    ('scale', MinMaxScaler()),\n",
    "    ('estimator', estimator)\n",
    "])\n",
    "\n",
    "# Set parameter ranges for gridsearch\n",
    "cv=10\n",
    "n_jobs=3\n",
    "c_set=np.logspace(0,4,6)\n",
    "gamma_set=np.logspace(-5,0,6)\n",
    "\n",
    "# Gridsearch\n",
    "param_grid={'estimator__C': c_set,\n",
    "            'estimator__gamma': gamma_set\n",
    "           }\n",
    "grid_search=GridSearchCV(prepipe,param_grid,cv=cv,scoring='accuracy', n_jobs=n_jobs, pre_dispatch=2*n_jobs)\n",
    "grid_search.fit(X_all+0.00001,bin_all)\n",
    "print(grid_search.best_params_)\n",
    "print(grid_search.best_score_)\n",
    "\n",
    "# Play sound when done running\n",
    "Audio(url=sound_file, autoplay=True)"
   ]
  },
  {
   "cell_type": "code",
   "execution_count": 160,
   "metadata": {
    "ExecuteTime": {
     "end_time": "2018-12-14T20:35:52.286024Z",
     "start_time": "2018-12-14T20:35:19.671922Z"
    }
   },
   "outputs": [
    {
     "data": {
      "text/plain": [
       "Pipeline(memory=None,\n",
       "     steps=[('scale', MinMaxScaler(copy=True, feature_range=(0, 1))), ('estimator', SVC(C=6.309573444801933, cache_size=200, class_weight='balanced', coef0=0.0,\n",
       "  decision_function_shape='ovr', degree=3, gamma=1e-05, kernel='rbf',\n",
       "  max_iter=-1, probability=False, random_state=None, shrinking=True,\n",
       "  tol=0.001, verbose=False))])"
      ]
     },
     "execution_count": 160,
     "metadata": {},
     "output_type": "execute_result"
    }
   ],
   "source": [
    "# Final pipeline\n",
    "bestpipe = Pipeline([\n",
    "    ('scale', MinMaxScaler()),\n",
    "    ('estimator', SVC(kernel='rbf',class_weight='balanced', \n",
    "                      C=6.309573444801933, \n",
    "                      gamma=1e-05))\n",
    "     ])\n",
    "bestpipe.fit(X_all,bin_all)"
   ]
  },
  {
   "cell_type": "code",
   "execution_count": 161,
   "metadata": {
    "ExecuteTime": {
     "end_time": "2018-12-14T20:36:41.798948Z",
     "start_time": "2018-12-14T20:36:41.419290Z"
    }
   },
   "outputs": [
    {
     "name": "stdout",
     "output_type": "stream",
     "text": [
      "Confusion matrix, without normalization\n",
      "[[ 6 15 15]\n",
      " [ 5 11 13]\n",
      " [ 4  7  6]]\n",
      "Normalized confusion matrix\n",
      "[[0.17 0.42 0.42]\n",
      " [0.17 0.38 0.45]\n",
      " [0.24 0.41 0.35]]\n"
     ]
    },
    {
     "data": {
      "image/png": "[encoded data removed]",
      "text/plain": [
       "<Figure size 432x288 with 2 Axes>"
      ]
     },
     "metadata": {},
     "output_type": "display_data"
    },
    {
     "data": {
      "image/png": "[encoded data removed]",
      "text/plain": [
       "<Figure size 432x288 with 2 Axes>"
      ]
     },
     "metadata": {},
     "output_type": "display_data"
    }
   ],
   "source": [
    "# Cross-validation for confusion matrix\n",
    "from sklearn import model_selection\n",
    "\n",
    "X=np.array(X_enm)\n",
    "y=np.array(bin_enm)\n",
    "\n",
    "kfold = model_selection.StratifiedKFold(n_splits=17,shuffle=True, random_state=24)\n",
    "cnf_matrix2=np.zeros([3,3])\n",
    "\n",
    "for train_index,test_index in kfold.split(X,y):\n",
    "    X_train, X_test = X[train_index], X[test_index]\n",
    "    y_train, y_test = y[train_index], y[test_index]\n",
    "    bestpipe.fit(X_train,y_train)\n",
    "    y_enm_predict=bestpipe.predict(X_test)\n",
    "    y[test_index]=y_enm_predict\n",
    "    cnf_matrix2+= confusion_matrix(y_test, y_enm_predict);\n",
    "    \n",
    "# Set confusion matrix\n",
    "cnf_matrix=cnf_matrix2.astype(np.int)\n",
    "cnf_matrix = confusion_matrix(bin_enm, y)\n",
    "\n",
    "np.set_printoptions(precision=2)\n",
    "class_names=[\"low\",\"mid\",\"high\"]\n",
    "\n",
    "# Plot non-normalized confusion matrix\n",
    "fig = plt.figure()\n",
    "plot_confusion_matrix(cnf_matrix, classes=class_names,\n",
    "                      title='Confusion matrix, without normalization')\n",
    "fig.savefig('./BLTfigs/confusion_notnorm_mix_100.png')\n",
    "\n",
    "# Plot normalized confusion matrix\n",
    "fig = plt.figure()\n",
    "plot_confusion_matrix(cnf_matrix, classes=class_names, normalize=True,\n",
    "                      title='Normalized confusion matrix')\n",
    "fig.savefig('./BLTfigs/confusion_norm_mix_100.png')\n",
    "plt.show()"
   ]
  },
  {
   "cell_type": "markdown",
   "metadata": {},
   "source": [
    "## 10% organics with source bins = ENM bins"
   ]
  },
  {
   "cell_type": "markdown",
   "metadata": {},
   "source": [
    "Ran with a slightly larger parameter grid for optimizing."
   ]
  },
  {
   "cell_type": "code",
   "execution_count": 363,
   "metadata": {
    "ExecuteTime": {
     "end_time": "2018-12-17T00:43:47.959797Z",
     "start_time": "2018-12-17T00:38:37.578364Z"
    }
   },
   "outputs": [
    {
     "name": "stdout",
     "output_type": "stream",
     "text": [
      "{'estimator__C': 10000.0, 'estimator__gamma': 0.39810717055349776}\n",
      "0.6948165404775771\n"
     ]
    },
    {
     "data": {
      "text/html": [
       "\n",
       "                <audio controls=\"controls\" autoplay=\"autoplay\">\n",
       "                    <source src=\"./data/Glass.wav\" type=\"audio/x-wav\" />\n",
       "                    Your browser does not support the audio element.\n",
       "                </audio>\n",
       "              "
      ],
      "text/plain": [
       "<IPython.lib.display.Audio object>"
      ]
     },
     "execution_count": 363,
     "metadata": {},
     "output_type": "execute_result"
    }
   ],
   "source": [
    "# SVC-RBF with all features, normalized\n",
    "    # ENM weight fractions\n",
    "    # Accuracy\n",
    "\n",
    "from sklearn.pipeline import Pipeline\n",
    "from sklearn.model_selection import GridSearchCV\n",
    "from sklearn.svm import SVC\n",
    "\n",
    "# Pipeline\n",
    "estimator = SVC(kernel='rbf',class_weight='balanced')\n",
    "prepipe = Pipeline([\n",
    "    ('scale', MinMaxScaler()),\n",
    "    ('estimator', estimator)\n",
    "])\n",
    "\n",
    "# Set parameter ranges for gridsearch\n",
    "cv=10\n",
    "n_jobs=3\n",
    "c_set=np.logspace(0,4,16)\n",
    "gamma_set=np.logspace(-6,0,16)\n",
    "\n",
    "# Gridsearch\n",
    "param_grid={'estimator__C': c_set,\n",
    "            'estimator__gamma': gamma_set\n",
    "           }\n",
    "grid_search=GridSearchCV(prepipe,param_grid,cv=cv,scoring='accuracy', n_jobs=n_jobs, pre_dispatch=2*n_jobs)\n",
    "grid_search.fit(X_ten+0.00001,bin_ten)\n",
    "print(grid_search.best_params_)\n",
    "print(grid_search.best_score_)\n",
    "\n",
    "# Play sound when done running\n",
    "Audio(url=sound_file, autoplay=True)"
   ]
  },
  {
   "cell_type": "code",
   "execution_count": 364,
   "metadata": {
    "ExecuteTime": {
     "end_time": "2018-12-17T02:25:08.530000Z",
     "start_time": "2018-12-17T02:25:08.259555Z"
    }
   },
   "outputs": [
    {
     "data": {
      "text/plain": [
       "Pipeline(memory=None,\n",
       "     steps=[('scale', MinMaxScaler(copy=True, feature_range=(0, 1))), ('estimator', SVC(C=4328.7612810830615, cache_size=200, class_weight='balanced', coef0=0.0,\n",
       "  decision_function_shape='ovr', degree=3, gamma=1.0, kernel='rbf',\n",
       "  max_iter=-1, probability=False, random_state=None, shrinking=True,\n",
       "  tol=0.001, verbose=False))])"
      ]
     },
     "execution_count": 364,
     "metadata": {},
     "output_type": "execute_result"
    }
   ],
   "source": [
    "# Final pipeline\n",
    "bestpipe = Pipeline([\n",
    "    ('scale', MinMaxScaler()),\n",
    "    ('estimator', SVC(kernel='rbf',class_weight='balanced', \n",
    "                      C=4328.7612810830615, \n",
    "                      gamma=1.0))\n",
    "     ])\n",
    "bestpipe.fit(X_ten,bin_ten)"
   ]
  },
  {
   "cell_type": "code",
   "execution_count": 365,
   "metadata": {
    "ExecuteTime": {
     "end_time": "2018-12-17T02:25:16.669867Z",
     "start_time": "2018-12-17T02:25:16.223468Z"
    }
   },
   "outputs": [
    {
     "name": "stdout",
     "output_type": "stream",
     "text": [
      "Confusion matrix, without normalization\n",
      "[[22 11  3]\n",
      " [ 7 19  3]\n",
      " [10  3  4]]\n",
      "Normalized confusion matrix\n",
      "[[0.61 0.31 0.08]\n",
      " [0.24 0.66 0.1 ]\n",
      " [0.59 0.18 0.24]]\n"
     ]
    },
    {
     "data": {
      "image/png": "[encoded data removed]",
      "text/plain": [
       "<Figure size 432x288 with 2 Axes>"
      ]
     },
     "metadata": {},
     "output_type": "display_data"
    },
    {
     "data": {
      "image/png": "[encoded data removed]",
      "text/plain": [
       "<Figure size 432x288 with 2 Axes>"
      ]
     },
     "metadata": {},
     "output_type": "display_data"
    }
   ],
   "source": [
    "# Cross-validation for confusion matrix\n",
    "from sklearn import model_selection\n",
    "\n",
    "X=np.array(X_enm)\n",
    "y=np.array(bin_enm)\n",
    "\n",
    "kfold = model_selection.StratifiedKFold(n_splits=17,shuffle=True, random_state=24)\n",
    "cnf_matrix2=np.zeros([3,3])\n",
    "\n",
    "for train_index,test_index in kfold.split(X,y):\n",
    "    X_train, X_test = X[train_index], X[test_index]\n",
    "    y_train, y_test = y[train_index], y[test_index]\n",
    "    bestpipe.fit(X_train,y_train)\n",
    "    y_enm_predict=bestpipe.predict(X_test)\n",
    "    y[test_index]=y_enm_predict\n",
    "    cnf_matrix2+= confusion_matrix(y_test, y_enm_predict);\n",
    "    \n",
    "# Set confusion matrix\n",
    "cnf_matrix=cnf_matrix2.astype(np.int)\n",
    "cnf_matrix = confusion_matrix(bin_enm, y)\n",
    "\n",
    "np.set_printoptions(precision=2)\n",
    "class_names=[\"low\",\"mid\",\"high\"]\n",
    "\n",
    "# Plot non-normalized confusion matrix\n",
    "plt.figure()\n",
    "plot_confusion_matrix(cnf_matrix, classes=class_names,\n",
    "                      title='Confusion matrix, without normalization')\n",
    "\n",
    "# Plot normalized confusion matrix\n",
    "plt.figure()\n",
    "plot_confusion_matrix(cnf_matrix, classes=class_names, normalize=True,\n",
    "                      title='Normalized confusion matrix')\n",
    "plt.show()"
   ]
  },
  {
   "cell_type": "markdown",
   "metadata": {},
   "source": [
    "## 10% organics with custom WF bins"
   ]
  },
  {
   "cell_type": "code",
   "execution_count": 373,
   "metadata": {
    "ExecuteTime": {
     "end_time": "2018-12-17T02:33:01.532749Z",
     "start_time": "2018-12-17T02:27:43.456389Z"
    }
   },
   "outputs": [
    {
     "name": "stdout",
     "output_type": "stream",
     "text": [
      "{'estimator__C': 857.6958985908938, 'estimator__gamma': 1.0}\n",
      "0.6557949912638322\n"
     ]
    },
    {
     "data": {
      "text/html": [
       "\n",
       "                <audio controls=\"controls\" autoplay=\"autoplay\">\n",
       "                    <source src=\"./data/Glass.wav\" type=\"audio/x-wav\" />\n",
       "                    Your browser does not support the audio element.\n",
       "                </audio>\n",
       "              "
      ],
      "text/plain": [
       "<IPython.lib.display.Audio object>"
      ]
     },
     "execution_count": 373,
     "metadata": {},
     "output_type": "execute_result"
    }
   ],
   "source": [
    "# SVC-RBF with all features, normalized\n",
    "    # ENM weight fractions\n",
    "    # Accuracy\n",
    "\n",
    "from sklearn.pipeline import Pipeline\n",
    "from sklearn.model_selection import GridSearchCV\n",
    "from sklearn.svm import SVC\n",
    "\n",
    "# Pipeline\n",
    "estimator = SVC(kernel='rbf',class_weight='balanced')\n",
    "prepipe = Pipeline([\n",
    "    ('scale', MinMaxScaler()),\n",
    "    ('estimator', estimator)\n",
    "])\n",
    "\n",
    "# Set parameter ranges for gridsearch\n",
    "cv=10\n",
    "n_jobs=3\n",
    "c_set=np.logspace(0,4,16)\n",
    "gamma_set=np.logspace(-6,0,16)\n",
    "\n",
    "# Gridsearch\n",
    "param_grid={'estimator__C': c_set,\n",
    "            'estimator__gamma': gamma_set\n",
    "           }\n",
    "grid_search=GridSearchCV(prepipe,param_grid,cv=cv,scoring='accuracy', n_jobs=n_jobs, pre_dispatch=2*n_jobs)\n",
    "grid_search.fit(X_ten+0.00001,bin_ten)\n",
    "print(grid_search.best_params_)\n",
    "print(grid_search.best_score_)\n",
    "\n",
    "# Play sound when done running\n",
    "Audio(url=sound_file, autoplay=True)"
   ]
  },
  {
   "cell_type": "code",
   "execution_count": 376,
   "metadata": {
    "ExecuteTime": {
     "end_time": "2018-12-17T02:39:32.901766Z",
     "start_time": "2018-12-17T02:39:32.700989Z"
    }
   },
   "outputs": [
    {
     "data": {
      "text/plain": [
       "Pipeline(memory=None,\n",
       "     steps=[('scale', MinMaxScaler(copy=True, feature_range=(0, 1))), ('estimator', SVC(C=857.6958985908938, cache_size=200, class_weight='balanced', coef0=0.0,\n",
       "  decision_function_shape='ovr', degree=3, gamma=1.0, kernel='rbf',\n",
       "  max_iter=-1, probability=False, random_state=None, shrinking=True,\n",
       "  tol=0.001, verbose=False))])"
      ]
     },
     "execution_count": 376,
     "metadata": {},
     "output_type": "execute_result"
    }
   ],
   "source": [
    "# Final pipeline\n",
    "bestpipe = Pipeline([\n",
    "    ('scale', MinMaxScaler()),\n",
    "    ('estimator', SVC(kernel='rbf',class_weight='balanced', \n",
    "                      C=857.6958985908938, \n",
    "                      gamma=1.0))\n",
    "     ])\n",
    "bestpipe.fit(X_ten,bin_ten)"
   ]
  },
  {
   "cell_type": "code",
   "execution_count": 377,
   "metadata": {
    "ExecuteTime": {
     "end_time": "2018-12-17T02:39:36.201107Z",
     "start_time": "2018-12-17T02:39:35.804801Z"
    }
   },
   "outputs": [
    {
     "name": "stdout",
     "output_type": "stream",
     "text": [
      "Confusion matrix, without normalization\n",
      "[[22 11  3]\n",
      " [ 7 19  3]\n",
      " [10  3  4]]\n",
      "Normalized confusion matrix\n",
      "[[0.61 0.31 0.08]\n",
      " [0.24 0.66 0.1 ]\n",
      " [0.59 0.18 0.24]]\n"
     ]
    },
    {
     "data": {
      "image/png": "[encoded data removed]",
      "text/plain": [
       "<Figure size 432x288 with 2 Axes>"
      ]
     },
     "metadata": {},
     "output_type": "display_data"
    },
    {
     "data": {
      "image/png": "[encoded data removed]",
      "text/plain": [
       "<Figure size 432x288 with 2 Axes>"
      ]
     },
     "metadata": {},
     "output_type": "display_data"
    }
   ],
   "source": [
    "# Cross-validation for confusion matrix\n",
    "from sklearn import model_selection\n",
    "\n",
    "X=np.array(X_enm)\n",
    "y=np.array(bin_enm)\n",
    "\n",
    "kfold = model_selection.StratifiedKFold(n_splits=17,shuffle=True, random_state=24)\n",
    "cnf_matrix2=np.zeros([3,3])\n",
    "\n",
    "for train_index,test_index in kfold.split(X,y):\n",
    "    X_train, X_test = X[train_index], X[test_index]\n",
    "    y_train, y_test = y[train_index], y[test_index]\n",
    "    bestpipe.fit(X_train,y_train)\n",
    "    y_enm_predict=bestpipe.predict(X_test)\n",
    "    y[test_index]=y_enm_predict\n",
    "    cnf_matrix2+= confusion_matrix(y_test, y_enm_predict);\n",
    "    \n",
    "# Set confusion matrix\n",
    "cnf_matrix=cnf_matrix2.astype(np.int)\n",
    "cnf_matrix = confusion_matrix(bin_enm, y)\n",
    "\n",
    "np.set_printoptions(precision=2)\n",
    "class_names=[\"low\",\"mid\",\"high\"]\n",
    "\n",
    "# Plot non-normalized confusion matrix\n",
    "plt.figure()\n",
    "plot_confusion_matrix(cnf_matrix, classes=class_names,\n",
    "                      title='Confusion matrix, without normalization')\n",
    "\n",
    "# Plot normalized confusion matrix\n",
    "plt.figure()\n",
    "plot_confusion_matrix(cnf_matrix, classes=class_names, normalize=True,\n",
    "                      title='Normalized confusion matrix')\n",
    "plt.show()"
   ]
  },
  {
   "cell_type": "markdown",
   "metadata": {},
   "source": [
    "## 2% organics"
   ]
  },
  {
   "cell_type": "code",
   "execution_count": 387,
   "metadata": {
    "ExecuteTime": {
     "end_time": "2018-12-17T06:43:53.784577Z",
     "start_time": "2018-12-17T06:43:29.940398Z"
    }
   },
   "outputs": [
    {
     "name": "stdout",
     "output_type": "stream",
     "text": [
      "{'estimator__C': 1584.893192461114, 'estimator__gamma': 0.003981071705534973}\n",
      "0.551219512195122\n"
     ]
    },
    {
     "data": {
      "text/html": [
       "\n",
       "                <audio controls=\"controls\" autoplay=\"autoplay\">\n",
       "                    <source src=\"./data/Glass.wav\" type=\"audio/x-wav\" />\n",
       "                    Your browser does not support the audio element.\n",
       "                </audio>\n",
       "              "
      ],
      "text/plain": [
       "<IPython.lib.display.Audio object>"
      ]
     },
     "execution_count": 387,
     "metadata": {},
     "output_type": "execute_result"
    }
   ],
   "source": [
    "# SVC-RBF with all features, normalized\n",
    "    # ENM weight fractions\n",
    "    # Accuracy\n",
    "\n",
    "from sklearn.pipeline import Pipeline\n",
    "from sklearn.model_selection import GridSearchCV\n",
    "from sklearn.svm import SVC\n",
    "\n",
    "# Pipeline\n",
    "estimator = SVC(kernel='rbf',class_weight='balanced')\n",
    "prepipe = Pipeline([\n",
    "    ('scale', MinMaxScaler()),\n",
    "    ('estimator', estimator)\n",
    "])\n",
    "\n",
    "# Set parameter ranges for gridsearch\n",
    "cv=10\n",
    "n_jobs=3\n",
    "c_set=np.logspace(0,4,16)\n",
    "gamma_set=np.logspace(-6,0,16)\n",
    "\n",
    "# Gridsearch\n",
    "param_grid={'estimator__C': c_set,\n",
    "            'estimator__gamma': gamma_set\n",
    "           }\n",
    "grid_search=GridSearchCV(prepipe,param_grid,cv=cv,scoring='accuracy', n_jobs=n_jobs, pre_dispatch=2*n_jobs)\n",
    "grid_search.fit(X_two+0.00001,bin_two)\n",
    "print(grid_search.best_params_)\n",
    "print(grid_search.best_score_)\n",
    "\n",
    "# Play sound when done running\n",
    "Audio(url=sound_file, autoplay=True)"
   ]
  },
  {
   "cell_type": "code",
   "execution_count": 388,
   "metadata": {
    "ExecuteTime": {
     "end_time": "2018-12-17T18:54:53.665503Z",
     "start_time": "2018-12-17T18:54:53.583487Z"
    }
   },
   "outputs": [
    {
     "data": {
      "text/plain": [
       "Pipeline(memory=None,\n",
       "     steps=[('scale', MinMaxScaler(copy=True, feature_range=(0, 1))), ('estimator', SVC(C=1584.893192461114, cache_size=200, class_weight='balanced', coef0=0.0,\n",
       "  decision_function_shape='ovr', degree=3, gamma=0.003981071705534973,\n",
       "  kernel='rbf', max_iter=-1, probability=False, random_state=None,\n",
       "  shrinking=True, tol=0.001, verbose=False))])"
      ]
     },
     "execution_count": 388,
     "metadata": {},
     "output_type": "execute_result"
    }
   ],
   "source": [
    "# Final pipeline\n",
    "bestpipe = Pipeline([\n",
    "    ('scale', MinMaxScaler()),\n",
    "    ('estimator', SVC(kernel='rbf',class_weight='balanced', \n",
    "                      C=1584.893192461114, \n",
    "                      gamma=0.003981071705534973))\n",
    "     ])\n",
    "bestpipe.fit(X_two,bin_two)"
   ]
  },
  {
   "cell_type": "code",
   "execution_count": 389,
   "metadata": {
    "ExecuteTime": {
     "end_time": "2018-12-17T18:54:57.013420Z",
     "start_time": "2018-12-17T18:54:56.542494Z"
    }
   },
   "outputs": [
    {
     "name": "stdout",
     "output_type": "stream",
     "text": [
      "Confusion matrix, without normalization\n",
      "[[24  6  6]\n",
      " [ 7 18  4]\n",
      " [ 3  3 11]]\n",
      "Normalized confusion matrix\n",
      "[[0.67 0.17 0.17]\n",
      " [0.24 0.62 0.14]\n",
      " [0.18 0.18 0.65]]\n"
     ]
    },
    {
     "data": {
      "image/png": "[encoded data removed]",
      "text/plain": [
       "<Figure size 432x288 with 2 Axes>"
      ]
     },
     "metadata": {},
     "output_type": "display_data"
    },
    {
     "data": {
      "image/png": "[encoded data removed]",
      "text/plain": [
       "<Figure size 432x288 with 2 Axes>"
      ]
     },
     "metadata": {},
     "output_type": "display_data"
    }
   ],
   "source": [
    "# Cross-validation for confusion matrix\n",
    "from sklearn import model_selection\n",
    "\n",
    "X=np.array(X_enm)\n",
    "y=np.array(bin_enm)\n",
    "\n",
    "kfold = model_selection.StratifiedKFold(n_splits=17,shuffle=True, random_state=24)\n",
    "cnf_matrix2=np.zeros([3,3])\n",
    "\n",
    "for train_index,test_index in kfold.split(X,y):\n",
    "    X_train, X_test = X[train_index], X[test_index]\n",
    "    y_train, y_test = y[train_index], y[test_index]\n",
    "    bestpipe.fit(X_train,y_train)\n",
    "    y_enm_predict=bestpipe.predict(X_test)\n",
    "    y[test_index]=y_enm_predict\n",
    "    cnf_matrix2+= confusion_matrix(y_test, y_enm_predict);\n",
    "    \n",
    "# Set confusion matrix\n",
    "cnf_matrix=cnf_matrix2.astype(np.int)\n",
    "cnf_matrix = confusion_matrix(bin_enm, y)\n",
    "\n",
    "np.set_printoptions(precision=2)\n",
    "class_names=[\"low\",\"mid\",\"high\"]\n",
    "\n",
    "# Plot non-normalized confusion matrix\n",
    "plt.figure()\n",
    "plot_confusion_matrix(cnf_matrix, classes=class_names,\n",
    "                      title='Confusion matrix, without normalization')\n",
    "\n",
    "# Plot normalized confusion matrix\n",
    "plt.figure()\n",
    "plot_confusion_matrix(cnf_matrix, classes=class_names, normalize=True,\n",
    "                      title='Normalized confusion matrix')\n",
    "plt.show()"
   ]
  },
  {
   "cell_type": "markdown",
   "metadata": {},
   "source": [
    "## 1% matching organics"
   ]
  },
  {
   "cell_type": "code",
   "execution_count": null,
   "metadata": {
    "collapsed": true
   },
   "outputs": [],
   "source": [
    "# SVC-RBF with all features, normalized\n",
    "    # ENM weight fractions\n",
    "    # Accuracy\n",
    "\n",
    "from sklearn.pipeline import Pipeline\n",
    "from sklearn.model_selection import GridSearchCV\n",
    "from sklearn.svm import SVC\n",
    "\n",
    "# Pipeline\n",
    "estimator = SVC(kernel='rbf',class_weight='balanced')\n",
    "prepipe = Pipeline([\n",
    "    ('scale', MinMaxScaler()),\n",
    "    ('estimator', estimator)\n",
    "])\n",
    "\n",
    "# Set parameter ranges for gridsearch\n",
    "cv=10\n",
    "n_jobs=3\n",
    "c_set=np.logspace(0,4,16)\n",
    "gamma_set=np.logspace(-6,0,16)\n",
    "\n",
    "# Gridsearch\n",
    "param_grid={'estimator__C': c_set,\n",
    "            'estimator__gamma': gamma_set\n",
    "           }\n",
    "grid_search=GridSearchCV(prepipe,param_grid,cv=cv,scoring='accuracy', n_jobs=n_jobs, pre_dispatch=2*n_jobs)\n",
    "grid_search.fit(X_match+0.00001,bin_match)\n",
    "print(grid_search.best_params_)\n",
    "print(grid_search.best_score_)\n",
    "\n",
    "# Play sound when done running\n",
    "Audio(url=sound_file, autoplay=True)"
   ]
  },
  {
   "cell_type": "code",
   "execution_count": null,
   "metadata": {
    "collapsed": true
   },
   "outputs": [],
   "source": [
    "# Final pipeline\n",
    "bestpipe = Pipeline([\n",
    "    ('scale', MinMaxScaler()),\n",
    "    ('estimator', SVC(kernel='rbf',class_weight='balanced', \n",
    "                      C=6.309573444801933, \n",
    "                      gamma=1e-05))\n",
    "     ])\n",
    "bestpipe.fit(X_match,bin_match)"
   ]
  },
  {
   "cell_type": "code",
   "execution_count": null,
   "metadata": {
    "collapsed": true
   },
   "outputs": [],
   "source": [
    "# Cross-validation for confusion matrix\n",
    "from sklearn import model_selection\n",
    "\n",
    "X=np.array(X_match)\n",
    "y=np.array(bin_match)\n",
    "\n",
    "kfold = model_selection.StratifiedKFold(n_splits=17,shuffle=True, random_state=24)\n",
    "cnf_matrix2=np.zeros([3,3])\n",
    "\n",
    "for train_index,test_index in kfold.split(X,y):\n",
    "    X_train, X_test = X[train_index], X[test_index]\n",
    "    y_train, y_test = y[train_index], y[test_index]\n",
    "    bestpipe.fit(X_train,y_train)\n",
    "    y_enm_predict=bestpipe.predict(X_test)\n",
    "    y[test_index]=y_enm_predict\n",
    "    cnf_matrix2+= confusion_matrix(y_test, y_enm_predict);\n",
    "    \n",
    "# Set confusion matrix\n",
    "cnf_matrix=cnf_matrix2.astype(np.int)\n",
    "cnf_matrix = confusion_matrix(bin_enm, y)\n",
    "\n",
    "np.set_printoptions(precision=2)\n",
    "class_names=[\"low\",\"mid\",\"high\"]\n",
    "\n",
    "# Plot non-normalized confusion matrix\n",
    "plt.figure()\n",
    "plot_confusion_matrix(cnf_matrix, classes=class_names,\n",
    "                      title='Confusion matrix, without normalization')\n",
    "\n",
    "# Plot normalized confusion matrix\n",
    "plt.figure()\n",
    "plot_confusion_matrix(cnf_matrix, classes=class_names, normalize=True,\n",
    "                      title='Normalized confusion matrix')\n",
    "plt.show()"
   ]
  }
 ],
 "metadata": {
  "kernelspec": {
   "display_name": "Python [default]",
   "language": "python",
   "name": "python3"
  },
  "language_info": {
   "codemirror_mode": {
    "name": "ipython",
    "version": 3
   },
   "file_extension": ".py",
   "mimetype": "text/x-python",
   "name": "python",
   "nbconvert_exporter": "python",
   "pygments_lexer": "ipython3",
   "version": "3.6.3"
  },
  "toc": {
   "base_numbering": 1,
   "nav_menu": {},
   "number_sections": true,
   "sideBar": true,
   "skip_h1_title": false,
   "title_cell": "Table of Contents",
   "title_sidebar": "Contents",
   "toc_cell": true,
   "toc_position": {
    "height": "calc(100% - 180px)",
    "left": "10px",
    "top": "150px",
    "width": "165px"
   },
   "toc_section_display": true,
   "toc_window_display": true
  }
 },
 "nbformat": 4,
 "nbformat_minor": 2
}
