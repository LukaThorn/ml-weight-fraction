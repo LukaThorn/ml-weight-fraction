{
 "cells": [
  {
   "cell_type": "markdown",
   "metadata": {
    "toc": true
   },
   "source": [
    "<h1>Table of Contents<span class=\"tocSkip\"></span></h1>\n",
    "<div class=\"toc\"><ul class=\"toc-item\"><li><span><a href=\"#Code-setup\" data-toc-modified-id=\"Code-setup-1\"><span class=\"toc-item-num\">1&nbsp;&nbsp;</span>Code setup</a></span></li><li><span><a href=\"#Data\" data-toc-modified-id=\"Data-2\"><span class=\"toc-item-num\">2&nbsp;&nbsp;</span>Data</a></span><ul class=\"toc-item\"><li><span><a href=\"#Read-in-data\" data-toc-modified-id=\"Read-in-data-2.1\"><span class=\"toc-item-num\">2.1&nbsp;&nbsp;</span>Read in data</a></span></li><li><span><a href=\"#Apply-WF-bins\" data-toc-modified-id=\"Apply-WF-bins-2.2\"><span class=\"toc-item-num\">2.2&nbsp;&nbsp;</span>Apply WF bins</a></span></li></ul></li><li><span><a href=\"#Model-setup\" data-toc-modified-id=\"Model-setup-3\"><span class=\"toc-item-num\">3&nbsp;&nbsp;</span>Model setup</a></span></li><li><span><a href=\"#SVC-RBF-Models\" data-toc-modified-id=\"SVC-RBF-Models-4\"><span class=\"toc-item-num\">4&nbsp;&nbsp;</span>SVC-RBF Models</a></span><ul class=\"toc-item\"><li><span><a href=\"#ENM-only\" data-toc-modified-id=\"ENM-only-4.1\"><span class=\"toc-item-num\">4.1&nbsp;&nbsp;</span>ENM-only</a></span><ul class=\"toc-item\"><li><span><a href=\"#Baseline-model\" data-toc-modified-id=\"Baseline-model-4.1.1\"><span class=\"toc-item-num\">4.1.1&nbsp;&nbsp;</span>Baseline model</a></span></li><li><span><a href=\"#Permutation-test\" data-toc-modified-id=\"Permutation-test-4.1.2\"><span class=\"toc-item-num\">4.1.2&nbsp;&nbsp;</span>Permutation test</a></span></li><li><span><a href=\"#Feature-comparison\" data-toc-modified-id=\"Feature-comparison-4.1.3\"><span class=\"toc-item-num\">4.1.3&nbsp;&nbsp;</span>Feature comparison</a></span></li></ul></li><li><span><a href=\"#Organics-only\" data-toc-modified-id=\"Organics-only-4.2\"><span class=\"toc-item-num\">4.2&nbsp;&nbsp;</span>Organics-only</a></span></li><li><span><a href=\"#Randomly-augmented-data\" data-toc-modified-id=\"Randomly-augmented-data-4.3\"><span class=\"toc-item-num\">4.3&nbsp;&nbsp;</span>Randomly augmented data</a></span></li><li><span><a href=\"#Matching-(unsupervised)-augmented-data\" data-toc-modified-id=\"Matching-(unsupervised)-augmented-data-4.4\"><span class=\"toc-item-num\">4.4&nbsp;&nbsp;</span>Matching (unsupervised) augmented data</a></span></li><li><span><a href=\"#Matching-(supervised)-augmented-data\" data-toc-modified-id=\"Matching-(supervised)-augmented-data-4.5\"><span class=\"toc-item-num\">4.5&nbsp;&nbsp;</span>Matching (supervised) augmented data</a></span></li></ul></li><li><span><a href=\"#Random-Forest-Models\" data-toc-modified-id=\"Random-Forest-Models-5\"><span class=\"toc-item-num\">5&nbsp;&nbsp;</span>Random Forest Models</a></span><ul class=\"toc-item\"><li><span><a href=\"#ENM-only\" data-toc-modified-id=\"ENM-only-5.1\"><span class=\"toc-item-num\">5.1&nbsp;&nbsp;</span>ENM-only</a></span><ul class=\"toc-item\"><li><span><a href=\"#Permutation-test\" data-toc-modified-id=\"Permutation-test-5.1.1\"><span class=\"toc-item-num\">5.1.1&nbsp;&nbsp;</span>Permutation test</a></span></li></ul></li><li><span><a href=\"#Randomly-augmented-data\" data-toc-modified-id=\"Randomly-augmented-data-5.2\"><span class=\"toc-item-num\">5.2&nbsp;&nbsp;</span>Randomly augmented data</a></span></li><li><span><a href=\"#Matching-(unsupervised)-augmented-data\" data-toc-modified-id=\"Matching-(unsupervised)-augmented-data-5.3\"><span class=\"toc-item-num\">5.3&nbsp;&nbsp;</span>Matching (unsupervised) augmented data</a></span></li><li><span><a href=\"#Matching-(supervised)-augmented-data\" data-toc-modified-id=\"Matching-(supervised)-augmented-data-5.4\"><span class=\"toc-item-num\">5.4&nbsp;&nbsp;</span>Matching (supervised) augmented data</a></span></li></ul></li><li><span><a href=\"#Performance-Results\" data-toc-modified-id=\"Performance-Results-6\"><span class=\"toc-item-num\">6&nbsp;&nbsp;</span>Performance Results</a></span><ul class=\"toc-item\"><li><span><a href=\"#SVC-RBF\" data-toc-modified-id=\"SVC-RBF-6.1\"><span class=\"toc-item-num\">6.1&nbsp;&nbsp;</span>SVC-RBF</a></span><ul class=\"toc-item\"><li><span><a href=\"#Permutation-test\" data-toc-modified-id=\"Permutation-test-6.1.1\"><span class=\"toc-item-num\">6.1.1&nbsp;&nbsp;</span>Permutation test</a></span></li></ul></li><li><span><a href=\"#RFC\" data-toc-modified-id=\"RFC-6.2\"><span class=\"toc-item-num\">6.2&nbsp;&nbsp;</span>RFC</a></span></li></ul></li></ul></div>"
   ]
  },
  {
   "cell_type": "markdown",
   "metadata": {},
   "source": [
    "# Code setup"
   ]
  },
  {
   "cell_type": "code",
   "execution_count": 39,
   "metadata": {
    "ExecuteTime": {
     "end_time": "2019-12-19T15:23:04.661845Z",
     "start_time": "2019-12-19T15:23:04.580619Z"
    }
   },
   "outputs": [],
   "source": [
    "# To support both python 2 and python 3\n",
    "from __future__ import division, print_function, unicode_literals\n",
    "\n",
    "# To suppress warning output\n",
    "import warnings\n",
    "warnings.filterwarnings('ignore')\n",
    "warnings.simplefilter('ignore')\n",
    "\n",
    "# Important imports\n",
    "import numpy as np\n",
    "from numpy import random\n",
    "import pandas as pd\n",
    "import os, sys\n",
    "\n",
    "# Set random seed across notebook for repeatable results\n",
    "np.random.seed(42)"
   ]
  },
  {
   "cell_type": "code",
   "execution_count": 40,
   "metadata": {
    "ExecuteTime": {
     "end_time": "2019-12-19T15:23:05.699886Z",
     "start_time": "2019-12-19T15:23:05.658779Z"
    }
   },
   "outputs": [],
   "source": [
    "# To plot nice figures\n",
    "%matplotlib inline\n",
    "import matplotlib\n",
    "import matplotlib.pyplot as plt\n",
    "import matplotlib.cm as cm\n",
    "import matplotlib.image as mpimg\n",
    "plt.rcParams['axes.titlesize'] = 'x-large' #16\n",
    "plt.rcParams['axes.labelsize'] = 'x-large'\n",
    "plt.rcParams['xtick.labelsize'] = 'x-large'\n",
    "plt.rcParams['ytick.labelsize'] = 'x-large'"
   ]
  },
  {
   "cell_type": "code",
   "execution_count": 41,
   "metadata": {
    "ExecuteTime": {
     "end_time": "2019-12-19T15:23:06.088742Z",
     "start_time": "2019-12-19T15:23:06.070654Z"
    }
   },
   "outputs": [
    {
     "name": "stdout",
     "output_type": "stream",
     "text": [
      "Figure directory exists.\n"
     ]
    }
   ],
   "source": [
    "# Where to save the figures\n",
    "PROJECT_ROOT_DIR = \".\"\n",
    "PROJECT_SAVE_DIR = \"figs\"\n",
    "\n",
    "if not (os.path.isdir(PROJECT_ROOT_DIR+'/'+PROJECT_SAVE_DIR)):\n",
    "    print('Figure directory did not exist, creating now.')\n",
    "    os.mkdir(PROJECT_ROOT_DIR+'/'+PROJECT_SAVE_DIR)\n",
    "else:\n",
    "    print('Figure directory exists.')"
   ]
  },
  {
   "cell_type": "code",
   "execution_count": 42,
   "metadata": {
    "ExecuteTime": {
     "end_time": "2019-12-19T15:23:07.302957Z",
     "start_time": "2019-12-19T15:23:06.730385Z"
    }
   },
   "outputs": [
    {
     "name": "stdout",
     "output_type": "stream",
     "text": [
      "Figure directory exists.\n"
     ]
    }
   ],
   "source": [
    "# Import classes and functions used across multiple notebooks\n",
    "sys.path.append(os.getcwd())\n",
    "import importlib\n",
    "import functions as blt\n",
    "importlib.reload(blt);"
   ]
  },
  {
   "cell_type": "markdown",
   "metadata": {},
   "source": [
    "# Data"
   ]
  },
  {
   "cell_type": "markdown",
   "metadata": {},
   "source": [
    "## Read in data"
   ]
  },
  {
   "cell_type": "code",
   "execution_count": 43,
   "metadata": {
    "ExecuteTime": {
     "end_time": "2019-12-19T15:23:08.085592Z",
     "start_time": "2019-12-19T15:23:08.071964Z"
    }
   },
   "outputs": [
    {
     "name": "stdout",
     "output_type": "stream",
     "text": [
      "X_enm shape: (112, 35)\n",
      "y_enm shape: (112, 1)\n"
     ]
    }
   ],
   "source": [
    "# Target (ENM) data\n",
    "\n",
    "# Read in ENM feature data\n",
    "X_enm = pd.read_csv(\"./data/ENM-preprocessed-feats.csv\", \n",
    "                    sep='\\t', header='infer', index_col=0)\n",
    "# Read in ENM labels (maximum_weight_fraction)\n",
    "y_enm = pd.read_csv(\"./data/ENM-clean.csv\", \n",
    "                    sep=',', header='infer', usecols=[4])\n",
    "print('X_enm shape:', X_enm.shape)\n",
    "print('y_enm shape:', y_enm.shape)"
   ]
  },
  {
   "cell_type": "code",
   "execution_count": 44,
   "metadata": {
    "ExecuteTime": {
     "end_time": "2019-12-19T15:23:08.547897Z",
     "start_time": "2019-12-19T15:23:08.414386Z"
    }
   },
   "outputs": [
    {
     "name": "stdout",
     "output_type": "stream",
     "text": [
      "X_source shape: (16439, 35)\n",
      "y_source shape: (16439, 1)\n"
     ]
    }
   ],
   "source": [
    "# Source (bulk organics) data\n",
    "\n",
    "# Read in source feature data\n",
    "X_source = pd.read_csv(\"./data/organics-preprocessed-feats.csv\", \n",
    "                       sep='\\t', header='infer', index_col=0)\n",
    "# Read in source labels (maximum_weight_fraction)\n",
    "y_source = pd.read_csv(\"./data/organics-preprocessed-WF.csv\", \n",
    "                       sep='\\t', header='infer', index_col=0)\n",
    "y_source.index = X_source.index\n",
    "print('X_source shape:', X_source.shape)\n",
    "print('y_source shape:', y_source.shape)"
   ]
  },
  {
   "cell_type": "code",
   "execution_count": 45,
   "metadata": {
    "ExecuteTime": {
     "end_time": "2019-12-19T15:23:08.884233Z",
     "start_time": "2019-12-19T15:23:08.829022Z"
    }
   },
   "outputs": [
    {
     "data": {
      "text/html": [
       "<div>\n",
       "<style scoped>\n",
       "    .dataframe tbody tr th:only-of-type {\n",
       "        vertical-align: middle;\n",
       "    }\n",
       "\n",
       "    .dataframe tbody tr th {\n",
       "        vertical-align: top;\n",
       "    }\n",
       "\n",
       "    .dataframe thead th {\n",
       "        text-align: right;\n",
       "    }\n",
       "</style>\n",
       "<table border=\"1\" class=\"dataframe\">\n",
       "  <thead>\n",
       "    <tr style=\"text-align: right;\">\n",
       "      <th></th>\n",
       "      <th>cprp_MW</th>\n",
       "      <th>cprp_MP</th>\n",
       "      <th>cprp_logdensity</th>\n",
       "      <th>fagg_absorbent_opacifier</th>\n",
       "      <th>fagg_brightener_viscositymodifier</th>\n",
       "      <th>fagg_filler_humectant</th>\n",
       "      <th>func_UVstabilizer</th>\n",
       "      <th>func_antiadhesivecohesive</th>\n",
       "      <th>func_antioxidant</th>\n",
       "      <th>func_antiredepositionagent</th>\n",
       "      <th>...</th>\n",
       "      <th>pgrp_dentalcare</th>\n",
       "      <th>pgrp_deodorant</th>\n",
       "      <th>pgrp_facialcleansingmoisturizing</th>\n",
       "      <th>pgrp_footcare</th>\n",
       "      <th>pgrp_generalmoisturizing</th>\n",
       "      <th>pgrp_makeuprelated</th>\n",
       "      <th>pgrp_surfacesealers</th>\n",
       "      <th>mtrx_spray</th>\n",
       "      <th>mtrx_formulation</th>\n",
       "      <th>mtrx_WFmeasured</th>\n",
       "    </tr>\n",
       "  </thead>\n",
       "  <tbody>\n",
       "    <tr>\n",
       "      <th>0</th>\n",
       "      <td>79.867</td>\n",
       "      <td>1843.00</td>\n",
       "      <td>0.626340</td>\n",
       "      <td>0.0</td>\n",
       "      <td>0.5</td>\n",
       "      <td>0.0</td>\n",
       "      <td>1.0</td>\n",
       "      <td>0.0</td>\n",
       "      <td>0.0</td>\n",
       "      <td>1.0</td>\n",
       "      <td>...</td>\n",
       "      <td>0.0</td>\n",
       "      <td>0.0</td>\n",
       "      <td>0.0</td>\n",
       "      <td>0.0</td>\n",
       "      <td>0.0</td>\n",
       "      <td>0.0</td>\n",
       "      <td>0.0</td>\n",
       "      <td>0</td>\n",
       "      <td>1</td>\n",
       "      <td>0</td>\n",
       "    </tr>\n",
       "    <tr>\n",
       "      <th>1</th>\n",
       "      <td>63.546</td>\n",
       "      <td>1083.00</td>\n",
       "      <td>0.952308</td>\n",
       "      <td>0.0</td>\n",
       "      <td>0.0</td>\n",
       "      <td>0.0</td>\n",
       "      <td>0.0</td>\n",
       "      <td>0.0</td>\n",
       "      <td>1.0</td>\n",
       "      <td>0.0</td>\n",
       "      <td>...</td>\n",
       "      <td>0.0</td>\n",
       "      <td>0.0</td>\n",
       "      <td>0.0</td>\n",
       "      <td>0.0</td>\n",
       "      <td>0.0</td>\n",
       "      <td>0.0</td>\n",
       "      <td>0.0</td>\n",
       "      <td>0</td>\n",
       "      <td>1</td>\n",
       "      <td>0</td>\n",
       "    </tr>\n",
       "    <tr>\n",
       "      <th>2</th>\n",
       "      <td>65.370</td>\n",
       "      <td>419.53</td>\n",
       "      <td>0.853698</td>\n",
       "      <td>0.0</td>\n",
       "      <td>0.0</td>\n",
       "      <td>0.0</td>\n",
       "      <td>0.0</td>\n",
       "      <td>0.0</td>\n",
       "      <td>1.0</td>\n",
       "      <td>0.0</td>\n",
       "      <td>...</td>\n",
       "      <td>0.0</td>\n",
       "      <td>0.0</td>\n",
       "      <td>0.0</td>\n",
       "      <td>0.0</td>\n",
       "      <td>0.0</td>\n",
       "      <td>0.0</td>\n",
       "      <td>0.0</td>\n",
       "      <td>0</td>\n",
       "      <td>1</td>\n",
       "      <td>0</td>\n",
       "    </tr>\n",
       "    <tr>\n",
       "      <th>3</th>\n",
       "      <td>107.868</td>\n",
       "      <td>961.78</td>\n",
       "      <td>1.014730</td>\n",
       "      <td>0.0</td>\n",
       "      <td>0.0</td>\n",
       "      <td>0.0</td>\n",
       "      <td>0.0</td>\n",
       "      <td>0.0</td>\n",
       "      <td>0.0</td>\n",
       "      <td>0.0</td>\n",
       "      <td>...</td>\n",
       "      <td>0.0</td>\n",
       "      <td>0.0</td>\n",
       "      <td>1.0</td>\n",
       "      <td>0.0</td>\n",
       "      <td>0.0</td>\n",
       "      <td>0.0</td>\n",
       "      <td>0.0</td>\n",
       "      <td>0</td>\n",
       "      <td>1</td>\n",
       "      <td>0</td>\n",
       "    </tr>\n",
       "  </tbody>\n",
       "</table>\n",
       "<p>4 rows × 35 columns</p>\n",
       "</div>"
      ],
      "text/plain": [
       "   cprp_MW  cprp_MP  cprp_logdensity  fagg_absorbent_opacifier  \\\n",
       "0   79.867  1843.00         0.626340                       0.0   \n",
       "1   63.546  1083.00         0.952308                       0.0   \n",
       "2   65.370   419.53         0.853698                       0.0   \n",
       "3  107.868   961.78         1.014730                       0.0   \n",
       "\n",
       "   fagg_brightener_viscositymodifier  fagg_filler_humectant  \\\n",
       "0                                0.5                    0.0   \n",
       "1                                0.0                    0.0   \n",
       "2                                0.0                    0.0   \n",
       "3                                0.0                    0.0   \n",
       "\n",
       "   func_UVstabilizer  func_antiadhesivecohesive  func_antioxidant  \\\n",
       "0                1.0                        0.0               0.0   \n",
       "1                0.0                        0.0               1.0   \n",
       "2                0.0                        0.0               1.0   \n",
       "3                0.0                        0.0               0.0   \n",
       "\n",
       "   func_antiredepositionagent  ...  pgrp_dentalcare  pgrp_deodorant  \\\n",
       "0                         1.0  ...              0.0             0.0   \n",
       "1                         0.0  ...              0.0             0.0   \n",
       "2                         0.0  ...              0.0             0.0   \n",
       "3                         0.0  ...              0.0             0.0   \n",
       "\n",
       "   pgrp_facialcleansingmoisturizing  pgrp_footcare  pgrp_generalmoisturizing  \\\n",
       "0                               0.0            0.0                       0.0   \n",
       "1                               0.0            0.0                       0.0   \n",
       "2                               0.0            0.0                       0.0   \n",
       "3                               1.0            0.0                       0.0   \n",
       "\n",
       "   pgrp_makeuprelated  pgrp_surfacesealers  mtrx_spray  mtrx_formulation  \\\n",
       "0                 0.0                  0.0           0                 1   \n",
       "1                 0.0                  0.0           0                 1   \n",
       "2                 0.0                  0.0           0                 1   \n",
       "3                 0.0                  0.0           0                 1   \n",
       "\n",
       "   mtrx_WFmeasured  \n",
       "0                0  \n",
       "1                0  \n",
       "2                0  \n",
       "3                0  \n",
       "\n",
       "[4 rows x 35 columns]"
      ]
     },
     "execution_count": 45,
     "metadata": {},
     "output_type": "execute_result"
    }
   ],
   "source": [
    "# View ENM feature df\n",
    "X_enm.head(4)"
   ]
  },
  {
   "cell_type": "code",
   "execution_count": 46,
   "metadata": {
    "ExecuteTime": {
     "end_time": "2019-12-19T15:23:09.374133Z",
     "start_time": "2019-12-19T15:23:09.352931Z"
    }
   },
   "outputs": [],
   "source": [
    "# Read in previous model evaluation results tables\n",
    "results_svc = pd.read_csv(\"./data/results-SVC.csv\", sep='\\t', na_values='nan')\n",
    "results_rfc = pd.read_csv(\"./data/results-RFC.csv\", sep='\\t')\n",
    "results_permute = np.loadtxt('./data/results-permutation-SVC.txt')"
   ]
  },
  {
   "cell_type": "markdown",
   "metadata": {},
   "source": [
    "## Apply WF bins"
   ]
  },
  {
   "cell_type": "markdown",
   "metadata": {},
   "source": [
    "Labels (continuous WF data) will be binned into low (0.0-0.0001), medium (0.0001-0.01) and high (0.01-1.0) categories."
   ]
  },
  {
   "cell_type": "code",
   "execution_count": 47,
   "metadata": {
    "ExecuteTime": {
     "end_time": "2019-12-19T15:23:10.529903Z",
     "start_time": "2019-12-19T15:23:10.225542Z"
    }
   },
   "outputs": [],
   "source": [
    "# Apply bins to ENM and organics data\n",
    "bin_enm = np.asarray(y_enm.apply(blt.bins, axis=1))\n",
    "bin_source = np.asarray(y_source.apply(blt.bins, axis=1))"
   ]
  },
  {
   "cell_type": "code",
   "execution_count": 48,
   "metadata": {
    "ExecuteTime": {
     "end_time": "2019-12-19T15:23:10.713171Z",
     "start_time": "2019-12-19T15:23:10.531713Z"
    }
   },
   "outputs": [
    {
     "data": {
      "image/png": "[encoded data removed]",
      "text/plain": [
       "<Figure size 432x288 with 1 Axes>"
      ]
     },
     "metadata": {
      "needs_background": "light"
     },
     "output_type": "display_data"
    },
    {
     "name": "stdout",
     "output_type": "stream",
     "text": [
      "Label bin:  [0 1 2]\n",
      "Count    :  [48 27 37]\n",
      "Frequency:  [0.43, 0.24, 0.33]\n"
     ]
    }
   ],
   "source": [
    "# View bar plot of ENM WF bins\n",
    "blt.bar_graph_bins(bin_enm, data_composition='ENM')"
   ]
  },
  {
   "cell_type": "markdown",
   "metadata": {},
   "source": [
    "The medium WF bin has the least number of samples. This is important for evaluating models later on; the smallest bin size will be used for the number of cross validation folds so that it's essentially \"leave-one-out\" CV. This approach is, for the most part, considered unbiased.\n",
    "\n",
    "https://stats.stackexchange.com/questions/154830/10-fold-cross-validation-vs-leave-one-out-cross-validation"
   ]
  },
  {
   "cell_type": "code",
   "execution_count": 49,
   "metadata": {
    "ExecuteTime": {
     "end_time": "2019-12-19T15:23:11.460443Z",
     "start_time": "2019-12-19T15:23:11.356951Z"
    }
   },
   "outputs": [
    {
     "data": {
      "image/png": "[encoded data removed]",
      "text/plain": [
       "<Figure size 432x288 with 1 Axes>"
      ]
     },
     "metadata": {
      "needs_background": "light"
     },
     "output_type": "display_data"
    },
    {
     "name": "stdout",
     "output_type": "stream",
     "text": [
      "Label bin:  [0 1 2]\n",
      "Count    :  [  381  5746 10312]\n",
      "Frequency:  [0.02, 0.35, 0.63]\n"
     ]
    }
   ],
   "source": [
    "# View bar plot of Organics WF bins\n",
    "blt.bar_graph_bins(bin_source, data_composition='Organics')"
   ]
  },
  {
   "cell_type": "markdown",
   "metadata": {},
   "source": [
    "# Model setup"
   ]
  },
  {
   "cell_type": "markdown",
   "metadata": {},
   "source": [
    "The main prediction model function, <b>blt.model_opt_exe</b>, optimizes, executes and evaluates a classifier using stratified CV. It has the option to augment the training data within the pipeline. It is defined in an external file called at the beginning of this script.\n",
    "\n",
    "The first part of the <b>blt.model_opt_exe</b> function runs a pipeline that normalizes features on a 0 to 1 scale then performs data augmentation and runs a classifer (SVC-RBF or RFC) using leave-one-out cross validation. Model parameters are optimized using a custom parameter grid search, with the optional aid of plots to visualize accuracy over the grid.\n",
    "\n",
    "The final pipeline (trained using augmented data) is tested on the original ENM data using stratified cross-validation with n_folds = n_samples in the smallest WF bin--essentially leave-one-out CV (discussed earlier). A confusion matrix summarizes accuracy results according to each WF bin (\"class\"). The average normalized accuracy across all bins is then calculated from the confusion matrix and written to a results table for every data set."
   ]
  },
  {
   "cell_type": "markdown",
   "metadata": {},
   "source": [
    "# SVC-RBF Models"
   ]
  },
  {
   "cell_type": "markdown",
   "metadata": {},
   "source": [
    "## ENM-only"
   ]
  },
  {
   "cell_type": "markdown",
   "metadata": {},
   "source": [
    "### Baseline model"
   ]
  },
  {
   "cell_type": "code",
   "execution_count": 35,
   "metadata": {
    "ExecuteTime": {
     "end_time": "2019-11-25T23:16:59.707926Z",
     "start_time": "2019-11-25T23:16:53.413739Z"
    }
   },
   "outputs": [
    {
     "data": {
      "image/png": "[encoded data removed]",
      "text/plain": [
       "<Figure size 432x288 with 2 Axes>"
      ]
     },
     "metadata": {
      "needs_background": "light"
     },
     "output_type": "display_data"
    },
    {
     "name": "stdout",
     "output_type": "stream",
     "text": [
      "Random state:\t 28\n",
      "Best parameters: {'C': 10.0, 'gamma': 0.1}\n",
      "Max opt. balanced accuracy: 0.704\n",
      "Avg. balanced accuracy:     0.721\n",
      "Normalized Confusion Matrix\n",
      "[[0.81 0.15 0.04]\n",
      " [0.33 0.59 0.07]\n",
      " [0.08 0.16 0.76]]\n"
     ]
    },
    {
     "data": {
      "text/html": [
       "\n",
       "                <audio controls=\"controls\" autoplay=\"autoplay\">\n",
       "                    <source src=\"./data/ping.wav\" type=\"audio/x-wav\" />\n",
       "                    Your browser does not support the audio element.\n",
       "                </audio>\n",
       "              "
      ],
      "text/plain": [
       "<IPython.lib.display.Audio object>"
      ]
     },
     "metadata": {},
     "output_type": "display_data"
    },
    {
     "data": {
      "image/png": "[encoded data removed]",
      "text/plain": [
       "<Figure size 432x288 with 2 Axes>"
      ]
     },
     "metadata": {
      "needs_background": "light"
     },
     "output_type": "display_data"
    }
   ],
   "source": [
    "# Single trial SVC-RBF, balanced accuracy\n",
    "param_grid = {'estimator__C': np.logspace(-1,7,9), \n",
    "              'estimator__gamma': np.logspace(-7,1,9)\n",
    "             }\n",
    "blt.model_opt_exe(classifier='svc', \n",
    "                  aug_type='none', \n",
    "                  k=0, \n",
    "                  feat_data=X_enm, \n",
    "                  bin_data=bin_enm, \n",
    "                  seed=28, \n",
    "                  save_fig_name='enm-only', \n",
    "                  show_opt_plot=True, \n",
    "                  show_feat_impt=False, \n",
    "                  show_cnf_matrix=True, \n",
    "                  use_balanced_accu=True, # Balanced accuracy\n",
    "                  param_grid=param_grid)"
   ]
  },
  {
   "cell_type": "code",
   "execution_count": 38,
   "metadata": {
    "ExecuteTime": {
     "end_time": "2019-12-09T08:47:53.593672Z",
     "start_time": "2019-12-09T08:44:50.364093Z"
    }
   },
   "outputs": [
    {
     "name": "stdout",
     "output_type": "stream",
     "text": [
      "Avg accuracy:     0.713\n",
      "Median accuracy:  0.71\n",
      "StdDev accuracy:  0.009\n",
      "Numer of trials:  30\n",
      "Results:  [0.72, 0.7, 0.7, 0.72, 0.72, 0.71, 0.72, 0.7, 0.72, 0.72, 0.71, 0.73, 0.71, 0.7, 0.71, 0.72, 0.71, 0.72, 0.7, 0.71, 0.7, 0.72, 0.73, 0.73, 0.7, 0.72, 0.71, 0.71, 0.71, 0.7]\n"
     ]
    },
    {
     "data": {
      "text/html": [
       "\n",
       "                <audio controls=\"controls\" autoplay=\"autoplay\">\n",
       "                    <source src=\"./data/ping.wav\" type=\"audio/x-wav\" />\n",
       "                    Your browser does not support the audio element.\n",
       "                </audio>\n",
       "              "
      ],
      "text/plain": [
       "<IPython.lib.display.Audio object>"
      ]
     },
     "metadata": {},
     "output_type": "display_data"
    },
    {
     "data": {
      "text/plain": [
       "(0.713, 0.009)"
      ]
     },
     "execution_count": 38,
     "metadata": {},
     "output_type": "execute_result"
    }
   ],
   "source": [
    "# Multiple trials SVC-RBF, balanced accuracy\n",
    "model_params = {'classifier': 'svc', \n",
    "                'aug_type': 'none', \n",
    "                'k': 0, \n",
    "                'feat_data': X_enm, \n",
    "                'bin_data': bin_enm, \n",
    "                'use_balanced_accu': True, \n",
    "                'param_grid': {'estimator__C': np.logspace(-1,7,9), \n",
    "                               'estimator__gamma': np.logspace(-7,1,9)}\n",
    "               }\n",
    "blt.multi_trials(num_trials=30, \n",
    "                 model_params=model_params, \n",
    "                 print_results=True)"
   ]
  },
  {
   "cell_type": "code",
   "execution_count": 27,
   "metadata": {
    "ExecuteTime": {
     "end_time": "2019-10-08T18:58:25.869807Z",
     "start_time": "2019-10-08T18:53:12.628815Z"
    }
   },
   "outputs": [
    {
     "name": "stdout",
     "output_type": "stream",
     "text": [
      "Avg accuracy:     0.713\n",
      "Median accuracy:  0.708\n",
      "StdDev accuracy:  0.01\n",
      "Numer of trials:  50\n",
      "Results:  [0.72, 0.7, 0.7, 0.72, 0.72, 0.71, 0.72, 0.7, 0.72, 0.72, 0.71, 0.73, 0.71, 0.7, 0.71, 0.72, 0.71, 0.72, 0.7, 0.71, 0.7, 0.72, 0.73, 0.73, 0.7, 0.72, 0.71, 0.71, 0.71, 0.7, 0.72, 0.71, 0.72, 0.74, 0.71, 0.71, 0.7, 0.72, 0.71, 0.71, 0.71, 0.73, 0.72, 0.71, 0.71, 0.72, 0.73, 0.73, 0.71, 0.69]\n"
     ]
    },
    {
     "data": {
      "text/html": [
       "\n",
       "                <audio controls=\"controls\" autoplay=\"autoplay\">\n",
       "                    <source src=\"./data/ping.wav\" type=\"audio/x-wav\" />\n",
       "                    Your browser does not support the audio element.\n",
       "                </audio>\n",
       "              "
      ],
      "text/plain": [
       "<IPython.lib.display.Audio object>"
      ]
     },
     "metadata": {},
     "output_type": "display_data"
    },
    {
     "data": {
      "text/plain": [
       "(0.713, 0.01)"
      ]
     },
     "execution_count": 27,
     "metadata": {},
     "output_type": "execute_result"
    }
   ],
   "source": [
    "# Multiple trials SVC-RBF, balanced accuracy\n",
    "model_params = {'classifier': 'svc', \n",
    "                'aug_type': 'none', \n",
    "                'k': 0, \n",
    "                'feat_data': X_enm, \n",
    "                'bin_data': bin_enm, \n",
    "                'use_balanced_accu': True, \n",
    "                'param_grid': {'estimator__C': np.logspace(-1,7,9), \n",
    "                               'estimator__gamma': np.logspace(-7,1,9)}\n",
    "               }\n",
    "blt.multi_trials(num_trials=50, \n",
    "                 model_params=model_params, \n",
    "                 print_results=True)"
   ]
  },
  {
   "cell_type": "code",
   "execution_count": 12,
   "metadata": {
    "ExecuteTime": {
     "end_time": "2019-10-21T02:12:47.713894Z",
     "start_time": "2019-10-21T02:12:47.706906Z"
    }
   },
   "outputs": [],
   "source": [
    "# Save balanced accuracy results for later evaluation\n",
    "base_distrib = [0.72, 0.7, 0.7, 0.72, 0.72, 0.71, 0.72, 0.7, 0.72, 0.72, \n",
    "                0.71, 0.73, 0.71, 0.7, 0.71, 0.72, 0.71, 0.72, 0.7, 0.71, \n",
    "                0.7, 0.72, 0.73, 0.73, 0.7, 0.72, 0.71, 0.71, 0.71, 0.7, \n",
    "                0.72, 0.71, 0.72, 0.74, 0.71, 0.71, 0.7, 0.72, 0.71, 0.71, \n",
    "                0.71, 0.73, 0.72, 0.71, 0.71, 0.72, 0.73, 0.73, 0.71, 0.69]"
   ]
  },
  {
   "cell_type": "code",
   "execution_count": null,
   "metadata": {},
   "outputs": [],
   "source": [
    "results_svc.loc[results_svc['ENM-Organics-Ratio']=='1:0','Avg-Random-Augment']\\\n",
    "    = "
   ]
  },
  {
   "cell_type": "code",
   "execution_count": 29,
   "metadata": {
    "ExecuteTime": {
     "end_time": "2019-10-08T19:05:24.066277Z",
     "start_time": "2019-10-08T19:01:16.043443Z"
    }
   },
   "outputs": [
    {
     "name": "stdout",
     "output_type": "stream",
     "text": [
      "Avg accuracy:     0.711\n",
      "Median accuracy:  0.707\n",
      "StdDev accuracy:  0.01\n",
      "Numer of trials:  50\n"
     ]
    },
    {
     "data": {
      "text/html": [
       "\n",
       "                <audio controls=\"controls\" autoplay=\"autoplay\">\n",
       "                    <source src=\"./data/ping.wav\" type=\"audio/x-wav\" />\n",
       "                    Your browser does not support the audio element.\n",
       "                </audio>\n",
       "              "
      ],
      "text/plain": [
       "<IPython.lib.display.Audio object>"
      ]
     },
     "metadata": {},
     "output_type": "display_data"
    },
    {
     "data": {
      "text/plain": [
       "(0.711, 0.01)"
      ]
     },
     "execution_count": 29,
     "metadata": {},
     "output_type": "execute_result"
    }
   ],
   "source": [
    "# Multiple trials SVC-RBF, normal accuracy\n",
    "model_params = {'classifier': 'svc', \n",
    "                'aug_type': 'none', \n",
    "                'k': 0, \n",
    "                'feat_data': X_enm, \n",
    "                'bin_data': bin_enm, \n",
    "                'use_balanced_accu': False, \n",
    "                'param_grid': {'estimator__C': np.logspace(-1,7,9), \n",
    "                               'estimator__gamma': np.logspace(-7,1,9)}\n",
    "               }\n",
    "blt.multi_trials(num_trials=50, model_params=model_params)"
   ]
  },
  {
   "cell_type": "markdown",
   "metadata": {},
   "source": [
    "Balanced accuracy performed negligibly better, but makes more sense to use given the imbalance of data between WF bins. Therefore, it will be used throughout."
   ]
  },
  {
   "cell_type": "markdown",
   "metadata": {},
   "source": [
    "### Permutation test"
   ]
  },
  {
   "cell_type": "markdown",
   "metadata": {},
   "source": [
    "The following tests are performed with randomly permuted labels (ENM data only)."
   ]
  },
  {
   "cell_type": "code",
   "execution_count": 119,
   "metadata": {
    "ExecuteTime": {
     "end_time": "2019-09-30T20:40:09.243718Z",
     "start_time": "2019-09-30T20:40:09.235097Z"
    }
   },
   "outputs": [],
   "source": [
    "# TODO: Decorator allows selective application of completion \"pings\"\n",
    "notify_on_complete = blt.CompletionNotifier(blt.ping_notify)"
   ]
  },
  {
   "cell_type": "code",
   "execution_count": 120,
   "metadata": {
    "ExecuteTime": {
     "end_time": "2019-09-30T20:40:17.759555Z",
     "start_time": "2019-09-30T20:40:17.753747Z"
    }
   },
   "outputs": [],
   "source": [
    "@notify_on_complete\n",
    "def perm_test(num_trials, classifier, model_params):\n",
    "    seed_set = np.random.choice(np.arange(0,100), \n",
    "                                size=num_trials, replace=False)\n",
    "    results_permute = np.empty(seed_set.size)\n",
    "    for idx, s in enumerate(seed_set):\n",
    "        with blt.HiddenPrints():\n",
    "            bin_enm_permute = np.random.RandomState(seed=s).permutation(bin_enm)\n",
    "            results_permute[idx] = blt.model_opt_exe(classifier=classifier, \n",
    "                                                     aug_type='none', \n",
    "                                                     k=0, \n",
    "                                                     feat_data=X_enm, \n",
    "                                                     bin_data=bin_enm_permute,\n",
    "                                                     param_grid=param_grid);\n",
    "    mu_permute = results_permute.mean()\n",
    "    sigma_permute = results_permute.std()\n",
    "    print(\"Avg accuracy:    \", mu_permute)\n",
    "    print(\"Median accuracy: \", np.median(results_permute))\n",
    "    print(\"StdDev accuracy: \", sigma_permute)\n",
    "    print(\"Numer of trials: \", num_trials)\n",
    "    print(\"Results: \", results_permute)\n",
    "    return mu_permute, sigma_permute"
   ]
  },
  {
   "cell_type": "code",
   "execution_count": 36,
   "metadata": {
    "ExecuteTime": {
     "end_time": "2019-09-26T09:43:55.931737Z",
     "start_time": "2019-09-26T09:29:44.078843Z"
    }
   },
   "outputs": [
    {
     "data": {
      "text/html": [
       "\n",
       "                <audio controls=\"controls\" autoplay=\"autoplay\">\n",
       "                    <source src=\"./data/ping.wav\" type=\"audio/x-wav\" />\n",
       "                    Your browser does not support the audio element.\n",
       "                </audio>\n",
       "              "
      ],
      "text/plain": [
       "<IPython.lib.display.Audio object>"
      ]
     },
     "metadata": {},
     "output_type": "display_data"
    },
    {
     "data": {
      "text/html": [
       "\n",
       "                <audio controls=\"controls\" autoplay=\"autoplay\">\n",
       "                    <source src=\"./data/ping.wav\" type=\"audio/x-wav\" />\n",
       "                    Your browser does not support the audio element.\n",
       "                </audio>\n",
       "              "
      ],
      "text/plain": [
       "<IPython.lib.display.Audio object>"
      ]
     },
     "metadata": {},
     "output_type": "display_data"
    },
    {
     "data": {
      "text/html": [
       "\n",
       "                <audio controls=\"controls\" autoplay=\"autoplay\">\n",
       "                    <source src=\"./data/ping.wav\" type=\"audio/x-wav\" />\n",
       "                    Your browser does not support the audio element.\n",
       "                </audio>\n",
       "              "
      ],
      "text/plain": [
       "<IPython.lib.display.Audio object>"
      ]
     },
     "metadata": {},
     "output_type": "display_data"
    },
    {
     "data": {
      "text/html": [
       "\n",
       "                <audio controls=\"controls\" autoplay=\"autoplay\">\n",
       "                    <source src=\"./data/ping.wav\" type=\"audio/x-wav\" />\n",
       "                    Your browser does not support the audio element.\n",
       "                </audio>\n",
       "              "
      ],
      "text/plain": [
       "<IPython.lib.display.Audio object>"
      ]
     },
     "metadata": {},
     "output_type": "display_data"
    },
    {
     "data": {
      "text/html": [
       "\n",
       "                <audio controls=\"controls\" autoplay=\"autoplay\">\n",
       "                    <source src=\"./data/ping.wav\" type=\"audio/x-wav\" />\n",
       "                    Your browser does not support the audio element.\n",
       "                </audio>\n",
       "              "
      ],
      "text/plain": [
       "<IPython.lib.display.Audio object>"
      ]
     },
     "metadata": {},
     "output_type": "display_data"
    },
    {
     "data": {
      "text/html": [
       "\n",
       "                <audio controls=\"controls\" autoplay=\"autoplay\">\n",
       "                    <source src=\"./data/ping.wav\" type=\"audio/x-wav\" />\n",
       "                    Your browser does not support the audio element.\n",
       "                </audio>\n",
       "              "
      ],
      "text/plain": [
       "<IPython.lib.display.Audio object>"
      ]
     },
     "metadata": {},
     "output_type": "display_data"
    },
    {
     "data": {
      "text/html": [
       "\n",
       "                <audio controls=\"controls\" autoplay=\"autoplay\">\n",
       "                    <source src=\"./data/ping.wav\" type=\"audio/x-wav\" />\n",
       "                    Your browser does not support the audio element.\n",
       "                </audio>\n",
       "              "
      ],
      "text/plain": [
       "<IPython.lib.display.Audio object>"
      ]
     },
     "metadata": {},
     "output_type": "display_data"
    },
    {
     "data": {
      "text/html": [
       "\n",
       "                <audio controls=\"controls\" autoplay=\"autoplay\">\n",
       "                    <source src=\"./data/ping.wav\" type=\"audio/x-wav\" />\n",
       "                    Your browser does not support the audio element.\n",
       "                </audio>\n",
       "              "
      ],
      "text/plain": [
       "<IPython.lib.display.Audio object>"
      ]
     },
     "metadata": {},
     "output_type": "display_data"
    },
    {
     "data": {
      "text/html": [
       "\n",
       "                <audio controls=\"controls\" autoplay=\"autoplay\">\n",
       "                    <source src=\"./data/ping.wav\" type=\"audio/x-wav\" />\n",
       "                    Your browser does not support the audio element.\n",
       "                </audio>\n",
       "              "
      ],
      "text/plain": [
       "<IPython.lib.display.Audio object>"
      ]
     },
     "metadata": {},
     "output_type": "display_data"
    },
    {
     "data": {
      "text/html": [
       "\n",
       "                <audio controls=\"controls\" autoplay=\"autoplay\">\n",
       "                    <source src=\"./data/ping.wav\" type=\"audio/x-wav\" />\n",
       "                    Your browser does not support the audio element.\n",
       "                </audio>\n",
       "              "
      ],
      "text/plain": [
       "<IPython.lib.display.Audio object>"
      ]
     },
     "metadata": {},
     "output_type": "display_data"
    },
    {
     "data": {
      "text/html": [
       "\n",
       "                <audio controls=\"controls\" autoplay=\"autoplay\">\n",
       "                    <source src=\"./data/ping.wav\" type=\"audio/x-wav\" />\n",
       "                    Your browser does not support the audio element.\n",
       "                </audio>\n",
       "              "
      ],
      "text/plain": [
       "<IPython.lib.display.Audio object>"
      ]
     },
     "metadata": {},
     "output_type": "display_data"
    },
    {
     "data": {
      "text/html": [
       "\n",
       "                <audio controls=\"controls\" autoplay=\"autoplay\">\n",
       "                    <source src=\"./data/ping.wav\" type=\"audio/x-wav\" />\n",
       "                    Your browser does not support the audio element.\n",
       "                </audio>\n",
       "              "
      ],
      "text/plain": [
       "<IPython.lib.display.Audio object>"
      ]
     },
     "metadata": {},
     "output_type": "display_data"
    },
    {
     "data": {
      "text/html": [
       "\n",
       "                <audio controls=\"controls\" autoplay=\"autoplay\">\n",
       "                    <source src=\"./data/ping.wav\" type=\"audio/x-wav\" />\n",
       "                    Your browser does not support the audio element.\n",
       "                </audio>\n",
       "              "
      ],
      "text/plain": [
       "<IPython.lib.display.Audio object>"
      ]
     },
     "metadata": {},
     "output_type": "display_data"
    },
    {
     "data": {
      "text/html": [
       "\n",
       "                <audio controls=\"controls\" autoplay=\"autoplay\">\n",
       "                    <source src=\"./data/ping.wav\" type=\"audio/x-wav\" />\n",
       "                    Your browser does not support the audio element.\n",
       "                </audio>\n",
       "              "
      ],
      "text/plain": [
       "<IPython.lib.display.Audio object>"
      ]
     },
     "metadata": {},
     "output_type": "display_data"
    },
    {
     "data": {
      "text/html": [
       "\n",
       "                <audio controls=\"controls\" autoplay=\"autoplay\">\n",
       "                    <source src=\"./data/ping.wav\" type=\"audio/x-wav\" />\n",
       "                    Your browser does not support the audio element.\n",
       "                </audio>\n",
       "              "
      ],
      "text/plain": [
       "<IPython.lib.display.Audio object>"
      ]
     },
     "metadata": {},
     "output_type": "display_data"
    },
    {
     "data": {
      "text/html": [
       "\n",
       "                <audio controls=\"controls\" autoplay=\"autoplay\">\n",
       "                    <source src=\"./data/ping.wav\" type=\"audio/x-wav\" />\n",
       "                    Your browser does not support the audio element.\n",
       "                </audio>\n",
       "              "
      ],
      "text/plain": [
       "<IPython.lib.display.Audio object>"
      ]
     },
     "metadata": {},
     "output_type": "display_data"
    },
    {
     "data": {
      "text/html": [
       "\n",
       "                <audio controls=\"controls\" autoplay=\"autoplay\">\n",
       "                    <source src=\"./data/ping.wav\" type=\"audio/x-wav\" />\n",
       "                    Your browser does not support the audio element.\n",
       "                </audio>\n",
       "              "
      ],
      "text/plain": [
       "<IPython.lib.display.Audio object>"
      ]
     },
     "metadata": {},
     "output_type": "display_data"
    },
    {
     "data": {
      "text/html": [
       "\n",
       "                <audio controls=\"controls\" autoplay=\"autoplay\">\n",
       "                    <source src=\"./data/ping.wav\" type=\"audio/x-wav\" />\n",
       "                    Your browser does not support the audio element.\n",
       "                </audio>\n",
       "              "
      ],
      "text/plain": [
       "<IPython.lib.display.Audio object>"
      ]
     },
     "metadata": {},
     "output_type": "display_data"
    },
    {
     "data": {
      "text/html": [
       "\n",
       "                <audio controls=\"controls\" autoplay=\"autoplay\">\n",
       "                    <source src=\"./data/ping.wav\" type=\"audio/x-wav\" />\n",
       "                    Your browser does not support the audio element.\n",
       "                </audio>\n",
       "              "
      ],
      "text/plain": [
       "<IPython.lib.display.Audio object>"
      ]
     },
     "metadata": {},
     "output_type": "display_data"
    },
    {
     "data": {
      "text/html": [
       "\n",
       "                <audio controls=\"controls\" autoplay=\"autoplay\">\n",
       "                    <source src=\"./data/ping.wav\" type=\"audio/x-wav\" />\n",
       "                    Your browser does not support the audio element.\n",
       "                </audio>\n",
       "              "
      ],
      "text/plain": [
       "<IPython.lib.display.Audio object>"
      ]
     },
     "metadata": {},
     "output_type": "display_data"
    },
    {
     "data": {
      "text/html": [
       "\n",
       "                <audio controls=\"controls\" autoplay=\"autoplay\">\n",
       "                    <source src=\"./data/ping.wav\" type=\"audio/x-wav\" />\n",
       "                    Your browser does not support the audio element.\n",
       "                </audio>\n",
       "              "
      ],
      "text/plain": [
       "<IPython.lib.display.Audio object>"
      ]
     },
     "metadata": {},
     "output_type": "display_data"
    },
    {
     "data": {
      "text/html": [
       "\n",
       "                <audio controls=\"controls\" autoplay=\"autoplay\">\n",
       "                    <source src=\"./data/ping.wav\" type=\"audio/x-wav\" />\n",
       "                    Your browser does not support the audio element.\n",
       "                </audio>\n",
       "              "
      ],
      "text/plain": [
       "<IPython.lib.display.Audio object>"
      ]
     },
     "metadata": {},
     "output_type": "display_data"
    },
    {
     "data": {
      "text/html": [
       "\n",
       "                <audio controls=\"controls\" autoplay=\"autoplay\">\n",
       "                    <source src=\"./data/ping.wav\" type=\"audio/x-wav\" />\n",
       "                    Your browser does not support the audio element.\n",
       "                </audio>\n",
       "              "
      ],
      "text/plain": [
       "<IPython.lib.display.Audio object>"
      ]
     },
     "metadata": {},
     "output_type": "display_data"
    },
    {
     "data": {
      "text/html": [
       "\n",
       "                <audio controls=\"controls\" autoplay=\"autoplay\">\n",
       "                    <source src=\"./data/ping.wav\" type=\"audio/x-wav\" />\n",
       "                    Your browser does not support the audio element.\n",
       "                </audio>\n",
       "              "
      ],
      "text/plain": [
       "<IPython.lib.display.Audio object>"
      ]
     },
     "metadata": {},
     "output_type": "display_data"
    },
    {
     "data": {
      "text/html": [
       "\n",
       "                <audio controls=\"controls\" autoplay=\"autoplay\">\n",
       "                    <source src=\"./data/ping.wav\" type=\"audio/x-wav\" />\n",
       "                    Your browser does not support the audio element.\n",
       "                </audio>\n",
       "              "
      ],
      "text/plain": [
       "<IPython.lib.display.Audio object>"
      ]
     },
     "metadata": {},
     "output_type": "display_data"
    },
    {
     "data": {
      "text/html": [
       "\n",
       "                <audio controls=\"controls\" autoplay=\"autoplay\">\n",
       "                    <source src=\"./data/ping.wav\" type=\"audio/x-wav\" />\n",
       "                    Your browser does not support the audio element.\n",
       "                </audio>\n",
       "              "
      ],
      "text/plain": [
       "<IPython.lib.display.Audio object>"
      ]
     },
     "metadata": {},
     "output_type": "display_data"
    },
    {
     "data": {
      "text/html": [
       "\n",
       "                <audio controls=\"controls\" autoplay=\"autoplay\">\n",
       "                    <source src=\"./data/ping.wav\" type=\"audio/x-wav\" />\n",
       "                    Your browser does not support the audio element.\n",
       "                </audio>\n",
       "              "
      ],
      "text/plain": [
       "<IPython.lib.display.Audio object>"
      ]
     },
     "metadata": {},
     "output_type": "display_data"
    },
    {
     "data": {
      "text/html": [
       "\n",
       "                <audio controls=\"controls\" autoplay=\"autoplay\">\n",
       "                    <source src=\"./data/ping.wav\" type=\"audio/x-wav\" />\n",
       "                    Your browser does not support the audio element.\n",
       "                </audio>\n",
       "              "
      ],
      "text/plain": [
       "<IPython.lib.display.Audio object>"
      ]
     },
     "metadata": {},
     "output_type": "display_data"
    },
    {
     "data": {
      "text/html": [
       "\n",
       "                <audio controls=\"controls\" autoplay=\"autoplay\">\n",
       "                    <source src=\"./data/ping.wav\" type=\"audio/x-wav\" />\n",
       "                    Your browser does not support the audio element.\n",
       "                </audio>\n",
       "              "
      ],
      "text/plain": [
       "<IPython.lib.display.Audio object>"
      ]
     },
     "metadata": {},
     "output_type": "display_data"
    },
    {
     "data": {
      "text/html": [
       "\n",
       "                <audio controls=\"controls\" autoplay=\"autoplay\">\n",
       "                    <source src=\"./data/ping.wav\" type=\"audio/x-wav\" />\n",
       "                    Your browser does not support the audio element.\n",
       "                </audio>\n",
       "              "
      ],
      "text/plain": [
       "<IPython.lib.display.Audio object>"
      ]
     },
     "metadata": {},
     "output_type": "display_data"
    },
    {
     "data": {
      "text/html": [
       "\n",
       "                <audio controls=\"controls\" autoplay=\"autoplay\">\n",
       "                    <source src=\"./data/ping.wav\" type=\"audio/x-wav\" />\n",
       "                    Your browser does not support the audio element.\n",
       "                </audio>\n",
       "              "
      ],
      "text/plain": [
       "<IPython.lib.display.Audio object>"
      ]
     },
     "metadata": {},
     "output_type": "display_data"
    },
    {
     "data": {
      "text/html": [
       "\n",
       "                <audio controls=\"controls\" autoplay=\"autoplay\">\n",
       "                    <source src=\"./data/ping.wav\" type=\"audio/x-wav\" />\n",
       "                    Your browser does not support the audio element.\n",
       "                </audio>\n",
       "              "
      ],
      "text/plain": [
       "<IPython.lib.display.Audio object>"
      ]
     },
     "metadata": {},
     "output_type": "display_data"
    },
    {
     "data": {
      "text/html": [
       "\n",
       "                <audio controls=\"controls\" autoplay=\"autoplay\">\n",
       "                    <source src=\"./data/ping.wav\" type=\"audio/x-wav\" />\n",
       "                    Your browser does not support the audio element.\n",
       "                </audio>\n",
       "              "
      ],
      "text/plain": [
       "<IPython.lib.display.Audio object>"
      ]
     },
     "metadata": {},
     "output_type": "display_data"
    },
    {
     "data": {
      "text/html": [
       "\n",
       "                <audio controls=\"controls\" autoplay=\"autoplay\">\n",
       "                    <source src=\"./data/ping.wav\" type=\"audio/x-wav\" />\n",
       "                    Your browser does not support the audio element.\n",
       "                </audio>\n",
       "              "
      ],
      "text/plain": [
       "<IPython.lib.display.Audio object>"
      ]
     },
     "metadata": {},
     "output_type": "display_data"
    },
    {
     "data": {
      "text/html": [
       "\n",
       "                <audio controls=\"controls\" autoplay=\"autoplay\">\n",
       "                    <source src=\"./data/ping.wav\" type=\"audio/x-wav\" />\n",
       "                    Your browser does not support the audio element.\n",
       "                </audio>\n",
       "              "
      ],
      "text/plain": [
       "<IPython.lib.display.Audio object>"
      ]
     },
     "metadata": {},
     "output_type": "display_data"
    },
    {
     "data": {
      "text/html": [
       "\n",
       "                <audio controls=\"controls\" autoplay=\"autoplay\">\n",
       "                    <source src=\"./data/ping.wav\" type=\"audio/x-wav\" />\n",
       "                    Your browser does not support the audio element.\n",
       "                </audio>\n",
       "              "
      ],
      "text/plain": [
       "<IPython.lib.display.Audio object>"
      ]
     },
     "metadata": {},
     "output_type": "display_data"
    },
    {
     "data": {
      "text/html": [
       "\n",
       "                <audio controls=\"controls\" autoplay=\"autoplay\">\n",
       "                    <source src=\"./data/ping.wav\" type=\"audio/x-wav\" />\n",
       "                    Your browser does not support the audio element.\n",
       "                </audio>\n",
       "              "
      ],
      "text/plain": [
       "<IPython.lib.display.Audio object>"
      ]
     },
     "metadata": {},
     "output_type": "display_data"
    },
    {
     "data": {
      "text/html": [
       "\n",
       "                <audio controls=\"controls\" autoplay=\"autoplay\">\n",
       "                    <source src=\"./data/ping.wav\" type=\"audio/x-wav\" />\n",
       "                    Your browser does not support the audio element.\n",
       "                </audio>\n",
       "              "
      ],
      "text/plain": [
       "<IPython.lib.display.Audio object>"
      ]
     },
     "metadata": {},
     "output_type": "display_data"
    },
    {
     "data": {
      "text/html": [
       "\n",
       "                <audio controls=\"controls\" autoplay=\"autoplay\">\n",
       "                    <source src=\"./data/ping.wav\" type=\"audio/x-wav\" />\n",
       "                    Your browser does not support the audio element.\n",
       "                </audio>\n",
       "              "
      ],
      "text/plain": [
       "<IPython.lib.display.Audio object>"
      ]
     },
     "metadata": {},
     "output_type": "display_data"
    },
    {
     "data": {
      "text/html": [
       "\n",
       "                <audio controls=\"controls\" autoplay=\"autoplay\">\n",
       "                    <source src=\"./data/ping.wav\" type=\"audio/x-wav\" />\n",
       "                    Your browser does not support the audio element.\n",
       "                </audio>\n",
       "              "
      ],
      "text/plain": [
       "<IPython.lib.display.Audio object>"
      ]
     },
     "metadata": {},
     "output_type": "display_data"
    },
    {
     "data": {
      "text/html": [
       "\n",
       "                <audio controls=\"controls\" autoplay=\"autoplay\">\n",
       "                    <source src=\"./data/ping.wav\" type=\"audio/x-wav\" />\n",
       "                    Your browser does not support the audio element.\n",
       "                </audio>\n",
       "              "
      ],
      "text/plain": [
       "<IPython.lib.display.Audio object>"
      ]
     },
     "metadata": {},
     "output_type": "display_data"
    },
    {
     "data": {
      "text/html": [
       "\n",
       "                <audio controls=\"controls\" autoplay=\"autoplay\">\n",
       "                    <source src=\"./data/ping.wav\" type=\"audio/x-wav\" />\n",
       "                    Your browser does not support the audio element.\n",
       "                </audio>\n",
       "              "
      ],
      "text/plain": [
       "<IPython.lib.display.Audio object>"
      ]
     },
     "metadata": {},
     "output_type": "display_data"
    },
    {
     "data": {
      "text/html": [
       "\n",
       "                <audio controls=\"controls\" autoplay=\"autoplay\">\n",
       "                    <source src=\"./data/ping.wav\" type=\"audio/x-wav\" />\n",
       "                    Your browser does not support the audio element.\n",
       "                </audio>\n",
       "              "
      ],
      "text/plain": [
       "<IPython.lib.display.Audio object>"
      ]
     },
     "metadata": {},
     "output_type": "display_data"
    },
    {
     "data": {
      "text/html": [
       "\n",
       "                <audio controls=\"controls\" autoplay=\"autoplay\">\n",
       "                    <source src=\"./data/ping.wav\" type=\"audio/x-wav\" />\n",
       "                    Your browser does not support the audio element.\n",
       "                </audio>\n",
       "              "
      ],
      "text/plain": [
       "<IPython.lib.display.Audio object>"
      ]
     },
     "metadata": {},
     "output_type": "display_data"
    },
    {
     "data": {
      "text/html": [
       "\n",
       "                <audio controls=\"controls\" autoplay=\"autoplay\">\n",
       "                    <source src=\"./data/ping.wav\" type=\"audio/x-wav\" />\n",
       "                    Your browser does not support the audio element.\n",
       "                </audio>\n",
       "              "
      ],
      "text/plain": [
       "<IPython.lib.display.Audio object>"
      ]
     },
     "metadata": {},
     "output_type": "display_data"
    },
    {
     "data": {
      "text/html": [
       "\n",
       "                <audio controls=\"controls\" autoplay=\"autoplay\">\n",
       "                    <source src=\"./data/ping.wav\" type=\"audio/x-wav\" />\n",
       "                    Your browser does not support the audio element.\n",
       "                </audio>\n",
       "              "
      ],
      "text/plain": [
       "<IPython.lib.display.Audio object>"
      ]
     },
     "metadata": {},
     "output_type": "display_data"
    },
    {
     "data": {
      "text/html": [
       "\n",
       "                <audio controls=\"controls\" autoplay=\"autoplay\">\n",
       "                    <source src=\"./data/ping.wav\" type=\"audio/x-wav\" />\n",
       "                    Your browser does not support the audio element.\n",
       "                </audio>\n",
       "              "
      ],
      "text/plain": [
       "<IPython.lib.display.Audio object>"
      ]
     },
     "metadata": {},
     "output_type": "display_data"
    },
    {
     "data": {
      "text/html": [
       "\n",
       "                <audio controls=\"controls\" autoplay=\"autoplay\">\n",
       "                    <source src=\"./data/ping.wav\" type=\"audio/x-wav\" />\n",
       "                    Your browser does not support the audio element.\n",
       "                </audio>\n",
       "              "
      ],
      "text/plain": [
       "<IPython.lib.display.Audio object>"
      ]
     },
     "metadata": {},
     "output_type": "display_data"
    },
    {
     "data": {
      "text/html": [
       "\n",
       "                <audio controls=\"controls\" autoplay=\"autoplay\">\n",
       "                    <source src=\"./data/ping.wav\" type=\"audio/x-wav\" />\n",
       "                    Your browser does not support the audio element.\n",
       "                </audio>\n",
       "              "
      ],
      "text/plain": [
       "<IPython.lib.display.Audio object>"
      ]
     },
     "metadata": {},
     "output_type": "display_data"
    },
    {
     "data": {
      "text/html": [
       "\n",
       "                <audio controls=\"controls\" autoplay=\"autoplay\">\n",
       "                    <source src=\"./data/ping.wav\" type=\"audio/x-wav\" />\n",
       "                    Your browser does not support the audio element.\n",
       "                </audio>\n",
       "              "
      ],
      "text/plain": [
       "<IPython.lib.display.Audio object>"
      ]
     },
     "metadata": {},
     "output_type": "display_data"
    },
    {
     "data": {
      "text/html": [
       "\n",
       "                <audio controls=\"controls\" autoplay=\"autoplay\">\n",
       "                    <source src=\"./data/ping.wav\" type=\"audio/x-wav\" />\n",
       "                    Your browser does not support the audio element.\n",
       "                </audio>\n",
       "              "
      ],
      "text/plain": [
       "<IPython.lib.display.Audio object>"
      ]
     },
     "metadata": {},
     "output_type": "display_data"
    },
    {
     "data": {
      "text/html": [
       "\n",
       "                <audio controls=\"controls\" autoplay=\"autoplay\">\n",
       "                    <source src=\"./data/ping.wav\" type=\"audio/x-wav\" />\n",
       "                    Your browser does not support the audio element.\n",
       "                </audio>\n",
       "              "
      ],
      "text/plain": [
       "<IPython.lib.display.Audio object>"
      ]
     },
     "metadata": {},
     "output_type": "display_data"
    },
    {
     "data": {
      "text/html": [
       "\n",
       "                <audio controls=\"controls\" autoplay=\"autoplay\">\n",
       "                    <source src=\"./data/ping.wav\" type=\"audio/x-wav\" />\n",
       "                    Your browser does not support the audio element.\n",
       "                </audio>\n",
       "              "
      ],
      "text/plain": [
       "<IPython.lib.display.Audio object>"
      ]
     },
     "metadata": {},
     "output_type": "display_data"
    },
    {
     "data": {
      "text/html": [
       "\n",
       "                <audio controls=\"controls\" autoplay=\"autoplay\">\n",
       "                    <source src=\"./data/ping.wav\" type=\"audio/x-wav\" />\n",
       "                    Your browser does not support the audio element.\n",
       "                </audio>\n",
       "              "
      ],
      "text/plain": [
       "<IPython.lib.display.Audio object>"
      ]
     },
     "metadata": {},
     "output_type": "display_data"
    },
    {
     "data": {
      "text/html": [
       "\n",
       "                <audio controls=\"controls\" autoplay=\"autoplay\">\n",
       "                    <source src=\"./data/ping.wav\" type=\"audio/x-wav\" />\n",
       "                    Your browser does not support the audio element.\n",
       "                </audio>\n",
       "              "
      ],
      "text/plain": [
       "<IPython.lib.display.Audio object>"
      ]
     },
     "metadata": {},
     "output_type": "display_data"
    },
    {
     "data": {
      "text/html": [
       "\n",
       "                <audio controls=\"controls\" autoplay=\"autoplay\">\n",
       "                    <source src=\"./data/ping.wav\" type=\"audio/x-wav\" />\n",
       "                    Your browser does not support the audio element.\n",
       "                </audio>\n",
       "              "
      ],
      "text/plain": [
       "<IPython.lib.display.Audio object>"
      ]
     },
     "metadata": {},
     "output_type": "display_data"
    },
    {
     "data": {
      "text/html": [
       "\n",
       "                <audio controls=\"controls\" autoplay=\"autoplay\">\n",
       "                    <source src=\"./data/ping.wav\" type=\"audio/x-wav\" />\n",
       "                    Your browser does not support the audio element.\n",
       "                </audio>\n",
       "              "
      ],
      "text/plain": [
       "<IPython.lib.display.Audio object>"
      ]
     },
     "metadata": {},
     "output_type": "display_data"
    },
    {
     "data": {
      "text/html": [
       "\n",
       "                <audio controls=\"controls\" autoplay=\"autoplay\">\n",
       "                    <source src=\"./data/ping.wav\" type=\"audio/x-wav\" />\n",
       "                    Your browser does not support the audio element.\n",
       "                </audio>\n",
       "              "
      ],
      "text/plain": [
       "<IPython.lib.display.Audio object>"
      ]
     },
     "metadata": {},
     "output_type": "display_data"
    },
    {
     "data": {
      "text/html": [
       "\n",
       "                <audio controls=\"controls\" autoplay=\"autoplay\">\n",
       "                    <source src=\"./data/ping.wav\" type=\"audio/x-wav\" />\n",
       "                    Your browser does not support the audio element.\n",
       "                </audio>\n",
       "              "
      ],
      "text/plain": [
       "<IPython.lib.display.Audio object>"
      ]
     },
     "metadata": {},
     "output_type": "display_data"
    },
    {
     "data": {
      "text/html": [
       "\n",
       "                <audio controls=\"controls\" autoplay=\"autoplay\">\n",
       "                    <source src=\"./data/ping.wav\" type=\"audio/x-wav\" />\n",
       "                    Your browser does not support the audio element.\n",
       "                </audio>\n",
       "              "
      ],
      "text/plain": [
       "<IPython.lib.display.Audio object>"
      ]
     },
     "metadata": {},
     "output_type": "display_data"
    },
    {
     "data": {
      "text/html": [
       "\n",
       "                <audio controls=\"controls\" autoplay=\"autoplay\">\n",
       "                    <source src=\"./data/ping.wav\" type=\"audio/x-wav\" />\n",
       "                    Your browser does not support the audio element.\n",
       "                </audio>\n",
       "              "
      ],
      "text/plain": [
       "<IPython.lib.display.Audio object>"
      ]
     },
     "metadata": {},
     "output_type": "display_data"
    },
    {
     "data": {
      "text/html": [
       "\n",
       "                <audio controls=\"controls\" autoplay=\"autoplay\">\n",
       "                    <source src=\"./data/ping.wav\" type=\"audio/x-wav\" />\n",
       "                    Your browser does not support the audio element.\n",
       "                </audio>\n",
       "              "
      ],
      "text/plain": [
       "<IPython.lib.display.Audio object>"
      ]
     },
     "metadata": {},
     "output_type": "display_data"
    },
    {
     "data": {
      "text/html": [
       "\n",
       "                <audio controls=\"controls\" autoplay=\"autoplay\">\n",
       "                    <source src=\"./data/ping.wav\" type=\"audio/x-wav\" />\n",
       "                    Your browser does not support the audio element.\n",
       "                </audio>\n",
       "              "
      ],
      "text/plain": [
       "<IPython.lib.display.Audio object>"
      ]
     },
     "metadata": {},
     "output_type": "display_data"
    },
    {
     "data": {
      "text/html": [
       "\n",
       "                <audio controls=\"controls\" autoplay=\"autoplay\">\n",
       "                    <source src=\"./data/ping.wav\" type=\"audio/x-wav\" />\n",
       "                    Your browser does not support the audio element.\n",
       "                </audio>\n",
       "              "
      ],
      "text/plain": [
       "<IPython.lib.display.Audio object>"
      ]
     },
     "metadata": {},
     "output_type": "display_data"
    },
    {
     "data": {
      "text/html": [
       "\n",
       "                <audio controls=\"controls\" autoplay=\"autoplay\">\n",
       "                    <source src=\"./data/ping.wav\" type=\"audio/x-wav\" />\n",
       "                    Your browser does not support the audio element.\n",
       "                </audio>\n",
       "              "
      ],
      "text/plain": [
       "<IPython.lib.display.Audio object>"
      ]
     },
     "metadata": {},
     "output_type": "display_data"
    },
    {
     "data": {
      "text/html": [
       "\n",
       "                <audio controls=\"controls\" autoplay=\"autoplay\">\n",
       "                    <source src=\"./data/ping.wav\" type=\"audio/x-wav\" />\n",
       "                    Your browser does not support the audio element.\n",
       "                </audio>\n",
       "              "
      ],
      "text/plain": [
       "<IPython.lib.display.Audio object>"
      ]
     },
     "metadata": {},
     "output_type": "display_data"
    },
    {
     "data": {
      "text/html": [
       "\n",
       "                <audio controls=\"controls\" autoplay=\"autoplay\">\n",
       "                    <source src=\"./data/ping.wav\" type=\"audio/x-wav\" />\n",
       "                    Your browser does not support the audio element.\n",
       "                </audio>\n",
       "              "
      ],
      "text/plain": [
       "<IPython.lib.display.Audio object>"
      ]
     },
     "metadata": {},
     "output_type": "display_data"
    },
    {
     "data": {
      "text/html": [
       "\n",
       "                <audio controls=\"controls\" autoplay=\"autoplay\">\n",
       "                    <source src=\"./data/ping.wav\" type=\"audio/x-wav\" />\n",
       "                    Your browser does not support the audio element.\n",
       "                </audio>\n",
       "              "
      ],
      "text/plain": [
       "<IPython.lib.display.Audio object>"
      ]
     },
     "metadata": {},
     "output_type": "display_data"
    },
    {
     "data": {
      "text/html": [
       "\n",
       "                <audio controls=\"controls\" autoplay=\"autoplay\">\n",
       "                    <source src=\"./data/ping.wav\" type=\"audio/x-wav\" />\n",
       "                    Your browser does not support the audio element.\n",
       "                </audio>\n",
       "              "
      ],
      "text/plain": [
       "<IPython.lib.display.Audio object>"
      ]
     },
     "metadata": {},
     "output_type": "display_data"
    },
    {
     "data": {
      "text/html": [
       "\n",
       "                <audio controls=\"controls\" autoplay=\"autoplay\">\n",
       "                    <source src=\"./data/ping.wav\" type=\"audio/x-wav\" />\n",
       "                    Your browser does not support the audio element.\n",
       "                </audio>\n",
       "              "
      ],
      "text/plain": [
       "<IPython.lib.display.Audio object>"
      ]
     },
     "metadata": {},
     "output_type": "display_data"
    },
    {
     "data": {
      "text/html": [
       "\n",
       "                <audio controls=\"controls\" autoplay=\"autoplay\">\n",
       "                    <source src=\"./data/ping.wav\" type=\"audio/x-wav\" />\n",
       "                    Your browser does not support the audio element.\n",
       "                </audio>\n",
       "              "
      ],
      "text/plain": [
       "<IPython.lib.display.Audio object>"
      ]
     },
     "metadata": {},
     "output_type": "display_data"
    },
    {
     "data": {
      "text/html": [
       "\n",
       "                <audio controls=\"controls\" autoplay=\"autoplay\">\n",
       "                    <source src=\"./data/ping.wav\" type=\"audio/x-wav\" />\n",
       "                    Your browser does not support the audio element.\n",
       "                </audio>\n",
       "              "
      ],
      "text/plain": [
       "<IPython.lib.display.Audio object>"
      ]
     },
     "metadata": {},
     "output_type": "display_data"
    },
    {
     "data": {
      "text/html": [
       "\n",
       "                <audio controls=\"controls\" autoplay=\"autoplay\">\n",
       "                    <source src=\"./data/ping.wav\" type=\"audio/x-wav\" />\n",
       "                    Your browser does not support the audio element.\n",
       "                </audio>\n",
       "              "
      ],
      "text/plain": [
       "<IPython.lib.display.Audio object>"
      ]
     },
     "metadata": {},
     "output_type": "display_data"
    },
    {
     "data": {
      "text/html": [
       "\n",
       "                <audio controls=\"controls\" autoplay=\"autoplay\">\n",
       "                    <source src=\"./data/ping.wav\" type=\"audio/x-wav\" />\n",
       "                    Your browser does not support the audio element.\n",
       "                </audio>\n",
       "              "
      ],
      "text/plain": [
       "<IPython.lib.display.Audio object>"
      ]
     },
     "metadata": {},
     "output_type": "display_data"
    },
    {
     "data": {
      "text/html": [
       "\n",
       "                <audio controls=\"controls\" autoplay=\"autoplay\">\n",
       "                    <source src=\"./data/ping.wav\" type=\"audio/x-wav\" />\n",
       "                    Your browser does not support the audio element.\n",
       "                </audio>\n",
       "              "
      ],
      "text/plain": [
       "<IPython.lib.display.Audio object>"
      ]
     },
     "metadata": {},
     "output_type": "display_data"
    },
    {
     "data": {
      "text/html": [
       "\n",
       "                <audio controls=\"controls\" autoplay=\"autoplay\">\n",
       "                    <source src=\"./data/ping.wav\" type=\"audio/x-wav\" />\n",
       "                    Your browser does not support the audio element.\n",
       "                </audio>\n",
       "              "
      ],
      "text/plain": [
       "<IPython.lib.display.Audio object>"
      ]
     },
     "metadata": {},
     "output_type": "display_data"
    },
    {
     "data": {
      "text/html": [
       "\n",
       "                <audio controls=\"controls\" autoplay=\"autoplay\">\n",
       "                    <source src=\"./data/ping.wav\" type=\"audio/x-wav\" />\n",
       "                    Your browser does not support the audio element.\n",
       "                </audio>\n",
       "              "
      ],
      "text/plain": [
       "<IPython.lib.display.Audio object>"
      ]
     },
     "metadata": {},
     "output_type": "display_data"
    },
    {
     "data": {
      "text/html": [
       "\n",
       "                <audio controls=\"controls\" autoplay=\"autoplay\">\n",
       "                    <source src=\"./data/ping.wav\" type=\"audio/x-wav\" />\n",
       "                    Your browser does not support the audio element.\n",
       "                </audio>\n",
       "              "
      ],
      "text/plain": [
       "<IPython.lib.display.Audio object>"
      ]
     },
     "metadata": {},
     "output_type": "display_data"
    },
    {
     "data": {
      "text/html": [
       "\n",
       "                <audio controls=\"controls\" autoplay=\"autoplay\">\n",
       "                    <source src=\"./data/ping.wav\" type=\"audio/x-wav\" />\n",
       "                    Your browser does not support the audio element.\n",
       "                </audio>\n",
       "              "
      ],
      "text/plain": [
       "<IPython.lib.display.Audio object>"
      ]
     },
     "metadata": {},
     "output_type": "display_data"
    },
    {
     "data": {
      "text/html": [
       "\n",
       "                <audio controls=\"controls\" autoplay=\"autoplay\">\n",
       "                    <source src=\"./data/ping.wav\" type=\"audio/x-wav\" />\n",
       "                    Your browser does not support the audio element.\n",
       "                </audio>\n",
       "              "
      ],
      "text/plain": [
       "<IPython.lib.display.Audio object>"
      ]
     },
     "metadata": {},
     "output_type": "display_data"
    },
    {
     "data": {
      "text/html": [
       "\n",
       "                <audio controls=\"controls\" autoplay=\"autoplay\">\n",
       "                    <source src=\"./data/ping.wav\" type=\"audio/x-wav\" />\n",
       "                    Your browser does not support the audio element.\n",
       "                </audio>\n",
       "              "
      ],
      "text/plain": [
       "<IPython.lib.display.Audio object>"
      ]
     },
     "metadata": {},
     "output_type": "display_data"
    },
    {
     "data": {
      "text/html": [
       "\n",
       "                <audio controls=\"controls\" autoplay=\"autoplay\">\n",
       "                    <source src=\"./data/ping.wav\" type=\"audio/x-wav\" />\n",
       "                    Your browser does not support the audio element.\n",
       "                </audio>\n",
       "              "
      ],
      "text/plain": [
       "<IPython.lib.display.Audio object>"
      ]
     },
     "metadata": {},
     "output_type": "display_data"
    },
    {
     "data": {
      "text/html": [
       "\n",
       "                <audio controls=\"controls\" autoplay=\"autoplay\">\n",
       "                    <source src=\"./data/ping.wav\" type=\"audio/x-wav\" />\n",
       "                    Your browser does not support the audio element.\n",
       "                </audio>\n",
       "              "
      ],
      "text/plain": [
       "<IPython.lib.display.Audio object>"
      ]
     },
     "metadata": {},
     "output_type": "display_data"
    },
    {
     "data": {
      "text/html": [
       "\n",
       "                <audio controls=\"controls\" autoplay=\"autoplay\">\n",
       "                    <source src=\"./data/ping.wav\" type=\"audio/x-wav\" />\n",
       "                    Your browser does not support the audio element.\n",
       "                </audio>\n",
       "              "
      ],
      "text/plain": [
       "<IPython.lib.display.Audio object>"
      ]
     },
     "metadata": {},
     "output_type": "display_data"
    },
    {
     "data": {
      "text/html": [
       "\n",
       "                <audio controls=\"controls\" autoplay=\"autoplay\">\n",
       "                    <source src=\"./data/ping.wav\" type=\"audio/x-wav\" />\n",
       "                    Your browser does not support the audio element.\n",
       "                </audio>\n",
       "              "
      ],
      "text/plain": [
       "<IPython.lib.display.Audio object>"
      ]
     },
     "metadata": {},
     "output_type": "display_data"
    },
    {
     "data": {
      "text/html": [
       "\n",
       "                <audio controls=\"controls\" autoplay=\"autoplay\">\n",
       "                    <source src=\"./data/ping.wav\" type=\"audio/x-wav\" />\n",
       "                    Your browser does not support the audio element.\n",
       "                </audio>\n",
       "              "
      ],
      "text/plain": [
       "<IPython.lib.display.Audio object>"
      ]
     },
     "metadata": {},
     "output_type": "display_data"
    },
    {
     "data": {
      "text/html": [
       "\n",
       "                <audio controls=\"controls\" autoplay=\"autoplay\">\n",
       "                    <source src=\"./data/ping.wav\" type=\"audio/x-wav\" />\n",
       "                    Your browser does not support the audio element.\n",
       "                </audio>\n",
       "              "
      ],
      "text/plain": [
       "<IPython.lib.display.Audio object>"
      ]
     },
     "metadata": {},
     "output_type": "display_data"
    },
    {
     "data": {
      "text/html": [
       "\n",
       "                <audio controls=\"controls\" autoplay=\"autoplay\">\n",
       "                    <source src=\"./data/ping.wav\" type=\"audio/x-wav\" />\n",
       "                    Your browser does not support the audio element.\n",
       "                </audio>\n",
       "              "
      ],
      "text/plain": [
       "<IPython.lib.display.Audio object>"
      ]
     },
     "metadata": {},
     "output_type": "display_data"
    },
    {
     "data": {
      "text/html": [
       "\n",
       "                <audio controls=\"controls\" autoplay=\"autoplay\">\n",
       "                    <source src=\"./data/ping.wav\" type=\"audio/x-wav\" />\n",
       "                    Your browser does not support the audio element.\n",
       "                </audio>\n",
       "              "
      ],
      "text/plain": [
       "<IPython.lib.display.Audio object>"
      ]
     },
     "metadata": {},
     "output_type": "display_data"
    },
    {
     "data": {
      "text/html": [
       "\n",
       "                <audio controls=\"controls\" autoplay=\"autoplay\">\n",
       "                    <source src=\"./data/ping.wav\" type=\"audio/x-wav\" />\n",
       "                    Your browser does not support the audio element.\n",
       "                </audio>\n",
       "              "
      ],
      "text/plain": [
       "<IPython.lib.display.Audio object>"
      ]
     },
     "metadata": {},
     "output_type": "display_data"
    },
    {
     "data": {
      "text/html": [
       "\n",
       "                <audio controls=\"controls\" autoplay=\"autoplay\">\n",
       "                    <source src=\"./data/ping.wav\" type=\"audio/x-wav\" />\n",
       "                    Your browser does not support the audio element.\n",
       "                </audio>\n",
       "              "
      ],
      "text/plain": [
       "<IPython.lib.display.Audio object>"
      ]
     },
     "metadata": {},
     "output_type": "display_data"
    },
    {
     "data": {
      "text/html": [
       "\n",
       "                <audio controls=\"controls\" autoplay=\"autoplay\">\n",
       "                    <source src=\"./data/ping.wav\" type=\"audio/x-wav\" />\n",
       "                    Your browser does not support the audio element.\n",
       "                </audio>\n",
       "              "
      ],
      "text/plain": [
       "<IPython.lib.display.Audio object>"
      ]
     },
     "metadata": {},
     "output_type": "display_data"
    },
    {
     "data": {
      "text/html": [
       "\n",
       "                <audio controls=\"controls\" autoplay=\"autoplay\">\n",
       "                    <source src=\"./data/ping.wav\" type=\"audio/x-wav\" />\n",
       "                    Your browser does not support the audio element.\n",
       "                </audio>\n",
       "              "
      ],
      "text/plain": [
       "<IPython.lib.display.Audio object>"
      ]
     },
     "metadata": {},
     "output_type": "display_data"
    },
    {
     "data": {
      "text/html": [
       "\n",
       "                <audio controls=\"controls\" autoplay=\"autoplay\">\n",
       "                    <source src=\"./data/ping.wav\" type=\"audio/x-wav\" />\n",
       "                    Your browser does not support the audio element.\n",
       "                </audio>\n",
       "              "
      ],
      "text/plain": [
       "<IPython.lib.display.Audio object>"
      ]
     },
     "metadata": {},
     "output_type": "display_data"
    },
    {
     "data": {
      "text/html": [
       "\n",
       "                <audio controls=\"controls\" autoplay=\"autoplay\">\n",
       "                    <source src=\"./data/ping.wav\" type=\"audio/x-wav\" />\n",
       "                    Your browser does not support the audio element.\n",
       "                </audio>\n",
       "              "
      ],
      "text/plain": [
       "<IPython.lib.display.Audio object>"
      ]
     },
     "metadata": {},
     "output_type": "display_data"
    },
    {
     "data": {
      "text/html": [
       "\n",
       "                <audio controls=\"controls\" autoplay=\"autoplay\">\n",
       "                    <source src=\"./data/ping.wav\" type=\"audio/x-wav\" />\n",
       "                    Your browser does not support the audio element.\n",
       "                </audio>\n",
       "              "
      ],
      "text/plain": [
       "<IPython.lib.display.Audio object>"
      ]
     },
     "metadata": {},
     "output_type": "display_data"
    },
    {
     "data": {
      "text/html": [
       "\n",
       "                <audio controls=\"controls\" autoplay=\"autoplay\">\n",
       "                    <source src=\"./data/ping.wav\" type=\"audio/x-wav\" />\n",
       "                    Your browser does not support the audio element.\n",
       "                </audio>\n",
       "              "
      ],
      "text/plain": [
       "<IPython.lib.display.Audio object>"
      ]
     },
     "metadata": {},
     "output_type": "display_data"
    },
    {
     "data": {
      "text/html": [
       "\n",
       "                <audio controls=\"controls\" autoplay=\"autoplay\">\n",
       "                    <source src=\"./data/ping.wav\" type=\"audio/x-wav\" />\n",
       "                    Your browser does not support the audio element.\n",
       "                </audio>\n",
       "              "
      ],
      "text/plain": [
       "<IPython.lib.display.Audio object>"
      ]
     },
     "metadata": {},
     "output_type": "display_data"
    },
    {
     "data": {
      "text/html": [
       "\n",
       "                <audio controls=\"controls\" autoplay=\"autoplay\">\n",
       "                    <source src=\"./data/ping.wav\" type=\"audio/x-wav\" />\n",
       "                    Your browser does not support the audio element.\n",
       "                </audio>\n",
       "              "
      ],
      "text/plain": [
       "<IPython.lib.display.Audio object>"
      ]
     },
     "metadata": {},
     "output_type": "display_data"
    },
    {
     "data": {
      "text/html": [
       "\n",
       "                <audio controls=\"controls\" autoplay=\"autoplay\">\n",
       "                    <source src=\"./data/ping.wav\" type=\"audio/x-wav\" />\n",
       "                    Your browser does not support the audio element.\n",
       "                </audio>\n",
       "              "
      ],
      "text/plain": [
       "<IPython.lib.display.Audio object>"
      ]
     },
     "metadata": {},
     "output_type": "display_data"
    },
    {
     "name": "stdout",
     "output_type": "stream",
     "text": [
      "Avg accuracy:     0.4033948531865199\n",
      "Median accuracy:  0.4043105605605606\n",
      "StdDev accuracy:  0.04740425911893349\n",
      "Numer of trials:  100\n",
      "Results:  [0.36 0.39 0.39 0.45 0.4  0.42 0.32 0.48 0.42 0.43 0.34 0.4  0.38 0.47\n",
      " 0.34 0.34 0.41 0.34 0.34 0.42 0.48 0.35 0.37 0.41 0.39 0.38 0.46 0.47\n",
      " 0.48 0.39 0.45 0.4  0.43 0.42 0.41 0.47 0.41 0.34 0.38 0.38 0.39 0.35\n",
      " 0.46 0.44 0.38 0.35 0.42 0.37 0.33 0.44 0.39 0.44 0.47 0.45 0.39 0.35\n",
      " 0.43 0.5  0.34 0.38 0.34 0.43 0.34 0.36 0.37 0.54 0.37 0.34 0.42 0.49\n",
      " 0.41 0.39 0.35 0.42 0.46 0.42 0.43 0.41 0.43 0.39 0.33 0.38 0.48 0.36\n",
      " 0.43 0.34 0.42 0.45 0.45 0.47 0.33 0.43 0.42 0.48 0.38 0.4  0.44 0.35\n",
      " 0.4  0.34]\n"
     ]
    },
    {
     "data": {
      "text/html": [
       "\n",
       "                <audio controls=\"controls\" autoplay=\"autoplay\">\n",
       "                    <source src=\"./data/ping.wav\" type=\"audio/x-wav\" />\n",
       "                    Your browser does not support the audio element.\n",
       "                </audio>\n",
       "              "
      ],
      "text/plain": [
       "<IPython.lib.display.Audio object>"
      ]
     },
     "metadata": {},
     "output_type": "display_data"
    }
   ],
   "source": [
    "# Run permutation tests over a number of trials, \"num_trials\"\n",
    "num_trials = 100\n",
    "param_grid = {'estimator__C': np.logspace(-1,7,9), \n",
    "              'estimator__gamma': np.logspace(-7,1,9)\n",
    "             }\n",
    "mu_permute, sigma_permute = perm_test(100, 'svc', model_params=param_grid)"
   ]
  },
  {
   "cell_type": "code",
   "execution_count": 140,
   "metadata": {
    "ExecuteTime": {
     "end_time": "2019-09-30T21:12:05.020066Z",
     "start_time": "2019-09-30T21:12:04.993836Z"
    }
   },
   "outputs": [],
   "source": [
    "results_svc.iloc[0,1:3] = (mu_permute, sigma_permute)"
   ]
  },
  {
   "cell_type": "code",
   "execution_count": 12,
   "metadata": {
    "ExecuteTime": {
     "end_time": "2019-10-19T21:44:54.172375Z",
     "start_time": "2019-10-19T21:44:54.165909Z"
    }
   },
   "outputs": [],
   "source": [
    "results_permute = [0.36, 0.39, 0.39, 0.45, 0.4, 0.42, 0.32, 0.48, 0.42, 0.43, \n",
    "                   0.34, 0.4, 0.38, 0.47, 0.34, 0.34, 0.41, 0.34, 0.34, 0.42, \n",
    "                   0.48, 0.35, 0.37, 0.41, 0.39, 0.38, 0.46, 0.47, 0.48, 0.39, \n",
    "                   0.45, 0.4, 0.43, 0.42, 0.41, 0.47, 0.41, 0.34, 0.38, 0.38, \n",
    "                   0.39, 0.35, 0.46, 0.44, 0.38, 0.35, 0.42, 0.37, 0.33, 0.44, \n",
    "                   0.39, 0.44, 0.47, 0.45, 0.39, 0.35, 0.43, 0.5, 0.34, 0.38, \n",
    "                   0.34, 0.43, 0.34, 0.36, 0.37, 0.54, 0.37, 0.34, 0.42, 0.49, \n",
    "                   0.41, 0.39, 0.35, 0.42, 0.46, 0.42, 0.43, 0.41, 0.43, 0.39, \n",
    "                   0.33, 0.38, 0.48, 0.36, 0.43, 0.34, 0.42, 0.45, 0.45, 0.47, \n",
    "                   0.33, 0.43, 0.42, 0.48, 0.38, 0.4, 0.44, 0.35, 0.4, 0.34]"
   ]
  },
  {
   "cell_type": "code",
   "execution_count": 142,
   "metadata": {
    "ExecuteTime": {
     "end_time": "2019-09-30T21:14:19.345616Z",
     "start_time": "2019-09-30T21:14:19.337630Z"
    }
   },
   "outputs": [],
   "source": [
    "# Export permutation results to text file\n",
    "np.savetxt('./data/results-permutation-SVC.txt', results_permute, \n",
    "           delimiter='\\t', fmt='%.2f')"
   ]
  },
  {
   "cell_type": "markdown",
   "metadata": {},
   "source": [
    "### Feature comparison"
   ]
  },
  {
   "cell_type": "code",
   "execution_count": null,
   "metadata": {},
   "outputs": [],
   "source": [
    "# TODO: feature comparison\n",
    "# TODO: auto save results"
   ]
  },
  {
   "cell_type": "markdown",
   "metadata": {},
   "source": [
    "Next, model optimization and evaluation is performed on the clustered ENM-only data after it is separated by groups of features: functions, PUCs, chemical properties and matrix properties. This serves as a means of comparing the usefulness of the different feature groups while using an SVC-RBF. A similar comparison is made later by calculating feature importance with the RFC."
   ]
  },
  {
   "cell_type": "code",
   "execution_count": 50,
   "metadata": {
    "ExecuteTime": {
     "end_time": "2019-12-19T15:23:43.475717Z",
     "start_time": "2019-12-19T15:23:43.467774Z"
    }
   },
   "outputs": [],
   "source": [
    "param_grid = {'estimator__C': np.logspace(-1,7,17), \n",
    "              'estimator__gamma': np.logspace(-7,1,17)\n",
    "             }"
   ]
  },
  {
   "cell_type": "markdown",
   "metadata": {},
   "source": [
    "##### Function-only"
   ]
  },
  {
   "cell_type": "code",
   "execution_count": 51,
   "metadata": {
    "ExecuteTime": {
     "end_time": "2019-12-19T15:24:35.118339Z",
     "start_time": "2019-12-19T15:24:10.096043Z"
    }
   },
   "outputs": [
    {
     "data": {
      "text/html": [
       "\n",
       "                <audio controls=\"controls\" autoplay=\"autoplay\">\n",
       "                    <source src=\"./data/ping.wav\" type=\"audio/x-wav\" />\n",
       "                    Your browser does not support the audio element.\n",
       "                </audio>\n",
       "              "
      ],
      "text/plain": [
       "<IPython.lib.display.Audio object>"
      ]
     },
     "metadata": {},
     "output_type": "display_data"
    },
    {
     "ename": "KeyboardInterrupt",
     "evalue": "",
     "output_type": "error",
     "traceback": [
      "\u001b[0;31m---------------------------------------------------------------------------\u001b[0m",
      "\u001b[0;31mKeyboardInterrupt\u001b[0m                         Traceback (most recent call last)",
      "\u001b[0;32m<ipython-input-51-49a9cf0747ac>\u001b[0m in \u001b[0;36m<module>\u001b[0;34m\u001b[0m\n\u001b[1;32m      8\u001b[0m                }\n\u001b[1;32m      9\u001b[0m mu_func, sigma_func = blt.multi_trials(num_trials=30, \n\u001b[0;32m---> 10\u001b[0;31m                                        model_params=model_params)\n\u001b[0m",
      "\u001b[0;32m~/Documents/ml-weight-fraction/functions.py\u001b[0m in \u001b[0;36mwrapper\u001b[0;34m(*args, **kwargs)\u001b[0m\n\u001b[1;32m    105\u001b[0m             \u001b[0mself\u001b[0m\u001b[0;34m.\u001b[0m\u001b[0misinner\u001b[0m \u001b[0;34m=\u001b[0m \u001b[0;32mTrue\u001b[0m\u001b[0;34m\u001b[0m\u001b[0;34m\u001b[0m\u001b[0m\n\u001b[1;32m    106\u001b[0m             \u001b[0;32mtry\u001b[0m\u001b[0;34m:\u001b[0m\u001b[0;34m\u001b[0m\u001b[0;34m\u001b[0m\u001b[0m\n\u001b[0;32m--> 107\u001b[0;31m                 \u001b[0;32mreturn\u001b[0m \u001b[0mf\u001b[0m\u001b[0;34m(\u001b[0m\u001b[0;34m*\u001b[0m\u001b[0margs\u001b[0m\u001b[0;34m,\u001b[0m \u001b[0;34m**\u001b[0m\u001b[0mkwargs\u001b[0m\u001b[0;34m)\u001b[0m\u001b[0;34m\u001b[0m\u001b[0;34m\u001b[0m\u001b[0m\n\u001b[0m\u001b[1;32m    108\u001b[0m             \u001b[0;32mfinally\u001b[0m\u001b[0;34m:\u001b[0m\u001b[0;34m\u001b[0m\u001b[0;34m\u001b[0m\u001b[0m\n\u001b[1;32m    109\u001b[0m                 \u001b[0mself\u001b[0m\u001b[0;34m.\u001b[0m\u001b[0misinner\u001b[0m \u001b[0;34m=\u001b[0m \u001b[0misinner\u001b[0m\u001b[0;34m\u001b[0m\u001b[0;34m\u001b[0m\u001b[0m\n",
      "\u001b[0;32m~/Documents/ml-weight-fraction/functions.py\u001b[0m in \u001b[0;36mmulti_trials\u001b[0;34m(num_trials, model_params, print_results)\u001b[0m\n\u001b[1;32m    896\u001b[0m             \u001b[0mmodel_params\u001b[0m\u001b[0;34m[\u001b[0m\u001b[0;34m'seed'\u001b[0m\u001b[0;34m]\u001b[0m \u001b[0;34m=\u001b[0m \u001b[0mseed\u001b[0m\u001b[0;34m\u001b[0m\u001b[0;34m\u001b[0m\u001b[0m\n\u001b[1;32m    897\u001b[0m             \u001b[0;31m# Apply all-in-one function that optimizes and executes model\u001b[0m\u001b[0;34m\u001b[0m\u001b[0;34m\u001b[0m\u001b[0;34m\u001b[0m\u001b[0m\n\u001b[0;32m--> 898\u001b[0;31m             \u001b[0mrs_row\u001b[0m \u001b[0;34m=\u001b[0m \u001b[0mmodel_opt_exe\u001b[0m\u001b[0;34m(\u001b[0m\u001b[0;34m**\u001b[0m\u001b[0mmodel_params\u001b[0m\u001b[0;34m)\u001b[0m\u001b[0;34m\u001b[0m\u001b[0;34m\u001b[0m\u001b[0m\n\u001b[0m\u001b[1;32m    899\u001b[0m             \u001b[0mrs\u001b[0m\u001b[0;34m.\u001b[0m\u001b[0mappend\u001b[0m\u001b[0;34m(\u001b[0m\u001b[0mrs_row\u001b[0m\u001b[0;34m)\u001b[0m\u001b[0;34m\u001b[0m\u001b[0;34m\u001b[0m\u001b[0m\n\u001b[1;32m    900\u001b[0m     \u001b[0;31m# For RFC, write accuracy and feature importance results\u001b[0m\u001b[0;34m\u001b[0m\u001b[0;34m\u001b[0m\u001b[0;34m\u001b[0m\u001b[0m\n",
      "\u001b[0;32m~/Documents/ml-weight-fraction/functions.py\u001b[0m in \u001b[0;36mwrapper\u001b[0;34m(*args, **kwargs)\u001b[0m\n\u001b[1;32m    105\u001b[0m             \u001b[0mself\u001b[0m\u001b[0;34m.\u001b[0m\u001b[0misinner\u001b[0m \u001b[0;34m=\u001b[0m \u001b[0;32mTrue\u001b[0m\u001b[0;34m\u001b[0m\u001b[0;34m\u001b[0m\u001b[0m\n\u001b[1;32m    106\u001b[0m             \u001b[0;32mtry\u001b[0m\u001b[0;34m:\u001b[0m\u001b[0;34m\u001b[0m\u001b[0;34m\u001b[0m\u001b[0m\n\u001b[0;32m--> 107\u001b[0;31m                 \u001b[0;32mreturn\u001b[0m \u001b[0mf\u001b[0m\u001b[0;34m(\u001b[0m\u001b[0;34m*\u001b[0m\u001b[0margs\u001b[0m\u001b[0;34m,\u001b[0m \u001b[0;34m**\u001b[0m\u001b[0mkwargs\u001b[0m\u001b[0;34m)\u001b[0m\u001b[0;34m\u001b[0m\u001b[0;34m\u001b[0m\u001b[0m\n\u001b[0m\u001b[1;32m    108\u001b[0m             \u001b[0;32mfinally\u001b[0m\u001b[0;34m:\u001b[0m\u001b[0;34m\u001b[0m\u001b[0;34m\u001b[0m\u001b[0m\n\u001b[1;32m    109\u001b[0m                 \u001b[0mself\u001b[0m\u001b[0;34m.\u001b[0m\u001b[0misinner\u001b[0m \u001b[0;34m=\u001b[0m \u001b[0misinner\u001b[0m\u001b[0;34m\u001b[0m\u001b[0;34m\u001b[0m\u001b[0m\n",
      "\u001b[0;32m~/Documents/ml-weight-fraction/functions.py\u001b[0m in \u001b[0;36mmodel_opt_exe\u001b[0;34m(classifier, aug_type, k, feat_data, bin_data, seed, save_fig_name, show_opt_plot, show_feat_impt, show_cnf_matrix, use_balanced_accu, param_grid)\u001b[0m\n\u001b[1;32m    786\u001b[0m                     ])    \n\u001b[1;32m    787\u001b[0m                 \u001b[0mpipe\u001b[0m\u001b[0;34m.\u001b[0m\u001b[0mfit\u001b[0m\u001b[0;34m(\u001b[0m\u001b[0mX_train\u001b[0m\u001b[0;34m,\u001b[0m \u001b[0my_train\u001b[0m\u001b[0;34m)\u001b[0m\u001b[0;34m\u001b[0m\u001b[0;34m\u001b[0m\u001b[0m\n\u001b[0;32m--> 788\u001b[0;31m                 \u001b[0mtrain_accu\u001b[0m\u001b[0;34m[\u001b[0m\u001b[0mq\u001b[0m\u001b[0;34m,\u001b[0m\u001b[0mr\u001b[0m\u001b[0;34m,\u001b[0m\u001b[0ms\u001b[0m\u001b[0;34m]\u001b[0m \u001b[0;34m=\u001b[0m \u001b[0maccuracy\u001b[0m\u001b[0;34m(\u001b[0m\u001b[0my_train\u001b[0m\u001b[0;34m,\u001b[0m \u001b[0mpipe\u001b[0m\u001b[0;34m.\u001b[0m\u001b[0mpredict\u001b[0m\u001b[0;34m(\u001b[0m\u001b[0mX_train\u001b[0m\u001b[0;34m)\u001b[0m\u001b[0;34m)\u001b[0m\u001b[0;34m\u001b[0m\u001b[0;34m\u001b[0m\u001b[0m\n\u001b[0m\u001b[1;32m    789\u001b[0m                 \u001b[0mvalid_accu\u001b[0m\u001b[0;34m[\u001b[0m\u001b[0mq\u001b[0m\u001b[0;34m,\u001b[0m\u001b[0mr\u001b[0m\u001b[0;34m,\u001b[0m\u001b[0ms\u001b[0m\u001b[0;34m]\u001b[0m \u001b[0;34m=\u001b[0m \u001b[0maccuracy\u001b[0m\u001b[0;34m(\u001b[0m\u001b[0my_valid\u001b[0m\u001b[0;34m,\u001b[0m \u001b[0mpipe\u001b[0m\u001b[0;34m.\u001b[0m\u001b[0mpredict\u001b[0m\u001b[0;34m(\u001b[0m\u001b[0mX_valid\u001b[0m\u001b[0;34m)\u001b[0m\u001b[0;34m)\u001b[0m\u001b[0;34m\u001b[0m\u001b[0;34m\u001b[0m\u001b[0m\n\u001b[1;32m    790\u001b[0m                 \u001b[0ms\u001b[0m\u001b[0;34m+=\u001b[0m\u001b[0;36m1\u001b[0m\u001b[0;34m\u001b[0m\u001b[0;34m\u001b[0m\u001b[0m\n",
      "\u001b[0;32m~/Documents/ml-weight-fraction/functions.py\u001b[0m in \u001b[0;36maccuracy\u001b[0;34m(y_true, y_predict)\u001b[0m\n\u001b[1;32m    717\u001b[0m     \u001b[0;32mdef\u001b[0m \u001b[0maccuracy\u001b[0m\u001b[0;34m(\u001b[0m\u001b[0my_true\u001b[0m\u001b[0;34m,\u001b[0m \u001b[0my_predict\u001b[0m\u001b[0;34m)\u001b[0m\u001b[0;34m:\u001b[0m\u001b[0;34m\u001b[0m\u001b[0;34m\u001b[0m\u001b[0m\n\u001b[1;32m    718\u001b[0m         \u001b[0;32mif\u001b[0m \u001b[0muse_balanced_accu\u001b[0m\u001b[0;34m:\u001b[0m\u001b[0;34m\u001b[0m\u001b[0;34m\u001b[0m\u001b[0m\n\u001b[0;32m--> 719\u001b[0;31m             \u001b[0maccu\u001b[0m \u001b[0;34m=\u001b[0m \u001b[0mbalanced_accuracy_score\u001b[0m\u001b[0;34m(\u001b[0m\u001b[0my_true\u001b[0m\u001b[0;34m,\u001b[0m \u001b[0my_predict\u001b[0m\u001b[0;34m)\u001b[0m\u001b[0;34m\u001b[0m\u001b[0;34m\u001b[0m\u001b[0m\n\u001b[0m\u001b[1;32m    720\u001b[0m         \u001b[0;32melse\u001b[0m\u001b[0;34m:\u001b[0m \u001b[0maccu\u001b[0m \u001b[0;34m=\u001b[0m \u001b[0maccuracy_score\u001b[0m\u001b[0;34m(\u001b[0m\u001b[0my_true\u001b[0m\u001b[0;34m,\u001b[0m \u001b[0my_predict\u001b[0m\u001b[0;34m)\u001b[0m\u001b[0;34m\u001b[0m\u001b[0;34m\u001b[0m\u001b[0m\n\u001b[1;32m    721\u001b[0m         \u001b[0;32mreturn\u001b[0m \u001b[0maccu\u001b[0m\u001b[0;34m\u001b[0m\u001b[0;34m\u001b[0m\u001b[0m\n",
      "\u001b[0;32m/anaconda3/lib/python3.7/site-packages/sklearn/metrics/classification.py\u001b[0m in \u001b[0;36mbalanced_accuracy_score\u001b[0;34m(y_true, y_pred, sample_weight, adjusted)\u001b[0m\n\u001b[1;32m   1431\u001b[0m \u001b[0;34m\u001b[0m\u001b[0m\n\u001b[1;32m   1432\u001b[0m     \"\"\"\n\u001b[0;32m-> 1433\u001b[0;31m     \u001b[0mC\u001b[0m \u001b[0;34m=\u001b[0m \u001b[0mconfusion_matrix\u001b[0m\u001b[0;34m(\u001b[0m\u001b[0my_true\u001b[0m\u001b[0;34m,\u001b[0m \u001b[0my_pred\u001b[0m\u001b[0;34m,\u001b[0m \u001b[0msample_weight\u001b[0m\u001b[0;34m=\u001b[0m\u001b[0msample_weight\u001b[0m\u001b[0;34m)\u001b[0m\u001b[0;34m\u001b[0m\u001b[0;34m\u001b[0m\u001b[0m\n\u001b[0m\u001b[1;32m   1434\u001b[0m     \u001b[0;32mwith\u001b[0m \u001b[0mnp\u001b[0m\u001b[0;34m.\u001b[0m\u001b[0merrstate\u001b[0m\u001b[0;34m(\u001b[0m\u001b[0mdivide\u001b[0m\u001b[0;34m=\u001b[0m\u001b[0;34m'ignore'\u001b[0m\u001b[0;34m,\u001b[0m \u001b[0minvalid\u001b[0m\u001b[0;34m=\u001b[0m\u001b[0;34m'ignore'\u001b[0m\u001b[0;34m)\u001b[0m\u001b[0;34m:\u001b[0m\u001b[0;34m\u001b[0m\u001b[0;34m\u001b[0m\u001b[0m\n\u001b[1;32m   1435\u001b[0m         \u001b[0mper_class\u001b[0m \u001b[0;34m=\u001b[0m \u001b[0mnp\u001b[0m\u001b[0;34m.\u001b[0m\u001b[0mdiag\u001b[0m\u001b[0;34m(\u001b[0m\u001b[0mC\u001b[0m\u001b[0;34m)\u001b[0m \u001b[0;34m/\u001b[0m \u001b[0mC\u001b[0m\u001b[0;34m.\u001b[0m\u001b[0msum\u001b[0m\u001b[0;34m(\u001b[0m\u001b[0maxis\u001b[0m\u001b[0;34m=\u001b[0m\u001b[0;36m1\u001b[0m\u001b[0;34m)\u001b[0m\u001b[0;34m\u001b[0m\u001b[0;34m\u001b[0m\u001b[0m\n",
      "\u001b[0;32m/anaconda3/lib/python3.7/site-packages/sklearn/metrics/classification.py\u001b[0m in \u001b[0;36mconfusion_matrix\u001b[0;34m(y_true, y_pred, labels, sample_weight)\u001b[0m\n\u001b[1;32m    256\u001b[0m \u001b[0;34m\u001b[0m\u001b[0m\n\u001b[1;32m    257\u001b[0m     \u001b[0;32mif\u001b[0m \u001b[0mlabels\u001b[0m \u001b[0;32mis\u001b[0m \u001b[0;32mNone\u001b[0m\u001b[0;34m:\u001b[0m\u001b[0;34m\u001b[0m\u001b[0;34m\u001b[0m\u001b[0m\n\u001b[0;32m--> 258\u001b[0;31m         \u001b[0mlabels\u001b[0m \u001b[0;34m=\u001b[0m \u001b[0munique_labels\u001b[0m\u001b[0;34m(\u001b[0m\u001b[0my_true\u001b[0m\u001b[0;34m,\u001b[0m \u001b[0my_pred\u001b[0m\u001b[0;34m)\u001b[0m\u001b[0;34m\u001b[0m\u001b[0;34m\u001b[0m\u001b[0m\n\u001b[0m\u001b[1;32m    259\u001b[0m     \u001b[0;32melse\u001b[0m\u001b[0;34m:\u001b[0m\u001b[0;34m\u001b[0m\u001b[0;34m\u001b[0m\u001b[0m\n\u001b[1;32m    260\u001b[0m         \u001b[0mlabels\u001b[0m \u001b[0;34m=\u001b[0m \u001b[0mnp\u001b[0m\u001b[0;34m.\u001b[0m\u001b[0masarray\u001b[0m\u001b[0;34m(\u001b[0m\u001b[0mlabels\u001b[0m\u001b[0;34m)\u001b[0m\u001b[0;34m\u001b[0m\u001b[0;34m\u001b[0m\u001b[0m\n",
      "\u001b[0;32m/anaconda3/lib/python3.7/site-packages/sklearn/utils/multiclass.py\u001b[0m in \u001b[0;36munique_labels\u001b[0;34m(*ys)\u001b[0m\n\u001b[1;32m     96\u001b[0m         \u001b[0;32mraise\u001b[0m \u001b[0mValueError\u001b[0m\u001b[0;34m(\u001b[0m\u001b[0;34m\"Unknown label type: %s\"\u001b[0m \u001b[0;34m%\u001b[0m \u001b[0mrepr\u001b[0m\u001b[0;34m(\u001b[0m\u001b[0mys\u001b[0m\u001b[0;34m)\u001b[0m\u001b[0;34m)\u001b[0m\u001b[0;34m\u001b[0m\u001b[0;34m\u001b[0m\u001b[0m\n\u001b[1;32m     97\u001b[0m \u001b[0;34m\u001b[0m\u001b[0m\n\u001b[0;32m---> 98\u001b[0;31m     \u001b[0mys_labels\u001b[0m \u001b[0;34m=\u001b[0m \u001b[0mset\u001b[0m\u001b[0;34m(\u001b[0m\u001b[0mchain\u001b[0m\u001b[0;34m.\u001b[0m\u001b[0mfrom_iterable\u001b[0m\u001b[0;34m(\u001b[0m\u001b[0m_unique_labels\u001b[0m\u001b[0;34m(\u001b[0m\u001b[0my\u001b[0m\u001b[0;34m)\u001b[0m \u001b[0;32mfor\u001b[0m \u001b[0my\u001b[0m \u001b[0;32min\u001b[0m \u001b[0mys\u001b[0m\u001b[0;34m)\u001b[0m\u001b[0;34m)\u001b[0m\u001b[0;34m\u001b[0m\u001b[0;34m\u001b[0m\u001b[0m\n\u001b[0m\u001b[1;32m     99\u001b[0m \u001b[0;34m\u001b[0m\u001b[0m\n\u001b[1;32m    100\u001b[0m     \u001b[0;31m# Check that we don't mix string type with number type\u001b[0m\u001b[0;34m\u001b[0m\u001b[0;34m\u001b[0m\u001b[0;34m\u001b[0m\u001b[0m\n",
      "\u001b[0;32m/anaconda3/lib/python3.7/site-packages/sklearn/utils/multiclass.py\u001b[0m in \u001b[0;36m<genexpr>\u001b[0;34m(.0)\u001b[0m\n\u001b[1;32m     96\u001b[0m         \u001b[0;32mraise\u001b[0m \u001b[0mValueError\u001b[0m\u001b[0;34m(\u001b[0m\u001b[0;34m\"Unknown label type: %s\"\u001b[0m \u001b[0;34m%\u001b[0m \u001b[0mrepr\u001b[0m\u001b[0;34m(\u001b[0m\u001b[0mys\u001b[0m\u001b[0;34m)\u001b[0m\u001b[0;34m)\u001b[0m\u001b[0;34m\u001b[0m\u001b[0;34m\u001b[0m\u001b[0m\n\u001b[1;32m     97\u001b[0m \u001b[0;34m\u001b[0m\u001b[0m\n\u001b[0;32m---> 98\u001b[0;31m     \u001b[0mys_labels\u001b[0m \u001b[0;34m=\u001b[0m \u001b[0mset\u001b[0m\u001b[0;34m(\u001b[0m\u001b[0mchain\u001b[0m\u001b[0;34m.\u001b[0m\u001b[0mfrom_iterable\u001b[0m\u001b[0;34m(\u001b[0m\u001b[0m_unique_labels\u001b[0m\u001b[0;34m(\u001b[0m\u001b[0my\u001b[0m\u001b[0;34m)\u001b[0m \u001b[0;32mfor\u001b[0m \u001b[0my\u001b[0m \u001b[0;32min\u001b[0m \u001b[0mys\u001b[0m\u001b[0;34m)\u001b[0m\u001b[0;34m)\u001b[0m\u001b[0;34m\u001b[0m\u001b[0;34m\u001b[0m\u001b[0m\n\u001b[0m\u001b[1;32m     99\u001b[0m \u001b[0;34m\u001b[0m\u001b[0m\n\u001b[1;32m    100\u001b[0m     \u001b[0;31m# Check that we don't mix string type with number type\u001b[0m\u001b[0;34m\u001b[0m\u001b[0;34m\u001b[0m\u001b[0;34m\u001b[0m\u001b[0m\n",
      "\u001b[0;31mKeyboardInterrupt\u001b[0m: "
     ]
    }
   ],
   "source": [
    "model_params = {'classifier': 'svc', \n",
    "                'aug_type': 'none', \n",
    "                'k': 0, \n",
    "                'feat_data': X_enm.iloc[:,3:16], \n",
    "                'bin_data': bin_enm, \n",
    "                'param_grid': {'estimator__C': np.logspace(-1,7,17), \n",
    "                               'estimator__gamma': np.logspace(-7,1,17)}\n",
    "               }\n",
    "mu_func, sigma_func = blt.multi_trials(num_trials=30, \n",
    "                                       model_params=model_params)"
   ]
  },
  {
   "cell_type": "code",
   "execution_count": 85,
   "metadata": {
    "ExecuteTime": {
     "end_time": "2019-12-19T15:40:04.744760Z",
     "start_time": "2019-12-19T15:40:04.736565Z"
    }
   },
   "outputs": [
    {
     "data": {
      "text/plain": [
       "[0, 1, 2, 3, 4, 5, 6, 7, 8, 9, 10, 11, 12, 13, 14, 15, 32, 33, 34]"
      ]
     },
     "execution_count": 85,
     "metadata": {},
     "output_type": "execute_result"
    }
   ],
   "source": [
    "# Get column indices excluding those of PUCs\n",
    "counting = np.arange(0,35)\n",
    "lst = list(counting[:16]) + list(counting[-3:])\n",
    "lst"
   ]
  },
  {
   "cell_type": "code",
   "execution_count": 86,
   "metadata": {
    "ExecuteTime": {
     "end_time": "2019-12-19T15:49:57.221811Z",
     "start_time": "2019-12-19T15:40:13.825277Z"
    }
   },
   "outputs": [
    {
     "name": "stdout",
     "output_type": "stream",
     "text": [
      "Avg accuracy:     0.724\n",
      "Median accuracy:  0.724\n",
      "StdDev accuracy:  0.012\n",
      "Numer of trials:  30\n"
     ]
    },
    {
     "data": {
      "text/html": [
       "\n",
       "                <audio controls=\"controls\" autoplay=\"autoplay\">\n",
       "                    <source src=\"./data/ping.wav\" type=\"audio/x-wav\" />\n",
       "                    Your browser does not support the audio element.\n",
       "                </audio>\n",
       "              "
      ],
      "text/plain": [
       "<IPython.lib.display.Audio object>"
      ]
     },
     "metadata": {},
     "output_type": "display_data"
    }
   ],
   "source": [
    "# Model excluding all product use categories\n",
    "model_params = {'classifier': 'svc', \n",
    "                'aug_type': 'none', \n",
    "                'k': 0, \n",
    "                'feat_data': X_enm.iloc[:,lst], \n",
    "                'bin_data': bin_enm, \n",
    "                'param_grid': {'estimator__C': np.logspace(-1,7,17), \n",
    "                               'estimator__gamma': np.logspace(-7,1,17)}\n",
    "               }\n",
    "mu_func, sigma_func = blt.multi_trials(num_trials=30, \n",
    "                                       model_params=model_params)"
   ]
  },
  {
   "cell_type": "code",
   "execution_count": 87,
   "metadata": {
    "ExecuteTime": {
     "end_time": "2019-12-19T15:49:57.227475Z",
     "start_time": "2019-12-19T15:49:57.223912Z"
    }
   },
   "outputs": [],
   "source": [
    "# Get column indices excluding those of PUCs and matrix properties\n",
    "lst2 = list(counting[:16])"
   ]
  },
  {
   "cell_type": "code",
   "execution_count": 88,
   "metadata": {
    "ExecuteTime": {
     "end_time": "2019-12-19T18:13:01.967958Z",
     "start_time": "2019-12-19T15:49:57.230082Z"
    }
   },
   "outputs": [
    {
     "name": "stdout",
     "output_type": "stream",
     "text": [
      "Avg accuracy:     0.634\n",
      "Median accuracy:  0.635\n",
      "StdDev accuracy:  0.01\n",
      "Numer of trials:  30\n"
     ]
    },
    {
     "data": {
      "text/html": [
       "\n",
       "                <audio controls=\"controls\" autoplay=\"autoplay\">\n",
       "                    <source src=\"./data/ping.wav\" type=\"audio/x-wav\" />\n",
       "                    Your browser does not support the audio element.\n",
       "                </audio>\n",
       "              "
      ],
      "text/plain": [
       "<IPython.lib.display.Audio object>"
      ]
     },
     "metadata": {},
     "output_type": "display_data"
    }
   ],
   "source": [
    "# Model exclusing all product use categories\n",
    "model_params = {'classifier': 'svc', \n",
    "                'aug_type': 'none', \n",
    "                'k': 0, \n",
    "                'feat_data': X_enm.iloc[:,lst2], \n",
    "                'bin_data': bin_enm, \n",
    "                'param_grid': {'estimator__C': np.logspace(-1,7,17), \n",
    "                               'estimator__gamma': np.logspace(-7,1,17)}\n",
    "               }\n",
    "mu_func, sigma_func = blt.multi_trials(num_trials=30, \n",
    "                                       model_params=model_params)"
   ]
  },
  {
   "cell_type": "markdown",
   "metadata": {},
   "source": [
    "##### PUC-only"
   ]
  },
  {
   "cell_type": "code",
   "execution_count": 56,
   "metadata": {
    "ExecuteTime": {
     "end_time": "2019-07-23T07:29:07.464316Z",
     "start_time": "2019-07-23T07:29:01.524113Z"
    }
   },
   "outputs": [
    {
     "data": {
      "image/png": "[encoded data removed]",
      "text/plain": [
       "<Figure size 432x288 with 2 Axes>"
      ]
     },
     "metadata": {
      "needs_background": "light"
     },
     "output_type": "display_data"
    },
    {
     "name": "stdout",
     "output_type": "stream",
     "text": [
      "Random state:\t 69\n",
      "Best parameters: {'C': 1.0, 'gamma': 1.0}\n",
      "Max opt. balanced accuracy: 0.600\n",
      "Avg. balanced accuracy:     0.576\n",
      "Normalized Confusion Matrix\n",
      "[[0.75 0.06 0.19]\n",
      " [0.34 0.45 0.21]\n",
      " [0.29 0.18 0.53]]\n"
     ]
    },
    {
     "data": {
      "text/html": [
       "\n",
       "                <audio controls=\"controls\" autoplay=\"autoplay\">\n",
       "                    <source src=\"./data/ping.wav\" type=\"audio/x-wav\" />\n",
       "                    Your browser does not support the audio element.\n",
       "                </audio>\n",
       "              "
      ],
      "text/plain": [
       "<IPython.lib.display.Audio object>"
      ]
     },
     "metadata": {},
     "output_type": "display_data"
    },
    {
     "data": {
      "text/plain": [
       "0.575895875591616"
      ]
     },
     "execution_count": 56,
     "metadata": {},
     "output_type": "execute_result"
    }
   ],
   "source": [
    "# All product use categories\n",
    "blt.model_opt_exe(classifier='svc', \n",
    "                  aug_type='none', \n",
    "                  k=0, \n",
    "                  feat_data=X_enm.iloc[:,16:-3], \n",
    "                  bin_data=bin_enm, \n",
    "                  seed=69, \n",
    "                  save_fig_name='enm_only_puc', \n",
    "                  show_opt_plot=True, \n",
    "                  param_grid=param_grid)"
   ]
  },
  {
   "cell_type": "markdown",
   "metadata": {},
   "source": [
    "##### Pchem-properties-only"
   ]
  },
  {
   "cell_type": "code",
   "execution_count": 60,
   "metadata": {
    "ExecuteTime": {
     "end_time": "2019-07-23T07:32:43.323123Z",
     "start_time": "2019-07-23T07:32:35.858010Z"
    }
   },
   "outputs": [
    {
     "data": {
      "image/png": "[encoded data removed]",
      "text/plain": [
       "<Figure size 432x288 with 2 Axes>"
      ]
     },
     "metadata": {
      "needs_background": "light"
     },
     "output_type": "display_data"
    },
    {
     "name": "stdout",
     "output_type": "stream",
     "text": [
      "Random state:\t 69\n",
      "Best parameters: {'C': 1.0, 'gamma': 10.0}\n",
      "Max opt. balanced accuracy: 0.608\n",
      "Avg. balanced accuracy:     0.614\n",
      "Normalized Confusion Matrix\n",
      "[[0.86 0.06 0.08]\n",
      " [0.45 0.28 0.28]\n",
      " [0.18 0.12 0.71]]\n"
     ]
    },
    {
     "data": {
      "text/html": [
       "\n",
       "                <audio controls=\"controls\" autoplay=\"autoplay\">\n",
       "                    <source src=\"./data/ping.wav\" type=\"audio/x-wav\" />\n",
       "                    Your browser does not support the audio element.\n",
       "                </audio>\n",
       "              "
      ],
      "text/plain": [
       "<IPython.lib.display.Audio object>"
      ]
     },
     "metadata": {},
     "output_type": "display_data"
    },
    {
     "data": {
      "text/plain": [
       "0.6142851776726017"
      ]
     },
     "execution_count": 60,
     "metadata": {},
     "output_type": "execute_result"
    }
   ],
   "source": [
    "blt.model_opt_exe(classifier='svc', \n",
    "                  aug_type='none', \n",
    "                  k=0, \n",
    "                  feat_data=X_enm.iloc[:,:4], \n",
    "                  bin_data=bin_enm,\n",
    "                  seed=69, \n",
    "                  save_fig_name='enm_only_pchem',\n",
    "                  show_opt_plot=True, \n",
    "                  param_grid=param_grid)"
   ]
  },
  {
   "cell_type": "markdown",
   "metadata": {},
   "source": [
    "##### Matrix-properties-only"
   ]
  },
  {
   "cell_type": "code",
   "execution_count": 61,
   "metadata": {
    "ExecuteTime": {
     "end_time": "2019-07-23T07:33:22.550216Z",
     "start_time": "2019-07-23T07:33:17.280887Z"
    }
   },
   "outputs": [
    {
     "data": {
      "image/png": "[encoded data removed]",
      "text/plain": [
       "<Figure size 432x288 with 2 Axes>"
      ]
     },
     "metadata": {
      "needs_background": "light"
     },
     "output_type": "display_data"
    },
    {
     "name": "stdout",
     "output_type": "stream",
     "text": [
      "Random state:\t 69\n",
      "Best parameters: {'C': 0.31622776601683794, 'gamma': 1.0}\n",
      "Max opt. balanced accuracy: 0.444\n",
      "Avg. balanced accuracy:     0.479\n",
      "Normalized Confusion Matrix\n",
      "[[0.5  0.14 0.36]\n",
      " [0.24 0.17 0.59]\n",
      " [0.18 0.06 0.76]]\n"
     ]
    },
    {
     "data": {
      "text/html": [
       "\n",
       "                <audio controls=\"controls\" autoplay=\"autoplay\">\n",
       "                    <source src=\"./data/ping.wav\" type=\"audio/x-wav\" />\n",
       "                    Your browser does not support the audio element.\n",
       "                </audio>\n",
       "              "
      ],
      "text/plain": [
       "<IPython.lib.display.Audio object>"
      ]
     },
     "metadata": {},
     "output_type": "display_data"
    },
    {
     "data": {
      "text/plain": [
       "0.4790398918187965"
      ]
     },
     "execution_count": 61,
     "metadata": {},
     "output_type": "execute_result"
    }
   ],
   "source": [
    "blt.model_opt_exe(classifier='svc', \n",
    "                  aug_type='none', \n",
    "                  k=0, \n",
    "                  feat_data=X_enm.iloc[:,36:], \n",
    "                  bin_data=bin_enm,\n",
    "                  seed=69, \n",
    "                  save_fig_name='enm_only_matrix',\n",
    "                  show_opt_plot=True,\n",
    "                  param_grid=param_grid)"
   ]
  },
  {
   "cell_type": "markdown",
   "metadata": {},
   "source": [
    "## Organics-only"
   ]
  },
  {
   "cell_type": "code",
   "execution_count": 122,
   "metadata": {
    "ExecuteTime": {
     "end_time": "2019-07-28T11:50:18.729710Z",
     "start_time": "2019-07-23T14:13:43.046559Z"
    }
   },
   "outputs": [
    {
     "data": {
      "image/png": "[encoded data removed]",
      "text/plain": [
       "<Figure size 432x288 with 2 Axes>"
      ]
     },
     "metadata": {
      "needs_background": "light"
     },
     "output_type": "display_data"
    },
    {
     "name": "stdout",
     "output_type": "stream",
     "text": [
      "Random state:\t 65\n",
      "Best parameters: {'C': 1000.0, 'gamma': 1.0}\n",
      "Max opt. balanced accuracy: 0.808\n",
      "Avg. balanced accuracy:     0.807\n",
      "Normalized Confusion Matrix\n",
      "[[0.87 0.11 0.02]\n",
      " [0.12 0.72 0.17]\n",
      " [0.02 0.14 0.84]]\n"
     ]
    },
    {
     "data": {
      "text/plain": [
       "0.807498632512841"
      ]
     },
     "execution_count": 122,
     "metadata": {},
     "output_type": "execute_result"
    }
   ],
   "source": [
    "# Run model_opt_exe on clustered organics-only data\n",
    "param_grid = {'estimator__C': np.logspace(-1,7,9), \n",
    "              'estimator__gamma': np.logspace(-7,1,9)\n",
    "             }\n",
    "blt.model_opt_exe(classifier='svc', \n",
    "                  aug_type='none', \n",
    "                  k=0, \n",
    "                  feat_data=X_source, \n",
    "                  bin_data=bin_source, \n",
    "                  show_opt_plot=True, param_grid=param_grid)"
   ]
  },
  {
   "cell_type": "code",
   "execution_count": 45,
   "metadata": {
    "ExecuteTime": {
     "end_time": "2019-09-26T19:37:50.104891Z",
     "start_time": "2019-09-26T11:02:07.430257Z"
    }
   },
   "outputs": [
    {
     "data": {
      "text/html": [
       "\n",
       "                <audio controls=\"controls\" autoplay=\"autoplay\">\n",
       "                    <source src=\"./data/ping.wav\" type=\"audio/x-wav\" />\n",
       "                    Your browser does not support the audio element.\n",
       "                </audio>\n",
       "              "
      ],
      "text/plain": [
       "<IPython.lib.display.Audio object>"
      ]
     },
     "metadata": {},
     "output_type": "display_data"
    },
    {
     "data": {
      "text/html": [
       "\n",
       "                <audio controls=\"controls\" autoplay=\"autoplay\">\n",
       "                    <source src=\"./data/ping.wav\" type=\"audio/x-wav\" />\n",
       "                    Your browser does not support the audio element.\n",
       "                </audio>\n",
       "              "
      ],
      "text/plain": [
       "<IPython.lib.display.Audio object>"
      ]
     },
     "metadata": {},
     "output_type": "display_data"
    },
    {
     "data": {
      "text/html": [
       "\n",
       "                <audio controls=\"controls\" autoplay=\"autoplay\">\n",
       "                    <source src=\"./data/ping.wav\" type=\"audio/x-wav\" />\n",
       "                    Your browser does not support the audio element.\n",
       "                </audio>\n",
       "              "
      ],
      "text/plain": [
       "<IPython.lib.display.Audio object>"
      ]
     },
     "metadata": {},
     "output_type": "display_data"
    },
    {
     "data": {
      "text/html": [
       "\n",
       "                <audio controls=\"controls\" autoplay=\"autoplay\">\n",
       "                    <source src=\"./data/ping.wav\" type=\"audio/x-wav\" />\n",
       "                    Your browser does not support the audio element.\n",
       "                </audio>\n",
       "              "
      ],
      "text/plain": [
       "<IPython.lib.display.Audio object>"
      ]
     },
     "metadata": {},
     "output_type": "display_data"
    },
    {
     "data": {
      "text/html": [
       "\n",
       "                <audio controls=\"controls\" autoplay=\"autoplay\">\n",
       "                    <source src=\"./data/ping.wav\" type=\"audio/x-wav\" />\n",
       "                    Your browser does not support the audio element.\n",
       "                </audio>\n",
       "              "
      ],
      "text/plain": [
       "<IPython.lib.display.Audio object>"
      ]
     },
     "metadata": {},
     "output_type": "display_data"
    },
    {
     "data": {
      "text/html": [
       "\n",
       "                <audio controls=\"controls\" autoplay=\"autoplay\">\n",
       "                    <source src=\"./data/ping.wav\" type=\"audio/x-wav\" />\n",
       "                    Your browser does not support the audio element.\n",
       "                </audio>\n",
       "              "
      ],
      "text/plain": [
       "<IPython.lib.display.Audio object>"
      ]
     },
     "metadata": {},
     "output_type": "display_data"
    },
    {
     "data": {
      "text/html": [
       "\n",
       "                <audio controls=\"controls\" autoplay=\"autoplay\">\n",
       "                    <source src=\"./data/ping.wav\" type=\"audio/x-wav\" />\n",
       "                    Your browser does not support the audio element.\n",
       "                </audio>\n",
       "              "
      ],
      "text/plain": [
       "<IPython.lib.display.Audio object>"
      ]
     },
     "metadata": {},
     "output_type": "display_data"
    },
    {
     "data": {
      "text/html": [
       "\n",
       "                <audio controls=\"controls\" autoplay=\"autoplay\">\n",
       "                    <source src=\"./data/ping.wav\" type=\"audio/x-wav\" />\n",
       "                    Your browser does not support the audio element.\n",
       "                </audio>\n",
       "              "
      ],
      "text/plain": [
       "<IPython.lib.display.Audio object>"
      ]
     },
     "metadata": {},
     "output_type": "display_data"
    },
    {
     "data": {
      "text/html": [
       "\n",
       "                <audio controls=\"controls\" autoplay=\"autoplay\">\n",
       "                    <source src=\"./data/ping.wav\" type=\"audio/x-wav\" />\n",
       "                    Your browser does not support the audio element.\n",
       "                </audio>\n",
       "              "
      ],
      "text/plain": [
       "<IPython.lib.display.Audio object>"
      ]
     },
     "metadata": {},
     "output_type": "display_data"
    },
    {
     "data": {
      "text/html": [
       "\n",
       "                <audio controls=\"controls\" autoplay=\"autoplay\">\n",
       "                    <source src=\"./data/ping.wav\" type=\"audio/x-wav\" />\n",
       "                    Your browser does not support the audio element.\n",
       "                </audio>\n",
       "              "
      ],
      "text/plain": [
       "<IPython.lib.display.Audio object>"
      ]
     },
     "metadata": {},
     "output_type": "display_data"
    },
    {
     "name": "stdout",
     "output_type": "stream",
     "text": [
      "Avg accuracy:     0.6284295249312917\n",
      "StdDev accuracy:  0.048662406675545285\n",
      "Numer of trials:  10\n",
      "Results:  [0.67 0.65 0.71 0.71 0.62 0.59 0.6  0.58 0.58 0.58]\n"
     ]
    }
   ],
   "source": [
    "# TODO: why does this error?\n",
    "# Run randomly sampled organics data (equivalent of ENM:organics ratio of 1:10)\n",
    "# over multiple trials\n",
    "from sklearn.model_selection import train_test_split\n",
    "\n",
    "num_trials = 10\n",
    "seed_set = np.random.choice(np.arange(0,100), size=num_trials, replace=False)\n",
    "param_grid = {'estimator__C': np.logspace(-1,7,9), \n",
    "              'estimator__gamma': np.logspace(-7,1,9)\n",
    "             }\n",
    "\n",
    "results_trial = np.empty(seed_set.size)\n",
    "for idx, s in enumerate(seed_set):\n",
    "    with blt.HiddenPrints():\n",
    "        # Randomly sample organics data using stratification\n",
    "        X_dud, X_10, y_dud, bin_10 = train_test_split(X_source, \n",
    "                                                      bin_source, \n",
    "                                                      test_size=902, \n",
    "                                                      random_state=s, \n",
    "                                                      shuffle=True, \n",
    "                                                      stratify=bin_source)\n",
    "        # Run model pipeline on sampled data\n",
    "        results_trial[idx] = blt.model_opt_exe(classifier='svc', \n",
    "                                               aug_type='none', \n",
    "                                               k=0, \n",
    "                                               feat_data=X_10, \n",
    "                                               bin_data=bin_10, \n",
    "                                               param_grid=param_grid)\n",
    "\n",
    "print(\"Avg accuracy:    \", results_trial.mean())\n",
    "print(\"StdDev accuracy: \", results_trial.std())\n",
    "print(\"Numer of trials: \", num_trials)\n",
    "print(\"Results: \", results_trial)"
   ]
  },
  {
   "cell_type": "code",
   "execution_count": 130,
   "metadata": {
    "ExecuteTime": {
     "end_time": "2019-07-31T20:10:05.443896Z",
     "start_time": "2019-07-31T19:56:51.274843Z"
    }
   },
   "outputs": [
    {
     "name": "stdout",
     "output_type": "stream",
     "text": [
      "Avg accuracy:     0.6756017665467521\n",
      "StdDev accuracy:  0.016452773436738944\n",
      "Numer of trials:  3\n",
      "Results:  [0.65 0.69 0.68]\n"
     ]
    }
   ],
   "source": [
    "# TODO: why does this error?\n",
    "# Run randomly sampled organics data (equivalent of ENM:organics ratio of 1:10)\n",
    "# over multiple trials\n",
    "from sklearn.model_selection import train_test_split\n",
    "\n",
    "num_trials = 3\n",
    "seed_set = np.random.choice(np.arange(0,100), size=num_trials, replace=False)\n",
    "param_grid = {'estimator__C': np.logspace(-1,7,9), \n",
    "              'estimator__gamma': np.logspace(-7,1,9)\n",
    "             }\n",
    "\n",
    "results_trial = np.empty(seed_set.size)\n",
    "for idx, s in enumerate(seed_set):\n",
    "    with blt.HiddenPrints():\n",
    "        # Randomly sample organics data using stratification\n",
    "        X_dud, X_10, y_dud, bin_10 = train_test_split(X_source, \n",
    "                                                      bin_source, \n",
    "                                                      test_size=902, \n",
    "                                                      random_state=s, \n",
    "                                                      shuffle=True, \n",
    "                                                      stratify=bin_source)\n",
    "        # Run model pipeline on sampled data\n",
    "        results_trial[idx] = blt.model_opt_exe(classifier='svc', \n",
    "                                               aug_type='none', \n",
    "                                               k=0, \n",
    "                                               feat_data=X_10, \n",
    "                                               bin_data=bin_10, \n",
    "                                               param_grid=param_grid)\n",
    "\n",
    "print(\"Avg accuracy:    \", results_trial.mean())\n",
    "print(\"StdDev accuracy: \", results_trial.std())\n",
    "print(\"Numer of trials: \", num_trials)\n",
    "print(\"Results: \", results_trial)"
   ]
  },
  {
   "cell_type": "markdown",
   "metadata": {},
   "source": [
    "## Randomly augmented data\n",
    "The remaining models use augmented training data."
   ]
  },
  {
   "cell_type": "code",
   "execution_count": 59,
   "metadata": {
    "ExecuteTime": {
     "end_time": "2019-09-27T06:44:34.798799Z",
     "start_time": "2019-09-27T06:26:05.551098Z"
    }
   },
   "outputs": [
    {
     "name": "stdout",
     "output_type": "stream",
     "text": [
      "Avg accuracy:     0.714\n",
      "Median accuracy:  0.715\n",
      "StdDev accuracy:  0.014\n",
      "Numer of trials:  30\n"
     ]
    },
    {
     "data": {
      "text/html": [
       "\n",
       "                <audio controls=\"controls\" autoplay=\"autoplay\">\n",
       "                    <source src=\"./data/ping.wav\" type=\"audio/x-wav\" />\n",
       "                    Your browser does not support the audio element.\n",
       "                </audio>\n",
       "              "
      ],
      "text/plain": [
       "<IPython.lib.display.Audio object>"
      ]
     },
     "metadata": {},
     "output_type": "display_data"
    }
   ],
   "source": [
    "# 1:1 ENM:Organics ratio\n",
    "model_params = {'classifier': 'svc', \n",
    "                'aug_type': 'random', \n",
    "                'k': 1, \n",
    "                'feat_data': X_enm, \n",
    "                'bin_data': bin_enm, \n",
    "                'param_grid': {'estimator__C': np.logspace(-1,7,9), \n",
    "                               'estimator__gamma': np.logspace(-7,1,9)}\n",
    "               }\n",
    "results_svc.iloc[2,1:3] = blt.multi_trials(num_trials=30, \n",
    "                                           model_params=model_params)"
   ]
  },
  {
   "cell_type": "code",
   "execution_count": 14,
   "metadata": {
    "ExecuteTime": {
     "end_time": "2019-10-19T22:32:11.785486Z",
     "start_time": "2019-10-19T21:47:58.839604Z"
    }
   },
   "outputs": [
    {
     "name": "stdout",
     "output_type": "stream",
     "text": [
      "Avg accuracy:     0.716\n",
      "Median accuracy:  0.715\n",
      "StdDev accuracy:  0.012\n",
      "Numer of trials:  30\n"
     ]
    },
    {
     "data": {
      "text/html": [
       "\n",
       "                <audio controls=\"controls\" autoplay=\"autoplay\">\n",
       "                    <source src=\"./data/ping.wav\" type=\"audio/x-wav\" />\n",
       "                    Your browser does not support the audio element.\n",
       "                </audio>\n",
       "              "
      ],
      "text/plain": [
       "<IPython.lib.display.Audio object>"
      ]
     },
     "metadata": {},
     "output_type": "display_data"
    }
   ],
   "source": [
    "# 1:2 ENM:Organics ratio\n",
    "model_params = {'classifier': 'svc', \n",
    "                'aug_type': 'random', \n",
    "                'k': 2,\n",
    "                'feat_data': X_enm, \n",
    "                'bin_data': bin_enm, \n",
    "                'param_grid': {'estimator__C': np.logspace(-1,7,9), \n",
    "                               'estimator__gamma': np.logspace(-7,1,9)}\n",
    "               }\n",
    "results_svc.iloc[3,1:3] = blt.multi_trials(num_trials=30, \n",
    "                                           model_params=model_params)"
   ]
  },
  {
   "cell_type": "code",
   "execution_count": 176,
   "metadata": {
    "ExecuteTime": {
     "end_time": "2019-10-01T07:10:32.954478Z",
     "start_time": "2019-10-01T05:46:54.885997Z"
    }
   },
   "outputs": [
    {
     "name": "stdout",
     "output_type": "stream",
     "text": [
      "Avg accuracy:     0.716\n",
      "Median accuracy:  0.715\n",
      "StdDev accuracy:  0.016\n",
      "Numer of trials:  30\n"
     ]
    },
    {
     "data": {
      "text/html": [
       "\n",
       "                <audio controls=\"controls\" autoplay=\"autoplay\">\n",
       "                    <source src=\"./data/ping.wav\" type=\"audio/x-wav\" />\n",
       "                    Your browser does not support the audio element.\n",
       "                </audio>\n",
       "              "
      ],
      "text/plain": [
       "<IPython.lib.display.Audio object>"
      ]
     },
     "metadata": {},
     "output_type": "display_data"
    }
   ],
   "source": [
    "# 1:3 ENM:Organics ratio\n",
    "model_params = {'classifier': 'svc', \n",
    "                'aug_type': 'random', \n",
    "                'k': 3, \n",
    "                'feat_data': X_enm, \n",
    "                'bin_data': bin_enm, \n",
    "                'param_grid': {'estimator__C': np.logspace(-1,7,9), \n",
    "                               'estimator__gamma': np.logspace(-7,1,9)}\n",
    "               }\n",
    "results_svc.iloc[4,1:3] = blt.multi_trials(num_trials=30, \n",
    "                                           model_params=model_params)"
   ]
  },
  {
   "cell_type": "code",
   "execution_count": 177,
   "metadata": {
    "ExecuteTime": {
     "end_time": "2019-10-01T10:44:27.509311Z",
     "start_time": "2019-10-01T07:10:32.957047Z"
    }
   },
   "outputs": [
    {
     "name": "stdout",
     "output_type": "stream",
     "text": [
      "Avg accuracy:     0.72\n",
      "Median accuracy:  0.72\n",
      "StdDev accuracy:  0.014\n",
      "Numer of trials:  30\n"
     ]
    },
    {
     "data": {
      "text/html": [
       "\n",
       "                <audio controls=\"controls\" autoplay=\"autoplay\">\n",
       "                    <source src=\"./data/ping.wav\" type=\"audio/x-wav\" />\n",
       "                    Your browser does not support the audio element.\n",
       "                </audio>\n",
       "              "
      ],
      "text/plain": [
       "<IPython.lib.display.Audio object>"
      ]
     },
     "metadata": {},
     "output_type": "display_data"
    }
   ],
   "source": [
    "# 1:4 ENM:Organics ratio\n",
    "model_params = {'classifier': 'svc', \n",
    "                'aug_type': 'random', \n",
    "                'k': 4, \n",
    "                'feat_data': X_enm, \n",
    "                'bin_data': bin_enm, \n",
    "                'param_grid': {'estimator__C': np.logspace(-1,7,9), \n",
    "                               'estimator__gamma': np.logspace(-7,1,9)}\n",
    "               }\n",
    "results_svc.iloc[5,1:3] = blt.multi_trials(num_trials=30, \n",
    "                                           model_params=model_params)"
   ]
  },
  {
   "cell_type": "code",
   "execution_count": 203,
   "metadata": {
    "ExecuteTime": {
     "end_time": "2019-10-06T20:53:44.560577Z",
     "start_time": "2019-10-04T20:26:31.048375Z"
    }
   },
   "outputs": [
    {
     "name": "stdout",
     "output_type": "stream",
     "text": [
      "Avg accuracy:     0.716\n",
      "Median accuracy:  0.716\n",
      "StdDev accuracy:  0.014\n",
      "Numer of trials:  30\n"
     ]
    },
    {
     "data": {
      "text/html": [
       "\n",
       "                <audio controls=\"controls\" autoplay=\"autoplay\">\n",
       "                    <source src=\"./data/ping.wav\" type=\"audio/x-wav\" />\n",
       "                    Your browser does not support the audio element.\n",
       "                </audio>\n",
       "              "
      ],
      "text/plain": [
       "<IPython.lib.display.Audio object>"
      ]
     },
     "metadata": {},
     "output_type": "display_data"
    }
   ],
   "source": [
    "# 1:5 ENM:Organics ratio\n",
    "model_params = {'classifier': 'svc', \n",
    "                'aug_type': 'random', \n",
    "                'k': 5, \n",
    "                'feat_data': X_enm, \n",
    "                'bin_data': bin_enm, \n",
    "                'param_grid': {'estimator__C': np.logspace(-1,7,9), \n",
    "                               'estimator__gamma': np.logspace(-7,1,9)}\n",
    "               }\n",
    "results_svc.iloc[6,1:3] = blt.multi_trials(num_trials=30, \n",
    "                                           model_params=model_params)"
   ]
  },
  {
   "cell_type": "code",
   "execution_count": null,
   "metadata": {
    "ExecuteTime": {
     "end_time": "2019-10-08T11:52:24.216328Z",
     "start_time": "2019-10-07T06:56:31.005480Z"
    }
   },
   "outputs": [],
   "source": [
    "# 1:10 ENM:Organics ratio\n",
    "model_params = {'classifier': 'svc', \n",
    "                'aug_type': 'random', \n",
    "                'k': 10, \n",
    "                'feat_data': X_enm, \n",
    "                'bin_data': bin_enm, \n",
    "                'param_grid': {'estimator__C': np.logspace(-1,7,9), \n",
    "                               'estimator__gamma': np.logspace(-7,1,9)}\n",
    "               }\n",
    "results_svc.iloc[7,1:3] = blt.multi_trials(num_trials=30, \n",
    "                                           print_results=True, \n",
    "                                           model_params=model_params)"
   ]
  },
  {
   "cell_type": "code",
   "execution_count": 53,
   "metadata": {
    "ExecuteTime": {
     "end_time": "2019-10-25T13:40:08.753825Z",
     "start_time": "2019-10-21T07:42:36.909693Z"
    }
   },
   "outputs": [
    {
     "name": "stdout",
     "output_type": "stream",
     "text": [
      "Avg accuracy:     0.71\n",
      "Median accuracy:  0.708\n",
      "StdDev accuracy:  0.017\n",
      "Numer of trials:  30\n",
      "Results:  [0.72, 0.7, 0.69, 0.7, 0.71, 0.71, 0.7, 0.69, 0.73, 0.73, 0.72, 0.71, 0.68, 0.71, 0.7, 0.7, 0.74, 0.72, 0.71, 0.75, 0.7, 0.69, 0.73, 0.72, 0.72, 0.74, 0.72, 0.72, 0.69, 0.69]\n"
     ]
    },
    {
     "data": {
      "text/html": [
       "\n",
       "                <audio controls=\"controls\" autoplay=\"autoplay\">\n",
       "                    <source src=\"./data/ping.wav\" type=\"audio/x-wav\" />\n",
       "                    Your browser does not support the audio element.\n",
       "                </audio>\n",
       "              "
      ],
      "text/plain": [
       "<IPython.lib.display.Audio object>"
      ]
     },
     "metadata": {},
     "output_type": "display_data"
    }
   ],
   "source": [
    "# 1:20 ENM:Organics ratio\n",
    "model_params = {'classifier': 'svc', \n",
    "                'aug_type': 'random', \n",
    "                'k': 20, \n",
    "                'feat_data': X_enm, \n",
    "                'bin_data': bin_enm, \n",
    "                'param_grid': {'estimator__C': np.logspace(-1,7,9), \n",
    "                               'estimator__gamma': np.logspace(-7,1,9)}\n",
    "               }\n",
    "results_svc.iloc[8,1:3] = blt.multi_trials(num_trials=30, \n",
    "                                           print_results=True, \n",
    "                                           model_params=model_params)"
   ]
  },
  {
   "cell_type": "markdown",
   "metadata": {},
   "source": [
    "## Matching (unsupervised) augmented data"
   ]
  },
  {
   "cell_type": "code",
   "execution_count": 66,
   "metadata": {
    "ExecuteTime": {
     "end_time": "2019-10-19T20:00:46.614728Z",
     "start_time": "2019-10-19T19:49:40.787292Z"
    }
   },
   "outputs": [
    {
     "name": "stdout",
     "output_type": "stream",
     "text": [
      "Avg accuracy:     0.732\n",
      "Median accuracy:  0.734\n",
      "StdDev accuracy:  0.008\n",
      "Numer of trials:  30\n"
     ]
    },
    {
     "data": {
      "text/html": [
       "\n",
       "                <audio controls=\"controls\" autoplay=\"autoplay\">\n",
       "                    <source src=\"./data/ping.wav\" type=\"audio/x-wav\" />\n",
       "                    Your browser does not support the audio element.\n",
       "                </audio>\n",
       "              "
      ],
      "text/plain": [
       "<IPython.lib.display.Audio object>"
      ]
     },
     "metadata": {},
     "output_type": "display_data"
    }
   ],
   "source": [
    "# 1:1 ENM:Organics ratio\n",
    "model_params = {'classifier': 'svc', \n",
    "                'aug_type': 'uns_match', \n",
    "                'k': 1, \n",
    "                'feat_data': X_enm, \n",
    "                'bin_data': bin_enm, \n",
    "                'param_grid': {'estimator__C': np.logspace(-1,7,9), \n",
    "                               'estimator__gamma': np.logspace(-7,1,9)}\n",
    "               }\n",
    "results_svc.iloc[2,3:5] = blt.multi_trials(num_trials=30, \n",
    "                                           model_params=model_params)"
   ]
  },
  {
   "cell_type": "code",
   "execution_count": 194,
   "metadata": {
    "ExecuteTime": {
     "end_time": "2019-10-03T09:45:42.225561Z",
     "start_time": "2019-10-03T09:24:20.440825Z"
    }
   },
   "outputs": [
    {
     "name": "stdout",
     "output_type": "stream",
     "text": [
      "Avg accuracy:     0.718\n",
      "Median accuracy:  0.716\n",
      "StdDev accuracy:  0.006\n",
      "Numer of trials:  30\n"
     ]
    },
    {
     "data": {
      "text/html": [
       "\n",
       "                <audio controls=\"controls\" autoplay=\"autoplay\">\n",
       "                    <source src=\"./data/ping.wav\" type=\"audio/x-wav\" />\n",
       "                    Your browser does not support the audio element.\n",
       "                </audio>\n",
       "              "
      ],
      "text/plain": [
       "<IPython.lib.display.Audio object>"
      ]
     },
     "metadata": {},
     "output_type": "display_data"
    }
   ],
   "source": [
    "# 1:2 ENM:Organics ratio\n",
    "model_params = {'classifier': 'svc', \n",
    "                'aug_type': 'uns_match', \n",
    "                'k': 2, \n",
    "                'feat_data': X_enm, \n",
    "                'bin_data': bin_enm, \n",
    "                'param_grid': {'estimator__C': np.logspace(-1,7,9), \n",
    "                               'estimator__gamma': np.logspace(-7,1,9)}\n",
    "               }\n",
    "results_svc.iloc[3,3:5] = blt.multi_trials(num_trials=30, \n",
    "                                           model_params=model_params)"
   ]
  },
  {
   "cell_type": "code",
   "execution_count": 21,
   "metadata": {
    "ExecuteTime": {
     "end_time": "2019-10-20T01:07:58.829095Z",
     "start_time": "2019-10-20T00:35:05.823648Z"
    }
   },
   "outputs": [
    {
     "name": "stdout",
     "output_type": "stream",
     "text": [
      "Avg accuracy:     0.739\n",
      "Median accuracy:  0.741\n",
      "StdDev accuracy:  0.009\n",
      "Numer of trials:  30\n"
     ]
    },
    {
     "data": {
      "text/html": [
       "\n",
       "                <audio controls=\"controls\" autoplay=\"autoplay\">\n",
       "                    <source src=\"./data/ping.wav\" type=\"audio/x-wav\" />\n",
       "                    Your browser does not support the audio element.\n",
       "                </audio>\n",
       "              "
      ],
      "text/plain": [
       "<IPython.lib.display.Audio object>"
      ]
     },
     "metadata": {},
     "output_type": "display_data"
    }
   ],
   "source": [
    "# 1:3 ENM:Organics ratio\n",
    "model_params = {'classifier': 'svc', \n",
    "                'aug_type': 'uns_match', \n",
    "                'k': 3, \n",
    "                'feat_data': X_enm, \n",
    "                'bin_data': bin_enm, \n",
    "                'param_grid': {'estimator__C': np.logspace(-1,7,9), \n",
    "                               'estimator__gamma': np.logspace(-7,1,9)}\n",
    "               }\n",
    "results_svc.iloc[4,3:5] = blt.multi_trials(num_trials=30, \n",
    "                                           model_params=model_params)"
   ]
  },
  {
   "cell_type": "code",
   "execution_count": 196,
   "metadata": {
    "ExecuteTime": {
     "end_time": "2019-10-03T11:23:52.932675Z",
     "start_time": "2019-10-03T10:18:55.564125Z"
    }
   },
   "outputs": [
    {
     "name": "stdout",
     "output_type": "stream",
     "text": [
      "Avg accuracy:     0.736\n",
      "Median accuracy:  0.736\n",
      "StdDev accuracy:  0.008\n",
      "Numer of trials:  30\n"
     ]
    },
    {
     "data": {
      "text/html": [
       "\n",
       "                <audio controls=\"controls\" autoplay=\"autoplay\">\n",
       "                    <source src=\"./data/ping.wav\" type=\"audio/x-wav\" />\n",
       "                    Your browser does not support the audio element.\n",
       "                </audio>\n",
       "              "
      ],
      "text/plain": [
       "<IPython.lib.display.Audio object>"
      ]
     },
     "metadata": {},
     "output_type": "display_data"
    }
   ],
   "source": [
    "# 1:4 ENM:Organics ratio\n",
    "model_params = {'classifier': 'svc', \n",
    "                'aug_type': 'uns_match', \n",
    "                'k': 4, \n",
    "                'feat_data': X_enm, \n",
    "                'bin_data': bin_enm, \n",
    "                'param_grid': {'estimator__C': np.logspace(-1,7,9), \n",
    "                               'estimator__gamma': np.logspace(-7,1,9)}\n",
    "               }\n",
    "results_svc.iloc[5,3:5] = blt.multi_trials(num_trials=30, \n",
    "                                           model_params=model_params)"
   ]
  },
  {
   "cell_type": "code",
   "execution_count": 197,
   "metadata": {
    "ExecuteTime": {
     "end_time": "2019-10-03T13:02:50.895546Z",
     "start_time": "2019-10-03T11:23:52.936136Z"
    }
   },
   "outputs": [
    {
     "name": "stdout",
     "output_type": "stream",
     "text": [
      "Avg accuracy:     0.757\n",
      "Median accuracy:  0.761\n",
      "StdDev accuracy:  0.011\n",
      "Numer of trials:  30\n"
     ]
    },
    {
     "data": {
      "text/html": [
       "\n",
       "                <audio controls=\"controls\" autoplay=\"autoplay\">\n",
       "                    <source src=\"./data/ping.wav\" type=\"audio/x-wav\" />\n",
       "                    Your browser does not support the audio element.\n",
       "                </audio>\n",
       "              "
      ],
      "text/plain": [
       "<IPython.lib.display.Audio object>"
      ]
     },
     "metadata": {},
     "output_type": "display_data"
    }
   ],
   "source": [
    "# 1:5 ENM:Organics ratio\n",
    "model_params = {'classifier': 'svc', \n",
    "                'aug_type': 'uns_match', \n",
    "                'k': 5, \n",
    "                'feat_data': X_enm, \n",
    "                'bin_data': bin_enm, \n",
    "                'param_grid': {'estimator__C': np.logspace(-1,7,9), \n",
    "                               'estimator__gamma': np.logspace(-7,1,9)}\n",
    "               }\n",
    "results_svc.iloc[6,3:5] = blt.multi_trials(num_trials=30, \n",
    "                                           print_results=True, \n",
    "                                           model_params=model_params)"
   ]
  },
  {
   "cell_type": "code",
   "execution_count": 36,
   "metadata": {
    "ExecuteTime": {
     "end_time": "2019-11-25T23:22:55.595800Z",
     "start_time": "2019-11-25T23:19:45.770697Z"
    }
   },
   "outputs": [
    {
     "data": {
      "image/png": "[encoded data removed]",
      "text/plain": [
       "<Figure size 432x288 with 2 Axes>"
      ]
     },
     "metadata": {
      "needs_background": "light"
     },
     "output_type": "display_data"
    },
    {
     "name": "stdout",
     "output_type": "stream",
     "text": [
      "Random state:\t 28\n",
      "Best parameters: {'C': 100.0, 'gamma': 0.1}\n",
      "Max opt. balanced accuracy: 0.741\n",
      "Avg. balanced accuracy:     0.761\n",
      "Normalized Confusion Matrix\n",
      "[[0.9  0.08 0.02]\n",
      " [0.3  0.63 0.07]\n",
      " [0.11 0.14 0.76]]\n"
     ]
    },
    {
     "data": {
      "text/html": [
       "\n",
       "                <audio controls=\"controls\" autoplay=\"autoplay\">\n",
       "                    <source src=\"./data/ping.wav\" type=\"audio/x-wav\" />\n",
       "                    Your browser does not support the audio element.\n",
       "                </audio>\n",
       "              "
      ],
      "text/plain": [
       "<IPython.lib.display.Audio object>"
      ]
     },
     "metadata": {},
     "output_type": "display_data"
    },
    {
     "data": {
      "text/plain": [
       "0.76073990657324"
      ]
     },
     "execution_count": 36,
     "metadata": {},
     "output_type": "execute_result"
    },
    {
     "data": {
      "image/png": "[encoded data removed]",
      "text/plain": [
       "<Figure size 432x288 with 2 Axes>"
      ]
     },
     "metadata": {
      "needs_background": "light"
     },
     "output_type": "display_data"
    }
   ],
   "source": [
    "# Single trial SVC-RBF, balanced accuracy\n",
    "param_grid = {'estimator__C': np.logspace(-1,7,9), \n",
    "              'estimator__gamma': np.logspace(-7,1,9)\n",
    "             }\n",
    "blt.model_opt_exe(classifier='svc', \n",
    "                  aug_type='uns_match', \n",
    "                  k=5, \n",
    "                  feat_data=X_enm, \n",
    "                  bin_data=bin_enm, \n",
    "                  seed=28, \n",
    "                  save_fig_name='uns_match', \n",
    "                  show_opt_plot=True, \n",
    "                  show_feat_impt=False, \n",
    "                  show_cnf_matrix=True, \n",
    "                  use_balanced_accu=True, # Balanced accuracy \n",
    "                  param_grid=param_grid)"
   ]
  },
  {
   "cell_type": "code",
   "execution_count": 35,
   "metadata": {
    "ExecuteTime": {
     "end_time": "2019-10-21T01:21:00.702428Z",
     "start_time": "2019-10-20T20:35:29.515073Z"
    }
   },
   "outputs": [
    {
     "name": "stdout",
     "output_type": "stream",
     "text": [
      "Avg accuracy:     0.754\n",
      "Median accuracy:  0.761\n",
      "StdDev accuracy:  0.013\n",
      "Numer of trials:  50\n",
      "Results:  [0.77, 0.74, 0.76, 0.76, 0.75, 0.76, 0.76, 0.76, 0.73, 0.76, 0.75, 0.74, 0.75, 0.74, 0.76, 0.75, 0.72, 0.75, 0.76, 0.73, 0.75, 0.76, 0.76, 0.77, 0.76, 0.75, 0.75, 0.76, 0.76, 0.76, 0.78, 0.76, 0.74, 0.76, 0.76, 0.72, 0.72, 0.76, 0.76, 0.76, 0.76, 0.76, 0.78, 0.76, 0.74, 0.76, 0.77, 0.76, 0.76, 0.76]\n"
     ]
    },
    {
     "data": {
      "text/html": [
       "\n",
       "                <audio controls=\"controls\" autoplay=\"autoplay\">\n",
       "                    <source src=\"./data/ping.wav\" type=\"audio/x-wav\" />\n",
       "                    Your browser does not support the audio element.\n",
       "                </audio>\n",
       "              "
      ],
      "text/plain": [
       "<IPython.lib.display.Audio object>"
      ]
     },
     "metadata": {},
     "output_type": "display_data"
    },
    {
     "data": {
      "text/plain": [
       "(0.754, 0.013)"
      ]
     },
     "execution_count": 35,
     "metadata": {},
     "output_type": "execute_result"
    }
   ],
   "source": [
    "# 1:5 ENM:Organics ratio\n",
    "model_params = {'classifier': 'svc', \n",
    "                'aug_type': 'uns_match', \n",
    "                'k': 5, \n",
    "                'feat_data': X_enm, \n",
    "                'bin_data': bin_enm, \n",
    "                'param_grid': {'estimator__C': np.logspace(-1,7,9), \n",
    "                               'estimator__gamma': np.logspace(-7,1,9)}\n",
    "               }\n",
    "blt.multi_trials(num_trials=50, \n",
    "                 print_results=True, \n",
    "                 model_params=model_params)"
   ]
  },
  {
   "cell_type": "code",
   "execution_count": 13,
   "metadata": {
    "ExecuteTime": {
     "end_time": "2019-10-21T02:13:55.668361Z",
     "start_time": "2019-10-21T02:13:55.661610Z"
    }
   },
   "outputs": [],
   "source": [
    "match_distrib = [0.77, 0.74, 0.76, 0.76, 0.75, 0.76, 0.76, 0.76, 0.73, 0.76, \n",
    "                 0.75, 0.74, 0.75, 0.74, 0.76, 0.75, 0.72, 0.75, 0.76, 0.73, \n",
    "                 0.75, 0.76, 0.76, 0.77, 0.76, 0.75, 0.75, 0.76, 0.76, 0.76, \n",
    "                 0.78, 0.76, 0.74, 0.76, 0.76, 0.72, 0.72, 0.76, 0.76, 0.76, \n",
    "                 0.76, 0.76, 0.78, 0.76, 0.74, 0.76, 0.77, 0.76, 0.76, 0.76]"
   ]
  },
  {
   "cell_type": "code",
   "execution_count": 200,
   "metadata": {
    "ExecuteTime": {
     "end_time": "2019-10-04T12:50:49.229567Z",
     "start_time": "2019-10-04T06:30:19.695139Z"
    }
   },
   "outputs": [
    {
     "name": "stdout",
     "output_type": "stream",
     "text": [
      "Avg accuracy:     0.751\n",
      "Median accuracy:  0.754\n",
      "StdDev accuracy:  0.007\n",
      "Numer of trials:  30\n",
      "Results:  [0.75, 0.75, 0.75, 0.75, 0.74, 0.75, 0.75, 0.75, 0.75, 0.75, 0.74, 0.74, 0.74, 0.75, 0.75, 0.75, 0.75, 0.77, 0.75, 0.75, 0.75, 0.74, 0.76, 0.76, 0.74, 0.75, 0.74, 0.75, 0.75, 0.74]\n"
     ]
    },
    {
     "data": {
      "text/html": [
       "\n",
       "                <audio controls=\"controls\" autoplay=\"autoplay\">\n",
       "                    <source src=\"./data/ping.wav\" type=\"audio/x-wav\" />\n",
       "                    Your browser does not support the audio element.\n",
       "                </audio>\n",
       "              "
      ],
      "text/plain": [
       "<IPython.lib.display.Audio object>"
      ]
     },
     "metadata": {},
     "output_type": "display_data"
    }
   ],
   "source": [
    "# 1:10 ENM:Organics ratio\n",
    "model_params = {'classifier': 'svc', \n",
    "                'aug_type': 'uns_match', \n",
    "                'k': 10, \n",
    "                'feat_data': X_enm, \n",
    "                'bin_data': bin_enm, \n",
    "                'use_balanced_accu': True, \n",
    "                'param_grid': {'estimator__C': np.logspace(-1,7,9), \n",
    "                               'estimator__gamma': np.logspace(-7,1,9)}\n",
    "               }\n",
    "results_svc.iloc[7,3:5] = blt.multi_trials(num_trials=30, \n",
    "                                           print_results=True, \n",
    "                                           model_params=model_params)"
   ]
  },
  {
   "cell_type": "code",
   "execution_count": 57,
   "metadata": {
    "ExecuteTime": {
     "end_time": "2019-10-19T19:26:33.476045Z",
     "start_time": "2019-10-19T06:48:54.725965Z"
    }
   },
   "outputs": [
    {
     "name": "stdout",
     "output_type": "stream",
     "text": [
      "Avg accuracy:     0.711\n",
      "Median accuracy:  0.707\n",
      "StdDev accuracy:  0.01\n",
      "Numer of trials:  30\n",
      "Results:  [0.73, 0.7, 0.71, 0.71, 0.72, 0.72, 0.71, 0.7, 0.73, 0.71, 0.71, 0.71, 0.71, 0.7, 0.71, 0.7, 0.73, 0.72, 0.7, 0.71, 0.69, 0.73, 0.71, 0.71, 0.71, 0.73, 0.71, 0.7, 0.71, 0.71]\n"
     ]
    },
    {
     "data": {
      "text/html": [
       "\n",
       "                <audio controls=\"controls\" autoplay=\"autoplay\">\n",
       "                    <source src=\"./data/ping.wav\" type=\"audio/x-wav\" />\n",
       "                    Your browser does not support the audio element.\n",
       "                </audio>\n",
       "              "
      ],
      "text/plain": [
       "<IPython.lib.display.Audio object>"
      ]
     },
     "metadata": {},
     "output_type": "display_data"
    }
   ],
   "source": [
    "# 1:20 ENM:Organics ratio\n",
    "model_params = {'classifier': 'svc', \n",
    "                'aug_type': 'uns_match', \n",
    "                'k': 20, \n",
    "                'feat_data': X_enm, \n",
    "                'bin_data': bin_enm, \n",
    "                'use_balanced_accu': True, \n",
    "                'param_grid': {'estimator__C': np.logspace(-1,7,9), \n",
    "                               'estimator__gamma': np.logspace(-7,1,9)}\n",
    "               }\n",
    "results_svc.iloc[8,3:5] = blt.multi_trials(num_trials=30, \n",
    "                                           print_results=True, \n",
    "                                           model_params=model_params)"
   ]
  },
  {
   "cell_type": "markdown",
   "metadata": {},
   "source": [
    "## Matching (supervised) augmented data"
   ]
  },
  {
   "cell_type": "code",
   "execution_count": 65,
   "metadata": {
    "ExecuteTime": {
     "end_time": "2019-10-19T19:48:45.565840Z",
     "start_time": "2019-10-19T19:35:41.735548Z"
    }
   },
   "outputs": [
    {
     "name": "stdout",
     "output_type": "stream",
     "text": [
      "Avg accuracy:     0.713\n",
      "Median accuracy:  0.716\n",
      "StdDev accuracy:  0.012\n",
      "Numer of trials:  30\n"
     ]
    },
    {
     "data": {
      "text/html": [
       "\n",
       "                <audio controls=\"controls\" autoplay=\"autoplay\">\n",
       "                    <source src=\"./data/ping.wav\" type=\"audio/x-wav\" />\n",
       "                    Your browser does not support the audio element.\n",
       "                </audio>\n",
       "              "
      ],
      "text/plain": [
       "<IPython.lib.display.Audio object>"
      ]
     },
     "metadata": {},
     "output_type": "display_data"
    }
   ],
   "source": [
    "# 1:1 ENM:Organics ratio\n",
    "model_params = {'classifier': 'svc', \n",
    "                'aug_type': 'sup_match', \n",
    "                'k': 1, \n",
    "                'feat_data': X_enm, \n",
    "                'bin_data': bin_enm, \n",
    "                'param_grid': {'estimator__C': np.logspace(-1,7,9), \n",
    "                               'estimator__gamma': np.logspace(-7,1,9)}\n",
    "               }\n",
    "results_svc.iloc[2,5:7] = blt.multi_trials(num_trials=30, \n",
    "                                           print_results=True, \n",
    "                                           model_params=model_params)"
   ]
  },
  {
   "cell_type": "code",
   "execution_count": 15,
   "metadata": {
    "ExecuteTime": {
     "end_time": "2019-10-19T23:54:34.366949Z",
     "start_time": "2019-10-19T23:34:13.800219Z"
    }
   },
   "outputs": [
    {
     "name": "stdout",
     "output_type": "stream",
     "text": [
      "Avg accuracy:     0.694\n",
      "Median accuracy:  0.692\n",
      "StdDev accuracy:  0.008\n",
      "Numer of trials:  30\n",
      "Results:  [0.71, 0.68, 0.69, 0.69, 0.69, 0.69, 0.69, 0.69, 0.69, 0.69, 0.7, 0.71, 0.69, 0.69, 0.69, 0.69, 0.69, 0.7, 0.69, 0.69, 0.69, 0.7, 0.7, 0.69, 0.69, 0.69, 0.71, 0.69, 0.69, 0.7]\n"
     ]
    },
    {
     "data": {
      "text/html": [
       "\n",
       "                <audio controls=\"controls\" autoplay=\"autoplay\">\n",
       "                    <source src=\"./data/ping.wav\" type=\"audio/x-wav\" />\n",
       "                    Your browser does not support the audio element.\n",
       "                </audio>\n",
       "              "
      ],
      "text/plain": [
       "<IPython.lib.display.Audio object>"
      ]
     },
     "metadata": {},
     "output_type": "display_data"
    }
   ],
   "source": [
    "# 1:2 ENM:Organics ratio\n",
    "model_params = {'classifier': 'svc', \n",
    "                'aug_type': 'sup_match', \n",
    "                'k': 2, \n",
    "                'feat_data': X_enm, \n",
    "                'bin_data': bin_enm, \n",
    "                'param_grid': {'estimator__C': np.logspace(-1,7,9), \n",
    "                               'estimator__gamma': np.logspace(-7,1,9)}\n",
    "               }\n",
    "results_svc.iloc[3,5:7] = blt.multi_trials(num_trials=30, \n",
    "                                           print_results=True, \n",
    "                                           model_params=model_params)"
   ]
  },
  {
   "cell_type": "code",
   "execution_count": 20,
   "metadata": {
    "ExecuteTime": {
     "end_time": "2019-10-20T00:26:07.846920Z",
     "start_time": "2019-10-19T23:57:45.824868Z"
    }
   },
   "outputs": [
    {
     "name": "stdout",
     "output_type": "stream",
     "text": [
      "Avg accuracy:     0.716\n",
      "Median accuracy:  0.719\n",
      "StdDev accuracy:  0.007\n",
      "Numer of trials:  30\n",
      "Results:  [0.72, 0.7, 0.71, 0.72, 0.72, 0.71, 0.72, 0.69, 0.72, 0.71, 0.72, 0.71, 0.71, 0.72, 0.71, 0.72, 0.72, 0.72, 0.71, 0.7, 0.72, 0.72, 0.72, 0.72, 0.71, 0.71, 0.72, 0.72, 0.71, 0.71]\n"
     ]
    },
    {
     "data": {
      "text/html": [
       "\n",
       "                <audio controls=\"controls\" autoplay=\"autoplay\">\n",
       "                    <source src=\"./data/ping.wav\" type=\"audio/x-wav\" />\n",
       "                    Your browser does not support the audio element.\n",
       "                </audio>\n",
       "              "
      ],
      "text/plain": [
       "<IPython.lib.display.Audio object>"
      ]
     },
     "metadata": {},
     "output_type": "display_data"
    }
   ],
   "source": [
    "# 1:3 ENM:Organics ratio\n",
    "model_params = {'classifier': 'svc', \n",
    "                'aug_type': 'sup_match', \n",
    "                'k': 3, \n",
    "                'feat_data': X_enm, \n",
    "                'bin_data': bin_enm, \n",
    "                'param_grid': {'estimator__C': np.logspace(-1,7,9), \n",
    "                               'estimator__gamma': np.logspace(-7,1,9)}\n",
    "               }\n",
    "results_svc.iloc[4,5:7] = blt.multi_trials(num_trials=30, \n",
    "                                           print_results=True, \n",
    "                                           model_params=model_params)"
   ]
  },
  {
   "cell_type": "code",
   "execution_count": 22,
   "metadata": {
    "ExecuteTime": {
     "end_time": "2019-10-20T01:59:37.502864Z",
     "start_time": "2019-10-20T01:09:13.336206Z"
    }
   },
   "outputs": [
    {
     "name": "stdout",
     "output_type": "stream",
     "text": [
      "Avg accuracy:     0.729\n",
      "Median accuracy:  0.734\n",
      "StdDev accuracy:  0.01\n",
      "Numer of trials:  30\n",
      "Results:  [0.73, 0.73, 0.73, 0.75, 0.72, 0.75, 0.73, 0.72, 0.73, 0.7, 0.73, 0.73, 0.73, 0.72, 0.73, 0.73, 0.72, 0.73, 0.71, 0.73, 0.72, 0.73, 0.73, 0.73, 0.73, 0.73, 0.73, 0.73, 0.73, 0.71]\n"
     ]
    },
    {
     "data": {
      "text/html": [
       "\n",
       "                <audio controls=\"controls\" autoplay=\"autoplay\">\n",
       "                    <source src=\"./data/ping.wav\" type=\"audio/x-wav\" />\n",
       "                    Your browser does not support the audio element.\n",
       "                </audio>\n",
       "              "
      ],
      "text/plain": [
       "<IPython.lib.display.Audio object>"
      ]
     },
     "metadata": {},
     "output_type": "display_data"
    }
   ],
   "source": [
    "# 1:4 ENM:Organics ratio\n",
    "model_params = {'classifier': 'svc', \n",
    "                'aug_type': 'sup_match', \n",
    "                'k': 4, \n",
    "                'feat_data': X_enm, \n",
    "                'bin_data': bin_enm, \n",
    "                'param_grid': {'estimator__C': np.logspace(-1,7,9), \n",
    "                               'estimator__gamma': np.logspace(-7,1,9)}\n",
    "               }\n",
    "results_svc.iloc[5,5:7] = blt.multi_trials(num_trials=30, print_results=True, \n",
    "                                           model_params=model_params)"
   ]
  },
  {
   "cell_type": "code",
   "execution_count": 24,
   "metadata": {
    "ExecuteTime": {
     "end_time": "2019-10-20T03:08:18.854468Z",
     "start_time": "2019-10-20T02:03:31.637363Z"
    }
   },
   "outputs": [
    {
     "name": "stdout",
     "output_type": "stream",
     "text": [
      "Avg accuracy:     0.721\n",
      "Median accuracy:  0.722\n",
      "StdDev accuracy:  0.007\n",
      "Numer of trials:  30\n",
      "Results:  [0.74, 0.72, 0.72, 0.73, 0.72, 0.72, 0.72, 0.71, 0.72, 0.71, 0.72, 0.72, 0.71, 0.72, 0.71, 0.72, 0.72, 0.72, 0.71, 0.72, 0.72, 0.73, 0.72, 0.72, 0.72, 0.72, 0.73, 0.72, 0.72, 0.71]\n"
     ]
    },
    {
     "data": {
      "text/html": [
       "\n",
       "                <audio controls=\"controls\" autoplay=\"autoplay\">\n",
       "                    <source src=\"./data/ping.wav\" type=\"audio/x-wav\" />\n",
       "                    Your browser does not support the audio element.\n",
       "                </audio>\n",
       "              "
      ],
      "text/plain": [
       "<IPython.lib.display.Audio object>"
      ]
     },
     "metadata": {},
     "output_type": "display_data"
    }
   ],
   "source": [
    "# 1:5 ENM:Organics ratio\n",
    "model_params = {'classifier': 'svc', \n",
    "                'aug_type': 'sup_match', \n",
    "                'k': 5, \n",
    "                'feat_data': X_enm, \n",
    "                'bin_data': bin_enm, \n",
    "                'use_balanced_accu': True, \n",
    "                'param_grid': {'estimator__C': np.logspace(-1,7,9), \n",
    "                               'estimator__gamma': np.logspace(-7,1,9)}\n",
    "               }\n",
    "results_svc.iloc[6,5:7] = blt.multi_trials(num_trials=30, \n",
    "                                           print_results=True, \n",
    "                                           model_params=model_params)"
   ]
  },
  {
   "cell_type": "code",
   "execution_count": 27,
   "metadata": {
    "ExecuteTime": {
     "end_time": "2019-10-20T06:11:47.913209Z",
     "start_time": "2019-10-20T03:43:02.463888Z"
    }
   },
   "outputs": [
    {
     "name": "stdout",
     "output_type": "stream",
     "text": [
      "Avg accuracy:     0.728\n",
      "Median accuracy:  0.727\n",
      "StdDev accuracy:  0.01\n",
      "Numer of trials:  30\n",
      "Results:  [0.74, 0.72, 0.71, 0.73, 0.74, 0.73, 0.73, 0.71, 0.73, 0.73, 0.71, 0.71, 0.72, 0.72, 0.73, 0.72, 0.74, 0.75, 0.71, 0.72, 0.73, 0.75, 0.72, 0.73, 0.72, 0.72, 0.73, 0.73, 0.75, 0.73]\n"
     ]
    },
    {
     "data": {
      "text/html": [
       "\n",
       "                <audio controls=\"controls\" autoplay=\"autoplay\">\n",
       "                    <source src=\"./data/ping.wav\" type=\"audio/x-wav\" />\n",
       "                    Your browser does not support the audio element.\n",
       "                </audio>\n",
       "              "
      ],
      "text/plain": [
       "<IPython.lib.display.Audio object>"
      ]
     },
     "metadata": {},
     "output_type": "display_data"
    }
   ],
   "source": [
    "# 1:10 ENM:Organics ratio\n",
    "model_params = {'classifier': 'svc', \n",
    "                'aug_type': 'sup_match', \n",
    "                'k': 10, \n",
    "                'feat_data': X_enm, \n",
    "                'bin_data': bin_enm, \n",
    "                'use_balanced_accu': True, \n",
    "                'param_grid': {'estimator__C': np.logspace(-1,7,9), \n",
    "                               'estimator__gamma': np.logspace(-7,1,9)}\n",
    "               }\n",
    "results_svc.iloc[7,5:7] = blt.multi_trials(num_trials=30, \n",
    "                                           print_results=True, \n",
    "                                           model_params=model_params)"
   ]
  },
  {
   "cell_type": "code",
   "execution_count": 28,
   "metadata": {
    "ExecuteTime": {
     "end_time": "2019-10-20T19:22:13.759379Z",
     "start_time": "2019-10-20T08:17:27.375841Z"
    }
   },
   "outputs": [
    {
     "name": "stdout",
     "output_type": "stream",
     "text": [
      "Avg accuracy:     0.702\n",
      "Median accuracy:  0.7\n",
      "StdDev accuracy:  0.01\n",
      "Numer of trials:  30\n",
      "Results:  [0.73, 0.7, 0.69, 0.71, 0.71, 0.7, 0.7, 0.7, 0.69, 0.7, 0.69, 0.71, 0.68, 0.69, 0.7, 0.71, 0.7, 0.71, 0.69, 0.72, 0.71, 0.71, 0.71, 0.7, 0.69, 0.7, 0.72, 0.7, 0.69, 0.7]\n"
     ]
    },
    {
     "data": {
      "text/html": [
       "\n",
       "                <audio controls=\"controls\" autoplay=\"autoplay\">\n",
       "                    <source src=\"./data/ping.wav\" type=\"audio/x-wav\" />\n",
       "                    Your browser does not support the audio element.\n",
       "                </audio>\n",
       "              "
      ],
      "text/plain": [
       "<IPython.lib.display.Audio object>"
      ]
     },
     "metadata": {},
     "output_type": "display_data"
    }
   ],
   "source": [
    "# 1:20 ENM:Organics ratio\n",
    "model_params = {'classifier': 'svc', \n",
    "                'aug_type': 'sup_match', \n",
    "                'k': 20, \n",
    "                'feat_data': X_enm, \n",
    "                'bin_data': bin_enm, \n",
    "                'use_balanced_accu': True, \n",
    "                'param_grid': {'estimator__C': np.logspace(-1,7,9), \n",
    "                               'estimator__gamma': np.logspace(-7,1,9)}\n",
    "               }\n",
    "results_svc.iloc[8,5:7] = blt.multi_trials(num_trials=30, \n",
    "                                           print_results=True, \n",
    "                                           model_params=model_params)"
   ]
  },
  {
   "cell_type": "markdown",
   "metadata": {},
   "source": [
    "# Random Forest Models"
   ]
  },
  {
   "cell_type": "markdown",
   "metadata": {},
   "source": [
    "RFC did not perform as well as SVC. RFC models here are being used as another way to look at the usefulness of different feature groups."
   ]
  },
  {
   "cell_type": "markdown",
   "metadata": {},
   "source": [
    "## ENM-only"
   ]
  },
  {
   "cell_type": "code",
   "execution_count": 31,
   "metadata": {
    "ExecuteTime": {
     "end_time": "2019-09-30T10:11:57.377019Z",
     "start_time": "2019-09-30T10:09:32.342125Z"
    }
   },
   "outputs": [
    {
     "data": {
      "image/png": "[encoded data removed]",
      "text/plain": [
       "<Figure size 432x288 with 2 Axes>"
      ]
     },
     "metadata": {
      "needs_background": "light"
     },
     "output_type": "display_data"
    },
    {
     "name": "stdout",
     "output_type": "stream",
     "text": [
      "Random state:\t 93\n",
      "Best parameters: {'max_depth': 5, 'n_estimators': 100}\n",
      "Max opt. balanced accuracy: 0.728\n",
      "Avg. balanced accuracy:     0.726\n",
      "Normalized Confusion Matrix\n",
      "[[0.9  0.06 0.04]\n",
      " [0.33 0.44 0.22]\n",
      " [0.08 0.08 0.84]]\n"
     ]
    },
    {
     "data": {
      "text/html": [
       "\n",
       "                <audio controls=\"controls\" autoplay=\"autoplay\">\n",
       "                    <source src=\"./data/ping.wav\" type=\"audio/x-wav\" />\n",
       "                    Your browser does not support the audio element.\n",
       "                </audio>\n",
       "              "
      ],
      "text/plain": [
       "<IPython.lib.display.Audio object>"
      ]
     },
     "metadata": {},
     "output_type": "display_data"
    }
   ],
   "source": [
    "# Single trial RFC optimizing max_depth and n_estimators (highly variable)\n",
    "param_grid = {'estimator__max_depth': np.arange(1,31,1), \n",
    "              'estimator__n_estimators': np.arange(40,120,20)}\n",
    "acc, impt = blt.model_opt_exe(classifier='rfc', \n",
    "                              aug_type='none', \n",
    "                              k=0, \n",
    "                              feat_data=X_enm, \n",
    "                              bin_data=bin_enm, \n",
    "                              show_opt_plot=True, \n",
    "                              show_feat_impt=False, \n",
    "                              show_cnf_matrix=False, \n",
    "                              param_grid=param_grid)"
   ]
  },
  {
   "cell_type": "code",
   "execution_count": 51,
   "metadata": {
    "ExecuteTime": {
     "end_time": "2019-09-30T17:59:49.112052Z",
     "start_time": "2019-09-30T17:59:04.467758Z"
    }
   },
   "outputs": [
    {
     "data": {
      "image/png": "[encoded data removed]",
      "text/plain": [
       "<Figure size 432x288 with 2 Axes>"
      ]
     },
     "metadata": {
      "needs_background": "light"
     },
     "output_type": "display_data"
    },
    {
     "name": "stdout",
     "output_type": "stream",
     "text": [
      "Random state:\t 93\n",
      "Best parameters: {'max_depth': 11, 'n_estimators': 40}\n",
      "Max opt. balanced accuracy: 0.728\n",
      "Avg. balanced accuracy:     0.724\n",
      "Normalized Confusion Matrix\n",
      "[[0.92 0.06 0.02]\n",
      " [0.33 0.44 0.22]\n",
      " [0.08 0.11 0.81]]\n"
     ]
    },
    {
     "data": {
      "text/html": [
       "\n",
       "                <audio controls=\"controls\" autoplay=\"autoplay\">\n",
       "                    <source src=\"./data/ping.wav\" type=\"audio/x-wav\" />\n",
       "                    Your browser does not support the audio element.\n",
       "                </audio>\n",
       "              "
      ],
      "text/plain": [
       "<IPython.lib.display.Audio object>"
      ]
     },
     "metadata": {},
     "output_type": "display_data"
    }
   ],
   "source": [
    "# Single trial RFC optimizing max_depth and n_estimators (highly variable)\n",
    "param_grid = {'estimator__max_depth': np.arange(2,15,1), \n",
    "              'estimator__n_estimators': [40, 100]}\n",
    "acc, impt = blt.model_opt_exe(classifier='rfc', \n",
    "                              aug_type='random', \n",
    "                              k=5, \n",
    "                              feat_data=X_enm, \n",
    "                              bin_data=bin_enm, \n",
    "                              show_opt_plot=True, \n",
    "                              show_feat_impt=False, \n",
    "                              show_cnf_matrix=False, \n",
    "                              param_grid=param_grid)"
   ]
  },
  {
   "cell_type": "code",
   "execution_count": 97,
   "metadata": {
    "ExecuteTime": {
     "end_time": "2019-09-30T19:04:55.188716Z",
     "start_time": "2019-09-30T19:04:54.777548Z"
    }
   },
   "outputs": [
    {
     "data": {
      "image/png": "[encoded data removed]",
      "text/plain": [
       "<Figure size 720x720 with 1 Axes>"
      ]
     },
     "metadata": {
      "needs_background": "light"
     },
     "output_type": "display_data"
    }
   ],
   "source": [
    "plot_feat_impt(feat_names=X_enm.columns.values, \n",
    "               importances=impt,\n",
    "               variances=None, \n",
    "               combo_impt=False)"
   ]
  },
  {
   "cell_type": "code",
   "execution_count": 99,
   "metadata": {
    "ExecuteTime": {
     "end_time": "2019-09-30T19:05:03.109093Z",
     "start_time": "2019-09-30T19:05:02.988829Z"
    }
   },
   "outputs": [
    {
     "data": {
      "image/png": "[encoded data removed]",
      "text/plain": [
       "<Figure size 720x432 with 1 Axes>"
      ]
     },
     "metadata": {
      "needs_background": "light"
     },
     "output_type": "display_data"
    }
   ],
   "source": [
    "blt.plot_feat_impt(feat_names=X_enm.columns.values, \n",
    "               importances=impt,\n",
    "               variances=None, \n",
    "               combo_impt=True)"
   ]
  },
  {
   "cell_type": "markdown",
   "metadata": {},
   "source": [
    "The contour plots for parameter optimization show that balanced accuracy does not vary much by n_estimators, so we will only test two. Balanced accuracy also seems to stop improving at max_depths beyond 10, so the max_depth range will be set from 4 to 14."
   ]
  },
  {
   "cell_type": "code",
   "execution_count": 100,
   "metadata": {
    "ExecuteTime": {
     "end_time": "2019-09-30T19:22:32.799901Z",
     "start_time": "2019-09-30T19:05:32.243895Z"
    }
   },
   "outputs": [
    {
     "name": "stdout",
     "output_type": "stream",
     "text": [
      "Avg accuracy:     0.729\n",
      "Median accuracy:  0.729\n",
      "StdDev accuracy:  0.014\n",
      "Numer of trials:  50\n"
     ]
    },
    {
     "data": {
      "text/html": [
       "\n",
       "                <audio controls=\"controls\" autoplay=\"autoplay\">\n",
       "                    <source src=\"./data/ping.wav\" type=\"audio/x-wav\" />\n",
       "                    Your browser does not support the audio element.\n",
       "                </audio>\n",
       "              "
      ],
      "text/plain": [
       "<IPython.lib.display.Audio object>"
      ]
     },
     "metadata": {},
     "output_type": "display_data"
    }
   ],
   "source": [
    "# 50 trials RFC optimizing max_depth and n_estimators \n",
    "model_params = {'classifier': 'rfc', \n",
    "                'aug_type': 'none', \n",
    "                'k': 0, \n",
    "                'feat_data': X_enm, \n",
    "                'bin_data': bin_enm, \n",
    "                'param_grid': {'estimator__max_depth': np.arange(4,12,1), \n",
    "                               'estimator__n_estimators': [40,100]}\n",
    "               }\n",
    "mu_rfc, sigma_rfc, avg_impt, var_impt = \\\n",
    "    blt.multi_trials(num_trials=50, model_params=model_params)"
   ]
  },
  {
   "cell_type": "code",
   "execution_count": 101,
   "metadata": {
    "ExecuteTime": {
     "end_time": "2019-09-30T19:22:32.807831Z",
     "start_time": "2019-09-30T19:22:32.801868Z"
    }
   },
   "outputs": [],
   "source": [
    "# Save results to table\n",
    "results_rfc.loc[results_rfc['ENM-Organics-Ratio']=='1:0', \n",
    "    ['Avg-Random-Augment','Std-Random-Augment']] = [mu_rfc, sigma_rfc]"
   ]
  },
  {
   "cell_type": "code",
   "execution_count": 102,
   "metadata": {
    "ExecuteTime": {
     "end_time": "2019-09-30T19:22:33.617872Z",
     "start_time": "2019-09-30T19:22:32.812007Z"
    }
   },
   "outputs": [
    {
     "data": {
      "image/png": "[encoded data removed]",
      "text/plain": [
       "<Figure size 720x720 with 1 Axes>"
      ]
     },
     "metadata": {
      "needs_background": "light"
     },
     "output_type": "display_data"
    }
   ],
   "source": [
    "blt.plot_feat_impt(feat_names=X_enm.columns.values, \n",
    "                   importances=avg_impt, \n",
    "                   save_fig_name='ENM_RFC', \n",
    "                   variances=var_impt, \n",
    "                   combo_impt=False)"
   ]
  },
  {
   "cell_type": "code",
   "execution_count": 103,
   "metadata": {
    "ExecuteTime": {
     "end_time": "2019-09-30T19:22:33.840351Z",
     "start_time": "2019-09-30T19:22:33.620292Z"
    }
   },
   "outputs": [
    {
     "data": {
      "image/png": "[encoded data removed]",
      "text/plain": [
       "<Figure size 720x432 with 1 Axes>"
      ]
     },
     "metadata": {
      "needs_background": "light"
     },
     "output_type": "display_data"
    }
   ],
   "source": [
    "blt.plot_feat_impt(feat_names=X_enm.columns.values, \n",
    "                   importances=avg_impt, \n",
    "                   save_fig_name='ENM_RFC_combo', \n",
    "                   variances=var_impt, \n",
    "                   combo_impt=True)"
   ]
  },
  {
   "cell_type": "markdown",
   "metadata": {},
   "source": [
    "### Permutation test"
   ]
  },
  {
   "cell_type": "code",
   "execution_count": 116,
   "metadata": {
    "ExecuteTime": {
     "end_time": "2019-09-30T20:37:35.682625Z",
     "start_time": "2019-09-30T20:37:35.658936Z"
    }
   },
   "outputs": [
    {
     "data": {
      "text/html": [
       "\n",
       "                <audio controls=\"controls\" autoplay=\"autoplay\">\n",
       "                    <source src=\"./data/ping.wav\" type=\"audio/x-wav\" />\n",
       "                    Your browser does not support the audio element.\n",
       "                </audio>\n",
       "              "
      ],
      "text/plain": [
       "<IPython.lib.display.Audio object>"
      ]
     },
     "metadata": {},
     "output_type": "display_data"
    },
    {
     "ename": "TypeError",
     "evalue": "object of type 'int' has no len()",
     "output_type": "error",
     "traceback": [
      "\u001b[0;31m---------------------------------------------------------------------------\u001b[0m",
      "\u001b[0;31mTypeError\u001b[0m                                 Traceback (most recent call last)",
      "\u001b[0;32m<ipython-input-116-7d136d929a9b>\u001b[0m in \u001b[0;36m<module>\u001b[0;34m\u001b[0m\n\u001b[1;32m     21\u001b[0m                                             \u001b[0mnp\u001b[0m\u001b[0;34m.\u001b[0m\u001b[0marange\u001b[0m\u001b[0;34m(\u001b[0m\u001b[0;36m4\u001b[0m\u001b[0;34m,\u001b[0m\u001b[0;36m15\u001b[0m\u001b[0;34m,\u001b[0m\u001b[0;36m1\u001b[0m\u001b[0;34m)\u001b[0m\u001b[0;34m,\u001b[0m\u001b[0;34m\u001b[0m\u001b[0;34m\u001b[0m\u001b[0m\n\u001b[1;32m     22\u001b[0m                                             \u001b[0;34m'estimator__n_estimators'\u001b[0m\u001b[0;34m:\u001b[0m\u001b[0;31m \u001b[0m\u001b[0;31m\\\u001b[0m\u001b[0;34m\u001b[0m\u001b[0;34m\u001b[0m\u001b[0m\n\u001b[0;32m---> 23\u001b[0;31m                                             100})\n\u001b[0m\u001b[1;32m     24\u001b[0m \u001b[0mmu_rfc_perm\u001b[0m \u001b[0;34m=\u001b[0m \u001b[0mresults_permute\u001b[0m\u001b[0;34m.\u001b[0m\u001b[0mmean\u001b[0m\u001b[0;34m(\u001b[0m\u001b[0;34m)\u001b[0m\u001b[0;34m\u001b[0m\u001b[0;34m\u001b[0m\u001b[0m\n\u001b[1;32m     25\u001b[0m \u001b[0msigma_rfc_perm\u001b[0m \u001b[0;34m=\u001b[0m \u001b[0mresults_permute\u001b[0m\u001b[0;34m.\u001b[0m\u001b[0mstd\u001b[0m\u001b[0;34m(\u001b[0m\u001b[0;34m)\u001b[0m\u001b[0;34m\u001b[0m\u001b[0;34m\u001b[0m\u001b[0m\n",
      "\u001b[0;32m~/Documents/ml-weight-fraction/functions.py\u001b[0m in \u001b[0;36mwrapper\u001b[0;34m(*args, **kwargs)\u001b[0m\n\u001b[1;32m    105\u001b[0m             \u001b[0mself\u001b[0m\u001b[0;34m.\u001b[0m\u001b[0misinner\u001b[0m \u001b[0;34m=\u001b[0m \u001b[0;32mTrue\u001b[0m\u001b[0;34m\u001b[0m\u001b[0;34m\u001b[0m\u001b[0m\n\u001b[1;32m    106\u001b[0m             \u001b[0;32mtry\u001b[0m\u001b[0;34m:\u001b[0m\u001b[0;34m\u001b[0m\u001b[0;34m\u001b[0m\u001b[0m\n\u001b[0;32m--> 107\u001b[0;31m                 \u001b[0;32mreturn\u001b[0m \u001b[0mf\u001b[0m\u001b[0;34m(\u001b[0m\u001b[0;34m*\u001b[0m\u001b[0margs\u001b[0m\u001b[0;34m,\u001b[0m \u001b[0;34m**\u001b[0m\u001b[0mkwargs\u001b[0m\u001b[0;34m)\u001b[0m\u001b[0;34m\u001b[0m\u001b[0;34m\u001b[0m\u001b[0m\n\u001b[0m\u001b[1;32m    108\u001b[0m             \u001b[0;32mfinally\u001b[0m\u001b[0;34m:\u001b[0m\u001b[0;34m\u001b[0m\u001b[0;34m\u001b[0m\u001b[0m\n\u001b[1;32m    109\u001b[0m                 \u001b[0mself\u001b[0m\u001b[0;34m.\u001b[0m\u001b[0misinner\u001b[0m \u001b[0;34m=\u001b[0m \u001b[0misinner\u001b[0m\u001b[0;34m\u001b[0m\u001b[0;34m\u001b[0m\u001b[0m\n",
      "\u001b[0;32m~/Documents/ml-weight-fraction/functions.py\u001b[0m in \u001b[0;36mmodel_opt_exe\u001b[0;34m(classifier, aug_type, k, feat_data, bin_data, seed, save_fig_name, show_opt_plot, show_feat_impt, show_cnf_matrix, use_balanced_accu, param_grid)\u001b[0m\n\u001b[1;32m    743\u001b[0m                              random_state=seed)\n\u001b[1;32m    744\u001b[0m     \u001b[0;31m# Objects to hold performance results\u001b[0m\u001b[0;34m\u001b[0m\u001b[0;34m\u001b[0m\u001b[0;34m\u001b[0m\u001b[0m\n\u001b[0;32m--> 745\u001b[0;31m     \u001b[0mtrain_accu\u001b[0m \u001b[0;34m=\u001b[0m \u001b[0mnp\u001b[0m\u001b[0;34m.\u001b[0m\u001b[0mzeros\u001b[0m\u001b[0;34m(\u001b[0m\u001b[0;34m[\u001b[0m\u001b[0mnum_folds\u001b[0m\u001b[0;34m,\u001b[0m \u001b[0mlen\u001b[0m\u001b[0;34m(\u001b[0m\u001b[0mparam1_set\u001b[0m\u001b[0;34m)\u001b[0m\u001b[0;34m,\u001b[0m\u001b[0mlen\u001b[0m\u001b[0;34m(\u001b[0m\u001b[0mparam2_set\u001b[0m\u001b[0;34m)\u001b[0m\u001b[0;34m]\u001b[0m\u001b[0;34m)\u001b[0m\u001b[0;34m\u001b[0m\u001b[0;34m\u001b[0m\u001b[0m\n\u001b[0m\u001b[1;32m    746\u001b[0m     \u001b[0mvalid_accu\u001b[0m \u001b[0;34m=\u001b[0m \u001b[0mnp\u001b[0m\u001b[0;34m.\u001b[0m\u001b[0mzeros\u001b[0m\u001b[0;34m(\u001b[0m\u001b[0;34m[\u001b[0m\u001b[0mnum_folds\u001b[0m\u001b[0;34m,\u001b[0m \u001b[0mlen\u001b[0m\u001b[0;34m(\u001b[0m\u001b[0mparam1_set\u001b[0m\u001b[0;34m)\u001b[0m\u001b[0;34m,\u001b[0m\u001b[0mlen\u001b[0m\u001b[0;34m(\u001b[0m\u001b[0mparam2_set\u001b[0m\u001b[0;34m)\u001b[0m\u001b[0;34m]\u001b[0m\u001b[0;34m)\u001b[0m\u001b[0;34m\u001b[0m\u001b[0;34m\u001b[0m\u001b[0m\n\u001b[1;32m    747\u001b[0m     \u001b[0;31m# Find best algorithm parameters by searching over a grid using the CV\u001b[0m\u001b[0;34m\u001b[0m\u001b[0;34m\u001b[0m\u001b[0;34m\u001b[0m\u001b[0m\n",
      "\u001b[0;31mTypeError\u001b[0m: object of type 'int' has no len()"
     ]
    }
   ],
   "source": [
    "# TODO: fix\n",
    "# Run permutation tests over a number of trials, \"num_trials\"\n",
    "num_trials = 2\n",
    "seed_set = np.random.choice(np.arange(0,100), size=num_trials, replace=False)\n",
    "param_grid = {'estimator__max_depth': np.arange(4,15,1), \n",
    "              'estimator__n_estimators': [40,100]}\n",
    "\n",
    "results_permute = np.empty(seed_set.size)\n",
    "impt_permute = np.empty(seed_set.size)\n",
    "for idx, s in enumerate(seed_set):\n",
    "    with blt.HiddenPrints():\n",
    "        bin_enm_permute = np.random.RandomState(seed=s).permutation(bin_enm)\n",
    "        results_permute[idx], impt_permute[idx]\\\n",
    "            = blt.model_opt_exe(classifier='rfc', \n",
    "                                aug_type='none', \n",
    "                                k=0, \n",
    "                                feat_data=X_enm, \n",
    "                                bin_data=bin_enm_permute, \n",
    "                                show_opt_plot=False, \n",
    "                                param_grid={'estimator__max_depth': \\\n",
    "                                            np.arange(4,15,1), \n",
    "                                            'estimator__n_estimators': \\\n",
    "                                            100})\n",
    "mu_rfc_perm = results_permute.mean()\n",
    "sigma_rfc_perm = results_permute.std()\n",
    "print(\"Avg accuracy:    \", mu_rfc_perm)\n",
    "print(\"Median accuracy: \", np.median(results_permute))\n",
    "print(\"StdDev accuracy: \", sigma_rfc_perm)\n",
    "print(\"Numer of trials: \", num_trials)\n",
    "print(\"Results: \", results_permute)\n",
    "\n",
    "# Save to results table\n",
    "results_rfc.loc[results_rfc['ENM-Organics-Ratio']=='1:0*', \n",
    "    ['Avg-Random-Augment', 'Std-Random-Augment']] = [mu_rfc_perm, sigma_rfc_perm]"
   ]
  },
  {
   "cell_type": "code",
   "execution_count": 121,
   "metadata": {
    "ExecuteTime": {
     "end_time": "2019-09-30T20:44:48.045114Z",
     "start_time": "2019-09-30T20:44:19.782447Z"
    }
   },
   "outputs": [
    {
     "data": {
      "text/html": [
       "\n",
       "                <audio controls=\"controls\" autoplay=\"autoplay\">\n",
       "                    <source src=\"./data/ping.wav\" type=\"audio/x-wav\" />\n",
       "                    Your browser does not support the audio element.\n",
       "                </audio>\n",
       "              "
      ],
      "text/plain": [
       "<IPython.lib.display.Audio object>"
      ]
     },
     "metadata": {},
     "output_type": "display_data"
    },
    {
     "data": {
      "text/html": [
       "\n",
       "                <audio controls=\"controls\" autoplay=\"autoplay\">\n",
       "                    <source src=\"./data/ping.wav\" type=\"audio/x-wav\" />\n",
       "                    Your browser does not support the audio element.\n",
       "                </audio>\n",
       "              "
      ],
      "text/plain": [
       "<IPython.lib.display.Audio object>"
      ]
     },
     "metadata": {},
     "output_type": "display_data"
    },
    {
     "ename": "ValueError",
     "evalue": "setting an array element with a sequence.",
     "output_type": "error",
     "traceback": [
      "\u001b[0;31m---------------------------------------------------------------------------\u001b[0m",
      "\u001b[0;31mValueError\u001b[0m                                Traceback (most recent call last)",
      "\u001b[0;32m<ipython-input-121-ac586bdd959e>\u001b[0m in \u001b[0;36m<module>\u001b[0;34m\u001b[0m\n\u001b[1;32m      2\u001b[0m param_grid = {'estimator__max_depth': np.arange(4,15,1), \n\u001b[1;32m      3\u001b[0m               'estimator__n_estimators': [40,100]}\n\u001b[0;32m----> 4\u001b[0;31m \u001b[0mperm_test\u001b[0m\u001b[0;34m(\u001b[0m\u001b[0;36m2\u001b[0m\u001b[0;34m,\u001b[0m \u001b[0;34m'rfc'\u001b[0m\u001b[0;34m,\u001b[0m \u001b[0mmodel_params\u001b[0m\u001b[0;34m=\u001b[0m\u001b[0mparam_grid\u001b[0m\u001b[0;34m)\u001b[0m\u001b[0;34m\u001b[0m\u001b[0;34m\u001b[0m\u001b[0m\n\u001b[0m",
      "\u001b[0;32m~/Documents/ml-weight-fraction/functions.py\u001b[0m in \u001b[0;36mwrapper\u001b[0;34m(*args, **kwargs)\u001b[0m\n\u001b[1;32m    105\u001b[0m             \u001b[0mself\u001b[0m\u001b[0;34m.\u001b[0m\u001b[0misinner\u001b[0m \u001b[0;34m=\u001b[0m \u001b[0;32mTrue\u001b[0m\u001b[0;34m\u001b[0m\u001b[0;34m\u001b[0m\u001b[0m\n\u001b[1;32m    106\u001b[0m             \u001b[0;32mtry\u001b[0m\u001b[0;34m:\u001b[0m\u001b[0;34m\u001b[0m\u001b[0;34m\u001b[0m\u001b[0m\n\u001b[0;32m--> 107\u001b[0;31m                 \u001b[0;32mreturn\u001b[0m \u001b[0mf\u001b[0m\u001b[0;34m(\u001b[0m\u001b[0;34m*\u001b[0m\u001b[0margs\u001b[0m\u001b[0;34m,\u001b[0m \u001b[0;34m**\u001b[0m\u001b[0mkwargs\u001b[0m\u001b[0;34m)\u001b[0m\u001b[0;34m\u001b[0m\u001b[0;34m\u001b[0m\u001b[0m\n\u001b[0m\u001b[1;32m    108\u001b[0m             \u001b[0;32mfinally\u001b[0m\u001b[0;34m:\u001b[0m\u001b[0;34m\u001b[0m\u001b[0;34m\u001b[0m\u001b[0m\n\u001b[1;32m    109\u001b[0m                 \u001b[0mself\u001b[0m\u001b[0;34m.\u001b[0m\u001b[0misinner\u001b[0m \u001b[0;34m=\u001b[0m \u001b[0misinner\u001b[0m\u001b[0;34m\u001b[0m\u001b[0;34m\u001b[0m\u001b[0m\n",
      "\u001b[0;32m<ipython-input-120-c6ce7dba7814>\u001b[0m in \u001b[0;36mperm_test\u001b[0;34m(num_trials, classifier, model_params)\u001b[0m\n\u001b[1;32m     12\u001b[0m                                                      \u001b[0mfeat_data\u001b[0m\u001b[0;34m=\u001b[0m\u001b[0mX_enm\u001b[0m\u001b[0;34m,\u001b[0m\u001b[0;34m\u001b[0m\u001b[0;34m\u001b[0m\u001b[0m\n\u001b[1;32m     13\u001b[0m                                                      \u001b[0mbin_data\u001b[0m\u001b[0;34m=\u001b[0m\u001b[0mbin_enm_permute\u001b[0m\u001b[0;34m,\u001b[0m\u001b[0;34m\u001b[0m\u001b[0;34m\u001b[0m\u001b[0m\n\u001b[0;32m---> 14\u001b[0;31m                                                      param_grid=param_grid);\n\u001b[0m\u001b[1;32m     15\u001b[0m     \u001b[0mmu_permute\u001b[0m \u001b[0;34m=\u001b[0m \u001b[0mresults_permute\u001b[0m\u001b[0;34m.\u001b[0m\u001b[0mmean\u001b[0m\u001b[0;34m(\u001b[0m\u001b[0;34m)\u001b[0m\u001b[0;34m\u001b[0m\u001b[0;34m\u001b[0m\u001b[0m\n\u001b[1;32m     16\u001b[0m     \u001b[0msigma_permute\u001b[0m \u001b[0;34m=\u001b[0m \u001b[0mresults_permute\u001b[0m\u001b[0;34m.\u001b[0m\u001b[0mstd\u001b[0m\u001b[0;34m(\u001b[0m\u001b[0;34m)\u001b[0m\u001b[0;34m\u001b[0m\u001b[0;34m\u001b[0m\u001b[0m\n",
      "\u001b[0;31mValueError\u001b[0m: setting an array element with a sequence."
     ]
    }
   ],
   "source": [
    "# Run permutation tests over a number of trials, \"num_trials\"\n",
    "param_grid = {'estimator__max_depth': np.arange(4,15,1), \n",
    "              'estimator__n_estimators': [40,100]}\n",
    "perm_test(2, 'rfc', model_params=param_grid)"
   ]
  },
  {
   "cell_type": "code",
   "execution_count": null,
   "metadata": {},
   "outputs": [],
   "source": [
    "# Run permutation tests over a number of trials, \"num_trials\"\n",
    "param_grid = {'estimator__max_depth': np.arange(4,15,1), \n",
    "              'estimator__n_estimators': [40,100]}\n",
    "mu_rfc_perm, sigma_rfc_perm = perm_test(50, 'rfc', model_params=param_grid)\n",
    "# Save to results table\n",
    "results_rfc.loc[results_rfc['ENM-Organics-Ratio']=='1:0*', \n",
    "    ['Avg-Random-Augment', 'Std-Random-Augment']] = [mu_rfc_perm, sigma_rfc_perm]"
   ]
  },
  {
   "cell_type": "markdown",
   "metadata": {},
   "source": [
    "## Randomly augmented data"
   ]
  },
  {
   "cell_type": "code",
   "execution_count": 29,
   "metadata": {
    "ExecuteTime": {
     "end_time": "2019-10-21T02:36:55.023608Z",
     "start_time": "2019-10-21T02:36:55.016345Z"
    }
   },
   "outputs": [],
   "source": [
    "rfc_param_grid = {'estimator__max_depth': np.arange(4,12,1), \n",
    "                  'estimator__n_estimators': [40,100]}"
   ]
  },
  {
   "cell_type": "code",
   "execution_count": 42,
   "metadata": {
    "ExecuteTime": {
     "end_time": "2019-09-30T10:55:40.944833Z",
     "start_time": "2019-09-30T10:44:46.570338Z"
    }
   },
   "outputs": [
    {
     "name": "stdout",
     "output_type": "stream",
     "text": [
      "Avg accuracy:     0.714\n",
      "Median accuracy:  0.713\n",
      "StdDev accuracy:  0.011\n",
      "Numer of trials:  30\n"
     ]
    },
    {
     "data": {
      "text/html": [
       "\n",
       "                <audio controls=\"controls\" autoplay=\"autoplay\">\n",
       "                    <source src=\"./data/ping.wav\" type=\"audio/x-wav\" />\n",
       "                    Your browser does not support the audio element.\n",
       "                </audio>\n",
       "              "
      ],
      "text/plain": [
       "<IPython.lib.display.Audio object>"
      ]
     },
     "metadata": {},
     "output_type": "display_data"
    }
   ],
   "source": [
    "# 1:1\n",
    "model_params = {'classifier': 'rfc', \n",
    "                'aug_type': 'random', \n",
    "                'k': 1, \n",
    "                'feat_data': X_enm, \n",
    "                'bin_data': bin_enm, \n",
    "                'param_grid': rfc_param_grid\n",
    "               }\n",
    "a, b, _, _ = blt.multi_trials(num_trials=30, model_params=model_params)\n",
    "results_rfc.iloc[2,1:3] = a, b"
   ]
  },
  {
   "cell_type": "code",
   "execution_count": 43,
   "metadata": {
    "ExecuteTime": {
     "end_time": "2019-09-30T11:07:22.434019Z",
     "start_time": "2019-09-30T10:55:40.947023Z"
    }
   },
   "outputs": [
    {
     "name": "stdout",
     "output_type": "stream",
     "text": [
      "Avg accuracy:     0.716\n",
      "Median accuracy:  0.714\n",
      "StdDev accuracy:  0.011\n",
      "Numer of trials:  30\n"
     ]
    },
    {
     "data": {
      "text/html": [
       "\n",
       "                <audio controls=\"controls\" autoplay=\"autoplay\">\n",
       "                    <source src=\"./data/ping.wav\" type=\"audio/x-wav\" />\n",
       "                    Your browser does not support the audio element.\n",
       "                </audio>\n",
       "              "
      ],
      "text/plain": [
       "<IPython.lib.display.Audio object>"
      ]
     },
     "metadata": {},
     "output_type": "display_data"
    }
   ],
   "source": [
    "# 1:2\n",
    "model_params = {'classifier': 'rfc', \n",
    "                'aug_type': 'random', \n",
    "                'k': 2, \n",
    "                'feat_data': X_enm, \n",
    "                'bin_data': bin_enm, \n",
    "                'param_grid': rfc_param_grid\n",
    "               }\n",
    "a, b, _, _ = blt.multi_trials(num_trials=30, model_params=model_params)\n",
    "results_rfc.iloc[3,1:3] = a, b"
   ]
  },
  {
   "cell_type": "code",
   "execution_count": 44,
   "metadata": {
    "ExecuteTime": {
     "end_time": "2019-09-30T11:19:49.985156Z",
     "start_time": "2019-09-30T11:07:22.436758Z"
    }
   },
   "outputs": [
    {
     "name": "stdout",
     "output_type": "stream",
     "text": [
      "Avg accuracy:     0.716\n",
      "Median accuracy:  0.715\n",
      "StdDev accuracy:  0.01\n",
      "Numer of trials:  30\n"
     ]
    },
    {
     "data": {
      "text/html": [
       "\n",
       "                <audio controls=\"controls\" autoplay=\"autoplay\">\n",
       "                    <source src=\"./data/ping.wav\" type=\"audio/x-wav\" />\n",
       "                    Your browser does not support the audio element.\n",
       "                </audio>\n",
       "              "
      ],
      "text/plain": [
       "<IPython.lib.display.Audio object>"
      ]
     },
     "metadata": {},
     "output_type": "display_data"
    }
   ],
   "source": [
    "# 1:3\n",
    "model_params = {'classifier': 'rfc', \n",
    "                'aug_type': 'random', \n",
    "                'k': 3, \n",
    "                'feat_data': X_enm, \n",
    "                'bin_data': bin_enm, \n",
    "                'param_grid': rfc_param_grid\n",
    "               }\n",
    "a, b, _, _ = blt.multi_trials(num_trials=30, model_params=model_params)\n",
    "results_rfc.iloc[4,1:3] = a, b"
   ]
  },
  {
   "cell_type": "code",
   "execution_count": 45,
   "metadata": {
    "ExecuteTime": {
     "end_time": "2019-09-30T11:32:54.968266Z",
     "start_time": "2019-09-30T11:19:49.987255Z"
    }
   },
   "outputs": [
    {
     "name": "stdout",
     "output_type": "stream",
     "text": [
      "Avg accuracy:     0.715\n",
      "Median accuracy:  0.711\n",
      "StdDev accuracy:  0.015\n",
      "Numer of trials:  30\n"
     ]
    },
    {
     "data": {
      "text/html": [
       "\n",
       "                <audio controls=\"controls\" autoplay=\"autoplay\">\n",
       "                    <source src=\"./data/ping.wav\" type=\"audio/x-wav\" />\n",
       "                    Your browser does not support the audio element.\n",
       "                </audio>\n",
       "              "
      ],
      "text/plain": [
       "<IPython.lib.display.Audio object>"
      ]
     },
     "metadata": {},
     "output_type": "display_data"
    }
   ],
   "source": [
    "# 1:4\n",
    "model_params = {'classifier': 'rfc', \n",
    "                'aug_type': 'random', \n",
    "                'k': 4, \n",
    "                'feat_data': X_enm, \n",
    "                'bin_data': bin_enm, \n",
    "                'param_grid': rfc_param_grid\n",
    "               }\n",
    "a, b, _, _ = blt.multi_trials(num_trials=30, model_params=model_params)\n",
    "results_rfc.iloc[5,1:3] = a, b"
   ]
  },
  {
   "cell_type": "code",
   "execution_count": 46,
   "metadata": {
    "ExecuteTime": {
     "end_time": "2019-09-30T11:46:42.241077Z",
     "start_time": "2019-09-30T11:32:54.970450Z"
    }
   },
   "outputs": [
    {
     "name": "stdout",
     "output_type": "stream",
     "text": [
      "Avg accuracy:     0.711\n",
      "Median accuracy:  0.712\n",
      "StdDev accuracy:  0.012\n",
      "Numer of trials:  30\n"
     ]
    },
    {
     "data": {
      "text/html": [
       "\n",
       "                <audio controls=\"controls\" autoplay=\"autoplay\">\n",
       "                    <source src=\"./data/ping.wav\" type=\"audio/x-wav\" />\n",
       "                    Your browser does not support the audio element.\n",
       "                </audio>\n",
       "              "
      ],
      "text/plain": [
       "<IPython.lib.display.Audio object>"
      ]
     },
     "metadata": {},
     "output_type": "display_data"
    }
   ],
   "source": [
    "# 1:5\n",
    "model_params = {'classifier': 'rfc', \n",
    "                'aug_type': 'random', \n",
    "                'k': 5, \n",
    "                'feat_data': X_enm, \n",
    "                'bin_data': bin_enm, \n",
    "                'param_grid': rfc_param_grid\n",
    "               }\n",
    "a, b, _, _ = blt.multi_trials(num_trials=30, model_params=model_params)\n",
    "results_rfc.iloc[6,1:3] = a, b"
   ]
  },
  {
   "cell_type": "code",
   "execution_count": 104,
   "metadata": {
    "ExecuteTime": {
     "end_time": "2019-09-30T19:39:42.720345Z",
     "start_time": "2019-09-30T19:22:33.842353Z"
    }
   },
   "outputs": [
    {
     "name": "stdout",
     "output_type": "stream",
     "text": [
      "Avg accuracy:     0.712\n",
      "Median accuracy:  0.712\n",
      "StdDev accuracy:  0.012\n",
      "Numer of trials:  30\n"
     ]
    },
    {
     "data": {
      "text/html": [
       "\n",
       "                <audio controls=\"controls\" autoplay=\"autoplay\">\n",
       "                    <source src=\"./data/ping.wav\" type=\"audio/x-wav\" />\n",
       "                    Your browser does not support the audio element.\n",
       "                </audio>\n",
       "              "
      ],
      "text/plain": [
       "<IPython.lib.display.Audio object>"
      ]
     },
     "metadata": {},
     "output_type": "display_data"
    }
   ],
   "source": [
    "# 1:10\n",
    "model_params = {'classifier': 'rfc', \n",
    "                'aug_type': 'random', \n",
    "                'k': 10, \n",
    "                'feat_data': X_enm, \n",
    "                'bin_data': bin_enm, \n",
    "                'param_grid': rfc_param_grid\n",
    "               }\n",
    "a, b, _, _ = blt.multi_trials(num_trials=30, model_params=model_params)\n",
    "results_rfc.iloc[7,1:3] = a, b"
   ]
  },
  {
   "cell_type": "code",
   "execution_count": 66,
   "metadata": {
    "ExecuteTime": {
     "end_time": "2019-10-30T09:41:34.367877Z",
     "start_time": "2019-10-30T09:18:33.428922Z"
    }
   },
   "outputs": [
    {
     "name": "stdout",
     "output_type": "stream",
     "text": [
      "Avg accuracy:     0.707\n",
      "Median accuracy:  0.707\n",
      "StdDev accuracy:  0.015\n",
      "Numer of trials:  30\n"
     ]
    },
    {
     "data": {
      "text/html": [
       "\n",
       "                <audio controls=\"controls\" autoplay=\"autoplay\">\n",
       "                    <source src=\"./data/ping.wav\" type=\"audio/x-wav\" />\n",
       "                    Your browser does not support the audio element.\n",
       "                </audio>\n",
       "              "
      ],
      "text/plain": [
       "<IPython.lib.display.Audio object>"
      ]
     },
     "metadata": {},
     "output_type": "display_data"
    }
   ],
   "source": [
    "# 1:20\n",
    "model_params = {'classifier': 'rfc', \n",
    "                'aug_type': 'random', \n",
    "                'k': 20, \n",
    "                'feat_data': X_enm, \n",
    "                'bin_data': bin_enm, \n",
    "                'param_grid': rfc_param_grid\n",
    "               }\n",
    "a, b, _, _ = blt.multi_trials(num_trials=30, model_params=model_params)\n",
    "results_rfc.iloc[8,1:3] = a, b"
   ]
  },
  {
   "cell_type": "markdown",
   "metadata": {
    "collapsed": true
   },
   "source": [
    "## Matching (unsupervised) augmented data"
   ]
  },
  {
   "cell_type": "code",
   "execution_count": 31,
   "metadata": {
    "ExecuteTime": {
     "end_time": "2019-10-21T02:50:41.413731Z",
     "start_time": "2019-10-21T02:38:52.373393Z"
    }
   },
   "outputs": [
    {
     "name": "stdout",
     "output_type": "stream",
     "text": [
      "Avg accuracy:     0.713\n",
      "Median accuracy:  0.711\n",
      "StdDev accuracy:  0.015\n",
      "Numer of trials:  30\n"
     ]
    },
    {
     "data": {
      "text/html": [
       "\n",
       "                <audio controls=\"controls\" autoplay=\"autoplay\">\n",
       "                    <source src=\"./data/ping.wav\" type=\"audio/x-wav\" />\n",
       "                    Your browser does not support the audio element.\n",
       "                </audio>\n",
       "              "
      ],
      "text/plain": [
       "<IPython.lib.display.Audio object>"
      ]
     },
     "metadata": {},
     "output_type": "display_data"
    }
   ],
   "source": [
    "# 1:1\n",
    "model_params = {'classifier': 'rfc', \n",
    "                'aug_type': 'uns_match', \n",
    "                'k': 1, \n",
    "                'feat_data': X_enm, \n",
    "                'bin_data': bin_enm, \n",
    "                'param_grid': rfc_param_grid\n",
    "               }\n",
    "a, b, _, _ = blt.multi_trials(num_trials=30, model_params=model_params)\n",
    "results_rfc.iloc[2,3:5] = a, b"
   ]
  },
  {
   "cell_type": "code",
   "execution_count": 32,
   "metadata": {
    "ExecuteTime": {
     "end_time": "2019-10-21T03:22:57.596294Z",
     "start_time": "2019-10-21T03:10:08.700661Z"
    }
   },
   "outputs": [
    {
     "name": "stdout",
     "output_type": "stream",
     "text": [
      "Avg accuracy:     0.71\n",
      "Median accuracy:  0.71\n",
      "StdDev accuracy:  0.011\n",
      "Numer of trials:  30\n"
     ]
    },
    {
     "data": {
      "text/html": [
       "\n",
       "                <audio controls=\"controls\" autoplay=\"autoplay\">\n",
       "                    <source src=\"./data/ping.wav\" type=\"audio/x-wav\" />\n",
       "                    Your browser does not support the audio element.\n",
       "                </audio>\n",
       "              "
      ],
      "text/plain": [
       "<IPython.lib.display.Audio object>"
      ]
     },
     "metadata": {},
     "output_type": "display_data"
    }
   ],
   "source": [
    "# 1:2\n",
    "model_params = {'classifier': 'rfc', \n",
    "                'aug_type': 'uns_match', \n",
    "                'k': 2, \n",
    "                'feat_data': X_enm, \n",
    "                'bin_data': bin_enm, \n",
    "                'param_grid': rfc_param_grid\n",
    "               }\n",
    "a, b, _, _ = blt.multi_trials(num_trials=30, model_params=model_params)\n",
    "results_rfc.iloc[3,3:5] = a, b"
   ]
  },
  {
   "cell_type": "code",
   "execution_count": 40,
   "metadata": {
    "ExecuteTime": {
     "end_time": "2019-10-21T05:26:50.802749Z",
     "start_time": "2019-10-21T05:13:28.794243Z"
    }
   },
   "outputs": [
    {
     "name": "stdout",
     "output_type": "stream",
     "text": [
      "Avg accuracy:     0.712\n",
      "Median accuracy:  0.713\n",
      "StdDev accuracy:  0.014\n",
      "Numer of trials:  30\n"
     ]
    },
    {
     "data": {
      "text/html": [
       "\n",
       "                <audio controls=\"controls\" autoplay=\"autoplay\">\n",
       "                    <source src=\"./data/ping.wav\" type=\"audio/x-wav\" />\n",
       "                    Your browser does not support the audio element.\n",
       "                </audio>\n",
       "              "
      ],
      "text/plain": [
       "<IPython.lib.display.Audio object>"
      ]
     },
     "metadata": {},
     "output_type": "display_data"
    }
   ],
   "source": [
    "# 1:3\n",
    "model_params = {'classifier': 'rfc', \n",
    "                'aug_type': 'uns_match', \n",
    "                'k': 3, \n",
    "                'feat_data': X_enm, \n",
    "                'bin_data': bin_enm, \n",
    "                'param_grid': rfc_param_grid\n",
    "               }\n",
    "a, b, _, _ = blt.multi_trials(num_trials=30, model_params=model_params)\n",
    "results_rfc.iloc[4,3:5] = a, b"
   ]
  },
  {
   "cell_type": "code",
   "execution_count": 59,
   "metadata": {
    "ExecuteTime": {
     "end_time": "2019-10-28T02:43:48.028469Z",
     "start_time": "2019-10-28T02:27:58.965034Z"
    }
   },
   "outputs": [
    {
     "name": "stdout",
     "output_type": "stream",
     "text": [
      "Avg accuracy:     0.71\n",
      "Median accuracy:  0.707\n",
      "StdDev accuracy:  0.011\n",
      "Numer of trials:  30\n"
     ]
    },
    {
     "data": {
      "text/html": [
       "\n",
       "                <audio controls=\"controls\" autoplay=\"autoplay\">\n",
       "                    <source src=\"./data/ping.wav\" type=\"audio/x-wav\" />\n",
       "                    Your browser does not support the audio element.\n",
       "                </audio>\n",
       "              "
      ],
      "text/plain": [
       "<IPython.lib.display.Audio object>"
      ]
     },
     "metadata": {},
     "output_type": "display_data"
    }
   ],
   "source": [
    "# 1:4\n",
    "model_params = {'classifier': 'rfc', \n",
    "                'aug_type': 'uns_match', \n",
    "                'k': 4, \n",
    "                'feat_data': X_enm, \n",
    "                'bin_data': bin_enm, \n",
    "                'param_grid': rfc_param_grid\n",
    "               }\n",
    "a, b, _, _ = blt.multi_trials(num_trials=30, model_params=model_params)\n",
    "results_rfc.iloc[5,3:5] = a, b"
   ]
  },
  {
   "cell_type": "code",
   "execution_count": 61,
   "metadata": {
    "ExecuteTime": {
     "end_time": "2019-10-30T06:43:20.141422Z",
     "start_time": "2019-10-30T04:50:16.966934Z"
    }
   },
   "outputs": [
    {
     "name": "stdout",
     "output_type": "stream",
     "text": [
      "Avg accuracy:     0.706\n",
      "Median accuracy:  0.705\n",
      "StdDev accuracy:  0.01\n",
      "Numer of trials:  30\n"
     ]
    },
    {
     "data": {
      "text/html": [
       "\n",
       "                <audio controls=\"controls\" autoplay=\"autoplay\">\n",
       "                    <source src=\"./data/ping.wav\" type=\"audio/x-wav\" />\n",
       "                    Your browser does not support the audio element.\n",
       "                </audio>\n",
       "              "
      ],
      "text/plain": [
       "<IPython.lib.display.Audio object>"
      ]
     },
     "metadata": {},
     "output_type": "display_data"
    }
   ],
   "source": [
    "# 1:5\n",
    "model_params = {'classifier': 'rfc', \n",
    "                'aug_type': 'uns_match', \n",
    "                'k': 5, \n",
    "                'feat_data': X_enm, \n",
    "                'bin_data': bin_enm, \n",
    "                'param_grid': rfc_param_grid\n",
    "               }\n",
    "a, b, _, _ = blt.multi_trials(num_trials=30, model_params=model_params)\n",
    "results_rfc.iloc[6,3:5] = a, b"
   ]
  },
  {
   "cell_type": "code",
   "execution_count": 62,
   "metadata": {
    "ExecuteTime": {
     "end_time": "2019-10-30T08:57:49.522322Z",
     "start_time": "2019-10-30T08:41:36.220773Z"
    }
   },
   "outputs": [
    {
     "name": "stdout",
     "output_type": "stream",
     "text": [
      "Avg accuracy:     0.706\n",
      "Median accuracy:  0.704\n",
      "StdDev accuracy:  0.013\n",
      "Numer of trials:  30\n"
     ]
    },
    {
     "data": {
      "text/html": [
       "\n",
       "                <audio controls=\"controls\" autoplay=\"autoplay\">\n",
       "                    <source src=\"./data/ping.wav\" type=\"audio/x-wav\" />\n",
       "                    Your browser does not support the audio element.\n",
       "                </audio>\n",
       "              "
      ],
      "text/plain": [
       "<IPython.lib.display.Audio object>"
      ]
     },
     "metadata": {},
     "output_type": "display_data"
    }
   ],
   "source": [
    "# 1:10\n",
    "model_params = {'classifier': 'rfc', \n",
    "                'aug_type': 'uns_match', \n",
    "                'k': 10, \n",
    "                'feat_data': X_enm, \n",
    "                'bin_data': bin_enm, \n",
    "                'param_grid': rfc_param_grid\n",
    "               }\n",
    "a, b, _, _ = blt.multi_trials(num_trials=30, model_params=model_params)\n",
    "results_rfc.iloc[7,3:5] = a, b"
   ]
  },
  {
   "cell_type": "code",
   "execution_count": 63,
   "metadata": {
    "ExecuteTime": {
     "end_time": "2019-10-30T09:18:33.272012Z",
     "start_time": "2019-10-30T08:57:49.525079Z"
    }
   },
   "outputs": [
    {
     "name": "stdout",
     "output_type": "stream",
     "text": [
      "Avg accuracy:     0.704\n",
      "Median accuracy:  0.701\n",
      "StdDev accuracy:  0.011\n",
      "Numer of trials:  30\n"
     ]
    },
    {
     "data": {
      "text/html": [
       "\n",
       "                <audio controls=\"controls\" autoplay=\"autoplay\">\n",
       "                    <source src=\"./data/ping.wav\" type=\"audio/x-wav\" />\n",
       "                    Your browser does not support the audio element.\n",
       "                </audio>\n",
       "              "
      ],
      "text/plain": [
       "<IPython.lib.display.Audio object>"
      ]
     },
     "metadata": {},
     "output_type": "display_data"
    }
   ],
   "source": [
    "# 1:20\n",
    "model_params = {'classifier': 'rfc', \n",
    "                'aug_type': 'uns_match', \n",
    "                'k': 20, \n",
    "                'feat_data': X_enm, \n",
    "                'bin_data': bin_enm, \n",
    "                'param_grid': rfc_param_grid\n",
    "               }\n",
    "a, b, _, _ = blt.multi_trials(num_trials=30, model_params=model_params)\n",
    "results_rfc.iloc[8,3:5] = a, b"
   ]
  },
  {
   "cell_type": "markdown",
   "metadata": {},
   "source": [
    "## Matching (supervised) augmented data"
   ]
  },
  {
   "cell_type": "code",
   "execution_count": 42,
   "metadata": {
    "ExecuteTime": {
     "end_time": "2019-10-21T06:10:20.381420Z",
     "start_time": "2019-10-21T05:57:47.451246Z"
    }
   },
   "outputs": [
    {
     "name": "stdout",
     "output_type": "stream",
     "text": [
      "Avg accuracy:     0.713\n",
      "Median accuracy:  0.712\n",
      "StdDev accuracy:  0.011\n",
      "Numer of trials:  30\n",
      "Results:  [0.74, 0.71, 0.72, 0.71, 0.69, 0.71, 0.71, 0.71, 0.71, 0.73, 0.71, 0.72, 0.7, 0.71, 0.7, 0.7, 0.72, 0.71, 0.7, 0.71, 0.71, 0.7, 0.73, 0.72, 0.74, 0.71, 0.71, 0.72, 0.72, 0.7]\n"
     ]
    },
    {
     "data": {
      "text/html": [
       "\n",
       "                <audio controls=\"controls\" autoplay=\"autoplay\">\n",
       "                    <source src=\"./data/ping.wav\" type=\"audio/x-wav\" />\n",
       "                    Your browser does not support the audio element.\n",
       "                </audio>\n",
       "              "
      ],
      "text/plain": [
       "<IPython.lib.display.Audio object>"
      ]
     },
     "metadata": {},
     "output_type": "display_data"
    }
   ],
   "source": [
    "# 1:1\n",
    "model_params = {'classifier': 'rfc', \n",
    "                'aug_type': 'sup_match', \n",
    "                'k': 1, \n",
    "                'feat_data': X_enm, \n",
    "                'bin_data': bin_enm, \n",
    "                'param_grid': rfc_param_grid\n",
    "               }\n",
    "a, b, _, _ = blt.multi_trials(num_trials=30, print_results=True, \n",
    "                              model_params=model_params)\n",
    "results_rfc.iloc[2,5:7] = a, b"
   ]
  },
  {
   "cell_type": "code",
   "execution_count": 43,
   "metadata": {
    "ExecuteTime": {
     "end_time": "2019-10-21T06:23:23.123412Z",
     "start_time": "2019-10-21T06:10:20.383708Z"
    }
   },
   "outputs": [
    {
     "name": "stdout",
     "output_type": "stream",
     "text": [
      "Avg accuracy:     0.703\n",
      "Median accuracy:  0.702\n",
      "StdDev accuracy:  0.012\n",
      "Numer of trials:  30\n",
      "Results:  [0.73, 0.69, 0.71, 0.69, 0.7, 0.7, 0.69, 0.7, 0.71, 0.7, 0.71, 0.7, 0.68, 0.7, 0.69, 0.71, 0.7, 0.69, 0.68, 0.7, 0.71, 0.73, 0.69, 0.73, 0.71, 0.7, 0.71, 0.7, 0.72, 0.71]\n"
     ]
    },
    {
     "data": {
      "text/html": [
       "\n",
       "                <audio controls=\"controls\" autoplay=\"autoplay\">\n",
       "                    <source src=\"./data/ping.wav\" type=\"audio/x-wav\" />\n",
       "                    Your browser does not support the audio element.\n",
       "                </audio>\n",
       "              "
      ],
      "text/plain": [
       "<IPython.lib.display.Audio object>"
      ]
     },
     "metadata": {},
     "output_type": "display_data"
    }
   ],
   "source": [
    "# 1:2\n",
    "model_params = {'classifier': 'rfc', \n",
    "                'aug_type': 'sup_match', \n",
    "                'k': 2, \n",
    "                'feat_data': X_enm, \n",
    "                'bin_data': bin_enm, \n",
    "                'param_grid': rfc_param_grid\n",
    "               }\n",
    "a, b, _, _ = blt.multi_trials(num_trials=30, print_results=True, \n",
    "                              model_params=model_params)\n",
    "results_rfc.iloc[3,5:7] = a, b"
   ]
  },
  {
   "cell_type": "code",
   "execution_count": 44,
   "metadata": {
    "ExecuteTime": {
     "end_time": "2019-10-21T06:37:04.424491Z",
     "start_time": "2019-10-21T06:23:23.130305Z"
    }
   },
   "outputs": [
    {
     "name": "stdout",
     "output_type": "stream",
     "text": [
      "Avg accuracy:     0.706\n",
      "Median accuracy:  0.707\n",
      "StdDev accuracy:  0.011\n",
      "Numer of trials:  30\n",
      "Results:  [0.73, 0.7, 0.72, 0.71, 0.7, 0.72, 0.7, 0.71, 0.71, 0.71, 0.7, 0.7, 0.71, 0.71, 0.7, 0.71, 0.71, 0.7, 0.69, 0.73, 0.69, 0.7, 0.71, 0.72, 0.71, 0.68, 0.73, 0.7, 0.69, 0.7]\n"
     ]
    },
    {
     "data": {
      "text/html": [
       "\n",
       "                <audio controls=\"controls\" autoplay=\"autoplay\">\n",
       "                    <source src=\"./data/ping.wav\" type=\"audio/x-wav\" />\n",
       "                    Your browser does not support the audio element.\n",
       "                </audio>\n",
       "              "
      ],
      "text/plain": [
       "<IPython.lib.display.Audio object>"
      ]
     },
     "metadata": {},
     "output_type": "display_data"
    }
   ],
   "source": [
    "# 1:3\n",
    "model_params = {'classifier': 'rfc', \n",
    "                'aug_type': 'sup_match', \n",
    "                'k': 3, \n",
    "                'feat_data': X_enm, \n",
    "                'bin_data': bin_enm, \n",
    "                'param_grid': rfc_param_grid\n",
    "               }\n",
    "a, b, _, _ = blt.multi_trials(num_trials=30, print_results=True, \n",
    "                              model_params=model_params)\n",
    "results_rfc.iloc[4,5:7] = a, b"
   ]
  },
  {
   "cell_type": "code",
   "execution_count": 45,
   "metadata": {
    "ExecuteTime": {
     "end_time": "2019-10-21T06:52:13.113559Z",
     "start_time": "2019-10-21T06:37:44.548957Z"
    }
   },
   "outputs": [
    {
     "name": "stdout",
     "output_type": "stream",
     "text": [
      "Avg accuracy:     0.71\n",
      "Median accuracy:  0.71\n",
      "StdDev accuracy:  0.012\n",
      "Numer of trials:  30\n",
      "Results:  [0.72, 0.7, 0.73, 0.71, 0.72, 0.71, 0.72, 0.72, 0.7, 0.73, 0.71, 0.7, 0.69, 0.68, 0.7, 0.71, 0.71, 0.72, 0.69, 0.72, 0.7, 0.71, 0.72, 0.72, 0.7, 0.73, 0.72, 0.7, 0.71, 0.71]\n"
     ]
    },
    {
     "data": {
      "text/html": [
       "\n",
       "                <audio controls=\"controls\" autoplay=\"autoplay\">\n",
       "                    <source src=\"./data/ping.wav\" type=\"audio/x-wav\" />\n",
       "                    Your browser does not support the audio element.\n",
       "                </audio>\n",
       "              "
      ],
      "text/plain": [
       "<IPython.lib.display.Audio object>"
      ]
     },
     "metadata": {},
     "output_type": "display_data"
    }
   ],
   "source": [
    "# 1:4\n",
    "model_params = {'classifier': 'rfc', \n",
    "                'aug_type': 'sup_match', \n",
    "                'k': 4, \n",
    "                'feat_data': X_enm, \n",
    "                'bin_data': bin_enm, \n",
    "                'param_grid': rfc_param_grid\n",
    "               }\n",
    "a, b, _, _ = blt.multi_trials(num_trials=30, print_results=True, \n",
    "                              model_params=model_params)\n",
    "results_rfc.iloc[5,5:7] = a, b"
   ]
  },
  {
   "cell_type": "code",
   "execution_count": 46,
   "metadata": {
    "ExecuteTime": {
     "end_time": "2019-10-21T07:07:04.700881Z",
     "start_time": "2019-10-21T06:52:13.115702Z"
    }
   },
   "outputs": [
    {
     "name": "stdout",
     "output_type": "stream",
     "text": [
      "Avg accuracy:     0.708\n",
      "Median accuracy:  0.711\n",
      "StdDev accuracy:  0.012\n",
      "Numer of trials:  30\n",
      "Results:  [0.73, 0.71, 0.71, 0.68, 0.7, 0.71, 0.71, 0.68, 0.72, 0.7, 0.71, 0.72, 0.7, 0.72, 0.71, 0.72, 0.72, 0.71, 0.7, 0.74, 0.69, 0.69, 0.71, 0.71, 0.72, 0.71, 0.7, 0.7, 0.7, 0.72]\n"
     ]
    },
    {
     "data": {
      "text/html": [
       "\n",
       "                <audio controls=\"controls\" autoplay=\"autoplay\">\n",
       "                    <source src=\"./data/ping.wav\" type=\"audio/x-wav\" />\n",
       "                    Your browser does not support the audio element.\n",
       "                </audio>\n",
       "              "
      ],
      "text/plain": [
       "<IPython.lib.display.Audio object>"
      ]
     },
     "metadata": {},
     "output_type": "display_data"
    }
   ],
   "source": [
    "# 1:5\n",
    "model_params = {'classifier': 'rfc', \n",
    "                'aug_type': 'sup_match', \n",
    "                'k': 5, \n",
    "                'feat_data': X_enm, \n",
    "                'bin_data': bin_enm, \n",
    "                'param_grid': rfc_param_grid\n",
    "               }\n",
    "a, b, _, _ = blt.multi_trials(num_trials=30, print_results=True, \n",
    "                              model_params=model_params)\n",
    "results_rfc.iloc[6,5:7] = a, b"
   ]
  },
  {
   "cell_type": "code",
   "execution_count": 47,
   "metadata": {
    "ExecuteTime": {
     "end_time": "2019-10-21T07:24:17.660866Z",
     "start_time": "2019-10-21T07:07:04.702809Z"
    }
   },
   "outputs": [
    {
     "name": "stdout",
     "output_type": "stream",
     "text": [
      "Avg accuracy:     0.708\n",
      "Median accuracy:  0.707\n",
      "StdDev accuracy:  0.012\n",
      "Numer of trials:  30\n",
      "Results:  [0.71, 0.7, 0.7, 0.7, 0.72, 0.73, 0.72, 0.69, 0.72, 0.7, 0.69, 0.69, 0.69, 0.72, 0.71, 0.71, 0.73, 0.7, 0.7, 0.74, 0.71, 0.71, 0.71, 0.7, 0.72, 0.7, 0.69, 0.71, 0.71, 0.7]\n"
     ]
    },
    {
     "data": {
      "text/html": [
       "\n",
       "                <audio controls=\"controls\" autoplay=\"autoplay\">\n",
       "                    <source src=\"./data/ping.wav\" type=\"audio/x-wav\" />\n",
       "                    Your browser does not support the audio element.\n",
       "                </audio>\n",
       "              "
      ],
      "text/plain": [
       "<IPython.lib.display.Audio object>"
      ]
     },
     "metadata": {},
     "output_type": "display_data"
    }
   ],
   "source": [
    "# 1:10\n",
    "model_params = {'classifier': 'rfc', \n",
    "                'aug_type': 'sup_match', \n",
    "                'k': 10, \n",
    "                'feat_data': X_enm, \n",
    "                'bin_data': bin_enm, \n",
    "                'param_grid': rfc_param_grid\n",
    "               }\n",
    "a, b, _, _ = blt.multi_trials(num_trials=30, print_results=True, \n",
    "                              model_params=model_params)\n",
    "results_rfc.iloc[7,5:7] = a, b"
   ]
  },
  {
   "cell_type": "code",
   "execution_count": 57,
   "metadata": {
    "ExecuteTime": {
     "end_time": "2019-10-26T02:57:05.289971Z",
     "start_time": "2019-10-26T02:31:22.444784Z"
    }
   },
   "outputs": [
    {
     "name": "stdout",
     "output_type": "stream",
     "text": [
      "Avg accuracy:     0.699\n",
      "Median accuracy:  0.701\n",
      "StdDev accuracy:  0.011\n",
      "Numer of trials:  30\n",
      "Results:  [0.7, 0.72, 0.7, 0.69, 0.69, 0.7, 0.7, 0.67, 0.72, 0.7, 0.7, 0.69, 0.69, 0.71, 0.68, 0.71, 0.7, 0.7, 0.68, 0.71, 0.69, 0.71, 0.72, 0.68, 0.7, 0.7, 0.7, 0.7, 0.7, 0.7]\n"
     ]
    },
    {
     "data": {
      "text/html": [
       "\n",
       "                <audio controls=\"controls\" autoplay=\"autoplay\">\n",
       "                    <source src=\"./data/ping.wav\" type=\"audio/x-wav\" />\n",
       "                    Your browser does not support the audio element.\n",
       "                </audio>\n",
       "              "
      ],
      "text/plain": [
       "<IPython.lib.display.Audio object>"
      ]
     },
     "metadata": {},
     "output_type": "display_data"
    }
   ],
   "source": [
    "# 1:20\n",
    "model_params = {'classifier': 'rfc', \n",
    "                'aug_type': 'sup_match', \n",
    "                'k': 20, \n",
    "                'feat_data': X_enm, \n",
    "                'bin_data': bin_enm, \n",
    "                'param_grid': rfc_param_grid\n",
    "               }\n",
    "a, b, _, _ = blt.multi_trials(num_trials=30, print_results=True, \n",
    "                              model_params=model_params)\n",
    "results_rfc.iloc[8,5:7] = a, b"
   ]
  },
  {
   "cell_type": "markdown",
   "metadata": {},
   "source": [
    "# Performance Results"
   ]
  },
  {
   "cell_type": "markdown",
   "metadata": {},
   "source": [
    "The following two table summarize the average balanced accuracy for the 1) SVC-RBF models and 2) RFC models on all training data iterations.\n",
    "* 'ENM-Organics-Ratio' describes the ratio of ENM data to organics data used for augmentation. \n",
    "* An ENM-Organics-Ratio with ( * ) indicates that the labels were randomly permuted\n",
    "* 'Match-Feature-Augment' is average balanced accuracy across all bins for data frames with ENM data augmented with organics data based on the closest matching features.\n",
    "* 'Avg-Unsupervised-Match' is average accuracy across all bins for data frames with ENM data augmented with organics data based on the closest matching features AND labels (weighted 1:1).\n",
    "* The second trial (B) of the ENM-only data (1:0 ratio) is with different a different parameter grid for optimizing the SVC-RBF.\n",
    "\n",
    "Matching augmentation was not performed on data frames only containing ENM data (non-permuted and permuted)."
   ]
  },
  {
   "cell_type": "markdown",
   "metadata": {},
   "source": [
    "## SVC-RBF"
   ]
  },
  {
   "cell_type": "code",
   "execution_count": 26,
   "metadata": {
    "ExecuteTime": {
     "end_time": "2019-11-25T22:53:04.009431Z",
     "start_time": "2019-11-25T22:53:03.972570Z"
    }
   },
   "outputs": [
    {
     "data": {
      "text/html": [
       "<style  type=\"text/css\" >\n",
       "    #T_56b021e2_0fd6_11ea_94ed_38f9d35f0336row0_col0 {\n",
       "            background-color:  #ffe81b;\n",
       "            color:  #000000;\n",
       "        }    #T_56b021e2_0fd6_11ea_94ed_38f9d35f0336row0_col1 {\n",
       "            background-color:  #e9fb68;\n",
       "            color:  #000000;\n",
       "        }    #T_56b021e2_0fd6_11ea_94ed_38f9d35f0336row0_col2 {\n",
       "            background-color:  #ffdc13;\n",
       "            color:  #000000;\n",
       "        }    #T_56b021e2_0fd6_11ea_94ed_38f9d35f0336row1_col0 {\n",
       "            background-color:  #f8ee32;\n",
       "            color:  #000000;\n",
       "        }    #T_56b021e2_0fd6_11ea_94ed_38f9d35f0336row1_col1 {\n",
       "            background-color:  #ffe81a;\n",
       "            color:  #000000;\n",
       "        }    #T_56b021e2_0fd6_11ea_94ed_38f9d35f0336row1_col2 {\n",
       "            background-color:  #ffe216;\n",
       "            color:  #000000;\n",
       "        }    #T_56b021e2_0fd6_11ea_94ed_38f9d35f0336row2_col0 {\n",
       "            background-color:  #ffe216;\n",
       "            color:  #000000;\n",
       "        }    #T_56b021e2_0fd6_11ea_94ed_38f9d35f0336row2_col1 {\n",
       "            background-color:  #ecf85c;\n",
       "            color:  #000000;\n",
       "        }    #T_56b021e2_0fd6_11ea_94ed_38f9d35f0336row2_col2 {\n",
       "            background-color:  #e4ff7a;\n",
       "            color:  #000000;\n",
       "        }    #T_56b021e2_0fd6_11ea_94ed_38f9d35f0336row3_col0 {\n",
       "            background-color:  #ffe216;\n",
       "            color:  #000000;\n",
       "        }    #T_56b021e2_0fd6_11ea_94ed_38f9d35f0336row3_col1 {\n",
       "            background-color:  #ffdc13;\n",
       "            color:  #000000;\n",
       "        }    #T_56b021e2_0fd6_11ea_94ed_38f9d35f0336row3_col2 {\n",
       "            background-color:  #ffda12;\n",
       "            color:  #000000;\n",
       "        }    #T_56b021e2_0fd6_11ea_94ed_38f9d35f0336row4_col0 {\n",
       "            background-color:  #ffc102;\n",
       "            color:  #000000;\n",
       "        }    #T_56b021e2_0fd6_11ea_94ed_38f9d35f0336row4_col1 {\n",
       "            background-color:  #ffe216;\n",
       "            color:  #000000;\n",
       "        }    #T_56b021e2_0fd6_11ea_94ed_38f9d35f0336row4_col2 {\n",
       "            background-color:  #ffba00;\n",
       "            color:  #000000;\n",
       "        }    #T_56b021e2_0fd6_11ea_94ed_38f9d35f0336row5_col0 {\n",
       "            background-color:  #ffe216;\n",
       "            color:  #000000;\n",
       "        }    #T_56b021e2_0fd6_11ea_94ed_38f9d35f0336row5_col1 {\n",
       "            background-color:  #ffba00;\n",
       "            color:  #000000;\n",
       "        }    #T_56b021e2_0fd6_11ea_94ed_38f9d35f0336row5_col2 {\n",
       "            background-color:  #ffce0a;\n",
       "            color:  #000000;\n",
       "        }    #T_56b021e2_0fd6_11ea_94ed_38f9d35f0336row6_col0 {\n",
       "            background-color:  #ffba00;\n",
       "            color:  #000000;\n",
       "        }    #T_56b021e2_0fd6_11ea_94ed_38f9d35f0336row6_col1 {\n",
       "            background-color:  #ffc404;\n",
       "            color:  #000000;\n",
       "        }    #T_56b021e2_0fd6_11ea_94ed_38f9d35f0336row6_col2 {\n",
       "            background-color:  #ffbc00;\n",
       "            color:  #000000;\n",
       "        }    #T_56b021e2_0fd6_11ea_94ed_38f9d35f0336row7_col0 {\n",
       "            background-color:  #e4ff7a;\n",
       "            color:  #000000;\n",
       "        }    #T_56b021e2_0fd6_11ea_94ed_38f9d35f0336row7_col1 {\n",
       "            background-color:  #e4ff7a;\n",
       "            color:  #000000;\n",
       "        }    #T_56b021e2_0fd6_11ea_94ed_38f9d35f0336row7_col2 {\n",
       "            background-color:  #f1f44d;\n",
       "            color:  #000000;\n",
       "        }</style><table id=\"T_56b021e2_0fd6_11ea_94ed_38f9d35f0336\" ><caption>Colormap of average balanced accuracy for SVC-RBF models.</caption><thead>    <tr>        <th class=\"blank level0\" ></th>        <th class=\"col_heading level0 col0\" >Avg-Random-Augment</th>        <th class=\"col_heading level0 col1\" >Avg-Unsupervised-Match</th>        <th class=\"col_heading level0 col2\" >Avg-Supervised-Match</th>    </tr>    <tr>        <th class=\"index_name level0\" >ENM-Organics-Ratio</th>        <th class=\"blank\" ></th>        <th class=\"blank\" ></th>        <th class=\"blank\" ></th>    </tr></thead><tbody>\n",
       "                <tr>\n",
       "                        <th id=\"T_56b021e2_0fd6_11ea_94ed_38f9d35f0336level0_row0\" class=\"row_heading level0 row0\" >1:0</th>\n",
       "                        <td id=\"T_56b021e2_0fd6_11ea_94ed_38f9d35f0336row0_col0\" class=\"data row0 col0\" >0.715</td>\n",
       "                        <td id=\"T_56b021e2_0fd6_11ea_94ed_38f9d35f0336row0_col1\" class=\"data row0 col1\" >0.715</td>\n",
       "                        <td id=\"T_56b021e2_0fd6_11ea_94ed_38f9d35f0336row0_col2\" class=\"data row0 col2\" >0.715</td>\n",
       "            </tr>\n",
       "            <tr>\n",
       "                        <th id=\"T_56b021e2_0fd6_11ea_94ed_38f9d35f0336level0_row1\" class=\"row_heading level0 row1\" >1:1</th>\n",
       "                        <td id=\"T_56b021e2_0fd6_11ea_94ed_38f9d35f0336row1_col0\" class=\"data row1 col0\" >0.714</td>\n",
       "                        <td id=\"T_56b021e2_0fd6_11ea_94ed_38f9d35f0336row1_col1\" class=\"data row1 col1\" >0.733</td>\n",
       "                        <td id=\"T_56b021e2_0fd6_11ea_94ed_38f9d35f0336row1_col2\" class=\"data row1 col2\" >0.713</td>\n",
       "            </tr>\n",
       "            <tr>\n",
       "                        <th id=\"T_56b021e2_0fd6_11ea_94ed_38f9d35f0336level0_row2\" class=\"row_heading level0 row2\" >1:2</th>\n",
       "                        <td id=\"T_56b021e2_0fd6_11ea_94ed_38f9d35f0336row2_col0\" class=\"data row2 col0\" >0.716</td>\n",
       "                        <td id=\"T_56b021e2_0fd6_11ea_94ed_38f9d35f0336row2_col1\" class=\"data row2 col1\" >0.718</td>\n",
       "                        <td id=\"T_56b021e2_0fd6_11ea_94ed_38f9d35f0336row2_col2\" class=\"data row2 col2\" >0.694</td>\n",
       "            </tr>\n",
       "            <tr>\n",
       "                        <th id=\"T_56b021e2_0fd6_11ea_94ed_38f9d35f0336level0_row3\" class=\"row_heading level0 row3\" >1:3</th>\n",
       "                        <td id=\"T_56b021e2_0fd6_11ea_94ed_38f9d35f0336row3_col0\" class=\"data row3 col0\" >0.716</td>\n",
       "                        <td id=\"T_56b021e2_0fd6_11ea_94ed_38f9d35f0336row3_col1\" class=\"data row3 col1\" >0.739</td>\n",
       "                        <td id=\"T_56b021e2_0fd6_11ea_94ed_38f9d35f0336row3_col2\" class=\"data row3 col2\" >0.716</td>\n",
       "            </tr>\n",
       "            <tr>\n",
       "                        <th id=\"T_56b021e2_0fd6_11ea_94ed_38f9d35f0336level0_row4\" class=\"row_heading level0 row4\" >1:4</th>\n",
       "                        <td id=\"T_56b021e2_0fd6_11ea_94ed_38f9d35f0336row4_col0\" class=\"data row4 col0\" >0.72</td>\n",
       "                        <td id=\"T_56b021e2_0fd6_11ea_94ed_38f9d35f0336row4_col1\" class=\"data row4 col1\" >0.736</td>\n",
       "                        <td id=\"T_56b021e2_0fd6_11ea_94ed_38f9d35f0336row4_col2\" class=\"data row4 col2\" >0.729</td>\n",
       "            </tr>\n",
       "            <tr>\n",
       "                        <th id=\"T_56b021e2_0fd6_11ea_94ed_38f9d35f0336level0_row5\" class=\"row_heading level0 row5\" >1:5</th>\n",
       "                        <td id=\"T_56b021e2_0fd6_11ea_94ed_38f9d35f0336row5_col0\" class=\"data row5 col0\" >0.716</td>\n",
       "                        <td id=\"T_56b021e2_0fd6_11ea_94ed_38f9d35f0336row5_col1\" class=\"data row5 col1\" >0.757</td>\n",
       "                        <td id=\"T_56b021e2_0fd6_11ea_94ed_38f9d35f0336row5_col2\" class=\"data row5 col2\" >0.721</td>\n",
       "            </tr>\n",
       "            <tr>\n",
       "                        <th id=\"T_56b021e2_0fd6_11ea_94ed_38f9d35f0336level0_row6\" class=\"row_heading level0 row6\" >1:10</th>\n",
       "                        <td id=\"T_56b021e2_0fd6_11ea_94ed_38f9d35f0336row6_col0\" class=\"data row6 col0\" >0.721</td>\n",
       "                        <td id=\"T_56b021e2_0fd6_11ea_94ed_38f9d35f0336row6_col1\" class=\"data row6 col1\" >0.751</td>\n",
       "                        <td id=\"T_56b021e2_0fd6_11ea_94ed_38f9d35f0336row6_col2\" class=\"data row6 col2\" >0.728</td>\n",
       "            </tr>\n",
       "            <tr>\n",
       "                        <th id=\"T_56b021e2_0fd6_11ea_94ed_38f9d35f0336level0_row7\" class=\"row_heading level0 row7\" >1:20</th>\n",
       "                        <td id=\"T_56b021e2_0fd6_11ea_94ed_38f9d35f0336row7_col0\" class=\"data row7 col0\" >0.71</td>\n",
       "                        <td id=\"T_56b021e2_0fd6_11ea_94ed_38f9d35f0336row7_col1\" class=\"data row7 col1\" >0.711</td>\n",
       "                        <td id=\"T_56b021e2_0fd6_11ea_94ed_38f9d35f0336row7_col2\" class=\"data row7 col2\" >0.702</td>\n",
       "            </tr>\n",
       "    </tbody></table>"
      ],
      "text/plain": [
       "<pandas.io.formats.style.Styler at 0x1162416a0>"
      ]
     },
     "execution_count": 26,
     "metadata": {},
     "output_type": "execute_result"
    }
   ],
   "source": [
    "# View balanced accuracy results for all models as stylized heatmap\n",
    "cmap = matplotlib.cm.get_cmap('Wistia')\n",
    "(results_svc.iloc[:,[0,1,3,5]]\n",
    "     .set_index('ENM-Organics-Ratio')  # Set table index\n",
    "     .style\n",
    "     # Apply heatmap\n",
    "     .background_gradient(cmap=cmap, low=0, high=0.9, axis=0)\n",
    "     # Highlight maximum value in row\n",
    "     #.apply(blt.highlight_max, color=blt.rgba2hex(cmap(255)), axis=0)\n",
    "     # Recolor zeroes\n",
    "     #.applymap(lambda x: blt.recolor_text(x, color=blt.rgba2hex(cmap(0))))\n",
    "     .set_precision(3)  # Round decimals\n",
    "     .set_caption('Colormap of average balanced accuracy for SVC-RBF models.')\n",
    ")"
   ]
  },
  {
   "cell_type": "code",
   "execution_count": 54,
   "metadata": {
    "ExecuteTime": {
     "end_time": "2019-10-26T02:29:30.406218Z",
     "start_time": "2019-10-26T02:29:29.639516Z"
    }
   },
   "outputs": [
    {
     "data": {
      "text/html": [
       "<style  type=\"text/css\" >\n",
       "    #T_705194e2_f798_11e9_933e_38f9d35f0336row0_col0 {\n",
       "            background-color:  #e4ff7a;\n",
       "            color:  #000000;\n",
       "            : ;\n",
       "            color:  black;\n",
       "        }    #T_705194e2_f798_11e9_933e_38f9d35f0336row0_col1 {\n",
       "            background-color:  #e4ff7a;\n",
       "            color:  #000000;\n",
       "            : ;\n",
       "            color:  black;\n",
       "        }    #T_705194e2_f798_11e9_933e_38f9d35f0336row0_col2 {\n",
       "            background-color:  #e4ff7a;\n",
       "            color:  #000000;\n",
       "            : ;\n",
       "            color:  black;\n",
       "        }    #T_705194e2_f798_11e9_933e_38f9d35f0336row1_col0 {\n",
       "            background-color:  #ffbb00;\n",
       "            color:  #000000;\n",
       "            : ;\n",
       "            color:  black;\n",
       "        }    #T_705194e2_f798_11e9_933e_38f9d35f0336row1_col1 {\n",
       "            background-color:  #e4ff7a;\n",
       "            color:  #000000;\n",
       "            : ;\n",
       "            color:  black;\n",
       "        }    #T_705194e2_f798_11e9_933e_38f9d35f0336row1_col2 {\n",
       "            background-color:  #e4ff7a;\n",
       "            color:  #000000;\n",
       "            : ;\n",
       "            color:  black;\n",
       "        }    #T_705194e2_f798_11e9_933e_38f9d35f0336row2_col0 {\n",
       "            background-color:  #ffbb00;\n",
       "            color:  #000000;\n",
       "            : ;\n",
       "            color:  black;\n",
       "        }    #T_705194e2_f798_11e9_933e_38f9d35f0336row2_col1 {\n",
       "            background-color:  #e4ff7a;\n",
       "            color:  #000000;\n",
       "            : ;\n",
       "            color:  black;\n",
       "        }    #T_705194e2_f798_11e9_933e_38f9d35f0336row2_col2 {\n",
       "            background-color:  #e4ff7a;\n",
       "            color:  #000000;\n",
       "            : ;\n",
       "            color:  black;\n",
       "        }    #T_705194e2_f798_11e9_933e_38f9d35f0336row3_col0 {\n",
       "            background-color:  #ffbb00;\n",
       "            color:  #000000;\n",
       "            : ;\n",
       "            color:  black;\n",
       "        }    #T_705194e2_f798_11e9_933e_38f9d35f0336row3_col1 {\n",
       "            background-color:  #e4ff7a;\n",
       "            color:  #000000;\n",
       "            : ;\n",
       "            color:  black;\n",
       "        }    #T_705194e2_f798_11e9_933e_38f9d35f0336row3_col2 {\n",
       "            background-color:  #e4ff7a;\n",
       "            color:  #000000;\n",
       "            : ;\n",
       "            color:  black;\n",
       "        }    #T_705194e2_f798_11e9_933e_38f9d35f0336row4_col0 {\n",
       "            background-color:  #ffbb00;\n",
       "            color:  #000000;\n",
       "            : ;\n",
       "            color:  black;\n",
       "        }    #T_705194e2_f798_11e9_933e_38f9d35f0336row4_col1 {\n",
       "            background-color:  #e4ff7a;\n",
       "            color:  #000000;\n",
       "            : ;\n",
       "            color:  black;\n",
       "        }    #T_705194e2_f798_11e9_933e_38f9d35f0336row4_col2 {\n",
       "            background-color:  #e4ff7a;\n",
       "            color:  #000000;\n",
       "            : ;\n",
       "            color:  black;\n",
       "        }    #T_705194e2_f798_11e9_933e_38f9d35f0336row5_col0 {\n",
       "            background-color:  #ffba00;\n",
       "            color:  #000000;\n",
       "            : ;\n",
       "            color:  black;\n",
       "        }    #T_705194e2_f798_11e9_933e_38f9d35f0336row5_col1 {\n",
       "            background-color:  #e4ff7a;\n",
       "            color:  #000000;\n",
       "            : ;\n",
       "            color:  black;\n",
       "        }    #T_705194e2_f798_11e9_933e_38f9d35f0336row5_col2 {\n",
       "            background-color:  #e4ff7a;\n",
       "            color:  #000000;\n",
       "            background-color:  #fc7f00;\n",
       "            color:  black;\n",
       "        }    #T_705194e2_f798_11e9_933e_38f9d35f0336row6_col0 {\n",
       "            background-color:  #ffbb00;\n",
       "            color:  #000000;\n",
       "            : ;\n",
       "            color:  black;\n",
       "        }    #T_705194e2_f798_11e9_933e_38f9d35f0336row6_col1 {\n",
       "            background-color:  #e4ff7a;\n",
       "            color:  #000000;\n",
       "            background-color:  #fc7f00;\n",
       "            color:  black;\n",
       "        }    #T_705194e2_f798_11e9_933e_38f9d35f0336row6_col2 {\n",
       "            background-color:  #e4ff7a;\n",
       "            color:  #000000;\n",
       "            : ;\n",
       "            color:  black;\n",
       "        }    #T_705194e2_f798_11e9_933e_38f9d35f0336row7_col0 {\n",
       "            background-color:  #ffba00;\n",
       "            color:  #000000;\n",
       "            background-color:  #fc7f00;\n",
       "            color:  black;\n",
       "        }    #T_705194e2_f798_11e9_933e_38f9d35f0336row7_col1 {\n",
       "            background-color:  #e4ff7a;\n",
       "            color:  #000000;\n",
       "            : ;\n",
       "            color:  black;\n",
       "        }    #T_705194e2_f798_11e9_933e_38f9d35f0336row7_col2 {\n",
       "            background-color:  #e4ff7a;\n",
       "            color:  #000000;\n",
       "            : ;\n",
       "            color:  black;\n",
       "        }    #T_705194e2_f798_11e9_933e_38f9d35f0336row8_col0 {\n",
       "            background-color:  #ffbc00;\n",
       "            color:  #000000;\n",
       "            : ;\n",
       "            color:  black;\n",
       "        }    #T_705194e2_f798_11e9_933e_38f9d35f0336row8_col1 {\n",
       "            background-color:  #e4ff7a;\n",
       "            color:  #000000;\n",
       "            : ;\n",
       "            color:  black;\n",
       "        }    #T_705194e2_f798_11e9_933e_38f9d35f0336row8_col2 {\n",
       "            background-color:  #e4ff7a;\n",
       "            color:  #000000;\n",
       "            : ;\n",
       "            color:  black;\n",
       "        }</style><table id=\"T_705194e2_f798_11e9_933e_38f9d35f0336\" ><caption>Colormap of average balanced accuracy for SVC-RBF models.</caption><thead>    <tr>        <th class=\"blank level0\" ></th>        <th class=\"col_heading level0 col0\" >Avg-Random-Augment</th>        <th class=\"col_heading level0 col1\" >Avg-Unsupervised-Match</th>        <th class=\"col_heading level0 col2\" >Avg-Supervised-Match</th>    </tr>    <tr>        <th class=\"index_name level0\" >ENM-Organics-Ratio</th>        <th class=\"blank\" ></th>        <th class=\"blank\" ></th>        <th class=\"blank\" ></th>    </tr></thead><tbody>\n",
       "                <tr>\n",
       "                        <th id=\"T_705194e2_f798_11e9_933e_38f9d35f0336level0_row0\" class=\"row_heading level0 row0\" >1:0*</th>\n",
       "                        <td id=\"T_705194e2_f798_11e9_933e_38f9d35f0336row0_col0\" class=\"data row0 col0\" >0.403</td>\n",
       "                        <td id=\"T_705194e2_f798_11e9_933e_38f9d35f0336row0_col1\" class=\"data row0 col1\" >nan</td>\n",
       "                        <td id=\"T_705194e2_f798_11e9_933e_38f9d35f0336row0_col2\" class=\"data row0 col2\" >nan</td>\n",
       "            </tr>\n",
       "            <tr>\n",
       "                        <th id=\"T_705194e2_f798_11e9_933e_38f9d35f0336level0_row1\" class=\"row_heading level0 row1\" >1:0</th>\n",
       "                        <td id=\"T_705194e2_f798_11e9_933e_38f9d35f0336row1_col0\" class=\"data row1 col0\" >0.715</td>\n",
       "                        <td id=\"T_705194e2_f798_11e9_933e_38f9d35f0336row1_col1\" class=\"data row1 col1\" >nan</td>\n",
       "                        <td id=\"T_705194e2_f798_11e9_933e_38f9d35f0336row1_col2\" class=\"data row1 col2\" >nan</td>\n",
       "            </tr>\n",
       "            <tr>\n",
       "                        <th id=\"T_705194e2_f798_11e9_933e_38f9d35f0336level0_row2\" class=\"row_heading level0 row2\" >1:1</th>\n",
       "                        <td id=\"T_705194e2_f798_11e9_933e_38f9d35f0336row2_col0\" class=\"data row2 col0\" >0.714</td>\n",
       "                        <td id=\"T_705194e2_f798_11e9_933e_38f9d35f0336row2_col1\" class=\"data row2 col1\" >0.733</td>\n",
       "                        <td id=\"T_705194e2_f798_11e9_933e_38f9d35f0336row2_col2\" class=\"data row2 col2\" >0.713</td>\n",
       "            </tr>\n",
       "            <tr>\n",
       "                        <th id=\"T_705194e2_f798_11e9_933e_38f9d35f0336level0_row3\" class=\"row_heading level0 row3\" >1:2</th>\n",
       "                        <td id=\"T_705194e2_f798_11e9_933e_38f9d35f0336row3_col0\" class=\"data row3 col0\" >0.716</td>\n",
       "                        <td id=\"T_705194e2_f798_11e9_933e_38f9d35f0336row3_col1\" class=\"data row3 col1\" >0.718</td>\n",
       "                        <td id=\"T_705194e2_f798_11e9_933e_38f9d35f0336row3_col2\" class=\"data row3 col2\" >0.694</td>\n",
       "            </tr>\n",
       "            <tr>\n",
       "                        <th id=\"T_705194e2_f798_11e9_933e_38f9d35f0336level0_row4\" class=\"row_heading level0 row4\" >1:3</th>\n",
       "                        <td id=\"T_705194e2_f798_11e9_933e_38f9d35f0336row4_col0\" class=\"data row4 col0\" >0.716</td>\n",
       "                        <td id=\"T_705194e2_f798_11e9_933e_38f9d35f0336row4_col1\" class=\"data row4 col1\" >0.739</td>\n",
       "                        <td id=\"T_705194e2_f798_11e9_933e_38f9d35f0336row4_col2\" class=\"data row4 col2\" >0.716</td>\n",
       "            </tr>\n",
       "            <tr>\n",
       "                        <th id=\"T_705194e2_f798_11e9_933e_38f9d35f0336level0_row5\" class=\"row_heading level0 row5\" >1:4</th>\n",
       "                        <td id=\"T_705194e2_f798_11e9_933e_38f9d35f0336row5_col0\" class=\"data row5 col0\" >0.72</td>\n",
       "                        <td id=\"T_705194e2_f798_11e9_933e_38f9d35f0336row5_col1\" class=\"data row5 col1\" >0.736</td>\n",
       "                        <td id=\"T_705194e2_f798_11e9_933e_38f9d35f0336row5_col2\" class=\"data row5 col2\" >0.729</td>\n",
       "            </tr>\n",
       "            <tr>\n",
       "                        <th id=\"T_705194e2_f798_11e9_933e_38f9d35f0336level0_row6\" class=\"row_heading level0 row6\" >1:5</th>\n",
       "                        <td id=\"T_705194e2_f798_11e9_933e_38f9d35f0336row6_col0\" class=\"data row6 col0\" >0.716</td>\n",
       "                        <td id=\"T_705194e2_f798_11e9_933e_38f9d35f0336row6_col1\" class=\"data row6 col1\" >0.757</td>\n",
       "                        <td id=\"T_705194e2_f798_11e9_933e_38f9d35f0336row6_col2\" class=\"data row6 col2\" >0.721</td>\n",
       "            </tr>\n",
       "            <tr>\n",
       "                        <th id=\"T_705194e2_f798_11e9_933e_38f9d35f0336level0_row7\" class=\"row_heading level0 row7\" >1:10</th>\n",
       "                        <td id=\"T_705194e2_f798_11e9_933e_38f9d35f0336row7_col0\" class=\"data row7 col0\" >0.721</td>\n",
       "                        <td id=\"T_705194e2_f798_11e9_933e_38f9d35f0336row7_col1\" class=\"data row7 col1\" >0.751</td>\n",
       "                        <td id=\"T_705194e2_f798_11e9_933e_38f9d35f0336row7_col2\" class=\"data row7 col2\" >0.728</td>\n",
       "            </tr>\n",
       "            <tr>\n",
       "                        <th id=\"T_705194e2_f798_11e9_933e_38f9d35f0336level0_row8\" class=\"row_heading level0 row8\" >1:20</th>\n",
       "                        <td id=\"T_705194e2_f798_11e9_933e_38f9d35f0336row8_col0\" class=\"data row8 col0\" >0.71</td>\n",
       "                        <td id=\"T_705194e2_f798_11e9_933e_38f9d35f0336row8_col1\" class=\"data row8 col1\" >0.711</td>\n",
       "                        <td id=\"T_705194e2_f798_11e9_933e_38f9d35f0336row8_col2\" class=\"data row8 col2\" >0.702</td>\n",
       "            </tr>\n",
       "    </tbody></table>"
      ],
      "text/plain": [
       "<pandas.io.formats.style.Styler at 0x1a2c211b00>"
      ]
     },
     "execution_count": 54,
     "metadata": {},
     "output_type": "execute_result"
    }
   ],
   "source": [
    "# View balanced accuracy results for all models as stylized heatmap\n",
    "cmap = matplotlib.cm.get_cmap('Wistia')\n",
    "(results_svc.iloc[:,[0,1,3,5]]\n",
    "     .set_index('ENM-Organics-Ratio')  # Set table index\n",
    "     .style\n",
    "     # Apply heatmap\n",
    "     .background_gradient(cmap=cmap, low=0, high=0.9, axis=0)\n",
    "     # Highlight maximum value in row\n",
    "     .apply(blt.highlight_max, color=blt.rgba2hex(cmap(255)), axis=0)\n",
    "     # Recolor zeroes\n",
    "     .applymap(lambda x: blt.recolor_text(x, color=blt.rgba2hex(cmap(0))))\n",
    "     .set_precision(3)  # Round decimals\n",
    "     .set_caption('Colormap of average balanced accuracy for SVC-RBF models.')\n",
    ")"
   ]
  },
  {
   "cell_type": "code",
   "execution_count": 56,
   "metadata": {
    "ExecuteTime": {
     "end_time": "2019-10-26T02:31:08.105404Z",
     "start_time": "2019-10-26T02:31:08.091048Z"
    }
   },
   "outputs": [],
   "source": [
    "# Export results table to .csv\n",
    "results_svc.to_csv(\"./data/results-SVC.csv\", \n",
    "                  sep='\\t', header='infer', na_rep='NaN', index=False)"
   ]
  },
  {
   "cell_type": "markdown",
   "metadata": {},
   "source": [
    "### Permutation test"
   ]
  },
  {
   "cell_type": "code",
   "execution_count": 23,
   "metadata": {
    "ExecuteTime": {
     "end_time": "2019-10-21T02:30:16.158453Z",
     "start_time": "2019-10-21T02:30:16.148683Z"
    }
   },
   "outputs": [
    {
     "name": "stdout",
     "output_type": "stream",
     "text": [
      "NormaltestResult(statistic=3.5539831224682628, pvalue=0.16914624872107303)\n",
      "NormaltestResult(statistic=0.2869921840818213, pvalue=0.8663241857401054)\n",
      "NormaltestResult(statistic=9.937379371120981, pvalue=0.006952251704904397)\n"
     ]
    }
   ],
   "source": [
    "# Check normality of test results for permutations, baseline and best models\n",
    "from scipy.stats import normaltest\n",
    "for i in [results_permute, base_distrib, match_distrib]:\n",
    "    print(normaltest(i))"
   ]
  },
  {
   "cell_type": "markdown",
   "metadata": {},
   "source": [
    "The p-value of our first normality test is above alpha=0.05, so it is fairly safe to assume that the permutation test results can be adequately represented by a normal distribution. The distribution for our best augmentation model does not pass, however. So a non-parametric test should be used for that data."
   ]
  },
  {
   "cell_type": "code",
   "execution_count": 24,
   "metadata": {
    "ExecuteTime": {
     "end_time": "2019-10-21T02:32:44.148573Z",
     "start_time": "2019-10-21T02:32:44.141643Z"
    }
   },
   "outputs": [],
   "source": [
    "# Get average balanced accuracy for models of interest\n",
    "mu = results_svc.loc[results_svc['ENM-Organics-Ratio']=='1:0', \n",
    "                     'Avg-Random-Augment'].values\n",
    "mu_permute = results_svc.loc[results_svc['ENM-Organics-Ratio']=='1:0*', \n",
    "                             'Avg-Random-Augment'].values\n",
    "mu_match = results_svc.iloc[results_svc['Avg-Unsupervised-Match'].idxmax(), 3]"
   ]
  },
  {
   "cell_type": "code",
   "execution_count": 38,
   "metadata": {
    "ExecuteTime": {
     "end_time": "2019-10-21T03:25:47.649844Z",
     "start_time": "2019-10-21T03:25:47.345222Z"
    },
    "scrolled": true
   },
   "outputs": [
    {
     "data": {
      "image/png": "[encoded data removed]",
      "text/plain": [
       "<Figure size 720x360 with 1 Axes>"
      ]
     },
     "metadata": {
      "needs_background": "light"
     },
     "output_type": "display_data"
    }
   ],
   "source": [
    "# Plot permutation test results\n",
    "import numpy as np\n",
    "from scipy.stats import norm\n",
    "import matplotlib.pyplot as plt\n",
    "\n",
    "# Plot histogram\n",
    "plt.hist(results_permute, bins=25, density=True, facecolor='gold')\n",
    "# Normal distribution\n",
    "std_permute = norm.fit(results_permute)[1]\n",
    "xmin, xmax = 0.22, 0.62\n",
    "x = np.linspace(xmin, xmax, 100)\n",
    "# Plot PDF\n",
    "plt.plot(x, norm.pdf(x, mu_permute, std_permute), \n",
    "         color='orange', label='PDF ENM Permutations')\n",
    "plt.axvline(mu_permute, ls='--', c='orange', label='Avg. ENM Permutations')\n",
    "plt.axvline(mu, ls='--', c='red', label='Avg. ENM-Only Model')\n",
    "plt.axvline(mu_match, ls='--', color='navy', label='Avg. Best Model')\n",
    "plt.title(\"SVC-RBF Permutation Test Results\", fontsize=18)\n",
    "plt.xlim(right=0.8)\n",
    "plt.ylim(top=14)\n",
    "plt.xlabel(\"Balanced Accuracy\", size=16)\n",
    "plt.ylabel(\"Frequency\", size=16)\n",
    "plt.legend(loc=1, fontsize=14)\n",
    "fig = matplotlib.pyplot.gcf()\n",
    "fig.set_size_inches(10, 5)\n",
    "fig.savefig('./figs/permutation_test.png')\n",
    "plt.show()"
   ]
  },
  {
   "cell_type": "markdown",
   "metadata": {},
   "source": [
    "As is evident by the frequency plot, both models perform significantly better than the permutation test."
   ]
  },
  {
   "cell_type": "code",
   "execution_count": 26,
   "metadata": {
    "ExecuteTime": {
     "end_time": "2019-10-21T02:33:05.782874Z",
     "start_time": "2019-10-21T02:33:05.773926Z"
    }
   },
   "outputs": [
    {
     "data": {
      "text/plain": [
       "WilcoxonResult(statistic=0.0, pvalue=6.16938292053122e-10)"
      ]
     },
     "execution_count": 26,
     "metadata": {},
     "output_type": "execute_result"
    }
   ],
   "source": [
    "# Test for significance of paired difference between model distributions\n",
    "\"\"\"\n",
    "The Wilcoxon signed-rank test is a non-parametric version of the paired T-test.\n",
    "https://docs.scipy.org/doc/scipy-1.2.1/reference/generated/scipy.stats.wilcoxon.html\n",
    "\"\"\"\n",
    "from scipy.stats import wilcoxon\n",
    "wilcoxon(x=base_distrib, y=match_distrib) # alternative='two-sided' # alternative='less'"
   ]
  },
  {
   "cell_type": "markdown",
   "metadata": {},
   "source": [
    "Our null hypothesis was that the balanced average for our baseline model was the same as that of the best model. The alternative hypothesis is that the baseline model is smaller than the best model. Because the p-value (divided by 2 for a one-tailed test) from the Wilcoxon signed-rank test was incredibly small in comparison to an alpha of 0.05, we can reject the null hypothesis. It is statistically likely that the best model performs better than the baseline."
   ]
  },
  {
   "cell_type": "code",
   "execution_count": null,
   "metadata": {
    "collapsed": true
   },
   "outputs": [],
   "source": [
    "# TODO: accu_pchem, accu_func, accu_puc_grp, accu_puc_gen, accu_mtrx"
   ]
  },
  {
   "cell_type": "markdown",
   "metadata": {},
   "source": [
    "## RFC"
   ]
  },
  {
   "cell_type": "code",
   "execution_count": 67,
   "metadata": {
    "ExecuteTime": {
     "end_time": "2019-10-30T22:14:35.387572Z",
     "start_time": "2019-10-30T22:14:35.164205Z"
    }
   },
   "outputs": [
    {
     "data": {
      "text/html": [
       "<style  type=\"text/css\" >\n",
       "    #T_a7e482e8_fb62_11e9_933e_38f9d35f0336row0_col0 {\n",
       "            background-color:  #e4ff7a;\n",
       "            color:  #000000;\n",
       "            : ;\n",
       "            color:  #e4ff7a;\n",
       "        }    #T_a7e482e8_fb62_11e9_933e_38f9d35f0336row0_col1 {\n",
       "            background-color:  #e4ff7a;\n",
       "            color:  #000000;\n",
       "            : ;\n",
       "            color:  black;\n",
       "        }    #T_a7e482e8_fb62_11e9_933e_38f9d35f0336row0_col2 {\n",
       "            background-color:  #e4ff7a;\n",
       "            color:  #000000;\n",
       "            : ;\n",
       "            color:  black;\n",
       "        }    #T_a7e482e8_fb62_11e9_933e_38f9d35f0336row1_col0 {\n",
       "            background-color:  #ffba00;\n",
       "            color:  #000000;\n",
       "            background-color:  #fc7f00;\n",
       "            color:  black;\n",
       "        }    #T_a7e482e8_fb62_11e9_933e_38f9d35f0336row1_col1 {\n",
       "            background-color:  #e4ff7a;\n",
       "            color:  #000000;\n",
       "            : ;\n",
       "            color:  black;\n",
       "        }    #T_a7e482e8_fb62_11e9_933e_38f9d35f0336row1_col2 {\n",
       "            background-color:  #e4ff7a;\n",
       "            color:  #000000;\n",
       "            : ;\n",
       "            color:  black;\n",
       "        }    #T_a7e482e8_fb62_11e9_933e_38f9d35f0336row2_col0 {\n",
       "            background-color:  #ffbb00;\n",
       "            color:  #000000;\n",
       "            : ;\n",
       "            color:  black;\n",
       "        }    #T_a7e482e8_fb62_11e9_933e_38f9d35f0336row2_col1 {\n",
       "            background-color:  #e4ff7a;\n",
       "            color:  #000000;\n",
       "            background-color:  #fc7f00;\n",
       "            color:  black;\n",
       "        }    #T_a7e482e8_fb62_11e9_933e_38f9d35f0336row2_col2 {\n",
       "            background-color:  #e4ff7a;\n",
       "            color:  #000000;\n",
       "            background-color:  #fc7f00;\n",
       "            color:  black;\n",
       "        }    #T_a7e482e8_fb62_11e9_933e_38f9d35f0336row3_col0 {\n",
       "            background-color:  #ffbb00;\n",
       "            color:  #000000;\n",
       "            : ;\n",
       "            color:  black;\n",
       "        }    #T_a7e482e8_fb62_11e9_933e_38f9d35f0336row3_col1 {\n",
       "            background-color:  #e4ff7a;\n",
       "            color:  #000000;\n",
       "            : ;\n",
       "            color:  black;\n",
       "        }    #T_a7e482e8_fb62_11e9_933e_38f9d35f0336row3_col2 {\n",
       "            background-color:  #e4ff7a;\n",
       "            color:  #000000;\n",
       "            : ;\n",
       "            color:  black;\n",
       "        }    #T_a7e482e8_fb62_11e9_933e_38f9d35f0336row4_col0 {\n",
       "            background-color:  #ffbb00;\n",
       "            color:  #000000;\n",
       "            : ;\n",
       "            color:  black;\n",
       "        }    #T_a7e482e8_fb62_11e9_933e_38f9d35f0336row4_col1 {\n",
       "            background-color:  #e4ff7a;\n",
       "            color:  #000000;\n",
       "            : ;\n",
       "            color:  black;\n",
       "        }    #T_a7e482e8_fb62_11e9_933e_38f9d35f0336row4_col2 {\n",
       "            background-color:  #e4ff7a;\n",
       "            color:  #000000;\n",
       "            : ;\n",
       "            color:  black;\n",
       "        }    #T_a7e482e8_fb62_11e9_933e_38f9d35f0336row5_col0 {\n",
       "            background-color:  #ffbb00;\n",
       "            color:  #000000;\n",
       "            : ;\n",
       "            color:  black;\n",
       "        }    #T_a7e482e8_fb62_11e9_933e_38f9d35f0336row5_col1 {\n",
       "            background-color:  #e4ff7a;\n",
       "            color:  #000000;\n",
       "            : ;\n",
       "            color:  black;\n",
       "        }    #T_a7e482e8_fb62_11e9_933e_38f9d35f0336row5_col2 {\n",
       "            background-color:  #e4ff7a;\n",
       "            color:  #000000;\n",
       "            : ;\n",
       "            color:  black;\n",
       "        }    #T_a7e482e8_fb62_11e9_933e_38f9d35f0336row6_col0 {\n",
       "            background-color:  #ffbb00;\n",
       "            color:  #000000;\n",
       "            : ;\n",
       "            color:  black;\n",
       "        }    #T_a7e482e8_fb62_11e9_933e_38f9d35f0336row6_col1 {\n",
       "            background-color:  #e4ff7a;\n",
       "            color:  #000000;\n",
       "            : ;\n",
       "            color:  black;\n",
       "        }    #T_a7e482e8_fb62_11e9_933e_38f9d35f0336row6_col2 {\n",
       "            background-color:  #e4ff7a;\n",
       "            color:  #000000;\n",
       "            : ;\n",
       "            color:  black;\n",
       "        }    #T_a7e482e8_fb62_11e9_933e_38f9d35f0336row7_col0 {\n",
       "            background-color:  #ffbb00;\n",
       "            color:  #000000;\n",
       "            : ;\n",
       "            color:  black;\n",
       "        }    #T_a7e482e8_fb62_11e9_933e_38f9d35f0336row7_col1 {\n",
       "            background-color:  #e4ff7a;\n",
       "            color:  #000000;\n",
       "            : ;\n",
       "            color:  black;\n",
       "        }    #T_a7e482e8_fb62_11e9_933e_38f9d35f0336row7_col2 {\n",
       "            background-color:  #e4ff7a;\n",
       "            color:  #000000;\n",
       "            : ;\n",
       "            color:  black;\n",
       "        }    #T_a7e482e8_fb62_11e9_933e_38f9d35f0336row8_col0 {\n",
       "            background-color:  #ffbc00;\n",
       "            color:  #000000;\n",
       "            : ;\n",
       "            color:  black;\n",
       "        }    #T_a7e482e8_fb62_11e9_933e_38f9d35f0336row8_col1 {\n",
       "            background-color:  #e4ff7a;\n",
       "            color:  #000000;\n",
       "            : ;\n",
       "            color:  black;\n",
       "        }    #T_a7e482e8_fb62_11e9_933e_38f9d35f0336row8_col2 {\n",
       "            background-color:  #e4ff7a;\n",
       "            color:  #000000;\n",
       "            : ;\n",
       "            color:  black;\n",
       "        }    #T_a7e482e8_fb62_11e9_933e_38f9d35f0336row9_col0 {\n",
       "            background-color:  #e4ff7a;\n",
       "            color:  #000000;\n",
       "            : ;\n",
       "            color:  #e4ff7a;\n",
       "        }    #T_a7e482e8_fb62_11e9_933e_38f9d35f0336row9_col1 {\n",
       "            background-color:  #e4ff7a;\n",
       "            color:  #000000;\n",
       "            : ;\n",
       "            color:  black;\n",
       "        }    #T_a7e482e8_fb62_11e9_933e_38f9d35f0336row9_col2 {\n",
       "            background-color:  #e4ff7a;\n",
       "            color:  #000000;\n",
       "            : ;\n",
       "            color:  black;\n",
       "        }    #T_a7e482e8_fb62_11e9_933e_38f9d35f0336row10_col0 {\n",
       "            background-color:  #e4ff7a;\n",
       "            color:  #000000;\n",
       "            : ;\n",
       "            color:  #e4ff7a;\n",
       "        }    #T_a7e482e8_fb62_11e9_933e_38f9d35f0336row10_col1 {\n",
       "            background-color:  #e4ff7a;\n",
       "            color:  #000000;\n",
       "            : ;\n",
       "            color:  black;\n",
       "        }    #T_a7e482e8_fb62_11e9_933e_38f9d35f0336row10_col2 {\n",
       "            background-color:  #e4ff7a;\n",
       "            color:  #000000;\n",
       "            : ;\n",
       "            color:  black;\n",
       "        }</style><table id=\"T_a7e482e8_fb62_11e9_933e_38f9d35f0336\" ><caption>Colormap of average balanced accuracy for RFC models.</caption><thead>    <tr>        <th class=\"blank level0\" ></th>        <th class=\"col_heading level0 col0\" >Avg-Random-Augment</th>        <th class=\"col_heading level0 col1\" >Avg-Unsupervised-Match</th>        <th class=\"col_heading level0 col2\" >Avg-Supervised-Match</th>    </tr>    <tr>        <th class=\"index_name level0\" >ENM-Organics-Ratio</th>        <th class=\"blank\" ></th>        <th class=\"blank\" ></th>        <th class=\"blank\" ></th>    </tr></thead><tbody>\n",
       "                <tr>\n",
       "                        <th id=\"T_a7e482e8_fb62_11e9_933e_38f9d35f0336level0_row0\" class=\"row_heading level0 row0\" >1:0*</th>\n",
       "                        <td id=\"T_a7e482e8_fb62_11e9_933e_38f9d35f0336row0_col0\" class=\"data row0 col0\" >0</td>\n",
       "                        <td id=\"T_a7e482e8_fb62_11e9_933e_38f9d35f0336row0_col1\" class=\"data row0 col1\" >nan</td>\n",
       "                        <td id=\"T_a7e482e8_fb62_11e9_933e_38f9d35f0336row0_col2\" class=\"data row0 col2\" >nan</td>\n",
       "            </tr>\n",
       "            <tr>\n",
       "                        <th id=\"T_a7e482e8_fb62_11e9_933e_38f9d35f0336level0_row1\" class=\"row_heading level0 row1\" >1:0</th>\n",
       "                        <td id=\"T_a7e482e8_fb62_11e9_933e_38f9d35f0336row1_col0\" class=\"data row1 col0\" >0.729</td>\n",
       "                        <td id=\"T_a7e482e8_fb62_11e9_933e_38f9d35f0336row1_col1\" class=\"data row1 col1\" >nan</td>\n",
       "                        <td id=\"T_a7e482e8_fb62_11e9_933e_38f9d35f0336row1_col2\" class=\"data row1 col2\" >nan</td>\n",
       "            </tr>\n",
       "            <tr>\n",
       "                        <th id=\"T_a7e482e8_fb62_11e9_933e_38f9d35f0336level0_row2\" class=\"row_heading level0 row2\" >1:1</th>\n",
       "                        <td id=\"T_a7e482e8_fb62_11e9_933e_38f9d35f0336row2_col0\" class=\"data row2 col0\" >0.714</td>\n",
       "                        <td id=\"T_a7e482e8_fb62_11e9_933e_38f9d35f0336row2_col1\" class=\"data row2 col1\" >0.713</td>\n",
       "                        <td id=\"T_a7e482e8_fb62_11e9_933e_38f9d35f0336row2_col2\" class=\"data row2 col2\" >0.713</td>\n",
       "            </tr>\n",
       "            <tr>\n",
       "                        <th id=\"T_a7e482e8_fb62_11e9_933e_38f9d35f0336level0_row3\" class=\"row_heading level0 row3\" >1:2</th>\n",
       "                        <td id=\"T_a7e482e8_fb62_11e9_933e_38f9d35f0336row3_col0\" class=\"data row3 col0\" >0.716</td>\n",
       "                        <td id=\"T_a7e482e8_fb62_11e9_933e_38f9d35f0336row3_col1\" class=\"data row3 col1\" >0.71</td>\n",
       "                        <td id=\"T_a7e482e8_fb62_11e9_933e_38f9d35f0336row3_col2\" class=\"data row3 col2\" >0.703</td>\n",
       "            </tr>\n",
       "            <tr>\n",
       "                        <th id=\"T_a7e482e8_fb62_11e9_933e_38f9d35f0336level0_row4\" class=\"row_heading level0 row4\" >1:3</th>\n",
       "                        <td id=\"T_a7e482e8_fb62_11e9_933e_38f9d35f0336row4_col0\" class=\"data row4 col0\" >0.716</td>\n",
       "                        <td id=\"T_a7e482e8_fb62_11e9_933e_38f9d35f0336row4_col1\" class=\"data row4 col1\" >0.712</td>\n",
       "                        <td id=\"T_a7e482e8_fb62_11e9_933e_38f9d35f0336row4_col2\" class=\"data row4 col2\" >0.706</td>\n",
       "            </tr>\n",
       "            <tr>\n",
       "                        <th id=\"T_a7e482e8_fb62_11e9_933e_38f9d35f0336level0_row5\" class=\"row_heading level0 row5\" >1:4</th>\n",
       "                        <td id=\"T_a7e482e8_fb62_11e9_933e_38f9d35f0336row5_col0\" class=\"data row5 col0\" >0.715</td>\n",
       "                        <td id=\"T_a7e482e8_fb62_11e9_933e_38f9d35f0336row5_col1\" class=\"data row5 col1\" >0.71</td>\n",
       "                        <td id=\"T_a7e482e8_fb62_11e9_933e_38f9d35f0336row5_col2\" class=\"data row5 col2\" >0.71</td>\n",
       "            </tr>\n",
       "            <tr>\n",
       "                        <th id=\"T_a7e482e8_fb62_11e9_933e_38f9d35f0336level0_row6\" class=\"row_heading level0 row6\" >1:5</th>\n",
       "                        <td id=\"T_a7e482e8_fb62_11e9_933e_38f9d35f0336row6_col0\" class=\"data row6 col0\" >0.711</td>\n",
       "                        <td id=\"T_a7e482e8_fb62_11e9_933e_38f9d35f0336row6_col1\" class=\"data row6 col1\" >0.706</td>\n",
       "                        <td id=\"T_a7e482e8_fb62_11e9_933e_38f9d35f0336row6_col2\" class=\"data row6 col2\" >0.708</td>\n",
       "            </tr>\n",
       "            <tr>\n",
       "                        <th id=\"T_a7e482e8_fb62_11e9_933e_38f9d35f0336level0_row7\" class=\"row_heading level0 row7\" >1:10</th>\n",
       "                        <td id=\"T_a7e482e8_fb62_11e9_933e_38f9d35f0336row7_col0\" class=\"data row7 col0\" >0.712</td>\n",
       "                        <td id=\"T_a7e482e8_fb62_11e9_933e_38f9d35f0336row7_col1\" class=\"data row7 col1\" >0.706</td>\n",
       "                        <td id=\"T_a7e482e8_fb62_11e9_933e_38f9d35f0336row7_col2\" class=\"data row7 col2\" >0.708</td>\n",
       "            </tr>\n",
       "            <tr>\n",
       "                        <th id=\"T_a7e482e8_fb62_11e9_933e_38f9d35f0336level0_row8\" class=\"row_heading level0 row8\" >1:20</th>\n",
       "                        <td id=\"T_a7e482e8_fb62_11e9_933e_38f9d35f0336row8_col0\" class=\"data row8 col0\" >0.707</td>\n",
       "                        <td id=\"T_a7e482e8_fb62_11e9_933e_38f9d35f0336row8_col1\" class=\"data row8 col1\" >0.704</td>\n",
       "                        <td id=\"T_a7e482e8_fb62_11e9_933e_38f9d35f0336row8_col2\" class=\"data row8 col2\" >0.699</td>\n",
       "            </tr>\n",
       "            <tr>\n",
       "                        <th id=\"T_a7e482e8_fb62_11e9_933e_38f9d35f0336level0_row9\" class=\"row_heading level0 row9\" >1:50</th>\n",
       "                        <td id=\"T_a7e482e8_fb62_11e9_933e_38f9d35f0336row9_col0\" class=\"data row9 col0\" >0</td>\n",
       "                        <td id=\"T_a7e482e8_fb62_11e9_933e_38f9d35f0336row9_col1\" class=\"data row9 col1\" >nan</td>\n",
       "                        <td id=\"T_a7e482e8_fb62_11e9_933e_38f9d35f0336row9_col2\" class=\"data row9 col2\" >nan</td>\n",
       "            </tr>\n",
       "            <tr>\n",
       "                        <th id=\"T_a7e482e8_fb62_11e9_933e_38f9d35f0336level0_row10\" class=\"row_heading level0 row10\" >1:100</th>\n",
       "                        <td id=\"T_a7e482e8_fb62_11e9_933e_38f9d35f0336row10_col0\" class=\"data row10 col0\" >0</td>\n",
       "                        <td id=\"T_a7e482e8_fb62_11e9_933e_38f9d35f0336row10_col1\" class=\"data row10 col1\" >nan</td>\n",
       "                        <td id=\"T_a7e482e8_fb62_11e9_933e_38f9d35f0336row10_col2\" class=\"data row10 col2\" >nan</td>\n",
       "            </tr>\n",
       "    </tbody></table>"
      ],
      "text/plain": [
       "<pandas.io.formats.style.Styler at 0x1a2c2a1c18>"
      ]
     },
     "execution_count": 67,
     "metadata": {},
     "output_type": "execute_result"
    }
   ],
   "source": [
    "# View balanced accuracy results for all models as stylized heatmap\n",
    "cmap = matplotlib.cm.get_cmap('Wistia')\n",
    "(results_rfc.iloc[:,[0,1,3,5]]\n",
    "     .set_index('ENM-Organics-Ratio')  # Set table index\n",
    "     .style\n",
    "     # Apply heatmap\n",
    "     .background_gradient(cmap=cmap, low=0, high=0.9, axis=0)\n",
    "     # Highlight maximum value in row\n",
    "     .apply(blt.highlight_max, color=blt.rgba2hex(cmap(255)), axis=0)\n",
    "     # Recolor zeroes\n",
    "     .applymap(lambda x: blt.recolor_text(x, color=blt.rgba2hex(cmap(0))))\n",
    "     .set_precision(3)  # Round decimals\n",
    "     .set_caption('Colormap of average balanced accuracy for RFC models.')\n",
    ")"
   ]
  },
  {
   "cell_type": "code",
   "execution_count": 68,
   "metadata": {
    "ExecuteTime": {
     "end_time": "2019-10-30T22:15:12.382123Z",
     "start_time": "2019-10-30T22:15:12.318315Z"
    }
   },
   "outputs": [],
   "source": [
    "# Export results table to .csv\n",
    "results_rfc.to_csv(\"./data/results-RFC.csv\", \n",
    "                  sep='\\t', header='infer', na_rep='NaN', index=False)"
   ]
  },
  {
   "cell_type": "code",
   "execution_count": null,
   "metadata": {},
   "outputs": [],
   "source": []
  }
 ],
 "metadata": {
  "kernelspec": {
   "display_name": "Python 3",
   "language": "python",
   "name": "python3"
  },
  "language_info": {
   "codemirror_mode": {
    "name": "ipython",
    "version": 3
   },
   "file_extension": ".py",
   "mimetype": "text/x-python",
   "name": "python",
   "nbconvert_exporter": "python",
   "pygments_lexer": "ipython3",
   "version": "3.7.3"
  },
  "toc": {
   "base_numbering": 1,
   "nav_menu": {
    "height": "11px",
    "width": "160px"
   },
   "number_sections": true,
   "sideBar": true,
   "skip_h1_title": false,
   "title_cell": "Table of Contents",
   "title_sidebar": "Contents",
   "toc_cell": true,
   "toc_position": {
    "height": "calc(100% - 180px)",
    "left": "10px",
    "top": "150px",
    "width": "165px"
   },
   "toc_section_display": true,
   "toc_window_display": true
  }
 },
 "nbformat": 4,
 "nbformat_minor": 2
}
