{
 "cells": [
  {
   "cell_type": "markdown",
   "metadata": {
    "toc": true
   },
   "source": [
    "<h1>Table of Contents<span class=\"tocSkip\"></span></h1>\n",
    "<div class=\"toc\"><ul class=\"toc-item\"><li><span><a href=\"#Code-Setup\" data-toc-modified-id=\"Code-Setup-1\"><span class=\"toc-item-num\">1&nbsp;&nbsp;</span>Code Setup</a></span><ul class=\"toc-item\"><li><span><a href=\"#Acronyms-and-abbreviations\" data-toc-modified-id=\"Acronyms-and-abbreviations-1.1\"><span class=\"toc-item-num\">1.1&nbsp;&nbsp;</span>Acronyms and abbreviations</a></span></li></ul></li><li><span><a href=\"#Establish-Data-Frames\" data-toc-modified-id=\"Establish-Data-Frames-2\"><span class=\"toc-item-num\">2&nbsp;&nbsp;</span>Establish Data Frames</a></span><ul class=\"toc-item\"><li><span><a href=\"#Read-in-feature-data\" data-toc-modified-id=\"Read-in-feature-data-2.1\"><span class=\"toc-item-num\">2.1&nbsp;&nbsp;</span>Read in feature data</a></span></li><li><span><a href=\"#Read-in-WF-data\" data-toc-modified-id=\"Read-in-WF-data-2.2\"><span class=\"toc-item-num\">2.2&nbsp;&nbsp;</span>Read in WF data</a></span></li><li><span><a href=\"#Data-frames\" data-toc-modified-id=\"Data-frames-2.3\"><span class=\"toc-item-num\">2.3&nbsp;&nbsp;</span>Data frames</a></span><ul class=\"toc-item\"><li><span><a href=\"#1:200-ENM-organics-data\" data-toc-modified-id=\"1:200-ENM-organics-data-2.3.1\"><span class=\"toc-item-num\">2.3.1&nbsp;&nbsp;</span>1:200 ENM-organics data</a></span></li><li><span><a href=\"#1:100-ENM-organics-data\" data-toc-modified-id=\"1:100-ENM-organics-data-2.3.2\"><span class=\"toc-item-num\">2.3.2&nbsp;&nbsp;</span>1:100 ENM-organics data</a></span></li><li><span><a href=\"#1:50-ENM-organics-data\" data-toc-modified-id=\"1:50-ENM-organics-data-2.3.3\"><span class=\"toc-item-num\">2.3.3&nbsp;&nbsp;</span>1:50 ENM-organics data</a></span></li><li><span><a href=\"#1:20-ENM-organics-data\" data-toc-modified-id=\"1:20-ENM-organics-data-2.3.4\"><span class=\"toc-item-num\">2.3.4&nbsp;&nbsp;</span>1:20 ENM-organics data</a></span></li><li><span><a href=\"#1:10-ENM-organics-data\" data-toc-modified-id=\"1:10-ENM-organics-data-2.3.5\"><span class=\"toc-item-num\">2.3.5&nbsp;&nbsp;</span>1:10 ENM-organics data</a></span></li><li><span><a href=\"#1:4-ENM-organics-data\" data-toc-modified-id=\"1:4-ENM-organics-data-2.3.6\"><span class=\"toc-item-num\">2.3.6&nbsp;&nbsp;</span>1:4 ENM-organics data</a></span></li><li><span><a href=\"#1:2-ENM-organics-data\" data-toc-modified-id=\"1:2-ENM-organics-data-2.3.7\"><span class=\"toc-item-num\">2.3.7&nbsp;&nbsp;</span>1:2 ENM-organics data</a></span></li><li><span><a href=\"#Apply-WF-bins\" data-toc-modified-id=\"Apply-WF-bins-2.3.8\"><span class=\"toc-item-num\">2.3.8&nbsp;&nbsp;</span>Apply WF bins</a></span></li><li><span><a href=\"#Matching-1:20-ENM-organics\" data-toc-modified-id=\"Matching-1:20-ENM-organics-2.3.9\"><span class=\"toc-item-num\">2.3.9&nbsp;&nbsp;</span>Matching 1:20 ENM-organics</a></span></li><li><span><a href=\"#Matching-1:10-ENM-organics\" data-toc-modified-id=\"Matching-1:10-ENM-organics-2.3.10\"><span class=\"toc-item-num\">2.3.10&nbsp;&nbsp;</span>Matching 1:10 ENM-organics</a></span></li><li><span><a href=\"#Matching-1:5-ENM-organics\" data-toc-modified-id=\"Matching-1:5-ENM-organics-2.3.11\"><span class=\"toc-item-num\">2.3.11&nbsp;&nbsp;</span>Matching 1:5 ENM-organics</a></span></li><li><span><a href=\"#Matching-1:4-ENM-organics\" data-toc-modified-id=\"Matching-1:4-ENM-organics-2.3.12\"><span class=\"toc-item-num\">2.3.12&nbsp;&nbsp;</span>Matching 1:4 ENM-organics</a></span></li><li><span><a href=\"#Matching-1:3-ENM-organics\" data-toc-modified-id=\"Matching-1:3-ENM-organics-2.3.13\"><span class=\"toc-item-num\">2.3.13&nbsp;&nbsp;</span>Matching 1:3 ENM-organics</a></span></li><li><span><a href=\"#Matching-1:2-ENM-organics\" data-toc-modified-id=\"Matching-1:2-ENM-organics-2.3.14\"><span class=\"toc-item-num\">2.3.14&nbsp;&nbsp;</span>Matching 1:2 ENM-organics</a></span></li></ul></li></ul></li><li><span><a href=\"#SVC-Models\" data-toc-modified-id=\"SVC-Models-3\"><span class=\"toc-item-num\">3&nbsp;&nbsp;</span>SVC Models</a></span><ul class=\"toc-item\"><li><span><a href=\"#ENM-only\" data-toc-modified-id=\"ENM-only-3.1\"><span class=\"toc-item-num\">3.1&nbsp;&nbsp;</span>ENM only</a></span></li><li><span><a href=\"#Essentially-leave-one-out-cross-validation,-slight-biases,-might-be-overfitting\" data-toc-modified-id=\"Essentially-leave-one-out-cross-validation,-slight-biases,-might-be-overfitting-3.2\"><span class=\"toc-item-num\">3.2&nbsp;&nbsp;</span>Essentially leave one out cross validation, slight biases, might be overfitting</a></span></li><li><span><a href=\"#1:200-ENM-organics-data\" data-toc-modified-id=\"1:200-ENM-organics-data-3.3\"><span class=\"toc-item-num\">3.3&nbsp;&nbsp;</span>1:200 ENM-organics data</a></span></li><li><span><a href=\"#1:100-ENM-organics-data\" data-toc-modified-id=\"1:100-ENM-organics-data-3.4\"><span class=\"toc-item-num\">3.4&nbsp;&nbsp;</span>1:100 ENM-organics data</a></span></li><li><span><a href=\"#1:50-ENM-organics-data\" data-toc-modified-id=\"1:50-ENM-organics-data-3.5\"><span class=\"toc-item-num\">3.5&nbsp;&nbsp;</span>1:50 ENM-organics data</a></span></li><li><span><a href=\"#1:20-ENM-organics-data\" data-toc-modified-id=\"1:20-ENM-organics-data-3.6\"><span class=\"toc-item-num\">3.6&nbsp;&nbsp;</span>1:20 ENM-organics data</a></span></li><li><span><a href=\"#1:10-ENM-organics-data\" data-toc-modified-id=\"1:10-ENM-organics-data-3.7\"><span class=\"toc-item-num\">3.7&nbsp;&nbsp;</span>1:10 ENM-organics data</a></span></li><li><span><a href=\"#1:4-ENM-organics-data\" data-toc-modified-id=\"1:4-ENM-organics-data-3.8\"><span class=\"toc-item-num\">3.8&nbsp;&nbsp;</span>1:4 ENM-organics data</a></span></li><li><span><a href=\"#1:2-ENM-organics-data\" data-toc-modified-id=\"1:2-ENM-organics-data-3.9\"><span class=\"toc-item-num\">3.9&nbsp;&nbsp;</span>1:2 ENM-organics data</a></span></li><li><span><a href=\"#Matching-1:20\" data-toc-modified-id=\"Matching-1:20-3.10\"><span class=\"toc-item-num\">3.10&nbsp;&nbsp;</span>Matching 1:20</a></span></li><li><span><a href=\"#Matching-1:10\" data-toc-modified-id=\"Matching-1:10-3.11\"><span class=\"toc-item-num\">3.11&nbsp;&nbsp;</span>Matching 1:10</a></span></li><li><span><a href=\"#Matching-1:5\" data-toc-modified-id=\"Matching-1:5-3.12\"><span class=\"toc-item-num\">3.12&nbsp;&nbsp;</span>Matching 1:5</a></span></li><li><span><a href=\"#Matching-1:4\" data-toc-modified-id=\"Matching-1:4-3.13\"><span class=\"toc-item-num\">3.13&nbsp;&nbsp;</span>Matching 1:4</a></span></li><li><span><a href=\"#Matching-1:3\" data-toc-modified-id=\"Matching-1:3-3.14\"><span class=\"toc-item-num\">3.14&nbsp;&nbsp;</span>Matching 1:3</a></span></li><li><span><a href=\"#Matching-1:2\" data-toc-modified-id=\"Matching-1:2-3.15\"><span class=\"toc-item-num\">3.15&nbsp;&nbsp;</span>Matching 1:2</a></span></li><li><span><a href=\"#Augmentation-Performance\" data-toc-modified-id=\"Augmentation-Performance-3.16\"><span class=\"toc-item-num\">3.16&nbsp;&nbsp;</span>Augmentation Performance</a></span></li></ul></li><li><span><a href=\"#Random-Forest-Models\" data-toc-modified-id=\"Random-Forest-Models-4\"><span class=\"toc-item-num\">4&nbsp;&nbsp;</span>Random Forest Models</a></span></li></ul></div>"
   ]
  },
  {
   "cell_type": "markdown",
   "metadata": {},
   "source": [
    "Summary of changes since 12/17:\n",
    "* Added more data frames for matching augmentation\n",
    "* Restructured data frames based on same random state, but shuffled (so that the organics rows or \"tuples\" are sampled from the previous df for dfs of increasing ENM:organics ratios)\n",
    "* Also rewrote dfs so bins are applied after label dfs are established; this will make it easier for future models that use continuous wf labels\n",
    "* Finished graph of performance vs % of augmentation with organics data\n",
    "* Updated acronyms"
   ]
  },
  {
   "cell_type": "markdown",
   "metadata": {},
   "source": [
    "# Code Setup"
   ]
  },
  {
   "cell_type": "code",
   "execution_count": 1,
   "metadata": {
    "ExecuteTime": {
     "end_time": "2019-01-10T17:33:35.865631Z",
     "start_time": "2019-01-10T17:33:35.204235Z"
    },
    "collapsed": true
   },
   "outputs": [],
   "source": [
    "# To support both python 2 and python 3\n",
    "from __future__ import division, print_function, unicode_literals\n",
    "\n",
    "# Common imports\n",
    "import numpy as np\n",
    "import pandas as pd\n",
    "import os"
   ]
  },
  {
   "cell_type": "code",
   "execution_count": 2,
   "metadata": {
    "ExecuteTime": {
     "end_time": "2019-01-10T17:33:35.891109Z",
     "start_time": "2019-01-10T17:33:35.872009Z"
    },
    "collapsed": true
   },
   "outputs": [],
   "source": [
    "# to make this notebook's output stable across runs\n",
    "np.random.seed(42)"
   ]
  },
  {
   "cell_type": "code",
   "execution_count": 3,
   "metadata": {
    "ExecuteTime": {
     "end_time": "2019-01-10T17:33:36.677105Z",
     "start_time": "2019-01-10T17:33:36.424276Z"
    },
    "collapsed": true
   },
   "outputs": [],
   "source": [
    "# To plot pretty figures\n",
    "%matplotlib inline\n",
    "import matplotlib\n",
    "import matplotlib.pyplot as plt\n",
    "import matplotlib.cm as cm\n",
    "import matplotlib.image as mpimg\n",
    "plt.rcParams['axes.labelsize'] = 14\n",
    "plt.rcParams['xtick.labelsize'] = 12\n",
    "plt.rcParams['ytick.labelsize'] = 12"
   ]
  },
  {
   "cell_type": "code",
   "execution_count": 4,
   "metadata": {
    "ExecuteTime": {
     "end_time": "2019-01-10T17:33:36.872452Z",
     "start_time": "2019-01-10T17:33:36.855353Z"
    },
    "collapsed": true
   },
   "outputs": [],
   "source": [
    "# Where to save the figures\n",
    "PROJECT_ROOT_DIR = \".\"\n",
    "PROJECT_SAVE_DIR = \"BLTfigs\""
   ]
  },
  {
   "cell_type": "code",
   "execution_count": 5,
   "metadata": {
    "ExecuteTime": {
     "end_time": "2019-01-10T17:33:37.310726Z",
     "start_time": "2019-01-10T17:33:37.278489Z"
    }
   },
   "outputs": [
    {
     "name": "stdout",
     "output_type": "stream",
     "text": [
      "Figure directory exists.\n"
     ]
    }
   ],
   "source": [
    "import os\n",
    "#os.chdir(path)\n",
    "if not (os.path.isdir(PROJECT_ROOT_DIR+'/'+PROJECT_SAVE_DIR)):\n",
    "    print('Figure directory did not exist, creating now.')\n",
    "    os.mkdir(PROJECT_ROOT_DIR+'/'+PROJECT_SAVE_DIR)\n",
    "else:\n",
    "    print('Figure directory exists.')"
   ]
  },
  {
   "cell_type": "code",
   "execution_count": 6,
   "metadata": {
    "ExecuteTime": {
     "end_time": "2019-01-10T17:33:37.724443Z",
     "start_time": "2019-01-10T17:33:37.706266Z"
    },
    "collapsed": true
   },
   "outputs": [],
   "source": [
    "def savepdf(fig,name):\n",
    "    fig.savefig(PROJECT_ROOT_DIR+'/'+PROJECT_SAVE_DIR+'/'+name+'.pdf')"
   ]
  },
  {
   "cell_type": "code",
   "execution_count": 7,
   "metadata": {
    "ExecuteTime": {
     "end_time": "2019-01-10T17:33:38.255390Z",
     "start_time": "2019-01-10T17:33:38.176086Z"
    }
   },
   "outputs": [
    {
     "data": {
      "text/html": [
       "\n",
       "                <audio controls=\"controls\" autoplay=\"autoplay\">\n",
       "                    <source src=\"./data/Glass.wav\" type=\"audio/x-wav\" />\n",
       "                    Your browser does not support the audio element.\n",
       "                </audio>\n",
       "              "
      ],
      "text/plain": [
       "<IPython.lib.display.Audio object>"
      ]
     },
     "execution_count": 7,
     "metadata": {},
     "output_type": "execute_result"
    }
   ],
   "source": [
    "# To enable a specified sound to play\n",
    "from IPython.display import Audio\n",
    "sound_file = './data/Glass.wav'\n",
    "\n",
    "# Add the following to the end of a cell with a long run time\n",
    "# Play sound when cell is done running\n",
    "Audio(url=sound_file, autoplay=True)"
   ]
  },
  {
   "cell_type": "code",
   "execution_count": 8,
   "metadata": {
    "ExecuteTime": {
     "end_time": "2019-01-10T17:33:38.659747Z",
     "start_time": "2019-01-10T17:33:38.636389Z"
    },
    "collapsed": true
   },
   "outputs": [],
   "source": [
    "# Shift tab to understand function components\n",
    "# Type questionmark before function to bring up help"
   ]
  },
  {
   "cell_type": "markdown",
   "metadata": {
    "ExecuteTime": {
     "end_time": "2018-07-17T17:12:41.336563Z",
     "start_time": "2018-07-17T17:12:41.333288Z"
    }
   },
   "source": [
    "## Acronyms and abbreviations"
   ]
  },
  {
   "cell_type": "markdown",
   "metadata": {
    "ExecuteTime": {
     "end_time": "2019-01-10T17:35:10.076986Z",
     "start_time": "2019-01-10T17:35:10.060130Z"
    },
    "collapsed": true
   },
   "source": [
    "* arr = array\n",
    "* bp = boiling point\n",
    "* df = dataframe\n",
    "* enm = engineered nanomaterial\n",
    "* matrix_F = matrix of the product is a formulation (i.e., not a solid)\n",
    "* mp = melting point\n",
    "* mw = molecular weight\n",
    "* oecd = Organisation for Economic Co-operation and Development\n",
    "* prop = property\n",
    "* PUC = product use category\n",
    "* wf = weight fraction"
   ]
  },
  {
   "cell_type": "markdown",
   "metadata": {},
   "source": [
    "# Establish Data Frames"
   ]
  },
  {
   "cell_type": "markdown",
   "metadata": {},
   "source": [
    "## Read in feature data"
   ]
  },
  {
   "cell_type": "code",
   "execution_count": 10,
   "metadata": {
    "ExecuteTime": {
     "end_time": "2019-01-10T17:35:11.862194Z",
     "start_time": "2019-01-10T17:35:11.788686Z"
    }
   },
   "outputs": [
    {
     "data": {
      "text/html": [
       "<div>\n",
       "<style scoped>\n",
       "    .dataframe tbody tr th:only-of-type {\n",
       "        vertical-align: middle;\n",
       "    }\n",
       "\n",
       "    .dataframe tbody tr th {\n",
       "        vertical-align: top;\n",
       "    }\n",
       "\n",
       "    .dataframe thead th {\n",
       "        text-align: right;\n",
       "    }\n",
       "</style>\n",
       "<table border=\"1\" class=\"dataframe\">\n",
       "  <thead>\n",
       "    <tr style=\"text-align: right;\">\n",
       "      <th></th>\n",
       "      <th>propMW</th>\n",
       "      <th>propMP</th>\n",
       "      <th>propBP</th>\n",
       "      <th>propLogDensity</th>\n",
       "      <th>0</th>\n",
       "      <th>1</th>\n",
       "      <th>2</th>\n",
       "      <th>3</th>\n",
       "      <th>4</th>\n",
       "      <th>5</th>\n",
       "      <th>...</th>\n",
       "      <th>group_facialcleansingandmoisturizing</th>\n",
       "      <th>group_fungicide</th>\n",
       "      <th>group_generalhouseholdcleaning</th>\n",
       "      <th>group_generalmoisturizing</th>\n",
       "      <th>group_makeupandrelated</th>\n",
       "      <th>group_paintstainandrelatedproducts</th>\n",
       "      <th>group_sunscreen</th>\n",
       "      <th>group_surfacesealers</th>\n",
       "      <th>refined_spray</th>\n",
       "      <th>matrix_F</th>\n",
       "    </tr>\n",
       "  </thead>\n",
       "  <tbody>\n",
       "    <tr>\n",
       "      <th>0</th>\n",
       "      <td>79.867</td>\n",
       "      <td>1843.00</td>\n",
       "      <td>2972.0</td>\n",
       "      <td>0.626340</td>\n",
       "      <td>0.5</td>\n",
       "      <td>0.0</td>\n",
       "      <td>0.0</td>\n",
       "      <td>0.0</td>\n",
       "      <td>0.0</td>\n",
       "      <td>1.0</td>\n",
       "      <td>...</td>\n",
       "      <td>0</td>\n",
       "      <td>0</td>\n",
       "      <td>0</td>\n",
       "      <td>0</td>\n",
       "      <td>0</td>\n",
       "      <td>1</td>\n",
       "      <td>0</td>\n",
       "      <td>0</td>\n",
       "      <td>0</td>\n",
       "      <td>1</td>\n",
       "    </tr>\n",
       "    <tr>\n",
       "      <th>1</th>\n",
       "      <td>63.546</td>\n",
       "      <td>1083.00</td>\n",
       "      <td>2567.0</td>\n",
       "      <td>0.952308</td>\n",
       "      <td>0.0</td>\n",
       "      <td>0.0</td>\n",
       "      <td>0.0</td>\n",
       "      <td>0.0</td>\n",
       "      <td>0.0</td>\n",
       "      <td>0.0</td>\n",
       "      <td>...</td>\n",
       "      <td>0</td>\n",
       "      <td>0</td>\n",
       "      <td>0</td>\n",
       "      <td>0</td>\n",
       "      <td>0</td>\n",
       "      <td>0</td>\n",
       "      <td>0</td>\n",
       "      <td>0</td>\n",
       "      <td>0</td>\n",
       "      <td>1</td>\n",
       "    </tr>\n",
       "    <tr>\n",
       "      <th>2</th>\n",
       "      <td>65.370</td>\n",
       "      <td>419.53</td>\n",
       "      <td>907.0</td>\n",
       "      <td>0.853698</td>\n",
       "      <td>0.0</td>\n",
       "      <td>0.0</td>\n",
       "      <td>0.0</td>\n",
       "      <td>0.0</td>\n",
       "      <td>0.0</td>\n",
       "      <td>0.0</td>\n",
       "      <td>...</td>\n",
       "      <td>0</td>\n",
       "      <td>0</td>\n",
       "      <td>0</td>\n",
       "      <td>0</td>\n",
       "      <td>0</td>\n",
       "      <td>0</td>\n",
       "      <td>0</td>\n",
       "      <td>0</td>\n",
       "      <td>0</td>\n",
       "      <td>1</td>\n",
       "    </tr>\n",
       "    <tr>\n",
       "      <th>3</th>\n",
       "      <td>107.868</td>\n",
       "      <td>961.78</td>\n",
       "      <td>2162.0</td>\n",
       "      <td>1.014730</td>\n",
       "      <td>0.0</td>\n",
       "      <td>0.0</td>\n",
       "      <td>0.0</td>\n",
       "      <td>0.0</td>\n",
       "      <td>0.0</td>\n",
       "      <td>0.0</td>\n",
       "      <td>...</td>\n",
       "      <td>1</td>\n",
       "      <td>0</td>\n",
       "      <td>0</td>\n",
       "      <td>0</td>\n",
       "      <td>0</td>\n",
       "      <td>0</td>\n",
       "      <td>0</td>\n",
       "      <td>0</td>\n",
       "      <td>0</td>\n",
       "      <td>1</td>\n",
       "    </tr>\n",
       "  </tbody>\n",
       "</table>\n",
       "<p>4 rows × 39 columns</p>\n",
       "</div>"
      ],
      "text/plain": [
       "    propMW   propMP  propBP  propLogDensity    0    1    2    3    4    5  \\\n",
       "0   79.867  1843.00  2972.0        0.626340  0.5  0.0  0.0  0.0  0.0  1.0   \n",
       "1   63.546  1083.00  2567.0        0.952308  0.0  0.0  0.0  0.0  0.0  0.0   \n",
       "2   65.370   419.53   907.0        0.853698  0.0  0.0  0.0  0.0  0.0  0.0   \n",
       "3  107.868   961.78  2162.0        1.014730  0.0  0.0  0.0  0.0  0.0  0.0   \n",
       "\n",
       "     ...     group_facialcleansingandmoisturizing  group_fungicide  \\\n",
       "0    ...                                        0                0   \n",
       "1    ...                                        0                0   \n",
       "2    ...                                        0                0   \n",
       "3    ...                                        1                0   \n",
       "\n",
       "   group_generalhouseholdcleaning  group_generalmoisturizing  \\\n",
       "0                               0                          0   \n",
       "1                               0                          0   \n",
       "2                               0                          0   \n",
       "3                               0                          0   \n",
       "\n",
       "   group_makeupandrelated  group_paintstainandrelatedproducts  \\\n",
       "0                       0                                   1   \n",
       "1                       0                                   0   \n",
       "2                       0                                   0   \n",
       "3                       0                                   0   \n",
       "\n",
       "   group_sunscreen  group_surfacesealers  refined_spray  matrix_F  \n",
       "0                0                     0              0         1  \n",
       "1                0                     0              0         1  \n",
       "2                0                     0              0         1  \n",
       "3                0                     0              0         1  \n",
       "\n",
       "[4 rows x 39 columns]"
      ]
     },
     "execution_count": 10,
     "metadata": {},
     "output_type": "execute_result"
    }
   ],
   "source": [
    "# Target (ENM) model data\n",
    "X_enm = pd.read_csv(\"./data/XX_enm.csv\", sep='\\t', header='infer', index_col=0)\n",
    "X_enm.head(4)"
   ]
  },
  {
   "cell_type": "code",
   "execution_count": 11,
   "metadata": {
    "ExecuteTime": {
     "end_time": "2019-01-10T17:35:12.645619Z",
     "start_time": "2019-01-10T17:35:12.448543Z"
    }
   },
   "outputs": [
    {
     "data": {
      "text/html": [
       "<div>\n",
       "<style scoped>\n",
       "    .dataframe tbody tr th:only-of-type {\n",
       "        vertical-align: middle;\n",
       "    }\n",
       "\n",
       "    .dataframe tbody tr th {\n",
       "        vertical-align: top;\n",
       "    }\n",
       "\n",
       "    .dataframe thead th {\n",
       "        text-align: right;\n",
       "    }\n",
       "</style>\n",
       "<table border=\"1\" class=\"dataframe\">\n",
       "  <thead>\n",
       "    <tr style=\"text-align: right;\">\n",
       "      <th></th>\n",
       "      <th>propMW</th>\n",
       "      <th>propMP</th>\n",
       "      <th>propBP</th>\n",
       "      <th>propLogDensity</th>\n",
       "      <th>0</th>\n",
       "      <th>1</th>\n",
       "      <th>2</th>\n",
       "      <th>3</th>\n",
       "      <th>4</th>\n",
       "      <th>5</th>\n",
       "      <th>...</th>\n",
       "      <th>group_facialcleansingandmoisturizing</th>\n",
       "      <th>group_fungicide</th>\n",
       "      <th>group_generalhouseholdcleaning</th>\n",
       "      <th>group_generalmoisturizing</th>\n",
       "      <th>group_makeupandrelated</th>\n",
       "      <th>group_paintstainandrelatedproducts</th>\n",
       "      <th>group_sunscreen</th>\n",
       "      <th>group_surfacesealers</th>\n",
       "      <th>refined_spray</th>\n",
       "      <th>matrix_F</th>\n",
       "    </tr>\n",
       "  </thead>\n",
       "  <tbody>\n",
       "    <tr>\n",
       "      <th>1</th>\n",
       "      <td>106.168</td>\n",
       "      <td>-52.5218</td>\n",
       "      <td>147.1505</td>\n",
       "      <td>-0.05061</td>\n",
       "      <td>0.5</td>\n",
       "      <td>0.0</td>\n",
       "      <td>0.0</td>\n",
       "      <td>0.0</td>\n",
       "      <td>0.0</td>\n",
       "      <td>0.0</td>\n",
       "      <td>...</td>\n",
       "      <td>0</td>\n",
       "      <td>0</td>\n",
       "      <td>0</td>\n",
       "      <td>0</td>\n",
       "      <td>0</td>\n",
       "      <td>0</td>\n",
       "      <td>0</td>\n",
       "      <td>0</td>\n",
       "      <td>0</td>\n",
       "      <td>1</td>\n",
       "    </tr>\n",
       "    <tr>\n",
       "      <th>2</th>\n",
       "      <td>106.168</td>\n",
       "      <td>-52.5218</td>\n",
       "      <td>147.1505</td>\n",
       "      <td>-0.05061</td>\n",
       "      <td>0.5</td>\n",
       "      <td>0.0</td>\n",
       "      <td>0.0</td>\n",
       "      <td>0.0</td>\n",
       "      <td>0.0</td>\n",
       "      <td>0.0</td>\n",
       "      <td>...</td>\n",
       "      <td>0</td>\n",
       "      <td>0</td>\n",
       "      <td>0</td>\n",
       "      <td>0</td>\n",
       "      <td>0</td>\n",
       "      <td>0</td>\n",
       "      <td>0</td>\n",
       "      <td>0</td>\n",
       "      <td>0</td>\n",
       "      <td>1</td>\n",
       "    </tr>\n",
       "    <tr>\n",
       "      <th>3</th>\n",
       "      <td>106.168</td>\n",
       "      <td>-52.5218</td>\n",
       "      <td>147.1505</td>\n",
       "      <td>-0.05061</td>\n",
       "      <td>0.5</td>\n",
       "      <td>0.0</td>\n",
       "      <td>0.0</td>\n",
       "      <td>0.0</td>\n",
       "      <td>0.0</td>\n",
       "      <td>0.0</td>\n",
       "      <td>...</td>\n",
       "      <td>0</td>\n",
       "      <td>0</td>\n",
       "      <td>0</td>\n",
       "      <td>0</td>\n",
       "      <td>0</td>\n",
       "      <td>1</td>\n",
       "      <td>0</td>\n",
       "      <td>0</td>\n",
       "      <td>1</td>\n",
       "      <td>1</td>\n",
       "    </tr>\n",
       "    <tr>\n",
       "      <th>4</th>\n",
       "      <td>106.168</td>\n",
       "      <td>-52.5218</td>\n",
       "      <td>147.1505</td>\n",
       "      <td>-0.05061</td>\n",
       "      <td>0.5</td>\n",
       "      <td>0.0</td>\n",
       "      <td>0.0</td>\n",
       "      <td>0.0</td>\n",
       "      <td>0.0</td>\n",
       "      <td>0.0</td>\n",
       "      <td>...</td>\n",
       "      <td>0</td>\n",
       "      <td>0</td>\n",
       "      <td>0</td>\n",
       "      <td>0</td>\n",
       "      <td>0</td>\n",
       "      <td>1</td>\n",
       "      <td>0</td>\n",
       "      <td>0</td>\n",
       "      <td>1</td>\n",
       "      <td>1</td>\n",
       "    </tr>\n",
       "  </tbody>\n",
       "</table>\n",
       "<p>4 rows × 39 columns</p>\n",
       "</div>"
      ],
      "text/plain": [
       "    propMW   propMP    propBP  propLogDensity    0    1    2    3    4    5  \\\n",
       "1  106.168 -52.5218  147.1505        -0.05061  0.5  0.0  0.0  0.0  0.0  0.0   \n",
       "2  106.168 -52.5218  147.1505        -0.05061  0.5  0.0  0.0  0.0  0.0  0.0   \n",
       "3  106.168 -52.5218  147.1505        -0.05061  0.5  0.0  0.0  0.0  0.0  0.0   \n",
       "4  106.168 -52.5218  147.1505        -0.05061  0.5  0.0  0.0  0.0  0.0  0.0   \n",
       "\n",
       "     ...     group_facialcleansingandmoisturizing  group_fungicide  \\\n",
       "1    ...                                        0                0   \n",
       "2    ...                                        0                0   \n",
       "3    ...                                        0                0   \n",
       "4    ...                                        0                0   \n",
       "\n",
       "   group_generalhouseholdcleaning  group_generalmoisturizing  \\\n",
       "1                               0                          0   \n",
       "2                               0                          0   \n",
       "3                               0                          0   \n",
       "4                               0                          0   \n",
       "\n",
       "   group_makeupandrelated  group_paintstainandrelatedproducts  \\\n",
       "1                       0                                   0   \n",
       "2                       0                                   0   \n",
       "3                       0                                   1   \n",
       "4                       0                                   1   \n",
       "\n",
       "   group_sunscreen  group_surfacesealers  refined_spray  matrix_F  \n",
       "1                0                     0              0         1  \n",
       "2                0                     0              0         1  \n",
       "3                0                     0              1         1  \n",
       "4                0                     0              1         1  \n",
       "\n",
       "[4 rows x 39 columns]"
      ]
     },
     "execution_count": 11,
     "metadata": {},
     "output_type": "execute_result"
    }
   ],
   "source": [
    "# Source (organics) model data\n",
    "X_source = pd.read_csv(\"./data/XX_source.csv\", sep='\\t', header='infer', index_col=0)\n",
    "X_source.head(4)"
   ]
  },
  {
   "cell_type": "code",
   "execution_count": 12,
   "metadata": {
    "ExecuteTime": {
     "end_time": "2019-01-10T17:35:12.988566Z",
     "start_time": "2019-01-10T17:35:12.960014Z"
    }
   },
   "outputs": [
    {
     "name": "stdout",
     "output_type": "stream",
     "text": [
      "(16354, 39)\n"
     ]
    }
   ],
   "source": [
    "print(X_source.shape)"
   ]
  },
  {
   "cell_type": "markdown",
   "metadata": {},
   "source": [
    "## Read in WF data"
   ]
  },
  {
   "cell_type": "code",
   "execution_count": 20,
   "metadata": {
    "ExecuteTime": {
     "end_time": "2019-01-10T17:47:26.507156Z",
     "start_time": "2019-01-10T17:47:26.489680Z"
    },
    "collapsed": true
   },
   "outputs": [],
   "source": [
    "# Read in ENM maximum_weight_fraction data\n",
    "y_enm = pd.read_csv(\"./data/ENM_conc_export.csv\", sep=',', header='infer', usecols=[3])"
   ]
  },
  {
   "cell_type": "code",
   "execution_count": 21,
   "metadata": {
    "ExecuteTime": {
     "end_time": "2019-01-10T17:47:27.271429Z",
     "start_time": "2019-01-10T17:47:27.249510Z"
    },
    "collapsed": true
   },
   "outputs": [],
   "source": [
    "# Read in organics maximum_weight_fraction data\n",
    "y_source = pd.read_csv(\"./data/y_source.csv\", sep=',', header='infer')\n",
    "y_source.index = X_source.index"
   ]
  },
  {
   "cell_type": "markdown",
   "metadata": {
    "ExecuteTime": {
     "end_time": "2018-07-31T20:29:35.081047Z",
     "start_time": "2018-07-31T20:29:35.076307Z"
    }
   },
   "source": [
    "## Data frames"
   ]
  },
  {
   "cell_type": "markdown",
   "metadata": {},
   "source": [
    "Multiple data frames are constructed for testing models with varying ratios of ENM:organics data."
   ]
  },
  {
   "cell_type": "markdown",
   "metadata": {
    "ExecuteTime": {
     "end_time": "2018-12-14T18:14:07.512582Z",
     "start_time": "2018-12-14T18:14:07.505735Z"
    }
   },
   "source": [
    "### 1:200 ENM-organics data"
   ]
  },
  {
   "cell_type": "code",
   "execution_count": 22,
   "metadata": {
    "ExecuteTime": {
     "end_time": "2019-01-10T17:47:34.811493Z",
     "start_time": "2019-01-10T17:47:34.772270Z"
    }
   },
   "outputs": [
    {
     "name": "stdout",
     "output_type": "stream",
     "text": [
      "(16436, 39)\n",
      "(16436, 1)\n"
     ]
    }
   ],
   "source": [
    "# ENM and all organics data stacked, respectively\n",
    "X_all = pd.concat([X_enm, X_source], sort=False)\n",
    "y_all = pd.concat([y_enm, y_source])\n",
    "\n",
    "print(X_all.shape)\n",
    "print(y_all.shape)"
   ]
  },
  {
   "cell_type": "code",
   "execution_count": 24,
   "metadata": {
    "ExecuteTime": {
     "end_time": "2019-01-10T17:47:51.670218Z",
     "start_time": "2019-01-10T17:47:51.621699Z"
    }
   },
   "outputs": [
    {
     "data": {
      "text/html": [
       "<div>\n",
       "<style scoped>\n",
       "    .dataframe tbody tr th:only-of-type {\n",
       "        vertical-align: middle;\n",
       "    }\n",
       "\n",
       "    .dataframe tbody tr th {\n",
       "        vertical-align: top;\n",
       "    }\n",
       "\n",
       "    .dataframe thead th {\n",
       "        text-align: right;\n",
       "    }\n",
       "</style>\n",
       "<table border=\"1\" class=\"dataframe\">\n",
       "  <thead>\n",
       "    <tr style=\"text-align: right;\">\n",
       "      <th></th>\n",
       "      <th>propMW</th>\n",
       "      <th>propMP</th>\n",
       "      <th>propBP</th>\n",
       "      <th>propLogDensity</th>\n",
       "      <th>0</th>\n",
       "      <th>1</th>\n",
       "      <th>2</th>\n",
       "      <th>3</th>\n",
       "      <th>4</th>\n",
       "      <th>5</th>\n",
       "      <th>...</th>\n",
       "      <th>group_facialcleansingandmoisturizing</th>\n",
       "      <th>group_fungicide</th>\n",
       "      <th>group_generalhouseholdcleaning</th>\n",
       "      <th>group_generalmoisturizing</th>\n",
       "      <th>group_makeupandrelated</th>\n",
       "      <th>group_paintstainandrelatedproducts</th>\n",
       "      <th>group_sunscreen</th>\n",
       "      <th>group_surfacesealers</th>\n",
       "      <th>refined_spray</th>\n",
       "      <th>matrix_F</th>\n",
       "    </tr>\n",
       "  </thead>\n",
       "  <tbody>\n",
       "    <tr>\n",
       "      <th>29366</th>\n",
       "      <td>152.149</td>\n",
       "      <td>84.03215</td>\n",
       "      <td>263.941</td>\n",
       "      <td>0.078457</td>\n",
       "      <td>0.0</td>\n",
       "      <td>0.0</td>\n",
       "      <td>0.0</td>\n",
       "      <td>0.0</td>\n",
       "      <td>0.0</td>\n",
       "      <td>0.0</td>\n",
       "      <td>...</td>\n",
       "      <td>0</td>\n",
       "      <td>0</td>\n",
       "      <td>0</td>\n",
       "      <td>1</td>\n",
       "      <td>0</td>\n",
       "      <td>0</td>\n",
       "      <td>0</td>\n",
       "      <td>0</td>\n",
       "      <td>0</td>\n",
       "      <td>1</td>\n",
       "    </tr>\n",
       "    <tr>\n",
       "      <th>29367</th>\n",
       "      <td>152.149</td>\n",
       "      <td>84.03215</td>\n",
       "      <td>263.941</td>\n",
       "      <td>0.078457</td>\n",
       "      <td>0.0</td>\n",
       "      <td>0.0</td>\n",
       "      <td>0.0</td>\n",
       "      <td>0.0</td>\n",
       "      <td>0.0</td>\n",
       "      <td>0.0</td>\n",
       "      <td>...</td>\n",
       "      <td>0</td>\n",
       "      <td>0</td>\n",
       "      <td>0</td>\n",
       "      <td>0</td>\n",
       "      <td>1</td>\n",
       "      <td>0</td>\n",
       "      <td>0</td>\n",
       "      <td>0</td>\n",
       "      <td>0</td>\n",
       "      <td>1</td>\n",
       "    </tr>\n",
       "    <tr>\n",
       "      <th>29368</th>\n",
       "      <td>135.210</td>\n",
       "      <td>-31.78080</td>\n",
       "      <td>203.080</td>\n",
       "      <td>-0.031517</td>\n",
       "      <td>0.0</td>\n",
       "      <td>0.0</td>\n",
       "      <td>0.0</td>\n",
       "      <td>0.0</td>\n",
       "      <td>1.0</td>\n",
       "      <td>0.0</td>\n",
       "      <td>...</td>\n",
       "      <td>0</td>\n",
       "      <td>0</td>\n",
       "      <td>0</td>\n",
       "      <td>0</td>\n",
       "      <td>0</td>\n",
       "      <td>0</td>\n",
       "      <td>0</td>\n",
       "      <td>0</td>\n",
       "      <td>0</td>\n",
       "      <td>1</td>\n",
       "    </tr>\n",
       "    <tr>\n",
       "      <th>29369</th>\n",
       "      <td>135.210</td>\n",
       "      <td>-31.78080</td>\n",
       "      <td>203.080</td>\n",
       "      <td>-0.031517</td>\n",
       "      <td>0.0</td>\n",
       "      <td>0.0</td>\n",
       "      <td>0.0</td>\n",
       "      <td>0.0</td>\n",
       "      <td>1.0</td>\n",
       "      <td>0.0</td>\n",
       "      <td>...</td>\n",
       "      <td>0</td>\n",
       "      <td>0</td>\n",
       "      <td>0</td>\n",
       "      <td>0</td>\n",
       "      <td>0</td>\n",
       "      <td>0</td>\n",
       "      <td>0</td>\n",
       "      <td>0</td>\n",
       "      <td>0</td>\n",
       "      <td>1</td>\n",
       "    </tr>\n",
       "  </tbody>\n",
       "</table>\n",
       "<p>4 rows × 39 columns</p>\n",
       "</div>"
      ],
      "text/plain": [
       "        propMW    propMP   propBP  propLogDensity    0    1    2    3    4  \\\n",
       "29366  152.149  84.03215  263.941        0.078457  0.0  0.0  0.0  0.0  0.0   \n",
       "29367  152.149  84.03215  263.941        0.078457  0.0  0.0  0.0  0.0  0.0   \n",
       "29368  135.210 -31.78080  203.080       -0.031517  0.0  0.0  0.0  0.0  1.0   \n",
       "29369  135.210 -31.78080  203.080       -0.031517  0.0  0.0  0.0  0.0  1.0   \n",
       "\n",
       "         5    ...     group_facialcleansingandmoisturizing  group_fungicide  \\\n",
       "29366  0.0    ...                                        0                0   \n",
       "29367  0.0    ...                                        0                0   \n",
       "29368  0.0    ...                                        0                0   \n",
       "29369  0.0    ...                                        0                0   \n",
       "\n",
       "       group_generalhouseholdcleaning  group_generalmoisturizing  \\\n",
       "29366                               0                          1   \n",
       "29367                               0                          0   \n",
       "29368                               0                          0   \n",
       "29369                               0                          0   \n",
       "\n",
       "       group_makeupandrelated  group_paintstainandrelatedproducts  \\\n",
       "29366                       0                                   0   \n",
       "29367                       1                                   0   \n",
       "29368                       0                                   0   \n",
       "29369                       0                                   0   \n",
       "\n",
       "       group_sunscreen  group_surfacesealers  refined_spray  matrix_F  \n",
       "29366                0                     0              0         1  \n",
       "29367                0                     0              0         1  \n",
       "29368                0                     0              0         1  \n",
       "29369                0                     0              0         1  \n",
       "\n",
       "[4 rows x 39 columns]"
      ]
     },
     "execution_count": 24,
     "metadata": {},
     "output_type": "execute_result"
    }
   ],
   "source": [
    "X_all.tail(4)"
   ]
  },
  {
   "cell_type": "code",
   "execution_count": 25,
   "metadata": {
    "ExecuteTime": {
     "end_time": "2019-01-10T17:47:54.115943Z",
     "start_time": "2019-01-10T17:47:54.082347Z"
    }
   },
   "outputs": [
    {
     "data": {
      "text/html": [
       "<div>\n",
       "<style scoped>\n",
       "    .dataframe tbody tr th:only-of-type {\n",
       "        vertical-align: middle;\n",
       "    }\n",
       "\n",
       "    .dataframe tbody tr th {\n",
       "        vertical-align: top;\n",
       "    }\n",
       "\n",
       "    .dataframe thead th {\n",
       "        text-align: right;\n",
       "    }\n",
       "</style>\n",
       "<table border=\"1\" class=\"dataframe\">\n",
       "  <thead>\n",
       "    <tr style=\"text-align: right;\">\n",
       "      <th></th>\n",
       "      <th>maximum_weight_fraction</th>\n",
       "    </tr>\n",
       "  </thead>\n",
       "  <tbody>\n",
       "    <tr>\n",
       "      <th>29366</th>\n",
       "      <td>0.01</td>\n",
       "    </tr>\n",
       "    <tr>\n",
       "      <th>29367</th>\n",
       "      <td>0.01</td>\n",
       "    </tr>\n",
       "    <tr>\n",
       "      <th>29368</th>\n",
       "      <td>0.02</td>\n",
       "    </tr>\n",
       "    <tr>\n",
       "      <th>29369</th>\n",
       "      <td>0.02</td>\n",
       "    </tr>\n",
       "  </tbody>\n",
       "</table>\n",
       "</div>"
      ],
      "text/plain": [
       "       maximum_weight_fraction\n",
       "29366                     0.01\n",
       "29367                     0.01\n",
       "29368                     0.02\n",
       "29369                     0.02"
      ]
     },
     "execution_count": 25,
     "metadata": {},
     "output_type": "execute_result"
    }
   ],
   "source": [
    "y_all.tail(4)"
   ]
  },
  {
   "cell_type": "markdown",
   "metadata": {},
   "source": [
    "### 1:100 ENM-organics data"
   ]
  },
  {
   "cell_type": "code",
   "execution_count": 31,
   "metadata": {
    "ExecuteTime": {
     "end_time": "2019-01-10T17:52:01.813856Z",
     "start_time": "2019-01-10T17:52:01.769388Z"
    }
   },
   "outputs": [
    {
     "name": "stdout",
     "output_type": "stream",
     "text": [
      "(8200, 39)\n",
      "(8200, 1)\n"
     ]
    }
   ],
   "source": [
    "# Randomly sample 50% of organics data\n",
    "X_oneto100 = X_source.sample(n=8200, replace=False, random_state=38, axis=0)\n",
    "idx = X_oneto100.index.tolist()\n",
    "\n",
    "y_oneto100 = pd.DataFrame(y_source)\n",
    "y_oneto100 = y_oneto100.loc[idx]\n",
    "\n",
    "print(X_oneto100.shape)\n",
    "print(y_oneto100.shape)"
   ]
  },
  {
   "cell_type": "code",
   "execution_count": 32,
   "metadata": {
    "ExecuteTime": {
     "end_time": "2019-01-10T17:52:05.504185Z",
     "start_time": "2019-01-10T17:52:05.454642Z"
    }
   },
   "outputs": [
    {
     "data": {
      "text/html": [
       "<div>\n",
       "<style scoped>\n",
       "    .dataframe tbody tr th:only-of-type {\n",
       "        vertical-align: middle;\n",
       "    }\n",
       "\n",
       "    .dataframe tbody tr th {\n",
       "        vertical-align: top;\n",
       "    }\n",
       "\n",
       "    .dataframe thead th {\n",
       "        text-align: right;\n",
       "    }\n",
       "</style>\n",
       "<table border=\"1\" class=\"dataframe\">\n",
       "  <thead>\n",
       "    <tr style=\"text-align: right;\">\n",
       "      <th></th>\n",
       "      <th>propMW</th>\n",
       "      <th>propMP</th>\n",
       "      <th>propBP</th>\n",
       "      <th>propLogDensity</th>\n",
       "      <th>0</th>\n",
       "      <th>1</th>\n",
       "      <th>2</th>\n",
       "      <th>3</th>\n",
       "      <th>4</th>\n",
       "      <th>5</th>\n",
       "      <th>...</th>\n",
       "      <th>group_facialcleansingandmoisturizing</th>\n",
       "      <th>group_fungicide</th>\n",
       "      <th>group_generalhouseholdcleaning</th>\n",
       "      <th>group_generalmoisturizing</th>\n",
       "      <th>group_makeupandrelated</th>\n",
       "      <th>group_paintstainandrelatedproducts</th>\n",
       "      <th>group_sunscreen</th>\n",
       "      <th>group_surfacesealers</th>\n",
       "      <th>refined_spray</th>\n",
       "      <th>matrix_F</th>\n",
       "    </tr>\n",
       "  </thead>\n",
       "  <tbody>\n",
       "    <tr>\n",
       "      <th>25664</th>\n",
       "      <td>72.107</td>\n",
       "      <td>-66.158800</td>\n",
       "      <td>78.8506</td>\n",
       "      <td>-0.057000</td>\n",
       "      <td>0.0</td>\n",
       "      <td>0.0</td>\n",
       "      <td>0.0</td>\n",
       "      <td>0.0</td>\n",
       "      <td>0.0</td>\n",
       "      <td>0.0</td>\n",
       "      <td>...</td>\n",
       "      <td>0</td>\n",
       "      <td>0</td>\n",
       "      <td>0</td>\n",
       "      <td>0</td>\n",
       "      <td>0</td>\n",
       "      <td>1</td>\n",
       "      <td>0</td>\n",
       "      <td>0</td>\n",
       "      <td>1</td>\n",
       "      <td>1</td>\n",
       "    </tr>\n",
       "    <tr>\n",
       "      <th>2567</th>\n",
       "      <td>270.457</td>\n",
       "      <td>3.531835</td>\n",
       "      <td>303.6770</td>\n",
       "      <td>-0.078834</td>\n",
       "      <td>0.0</td>\n",
       "      <td>0.0</td>\n",
       "      <td>0.5</td>\n",
       "      <td>0.0</td>\n",
       "      <td>0.0</td>\n",
       "      <td>0.0</td>\n",
       "      <td>...</td>\n",
       "      <td>0</td>\n",
       "      <td>0</td>\n",
       "      <td>0</td>\n",
       "      <td>1</td>\n",
       "      <td>0</td>\n",
       "      <td>0</td>\n",
       "      <td>0</td>\n",
       "      <td>0</td>\n",
       "      <td>0</td>\n",
       "      <td>1</td>\n",
       "    </tr>\n",
       "    <tr>\n",
       "      <th>2702</th>\n",
       "      <td>104.149</td>\n",
       "      <td>-10.558055</td>\n",
       "      <td>222.9220</td>\n",
       "      <td>0.009451</td>\n",
       "      <td>0.0</td>\n",
       "      <td>0.0</td>\n",
       "      <td>0.5</td>\n",
       "      <td>0.0</td>\n",
       "      <td>0.0</td>\n",
       "      <td>0.0</td>\n",
       "      <td>...</td>\n",
       "      <td>0</td>\n",
       "      <td>0</td>\n",
       "      <td>0</td>\n",
       "      <td>0</td>\n",
       "      <td>0</td>\n",
       "      <td>0</td>\n",
       "      <td>0</td>\n",
       "      <td>0</td>\n",
       "      <td>0</td>\n",
       "      <td>1</td>\n",
       "    </tr>\n",
       "    <tr>\n",
       "      <th>26742</th>\n",
       "      <td>222.240</td>\n",
       "      <td>11.436800</td>\n",
       "      <td>303.6145</td>\n",
       "      <td>0.045323</td>\n",
       "      <td>0.0</td>\n",
       "      <td>0.0</td>\n",
       "      <td>0.5</td>\n",
       "      <td>0.0</td>\n",
       "      <td>0.0</td>\n",
       "      <td>0.0</td>\n",
       "      <td>...</td>\n",
       "      <td>0</td>\n",
       "      <td>0</td>\n",
       "      <td>0</td>\n",
       "      <td>0</td>\n",
       "      <td>0</td>\n",
       "      <td>0</td>\n",
       "      <td>0</td>\n",
       "      <td>0</td>\n",
       "      <td>1</td>\n",
       "      <td>1</td>\n",
       "    </tr>\n",
       "    <tr>\n",
       "      <th>18760</th>\n",
       "      <td>188.183</td>\n",
       "      <td>165.501000</td>\n",
       "      <td>285.0290</td>\n",
       "      <td>0.143327</td>\n",
       "      <td>0.0</td>\n",
       "      <td>0.0</td>\n",
       "      <td>0.0</td>\n",
       "      <td>0.0</td>\n",
       "      <td>0.0</td>\n",
       "      <td>0.0</td>\n",
       "      <td>...</td>\n",
       "      <td>0</td>\n",
       "      <td>0</td>\n",
       "      <td>0</td>\n",
       "      <td>0</td>\n",
       "      <td>0</td>\n",
       "      <td>0</td>\n",
       "      <td>0</td>\n",
       "      <td>0</td>\n",
       "      <td>0</td>\n",
       "      <td>1</td>\n",
       "    </tr>\n",
       "  </tbody>\n",
       "</table>\n",
       "<p>5 rows × 39 columns</p>\n",
       "</div>"
      ],
      "text/plain": [
       "        propMW      propMP    propBP  propLogDensity    0    1    2    3    4  \\\n",
       "25664   72.107  -66.158800   78.8506       -0.057000  0.0  0.0  0.0  0.0  0.0   \n",
       "2567   270.457    3.531835  303.6770       -0.078834  0.0  0.0  0.5  0.0  0.0   \n",
       "2702   104.149  -10.558055  222.9220        0.009451  0.0  0.0  0.5  0.0  0.0   \n",
       "26742  222.240   11.436800  303.6145        0.045323  0.0  0.0  0.5  0.0  0.0   \n",
       "18760  188.183  165.501000  285.0290        0.143327  0.0  0.0  0.0  0.0  0.0   \n",
       "\n",
       "         5    ...     group_facialcleansingandmoisturizing  group_fungicide  \\\n",
       "25664  0.0    ...                                        0                0   \n",
       "2567   0.0    ...                                        0                0   \n",
       "2702   0.0    ...                                        0                0   \n",
       "26742  0.0    ...                                        0                0   \n",
       "18760  0.0    ...                                        0                0   \n",
       "\n",
       "       group_generalhouseholdcleaning  group_generalmoisturizing  \\\n",
       "25664                               0                          0   \n",
       "2567                                0                          1   \n",
       "2702                                0                          0   \n",
       "26742                               0                          0   \n",
       "18760                               0                          0   \n",
       "\n",
       "       group_makeupandrelated  group_paintstainandrelatedproducts  \\\n",
       "25664                       0                                   1   \n",
       "2567                        0                                   0   \n",
       "2702                        0                                   0   \n",
       "26742                       0                                   0   \n",
       "18760                       0                                   0   \n",
       "\n",
       "       group_sunscreen  group_surfacesealers  refined_spray  matrix_F  \n",
       "25664                0                     0              1         1  \n",
       "2567                 0                     0              0         1  \n",
       "2702                 0                     0              0         1  \n",
       "26742                0                     0              1         1  \n",
       "18760                0                     0              0         1  \n",
       "\n",
       "[5 rows x 39 columns]"
      ]
     },
     "execution_count": 32,
     "metadata": {},
     "output_type": "execute_result"
    }
   ],
   "source": [
    "X_oneto100.head(5)"
   ]
  },
  {
   "cell_type": "code",
   "execution_count": 33,
   "metadata": {
    "ExecuteTime": {
     "end_time": "2019-01-10T17:52:06.483918Z",
     "start_time": "2019-01-10T17:52:06.447915Z"
    }
   },
   "outputs": [
    {
     "data": {
      "text/html": [
       "<div>\n",
       "<style scoped>\n",
       "    .dataframe tbody tr th:only-of-type {\n",
       "        vertical-align: middle;\n",
       "    }\n",
       "\n",
       "    .dataframe tbody tr th {\n",
       "        vertical-align: top;\n",
       "    }\n",
       "\n",
       "    .dataframe thead th {\n",
       "        text-align: right;\n",
       "    }\n",
       "</style>\n",
       "<table border=\"1\" class=\"dataframe\">\n",
       "  <thead>\n",
       "    <tr style=\"text-align: right;\">\n",
       "      <th></th>\n",
       "      <th>maximum_weight_fraction</th>\n",
       "    </tr>\n",
       "  </thead>\n",
       "  <tbody>\n",
       "    <tr>\n",
       "      <th>25664</th>\n",
       "      <td>0.050</td>\n",
       "    </tr>\n",
       "    <tr>\n",
       "      <th>2567</th>\n",
       "      <td>0.046</td>\n",
       "    </tr>\n",
       "    <tr>\n",
       "      <th>2702</th>\n",
       "      <td>0.150</td>\n",
       "    </tr>\n",
       "    <tr>\n",
       "      <th>26742</th>\n",
       "      <td>0.050</td>\n",
       "    </tr>\n",
       "    <tr>\n",
       "      <th>18760</th>\n",
       "      <td>0.003</td>\n",
       "    </tr>\n",
       "  </tbody>\n",
       "</table>\n",
       "</div>"
      ],
      "text/plain": [
       "       maximum_weight_fraction\n",
       "25664                    0.050\n",
       "2567                     0.046\n",
       "2702                     0.150\n",
       "26742                    0.050\n",
       "18760                    0.003"
      ]
     },
     "execution_count": 33,
     "metadata": {},
     "output_type": "execute_result"
    }
   ],
   "source": [
    "y_oneto100.head(5)"
   ]
  },
  {
   "cell_type": "code",
   "execution_count": 34,
   "metadata": {
    "ExecuteTime": {
     "end_time": "2019-01-10T17:58:57.185767Z",
     "start_time": "2019-01-10T17:58:57.167637Z"
    }
   },
   "outputs": [
    {
     "name": "stdout",
     "output_type": "stream",
     "text": [
      "(8282, 39)\n",
      "(8282, 1)\n"
     ]
    }
   ],
   "source": [
    "# Append sampled organics data to ENM data\n",
    "X_oneto100 = pd.concat([X_enm, X_oneto100], sort=False)\n",
    "y_oneto100 = pd.concat([y_enm, y_oneto100], sort=False)\n",
    "\n",
    "print(X_oneto100.shape)\n",
    "print(y_oneto100.shape)"
   ]
  },
  {
   "cell_type": "code",
   "execution_count": 35,
   "metadata": {
    "ExecuteTime": {
     "end_time": "2019-01-10T17:59:10.925217Z",
     "start_time": "2019-01-10T17:59:10.866472Z"
    }
   },
   "outputs": [
    {
     "data": {
      "text/html": [
       "<div>\n",
       "<style scoped>\n",
       "    .dataframe tbody tr th:only-of-type {\n",
       "        vertical-align: middle;\n",
       "    }\n",
       "\n",
       "    .dataframe tbody tr th {\n",
       "        vertical-align: top;\n",
       "    }\n",
       "\n",
       "    .dataframe thead th {\n",
       "        text-align: right;\n",
       "    }\n",
       "</style>\n",
       "<table border=\"1\" class=\"dataframe\">\n",
       "  <thead>\n",
       "    <tr style=\"text-align: right;\">\n",
       "      <th></th>\n",
       "      <th>propMW</th>\n",
       "      <th>propMP</th>\n",
       "      <th>propBP</th>\n",
       "      <th>propLogDensity</th>\n",
       "      <th>0</th>\n",
       "      <th>1</th>\n",
       "      <th>2</th>\n",
       "      <th>3</th>\n",
       "      <th>4</th>\n",
       "      <th>5</th>\n",
       "      <th>...</th>\n",
       "      <th>group_facialcleansingandmoisturizing</th>\n",
       "      <th>group_fungicide</th>\n",
       "      <th>group_generalhouseholdcleaning</th>\n",
       "      <th>group_generalmoisturizing</th>\n",
       "      <th>group_makeupandrelated</th>\n",
       "      <th>group_paintstainandrelatedproducts</th>\n",
       "      <th>group_sunscreen</th>\n",
       "      <th>group_surfacesealers</th>\n",
       "      <th>refined_spray</th>\n",
       "      <th>matrix_F</th>\n",
       "    </tr>\n",
       "  </thead>\n",
       "  <tbody>\n",
       "    <tr>\n",
       "      <th>80</th>\n",
       "      <td>79.867</td>\n",
       "      <td>1843.000000</td>\n",
       "      <td>2972.0000</td>\n",
       "      <td>0.626340</td>\n",
       "      <td>0.0</td>\n",
       "      <td>0.0</td>\n",
       "      <td>0.0</td>\n",
       "      <td>0.0</td>\n",
       "      <td>0.0</td>\n",
       "      <td>1.0</td>\n",
       "      <td>...</td>\n",
       "      <td>0</td>\n",
       "      <td>0</td>\n",
       "      <td>0</td>\n",
       "      <td>0</td>\n",
       "      <td>0</td>\n",
       "      <td>0</td>\n",
       "      <td>1</td>\n",
       "      <td>0</td>\n",
       "      <td>1</td>\n",
       "      <td>1</td>\n",
       "    </tr>\n",
       "    <tr>\n",
       "      <th>81</th>\n",
       "      <td>107.868</td>\n",
       "      <td>961.780000</td>\n",
       "      <td>2162.0000</td>\n",
       "      <td>1.014730</td>\n",
       "      <td>0.0</td>\n",
       "      <td>0.0</td>\n",
       "      <td>0.0</td>\n",
       "      <td>0.0</td>\n",
       "      <td>0.0</td>\n",
       "      <td>0.0</td>\n",
       "      <td>...</td>\n",
       "      <td>0</td>\n",
       "      <td>0</td>\n",
       "      <td>0</td>\n",
       "      <td>0</td>\n",
       "      <td>0</td>\n",
       "      <td>0</td>\n",
       "      <td>0</td>\n",
       "      <td>0</td>\n",
       "      <td>1</td>\n",
       "      <td>1</td>\n",
       "    </tr>\n",
       "    <tr>\n",
       "      <th>25664</th>\n",
       "      <td>72.107</td>\n",
       "      <td>-66.158800</td>\n",
       "      <td>78.8506</td>\n",
       "      <td>-0.057000</td>\n",
       "      <td>0.0</td>\n",
       "      <td>0.0</td>\n",
       "      <td>0.0</td>\n",
       "      <td>0.0</td>\n",
       "      <td>0.0</td>\n",
       "      <td>0.0</td>\n",
       "      <td>...</td>\n",
       "      <td>0</td>\n",
       "      <td>0</td>\n",
       "      <td>0</td>\n",
       "      <td>0</td>\n",
       "      <td>0</td>\n",
       "      <td>1</td>\n",
       "      <td>0</td>\n",
       "      <td>0</td>\n",
       "      <td>1</td>\n",
       "      <td>1</td>\n",
       "    </tr>\n",
       "    <tr>\n",
       "      <th>2567</th>\n",
       "      <td>270.457</td>\n",
       "      <td>3.531835</td>\n",
       "      <td>303.6770</td>\n",
       "      <td>-0.078834</td>\n",
       "      <td>0.0</td>\n",
       "      <td>0.0</td>\n",
       "      <td>0.5</td>\n",
       "      <td>0.0</td>\n",
       "      <td>0.0</td>\n",
       "      <td>0.0</td>\n",
       "      <td>...</td>\n",
       "      <td>0</td>\n",
       "      <td>0</td>\n",
       "      <td>0</td>\n",
       "      <td>1</td>\n",
       "      <td>0</td>\n",
       "      <td>0</td>\n",
       "      <td>0</td>\n",
       "      <td>0</td>\n",
       "      <td>0</td>\n",
       "      <td>1</td>\n",
       "    </tr>\n",
       "    <tr>\n",
       "      <th>2702</th>\n",
       "      <td>104.149</td>\n",
       "      <td>-10.558055</td>\n",
       "      <td>222.9220</td>\n",
       "      <td>0.009451</td>\n",
       "      <td>0.0</td>\n",
       "      <td>0.0</td>\n",
       "      <td>0.5</td>\n",
       "      <td>0.0</td>\n",
       "      <td>0.0</td>\n",
       "      <td>0.0</td>\n",
       "      <td>...</td>\n",
       "      <td>0</td>\n",
       "      <td>0</td>\n",
       "      <td>0</td>\n",
       "      <td>0</td>\n",
       "      <td>0</td>\n",
       "      <td>0</td>\n",
       "      <td>0</td>\n",
       "      <td>0</td>\n",
       "      <td>0</td>\n",
       "      <td>1</td>\n",
       "    </tr>\n",
       "  </tbody>\n",
       "</table>\n",
       "<p>5 rows × 39 columns</p>\n",
       "</div>"
      ],
      "text/plain": [
       "        propMW       propMP     propBP  propLogDensity    0    1    2    3  \\\n",
       "80      79.867  1843.000000  2972.0000        0.626340  0.0  0.0  0.0  0.0   \n",
       "81     107.868   961.780000  2162.0000        1.014730  0.0  0.0  0.0  0.0   \n",
       "25664   72.107   -66.158800    78.8506       -0.057000  0.0  0.0  0.0  0.0   \n",
       "2567   270.457     3.531835   303.6770       -0.078834  0.0  0.0  0.5  0.0   \n",
       "2702   104.149   -10.558055   222.9220        0.009451  0.0  0.0  0.5  0.0   \n",
       "\n",
       "         4    5    ...     group_facialcleansingandmoisturizing  \\\n",
       "80     0.0  1.0    ...                                        0   \n",
       "81     0.0  0.0    ...                                        0   \n",
       "25664  0.0  0.0    ...                                        0   \n",
       "2567   0.0  0.0    ...                                        0   \n",
       "2702   0.0  0.0    ...                                        0   \n",
       "\n",
       "       group_fungicide  group_generalhouseholdcleaning  \\\n",
       "80                   0                               0   \n",
       "81                   0                               0   \n",
       "25664                0                               0   \n",
       "2567                 0                               0   \n",
       "2702                 0                               0   \n",
       "\n",
       "       group_generalmoisturizing  group_makeupandrelated  \\\n",
       "80                             0                       0   \n",
       "81                             0                       0   \n",
       "25664                          0                       0   \n",
       "2567                           1                       0   \n",
       "2702                           0                       0   \n",
       "\n",
       "       group_paintstainandrelatedproducts  group_sunscreen  \\\n",
       "80                                      0                1   \n",
       "81                                      0                0   \n",
       "25664                                   1                0   \n",
       "2567                                    0                0   \n",
       "2702                                    0                0   \n",
       "\n",
       "       group_surfacesealers  refined_spray  matrix_F  \n",
       "80                        0              1         1  \n",
       "81                        0              1         1  \n",
       "25664                     0              1         1  \n",
       "2567                      0              0         1  \n",
       "2702                      0              0         1  \n",
       "\n",
       "[5 rows x 39 columns]"
      ]
     },
     "execution_count": 35,
     "metadata": {},
     "output_type": "execute_result"
    }
   ],
   "source": [
    "X_oneto100.iloc[80:85,:]"
   ]
  },
  {
   "cell_type": "code",
   "execution_count": 37,
   "metadata": {
    "ExecuteTime": {
     "end_time": "2019-01-10T17:59:20.053984Z",
     "start_time": "2019-01-10T17:59:20.021135Z"
    }
   },
   "outputs": [
    {
     "data": {
      "text/html": [
       "<div>\n",
       "<style scoped>\n",
       "    .dataframe tbody tr th:only-of-type {\n",
       "        vertical-align: middle;\n",
       "    }\n",
       "\n",
       "    .dataframe tbody tr th {\n",
       "        vertical-align: top;\n",
       "    }\n",
       "\n",
       "    .dataframe thead th {\n",
       "        text-align: right;\n",
       "    }\n",
       "</style>\n",
       "<table border=\"1\" class=\"dataframe\">\n",
       "  <thead>\n",
       "    <tr style=\"text-align: right;\">\n",
       "      <th></th>\n",
       "      <th>maximum_weight_fraction</th>\n",
       "    </tr>\n",
       "  </thead>\n",
       "  <tbody>\n",
       "    <tr>\n",
       "      <th>80</th>\n",
       "      <td>0.000667</td>\n",
       "    </tr>\n",
       "    <tr>\n",
       "      <th>81</th>\n",
       "      <td>0.000800</td>\n",
       "    </tr>\n",
       "    <tr>\n",
       "      <th>25664</th>\n",
       "      <td>0.050000</td>\n",
       "    </tr>\n",
       "    <tr>\n",
       "      <th>2567</th>\n",
       "      <td>0.046000</td>\n",
       "    </tr>\n",
       "    <tr>\n",
       "      <th>2702</th>\n",
       "      <td>0.150000</td>\n",
       "    </tr>\n",
       "  </tbody>\n",
       "</table>\n",
       "</div>"
      ],
      "text/plain": [
       "       maximum_weight_fraction\n",
       "80                    0.000667\n",
       "81                    0.000800\n",
       "25664                 0.050000\n",
       "2567                  0.046000\n",
       "2702                  0.150000"
      ]
     },
     "execution_count": 37,
     "metadata": {},
     "output_type": "execute_result"
    }
   ],
   "source": [
    "y_oneto100.iloc[80:85,:]"
   ]
  },
  {
   "cell_type": "markdown",
   "metadata": {},
   "source": [
    "### 1:50 ENM-organics data"
   ]
  },
  {
   "cell_type": "code",
   "execution_count": 44,
   "metadata": {
    "ExecuteTime": {
     "end_time": "2019-01-10T18:25:51.898619Z",
     "start_time": "2019-01-10T18:25:51.846814Z"
    }
   },
   "outputs": [
    {
     "name": "stdout",
     "output_type": "stream",
     "text": [
      "(4100, 39)\n",
      "(4100, 1)\n"
     ]
    }
   ],
   "source": [
    "# Randomly sample 25% of organics data\n",
    "X_oneto50 = X_oneto100.iloc[82:,:].sample(frac=0.5, replace=False, random_state=38, axis=0)\n",
    "y_oneto50 = y_oneto100.iloc[82:,:].sample(frac=0.5, replace=False, random_state=38, axis=0)\n",
    "\n",
    "print(X_oneto50.shape)\n",
    "print(y_oneto50.shape)"
   ]
  },
  {
   "cell_type": "code",
   "execution_count": 45,
   "metadata": {
    "ExecuteTime": {
     "end_time": "2019-01-10T18:25:53.396845Z",
     "start_time": "2019-01-10T18:25:53.356552Z"
    }
   },
   "outputs": [
    {
     "name": "stdout",
     "output_type": "stream",
     "text": [
      "(4182, 39)\n",
      "(4182, 1)\n"
     ]
    }
   ],
   "source": [
    "# Append sampled organics data to ENM data\n",
    "X_oneto50 = pd.concat([X_enm, X_oneto50], sort=False)\n",
    "y_oneto50 = pd.concat([y_enm, y_oneto50], sort=False)\n",
    "\n",
    "print(X_oneto50.shape)\n",
    "print(y_oneto50.shape)"
   ]
  },
  {
   "cell_type": "code",
   "execution_count": 46,
   "metadata": {
    "ExecuteTime": {
     "end_time": "2019-01-10T18:25:55.829791Z",
     "start_time": "2019-01-10T18:25:55.776475Z"
    }
   },
   "outputs": [
    {
     "data": {
      "text/html": [
       "<div>\n",
       "<style scoped>\n",
       "    .dataframe tbody tr th:only-of-type {\n",
       "        vertical-align: middle;\n",
       "    }\n",
       "\n",
       "    .dataframe tbody tr th {\n",
       "        vertical-align: top;\n",
       "    }\n",
       "\n",
       "    .dataframe thead th {\n",
       "        text-align: right;\n",
       "    }\n",
       "</style>\n",
       "<table border=\"1\" class=\"dataframe\">\n",
       "  <thead>\n",
       "    <tr style=\"text-align: right;\">\n",
       "      <th></th>\n",
       "      <th>propMW</th>\n",
       "      <th>propMP</th>\n",
       "      <th>propBP</th>\n",
       "      <th>propLogDensity</th>\n",
       "      <th>0</th>\n",
       "      <th>1</th>\n",
       "      <th>2</th>\n",
       "      <th>3</th>\n",
       "      <th>4</th>\n",
       "      <th>5</th>\n",
       "      <th>...</th>\n",
       "      <th>group_facialcleansingandmoisturizing</th>\n",
       "      <th>group_fungicide</th>\n",
       "      <th>group_generalhouseholdcleaning</th>\n",
       "      <th>group_generalmoisturizing</th>\n",
       "      <th>group_makeupandrelated</th>\n",
       "      <th>group_paintstainandrelatedproducts</th>\n",
       "      <th>group_sunscreen</th>\n",
       "      <th>group_surfacesealers</th>\n",
       "      <th>refined_spray</th>\n",
       "      <th>matrix_F</th>\n",
       "    </tr>\n",
       "  </thead>\n",
       "  <tbody>\n",
       "    <tr>\n",
       "      <th>80</th>\n",
       "      <td>79.867</td>\n",
       "      <td>1843.0000</td>\n",
       "      <td>2972.00000</td>\n",
       "      <td>0.626340</td>\n",
       "      <td>0.0</td>\n",
       "      <td>0.0</td>\n",
       "      <td>0.0</td>\n",
       "      <td>0.0</td>\n",
       "      <td>0.0</td>\n",
       "      <td>1.0</td>\n",
       "      <td>...</td>\n",
       "      <td>0</td>\n",
       "      <td>0</td>\n",
       "      <td>0</td>\n",
       "      <td>0</td>\n",
       "      <td>0</td>\n",
       "      <td>0</td>\n",
       "      <td>1</td>\n",
       "      <td>0</td>\n",
       "      <td>1</td>\n",
       "      <td>1</td>\n",
       "    </tr>\n",
       "    <tr>\n",
       "      <th>81</th>\n",
       "      <td>107.868</td>\n",
       "      <td>961.7800</td>\n",
       "      <td>2162.00000</td>\n",
       "      <td>1.014730</td>\n",
       "      <td>0.0</td>\n",
       "      <td>0.0</td>\n",
       "      <td>0.0</td>\n",
       "      <td>0.0</td>\n",
       "      <td>0.0</td>\n",
       "      <td>0.0</td>\n",
       "      <td>...</td>\n",
       "      <td>0</td>\n",
       "      <td>0</td>\n",
       "      <td>0</td>\n",
       "      <td>0</td>\n",
       "      <td>0</td>\n",
       "      <td>0</td>\n",
       "      <td>0</td>\n",
       "      <td>0</td>\n",
       "      <td>1</td>\n",
       "      <td>1</td>\n",
       "    </tr>\n",
       "    <tr>\n",
       "      <th>15775</th>\n",
       "      <td>76.095</td>\n",
       "      <td>-31.9957</td>\n",
       "      <td>180.43000</td>\n",
       "      <td>0.004321</td>\n",
       "      <td>0.5</td>\n",
       "      <td>0.0</td>\n",
       "      <td>0.5</td>\n",
       "      <td>0.0</td>\n",
       "      <td>1.0</td>\n",
       "      <td>0.0</td>\n",
       "      <td>...</td>\n",
       "      <td>0</td>\n",
       "      <td>0</td>\n",
       "      <td>0</td>\n",
       "      <td>0</td>\n",
       "      <td>0</td>\n",
       "      <td>0</td>\n",
       "      <td>0</td>\n",
       "      <td>0</td>\n",
       "      <td>0</td>\n",
       "      <td>1</td>\n",
       "    </tr>\n",
       "    <tr>\n",
       "      <th>19154</th>\n",
       "      <td>60.096</td>\n",
       "      <td>-71.4224</td>\n",
       "      <td>86.55995</td>\n",
       "      <td>-0.063989</td>\n",
       "      <td>0.5</td>\n",
       "      <td>0.0</td>\n",
       "      <td>0.0</td>\n",
       "      <td>0.0</td>\n",
       "      <td>0.0</td>\n",
       "      <td>0.0</td>\n",
       "      <td>...</td>\n",
       "      <td>0</td>\n",
       "      <td>0</td>\n",
       "      <td>0</td>\n",
       "      <td>0</td>\n",
       "      <td>0</td>\n",
       "      <td>0</td>\n",
       "      <td>0</td>\n",
       "      <td>0</td>\n",
       "      <td>0</td>\n",
       "      <td>1</td>\n",
       "    </tr>\n",
       "    <tr>\n",
       "      <th>11118</th>\n",
       "      <td>149.590</td>\n",
       "      <td>107.2720</td>\n",
       "      <td>192.77200</td>\n",
       "      <td>0.135133</td>\n",
       "      <td>0.0</td>\n",
       "      <td>0.0</td>\n",
       "      <td>0.0</td>\n",
       "      <td>0.0</td>\n",
       "      <td>0.0</td>\n",
       "      <td>0.0</td>\n",
       "      <td>...</td>\n",
       "      <td>0</td>\n",
       "      <td>0</td>\n",
       "      <td>0</td>\n",
       "      <td>0</td>\n",
       "      <td>0</td>\n",
       "      <td>0</td>\n",
       "      <td>0</td>\n",
       "      <td>0</td>\n",
       "      <td>0</td>\n",
       "      <td>1</td>\n",
       "    </tr>\n",
       "  </tbody>\n",
       "</table>\n",
       "<p>5 rows × 39 columns</p>\n",
       "</div>"
      ],
      "text/plain": [
       "        propMW     propMP      propBP  propLogDensity    0    1    2    3  \\\n",
       "80      79.867  1843.0000  2972.00000        0.626340  0.0  0.0  0.0  0.0   \n",
       "81     107.868   961.7800  2162.00000        1.014730  0.0  0.0  0.0  0.0   \n",
       "15775   76.095   -31.9957   180.43000        0.004321  0.5  0.0  0.5  0.0   \n",
       "19154   60.096   -71.4224    86.55995       -0.063989  0.5  0.0  0.0  0.0   \n",
       "11118  149.590   107.2720   192.77200        0.135133  0.0  0.0  0.0  0.0   \n",
       "\n",
       "         4    5    ...     group_facialcleansingandmoisturizing  \\\n",
       "80     0.0  1.0    ...                                        0   \n",
       "81     0.0  0.0    ...                                        0   \n",
       "15775  1.0  0.0    ...                                        0   \n",
       "19154  0.0  0.0    ...                                        0   \n",
       "11118  0.0  0.0    ...                                        0   \n",
       "\n",
       "       group_fungicide  group_generalhouseholdcleaning  \\\n",
       "80                   0                               0   \n",
       "81                   0                               0   \n",
       "15775                0                               0   \n",
       "19154                0                               0   \n",
       "11118                0                               0   \n",
       "\n",
       "       group_generalmoisturizing  group_makeupandrelated  \\\n",
       "80                             0                       0   \n",
       "81                             0                       0   \n",
       "15775                          0                       0   \n",
       "19154                          0                       0   \n",
       "11118                          0                       0   \n",
       "\n",
       "       group_paintstainandrelatedproducts  group_sunscreen  \\\n",
       "80                                      0                1   \n",
       "81                                      0                0   \n",
       "15775                                   0                0   \n",
       "19154                                   0                0   \n",
       "11118                                   0                0   \n",
       "\n",
       "       group_surfacesealers  refined_spray  matrix_F  \n",
       "80                        0              1         1  \n",
       "81                        0              1         1  \n",
       "15775                     0              0         1  \n",
       "19154                     0              0         1  \n",
       "11118                     0              0         1  \n",
       "\n",
       "[5 rows x 39 columns]"
      ]
     },
     "execution_count": 46,
     "metadata": {},
     "output_type": "execute_result"
    }
   ],
   "source": [
    "X_oneto50.iloc[80:85,:]"
   ]
  },
  {
   "cell_type": "code",
   "execution_count": 47,
   "metadata": {
    "ExecuteTime": {
     "end_time": "2019-01-10T18:25:56.974014Z",
     "start_time": "2019-01-10T18:25:56.938933Z"
    }
   },
   "outputs": [
    {
     "data": {
      "text/html": [
       "<div>\n",
       "<style scoped>\n",
       "    .dataframe tbody tr th:only-of-type {\n",
       "        vertical-align: middle;\n",
       "    }\n",
       "\n",
       "    .dataframe tbody tr th {\n",
       "        vertical-align: top;\n",
       "    }\n",
       "\n",
       "    .dataframe thead th {\n",
       "        text-align: right;\n",
       "    }\n",
       "</style>\n",
       "<table border=\"1\" class=\"dataframe\">\n",
       "  <thead>\n",
       "    <tr style=\"text-align: right;\">\n",
       "      <th></th>\n",
       "      <th>maximum_weight_fraction</th>\n",
       "    </tr>\n",
       "  </thead>\n",
       "  <tbody>\n",
       "    <tr>\n",
       "      <th>80</th>\n",
       "      <td>0.000667</td>\n",
       "    </tr>\n",
       "    <tr>\n",
       "      <th>81</th>\n",
       "      <td>0.000800</td>\n",
       "    </tr>\n",
       "    <tr>\n",
       "      <th>15775</th>\n",
       "      <td>0.150000</td>\n",
       "    </tr>\n",
       "    <tr>\n",
       "      <th>19154</th>\n",
       "      <td>0.150000</td>\n",
       "    </tr>\n",
       "    <tr>\n",
       "      <th>11118</th>\n",
       "      <td>0.090000</td>\n",
       "    </tr>\n",
       "  </tbody>\n",
       "</table>\n",
       "</div>"
      ],
      "text/plain": [
       "       maximum_weight_fraction\n",
       "80                    0.000667\n",
       "81                    0.000800\n",
       "15775                 0.150000\n",
       "19154                 0.150000\n",
       "11118                 0.090000"
      ]
     },
     "execution_count": 47,
     "metadata": {},
     "output_type": "execute_result"
    }
   ],
   "source": [
    "y_oneto50.iloc[80:85,:]"
   ]
  },
  {
   "cell_type": "markdown",
   "metadata": {
    "ExecuteTime": {
     "end_time": "2018-12-14T18:14:35.272027Z",
     "start_time": "2018-12-14T18:14:35.264956Z"
    }
   },
   "source": [
    "### 1:20 ENM-organics data"
   ]
  },
  {
   "cell_type": "code",
   "execution_count": 49,
   "metadata": {
    "ExecuteTime": {
     "end_time": "2019-01-10T18:29:33.546369Z",
     "start_time": "2019-01-10T18:29:33.509046Z"
    }
   },
   "outputs": [
    {
     "name": "stdout",
     "output_type": "stream",
     "text": [
      "(1640, 39)\n",
      "(1640, 1)\n"
     ]
    }
   ],
   "source": [
    "# Randomly sample 10% of organics data\n",
    "X_oneto20 = X_oneto50.iloc[82:,:].sample(n=1640, replace=False, random_state=38, axis=0)\n",
    "y_oneto20 = y_oneto50.iloc[82:,:].sample(n=1640, replace=False, random_state=38, axis=0)\n",
    "\n",
    "print(X_oneto20.shape)\n",
    "print(y_oneto20.shape)"
   ]
  },
  {
   "cell_type": "code",
   "execution_count": 50,
   "metadata": {
    "ExecuteTime": {
     "end_time": "2019-01-10T18:29:36.132716Z",
     "start_time": "2019-01-10T18:29:36.110118Z"
    }
   },
   "outputs": [
    {
     "name": "stdout",
     "output_type": "stream",
     "text": [
      "(1722, 39)\n",
      "(1722, 1)\n"
     ]
    }
   ],
   "source": [
    "# Append sampled organics data to ENM data\n",
    "X_oneto20 = pd.concat([X_enm, X_oneto20], sort=False)\n",
    "y_oneto20 = pd.concat([y_enm, y_oneto20], sort=False)\n",
    "\n",
    "print(X_oneto20.shape)\n",
    "print(y_oneto20.shape)"
   ]
  },
  {
   "cell_type": "code",
   "execution_count": 51,
   "metadata": {
    "ExecuteTime": {
     "end_time": "2019-01-10T18:30:04.214505Z",
     "start_time": "2019-01-10T18:30:04.167551Z"
    }
   },
   "outputs": [
    {
     "data": {
      "text/html": [
       "<div>\n",
       "<style scoped>\n",
       "    .dataframe tbody tr th:only-of-type {\n",
       "        vertical-align: middle;\n",
       "    }\n",
       "\n",
       "    .dataframe tbody tr th {\n",
       "        vertical-align: top;\n",
       "    }\n",
       "\n",
       "    .dataframe thead th {\n",
       "        text-align: right;\n",
       "    }\n",
       "</style>\n",
       "<table border=\"1\" class=\"dataframe\">\n",
       "  <thead>\n",
       "    <tr style=\"text-align: right;\">\n",
       "      <th></th>\n",
       "      <th>propMW</th>\n",
       "      <th>propMP</th>\n",
       "      <th>propBP</th>\n",
       "      <th>propLogDensity</th>\n",
       "      <th>0</th>\n",
       "      <th>1</th>\n",
       "      <th>2</th>\n",
       "      <th>3</th>\n",
       "      <th>4</th>\n",
       "      <th>5</th>\n",
       "      <th>...</th>\n",
       "      <th>group_facialcleansingandmoisturizing</th>\n",
       "      <th>group_fungicide</th>\n",
       "      <th>group_generalhouseholdcleaning</th>\n",
       "      <th>group_generalmoisturizing</th>\n",
       "      <th>group_makeupandrelated</th>\n",
       "      <th>group_paintstainandrelatedproducts</th>\n",
       "      <th>group_sunscreen</th>\n",
       "      <th>group_surfacesealers</th>\n",
       "      <th>refined_spray</th>\n",
       "      <th>matrix_F</th>\n",
       "    </tr>\n",
       "  </thead>\n",
       "  <tbody>\n",
       "    <tr>\n",
       "      <th>80</th>\n",
       "      <td>79.867</td>\n",
       "      <td>1843.0000</td>\n",
       "      <td>2972.000000</td>\n",
       "      <td>0.626340</td>\n",
       "      <td>0.0</td>\n",
       "      <td>0.0</td>\n",
       "      <td>0.0</td>\n",
       "      <td>0.0</td>\n",
       "      <td>0.0</td>\n",
       "      <td>1.0</td>\n",
       "      <td>...</td>\n",
       "      <td>0</td>\n",
       "      <td>0</td>\n",
       "      <td>0</td>\n",
       "      <td>0</td>\n",
       "      <td>0</td>\n",
       "      <td>0</td>\n",
       "      <td>1</td>\n",
       "      <td>0</td>\n",
       "      <td>1</td>\n",
       "      <td>1</td>\n",
       "    </tr>\n",
       "    <tr>\n",
       "      <th>81</th>\n",
       "      <td>107.868</td>\n",
       "      <td>961.7800</td>\n",
       "      <td>2162.000000</td>\n",
       "      <td>1.014730</td>\n",
       "      <td>0.0</td>\n",
       "      <td>0.0</td>\n",
       "      <td>0.0</td>\n",
       "      <td>0.0</td>\n",
       "      <td>0.0</td>\n",
       "      <td>0.0</td>\n",
       "      <td>...</td>\n",
       "      <td>0</td>\n",
       "      <td>0</td>\n",
       "      <td>0</td>\n",
       "      <td>0</td>\n",
       "      <td>0</td>\n",
       "      <td>0</td>\n",
       "      <td>0</td>\n",
       "      <td>0</td>\n",
       "      <td>1</td>\n",
       "      <td>1</td>\n",
       "    </tr>\n",
       "    <tr>\n",
       "      <th>9788</th>\n",
       "      <td>229.408</td>\n",
       "      <td>88.1400</td>\n",
       "      <td>244.263000</td>\n",
       "      <td>0.070813</td>\n",
       "      <td>0.5</td>\n",
       "      <td>0.0</td>\n",
       "      <td>0.5</td>\n",
       "      <td>0.0</td>\n",
       "      <td>0.0</td>\n",
       "      <td>0.0</td>\n",
       "      <td>...</td>\n",
       "      <td>0</td>\n",
       "      <td>0</td>\n",
       "      <td>0</td>\n",
       "      <td>0</td>\n",
       "      <td>0</td>\n",
       "      <td>0</td>\n",
       "      <td>0</td>\n",
       "      <td>0</td>\n",
       "      <td>1</td>\n",
       "      <td>1</td>\n",
       "    </tr>\n",
       "    <tr>\n",
       "      <th>1688</th>\n",
       "      <td>62.068</td>\n",
       "      <td>-8.4879</td>\n",
       "      <td>172.860500</td>\n",
       "      <td>0.013259</td>\n",
       "      <td>0.5</td>\n",
       "      <td>0.0</td>\n",
       "      <td>0.5</td>\n",
       "      <td>0.0</td>\n",
       "      <td>0.0</td>\n",
       "      <td>0.0</td>\n",
       "      <td>...</td>\n",
       "      <td>0</td>\n",
       "      <td>0</td>\n",
       "      <td>0</td>\n",
       "      <td>0</td>\n",
       "      <td>0</td>\n",
       "      <td>1</td>\n",
       "      <td>0</td>\n",
       "      <td>0</td>\n",
       "      <td>0</td>\n",
       "      <td>1</td>\n",
       "    </tr>\n",
       "    <tr>\n",
       "      <th>22422</th>\n",
       "      <td>58.124</td>\n",
       "      <td>-122.0195</td>\n",
       "      <td>-0.131515</td>\n",
       "      <td>-0.159267</td>\n",
       "      <td>0.0</td>\n",
       "      <td>0.0</td>\n",
       "      <td>0.0</td>\n",
       "      <td>0.0</td>\n",
       "      <td>0.0</td>\n",
       "      <td>0.0</td>\n",
       "      <td>...</td>\n",
       "      <td>0</td>\n",
       "      <td>0</td>\n",
       "      <td>0</td>\n",
       "      <td>0</td>\n",
       "      <td>0</td>\n",
       "      <td>0</td>\n",
       "      <td>0</td>\n",
       "      <td>0</td>\n",
       "      <td>0</td>\n",
       "      <td>1</td>\n",
       "    </tr>\n",
       "  </tbody>\n",
       "</table>\n",
       "<p>5 rows × 39 columns</p>\n",
       "</div>"
      ],
      "text/plain": [
       "        propMW     propMP       propBP  propLogDensity    0    1    2    3  \\\n",
       "80      79.867  1843.0000  2972.000000        0.626340  0.0  0.0  0.0  0.0   \n",
       "81     107.868   961.7800  2162.000000        1.014730  0.0  0.0  0.0  0.0   \n",
       "9788   229.408    88.1400   244.263000        0.070813  0.5  0.0  0.5  0.0   \n",
       "1688    62.068    -8.4879   172.860500        0.013259  0.5  0.0  0.5  0.0   \n",
       "22422   58.124  -122.0195    -0.131515       -0.159267  0.0  0.0  0.0  0.0   \n",
       "\n",
       "         4    5    ...     group_facialcleansingandmoisturizing  \\\n",
       "80     0.0  1.0    ...                                        0   \n",
       "81     0.0  0.0    ...                                        0   \n",
       "9788   0.0  0.0    ...                                        0   \n",
       "1688   0.0  0.0    ...                                        0   \n",
       "22422  0.0  0.0    ...                                        0   \n",
       "\n",
       "       group_fungicide  group_generalhouseholdcleaning  \\\n",
       "80                   0                               0   \n",
       "81                   0                               0   \n",
       "9788                 0                               0   \n",
       "1688                 0                               0   \n",
       "22422                0                               0   \n",
       "\n",
       "       group_generalmoisturizing  group_makeupandrelated  \\\n",
       "80                             0                       0   \n",
       "81                             0                       0   \n",
       "9788                           0                       0   \n",
       "1688                           0                       0   \n",
       "22422                          0                       0   \n",
       "\n",
       "       group_paintstainandrelatedproducts  group_sunscreen  \\\n",
       "80                                      0                1   \n",
       "81                                      0                0   \n",
       "9788                                    0                0   \n",
       "1688                                    1                0   \n",
       "22422                                   0                0   \n",
       "\n",
       "       group_surfacesealers  refined_spray  matrix_F  \n",
       "80                        0              1         1  \n",
       "81                        0              1         1  \n",
       "9788                      0              1         1  \n",
       "1688                      0              0         1  \n",
       "22422                     0              0         1  \n",
       "\n",
       "[5 rows x 39 columns]"
      ]
     },
     "execution_count": 51,
     "metadata": {},
     "output_type": "execute_result"
    }
   ],
   "source": [
    "X_oneto20.iloc[80:85,:]"
   ]
  },
  {
   "cell_type": "code",
   "execution_count": 52,
   "metadata": {
    "ExecuteTime": {
     "end_time": "2019-01-10T18:30:06.967561Z",
     "start_time": "2019-01-10T18:30:06.934893Z"
    }
   },
   "outputs": [
    {
     "data": {
      "text/html": [
       "<div>\n",
       "<style scoped>\n",
       "    .dataframe tbody tr th:only-of-type {\n",
       "        vertical-align: middle;\n",
       "    }\n",
       "\n",
       "    .dataframe tbody tr th {\n",
       "        vertical-align: top;\n",
       "    }\n",
       "\n",
       "    .dataframe thead th {\n",
       "        text-align: right;\n",
       "    }\n",
       "</style>\n",
       "<table border=\"1\" class=\"dataframe\">\n",
       "  <thead>\n",
       "    <tr style=\"text-align: right;\">\n",
       "      <th></th>\n",
       "      <th>maximum_weight_fraction</th>\n",
       "    </tr>\n",
       "  </thead>\n",
       "  <tbody>\n",
       "    <tr>\n",
       "      <th>80</th>\n",
       "      <td>0.000667</td>\n",
       "    </tr>\n",
       "    <tr>\n",
       "      <th>81</th>\n",
       "      <td>0.000800</td>\n",
       "    </tr>\n",
       "    <tr>\n",
       "      <th>9788</th>\n",
       "      <td>0.050000</td>\n",
       "    </tr>\n",
       "    <tr>\n",
       "      <th>1688</th>\n",
       "      <td>0.050000</td>\n",
       "    </tr>\n",
       "    <tr>\n",
       "      <th>22422</th>\n",
       "      <td>0.980000</td>\n",
       "    </tr>\n",
       "  </tbody>\n",
       "</table>\n",
       "</div>"
      ],
      "text/plain": [
       "       maximum_weight_fraction\n",
       "80                    0.000667\n",
       "81                    0.000800\n",
       "9788                  0.050000\n",
       "1688                  0.050000\n",
       "22422                 0.980000"
      ]
     },
     "execution_count": 52,
     "metadata": {},
     "output_type": "execute_result"
    }
   ],
   "source": [
    "y_oneto20.iloc[80:85,:]"
   ]
  },
  {
   "cell_type": "markdown",
   "metadata": {},
   "source": [
    "### 1:10 ENM-organics data"
   ]
  },
  {
   "cell_type": "code",
   "execution_count": 55,
   "metadata": {
    "ExecuteTime": {
     "end_time": "2019-01-10T18:32:47.937766Z",
     "start_time": "2019-01-10T18:32:47.915855Z"
    }
   },
   "outputs": [
    {
     "name": "stdout",
     "output_type": "stream",
     "text": [
      "(820, 39)\n",
      "(820, 1)\n"
     ]
    }
   ],
   "source": [
    "# Randomly sample 5% of organics data\n",
    "X_oneto10 = X_oneto20.iloc[82:,:].sample(n=820, replace=False, random_state=38, axis=0)\n",
    "y_oneto10 = y_oneto20.iloc[82:,:].sample(n=820, replace=False, random_state=38, axis=0)\n",
    "\n",
    "print(X_oneto10.shape)\n",
    "print(y_oneto10.shape)"
   ]
  },
  {
   "cell_type": "code",
   "execution_count": 56,
   "metadata": {
    "ExecuteTime": {
     "end_time": "2019-01-10T18:32:48.840968Z",
     "start_time": "2019-01-10T18:32:48.801021Z"
    }
   },
   "outputs": [
    {
     "name": "stdout",
     "output_type": "stream",
     "text": [
      "(902, 39)\n",
      "(902, 1)\n"
     ]
    }
   ],
   "source": [
    "# Append sampled organics data to ENM data\n",
    "X_oneto10 = pd.concat([X_enm, X_oneto10], sort=False)\n",
    "y_oneto10 = pd.concat([y_enm, y_oneto10], sort=False)\n",
    "\n",
    "print(X_oneto10.shape)\n",
    "print(y_oneto10.shape)"
   ]
  },
  {
   "cell_type": "markdown",
   "metadata": {},
   "source": [
    "### 1:4 ENM-organics data"
   ]
  },
  {
   "cell_type": "code",
   "execution_count": 62,
   "metadata": {
    "ExecuteTime": {
     "end_time": "2019-01-10T18:36:12.241084Z",
     "start_time": "2019-01-10T18:36:12.201766Z"
    }
   },
   "outputs": [
    {
     "name": "stdout",
     "output_type": "stream",
     "text": [
      "(328, 39)\n",
      "(328, 1)\n"
     ]
    }
   ],
   "source": [
    "# Randomly sample 2% of organics data\n",
    "X_oneto4 = X_oneto10.iloc[82:,:].sample(n=328, replace=False, random_state=38, axis=0)\n",
    "y_oneto4 = y_oneto10.iloc[82:,:].sample(n=328, replace=False, random_state=38, axis=0)\n",
    "\n",
    "print(X_oneto4.shape)\n",
    "print(y_oneto4.shape)"
   ]
  },
  {
   "cell_type": "code",
   "execution_count": 63,
   "metadata": {
    "ExecuteTime": {
     "end_time": "2019-01-10T18:36:12.819203Z",
     "start_time": "2019-01-10T18:36:12.806916Z"
    }
   },
   "outputs": [
    {
     "name": "stdout",
     "output_type": "stream",
     "text": [
      "(410, 39)\n",
      "(410, 1)\n"
     ]
    }
   ],
   "source": [
    "# Append sampled organics data to ENM data\n",
    "X_oneto4 = pd.concat([X_enm, X_oneto4], sort=False)\n",
    "y_oneto4 = pd.concat([y_enm, y_oneto4], sort=False)\n",
    "\n",
    "print(X_oneto4.shape)\n",
    "print(y_oneto4.shape)"
   ]
  },
  {
   "cell_type": "markdown",
   "metadata": {},
   "source": [
    "### 1:2 ENM-organics data"
   ]
  },
  {
   "cell_type": "code",
   "execution_count": 64,
   "metadata": {
    "ExecuteTime": {
     "end_time": "2019-01-10T18:36:14.261140Z",
     "start_time": "2019-01-10T18:36:14.240663Z"
    }
   },
   "outputs": [
    {
     "name": "stdout",
     "output_type": "stream",
     "text": [
      "(164, 39)\n",
      "(164, 1)\n"
     ]
    }
   ],
   "source": [
    "# Randomly sample 1% of organics data\n",
    "X_oneto2 = X_oneto10.iloc[82:,:].sample(n=164, replace=False, random_state=38, axis=0)\n",
    "y_oneto2 = y_oneto10.iloc[82:,:].sample(n=164, replace=False, random_state=38, axis=0)\n",
    "\n",
    "print(X_oneto2.shape)\n",
    "print(y_oneto2.shape)"
   ]
  },
  {
   "cell_type": "code",
   "execution_count": 65,
   "metadata": {
    "ExecuteTime": {
     "end_time": "2019-01-10T18:36:15.201834Z",
     "start_time": "2019-01-10T18:36:15.183672Z"
    }
   },
   "outputs": [
    {
     "name": "stdout",
     "output_type": "stream",
     "text": [
      "(246, 39)\n",
      "(246, 1)\n"
     ]
    }
   ],
   "source": [
    "# Append sampled organics data to ENM data\n",
    "X_oneto2 = pd.concat([X_enm, X_oneto2], sort=False)\n",
    "y_oneto2 = pd.concat([y_enm, y_oneto2], sort=False)\n",
    "\n",
    "print(X_oneto2.shape)\n",
    "print(y_oneto2.shape)"
   ]
  },
  {
   "cell_type": "markdown",
   "metadata": {},
   "source": [
    "### Apply WF bins"
   ]
  },
  {
   "cell_type": "code",
   "execution_count": 92,
   "metadata": {
    "ExecuteTime": {
     "end_time": "2019-01-10T19:37:31.071573Z",
     "start_time": "2019-01-10T19:37:31.051467Z"
    },
    "collapsed": true
   },
   "outputs": [],
   "source": [
    "# Define function to assign weight fractions to bins \n",
    "# (different from those used by Isaacs et al. 2016)\n",
    "def bins(row):\n",
    "    if row['maximum_weight_fraction'] <= 0.002:\n",
    "        val = 'bottom'\n",
    "    elif row['maximum_weight_fraction'] > 0.05:\n",
    "        val = 'top'\n",
    "    else:\n",
    "        val = 'middle'\n",
    "    return val"
   ]
  },
  {
   "cell_type": "code",
   "execution_count": 93,
   "metadata": {
    "ExecuteTime": {
     "end_time": "2019-01-10T19:37:32.098998Z",
     "start_time": "2019-01-10T19:37:31.906922Z"
    }
   },
   "outputs": [
    {
     "data": {
      "text/plain": [
       "Text(0.5,1,'Frequency of ENM Weight Fraction Bins')"
      ]
     },
     "execution_count": 93,
     "metadata": {},
     "output_type": "execute_result"
    },
    {
     "data": {
      "image/png": "[encoded data removed]",
      "text/plain": [
       "<Figure size 432x288 with 1 Axes>"
      ]
     },
     "metadata": {},
     "output_type": "display_data"
    }
   ],
   "source": [
    "# Apply bins to ENM labels\n",
    "bin_enm = y_enm.apply(bins, axis=1)\n",
    "# View histogram of bins\n",
    "bin_enm.value_counts().plot(kind='bar')\n",
    "plt.title('Frequency of ENM Weight Fraction Bins')"
   ]
  },
  {
   "cell_type": "code",
   "execution_count": 94,
   "metadata": {
    "ExecuteTime": {
     "end_time": "2019-01-10T19:37:32.354422Z",
     "start_time": "2019-01-10T19:37:32.332832Z"
    },
    "collapsed": true
   },
   "outputs": [],
   "source": [
    "# Use label encoder to make bins compatible with Scikit-Learn\n",
    "from sklearn import preprocessing\n",
    "le = preprocessing.LabelEncoder()\n",
    "\n",
    "# Fit the encoder and transform categories into integers\n",
    "bin_enm = le.fit_transform(bin_enm)"
   ]
  },
  {
   "cell_type": "markdown",
   "metadata": {},
   "source": [
    "Do the same for the organics WF data."
   ]
  },
  {
   "cell_type": "code",
   "execution_count": 95,
   "metadata": {
    "ExecuteTime": {
     "end_time": "2019-01-10T19:37:33.728433Z",
     "start_time": "2019-01-10T19:37:33.239265Z"
    }
   },
   "outputs": [
    {
     "data": {
      "text/plain": [
       "Text(0.5,1,'Frequency of Organics Weight Fraction Bins')"
      ]
     },
     "execution_count": 95,
     "metadata": {},
     "output_type": "execute_result"
    },
    {
     "data": {
      "image/png": "[encoded data removed]",
      "text/plain": [
       "<Figure size 432x288 with 1 Axes>"
      ]
     },
     "metadata": {},
     "output_type": "display_data"
    }
   ],
   "source": [
    "# Apply bins, label encoder to organics labels\n",
    "bin_source = y_source.apply(bins, axis=1)\n",
    "# View histogram of bins\n",
    "bin_source.value_counts().plot(kind='bar')\n",
    "plt.title('Frequency of Organics Weight Fraction Bins')"
   ]
  },
  {
   "cell_type": "code",
   "execution_count": 96,
   "metadata": {
    "ExecuteTime": {
     "end_time": "2019-01-10T19:37:34.166695Z",
     "start_time": "2019-01-10T19:37:33.740091Z"
    }
   },
   "outputs": [
    {
     "name": "stdout",
     "output_type": "stream",
     "text": [
      "(16354,)\n",
      "<class 'numpy.ndarray'>\n"
     ]
    }
   ],
   "source": [
    "# Apply bins, label encoder to source WF data\n",
    "bin_source = y_source.apply(bins, axis=1)\n",
    "bin_source = le.fit_transform(bin_source)\n",
    "\n",
    "print(bin_source.shape)\n",
    "print(type(bin_source))"
   ]
  },
  {
   "cell_type": "markdown",
   "metadata": {},
   "source": [
    "Do the same for the ENM:organics WF dfs."
   ]
  },
  {
   "cell_type": "code",
   "execution_count": 98,
   "metadata": {
    "ExecuteTime": {
     "end_time": "2019-01-10T19:39:18.010422Z",
     "start_time": "2019-01-10T19:39:17.207446Z"
    }
   },
   "outputs": [
    {
     "name": "stdout",
     "output_type": "stream",
     "text": [
      "(16436,)\n",
      "(8282,)\n",
      "(4182,)\n",
      "(1722,)\n",
      "(902,)\n",
      "(410,)\n",
      "(246,)\n"
     ]
    }
   ],
   "source": [
    "# Apply bins, label encoder to all other WF data frames\n",
    "\n",
    "# bin_all\n",
    "bin_all = y_all.apply(bins, axis=1)\n",
    "bin_all = le.fit_transform(bin_all)\n",
    "#bin_all = bin_all.values.ravel()\n",
    "print(bin_all.shape)\n",
    "\n",
    "# bin_oneto100\n",
    "bin_oneto100 = y_oneto100.apply(bins, axis=1)\n",
    "bin_oneto100 = le.fit_transform(bin_oneto100)\n",
    "#bin_oneto100 = bin_oneto100.values.ravel()\n",
    "print(bin_oneto100.shape)\n",
    "\n",
    "# bin_oneto50\n",
    "bin_oneto50 = y_oneto50.apply(bins, axis=1)\n",
    "bin_oneto50 = le.fit_transform(bin_oneto50)\n",
    "#bin_oneto50 = bin_oneto50.values.ravel()\n",
    "print(bin_oneto50.shape)\n",
    "\n",
    "# bin_oneto20\n",
    "bin_oneto20 = y_oneto20.apply(bins, axis=1)\n",
    "bin_oneto20 = le.fit_transform(bin_oneto20)\n",
    "#bin_oneto20 = bin_oneto20.values.ravel()\n",
    "print(bin_oneto20.shape)\n",
    "\n",
    "# bin_oneto10\n",
    "bin_oneto10 = y_oneto10.apply(bins, axis=1)\n",
    "bin_oneto10 = le.fit_transform(bin_oneto10)\n",
    "#bin_oneto10 = bin_oneto10.values.ravel()\n",
    "print(bin_oneto10.shape)\n",
    "\n",
    "# bin_oneto4\n",
    "bin_oneto4 = y_oneto4.apply(bins, axis=1)\n",
    "bin_oneto4 = le.fit_transform(bin_oneto4)\n",
    "#bin_oneto4 = bin_oneto4.values.ravel()\n",
    "print(bin_oneto4.shape)\n",
    "\n",
    "# bin_oneto2\n",
    "bin_oneto2 = y_oneto2.apply(bins, axis=1)\n",
    "bin_oneto2 = le.fit_transform(bin_oneto2)\n",
    "#bin_oneto2 = bin_oneto2.values.ravel()\n",
    "print(bin_oneto2.shape)"
   ]
  },
  {
   "cell_type": "code",
   "execution_count": 100,
   "metadata": {
    "ExecuteTime": {
     "end_time": "2019-01-10T19:39:48.246870Z",
     "start_time": "2019-01-10T19:39:48.215184Z"
    }
   },
   "outputs": [
    {
     "data": {
      "text/plain": [
       "{0: 1096, 1: 4776, 2: 2410}"
      ]
     },
     "execution_count": 100,
     "metadata": {},
     "output_type": "execute_result"
    }
   ],
   "source": [
    "# Check distribution across WF bins\n",
    "unique, counts = np.unique(bin_oneto100, return_counts=True)\n",
    "dict(zip(unique, counts))"
   ]
  },
  {
   "cell_type": "markdown",
   "metadata": {},
   "source": [
    "### Matching 1:20 ENM-organics"
   ]
  },
  {
   "cell_type": "markdown",
   "metadata": {},
   "source": [
    "Instead of randomly selecting organics \"tuples\" to use for augmentation, the _kth_ closest tuples to each ENM tuple were selected based on cosine distance, or _1 - cosine similarity_."
   ]
  },
  {
   "cell_type": "markdown",
   "metadata": {},
   "source": [
    "* https://stackoverflow.com/questions/34226400/find-the-index-of-the-k-smallest-values-of-a-numpy-array\n",
    "* https://stackoverflow.com/questions/22117834/how-do-i-return-a-list-of-the-3-lowest-values-in-another-list\n",
    "* http://dataaspirant.com/2015/04/11/five-most-popular-similarity-measures-implementation-in-python/\n",
    "* https://scikit-learn.org/stable/modules/generated/sklearn.metrics.pairwise.cosine_distances.html"
   ]
  },
  {
   "cell_type": "code",
   "execution_count": 225,
   "metadata": {
    "ExecuteTime": {
     "end_time": "2019-01-17T17:07:21.979261Z",
     "start_time": "2019-01-17T17:07:21.872563Z"
    },
    "collapsed": true
   },
   "outputs": [],
   "source": [
    "# Scale/normalize data for computing distance\n",
    "from sklearn.preprocessing import MinMaxScaler\n",
    "\n",
    "scaler = MinMaxScaler(feature_range=(0, 1))\n",
    "X_enm_scaled = pd.DataFrame(scaler.fit_transform(X_enm), \n",
    "                            columns = X_enm.columns, \n",
    "                            index = X_enm.index)\n",
    "X_source_scaled = pd.DataFrame(scaler.fit_transform(X_source),\n",
    "                             columns = X_source.columns,\n",
    "                             index = X_source.index)"
   ]
  },
  {
   "cell_type": "code",
   "execution_count": 226,
   "metadata": {
    "ExecuteTime": {
     "end_time": "2019-01-17T17:07:23.902307Z",
     "start_time": "2019-01-17T17:07:23.849632Z"
    }
   },
   "outputs": [
    {
     "name": "stdout",
     "output_type": "stream",
     "text": [
      "(16354, 82)\n"
     ]
    }
   ],
   "source": [
    "# Cosine similarity computes the L2-normalized dot product of vectors\n",
    "# Cosine distance = 1 - cosine similarity\n",
    "from sklearn.metrics.pairwise import cosine_distances\n",
    "\n",
    "cosdist = cosine_distances(X = X_source_scaled, \n",
    "                    Y = X_enm_scaled)\n",
    "print(cosdist.shape)"
   ]
  },
  {
   "cell_type": "code",
   "execution_count": 227,
   "metadata": {
    "ExecuteTime": {
     "end_time": "2019-01-17T17:07:35.399247Z",
     "start_time": "2019-01-17T17:07:35.347620Z"
    },
    "collapsed": true
   },
   "outputs": [],
   "source": [
    "# Write loop to match most similar organics examples \n",
    "# to ENM examples based on smallest cosine distance\n",
    "\n",
    "# Set number of matches to return\n",
    "k = 20\n",
    "\n",
    "# Define function to get indices of k smallest distances\n",
    "def smallest(X, k): \n",
    "    matches = np.argpartition(X, k-1)[:k]\n",
    "    return matches\n",
    "\n",
    "# Loop over cosdist \"matrix\" to return list of matching organics indices\n",
    "idx_match = []\n",
    "dist_match = []\n",
    "for col in cosdist.T:\n",
    "    # Find indices of k-smallest distances\n",
    "    matches = smallest(col,k)\n",
    "    idx_match.extend(matches)\n",
    "    dist_match.extend(col[matches])"
   ]
  },
  {
   "cell_type": "code",
   "execution_count": 230,
   "metadata": {
    "ExecuteTime": {
     "end_time": "2019-01-17T17:09:15.256004Z",
     "start_time": "2019-01-17T17:09:15.229257Z"
    }
   },
   "outputs": [
    {
     "data": {
      "text/html": [
       "<div>\n",
       "<style scoped>\n",
       "    .dataframe tbody tr th:only-of-type {\n",
       "        vertical-align: middle;\n",
       "    }\n",
       "\n",
       "    .dataframe tbody tr th {\n",
       "        vertical-align: top;\n",
       "    }\n",
       "\n",
       "    .dataframe thead th {\n",
       "        text-align: right;\n",
       "    }\n",
       "</style>\n",
       "<table border=\"1\" class=\"dataframe\">\n",
       "  <thead>\n",
       "    <tr style=\"text-align: right;\">\n",
       "      <th></th>\n",
       "      <th>organic_idx</th>\n",
       "      <th>cosdist</th>\n",
       "    </tr>\n",
       "  </thead>\n",
       "  <tbody>\n",
       "    <tr>\n",
       "      <th>0</th>\n",
       "      <td>11243</td>\n",
       "      <td>0.266205</td>\n",
       "    </tr>\n",
       "    <tr>\n",
       "      <th>1</th>\n",
       "      <td>56</td>\n",
       "      <td>0.292110</td>\n",
       "    </tr>\n",
       "    <tr>\n",
       "      <th>2</th>\n",
       "      <td>39</td>\n",
       "      <td>0.292110</td>\n",
       "    </tr>\n",
       "    <tr>\n",
       "      <th>3</th>\n",
       "      <td>15327</td>\n",
       "      <td>0.280466</td>\n",
       "    </tr>\n",
       "    <tr>\n",
       "      <th>4</th>\n",
       "      <td>15326</td>\n",
       "      <td>0.280466</td>\n",
       "    </tr>\n",
       "    <tr>\n",
       "      <th>5</th>\n",
       "      <td>15322</td>\n",
       "      <td>0.190294</td>\n",
       "    </tr>\n",
       "    <tr>\n",
       "      <th>6</th>\n",
       "      <td>15321</td>\n",
       "      <td>0.280466</td>\n",
       "    </tr>\n",
       "    <tr>\n",
       "      <th>7</th>\n",
       "      <td>15320</td>\n",
       "      <td>0.280466</td>\n",
       "    </tr>\n",
       "    <tr>\n",
       "      <th>8</th>\n",
       "      <td>15318</td>\n",
       "      <td>0.280466</td>\n",
       "    </tr>\n",
       "    <tr>\n",
       "      <th>9</th>\n",
       "      <td>15315</td>\n",
       "      <td>0.190294</td>\n",
       "    </tr>\n",
       "    <tr>\n",
       "      <th>10</th>\n",
       "      <td>153</td>\n",
       "      <td>0.292110</td>\n",
       "    </tr>\n",
       "    <tr>\n",
       "      <th>11</th>\n",
       "      <td>53</td>\n",
       "      <td>0.292110</td>\n",
       "    </tr>\n",
       "    <tr>\n",
       "      <th>12</th>\n",
       "      <td>28</td>\n",
       "      <td>0.292110</td>\n",
       "    </tr>\n",
       "    <tr>\n",
       "      <th>13</th>\n",
       "      <td>99</td>\n",
       "      <td>0.292110</td>\n",
       "    </tr>\n",
       "    <tr>\n",
       "      <th>14</th>\n",
       "      <td>67</td>\n",
       "      <td>0.292110</td>\n",
       "    </tr>\n",
       "    <tr>\n",
       "      <th>15</th>\n",
       "      <td>96</td>\n",
       "      <td>0.292110</td>\n",
       "    </tr>\n",
       "    <tr>\n",
       "      <th>16</th>\n",
       "      <td>70</td>\n",
       "      <td>0.292110</td>\n",
       "    </tr>\n",
       "    <tr>\n",
       "      <th>17</th>\n",
       "      <td>69</td>\n",
       "      <td>0.292110</td>\n",
       "    </tr>\n",
       "    <tr>\n",
       "      <th>18</th>\n",
       "      <td>88</td>\n",
       "      <td>0.292110</td>\n",
       "    </tr>\n",
       "    <tr>\n",
       "      <th>19</th>\n",
       "      <td>128</td>\n",
       "      <td>0.292110</td>\n",
       "    </tr>\n",
       "  </tbody>\n",
       "</table>\n",
       "</div>"
      ],
      "text/plain": [
       "    organic_idx   cosdist\n",
       "0         11243  0.266205\n",
       "1            56  0.292110\n",
       "2            39  0.292110\n",
       "3         15327  0.280466\n",
       "4         15326  0.280466\n",
       "5         15322  0.190294\n",
       "6         15321  0.280466\n",
       "7         15320  0.280466\n",
       "8         15318  0.280466\n",
       "9         15315  0.190294\n",
       "10          153  0.292110\n",
       "11           53  0.292110\n",
       "12           28  0.292110\n",
       "13           99  0.292110\n",
       "14           67  0.292110\n",
       "15           96  0.292110\n",
       "16           70  0.292110\n",
       "17           69  0.292110\n",
       "18           88  0.292110\n",
       "19          128  0.292110"
      ]
     },
     "execution_count": 230,
     "metadata": {},
     "output_type": "execute_result"
    }
   ],
   "source": [
    "# Abbreviated table of matching organics indices and their cosine distance from an ENM tuple\n",
    "match_table = pd.DataFrame({\n",
    "    'organic_idx': idx_match, \n",
    "    'cosdist': dist_match})\n",
    "match_table.head(20)"
   ]
  },
  {
   "cell_type": "code",
   "execution_count": 229,
   "metadata": {
    "ExecuteTime": {
     "end_time": "2019-01-17T17:08:41.935538Z",
     "start_time": "2019-01-17T17:08:41.915200Z"
    }
   },
   "outputs": [
    {
     "data": {
      "text/html": [
       "<div>\n",
       "<style scoped>\n",
       "    .dataframe tbody tr th:only-of-type {\n",
       "        vertical-align: middle;\n",
       "    }\n",
       "\n",
       "    .dataframe tbody tr th {\n",
       "        vertical-align: top;\n",
       "    }\n",
       "\n",
       "    .dataframe thead th {\n",
       "        text-align: right;\n",
       "    }\n",
       "</style>\n",
       "<table border=\"1\" class=\"dataframe\">\n",
       "  <thead>\n",
       "    <tr style=\"text-align: right;\">\n",
       "      <th></th>\n",
       "      <th>organic_idx</th>\n",
       "      <th>cosdist</th>\n",
       "    </tr>\n",
       "  </thead>\n",
       "  <tbody>\n",
       "    <tr>\n",
       "      <th>1620</th>\n",
       "      <td>5070</td>\n",
       "      <td>0.198167</td>\n",
       "    </tr>\n",
       "    <tr>\n",
       "      <th>1621</th>\n",
       "      <td>8421</td>\n",
       "      <td>0.199043</td>\n",
       "    </tr>\n",
       "    <tr>\n",
       "      <th>1622</th>\n",
       "      <td>8515</td>\n",
       "      <td>0.199043</td>\n",
       "    </tr>\n",
       "    <tr>\n",
       "      <th>1623</th>\n",
       "      <td>8402</td>\n",
       "      <td>0.199043</td>\n",
       "    </tr>\n",
       "    <tr>\n",
       "      <th>1624</th>\n",
       "      <td>4585</td>\n",
       "      <td>0.175033</td>\n",
       "    </tr>\n",
       "    <tr>\n",
       "      <th>1625</th>\n",
       "      <td>6894</td>\n",
       "      <td>0.177384</td>\n",
       "    </tr>\n",
       "    <tr>\n",
       "      <th>1626</th>\n",
       "      <td>8563</td>\n",
       "      <td>0.199043</td>\n",
       "    </tr>\n",
       "    <tr>\n",
       "      <th>1627</th>\n",
       "      <td>8354</td>\n",
       "      <td>0.199043</td>\n",
       "    </tr>\n",
       "    <tr>\n",
       "      <th>1628</th>\n",
       "      <td>5065</td>\n",
       "      <td>0.198167</td>\n",
       "    </tr>\n",
       "    <tr>\n",
       "      <th>1629</th>\n",
       "      <td>6918</td>\n",
       "      <td>0.170179</td>\n",
       "    </tr>\n",
       "    <tr>\n",
       "      <th>1630</th>\n",
       "      <td>6910</td>\n",
       "      <td>0.085594</td>\n",
       "    </tr>\n",
       "    <tr>\n",
       "      <th>1631</th>\n",
       "      <td>8517</td>\n",
       "      <td>0.199043</td>\n",
       "    </tr>\n",
       "    <tr>\n",
       "      <th>1632</th>\n",
       "      <td>6911</td>\n",
       "      <td>0.170179</td>\n",
       "    </tr>\n",
       "    <tr>\n",
       "      <th>1633</th>\n",
       "      <td>238</td>\n",
       "      <td>0.183034</td>\n",
       "    </tr>\n",
       "    <tr>\n",
       "      <th>1634</th>\n",
       "      <td>6912</td>\n",
       "      <td>0.170179</td>\n",
       "    </tr>\n",
       "    <tr>\n",
       "      <th>1635</th>\n",
       "      <td>8457</td>\n",
       "      <td>0.199043</td>\n",
       "    </tr>\n",
       "    <tr>\n",
       "      <th>1636</th>\n",
       "      <td>8371</td>\n",
       "      <td>0.199043</td>\n",
       "    </tr>\n",
       "    <tr>\n",
       "      <th>1637</th>\n",
       "      <td>8117</td>\n",
       "      <td>0.251278</td>\n",
       "    </tr>\n",
       "    <tr>\n",
       "      <th>1638</th>\n",
       "      <td>3421</td>\n",
       "      <td>0.215209</td>\n",
       "    </tr>\n",
       "    <tr>\n",
       "      <th>1639</th>\n",
       "      <td>8681</td>\n",
       "      <td>0.256345</td>\n",
       "    </tr>\n",
       "  </tbody>\n",
       "</table>\n",
       "</div>"
      ],
      "text/plain": [
       "      organic_idx   cosdist\n",
       "1620         5070  0.198167\n",
       "1621         8421  0.199043\n",
       "1622         8515  0.199043\n",
       "1623         8402  0.199043\n",
       "1624         4585  0.175033\n",
       "1625         6894  0.177384\n",
       "1626         8563  0.199043\n",
       "1627         8354  0.199043\n",
       "1628         5065  0.198167\n",
       "1629         6918  0.170179\n",
       "1630         6910  0.085594\n",
       "1631         8517  0.199043\n",
       "1632         6911  0.170179\n",
       "1633          238  0.183034\n",
       "1634         6912  0.170179\n",
       "1635         8457  0.199043\n",
       "1636         8371  0.199043\n",
       "1637         8117  0.251278\n",
       "1638         3421  0.215209\n",
       "1639         8681  0.256345"
      ]
     },
     "execution_count": 229,
     "metadata": {},
     "output_type": "execute_result"
    }
   ],
   "source": [
    "match_table.tail(20)"
   ]
  },
  {
   "cell_type": "code",
   "execution_count": 105,
   "metadata": {
    "ExecuteTime": {
     "end_time": "2019-01-10T19:40:25.508713Z",
     "start_time": "2019-01-10T19:40:25.405211Z"
    }
   },
   "outputs": [
    {
     "name": "stdout",
     "output_type": "stream",
     "text": [
      "(1722, 39)\n",
      "(1722,)\n"
     ]
    }
   ],
   "source": [
    "# Create X and y dataframes of matches using the generated index list\n",
    "X_match20 = X_source.iloc[idx_match]\n",
    "y_match20 = pd.DataFrame(y_source)\n",
    "y_match20 = y_match20.iloc[idx_match]\n",
    "\n",
    "# Append sampled organics data to ENM data\n",
    "X_match20 = pd.concat([X_enm, X_match20], sort=False)\n",
    "y_match20 = pd.concat([y_enm, y_match20], sort=False)\n",
    "\n",
    "# Apply wf bins\n",
    "bin_match20 = y_match20.apply(bins, axis=1)\n",
    "bin_match20 = le.fit_transform(bin_match20)\n",
    "\n",
    "print(X_match20.shape)\n",
    "print(bin_match20.shape)"
   ]
  },
  {
   "cell_type": "code",
   "execution_count": 106,
   "metadata": {
    "ExecuteTime": {
     "end_time": "2019-01-10T19:40:28.537869Z",
     "start_time": "2019-01-10T19:40:28.487416Z"
    }
   },
   "outputs": [
    {
     "data": {
      "text/html": [
       "<div>\n",
       "<style scoped>\n",
       "    .dataframe tbody tr th:only-of-type {\n",
       "        vertical-align: middle;\n",
       "    }\n",
       "\n",
       "    .dataframe tbody tr th {\n",
       "        vertical-align: top;\n",
       "    }\n",
       "\n",
       "    .dataframe thead th {\n",
       "        text-align: right;\n",
       "    }\n",
       "</style>\n",
       "<table border=\"1\" class=\"dataframe\">\n",
       "  <thead>\n",
       "    <tr style=\"text-align: right;\">\n",
       "      <th></th>\n",
       "      <th>propMW</th>\n",
       "      <th>propMP</th>\n",
       "      <th>propBP</th>\n",
       "      <th>propLogDensity</th>\n",
       "      <th>0</th>\n",
       "      <th>1</th>\n",
       "      <th>2</th>\n",
       "      <th>3</th>\n",
       "      <th>4</th>\n",
       "      <th>5</th>\n",
       "      <th>...</th>\n",
       "      <th>group_facialcleansingandmoisturizing</th>\n",
       "      <th>group_fungicide</th>\n",
       "      <th>group_generalhouseholdcleaning</th>\n",
       "      <th>group_generalmoisturizing</th>\n",
       "      <th>group_makeupandrelated</th>\n",
       "      <th>group_paintstainandrelatedproducts</th>\n",
       "      <th>group_sunscreen</th>\n",
       "      <th>group_surfacesealers</th>\n",
       "      <th>refined_spray</th>\n",
       "      <th>matrix_F</th>\n",
       "    </tr>\n",
       "  </thead>\n",
       "  <tbody>\n",
       "    <tr>\n",
       "      <th>80</th>\n",
       "      <td>79.867</td>\n",
       "      <td>1843.0000</td>\n",
       "      <td>2972.0000</td>\n",
       "      <td>0.626340</td>\n",
       "      <td>0.0</td>\n",
       "      <td>0.0</td>\n",
       "      <td>0.0</td>\n",
       "      <td>0.0</td>\n",
       "      <td>0.0</td>\n",
       "      <td>1.0</td>\n",
       "      <td>...</td>\n",
       "      <td>0</td>\n",
       "      <td>0</td>\n",
       "      <td>0</td>\n",
       "      <td>0</td>\n",
       "      <td>0</td>\n",
       "      <td>0</td>\n",
       "      <td>1</td>\n",
       "      <td>0</td>\n",
       "      <td>1</td>\n",
       "      <td>1</td>\n",
       "    </tr>\n",
       "    <tr>\n",
       "      <th>81</th>\n",
       "      <td>107.868</td>\n",
       "      <td>961.7800</td>\n",
       "      <td>2162.0000</td>\n",
       "      <td>1.014730</td>\n",
       "      <td>0.0</td>\n",
       "      <td>0.0</td>\n",
       "      <td>0.0</td>\n",
       "      <td>0.0</td>\n",
       "      <td>0.0</td>\n",
       "      <td>0.0</td>\n",
       "      <td>...</td>\n",
       "      <td>0</td>\n",
       "      <td>0</td>\n",
       "      <td>0</td>\n",
       "      <td>0</td>\n",
       "      <td>0</td>\n",
       "      <td>0</td>\n",
       "      <td>0</td>\n",
       "      <td>0</td>\n",
       "      <td>1</td>\n",
       "      <td>1</td>\n",
       "    </tr>\n",
       "    <tr>\n",
       "      <th>17673</th>\n",
       "      <td>386.364</td>\n",
       "      <td>193.1210</td>\n",
       "      <td>408.0050</td>\n",
       "      <td>0.140194</td>\n",
       "      <td>0.0</td>\n",
       "      <td>0.0</td>\n",
       "      <td>0.0</td>\n",
       "      <td>0.0</td>\n",
       "      <td>0.0</td>\n",
       "      <td>0.0</td>\n",
       "      <td>...</td>\n",
       "      <td>0</td>\n",
       "      <td>0</td>\n",
       "      <td>0</td>\n",
       "      <td>0</td>\n",
       "      <td>0</td>\n",
       "      <td>1</td>\n",
       "      <td>0</td>\n",
       "      <td>0</td>\n",
       "      <td>0</td>\n",
       "      <td>1</td>\n",
       "    </tr>\n",
       "    <tr>\n",
       "      <th>57</th>\n",
       "      <td>106.168</td>\n",
       "      <td>-52.5218</td>\n",
       "      <td>147.1505</td>\n",
       "      <td>-0.050610</td>\n",
       "      <td>0.5</td>\n",
       "      <td>0.0</td>\n",
       "      <td>0.0</td>\n",
       "      <td>0.0</td>\n",
       "      <td>0.0</td>\n",
       "      <td>0.0</td>\n",
       "      <td>...</td>\n",
       "      <td>0</td>\n",
       "      <td>0</td>\n",
       "      <td>0</td>\n",
       "      <td>0</td>\n",
       "      <td>0</td>\n",
       "      <td>1</td>\n",
       "      <td>0</td>\n",
       "      <td>0</td>\n",
       "      <td>0</td>\n",
       "      <td>1</td>\n",
       "    </tr>\n",
       "    <tr>\n",
       "      <th>40</th>\n",
       "      <td>106.168</td>\n",
       "      <td>-52.5218</td>\n",
       "      <td>147.1505</td>\n",
       "      <td>-0.050610</td>\n",
       "      <td>0.5</td>\n",
       "      <td>0.0</td>\n",
       "      <td>0.0</td>\n",
       "      <td>0.0</td>\n",
       "      <td>0.0</td>\n",
       "      <td>0.0</td>\n",
       "      <td>...</td>\n",
       "      <td>0</td>\n",
       "      <td>0</td>\n",
       "      <td>0</td>\n",
       "      <td>0</td>\n",
       "      <td>0</td>\n",
       "      <td>1</td>\n",
       "      <td>0</td>\n",
       "      <td>0</td>\n",
       "      <td>0</td>\n",
       "      <td>1</td>\n",
       "    </tr>\n",
       "  </tbody>\n",
       "</table>\n",
       "<p>5 rows × 39 columns</p>\n",
       "</div>"
      ],
      "text/plain": [
       "        propMW     propMP     propBP  propLogDensity    0    1    2    3    4  \\\n",
       "80      79.867  1843.0000  2972.0000        0.626340  0.0  0.0  0.0  0.0  0.0   \n",
       "81     107.868   961.7800  2162.0000        1.014730  0.0  0.0  0.0  0.0  0.0   \n",
       "17673  386.364   193.1210   408.0050        0.140194  0.0  0.0  0.0  0.0  0.0   \n",
       "57     106.168   -52.5218   147.1505       -0.050610  0.5  0.0  0.0  0.0  0.0   \n",
       "40     106.168   -52.5218   147.1505       -0.050610  0.5  0.0  0.0  0.0  0.0   \n",
       "\n",
       "         5    ...     group_facialcleansingandmoisturizing  group_fungicide  \\\n",
       "80     1.0    ...                                        0                0   \n",
       "81     0.0    ...                                        0                0   \n",
       "17673  0.0    ...                                        0                0   \n",
       "57     0.0    ...                                        0                0   \n",
       "40     0.0    ...                                        0                0   \n",
       "\n",
       "       group_generalhouseholdcleaning  group_generalmoisturizing  \\\n",
       "80                                  0                          0   \n",
       "81                                  0                          0   \n",
       "17673                               0                          0   \n",
       "57                                  0                          0   \n",
       "40                                  0                          0   \n",
       "\n",
       "       group_makeupandrelated  group_paintstainandrelatedproducts  \\\n",
       "80                          0                                   0   \n",
       "81                          0                                   0   \n",
       "17673                       0                                   1   \n",
       "57                          0                                   1   \n",
       "40                          0                                   1   \n",
       "\n",
       "       group_sunscreen  group_surfacesealers  refined_spray  matrix_F  \n",
       "80                   1                     0              1         1  \n",
       "81                   0                     0              1         1  \n",
       "17673                0                     0              0         1  \n",
       "57                   0                     0              0         1  \n",
       "40                   0                     0              0         1  \n",
       "\n",
       "[5 rows x 39 columns]"
      ]
     },
     "execution_count": 106,
     "metadata": {},
     "output_type": "execute_result"
    }
   ],
   "source": [
    "X_match20.iloc[80:85,:]"
   ]
  },
  {
   "cell_type": "code",
   "execution_count": 107,
   "metadata": {
    "ExecuteTime": {
     "end_time": "2019-01-10T19:40:45.312076Z",
     "start_time": "2019-01-10T19:40:45.278879Z"
    }
   },
   "outputs": [
    {
     "data": {
      "text/html": [
       "<div>\n",
       "<style scoped>\n",
       "    .dataframe tbody tr th:only-of-type {\n",
       "        vertical-align: middle;\n",
       "    }\n",
       "\n",
       "    .dataframe tbody tr th {\n",
       "        vertical-align: top;\n",
       "    }\n",
       "\n",
       "    .dataframe thead th {\n",
       "        text-align: right;\n",
       "    }\n",
       "</style>\n",
       "<table border=\"1\" class=\"dataframe\">\n",
       "  <thead>\n",
       "    <tr style=\"text-align: right;\">\n",
       "      <th></th>\n",
       "      <th>maximum_weight_fraction</th>\n",
       "    </tr>\n",
       "  </thead>\n",
       "  <tbody>\n",
       "    <tr>\n",
       "      <th>80</th>\n",
       "      <td>0.000667</td>\n",
       "    </tr>\n",
       "    <tr>\n",
       "      <th>81</th>\n",
       "      <td>0.000800</td>\n",
       "    </tr>\n",
       "    <tr>\n",
       "      <th>17673</th>\n",
       "      <td>0.050000</td>\n",
       "    </tr>\n",
       "    <tr>\n",
       "      <th>57</th>\n",
       "      <td>0.050000</td>\n",
       "    </tr>\n",
       "    <tr>\n",
       "      <th>40</th>\n",
       "      <td>0.200000</td>\n",
       "    </tr>\n",
       "  </tbody>\n",
       "</table>\n",
       "</div>"
      ],
      "text/plain": [
       "       maximum_weight_fraction\n",
       "80                    0.000667\n",
       "81                    0.000800\n",
       "17673                 0.050000\n",
       "57                    0.050000\n",
       "40                    0.200000"
      ]
     },
     "execution_count": 107,
     "metadata": {},
     "output_type": "execute_result"
    }
   ],
   "source": [
    "y_match20.iloc[80:85,:]"
   ]
  },
  {
   "cell_type": "code",
   "execution_count": 108,
   "metadata": {
    "ExecuteTime": {
     "end_time": "2019-01-10T19:41:05.575993Z",
     "start_time": "2019-01-10T19:41:05.544996Z"
    }
   },
   "outputs": [
    {
     "data": {
      "text/plain": [
       "{0: 232, 1: 1026, 2: 464}"
      ]
     },
     "execution_count": 108,
     "metadata": {},
     "output_type": "execute_result"
    }
   ],
   "source": [
    "# Check distribution across WF bins\n",
    "unique, counts = np.unique(bin_match20, return_counts=True)\n",
    "dict(zip(unique, counts))"
   ]
  },
  {
   "cell_type": "markdown",
   "metadata": {
    "ExecuteTime": {
     "end_time": "2019-01-10T01:40:15.939429Z",
     "start_time": "2019-01-10T01:40:15.921574Z"
    }
   },
   "source": [
    "### Matching 1:10 ENM-organics"
   ]
  },
  {
   "cell_type": "code",
   "execution_count": 109,
   "metadata": {
    "ExecuteTime": {
     "end_time": "2019-01-10T19:42:30.482885Z",
     "start_time": "2019-01-10T19:42:30.434991Z"
    },
    "collapsed": true
   },
   "outputs": [],
   "source": [
    "# Write loop to match most similar organics examples \n",
    "# to ENM examples based on smallest cosine distance\n",
    "\n",
    "# Set number of matches to return\n",
    "k = 10\n",
    "\n",
    "# Loop over cosdist \"matrix\" to return list of matching organics indices\n",
    "idx_match = []\n",
    "dist_match = []\n",
    "for col in cosdist.T:\n",
    "    # Find indices of k-smallest distances\n",
    "    matches = smallest(col,k)\n",
    "    idx_match.extend(matches)\n",
    "    dist_match.extend(col[matches])"
   ]
  },
  {
   "cell_type": "code",
   "execution_count": 110,
   "metadata": {
    "ExecuteTime": {
     "end_time": "2019-01-10T19:42:56.124601Z",
     "start_time": "2019-01-10T19:42:56.044346Z"
    }
   },
   "outputs": [
    {
     "name": "stdout",
     "output_type": "stream",
     "text": [
      "(902, 39)\n",
      "(902,)\n"
     ]
    }
   ],
   "source": [
    "# Create X and y dataframes of matches using the generated index list\n",
    "X_match10 = X_source.iloc[idx_match]\n",
    "y_match10 = pd.DataFrame(y_source)\n",
    "y_match10 = y_match10.iloc[idx_match]\n",
    "\n",
    "# Append sampled organics data to ENM data\n",
    "X_match10 = pd.concat([X_enm, X_match10], sort=False)\n",
    "y_match10 = pd.concat([y_enm, y_match10], sort=False)\n",
    "\n",
    "# Apply wf bins\n",
    "bin_match10 = y_match10.apply(bins, axis=1)\n",
    "bin_match10 = le.fit_transform(bin_match10)\n",
    "\n",
    "print(X_match10.shape)\n",
    "print(bin_match10.shape)"
   ]
  },
  {
   "cell_type": "markdown",
   "metadata": {},
   "source": [
    "### Matching 1:5 ENM-organics"
   ]
  },
  {
   "cell_type": "code",
   "execution_count": 160,
   "metadata": {
    "ExecuteTime": {
     "end_time": "2019-01-10T20:55:47.219779Z",
     "start_time": "2019-01-10T20:55:47.172950Z"
    },
    "collapsed": true
   },
   "outputs": [],
   "source": [
    "# Write loop to match most similar organics examples \n",
    "# to ENM examples based on smallest cosine distance\n",
    "\n",
    "# Set number of matches to return\n",
    "k = 5\n",
    "\n",
    "# Loop over cosdist \"matrix\" to return list of matching organics indices\n",
    "idx_match = []\n",
    "dist_match = []\n",
    "for col in cosdist.T:\n",
    "    # Find indices of k-smallest distances\n",
    "    matches = smallest(col,k)\n",
    "    idx_match.extend(matches)\n",
    "    dist_match.extend(col[matches])"
   ]
  },
  {
   "cell_type": "code",
   "execution_count": 161,
   "metadata": {
    "ExecuteTime": {
     "end_time": "2019-01-10T20:55:48.043655Z",
     "start_time": "2019-01-10T20:55:47.972442Z"
    }
   },
   "outputs": [
    {
     "name": "stdout",
     "output_type": "stream",
     "text": [
      "(492, 39)\n",
      "(492,)\n"
     ]
    }
   ],
   "source": [
    "# Create X and y dataframes of matches using the generated index list\n",
    "X_match5 = X_source.iloc[idx_match]\n",
    "y_match5 = pd.DataFrame(y_source)\n",
    "y_match5 = y_match5.iloc[idx_match]\n",
    "\n",
    "# Append sampled organics data to ENM data\n",
    "X_match5 = pd.concat([X_enm, X_match5], sort=False)\n",
    "y_match5 = pd.concat([y_enm, y_match5], sort=False)\n",
    "\n",
    "# Apply wf bins\n",
    "bin_match5 = y_match5.apply(bins, axis=1)\n",
    "bin_match5 = le.fit_transform(bin_match5)\n",
    "\n",
    "print(X_match5.shape)\n",
    "print(bin_match5.shape)"
   ]
  },
  {
   "cell_type": "markdown",
   "metadata": {
    "ExecuteTime": {
     "end_time": "2019-01-10T19:43:28.128319Z",
     "start_time": "2019-01-10T19:43:28.110870Z"
    }
   },
   "source": [
    "### Matching 1:4 ENM-organics"
   ]
  },
  {
   "cell_type": "code",
   "execution_count": 112,
   "metadata": {
    "ExecuteTime": {
     "end_time": "2019-01-10T19:47:29.431282Z",
     "start_time": "2019-01-10T19:47:29.387910Z"
    },
    "collapsed": true
   },
   "outputs": [],
   "source": [
    "# Write loop to match most similar organics examples \n",
    "# to ENM examples based on smallest cosine distance\n",
    "\n",
    "# Set number of matches to return\n",
    "k = 4\n",
    "\n",
    "# Loop over cosdist \"matrix\" to return list of matching organics indices\n",
    "idx_match = []\n",
    "dist_match = []\n",
    "for col in cosdist.T:\n",
    "    # Find indices of k-smallest distances\n",
    "    matches = smallest(col,k)\n",
    "    idx_match.extend(matches)\n",
    "    dist_match.extend(col[matches])"
   ]
  },
  {
   "cell_type": "code",
   "execution_count": 113,
   "metadata": {
    "ExecuteTime": {
     "end_time": "2019-01-10T19:47:30.902131Z",
     "start_time": "2019-01-10T19:47:30.827556Z"
    }
   },
   "outputs": [
    {
     "name": "stdout",
     "output_type": "stream",
     "text": [
      "(410, 39)\n",
      "(410,)\n"
     ]
    }
   ],
   "source": [
    "# Create X and y dataframes of matches using the generated index list\n",
    "X_match4 = X_source.iloc[idx_match]\n",
    "y_match4 = pd.DataFrame(y_source)\n",
    "y_match4 = y_match4.iloc[idx_match]\n",
    "\n",
    "# Append sampled organics data to ENM data\n",
    "X_match4 = pd.concat([X_enm, X_match4], sort=False)\n",
    "y_match4 = pd.concat([y_enm, y_match4], sort=False)\n",
    "\n",
    "# Apply wf bins\n",
    "bin_match4 = y_match4.apply(bins, axis=1)\n",
    "bin_match4 = le.fit_transform(bin_match4)\n",
    "\n",
    "print(X_match4.shape)\n",
    "print(bin_match4.shape)"
   ]
  },
  {
   "cell_type": "markdown",
   "metadata": {},
   "source": [
    "### Matching 1:3 ENM-organics"
   ]
  },
  {
   "cell_type": "code",
   "execution_count": 167,
   "metadata": {
    "ExecuteTime": {
     "end_time": "2019-01-10T21:05:40.462023Z",
     "start_time": "2019-01-10T21:05:40.424417Z"
    },
    "collapsed": true
   },
   "outputs": [],
   "source": [
    "# Write loop to match most similar organics examples \n",
    "# to ENM examples based on smallest cosine distance\n",
    "\n",
    "# Set number of matches to return\n",
    "k = 3\n",
    "\n",
    "# Loop over cosdist \"matrix\" to return list of matching organics indices\n",
    "idx_match = []\n",
    "dist_match = []\n",
    "for col in cosdist.T:\n",
    "    # Find indices of k-smallest distances\n",
    "    matches = smallest(col,k)\n",
    "    idx_match.extend(matches)\n",
    "    dist_match.extend(col[matches])"
   ]
  },
  {
   "cell_type": "code",
   "execution_count": 168,
   "metadata": {
    "ExecuteTime": {
     "end_time": "2019-01-10T21:05:41.328337Z",
     "start_time": "2019-01-10T21:05:41.250339Z"
    }
   },
   "outputs": [
    {
     "name": "stdout",
     "output_type": "stream",
     "text": [
      "(328, 39)\n",
      "(328,)\n"
     ]
    }
   ],
   "source": [
    "# Create X and y dataframes of matches using the generated index list\n",
    "X_match3 = X_source.iloc[idx_match]\n",
    "y_match3 = pd.DataFrame(y_source)\n",
    "y_match3 = y_match3.iloc[idx_match]\n",
    "\n",
    "# Append sampled organics data to ENM data\n",
    "X_match3 = pd.concat([X_enm, X_match3], sort=False)\n",
    "y_match3 = pd.concat([y_enm, y_match3], sort=False)\n",
    "\n",
    "# Apply wf bins\n",
    "bin_match3 = y_match3.apply(bins, axis=1)\n",
    "bin_match3 = le.fit_transform(bin_match3)\n",
    "\n",
    "print(X_match3.shape)\n",
    "print(bin_match3.shape)"
   ]
  },
  {
   "cell_type": "markdown",
   "metadata": {},
   "source": [
    "### Matching 1:2 ENM-organics"
   ]
  },
  {
   "cell_type": "code",
   "execution_count": 114,
   "metadata": {
    "ExecuteTime": {
     "end_time": "2019-01-10T19:47:36.600484Z",
     "start_time": "2019-01-10T19:47:36.551495Z"
    },
    "collapsed": true
   },
   "outputs": [],
   "source": [
    "# Write loop to match most similar organics examples \n",
    "# to ENM examples based on smallest cosine distance\n",
    "\n",
    "# Set number of matches to return\n",
    "k = 2\n",
    "\n",
    "# Loop over cosdist \"matrix\" to return list of matching organics indices\n",
    "idx_match = []\n",
    "dist_match = []\n",
    "for col in cosdist.T:\n",
    "    # Find indices of k-smallest distances\n",
    "    matches = smallest(col,k)\n",
    "    idx_match.extend(matches)\n",
    "    dist_match.extend(col[matches])"
   ]
  },
  {
   "cell_type": "code",
   "execution_count": 115,
   "metadata": {
    "ExecuteTime": {
     "end_time": "2019-01-10T19:47:42.845131Z",
     "start_time": "2019-01-10T19:47:42.786714Z"
    }
   },
   "outputs": [
    {
     "name": "stdout",
     "output_type": "stream",
     "text": [
      "(246, 39)\n",
      "(246,)\n"
     ]
    }
   ],
   "source": [
    "# Create X and y dataframes of matches using the generated index list\n",
    "X_match2 = X_source.iloc[idx_match]\n",
    "y_match2 = pd.DataFrame(y_source)\n",
    "y_match2 = y_match2.iloc[idx_match]\n",
    "\n",
    "# Append sampled organics data to ENM data\n",
    "X_match2 = pd.concat([X_enm, X_match2], sort=False)\n",
    "y_match2 = pd.concat([y_enm, y_match2], sort=False)\n",
    "\n",
    "# Apply wf bins\n",
    "bin_match2 = y_match2.apply(bins, axis=1)\n",
    "bin_match2 = le.fit_transform(bin_match2)\n",
    "\n",
    "print(X_match2.shape)\n",
    "print(bin_match2.shape)"
   ]
  },
  {
   "cell_type": "markdown",
   "metadata": {},
   "source": [
    "# SVC Models"
   ]
  },
  {
   "cell_type": "markdown",
   "metadata": {},
   "source": [
    "## ENM only"
   ]
  },
  {
   "cell_type": "markdown",
   "metadata": {},
   "source": [
    "Here I make use of a helper class in order to compare different model estimators with different parameters. Estimator Selection Helper is by David Batista:\n",
    "http://www.davidsbatista.net/blog/2018/02/23/model_optimization/."
   ]
  },
  {
   "cell_type": "code",
   "execution_count": 116,
   "metadata": {
    "ExecuteTime": {
     "end_time": "2019-01-10T19:47:55.113037Z",
     "start_time": "2019-01-10T19:47:54.950469Z"
    },
    "collapsed": true
   },
   "outputs": [],
   "source": [
    "# Set up for grid search across multiple pipelines\n",
    "from sklearn.model_selection import GridSearchCV\n",
    "\n",
    "cv=10\n",
    "class EstimatorSelectionHelper:\n",
    "\n",
    "    def __init__(self, models, params):\n",
    "        if not set(models.keys()).issubset(set(params.keys())):\n",
    "            missing_params = list(set(models.keys()) - set(params.keys()))\n",
    "            raise ValueError(\"Some estimators are missing parameters: %s\" % missing_params)\n",
    "        self.models = models\n",
    "        self.params = params\n",
    "        self.keys = models.keys()\n",
    "        self.grid_searches = {}\n",
    "\n",
    "    def fit(self, X, y, cv=cv, n_jobs=1, verbose=1, scoring='accuracy', refit=False):\n",
    "        for key in self.keys:\n",
    "            print(\"Running GridSearchCV for %s.\" % key)\n",
    "            model = self.models[key]\n",
    "            params = self.params[key]\n",
    "            gs = GridSearchCV(model, params, cv=cv, n_jobs=n_jobs,\n",
    "                              verbose=verbose, scoring=scoring, refit=refit,\n",
    "                              return_train_score=True)\n",
    "            gs.fit(X,y)\n",
    "            self.grid_searches[key] = gs    \n",
    "\n",
    "    def score_summary(self, sort_by='mean_score'):\n",
    "        def row(key, scores, params):\n",
    "            d = {\n",
    "                 'estimator': key,\n",
    "                 'min_score': min(scores),\n",
    "                 'max_score': max(scores),\n",
    "                 'mean_score': np.mean(scores),\n",
    "                 'std_score': np.std(scores),\n",
    "            }\n",
    "            return pd.Series({**params,**d})\n",
    "\n",
    "        rows = []\n",
    "        for k in self.grid_searches:\n",
    "            print(k)\n",
    "            params = self.grid_searches[k].cv_results_['params']\n",
    "            scores = []\n",
    "            for i in range(self.grid_searches[k].cv):\n",
    "                key = \"split{}_test_score\".format(i)\n",
    "                r = self.grid_searches[k].cv_results_[key]        \n",
    "                scores.append(r.reshape(len(params),1))\n",
    "\n",
    "            all_scores = np.hstack(scores)\n",
    "            for p, s in zip(params,all_scores):\n",
    "                rows.append((row(k, s, p)))\n",
    "\n",
    "        df = pd.concat(rows, axis=1).T.sort_values([sort_by], ascending=False)\n",
    "\n",
    "        columns = ['estimator', 'min_score', 'mean_score', 'max_score', 'std_score']\n",
    "        columns = columns + [c for c in df.columns if c not in columns]\n",
    "\n",
    "        return df[columns]"
   ]
  },
  {
   "cell_type": "code",
   "execution_count": 117,
   "metadata": {
    "ExecuteTime": {
     "end_time": "2019-01-10T19:47:58.103367Z",
     "start_time": "2019-01-10T19:47:57.935243Z"
    },
    "collapsed": true
   },
   "outputs": [],
   "source": [
    "# Define sets of models and their respective parameters to compare\n",
    "# The first dictionary contains the models to be scored\n",
    "# while the second contains the parameters for each model\n",
    "\n",
    "from sklearn.cluster import FeatureAgglomeration\n",
    "from sklearn.svm import SVC\n",
    "from sklearn.ensemble import RandomForestClassifier\n",
    "\n",
    "cv=10\n",
    "models = {\n",
    "    'RandomForest': RandomForestClassifier(),\n",
    "    'SVC': SVC()\n",
    "}\n",
    "\n",
    "params = {\n",
    "    'RandomForest': { 'n_estimators': [10,12,14,16,18,20]},\n",
    "    'SVC': [\n",
    "        {'kernel': ['linear'], 'C': np.logspace(0,5,10)},\n",
    "        {'kernel': ['rbf'], 'C': np.logspace(0,5,10), 'gamma': np.logspace(-6,0,10)},\n",
    "    ]\n",
    "}"
   ]
  },
  {
   "cell_type": "code",
   "execution_count": 118,
   "metadata": {
    "ExecuteTime": {
     "end_time": "2019-01-10T19:48:04.398968Z",
     "start_time": "2019-01-10T19:48:01.573673Z"
    }
   },
   "outputs": [
    {
     "name": "stdout",
     "output_type": "stream",
     "text": [
      "Running GridSearchCV for RandomForest.\n",
      "Fitting 10 folds for each of 6 candidates, totalling 60 fits\n",
      "Running GridSearchCV for SVC.\n",
      "Fitting 10 folds for each of 110 candidates, totalling 1100 fits\n"
     ]
    },
    {
     "name": "stderr",
     "output_type": "stream",
     "text": [
      "[Parallel(n_jobs=3)]: Done  60 out of  60 | elapsed:    0.7s finished\n",
      "[Parallel(n_jobs=3)]: Done 1100 out of 1100 | elapsed:    1.6s finished\n"
     ]
    },
    {
     "data": {
      "text/html": [
       "\n",
       "                <audio controls=\"controls\" autoplay=\"autoplay\">\n",
       "                    <source src=\"./data/Glass.wav\" type=\"audio/x-wav\" />\n",
       "                    Your browser does not support the audio element.\n",
       "                </audio>\n",
       "              "
      ],
      "text/plain": [
       "<IPython.lib.display.Audio object>"
      ]
     },
     "execution_count": 118,
     "metadata": {},
     "output_type": "execute_result"
    }
   ],
   "source": [
    "# Fit gridsearch models to select best estimator\n",
    "helper = EstimatorSelectionHelper(models, params)\n",
    "helper.fit(X_enm_scaled, bin_enm, n_jobs=3)\n",
    "\n",
    "# Play sound when cell is done running\n",
    "Audio(url=sound_file, autoplay=True)"
   ]
  },
  {
   "cell_type": "code",
   "execution_count": 119,
   "metadata": {
    "ExecuteTime": {
     "end_time": "2019-01-10T19:48:10.436459Z",
     "start_time": "2019-01-10T19:48:10.281128Z"
    }
   },
   "outputs": [
    {
     "name": "stdout",
     "output_type": "stream",
     "text": [
      "RandomForest\n",
      "SVC\n"
     ]
    },
    {
     "name": "stderr",
     "output_type": "stream",
     "text": [
      "/anaconda3/lib/python3.6/site-packages/ipykernel/__main__.py:52: FutureWarning: Sorting because non-concatenation axis is not aligned. A future version\n",
      "of pandas will change to not sort by default.\n",
      "\n",
      "To accept the future behavior, pass 'sort=True'.\n",
      "\n",
      "To retain the current behavior and silence the warning, pass sort=False\n",
      "\n"
     ]
    },
    {
     "data": {
      "text/html": [
       "<div>\n",
       "<style scoped>\n",
       "    .dataframe tbody tr th:only-of-type {\n",
       "        vertical-align: middle;\n",
       "    }\n",
       "\n",
       "    .dataframe tbody tr th {\n",
       "        vertical-align: top;\n",
       "    }\n",
       "\n",
       "    .dataframe thead th {\n",
       "        text-align: right;\n",
       "    }\n",
       "</style>\n",
       "<table border=\"1\" class=\"dataframe\">\n",
       "  <thead>\n",
       "    <tr style=\"text-align: right;\">\n",
       "      <th></th>\n",
       "      <th>estimator</th>\n",
       "      <th>min_score</th>\n",
       "      <th>mean_score</th>\n",
       "      <th>max_score</th>\n",
       "      <th>std_score</th>\n",
       "      <th>C</th>\n",
       "      <th>gamma</th>\n",
       "      <th>kernel</th>\n",
       "      <th>n_estimators</th>\n",
       "    </tr>\n",
       "  </thead>\n",
       "  <tbody>\n",
       "    <tr>\n",
       "      <th>71</th>\n",
       "      <td>SVC</td>\n",
       "      <td>0.333333</td>\n",
       "      <td>0.622817</td>\n",
       "      <td>0.857143</td>\n",
       "      <td>0.190713</td>\n",
       "      <td>599.484</td>\n",
       "      <td>0.00215443</td>\n",
       "      <td>rbf</td>\n",
       "      <td>NaN</td>\n",
       "    </tr>\n",
       "    <tr>\n",
       "      <th>7</th>\n",
       "      <td>SVC</td>\n",
       "      <td>0.333333</td>\n",
       "      <td>0.622817</td>\n",
       "      <td>0.857143</td>\n",
       "      <td>0.190713</td>\n",
       "      <td>3.59381</td>\n",
       "      <td>NaN</td>\n",
       "      <td>linear</td>\n",
       "      <td>NaN</td>\n",
       "    </tr>\n",
       "    <tr>\n",
       "      <th>2</th>\n",
       "      <td>RandomForest</td>\n",
       "      <td>0.333333</td>\n",
       "      <td>0.614087</td>\n",
       "      <td>0.857143</td>\n",
       "      <td>0.150201</td>\n",
       "      <td>NaN</td>\n",
       "      <td>NaN</td>\n",
       "      <td>NaN</td>\n",
       "      <td>14</td>\n",
       "    </tr>\n",
       "    <tr>\n",
       "      <th>62</th>\n",
       "      <td>SVC</td>\n",
       "      <td>0.333333</td>\n",
       "      <td>0.611706</td>\n",
       "      <td>0.857143</td>\n",
       "      <td>0.191071</td>\n",
       "      <td>166.81</td>\n",
       "      <td>0.01</td>\n",
       "      <td>rbf</td>\n",
       "      <td>NaN</td>\n",
       "    </tr>\n",
       "    <tr>\n",
       "      <th>80</th>\n",
       "      <td>SVC</td>\n",
       "      <td>0.333333</td>\n",
       "      <td>0.608532</td>\n",
       "      <td>0.857143</td>\n",
       "      <td>0.177519</td>\n",
       "      <td>2154.43</td>\n",
       "      <td>0.000464159</td>\n",
       "      <td>rbf</td>\n",
       "      <td>NaN</td>\n",
       "    </tr>\n",
       "    <tr>\n",
       "      <th>89</th>\n",
       "      <td>SVC</td>\n",
       "      <td>0.333333</td>\n",
       "      <td>0.602976</td>\n",
       "      <td>0.857143</td>\n",
       "      <td>0.165654</td>\n",
       "      <td>7742.64</td>\n",
       "      <td>0.0001</td>\n",
       "      <td>rbf</td>\n",
       "      <td>NaN</td>\n",
       "    </tr>\n",
       "    <tr>\n",
       "      <th>70</th>\n",
       "      <td>SVC</td>\n",
       "      <td>0.333333</td>\n",
       "      <td>0.601587</td>\n",
       "      <td>0.888889</td>\n",
       "      <td>0.183222</td>\n",
       "      <td>599.484</td>\n",
       "      <td>0.000464159</td>\n",
       "      <td>rbf</td>\n",
       "      <td>NaN</td>\n",
       "    </tr>\n",
       "    <tr>\n",
       "      <th>24</th>\n",
       "      <td>SVC</td>\n",
       "      <td>0.333333</td>\n",
       "      <td>0.590476</td>\n",
       "      <td>0.888889</td>\n",
       "      <td>0.188956</td>\n",
       "      <td>1</td>\n",
       "      <td>0.215443</td>\n",
       "      <td>rbf</td>\n",
       "      <td>NaN</td>\n",
       "    </tr>\n",
       "    <tr>\n",
       "      <th>60</th>\n",
       "      <td>SVC</td>\n",
       "      <td>0.333333</td>\n",
       "      <td>0.585317</td>\n",
       "      <td>1</td>\n",
       "      <td>0.200727</td>\n",
       "      <td>166.81</td>\n",
       "      <td>0.000464159</td>\n",
       "      <td>rbf</td>\n",
       "      <td>NaN</td>\n",
       "    </tr>\n",
       "    <tr>\n",
       "      <th>97</th>\n",
       "      <td>SVC</td>\n",
       "      <td>0.333333</td>\n",
       "      <td>0.584921</td>\n",
       "      <td>0.857143</td>\n",
       "      <td>0.156976</td>\n",
       "      <td>27825.6</td>\n",
       "      <td>4.64159e-06</td>\n",
       "      <td>rbf</td>\n",
       "      <td>NaN</td>\n",
       "    </tr>\n",
       "    <tr>\n",
       "      <th>42</th>\n",
       "      <td>SVC</td>\n",
       "      <td>0.333333</td>\n",
       "      <td>0.584921</td>\n",
       "      <td>0.857143</td>\n",
       "      <td>0.156976</td>\n",
       "      <td>12.9155</td>\n",
       "      <td>0.01</td>\n",
       "      <td>rbf</td>\n",
       "      <td>NaN</td>\n",
       "    </tr>\n",
       "    <tr>\n",
       "      <th>108</th>\n",
       "      <td>SVC</td>\n",
       "      <td>0.333333</td>\n",
       "      <td>0.583135</td>\n",
       "      <td>0.857143</td>\n",
       "      <td>0.165411</td>\n",
       "      <td>100000</td>\n",
       "      <td>2.15443e-05</td>\n",
       "      <td>rbf</td>\n",
       "      <td>NaN</td>\n",
       "    </tr>\n",
       "    <tr>\n",
       "      <th>87</th>\n",
       "      <td>SVC</td>\n",
       "      <td>0.333333</td>\n",
       "      <td>0.576587</td>\n",
       "      <td>0.857143</td>\n",
       "      <td>0.165225</td>\n",
       "      <td>7742.64</td>\n",
       "      <td>4.64159e-06</td>\n",
       "      <td>rbf</td>\n",
       "      <td>NaN</td>\n",
       "    </tr>\n",
       "    <tr>\n",
       "      <th>32</th>\n",
       "      <td>SVC</td>\n",
       "      <td>0.333333</td>\n",
       "      <td>0.576587</td>\n",
       "      <td>0.857143</td>\n",
       "      <td>0.165225</td>\n",
       "      <td>3.59381</td>\n",
       "      <td>0.01</td>\n",
       "      <td>rbf</td>\n",
       "      <td>NaN</td>\n",
       "    </tr>\n",
       "    <tr>\n",
       "      <th>98</th>\n",
       "      <td>SVC</td>\n",
       "      <td>0.333333</td>\n",
       "      <td>0.575198</td>\n",
       "      <td>0.857143</td>\n",
       "      <td>0.173868</td>\n",
       "      <td>27825.6</td>\n",
       "      <td>2.15443e-05</td>\n",
       "      <td>rbf</td>\n",
       "      <td>NaN</td>\n",
       "    </tr>\n",
       "    <tr>\n",
       "      <th>3</th>\n",
       "      <td>RandomForest</td>\n",
       "      <td>0.333333</td>\n",
       "      <td>0.574405</td>\n",
       "      <td>0.777778</td>\n",
       "      <td>0.158753</td>\n",
       "      <td>NaN</td>\n",
       "      <td>NaN</td>\n",
       "      <td>NaN</td>\n",
       "      <td>16</td>\n",
       "    </tr>\n",
       "    <tr>\n",
       "      <th>1</th>\n",
       "      <td>RandomForest</td>\n",
       "      <td>0.333333</td>\n",
       "      <td>0.574405</td>\n",
       "      <td>0.777778</td>\n",
       "      <td>0.142353</td>\n",
       "      <td>NaN</td>\n",
       "      <td>NaN</td>\n",
       "      <td>NaN</td>\n",
       "      <td>12</td>\n",
       "    </tr>\n",
       "    <tr>\n",
       "      <th>61</th>\n",
       "      <td>SVC</td>\n",
       "      <td>0.333333</td>\n",
       "      <td>0.57381</td>\n",
       "      <td>0.888889</td>\n",
       "      <td>0.190478</td>\n",
       "      <td>166.81</td>\n",
       "      <td>0.00215443</td>\n",
       "      <td>rbf</td>\n",
       "      <td>NaN</td>\n",
       "    </tr>\n",
       "    <tr>\n",
       "      <th>69</th>\n",
       "      <td>SVC</td>\n",
       "      <td>0.333333</td>\n",
       "      <td>0.572817</td>\n",
       "      <td>1</td>\n",
       "      <td>0.193857</td>\n",
       "      <td>599.484</td>\n",
       "      <td>0.0001</td>\n",
       "      <td>rbf</td>\n",
       "      <td>NaN</td>\n",
       "    </tr>\n",
       "    <tr>\n",
       "      <th>5</th>\n",
       "      <td>RandomForest</td>\n",
       "      <td>0.333333</td>\n",
       "      <td>0.572024</td>\n",
       "      <td>0.777778</td>\n",
       "      <td>0.180029</td>\n",
       "      <td>NaN</td>\n",
       "      <td>NaN</td>\n",
       "      <td>NaN</td>\n",
       "      <td>20</td>\n",
       "    </tr>\n",
       "    <tr>\n",
       "      <th>88</th>\n",
       "      <td>SVC</td>\n",
       "      <td>0.333333</td>\n",
       "      <td>0.568254</td>\n",
       "      <td>0.857143</td>\n",
       "      <td>0.156259</td>\n",
       "      <td>7742.64</td>\n",
       "      <td>2.15443e-05</td>\n",
       "      <td>rbf</td>\n",
       "      <td>NaN</td>\n",
       "    </tr>\n",
       "    <tr>\n",
       "      <th>51</th>\n",
       "      <td>SVC</td>\n",
       "      <td>0.333333</td>\n",
       "      <td>0.568254</td>\n",
       "      <td>0.857143</td>\n",
       "      <td>0.156259</td>\n",
       "      <td>46.4159</td>\n",
       "      <td>0.00215443</td>\n",
       "      <td>rbf</td>\n",
       "      <td>NaN</td>\n",
       "    </tr>\n",
       "    <tr>\n",
       "      <th>79</th>\n",
       "      <td>SVC</td>\n",
       "      <td>0.333333</td>\n",
       "      <td>0.568254</td>\n",
       "      <td>0.857143</td>\n",
       "      <td>0.156259</td>\n",
       "      <td>2154.43</td>\n",
       "      <td>0.0001</td>\n",
       "      <td>rbf</td>\n",
       "      <td>NaN</td>\n",
       "    </tr>\n",
       "    <tr>\n",
       "      <th>23</th>\n",
       "      <td>SVC</td>\n",
       "      <td>0.333333</td>\n",
       "      <td>0.564087</td>\n",
       "      <td>0.857143</td>\n",
       "      <td>0.156109</td>\n",
       "      <td>1</td>\n",
       "      <td>0.0464159</td>\n",
       "      <td>rbf</td>\n",
       "      <td>NaN</td>\n",
       "    </tr>\n",
       "    <tr>\n",
       "      <th>107</th>\n",
       "      <td>SVC</td>\n",
       "      <td>0.333333</td>\n",
       "      <td>0.562698</td>\n",
       "      <td>0.857143</td>\n",
       "      <td>0.174331</td>\n",
       "      <td>100000</td>\n",
       "      <td>4.64159e-06</td>\n",
       "      <td>rbf</td>\n",
       "      <td>NaN</td>\n",
       "    </tr>\n",
       "    <tr>\n",
       "      <th>43</th>\n",
       "      <td>SVC</td>\n",
       "      <td>0.333333</td>\n",
       "      <td>0.562698</td>\n",
       "      <td>0.857143</td>\n",
       "      <td>0.174331</td>\n",
       "      <td>12.9155</td>\n",
       "      <td>0.0464159</td>\n",
       "      <td>rbf</td>\n",
       "      <td>NaN</td>\n",
       "    </tr>\n",
       "    <tr>\n",
       "      <th>52</th>\n",
       "      <td>SVC</td>\n",
       "      <td>0.333333</td>\n",
       "      <td>0.562698</td>\n",
       "      <td>0.857143</td>\n",
       "      <td>0.174331</td>\n",
       "      <td>46.4159</td>\n",
       "      <td>0.01</td>\n",
       "      <td>rbf</td>\n",
       "      <td>NaN</td>\n",
       "    </tr>\n",
       "    <tr>\n",
       "      <th>6</th>\n",
       "      <td>SVC</td>\n",
       "      <td>0.333333</td>\n",
       "      <td>0.562698</td>\n",
       "      <td>0.857143</td>\n",
       "      <td>0.174331</td>\n",
       "      <td>1</td>\n",
       "      <td>NaN</td>\n",
       "      <td>linear</td>\n",
       "      <td>NaN</td>\n",
       "    </tr>\n",
       "    <tr>\n",
       "      <th>53</th>\n",
       "      <td>SVC</td>\n",
       "      <td>0.333333</td>\n",
       "      <td>0.560913</td>\n",
       "      <td>0.857143</td>\n",
       "      <td>0.188415</td>\n",
       "      <td>46.4159</td>\n",
       "      <td>0.0464159</td>\n",
       "      <td>rbf</td>\n",
       "      <td>NaN</td>\n",
       "    </tr>\n",
       "    <tr>\n",
       "      <th>25</th>\n",
       "      <td>SVC</td>\n",
       "      <td>0.333333</td>\n",
       "      <td>0.558135</td>\n",
       "      <td>0.777778</td>\n",
       "      <td>0.147894</td>\n",
       "      <td>1</td>\n",
       "      <td>1</td>\n",
       "      <td>rbf</td>\n",
       "      <td>NaN</td>\n",
       "    </tr>\n",
       "    <tr>\n",
       "      <th>...</th>\n",
       "      <td>...</td>\n",
       "      <td>...</td>\n",
       "      <td>...</td>\n",
       "      <td>...</td>\n",
       "      <td>...</td>\n",
       "      <td>...</td>\n",
       "      <td>...</td>\n",
       "      <td>...</td>\n",
       "      <td>...</td>\n",
       "    </tr>\n",
       "    <tr>\n",
       "      <th>30</th>\n",
       "      <td>SVC</td>\n",
       "      <td>0.375</td>\n",
       "      <td>0.439881</td>\n",
       "      <td>0.5</td>\n",
       "      <td>0.0286437</td>\n",
       "      <td>3.59381</td>\n",
       "      <td>0.000464159</td>\n",
       "      <td>rbf</td>\n",
       "      <td>NaN</td>\n",
       "    </tr>\n",
       "    <tr>\n",
       "      <th>29</th>\n",
       "      <td>SVC</td>\n",
       "      <td>0.375</td>\n",
       "      <td>0.439881</td>\n",
       "      <td>0.5</td>\n",
       "      <td>0.0286437</td>\n",
       "      <td>3.59381</td>\n",
       "      <td>0.0001</td>\n",
       "      <td>rbf</td>\n",
       "      <td>NaN</td>\n",
       "    </tr>\n",
       "    <tr>\n",
       "      <th>28</th>\n",
       "      <td>SVC</td>\n",
       "      <td>0.375</td>\n",
       "      <td>0.439881</td>\n",
       "      <td>0.5</td>\n",
       "      <td>0.0286437</td>\n",
       "      <td>3.59381</td>\n",
       "      <td>2.15443e-05</td>\n",
       "      <td>rbf</td>\n",
       "      <td>NaN</td>\n",
       "    </tr>\n",
       "    <tr>\n",
       "      <th>27</th>\n",
       "      <td>SVC</td>\n",
       "      <td>0.375</td>\n",
       "      <td>0.439881</td>\n",
       "      <td>0.5</td>\n",
       "      <td>0.0286437</td>\n",
       "      <td>3.59381</td>\n",
       "      <td>4.64159e-06</td>\n",
       "      <td>rbf</td>\n",
       "      <td>NaN</td>\n",
       "    </tr>\n",
       "    <tr>\n",
       "      <th>26</th>\n",
       "      <td>SVC</td>\n",
       "      <td>0.375</td>\n",
       "      <td>0.439881</td>\n",
       "      <td>0.5</td>\n",
       "      <td>0.0286437</td>\n",
       "      <td>3.59381</td>\n",
       "      <td>1e-06</td>\n",
       "      <td>rbf</td>\n",
       "      <td>NaN</td>\n",
       "    </tr>\n",
       "    <tr>\n",
       "      <th>22</th>\n",
       "      <td>SVC</td>\n",
       "      <td>0.375</td>\n",
       "      <td>0.439881</td>\n",
       "      <td>0.5</td>\n",
       "      <td>0.0286437</td>\n",
       "      <td>1</td>\n",
       "      <td>0.01</td>\n",
       "      <td>rbf</td>\n",
       "      <td>NaN</td>\n",
       "    </tr>\n",
       "    <tr>\n",
       "      <th>21</th>\n",
       "      <td>SVC</td>\n",
       "      <td>0.375</td>\n",
       "      <td>0.439881</td>\n",
       "      <td>0.5</td>\n",
       "      <td>0.0286437</td>\n",
       "      <td>1</td>\n",
       "      <td>0.00215443</td>\n",
       "      <td>rbf</td>\n",
       "      <td>NaN</td>\n",
       "    </tr>\n",
       "    <tr>\n",
       "      <th>36</th>\n",
       "      <td>SVC</td>\n",
       "      <td>0.375</td>\n",
       "      <td>0.439881</td>\n",
       "      <td>0.5</td>\n",
       "      <td>0.0286437</td>\n",
       "      <td>12.9155</td>\n",
       "      <td>1e-06</td>\n",
       "      <td>rbf</td>\n",
       "      <td>NaN</td>\n",
       "    </tr>\n",
       "    <tr>\n",
       "      <th>20</th>\n",
       "      <td>SVC</td>\n",
       "      <td>0.375</td>\n",
       "      <td>0.439881</td>\n",
       "      <td>0.5</td>\n",
       "      <td>0.0286437</td>\n",
       "      <td>1</td>\n",
       "      <td>0.000464159</td>\n",
       "      <td>rbf</td>\n",
       "      <td>NaN</td>\n",
       "    </tr>\n",
       "    <tr>\n",
       "      <th>19</th>\n",
       "      <td>SVC</td>\n",
       "      <td>0.375</td>\n",
       "      <td>0.439881</td>\n",
       "      <td>0.5</td>\n",
       "      <td>0.0286437</td>\n",
       "      <td>1</td>\n",
       "      <td>0.0001</td>\n",
       "      <td>rbf</td>\n",
       "      <td>NaN</td>\n",
       "    </tr>\n",
       "    <tr>\n",
       "      <th>18</th>\n",
       "      <td>SVC</td>\n",
       "      <td>0.375</td>\n",
       "      <td>0.439881</td>\n",
       "      <td>0.5</td>\n",
       "      <td>0.0286437</td>\n",
       "      <td>1</td>\n",
       "      <td>2.15443e-05</td>\n",
       "      <td>rbf</td>\n",
       "      <td>NaN</td>\n",
       "    </tr>\n",
       "    <tr>\n",
       "      <th>17</th>\n",
       "      <td>SVC</td>\n",
       "      <td>0.375</td>\n",
       "      <td>0.439881</td>\n",
       "      <td>0.5</td>\n",
       "      <td>0.0286437</td>\n",
       "      <td>1</td>\n",
       "      <td>4.64159e-06</td>\n",
       "      <td>rbf</td>\n",
       "      <td>NaN</td>\n",
       "    </tr>\n",
       "    <tr>\n",
       "      <th>16</th>\n",
       "      <td>SVC</td>\n",
       "      <td>0.375</td>\n",
       "      <td>0.439881</td>\n",
       "      <td>0.5</td>\n",
       "      <td>0.0286437</td>\n",
       "      <td>1</td>\n",
       "      <td>1e-06</td>\n",
       "      <td>rbf</td>\n",
       "      <td>NaN</td>\n",
       "    </tr>\n",
       "    <tr>\n",
       "      <th>31</th>\n",
       "      <td>SVC</td>\n",
       "      <td>0.375</td>\n",
       "      <td>0.439881</td>\n",
       "      <td>0.5</td>\n",
       "      <td>0.0286437</td>\n",
       "      <td>3.59381</td>\n",
       "      <td>0.00215443</td>\n",
       "      <td>rbf</td>\n",
       "      <td>NaN</td>\n",
       "    </tr>\n",
       "    <tr>\n",
       "      <th>38</th>\n",
       "      <td>SVC</td>\n",
       "      <td>0.375</td>\n",
       "      <td>0.439881</td>\n",
       "      <td>0.5</td>\n",
       "      <td>0.0286437</td>\n",
       "      <td>12.9155</td>\n",
       "      <td>2.15443e-05</td>\n",
       "      <td>rbf</td>\n",
       "      <td>NaN</td>\n",
       "    </tr>\n",
       "    <tr>\n",
       "      <th>37</th>\n",
       "      <td>SVC</td>\n",
       "      <td>0.375</td>\n",
       "      <td>0.439881</td>\n",
       "      <td>0.5</td>\n",
       "      <td>0.0286437</td>\n",
       "      <td>12.9155</td>\n",
       "      <td>4.64159e-06</td>\n",
       "      <td>rbf</td>\n",
       "      <td>NaN</td>\n",
       "    </tr>\n",
       "    <tr>\n",
       "      <th>76</th>\n",
       "      <td>SVC</td>\n",
       "      <td>0.375</td>\n",
       "      <td>0.439881</td>\n",
       "      <td>0.5</td>\n",
       "      <td>0.0286437</td>\n",
       "      <td>2154.43</td>\n",
       "      <td>1e-06</td>\n",
       "      <td>rbf</td>\n",
       "      <td>NaN</td>\n",
       "    </tr>\n",
       "    <tr>\n",
       "      <th>39</th>\n",
       "      <td>SVC</td>\n",
       "      <td>0.375</td>\n",
       "      <td>0.439881</td>\n",
       "      <td>0.5</td>\n",
       "      <td>0.0286437</td>\n",
       "      <td>12.9155</td>\n",
       "      <td>0.0001</td>\n",
       "      <td>rbf</td>\n",
       "      <td>NaN</td>\n",
       "    </tr>\n",
       "    <tr>\n",
       "      <th>40</th>\n",
       "      <td>SVC</td>\n",
       "      <td>0.375</td>\n",
       "      <td>0.439881</td>\n",
       "      <td>0.5</td>\n",
       "      <td>0.0286437</td>\n",
       "      <td>12.9155</td>\n",
       "      <td>0.000464159</td>\n",
       "      <td>rbf</td>\n",
       "      <td>NaN</td>\n",
       "    </tr>\n",
       "    <tr>\n",
       "      <th>46</th>\n",
       "      <td>SVC</td>\n",
       "      <td>0.375</td>\n",
       "      <td>0.439881</td>\n",
       "      <td>0.5</td>\n",
       "      <td>0.0286437</td>\n",
       "      <td>46.4159</td>\n",
       "      <td>1e-06</td>\n",
       "      <td>rbf</td>\n",
       "      <td>NaN</td>\n",
       "    </tr>\n",
       "    <tr>\n",
       "      <th>47</th>\n",
       "      <td>SVC</td>\n",
       "      <td>0.375</td>\n",
       "      <td>0.439881</td>\n",
       "      <td>0.5</td>\n",
       "      <td>0.0286437</td>\n",
       "      <td>46.4159</td>\n",
       "      <td>4.64159e-06</td>\n",
       "      <td>rbf</td>\n",
       "      <td>NaN</td>\n",
       "    </tr>\n",
       "    <tr>\n",
       "      <th>48</th>\n",
       "      <td>SVC</td>\n",
       "      <td>0.375</td>\n",
       "      <td>0.439881</td>\n",
       "      <td>0.5</td>\n",
       "      <td>0.0286437</td>\n",
       "      <td>46.4159</td>\n",
       "      <td>2.15443e-05</td>\n",
       "      <td>rbf</td>\n",
       "      <td>NaN</td>\n",
       "    </tr>\n",
       "    <tr>\n",
       "      <th>49</th>\n",
       "      <td>SVC</td>\n",
       "      <td>0.375</td>\n",
       "      <td>0.439881</td>\n",
       "      <td>0.5</td>\n",
       "      <td>0.0286437</td>\n",
       "      <td>46.4159</td>\n",
       "      <td>0.0001</td>\n",
       "      <td>rbf</td>\n",
       "      <td>NaN</td>\n",
       "    </tr>\n",
       "    <tr>\n",
       "      <th>56</th>\n",
       "      <td>SVC</td>\n",
       "      <td>0.375</td>\n",
       "      <td>0.439881</td>\n",
       "      <td>0.5</td>\n",
       "      <td>0.0286437</td>\n",
       "      <td>166.81</td>\n",
       "      <td>1e-06</td>\n",
       "      <td>rbf</td>\n",
       "      <td>NaN</td>\n",
       "    </tr>\n",
       "    <tr>\n",
       "      <th>57</th>\n",
       "      <td>SVC</td>\n",
       "      <td>0.375</td>\n",
       "      <td>0.439881</td>\n",
       "      <td>0.5</td>\n",
       "      <td>0.0286437</td>\n",
       "      <td>166.81</td>\n",
       "      <td>4.64159e-06</td>\n",
       "      <td>rbf</td>\n",
       "      <td>NaN</td>\n",
       "    </tr>\n",
       "    <tr>\n",
       "      <th>66</th>\n",
       "      <td>SVC</td>\n",
       "      <td>0.375</td>\n",
       "      <td>0.439881</td>\n",
       "      <td>0.5</td>\n",
       "      <td>0.0286437</td>\n",
       "      <td>599.484</td>\n",
       "      <td>1e-06</td>\n",
       "      <td>rbf</td>\n",
       "      <td>NaN</td>\n",
       "    </tr>\n",
       "    <tr>\n",
       "      <th>67</th>\n",
       "      <td>SVC</td>\n",
       "      <td>0.375</td>\n",
       "      <td>0.439881</td>\n",
       "      <td>0.5</td>\n",
       "      <td>0.0286437</td>\n",
       "      <td>599.484</td>\n",
       "      <td>4.64159e-06</td>\n",
       "      <td>rbf</td>\n",
       "      <td>NaN</td>\n",
       "    </tr>\n",
       "    <tr>\n",
       "      <th>86</th>\n",
       "      <td>SVC</td>\n",
       "      <td>0.375</td>\n",
       "      <td>0.439881</td>\n",
       "      <td>0.5</td>\n",
       "      <td>0.0286437</td>\n",
       "      <td>7742.64</td>\n",
       "      <td>1e-06</td>\n",
       "      <td>rbf</td>\n",
       "      <td>NaN</td>\n",
       "    </tr>\n",
       "    <tr>\n",
       "      <th>68</th>\n",
       "      <td>SVC</td>\n",
       "      <td>0.375</td>\n",
       "      <td>0.439881</td>\n",
       "      <td>0.5</td>\n",
       "      <td>0.0286437</td>\n",
       "      <td>599.484</td>\n",
       "      <td>2.15443e-05</td>\n",
       "      <td>rbf</td>\n",
       "      <td>NaN</td>\n",
       "    </tr>\n",
       "    <tr>\n",
       "      <th>58</th>\n",
       "      <td>SVC</td>\n",
       "      <td>0.375</td>\n",
       "      <td>0.439881</td>\n",
       "      <td>0.5</td>\n",
       "      <td>0.0286437</td>\n",
       "      <td>166.81</td>\n",
       "      <td>2.15443e-05</td>\n",
       "      <td>rbf</td>\n",
       "      <td>NaN</td>\n",
       "    </tr>\n",
       "  </tbody>\n",
       "</table>\n",
       "<p>116 rows × 9 columns</p>\n",
       "</div>"
      ],
      "text/plain": [
       "        estimator min_score mean_score max_score  std_score        C  \\\n",
       "71            SVC  0.333333   0.622817  0.857143   0.190713  599.484   \n",
       "7             SVC  0.333333   0.622817  0.857143   0.190713  3.59381   \n",
       "2    RandomForest  0.333333   0.614087  0.857143   0.150201      NaN   \n",
       "62            SVC  0.333333   0.611706  0.857143   0.191071   166.81   \n",
       "80            SVC  0.333333   0.608532  0.857143   0.177519  2154.43   \n",
       "89            SVC  0.333333   0.602976  0.857143   0.165654  7742.64   \n",
       "70            SVC  0.333333   0.601587  0.888889   0.183222  599.484   \n",
       "24            SVC  0.333333   0.590476  0.888889   0.188956        1   \n",
       "60            SVC  0.333333   0.585317         1   0.200727   166.81   \n",
       "97            SVC  0.333333   0.584921  0.857143   0.156976  27825.6   \n",
       "42            SVC  0.333333   0.584921  0.857143   0.156976  12.9155   \n",
       "108           SVC  0.333333   0.583135  0.857143   0.165411   100000   \n",
       "87            SVC  0.333333   0.576587  0.857143   0.165225  7742.64   \n",
       "32            SVC  0.333333   0.576587  0.857143   0.165225  3.59381   \n",
       "98            SVC  0.333333   0.575198  0.857143   0.173868  27825.6   \n",
       "3    RandomForest  0.333333   0.574405  0.777778   0.158753      NaN   \n",
       "1    RandomForest  0.333333   0.574405  0.777778   0.142353      NaN   \n",
       "61            SVC  0.333333    0.57381  0.888889   0.190478   166.81   \n",
       "69            SVC  0.333333   0.572817         1   0.193857  599.484   \n",
       "5    RandomForest  0.333333   0.572024  0.777778   0.180029      NaN   \n",
       "88            SVC  0.333333   0.568254  0.857143   0.156259  7742.64   \n",
       "51            SVC  0.333333   0.568254  0.857143   0.156259  46.4159   \n",
       "79            SVC  0.333333   0.568254  0.857143   0.156259  2154.43   \n",
       "23            SVC  0.333333   0.564087  0.857143   0.156109        1   \n",
       "107           SVC  0.333333   0.562698  0.857143   0.174331   100000   \n",
       "43            SVC  0.333333   0.562698  0.857143   0.174331  12.9155   \n",
       "52            SVC  0.333333   0.562698  0.857143   0.174331  46.4159   \n",
       "6             SVC  0.333333   0.562698  0.857143   0.174331        1   \n",
       "53            SVC  0.333333   0.560913  0.857143   0.188415  46.4159   \n",
       "25            SVC  0.333333   0.558135  0.777778   0.147894        1   \n",
       "..            ...       ...        ...       ...        ...      ...   \n",
       "30            SVC     0.375   0.439881       0.5  0.0286437  3.59381   \n",
       "29            SVC     0.375   0.439881       0.5  0.0286437  3.59381   \n",
       "28            SVC     0.375   0.439881       0.5  0.0286437  3.59381   \n",
       "27            SVC     0.375   0.439881       0.5  0.0286437  3.59381   \n",
       "26            SVC     0.375   0.439881       0.5  0.0286437  3.59381   \n",
       "22            SVC     0.375   0.439881       0.5  0.0286437        1   \n",
       "21            SVC     0.375   0.439881       0.5  0.0286437        1   \n",
       "36            SVC     0.375   0.439881       0.5  0.0286437  12.9155   \n",
       "20            SVC     0.375   0.439881       0.5  0.0286437        1   \n",
       "19            SVC     0.375   0.439881       0.5  0.0286437        1   \n",
       "18            SVC     0.375   0.439881       0.5  0.0286437        1   \n",
       "17            SVC     0.375   0.439881       0.5  0.0286437        1   \n",
       "16            SVC     0.375   0.439881       0.5  0.0286437        1   \n",
       "31            SVC     0.375   0.439881       0.5  0.0286437  3.59381   \n",
       "38            SVC     0.375   0.439881       0.5  0.0286437  12.9155   \n",
       "37            SVC     0.375   0.439881       0.5  0.0286437  12.9155   \n",
       "76            SVC     0.375   0.439881       0.5  0.0286437  2154.43   \n",
       "39            SVC     0.375   0.439881       0.5  0.0286437  12.9155   \n",
       "40            SVC     0.375   0.439881       0.5  0.0286437  12.9155   \n",
       "46            SVC     0.375   0.439881       0.5  0.0286437  46.4159   \n",
       "47            SVC     0.375   0.439881       0.5  0.0286437  46.4159   \n",
       "48            SVC     0.375   0.439881       0.5  0.0286437  46.4159   \n",
       "49            SVC     0.375   0.439881       0.5  0.0286437  46.4159   \n",
       "56            SVC     0.375   0.439881       0.5  0.0286437   166.81   \n",
       "57            SVC     0.375   0.439881       0.5  0.0286437   166.81   \n",
       "66            SVC     0.375   0.439881       0.5  0.0286437  599.484   \n",
       "67            SVC     0.375   0.439881       0.5  0.0286437  599.484   \n",
       "86            SVC     0.375   0.439881       0.5  0.0286437  7742.64   \n",
       "68            SVC     0.375   0.439881       0.5  0.0286437  599.484   \n",
       "58            SVC     0.375   0.439881       0.5  0.0286437   166.81   \n",
       "\n",
       "           gamma  kernel n_estimators  \n",
       "71    0.00215443     rbf          NaN  \n",
       "7            NaN  linear          NaN  \n",
       "2            NaN     NaN           14  \n",
       "62          0.01     rbf          NaN  \n",
       "80   0.000464159     rbf          NaN  \n",
       "89        0.0001     rbf          NaN  \n",
       "70   0.000464159     rbf          NaN  \n",
       "24      0.215443     rbf          NaN  \n",
       "60   0.000464159     rbf          NaN  \n",
       "97   4.64159e-06     rbf          NaN  \n",
       "42          0.01     rbf          NaN  \n",
       "108  2.15443e-05     rbf          NaN  \n",
       "87   4.64159e-06     rbf          NaN  \n",
       "32          0.01     rbf          NaN  \n",
       "98   2.15443e-05     rbf          NaN  \n",
       "3            NaN     NaN           16  \n",
       "1            NaN     NaN           12  \n",
       "61    0.00215443     rbf          NaN  \n",
       "69        0.0001     rbf          NaN  \n",
       "5            NaN     NaN           20  \n",
       "88   2.15443e-05     rbf          NaN  \n",
       "51    0.00215443     rbf          NaN  \n",
       "79        0.0001     rbf          NaN  \n",
       "23     0.0464159     rbf          NaN  \n",
       "107  4.64159e-06     rbf          NaN  \n",
       "43     0.0464159     rbf          NaN  \n",
       "52          0.01     rbf          NaN  \n",
       "6            NaN  linear          NaN  \n",
       "53     0.0464159     rbf          NaN  \n",
       "25             1     rbf          NaN  \n",
       "..           ...     ...          ...  \n",
       "30   0.000464159     rbf          NaN  \n",
       "29        0.0001     rbf          NaN  \n",
       "28   2.15443e-05     rbf          NaN  \n",
       "27   4.64159e-06     rbf          NaN  \n",
       "26         1e-06     rbf          NaN  \n",
       "22          0.01     rbf          NaN  \n",
       "21    0.00215443     rbf          NaN  \n",
       "36         1e-06     rbf          NaN  \n",
       "20   0.000464159     rbf          NaN  \n",
       "19        0.0001     rbf          NaN  \n",
       "18   2.15443e-05     rbf          NaN  \n",
       "17   4.64159e-06     rbf          NaN  \n",
       "16         1e-06     rbf          NaN  \n",
       "31    0.00215443     rbf          NaN  \n",
       "38   2.15443e-05     rbf          NaN  \n",
       "37   4.64159e-06     rbf          NaN  \n",
       "76         1e-06     rbf          NaN  \n",
       "39        0.0001     rbf          NaN  \n",
       "40   0.000464159     rbf          NaN  \n",
       "46         1e-06     rbf          NaN  \n",
       "47   4.64159e-06     rbf          NaN  \n",
       "48   2.15443e-05     rbf          NaN  \n",
       "49        0.0001     rbf          NaN  \n",
       "56         1e-06     rbf          NaN  \n",
       "57   4.64159e-06     rbf          NaN  \n",
       "66         1e-06     rbf          NaN  \n",
       "67   4.64159e-06     rbf          NaN  \n",
       "86         1e-06     rbf          NaN  \n",
       "68   2.15443e-05     rbf          NaN  \n",
       "58   2.15443e-05     rbf          NaN  \n",
       "\n",
       "[116 rows x 9 columns]"
      ]
     },
     "execution_count": 119,
     "metadata": {},
     "output_type": "execute_result"
    }
   ],
   "source": [
    "# Compare performance for estimators (accuracy)\n",
    "# Function features only\n",
    "helper.score_summary(sort_by='mean_score')"
   ]
  },
  {
   "cell_type": "markdown",
   "metadata": {
    "ExecuteTime": {
     "end_time": "2018-10-22T17:34:55.421515Z",
     "start_time": "2018-10-22T17:34:55.417186Z"
    },
    "collapsed": true
   },
   "source": [
    "## Essentially leave one out cross validation, slight biases, might be overfitting"
   ]
  },
  {
   "cell_type": "markdown",
   "metadata": {
    "collapsed": true
   },
   "source": [
    "This runs just the ENM data using an SVC, optimizing parameters with a grid search using cross-validation."
   ]
  },
  {
   "cell_type": "code",
   "execution_count": 154,
   "metadata": {
    "ExecuteTime": {
     "end_time": "2019-01-10T20:51:47.577796Z",
     "start_time": "2019-01-10T20:51:40.856798Z"
    }
   },
   "outputs": [
    {
     "name": "stdout",
     "output_type": "stream",
     "text": [
      "{'estimator__C': 127.42749857031335, 'estimator__gamma': 0.00615848211066026}\n",
      "0.6219512195121951\n",
      "accuracy\n"
     ]
    },
    {
     "data": {
      "text/html": [
       "\n",
       "                <audio controls=\"controls\" autoplay=\"autoplay\">\n",
       "                    <source src=\"./data/Glass.wav\" type=\"audio/x-wav\" />\n",
       "                    Your browser does not support the audio element.\n",
       "                </audio>\n",
       "              "
      ],
      "text/plain": [
       "<IPython.lib.display.Audio object>"
      ]
     },
     "execution_count": 154,
     "metadata": {},
     "output_type": "execute_result"
    }
   ],
   "source": [
    "# SVR-RBF with all features, normalized\n",
    "    # ENM weight fractions\n",
    "    # Accuracy\n",
    "\n",
    "from sklearn.pipeline import Pipeline\n",
    "from sklearn.model_selection import GridSearchCV\n",
    "from sklearn.preprocessing import MinMaxScaler\n",
    "from sklearn.svm import SVC\n",
    "\n",
    "# Pipeline\n",
    "estimator = SVC(kernel='rbf',class_weight='balanced')\n",
    "prepipe = Pipeline([\n",
    "    ('scale', MinMaxScaler()),\n",
    "    ('estimator', estimator)\n",
    "])\n",
    "\n",
    "# Set parameter ranges for gridsearch\n",
    "cv=10\n",
    "n_jobs=3\n",
    "c_set=np.logspace(0,5,20)\n",
    "gamma_set=np.logspace(-6,0,20)\n",
    "\n",
    "# Gridsearch\n",
    "param_grid={'estimator__C': c_set,\n",
    "            'estimator__gamma': gamma_set\n",
    "           }\n",
    "grid_search=GridSearchCV(prepipe,param_grid,cv=cv,scoring='accuracy', n_jobs=n_jobs, pre_dispatch=2*n_jobs)\n",
    "grid_search.fit(X_enm+0.00001,bin_enm)\n",
    "print(grid_search.best_params_)\n",
    "print(grid_search.best_score_)\n",
    "print(grid_search.scoring)\n",
    "\n",
    "# Play sound when done running\n",
    "Audio(url=sound_file, autoplay=True)"
   ]
  },
  {
   "cell_type": "code",
   "execution_count": 155,
   "metadata": {
    "ExecuteTime": {
     "end_time": "2019-01-10T20:52:07.025898Z",
     "start_time": "2019-01-10T20:52:07.008297Z"
    },
    "collapsed": true
   },
   "outputs": [],
   "source": [
    "# Final pipeline\n",
    "bestpipe = Pipeline([\n",
    "    ('scale', MinMaxScaler()),\n",
    "    ('estimator', SVC(kernel='rbf',class_weight='balanced', \n",
    "                      C=127.42749857031335, \n",
    "                      gamma=0.00615848211066026))\n",
    "     ])"
   ]
  },
  {
   "cell_type": "code",
   "execution_count": 156,
   "metadata": {
    "ExecuteTime": {
     "end_time": "2019-01-10T20:52:14.603159Z",
     "start_time": "2019-01-10T20:52:14.546614Z"
    },
    "collapsed": true
   },
   "outputs": [],
   "source": [
    "# Make a confusion matrix function to summarize accuracy across labels\n",
    "from sklearn.metrics import confusion_matrix\n",
    "import itertools\n",
    "\n",
    "def plot_confusion_matrix(cm, classes,\n",
    "                          normalize=False,\n",
    "                          title='Confusion matrix',\n",
    "                          cmap=plt.cm.Blues):\n",
    "    \"\"\"\n",
    "    This function prints and plots the confusion matrix.\n",
    "    Normalization can be applied by setting `normalize=True`.\n",
    "    \"\"\"\n",
    "    if normalize:\n",
    "        cm = cm.astype('float') / cm.sum(axis=1)[:, np.newaxis]\n",
    "        print(\"Normalized confusion matrix\")\n",
    "    else:\n",
    "        print('Confusion matrix, without normalization')\n",
    "\n",
    "    print(cm)\n",
    "\n",
    "    plt.imshow(cm, interpolation='nearest', cmap=cmap)\n",
    "    plt.title(title)\n",
    "    plt.colorbar()\n",
    "    tick_marks = np.arange(len(classes))\n",
    "    plt.xticks(tick_marks, classes, rotation=45)\n",
    "    plt.yticks(tick_marks, classes)\n",
    "\n",
    "    fmt = '.2f' if normalize else 'd'\n",
    "    thresh = cm.max() / 2.\n",
    "    for i, j in itertools.product(range(cm.shape[0]), range(cm.shape[1])):\n",
    "        plt.text(j, i, format(cm[i, j], fmt),\n",
    "                 horizontalalignment=\"center\",\n",
    "                 color=\"white\" if cm[i, j] > thresh else \"black\")\n",
    "    plt.tight_layout()\n",
    "    plt.ylabel('True label')\n",
    "    plt.xlabel('Predicted label')"
   ]
  },
  {
   "cell_type": "code",
   "execution_count": 157,
   "metadata": {
    "ExecuteTime": {
     "end_time": "2019-01-10T20:52:16.699162Z",
     "start_time": "2019-01-10T20:52:16.176454Z"
    }
   },
   "outputs": [
    {
     "name": "stdout",
     "output_type": "stream",
     "text": [
      "Confusion matrix, without normalization\n",
      "[[29  3  4]\n",
      " [10 15  4]\n",
      " [ 4  2 11]]\n",
      "Normalized confusion matrix\n",
      "[[0.81 0.08 0.11]\n",
      " [0.34 0.52 0.14]\n",
      " [0.24 0.12 0.65]]\n"
     ]
    },
    {
     "data": {
      "image/png": "[encoded data removed]",
      "text/plain": [
       "<Figure size 432x288 with 2 Axes>"
      ]
     },
     "metadata": {},
     "output_type": "display_data"
    },
    {
     "data": {
      "image/png": "[encoded data removed]",
      "text/plain": [
       "<Figure size 432x288 with 2 Axes>"
      ]
     },
     "metadata": {},
     "output_type": "display_data"
    }
   ],
   "source": [
    "# Cross-validation for confusion matrix\n",
    "from sklearn import model_selection\n",
    "\n",
    "X=np.array(X_enm)\n",
    "y=np.array(bin_enm)\n",
    "\n",
    "kfold = model_selection.StratifiedKFold(n_splits=17,shuffle=True, random_state=24)\n",
    "cnf_matrix2=np.zeros([3,3])\n",
    "\n",
    "for train_index,test_index in kfold.split(X,y):\n",
    "    X_train, X_test = X[train_index], X[test_index]\n",
    "    y_train, y_test = y[train_index], y[test_index]\n",
    "    bestpipe.fit(X_train,y_train)\n",
    "    y_enm_predict=bestpipe.predict(X_test)\n",
    "    y[test_index]=y_enm_predict\n",
    "    cnf_matrix2+= confusion_matrix(y_test, y_enm_predict);\n",
    "    \n",
    "# Set confusion matrix\n",
    "cnf_matrix=cnf_matrix2.astype(np.int)\n",
    "cnf_matrix = confusion_matrix(bin_enm, y)\n",
    "\n",
    "np.set_printoptions(precision=2)\n",
    "class_names=[\"low\",\"mid\",\"high\"]\n",
    "\n",
    "# Plot non-normalized confusion matrix\n",
    "fig = plt.figure()\n",
    "plot_confusion_matrix(cnf_matrix, classes=class_names,\n",
    "                      title='Confusion matrix, without normalization')\n",
    "fig.savefig('./BLTfigs/confusion_notnorm_enm_only.png')\n",
    "\n",
    "# Plot normalized confusion matrix\n",
    "fig = plt.figure()\n",
    "plot_confusion_matrix(cnf_matrix, classes=class_names, normalize=True,\n",
    "                      title='Normalized confusion matrix')\n",
    "fig.savefig('./BLTfigs/confusion_norm_enm_only.png')\n",
    "plt.show()"
   ]
  },
  {
   "cell_type": "code",
   "execution_count": 158,
   "metadata": {
    "ExecuteTime": {
     "end_time": "2019-01-10T20:52:20.198871Z",
     "start_time": "2019-01-10T20:52:20.165374Z"
    }
   },
   "outputs": [
    {
     "data": {
      "text/plain": [
       "0.6566185861317707"
      ]
     },
     "execution_count": 158,
     "metadata": {},
     "output_type": "execute_result"
    }
   ],
   "source": [
    "# Calculate the normalized average accuracy\n",
    "# for use in a graph of augmentation performance\n",
    "cm_norm = cnf_matrix.astype('float') / cnf_matrix.sum(axis=1)[:, np.newaxis]\n",
    "avg_norm_enm = (cm_norm[0,0]+cm_norm[1,1]+cm_norm[2,2])/3\n",
    "avg_norm_enm"
   ]
  },
  {
   "cell_type": "markdown",
   "metadata": {
    "collapsed": true
   },
   "source": [
    "## 1:200 ENM-organics data"
   ]
  },
  {
   "cell_type": "code",
   "execution_count": 84,
   "metadata": {
    "ExecuteTime": {
     "end_time": "2018-12-14T11:30:39.209058Z",
     "start_time": "2018-12-14T09:31:06.361131Z"
    }
   },
   "outputs": [
    {
     "name": "stdout",
     "output_type": "stream",
     "text": [
      "{'estimator__C': 6.309573444801933, 'estimator__gamma': 1e-05}\n",
      "0.49202969092236554\n"
     ]
    },
    {
     "data": {
      "text/html": [
       "\n",
       "                <audio controls=\"controls\" autoplay=\"autoplay\">\n",
       "                    <source src=\"./data/Glass.wav\" type=\"audio/x-wav\" />\n",
       "                    Your browser does not support the audio element.\n",
       "                </audio>\n",
       "              "
      ],
      "text/plain": [
       "<IPython.lib.display.Audio object>"
      ]
     },
     "execution_count": 84,
     "metadata": {},
     "output_type": "execute_result"
    }
   ],
   "source": [
    "# TODO: Rerun with gamma_set=np.logspace(-6,0,6)\n",
    "# SVC-RBF with all features, normalized\n",
    "    # ENM weight fractions\n",
    "    # Accuracy\n",
    "\n",
    "from sklearn.pipeline import Pipeline\n",
    "from sklearn.model_selection import GridSearchCV\n",
    "from sklearn.preprocessing import MinMaxScaler\n",
    "from sklearn.svm import SVC\n",
    "\n",
    "# Pipeline\n",
    "estimator = SVC(kernel='rbf',class_weight='balanced')\n",
    "prepipe = Pipeline([\n",
    "    ('scale', MinMaxScaler()),\n",
    "    ('estimator', estimator)\n",
    "])\n",
    "\n",
    "# Set parameter ranges for gridsearch\n",
    "cv=10\n",
    "n_jobs=3\n",
    "c_set=np.logspace(0,4,6)\n",
    "gamma_set=np.logspace(-5,0,6)\n",
    "\n",
    "# Gridsearch\n",
    "param_grid={'estimator__C': c_set,\n",
    "            'estimator__gamma': gamma_set\n",
    "           }\n",
    "grid_search=GridSearchCV(prepipe,param_grid,cv=cv,scoring='accuracy', n_jobs=n_jobs, pre_dispatch=2*n_jobs)\n",
    "grid_search.fit(X_all+0.00001,bin_all)\n",
    "print(grid_search.best_params_)\n",
    "print(grid_search.best_score_)\n",
    "\n",
    "# Play sound when done running\n",
    "Audio(url=sound_file, autoplay=True)"
   ]
  },
  {
   "cell_type": "code",
   "execution_count": 160,
   "metadata": {
    "ExecuteTime": {
     "end_time": "2018-12-14T20:35:52.286024Z",
     "start_time": "2018-12-14T20:35:19.671922Z"
    }
   },
   "outputs": [
    {
     "data": {
      "text/plain": [
       "Pipeline(memory=None,\n",
       "     steps=[('scale', MinMaxScaler(copy=True, feature_range=(0, 1))), ('estimator', SVC(C=6.309573444801933, cache_size=200, class_weight='balanced', coef0=0.0,\n",
       "  decision_function_shape='ovr', degree=3, gamma=1e-05, kernel='rbf',\n",
       "  max_iter=-1, probability=False, random_state=None, shrinking=True,\n",
       "  tol=0.001, verbose=False))])"
      ]
     },
     "execution_count": 160,
     "metadata": {},
     "output_type": "execute_result"
    }
   ],
   "source": [
    "# Final pipeline\n",
    "bestpipe = Pipeline([\n",
    "    ('scale', MinMaxScaler()),\n",
    "    ('estimator', SVC(kernel='rbf',class_weight='balanced', \n",
    "                      C=6.309573444801933, \n",
    "                      gamma=1e-05))\n",
    "     ])\n",
    "bestpipe.fit(X_all,bin_all)"
   ]
  },
  {
   "cell_type": "code",
   "execution_count": 161,
   "metadata": {
    "ExecuteTime": {
     "end_time": "2018-12-14T20:36:41.798948Z",
     "start_time": "2018-12-14T20:36:41.419290Z"
    }
   },
   "outputs": [
    {
     "name": "stdout",
     "output_type": "stream",
     "text": [
      "Confusion matrix, without normalization\n",
      "[[ 6 15 15]\n",
      " [ 5 11 13]\n",
      " [ 4  7  6]]\n",
      "Normalized confusion matrix\n",
      "[[0.17 0.42 0.42]\n",
      " [0.17 0.38 0.45]\n",
      " [0.24 0.41 0.35]]\n"
     ]
    },
    {
     "data": {
      "image/png": "[encoded data removed]",
      "text/plain": [
       "<Figure size 432x288 with 2 Axes>"
      ]
     },
     "metadata": {},
     "output_type": "display_data"
    },
    {
     "data": {
      "image/png": "[encoded data removed]",
      "text/plain": [
       "<Figure size 432x288 with 2 Axes>"
      ]
     },
     "metadata": {},
     "output_type": "display_data"
    }
   ],
   "source": [
    "# Cross-validation for confusion matrix\n",
    "from sklearn import model_selection\n",
    "\n",
    "X=np.array(X_enm)\n",
    "y=np.array(bin_enm)\n",
    "\n",
    "kfold = model_selection.StratifiedKFold(n_splits=17,shuffle=True, random_state=24)\n",
    "cnf_matrix2=np.zeros([3,3])\n",
    "\n",
    "for train_index,test_index in kfold.split(X,y):\n",
    "    X_train, X_test = X[train_index], X[test_index]\n",
    "    y_train, y_test = y[train_index], y[test_index]\n",
    "    bestpipe.fit(X_train,y_train)\n",
    "    y_enm_predict=bestpipe.predict(X_test)\n",
    "    y[test_index]=y_enm_predict\n",
    "    cnf_matrix2+= confusion_matrix(y_test, y_enm_predict);\n",
    "    \n",
    "# Set confusion matrix\n",
    "cnf_matrix=cnf_matrix2.astype(np.int)\n",
    "cnf_matrix = confusion_matrix(bin_enm, y)\n",
    "\n",
    "np.set_printoptions(precision=2)\n",
    "class_names=[\"low\",\"mid\",\"high\"]\n",
    "\n",
    "# Plot non-normalized confusion matrix\n",
    "fig = plt.figure()\n",
    "plot_confusion_matrix(cnf_matrix, classes=class_names,\n",
    "                      title='Confusion matrix, without normalization')\n",
    "fig.savefig('./BLTfigs/confusion_notnorm_mix_200.png')\n",
    "\n",
    "# Plot normalized confusion matrix\n",
    "fig = plt.figure()\n",
    "plot_confusion_matrix(cnf_matrix, classes=class_names, normalize=True,\n",
    "                      title='Normalized confusion matrix')\n",
    "fig.savefig('./BLTfigs/confusion_norm_mix_200.png')\n",
    "plt.show()"
   ]
  },
  {
   "cell_type": "code",
   "execution_count": 124,
   "metadata": {
    "ExecuteTime": {
     "end_time": "2019-01-10T19:49:54.922820Z",
     "start_time": "2019-01-10T19:49:54.890542Z"
    }
   },
   "outputs": [
    {
     "data": {
      "text/plain": [
       "0.3"
      ]
     },
     "execution_count": 124,
     "metadata": {},
     "output_type": "execute_result"
    }
   ],
   "source": [
    "# Calculate the normalized average accuracy\n",
    "# for use in a graph of augmentation performance\n",
    "avg_norm_oneto200 = (0.17+0.38+0.35)/3\n",
    "avg_norm_oneto200"
   ]
  },
  {
   "cell_type": "markdown",
   "metadata": {},
   "source": [
    "## 1:100 ENM-organics data"
   ]
  },
  {
   "cell_type": "code",
   "execution_count": 174,
   "metadata": {
    "ExecuteTime": {
     "end_time": "2019-01-11T22:53:40.037156Z",
     "start_time": "2019-01-11T22:09:34.558069Z"
    }
   },
   "outputs": [
    {
     "name": "stdout",
     "output_type": "stream",
     "text": [
      "{'estimator__C': 100000.0, 'estimator__gamma': 1.0}\n",
      "0.7436609514609998\n"
     ]
    },
    {
     "data": {
      "text/html": [
       "\n",
       "                <audio controls=\"controls\" autoplay=\"autoplay\">\n",
       "                    <source src=\"./data/Glass.wav\" type=\"audio/x-wav\" />\n",
       "                    Your browser does not support the audio element.\n",
       "                </audio>\n",
       "              "
      ],
      "text/plain": [
       "<IPython.lib.display.Audio object>"
      ]
     },
     "execution_count": 174,
     "metadata": {},
     "output_type": "execute_result"
    }
   ],
   "source": [
    "# SVC-RBF with all features, normalized\n",
    "    # ENM weight fractions\n",
    "    # Accuracy\n",
    "\n",
    "from sklearn.pipeline import Pipeline\n",
    "from sklearn.model_selection import GridSearchCV\n",
    "from sklearn.preprocessing import MinMaxScaler\n",
    "from sklearn.svm import SVC\n",
    "\n",
    "# Pipeline\n",
    "estimator = SVC(kernel='rbf',class_weight='balanced')\n",
    "prepipe = Pipeline([\n",
    "    ('scale', MinMaxScaler()),\n",
    "    ('estimator', estimator)\n",
    "])\n",
    "\n",
    "# Set parameter ranges for gridsearch\n",
    "cv=10\n",
    "n_jobs=3\n",
    "c_set=np.logspace(1,5,6)\n",
    "gamma_set=np.logspace(-6,0,6)\n",
    "\n",
    "# Gridsearch\n",
    "param_grid={'estimator__C': c_set,\n",
    "            'estimator__gamma': gamma_set\n",
    "           }\n",
    "grid_search=GridSearchCV(prepipe,param_grid,cv=cv,scoring='accuracy', n_jobs=n_jobs, pre_dispatch=2*n_jobs)\n",
    "grid_search.fit(X_oneto100+0.00001,bin_oneto100)\n",
    "print(grid_search.best_params_)\n",
    "print(grid_search.best_score_)\n",
    "\n",
    "# Play sound when done running\n",
    "Audio(url=sound_file, autoplay=True)"
   ]
  },
  {
   "cell_type": "code",
   "execution_count": 175,
   "metadata": {
    "ExecuteTime": {
     "end_time": "2019-01-11T23:08:52.186805Z",
     "start_time": "2019-01-11T23:08:22.990763Z"
    }
   },
   "outputs": [
    {
     "data": {
      "text/plain": [
       "Pipeline(memory=None,\n",
       "     steps=[('scale', MinMaxScaler(copy=True, feature_range=(0, 1))), ('estimator', SVC(C=100000.0, cache_size=200, class_weight='balanced', coef0=0.0,\n",
       "  decision_function_shape='ovr', degree=3, gamma=1.0, kernel='rbf',\n",
       "  max_iter=-1, probability=False, random_state=None, shrinking=True,\n",
       "  tol=0.001, verbose=False))])"
      ]
     },
     "execution_count": 175,
     "metadata": {},
     "output_type": "execute_result"
    }
   ],
   "source": [
    "# Final pipeline\n",
    "bestpipe = Pipeline([\n",
    "    ('scale', MinMaxScaler()),\n",
    "    ('estimator', SVC(kernel='rbf',class_weight='balanced', \n",
    "                      C=100000.0, \n",
    "                      gamma=1.0))\n",
    "     ])\n",
    "bestpipe.fit(X_oneto100,bin_oneto100)"
   ]
  },
  {
   "cell_type": "code",
   "execution_count": 176,
   "metadata": {
    "ExecuteTime": {
     "end_time": "2019-01-11T23:09:13.487565Z",
     "start_time": "2019-01-11T23:09:12.850203Z"
    }
   },
   "outputs": [
    {
     "name": "stdout",
     "output_type": "stream",
     "text": [
      "Confusion matrix, without normalization\n",
      "[[22 11  3]\n",
      " [ 7 19  3]\n",
      " [10  3  4]]\n",
      "Normalized confusion matrix\n",
      "[[0.61 0.31 0.08]\n",
      " [0.24 0.66 0.1 ]\n",
      " [0.59 0.18 0.24]]\n"
     ]
    },
    {
     "data": {
      "image/png": "[encoded data removed]",
      "text/plain": [
       "<Figure size 432x288 with 2 Axes>"
      ]
     },
     "metadata": {},
     "output_type": "display_data"
    },
    {
     "data": {
      "image/png": "[encoded data removed]",
      "text/plain": [
       "<Figure size 432x288 with 2 Axes>"
      ]
     },
     "metadata": {},
     "output_type": "display_data"
    }
   ],
   "source": [
    "# Cross-validation for confusion matrix\n",
    "from sklearn import model_selection\n",
    "\n",
    "X=np.array(X_enm)\n",
    "y=np.array(bin_enm)\n",
    "\n",
    "kfold = model_selection.StratifiedKFold(n_splits=17,shuffle=True, random_state=24)\n",
    "cnf_matrix2=np.zeros([3,3])\n",
    "\n",
    "for train_index,test_index in kfold.split(X,y):\n",
    "    X_train, X_test = X[train_index], X[test_index]\n",
    "    y_train, y_test = y[train_index], y[test_index]\n",
    "    bestpipe.fit(X_train,y_train)\n",
    "    y_enm_predict=bestpipe.predict(X_test)\n",
    "    y[test_index]=y_enm_predict\n",
    "    cnf_matrix2+= confusion_matrix(y_test, y_enm_predict);\n",
    "    \n",
    "# Set confusion matrix\n",
    "cnf_matrix=cnf_matrix2.astype(np.int)\n",
    "cnf_matrix = confusion_matrix(bin_enm, y)\n",
    "\n",
    "np.set_printoptions(precision=2)\n",
    "class_names=[\"low\",\"mid\",\"high\"]\n",
    "\n",
    "# Plot non-normalized confusion matrix\n",
    "fig = plt.figure()\n",
    "plot_confusion_matrix(cnf_matrix, classes=class_names,\n",
    "                      title='Confusion matrix, without normalization')\n",
    "fig.savefig('./BLTfigs/confusion_notnorm_mix_100.png')\n",
    "\n",
    "# Plot normalized confusion matrix\n",
    "fig = plt.figure()\n",
    "plot_confusion_matrix(cnf_matrix, classes=class_names, normalize=True,\n",
    "                      title='Normalized confusion matrix')\n",
    "fig.savefig('./BLTfigs/confusion_norm_mix_100.png')\n",
    "plt.show()"
   ]
  },
  {
   "cell_type": "code",
   "execution_count": 177,
   "metadata": {
    "ExecuteTime": {
     "end_time": "2019-01-11T23:09:28.817606Z",
     "start_time": "2019-01-11T23:09:28.795371Z"
    }
   },
   "outputs": [
    {
     "data": {
      "text/plain": [
       "0.5033333333333333"
      ]
     },
     "execution_count": 177,
     "metadata": {},
     "output_type": "execute_result"
    }
   ],
   "source": [
    "# Calculate the normalized average accuracy\n",
    "# for use in a graph of augmentation performance\n",
    "avg_norm_oneto200 = (0.61+0.66+0.24)/3\n",
    "avg_norm_oneto200"
   ]
  },
  {
   "cell_type": "markdown",
   "metadata": {},
   "source": [
    "## 1:50 ENM-organics data"
   ]
  },
  {
   "cell_type": "code",
   "execution_count": 178,
   "metadata": {
    "ExecuteTime": {
     "end_time": "2019-01-11T23:31:12.305555Z",
     "start_time": "2019-01-11T23:10:00.419367Z"
    }
   },
   "outputs": [
    {
     "name": "stdout",
     "output_type": "stream",
     "text": [
      "{'estimator__C': 100000.0, 'estimator__gamma': 1.0}\n",
      "0.742467718794835\n"
     ]
    },
    {
     "data": {
      "text/html": [
       "\n",
       "                <audio controls=\"controls\" autoplay=\"autoplay\">\n",
       "                    <source src=\"./data/Glass.wav\" type=\"audio/x-wav\" />\n",
       "                    Your browser does not support the audio element.\n",
       "                </audio>\n",
       "              "
      ],
      "text/plain": [
       "<IPython.lib.display.Audio object>"
      ]
     },
     "execution_count": 178,
     "metadata": {},
     "output_type": "execute_result"
    }
   ],
   "source": [
    "# TODO: Run with parameter matrix 16x16\n",
    "\n",
    "# SVC-RBF with all features, normalized\n",
    "    # ENM weight fractions\n",
    "    # Accuracy\n",
    "\n",
    "from sklearn.pipeline import Pipeline\n",
    "from sklearn.model_selection import GridSearchCV\n",
    "from sklearn.preprocessing import MinMaxScaler\n",
    "from sklearn.svm import SVC\n",
    "\n",
    "# Pipeline\n",
    "estimator = SVC(kernel='rbf',class_weight='balanced')\n",
    "prepipe = Pipeline([\n",
    "    ('scale', MinMaxScaler()),\n",
    "    ('estimator', estimator)\n",
    "])\n",
    "\n",
    "# Set parameter ranges for gridsearch\n",
    "cv=10\n",
    "n_jobs=3\n",
    "c_set=np.logspace(1,5,10)\n",
    "gamma_set=np.logspace(-6,0,10)\n",
    "\n",
    "# Gridsearch\n",
    "param_grid={'estimator__C': c_set,\n",
    "            'estimator__gamma': gamma_set\n",
    "           }\n",
    "grid_search=GridSearchCV(prepipe,param_grid,cv=cv,scoring='accuracy', n_jobs=n_jobs, pre_dispatch=2*n_jobs)\n",
    "grid_search.fit(X_oneto50+0.00001,bin_oneto50)\n",
    "print(grid_search.best_params_)\n",
    "print(grid_search.best_score_)\n",
    "\n",
    "# Play sound when done running\n",
    "Audio(url=sound_file, autoplay=True)"
   ]
  },
  {
   "cell_type": "code",
   "execution_count": 179,
   "metadata": {
    "ExecuteTime": {
     "end_time": "2019-01-11T23:34:28.512179Z",
     "start_time": "2019-01-11T23:34:25.247534Z"
    }
   },
   "outputs": [
    {
     "data": {
      "text/plain": [
       "Pipeline(memory=None,\n",
       "     steps=[('scale', MinMaxScaler(copy=True, feature_range=(0, 1))), ('estimator', SVC(C=100000.0, cache_size=200, class_weight='balanced', coef0=0.0,\n",
       "  decision_function_shape='ovr', degree=3, gamma=1.0, kernel='rbf',\n",
       "  max_iter=-1, probability=False, random_state=None, shrinking=True,\n",
       "  tol=0.001, verbose=False))])"
      ]
     },
     "execution_count": 179,
     "metadata": {},
     "output_type": "execute_result"
    }
   ],
   "source": [
    "# Final pipeline\n",
    "bestpipe = Pipeline([\n",
    "    ('scale', MinMaxScaler()),\n",
    "    ('estimator', SVC(kernel='rbf',class_weight='balanced', \n",
    "                      C=100000.0, \n",
    "                      gamma=1.0))\n",
    "     ])\n",
    "bestpipe.fit(X_oneto50,bin_oneto50)"
   ]
  },
  {
   "cell_type": "code",
   "execution_count": 180,
   "metadata": {
    "ExecuteTime": {
     "end_time": "2019-01-11T23:34:31.812619Z",
     "start_time": "2019-01-11T23:34:31.326282Z"
    }
   },
   "outputs": [
    {
     "name": "stdout",
     "output_type": "stream",
     "text": [
      "Confusion matrix, without normalization\n",
      "[[22 11  3]\n",
      " [ 7 19  3]\n",
      " [10  3  4]]\n",
      "Normalized confusion matrix\n",
      "[[0.61 0.31 0.08]\n",
      " [0.24 0.66 0.1 ]\n",
      " [0.59 0.18 0.24]]\n"
     ]
    },
    {
     "data": {
      "image/png": "[encoded data removed]",
      "text/plain": [
       "<Figure size 432x288 with 2 Axes>"
      ]
     },
     "metadata": {},
     "output_type": "display_data"
    },
    {
     "data": {
      "image/png": "[encoded data removed]",
      "text/plain": [
       "<Figure size 432x288 with 2 Axes>"
      ]
     },
     "metadata": {},
     "output_type": "display_data"
    }
   ],
   "source": [
    "# Cross-validation for confusion matrix\n",
    "from sklearn import model_selection\n",
    "\n",
    "X=np.array(X_enm)\n",
    "y=np.array(bin_enm)\n",
    "\n",
    "kfold = model_selection.StratifiedKFold(n_splits=17,shuffle=True, random_state=24)\n",
    "cnf_matrix2=np.zeros([3,3])\n",
    "\n",
    "for train_index,test_index in kfold.split(X,y):\n",
    "    X_train, X_test = X[train_index], X[test_index]\n",
    "    y_train, y_test = y[train_index], y[test_index]\n",
    "    bestpipe.fit(X_train,y_train)\n",
    "    y_enm_predict=bestpipe.predict(X_test)\n",
    "    y[test_index]=y_enm_predict\n",
    "    cnf_matrix2+= confusion_matrix(y_test, y_enm_predict);\n",
    "    \n",
    "# Set confusion matrix\n",
    "cnf_matrix=cnf_matrix2.astype(np.int)\n",
    "cnf_matrix = confusion_matrix(bin_enm, y)\n",
    "\n",
    "np.set_printoptions(precision=2)\n",
    "class_names=[\"low\",\"mid\",\"high\"]\n",
    "\n",
    "# Plot non-normalized confusion matrix\n",
    "fig = plt.figure()\n",
    "plot_confusion_matrix(cnf_matrix, classes=class_names,\n",
    "                      title='Confusion matrix, without normalization')\n",
    "fig.savefig('./BLTfigs/confusion_notnorm_mix_50.png')\n",
    "\n",
    "# Plot normalized confusion matrix\n",
    "fig = plt.figure()\n",
    "plot_confusion_matrix(cnf_matrix, classes=class_names, normalize=True,\n",
    "                      title='Normalized confusion matrix')\n",
    "fig.savefig('./BLTfigs/confusion_norm_mix_50.png')\n",
    "plt.show()"
   ]
  },
  {
   "cell_type": "code",
   "execution_count": 181,
   "metadata": {
    "ExecuteTime": {
     "end_time": "2019-01-11T23:34:37.727283Z",
     "start_time": "2019-01-11T23:34:37.703606Z"
    }
   },
   "outputs": [
    {
     "data": {
      "text/plain": [
       "0.5005258808504245"
      ]
     },
     "execution_count": 181,
     "metadata": {},
     "output_type": "execute_result"
    }
   ],
   "source": [
    "# Calculate the normalized average accuracy\n",
    "# for use in a graph of augmentation performance\n",
    "cm_norm = cnf_matrix.astype('float') / cnf_matrix.sum(axis=1)[:, np.newaxis]\n",
    "avg_norm_oneto50 = (cm_norm[0,0]+cm_norm[1,1]+cm_norm[2,2])/3\n",
    "avg_norm_oneto50"
   ]
  },
  {
   "cell_type": "markdown",
   "metadata": {},
   "source": [
    "## 1:20 ENM-organics data"
   ]
  },
  {
   "cell_type": "markdown",
   "metadata": {},
   "source": [
    "Ran with a slightly larger parameter grid for optimizing."
   ]
  },
  {
   "cell_type": "code",
   "execution_count": 72,
   "metadata": {
    "ExecuteTime": {
     "end_time": "2018-12-17T23:48:32.702548Z",
     "start_time": "2018-12-17T23:42:57.931682Z"
    }
   },
   "outputs": [
    {
     "name": "stdout",
     "output_type": "stream",
     "text": [
      "{'estimator__C': 5411.6952654646375, 'estimator__gamma': 1.0}\n",
      "0.6951219512195121\n"
     ]
    },
    {
     "data": {
      "text/html": [
       "\n",
       "                <audio controls=\"controls\" autoplay=\"autoplay\">\n",
       "                    <source src=\"./data/Glass.wav\" type=\"audio/x-wav\" />\n",
       "                    Your browser does not support the audio element.\n",
       "                </audio>\n",
       "              "
      ],
      "text/plain": [
       "<IPython.lib.display.Audio object>"
      ]
     },
     "execution_count": 72,
     "metadata": {},
     "output_type": "execute_result"
    }
   ],
   "source": [
    "# SVC-RBF with all features, normalized\n",
    "    # ENM weight fractions\n",
    "    # Accuracy\n",
    "\n",
    "from sklearn.pipeline import Pipeline\n",
    "from sklearn.model_selection import GridSearchCV\n",
    "from sklearn.preprocessing import MinMaxScaler\n",
    "from sklearn.svm import SVC\n",
    "\n",
    "# Pipeline\n",
    "estimator = SVC(kernel='rbf',class_weight='balanced')\n",
    "prepipe = Pipeline([\n",
    "    ('scale', MinMaxScaler()),\n",
    "    ('estimator', estimator)\n",
    "])\n",
    "\n",
    "# Set parameter ranges for gridsearch\n",
    "cv=10\n",
    "n_jobs=3\n",
    "c_set=np.logspace(0,4,16)\n",
    "gamma_set=np.logspace(-6,0,16)\n",
    "\n",
    "# Gridsearch\n",
    "param_grid={'estimator__C': c_set,\n",
    "            'estimator__gamma': gamma_set\n",
    "           }\n",
    "grid_search=GridSearchCV(prepipe,param_grid,cv=cv,scoring='accuracy', n_jobs=n_jobs, pre_dispatch=2*n_jobs)\n",
    "grid_search.fit(X_oneto20+0.00001,bin_oneto20)\n",
    "print(grid_search.best_params_)\n",
    "print(grid_search.best_score_)\n",
    "\n",
    "# Play sound when done running\n",
    "Audio(url=sound_file, autoplay=True)"
   ]
  },
  {
   "cell_type": "code",
   "execution_count": 141,
   "metadata": {
    "ExecuteTime": {
     "end_time": "2018-12-18T01:01:00.270708Z",
     "start_time": "2018-12-18T01:01:00.026238Z"
    }
   },
   "outputs": [
    {
     "data": {
      "text/plain": [
       "Pipeline(memory=None,\n",
       "     steps=[('scale', MinMaxScaler(copy=True, feature_range=(0, 1))), ('estimator', SVC(C=5411.6952654646375, cache_size=200, class_weight='balanced', coef0=0.0,\n",
       "  decision_function_shape='ovr', degree=3, gamma=1.0, kernel='rbf',\n",
       "  max_iter=-1, probability=False, random_state=None, shrinking=True,\n",
       "  tol=0.001, verbose=False))])"
      ]
     },
     "execution_count": 141,
     "metadata": {},
     "output_type": "execute_result"
    }
   ],
   "source": [
    "# Final pipeline\n",
    "bestpipe = Pipeline([\n",
    "    ('scale', MinMaxScaler()),\n",
    "    ('estimator', SVC(kernel='rbf',class_weight='balanced', \n",
    "                      C=5411.6952654646375, \n",
    "                      gamma=1.0))\n",
    "     ])\n",
    "bestpipe.fit(X_oneto20,bin_oneto20)"
   ]
  },
  {
   "cell_type": "code",
   "execution_count": 142,
   "metadata": {
    "ExecuteTime": {
     "end_time": "2018-12-18T01:01:04.548419Z",
     "start_time": "2018-12-18T01:01:04.039954Z"
    }
   },
   "outputs": [
    {
     "name": "stdout",
     "output_type": "stream",
     "text": [
      "Confusion matrix, without normalization\n",
      "[[22 11  3]\n",
      " [ 7 19  3]\n",
      " [10  3  4]]\n",
      "Normalized confusion matrix\n",
      "[[0.61 0.31 0.08]\n",
      " [0.24 0.66 0.1 ]\n",
      " [0.59 0.18 0.24]]\n"
     ]
    },
    {
     "data": {
      "image/png": "[encoded data removed]",
      "text/plain": [
       "<Figure size 432x288 with 2 Axes>"
      ]
     },
     "metadata": {},
     "output_type": "display_data"
    },
    {
     "data": {
      "image/png": "[encoded data removed]",
      "text/plain": [
       "<Figure size 432x288 with 2 Axes>"
      ]
     },
     "metadata": {},
     "output_type": "display_data"
    }
   ],
   "source": [
    "# Cross-validation for confusion matrix\n",
    "from sklearn import model_selection\n",
    "\n",
    "X=np.array(X_enm)\n",
    "y=np.array(bin_enm)\n",
    "\n",
    "kfold = model_selection.StratifiedKFold(n_splits=17,shuffle=True, random_state=24)\n",
    "cnf_matrix2=np.zeros([3,3])\n",
    "\n",
    "for train_index,test_index in kfold.split(X,y):\n",
    "    X_train, X_test = X[train_index], X[test_index]\n",
    "    y_train, y_test = y[train_index], y[test_index]\n",
    "    bestpipe.fit(X_train,y_train)\n",
    "    y_enm_predict=bestpipe.predict(X_test)\n",
    "    y[test_index]=y_enm_predict\n",
    "    cnf_matrix2+= confusion_matrix(y_test, y_enm_predict);\n",
    "    \n",
    "# Set confusion matrix\n",
    "cnf_matrix=cnf_matrix2.astype(np.int)\n",
    "cnf_matrix = confusion_matrix(bin_enm, y)\n",
    "\n",
    "np.set_printoptions(precision=2)\n",
    "class_names=[\"low\",\"mid\",\"high\"]\n",
    "\n",
    "# Plot non-normalized confusion matrix\n",
    "fig = plt.figure()\n",
    "plot_confusion_matrix(cnf_matrix, classes=class_names,\n",
    "                      title='Confusion matrix, without normalization')\n",
    "fig.savefig('./BLTfigs/confusion_notnorm_mix_20.png')\n",
    "\n",
    "# Plot normalized confusion matrix\n",
    "fig = plt.figure()\n",
    "plot_confusion_matrix(cnf_matrix, classes=class_names, normalize=True,\n",
    "                      title='Normalized confusion matrix')\n",
    "fig.savefig('./BLTfigs/confusion_norm_mix_20.png')\n",
    "plt.show()"
   ]
  },
  {
   "cell_type": "code",
   "execution_count": 143,
   "metadata": {
    "ExecuteTime": {
     "end_time": "2018-12-18T01:01:12.477420Z",
     "start_time": "2018-12-18T01:01:12.461062Z"
    }
   },
   "outputs": [
    {
     "data": {
      "text/plain": [
       "0.5005258808504245"
      ]
     },
     "execution_count": 143,
     "metadata": {},
     "output_type": "execute_result"
    }
   ],
   "source": [
    "# Calculate the normalized average accuracy\n",
    "# for use in a graph of augmentation performance\n",
    "cm_norm = cnf_matrix.astype('float') / cnf_matrix.sum(axis=1)[:, np.newaxis]\n",
    "avg_norm_oneto20 = (cm_norm[0,0]+cm_norm[1,1]+cm_norm[2,2])/3\n",
    "avg_norm_oneto20"
   ]
  },
  {
   "cell_type": "markdown",
   "metadata": {},
   "source": [
    "## 1:10 ENM-organics data"
   ]
  },
  {
   "cell_type": "code",
   "execution_count": 101,
   "metadata": {
    "ExecuteTime": {
     "end_time": "2018-12-18T00:46:52.332013Z",
     "start_time": "2018-12-18T00:45:11.558033Z"
    }
   },
   "outputs": [
    {
     "name": "stdout",
     "output_type": "stream",
     "text": [
      "{'estimator__C': 251.18864315095797, 'estimator__gamma': 1.0}\n",
      "0.6851441241685144\n"
     ]
    },
    {
     "data": {
      "text/html": [
       "\n",
       "                <audio controls=\"controls\" autoplay=\"autoplay\">\n",
       "                    <source src=\"./data/Glass.wav\" type=\"audio/x-wav\" />\n",
       "                    Your browser does not support the audio element.\n",
       "                </audio>\n",
       "              "
      ],
      "text/plain": [
       "<IPython.lib.display.Audio object>"
      ]
     },
     "execution_count": 101,
     "metadata": {},
     "output_type": "execute_result"
    }
   ],
   "source": [
    "# SVC-RBF with all features, normalized\n",
    "    # ENM weight fractions\n",
    "    # Accuracy\n",
    "\n",
    "from sklearn.pipeline import Pipeline\n",
    "from sklearn.model_selection import GridSearchCV\n",
    "from sklearn.preprocessing import MinMaxScaler\n",
    "from sklearn.svm import SVC\n",
    "\n",
    "# Pipeline\n",
    "estimator = SVC(kernel='rbf',class_weight='balanced')\n",
    "prepipe = Pipeline([\n",
    "    ('scale', MinMaxScaler()),\n",
    "    ('estimator', estimator)\n",
    "])\n",
    "\n",
    "# Set parameter ranges for gridsearch\n",
    "cv=10\n",
    "n_jobs=3\n",
    "c_set=np.logspace(0,4,16)\n",
    "gamma_set=np.logspace(-6,0,16)\n",
    "\n",
    "# Gridsearch\n",
    "param_grid={'estimator__C': c_set,\n",
    "            'estimator__gamma': gamma_set\n",
    "           }\n",
    "grid_search=GridSearchCV(prepipe,param_grid,cv=cv,scoring='accuracy', n_jobs=n_jobs, pre_dispatch=2*n_jobs)\n",
    "grid_search.fit(X_oneto10+0.00001,bin_oneto10)\n",
    "print(grid_search.best_params_)\n",
    "print(grid_search.best_score_)\n",
    "\n",
    "# Play sound when done running\n",
    "Audio(url=sound_file, autoplay=True)"
   ]
  },
  {
   "cell_type": "code",
   "execution_count": 144,
   "metadata": {
    "ExecuteTime": {
     "end_time": "2018-12-18T01:01:25.665565Z",
     "start_time": "2018-12-18T01:01:25.600626Z"
    }
   },
   "outputs": [
    {
     "data": {
      "text/plain": [
       "Pipeline(memory=None,\n",
       "     steps=[('scale', MinMaxScaler(copy=True, feature_range=(0, 1))), ('estimator', SVC(C=251.18864315095797, cache_size=200, class_weight='balanced', coef0=0.0,\n",
       "  decision_function_shape='ovr', degree=3, gamma=1.0, kernel='rbf',\n",
       "  max_iter=-1, probability=False, random_state=None, shrinking=True,\n",
       "  tol=0.001, verbose=False))])"
      ]
     },
     "execution_count": 144,
     "metadata": {},
     "output_type": "execute_result"
    }
   ],
   "source": [
    "# Final pipeline\n",
    "bestpipe = Pipeline([\n",
    "    ('scale', MinMaxScaler()),\n",
    "    ('estimator', SVC(kernel='rbf',class_weight='balanced', \n",
    "                      C=251.18864315095797, \n",
    "                      gamma=1.0))\n",
    "     ])\n",
    "bestpipe.fit(X_oneto10,bin_oneto10)"
   ]
  },
  {
   "cell_type": "code",
   "execution_count": 145,
   "metadata": {
    "ExecuteTime": {
     "end_time": "2018-12-18T01:01:27.371668Z",
     "start_time": "2018-12-18T01:01:26.872896Z"
    }
   },
   "outputs": [
    {
     "name": "stdout",
     "output_type": "stream",
     "text": [
      "Confusion matrix, without normalization\n",
      "[[22 11  3]\n",
      " [ 7 19  3]\n",
      " [10  3  4]]\n",
      "Normalized confusion matrix\n",
      "[[0.61 0.31 0.08]\n",
      " [0.24 0.66 0.1 ]\n",
      " [0.59 0.18 0.24]]\n"
     ]
    },
    {
     "data": {
      "image/png": "[encoded data removed]",
      "text/plain": [
       "<Figure size 432x288 with 2 Axes>"
      ]
     },
     "metadata": {},
     "output_type": "display_data"
    },
    {
     "data": {
      "image/png": "[encoded data removed]",
      "text/plain": [
       "<Figure size 432x288 with 2 Axes>"
      ]
     },
     "metadata": {},
     "output_type": "display_data"
    }
   ],
   "source": [
    "# Cross-validation for confusion matrix\n",
    "from sklearn import model_selection\n",
    "\n",
    "X=np.array(X_enm)\n",
    "y=np.array(bin_enm)\n",
    "\n",
    "kfold = model_selection.StratifiedKFold(n_splits=17,shuffle=True, random_state=24)\n",
    "cnf_matrix2=np.zeros([3,3])\n",
    "\n",
    "for train_index,test_index in kfold.split(X,y):\n",
    "    X_train, X_test = X[train_index], X[test_index]\n",
    "    y_train, y_test = y[train_index], y[test_index]\n",
    "    bestpipe.fit(X_train,y_train)\n",
    "    y_enm_predict=bestpipe.predict(X_test)\n",
    "    y[test_index]=y_enm_predict\n",
    "    cnf_matrix2+= confusion_matrix(y_test, y_enm_predict);\n",
    "    \n",
    "# Set confusion matrix\n",
    "cnf_matrix=cnf_matrix2.astype(np.int)\n",
    "cnf_matrix = confusion_matrix(bin_enm, y)\n",
    "\n",
    "np.set_printoptions(precision=2)\n",
    "class_names=[\"low\",\"mid\",\"high\"]\n",
    "\n",
    "# Plot non-normalized confusion matrix\n",
    "fig = plt.figure()\n",
    "plot_confusion_matrix(cnf_matrix, classes=class_names,\n",
    "                      title='Confusion matrix, without normalization')\n",
    "fig.savefig('./BLTfigs/confusion_notnorm_mix_10.png')\n",
    "\n",
    "# Plot normalized confusion matrix\n",
    "fig = plt.figure()\n",
    "plot_confusion_matrix(cnf_matrix, classes=class_names, normalize=True,\n",
    "                      title='Normalized confusion matrix')\n",
    "fig.savefig('./BLTfigs/confusion_norm_mix_10.png')\n",
    "plt.show()"
   ]
  },
  {
   "cell_type": "code",
   "execution_count": 146,
   "metadata": {
    "ExecuteTime": {
     "end_time": "2018-12-18T01:01:32.383834Z",
     "start_time": "2018-12-18T01:01:32.367604Z"
    }
   },
   "outputs": [
    {
     "data": {
      "text/plain": [
       "0.5005258808504245"
      ]
     },
     "execution_count": 146,
     "metadata": {},
     "output_type": "execute_result"
    }
   ],
   "source": [
    "# Calculate the normalized average accuracy\n",
    "# for use in a graph of augmentation performance\n",
    "cm_norm = cnf_matrix.astype('float') / cnf_matrix.sum(axis=1)[:, np.newaxis]\n",
    "avg_norm_oneto10 = (cm_norm[0,0]+cm_norm[1,1]+cm_norm[2,2])/3\n",
    "avg_norm_oneto10"
   ]
  },
  {
   "cell_type": "markdown",
   "metadata": {},
   "source": [
    "## 1:4 ENM-organics data"
   ]
  },
  {
   "cell_type": "code",
   "execution_count": 160,
   "metadata": {
    "ExecuteTime": {
     "end_time": "2018-12-18T01:18:26.793197Z",
     "start_time": "2018-12-18T01:17:51.443768Z"
    }
   },
   "outputs": [
    {
     "name": "stdout",
     "output_type": "stream",
     "text": [
      "{'estimator__C': 885.8667904100823, 'estimator__gamma': 1.0}\n",
      "0.5878048780487805\n"
     ]
    },
    {
     "data": {
      "text/html": [
       "\n",
       "                <audio controls=\"controls\" autoplay=\"autoplay\">\n",
       "                    <source src=\"./data/Glass.wav\" type=\"audio/x-wav\" />\n",
       "                    Your browser does not support the audio element.\n",
       "                </audio>\n",
       "              "
      ],
      "text/plain": [
       "<IPython.lib.display.Audio object>"
      ]
     },
     "execution_count": 160,
     "metadata": {},
     "output_type": "execute_result"
    }
   ],
   "source": [
    "# SVC-RBF with all features, normalized\n",
    "    # ENM weight fractions\n",
    "    # Accuracy\n",
    "\n",
    "from sklearn.pipeline import Pipeline\n",
    "from sklearn.model_selection import GridSearchCV\n",
    "from sklearn.preprocessing import MinMaxScaler\n",
    "from sklearn.svm import SVC\n",
    "\n",
    "# Pipeline\n",
    "estimator = SVC(kernel='rbf',class_weight='balanced')\n",
    "prepipe = Pipeline([\n",
    "    ('scale', MinMaxScaler()),\n",
    "    ('estimator', estimator)\n",
    "])\n",
    "\n",
    "# Set parameter ranges for gridsearch\n",
    "cv=10\n",
    "n_jobs=3\n",
    "c_set=np.logspace(0,4,16)\n",
    "gamma_set=np.logspace(-6,0,16)\n",
    "\n",
    "# Gridsearch\n",
    "param_grid={'estimator__C': c_set,\n",
    "            'estimator__gamma': gamma_set\n",
    "           }\n",
    "grid_search=GridSearchCV(prepipe,param_grid,cv=cv,scoring='accuracy', n_jobs=n_jobs, pre_dispatch=2*n_jobs)\n",
    "grid_search.fit(X_oneto4+0.00001,bin_oneto4)\n",
    "print(grid_search.best_params_)\n",
    "print(grid_search.best_score_)\n",
    "\n",
    "# Play sound when done running\n",
    "Audio(url=sound_file, autoplay=True)"
   ]
  },
  {
   "cell_type": "code",
   "execution_count": 164,
   "metadata": {
    "ExecuteTime": {
     "end_time": "2018-12-18T01:21:00.876767Z",
     "start_time": "2018-12-18T01:21:00.839702Z"
    }
   },
   "outputs": [
    {
     "data": {
      "text/plain": [
       "Pipeline(memory=None,\n",
       "     steps=[('scale', MinMaxScaler(copy=True, feature_range=(0, 1))), ('estimator', SVC(C=1584.893192461114, cache_size=200, class_weight='balanced', coef0=0.0,\n",
       "  decision_function_shape='ovr', degree=3, gamma=0.003981071705534973,\n",
       "  kernel='rbf', max_iter=-1, probability=False, random_state=None,\n",
       "  shrinking=True, tol=0.001, verbose=False))])"
      ]
     },
     "execution_count": 164,
     "metadata": {},
     "output_type": "execute_result"
    }
   ],
   "source": [
    "# Final pipeline\n",
    "bestpipe = Pipeline([\n",
    "    ('scale', MinMaxScaler()),\n",
    "    ('estimator', SVC(kernel='rbf',class_weight='balanced', \n",
    "                      C=1584.893192461114, \n",
    "                      gamma=0.003981071705534973))\n",
    "     ])\n",
    "bestpipe.fit(X_oneto4,bin_oneto4)"
   ]
  },
  {
   "cell_type": "code",
   "execution_count": 165,
   "metadata": {
    "ExecuteTime": {
     "end_time": "2018-12-18T01:21:05.224541Z",
     "start_time": "2018-12-18T01:21:04.695334Z"
    }
   },
   "outputs": [
    {
     "name": "stdout",
     "output_type": "stream",
     "text": [
      "Confusion matrix, without normalization\n",
      "[[24  6  6]\n",
      " [ 7 18  4]\n",
      " [ 3  3 11]]\n",
      "Normalized confusion matrix\n",
      "[[0.67 0.17 0.17]\n",
      " [0.24 0.62 0.14]\n",
      " [0.18 0.18 0.65]]\n"
     ]
    },
    {
     "data": {
      "image/png": "[encoded data removed]",
      "text/plain": [
       "<Figure size 432x288 with 2 Axes>"
      ]
     },
     "metadata": {},
     "output_type": "display_data"
    },
    {
     "data": {
      "image/png": "[encoded data removed]",
      "text/plain": [
       "<Figure size 432x288 with 2 Axes>"
      ]
     },
     "metadata": {},
     "output_type": "display_data"
    }
   ],
   "source": [
    "# Cross-validation for confusion matrix\n",
    "from sklearn import model_selection\n",
    "\n",
    "X=np.array(X_enm)\n",
    "y=np.array(bin_enm)\n",
    "\n",
    "kfold = model_selection.StratifiedKFold(n_splits=17,shuffle=True, random_state=24)\n",
    "cnf_matrix2=np.zeros([3,3])\n",
    "\n",
    "for train_index,test_index in kfold.split(X,y):\n",
    "    X_train, X_test = X[train_index], X[test_index]\n",
    "    y_train, y_test = y[train_index], y[test_index]\n",
    "    bestpipe.fit(X_train,y_train)\n",
    "    y_enm_predict=bestpipe.predict(X_test)\n",
    "    y[test_index]=y_enm_predict\n",
    "    cnf_matrix2+= confusion_matrix(y_test, y_enm_predict);\n",
    "    \n",
    "# Set confusion matrix\n",
    "cnf_matrix=cnf_matrix2.astype(np.int)\n",
    "cnf_matrix = confusion_matrix(bin_enm, y)\n",
    "\n",
    "np.set_printoptions(precision=2)\n",
    "class_names=[\"low\",\"mid\",\"high\"]\n",
    "\n",
    "# Plot non-normalized confusion matrix\n",
    "fig = plt.figure()\n",
    "plot_confusion_matrix(cnf_matrix, classes=class_names,\n",
    "                      title='Confusion matrix, without normalization')\n",
    "fig.savefig('./BLTfigs/confusion_notnorm_mix_4.png')\n",
    "\n",
    "# Plot normalized confusion matrix\n",
    "fig = plt.figure()\n",
    "plot_confusion_matrix(cnf_matrix, classes=class_names, normalize=True,\n",
    "                      title='Normalized confusion matrix')\n",
    "fig.savefig('./BLTfigs/confusion_norm_mix_4.png')\n",
    "plt.show()"
   ]
  },
  {
   "cell_type": "code",
   "execution_count": 166,
   "metadata": {
    "ExecuteTime": {
     "end_time": "2018-12-18T01:21:22.096848Z",
     "start_time": "2018-12-18T01:21:22.081377Z"
    }
   },
   "outputs": [
    {
     "data": {
      "text/plain": [
       "0.6448050484561642"
      ]
     },
     "execution_count": 166,
     "metadata": {},
     "output_type": "execute_result"
    }
   ],
   "source": [
    "# Calculate the normalized average accuracy\n",
    "# for use in a graph of augmentation performance\n",
    "cm_norm = cnf_matrix.astype('float') / cnf_matrix.sum(axis=1)[:, np.newaxis]\n",
    "avg_norm_oneto4 = (cm_norm[0,0]+cm_norm[1,1]+cm_norm[2,2])/3\n",
    "avg_norm_oneto4"
   ]
  },
  {
   "cell_type": "markdown",
   "metadata": {},
   "source": [
    "## 1:2 ENM-organics data"
   ]
  },
  {
   "cell_type": "code",
   "execution_count": 119,
   "metadata": {
    "ExecuteTime": {
     "end_time": "2018-12-18T00:52:11.186149Z",
     "start_time": "2018-12-18T00:52:00.227796Z"
    }
   },
   "outputs": [
    {
     "name": "stdout",
     "output_type": "stream",
     "text": [
      "{'estimator__C': 135.93563908785256, 'estimator__gamma': 0.39810717055349776}\n",
      "0.6382113821138211\n"
     ]
    },
    {
     "data": {
      "text/html": [
       "\n",
       "                <audio controls=\"controls\" autoplay=\"autoplay\">\n",
       "                    <source src=\"./data/Glass.wav\" type=\"audio/x-wav\" />\n",
       "                    Your browser does not support the audio element.\n",
       "                </audio>\n",
       "              "
      ],
      "text/plain": [
       "<IPython.lib.display.Audio object>"
      ]
     },
     "execution_count": 119,
     "metadata": {},
     "output_type": "execute_result"
    }
   ],
   "source": [
    "# SVC-RBF with all features, normalized\n",
    "    # ENM weight fractions\n",
    "    # Accuracy\n",
    "\n",
    "from sklearn.pipeline import Pipeline\n",
    "from sklearn.model_selection import GridSearchCV\n",
    "from sklearn.preprocessing import MinMaxScaler\n",
    "from sklearn.svm import SVC\n",
    "\n",
    "# Pipeline\n",
    "estimator = SVC(kernel='rbf',class_weight='balanced')\n",
    "prepipe = Pipeline([\n",
    "    ('scale', MinMaxScaler()),\n",
    "    ('estimator', estimator)\n",
    "])\n",
    "\n",
    "# Set parameter ranges for gridsearch\n",
    "cv=10\n",
    "n_jobs=3\n",
    "c_set=np.logspace(0,4,16)\n",
    "gamma_set=np.logspace(-6,0,16)\n",
    "\n",
    "# Gridsearch\n",
    "param_grid={'estimator__C': c_set,\n",
    "            'estimator__gamma': gamma_set\n",
    "           }\n",
    "grid_search=GridSearchCV(prepipe,param_grid,cv=cv,scoring='accuracy', n_jobs=n_jobs, pre_dispatch=2*n_jobs)\n",
    "grid_search.fit(X_oneto2+0.00001,bin_oneto2)\n",
    "print(grid_search.best_params_)\n",
    "print(grid_search.best_score_)\n",
    "\n",
    "# Play sound when done running\n",
    "Audio(url=sound_file, autoplay=True)"
   ]
  },
  {
   "cell_type": "code",
   "execution_count": 120,
   "metadata": {
    "ExecuteTime": {
     "end_time": "2018-12-18T00:52:18.000841Z",
     "start_time": "2018-12-18T00:52:17.977853Z"
    }
   },
   "outputs": [
    {
     "data": {
      "text/plain": [
       "Pipeline(memory=None,\n",
       "     steps=[('scale', MinMaxScaler(copy=True, feature_range=(0, 1))), ('estimator', SVC(C=6.309573444801933, cache_size=200, class_weight='balanced', coef0=0.0,\n",
       "  decision_function_shape='ovr', degree=3, gamma=1e-05, kernel='rbf',\n",
       "  max_iter=-1, probability=False, random_state=None, shrinking=True,\n",
       "  tol=0.001, verbose=False))])"
      ]
     },
     "execution_count": 120,
     "metadata": {},
     "output_type": "execute_result"
    }
   ],
   "source": [
    "# Final pipeline\n",
    "bestpipe = Pipeline([\n",
    "    ('scale', MinMaxScaler()),\n",
    "    ('estimator', SVC(kernel='rbf',class_weight='balanced', \n",
    "                      C=6.309573444801933, \n",
    "                      gamma=1e-05))\n",
    "     ])\n",
    "bestpipe.fit(X_oneto2,bin_oneto2)"
   ]
  },
  {
   "cell_type": "code",
   "execution_count": 121,
   "metadata": {
    "ExecuteTime": {
     "end_time": "2018-12-18T00:52:24.635460Z",
     "start_time": "2018-12-18T00:52:24.132360Z"
    }
   },
   "outputs": [
    {
     "name": "stdout",
     "output_type": "stream",
     "text": [
      "Confusion matrix, without normalization\n",
      "[[ 6 15 15]\n",
      " [ 5 11 13]\n",
      " [ 4  7  6]]\n",
      "Normalized confusion matrix\n",
      "[[0.17 0.42 0.42]\n",
      " [0.17 0.38 0.45]\n",
      " [0.24 0.41 0.35]]\n"
     ]
    },
    {
     "data": {
      "image/png": "[encoded data removed]",
      "text/plain": [
       "<Figure size 432x288 with 2 Axes>"
      ]
     },
     "metadata": {},
     "output_type": "display_data"
    },
    {
     "data": {
      "image/png": "[encoded data removed]",
      "text/plain": [
       "<Figure size 432x288 with 2 Axes>"
      ]
     },
     "metadata": {},
     "output_type": "display_data"
    }
   ],
   "source": [
    "# Cross-validation for confusion matrix\n",
    "from sklearn import model_selection\n",
    "\n",
    "X=np.array(X_enm)\n",
    "y=np.array(bin_enm)\n",
    "\n",
    "kfold = model_selection.StratifiedKFold(n_splits=17,shuffle=True, random_state=24)\n",
    "cnf_matrix2=np.zeros([3,3])\n",
    "\n",
    "for train_index,test_index in kfold.split(X,y):\n",
    "    X_train, X_test = X[train_index], X[test_index]\n",
    "    y_train, y_test = y[train_index], y[test_index]\n",
    "    bestpipe.fit(X_train,y_train)\n",
    "    y_enm_predict=bestpipe.predict(X_test)\n",
    "    y[test_index]=y_enm_predict\n",
    "    cnf_matrix2+= confusion_matrix(y_test, y_enm_predict);\n",
    "    \n",
    "# Set confusion matrix\n",
    "cnf_matrix=cnf_matrix2.astype(np.int)\n",
    "cnf_matrix = confusion_matrix(bin_enm, y)\n",
    "\n",
    "np.set_printoptions(precision=2)\n",
    "class_names=[\"low\",\"mid\",\"high\"]\n",
    "\n",
    "# Plot non-normalized confusion matrix\n",
    "fig = plt.figure()\n",
    "plot_confusion_matrix(cnf_matrix, classes=class_names,\n",
    "                      title='Confusion matrix, without normalization')\n",
    "fig.savefig('./BLTfigs/confusion_notnorm_mix_2.png')\n",
    "\n",
    "# Plot normalized confusion matrix\n",
    "fig = plt.figure()\n",
    "plot_confusion_matrix(cnf_matrix, classes=class_names, normalize=True,\n",
    "                      title='Normalized confusion matrix')\n",
    "fig.savefig('./BLTfigs/confusion_norm_mix_2.png')\n",
    "plt.show()"
   ]
  },
  {
   "cell_type": "code",
   "execution_count": 122,
   "metadata": {
    "ExecuteTime": {
     "end_time": "2018-12-18T00:52:32.529380Z",
     "start_time": "2018-12-18T00:52:32.512217Z"
    }
   },
   "outputs": [
    {
     "data": {
      "text/plain": [
       "0.2996393959882804"
      ]
     },
     "execution_count": 122,
     "metadata": {},
     "output_type": "execute_result"
    }
   ],
   "source": [
    "# Calculate the normalized average accuracy\n",
    "# for use in a graph of augmentation performance\n",
    "cm_norm = cnf_matrix.astype('float') / cnf_matrix.sum(axis=1)[:, np.newaxis]\n",
    "avg_norm_oneto2 = (cm_norm[0,0]+cm_norm[1,1]+cm_norm[2,2])/3\n",
    "avg_norm_oneto2"
   ]
  },
  {
   "cell_type": "markdown",
   "metadata": {},
   "source": [
    "## Matching 1:20"
   ]
  },
  {
   "cell_type": "code",
   "execution_count": 127,
   "metadata": {
    "ExecuteTime": {
     "end_time": "2019-01-10T20:37:18.087501Z",
     "start_time": "2019-01-10T20:33:10.450462Z"
    }
   },
   "outputs": [
    {
     "name": "stdout",
     "output_type": "stream",
     "text": [
      "{'estimator__C': 2928.6445646252373, 'estimator__gamma': 1.0}\n",
      "0.6608594657375145\n"
     ]
    },
    {
     "data": {
      "text/html": [
       "\n",
       "                <audio controls=\"controls\" autoplay=\"autoplay\">\n",
       "                    <source src=\"./data/Glass.wav\" type=\"audio/x-wav\" />\n",
       "                    Your browser does not support the audio element.\n",
       "                </audio>\n",
       "              "
      ],
      "text/plain": [
       "<IPython.lib.display.Audio object>"
      ]
     },
     "execution_count": 127,
     "metadata": {},
     "output_type": "execute_result"
    }
   ],
   "source": [
    "# SVC-RBF with all features, normalized\n",
    "    # ENM weight fractions\n",
    "    # Accuracy\n",
    "\n",
    "from sklearn.pipeline import Pipeline\n",
    "from sklearn.model_selection import GridSearchCV\n",
    "from sklearn.preprocessing import MinMaxScaler\n",
    "from sklearn.svm import SVC\n",
    "\n",
    "# Pipeline\n",
    "estimator = SVC(kernel='rbf',class_weight='balanced')\n",
    "prepipe = Pipeline([\n",
    "    ('scale', MinMaxScaler()),\n",
    "    ('estimator', estimator)\n",
    "])\n",
    "\n",
    "# Set parameter ranges for gridsearch\n",
    "cv=10\n",
    "n_jobs=3\n",
    "\n",
    "c_set=np.logspace(0,4,16)\n",
    "gamma_set=np.logspace(-6,0,16)\n",
    "\n",
    "# Gridsearch\n",
    "param_grid={'estimator__C': c_set,\n",
    "            'estimator__gamma': gamma_set\n",
    "           }\n",
    "grid_search=GridSearchCV(prepipe,param_grid,cv=cv,scoring='accuracy', n_jobs=n_jobs, pre_dispatch=2*n_jobs)\n",
    "grid_search.fit(X_match20+0.00001,bin_match20)\n",
    "print(grid_search.best_params_)\n",
    "print(grid_search.best_score_)\n",
    "\n",
    "# Play sound when done running\n",
    "Audio(url=sound_file, autoplay=True)"
   ]
  },
  {
   "cell_type": "code",
   "execution_count": 128,
   "metadata": {
    "ExecuteTime": {
     "end_time": "2019-01-10T20:37:42.630657Z",
     "start_time": "2019-01-10T20:37:42.477113Z"
    }
   },
   "outputs": [
    {
     "data": {
      "text/plain": [
       "Pipeline(memory=None,\n",
       "     steps=[('scale', MinMaxScaler(copy=True, feature_range=(0, 1))), ('estimator', SVC(C=2928.6445646252373, cache_size=200, class_weight='balanced', coef0=0.0,\n",
       "  decision_function_shape='ovr', degree=3, gamma=1.0, kernel='rbf',\n",
       "  max_iter=-1, probability=False, random_state=None, shrinking=True,\n",
       "  tol=0.001, verbose=False))])"
      ]
     },
     "execution_count": 128,
     "metadata": {},
     "output_type": "execute_result"
    }
   ],
   "source": [
    "# Final pipeline\n",
    "bestpipe = Pipeline([\n",
    "    ('scale', MinMaxScaler()),\n",
    "    ('estimator', SVC(kernel='rbf',class_weight='balanced', \n",
    "                      C=grid_search.best_params_.get('estimator__C'), \n",
    "                      gamma=grid_search.best_params_.get('estimator__gamma')))\n",
    "     ])\n",
    "bestpipe.fit(X_match20,bin_match20)"
   ]
  },
  {
   "cell_type": "code",
   "execution_count": 129,
   "metadata": {
    "ExecuteTime": {
     "end_time": "2019-01-10T20:37:45.249360Z",
     "start_time": "2019-01-10T20:37:44.715678Z"
    }
   },
   "outputs": [
    {
     "name": "stdout",
     "output_type": "stream",
     "text": [
      "Confusion matrix, without normalization\n",
      "[[22 11  3]\n",
      " [ 7 19  3]\n",
      " [10  3  4]]\n",
      "Normalized confusion matrix\n",
      "[[0.61 0.31 0.08]\n",
      " [0.24 0.66 0.1 ]\n",
      " [0.59 0.18 0.24]]\n"
     ]
    },
    {
     "data": {
      "image/png": "[encoded data removed]",
      "text/plain": [
       "<Figure size 432x288 with 2 Axes>"
      ]
     },
     "metadata": {},
     "output_type": "display_data"
    },
    {
     "data": {
      "image/png": "[encoded data removed]",
      "text/plain": [
       "<Figure size 432x288 with 2 Axes>"
      ]
     },
     "metadata": {},
     "output_type": "display_data"
    }
   ],
   "source": [
    "# Cross-validation for confusion matrix\n",
    "from sklearn import model_selection\n",
    "\n",
    "X=np.array(X_enm)\n",
    "y=np.array(bin_enm)\n",
    "\n",
    "kfold = model_selection.StratifiedKFold(n_splits=17,shuffle=True, random_state=24)\n",
    "cnf_matrix2=np.zeros([3,3])\n",
    "\n",
    "for train_index,test_index in kfold.split(X,y):\n",
    "    X_train, X_test = X[train_index], X[test_index]\n",
    "    y_train, y_test = y[train_index], y[test_index]\n",
    "    bestpipe.fit(X_train,y_train)\n",
    "    y_enm_predict=bestpipe.predict(X_test)\n",
    "    y[test_index]=y_enm_predict\n",
    "    cnf_matrix2+= confusion_matrix(y_test, y_enm_predict);\n",
    "    \n",
    "# Set confusion matrix\n",
    "cnf_matrix=cnf_matrix2.astype(np.int)\n",
    "cnf_matrix = confusion_matrix(bin_enm, y)\n",
    "\n",
    "np.set_printoptions(precision=2)\n",
    "class_names=[\"low\",\"mid\",\"high\"]\n",
    "\n",
    "# Plot non-normalized confusion matrix\n",
    "fig = plt.figure()\n",
    "plot_confusion_matrix(cnf_matrix, classes=class_names,\n",
    "                      title='Confusion matrix, without normalization')\n",
    "fig.savefig('./BLTfigs/confusion_notnorm_mix_match20.png')\n",
    "\n",
    "# Plot normalized confusion matrix\n",
    "fig = plt.figure()\n",
    "plot_confusion_matrix(cnf_matrix, classes=class_names, normalize=True,\n",
    "                      title='Normalized confusion matrix')\n",
    "fig.savefig('./BLTfigs/confusion_norm_mix_match20.png')\n",
    "plt.show()"
   ]
  },
  {
   "cell_type": "code",
   "execution_count": 130,
   "metadata": {
    "ExecuteTime": {
     "end_time": "2019-01-10T20:37:51.299597Z",
     "start_time": "2019-01-10T20:37:51.266558Z"
    }
   },
   "outputs": [
    {
     "data": {
      "text/plain": [
       "0.5005258808504245"
      ]
     },
     "execution_count": 130,
     "metadata": {},
     "output_type": "execute_result"
    }
   ],
   "source": [
    "# Calculate the normalized average accuracy\n",
    "# for use in a graph of augmentation performance\n",
    "cm_norm = cnf_matrix.astype('float') / cnf_matrix.sum(axis=1)[:, np.newaxis]\n",
    "avg_norm_match20 = (cm_norm[0,0]+cm_norm[1,1]+cm_norm[2,2])/3\n",
    "avg_norm_match20"
   ]
  },
  {
   "cell_type": "markdown",
   "metadata": {},
   "source": [
    "## Matching 1:10"
   ]
  },
  {
   "cell_type": "code",
   "execution_count": 141,
   "metadata": {
    "ExecuteTime": {
     "end_time": "2019-01-10T20:46:35.030337Z",
     "start_time": "2019-01-10T20:44:58.683669Z"
    }
   },
   "outputs": [
    {
     "name": "stdout",
     "output_type": "stream",
     "text": [
      "{'estimator__C': 8858.667904100823, 'estimator__gamma': 1.0}\n",
      "0.6962305986696231\n"
     ]
    },
    {
     "data": {
      "text/html": [
       "\n",
       "                <audio controls=\"controls\" autoplay=\"autoplay\">\n",
       "                    <source src=\"./data/Glass.wav\" type=\"audio/x-wav\" />\n",
       "                    Your browser does not support the audio element.\n",
       "                </audio>\n",
       "              "
      ],
      "text/plain": [
       "<IPython.lib.display.Audio object>"
      ]
     },
     "execution_count": 141,
     "metadata": {},
     "output_type": "execute_result"
    }
   ],
   "source": [
    "# SVC-RBF with all features, normalized\n",
    "    # ENM weight fractions\n",
    "    # Accuracy\n",
    "\n",
    "from sklearn.pipeline import Pipeline\n",
    "from sklearn.model_selection import GridSearchCV\n",
    "from sklearn.preprocessing import MinMaxScaler\n",
    "from sklearn.svm import SVC\n",
    "\n",
    "# Pipeline\n",
    "estimator = SVC(kernel='rbf',class_weight='balanced')\n",
    "prepipe = Pipeline([\n",
    "    ('scale', MinMaxScaler()),\n",
    "    ('estimator', estimator)\n",
    "])\n",
    "\n",
    "# Set parameter ranges for gridsearch\n",
    "cv=10\n",
    "n_jobs=3\n",
    "\n",
    "c_set=np.logspace(0,5,20)\n",
    "gamma_set=np.logspace(-6,0,16)\n",
    "\n",
    "# Gridsearch\n",
    "param_grid={'estimator__C': c_set,\n",
    "            'estimator__gamma': gamma_set\n",
    "           }\n",
    "grid_search=GridSearchCV(prepipe,param_grid,cv=cv,scoring='accuracy', n_jobs=n_jobs, pre_dispatch=2*n_jobs)\n",
    "grid_search.fit(X_match10+0.00001,bin_match10)\n",
    "print(grid_search.best_params_)\n",
    "print(grid_search.best_score_)\n",
    "\n",
    "# Play sound when done running\n",
    "Audio(url=sound_file, autoplay=True)"
   ]
  },
  {
   "cell_type": "code",
   "execution_count": 142,
   "metadata": {
    "ExecuteTime": {
     "end_time": "2019-01-10T20:47:14.910788Z",
     "start_time": "2019-01-10T20:47:14.846591Z"
    }
   },
   "outputs": [
    {
     "data": {
      "text/plain": [
       "Pipeline(memory=None,\n",
       "     steps=[('scale', MinMaxScaler(copy=True, feature_range=(0, 1))), ('estimator', SVC(C=8858.667904100823, cache_size=200, class_weight='balanced', coef0=0.0,\n",
       "  decision_function_shape='ovr', degree=3, gamma=1.0, kernel='rbf',\n",
       "  max_iter=-1, probability=False, random_state=None, shrinking=True,\n",
       "  tol=0.001, verbose=False))])"
      ]
     },
     "execution_count": 142,
     "metadata": {},
     "output_type": "execute_result"
    }
   ],
   "source": [
    "# Final pipeline\n",
    "bestpipe = Pipeline([\n",
    "    ('scale', MinMaxScaler()),\n",
    "    ('estimator', SVC(kernel='rbf',class_weight='balanced', \n",
    "                      C=grid_search.best_params_.get('estimator__C'), \n",
    "                      gamma=grid_search.best_params_.get('estimator__gamma')))\n",
    "     ])\n",
    "bestpipe.fit(X_match10,bin_match10)"
   ]
  },
  {
   "cell_type": "code",
   "execution_count": 143,
   "metadata": {
    "ExecuteTime": {
     "end_time": "2019-01-10T20:47:22.208026Z",
     "start_time": "2019-01-10T20:47:21.656652Z"
    }
   },
   "outputs": [
    {
     "name": "stdout",
     "output_type": "stream",
     "text": [
      "Confusion matrix, without normalization\n",
      "[[22 11  3]\n",
      " [ 7 19  3]\n",
      " [10  3  4]]\n",
      "Normalized confusion matrix\n",
      "[[0.61 0.31 0.08]\n",
      " [0.24 0.66 0.1 ]\n",
      " [0.59 0.18 0.24]]\n"
     ]
    },
    {
     "data": {
      "image/png": "[encoded data removed]",
      "text/plain": [
       "<Figure size 432x288 with 2 Axes>"
      ]
     },
     "metadata": {},
     "output_type": "display_data"
    },
    {
     "data": {
      "image/png": "[encoded data removed]",
      "text/plain": [
       "<Figure size 432x288 with 2 Axes>"
      ]
     },
     "metadata": {},
     "output_type": "display_data"
    }
   ],
   "source": [
    "# Cross-validation for confusion matrix\n",
    "from sklearn import model_selection\n",
    "\n",
    "X=np.array(X_enm)\n",
    "y=np.array(bin_enm)\n",
    "\n",
    "kfold = model_selection.StratifiedKFold(n_splits=17,shuffle=True, random_state=24)\n",
    "cnf_matrix2=np.zeros([3,3])\n",
    "\n",
    "for train_index,test_index in kfold.split(X,y):\n",
    "    X_train, X_test = X[train_index], X[test_index]\n",
    "    y_train, y_test = y[train_index], y[test_index]\n",
    "    bestpipe.fit(X_train,y_train)\n",
    "    y_enm_predict=bestpipe.predict(X_test)\n",
    "    y[test_index]=y_enm_predict\n",
    "    cnf_matrix2+= confusion_matrix(y_test, y_enm_predict);\n",
    "    \n",
    "# Set confusion matrix\n",
    "cnf_matrix=cnf_matrix2.astype(np.int)\n",
    "cnf_matrix = confusion_matrix(bin_enm, y)\n",
    "\n",
    "np.set_printoptions(precision=2)\n",
    "class_names=[\"low\",\"mid\",\"high\"]\n",
    "\n",
    "# Plot non-normalized confusion matrix\n",
    "fig = plt.figure()\n",
    "plot_confusion_matrix(cnf_matrix, classes=class_names,\n",
    "                      title='Confusion matrix, without normalization')\n",
    "fig.savefig('./BLTfigs/confusion_notnorm_mix_match10.png')\n",
    "\n",
    "# Plot normalized confusion matrix\n",
    "fig = plt.figure()\n",
    "plot_confusion_matrix(cnf_matrix, classes=class_names, normalize=True,\n",
    "                      title='Normalized confusion matrix')\n",
    "fig.savefig('./BLTfigs/confusion_norm_mix_match10.png')\n",
    "plt.show()"
   ]
  },
  {
   "cell_type": "code",
   "execution_count": 144,
   "metadata": {
    "ExecuteTime": {
     "end_time": "2019-01-10T20:47:29.135889Z",
     "start_time": "2019-01-10T20:47:29.100598Z"
    }
   },
   "outputs": [
    {
     "data": {
      "text/plain": [
       "0.5005258808504245"
      ]
     },
     "execution_count": 144,
     "metadata": {},
     "output_type": "execute_result"
    }
   ],
   "source": [
    "# Calculate the normalized average accuracy\n",
    "# for use in a graph of augmentation performance\n",
    "cm_norm = cnf_matrix.astype('float') / cnf_matrix.sum(axis=1)[:, np.newaxis]\n",
    "avg_norm_match10 = (cm_norm[0,0]+cm_norm[1,1]+cm_norm[2,2])/3\n",
    "avg_norm_match10"
   ]
  },
  {
   "cell_type": "markdown",
   "metadata": {},
   "source": [
    "## Matching 1:5"
   ]
  },
  {
   "cell_type": "code",
   "execution_count": 162,
   "metadata": {
    "ExecuteTime": {
     "end_time": "2019-01-10T20:57:27.255362Z",
     "start_time": "2019-01-10T20:56:50.139854Z"
    }
   },
   "outputs": [
    {
     "name": "stdout",
     "output_type": "stream",
     "text": [
      "{'estimator__C': 3.3598182862837818, 'estimator__gamma': 0.01}\n",
      "0.6036585365853658\n"
     ]
    },
    {
     "data": {
      "text/html": [
       "\n",
       "                <audio controls=\"controls\" autoplay=\"autoplay\">\n",
       "                    <source src=\"./data/Glass.wav\" type=\"audio/x-wav\" />\n",
       "                    Your browser does not support the audio element.\n",
       "                </audio>\n",
       "              "
      ],
      "text/plain": [
       "<IPython.lib.display.Audio object>"
      ]
     },
     "execution_count": 162,
     "metadata": {},
     "output_type": "execute_result"
    }
   ],
   "source": [
    "# SVC-RBF with all features, normalized\n",
    "    # ENM weight fractions\n",
    "    # Accuracy\n",
    "\n",
    "from sklearn.pipeline import Pipeline\n",
    "from sklearn.model_selection import GridSearchCV\n",
    "from sklearn.preprocessing import MinMaxScaler\n",
    "from sklearn.svm import SVC\n",
    "\n",
    "# Pipeline\n",
    "estimator = SVC(kernel='rbf',class_weight='balanced')\n",
    "prepipe = Pipeline([\n",
    "    ('scale', MinMaxScaler()),\n",
    "    ('estimator', estimator)\n",
    "])\n",
    "\n",
    "# Set parameter ranges for gridsearch\n",
    "cv=10\n",
    "n_jobs=3\n",
    "\n",
    "c_set=np.logspace(0,5,20)\n",
    "gamma_set=np.logspace(-6,0,16)\n",
    "\n",
    "# Gridsearch\n",
    "param_grid={'estimator__C': c_set,\n",
    "            'estimator__gamma': gamma_set\n",
    "           }\n",
    "grid_search=GridSearchCV(prepipe,param_grid,cv=cv,scoring='accuracy', n_jobs=n_jobs, pre_dispatch=2*n_jobs)\n",
    "grid_search.fit(X_match5+0.00001,bin_match5)\n",
    "print(grid_search.best_params_)\n",
    "print(grid_search.best_score_)\n",
    "\n",
    "# Play sound when done running\n",
    "Audio(url=sound_file, autoplay=True)"
   ]
  },
  {
   "cell_type": "code",
   "execution_count": 163,
   "metadata": {
    "ExecuteTime": {
     "end_time": "2019-01-10T20:58:07.597508Z",
     "start_time": "2019-01-10T20:58:07.548606Z"
    }
   },
   "outputs": [
    {
     "data": {
      "text/plain": [
       "Pipeline(memory=None,\n",
       "     steps=[('scale', MinMaxScaler(copy=True, feature_range=(0, 1))), ('estimator', SVC(C=3.3598182862837818, cache_size=200, class_weight='balanced', coef0=0.0,\n",
       "  decision_function_shape='ovr', degree=3, gamma=0.01, kernel='rbf',\n",
       "  max_iter=-1, probability=False, random_state=None, shrinking=True,\n",
       "  tol=0.001, verbose=False))])"
      ]
     },
     "execution_count": 163,
     "metadata": {},
     "output_type": "execute_result"
    }
   ],
   "source": [
    "# Final pipeline\n",
    "bestpipe = Pipeline([\n",
    "    ('scale', MinMaxScaler()),\n",
    "    ('estimator', SVC(kernel='rbf',class_weight='balanced', \n",
    "                      C=grid_search.best_params_.get('estimator__C'), \n",
    "                      gamma=grid_search.best_params_.get('estimator__gamma')))\n",
    "     ])\n",
    "bestpipe.fit(X_match5,bin_match5)"
   ]
  },
  {
   "cell_type": "code",
   "execution_count": 164,
   "metadata": {
    "ExecuteTime": {
     "end_time": "2019-01-10T20:58:13.087883Z",
     "start_time": "2019-01-10T20:58:12.523446Z"
    }
   },
   "outputs": [
    {
     "name": "stdout",
     "output_type": "stream",
     "text": [
      "Confusion matrix, without normalization\n",
      "[[31  3  2]\n",
      " [13  8  8]\n",
      " [ 5  3  9]]\n",
      "Normalized confusion matrix\n",
      "[[0.86 0.08 0.06]\n",
      " [0.45 0.28 0.28]\n",
      " [0.29 0.18 0.53]]\n"
     ]
    },
    {
     "data": {
      "image/png": "[encoded data removed]",
      "text/plain": [
       "<Figure size 432x288 with 2 Axes>"
      ]
     },
     "metadata": {},
     "output_type": "display_data"
    },
    {
     "data": {
      "image/png": "[encoded data removed]",
      "text/plain": [
       "<Figure size 432x288 with 2 Axes>"
      ]
     },
     "metadata": {},
     "output_type": "display_data"
    }
   ],
   "source": [
    "# Cross-validation for confusion matrix\n",
    "from sklearn import model_selection\n",
    "\n",
    "X=np.array(X_enm)\n",
    "y=np.array(bin_enm)\n",
    "\n",
    "kfold = model_selection.StratifiedKFold(n_splits=17,shuffle=True, random_state=24)\n",
    "cnf_matrix2=np.zeros([3,3])\n",
    "\n",
    "for train_index,test_index in kfold.split(X,y):\n",
    "    X_train, X_test = X[train_index], X[test_index]\n",
    "    y_train, y_test = y[train_index], y[test_index]\n",
    "#    bestpipe.fit(X_train,y_train)\n",
    "    y_enm_predict=bestpipe.predict(X_test)\n",
    "    y[test_index]=y_enm_predict\n",
    "    cnf_matrix2+= confusion_matrix(y_test, y_enm_predict);\n",
    "    \n",
    "# Set confusion matrix\n",
    "cnf_matrix=cnf_matrix2.astype(np.int)\n",
    "cnf_matrix = confusion_matrix(bin_enm, y)\n",
    "\n",
    "np.set_printoptions(precision=2)\n",
    "class_names=[\"low\",\"mid\",\"high\"]\n",
    "\n",
    "# Plot non-normalized confusion matrix\n",
    "fig = plt.figure()\n",
    "plot_confusion_matrix(cnf_matrix, classes=class_names,\n",
    "                      title='Confusion matrix, without normalization')\n",
    "fig.savefig('./BLTfigs/confusion_notnorm_mix_match5.png')\n",
    "\n",
    "# Plot normalized confusion matrix\n",
    "fig = plt.figure()\n",
    "plot_confusion_matrix(cnf_matrix, classes=class_names, normalize=True,\n",
    "                      title='Normalized confusion matrix')\n",
    "fig.savefig('./BLTfigs/confusion_norm_mix_match5.png')\n",
    "plt.show()"
   ]
  },
  {
   "cell_type": "code",
   "execution_count": 165,
   "metadata": {
    "ExecuteTime": {
     "end_time": "2019-01-10T20:58:18.197626Z",
     "start_time": "2019-01-10T20:58:18.164938Z"
    }
   },
   "outputs": [
    {
     "data": {
      "text/plain": [
       "0.5554616482608369"
      ]
     },
     "execution_count": 165,
     "metadata": {},
     "output_type": "execute_result"
    }
   ],
   "source": [
    "# Calculate the normalized average accuracy\n",
    "# for use in a graph of augmentation performance\n",
    "cm_norm = cnf_matrix.astype('float') / cnf_matrix.sum(axis=1)[:, np.newaxis]\n",
    "avg_norm_match5 = (cm_norm[0,0]+cm_norm[1,1]+cm_norm[2,2])/3\n",
    "avg_norm_match5"
   ]
  },
  {
   "cell_type": "markdown",
   "metadata": {},
   "source": [
    "## Matching 1:4"
   ]
  },
  {
   "cell_type": "code",
   "execution_count": 220,
   "metadata": {
    "ExecuteTime": {
     "end_time": "2019-01-14T22:49:12.864854Z",
     "start_time": "2019-01-14T22:48:46.624216Z"
    }
   },
   "outputs": [
    {
     "name": "stdout",
     "output_type": "stream",
     "text": [
      "{'estimator__C': 16237.76739188721, 'estimator__gamma': 0.025118864315095822}\n",
      "0.6390243902439025\n"
     ]
    },
    {
     "data": {
      "text/html": [
       "\n",
       "                <audio controls=\"controls\" autoplay=\"autoplay\">\n",
       "                    <source src=\"./data/Glass.wav\" type=\"audio/x-wav\" />\n",
       "                    Your browser does not support the audio element.\n",
       "                </audio>\n",
       "              "
      ],
      "text/plain": [
       "<IPython.lib.display.Audio object>"
      ]
     },
     "execution_count": 220,
     "metadata": {},
     "output_type": "execute_result"
    }
   ],
   "source": [
    "# SVC-RBF with all features, normalized\n",
    "    # ENM weight fractions\n",
    "    # Accuracy\n",
    "\n",
    "from sklearn.pipeline import Pipeline\n",
    "from sklearn.model_selection import GridSearchCV\n",
    "from sklearn.preprocessing import MinMaxScaler\n",
    "from sklearn.svm import SVC\n",
    "\n",
    "# Pipeline\n",
    "estimator = SVC(kernel='rbf',class_weight='balanced')\n",
    "prepipe = Pipeline([\n",
    "    ('scale', MinMaxScaler()),\n",
    "    ('estimator', estimator)\n",
    "])\n",
    "\n",
    "# Set parameter ranges for gridsearch\n",
    "cv=10\n",
    "n_jobs=3\n",
    "\n",
    "c_set=np.logspace(0,5,20)\n",
    "gamma_set=np.logspace(-6,0,16)\n",
    "\n",
    "# Gridsearch\n",
    "param_grid={'estimator__C': c_set,\n",
    "            'estimator__gamma': gamma_set\n",
    "           }\n",
    "grid_search=GridSearchCV(prepipe,param_grid,cv=cv,scoring='accuracy', n_jobs=n_jobs, pre_dispatch=2*n_jobs)\n",
    "grid_search.fit(X_match4+0.00001,bin_match4)\n",
    "print(grid_search.best_params_)\n",
    "print(grid_search.best_score_)\n",
    "\n",
    "# Play sound when done running\n",
    "Audio(url=sound_file, autoplay=True)"
   ]
  },
  {
   "cell_type": "code",
   "execution_count": 221,
   "metadata": {
    "ExecuteTime": {
     "end_time": "2019-01-14T22:49:23.543641Z",
     "start_time": "2019-01-14T22:49:23.513404Z"
    }
   },
   "outputs": [
    {
     "data": {
      "text/plain": [
       "Pipeline(memory=None,\n",
       "     steps=[('scale', MinMaxScaler(copy=True, feature_range=(0, 1))), ('estimator', SVC(C=16237.76739188721, cache_size=200, class_weight='balanced', coef0=0.0,\n",
       "  decision_function_shape='ovr', degree=3, gamma=0.025118864315095822,\n",
       "  kernel='rbf', max_iter=-1, probability=False, random_state=None,\n",
       "  shrinking=True, tol=0.001, verbose=False))])"
      ]
     },
     "execution_count": 221,
     "metadata": {},
     "output_type": "execute_result"
    }
   ],
   "source": [
    "# Final pipeline\n",
    "bestpipe = Pipeline([\n",
    "    ('scale', MinMaxScaler()),\n",
    "    ('estimator', SVC(kernel='rbf',class_weight='balanced', \n",
    "                      C=grid_search.best_params_.get('estimator__C'), \n",
    "                      gamma=grid_search.best_params_.get('estimator__gamma')))\n",
    "     ])\n",
    "bestpipe.fit(X_match4,bin_match4)"
   ]
  },
  {
   "cell_type": "code",
   "execution_count": 222,
   "metadata": {
    "ExecuteTime": {
     "end_time": "2019-01-14T22:49:36.291955Z",
     "start_time": "2019-01-14T22:49:35.801948Z"
    }
   },
   "outputs": [
    {
     "name": "stdout",
     "output_type": "stream",
     "text": [
      "Confusion matrix, without normalization\n",
      "[[36  0  0]\n",
      " [ 7 20  2]\n",
      " [ 2  0 15]]\n",
      "Normalized confusion matrix\n",
      "[[1.   0.   0.  ]\n",
      " [0.24 0.69 0.07]\n",
      " [0.12 0.   0.88]]\n"
     ]
    },
    {
     "data": {
      "image/png": "[encoded data removed]",
      "text/plain": [
       "<Figure size 432x288 with 2 Axes>"
      ]
     },
     "metadata": {},
     "output_type": "display_data"
    },
    {
     "data": {
      "image/png": "[encoded data removed]",
      "text/plain": [
       "<Figure size 432x288 with 2 Axes>"
      ]
     },
     "metadata": {},
     "output_type": "display_data"
    }
   ],
   "source": [
    "# Cross-validation for confusion matrix\n",
    "from sklearn import model_selection\n",
    "\n",
    "X=np.array(X_enm)\n",
    "y=np.array(bin_enm)\n",
    "\n",
    "kfold = model_selection.StratifiedKFold(n_splits=17,shuffle=True, random_state=24)\n",
    "cnf_matrix2=np.zeros([3,3])\n",
    "\n",
    "for train_index,test_index in kfold.split(X,y):\n",
    "    X_train, X_test = X[train_index], X[test_index]\n",
    "    y_train, y_test = y[train_index], y[test_index]\n",
    "#    bestpipe.fit(X_train,y_train)\n",
    "    y_enm_predict=bestpipe.predict(X_test)\n",
    "    y[test_index]=y_enm_predict\n",
    "    cnf_matrix2+= confusion_matrix(y_test, y_enm_predict);\n",
    "    \n",
    "# Set confusion matrix\n",
    "cnf_matrix=cnf_matrix2.astype(np.int)\n",
    "cnf_matrix = confusion_matrix(bin_enm, y)\n",
    "\n",
    "np.set_printoptions(precision=2)\n",
    "class_names=[\"low\",\"mid\",\"high\"]\n",
    "\n",
    "# Plot non-normalized confusion matrix\n",
    "fig = plt.figure()\n",
    "plot_confusion_matrix(cnf_matrix, classes=class_names,\n",
    "                      title='Confusion matrix, without normalization')\n",
    "fig.savefig('./BLTfigs/confusion_notnorm_mix_match4.png')\n",
    "\n",
    "# Plot normalized confusion matrix\n",
    "fig = plt.figure()\n",
    "plot_confusion_matrix(cnf_matrix, classes=class_names, normalize=True,\n",
    "                      title='Normalized confusion matrix')\n",
    "fig.savefig('./BLTfigs/confusion_norm_mix_match4.png')\n",
    "plt.show()"
   ]
  },
  {
   "cell_type": "code",
   "execution_count": 223,
   "metadata": {
    "ExecuteTime": {
     "end_time": "2019-01-14T22:49:49.831845Z",
     "start_time": "2019-01-14T22:49:49.816549Z"
    }
   },
   "outputs": [
    {
     "data": {
      "text/plain": [
       "0.8573360378634213"
      ]
     },
     "execution_count": 223,
     "metadata": {},
     "output_type": "execute_result"
    }
   ],
   "source": [
    "# Calculate the normalized average accuracy\n",
    "# for use in a graph of augmentation performance\n",
    "cm_norm = cnf_matrix.astype('float') / cnf_matrix.sum(axis=1)[:, np.newaxis]\n",
    "avg_norm_match4 = (cm_norm[0,0]+cm_norm[1,1]+cm_norm[2,2])/3\n",
    "avg_norm_match4"
   ]
  },
  {
   "cell_type": "markdown",
   "metadata": {},
   "source": [
    "## Matching 1:3"
   ]
  },
  {
   "cell_type": "code",
   "execution_count": 216,
   "metadata": {
    "ExecuteTime": {
     "end_time": "2019-01-14T22:47:46.643434Z",
     "start_time": "2019-01-14T22:47:29.919294Z"
    }
   },
   "outputs": [
    {
     "name": "stdout",
     "output_type": "stream",
     "text": [
      "{'estimator__C': 11.28837891684689, 'estimator__gamma': 0.01}\n",
      "0.7042682926829268\n"
     ]
    },
    {
     "data": {
      "text/html": [
       "\n",
       "                <audio controls=\"controls\" autoplay=\"autoplay\">\n",
       "                    <source src=\"./data/Glass.wav\" type=\"audio/x-wav\" />\n",
       "                    Your browser does not support the audio element.\n",
       "                </audio>\n",
       "              "
      ],
      "text/plain": [
       "<IPython.lib.display.Audio object>"
      ]
     },
     "execution_count": 216,
     "metadata": {},
     "output_type": "execute_result"
    }
   ],
   "source": [
    "# SVC-RBF with all features, normalized\n",
    "    # ENM weight fractions\n",
    "    # Accuracy\n",
    "\n",
    "from sklearn.pipeline import Pipeline\n",
    "from sklearn.model_selection import GridSearchCV\n",
    "from sklearn.preprocessing import MinMaxScaler\n",
    "from sklearn.svm import SVC\n",
    "\n",
    "# Pipeline\n",
    "estimator = SVC(kernel='rbf',class_weight='balanced')\n",
    "prepipe = Pipeline([\n",
    "    ('scale', MinMaxScaler()),\n",
    "    ('estimator', estimator)\n",
    "])\n",
    "\n",
    "# Set parameter ranges for gridsearch\n",
    "cv=10\n",
    "n_jobs=3\n",
    "\n",
    "c_set=np.logspace(0,5,20)\n",
    "gamma_set=np.logspace(-6,0,16)\n",
    "\n",
    "# Gridsearch\n",
    "param_grid={'estimator__C': c_set,\n",
    "            'estimator__gamma': gamma_set\n",
    "           }\n",
    "grid_search=GridSearchCV(prepipe,param_grid,cv=cv,scoring='accuracy', n_jobs=n_jobs, pre_dispatch=2*n_jobs)\n",
    "grid_search.fit(X_match3+0.00001,bin_match3)\n",
    "print(grid_search.best_params_)\n",
    "print(grid_search.best_score_)\n",
    "\n",
    "# Play sound when done running\n",
    "Audio(url=sound_file, autoplay=True)"
   ]
  },
  {
   "cell_type": "code",
   "execution_count": 217,
   "metadata": {
    "ExecuteTime": {
     "end_time": "2019-01-14T22:48:07.742502Z",
     "start_time": "2019-01-14T22:48:07.714769Z"
    }
   },
   "outputs": [
    {
     "data": {
      "text/plain": [
       "Pipeline(memory=None,\n",
       "     steps=[('scale', MinMaxScaler(copy=True, feature_range=(0, 1))), ('estimator', SVC(C=11.28837891684689, cache_size=200, class_weight='balanced', coef0=0.0,\n",
       "  decision_function_shape='ovr', degree=3, gamma=0.01, kernel='rbf',\n",
       "  max_iter=-1, probability=False, random_state=None, shrinking=True,\n",
       "  tol=0.001, verbose=False))])"
      ]
     },
     "execution_count": 217,
     "metadata": {},
     "output_type": "execute_result"
    }
   ],
   "source": [
    "# Final pipeline\n",
    "bestpipe = Pipeline([\n",
    "    ('scale', MinMaxScaler()),\n",
    "    ('estimator', SVC(kernel='rbf',class_weight='balanced', \n",
    "                      C=grid_search.best_params_.get('estimator__C'), \n",
    "                      gamma=grid_search.best_params_.get('estimator__gamma')))\n",
    "     ])\n",
    "bestpipe.fit(X_match3,bin_match3)"
   ]
  },
  {
   "cell_type": "code",
   "execution_count": 218,
   "metadata": {
    "ExecuteTime": {
     "end_time": "2019-01-14T22:48:19.344667Z",
     "start_time": "2019-01-14T22:48:18.877774Z"
    }
   },
   "outputs": [
    {
     "name": "stdout",
     "output_type": "stream",
     "text": [
      "Confusion matrix, without normalization\n",
      "[[34  0  2]\n",
      " [13  6 10]\n",
      " [ 5  0 12]]\n",
      "Normalized confusion matrix\n",
      "[[0.94 0.   0.06]\n",
      " [0.45 0.21 0.34]\n",
      " [0.29 0.   0.71]]\n"
     ]
    },
    {
     "data": {
      "image/png": "[encoded data removed]",
      "text/plain": [
       "<Figure size 432x288 with 2 Axes>"
      ]
     },
     "metadata": {},
     "output_type": "display_data"
    },
    {
     "data": {
      "image/png": "[encoded data removed]",
      "text/plain": [
       "<Figure size 432x288 with 2 Axes>"
      ]
     },
     "metadata": {},
     "output_type": "display_data"
    }
   ],
   "source": [
    "# Cross-validation for confusion matrix\n",
    "from sklearn import model_selection\n",
    "\n",
    "X=np.array(X_enm)\n",
    "y=np.array(bin_enm)\n",
    "\n",
    "kfold = model_selection.StratifiedKFold(n_splits=17,shuffle=True, random_state=24)\n",
    "cnf_matrix2=np.zeros([3,3])\n",
    "\n",
    "for train_index,test_index in kfold.split(X,y):\n",
    "    X_train, X_test = X[train_index], X[test_index]\n",
    "    y_train, y_test = y[train_index], y[test_index]\n",
    "#    bestpipe.fit(X_train,y_train)\n",
    "    y_enm_predict=bestpipe.predict(X_test)\n",
    "    y[test_index]=y_enm_predict\n",
    "    cnf_matrix2+= confusion_matrix(y_test, y_enm_predict);\n",
    "    \n",
    "# Set confusion matrix\n",
    "cnf_matrix=cnf_matrix2.astype(np.int)\n",
    "cnf_matrix = confusion_matrix(bin_enm, y)\n",
    "\n",
    "np.set_printoptions(precision=2)\n",
    "class_names=[\"low\",\"mid\",\"high\"]\n",
    "\n",
    "# Plot non-normalized confusion matrix\n",
    "fig = plt.figure()\n",
    "plot_confusion_matrix(cnf_matrix, classes=class_names,\n",
    "                      title='Confusion matrix, without normalization')\n",
    "fig.savefig('./BLTfigs/confusion_notnorm_mix_match3.png')\n",
    "\n",
    "# Plot normalized confusion matrix\n",
    "fig = plt.figure()\n",
    "plot_confusion_matrix(cnf_matrix, classes=class_names, normalize=True,\n",
    "                      title='Normalized confusion matrix')\n",
    "fig.savefig('./BLTfigs/confusion_norm_mix_match3.png')\n",
    "plt.show()"
   ]
  },
  {
   "cell_type": "code",
   "execution_count": 219,
   "metadata": {
    "ExecuteTime": {
     "end_time": "2019-01-14T22:48:29.587906Z",
     "start_time": "2019-01-14T22:48:29.571853Z"
    }
   },
   "outputs": [
    {
     "data": {
      "text/plain": [
       "0.6190744497032529"
      ]
     },
     "execution_count": 219,
     "metadata": {},
     "output_type": "execute_result"
    }
   ],
   "source": [
    "# Calculate the normalized average accuracy\n",
    "# for use in a graph of augmentation performance\n",
    "cm_norm = cnf_matrix.astype('float') / cnf_matrix.sum(axis=1)[:, np.newaxis]\n",
    "avg_norm_match3 = (cm_norm[0,0]+cm_norm[1,1]+cm_norm[2,2])/3\n",
    "avg_norm_match3"
   ]
  },
  {
   "cell_type": "markdown",
   "metadata": {},
   "source": [
    "## Matching 1:2"
   ]
  },
  {
   "cell_type": "code",
   "execution_count": 207,
   "metadata": {
    "ExecuteTime": {
     "end_time": "2019-01-14T22:42:56.739485Z",
     "start_time": "2019-01-14T22:42:42.506749Z"
    }
   },
   "outputs": [
    {
     "name": "stdout",
     "output_type": "stream",
     "text": [
      "{'estimator__C': 29763.51441631319, 'estimator__gamma': 0.001584893192461114}\n",
      "0.7357723577235772\n"
     ]
    },
    {
     "data": {
      "text/html": [
       "\n",
       "                <audio controls=\"controls\" autoplay=\"autoplay\">\n",
       "                    <source src=\"./data/Glass.wav\" type=\"audio/x-wav\" />\n",
       "                    Your browser does not support the audio element.\n",
       "                </audio>\n",
       "              "
      ],
      "text/plain": [
       "<IPython.lib.display.Audio object>"
      ]
     },
     "execution_count": 207,
     "metadata": {},
     "output_type": "execute_result"
    }
   ],
   "source": [
    "# SVC-RBF with all features, normalized\n",
    "    # ENM weight fractions\n",
    "    # Accuracy\n",
    "\n",
    "from sklearn.pipeline import Pipeline\n",
    "from sklearn.model_selection import GridSearchCV\n",
    "from sklearn.preprocessing import MinMaxScaler\n",
    "from sklearn.svm import SVC\n",
    "\n",
    "# Pipeline\n",
    "estimator = SVC(kernel='rbf',class_weight='balanced')\n",
    "prepipe = Pipeline([\n",
    "    ('scale', MinMaxScaler()),\n",
    "    ('estimator', estimator)\n",
    "])\n",
    "\n",
    "# Set parameter ranges for gridsearch\n",
    "cv=10\n",
    "n_jobs=3\n",
    "\n",
    "c_set=np.logspace(0,5,20)\n",
    "gamma_set=np.logspace(-6,0,16)\n",
    "\n",
    "# Gridsearch\n",
    "param_grid={'estimator__C': c_set,\n",
    "            'estimator__gamma': gamma_set\n",
    "           }\n",
    "grid_search=GridSearchCV(prepipe,param_grid,cv=cv,scoring='accuracy', n_jobs=n_jobs, pre_dispatch=2*n_jobs)\n",
    "grid_search.fit(X_match2+0.00001,bin_match2)\n",
    "print(grid_search.best_params_)\n",
    "print(grid_search.best_score_)\n",
    "\n",
    "# Play sound when done running\n",
    "Audio(url=sound_file, autoplay=True)"
   ]
  },
  {
   "cell_type": "code",
   "execution_count": 213,
   "metadata": {
    "ExecuteTime": {
     "end_time": "2019-01-14T22:44:46.191726Z",
     "start_time": "2019-01-14T22:44:46.155816Z"
    }
   },
   "outputs": [
    {
     "data": {
      "text/plain": [
       "Pipeline(memory=None,\n",
       "     steps=[('scale', MinMaxScaler(copy=True, feature_range=(0, 1))), ('estimator', SVC(C=29763.51441631319, cache_size=200, class_weight='balanced', coef0=0.0,\n",
       "  decision_function_shape='ovr', degree=3, gamma=0.001584893192461114,\n",
       "  kernel='rbf', max_iter=-1, probability=False, random_state=None,\n",
       "  shrinking=True, tol=0.001, verbose=False))])"
      ]
     },
     "execution_count": 213,
     "metadata": {},
     "output_type": "execute_result"
    }
   ],
   "source": [
    "# Final pipeline\n",
    "bestpipe = Pipeline([\n",
    "    ('scale', MinMaxScaler()),\n",
    "    ('estimator', SVC(kernel='rbf',class_weight='balanced', \n",
    "                      C=grid_search.best_params_.get('estimator__C'), \n",
    "                      gamma=grid_search.best_params_.get('estimator__gamma')))\n",
    "     ])\n",
    "bestpipe.fit(X_match2,bin_match2)"
   ]
  },
  {
   "cell_type": "code",
   "execution_count": 214,
   "metadata": {
    "ExecuteTime": {
     "end_time": "2019-01-14T22:45:00.758063Z",
     "start_time": "2019-01-14T22:45:00.275462Z"
    },
    "scrolled": true
   },
   "outputs": [
    {
     "name": "stdout",
     "output_type": "stream",
     "text": [
      "Confusion matrix, without normalization\n",
      "[[36  0  0]\n",
      " [11 15  3]\n",
      " [ 2  0 15]]\n",
      "Normalized confusion matrix\n",
      "[[1.   0.   0.  ]\n",
      " [0.38 0.52 0.1 ]\n",
      " [0.12 0.   0.88]]\n"
     ]
    },
    {
     "data": {
      "image/png": "[encoded data removed]",
      "text/plain": [
       "<Figure size 432x288 with 2 Axes>"
      ]
     },
     "metadata": {},
     "output_type": "display_data"
    },
    {
     "data": {
      "image/png": "[encoded data removed]",
      "text/plain": [
       "<Figure size 432x288 with 2 Axes>"
      ]
     },
     "metadata": {},
     "output_type": "display_data"
    }
   ],
   "source": [
    "# Cross-validation for confusion matrix\n",
    "from sklearn import model_selection\n",
    "\n",
    "X=np.array(X_enm)\n",
    "y=np.array(bin_enm)\n",
    "\n",
    "kfold = model_selection.StratifiedKFold(n_splits=17,shuffle=True, random_state=24)\n",
    "cnf_matrix2=np.zeros([3,3])\n",
    "\n",
    "for train_index,test_index in kfold.split(X,y):\n",
    "    X_train, X_test = X[train_index], X[test_index]\n",
    "    y_train, y_test = y[train_index], y[test_index]\n",
    "#    bestpipe.fit(X_train,y_train)\n",
    "    y_enm_predict=bestpipe.predict(X_test)\n",
    "    y[test_index]=y_enm_predict\n",
    "    cnf_matrix2+= confusion_matrix(y_test, y_enm_predict);\n",
    "    \n",
    "# Set confusion matrix\n",
    "cnf_matrix=cnf_matrix2.astype(np.int)\n",
    "cnf_matrix = confusion_matrix(bin_enm, y)\n",
    "\n",
    "np.set_printoptions(precision=2)\n",
    "class_names=[\"low\",\"mid\",\"high\"]\n",
    "\n",
    "# Plot non-normalized confusion matrix\n",
    "fig = plt.figure()\n",
    "plot_confusion_matrix(cnf_matrix, classes=class_names,\n",
    "                      title='Confusion matrix, without normalization')\n",
    "fig.savefig('./BLTfigs/confusion_notnorm_mix_match2.png')\n",
    "\n",
    "# Plot normalized confusion matrix\n",
    "fig = plt.figure()\n",
    "plot_confusion_matrix(cnf_matrix, classes=class_names, normalize=True,\n",
    "                      title='Normalized confusion matrix')\n",
    "fig.savefig('./BLTfigs/confusion_norm_mix_match2.png')\n",
    "plt.show()"
   ]
  },
  {
   "cell_type": "code",
   "execution_count": 215,
   "metadata": {
    "ExecuteTime": {
     "end_time": "2019-01-14T22:45:10.366160Z",
     "start_time": "2019-01-14T22:45:10.349416Z"
    }
   },
   "outputs": [
    {
     "data": {
      "text/plain": [
       "0.7998647734956051"
      ]
     },
     "execution_count": 215,
     "metadata": {},
     "output_type": "execute_result"
    }
   ],
   "source": [
    "# Calculate the normalized average accuracy\n",
    "# for use in a graph of augmentation performance\n",
    "cm_norm = cnf_matrix.astype('float') / cnf_matrix.sum(axis=1)[:, np.newaxis]\n",
    "avg_norm_match2 = (cm_norm[0,0]+cm_norm[1,1]+cm_norm[2,2])/3\n",
    "avg_norm_match2"
   ]
  },
  {
   "cell_type": "markdown",
   "metadata": {},
   "source": [
    "## Augmentation Performance"
   ]
  },
  {
   "cell_type": "markdown",
   "metadata": {},
   "source": [
    "Using dataframes with different random states."
   ]
  },
  {
   "cell_type": "code",
   "execution_count": null,
   "metadata": {
    "collapsed": true
   },
   "outputs": [],
   "source": [
    "augment = [('ENM-Organics_Ratio', ['1:200','1:100','1:50','1:20','1:10','1:4','1:2','1:0']),\n",
    "           ('Percent_Organics',[100,50,25,10,5,2,1,0]),\n",
    "          ('Avg_Norm_Performance', [avg_norm_oneto200,avg_norm_oneto100,avg_norm_oneto50,avg_norm_oneto20,avg_norm_oneto10,avg_norm_oneto4,avg_norm_oneto2,avg_norm_enm])]\n",
    "augment_df = pd.DataFrame.from_list(augment)"
   ]
  },
  {
   "cell_type": "code",
   "execution_count": 224,
   "metadata": {
    "ExecuteTime": {
     "end_time": "2019-01-14T22:50:30.636570Z",
     "start_time": "2019-01-14T22:50:30.606582Z"
    }
   },
   "outputs": [
    {
     "name": "stderr",
     "output_type": "stream",
     "text": [
      "/anaconda3/lib/python3.6/site-packages/ipykernel/__main__.py:4: FutureWarning: from_items is deprecated. Please use DataFrame.from_dict(dict(items), ...) instead. DataFrame.from_dict(OrderedDict(items)) may be used to preserve the key order.\n"
     ]
    },
    {
     "data": {
      "text/html": [
       "<div>\n",
       "<style scoped>\n",
       "    .dataframe tbody tr th:only-of-type {\n",
       "        vertical-align: middle;\n",
       "    }\n",
       "\n",
       "    .dataframe tbody tr th {\n",
       "        vertical-align: top;\n",
       "    }\n",
       "\n",
       "    .dataframe thead th {\n",
       "        text-align: right;\n",
       "    }\n",
       "</style>\n",
       "<table border=\"1\" class=\"dataframe\">\n",
       "  <thead>\n",
       "    <tr style=\"text-align: right;\">\n",
       "      <th></th>\n",
       "      <th>ENM-Organics_Ratio</th>\n",
       "      <th>Percent_Organics_Used</th>\n",
       "      <th>Avg_Norm_Performance</th>\n",
       "    </tr>\n",
       "  </thead>\n",
       "  <tbody>\n",
       "    <tr>\n",
       "      <th>0</th>\n",
       "      <td>1:200</td>\n",
       "      <td>100.0</td>\n",
       "      <td>0.503333</td>\n",
       "    </tr>\n",
       "    <tr>\n",
       "      <th>1</th>\n",
       "      <td>1:20</td>\n",
       "      <td>10.0</td>\n",
       "      <td>0.500526</td>\n",
       "    </tr>\n",
       "    <tr>\n",
       "      <th>2</th>\n",
       "      <td>1:10</td>\n",
       "      <td>5.0</td>\n",
       "      <td>0.500526</td>\n",
       "    </tr>\n",
       "    <tr>\n",
       "      <th>3</th>\n",
       "      <td>1:5</td>\n",
       "      <td>2.5</td>\n",
       "      <td>0.555462</td>\n",
       "    </tr>\n",
       "    <tr>\n",
       "      <th>4</th>\n",
       "      <td>1:4</td>\n",
       "      <td>2.0</td>\n",
       "      <td>0.857336</td>\n",
       "    </tr>\n",
       "    <tr>\n",
       "      <th>5</th>\n",
       "      <td>1:3</td>\n",
       "      <td>1.5</td>\n",
       "      <td>0.619074</td>\n",
       "    </tr>\n",
       "    <tr>\n",
       "      <th>6</th>\n",
       "      <td>1:2</td>\n",
       "      <td>1.0</td>\n",
       "      <td>0.799865</td>\n",
       "    </tr>\n",
       "    <tr>\n",
       "      <th>7</th>\n",
       "      <td>1:0</td>\n",
       "      <td>0.0</td>\n",
       "      <td>0.656619</td>\n",
       "    </tr>\n",
       "  </tbody>\n",
       "</table>\n",
       "</div>"
      ],
      "text/plain": [
       "  ENM-Organics_Ratio  Percent_Organics_Used  Avg_Norm_Performance\n",
       "0              1:200                  100.0              0.503333\n",
       "1               1:20                   10.0              0.500526\n",
       "2               1:10                    5.0              0.500526\n",
       "3                1:5                    2.5              0.555462\n",
       "4                1:4                    2.0              0.857336\n",
       "5                1:3                    1.5              0.619074\n",
       "6                1:2                    1.0              0.799865\n",
       "7                1:0                    0.0              0.656619"
      ]
     },
     "execution_count": 224,
     "metadata": {},
     "output_type": "execute_result"
    }
   ],
   "source": [
    "augment_match = [('ENM-Organics_Ratio', ['1:200','1:20','1:10','1:5','1:4','1:3','1:2','1:0']),\n",
    "           ('Percent_Organics_Used',[100,10,5,2.5,2,1.5,1,0]),\n",
    "          ('Avg_Norm_Performance', [avg_norm_oneto200,avg_norm_match20,avg_norm_match10,avg_norm_match5,avg_norm_match4,avg_norm_match3,avg_norm_match2,avg_norm_enm])]\n",
    "augment_match_df = pd.DataFrame.from_items(augment_match)\n",
    "augment_match_df"
   ]
  },
  {
   "cell_type": "markdown",
   "metadata": {},
   "source": [
    "# Random Forest Models"
   ]
  },
  {
   "cell_type": "code",
   "execution_count": 186,
   "metadata": {
    "ExecuteTime": {
     "end_time": "2019-01-14T22:27:02.318348Z",
     "start_time": "2019-01-14T22:27:00.990723Z"
    }
   },
   "outputs": [
    {
     "name": "stdout",
     "output_type": "stream",
     "text": [
      "{'estimator__n_estimators': 20}\n",
      "0.5853658536585366\n",
      "accuracy\n"
     ]
    },
    {
     "data": {
      "text/html": [
       "\n",
       "                <audio controls=\"controls\" autoplay=\"autoplay\">\n",
       "                    <source src=\"./data/Glass.wav\" type=\"audio/x-wav\" />\n",
       "                    Your browser does not support the audio element.\n",
       "                </audio>\n",
       "              "
      ],
      "text/plain": [
       "<IPython.lib.display.Audio object>"
      ]
     },
     "execution_count": 186,
     "metadata": {},
     "output_type": "execute_result"
    }
   ],
   "source": [
    "# SVR-RBF with all features, normalized\n",
    "    # ENM weight fractions\n",
    "    # Accuracy\n",
    "\n",
    "from sklearn.pipeline import Pipeline\n",
    "from sklearn.model_selection import GridSearchCV\n",
    "from sklearn.preprocessing import MinMaxScaler\n",
    "from sklearn.ensemble import RandomForestClassifier\n",
    "\n",
    "# Pipeline\n",
    "estimator = RandomForestClassifier()\n",
    "prepipe = Pipeline([\n",
    "    ('scale', MinMaxScaler()),\n",
    "    ('estimator', estimator)\n",
    "])\n",
    "\n",
    "# Set parameter ranges for gridsearch\n",
    "cv = 10\n",
    "n_jobs = 3\n",
    "n_set = [8,10,12,14,16,18,20,22,24,26]\n",
    "\n",
    "# Gridsearch\n",
    "param_grid={'estimator__n_estimators': n_set}\n",
    "grid_search=GridSearchCV(prepipe,param_grid,cv=cv,scoring='accuracy', n_jobs=n_jobs, pre_dispatch=2*n_jobs)\n",
    "grid_search.fit(X_enm+0.00001,bin_enm)\n",
    "print(grid_search.best_params_)\n",
    "print(grid_search.best_score_)\n",
    "print(grid_search.scoring)\n",
    "\n",
    "# Play sound when done running\n",
    "Audio(url=sound_file, autoplay=True)"
   ]
  },
  {
   "cell_type": "code",
   "execution_count": 202,
   "metadata": {
    "ExecuteTime": {
     "end_time": "2019-01-14T22:39:26.442769Z",
     "start_time": "2019-01-14T22:39:24.411883Z"
    }
   },
   "outputs": [
    {
     "name": "stdout",
     "output_type": "stream",
     "text": [
      "{'estimator__n_estimators': 28}\n",
      "0.6869918699186992\n",
      "accuracy\n"
     ]
    },
    {
     "data": {
      "text/html": [
       "\n",
       "                <audio controls=\"controls\" autoplay=\"autoplay\">\n",
       "                    <source src=\"./data/Glass.wav\" type=\"audio/x-wav\" />\n",
       "                    Your browser does not support the audio element.\n",
       "                </audio>\n",
       "              "
      ],
      "text/plain": [
       "<IPython.lib.display.Audio object>"
      ]
     },
     "execution_count": 202,
     "metadata": {},
     "output_type": "execute_result"
    }
   ],
   "source": [
    "# SVR-RBF with all features, normalized\n",
    "    # ENM weight fractions\n",
    "    # Accuracy\n",
    "\n",
    "from sklearn.pipeline import Pipeline\n",
    "from sklearn.model_selection import GridSearchCV\n",
    "from sklearn.preprocessing import MinMaxScaler\n",
    "from sklearn.ensemble import RandomForestClassifier\n",
    "\n",
    "# Pipeline\n",
    "estimator = RandomForestClassifier()\n",
    "prepipe = Pipeline([\n",
    "    ('scale', MinMaxScaler()),\n",
    "    ('estimator', estimator)\n",
    "])\n",
    "\n",
    "# Set parameter ranges for gridsearch\n",
    "cv = 10\n",
    "n_jobs = 3\n",
    "n_set = [8,10,12,14,16,18,20,22,24,26,28,30,32]\n",
    "\n",
    "# Gridsearch\n",
    "param_grid={'estimator__n_estimators': n_set}\n",
    "grid_search=GridSearchCV(prepipe,param_grid,cv=cv,scoring='accuracy', n_jobs=n_jobs, pre_dispatch=2*n_jobs)\n",
    "grid_search.fit(X_match2+0.00001,bin_match2)\n",
    "print(grid_search.best_params_)\n",
    "print(grid_search.best_score_)\n",
    "print(grid_search.scoring)\n",
    "\n",
    "# Play sound when done running\n",
    "Audio(url=sound_file, autoplay=True)"
   ]
  },
  {
   "cell_type": "code",
   "execution_count": 205,
   "metadata": {
    "ExecuteTime": {
     "end_time": "2019-01-14T22:41:22.923534Z",
     "start_time": "2019-01-14T22:41:22.905293Z"
    }
   },
   "outputs": [
    {
     "data": {
      "text/plain": [
       "28"
      ]
     },
     "execution_count": 205,
     "metadata": {},
     "output_type": "execute_result"
    }
   ],
   "source": [
    "grid_search.best_params_.get('estimator__n_estimators')"
   ]
  },
  {
   "cell_type": "code",
   "execution_count": 206,
   "metadata": {
    "ExecuteTime": {
     "end_time": "2019-01-14T22:42:13.772670Z",
     "start_time": "2019-01-14T22:42:13.718847Z"
    }
   },
   "outputs": [
    {
     "data": {
      "text/plain": [
       "Pipeline(memory=None,\n",
       "     steps=[('scale', MinMaxScaler(copy=True, feature_range=(0, 1))), ('estimator', RandomForestClassifier(bootstrap=True, class_weight=None, criterion='gini',\n",
       "            max_depth=None, max_features='auto', max_leaf_nodes=None,\n",
       "            min_impurity_decrease=0.0, min_impurity_split=None,\n",
       "           ...n_jobs=1,\n",
       "            oob_score=False, random_state=None, verbose=0,\n",
       "            warm_start=False))])"
      ]
     },
     "execution_count": 206,
     "metadata": {},
     "output_type": "execute_result"
    }
   ],
   "source": [
    "# Final pipeline\n",
    "bestpipe = Pipeline([\n",
    "    ('scale', MinMaxScaler()),\n",
    "    ('estimator', RandomForestClassifier(\n",
    "        n_estimators = grid_search.best_params_.get('estimator__n_estimators')))\n",
    "     ])\n",
    "bestpipe.fit(X_match2,bin_match2)"
   ]
  },
  {
   "cell_type": "code",
   "execution_count": 204,
   "metadata": {
    "ExecuteTime": {
     "end_time": "2019-01-14T22:39:56.146946Z",
     "start_time": "2019-01-14T22:39:55.631804Z"
    }
   },
   "outputs": [
    {
     "name": "stdout",
     "output_type": "stream",
     "text": [
      "Confusion matrix, without normalization\n",
      "[[36  0  0]\n",
      " [ 7 20  2]\n",
      " [ 2  0 15]]\n",
      "Normalized confusion matrix\n",
      "[[1.   0.   0.  ]\n",
      " [0.24 0.69 0.07]\n",
      " [0.12 0.   0.88]]\n"
     ]
    },
    {
     "data": {
      "image/png": "[encoded data removed]",
      "text/plain": [
       "<Figure size 432x288 with 2 Axes>"
      ]
     },
     "metadata": {},
     "output_type": "display_data"
    },
    {
     "data": {
      "image/png": "[encoded data removed]",
      "text/plain": [
       "<Figure size 432x288 with 2 Axes>"
      ]
     },
     "metadata": {},
     "output_type": "display_data"
    }
   ],
   "source": [
    "# Cross-validation for confusion matrix\n",
    "from sklearn import model_selection\n",
    "\n",
    "X=np.array(X_enm)\n",
    "y=np.array(bin_enm)\n",
    "\n",
    "kfold = model_selection.StratifiedKFold(n_splits=17,shuffle=True, random_state=24)\n",
    "cnf_matrix2=np.zeros([3,3])\n",
    "\n",
    "for train_index,test_index in kfold.split(X,y):\n",
    "    X_train, X_test = X[train_index], X[test_index]\n",
    "    y_train, y_test = y[train_index], y[test_index]\n",
    "#    bestpipe.fit(X_train,y_train)\n",
    "    y_enm_predict=bestpipe.predict(X_test)\n",
    "    y[test_index]=y_enm_predict\n",
    "    cnf_matrix2+= confusion_matrix(y_test, y_enm_predict);\n",
    "    \n",
    "# Set confusion matrix\n",
    "cnf_matrix=cnf_matrix2.astype(np.int)\n",
    "cnf_matrix = confusion_matrix(bin_enm, y)\n",
    "\n",
    "np.set_printoptions(precision=2)\n",
    "class_names=[\"low\",\"mid\",\"high\"]\n",
    "\n",
    "# Plot non-normalized confusion matrix\n",
    "fig = plt.figure()\n",
    "plot_confusion_matrix(cnf_matrix, classes=class_names,\n",
    "                      title='Confusion matrix, without normalization')\n",
    "fig.savefig('./BLTfigs/confusion_notnorm_mix_match2.png')\n",
    "\n",
    "# Plot normalized confusion matrix\n",
    "fig = plt.figure()\n",
    "plot_confusion_matrix(cnf_matrix, classes=class_names, normalize=True,\n",
    "                      title='Normalized confusion matrix')\n",
    "fig.savefig('./BLTfigs/confusion_norm_mix_match2.png')\n",
    "plt.show()"
   ]
  },
  {
   "cell_type": "code",
   "execution_count": null,
   "metadata": {
    "collapsed": true
   },
   "outputs": [],
   "source": []
  }
 ],
 "metadata": {
  "kernelspec": {
   "display_name": "Python 3",
   "language": "python",
   "name": "python3"
  },
  "language_info": {
   "codemirror_mode": {
    "name": "ipython",
    "version": 3
   },
   "file_extension": ".py",
   "mimetype": "text/x-python",
   "name": "python",
   "nbconvert_exporter": "python",
   "pygments_lexer": "ipython3",
   "version": "3.7.3"
  },
  "toc": {
   "base_numbering": 1,
   "nav_menu": {},
   "number_sections": true,
   "sideBar": true,
   "skip_h1_title": false,
   "title_cell": "Table of Contents",
   "title_sidebar": "Contents",
   "toc_cell": true,
   "toc_position": {
    "height": "calc(100% - 180px)",
    "left": "10px",
    "top": "150px",
    "width": "178px"
   },
   "toc_section_display": true,
   "toc_window_display": true
  }
 },
 "nbformat": 4,
 "nbformat_minor": 2
}
