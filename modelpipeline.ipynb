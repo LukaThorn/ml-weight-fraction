{
 "cells": [
  {
   "cell_type": "markdown",
   "metadata": {
    "toc": true
   },
   "source": [
    "<h1>Table of Contents<span class=\"tocSkip\"></span></h1>\n",
    "<div class=\"toc\"><ul class=\"toc-item\"><li><span><a href=\"#Code-setup\" data-toc-modified-id=\"Code-setup-1\"><span class=\"toc-item-num\">1&nbsp;&nbsp;</span>Code setup</a></span></li><li><span><a href=\"#Data\" data-toc-modified-id=\"Data-2\"><span class=\"toc-item-num\">2&nbsp;&nbsp;</span>Data</a></span><ul class=\"toc-item\"><li><span><a href=\"#Read-in-data\" data-toc-modified-id=\"Read-in-data-2.1\"><span class=\"toc-item-num\">2.1&nbsp;&nbsp;</span>Read in data</a></span><ul class=\"toc-item\"><li><span><a href=\"#Alternate-MW-calculations,-dataframes\" data-toc-modified-id=\"Alternate-MW-calculations,-dataframes-2.1.1\"><span class=\"toc-item-num\">2.1.1&nbsp;&nbsp;</span>Alternate MW calculations, dataframes</a></span><ul class=\"toc-item\"><li><span><a href=\"#Impute-ENM-diameter\" data-toc-modified-id=\"Impute-ENM-diameter-2.1.1.1\"><span class=\"toc-item-num\">2.1.1.1&nbsp;&nbsp;</span>Impute ENM diameter</a></span></li><li><span><a href=\"#Apply-alternate-variables\" data-toc-modified-id=\"Apply-alternate-variables-2.1.1.2\"><span class=\"toc-item-num\">2.1.1.2&nbsp;&nbsp;</span>Apply alternate variables</a></span></li></ul></li></ul></li><li><span><a href=\"#Apply-WF-bins\" data-toc-modified-id=\"Apply-WF-bins-2.2\"><span class=\"toc-item-num\">2.2&nbsp;&nbsp;</span>Apply WF bins</a></span></li></ul></li><li><span><a href=\"#======TESTING======\" data-toc-modified-id=\"======TESTING======-3\"><span class=\"toc-item-num\">3&nbsp;&nbsp;</span>======TESTING======</a></span></li><li><span><a href=\"#Model-setup\" data-toc-modified-id=\"Model-setup-4\"><span class=\"toc-item-num\">4&nbsp;&nbsp;</span>Model setup</a></span></li><li><span><a href=\"#SVC-RBF-Models\" data-toc-modified-id=\"SVC-RBF-Models-5\"><span class=\"toc-item-num\">5&nbsp;&nbsp;</span>SVC-RBF Models</a></span><ul class=\"toc-item\"><li><span><a href=\"#ENM-only\" data-toc-modified-id=\"ENM-only-5.1\"><span class=\"toc-item-num\">5.1&nbsp;&nbsp;</span>ENM-only</a></span><ul class=\"toc-item\"><li><span><a href=\"#Baseline-model\" data-toc-modified-id=\"Baseline-model-5.1.1\"><span class=\"toc-item-num\">5.1.1&nbsp;&nbsp;</span>Baseline model</a></span></li><li><span><a href=\"#Permutation-test\" data-toc-modified-id=\"Permutation-test-5.1.2\"><span class=\"toc-item-num\">5.1.2&nbsp;&nbsp;</span>Permutation test</a></span></li><li><span><a href=\"#Feature-comparison\" data-toc-modified-id=\"Feature-comparison-5.1.3\"><span class=\"toc-item-num\">5.1.3&nbsp;&nbsp;</span>Feature comparison</a></span></li></ul></li><li><span><a href=\"#Organics-only\" data-toc-modified-id=\"Organics-only-5.2\"><span class=\"toc-item-num\">5.2&nbsp;&nbsp;</span>Organics-only</a></span></li><li><span><a href=\"#Randomly-augmented-data\" data-toc-modified-id=\"Randomly-augmented-data-5.3\"><span class=\"toc-item-num\">5.3&nbsp;&nbsp;</span>Randomly augmented data</a></span></li><li><span><a href=\"#Matching-(unsupervised)-augmented-data\" data-toc-modified-id=\"Matching-(unsupervised)-augmented-data-5.4\"><span class=\"toc-item-num\">5.4&nbsp;&nbsp;</span>Matching (unsupervised) augmented data</a></span></li><li><span><a href=\"#Matching-(supervised)-augmented-data\" data-toc-modified-id=\"Matching-(supervised)-augmented-data-5.5\"><span class=\"toc-item-num\">5.5&nbsp;&nbsp;</span>Matching (supervised) augmented data</a></span></li><li><span><a href=\"#Alternative-to-MW\" data-toc-modified-id=\"Alternative-to-MW-5.6\"><span class=\"toc-item-num\">5.6&nbsp;&nbsp;</span>Alternative to MW</a></span><ul class=\"toc-item\"><li><span><a href=\"#Diameter\" data-toc-modified-id=\"Diameter-5.6.1\"><span class=\"toc-item-num\">5.6.1&nbsp;&nbsp;</span>Diameter</a></span><ul class=\"toc-item\"><li><span><a href=\"#Random-augmentation\" data-toc-modified-id=\"Random-augmentation-5.6.1.1\"><span class=\"toc-item-num\">5.6.1.1&nbsp;&nbsp;</span>Random augmentation</a></span></li><li><span><a href=\"#Unsupervised-matching-augmentation\" data-toc-modified-id=\"Unsupervised-matching-augmentation-5.6.1.2\"><span class=\"toc-item-num\">5.6.1.2&nbsp;&nbsp;</span>Unsupervised matching augmentation</a></span></li></ul></li><li><span><a href=\"#Molar-volume\" data-toc-modified-id=\"Molar-volume-5.6.2\"><span class=\"toc-item-num\">5.6.2&nbsp;&nbsp;</span>Molar volume</a></span></li></ul></li></ul></li><li><span><a href=\"#Random-Forest-Models\" data-toc-modified-id=\"Random-Forest-Models-6\"><span class=\"toc-item-num\">6&nbsp;&nbsp;</span>Random Forest Models</a></span><ul class=\"toc-item\"><li><span><a href=\"#ENM-only\" data-toc-modified-id=\"ENM-only-6.1\"><span class=\"toc-item-num\">6.1&nbsp;&nbsp;</span>ENM-only</a></span></li><li><span><a href=\"#Randomly-augmented-data\" data-toc-modified-id=\"Randomly-augmented-data-6.2\"><span class=\"toc-item-num\">6.2&nbsp;&nbsp;</span>Randomly augmented data</a></span></li><li><span><a href=\"#Matching-(unsupervised)-augmented-data\" data-toc-modified-id=\"Matching-(unsupervised)-augmented-data-6.3\"><span class=\"toc-item-num\">6.3&nbsp;&nbsp;</span>Matching (unsupervised) augmented data</a></span></li><li><span><a href=\"#Matching-(supervised)-augmented-data\" data-toc-modified-id=\"Matching-(supervised)-augmented-data-6.4\"><span class=\"toc-item-num\">6.4&nbsp;&nbsp;</span>Matching (supervised) augmented data</a></span></li></ul></li><li><span><a href=\"#Performance-Results\" data-toc-modified-id=\"Performance-Results-7\"><span class=\"toc-item-num\">7&nbsp;&nbsp;</span>Performance Results</a></span><ul class=\"toc-item\"><li><span><a href=\"#SVC-RBF\" data-toc-modified-id=\"SVC-RBF-7.1\"><span class=\"toc-item-num\">7.1&nbsp;&nbsp;</span>SVC-RBF</a></span><ul class=\"toc-item\"><li><span><a href=\"#Permutation-test\" data-toc-modified-id=\"Permutation-test-7.1.1\"><span class=\"toc-item-num\">7.1.1&nbsp;&nbsp;</span>Permutation test</a></span></li><li><span><a href=\"#Significance-testing\" data-toc-modified-id=\"Significance-testing-7.1.2\"><span class=\"toc-item-num\">7.1.2&nbsp;&nbsp;</span>Significance testing</a></span></li></ul></li><li><span><a href=\"#RFC\" data-toc-modified-id=\"RFC-7.2\"><span class=\"toc-item-num\">7.2&nbsp;&nbsp;</span>RFC</a></span></li></ul></li></ul></div>"
   ]
  },
  {
   "cell_type": "markdown",
   "metadata": {},
   "source": [
    "# Code setup"
   ]
  },
  {
   "cell_type": "code",
   "execution_count": 31,
   "metadata": {
    "ExecuteTime": {
     "end_time": "2020-09-14T23:55:43.137549Z",
     "start_time": "2020-09-14T23:55:42.421919Z"
    }
   },
   "outputs": [],
   "source": [
    "# To support both python 2 and python 3\n",
    "from __future__ import division, print_function, unicode_literals\n",
    "\n",
    "# To suppress warning output\n",
    "import warnings\n",
    "warnings.filterwarnings('ignore')\n",
    "warnings.simplefilter('ignore')\n",
    "\n",
    "# Important imports\n",
    "import numpy as np\n",
    "from numpy import random\n",
    "import pandas as pd\n",
    "import os, sys\n",
    "import math\n",
    "\n",
    "# Set random seed across notebook for repeatable results\n",
    "np.random.seed(42)"
   ]
  },
  {
   "cell_type": "code",
   "execution_count": 32,
   "metadata": {
    "ExecuteTime": {
     "end_time": "2020-09-14T23:55:43.375212Z",
     "start_time": "2020-09-14T23:55:43.140047Z"
    }
   },
   "outputs": [],
   "source": [
    "# To plot nice figures\n",
    "%matplotlib inline\n",
    "import matplotlib\n",
    "import matplotlib.pyplot as plt\n",
    "import matplotlib.cm as cm\n",
    "plt.rcParams['axes.titlesize'] = 'x-large' #16\n",
    "plt.rcParams['axes.labelsize'] = 'x-large'\n",
    "plt.rcParams['xtick.labelsize'] = 'x-large'\n",
    "plt.rcParams['ytick.labelsize'] = 'x-large'"
   ]
  },
  {
   "cell_type": "code",
   "execution_count": 33,
   "metadata": {
    "ExecuteTime": {
     "end_time": "2020-09-14T23:55:43.387146Z",
     "start_time": "2020-09-14T23:55:43.377278Z"
    }
   },
   "outputs": [
    {
     "name": "stdout",
     "output_type": "stream",
     "text": [
      "Figure directory exists.\n"
     ]
    }
   ],
   "source": [
    "# Where to save the figures\n",
    "PROJECT_ROOT_DIR = \".\"\n",
    "PROJECT_SAVE_DIR = \"figs\"\n",
    "\n",
    "if not (os.path.isdir(PROJECT_ROOT_DIR+'/'+PROJECT_SAVE_DIR)):\n",
    "    print('Figure directory did not exist, creating now.')\n",
    "    os.mkdir(PROJECT_ROOT_DIR+'/'+PROJECT_SAVE_DIR)\n",
    "else:\n",
    "    print('Figure directory exists.')"
   ]
  },
  {
   "cell_type": "code",
   "execution_count": 34,
   "metadata": {
    "ExecuteTime": {
     "end_time": "2020-09-14T23:55:46.149214Z",
     "start_time": "2020-09-14T23:55:44.234228Z"
    }
   },
   "outputs": [
    {
     "name": "stdout",
     "output_type": "stream",
     "text": [
      "Figure directory exists.\n"
     ]
    }
   ],
   "source": [
    "# Import classes and functions used across multiple notebooks\n",
    "sys.path.append(os.getcwd())\n",
    "import importlib\n",
    "import functions as blt\n",
    "importlib.reload(blt);"
   ]
  },
  {
   "cell_type": "markdown",
   "metadata": {},
   "source": [
    "# Data"
   ]
  },
  {
   "cell_type": "markdown",
   "metadata": {},
   "source": [
    "## Read in data"
   ]
  },
  {
   "cell_type": "code",
   "execution_count": 35,
   "metadata": {
    "ExecuteTime": {
     "end_time": "2020-09-14T23:55:46.935579Z",
     "start_time": "2020-09-14T23:55:46.922676Z"
    }
   },
   "outputs": [
    {
     "name": "stdout",
     "output_type": "stream",
     "text": [
      "X_enm shape: (112, 35)\n",
      "y_enm shape: (112, 1)\n"
     ]
    }
   ],
   "source": [
    "# Target (ENM) data\n",
    "\n",
    "# Read in ENM feature data\n",
    "X_enm = pd.read_csv(\"./data/ENM-preprocessed-feats.csv\", \n",
    "                    sep='\\t', header='infer', index_col=0)\n",
    "# Read in ENM labels (maximum_weight_fraction)\n",
    "y_enm = pd.read_csv(\"./data/ENM-clean.csv\", \n",
    "                    sep=',', header='infer', usecols=[4])\n",
    "print('X_enm shape:', X_enm.shape)\n",
    "print('y_enm shape:', y_enm.shape)"
   ]
  },
  {
   "cell_type": "code",
   "execution_count": 36,
   "metadata": {
    "ExecuteTime": {
     "end_time": "2020-09-14T23:55:47.973180Z",
     "start_time": "2020-09-14T23:55:47.877223Z"
    }
   },
   "outputs": [
    {
     "name": "stdout",
     "output_type": "stream",
     "text": [
      "X_source shape: (16439, 35)\n",
      "y_source shape: (16439, 1)\n"
     ]
    }
   ],
   "source": [
    "# Source (bulk organics) data\n",
    "\n",
    "# Read in source feature data\n",
    "X_source = pd.read_csv(\"./data/organics-preprocessed-feats.csv\", \n",
    "                       sep='\\t', header='infer', index_col=0)\n",
    "# Read in source labels (maximum_weight_fraction)\n",
    "y_source = pd.read_csv(\"./data/organics-preprocessed-WF.csv\", \n",
    "                       sep='\\t', header='infer', index_col=0)\n",
    "y_source.index = X_source.index\n",
    "print('X_source shape:', X_source.shape)\n",
    "print('y_source shape:', y_source.shape)"
   ]
  },
  {
   "cell_type": "code",
   "execution_count": 37,
   "metadata": {
    "ExecuteTime": {
     "end_time": "2020-09-14T23:55:48.429915Z",
     "start_time": "2020-09-14T23:55:48.405269Z"
    }
   },
   "outputs": [
    {
     "data": {
      "text/plain": "   cprp_MW  cprp_MP  cprp_logdensity  fagg_absorbent_opacifier  \\\n0   79.867  1843.00         0.626340                       0.0   \n1   63.546  1083.00         0.952308                       0.0   \n2   65.370   419.53         0.853698                       0.0   \n3  107.868   961.78         1.014730                       0.0   \n\n   fagg_brightener_viscositymodifier  fagg_filler_humectant  \\\n0                                0.5                    0.0   \n1                                0.0                    0.0   \n2                                0.0                    0.0   \n3                                0.0                    0.0   \n\n   func_UVstabilizer  func_antiadhesivecohesive  func_antioxidant  \\\n0                1.0                        0.0               0.0   \n1                0.0                        0.0               1.0   \n2                0.0                        0.0               1.0   \n3                0.0                        0.0               0.0   \n\n   func_antiredepositionagent  ...  pgrp_dentalcare  pgrp_deodorant  \\\n0                         1.0  ...              0.0             0.0   \n1                         0.0  ...              0.0             0.0   \n2                         0.0  ...              0.0             0.0   \n3                         0.0  ...              0.0             0.0   \n\n   pgrp_facialcleansingmoisturizing  pgrp_footcare  pgrp_generalmoisturizing  \\\n0                               0.0            0.0                       0.0   \n1                               0.0            0.0                       0.0   \n2                               0.0            0.0                       0.0   \n3                               1.0            0.0                       0.0   \n\n   pgrp_makeuprelated  pgrp_surfacesealers  mtrx_spray  mtrx_formulation  \\\n0                 0.0                  0.0           0                 1   \n1                 0.0                  0.0           0                 1   \n2                 0.0                  0.0           0                 1   \n3                 0.0                  0.0           0                 1   \n\n   mtrx_WFmeasured  \n0                0  \n1                0  \n2                0  \n3                0  \n\n[4 rows x 35 columns]",
      "text/html": "<div>\n<style scoped>\n    .dataframe tbody tr th:only-of-type {\n        vertical-align: middle;\n    }\n\n    .dataframe tbody tr th {\n        vertical-align: top;\n    }\n\n    .dataframe thead th {\n        text-align: right;\n    }\n</style>\n<table border=\"1\" class=\"dataframe\">\n  <thead>\n    <tr style=\"text-align: right;\">\n      <th></th>\n      <th>cprp_MW</th>\n      <th>cprp_MP</th>\n      <th>cprp_logdensity</th>\n      <th>fagg_absorbent_opacifier</th>\n      <th>fagg_brightener_viscositymodifier</th>\n      <th>fagg_filler_humectant</th>\n      <th>func_UVstabilizer</th>\n      <th>func_antiadhesivecohesive</th>\n      <th>func_antioxidant</th>\n      <th>func_antiredepositionagent</th>\n      <th>...</th>\n      <th>pgrp_dentalcare</th>\n      <th>pgrp_deodorant</th>\n      <th>pgrp_facialcleansingmoisturizing</th>\n      <th>pgrp_footcare</th>\n      <th>pgrp_generalmoisturizing</th>\n      <th>pgrp_makeuprelated</th>\n      <th>pgrp_surfacesealers</th>\n      <th>mtrx_spray</th>\n      <th>mtrx_formulation</th>\n      <th>mtrx_WFmeasured</th>\n    </tr>\n  </thead>\n  <tbody>\n    <tr>\n      <th>0</th>\n      <td>79.867</td>\n      <td>1843.00</td>\n      <td>0.626340</td>\n      <td>0.0</td>\n      <td>0.5</td>\n      <td>0.0</td>\n      <td>1.0</td>\n      <td>0.0</td>\n      <td>0.0</td>\n      <td>1.0</td>\n      <td>...</td>\n      <td>0.0</td>\n      <td>0.0</td>\n      <td>0.0</td>\n      <td>0.0</td>\n      <td>0.0</td>\n      <td>0.0</td>\n      <td>0.0</td>\n      <td>0</td>\n      <td>1</td>\n      <td>0</td>\n    </tr>\n    <tr>\n      <th>1</th>\n      <td>63.546</td>\n      <td>1083.00</td>\n      <td>0.952308</td>\n      <td>0.0</td>\n      <td>0.0</td>\n      <td>0.0</td>\n      <td>0.0</td>\n      <td>0.0</td>\n      <td>1.0</td>\n      <td>0.0</td>\n      <td>...</td>\n      <td>0.0</td>\n      <td>0.0</td>\n      <td>0.0</td>\n      <td>0.0</td>\n      <td>0.0</td>\n      <td>0.0</td>\n      <td>0.0</td>\n      <td>0</td>\n      <td>1</td>\n      <td>0</td>\n    </tr>\n    <tr>\n      <th>2</th>\n      <td>65.370</td>\n      <td>419.53</td>\n      <td>0.853698</td>\n      <td>0.0</td>\n      <td>0.0</td>\n      <td>0.0</td>\n      <td>0.0</td>\n      <td>0.0</td>\n      <td>1.0</td>\n      <td>0.0</td>\n      <td>...</td>\n      <td>0.0</td>\n      <td>0.0</td>\n      <td>0.0</td>\n      <td>0.0</td>\n      <td>0.0</td>\n      <td>0.0</td>\n      <td>0.0</td>\n      <td>0</td>\n      <td>1</td>\n      <td>0</td>\n    </tr>\n    <tr>\n      <th>3</th>\n      <td>107.868</td>\n      <td>961.78</td>\n      <td>1.014730</td>\n      <td>0.0</td>\n      <td>0.0</td>\n      <td>0.0</td>\n      <td>0.0</td>\n      <td>0.0</td>\n      <td>0.0</td>\n      <td>0.0</td>\n      <td>...</td>\n      <td>0.0</td>\n      <td>0.0</td>\n      <td>1.0</td>\n      <td>0.0</td>\n      <td>0.0</td>\n      <td>0.0</td>\n      <td>0.0</td>\n      <td>0</td>\n      <td>1</td>\n      <td>0</td>\n    </tr>\n  </tbody>\n</table>\n<p>4 rows × 35 columns</p>\n</div>"
     },
     "execution_count": 37,
     "metadata": {},
     "output_type": "execute_result"
    }
   ],
   "source": [
    "# View ENM feature df\n",
    "X_enm.head(4)"
   ]
  },
  {
   "cell_type": "code",
   "execution_count": 38,
   "metadata": {
    "ExecuteTime": {
     "end_time": "2020-09-14T23:55:49.136262Z",
     "start_time": "2020-09-14T23:55:49.121718Z"
    }
   },
   "outputs": [],
   "source": [
    "# Read in previous model evaluation results tables\n",
    "results_svc = pd.read_csv(\"./data/results-SVC.csv\", sep='\\t', na_values='nan')\n",
    "results_rfc = pd.read_csv(\"./data/results-RFC.csv\", sep='\\t')\n",
    "results_permute = np.loadtxt('./data/results-permutation-SVC.txt')\n",
    "results_svc_diam = pd.read_csv(\"./data/results-SVC-diam.csv\", \n",
    "                               sep='\\t', na_values='nan')"
   ]
  },
  {
   "cell_type": "markdown",
   "metadata": {},
   "source": [
    "### Alternate MW calculations, dataframes"
   ]
  },
  {
   "cell_type": "markdown",
   "metadata": {},
   "source": [
    "First, we consider the inclusion of \"diameter.\" We lack this data for most ENM CP samples, and all organics CP samples. We will first use imputation to fill ENM data gaps."
   ]
  },
  {
   "cell_type": "markdown",
   "metadata": {},
   "source": [
    "#### Impute ENM diameter"
   ]
  },
  {
   "cell_type": "code",
   "execution_count": 39,
   "metadata": {
    "ExecuteTime": {
     "end_time": "2020-09-14T23:55:52.536090Z",
     "start_time": "2020-09-14T23:55:52.514671Z"
    }
   },
   "outputs": [],
   "source": [
    "# Get list of original features\n",
    "cols_orig = X_enm.columns.tolist()\n",
    "\n",
    "# Reinstate diameter feature for X_enm\n",
    "X_enm['cprp_diameter'] = pd.read_csv(\"./data/ENM-clean.csv\", \n",
    "                                     sep=',', header='infer', usecols=[5])\n",
    "# Define new variable for if ENM diameter was measured [1] or estimated [0]\n",
    "X_enm['cprp_isdiamprovided'] = 1 * X_enm['cprp_diameter'].notnull()\n",
    "X_enm['cprp_logdiameter'] = np.log10(X_enm['cprp_diameter'])"
   ]
  },
  {
   "cell_type": "code",
   "execution_count": 40,
   "metadata": {
    "ExecuteTime": {
     "end_time": "2020-09-14T23:55:56.964210Z",
     "start_time": "2020-09-14T23:55:55.362515Z"
    }
   },
   "outputs": [
    {
     "data": {
      "application/vnd.plotly.v1+json": {
       "config": {
        "plotlyServerURL": "https://plot.ly"
       },
       "data": [
        {
         "dimensions": [
          {
           "axis": {
            "matches": true
           },
           "label": "cprp_diameter",
           "values": [
            null,
            20.0,
            null,
            1.5,
            1.5,
            null,
            157.5,
            null,
            2.0,
            57.5,
            null,
            null,
            null,
            null,
            null,
            null,
            null,
            null,
            null,
            null,
            null,
            35.0,
            1.0,
            null,
            null,
            null,
            null,
            null,
            null,
            null,
            5.0,
            17.5,
            17.5,
            17.5,
            null,
            6.0,
            null,
            null,
            30.0,
            50.0,
            50.0,
            50.0,
            50.0,
            50.0,
            1000.0,
            1000.0,
            null,
            null,
            null,
            null,
            null,
            25.0,
            null,
            null,
            null,
            null,
            null,
            null,
            75.0,
            275.0,
            null,
            null,
            13.0,
            510.0,
            60.0,
            50.0,
            17.0,
            null,
            null,
            121.0,
            150.0,
            null,
            12.5,
            null,
            125.0,
            null,
            null,
            57.0,
            null,
            null,
            16.8,
            18.7,
            23.8,
            10.0,
            16.3,
            19.1,
            21.3,
            16.5,
            30.9,
            39.2,
            18.3,
            115.0,
            200.0,
            6.6,
            30.0,
            40.0,
            27.5,
            22.5,
            22.5,
            20.0,
            30.0,
            25.0,
            30.0,
            27.5,
            30.0,
            60.0,
            60.0,
            35.0,
            30.0,
            40.0,
            null,
            null
           ]
          },
          {
           "axis": {
            "matches": true
           },
           "label": "cprp_logdiameter",
           "values": [
            null,
            1.3010299956639813,
            null,
            0.17609125905568124,
            0.17609125905568124,
            null,
            2.197280558125619,
            null,
            0.3010299956639812,
            1.7596678446896306,
            null,
            null,
            null,
            null,
            null,
            null,
            null,
            null,
            null,
            null,
            null,
            1.5440680443502757,
            0.0,
            null,
            null,
            null,
            null,
            null,
            null,
            null,
            0.6989700043360189,
            1.2430380486862944,
            1.2430380486862944,
            1.2430380486862944,
            null,
            0.7781512503836436,
            null,
            null,
            1.4771212547196624,
            1.6989700043360187,
            1.6989700043360187,
            1.6989700043360187,
            1.6989700043360187,
            1.6989700043360187,
            3.0,
            3.0,
            null,
            null,
            null,
            null,
            null,
            1.3979400086720377,
            null,
            null,
            null,
            null,
            null,
            null,
            1.8750612633917,
            2.439332693830263,
            null,
            null,
            1.1139433523068367,
            2.7075701760979363,
            1.7781512503836436,
            1.6989700043360187,
            1.2304489213782739,
            null,
            null,
            2.0827853703164503,
            2.1760912590556813,
            null,
            1.0969100130080565,
            null,
            2.0969100130080562,
            null,
            null,
            1.7558748556724915,
            null,
            null,
            1.2253092817258628,
            1.271841606536499,
            1.376576957056512,
            1.0,
            1.212187604403958,
            1.2810333672477277,
            1.3283796034387378,
            1.2174839442139063,
            1.4899584794248346,
            1.5932860670204574,
            1.2624510897304295,
            2.060697840353612,
            2.3010299956639813,
            0.8195439355418687,
            1.4771212547196624,
            1.6020599913279623,
            1.4393326938302626,
            1.3521825181113625,
            1.3521825181113625,
            1.3010299956639813,
            1.4771212547196624,
            1.3979400086720377,
            1.4771212547196624,
            1.4393326938302626,
            1.4771212547196624,
            1.7781512503836436,
            1.7781512503836436,
            1.5440680443502757,
            1.4771212547196624,
            1.6020599913279623,
            null,
            null
           ]
          },
          {
           "axis": {
            "matches": true
           },
           "label": "cprp_MP",
           "values": [
            1843.0,
            1083.0,
            419.53,
            961.78,
            961.78,
            961.78,
            961.78,
            961.78,
            961.78,
            961.78,
            961.78,
            961.78,
            961.78,
            961.78,
            961.78,
            961.78,
            961.78,
            961.78,
            961.78,
            961.78,
            961.78,
            961.78,
            961.78,
            961.78,
            961.78,
            961.78,
            961.78,
            961.78,
            2340.0,
            217.0,
            1063.0,
            1772.0,
            1555.0,
            2450.0,
            1660.0,
            1600.0,
            961.78,
            1063.0,
            1975.0,
            1250.0,
            1250.0,
            1250.0,
            1250.0,
            1250.0,
            1843.0,
            1975.0,
            1843.0,
            1975.0,
            1975.0,
            1975.0,
            1975.0,
            1975.0,
            1975.0,
            1975.0,
            1975.0,
            961.78,
            961.78,
            961.78,
            1843.0,
            1975.0,
            961.78,
            961.78,
            961.78,
            1600.0,
            1843.0,
            1600.0,
            1843.0,
            2072.0,
            1600.0,
            1843.0,
            961.78,
            961.78,
            961.78,
            961.78,
            1843.0,
            1600.0,
            1975.0,
            1600.0,
            1843.0,
            961.78,
            1843.0,
            1843.0,
            1843.0,
            1843.0,
            1843.0,
            1843.0,
            1843.0,
            1843.0,
            1843.0,
            1843.0,
            1843.0,
            961.78,
            961.78,
            961.78,
            961.78,
            961.78,
            961.78,
            961.78,
            961.78,
            961.78,
            961.78,
            961.78,
            961.78,
            961.78,
            961.78,
            961.78,
            961.78,
            961.78,
            961.78,
            961.78,
            961.78,
            961.78
           ]
          },
          {
           "axis": {
            "matches": true
           },
           "label": "cprp_MW",
           "values": [
            79.867,
            63.54600000000001,
            65.37,
            107.868,
            107.868,
            107.868,
            107.868,
            107.868,
            107.868,
            107.868,
            107.868,
            107.868,
            107.868,
            107.868,
            107.868,
            107.868,
            107.868,
            107.868,
            107.868,
            107.868,
            107.868,
            107.868,
            107.868,
            107.868,
            107.868,
            107.868,
            107.868,
            107.868,
            172.12,
            78.97,
            196.967,
            195.085,
            106.421,
            192.22,
            47.867,
            60.085,
            107.868,
            196.967,
            81.37,
            247.98,
            247.98,
            247.98,
            247.98,
            247.98,
            79.867,
            81.37,
            79.867,
            81.37,
            81.37,
            81.37,
            81.37,
            81.37,
            81.37,
            81.37,
            81.37,
            107.868,
            107.868,
            107.868,
            79.867,
            81.37,
            107.868,
            107.868,
            107.868,
            60.085,
            79.867,
            60.085,
            79.867,
            101.96,
            60.085,
            79.867,
            107.868,
            107.868,
            107.868,
            107.868,
            79.867,
            60.085,
            81.37,
            60.085,
            79.867,
            107.868,
            79.867,
            79.867,
            79.867,
            79.867,
            79.867,
            79.867,
            79.867,
            79.867,
            79.867,
            79.867,
            79.867,
            107.868,
            107.868,
            107.868,
            107.868,
            107.868,
            107.868,
            107.868,
            107.868,
            107.868,
            107.868,
            107.868,
            107.868,
            107.868,
            107.868,
            107.868,
            107.868,
            107.868,
            107.868,
            107.868,
            107.868,
            107.868
           ]
          },
          {
           "axis": {
            "matches": true
           },
           "label": "cprp_logdensity",
           "values": [
            0.6263403673750424,
            0.9523080096621253,
            0.8536982117761743,
            1.0147304950017535,
            1.0147304950017535,
            1.0147304950017535,
            1.0147304950017535,
            1.0147304950017535,
            1.0147304950017535,
            1.0147304950017535,
            1.0147304950017535,
            1.0147304950017535,
            1.0147304950017535,
            1.0147304950017535,
            1.0147304950017535,
            1.0147304950017535,
            1.0147304950017535,
            1.0147304950017535,
            1.0147304950017535,
            1.0147304950017535,
            1.0147304950017535,
            1.0147304950017535,
            1.0147304950017535,
            1.0147304950017535,
            1.0147304950017535,
            1.0147304950017535,
            1.0147304950017535,
            1.0147304950017535,
            0.8822398480188235,
            0.6803355134145632,
            1.2860071220794749,
            1.331427296520743,
            1.0799044676667209,
            1.3506356082589543,
            0.6537911873878121,
            0.41355121317554994,
            1.0147304950017535,
            1.2860071220794749,
            0.7485756169309921,
            0.8750612633917001,
            0.8750612633917001,
            0.8750612633917001,
            0.8750612633917001,
            0.8750612633917001,
            0.6263403673750424,
            0.7485756169309921,
            0.6263403673750424,
            0.7485756169309921,
            0.7485756169309921,
            0.7485756169309921,
            0.7485756169309921,
            0.7485756169309921,
            0.7485756169309921,
            0.7485756169309921,
            0.7485756169309921,
            1.0147304950017535,
            1.0147304950017535,
            1.0147304950017535,
            0.6263403673750424,
            0.7485756169309921,
            1.0147304950017535,
            1.0147304950017535,
            1.0147304950017535,
            0.41355121317554994,
            0.6263403673750424,
            0.41355121317554994,
            0.6263403673750424,
            0.5792117802314991,
            0.41355121317554994,
            0.6263403673750424,
            1.0147304950017535,
            1.0147304950017535,
            1.0147304950017535,
            1.0147304950017535,
            0.6263403673750424,
            0.41355121317554994,
            0.7485756169309921,
            0.41355121317554994,
            0.6263403673750424,
            1.0147304950017535,
            0.6263403673750424,
            0.6263403673750424,
            0.6263403673750424,
            0.6263403673750424,
            0.6263403673750424,
            0.6263403673750424,
            0.6263403673750424,
            0.6263403673750424,
            0.6263403673750424,
            0.6263403673750424,
            0.6263403673750424,
            1.0147304950017535,
            1.0147304950017535,
            1.0147304950017535,
            1.0147304950017535,
            1.0147304950017535,
            1.0147304950017535,
            1.0147304950017535,
            1.0147304950017535,
            1.0147304950017535,
            1.0147304950017535,
            1.0147304950017535,
            1.0147304950017535,
            1.0147304950017535,
            1.0147304950017535,
            1.0147304950017535,
            1.0147304950017535,
            1.0147304950017535,
            1.0147304950017535,
            1.0147304950017535,
            1.0147304950017535,
            1.0147304950017535
           ]
          }
         ],
         "hovertemplate": "%{xaxis.title.text}=%{x}<br>%{yaxis.title.text}=%{y}<extra></extra>",
         "legendgroup": "",
         "marker": {
          "color": "#636efa",
          "symbol": "circle"
         },
         "name": "",
         "showlegend": false,
         "type": "splom"
        }
       ],
       "layout": {
        "dragmode": "select",
        "legend": {
         "tracegroupgap": 0
        },
        "margin": {
         "t": 60
        },
        "template": {
         "data": {
          "bar": [
           {
            "error_x": {
             "color": "#2a3f5f"
            },
            "error_y": {
             "color": "#2a3f5f"
            },
            "marker": {
             "line": {
              "color": "#E5ECF6",
              "width": 0.5
             }
            },
            "type": "bar"
           }
          ],
          "barpolar": [
           {
            "marker": {
             "line": {
              "color": "#E5ECF6",
              "width": 0.5
             }
            },
            "type": "barpolar"
           }
          ],
          "carpet": [
           {
            "aaxis": {
             "endlinecolor": "#2a3f5f",
             "gridcolor": "white",
             "linecolor": "white",
             "minorgridcolor": "white",
             "startlinecolor": "#2a3f5f"
            },
            "baxis": {
             "endlinecolor": "#2a3f5f",
             "gridcolor": "white",
             "linecolor": "white",
             "minorgridcolor": "white",
             "startlinecolor": "#2a3f5f"
            },
            "type": "carpet"
           }
          ],
          "choropleth": [
           {
            "colorbar": {
             "outlinewidth": 0,
             "ticks": ""
            },
            "type": "choropleth"
           }
          ],
          "contour": [
           {
            "colorbar": {
             "outlinewidth": 0,
             "ticks": ""
            },
            "colorscale": [
             [
              0.0,
              "#0d0887"
             ],
             [
              0.1111111111111111,
              "#46039f"
             ],
             [
              0.2222222222222222,
              "#7201a8"
             ],
             [
              0.3333333333333333,
              "#9c179e"
             ],
             [
              0.4444444444444444,
              "#bd3786"
             ],
             [
              0.5555555555555556,
              "#d8576b"
             ],
             [
              0.6666666666666666,
              "#ed7953"
             ],
             [
              0.7777777777777778,
              "#fb9f3a"
             ],
             [
              0.8888888888888888,
              "#fdca26"
             ],
             [
              1.0,
              "#f0f921"
             ]
            ],
            "type": "contour"
           }
          ],
          "contourcarpet": [
           {
            "colorbar": {
             "outlinewidth": 0,
             "ticks": ""
            },
            "type": "contourcarpet"
           }
          ],
          "heatmap": [
           {
            "colorbar": {
             "outlinewidth": 0,
             "ticks": ""
            },
            "colorscale": [
             [
              0.0,
              "#0d0887"
             ],
             [
              0.1111111111111111,
              "#46039f"
             ],
             [
              0.2222222222222222,
              "#7201a8"
             ],
             [
              0.3333333333333333,
              "#9c179e"
             ],
             [
              0.4444444444444444,
              "#bd3786"
             ],
             [
              0.5555555555555556,
              "#d8576b"
             ],
             [
              0.6666666666666666,
              "#ed7953"
             ],
             [
              0.7777777777777778,
              "#fb9f3a"
             ],
             [
              0.8888888888888888,
              "#fdca26"
             ],
             [
              1.0,
              "#f0f921"
             ]
            ],
            "type": "heatmap"
           }
          ],
          "heatmapgl": [
           {
            "colorbar": {
             "outlinewidth": 0,
             "ticks": ""
            },
            "colorscale": [
             [
              0.0,
              "#0d0887"
             ],
             [
              0.1111111111111111,
              "#46039f"
             ],
             [
              0.2222222222222222,
              "#7201a8"
             ],
             [
              0.3333333333333333,
              "#9c179e"
             ],
             [
              0.4444444444444444,
              "#bd3786"
             ],
             [
              0.5555555555555556,
              "#d8576b"
             ],
             [
              0.6666666666666666,
              "#ed7953"
             ],
             [
              0.7777777777777778,
              "#fb9f3a"
             ],
             [
              0.8888888888888888,
              "#fdca26"
             ],
             [
              1.0,
              "#f0f921"
             ]
            ],
            "type": "heatmapgl"
           }
          ],
          "histogram": [
           {
            "marker": {
             "colorbar": {
              "outlinewidth": 0,
              "ticks": ""
             }
            },
            "type": "histogram"
           }
          ],
          "histogram2d": [
           {
            "colorbar": {
             "outlinewidth": 0,
             "ticks": ""
            },
            "colorscale": [
             [
              0.0,
              "#0d0887"
             ],
             [
              0.1111111111111111,
              "#46039f"
             ],
             [
              0.2222222222222222,
              "#7201a8"
             ],
             [
              0.3333333333333333,
              "#9c179e"
             ],
             [
              0.4444444444444444,
              "#bd3786"
             ],
             [
              0.5555555555555556,
              "#d8576b"
             ],
             [
              0.6666666666666666,
              "#ed7953"
             ],
             [
              0.7777777777777778,
              "#fb9f3a"
             ],
             [
              0.8888888888888888,
              "#fdca26"
             ],
             [
              1.0,
              "#f0f921"
             ]
            ],
            "type": "histogram2d"
           }
          ],
          "histogram2dcontour": [
           {
            "colorbar": {
             "outlinewidth": 0,
             "ticks": ""
            },
            "colorscale": [
             [
              0.0,
              "#0d0887"
             ],
             [
              0.1111111111111111,
              "#46039f"
             ],
             [
              0.2222222222222222,
              "#7201a8"
             ],
             [
              0.3333333333333333,
              "#9c179e"
             ],
             [
              0.4444444444444444,
              "#bd3786"
             ],
             [
              0.5555555555555556,
              "#d8576b"
             ],
             [
              0.6666666666666666,
              "#ed7953"
             ],
             [
              0.7777777777777778,
              "#fb9f3a"
             ],
             [
              0.8888888888888888,
              "#fdca26"
             ],
             [
              1.0,
              "#f0f921"
             ]
            ],
            "type": "histogram2dcontour"
           }
          ],
          "mesh3d": [
           {
            "colorbar": {
             "outlinewidth": 0,
             "ticks": ""
            },
            "type": "mesh3d"
           }
          ],
          "parcoords": [
           {
            "line": {
             "colorbar": {
              "outlinewidth": 0,
              "ticks": ""
             }
            },
            "type": "parcoords"
           }
          ],
          "pie": [
           {
            "automargin": true,
            "type": "pie"
           }
          ],
          "scatter": [
           {
            "marker": {
             "colorbar": {
              "outlinewidth": 0,
              "ticks": ""
             }
            },
            "type": "scatter"
           }
          ],
          "scatter3d": [
           {
            "line": {
             "colorbar": {
              "outlinewidth": 0,
              "ticks": ""
             }
            },
            "marker": {
             "colorbar": {
              "outlinewidth": 0,
              "ticks": ""
             }
            },
            "type": "scatter3d"
           }
          ],
          "scattercarpet": [
           {
            "marker": {
             "colorbar": {
              "outlinewidth": 0,
              "ticks": ""
             }
            },
            "type": "scattercarpet"
           }
          ],
          "scattergeo": [
           {
            "marker": {
             "colorbar": {
              "outlinewidth": 0,
              "ticks": ""
             }
            },
            "type": "scattergeo"
           }
          ],
          "scattergl": [
           {
            "marker": {
             "colorbar": {
              "outlinewidth": 0,
              "ticks": ""
             }
            },
            "type": "scattergl"
           }
          ],
          "scattermapbox": [
           {
            "marker": {
             "colorbar": {
              "outlinewidth": 0,
              "ticks": ""
             }
            },
            "type": "scattermapbox"
           }
          ],
          "scatterpolar": [
           {
            "marker": {
             "colorbar": {
              "outlinewidth": 0,
              "ticks": ""
             }
            },
            "type": "scatterpolar"
           }
          ],
          "scatterpolargl": [
           {
            "marker": {
             "colorbar": {
              "outlinewidth": 0,
              "ticks": ""
             }
            },
            "type": "scatterpolargl"
           }
          ],
          "scatterternary": [
           {
            "marker": {
             "colorbar": {
              "outlinewidth": 0,
              "ticks": ""
             }
            },
            "type": "scatterternary"
           }
          ],
          "surface": [
           {
            "colorbar": {
             "outlinewidth": 0,
             "ticks": ""
            },
            "colorscale": [
             [
              0.0,
              "#0d0887"
             ],
             [
              0.1111111111111111,
              "#46039f"
             ],
             [
              0.2222222222222222,
              "#7201a8"
             ],
             [
              0.3333333333333333,
              "#9c179e"
             ],
             [
              0.4444444444444444,
              "#bd3786"
             ],
             [
              0.5555555555555556,
              "#d8576b"
             ],
             [
              0.6666666666666666,
              "#ed7953"
             ],
             [
              0.7777777777777778,
              "#fb9f3a"
             ],
             [
              0.8888888888888888,
              "#fdca26"
             ],
             [
              1.0,
              "#f0f921"
             ]
            ],
            "type": "surface"
           }
          ],
          "table": [
           {
            "cells": {
             "fill": {
              "color": "#EBF0F8"
             },
             "line": {
              "color": "white"
             }
            },
            "header": {
             "fill": {
              "color": "#C8D4E3"
             },
             "line": {
              "color": "white"
             }
            },
            "type": "table"
           }
          ]
         },
         "layout": {
          "annotationdefaults": {
           "arrowcolor": "#2a3f5f",
           "arrowhead": 0,
           "arrowwidth": 1
          },
          "coloraxis": {
           "colorbar": {
            "outlinewidth": 0,
            "ticks": ""
           }
          },
          "colorscale": {
           "diverging": [
            [
             0,
             "#8e0152"
            ],
            [
             0.1,
             "#c51b7d"
            ],
            [
             0.2,
             "#de77ae"
            ],
            [
             0.3,
             "#f1b6da"
            ],
            [
             0.4,
             "#fde0ef"
            ],
            [
             0.5,
             "#f7f7f7"
            ],
            [
             0.6,
             "#e6f5d0"
            ],
            [
             0.7,
             "#b8e186"
            ],
            [
             0.8,
             "#7fbc41"
            ],
            [
             0.9,
             "#4d9221"
            ],
            [
             1,
             "#276419"
            ]
           ],
           "sequential": [
            [
             0.0,
             "#0d0887"
            ],
            [
             0.1111111111111111,
             "#46039f"
            ],
            [
             0.2222222222222222,
             "#7201a8"
            ],
            [
             0.3333333333333333,
             "#9c179e"
            ],
            [
             0.4444444444444444,
             "#bd3786"
            ],
            [
             0.5555555555555556,
             "#d8576b"
            ],
            [
             0.6666666666666666,
             "#ed7953"
            ],
            [
             0.7777777777777778,
             "#fb9f3a"
            ],
            [
             0.8888888888888888,
             "#fdca26"
            ],
            [
             1.0,
             "#f0f921"
            ]
           ],
           "sequentialminus": [
            [
             0.0,
             "#0d0887"
            ],
            [
             0.1111111111111111,
             "#46039f"
            ],
            [
             0.2222222222222222,
             "#7201a8"
            ],
            [
             0.3333333333333333,
             "#9c179e"
            ],
            [
             0.4444444444444444,
             "#bd3786"
            ],
            [
             0.5555555555555556,
             "#d8576b"
            ],
            [
             0.6666666666666666,
             "#ed7953"
            ],
            [
             0.7777777777777778,
             "#fb9f3a"
            ],
            [
             0.8888888888888888,
             "#fdca26"
            ],
            [
             1.0,
             "#f0f921"
            ]
           ]
          },
          "colorway": [
           "#636efa",
           "#EF553B",
           "#00cc96",
           "#ab63fa",
           "#FFA15A",
           "#19d3f3",
           "#FF6692",
           "#B6E880",
           "#FF97FF",
           "#FECB52"
          ],
          "font": {
           "color": "#2a3f5f"
          },
          "geo": {
           "bgcolor": "white",
           "lakecolor": "white",
           "landcolor": "#E5ECF6",
           "showlakes": true,
           "showland": true,
           "subunitcolor": "white"
          },
          "hoverlabel": {
           "align": "left"
          },
          "hovermode": "closest",
          "mapbox": {
           "style": "light"
          },
          "paper_bgcolor": "white",
          "plot_bgcolor": "#E5ECF6",
          "polar": {
           "angularaxis": {
            "gridcolor": "white",
            "linecolor": "white",
            "ticks": ""
           },
           "bgcolor": "#E5ECF6",
           "radialaxis": {
            "gridcolor": "white",
            "linecolor": "white",
            "ticks": ""
           }
          },
          "scene": {
           "xaxis": {
            "backgroundcolor": "#E5ECF6",
            "gridcolor": "white",
            "gridwidth": 2,
            "linecolor": "white",
            "showbackground": true,
            "ticks": "",
            "zerolinecolor": "white"
           },
           "yaxis": {
            "backgroundcolor": "#E5ECF6",
            "gridcolor": "white",
            "gridwidth": 2,
            "linecolor": "white",
            "showbackground": true,
            "ticks": "",
            "zerolinecolor": "white"
           },
           "zaxis": {
            "backgroundcolor": "#E5ECF6",
            "gridcolor": "white",
            "gridwidth": 2,
            "linecolor": "white",
            "showbackground": true,
            "ticks": "",
            "zerolinecolor": "white"
           }
          },
          "shapedefaults": {
           "line": {
            "color": "#2a3f5f"
           }
          },
          "ternary": {
           "aaxis": {
            "gridcolor": "white",
            "linecolor": "white",
            "ticks": ""
           },
           "baxis": {
            "gridcolor": "white",
            "linecolor": "white",
            "ticks": ""
           },
           "bgcolor": "#E5ECF6",
           "caxis": {
            "gridcolor": "white",
            "linecolor": "white",
            "ticks": ""
           }
          },
          "title": {
           "x": 0.05
          },
          "xaxis": {
           "automargin": true,
           "gridcolor": "white",
           "linecolor": "white",
           "ticks": "",
           "title": {
            "standoff": 15
           },
           "zerolinecolor": "white",
           "zerolinewidth": 2
          },
          "yaxis": {
           "automargin": true,
           "gridcolor": "white",
           "linecolor": "white",
           "ticks": "",
           "title": {
            "standoff": 15
           },
           "zerolinecolor": "white",
           "zerolinewidth": 2
          }
         }
        }
       }
      },
      "text/html": "<div>                            <div id=\"20ef99fa-72cb-4da0-9475-976d50184d4a\" class=\"plotly-graph-div\" style=\"height:525px; width:100%;\"></div>            <script type=\"text/javascript\">                require([\"plotly\"], function(Plotly) {                    window.PLOTLYENV=window.PLOTLYENV || {};                                    if (document.getElementById(\"20ef99fa-72cb-4da0-9475-976d50184d4a\")) {                    Plotly.newPlot(                        \"20ef99fa-72cb-4da0-9475-976d50184d4a\",                        [{\"dimensions\": [{\"axis\": {\"matches\": true}, \"label\": \"cprp_diameter\", \"values\": [null, 20.0, null, 1.5, 1.5, null, 157.5, null, 2.0, 57.5, null, null, null, null, null, null, null, null, null, null, null, 35.0, 1.0, null, null, null, null, null, null, null, 5.0, 17.5, 17.5, 17.5, null, 6.0, null, null, 30.0, 50.0, 50.0, 50.0, 50.0, 50.0, 1000.0, 1000.0, null, null, null, null, null, 25.0, null, null, null, null, null, null, 75.0, 275.0, null, null, 13.0, 510.0, 60.0, 50.0, 17.0, null, null, 121.0, 150.0, null, 12.5, null, 125.0, null, null, 57.0, null, null, 16.8, 18.7, 23.8, 10.0, 16.3, 19.1, 21.3, 16.5, 30.9, 39.2, 18.3, 115.0, 200.0, 6.6, 30.0, 40.0, 27.5, 22.5, 22.5, 20.0, 30.0, 25.0, 30.0, 27.5, 30.0, 60.0, 60.0, 35.0, 30.0, 40.0, null, null]}, {\"axis\": {\"matches\": true}, \"label\": \"cprp_logdiameter\", \"values\": [null, 1.3010299956639813, null, 0.17609125905568124, 0.17609125905568124, null, 2.197280558125619, null, 0.3010299956639812, 1.7596678446896306, null, null, null, null, null, null, null, null, null, null, null, 1.5440680443502757, 0.0, null, null, null, null, null, null, null, 0.6989700043360189, 1.2430380486862944, 1.2430380486862944, 1.2430380486862944, null, 0.7781512503836436, null, null, 1.4771212547196624, 1.6989700043360187, 1.6989700043360187, 1.6989700043360187, 1.6989700043360187, 1.6989700043360187, 3.0, 3.0, null, null, null, null, null, 1.3979400086720377, null, null, null, null, null, null, 1.8750612633917, 2.439332693830263, null, null, 1.1139433523068367, 2.7075701760979363, 1.7781512503836436, 1.6989700043360187, 1.2304489213782739, null, null, 2.0827853703164503, 2.1760912590556813, null, 1.0969100130080565, null, 2.0969100130080562, null, null, 1.7558748556724915, null, null, 1.2253092817258628, 1.271841606536499, 1.376576957056512, 1.0, 1.212187604403958, 1.2810333672477277, 1.3283796034387378, 1.2174839442139063, 1.4899584794248346, 1.5932860670204574, 1.2624510897304295, 2.060697840353612, 2.3010299956639813, 0.8195439355418687, 1.4771212547196624, 1.6020599913279623, 1.4393326938302626, 1.3521825181113625, 1.3521825181113625, 1.3010299956639813, 1.4771212547196624, 1.3979400086720377, 1.4771212547196624, 1.4393326938302626, 1.4771212547196624, 1.7781512503836436, 1.7781512503836436, 1.5440680443502757, 1.4771212547196624, 1.6020599913279623, null, null]}, {\"axis\": {\"matches\": true}, \"label\": \"cprp_MP\", \"values\": [1843.0, 1083.0, 419.53, 961.78, 961.78, 961.78, 961.78, 961.78, 961.78, 961.78, 961.78, 961.78, 961.78, 961.78, 961.78, 961.78, 961.78, 961.78, 961.78, 961.78, 961.78, 961.78, 961.78, 961.78, 961.78, 961.78, 961.78, 961.78, 2340.0, 217.0, 1063.0, 1772.0, 1555.0, 2450.0, 1660.0, 1600.0, 961.78, 1063.0, 1975.0, 1250.0, 1250.0, 1250.0, 1250.0, 1250.0, 1843.0, 1975.0, 1843.0, 1975.0, 1975.0, 1975.0, 1975.0, 1975.0, 1975.0, 1975.0, 1975.0, 961.78, 961.78, 961.78, 1843.0, 1975.0, 961.78, 961.78, 961.78, 1600.0, 1843.0, 1600.0, 1843.0, 2072.0, 1600.0, 1843.0, 961.78, 961.78, 961.78, 961.78, 1843.0, 1600.0, 1975.0, 1600.0, 1843.0, 961.78, 1843.0, 1843.0, 1843.0, 1843.0, 1843.0, 1843.0, 1843.0, 1843.0, 1843.0, 1843.0, 1843.0, 961.78, 961.78, 961.78, 961.78, 961.78, 961.78, 961.78, 961.78, 961.78, 961.78, 961.78, 961.78, 961.78, 961.78, 961.78, 961.78, 961.78, 961.78, 961.78, 961.78, 961.78]}, {\"axis\": {\"matches\": true}, \"label\": \"cprp_MW\", \"values\": [79.867, 63.54600000000001, 65.37, 107.868, 107.868, 107.868, 107.868, 107.868, 107.868, 107.868, 107.868, 107.868, 107.868, 107.868, 107.868, 107.868, 107.868, 107.868, 107.868, 107.868, 107.868, 107.868, 107.868, 107.868, 107.868, 107.868, 107.868, 107.868, 172.12, 78.97, 196.967, 195.085, 106.421, 192.22, 47.867, 60.085, 107.868, 196.967, 81.37, 247.98, 247.98, 247.98, 247.98, 247.98, 79.867, 81.37, 79.867, 81.37, 81.37, 81.37, 81.37, 81.37, 81.37, 81.37, 81.37, 107.868, 107.868, 107.868, 79.867, 81.37, 107.868, 107.868, 107.868, 60.085, 79.867, 60.085, 79.867, 101.96, 60.085, 79.867, 107.868, 107.868, 107.868, 107.868, 79.867, 60.085, 81.37, 60.085, 79.867, 107.868, 79.867, 79.867, 79.867, 79.867, 79.867, 79.867, 79.867, 79.867, 79.867, 79.867, 79.867, 107.868, 107.868, 107.868, 107.868, 107.868, 107.868, 107.868, 107.868, 107.868, 107.868, 107.868, 107.868, 107.868, 107.868, 107.868, 107.868, 107.868, 107.868, 107.868, 107.868, 107.868]}, {\"axis\": {\"matches\": true}, \"label\": \"cprp_logdensity\", \"values\": [0.6263403673750424, 0.9523080096621253, 0.8536982117761743, 1.0147304950017535, 1.0147304950017535, 1.0147304950017535, 1.0147304950017535, 1.0147304950017535, 1.0147304950017535, 1.0147304950017535, 1.0147304950017535, 1.0147304950017535, 1.0147304950017535, 1.0147304950017535, 1.0147304950017535, 1.0147304950017535, 1.0147304950017535, 1.0147304950017535, 1.0147304950017535, 1.0147304950017535, 1.0147304950017535, 1.0147304950017535, 1.0147304950017535, 1.0147304950017535, 1.0147304950017535, 1.0147304950017535, 1.0147304950017535, 1.0147304950017535, 0.8822398480188235, 0.6803355134145632, 1.2860071220794749, 1.331427296520743, 1.0799044676667209, 1.3506356082589543, 0.6537911873878121, 0.41355121317554994, 1.0147304950017535, 1.2860071220794749, 0.7485756169309921, 0.8750612633917001, 0.8750612633917001, 0.8750612633917001, 0.8750612633917001, 0.8750612633917001, 0.6263403673750424, 0.7485756169309921, 0.6263403673750424, 0.7485756169309921, 0.7485756169309921, 0.7485756169309921, 0.7485756169309921, 0.7485756169309921, 0.7485756169309921, 0.7485756169309921, 0.7485756169309921, 1.0147304950017535, 1.0147304950017535, 1.0147304950017535, 0.6263403673750424, 0.7485756169309921, 1.0147304950017535, 1.0147304950017535, 1.0147304950017535, 0.41355121317554994, 0.6263403673750424, 0.41355121317554994, 0.6263403673750424, 0.5792117802314991, 0.41355121317554994, 0.6263403673750424, 1.0147304950017535, 1.0147304950017535, 1.0147304950017535, 1.0147304950017535, 0.6263403673750424, 0.41355121317554994, 0.7485756169309921, 0.41355121317554994, 0.6263403673750424, 1.0147304950017535, 0.6263403673750424, 0.6263403673750424, 0.6263403673750424, 0.6263403673750424, 0.6263403673750424, 0.6263403673750424, 0.6263403673750424, 0.6263403673750424, 0.6263403673750424, 0.6263403673750424, 0.6263403673750424, 1.0147304950017535, 1.0147304950017535, 1.0147304950017535, 1.0147304950017535, 1.0147304950017535, 1.0147304950017535, 1.0147304950017535, 1.0147304950017535, 1.0147304950017535, 1.0147304950017535, 1.0147304950017535, 1.0147304950017535, 1.0147304950017535, 1.0147304950017535, 1.0147304950017535, 1.0147304950017535, 1.0147304950017535, 1.0147304950017535, 1.0147304950017535, 1.0147304950017535, 1.0147304950017535]}], \"hovertemplate\": \"%{xaxis.title.text}=%{x}<br>%{yaxis.title.text}=%{y}<extra></extra>\", \"legendgroup\": \"\", \"marker\": {\"color\": \"#636efa\", \"symbol\": \"circle\"}, \"name\": \"\", \"showlegend\": false, \"type\": \"splom\"}],                        {\"dragmode\": \"select\", \"legend\": {\"tracegroupgap\": 0}, \"margin\": {\"t\": 60}, \"template\": {\"data\": {\"bar\": [{\"error_x\": {\"color\": \"#2a3f5f\"}, \"error_y\": {\"color\": \"#2a3f5f\"}, \"marker\": {\"line\": {\"color\": \"#E5ECF6\", \"width\": 0.5}}, \"type\": \"bar\"}], \"barpolar\": [{\"marker\": {\"line\": {\"color\": \"#E5ECF6\", \"width\": 0.5}}, \"type\": \"barpolar\"}], \"carpet\": [{\"aaxis\": {\"endlinecolor\": \"#2a3f5f\", \"gridcolor\": \"white\", \"linecolor\": \"white\", \"minorgridcolor\": \"white\", \"startlinecolor\": \"#2a3f5f\"}, \"baxis\": {\"endlinecolor\": \"#2a3f5f\", \"gridcolor\": \"white\", \"linecolor\": \"white\", \"minorgridcolor\": \"white\", \"startlinecolor\": \"#2a3f5f\"}, \"type\": \"carpet\"}], \"choropleth\": [{\"colorbar\": {\"outlinewidth\": 0, \"ticks\": \"\"}, \"type\": \"choropleth\"}], \"contour\": [{\"colorbar\": {\"outlinewidth\": 0, \"ticks\": \"\"}, \"colorscale\": [[0.0, \"#0d0887\"], [0.1111111111111111, \"#46039f\"], [0.2222222222222222, \"#7201a8\"], [0.3333333333333333, \"#9c179e\"], [0.4444444444444444, \"#bd3786\"], [0.5555555555555556, \"#d8576b\"], [0.6666666666666666, \"#ed7953\"], [0.7777777777777778, \"#fb9f3a\"], [0.8888888888888888, \"#fdca26\"], [1.0, \"#f0f921\"]], \"type\": \"contour\"}], \"contourcarpet\": [{\"colorbar\": {\"outlinewidth\": 0, \"ticks\": \"\"}, \"type\": \"contourcarpet\"}], \"heatmap\": [{\"colorbar\": {\"outlinewidth\": 0, \"ticks\": \"\"}, \"colorscale\": [[0.0, \"#0d0887\"], [0.1111111111111111, \"#46039f\"], [0.2222222222222222, \"#7201a8\"], [0.3333333333333333, \"#9c179e\"], [0.4444444444444444, \"#bd3786\"], [0.5555555555555556, \"#d8576b\"], [0.6666666666666666, \"#ed7953\"], [0.7777777777777778, \"#fb9f3a\"], [0.8888888888888888, \"#fdca26\"], [1.0, \"#f0f921\"]], \"type\": \"heatmap\"}], \"heatmapgl\": [{\"colorbar\": {\"outlinewidth\": 0, \"ticks\": \"\"}, \"colorscale\": [[0.0, \"#0d0887\"], [0.1111111111111111, \"#46039f\"], [0.2222222222222222, \"#7201a8\"], [0.3333333333333333, \"#9c179e\"], [0.4444444444444444, \"#bd3786\"], [0.5555555555555556, \"#d8576b\"], [0.6666666666666666, \"#ed7953\"], [0.7777777777777778, \"#fb9f3a\"], [0.8888888888888888, \"#fdca26\"], [1.0, \"#f0f921\"]], \"type\": \"heatmapgl\"}], \"histogram\": [{\"marker\": {\"colorbar\": {\"outlinewidth\": 0, \"ticks\": \"\"}}, \"type\": \"histogram\"}], \"histogram2d\": [{\"colorbar\": {\"outlinewidth\": 0, \"ticks\": \"\"}, \"colorscale\": [[0.0, \"#0d0887\"], [0.1111111111111111, \"#46039f\"], [0.2222222222222222, \"#7201a8\"], [0.3333333333333333, \"#9c179e\"], [0.4444444444444444, \"#bd3786\"], [0.5555555555555556, \"#d8576b\"], [0.6666666666666666, \"#ed7953\"], [0.7777777777777778, \"#fb9f3a\"], [0.8888888888888888, \"#fdca26\"], [1.0, \"#f0f921\"]], \"type\": \"histogram2d\"}], \"histogram2dcontour\": [{\"colorbar\": {\"outlinewidth\": 0, \"ticks\": \"\"}, \"colorscale\": [[0.0, \"#0d0887\"], [0.1111111111111111, \"#46039f\"], [0.2222222222222222, \"#7201a8\"], [0.3333333333333333, \"#9c179e\"], [0.4444444444444444, \"#bd3786\"], [0.5555555555555556, \"#d8576b\"], [0.6666666666666666, \"#ed7953\"], [0.7777777777777778, \"#fb9f3a\"], [0.8888888888888888, \"#fdca26\"], [1.0, \"#f0f921\"]], \"type\": \"histogram2dcontour\"}], \"mesh3d\": [{\"colorbar\": {\"outlinewidth\": 0, \"ticks\": \"\"}, \"type\": \"mesh3d\"}], \"parcoords\": [{\"line\": {\"colorbar\": {\"outlinewidth\": 0, \"ticks\": \"\"}}, \"type\": \"parcoords\"}], \"pie\": [{\"automargin\": true, \"type\": \"pie\"}], \"scatter\": [{\"marker\": {\"colorbar\": {\"outlinewidth\": 0, \"ticks\": \"\"}}, \"type\": \"scatter\"}], \"scatter3d\": [{\"line\": {\"colorbar\": {\"outlinewidth\": 0, \"ticks\": \"\"}}, \"marker\": {\"colorbar\": {\"outlinewidth\": 0, \"ticks\": \"\"}}, \"type\": \"scatter3d\"}], \"scattercarpet\": [{\"marker\": {\"colorbar\": {\"outlinewidth\": 0, \"ticks\": \"\"}}, \"type\": \"scattercarpet\"}], \"scattergeo\": [{\"marker\": {\"colorbar\": {\"outlinewidth\": 0, \"ticks\": \"\"}}, \"type\": \"scattergeo\"}], \"scattergl\": [{\"marker\": {\"colorbar\": {\"outlinewidth\": 0, \"ticks\": \"\"}}, \"type\": \"scattergl\"}], \"scattermapbox\": [{\"marker\": {\"colorbar\": {\"outlinewidth\": 0, \"ticks\": \"\"}}, \"type\": \"scattermapbox\"}], \"scatterpolar\": [{\"marker\": {\"colorbar\": {\"outlinewidth\": 0, \"ticks\": \"\"}}, \"type\": \"scatterpolar\"}], \"scatterpolargl\": [{\"marker\": {\"colorbar\": {\"outlinewidth\": 0, \"ticks\": \"\"}}, \"type\": \"scatterpolargl\"}], \"scatterternary\": [{\"marker\": {\"colorbar\": {\"outlinewidth\": 0, \"ticks\": \"\"}}, \"type\": \"scatterternary\"}], \"surface\": [{\"colorbar\": {\"outlinewidth\": 0, \"ticks\": \"\"}, \"colorscale\": [[0.0, \"#0d0887\"], [0.1111111111111111, \"#46039f\"], [0.2222222222222222, \"#7201a8\"], [0.3333333333333333, \"#9c179e\"], [0.4444444444444444, \"#bd3786\"], [0.5555555555555556, \"#d8576b\"], [0.6666666666666666, \"#ed7953\"], [0.7777777777777778, \"#fb9f3a\"], [0.8888888888888888, \"#fdca26\"], [1.0, \"#f0f921\"]], \"type\": \"surface\"}], \"table\": [{\"cells\": {\"fill\": {\"color\": \"#EBF0F8\"}, \"line\": {\"color\": \"white\"}}, \"header\": {\"fill\": {\"color\": \"#C8D4E3\"}, \"line\": {\"color\": \"white\"}}, \"type\": \"table\"}]}, \"layout\": {\"annotationdefaults\": {\"arrowcolor\": \"#2a3f5f\", \"arrowhead\": 0, \"arrowwidth\": 1}, \"coloraxis\": {\"colorbar\": {\"outlinewidth\": 0, \"ticks\": \"\"}}, \"colorscale\": {\"diverging\": [[0, \"#8e0152\"], [0.1, \"#c51b7d\"], [0.2, \"#de77ae\"], [0.3, \"#f1b6da\"], [0.4, \"#fde0ef\"], [0.5, \"#f7f7f7\"], [0.6, \"#e6f5d0\"], [0.7, \"#b8e186\"], [0.8, \"#7fbc41\"], [0.9, \"#4d9221\"], [1, \"#276419\"]], \"sequential\": [[0.0, \"#0d0887\"], [0.1111111111111111, \"#46039f\"], [0.2222222222222222, \"#7201a8\"], [0.3333333333333333, \"#9c179e\"], [0.4444444444444444, \"#bd3786\"], [0.5555555555555556, \"#d8576b\"], [0.6666666666666666, \"#ed7953\"], [0.7777777777777778, \"#fb9f3a\"], [0.8888888888888888, \"#fdca26\"], [1.0, \"#f0f921\"]], \"sequentialminus\": [[0.0, \"#0d0887\"], [0.1111111111111111, \"#46039f\"], [0.2222222222222222, \"#7201a8\"], [0.3333333333333333, \"#9c179e\"], [0.4444444444444444, \"#bd3786\"], [0.5555555555555556, \"#d8576b\"], [0.6666666666666666, \"#ed7953\"], [0.7777777777777778, \"#fb9f3a\"], [0.8888888888888888, \"#fdca26\"], [1.0, \"#f0f921\"]]}, \"colorway\": [\"#636efa\", \"#EF553B\", \"#00cc96\", \"#ab63fa\", \"#FFA15A\", \"#19d3f3\", \"#FF6692\", \"#B6E880\", \"#FF97FF\", \"#FECB52\"], \"font\": {\"color\": \"#2a3f5f\"}, \"geo\": {\"bgcolor\": \"white\", \"lakecolor\": \"white\", \"landcolor\": \"#E5ECF6\", \"showlakes\": true, \"showland\": true, \"subunitcolor\": \"white\"}, \"hoverlabel\": {\"align\": \"left\"}, \"hovermode\": \"closest\", \"mapbox\": {\"style\": \"light\"}, \"paper_bgcolor\": \"white\", \"plot_bgcolor\": \"#E5ECF6\", \"polar\": {\"angularaxis\": {\"gridcolor\": \"white\", \"linecolor\": \"white\", \"ticks\": \"\"}, \"bgcolor\": \"#E5ECF6\", \"radialaxis\": {\"gridcolor\": \"white\", \"linecolor\": \"white\", \"ticks\": \"\"}}, \"scene\": {\"xaxis\": {\"backgroundcolor\": \"#E5ECF6\", \"gridcolor\": \"white\", \"gridwidth\": 2, \"linecolor\": \"white\", \"showbackground\": true, \"ticks\": \"\", \"zerolinecolor\": \"white\"}, \"yaxis\": {\"backgroundcolor\": \"#E5ECF6\", \"gridcolor\": \"white\", \"gridwidth\": 2, \"linecolor\": \"white\", \"showbackground\": true, \"ticks\": \"\", \"zerolinecolor\": \"white\"}, \"zaxis\": {\"backgroundcolor\": \"#E5ECF6\", \"gridcolor\": \"white\", \"gridwidth\": 2, \"linecolor\": \"white\", \"showbackground\": true, \"ticks\": \"\", \"zerolinecolor\": \"white\"}}, \"shapedefaults\": {\"line\": {\"color\": \"#2a3f5f\"}}, \"ternary\": {\"aaxis\": {\"gridcolor\": \"white\", \"linecolor\": \"white\", \"ticks\": \"\"}, \"baxis\": {\"gridcolor\": \"white\", \"linecolor\": \"white\", \"ticks\": \"\"}, \"bgcolor\": \"#E5ECF6\", \"caxis\": {\"gridcolor\": \"white\", \"linecolor\": \"white\", \"ticks\": \"\"}}, \"title\": {\"x\": 0.05}, \"xaxis\": {\"automargin\": true, \"gridcolor\": \"white\", \"linecolor\": \"white\", \"ticks\": \"\", \"title\": {\"standoff\": 15}, \"zerolinecolor\": \"white\", \"zerolinewidth\": 2}, \"yaxis\": {\"automargin\": true, \"gridcolor\": \"white\", \"linecolor\": \"white\", \"ticks\": \"\", \"title\": {\"standoff\": 15}, \"zerolinecolor\": \"white\", \"zerolinewidth\": 2}}}},                        {\"responsive\": true}                    ).then(function(){\n                            \nvar gd = document.getElementById('20ef99fa-72cb-4da0-9475-976d50184d4a');\nvar x = new MutationObserver(function (mutations, observer) {{\n        var display = window.getComputedStyle(gd).display;\n        if (!display || display === 'none') {{\n            console.log([gd, 'removed!']);\n            Plotly.purge(gd);\n            observer.disconnect();\n        }}\n}});\n\n// Listen for the removal of the full notebook cells\nvar notebookContainer = gd.closest('#notebook-container');\nif (notebookContainer) {{\n    x.observe(notebookContainer, {childList: true});\n}}\n\n// Listen for the clearing of the current output cell\nvar outputEl = gd.closest('.output');\nif (outputEl) {{\n    x.observe(outputEl, {childList: true});\n}}\n\n                        })                };                });            </script>        </div>"
     },
     "metadata": {},
     "output_type": "display_data"
    }
   ],
   "source": [
    "# Scatter matrix\n",
    "import plotly.express as px\n",
    "fig = px.scatter_matrix(X_enm, \n",
    "                        dimensions=[\"cprp_diameter\", \"cprp_logdiameter\", \n",
    "                                    \"cprp_MP\", \"cprp_MW\", \"cprp_logdensity\"])\n",
    "fig.show()"
   ]
  },
  {
   "cell_type": "code",
   "execution_count": 41,
   "metadata": {
    "ExecuteTime": {
     "end_time": "2020-09-14T23:56:02.934695Z",
     "start_time": "2020-09-14T23:56:02.748702Z"
    }
   },
   "outputs": [
    {
     "data": {
      "text/plain": "<Figure size 432x432 with 2 Axes>",
      "image/png": "[encoded data removed]"
     },
     "metadata": {
      "needs_background": "light"
     },
     "output_type": "display_data"
    }
   ],
   "source": [
    "# Get feature correlation to determine best independent variable for imputation\n",
    "def correlation_matrix(df):\n",
    "    fig = plt.figure(figsize=(6,6))\n",
    "    ax = fig.add_subplot(111)\n",
    "    cmap = cm.get_cmap('coolwarm', 24)\n",
    "    cax = ax.imshow(df.corr('spearman'), cmap=cmap, vmin=-1, vmax=1)\n",
    "    plt.title('Feature Correlation')\n",
    "    labels = df.columns.tolist()\n",
    "    ax.set_xticks(range(len(df.columns)))\n",
    "    ax.set_yticks(range(len(df.columns)))\n",
    "    ax.set_xticklabels(labels,fontsize=8, rotation=90)\n",
    "    ax.set_yticklabels(labels,fontsize=8)\n",
    "    fig.colorbar(cax)\n",
    "    plt.show()\n",
    "correlation_matrix(X_enm.iloc[:, [35, 37, 0, 1, 2]])"
   ]
  },
  {
   "cell_type": "markdown",
   "metadata": {},
   "source": [
    "In order to find missing values for diameter, imputation will be performed using linear regression. Log(Density) has the highest correlation with diameter and will therefore be used as the independent variable.\n",
    "Assuming the line of best fit for a set of points is given by:\n",
    "\n",
    "$y = a + b x$\n",
    "\n",
    "where:\n",
    "\n",
    "$b = \\Large{\\frac{\\sum x_i  y_i - n \\bar x\\bar y )} {\\sum (x_i - \\bar x)^2}} $\n",
    "\n",
    "and\n",
    "\n",
    "$a = \\bar y - b \\bar x$"
   ]
  },
  {
   "cell_type": "code",
   "execution_count": 42,
   "metadata": {
    "ExecuteTime": {
     "end_time": "2020-09-14T23:56:05.288810Z",
     "start_time": "2020-09-14T23:56:04.964112Z"
    }
   },
   "outputs": [
    {
     "data": {
      "text/plain": "<Figure size 432x288 with 1 Axes>",
      "image/png": "[encoded data removed]"
     },
     "metadata": {
      "needs_background": "light"
     },
     "output_type": "display_data"
    }
   ],
   "source": [
    "# Find line of best fit for imputation\n",
    "\n",
    "# MP and density arrays for continuous data\n",
    "X = np.array(X_enm.loc[X_enm.cprp_logdiameter.notnull(), ['cprp_logdensity']])\n",
    "Y = np.array(X_enm.loc[X_enm.cprp_logdiameter.notnull(), \n",
    "                          ['cprp_logdiameter']])\n",
    "\n",
    "# Solve for 'a' and 'b'\n",
    "def best_fit(X, Y):\n",
    "    xbar = sum(X)/len(X)\n",
    "    ybar = sum(Y)/len(Y)\n",
    "    n = len(X) # or len(Y)\n",
    "    numer = sum(xi*yi for xi,yi in zip(X, Y)) - n * xbar * ybar\n",
    "    denum = sum(xi**2 for xi in X) - n * xbar**2\n",
    "    b = numer / denum\n",
    "    a = ybar - b * xbar\n",
    "    return a, b\n",
    "\n",
    "a, b = best_fit(X, Y)\n",
    "\n",
    "# log(density) and log(diameter) arrays for missing data\n",
    "X_null = np.array(X_enm.loc[X_enm.cprp_logdiameter.isnull(), ['cprp_logdensity']])\n",
    "Y_null = b * X_null + a\n",
    "\n",
    "# Plot points and fit line\n",
    "fig = plt.figure()\n",
    "ax1 = fig.add_subplot(111)\n",
    "\n",
    "ax1.scatter(X, Y, c = 'b', label=\"original\")\n",
    "ax1.scatter(X_null, Y_null, c = 'orange', marker = 'X', label=\"imputed\")\n",
    "yfit = [a + b * xi for xi in X]\n",
    "ax1.plot(X, yfit, color='black')\n",
    "\n",
    "plt.title(\"log(Diameter) vs log(Density)\")\n",
    "plt.legend(loc='upper right')\n",
    "plt.grid()\n",
    "plt.show()\n",
    "\n",
    "blt.savepdf(fig, \"logdiameter_logdensity\")"
   ]
  },
  {
   "cell_type": "code",
   "execution_count": 43,
   "metadata": {
    "ExecuteTime": {
     "end_time": "2020-09-14T23:56:05.799386Z",
     "start_time": "2020-09-14T23:56:05.773193Z"
    }
   },
   "outputs": [],
   "source": [
    "# Put imputed densities into data frame\n",
    "for idx in X_enm.index:\n",
    "    if pd.isnull(X_enm.loc[idx,\"cprp_diameter\"]):\n",
    "        logDens = X_enm.loc[idx,\"cprp_logdensity\"]\n",
    "        X_enm.loc[idx,\"cprp_diameter\"] = 10 ** (b * logDens + a)"
   ]
  },
  {
   "cell_type": "code",
   "execution_count": 44,
   "metadata": {
    "ExecuteTime": {
     "end_time": "2020-09-14T23:56:07.150325Z",
     "start_time": "2020-09-14T23:56:07.124792Z"
    }
   },
   "outputs": [
    {
     "data": {
      "text/plain": "     cprp_diameter  cprp_isdiamprovided  cprp_logdiameter  cprp_MW  cprp_MP  \\\n0        44.454118                    0               NaN   79.867  1843.00   \n1        20.000000                    1          1.301030   63.546  1083.00   \n2        31.398784                    0               NaN   65.370   419.53   \n3         1.500000                    1          0.176091  107.868   961.78   \n4         1.500000                    1          0.176091  107.868   961.78   \n..             ...                  ...               ...      ...      ...   \n107      35.000000                    1          1.544068  107.868   961.78   \n108      30.000000                    1          1.477121  107.868   961.78   \n109      40.000000                    1          1.602060  107.868   961.78   \n110      24.545033                    0               NaN  107.868   961.78   \n111      24.545033                    0               NaN  107.868   961.78   \n\n     cprp_logdensity  \n0           0.626340  \n1           0.952308  \n2           0.853698  \n3           1.014730  \n4           1.014730  \n..               ...  \n107         1.014730  \n108         1.014730  \n109         1.014730  \n110         1.014730  \n111         1.014730  \n\n[112 rows x 6 columns]",
      "text/html": "<div>\n<style scoped>\n    .dataframe tbody tr th:only-of-type {\n        vertical-align: middle;\n    }\n\n    .dataframe tbody tr th {\n        vertical-align: top;\n    }\n\n    .dataframe thead th {\n        text-align: right;\n    }\n</style>\n<table border=\"1\" class=\"dataframe\">\n  <thead>\n    <tr style=\"text-align: right;\">\n      <th></th>\n      <th>cprp_diameter</th>\n      <th>cprp_isdiamprovided</th>\n      <th>cprp_logdiameter</th>\n      <th>cprp_MW</th>\n      <th>cprp_MP</th>\n      <th>cprp_logdensity</th>\n    </tr>\n  </thead>\n  <tbody>\n    <tr>\n      <th>0</th>\n      <td>44.454118</td>\n      <td>0</td>\n      <td>NaN</td>\n      <td>79.867</td>\n      <td>1843.00</td>\n      <td>0.626340</td>\n    </tr>\n    <tr>\n      <th>1</th>\n      <td>20.000000</td>\n      <td>1</td>\n      <td>1.301030</td>\n      <td>63.546</td>\n      <td>1083.00</td>\n      <td>0.952308</td>\n    </tr>\n    <tr>\n      <th>2</th>\n      <td>31.398784</td>\n      <td>0</td>\n      <td>NaN</td>\n      <td>65.370</td>\n      <td>419.53</td>\n      <td>0.853698</td>\n    </tr>\n    <tr>\n      <th>3</th>\n      <td>1.500000</td>\n      <td>1</td>\n      <td>0.176091</td>\n      <td>107.868</td>\n      <td>961.78</td>\n      <td>1.014730</td>\n    </tr>\n    <tr>\n      <th>4</th>\n      <td>1.500000</td>\n      <td>1</td>\n      <td>0.176091</td>\n      <td>107.868</td>\n      <td>961.78</td>\n      <td>1.014730</td>\n    </tr>\n    <tr>\n      <th>...</th>\n      <td>...</td>\n      <td>...</td>\n      <td>...</td>\n      <td>...</td>\n      <td>...</td>\n      <td>...</td>\n    </tr>\n    <tr>\n      <th>107</th>\n      <td>35.000000</td>\n      <td>1</td>\n      <td>1.544068</td>\n      <td>107.868</td>\n      <td>961.78</td>\n      <td>1.014730</td>\n    </tr>\n    <tr>\n      <th>108</th>\n      <td>30.000000</td>\n      <td>1</td>\n      <td>1.477121</td>\n      <td>107.868</td>\n      <td>961.78</td>\n      <td>1.014730</td>\n    </tr>\n    <tr>\n      <th>109</th>\n      <td>40.000000</td>\n      <td>1</td>\n      <td>1.602060</td>\n      <td>107.868</td>\n      <td>961.78</td>\n      <td>1.014730</td>\n    </tr>\n    <tr>\n      <th>110</th>\n      <td>24.545033</td>\n      <td>0</td>\n      <td>NaN</td>\n      <td>107.868</td>\n      <td>961.78</td>\n      <td>1.014730</td>\n    </tr>\n    <tr>\n      <th>111</th>\n      <td>24.545033</td>\n      <td>0</td>\n      <td>NaN</td>\n      <td>107.868</td>\n      <td>961.78</td>\n      <td>1.014730</td>\n    </tr>\n  </tbody>\n</table>\n<p>112 rows × 6 columns</p>\n</div>"
     },
     "execution_count": 44,
     "metadata": {},
     "output_type": "execute_result"
    }
   ],
   "source": [
    "X_enm.iloc[:, [35, 36, 37, 0, 1, 2]]"
   ]
  },
  {
   "cell_type": "markdown",
   "metadata": {},
   "source": [
    "#### Apply alternate variables"
   ]
  },
  {
   "cell_type": "markdown",
   "metadata": {},
   "source": [
    "We will be using \"diameter\" and molar volume as alternative features for MW (which must also replace density, as this is used in the equation). For comparison with the measured diameters of ENM, the effective \"diameter\" of an organic compound (assumed to be spherical), $d_{org}$, is calculated as such:\n",
    "\n",
    "$$\n",
    "m = \\frac{M}{N_A} n \\\\\\\n",
    "m = \\frac{\\pi}{6} \\rho d_{org}^3 n \\\\\\\n",
    "d_{org} = \\sqrt[3]{\\frac{6M}{\\pi \\rho N_A}} \\\\\\\n",
    "$$\n",
    "\n",
    "where $m$ is the mass of a pure material in grams; $M$ is its molecular weight in grams per mole; $N_A = 6.022\\mathrm{E}{23}$ molecules per mole, or Avagadros number; $n$ is the number of molecules; and $\\rho$ is density in grams per cubic centimeter."
   ]
  },
  {
   "cell_type": "markdown",
   "metadata": {},
   "source": [
    "Molar volume, $V_N$, is easily calculated from the above.\n",
    "\n",
    "$$\n",
    "V_{N_{org}} = d_{org}^3 N_A = \\frac{6M}{\\pi\\rho} \\\\\\\n",
    "V_{N_{ENM}} = d_{ENM}^3 N_{ENM} = \\frac{6M}{\\pi\\rho} \\\\\\\n",
    "$$\n",
    "\n",
    "The constants may be ignored, simplifying to:\n",
    "\n",
    "$$\n",
    "V_{N_{org}} = \\frac{M}{\\rho} \\\\\\\n",
    "V_{N_{ENM}} = \\frac{M}{\\rho} \\\\\\\n",
    "$$"
   ]
  },
  {
   "cell_type": "code",
   "execution_count": 45,
   "metadata": {
    "ExecuteTime": {
     "end_time": "2020-09-14T23:56:09.821127Z",
     "start_time": "2020-09-14T23:56:09.807403Z"
    }
   },
   "outputs": [],
   "source": [
    "from scipy import constants\n",
    "\n",
    "def diameterorg(MW, density):\n",
    "    diam = ((6 * MW) / (math.pi * density * constants.N_A)) ** (1./3)    \n",
    "    return diam\n",
    "\n",
    "def molvolume(MW, density):\n",
    "    MV = (MW / density)\n",
    "    return MV"
   ]
  },
  {
   "cell_type": "code",
   "execution_count": 46,
   "metadata": {
    "ExecuteTime": {
     "end_time": "2020-09-14T23:56:11.755441Z",
     "start_time": "2020-09-14T23:56:11.712249Z"
    }
   },
   "outputs": [],
   "source": [
    "# Undo log tranformation of density\n",
    "X_enm['cprp_density'] = 10 ** X_enm['cprp_logdensity']\n",
    "X_source['cprp_density'] = 10 ** X_source['cprp_logdensity']\n",
    "\n",
    "# Apply new functions to datasets\n",
    "X_source['cprp_diameter'] = diameterorg(X_source['cprp_MW'], \n",
    "                                    X_source['cprp_density'])\n",
    "X_source['cprp_isdiamprovided'] = 0\n",
    "X_enm['cprp_MV'] = molvolume(X_enm['cprp_MW'], \n",
    "                             X_enm['cprp_density'])\n",
    "X_source['cprp_MV'] = molvolume(X_source['cprp_MW'], \n",
    "                                X_source['cprp_density'])"
   ]
  },
  {
   "cell_type": "code",
   "execution_count": 47,
   "metadata": {
    "ExecuteTime": {
     "end_time": "2020-09-14T23:56:12.208041Z",
     "start_time": "2020-09-14T23:56:12.178188Z"
    }
   },
   "outputs": [],
   "source": [
    "# Create alternative datasets\n",
    "cols_new = X_enm.columns.tolist()\n",
    "cols_diam = ([cols_new[-5]] +   # 'cprp_diameter'\n",
    "             [cols_new[-4]] +   # 'cprp_isdiamprovided'\n",
    "             [cols_new[1]] +    # 'cprp_MP'\n",
    "             cols_new[3:-5])    # all other features\n",
    "cols_MV = ([cols_new[-1]] +     # 'cprp_MV'\n",
    "           [cols_new[1]] +      # 'cprp_MP'\n",
    "           cols_new[3:-5])      # all other features\n",
    "\n",
    "X_enm_diam = pd.DataFrame(X_enm[cols_diam])\n",
    "X_enm_MV = pd.DataFrame(X_enm[cols_MV])\n",
    "X_enm = pd.DataFrame(X_enm[cols_orig])\n",
    "\n",
    "X_source_diam = pd.DataFrame(X_source[cols_diam])\n",
    "X_source_MV = pd.DataFrame(X_source[cols_MV])\n",
    "X_source = pd.DataFrame(X_source[cols_orig])\n",
    "\n",
    "y_enm_diam = pd.DataFrame(y_enm)\n",
    "idx = X_enm_diam.index.values.tolist()\n",
    "y_enm_diam = y_enm_diam.iloc[idx,:]"
   ]
  },
  {
   "cell_type": "code",
   "execution_count": 48,
   "metadata": {
    "ExecuteTime": {
     "end_time": "2020-09-14T23:56:12.647182Z",
     "start_time": "2020-09-14T23:56:12.642423Z"
    }
   },
   "outputs": [],
   "source": [
    "# Convert ENM diameter units from nanometers to centimeters\n",
    "X_enm_diam['cprp_diameter'] = X_enm_diam['cprp_diameter'] / 1000000"
   ]
  },
  {
   "cell_type": "code",
   "execution_count": 49,
   "metadata": {
    "ExecuteTime": {
     "end_time": "2020-09-14T23:56:13.434815Z",
     "start_time": "2020-09-14T23:56:13.409326Z"
    }
   },
   "outputs": [
    {
     "data": {
      "text/plain": "   cprp_MW  cprp_MP  cprp_logdensity  fagg_absorbent_opacifier  \\\n0   79.867  1843.00         0.626340                       0.0   \n1   63.546  1083.00         0.952308                       0.0   \n2   65.370   419.53         0.853698                       0.0   \n3  107.868   961.78         1.014730                       0.0   \n4  107.868   961.78         1.014730                       0.0   \n5  107.868   961.78         1.014730                       0.0   \n6  107.868   961.78         1.014730                       0.0   \n7  107.868   961.78         1.014730                       0.0   \n8  107.868   961.78         1.014730                       0.0   \n9  107.868   961.78         1.014730                       0.0   \n\n   fagg_brightener_viscositymodifier  fagg_filler_humectant  \\\n0                                0.5                    0.0   \n1                                0.0                    0.0   \n2                                0.0                    0.0   \n3                                0.0                    0.0   \n4                                0.0                    0.0   \n5                                0.0                    0.0   \n6                                0.0                    0.0   \n7                                0.0                    0.0   \n8                                0.0                    0.0   \n9                                0.0                    0.0   \n\n   func_UVstabilizer  func_antiadhesivecohesive  func_antioxidant  \\\n0                1.0                        0.0               0.0   \n1                0.0                        0.0               1.0   \n2                0.0                        0.0               1.0   \n3                0.0                        0.0               0.0   \n4                0.0                        0.0               0.0   \n5                0.0                        0.0               0.0   \n6                0.0                        0.0               0.0   \n7                0.0                        0.0               0.0   \n8                0.0                        0.0               0.0   \n9                0.0                        0.0               0.0   \n\n   func_antiredepositionagent  ...  pgrp_dentalcare  pgrp_deodorant  \\\n0                         1.0  ...              0.0             0.0   \n1                         0.0  ...              0.0             0.0   \n2                         0.0  ...              0.0             0.0   \n3                         0.0  ...              0.0             0.0   \n4                         0.0  ...              0.0             0.0   \n5                         0.0  ...              0.0             0.0   \n6                         0.0  ...              0.0             0.0   \n7                         0.0  ...              0.0             0.0   \n8                         0.0  ...              0.0             0.0   \n9                         0.0  ...              0.0             0.0   \n\n   pgrp_facialcleansingmoisturizing  pgrp_footcare  pgrp_generalmoisturizing  \\\n0                               0.0            0.0                       0.0   \n1                               0.0            0.0                       0.0   \n2                               0.0            0.0                       0.0   \n3                               1.0            0.0                       0.0   \n4                               0.0            0.0                       0.0   \n5                               0.0            0.0                       0.0   \n6                               0.0            0.0                       0.0   \n7                               0.0            0.0                       0.0   \n8                               0.0            0.0                       0.0   \n9                               0.0            0.0                       0.0   \n\n   pgrp_makeuprelated  pgrp_surfacesealers  mtrx_spray  mtrx_formulation  \\\n0                 0.0                  0.0           0                 1   \n1                 0.0                  0.0           0                 1   \n2                 0.0                  0.0           0                 1   \n3                 0.0                  0.0           0                 1   \n4                 0.0                  0.0           0                 1   \n5                 0.0                  0.0           0                 0   \n6                 0.0                  0.0           0                 0   \n7                 0.0                  0.0           0                 1   \n8                 0.0                  0.0           0                 1   \n9                 0.0                  0.0           0                 1   \n\n   mtrx_WFmeasured  \n0                0  \n1                0  \n2                0  \n3                0  \n4                0  \n5                0  \n6                0  \n7                0  \n8                0  \n9                0  \n\n[10 rows x 35 columns]",
      "text/html": "<div>\n<style scoped>\n    .dataframe tbody tr th:only-of-type {\n        vertical-align: middle;\n    }\n\n    .dataframe tbody tr th {\n        vertical-align: top;\n    }\n\n    .dataframe thead th {\n        text-align: right;\n    }\n</style>\n<table border=\"1\" class=\"dataframe\">\n  <thead>\n    <tr style=\"text-align: right;\">\n      <th></th>\n      <th>cprp_MW</th>\n      <th>cprp_MP</th>\n      <th>cprp_logdensity</th>\n      <th>fagg_absorbent_opacifier</th>\n      <th>fagg_brightener_viscositymodifier</th>\n      <th>fagg_filler_humectant</th>\n      <th>func_UVstabilizer</th>\n      <th>func_antiadhesivecohesive</th>\n      <th>func_antioxidant</th>\n      <th>func_antiredepositionagent</th>\n      <th>...</th>\n      <th>pgrp_dentalcare</th>\n      <th>pgrp_deodorant</th>\n      <th>pgrp_facialcleansingmoisturizing</th>\n      <th>pgrp_footcare</th>\n      <th>pgrp_generalmoisturizing</th>\n      <th>pgrp_makeuprelated</th>\n      <th>pgrp_surfacesealers</th>\n      <th>mtrx_spray</th>\n      <th>mtrx_formulation</th>\n      <th>mtrx_WFmeasured</th>\n    </tr>\n  </thead>\n  <tbody>\n    <tr>\n      <th>0</th>\n      <td>79.867</td>\n      <td>1843.00</td>\n      <td>0.626340</td>\n      <td>0.0</td>\n      <td>0.5</td>\n      <td>0.0</td>\n      <td>1.0</td>\n      <td>0.0</td>\n      <td>0.0</td>\n      <td>1.0</td>\n      <td>...</td>\n      <td>0.0</td>\n      <td>0.0</td>\n      <td>0.0</td>\n      <td>0.0</td>\n      <td>0.0</td>\n      <td>0.0</td>\n      <td>0.0</td>\n      <td>0</td>\n      <td>1</td>\n      <td>0</td>\n    </tr>\n    <tr>\n      <th>1</th>\n      <td>63.546</td>\n      <td>1083.00</td>\n      <td>0.952308</td>\n      <td>0.0</td>\n      <td>0.0</td>\n      <td>0.0</td>\n      <td>0.0</td>\n      <td>0.0</td>\n      <td>1.0</td>\n      <td>0.0</td>\n      <td>...</td>\n      <td>0.0</td>\n      <td>0.0</td>\n      <td>0.0</td>\n      <td>0.0</td>\n      <td>0.0</td>\n      <td>0.0</td>\n      <td>0.0</td>\n      <td>0</td>\n      <td>1</td>\n      <td>0</td>\n    </tr>\n    <tr>\n      <th>2</th>\n      <td>65.370</td>\n      <td>419.53</td>\n      <td>0.853698</td>\n      <td>0.0</td>\n      <td>0.0</td>\n      <td>0.0</td>\n      <td>0.0</td>\n      <td>0.0</td>\n      <td>1.0</td>\n      <td>0.0</td>\n      <td>...</td>\n      <td>0.0</td>\n      <td>0.0</td>\n      <td>0.0</td>\n      <td>0.0</td>\n      <td>0.0</td>\n      <td>0.0</td>\n      <td>0.0</td>\n      <td>0</td>\n      <td>1</td>\n      <td>0</td>\n    </tr>\n    <tr>\n      <th>3</th>\n      <td>107.868</td>\n      <td>961.78</td>\n      <td>1.014730</td>\n      <td>0.0</td>\n      <td>0.0</td>\n      <td>0.0</td>\n      <td>0.0</td>\n      <td>0.0</td>\n      <td>0.0</td>\n      <td>0.0</td>\n      <td>...</td>\n      <td>0.0</td>\n      <td>0.0</td>\n      <td>1.0</td>\n      <td>0.0</td>\n      <td>0.0</td>\n      <td>0.0</td>\n      <td>0.0</td>\n      <td>0</td>\n      <td>1</td>\n      <td>0</td>\n    </tr>\n    <tr>\n      <th>4</th>\n      <td>107.868</td>\n      <td>961.78</td>\n      <td>1.014730</td>\n      <td>0.0</td>\n      <td>0.0</td>\n      <td>0.0</td>\n      <td>0.0</td>\n      <td>0.0</td>\n      <td>0.0</td>\n      <td>0.0</td>\n      <td>...</td>\n      <td>0.0</td>\n      <td>0.0</td>\n      <td>0.0</td>\n      <td>0.0</td>\n      <td>0.0</td>\n      <td>0.0</td>\n      <td>0.0</td>\n      <td>0</td>\n      <td>1</td>\n      <td>0</td>\n    </tr>\n    <tr>\n      <th>5</th>\n      <td>107.868</td>\n      <td>961.78</td>\n      <td>1.014730</td>\n      <td>0.0</td>\n      <td>0.0</td>\n      <td>0.0</td>\n      <td>0.0</td>\n      <td>0.0</td>\n      <td>0.0</td>\n      <td>0.0</td>\n      <td>...</td>\n      <td>0.0</td>\n      <td>0.0</td>\n      <td>0.0</td>\n      <td>0.0</td>\n      <td>0.0</td>\n      <td>0.0</td>\n      <td>0.0</td>\n      <td>0</td>\n      <td>0</td>\n      <td>0</td>\n    </tr>\n    <tr>\n      <th>6</th>\n      <td>107.868</td>\n      <td>961.78</td>\n      <td>1.014730</td>\n      <td>0.0</td>\n      <td>0.0</td>\n      <td>0.0</td>\n      <td>0.0</td>\n      <td>0.0</td>\n      <td>0.0</td>\n      <td>0.0</td>\n      <td>...</td>\n      <td>0.0</td>\n      <td>0.0</td>\n      <td>0.0</td>\n      <td>0.0</td>\n      <td>0.0</td>\n      <td>0.0</td>\n      <td>0.0</td>\n      <td>0</td>\n      <td>0</td>\n      <td>0</td>\n    </tr>\n    <tr>\n      <th>7</th>\n      <td>107.868</td>\n      <td>961.78</td>\n      <td>1.014730</td>\n      <td>0.0</td>\n      <td>0.0</td>\n      <td>0.0</td>\n      <td>0.0</td>\n      <td>0.0</td>\n      <td>0.0</td>\n      <td>0.0</td>\n      <td>...</td>\n      <td>0.0</td>\n      <td>0.0</td>\n      <td>0.0</td>\n      <td>0.0</td>\n      <td>0.0</td>\n      <td>0.0</td>\n      <td>0.0</td>\n      <td>0</td>\n      <td>1</td>\n      <td>0</td>\n    </tr>\n    <tr>\n      <th>8</th>\n      <td>107.868</td>\n      <td>961.78</td>\n      <td>1.014730</td>\n      <td>0.0</td>\n      <td>0.0</td>\n      <td>0.0</td>\n      <td>0.0</td>\n      <td>0.0</td>\n      <td>0.0</td>\n      <td>0.0</td>\n      <td>...</td>\n      <td>0.0</td>\n      <td>0.0</td>\n      <td>0.0</td>\n      <td>0.0</td>\n      <td>0.0</td>\n      <td>0.0</td>\n      <td>0.0</td>\n      <td>0</td>\n      <td>1</td>\n      <td>0</td>\n    </tr>\n    <tr>\n      <th>9</th>\n      <td>107.868</td>\n      <td>961.78</td>\n      <td>1.014730</td>\n      <td>0.0</td>\n      <td>0.0</td>\n      <td>0.0</td>\n      <td>0.0</td>\n      <td>0.0</td>\n      <td>0.0</td>\n      <td>0.0</td>\n      <td>...</td>\n      <td>0.0</td>\n      <td>0.0</td>\n      <td>0.0</td>\n      <td>0.0</td>\n      <td>0.0</td>\n      <td>0.0</td>\n      <td>0.0</td>\n      <td>0</td>\n      <td>1</td>\n      <td>0</td>\n    </tr>\n  </tbody>\n</table>\n<p>10 rows × 35 columns</p>\n</div>"
     },
     "execution_count": 49,
     "metadata": {},
     "output_type": "execute_result"
    }
   ],
   "source": [
    "X_enm.head(10)"
   ]
  },
  {
   "cell_type": "markdown",
   "metadata": {},
   "source": [
    "## Apply WF bins"
   ]
  },
  {
   "cell_type": "markdown",
   "metadata": {},
   "source": [
    "Labels (continuous WF data) will be binned into low (0.0-0.0001), medium (0.0001-0.01) and high (0.01-1.0) categories."
   ]
  },
  {
   "cell_type": "code",
   "execution_count": 50,
   "metadata": {
    "ExecuteTime": {
     "end_time": "2020-09-14T23:56:15.349784Z",
     "start_time": "2020-09-14T23:56:15.072940Z"
    }
   },
   "outputs": [],
   "source": [
    "# Apply bins to ENM and organics data\n",
    "bin_enm = np.asarray(y_enm.apply(blt.bins, axis=1))\n",
    "bin_enm_diam = np.asarray(y_enm_diam.apply(blt.bins, axis=1))\n",
    "bin_source = np.asarray(y_source.apply(blt.bins, axis=1))"
   ]
  },
  {
   "cell_type": "code",
   "execution_count": 51,
   "metadata": {
    "ExecuteTime": {
     "end_time": "2020-09-14T23:56:15.680026Z",
     "start_time": "2020-09-14T23:56:15.581808Z"
    }
   },
   "outputs": [
    {
     "data": {
      "text/plain": "<Figure size 432x288 with 1 Axes>",
      "image/png": "[encoded data removed]"
     },
     "metadata": {
      "needs_background": "light"
     },
     "output_type": "display_data"
    },
    {
     "name": "stdout",
     "output_type": "stream",
     "text": [
      "Label bin:  [0 1 2]\n",
      "Count    :  [48 27 37]\n",
      "Frequency:  [0.43, 0.24, 0.33]\n"
     ]
    }
   ],
   "source": [
    "# View bar plot of ENM WF bins\n",
    "blt.bar_graph_bins(bin_enm, data_composition='ENM')"
   ]
  },
  {
   "cell_type": "markdown",
   "metadata": {},
   "source": [
    "The medium WF bin has the least number of samples. This is important for evaluating models later on; the smallest bin size will be used for the number of cross validation folds so that it's essentially \"leave-one-out\" CV. This approach is, for the most part, considered unbiased.\n",
    "\n",
    "https://stats.stackexchange.com/questions/154830/10-fold-cross-validation-vs-leave-one-out-cross-validation"
   ]
  },
  {
   "cell_type": "code",
   "execution_count": 52,
   "metadata": {
    "ExecuteTime": {
     "end_time": "2020-09-14T23:56:16.735195Z",
     "start_time": "2020-09-14T23:56:16.634094Z"
    }
   },
   "outputs": [
    {
     "data": {
      "text/plain": "<Figure size 432x288 with 1 Axes>",
      "image/png": "[encoded data removed]"
     },
     "metadata": {
      "needs_background": "light"
     },
     "output_type": "display_data"
    },
    {
     "name": "stdout",
     "output_type": "stream",
     "text": [
      "Label bin:  [0 1 2]\n",
      "Count    :  [  381  5746 10312]\n",
      "Frequency:  [0.02, 0.35, 0.63]\n"
     ]
    }
   ],
   "source": [
    "# View bar plot of Organics WF bins\n",
    "blt.bar_graph_bins(bin_source, data_composition='Organics')"
   ]
  },
  {
   "cell_type": "code",
   "execution_count": 53,
   "metadata": {
    "ExecuteTime": {
     "end_time": "2020-09-15T00:56:28.635536Z",
     "start_time": "2020-09-15T00:56:28.623229Z"
    }
   },
   "outputs": [
    {
     "data": {
      "text/plain": "16439"
     },
     "execution_count": 53,
     "metadata": {},
     "output_type": "execute_result"
    }
   ],
   "source": [
    "len(X_source)"
   ]
  },
  {
   "cell_type": "markdown",
   "metadata": {},
   "source": [
    "# ======TESTING======"
   ]
  },
  {
   "cell_type": "code",
   "execution_count": 54,
   "metadata": {
    "ExecuteTime": {
     "end_time": "2020-09-15T01:17:32.606937Z",
     "start_time": "2020-09-15T01:17:32.587487Z"
    }
   },
   "outputs": [],
   "source": [
    "import random as pyrandom\n",
    "from numpy import random\n",
    "from sklearn.metrics.pairwise import cosine_distances\n",
    "from sklearn.preprocessing import MinMaxScaler\n",
    "\n",
    "\n",
    "# Functions for different data augmentation methods\n",
    "\n",
    "def no_augment(k, X_source, y_source, random_state, X, y):\n",
    "    return X, y\n",
    "\n",
    "\n",
    "def random_augment(k, X_source, y_source, random_state, X, y):\n",
    "    \"\"\"Randomly samples source data to pair with target data.\"\"\"\n",
    "    \n",
    "    if k == 0:\n",
    "        return X, y\n",
    "    \n",
    "    pyrandom.seed(random_state)\n",
    "    \n",
    "    assert X.shape[0] == y.shape[0], f\"X.shape={X.shape}, y.shape={y.shape}\"\n",
    "\n",
    "    # Number of samples to select\n",
    "    n_samples = k * len(X)\n",
    "    # Obtain indices for randomly sampling source data\n",
    "    idx_match = np.random.choice(len(X_source), n_samples)\n",
    "    # Select matching rows from source data\n",
    "    X_match = X_source.iloc[idx_match,:]\n",
    "    y_match = y_source[idx_match]\n",
    "    # Append sampled source data to target data\n",
    "    X_aug = np.concatenate((X, X_match))\n",
    "    y_aug = np.concatenate((y, y_match))\n",
    "    assert X_aug.shape[0] == y_aug.shape[0], f\"X_aug.shape={X_aug.shape}, y_aug.shape={y_aug.shape}\"\n",
    "    \n",
    "    return X_aug, y_aug\n",
    "\n",
    "\n",
    "def unsupervised_augment(k, X_source, y_source, random_state, X, y):\n",
    "    \"\"\"\n",
    "    Unsupervised data augmentation\n",
    "    \n",
    "    Match \"k\" most similar source data samples to target data samples \n",
    "    based on the smallest cosine distance between target and source data \n",
    "    samples (i.e., in an supervised fashion).\n",
    "    \"\"\"\n",
    "    \n",
    "    if k == 0:\n",
    "        return X, y\n",
    "    \n",
    "    pyrandom.seed(random_state)\n",
    "    \n",
    "    # Cosine distance matrix\n",
    "    cosdist_samples = cosine_distances(X_source, X)\n",
    "    # Loop over distance matrix in search of k-smallest distances\n",
    "    idx_match = []\n",
    "    for col in cosdist_samples.T:\n",
    "        # Find organics data indices of k-smallest distances\n",
    "        matches = np.argpartition(col, k)[:k]\n",
    "        idx_match.extend(matches)\n",
    "    # Select matching rows from source data\n",
    "    X_match = X_source.iloc[idx_match,:]\n",
    "    y_match = y_source[idx_match]\n",
    "    # Append sampled source data to target data\n",
    "    X_aug = np.concatenate((X, X_match))\n",
    "    y_aug = np.concatenate((y, y_match))\n",
    "    \n",
    "    return X_aug, y_aug\n",
    "\n",
    "def supervised_augment(k, X_source, y_source, random_state, X, y):\n",
    "    \"\"\"\n",
    "    Supervised data augmentation\n",
    "    \n",
    "    Match \"k\" most similar source data samples to target data samples \n",
    "    based on the smallest average of cosine distance between samples \n",
    "    and distance between WF labels (i.e., in an supervised fashion).\n",
    "    \"\"\"\n",
    "        \n",
    "    if k == 0:\n",
    "        return X, y\n",
    "    \n",
    "    pyrandom.seed(random_state)\n",
    "    \n",
    "    # Cosine distance matrix\n",
    "    cosdist_samples = cosine_distances(X_source, X)\n",
    "    # For supervised matching augmentation, also consider WF labels\n",
    "    # Turn 1D label arrays into 2D arrays\n",
    "    y_2d = np.tile(y, (len(y_source), 1))\n",
    "    y_source_2d = np.tile(y_source, (len(y), 1)).transpose()\n",
    "    # Get normalized distance between ENM and organics labels\n",
    "    scaler = MinMaxScaler()\n",
    "    dist_y = scaler.fit_transform(np.abs(y_2d - y_source_2d).astype(float))\n",
    "    # Average distances of features and labels\n",
    "    dist_matrix = (0.95 * cosdist_samples) + (0.05 * dist_y)\n",
    "    # Loop over distance matrix in search of k-smallest distances\n",
    "    idx_match = []\n",
    "    for col in dist_matrix.T:\n",
    "        # Find organics data indices of k-smallest distances\n",
    "        matches = np.argpartition(col, k)[:k]\n",
    "        idx_match.extend(matches)\n",
    "    # Select matching rows from source data\n",
    "    X_match = X_source.iloc[idx_match,:]\n",
    "    y_match = y_source[idx_match]\n",
    "    # Append sampled source data to target data\n",
    "    X_aug = np.concatenate((X, X_match))\n",
    "    y_aug = np.concatenate((y, y_match))\n",
    "    \n",
    "    return X_aug, y_aug"
   ]
  },
  {
   "cell_type": "code",
   "execution_count": 55,
   "metadata": {
    "ExecuteTime": {
     "end_time": "2020-09-15T01:17:32.970921Z",
     "start_time": "2020-09-15T01:17:32.964425Z"
    }
   },
   "outputs": [],
   "source": [
    "from sklearn.base import BaseEstimator, TransformerMixin\n",
    "\n",
    "class TrainingDataAugmenter(BaseEstimator, TransformerMixin):\n",
    "    def __init__(\n",
    "        self,\n",
    "        augmentation_type=None,\n",
    "        k=None,\n",
    "        X_source=None,\n",
    "        y_source=None,\n",
    "        random_state=None,\n",
    "    ):\n",
    "        self.augmentation_type = augmentation_type\n",
    "        self.k = k\n",
    "        self.X_source = X_source\n",
    "        self.y_source = y_source\n",
    "        self.random_state = random_state\n",
    "        self.y = None\n",
    "\n",
    "    def fit(self, X, y=None):\n",
    "        self.y = y\n",
    "        return self\n",
    "\n",
    "    def transform(self, X):\n",
    "        return self.augmentation_type(\n",
    "            self.k,\n",
    "            self.X_source,\n",
    "            self.y_source,\n",
    "            self.random_state,\n",
    "            X,\n",
    "            self.y,\n",
    "        )"
   ]
  },
  {
   "cell_type": "code",
   "execution_count": 56,
   "metadata": {
    "ExecuteTime": {
     "end_time": "2020-09-15T01:17:33.338615Z",
     "start_time": "2020-09-15T01:17:33.327130Z"
    }
   },
   "outputs": [],
   "source": [
    "# For use with estimator after augmentation in pipeline\n",
    "def wrap_estimator(estimator):\n",
    "    \"\"\"\n",
    "    Creates class from estimator.\n",
    "    \n",
    "    For dealing with the issue of custom tranformers within pipelines\n",
    "    that change X and Y.\n",
    "    https://stackoverflow.com/questions/34727463/scikit-learn-custom-transformer-pipeline-that-changes-x-and-y\n",
    "    \"\"\"\n",
    "    \n",
    "    def fit(self, X, y=None):\n",
    "        if isinstance(X, tuple):\n",
    "            X, y = X\n",
    "        return estimator.fit(self, X, y)\n",
    "    def predict(self, X):\n",
    "        if isinstance(X, tuple):\n",
    "            X, y = X\n",
    "        return estimator.predict(self, X)\n",
    "    def predict_log_proba(self, X):\n",
    "        if isinstance(X, tuple):\n",
    "            X, y = X\n",
    "        return estimator.predict_log_proba(self, X)\n",
    "    def predict_proba(self, X):\n",
    "        if isinstance(X, tuple):\n",
    "            X, y = X\n",
    "        return estimator.predict_proba(self, X)\n",
    "    def score(self, X, y, sample_weight=None):\n",
    "        if isinstance(X, tuple):\n",
    "            X, y = X\n",
    "        return estimator.score(self, X, y, sample_weight=sample_weight)\n",
    "\n",
    "    return type(f\"Wrapped{estimator.__name__}\", (estimator,), {\n",
    "        \"fit\": fit,\n",
    "        \"predict\": predict,\n",
    "        \"predict_proba\": predict_proba,\n",
    "        \"predict_log_proba\": predict_log_proba,\n",
    "        \"score\": score,\n",
    "    })"
   ]
  },
  {
   "cell_type": "code",
   "execution_count": 57,
   "metadata": {
    "ExecuteTime": {
     "end_time": "2020-09-15T01:17:33.701858Z",
     "start_time": "2020-09-15T01:17:33.685147Z"
    }
   },
   "outputs": [],
   "source": [
    "from sklearn import model_selection\n",
    "from sklearn.model_selection import GridSearchCV\n",
    "from sklearn.pipeline import Pipeline\n",
    "from sklearn.preprocessing import MinMaxScaler\n",
    "import multiprocessing\n",
    "\n",
    "class EstimatorSelectionHelper:\n",
    "    def __init__(self, models, params):\n",
    "        if not set(models.keys()).issubset(set(params.keys())):\n",
    "            missing_params = list(set(models.keys()) - set(params.keys()))\n",
    "            raise ValueError(\"Some estimators are missing parameters: %s\" % missing_params)\n",
    "        self.models = models\n",
    "        self.params = params\n",
    "        self.keys = models.keys()\n",
    "        self.grid_searches = {}\n",
    "\n",
    "    def fit(self, X, y, cv=3, n_jobs=3, verbose=1, scoring=None, refit=False):\n",
    "        for key in self.keys:\n",
    "            print(\"Running GridSearchCV for %s.\" % key)\n",
    "            model = self.models[key]\n",
    "            params = self.params[key]\n",
    "            gs = GridSearchCV(model, params, cv=cv, n_jobs=n_jobs,\n",
    "                              verbose=verbose, scoring=scoring, refit=refit,\n",
    "                              return_train_score=True)\n",
    "            gs.fit(X,y)\n",
    "            self.grid_searches[key] = gs    \n",
    "\n",
    "    def score_summary(self, sort_by='mean_score'):\n",
    "        def row(key, scores, params):\n",
    "            d = {\n",
    "                 'estimator': key,\n",
    "                 'min_score': min(scores),\n",
    "                 'max_score': max(scores),\n",
    "                 'mean_score': np.mean(scores),\n",
    "                 'std_score': np.std(scores),\n",
    "            }\n",
    "            return pd.Series({**params,**d})\n",
    "\n",
    "        rows = []\n",
    "        for k in self.grid_searches:\n",
    "            print(k)\n",
    "            params = self.grid_searches[k].cv_results_['params']\n",
    "            scores = []\n",
    "            for i in range(self.grid_searches[k].cv):\n",
    "                key = \"split{}_test_score\".format(i)\n",
    "                r = self.grid_searches[k].cv_results_[key]        \n",
    "                scores.append(r.reshape(len(params),1))\n",
    "\n",
    "            all_scores = np.hstack(scores)\n",
    "            for p, s in zip(params,all_scores):\n",
    "                rows.append((row(k, s, p)))\n",
    "\n",
    "        df = pd.concat(rows, axis=1).T.sort_values([sort_by], ascending=False)\n",
    "\n",
    "        columns = ['estimator', 'min_score', 'mean_score', 'max_score', 'std_score']\n",
    "        columns = columns + [c for c in df.columns if c not in columns]\n",
    "\n",
    "        return df[columns]"
   ]
  },
  {
   "cell_type": "code",
   "execution_count": 58,
   "metadata": {
    "ExecuteTime": {
     "end_time": "2020-09-15T02:03:40.898729Z",
     "start_time": "2020-09-15T02:03:40.888825Z"
    }
   },
   "outputs": [],
   "source": [
    "from sklearn.pipeline import Pipeline\n",
    "from sklearn.ensemble import RandomForestClassifier\n",
    "from sklearn.svm import SVC\n",
    "from sklearn.metrics import balanced_accuracy_score\n",
    "\n",
    "def apply_model_opt(classifiers,\n",
    "                    params, \n",
    "                    X_target=X_enm,\n",
    "                    y_target=bin_enm, \n",
    "                    random_state=random.randint(1,100)):\n",
    "    \n",
    "    \"\"\"\n",
    "    Optimize classifier parameters.\n",
    "    \n",
    "    Returns table of performance results across a grid of parameters.\n",
    "    \"\"\"     \n",
    "\n",
    "    # Set smallest class size as number of CV folds for leave-one-out CV\n",
    "    _, class_counts = np.unique(y_target, return_counts=True)\n",
    "    num_folds = min(class_counts)\n",
    "    if num_folds > 20: num_folds = 10\n",
    "    else: num_folds = num_folds\n",
    "\n",
    "    # Apply\n",
    "    helper = EstimatorSelectionHelper(classifiers, params)\n",
    "    helper.fit(X_target, y_target, n_jobs=1, cv=num_folds, scoring='balanced_accuracy')\n",
    "    results = helper.score_summary(sort_by='mean_score')\n",
    "    \n",
    "    return results"
   ]
  },
  {
   "cell_type": "code",
   "execution_count": 59,
   "metadata": {
    "ExecuteTime": {
     "end_time": "2020-09-15T02:03:42.379956Z",
     "start_time": "2020-09-15T02:03:42.371458Z"
    }
   },
   "outputs": [],
   "source": [
    "WrappedSVC = wrap_estimator(SVC)\n",
    "WrappedRFC = wrap_estimator(RandomForestClassifier)\n",
    "\n",
    "random_state = 42\n",
    "models = {\n",
    "    'RandomForestClassifier': Pipeline([\n",
    "        ('scale', MinMaxScaler()), # normalization from 0 to 1\n",
    "        ('augment', TrainingDataAugmenter(X_source=X_source, \n",
    "                                          y_source=bin_source, \n",
    "                                          random_state=random_state)),\n",
    "        ('estimator', WrappedRFC(class_weight='balanced', \n",
    "                                 random_state=random_state)),\n",
    "    ]),\n",
    "    'SVC': Pipeline([\n",
    "        ('scale', MinMaxScaler()), # normalization from 0 to 1\n",
    "        ('augment', TrainingDataAugmenter(X_source=X_source, \n",
    "                                          y_source=bin_source, \n",
    "                                          random_state=random_state)),\n",
    "        ('estimator', WrappedSVC(kernel='rbf', \n",
    "                                 class_weight='balanced', # balance by class size\n",
    "                                 random_state=random_state)),\n",
    "    ]),\n",
    "}\n",
    "params = {\n",
    "    'RandomForestClassifier': {\n",
    "        'augment__k': [0,1], \n",
    "        'augment__augmentation_type': [no_augment, unsupervised_augment],\n",
    "        'estimator__max_depth': np.arange(4,14,4), \n",
    "        'estimator__n_estimators': [40,100],\n",
    "    },\n",
    "    'SVC': {\n",
    "        'augment__k': [0,1], \n",
    "        'augment__augmentation_type': [no_augment, unsupervised_augment],\n",
    "        'estimator__C': np.logspace(-1,7,5), \n",
    "        'estimator__gamma': np.logspace(-7,1,5), \n",
    "    }\n",
    "}"
   ]
  },
  {
   "cell_type": "code",
   "execution_count": 60,
   "metadata": {
    "ExecuteTime": {
     "end_time": "2020-09-15T02:03:54.801253Z",
     "start_time": "2020-09-15T02:03:45.819386Z"
    }
   },
   "outputs": [
    {
     "name": "stdout",
     "output_type": "stream",
     "text": [
      "Running GridSearchCV for RandomForestClassifier.\n",
      "Fitting 10 folds for each of 24 candidates, totalling 240 fits\n"
     ]
    },
    {
     "name": "stderr",
     "output_type": "stream",
     "text": [
      "[Parallel(n_jobs=1)]: Using backend SequentialBackend with 1 concurrent workers.\n"
     ]
    },
    {
     "ename": "ValueError",
     "evalue": "Found input variables with inconsistent numbers of samples: [12, 24]",
     "output_type": "error",
     "traceback": [
      "\u001B[0;31m---------------------------------------------------------------------------\u001B[0m",
      "\u001B[0;31mValueError\u001B[0m                                Traceback (most recent call last)",
      "\u001B[0;32m<ipython-input-60-bf75b76ba5ed>\u001B[0m in \u001B[0;36m<module>\u001B[0;34m\u001B[0m\n\u001B[1;32m      1\u001B[0m \u001B[0;31m# Single trial SVC-RBF, balanced accuracy\u001B[0m\u001B[0;34m\u001B[0m\u001B[0;34m\u001B[0m\u001B[0;34m\u001B[0m\u001B[0m\n\u001B[0;32m----> 2\u001B[0;31m \u001B[0mapply_model_opt\u001B[0m\u001B[0;34m(\u001B[0m\u001B[0mmodels\u001B[0m\u001B[0;34m,\u001B[0m \u001B[0mparams\u001B[0m\u001B[0;34m,\u001B[0m \u001B[0mX_target\u001B[0m\u001B[0;34m=\u001B[0m\u001B[0mX_enm\u001B[0m\u001B[0;34m,\u001B[0m \u001B[0my_target\u001B[0m\u001B[0;34m=\u001B[0m\u001B[0mbin_enm\u001B[0m\u001B[0;34m)\u001B[0m\u001B[0;34m\u001B[0m\u001B[0;34m\u001B[0m\u001B[0m\n\u001B[0m\u001B[1;32m      3\u001B[0m \u001B[0;34m\u001B[0m\u001B[0m\n",
      "\u001B[0;32m<ipython-input-58-f733c82ee8ba>\u001B[0m in \u001B[0;36mapply_model_opt\u001B[0;34m(classifiers, params, X_target, y_target, random_state)\u001B[0m\n\u001B[1;32m     24\u001B[0m     \u001B[0;31m# Apply\u001B[0m\u001B[0;34m\u001B[0m\u001B[0;34m\u001B[0m\u001B[0;34m\u001B[0m\u001B[0m\n\u001B[1;32m     25\u001B[0m     \u001B[0mhelper\u001B[0m \u001B[0;34m=\u001B[0m \u001B[0mEstimatorSelectionHelper\u001B[0m\u001B[0;34m(\u001B[0m\u001B[0mclassifiers\u001B[0m\u001B[0;34m,\u001B[0m \u001B[0mparams\u001B[0m\u001B[0;34m)\u001B[0m\u001B[0;34m\u001B[0m\u001B[0;34m\u001B[0m\u001B[0m\n\u001B[0;32m---> 26\u001B[0;31m     \u001B[0mhelper\u001B[0m\u001B[0;34m.\u001B[0m\u001B[0mfit\u001B[0m\u001B[0;34m(\u001B[0m\u001B[0mX_target\u001B[0m\u001B[0;34m,\u001B[0m \u001B[0my_target\u001B[0m\u001B[0;34m,\u001B[0m \u001B[0mn_jobs\u001B[0m\u001B[0;34m=\u001B[0m\u001B[0;36m1\u001B[0m\u001B[0;34m,\u001B[0m \u001B[0mcv\u001B[0m\u001B[0;34m=\u001B[0m\u001B[0mnum_folds\u001B[0m\u001B[0;34m,\u001B[0m \u001B[0mscoring\u001B[0m\u001B[0;34m=\u001B[0m\u001B[0;34m'balanced_accuracy'\u001B[0m\u001B[0;34m)\u001B[0m\u001B[0;34m\u001B[0m\u001B[0;34m\u001B[0m\u001B[0m\n\u001B[0m\u001B[1;32m     27\u001B[0m     \u001B[0mresults\u001B[0m \u001B[0;34m=\u001B[0m \u001B[0mhelper\u001B[0m\u001B[0;34m.\u001B[0m\u001B[0mscore_summary\u001B[0m\u001B[0;34m(\u001B[0m\u001B[0msort_by\u001B[0m\u001B[0;34m=\u001B[0m\u001B[0;34m'mean_score'\u001B[0m\u001B[0;34m)\u001B[0m\u001B[0;34m\u001B[0m\u001B[0;34m\u001B[0m\u001B[0m\n\u001B[1;32m     28\u001B[0m \u001B[0;34m\u001B[0m\u001B[0m\n",
      "\u001B[0;32m<ipython-input-57-026a6a5562aa>\u001B[0m in \u001B[0;36mfit\u001B[0;34m(self, X, y, cv, n_jobs, verbose, scoring, refit)\u001B[0m\n\u001B[1;32m     23\u001B[0m                               \u001B[0mverbose\u001B[0m\u001B[0;34m=\u001B[0m\u001B[0mverbose\u001B[0m\u001B[0;34m,\u001B[0m \u001B[0mscoring\u001B[0m\u001B[0;34m=\u001B[0m\u001B[0mscoring\u001B[0m\u001B[0;34m,\u001B[0m \u001B[0mrefit\u001B[0m\u001B[0;34m=\u001B[0m\u001B[0mrefit\u001B[0m\u001B[0;34m,\u001B[0m\u001B[0;34m\u001B[0m\u001B[0;34m\u001B[0m\u001B[0m\n\u001B[1;32m     24\u001B[0m                               return_train_score=True)\n\u001B[0;32m---> 25\u001B[0;31m             \u001B[0mgs\u001B[0m\u001B[0;34m.\u001B[0m\u001B[0mfit\u001B[0m\u001B[0;34m(\u001B[0m\u001B[0mX\u001B[0m\u001B[0;34m,\u001B[0m\u001B[0my\u001B[0m\u001B[0;34m)\u001B[0m\u001B[0;34m\u001B[0m\u001B[0;34m\u001B[0m\u001B[0m\n\u001B[0m\u001B[1;32m     26\u001B[0m             \u001B[0mself\u001B[0m\u001B[0;34m.\u001B[0m\u001B[0mgrid_searches\u001B[0m\u001B[0;34m[\u001B[0m\u001B[0mkey\u001B[0m\u001B[0;34m]\u001B[0m \u001B[0;34m=\u001B[0m \u001B[0mgs\u001B[0m\u001B[0;34m\u001B[0m\u001B[0;34m\u001B[0m\u001B[0m\n\u001B[1;32m     27\u001B[0m \u001B[0;34m\u001B[0m\u001B[0m\n",
      "\u001B[0;32m~/Library/Caches/pypoetry/virtualenvs/ml-weight-fraction-6hEgbVhX-py3.7/lib/python3.7/site-packages/sklearn/model_selection/_search.py\u001B[0m in \u001B[0;36mfit\u001B[0;34m(self, X, y, groups, **fit_params)\u001B[0m\n\u001B[1;32m    708\u001B[0m                 \u001B[0;32mreturn\u001B[0m \u001B[0mresults\u001B[0m\u001B[0;34m\u001B[0m\u001B[0;34m\u001B[0m\u001B[0m\n\u001B[1;32m    709\u001B[0m \u001B[0;34m\u001B[0m\u001B[0m\n\u001B[0;32m--> 710\u001B[0;31m             \u001B[0mself\u001B[0m\u001B[0;34m.\u001B[0m\u001B[0m_run_search\u001B[0m\u001B[0;34m(\u001B[0m\u001B[0mevaluate_candidates\u001B[0m\u001B[0;34m)\u001B[0m\u001B[0;34m\u001B[0m\u001B[0;34m\u001B[0m\u001B[0m\n\u001B[0m\u001B[1;32m    711\u001B[0m \u001B[0;34m\u001B[0m\u001B[0m\n\u001B[1;32m    712\u001B[0m         \u001B[0;31m# For multi-metric evaluation, store the best_index_, best_params_ and\u001B[0m\u001B[0;34m\u001B[0m\u001B[0;34m\u001B[0m\u001B[0;34m\u001B[0m\u001B[0m\n",
      "\u001B[0;32m~/Library/Caches/pypoetry/virtualenvs/ml-weight-fraction-6hEgbVhX-py3.7/lib/python3.7/site-packages/sklearn/model_selection/_search.py\u001B[0m in \u001B[0;36m_run_search\u001B[0;34m(self, evaluate_candidates)\u001B[0m\n\u001B[1;32m   1149\u001B[0m     \u001B[0;32mdef\u001B[0m \u001B[0m_run_search\u001B[0m\u001B[0;34m(\u001B[0m\u001B[0mself\u001B[0m\u001B[0;34m,\u001B[0m \u001B[0mevaluate_candidates\u001B[0m\u001B[0;34m)\u001B[0m\u001B[0;34m:\u001B[0m\u001B[0;34m\u001B[0m\u001B[0;34m\u001B[0m\u001B[0m\n\u001B[1;32m   1150\u001B[0m         \u001B[0;34m\"\"\"Search all candidates in param_grid\"\"\"\u001B[0m\u001B[0;34m\u001B[0m\u001B[0;34m\u001B[0m\u001B[0m\n\u001B[0;32m-> 1151\u001B[0;31m         \u001B[0mevaluate_candidates\u001B[0m\u001B[0;34m(\u001B[0m\u001B[0mParameterGrid\u001B[0m\u001B[0;34m(\u001B[0m\u001B[0mself\u001B[0m\u001B[0;34m.\u001B[0m\u001B[0mparam_grid\u001B[0m\u001B[0;34m)\u001B[0m\u001B[0;34m)\u001B[0m\u001B[0;34m\u001B[0m\u001B[0;34m\u001B[0m\u001B[0m\n\u001B[0m\u001B[1;32m   1152\u001B[0m \u001B[0;34m\u001B[0m\u001B[0m\n\u001B[1;32m   1153\u001B[0m \u001B[0;34m\u001B[0m\u001B[0m\n",
      "\u001B[0;32m~/Library/Caches/pypoetry/virtualenvs/ml-weight-fraction-6hEgbVhX-py3.7/lib/python3.7/site-packages/sklearn/model_selection/_search.py\u001B[0m in \u001B[0;36mevaluate_candidates\u001B[0;34m(candidate_params)\u001B[0m\n\u001B[1;32m    687\u001B[0m                                \u001B[0;32mfor\u001B[0m \u001B[0mparameters\u001B[0m\u001B[0;34m,\u001B[0m \u001B[0;34m(\u001B[0m\u001B[0mtrain\u001B[0m\u001B[0;34m,\u001B[0m \u001B[0mtest\u001B[0m\u001B[0;34m)\u001B[0m\u001B[0;34m\u001B[0m\u001B[0;34m\u001B[0m\u001B[0m\n\u001B[1;32m    688\u001B[0m                                in product(candidate_params,\n\u001B[0;32m--> 689\u001B[0;31m                                           cv.split(X, y, groups)))\n\u001B[0m\u001B[1;32m    690\u001B[0m \u001B[0;34m\u001B[0m\u001B[0m\n\u001B[1;32m    691\u001B[0m                 \u001B[0;32mif\u001B[0m \u001B[0mlen\u001B[0m\u001B[0;34m(\u001B[0m\u001B[0mout\u001B[0m\u001B[0;34m)\u001B[0m \u001B[0;34m<\u001B[0m \u001B[0;36m1\u001B[0m\u001B[0;34m:\u001B[0m\u001B[0;34m\u001B[0m\u001B[0;34m\u001B[0m\u001B[0m\n",
      "\u001B[0;32m~/Library/Caches/pypoetry/virtualenvs/ml-weight-fraction-6hEgbVhX-py3.7/lib/python3.7/site-packages/joblib/parallel.py\u001B[0m in \u001B[0;36m__call__\u001B[0;34m(self, iterable)\u001B[0m\n\u001B[1;32m   1030\u001B[0m                 \u001B[0mself\u001B[0m\u001B[0;34m.\u001B[0m\u001B[0m_iterating\u001B[0m \u001B[0;34m=\u001B[0m \u001B[0mself\u001B[0m\u001B[0;34m.\u001B[0m\u001B[0m_original_iterator\u001B[0m \u001B[0;32mis\u001B[0m \u001B[0;32mnot\u001B[0m \u001B[0;32mNone\u001B[0m\u001B[0;34m\u001B[0m\u001B[0;34m\u001B[0m\u001B[0m\n\u001B[1;32m   1031\u001B[0m \u001B[0;34m\u001B[0m\u001B[0m\n\u001B[0;32m-> 1032\u001B[0;31m             \u001B[0;32mwhile\u001B[0m \u001B[0mself\u001B[0m\u001B[0;34m.\u001B[0m\u001B[0mdispatch_one_batch\u001B[0m\u001B[0;34m(\u001B[0m\u001B[0miterator\u001B[0m\u001B[0;34m)\u001B[0m\u001B[0;34m:\u001B[0m\u001B[0;34m\u001B[0m\u001B[0;34m\u001B[0m\u001B[0m\n\u001B[0m\u001B[1;32m   1033\u001B[0m                 \u001B[0;32mpass\u001B[0m\u001B[0;34m\u001B[0m\u001B[0;34m\u001B[0m\u001B[0m\n\u001B[1;32m   1034\u001B[0m \u001B[0;34m\u001B[0m\u001B[0m\n",
      "\u001B[0;32m~/Library/Caches/pypoetry/virtualenvs/ml-weight-fraction-6hEgbVhX-py3.7/lib/python3.7/site-packages/joblib/parallel.py\u001B[0m in \u001B[0;36mdispatch_one_batch\u001B[0;34m(self, iterator)\u001B[0m\n\u001B[1;32m    845\u001B[0m                 \u001B[0;32mreturn\u001B[0m \u001B[0;32mFalse\u001B[0m\u001B[0;34m\u001B[0m\u001B[0;34m\u001B[0m\u001B[0m\n\u001B[1;32m    846\u001B[0m             \u001B[0;32melse\u001B[0m\u001B[0;34m:\u001B[0m\u001B[0;34m\u001B[0m\u001B[0;34m\u001B[0m\u001B[0m\n\u001B[0;32m--> 847\u001B[0;31m                 \u001B[0mself\u001B[0m\u001B[0;34m.\u001B[0m\u001B[0m_dispatch\u001B[0m\u001B[0;34m(\u001B[0m\u001B[0mtasks\u001B[0m\u001B[0;34m)\u001B[0m\u001B[0;34m\u001B[0m\u001B[0;34m\u001B[0m\u001B[0m\n\u001B[0m\u001B[1;32m    848\u001B[0m                 \u001B[0;32mreturn\u001B[0m \u001B[0;32mTrue\u001B[0m\u001B[0;34m\u001B[0m\u001B[0;34m\u001B[0m\u001B[0m\n\u001B[1;32m    849\u001B[0m \u001B[0;34m\u001B[0m\u001B[0m\n",
      "\u001B[0;32m~/Library/Caches/pypoetry/virtualenvs/ml-weight-fraction-6hEgbVhX-py3.7/lib/python3.7/site-packages/joblib/parallel.py\u001B[0m in \u001B[0;36m_dispatch\u001B[0;34m(self, batch)\u001B[0m\n\u001B[1;32m    763\u001B[0m         \u001B[0;32mwith\u001B[0m \u001B[0mself\u001B[0m\u001B[0;34m.\u001B[0m\u001B[0m_lock\u001B[0m\u001B[0;34m:\u001B[0m\u001B[0;34m\u001B[0m\u001B[0;34m\u001B[0m\u001B[0m\n\u001B[1;32m    764\u001B[0m             \u001B[0mjob_idx\u001B[0m \u001B[0;34m=\u001B[0m \u001B[0mlen\u001B[0m\u001B[0;34m(\u001B[0m\u001B[0mself\u001B[0m\u001B[0;34m.\u001B[0m\u001B[0m_jobs\u001B[0m\u001B[0;34m)\u001B[0m\u001B[0;34m\u001B[0m\u001B[0;34m\u001B[0m\u001B[0m\n\u001B[0;32m--> 765\u001B[0;31m             \u001B[0mjob\u001B[0m \u001B[0;34m=\u001B[0m \u001B[0mself\u001B[0m\u001B[0;34m.\u001B[0m\u001B[0m_backend\u001B[0m\u001B[0;34m.\u001B[0m\u001B[0mapply_async\u001B[0m\u001B[0;34m(\u001B[0m\u001B[0mbatch\u001B[0m\u001B[0;34m,\u001B[0m \u001B[0mcallback\u001B[0m\u001B[0;34m=\u001B[0m\u001B[0mcb\u001B[0m\u001B[0;34m)\u001B[0m\u001B[0;34m\u001B[0m\u001B[0;34m\u001B[0m\u001B[0m\n\u001B[0m\u001B[1;32m    766\u001B[0m             \u001B[0;31m# A job can complete so quickly than its callback is\u001B[0m\u001B[0;34m\u001B[0m\u001B[0;34m\u001B[0m\u001B[0;34m\u001B[0m\u001B[0m\n\u001B[1;32m    767\u001B[0m             \u001B[0;31m# called before we get here, causing self._jobs to\u001B[0m\u001B[0;34m\u001B[0m\u001B[0;34m\u001B[0m\u001B[0;34m\u001B[0m\u001B[0m\n",
      "\u001B[0;32m~/Library/Caches/pypoetry/virtualenvs/ml-weight-fraction-6hEgbVhX-py3.7/lib/python3.7/site-packages/joblib/_parallel_backends.py\u001B[0m in \u001B[0;36mapply_async\u001B[0;34m(self, func, callback)\u001B[0m\n\u001B[1;32m    206\u001B[0m     \u001B[0;32mdef\u001B[0m \u001B[0mapply_async\u001B[0m\u001B[0;34m(\u001B[0m\u001B[0mself\u001B[0m\u001B[0;34m,\u001B[0m \u001B[0mfunc\u001B[0m\u001B[0;34m,\u001B[0m \u001B[0mcallback\u001B[0m\u001B[0;34m=\u001B[0m\u001B[0;32mNone\u001B[0m\u001B[0;34m)\u001B[0m\u001B[0;34m:\u001B[0m\u001B[0;34m\u001B[0m\u001B[0;34m\u001B[0m\u001B[0m\n\u001B[1;32m    207\u001B[0m         \u001B[0;34m\"\"\"Schedule a func to be run\"\"\"\u001B[0m\u001B[0;34m\u001B[0m\u001B[0;34m\u001B[0m\u001B[0m\n\u001B[0;32m--> 208\u001B[0;31m         \u001B[0mresult\u001B[0m \u001B[0;34m=\u001B[0m \u001B[0mImmediateResult\u001B[0m\u001B[0;34m(\u001B[0m\u001B[0mfunc\u001B[0m\u001B[0;34m)\u001B[0m\u001B[0;34m\u001B[0m\u001B[0;34m\u001B[0m\u001B[0m\n\u001B[0m\u001B[1;32m    209\u001B[0m         \u001B[0;32mif\u001B[0m \u001B[0mcallback\u001B[0m\u001B[0;34m:\u001B[0m\u001B[0;34m\u001B[0m\u001B[0;34m\u001B[0m\u001B[0m\n\u001B[1;32m    210\u001B[0m             \u001B[0mcallback\u001B[0m\u001B[0;34m(\u001B[0m\u001B[0mresult\u001B[0m\u001B[0;34m)\u001B[0m\u001B[0;34m\u001B[0m\u001B[0;34m\u001B[0m\u001B[0m\n",
      "\u001B[0;32m~/Library/Caches/pypoetry/virtualenvs/ml-weight-fraction-6hEgbVhX-py3.7/lib/python3.7/site-packages/joblib/_parallel_backends.py\u001B[0m in \u001B[0;36m__init__\u001B[0;34m(self, batch)\u001B[0m\n\u001B[1;32m    570\u001B[0m         \u001B[0;31m# Don't delay the application, to avoid keeping the input\u001B[0m\u001B[0;34m\u001B[0m\u001B[0;34m\u001B[0m\u001B[0;34m\u001B[0m\u001B[0m\n\u001B[1;32m    571\u001B[0m         \u001B[0;31m# arguments in memory\u001B[0m\u001B[0;34m\u001B[0m\u001B[0;34m\u001B[0m\u001B[0;34m\u001B[0m\u001B[0m\n\u001B[0;32m--> 572\u001B[0;31m         \u001B[0mself\u001B[0m\u001B[0;34m.\u001B[0m\u001B[0mresults\u001B[0m \u001B[0;34m=\u001B[0m \u001B[0mbatch\u001B[0m\u001B[0;34m(\u001B[0m\u001B[0;34m)\u001B[0m\u001B[0;34m\u001B[0m\u001B[0;34m\u001B[0m\u001B[0m\n\u001B[0m\u001B[1;32m    573\u001B[0m \u001B[0;34m\u001B[0m\u001B[0m\n\u001B[1;32m    574\u001B[0m     \u001B[0;32mdef\u001B[0m \u001B[0mget\u001B[0m\u001B[0;34m(\u001B[0m\u001B[0mself\u001B[0m\u001B[0;34m)\u001B[0m\u001B[0;34m:\u001B[0m\u001B[0;34m\u001B[0m\u001B[0;34m\u001B[0m\u001B[0m\n",
      "\u001B[0;32m~/Library/Caches/pypoetry/virtualenvs/ml-weight-fraction-6hEgbVhX-py3.7/lib/python3.7/site-packages/joblib/parallel.py\u001B[0m in \u001B[0;36m__call__\u001B[0;34m(self)\u001B[0m\n\u001B[1;32m    251\u001B[0m         \u001B[0;32mwith\u001B[0m \u001B[0mparallel_backend\u001B[0m\u001B[0;34m(\u001B[0m\u001B[0mself\u001B[0m\u001B[0;34m.\u001B[0m\u001B[0m_backend\u001B[0m\u001B[0;34m,\u001B[0m \u001B[0mn_jobs\u001B[0m\u001B[0;34m=\u001B[0m\u001B[0mself\u001B[0m\u001B[0;34m.\u001B[0m\u001B[0m_n_jobs\u001B[0m\u001B[0;34m)\u001B[0m\u001B[0;34m:\u001B[0m\u001B[0;34m\u001B[0m\u001B[0;34m\u001B[0m\u001B[0m\n\u001B[1;32m    252\u001B[0m             return [func(*args, **kwargs)\n\u001B[0;32m--> 253\u001B[0;31m                     for func, args, kwargs in self.items]\n\u001B[0m\u001B[1;32m    254\u001B[0m \u001B[0;34m\u001B[0m\u001B[0m\n\u001B[1;32m    255\u001B[0m     \u001B[0;32mdef\u001B[0m \u001B[0m__reduce__\u001B[0m\u001B[0;34m(\u001B[0m\u001B[0mself\u001B[0m\u001B[0;34m)\u001B[0m\u001B[0;34m:\u001B[0m\u001B[0;34m\u001B[0m\u001B[0;34m\u001B[0m\u001B[0m\n",
      "\u001B[0;32m~/Library/Caches/pypoetry/virtualenvs/ml-weight-fraction-6hEgbVhX-py3.7/lib/python3.7/site-packages/joblib/parallel.py\u001B[0m in \u001B[0;36m<listcomp>\u001B[0;34m(.0)\u001B[0m\n\u001B[1;32m    251\u001B[0m         \u001B[0;32mwith\u001B[0m \u001B[0mparallel_backend\u001B[0m\u001B[0;34m(\u001B[0m\u001B[0mself\u001B[0m\u001B[0;34m.\u001B[0m\u001B[0m_backend\u001B[0m\u001B[0;34m,\u001B[0m \u001B[0mn_jobs\u001B[0m\u001B[0;34m=\u001B[0m\u001B[0mself\u001B[0m\u001B[0;34m.\u001B[0m\u001B[0m_n_jobs\u001B[0m\u001B[0;34m)\u001B[0m\u001B[0;34m:\u001B[0m\u001B[0;34m\u001B[0m\u001B[0;34m\u001B[0m\u001B[0m\n\u001B[1;32m    252\u001B[0m             return [func(*args, **kwargs)\n\u001B[0;32m--> 253\u001B[0;31m                     for func, args, kwargs in self.items]\n\u001B[0m\u001B[1;32m    254\u001B[0m \u001B[0;34m\u001B[0m\u001B[0m\n\u001B[1;32m    255\u001B[0m     \u001B[0;32mdef\u001B[0m \u001B[0m__reduce__\u001B[0m\u001B[0;34m(\u001B[0m\u001B[0mself\u001B[0m\u001B[0;34m)\u001B[0m\u001B[0;34m:\u001B[0m\u001B[0;34m\u001B[0m\u001B[0;34m\u001B[0m\u001B[0m\n",
      "\u001B[0;32m~/Library/Caches/pypoetry/virtualenvs/ml-weight-fraction-6hEgbVhX-py3.7/lib/python3.7/site-packages/sklearn/model_selection/_validation.py\u001B[0m in \u001B[0;36m_fit_and_score\u001B[0;34m(estimator, X, y, scorer, train, test, verbose, parameters, fit_params, return_train_score, return_parameters, return_n_test_samples, return_times, return_estimator, error_score)\u001B[0m\n\u001B[1;32m    542\u001B[0m     \u001B[0;32melse\u001B[0m\u001B[0;34m:\u001B[0m\u001B[0;34m\u001B[0m\u001B[0;34m\u001B[0m\u001B[0m\n\u001B[1;32m    543\u001B[0m         \u001B[0mfit_time\u001B[0m \u001B[0;34m=\u001B[0m \u001B[0mtime\u001B[0m\u001B[0;34m.\u001B[0m\u001B[0mtime\u001B[0m\u001B[0;34m(\u001B[0m\u001B[0;34m)\u001B[0m \u001B[0;34m-\u001B[0m \u001B[0mstart_time\u001B[0m\u001B[0;34m\u001B[0m\u001B[0;34m\u001B[0m\u001B[0m\n\u001B[0;32m--> 544\u001B[0;31m         \u001B[0mtest_scores\u001B[0m \u001B[0;34m=\u001B[0m \u001B[0m_score\u001B[0m\u001B[0;34m(\u001B[0m\u001B[0mestimator\u001B[0m\u001B[0;34m,\u001B[0m \u001B[0mX_test\u001B[0m\u001B[0;34m,\u001B[0m \u001B[0my_test\u001B[0m\u001B[0;34m,\u001B[0m \u001B[0mscorer\u001B[0m\u001B[0;34m)\u001B[0m\u001B[0;34m\u001B[0m\u001B[0;34m\u001B[0m\u001B[0m\n\u001B[0m\u001B[1;32m    545\u001B[0m         \u001B[0mscore_time\u001B[0m \u001B[0;34m=\u001B[0m \u001B[0mtime\u001B[0m\u001B[0;34m.\u001B[0m\u001B[0mtime\u001B[0m\u001B[0;34m(\u001B[0m\u001B[0;34m)\u001B[0m \u001B[0;34m-\u001B[0m \u001B[0mstart_time\u001B[0m \u001B[0;34m-\u001B[0m \u001B[0mfit_time\u001B[0m\u001B[0;34m\u001B[0m\u001B[0;34m\u001B[0m\u001B[0m\n\u001B[1;32m    546\u001B[0m         \u001B[0;32mif\u001B[0m \u001B[0mreturn_train_score\u001B[0m\u001B[0;34m:\u001B[0m\u001B[0;34m\u001B[0m\u001B[0;34m\u001B[0m\u001B[0m\n",
      "\u001B[0;32m~/Library/Caches/pypoetry/virtualenvs/ml-weight-fraction-6hEgbVhX-py3.7/lib/python3.7/site-packages/sklearn/model_selection/_validation.py\u001B[0m in \u001B[0;36m_score\u001B[0;34m(estimator, X_test, y_test, scorer)\u001B[0m\n\u001B[1;32m    589\u001B[0m         \u001B[0mscores\u001B[0m \u001B[0;34m=\u001B[0m \u001B[0mscorer\u001B[0m\u001B[0;34m(\u001B[0m\u001B[0mestimator\u001B[0m\u001B[0;34m,\u001B[0m \u001B[0mX_test\u001B[0m\u001B[0;34m)\u001B[0m\u001B[0;34m\u001B[0m\u001B[0;34m\u001B[0m\u001B[0m\n\u001B[1;32m    590\u001B[0m     \u001B[0;32melse\u001B[0m\u001B[0;34m:\u001B[0m\u001B[0;34m\u001B[0m\u001B[0;34m\u001B[0m\u001B[0m\n\u001B[0;32m--> 591\u001B[0;31m         \u001B[0mscores\u001B[0m \u001B[0;34m=\u001B[0m \u001B[0mscorer\u001B[0m\u001B[0;34m(\u001B[0m\u001B[0mestimator\u001B[0m\u001B[0;34m,\u001B[0m \u001B[0mX_test\u001B[0m\u001B[0;34m,\u001B[0m \u001B[0my_test\u001B[0m\u001B[0;34m)\u001B[0m\u001B[0;34m\u001B[0m\u001B[0;34m\u001B[0m\u001B[0m\n\u001B[0m\u001B[1;32m    592\u001B[0m \u001B[0;34m\u001B[0m\u001B[0m\n\u001B[1;32m    593\u001B[0m     error_msg = (\"scoring must return a number, got %s (%s) \"\n",
      "\u001B[0;32m~/Library/Caches/pypoetry/virtualenvs/ml-weight-fraction-6hEgbVhX-py3.7/lib/python3.7/site-packages/sklearn/metrics/_scorer.py\u001B[0m in \u001B[0;36m__call__\u001B[0;34m(self, estimator, *args, **kwargs)\u001B[0m\n\u001B[1;32m     85\u001B[0m             \u001B[0;32mif\u001B[0m \u001B[0misinstance\u001B[0m\u001B[0;34m(\u001B[0m\u001B[0mscorer\u001B[0m\u001B[0;34m,\u001B[0m \u001B[0m_BaseScorer\u001B[0m\u001B[0;34m)\u001B[0m\u001B[0;34m:\u001B[0m\u001B[0;34m\u001B[0m\u001B[0;34m\u001B[0m\u001B[0m\n\u001B[1;32m     86\u001B[0m                 score = scorer._score(cached_call, estimator,\n\u001B[0;32m---> 87\u001B[0;31m                                       *args, **kwargs)\n\u001B[0m\u001B[1;32m     88\u001B[0m             \u001B[0;32melse\u001B[0m\u001B[0;34m:\u001B[0m\u001B[0;34m\u001B[0m\u001B[0;34m\u001B[0m\u001B[0m\n\u001B[1;32m     89\u001B[0m                 \u001B[0mscore\u001B[0m \u001B[0;34m=\u001B[0m \u001B[0mscorer\u001B[0m\u001B[0;34m(\u001B[0m\u001B[0mestimator\u001B[0m\u001B[0;34m,\u001B[0m \u001B[0;34m*\u001B[0m\u001B[0margs\u001B[0m\u001B[0;34m,\u001B[0m \u001B[0;34m**\u001B[0m\u001B[0mkwargs\u001B[0m\u001B[0;34m)\u001B[0m\u001B[0;34m\u001B[0m\u001B[0;34m\u001B[0m\u001B[0m\n",
      "\u001B[0;32m~/Library/Caches/pypoetry/virtualenvs/ml-weight-fraction-6hEgbVhX-py3.7/lib/python3.7/site-packages/sklearn/metrics/_scorer.py\u001B[0m in \u001B[0;36m_score\u001B[0;34m(self, method_caller, estimator, X, y_true, sample_weight)\u001B[0m\n\u001B[1;32m    210\u001B[0m         \u001B[0;32melse\u001B[0m\u001B[0;34m:\u001B[0m\u001B[0;34m\u001B[0m\u001B[0;34m\u001B[0m\u001B[0m\n\u001B[1;32m    211\u001B[0m             return self._sign * self._score_func(y_true, y_pred,\n\u001B[0;32m--> 212\u001B[0;31m                                                  **self._kwargs)\n\u001B[0m\u001B[1;32m    213\u001B[0m \u001B[0;34m\u001B[0m\u001B[0m\n\u001B[1;32m    214\u001B[0m \u001B[0;34m\u001B[0m\u001B[0m\n",
      "\u001B[0;32m~/Library/Caches/pypoetry/virtualenvs/ml-weight-fraction-6hEgbVhX-py3.7/lib/python3.7/site-packages/sklearn/metrics/_classification.py\u001B[0m in \u001B[0;36mbalanced_accuracy_score\u001B[0;34m(y_true, y_pred, sample_weight, adjusted)\u001B[0m\n\u001B[1;32m   1853\u001B[0m \u001B[0;34m\u001B[0m\u001B[0m\n\u001B[1;32m   1854\u001B[0m     \"\"\"\n\u001B[0;32m-> 1855\u001B[0;31m     \u001B[0mC\u001B[0m \u001B[0;34m=\u001B[0m \u001B[0mconfusion_matrix\u001B[0m\u001B[0;34m(\u001B[0m\u001B[0my_true\u001B[0m\u001B[0;34m,\u001B[0m \u001B[0my_pred\u001B[0m\u001B[0;34m,\u001B[0m \u001B[0msample_weight\u001B[0m\u001B[0;34m=\u001B[0m\u001B[0msample_weight\u001B[0m\u001B[0;34m)\u001B[0m\u001B[0;34m\u001B[0m\u001B[0;34m\u001B[0m\u001B[0m\n\u001B[0m\u001B[1;32m   1856\u001B[0m     \u001B[0;32mwith\u001B[0m \u001B[0mnp\u001B[0m\u001B[0;34m.\u001B[0m\u001B[0merrstate\u001B[0m\u001B[0;34m(\u001B[0m\u001B[0mdivide\u001B[0m\u001B[0;34m=\u001B[0m\u001B[0;34m'ignore'\u001B[0m\u001B[0;34m,\u001B[0m \u001B[0minvalid\u001B[0m\u001B[0;34m=\u001B[0m\u001B[0;34m'ignore'\u001B[0m\u001B[0;34m)\u001B[0m\u001B[0;34m:\u001B[0m\u001B[0;34m\u001B[0m\u001B[0;34m\u001B[0m\u001B[0m\n\u001B[1;32m   1857\u001B[0m         \u001B[0mper_class\u001B[0m \u001B[0;34m=\u001B[0m \u001B[0mnp\u001B[0m\u001B[0;34m.\u001B[0m\u001B[0mdiag\u001B[0m\u001B[0;34m(\u001B[0m\u001B[0mC\u001B[0m\u001B[0;34m)\u001B[0m \u001B[0;34m/\u001B[0m \u001B[0mC\u001B[0m\u001B[0;34m.\u001B[0m\u001B[0msum\u001B[0m\u001B[0;34m(\u001B[0m\u001B[0maxis\u001B[0m\u001B[0;34m=\u001B[0m\u001B[0;36m1\u001B[0m\u001B[0;34m)\u001B[0m\u001B[0;34m\u001B[0m\u001B[0;34m\u001B[0m\u001B[0m\n",
      "\u001B[0;32m~/Library/Caches/pypoetry/virtualenvs/ml-weight-fraction-6hEgbVhX-py3.7/lib/python3.7/site-packages/sklearn/metrics/_classification.py\u001B[0m in \u001B[0;36mconfusion_matrix\u001B[0;34m(y_true, y_pred, labels, sample_weight, normalize)\u001B[0m\n\u001B[1;32m    266\u001B[0m \u001B[0;34m\u001B[0m\u001B[0m\n\u001B[1;32m    267\u001B[0m     \"\"\"\n\u001B[0;32m--> 268\u001B[0;31m     \u001B[0my_type\u001B[0m\u001B[0;34m,\u001B[0m \u001B[0my_true\u001B[0m\u001B[0;34m,\u001B[0m \u001B[0my_pred\u001B[0m \u001B[0;34m=\u001B[0m \u001B[0m_check_targets\u001B[0m\u001B[0;34m(\u001B[0m\u001B[0my_true\u001B[0m\u001B[0;34m,\u001B[0m \u001B[0my_pred\u001B[0m\u001B[0;34m)\u001B[0m\u001B[0;34m\u001B[0m\u001B[0;34m\u001B[0m\u001B[0m\n\u001B[0m\u001B[1;32m    269\u001B[0m     \u001B[0;32mif\u001B[0m \u001B[0my_type\u001B[0m \u001B[0;32mnot\u001B[0m \u001B[0;32min\u001B[0m \u001B[0;34m(\u001B[0m\u001B[0;34m\"binary\"\u001B[0m\u001B[0;34m,\u001B[0m \u001B[0;34m\"multiclass\"\u001B[0m\u001B[0;34m)\u001B[0m\u001B[0;34m:\u001B[0m\u001B[0;34m\u001B[0m\u001B[0;34m\u001B[0m\u001B[0m\n\u001B[1;32m    270\u001B[0m         \u001B[0;32mraise\u001B[0m \u001B[0mValueError\u001B[0m\u001B[0;34m(\u001B[0m\u001B[0;34m\"%s is not supported\"\u001B[0m \u001B[0;34m%\u001B[0m \u001B[0my_type\u001B[0m\u001B[0;34m)\u001B[0m\u001B[0;34m\u001B[0m\u001B[0;34m\u001B[0m\u001B[0m\n",
      "\u001B[0;32m~/Library/Caches/pypoetry/virtualenvs/ml-weight-fraction-6hEgbVhX-py3.7/lib/python3.7/site-packages/sklearn/metrics/_classification.py\u001B[0m in \u001B[0;36m_check_targets\u001B[0;34m(y_true, y_pred)\u001B[0m\n\u001B[1;32m     78\u001B[0m     \u001B[0my_pred\u001B[0m \u001B[0;34m:\u001B[0m \u001B[0marray\u001B[0m \u001B[0;32mor\u001B[0m \u001B[0mindicator\u001B[0m \u001B[0mmatrix\u001B[0m\u001B[0;34m\u001B[0m\u001B[0;34m\u001B[0m\u001B[0m\n\u001B[1;32m     79\u001B[0m     \"\"\"\n\u001B[0;32m---> 80\u001B[0;31m     \u001B[0mcheck_consistent_length\u001B[0m\u001B[0;34m(\u001B[0m\u001B[0my_true\u001B[0m\u001B[0;34m,\u001B[0m \u001B[0my_pred\u001B[0m\u001B[0;34m)\u001B[0m\u001B[0;34m\u001B[0m\u001B[0;34m\u001B[0m\u001B[0m\n\u001B[0m\u001B[1;32m     81\u001B[0m     \u001B[0mtype_true\u001B[0m \u001B[0;34m=\u001B[0m \u001B[0mtype_of_target\u001B[0m\u001B[0;34m(\u001B[0m\u001B[0my_true\u001B[0m\u001B[0;34m)\u001B[0m\u001B[0;34m\u001B[0m\u001B[0;34m\u001B[0m\u001B[0m\n\u001B[1;32m     82\u001B[0m     \u001B[0mtype_pred\u001B[0m \u001B[0;34m=\u001B[0m \u001B[0mtype_of_target\u001B[0m\u001B[0;34m(\u001B[0m\u001B[0my_pred\u001B[0m\u001B[0;34m)\u001B[0m\u001B[0;34m\u001B[0m\u001B[0;34m\u001B[0m\u001B[0m\n",
      "\u001B[0;32m~/Library/Caches/pypoetry/virtualenvs/ml-weight-fraction-6hEgbVhX-py3.7/lib/python3.7/site-packages/sklearn/utils/validation.py\u001B[0m in \u001B[0;36mcheck_consistent_length\u001B[0;34m(*arrays)\u001B[0m\n\u001B[1;32m    210\u001B[0m     \u001B[0;32mif\u001B[0m \u001B[0mlen\u001B[0m\u001B[0;34m(\u001B[0m\u001B[0muniques\u001B[0m\u001B[0;34m)\u001B[0m \u001B[0;34m>\u001B[0m \u001B[0;36m1\u001B[0m\u001B[0;34m:\u001B[0m\u001B[0;34m\u001B[0m\u001B[0;34m\u001B[0m\u001B[0m\n\u001B[1;32m    211\u001B[0m         raise ValueError(\"Found input variables with inconsistent numbers of\"\n\u001B[0;32m--> 212\u001B[0;31m                          \" samples: %r\" % [int(l) for l in lengths])\n\u001B[0m\u001B[1;32m    213\u001B[0m \u001B[0;34m\u001B[0m\u001B[0m\n\u001B[1;32m    214\u001B[0m \u001B[0;34m\u001B[0m\u001B[0m\n",
      "\u001B[0;31mValueError\u001B[0m: Found input variables with inconsistent numbers of samples: [12, 24]"
     ]
    }
   ],
   "source": [
    "# Single trial SVC-RBF, balanced accuracy\n",
    "apply_model_opt(models, params, X_target=X_enm, y_target=bin_enm)"
   ]
  },
  {
   "cell_type": "markdown",
   "metadata": {},
   "source": [
    "# Model setup"
   ]
  },
  {
   "cell_type": "markdown",
   "metadata": {},
   "source": [
    "The main prediction model function, <b>blt.model_opt_exe</b>, optimizes, executes and evaluates a classifier using stratified CV. It has the option to augment the training data within the pipeline. It is defined in an external file called at the beginning of this script.\n",
    "\n",
    "The first part of the <b>blt.model_opt_exe</b> function runs a pipeline that normalizes features on a 0 to 1 scale then performs data augmentation and runs a classifer (SVC-RBF or RFC) using leave-one-out cross validation. Model parameters are optimized using a custom parameter grid search, with the optional aid of plots to visualize accuracy over the grid.\n",
    "\n",
    "The final pipeline (trained using augmented data) is tested on the original ENM data using stratified cross-validation with n_folds = n_samples in the smallest WF bin--essentially leave-one-out CV (discussed earlier). A confusion matrix summarizes accuracy results according to each WF bin (\"class\"). The average normalized accuracy across all bins is then calculated from the confusion matrix and written to a results table for every data set."
   ]
  },
  {
   "cell_type": "markdown",
   "metadata": {},
   "source": [
    "# SVC-RBF Models"
   ]
  },
  {
   "cell_type": "markdown",
   "metadata": {},
   "source": [
    "## ENM-only"
   ]
  },
  {
   "cell_type": "markdown",
   "metadata": {},
   "source": [
    "### Baseline model"
   ]
  },
  {
   "cell_type": "code",
   "execution_count": null,
   "metadata": {
    "ExecuteTime": {
     "end_time": "2020-02-10T18:36:57.472756Z",
     "start_time": "2020-02-10T18:36:50.924426Z"
    }
   },
   "outputs": [],
   "source": [
    "# Single trial SVC-RBF, balanced accuracy\n",
    "param_grid = {'estimator__C': np.logspace(-1,7,9), \n",
    "              'estimator__gamma': np.logspace(-7,1,9)\n",
    "             }\n",
    "blt.model_opt_exe(classifier='svc', \n",
    "                  aug_type='none', \n",
    "                  k=0, \n",
    "                  feat_data=X_enm, \n",
    "                  bin_data=bin_enm, \n",
    "                  seed=28, \n",
    "                  save_fig_name='enm-only', \n",
    "                  show_opt_plot=True, \n",
    "                  show_feat_impt=False, \n",
    "                  show_cnf_matrix=True, \n",
    "                  use_balanced_accu=True, # Balanced accuracy\n",
    "                  param_grid=param_grid)"
   ]
  },
  {
   "cell_type": "code",
   "execution_count": null,
   "metadata": {
    "ExecuteTime": {
     "end_time": "2019-12-09T08:47:53.593672Z",
     "start_time": "2019-12-09T08:44:50.364093Z"
    }
   },
   "outputs": [],
   "source": [
    "# 30 trials SVC-RBF, balanced accuracy\n",
    "model_params = {'classifier': 'svc', \n",
    "                'aug_type': 'none', \n",
    "                'k': 0, \n",
    "                'feat_data': X_enm, \n",
    "                'bin_data': bin_enm, \n",
    "                'use_balanced_accu': True, \n",
    "                'param_grid': {'estimator__C': np.logspace(-1,7,9), \n",
    "                               'estimator__gamma': np.logspace(-7,1,9)}\n",
    "               }\n",
    "results_svc.iloc[1,1:3] = blt.multi_trials(num_trials=30, \n",
    "                                           model_params=model_params, \n",
    "                                           print_results=True)"
   ]
  },
  {
   "cell_type": "code",
   "execution_count": null,
   "metadata": {
    "ExecuteTime": {
     "end_time": "2020-04-06T15:47:47.312599Z",
     "start_time": "2020-04-06T15:43:57.189758Z"
    }
   },
   "outputs": [],
   "source": [
    "# 30 trials SVC-RBF, balanced accuracy\n",
    "model_params = {'classifier': 'svc', \n",
    "                'aug_type': 'none', \n",
    "                'k': 0, \n",
    "                'feat_data': X_enm, \n",
    "                'bin_data': bin_enm, \n",
    "                'use_balanced_accu': True, \n",
    "                'param_grid': {'estimator__C': np.logspace(-1,7,9), \n",
    "                               'estimator__gamma': np.logspace(-7,1,9)}\n",
    "               }\n",
    "results_svc.iloc[1,1:3] = blt.multi_trials(num_trials=30, \n",
    "                                           model_params=model_params, \n",
    "                                           print_results=True)"
   ]
  },
  {
   "cell_type": "code",
   "execution_count": null,
   "metadata": {
    "ExecuteTime": {
     "end_time": "2019-10-08T18:58:25.869807Z",
     "start_time": "2019-10-08T18:53:12.628815Z"
    }
   },
   "outputs": [],
   "source": [
    "# 50 trials SVC-RBF, balanced accuracy\n",
    "model_params = {'classifier': 'svc', \n",
    "                'aug_type': 'none', \n",
    "                'k': 0, \n",
    "                'feat_data': X_enm, \n",
    "                'bin_data': bin_enm, \n",
    "                'use_balanced_accu': True, \n",
    "                'param_grid': {'estimator__C': np.logspace(-1,7,9), \n",
    "                               'estimator__gamma': np.logspace(-7,1,9)}\n",
    "               }\n",
    "blt.multi_trials(num_trials=50, \n",
    "                 model_params=model_params, \n",
    "                 print_results=True)"
   ]
  },
  {
   "cell_type": "code",
   "execution_count": null,
   "metadata": {
    "ExecuteTime": {
     "end_time": "2020-02-10T18:11:01.108350Z",
     "start_time": "2020-02-10T18:11:01.099749Z"
    }
   },
   "outputs": [],
   "source": [
    "# Save balanced accuracy results for later evaluation\n",
    "base_distrib = [0.72, 0.7, 0.7, 0.72, 0.72, 0.71, 0.72, 0.7, 0.72, 0.72, \n",
    "                0.71, 0.73, 0.71, 0.7, 0.71, 0.72, 0.71, 0.72, 0.7, 0.71, \n",
    "                0.7, 0.72, 0.73, 0.73, 0.7, 0.72, 0.71, 0.71, 0.71, 0.7, \n",
    "                0.72, 0.71, 0.72, 0.74, 0.71, 0.71, 0.7, 0.72, 0.71, 0.71, \n",
    "                0.71, 0.73, 0.72, 0.71, 0.71, 0.72, 0.73, 0.73, 0.71, 0.69]"
   ]
  },
  {
   "cell_type": "code",
   "execution_count": null,
   "metadata": {
    "ExecuteTime": {
     "end_time": "2019-10-08T19:05:24.066277Z",
     "start_time": "2019-10-08T19:01:16.043443Z"
    }
   },
   "outputs": [],
   "source": [
    "# 50 trials SVC-RBF, normal accuracy\n",
    "model_params = {'classifier': 'svc', \n",
    "                'aug_type': 'none', \n",
    "                'k': 0, \n",
    "                'feat_data': X_enm, \n",
    "                'bin_data': bin_enm, \n",
    "                'use_balanced_accu': False, \n",
    "                'param_grid': {'estimator__C': np.logspace(-1,7,9), \n",
    "                               'estimator__gamma': np.logspace(-7,1,9)}\n",
    "               }\n",
    "blt.multi_trials(num_trials=50, model_params=model_params)"
   ]
  },
  {
   "cell_type": "markdown",
   "metadata": {},
   "source": [
    "Balanced accuracy performed negligibly better, but makes more sense to use given the imbalance of data between WF bins. Therefore, it will be used throughout."
   ]
  },
  {
   "cell_type": "markdown",
   "metadata": {},
   "source": [
    "### Permutation test"
   ]
  },
  {
   "cell_type": "markdown",
   "metadata": {},
   "source": [
    "The following tests are performed with randomly permuted labels (ENM data only)."
   ]
  },
  {
   "cell_type": "code",
   "execution_count": null,
   "metadata": {
    "ExecuteTime": {
     "end_time": "2020-02-10T18:11:29.405636Z",
     "start_time": "2020-02-10T18:11:29.402581Z"
    }
   },
   "outputs": [],
   "source": [
    "# TODO: Decorator allows selective application of completion \"pings\"\n",
    "notify_on_complete = blt.CompletionNotifier(blt.ping_notify)"
   ]
  },
  {
   "cell_type": "code",
   "execution_count": null,
   "metadata": {
    "ExecuteTime": {
     "end_time": "2020-02-10T18:11:31.767918Z",
     "start_time": "2020-02-10T18:11:31.759105Z"
    }
   },
   "outputs": [],
   "source": [
    "@notify_on_complete\n",
    "def perm_test(num_trials, classifier, model_params):\n",
    "    seed_set = np.random.choice(np.arange(0,100), \n",
    "                                size=num_trials, replace=False)\n",
    "    results_permute = np.empty(seed_set.size)\n",
    "    for idx, s in enumerate(seed_set):\n",
    "        with blt.HiddenPrints():\n",
    "            bin_enm_permute = np.random.RandomState(seed=s).permutation(bin_enm)\n",
    "            results_permute[idx] = blt.model_opt_exe(classifier=classifier, \n",
    "                                                     aug_type='none', \n",
    "                                                     k=0, \n",
    "                                                     feat_data=X_enm, \n",
    "                                                     bin_data=bin_enm_permute,\n",
    "                                                     param_grid=param_grid)\n",
    "    mu_permute = results_permute.mean()\n",
    "    sigma_permute = results_permute.std()\n",
    "    print(\"Avg accuracy:    \", mu_permute)\n",
    "    print(\"Median accuracy: \", np.median(results_permute))\n",
    "    print(\"StdDev accuracy: \", sigma_permute)\n",
    "    print(\"Numer of trials: \", num_trials)\n",
    "    print(\"Results: \", results_permute)\n",
    "    return mu_permute, sigma_permute"
   ]
  },
  {
   "cell_type": "code",
   "execution_count": null,
   "metadata": {
    "ExecuteTime": {
     "end_time": "2019-09-26T09:43:55.931737Z",
     "start_time": "2019-09-26T09:29:44.078843Z"
    }
   },
   "outputs": [],
   "source": [
    "# Run permutation tests over a number of trials, \"num_trials\"\n",
    "num_trials = 100\n",
    "param_grid = {'estimator__C': np.logspace(-1,7,9), \n",
    "              'estimator__gamma': np.logspace(-7,1,9)\n",
    "             }\n",
    "mu_permute, sigma_permute = perm_test(100, 'svc', model_params=param_grid)"
   ]
  },
  {
   "cell_type": "code",
   "execution_count": null,
   "metadata": {
    "ExecuteTime": {
     "end_time": "2019-09-30T21:12:05.020066Z",
     "start_time": "2019-09-30T21:12:04.993836Z"
    }
   },
   "outputs": [],
   "source": [
    "results_svc.iloc[0,1:3] = (mu_permute, sigma_permute)"
   ]
  },
  {
   "cell_type": "code",
   "execution_count": null,
   "metadata": {
    "ExecuteTime": {
     "end_time": "2020-02-10T18:11:53.109107Z",
     "start_time": "2020-02-10T18:11:53.100091Z"
    }
   },
   "outputs": [],
   "source": [
    "results_permute = [0.36, 0.39, 0.39, 0.45, 0.4, 0.42, 0.32, 0.48, 0.42, 0.43, \n",
    "                   0.34, 0.4, 0.38, 0.47, 0.34, 0.34, 0.41, 0.34, 0.34, 0.42, \n",
    "                   0.48, 0.35, 0.37, 0.41, 0.39, 0.38, 0.46, 0.47, 0.48, 0.39, \n",
    "                   0.45, 0.4, 0.43, 0.42, 0.41, 0.47, 0.41, 0.34, 0.38, 0.38, \n",
    "                   0.39, 0.35, 0.46, 0.44, 0.38, 0.35, 0.42, 0.37, 0.33, 0.44, \n",
    "                   0.39, 0.44, 0.47, 0.45, 0.39, 0.35, 0.43, 0.5, 0.34, 0.38, \n",
    "                   0.34, 0.43, 0.34, 0.36, 0.37, 0.54, 0.37, 0.34, 0.42, 0.49, \n",
    "                   0.41, 0.39, 0.35, 0.42, 0.46, 0.42, 0.43, 0.41, 0.43, 0.39, \n",
    "                   0.33, 0.38, 0.48, 0.36, 0.43, 0.34, 0.42, 0.45, 0.45, 0.47, \n",
    "                   0.33, 0.43, 0.42, 0.48, 0.38, 0.4, 0.44, 0.35, 0.4, 0.34]"
   ]
  },
  {
   "cell_type": "code",
   "execution_count": null,
   "metadata": {
    "ExecuteTime": {
     "end_time": "2019-09-30T21:14:19.345616Z",
     "start_time": "2019-09-30T21:14:19.337630Z"
    }
   },
   "outputs": [],
   "source": [
    "# Export permutation results to text file\n",
    "np.savetxt('./data/results-permutation-SVC.txt', results_permute, \n",
    "           delimiter='\\t', fmt='%.2f')"
   ]
  },
  {
   "cell_type": "markdown",
   "metadata": {},
   "source": [
    "### Feature comparison"
   ]
  },
  {
   "cell_type": "markdown",
   "metadata": {},
   "source": [
    "Next, model optimization and evaluation is performed on the clustered ENM-only data after it is separated by groups of features: functions, PUCs, chemical properties and matrix properties. This serves as a means of comparing the usefulness of the different feature groups while using an SVC-RBF. A similar comparison is made later by calculating feature importance with the RFC."
   ]
  },
  {
   "cell_type": "markdown",
   "metadata": {
    "ExecuteTime": {
     "end_time": "2020-03-18T22:21:54.517499Z",
     "start_time": "2020-03-18T22:21:54.468815Z"
    }
   },
   "source": [
    "##### Only chemical properties"
   ]
  },
  {
   "cell_type": "code",
   "execution_count": null,
   "metadata": {
    "ExecuteTime": {
     "end_time": "2020-03-18T22:23:19.987276Z",
     "start_time": "2020-03-18T22:23:19.940274Z"
    }
   },
   "outputs": [],
   "source": [
    "# Get column indices for features present in Isaacs et al. 2016\n",
    "feat_names = X_enm.columns\n",
    "idx_cprponly = [i for i, s in enumerate(feat_names) if 'cprp' in s]"
   ]
  },
  {
   "cell_type": "code",
   "execution_count": null,
   "metadata": {
    "ExecuteTime": {
     "end_time": "2020-03-18T22:26:08.611970Z",
     "start_time": "2020-03-18T22:23:22.019240Z"
    }
   },
   "outputs": [],
   "source": [
    "model_params = {'classifier': 'svc', \n",
    "                'aug_type': 'none', \n",
    "                'k': 0, \n",
    "                'feat_data': X_enm.iloc[:,idx_cprponly], \n",
    "                'bin_data': bin_enm, \n",
    "                'use_balanced_accu': True, \n",
    "                'param_grid': {'estimator__C': np.logspace(-1,7,9), \n",
    "                               'estimator__gamma': np.logspace(-7,1,9)}\n",
    "               }\n",
    "mu_func, sigma_func = blt.multi_trials(num_trials=30, \n",
    "                                       model_params=model_params, \n",
    "                                       print_results=True)"
   ]
  },
  {
   "cell_type": "markdown",
   "metadata": {},
   "source": [
    "##### Only functional uses"
   ]
  },
  {
   "cell_type": "code",
   "execution_count": null,
   "metadata": {
    "ExecuteTime": {
     "end_time": "2020-03-18T22:33:40.966992Z",
     "start_time": "2020-03-18T22:33:40.954967Z"
    }
   },
   "outputs": [],
   "source": [
    "# Get column indices for features present in Isaacs et al. 2016\n",
    "idx_funconly = [i for i, s in enumerate(feat_names) if 'fagg' in s]\n",
    "idx_funconly += [i for i, s in enumerate(feat_names) if 'func' in s]\n",
    "idx_funconly"
   ]
  },
  {
   "cell_type": "code",
   "execution_count": null,
   "metadata": {
    "ExecuteTime": {
     "end_time": "2020-03-18T22:37:06.456284Z",
     "start_time": "2020-03-18T22:33:48.579628Z"
    }
   },
   "outputs": [],
   "source": [
    "model_params = {'classifier': 'svc', \n",
    "                'aug_type': 'none', \n",
    "                'k': 0, \n",
    "                'feat_data': X_enm.iloc[:,idx_funconly], \n",
    "                'bin_data': bin_enm, \n",
    "                'use_balanced_accu': True, \n",
    "                'param_grid': {'estimator__C': np.logspace(-1,7,9), \n",
    "                               'estimator__gamma': np.logspace(-7,1,9)}\n",
    "               }\n",
    "mu_func, sigma_func = blt.multi_trials(num_trials=30, \n",
    "                                       model_params=model_params, \n",
    "                                       print_results=True)"
   ]
  },
  {
   "cell_type": "markdown",
   "metadata": {},
   "source": [
    "##### Only chemical properties, functional uses"
   ]
  },
  {
   "cell_type": "code",
   "execution_count": null,
   "metadata": {
    "ExecuteTime": {
     "end_time": "2020-01-30T09:47:57.042090Z",
     "start_time": "2020-01-30T09:47:57.035940Z"
    }
   },
   "outputs": [],
   "source": [
    "# Get column indices for features present in Isaacs et al. 2016\n",
    "feat_names = X_enm.columns\n",
    "idx_isaacs = [i for i, s in enumerate(feat_names) if 'cprp' in s]\n",
    "idx_isaacs += [i for i, s in enumerate(feat_names) if 'fagg' in s]\n",
    "idx_isaacs += [i for i, s in enumerate(feat_names) if 'func' in s]\n",
    "idx_isaacs"
   ]
  },
  {
   "cell_type": "code",
   "execution_count": null,
   "metadata": {
    "ExecuteTime": {
     "end_time": "2020-01-30T09:55:28.147828Z",
     "start_time": "2020-01-30T09:52:42.382698Z"
    }
   },
   "outputs": [],
   "source": [
    "model_params = {'classifier': 'svc', \n",
    "                'aug_type': 'none', \n",
    "                'k': 0, \n",
    "                'feat_data': X_enm.iloc[:,idx_isaacs], \n",
    "                'bin_data': bin_enm, \n",
    "                'use_balanced_accu': True, \n",
    "                'param_grid': {'estimator__C': np.logspace(-1,7,9), \n",
    "                               'estimator__gamma': np.logspace(-7,1,9)}\n",
    "               }\n",
    "mu_func, sigma_func = blt.multi_trials(num_trials=30, \n",
    "                                       model_params=model_params, \n",
    "                                       print_results=True)"
   ]
  },
  {
   "cell_type": "markdown",
   "metadata": {},
   "source": [
    "##### No 'was_WF_measured'"
   ]
  },
  {
   "cell_type": "code",
   "execution_count": null,
   "metadata": {
    "ExecuteTime": {
     "end_time": "2020-01-30T10:13:09.150261Z",
     "start_time": "2020-01-30T10:10:01.095065Z"
    }
   },
   "outputs": [],
   "source": [
    "idx_nomeas = [i for i, s in enumerate(feat_names) if 'WFmeasured' not in s]\n",
    "model_params = {'classifier': 'svc', \n",
    "                'aug_type': 'none', \n",
    "                'k': 0, \n",
    "                'feat_data': X_enm.iloc[:,idx_nomeas], \n",
    "                'bin_data': bin_enm, \n",
    "                'use_balanced_accu': True, \n",
    "                'param_grid': {'estimator__C': np.logspace(-1,7,9), \n",
    "                               'estimator__gamma': np.logspace(-7,1,9)}\n",
    "               }\n",
    "blt.multi_trials(num_trials=30, \n",
    "                 model_params=model_params, \n",
    "                 print_results=True)"
   ]
  },
  {
   "cell_type": "markdown",
   "metadata": {},
   "source": [
    "##### No PUCs "
   ]
  },
  {
   "cell_type": "code",
   "execution_count": null,
   "metadata": {
    "ExecuteTime": {
     "end_time": "2020-03-17T21:18:38.398815Z",
     "start_time": "2020-03-17T21:18:38.389357Z"
    }
   },
   "outputs": [],
   "source": [
    "# Get column indices excluding those of PUCs\n",
    "counting = np.arange(0,35)\n",
    "lst = list(counting[:16]) + list(counting[-3:])\n",
    "lst"
   ]
  },
  {
   "cell_type": "code",
   "execution_count": null,
   "metadata": {
    "ExecuteTime": {
     "end_time": "2020-03-17T21:21:30.798160Z",
     "start_time": "2020-03-17T21:18:42.611632Z"
    }
   },
   "outputs": [],
   "source": [
    "model_params = {'classifier': 'svc', \n",
    "                'aug_type': 'none', \n",
    "                'k': 0, \n",
    "                'feat_data': X_enm.iloc[:,lst], \n",
    "                'bin_data': bin_enm, \n",
    "                'param_grid': {'estimator__C': np.logspace(-1,7,9), \n",
    "                               'estimator__gamma': np.logspace(-7,1,9)}\n",
    "               }\n",
    "mu_func, sigma_func = blt.multi_trials(num_trials=30, \n",
    "                                       model_params=model_params)"
   ]
  },
  {
   "cell_type": "markdown",
   "metadata": {},
   "source": [
    "## Organics-only"
   ]
  },
  {
   "cell_type": "code",
   "execution_count": null,
   "metadata": {
    "ExecuteTime": {
     "end_time": "2019-07-28T11:50:18.729710Z",
     "start_time": "2019-07-23T14:13:43.046559Z"
    }
   },
   "outputs": [],
   "source": [
    "# Run model_opt_exe on clustered organics-only data\n",
    "param_grid = {'estimator__C': np.logspace(-1,7,9), \n",
    "              'estimator__gamma': np.logspace(-7,1,9)\n",
    "             }\n",
    "blt.model_opt_exe(classifier='svc', \n",
    "                  aug_type='none', \n",
    "                  k=0, \n",
    "                  feat_data=X_source, \n",
    "                  bin_data=bin_source, \n",
    "                  show_opt_plot=True, param_grid=param_grid)"
   ]
  },
  {
   "cell_type": "markdown",
   "metadata": {},
   "source": [
    "## Randomly augmented data\n",
    "The remaining models use augmented training data."
   ]
  },
  {
   "cell_type": "code",
   "execution_count": null,
   "metadata": {
    "ExecuteTime": {
     "end_time": "2019-09-27T06:44:34.798799Z",
     "start_time": "2019-09-27T06:26:05.551098Z"
    }
   },
   "outputs": [],
   "source": [
    "# 1:1 ENM:Organics ratio\n",
    "model_params = {'classifier': 'svc', \n",
    "                'aug_type': 'random', \n",
    "                'k': 1, \n",
    "                'feat_data': X_enm, \n",
    "                'bin_data': bin_enm, \n",
    "                'param_grid': {'estimator__C': np.logspace(-1,7,9), \n",
    "                               'estimator__gamma': np.logspace(-7,1,9)}\n",
    "               }\n",
    "results_svc.iloc[2,1:3] = blt.multi_trials(num_trials=30, \n",
    "                                           model_params=model_params)"
   ]
  },
  {
   "cell_type": "code",
   "execution_count": null,
   "metadata": {
    "ExecuteTime": {
     "end_time": "2020-04-06T20:28:17.697592Z",
     "start_time": "2020-04-06T19:43:57.102889Z"
    }
   },
   "outputs": [],
   "source": [
    "# 1:2 ENM:Organics ratio\n",
    "model_params = {'classifier': 'svc', \n",
    "                'aug_type': 'random', \n",
    "                'k': 2,\n",
    "                'feat_data': X_enm, \n",
    "                'bin_data': bin_enm, \n",
    "                'param_grid': {'estimator__C': np.logspace(-1,7,9), \n",
    "                               'estimator__gamma': np.logspace(-7,1,9)}\n",
    "               }\n",
    "results_svc.iloc[3,1:3] = blt.multi_trials(num_trials=30, \n",
    "                                           model_params=model_params)"
   ]
  },
  {
   "cell_type": "code",
   "execution_count": null,
   "metadata": {
    "ExecuteTime": {
     "end_time": "2019-10-01T07:10:32.954478Z",
     "start_time": "2019-10-01T05:46:54.885997Z"
    }
   },
   "outputs": [],
   "source": [
    "# 1:3 ENM:Organics ratio\n",
    "model_params = {'classifier': 'svc', \n",
    "                'aug_type': 'random', \n",
    "                'k': 3, \n",
    "                'feat_data': X_enm, \n",
    "                'bin_data': bin_enm, \n",
    "                'param_grid': {'estimator__C': np.logspace(-1,7,9), \n",
    "                               'estimator__gamma': np.logspace(-7,1,9)}\n",
    "               }\n",
    "results_svc.iloc[4,1:3] = blt.multi_trials(num_trials=30, \n",
    "                                           model_params=model_params)"
   ]
  },
  {
   "cell_type": "code",
   "execution_count": null,
   "metadata": {
    "ExecuteTime": {
     "end_time": "2019-10-01T10:44:27.509311Z",
     "start_time": "2019-10-01T07:10:32.957047Z"
    }
   },
   "outputs": [],
   "source": [
    "# 1:4 ENM:Organics ratio\n",
    "model_params = {'classifier': 'svc', \n",
    "                'aug_type': 'random', \n",
    "                'k': 4, \n",
    "                'feat_data': X_enm, \n",
    "                'bin_data': bin_enm, \n",
    "                'param_grid': {'estimator__C': np.logspace(-1,7,9), \n",
    "                               'estimator__gamma': np.logspace(-7,1,9)}\n",
    "               }\n",
    "results_svc.iloc[5,1:3] = blt.multi_trials(num_trials=30, \n",
    "                                           model_params=model_params)"
   ]
  },
  {
   "cell_type": "code",
   "execution_count": null,
   "metadata": {
    "ExecuteTime": {
     "end_time": "2019-10-06T20:53:44.560577Z",
     "start_time": "2019-10-04T20:26:31.048375Z"
    }
   },
   "outputs": [],
   "source": [
    "# 1:5 ENM:Organics ratio\n",
    "model_params = {'classifier': 'svc', \n",
    "                'aug_type': 'random', \n",
    "                'k': 5, \n",
    "                'feat_data': X_enm, \n",
    "                'bin_data': bin_enm, \n",
    "                'param_grid': {'estimator__C': np.logspace(-1,7,9), \n",
    "                               'estimator__gamma': np.logspace(-7,1,9)}\n",
    "               }\n",
    "results_svc.iloc[6,1:3] = blt.multi_trials(num_trials=30, \n",
    "                                           model_params=model_params)"
   ]
  },
  {
   "cell_type": "code",
   "execution_count": null,
   "metadata": {
    "ExecuteTime": {
     "end_time": "2019-10-08T11:52:24.216328Z",
     "start_time": "2019-10-07T06:56:31.005480Z"
    }
   },
   "outputs": [],
   "source": [
    "# 1:10 ENM:Organics ratio\n",
    "model_params = {'classifier': 'svc', \n",
    "                'aug_type': 'random', \n",
    "                'k': 10, \n",
    "                'feat_data': X_enm, \n",
    "                'bin_data': bin_enm, \n",
    "                'param_grid': {'estimator__C': np.logspace(-1,7,9), \n",
    "                               'estimator__gamma': np.logspace(-7,1,9)}\n",
    "               }\n",
    "results_svc.iloc[7,1:3] = blt.multi_trials(num_trials=30, \n",
    "                                           print_results=True, \n",
    "                                           model_params=model_params)"
   ]
  },
  {
   "cell_type": "code",
   "execution_count": null,
   "metadata": {
    "ExecuteTime": {
     "end_time": "2019-10-25T13:40:08.753825Z",
     "start_time": "2019-10-21T07:42:36.909693Z"
    }
   },
   "outputs": [],
   "source": [
    "# 1:20 ENM:Organics ratio\n",
    "model_params = {'classifier': 'svc', \n",
    "                'aug_type': 'random', \n",
    "                'k': 20, \n",
    "                'feat_data': X_enm, \n",
    "                'bin_data': bin_enm, \n",
    "                'param_grid': {'estimator__C': np.logspace(-1,7,9), \n",
    "                               'estimator__gamma': np.logspace(-7,1,9)}\n",
    "               }\n",
    "results_svc.iloc[8,1:3] = blt.multi_trials(num_trials=30, \n",
    "                                           print_results=True, \n",
    "                                           model_params=model_params)"
   ]
  },
  {
   "cell_type": "markdown",
   "metadata": {},
   "source": [
    "## Matching (unsupervised) augmented data"
   ]
  },
  {
   "cell_type": "code",
   "execution_count": null,
   "metadata": {
    "ExecuteTime": {
     "end_time": "2020-04-07T09:14:25.918282Z",
     "start_time": "2020-04-07T09:03:36.086290Z"
    }
   },
   "outputs": [],
   "source": [
    "# 1:1 ENM:Organics ratio\n",
    "model_params = {'classifier': 'svc', \n",
    "                'aug_type': 'uns_match', \n",
    "                'k': 1, \n",
    "                'feat_data': X_enm, \n",
    "                'bin_data': bin_enm, \n",
    "                'param_grid': {'estimator__C': np.logspace(-1,7,9), \n",
    "                               'estimator__gamma': np.logspace(-7,1,9)}\n",
    "               }\n",
    "results_svc.iloc[2,3:5] = blt.multi_trials(num_trials=30, \n",
    "                                           model_params=model_params)"
   ]
  },
  {
   "cell_type": "code",
   "execution_count": null,
   "metadata": {
    "ExecuteTime": {
     "end_time": "2020-04-07T09:35:57.128772Z",
     "start_time": "2020-04-07T09:14:25.923399Z"
    }
   },
   "outputs": [],
   "source": [
    "# 1:2 ENM:Organics ratio\n",
    "model_params = {'classifier': 'svc', \n",
    "                'aug_type': 'uns_match', \n",
    "                'k': 2, \n",
    "                'feat_data': X_enm, \n",
    "                'bin_data': bin_enm, \n",
    "                'param_grid': {'estimator__C': np.logspace(-1,7,9), \n",
    "                               'estimator__gamma': np.logspace(-7,1,9)}\n",
    "               }\n",
    "results_svc.iloc[3,3:5] = blt.multi_trials(num_trials=30, \n",
    "                                           model_params=model_params)"
   ]
  },
  {
   "cell_type": "code",
   "execution_count": null,
   "metadata": {
    "ExecuteTime": {
     "end_time": "2020-04-07T06:36:50.036304Z",
     "start_time": "2020-04-07T05:59:10.332717Z"
    }
   },
   "outputs": [],
   "source": [
    "# 1:3 ENM:Organics ratio\n",
    "model_params = {'classifier': 'svc', \n",
    "                'aug_type': 'uns_match', \n",
    "                'k': 3, \n",
    "                'feat_data': X_enm, \n",
    "                'bin_data': bin_enm, \n",
    "                'param_grid': {'estimator__C': np.logspace(-1,7,9), \n",
    "                               'estimator__gamma': np.logspace(-7,1,9)}\n",
    "               }\n",
    "results_svc.iloc[4,3:5] = blt.multi_trials(num_trials=30, \n",
    "                                           model_params=model_params)"
   ]
  },
  {
   "cell_type": "code",
   "execution_count": null,
   "metadata": {
    "ExecuteTime": {
     "end_time": "2020-04-07T13:05:27.897436Z",
     "start_time": "2020-04-07T11:54:29.532088Z"
    }
   },
   "outputs": [],
   "source": [
    "# 1:4 ENM:Organics ratio\n",
    "model_params = {'classifier': 'svc', \n",
    "                'aug_type': 'uns_match', \n",
    "                'k': 4, \n",
    "                'feat_data': X_enm, \n",
    "                'bin_data': bin_enm, \n",
    "                'param_grid': {'estimator__C': np.logspace(-1,7,9), \n",
    "                               'estimator__gamma': np.logspace(-7,1,9)}\n",
    "               }\n",
    "results_svc.iloc[5,3:5] = blt.multi_trials(num_trials=30, \n",
    "                                           model_params=model_params)"
   ]
  },
  {
   "cell_type": "code",
   "execution_count": null,
   "metadata": {
    "ExecuteTime": {
     "end_time": "2019-10-21T01:21:00.702428Z",
     "start_time": "2019-10-20T20:35:29.515073Z"
    }
   },
   "outputs": [],
   "source": [
    "# 1:5 ENM:Organics ratio\n",
    "model_params = {'classifier': 'svc', \n",
    "                'aug_type': 'uns_match', \n",
    "                'k': 5, \n",
    "                'feat_data': X_enm, \n",
    "                'bin_data': bin_enm, \n",
    "                'param_grid': {'estimator__C': np.logspace(-1,7,9), \n",
    "                               'estimator__gamma': np.logspace(-7,1,9)}\n",
    "               }\n",
    "blt.multi_trials(num_trials=50, \n",
    "                 print_results=True, \n",
    "                 model_params=model_params)"
   ]
  },
  {
   "cell_type": "code",
   "execution_count": null,
   "metadata": {
    "ExecuteTime": {
     "end_time": "2020-02-10T18:46:25.441291Z",
     "start_time": "2020-02-10T18:43:14.551512Z"
    }
   },
   "outputs": [],
   "source": [
    "# Single trial SVC-RBF, balanced accuracy\n",
    "param_grid = {'estimator__C': np.logspace(-1,7,9), \n",
    "              'estimator__gamma': np.logspace(-7,1,9)\n",
    "             }\n",
    "blt.model_opt_exe(classifier='svc', \n",
    "                  aug_type='uns_match', \n",
    "                  k=5, \n",
    "                  feat_data=X_enm, \n",
    "                  bin_data=bin_enm, \n",
    "                  seed=28, \n",
    "                  save_fig_name='uns_match', \n",
    "                  show_opt_plot=True, \n",
    "                  show_feat_impt=False, \n",
    "                  show_cnf_matrix=True, \n",
    "                  use_balanced_accu=True, # Balanced accuracy \n",
    "                  param_grid=param_grid)"
   ]
  },
  {
   "cell_type": "code",
   "execution_count": null,
   "metadata": {
    "ExecuteTime": {
     "end_time": "2020-02-10T19:47:32.378600Z",
     "start_time": "2020-02-10T19:47:32.372788Z"
    }
   },
   "outputs": [],
   "source": [
    "match_distrib = [0.77, 0.74, 0.76, 0.76, 0.75, 0.76, 0.76, 0.76, 0.73, 0.76, \n",
    "                 0.75, 0.74, 0.75, 0.74, 0.76, 0.75, 0.72, 0.75, 0.76, 0.73, \n",
    "                 0.75, 0.76, 0.76, 0.77, 0.76, 0.75, 0.75, 0.76, 0.76, 0.76, \n",
    "                 0.78, 0.76, 0.74, 0.76, 0.76, 0.72, 0.72, 0.76, 0.76, 0.76, \n",
    "                 0.76, 0.76, 0.78, 0.76, 0.74, 0.76, 0.77, 0.76, 0.76, 0.76]"
   ]
  },
  {
   "cell_type": "code",
   "execution_count": null,
   "metadata": {
    "ExecuteTime": {
     "end_time": "2019-10-04T12:50:49.229567Z",
     "start_time": "2019-10-04T06:30:19.695139Z"
    }
   },
   "outputs": [],
   "source": [
    "# 1:10 ENM:Organics ratio\n",
    "model_params = {'classifier': 'svc', \n",
    "                'aug_type': 'uns_match', \n",
    "                'k': 10, \n",
    "                'feat_data': X_enm, \n",
    "                'bin_data': bin_enm, \n",
    "                'use_balanced_accu': True, \n",
    "                'param_grid': {'estimator__C': np.logspace(-1,7,9), \n",
    "                               'estimator__gamma': np.logspace(-7,1,9)}\n",
    "               }\n",
    "results_svc.iloc[7,3:5] = blt.multi_trials(num_trials=30, \n",
    "                                           print_results=True, \n",
    "                                           model_params=model_params)"
   ]
  },
  {
   "cell_type": "code",
   "execution_count": null,
   "metadata": {
    "ExecuteTime": {
     "end_time": "2019-10-19T19:26:33.476045Z",
     "start_time": "2019-10-19T06:48:54.725965Z"
    }
   },
   "outputs": [],
   "source": [
    "# 1:20 ENM:Organics ratio\n",
    "model_params = {'classifier': 'svc', \n",
    "                'aug_type': 'uns_match', \n",
    "                'k': 20, \n",
    "                'feat_data': X_enm, \n",
    "                'bin_data': bin_enm, \n",
    "                'use_balanced_accu': True, \n",
    "                'param_grid': {'estimator__C': np.logspace(-1,7,9), \n",
    "                               'estimator__gamma': np.logspace(-7,1,9)}\n",
    "               }\n",
    "results_svc.iloc[8,3:5] = blt.multi_trials(num_trials=30, \n",
    "                                           print_results=True, \n",
    "                                           model_params=model_params)"
   ]
  },
  {
   "cell_type": "markdown",
   "metadata": {},
   "source": [
    "## Matching (supervised) augmented data"
   ]
  },
  {
   "cell_type": "code",
   "execution_count": null,
   "metadata": {
    "ExecuteTime": {
     "end_time": "2019-10-19T19:48:45.565840Z",
     "start_time": "2019-10-19T19:35:41.735548Z"
    }
   },
   "outputs": [],
   "source": [
    "# 1:1 ENM:Organics ratio\n",
    "model_params = {'classifier': 'svc', \n",
    "                'aug_type': 'sup_match', \n",
    "                'k': 1, \n",
    "                'feat_data': X_enm, \n",
    "                'bin_data': bin_enm, \n",
    "                'param_grid': {'estimator__C': np.logspace(-1,7,9), \n",
    "                               'estimator__gamma': np.logspace(-7,1,9)}\n",
    "               }\n",
    "results_svc.iloc[2,5:7] = blt.multi_trials(num_trials=30, \n",
    "                                           print_results=True, \n",
    "                                           model_params=model_params)"
   ]
  },
  {
   "cell_type": "code",
   "execution_count": null,
   "metadata": {
    "ExecuteTime": {
     "end_time": "2019-10-19T23:54:34.366949Z",
     "start_time": "2019-10-19T23:34:13.800219Z"
    }
   },
   "outputs": [],
   "source": [
    "# 1:2 ENM:Organics ratio\n",
    "model_params = {'classifier': 'svc', \n",
    "                'aug_type': 'sup_match', \n",
    "                'k': 2, \n",
    "                'feat_data': X_enm, \n",
    "                'bin_data': bin_enm, \n",
    "                'param_grid': {'estimator__C': np.logspace(-1,7,9), \n",
    "                               'estimator__gamma': np.logspace(-7,1,9)}\n",
    "               }\n",
    "results_svc.iloc[3,5:7] = blt.multi_trials(num_trials=30, \n",
    "                                           print_results=True, \n",
    "                                           model_params=model_params)"
   ]
  },
  {
   "cell_type": "code",
   "execution_count": null,
   "metadata": {
    "ExecuteTime": {
     "end_time": "2019-10-20T00:26:07.846920Z",
     "start_time": "2019-10-19T23:57:45.824868Z"
    }
   },
   "outputs": [],
   "source": [
    "# 1:3 ENM:Organics ratio\n",
    "model_params = {'classifier': 'svc', \n",
    "                'aug_type': 'sup_match', \n",
    "                'k': 3, \n",
    "                'feat_data': X_enm, \n",
    "                'bin_data': bin_enm, \n",
    "                'param_grid': {'estimator__C': np.logspace(-1,7,9), \n",
    "                               'estimator__gamma': np.logspace(-7,1,9)}\n",
    "               }\n",
    "results_svc.iloc[4,5:7] = blt.multi_trials(num_trials=30, \n",
    "                                           print_results=True, \n",
    "                                           model_params=model_params)"
   ]
  },
  {
   "cell_type": "code",
   "execution_count": null,
   "metadata": {
    "ExecuteTime": {
     "end_time": "2019-10-20T01:59:37.502864Z",
     "start_time": "2019-10-20T01:09:13.336206Z"
    }
   },
   "outputs": [],
   "source": [
    "# 1:4 ENM:Organics ratio\n",
    "model_params = {'classifier': 'svc', \n",
    "                'aug_type': 'sup_match', \n",
    "                'k': 4, \n",
    "                'feat_data': X_enm, \n",
    "                'bin_data': bin_enm, \n",
    "                'param_grid': {'estimator__C': np.logspace(-1,7,9), \n",
    "                               'estimator__gamma': np.logspace(-7,1,9)}\n",
    "               }\n",
    "results_svc.iloc[5,5:7] = blt.multi_trials(num_trials=30, print_results=True, \n",
    "                                           model_params=model_params)"
   ]
  },
  {
   "cell_type": "code",
   "execution_count": null,
   "metadata": {
    "ExecuteTime": {
     "end_time": "2019-10-20T03:08:18.854468Z",
     "start_time": "2019-10-20T02:03:31.637363Z"
    }
   },
   "outputs": [],
   "source": [
    "# 1:5 ENM:Organics ratio\n",
    "model_params = {'classifier': 'svc', \n",
    "                'aug_type': 'sup_match', \n",
    "                'k': 5, \n",
    "                'feat_data': X_enm, \n",
    "                'bin_data': bin_enm, \n",
    "                'use_balanced_accu': True, \n",
    "                'param_grid': {'estimator__C': np.logspace(-1,7,9), \n",
    "                               'estimator__gamma': np.logspace(-7,1,9)}\n",
    "               }\n",
    "results_svc.iloc[6,5:7] = blt.multi_trials(num_trials=30, \n",
    "                                           print_results=True, \n",
    "                                           model_params=model_params)"
   ]
  },
  {
   "cell_type": "code",
   "execution_count": null,
   "metadata": {
    "ExecuteTime": {
     "end_time": "2019-10-20T06:11:47.913209Z",
     "start_time": "2019-10-20T03:43:02.463888Z"
    }
   },
   "outputs": [],
   "source": [
    "# 1:10 ENM:Organics ratio\n",
    "model_params = {'classifier': 'svc', \n",
    "                'aug_type': 'sup_match', \n",
    "                'k': 10, \n",
    "                'feat_data': X_enm, \n",
    "                'bin_data': bin_enm, \n",
    "                'use_balanced_accu': True, \n",
    "                'param_grid': {'estimator__C': np.logspace(-1,7,9), \n",
    "                               'estimator__gamma': np.logspace(-7,1,9)}\n",
    "               }\n",
    "results_svc.iloc[7,5:7] = blt.multi_trials(num_trials=30, \n",
    "                                           print_results=True, \n",
    "                                           model_params=model_params)"
   ]
  },
  {
   "cell_type": "code",
   "execution_count": null,
   "metadata": {
    "ExecuteTime": {
     "end_time": "2019-10-20T19:22:13.759379Z",
     "start_time": "2019-10-20T08:17:27.375841Z"
    }
   },
   "outputs": [],
   "source": [
    "# 1:20 ENM:Organics ratio\n",
    "model_params = {'classifier': 'svc', \n",
    "                'aug_type': 'sup_match', \n",
    "                'k': 20, \n",
    "                'feat_data': X_enm, \n",
    "                'bin_data': bin_enm, \n",
    "                'use_balanced_accu': True, \n",
    "                'param_grid': {'estimator__C': np.logspace(-1,7,9), \n",
    "                               'estimator__gamma': np.logspace(-7,1,9)}\n",
    "               }\n",
    "results_svc.iloc[8,5:7] = blt.multi_trials(num_trials=30, \n",
    "                                           print_results=True, \n",
    "                                           model_params=model_params)"
   ]
  },
  {
   "cell_type": "markdown",
   "metadata": {},
   "source": [
    "## Alternative to MW"
   ]
  },
  {
   "cell_type": "markdown",
   "metadata": {},
   "source": [
    "### Diameter"
   ]
  },
  {
   "cell_type": "code",
   "execution_count": null,
   "metadata": {
    "ExecuteTime": {
     "end_time": "2020-05-14T01:02:05.819221Z",
     "start_time": "2020-05-14T01:02:05.790316Z"
    }
   },
   "outputs": [],
   "source": [
    "results_svc_diam"
   ]
  },
  {
   "cell_type": "code",
   "execution_count": null,
   "metadata": {
    "ExecuteTime": {
     "end_time": "2020-04-27T05:00:34.096061Z",
     "start_time": "2020-04-27T04:51:06.973939Z"
    }
   },
   "outputs": [],
   "source": [
    "# 30 trials SVC-RBF, diameter\n",
    "model_params = {'classifier': 'svc', \n",
    "                'aug_type': 'none', \n",
    "                'k': 0, \n",
    "                'feat_data': X_enm_diam, \n",
    "                'bin_data': bin_enm_diam, \n",
    "                'use_balanced_accu': True, \n",
    "                'param_grid': {'estimator__C': np.logspace(-1,7,9), \n",
    "                               'estimator__gamma': np.logspace(-7,1,9)}\n",
    "               }\n",
    "results_svc_diam.iloc[0,1:3] = blt.multi_trials(num_trials=30, \n",
    "                                                model_params=model_params, \n",
    "                                                print_results=True)"
   ]
  },
  {
   "cell_type": "markdown",
   "metadata": {},
   "source": [
    "#### Random augmentation"
   ]
  },
  {
   "cell_type": "code",
   "execution_count": null,
   "metadata": {
    "ExecuteTime": {
     "end_time": "2020-04-27T22:22:27.229703Z",
     "start_time": "2020-04-27T22:05:28.548205Z"
    }
   },
   "outputs": [],
   "source": [
    "# 30 trials SVC-RBF, diameter\n",
    "model_params['aug_type'] = \"random\"\n",
    "model_params['k'] = 1\n",
    "results_svc_diam.iloc[1,1:3] = blt.multi_trials(num_trials=30, \n",
    "                                                model_params=model_params, \n",
    "                                                print_results=True)"
   ]
  },
  {
   "cell_type": "code",
   "execution_count": null,
   "metadata": {
    "ExecuteTime": {
     "end_time": "2020-04-27T23:25:16.830983Z",
     "start_time": "2020-04-27T22:41:36.243080Z"
    }
   },
   "outputs": [],
   "source": [
    "# 30 trials SVC-RBF, diameter\n",
    "model_params['aug_type'] = \"random\"\n",
    "model_params['k'] = 2\n",
    "results_svc_diam.iloc[2,1:3] = blt.multi_trials(num_trials=30, \n",
    "                                                model_params=model_params, \n",
    "                                                print_results=True)"
   ]
  },
  {
   "cell_type": "code",
   "execution_count": null,
   "metadata": {
    "ExecuteTime": {
     "end_time": "2020-04-28T01:10:45.582909Z",
     "start_time": "2020-04-27T23:36:12.141692Z"
    }
   },
   "outputs": [],
   "source": [
    "# 30 trials SVC-RBF, diameter\n",
    "model_params['aug_type'] = \"random\"\n",
    "model_params['k'] = 3\n",
    "results_svc_diam.iloc[3,1:3] = blt.multi_trials(num_trials=30, \n",
    "                                                model_params=model_params, \n",
    "                                                print_results=True)"
   ]
  },
  {
   "cell_type": "code",
   "execution_count": null,
   "metadata": {
    "ExecuteTime": {
     "end_time": "2020-05-05T14:04:55.667913Z",
     "start_time": "2020-05-05T11:13:01.680948Z"
    }
   },
   "outputs": [],
   "source": [
    "# 30 trials SVC-RBF, diameter\n",
    "model_params['aug_type'] = \"random\"\n",
    "model_params['k'] = 4\n",
    "results_svc_diam.iloc[4,1:3] = blt.multi_trials(num_trials=30, \n",
    "                                                model_params=model_params, \n",
    "                                                print_results=True)"
   ]
  },
  {
   "cell_type": "code",
   "execution_count": null,
   "metadata": {
    "ExecuteTime": {
     "end_time": "2020-04-28T08:26:52.981803Z",
     "start_time": "2020-04-28T03:41:42.023670Z"
    }
   },
   "outputs": [],
   "source": [
    "# 30 trials SVC-RBF, diameter\n",
    "model_params['aug_type'] = \"random\"\n",
    "model_params['k'] = 5\n",
    "results_svc_diam.iloc[5,1:3] = blt.multi_trials(num_trials=30, \n",
    "                                                model_params=model_params, \n",
    "                                                print_results=True)"
   ]
  },
  {
   "cell_type": "code",
   "execution_count": null,
   "metadata": {
    "ExecuteTime": {
     "end_time": "2020-05-09T05:52:26.508540Z",
     "start_time": "2020-05-07T23:52:13.733756Z"
    }
   },
   "outputs": [],
   "source": [
    "# 30 trials SVC-RBF, diameter\n",
    "model_params['aug_type'] = \"random\"\n",
    "model_params['k'] = 10\n",
    "results_svc_diam.iloc[6,1:3] = blt.multi_trials(num_trials=30, \n",
    "                                                model_params=model_params, \n",
    "                                                print_results=True)"
   ]
  },
  {
   "cell_type": "code",
   "execution_count": null,
   "metadata": {
    "ExecuteTime": {
     "end_time": "2020-05-05T06:19:51.060431Z",
     "start_time": "2020-04-28T10:00:17.281784Z"
    }
   },
   "outputs": [],
   "source": [
    "# 30 trials SVC-RBF, diameter\n",
    "model_params['k'] = 20\n",
    "results_svc_diam.iloc[7,3:5] = blt.multi_trials(num_trials=30, \n",
    "                                                model_params=model_params, \n",
    "                                                print_results=True)"
   ]
  },
  {
   "cell_type": "markdown",
   "metadata": {},
   "source": [
    "#### Unsupervised matching augmentation"
   ]
  },
  {
   "cell_type": "code",
   "execution_count": null,
   "metadata": {
    "ExecuteTime": {
     "end_time": "2020-04-27T06:32:24.051773Z",
     "start_time": "2020-04-27T06:21:46.440776Z"
    }
   },
   "outputs": [],
   "source": [
    "# 30 trials SVC-RBF, diameter\n",
    "model_params['aug_type'] = \"uns_match\"\n",
    "model_params['k'] = 1\n",
    "results_svc_diam.iloc[1,3:5] = blt.multi_trials(num_trials=30, \n",
    "                                                model_params=model_params, \n",
    "                                                print_results=True)"
   ]
  },
  {
   "cell_type": "code",
   "execution_count": null,
   "metadata": {
    "ExecuteTime": {
     "end_time": "2020-04-27T06:54:16.575059Z",
     "start_time": "2020-04-27T06:33:54.019998Z"
    }
   },
   "outputs": [],
   "source": [
    "# 30 trials SVC-RBF, diameter\n",
    "model_params['k'] = 2\n",
    "results_svc_diam.iloc[2,3:5] = blt.multi_trials(num_trials=30, \n",
    "                                                model_params=model_params, \n",
    "                                                print_results=True)"
   ]
  },
  {
   "cell_type": "code",
   "execution_count": null,
   "metadata": {
    "ExecuteTime": {
     "end_time": "2020-05-05T06:46:01.272674Z",
     "start_time": "2020-05-05T06:19:51.172842Z"
    }
   },
   "outputs": [],
   "source": [
    "# 30 trials SVC-RBF, diameter\n",
    "model_params = {'classifier': 'svc', \n",
    "                'aug_type': 'uns_match', \n",
    "                'k': 3, \n",
    "                'feat_data': X_enm_diam, \n",
    "                'bin_data': bin_enm_diam, \n",
    "                'use_balanced_accu': True, \n",
    "                'param_grid': {'estimator__C': np.logspace(-1,7,9), \n",
    "                               'estimator__gamma': np.logspace(-7,1,9)}\n",
    "               }\n",
    "model_params['k'] = 3\n",
    "results_svc_diam.iloc[3,3:5] = blt.multi_trials(num_trials=30, \n",
    "                                                model_params=model_params, \n",
    "                                                print_results=True)"
   ]
  },
  {
   "cell_type": "code",
   "execution_count": null,
   "metadata": {
    "ExecuteTime": {
     "end_time": "2020-05-05T07:53:36.941949Z",
     "start_time": "2020-05-05T07:11:16.221405Z"
    }
   },
   "outputs": [],
   "source": [
    "# 30 trials SVC-RBF, diameter\n",
    "model_params['k'] = 4\n",
    "results_svc_diam.iloc[4,3:5] = blt.multi_trials(num_trials=30, \n",
    "                                                model_params=model_params, \n",
    "                                                print_results=True)"
   ]
  },
  {
   "cell_type": "code",
   "execution_count": null,
   "metadata": {
    "ExecuteTime": {
     "end_time": "2020-04-27T07:52:58.417465Z",
     "start_time": "2020-04-27T06:54:16.577938Z"
    }
   },
   "outputs": [],
   "source": [
    "# 30 trials SVC-RBF, diameter\n",
    "model_params['k'] = 5\n",
    "results_svc_diam.iloc[5,3:5] = blt.multi_trials(num_trials=30, \n",
    "                                                model_params=model_params, \n",
    "                                                print_results=True)"
   ]
  },
  {
   "cell_type": "code",
   "execution_count": null,
   "metadata": {
    "ExecuteTime": {
     "end_time": "2020-04-27T11:06:52.403442Z",
     "start_time": "2020-04-27T07:52:58.426538Z"
    }
   },
   "outputs": [],
   "source": [
    "# 30 trials SVC-RBF, diameter\n",
    "model_params['k'] = 10\n",
    "results_svc_diam.iloc[6,3:5] = blt.multi_trials(num_trials=30, \n",
    "                                                model_params=model_params, \n",
    "                                                print_results=True)"
   ]
  },
  {
   "cell_type": "markdown",
   "metadata": {},
   "source": [
    "### Molar volume"
   ]
  },
  {
   "cell_type": "code",
   "execution_count": null,
   "metadata": {
    "ExecuteTime": {
     "end_time": "2020-04-20T11:54:19.731363Z",
     "start_time": "2020-04-20T11:50:46.087356Z"
    }
   },
   "outputs": [],
   "source": [
    "# 30 trials SVC-RBF, molar volume\n",
    "model_params = {'classifier': 'svc', \n",
    "                'aug_type': 'none', \n",
    "                'k': 0, \n",
    "                'feat_data': X_enm_MV, \n",
    "                'bin_data': bin_enm, \n",
    "                'use_balanced_accu': True, \n",
    "                'param_grid': {'estimator__C': np.logspace(-1,7,9), \n",
    "                               'estimator__gamma': np.logspace(-7,1,9)}\n",
    "               }\n",
    "blt.multi_trials(num_trials=30, \n",
    "                 model_params=model_params, \n",
    "                 print_results=True)"
   ]
  },
  {
   "cell_type": "code",
   "execution_count": null,
   "metadata": {
    "ExecuteTime": {
     "end_time": "2020-04-20T13:26:19.286349Z",
     "start_time": "2020-04-20T13:03:32.558550Z"
    }
   },
   "outputs": [],
   "source": [
    "# 30 trials SVC-RBF, molar volume\n",
    "model_params['aug_type'] = \"uns_match\"\n",
    "model_params['k'] = 2\n",
    "blt.multi_trials(num_trials=30, \n",
    "                 model_params=model_params, \n",
    "                 print_results=True)"
   ]
  },
  {
   "cell_type": "code",
   "execution_count": null,
   "metadata": {
    "ExecuteTime": {
     "end_time": "2020-04-20T20:29:29.904365Z",
     "start_time": "2020-04-20T19:31:11.939586Z"
    }
   },
   "outputs": [],
   "source": [
    "# 30 trials SVC-RBF, molar volume\n",
    "model_params['k'] = 5\n",
    "blt.multi_trials(num_trials=30, \n",
    "                 model_params=model_params, \n",
    "                 print_results=True)"
   ]
  },
  {
   "cell_type": "markdown",
   "metadata": {},
   "source": [
    "# Random Forest Models"
   ]
  },
  {
   "cell_type": "markdown",
   "metadata": {},
   "source": [
    "RFC did not perform as well as SVC in preliminary tests. RFC models here are being used as another way to look at the usefulness (i.e., importance) of different feature groups."
   ]
  },
  {
   "cell_type": "markdown",
   "metadata": {},
   "source": [
    "## ENM-only"
   ]
  },
  {
   "cell_type": "code",
   "execution_count": null,
   "metadata": {
    "ExecuteTime": {
     "end_time": "2019-09-30T10:11:57.377019Z",
     "start_time": "2019-09-30T10:09:32.342125Z"
    }
   },
   "outputs": [],
   "source": [
    "# Single trial RFC optimizing max_depth and n_estimators (highly variable)\n",
    "param_grid = {'estimator__max_depth': np.arange(1,31,1), \n",
    "              'estimator__n_estimators': np.arange(40,120,20)}\n",
    "acc, impt = blt.model_opt_exe(classifier='rfc', \n",
    "                              aug_type='none', \n",
    "                              k=0, \n",
    "                              feat_data=X_enm, \n",
    "                              bin_data=bin_enm, \n",
    "                              show_opt_plot=True, \n",
    "                              show_feat_impt=False, \n",
    "                              show_cnf_matrix=False, \n",
    "                              param_grid=param_grid)"
   ]
  },
  {
   "cell_type": "code",
   "execution_count": null,
   "metadata": {
    "ExecuteTime": {
     "end_time": "2019-09-30T17:59:49.112052Z",
     "start_time": "2019-09-30T17:59:04.467758Z"
    }
   },
   "outputs": [],
   "source": [
    "# Single trial RFC optimizing max_depth and n_estimators (highly variable)\n",
    "# Smaller parameter grid\n",
    "param_grid = {'estimator__max_depth': np.arange(2,15,1), \n",
    "              'estimator__n_estimators': [40, 100]}\n",
    "acc, impt = blt.model_opt_exe(classifier='rfc', \n",
    "                              aug_type='random', \n",
    "                              k=5, \n",
    "                              feat_data=X_enm, \n",
    "                              bin_data=bin_enm, \n",
    "                              show_opt_plot=True, \n",
    "                              show_feat_impt=False, \n",
    "                              show_cnf_matrix=False, \n",
    "                              param_grid=param_grid)"
   ]
  },
  {
   "cell_type": "markdown",
   "metadata": {},
   "source": [
    "The contour plots for parameter optimization show that balanced accuracy does not vary much by n_estimators, so we will only test two. Balanced accuracy also seems to stop improving at max_depths beyond 10, so the max_depth range will be set from 4 to 14."
   ]
  },
  {
   "cell_type": "code",
   "execution_count": null,
   "metadata": {
    "ExecuteTime": {
     "end_time": "2020-02-10T19:30:23.954398Z",
     "start_time": "2020-02-10T19:19:53.788351Z"
    }
   },
   "outputs": [],
   "source": [
    "# 30 trials RFC optimizing max_depth and n_estimators \n",
    "model_params = {'classifier': 'rfc', \n",
    "                'aug_type': 'none', \n",
    "                'k': 0, \n",
    "                'feat_data': X_enm, \n",
    "                'bin_data': bin_enm, \n",
    "                'param_grid': {'estimator__max_depth': np.arange(4,12,1), \n",
    "                               'estimator__n_estimators': [40,100]}\n",
    "               }\n",
    "mu_rfc, sigma_rfc, avg_impt, var_impt = \\\n",
    "    blt.multi_trials(num_trials=30, model_params=model_params)"
   ]
  },
  {
   "cell_type": "code",
   "execution_count": null,
   "metadata": {
    "ExecuteTime": {
     "end_time": "2019-09-30T19:22:32.807831Z",
     "start_time": "2019-09-30T19:22:32.801868Z"
    }
   },
   "outputs": [],
   "source": [
    "# Save results to table\n",
    "results_rfc.loc[results_rfc['ENM-Organics-Ratio']=='1:0', \n",
    "    ['Avg-Random-Augment','Std-Random-Augment']] = [mu_rfc, sigma_rfc]"
   ]
  },
  {
   "cell_type": "code",
   "execution_count": null,
   "metadata": {
    "ExecuteTime": {
     "end_time": "2020-02-10T19:34:05.017415Z",
     "start_time": "2020-02-10T19:34:04.466645Z"
    }
   },
   "outputs": [],
   "source": [
    "blt.plot_feat_impt(feat_names=X_enm.columns.values, \n",
    "                   importances=avg_impt, \n",
    "                   save_fig_name='ENM_RFC', \n",
    "                   variances=var_impt, \n",
    "                   combo_impt=False)"
   ]
  },
  {
   "cell_type": "code",
   "execution_count": null,
   "metadata": {
    "ExecuteTime": {
     "end_time": "2020-02-10T19:36:13.135950Z",
     "start_time": "2020-02-10T19:36:12.890513Z"
    }
   },
   "outputs": [],
   "source": [
    "blt.plot_feat_impt(feat_names=X_enm.columns.values, \n",
    "                   importances=avg_impt, \n",
    "                   save_fig_name='ENM_RFC_combo', \n",
    "                   variances=var_impt, \n",
    "                   combo_impt=True)"
   ]
  },
  {
   "cell_type": "markdown",
   "metadata": {},
   "source": [
    "## Randomly augmented data"
   ]
  },
  {
   "cell_type": "code",
   "execution_count": null,
   "metadata": {
    "ExecuteTime": {
     "end_time": "2019-10-21T02:36:55.023608Z",
     "start_time": "2019-10-21T02:36:55.016345Z"
    }
   },
   "outputs": [],
   "source": [
    "rfc_param_grid = {'estimator__max_depth': np.arange(4,12,1), \n",
    "                  'estimator__n_estimators': [40,100]}"
   ]
  },
  {
   "cell_type": "code",
   "execution_count": null,
   "metadata": {
    "ExecuteTime": {
     "end_time": "2019-09-30T10:55:40.944833Z",
     "start_time": "2019-09-30T10:44:46.570338Z"
    }
   },
   "outputs": [],
   "source": [
    "# 1:1\n",
    "model_params = {'classifier': 'rfc', \n",
    "                'aug_type': 'random', \n",
    "                'k': 1, \n",
    "                'feat_data': X_enm, \n",
    "                'bin_data': bin_enm, \n",
    "                'param_grid': rfc_param_grid\n",
    "               }\n",
    "a, b, _, _ = blt.multi_trials(num_trials=30, model_params=model_params)\n",
    "results_rfc.iloc[2,1:3] = a, b"
   ]
  },
  {
   "cell_type": "code",
   "execution_count": null,
   "metadata": {
    "ExecuteTime": {
     "end_time": "2019-09-30T11:07:22.434019Z",
     "start_time": "2019-09-30T10:55:40.947023Z"
    }
   },
   "outputs": [],
   "source": [
    "# 1:2\n",
    "model_params = {'classifier': 'rfc', \n",
    "                'aug_type': 'random', \n",
    "                'k': 2, \n",
    "                'feat_data': X_enm, \n",
    "                'bin_data': bin_enm, \n",
    "                'param_grid': rfc_param_grid\n",
    "               }\n",
    "a, b, _, _ = blt.multi_trials(num_trials=30, model_params=model_params)\n",
    "results_rfc.iloc[3,1:3] = a, b"
   ]
  },
  {
   "cell_type": "code",
   "execution_count": null,
   "metadata": {
    "ExecuteTime": {
     "end_time": "2019-09-30T11:19:49.985156Z",
     "start_time": "2019-09-30T11:07:22.436758Z"
    }
   },
   "outputs": [],
   "source": [
    "# 1:3\n",
    "model_params = {'classifier': 'rfc', \n",
    "                'aug_type': 'random', \n",
    "                'k': 3, \n",
    "                'feat_data': X_enm, \n",
    "                'bin_data': bin_enm, \n",
    "                'param_grid': rfc_param_grid\n",
    "               }\n",
    "a, b, _, _ = blt.multi_trials(num_trials=30, model_params=model_params)\n",
    "results_rfc.iloc[4,1:3] = a, b"
   ]
  },
  {
   "cell_type": "code",
   "execution_count": null,
   "metadata": {
    "ExecuteTime": {
     "end_time": "2019-09-30T11:32:54.968266Z",
     "start_time": "2019-09-30T11:19:49.987255Z"
    }
   },
   "outputs": [],
   "source": [
    "# 1:4\n",
    "model_params = {'classifier': 'rfc', \n",
    "                'aug_type': 'random', \n",
    "                'k': 4, \n",
    "                'feat_data': X_enm, \n",
    "                'bin_data': bin_enm, \n",
    "                'param_grid': rfc_param_grid\n",
    "               }\n",
    "a, b, _, _ = blt.multi_trials(num_trials=30, model_params=model_params)\n",
    "results_rfc.iloc[5,1:3] = a, b"
   ]
  },
  {
   "cell_type": "code",
   "execution_count": null,
   "metadata": {
    "ExecuteTime": {
     "end_time": "2019-09-30T11:46:42.241077Z",
     "start_time": "2019-09-30T11:32:54.970450Z"
    }
   },
   "outputs": [],
   "source": [
    "# 1:5\n",
    "model_params = {'classifier': 'rfc', \n",
    "                'aug_type': 'random', \n",
    "                'k': 5, \n",
    "                'feat_data': X_enm, \n",
    "                'bin_data': bin_enm, \n",
    "                'param_grid': rfc_param_grid\n",
    "               }\n",
    "a, b, _, _ = blt.multi_trials(num_trials=30, model_params=model_params)\n",
    "results_rfc.iloc[6,1:3] = a, b"
   ]
  },
  {
   "cell_type": "code",
   "execution_count": null,
   "metadata": {
    "ExecuteTime": {
     "end_time": "2019-09-30T19:39:42.720345Z",
     "start_time": "2019-09-30T19:22:33.842353Z"
    }
   },
   "outputs": [],
   "source": [
    "# 1:10\n",
    "model_params = {'classifier': 'rfc', \n",
    "                'aug_type': 'random', \n",
    "                'k': 10, \n",
    "                'feat_data': X_enm, \n",
    "                'bin_data': bin_enm, \n",
    "                'param_grid': rfc_param_grid\n",
    "               }\n",
    "a, b, _, _ = blt.multi_trials(num_trials=30, model_params=model_params)\n",
    "results_rfc.iloc[7,1:3] = a, b"
   ]
  },
  {
   "cell_type": "code",
   "execution_count": null,
   "metadata": {
    "ExecuteTime": {
     "end_time": "2019-10-30T09:41:34.367877Z",
     "start_time": "2019-10-30T09:18:33.428922Z"
    }
   },
   "outputs": [],
   "source": [
    "# 1:20\n",
    "model_params = {'classifier': 'rfc', \n",
    "                'aug_type': 'random', \n",
    "                'k': 20, \n",
    "                'feat_data': X_enm, \n",
    "                'bin_data': bin_enm, \n",
    "                'param_grid': rfc_param_grid\n",
    "               }\n",
    "a, b, _, _ = blt.multi_trials(num_trials=30, model_params=model_params)\n",
    "results_rfc.iloc[8,1:3] = a, b"
   ]
  },
  {
   "cell_type": "markdown",
   "metadata": {
    "collapsed": true
   },
   "source": [
    "## Matching (unsupervised) augmented data"
   ]
  },
  {
   "cell_type": "code",
   "execution_count": null,
   "metadata": {
    "ExecuteTime": {
     "end_time": "2019-10-21T02:50:41.413731Z",
     "start_time": "2019-10-21T02:38:52.373393Z"
    }
   },
   "outputs": [],
   "source": [
    "# 1:1\n",
    "model_params = {'classifier': 'rfc', \n",
    "                'aug_type': 'uns_match', \n",
    "                'k': 1, \n",
    "                'feat_data': X_enm, \n",
    "                'bin_data': bin_enm, \n",
    "                'param_grid': rfc_param_grid\n",
    "               }\n",
    "a, b, _, _ = blt.multi_trials(num_trials=30, model_params=model_params)\n",
    "results_rfc.iloc[2,3:5] = a, b"
   ]
  },
  {
   "cell_type": "code",
   "execution_count": null,
   "metadata": {
    "ExecuteTime": {
     "end_time": "2019-10-21T03:22:57.596294Z",
     "start_time": "2019-10-21T03:10:08.700661Z"
    }
   },
   "outputs": [],
   "source": [
    "# 1:2\n",
    "model_params = {'classifier': 'rfc', \n",
    "                'aug_type': 'uns_match', \n",
    "                'k': 2, \n",
    "                'feat_data': X_enm, \n",
    "                'bin_data': bin_enm, \n",
    "                'param_grid': rfc_param_grid\n",
    "               }\n",
    "a, b, _, _ = blt.multi_trials(num_trials=30, model_params=model_params)\n",
    "results_rfc.iloc[3,3:5] = a, b"
   ]
  },
  {
   "cell_type": "code",
   "execution_count": null,
   "metadata": {
    "ExecuteTime": {
     "end_time": "2019-10-21T05:26:50.802749Z",
     "start_time": "2019-10-21T05:13:28.794243Z"
    }
   },
   "outputs": [],
   "source": [
    "# 1:3\n",
    "model_params = {'classifier': 'rfc', \n",
    "                'aug_type': 'uns_match', \n",
    "                'k': 3, \n",
    "                'feat_data': X_enm, \n",
    "                'bin_data': bin_enm, \n",
    "                'param_grid': rfc_param_grid\n",
    "               }\n",
    "a, b, _, _ = blt.multi_trials(num_trials=30, model_params=model_params)\n",
    "results_rfc.iloc[4,3:5] = a, b"
   ]
  },
  {
   "cell_type": "code",
   "execution_count": null,
   "metadata": {
    "ExecuteTime": {
     "end_time": "2019-10-28T02:43:48.028469Z",
     "start_time": "2019-10-28T02:27:58.965034Z"
    }
   },
   "outputs": [],
   "source": [
    "# 1:4\n",
    "model_params = {'classifier': 'rfc', \n",
    "                'aug_type': 'uns_match', \n",
    "                'k': 4, \n",
    "                'feat_data': X_enm, \n",
    "                'bin_data': bin_enm, \n",
    "                'param_grid': rfc_param_grid\n",
    "               }\n",
    "a, b, _, _ = blt.multi_trials(num_trials=30, model_params=model_params)\n",
    "results_rfc.iloc[5,3:5] = a, b"
   ]
  },
  {
   "cell_type": "code",
   "execution_count": null,
   "metadata": {
    "ExecuteTime": {
     "end_time": "2019-10-30T06:43:20.141422Z",
     "start_time": "2019-10-30T04:50:16.966934Z"
    }
   },
   "outputs": [],
   "source": [
    "# 1:5\n",
    "model_params = {'classifier': 'rfc', \n",
    "                'aug_type': 'uns_match', \n",
    "                'k': 5, \n",
    "                'feat_data': X_enm, \n",
    "                'bin_data': bin_enm, \n",
    "                'param_grid': rfc_param_grid\n",
    "               }\n",
    "a, b, _, _ = blt.multi_trials(num_trials=30, model_params=model_params)\n",
    "results_rfc.iloc[6,3:5] = a, b"
   ]
  },
  {
   "cell_type": "code",
   "execution_count": null,
   "metadata": {
    "ExecuteTime": {
     "end_time": "2019-10-30T08:57:49.522322Z",
     "start_time": "2019-10-30T08:41:36.220773Z"
    }
   },
   "outputs": [],
   "source": [
    "# 1:10\n",
    "model_params = {'classifier': 'rfc', \n",
    "                'aug_type': 'uns_match', \n",
    "                'k': 10, \n",
    "                'feat_data': X_enm, \n",
    "                'bin_data': bin_enm, \n",
    "                'param_grid': rfc_param_grid\n",
    "               }\n",
    "a, b, _, _ = blt.multi_trials(num_trials=30, model_params=model_params)\n",
    "results_rfc.iloc[7,3:5] = a, b"
   ]
  },
  {
   "cell_type": "code",
   "execution_count": null,
   "metadata": {
    "ExecuteTime": {
     "end_time": "2019-10-30T09:18:33.272012Z",
     "start_time": "2019-10-30T08:57:49.525079Z"
    }
   },
   "outputs": [],
   "source": [
    "# 1:20\n",
    "model_params = {'classifier': 'rfc', \n",
    "                'aug_type': 'uns_match', \n",
    "                'k': 20, \n",
    "                'feat_data': X_enm, \n",
    "                'bin_data': bin_enm, \n",
    "                'param_grid': rfc_param_grid\n",
    "               }\n",
    "a, b, _, _ = blt.multi_trials(num_trials=30, model_params=model_params)\n",
    "results_rfc.iloc[8,3:5] = a, b"
   ]
  },
  {
   "cell_type": "markdown",
   "metadata": {},
   "source": [
    "## Matching (supervised) augmented data"
   ]
  },
  {
   "cell_type": "code",
   "execution_count": null,
   "metadata": {
    "ExecuteTime": {
     "end_time": "2019-10-21T06:10:20.381420Z",
     "start_time": "2019-10-21T05:57:47.451246Z"
    }
   },
   "outputs": [],
   "source": [
    "# 1:1\n",
    "model_params = {'classifier': 'rfc', \n",
    "                'aug_type': 'sup_match', \n",
    "                'k': 1, \n",
    "                'feat_data': X_enm, \n",
    "                'bin_data': bin_enm, \n",
    "                'param_grid': rfc_param_grid\n",
    "               }\n",
    "a, b, _, _ = blt.multi_trials(num_trials=30, print_results=True, \n",
    "                              model_params=model_params)\n",
    "results_rfc.iloc[2,5:7] = a, b"
   ]
  },
  {
   "cell_type": "code",
   "execution_count": null,
   "metadata": {
    "ExecuteTime": {
     "end_time": "2019-10-21T06:23:23.123412Z",
     "start_time": "2019-10-21T06:10:20.383708Z"
    }
   },
   "outputs": [],
   "source": [
    "# 1:2\n",
    "model_params = {'classifier': 'rfc', \n",
    "                'aug_type': 'sup_match', \n",
    "                'k': 2, \n",
    "                'feat_data': X_enm, \n",
    "                'bin_data': bin_enm, \n",
    "                'param_grid': rfc_param_grid\n",
    "               }\n",
    "a, b, _, _ = blt.multi_trials(num_trials=30, print_results=True, \n",
    "                              model_params=model_params)\n",
    "results_rfc.iloc[3,5:7] = a, b"
   ]
  },
  {
   "cell_type": "code",
   "execution_count": null,
   "metadata": {
    "ExecuteTime": {
     "end_time": "2019-10-21T06:37:04.424491Z",
     "start_time": "2019-10-21T06:23:23.130305Z"
    }
   },
   "outputs": [],
   "source": [
    "# 1:3\n",
    "model_params = {'classifier': 'rfc', \n",
    "                'aug_type': 'sup_match', \n",
    "                'k': 3, \n",
    "                'feat_data': X_enm, \n",
    "                'bin_data': bin_enm, \n",
    "                'param_grid': rfc_param_grid\n",
    "               }\n",
    "a, b, _, _ = blt.multi_trials(num_trials=30, print_results=True, \n",
    "                              model_params=model_params)\n",
    "results_rfc.iloc[4,5:7] = a, b"
   ]
  },
  {
   "cell_type": "code",
   "execution_count": null,
   "metadata": {
    "ExecuteTime": {
     "end_time": "2019-10-21T06:52:13.113559Z",
     "start_time": "2019-10-21T06:37:44.548957Z"
    }
   },
   "outputs": [],
   "source": [
    "# 1:4\n",
    "model_params = {'classifier': 'rfc', \n",
    "                'aug_type': 'sup_match', \n",
    "                'k': 4, \n",
    "                'feat_data': X_enm, \n",
    "                'bin_data': bin_enm, \n",
    "                'param_grid': rfc_param_grid\n",
    "               }\n",
    "a, b, _, _ = blt.multi_trials(num_trials=30, print_results=True, \n",
    "                              model_params=model_params)\n",
    "results_rfc.iloc[5,5:7] = a, b"
   ]
  },
  {
   "cell_type": "code",
   "execution_count": null,
   "metadata": {
    "ExecuteTime": {
     "end_time": "2019-10-21T07:07:04.700881Z",
     "start_time": "2019-10-21T06:52:13.115702Z"
    }
   },
   "outputs": [],
   "source": [
    "# 1:5\n",
    "model_params = {'classifier': 'rfc', \n",
    "                'aug_type': 'sup_match', \n",
    "                'k': 5, \n",
    "                'feat_data': X_enm, \n",
    "                'bin_data': bin_enm, \n",
    "                'param_grid': rfc_param_grid\n",
    "               }\n",
    "a, b, _, _ = blt.multi_trials(num_trials=30, print_results=True, \n",
    "                              model_params=model_params)\n",
    "results_rfc.iloc[6,5:7] = a, b"
   ]
  },
  {
   "cell_type": "code",
   "execution_count": null,
   "metadata": {
    "ExecuteTime": {
     "end_time": "2019-10-21T07:24:17.660866Z",
     "start_time": "2019-10-21T07:07:04.702809Z"
    }
   },
   "outputs": [],
   "source": [
    "# 1:10\n",
    "model_params = {'classifier': 'rfc', \n",
    "                'aug_type': 'sup_match', \n",
    "                'k': 10, \n",
    "                'feat_data': X_enm, \n",
    "                'bin_data': bin_enm, \n",
    "                'param_grid': rfc_param_grid\n",
    "               }\n",
    "a, b, _, _ = blt.multi_trials(num_trials=30, print_results=True, \n",
    "                              model_params=model_params)\n",
    "results_rfc.iloc[7,5:7] = a, b"
   ]
  },
  {
   "cell_type": "code",
   "execution_count": null,
   "metadata": {
    "ExecuteTime": {
     "end_time": "2019-10-26T02:57:05.289971Z",
     "start_time": "2019-10-26T02:31:22.444784Z"
    }
   },
   "outputs": [],
   "source": [
    "# 1:20\n",
    "model_params = {'classifier': 'rfc', \n",
    "                'aug_type': 'sup_match', \n",
    "                'k': 20, \n",
    "                'feat_data': X_enm, \n",
    "                'bin_data': bin_enm, \n",
    "                'param_grid': rfc_param_grid\n",
    "               }\n",
    "a, b, _, _ = blt.multi_trials(num_trials=30, print_results=True, \n",
    "                              model_params=model_params)\n",
    "results_rfc.iloc[8,5:7] = a, b"
   ]
  },
  {
   "cell_type": "markdown",
   "metadata": {},
   "source": [
    "# Performance Results"
   ]
  },
  {
   "cell_type": "markdown",
   "metadata": {},
   "source": [
    "The following two table summarize the average balanced accuracy for the 1) SVC-RBF models and 2) RFC models on all training data iterations.\n",
    "* 'ENM-Organics-Ratio' describes the ratio of ENM data to organics data used for augmentation. \n",
    "* An ENM-Organics-Ratio with ( * ) indicates that the labels were randomly permuted\n",
    "* 'Match-Feature-Augment' is average balanced accuracy across all bins for data frames with ENM data augmented with organics data based on the closest matching features.\n",
    "* 'Avg-Unsupervised-Match' is average accuracy across all bins for data frames with ENM data augmented with organics data based on the closest matching features AND labels (weighted 1:1).\n",
    "* The second trial (B) of the ENM-only data (1:0 ratio) is with different a different parameter grid for optimizing the SVC-RBF.\n",
    "\n",
    "Matching augmentation was not performed on data frames only containing ENM data (non-permuted and permuted)."
   ]
  },
  {
   "cell_type": "markdown",
   "metadata": {},
   "source": [
    "## SVC-RBF"
   ]
  },
  {
   "cell_type": "code",
   "execution_count": null,
   "metadata": {
    "ExecuteTime": {
     "end_time": "2020-04-08T06:35:53.732946Z",
     "start_time": "2020-04-08T06:35:53.315414Z"
    }
   },
   "outputs": [],
   "source": [
    "# View balanced accuracy results for all models as stylized heatmap\n",
    "cmap = matplotlib.cm.get_cmap('Wistia')\n",
    "(results_svc.iloc[:,[0,1,3,5]]\n",
    "     .set_index('ENM-Organics-Ratio')\n",
    "     .style\n",
    "     # Highlight maximum value in row\n",
    "     .apply(blt.highlight_max, color=blt.rgba2hex(cmap(255)), axis=0)\n",
    "     .set_precision(3)  # Round decimals\n",
    "     .set_caption('Average balanced accuracy for SVC-RBF models.')\n",
    ")"
   ]
  },
  {
   "cell_type": "code",
   "execution_count": null,
   "metadata": {
    "ExecuteTime": {
     "end_time": "2020-04-08T06:36:32.734579Z",
     "start_time": "2020-04-08T06:36:32.676870Z"
    }
   },
   "outputs": [],
   "source": [
    "# Export results table to .csv\n",
    "results_svc.to_csv(\"./data/results-SVC.csv\", \n",
    "                  sep='\\t', header='infer', na_rep='NaN', index=False)"
   ]
  },
  {
   "cell_type": "code",
   "execution_count": null,
   "metadata": {
    "ExecuteTime": {
     "end_time": "2020-05-14T01:08:30.142639Z",
     "start_time": "2020-05-14T01:08:30.130174Z"
    }
   },
   "outputs": [],
   "source": [
    "# Export alternative results table to .csv\n",
    "results_svc_diam.to_csv(\"./data/results-SVC-diam.csv\", \n",
    "                        sep='\\t', header='infer', na_rep='NaN', index=False)"
   ]
  },
  {
   "cell_type": "markdown",
   "metadata": {},
   "source": [
    "### Permutation test"
   ]
  },
  {
   "cell_type": "code",
   "execution_count": null,
   "metadata": {
    "ExecuteTime": {
     "end_time": "2020-02-10T19:47:38.942501Z",
     "start_time": "2020-02-10T19:47:38.929685Z"
    }
   },
   "outputs": [],
   "source": [
    "# Check normality of test results for permutations, baseline and best models\n",
    "from scipy.stats import normaltest\n",
    "for i in [results_permute, base_distrib, match_distrib]:\n",
    "    print(normaltest(i))"
   ]
  },
  {
   "cell_type": "markdown",
   "metadata": {},
   "source": [
    "The p-value of our first normality test is above alpha=0.05, so it is fairly safe to assume that the permutation test results can be adequately represented by a normal distribution. The distribution for our best augmentation model does not pass, however. So a non-parametric test should be used for that data."
   ]
  },
  {
   "cell_type": "code",
   "execution_count": null,
   "metadata": {
    "ExecuteTime": {
     "end_time": "2020-02-10T19:47:52.010788Z",
     "start_time": "2020-02-10T19:47:52.005494Z"
    }
   },
   "outputs": [],
   "source": [
    "# Get average balanced accuracy for models of interest\n",
    "mu = results_svc.loc[results_svc['ENM-Organics-Ratio']=='1:0', \n",
    "                     'Avg-Random-Augment'].values\n",
    "mu_permute = results_svc.loc[results_svc['ENM-Organics-Ratio']=='1:0*', \n",
    "                             'Avg-Random-Augment'].values\n",
    "mu_match = results_svc.iloc[results_svc['Avg-Unsupervised-Match'].idxmax(), 3]"
   ]
  },
  {
   "cell_type": "code",
   "execution_count": null,
   "metadata": {
    "ExecuteTime": {
     "end_time": "2020-02-11T00:15:22.205531Z",
     "start_time": "2020-02-11T00:15:21.814290Z"
    },
    "scrolled": true
   },
   "outputs": [],
   "source": [
    "# Plot permutation test results\n",
    "import numpy as np\n",
    "from scipy.stats import norm\n",
    "import matplotlib.pyplot as plt\n",
    "\n",
    "# Plot histograms\n",
    "plt.rcParams['font.size'] = 10\n",
    "plt.hist(results_permute, bins=25, facecolor='orange', alpha=0.3)\n",
    "plt.hist(base_distrib, facecolor='red', alpha=0.3)\n",
    "plt.hist(match_distrib, facecolor='navy', alpha=0.3)\n",
    "\n",
    "# Stats for distributions\n",
    "std_permute = norm.fit(results_permute)[1]\n",
    "std_base = norm.fit(base_distrib)[1]\n",
    "std_match = norm.fit(match_distrib)[1]\n",
    "x = np.linspace(0.2, 0.62, 100)\n",
    "x2 = np.linspace(0.62, 0.8, 100)\n",
    "\n",
    "# Plot PDFs\n",
    "plt.plot(x, norm.pdf(x, mu_permute, std_permute), \n",
    "         color='orange', label='PDF permuted model', alpha=0.8)\n",
    "#plt.plot(x2, norm.pdf(x2, mu, std_base), \n",
    "#         color='red', label='PDF baseline model', alpha=0.8)\n",
    "#plt.plot(x2, norm.pdf(x2, mu_match, std_match), \n",
    "#         color='navy', label='PDF best model', alpha=0.8)\n",
    "\n",
    "# Plot averages\n",
    "plt.axvline(mu_permute, ls='--', c='orange', label='Avg. permuted model')\n",
    "plt.axvline(mu, ls='--', c='red', label='Avg. baseline model')\n",
    "plt.axvline(mu_match, ls='--', color='navy', label='Avg. best model')\n",
    "\n",
    "# Figure settings\n",
    "plt.title(\"SVC-RBF Permutation Test Results\")\n",
    "plt.xlim(right=0.8)\n",
    "plt.ylim(top=30)\n",
    "plt.xlabel(\"Balanced Accuracy\")\n",
    "plt.ylabel(\"Frequency\")\n",
    "plt.legend(loc=2, fontsize=9)\n",
    "fig = matplotlib.pyplot.gcf()\n",
    "fig.set_size_inches(5, 2.5)\n",
    "blt.savepdf(fig, 'permutation_test')\n",
    "plt.show()"
   ]
  },
  {
   "cell_type": "markdown",
   "metadata": {},
   "source": [
    "As is evident by the frequency plot, both models perform significantly better than the permutation test."
   ]
  },
  {
   "cell_type": "markdown",
   "metadata": {},
   "source": [
    "### Significance testing"
   ]
  },
  {
   "cell_type": "code",
   "execution_count": null,
   "metadata": {
    "ExecuteTime": {
     "end_time": "2019-10-21T02:33:05.782874Z",
     "start_time": "2019-10-21T02:33:05.773926Z"
    }
   },
   "outputs": [],
   "source": [
    "# Test for significance of paired difference between model distributions\n",
    "\"\"\"\n",
    "The Wilcoxon signed-rank test is a non-parametric version of the paired T-test.\n",
    "https://docs.scipy.org/doc/scipy-1.2.1/reference/generated/scipy.stats.wilcoxon.html\n",
    "\"\"\"\n",
    "from scipy.stats import wilcoxon\n",
    "wilcoxon(x=base_distrib, y=match_distrib) # alternative='two-sided' # alternative='less'"
   ]
  },
  {
   "cell_type": "markdown",
   "metadata": {},
   "source": [
    "Our null hypothesis was that the balanced average for our baseline model was the same as that of the best model. The alternative hypothesis is that the baseline model is smaller than the best model. Because the p-value (divided by 2 for a one-tailed test) from the Wilcoxon signed-rank test was incredibly small in comparison to an alpha of 0.05, we can reject the null hypothesis. It is statistically likely that the best model performs better than the baseline."
   ]
  },
  {
   "cell_type": "code",
   "execution_count": null,
   "metadata": {
    "ExecuteTime": {
     "end_time": "2020-03-19T16:21:03.133600Z",
     "start_time": "2020-03-19T16:21:03.093284Z"
    }
   },
   "outputs": [],
   "source": [
    "# Test for significance of paired difference using different feature groups\n",
    "distrib_base = [0.72, 0.7, 0.7, 0.72, 0.72, 0.71, 0.72, 0.7, 0.72, 0.72, 0.71, 0.73, 0.71, 0.7, 0.71, 0.72, 0.71, 0.72, 0.7, 0.71, 0.7, 0.72, 0.73, 0.73, 0.7, 0.72, 0.71, 0.71, 0.71, 0.7]\n",
    "distrib_noWF = [0.73, 0.7, 0.73, 0.7, 0.7, 0.72, 0.71, 0.7, 0.71, 0.71, 0.72, 0.71, 0.71, 0.72, 0.72, 0.71, 0.73, 0.72, 0.7, 0.72, 0.7, 0.71, 0.71, 0.72, 0.72, 0.72, 0.72, 0.71, 0.72, 0.7]\n",
    "distrib_noPM = [0.64, 0.62, 0.63, 0.63, 0.63, 0.63, 0.62, 0.63, 0.64, 0.62, 0.62, 0.62, 0.61, 0.62, 0.63, 0.62, 0.65, 0.61, 0.62, 0.62, 0.62, 0.63, 0.64, 0.63, 0.63, 0.63, 0.63, 0.63, 0.64, 0.64]\n",
    "distrib_unsup1to10 = [0.75, 0.75, 0.75, 0.75, 0.74, 0.75, 0.75, 0.75, 0.75, 0.75, 0.74, 0.74, 0.74, 0.75, 0.75, 0.75, 0.75, 0.77, 0.75, 0.75, 0.75, 0.74, 0.76, 0.76, 0.74, 0.75, 0.74, 0.75, 0.75, 0.74]"
   ]
  },
  {
   "cell_type": "code",
   "execution_count": null,
   "metadata": {
    "ExecuteTime": {
     "end_time": "2020-03-17T21:35:17.870485Z",
     "start_time": "2020-03-17T21:35:17.861059Z"
    }
   },
   "outputs": [],
   "source": [
    "# Baseline vs no was_WF_measured\n",
    "from scipy.stats import wilcoxon\n",
    "wilcoxon(x=distrib_base, y=distrib_noWF) # alternative='two-sided' # alternative='less'"
   ]
  },
  {
   "cell_type": "code",
   "execution_count": null,
   "metadata": {
    "ExecuteTime": {
     "end_time": "2020-03-17T21:36:23.884751Z",
     "start_time": "2020-03-17T21:36:23.876532Z"
    }
   },
   "outputs": [],
   "source": [
    "# Baseline vs no PUCs, matrix properties\n",
    "wilcoxon(x=distrib_base, y=distrib_noPM) "
   ]
  },
  {
   "cell_type": "code",
   "execution_count": null,
   "metadata": {
    "ExecuteTime": {
     "end_time": "2020-03-19T16:22:03.309223Z",
     "start_time": "2020-03-19T16:22:03.209344Z"
    }
   },
   "outputs": [],
   "source": [
    "# Baseline vs unsupervised matching augmentation 1:10 ratio\n",
    "wilcoxon(x=distrib_base, y=distrib_unsup1to10) "
   ]
  },
  {
   "cell_type": "markdown",
   "metadata": {},
   "source": [
    "## RFC"
   ]
  },
  {
   "cell_type": "code",
   "execution_count": null,
   "metadata": {
    "ExecuteTime": {
     "end_time": "2019-10-30T22:14:35.387572Z",
     "start_time": "2019-10-30T22:14:35.164205Z"
    }
   },
   "outputs": [],
   "source": [
    "# View balanced accuracy results for all models as stylized heatmap\n",
    "cmap = matplotlib.cm.get_cmap('Wistia')\n",
    "(results_rfc.iloc[:,[0,1,3,5]]\n",
    "     .set_index('ENM-Organics-Ratio')  # Set table index\n",
    "     .style\n",
    "     # Apply heatmap\n",
    "     .background_gradient(cmap=cmap, low=0, high=0.9, axis=0)\n",
    "     # Highlight maximum value in row\n",
    "     .apply(blt.highlight_max, color=blt.rgba2hex(cmap(255)), axis=0)\n",
    "     # Recolor zeroes\n",
    "     .applymap(lambda x: blt.recolor_text(x, color=blt.rgba2hex(cmap(0))))\n",
    "     .set_precision(3)  # Round decimals\n",
    "     .set_caption('Colormap of average balanced accuracy for RFC models.')\n",
    ")"
   ]
  },
  {
   "cell_type": "code",
   "execution_count": null,
   "metadata": {
    "ExecuteTime": {
     "end_time": "2019-10-30T22:15:12.382123Z",
     "start_time": "2019-10-30T22:15:12.318315Z"
    }
   },
   "outputs": [],
   "source": [
    "# Export results table to .csv\n",
    "results_rfc.to_csv(\"./data/results-RFC.csv\", \n",
    "                  sep='\\t', header='infer', na_rep='NaN', index=False)"
   ]
  },
  {
   "cell_type": "code",
   "execution_count": null,
   "metadata": {},
   "outputs": [],
   "source": []
  }
 ],
 "metadata": {
  "kernelspec": {
   "display_name": "Python 3",
   "language": "python",
   "name": "python3"
  },
  "language_info": {
   "codemirror_mode": {
    "name": "ipython",
    "version": 3
   },
   "file_extension": ".py",
   "mimetype": "text/x-python",
   "name": "python",
   "nbconvert_exporter": "python",
   "pygments_lexer": "ipython3",
   "version": "3.7.3"
  },
  "toc": {
   "base_numbering": 1,
   "nav_menu": {
    "height": "11px",
    "width": "160px"
   },
   "number_sections": true,
   "sideBar": true,
   "skip_h1_title": false,
   "title_cell": "Table of Contents",
   "title_sidebar": "Contents",
   "toc_cell": true,
   "toc_position": {
    "height": "calc(100% - 180px)",
    "left": "10px",
    "top": "150px",
    "width": "165px"
   },
   "toc_section_display": true,
   "toc_window_display": true
  }
 },
 "nbformat": 4,
 "nbformat_minor": 2
}