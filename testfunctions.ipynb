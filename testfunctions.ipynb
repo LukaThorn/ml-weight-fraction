{
 "cells": [
  {
   "cell_type": "markdown",
   "metadata": {
    "toc": true
   },
   "source": [
    "<h1>Table of Contents<span class=\"tocSkip\"></span></h1>\n",
    "<div class=\"toc\"><ul class=\"toc-item\"><li><span><a href=\"#About\" data-toc-modified-id=\"About-1\"><span class=\"toc-item-num\">1&nbsp;&nbsp;</span>About</a></span><ul class=\"toc-item\"><li><span><a href=\"#Tips\" data-toc-modified-id=\"Tips-1.1\"><span class=\"toc-item-num\">1.1&nbsp;&nbsp;</span>Tips</a></span></li></ul></li><li><span><a href=\"#Setup\" data-toc-modified-id=\"Setup-2\"><span class=\"toc-item-num\">2&nbsp;&nbsp;</span>Setup</a></span></li><li><span><a href=\"#Data\" data-toc-modified-id=\"Data-3\"><span class=\"toc-item-num\">3&nbsp;&nbsp;</span>Data</a></span></li><li><span><a href=\"#Tests\" data-toc-modified-id=\"Tests-4\"><span class=\"toc-item-num\">4&nbsp;&nbsp;</span>Tests</a></span><ul class=\"toc-item\"><li><span><a href=\"#Augment-Function\" data-toc-modified-id=\"Augment-Function-4.1\"><span class=\"toc-item-num\">4.1&nbsp;&nbsp;</span>Augment Function</a></span><ul class=\"toc-item\"><li><span><a href=\"#No-augmentation\" data-toc-modified-id=\"No-augmentation-4.1.1\"><span class=\"toc-item-num\">4.1.1&nbsp;&nbsp;</span>No augmentation</a></span></li><li><span><a href=\"#Random-augmentation\" data-toc-modified-id=\"Random-augmentation-4.1.2\"><span class=\"toc-item-num\">4.1.2&nbsp;&nbsp;</span>Random augmentation</a></span><ul class=\"toc-item\"><li><span><a href=\"#Control-feature-data-frame\" data-toc-modified-id=\"Control-feature-data-frame-4.1.2.1\"><span class=\"toc-item-num\">4.1.2.1&nbsp;&nbsp;</span>Control feature data frame</a></span></li><li><span><a href=\"#Control-labels\" data-toc-modified-id=\"Control-labels-4.1.2.2\"><span class=\"toc-item-num\">4.1.2.2&nbsp;&nbsp;</span>Control labels</a></span></li><li><span><a href=\"#Test-data-frame\" data-toc-modified-id=\"Test-data-frame-4.1.2.3\"><span class=\"toc-item-num\">4.1.2.3&nbsp;&nbsp;</span>Test data frame</a></span></li></ul></li><li><span><a href=\"#Unsupervised-augmentation\" data-toc-modified-id=\"Unsupervised-augmentation-4.1.3\"><span class=\"toc-item-num\">4.1.3&nbsp;&nbsp;</span>Unsupervised augmentation</a></span><ul class=\"toc-item\"><li><span><a href=\"#Control-data-frames\" data-toc-modified-id=\"Control-data-frames-4.1.3.1\"><span class=\"toc-item-num\">4.1.3.1&nbsp;&nbsp;</span>Control data frames</a></span></li><li><span><a href=\"#Test-data-frames\" data-toc-modified-id=\"Test-data-frames-4.1.3.2\"><span class=\"toc-item-num\">4.1.3.2&nbsp;&nbsp;</span>Test data frames</a></span></li></ul></li><li><span><a href=\"#Supervised-augmentation\" data-toc-modified-id=\"Supervised-augmentation-4.1.4\"><span class=\"toc-item-num\">4.1.4&nbsp;&nbsp;</span>Supervised augmentation</a></span><ul class=\"toc-item\"><li><span><a href=\"#Distance-matrix-for-control-data-frame\" data-toc-modified-id=\"Distance-matrix-for-control-data-frame-4.1.4.1\"><span class=\"toc-item-num\">4.1.4.1&nbsp;&nbsp;</span>Distance matrix for control data frame</a></span></li><li><span><a href=\"#Control-data-frames\" data-toc-modified-id=\"Control-data-frames-4.1.4.2\"><span class=\"toc-item-num\">4.1.4.2&nbsp;&nbsp;</span>Control data frames</a></span></li><li><span><a href=\"#Test-data-frames\" data-toc-modified-id=\"Test-data-frames-4.1.4.3\"><span class=\"toc-item-num\">4.1.4.3&nbsp;&nbsp;</span>Test data frames</a></span></li></ul></li></ul></li><li><span><a href=\"#model_opt_exe-Function\" data-toc-modified-id=\"model_opt_exe-Function-4.2\"><span class=\"toc-item-num\">4.2&nbsp;&nbsp;</span>model_opt_exe Function</a></span><ul class=\"toc-item\"><li><span><a href=\"#Test-Group-Stratified-K-fold-CV\" data-toc-modified-id=\"Test-Group-Stratified-K-fold-CV-4.2.1\"><span class=\"toc-item-num\">4.2.1&nbsp;&nbsp;</span>Test Group Stratified K-fold CV</a></span></li><li><span><a href=\"#Unpack-param_grid\" data-toc-modified-id=\"Unpack-param_grid-4.2.2\"><span class=\"toc-item-num\">4.2.2&nbsp;&nbsp;</span>Unpack param_grid</a></span></li><li><span><a href=\"#Test-model_opt_exe\" data-toc-modified-id=\"Test-model_opt_exe-4.2.3\"><span class=\"toc-item-num\">4.2.3&nbsp;&nbsp;</span>Test model_opt_exe</a></span></li></ul></li></ul></li></ul></div>"
   ]
  },
  {
   "cell_type": "markdown",
   "metadata": {},
   "source": [
    "# About"
   ]
  },
  {
   "cell_type": "markdown",
   "metadata": {},
   "source": [
    "Run tests to ensure that the external functions (functions.py) used across multiple notebooks are working properly."
   ]
  },
  {
   "cell_type": "markdown",
   "metadata": {},
   "source": [
    "## Tips"
   ]
  },
  {
   "cell_type": "markdown",
   "metadata": {},
   "source": [
    "* For writing error messages\n",
    "    * https://stackoverflow.com/questions/16451514/returning-error-string-from-a-function-in-python\n",
    "* List of objects: dir()"
   ]
  },
  {
   "cell_type": "markdown",
   "metadata": {},
   "source": [
    "# Setup"
   ]
  },
  {
   "cell_type": "code",
   "execution_count": 149,
   "metadata": {
    "ExecuteTime": {
     "end_time": "2019-07-20T12:01:15.507159Z",
     "start_time": "2019-07-20T12:01:15.499322Z"
    }
   },
   "outputs": [],
   "source": [
    "from __future__ import division, print_function, unicode_literals\n",
    "import numpy as np\n",
    "from numpy import random\n",
    "import pandas as pd\n",
    "import os, sys\n",
    "import matplotlib\n",
    "import matplotlib.pyplot as plt\n",
    "import matplotlib.cm as cm"
   ]
  },
  {
   "cell_type": "code",
   "execution_count": 150,
   "metadata": {
    "ExecuteTime": {
     "end_time": "2019-07-20T12:01:15.978816Z",
     "start_time": "2019-07-20T12:01:15.972004Z"
    }
   },
   "outputs": [
    {
     "name": "stdout",
     "output_type": "stream",
     "text": [
      "Figure directory exists.\n"
     ]
    }
   ],
   "source": [
    "# Where to save the figures\n",
    "PROJECT_ROOT_DIR = \".\"\n",
    "PROJECT_SAVE_DIR = \"figs\"\n",
    "\n",
    "if not (os.path.isdir(PROJECT_ROOT_DIR+'/'+PROJECT_SAVE_DIR)):\n",
    "    print('Figure directory did not exist, creating now.')\n",
    "    os.mkdir(PROJECT_ROOT_DIR+'/'+PROJECT_SAVE_DIR)\n",
    "else:\n",
    "    print('Figure directory exists.')"
   ]
  },
  {
   "cell_type": "code",
   "execution_count": 151,
   "metadata": {
    "ExecuteTime": {
     "end_time": "2019-07-20T12:01:16.395763Z",
     "start_time": "2019-07-20T12:01:16.384581Z"
    }
   },
   "outputs": [
    {
     "data": {
      "text/html": [
       "\n",
       "                <audio controls=\"controls\" autoplay=\"autoplay\">\n",
       "                    <source src=\"./data/ping.wav\" type=\"audio/x-wav\" />\n",
       "                    Your browser does not support the audio element.\n",
       "                </audio>\n",
       "              "
      ],
      "text/plain": [
       "<IPython.lib.display.Audio object>"
      ]
     },
     "execution_count": 151,
     "metadata": {},
     "output_type": "execute_result"
    }
   ],
   "source": [
    "# To enable a specified sound to play\n",
    "from IPython.display import Audio\n",
    "sound_file = './data/ping.wav'\n",
    "\n",
    "# Option to play sound at the end of a function with a long run time\n",
    "Audio(url=sound_file, autoplay=True)"
   ]
  },
  {
   "cell_type": "code",
   "execution_count": 166,
   "metadata": {
    "ExecuteTime": {
     "end_time": "2019-07-20T12:34:10.373290Z",
     "start_time": "2019-07-20T12:34:10.002445Z"
    }
   },
   "outputs": [
    {
     "name": "stdout",
     "output_type": "stream",
     "text": [
      "Figure directory exists.\n"
     ]
    }
   ],
   "source": [
    "# Import classes and functions used across multiple notebooks\n",
    "sys.path.append(os.getcwd())\n",
    "import importlib\n",
    "import functions as blt\n",
    "importlib.reload(blt);"
   ]
  },
  {
   "cell_type": "markdown",
   "metadata": {},
   "source": [
    "# Data"
   ]
  },
  {
   "cell_type": "code",
   "execution_count": 5,
   "metadata": {
    "ExecuteTime": {
     "end_time": "2019-07-20T01:06:06.289301Z",
     "start_time": "2019-07-20T01:06:06.190521Z"
    }
   },
   "outputs": [],
   "source": [
    "# Read in target (ENM) model feature data\n",
    "X_enm = pd.read_csv(\"./data/ENM-preprocessed-feats.csv\", \n",
    "                    sep='\\t', header='infer', index_col=0)\n",
    "\n",
    "# Read in source (organics) model feature data\n",
    "X_source = pd.read_csv(\"./data/organics-preprocessed-feats.csv\", \n",
    "                       sep='\\t', header='infer', index_col=0)\n",
    "\n",
    "# Read in ENM labels (maximum_weight_fraction)\n",
    "y_enm = pd.read_csv(\"./data/ENM-clean.csv\", \n",
    "                    sep=',', header='infer', usecols=[3])\n",
    "\n",
    "# Read in organics labels (maximum_weight_fraction)\n",
    "y_source = pd.read_csv(\"./data/organics-preprocessed-WF.csv\", \n",
    "                       sep=',', header='infer')\n",
    "y_source.index = X_source.index"
   ]
  },
  {
   "cell_type": "code",
   "execution_count": 6,
   "metadata": {
    "ExecuteTime": {
     "end_time": "2019-07-20T01:06:06.789698Z",
     "start_time": "2019-07-20T01:06:06.498420Z"
    }
   },
   "outputs": [],
   "source": [
    "bin_enm = np.asarray(y_enm.apply(blt.bins, axis=1))\n",
    "bin_source = np.asarray(y_source.apply(blt.bins, axis=1))"
   ]
  },
  {
   "cell_type": "markdown",
   "metadata": {},
   "source": [
    "# Tests"
   ]
  },
  {
   "cell_type": "code",
   "execution_count": 7,
   "metadata": {
    "ExecuteTime": {
     "end_time": "2019-07-20T01:06:07.054404Z",
     "start_time": "2019-07-20T01:06:07.047046Z"
    }
   },
   "outputs": [],
   "source": [
    "def are_equal(df1, df2):\n",
    "    \n",
    "    \"\"\"Tests if two data frames or two arrays are equal.\"\"\"\n",
    "    \n",
    "    if isinstance(df1, pd.DataFrame):\n",
    "        # Test if data frames are equal\n",
    "        print(df1.equals(df2))\n",
    "    else:    \n",
    "        # Test if arrays are equal\n",
    "        print(np.array_equal(df1, df2))"
   ]
  },
  {
   "cell_type": "markdown",
   "metadata": {},
   "source": [
    "## Augment Function"
   ]
  },
  {
   "cell_type": "markdown",
   "metadata": {
    "ExecuteTime": {
     "end_time": "2019-07-18T20:00:40.586145Z",
     "start_time": "2019-07-18T20:00:40.576655Z"
    }
   },
   "source": [
    "First, each step in the function to be tested is run separately for each type of data augmentation to get \"control\" data frames. Then I attempt to recreate the same dataframe using the augment function and compare results. If they are the same, it is assumed that the function is working properly."
   ]
  },
  {
   "cell_type": "markdown",
   "metadata": {},
   "source": [
    "### No augmentation"
   ]
  },
  {
   "cell_type": "code",
   "execution_count": 8,
   "metadata": {
    "ExecuteTime": {
     "end_time": "2019-07-20T01:01:07.656657Z",
     "start_time": "2019-07-20T01:01:07.648376Z"
    }
   },
   "outputs": [
    {
     "name": "stdout",
     "output_type": "stream",
     "text": [
      "True\n",
      "True\n"
     ]
    }
   ],
   "source": [
    "# Apply new function with same conditions\n",
    "X_test, bin_test = blt.augment(aug_type='random', \n",
    "                               k=0, \n",
    "                               X_enm_train=X_enm, \n",
    "                               bin_enm_train=bin_enm, \n",
    "                               random_state=31)\n",
    "are_equal(X_test, X_enm)\n",
    "are_equal(bin_test, bin_enm)"
   ]
  },
  {
   "cell_type": "code",
   "execution_count": 9,
   "metadata": {
    "ExecuteTime": {
     "end_time": "2019-07-20T01:01:07.854353Z",
     "start_time": "2019-07-20T01:01:07.847285Z"
    }
   },
   "outputs": [
    {
     "name": "stdout",
     "output_type": "stream",
     "text": [
      "True\n",
      "True\n"
     ]
    }
   ],
   "source": [
    "# Apply new function with same conditions\n",
    "X_test, bin_test = blt.augment(aug_type='none', \n",
    "                               k=1, \n",
    "                               X_enm_train=X_enm, \n",
    "                               bin_enm_train=bin_enm, \n",
    "                               random_state=31)\n",
    "are_equal(X_test, X_enm)\n",
    "are_equal(bin_test, bin_enm)"
   ]
  },
  {
   "cell_type": "code",
   "execution_count": 10,
   "metadata": {
    "ExecuteTime": {
     "end_time": "2019-07-20T01:01:08.019566Z",
     "start_time": "2019-07-20T01:01:08.014622Z"
    }
   },
   "outputs": [
    {
     "name": "stdout",
     "output_type": "stream",
     "text": [
      "True\n",
      "True\n"
     ]
    }
   ],
   "source": [
    "# Apply new function with same conditions\n",
    "X_test, bin_test = blt.augment(aug_type='none', \n",
    "                               k=0, \n",
    "                               X_enm_train=X_enm, \n",
    "                               bin_enm_train=bin_enm, \n",
    "                               random_state=31)\n",
    "are_equal(X_test, X_enm)\n",
    "are_equal(bin_test, bin_enm)"
   ]
  },
  {
   "cell_type": "markdown",
   "metadata": {},
   "source": [
    "### Random augmentation"
   ]
  },
  {
   "cell_type": "markdown",
   "metadata": {},
   "source": [
    "#### Control feature data frame"
   ]
  },
  {
   "cell_type": "code",
   "execution_count": 11,
   "metadata": {
    "ExecuteTime": {
     "end_time": "2019-07-20T01:01:08.468831Z",
     "start_time": "2019-07-20T01:01:08.464279Z"
    }
   },
   "outputs": [],
   "source": [
    "from numpy import random"
   ]
  },
  {
   "cell_type": "code",
   "execution_count": 12,
   "metadata": {
    "ExecuteTime": {
     "end_time": "2019-07-20T01:01:08.657600Z",
     "start_time": "2019-07-20T01:01:08.625364Z"
    }
   },
   "outputs": [
    {
     "data": {
      "text/html": [
       "<div>\n",
       "<style scoped>\n",
       "    .dataframe tbody tr th:only-of-type {\n",
       "        vertical-align: middle;\n",
       "    }\n",
       "\n",
       "    .dataframe tbody tr th {\n",
       "        vertical-align: top;\n",
       "    }\n",
       "\n",
       "    .dataframe thead th {\n",
       "        text-align: right;\n",
       "    }\n",
       "</style>\n",
       "<table border=\"1\" class=\"dataframe\">\n",
       "  <thead>\n",
       "    <tr style=\"text-align: right;\">\n",
       "      <th></th>\n",
       "      <th>propMW</th>\n",
       "      <th>propMP</th>\n",
       "      <th>propBP</th>\n",
       "      <th>propLogDensity</th>\n",
       "      <th>absorbent</th>\n",
       "      <th>anti_adhesive_cohesive</th>\n",
       "      <th>antioxidant</th>\n",
       "      <th>antiredeposition_agent</th>\n",
       "      <th>biocide</th>\n",
       "      <th>brightener</th>\n",
       "      <th>...</th>\n",
       "      <th>group_dentalcare</th>\n",
       "      <th>group_deodorant</th>\n",
       "      <th>group_facialcleansingandmoisturizing</th>\n",
       "      <th>group_generalmoisturizing</th>\n",
       "      <th>group_makeupandrelated</th>\n",
       "      <th>group_paintstainandrelatedproducts</th>\n",
       "      <th>group_sunscreen</th>\n",
       "      <th>group_surfacesealers</th>\n",
       "      <th>refined_spray</th>\n",
       "      <th>matrix_F</th>\n",
       "    </tr>\n",
       "  </thead>\n",
       "  <tbody>\n",
       "    <tr>\n",
       "      <th>28448</th>\n",
       "      <td>180.203</td>\n",
       "      <td>74.45325</td>\n",
       "      <td>272.49400</td>\n",
       "      <td>0.062582</td>\n",
       "      <td>0</td>\n",
       "      <td>0</td>\n",
       "      <td>0</td>\n",
       "      <td>0</td>\n",
       "      <td>0</td>\n",
       "      <td>0</td>\n",
       "      <td>...</td>\n",
       "      <td>0.0</td>\n",
       "      <td>0.0</td>\n",
       "      <td>0.0</td>\n",
       "      <td>0.0</td>\n",
       "      <td>0.0</td>\n",
       "      <td>0.0</td>\n",
       "      <td>0.0</td>\n",
       "      <td>0.0</td>\n",
       "      <td>0</td>\n",
       "      <td>1</td>\n",
       "    </tr>\n",
       "    <tr>\n",
       "      <th>12951</th>\n",
       "      <td>194.230</td>\n",
       "      <td>65.76055</td>\n",
       "      <td>273.89350</td>\n",
       "      <td>0.052309</td>\n",
       "      <td>0</td>\n",
       "      <td>0</td>\n",
       "      <td>0</td>\n",
       "      <td>0</td>\n",
       "      <td>0</td>\n",
       "      <td>0</td>\n",
       "      <td>...</td>\n",
       "      <td>0.0</td>\n",
       "      <td>0.0</td>\n",
       "      <td>0.0</td>\n",
       "      <td>0.0</td>\n",
       "      <td>1.0</td>\n",
       "      <td>0.0</td>\n",
       "      <td>0.0</td>\n",
       "      <td>0.0</td>\n",
       "      <td>0</td>\n",
       "      <td>1</td>\n",
       "    </tr>\n",
       "    <tr>\n",
       "      <th>1169</th>\n",
       "      <td>154.253</td>\n",
       "      <td>10.43345</td>\n",
       "      <td>227.18250</td>\n",
       "      <td>-0.055024</td>\n",
       "      <td>0</td>\n",
       "      <td>0</td>\n",
       "      <td>0</td>\n",
       "      <td>0</td>\n",
       "      <td>0</td>\n",
       "      <td>0</td>\n",
       "      <td>...</td>\n",
       "      <td>0.0</td>\n",
       "      <td>0.0</td>\n",
       "      <td>0.0</td>\n",
       "      <td>0.0</td>\n",
       "      <td>0.0</td>\n",
       "      <td>0.0</td>\n",
       "      <td>0.0</td>\n",
       "      <td>0.0</td>\n",
       "      <td>0</td>\n",
       "      <td>1</td>\n",
       "    </tr>\n",
       "    <tr>\n",
       "      <th>15824</th>\n",
       "      <td>76.095</td>\n",
       "      <td>-31.99570</td>\n",
       "      <td>180.43000</td>\n",
       "      <td>0.004321</td>\n",
       "      <td>0</td>\n",
       "      <td>0</td>\n",
       "      <td>0</td>\n",
       "      <td>0</td>\n",
       "      <td>1</td>\n",
       "      <td>0</td>\n",
       "      <td>...</td>\n",
       "      <td>0.0</td>\n",
       "      <td>0.0</td>\n",
       "      <td>0.0</td>\n",
       "      <td>0.0</td>\n",
       "      <td>0.0</td>\n",
       "      <td>0.0</td>\n",
       "      <td>0.0</td>\n",
       "      <td>0.0</td>\n",
       "      <td>0</td>\n",
       "      <td>1</td>\n",
       "    </tr>\n",
       "    <tr>\n",
       "      <th>19654</th>\n",
       "      <td>58.080</td>\n",
       "      <td>-75.59565</td>\n",
       "      <td>44.93675</td>\n",
       "      <td>-0.077275</td>\n",
       "      <td>0</td>\n",
       "      <td>0</td>\n",
       "      <td>0</td>\n",
       "      <td>0</td>\n",
       "      <td>0</td>\n",
       "      <td>0</td>\n",
       "      <td>...</td>\n",
       "      <td>0.0</td>\n",
       "      <td>0.0</td>\n",
       "      <td>0.0</td>\n",
       "      <td>0.0</td>\n",
       "      <td>0.0</td>\n",
       "      <td>0.0</td>\n",
       "      <td>0.0</td>\n",
       "      <td>0.0</td>\n",
       "      <td>0</td>\n",
       "      <td>1</td>\n",
       "    </tr>\n",
       "    <tr>\n",
       "      <th>14981</th>\n",
       "      <td>92.094</td>\n",
       "      <td>41.33495</td>\n",
       "      <td>267.43050</td>\n",
       "      <td>0.070407</td>\n",
       "      <td>0</td>\n",
       "      <td>1</td>\n",
       "      <td>0</td>\n",
       "      <td>0</td>\n",
       "      <td>0</td>\n",
       "      <td>0</td>\n",
       "      <td>...</td>\n",
       "      <td>0.0</td>\n",
       "      <td>0.0</td>\n",
       "      <td>0.0</td>\n",
       "      <td>0.0</td>\n",
       "      <td>0.0</td>\n",
       "      <td>0.0</td>\n",
       "      <td>0.0</td>\n",
       "      <td>0.0</td>\n",
       "      <td>0</td>\n",
       "      <td>1</td>\n",
       "    </tr>\n",
       "    <tr>\n",
       "      <th>3607</th>\n",
       "      <td>196.290</td>\n",
       "      <td>-29.69015</td>\n",
       "      <td>225.63400</td>\n",
       "      <td>-0.031050</td>\n",
       "      <td>0</td>\n",
       "      <td>0</td>\n",
       "      <td>0</td>\n",
       "      <td>0</td>\n",
       "      <td>0</td>\n",
       "      <td>0</td>\n",
       "      <td>...</td>\n",
       "      <td>0.0</td>\n",
       "      <td>0.0</td>\n",
       "      <td>0.0</td>\n",
       "      <td>0.0</td>\n",
       "      <td>0.0</td>\n",
       "      <td>0.0</td>\n",
       "      <td>0.0</td>\n",
       "      <td>0.0</td>\n",
       "      <td>0</td>\n",
       "      <td>1</td>\n",
       "    </tr>\n",
       "    <tr>\n",
       "      <th>17803</th>\n",
       "      <td>46.069</td>\n",
       "      <td>-89.54350</td>\n",
       "      <td>73.83620</td>\n",
       "      <td>-0.040005</td>\n",
       "      <td>0</td>\n",
       "      <td>1</td>\n",
       "      <td>0</td>\n",
       "      <td>0</td>\n",
       "      <td>1</td>\n",
       "      <td>0</td>\n",
       "      <td>...</td>\n",
       "      <td>0.0</td>\n",
       "      <td>0.0</td>\n",
       "      <td>0.0</td>\n",
       "      <td>0.0</td>\n",
       "      <td>0.0</td>\n",
       "      <td>0.0</td>\n",
       "      <td>0.0</td>\n",
       "      <td>0.0</td>\n",
       "      <td>0</td>\n",
       "      <td>1</td>\n",
       "    </tr>\n",
       "  </tbody>\n",
       "</table>\n",
       "<p>8 rows × 38 columns</p>\n",
       "</div>"
      ],
      "text/plain": [
       "        propMW    propMP     propBP  propLogDensity  absorbent  \\\n",
       "28448  180.203  74.45325  272.49400        0.062582          0   \n",
       "12951  194.230  65.76055  273.89350        0.052309          0   \n",
       "1169   154.253  10.43345  227.18250       -0.055024          0   \n",
       "15824   76.095 -31.99570  180.43000        0.004321          0   \n",
       "19654   58.080 -75.59565   44.93675       -0.077275          0   \n",
       "14981   92.094  41.33495  267.43050        0.070407          0   \n",
       "3607   196.290 -29.69015  225.63400       -0.031050          0   \n",
       "17803   46.069 -89.54350   73.83620       -0.040005          0   \n",
       "\n",
       "       anti_adhesive_cohesive  antioxidant  antiredeposition_agent  biocide  \\\n",
       "28448                       0            0                       0        0   \n",
       "12951                       0            0                       0        0   \n",
       "1169                        0            0                       0        0   \n",
       "15824                       0            0                       0        1   \n",
       "19654                       0            0                       0        0   \n",
       "14981                       1            0                       0        0   \n",
       "3607                        0            0                       0        0   \n",
       "17803                       1            0                       0        1   \n",
       "\n",
       "       brightener  ...  group_dentalcare  group_deodorant  \\\n",
       "28448           0  ...               0.0              0.0   \n",
       "12951           0  ...               0.0              0.0   \n",
       "1169            0  ...               0.0              0.0   \n",
       "15824           0  ...               0.0              0.0   \n",
       "19654           0  ...               0.0              0.0   \n",
       "14981           0  ...               0.0              0.0   \n",
       "3607            0  ...               0.0              0.0   \n",
       "17803           0  ...               0.0              0.0   \n",
       "\n",
       "       group_facialcleansingandmoisturizing  group_generalmoisturizing  \\\n",
       "28448                                   0.0                        0.0   \n",
       "12951                                   0.0                        0.0   \n",
       "1169                                    0.0                        0.0   \n",
       "15824                                   0.0                        0.0   \n",
       "19654                                   0.0                        0.0   \n",
       "14981                                   0.0                        0.0   \n",
       "3607                                    0.0                        0.0   \n",
       "17803                                   0.0                        0.0   \n",
       "\n",
       "       group_makeupandrelated  group_paintstainandrelatedproducts  \\\n",
       "28448                     0.0                                 0.0   \n",
       "12951                     1.0                                 0.0   \n",
       "1169                      0.0                                 0.0   \n",
       "15824                     0.0                                 0.0   \n",
       "19654                     0.0                                 0.0   \n",
       "14981                     0.0                                 0.0   \n",
       "3607                      0.0                                 0.0   \n",
       "17803                     0.0                                 0.0   \n",
       "\n",
       "       group_sunscreen  group_surfacesealers  refined_spray  matrix_F  \n",
       "28448              0.0                   0.0              0         1  \n",
       "12951              0.0                   0.0              0         1  \n",
       "1169               0.0                   0.0              0         1  \n",
       "15824              0.0                   0.0              0         1  \n",
       "19654              0.0                   0.0              0         1  \n",
       "14981              0.0                   0.0              0         1  \n",
       "3607               0.0                   0.0              0         1  \n",
       "17803              0.0                   0.0              0         1  \n",
       "\n",
       "[8 rows x 38 columns]"
      ]
     },
     "execution_count": 12,
     "metadata": {},
     "output_type": "execute_result"
    }
   ],
   "source": [
    "# Randomly sample source (organics) feature data and get list of their indices\n",
    "idx_match_name = np.asarray(X_source.sample(n=82, \n",
    "                            replace=False, \n",
    "                            random_state=31, \n",
    "                            axis=0).index)\n",
    "# List first few matches\n",
    "X_source.loc[idx_match_name[:8],:]"
   ]
  },
  {
   "cell_type": "code",
   "execution_count": 13,
   "metadata": {
    "ExecuteTime": {
     "end_time": "2019-07-20T01:01:08.772294Z",
     "start_time": "2019-07-20T01:01:08.764373Z"
    }
   },
   "outputs": [
    {
     "data": {
      "text/plain": [
       "[15510, 7428, 976, 10026, 13062, 9208, 3003, 11351]"
      ]
     },
     "execution_count": 13,
     "metadata": {},
     "output_type": "execute_result"
    }
   ],
   "source": [
    "# Get location of indices\n",
    "idx_match = [X_source.index.get_loc(i) for i in idx_match_name]\n",
    "idx_match[:8]"
   ]
  },
  {
   "cell_type": "code",
   "execution_count": 14,
   "metadata": {
    "ExecuteTime": {
     "end_time": "2019-07-20T01:01:08.930769Z",
     "start_time": "2019-07-20T01:01:08.900732Z"
    }
   },
   "outputs": [
    {
     "name": "stdout",
     "output_type": "stream",
     "text": [
      "(82, 38)\n"
     ]
    },
    {
     "data": {
      "text/html": [
       "<div>\n",
       "<style scoped>\n",
       "    .dataframe tbody tr th:only-of-type {\n",
       "        vertical-align: middle;\n",
       "    }\n",
       "\n",
       "    .dataframe tbody tr th {\n",
       "        vertical-align: top;\n",
       "    }\n",
       "\n",
       "    .dataframe thead th {\n",
       "        text-align: right;\n",
       "    }\n",
       "</style>\n",
       "<table border=\"1\" class=\"dataframe\">\n",
       "  <thead>\n",
       "    <tr style=\"text-align: right;\">\n",
       "      <th></th>\n",
       "      <th>propMW</th>\n",
       "      <th>propMP</th>\n",
       "      <th>propBP</th>\n",
       "      <th>propLogDensity</th>\n",
       "      <th>absorbent</th>\n",
       "      <th>anti_adhesive_cohesive</th>\n",
       "      <th>antioxidant</th>\n",
       "      <th>antiredeposition_agent</th>\n",
       "      <th>biocide</th>\n",
       "      <th>brightener</th>\n",
       "      <th>...</th>\n",
       "      <th>group_dentalcare</th>\n",
       "      <th>group_deodorant</th>\n",
       "      <th>group_facialcleansingandmoisturizing</th>\n",
       "      <th>group_generalmoisturizing</th>\n",
       "      <th>group_makeupandrelated</th>\n",
       "      <th>group_paintstainandrelatedproducts</th>\n",
       "      <th>group_sunscreen</th>\n",
       "      <th>group_surfacesealers</th>\n",
       "      <th>refined_spray</th>\n",
       "      <th>matrix_F</th>\n",
       "    </tr>\n",
       "  </thead>\n",
       "  <tbody>\n",
       "    <tr>\n",
       "      <th>28448</th>\n",
       "      <td>180.203</td>\n",
       "      <td>74.45325</td>\n",
       "      <td>272.49400</td>\n",
       "      <td>0.062582</td>\n",
       "      <td>0</td>\n",
       "      <td>0</td>\n",
       "      <td>0</td>\n",
       "      <td>0</td>\n",
       "      <td>0</td>\n",
       "      <td>0</td>\n",
       "      <td>...</td>\n",
       "      <td>0.0</td>\n",
       "      <td>0.0</td>\n",
       "      <td>0.0</td>\n",
       "      <td>0.0</td>\n",
       "      <td>0.0</td>\n",
       "      <td>0.0</td>\n",
       "      <td>0.0</td>\n",
       "      <td>0.0</td>\n",
       "      <td>0</td>\n",
       "      <td>1</td>\n",
       "    </tr>\n",
       "    <tr>\n",
       "      <th>12951</th>\n",
       "      <td>194.230</td>\n",
       "      <td>65.76055</td>\n",
       "      <td>273.89350</td>\n",
       "      <td>0.052309</td>\n",
       "      <td>0</td>\n",
       "      <td>0</td>\n",
       "      <td>0</td>\n",
       "      <td>0</td>\n",
       "      <td>0</td>\n",
       "      <td>0</td>\n",
       "      <td>...</td>\n",
       "      <td>0.0</td>\n",
       "      <td>0.0</td>\n",
       "      <td>0.0</td>\n",
       "      <td>0.0</td>\n",
       "      <td>1.0</td>\n",
       "      <td>0.0</td>\n",
       "      <td>0.0</td>\n",
       "      <td>0.0</td>\n",
       "      <td>0</td>\n",
       "      <td>1</td>\n",
       "    </tr>\n",
       "    <tr>\n",
       "      <th>1169</th>\n",
       "      <td>154.253</td>\n",
       "      <td>10.43345</td>\n",
       "      <td>227.18250</td>\n",
       "      <td>-0.055024</td>\n",
       "      <td>0</td>\n",
       "      <td>0</td>\n",
       "      <td>0</td>\n",
       "      <td>0</td>\n",
       "      <td>0</td>\n",
       "      <td>0</td>\n",
       "      <td>...</td>\n",
       "      <td>0.0</td>\n",
       "      <td>0.0</td>\n",
       "      <td>0.0</td>\n",
       "      <td>0.0</td>\n",
       "      <td>0.0</td>\n",
       "      <td>0.0</td>\n",
       "      <td>0.0</td>\n",
       "      <td>0.0</td>\n",
       "      <td>0</td>\n",
       "      <td>1</td>\n",
       "    </tr>\n",
       "    <tr>\n",
       "      <th>15824</th>\n",
       "      <td>76.095</td>\n",
       "      <td>-31.99570</td>\n",
       "      <td>180.43000</td>\n",
       "      <td>0.004321</td>\n",
       "      <td>0</td>\n",
       "      <td>0</td>\n",
       "      <td>0</td>\n",
       "      <td>0</td>\n",
       "      <td>1</td>\n",
       "      <td>0</td>\n",
       "      <td>...</td>\n",
       "      <td>0.0</td>\n",
       "      <td>0.0</td>\n",
       "      <td>0.0</td>\n",
       "      <td>0.0</td>\n",
       "      <td>0.0</td>\n",
       "      <td>0.0</td>\n",
       "      <td>0.0</td>\n",
       "      <td>0.0</td>\n",
       "      <td>0</td>\n",
       "      <td>1</td>\n",
       "    </tr>\n",
       "    <tr>\n",
       "      <th>19654</th>\n",
       "      <td>58.080</td>\n",
       "      <td>-75.59565</td>\n",
       "      <td>44.93675</td>\n",
       "      <td>-0.077275</td>\n",
       "      <td>0</td>\n",
       "      <td>0</td>\n",
       "      <td>0</td>\n",
       "      <td>0</td>\n",
       "      <td>0</td>\n",
       "      <td>0</td>\n",
       "      <td>...</td>\n",
       "      <td>0.0</td>\n",
       "      <td>0.0</td>\n",
       "      <td>0.0</td>\n",
       "      <td>0.0</td>\n",
       "      <td>0.0</td>\n",
       "      <td>0.0</td>\n",
       "      <td>0.0</td>\n",
       "      <td>0.0</td>\n",
       "      <td>0</td>\n",
       "      <td>1</td>\n",
       "    </tr>\n",
       "    <tr>\n",
       "      <th>14981</th>\n",
       "      <td>92.094</td>\n",
       "      <td>41.33495</td>\n",
       "      <td>267.43050</td>\n",
       "      <td>0.070407</td>\n",
       "      <td>0</td>\n",
       "      <td>1</td>\n",
       "      <td>0</td>\n",
       "      <td>0</td>\n",
       "      <td>0</td>\n",
       "      <td>0</td>\n",
       "      <td>...</td>\n",
       "      <td>0.0</td>\n",
       "      <td>0.0</td>\n",
       "      <td>0.0</td>\n",
       "      <td>0.0</td>\n",
       "      <td>0.0</td>\n",
       "      <td>0.0</td>\n",
       "      <td>0.0</td>\n",
       "      <td>0.0</td>\n",
       "      <td>0</td>\n",
       "      <td>1</td>\n",
       "    </tr>\n",
       "    <tr>\n",
       "      <th>3607</th>\n",
       "      <td>196.290</td>\n",
       "      <td>-29.69015</td>\n",
       "      <td>225.63400</td>\n",
       "      <td>-0.031050</td>\n",
       "      <td>0</td>\n",
       "      <td>0</td>\n",
       "      <td>0</td>\n",
       "      <td>0</td>\n",
       "      <td>0</td>\n",
       "      <td>0</td>\n",
       "      <td>...</td>\n",
       "      <td>0.0</td>\n",
       "      <td>0.0</td>\n",
       "      <td>0.0</td>\n",
       "      <td>0.0</td>\n",
       "      <td>0.0</td>\n",
       "      <td>0.0</td>\n",
       "      <td>0.0</td>\n",
       "      <td>0.0</td>\n",
       "      <td>0</td>\n",
       "      <td>1</td>\n",
       "    </tr>\n",
       "    <tr>\n",
       "      <th>17803</th>\n",
       "      <td>46.069</td>\n",
       "      <td>-89.54350</td>\n",
       "      <td>73.83620</td>\n",
       "      <td>-0.040005</td>\n",
       "      <td>0</td>\n",
       "      <td>1</td>\n",
       "      <td>0</td>\n",
       "      <td>0</td>\n",
       "      <td>1</td>\n",
       "      <td>0</td>\n",
       "      <td>...</td>\n",
       "      <td>0.0</td>\n",
       "      <td>0.0</td>\n",
       "      <td>0.0</td>\n",
       "      <td>0.0</td>\n",
       "      <td>0.0</td>\n",
       "      <td>0.0</td>\n",
       "      <td>0.0</td>\n",
       "      <td>0.0</td>\n",
       "      <td>0</td>\n",
       "      <td>1</td>\n",
       "    </tr>\n",
       "  </tbody>\n",
       "</table>\n",
       "<p>8 rows × 38 columns</p>\n",
       "</div>"
      ],
      "text/plain": [
       "        propMW    propMP     propBP  propLogDensity  absorbent  \\\n",
       "28448  180.203  74.45325  272.49400        0.062582          0   \n",
       "12951  194.230  65.76055  273.89350        0.052309          0   \n",
       "1169   154.253  10.43345  227.18250       -0.055024          0   \n",
       "15824   76.095 -31.99570  180.43000        0.004321          0   \n",
       "19654   58.080 -75.59565   44.93675       -0.077275          0   \n",
       "14981   92.094  41.33495  267.43050        0.070407          0   \n",
       "3607   196.290 -29.69015  225.63400       -0.031050          0   \n",
       "17803   46.069 -89.54350   73.83620       -0.040005          0   \n",
       "\n",
       "       anti_adhesive_cohesive  antioxidant  antiredeposition_agent  biocide  \\\n",
       "28448                       0            0                       0        0   \n",
       "12951                       0            0                       0        0   \n",
       "1169                        0            0                       0        0   \n",
       "15824                       0            0                       0        1   \n",
       "19654                       0            0                       0        0   \n",
       "14981                       1            0                       0        0   \n",
       "3607                        0            0                       0        0   \n",
       "17803                       1            0                       0        1   \n",
       "\n",
       "       brightener  ...  group_dentalcare  group_deodorant  \\\n",
       "28448           0  ...               0.0              0.0   \n",
       "12951           0  ...               0.0              0.0   \n",
       "1169            0  ...               0.0              0.0   \n",
       "15824           0  ...               0.0              0.0   \n",
       "19654           0  ...               0.0              0.0   \n",
       "14981           0  ...               0.0              0.0   \n",
       "3607            0  ...               0.0              0.0   \n",
       "17803           0  ...               0.0              0.0   \n",
       "\n",
       "       group_facialcleansingandmoisturizing  group_generalmoisturizing  \\\n",
       "28448                                   0.0                        0.0   \n",
       "12951                                   0.0                        0.0   \n",
       "1169                                    0.0                        0.0   \n",
       "15824                                   0.0                        0.0   \n",
       "19654                                   0.0                        0.0   \n",
       "14981                                   0.0                        0.0   \n",
       "3607                                    0.0                        0.0   \n",
       "17803                                   0.0                        0.0   \n",
       "\n",
       "       group_makeupandrelated  group_paintstainandrelatedproducts  \\\n",
       "28448                     0.0                                 0.0   \n",
       "12951                     1.0                                 0.0   \n",
       "1169                      0.0                                 0.0   \n",
       "15824                     0.0                                 0.0   \n",
       "19654                     0.0                                 0.0   \n",
       "14981                     0.0                                 0.0   \n",
       "3607                      0.0                                 0.0   \n",
       "17803                     0.0                                 0.0   \n",
       "\n",
       "       group_sunscreen  group_surfacesealers  refined_spray  matrix_F  \n",
       "28448              0.0                   0.0              0         1  \n",
       "12951              0.0                   0.0              0         1  \n",
       "1169               0.0                   0.0              0         1  \n",
       "15824              0.0                   0.0              0         1  \n",
       "19654              0.0                   0.0              0         1  \n",
       "14981              0.0                   0.0              0         1  \n",
       "3607               0.0                   0.0              0         1  \n",
       "17803              0.0                   0.0              0         1  \n",
       "\n",
       "[8 rows x 38 columns]"
      ]
     },
     "execution_count": 14,
     "metadata": {},
     "output_type": "execute_result"
    }
   ],
   "source": [
    "# Apply sample selection; Check that list comprehension (above) worked\n",
    "X_samples = X_source.iloc[idx_match,:]\n",
    "print(X_samples.shape)\n",
    "X_samples.head(8)"
   ]
  },
  {
   "cell_type": "code",
   "execution_count": 15,
   "metadata": {
    "ExecuteTime": {
     "end_time": "2019-07-20T01:01:09.109398Z",
     "start_time": "2019-07-20T01:01:09.079531Z"
    }
   },
   "outputs": [
    {
     "name": "stdout",
     "output_type": "stream",
     "text": [
      "(164, 38)\n"
     ]
    },
    {
     "data": {
      "text/html": [
       "<div>\n",
       "<style scoped>\n",
       "    .dataframe tbody tr th:only-of-type {\n",
       "        vertical-align: middle;\n",
       "    }\n",
       "\n",
       "    .dataframe tbody tr th {\n",
       "        vertical-align: top;\n",
       "    }\n",
       "\n",
       "    .dataframe thead th {\n",
       "        text-align: right;\n",
       "    }\n",
       "</style>\n",
       "<table border=\"1\" class=\"dataframe\">\n",
       "  <thead>\n",
       "    <tr style=\"text-align: right;\">\n",
       "      <th></th>\n",
       "      <th>propMW</th>\n",
       "      <th>propMP</th>\n",
       "      <th>propBP</th>\n",
       "      <th>propLogDensity</th>\n",
       "      <th>absorbent</th>\n",
       "      <th>anti_adhesive_cohesive</th>\n",
       "      <th>antioxidant</th>\n",
       "      <th>antiredeposition_agent</th>\n",
       "      <th>biocide</th>\n",
       "      <th>brightener</th>\n",
       "      <th>...</th>\n",
       "      <th>group_dentalcare</th>\n",
       "      <th>group_deodorant</th>\n",
       "      <th>group_facialcleansingandmoisturizing</th>\n",
       "      <th>group_generalmoisturizing</th>\n",
       "      <th>group_makeupandrelated</th>\n",
       "      <th>group_paintstainandrelatedproducts</th>\n",
       "      <th>group_sunscreen</th>\n",
       "      <th>group_surfacesealers</th>\n",
       "      <th>refined_spray</th>\n",
       "      <th>matrix_F</th>\n",
       "    </tr>\n",
       "  </thead>\n",
       "  <tbody>\n",
       "    <tr>\n",
       "      <th>80</th>\n",
       "      <td>79.867</td>\n",
       "      <td>1843.00000</td>\n",
       "      <td>2972.00000</td>\n",
       "      <td>0.626340</td>\n",
       "      <td>0</td>\n",
       "      <td>0</td>\n",
       "      <td>0</td>\n",
       "      <td>0</td>\n",
       "      <td>0</td>\n",
       "      <td>0</td>\n",
       "      <td>...</td>\n",
       "      <td>0.0</td>\n",
       "      <td>0.0</td>\n",
       "      <td>0.0</td>\n",
       "      <td>0.0</td>\n",
       "      <td>0.0</td>\n",
       "      <td>0.0</td>\n",
       "      <td>1.0</td>\n",
       "      <td>0.0</td>\n",
       "      <td>1</td>\n",
       "      <td>1</td>\n",
       "    </tr>\n",
       "    <tr>\n",
       "      <th>81</th>\n",
       "      <td>107.868</td>\n",
       "      <td>961.78000</td>\n",
       "      <td>2162.00000</td>\n",
       "      <td>1.014730</td>\n",
       "      <td>0</td>\n",
       "      <td>0</td>\n",
       "      <td>0</td>\n",
       "      <td>0</td>\n",
       "      <td>1</td>\n",
       "      <td>0</td>\n",
       "      <td>...</td>\n",
       "      <td>0.0</td>\n",
       "      <td>1.0</td>\n",
       "      <td>0.0</td>\n",
       "      <td>0.0</td>\n",
       "      <td>0.0</td>\n",
       "      <td>0.0</td>\n",
       "      <td>0.0</td>\n",
       "      <td>0.0</td>\n",
       "      <td>1</td>\n",
       "      <td>1</td>\n",
       "    </tr>\n",
       "    <tr>\n",
       "      <th>28448</th>\n",
       "      <td>180.203</td>\n",
       "      <td>74.45325</td>\n",
       "      <td>272.49400</td>\n",
       "      <td>0.062582</td>\n",
       "      <td>0</td>\n",
       "      <td>0</td>\n",
       "      <td>0</td>\n",
       "      <td>0</td>\n",
       "      <td>0</td>\n",
       "      <td>0</td>\n",
       "      <td>...</td>\n",
       "      <td>0.0</td>\n",
       "      <td>0.0</td>\n",
       "      <td>0.0</td>\n",
       "      <td>0.0</td>\n",
       "      <td>0.0</td>\n",
       "      <td>0.0</td>\n",
       "      <td>0.0</td>\n",
       "      <td>0.0</td>\n",
       "      <td>0</td>\n",
       "      <td>1</td>\n",
       "    </tr>\n",
       "    <tr>\n",
       "      <th>12951</th>\n",
       "      <td>194.230</td>\n",
       "      <td>65.76055</td>\n",
       "      <td>273.89350</td>\n",
       "      <td>0.052309</td>\n",
       "      <td>0</td>\n",
       "      <td>0</td>\n",
       "      <td>0</td>\n",
       "      <td>0</td>\n",
       "      <td>0</td>\n",
       "      <td>0</td>\n",
       "      <td>...</td>\n",
       "      <td>0.0</td>\n",
       "      <td>0.0</td>\n",
       "      <td>0.0</td>\n",
       "      <td>0.0</td>\n",
       "      <td>1.0</td>\n",
       "      <td>0.0</td>\n",
       "      <td>0.0</td>\n",
       "      <td>0.0</td>\n",
       "      <td>0</td>\n",
       "      <td>1</td>\n",
       "    </tr>\n",
       "    <tr>\n",
       "      <th>1169</th>\n",
       "      <td>154.253</td>\n",
       "      <td>10.43345</td>\n",
       "      <td>227.18250</td>\n",
       "      <td>-0.055024</td>\n",
       "      <td>0</td>\n",
       "      <td>0</td>\n",
       "      <td>0</td>\n",
       "      <td>0</td>\n",
       "      <td>0</td>\n",
       "      <td>0</td>\n",
       "      <td>...</td>\n",
       "      <td>0.0</td>\n",
       "      <td>0.0</td>\n",
       "      <td>0.0</td>\n",
       "      <td>0.0</td>\n",
       "      <td>0.0</td>\n",
       "      <td>0.0</td>\n",
       "      <td>0.0</td>\n",
       "      <td>0.0</td>\n",
       "      <td>0</td>\n",
       "      <td>1</td>\n",
       "    </tr>\n",
       "    <tr>\n",
       "      <th>15824</th>\n",
       "      <td>76.095</td>\n",
       "      <td>-31.99570</td>\n",
       "      <td>180.43000</td>\n",
       "      <td>0.004321</td>\n",
       "      <td>0</td>\n",
       "      <td>0</td>\n",
       "      <td>0</td>\n",
       "      <td>0</td>\n",
       "      <td>1</td>\n",
       "      <td>0</td>\n",
       "      <td>...</td>\n",
       "      <td>0.0</td>\n",
       "      <td>0.0</td>\n",
       "      <td>0.0</td>\n",
       "      <td>0.0</td>\n",
       "      <td>0.0</td>\n",
       "      <td>0.0</td>\n",
       "      <td>0.0</td>\n",
       "      <td>0.0</td>\n",
       "      <td>0</td>\n",
       "      <td>1</td>\n",
       "    </tr>\n",
       "    <tr>\n",
       "      <th>19654</th>\n",
       "      <td>58.080</td>\n",
       "      <td>-75.59565</td>\n",
       "      <td>44.93675</td>\n",
       "      <td>-0.077275</td>\n",
       "      <td>0</td>\n",
       "      <td>0</td>\n",
       "      <td>0</td>\n",
       "      <td>0</td>\n",
       "      <td>0</td>\n",
       "      <td>0</td>\n",
       "      <td>...</td>\n",
       "      <td>0.0</td>\n",
       "      <td>0.0</td>\n",
       "      <td>0.0</td>\n",
       "      <td>0.0</td>\n",
       "      <td>0.0</td>\n",
       "      <td>0.0</td>\n",
       "      <td>0.0</td>\n",
       "      <td>0.0</td>\n",
       "      <td>0</td>\n",
       "      <td>1</td>\n",
       "    </tr>\n",
       "    <tr>\n",
       "      <th>14981</th>\n",
       "      <td>92.094</td>\n",
       "      <td>41.33495</td>\n",
       "      <td>267.43050</td>\n",
       "      <td>0.070407</td>\n",
       "      <td>0</td>\n",
       "      <td>1</td>\n",
       "      <td>0</td>\n",
       "      <td>0</td>\n",
       "      <td>0</td>\n",
       "      <td>0</td>\n",
       "      <td>...</td>\n",
       "      <td>0.0</td>\n",
       "      <td>0.0</td>\n",
       "      <td>0.0</td>\n",
       "      <td>0.0</td>\n",
       "      <td>0.0</td>\n",
       "      <td>0.0</td>\n",
       "      <td>0.0</td>\n",
       "      <td>0.0</td>\n",
       "      <td>0</td>\n",
       "      <td>1</td>\n",
       "    </tr>\n",
       "    <tr>\n",
       "      <th>3607</th>\n",
       "      <td>196.290</td>\n",
       "      <td>-29.69015</td>\n",
       "      <td>225.63400</td>\n",
       "      <td>-0.031050</td>\n",
       "      <td>0</td>\n",
       "      <td>0</td>\n",
       "      <td>0</td>\n",
       "      <td>0</td>\n",
       "      <td>0</td>\n",
       "      <td>0</td>\n",
       "      <td>...</td>\n",
       "      <td>0.0</td>\n",
       "      <td>0.0</td>\n",
       "      <td>0.0</td>\n",
       "      <td>0.0</td>\n",
       "      <td>0.0</td>\n",
       "      <td>0.0</td>\n",
       "      <td>0.0</td>\n",
       "      <td>0.0</td>\n",
       "      <td>0</td>\n",
       "      <td>1</td>\n",
       "    </tr>\n",
       "    <tr>\n",
       "      <th>17803</th>\n",
       "      <td>46.069</td>\n",
       "      <td>-89.54350</td>\n",
       "      <td>73.83620</td>\n",
       "      <td>-0.040005</td>\n",
       "      <td>0</td>\n",
       "      <td>1</td>\n",
       "      <td>0</td>\n",
       "      <td>0</td>\n",
       "      <td>1</td>\n",
       "      <td>0</td>\n",
       "      <td>...</td>\n",
       "      <td>0.0</td>\n",
       "      <td>0.0</td>\n",
       "      <td>0.0</td>\n",
       "      <td>0.0</td>\n",
       "      <td>0.0</td>\n",
       "      <td>0.0</td>\n",
       "      <td>0.0</td>\n",
       "      <td>0.0</td>\n",
       "      <td>0</td>\n",
       "      <td>1</td>\n",
       "    </tr>\n",
       "  </tbody>\n",
       "</table>\n",
       "<p>10 rows × 38 columns</p>\n",
       "</div>"
      ],
      "text/plain": [
       "        propMW      propMP      propBP  propLogDensity  absorbent  \\\n",
       "80      79.867  1843.00000  2972.00000        0.626340          0   \n",
       "81     107.868   961.78000  2162.00000        1.014730          0   \n",
       "28448  180.203    74.45325   272.49400        0.062582          0   \n",
       "12951  194.230    65.76055   273.89350        0.052309          0   \n",
       "1169   154.253    10.43345   227.18250       -0.055024          0   \n",
       "15824   76.095   -31.99570   180.43000        0.004321          0   \n",
       "19654   58.080   -75.59565    44.93675       -0.077275          0   \n",
       "14981   92.094    41.33495   267.43050        0.070407          0   \n",
       "3607   196.290   -29.69015   225.63400       -0.031050          0   \n",
       "17803   46.069   -89.54350    73.83620       -0.040005          0   \n",
       "\n",
       "       anti_adhesive_cohesive  antioxidant  antiredeposition_agent  biocide  \\\n",
       "80                          0            0                       0        0   \n",
       "81                          0            0                       0        1   \n",
       "28448                       0            0                       0        0   \n",
       "12951                       0            0                       0        0   \n",
       "1169                        0            0                       0        0   \n",
       "15824                       0            0                       0        1   \n",
       "19654                       0            0                       0        0   \n",
       "14981                       1            0                       0        0   \n",
       "3607                        0            0                       0        0   \n",
       "17803                       1            0                       0        1   \n",
       "\n",
       "       brightener  ...  group_dentalcare  group_deodorant  \\\n",
       "80              0  ...               0.0              0.0   \n",
       "81              0  ...               0.0              1.0   \n",
       "28448           0  ...               0.0              0.0   \n",
       "12951           0  ...               0.0              0.0   \n",
       "1169            0  ...               0.0              0.0   \n",
       "15824           0  ...               0.0              0.0   \n",
       "19654           0  ...               0.0              0.0   \n",
       "14981           0  ...               0.0              0.0   \n",
       "3607            0  ...               0.0              0.0   \n",
       "17803           0  ...               0.0              0.0   \n",
       "\n",
       "       group_facialcleansingandmoisturizing  group_generalmoisturizing  \\\n",
       "80                                      0.0                        0.0   \n",
       "81                                      0.0                        0.0   \n",
       "28448                                   0.0                        0.0   \n",
       "12951                                   0.0                        0.0   \n",
       "1169                                    0.0                        0.0   \n",
       "15824                                   0.0                        0.0   \n",
       "19654                                   0.0                        0.0   \n",
       "14981                                   0.0                        0.0   \n",
       "3607                                    0.0                        0.0   \n",
       "17803                                   0.0                        0.0   \n",
       "\n",
       "       group_makeupandrelated  group_paintstainandrelatedproducts  \\\n",
       "80                        0.0                                 0.0   \n",
       "81                        0.0                                 0.0   \n",
       "28448                     0.0                                 0.0   \n",
       "12951                     1.0                                 0.0   \n",
       "1169                      0.0                                 0.0   \n",
       "15824                     0.0                                 0.0   \n",
       "19654                     0.0                                 0.0   \n",
       "14981                     0.0                                 0.0   \n",
       "3607                      0.0                                 0.0   \n",
       "17803                     0.0                                 0.0   \n",
       "\n",
       "       group_sunscreen  group_surfacesealers  refined_spray  matrix_F  \n",
       "80                 1.0                   0.0              1         1  \n",
       "81                 0.0                   0.0              1         1  \n",
       "28448              0.0                   0.0              0         1  \n",
       "12951              0.0                   0.0              0         1  \n",
       "1169               0.0                   0.0              0         1  \n",
       "15824              0.0                   0.0              0         1  \n",
       "19654              0.0                   0.0              0         1  \n",
       "14981              0.0                   0.0              0         1  \n",
       "3607               0.0                   0.0              0         1  \n",
       "17803              0.0                   0.0              0         1  \n",
       "\n",
       "[10 rows x 38 columns]"
      ]
     },
     "execution_count": 15,
     "metadata": {},
     "output_type": "execute_result"
    }
   ],
   "source": [
    "# Concatenate organics samples with ENM data\n",
    "X_1to1 = pd.concat([X_enm, X_samples], sort=False)\n",
    "print(X_1to1.shape)\n",
    "# The first two rows are ENM data, the remainder are organics data\n",
    "X_1to1.iloc[80:90,:]"
   ]
  },
  {
   "cell_type": "markdown",
   "metadata": {},
   "source": [
    "#### Control labels"
   ]
  },
  {
   "cell_type": "code",
   "execution_count": 16,
   "metadata": {
    "ExecuteTime": {
     "end_time": "2019-07-20T01:01:09.435029Z",
     "start_time": "2019-07-20T01:01:09.415452Z"
    }
   },
   "outputs": [
    {
     "name": "stdout",
     "output_type": "stream",
     "text": [
      "(82,)\n"
     ]
    },
    {
     "data": {
      "text/plain": [
       "28448    0\n",
       "12951    0\n",
       "1169     1\n",
       "15824    2\n",
       "19654    2\n",
       "14981    1\n",
       "3607     1\n",
       "17803    2\n",
       "dtype: int64"
      ]
     },
     "execution_count": 16,
     "metadata": {},
     "output_type": "execute_result"
    }
   ],
   "source": [
    "# Randomly sample source (organics) feature data and get list of their indices\n",
    "idy_match_name = np.asarray(y_source.sample(n=82, \n",
    "                            replace=False, \n",
    "                            random_state=31, \n",
    "                            axis=0).index)\n",
    "# Get location of indices\n",
    "idy_match = [y_source.index.get_loc(i) for i in idy_match_name]\n",
    "# Apply sample selection; Check that list comprehension (above) worked\n",
    "bin_samples = y_source.iloc[idy_match,:].apply(blt.bins, axis=1)\n",
    "print(bin_samples.shape)\n",
    "bin_samples.head(8)"
   ]
  },
  {
   "cell_type": "code",
   "execution_count": 17,
   "metadata": {
    "ExecuteTime": {
     "end_time": "2019-07-20T01:01:09.574618Z",
     "start_time": "2019-07-20T01:01:09.565776Z"
    }
   },
   "outputs": [
    {
     "name": "stdout",
     "output_type": "stream",
     "text": [
      "(164,)\n"
     ]
    },
    {
     "data": {
      "text/plain": [
       "array([0, 0, 0, 0, 1, 2, 2, 1, 1, 2])"
      ]
     },
     "execution_count": 17,
     "metadata": {},
     "output_type": "execute_result"
    }
   ],
   "source": [
    "# Concatenate organics samples with ENM data\n",
    "bin_1to1 = np.concatenate([bin_enm, bin_samples])\n",
    "print(bin_1to1.shape)\n",
    "# The first two rows are ENM data, the remainder are organics data\n",
    "bin_1to1[80:90]"
   ]
  },
  {
   "cell_type": "markdown",
   "metadata": {},
   "source": [
    "#### Test data frame"
   ]
  },
  {
   "cell_type": "code",
   "execution_count": 18,
   "metadata": {
    "ExecuteTime": {
     "end_time": "2019-07-20T01:01:09.906364Z",
     "start_time": "2019-07-20T01:01:09.896950Z"
    }
   },
   "outputs": [],
   "source": [
    "# Apply new function with same conditions\n",
    "X_test, bin_test = blt.augment(aug_type='random', \n",
    "                                             k=1, \n",
    "                                             X_enm_train=X_enm, \n",
    "                                             bin_enm_train=bin_enm, \n",
    "                                             random_state=31)"
   ]
  },
  {
   "cell_type": "code",
   "execution_count": 19,
   "metadata": {
    "ExecuteTime": {
     "end_time": "2019-07-20T01:01:10.046900Z",
     "start_time": "2019-07-20T01:01:10.039142Z"
    }
   },
   "outputs": [
    {
     "name": "stdout",
     "output_type": "stream",
     "text": [
      "True\n",
      "True\n"
     ]
    }
   ],
   "source": [
    "are_equal(X_test, X_1to1)\n",
    "are_equal(bin_test, bin_1to1)"
   ]
  },
  {
   "cell_type": "markdown",
   "metadata": {},
   "source": [
    "### Unsupervised augmentation"
   ]
  },
  {
   "cell_type": "markdown",
   "metadata": {},
   "source": [
    "In unsupervised augmentation, we match \"k\" most similar organics samples to each ENM sample based on the smallest cosine distance between ENM and organics samples (i.e., in an supervised fashion)."
   ]
  },
  {
   "cell_type": "markdown",
   "metadata": {},
   "source": [
    "#### Control data frames"
   ]
  },
  {
   "cell_type": "code",
   "execution_count": 20,
   "metadata": {
    "ExecuteTime": {
     "end_time": "2019-07-20T01:01:10.704797Z",
     "start_time": "2019-07-20T01:01:10.664505Z"
    }
   },
   "outputs": [],
   "source": [
    "# Scale/normalize data for computing distance\n",
    "from sklearn.preprocessing import MinMaxScaler\n",
    "\n",
    "scaler = MinMaxScaler(feature_range=(0, 1))\n",
    "\n",
    "# Fit scaler to all possible training data (ENM and organics)\n",
    "scaler.fit(pd.concat([X_enm, X_source]))\n",
    "# Apply fitted scaler separately\n",
    "X_enm_scaled = pd.DataFrame(scaler.transform(X_enm), \n",
    "                            columns = X_enm.columns, \n",
    "                            index = X_enm.index)\n",
    "X_source_scaled = pd.DataFrame(scaler.transform(X_source), \n",
    "                               columns = X_source.columns, \n",
    "                               index = X_source.index)"
   ]
  },
  {
   "cell_type": "code",
   "execution_count": 21,
   "metadata": {
    "ExecuteTime": {
     "end_time": "2019-07-20T01:01:10.812762Z",
     "start_time": "2019-07-20T01:01:10.789145Z"
    }
   },
   "outputs": [
    {
     "name": "stdout",
     "output_type": "stream",
     "text": [
      "(16354, 82)\n"
     ]
    }
   ],
   "source": [
    "# Cosine similarity computes the L2-normalized dot product of vectors\n",
    "# Cosine distance = 1 - cosine similarity\n",
    "from sklearn.metrics.pairwise import cosine_distances\n",
    "\n",
    "cos_dist = cosine_distances(X=X_source_scaled, Y=X_enm_scaled)\n",
    "print(cos_dist.shape)"
   ]
  },
  {
   "cell_type": "markdown",
   "metadata": {},
   "source": [
    "This will also look at whether there is a difference in results between two different ways of searching for the smallest distances: argsort versus argpartition (less computation time)."
   ]
  },
  {
   "cell_type": "code",
   "execution_count": 22,
   "metadata": {
    "ExecuteTime": {
     "end_time": "2019-07-20T01:01:11.250729Z",
     "start_time": "2019-07-20T01:01:11.170062Z"
    }
   },
   "outputs": [
    {
     "name": "stdout",
     "output_type": "stream",
     "text": [
      "idx_match shape:  820\n",
      "dist_match shape:  820\n",
      "match_group shape:  820\n"
     ]
    }
   ],
   "source": [
    "# Write loop to match k most similar organics examples \n",
    "# to ENM examples based on smallest cosine distance\n",
    "\n",
    "# Set number of matches to return\n",
    "k = 10\n",
    "\n",
    "# Loop over distance 2D-array to return list of matching organics indices\n",
    "idx_match = []\n",
    "dist_match = []\n",
    "for col in cos_dist.T:\n",
    "    # Find indices of k-smallest distances\n",
    "    matches = np.argsort(col)[:k]\n",
    "    idx_match.extend(matches)\n",
    "    dist_match.extend(col[matches])\n",
    "    \n",
    "# Create array for which ENM group augmented data belongs to\n",
    "match_group = np.repeat(y_enm.index.values, k)\n",
    "\n",
    "print('idx_match shape: ', len(idx_match))\n",
    "print('dist_match shape: ', len(dist_match))\n",
    "print('match_group shape: ', len(match_group))"
   ]
  },
  {
   "cell_type": "code",
   "execution_count": 23,
   "metadata": {
    "ExecuteTime": {
     "end_time": "2019-07-20T01:01:11.324279Z",
     "start_time": "2019-07-20T01:01:11.309991Z"
    }
   },
   "outputs": [
    {
     "data": {
      "text/html": [
       "<div>\n",
       "<style scoped>\n",
       "    .dataframe tbody tr th:only-of-type {\n",
       "        vertical-align: middle;\n",
       "    }\n",
       "\n",
       "    .dataframe tbody tr th {\n",
       "        vertical-align: top;\n",
       "    }\n",
       "\n",
       "    .dataframe thead th {\n",
       "        text-align: right;\n",
       "    }\n",
       "</style>\n",
       "<table border=\"1\" class=\"dataframe\">\n",
       "  <thead>\n",
       "    <tr style=\"text-align: right;\">\n",
       "      <th></th>\n",
       "      <th>organic_idx</th>\n",
       "      <th>cos_dist</th>\n",
       "    </tr>\n",
       "  </thead>\n",
       "  <tbody>\n",
       "    <tr>\n",
       "      <th>0</th>\n",
       "      <td>15315</td>\n",
       "      <td>0.204226</td>\n",
       "    </tr>\n",
       "    <tr>\n",
       "      <th>0</th>\n",
       "      <td>15322</td>\n",
       "      <td>0.204226</td>\n",
       "    </tr>\n",
       "    <tr>\n",
       "      <th>0</th>\n",
       "      <td>11243</td>\n",
       "      <td>0.270761</td>\n",
       "    </tr>\n",
       "    <tr>\n",
       "      <th>0</th>\n",
       "      <td>15327</td>\n",
       "      <td>0.283593</td>\n",
       "    </tr>\n",
       "    <tr>\n",
       "      <th>0</th>\n",
       "      <td>15326</td>\n",
       "      <td>0.283593</td>\n",
       "    </tr>\n",
       "    <tr>\n",
       "      <th>0</th>\n",
       "      <td>15318</td>\n",
       "      <td>0.283593</td>\n",
       "    </tr>\n",
       "    <tr>\n",
       "      <th>0</th>\n",
       "      <td>15320</td>\n",
       "      <td>0.283593</td>\n",
       "    </tr>\n",
       "    <tr>\n",
       "      <th>0</th>\n",
       "      <td>15321</td>\n",
       "      <td>0.283593</td>\n",
       "    </tr>\n",
       "    <tr>\n",
       "      <th>0</th>\n",
       "      <td>13805</td>\n",
       "      <td>0.287353</td>\n",
       "    </tr>\n",
       "    <tr>\n",
       "      <th>0</th>\n",
       "      <td>13798</td>\n",
       "      <td>0.287353</td>\n",
       "    </tr>\n",
       "    <tr>\n",
       "      <th>1</th>\n",
       "      <td>6333</td>\n",
       "      <td>0.178588</td>\n",
       "    </tr>\n",
       "    <tr>\n",
       "      <th>1</th>\n",
       "      <td>6349</td>\n",
       "      <td>0.178588</td>\n",
       "    </tr>\n",
       "    <tr>\n",
       "      <th>1</th>\n",
       "      <td>5317</td>\n",
       "      <td>0.185708</td>\n",
       "    </tr>\n",
       "    <tr>\n",
       "      <th>1</th>\n",
       "      <td>5459</td>\n",
       "      <td>0.185708</td>\n",
       "    </tr>\n",
       "    <tr>\n",
       "      <th>1</th>\n",
       "      <td>5284</td>\n",
       "      <td>0.185708</td>\n",
       "    </tr>\n",
       "    <tr>\n",
       "      <th>1</th>\n",
       "      <td>5504</td>\n",
       "      <td>0.185708</td>\n",
       "    </tr>\n",
       "    <tr>\n",
       "      <th>1</th>\n",
       "      <td>5454</td>\n",
       "      <td>0.185708</td>\n",
       "    </tr>\n",
       "    <tr>\n",
       "      <th>1</th>\n",
       "      <td>5452</td>\n",
       "      <td>0.185708</td>\n",
       "    </tr>\n",
       "    <tr>\n",
       "      <th>1</th>\n",
       "      <td>6341</td>\n",
       "      <td>0.210082</td>\n",
       "    </tr>\n",
       "    <tr>\n",
       "      <th>1</th>\n",
       "      <td>6330</td>\n",
       "      <td>0.210082</td>\n",
       "    </tr>\n",
       "  </tbody>\n",
       "</table>\n",
       "</div>"
      ],
      "text/plain": [
       "   organic_idx  cos_dist\n",
       "0        15315  0.204226\n",
       "0        15322  0.204226\n",
       "0        11243  0.270761\n",
       "0        15327  0.283593\n",
       "0        15326  0.283593\n",
       "0        15318  0.283593\n",
       "0        15320  0.283593\n",
       "0        15321  0.283593\n",
       "0        13805  0.287353\n",
       "0        13798  0.287353\n",
       "1         6333  0.178588\n",
       "1         6349  0.178588\n",
       "1         5317  0.185708\n",
       "1         5459  0.185708\n",
       "1         5284  0.185708\n",
       "1         5504  0.185708\n",
       "1         5454  0.185708\n",
       "1         5452  0.185708\n",
       "1         6341  0.210082\n",
       "1         6330  0.210082"
      ]
     },
     "execution_count": 23,
     "metadata": {},
     "output_type": "execute_result"
    }
   ],
   "source": [
    "# Abbreviated table of matching organics indices and their cosine distance from an ENM tuple\n",
    "match_table = pd.DataFrame({\n",
    "    'organic_idx': idx_match, \n",
    "    'cos_dist': dist_match}, index=match_group)\n",
    "match_table.head(20)"
   ]
  },
  {
   "cell_type": "code",
   "execution_count": 24,
   "metadata": {
    "ExecuteTime": {
     "end_time": "2019-07-20T01:01:11.504186Z",
     "start_time": "2019-07-20T01:01:11.474037Z"
    }
   },
   "outputs": [
    {
     "name": "stdout",
     "output_type": "stream",
     "text": [
      "idx_match shape:  820\n",
      "dist_match shape:  820\n",
      "match_group shape:  820\n"
     ]
    }
   ],
   "source": [
    "# Write loop to match k most similar organics examples \n",
    "# to ENM examples based on smallest cosine distance\n",
    "\n",
    "# Set number of matches to return\n",
    "k = 10\n",
    "# Loop over distance 2D-array to return list of matching organics indices\n",
    "idx_match = []\n",
    "dist_match = []    \n",
    "for col in cos_dist.T:\n",
    "    # Find organics data indices of k-smallest distances\n",
    "    matches = np.argpartition(col, k)[:k]\n",
    "    idx_match.extend(matches)\n",
    "    dist_match.extend(col[matches])\n",
    "# Create array for which ENM group augmented data belongs to\n",
    "match_group = np.repeat(y_enm.index.values, k)\n",
    "\n",
    "print('idx_match shape: ', len(idx_match))\n",
    "print('dist_match shape: ', len(dist_match))\n",
    "print('match_group shape: ', len(match_group))"
   ]
  },
  {
   "cell_type": "code",
   "execution_count": 25,
   "metadata": {
    "ExecuteTime": {
     "end_time": "2019-07-20T01:01:11.643590Z",
     "start_time": "2019-07-20T01:01:11.633560Z"
    }
   },
   "outputs": [
    {
     "data": {
      "text/html": [
       "<div>\n",
       "<style scoped>\n",
       "    .dataframe tbody tr th:only-of-type {\n",
       "        vertical-align: middle;\n",
       "    }\n",
       "\n",
       "    .dataframe tbody tr th {\n",
       "        vertical-align: top;\n",
       "    }\n",
       "\n",
       "    .dataframe thead th {\n",
       "        text-align: right;\n",
       "    }\n",
       "</style>\n",
       "<table border=\"1\" class=\"dataframe\">\n",
       "  <thead>\n",
       "    <tr style=\"text-align: right;\">\n",
       "      <th></th>\n",
       "      <th>organic_idx</th>\n",
       "      <th>cos_dist</th>\n",
       "    </tr>\n",
       "  </thead>\n",
       "  <tbody>\n",
       "    <tr>\n",
       "      <th>0</th>\n",
       "      <td>15327</td>\n",
       "      <td>0.283593</td>\n",
       "    </tr>\n",
       "    <tr>\n",
       "      <th>0</th>\n",
       "      <td>15322</td>\n",
       "      <td>0.204226</td>\n",
       "    </tr>\n",
       "    <tr>\n",
       "      <th>0</th>\n",
       "      <td>13805</td>\n",
       "      <td>0.287353</td>\n",
       "    </tr>\n",
       "    <tr>\n",
       "      <th>0</th>\n",
       "      <td>15315</td>\n",
       "      <td>0.204226</td>\n",
       "    </tr>\n",
       "    <tr>\n",
       "      <th>0</th>\n",
       "      <td>15318</td>\n",
       "      <td>0.283593</td>\n",
       "    </tr>\n",
       "    <tr>\n",
       "      <th>0</th>\n",
       "      <td>15320</td>\n",
       "      <td>0.283593</td>\n",
       "    </tr>\n",
       "    <tr>\n",
       "      <th>0</th>\n",
       "      <td>15321</td>\n",
       "      <td>0.283593</td>\n",
       "    </tr>\n",
       "    <tr>\n",
       "      <th>0</th>\n",
       "      <td>11243</td>\n",
       "      <td>0.270761</td>\n",
       "    </tr>\n",
       "    <tr>\n",
       "      <th>0</th>\n",
       "      <td>15326</td>\n",
       "      <td>0.283593</td>\n",
       "    </tr>\n",
       "    <tr>\n",
       "      <th>0</th>\n",
       "      <td>13800</td>\n",
       "      <td>0.287353</td>\n",
       "    </tr>\n",
       "    <tr>\n",
       "      <th>1</th>\n",
       "      <td>5454</td>\n",
       "      <td>0.185708</td>\n",
       "    </tr>\n",
       "    <tr>\n",
       "      <th>1</th>\n",
       "      <td>6349</td>\n",
       "      <td>0.178588</td>\n",
       "    </tr>\n",
       "    <tr>\n",
       "      <th>1</th>\n",
       "      <td>5317</td>\n",
       "      <td>0.185708</td>\n",
       "    </tr>\n",
       "    <tr>\n",
       "      <th>1</th>\n",
       "      <td>5284</td>\n",
       "      <td>0.185708</td>\n",
       "    </tr>\n",
       "    <tr>\n",
       "      <th>1</th>\n",
       "      <td>5452</td>\n",
       "      <td>0.185708</td>\n",
       "    </tr>\n",
       "    <tr>\n",
       "      <th>1</th>\n",
       "      <td>6341</td>\n",
       "      <td>0.210082</td>\n",
       "    </tr>\n",
       "    <tr>\n",
       "      <th>1</th>\n",
       "      <td>5504</td>\n",
       "      <td>0.185708</td>\n",
       "    </tr>\n",
       "    <tr>\n",
       "      <th>1</th>\n",
       "      <td>5459</td>\n",
       "      <td>0.185708</td>\n",
       "    </tr>\n",
       "    <tr>\n",
       "      <th>1</th>\n",
       "      <td>6333</td>\n",
       "      <td>0.178588</td>\n",
       "    </tr>\n",
       "    <tr>\n",
       "      <th>1</th>\n",
       "      <td>6330</td>\n",
       "      <td>0.210082</td>\n",
       "    </tr>\n",
       "  </tbody>\n",
       "</table>\n",
       "</div>"
      ],
      "text/plain": [
       "   organic_idx  cos_dist\n",
       "0        15327  0.283593\n",
       "0        15322  0.204226\n",
       "0        13805  0.287353\n",
       "0        15315  0.204226\n",
       "0        15318  0.283593\n",
       "0        15320  0.283593\n",
       "0        15321  0.283593\n",
       "0        11243  0.270761\n",
       "0        15326  0.283593\n",
       "0        13800  0.287353\n",
       "1         5454  0.185708\n",
       "1         6349  0.178588\n",
       "1         5317  0.185708\n",
       "1         5284  0.185708\n",
       "1         5452  0.185708\n",
       "1         6341  0.210082\n",
       "1         5504  0.185708\n",
       "1         5459  0.185708\n",
       "1         6333  0.178588\n",
       "1         6330  0.210082"
      ]
     },
     "execution_count": 25,
     "metadata": {},
     "output_type": "execute_result"
    }
   ],
   "source": [
    "# Abbreviated table of matching organics indices and their cosine distance from an ENM tuple\n",
    "match_table2 = pd.DataFrame({\n",
    "    'organic_idx': idx_match, \n",
    "    'cos_dist': dist_match}, index=match_group)\n",
    "match_table2.head(20)"
   ]
  },
  {
   "cell_type": "code",
   "execution_count": 26,
   "metadata": {
    "ExecuteTime": {
     "end_time": "2019-07-20T01:01:11.790779Z",
     "start_time": "2019-07-20T01:01:11.784976Z"
    }
   },
   "outputs": [
    {
     "name": "stdout",
     "output_type": "stream",
     "text": [
      "mean 0.20416574747908728\n",
      "min 0.042195974347876364\n",
      "max 0.4993616599381635\n"
     ]
    }
   ],
   "source": [
    "# Summary statistics for argpartition\n",
    "print('mean', match_table['cos_dist'].mean())\n",
    "print('min', match_table['cos_dist'].min())\n",
    "print('max', match_table['cos_dist'].max())"
   ]
  },
  {
   "cell_type": "code",
   "execution_count": 27,
   "metadata": {
    "ExecuteTime": {
     "end_time": "2019-07-20T01:01:11.935789Z",
     "start_time": "2019-07-20T01:01:11.926605Z"
    }
   },
   "outputs": [
    {
     "name": "stdout",
     "output_type": "stream",
     "text": [
      "mean 0.20416574747908728\n",
      "min 0.042195974347876364\n",
      "max 0.4993616599381635\n"
     ]
    }
   ],
   "source": [
    "# Summary statistics for argsort\n",
    "print('mean', match_table2['cos_dist'].mean())\n",
    "print('min', match_table2['cos_dist'].min())\n",
    "print('max', match_table2['cos_dist'].max())"
   ]
  },
  {
   "cell_type": "code",
   "execution_count": 28,
   "metadata": {
    "ExecuteTime": {
     "end_time": "2019-07-20T01:01:12.082860Z",
     "start_time": "2019-07-20T01:01:12.075276Z"
    }
   },
   "outputs": [
    {
     "name": "stdout",
     "output_type": "stream",
     "text": [
      "False\n"
     ]
    }
   ],
   "source": [
    "are_equal(match_table, match_table2)"
   ]
  },
  {
   "cell_type": "markdown",
   "metadata": {},
   "source": [
    "Both sorting approaches result in the same performance statistics, but the tables are not identical. This is because argpartition does not sort the distances before making the cutoff at k samples--a result that is evident in the match_table output. So if a lot of samples around the cutoff line have the same cosine distance, argpartition may have not picked a sample that argsort did because of the difference in sample order.\n",
    "\n",
    "Because performance is effectively the same, we chose the less computationally intensive approach--argpartition."
   ]
  },
  {
   "cell_type": "code",
   "execution_count": 29,
   "metadata": {
    "ExecuteTime": {
     "end_time": "2019-07-20T01:01:12.422422Z",
     "start_time": "2019-07-20T01:01:12.391328Z"
    }
   },
   "outputs": [
    {
     "name": "stdout",
     "output_type": "stream",
     "text": [
      "(902, 38)\n",
      "902\n",
      "902\n"
     ]
    }
   ],
   "source": [
    "# Create X and y dataframes of matches using the generated index list\n",
    "X_samples = X_source.iloc[idx_match,:]\n",
    "bin_samples = y_source.iloc[idx_match].apply(blt.bins, axis=1)\n",
    "\n",
    "# Append sampled organics data to ENM data\n",
    "X_matchk10 = pd.concat([X_enm, X_samples], sort=False)\n",
    "bin_matchk10 = np.concatenate([bin_enm, bin_samples])\n",
    "\n",
    "# Apply wf bins\n",
    "#bin_matchk10 = y_matchk10.apply(blt.bins, axis=1)\n",
    "\n",
    "# Create NEW array for which ENM group augmented data belongs to\n",
    "# (accounts for concatenation)\n",
    "match_group = np.repeat(y_enm.index.values, k+1)\n",
    "\n",
    "print(X_matchk10.shape)\n",
    "print(len(bin_matchk10))\n",
    "print(len(match_group))"
   ]
  },
  {
   "cell_type": "markdown",
   "metadata": {},
   "source": [
    "#### Test data frames"
   ]
  },
  {
   "cell_type": "code",
   "execution_count": 30,
   "metadata": {
    "ExecuteTime": {
     "end_time": "2019-07-20T01:01:12.805293Z",
     "start_time": "2019-07-20T01:01:12.742232Z"
    }
   },
   "outputs": [],
   "source": [
    "# Apply new function with same conditions\n",
    "X_test, bin_test = blt.augment(aug_type='uns_match', \n",
    "                               k=10, \n",
    "                               X_enm_train=X_enm, \n",
    "                               bin_enm_train=bin_enm, \n",
    "                               random_state=31)"
   ]
  },
  {
   "cell_type": "code",
   "execution_count": 31,
   "metadata": {
    "ExecuteTime": {
     "end_time": "2019-07-20T01:01:12.909555Z",
     "start_time": "2019-07-20T01:01:12.903011Z"
    }
   },
   "outputs": [
    {
     "name": "stdout",
     "output_type": "stream",
     "text": [
      "True\n",
      "True\n"
     ]
    }
   ],
   "source": [
    "are_equal(X_test, X_matchk10)\n",
    "are_equal(bin_test, bin_matchk10)"
   ]
  },
  {
   "cell_type": "markdown",
   "metadata": {},
   "source": [
    "### Supervised augmentation"
   ]
  },
  {
   "cell_type": "markdown",
   "metadata": {},
   "source": [
    "In supervised augmentation, we match \"k\" most similar organics samples to each ENM sample based on the smallest average of cosine distance between samples and distance between WF labels (i.e., in an supervised fashion)."
   ]
  },
  {
   "cell_type": "markdown",
   "metadata": {},
   "source": [
    "#### Distance matrix for control data frame"
   ]
  },
  {
   "cell_type": "markdown",
   "metadata": {},
   "source": [
    "We resume where we left off with the cosine distance matrix from unsupervised augmentation and average that with a new matrix constructed below."
   ]
  },
  {
   "cell_type": "code",
   "execution_count": 32,
   "metadata": {
    "ExecuteTime": {
     "end_time": "2019-07-20T01:01:13.736816Z",
     "start_time": "2019-07-20T01:01:13.730306Z"
    }
   },
   "outputs": [
    {
     "name": "stdout",
     "output_type": "stream",
     "text": [
      "(16354, 82)\n"
     ]
    }
   ],
   "source": [
    "# Turn 1D ENM WF label array into 2D array\n",
    "bin_enm_2d = np.tile(bin_enm, (len(bin_source), 1))\n",
    "print(bin_enm_2d.shape)"
   ]
  },
  {
   "cell_type": "code",
   "execution_count": 33,
   "metadata": {
    "ExecuteTime": {
     "end_time": "2019-07-20T01:01:13.902370Z",
     "start_time": "2019-07-20T01:01:13.893751Z"
    }
   },
   "outputs": [
    {
     "data": {
      "text/plain": [
       "array([2, 0, 1, 1, 0, 1, 1, 1, 0, 0])"
      ]
     },
     "execution_count": 33,
     "metadata": {},
     "output_type": "execute_result"
    }
   ],
   "source": [
    "# Check what first few ENM WF labels look like for reference\n",
    "bin_enm[:10]"
   ]
  },
  {
   "cell_type": "code",
   "execution_count": 34,
   "metadata": {
    "ExecuteTime": {
     "end_time": "2019-07-20T01:01:14.083101Z",
     "start_time": "2019-07-20T01:01:14.074443Z"
    }
   },
   "outputs": [
    {
     "data": {
      "text/plain": [
       "array([[2, 0, 1, 1, 0, 1, 1, 1, 0, 0],\n",
       "       [2, 0, 1, 1, 0, 1, 1, 1, 0, 0],\n",
       "       [2, 0, 1, 1, 0, 1, 1, 1, 0, 0],\n",
       "       [2, 0, 1, 1, 0, 1, 1, 1, 0, 0],\n",
       "       [2, 0, 1, 1, 0, 1, 1, 1, 0, 0],\n",
       "       [2, 0, 1, 1, 0, 1, 1, 1, 0, 0],\n",
       "       [2, 0, 1, 1, 0, 1, 1, 1, 0, 0],\n",
       "       [2, 0, 1, 1, 0, 1, 1, 1, 0, 0],\n",
       "       [2, 0, 1, 1, 0, 1, 1, 1, 0, 0],\n",
       "       [2, 0, 1, 1, 0, 1, 1, 1, 0, 0]])"
      ]
     },
     "execution_count": 34,
     "metadata": {},
     "output_type": "execute_result"
    }
   ],
   "source": [
    "# Compare with segment of 2D array\n",
    "bin_enm_2d[:10,:10]"
   ]
  },
  {
   "cell_type": "code",
   "execution_count": 35,
   "metadata": {
    "ExecuteTime": {
     "end_time": "2019-07-20T01:01:14.243078Z",
     "start_time": "2019-07-20T01:01:14.233087Z"
    }
   },
   "outputs": [
    {
     "name": "stdout",
     "output_type": "stream",
     "text": [
      "(16354, 82)\n"
     ]
    }
   ],
   "source": [
    "# Turn 1D organics WF label array into 2D array\n",
    "bin_source_2d = np.tile(bin_source, \n",
    "                        (len(bin_enm), 1)).transpose()   # note transpose\n",
    "print(bin_source_2d.shape)"
   ]
  },
  {
   "cell_type": "code",
   "execution_count": 36,
   "metadata": {
    "ExecuteTime": {
     "end_time": "2019-07-20T01:01:14.411610Z",
     "start_time": "2019-07-20T01:01:14.406354Z"
    }
   },
   "outputs": [
    {
     "data": {
      "text/plain": [
       "array([1, 1, 1, 1, 1, 1, 1, 1, 2, 1])"
      ]
     },
     "execution_count": 36,
     "metadata": {},
     "output_type": "execute_result"
    }
   ],
   "source": [
    "# Check what first few organics WF labels look like for reference\n",
    "bin_source[:10]"
   ]
  },
  {
   "cell_type": "code",
   "execution_count": 37,
   "metadata": {
    "ExecuteTime": {
     "end_time": "2019-07-20T01:01:14.567922Z",
     "start_time": "2019-07-20T01:01:14.558936Z"
    }
   },
   "outputs": [
    {
     "data": {
      "text/plain": [
       "array([[1, 1, 1, 1, 1, 1, 1, 1, 1, 1],\n",
       "       [1, 1, 1, 1, 1, 1, 1, 1, 1, 1],\n",
       "       [1, 1, 1, 1, 1, 1, 1, 1, 1, 1],\n",
       "       [1, 1, 1, 1, 1, 1, 1, 1, 1, 1],\n",
       "       [1, 1, 1, 1, 1, 1, 1, 1, 1, 1],\n",
       "       [1, 1, 1, 1, 1, 1, 1, 1, 1, 1],\n",
       "       [1, 1, 1, 1, 1, 1, 1, 1, 1, 1],\n",
       "       [1, 1, 1, 1, 1, 1, 1, 1, 1, 1],\n",
       "       [2, 2, 2, 2, 2, 2, 2, 2, 2, 2],\n",
       "       [1, 1, 1, 1, 1, 1, 1, 1, 1, 1]])"
      ]
     },
     "execution_count": 37,
     "metadata": {},
     "output_type": "execute_result"
    }
   ],
   "source": [
    "# Compare with segment of 2D array\n",
    "bin_source_2d[:10,:10]"
   ]
  },
  {
   "cell_type": "code",
   "execution_count": 38,
   "metadata": {
    "ExecuteTime": {
     "end_time": "2019-07-20T01:01:14.766441Z",
     "start_time": "2019-07-20T01:01:14.739533Z"
    }
   },
   "outputs": [
    {
     "data": {
      "text/plain": [
       "array([[1, 1, 0, 0, 1, 0, 0, 0, 1, 1],\n",
       "       [1, 1, 0, 0, 1, 0, 0, 0, 1, 1],\n",
       "       [1, 1, 0, 0, 1, 0, 0, 0, 1, 1],\n",
       "       [1, 1, 0, 0, 1, 0, 0, 0, 1, 1],\n",
       "       [1, 1, 0, 0, 1, 0, 0, 0, 1, 1],\n",
       "       [1, 1, 0, 0, 1, 0, 0, 0, 1, 1],\n",
       "       [1, 1, 0, 0, 1, 0, 0, 0, 1, 1],\n",
       "       [1, 1, 0, 0, 1, 0, 0, 0, 1, 1],\n",
       "       [0, 2, 1, 1, 2, 1, 1, 1, 2, 2],\n",
       "       [1, 1, 0, 0, 1, 0, 0, 0, 1, 1]])"
      ]
     },
     "execution_count": 38,
     "metadata": {},
     "output_type": "execute_result"
    }
   ],
   "source": [
    "# Check what the difference between a segment of the matrices looks like\n",
    "np.abs(bin_enm_2d - bin_source_2d)[:10,:10]"
   ]
  },
  {
   "cell_type": "code",
   "execution_count": 39,
   "metadata": {
    "ExecuteTime": {
     "end_time": "2019-07-20T01:01:14.939136Z",
     "start_time": "2019-07-20T01:01:14.896347Z"
    }
   },
   "outputs": [
    {
     "name": "stdout",
     "output_type": "stream",
     "text": [
      "(16354, 82)\n"
     ]
    },
    {
     "data": {
      "text/plain": [
       "array([[0.5, 0.5, 0. , 0. , 0.5, 0. , 0. , 0. , 0.5, 0.5],\n",
       "       [0.5, 0.5, 0. , 0. , 0.5, 0. , 0. , 0. , 0.5, 0.5],\n",
       "       [0.5, 0.5, 0. , 0. , 0.5, 0. , 0. , 0. , 0.5, 0.5],\n",
       "       [0.5, 0.5, 0. , 0. , 0.5, 0. , 0. , 0. , 0.5, 0.5],\n",
       "       [0.5, 0.5, 0. , 0. , 0.5, 0. , 0. , 0. , 0.5, 0.5],\n",
       "       [0.5, 0.5, 0. , 0. , 0.5, 0. , 0. , 0. , 0.5, 0.5],\n",
       "       [0.5, 0.5, 0. , 0. , 0.5, 0. , 0. , 0. , 0.5, 0.5],\n",
       "       [0.5, 0.5, 0. , 0. , 0.5, 0. , 0. , 0. , 0.5, 0.5],\n",
       "       [0. , 1. , 1. , 1. , 1. , 1. , 1. , 1. , 1. , 1. ],\n",
       "       [0.5, 0.5, 0. , 0. , 0.5, 0. , 0. , 0. , 0.5, 0.5]])"
      ]
     },
     "execution_count": 39,
     "metadata": {},
     "output_type": "execute_result"
    }
   ],
   "source": [
    "# Calculate NORMALIZED distance between ENM and organics labels\n",
    "dist_labels = scaler.fit_transform(\n",
    "    np.abs(bin_enm_2d - bin_source_2d).astype(float))\n",
    "print(dist_labels.shape)\n",
    "dist_labels[:10,:10]"
   ]
  },
  {
   "cell_type": "code",
   "execution_count": 40,
   "metadata": {
    "ExecuteTime": {
     "end_time": "2019-07-20T01:01:15.093330Z",
     "start_time": "2019-07-20T01:01:15.087150Z"
    }
   },
   "outputs": [
    {
     "name": "stdout",
     "output_type": "stream",
     "text": [
      "(16354, 82)\n",
      "[[0.6  0.73 0.68 0.73 0.73 0.96 0.96 0.69 0.69 0.69]\n",
      " [0.6  0.73 0.68 0.73 0.73 0.96 0.96 0.69 0.69 0.69]\n",
      " [0.42 0.8  0.77 0.8  0.8  0.74 0.74 0.77 0.77 0.77]\n",
      " [0.42 0.8  0.77 0.8  0.8  0.74 0.74 0.77 0.77 0.77]\n",
      " [0.42 0.8  0.77 0.8  0.8  0.74 0.74 0.77 0.77 0.77]\n",
      " [0.6  0.73 0.68 0.73 0.73 0.96 0.96 0.69 0.69 0.69]\n",
      " [0.6  0.73 0.68 0.73 0.73 0.96 0.96 0.69 0.69 0.69]\n",
      " [0.42 0.8  0.77 0.8  0.8  0.74 0.74 0.77 0.77 0.77]\n",
      " [0.64 0.75 0.71 0.75 0.75 0.97 0.97 0.72 0.72 0.72]\n",
      " [0.42 0.8  0.77 0.8  0.8  0.74 0.74 0.77 0.77 0.77]]\n"
     ]
    }
   ],
   "source": [
    "# Look at segment of cosine distance matrix for reference\n",
    "print(cos_dist.shape)\n",
    "print(np.around(cos_dist[:10,:10],2))"
   ]
  },
  {
   "cell_type": "code",
   "execution_count": 41,
   "metadata": {
    "ExecuteTime": {
     "end_time": "2019-07-20T01:01:15.274509Z",
     "start_time": "2019-07-20T01:01:15.267177Z"
    }
   },
   "outputs": [],
   "source": [
    "# Average the distances of the features and labels\n",
    "dist_matrix = (cos_dist + dist_labels) / 2"
   ]
  },
  {
   "cell_type": "code",
   "execution_count": 42,
   "metadata": {
    "ExecuteTime": {
     "end_time": "2019-07-20T01:01:15.463134Z",
     "start_time": "2019-07-20T01:01:15.454662Z"
    }
   },
   "outputs": [
    {
     "name": "stdout",
     "output_type": "stream",
     "text": [
      "(16354, 82)\n",
      "[[0.55 0.61 0.34 0.36 0.61 0.48 0.48 0.35 0.6  0.6 ]\n",
      " [0.55 0.61 0.34 0.36 0.61 0.48 0.48 0.35 0.6  0.6 ]\n",
      " [0.46 0.65 0.38 0.4  0.65 0.37 0.37 0.39 0.64 0.64]\n",
      " [0.46 0.65 0.38 0.4  0.65 0.37 0.37 0.39 0.64 0.64]\n",
      " [0.46 0.65 0.38 0.4  0.65 0.37 0.37 0.39 0.64 0.64]\n",
      " [0.55 0.61 0.34 0.36 0.61 0.48 0.48 0.35 0.6  0.6 ]\n",
      " [0.55 0.61 0.34 0.36 0.61 0.48 0.48 0.35 0.6  0.6 ]\n",
      " [0.46 0.65 0.38 0.4  0.65 0.37 0.37 0.39 0.64 0.64]\n",
      " [0.32 0.88 0.86 0.88 0.88 0.98 0.98 0.86 0.86 0.86]\n",
      " [0.46 0.65 0.38 0.4  0.65 0.37 0.37 0.39 0.64 0.64]]\n"
     ]
    }
   ],
   "source": [
    "# Look at segment of averaged distance matrix\n",
    "print(dist_matrix.shape)\n",
    "print(np.around(dist_matrix[:10,:10],2))"
   ]
  },
  {
   "cell_type": "markdown",
   "metadata": {},
   "source": [
    "#### Control data frames"
   ]
  },
  {
   "cell_type": "code",
   "execution_count": 43,
   "metadata": {
    "ExecuteTime": {
     "end_time": "2019-07-20T01:01:15.823134Z",
     "start_time": "2019-07-20T01:01:15.798282Z"
    }
   },
   "outputs": [
    {
     "name": "stdout",
     "output_type": "stream",
     "text": [
      "idx_match shape:  820\n",
      "dist_match shape:  820\n",
      "match_group shape:  820\n"
     ]
    }
   ],
   "source": [
    "# Write loop to match k most similar organics examples \n",
    "# to ENM examples based on smallest cosine distance\n",
    "\n",
    "# Set number of matches to return\n",
    "k = 10\n",
    "# Loop over distance 2D-array to return list of matching organics indices\n",
    "idx_match = []\n",
    "dist_match = []    \n",
    "for col in dist_matrix.T:\n",
    "    # Find organics data indices of k-smallest distances\n",
    "    matches = np.argpartition(col, k)[:k]\n",
    "    idx_match.extend(matches)\n",
    "    dist_match.extend(col[matches])\n",
    "# Create array for which ENM group augmented data belongs to\n",
    "match_group = np.repeat(X_enm.index.values, k)\n",
    "\n",
    "print('idx_match shape: ', len(idx_match))\n",
    "print('dist_match shape: ', len(dist_match))\n",
    "print('match_group shape: ', len(match_group))"
   ]
  },
  {
   "cell_type": "code",
   "execution_count": 44,
   "metadata": {
    "ExecuteTime": {
     "end_time": "2019-07-20T01:01:15.987383Z",
     "start_time": "2019-07-20T01:01:15.959180Z"
    }
   },
   "outputs": [
    {
     "name": "stdout",
     "output_type": "stream",
     "text": [
      "(902, 38)\n",
      "902\n",
      "902\n"
     ]
    }
   ],
   "source": [
    "# Create X and y dataframes of matches using the generated index list\n",
    "X_samples = X_source.iloc[idx_match,:]\n",
    "bin_samples = y_source.iloc[idx_match].apply(blt.bins, axis=1)\n",
    "\n",
    "# Append sampled organics data to ENM data\n",
    "X_matchk10 = pd.concat([X_enm, X_samples], sort=False)\n",
    "bin_matchk10 = np.concatenate((bin_enm, bin_samples))\n",
    "\n",
    "# Create NEW array for which ENM group augmented data belongs to\n",
    "# (accounts for concatenation)\n",
    "match_group = np.concatenate((X_enm.index.values, match_group))\n",
    "\n",
    "print(X_matchk10.shape)\n",
    "print(len(bin_matchk10))\n",
    "print(len(match_group))"
   ]
  },
  {
   "cell_type": "markdown",
   "metadata": {},
   "source": [
    "#### Test data frames"
   ]
  },
  {
   "cell_type": "code",
   "execution_count": 45,
   "metadata": {
    "ExecuteTime": {
     "end_time": "2019-07-20T01:01:16.403774Z",
     "start_time": "2019-07-20T01:01:16.303849Z"
    }
   },
   "outputs": [],
   "source": [
    "# Apply new function with same conditions\n",
    "X_test, bin_test = blt.augment(aug_type='sup_match', \n",
    "                               k=10, \n",
    "                               X_enm_train=X_enm, \n",
    "                               bin_enm_train=bin_enm, \n",
    "                               random_state=31)"
   ]
  },
  {
   "cell_type": "code",
   "execution_count": 46,
   "metadata": {
    "ExecuteTime": {
     "end_time": "2019-07-20T01:01:16.490658Z",
     "start_time": "2019-07-20T01:01:16.484892Z"
    }
   },
   "outputs": [
    {
     "name": "stdout",
     "output_type": "stream",
     "text": [
      "True\n",
      "True\n"
     ]
    }
   ],
   "source": [
    "are_equal(X_test, X_matchk10)\n",
    "are_equal(bin_test, bin_matchk10)"
   ]
  },
  {
   "cell_type": "markdown",
   "metadata": {},
   "source": [
    "## model_opt_exe Function"
   ]
  },
  {
   "cell_type": "code",
   "execution_count": 8,
   "metadata": {
    "ExecuteTime": {
     "end_time": "2019-07-20T01:06:11.960784Z",
     "start_time": "2019-07-20T01:06:11.880413Z"
    }
   },
   "outputs": [],
   "source": [
    "from sklearn.pipeline import Pipeline\n",
    "from sklearn import model_selection\n",
    "from sklearn.model_selection import GridSearchCV\n",
    "from sklearn.model_selection import StratifiedKFold\n",
    "from sklearn.preprocessing import MinMaxScaler\n",
    "from sklearn.metrics.pairwise import cosine_distances\n",
    "from sklearn.svm import SVC\n",
    "from sklearn.ensemble import RandomForestClassifier\n",
    "from sklearn.metrics import confusion_matrix\n",
    "from numpy import random\n",
    "import matplotlib.pyplot as plt"
   ]
  },
  {
   "cell_type": "markdown",
   "metadata": {},
   "source": [
    "### Test Group Stratified K-fold CV"
   ]
  },
  {
   "cell_type": "code",
   "execution_count": 39,
   "metadata": {
    "ExecuteTime": {
     "end_time": "2019-07-20T05:20:36.812876Z",
     "start_time": "2019-07-20T05:20:36.660306Z"
    }
   },
   "outputs": [
    {
     "name": "stdout",
     "output_type": "stream",
     "text": [
      "aug_group:   [ 1  3  4  5  6  7  8  9 10 11 13 14 15 18 19 20 21 24 26 27 29 30 33 34\n",
      " 35 36 37 39 41 44 45 46 47 48 49 51 53 54 55 57 58 59 62 63 64 65 66 69\n",
      " 70 71 74 77 78 79  1  1  3  3  4  4  5  5  6  6  7  7  8  8  9  9 10 10\n",
      " 11 11 13 13 14 14 15 15 18 18 19 19 20 20 21 21 24 24 26 26 27 27 29 29\n",
      " 30 30 33 33 34 34 35 35 36 36 37 37 39 39 41 41 44 44 45 45 46 46 47 47\n",
      " 48 48 49 49 51 51 53 53 54 54 55 55 57 57 58 58 59 59 62 62 63 63 64 64\n",
      " 65 65 66 66 69 69 70 70 71 71 74 74 77 77 78 78 79 79]\n",
      "test_index:  [ 0  2 12 16 17 22 23 25 28 31 32 38 40 42 43 50 52 56 60 61 67 68 72 73\n",
      " 75 76 80 81]\n",
      "X_train original shape:  (54, 38)\n",
      "X_train new shape:       (162, 38)\n",
      "X_test shape:            (28, 38)\n",
      "aug_group:   [ 0  2 12 13 14 16 17 18 19 21 22 23 25 26 28 29 31 32 33 35 36 38 39 40\n",
      " 41 42 43 44 46 49 50 52 53 54 56 57 59 60 61 62 63 65 66 67 68 71 72 73\n",
      " 75 76 77 79 80 81  0  0  2  2 12 12 13 13 14 14 16 16 17 17 18 18 19 19\n",
      " 21 21 22 22 23 23 25 25 26 26 28 28 29 29 31 31 32 32 33 33 35 35 36 36\n",
      " 38 38 39 39 40 40 41 41 42 42 43 43 44 44 46 46 49 49 50 50 52 52 53 53\n",
      " 54 54 56 56 57 57 59 59 60 60 61 61 62 62 63 63 65 65 66 66 67 67 68 68\n",
      " 71 71 72 72 73 73 75 75 76 76 77 77 79 79 80 80 81 81]\n",
      "test_index:  [ 1  3  4  5  6  7  8  9 10 11 15 20 24 27 30 34 37 45 47 48 51 55 58 64\n",
      " 69 70 74 78]\n",
      "X_train original shape:  (54, 38)\n",
      "X_train new shape:       (162, 38)\n",
      "X_test shape:            (28, 38)\n",
      "aug_group:   [ 0  1  2  3  4  5  6  7  8  9 10 11 12 15 16 17 20 22 23 24 25 27 28 30\n",
      " 31 32 34 37 38 40 42 43 45 47 48 50 51 52 55 56 58 60 61 64 67 68 69 70\n",
      " 72 73 74 75 76 78 80 81  0  0  1  1  2  2  3  3  4  4  5  5  6  6  7  7\n",
      "  8  8  9  9 10 10 11 11 12 12 15 15 16 16 17 17 20 20 22 22 23 23 24 24\n",
      " 25 25 27 27 28 28 30 30 31 31 32 32 34 34 37 37 38 38 40 40 42 42 43 43\n",
      " 45 45 47 47 48 48 50 50 51 51 52 52 55 55 56 56 58 58 60 60 61 61 64 64\n",
      " 67 67 68 68 69 69 70 70 72 72 73 73 74 74 75 75 76 76 78 78 80 80 81 81]\n",
      "test_index:  [13 14 18 19 21 26 29 33 35 36 39 41 44 46 49 53 54 57 59 62 63 65 66 71\n",
      " 77 79]\n",
      "X_train original shape:  (56, 38)\n",
      "X_train new shape:       (168, 38)\n",
      "X_test shape:            (26, 38)\n"
     ]
    }
   ],
   "source": [
    "# Test StratifiedKFold CV with augmentation to see if it produces data leaks.\n",
    "aug_type='sup_match'\n",
    "k=2\n",
    "X=np.array(X_enm)\n",
    "y=bin_enm\n",
    "seed=42\n",
    "num_folds = 3\n",
    "\n",
    "skfold = StratifiedKFold(n_splits=num_folds, shuffle=True, random_state=seed)\n",
    "\n",
    "for train_index, test_index in skfold.split(X, y):\n",
    "    # Split data\n",
    "    X_train, y_train = X[train_index], y[train_index]\n",
    "    X_test, y_test = X[test_index], y[test_index]\n",
    "    # Define augmentation group to use as \"group\" for CV\n",
    "    aug_group = np.concatenate((train_index, np.repeat(train_index, k)))\n",
    "    print(\"aug_group:  \", aug_group)\n",
    "    print(\"test_index: \", test_index)\n",
    "    # Apply data augmentation (if applicable) using external function after\n",
    "    # data split to prevent data leakage\n",
    "    if not (aug_type=='none' or k==0): \n",
    "        X_train, y_train = blt.augment(aug_type, \n",
    "                                       k, \n",
    "                                       X_train, \n",
    "                                       y_train, \n",
    "                                       random_state=seed)\n",
    "    print(\"X_train original shape: \", (len(train_index), X_train.shape[1]))\n",
    "    print(\"X_train new shape:      \", X_train.shape)\n",
    "    print(\"X_test shape:           \", X_test.shape)\n",
    "    \n",
    "    # ===Test for data leaks===\n",
    "    leaks = []     # indices of training samples that leaked\n",
    "    for count, value in enumerate(aug_group):\n",
    "        #print([value, np.ndarray.round(X_train[:,:5], decimals=2)])\n",
    "        if value in test_index:\n",
    "            leaks.extend([count, np.where(value in test_index, value, None)])"
   ]
  },
  {
   "cell_type": "code",
   "execution_count": 40,
   "metadata": {
    "ExecuteTime": {
     "end_time": "2019-07-20T05:20:58.413440Z",
     "start_time": "2019-07-20T05:20:58.407140Z"
    }
   },
   "outputs": [
    {
     "name": "stdout",
     "output_type": "stream",
     "text": [
      "No data leaks.\n"
     ]
    }
   ],
   "source": [
    "# Report results of data leakage test.\n",
    "if leaks == []: print(\"No data leaks.\")\n",
    "else: leaks"
   ]
  },
  {
   "cell_type": "markdown",
   "metadata": {},
   "source": [
    "### Unpack param_grid"
   ]
  },
  {
   "cell_type": "code",
   "execution_count": 139,
   "metadata": {
    "ExecuteTime": {
     "end_time": "2019-07-20T11:38:22.662008Z",
     "start_time": "2019-07-20T11:38:22.657750Z"
    }
   },
   "outputs": [],
   "source": [
    "param_grid = {'estimator__C': np.logspace(-1,9,11), \n",
    "              'estimator__gamma': np.logspace(-5,1,7)\n",
    "             }"
   ]
  },
  {
   "cell_type": "code",
   "execution_count": 140,
   "metadata": {
    "ExecuteTime": {
     "end_time": "2019-07-20T11:38:23.327344Z",
     "start_time": "2019-07-20T11:38:23.320257Z"
    }
   },
   "outputs": [
    {
     "data": {
      "text/plain": [
       "{'C': array([1.e-01, 1.e+00, 1.e+01, 1.e+02, 1.e+03, 1.e+04, 1.e+05, 1.e+06,\n",
       "        1.e+07, 1.e+08, 1.e+09]),\n",
       " 'gamma': array([1.e-05, 1.e-04, 1.e-03, 1.e-02, 1.e-01, 1.e+00, 1.e+01])}"
      ]
     },
     "execution_count": 140,
     "metadata": {},
     "output_type": "execute_result"
    }
   ],
   "source": [
    "params = {k.split(\"__\")[1]: v for k, v in param_grid.items()}\n",
    "params"
   ]
  },
  {
   "cell_type": "code",
   "execution_count": 141,
   "metadata": {
    "ExecuteTime": {
     "end_time": "2019-07-20T11:38:24.443975Z",
     "start_time": "2019-07-20T11:38:24.439975Z"
    }
   },
   "outputs": [
    {
     "name": "stdout",
     "output_type": "stream",
     "text": [
      "gamma C\n"
     ]
    }
   ],
   "source": [
    "param1, param2  = {k.split(\"__\")[1] for k, v in param_grid.items()}\n",
    "print(param1, param2)"
   ]
  },
  {
   "cell_type": "code",
   "execution_count": 142,
   "metadata": {
    "ExecuteTime": {
     "end_time": "2019-07-20T11:38:24.958617Z",
     "start_time": "2019-07-20T11:38:24.951286Z"
    }
   },
   "outputs": [
    {
     "data": {
      "text/plain": [
       "(array([1.e-01, 1.e+00, 1.e+01, 1.e+02, 1.e+03, 1.e+04, 1.e+05, 1.e+06,\n",
       "        1.e+07, 1.e+08, 1.e+09]),\n",
       " array([1.e-05, 1.e-04, 1.e-03, 1.e-02, 1.e-01, 1.e+00, 1.e+01]))"
      ]
     },
     "execution_count": 142,
     "metadata": {},
     "output_type": "execute_result"
    }
   ],
   "source": [
    "param1_set, param2_set = [v for v in param_grid.values()]\n",
    "param1_set, param2_set"
   ]
  },
  {
   "cell_type": "code",
   "execution_count": 143,
   "metadata": {
    "ExecuteTime": {
     "end_time": "2019-07-20T11:38:25.388466Z",
     "start_time": "2019-07-20T11:38:25.382284Z"
    },
    "scrolled": true
   },
   "outputs": [
    {
     "name": "stdout",
     "output_type": "stream",
     "text": [
      "number of parameters:  2\n",
      "number of Cs:          11\n",
      "number of gammas:      7\n"
     ]
    }
   ],
   "source": [
    "print(\"number of parameters: \", len(param_grid.items()))\n",
    "print(\"number of Cs:         \", len(param1_set))\n",
    "print(\"number of gammas:     \", len(param2_set))"
   ]
  },
  {
   "cell_type": "code",
   "execution_count": 144,
   "metadata": {
    "ExecuteTime": {
     "end_time": "2019-07-20T11:38:25.802197Z",
     "start_time": "2019-07-20T11:38:25.798060Z"
    }
   },
   "outputs": [
    {
     "data": {
      "text/plain": [
       "{'C': 0.1, 'gamma': 1e-05}"
      ]
     },
     "execution_count": 144,
     "metadata": {},
     "output_type": "execute_result"
    }
   ],
   "source": [
    "params = dict([(list(params.keys())[0], param1_set[0]), \n",
    "              (list(params.keys())[1], param2_set[0])])\n",
    "params"
   ]
  },
  {
   "cell_type": "code",
   "execution_count": 145,
   "metadata": {
    "ExecuteTime": {
     "end_time": "2019-07-20T11:38:34.623406Z",
     "start_time": "2019-07-20T11:38:34.616292Z"
    }
   },
   "outputs": [
    {
     "data": {
      "text/plain": [
       "array([[[0., 0., 0., 0., 0., 0., 0.],\n",
       "        [0., 0., 0., 0., 0., 0., 0.],\n",
       "        [0., 0., 0., 0., 0., 0., 0.],\n",
       "        [0., 0., 0., 0., 0., 0., 0.],\n",
       "        [0., 0., 0., 0., 0., 0., 0.],\n",
       "        [0., 0., 0., 0., 0., 0., 0.],\n",
       "        [0., 0., 0., 0., 0., 0., 0.],\n",
       "        [0., 0., 0., 0., 0., 0., 0.],\n",
       "        [0., 0., 0., 0., 0., 0., 0.],\n",
       "        [0., 0., 0., 0., 0., 0., 0.],\n",
       "        [0., 0., 0., 0., 0., 0., 0.]],\n",
       "\n",
       "       [[0., 0., 0., 0., 0., 0., 0.],\n",
       "        [0., 0., 0., 0., 0., 0., 0.],\n",
       "        [0., 0., 0., 0., 0., 0., 0.],\n",
       "        [0., 0., 0., 0., 0., 0., 0.],\n",
       "        [0., 0., 0., 0., 0., 0., 0.],\n",
       "        [0., 0., 0., 0., 0., 0., 0.],\n",
       "        [0., 0., 0., 0., 0., 0., 0.],\n",
       "        [0., 0., 0., 0., 0., 0., 0.],\n",
       "        [0., 0., 0., 0., 0., 0., 0.],\n",
       "        [0., 0., 0., 0., 0., 0., 0.],\n",
       "        [0., 0., 0., 0., 0., 0., 0.]],\n",
       "\n",
       "       [[0., 0., 0., 0., 0., 0., 0.],\n",
       "        [0., 0., 0., 0., 0., 0., 0.],\n",
       "        [0., 0., 0., 0., 0., 0., 0.],\n",
       "        [0., 0., 0., 0., 0., 0., 0.],\n",
       "        [0., 0., 0., 0., 0., 0., 0.],\n",
       "        [0., 0., 0., 0., 0., 0., 0.],\n",
       "        [0., 0., 0., 0., 0., 0., 0.],\n",
       "        [0., 0., 0., 0., 0., 0., 0.],\n",
       "        [0., 0., 0., 0., 0., 0., 0.],\n",
       "        [0., 0., 0., 0., 0., 0., 0.],\n",
       "        [0., 0., 0., 0., 0., 0., 0.]]])"
      ]
     },
     "execution_count": 145,
     "metadata": {},
     "output_type": "execute_result"
    }
   ],
   "source": [
    "np.zeros([num_folds, len(param1_set),len(param2_set)])"
   ]
  },
  {
   "cell_type": "code",
   "execution_count": 146,
   "metadata": {
    "ExecuteTime": {
     "end_time": "2019-07-20T11:39:15.527049Z",
     "start_time": "2019-07-20T11:39:15.510946Z"
    }
   },
   "outputs": [],
   "source": [
    "# Generate example results array\n",
    "test_accu = np.array([[[0., 0., 0., 0., 0., 0., 0.],\n",
    "        [0., 0., 0., 0., 0., 0., 0.],\n",
    "        [0., 0., 0., 0., 0., 0., 0.],\n",
    "        [0., 0., 0., 0., 0., 0., 0.],\n",
    "        [0., 0., 0., 0., 0., 0., 0.],\n",
    "        [0., 0., 0., 0., 4., 0., 0.],\n",
    "        [0., 0., 0., 0., 0., 0., 0.],\n",
    "        [0., 0., 0., 0., 0., 0., 0.],\n",
    "        [0., 0., 0., 0., 0., 0., 0.],\n",
    "        [0., 0., 0., 0., 0., 0., 0.],\n",
    "        [0., 0., 0., 0., 0., 0., 0.]],\n",
    "\n",
    "       [[0., 0., 0., 0., 0., 0., 0.],\n",
    "        [0., 0., 0., 0., 0., 0., 0.],\n",
    "        [0., 0., 0., 0., 0., 0., 0.],\n",
    "        [0., 0., 0., 0., 0., 0., 0.],\n",
    "        [0., 0., 1., 0., 0., 0., 0.],\n",
    "        [0., 0., 0., 0., 0., 0., 0.],\n",
    "        [0., 0., 0., 0., 0., 0., 0.],\n",
    "        [0., 0., 0., 0., 0., 0., 0.],\n",
    "        [0., 0., 0., 0., 0., 0., 0.],\n",
    "        [0., 0., 0., 0., 0., 0., 0.],\n",
    "        [0., 0., 0., 0., 0., 0., 0.]],\n",
    "\n",
    "       [[2., 0., 0., 0., 0., 0., 0.],\n",
    "        [0., 0., 0., 0., 0., 0., 0.],\n",
    "        [0., 0., 0., 0., 0., 0., 0.],\n",
    "        [0., 0., 0., 0., 0., 0., 0.],\n",
    "        [0., 0., 0., 0., 0., 0., 0.],\n",
    "        [0., 0., 0., 0., 0., 0., 0.],\n",
    "        [0., 0., 0., 0., 0., 0., 0.],\n",
    "        [0., 0., 0., 0., 0., 0., 0.],\n",
    "        [0., 0., 0., 0., 0., 0., 0.],\n",
    "        [0., 0., 0., 0., 0., 0., 0.],\n",
    "        [0., 0., 0., 0., 0., 0., 0.]]])"
   ]
  },
  {
   "cell_type": "code",
   "execution_count": 147,
   "metadata": {
    "ExecuteTime": {
     "end_time": "2019-07-20T11:39:29.706747Z",
     "start_time": "2019-07-20T11:39:29.699757Z"
    }
   },
   "outputs": [
    {
     "data": {
      "text/plain": [
       "array([[0, 5, 4]])"
      ]
     },
     "execution_count": 147,
     "metadata": {},
     "output_type": "execute_result"
    }
   ],
   "source": [
    "coords = np.argwhere(test_accu == np.max(test_accu))\n",
    "coords"
   ]
  },
  {
   "cell_type": "code",
   "execution_count": 168,
   "metadata": {
    "ExecuteTime": {
     "end_time": "2019-07-20T13:46:47.480387Z",
     "start_time": "2019-07-20T13:46:47.454725Z"
    }
   },
   "outputs": [],
   "source": [
    "best_params = dict([(list(params.keys())[0], coords[0,1]), \n",
    "                    (list(params.keys())[1], coords[0,2])])"
   ]
  },
  {
   "cell_type": "markdown",
   "metadata": {},
   "source": [
    "### Test model_opt_exe"
   ]
  },
  {
   "cell_type": "code",
   "execution_count": null,
   "metadata": {},
   "outputs": [],
   "source": [
    "# Define function to optimize, execute and evaluate a classifier using CV\n",
    "from numpy import random\n",
    "\n",
    "def model_opt_exe(classifier, \n",
    "                  aug_type, \n",
    "                  k, \n",
    "                  feat_data, \n",
    "                  bin_data, \n",
    "                  seed=random.randint(1,100),\n",
    "                  save_fig_name=None, \n",
    "                  show_opt_plot=False, \n",
    "                  show_feat_impt=False, \n",
    "                  show_cnf_matrix=False, \n",
    "                  param_grid=None):\n",
    "    \"\"\"\n",
    "    This function consists of three parts:\n",
    "    1) Optimize the parameters for a classifier, either SVC-RBF or RFC;     \n",
    "    2) Fit model pipeline to training data using optimized parameters and \n",
    "    stratified k-fold cross validation;\n",
    "    3) Execute the optimized model and summarize its accuracy in a confusion \n",
    "    matrix broken down by WF bins. Formatted confusion matrices are saved as \n",
    "    .png files.\n",
    "    \n",
    "    Arguments\n",
    "    ----------\n",
    "    classifier: string ('svc' or 'rfc')\n",
    "        The classifier to use in the pipeline; 'svc' refers to an SVC-RBF\n",
    "    aug_type: string ('none','random','uns_match', or 'sup_match')\n",
    "        The type of data augmentation to implement. \n",
    "        * none: no data augmentation is performed; k must be zero.\n",
    "        * random: randomly samples source data to pair with ENM data.\n",
    "        * uns_match: match \"k\" most similar organics samples to ENM samples \n",
    "            based on smallest cosine distance between ENM and organics samples\n",
    "            (i.e., in an supervised fashion).\n",
    "        * sup_match: match \"k\" most similar organics samples to ENM samples \n",
    "            based on the smallest average of cosine distance between samples \n",
    "            and distance between WF labels (i.e., in an supervised fashion)\n",
    "    k: int ([0,200])\n",
    "        The number of organics samples to match with each ENM sample.\n",
    "    feat_data: DataFrame\n",
    "        Feature data\n",
    "    bin_data: ndarray\n",
    "        WF bin data\n",
    "    seed: int (default=random.randint(1,100))\n",
    "        Option to set the seed for CV\n",
    "    save_fig_name: string (default=None)\n",
    "        A unique string used at the end of confusion matrix and feature \n",
    "        importance (rfc-only) file names for exporting the figures as .png; \n",
    "        `None` indicates that no figures should be saved\n",
    "    show_opt_plot: bool (default=False)\n",
    "        `True` will plot accuracy as contour lines on the specified parameter \n",
    "        grid (svc) or a line plot of accuracy vs n_trees (rfc)\n",
    "    show_cnf_matrix: bool (default=False)\n",
    "        `True` results in matrix graphics being printed as output\n",
    "    param_grid: dict (default=None)\n",
    "        See param_grid for sklearn's GridSearchCV\n",
    "    \"\"\"     \n",
    "    from numpy import random\n",
    "    from sklearn.pipeline import Pipeline\n",
    "    from sklearn import model_selection\n",
    "    #from sklearn.model_selection import GridSearchCV\n",
    "    from sklearn.model_selection import StratifiedKFold\n",
    "    from sklearn.preprocessing import MinMaxScaler\n",
    "    from sklearn.metrics.pairwise import cosine_distances\n",
    "    from sklearn.svm import SVC\n",
    "    from sklearn.ensemble import RandomForestClassifier\n",
    "    from sklearn.metrics import confusion_matrix\n",
    "    from sklearn.metrics import accuracy_score ###############\n",
    "    from sklearn.metrics import balanced_accuracy_score ###############\n",
    "    import matplotlib.pyplot as plt\n",
    "    \n",
    "    # =====PART 1=====\n",
    "    # Optimize parameters\n",
    "    \n",
    "    # Rename data\n",
    "    X = np.array(feat_data)\n",
    "    y = bin_data\n",
    "    # Parameter names, values\n",
    "    params = {k.split(\"__\")[1]: v for k, v in param_grid.items()}\n",
    "    param1_set, param2_set = [v for v in param_grid.values()]\n",
    "\n",
    "    # Cross validation settings\n",
    "    num_folds = 10\n",
    "    skfold = StratifiedKFold(n_splits=num_folds, \n",
    "                             shuffle=True, \n",
    "                             random_state=seed)\n",
    "    # Objects to hold performance results\n",
    "    train_accu = np.zeros([num_folds, len(param1_set),len(param2_set)])\n",
    "    test_accu = np.zeros([num_folds, len(param1_set),len(param2_set)])\n",
    "    \n",
    "    # Find best algorithm parameters by searching over a grid using the CV\n",
    "    # and pipeline conditions specified above\n",
    "    q=0\n",
    "    for train_index, test_index in skfold.split(X, y):\n",
    "        # Split data\n",
    "        X_train, y_train = X[train_index], y[train_index]\n",
    "        X_valid, y_valid = X[test_index], y[test_index]\n",
    "        aug_group = np.concatenate((train_index, np.repeat(train_index, k)))\n",
    "        # Augment data (if applicable) using external function after data \n",
    "        # split to prevent data leakage\n",
    "        if not (aug_type=='none' or k==0): \n",
    "            X_train, y_train = blt.augment(aug_type, \n",
    "                                           k, \n",
    "                                           X_train, \n",
    "                                           y_train, \n",
    "                                           random_state=seed)\n",
    "        # Parameter grid search\n",
    "        r=0\n",
    "        for param1_val in param1_set:\n",
    "            s=0\n",
    "            for param2_val in param2_set:\n",
    "                params = dict([(list(params.keys())[0], param1_val), \n",
    "                              (list(params.keys())[1], param2_val)])\n",
    "                # Define pipeline options for parameter optimization\n",
    "                if classifier=='rfc':\n",
    "                    rfc = RandomForestClassifier(class_weight='balanced', \n",
    "                                                 random_state=seed, \n",
    "                                                 **params)\n",
    "                    pipe = Pipeline([\n",
    "                        ('scale', MinMaxScaler()), # normalization from 0 to 1\n",
    "                        ('estimator', rfc)\n",
    "                    ])\n",
    "                else:\n",
    "                    svc = SVC(kernel='rbf', \n",
    "                              class_weight='balanced', # balance by WF bin size\n",
    "                              random_state=seed, \n",
    "                              **params)\n",
    "                    pipe = Pipeline([\n",
    "                        ('scale', MinMaxScaler()), # normalization from 0 to 1\n",
    "                        ('estimator', svc)\n",
    "                    ])    \n",
    "                pipe.fit(X_train, y_train)\n",
    "                train_accu[q,r,s]=accuracy_score(y_train, \n",
    "                                                          pipe.predict(X_train))\n",
    "                test_accu[q,r,s]=accuracy_score(y_valid, \n",
    "                                                         pipe.predict(X_valid))\n",
    "                s+=1\n",
    "            r+=1\n",
    "        q+=1\n",
    "    scoring = 'balanced_accuracy'\n",
    "    # Average balanced accuracy for grid search settings\n",
    "    avg_train_accu = np.mean(train_accu, axis=0)\n",
    "    avg_valid_accu = np.mean(test_accu, axis=0)\n",
    "    # Get coordinates of best accuracy to locate parameters\n",
    "    coords = np.argwhere(test_accu == np.max(test_accu))\n",
    "    best_params = dict([(list(params.keys())[0], coords[0,1]), \n",
    "                        (list(params.keys())[1], coords[0,2])])\n",
    "    # If optimization plotting is set as True, use plot_param_opt function\n",
    "    # to plot a 2D or contour plot to visualize accuracy \"hot spots\"\n",
    "    if show_opt_plot:\n",
    "        plot_param_opt(param_grid, avg_valid_accu, scoring)\n",
    "    \n",
    "    # Print best accuracy and parameter values\n",
    "    print('K-fold CV random state:\\t', seed)\n",
    "    print('Best fold %s:\\t%.4f' % (scoring, np.max(test_accu)))\n",
    "    for k, v in best_params.items(): print('Best %s:\\t%.2e' % (k, v))\n",
    "\n",
    "    # Play sound when done running\n",
    "    display(Audio(url=sound_file, autoplay=True))\n",
    "\n",
    "    return best_params"
   ]
  },
  {
   "cell_type": "code",
   "execution_count": 167,
   "metadata": {
    "ExecuteTime": {
     "end_time": "2019-07-20T12:34:16.059345Z",
     "start_time": "2019-07-20T12:34:14.393801Z"
    }
   },
   "outputs": [
    {
     "data": {
      "image/png": "[encoded data removed]",
      "text/plain": [
       "<Figure size 432x288 with 2 Axes>"
      ]
     },
     "metadata": {
      "needs_background": "light"
     },
     "output_type": "display_data"
    },
    {
     "name": "stdout",
     "output_type": "stream",
     "text": [
      "K-fold CV random state:\t 14\n",
      "Best fold balanced_accuracy:\t0.8571\n",
      "Best C:\t1.00e+00\n",
      "Best gamma:\t6.00e+00\n"
     ]
    },
    {
     "data": {
      "text/html": [
       "\n",
       "                <audio controls=\"controls\" autoplay=\"autoplay\">\n",
       "                    <source src=\"./data/ping.wav\" type=\"audio/x-wav\" />\n",
       "                    Your browser does not support the audio element.\n",
       "                </audio>\n",
       "              "
      ],
      "text/plain": [
       "<IPython.lib.display.Audio object>"
      ]
     },
     "metadata": {},
     "output_type": "display_data"
    }
   ],
   "source": [
    "param_grid = {'estimator__C': np.logspace(-1,7,9), \n",
    "              'estimator__gamma': np.logspace(-7,1,9)\n",
    "             }\n",
    "C, gamma = blt.model_opt_exe(classifier='svc', \n",
    "                             aug_type='random', \n",
    "                             k=0, \n",
    "                             feat_data=X_enm, \n",
    "                             bin_data=bin_enm, \n",
    "                             save_fig_name=None, \n",
    "                             show_opt_plot=True, \n",
    "                             show_cnf_matrix=True, \n",
    "                             param_grid=param_grid)"
   ]
  },
  {
   "cell_type": "code",
   "execution_count": null,
   "metadata": {},
   "outputs": [],
   "source": []
  }
 ],
 "metadata": {
  "kernelspec": {
   "display_name": "Python 3",
   "language": "python",
   "name": "python3"
  },
  "language_info": {
   "codemirror_mode": {
    "name": "ipython",
    "version": 3
   },
   "file_extension": ".py",
   "mimetype": "text/x-python",
   "name": "python",
   "nbconvert_exporter": "python",
   "pygments_lexer": "ipython3",
   "version": "3.7.3"
  },
  "toc": {
   "base_numbering": 1,
   "nav_menu": {},
   "number_sections": true,
   "sideBar": true,
   "skip_h1_title": false,
   "title_cell": "Table of Contents",
   "title_sidebar": "Contents",
   "toc_cell": true,
   "toc_position": {
    "height": "calc(100% - 180px)",
    "left": "10px",
    "top": "150px",
    "width": "165px"
   },
   "toc_section_display": true,
   "toc_window_display": true
  }
 },
 "nbformat": 4,
 "nbformat_minor": 2
}
