{
 "cells": [
  {
   "cell_type": "markdown",
   "metadata": {},
   "source": [
    "# About"
   ]
  },
  {
   "cell_type": "markdown",
   "metadata": {},
   "source": [
    "Run tests to ensure that the external functions (functions.py) used across multiple notebooks are working properly."
   ]
  },
  {
   "cell_type": "markdown",
   "metadata": {},
   "source": [
    "## Tips"
   ]
  },
  {
   "cell_type": "markdown",
   "metadata": {},
   "source": [
    "* For writing error messages\n",
    "    * https://stackoverflow.com/questions/16451514/returning-error-string-from-a-function-in-python\n",
    "* List of objects: dir()"
   ]
  },
  {
   "cell_type": "markdown",
   "metadata": {},
   "source": [
    "# Setup"
   ]
  },
  {
   "cell_type": "code",
   "execution_count": 42,
   "metadata": {
    "ExecuteTime": {
     "end_time": "2020-09-15T00:51:02.382396Z",
     "start_time": "2020-09-15T00:51:01.764490Z"
    },
    "execution": {
     "iopub.execute_input": "2021-05-20T06:37:37.774094Z",
     "iopub.status.busy": "2021-05-20T06:37:37.773660Z",
     "iopub.status.idle": "2021-05-20T06:37:37.795643Z",
     "shell.execute_reply": "2021-05-20T06:37:37.794604Z",
     "shell.execute_reply.started": "2021-05-20T06:37:37.774056Z"
    },
    "tags": []
   },
   "outputs": [],
   "source": [
    "from __future__ import division, print_function, unicode_literals\n",
    "import numpy as np\n",
    "from numpy import random\n",
    "import pandas as pd\n",
    "import os, sys\n",
    "import matplotlib\n",
    "import matplotlib.pyplot as plt\n",
    "import matplotlib.cm as cm"
   ]
  },
  {
   "cell_type": "code",
   "execution_count": 4,
   "metadata": {
    "ExecuteTime": {
     "end_time": "2020-09-15T00:51:02.391108Z",
     "start_time": "2020-09-15T00:51:02.384127Z"
    },
    "execution": {
     "iopub.execute_input": "2021-05-13T19:41:07.134198Z",
     "iopub.status.busy": "2021-05-13T19:41:07.133056Z",
     "iopub.status.idle": "2021-05-13T19:41:07.153688Z",
     "shell.execute_reply": "2021-05-13T19:41:07.150722Z",
     "shell.execute_reply.started": "2021-05-13T19:41:07.134099Z"
    }
   },
   "outputs": [],
   "source": [
    "# To make this notebook's output stable across runs\n",
    "np.random.seed(1922)"
   ]
  },
  {
   "cell_type": "code",
   "execution_count": 5,
   "metadata": {
    "ExecuteTime": {
     "end_time": "2020-09-15T00:51:03.632539Z",
     "start_time": "2020-09-15T00:51:02.888514Z"
    },
    "execution": {
     "iopub.execute_input": "2021-05-13T19:41:08.936286Z",
     "iopub.status.busy": "2021-05-13T19:41:08.935555Z",
     "iopub.status.idle": "2021-05-13T19:41:10.198019Z",
     "shell.execute_reply": "2021-05-13T19:41:10.196944Z",
     "shell.execute_reply.started": "2021-05-13T19:41:08.936248Z"
    }
   },
   "outputs": [
    {
     "name": "stdout",
     "output_type": "stream",
     "text": [
      "Figure directory exists.\n",
      "The lab_black extension is already loaded. To reload it, use:\n",
      "  %reload_ext lab_black\n",
      "Figure directory exists.\n"
     ]
    },
    {
     "data": {
      "text/plain": [
       "<module 'functions' from '/app/src/functions.py'>"
      ]
     },
     "execution_count": 5,
     "metadata": {},
     "output_type": "execute_result"
    }
   ],
   "source": [
    "# Import classes and functions used across multiple notebooks\n",
    "sys.path.append(os.getcwd())\n",
    "import importlib\n",
    "import functions as blt\n",
    "\n",
    "importlib.reload(blt)"
   ]
  },
  {
   "cell_type": "markdown",
   "metadata": {},
   "source": [
    "# Data"
   ]
  },
  {
   "cell_type": "code",
   "execution_count": 6,
   "metadata": {
    "ExecuteTime": {
     "end_time": "2020-09-15T00:51:03.738420Z",
     "start_time": "2020-09-15T00:51:03.634500Z"
    },
    "execution": {
     "iopub.execute_input": "2021-05-13T19:41:14.520160Z",
     "iopub.status.busy": "2021-05-13T19:41:14.518947Z",
     "iopub.status.idle": "2021-05-13T19:41:14.689660Z",
     "shell.execute_reply": "2021-05-13T19:41:14.688400Z",
     "shell.execute_reply.started": "2021-05-13T19:41:14.520122Z"
    }
   },
   "outputs": [],
   "source": [
    "# Read in target (ENM) model feature data\n",
    "X_enm = pd.read_csv(\n",
    "    \"./data/ENM-preprocessed-feats.csv\", sep=\"\\t\", header=\"infer\", index_col=0\n",
    ")\n",
    "\n",
    "# Read in source (organics) model feature data\n",
    "X_source = pd.read_csv(\n",
    "    \"./data/organics-preprocessed-feats.csv\", sep=\"\\t\", header=\"infer\", index_col=0\n",
    ")\n",
    "\n",
    "# Read in ENM labels (maximum_weight_fraction)\n",
    "y_enm = pd.read_csv(\"./data/ENM-clean.csv\", sep=\",\", header=\"infer\", usecols=[4])\n",
    "\n",
    "# Read in organics labels (maximum_weight_fraction)\n",
    "y_source = pd.read_csv(\n",
    "    \"./data/organics-preprocessed-WF.csv\", sep=\"\\t\", header=\"infer\", index_col=0\n",
    ")\n",
    "y_source.index = X_source.index"
   ]
  },
  {
   "cell_type": "code",
   "execution_count": 7,
   "metadata": {
    "ExecuteTime": {
     "end_time": "2020-09-15T00:51:04.273787Z",
     "start_time": "2020-09-15T00:51:03.920990Z"
    },
    "execution": {
     "iopub.execute_input": "2021-05-13T19:41:16.903645Z",
     "iopub.status.busy": "2021-05-13T19:41:16.902600Z",
     "iopub.status.idle": "2021-05-13T19:41:17.125750Z",
     "shell.execute_reply": "2021-05-13T19:41:17.124615Z",
     "shell.execute_reply.started": "2021-05-13T19:41:16.903611Z"
    }
   },
   "outputs": [],
   "source": [
    "bin_enm = np.asarray(y_enm.apply(blt.bins, axis=1))\n",
    "bin_source = np.asarray(y_source.apply(blt.bins, axis=1))"
   ]
  },
  {
   "cell_type": "markdown",
   "metadata": {},
   "source": [
    "# Tests"
   ]
  },
  {
   "cell_type": "markdown",
   "metadata": {},
   "source": [
    "## Imputation"
   ]
  },
  {
   "cell_type": "code",
   "execution_count": 8,
   "metadata": {},
   "outputs": [],
   "source": [
    "# Plot points and fit line\n",
    "def imputation_test(X, imputation_strategy=\"median\"):\n",
    "\n",
    "    from sklearn.impute import MissingIndicator\n",
    "    from sklearn.impute import SimpleImputer\n",
    "\n",
    "    # What is the median?\n",
    "    print(\"Median:\", X.median())\n",
    "\n",
    "    # Identify samples missing density data\n",
    "    indicator = MissingIndicator()\n",
    "    is_density_null = indicator.fit_transform(np.array(X).reshape(-1, 1))\n",
    "    df = X[is_density_null.reshape(-1)]\n",
    "    print(type(df))\n",
    "\n",
    "    # Impute\n",
    "    imp_median = SimpleImputer(missing_values=np.nan, strategy=imputation_strategy)\n",
    "    df[\"X_imputed\"] = pd.DataFrame(\n",
    "        imp_median.fit_transform(np.array(X).reshape(-1, 1))\n",
    "    ).loc[is_density_null]\n",
    "\n",
    "    return df"
   ]
  },
  {
   "cell_type": "code",
   "execution_count": null,
   "metadata": {},
   "outputs": [],
   "source": [
    "imputation_test(X_source[\"cprp_density\"])"
   ]
  },
  {
   "cell_type": "markdown",
   "metadata": {},
   "source": [
    "## PCA"
   ]
  },
  {
   "cell_type": "code",
   "execution_count": 50,
   "metadata": {
    "execution": {
     "iopub.execute_input": "2021-05-20T06:52:08.060988Z",
     "iopub.status.busy": "2021-05-20T06:52:08.059974Z",
     "iopub.status.idle": "2021-05-20T06:52:08.171809Z",
     "shell.execute_reply": "2021-05-20T06:52:08.170782Z",
     "shell.execute_reply.started": "2021-05-20T06:52:08.060941Z"
    },
    "tags": []
   },
   "outputs": [],
   "source": [
    "def pca_precheck(X, n_components, thres_btm=0.75, thres_top=0.85):\n",
    "    \"\"\"List PCA components for hyperparameterization\n",
    "\n",
    "    Find a reasonable range of n_components to try during hyperparameterization.\n",
    "    Returns a list of integers.\n",
    "\n",
    "    Arguments\n",
    "    ---------\n",
    "    X : DataFrame\n",
    "        Feature data for dimension reduction\n",
    "    n_components : int\n",
    "        A generous number of PCA components to test\n",
    "    thres_btm : float (default=0.75)\n",
    "        The minimum cumulative explained variance threshold to aim for; a fraction\n",
    "    thres_top : float (default=0.85)\n",
    "        The maximum cumulative explained variance threshold to aim for\n",
    "    \"\"\"\n",
    "\n",
    "    from sklearn.preprocessing import MinMaxScaler\n",
    "    from sklearn import decomposition\n",
    "\n",
    "    # Scale the data first (e.g., chemical properties) from 0 to 1\n",
    "    scaler = MinMaxScaler()\n",
    "    X_scaled = scaler.fit_transform(X)\n",
    "\n",
    "    # Apply PCA\n",
    "    pca = decomposition.PCA(n_components=n_components)\n",
    "    pca.fit(X_scaled)\n",
    "    cum_evr = np.cumsum(pca.explained_variance_ratio_)\n",
    "    print(cum_evr)\n",
    "\n",
    "    # Figure out number of components to achieve desired cumulative explained variance\n",
    "    component_list = np.where((cum_evr > thres_btm) & (cum_evr < thres_top))[0] + 1\n",
    "    component_list = component_list.tolist()\n",
    "\n",
    "    if len(component_list) == 0:\n",
    "        component_list = [\n",
    "            next(i[0] for i in enumerate(cum_evr) if i[1] > thres_top) + 1\n",
    "        ]\n",
    "\n",
    "    # Plot just to double check / visualize\n",
    "    fig = plt.figure()\n",
    "    xi = np.arange(1, n_components + 1, step=1)\n",
    "    plt.plot(xi, cum_evr, \".-\", label=\"pca\")\n",
    "    plt.plot([0, n_components], [thres_btm, thres_btm], \"k\", label=thres_btm)\n",
    "    plt.plot([0, n_components], [thres_top, thres_top], \"r\", label=thres_top)\n",
    "    plt.xlabel(\"Coefficient Number\")\n",
    "    plt.ylabel(\"Cumulative Explained Variance Ratio\")\n",
    "    plt.grid()\n",
    "    plt.legend()\n",
    "    plt.show()\n",
    "\n",
    "    print(component_list)\n",
    "    return component_list"
   ]
  },
  {
   "cell_type": "code",
   "execution_count": 51,
   "metadata": {
    "execution": {
     "iopub.execute_input": "2021-05-20T06:52:18.448524Z",
     "iopub.status.busy": "2021-05-20T06:52:18.447895Z",
     "iopub.status.idle": "2021-05-20T06:52:18.757179Z",
     "shell.execute_reply": "2021-05-20T06:52:18.756189Z",
     "shell.execute_reply.started": "2021-05-20T06:52:18.448479Z"
    },
    "tags": []
   },
   "outputs": [
    {
     "name": "stdout",
     "output_type": "stream",
     "text": [
      "[0.29024958 0.40857229 0.49112146 0.56586553 0.62552707 0.67728336\n",
      " 0.72335413 0.76435104 0.78726129 0.80974826 0.82771603 0.84525823\n",
      " 0.85979504 0.87280657 0.88527525 0.89668188 0.90661927 0.91560422\n",
      " 0.92450973 0.93242653 0.93983401 0.94630311 0.95243621 0.9585441\n",
      " 0.96411347 0.96877561 0.97288469 0.97645159 0.97991518 0.98319911]\n"
     ]
    },
    {
     "data": {
      "image/png": "[encoded data removed]",
      "text/plain": [
       "<Figure size 432x288 with 1 Axes>"
      ]
     },
     "metadata": {
      "needs_background": "light"
     },
     "output_type": "display_data"
    },
    {
     "name": "stdout",
     "output_type": "stream",
     "text": [
      "[8, 9, 10, 11, 12]\n"
     ]
    },
    {
     "data": {
      "text/plain": [
       "[8, 9, 10, 11, 12]"
      ]
     },
     "execution_count": 51,
     "metadata": {},
     "output_type": "execute_result"
    }
   ],
   "source": [
    "pca_precheck(X=X_enm, n_components=30, thres_btm=0.75, thres_top=0.85)"
   ]
  },
  {
   "cell_type": "code",
   "execution_count": 52,
   "metadata": {
    "execution": {
     "iopub.execute_input": "2021-05-20T06:52:22.251923Z",
     "iopub.status.busy": "2021-05-20T06:52:22.251323Z",
     "iopub.status.idle": "2021-05-20T06:52:22.544376Z",
     "shell.execute_reply": "2021-05-20T06:52:22.543393Z",
     "shell.execute_reply.started": "2021-05-20T06:52:22.251890Z"
    },
    "tags": []
   },
   "outputs": [
    {
     "name": "stdout",
     "output_type": "stream",
     "text": [
      "[0.51285579 0.8869508  0.98093052 1.        ]\n"
     ]
    },
    {
     "data": {
      "image/png": "[encoded data removed]",
      "text/plain": [
       "<Figure size 432x288 with 1 Axes>"
      ]
     },
     "metadata": {
      "needs_background": "light"
     },
     "output_type": "display_data"
    },
    {
     "name": "stdout",
     "output_type": "stream",
     "text": [
      "[2]\n"
     ]
    },
    {
     "data": {
      "text/plain": [
       "[2]"
      ]
     },
     "execution_count": 52,
     "metadata": {},
     "output_type": "execute_result"
    }
   ],
   "source": [
    "pca_precheck(\n",
    "    X=X_enm.iloc[:, [0, 1, 2, 3]], n_components=4, thres_btm=0.75, thres_top=0.85\n",
    ")"
   ]
  },
  {
   "cell_type": "markdown",
   "metadata": {},
   "source": [
    "## Data Augmentation Function"
   ]
  },
  {
   "cell_type": "markdown",
   "metadata": {
    "ExecuteTime": {
     "end_time": "2019-07-18T20:00:40.586145Z",
     "start_time": "2019-07-18T20:00:40.576655Z"
    }
   },
   "source": [
    "First, each step in the function to be tested is run separately for each type of data augmentation to get \"control\" data frames. Then I attempt to recreate the same dataframe using the augment function and compare results. If they are the same, it is assumed that the function is working properly."
   ]
  },
  {
   "cell_type": "code",
   "execution_count": 6,
   "metadata": {
    "ExecuteTime": {
     "end_time": "2020-09-15T00:51:04.559350Z",
     "start_time": "2020-09-15T00:51:04.553633Z"
    }
   },
   "outputs": [],
   "source": [
    "def are_equal(df1, df2):\n",
    "    \n",
    "    \"\"\"Tests if two data frames or two arrays are equal.\"\"\"\n",
    "    \n",
    "    if isinstance(df1, pd.DataFrame):\n",
    "        # Test if data frames are equal\n",
    "        print(df1.equals(df2))\n",
    "    else:    \n",
    "        # Test if arrays are equal\n",
    "        print(np.array_equal(df1, df2))"
   ]
  },
  {
   "cell_type": "markdown",
   "metadata": {},
   "source": [
    "### No augmentation"
   ]
  },
  {
   "cell_type": "code",
   "execution_count": 9,
   "metadata": {
    "ExecuteTime": {
     "end_time": "2019-07-20T01:01:07.656657Z",
     "start_time": "2019-07-20T01:01:07.648376Z"
    }
   },
   "outputs": [
    {
     "name": "stdout",
     "output_type": "stream",
     "text": [
      "True\n",
      "True\n"
     ]
    }
   ],
   "source": [
    "# Apply new function with same conditions\n",
    "X_test, bin_test = blt.augment(aug_type='none', \n",
    "                               k=0, \n",
    "                               X_enm_train=X_enm, \n",
    "                               bin_enm_train=bin_enm, \n",
    "                               random_state=31)\n",
    "are_equal(X_test, X_enm)\n",
    "are_equal(bin_test, bin_enm)"
   ]
  },
  {
   "cell_type": "code",
   "execution_count": 10,
   "metadata": {
    "ExecuteTime": {
     "end_time": "2019-07-20T01:01:07.854353Z",
     "start_time": "2019-07-20T01:01:07.847285Z"
    }
   },
   "outputs": [
    {
     "name": "stdout",
     "output_type": "stream",
     "text": [
      "True\n",
      "True\n"
     ]
    }
   ],
   "source": [
    "# Apply new function with same conditions\n",
    "X_test, bin_test = blt.augment(aug_type='none', \n",
    "                               k=1, # Should still do no augmentation even if k!=0\n",
    "                               X_enm_train=X_enm, \n",
    "                               bin_enm_train=bin_enm, \n",
    "                               random_state=31)\n",
    "are_equal(X_test, X_enm)\n",
    "are_equal(bin_test, bin_enm)"
   ]
  },
  {
   "cell_type": "code",
   "execution_count": 11,
   "metadata": {
    "ExecuteTime": {
     "end_time": "2019-07-20T01:01:08.019566Z",
     "start_time": "2019-07-20T01:01:08.014622Z"
    }
   },
   "outputs": [
    {
     "name": "stdout",
     "output_type": "stream",
     "text": [
      "True\n",
      "True\n"
     ]
    }
   ],
   "source": [
    "# Apply new function with same conditions\n",
    "X_test, bin_test = blt.augment(aug_type='random', # Should still do no augmentation\n",
    "                               k=0,               # because k=0\n",
    "                               X_enm_train=X_enm, \n",
    "                               bin_enm_train=bin_enm, \n",
    "                               random_state=31)\n",
    "are_equal(X_test, X_enm)\n",
    "are_equal(bin_test, bin_enm)"
   ]
  },
  {
   "cell_type": "markdown",
   "metadata": {},
   "source": [
    "### Random augmentation"
   ]
  },
  {
   "cell_type": "markdown",
   "metadata": {},
   "source": [
    "#### Control feature data frame"
   ]
  },
  {
   "cell_type": "code",
   "execution_count": 25,
   "metadata": {
    "ExecuteTime": {
     "end_time": "2019-08-02T01:48:30.019951Z",
     "start_time": "2019-08-02T01:48:29.986919Z"
    }
   },
   "outputs": [
    {
     "data": {
      "text/html": [
       "<div>\n",
       "<style scoped>\n",
       "    .dataframe tbody tr th:only-of-type {\n",
       "        vertical-align: middle;\n",
       "    }\n",
       "\n",
       "    .dataframe tbody tr th {\n",
       "        vertical-align: top;\n",
       "    }\n",
       "\n",
       "    .dataframe thead th {\n",
       "        text-align: right;\n",
       "    }\n",
       "</style>\n",
       "<table border=\"1\" class=\"dataframe\">\n",
       "  <thead>\n",
       "    <tr style=\"text-align: right;\">\n",
       "      <th></th>\n",
       "      <th>propMW</th>\n",
       "      <th>propMP</th>\n",
       "      <th>propBP</th>\n",
       "      <th>propLogDensity</th>\n",
       "      <th>absorbent</th>\n",
       "      <th>anti_adhesive_cohesive</th>\n",
       "      <th>antioxidant</th>\n",
       "      <th>antiredeposition_agent</th>\n",
       "      <th>biocide</th>\n",
       "      <th>brightener</th>\n",
       "      <th>...</th>\n",
       "      <th>group_dentalcare</th>\n",
       "      <th>group_deodorant</th>\n",
       "      <th>group_facialcleansingandmoisturizing</th>\n",
       "      <th>group_generalmoisturizing</th>\n",
       "      <th>group_makeupandrelated</th>\n",
       "      <th>group_paintstainandrelatedproducts</th>\n",
       "      <th>group_sunscreen</th>\n",
       "      <th>group_surfacesealers</th>\n",
       "      <th>refined_spray</th>\n",
       "      <th>matrix_F</th>\n",
       "    </tr>\n",
       "  </thead>\n",
       "  <tbody>\n",
       "    <tr>\n",
       "      <th>28448</th>\n",
       "      <td>180.203</td>\n",
       "      <td>74.45325</td>\n",
       "      <td>272.49400</td>\n",
       "      <td>0.062582</td>\n",
       "      <td>0</td>\n",
       "      <td>0</td>\n",
       "      <td>0</td>\n",
       "      <td>0</td>\n",
       "      <td>0</td>\n",
       "      <td>0</td>\n",
       "      <td>...</td>\n",
       "      <td>0.0</td>\n",
       "      <td>0.0</td>\n",
       "      <td>0.0</td>\n",
       "      <td>0.0</td>\n",
       "      <td>0.0</td>\n",
       "      <td>0.0</td>\n",
       "      <td>0.0</td>\n",
       "      <td>0.0</td>\n",
       "      <td>0</td>\n",
       "      <td>1</td>\n",
       "    </tr>\n",
       "    <tr>\n",
       "      <th>12951</th>\n",
       "      <td>194.230</td>\n",
       "      <td>65.76055</td>\n",
       "      <td>273.89350</td>\n",
       "      <td>0.052309</td>\n",
       "      <td>0</td>\n",
       "      <td>0</td>\n",
       "      <td>0</td>\n",
       "      <td>0</td>\n",
       "      <td>0</td>\n",
       "      <td>0</td>\n",
       "      <td>...</td>\n",
       "      <td>0.0</td>\n",
       "      <td>0.0</td>\n",
       "      <td>0.0</td>\n",
       "      <td>0.0</td>\n",
       "      <td>1.0</td>\n",
       "      <td>0.0</td>\n",
       "      <td>0.0</td>\n",
       "      <td>0.0</td>\n",
       "      <td>0</td>\n",
       "      <td>1</td>\n",
       "    </tr>\n",
       "    <tr>\n",
       "      <th>1169</th>\n",
       "      <td>154.253</td>\n",
       "      <td>10.43345</td>\n",
       "      <td>227.18250</td>\n",
       "      <td>-0.055024</td>\n",
       "      <td>0</td>\n",
       "      <td>0</td>\n",
       "      <td>0</td>\n",
       "      <td>0</td>\n",
       "      <td>0</td>\n",
       "      <td>0</td>\n",
       "      <td>...</td>\n",
       "      <td>0.0</td>\n",
       "      <td>0.0</td>\n",
       "      <td>0.0</td>\n",
       "      <td>0.0</td>\n",
       "      <td>0.0</td>\n",
       "      <td>0.0</td>\n",
       "      <td>0.0</td>\n",
       "      <td>0.0</td>\n",
       "      <td>0</td>\n",
       "      <td>1</td>\n",
       "    </tr>\n",
       "    <tr>\n",
       "      <th>15824</th>\n",
       "      <td>76.095</td>\n",
       "      <td>-31.99570</td>\n",
       "      <td>180.43000</td>\n",
       "      <td>0.004321</td>\n",
       "      <td>0</td>\n",
       "      <td>0</td>\n",
       "      <td>0</td>\n",
       "      <td>0</td>\n",
       "      <td>1</td>\n",
       "      <td>0</td>\n",
       "      <td>...</td>\n",
       "      <td>0.0</td>\n",
       "      <td>0.0</td>\n",
       "      <td>0.0</td>\n",
       "      <td>0.0</td>\n",
       "      <td>0.0</td>\n",
       "      <td>0.0</td>\n",
       "      <td>0.0</td>\n",
       "      <td>0.0</td>\n",
       "      <td>0</td>\n",
       "      <td>1</td>\n",
       "    </tr>\n",
       "    <tr>\n",
       "      <th>19654</th>\n",
       "      <td>58.080</td>\n",
       "      <td>-75.59565</td>\n",
       "      <td>44.93675</td>\n",
       "      <td>-0.077275</td>\n",
       "      <td>0</td>\n",
       "      <td>0</td>\n",
       "      <td>0</td>\n",
       "      <td>0</td>\n",
       "      <td>0</td>\n",
       "      <td>0</td>\n",
       "      <td>...</td>\n",
       "      <td>0.0</td>\n",
       "      <td>0.0</td>\n",
       "      <td>0.0</td>\n",
       "      <td>0.0</td>\n",
       "      <td>0.0</td>\n",
       "      <td>0.0</td>\n",
       "      <td>0.0</td>\n",
       "      <td>0.0</td>\n",
       "      <td>0</td>\n",
       "      <td>1</td>\n",
       "    </tr>\n",
       "    <tr>\n",
       "      <th>14981</th>\n",
       "      <td>92.094</td>\n",
       "      <td>41.33495</td>\n",
       "      <td>267.43050</td>\n",
       "      <td>0.070407</td>\n",
       "      <td>0</td>\n",
       "      <td>1</td>\n",
       "      <td>0</td>\n",
       "      <td>0</td>\n",
       "      <td>0</td>\n",
       "      <td>0</td>\n",
       "      <td>...</td>\n",
       "      <td>0.0</td>\n",
       "      <td>0.0</td>\n",
       "      <td>0.0</td>\n",
       "      <td>0.0</td>\n",
       "      <td>0.0</td>\n",
       "      <td>0.0</td>\n",
       "      <td>0.0</td>\n",
       "      <td>0.0</td>\n",
       "      <td>0</td>\n",
       "      <td>1</td>\n",
       "    </tr>\n",
       "    <tr>\n",
       "      <th>3607</th>\n",
       "      <td>196.290</td>\n",
       "      <td>-29.69015</td>\n",
       "      <td>225.63400</td>\n",
       "      <td>-0.031050</td>\n",
       "      <td>0</td>\n",
       "      <td>0</td>\n",
       "      <td>0</td>\n",
       "      <td>0</td>\n",
       "      <td>0</td>\n",
       "      <td>0</td>\n",
       "      <td>...</td>\n",
       "      <td>0.0</td>\n",
       "      <td>0.0</td>\n",
       "      <td>0.0</td>\n",
       "      <td>0.0</td>\n",
       "      <td>0.0</td>\n",
       "      <td>0.0</td>\n",
       "      <td>0.0</td>\n",
       "      <td>0.0</td>\n",
       "      <td>0</td>\n",
       "      <td>1</td>\n",
       "    </tr>\n",
       "    <tr>\n",
       "      <th>17803</th>\n",
       "      <td>46.069</td>\n",
       "      <td>-89.54350</td>\n",
       "      <td>73.83620</td>\n",
       "      <td>-0.040005</td>\n",
       "      <td>0</td>\n",
       "      <td>1</td>\n",
       "      <td>0</td>\n",
       "      <td>0</td>\n",
       "      <td>1</td>\n",
       "      <td>0</td>\n",
       "      <td>...</td>\n",
       "      <td>0.0</td>\n",
       "      <td>0.0</td>\n",
       "      <td>0.0</td>\n",
       "      <td>0.0</td>\n",
       "      <td>0.0</td>\n",
       "      <td>0.0</td>\n",
       "      <td>0.0</td>\n",
       "      <td>0.0</td>\n",
       "      <td>0</td>\n",
       "      <td>1</td>\n",
       "    </tr>\n",
       "  </tbody>\n",
       "</table>\n",
       "<p>8 rows × 38 columns</p>\n",
       "</div>"
      ],
      "text/plain": [
       "        propMW    propMP     propBP  propLogDensity  absorbent  \\\n",
       "28448  180.203  74.45325  272.49400        0.062582          0   \n",
       "12951  194.230  65.76055  273.89350        0.052309          0   \n",
       "1169   154.253  10.43345  227.18250       -0.055024          0   \n",
       "15824   76.095 -31.99570  180.43000        0.004321          0   \n",
       "19654   58.080 -75.59565   44.93675       -0.077275          0   \n",
       "14981   92.094  41.33495  267.43050        0.070407          0   \n",
       "3607   196.290 -29.69015  225.63400       -0.031050          0   \n",
       "17803   46.069 -89.54350   73.83620       -0.040005          0   \n",
       "\n",
       "       anti_adhesive_cohesive  antioxidant  antiredeposition_agent  biocide  \\\n",
       "28448                       0            0                       0        0   \n",
       "12951                       0            0                       0        0   \n",
       "1169                        0            0                       0        0   \n",
       "15824                       0            0                       0        1   \n",
       "19654                       0            0                       0        0   \n",
       "14981                       1            0                       0        0   \n",
       "3607                        0            0                       0        0   \n",
       "17803                       1            0                       0        1   \n",
       "\n",
       "       brightener  ...  group_dentalcare  group_deodorant  \\\n",
       "28448           0  ...               0.0              0.0   \n",
       "12951           0  ...               0.0              0.0   \n",
       "1169            0  ...               0.0              0.0   \n",
       "15824           0  ...               0.0              0.0   \n",
       "19654           0  ...               0.0              0.0   \n",
       "14981           0  ...               0.0              0.0   \n",
       "3607            0  ...               0.0              0.0   \n",
       "17803           0  ...               0.0              0.0   \n",
       "\n",
       "       group_facialcleansingandmoisturizing  group_generalmoisturizing  \\\n",
       "28448                                   0.0                        0.0   \n",
       "12951                                   0.0                        0.0   \n",
       "1169                                    0.0                        0.0   \n",
       "15824                                   0.0                        0.0   \n",
       "19654                                   0.0                        0.0   \n",
       "14981                                   0.0                        0.0   \n",
       "3607                                    0.0                        0.0   \n",
       "17803                                   0.0                        0.0   \n",
       "\n",
       "       group_makeupandrelated  group_paintstainandrelatedproducts  \\\n",
       "28448                     0.0                                 0.0   \n",
       "12951                     1.0                                 0.0   \n",
       "1169                      0.0                                 0.0   \n",
       "15824                     0.0                                 0.0   \n",
       "19654                     0.0                                 0.0   \n",
       "14981                     0.0                                 0.0   \n",
       "3607                      0.0                                 0.0   \n",
       "17803                     0.0                                 0.0   \n",
       "\n",
       "       group_sunscreen  group_surfacesealers  refined_spray  matrix_F  \n",
       "28448              0.0                   0.0              0         1  \n",
       "12951              0.0                   0.0              0         1  \n",
       "1169               0.0                   0.0              0         1  \n",
       "15824              0.0                   0.0              0         1  \n",
       "19654              0.0                   0.0              0         1  \n",
       "14981              0.0                   0.0              0         1  \n",
       "3607               0.0                   0.0              0         1  \n",
       "17803              0.0                   0.0              0         1  \n",
       "\n",
       "[8 rows x 38 columns]"
      ]
     },
     "execution_count": 25,
     "metadata": {},
     "output_type": "execute_result"
    }
   ],
   "source": [
    "# Randomly sample source (organics) feature data and get list of their indices\n",
    "idx_match_name = np.asarray(X_source.sample(n=82, \n",
    "                                            replace=False, \n",
    "                                            random_state=31, \n",
    "                                            axis=0).index)\n",
    "# List first few matches\n",
    "X_source.loc[idx_match_name[:8],:]"
   ]
  },
  {
   "cell_type": "code",
   "execution_count": 13,
   "metadata": {
    "ExecuteTime": {
     "end_time": "2019-07-20T01:01:08.772294Z",
     "start_time": "2019-07-20T01:01:08.764373Z"
    }
   },
   "outputs": [
    {
     "data": {
      "text/plain": [
       "[15510, 7428, 976, 10026, 13062, 9208, 3003, 11351]"
      ]
     },
     "execution_count": 13,
     "metadata": {},
     "output_type": "execute_result"
    }
   ],
   "source": [
    "# Get location of indices\n",
    "idx_match = [X_source.index.get_loc(i) for i in idx_match_name]\n",
    "idx_match[:8]"
   ]
  },
  {
   "cell_type": "code",
   "execution_count": 14,
   "metadata": {
    "ExecuteTime": {
     "end_time": "2019-07-20T01:01:08.930769Z",
     "start_time": "2019-07-20T01:01:08.900732Z"
    }
   },
   "outputs": [
    {
     "name": "stdout",
     "output_type": "stream",
     "text": [
      "(82, 38)\n"
     ]
    },
    {
     "data": {
      "text/html": [
       "<div>\n",
       "<style scoped>\n",
       "    .dataframe tbody tr th:only-of-type {\n",
       "        vertical-align: middle;\n",
       "    }\n",
       "\n",
       "    .dataframe tbody tr th {\n",
       "        vertical-align: top;\n",
       "    }\n",
       "\n",
       "    .dataframe thead th {\n",
       "        text-align: right;\n",
       "    }\n",
       "</style>\n",
       "<table border=\"1\" class=\"dataframe\">\n",
       "  <thead>\n",
       "    <tr style=\"text-align: right;\">\n",
       "      <th></th>\n",
       "      <th>propMW</th>\n",
       "      <th>propMP</th>\n",
       "      <th>propBP</th>\n",
       "      <th>propLogDensity</th>\n",
       "      <th>absorbent</th>\n",
       "      <th>anti_adhesive_cohesive</th>\n",
       "      <th>antioxidant</th>\n",
       "      <th>antiredeposition_agent</th>\n",
       "      <th>biocide</th>\n",
       "      <th>brightener</th>\n",
       "      <th>...</th>\n",
       "      <th>group_dentalcare</th>\n",
       "      <th>group_deodorant</th>\n",
       "      <th>group_facialcleansingandmoisturizing</th>\n",
       "      <th>group_generalmoisturizing</th>\n",
       "      <th>group_makeupandrelated</th>\n",
       "      <th>group_paintstainandrelatedproducts</th>\n",
       "      <th>group_sunscreen</th>\n",
       "      <th>group_surfacesealers</th>\n",
       "      <th>refined_spray</th>\n",
       "      <th>matrix_F</th>\n",
       "    </tr>\n",
       "  </thead>\n",
       "  <tbody>\n",
       "    <tr>\n",
       "      <th>28448</th>\n",
       "      <td>180.203</td>\n",
       "      <td>74.45325</td>\n",
       "      <td>272.49400</td>\n",
       "      <td>0.062582</td>\n",
       "      <td>0</td>\n",
       "      <td>0</td>\n",
       "      <td>0</td>\n",
       "      <td>0</td>\n",
       "      <td>0</td>\n",
       "      <td>0</td>\n",
       "      <td>...</td>\n",
       "      <td>0.0</td>\n",
       "      <td>0.0</td>\n",
       "      <td>0.0</td>\n",
       "      <td>0.0</td>\n",
       "      <td>0.0</td>\n",
       "      <td>0.0</td>\n",
       "      <td>0.0</td>\n",
       "      <td>0.0</td>\n",
       "      <td>0</td>\n",
       "      <td>1</td>\n",
       "    </tr>\n",
       "    <tr>\n",
       "      <th>12951</th>\n",
       "      <td>194.230</td>\n",
       "      <td>65.76055</td>\n",
       "      <td>273.89350</td>\n",
       "      <td>0.052309</td>\n",
       "      <td>0</td>\n",
       "      <td>0</td>\n",
       "      <td>0</td>\n",
       "      <td>0</td>\n",
       "      <td>0</td>\n",
       "      <td>0</td>\n",
       "      <td>...</td>\n",
       "      <td>0.0</td>\n",
       "      <td>0.0</td>\n",
       "      <td>0.0</td>\n",
       "      <td>0.0</td>\n",
       "      <td>1.0</td>\n",
       "      <td>0.0</td>\n",
       "      <td>0.0</td>\n",
       "      <td>0.0</td>\n",
       "      <td>0</td>\n",
       "      <td>1</td>\n",
       "    </tr>\n",
       "    <tr>\n",
       "      <th>1169</th>\n",
       "      <td>154.253</td>\n",
       "      <td>10.43345</td>\n",
       "      <td>227.18250</td>\n",
       "      <td>-0.055024</td>\n",
       "      <td>0</td>\n",
       "      <td>0</td>\n",
       "      <td>0</td>\n",
       "      <td>0</td>\n",
       "      <td>0</td>\n",
       "      <td>0</td>\n",
       "      <td>...</td>\n",
       "      <td>0.0</td>\n",
       "      <td>0.0</td>\n",
       "      <td>0.0</td>\n",
       "      <td>0.0</td>\n",
       "      <td>0.0</td>\n",
       "      <td>0.0</td>\n",
       "      <td>0.0</td>\n",
       "      <td>0.0</td>\n",
       "      <td>0</td>\n",
       "      <td>1</td>\n",
       "    </tr>\n",
       "    <tr>\n",
       "      <th>15824</th>\n",
       "      <td>76.095</td>\n",
       "      <td>-31.99570</td>\n",
       "      <td>180.43000</td>\n",
       "      <td>0.004321</td>\n",
       "      <td>0</td>\n",
       "      <td>0</td>\n",
       "      <td>0</td>\n",
       "      <td>0</td>\n",
       "      <td>1</td>\n",
       "      <td>0</td>\n",
       "      <td>...</td>\n",
       "      <td>0.0</td>\n",
       "      <td>0.0</td>\n",
       "      <td>0.0</td>\n",
       "      <td>0.0</td>\n",
       "      <td>0.0</td>\n",
       "      <td>0.0</td>\n",
       "      <td>0.0</td>\n",
       "      <td>0.0</td>\n",
       "      <td>0</td>\n",
       "      <td>1</td>\n",
       "    </tr>\n",
       "    <tr>\n",
       "      <th>19654</th>\n",
       "      <td>58.080</td>\n",
       "      <td>-75.59565</td>\n",
       "      <td>44.93675</td>\n",
       "      <td>-0.077275</td>\n",
       "      <td>0</td>\n",
       "      <td>0</td>\n",
       "      <td>0</td>\n",
       "      <td>0</td>\n",
       "      <td>0</td>\n",
       "      <td>0</td>\n",
       "      <td>...</td>\n",
       "      <td>0.0</td>\n",
       "      <td>0.0</td>\n",
       "      <td>0.0</td>\n",
       "      <td>0.0</td>\n",
       "      <td>0.0</td>\n",
       "      <td>0.0</td>\n",
       "      <td>0.0</td>\n",
       "      <td>0.0</td>\n",
       "      <td>0</td>\n",
       "      <td>1</td>\n",
       "    </tr>\n",
       "    <tr>\n",
       "      <th>14981</th>\n",
       "      <td>92.094</td>\n",
       "      <td>41.33495</td>\n",
       "      <td>267.43050</td>\n",
       "      <td>0.070407</td>\n",
       "      <td>0</td>\n",
       "      <td>1</td>\n",
       "      <td>0</td>\n",
       "      <td>0</td>\n",
       "      <td>0</td>\n",
       "      <td>0</td>\n",
       "      <td>...</td>\n",
       "      <td>0.0</td>\n",
       "      <td>0.0</td>\n",
       "      <td>0.0</td>\n",
       "      <td>0.0</td>\n",
       "      <td>0.0</td>\n",
       "      <td>0.0</td>\n",
       "      <td>0.0</td>\n",
       "      <td>0.0</td>\n",
       "      <td>0</td>\n",
       "      <td>1</td>\n",
       "    </tr>\n",
       "    <tr>\n",
       "      <th>3607</th>\n",
       "      <td>196.290</td>\n",
       "      <td>-29.69015</td>\n",
       "      <td>225.63400</td>\n",
       "      <td>-0.031050</td>\n",
       "      <td>0</td>\n",
       "      <td>0</td>\n",
       "      <td>0</td>\n",
       "      <td>0</td>\n",
       "      <td>0</td>\n",
       "      <td>0</td>\n",
       "      <td>...</td>\n",
       "      <td>0.0</td>\n",
       "      <td>0.0</td>\n",
       "      <td>0.0</td>\n",
       "      <td>0.0</td>\n",
       "      <td>0.0</td>\n",
       "      <td>0.0</td>\n",
       "      <td>0.0</td>\n",
       "      <td>0.0</td>\n",
       "      <td>0</td>\n",
       "      <td>1</td>\n",
       "    </tr>\n",
       "    <tr>\n",
       "      <th>17803</th>\n",
       "      <td>46.069</td>\n",
       "      <td>-89.54350</td>\n",
       "      <td>73.83620</td>\n",
       "      <td>-0.040005</td>\n",
       "      <td>0</td>\n",
       "      <td>1</td>\n",
       "      <td>0</td>\n",
       "      <td>0</td>\n",
       "      <td>1</td>\n",
       "      <td>0</td>\n",
       "      <td>...</td>\n",
       "      <td>0.0</td>\n",
       "      <td>0.0</td>\n",
       "      <td>0.0</td>\n",
       "      <td>0.0</td>\n",
       "      <td>0.0</td>\n",
       "      <td>0.0</td>\n",
       "      <td>0.0</td>\n",
       "      <td>0.0</td>\n",
       "      <td>0</td>\n",
       "      <td>1</td>\n",
       "    </tr>\n",
       "  </tbody>\n",
       "</table>\n",
       "<p>8 rows × 38 columns</p>\n",
       "</div>"
      ],
      "text/plain": [
       "        propMW    propMP     propBP  propLogDensity  absorbent  \\\n",
       "28448  180.203  74.45325  272.49400        0.062582          0   \n",
       "12951  194.230  65.76055  273.89350        0.052309          0   \n",
       "1169   154.253  10.43345  227.18250       -0.055024          0   \n",
       "15824   76.095 -31.99570  180.43000        0.004321          0   \n",
       "19654   58.080 -75.59565   44.93675       -0.077275          0   \n",
       "14981   92.094  41.33495  267.43050        0.070407          0   \n",
       "3607   196.290 -29.69015  225.63400       -0.031050          0   \n",
       "17803   46.069 -89.54350   73.83620       -0.040005          0   \n",
       "\n",
       "       anti_adhesive_cohesive  antioxidant  antiredeposition_agent  biocide  \\\n",
       "28448                       0            0                       0        0   \n",
       "12951                       0            0                       0        0   \n",
       "1169                        0            0                       0        0   \n",
       "15824                       0            0                       0        1   \n",
       "19654                       0            0                       0        0   \n",
       "14981                       1            0                       0        0   \n",
       "3607                        0            0                       0        0   \n",
       "17803                       1            0                       0        1   \n",
       "\n",
       "       brightener  ...  group_dentalcare  group_deodorant  \\\n",
       "28448           0  ...               0.0              0.0   \n",
       "12951           0  ...               0.0              0.0   \n",
       "1169            0  ...               0.0              0.0   \n",
       "15824           0  ...               0.0              0.0   \n",
       "19654           0  ...               0.0              0.0   \n",
       "14981           0  ...               0.0              0.0   \n",
       "3607            0  ...               0.0              0.0   \n",
       "17803           0  ...               0.0              0.0   \n",
       "\n",
       "       group_facialcleansingandmoisturizing  group_generalmoisturizing  \\\n",
       "28448                                   0.0                        0.0   \n",
       "12951                                   0.0                        0.0   \n",
       "1169                                    0.0                        0.0   \n",
       "15824                                   0.0                        0.0   \n",
       "19654                                   0.0                        0.0   \n",
       "14981                                   0.0                        0.0   \n",
       "3607                                    0.0                        0.0   \n",
       "17803                                   0.0                        0.0   \n",
       "\n",
       "       group_makeupandrelated  group_paintstainandrelatedproducts  \\\n",
       "28448                     0.0                                 0.0   \n",
       "12951                     1.0                                 0.0   \n",
       "1169                      0.0                                 0.0   \n",
       "15824                     0.0                                 0.0   \n",
       "19654                     0.0                                 0.0   \n",
       "14981                     0.0                                 0.0   \n",
       "3607                      0.0                                 0.0   \n",
       "17803                     0.0                                 0.0   \n",
       "\n",
       "       group_sunscreen  group_surfacesealers  refined_spray  matrix_F  \n",
       "28448              0.0                   0.0              0         1  \n",
       "12951              0.0                   0.0              0         1  \n",
       "1169               0.0                   0.0              0         1  \n",
       "15824              0.0                   0.0              0         1  \n",
       "19654              0.0                   0.0              0         1  \n",
       "14981              0.0                   0.0              0         1  \n",
       "3607               0.0                   0.0              0         1  \n",
       "17803              0.0                   0.0              0         1  \n",
       "\n",
       "[8 rows x 38 columns]"
      ]
     },
     "execution_count": 14,
     "metadata": {},
     "output_type": "execute_result"
    }
   ],
   "source": [
    "# Apply sample selection; Check that list comprehension (above) worked\n",
    "X_samples = X_source.iloc[idx_match,:]\n",
    "print(X_samples.shape)\n",
    "X_samples.head(8)"
   ]
  },
  {
   "cell_type": "code",
   "execution_count": 15,
   "metadata": {
    "ExecuteTime": {
     "end_time": "2019-07-20T01:01:09.109398Z",
     "start_time": "2019-07-20T01:01:09.079531Z"
    }
   },
   "outputs": [
    {
     "name": "stdout",
     "output_type": "stream",
     "text": [
      "(164, 38)\n"
     ]
    },
    {
     "data": {
      "text/html": [
       "<div>\n",
       "<style scoped>\n",
       "    .dataframe tbody tr th:only-of-type {\n",
       "        vertical-align: middle;\n",
       "    }\n",
       "\n",
       "    .dataframe tbody tr th {\n",
       "        vertical-align: top;\n",
       "    }\n",
       "\n",
       "    .dataframe thead th {\n",
       "        text-align: right;\n",
       "    }\n",
       "</style>\n",
       "<table border=\"1\" class=\"dataframe\">\n",
       "  <thead>\n",
       "    <tr style=\"text-align: right;\">\n",
       "      <th></th>\n",
       "      <th>propMW</th>\n",
       "      <th>propMP</th>\n",
       "      <th>propBP</th>\n",
       "      <th>propLogDensity</th>\n",
       "      <th>absorbent</th>\n",
       "      <th>anti_adhesive_cohesive</th>\n",
       "      <th>antioxidant</th>\n",
       "      <th>antiredeposition_agent</th>\n",
       "      <th>biocide</th>\n",
       "      <th>brightener</th>\n",
       "      <th>...</th>\n",
       "      <th>group_dentalcare</th>\n",
       "      <th>group_deodorant</th>\n",
       "      <th>group_facialcleansingandmoisturizing</th>\n",
       "      <th>group_generalmoisturizing</th>\n",
       "      <th>group_makeupandrelated</th>\n",
       "      <th>group_paintstainandrelatedproducts</th>\n",
       "      <th>group_sunscreen</th>\n",
       "      <th>group_surfacesealers</th>\n",
       "      <th>refined_spray</th>\n",
       "      <th>matrix_F</th>\n",
       "    </tr>\n",
       "  </thead>\n",
       "  <tbody>\n",
       "    <tr>\n",
       "      <th>80</th>\n",
       "      <td>79.867</td>\n",
       "      <td>1843.00000</td>\n",
       "      <td>2972.00000</td>\n",
       "      <td>0.626340</td>\n",
       "      <td>0</td>\n",
       "      <td>0</td>\n",
       "      <td>0</td>\n",
       "      <td>0</td>\n",
       "      <td>0</td>\n",
       "      <td>0</td>\n",
       "      <td>...</td>\n",
       "      <td>0.0</td>\n",
       "      <td>0.0</td>\n",
       "      <td>0.0</td>\n",
       "      <td>0.0</td>\n",
       "      <td>0.0</td>\n",
       "      <td>0.0</td>\n",
       "      <td>1.0</td>\n",
       "      <td>0.0</td>\n",
       "      <td>1</td>\n",
       "      <td>1</td>\n",
       "    </tr>\n",
       "    <tr>\n",
       "      <th>81</th>\n",
       "      <td>107.868</td>\n",
       "      <td>961.78000</td>\n",
       "      <td>2162.00000</td>\n",
       "      <td>1.014730</td>\n",
       "      <td>0</td>\n",
       "      <td>0</td>\n",
       "      <td>0</td>\n",
       "      <td>0</td>\n",
       "      <td>1</td>\n",
       "      <td>0</td>\n",
       "      <td>...</td>\n",
       "      <td>0.0</td>\n",
       "      <td>1.0</td>\n",
       "      <td>0.0</td>\n",
       "      <td>0.0</td>\n",
       "      <td>0.0</td>\n",
       "      <td>0.0</td>\n",
       "      <td>0.0</td>\n",
       "      <td>0.0</td>\n",
       "      <td>1</td>\n",
       "      <td>1</td>\n",
       "    </tr>\n",
       "    <tr>\n",
       "      <th>28448</th>\n",
       "      <td>180.203</td>\n",
       "      <td>74.45325</td>\n",
       "      <td>272.49400</td>\n",
       "      <td>0.062582</td>\n",
       "      <td>0</td>\n",
       "      <td>0</td>\n",
       "      <td>0</td>\n",
       "      <td>0</td>\n",
       "      <td>0</td>\n",
       "      <td>0</td>\n",
       "      <td>...</td>\n",
       "      <td>0.0</td>\n",
       "      <td>0.0</td>\n",
       "      <td>0.0</td>\n",
       "      <td>0.0</td>\n",
       "      <td>0.0</td>\n",
       "      <td>0.0</td>\n",
       "      <td>0.0</td>\n",
       "      <td>0.0</td>\n",
       "      <td>0</td>\n",
       "      <td>1</td>\n",
       "    </tr>\n",
       "    <tr>\n",
       "      <th>12951</th>\n",
       "      <td>194.230</td>\n",
       "      <td>65.76055</td>\n",
       "      <td>273.89350</td>\n",
       "      <td>0.052309</td>\n",
       "      <td>0</td>\n",
       "      <td>0</td>\n",
       "      <td>0</td>\n",
       "      <td>0</td>\n",
       "      <td>0</td>\n",
       "      <td>0</td>\n",
       "      <td>...</td>\n",
       "      <td>0.0</td>\n",
       "      <td>0.0</td>\n",
       "      <td>0.0</td>\n",
       "      <td>0.0</td>\n",
       "      <td>1.0</td>\n",
       "      <td>0.0</td>\n",
       "      <td>0.0</td>\n",
       "      <td>0.0</td>\n",
       "      <td>0</td>\n",
       "      <td>1</td>\n",
       "    </tr>\n",
       "    <tr>\n",
       "      <th>1169</th>\n",
       "      <td>154.253</td>\n",
       "      <td>10.43345</td>\n",
       "      <td>227.18250</td>\n",
       "      <td>-0.055024</td>\n",
       "      <td>0</td>\n",
       "      <td>0</td>\n",
       "      <td>0</td>\n",
       "      <td>0</td>\n",
       "      <td>0</td>\n",
       "      <td>0</td>\n",
       "      <td>...</td>\n",
       "      <td>0.0</td>\n",
       "      <td>0.0</td>\n",
       "      <td>0.0</td>\n",
       "      <td>0.0</td>\n",
       "      <td>0.0</td>\n",
       "      <td>0.0</td>\n",
       "      <td>0.0</td>\n",
       "      <td>0.0</td>\n",
       "      <td>0</td>\n",
       "      <td>1</td>\n",
       "    </tr>\n",
       "    <tr>\n",
       "      <th>15824</th>\n",
       "      <td>76.095</td>\n",
       "      <td>-31.99570</td>\n",
       "      <td>180.43000</td>\n",
       "      <td>0.004321</td>\n",
       "      <td>0</td>\n",
       "      <td>0</td>\n",
       "      <td>0</td>\n",
       "      <td>0</td>\n",
       "      <td>1</td>\n",
       "      <td>0</td>\n",
       "      <td>...</td>\n",
       "      <td>0.0</td>\n",
       "      <td>0.0</td>\n",
       "      <td>0.0</td>\n",
       "      <td>0.0</td>\n",
       "      <td>0.0</td>\n",
       "      <td>0.0</td>\n",
       "      <td>0.0</td>\n",
       "      <td>0.0</td>\n",
       "      <td>0</td>\n",
       "      <td>1</td>\n",
       "    </tr>\n",
       "    <tr>\n",
       "      <th>19654</th>\n",
       "      <td>58.080</td>\n",
       "      <td>-75.59565</td>\n",
       "      <td>44.93675</td>\n",
       "      <td>-0.077275</td>\n",
       "      <td>0</td>\n",
       "      <td>0</td>\n",
       "      <td>0</td>\n",
       "      <td>0</td>\n",
       "      <td>0</td>\n",
       "      <td>0</td>\n",
       "      <td>...</td>\n",
       "      <td>0.0</td>\n",
       "      <td>0.0</td>\n",
       "      <td>0.0</td>\n",
       "      <td>0.0</td>\n",
       "      <td>0.0</td>\n",
       "      <td>0.0</td>\n",
       "      <td>0.0</td>\n",
       "      <td>0.0</td>\n",
       "      <td>0</td>\n",
       "      <td>1</td>\n",
       "    </tr>\n",
       "    <tr>\n",
       "      <th>14981</th>\n",
       "      <td>92.094</td>\n",
       "      <td>41.33495</td>\n",
       "      <td>267.43050</td>\n",
       "      <td>0.070407</td>\n",
       "      <td>0</td>\n",
       "      <td>1</td>\n",
       "      <td>0</td>\n",
       "      <td>0</td>\n",
       "      <td>0</td>\n",
       "      <td>0</td>\n",
       "      <td>...</td>\n",
       "      <td>0.0</td>\n",
       "      <td>0.0</td>\n",
       "      <td>0.0</td>\n",
       "      <td>0.0</td>\n",
       "      <td>0.0</td>\n",
       "      <td>0.0</td>\n",
       "      <td>0.0</td>\n",
       "      <td>0.0</td>\n",
       "      <td>0</td>\n",
       "      <td>1</td>\n",
       "    </tr>\n",
       "    <tr>\n",
       "      <th>3607</th>\n",
       "      <td>196.290</td>\n",
       "      <td>-29.69015</td>\n",
       "      <td>225.63400</td>\n",
       "      <td>-0.031050</td>\n",
       "      <td>0</td>\n",
       "      <td>0</td>\n",
       "      <td>0</td>\n",
       "      <td>0</td>\n",
       "      <td>0</td>\n",
       "      <td>0</td>\n",
       "      <td>...</td>\n",
       "      <td>0.0</td>\n",
       "      <td>0.0</td>\n",
       "      <td>0.0</td>\n",
       "      <td>0.0</td>\n",
       "      <td>0.0</td>\n",
       "      <td>0.0</td>\n",
       "      <td>0.0</td>\n",
       "      <td>0.0</td>\n",
       "      <td>0</td>\n",
       "      <td>1</td>\n",
       "    </tr>\n",
       "    <tr>\n",
       "      <th>17803</th>\n",
       "      <td>46.069</td>\n",
       "      <td>-89.54350</td>\n",
       "      <td>73.83620</td>\n",
       "      <td>-0.040005</td>\n",
       "      <td>0</td>\n",
       "      <td>1</td>\n",
       "      <td>0</td>\n",
       "      <td>0</td>\n",
       "      <td>1</td>\n",
       "      <td>0</td>\n",
       "      <td>...</td>\n",
       "      <td>0.0</td>\n",
       "      <td>0.0</td>\n",
       "      <td>0.0</td>\n",
       "      <td>0.0</td>\n",
       "      <td>0.0</td>\n",
       "      <td>0.0</td>\n",
       "      <td>0.0</td>\n",
       "      <td>0.0</td>\n",
       "      <td>0</td>\n",
       "      <td>1</td>\n",
       "    </tr>\n",
       "  </tbody>\n",
       "</table>\n",
       "<p>10 rows × 38 columns</p>\n",
       "</div>"
      ],
      "text/plain": [
       "        propMW      propMP      propBP  propLogDensity  absorbent  \\\n",
       "80      79.867  1843.00000  2972.00000        0.626340          0   \n",
       "81     107.868   961.78000  2162.00000        1.014730          0   \n",
       "28448  180.203    74.45325   272.49400        0.062582          0   \n",
       "12951  194.230    65.76055   273.89350        0.052309          0   \n",
       "1169   154.253    10.43345   227.18250       -0.055024          0   \n",
       "15824   76.095   -31.99570   180.43000        0.004321          0   \n",
       "19654   58.080   -75.59565    44.93675       -0.077275          0   \n",
       "14981   92.094    41.33495   267.43050        0.070407          0   \n",
       "3607   196.290   -29.69015   225.63400       -0.031050          0   \n",
       "17803   46.069   -89.54350    73.83620       -0.040005          0   \n",
       "\n",
       "       anti_adhesive_cohesive  antioxidant  antiredeposition_agent  biocide  \\\n",
       "80                          0            0                       0        0   \n",
       "81                          0            0                       0        1   \n",
       "28448                       0            0                       0        0   \n",
       "12951                       0            0                       0        0   \n",
       "1169                        0            0                       0        0   \n",
       "15824                       0            0                       0        1   \n",
       "19654                       0            0                       0        0   \n",
       "14981                       1            0                       0        0   \n",
       "3607                        0            0                       0        0   \n",
       "17803                       1            0                       0        1   \n",
       "\n",
       "       brightener  ...  group_dentalcare  group_deodorant  \\\n",
       "80              0  ...               0.0              0.0   \n",
       "81              0  ...               0.0              1.0   \n",
       "28448           0  ...               0.0              0.0   \n",
       "12951           0  ...               0.0              0.0   \n",
       "1169            0  ...               0.0              0.0   \n",
       "15824           0  ...               0.0              0.0   \n",
       "19654           0  ...               0.0              0.0   \n",
       "14981           0  ...               0.0              0.0   \n",
       "3607            0  ...               0.0              0.0   \n",
       "17803           0  ...               0.0              0.0   \n",
       "\n",
       "       group_facialcleansingandmoisturizing  group_generalmoisturizing  \\\n",
       "80                                      0.0                        0.0   \n",
       "81                                      0.0                        0.0   \n",
       "28448                                   0.0                        0.0   \n",
       "12951                                   0.0                        0.0   \n",
       "1169                                    0.0                        0.0   \n",
       "15824                                   0.0                        0.0   \n",
       "19654                                   0.0                        0.0   \n",
       "14981                                   0.0                        0.0   \n",
       "3607                                    0.0                        0.0   \n",
       "17803                                   0.0                        0.0   \n",
       "\n",
       "       group_makeupandrelated  group_paintstainandrelatedproducts  \\\n",
       "80                        0.0                                 0.0   \n",
       "81                        0.0                                 0.0   \n",
       "28448                     0.0                                 0.0   \n",
       "12951                     1.0                                 0.0   \n",
       "1169                      0.0                                 0.0   \n",
       "15824                     0.0                                 0.0   \n",
       "19654                     0.0                                 0.0   \n",
       "14981                     0.0                                 0.0   \n",
       "3607                      0.0                                 0.0   \n",
       "17803                     0.0                                 0.0   \n",
       "\n",
       "       group_sunscreen  group_surfacesealers  refined_spray  matrix_F  \n",
       "80                 1.0                   0.0              1         1  \n",
       "81                 0.0                   0.0              1         1  \n",
       "28448              0.0                   0.0              0         1  \n",
       "12951              0.0                   0.0              0         1  \n",
       "1169               0.0                   0.0              0         1  \n",
       "15824              0.0                   0.0              0         1  \n",
       "19654              0.0                   0.0              0         1  \n",
       "14981              0.0                   0.0              0         1  \n",
       "3607               0.0                   0.0              0         1  \n",
       "17803              0.0                   0.0              0         1  \n",
       "\n",
       "[10 rows x 38 columns]"
      ]
     },
     "execution_count": 15,
     "metadata": {},
     "output_type": "execute_result"
    }
   ],
   "source": [
    "# Concatenate organics samples with ENM data\n",
    "X_1to1 = pd.concat([X_enm, X_samples], sort=False)\n",
    "print(X_1to1.shape)\n",
    "# The first two rows are ENM data, the remainder are organics data\n",
    "X_1to1.iloc[80:90,:]"
   ]
  },
  {
   "cell_type": "code",
   "execution_count": 26,
   "metadata": {
    "ExecuteTime": {
     "end_time": "2019-08-02T02:05:17.955329Z",
     "start_time": "2019-08-02T02:05:17.943473Z"
    }
   },
   "outputs": [
    {
     "data": {
      "text/plain": [
       "[202, 13254, 2231, 19108, 11288, 2753, 17587, 888]"
      ]
     },
     "execution_count": 26,
     "metadata": {},
     "output_type": "execute_result"
    }
   ],
   "source": [
    "# Try to make this process faster\n",
    "import random as pyrandom\n",
    "\n",
    "# Randomly sample source (organics) feature data and get list of their indices\n",
    "pyrandom.seed(31)\n",
    "idx_match_name = pyrandom.sample(list(X_source.index), 82)\n",
    "# List first few matches\n",
    "idx_match_name[:8]"
   ]
  },
  {
   "cell_type": "code",
   "execution_count": null,
   "metadata": {},
   "outputs": [],
   "source": [
    "    from numpy import random\n",
    "    import random as pyrandom\n",
    "    from sklearn.preprocessing import MinMaxScaler\n",
    "    from sklearn.metrics.pairwise import cosine_distances\n",
    "    \n",
    "    pyrandom.seed(random_state)\n",
    "    \n",
    "    # ===No augmentation===\n",
    "    if (aug_type=='none' or k==0):\n",
    "        X_aug, bin_aug = X_enm_train, bin_enm_train\n",
    "    \n",
    "    else:\n",
    "        # ===Random augmentation===\n",
    "        if aug_type=='random': \n",
    "            n_samples = k * len(X_enm_train) # number of samples to select\n",
    "            # Obtain indices of randomly sampled source (organics) data\n",
    "            idx_match = pyrandom.sample(list(X_source.index), n_samples)"
   ]
  },
  {
   "cell_type": "markdown",
   "metadata": {},
   "source": [
    "#### Control labels"
   ]
  },
  {
   "cell_type": "code",
   "execution_count": 16,
   "metadata": {
    "ExecuteTime": {
     "end_time": "2019-07-20T01:01:09.435029Z",
     "start_time": "2019-07-20T01:01:09.415452Z"
    }
   },
   "outputs": [
    {
     "name": "stdout",
     "output_type": "stream",
     "text": [
      "(82,)\n"
     ]
    },
    {
     "data": {
      "text/plain": [
       "28448    0\n",
       "12951    0\n",
       "1169     1\n",
       "15824    2\n",
       "19654    2\n",
       "14981    1\n",
       "3607     1\n",
       "17803    2\n",
       "dtype: int64"
      ]
     },
     "execution_count": 16,
     "metadata": {},
     "output_type": "execute_result"
    }
   ],
   "source": [
    "# Randomly sample source (organics) feature data and get list of their indices\n",
    "idy_match_name = np.asarray(y_source.sample(n=82, \n",
    "                            replace=False, \n",
    "                            random_state=31, \n",
    "                            axis=0).index)\n",
    "# Get location of indices\n",
    "idy_match = [y_source.index.get_loc(i) for i in idy_match_name]\n",
    "# Apply sample selection; Check that list comprehension (above) worked\n",
    "bin_samples = y_source.iloc[idy_match,:].apply(blt.bins, axis=1)\n",
    "print(bin_samples.shape)\n",
    "bin_samples.head(8)"
   ]
  },
  {
   "cell_type": "code",
   "execution_count": 17,
   "metadata": {
    "ExecuteTime": {
     "end_time": "2019-07-20T01:01:09.574618Z",
     "start_time": "2019-07-20T01:01:09.565776Z"
    }
   },
   "outputs": [
    {
     "name": "stdout",
     "output_type": "stream",
     "text": [
      "(164,)\n"
     ]
    },
    {
     "data": {
      "text/plain": [
       "array([0, 0, 0, 0, 1, 2, 2, 1, 1, 2])"
      ]
     },
     "execution_count": 17,
     "metadata": {},
     "output_type": "execute_result"
    }
   ],
   "source": [
    "# Concatenate organics samples with ENM data\n",
    "bin_1to1 = np.concatenate([bin_enm, bin_samples])\n",
    "print(bin_1to1.shape)\n",
    "# The first two rows are ENM data, the remainder are organics data\n",
    "bin_1to1[80:90]"
   ]
  },
  {
   "cell_type": "markdown",
   "metadata": {},
   "source": [
    "#### Test data frame"
   ]
  },
  {
   "cell_type": "code",
   "execution_count": 35,
   "metadata": {
    "ExecuteTime": {
     "end_time": "2020-09-14T19:58:23.531657Z",
     "start_time": "2020-09-14T19:58:23.514249Z"
    }
   },
   "outputs": [],
   "source": [
    "# Apply new function with same conditions\n",
    "X_test, bin_test = blt.augment(aug_type='random', \n",
    "                                             k=1, \n",
    "                                             X_enm_train=X_enm, \n",
    "                                             bin_enm_train=bin_enm, \n",
    "                                             random_state=31)"
   ]
  },
  {
   "cell_type": "code",
   "execution_count": 19,
   "metadata": {
    "ExecuteTime": {
     "end_time": "2019-07-20T01:01:10.046900Z",
     "start_time": "2019-07-20T01:01:10.039142Z"
    }
   },
   "outputs": [
    {
     "name": "stdout",
     "output_type": "stream",
     "text": [
      "True\n",
      "True\n"
     ]
    }
   ],
   "source": [
    "are_equal(X_test, X_1to1)\n",
    "are_equal(bin_test, bin_1to1)"
   ]
  },
  {
   "cell_type": "markdown",
   "metadata": {},
   "source": [
    "### Unsupervised augmentation"
   ]
  },
  {
   "cell_type": "markdown",
   "metadata": {},
   "source": [
    "In unsupervised augmentation, we match \"k\" most similar organics samples to each ENM sample based on the smallest cosine distance between ENM and organics samples (i.e., in an supervised fashion)."
   ]
  },
  {
   "cell_type": "markdown",
   "metadata": {},
   "source": [
    "#### Control data frames"
   ]
  },
  {
   "cell_type": "code",
   "execution_count": 20,
   "metadata": {
    "ExecuteTime": {
     "end_time": "2019-07-20T01:01:10.704797Z",
     "start_time": "2019-07-20T01:01:10.664505Z"
    }
   },
   "outputs": [],
   "source": [
    "# Scale/normalize data for computing distance\n",
    "from sklearn.preprocessing import MinMaxScaler\n",
    "\n",
    "scaler = MinMaxScaler(feature_range=(0, 1))\n",
    "\n",
    "# Fit scaler to all possible training data (ENM and organics)\n",
    "scaler.fit(pd.concat([X_enm, X_source]))\n",
    "# Apply fitted scaler separately\n",
    "X_enm_scaled = pd.DataFrame(scaler.transform(X_enm), \n",
    "                            columns = X_enm.columns, \n",
    "                            index = X_enm.index)\n",
    "X_source_scaled = pd.DataFrame(scaler.transform(X_source), \n",
    "                               columns = X_source.columns, \n",
    "                               index = X_source.index)"
   ]
  },
  {
   "cell_type": "code",
   "execution_count": 21,
   "metadata": {
    "ExecuteTime": {
     "end_time": "2019-07-20T01:01:10.812762Z",
     "start_time": "2019-07-20T01:01:10.789145Z"
    }
   },
   "outputs": [
    {
     "name": "stdout",
     "output_type": "stream",
     "text": [
      "(16354, 82)\n"
     ]
    }
   ],
   "source": [
    "# Cosine similarity computes the L2-normalized dot product of vectors\n",
    "# Cosine distance = 1 - cosine similarity\n",
    "from sklearn.metrics.pairwise import cosine_distances\n",
    "\n",
    "cos_dist = cosine_distances(X=X_source_scaled, Y=X_enm_scaled)\n",
    "print(cos_dist.shape)"
   ]
  },
  {
   "cell_type": "markdown",
   "metadata": {},
   "source": [
    "This will also look at whether there is a difference in results between two different ways of searching for the smallest distances: argsort versus argpartition (less computation time)."
   ]
  },
  {
   "cell_type": "code",
   "execution_count": 22,
   "metadata": {
    "ExecuteTime": {
     "end_time": "2019-07-20T01:01:11.250729Z",
     "start_time": "2019-07-20T01:01:11.170062Z"
    }
   },
   "outputs": [
    {
     "name": "stdout",
     "output_type": "stream",
     "text": [
      "idx_match shape:  820\n",
      "dist_match shape:  820\n",
      "match_group shape:  820\n"
     ]
    }
   ],
   "source": [
    "# Write loop to match k most similar organics examples \n",
    "# to ENM examples based on smallest cosine distance\n",
    "\n",
    "# Set number of matches to return\n",
    "k = 10\n",
    "\n",
    "# Loop over distance 2D-array to return list of matching organics indices\n",
    "idx_match = []\n",
    "dist_match = []\n",
    "for col in cos_dist.T:\n",
    "    # Find indices of k-smallest distances\n",
    "    matches = np.argsort(col)[:k]\n",
    "    idx_match.extend(matches)\n",
    "    dist_match.extend(col[matches])\n",
    "    \n",
    "# Create array for which ENM group augmented data belongs to\n",
    "match_group = np.repeat(y_enm.index.values, k)\n",
    "\n",
    "print('idx_match shape: ', len(idx_match))\n",
    "print('dist_match shape: ', len(dist_match))\n",
    "print('match_group shape: ', len(match_group))"
   ]
  },
  {
   "cell_type": "code",
   "execution_count": 23,
   "metadata": {
    "ExecuteTime": {
     "end_time": "2019-07-20T01:01:11.324279Z",
     "start_time": "2019-07-20T01:01:11.309991Z"
    }
   },
   "outputs": [
    {
     "data": {
      "text/html": [
       "<div>\n",
       "<style scoped>\n",
       "    .dataframe tbody tr th:only-of-type {\n",
       "        vertical-align: middle;\n",
       "    }\n",
       "\n",
       "    .dataframe tbody tr th {\n",
       "        vertical-align: top;\n",
       "    }\n",
       "\n",
       "    .dataframe thead th {\n",
       "        text-align: right;\n",
       "    }\n",
       "</style>\n",
       "<table border=\"1\" class=\"dataframe\">\n",
       "  <thead>\n",
       "    <tr style=\"text-align: right;\">\n",
       "      <th></th>\n",
       "      <th>organic_idx</th>\n",
       "      <th>cos_dist</th>\n",
       "    </tr>\n",
       "  </thead>\n",
       "  <tbody>\n",
       "    <tr>\n",
       "      <th>0</th>\n",
       "      <td>15315</td>\n",
       "      <td>0.204226</td>\n",
       "    </tr>\n",
       "    <tr>\n",
       "      <th>0</th>\n",
       "      <td>15322</td>\n",
       "      <td>0.204226</td>\n",
       "    </tr>\n",
       "    <tr>\n",
       "      <th>0</th>\n",
       "      <td>11243</td>\n",
       "      <td>0.270761</td>\n",
       "    </tr>\n",
       "    <tr>\n",
       "      <th>0</th>\n",
       "      <td>15327</td>\n",
       "      <td>0.283593</td>\n",
       "    </tr>\n",
       "    <tr>\n",
       "      <th>0</th>\n",
       "      <td>15326</td>\n",
       "      <td>0.283593</td>\n",
       "    </tr>\n",
       "    <tr>\n",
       "      <th>0</th>\n",
       "      <td>15318</td>\n",
       "      <td>0.283593</td>\n",
       "    </tr>\n",
       "    <tr>\n",
       "      <th>0</th>\n",
       "      <td>15320</td>\n",
       "      <td>0.283593</td>\n",
       "    </tr>\n",
       "    <tr>\n",
       "      <th>0</th>\n",
       "      <td>15321</td>\n",
       "      <td>0.283593</td>\n",
       "    </tr>\n",
       "    <tr>\n",
       "      <th>0</th>\n",
       "      <td>13805</td>\n",
       "      <td>0.287353</td>\n",
       "    </tr>\n",
       "    <tr>\n",
       "      <th>0</th>\n",
       "      <td>13798</td>\n",
       "      <td>0.287353</td>\n",
       "    </tr>\n",
       "    <tr>\n",
       "      <th>1</th>\n",
       "      <td>6333</td>\n",
       "      <td>0.178588</td>\n",
       "    </tr>\n",
       "    <tr>\n",
       "      <th>1</th>\n",
       "      <td>6349</td>\n",
       "      <td>0.178588</td>\n",
       "    </tr>\n",
       "    <tr>\n",
       "      <th>1</th>\n",
       "      <td>5317</td>\n",
       "      <td>0.185708</td>\n",
       "    </tr>\n",
       "    <tr>\n",
       "      <th>1</th>\n",
       "      <td>5459</td>\n",
       "      <td>0.185708</td>\n",
       "    </tr>\n",
       "    <tr>\n",
       "      <th>1</th>\n",
       "      <td>5284</td>\n",
       "      <td>0.185708</td>\n",
       "    </tr>\n",
       "    <tr>\n",
       "      <th>1</th>\n",
       "      <td>5504</td>\n",
       "      <td>0.185708</td>\n",
       "    </tr>\n",
       "    <tr>\n",
       "      <th>1</th>\n",
       "      <td>5454</td>\n",
       "      <td>0.185708</td>\n",
       "    </tr>\n",
       "    <tr>\n",
       "      <th>1</th>\n",
       "      <td>5452</td>\n",
       "      <td>0.185708</td>\n",
       "    </tr>\n",
       "    <tr>\n",
       "      <th>1</th>\n",
       "      <td>6341</td>\n",
       "      <td>0.210082</td>\n",
       "    </tr>\n",
       "    <tr>\n",
       "      <th>1</th>\n",
       "      <td>6330</td>\n",
       "      <td>0.210082</td>\n",
       "    </tr>\n",
       "  </tbody>\n",
       "</table>\n",
       "</div>"
      ],
      "text/plain": [
       "   organic_idx  cos_dist\n",
       "0        15315  0.204226\n",
       "0        15322  0.204226\n",
       "0        11243  0.270761\n",
       "0        15327  0.283593\n",
       "0        15326  0.283593\n",
       "0        15318  0.283593\n",
       "0        15320  0.283593\n",
       "0        15321  0.283593\n",
       "0        13805  0.287353\n",
       "0        13798  0.287353\n",
       "1         6333  0.178588\n",
       "1         6349  0.178588\n",
       "1         5317  0.185708\n",
       "1         5459  0.185708\n",
       "1         5284  0.185708\n",
       "1         5504  0.185708\n",
       "1         5454  0.185708\n",
       "1         5452  0.185708\n",
       "1         6341  0.210082\n",
       "1         6330  0.210082"
      ]
     },
     "execution_count": 23,
     "metadata": {},
     "output_type": "execute_result"
    }
   ],
   "source": [
    "# Abbreviated table of matching organics indices and their cosine distance from an ENM tuple\n",
    "match_table = pd.DataFrame({\n",
    "    'organic_idx': idx_match, \n",
    "    'cos_dist': dist_match}, index=match_group)\n",
    "match_table.head(20)"
   ]
  },
  {
   "cell_type": "code",
   "execution_count": 24,
   "metadata": {
    "ExecuteTime": {
     "end_time": "2019-07-20T01:01:11.504186Z",
     "start_time": "2019-07-20T01:01:11.474037Z"
    }
   },
   "outputs": [
    {
     "name": "stdout",
     "output_type": "stream",
     "text": [
      "idx_match shape:  820\n",
      "dist_match shape:  820\n",
      "match_group shape:  820\n"
     ]
    }
   ],
   "source": [
    "# Write loop to match k most similar organics examples \n",
    "# to ENM examples based on smallest cosine distance\n",
    "\n",
    "# Set number of matches to return\n",
    "k = 10\n",
    "# Loop over distance 2D-array to return list of matching organics indices\n",
    "idx_match = []\n",
    "dist_match = []    \n",
    "for col in cos_dist.T:\n",
    "    # Find organics data indices of k-smallest distances\n",
    "    matches = np.argpartition(col, k)[:k]\n",
    "    idx_match.extend(matches)\n",
    "    dist_match.extend(col[matches])\n",
    "# Create array for which ENM group augmented data belongs to\n",
    "match_group = np.repeat(y_enm.index.values, k)\n",
    "\n",
    "print('idx_match shape: ', len(idx_match))\n",
    "print('dist_match shape: ', len(dist_match))\n",
    "print('match_group shape: ', len(match_group))"
   ]
  },
  {
   "cell_type": "code",
   "execution_count": 25,
   "metadata": {
    "ExecuteTime": {
     "end_time": "2019-07-20T01:01:11.643590Z",
     "start_time": "2019-07-20T01:01:11.633560Z"
    }
   },
   "outputs": [
    {
     "data": {
      "text/html": [
       "<div>\n",
       "<style scoped>\n",
       "    .dataframe tbody tr th:only-of-type {\n",
       "        vertical-align: middle;\n",
       "    }\n",
       "\n",
       "    .dataframe tbody tr th {\n",
       "        vertical-align: top;\n",
       "    }\n",
       "\n",
       "    .dataframe thead th {\n",
       "        text-align: right;\n",
       "    }\n",
       "</style>\n",
       "<table border=\"1\" class=\"dataframe\">\n",
       "  <thead>\n",
       "    <tr style=\"text-align: right;\">\n",
       "      <th></th>\n",
       "      <th>organic_idx</th>\n",
       "      <th>cos_dist</th>\n",
       "    </tr>\n",
       "  </thead>\n",
       "  <tbody>\n",
       "    <tr>\n",
       "      <th>0</th>\n",
       "      <td>15327</td>\n",
       "      <td>0.283593</td>\n",
       "    </tr>\n",
       "    <tr>\n",
       "      <th>0</th>\n",
       "      <td>15322</td>\n",
       "      <td>0.204226</td>\n",
       "    </tr>\n",
       "    <tr>\n",
       "      <th>0</th>\n",
       "      <td>13805</td>\n",
       "      <td>0.287353</td>\n",
       "    </tr>\n",
       "    <tr>\n",
       "      <th>0</th>\n",
       "      <td>15315</td>\n",
       "      <td>0.204226</td>\n",
       "    </tr>\n",
       "    <tr>\n",
       "      <th>0</th>\n",
       "      <td>15318</td>\n",
       "      <td>0.283593</td>\n",
       "    </tr>\n",
       "    <tr>\n",
       "      <th>0</th>\n",
       "      <td>15320</td>\n",
       "      <td>0.283593</td>\n",
       "    </tr>\n",
       "    <tr>\n",
       "      <th>0</th>\n",
       "      <td>15321</td>\n",
       "      <td>0.283593</td>\n",
       "    </tr>\n",
       "    <tr>\n",
       "      <th>0</th>\n",
       "      <td>11243</td>\n",
       "      <td>0.270761</td>\n",
       "    </tr>\n",
       "    <tr>\n",
       "      <th>0</th>\n",
       "      <td>15326</td>\n",
       "      <td>0.283593</td>\n",
       "    </tr>\n",
       "    <tr>\n",
       "      <th>0</th>\n",
       "      <td>13800</td>\n",
       "      <td>0.287353</td>\n",
       "    </tr>\n",
       "    <tr>\n",
       "      <th>1</th>\n",
       "      <td>5454</td>\n",
       "      <td>0.185708</td>\n",
       "    </tr>\n",
       "    <tr>\n",
       "      <th>1</th>\n",
       "      <td>6349</td>\n",
       "      <td>0.178588</td>\n",
       "    </tr>\n",
       "    <tr>\n",
       "      <th>1</th>\n",
       "      <td>5317</td>\n",
       "      <td>0.185708</td>\n",
       "    </tr>\n",
       "    <tr>\n",
       "      <th>1</th>\n",
       "      <td>5284</td>\n",
       "      <td>0.185708</td>\n",
       "    </tr>\n",
       "    <tr>\n",
       "      <th>1</th>\n",
       "      <td>5452</td>\n",
       "      <td>0.185708</td>\n",
       "    </tr>\n",
       "    <tr>\n",
       "      <th>1</th>\n",
       "      <td>6341</td>\n",
       "      <td>0.210082</td>\n",
       "    </tr>\n",
       "    <tr>\n",
       "      <th>1</th>\n",
       "      <td>5504</td>\n",
       "      <td>0.185708</td>\n",
       "    </tr>\n",
       "    <tr>\n",
       "      <th>1</th>\n",
       "      <td>5459</td>\n",
       "      <td>0.185708</td>\n",
       "    </tr>\n",
       "    <tr>\n",
       "      <th>1</th>\n",
       "      <td>6333</td>\n",
       "      <td>0.178588</td>\n",
       "    </tr>\n",
       "    <tr>\n",
       "      <th>1</th>\n",
       "      <td>6330</td>\n",
       "      <td>0.210082</td>\n",
       "    </tr>\n",
       "  </tbody>\n",
       "</table>\n",
       "</div>"
      ],
      "text/plain": [
       "   organic_idx  cos_dist\n",
       "0        15327  0.283593\n",
       "0        15322  0.204226\n",
       "0        13805  0.287353\n",
       "0        15315  0.204226\n",
       "0        15318  0.283593\n",
       "0        15320  0.283593\n",
       "0        15321  0.283593\n",
       "0        11243  0.270761\n",
       "0        15326  0.283593\n",
       "0        13800  0.287353\n",
       "1         5454  0.185708\n",
       "1         6349  0.178588\n",
       "1         5317  0.185708\n",
       "1         5284  0.185708\n",
       "1         5452  0.185708\n",
       "1         6341  0.210082\n",
       "1         5504  0.185708\n",
       "1         5459  0.185708\n",
       "1         6333  0.178588\n",
       "1         6330  0.210082"
      ]
     },
     "execution_count": 25,
     "metadata": {},
     "output_type": "execute_result"
    }
   ],
   "source": [
    "# Abbreviated table of matching organics indices and their cosine distance from an ENM tuple\n",
    "match_table2 = pd.DataFrame({\n",
    "    'organic_idx': idx_match, \n",
    "    'cos_dist': dist_match}, index=match_group)\n",
    "match_table2.head(20)"
   ]
  },
  {
   "cell_type": "code",
   "execution_count": 26,
   "metadata": {
    "ExecuteTime": {
     "end_time": "2019-07-20T01:01:11.790779Z",
     "start_time": "2019-07-20T01:01:11.784976Z"
    }
   },
   "outputs": [
    {
     "name": "stdout",
     "output_type": "stream",
     "text": [
      "mean 0.20416574747908728\n",
      "min 0.042195974347876364\n",
      "max 0.4993616599381635\n"
     ]
    }
   ],
   "source": [
    "# Summary statistics for argpartition\n",
    "print('mean', match_table['cos_dist'].mean())\n",
    "print('min', match_table['cos_dist'].min())\n",
    "print('max', match_table['cos_dist'].max())"
   ]
  },
  {
   "cell_type": "code",
   "execution_count": 27,
   "metadata": {
    "ExecuteTime": {
     "end_time": "2019-07-20T01:01:11.935789Z",
     "start_time": "2019-07-20T01:01:11.926605Z"
    }
   },
   "outputs": [
    {
     "name": "stdout",
     "output_type": "stream",
     "text": [
      "mean 0.20416574747908728\n",
      "min 0.042195974347876364\n",
      "max 0.4993616599381635\n"
     ]
    }
   ],
   "source": [
    "# Summary statistics for argsort\n",
    "print('mean', match_table2['cos_dist'].mean())\n",
    "print('min', match_table2['cos_dist'].min())\n",
    "print('max', match_table2['cos_dist'].max())"
   ]
  },
  {
   "cell_type": "code",
   "execution_count": 28,
   "metadata": {
    "ExecuteTime": {
     "end_time": "2019-07-20T01:01:12.082860Z",
     "start_time": "2019-07-20T01:01:12.075276Z"
    }
   },
   "outputs": [
    {
     "name": "stdout",
     "output_type": "stream",
     "text": [
      "False\n"
     ]
    }
   ],
   "source": [
    "are_equal(match_table, match_table2)"
   ]
  },
  {
   "cell_type": "markdown",
   "metadata": {},
   "source": [
    "Both sorting approaches result in the same performance statistics, but the tables are not identical. This is because argpartition does not sort the distances before making the cutoff at k samples--a result that is evident in the match_table output. So if a lot of samples around the cutoff line have the same cosine distance, argpartition may have not picked a sample that argsort did because of the difference in sample order.\n",
    "\n",
    "Because performance is effectively the same, we chose the less computationally intensive approach--argpartition."
   ]
  },
  {
   "cell_type": "code",
   "execution_count": 29,
   "metadata": {
    "ExecuteTime": {
     "end_time": "2019-07-20T01:01:12.422422Z",
     "start_time": "2019-07-20T01:01:12.391328Z"
    }
   },
   "outputs": [
    {
     "name": "stdout",
     "output_type": "stream",
     "text": [
      "(902, 38)\n",
      "902\n",
      "902\n"
     ]
    }
   ],
   "source": [
    "# Create X and y dataframes of matches using the generated index list\n",
    "X_samples = X_source.iloc[idx_match,:]\n",
    "bin_samples = y_source.iloc[idx_match].apply(blt.bins, axis=1)\n",
    "\n",
    "# Append sampled organics data to ENM data\n",
    "X_matchk10 = pd.concat([X_enm, X_samples], sort=False)\n",
    "bin_matchk10 = np.concatenate([bin_enm, bin_samples])\n",
    "\n",
    "# Apply wf bins\n",
    "#bin_matchk10 = y_matchk10.apply(blt.bins, axis=1)\n",
    "\n",
    "# Create NEW array for which ENM group augmented data belongs to\n",
    "# (accounts for concatenation)\n",
    "match_group = np.repeat(y_enm.index.values, k+1)\n",
    "\n",
    "print(X_matchk10.shape)\n",
    "print(len(bin_matchk10))\n",
    "print(len(match_group))"
   ]
  },
  {
   "cell_type": "markdown",
   "metadata": {},
   "source": [
    "#### Test data frames"
   ]
  },
  {
   "cell_type": "code",
   "execution_count": 30,
   "metadata": {
    "ExecuteTime": {
     "end_time": "2019-07-20T01:01:12.805293Z",
     "start_time": "2019-07-20T01:01:12.742232Z"
    }
   },
   "outputs": [],
   "source": [
    "# Apply new function with same conditions\n",
    "X_test, bin_test = blt.augment(aug_type='uns_match', \n",
    "                               k=10, \n",
    "                               X_enm_train=X_enm, \n",
    "                               bin_enm_train=bin_enm, \n",
    "                               random_state=31)"
   ]
  },
  {
   "cell_type": "code",
   "execution_count": 31,
   "metadata": {
    "ExecuteTime": {
     "end_time": "2019-07-20T01:01:12.909555Z",
     "start_time": "2019-07-20T01:01:12.903011Z"
    }
   },
   "outputs": [
    {
     "name": "stdout",
     "output_type": "stream",
     "text": [
      "True\n",
      "True\n"
     ]
    }
   ],
   "source": [
    "are_equal(X_test, X_matchk10)\n",
    "are_equal(bin_test, bin_matchk10)"
   ]
  },
  {
   "cell_type": "markdown",
   "metadata": {},
   "source": [
    "### Supervised augmentation"
   ]
  },
  {
   "cell_type": "markdown",
   "metadata": {},
   "source": [
    "In supervised augmentation, we match \"k\" most similar organics samples to each ENM sample based on the smallest average of cosine distance between samples and distance between WF labels (i.e., in an supervised fashion)."
   ]
  },
  {
   "cell_type": "markdown",
   "metadata": {},
   "source": [
    "#### Distance matrix for control data frame"
   ]
  },
  {
   "cell_type": "markdown",
   "metadata": {},
   "source": [
    "We resume where we left off with the cosine distance matrix from unsupervised augmentation and average that with a new matrix constructed below."
   ]
  },
  {
   "cell_type": "code",
   "execution_count": 32,
   "metadata": {
    "ExecuteTime": {
     "end_time": "2019-07-20T01:01:13.736816Z",
     "start_time": "2019-07-20T01:01:13.730306Z"
    }
   },
   "outputs": [
    {
     "name": "stdout",
     "output_type": "stream",
     "text": [
      "(16354, 82)\n"
     ]
    }
   ],
   "source": [
    "# Turn 1D ENM WF label array into 2D array\n",
    "bin_enm_2d = np.tile(bin_enm, (len(bin_source), 1))\n",
    "print(bin_enm_2d.shape)"
   ]
  },
  {
   "cell_type": "code",
   "execution_count": 33,
   "metadata": {
    "ExecuteTime": {
     "end_time": "2019-07-20T01:01:13.902370Z",
     "start_time": "2019-07-20T01:01:13.893751Z"
    }
   },
   "outputs": [
    {
     "data": {
      "text/plain": [
       "array([2, 0, 1, 1, 0, 1, 1, 1, 0, 0])"
      ]
     },
     "execution_count": 33,
     "metadata": {},
     "output_type": "execute_result"
    }
   ],
   "source": [
    "# Check what first few ENM WF labels look like for reference\n",
    "bin_enm[:10]"
   ]
  },
  {
   "cell_type": "code",
   "execution_count": 34,
   "metadata": {
    "ExecuteTime": {
     "end_time": "2019-07-20T01:01:14.083101Z",
     "start_time": "2019-07-20T01:01:14.074443Z"
    }
   },
   "outputs": [
    {
     "data": {
      "text/plain": [
       "array([[2, 0, 1, 1, 0, 1, 1, 1, 0, 0],\n",
       "       [2, 0, 1, 1, 0, 1, 1, 1, 0, 0],\n",
       "       [2, 0, 1, 1, 0, 1, 1, 1, 0, 0],\n",
       "       [2, 0, 1, 1, 0, 1, 1, 1, 0, 0],\n",
       "       [2, 0, 1, 1, 0, 1, 1, 1, 0, 0],\n",
       "       [2, 0, 1, 1, 0, 1, 1, 1, 0, 0],\n",
       "       [2, 0, 1, 1, 0, 1, 1, 1, 0, 0],\n",
       "       [2, 0, 1, 1, 0, 1, 1, 1, 0, 0],\n",
       "       [2, 0, 1, 1, 0, 1, 1, 1, 0, 0],\n",
       "       [2, 0, 1, 1, 0, 1, 1, 1, 0, 0]])"
      ]
     },
     "execution_count": 34,
     "metadata": {},
     "output_type": "execute_result"
    }
   ],
   "source": [
    "# Compare with segment of 2D array\n",
    "bin_enm_2d[:10,:10]"
   ]
  },
  {
   "cell_type": "code",
   "execution_count": 35,
   "metadata": {
    "ExecuteTime": {
     "end_time": "2019-07-20T01:01:14.243078Z",
     "start_time": "2019-07-20T01:01:14.233087Z"
    }
   },
   "outputs": [
    {
     "name": "stdout",
     "output_type": "stream",
     "text": [
      "(16354, 82)\n"
     ]
    }
   ],
   "source": [
    "# Turn 1D organics WF label array into 2D array\n",
    "bin_source_2d = np.tile(bin_source, \n",
    "                        (len(bin_enm), 1)).transpose()   # note transpose\n",
    "print(bin_source_2d.shape)"
   ]
  },
  {
   "cell_type": "code",
   "execution_count": 36,
   "metadata": {
    "ExecuteTime": {
     "end_time": "2019-07-20T01:01:14.411610Z",
     "start_time": "2019-07-20T01:01:14.406354Z"
    }
   },
   "outputs": [
    {
     "data": {
      "text/plain": [
       "array([1, 1, 1, 1, 1, 1, 1, 1, 2, 1])"
      ]
     },
     "execution_count": 36,
     "metadata": {},
     "output_type": "execute_result"
    }
   ],
   "source": [
    "# Check what first few organics WF labels look like for reference\n",
    "bin_source[:10]"
   ]
  },
  {
   "cell_type": "code",
   "execution_count": 37,
   "metadata": {
    "ExecuteTime": {
     "end_time": "2019-07-20T01:01:14.567922Z",
     "start_time": "2019-07-20T01:01:14.558936Z"
    }
   },
   "outputs": [
    {
     "data": {
      "text/plain": [
       "array([[1, 1, 1, 1, 1, 1, 1, 1, 1, 1],\n",
       "       [1, 1, 1, 1, 1, 1, 1, 1, 1, 1],\n",
       "       [1, 1, 1, 1, 1, 1, 1, 1, 1, 1],\n",
       "       [1, 1, 1, 1, 1, 1, 1, 1, 1, 1],\n",
       "       [1, 1, 1, 1, 1, 1, 1, 1, 1, 1],\n",
       "       [1, 1, 1, 1, 1, 1, 1, 1, 1, 1],\n",
       "       [1, 1, 1, 1, 1, 1, 1, 1, 1, 1],\n",
       "       [1, 1, 1, 1, 1, 1, 1, 1, 1, 1],\n",
       "       [2, 2, 2, 2, 2, 2, 2, 2, 2, 2],\n",
       "       [1, 1, 1, 1, 1, 1, 1, 1, 1, 1]])"
      ]
     },
     "execution_count": 37,
     "metadata": {},
     "output_type": "execute_result"
    }
   ],
   "source": [
    "# Compare with segment of 2D array\n",
    "bin_source_2d[:10,:10]"
   ]
  },
  {
   "cell_type": "code",
   "execution_count": 38,
   "metadata": {
    "ExecuteTime": {
     "end_time": "2019-07-20T01:01:14.766441Z",
     "start_time": "2019-07-20T01:01:14.739533Z"
    }
   },
   "outputs": [
    {
     "data": {
      "text/plain": [
       "array([[1, 1, 0, 0, 1, 0, 0, 0, 1, 1],\n",
       "       [1, 1, 0, 0, 1, 0, 0, 0, 1, 1],\n",
       "       [1, 1, 0, 0, 1, 0, 0, 0, 1, 1],\n",
       "       [1, 1, 0, 0, 1, 0, 0, 0, 1, 1],\n",
       "       [1, 1, 0, 0, 1, 0, 0, 0, 1, 1],\n",
       "       [1, 1, 0, 0, 1, 0, 0, 0, 1, 1],\n",
       "       [1, 1, 0, 0, 1, 0, 0, 0, 1, 1],\n",
       "       [1, 1, 0, 0, 1, 0, 0, 0, 1, 1],\n",
       "       [0, 2, 1, 1, 2, 1, 1, 1, 2, 2],\n",
       "       [1, 1, 0, 0, 1, 0, 0, 0, 1, 1]])"
      ]
     },
     "execution_count": 38,
     "metadata": {},
     "output_type": "execute_result"
    }
   ],
   "source": [
    "# Check what the difference between a segment of the matrices looks like\n",
    "np.abs(bin_enm_2d - bin_source_2d)[:10,:10]"
   ]
  },
  {
   "cell_type": "code",
   "execution_count": 39,
   "metadata": {
    "ExecuteTime": {
     "end_time": "2019-07-20T01:01:14.939136Z",
     "start_time": "2019-07-20T01:01:14.896347Z"
    }
   },
   "outputs": [
    {
     "name": "stdout",
     "output_type": "stream",
     "text": [
      "(16354, 82)\n"
     ]
    },
    {
     "data": {
      "text/plain": [
       "array([[0.5, 0.5, 0. , 0. , 0.5, 0. , 0. , 0. , 0.5, 0.5],\n",
       "       [0.5, 0.5, 0. , 0. , 0.5, 0. , 0. , 0. , 0.5, 0.5],\n",
       "       [0.5, 0.5, 0. , 0. , 0.5, 0. , 0. , 0. , 0.5, 0.5],\n",
       "       [0.5, 0.5, 0. , 0. , 0.5, 0. , 0. , 0. , 0.5, 0.5],\n",
       "       [0.5, 0.5, 0. , 0. , 0.5, 0. , 0. , 0. , 0.5, 0.5],\n",
       "       [0.5, 0.5, 0. , 0. , 0.5, 0. , 0. , 0. , 0.5, 0.5],\n",
       "       [0.5, 0.5, 0. , 0. , 0.5, 0. , 0. , 0. , 0.5, 0.5],\n",
       "       [0.5, 0.5, 0. , 0. , 0.5, 0. , 0. , 0. , 0.5, 0.5],\n",
       "       [0. , 1. , 1. , 1. , 1. , 1. , 1. , 1. , 1. , 1. ],\n",
       "       [0.5, 0.5, 0. , 0. , 0.5, 0. , 0. , 0. , 0.5, 0.5]])"
      ]
     },
     "execution_count": 39,
     "metadata": {},
     "output_type": "execute_result"
    }
   ],
   "source": [
    "# Calculate NORMALIZED distance between ENM and organics labels\n",
    "dist_labels = scaler.fit_transform(\n",
    "    np.abs(bin_enm_2d - bin_source_2d).astype(float))\n",
    "print(dist_labels.shape)\n",
    "dist_labels[:10,:10]"
   ]
  },
  {
   "cell_type": "code",
   "execution_count": 40,
   "metadata": {
    "ExecuteTime": {
     "end_time": "2019-07-20T01:01:15.093330Z",
     "start_time": "2019-07-20T01:01:15.087150Z"
    }
   },
   "outputs": [
    {
     "name": "stdout",
     "output_type": "stream",
     "text": [
      "(16354, 82)\n",
      "[[0.6  0.73 0.68 0.73 0.73 0.96 0.96 0.69 0.69 0.69]\n",
      " [0.6  0.73 0.68 0.73 0.73 0.96 0.96 0.69 0.69 0.69]\n",
      " [0.42 0.8  0.77 0.8  0.8  0.74 0.74 0.77 0.77 0.77]\n",
      " [0.42 0.8  0.77 0.8  0.8  0.74 0.74 0.77 0.77 0.77]\n",
      " [0.42 0.8  0.77 0.8  0.8  0.74 0.74 0.77 0.77 0.77]\n",
      " [0.6  0.73 0.68 0.73 0.73 0.96 0.96 0.69 0.69 0.69]\n",
      " [0.6  0.73 0.68 0.73 0.73 0.96 0.96 0.69 0.69 0.69]\n",
      " [0.42 0.8  0.77 0.8  0.8  0.74 0.74 0.77 0.77 0.77]\n",
      " [0.64 0.75 0.71 0.75 0.75 0.97 0.97 0.72 0.72 0.72]\n",
      " [0.42 0.8  0.77 0.8  0.8  0.74 0.74 0.77 0.77 0.77]]\n"
     ]
    }
   ],
   "source": [
    "# Look at segment of cosine distance matrix for reference\n",
    "print(cos_dist.shape)\n",
    "print(np.around(cos_dist[:10,:10],2))"
   ]
  },
  {
   "cell_type": "code",
   "execution_count": 41,
   "metadata": {
    "ExecuteTime": {
     "end_time": "2019-07-20T01:01:15.274509Z",
     "start_time": "2019-07-20T01:01:15.267177Z"
    }
   },
   "outputs": [],
   "source": [
    "# Average the distances of the features and labels\n",
    "dist_matrix = (cos_dist + dist_labels) / 2"
   ]
  },
  {
   "cell_type": "code",
   "execution_count": 42,
   "metadata": {
    "ExecuteTime": {
     "end_time": "2019-07-20T01:01:15.463134Z",
     "start_time": "2019-07-20T01:01:15.454662Z"
    }
   },
   "outputs": [
    {
     "name": "stdout",
     "output_type": "stream",
     "text": [
      "(16354, 82)\n",
      "[[0.55 0.61 0.34 0.36 0.61 0.48 0.48 0.35 0.6  0.6 ]\n",
      " [0.55 0.61 0.34 0.36 0.61 0.48 0.48 0.35 0.6  0.6 ]\n",
      " [0.46 0.65 0.38 0.4  0.65 0.37 0.37 0.39 0.64 0.64]\n",
      " [0.46 0.65 0.38 0.4  0.65 0.37 0.37 0.39 0.64 0.64]\n",
      " [0.46 0.65 0.38 0.4  0.65 0.37 0.37 0.39 0.64 0.64]\n",
      " [0.55 0.61 0.34 0.36 0.61 0.48 0.48 0.35 0.6  0.6 ]\n",
      " [0.55 0.61 0.34 0.36 0.61 0.48 0.48 0.35 0.6  0.6 ]\n",
      " [0.46 0.65 0.38 0.4  0.65 0.37 0.37 0.39 0.64 0.64]\n",
      " [0.32 0.88 0.86 0.88 0.88 0.98 0.98 0.86 0.86 0.86]\n",
      " [0.46 0.65 0.38 0.4  0.65 0.37 0.37 0.39 0.64 0.64]]\n"
     ]
    }
   ],
   "source": [
    "# Look at segment of averaged distance matrix\n",
    "print(dist_matrix.shape)\n",
    "print(np.around(dist_matrix[:10,:10],2))"
   ]
  },
  {
   "cell_type": "markdown",
   "metadata": {},
   "source": [
    "#### Control data frames"
   ]
  },
  {
   "cell_type": "code",
   "execution_count": 43,
   "metadata": {
    "ExecuteTime": {
     "end_time": "2019-07-20T01:01:15.823134Z",
     "start_time": "2019-07-20T01:01:15.798282Z"
    }
   },
   "outputs": [
    {
     "name": "stdout",
     "output_type": "stream",
     "text": [
      "idx_match shape:  820\n",
      "dist_match shape:  820\n",
      "match_group shape:  820\n"
     ]
    }
   ],
   "source": [
    "# Write loop to match k most similar organics examples \n",
    "# to ENM examples based on smallest cosine distance\n",
    "\n",
    "# Set number of matches to return\n",
    "k = 10\n",
    "# Loop over distance 2D-array to return list of matching organics indices\n",
    "idx_match = []\n",
    "dist_match = []    \n",
    "for col in dist_matrix.T:\n",
    "    # Find organics data indices of k-smallest distances\n",
    "    matches = np.argpartition(col, k)[:k]\n",
    "    idx_match.extend(matches)\n",
    "    dist_match.extend(col[matches])\n",
    "# Create array for which ENM group augmented data belongs to\n",
    "match_group = np.repeat(X_enm.index.values, k)\n",
    "\n",
    "print('idx_match shape: ', len(idx_match))\n",
    "print('dist_match shape: ', len(dist_match))\n",
    "print('match_group shape: ', len(match_group))"
   ]
  },
  {
   "cell_type": "code",
   "execution_count": 44,
   "metadata": {
    "ExecuteTime": {
     "end_time": "2019-07-20T01:01:15.987383Z",
     "start_time": "2019-07-20T01:01:15.959180Z"
    }
   },
   "outputs": [
    {
     "name": "stdout",
     "output_type": "stream",
     "text": [
      "(902, 38)\n",
      "902\n",
      "902\n"
     ]
    }
   ],
   "source": [
    "# Create X and y dataframes of matches using the generated index list\n",
    "X_samples = X_source.iloc[idx_match,:]\n",
    "bin_samples = y_source.iloc[idx_match].apply(blt.bins, axis=1)\n",
    "\n",
    "# Append sampled organics data to ENM data\n",
    "X_matchk10 = pd.concat([X_enm, X_samples], sort=False)\n",
    "bin_matchk10 = np.concatenate((bin_enm, bin_samples))\n",
    "\n",
    "# Create NEW array for which ENM group augmented data belongs to\n",
    "# (accounts for concatenation)\n",
    "match_group = np.concatenate((X_enm.index.values, match_group))\n",
    "\n",
    "print(X_matchk10.shape)\n",
    "print(len(bin_matchk10))\n",
    "print(len(match_group))"
   ]
  },
  {
   "cell_type": "markdown",
   "metadata": {},
   "source": [
    "#### Test data frames"
   ]
  },
  {
   "cell_type": "code",
   "execution_count": 45,
   "metadata": {
    "ExecuteTime": {
     "end_time": "2019-07-20T01:01:16.403774Z",
     "start_time": "2019-07-20T01:01:16.303849Z"
    }
   },
   "outputs": [],
   "source": [
    "# Apply new function with same conditions\n",
    "X_test, bin_test = blt.augment(aug_type='sup_match', \n",
    "                               k=10, \n",
    "                               X_enm_train=X_enm, \n",
    "                               bin_enm_train=bin_enm, \n",
    "                               random_state=31)"
   ]
  },
  {
   "cell_type": "code",
   "execution_count": 46,
   "metadata": {
    "ExecuteTime": {
     "end_time": "2019-07-20T01:01:16.490658Z",
     "start_time": "2019-07-20T01:01:16.484892Z"
    }
   },
   "outputs": [
    {
     "name": "stdout",
     "output_type": "stream",
     "text": [
      "True\n",
      "True\n"
     ]
    }
   ],
   "source": [
    "are_equal(X_test, X_matchk10)\n",
    "are_equal(bin_test, bin_matchk10)"
   ]
  },
  {
   "cell_type": "markdown",
   "metadata": {},
   "source": [
    "### Final augmentation function"
   ]
  },
  {
   "cell_type": "code",
   "execution_count": 10,
   "metadata": {
    "ExecuteTime": {
     "end_time": "2020-09-15T00:51:10.840883Z",
     "start_time": "2020-09-15T00:51:10.824695Z"
    }
   },
   "outputs": [],
   "source": [
    "def augment(aug_type, \n",
    "            k, \n",
    "            X_enm_train, \n",
    "            bin_enm_train, \n",
    "            random_state, \n",
    "            X_source_train=X_source):\n",
    "    \n",
    "    \"\"\"\n",
    "    Augment ENM data with source (organics) data using either random \n",
    "    augmentation, unsupervised matching augmentation, or supervised matching \n",
    "    augmentation. Returns augmented data as numpy arrays.\n",
    "    \n",
    "    Arguments\n",
    "    ---------\n",
    "    aug_type : string ('none','random','uns_match', or 'sup_match')\n",
    "        The type of data augmentation to implement. \n",
    "        * none: no augmentation is performed; k must be zero.\n",
    "        * random: randomly samples source data to pair with ENM data.\n",
    "        * uns_match: match \"k\" most similar organics samples to ENM samples \n",
    "            based on smallest cosine distance between ENM and organics samples\n",
    "            (i.e., in an supervised fashion).\n",
    "        * sup_match: match \"k\" most similar organics samples to ENM samples \n",
    "            based on the smallest average of cosine distance between samples \n",
    "            and distance between WF labels (i.e., in an supervised fashion)\n",
    "    k : int\n",
    "        The number of organics samples to match with each ENM sample.\n",
    "    X_enm_train : DataFrame\n",
    "        ENM feature data to be augmented; typically a training subset for CV.\n",
    "    bin_enm_train : ndarray\n",
    "        ENM WF bin data to be augmented; typically a training subset for CV. \n",
    "    random_state : int\n",
    "        Which random seed to use.\n",
    "    \"\"\"\n",
    "    \n",
    "    import random as pyrandom    \n",
    "    from numpy import random\n",
    "    from sklearn.preprocessing import MinMaxScaler\n",
    "    from sklearn.metrics.pairwise import cosine_distances\n",
    "    \n",
    "    pyrandom.seed(random_state)\n",
    "    \n",
    "    # ===No augmentation===\n",
    "    if (aug_type=='none' or k==0):\n",
    "        X_aug, bin_aug = X_enm_train, bin_enm_train\n",
    "    \n",
    "    else:\n",
    "        # ===Random augmentation===\n",
    "        if aug_type=='random': \n",
    "            n_samples = k * len(X_enm_train) # number of samples to select\n",
    "            # Obtain indices of randomly sampled source (organics) data\n",
    "            idx_match_name = pyrandom.sample(list(X_source_train.index), n_samples)\n",
    "            idx_match = [X_source_train.index.get_loc(i) for i in idx_match_name]\n",
    "            \n",
    "        # ===Matching augmentation===\n",
    "        else:\n",
    "            # Scale/normalize data\n",
    "            scaler = MinMaxScaler(feature_range=(0, 1))\n",
    "            scaler.fit(np.concatenate((X_enm_train, X_source_train)))\n",
    "            X_enm_scaled = scaler.transform(X_enm_train)\n",
    "            X_source_scaled = scaler.transform(X_source_train)\n",
    "            \n",
    "            # Cosine distance matrix\n",
    "            cosdist_samples = cosine_distances(X_source_scaled, X_enm_scaled)\n",
    "\n",
    "            # For supervised matching augmentation, also consider WF labels\n",
    "            if aug_type=='sup_match':\n",
    "                # Turn 1D label arrays into 2D arrays\n",
    "                bin_enm_2d = np.tile(bin_enm_train, (len(bin_source), 1))\n",
    "                bin_source_2d = np.tile(bin_source, \n",
    "                                        (len(bin_enm_train), 1)).transpose()\n",
    "                # Get normalized distance between ENM and organics labels\n",
    "                dist_bins = scaler.fit_transform(\n",
    "                    np.abs(bin_enm_2d - bin_source_2d).astype(float))\n",
    "                # Average distances of features and labels\n",
    "                dist_matrix = (0.95 * cosdist_samples) + (0.05 * dist_bins)\n",
    "            else:\n",
    "                # For unsupervised matching, use plain cosine distance matrix\n",
    "                dist_matrix = cosdist_samples\n",
    "\n",
    "            # For either unsupervised or supervised matching:\n",
    "            # Loop over distance matrix in search of k-smallest distances\n",
    "            idx_match = []\n",
    "            for col in dist_matrix.T:\n",
    "                # Find organics data indices of k-smallest distances\n",
    "                matches = np.argpartition(col, k)[:k]\n",
    "                idx_match.extend(matches)\n",
    "\n",
    "        # ===All augmentation===\n",
    "        # Create X and y data frames of matches using the matching index list\n",
    "        X_match = X_source_train.iloc[idx_match,:]\n",
    "        bin_match = bin_source[idx_match]\n",
    "\n",
    "        # Append sampled organics data to ENM data\n",
    "        X_aug = np.concatenate((X_enm_train, X_match))\n",
    "        bin_aug = np.concatenate((bin_enm_train, bin_match))\n",
    "\n",
    "    return X_aug, bin_aug"
   ]
  },
  {
   "cell_type": "markdown",
   "metadata": {},
   "source": [
    "## Data Augmentation Class"
   ]
  },
  {
   "cell_type": "code",
   "execution_count": 11,
   "metadata": {
    "ExecuteTime": {
     "end_time": "2020-09-15T00:51:12.846212Z",
     "start_time": "2020-09-15T00:51:12.831348Z"
    }
   },
   "outputs": [],
   "source": [
    "import random as pyrandom\n",
    "from numpy import random\n",
    "from sklearn.metrics.pairwise import cosine_distances\n",
    "from sklearn.preprocessing import MinMaxScaler\n",
    "\n",
    "\n",
    "# Functions for different data augmentation methods\n",
    "\n",
    "def no_augment(k, X_source, y_source, random_state, X, y):\n",
    "    return X, y\n",
    "\n",
    "\n",
    "def random_augment(k, X_source, y_source, random_state, X, y):\n",
    "    \"\"\"Randomly samples source data to pair with target data.\"\"\"\n",
    "    \n",
    "    pyrandom.seed(random_state)\n",
    "    \n",
    "    # Number of samples to select\n",
    "    n_samples = k * len(X) \n",
    "    # Obtain indices for randomly sampling source data\n",
    "    idx_match = np.random.choice(len(X_source), n_samples)\n",
    "    # Select matching rows from source data\n",
    "    X_match = X_source.iloc[idx_match,:]\n",
    "    y_match = y_source[idx_match]\n",
    "    # Append sampled source data to target data\n",
    "    X_aug = np.concatenate((X, X_match))\n",
    "    #y_aug = np.concatenate((y, y_match))\n",
    "    y_aug = y[X_aug.index]\n",
    "\n",
    "    return X_aug, y_aug\n",
    "\n",
    "\n",
    "def unsupervised_augment(k, X_source, y_source, random_state, X, y):\n",
    "    \"\"\"\n",
    "    Unsupervised data augmentation\n",
    "    \n",
    "    Match \"k\" most similar source data samples to target data samples \n",
    "    based on the smallest cosine distance between target and source data \n",
    "    samples (i.e., in an supervised fashion).\n",
    "    \"\"\"\n",
    "    \n",
    "    pyrandom.seed(random_state)\n",
    "    \n",
    "    # Cosine distance matrix\n",
    "    cosdist_samples = cosine_distances(X_source, X)\n",
    "    # Loop over distance matrix in search of k-smallest distances\n",
    "    idx_match = []\n",
    "    for col in cosdist_samples.T:\n",
    "        # Find organics data indices of k-smallest distances\n",
    "        matches = np.argpartition(col, k)[:k]\n",
    "        idx_match.extend(matches)\n",
    "    # Select matching rows from source data\n",
    "    X_match = X_source.iloc[idx_match,:]\n",
    "    y_match = y_source[idx_match]\n",
    "    # Append sampled source data to target data\n",
    "    X_aug = np.concatenate((X, X_match))\n",
    "    y_aug = np.concatenate((y, y_match))\n",
    "    \n",
    "    return X_aug, y_aug\n",
    "\n",
    "def supervised_augment(k, X_source, y_source, random_state, X, y):\n",
    "    \"\"\"\n",
    "    Supervised data augmentation\n",
    "    \n",
    "    Match \"k\" most similar source data samples to target data samples \n",
    "    based on the smallest average of cosine distance between samples \n",
    "    and distance between WF labels (i.e., in an supervised fashion).\n",
    "    \"\"\"\n",
    "    \n",
    "    pyrandom.seed(random_state)\n",
    "    \n",
    "    # Cosine distance matrix\n",
    "    cosdist_samples = cosine_distances(X_source, X)\n",
    "    # For supervised matching augmentation, also consider WF labels\n",
    "    # Turn 1D label arrays into 2D arrays\n",
    "    y_2d = np.tile(y, (len(y_source), 1))\n",
    "    y_source_2d = np.tile(y_source, (len(y), 1)).transpose()\n",
    "    # Get normalized distance between ENM and organics labels\n",
    "    scaler = MinMaxScaler()\n",
    "    dist_y = scaler.fit_transform(np.abs(y_2d - y_source_2d).astype(float))\n",
    "    # Average distances of features and labels\n",
    "    dist_matrix = (0.95 * cosdist_samples) + (0.05 * dist_y)\n",
    "    # Loop over distance matrix in search of k-smallest distances\n",
    "    idx_match = []\n",
    "    for col in dist_matrix.T:\n",
    "        # Find organics data indices of k-smallest distances\n",
    "        matches = np.argpartition(col, k)[:k]\n",
    "        idx_match.extend(matches)\n",
    "    # Select matching rows from source data\n",
    "    X_match = X_source.iloc[idx_match,:]\n",
    "    y_match = y_source[idx_match]\n",
    "    # Append sampled source data to target data\n",
    "    X_aug = np.concatenate((X, X_match))\n",
    "    y_aug = np.concatenate((y, y_match))\n",
    "    \n",
    "    return X_aug, y_aug"
   ]
  },
  {
   "cell_type": "code",
   "execution_count": 12,
   "metadata": {
    "ExecuteTime": {
     "end_time": "2020-09-15T00:51:13.263049Z",
     "start_time": "2020-09-15T00:51:13.253541Z"
    }
   },
   "outputs": [],
   "source": [
    "from sklearn.base import BaseEstimator, TransformerMixin\n",
    "\n",
    "class TrainingDataAugmenter(BaseEstimator, TransformerMixin):\n",
    "    def __init__(\n",
    "        self,\n",
    "        augmentation_type=None,\n",
    "        k=None,\n",
    "        X_source=None,\n",
    "        y_source=None,\n",
    "        random_state=None,\n",
    "    ):\n",
    "        self.augmentation_type = augmentation_type\n",
    "        self.k = k\n",
    "        self.X_source = X_source\n",
    "        self.y_source = y_source\n",
    "        self.random_state = random_state\n",
    "        self.y = None\n",
    "\n",
    "    def fit(self, X, y=None):\n",
    "        self.y = y\n",
    "        return self\n",
    "\n",
    "    def transform(self, X):\n",
    "        return self.augmentation_type(\n",
    "            self.k,\n",
    "            self.X_source,\n",
    "            self.y_source,\n",
    "            self.random_state,\n",
    "            X,\n",
    "            self.y,\n",
    "        )"
   ]
  },
  {
   "cell_type": "code",
   "execution_count": 13,
   "metadata": {
    "ExecuteTime": {
     "end_time": "2020-09-15T00:51:13.667624Z",
     "start_time": "2020-09-15T00:51:13.615036Z"
    }
   },
   "outputs": [
    {
     "ename": "AttributeError",
     "evalue": "'numpy.ndarray' object has no attribute 'index'",
     "output_type": "error",
     "traceback": [
      "\u001b[0;31m---------------------------------------------------------------------------\u001b[0m",
      "\u001b[0;31mAttributeError\u001b[0m                            Traceback (most recent call last)",
      "\u001b[0;32m<ipython-input-13-14cac96340eb>\u001b[0m in \u001b[0;36m<module>\u001b[0;34m\u001b[0m\n\u001b[1;32m      5\u001b[0m                             \u001b[0my_source\u001b[0m\u001b[0;34m=\u001b[0m\u001b[0mbin_source\u001b[0m\u001b[0;34m,\u001b[0m\u001b[0;34m\u001b[0m\u001b[0;34m\u001b[0m\u001b[0m\n\u001b[1;32m      6\u001b[0m                             random_state=28)\n\u001b[0;32m----> 7\u001b[0;31m \u001b[0mX_aug\u001b[0m\u001b[0;34m,\u001b[0m \u001b[0my_aug\u001b[0m \u001b[0;34m=\u001b[0m \u001b[0maug\u001b[0m\u001b[0;34m.\u001b[0m\u001b[0mfit_transform\u001b[0m\u001b[0;34m(\u001b[0m\u001b[0mX_enm\u001b[0m\u001b[0;34m,\u001b[0m \u001b[0mbin_enm\u001b[0m\u001b[0;34m)\u001b[0m\u001b[0;34m\u001b[0m\u001b[0;34m\u001b[0m\u001b[0m\n\u001b[0m\u001b[1;32m      8\u001b[0m \u001b[0mprint\u001b[0m\u001b[0;34m(\u001b[0m\u001b[0;34m'X_aug:'\u001b[0m\u001b[0;34m,\u001b[0m \u001b[0mX_aug\u001b[0m\u001b[0;34m.\u001b[0m\u001b[0mshape\u001b[0m\u001b[0;34m)\u001b[0m\u001b[0;34m\u001b[0m\u001b[0;34m\u001b[0m\u001b[0m\n\u001b[1;32m      9\u001b[0m \u001b[0mprint\u001b[0m\u001b[0;34m(\u001b[0m\u001b[0;34m'y_aug:'\u001b[0m\u001b[0;34m,\u001b[0m \u001b[0my_aug\u001b[0m\u001b[0;34m.\u001b[0m\u001b[0mshape\u001b[0m\u001b[0;34m)\u001b[0m\u001b[0;34m\u001b[0m\u001b[0;34m\u001b[0m\u001b[0m\n",
      "\u001b[0;32m/anaconda3/lib/python3.7/site-packages/sklearn/base.py\u001b[0m in \u001b[0;36mfit_transform\u001b[0;34m(self, X, y, **fit_params)\u001b[0m\n\u001b[1;32m    465\u001b[0m         \u001b[0;32melse\u001b[0m\u001b[0;34m:\u001b[0m\u001b[0;34m\u001b[0m\u001b[0;34m\u001b[0m\u001b[0m\n\u001b[1;32m    466\u001b[0m             \u001b[0;31m# fit method of arity 2 (supervised transformation)\u001b[0m\u001b[0;34m\u001b[0m\u001b[0;34m\u001b[0m\u001b[0;34m\u001b[0m\u001b[0m\n\u001b[0;32m--> 467\u001b[0;31m             \u001b[0;32mreturn\u001b[0m \u001b[0mself\u001b[0m\u001b[0;34m.\u001b[0m\u001b[0mfit\u001b[0m\u001b[0;34m(\u001b[0m\u001b[0mX\u001b[0m\u001b[0;34m,\u001b[0m \u001b[0my\u001b[0m\u001b[0;34m,\u001b[0m \u001b[0;34m**\u001b[0m\u001b[0mfit_params\u001b[0m\u001b[0;34m)\u001b[0m\u001b[0;34m.\u001b[0m\u001b[0mtransform\u001b[0m\u001b[0;34m(\u001b[0m\u001b[0mX\u001b[0m\u001b[0;34m)\u001b[0m\u001b[0;34m\u001b[0m\u001b[0;34m\u001b[0m\u001b[0m\n\u001b[0m\u001b[1;32m    468\u001b[0m \u001b[0;34m\u001b[0m\u001b[0m\n\u001b[1;32m    469\u001b[0m \u001b[0;34m\u001b[0m\u001b[0m\n",
      "\u001b[0;32m<ipython-input-12-41b9e5bf7470>\u001b[0m in \u001b[0;36mtransform\u001b[0;34m(self, X)\u001b[0m\n\u001b[1;32m     28\u001b[0m             \u001b[0mself\u001b[0m\u001b[0;34m.\u001b[0m\u001b[0mrandom_state\u001b[0m\u001b[0;34m,\u001b[0m\u001b[0;34m\u001b[0m\u001b[0;34m\u001b[0m\u001b[0m\n\u001b[1;32m     29\u001b[0m             \u001b[0mX\u001b[0m\u001b[0;34m,\u001b[0m\u001b[0;34m\u001b[0m\u001b[0;34m\u001b[0m\u001b[0m\n\u001b[0;32m---> 30\u001b[0;31m             \u001b[0mself\u001b[0m\u001b[0;34m.\u001b[0m\u001b[0my\u001b[0m\u001b[0;34m,\u001b[0m\u001b[0;34m\u001b[0m\u001b[0;34m\u001b[0m\u001b[0m\n\u001b[0m\u001b[1;32m     31\u001b[0m         )\n",
      "\u001b[0;32m<ipython-input-11-f0b7c3565519>\u001b[0m in \u001b[0;36mrandom_augment\u001b[0;34m(k, X_source, y_source, random_state, X, y)\u001b[0m\n\u001b[1;32m     26\u001b[0m     \u001b[0mX_aug\u001b[0m \u001b[0;34m=\u001b[0m \u001b[0mnp\u001b[0m\u001b[0;34m.\u001b[0m\u001b[0mconcatenate\u001b[0m\u001b[0;34m(\u001b[0m\u001b[0;34m(\u001b[0m\u001b[0mX\u001b[0m\u001b[0;34m,\u001b[0m \u001b[0mX_match\u001b[0m\u001b[0;34m)\u001b[0m\u001b[0;34m)\u001b[0m\u001b[0;34m\u001b[0m\u001b[0;34m\u001b[0m\u001b[0m\n\u001b[1;32m     27\u001b[0m     \u001b[0;31m#y_aug = np.concatenate((y, y_match))\u001b[0m\u001b[0;34m\u001b[0m\u001b[0;34m\u001b[0m\u001b[0;34m\u001b[0m\u001b[0m\n\u001b[0;32m---> 28\u001b[0;31m     \u001b[0my_aug\u001b[0m \u001b[0;34m=\u001b[0m \u001b[0my\u001b[0m\u001b[0;34m[\u001b[0m\u001b[0mX_aug\u001b[0m\u001b[0;34m.\u001b[0m\u001b[0mindex\u001b[0m\u001b[0;34m]\u001b[0m\u001b[0;34m\u001b[0m\u001b[0;34m\u001b[0m\u001b[0m\n\u001b[0m\u001b[1;32m     29\u001b[0m \u001b[0;34m\u001b[0m\u001b[0m\n\u001b[1;32m     30\u001b[0m     \u001b[0;32mreturn\u001b[0m \u001b[0mX_aug\u001b[0m\u001b[0;34m,\u001b[0m \u001b[0my_aug\u001b[0m\u001b[0;34m\u001b[0m\u001b[0;34m\u001b[0m\u001b[0m\n",
      "\u001b[0;31mAttributeError\u001b[0m: 'numpy.ndarray' object has no attribute 'index'"
     ]
    }
   ],
   "source": [
    "# Apply augmentation class\n",
    "aug = TrainingDataAugmenter(augmentation_type=random_augment, \n",
    "                            k=1, \n",
    "                            X_source=X_source,\n",
    "                            y_source=bin_source,\n",
    "                            random_state=28)\n",
    "X_aug, y_aug = aug.fit_transform(X_enm, bin_enm)\n",
    "print('X_aug:', X_aug.shape)\n",
    "print('y_aug:', y_aug.shape)\n",
    "\n",
    "# Apply augmentation function\n",
    "X_ctrl, y_ctrl = augment(aug_type='random', \n",
    "                           k=1, \n",
    "                           X_enm_train=X_enm, \n",
    "                           bin_enm_train=bin_enm, \n",
    "                           random_state=28)\n",
    "print('X_ctrl:', X_ctrl.shape)\n",
    "print('y_ctrl:', y_ctrl.shape)\n",
    "\n",
    "# Random Augmentation test passes!\n",
    "print('Are Xs, ys equal?')\n",
    "are_equal(X_aug.sort(axis=-1), X_ctrl.sort(axis=-1))\n",
    "are_equal(y_aug.sort(axis=-1), y_ctrl.sort(axis=-1))"
   ]
  },
  {
   "cell_type": "code",
   "execution_count": 25,
   "metadata": {
    "ExecuteTime": {
     "end_time": "2020-09-14T23:54:57.534236Z",
     "start_time": "2020-09-14T23:54:57.508198Z"
    }
   },
   "outputs": [
    {
     "name": "stdout",
     "output_type": "stream",
     "text": [
      "X_aug: (448, 35)\n",
      "y_aug: (448,)\n",
      "X_ctrl: (448, 35)\n",
      "y_ctrl: (448,)\n",
      "Are Xs, ys equal?\n",
      "True\n",
      "True\n"
     ]
    }
   ],
   "source": [
    "# Apply augmentation class\n",
    "aug = TrainingDataAugmenter(augmentation_type=random_augment, \n",
    "                            k=3, \n",
    "                            X_source=X_source,\n",
    "                            y_source=bin_source,\n",
    "                            random_state=28)\n",
    "X_aug, y_aug = aug.fit_transform(X_enm, bin_enm)\n",
    "print('X_aug:', X_aug.shape)\n",
    "print('y_aug:', y_aug.shape)\n",
    "\n",
    "# Apply augmentation function\n",
    "X_ctrl, y_ctrl = augment(aug_type='random', \n",
    "                           k=3, \n",
    "                           X_enm_train=X_enm, \n",
    "                           bin_enm_train=bin_enm, \n",
    "                           random_state=28)\n",
    "print('X_ctrl:', X_ctrl.shape)\n",
    "print('y_ctrl:', y_ctrl.shape)\n",
    "\n",
    "# Random Augmentation test passes!\n",
    "print('Are Xs, ys equal?')\n",
    "are_equal(X_aug.sort(axis=-1), X_ctrl.sort(axis=-1))\n",
    "are_equal(y_aug.sort(axis=-1), y_ctrl.sort(axis=-1))"
   ]
  },
  {
   "cell_type": "code",
   "execution_count": 24,
   "metadata": {
    "ExecuteTime": {
     "end_time": "2020-09-14T23:53:53.323331Z",
     "start_time": "2020-09-14T23:53:53.158138Z"
    }
   },
   "outputs": [
    {
     "name": "stdout",
     "output_type": "stream",
     "text": [
      "X_aug: (112, 35)\n",
      "y_aug: (112,)\n",
      "X_ctrl: (112, 35)\n",
      "y_ctrl: (112,)\n",
      "Are Xs, ys equal?\n"
     ]
    },
    {
     "ename": "AttributeError",
     "evalue": "'DataFrame' object has no attribute 'sort'",
     "output_type": "error",
     "traceback": [
      "\u001b[0;31m---------------------------------------------------------------------------\u001b[0m",
      "\u001b[0;31mAttributeError\u001b[0m                            Traceback (most recent call last)",
      "\u001b[0;32m<ipython-input-24-b798f521d21e>\u001b[0m in \u001b[0;36m<module>\u001b[0;34m\u001b[0m\n\u001b[1;32m     20\u001b[0m \u001b[0;31m# Random Augmentation test passes!\u001b[0m\u001b[0;34m\u001b[0m\u001b[0;34m\u001b[0m\u001b[0;34m\u001b[0m\u001b[0m\n\u001b[1;32m     21\u001b[0m \u001b[0mprint\u001b[0m\u001b[0;34m(\u001b[0m\u001b[0;34m'Are Xs, ys equal?'\u001b[0m\u001b[0;34m)\u001b[0m\u001b[0;34m\u001b[0m\u001b[0;34m\u001b[0m\u001b[0m\n\u001b[0;32m---> 22\u001b[0;31m \u001b[0mare_equal\u001b[0m\u001b[0;34m(\u001b[0m\u001b[0mX_aug\u001b[0m\u001b[0;34m.\u001b[0m\u001b[0msort\u001b[0m\u001b[0;34m(\u001b[0m\u001b[0maxis\u001b[0m\u001b[0;34m=\u001b[0m\u001b[0;34m-\u001b[0m\u001b[0;36m1\u001b[0m\u001b[0;34m)\u001b[0m\u001b[0;34m,\u001b[0m \u001b[0mX_ctrl\u001b[0m\u001b[0;34m.\u001b[0m\u001b[0msort\u001b[0m\u001b[0;34m(\u001b[0m\u001b[0maxis\u001b[0m\u001b[0;34m=\u001b[0m\u001b[0;34m-\u001b[0m\u001b[0;36m1\u001b[0m\u001b[0;34m)\u001b[0m\u001b[0;34m)\u001b[0m\u001b[0;34m\u001b[0m\u001b[0;34m\u001b[0m\u001b[0m\n\u001b[0m\u001b[1;32m     23\u001b[0m \u001b[0mare_equal\u001b[0m\u001b[0;34m(\u001b[0m\u001b[0my_aug\u001b[0m\u001b[0;34m.\u001b[0m\u001b[0msort\u001b[0m\u001b[0;34m(\u001b[0m\u001b[0maxis\u001b[0m\u001b[0;34m=\u001b[0m\u001b[0;34m-\u001b[0m\u001b[0;36m1\u001b[0m\u001b[0;34m)\u001b[0m\u001b[0;34m,\u001b[0m \u001b[0my_ctrl\u001b[0m\u001b[0;34m.\u001b[0m\u001b[0msort\u001b[0m\u001b[0;34m(\u001b[0m\u001b[0maxis\u001b[0m\u001b[0;34m=\u001b[0m\u001b[0;34m-\u001b[0m\u001b[0;36m1\u001b[0m\u001b[0;34m)\u001b[0m\u001b[0;34m)\u001b[0m\u001b[0;34m\u001b[0m\u001b[0;34m\u001b[0m\u001b[0m\n",
      "\u001b[0;32m/anaconda3/lib/python3.7/site-packages/pandas/core/generic.py\u001b[0m in \u001b[0;36m__getattr__\u001b[0;34m(self, name)\u001b[0m\n\u001b[1;32m   5065\u001b[0m             \u001b[0;32mif\u001b[0m \u001b[0mself\u001b[0m\u001b[0;34m.\u001b[0m\u001b[0m_info_axis\u001b[0m\u001b[0;34m.\u001b[0m\u001b[0m_can_hold_identifiers_and_holds_name\u001b[0m\u001b[0;34m(\u001b[0m\u001b[0mname\u001b[0m\u001b[0;34m)\u001b[0m\u001b[0;34m:\u001b[0m\u001b[0;34m\u001b[0m\u001b[0;34m\u001b[0m\u001b[0m\n\u001b[1;32m   5066\u001b[0m                 \u001b[0;32mreturn\u001b[0m \u001b[0mself\u001b[0m\u001b[0;34m[\u001b[0m\u001b[0mname\u001b[0m\u001b[0;34m]\u001b[0m\u001b[0;34m\u001b[0m\u001b[0;34m\u001b[0m\u001b[0m\n\u001b[0;32m-> 5067\u001b[0;31m             \u001b[0;32mreturn\u001b[0m \u001b[0mobject\u001b[0m\u001b[0;34m.\u001b[0m\u001b[0m__getattribute__\u001b[0m\u001b[0;34m(\u001b[0m\u001b[0mself\u001b[0m\u001b[0;34m,\u001b[0m \u001b[0mname\u001b[0m\u001b[0;34m)\u001b[0m\u001b[0;34m\u001b[0m\u001b[0;34m\u001b[0m\u001b[0m\n\u001b[0m\u001b[1;32m   5068\u001b[0m \u001b[0;34m\u001b[0m\u001b[0m\n\u001b[1;32m   5069\u001b[0m     \u001b[0;32mdef\u001b[0m \u001b[0m__setattr__\u001b[0m\u001b[0;34m(\u001b[0m\u001b[0mself\u001b[0m\u001b[0;34m,\u001b[0m \u001b[0mname\u001b[0m\u001b[0;34m,\u001b[0m \u001b[0mvalue\u001b[0m\u001b[0;34m)\u001b[0m\u001b[0;34m:\u001b[0m\u001b[0;34m\u001b[0m\u001b[0;34m\u001b[0m\u001b[0m\n",
      "\u001b[0;31mAttributeError\u001b[0m: 'DataFrame' object has no attribute 'sort'"
     ]
    }
   ],
   "source": [
    "# Apply augmentation class\n",
    "aug = TrainingDataAugmenter(augmentation_type=random_augment, \n",
    "                            k=0, \n",
    "                            X_source=X_source,\n",
    "                            y_source=bin_source,\n",
    "                            random_state=28)\n",
    "X_aug, y_aug = aug.fit_transform(X_enm, bin_enm)\n",
    "print('X_aug:', X_aug.shape)\n",
    "print('y_aug:', y_aug.shape)\n",
    "\n",
    "# Apply augmentation function\n",
    "X_ctrl, y_ctrl = augment(aug_type='random', \n",
    "                           k=0, \n",
    "                           X_enm_train=X_enm, \n",
    "                           bin_enm_train=bin_enm, \n",
    "                           random_state=28)\n",
    "print('X_ctrl:', X_ctrl.shape)\n",
    "print('y_ctrl:', y_ctrl.shape)\n",
    "\n",
    "# Random Augmentation test passes!\n",
    "print('Are Xs, ys equal?')\n",
    "are_equal(X_aug.sort(axis=-1), X_ctrl.sort(axis=-1))\n",
    "are_equal(y_aug.sort(axis=-1), y_ctrl.sort(axis=-1))"
   ]
  },
  {
   "cell_type": "markdown",
   "metadata": {},
   "source": [
    "## model_opt_exe Function"
   ]
  },
  {
   "cell_type": "markdown",
   "metadata": {},
   "source": [
    "Test parameter optimization."
   ]
  },
  {
   "cell_type": "code",
   "execution_count": 171,
   "metadata": {
    "ExecuteTime": {
     "end_time": "2019-07-22T17:04:23.216016Z",
     "start_time": "2019-07-22T17:04:23.207379Z"
    }
   },
   "outputs": [],
   "source": [
    "from sklearn.pipeline import Pipeline\n",
    "from sklearn import model_selection\n",
    "from sklearn.model_selection import GridSearchCV\n",
    "from sklearn.model_selection import StratifiedKFold\n",
    "from sklearn.preprocessing import MinMaxScaler\n",
    "from sklearn.metrics.pairwise import cosine_distances\n",
    "from sklearn.svm import SVC\n",
    "from sklearn.ensemble import RandomForestClassifier\n",
    "from sklearn.metrics import confusion_matrix\n",
    "from numpy import random\n",
    "import matplotlib.pyplot as plt"
   ]
  },
  {
   "cell_type": "markdown",
   "metadata": {},
   "source": [
    "### Test Group Stratified K-fold CV"
   ]
  },
  {
   "cell_type": "code",
   "execution_count": 172,
   "metadata": {
    "ExecuteTime": {
     "end_time": "2019-07-22T17:04:38.689169Z",
     "start_time": "2019-07-22T17:04:38.477019Z"
    }
   },
   "outputs": [
    {
     "name": "stdout",
     "output_type": "stream",
     "text": [
      "aug_group:   [ 1  3  4  5  6  7  8  9 10 11 13 14 15 18 19 20 21 24 26 27 29 30 33 34\n",
      " 35 36 37 39 41 44 45 46 47 48 49 51 53 54 55 57 58 59 62 63 64 65 66 69\n",
      " 70 71 74 77 78 79  1  1  3  3  4  4  5  5  6  6  7  7  8  8  9  9 10 10\n",
      " 11 11 13 13 14 14 15 15 18 18 19 19 20 20 21 21 24 24 26 26 27 27 29 29\n",
      " 30 30 33 33 34 34 35 35 36 36 37 37 39 39 41 41 44 44 45 45 46 46 47 47\n",
      " 48 48 49 49 51 51 53 53 54 54 55 55 57 57 58 58 59 59 62 62 63 63 64 64\n",
      " 65 65 66 66 69 69 70 70 71 71 74 74 77 77 78 78 79 79]\n",
      "test_index:  [ 0  2 12 16 17 22 23 25 28 31 32 38 40 42 43 50 52 56 60 61 67 68 72 73\n",
      " 75 76 80 81]\n",
      "X_train original shape:  (54, 38)\n",
      "X_train new shape:       (162, 38)\n",
      "X_test shape:            (28, 38)\n",
      "aug_group:   [ 0  2 12 13 14 16 17 18 19 21 22 23 25 26 28 29 31 32 33 35 36 38 39 40\n",
      " 41 42 43 44 46 49 50 52 53 54 56 57 59 60 61 62 63 65 66 67 68 71 72 73\n",
      " 75 76 77 79 80 81  0  0  2  2 12 12 13 13 14 14 16 16 17 17 18 18 19 19\n",
      " 21 21 22 22 23 23 25 25 26 26 28 28 29 29 31 31 32 32 33 33 35 35 36 36\n",
      " 38 38 39 39 40 40 41 41 42 42 43 43 44 44 46 46 49 49 50 50 52 52 53 53\n",
      " 54 54 56 56 57 57 59 59 60 60 61 61 62 62 63 63 65 65 66 66 67 67 68 68\n",
      " 71 71 72 72 73 73 75 75 76 76 77 77 79 79 80 80 81 81]\n",
      "test_index:  [ 1  3  4  5  6  7  8  9 10 11 15 20 24 27 30 34 37 45 47 48 51 55 58 64\n",
      " 69 70 74 78]\n",
      "X_train original shape:  (54, 38)\n",
      "X_train new shape:       (162, 38)\n",
      "X_test shape:            (28, 38)\n",
      "aug_group:   [ 0  1  2  3  4  5  6  7  8  9 10 11 12 15 16 17 20 22 23 24 25 27 28 30\n",
      " 31 32 34 37 38 40 42 43 45 47 48 50 51 52 55 56 58 60 61 64 67 68 69 70\n",
      " 72 73 74 75 76 78 80 81  0  0  1  1  2  2  3  3  4  4  5  5  6  6  7  7\n",
      "  8  8  9  9 10 10 11 11 12 12 15 15 16 16 17 17 20 20 22 22 23 23 24 24\n",
      " 25 25 27 27 28 28 30 30 31 31 32 32 34 34 37 37 38 38 40 40 42 42 43 43\n",
      " 45 45 47 47 48 48 50 50 51 51 52 52 55 55 56 56 58 58 60 60 61 61 64 64\n",
      " 67 67 68 68 69 69 70 70 72 72 73 73 74 74 75 75 76 76 78 78 80 80 81 81]\n",
      "test_index:  [13 14 18 19 21 26 29 33 35 36 39 41 44 46 49 53 54 57 59 62 63 65 66 71\n",
      " 77 79]\n",
      "X_train original shape:  (56, 38)\n",
      "X_train new shape:       (168, 38)\n",
      "X_test shape:            (26, 38)\n"
     ]
    }
   ],
   "source": [
    "# Test StratifiedKFold CV with augmentation to see if it produces data leaks.\n",
    "aug_type='sup_match'\n",
    "k=2\n",
    "X=np.array(X_enm)\n",
    "y=bin_enm\n",
    "seed=42\n",
    "num_folds = 3\n",
    "\n",
    "skfold = StratifiedKFold(n_splits=num_folds, shuffle=True, random_state=seed)\n",
    "\n",
    "for train_index, test_index in skfold.split(X, y):\n",
    "    # Split data\n",
    "    X_train, y_train = X[train_index], y[train_index]\n",
    "    X_test, y_test = X[test_index], y[test_index]\n",
    "    # Define augmentation group to use as \"group\" for CV\n",
    "    aug_group = np.concatenate((train_index, np.repeat(train_index, k)))\n",
    "    print(\"aug_group:  \", aug_group)\n",
    "    print(\"test_index: \", test_index)\n",
    "    # Apply data augmentation (if applicable) using external function after\n",
    "    # data split to prevent data leakage\n",
    "    if not (aug_type=='none' or k==0): \n",
    "        X_train, y_train = blt.augment(aug_type, \n",
    "                                       k, \n",
    "                                       X_train, \n",
    "                                       y_train, \n",
    "                                       random_state=seed)\n",
    "    print(\"X_train original shape: \", (len(train_index), X_train.shape[1]))\n",
    "    print(\"X_train new shape:      \", X_train.shape)\n",
    "    print(\"X_test shape:           \", X_test.shape)\n",
    "    \n",
    "    # ===Test for data leaks===\n",
    "    leaks = []     # indices of training samples that leaked\n",
    "    for count, value in enumerate(aug_group):\n",
    "        #print([value, np.ndarray.round(X_train[:,:5], decimals=2)])\n",
    "        if value in test_index:\n",
    "            leaks.extend([count, np.where(value in test_index, value, None)])"
   ]
  },
  {
   "cell_type": "code",
   "execution_count": 173,
   "metadata": {
    "ExecuteTime": {
     "end_time": "2019-07-22T17:04:39.498626Z",
     "start_time": "2019-07-22T17:04:39.492532Z"
    }
   },
   "outputs": [
    {
     "name": "stdout",
     "output_type": "stream",
     "text": [
      "No data leaks.\n"
     ]
    }
   ],
   "source": [
    "# Report results of data leakage test.\n",
    "if leaks == []: print(\"No data leaks.\")\n",
    "else: leaks"
   ]
  },
  {
   "cell_type": "markdown",
   "metadata": {},
   "source": [
    "### Unpack param_grid"
   ]
  },
  {
   "cell_type": "code",
   "execution_count": 304,
   "metadata": {
    "ExecuteTime": {
     "end_time": "2019-07-22T20:33:46.347710Z",
     "start_time": "2019-07-22T20:33:46.340699Z"
    }
   },
   "outputs": [],
   "source": [
    "# Set parameter grid to test\n",
    "param_grid = {'estimator__C': np.logspace(-1,9,11), \n",
    "              'estimator__gamma': np.logspace(-5,1,7)\n",
    "             }"
   ]
  },
  {
   "cell_type": "code",
   "execution_count": 311,
   "metadata": {
    "ExecuteTime": {
     "end_time": "2019-07-22T20:38:06.912971Z",
     "start_time": "2019-07-22T20:38:06.904239Z"
    }
   },
   "outputs": [
    {
     "data": {
      "text/plain": [
       "{'C': array([1.e-01, 1.e+00, 1.e+01, 1.e+02, 1.e+03, 1.e+04, 1.e+05, 1.e+06,\n",
       "        1.e+07, 1.e+08, 1.e+09]),\n",
       " 'gamma': array([1.e-05, 1.e-04, 1.e-03, 1.e-02, 1.e-01, 1.e+00, 1.e+01])}"
      ]
     },
     "execution_count": 311,
     "metadata": {},
     "output_type": "execute_result"
    }
   ],
   "source": [
    "# Get rid of \"estimator__\" in keys using dict comprehension\n",
    "params = {k.split(\"__\")[1]: v for k, v in param_grid.items()}\n",
    "params"
   ]
  },
  {
   "cell_type": "code",
   "execution_count": 312,
   "metadata": {
    "ExecuteTime": {
     "end_time": "2019-07-22T20:38:17.316270Z",
     "start_time": "2019-07-22T20:38:17.308409Z"
    }
   },
   "outputs": [
    {
     "name": "stdout",
     "output_type": "stream",
     "text": [
      "gamma C\n"
     ]
    }
   ],
   "source": [
    "# Get only parameter names using dict comprehension\n",
    "param1, param2  = {k.split(\"__\")[1] for k, v in param_grid.items()}\n",
    "print(param1, param2)"
   ]
  },
  {
   "cell_type": "code",
   "execution_count": 310,
   "metadata": {
    "ExecuteTime": {
     "end_time": "2019-07-22T20:35:48.424833Z",
     "start_time": "2019-07-22T20:35:48.414623Z"
    }
   },
   "outputs": [
    {
     "data": {
      "text/plain": [
       "array([1.e-01, 1.e+00, 1.e+01, 1.e+02, 1.e+03, 1.e+04, 1.e+05, 1.e+06,\n",
       "       1.e+07, 1.e+08, 1.e+09])"
      ]
     },
     "execution_count": 310,
     "metadata": {},
     "output_type": "execute_result"
    }
   ],
   "source": [
    "# Get values for only one parameter\n",
    "list(param_grid.values())[0]"
   ]
  },
  {
   "cell_type": "code",
   "execution_count": 307,
   "metadata": {
    "ExecuteTime": {
     "end_time": "2019-07-22T20:33:49.240728Z",
     "start_time": "2019-07-22T20:33:49.231643Z"
    }
   },
   "outputs": [
    {
     "data": {
      "text/plain": [
       "(array([1.e-01, 1.e+00, 1.e+01, 1.e+02, 1.e+03, 1.e+04, 1.e+05, 1.e+06,\n",
       "        1.e+07, 1.e+08, 1.e+09]),\n",
       " array([1.e-05, 1.e-04, 1.e-03, 1.e-02, 1.e-01, 1.e+00, 1.e+01]))"
      ]
     },
     "execution_count": 307,
     "metadata": {},
     "output_type": "execute_result"
    }
   ],
   "source": [
    "# Get values for all parameters using list comprehension\n",
    "param1_set, param2_set = [v for v in param_grid.values()]\n",
    "param1_set, param2_set"
   ]
  },
  {
   "cell_type": "code",
   "execution_count": 178,
   "metadata": {
    "ExecuteTime": {
     "end_time": "2019-07-22T17:04:43.593070Z",
     "start_time": "2019-07-22T17:04:43.587784Z"
    },
    "scrolled": true
   },
   "outputs": [
    {
     "name": "stdout",
     "output_type": "stream",
     "text": [
      "number of parameters:  2\n",
      "number of Cs:          11\n",
      "number of gammas:      7\n"
     ]
    }
   ],
   "source": [
    "print(\"number of parameters: \", len(param_grid.items()))\n",
    "print(\"number of Cs:         \", len(param1_set))\n",
    "print(\"number of gammas:     \", len(param2_set))"
   ]
  },
  {
   "cell_type": "code",
   "execution_count": 179,
   "metadata": {
    "ExecuteTime": {
     "end_time": "2019-07-22T17:04:44.012089Z",
     "start_time": "2019-07-22T17:04:44.003805Z"
    }
   },
   "outputs": [
    {
     "data": {
      "text/plain": [
       "{'C': 0.1, 'gamma': 1e-05}"
      ]
     },
     "execution_count": 179,
     "metadata": {},
     "output_type": "execute_result"
    }
   ],
   "source": [
    "params = dict([(list(params.keys())[0], param1_set[0]), \n",
    "              (list(params.keys())[1], param2_set[0])])\n",
    "params"
   ]
  },
  {
   "cell_type": "code",
   "execution_count": 180,
   "metadata": {
    "ExecuteTime": {
     "end_time": "2019-07-22T17:04:44.355710Z",
     "start_time": "2019-07-22T17:04:44.336979Z"
    }
   },
   "outputs": [
    {
     "data": {
      "text/plain": [
       "array([[[0., 0., 0., 0., 0., 0., 0.],\n",
       "        [0., 0., 0., 0., 0., 0., 0.],\n",
       "        [0., 0., 0., 0., 0., 0., 0.],\n",
       "        [0., 0., 0., 0., 0., 0., 0.],\n",
       "        [0., 0., 0., 0., 0., 0., 0.],\n",
       "        [0., 0., 0., 0., 0., 0., 0.],\n",
       "        [0., 0., 0., 0., 0., 0., 0.],\n",
       "        [0., 0., 0., 0., 0., 0., 0.],\n",
       "        [0., 0., 0., 0., 0., 0., 0.],\n",
       "        [0., 0., 0., 0., 0., 0., 0.],\n",
       "        [0., 0., 0., 0., 0., 0., 0.]],\n",
       "\n",
       "       [[0., 0., 0., 0., 0., 0., 0.],\n",
       "        [0., 0., 0., 0., 0., 0., 0.],\n",
       "        [0., 0., 0., 0., 0., 0., 0.],\n",
       "        [0., 0., 0., 0., 0., 0., 0.],\n",
       "        [0., 0., 0., 0., 0., 0., 0.],\n",
       "        [0., 0., 0., 0., 0., 0., 0.],\n",
       "        [0., 0., 0., 0., 0., 0., 0.],\n",
       "        [0., 0., 0., 0., 0., 0., 0.],\n",
       "        [0., 0., 0., 0., 0., 0., 0.],\n",
       "        [0., 0., 0., 0., 0., 0., 0.],\n",
       "        [0., 0., 0., 0., 0., 0., 0.]],\n",
       "\n",
       "       [[0., 0., 0., 0., 0., 0., 0.],\n",
       "        [0., 0., 0., 0., 0., 0., 0.],\n",
       "        [0., 0., 0., 0., 0., 0., 0.],\n",
       "        [0., 0., 0., 0., 0., 0., 0.],\n",
       "        [0., 0., 0., 0., 0., 0., 0.],\n",
       "        [0., 0., 0., 0., 0., 0., 0.],\n",
       "        [0., 0., 0., 0., 0., 0., 0.],\n",
       "        [0., 0., 0., 0., 0., 0., 0.],\n",
       "        [0., 0., 0., 0., 0., 0., 0.],\n",
       "        [0., 0., 0., 0., 0., 0., 0.],\n",
       "        [0., 0., 0., 0., 0., 0., 0.]]])"
      ]
     },
     "execution_count": 180,
     "metadata": {},
     "output_type": "execute_result"
    }
   ],
   "source": [
    "np.zeros([num_folds, len(param1_set),len(param2_set)])"
   ]
  },
  {
   "cell_type": "code",
   "execution_count": 313,
   "metadata": {
    "ExecuteTime": {
     "end_time": "2019-07-22T20:44:57.750797Z",
     "start_time": "2019-07-22T20:44:57.735638Z"
    }
   },
   "outputs": [],
   "source": [
    "# Generate example results array\n",
    "test_accu = np.array([[[0., 0., 0., 0., 0., 0., 0.],\n",
    "        [0., 0., 0., 0., 0., 0., 0.],\n",
    "        [0., 0., 0., 0., 0., 0., 0.],\n",
    "        [0., 0., 0., 0., 0., 0., 0.],\n",
    "        [0., 0., 0., 0., 0., 0., 0.],\n",
    "        [0., 0., 0., 0., 4., 0., 0.],\n",
    "        [0., 0., 0., 0., 0., 0., 0.],\n",
    "        [0., 0., 0., 0., 0., 0., 0.],\n",
    "        [0., 0., 0., 0., 0., 0., 0.],\n",
    "        [0., 0., 0., 0., 0., 0., 0.],\n",
    "        [0., 0., 0., 0., 0., 0., 6.]],\n",
    "\n",
    "       [[0., 0., 0., 0., 0., 0., 0.],\n",
    "        [0., 0., 0., 0., 0., 0., 0.],\n",
    "        [0., 0., 0., 0., 0., 0., 0.],\n",
    "        [0., 0., 0., 0., 0., 0., 0.],\n",
    "        [0., 0., 1., 0., 0., 0., 0.],\n",
    "        [0., 0., 0., 0., 0., 0., 0.],\n",
    "        [0., 0., 0., 0., 0., 0., 0.],\n",
    "        [0., 0., 0., 0., 0., 0., 0.],\n",
    "        [0., 0., 0., 0., 0., 0., 0.],\n",
    "        [0., 0., 0., 0., 0., 0., 0.],\n",
    "        [0., 0., 0., 0., 0., 0., 0.]],\n",
    "\n",
    "       [[2., 0., 0., 0., 0., 0., 0.],\n",
    "        [0., 0., 0., 0., 0., 0., 0.],\n",
    "        [0., 0., 0., 0., 0., 0., 0.],\n",
    "        [0., 0., 0., 0., 0., 0., 0.],\n",
    "        [0., 0., 0., 0., 0., 0., 0.],\n",
    "        [0., 0., 0., 0., 0., 0., 0.],\n",
    "        [0., 0., 0., 0., 0., 0., 0.],\n",
    "        [0., 0., 0., 0., 0., 0., 0.],\n",
    "        [0., 0., 0., 0., 0., 0., 0.],\n",
    "        [0., 0., 0., 0., 0., 0., 0.],\n",
    "        [0., 0., 0., 0., 0., 0., 0.]]])"
   ]
  },
  {
   "cell_type": "code",
   "execution_count": 318,
   "metadata": {
    "ExecuteTime": {
     "end_time": "2019-07-22T20:48:21.063728Z",
     "start_time": "2019-07-22T20:48:21.057202Z"
    }
   },
   "outputs": [
    {
     "name": "stdout",
     "output_type": "stream",
     "text": [
      "(11, 7)\n",
      "[[5 4]]\n"
     ]
    }
   ],
   "source": [
    "avg_valid_accu = np.around(np.mean(test_accu, axis=0), decimals=3)\n",
    "print(avg_valid_accu.shape)\n",
    "coords = np.argwhere(avg_valid_accu == np.max(avg_valid_accu))\n",
    "print(coords)"
   ]
  },
  {
   "cell_type": "code",
   "execution_count": 317,
   "metadata": {
    "ExecuteTime": {
     "end_time": "2019-07-22T20:46:13.319066Z",
     "start_time": "2019-07-22T20:46:13.312308Z"
    }
   },
   "outputs": [
    {
     "data": {
      "text/plain": [
       "5"
      ]
     },
     "execution_count": 317,
     "metadata": {},
     "output_type": "execute_result"
    }
   ],
   "source": [
    "coords[0,0]"
   ]
  },
  {
   "cell_type": "code",
   "execution_count": 321,
   "metadata": {
    "ExecuteTime": {
     "end_time": "2019-07-22T21:16:59.335116Z",
     "start_time": "2019-07-22T21:16:59.313658Z"
    }
   },
   "outputs": [
    {
     "name": "stdout",
     "output_type": "stream",
     "text": [
      "[5, 4, 10000.0, 0.1]\n"
     ]
    }
   ],
   "source": [
    "print([coords[0,0], \n",
    "       coords[0,1], \n",
    "       param1_set[coords[0,0]], \n",
    "       param2_set[coords[0,1]]])"
   ]
  },
  {
   "cell_type": "code",
   "execution_count": 328,
   "metadata": {
    "ExecuteTime": {
     "end_time": "2019-07-22T21:25:27.403353Z",
     "start_time": "2019-07-22T21:25:27.395331Z"
    }
   },
   "outputs": [
    {
     "name": "stdout",
     "output_type": "stream",
     "text": [
      "Best Parameters:  {'C': 10000.0, 'gamma': 0.1}\n"
     ]
    }
   ],
   "source": [
    "best_params = dict([(list(params.keys())[0], param1_set[coords[0,0]]), \n",
    "                    (list(params.keys())[1], param2_set[coords[0,1]])])\n",
    "print(\"Best Parameters: \", best_params)"
   ]
  },
  {
   "cell_type": "code",
   "execution_count": 331,
   "metadata": {
    "ExecuteTime": {
     "end_time": "2019-07-22T21:28:16.065176Z",
     "start_time": "2019-07-22T21:28:16.050864Z"
    }
   },
   "outputs": [
    {
     "data": {
      "text/plain": [
       "[10000.0, 0.1]"
      ]
     },
     "execution_count": 331,
     "metadata": {},
     "output_type": "execute_result"
    }
   ],
   "source": [
    "[v for v in best_params.values()]"
   ]
  },
  {
   "cell_type": "markdown",
   "metadata": {},
   "source": [
    "### Test parameter optimization"
   ]
  },
  {
   "cell_type": "markdown",
   "metadata": {},
   "source": [
    "See if model results to get optimized parameters are the same without data augmentation.\n",
    "\n",
    "NOTE: Dictionaries are ordered in Python 3.7. This code takes advantage of that."
   ]
  },
  {
   "cell_type": "code",
   "execution_count": 351,
   "metadata": {
    "ExecuteTime": {
     "end_time": "2019-07-22T22:16:44.056697Z",
     "start_time": "2019-07-22T22:16:44.041029Z"
    }
   },
   "outputs": [],
   "source": [
    "# Old approach\n",
    "# Only works on non-augmented data\n",
    "def model_opt_old(classifier, \n",
    "                  X_training=X_enm, \n",
    "                  y_training=bin_enm, \n",
    "                  seed=42,\n",
    "                  save_fig_name=None, \n",
    "                  show_opt_plot=True, \n",
    "                  param_grid=None):\n",
    "    \"\"\"\n",
    "    This function consists of three parts:\n",
    "    1) Optimize the parameters for a classifier, either SVC-RBF or RFC;     \n",
    "    2) Fit model pipeline to training data using optimized parameters and \n",
    "    stratified k-fold cross validation;\n",
    "    3) Execute the optimized model and summarize its accuracy in a confusion \n",
    "    matrix broken down by WF bins. Formatted confusion matrices are saved as \n",
    "    .png files.\n",
    "    \n",
    "    Arguments\n",
    "    ----------\n",
    "    classifier: string ('svc' or 'rfc')\n",
    "        The classifier to use in the pipeline; 'svc' refers to an SVC-RBF\n",
    "    X_training: pandas data frame\n",
    "        Feature data frame to train the model on\n",
    "    y_training: pandas data frame\n",
    "        WF (labels) data frame to train the model on \n",
    "    seed: int (default=random.randint(1,100))\n",
    "        Option to set the seed for CV\n",
    "    save_fig_name: string (default=None)\n",
    "        A unique string used at the end of confusion matrix and feature \n",
    "        importance (rfc-only) file names for exporting the figures as .png; \n",
    "        `None` indicates that no figures should be saved\n",
    "    show_opt_plot: bool (default=False)\n",
    "        `True` will plot accuracy as contour lines on the specified parameter \n",
    "        grid (svc) or a line plot of accuracy vs n_trees (rfc)\n",
    "    param_grid: dict (default=None)\n",
    "        See param_grid for sklearn's GridSearchCV\n",
    "    \"\"\"     \n",
    "    from sklearn.pipeline import Pipeline\n",
    "    from sklearn import model_selection\n",
    "    from sklearn.model_selection import GridSearchCV\n",
    "    from sklearn.model_selection import GroupKFold\n",
    "    from sklearn.preprocessing import MinMaxScaler\n",
    "    from sklearn.metrics.pairwise import cosine_distances\n",
    "    from sklearn.svm import SVC\n",
    "    from sklearn.ensemble import RandomForestClassifier\n",
    "    from sklearn.metrics import confusion_matrix\n",
    "    from numpy import random\n",
    "    import matplotlib.pyplot as plt\n",
    "    \n",
    "    # =====PART 1=====\n",
    "    # Optimize parameters\n",
    "    \n",
    "    # Define pipeline options for parameter optimization\n",
    "    rfc = RandomForestClassifier(class_weight='balanced', \n",
    "                                 random_state=seed)\n",
    "    svc = SVC(kernel='rbf', \n",
    "              class_weight='balanced',  # balances weights of WF bins\n",
    "              random_state=seed)\n",
    "    if classifier=='rfc':               # set pipeline for RFC\n",
    "        pipe = Pipeline([\n",
    "            ('scale', MinMaxScaler()),  # normalization from 0 to 1\n",
    "            ('estimator', rfc)          # use RFC algorithm specified above\n",
    "        ])\n",
    "    else:                               # set pipeline for SVC-RBF\n",
    "        pipe = Pipeline([\n",
    "            ('scale', MinMaxScaler()),\n",
    "            ('estimator', svc)\n",
    "        ])\n",
    "\n",
    "    # Cross validation settings for grid search\n",
    "    num_folds = 10\n",
    "    skfold = StratifiedKFold(n_splits=num_folds, \n",
    "                             shuffle=True, \n",
    "                             random_state=seed)\n",
    "    cv = skfold.split(X_training, y_training)\n",
    "    n_jobs = 3\n",
    "    scoring = 'accuracy'\n",
    "    # Grid search\n",
    "    grid_search = GridSearchCV(pipe, \n",
    "                               param_grid, \n",
    "                               cv=cv, \n",
    "                               scoring=scoring, \n",
    "                               n_jobs=n_jobs, \n",
    "                               pre_dispatch=2*n_jobs)\n",
    "    grid_search.fit(X_training, y_training)\n",
    "    \n",
    "    # Retrieve accuracy scores for all grid search settings\n",
    "    test_scores = grid_search.cv_results_.get('mean_test_score')\n",
    "    param1_opt, param2_opt = [v for v in grid_search.best_params_.values()]\n",
    "    \n",
    "    # If optimization plotting is set as True, use plot_param_opt function\n",
    "    # to plot a 2D or contour plot to visualize accuracy \"hot spots\"\n",
    "    if show_opt_plot:\n",
    "        blt.plot_param_opt(param_grid, test_scores, scoring)\n",
    "    \n",
    "    # Print best accuracy and parameter values\n",
    "    print('K-fold CV random state:\\t', seed)\n",
    "    print('Best fold %s:\\t%.4f' % (scoring, grid_search.best_score_))\n",
    "    for k, v in grid_search.best_params_.items(): \n",
    "        print('Best %s:\\t%.2e' % (k, v))\n",
    "    \n",
    "    return param1_opt, param2_opt"
   ]
  },
  {
   "cell_type": "code",
   "execution_count": 352,
   "metadata": {
    "ExecuteTime": {
     "end_time": "2019-07-22T22:16:44.469554Z",
     "start_time": "2019-07-22T22:16:44.442606Z"
    }
   },
   "outputs": [],
   "source": [
    "# New approach\n",
    "# Define function to optimize, execute and evaluate a classifier using CV\n",
    "from numpy import random\n",
    "\n",
    "def model_opt_new(classifier, \n",
    "                  aug_type, \n",
    "                  k, \n",
    "                  feat_data, \n",
    "                  bin_data, \n",
    "                  seed=random.randint(1,100),\n",
    "                  save_fig_name=None, \n",
    "                  show_opt_plot=False, \n",
    "                  show_feat_impt=False, \n",
    "                  show_cnf_matrix=False, \n",
    "                  param_grid=None):\n",
    "    \"\"\"\n",
    "    This function consists of three parts:\n",
    "    1) Optimize the parameters for a classifier, either SVC-RBF or RFC;     \n",
    "    2) Fit model pipeline to training data using optimized parameters and \n",
    "    stratified k-fold cross validation;\n",
    "    3) Execute the optimized model and summarize its accuracy in a confusion \n",
    "    matrix broken down by WF bins. Formatted confusion matrices are saved as \n",
    "    .png files.\n",
    "    \n",
    "    Arguments\n",
    "    ----------\n",
    "    classifier: string ('svc' or 'rfc')\n",
    "        The classifier to use in the pipeline; 'svc' refers to an SVC-RBF\n",
    "    aug_type: string ('none','random','uns_match', or 'sup_match')\n",
    "        The type of data augmentation to implement. \n",
    "        * none: no data augmentation is performed; k must be zero.\n",
    "        * random: randomly samples source data to pair with ENM data.\n",
    "        * uns_match: match \"k\" most similar organics samples to ENM samples \n",
    "            based on smallest cosine distance between ENM and organics samples\n",
    "            (i.e., in an supervised fashion).\n",
    "        * sup_match: match \"k\" most similar organics samples to ENM samples \n",
    "            based on the smallest average of cosine distance between samples \n",
    "            and distance between WF labels (i.e., in an supervised fashion)\n",
    "    k: int ([0,200])\n",
    "        The number of organics samples to match with each ENM sample.\n",
    "    feat_data: DataFrame\n",
    "        Feature data\n",
    "    bin_data: ndarray\n",
    "        WF bin data\n",
    "    seed: int (default=random.randint(1,100))\n",
    "        Option to set the seed for CV\n",
    "    save_fig_name: string (default=None)\n",
    "        A unique string used at the end of confusion matrix and feature \n",
    "        importance (rfc-only) file names for exporting the figures as .png; \n",
    "        `None` indicates that no figures should be saved\n",
    "    show_opt_plot: bool (default=False)\n",
    "        `True` will plot accuracy as contour lines on the specified parameter \n",
    "        grid (svc) or a line plot of accuracy vs n_trees (rfc)\n",
    "    show_cnf_matrix: bool (default=False)\n",
    "        `True` results in matrix graphics being printed as output\n",
    "    param_grid: dict (default=None)\n",
    "        See param_grid for sklearn's GridSearchCV\n",
    "    \"\"\"     \n",
    "    from numpy import random\n",
    "    from sklearn.pipeline import Pipeline\n",
    "    from sklearn import model_selection\n",
    "    from sklearn.model_selection import StratifiedKFold\n",
    "    from sklearn.preprocessing import MinMaxScaler\n",
    "    from sklearn.metrics.pairwise import cosine_distances\n",
    "    from sklearn.svm import SVC\n",
    "    from sklearn.ensemble import RandomForestClassifier\n",
    "    from sklearn.metrics import confusion_matrix\n",
    "    from sklearn.metrics import accuracy_score ###############\n",
    "    from sklearn.metrics import balanced_accuracy_score ###############\n",
    "    import matplotlib.pyplot as plt\n",
    "    \n",
    "    # =====PART 1=====\n",
    "    # Optimize parameters\n",
    "    \n",
    "    # Rename feature and label data\n",
    "    X = np.array(feat_data)\n",
    "    y = bin_data\n",
    "    # Rename parameter data\n",
    "    params = {k.split(\"__\")[1]: v for k, v in param_grid.items()}\n",
    "    param1_set, param2_set = [v for v in param_grid.values()]\n",
    "\n",
    "    # Cross validation settings\n",
    "    num_folds = 10\n",
    "    skfold = StratifiedKFold(n_splits=num_folds, \n",
    "                             shuffle=True, \n",
    "                             random_state=seed)\n",
    "    # Objects to hold performance results\n",
    "    train_accu = np.zeros([num_folds, len(param1_set),len(param2_set)])\n",
    "    valid_accu = np.zeros([num_folds, len(param1_set),len(param2_set)])\n",
    "    # Find best algorithm parameters by searching over a grid using the CV\n",
    "    # conditions specified above\n",
    "    q=0\n",
    "    for train_index, test_index in skfold.split(X, y):\n",
    "        # Split data\n",
    "        X_train, y_train = X[train_index], y[train_index]\n",
    "        X_valid, y_valid = X[test_index], y[test_index]\n",
    "        aug_group = np.concatenate((train_index, np.repeat(train_index, k)))\n",
    "        # Augment data (if applicable) using external function after data \n",
    "        # split to prevent data leakage\n",
    "        if not (aug_type=='none' or k==0): \n",
    "            X_train, y_train = blt.augment(aug_type, \n",
    "                                           k, \n",
    "                                           X_train, \n",
    "                                           y_train, \n",
    "                                           random_state=seed)\n",
    "        # Parameter grid search\n",
    "        r=0\n",
    "        for param1_val in param1_set:\n",
    "            s=0\n",
    "            for param2_val in param2_set:\n",
    "                fold_params = dict([(list(params.keys())[0], param1_val), \n",
    "                                    (list(params.keys())[1], param2_val)])\n",
    "                # Define pipeline options for parameter optimization\n",
    "                if classifier=='rfc':\n",
    "                    rfc = RandomForestClassifier(class_weight='balanced', \n",
    "                                                 random_state=seed, \n",
    "                                                 **fold_params)\n",
    "                    pipe = Pipeline([\n",
    "                        ('scale', MinMaxScaler()), # normalization from 0 to 1\n",
    "                        ('estimator', rfc)\n",
    "                    ])\n",
    "                else:\n",
    "                    svc = SVC(kernel='rbf', \n",
    "                              class_weight='balanced', # balance by WF bin size\n",
    "                              random_state=seed, \n",
    "                              **fold_params)\n",
    "                    pipe = Pipeline([\n",
    "                        ('scale', MinMaxScaler()), # normalization from 0 to 1\n",
    "                        ('estimator', svc)\n",
    "                    ])    \n",
    "                pipe.fit(X_train, y_train)\n",
    "                train_accu[q,r,s] = accuracy_score(y_train,     # y_true\n",
    "                                                   pipe.predict(X_train))\n",
    "                valid_accu[q,r,s] = accuracy_score(y_valid, \n",
    "                                                   pipe.predict(X_valid))\n",
    "                s+=1\n",
    "            r+=1\n",
    "        q+=1\n",
    "    \n",
    "    scoring = 'accuracy' # alternate option 'balanced_accuracy'\n",
    "    \n",
    "    # Average balanced accuracy for grid search settings\n",
    "    avg_train_accu = np.around(np.mean(train_accu, axis=0), decimals=3)\n",
    "    avg_valid_accu = np.around(np.mean(valid_accu, axis=0), decimals=3)\n",
    "    print(\"avg_train_accu\")\n",
    "    print(avg_train_accu)\n",
    "    print(\"avg_test_accu\")\n",
    "    print(avg_valid_accu)\n",
    "    # Get coordinates of best accuracy to locate parameters\n",
    "    coords = np.argwhere(avg_valid_accu == np.max(avg_valid_accu))\n",
    "    best_params = dict([(list(params.keys())[0], param1_set[coords[0,0]]), \n",
    "                        (list(params.keys())[1], param2_set[coords[0,1]])])\n",
    "    # If optimization plotting is set as True, use plot_param_opt function\n",
    "    # to plot a 2D or contour plot to visualize accuracy \"hot spots\"\n",
    "    if show_opt_plot:\n",
    "        blt.plot_param_opt(param_grid, avg_valid_accu, scoring)\n",
    "    \n",
    "    # Print best accuracy and parameter values\n",
    "    print('K-fold CV random state:\\t', seed)\n",
    "    print('Best fold %s:\\t%.4f' % (scoring, np.max(avg_valid_accu)))\n",
    "    print(\"Best Parameters: \", best_params)\n",
    "\n",
    "    # Play sound when done running\n",
    "    display(Audio(url=sound_file, autoplay=True))\n",
    "\n",
    "    return [v for v in best_params.values()]"
   ]
  },
  {
   "cell_type": "code",
   "execution_count": 353,
   "metadata": {
    "ExecuteTime": {
     "end_time": "2019-07-22T22:16:52.379374Z",
     "start_time": "2019-07-22T22:16:47.518367Z"
    }
   },
   "outputs": [
    {
     "name": "stdout",
     "output_type": "stream",
     "text": [
      "Score Dimensions:  (11, 9)\n"
     ]
    },
    {
     "data": {
      "image/png": "[encoded data removed]",
      "text/plain": [
       "<Figure size 432x288 with 2 Axes>"
      ]
     },
     "metadata": {
      "needs_background": "light"
     },
     "output_type": "display_data"
    },
    {
     "name": "stdout",
     "output_type": "stream",
     "text": [
      "K-fold CV random state:\t 42\n",
      "Best fold accuracy:\t0.6220\n",
      "Best estimator__C:\t1.00e+00\n",
      "Best estimator__gamma:\t1.00e-01\n"
     ]
    }
   ],
   "source": [
    "param_grid = {'estimator__C': np.logspace(-1,9,11), \n",
    "              'estimator__gamma': np.logspace(-7,1,9)\n",
    "             }\n",
    "C_old, gamma_old = model_opt_old(classifier='svc', \n",
    "                                 seed=42, \n",
    "                                 param_grid=param_grid)"
   ]
  },
  {
   "cell_type": "code",
   "execution_count": 354,
   "metadata": {
    "ExecuteTime": {
     "end_time": "2019-07-22T22:16:57.429082Z",
     "start_time": "2019-07-22T22:16:55.388582Z"
    }
   },
   "outputs": [
    {
     "name": "stdout",
     "output_type": "stream",
     "text": [
      "avg_train_accu\n",
      "[[0.273 0.273 0.273 0.273 0.273 0.273 0.273 0.273 0.273]\n",
      " [0.399 0.391 0.391 0.391 0.391 0.428 0.69  0.856 0.86 ]\n",
      " [0.39  0.39  0.39  0.39  0.418 0.686 0.84  0.852 0.852]\n",
      " [0.281 0.281 0.281 0.467 0.686 0.825 0.855 0.852 0.852]\n",
      " [0.392 0.391 0.393 0.684 0.817 0.85  0.852 0.852 0.852]\n",
      " [0.402 0.424 0.684 0.817 0.848 0.854 0.852 0.852 0.852]\n",
      " [0.4   0.684 0.817 0.848 0.854 0.852 0.852 0.852 0.852]\n",
      " [0.707 0.824 0.848 0.854 0.852 0.852 0.852 0.852 0.852]\n",
      " [0.779 0.848 0.854 0.852 0.852 0.852 0.852 0.852 0.852]\n",
      " [0.667 0.786 0.852 0.852 0.852 0.852 0.852 0.852 0.852]\n",
      " [0.645 0.781 0.852 0.852 0.852 0.852 0.852 0.852 0.852]]\n",
      "avg_test_accu\n",
      "[[0.29  0.29  0.29  0.29  0.29  0.29  0.29  0.29  0.29 ]\n",
      " [0.384 0.384 0.384 0.384 0.384 0.418 0.624 0.592 0.45 ]\n",
      " [0.373 0.373 0.373 0.373 0.387 0.602 0.592 0.493 0.491]\n",
      " [0.307 0.307 0.307 0.424 0.602 0.604 0.517 0.493 0.506]\n",
      " [0.39  0.39  0.39  0.602 0.616 0.516 0.517 0.493 0.506]\n",
      " [0.39  0.417 0.602 0.604 0.516 0.476 0.517 0.493 0.506]\n",
      " [0.373 0.602 0.604 0.501 0.46  0.476 0.517 0.493 0.506]\n",
      " [0.597 0.604 0.516 0.46  0.46  0.476 0.517 0.493 0.506]\n",
      " [0.594 0.501 0.46  0.46  0.46  0.476 0.517 0.493 0.506]\n",
      " [0.482 0.44  0.46  0.46  0.46  0.476 0.517 0.493 0.506]\n",
      " [0.497 0.44  0.46  0.46  0.46  0.476 0.517 0.493 0.506]]\n",
      "Score Dimensions:  (11, 9)\n"
     ]
    },
    {
     "data": {
      "image/png": "[encoded data removed]",
      "text/plain": [
       "<Figure size 432x288 with 2 Axes>"
      ]
     },
     "metadata": {
      "needs_background": "light"
     },
     "output_type": "display_data"
    },
    {
     "name": "stdout",
     "output_type": "stream",
     "text": [
      "K-fold CV random state:\t 42\n",
      "Best fold accuracy:\t0.6240\n",
      "Best Parameters:  {'C': 1.0, 'gamma': 0.1}\n"
     ]
    },
    {
     "data": {
      "text/html": [
       "\n",
       "                <audio controls=\"controls\" autoplay=\"autoplay\">\n",
       "                    <source src=\"./data/ping.wav\" type=\"audio/x-wav\" />\n",
       "                    Your browser does not support the audio element.\n",
       "                </audio>\n",
       "              "
      ],
      "text/plain": [
       "<IPython.lib.display.Audio object>"
      ]
     },
     "metadata": {},
     "output_type": "display_data"
    }
   ],
   "source": [
    "param_grid = {'estimator__C': np.logspace(-1,9,11), \n",
    "              'estimator__gamma': np.logspace(-7,1,9)\n",
    "             }\n",
    "C, gamma = model_opt_new(classifier='svc', \n",
    "                             aug_type='none', \n",
    "                             k=0, \n",
    "                             feat_data=X_enm, \n",
    "                             bin_data=bin_enm, \n",
    "                             seed=42, \n",
    "                             save_fig_name=None, \n",
    "                             show_opt_plot=True, \n",
    "                             show_cnf_matrix=False, \n",
    "                             param_grid=param_grid)"
   ]
  },
  {
   "cell_type": "code",
   "execution_count": 355,
   "metadata": {
    "ExecuteTime": {
     "end_time": "2019-07-22T22:17:01.023326Z",
     "start_time": "2019-07-22T22:17:01.017502Z"
    }
   },
   "outputs": [
    {
     "name": "stdout",
     "output_type": "stream",
     "text": [
      "True\n",
      "True\n"
     ]
    }
   ],
   "source": [
    "# Test results\n",
    "are_equal(C_old, C)\n",
    "are_equal(gamma_old, gamma)"
   ]
  },
  {
   "cell_type": "markdown",
   "metadata": {},
   "source": [
    "But optimization plots do not look the same..."
   ]
  },
  {
   "cell_type": "markdown",
   "metadata": {},
   "source": [
    "### Model evaluation"
   ]
  },
  {
   "cell_type": "markdown",
   "metadata": {},
   "source": [
    "There are no tests for this yet."
   ]
  },
  {
   "cell_type": "markdown",
   "metadata": {},
   "source": [
    "#### ENM-only SVC-RBF"
   ]
  },
  {
   "cell_type": "code",
   "execution_count": 29,
   "metadata": {
    "ExecuteTime": {
     "end_time": "2019-07-23T02:26:55.477177Z",
     "start_time": "2019-07-23T02:26:53.351580Z"
    }
   },
   "outputs": [
    {
     "name": "stdout",
     "output_type": "stream",
     "text": [
      "Score Dimensions:  (9, 9)\n"
     ]
    },
    {
     "data": {
      "image/png": "[encoded data removed]",
      "text/plain": [
       "<Figure size 432x288 with 2 Axes>"
      ]
     },
     "metadata": {
      "needs_background": "light"
     },
     "output_type": "display_data"
    },
    {
     "name": "stdout",
     "output_type": "stream",
     "text": [
      "K-fold CV random state:\t 42\n",
      "Best fold balanced accuracy:\t0.5890\n",
      "Best Parameters:  {'C': 10000000.0, 'gamma': 1e-07}\n",
      "Confusion matrix, without normalization\n",
      "[[24  7  5]\n",
      " [ 9 15  5]\n",
      " [ 4  4  9]]\n",
      "Normalized confusion matrix\n",
      "[[0.67 0.19 0.14]\n",
      " [0.31 0.52 0.17]\n",
      " [0.24 0.24 0.53]]\n",
      "Average normalized accuracy:  0.5711066035609647\n"
     ]
    },
    {
     "data": {
      "text/html": [
       "\n",
       "                <audio controls=\"controls\" autoplay=\"autoplay\">\n",
       "                    <source src=\"./data/ping.wav\" type=\"audio/x-wav\" />\n",
       "                    Your browser does not support the audio element.\n",
       "                </audio>\n",
       "              "
      ],
      "text/plain": [
       "<IPython.lib.display.Audio object>"
      ]
     },
     "metadata": {},
     "output_type": "display_data"
    },
    {
     "data": {
      "text/plain": [
       "0.5711066035609647"
      ]
     },
     "execution_count": 29,
     "metadata": {},
     "output_type": "execute_result"
    }
   ],
   "source": [
    "# Balanced accuracy\n",
    "param_grid = {'estimator__C': np.logspace(-1,7,9), \n",
    "              'estimator__gamma': np.logspace(-7,1,9)\n",
    "             }\n",
    "blt.model_opt_exe(classifier='svc', \n",
    "                  aug_type='none', \n",
    "                  k=0, \n",
    "                  feat_data=X_enm, \n",
    "                  bin_data=bin_enm, \n",
    "                  seed=42, \n",
    "                  save_fig_name=None, \n",
    "                  show_opt_plot=True, \n",
    "                  show_feat_impt=False, \n",
    "                  show_cnf_matrix=False, \n",
    "                  use_balanced_accu=True, # Balanced accuracy\n",
    "                  param_grid=param_grid)"
   ]
  },
  {
   "cell_type": "code",
   "execution_count": 30,
   "metadata": {
    "ExecuteTime": {
     "end_time": "2019-07-23T02:36:24.125259Z",
     "start_time": "2019-07-23T02:36:22.369973Z"
    }
   },
   "outputs": [
    {
     "name": "stdout",
     "output_type": "stream",
     "text": [
      "Score Dimensions:  (9, 9)\n"
     ]
    },
    {
     "data": {
      "image/png": "[encoded data removed]",
      "text/plain": [
       "<Figure size 432x288 with 2 Axes>"
      ]
     },
     "metadata": {
      "needs_background": "light"
     },
     "output_type": "display_data"
    },
    {
     "name": "stdout",
     "output_type": "stream",
     "text": [
      "K-fold CV random state:\t 42\n",
      "Best fold accuracy:\t0.6240\n",
      "Best Parameters:  {'C': 1.0, 'gamma': 0.1}\n",
      "Confusion matrix, without normalization\n",
      "[[31  1  4]\n",
      " [13 12  4]\n",
      " [ 5  4  8]]\n",
      "Normalized confusion matrix\n",
      "[[0.86 0.03 0.11]\n",
      " [0.45 0.41 0.14]\n",
      " [0.29 0.24 0.47]]\n",
      "Average normalized accuracy:  0.5818308166178349\n"
     ]
    },
    {
     "data": {
      "text/html": [
       "\n",
       "                <audio controls=\"controls\" autoplay=\"autoplay\">\n",
       "                    <source src=\"./data/ping.wav\" type=\"audio/x-wav\" />\n",
       "                    Your browser does not support the audio element.\n",
       "                </audio>\n",
       "              "
      ],
      "text/plain": [
       "<IPython.lib.display.Audio object>"
      ]
     },
     "metadata": {},
     "output_type": "display_data"
    },
    {
     "data": {
      "text/plain": [
       "0.5818308166178349"
      ]
     },
     "execution_count": 30,
     "metadata": {},
     "output_type": "execute_result"
    }
   ],
   "source": [
    "# Normal accuracy\n",
    "blt.model_opt_exe(classifier='svc', \n",
    "                  aug_type='none', \n",
    "                  k=0, \n",
    "                  feat_data=X_enm, \n",
    "                  bin_data=bin_enm, \n",
    "                  seed=42, \n",
    "                  save_fig_name=None, \n",
    "                  show_opt_plot=True, \n",
    "                  show_feat_impt=False, \n",
    "                  show_cnf_matrix=False, \n",
    "                  use_balanced_accu=False, # Normal accuracy\n",
    "                  param_grid=param_grid)"
   ]
  },
  {
   "cell_type": "markdown",
   "metadata": {},
   "source": [
    "#### \"Best\" SVC-RBF from before"
   ]
  },
  {
   "cell_type": "code",
   "execution_count": 32,
   "metadata": {
    "ExecuteTime": {
     "end_time": "2019-07-23T02:42:27.989707Z",
     "start_time": "2019-07-23T02:41:37.909928Z"
    }
   },
   "outputs": [
    {
     "data": {
      "image/png": "[encoded data removed]",
      "text/plain": [
       "<Figure size 432x288 with 2 Axes>"
      ]
     },
     "metadata": {
      "needs_background": "light"
     },
     "output_type": "display_data"
    },
    {
     "name": "stdout",
     "output_type": "stream",
     "text": [
      "K-fold CV random state:\t 42\n",
      "Best fold accuracy:\t0.6370\n",
      "Best Parameters:  {'C': 10000000.0, 'gamma': 1e-06}\n",
      "Confusion matrix, without normalization\n",
      "[[23 11  2]\n",
      " [ 7 19  3]\n",
      " [ 4  4  9]]\n",
      "Normalized confusion matrix\n",
      "[[0.64 0.31 0.06]\n",
      " [0.24 0.66 0.1 ]\n",
      " [0.24 0.24 0.53]]\n",
      "Average normalized accuracy:  0.6078243557959583\n"
     ]
    },
    {
     "data": {
      "text/html": [
       "\n",
       "                <audio controls=\"controls\" autoplay=\"autoplay\">\n",
       "                    <source src=\"./data/ping.wav\" type=\"audio/x-wav\" />\n",
       "                    Your browser does not support the audio element.\n",
       "                </audio>\n",
       "              "
      ],
      "text/plain": [
       "<IPython.lib.display.Audio object>"
      ]
     },
     "metadata": {},
     "output_type": "display_data"
    },
    {
     "data": {
      "text/plain": [
       "0.6078243557959583"
      ]
     },
     "execution_count": 32,
     "metadata": {},
     "output_type": "execute_result"
    }
   ],
   "source": [
    "param_grid = {'estimator__C': np.logspace(-1,7,9), \n",
    "              'estimator__gamma': np.logspace(-7,1,9)\n",
    "             }\n",
    "# Normal accuracy\n",
    "blt.model_opt_exe(classifier='svc', \n",
    "                  aug_type='sup_match', \n",
    "                  k=10, \n",
    "                  feat_data=X_enm, \n",
    "                  bin_data=bin_enm, \n",
    "                  seed=42, \n",
    "                  save_fig_name=None, \n",
    "                  show_opt_plot=True, \n",
    "                  show_feat_impt=False, \n",
    "                  show_cnf_matrix=False, \n",
    "                  use_balanced_accu=False,\n",
    "                  param_grid=param_grid)"
   ]
  },
  {
   "cell_type": "markdown",
   "metadata": {},
   "source": [
    "#### ENM only RFC"
   ]
  },
  {
   "cell_type": "code",
   "execution_count": 42,
   "metadata": {
    "ExecuteTime": {
     "end_time": "2019-07-23T03:38:53.637366Z",
     "start_time": "2019-07-23T03:34:21.797048Z"
    }
   },
   "outputs": [
    {
     "name": "stdout",
     "output_type": "stream",
     "text": [
      "Avg accuracy:     0.6177196804647784\n",
      "Median accuracy:  0.6211498009165353\n",
      "StdDev accuracy:  0.02066580334532129\n",
      "Numer of trials:  30\n"
     ]
    },
    {
     "data": {
      "text/html": [
       "\n",
       "                <audio controls=\"controls\" autoplay=\"autoplay\">\n",
       "                    <source src=\"./data/ping.wav\" type=\"audio/x-wav\" />\n",
       "                    Your browser does not support the audio element.\n",
       "                </audio>\n",
       "              "
      ],
      "text/plain": [
       "<IPython.lib.display.Audio object>"
      ]
     },
     "metadata": {},
     "output_type": "display_data"
    },
    {
     "data": {
      "text/plain": [
       "(0.6177196804647784,\n",
       " 0.02066580334532129,\n",
       " array([0.09, 0.12, 0.07, 0.14, 0.03, 0.01, 0.  , 0.  , 0.04, 0.01, 0.02,\n",
       "        0.02, 0.  , 0.02, 0.01, 0.01, 0.04, 0.02, 0.04, 0.03, 0.01, 0.  ,\n",
       "        0.  , 0.01, 0.  , 0.01, 0.04, 0.01, 0.01, 0.  , 0.08, 0.  , 0.01,\n",
       "        0.  , 0.02, 0.01, 0.03, 0.01]),\n",
       " array([4.91e-04, 1.02e-03, 4.89e-04, 6.90e-04, 1.47e-04, 4.11e-05,\n",
       "        6.18e-06, 1.47e-05, 3.01e-04, 3.93e-05, 7.33e-05, 1.61e-04,\n",
       "        6.55e-06, 6.28e-05, 4.74e-05, 2.07e-05, 5.57e-04, 7.36e-05,\n",
       "        1.67e-04, 8.24e-05, 3.15e-05, 1.05e-06, 5.38e-06, 3.26e-05,\n",
       "        1.23e-05, 6.16e-05, 2.36e-04, 1.16e-05, 3.93e-05, 1.32e-06,\n",
       "        2.55e-04, 5.40e-06, 2.47e-05, 1.20e-05, 1.39e-04, 1.50e-05,\n",
       "        1.35e-04, 3.71e-05]))"
      ]
     },
     "execution_count": 42,
     "metadata": {},
     "output_type": "execute_result"
    }
   ],
   "source": [
    "# 30 trials RFC optimizing max_depth and n_estimators \n",
    "model_params = {'classifier': 'rfc', \n",
    "                'aug_type': 'none', \n",
    "                'k': 0, \n",
    "                'feat_data': X_enm, \n",
    "                'bin_data': bin_enm, \n",
    "                'param_grid': {'estimator__max_depth': np.arange(1,20,2), \n",
    "                               'estimator__n_estimators': [60,80]}\n",
    "               }\n",
    "blt.multi_trials(num_trials=30, model_params=model_params)"
   ]
  }
 ],
 "metadata": {
  "kernelspec": {
   "display_name": "Python 3",
   "language": "python",
   "name": "python3"
  },
  "language_info": {
   "codemirror_mode": {
    "name": "ipython",
    "version": 3
   },
   "file_extension": ".py",
   "mimetype": "text/x-python",
   "name": "python",
   "nbconvert_exporter": "python",
   "pygments_lexer": "ipython3",
   "version": "3.7.10"
  },
  "toc": {
   "base_numbering": 1,
   "nav_menu": {},
   "number_sections": true,
   "sideBar": true,
   "skip_h1_title": false,
   "title_cell": "Table of Contents",
   "title_sidebar": "Contents",
   "toc_cell": true,
   "toc_position": {
    "height": "calc(100% - 180px)",
    "left": "10px",
    "top": "150px",
    "width": "165px"
   },
   "toc_section_display": true,
   "toc_window_display": true
  }
 },
 "nbformat": 4,
 "nbformat_minor": 4
}
