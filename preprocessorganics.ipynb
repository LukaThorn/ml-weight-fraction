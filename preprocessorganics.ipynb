{
 "cells": [
  {
   "cell_type": "markdown",
   "metadata": {
    "toc": true
   },
   "source": [
    "<h1>Table of Contents<span class=\"tocSkip\"></span></h1>\n",
    "<div class=\"toc\"><ul class=\"toc-item\"><li><span><a href=\"#Code-setup\" data-toc-modified-id=\"Code-setup-1\"><span class=\"toc-item-num\">1&nbsp;&nbsp;</span>Code setup</a></span></li><li><span><a href=\"#Data\" data-toc-modified-id=\"Data-2\"><span class=\"toc-item-num\">2&nbsp;&nbsp;</span>Data</a></span><ul class=\"toc-item\"><li><span><a href=\"#Read-items-from-target-model\" data-toc-modified-id=\"Read-items-from-target-model-2.1\"><span class=\"toc-item-num\">2.1&nbsp;&nbsp;</span>Read items from target model</a></span></li><li><span><a href=\"#Read-organics-data\" data-toc-modified-id=\"Read-organics-data-2.2\"><span class=\"toc-item-num\">2.2&nbsp;&nbsp;</span>Read organics data</a></span></li><li><span><a href=\"#Imputation-for-density\" data-toc-modified-id=\"Imputation-for-density-2.3\"><span class=\"toc-item-num\">2.3&nbsp;&nbsp;</span>Imputation for density</a></span></li><li><span><a href=\"#Organics-dataframes\" data-toc-modified-id=\"Organics-dataframes-2.4\"><span class=\"toc-item-num\">2.4&nbsp;&nbsp;</span>Organics dataframes</a></span></li><li><span><a href=\"#Organics-WF-bins\" data-toc-modified-id=\"Organics-WF-bins-2.5\"><span class=\"toc-item-num\">2.5&nbsp;&nbsp;</span>Organics WF bins</a></span></li></ul></li><li><span><a href=\"#Pre-processing\" data-toc-modified-id=\"Pre-processing-3\"><span class=\"toc-item-num\">3&nbsp;&nbsp;</span>Pre-processing</a></span><ul class=\"toc-item\"><li><span><a href=\"#Data-distributions\" data-toc-modified-id=\"Data-distributions-3.1\"><span class=\"toc-item-num\">3.1&nbsp;&nbsp;</span>Data distributions</a></span></li><li><span><a href=\"#PCA\" data-toc-modified-id=\"PCA-3.2\"><span class=\"toc-item-num\">3.2&nbsp;&nbsp;</span>PCA</a></span></li><li><span><a href=\"#Hierarchical-Agglomerative-Clustering-(HAC)\" data-toc-modified-id=\"Hierarchical-Agglomerative-Clustering-(HAC)-3.3\"><span class=\"toc-item-num\">3.3&nbsp;&nbsp;</span>Hierarchical Agglomerative Clustering (HAC)</a></span></li></ul></li><li><span><a href=\"#Preliminary-models\" data-toc-modified-id=\"Preliminary-models-4\"><span class=\"toc-item-num\">4&nbsp;&nbsp;</span>Preliminary models</a></span><ul class=\"toc-item\"><li><span><a href=\"#Compare-feature-predictivity\" data-toc-modified-id=\"Compare-feature-predictivity-4.1\"><span class=\"toc-item-num\">4.1&nbsp;&nbsp;</span>Compare feature predictivity</a></span></li></ul></li></ul></div>"
   ]
  },
  {
   "cell_type": "markdown",
   "metadata": {},
   "source": [
    "# Code setup"
   ]
  },
  {
   "cell_type": "code",
   "execution_count": 1,
   "metadata": {
    "ExecuteTime": {
     "end_time": "2019-09-26T08:27:00.488938Z",
     "start_time": "2019-09-26T08:26:59.742177Z"
    }
   },
   "outputs": [],
   "source": [
    "# To support both python 2 and python 3\n",
    "from __future__ import division, print_function, unicode_literals\n",
    "\n",
    "# To suppress warning output\n",
    "import warnings\n",
    "warnings.filterwarnings('ignore')\n",
    "warnings.simplefilter('ignore')\n",
    "\n",
    "# Important imports\n",
    "import numpy as np\n",
    "from numpy import random\n",
    "import pandas as pd\n",
    "import os, sys\n",
    "\n",
    "# To make this notebook's output stable across runs\n",
    "np.random.seed(42)"
   ]
  },
  {
   "cell_type": "code",
   "execution_count": 2,
   "metadata": {
    "ExecuteTime": {
     "end_time": "2019-09-26T08:27:04.546202Z",
     "start_time": "2019-09-26T08:27:04.328585Z"
    }
   },
   "outputs": [],
   "source": [
    "# To plot nice figures\n",
    "%matplotlib inline\n",
    "import matplotlib\n",
    "import matplotlib.pyplot as plt\n",
    "import matplotlib.cm as cm\n",
    "import matplotlib.image as mpimg\n",
    "plt.rcParams['axes.titlesize'] = 'x-large' #16\n",
    "plt.rcParams['axes.labelsize'] = 'x-large'\n",
    "plt.rcParams['xtick.labelsize'] = 'x-large'\n",
    "plt.rcParams['ytick.labelsize'] = 'x-large'"
   ]
  },
  {
   "cell_type": "code",
   "execution_count": 3,
   "metadata": {
    "ExecuteTime": {
     "end_time": "2019-09-26T08:27:05.238225Z",
     "start_time": "2019-09-26T08:27:05.231484Z"
    }
   },
   "outputs": [
    {
     "name": "stdout",
     "output_type": "stream",
     "text": [
      "Figure directory exists.\n"
     ]
    }
   ],
   "source": [
    "# Where to save the figures\n",
    "PROJECT_ROOT_DIR = \".\"\n",
    "PROJECT_SAVE_DIR = \"figs\"\n",
    "\n",
    "if not (os.path.isdir(PROJECT_ROOT_DIR+'/'+PROJECT_SAVE_DIR)):\n",
    "    print('Figure directory did not exist, creating now.')\n",
    "    os.mkdir(PROJECT_ROOT_DIR+'/'+PROJECT_SAVE_DIR)\n",
    "else:\n",
    "    print('Figure directory exists.')"
   ]
  },
  {
   "cell_type": "code",
   "execution_count": 4,
   "metadata": {
    "ExecuteTime": {
     "end_time": "2019-09-26T08:27:08.014098Z",
     "start_time": "2019-09-26T08:27:06.271533Z"
    }
   },
   "outputs": [
    {
     "name": "stdout",
     "output_type": "stream",
     "text": [
      "Figure directory exists.\n",
      "Figure directory exists.\n"
     ]
    }
   ],
   "source": [
    "# Import classes and functions used across multiple notebooks\n",
    "sys.path.append(os.getcwd())\n",
    "import importlib\n",
    "import functions as blt\n",
    "importlib.reload(blt);"
   ]
  },
  {
   "cell_type": "markdown",
   "metadata": {},
   "source": [
    "# Data"
   ]
  },
  {
   "cell_type": "markdown",
   "metadata": {},
   "source": [
    "## Read items from target model"
   ]
  },
  {
   "cell_type": "markdown",
   "metadata": {},
   "source": [
    "These will be used to help shape the organics data frame."
   ]
  },
  {
   "cell_type": "code",
   "execution_count": 5,
   "metadata": {
    "ExecuteTime": {
     "end_time": "2019-09-26T08:27:13.719545Z",
     "start_time": "2019-09-26T08:27:13.702836Z"
    }
   },
   "outputs": [
    {
     "data": {
      "text/plain": [
       "['propMW',\n",
       " 'propMP',\n",
       " 'propBP',\n",
       " 'propDensity',\n",
       " 'absorbent',\n",
       " 'anti_adhesive_cohesive',\n",
       " 'antioxidant',\n",
       " 'antiredeposition_agent',\n",
       " 'biocide',\n",
       " 'brightener',\n",
       " 'chemical_reaction_regulator',\n",
       " 'colorant',\n",
       " 'deodorizer',\n",
       " 'filler',\n",
       " 'flavouring_nutrient',\n",
       " 'hardener',\n",
       " 'humectant',\n",
       " 'opacifier',\n",
       " 'uv_stabilizer',\n",
       " 'viscosity_modifier',\n",
       " 'gen_AC',\n",
       " 'gen_CP',\n",
       " 'gen_EL',\n",
       " 'gen_HM',\n",
       " 'gen_PC',\n",
       " 'gen_PE',\n",
       " 'gen_VE',\n",
       " 'group_bodyhygiene',\n",
       " 'group_childspecific',\n",
       " 'group_dentalcare',\n",
       " 'group_deodorant',\n",
       " 'group_enginemaintenance',\n",
       " 'group_fabrictreatmentanddye',\n",
       " 'group_facialcleansingandmoisturizing',\n",
       " 'group_footcare',\n",
       " 'group_fungicide',\n",
       " 'group_generalhouseholdcleaning',\n",
       " 'group_generalmoisturizing',\n",
       " 'group_makeupandrelated',\n",
       " 'group_paintstainandrelatedproducts',\n",
       " 'group_sunscreen',\n",
       " 'group_surfacesealers',\n",
       " 'refined_spray',\n",
       " 'matrix_F',\n",
       " 'WF_measured']"
      ]
     },
     "execution_count": 5,
     "metadata": {},
     "output_type": "execute_result"
    }
   ],
   "source": [
    "# Import data frame headings from target model (before pre-processing)\n",
    "enm_cols = []\n",
    "with open('./data/column-headers.txt', 'r') as filehandle:  \n",
    "    for line in filehandle:\n",
    "        # remove linebreak which is the last character of the string\n",
    "        currentCol = line[:-1]\n",
    "        # add item to the list\n",
    "        enm_cols.append(currentCol)\n",
    "enm_cols"
   ]
  },
  {
   "cell_type": "code",
   "execution_count": 6,
   "metadata": {
    "ExecuteTime": {
     "end_time": "2019-09-26T08:27:23.958098Z",
     "start_time": "2019-09-26T08:27:23.930577Z"
    }
   },
   "outputs": [
    {
     "data": {
      "text/html": [
       "<div>\n",
       "<style scoped>\n",
       "    .dataframe tbody tr th:only-of-type {\n",
       "        vertical-align: middle;\n",
       "    }\n",
       "\n",
       "    .dataframe tbody tr th {\n",
       "        vertical-align: top;\n",
       "    }\n",
       "\n",
       "    .dataframe thead th {\n",
       "        text-align: right;\n",
       "    }\n",
       "</style>\n",
       "<table border=\"1\" class=\"dataframe\">\n",
       "  <thead>\n",
       "    <tr style=\"text-align: right;\">\n",
       "      <th></th>\n",
       "      <th>propMW</th>\n",
       "      <th>propMP</th>\n",
       "      <th>propBP</th>\n",
       "      <th>propLogDensity</th>\n",
       "      <th>absorbent</th>\n",
       "      <th>anti_adhesive_cohesive</th>\n",
       "      <th>antioxidant</th>\n",
       "      <th>antiredeposition_agent</th>\n",
       "      <th>biocide</th>\n",
       "      <th>brightener</th>\n",
       "      <th>...</th>\n",
       "      <th>group_fungicide</th>\n",
       "      <th>group_generalhouseholdcleaning</th>\n",
       "      <th>group_generalmoisturizing</th>\n",
       "      <th>group_makeupandrelated</th>\n",
       "      <th>group_paintstainandrelatedproducts</th>\n",
       "      <th>group_sunscreen</th>\n",
       "      <th>group_surfacesealers</th>\n",
       "      <th>refined_spray</th>\n",
       "      <th>matrix_F</th>\n",
       "      <th>WF_measured</th>\n",
       "    </tr>\n",
       "  </thead>\n",
       "  <tbody>\n",
       "    <tr>\n",
       "      <th>0</th>\n",
       "      <td>79.867</td>\n",
       "      <td>1843.00</td>\n",
       "      <td>2972.0</td>\n",
       "      <td>0.626340</td>\n",
       "      <td>0</td>\n",
       "      <td>0</td>\n",
       "      <td>0</td>\n",
       "      <td>1</td>\n",
       "      <td>0</td>\n",
       "      <td>0</td>\n",
       "      <td>...</td>\n",
       "      <td>0</td>\n",
       "      <td>0</td>\n",
       "      <td>0</td>\n",
       "      <td>0</td>\n",
       "      <td>1</td>\n",
       "      <td>0</td>\n",
       "      <td>0</td>\n",
       "      <td>0</td>\n",
       "      <td>1</td>\n",
       "      <td>0</td>\n",
       "    </tr>\n",
       "    <tr>\n",
       "      <th>1</th>\n",
       "      <td>63.546</td>\n",
       "      <td>1083.00</td>\n",
       "      <td>2567.0</td>\n",
       "      <td>0.952308</td>\n",
       "      <td>0</td>\n",
       "      <td>0</td>\n",
       "      <td>1</td>\n",
       "      <td>0</td>\n",
       "      <td>1</td>\n",
       "      <td>0</td>\n",
       "      <td>...</td>\n",
       "      <td>0</td>\n",
       "      <td>0</td>\n",
       "      <td>0</td>\n",
       "      <td>0</td>\n",
       "      <td>0</td>\n",
       "      <td>0</td>\n",
       "      <td>0</td>\n",
       "      <td>0</td>\n",
       "      <td>1</td>\n",
       "      <td>0</td>\n",
       "    </tr>\n",
       "    <tr>\n",
       "      <th>2</th>\n",
       "      <td>65.370</td>\n",
       "      <td>419.53</td>\n",
       "      <td>907.0</td>\n",
       "      <td>0.853698</td>\n",
       "      <td>0</td>\n",
       "      <td>0</td>\n",
       "      <td>1</td>\n",
       "      <td>0</td>\n",
       "      <td>0</td>\n",
       "      <td>0</td>\n",
       "      <td>...</td>\n",
       "      <td>0</td>\n",
       "      <td>0</td>\n",
       "      <td>0</td>\n",
       "      <td>0</td>\n",
       "      <td>0</td>\n",
       "      <td>0</td>\n",
       "      <td>0</td>\n",
       "      <td>0</td>\n",
       "      <td>1</td>\n",
       "      <td>0</td>\n",
       "    </tr>\n",
       "    <tr>\n",
       "      <th>3</th>\n",
       "      <td>107.868</td>\n",
       "      <td>961.78</td>\n",
       "      <td>2162.0</td>\n",
       "      <td>1.014730</td>\n",
       "      <td>0</td>\n",
       "      <td>0</td>\n",
       "      <td>0</td>\n",
       "      <td>0</td>\n",
       "      <td>1</td>\n",
       "      <td>0</td>\n",
       "      <td>...</td>\n",
       "      <td>0</td>\n",
       "      <td>0</td>\n",
       "      <td>0</td>\n",
       "      <td>0</td>\n",
       "      <td>0</td>\n",
       "      <td>0</td>\n",
       "      <td>0</td>\n",
       "      <td>0</td>\n",
       "      <td>1</td>\n",
       "      <td>0</td>\n",
       "    </tr>\n",
       "  </tbody>\n",
       "</table>\n",
       "<p>4 rows × 45 columns</p>\n",
       "</div>"
      ],
      "text/plain": [
       "    propMW   propMP  propBP  propLogDensity  absorbent  \\\n",
       "0   79.867  1843.00  2972.0        0.626340          0   \n",
       "1   63.546  1083.00  2567.0        0.952308          0   \n",
       "2   65.370   419.53   907.0        0.853698          0   \n",
       "3  107.868   961.78  2162.0        1.014730          0   \n",
       "\n",
       "   anti_adhesive_cohesive  antioxidant  antiredeposition_agent  biocide  \\\n",
       "0                       0            0                       1        0   \n",
       "1                       0            1                       0        1   \n",
       "2                       0            1                       0        0   \n",
       "3                       0            0                       0        1   \n",
       "\n",
       "   brightener  ...  group_fungicide  group_generalhouseholdcleaning  \\\n",
       "0           0  ...                0                               0   \n",
       "1           0  ...                0                               0   \n",
       "2           0  ...                0                               0   \n",
       "3           0  ...                0                               0   \n",
       "\n",
       "   group_generalmoisturizing  group_makeupandrelated  \\\n",
       "0                          0                       0   \n",
       "1                          0                       0   \n",
       "2                          0                       0   \n",
       "3                          0                       0   \n",
       "\n",
       "   group_paintstainandrelatedproducts  group_sunscreen  group_surfacesealers  \\\n",
       "0                                   1                0                     0   \n",
       "1                                   0                0                     0   \n",
       "2                                   0                0                     0   \n",
       "3                                   0                0                     0   \n",
       "\n",
       "   refined_spray  matrix_F  WF_measured  \n",
       "0              0         1            0  \n",
       "1              0         1            0  \n",
       "2              0         1            0  \n",
       "3              0         1            0  \n",
       "\n",
       "[4 rows x 45 columns]"
      ]
     },
     "execution_count": 6,
     "metadata": {},
     "output_type": "execute_result"
    }
   ],
   "source": [
    "# Read pre-processed ENM data (before applying feature reduction)\n",
    "X_enm = pd.read_csv(\"./data/ENM-pre-preprocessed-feats.csv\", \n",
    "                    sep='\\t', index_col=0)\n",
    "X_enm.head(4)"
   ]
  },
  {
   "cell_type": "code",
   "execution_count": 52,
   "metadata": {
    "ExecuteTime": {
     "end_time": "2019-09-26T08:40:31.951931Z",
     "start_time": "2019-09-26T08:40:31.938305Z"
    }
   },
   "outputs": [],
   "source": [
    "# Dataframe for only ENM functional uses for feature agglomeration later\n",
    "Xf_enm = pd.DataFrame(X_enm)\n",
    "# Drop unwanted columns\n",
    "Xf_enm.drop(Xf_enm.columns[0:4], axis=1, inplace=True) # drop chem props\n",
    "Xf_enm.drop(Xf_enm.columns[16:], axis=1, inplace=True) # drop PUC\n",
    "\n",
    "# Dataframe for only ENM product categories for feature agglomeration later\n",
    "Xp_enm = pd.DataFrame(X_enm)\n",
    "# Drop unwanted columns\n",
    "Xp_enm.drop(Xp_enm.columns[0:20], axis=1, inplace=True)\n",
    "Xp_enm.drop(Xp_enm.columns[-3:], axis=1, inplace=True)"
   ]
  },
  {
   "cell_type": "markdown",
   "metadata": {
    "ExecuteTime": {
     "end_time": "2018-07-31T20:26:39.287566Z",
     "start_time": "2018-07-31T20:26:39.283890Z"
    }
   },
   "source": [
    "## Read organics data"
   ]
  },
  {
   "cell_type": "code",
   "execution_count": 18,
   "metadata": {
    "ExecuteTime": {
     "end_time": "2019-09-26T08:32:56.879073Z",
     "start_time": "2019-09-26T08:32:56.791130Z"
    }
   },
   "outputs": [
    {
     "name": "stdout",
     "output_type": "stream",
     "text": [
      "(29373, 1)\n"
     ]
    }
   ],
   "source": [
    "# Read in organics weight fraction data\n",
    "y_source = pd.read_csv(\"./data/organics-clean.csv\", sep=',', usecols=[2])\n",
    "print(y_source.shape)"
   ]
  },
  {
   "cell_type": "code",
   "execution_count": 19,
   "metadata": {
    "ExecuteTime": {
     "end_time": "2019-09-26T08:32:57.827822Z",
     "start_time": "2019-09-26T08:32:57.566409Z"
    },
    "scrolled": true
   },
   "outputs": [],
   "source": [
    "# Read in organcis potential predictive variables\n",
    "X_source = pd.read_csv(\"./data/organics-clean.csv\", sep=',', index_col=0)\n",
    "\n",
    "# Drop unwanted columns (CASRN, WF, product type, chem-props unused in ENM df)\n",
    "X_source.drop(X_source.columns[[0,1,4,8,9,10,11,14,15,17]], \n",
    "              axis=1, inplace=True)\n",
    "\n",
    "# Rename columns\n",
    "X_source.rename(columns = {'gencatID':'gen'}, inplace = True)\n",
    "X_source.rename(columns = {'refined_product_type':'refined'}, inplace = True)\n",
    "X_source.rename(columns = {'assignedID':'matrix'}, inplace = True)"
   ]
  },
  {
   "cell_type": "code",
   "execution_count": 20,
   "metadata": {
    "ExecuteTime": {
     "end_time": "2019-09-26T08:32:58.206618Z",
     "start_time": "2019-09-26T08:32:58.175132Z"
    }
   },
   "outputs": [
    {
     "data": {
      "text/plain": [
       "array(['NOC', 'spray'], dtype=object)"
      ]
     },
     "execution_count": 20,
     "metadata": {},
     "output_type": "execute_result"
    }
   ],
   "source": [
    "# Clean up data in refined column so it's only spray vs NOC\n",
    "\n",
    "# Find/replace sprays\n",
    "X_source.loc[X_source['refined'].str.contains(\n",
    "    \"spray\", na=False) == True, 'refined'] = \"spray\"\n",
    "# Find/replace everything else with NOC\n",
    "X_source.loc[X_source.refined != \"spray\", 'refined'] = \"NOC\"\n",
    "# Check unique values for refined column\n",
    "X_source.refined.unique()"
   ]
  },
  {
   "cell_type": "code",
   "execution_count": 21,
   "metadata": {
    "ExecuteTime": {
     "end_time": "2019-09-26T08:32:58.695679Z",
     "start_time": "2019-09-26T08:32:58.651794Z"
    }
   },
   "outputs": [],
   "source": [
    "# Transform factor data (product categories) into binary columns\n",
    "X_source=pd.get_dummies(X_source, prefix=[\"gen\",\"group\",\"refined\",\"matrix\"], \n",
    "                        columns=[\"gen\",\"group\",\"refined\",\"matrix\"])\n",
    "\n",
    "# Clean up column names\n",
    "X_source.columns = X_source.columns.str.replace(' ','')\n",
    "X_source.columns = X_source.columns.str.replace('/','')\n",
    "X_source.columns = X_source.columns.str.replace('-','')"
   ]
  },
  {
   "cell_type": "code",
   "execution_count": 22,
   "metadata": {
    "ExecuteTime": {
     "end_time": "2019-09-26T08:32:59.506401Z",
     "start_time": "2019-09-26T08:32:59.501782Z"
    }
   },
   "outputs": [],
   "source": [
    "# If there are ENM features not present in organics df, add them\n",
    "\n",
    "# List differences between feature sets\n",
    "cols_add = list(set(enm_cols) - set(X_source.columns.tolist()))\n",
    "# Assign these features to organics df with default values of zero\n",
    "for col in cols_add:\n",
    "    X_source[col] = 0"
   ]
  },
  {
   "cell_type": "code",
   "execution_count": 23,
   "metadata": {
    "ExecuteTime": {
     "end_time": "2019-09-26T08:33:00.263893Z",
     "start_time": "2019-09-26T08:33:00.157521Z"
    }
   },
   "outputs": [
    {
     "name": "stdout",
     "output_type": "stream",
     "text": [
      "(16439, 46)\n"
     ]
    }
   ],
   "source": [
    "# Delete unwanted samples\n",
    "\n",
    "# Restructure organics features df to match ENM df\n",
    "X_source = X_source[enm_cols]\n",
    "# Temporarily add WF labels to df\n",
    "X_source = pd.concat([y_source, X_source], axis=1)\n",
    "# Delete rows that are missing important chemical property data\n",
    "X_source = X_source[X_source['propMP'].notnull()] # delete missing data\n",
    "# Remove outlier lacking density data\n",
    "X_source = X_source[X_source['propMP'] > -170]\n",
    "# Delete rows that don't have enough data (ones)\n",
    "X_source = X_source[X_source.iloc[:,5:].sum(axis=1) > 2]\n",
    "\n",
    "print(X_source.shape)"
   ]
  },
  {
   "cell_type": "code",
   "execution_count": 24,
   "metadata": {
    "ExecuteTime": {
     "end_time": "2019-09-26T08:33:00.886429Z",
     "start_time": "2019-09-26T08:33:00.840345Z"
    }
   },
   "outputs": [
    {
     "name": "stdout",
     "output_type": "stream",
     "text": [
      "(16439, 1)\n"
     ]
    }
   ],
   "source": [
    "# Extract wf labels (y) from new X_source\n",
    "y_source = X_source[['maximum_weight_fraction']]\n",
    "X_source.drop(X_source.columns[[0]], axis=1, inplace=True)\n",
    "print(y_source.shape)"
   ]
  },
  {
   "cell_type": "code",
   "execution_count": 25,
   "metadata": {
    "ExecuteTime": {
     "end_time": "2019-09-26T08:33:01.807811Z",
     "start_time": "2019-09-26T08:33:01.805330Z"
    }
   },
   "outputs": [],
   "source": [
    "# TODO: export y_source df ?????"
   ]
  },
  {
   "cell_type": "code",
   "execution_count": 26,
   "metadata": {
    "ExecuteTime": {
     "end_time": "2019-09-26T08:33:03.690803Z",
     "start_time": "2019-09-26T08:33:03.668568Z"
    }
   },
   "outputs": [
    {
     "data": {
      "text/html": [
       "<div>\n",
       "<style scoped>\n",
       "    .dataframe tbody tr th:only-of-type {\n",
       "        vertical-align: middle;\n",
       "    }\n",
       "\n",
       "    .dataframe tbody tr th {\n",
       "        vertical-align: top;\n",
       "    }\n",
       "\n",
       "    .dataframe thead th {\n",
       "        text-align: right;\n",
       "    }\n",
       "</style>\n",
       "<table border=\"1\" class=\"dataframe\">\n",
       "  <thead>\n",
       "    <tr style=\"text-align: right;\">\n",
       "      <th></th>\n",
       "      <th>propMW</th>\n",
       "      <th>propMP</th>\n",
       "      <th>propBP</th>\n",
       "      <th>propDensity</th>\n",
       "      <th>absorbent</th>\n",
       "      <th>anti_adhesive_cohesive</th>\n",
       "      <th>antioxidant</th>\n",
       "      <th>antiredeposition_agent</th>\n",
       "      <th>biocide</th>\n",
       "      <th>brightener</th>\n",
       "      <th>...</th>\n",
       "      <th>group_fungicide</th>\n",
       "      <th>group_generalhouseholdcleaning</th>\n",
       "      <th>group_generalmoisturizing</th>\n",
       "      <th>group_makeupandrelated</th>\n",
       "      <th>group_paintstainandrelatedproducts</th>\n",
       "      <th>group_sunscreen</th>\n",
       "      <th>group_surfacesealers</th>\n",
       "      <th>refined_spray</th>\n",
       "      <th>matrix_F</th>\n",
       "      <th>WF_measured</th>\n",
       "    </tr>\n",
       "  </thead>\n",
       "  <tbody>\n",
       "    <tr>\n",
       "      <th>29366</th>\n",
       "      <td>152.149</td>\n",
       "      <td>84.03215</td>\n",
       "      <td>263.941</td>\n",
       "      <td>1.198</td>\n",
       "      <td>0.0</td>\n",
       "      <td>0.0</td>\n",
       "      <td>0.0</td>\n",
       "      <td>0.0</td>\n",
       "      <td>0.0</td>\n",
       "      <td>0.0</td>\n",
       "      <td>...</td>\n",
       "      <td>0.0</td>\n",
       "      <td>0.0</td>\n",
       "      <td>0.0</td>\n",
       "      <td>1.0</td>\n",
       "      <td>0.0</td>\n",
       "      <td>0.0</td>\n",
       "      <td>0.0</td>\n",
       "      <td>0.0</td>\n",
       "      <td>1.0</td>\n",
       "      <td>0.0</td>\n",
       "    </tr>\n",
       "    <tr>\n",
       "      <th>29367</th>\n",
       "      <td>152.149</td>\n",
       "      <td>84.03215</td>\n",
       "      <td>263.941</td>\n",
       "      <td>1.198</td>\n",
       "      <td>0.0</td>\n",
       "      <td>0.0</td>\n",
       "      <td>0.0</td>\n",
       "      <td>0.0</td>\n",
       "      <td>0.0</td>\n",
       "      <td>0.0</td>\n",
       "      <td>...</td>\n",
       "      <td>0.0</td>\n",
       "      <td>0.0</td>\n",
       "      <td>1.0</td>\n",
       "      <td>0.0</td>\n",
       "      <td>0.0</td>\n",
       "      <td>0.0</td>\n",
       "      <td>0.0</td>\n",
       "      <td>0.0</td>\n",
       "      <td>1.0</td>\n",
       "      <td>0.0</td>\n",
       "    </tr>\n",
       "    <tr>\n",
       "      <th>29368</th>\n",
       "      <td>152.149</td>\n",
       "      <td>84.03215</td>\n",
       "      <td>263.941</td>\n",
       "      <td>1.198</td>\n",
       "      <td>0.0</td>\n",
       "      <td>0.0</td>\n",
       "      <td>0.0</td>\n",
       "      <td>0.0</td>\n",
       "      <td>0.0</td>\n",
       "      <td>0.0</td>\n",
       "      <td>...</td>\n",
       "      <td>0.0</td>\n",
       "      <td>0.0</td>\n",
       "      <td>0.0</td>\n",
       "      <td>1.0</td>\n",
       "      <td>0.0</td>\n",
       "      <td>0.0</td>\n",
       "      <td>0.0</td>\n",
       "      <td>0.0</td>\n",
       "      <td>1.0</td>\n",
       "      <td>0.0</td>\n",
       "    </tr>\n",
       "    <tr>\n",
       "      <th>29369</th>\n",
       "      <td>135.210</td>\n",
       "      <td>-31.78080</td>\n",
       "      <td>203.080</td>\n",
       "      <td>0.930</td>\n",
       "      <td>0.0</td>\n",
       "      <td>0.0</td>\n",
       "      <td>0.0</td>\n",
       "      <td>0.0</td>\n",
       "      <td>0.0</td>\n",
       "      <td>0.0</td>\n",
       "      <td>...</td>\n",
       "      <td>0.0</td>\n",
       "      <td>0.0</td>\n",
       "      <td>0.0</td>\n",
       "      <td>0.0</td>\n",
       "      <td>0.0</td>\n",
       "      <td>0.0</td>\n",
       "      <td>0.0</td>\n",
       "      <td>0.0</td>\n",
       "      <td>1.0</td>\n",
       "      <td>0.0</td>\n",
       "    </tr>\n",
       "    <tr>\n",
       "      <th>29370</th>\n",
       "      <td>135.210</td>\n",
       "      <td>-31.78080</td>\n",
       "      <td>203.080</td>\n",
       "      <td>0.930</td>\n",
       "      <td>0.0</td>\n",
       "      <td>0.0</td>\n",
       "      <td>0.0</td>\n",
       "      <td>0.0</td>\n",
       "      <td>0.0</td>\n",
       "      <td>0.0</td>\n",
       "      <td>...</td>\n",
       "      <td>0.0</td>\n",
       "      <td>0.0</td>\n",
       "      <td>0.0</td>\n",
       "      <td>0.0</td>\n",
       "      <td>0.0</td>\n",
       "      <td>0.0</td>\n",
       "      <td>0.0</td>\n",
       "      <td>0.0</td>\n",
       "      <td>1.0</td>\n",
       "      <td>0.0</td>\n",
       "    </tr>\n",
       "  </tbody>\n",
       "</table>\n",
       "<p>5 rows × 45 columns</p>\n",
       "</div>"
      ],
      "text/plain": [
       "        propMW    propMP   propBP  propDensity  absorbent  \\\n",
       "29366  152.149  84.03215  263.941        1.198        0.0   \n",
       "29367  152.149  84.03215  263.941        1.198        0.0   \n",
       "29368  152.149  84.03215  263.941        1.198        0.0   \n",
       "29369  135.210 -31.78080  203.080        0.930        0.0   \n",
       "29370  135.210 -31.78080  203.080        0.930        0.0   \n",
       "\n",
       "       anti_adhesive_cohesive  antioxidant  antiredeposition_agent  biocide  \\\n",
       "29366                     0.0          0.0                     0.0      0.0   \n",
       "29367                     0.0          0.0                     0.0      0.0   \n",
       "29368                     0.0          0.0                     0.0      0.0   \n",
       "29369                     0.0          0.0                     0.0      0.0   \n",
       "29370                     0.0          0.0                     0.0      0.0   \n",
       "\n",
       "       brightener  ...  group_fungicide  group_generalhouseholdcleaning  \\\n",
       "29366         0.0  ...              0.0                             0.0   \n",
       "29367         0.0  ...              0.0                             0.0   \n",
       "29368         0.0  ...              0.0                             0.0   \n",
       "29369         0.0  ...              0.0                             0.0   \n",
       "29370         0.0  ...              0.0                             0.0   \n",
       "\n",
       "       group_generalmoisturizing  group_makeupandrelated  \\\n",
       "29366                        0.0                     1.0   \n",
       "29367                        1.0                     0.0   \n",
       "29368                        0.0                     1.0   \n",
       "29369                        0.0                     0.0   \n",
       "29370                        0.0                     0.0   \n",
       "\n",
       "       group_paintstainandrelatedproducts  group_sunscreen  \\\n",
       "29366                                 0.0              0.0   \n",
       "29367                                 0.0              0.0   \n",
       "29368                                 0.0              0.0   \n",
       "29369                                 0.0              0.0   \n",
       "29370                                 0.0              0.0   \n",
       "\n",
       "       group_surfacesealers  refined_spray  matrix_F  WF_measured  \n",
       "29366                   0.0            0.0       1.0          0.0  \n",
       "29367                   0.0            0.0       1.0          0.0  \n",
       "29368                   0.0            0.0       1.0          0.0  \n",
       "29369                   0.0            0.0       1.0          0.0  \n",
       "29370                   0.0            0.0       1.0          0.0  \n",
       "\n",
       "[5 rows x 45 columns]"
      ]
     },
     "execution_count": 26,
     "metadata": {},
     "output_type": "execute_result"
    }
   ],
   "source": [
    "# Preview final main dataframe\n",
    "X_source.tail(5)"
   ]
  },
  {
   "cell_type": "markdown",
   "metadata": {},
   "source": [
    "## Imputation for density"
   ]
  },
  {
   "cell_type": "code",
   "execution_count": 27,
   "metadata": {
    "ExecuteTime": {
     "end_time": "2019-09-26T08:33:05.094797Z",
     "start_time": "2019-09-26T08:33:05.086165Z"
    }
   },
   "outputs": [],
   "source": [
    "# Log-transform density so that it's no longer skewed\n",
    "X_source['propLogDensity'] = X_source['propDensity'].apply(np.log10)"
   ]
  },
  {
   "cell_type": "code",
   "execution_count": 28,
   "metadata": {
    "ExecuteTime": {
     "end_time": "2019-09-26T08:33:05.808664Z",
     "start_time": "2019-09-26T08:33:05.790136Z"
    }
   },
   "outputs": [
    {
     "name": "stdout",
     "output_type": "stream",
     "text": [
      "(639, 46)\n"
     ]
    },
    {
     "data": {
      "text/plain": [
       "0.038870977553379156"
      ]
     },
     "execution_count": 28,
     "metadata": {},
     "output_type": "execute_result"
    }
   ],
   "source": [
    "# How much density data is missing?\n",
    "print(X_source[~X_source['propLogDensity'].notnull()].shape)\n",
    "\n",
    "# Percent of density data missing\n",
    "len(X_source[~X_source['propLogDensity'].notnull()])/len(X_source)"
   ]
  },
  {
   "cell_type": "code",
   "execution_count": 29,
   "metadata": {
    "ExecuteTime": {
     "end_time": "2019-09-26T08:33:07.001103Z",
     "start_time": "2019-09-26T08:33:06.990762Z"
    }
   },
   "outputs": [],
   "source": [
    "# Replace propDensity with propLogDensity in data frame\n",
    "cols = X_source.columns.tolist()\n",
    "cols = cols[:3] + cols[-1:] + cols[4:-1]\n",
    "X_source = X_source[cols]"
   ]
  },
  {
   "cell_type": "code",
   "execution_count": 31,
   "metadata": {
    "ExecuteTime": {
     "end_time": "2019-09-26T08:34:05.532326Z",
     "start_time": "2019-09-26T08:34:03.714041Z"
    }
   },
   "outputs": [
    {
     "data": {
      "image/png": "[encoded data removed]",
      "text/plain": [
       "<Figure size 864x864 with 2 Axes>"
      ]
     },
     "metadata": {
      "needs_background": "light"
     },
     "output_type": "display_data"
    }
   ],
   "source": [
    "# Check correlations between features to determine \n",
    "# best independent variable for imputation\n",
    "\n",
    "def correlation_matrix(df):\n",
    "    fig = plt.figure(figsize=(12,12))\n",
    "    ax = fig.add_subplot(111)\n",
    "    cmap = cm.get_cmap('coolwarm', 24)\n",
    "    cax = ax.imshow(df.corr('spearman'), cmap=cmap, vmin=-1, vmax=1)\n",
    "    plt.title('Feature Correlation')\n",
    "    labels = df.columns.tolist()\n",
    "    ax.set_xticks(range(len(df.columns)))\n",
    "    ax.set_yticks(range(len(df.columns)))\n",
    "    ax.set_xticklabels(labels,fontsize=8, rotation=90)\n",
    "    ax.set_yticklabels(labels,fontsize=8)\n",
    "    fig.colorbar(cax)\n",
    "    plt.show()\n",
    "\n",
    "correlation_matrix(X_source)"
   ]
  },
  {
   "cell_type": "markdown",
   "metadata": {},
   "source": [
    "In order to find missing values for density, imputation will be performed using linear regression. Melting point has the highest correlation with density and will therefore be used as the independent variable.\n",
    "Assuming the line of best fit for a set of points is given by:\n",
    "\n",
    "$y = a + b x$\n",
    "\n",
    "where:\n",
    "\n",
    "$b = \\Large{\\frac{\\sum x_i  y_i - n \\bar x\\bar y )} {\\sum (x_i - \\bar x)^2}} $\n",
    "\n",
    "and\n",
    "\n",
    "$a = \\bar y - b \\bar x$\n",
    "\n",
    "* To remove outliers: https://www.kdnuggets.com/2017/02/removing-outliers-standard-deviation-python.html"
   ]
  },
  {
   "cell_type": "code",
   "execution_count": 32,
   "metadata": {
    "ExecuteTime": {
     "end_time": "2019-09-26T08:34:55.426490Z",
     "start_time": "2019-09-26T08:34:55.336542Z"
    }
   },
   "outputs": [],
   "source": [
    "# Find line of best fit for imputation\n",
    "\n",
    "# MP and density arrays for continuous data\n",
    "X = np.array(X_source.loc[X_source.propLogDensity.notnull(), ['propMP']])\n",
    "Y = np.array(X_source.loc[X_source.propLogDensity.notnull(), \n",
    "                          ['propLogDensity']])\n",
    "\n",
    "# Solve for 'a' and 'b'\n",
    "def best_fit(X, Y):\n",
    "    xbar = sum(X)/len(X)\n",
    "    ybar = sum(Y)/len(Y)\n",
    "    n = len(X) # or len(Y)\n",
    "    numer = sum(xi*yi for xi,yi in zip(X, Y)) - n * xbar * ybar\n",
    "    denum = sum(xi**2 for xi in X) - n * xbar**2\n",
    "    b = numer / denum\n",
    "    a = ybar - b * xbar\n",
    "    return a, b\n",
    "\n",
    "a, b = best_fit(X, Y)\n",
    "\n",
    "# MP and density arrays for missing data\n",
    "X_null = np.array(X_source.loc[X_source.propLogDensity.isnull(), ['propMP']])\n",
    "Y_null = b * X_null + a"
   ]
  },
  {
   "cell_type": "code",
   "execution_count": 33,
   "metadata": {
    "ExecuteTime": {
     "end_time": "2019-09-26T08:34:57.727924Z",
     "start_time": "2019-09-26T08:34:57.441168Z"
    }
   },
   "outputs": [
    {
     "data": {
      "image/png": "[encoded data removed]",
      "text/plain": [
       "<Figure size 432x288 with 1 Axes>"
      ]
     },
     "metadata": {
      "needs_background": "light"
     },
     "output_type": "display_data"
    }
   ],
   "source": [
    "# Plot points and fit line\n",
    "fig = plt.figure()\n",
    "ax1 = fig.add_subplot(111)\n",
    "\n",
    "ax1.scatter(X, Y, c = 'b', label=\"original\")\n",
    "ax1.scatter(X_null, Y_null, c = 'r', marker = 'X', label=\"imputed\")\n",
    "yfit = [a + b * xi for xi in X]\n",
    "ax1.plot(X, yfit, color='black')\n",
    "\n",
    "plt.title(\"logDensity vs Melting Point\")\n",
    "plt.legend(loc='upper left')\n",
    "plt.grid()\n",
    "plt.show()"
   ]
  },
  {
   "cell_type": "code",
   "execution_count": 34,
   "metadata": {
    "ExecuteTime": {
     "end_time": "2019-09-26T08:34:59.360928Z",
     "start_time": "2019-09-26T08:34:59.040334Z"
    }
   },
   "outputs": [],
   "source": [
    "# Put imputed densities into data frame\n",
    "for idx in X_source.index:\n",
    "    if pd.isnull(X_source.loc[idx,\"propLogDensity\"]):\n",
    "        MP = X_source.loc[idx,\"propMP\"]\n",
    "        X_source.loc[idx,\"propLogDensity\"] = (b * MP + a)"
   ]
  },
  {
   "cell_type": "markdown",
   "metadata": {},
   "source": [
    "## Organics dataframes"
   ]
  },
  {
   "cell_type": "markdown",
   "metadata": {},
   "source": [
    "I split up X_source into a few separate dataframes for doing separate hierarchical clustering later on."
   ]
  },
  {
   "cell_type": "code",
   "execution_count": 35,
   "metadata": {
    "ExecuteTime": {
     "end_time": "2019-09-26T08:35:07.077401Z",
     "start_time": "2019-09-26T08:35:07.068738Z"
    },
    "scrolled": true
   },
   "outputs": [],
   "source": [
    "# Dataframe for only ENM functional use categories\n",
    "Xf_source=pd.DataFrame(X_source)\n",
    "# Drop unwanted columns\n",
    "Xf_source.drop(Xf_source.columns[0:4], axis=1, inplace=True) # drop chem props\n",
    "Xf_source.drop(Xf_source.columns[16:], axis=1, inplace=True) # drop all else\n",
    "source_func_names=list(Xf_source.columns.values)"
   ]
  },
  {
   "cell_type": "code",
   "execution_count": 36,
   "metadata": {
    "ExecuteTime": {
     "end_time": "2019-09-26T08:35:20.744412Z",
     "start_time": "2019-09-26T08:35:20.736368Z"
    }
   },
   "outputs": [],
   "source": [
    "# Dataframe for only ENM product categories\n",
    "Xp_source=pd.DataFrame(X_source)\n",
    "# Drop unwanted columns\n",
    "Xp_source.drop(Xp_source.columns[0:20], axis=1, inplace=True) \n",
    "Xp_source.drop(Xp_source.columns[-3:], axis=1, inplace=True) \n",
    "source_PUC_names=list(Xp_source.columns.values)"
   ]
  },
  {
   "cell_type": "code",
   "execution_count": 38,
   "metadata": {
    "ExecuteTime": {
     "end_time": "2019-09-26T08:35:39.257121Z",
     "start_time": "2019-09-26T08:35:39.249007Z"
    }
   },
   "outputs": [
    {
     "data": {
      "text/plain": [
       "['propMW', 'propMP', 'propBP', 'propLogDensity']"
      ]
     },
     "execution_count": 38,
     "metadata": {},
     "output_type": "execute_result"
    }
   ],
   "source": [
    "# Array for only chemical properties\n",
    "Xc_source=pd.DataFrame(X_source)\n",
    "# Drop unwanted columns\n",
    "Xc_source.drop(Xc_source.columns[4:], axis=1, inplace=True)\n",
    "list(Xc_source.columns.values)"
   ]
  },
  {
   "cell_type": "code",
   "execution_count": 39,
   "metadata": {
    "ExecuteTime": {
     "end_time": "2019-09-26T08:35:44.098990Z",
     "start_time": "2019-09-26T08:35:44.090922Z"
    }
   },
   "outputs": [
    {
     "data": {
      "text/plain": [
       "['refined_spray', 'matrix_F', 'WF_measured']"
      ]
     },
     "execution_count": 39,
     "metadata": {},
     "output_type": "execute_result"
    }
   ],
   "source": [
    "# Dataframe for only ENM product categories\n",
    "Xm_source=pd.DataFrame(X_source)\n",
    "# Drop unwanted columns\n",
    "Xm_source.drop(Xm_source.columns[:-3], axis=1, inplace=True)\n",
    "list(Xm_source.columns.values)"
   ]
  },
  {
   "cell_type": "markdown",
   "metadata": {
    "ExecuteTime": {
     "end_time": "2018-07-31T20:29:35.081047Z",
     "start_time": "2018-07-31T20:29:35.076307Z"
    }
   },
   "source": [
    "## Organics WF bins"
   ]
  },
  {
   "cell_type": "code",
   "execution_count": 40,
   "metadata": {
    "ExecuteTime": {
     "end_time": "2019-09-26T08:36:00.623013Z",
     "start_time": "2019-09-26T08:36:00.489799Z"
    }
   },
   "outputs": [
    {
     "data": {
      "image/png": "[encoded data removed]",
      "text/plain": [
       "<Figure size 432x288 with 1 Axes>"
      ]
     },
     "metadata": {
      "needs_background": "light"
     },
     "output_type": "display_data"
    }
   ],
   "source": [
    "# Log-transformed histogram of weight fraction\n",
    "plt.hist(np.log10(np.asarray(y_source)+0.00001), bins=16);"
   ]
  },
  {
   "cell_type": "code",
   "execution_count": 41,
   "metadata": {
    "ExecuteTime": {
     "end_time": "2019-09-26T08:36:10.490079Z",
     "start_time": "2019-09-26T08:36:10.258414Z"
    }
   },
   "outputs": [],
   "source": [
    "# Define function to assign weight fractions to bins per Isaacs et al. 2016\n",
    "def bins(row):\n",
    "    if row['maximum_weight_fraction'] <= 0.01:\n",
    "        val = 'bottom'\n",
    "    elif row['maximum_weight_fraction'] > 0.05:\n",
    "        val = 'top'\n",
    "    else:\n",
    "        val = 'middle'\n",
    "    return val\n",
    "bin_source_isaacs = y_source.apply(bins, axis=1)"
   ]
  },
  {
   "cell_type": "code",
   "execution_count": 42,
   "metadata": {
    "ExecuteTime": {
     "end_time": "2019-09-26T08:36:12.164438Z",
     "start_time": "2019-09-26T08:36:12.050136Z"
    }
   },
   "outputs": [
    {
     "data": {
      "image/png": "[encoded data removed]",
      "text/plain": [
       "<Figure size 432x288 with 1 Axes>"
      ]
     },
     "metadata": {
      "needs_background": "light"
     },
     "output_type": "display_data"
    }
   ],
   "source": [
    "bin_source_isaacs.value_counts()[['bottom','middle','top']].plot(kind='bar')\n",
    "plt.title('Frequency of Isaacs et al. Organic Weight Fraction Bins');"
   ]
  },
  {
   "cell_type": "code",
   "execution_count": 43,
   "metadata": {
    "ExecuteTime": {
     "end_time": "2019-09-26T08:36:16.482704Z",
     "start_time": "2019-09-26T08:36:16.138191Z"
    }
   },
   "outputs": [
    {
     "data": {
      "image/png": "[encoded data removed]",
      "text/plain": [
       "<Figure size 432x288 with 1 Axes>"
      ]
     },
     "metadata": {
      "needs_background": "light"
     },
     "output_type": "display_data"
    },
    {
     "name": "stdout",
     "output_type": "stream",
     "text": [
      "Label bin:  [0 1 2]\n",
      "Count    :  [  381  5746 10312]\n",
      "Frequency:  [0.02, 0.35, 0.63]\n"
     ]
    }
   ],
   "source": [
    "# Apply bins to organics data\n",
    "# (slightly different ranges from those used by Isaacs et al. 2016)\n",
    "bin_source = np.asarray(y_source.apply(blt.bins, axis=1))\n",
    "# View bar plot of ENM WF bins\n",
    "blt.bar_graph_bins(bin_source, data_composition='Organic (Based on ENM)')"
   ]
  },
  {
   "cell_type": "markdown",
   "metadata": {},
   "source": [
    "# Pre-processing"
   ]
  },
  {
   "cell_type": "markdown",
   "metadata": {},
   "source": [
    "## Data distributions"
   ]
  },
  {
   "cell_type": "code",
   "execution_count": 44,
   "metadata": {
    "ExecuteTime": {
     "end_time": "2019-09-26T08:36:35.016533Z",
     "start_time": "2019-09-26T08:36:35.010099Z"
    }
   },
   "outputs": [],
   "source": [
    "# Function for plotting piecharts\n",
    "def plot_piechart(data,\n",
    "                  labels, \n",
    "                  save_fig_name):\n",
    "    my_colors = [\"#1f77b4\",\"#ff7f0e\",\"#ffdf00\",\"#d62728\",\"#9467bd\",\n",
    "                 \"#2ca02c\",\"#1034A6\",\"#ffbf33\",\"#8B0000\",'teal',\n",
    "                 \"#aada30\",\"#e37799\",\"#17becf\",\"#7f7f7f\",\"#cc0099\",\"#0B6623\"]\n",
    "    fig, ax = plt.subplots(figsize=(6,6))\n",
    "    ax.pie(data, autopct='%1.1f%%', \n",
    "           colors=my_colors, \n",
    "           labels=labels, \n",
    "           pctdistance=0.9, labeldistance=1.05, \n",
    "           startangle=90, counterclock=False, \n",
    "           textprops={'fontsize':9})\n",
    "    ax.axis('equal')\n",
    "    ax.set_title(save_fig_name, weight=\"bold\")\n",
    "    fig.savefig('./figs/pie_%s.png' \n",
    "                % save_fig_name.lower().replace(' ','_'))\n",
    "    plt.show()"
   ]
  },
  {
   "cell_type": "code",
   "execution_count": 45,
   "metadata": {
    "ExecuteTime": {
     "end_time": "2019-09-26T08:36:38.573960Z",
     "start_time": "2019-09-26T08:36:38.426830Z"
    }
   },
   "outputs": [
    {
     "data": {
      "image/png": "[encoded data removed]",
      "text/plain": [
       "<Figure size 432x432 with 1 Axes>"
      ]
     },
     "metadata": {},
     "output_type": "display_data"
    }
   ],
   "source": [
    "# Organics function breakdown as pie chart\n",
    "plot_piechart(data=Xf_source.sum(axis=0), \n",
    "              labels=source_func_names, \n",
    "              save_fig_name='Organics Functions')"
   ]
  },
  {
   "cell_type": "code",
   "execution_count": 46,
   "metadata": {
    "ExecuteTime": {
     "end_time": "2019-09-26T08:36:43.040351Z",
     "start_time": "2019-09-26T08:36:42.946606Z"
    }
   },
   "outputs": [
    {
     "data": {
      "image/png": "[encoded data removed]",
      "text/plain": [
       "<Figure size 432x432 with 1 Axes>"
      ]
     },
     "metadata": {},
     "output_type": "display_data"
    }
   ],
   "source": [
    "# Organics PUC breakdown as pie chart\n",
    "plot_piechart(data=Xp_source.values[:,0:7].sum(axis=0), \n",
    "              labels=source_PUC_names[0:7], \n",
    "              save_fig_name='Organics General Product Categories')"
   ]
  },
  {
   "cell_type": "code",
   "execution_count": 47,
   "metadata": {
    "ExecuteTime": {
     "end_time": "2019-09-26T08:36:45.970371Z",
     "start_time": "2019-09-26T08:36:45.826299Z"
    }
   },
   "outputs": [
    {
     "data": {
      "image/png": "[encoded data removed]",
      "text/plain": [
       "<Figure size 432x432 with 1 Axes>"
      ]
     },
     "metadata": {},
     "output_type": "display_data"
    }
   ],
   "source": [
    "# Organics PUC breakdown as pie chart\n",
    "plot_piechart(data=Xp_source.values[:,7:].sum(axis=0), \n",
    "              labels=source_PUC_names[7:], \n",
    "              save_fig_name='Organics Product Group Categories')"
   ]
  },
  {
   "cell_type": "code",
   "execution_count": 48,
   "metadata": {
    "ExecuteTime": {
     "end_time": "2019-09-26T08:36:50.923655Z",
     "start_time": "2019-09-26T08:36:50.849988Z"
    }
   },
   "outputs": [
    {
     "data": {
      "image/png": "[encoded data removed]",
      "text/plain": [
       "<Figure size 432x432 with 1 Axes>"
      ]
     },
     "metadata": {},
     "output_type": "display_data"
    }
   ],
   "source": [
    "# Organics spray products as pie chart\n",
    "labels = ['spray','other']\n",
    "values = [(np.count_nonzero(X_source['refined_spray'])), \n",
    "          (len(X_source['refined_spray']) \\\n",
    "           - np.count_nonzero(X_source['refined_spray']))]\n",
    "plot_piechart(data=values, \n",
    "              labels=labels, \n",
    "              save_fig_name='Organics Spray Products')"
   ]
  },
  {
   "cell_type": "code",
   "execution_count": 49,
   "metadata": {
    "ExecuteTime": {
     "end_time": "2019-09-26T08:36:56.311557Z",
     "start_time": "2019-09-26T08:36:56.242418Z"
    }
   },
   "outputs": [
    {
     "data": {
      "image/png": "[encoded data removed]",
      "text/plain": [
       "<Figure size 432x432 with 1 Axes>"
      ]
     },
     "metadata": {},
     "output_type": "display_data"
    }
   ],
   "source": [
    "# Organics product matrices as pie chart\n",
    "labels = ['formulation','article']\n",
    "values = [(np.count_nonzero(X_source['matrix_F'])), \n",
    "          (len(X_source['matrix_F']) - np.count_nonzero(X_source['matrix_F']))]\n",
    "plot_piechart(data=values, \n",
    "              labels=labels, \n",
    "              save_fig_name='Organics Product Matrix')"
   ]
  },
  {
   "cell_type": "markdown",
   "metadata": {},
   "source": [
    "## PCA"
   ]
  },
  {
   "cell_type": "markdown",
   "metadata": {},
   "source": [
    "Fit PCA to ENM data, then apply to organics."
   ]
  },
  {
   "cell_type": "code",
   "execution_count": 51,
   "metadata": {
    "ExecuteTime": {
     "end_time": "2019-09-26T08:37:50.527746Z",
     "start_time": "2019-09-26T08:37:50.157073Z"
    }
   },
   "outputs": [],
   "source": [
    "# Scale the data first (i.e., chemical properties) from 0 to 1\n",
    "from sklearn.preprocessing import MinMaxScaler\n",
    "scaler = MinMaxScaler()\n",
    "scaler.fit(X_enm)\n",
    "X_enm_scaled = scaler.transform(X_enm)\n",
    "X_source_scaled = scaler.transform(X_source)\n",
    "\n",
    "# Transform/apply PCA\n",
    "from sklearn import decomposition \n",
    "pca = decomposition.PCA(n_components=11)\n",
    "pca.fit(X_enm_scaled)\n",
    "dim_red_source = pd.DataFrame(pca.transform(X_source_scaled))\n",
    "\n",
    "# Export PCA dataframe\n",
    "dim_red_source.to_csv(\"./data/organics-PCA-feats.csv\", sep='\\t', na_rep='', \n",
    "                      header=True, index=True, index_label=None, mode='w')"
   ]
  },
  {
   "cell_type": "markdown",
   "metadata": {},
   "source": [
    "## Hierarchical Agglomerative Clustering (HAC)"
   ]
  },
  {
   "cell_type": "code",
   "execution_count": 53,
   "metadata": {
    "ExecuteTime": {
     "end_time": "2019-09-26T08:45:57.857732Z",
     "start_time": "2019-09-26T08:45:57.630480Z"
    }
   },
   "outputs": [],
   "source": [
    "# Apply feature agglomeration based on ENM model\n",
    "from sklearn.cluster import FeatureAgglomeration\n",
    "\n",
    "# PUC features only\n",
    "# Fit feature agglomeration to ENM (target) data\n",
    "agg = FeatureAgglomeration(n_clusters=13, affinity=\"cosine\", linkage=\"average\")\n",
    "agg.fit(Xf_enm+0.0001)\n",
    "\n",
    "# Transform source data\n",
    "Xf_source_red = pd.DataFrame(agg.transform(Xf_source))\n",
    "cols_Xf_red = [\n",
    "    'agg_brightener_viscocity_mod', \n",
    "    'agg_filler_humectant', \n",
    "    'flavouring_nutrient', \n",
    "    'agg_absorbent_opacifier', \n",
    "    'uv_stabilizer', \n",
    "    'chemical_reaction_regulator', \n",
    "    'antioxidant', \n",
    "    'colorant', \n",
    "    'deodorizer', \n",
    "    'anti_adhesive_cohesive', \n",
    "    'hardener', \n",
    "    'antiredeposition_agent', \n",
    "    'biocide'\n",
    "    ]\n",
    "Xf_source_red.columns = cols_Xf_red\n",
    "cols_Xf_red.sort()\n",
    "Xf_source_red = Xf_source_red[cols_Xf_red]\n",
    "Xf_source_red.index = Xc_source.index\n",
    "\n",
    "# PUC features only\n",
    "# Fit feature agglomeration to ENM (target) data\n",
    "agg = FeatureAgglomeration(n_clusters=16, affinity=\"cosine\", linkage=\"average\")\n",
    "agg.fit(Xp_enm+0.0001)\n",
    "\n",
    "# Transform source data\n",
    "Xp_source_red = pd.DataFrame(agg.transform(Xp_source))\n",
    "cols_Xp_red = [\n",
    "    'agg_PC_sunscreen', \n",
    "    'agg_HM_paintstain', \n",
    "    'agg_PE_fungicide', \n",
    "    'agg_CP_generalhouseholdcleaning', \n",
    "    'agg_VE_enginemaintenance', \n",
    "    'agg_AC_fabrictreatmentanddye', \n",
    "    'group_surfacesealers', \n",
    "    'group_generalmoisturizing', \n",
    "    'group_footcare', \n",
    "    'group_deodorant', \n",
    "    'group_dentalcare', \n",
    "    'group_childspecific', \n",
    "    'group_makeupandrelated', \n",
    "    'gen_EL', \n",
    "    'group_bodyhygiene', \n",
    "    'group_facialcleansingandmoisturizing'\n",
    "    ]\n",
    "Xp_source_red.columns = cols_Xp_red\n",
    "cols_Xp_red.sort()\n",
    "Xp_source_red = Xp_source_red[cols_Xp_red]\n",
    "Xp_source_red.index = Xc_source.index"
   ]
  },
  {
   "cell_type": "code",
   "execution_count": 54,
   "metadata": {
    "ExecuteTime": {
     "end_time": "2019-09-26T08:46:01.993458Z",
     "start_time": "2019-09-26T08:46:01.989001Z"
    }
   },
   "outputs": [],
   "source": [
    "# Drop boiling point as per ENM data\n",
    "Xc_source = Xc_source.drop(['propBP'], axis=1)"
   ]
  },
  {
   "cell_type": "code",
   "execution_count": 55,
   "metadata": {
    "ExecuteTime": {
     "end_time": "2019-09-26T08:46:29.800804Z",
     "start_time": "2019-09-26T08:46:29.768383Z"
    }
   },
   "outputs": [
    {
     "data": {
      "text/html": [
       "<div>\n",
       "<style scoped>\n",
       "    .dataframe tbody tr th:only-of-type {\n",
       "        vertical-align: middle;\n",
       "    }\n",
       "\n",
       "    .dataframe tbody tr th {\n",
       "        vertical-align: top;\n",
       "    }\n",
       "\n",
       "    .dataframe thead th {\n",
       "        text-align: right;\n",
       "    }\n",
       "</style>\n",
       "<table border=\"1\" class=\"dataframe\">\n",
       "  <thead>\n",
       "    <tr style=\"text-align: right;\">\n",
       "      <th></th>\n",
       "      <th>propMW</th>\n",
       "      <th>propMP</th>\n",
       "      <th>propLogDensity</th>\n",
       "      <th>agg_absorbent_opacifier</th>\n",
       "      <th>agg_brightener_viscocity_mod</th>\n",
       "      <th>agg_filler_humectant</th>\n",
       "      <th>anti_adhesive_cohesive</th>\n",
       "      <th>antioxidant</th>\n",
       "      <th>antiredeposition_agent</th>\n",
       "      <th>biocide</th>\n",
       "      <th>...</th>\n",
       "      <th>group_dentalcare</th>\n",
       "      <th>group_deodorant</th>\n",
       "      <th>group_facialcleansingandmoisturizing</th>\n",
       "      <th>group_footcare</th>\n",
       "      <th>group_generalmoisturizing</th>\n",
       "      <th>group_makeupandrelated</th>\n",
       "      <th>group_surfacesealers</th>\n",
       "      <th>refined_spray</th>\n",
       "      <th>matrix_F</th>\n",
       "      <th>WF_measured</th>\n",
       "    </tr>\n",
       "  </thead>\n",
       "  <tbody>\n",
       "    <tr>\n",
       "      <th>29361</th>\n",
       "      <td>152.149</td>\n",
       "      <td>84.03215</td>\n",
       "      <td>0.078457</td>\n",
       "      <td>0.0</td>\n",
       "      <td>0.0</td>\n",
       "      <td>0.0</td>\n",
       "      <td>0.0</td>\n",
       "      <td>0.0</td>\n",
       "      <td>0.0</td>\n",
       "      <td>0.0</td>\n",
       "      <td>...</td>\n",
       "      <td>0.0</td>\n",
       "      <td>0.0</td>\n",
       "      <td>0.0</td>\n",
       "      <td>0.0</td>\n",
       "      <td>0.0</td>\n",
       "      <td>1.0</td>\n",
       "      <td>0.0</td>\n",
       "      <td>0.0</td>\n",
       "      <td>1.0</td>\n",
       "      <td>0.0</td>\n",
       "    </tr>\n",
       "    <tr>\n",
       "      <th>29362</th>\n",
       "      <td>152.149</td>\n",
       "      <td>84.03215</td>\n",
       "      <td>0.078457</td>\n",
       "      <td>0.0</td>\n",
       "      <td>0.0</td>\n",
       "      <td>0.0</td>\n",
       "      <td>0.0</td>\n",
       "      <td>0.0</td>\n",
       "      <td>0.0</td>\n",
       "      <td>0.0</td>\n",
       "      <td>...</td>\n",
       "      <td>0.0</td>\n",
       "      <td>0.0</td>\n",
       "      <td>0.0</td>\n",
       "      <td>0.0</td>\n",
       "      <td>0.0</td>\n",
       "      <td>1.0</td>\n",
       "      <td>0.0</td>\n",
       "      <td>0.0</td>\n",
       "      <td>1.0</td>\n",
       "      <td>0.0</td>\n",
       "    </tr>\n",
       "    <tr>\n",
       "      <th>29363</th>\n",
       "      <td>152.149</td>\n",
       "      <td>84.03215</td>\n",
       "      <td>0.078457</td>\n",
       "      <td>0.0</td>\n",
       "      <td>0.0</td>\n",
       "      <td>0.0</td>\n",
       "      <td>0.0</td>\n",
       "      <td>0.0</td>\n",
       "      <td>0.0</td>\n",
       "      <td>0.0</td>\n",
       "      <td>...</td>\n",
       "      <td>0.0</td>\n",
       "      <td>0.0</td>\n",
       "      <td>0.0</td>\n",
       "      <td>0.0</td>\n",
       "      <td>0.0</td>\n",
       "      <td>0.0</td>\n",
       "      <td>0.0</td>\n",
       "      <td>0.0</td>\n",
       "      <td>1.0</td>\n",
       "      <td>0.0</td>\n",
       "    </tr>\n",
       "    <tr>\n",
       "      <th>29364</th>\n",
       "      <td>152.149</td>\n",
       "      <td>84.03215</td>\n",
       "      <td>0.078457</td>\n",
       "      <td>0.0</td>\n",
       "      <td>0.0</td>\n",
       "      <td>0.0</td>\n",
       "      <td>0.0</td>\n",
       "      <td>0.0</td>\n",
       "      <td>0.0</td>\n",
       "      <td>0.0</td>\n",
       "      <td>...</td>\n",
       "      <td>0.0</td>\n",
       "      <td>0.0</td>\n",
       "      <td>0.0</td>\n",
       "      <td>0.0</td>\n",
       "      <td>1.0</td>\n",
       "      <td>0.0</td>\n",
       "      <td>0.0</td>\n",
       "      <td>0.0</td>\n",
       "      <td>1.0</td>\n",
       "      <td>0.0</td>\n",
       "    </tr>\n",
       "    <tr>\n",
       "      <th>29365</th>\n",
       "      <td>152.149</td>\n",
       "      <td>84.03215</td>\n",
       "      <td>0.078457</td>\n",
       "      <td>0.0</td>\n",
       "      <td>0.0</td>\n",
       "      <td>0.0</td>\n",
       "      <td>0.0</td>\n",
       "      <td>0.0</td>\n",
       "      <td>0.0</td>\n",
       "      <td>0.0</td>\n",
       "      <td>...</td>\n",
       "      <td>0.0</td>\n",
       "      <td>0.0</td>\n",
       "      <td>0.0</td>\n",
       "      <td>0.0</td>\n",
       "      <td>1.0</td>\n",
       "      <td>0.0</td>\n",
       "      <td>0.0</td>\n",
       "      <td>0.0</td>\n",
       "      <td>1.0</td>\n",
       "      <td>0.0</td>\n",
       "    </tr>\n",
       "    <tr>\n",
       "      <th>29366</th>\n",
       "      <td>152.149</td>\n",
       "      <td>84.03215</td>\n",
       "      <td>0.078457</td>\n",
       "      <td>0.0</td>\n",
       "      <td>0.0</td>\n",
       "      <td>0.0</td>\n",
       "      <td>0.0</td>\n",
       "      <td>0.0</td>\n",
       "      <td>0.0</td>\n",
       "      <td>0.0</td>\n",
       "      <td>...</td>\n",
       "      <td>0.0</td>\n",
       "      <td>0.0</td>\n",
       "      <td>0.0</td>\n",
       "      <td>0.0</td>\n",
       "      <td>0.0</td>\n",
       "      <td>1.0</td>\n",
       "      <td>0.0</td>\n",
       "      <td>0.0</td>\n",
       "      <td>1.0</td>\n",
       "      <td>0.0</td>\n",
       "    </tr>\n",
       "    <tr>\n",
       "      <th>29367</th>\n",
       "      <td>152.149</td>\n",
       "      <td>84.03215</td>\n",
       "      <td>0.078457</td>\n",
       "      <td>0.0</td>\n",
       "      <td>0.0</td>\n",
       "      <td>0.0</td>\n",
       "      <td>0.0</td>\n",
       "      <td>0.0</td>\n",
       "      <td>0.0</td>\n",
       "      <td>0.0</td>\n",
       "      <td>...</td>\n",
       "      <td>0.0</td>\n",
       "      <td>0.0</td>\n",
       "      <td>0.0</td>\n",
       "      <td>0.0</td>\n",
       "      <td>1.0</td>\n",
       "      <td>0.0</td>\n",
       "      <td>0.0</td>\n",
       "      <td>0.0</td>\n",
       "      <td>1.0</td>\n",
       "      <td>0.0</td>\n",
       "    </tr>\n",
       "    <tr>\n",
       "      <th>29368</th>\n",
       "      <td>152.149</td>\n",
       "      <td>84.03215</td>\n",
       "      <td>0.078457</td>\n",
       "      <td>0.0</td>\n",
       "      <td>0.0</td>\n",
       "      <td>0.0</td>\n",
       "      <td>0.0</td>\n",
       "      <td>0.0</td>\n",
       "      <td>0.0</td>\n",
       "      <td>0.0</td>\n",
       "      <td>...</td>\n",
       "      <td>0.0</td>\n",
       "      <td>0.0</td>\n",
       "      <td>0.0</td>\n",
       "      <td>0.0</td>\n",
       "      <td>0.0</td>\n",
       "      <td>1.0</td>\n",
       "      <td>0.0</td>\n",
       "      <td>0.0</td>\n",
       "      <td>1.0</td>\n",
       "      <td>0.0</td>\n",
       "    </tr>\n",
       "    <tr>\n",
       "      <th>29369</th>\n",
       "      <td>135.210</td>\n",
       "      <td>-31.78080</td>\n",
       "      <td>-0.031517</td>\n",
       "      <td>0.0</td>\n",
       "      <td>0.0</td>\n",
       "      <td>0.0</td>\n",
       "      <td>0.0</td>\n",
       "      <td>0.0</td>\n",
       "      <td>0.0</td>\n",
       "      <td>0.0</td>\n",
       "      <td>...</td>\n",
       "      <td>0.0</td>\n",
       "      <td>0.0</td>\n",
       "      <td>0.0</td>\n",
       "      <td>0.0</td>\n",
       "      <td>0.0</td>\n",
       "      <td>0.0</td>\n",
       "      <td>0.0</td>\n",
       "      <td>0.0</td>\n",
       "      <td>1.0</td>\n",
       "      <td>0.0</td>\n",
       "    </tr>\n",
       "    <tr>\n",
       "      <th>29370</th>\n",
       "      <td>135.210</td>\n",
       "      <td>-31.78080</td>\n",
       "      <td>-0.031517</td>\n",
       "      <td>0.0</td>\n",
       "      <td>0.0</td>\n",
       "      <td>0.0</td>\n",
       "      <td>0.0</td>\n",
       "      <td>0.0</td>\n",
       "      <td>0.0</td>\n",
       "      <td>0.0</td>\n",
       "      <td>...</td>\n",
       "      <td>0.0</td>\n",
       "      <td>0.0</td>\n",
       "      <td>0.0</td>\n",
       "      <td>0.0</td>\n",
       "      <td>0.0</td>\n",
       "      <td>0.0</td>\n",
       "      <td>0.0</td>\n",
       "      <td>0.0</td>\n",
       "      <td>1.0</td>\n",
       "      <td>0.0</td>\n",
       "    </tr>\n",
       "  </tbody>\n",
       "</table>\n",
       "<p>10 rows × 35 columns</p>\n",
       "</div>"
      ],
      "text/plain": [
       "        propMW    propMP  propLogDensity  agg_absorbent_opacifier  \\\n",
       "29361  152.149  84.03215        0.078457                      0.0   \n",
       "29362  152.149  84.03215        0.078457                      0.0   \n",
       "29363  152.149  84.03215        0.078457                      0.0   \n",
       "29364  152.149  84.03215        0.078457                      0.0   \n",
       "29365  152.149  84.03215        0.078457                      0.0   \n",
       "29366  152.149  84.03215        0.078457                      0.0   \n",
       "29367  152.149  84.03215        0.078457                      0.0   \n",
       "29368  152.149  84.03215        0.078457                      0.0   \n",
       "29369  135.210 -31.78080       -0.031517                      0.0   \n",
       "29370  135.210 -31.78080       -0.031517                      0.0   \n",
       "\n",
       "       agg_brightener_viscocity_mod  agg_filler_humectant  \\\n",
       "29361                           0.0                   0.0   \n",
       "29362                           0.0                   0.0   \n",
       "29363                           0.0                   0.0   \n",
       "29364                           0.0                   0.0   \n",
       "29365                           0.0                   0.0   \n",
       "29366                           0.0                   0.0   \n",
       "29367                           0.0                   0.0   \n",
       "29368                           0.0                   0.0   \n",
       "29369                           0.0                   0.0   \n",
       "29370                           0.0                   0.0   \n",
       "\n",
       "       anti_adhesive_cohesive  antioxidant  antiredeposition_agent  biocide  \\\n",
       "29361                     0.0          0.0                     0.0      0.0   \n",
       "29362                     0.0          0.0                     0.0      0.0   \n",
       "29363                     0.0          0.0                     0.0      0.0   \n",
       "29364                     0.0          0.0                     0.0      0.0   \n",
       "29365                     0.0          0.0                     0.0      0.0   \n",
       "29366                     0.0          0.0                     0.0      0.0   \n",
       "29367                     0.0          0.0                     0.0      0.0   \n",
       "29368                     0.0          0.0                     0.0      0.0   \n",
       "29369                     0.0          0.0                     0.0      0.0   \n",
       "29370                     0.0          0.0                     0.0      0.0   \n",
       "\n",
       "       ...  group_dentalcare  group_deodorant  \\\n",
       "29361  ...               0.0              0.0   \n",
       "29362  ...               0.0              0.0   \n",
       "29363  ...               0.0              0.0   \n",
       "29364  ...               0.0              0.0   \n",
       "29365  ...               0.0              0.0   \n",
       "29366  ...               0.0              0.0   \n",
       "29367  ...               0.0              0.0   \n",
       "29368  ...               0.0              0.0   \n",
       "29369  ...               0.0              0.0   \n",
       "29370  ...               0.0              0.0   \n",
       "\n",
       "       group_facialcleansingandmoisturizing  group_footcare  \\\n",
       "29361                                   0.0             0.0   \n",
       "29362                                   0.0             0.0   \n",
       "29363                                   0.0             0.0   \n",
       "29364                                   0.0             0.0   \n",
       "29365                                   0.0             0.0   \n",
       "29366                                   0.0             0.0   \n",
       "29367                                   0.0             0.0   \n",
       "29368                                   0.0             0.0   \n",
       "29369                                   0.0             0.0   \n",
       "29370                                   0.0             0.0   \n",
       "\n",
       "       group_generalmoisturizing  group_makeupandrelated  \\\n",
       "29361                        0.0                     1.0   \n",
       "29362                        0.0                     1.0   \n",
       "29363                        0.0                     0.0   \n",
       "29364                        1.0                     0.0   \n",
       "29365                        1.0                     0.0   \n",
       "29366                        0.0                     1.0   \n",
       "29367                        1.0                     0.0   \n",
       "29368                        0.0                     1.0   \n",
       "29369                        0.0                     0.0   \n",
       "29370                        0.0                     0.0   \n",
       "\n",
       "       group_surfacesealers  refined_spray  matrix_F  WF_measured  \n",
       "29361                   0.0            0.0       1.0          0.0  \n",
       "29362                   0.0            0.0       1.0          0.0  \n",
       "29363                   0.0            0.0       1.0          0.0  \n",
       "29364                   0.0            0.0       1.0          0.0  \n",
       "29365                   0.0            0.0       1.0          0.0  \n",
       "29366                   0.0            0.0       1.0          0.0  \n",
       "29367                   0.0            0.0       1.0          0.0  \n",
       "29368                   0.0            0.0       1.0          0.0  \n",
       "29369                   0.0            0.0       1.0          0.0  \n",
       "29370                   0.0            0.0       1.0          0.0  \n",
       "\n",
       "[10 rows x 35 columns]"
      ]
     },
     "execution_count": 55,
     "metadata": {},
     "output_type": "execute_result"
    }
   ],
   "source": [
    "# Concatenate all clustered features into new dataframe\n",
    "XX_source = pd.concat([Xc_source, Xf_source_red, Xp_source_red, Xm_source], \n",
    "                      axis=1)\n",
    "XX_source.tail(10)"
   ]
  },
  {
   "cell_type": "code",
   "execution_count": 60,
   "metadata": {
    "ExecuteTime": {
     "end_time": "2019-09-26T08:48:36.151982Z",
     "start_time": "2019-09-26T08:48:35.761473Z"
    }
   },
   "outputs": [],
   "source": [
    "# Export unscaled organics dataframe\n",
    "XX_source.to_csv(\"./data/organics-preprocessed-feats.csv\", \n",
    "                 sep='\\t', na_rep='', header=True, \n",
    "                 index=True, index_label=None, mode='w')"
   ]
  },
  {
   "cell_type": "code",
   "execution_count": 61,
   "metadata": {
    "ExecuteTime": {
     "end_time": "2019-09-26T08:48:38.589319Z",
     "start_time": "2019-09-26T08:48:38.545507Z"
    }
   },
   "outputs": [],
   "source": [
    "# Export organics WF labels\n",
    "y_source.to_csv(\"./data/organics-preprocessed-WF.csv\", sep='\\t', na_rep='', \n",
    "                 header=True, index=True, index_label=None, mode='w')"
   ]
  }
 ],
 "metadata": {
  "kernelspec": {
   "display_name": "Python 3",
   "language": "python",
   "name": "python3"
  },
  "language_info": {
   "codemirror_mode": {
    "name": "ipython",
    "version": 3
   },
   "file_extension": ".py",
   "mimetype": "text/x-python",
   "name": "python",
   "nbconvert_exporter": "python",
   "pygments_lexer": "ipython3",
   "version": "3.7.3"
  },
  "toc": {
   "base_numbering": 1,
   "nav_menu": {},
   "number_sections": true,
   "sideBar": true,
   "skip_h1_title": false,
   "title_cell": "Table of Contents",
   "title_sidebar": "Contents",
   "toc_cell": true,
   "toc_position": {
    "height": "calc(100% - 180px)",
    "left": "10px",
    "top": "150px",
    "width": "165px"
   },
   "toc_section_display": true,
   "toc_window_display": true
  }
 },
 "nbformat": 4,
 "nbformat_minor": 2
}
