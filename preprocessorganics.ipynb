{
 "cells": [
  {
   "cell_type": "markdown",
   "metadata": {
    "toc": true
   },
   "source": [
    "<h1>Table of Contents<span class=\"tocSkip\"></span></h1>\n",
    "<div class=\"toc\"><ul class=\"toc-item\"><li><span><a href=\"#Code-setup\" data-toc-modified-id=\"Code-setup-1\"><span class=\"toc-item-num\">1&nbsp;&nbsp;</span>Code setup</a></span></li><li><span><a href=\"#Data\" data-toc-modified-id=\"Data-2\"><span class=\"toc-item-num\">2&nbsp;&nbsp;</span>Data</a></span><ul class=\"toc-item\"><li><span><a href=\"#Read-items-from-target-model\" data-toc-modified-id=\"Read-items-from-target-model-2.1\"><span class=\"toc-item-num\">2.1&nbsp;&nbsp;</span>Read items from target model</a></span></li><li><span><a href=\"#Read-organics-data\" data-toc-modified-id=\"Read-organics-data-2.2\"><span class=\"toc-item-num\">2.2&nbsp;&nbsp;</span>Read organics data</a></span></li><li><span><a href=\"#Imputation-for-density\" data-toc-modified-id=\"Imputation-for-density-2.3\"><span class=\"toc-item-num\">2.3&nbsp;&nbsp;</span>Imputation for density</a></span></li><li><span><a href=\"#Organics-dataframes\" data-toc-modified-id=\"Organics-dataframes-2.4\"><span class=\"toc-item-num\">2.4&nbsp;&nbsp;</span>Organics dataframes</a></span></li><li><span><a href=\"#Organics-WF-bins\" data-toc-modified-id=\"Organics-WF-bins-2.5\"><span class=\"toc-item-num\">2.5&nbsp;&nbsp;</span>Organics WF bins</a></span></li><li><span><a href=\"#Smaller-data-frame\" data-toc-modified-id=\"Smaller-data-frame-2.6\"><span class=\"toc-item-num\">2.6&nbsp;&nbsp;</span>Smaller data frame</a></span></li></ul></li><li><span><a href=\"#Pre-processing\" data-toc-modified-id=\"Pre-processing-3\"><span class=\"toc-item-num\">3&nbsp;&nbsp;</span>Pre-processing</a></span><ul class=\"toc-item\"><li><span><a href=\"#Data-distributions\" data-toc-modified-id=\"Data-distributions-3.1\"><span class=\"toc-item-num\">3.1&nbsp;&nbsp;</span>Data distributions</a></span></li><li><span><a href=\"#Preliminary-performance-check\" data-toc-modified-id=\"Preliminary-performance-check-3.2\"><span class=\"toc-item-num\">3.2&nbsp;&nbsp;</span>Preliminary performance check</a></span></li><li><span><a href=\"#PCA\" data-toc-modified-id=\"PCA-3.3\"><span class=\"toc-item-num\">3.3&nbsp;&nbsp;</span>PCA</a></span></li><li><span><a href=\"#Hierarchical-Agglomerative-Clustering-(HAC)\" data-toc-modified-id=\"Hierarchical-Agglomerative-Clustering-(HAC)-3.4\"><span class=\"toc-item-num\">3.4&nbsp;&nbsp;</span>Hierarchical Agglomerative Clustering (HAC)</a></span><ul class=\"toc-item\"><li><span><a href=\"#Dendrograms-and-elbow-graph\" data-toc-modified-id=\"Dendrograms-and-elbow-graph-3.4.1\"><span class=\"toc-item-num\">3.4.1&nbsp;&nbsp;</span>Dendrograms and elbow graph</a></span></li><li><span><a href=\"#Helper-class-for-selecting-best-ENM-estimator\" data-toc-modified-id=\"Helper-class-for-selecting-best-ENM-estimator-3.4.2\"><span class=\"toc-item-num\">3.4.2&nbsp;&nbsp;</span>Helper class for selecting best ENM estimator</a></span></li><li><span><a href=\"#Pipeline/GridSearch-to-select-n_clusters\" data-toc-modified-id=\"Pipeline/GridSearch-to-select-n_clusters-3.4.3\"><span class=\"toc-item-num\">3.4.3&nbsp;&nbsp;</span>Pipeline/GridSearch to select n_clusters</a></span></li><li><span><a href=\"#Apply-feature-agglomeration-using-optimized-n_clusters\" data-toc-modified-id=\"Apply-feature-agglomeration-using-optimized-n_clusters-3.4.4\"><span class=\"toc-item-num\">3.4.4&nbsp;&nbsp;</span>Apply feature agglomeration using optimized n_clusters</a></span></li><li><span><a href=\"#Concatenate-final-dataframe\" data-toc-modified-id=\"Concatenate-final-dataframe-3.4.5\"><span class=\"toc-item-num\">3.4.5&nbsp;&nbsp;</span>Concatenate final dataframe</a></span></li></ul></li></ul></li><li><span><a href=\"#Core-models\" data-toc-modified-id=\"Core-models-4\"><span class=\"toc-item-num\">4&nbsp;&nbsp;</span>Core models</a></span><ul class=\"toc-item\"><li><span><a href=\"#Compare-feature-predictivity\" data-toc-modified-id=\"Compare-feature-predictivity-4.1\"><span class=\"toc-item-num\">4.1&nbsp;&nbsp;</span>Compare feature predictivity</a></span></li><li><span><a href=\"#PCA,-WF-Bins\" data-toc-modified-id=\"PCA,-WF-Bins-4.2\"><span class=\"toc-item-num\">4.2&nbsp;&nbsp;</span>PCA, WF Bins</a></span></li><li><span><a href=\"#NEW-ENM-Model-(Clusters)\" data-toc-modified-id=\"NEW-ENM-Model-(Clusters)-4.3\"><span class=\"toc-item-num\">4.3&nbsp;&nbsp;</span>NEW ENM Model (Clusters)</a></span></li><li><span><a href=\"#NEW-ENM-Model-(PCA)\" data-toc-modified-id=\"NEW-ENM-Model-(PCA)-4.4\"><span class=\"toc-item-num\">4.4&nbsp;&nbsp;</span>NEW ENM Model (PCA)</a></span></li></ul></li></ul></div>"
   ]
  },
  {
   "cell_type": "markdown",
   "metadata": {},
   "source": [
    "# Code setup"
   ]
  },
  {
   "cell_type": "code",
   "execution_count": 8,
   "metadata": {
    "ExecuteTime": {
     "end_time": "2019-08-26T06:35:18.616299Z",
     "start_time": "2019-08-26T06:35:18.608563Z"
    }
   },
   "outputs": [],
   "source": [
    "# To support both python 2 and python 3\n",
    "from __future__ import division, print_function, unicode_literals\n",
    "\n",
    "# To suppress warning output\n",
    "import warnings\n",
    "warnings.filterwarnings('ignore')\n",
    "warnings.simplefilter('ignore')\n",
    "\n",
    "# Important imports\n",
    "import numpy as np\n",
    "from numpy import random\n",
    "import pandas as pd\n",
    "import os, sys"
   ]
  },
  {
   "cell_type": "code",
   "execution_count": 9,
   "metadata": {
    "ExecuteTime": {
     "end_time": "2019-08-26T06:35:19.124124Z",
     "start_time": "2019-08-26T06:35:19.108849Z"
    }
   },
   "outputs": [],
   "source": [
    "# To make this notebook's output stable across runs\n",
    "np.random.seed(24)"
   ]
  },
  {
   "cell_type": "code",
   "execution_count": 10,
   "metadata": {
    "ExecuteTime": {
     "end_time": "2019-08-26T06:35:19.496621Z",
     "start_time": "2019-08-26T06:35:19.475359Z"
    }
   },
   "outputs": [],
   "source": [
    "# To plot nice figures\n",
    "%matplotlib inline\n",
    "import matplotlib\n",
    "import matplotlib.pyplot as plt\n",
    "import matplotlib.cm as cm\n",
    "import matplotlib.image as mpimg\n",
    "plt.rcParams['axes.titlesize'] = 'x-large' #16\n",
    "plt.rcParams['axes.labelsize'] = 'x-large'\n",
    "plt.rcParams['xtick.labelsize'] = 'x-large'\n",
    "plt.rcParams['ytick.labelsize'] = 'x-large'"
   ]
  },
  {
   "cell_type": "code",
   "execution_count": 11,
   "metadata": {
    "ExecuteTime": {
     "end_time": "2019-08-26T06:35:19.953978Z",
     "start_time": "2019-08-26T06:35:19.942196Z"
    }
   },
   "outputs": [
    {
     "name": "stdout",
     "output_type": "stream",
     "text": [
      "Figure directory exists.\n"
     ]
    }
   ],
   "source": [
    "# Where to save the figures\n",
    "PROJECT_ROOT_DIR = \".\"\n",
    "PROJECT_SAVE_DIR = \"figs\"\n",
    "\n",
    "if not (os.path.isdir(PROJECT_ROOT_DIR+'/'+PROJECT_SAVE_DIR)):\n",
    "    print('Figure directory did not exist, creating now.')\n",
    "    os.mkdir(PROJECT_ROOT_DIR+'/'+PROJECT_SAVE_DIR)\n",
    "else:\n",
    "    print('Figure directory exists.')"
   ]
  },
  {
   "cell_type": "code",
   "execution_count": 12,
   "metadata": {
    "ExecuteTime": {
     "end_time": "2019-08-26T06:35:20.837382Z",
     "start_time": "2019-08-26T06:35:20.453835Z"
    }
   },
   "outputs": [
    {
     "name": "stdout",
     "output_type": "stream",
     "text": [
      "Figure directory exists.\n"
     ]
    }
   ],
   "source": [
    "# Import classes and functions used across multiple notebooks\n",
    "sys.path.append(os.getcwd())\n",
    "import importlib\n",
    "import functions as blt\n",
    "importlib.reload(blt);"
   ]
  },
  {
   "cell_type": "markdown",
   "metadata": {},
   "source": [
    "# Data"
   ]
  },
  {
   "cell_type": "markdown",
   "metadata": {},
   "source": [
    "## Read items from target model"
   ]
  },
  {
   "cell_type": "markdown",
   "metadata": {},
   "source": [
    "These will be used to help shape the organics data frame."
   ]
  },
  {
   "cell_type": "code",
   "execution_count": 13,
   "metadata": {
    "ExecuteTime": {
     "end_time": "2019-08-26T06:35:24.889609Z",
     "start_time": "2019-08-26T06:35:24.868767Z"
    }
   },
   "outputs": [
    {
     "data": {
      "text/plain": [
       "['propMW',\n",
       " 'propMP',\n",
       " 'propBP',\n",
       " 'propDensity',\n",
       " 'absorbent',\n",
       " 'anti_adhesive_cohesive',\n",
       " 'antioxidant',\n",
       " 'antiredeposition_agent',\n",
       " 'biocide',\n",
       " 'brightener',\n",
       " 'chemical_reaction_regulator',\n",
       " 'colorant',\n",
       " 'deodorizer',\n",
       " 'filler',\n",
       " 'flavouring_nutrient',\n",
       " 'hardener',\n",
       " 'humectant',\n",
       " 'opacifier',\n",
       " 'uv_stabilizer',\n",
       " 'viscosity_modifier',\n",
       " 'gen_AC',\n",
       " 'gen_CP',\n",
       " 'gen_EL',\n",
       " 'gen_HM',\n",
       " 'gen_PC',\n",
       " 'gen_PE',\n",
       " 'gen_VE',\n",
       " 'group_childspecific',\n",
       " 'group_dentalcare',\n",
       " 'group_deodorant',\n",
       " 'group_enginemaintenance',\n",
       " 'group_fabrictreatmentanddye',\n",
       " 'group_facialcleansingandmoisturizing',\n",
       " 'group_fungicide',\n",
       " 'group_generalhouseholdcleaning',\n",
       " 'group_generalmoisturizing',\n",
       " 'group_makeupandrelated',\n",
       " 'group_paintstainandrelatedproducts',\n",
       " 'group_sunscreen',\n",
       " 'group_surfacesealers',\n",
       " 'refined_spray',\n",
       " 'matrix_F',\n",
       " 'WF_measured']"
      ]
     },
     "execution_count": 13,
     "metadata": {},
     "output_type": "execute_result"
    }
   ],
   "source": [
    "# Import data frame headings from target model\n",
    "enm_cols = []\n",
    "with open('./data/column-headers.txt', 'r') as filehandle:  \n",
    "    for line in filehandle:\n",
    "        # remove linebreak which is the last character of the string\n",
    "        currentCol = line[:-1]\n",
    "        # add item to the list\n",
    "        enm_cols.append(currentCol)\n",
    "enm_cols"
   ]
  },
  {
   "cell_type": "code",
   "execution_count": 14,
   "metadata": {
    "ExecuteTime": {
     "end_time": "2019-08-26T06:35:40.586315Z",
     "start_time": "2019-08-26T06:35:40.561709Z"
    }
   },
   "outputs": [
    {
     "data": {
      "text/html": [
       "<div>\n",
       "<style scoped>\n",
       "    .dataframe tbody tr th:only-of-type {\n",
       "        vertical-align: middle;\n",
       "    }\n",
       "\n",
       "    .dataframe tbody tr th {\n",
       "        vertical-align: top;\n",
       "    }\n",
       "\n",
       "    .dataframe thead th {\n",
       "        text-align: right;\n",
       "    }\n",
       "</style>\n",
       "<table border=\"1\" class=\"dataframe\">\n",
       "  <thead>\n",
       "    <tr style=\"text-align: right;\">\n",
       "      <th></th>\n",
       "      <th>gen_AC</th>\n",
       "      <th>gen_CP</th>\n",
       "      <th>gen_EL</th>\n",
       "      <th>gen_HM</th>\n",
       "      <th>gen_PC</th>\n",
       "      <th>gen_PE</th>\n",
       "      <th>gen_VE</th>\n",
       "      <th>group_childspecific</th>\n",
       "      <th>group_dentalcare</th>\n",
       "      <th>group_deodorant</th>\n",
       "      <th>group_enginemaintenance</th>\n",
       "      <th>group_fabrictreatmentanddye</th>\n",
       "      <th>group_facialcleansingandmoisturizing</th>\n",
       "      <th>group_fungicide</th>\n",
       "      <th>group_generalhouseholdcleaning</th>\n",
       "      <th>group_generalmoisturizing</th>\n",
       "      <th>group_makeupandrelated</th>\n",
       "      <th>group_paintstainandrelatedproducts</th>\n",
       "      <th>group_sunscreen</th>\n",
       "      <th>group_surfacesealers</th>\n",
       "    </tr>\n",
       "  </thead>\n",
       "  <tbody>\n",
       "    <tr>\n",
       "      <th>0</th>\n",
       "      <td>0</td>\n",
       "      <td>0</td>\n",
       "      <td>0</td>\n",
       "      <td>1</td>\n",
       "      <td>0</td>\n",
       "      <td>0</td>\n",
       "      <td>0</td>\n",
       "      <td>0</td>\n",
       "      <td>0</td>\n",
       "      <td>0</td>\n",
       "      <td>0</td>\n",
       "      <td>0</td>\n",
       "      <td>0</td>\n",
       "      <td>0</td>\n",
       "      <td>0</td>\n",
       "      <td>0</td>\n",
       "      <td>0</td>\n",
       "      <td>1</td>\n",
       "      <td>0</td>\n",
       "      <td>0</td>\n",
       "    </tr>\n",
       "    <tr>\n",
       "      <th>1</th>\n",
       "      <td>0</td>\n",
       "      <td>0</td>\n",
       "      <td>0</td>\n",
       "      <td>0</td>\n",
       "      <td>0</td>\n",
       "      <td>0</td>\n",
       "      <td>0</td>\n",
       "      <td>0</td>\n",
       "      <td>0</td>\n",
       "      <td>0</td>\n",
       "      <td>0</td>\n",
       "      <td>0</td>\n",
       "      <td>0</td>\n",
       "      <td>0</td>\n",
       "      <td>0</td>\n",
       "      <td>0</td>\n",
       "      <td>0</td>\n",
       "      <td>0</td>\n",
       "      <td>0</td>\n",
       "      <td>0</td>\n",
       "    </tr>\n",
       "    <tr>\n",
       "      <th>2</th>\n",
       "      <td>0</td>\n",
       "      <td>0</td>\n",
       "      <td>0</td>\n",
       "      <td>0</td>\n",
       "      <td>0</td>\n",
       "      <td>0</td>\n",
       "      <td>0</td>\n",
       "      <td>0</td>\n",
       "      <td>0</td>\n",
       "      <td>0</td>\n",
       "      <td>0</td>\n",
       "      <td>0</td>\n",
       "      <td>0</td>\n",
       "      <td>0</td>\n",
       "      <td>0</td>\n",
       "      <td>0</td>\n",
       "      <td>0</td>\n",
       "      <td>0</td>\n",
       "      <td>0</td>\n",
       "      <td>0</td>\n",
       "    </tr>\n",
       "    <tr>\n",
       "      <th>3</th>\n",
       "      <td>0</td>\n",
       "      <td>0</td>\n",
       "      <td>0</td>\n",
       "      <td>0</td>\n",
       "      <td>1</td>\n",
       "      <td>0</td>\n",
       "      <td>0</td>\n",
       "      <td>0</td>\n",
       "      <td>0</td>\n",
       "      <td>0</td>\n",
       "      <td>0</td>\n",
       "      <td>0</td>\n",
       "      <td>1</td>\n",
       "      <td>0</td>\n",
       "      <td>0</td>\n",
       "      <td>0</td>\n",
       "      <td>0</td>\n",
       "      <td>0</td>\n",
       "      <td>0</td>\n",
       "      <td>0</td>\n",
       "    </tr>\n",
       "  </tbody>\n",
       "</table>\n",
       "</div>"
      ],
      "text/plain": [
       "   gen_AC  gen_CP  gen_EL  gen_HM  gen_PC  gen_PE  gen_VE  \\\n",
       "0       0       0       0       1       0       0       0   \n",
       "1       0       0       0       0       0       0       0   \n",
       "2       0       0       0       0       0       0       0   \n",
       "3       0       0       0       0       1       0       0   \n",
       "\n",
       "   group_childspecific  group_dentalcare  group_deodorant  \\\n",
       "0                    0                 0                0   \n",
       "1                    0                 0                0   \n",
       "2                    0                 0                0   \n",
       "3                    0                 0                0   \n",
       "\n",
       "   group_enginemaintenance  group_fabrictreatmentanddye  \\\n",
       "0                        0                            0   \n",
       "1                        0                            0   \n",
       "2                        0                            0   \n",
       "3                        0                            0   \n",
       "\n",
       "   group_facialcleansingandmoisturizing  group_fungicide  \\\n",
       "0                                     0                0   \n",
       "1                                     0                0   \n",
       "2                                     0                0   \n",
       "3                                     1                0   \n",
       "\n",
       "   group_generalhouseholdcleaning  group_generalmoisturizing  \\\n",
       "0                               0                          0   \n",
       "1                               0                          0   \n",
       "2                               0                          0   \n",
       "3                               0                          0   \n",
       "\n",
       "   group_makeupandrelated  group_paintstainandrelatedproducts  \\\n",
       "0                       0                                   1   \n",
       "1                       0                                   0   \n",
       "2                       0                                   0   \n",
       "3                       0                                   0   \n",
       "\n",
       "   group_sunscreen  group_surfacesealers  \n",
       "0                0                     0  \n",
       "1                0                     0  \n",
       "2                0                     0  \n",
       "3                0                     0  "
      ]
     },
     "execution_count": 14,
     "metadata": {},
     "output_type": "execute_result"
    }
   ],
   "source": [
    "# Read product category data for applying feature agglomeration later\n",
    "Xp_enm = pd.read_csv(\"./data/ENM-Xp.csv\", sep='\\t', index_col=0)\n",
    "Xp_enm.head(4)"
   ]
  },
  {
   "cell_type": "markdown",
   "metadata": {
    "ExecuteTime": {
     "end_time": "2018-07-31T20:26:39.287566Z",
     "start_time": "2018-07-31T20:26:39.283890Z"
    }
   },
   "source": [
    "## Read organics data"
   ]
  },
  {
   "cell_type": "code",
   "execution_count": 23,
   "metadata": {
    "ExecuteTime": {
     "end_time": "2019-08-26T06:44:29.113140Z",
     "start_time": "2019-08-26T06:44:29.013207Z"
    }
   },
   "outputs": [
    {
     "name": "stdout",
     "output_type": "stream",
     "text": [
      "(29373, 1)\n"
     ]
    }
   ],
   "source": [
    "# Read in organics weight fraction data\n",
    "y_source = pd.read_csv(\"./data/organics-clean.csv\", sep=',', usecols=[2])\n",
    "print(y_source.shape)"
   ]
  },
  {
   "cell_type": "code",
   "execution_count": 24,
   "metadata": {
    "ExecuteTime": {
     "end_time": "2019-08-26T06:44:29.767921Z",
     "start_time": "2019-08-26T06:44:29.456646Z"
    },
    "scrolled": true
   },
   "outputs": [],
   "source": [
    "# Read in organcis potential predictive variables\n",
    "X_source = pd.read_csv(\"./data/organics-clean.csv\", sep=',', index_col=0)\n",
    "\n",
    "# Drop unwanted columns (CASRN, WF, product type, chem-props unused in ENM df)\n",
    "X_source.drop(X_source.columns[[0,1,4,8,9,10,11,14,15,17]], \n",
    "              axis=1, inplace=True)\n",
    "\n",
    "# Rename columns\n",
    "X_source.rename(columns = {'gencatID':'gen'}, inplace = True)\n",
    "X_source.rename(columns = {'refined_product_type':'refined'}, inplace = True)\n",
    "X_source.rename(columns = {'assignedID':'matrix'}, inplace = True)"
   ]
  },
  {
   "cell_type": "code",
   "execution_count": 25,
   "metadata": {
    "ExecuteTime": {
     "end_time": "2019-08-26T06:44:29.926143Z",
     "start_time": "2019-08-26T06:44:29.885239Z"
    }
   },
   "outputs": [
    {
     "data": {
      "text/plain": [
       "array(['NOC', 'spray'], dtype=object)"
      ]
     },
     "execution_count": 25,
     "metadata": {},
     "output_type": "execute_result"
    }
   ],
   "source": [
    "# Clean up data in refined column so it's only spray vs NOC\n",
    "\n",
    "# Find/replace sprays\n",
    "X_source.loc[X_source['refined'].str.contains(\n",
    "    \"spray\", na=False) == True, 'refined'] = \"spray\"\n",
    "# Find/replace everything else with NOC\n",
    "X_source.loc[X_source.refined != \"spray\", 'refined'] = \"NOC\"\n",
    "# Check unique values for refined column\n",
    "X_source.refined.unique()"
   ]
  },
  {
   "cell_type": "code",
   "execution_count": 26,
   "metadata": {
    "ExecuteTime": {
     "end_time": "2019-08-26T06:44:30.336391Z",
     "start_time": "2019-08-26T06:44:30.293829Z"
    }
   },
   "outputs": [],
   "source": [
    "# Transform factor data (product categories) into binary columns\n",
    "X_source=pd.get_dummies(X_source, prefix=[\"gen\",\"group\",\"refined\",\"matrix\"], \n",
    "                        columns=[\"gen\",\"group\",\"refined\",\"matrix\"])\n",
    "\n",
    "# Clean up column names\n",
    "X_source.columns = X_source.columns.str.replace(' ','')\n",
    "X_source.columns = X_source.columns.str.replace('/','')\n",
    "X_source.columns = X_source.columns.str.replace('-','')"
   ]
  },
  {
   "cell_type": "code",
   "execution_count": 27,
   "metadata": {
    "ExecuteTime": {
     "end_time": "2019-08-26T06:44:30.750299Z",
     "start_time": "2019-08-26T06:44:30.742788Z"
    }
   },
   "outputs": [],
   "source": [
    "# If there are ENM features not present in organics df, add them\n",
    "\n",
    "# List differences between feature sets\n",
    "cols_add = list(set(enm_cols) - set(X_source.columns.tolist()))\n",
    "# Assign these features to organics df with default values of zero\n",
    "for col in cols_add:\n",
    "    X_source[col] = 0"
   ]
  },
  {
   "cell_type": "code",
   "execution_count": 28,
   "metadata": {
    "ExecuteTime": {
     "end_time": "2019-08-26T06:44:31.404454Z",
     "start_time": "2019-08-26T06:44:31.293872Z"
    }
   },
   "outputs": [
    {
     "name": "stdout",
     "output_type": "stream",
     "text": [
      "(16354, 44)\n"
     ]
    }
   ],
   "source": [
    "# Delete unwanted samples\n",
    "\n",
    "# Restructure organics features df to match ENM df\n",
    "X_source = X_source[enm_cols]\n",
    "# Temporarily add WF labels to df\n",
    "X_source = pd.concat([y_source, X_source], axis=1)\n",
    "# Delete rows that are missing important chemical property data\n",
    "X_source = X_source[X_source['propMP'].notnull()] # delete missing data\n",
    "# Remove outlier lacking density data\n",
    "X_source = X_source[X_source['propMP'] > -170]\n",
    "# Delete rows that don't have enough data (ones)\n",
    "X_source = X_source[X_source.iloc[:,5:].sum(axis=1) > 2]\n",
    "\n",
    "print(X_source.shape)"
   ]
  },
  {
   "cell_type": "code",
   "execution_count": 29,
   "metadata": {
    "ExecuteTime": {
     "end_time": "2019-08-26T06:44:31.949366Z",
     "start_time": "2019-08-26T06:44:31.876828Z"
    }
   },
   "outputs": [
    {
     "name": "stdout",
     "output_type": "stream",
     "text": [
      "(16354, 1)\n"
     ]
    }
   ],
   "source": [
    "# Extract wf labels (y) from new X_source\n",
    "y_source = X_source[['maximum_weight_fraction']]\n",
    "X_source.drop(X_source.columns[[0]], axis=1, inplace=True)\n",
    "print(y_source.shape)"
   ]
  },
  {
   "cell_type": "code",
   "execution_count": 30,
   "metadata": {
    "ExecuteTime": {
     "end_time": "2019-08-26T06:44:32.444662Z",
     "start_time": "2019-08-26T06:44:32.409124Z"
    }
   },
   "outputs": [
    {
     "data": {
      "text/html": [
       "<div>\n",
       "<style scoped>\n",
       "    .dataframe tbody tr th:only-of-type {\n",
       "        vertical-align: middle;\n",
       "    }\n",
       "\n",
       "    .dataframe tbody tr th {\n",
       "        vertical-align: top;\n",
       "    }\n",
       "\n",
       "    .dataframe thead th {\n",
       "        text-align: right;\n",
       "    }\n",
       "</style>\n",
       "<table border=\"1\" class=\"dataframe\">\n",
       "  <thead>\n",
       "    <tr style=\"text-align: right;\">\n",
       "      <th></th>\n",
       "      <th>propMW</th>\n",
       "      <th>propMP</th>\n",
       "      <th>propBP</th>\n",
       "      <th>propDensity</th>\n",
       "      <th>absorbent</th>\n",
       "      <th>anti_adhesive_cohesive</th>\n",
       "      <th>antioxidant</th>\n",
       "      <th>antiredeposition_agent</th>\n",
       "      <th>biocide</th>\n",
       "      <th>brightener</th>\n",
       "      <th>...</th>\n",
       "      <th>group_fungicide</th>\n",
       "      <th>group_generalhouseholdcleaning</th>\n",
       "      <th>group_generalmoisturizing</th>\n",
       "      <th>group_makeupandrelated</th>\n",
       "      <th>group_paintstainandrelatedproducts</th>\n",
       "      <th>group_sunscreen</th>\n",
       "      <th>group_surfacesealers</th>\n",
       "      <th>refined_spray</th>\n",
       "      <th>matrix_F</th>\n",
       "      <th>WF_measured</th>\n",
       "    </tr>\n",
       "  </thead>\n",
       "  <tbody>\n",
       "    <tr>\n",
       "      <th>29366</th>\n",
       "      <td>152.149</td>\n",
       "      <td>84.03215</td>\n",
       "      <td>263.941</td>\n",
       "      <td>1.198</td>\n",
       "      <td>0.0</td>\n",
       "      <td>0.0</td>\n",
       "      <td>0.0</td>\n",
       "      <td>0.0</td>\n",
       "      <td>0.0</td>\n",
       "      <td>0.0</td>\n",
       "      <td>...</td>\n",
       "      <td>0.0</td>\n",
       "      <td>0.0</td>\n",
       "      <td>0.0</td>\n",
       "      <td>1.0</td>\n",
       "      <td>0.0</td>\n",
       "      <td>0.0</td>\n",
       "      <td>0.0</td>\n",
       "      <td>0.0</td>\n",
       "      <td>1.0</td>\n",
       "      <td>0.0</td>\n",
       "    </tr>\n",
       "    <tr>\n",
       "      <th>29367</th>\n",
       "      <td>152.149</td>\n",
       "      <td>84.03215</td>\n",
       "      <td>263.941</td>\n",
       "      <td>1.198</td>\n",
       "      <td>0.0</td>\n",
       "      <td>0.0</td>\n",
       "      <td>0.0</td>\n",
       "      <td>0.0</td>\n",
       "      <td>0.0</td>\n",
       "      <td>0.0</td>\n",
       "      <td>...</td>\n",
       "      <td>0.0</td>\n",
       "      <td>0.0</td>\n",
       "      <td>1.0</td>\n",
       "      <td>0.0</td>\n",
       "      <td>0.0</td>\n",
       "      <td>0.0</td>\n",
       "      <td>0.0</td>\n",
       "      <td>0.0</td>\n",
       "      <td>1.0</td>\n",
       "      <td>0.0</td>\n",
       "    </tr>\n",
       "    <tr>\n",
       "      <th>29368</th>\n",
       "      <td>152.149</td>\n",
       "      <td>84.03215</td>\n",
       "      <td>263.941</td>\n",
       "      <td>1.198</td>\n",
       "      <td>0.0</td>\n",
       "      <td>0.0</td>\n",
       "      <td>0.0</td>\n",
       "      <td>0.0</td>\n",
       "      <td>0.0</td>\n",
       "      <td>0.0</td>\n",
       "      <td>...</td>\n",
       "      <td>0.0</td>\n",
       "      <td>0.0</td>\n",
       "      <td>0.0</td>\n",
       "      <td>1.0</td>\n",
       "      <td>0.0</td>\n",
       "      <td>0.0</td>\n",
       "      <td>0.0</td>\n",
       "      <td>0.0</td>\n",
       "      <td>1.0</td>\n",
       "      <td>0.0</td>\n",
       "    </tr>\n",
       "    <tr>\n",
       "      <th>29369</th>\n",
       "      <td>135.210</td>\n",
       "      <td>-31.78080</td>\n",
       "      <td>203.080</td>\n",
       "      <td>0.930</td>\n",
       "      <td>0.0</td>\n",
       "      <td>0.0</td>\n",
       "      <td>0.0</td>\n",
       "      <td>0.0</td>\n",
       "      <td>0.0</td>\n",
       "      <td>0.0</td>\n",
       "      <td>...</td>\n",
       "      <td>0.0</td>\n",
       "      <td>0.0</td>\n",
       "      <td>0.0</td>\n",
       "      <td>0.0</td>\n",
       "      <td>0.0</td>\n",
       "      <td>0.0</td>\n",
       "      <td>0.0</td>\n",
       "      <td>0.0</td>\n",
       "      <td>1.0</td>\n",
       "      <td>0.0</td>\n",
       "    </tr>\n",
       "    <tr>\n",
       "      <th>29370</th>\n",
       "      <td>135.210</td>\n",
       "      <td>-31.78080</td>\n",
       "      <td>203.080</td>\n",
       "      <td>0.930</td>\n",
       "      <td>0.0</td>\n",
       "      <td>0.0</td>\n",
       "      <td>0.0</td>\n",
       "      <td>0.0</td>\n",
       "      <td>0.0</td>\n",
       "      <td>0.0</td>\n",
       "      <td>...</td>\n",
       "      <td>0.0</td>\n",
       "      <td>0.0</td>\n",
       "      <td>0.0</td>\n",
       "      <td>0.0</td>\n",
       "      <td>0.0</td>\n",
       "      <td>0.0</td>\n",
       "      <td>0.0</td>\n",
       "      <td>0.0</td>\n",
       "      <td>1.0</td>\n",
       "      <td>0.0</td>\n",
       "    </tr>\n",
       "  </tbody>\n",
       "</table>\n",
       "<p>5 rows × 43 columns</p>\n",
       "</div>"
      ],
      "text/plain": [
       "        propMW    propMP   propBP  propDensity  absorbent  \\\n",
       "29366  152.149  84.03215  263.941        1.198        0.0   \n",
       "29367  152.149  84.03215  263.941        1.198        0.0   \n",
       "29368  152.149  84.03215  263.941        1.198        0.0   \n",
       "29369  135.210 -31.78080  203.080        0.930        0.0   \n",
       "29370  135.210 -31.78080  203.080        0.930        0.0   \n",
       "\n",
       "       anti_adhesive_cohesive  antioxidant  antiredeposition_agent  biocide  \\\n",
       "29366                     0.0          0.0                     0.0      0.0   \n",
       "29367                     0.0          0.0                     0.0      0.0   \n",
       "29368                     0.0          0.0                     0.0      0.0   \n",
       "29369                     0.0          0.0                     0.0      0.0   \n",
       "29370                     0.0          0.0                     0.0      0.0   \n",
       "\n",
       "       brightener  ...  group_fungicide  group_generalhouseholdcleaning  \\\n",
       "29366         0.0  ...              0.0                             0.0   \n",
       "29367         0.0  ...              0.0                             0.0   \n",
       "29368         0.0  ...              0.0                             0.0   \n",
       "29369         0.0  ...              0.0                             0.0   \n",
       "29370         0.0  ...              0.0                             0.0   \n",
       "\n",
       "       group_generalmoisturizing  group_makeupandrelated  \\\n",
       "29366                        0.0                     1.0   \n",
       "29367                        1.0                     0.0   \n",
       "29368                        0.0                     1.0   \n",
       "29369                        0.0                     0.0   \n",
       "29370                        0.0                     0.0   \n",
       "\n",
       "       group_paintstainandrelatedproducts  group_sunscreen  \\\n",
       "29366                                 0.0              0.0   \n",
       "29367                                 0.0              0.0   \n",
       "29368                                 0.0              0.0   \n",
       "29369                                 0.0              0.0   \n",
       "29370                                 0.0              0.0   \n",
       "\n",
       "       group_surfacesealers  refined_spray  matrix_F  WF_measured  \n",
       "29366                   0.0            0.0       1.0          0.0  \n",
       "29367                   0.0            0.0       1.0          0.0  \n",
       "29368                   0.0            0.0       1.0          0.0  \n",
       "29369                   0.0            0.0       1.0          0.0  \n",
       "29370                   0.0            0.0       1.0          0.0  \n",
       "\n",
       "[5 rows x 43 columns]"
      ]
     },
     "execution_count": 30,
     "metadata": {},
     "output_type": "execute_result"
    }
   ],
   "source": [
    "# Preview final main dataframe\n",
    "X_source.tail(5)"
   ]
  },
  {
   "cell_type": "markdown",
   "metadata": {},
   "source": [
    "## Imputation for density"
   ]
  },
  {
   "cell_type": "code",
   "execution_count": 31,
   "metadata": {
    "ExecuteTime": {
     "end_time": "2019-08-26T06:44:38.987616Z",
     "start_time": "2019-08-26T06:44:38.968685Z"
    }
   },
   "outputs": [],
   "source": [
    "# Log-transform density so that it's no longer skewed\n",
    "X_source['propLogDensity'] = X_source['propDensity'].apply(np.log10)"
   ]
  },
  {
   "cell_type": "code",
   "execution_count": 32,
   "metadata": {
    "ExecuteTime": {
     "end_time": "2019-08-26T06:44:41.420488Z",
     "start_time": "2019-08-26T06:44:41.403216Z"
    }
   },
   "outputs": [
    {
     "name": "stdout",
     "output_type": "stream",
     "text": [
      "(639, 44)\n"
     ]
    },
    {
     "data": {
      "text/plain": [
       "0.03907300966124495"
      ]
     },
     "execution_count": 32,
     "metadata": {},
     "output_type": "execute_result"
    }
   ],
   "source": [
    "# How much density data is missing?\n",
    "print(X_source[~X_source['propLogDensity'].notnull()].shape)\n",
    "\n",
    "# Percent of density data missing\n",
    "len(X_source[~X_source['propLogDensity'].notnull()])/len(X_source)"
   ]
  },
  {
   "cell_type": "code",
   "execution_count": 33,
   "metadata": {
    "ExecuteTime": {
     "end_time": "2019-08-26T06:44:44.508720Z",
     "start_time": "2019-08-26T06:44:44.500823Z"
    }
   },
   "outputs": [],
   "source": [
    "# Replace propDensity with propLogDensity in data frame\n",
    "cols = X_source.columns.tolist()\n",
    "cols = cols[:3] + cols[-1:] + cols[4:-1]\n",
    "X_source = X_source[cols]"
   ]
  },
  {
   "cell_type": "code",
   "execution_count": 34,
   "metadata": {
    "ExecuteTime": {
     "end_time": "2019-08-26T06:44:48.862004Z",
     "start_time": "2019-08-26T06:44:48.017439Z"
    }
   },
   "outputs": [
    {
     "data": {
      "image/png": "[encoded data removed]",
      "text/plain": [
       "<Figure size 864x864 with 2 Axes>"
      ]
     },
     "metadata": {
      "needs_background": "light"
     },
     "output_type": "display_data"
    }
   ],
   "source": [
    "# Check correlations between features to determine \n",
    "# best independent variable for imputation\n",
    "\n",
    "def correlation_matrix(df):\n",
    "    fig = plt.figure(figsize=(12,12))\n",
    "    ax = fig.add_subplot(111)\n",
    "    cmap = cm.get_cmap('coolwarm', 24)\n",
    "    cax = ax.imshow(df.corr(), cmap=cmap, vmin=-1, vmax=1)\n",
    "    plt.title('Feature Correlation')\n",
    "    labels = df.columns.tolist()\n",
    "    ax.set_xticks(range(len(df.columns)))\n",
    "    ax.set_yticks(range(len(df.columns)))\n",
    "    ax.set_xticklabels(labels,fontsize=8, rotation=90)\n",
    "    ax.set_yticklabels(labels,fontsize=8)\n",
    "    fig.colorbar(cax)\n",
    "    plt.show()\n",
    "\n",
    "correlation_matrix(X_source)"
   ]
  },
  {
   "cell_type": "markdown",
   "metadata": {},
   "source": [
    "In order to find missing values for density, imputation will be performed using linear regression. Melting point has the highest correlation with density and will therefore be used as the independent variable.\n",
    "Assuming the line of best fit for a set of points is given by:\n",
    "\n",
    "$y = a + b x$\n",
    "\n",
    "where:\n",
    "\n",
    "$b = \\Large{\\frac{\\sum x_i  y_i - n \\bar x\\bar y )} {\\sum (x_i - \\bar x)^2}} $\n",
    "\n",
    "and\n",
    "\n",
    "$a = \\bar y - b \\bar x$\n",
    "\n",
    "* To remove outliers: https://www.kdnuggets.com/2017/02/removing-outliers-standard-deviation-python.html"
   ]
  },
  {
   "cell_type": "code",
   "execution_count": 35,
   "metadata": {
    "ExecuteTime": {
     "end_time": "2019-08-26T06:45:06.971915Z",
     "start_time": "2019-08-26T06:45:06.839679Z"
    }
   },
   "outputs": [],
   "source": [
    "# Find line of best fit for imputation\n",
    "\n",
    "# MP and density arrays for continuous data\n",
    "X = np.array(X_source.loc[X_source.propLogDensity.notnull(), ['propMP']])\n",
    "Y = np.array(X_source.loc[X_source.propLogDensity.notnull(), \n",
    "                          ['propLogDensity']])\n",
    "\n",
    "# Solve for 'a' and 'b'\n",
    "def best_fit(X, Y):\n",
    "    xbar = sum(X)/len(X)\n",
    "    ybar = sum(Y)/len(Y)\n",
    "    n = len(X) # or len(Y)\n",
    "    numer = sum(xi*yi for xi,yi in zip(X, Y)) - n * xbar * ybar\n",
    "    denum = sum(xi**2 for xi in X) - n * xbar**2\n",
    "    b = numer / denum\n",
    "    a = ybar - b * xbar\n",
    "    return a, b\n",
    "\n",
    "a, b = best_fit(X, Y)\n",
    "\n",
    "# MP and density arrays for missing data\n",
    "X_null = np.array(X_source.loc[X_source.propLogDensity.isnull(), ['propMP']])\n",
    "Y_null = b * X_null + a"
   ]
  },
  {
   "cell_type": "code",
   "execution_count": 36,
   "metadata": {
    "ExecuteTime": {
     "end_time": "2019-08-26T06:45:08.712265Z",
     "start_time": "2019-08-26T06:45:08.387300Z"
    }
   },
   "outputs": [
    {
     "data": {
      "image/png": "[encoded data removed]",
      "text/plain": [
       "<Figure size 432x288 with 1 Axes>"
      ]
     },
     "metadata": {
      "needs_background": "light"
     },
     "output_type": "display_data"
    }
   ],
   "source": [
    "# Plot points and fit line\n",
    "fig = plt.figure()\n",
    "ax1 = fig.add_subplot(111)\n",
    "\n",
    "ax1.scatter(X, Y, c = 'b', label=\"original\")\n",
    "ax1.scatter(X_null, Y_null, c = 'r', marker = 'X', label=\"imputed\")\n",
    "yfit = [a + b * xi for xi in X]\n",
    "ax1.plot(X, yfit, color='black')\n",
    "\n",
    "plt.title(\"logDensity vs Melting Point\")\n",
    "plt.legend(loc='upper left')\n",
    "plt.grid()\n",
    "plt.show()"
   ]
  },
  {
   "cell_type": "code",
   "execution_count": 37,
   "metadata": {
    "ExecuteTime": {
     "end_time": "2019-08-26T06:45:15.943208Z",
     "start_time": "2019-08-26T06:45:15.597770Z"
    }
   },
   "outputs": [],
   "source": [
    "# Put imputed densities into data frame\n",
    "for idx in X_source.index:\n",
    "    if pd.isnull(X_source.loc[idx,\"propLogDensity\"]):\n",
    "        MP = X_source.loc[idx,\"propMP\"]\n",
    "        X_source.loc[idx,\"propLogDensity\"] = (b * MP + a)"
   ]
  },
  {
   "cell_type": "markdown",
   "metadata": {},
   "source": [
    "## Organics dataframes"
   ]
  },
  {
   "cell_type": "markdown",
   "metadata": {},
   "source": [
    "I split up X_source into a few separate dataframes for doing separate hierarchical clustering later on."
   ]
  },
  {
   "cell_type": "code",
   "execution_count": 38,
   "metadata": {
    "ExecuteTime": {
     "end_time": "2019-08-26T06:45:27.609849Z",
     "start_time": "2019-08-26T06:45:27.600691Z"
    },
    "scrolled": true
   },
   "outputs": [],
   "source": [
    "# Dataframe for only ENM functional use categories\n",
    "Xf_source=pd.DataFrame(X_source)\n",
    "# Drop unwanted columns\n",
    "Xf_source.drop(Xf_source.columns[0:4], axis=1, inplace=True) # drop chem props\n",
    "Xf_source.drop(Xf_source.columns[16:], axis=1, inplace=True) # drop all else\n",
    "source_func_names=list(Xf_source.columns.values)"
   ]
  },
  {
   "cell_type": "code",
   "execution_count": 43,
   "metadata": {
    "ExecuteTime": {
     "end_time": "2019-08-26T06:47:50.222244Z",
     "start_time": "2019-08-26T06:47:50.208095Z"
    }
   },
   "outputs": [],
   "source": [
    "# Dataframe for only ENM product categories\n",
    "Xp_source=pd.DataFrame(X_source)\n",
    "# Drop unwanted columns\n",
    "Xp_source.drop(Xp_source.columns[0:20], axis=1, inplace=True) \n",
    "Xp_source.drop(Xp_source.columns[-3:], axis=1, inplace=True) \n",
    "source_PUC_names=list(Xp_source.columns.values)"
   ]
  },
  {
   "cell_type": "code",
   "execution_count": 45,
   "metadata": {
    "ExecuteTime": {
     "end_time": "2019-08-26T06:48:15.108129Z",
     "start_time": "2019-08-26T06:48:15.094835Z"
    }
   },
   "outputs": [
    {
     "data": {
      "text/plain": [
       "['propMW', 'propMP', 'propBP', 'propLogDensity']"
      ]
     },
     "execution_count": 45,
     "metadata": {},
     "output_type": "execute_result"
    }
   ],
   "source": [
    "# Array for only chemical properties\n",
    "Xc_source=pd.DataFrame(X_source)\n",
    "# Drop unwanted columns\n",
    "Xc_source.drop(Xc_source.columns[4:], axis=1, inplace=True)\n",
    "list(Xc_source.columns.values)"
   ]
  },
  {
   "cell_type": "code",
   "execution_count": 46,
   "metadata": {
    "ExecuteTime": {
     "end_time": "2019-08-26T06:48:23.344946Z",
     "start_time": "2019-08-26T06:48:23.331513Z"
    }
   },
   "outputs": [
    {
     "data": {
      "text/plain": [
       "['refined_spray', 'matrix_F', 'WF_measured']"
      ]
     },
     "execution_count": 46,
     "metadata": {},
     "output_type": "execute_result"
    }
   ],
   "source": [
    "# Dataframe for only ENM product categories\n",
    "Xm_source=pd.DataFrame(X_source)\n",
    "# Drop unwanted columns\n",
    "Xm_source.drop(Xm_source.columns[:-3], axis=1, inplace=True)\n",
    "list(Xm_source.columns.values)"
   ]
  },
  {
   "cell_type": "markdown",
   "metadata": {
    "ExecuteTime": {
     "end_time": "2018-07-31T20:29:35.081047Z",
     "start_time": "2018-07-31T20:29:35.076307Z"
    }
   },
   "source": [
    "## Organics WF bins"
   ]
  },
  {
   "cell_type": "code",
   "execution_count": 47,
   "metadata": {
    "ExecuteTime": {
     "end_time": "2019-08-26T06:48:31.282075Z",
     "start_time": "2019-08-26T06:48:31.109066Z"
    }
   },
   "outputs": [
    {
     "data": {
      "image/png": "[encoded data removed]",
      "text/plain": [
       "<Figure size 432x288 with 1 Axes>"
      ]
     },
     "metadata": {
      "needs_background": "light"
     },
     "output_type": "display_data"
    }
   ],
   "source": [
    "# Log-transformed histogram of weight fraction\n",
    "plt.hist(np.log10(np.asarray(y_source)+0.00001), bins=16);"
   ]
  },
  {
   "cell_type": "code",
   "execution_count": 48,
   "metadata": {
    "ExecuteTime": {
     "end_time": "2019-08-26T06:48:32.245607Z",
     "start_time": "2019-08-26T06:48:31.996826Z"
    }
   },
   "outputs": [],
   "source": [
    "# Define function to assign weight fractions to bins per Isaacs et al. 2016\n",
    "def bins(row):\n",
    "    if row['maximum_weight_fraction'] <= 0.01:\n",
    "        val = 'bottom'\n",
    "    elif row['maximum_weight_fraction'] > 0.05:\n",
    "        val = 'top'\n",
    "    else:\n",
    "        val = 'middle'\n",
    "    return val\n",
    "bin_source_isaacs = y_source.apply(bins, axis=1)"
   ]
  },
  {
   "cell_type": "code",
   "execution_count": 49,
   "metadata": {
    "ExecuteTime": {
     "end_time": "2019-08-26T06:48:33.270960Z",
     "start_time": "2019-08-26T06:48:33.121027Z"
    }
   },
   "outputs": [
    {
     "data": {
      "image/png": "[encoded data removed]",
      "text/plain": [
       "<Figure size 432x288 with 1 Axes>"
      ]
     },
     "metadata": {
      "needs_background": "light"
     },
     "output_type": "display_data"
    }
   ],
   "source": [
    "bin_source_isaacs.value_counts()[['bottom','middle','top']].plot(kind='bar')\n",
    "plt.title('Frequency of Isaacs et al. Organic Weight Fraction Bins');"
   ]
  },
  {
   "cell_type": "code",
   "execution_count": 50,
   "metadata": {
    "ExecuteTime": {
     "end_time": "2019-08-26T06:48:38.285707Z",
     "start_time": "2019-08-26T06:48:37.906024Z"
    }
   },
   "outputs": [
    {
     "data": {
      "image/png": "[encoded data removed]",
      "text/plain": [
       "<Figure size 432x288 with 1 Axes>"
      ]
     },
     "metadata": {
      "needs_background": "light"
     },
     "output_type": "display_data"
    },
    {
     "name": "stdout",
     "output_type": "stream",
     "text": [
      "Label bin:  [0 1 2]\n",
      "Count    :  [2105 9472 4777]\n",
      "Frequency:  [0.13, 0.58, 0.29]\n"
     ]
    }
   ],
   "source": [
    "# Apply bins to organics data\n",
    "# (slightly different ranges from those used by Isaacs et al. 2016)\n",
    "bin_source = np.asarray(y_source.apply(blt.bins, axis=1))\n",
    "# View bar plot of ENM WF bins\n",
    "blt.bar_graph_bins(bin_source, data_composition='Organic (Based on ENM)')"
   ]
  },
  {
   "cell_type": "markdown",
   "metadata": {},
   "source": [
    "## Smaller data frame"
   ]
  },
  {
   "cell_type": "code",
   "execution_count": 51,
   "metadata": {
    "ExecuteTime": {
     "end_time": "2019-08-26T06:48:44.851213Z",
     "start_time": "2019-08-26T06:48:44.837470Z"
    }
   },
   "outputs": [
    {
     "name": "stdout",
     "output_type": "stream",
     "text": [
      "(11801, 43)\n"
     ]
    }
   ],
   "source": [
    "# Alternate data frame with more positive labels in each row\n",
    "X_source4 = X_source[X_source.iloc[:,5:].sum(axis=1) > 3]\n",
    "\n",
    "print(X_source4.shape)"
   ]
  },
  {
   "cell_type": "code",
   "execution_count": 52,
   "metadata": {
    "ExecuteTime": {
     "end_time": "2019-08-26T06:48:45.732181Z",
     "start_time": "2019-08-26T06:48:45.520054Z"
    }
   },
   "outputs": [
    {
     "name": "stdout",
     "output_type": "stream",
     "text": [
      "(11801,)\n"
     ]
    }
   ],
   "source": [
    "# Apply x indices to y data frame so they match\n",
    "y_source4 = y_source.iloc[y_source.index.searchsorted(X_source4.index)]\n",
    "\n",
    "# Fit the encoder and transform categories into integers\n",
    "bin_source4 = np.asarray(y_source4.apply(blt.bins, axis=1))\n",
    "\n",
    "print(bin_source4.shape)"
   ]
  },
  {
   "cell_type": "markdown",
   "metadata": {},
   "source": [
    "# Pre-processing"
   ]
  },
  {
   "cell_type": "markdown",
   "metadata": {},
   "source": [
    "## Data distributions"
   ]
  },
  {
   "cell_type": "code",
   "execution_count": 58,
   "metadata": {
    "ExecuteTime": {
     "end_time": "2019-08-26T06:50:30.046807Z",
     "start_time": "2019-08-26T06:50:30.035066Z"
    }
   },
   "outputs": [],
   "source": [
    "# Function for plotting piecharts\n",
    "def plot_piechart(data,\n",
    "                  labels, \n",
    "                  save_fig_name):\n",
    "    my_colors = [\"#1f77b4\",\"#ff7f0e\",\"#ffdf00\",\"#d62728\",\"#9467bd\",\n",
    "                 \"#2ca02c\",\"#1034A6\",\"#ffbf33\",\"#8B0000\",'teal',\n",
    "                 \"#aada30\",\"#e37799\",\"#17becf\",\"#7f7f7f\",\"#cc0099\",\"#0B6623\"]\n",
    "    fig, ax = plt.subplots(figsize=(6,6))\n",
    "    ax.pie(data, autopct='%1.1f%%', \n",
    "           colors=my_colors, \n",
    "           labels=labels, \n",
    "           pctdistance=0.9, labeldistance=1.05, \n",
    "           startangle=90, counterclock=False, \n",
    "           textprops={'fontsize':9})\n",
    "    ax.axis('equal')\n",
    "    ax.set_title(save_fig_name, weight=\"bold\")\n",
    "    fig.savefig('./figs/pie_%s.png' \n",
    "                % save_fig_name.lower().replace(' ','_'))\n",
    "    plt.show()"
   ]
  },
  {
   "cell_type": "code",
   "execution_count": 59,
   "metadata": {
    "ExecuteTime": {
     "end_time": "2019-08-26T06:50:31.759882Z",
     "start_time": "2019-08-26T06:50:31.592802Z"
    }
   },
   "outputs": [
    {
     "data": {
      "image/png": "[encoded data removed]",
      "text/plain": [
       "<Figure size 432x432 with 1 Axes>"
      ]
     },
     "metadata": {},
     "output_type": "display_data"
    }
   ],
   "source": [
    "# Organics function breakdown as pie chart\n",
    "plot_piechart(data=Xf_source.sum(axis=0), \n",
    "              labels=source_func_names, \n",
    "              save_fig_name='Organics Functions')"
   ]
  },
  {
   "cell_type": "code",
   "execution_count": 60,
   "metadata": {
    "ExecuteTime": {
     "end_time": "2019-08-26T06:52:06.591680Z",
     "start_time": "2019-08-26T06:52:06.446791Z"
    }
   },
   "outputs": [
    {
     "data": {
      "image/png": "[encoded data removed]",
      "text/plain": [
       "<Figure size 432x432 with 1 Axes>"
      ]
     },
     "metadata": {},
     "output_type": "display_data"
    }
   ],
   "source": [
    "# Organics PUC breakdown as pie chart\n",
    "plot_piechart(data=Xp_source.values[:,0:7].sum(axis=0), \n",
    "              labels=source_PUC_names[0:7], \n",
    "              save_fig_name='Organics General Product Categories')"
   ]
  },
  {
   "cell_type": "code",
   "execution_count": 61,
   "metadata": {
    "ExecuteTime": {
     "end_time": "2019-08-26T06:52:52.273454Z",
     "start_time": "2019-08-26T06:52:52.121864Z"
    }
   },
   "outputs": [
    {
     "data": {
      "image/png": "[encoded data removed]",
      "text/plain": [
       "<Figure size 432x432 with 1 Axes>"
      ]
     },
     "metadata": {},
     "output_type": "display_data"
    }
   ],
   "source": [
    "# Organics PUC breakdown as pie chart\n",
    "plot_piechart(data=Xp_source.values[:,7:].sum(axis=0), \n",
    "              labels=source_PUC_names[7:], \n",
    "              save_fig_name='Organics Product Group Categories')"
   ]
  },
  {
   "cell_type": "code",
   "execution_count": 62,
   "metadata": {
    "ExecuteTime": {
     "end_time": "2019-08-26T06:54:29.850487Z",
     "start_time": "2019-08-26T06:54:29.773252Z"
    }
   },
   "outputs": [
    {
     "data": {
      "image/png": "[encoded data removed]",
      "text/plain": [
       "<Figure size 432x432 with 1 Axes>"
      ]
     },
     "metadata": {},
     "output_type": "display_data"
    }
   ],
   "source": [
    "# Organics spray products as pie chart\n",
    "labels = ['spray','other']\n",
    "values = [(np.count_nonzero(X_source['refined_spray'])), \n",
    "          (len(X_source['refined_spray']) \\\n",
    "           - np.count_nonzero(X_source['refined_spray']))]\n",
    "plot_piechart(data=values, \n",
    "              labels=labels, \n",
    "              save_fig_name='Organics Spray Products')"
   ]
  },
  {
   "cell_type": "code",
   "execution_count": 63,
   "metadata": {
    "ExecuteTime": {
     "end_time": "2019-08-26T06:55:13.430593Z",
     "start_time": "2019-08-26T06:55:13.341947Z"
    }
   },
   "outputs": [
    {
     "data": {
      "image/png": "[encoded data removed]",
      "text/plain": [
       "<Figure size 432x432 with 1 Axes>"
      ]
     },
     "metadata": {},
     "output_type": "display_data"
    }
   ],
   "source": [
    "# Organics product matrices as pie chart\n",
    "labels = ['formulation','article']\n",
    "values = [(np.count_nonzero(X_source['matrix_F'])), \n",
    "          (len(X_source['matrix_F']) - np.count_nonzero(X_source['matrix_F']))]\n",
    "plot_piechart(data=values, \n",
    "              labels=labels, \n",
    "              save_fig_name='Organics Product Matrix')"
   ]
  },
  {
   "cell_type": "markdown",
   "metadata": {},
   "source": [
    "## Preliminary performance check"
   ]
  },
  {
   "cell_type": "code",
   "execution_count": 114,
   "metadata": {
    "ExecuteTime": {
     "end_time": "2018-12-07T23:59:26.191704Z",
     "start_time": "2018-12-07T23:27:25.264989Z"
    }
   },
   "outputs": [
    {
     "name": "stdout",
     "output_type": "stream",
     "text": [
      "{'estimator__C': 30, 'estimator__gamma': 0.001}\n",
      "0.5377277730218907\n"
     ]
    },
    {
     "data": {
      "text/html": [
       "\n",
       "                <audio controls=\"controls\" autoplay=\"autoplay\">\n",
       "                    <source src=\"./data/Glass.wav\" type=\"audio/x-wav\" />\n",
       "                    Your browser does not support the audio element.\n",
       "                </audio>\n",
       "              "
      ],
      "text/plain": [
       "<IPython.lib.display.Audio object>"
      ]
     },
     "execution_count": 114,
     "metadata": {},
     "output_type": "execute_result"
    }
   ],
   "source": [
    "# SVC-RBF with all features, normalized\n",
    "    # Binned weight fractions\n",
    "    # Accuracy\n",
    "\n",
    "from sklearn.pipeline import Pipeline\n",
    "from sklearn.model_selection import GridSearchCV\n",
    "from sklearn.preprocessing import MinMaxScaler\n",
    "from sklearn.svm import SVC\n",
    "\n",
    "# Pipeline\n",
    "estimator = SVC(kernel='rbf')\n",
    "prepipe = Pipeline([\n",
    "    ('scale', MinMaxScaler()),\n",
    "    ('estimator', estimator)\n",
    "])\n",
    "\n",
    "# Set parameter ranges for gridsearch\n",
    "cv=10\n",
    "n_jobs=3\n",
    "c_set=[0.1, 1, 10, 30]\n",
    "gamma_set=[0.0001, 0.001, 0.01]\n",
    "\n",
    "# Gridsearch\n",
    "param_grid={'estimator__C': c_set,\n",
    "            'estimator__gamma': gamma_set\n",
    "           }\n",
    "grid_search=GridSearchCV(prepipe,param_grid,cv=cv,scoring='accuracy', n_jobs=n_jobs, pre_dispatch=2*n_jobs)\n",
    "grid_search.fit(X_source,bin_source)\n",
    "print(grid_search.best_params_)\n",
    "print(grid_search.best_score_)\n",
    "\n",
    "# Play sound when done running\n",
    "Audio(url=sound_file, autoplay=True)\n",
    "\n",
    "#{'estimator__C': 30, 'estimator__gamma': 0.001}\n",
    "#0.5350984468631528"
   ]
  },
  {
   "cell_type": "code",
   "execution_count": 37,
   "metadata": {
    "ExecuteTime": {
     "end_time": "2018-11-30T05:03:34.756435Z",
     "start_time": "2018-11-30T04:42:48.201363Z"
    }
   },
   "outputs": [
    {
     "name": "stdout",
     "output_type": "stream",
     "text": [
      "{'estimator__C': 0.1, 'estimator__gamma': 0.1}\n",
      "0.5091063108852182\n"
     ]
    },
    {
     "data": {
      "text/html": [
       "\n",
       "                <audio controls=\"controls\" autoplay=\"autoplay\">\n",
       "                    <source src=\"./data/Glass.wav\" type=\"audio/x-wav\" />\n",
       "                    Your browser does not support the audio element.\n",
       "                </audio>\n",
       "              "
      ],
      "text/plain": [
       "<IPython.lib.display.Audio object>"
      ]
     },
     "execution_count": 37,
     "metadata": {},
     "output_type": "execute_result"
    }
   ],
   "source": [
    "# SVC-RBF with all features, normalized\n",
    "    # Binned weight fractions\n",
    "    # Accuracy\n",
    "\n",
    "from sklearn.pipeline import Pipeline\n",
    "from sklearn.model_selection import GridSearchCV\n",
    "from sklearn.preprocessing import MinMaxScaler\n",
    "from sklearn.svm import SVC\n",
    "\n",
    "# Pipeline\n",
    "estimator = SVC(kernel='rbf')\n",
    "prepipe = Pipeline([\n",
    "    ('scale', MinMaxScaler()),\n",
    "    ('estimator', estimator)\n",
    "])\n",
    "\n",
    "# Set parameter ranges for gridsearch\n",
    "cv=10\n",
    "n_jobs=3\n",
    "c_set=[1, 10, 30]\n",
    "gamma_set=[0.0001, 0.001, 0.01]\n",
    "\n",
    "# Gridsearch\n",
    "param_grid={'estimator__C': c_set,\n",
    "            'estimator__gamma': gamma_set\n",
    "           }\n",
    "grid_search=GridSearchCV(prepipe,param_grid,cv=cv,scoring='accuracy', n_jobs=n_jobs, pre_dispatch=2*n_jobs)\n",
    "grid_search.fit(X_source4,bin_source)\n",
    "print(grid_search.best_params_)\n",
    "print(grid_search.best_score_)\n",
    "\n",
    "# Play sound when done running\n",
    "Audio(url=sound_file, autoplay=True)"
   ]
  },
  {
   "cell_type": "code",
   "execution_count": null,
   "metadata": {
    "collapsed": true
   },
   "outputs": [],
   "source": [
    "# SVR-RBF with all features, normalized\n",
    "    # Continuous weight fractions\n",
    "    # Explained variance\n",
    "\n",
    "from sklearn.pipeline import Pipeline\n",
    "from sklearn.model_selection import GridSearchCV\n",
    "from sklearn.preprocessing import MinMaxScaler\n",
    "from sklearn.svm import SVR\n",
    "\n",
    "# Pipeline\n",
    "estimator = SVR(kernel='rbf')\n",
    "prepipe = Pipeline([\n",
    "    ('scale', MinMaxScaler()),\n",
    "    ('estimator', estimator)\n",
    "])\n",
    "\n",
    "# Set parameter ranges for gridsearch\n",
    "cv=10\n",
    "n_jobs=3\n",
    "c_set=np.logspace(0,4,8)\n",
    "gamma_set=np.logspace(-5,0,8)\n",
    "\n",
    "# Gridsearch\n",
    "param_grid={'estimator__C': c_set,\n",
    "            'estimator__gamma': gamma_set\n",
    "           }\n",
    "grid_search=GridSearchCV(prepipe,param_grid,cv=cv,scoring='explained_variance', n_jobs=n_jobs, pre_dispatch=2*n_jobs)\n",
    "grid_search.fit(X_source,y_source)\n",
    "print(grid_search.best_params_)\n",
    "print(grid_search.best_score_)\n",
    "\n",
    "# Play sound when done running\n",
    "Audio(url=sound_file, autoplay=True)"
   ]
  },
  {
   "cell_type": "markdown",
   "metadata": {},
   "source": [
    "## PCA"
   ]
  },
  {
   "cell_type": "markdown",
   "metadata": {},
   "source": [
    "http://scikit-learn.org/stable/modules/generated/sklearn.decomposition.PCA.html#sklearn.decomposition.PCA\n",
    "\n",
    "***Need to add in cross-validation***"
   ]
  },
  {
   "cell_type": "code",
   "execution_count": 224,
   "metadata": {
    "ExecuteTime": {
     "end_time": "2018-12-11T06:52:57.990159Z",
     "start_time": "2018-12-11T06:52:57.941623Z"
    },
    "collapsed": true
   },
   "outputs": [],
   "source": [
    "# Scale the data first (i.e., the chemical properties) so everything is from 0 to 1\n",
    "from sklearn.preprocessing import MinMaxScaler\n",
    "scaler = MinMaxScaler()\n",
    "X_source_scaled = scaler.fit_transform(X_source)"
   ]
  },
  {
   "cell_type": "code",
   "execution_count": 225,
   "metadata": {
    "ExecuteTime": {
     "end_time": "2018-12-11T06:53:00.099859Z",
     "start_time": "2018-12-11T06:52:59.562203Z"
    }
   },
   "outputs": [
    {
     "data": {
      "image/png": "[encoded data removed]",
      "text/plain": [
       "<Figure size 432x288 with 1 Axes>"
      ]
     },
     "metadata": {},
     "output_type": "display_data"
    }
   ],
   "source": [
    "# Figure out number of components to achieve 85% cumulative explained variance\n",
    "from sklearn import decomposition \n",
    "pca=decomposition.PCA(n_components=30)\n",
    "dim_red_source=pca.fit(X_source_scaled)\n",
    "\n",
    "fig =plt.figure()\n",
    "plt.plot(np.cumsum(pca.explained_variance_ratio_),'.-',label='pca')\n",
    "plt.plot([0, 30],[.95,.95],'k',label='95%')\n",
    "plt.plot([0, 30],[.85,.85],'r',label='85%')\n",
    "plt.xlabel('Coefficient Number')\n",
    "plt.ylabel('Cumulative Explained Variance Ratio')\n",
    "plt.grid()\n",
    "plt.legend()\n",
    "plt.show()"
   ]
  },
  {
   "cell_type": "code",
   "execution_count": 226,
   "metadata": {
    "ExecuteTime": {
     "end_time": "2018-12-11T06:53:32.058105Z",
     "start_time": "2018-12-11T06:53:31.879443Z"
    },
    "collapsed": true
   },
   "outputs": [],
   "source": [
    "# Transform/apply PCA\n",
    "from sklearn import decomposition \n",
    "pca = decomposition.PCA(n_components=22)\n",
    "dim_red_source = pca.fit_transform(X_source_scaled)"
   ]
  },
  {
   "cell_type": "markdown",
   "metadata": {},
   "source": [
    "## Hierarchical Agglomerative Clustering (HAC)"
   ]
  },
  {
   "cell_type": "code",
   "execution_count": null,
   "metadata": {},
   "outputs": [],
   "source": [
    "# Apply feature agglomeration\n",
    "from sklearn.cluster import FeatureAgglomeration\n",
    "\n",
    "# PUC feature agglomeration\n",
    "agg = FeatureAgglomeration(n_clusters=16, affinity=\"cosine\", linkage=\"average\")\n",
    "agg.fit(Xp_enm+0.0001)\n",
    "Xp_source_red = pd.DataFrame(agg.transform(Xp_source))"
   ]
  },
  {
   "cell_type": "code",
   "execution_count": 115,
   "metadata": {
    "ExecuteTime": {
     "end_time": "2019-03-22T06:15:12.698136Z",
     "start_time": "2019-03-22T06:15:12.613048Z"
    }
   },
   "outputs": [
    {
     "name": "stdout",
     "output_type": "stream",
     "text": [
      "(16354, 4)\n",
      "(16354, 16)\n",
      "(16354, 16)\n",
      "(16354, 2)\n"
     ]
    }
   ],
   "source": [
    "print(Xc_source.shape)\n",
    "print(Xf_source.shape)\n",
    "print(Xp_source_red.shape)\n",
    "print(Xm_source.shape)"
   ]
  },
  {
   "cell_type": "code",
   "execution_count": 116,
   "metadata": {
    "ExecuteTime": {
     "end_time": "2019-03-22T06:15:15.945024Z",
     "start_time": "2019-03-22T06:15:15.868038Z"
    }
   },
   "outputs": [
    {
     "data": {
      "text/html": [
       "<div>\n",
       "<style scoped>\n",
       "    .dataframe tbody tr th:only-of-type {\n",
       "        vertical-align: middle;\n",
       "    }\n",
       "\n",
       "    .dataframe tbody tr th {\n",
       "        vertical-align: top;\n",
       "    }\n",
       "\n",
       "    .dataframe thead th {\n",
       "        text-align: right;\n",
       "    }\n",
       "</style>\n",
       "<table border=\"1\" class=\"dataframe\">\n",
       "  <thead>\n",
       "    <tr style=\"text-align: right;\">\n",
       "      <th></th>\n",
       "      <th>propMW</th>\n",
       "      <th>propMP</th>\n",
       "      <th>propBP</th>\n",
       "      <th>propLogDensity</th>\n",
       "      <th>absorbent</th>\n",
       "      <th>anti_adhesive_cohesive</th>\n",
       "      <th>antioxidant</th>\n",
       "      <th>antiredeposition_agent</th>\n",
       "      <th>biocide</th>\n",
       "      <th>brightener</th>\n",
       "      <th>...</th>\n",
       "      <th>group_dentalcare</th>\n",
       "      <th>group_deodorant</th>\n",
       "      <th>group_facialcleansingandmoisturizing</th>\n",
       "      <th>group_generalmoisturizing</th>\n",
       "      <th>group_makeupandrelated</th>\n",
       "      <th>group_paintstainandrelatedproducts</th>\n",
       "      <th>group_sunscreen</th>\n",
       "      <th>group_surfacesealers</th>\n",
       "      <th>refined_spray</th>\n",
       "      <th>matrix_F</th>\n",
       "    </tr>\n",
       "  </thead>\n",
       "  <tbody>\n",
       "    <tr>\n",
       "      <th>29360</th>\n",
       "      <td>152.149</td>\n",
       "      <td>84.03215</td>\n",
       "      <td>263.941</td>\n",
       "      <td>0.078457</td>\n",
       "      <td>0</td>\n",
       "      <td>0</td>\n",
       "      <td>0</td>\n",
       "      <td>0</td>\n",
       "      <td>0</td>\n",
       "      <td>0</td>\n",
       "      <td>...</td>\n",
       "      <td>0.0</td>\n",
       "      <td>0.0</td>\n",
       "      <td>0.0</td>\n",
       "      <td>0.0</td>\n",
       "      <td>1.0</td>\n",
       "      <td>0.0</td>\n",
       "      <td>0.0</td>\n",
       "      <td>0.0</td>\n",
       "      <td>0</td>\n",
       "      <td>1</td>\n",
       "    </tr>\n",
       "    <tr>\n",
       "      <th>29361</th>\n",
       "      <td>152.149</td>\n",
       "      <td>84.03215</td>\n",
       "      <td>263.941</td>\n",
       "      <td>0.078457</td>\n",
       "      <td>0</td>\n",
       "      <td>0</td>\n",
       "      <td>0</td>\n",
       "      <td>0</td>\n",
       "      <td>0</td>\n",
       "      <td>0</td>\n",
       "      <td>...</td>\n",
       "      <td>0.0</td>\n",
       "      <td>0.0</td>\n",
       "      <td>0.0</td>\n",
       "      <td>0.0</td>\n",
       "      <td>1.0</td>\n",
       "      <td>0.0</td>\n",
       "      <td>0.0</td>\n",
       "      <td>0.0</td>\n",
       "      <td>0</td>\n",
       "      <td>1</td>\n",
       "    </tr>\n",
       "    <tr>\n",
       "      <th>29362</th>\n",
       "      <td>152.149</td>\n",
       "      <td>84.03215</td>\n",
       "      <td>263.941</td>\n",
       "      <td>0.078457</td>\n",
       "      <td>0</td>\n",
       "      <td>0</td>\n",
       "      <td>0</td>\n",
       "      <td>0</td>\n",
       "      <td>0</td>\n",
       "      <td>0</td>\n",
       "      <td>...</td>\n",
       "      <td>0.0</td>\n",
       "      <td>0.0</td>\n",
       "      <td>0.0</td>\n",
       "      <td>0.0</td>\n",
       "      <td>0.0</td>\n",
       "      <td>0.0</td>\n",
       "      <td>0.0</td>\n",
       "      <td>0.0</td>\n",
       "      <td>0</td>\n",
       "      <td>1</td>\n",
       "    </tr>\n",
       "    <tr>\n",
       "      <th>29363</th>\n",
       "      <td>152.149</td>\n",
       "      <td>84.03215</td>\n",
       "      <td>263.941</td>\n",
       "      <td>0.078457</td>\n",
       "      <td>0</td>\n",
       "      <td>0</td>\n",
       "      <td>0</td>\n",
       "      <td>0</td>\n",
       "      <td>0</td>\n",
       "      <td>0</td>\n",
       "      <td>...</td>\n",
       "      <td>0.0</td>\n",
       "      <td>0.0</td>\n",
       "      <td>0.0</td>\n",
       "      <td>1.0</td>\n",
       "      <td>0.0</td>\n",
       "      <td>0.0</td>\n",
       "      <td>0.0</td>\n",
       "      <td>0.0</td>\n",
       "      <td>0</td>\n",
       "      <td>1</td>\n",
       "    </tr>\n",
       "    <tr>\n",
       "      <th>29364</th>\n",
       "      <td>152.149</td>\n",
       "      <td>84.03215</td>\n",
       "      <td>263.941</td>\n",
       "      <td>0.078457</td>\n",
       "      <td>0</td>\n",
       "      <td>0</td>\n",
       "      <td>0</td>\n",
       "      <td>0</td>\n",
       "      <td>0</td>\n",
       "      <td>0</td>\n",
       "      <td>...</td>\n",
       "      <td>0.0</td>\n",
       "      <td>0.0</td>\n",
       "      <td>0.0</td>\n",
       "      <td>1.0</td>\n",
       "      <td>0.0</td>\n",
       "      <td>0.0</td>\n",
       "      <td>0.0</td>\n",
       "      <td>0.0</td>\n",
       "      <td>0</td>\n",
       "      <td>1</td>\n",
       "    </tr>\n",
       "    <tr>\n",
       "      <th>29365</th>\n",
       "      <td>152.149</td>\n",
       "      <td>84.03215</td>\n",
       "      <td>263.941</td>\n",
       "      <td>0.078457</td>\n",
       "      <td>0</td>\n",
       "      <td>0</td>\n",
       "      <td>0</td>\n",
       "      <td>0</td>\n",
       "      <td>0</td>\n",
       "      <td>0</td>\n",
       "      <td>...</td>\n",
       "      <td>0.0</td>\n",
       "      <td>0.0</td>\n",
       "      <td>0.0</td>\n",
       "      <td>0.0</td>\n",
       "      <td>1.0</td>\n",
       "      <td>0.0</td>\n",
       "      <td>0.0</td>\n",
       "      <td>0.0</td>\n",
       "      <td>0</td>\n",
       "      <td>1</td>\n",
       "    </tr>\n",
       "    <tr>\n",
       "      <th>29366</th>\n",
       "      <td>152.149</td>\n",
       "      <td>84.03215</td>\n",
       "      <td>263.941</td>\n",
       "      <td>0.078457</td>\n",
       "      <td>0</td>\n",
       "      <td>0</td>\n",
       "      <td>0</td>\n",
       "      <td>0</td>\n",
       "      <td>0</td>\n",
       "      <td>0</td>\n",
       "      <td>...</td>\n",
       "      <td>0.0</td>\n",
       "      <td>0.0</td>\n",
       "      <td>0.0</td>\n",
       "      <td>1.0</td>\n",
       "      <td>0.0</td>\n",
       "      <td>0.0</td>\n",
       "      <td>0.0</td>\n",
       "      <td>0.0</td>\n",
       "      <td>0</td>\n",
       "      <td>1</td>\n",
       "    </tr>\n",
       "    <tr>\n",
       "      <th>29367</th>\n",
       "      <td>152.149</td>\n",
       "      <td>84.03215</td>\n",
       "      <td>263.941</td>\n",
       "      <td>0.078457</td>\n",
       "      <td>0</td>\n",
       "      <td>0</td>\n",
       "      <td>0</td>\n",
       "      <td>0</td>\n",
       "      <td>0</td>\n",
       "      <td>0</td>\n",
       "      <td>...</td>\n",
       "      <td>0.0</td>\n",
       "      <td>0.0</td>\n",
       "      <td>0.0</td>\n",
       "      <td>0.0</td>\n",
       "      <td>1.0</td>\n",
       "      <td>0.0</td>\n",
       "      <td>0.0</td>\n",
       "      <td>0.0</td>\n",
       "      <td>0</td>\n",
       "      <td>1</td>\n",
       "    </tr>\n",
       "    <tr>\n",
       "      <th>29368</th>\n",
       "      <td>135.210</td>\n",
       "      <td>-31.78080</td>\n",
       "      <td>203.080</td>\n",
       "      <td>-0.031517</td>\n",
       "      <td>0</td>\n",
       "      <td>0</td>\n",
       "      <td>0</td>\n",
       "      <td>0</td>\n",
       "      <td>0</td>\n",
       "      <td>0</td>\n",
       "      <td>...</td>\n",
       "      <td>0.0</td>\n",
       "      <td>0.0</td>\n",
       "      <td>0.0</td>\n",
       "      <td>0.0</td>\n",
       "      <td>0.0</td>\n",
       "      <td>0.0</td>\n",
       "      <td>0.0</td>\n",
       "      <td>0.0</td>\n",
       "      <td>0</td>\n",
       "      <td>1</td>\n",
       "    </tr>\n",
       "    <tr>\n",
       "      <th>29369</th>\n",
       "      <td>135.210</td>\n",
       "      <td>-31.78080</td>\n",
       "      <td>203.080</td>\n",
       "      <td>-0.031517</td>\n",
       "      <td>0</td>\n",
       "      <td>0</td>\n",
       "      <td>0</td>\n",
       "      <td>0</td>\n",
       "      <td>0</td>\n",
       "      <td>0</td>\n",
       "      <td>...</td>\n",
       "      <td>0.0</td>\n",
       "      <td>0.0</td>\n",
       "      <td>0.0</td>\n",
       "      <td>0.0</td>\n",
       "      <td>0.0</td>\n",
       "      <td>0.0</td>\n",
       "      <td>0.0</td>\n",
       "      <td>0.0</td>\n",
       "      <td>0</td>\n",
       "      <td>1</td>\n",
       "    </tr>\n",
       "  </tbody>\n",
       "</table>\n",
       "<p>10 rows × 38 columns</p>\n",
       "</div>"
      ],
      "text/plain": [
       "        propMW    propMP   propBP  propLogDensity  absorbent  \\\n",
       "29360  152.149  84.03215  263.941        0.078457          0   \n",
       "29361  152.149  84.03215  263.941        0.078457          0   \n",
       "29362  152.149  84.03215  263.941        0.078457          0   \n",
       "29363  152.149  84.03215  263.941        0.078457          0   \n",
       "29364  152.149  84.03215  263.941        0.078457          0   \n",
       "29365  152.149  84.03215  263.941        0.078457          0   \n",
       "29366  152.149  84.03215  263.941        0.078457          0   \n",
       "29367  152.149  84.03215  263.941        0.078457          0   \n",
       "29368  135.210 -31.78080  203.080       -0.031517          0   \n",
       "29369  135.210 -31.78080  203.080       -0.031517          0   \n",
       "\n",
       "       anti_adhesive_cohesive  antioxidant  antiredeposition_agent  biocide  \\\n",
       "29360                       0            0                       0        0   \n",
       "29361                       0            0                       0        0   \n",
       "29362                       0            0                       0        0   \n",
       "29363                       0            0                       0        0   \n",
       "29364                       0            0                       0        0   \n",
       "29365                       0            0                       0        0   \n",
       "29366                       0            0                       0        0   \n",
       "29367                       0            0                       0        0   \n",
       "29368                       0            0                       0        0   \n",
       "29369                       0            0                       0        0   \n",
       "\n",
       "       brightener    ...     group_dentalcare  group_deodorant  \\\n",
       "29360           0    ...                  0.0              0.0   \n",
       "29361           0    ...                  0.0              0.0   \n",
       "29362           0    ...                  0.0              0.0   \n",
       "29363           0    ...                  0.0              0.0   \n",
       "29364           0    ...                  0.0              0.0   \n",
       "29365           0    ...                  0.0              0.0   \n",
       "29366           0    ...                  0.0              0.0   \n",
       "29367           0    ...                  0.0              0.0   \n",
       "29368           0    ...                  0.0              0.0   \n",
       "29369           0    ...                  0.0              0.0   \n",
       "\n",
       "       group_facialcleansingandmoisturizing  group_generalmoisturizing  \\\n",
       "29360                                   0.0                        0.0   \n",
       "29361                                   0.0                        0.0   \n",
       "29362                                   0.0                        0.0   \n",
       "29363                                   0.0                        1.0   \n",
       "29364                                   0.0                        1.0   \n",
       "29365                                   0.0                        0.0   \n",
       "29366                                   0.0                        1.0   \n",
       "29367                                   0.0                        0.0   \n",
       "29368                                   0.0                        0.0   \n",
       "29369                                   0.0                        0.0   \n",
       "\n",
       "       group_makeupandrelated  group_paintstainandrelatedproducts  \\\n",
       "29360                     1.0                                 0.0   \n",
       "29361                     1.0                                 0.0   \n",
       "29362                     0.0                                 0.0   \n",
       "29363                     0.0                                 0.0   \n",
       "29364                     0.0                                 0.0   \n",
       "29365                     1.0                                 0.0   \n",
       "29366                     0.0                                 0.0   \n",
       "29367                     1.0                                 0.0   \n",
       "29368                     0.0                                 0.0   \n",
       "29369                     0.0                                 0.0   \n",
       "\n",
       "       group_sunscreen  group_surfacesealers  refined_spray  matrix_F  \n",
       "29360              0.0                   0.0              0         1  \n",
       "29361              0.0                   0.0              0         1  \n",
       "29362              0.0                   0.0              0         1  \n",
       "29363              0.0                   0.0              0         1  \n",
       "29364              0.0                   0.0              0         1  \n",
       "29365              0.0                   0.0              0         1  \n",
       "29366              0.0                   0.0              0         1  \n",
       "29367              0.0                   0.0              0         1  \n",
       "29368              0.0                   0.0              0         1  \n",
       "29369              0.0                   0.0              0         1  \n",
       "\n",
       "[10 rows x 38 columns]"
      ]
     },
     "execution_count": 116,
     "metadata": {},
     "output_type": "execute_result"
    }
   ],
   "source": [
    "# Concatenate all clustered and scaled features into new dataframe\n",
    "XX_source = pd.concat([Xc_source, Xf_source, Xp_source_red, Xm_source], axis=1)\n",
    "XX_source.tail(10)"
   ]
  },
  {
   "cell_type": "code",
   "execution_count": 117,
   "metadata": {
    "ExecuteTime": {
     "end_time": "2019-03-22T06:16:01.879008Z",
     "start_time": "2019-03-22T06:16:01.298984Z"
    },
    "collapsed": true
   },
   "outputs": [],
   "source": [
    "# Export unscaled organics dataframe\n",
    "XX_source.to_csv(\"./data/XX_source.csv\", sep='\\t', na_rep='', \n",
    "                 header=True, index=True, index_label=None, mode='w')"
   ]
  },
  {
   "cell_type": "markdown",
   "metadata": {},
   "source": [
    "# Core models"
   ]
  },
  {
   "cell_type": "code",
   "execution_count": 121,
   "metadata": {
    "ExecuteTime": {
     "end_time": "2018-11-02T01:15:31.781241Z",
     "start_time": "2018-11-02T01:15:30.649236Z"
    }
   },
   "outputs": [
    {
     "name": "stdout",
     "output_type": "stream",
     "text": [
      "Running GridSearchCV for RandomForest.\n",
      "Fitting 10 folds for each of 4 candidates, totalling 40 fits\n",
      "Running GridSearchCV for SVR.\n",
      "Fitting 10 folds for each of 38 candidates, totalling 380 fits\n"
     ]
    },
    {
     "name": "stderr",
     "output_type": "stream",
     "text": [
      "[Parallel(n_jobs=3)]: Done  40 out of  40 | elapsed:    0.4s finished\n",
      "[Parallel(n_jobs=3)]: Done 380 out of 380 | elapsed:    0.5s finished\n"
     ]
    }
   ],
   "source": [
    "# Fit gridsearch models to select best estimator\n",
    "helper2 = EstimatorSelectionHelper(models, params)\n",
    "helper2.fit(dim_red_source, np.log10(y_source), n_jobs=n_jobs, scoring='explained_variance') # n_jobs=1 by default"
   ]
  },
  {
   "cell_type": "code",
   "execution_count": 122,
   "metadata": {
    "ExecuteTime": {
     "end_time": "2018-11-02T01:15:31.861053Z",
     "start_time": "2018-11-02T01:15:31.785694Z"
    }
   },
   "outputs": [
    {
     "name": "stdout",
     "output_type": "stream",
     "text": [
      "RandomForest\n",
      "SVR\n"
     ]
    },
    {
     "name": "stderr",
     "output_type": "stream",
     "text": [
      "/anaconda3/lib/python3.6/site-packages/ipykernel/__main__.py:52: FutureWarning: Sorting because non-concatenation axis is not aligned. A future version\n",
      "of pandas will change to not sort by default.\n",
      "\n",
      "To accept the future behavior, pass 'sort=True'.\n",
      "\n",
      "To retain the current behavior and silence the warning, pass sort=False\n",
      "\n"
     ]
    },
    {
     "data": {
      "text/html": [
       "<div>\n",
       "<style scoped>\n",
       "    .dataframe tbody tr th:only-of-type {\n",
       "        vertical-align: middle;\n",
       "    }\n",
       "\n",
       "    .dataframe tbody tr th {\n",
       "        vertical-align: top;\n",
       "    }\n",
       "\n",
       "    .dataframe thead th {\n",
       "        text-align: right;\n",
       "    }\n",
       "</style>\n",
       "<table border=\"1\" class=\"dataframe\">\n",
       "  <thead>\n",
       "    <tr style=\"text-align: right;\">\n",
       "      <th></th>\n",
       "      <th>estimator</th>\n",
       "      <th>min_score</th>\n",
       "      <th>mean_score</th>\n",
       "      <th>max_score</th>\n",
       "      <th>std_score</th>\n",
       "      <th>C</th>\n",
       "      <th>gamma</th>\n",
       "      <th>kernel</th>\n",
       "      <th>n_estimators</th>\n",
       "    </tr>\n",
       "  </thead>\n",
       "  <tbody>\n",
       "    <tr>\n",
       "      <th>32</th>\n",
       "      <td>SVR</td>\n",
       "      <td>-0.498523</td>\n",
       "      <td>0.0321473</td>\n",
       "      <td>0.416344</td>\n",
       "      <td>0.2158</td>\n",
       "      <td>40</td>\n",
       "      <td>0.0001</td>\n",
       "      <td>rbf</td>\n",
       "      <td>NaN</td>\n",
       "    </tr>\n",
       "    <tr>\n",
       "      <th>37</th>\n",
       "      <td>SVR</td>\n",
       "      <td>-0.62239</td>\n",
       "      <td>0.0317421</td>\n",
       "      <td>0.47422</td>\n",
       "      <td>0.260206</td>\n",
       "      <td>50</td>\n",
       "      <td>0.0001</td>\n",
       "      <td>rbf</td>\n",
       "      <td>NaN</td>\n",
       "    </tr>\n",
       "    <tr>\n",
       "      <th>13</th>\n",
       "      <td>SVR</td>\n",
       "      <td>-0.621387</td>\n",
       "      <td>0.0317064</td>\n",
       "      <td>0.473894</td>\n",
       "      <td>0.259846</td>\n",
       "      <td>5</td>\n",
       "      <td>0.001</td>\n",
       "      <td>rbf</td>\n",
       "      <td>NaN</td>\n",
       "    </tr>\n",
       "    <tr>\n",
       "      <th>27</th>\n",
       "      <td>SVR</td>\n",
       "      <td>-0.374299</td>\n",
       "      <td>0.0291626</td>\n",
       "      <td>0.328704</td>\n",
       "      <td>0.16597</td>\n",
       "      <td>30</td>\n",
       "      <td>0.0001</td>\n",
       "      <td>rbf</td>\n",
       "      <td>NaN</td>\n",
       "    </tr>\n",
       "    <tr>\n",
       "      <th>22</th>\n",
       "      <td>SVR</td>\n",
       "      <td>-0.247183</td>\n",
       "      <td>0.0255942</td>\n",
       "      <td>0.2301</td>\n",
       "      <td>0.113148</td>\n",
       "      <td>20</td>\n",
       "      <td>0.0001</td>\n",
       "      <td>rbf</td>\n",
       "      <td>NaN</td>\n",
       "    </tr>\n",
       "    <tr>\n",
       "      <th>17</th>\n",
       "      <td>SVR</td>\n",
       "      <td>-0.127033</td>\n",
       "      <td>0.0149769</td>\n",
       "      <td>0.129502</td>\n",
       "      <td>0.0606043</td>\n",
       "      <td>10</td>\n",
       "      <td>0.0001</td>\n",
       "      <td>rbf</td>\n",
       "      <td>NaN</td>\n",
       "    </tr>\n",
       "    <tr>\n",
       "      <th>8</th>\n",
       "      <td>SVR</td>\n",
       "      <td>-0.1266</td>\n",
       "      <td>0.0148968</td>\n",
       "      <td>0.128834</td>\n",
       "      <td>0.0603578</td>\n",
       "      <td>1</td>\n",
       "      <td>0.001</td>\n",
       "      <td>rbf</td>\n",
       "      <td>NaN</td>\n",
       "    </tr>\n",
       "    <tr>\n",
       "      <th>12</th>\n",
       "      <td>SVR</td>\n",
       "      <td>-0.0612442</td>\n",
       "      <td>0.00999065</td>\n",
       "      <td>0.0759484</td>\n",
       "      <td>0.0324261</td>\n",
       "      <td>5</td>\n",
       "      <td>0.0001</td>\n",
       "      <td>rbf</td>\n",
       "      <td>NaN</td>\n",
       "    </tr>\n",
       "    <tr>\n",
       "      <th>7</th>\n",
       "      <td>SVR</td>\n",
       "      <td>-0.0118853</td>\n",
       "      <td>0.00246785</td>\n",
       "      <td>0.0173036</td>\n",
       "      <td>0.0068765</td>\n",
       "      <td>1</td>\n",
       "      <td>0.0001</td>\n",
       "      <td>rbf</td>\n",
       "      <td>NaN</td>\n",
       "    </tr>\n",
       "    <tr>\n",
       "      <th>9</th>\n",
       "      <td>SVR</td>\n",
       "      <td>-1.21769</td>\n",
       "      <td>0.00236644</td>\n",
       "      <td>0.588368</td>\n",
       "      <td>0.447092</td>\n",
       "      <td>1</td>\n",
       "      <td>0.01</td>\n",
       "      <td>rbf</td>\n",
       "      <td>NaN</td>\n",
       "    </tr>\n",
       "    <tr>\n",
       "      <th>18</th>\n",
       "      <td>SVR</td>\n",
       "      <td>-1.25788</td>\n",
       "      <td>0.00170813</td>\n",
       "      <td>0.608044</td>\n",
       "      <td>0.461228</td>\n",
       "      <td>10</td>\n",
       "      <td>0.001</td>\n",
       "      <td>rbf</td>\n",
       "      <td>NaN</td>\n",
       "    </tr>\n",
       "    <tr>\n",
       "      <th>23</th>\n",
       "      <td>SVR</td>\n",
       "      <td>-2.79374</td>\n",
       "      <td>-0.147861</td>\n",
       "      <td>0.705923</td>\n",
       "      <td>0.913961</td>\n",
       "      <td>20</td>\n",
       "      <td>0.001</td>\n",
       "      <td>rbf</td>\n",
       "      <td>NaN</td>\n",
       "    </tr>\n",
       "    <tr>\n",
       "      <th>28</th>\n",
       "      <td>SVR</td>\n",
       "      <td>-3.44211</td>\n",
       "      <td>-0.233291</td>\n",
       "      <td>0.697867</td>\n",
       "      <td>1.10018</td>\n",
       "      <td>30</td>\n",
       "      <td>0.001</td>\n",
       "      <td>rbf</td>\n",
       "      <td>NaN</td>\n",
       "    </tr>\n",
       "    <tr>\n",
       "      <th>33</th>\n",
       "      <td>SVR</td>\n",
       "      <td>-3.57598</td>\n",
       "      <td>-0.270056</td>\n",
       "      <td>0.664822</td>\n",
       "      <td>1.13566</td>\n",
       "      <td>40</td>\n",
       "      <td>0.001</td>\n",
       "      <td>rbf</td>\n",
       "      <td>NaN</td>\n",
       "    </tr>\n",
       "    <tr>\n",
       "      <th>10</th>\n",
       "      <td>SVR</td>\n",
       "      <td>-3.53541</td>\n",
       "      <td>-0.290038</td>\n",
       "      <td>0.550623</td>\n",
       "      <td>1.11651</td>\n",
       "      <td>1</td>\n",
       "      <td>0.1</td>\n",
       "      <td>rbf</td>\n",
       "      <td>NaN</td>\n",
       "    </tr>\n",
       "    <tr>\n",
       "      <th>14</th>\n",
       "      <td>SVR</td>\n",
       "      <td>-3.88023</td>\n",
       "      <td>-0.313541</td>\n",
       "      <td>0.643236</td>\n",
       "      <td>1.22149</td>\n",
       "      <td>5</td>\n",
       "      <td>0.01</td>\n",
       "      <td>rbf</td>\n",
       "      <td>NaN</td>\n",
       "    </tr>\n",
       "    <tr>\n",
       "      <th>38</th>\n",
       "      <td>SVR</td>\n",
       "      <td>-3.95282</td>\n",
       "      <td>-0.325345</td>\n",
       "      <td>0.634185</td>\n",
       "      <td>1.2406</td>\n",
       "      <td>50</td>\n",
       "      <td>0.001</td>\n",
       "      <td>rbf</td>\n",
       "      <td>NaN</td>\n",
       "    </tr>\n",
       "    <tr>\n",
       "      <th>19</th>\n",
       "      <td>SVR</td>\n",
       "      <td>-4.16895</td>\n",
       "      <td>-0.407357</td>\n",
       "      <td>0.562946</td>\n",
       "      <td>1.2929</td>\n",
       "      <td>10</td>\n",
       "      <td>0.01</td>\n",
       "      <td>rbf</td>\n",
       "      <td>NaN</td>\n",
       "    </tr>\n",
       "    <tr>\n",
       "      <th>3</th>\n",
       "      <td>RandomForest</td>\n",
       "      <td>-3.04978</td>\n",
       "      <td>-0.459931</td>\n",
       "      <td>0.495685</td>\n",
       "      <td>0.931572</td>\n",
       "      <td>NaN</td>\n",
       "      <td>NaN</td>\n",
       "      <td>NaN</td>\n",
       "      <td>16</td>\n",
       "    </tr>\n",
       "    <tr>\n",
       "      <th>11</th>\n",
       "      <td>SVR</td>\n",
       "      <td>-2.93568</td>\n",
       "      <td>-0.56773</td>\n",
       "      <td>0.301044</td>\n",
       "      <td>1.18447</td>\n",
       "      <td>1</td>\n",
       "      <td>1</td>\n",
       "      <td>rbf</td>\n",
       "      <td>NaN</td>\n",
       "    </tr>\n",
       "    <tr>\n",
       "      <th>1</th>\n",
       "      <td>RandomForest</td>\n",
       "      <td>-5.41812</td>\n",
       "      <td>-0.671496</td>\n",
       "      <td>0.960235</td>\n",
       "      <td>1.67195</td>\n",
       "      <td>NaN</td>\n",
       "      <td>NaN</td>\n",
       "      <td>NaN</td>\n",
       "      <td>8</td>\n",
       "    </tr>\n",
       "    <tr>\n",
       "      <th>2</th>\n",
       "      <td>RandomForest</td>\n",
       "      <td>-2.6094</td>\n",
       "      <td>-0.692155</td>\n",
       "      <td>0.360599</td>\n",
       "      <td>1.00557</td>\n",
       "      <td>NaN</td>\n",
       "      <td>NaN</td>\n",
       "      <td>NaN</td>\n",
       "      <td>12</td>\n",
       "    </tr>\n",
       "    <tr>\n",
       "      <th>24</th>\n",
       "      <td>SVR</td>\n",
       "      <td>-4.99687</td>\n",
       "      <td>-0.697919</td>\n",
       "      <td>0.314573</td>\n",
       "      <td>1.48058</td>\n",
       "      <td>20</td>\n",
       "      <td>0.01</td>\n",
       "      <td>rbf</td>\n",
       "      <td>NaN</td>\n",
       "    </tr>\n",
       "    <tr>\n",
       "      <th>16</th>\n",
       "      <td>SVR</td>\n",
       "      <td>-4.41531</td>\n",
       "      <td>-0.867022</td>\n",
       "      <td>0.413099</td>\n",
       "      <td>1.66564</td>\n",
       "      <td>5</td>\n",
       "      <td>1</td>\n",
       "      <td>rbf</td>\n",
       "      <td>NaN</td>\n",
       "    </tr>\n",
       "    <tr>\n",
       "      <th>21</th>\n",
       "      <td>SVR</td>\n",
       "      <td>-4.7511</td>\n",
       "      <td>-0.912969</td>\n",
       "      <td>0.447855</td>\n",
       "      <td>1.71321</td>\n",
       "      <td>10</td>\n",
       "      <td>1</td>\n",
       "      <td>rbf</td>\n",
       "      <td>NaN</td>\n",
       "    </tr>\n",
       "    <tr>\n",
       "      <th>41</th>\n",
       "      <td>SVR</td>\n",
       "      <td>-4.03264</td>\n",
       "      <td>-0.921169</td>\n",
       "      <td>0.505592</td>\n",
       "      <td>1.49461</td>\n",
       "      <td>50</td>\n",
       "      <td>1</td>\n",
       "      <td>rbf</td>\n",
       "      <td>NaN</td>\n",
       "    </tr>\n",
       "    <tr>\n",
       "      <th>29</th>\n",
       "      <td>SVR</td>\n",
       "      <td>-5.1491</td>\n",
       "      <td>-0.930942</td>\n",
       "      <td>0.359511</td>\n",
       "      <td>1.52664</td>\n",
       "      <td>30</td>\n",
       "      <td>0.01</td>\n",
       "      <td>rbf</td>\n",
       "      <td>NaN</td>\n",
       "    </tr>\n",
       "    <tr>\n",
       "      <th>0</th>\n",
       "      <td>RandomForest</td>\n",
       "      <td>-3.52314</td>\n",
       "      <td>-0.940619</td>\n",
       "      <td>0.191018</td>\n",
       "      <td>1.1102</td>\n",
       "      <td>NaN</td>\n",
       "      <td>NaN</td>\n",
       "      <td>NaN</td>\n",
       "      <td>4</td>\n",
       "    </tr>\n",
       "    <tr>\n",
       "      <th>26</th>\n",
       "      <td>SVR</td>\n",
       "      <td>-4.72585</td>\n",
       "      <td>-0.941238</td>\n",
       "      <td>0.483289</td>\n",
       "      <td>1.6765</td>\n",
       "      <td>20</td>\n",
       "      <td>1</td>\n",
       "      <td>rbf</td>\n",
       "      <td>NaN</td>\n",
       "    </tr>\n",
       "    <tr>\n",
       "      <th>36</th>\n",
       "      <td>SVR</td>\n",
       "      <td>-4.33466</td>\n",
       "      <td>-0.952731</td>\n",
       "      <td>0.505691</td>\n",
       "      <td>1.56062</td>\n",
       "      <td>40</td>\n",
       "      <td>1</td>\n",
       "      <td>rbf</td>\n",
       "      <td>NaN</td>\n",
       "    </tr>\n",
       "    <tr>\n",
       "      <th>31</th>\n",
       "      <td>SVR</td>\n",
       "      <td>-4.64705</td>\n",
       "      <td>-0.972932</td>\n",
       "      <td>0.493404</td>\n",
       "      <td>1.6392</td>\n",
       "      <td>30</td>\n",
       "      <td>1</td>\n",
       "      <td>rbf</td>\n",
       "      <td>NaN</td>\n",
       "    </tr>\n",
       "    <tr>\n",
       "      <th>34</th>\n",
       "      <td>SVR</td>\n",
       "      <td>-5.09095</td>\n",
       "      <td>-1.11982</td>\n",
       "      <td>0.3978</td>\n",
       "      <td>1.62017</td>\n",
       "      <td>40</td>\n",
       "      <td>0.01</td>\n",
       "      <td>rbf</td>\n",
       "      <td>NaN</td>\n",
       "    </tr>\n",
       "    <tr>\n",
       "      <th>4</th>\n",
       "      <td>SVR</td>\n",
       "      <td>-4.93512</td>\n",
       "      <td>-1.16365</td>\n",
       "      <td>0.371904</td>\n",
       "      <td>1.55584</td>\n",
       "      <td>1</td>\n",
       "      <td>NaN</td>\n",
       "      <td>linear</td>\n",
       "      <td>NaN</td>\n",
       "    </tr>\n",
       "    <tr>\n",
       "      <th>39</th>\n",
       "      <td>SVR</td>\n",
       "      <td>-4.83993</td>\n",
       "      <td>-1.25498</td>\n",
       "      <td>0.431175</td>\n",
       "      <td>1.70605</td>\n",
       "      <td>50</td>\n",
       "      <td>0.01</td>\n",
       "      <td>rbf</td>\n",
       "      <td>NaN</td>\n",
       "    </tr>\n",
       "    <tr>\n",
       "      <th>15</th>\n",
       "      <td>SVR</td>\n",
       "      <td>-6.53188</td>\n",
       "      <td>-1.40498</td>\n",
       "      <td>0.454143</td>\n",
       "      <td>2.23825</td>\n",
       "      <td>5</td>\n",
       "      <td>0.1</td>\n",
       "      <td>rbf</td>\n",
       "      <td>NaN</td>\n",
       "    </tr>\n",
       "    <tr>\n",
       "      <th>40</th>\n",
       "      <td>SVR</td>\n",
       "      <td>-13.3046</td>\n",
       "      <td>-2.35479</td>\n",
       "      <td>0.484826</td>\n",
       "      <td>4.07971</td>\n",
       "      <td>50</td>\n",
       "      <td>0.1</td>\n",
       "      <td>rbf</td>\n",
       "      <td>NaN</td>\n",
       "    </tr>\n",
       "    <tr>\n",
       "      <th>35</th>\n",
       "      <td>SVR</td>\n",
       "      <td>-14.4199</td>\n",
       "      <td>-2.36435</td>\n",
       "      <td>0.489136</td>\n",
       "      <td>4.34444</td>\n",
       "      <td>40</td>\n",
       "      <td>0.1</td>\n",
       "      <td>rbf</td>\n",
       "      <td>NaN</td>\n",
       "    </tr>\n",
       "    <tr>\n",
       "      <th>30</th>\n",
       "      <td>SVR</td>\n",
       "      <td>-15.5379</td>\n",
       "      <td>-2.40221</td>\n",
       "      <td>0.491685</td>\n",
       "      <td>4.62704</td>\n",
       "      <td>30</td>\n",
       "      <td>0.1</td>\n",
       "      <td>rbf</td>\n",
       "      <td>NaN</td>\n",
       "    </tr>\n",
       "    <tr>\n",
       "      <th>25</th>\n",
       "      <td>SVR</td>\n",
       "      <td>-16.8362</td>\n",
       "      <td>-2.50267</td>\n",
       "      <td>0.492409</td>\n",
       "      <td>4.97367</td>\n",
       "      <td>20</td>\n",
       "      <td>0.1</td>\n",
       "      <td>rbf</td>\n",
       "      <td>NaN</td>\n",
       "    </tr>\n",
       "    <tr>\n",
       "      <th>20</th>\n",
       "      <td>SVR</td>\n",
       "      <td>-18.1449</td>\n",
       "      <td>-2.64002</td>\n",
       "      <td>0.593319</td>\n",
       "      <td>5.38317</td>\n",
       "      <td>10</td>\n",
       "      <td>0.1</td>\n",
       "      <td>rbf</td>\n",
       "      <td>NaN</td>\n",
       "    </tr>\n",
       "    <tr>\n",
       "      <th>5</th>\n",
       "      <td>SVR</td>\n",
       "      <td>-33.5436</td>\n",
       "      <td>-4.51632</td>\n",
       "      <td>0.709894</td>\n",
       "      <td>9.78434</td>\n",
       "      <td>10</td>\n",
       "      <td>NaN</td>\n",
       "      <td>linear</td>\n",
       "      <td>NaN</td>\n",
       "    </tr>\n",
       "    <tr>\n",
       "      <th>6</th>\n",
       "      <td>SVR</td>\n",
       "      <td>-33.5215</td>\n",
       "      <td>-4.61838</td>\n",
       "      <td>0.730729</td>\n",
       "      <td>9.75267</td>\n",
       "      <td>30</td>\n",
       "      <td>NaN</td>\n",
       "      <td>linear</td>\n",
       "      <td>NaN</td>\n",
       "    </tr>\n",
       "  </tbody>\n",
       "</table>\n",
       "</div>"
      ],
      "text/plain": [
       "       estimator  min_score  mean_score  max_score  std_score    C   gamma  \\\n",
       "32           SVR  -0.498523   0.0321473   0.416344     0.2158   40  0.0001   \n",
       "37           SVR   -0.62239   0.0317421    0.47422   0.260206   50  0.0001   \n",
       "13           SVR  -0.621387   0.0317064   0.473894   0.259846    5   0.001   \n",
       "27           SVR  -0.374299   0.0291626   0.328704    0.16597   30  0.0001   \n",
       "22           SVR  -0.247183   0.0255942     0.2301   0.113148   20  0.0001   \n",
       "17           SVR  -0.127033   0.0149769   0.129502  0.0606043   10  0.0001   \n",
       "8            SVR    -0.1266   0.0148968   0.128834  0.0603578    1   0.001   \n",
       "12           SVR -0.0612442  0.00999065  0.0759484  0.0324261    5  0.0001   \n",
       "7            SVR -0.0118853  0.00246785  0.0173036  0.0068765    1  0.0001   \n",
       "9            SVR   -1.21769  0.00236644   0.588368   0.447092    1    0.01   \n",
       "18           SVR   -1.25788  0.00170813   0.608044   0.461228   10   0.001   \n",
       "23           SVR   -2.79374   -0.147861   0.705923   0.913961   20   0.001   \n",
       "28           SVR   -3.44211   -0.233291   0.697867    1.10018   30   0.001   \n",
       "33           SVR   -3.57598   -0.270056   0.664822    1.13566   40   0.001   \n",
       "10           SVR   -3.53541   -0.290038   0.550623    1.11651    1     0.1   \n",
       "14           SVR   -3.88023   -0.313541   0.643236    1.22149    5    0.01   \n",
       "38           SVR   -3.95282   -0.325345   0.634185     1.2406   50   0.001   \n",
       "19           SVR   -4.16895   -0.407357   0.562946     1.2929   10    0.01   \n",
       "3   RandomForest   -3.04978   -0.459931   0.495685   0.931572  NaN     NaN   \n",
       "11           SVR   -2.93568    -0.56773   0.301044    1.18447    1       1   \n",
       "1   RandomForest   -5.41812   -0.671496   0.960235    1.67195  NaN     NaN   \n",
       "2   RandomForest    -2.6094   -0.692155   0.360599    1.00557  NaN     NaN   \n",
       "24           SVR   -4.99687   -0.697919   0.314573    1.48058   20    0.01   \n",
       "16           SVR   -4.41531   -0.867022   0.413099    1.66564    5       1   \n",
       "21           SVR    -4.7511   -0.912969   0.447855    1.71321   10       1   \n",
       "41           SVR   -4.03264   -0.921169   0.505592    1.49461   50       1   \n",
       "29           SVR    -5.1491   -0.930942   0.359511    1.52664   30    0.01   \n",
       "0   RandomForest   -3.52314   -0.940619   0.191018     1.1102  NaN     NaN   \n",
       "26           SVR   -4.72585   -0.941238   0.483289     1.6765   20       1   \n",
       "36           SVR   -4.33466   -0.952731   0.505691    1.56062   40       1   \n",
       "31           SVR   -4.64705   -0.972932   0.493404     1.6392   30       1   \n",
       "34           SVR   -5.09095    -1.11982     0.3978    1.62017   40    0.01   \n",
       "4            SVR   -4.93512    -1.16365   0.371904    1.55584    1     NaN   \n",
       "39           SVR   -4.83993    -1.25498   0.431175    1.70605   50    0.01   \n",
       "15           SVR   -6.53188    -1.40498   0.454143    2.23825    5     0.1   \n",
       "40           SVR   -13.3046    -2.35479   0.484826    4.07971   50     0.1   \n",
       "35           SVR   -14.4199    -2.36435   0.489136    4.34444   40     0.1   \n",
       "30           SVR   -15.5379    -2.40221   0.491685    4.62704   30     0.1   \n",
       "25           SVR   -16.8362    -2.50267   0.492409    4.97367   20     0.1   \n",
       "20           SVR   -18.1449    -2.64002   0.593319    5.38317   10     0.1   \n",
       "5            SVR   -33.5436    -4.51632   0.709894    9.78434   10     NaN   \n",
       "6            SVR   -33.5215    -4.61838   0.730729    9.75267   30     NaN   \n",
       "\n",
       "    kernel n_estimators  \n",
       "32     rbf          NaN  \n",
       "37     rbf          NaN  \n",
       "13     rbf          NaN  \n",
       "27     rbf          NaN  \n",
       "22     rbf          NaN  \n",
       "17     rbf          NaN  \n",
       "8      rbf          NaN  \n",
       "12     rbf          NaN  \n",
       "7      rbf          NaN  \n",
       "9      rbf          NaN  \n",
       "18     rbf          NaN  \n",
       "23     rbf          NaN  \n",
       "28     rbf          NaN  \n",
       "33     rbf          NaN  \n",
       "10     rbf          NaN  \n",
       "14     rbf          NaN  \n",
       "38     rbf          NaN  \n",
       "19     rbf          NaN  \n",
       "3      NaN           16  \n",
       "11     rbf          NaN  \n",
       "1      NaN            8  \n",
       "2      NaN           12  \n",
       "24     rbf          NaN  \n",
       "16     rbf          NaN  \n",
       "21     rbf          NaN  \n",
       "41     rbf          NaN  \n",
       "29     rbf          NaN  \n",
       "0      NaN            4  \n",
       "26     rbf          NaN  \n",
       "36     rbf          NaN  \n",
       "31     rbf          NaN  \n",
       "34     rbf          NaN  \n",
       "4   linear          NaN  \n",
       "39     rbf          NaN  \n",
       "15     rbf          NaN  \n",
       "40     rbf          NaN  \n",
       "35     rbf          NaN  \n",
       "30     rbf          NaN  \n",
       "25     rbf          NaN  \n",
       "20     rbf          NaN  \n",
       "5   linear          NaN  \n",
       "6   linear          NaN  "
      ]
     },
     "execution_count": 122,
     "metadata": {},
     "output_type": "execute_result"
    }
   ],
   "source": [
    "# Compare performance for estimators\n",
    "helper2.score_summary(sort_by='mean_score')"
   ]
  },
  {
   "cell_type": "code",
   "execution_count": 123,
   "metadata": {
    "ExecuteTime": {
     "end_time": "2018-11-02T01:15:41.548934Z",
     "start_time": "2018-11-02T01:15:41.204470Z"
    }
   },
   "outputs": [
    {
     "name": "stdout",
     "output_type": "stream",
     "text": [
      "{'estimator__C': 40, 'estimator__gamma': 0.0003}\n",
      "0.016344596124322503\n"
     ]
    }
   ],
   "source": [
    "# Pipeline/GridSearch to find best optimized model\n",
    "# after selecting ideal estimator\n",
    "\n",
    "# Pipeline\n",
    "estimator = SVR(kernel='rbf')\n",
    "prepipe = Pipeline([\n",
    "    ('scale', MinMaxScaler()),\n",
    "    ('estimator', estimator)\n",
    "])\n",
    "\n",
    "# Set parameter ranges for gridsearch\n",
    "cv=10\n",
    "n_jobs=3\n",
    "c_set=[30,35,40,35]\n",
    "gamma_set=[0.00003,0.0001,0.0003,0.001]\n",
    "\n",
    "# Gridsearch\n",
    "param_grid={'estimator__C': c_set,\n",
    "            'estimator__gamma': gamma_set\n",
    "           }\n",
    "grid_search=GridSearchCV(prepipe,param_grid,cv=cv,scoring='explained_variance', n_jobs=n_jobs, pre_dispatch=2*n_jobs)\n",
    "#grid_search.fit(XX,y_log)\n",
    "grid_search.fit(dim_red_source+.0001,np.log10(y_source))\n",
    "print(grid_search.best_params_)\n",
    "print(grid_search.best_score_)"
   ]
  },
  {
   "cell_type": "markdown",
   "metadata": {},
   "source": [
    "## Compare feature predictivity"
   ]
  },
  {
   "cell_type": "code",
   "execution_count": 252,
   "metadata": {
    "ExecuteTime": {
     "end_time": "2018-12-14T07:31:43.711222Z",
     "start_time": "2018-12-14T06:53:55.560149Z"
    }
   },
   "outputs": [
    {
     "name": "stdout",
     "output_type": "stream",
     "text": [
      "{'estimator__C': 1.7782794100389228, 'estimator__gamma': 0.05623413251903491}\n",
      "0.42191512779748075\n"
     ]
    },
    {
     "data": {
      "text/html": [
       "\n",
       "                <audio controls=\"controls\" autoplay=\"autoplay\">\n",
       "                    <source src=\"./data/Glass.wav\" type=\"audio/x-wav\" />\n",
       "                    Your browser does not support the audio element.\n",
       "                </audio>\n",
       "              "
      ],
      "text/plain": [
       "<IPython.lib.display.Audio object>"
      ]
     },
     "execution_count": 252,
     "metadata": {},
     "output_type": "execute_result"
    }
   ],
   "source": [
    "# SVC-RBF with WF bins\n",
    "    # Function features\n",
    "    # Accuracy\n",
    "\n",
    "from sklearn.pipeline import Pipeline\n",
    "from sklearn.model_selection import GridSearchCV\n",
    "from sklearn.svm import SVC\n",
    "\n",
    "# Pipeline\n",
    "estimator = SVC(kernel='rbf')\n",
    "prepipe = Pipeline([\n",
    "    ('scale', MinMaxScaler()),\n",
    "    ('estimator', estimator)\n",
    "])\n",
    "\n",
    "# Set parameter ranges for gridsearch\n",
    "cv=10\n",
    "n_jobs=3\n",
    "c_set=np.logspace(-1,4,5)\n",
    "gamma_set=np.logspace(-5,0,5)\n",
    "\n",
    "# Gridsearch\n",
    "param_grid={'estimator__C': c_set,\n",
    "            'estimator__gamma': gamma_set\n",
    "           }\n",
    "grid_search=GridSearchCV(prepipe,param_grid,cv=cv,scoring='accuracy', n_jobs=n_jobs, pre_dispatch=2*n_jobs)\n",
    "grid_search.fit(Xf_source+0.00001,bin_source)\n",
    "print(grid_search.best_params_)\n",
    "print(grid_search.best_score_)\n",
    "\n",
    "# Play sound when done running\n",
    "Audio(url=sound_file, autoplay=True)"
   ]
  },
  {
   "cell_type": "code",
   "execution_count": 253,
   "metadata": {
    "ExecuteTime": {
     "end_time": "2018-12-14T07:42:06.085819Z",
     "start_time": "2018-12-14T07:42:06.075111Z"
    }
   },
   "outputs": [
    {
     "data": {
      "text/plain": [
       "array([1.00000000e-01, 1.77827941e+00, 3.16227766e+01, 5.62341325e+02,\n",
       "       1.00000000e+04])"
      ]
     },
     "execution_count": 253,
     "metadata": {},
     "output_type": "execute_result"
    }
   ],
   "source": [
    "np.logspace(-1,4,5)"
   ]
  },
  {
   "cell_type": "code",
   "execution_count": 254,
   "metadata": {
    "ExecuteTime": {
     "end_time": "2018-12-14T08:15:14.297534Z",
     "start_time": "2018-12-14T07:44:14.175305Z"
    }
   },
   "outputs": [
    {
     "name": "stdout",
     "output_type": "stream",
     "text": [
      "{'estimator__C': 1.0, 'estimator__gamma': 1.0}\n",
      "0.4758468876115935\n"
     ]
    },
    {
     "data": {
      "text/html": [
       "\n",
       "                <audio controls=\"controls\" autoplay=\"autoplay\">\n",
       "                    <source src=\"./data/Glass.wav\" type=\"audio/x-wav\" />\n",
       "                    Your browser does not support the audio element.\n",
       "                </audio>\n",
       "              "
      ],
      "text/plain": [
       "<IPython.lib.display.Audio object>"
      ]
     },
     "execution_count": 254,
     "metadata": {},
     "output_type": "execute_result"
    }
   ],
   "source": [
    "# SVR-RBF with WF bins\n",
    "    # Product category features\n",
    "    # Accuracy\n",
    "\n",
    "from sklearn.pipeline import Pipeline\n",
    "from sklearn.model_selection import GridSearchCV\n",
    "from sklearn.svm import SVC\n",
    "\n",
    "# Pipeline\n",
    "estimator = SVC(kernel='rbf')\n",
    "prepipe = Pipeline([\n",
    "    ('scale', MinMaxScaler()),\n",
    "    ('estimator', estimator)\n",
    "])\n",
    "\n",
    "# Set parameter ranges for gridsearch\n",
    "cv=10\n",
    "n_jobs=3\n",
    "c_set=np.logspace(0,4,5)\n",
    "gamma_set=np.logspace(-5,0,5)\n",
    "\n",
    "# Gridsearch\n",
    "param_grid={'estimator__C': c_set,\n",
    "            'estimator__gamma': gamma_set\n",
    "           }\n",
    "grid_search=GridSearchCV(prepipe,param_grid,cv=cv,scoring='accuracy', n_jobs=n_jobs, pre_dispatch=2*n_jobs)\n",
    "grid_search.fit(Xp_source+0.00001,bin_source)\n",
    "print(grid_search.best_params_)\n",
    "print(grid_search.best_score_)\n",
    "\n",
    "# Play sound when done running\n",
    "Audio(url=sound_file, autoplay=True)"
   ]
  },
  {
   "cell_type": "code",
   "execution_count": 255,
   "metadata": {
    "ExecuteTime": {
     "end_time": "2018-12-14T09:18:12.177951Z",
     "start_time": "2018-12-14T08:27:28.310630Z"
    }
   },
   "outputs": [
    {
     "name": "stdout",
     "output_type": "stream",
     "text": [
      "{'estimator__C': 100.0, 'estimator__gamma': 0.00017782794100389227}\n",
      "0.5316742081447964\n"
     ]
    },
    {
     "data": {
      "text/html": [
       "\n",
       "                <audio controls=\"controls\" autoplay=\"autoplay\">\n",
       "                    <source src=\"./data/Glass.wav\" type=\"audio/x-wav\" />\n",
       "                    Your browser does not support the audio element.\n",
       "                </audio>\n",
       "              "
      ],
      "text/plain": [
       "<IPython.lib.display.Audio object>"
      ]
     },
     "execution_count": 255,
     "metadata": {},
     "output_type": "execute_result"
    }
   ],
   "source": [
    "# SVR-RBF with WF bins\n",
    "    # Chemical property features\n",
    "    # Accuracy\n",
    "\n",
    "from sklearn.pipeline import Pipeline\n",
    "from sklearn.model_selection import GridSearchCV\n",
    "from sklearn.svm import SVC\n",
    "\n",
    "# Pipeline\n",
    "estimator = SVC(kernel='rbf')\n",
    "prepipe = Pipeline([\n",
    "    ('scale', MinMaxScaler()),\n",
    "    ('estimator', estimator)\n",
    "])\n",
    "\n",
    "# Set parameter ranges for gridsearch\n",
    "cv=10\n",
    "n_jobs=3\n",
    "c_set=np.logspace(0,4,5)\n",
    "gamma_set=np.logspace(-5,0,5)\n",
    "\n",
    "# Gridsearch\n",
    "param_grid={'estimator__C': c_set,\n",
    "            'estimator__gamma': gamma_set\n",
    "           }\n",
    "grid_search=GridSearchCV(prepipe,param_grid,cv=cv,scoring='accuracy', n_jobs=n_jobs, pre_dispatch=2*n_jobs)\n",
    "grid_search.fit(Xc_source+0.00001,bin_source)\n",
    "print(grid_search.best_params_)\n",
    "print(grid_search.best_score_)\n",
    "\n",
    "# Play sound when done running\n",
    "Audio(url=sound_file, autoplay=True)"
   ]
  },
  {
   "cell_type": "code",
   "execution_count": 113,
   "metadata": {
    "ExecuteTime": {
     "end_time": "2018-10-29T05:34:34.768195Z",
     "start_time": "2018-10-29T05:34:28.914075Z"
    }
   },
   "outputs": [
    {
     "name": "stdout",
     "output_type": "stream",
     "text": [
      "{'estimator__C': 0.7847599703514611, 'estimator__gamma': 0.4832930238571752}\n",
      "0.4878048780487805\n"
     ]
    },
    {
     "data": {
      "text/html": [
       "\n",
       "                <audio controls=\"controls\" autoplay=\"autoplay\">\n",
       "                    <source src=\"./data/Glass.wav\" type=\"audio/x-wav\" />\n",
       "                    Your browser does not support the audio element.\n",
       "                </audio>\n",
       "              "
      ],
      "text/plain": [
       "<IPython.lib.display.Audio object>"
      ]
     },
     "execution_count": 113,
     "metadata": {},
     "output_type": "execute_result"
    }
   ],
   "source": [
    "# SVR-RBF with WF bins\n",
    "    # Product matrix features\n",
    "    # Accuracy\n",
    "\n",
    "from sklearn.pipeline import Pipeline\n",
    "from sklearn.model_selection import GridSearchCV\n",
    "from sklearn.svm import SVC\n",
    "\n",
    "# Pipeline\n",
    "estimator = SVC(kernel='rbf')\n",
    "prepipe = Pipeline([\n",
    "    ('scale', MinMaxScaler()),\n",
    "    ('estimator', estimator)\n",
    "])\n",
    "\n",
    "# Set parameter ranges for gridsearch\n",
    "cv=10\n",
    "n_jobs=3\n",
    "c_set=np.logspace(0,4,5)\n",
    "gamma_set=np.logspace(-5,0,5)\n",
    "\n",
    "# Gridsearch\n",
    "param_grid={'estimator__C': c_set,\n",
    "            'estimator__gamma': gamma_set\n",
    "           }\n",
    "grid_search=GridSearchCV(prepipe,param_grid,cv=cv,scoring='accuracy', n_jobs=n_jobs, pre_dispatch=2*n_jobs)\n",
    "grid_search.fit(Xm_source+0.00001,bin_source)\n",
    "print(grid_search.best_params_)\n",
    "print(grid_search.best_score_)\n",
    "\n",
    "# Play sound when done running\n",
    "Audio(url=sound_file, autoplay=True)"
   ]
  },
  {
   "cell_type": "markdown",
   "metadata": {},
   "source": [
    "## PCA, WF Bins"
   ]
  },
  {
   "cell_type": "code",
   "execution_count": 108,
   "metadata": {
    "ExecuteTime": {
     "end_time": "2018-10-29T04:35:42.198005Z",
     "start_time": "2018-10-29T04:35:38.207571Z"
    }
   },
   "outputs": [
    {
     "name": "stdout",
     "output_type": "stream",
     "text": [
      "{'estimator__C': 14.38449888287663, 'estimator__gamma': 0.012742749857031322}\n",
      "0.6463414634146342\n"
     ]
    },
    {
     "data": {
      "text/html": [
       "\n",
       "                <audio controls=\"controls\" autoplay=\"autoplay\">\n",
       "                    <source src=\"./data/Glass.wav\" type=\"audio/x-wav\" />\n",
       "                    Your browser does not support the audio element.\n",
       "                </audio>\n",
       "              "
      ],
      "text/plain": [
       "<IPython.lib.display.Audio object>"
      ]
     },
     "execution_count": 108,
     "metadata": {},
     "output_type": "execute_result"
    }
   ],
   "source": [
    "# SVR-RBF with all features, normalized\n",
    "    # ENM weight fractions (PCA)\n",
    "    # Accuracy\n",
    "\n",
    "from sklearn.pipeline import Pipeline\n",
    "from sklearn.model_selection import GridSearchCV\n",
    "from sklearn.svm import SVC\n",
    "\n",
    "# Pipeline\n",
    "estimator = SVC(kernel='rbf',class_weight=None)\n",
    "prepipe = Pipeline([\n",
    "#    ('scale', MinMaxScaler()),\n",
    "    ('estimator', estimator)\n",
    "])\n",
    "\n",
    "# Set parameter ranges for gridsearch\n",
    "cv=10\n",
    "n_jobs=3\n",
    "c_set=np.logspace(-2,4,20)\n",
    "gamma_set=np.logspace(-6,0,20)\n",
    "\n",
    "# Gridsearch\n",
    "param_grid={'estimator__C': c_set,\n",
    "            'estimator__gamma': gamma_set\n",
    "           }\n",
    "grid_search=GridSearchCV(prepipe,param_grid,cv=cv,scoring='accuracy', n_jobs=n_jobs, pre_dispatch=2*n_jobs)\n",
    "grid_search.fit(dim_red_source,bin_source)\n",
    "print(grid_search.best_params_)\n",
    "print(grid_search.best_score_)\n",
    "\n",
    "# Play sound when done running\n",
    "Audio(url=sound_file, autoplay=True)"
   ]
  },
  {
   "cell_type": "code",
   "execution_count": 109,
   "metadata": {
    "ExecuteTime": {
     "end_time": "2018-10-29T04:38:08.337642Z",
     "start_time": "2018-10-29T04:38:04.037837Z"
    }
   },
   "outputs": [
    {
     "name": "stdout",
     "output_type": "stream",
     "text": [
      "{'estimator__C': 0.7847599703514611, 'estimator__gamma': 0.11288378916846883}\n",
      "0.31160725453408383\n"
     ]
    },
    {
     "data": {
      "text/html": [
       "\n",
       "                <audio controls=\"controls\" autoplay=\"autoplay\">\n",
       "                    <source src=\"./data/Glass.wav\" type=\"audio/x-wav\" />\n",
       "                    Your browser does not support the audio element.\n",
       "                </audio>\n",
       "              "
      ],
      "text/plain": [
       "<IPython.lib.display.Audio object>"
      ]
     },
     "execution_count": 109,
     "metadata": {},
     "output_type": "execute_result"
    }
   ],
   "source": [
    "# SVR-RBF with all features, normalized\n",
    "    # ENM weight fractions (PCA)\n",
    "    # Explained variance\n",
    "\n",
    "from sklearn.pipeline import Pipeline\n",
    "from sklearn.model_selection import GridSearchCV\n",
    "from sklearn.svm import SVC\n",
    "\n",
    "# Pipeline\n",
    "estimator = SVC(kernel='rbf',class_weight=None)\n",
    "prepipe = Pipeline([\n",
    "#    ('scale', MinMaxScaler()),\n",
    "    ('estimator', estimator)\n",
    "])\n",
    "\n",
    "# Set parameter ranges for gridsearch\n",
    "cv=10\n",
    "n_jobs=3\n",
    "c_set=np.logspace(-2,4,20)\n",
    "gamma_set=np.logspace(-6,0,20)\n",
    "\n",
    "# Gridsearch\n",
    "param_grid={'estimator__C': c_set,\n",
    "            'estimator__gamma': gamma_set\n",
    "           }\n",
    "grid_search=GridSearchCV(prepipe,param_grid,cv=cv,scoring='explained_variance', n_jobs=n_jobs, pre_dispatch=2*n_jobs)\n",
    "grid_search.fit(dim_red_source,bin_source)\n",
    "print(grid_search.best_params_)\n",
    "print(grid_search.best_score_)\n",
    "\n",
    "# Play sound when done running\n",
    "Audio(url=sound_file, autoplay=True)"
   ]
  },
  {
   "cell_type": "code",
   "execution_count": 507,
   "metadata": {
    "ExecuteTime": {
     "end_time": "2018-08-03T18:54:28.108013Z",
     "start_time": "2018-08-03T18:54:28.070613Z"
    }
   },
   "outputs": [
    {
     "data": {
      "text/plain": [
       "Pipeline(memory=None,\n",
       "     steps=[('scale', MinMaxScaler(copy=True, feature_range=(0, 1))), ('estimator', SVC(C=3, cache_size=200, class_weight=None, coef0=0.0,\n",
       "  decision_function_shape='ovr', degree=3, gamma=0.1, kernel='rbf',\n",
       "  max_iter=-1, probability=False, random_state=None, shrinking=True,\n",
       "  tol=0.001, verbose=False))])"
      ]
     },
     "execution_count": 507,
     "metadata": {},
     "output_type": "execute_result"
    }
   ],
   "source": [
    "# Final pipeline\n",
    "bestpipe = Pipeline([\n",
    "    ('scale', MinMaxScaler()),\n",
    "    ('estimator', SVC(kernel='rbf', C=3, gamma=0.1))\n",
    "     ])\n",
    "bestpipe.fit(XX_source,bin_source)"
   ]
  },
  {
   "cell_type": "code",
   "execution_count": 513,
   "metadata": {
    "ExecuteTime": {
     "end_time": "2018-08-03T18:57:42.645897Z",
     "start_time": "2018-08-03T18:57:42.638034Z"
    }
   },
   "outputs": [
    {
     "name": "stdout",
     "output_type": "stream",
     "text": [
      "(55,)\n"
     ]
    }
   ],
   "source": [
    "# Predictions for ENM WF\n",
    "y_source_predict=bestpipe.predict(XX_source) "
   ]
  },
  {
   "cell_type": "code",
   "execution_count": 515,
   "metadata": {
    "ExecuteTime": {
     "end_time": "2018-08-03T19:15:35.044805Z",
     "start_time": "2018-08-03T19:15:35.017228Z"
    }
   },
   "outputs": [
    {
     "data": {
      "text/plain": [
       "0.81818181818181823"
      ]
     },
     "execution_count": 515,
     "metadata": {},
     "output_type": "execute_result"
    }
   ],
   "source": [
    "# Accuracy score of model\n",
    "from sklearn.metrics import accuracy_score\n",
    "accuracy_score(bin_source, y_source_predict, normalize=True, sample_weight=None)"
   ]
  },
  {
   "cell_type": "code",
   "execution_count": 155,
   "metadata": {
    "ExecuteTime": {
     "end_time": "2018-09-03T17:37:56.514501Z",
     "start_time": "2018-09-03T17:37:56.474856Z"
    },
    "collapsed": true
   },
   "outputs": [],
   "source": [
    "# Make a confusion matrix to summarize accuracy across labels\n",
    "from sklearn.metrics import confusion_matrix\n",
    "import itertools\n",
    "\n",
    "def plot_confusion_matrix(cm, classes,\n",
    "                          normalize=False,\n",
    "                          title='Confusion matrix',\n",
    "                          cmap=plt.cm.Blues):\n",
    "    \"\"\"\n",
    "    This function prints and plots the confusion matrix.\n",
    "    Normalization can be applied by setting `normalize=True`.\n",
    "    \"\"\"\n",
    "    if normalize:\n",
    "        cm = cm.astype('float') / cm.sum(axis=1)[:, np.newaxis]\n",
    "        print(\"Normalized confusion matrix\")\n",
    "    else:\n",
    "        print('Confusion matrix, without normalization')\n",
    "\n",
    "    print(cm)\n",
    "\n",
    "    plt.imshow(cm, interpolation='nearest', cmap=cmap)\n",
    "    plt.title(title)\n",
    "    plt.colorbar()\n",
    "    tick_marks = np.arange(len(classes))\n",
    "    plt.xticks(tick_marks, classes, rotation=45)\n",
    "    plt.yticks(tick_marks, classes)\n",
    "\n",
    "    fmt = '.2f' if normalize else 'd'\n",
    "    thresh = cm.max() / 2.\n",
    "    for i, j in itertools.product(range(cm.shape[0]), range(cm.shape[1])):\n",
    "        plt.text(j, i, format(cm[i, j], fmt),\n",
    "                 horizontalalignment=\"center\",\n",
    "                 color=\"white\" if cm[i, j] > thresh else \"black\")\n",
    "    plt.tight_layout()\n",
    "    plt.ylabel('True label')\n",
    "    plt.xlabel('Predicted label')"
   ]
  },
  {
   "cell_type": "code",
   "execution_count": 556,
   "metadata": {
    "ExecuteTime": {
     "end_time": "2018-08-10T19:09:17.644994Z",
     "start_time": "2018-08-10T19:09:17.260126Z"
    }
   },
   "outputs": [
    {
     "name": "stdout",
     "output_type": "stream",
     "text": [
      "Confusion matrix, without normalization\n",
      "[[31  1  0]\n",
      " [ 4 10  0]\n",
      " [ 2  3  4]]\n",
      "Normalized confusion matrix\n",
      "[[ 0.97  0.03  0.  ]\n",
      " [ 0.29  0.71  0.  ]\n",
      " [ 0.22  0.33  0.44]]\n"
     ]
    },
    {
     "data": {
      "image/png": "[encoded data removed]",
      "text/plain": [
       "<matplotlib.figure.Figure at 0x11c0d4f60>"
      ]
     },
     "metadata": {},
     "output_type": "display_data"
    },
    {
     "data": {
      "image/png": "[encoded data removed]",
      "text/plain": [
       "<matplotlib.figure.Figure at 0x1a51207fd0>"
      ]
     },
     "metadata": {},
     "output_type": "display_data"
    }
   ],
   "source": [
    "# Define confusion matrix\n",
    "cnf_matrix = confusion_matrix(bin_source, y_source_predict)\n",
    "\n",
    "np.set_printoptions(precision=2)\n",
    "class_names=[\"low\",\"mid\",\"high\"]\n",
    "\n",
    "# Plot non-normalized confusion matrix\n",
    "plt.figure()\n",
    "plot_confusion_matrix(cnf_matrix, classes=class_names,\n",
    "                      title='Confusion matrix, without normalization')\n",
    "# Plot normalized confusion matrix\n",
    "plt.figure()\n",
    "plot_confusion_matrix(cnf_matrix, classes=class_names, normalize=True,\n",
    "                      title='Normalized confusion matrix')\n",
    "\n",
    "plt.show()"
   ]
  },
  {
   "cell_type": "markdown",
   "metadata": {
    "collapsed": true
   },
   "source": [
    "## NEW ENM Model (Clusters)"
   ]
  },
  {
   "cell_type": "code",
   "execution_count": 124,
   "metadata": {
    "ExecuteTime": {
     "end_time": "2018-11-02T01:16:37.318555Z",
     "start_time": "2018-11-02T01:16:29.735221Z"
    }
   },
   "outputs": [
    {
     "name": "stdout",
     "output_type": "stream",
     "text": [
      "{'estimator__C': 61.584821106602604, 'estimator__gamma': 0.012742749857031322}\n",
      "0.6219512195121951\n",
      "accuracy\n"
     ]
    },
    {
     "data": {
      "text/html": [
       "\n",
       "                <audio controls=\"controls\" autoplay=\"autoplay\">\n",
       "                    <source src=\"./data/Glass.wav\" type=\"audio/x-wav\" />\n",
       "                    Your browser does not support the audio element.\n",
       "                </audio>\n",
       "              "
      ],
      "text/plain": [
       "<IPython.lib.display.Audio object>"
      ]
     },
     "execution_count": 124,
     "metadata": {},
     "output_type": "execute_result"
    }
   ],
   "source": [
    "# SVR-RBF with all features, normalized\n",
    "    # ENM weight fractions\n",
    "    # Accuracy\n",
    "\n",
    "from sklearn.pipeline import Pipeline\n",
    "from sklearn.model_selection import GridSearchCV\n",
    "from sklearn.svm import SVC\n",
    "\n",
    "# Pipeline\n",
    "estimator = SVC(kernel='rbf',class_weight='balanced')\n",
    "prepipe = Pipeline([\n",
    "    ('scale', MinMaxScaler()),\n",
    "    ('estimator', estimator)\n",
    "])\n",
    "\n",
    "# Set parameter ranges for gridsearch\n",
    "cv=10\n",
    "n_jobs=3\n",
    "c_set=np.logspace(-2,4,20)\n",
    "gamma_set=np.logspace(-6,0,20)\n",
    "\n",
    "# Gridsearch\n",
    "param_grid={'estimator__C': c_set,\n",
    "            'estimator__gamma': gamma_set\n",
    "           }\n",
    "grid_search=GridSearchCV(prepipe,param_grid,cv=cv,scoring='accuracy', n_jobs=n_jobs, pre_dispatch=2*n_jobs)\n",
    "grid_search.fit(XX_source,bin_source) #dim_red_source\n",
    "print(grid_search.best_params_)\n",
    "print(grid_search.best_score_)\n",
    "print(grid_search.scoring)\n",
    "\n",
    "# Play sound when done running\n",
    "Audio(url=sound_file, autoplay=True)"
   ]
  },
  {
   "cell_type": "markdown",
   "metadata": {
    "ExecuteTime": {
     "end_time": "2018-10-22T17:34:55.421515Z",
     "start_time": "2018-10-22T17:34:55.417186Z"
    },
    "collapsed": true
   },
   "source": [
    "Essentially leave one out cross validation, slight biases, might be overfitting"
   ]
  },
  {
   "cell_type": "code",
   "execution_count": 125,
   "metadata": {
    "ExecuteTime": {
     "end_time": "2018-11-02T01:18:06.526039Z",
     "start_time": "2018-11-02T01:18:06.518865Z"
    },
    "collapsed": true
   },
   "outputs": [],
   "source": [
    "# Final pipeline\n",
    "bestpipe = Pipeline([\n",
    "    ('scale', MinMaxScaler()),\n",
    "    ('estimator', SVC(kernel='rbf',class_weight='balanced', C=61.584821, gamma=0.01274275))\n",
    "     ])"
   ]
  },
  {
   "cell_type": "code",
   "execution_count": 126,
   "metadata": {
    "ExecuteTime": {
     "end_time": "2018-11-02T01:18:13.381782Z",
     "start_time": "2018-11-02T01:18:13.342606Z"
    },
    "collapsed": true
   },
   "outputs": [],
   "source": [
    "# Make a confusion matrix to summarize accuracy across labels\n",
    "from sklearn.metrics import confusion_matrix\n",
    "import itertools\n",
    "\n",
    "def plot_confusion_matrix(cm, classes,\n",
    "                          normalize=False,\n",
    "                          title='Confusion matrix',\n",
    "                          cmap=plt.cm.Blues):\n",
    "    \"\"\"\n",
    "    This function prints and plots the confusion matrix.\n",
    "    Normalization can be applied by setting `normalize=True`.\n",
    "    \"\"\"\n",
    "    if normalize:\n",
    "        cm = cm.astype('float') / cm.sum(axis=1)[:, np.newaxis]\n",
    "        print(\"Normalized confusion matrix\")\n",
    "    else:\n",
    "        print('Confusion matrix, without normalization')\n",
    "\n",
    "    print(cm)\n",
    "\n",
    "    plt.imshow(cm, interpolation='nearest', cmap=cmap)\n",
    "    plt.title(title)\n",
    "    plt.colorbar()\n",
    "    tick_marks = np.arange(len(classes))\n",
    "    plt.xticks(tick_marks, classes, rotation=45)\n",
    "    plt.yticks(tick_marks, classes)\n",
    "\n",
    "    fmt = '.2f' if normalize else 'd'\n",
    "    thresh = cm.max() / 2.\n",
    "    for i, j in itertools.product(range(cm.shape[0]), range(cm.shape[1])):\n",
    "        plt.text(j, i, format(cm[i, j], fmt),\n",
    "                 horizontalalignment=\"center\",\n",
    "                 color=\"white\" if cm[i, j] > thresh else \"black\")\n",
    "    plt.tight_layout()\n",
    "    plt.ylabel('True label')\n",
    "    plt.xlabel('Predicted label')"
   ]
  },
  {
   "cell_type": "code",
   "execution_count": 127,
   "metadata": {
    "ExecuteTime": {
     "end_time": "2018-11-02T01:18:17.028478Z",
     "start_time": "2018-11-02T01:18:16.975036Z"
    },
    "collapsed": true
   },
   "outputs": [],
   "source": [
    "from sklearn import model_selection\n",
    "kfold = model_selection.StratifiedKFold(n_splits=17,shuffle=True)\n",
    "cnf_matrix2=np.zeros([3,3])\n",
    "X=np.array(XX_source)\n",
    "y=np.array(bin_source)\n",
    "for train_index,test_index in kfold.split(X,y):\n",
    "    X_train, X_test = X[train_index], X[test_index]\n",
    "    y_train, y_test = y[train_index], y[test_index]\n",
    "    bestpipe.fit(X_train,y_train)\n",
    "    y_source_predict=bestpipe.predict(X_test)\n",
    "    y[test_index]=y_source_predict\n",
    "    cnf_matrix2+= confusion_matrix(y_test, y_source_predict);"
   ]
  },
  {
   "cell_type": "code",
   "execution_count": 128,
   "metadata": {
    "ExecuteTime": {
     "end_time": "2018-11-02T01:18:17.938230Z",
     "start_time": "2018-11-02T01:18:17.934112Z"
    },
    "collapsed": true
   },
   "outputs": [],
   "source": [
    "cnf_matrix=cnf_matrix2.astype(np.int)"
   ]
  },
  {
   "cell_type": "code",
   "execution_count": 129,
   "metadata": {
    "ExecuteTime": {
     "end_time": "2018-11-02T01:18:26.723620Z",
     "start_time": "2018-11-02T01:18:26.350702Z"
    }
   },
   "outputs": [
    {
     "name": "stdout",
     "output_type": "stream",
     "text": [
      "Confusion matrix, without normalization\n",
      "[[29  2  5]\n",
      " [11 15  3]\n",
      " [ 3  2 12]]\n",
      "Normalized confusion matrix\n",
      "[[0.81 0.06 0.14]\n",
      " [0.38 0.52 0.1 ]\n",
      " [0.18 0.12 0.71]]\n"
     ]
    },
    {
     "data": {
      "image/png": "[encoded data removed]",
      "text/plain": [
       "<Figure size 432x288 with 2 Axes>"
      ]
     },
     "metadata": {},
     "output_type": "display_data"
    },
    {
     "data": {
      "image/png": "[encoded data removed]",
      "text/plain": [
       "<Figure size 432x288 with 2 Axes>"
      ]
     },
     "metadata": {},
     "output_type": "display_data"
    }
   ],
   "source": [
    "# Define confusion matrix\n",
    "cnf_matrix = confusion_matrix(bin_source, y)\n",
    "\n",
    "np.set_printoptions(precision=2)\n",
    "class_names=[\"low\",\"mid\",\"high\"]\n",
    "\n",
    "# Plot non-normalized confusion matrix\n",
    "plt.figure()\n",
    "plot_confusion_matrix(cnf_matrix, classes=class_names,\n",
    "                      title='Confusion matrix, without normalization')\n",
    "# Plot normalized confusion matrix\n",
    "plt.figure()\n",
    "plot_confusion_matrix(cnf_matrix, classes=class_names, normalize=True,\n",
    "                      title='Normalized confusion matrix')\n",
    "\n",
    "plt.show()"
   ]
  },
  {
   "cell_type": "markdown",
   "metadata": {
    "collapsed": true
   },
   "source": [
    "## NEW ENM Model (PCA)"
   ]
  },
  {
   "cell_type": "code",
   "execution_count": 130,
   "metadata": {
    "ExecuteTime": {
     "end_time": "2018-11-02T01:20:04.757558Z",
     "start_time": "2018-11-02T01:20:00.283826Z"
    }
   },
   "outputs": [
    {
     "name": "stdout",
     "output_type": "stream",
     "text": [
      "{'estimator__C': 0.37926901907322497, 'estimator__gamma': 0.11288378916846883}\n",
      "0.5975609756097561\n"
     ]
    },
    {
     "data": {
      "text/html": [
       "\n",
       "                <audio controls=\"controls\" autoplay=\"autoplay\">\n",
       "                    <source src=\"./data/Glass.wav\" type=\"audio/x-wav\" />\n",
       "                    Your browser does not support the audio element.\n",
       "                </audio>\n",
       "              "
      ],
      "text/plain": [
       "<IPython.lib.display.Audio object>"
      ]
     },
     "execution_count": 130,
     "metadata": {},
     "output_type": "execute_result"
    }
   ],
   "source": [
    "# SVR-RBF with all features, normalized\n",
    "    # ENM weight fractions\n",
    "    # Accuracy\n",
    "\n",
    "from sklearn.pipeline import Pipeline\n",
    "from sklearn.model_selection import GridSearchCV\n",
    "from sklearn.svm import SVC\n",
    "\n",
    "# Pipeline\n",
    "estimator = SVC(kernel='rbf',class_weight='balanced')\n",
    "prepipe = Pipeline([\n",
    "#    ('scale', MinMaxScaler()),\n",
    "    ('estimator', estimator)\n",
    "])\n",
    "\n",
    "# Set parameter ranges for gridsearch\n",
    "cv=10\n",
    "n_jobs=3\n",
    "c_set=np.logspace(-2,4,20)\n",
    "gamma_set=np.logspace(-6,0,20)\n",
    "\n",
    "# Gridsearch\n",
    "param_grid={'estimator__C': c_set,\n",
    "            'estimator__gamma': gamma_set\n",
    "           }\n",
    "grid_search=GridSearchCV(prepipe,param_grid,cv=cv,scoring='accuracy', n_jobs=n_jobs, pre_dispatch=2*n_jobs)\n",
    "grid_search.fit(dim_red_source,bin_source)\n",
    "print(grid_search.best_params_)\n",
    "print(grid_search.best_score_)\n",
    "\n",
    "# Play sound when done running\n",
    "Audio(url=sound_file, autoplay=True)"
   ]
  },
  {
   "cell_type": "code",
   "execution_count": 132,
   "metadata": {
    "ExecuteTime": {
     "end_time": "2018-11-02T01:20:49.903971Z",
     "start_time": "2018-11-02T01:20:49.891480Z"
    }
   },
   "outputs": [
    {
     "data": {
      "text/plain": [
       "Pipeline(memory=None,\n",
       "     steps=[('scale', MinMaxScaler(copy=True, feature_range=(0, 1))), ('estimator', SVC(C=0.379269, cache_size=200, class_weight='balanced', coef0=0.0,\n",
       "  decision_function_shape='ovr', degree=3, gamma=0.112884, kernel='rbf',\n",
       "  max_iter=-1, probability=False, random_state=None, shrinking=True,\n",
       "  tol=0.001, verbose=False))])"
      ]
     },
     "execution_count": 132,
     "metadata": {},
     "output_type": "execute_result"
    }
   ],
   "source": [
    "# Final pipeline\n",
    "bestpipe = Pipeline([\n",
    "    ('scale', MinMaxScaler()),\n",
    "    ('estimator', SVC(kernel='rbf',class_weight='balanced', C=0.379269, gamma=0.112884))\n",
    "     ])\n",
    "bestpipe.fit(dim_red_source,bin_source)"
   ]
  },
  {
   "cell_type": "code",
   "execution_count": 133,
   "metadata": {
    "ExecuteTime": {
     "end_time": "2018-11-02T01:20:59.741453Z",
     "start_time": "2018-11-02T01:20:59.690794Z"
    },
    "collapsed": true
   },
   "outputs": [],
   "source": [
    "from sklearn import model_selection\n",
    "kfold = model_selection.StratifiedKFold(n_splits=17,shuffle=True)\n",
    "cnf_matrix2=np.zeros([3,3])\n",
    "X=np.array(XX_source)\n",
    "y=np.array(bin_source)\n",
    "for train_index,test_index in kfold.split(X,y):\n",
    "    X_train, X_test = X[train_index], X[test_index]\n",
    "    y_train, y_test = y[train_index], y[test_index]\n",
    "    bestpipe.fit(X_train,y_train)\n",
    "    y_source_predict=bestpipe.predict(X_test)\n",
    "    y[test_index]=y_source_predict\n",
    "    cnf_matrix2+= confusion_matrix(y_test, y_source_predict);"
   ]
  },
  {
   "cell_type": "code",
   "execution_count": 134,
   "metadata": {
    "ExecuteTime": {
     "end_time": "2018-11-02T01:21:03.194118Z",
     "start_time": "2018-11-02T01:21:03.187933Z"
    },
    "collapsed": true
   },
   "outputs": [],
   "source": [
    "cnf_matrix=cnf_matrix2.astype(np.int)"
   ]
  },
  {
   "cell_type": "code",
   "execution_count": 135,
   "metadata": {
    "ExecuteTime": {
     "end_time": "2018-11-02T01:21:05.657161Z",
     "start_time": "2018-11-02T01:21:05.307881Z"
    }
   },
   "outputs": [
    {
     "name": "stdout",
     "output_type": "stream",
     "text": [
      "Confusion matrix, without normalization\n",
      "[[31  4  1]\n",
      " [13 13  3]\n",
      " [ 5  6  6]]\n",
      "Normalized confusion matrix\n",
      "[[0.86 0.11 0.03]\n",
      " [0.45 0.45 0.1 ]\n",
      " [0.29 0.35 0.35]]\n"
     ]
    },
    {
     "data": {
      "image/png": "[encoded data removed]",
      "text/plain": [
       "<Figure size 432x288 with 2 Axes>"
      ]
     },
     "metadata": {},
     "output_type": "display_data"
    },
    {
     "data": {
      "image/png": "[encoded data removed]",
      "text/plain": [
       "<Figure size 432x288 with 2 Axes>"
      ]
     },
     "metadata": {},
     "output_type": "display_data"
    }
   ],
   "source": [
    "# Define confusion matrix\n",
    "cnf_matrix = confusion_matrix(bin_source, y)\n",
    "\n",
    "np.set_printoptions(precision=2)\n",
    "class_names=[\"low\",\"mid\",\"high\"]\n",
    "\n",
    "# Plot non-normalized confusion matrix\n",
    "plt.figure()\n",
    "plot_confusion_matrix(cnf_matrix, classes=class_names,\n",
    "                      title='Confusion matrix, without normalization')\n",
    "# Plot normalized confusion matrix\n",
    "plt.figure()\n",
    "plot_confusion_matrix(cnf_matrix, classes=class_names, normalize=True,\n",
    "                      title='Normalized confusion matrix')\n",
    "\n",
    "plt.show()"
   ]
  },
  {
   "cell_type": "code",
   "execution_count": 153,
   "metadata": {
    "ExecuteTime": {
     "end_time": "2018-10-29T06:12:04.382935Z",
     "start_time": "2018-10-29T06:12:04.366219Z"
    }
   },
   "outputs": [
    {
     "ename": "ValueError",
     "evalue": "invalid number of arguments",
     "output_type": "error",
     "traceback": [
      "\u001b[0;31m---------------------------------------------------------------------------\u001b[0m",
      "\u001b[0;31mValueError\u001b[0m                                Traceback (most recent call last)",
      "\u001b[0;32m<ipython-input-153-3f7b1a3d7f9b>\u001b[0m in \u001b[0;36m<module>\u001b[0;34m()\u001b[0m\n\u001b[1;32m      1\u001b[0m \u001b[0;31m# TODO: correlation matrix of features vs\u001b[0m\u001b[0;34m\u001b[0m\u001b[0;34m\u001b[0m\u001b[0m\n\u001b[0;32m----> 2\u001b[0;31m \u001b[0menm_corr\u001b[0m \u001b[0;34m=\u001b[0m \u001b[0mpd\u001b[0m\u001b[0;34m.\u001b[0m\u001b[0mconcat\u001b[0m\u001b[0;34m(\u001b[0m\u001b[0mXX_enm\u001b[0m\u001b[0;34m,\u001b[0m\u001b[0my_enm\u001b[0m\u001b[0;34m.\u001b[0m\u001b[0mapply\u001b[0m\u001b[0;34m(\u001b[0m\u001b[0mnp\u001b[0m\u001b[0;34m.\u001b[0m\u001b[0mlog10\u001b[0m\u001b[0;34m(\u001b[0m\u001b[0;34m)\u001b[0m\u001b[0;34m,\u001b[0m \u001b[0maxis\u001b[0m\u001b[0;34m=\u001b[0m\u001b[0;36m1\u001b[0m\u001b[0;34m)\u001b[0m\u001b[0;34m)\u001b[0m \u001b[0;31m#np.log10(yarr_enm)\u001b[0m\u001b[0;34m\u001b[0m\u001b[0m\n\u001b[0m\u001b[1;32m      3\u001b[0m \u001b[0mplt\u001b[0m\u001b[0;34m.\u001b[0m\u001b[0mmatshow\u001b[0m\u001b[0;34m(\u001b[0m\u001b[0menm_corr\u001b[0m\u001b[0;34m.\u001b[0m\u001b[0mcorr\u001b[0m\u001b[0;34m(\u001b[0m\u001b[0;34m)\u001b[0m\u001b[0;34m)\u001b[0m\u001b[0;34m\u001b[0m\u001b[0m\n",
      "\u001b[0;31mValueError\u001b[0m: invalid number of arguments"
     ]
    }
   ],
   "source": [
    "# TODO: correlation matrix of features vs \n",
    "source_corr = pd.concat(XX_source,y_source.apply(np.log10(), axis=1)) #np.log10(y_source)\n",
    "plt.matshow(source_corr.corr())"
   ]
  },
  {
   "cell_type": "code",
   "execution_count": null,
   "metadata": {
    "collapsed": true
   },
   "outputs": [],
   "source": []
  }
 ],
 "metadata": {
  "kernelspec": {
   "display_name": "Python 3",
   "language": "python",
   "name": "python3"
  },
  "language_info": {
   "codemirror_mode": {
    "name": "ipython",
    "version": 3
   },
   "file_extension": ".py",
   "mimetype": "text/x-python",
   "name": "python",
   "nbconvert_exporter": "python",
   "pygments_lexer": "ipython3",
   "version": "3.7.3"
  },
  "toc": {
   "base_numbering": 1,
   "nav_menu": {},
   "number_sections": true,
   "sideBar": true,
   "skip_h1_title": false,
   "title_cell": "Table of Contents",
   "title_sidebar": "Contents",
   "toc_cell": true,
   "toc_position": {
    "height": "calc(100% - 180px)",
    "left": "10px",
    "top": "150px",
    "width": "165px"
   },
   "toc_section_display": true,
   "toc_window_display": true
  }
 },
 "nbformat": 4,
 "nbformat_minor": 2
}
