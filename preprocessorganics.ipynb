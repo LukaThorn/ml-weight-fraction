{
 "cells": [
  {
   "cell_type": "markdown",
   "metadata": {},
   "source": [
    "# Code setup"
   ]
  },
  {
   "cell_type": "code",
   "execution_count": 1,
   "metadata": {
    "execution": {
     "iopub.execute_input": "2021-11-11T00:15:56.341647Z",
     "iopub.status.busy": "2021-11-11T00:15:56.340694Z",
     "iopub.status.idle": "2021-11-11T00:15:56.630113Z",
     "shell.execute_reply": "2021-11-11T00:15:56.629428Z",
     "shell.execute_reply.started": "2021-11-11T00:15:56.341502Z"
    },
    "tags": []
   },
   "outputs": [],
   "source": [
    "try:\n",
    "    %load_ext lab_black\n",
    "except ModuleNotFoundError:\n",
    "    print(\"Couldn't load Black autoformatter.\")"
   ]
  },
  {
   "cell_type": "code",
   "execution_count": 2,
   "metadata": {
    "ExecuteTime": {
     "end_time": "2020-02-19T12:19:19.130656Z",
     "start_time": "2020-02-19T12:19:17.875115Z"
    },
    "execution": {
     "iopub.execute_input": "2021-11-11T00:15:57.140477Z",
     "iopub.status.busy": "2021-11-11T00:15:57.140166Z",
     "iopub.status.idle": "2021-11-11T00:15:57.855157Z",
     "shell.execute_reply": "2021-11-11T00:15:57.853421Z",
     "shell.execute_reply.started": "2021-11-11T00:15:57.140440Z"
    },
    "tags": []
   },
   "outputs": [],
   "source": [
    "# To suppress warning output\n",
    "import warnings\n",
    "\n",
    "# warnings.filterwarnings('ignore')\n",
    "# warnings.simplefilter('ignore')\n",
    "\n",
    "# Important imports\n",
    "import numpy as np\n",
    "from numpy import random\n",
    "import pandas as pd\n",
    "import os, sys\n",
    "\n",
    "# Set random seed across notebook for repeatable results\n",
    "np.random.seed(1922)"
   ]
  },
  {
   "cell_type": "code",
   "execution_count": 3,
   "metadata": {
    "ExecuteTime": {
     "end_time": "2020-02-19T12:19:20.182085Z",
     "start_time": "2020-02-19T12:19:19.925364Z"
    },
    "execution": {
     "iopub.execute_input": "2021-11-11T00:15:58.513425Z",
     "iopub.status.busy": "2021-11-11T00:15:58.511702Z",
     "iopub.status.idle": "2021-11-11T00:15:59.091909Z",
     "shell.execute_reply": "2021-11-11T00:15:59.086156Z",
     "shell.execute_reply.started": "2021-11-11T00:15:58.513386Z"
    },
    "tags": []
   },
   "outputs": [],
   "source": [
    "# To plot nice figures\n",
    "%matplotlib inline\n",
    "import matplotlib\n",
    "import matplotlib.pyplot as plt\n",
    "import matplotlib.cm as cm\n",
    "import matplotlib.image as mpimg\n",
    "from matplotlib.ticker import MultipleLocator\n",
    "\n",
    "plt.rcParams[\"font.family\"] = \"sans-serif\"\n",
    "plt.rcParams[\"font.sans-serif\"] = \"Helvetica\"\n",
    "plt.rcParams[\"axes.titlesize\"] = \"x-large\"  # 16\n",
    "plt.rcParams[\"axes.labelsize\"] = \"x-large\"\n",
    "plt.rcParams[\"xtick.labelsize\"] = \"x-large\"\n",
    "plt.rcParams[\"ytick.labelsize\"] = \"x-large\""
   ]
  },
  {
   "cell_type": "code",
   "execution_count": 4,
   "metadata": {
    "ExecuteTime": {
     "end_time": "2020-02-19T12:19:21.226725Z",
     "start_time": "2020-02-19T12:19:21.218287Z"
    },
    "execution": {
     "iopub.execute_input": "2021-11-11T00:15:59.328751Z",
     "iopub.status.busy": "2021-11-11T00:15:59.327956Z",
     "iopub.status.idle": "2021-11-11T00:15:59.365543Z",
     "shell.execute_reply": "2021-11-11T00:15:59.362650Z",
     "shell.execute_reply.started": "2021-11-11T00:15:59.328701Z"
    },
    "tags": []
   },
   "outputs": [
    {
     "name": "stdout",
     "output_type": "stream",
     "text": [
      "Figure directory exists.\n"
     ]
    }
   ],
   "source": [
    "# Where to save the figures\n",
    "PROJECT_ROOT_DIR = \".\"\n",
    "PROJECT_SAVE_DIR = \"figs\"\n",
    "\n",
    "if not (os.path.isdir(PROJECT_ROOT_DIR + \"/\" + PROJECT_SAVE_DIR)):\n",
    "    print(\"Figure directory did not exist, creating now.\")\n",
    "    os.mkdir(PROJECT_ROOT_DIR + \"/\" + PROJECT_SAVE_DIR)\n",
    "else:\n",
    "    print(\"Figure directory exists.\")"
   ]
  },
  {
   "cell_type": "code",
   "execution_count": 40,
   "metadata": {
    "ExecuteTime": {
     "end_time": "2020-02-19T12:19:24.112158Z",
     "start_time": "2020-02-19T12:19:22.056658Z"
    },
    "execution": {
     "iopub.execute_input": "2021-11-11T01:09:22.523019Z",
     "iopub.status.busy": "2021-11-11T01:09:22.520134Z",
     "iopub.status.idle": "2021-11-11T01:09:23.194122Z",
     "shell.execute_reply": "2021-11-11T01:09:23.191967Z",
     "shell.execute_reply.started": "2021-11-11T01:09:22.522891Z"
    },
    "tags": []
   },
   "outputs": [
    {
     "name": "stdout",
     "output_type": "stream",
     "text": [
      "The lab_black extension is already loaded. To reload it, use:\n",
      "  %reload_ext lab_black\n",
      "Figure directory exists.\n"
     ]
    },
    {
     "data": {
      "text/plain": [
       "<module 'functions' from '/Users/blt/Documents/ml-weight-fraction/functions.py'>"
      ]
     },
     "execution_count": 40,
     "metadata": {},
     "output_type": "execute_result"
    }
   ],
   "source": [
    "# Import classes and functions used across multiple notebooks\n",
    "sys.path.append(os.getcwd())\n",
    "import importlib\n",
    "import functions as blt\n",
    "\n",
    "importlib.reload(blt)"
   ]
  },
  {
   "cell_type": "markdown",
   "metadata": {},
   "source": [
    "# Data"
   ]
  },
  {
   "cell_type": "markdown",
   "metadata": {},
   "source": [
    "## Read items from ENM preprocessing"
   ]
  },
  {
   "cell_type": "markdown",
   "metadata": {},
   "source": [
    "These will be used to help shape the organics data frame."
   ]
  },
  {
   "cell_type": "code",
   "execution_count": 6,
   "metadata": {
    "ExecuteTime": {
     "end_time": "2020-02-19T12:19:27.356749Z",
     "start_time": "2020-02-19T12:19:27.350595Z"
    },
    "execution": {
     "iopub.execute_input": "2021-11-11T00:16:04.623083Z",
     "iopub.status.busy": "2021-11-11T00:16:04.622294Z",
     "iopub.status.idle": "2021-11-11T00:16:04.654912Z",
     "shell.execute_reply": "2021-11-11T00:16:04.649206Z",
     "shell.execute_reply.started": "2021-11-11T00:16:04.623046Z"
    },
    "tags": []
   },
   "outputs": [],
   "source": [
    "# Import data frame headings from target model (before pre-processing)\n",
    "enm_cols = []\n",
    "with open(\"./data/column-headers.txt\", \"r\") as filehandle:\n",
    "    for line in filehandle:\n",
    "        # Remove linebreak which is the last character of the string\n",
    "        currentCol = line[:-1]\n",
    "        # Add item to the list\n",
    "        enm_cols.append(currentCol)"
   ]
  },
  {
   "cell_type": "code",
   "execution_count": 7,
   "metadata": {
    "ExecuteTime": {
     "end_time": "2020-02-19T12:19:28.111731Z",
     "start_time": "2020-02-19T12:19:28.082604Z"
    },
    "execution": {
     "iopub.execute_input": "2021-11-11T00:16:05.387058Z",
     "iopub.status.busy": "2021-11-11T00:16:05.386434Z",
     "iopub.status.idle": "2021-11-11T00:16:05.466020Z",
     "shell.execute_reply": "2021-11-11T00:16:05.463356Z",
     "shell.execute_reply.started": "2021-11-11T00:16:05.386893Z"
    },
    "tags": []
   },
   "outputs": [
    {
     "data": {
      "text/html": [
       "<div>\n",
       "<style scoped>\n",
       "    .dataframe tbody tr th:only-of-type {\n",
       "        vertical-align: middle;\n",
       "    }\n",
       "\n",
       "    .dataframe tbody tr th {\n",
       "        vertical-align: top;\n",
       "    }\n",
       "\n",
       "    .dataframe thead th {\n",
       "        text-align: right;\n",
       "    }\n",
       "</style>\n",
       "<table border=\"1\" class=\"dataframe\">\n",
       "  <thead>\n",
       "    <tr style=\"text-align: right;\">\n",
       "      <th></th>\n",
       "      <th>cprp_MW</th>\n",
       "      <th>cprp_MP</th>\n",
       "      <th>cprp_BP</th>\n",
       "      <th>cprp_density</th>\n",
       "      <th>func_absorbent</th>\n",
       "      <th>func_antiadhesivecohesive</th>\n",
       "      <th>func_antioxidant</th>\n",
       "      <th>func_antiredepositionagent</th>\n",
       "      <th>func_biocide</th>\n",
       "      <th>func_brightener</th>\n",
       "      <th>...</th>\n",
       "      <th>pgrp_makeuprelated</th>\n",
       "      <th>pgrp_nutritionalsupplements</th>\n",
       "      <th>pgrp_paintstainrelated</th>\n",
       "      <th>pgrp_portableairprocessing</th>\n",
       "      <th>pgrp_sunscreen</th>\n",
       "      <th>pgrp_surfacesealers</th>\n",
       "      <th>pgrp_toys</th>\n",
       "      <th>mtrx_spray</th>\n",
       "      <th>mtrx_formulation</th>\n",
       "      <th>mtrx_WFmeasured</th>\n",
       "    </tr>\n",
       "  </thead>\n",
       "  <tbody>\n",
       "    <tr>\n",
       "      <th>0</th>\n",
       "      <td>79.867</td>\n",
       "      <td>1843.00</td>\n",
       "      <td>2972.0</td>\n",
       "      <td>4.230</td>\n",
       "      <td>0</td>\n",
       "      <td>0</td>\n",
       "      <td>0</td>\n",
       "      <td>1</td>\n",
       "      <td>0</td>\n",
       "      <td>0</td>\n",
       "      <td>...</td>\n",
       "      <td>0</td>\n",
       "      <td>0</td>\n",
       "      <td>1</td>\n",
       "      <td>0</td>\n",
       "      <td>0</td>\n",
       "      <td>0</td>\n",
       "      <td>0</td>\n",
       "      <td>0</td>\n",
       "      <td>1</td>\n",
       "      <td>0</td>\n",
       "    </tr>\n",
       "    <tr>\n",
       "      <th>1</th>\n",
       "      <td>63.546</td>\n",
       "      <td>1083.00</td>\n",
       "      <td>2567.0</td>\n",
       "      <td>8.960</td>\n",
       "      <td>0</td>\n",
       "      <td>0</td>\n",
       "      <td>1</td>\n",
       "      <td>0</td>\n",
       "      <td>1</td>\n",
       "      <td>0</td>\n",
       "      <td>...</td>\n",
       "      <td>0</td>\n",
       "      <td>1</td>\n",
       "      <td>0</td>\n",
       "      <td>0</td>\n",
       "      <td>0</td>\n",
       "      <td>0</td>\n",
       "      <td>0</td>\n",
       "      <td>0</td>\n",
       "      <td>1</td>\n",
       "      <td>0</td>\n",
       "    </tr>\n",
       "    <tr>\n",
       "      <th>2</th>\n",
       "      <td>65.370</td>\n",
       "      <td>419.53</td>\n",
       "      <td>907.0</td>\n",
       "      <td>7.140</td>\n",
       "      <td>0</td>\n",
       "      <td>0</td>\n",
       "      <td>1</td>\n",
       "      <td>0</td>\n",
       "      <td>0</td>\n",
       "      <td>0</td>\n",
       "      <td>...</td>\n",
       "      <td>0</td>\n",
       "      <td>1</td>\n",
       "      <td>0</td>\n",
       "      <td>0</td>\n",
       "      <td>0</td>\n",
       "      <td>0</td>\n",
       "      <td>0</td>\n",
       "      <td>0</td>\n",
       "      <td>1</td>\n",
       "      <td>0</td>\n",
       "    </tr>\n",
       "    <tr>\n",
       "      <th>3</th>\n",
       "      <td>107.868</td>\n",
       "      <td>961.78</td>\n",
       "      <td>2162.0</td>\n",
       "      <td>10.345</td>\n",
       "      <td>0</td>\n",
       "      <td>0</td>\n",
       "      <td>0</td>\n",
       "      <td>0</td>\n",
       "      <td>1</td>\n",
       "      <td>0</td>\n",
       "      <td>...</td>\n",
       "      <td>0</td>\n",
       "      <td>0</td>\n",
       "      <td>0</td>\n",
       "      <td>0</td>\n",
       "      <td>0</td>\n",
       "      <td>0</td>\n",
       "      <td>0</td>\n",
       "      <td>0</td>\n",
       "      <td>1</td>\n",
       "      <td>0</td>\n",
       "    </tr>\n",
       "  </tbody>\n",
       "</table>\n",
       "<p>4 rows × 53 columns</p>\n",
       "</div>"
      ],
      "text/plain": [
       "   cprp_MW  cprp_MP  cprp_BP  cprp_density  func_absorbent  \\\n",
       "0   79.867  1843.00   2972.0         4.230               0   \n",
       "1   63.546  1083.00   2567.0         8.960               0   \n",
       "2   65.370   419.53    907.0         7.140               0   \n",
       "3  107.868   961.78   2162.0        10.345               0   \n",
       "\n",
       "   func_antiadhesivecohesive  func_antioxidant  func_antiredepositionagent  \\\n",
       "0                          0                 0                           1   \n",
       "1                          0                 1                           0   \n",
       "2                          0                 1                           0   \n",
       "3                          0                 0                           0   \n",
       "\n",
       "   func_biocide  func_brightener  ...  pgrp_makeuprelated  \\\n",
       "0             0                0  ...                   0   \n",
       "1             1                0  ...                   0   \n",
       "2             0                0  ...                   0   \n",
       "3             1                0  ...                   0   \n",
       "\n",
       "   pgrp_nutritionalsupplements  pgrp_paintstainrelated  \\\n",
       "0                            0                       1   \n",
       "1                            1                       0   \n",
       "2                            1                       0   \n",
       "3                            0                       0   \n",
       "\n",
       "   pgrp_portableairprocessing  pgrp_sunscreen  pgrp_surfacesealers  pgrp_toys  \\\n",
       "0                           0               0                    0          0   \n",
       "1                           0               0                    0          0   \n",
       "2                           0               0                    0          0   \n",
       "3                           0               0                    0          0   \n",
       "\n",
       "   mtrx_spray  mtrx_formulation  mtrx_WFmeasured  \n",
       "0           0                 1                0  \n",
       "1           0                 1                0  \n",
       "2           0                 1                0  \n",
       "3           0                 1                0  \n",
       "\n",
       "[4 rows x 53 columns]"
      ]
     },
     "execution_count": 7,
     "metadata": {},
     "output_type": "execute_result"
    }
   ],
   "source": [
    "# Read pre-processed ENM data (before applying feature reduction)\n",
    "X_enm = pd.read_csv(\"./data/ENM-preprocessed-feats.csv\", sep=\"\\t\", index_col=0)\n",
    "X_enm.head(4)"
   ]
  },
  {
   "cell_type": "markdown",
   "metadata": {
    "ExecuteTime": {
     "end_time": "2018-07-31T20:26:39.287566Z",
     "start_time": "2018-07-31T20:26:39.283890Z"
    }
   },
   "source": [
    "## Read organics data"
   ]
  },
  {
   "cell_type": "code",
   "execution_count": 8,
   "metadata": {
    "ExecuteTime": {
     "end_time": "2020-02-19T12:19:32.937664Z",
     "start_time": "2020-02-19T12:19:32.620715Z"
    },
    "execution": {
     "iopub.execute_input": "2021-11-11T00:16:06.696798Z",
     "iopub.status.busy": "2021-11-11T00:16:06.696111Z",
     "iopub.status.idle": "2021-11-11T00:16:07.196352Z",
     "shell.execute_reply": "2021-11-11T00:16:07.194251Z",
     "shell.execute_reply.started": "2021-11-11T00:16:06.696754Z"
    },
    "tags": []
   },
   "outputs": [
    {
     "name": "stdout",
     "output_type": "stream",
     "text": [
      "[(29373, 87), (29373, 1)]\n"
     ]
    }
   ],
   "source": [
    "# Read in organcis potential predictive variables (\"features\")\n",
    "X_source = pd.read_csv(\"./data/organics-clean.csv\", sep=\",\", index_col=0)\n",
    "\n",
    "# Read in organics weight fraction data\n",
    "y_source = pd.read_csv(\"./data/organics-clean.csv\", sep=\",\", usecols=[2])\n",
    "\n",
    "print([X_source.shape, y_source.shape])"
   ]
  },
  {
   "cell_type": "code",
   "execution_count": 9,
   "metadata": {
    "ExecuteTime": {
     "end_time": "2020-02-19T12:19:34.699919Z",
     "start_time": "2020-02-19T12:19:34.581020Z"
    },
    "execution": {
     "iopub.execute_input": "2021-11-11T00:16:08.079580Z",
     "iopub.status.busy": "2021-11-11T00:16:08.079164Z",
     "iopub.status.idle": "2021-11-11T00:16:08.264235Z",
     "shell.execute_reply": "2021-11-11T00:16:08.261044Z",
     "shell.execute_reply.started": "2021-11-11T00:16:08.079523Z"
    },
    "scrolled": true,
    "tags": []
   },
   "outputs": [],
   "source": [
    "# Clean feature data and column names\n",
    "\n",
    "# Drop unwanted columns (CASRN, WF, product type, chem-props unused in ENM df)\n",
    "X_source.drop(\n",
    "    X_source.columns[[0, 1, 4, 8, 9, 10, 11, 14, 15, 17]], axis=1, inplace=True\n",
    ")\n",
    "\n",
    "# Rename columns\n",
    "X_source.columns = X_source.columns.str.replace(\"_\", \"\")\n",
    "X_source.rename(\n",
    "    columns={\n",
    "        \"gencatID\": \"pgen\",\n",
    "        \"group\": \"pgrp\",\n",
    "        \"refinedproducttype\": \"refined\",\n",
    "        \"assignedID\": \"mtrx\",\n",
    "        \"uvstabilizer\": \"UVstabilizer\",\n",
    "    },\n",
    "    inplace=True,\n",
    ")\n",
    "\n",
    "# Clean up data in refined column so it's only spray vs NOC\n",
    "X_source.loc[X_source.refined != \"spray\", \"refined\"] = \"NOC\"\n",
    "\n",
    "# Transform factor data (product categories) into binary columns\n",
    "X_source = pd.get_dummies(\n",
    "    X_source,\n",
    "    prefix=[\"pgen\", \"pgrp\", \"refined\", \"mtrx\"],\n",
    "    columns=[\"pgen\", \"pgrp\", \"refined\", \"mtrx\"],\n",
    ")\n",
    "\n",
    "# Remove spaces from column names\n",
    "X_source.columns = X_source.columns.str.replace(\" \", \"\")\n",
    "X_source.columns = X_source.columns.str.replace(\"/\", \"\")\n",
    "X_source.columns = X_source.columns.str.replace(\"-\", \"\")\n",
    "X_source.columns = X_source.columns.str.replace(\"and\", \"\")\n",
    "\n",
    "# Edit column name prefixes and suffixes for consistency and clarity\n",
    "X_source.columns = X_source.columns.str.replace(\"Density\", \"density\")\n",
    "X_source.columns = X_source.columns.str.replace(\"prop\", \"cprp_\")\n",
    "X_source.columns = X_source.columns.str.replace(\"refined\", \"mtrx\")\n",
    "X_source.columns = X_source.columns.str.replace(\"mtrx_F\", \"mtrx_formulation\")\n",
    "X_source.columns = X_source.columns.str.replace(\"relatedproducts\", \"related\")\n",
    "\n",
    "# Add 'func' prefix to functional uses\n",
    "cols = X_source.columns\n",
    "idx_func = np.asarray([i for i, c in enumerate(cols) if not \"_\" in c])\n",
    "X_source.rename(\n",
    "    columns={c: \"_\".join((\"func\", c)) for c in cols[idx_func]}, inplace=True\n",
    ")"
   ]
  },
  {
   "cell_type": "code",
   "execution_count": 10,
   "metadata": {
    "ExecuteTime": {
     "end_time": "2020-02-19T12:19:35.596090Z",
     "start_time": "2020-02-19T12:19:35.591904Z"
    },
    "execution": {
     "iopub.execute_input": "2021-11-11T00:16:10.050108Z",
     "iopub.status.busy": "2021-11-11T00:16:10.049690Z",
     "iopub.status.idle": "2021-11-11T00:16:10.088143Z",
     "shell.execute_reply": "2021-11-11T00:16:10.086072Z",
     "shell.execute_reply.started": "2021-11-11T00:16:10.050068Z"
    },
    "tags": []
   },
   "outputs": [],
   "source": [
    "# If there are ENM features not present in organics df, add them\n",
    "\n",
    "# List differences between feature sets\n",
    "cols_add = list(set(enm_cols) - set(X_source.columns.tolist()))\n",
    "# Assign these features to organics df with default values of zero\n",
    "for col in cols_add:\n",
    "    X_source[col] = 0"
   ]
  },
  {
   "cell_type": "code",
   "execution_count": 11,
   "metadata": {
    "ExecuteTime": {
     "end_time": "2020-02-19T12:19:36.382314Z",
     "start_time": "2020-02-19T12:19:36.279622Z"
    },
    "execution": {
     "iopub.execute_input": "2021-11-11T00:16:11.221563Z",
     "iopub.status.busy": "2021-11-11T00:16:11.221074Z",
     "iopub.status.idle": "2021-11-11T00:16:11.476417Z",
     "shell.execute_reply": "2021-11-11T00:16:11.474308Z",
     "shell.execute_reply.started": "2021-11-11T00:16:11.221514Z"
    },
    "tags": []
   },
   "outputs": [
    {
     "name": "stdout",
     "output_type": "stream",
     "text": [
      "(16439, 54)\n"
     ]
    }
   ],
   "source": [
    "# Delete unwanted samples\n",
    "\n",
    "# Restructure organics features df to match ENM df\n",
    "X_source = X_source[enm_cols]\n",
    "# Temporarily add WF labels to df\n",
    "X_source = pd.concat([y_source, X_source], axis=1)\n",
    "# Delete rows that are missing important chemical property data\n",
    "X_source = X_source[X_source[\"cprp_MP\"].notnull()]\n",
    "# Remove outlier lacking density data\n",
    "X_source = X_source[X_source[\"cprp_MP\"] > -170]\n",
    "# Delete rows that don't have enough data (positive labels)\n",
    "X_source = X_source[X_source.iloc[:, 5:].sum(axis=1) > 2]\n",
    "print(X_source.shape)"
   ]
  },
  {
   "cell_type": "code",
   "execution_count": 12,
   "metadata": {
    "ExecuteTime": {
     "end_time": "2020-02-19T12:19:37.452719Z",
     "start_time": "2020-02-19T12:19:37.398074Z"
    },
    "execution": {
     "iopub.execute_input": "2021-11-11T00:16:13.707386Z",
     "iopub.status.busy": "2021-11-11T00:16:13.706519Z",
     "iopub.status.idle": "2021-11-11T00:16:13.750860Z",
     "shell.execute_reply": "2021-11-11T00:16:13.746488Z",
     "shell.execute_reply.started": "2021-11-11T00:16:13.707340Z"
    },
    "tags": []
   },
   "outputs": [
    {
     "name": "stdout",
     "output_type": "stream",
     "text": [
      "(16439, 1)\n"
     ]
    }
   ],
   "source": [
    "# Extract wf labels (y) from new X_source\n",
    "y_source = X_source[[\"maximum_weight_fraction\"]]\n",
    "X_source.drop(X_source.columns[[0]], axis=1, inplace=True)\n",
    "print(y_source.shape)"
   ]
  },
  {
   "cell_type": "code",
   "execution_count": 13,
   "metadata": {
    "ExecuteTime": {
     "end_time": "2020-02-19T12:19:45.448171Z",
     "start_time": "2020-02-19T12:19:45.424586Z"
    },
    "execution": {
     "iopub.execute_input": "2021-11-11T00:16:18.691670Z",
     "iopub.status.busy": "2021-11-11T00:16:18.691051Z",
     "iopub.status.idle": "2021-11-11T00:16:18.764358Z",
     "shell.execute_reply": "2021-11-11T00:16:18.762702Z",
     "shell.execute_reply.started": "2021-11-11T00:16:18.691557Z"
    },
    "tags": []
   },
   "outputs": [
    {
     "data": {
      "text/html": [
       "<div>\n",
       "<style scoped>\n",
       "    .dataframe tbody tr th:only-of-type {\n",
       "        vertical-align: middle;\n",
       "    }\n",
       "\n",
       "    .dataframe tbody tr th {\n",
       "        vertical-align: top;\n",
       "    }\n",
       "\n",
       "    .dataframe thead th {\n",
       "        text-align: right;\n",
       "    }\n",
       "</style>\n",
       "<table border=\"1\" class=\"dataframe\">\n",
       "  <thead>\n",
       "    <tr style=\"text-align: right;\">\n",
       "      <th></th>\n",
       "      <th>cprp_MW</th>\n",
       "      <th>cprp_MP</th>\n",
       "      <th>cprp_BP</th>\n",
       "      <th>cprp_density</th>\n",
       "      <th>func_absorbent</th>\n",
       "      <th>func_antiadhesivecohesive</th>\n",
       "      <th>func_antioxidant</th>\n",
       "      <th>func_antiredepositionagent</th>\n",
       "      <th>func_biocide</th>\n",
       "      <th>func_brightener</th>\n",
       "      <th>...</th>\n",
       "      <th>pgrp_makeuprelated</th>\n",
       "      <th>pgrp_nutritionalsupplements</th>\n",
       "      <th>pgrp_paintstainrelated</th>\n",
       "      <th>pgrp_portableairprocessing</th>\n",
       "      <th>pgrp_sunscreen</th>\n",
       "      <th>pgrp_surfacesealers</th>\n",
       "      <th>pgrp_toys</th>\n",
       "      <th>mtrx_spray</th>\n",
       "      <th>mtrx_formulation</th>\n",
       "      <th>mtrx_WFmeasured</th>\n",
       "    </tr>\n",
       "  </thead>\n",
       "  <tbody>\n",
       "    <tr>\n",
       "      <th>29366</th>\n",
       "      <td>152.149</td>\n",
       "      <td>84.03215</td>\n",
       "      <td>263.941</td>\n",
       "      <td>1.198</td>\n",
       "      <td>0.0</td>\n",
       "      <td>0.0</td>\n",
       "      <td>0.0</td>\n",
       "      <td>0.0</td>\n",
       "      <td>0.0</td>\n",
       "      <td>0.0</td>\n",
       "      <td>...</td>\n",
       "      <td>1.0</td>\n",
       "      <td>0.0</td>\n",
       "      <td>0.0</td>\n",
       "      <td>0.0</td>\n",
       "      <td>0.0</td>\n",
       "      <td>0.0</td>\n",
       "      <td>0.0</td>\n",
       "      <td>0.0</td>\n",
       "      <td>1.0</td>\n",
       "      <td>0.0</td>\n",
       "    </tr>\n",
       "    <tr>\n",
       "      <th>29367</th>\n",
       "      <td>152.149</td>\n",
       "      <td>84.03215</td>\n",
       "      <td>263.941</td>\n",
       "      <td>1.198</td>\n",
       "      <td>0.0</td>\n",
       "      <td>0.0</td>\n",
       "      <td>0.0</td>\n",
       "      <td>0.0</td>\n",
       "      <td>0.0</td>\n",
       "      <td>0.0</td>\n",
       "      <td>...</td>\n",
       "      <td>0.0</td>\n",
       "      <td>0.0</td>\n",
       "      <td>0.0</td>\n",
       "      <td>0.0</td>\n",
       "      <td>0.0</td>\n",
       "      <td>0.0</td>\n",
       "      <td>0.0</td>\n",
       "      <td>0.0</td>\n",
       "      <td>1.0</td>\n",
       "      <td>0.0</td>\n",
       "    </tr>\n",
       "    <tr>\n",
       "      <th>29368</th>\n",
       "      <td>152.149</td>\n",
       "      <td>84.03215</td>\n",
       "      <td>263.941</td>\n",
       "      <td>1.198</td>\n",
       "      <td>0.0</td>\n",
       "      <td>0.0</td>\n",
       "      <td>0.0</td>\n",
       "      <td>0.0</td>\n",
       "      <td>0.0</td>\n",
       "      <td>0.0</td>\n",
       "      <td>...</td>\n",
       "      <td>1.0</td>\n",
       "      <td>0.0</td>\n",
       "      <td>0.0</td>\n",
       "      <td>0.0</td>\n",
       "      <td>0.0</td>\n",
       "      <td>0.0</td>\n",
       "      <td>0.0</td>\n",
       "      <td>0.0</td>\n",
       "      <td>1.0</td>\n",
       "      <td>0.0</td>\n",
       "    </tr>\n",
       "    <tr>\n",
       "      <th>29369</th>\n",
       "      <td>135.210</td>\n",
       "      <td>-31.78080</td>\n",
       "      <td>203.080</td>\n",
       "      <td>0.930</td>\n",
       "      <td>0.0</td>\n",
       "      <td>0.0</td>\n",
       "      <td>0.0</td>\n",
       "      <td>0.0</td>\n",
       "      <td>0.0</td>\n",
       "      <td>0.0</td>\n",
       "      <td>...</td>\n",
       "      <td>0.0</td>\n",
       "      <td>0.0</td>\n",
       "      <td>0.0</td>\n",
       "      <td>0.0</td>\n",
       "      <td>0.0</td>\n",
       "      <td>0.0</td>\n",
       "      <td>0.0</td>\n",
       "      <td>0.0</td>\n",
       "      <td>1.0</td>\n",
       "      <td>0.0</td>\n",
       "    </tr>\n",
       "    <tr>\n",
       "      <th>29370</th>\n",
       "      <td>135.210</td>\n",
       "      <td>-31.78080</td>\n",
       "      <td>203.080</td>\n",
       "      <td>0.930</td>\n",
       "      <td>0.0</td>\n",
       "      <td>0.0</td>\n",
       "      <td>0.0</td>\n",
       "      <td>0.0</td>\n",
       "      <td>0.0</td>\n",
       "      <td>0.0</td>\n",
       "      <td>...</td>\n",
       "      <td>0.0</td>\n",
       "      <td>0.0</td>\n",
       "      <td>0.0</td>\n",
       "      <td>0.0</td>\n",
       "      <td>0.0</td>\n",
       "      <td>0.0</td>\n",
       "      <td>0.0</td>\n",
       "      <td>0.0</td>\n",
       "      <td>1.0</td>\n",
       "      <td>0.0</td>\n",
       "    </tr>\n",
       "  </tbody>\n",
       "</table>\n",
       "<p>5 rows × 53 columns</p>\n",
       "</div>"
      ],
      "text/plain": [
       "       cprp_MW   cprp_MP  cprp_BP  cprp_density  func_absorbent  \\\n",
       "29366  152.149  84.03215  263.941         1.198             0.0   \n",
       "29367  152.149  84.03215  263.941         1.198             0.0   \n",
       "29368  152.149  84.03215  263.941         1.198             0.0   \n",
       "29369  135.210 -31.78080  203.080         0.930             0.0   \n",
       "29370  135.210 -31.78080  203.080         0.930             0.0   \n",
       "\n",
       "       func_antiadhesivecohesive  func_antioxidant  \\\n",
       "29366                        0.0               0.0   \n",
       "29367                        0.0               0.0   \n",
       "29368                        0.0               0.0   \n",
       "29369                        0.0               0.0   \n",
       "29370                        0.0               0.0   \n",
       "\n",
       "       func_antiredepositionagent  func_biocide  func_brightener  ...  \\\n",
       "29366                         0.0           0.0              0.0  ...   \n",
       "29367                         0.0           0.0              0.0  ...   \n",
       "29368                         0.0           0.0              0.0  ...   \n",
       "29369                         0.0           0.0              0.0  ...   \n",
       "29370                         0.0           0.0              0.0  ...   \n",
       "\n",
       "       pgrp_makeuprelated  pgrp_nutritionalsupplements  \\\n",
       "29366                 1.0                          0.0   \n",
       "29367                 0.0                          0.0   \n",
       "29368                 1.0                          0.0   \n",
       "29369                 0.0                          0.0   \n",
       "29370                 0.0                          0.0   \n",
       "\n",
       "       pgrp_paintstainrelated  pgrp_portableairprocessing  pgrp_sunscreen  \\\n",
       "29366                     0.0                         0.0             0.0   \n",
       "29367                     0.0                         0.0             0.0   \n",
       "29368                     0.0                         0.0             0.0   \n",
       "29369                     0.0                         0.0             0.0   \n",
       "29370                     0.0                         0.0             0.0   \n",
       "\n",
       "       pgrp_surfacesealers  pgrp_toys  mtrx_spray  mtrx_formulation  \\\n",
       "29366                  0.0        0.0         0.0               1.0   \n",
       "29367                  0.0        0.0         0.0               1.0   \n",
       "29368                  0.0        0.0         0.0               1.0   \n",
       "29369                  0.0        0.0         0.0               1.0   \n",
       "29370                  0.0        0.0         0.0               1.0   \n",
       "\n",
       "       mtrx_WFmeasured  \n",
       "29366              0.0  \n",
       "29367              0.0  \n",
       "29368              0.0  \n",
       "29369              0.0  \n",
       "29370              0.0  \n",
       "\n",
       "[5 rows x 53 columns]"
      ]
     },
     "execution_count": 13,
     "metadata": {},
     "output_type": "execute_result"
    }
   ],
   "source": [
    "# Preview final main dataframe\n",
    "X_source.tail(5)"
   ]
  },
  {
   "cell_type": "code",
   "execution_count": 14,
   "metadata": {
    "ExecuteTime": {
     "end_time": "2020-02-19T12:19:58.493710Z",
     "start_time": "2020-02-19T12:19:58.484984Z"
    },
    "execution": {
     "iopub.execute_input": "2021-11-11T00:16:19.700869Z",
     "iopub.status.busy": "2021-11-11T00:16:19.700516Z",
     "iopub.status.idle": "2021-11-11T00:16:19.733195Z",
     "shell.execute_reply": "2021-11-11T00:16:19.730186Z",
     "shell.execute_reply.started": "2021-11-11T00:16:19.700830Z"
    },
    "tags": []
   },
   "outputs": [
    {
     "data": {
      "text/html": [
       "<div>\n",
       "<style scoped>\n",
       "    .dataframe tbody tr th:only-of-type {\n",
       "        vertical-align: middle;\n",
       "    }\n",
       "\n",
       "    .dataframe tbody tr th {\n",
       "        vertical-align: top;\n",
       "    }\n",
       "\n",
       "    .dataframe thead th {\n",
       "        text-align: right;\n",
       "    }\n",
       "</style>\n",
       "<table border=\"1\" class=\"dataframe\">\n",
       "  <thead>\n",
       "    <tr style=\"text-align: right;\">\n",
       "      <th></th>\n",
       "      <th>maximum_weight_fraction</th>\n",
       "    </tr>\n",
       "  </thead>\n",
       "  <tbody>\n",
       "    <tr>\n",
       "      <th>29366</th>\n",
       "      <td>0.01</td>\n",
       "    </tr>\n",
       "    <tr>\n",
       "      <th>29367</th>\n",
       "      <td>0.01</td>\n",
       "    </tr>\n",
       "    <tr>\n",
       "      <th>29368</th>\n",
       "      <td>0.02</td>\n",
       "    </tr>\n",
       "    <tr>\n",
       "      <th>29369</th>\n",
       "      <td>0.02</td>\n",
       "    </tr>\n",
       "    <tr>\n",
       "      <th>29370</th>\n",
       "      <td>0.05</td>\n",
       "    </tr>\n",
       "  </tbody>\n",
       "</table>\n",
       "</div>"
      ],
      "text/plain": [
       "       maximum_weight_fraction\n",
       "29366                     0.01\n",
       "29367                     0.01\n",
       "29368                     0.02\n",
       "29369                     0.02\n",
       "29370                     0.05"
      ]
     },
     "execution_count": 14,
     "metadata": {},
     "output_type": "execute_result"
    }
   ],
   "source": [
    "y_source.tail(5)"
   ]
  },
  {
   "cell_type": "markdown",
   "metadata": {},
   "source": [
    "## Imputation for density"
   ]
  },
  {
   "cell_type": "code",
   "execution_count": 15,
   "metadata": {
    "ExecuteTime": {
     "end_time": "2020-02-06T06:13:01.013441Z",
     "start_time": "2020-02-06T06:13:01.004614Z"
    },
    "execution": {
     "iopub.execute_input": "2021-11-11T00:16:23.850447Z",
     "iopub.status.busy": "2021-11-11T00:16:23.847023Z",
     "iopub.status.idle": "2021-11-11T00:16:23.894971Z",
     "shell.execute_reply": "2021-11-11T00:16:23.893426Z",
     "shell.execute_reply.started": "2021-11-11T00:16:23.850390Z"
    },
    "tags": []
   },
   "outputs": [
    {
     "name": "stdout",
     "output_type": "stream",
     "text": [
      "Missing data dimensions:\n",
      "(639, 53)\n",
      "Fraction of density data missing: 0.039\n"
     ]
    }
   ],
   "source": [
    "# How much density data is missing?\n",
    "print(\"Missing data dimensions:\")\n",
    "print(X_source[X_source[\"cprp_density\"].isnull()].shape)\n",
    "\n",
    "# Percent of density data missing\n",
    "missing_perc = len(X_source[X_source[\"cprp_density\"].isnull()]) / len(X_source)\n",
    "print(\"Fraction of density data missing: %.3f\" % missing_perc)"
   ]
  },
  {
   "cell_type": "code",
   "execution_count": 16,
   "metadata": {
    "execution": {
     "iopub.execute_input": "2021-11-11T00:16:24.571147Z",
     "iopub.status.busy": "2021-11-11T00:16:24.570789Z",
     "iopub.status.idle": "2021-11-11T00:16:28.367312Z",
     "shell.execute_reply": "2021-11-11T00:16:28.365035Z",
     "shell.execute_reply.started": "2021-11-11T00:16:24.571106Z"
    },
    "tags": []
   },
   "outputs": [
    {
     "data": {
      "image/png": "[encoded data removed]",
      "text/plain": [
       "<Figure size 432x288 with 16 Axes>"
      ]
     },
     "metadata": {},
     "output_type": "display_data"
    }
   ],
   "source": [
    "# Look at chemical property features\n",
    "feat_subset = [f for f in X_source.columns if \"cprp\" in f]\n",
    "\n",
    "# Plot scatter matrix and histograms\n",
    "scatter_mtrx = pd.plotting.scatter_matrix(X_source[feat_subset], alpha=0.2)\n",
    "plt.xticks([])\n",
    "plt.yticks([])\n",
    "\n",
    "for ax in scatter_mtrx.ravel():\n",
    "    ax.set_xlabel(\n",
    "        ax.get_xlabel(),\n",
    "        fontsize=9,\n",
    "        rotation=0,\n",
    "    )\n",
    "    ax.set_ylabel(\n",
    "        ax.get_ylabel(),\n",
    "        fontsize=9,\n",
    "        rotation=0,\n",
    "        horizontalalignment=\"right\",\n",
    "    )\n",
    "    ax.axes.xaxis.set_ticks([])\n",
    "    ax.axes.yaxis.set_ticks([])"
   ]
  },
  {
   "cell_type": "markdown",
   "metadata": {},
   "source": [
    "We will use sklearn's $SimpleImputer$ transformer to replace missing values using the *median*. This was selected over a more complex imputer as:\n",
    "\n",
    "* Only a small percentage of density data is missing (complexity shouldn't affect model performance)\n",
    "* The data may not be missing at random (density measurements may be harder to obtain for some molecules)\n",
    "* The distrubution of density data is skewed (thus the median is preferable over the mean)"
   ]
  },
  {
   "cell_type": "code",
   "execution_count": 17,
   "metadata": {
    "execution": {
     "iopub.execute_input": "2021-11-11T00:16:28.395016Z",
     "iopub.status.busy": "2021-11-11T00:16:28.394757Z",
     "iopub.status.idle": "2021-11-11T00:16:28.663639Z",
     "shell.execute_reply": "2021-11-11T00:16:28.661141Z",
     "shell.execute_reply.started": "2021-11-11T00:16:28.394986Z"
    },
    "tags": []
   },
   "outputs": [
    {
     "name": "stdout",
     "output_type": "stream",
     "text": [
      "Density median: 0.995\n"
     ]
    },
    {
     "data": {
      "text/plain": [
       "array([[106.168  , -52.5218 , 147.1505 , ...,   0.     ,   1.     ,\n",
       "          0.     ],\n",
       "       [106.168  , -52.5218 , 147.1505 , ...,   0.     ,   1.     ,\n",
       "          0.     ],\n",
       "       [106.168  , -52.5218 , 147.1505 , ...,   1.     ,   1.     ,\n",
       "          0.     ],\n",
       "       ...,\n",
       "       [152.149  ,  84.03215, 263.941  , ...,   0.     ,   1.     ,\n",
       "          0.     ],\n",
       "       [135.21   , -31.7808 , 203.08   , ...,   0.     ,   1.     ,\n",
       "          0.     ],\n",
       "       [135.21   , -31.7808 , 203.08   , ...,   0.     ,   1.     ,\n",
       "          0.     ]])"
      ]
     },
     "execution_count": 17,
     "metadata": {},
     "output_type": "execute_result"
    }
   ],
   "source": [
    "from sklearn.impute import SimpleImputer\n",
    "\n",
    "# What is the median?\n",
    "print(\"Density median:\", X_source[\"cprp_density\"].median())\n",
    "\n",
    "# Impute\n",
    "imp_median = SimpleImputer(missing_values=np.nan, strategy=\"median\", copy=False)\n",
    "imp_median.fit_transform(X_source)"
   ]
  },
  {
   "cell_type": "code",
   "execution_count": 18,
   "metadata": {
    "execution": {
     "iopub.execute_input": "2021-11-11T00:19:54.183732Z",
     "iopub.status.busy": "2021-11-11T00:19:54.180242Z",
     "iopub.status.idle": "2021-11-11T00:19:54.212121Z",
     "shell.execute_reply": "2021-11-11T00:19:54.209675Z",
     "shell.execute_reply.started": "2021-11-11T00:19:54.183693Z"
    },
    "tags": []
   },
   "outputs": [
    {
     "name": "stdout",
     "output_type": "stream",
     "text": [
      "Missing data dimensions:\n",
      "(0, 53)\n"
     ]
    }
   ],
   "source": [
    "# How much density data is missing?\n",
    "print(\"Missing data dimensions:\")\n",
    "print(X_source[X_source[\"cprp_density\"].isnull()].shape)"
   ]
  },
  {
   "cell_type": "markdown",
   "metadata": {
    "ExecuteTime": {
     "end_time": "2018-07-31T20:29:35.081047Z",
     "start_time": "2018-07-31T20:29:35.076307Z"
    }
   },
   "source": [
    "## Organics WF bins"
   ]
  },
  {
   "cell_type": "code",
   "execution_count": 19,
   "metadata": {
    "ExecuteTime": {
     "end_time": "2020-02-06T06:13:20.563782Z",
     "start_time": "2020-02-06T06:13:20.427660Z"
    },
    "execution": {
     "iopub.execute_input": "2021-11-11T00:19:56.159923Z",
     "iopub.status.busy": "2021-11-11T00:19:56.159329Z",
     "iopub.status.idle": "2021-11-11T00:19:56.465981Z",
     "shell.execute_reply": "2021-11-11T00:19:56.464985Z",
     "shell.execute_reply.started": "2021-11-11T00:19:56.159634Z"
    },
    "tags": []
   },
   "outputs": [
    {
     "data": {
      "image/png": "[encoded data removed]",
      "text/plain": [
       "<Figure size 432x288 with 1 Axes>"
      ]
     },
     "metadata": {
      "needs_background": "light"
     },
     "output_type": "display_data"
    }
   ],
   "source": [
    "# Log-transformed histogram of weight fraction\n",
    "fig, ax = plt.subplots()\n",
    "plt.hist(np.log10(np.asarray(y_source) + 0.0000001), bins=20)\n",
    "ax.xaxis.set_major_locator(MultipleLocator(1))"
   ]
  },
  {
   "cell_type": "code",
   "execution_count": 20,
   "metadata": {
    "ExecuteTime": {
     "end_time": "2020-02-06T06:13:21.356809Z",
     "start_time": "2020-02-06T06:13:21.116080Z"
    },
    "execution": {
     "iopub.execute_input": "2021-11-11T00:19:56.978475Z",
     "iopub.status.busy": "2021-11-11T00:19:56.978041Z",
     "iopub.status.idle": "2021-11-11T00:19:57.362891Z",
     "shell.execute_reply": "2021-11-11T00:19:57.362005Z",
     "shell.execute_reply.started": "2021-11-11T00:19:56.978433Z"
    },
    "tags": []
   },
   "outputs": [],
   "source": [
    "# Define function to assign weight fractions to bins per Isaacs et al. 2016\n",
    "def bins(row):\n",
    "    if row[\"maximum_weight_fraction\"] <= 0.01:\n",
    "        val = \"low\"\n",
    "    elif row[\"maximum_weight_fraction\"] > 0.05:\n",
    "        val = \"high\"\n",
    "    else:\n",
    "        val = \"medium\"\n",
    "    return val\n",
    "\n",
    "\n",
    "bin_source_isaacs = y_source.apply(bins, axis=1)"
   ]
  },
  {
   "cell_type": "code",
   "execution_count": 21,
   "metadata": {
    "ExecuteTime": {
     "end_time": "2020-02-06T06:13:22.920586Z",
     "start_time": "2020-02-06T06:13:22.803043Z"
    },
    "execution": {
     "iopub.execute_input": "2021-11-11T00:19:58.900025Z",
     "iopub.status.busy": "2021-11-11T00:19:58.899662Z",
     "iopub.status.idle": "2021-11-11T00:19:59.190982Z",
     "shell.execute_reply": "2021-11-11T00:19:59.186258Z",
     "shell.execute_reply.started": "2021-11-11T00:19:58.899971Z"
    },
    "tags": []
   },
   "outputs": [
    {
     "data": {
      "text/plain": [
       "Text(0.5, 1.0, 'Frequency of Isaacs et al. Organic Weight Fraction Bins')"
      ]
     },
     "execution_count": 21,
     "metadata": {},
     "output_type": "execute_result"
    },
    {
     "data": {
      "image/png": "[encoded data removed]",
      "text/plain": [
       "<Figure size 432x288 with 1 Axes>"
      ]
     },
     "metadata": {
      "needs_background": "light"
     },
     "output_type": "display_data"
    }
   ],
   "source": [
    "bin_source_isaacs.value_counts()[[\"low\", \"medium\", \"high\"]].plot(kind=\"bar\")\n",
    "plt.title(\"Frequency of Isaacs et al. Organic Weight Fraction Bins\")"
   ]
  },
  {
   "cell_type": "code",
   "execution_count": 22,
   "metadata": {
    "ExecuteTime": {
     "end_time": "2020-02-06T06:13:23.784725Z",
     "start_time": "2020-02-06T06:13:23.427959Z"
    },
    "execution": {
     "iopub.execute_input": "2021-11-11T00:20:02.033457Z",
     "iopub.status.busy": "2021-11-11T00:20:02.033145Z",
     "iopub.status.idle": "2021-11-11T00:20:02.805535Z",
     "shell.execute_reply": "2021-11-11T00:20:02.803052Z",
     "shell.execute_reply.started": "2021-11-11T00:20:02.033419Z"
    },
    "tags": []
   },
   "outputs": [
    {
     "data": {
      "image/png": "[encoded data removed]",
      "text/plain": [
       "<Figure size 432x288 with 1 Axes>"
      ]
     },
     "metadata": {
      "needs_background": "light"
     },
     "output_type": "display_data"
    },
    {
     "name": "stdout",
     "output_type": "stream",
     "text": [
      "Label bin:  [0 1 2]\n",
      "Count    :  [6127 7617 2695]\n",
      "Frequency:  [0.37, 0.46, 0.16]\n"
     ]
    }
   ],
   "source": [
    "# Apply bins to organics data\n",
    "# (slightly different ranges from those used by Isaacs et al. 2016)\n",
    "bin_source = np.asarray(y_source.apply(blt.bins, axis=1))\n",
    "# View bar plot of ENM WF bins\n",
    "blt.bar_graph_bins(bin_source, data_composition=\"Organic Chemical\")"
   ]
  },
  {
   "cell_type": "markdown",
   "metadata": {},
   "source": [
    "## Data summaries"
   ]
  },
  {
   "cell_type": "code",
   "execution_count": 38,
   "metadata": {
    "ExecuteTime": {
     "end_time": "2020-02-06T07:25:52.954201Z",
     "start_time": "2020-02-06T07:25:52.673170Z"
    },
    "execution": {
     "iopub.execute_input": "2021-11-11T00:45:13.880771Z",
     "iopub.status.busy": "2021-11-11T00:45:13.879977Z",
     "iopub.status.idle": "2021-11-11T00:45:14.351178Z",
     "shell.execute_reply": "2021-11-11T00:45:14.350231Z",
     "shell.execute_reply.started": "2021-11-11T00:45:13.880724Z"
    },
    "tags": []
   },
   "outputs": [
    {
     "data": {
      "image/png": "[encoded data removed]",
      "text/plain": [
       "<Figure size 432x144 with 1 Axes>"
      ]
     },
     "metadata": {
      "needs_background": "light"
     },
     "output_type": "display_data"
    }
   ],
   "source": [
    "# Organics function breakdown as pie chart\n",
    "blt.plot_treemap(\n",
    "    data=X_source,\n",
    "    feat_subset_prefix=\"func\",\n",
    "    max_labels=9,\n",
    "    char_trunc=9,\n",
    "    n_full_labels=6,\n",
    "    save_fig_name=\"b) Organics Functional Uses\",\n",
    ")"
   ]
  },
  {
   "cell_type": "code",
   "execution_count": 39,
   "metadata": {
    "ExecuteTime": {
     "end_time": "2020-02-06T07:28:14.837874Z",
     "start_time": "2020-02-06T07:28:14.627136Z"
    },
    "execution": {
     "iopub.execute_input": "2021-11-11T00:46:24.900469Z",
     "iopub.status.busy": "2021-11-11T00:46:24.899002Z",
     "iopub.status.idle": "2021-11-11T00:46:25.298324Z",
     "shell.execute_reply": "2021-11-11T00:46:25.293921Z",
     "shell.execute_reply.started": "2021-11-11T00:46:24.900420Z"
    },
    "tags": []
   },
   "outputs": [
    {
     "data": {
      "image/png": "[encoded data removed]",
      "text/plain": [
       "<Figure size 432x144 with 1 Axes>"
      ]
     },
     "metadata": {
      "needs_background": "light"
     },
     "output_type": "display_data"
    }
   ],
   "source": [
    "# Organics PUC breakdown as pie chart\n",
    "blt.plot_treemap(\n",
    "    data=X_source,\n",
    "    feat_subset_prefix=\"pgen\",\n",
    "    max_labels=10,\n",
    "    char_trunc=10,\n",
    "    n_full_labels=2,\n",
    "    save_fig_name=\"d) Organics General Product Categories\",\n",
    ")"
   ]
  },
  {
   "cell_type": "code",
   "execution_count": 43,
   "metadata": {
    "ExecuteTime": {
     "end_time": "2020-02-06T07:24:08.013960Z",
     "start_time": "2020-02-06T07:24:07.744157Z"
    },
    "execution": {
     "iopub.execute_input": "2021-11-11T01:10:50.192302Z",
     "iopub.status.busy": "2021-11-11T01:10:50.191467Z",
     "iopub.status.idle": "2021-11-11T01:10:50.762425Z",
     "shell.execute_reply": "2021-11-11T01:10:50.761099Z",
     "shell.execute_reply.started": "2021-11-11T01:10:50.192034Z"
    },
    "tags": []
   },
   "outputs": [
    {
     "data": {
      "image/png": "[encoded data removed]",
      "text/plain": [
       "<Figure size 432x144 with 1 Axes>"
      ]
     },
     "metadata": {
      "needs_background": "light"
     },
     "output_type": "display_data"
    }
   ],
   "source": [
    "# Organics PUC breakdown as pie chart\n",
    "blt.plot_treemap(\n",
    "    data=X_source,\n",
    "    feat_subset_prefix=\"pgrp\",\n",
    "    max_labels=9,\n",
    "    char_trunc=12,\n",
    "    n_full_labels=3,\n",
    "    save_fig_name=\"f) Organics Product Group Categories\",\n",
    ")"
   ]
  },
  {
   "cell_type": "code",
   "execution_count": 35,
   "metadata": {
    "ExecuteTime": {
     "end_time": "2020-02-06T07:28:31.364149Z",
     "start_time": "2020-02-06T07:28:31.171844Z"
    },
    "execution": {
     "iopub.execute_input": "2021-11-11T00:38:03.251562Z",
     "iopub.status.busy": "2021-11-11T00:38:03.250485Z",
     "iopub.status.idle": "2021-11-11T00:38:03.643477Z",
     "shell.execute_reply": "2021-11-11T00:38:03.642631Z",
     "shell.execute_reply.started": "2021-11-11T00:38:03.251514Z"
    },
    "tags": []
   },
   "outputs": [
    {
     "data": {
      "image/png": "[encoded data removed]",
      "text/plain": [
       "<Figure size 432x36 with 1 Axes>"
      ]
     },
     "metadata": {
      "needs_background": "light"
     },
     "output_type": "display_data"
    }
   ],
   "source": [
    "# Organics product matrices: formulations vs articles\n",
    "blt.plot_treemap(\n",
    "    # Simulate data to avoid zero division error\n",
    "    data=pd.DataFrame({\"mtrx_formulation\": np.repeat(1, 10000)}).append(\n",
    "        {\"mtrx_formulation\": 0}, ignore_index=True\n",
    "    ),\n",
    "    feat_subset_prefix=\"mtrx_formulation\",\n",
    "    save_fig_name=\"h) Organics Product Matrix\",\n",
    "    figsize=[6, 0.5],\n",
    "    cust_labels=[\"formulation\", \"article\"],\n",
    ")"
   ]
  },
  {
   "cell_type": "code",
   "execution_count": 23,
   "metadata": {
    "ExecuteTime": {
     "end_time": "2020-02-06T07:28:51.948885Z",
     "start_time": "2020-02-06T07:28:51.762751Z"
    },
    "execution": {
     "iopub.execute_input": "2021-11-11T00:24:49.178862Z",
     "iopub.status.busy": "2021-11-11T00:24:49.177714Z",
     "iopub.status.idle": "2021-11-11T00:24:49.550601Z",
     "shell.execute_reply": "2021-11-11T00:24:49.544462Z",
     "shell.execute_reply.started": "2021-11-11T00:24:49.178809Z"
    },
    "tags": []
   },
   "outputs": [
    {
     "data": {
      "image/png": "[encoded data removed]",
      "text/plain": [
       "<Figure size 432x36 with 1 Axes>"
      ]
     },
     "metadata": {
      "needs_background": "light"
     },
     "output_type": "display_data"
    }
   ],
   "source": [
    "# Organics product matrices: sprays vs other\n",
    "blt.plot_treemap(\n",
    "    data=X_source,\n",
    "    feat_subset_prefix=\"mtrx_spray\",\n",
    "    save_fig_name=\"j) Organics Spray Products\",\n",
    "    figsize=[6, 0.5],\n",
    ")"
   ]
  },
  {
   "cell_type": "markdown",
   "metadata": {},
   "source": [
    "# Export data"
   ]
  },
  {
   "cell_type": "code",
   "execution_count": 98,
   "metadata": {
    "ExecuteTime": {
     "end_time": "2020-02-06T06:14:03.577717Z",
     "start_time": "2020-02-06T06:14:03.169379Z"
    }
   },
   "outputs": [],
   "source": [
    "# Export organics CP dataframe for use in modeling scripts\n",
    "X_source.to_csv(\n",
    "    \"./data/organics-preprocessed-feats.csv\",\n",
    "    sep=\"\\t\",\n",
    "    na_rep=\"\",\n",
    "    header=True,\n",
    "    index=True,\n",
    "    index_label=None,\n",
    "    mode=\"w\",\n",
    ")"
   ]
  },
  {
   "cell_type": "code",
   "execution_count": 99,
   "metadata": {
    "ExecuteTime": {
     "end_time": "2020-02-06T06:14:05.588400Z",
     "start_time": "2020-02-06T06:14:05.544900Z"
    }
   },
   "outputs": [],
   "source": [
    "# Export organics WF labels\n",
    "y_source.to_csv(\n",
    "    \"./data/organics-preprocessed-WF.csv\",\n",
    "    sep=\"\\t\",\n",
    "    na_rep=\"\",\n",
    "    header=True,\n",
    "    index=True,\n",
    "    index_label=None,\n",
    "    mode=\"w\",\n",
    ")"
   ]
  },
  {
   "cell_type": "code",
   "execution_count": null,
   "metadata": {},
   "outputs": [],
   "source": []
  }
 ],
 "metadata": {
  "kernelspec": {
   "display_name": "Python 3",
   "language": "python",
   "name": "python3"
  },
  "language_info": {
   "codemirror_mode": {
    "name": "ipython",
    "version": 3
   },
   "file_extension": ".py",
   "mimetype": "text/x-python",
   "name": "python",
   "nbconvert_exporter": "python",
   "pygments_lexer": "ipython3",
   "version": "3.7.12"
  },
  "toc": {
   "base_numbering": 1,
   "nav_menu": {},
   "number_sections": true,
   "sideBar": true,
   "skip_h1_title": false,
   "title_cell": "Table of Contents",
   "title_sidebar": "Contents",
   "toc_cell": true,
   "toc_position": {
    "height": "calc(100% - 180px)",
    "left": "10px",
    "top": "150px",
    "width": "165px"
   },
   "toc_section_display": true,
   "toc_window_display": true
  }
 },
 "nbformat": 4,
 "nbformat_minor": 4
}
