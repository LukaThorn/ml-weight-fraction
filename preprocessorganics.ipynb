{
 "cells": [
  {
   "cell_type": "markdown",
   "metadata": {
    "toc": true
   },
   "source": [
    "<h1>Table of Contents<span class=\"tocSkip\"></span></h1>\n",
    "<div class=\"toc\"><ul class=\"toc-item\"><li><span><a href=\"#Code-setup\" data-toc-modified-id=\"Code-setup-1\"><span class=\"toc-item-num\">1&nbsp;&nbsp;</span>Code setup</a></span></li><li><span><a href=\"#Data\" data-toc-modified-id=\"Data-2\"><span class=\"toc-item-num\">2&nbsp;&nbsp;</span>Data</a></span><ul class=\"toc-item\"><li><span><a href=\"#Read-items-from-ENM-preprocessing\" data-toc-modified-id=\"Read-items-from-ENM-preprocessing-2.1\"><span class=\"toc-item-num\">2.1&nbsp;&nbsp;</span>Read items from ENM preprocessing</a></span></li><li><span><a href=\"#Read-organics-data\" data-toc-modified-id=\"Read-organics-data-2.2\"><span class=\"toc-item-num\">2.2&nbsp;&nbsp;</span>Read organics data</a></span></li><li><span><a href=\"#Imputation-for-log(density)\" data-toc-modified-id=\"Imputation-for-log(density)-2.3\"><span class=\"toc-item-num\">2.3&nbsp;&nbsp;</span>Imputation for log(density)</a></span></li><li><span><a href=\"#Organics-dataframes\" data-toc-modified-id=\"Organics-dataframes-2.4\"><span class=\"toc-item-num\">2.4&nbsp;&nbsp;</span>Organics dataframes</a></span></li><li><span><a href=\"#Organics-WF-bins\" data-toc-modified-id=\"Organics-WF-bins-2.5\"><span class=\"toc-item-num\">2.5&nbsp;&nbsp;</span>Organics WF bins</a></span></li></ul></li><li><span><a href=\"#Pre-processing\" data-toc-modified-id=\"Pre-processing-3\"><span class=\"toc-item-num\">3&nbsp;&nbsp;</span>Pre-processing</a></span><ul class=\"toc-item\"><li><span><a href=\"#Data-distributions\" data-toc-modified-id=\"Data-distributions-3.1\"><span class=\"toc-item-num\">3.1&nbsp;&nbsp;</span>Data distributions</a></span></li><li><span><a href=\"#PCA\" data-toc-modified-id=\"PCA-3.2\"><span class=\"toc-item-num\">3.2&nbsp;&nbsp;</span>PCA</a></span></li><li><span><a href=\"#Hierarchical-Agglomerative-Clustering-(HAC)\" data-toc-modified-id=\"Hierarchical-Agglomerative-Clustering-(HAC)-3.3\"><span class=\"toc-item-num\">3.3&nbsp;&nbsp;</span>Hierarchical Agglomerative Clustering (HAC)</a></span></li></ul></li></ul></div>"
   ]
  },
  {
   "cell_type": "markdown",
   "metadata": {},
   "source": [
    "# Code setup"
   ]
  },
  {
   "cell_type": "code",
   "execution_count": 1,
   "metadata": {},
   "outputs": [],
   "source": [
    "try:\n",
    "    %load_ext lab_black\n",
    "except ModuleNotFoundError:\n",
    "    print(\"Couldn't load Black autoformatter.\")"
   ]
  },
  {
   "cell_type": "code",
   "execution_count": 2,
   "metadata": {
    "ExecuteTime": {
     "end_time": "2020-02-19T12:19:19.130656Z",
     "start_time": "2020-02-19T12:19:17.875115Z"
    }
   },
   "outputs": [],
   "source": [
    "# To suppress warning output\n",
    "import warnings\n",
    "\n",
    "# warnings.filterwarnings('ignore')\n",
    "# warnings.simplefilter('ignore')\n",
    "\n",
    "# Important imports\n",
    "import numpy as np\n",
    "from numpy import random\n",
    "import pandas as pd\n",
    "import os, sys\n",
    "\n",
    "# Set random seed across notebook for repeatable results\n",
    "np.random.seed(1922)"
   ]
  },
  {
   "cell_type": "code",
   "execution_count": 164,
   "metadata": {
    "ExecuteTime": {
     "end_time": "2020-02-19T12:19:20.182085Z",
     "start_time": "2020-02-19T12:19:19.925364Z"
    }
   },
   "outputs": [],
   "source": [
    "# To plot nice figures\n",
    "%matplotlib inline\n",
    "import matplotlib\n",
    "import matplotlib.pyplot as plt\n",
    "import matplotlib.cm as cm\n",
    "import matplotlib.image as mpimg\n",
    "\n",
    "plt.rcParams[\"axes.titlesize\"] = \"x-large\"  # 16\n",
    "plt.rcParams[\"axes.labelsize\"] = \"x-large\"\n",
    "plt.rcParams[\"xtick.labelsize\"] = \"x-large\"\n",
    "plt.rcParams[\"ytick.labelsize\"] = \"x-large\""
   ]
  },
  {
   "cell_type": "code",
   "execution_count": 4,
   "metadata": {
    "ExecuteTime": {
     "end_time": "2020-02-19T12:19:21.226725Z",
     "start_time": "2020-02-19T12:19:21.218287Z"
    }
   },
   "outputs": [
    {
     "name": "stdout",
     "output_type": "stream",
     "text": [
      "Figure directory exists.\n"
     ]
    }
   ],
   "source": [
    "# Where to save the figures\n",
    "PROJECT_ROOT_DIR = \".\"\n",
    "PROJECT_SAVE_DIR = \"figs\"\n",
    "\n",
    "if not (os.path.isdir(PROJECT_ROOT_DIR + \"/\" + PROJECT_SAVE_DIR)):\n",
    "    print(\"Figure directory did not exist, creating now.\")\n",
    "    os.mkdir(PROJECT_ROOT_DIR + \"/\" + PROJECT_SAVE_DIR)\n",
    "else:\n",
    "    print(\"Figure directory exists.\")"
   ]
  },
  {
   "cell_type": "code",
   "execution_count": 203,
   "metadata": {
    "ExecuteTime": {
     "end_time": "2020-02-19T12:19:24.112158Z",
     "start_time": "2020-02-19T12:19:22.056658Z"
    }
   },
   "outputs": [
    {
     "name": "stdout",
     "output_type": "stream",
     "text": [
      "The lab_black extension is already loaded. To reload it, use:\n",
      "  %reload_ext lab_black\n",
      "Figure directory exists.\n"
     ]
    },
    {
     "data": {
      "text/plain": [
       "<module 'functions' from '/Users/blt/Documents/ml-weight-fraction/functions.py'>"
      ]
     },
     "execution_count": 203,
     "metadata": {},
     "output_type": "execute_result"
    }
   ],
   "source": [
    "# Import classes and functions used across multiple notebooks\n",
    "sys.path.append(os.getcwd())\n",
    "import importlib\n",
    "import functions as blt\n",
    "\n",
    "importlib.reload(blt)"
   ]
  },
  {
   "cell_type": "markdown",
   "metadata": {},
   "source": [
    "# Data"
   ]
  },
  {
   "cell_type": "markdown",
   "metadata": {},
   "source": [
    "## Read items from ENM preprocessing"
   ]
  },
  {
   "cell_type": "markdown",
   "metadata": {},
   "source": [
    "These will be used to help shape the organics data frame."
   ]
  },
  {
   "cell_type": "code",
   "execution_count": 204,
   "metadata": {
    "ExecuteTime": {
     "end_time": "2020-02-19T12:19:27.356749Z",
     "start_time": "2020-02-19T12:19:27.350595Z"
    }
   },
   "outputs": [],
   "source": [
    "# Import data frame headings from target model (before pre-processing)\n",
    "enm_cols = []\n",
    "with open(\"./data/column-headers.txt\", \"r\") as filehandle:\n",
    "    for line in filehandle:\n",
    "        # Remove linebreak which is the last character of the string\n",
    "        currentCol = line[:-1]\n",
    "        # Add item to the list\n",
    "        enm_cols.append(currentCol)"
   ]
  },
  {
   "cell_type": "code",
   "execution_count": 277,
   "metadata": {
    "ExecuteTime": {
     "end_time": "2020-02-19T12:19:28.111731Z",
     "start_time": "2020-02-19T12:19:28.082604Z"
    }
   },
   "outputs": [
    {
     "data": {
      "text/html": [
       "<div>\n",
       "<style scoped>\n",
       "    .dataframe tbody tr th:only-of-type {\n",
       "        vertical-align: middle;\n",
       "    }\n",
       "\n",
       "    .dataframe tbody tr th {\n",
       "        vertical-align: top;\n",
       "    }\n",
       "\n",
       "    .dataframe thead th {\n",
       "        text-align: right;\n",
       "    }\n",
       "</style>\n",
       "<table border=\"1\" class=\"dataframe\">\n",
       "  <thead>\n",
       "    <tr style=\"text-align: right;\">\n",
       "      <th></th>\n",
       "      <th>cprp_MW</th>\n",
       "      <th>cprp_MP</th>\n",
       "      <th>cprp_BP</th>\n",
       "      <th>cprp_density</th>\n",
       "      <th>func_absorbent</th>\n",
       "      <th>func_antiadhesivecohesive</th>\n",
       "      <th>func_antioxidant</th>\n",
       "      <th>func_antiredepositionagent</th>\n",
       "      <th>func_biocide</th>\n",
       "      <th>func_brightener</th>\n",
       "      <th>...</th>\n",
       "      <th>pgrp_makeuprelated</th>\n",
       "      <th>pgrp_nutritionalsupplements</th>\n",
       "      <th>pgrp_paintstainrelated</th>\n",
       "      <th>pgrp_portableairprocessing</th>\n",
       "      <th>pgrp_sunscreen</th>\n",
       "      <th>pgrp_surfacesealers</th>\n",
       "      <th>pgrp_toys</th>\n",
       "      <th>mtrx_spray</th>\n",
       "      <th>mtrx_formulation</th>\n",
       "      <th>mtrx_WFmeasured</th>\n",
       "    </tr>\n",
       "  </thead>\n",
       "  <tbody>\n",
       "    <tr>\n",
       "      <th>0</th>\n",
       "      <td>79.867</td>\n",
       "      <td>1843.00</td>\n",
       "      <td>2972.0</td>\n",
       "      <td>4.230</td>\n",
       "      <td>0</td>\n",
       "      <td>0</td>\n",
       "      <td>0</td>\n",
       "      <td>1</td>\n",
       "      <td>0</td>\n",
       "      <td>0</td>\n",
       "      <td>...</td>\n",
       "      <td>0</td>\n",
       "      <td>0</td>\n",
       "      <td>1</td>\n",
       "      <td>0</td>\n",
       "      <td>0</td>\n",
       "      <td>0</td>\n",
       "      <td>0</td>\n",
       "      <td>0</td>\n",
       "      <td>1</td>\n",
       "      <td>0</td>\n",
       "    </tr>\n",
       "    <tr>\n",
       "      <th>1</th>\n",
       "      <td>63.546</td>\n",
       "      <td>1083.00</td>\n",
       "      <td>2567.0</td>\n",
       "      <td>8.960</td>\n",
       "      <td>0</td>\n",
       "      <td>0</td>\n",
       "      <td>1</td>\n",
       "      <td>0</td>\n",
       "      <td>1</td>\n",
       "      <td>0</td>\n",
       "      <td>...</td>\n",
       "      <td>0</td>\n",
       "      <td>1</td>\n",
       "      <td>0</td>\n",
       "      <td>0</td>\n",
       "      <td>0</td>\n",
       "      <td>0</td>\n",
       "      <td>0</td>\n",
       "      <td>0</td>\n",
       "      <td>1</td>\n",
       "      <td>0</td>\n",
       "    </tr>\n",
       "    <tr>\n",
       "      <th>2</th>\n",
       "      <td>65.370</td>\n",
       "      <td>419.53</td>\n",
       "      <td>907.0</td>\n",
       "      <td>7.140</td>\n",
       "      <td>0</td>\n",
       "      <td>0</td>\n",
       "      <td>1</td>\n",
       "      <td>0</td>\n",
       "      <td>0</td>\n",
       "      <td>0</td>\n",
       "      <td>...</td>\n",
       "      <td>0</td>\n",
       "      <td>1</td>\n",
       "      <td>0</td>\n",
       "      <td>0</td>\n",
       "      <td>0</td>\n",
       "      <td>0</td>\n",
       "      <td>0</td>\n",
       "      <td>0</td>\n",
       "      <td>1</td>\n",
       "      <td>0</td>\n",
       "    </tr>\n",
       "    <tr>\n",
       "      <th>3</th>\n",
       "      <td>107.868</td>\n",
       "      <td>961.78</td>\n",
       "      <td>2162.0</td>\n",
       "      <td>10.345</td>\n",
       "      <td>0</td>\n",
       "      <td>0</td>\n",
       "      <td>0</td>\n",
       "      <td>0</td>\n",
       "      <td>1</td>\n",
       "      <td>0</td>\n",
       "      <td>...</td>\n",
       "      <td>0</td>\n",
       "      <td>0</td>\n",
       "      <td>0</td>\n",
       "      <td>0</td>\n",
       "      <td>0</td>\n",
       "      <td>0</td>\n",
       "      <td>0</td>\n",
       "      <td>0</td>\n",
       "      <td>1</td>\n",
       "      <td>0</td>\n",
       "    </tr>\n",
       "  </tbody>\n",
       "</table>\n",
       "<p>4 rows × 53 columns</p>\n",
       "</div>"
      ],
      "text/plain": [
       "   cprp_MW  cprp_MP  cprp_BP  cprp_density  func_absorbent  \\\n",
       "0   79.867  1843.00   2972.0         4.230               0   \n",
       "1   63.546  1083.00   2567.0         8.960               0   \n",
       "2   65.370   419.53    907.0         7.140               0   \n",
       "3  107.868   961.78   2162.0        10.345               0   \n",
       "\n",
       "   func_antiadhesivecohesive  func_antioxidant  func_antiredepositionagent  \\\n",
       "0                          0                 0                           1   \n",
       "1                          0                 1                           0   \n",
       "2                          0                 1                           0   \n",
       "3                          0                 0                           0   \n",
       "\n",
       "   func_biocide  func_brightener  ...  pgrp_makeuprelated  \\\n",
       "0             0                0  ...                   0   \n",
       "1             1                0  ...                   0   \n",
       "2             0                0  ...                   0   \n",
       "3             1                0  ...                   0   \n",
       "\n",
       "   pgrp_nutritionalsupplements  pgrp_paintstainrelated  \\\n",
       "0                            0                       1   \n",
       "1                            1                       0   \n",
       "2                            1                       0   \n",
       "3                            0                       0   \n",
       "\n",
       "   pgrp_portableairprocessing  pgrp_sunscreen  pgrp_surfacesealers  pgrp_toys  \\\n",
       "0                           0               0                    0          0   \n",
       "1                           0               0                    0          0   \n",
       "2                           0               0                    0          0   \n",
       "3                           0               0                    0          0   \n",
       "\n",
       "   mtrx_spray  mtrx_formulation  mtrx_WFmeasured  \n",
       "0           0                 1                0  \n",
       "1           0                 1                0  \n",
       "2           0                 1                0  \n",
       "3           0                 1                0  \n",
       "\n",
       "[4 rows x 53 columns]"
      ]
     },
     "execution_count": 277,
     "metadata": {},
     "output_type": "execute_result"
    }
   ],
   "source": [
    "# Read pre-processed ENM data (before applying feature reduction)\n",
    "X_enm = pd.read_csv(\"./data/ENM-preprocessed-feats.csv\", sep=\"\\t\", index_col=0)\n",
    "X_enm.head(4)"
   ]
  },
  {
   "cell_type": "markdown",
   "metadata": {
    "ExecuteTime": {
     "end_time": "2018-07-31T20:26:39.287566Z",
     "start_time": "2018-07-31T20:26:39.283890Z"
    }
   },
   "source": [
    "## Read organics data"
   ]
  },
  {
   "cell_type": "code",
   "execution_count": 278,
   "metadata": {
    "ExecuteTime": {
     "end_time": "2020-02-19T12:19:32.937664Z",
     "start_time": "2020-02-19T12:19:32.620715Z"
    }
   },
   "outputs": [
    {
     "name": "stdout",
     "output_type": "stream",
     "text": [
      "[(29373, 87), (29373, 1)]\n"
     ]
    }
   ],
   "source": [
    "# Read in organcis potential predictive variables (\"features\")\n",
    "X_source = pd.read_csv(\"./data/organics-clean.csv\", sep=\",\", index_col=0)\n",
    "\n",
    "# Read in organics weight fraction data\n",
    "y_source = pd.read_csv(\"./data/organics-clean.csv\", sep=\",\", usecols=[2])\n",
    "\n",
    "print([X_source.shape, y_source.shape])"
   ]
  },
  {
   "cell_type": "code",
   "execution_count": 279,
   "metadata": {
    "ExecuteTime": {
     "end_time": "2020-02-19T12:19:34.699919Z",
     "start_time": "2020-02-19T12:19:34.581020Z"
    },
    "scrolled": true
   },
   "outputs": [],
   "source": [
    "# Clean feature data and column names\n",
    "\n",
    "# Drop unwanted columns (CASRN, WF, product type, chem-props unused in ENM df)\n",
    "X_source.drop(\n",
    "    X_source.columns[[0, 1, 4, 8, 9, 10, 11, 14, 15, 17]], axis=1, inplace=True\n",
    ")\n",
    "\n",
    "# Rename columns\n",
    "X_source.columns = X_source.columns.str.replace(\"_\", \"\")\n",
    "X_source.rename(\n",
    "    columns={\n",
    "        \"gencatID\": \"pgen\",\n",
    "        \"group\": \"pgrp\",\n",
    "        \"refinedproducttype\": \"refined\",\n",
    "        \"assignedID\": \"mtrx\",\n",
    "        \"uvstabilizer\": \"UVstabilizer\",\n",
    "    },\n",
    "    inplace=True,\n",
    ")\n",
    "\n",
    "# Clean up data in refined column so it's only spray vs NOC\n",
    "X_source.loc[X_source.refined != \"spray\", \"refined\"] = \"NOC\"\n",
    "\n",
    "# Transform factor data (product categories) into binary columns\n",
    "X_source = pd.get_dummies(\n",
    "    X_source,\n",
    "    prefix=[\"pgen\", \"pgrp\", \"refined\", \"mtrx\"],\n",
    "    columns=[\"pgen\", \"pgrp\", \"refined\", \"mtrx\"],\n",
    ")\n",
    "\n",
    "# Remove spaces from column names\n",
    "X_source.columns = X_source.columns.str.replace(\" \", \"\")\n",
    "X_source.columns = X_source.columns.str.replace(\"/\", \"\")\n",
    "X_source.columns = X_source.columns.str.replace(\"-\", \"\")\n",
    "X_source.columns = X_source.columns.str.replace(\"and\", \"\")\n",
    "\n",
    "# Edit column name prefixes and suffixes for consistency and clarity\n",
    "X_source.columns = X_source.columns.str.replace(\"Density\", \"density\")\n",
    "X_source.columns = X_source.columns.str.replace(\"prop\", \"cprp_\")\n",
    "X_source.columns = X_source.columns.str.replace(\"refined\", \"mtrx\")\n",
    "X_source.columns = X_source.columns.str.replace(\"mtrx_F\", \"mtrx_formulation\")\n",
    "X_source.columns = X_source.columns.str.replace(\"relatedproducts\", \"related\")\n",
    "\n",
    "# Add 'func' prefix to functional uses\n",
    "cols = X_source.columns\n",
    "idx_func = np.asarray([i for i, c in enumerate(cols) if not \"_\" in c])\n",
    "X_source.rename(\n",
    "    columns={c: \"_\".join((\"func\", c)) for c in cols[idx_func]}, inplace=True\n",
    ")"
   ]
  },
  {
   "cell_type": "code",
   "execution_count": 280,
   "metadata": {
    "ExecuteTime": {
     "end_time": "2020-02-19T12:19:35.596090Z",
     "start_time": "2020-02-19T12:19:35.591904Z"
    }
   },
   "outputs": [],
   "source": [
    "# If there are ENM features not present in organics df, add them\n",
    "\n",
    "# List differences between feature sets\n",
    "cols_add = list(set(enm_cols) - set(X_source.columns.tolist()))\n",
    "# Assign these features to organics df with default values of zero\n",
    "for col in cols_add:\n",
    "    X_source[col] = 0"
   ]
  },
  {
   "cell_type": "code",
   "execution_count": 281,
   "metadata": {
    "ExecuteTime": {
     "end_time": "2020-02-19T12:19:36.382314Z",
     "start_time": "2020-02-19T12:19:36.279622Z"
    }
   },
   "outputs": [
    {
     "name": "stdout",
     "output_type": "stream",
     "text": [
      "(16439, 54)\n"
     ]
    }
   ],
   "source": [
    "# Delete unwanted samples\n",
    "\n",
    "# Restructure organics features df to match ENM df\n",
    "X_source = X_source[enm_cols]\n",
    "# Temporarily add WF labels to df\n",
    "X_source = pd.concat([y_source, X_source], axis=1)\n",
    "# Delete rows that are missing important chemical property data\n",
    "X_source = X_source[X_source[\"cprp_MP\"].notnull()]\n",
    "# Remove outlier lacking density data\n",
    "X_source = X_source[X_source[\"cprp_MP\"] > -170]\n",
    "# Delete rows that don't have enough data (positive labels)\n",
    "X_source = X_source[X_source.iloc[:, 5:].sum(axis=1) > 2]\n",
    "print(X_source.shape)"
   ]
  },
  {
   "cell_type": "code",
   "execution_count": 282,
   "metadata": {
    "ExecuteTime": {
     "end_time": "2020-02-19T12:19:37.452719Z",
     "start_time": "2020-02-19T12:19:37.398074Z"
    }
   },
   "outputs": [
    {
     "name": "stdout",
     "output_type": "stream",
     "text": [
      "(16439, 1)\n"
     ]
    }
   ],
   "source": [
    "# Extract wf labels (y) from new X_source\n",
    "y_source = X_source[[\"maximum_weight_fraction\"]]\n",
    "X_source.drop(X_source.columns[[0]], axis=1, inplace=True)\n",
    "print(y_source.shape)"
   ]
  },
  {
   "cell_type": "code",
   "execution_count": 283,
   "metadata": {
    "ExecuteTime": {
     "end_time": "2020-02-19T12:19:45.448171Z",
     "start_time": "2020-02-19T12:19:45.424586Z"
    }
   },
   "outputs": [
    {
     "data": {
      "text/html": [
       "<div>\n",
       "<style scoped>\n",
       "    .dataframe tbody tr th:only-of-type {\n",
       "        vertical-align: middle;\n",
       "    }\n",
       "\n",
       "    .dataframe tbody tr th {\n",
       "        vertical-align: top;\n",
       "    }\n",
       "\n",
       "    .dataframe thead th {\n",
       "        text-align: right;\n",
       "    }\n",
       "</style>\n",
       "<table border=\"1\" class=\"dataframe\">\n",
       "  <thead>\n",
       "    <tr style=\"text-align: right;\">\n",
       "      <th></th>\n",
       "      <th>cprp_MW</th>\n",
       "      <th>cprp_MP</th>\n",
       "      <th>cprp_BP</th>\n",
       "      <th>cprp_density</th>\n",
       "      <th>func_absorbent</th>\n",
       "      <th>func_antiadhesivecohesive</th>\n",
       "      <th>func_antioxidant</th>\n",
       "      <th>func_antiredepositionagent</th>\n",
       "      <th>func_biocide</th>\n",
       "      <th>func_brightener</th>\n",
       "      <th>...</th>\n",
       "      <th>pgrp_makeuprelated</th>\n",
       "      <th>pgrp_nutritionalsupplements</th>\n",
       "      <th>pgrp_paintstainrelated</th>\n",
       "      <th>pgrp_portableairprocessing</th>\n",
       "      <th>pgrp_sunscreen</th>\n",
       "      <th>pgrp_surfacesealers</th>\n",
       "      <th>pgrp_toys</th>\n",
       "      <th>mtrx_spray</th>\n",
       "      <th>mtrx_formulation</th>\n",
       "      <th>mtrx_WFmeasured</th>\n",
       "    </tr>\n",
       "  </thead>\n",
       "  <tbody>\n",
       "    <tr>\n",
       "      <th>29366</th>\n",
       "      <td>152.149</td>\n",
       "      <td>84.03215</td>\n",
       "      <td>263.941</td>\n",
       "      <td>1.198</td>\n",
       "      <td>0.0</td>\n",
       "      <td>0.0</td>\n",
       "      <td>0.0</td>\n",
       "      <td>0.0</td>\n",
       "      <td>0.0</td>\n",
       "      <td>0.0</td>\n",
       "      <td>...</td>\n",
       "      <td>1.0</td>\n",
       "      <td>0.0</td>\n",
       "      <td>0.0</td>\n",
       "      <td>0.0</td>\n",
       "      <td>0.0</td>\n",
       "      <td>0.0</td>\n",
       "      <td>0.0</td>\n",
       "      <td>0.0</td>\n",
       "      <td>1.0</td>\n",
       "      <td>0.0</td>\n",
       "    </tr>\n",
       "    <tr>\n",
       "      <th>29367</th>\n",
       "      <td>152.149</td>\n",
       "      <td>84.03215</td>\n",
       "      <td>263.941</td>\n",
       "      <td>1.198</td>\n",
       "      <td>0.0</td>\n",
       "      <td>0.0</td>\n",
       "      <td>0.0</td>\n",
       "      <td>0.0</td>\n",
       "      <td>0.0</td>\n",
       "      <td>0.0</td>\n",
       "      <td>...</td>\n",
       "      <td>0.0</td>\n",
       "      <td>0.0</td>\n",
       "      <td>0.0</td>\n",
       "      <td>0.0</td>\n",
       "      <td>0.0</td>\n",
       "      <td>0.0</td>\n",
       "      <td>0.0</td>\n",
       "      <td>0.0</td>\n",
       "      <td>1.0</td>\n",
       "      <td>0.0</td>\n",
       "    </tr>\n",
       "    <tr>\n",
       "      <th>29368</th>\n",
       "      <td>152.149</td>\n",
       "      <td>84.03215</td>\n",
       "      <td>263.941</td>\n",
       "      <td>1.198</td>\n",
       "      <td>0.0</td>\n",
       "      <td>0.0</td>\n",
       "      <td>0.0</td>\n",
       "      <td>0.0</td>\n",
       "      <td>0.0</td>\n",
       "      <td>0.0</td>\n",
       "      <td>...</td>\n",
       "      <td>1.0</td>\n",
       "      <td>0.0</td>\n",
       "      <td>0.0</td>\n",
       "      <td>0.0</td>\n",
       "      <td>0.0</td>\n",
       "      <td>0.0</td>\n",
       "      <td>0.0</td>\n",
       "      <td>0.0</td>\n",
       "      <td>1.0</td>\n",
       "      <td>0.0</td>\n",
       "    </tr>\n",
       "    <tr>\n",
       "      <th>29369</th>\n",
       "      <td>135.210</td>\n",
       "      <td>-31.78080</td>\n",
       "      <td>203.080</td>\n",
       "      <td>0.930</td>\n",
       "      <td>0.0</td>\n",
       "      <td>0.0</td>\n",
       "      <td>0.0</td>\n",
       "      <td>0.0</td>\n",
       "      <td>0.0</td>\n",
       "      <td>0.0</td>\n",
       "      <td>...</td>\n",
       "      <td>0.0</td>\n",
       "      <td>0.0</td>\n",
       "      <td>0.0</td>\n",
       "      <td>0.0</td>\n",
       "      <td>0.0</td>\n",
       "      <td>0.0</td>\n",
       "      <td>0.0</td>\n",
       "      <td>0.0</td>\n",
       "      <td>1.0</td>\n",
       "      <td>0.0</td>\n",
       "    </tr>\n",
       "    <tr>\n",
       "      <th>29370</th>\n",
       "      <td>135.210</td>\n",
       "      <td>-31.78080</td>\n",
       "      <td>203.080</td>\n",
       "      <td>0.930</td>\n",
       "      <td>0.0</td>\n",
       "      <td>0.0</td>\n",
       "      <td>0.0</td>\n",
       "      <td>0.0</td>\n",
       "      <td>0.0</td>\n",
       "      <td>0.0</td>\n",
       "      <td>...</td>\n",
       "      <td>0.0</td>\n",
       "      <td>0.0</td>\n",
       "      <td>0.0</td>\n",
       "      <td>0.0</td>\n",
       "      <td>0.0</td>\n",
       "      <td>0.0</td>\n",
       "      <td>0.0</td>\n",
       "      <td>0.0</td>\n",
       "      <td>1.0</td>\n",
       "      <td>0.0</td>\n",
       "    </tr>\n",
       "  </tbody>\n",
       "</table>\n",
       "<p>5 rows × 53 columns</p>\n",
       "</div>"
      ],
      "text/plain": [
       "       cprp_MW   cprp_MP  cprp_BP  cprp_density  func_absorbent  \\\n",
       "29366  152.149  84.03215  263.941         1.198             0.0   \n",
       "29367  152.149  84.03215  263.941         1.198             0.0   \n",
       "29368  152.149  84.03215  263.941         1.198             0.0   \n",
       "29369  135.210 -31.78080  203.080         0.930             0.0   \n",
       "29370  135.210 -31.78080  203.080         0.930             0.0   \n",
       "\n",
       "       func_antiadhesivecohesive  func_antioxidant  \\\n",
       "29366                        0.0               0.0   \n",
       "29367                        0.0               0.0   \n",
       "29368                        0.0               0.0   \n",
       "29369                        0.0               0.0   \n",
       "29370                        0.0               0.0   \n",
       "\n",
       "       func_antiredepositionagent  func_biocide  func_brightener  ...  \\\n",
       "29366                         0.0           0.0              0.0  ...   \n",
       "29367                         0.0           0.0              0.0  ...   \n",
       "29368                         0.0           0.0              0.0  ...   \n",
       "29369                         0.0           0.0              0.0  ...   \n",
       "29370                         0.0           0.0              0.0  ...   \n",
       "\n",
       "       pgrp_makeuprelated  pgrp_nutritionalsupplements  \\\n",
       "29366                 1.0                          0.0   \n",
       "29367                 0.0                          0.0   \n",
       "29368                 1.0                          0.0   \n",
       "29369                 0.0                          0.0   \n",
       "29370                 0.0                          0.0   \n",
       "\n",
       "       pgrp_paintstainrelated  pgrp_portableairprocessing  pgrp_sunscreen  \\\n",
       "29366                     0.0                         0.0             0.0   \n",
       "29367                     0.0                         0.0             0.0   \n",
       "29368                     0.0                         0.0             0.0   \n",
       "29369                     0.0                         0.0             0.0   \n",
       "29370                     0.0                         0.0             0.0   \n",
       "\n",
       "       pgrp_surfacesealers  pgrp_toys  mtrx_spray  mtrx_formulation  \\\n",
       "29366                  0.0        0.0         0.0               1.0   \n",
       "29367                  0.0        0.0         0.0               1.0   \n",
       "29368                  0.0        0.0         0.0               1.0   \n",
       "29369                  0.0        0.0         0.0               1.0   \n",
       "29370                  0.0        0.0         0.0               1.0   \n",
       "\n",
       "       mtrx_WFmeasured  \n",
       "29366              0.0  \n",
       "29367              0.0  \n",
       "29368              0.0  \n",
       "29369              0.0  \n",
       "29370              0.0  \n",
       "\n",
       "[5 rows x 53 columns]"
      ]
     },
     "execution_count": 283,
     "metadata": {},
     "output_type": "execute_result"
    }
   ],
   "source": [
    "# Preview final main dataframe\n",
    "X_source.tail(5)"
   ]
  },
  {
   "cell_type": "code",
   "execution_count": 284,
   "metadata": {
    "ExecuteTime": {
     "end_time": "2020-02-19T12:19:58.493710Z",
     "start_time": "2020-02-19T12:19:58.484984Z"
    }
   },
   "outputs": [
    {
     "data": {
      "text/html": [
       "<div>\n",
       "<style scoped>\n",
       "    .dataframe tbody tr th:only-of-type {\n",
       "        vertical-align: middle;\n",
       "    }\n",
       "\n",
       "    .dataframe tbody tr th {\n",
       "        vertical-align: top;\n",
       "    }\n",
       "\n",
       "    .dataframe thead th {\n",
       "        text-align: right;\n",
       "    }\n",
       "</style>\n",
       "<table border=\"1\" class=\"dataframe\">\n",
       "  <thead>\n",
       "    <tr style=\"text-align: right;\">\n",
       "      <th></th>\n",
       "      <th>maximum_weight_fraction</th>\n",
       "    </tr>\n",
       "  </thead>\n",
       "  <tbody>\n",
       "    <tr>\n",
       "      <th>29366</th>\n",
       "      <td>0.01</td>\n",
       "    </tr>\n",
       "    <tr>\n",
       "      <th>29367</th>\n",
       "      <td>0.01</td>\n",
       "    </tr>\n",
       "    <tr>\n",
       "      <th>29368</th>\n",
       "      <td>0.02</td>\n",
       "    </tr>\n",
       "    <tr>\n",
       "      <th>29369</th>\n",
       "      <td>0.02</td>\n",
       "    </tr>\n",
       "    <tr>\n",
       "      <th>29370</th>\n",
       "      <td>0.05</td>\n",
       "    </tr>\n",
       "  </tbody>\n",
       "</table>\n",
       "</div>"
      ],
      "text/plain": [
       "       maximum_weight_fraction\n",
       "29366                     0.01\n",
       "29367                     0.01\n",
       "29368                     0.02\n",
       "29369                     0.02\n",
       "29370                     0.05"
      ]
     },
     "execution_count": 284,
     "metadata": {},
     "output_type": "execute_result"
    }
   ],
   "source": [
    "y_source.tail(5)"
   ]
  },
  {
   "cell_type": "markdown",
   "metadata": {},
   "source": [
    "## Imputation for density"
   ]
  },
  {
   "cell_type": "code",
   "execution_count": 285,
   "metadata": {
    "ExecuteTime": {
     "end_time": "2020-02-06T06:13:01.013441Z",
     "start_time": "2020-02-06T06:13:01.004614Z"
    }
   },
   "outputs": [
    {
     "name": "stdout",
     "output_type": "stream",
     "text": [
      "Missing data dimensions:\n",
      "(639, 53)\n",
      "Fraction of density data missing: 0.039\n"
     ]
    }
   ],
   "source": [
    "# How much density data is missing?\n",
    "print(\"Missing data dimensions:\")\n",
    "print(X_source[X_source[\"cprp_density\"].isnull()].shape)\n",
    "\n",
    "# Percent of density data missing\n",
    "missing_perc = len(X_source[X_source[\"cprp_density\"].isnull()]) / len(X_source)\n",
    "print(\"Fraction of density data missing: %.3f\" % missing_perc)"
   ]
  },
  {
   "cell_type": "code",
   "execution_count": 286,
   "metadata": {},
   "outputs": [
    {
     "data": {
      "image/png": "[encoded data removed]",
      "text/plain": [
       "<Figure size 432x288 with 16 Axes>"
      ]
     },
     "metadata": {},
     "output_type": "display_data"
    }
   ],
   "source": [
    "# Look at chemical property features\n",
    "feat_subset = [f for f in X_source.columns if \"cprp\" in f]\n",
    "\n",
    "# Plot scatter matrix and histograms\n",
    "scatter_mtrx = pd.plotting.scatter_matrix(X_source[feat_subset], alpha=0.2)\n",
    "plt.xticks([])\n",
    "plt.yticks([])\n",
    "\n",
    "for ax in scatter_mtrx.ravel():\n",
    "    ax.set_xlabel(\n",
    "        ax.get_xlabel(), fontsize=9, rotation=0,\n",
    "    )\n",
    "    ax.set_ylabel(\n",
    "        ax.get_ylabel(), fontsize=9, rotation=0, horizontalalignment=\"right\",\n",
    "    )\n",
    "    ax.axes.xaxis.set_ticks([])\n",
    "    ax.axes.yaxis.set_ticks([])"
   ]
  },
  {
   "cell_type": "markdown",
   "metadata": {},
   "source": [
    "We will use sklearn's $SimpleImputer$ transformer to replace missing values using the *median*. This was selected over a more complex imputer as:\n",
    "\n",
    "* Only a small percentage of density data is missing (complexity shouldn't affect model performance)\n",
    "* The data may not be missing at random (density measurements may be harder to obtain for some molecules)\n",
    "* The distrubution of density data is skewed (thus the median is preferable over the mean)"
   ]
  },
  {
   "cell_type": "code",
   "execution_count": 287,
   "metadata": {},
   "outputs": [
    {
     "name": "stdout",
     "output_type": "stream",
     "text": [
      "Median: 0.995\n"
     ]
    },
    {
     "data": {
      "text/plain": [
       "array([[106.168  , -52.5218 , 147.1505 , ...,   0.     ,   1.     ,\n",
       "          0.     ],\n",
       "       [106.168  , -52.5218 , 147.1505 , ...,   0.     ,   1.     ,\n",
       "          0.     ],\n",
       "       [106.168  , -52.5218 , 147.1505 , ...,   1.     ,   1.     ,\n",
       "          0.     ],\n",
       "       ...,\n",
       "       [152.149  ,  84.03215, 263.941  , ...,   0.     ,   1.     ,\n",
       "          0.     ],\n",
       "       [135.21   , -31.7808 , 203.08   , ...,   0.     ,   1.     ,\n",
       "          0.     ],\n",
       "       [135.21   , -31.7808 , 203.08   , ...,   0.     ,   1.     ,\n",
       "          0.     ]])"
      ]
     },
     "execution_count": 287,
     "metadata": {},
     "output_type": "execute_result"
    }
   ],
   "source": [
    "from sklearn.impute import SimpleImputer\n",
    "\n",
    "# What is the median?\n",
    "print(\"Density median:\", X_source[\"cprp_density\"].median())\n",
    "\n",
    "# Impute\n",
    "imp_median = SimpleImputer(missing_values=np.nan, strategy=\"median\", copy=False)\n",
    "imp_median.fit_transform(X_source)"
   ]
  },
  {
   "cell_type": "code",
   "execution_count": 288,
   "metadata": {},
   "outputs": [
    {
     "name": "stdout",
     "output_type": "stream",
     "text": [
      "Missing data dimensions:\n",
      "(0, 53)\n"
     ]
    }
   ],
   "source": [
    "# How much density data is missing?\n",
    "print(\"Missing data dimensions:\")\n",
    "print(X_source[X_source[\"cprp_density\"].isnull()].shape)"
   ]
  },
  {
   "cell_type": "markdown",
   "metadata": {
    "ExecuteTime": {
     "end_time": "2018-07-31T20:29:35.081047Z",
     "start_time": "2018-07-31T20:29:35.076307Z"
    }
   },
   "source": [
    "## Organics WF bins"
   ]
  },
  {
   "cell_type": "code",
   "execution_count": 293,
   "metadata": {
    "ExecuteTime": {
     "end_time": "2020-02-06T06:13:20.563782Z",
     "start_time": "2020-02-06T06:13:20.427660Z"
    }
   },
   "outputs": [
    {
     "data": {
      "image/png": "[encoded data removed]",
      "text/plain": [
       "<Figure size 432x288 with 1 Axes>"
      ]
     },
     "metadata": {
      "needs_background": "light"
     },
     "output_type": "display_data"
    }
   ],
   "source": [
    "# Log-transformed histogram of weight fraction\n",
    "plt.hist(np.log10(np.asarray(y_source) + 0.00001), bins=16)"
   ]
  },
  {
   "cell_type": "code",
   "execution_count": 294,
   "metadata": {
    "ExecuteTime": {
     "end_time": "2020-02-06T06:13:21.356809Z",
     "start_time": "2020-02-06T06:13:21.116080Z"
    }
   },
   "outputs": [],
   "source": [
    "# Define function to assign weight fractions to bins per Isaacs et al. 2016\n",
    "def bins(row):\n",
    "    if row[\"maximum_weight_fraction\"] <= 0.01:\n",
    "        val = \"bottom\"\n",
    "    elif row[\"maximum_weight_fraction\"] > 0.05:\n",
    "        val = \"top\"\n",
    "    else:\n",
    "        val = \"middle\"\n",
    "    return val\n",
    "\n",
    "\n",
    "bin_source_isaacs = y_source.apply(bins, axis=1)"
   ]
  },
  {
   "cell_type": "code",
   "execution_count": 295,
   "metadata": {
    "ExecuteTime": {
     "end_time": "2020-02-06T06:13:22.920586Z",
     "start_time": "2020-02-06T06:13:22.803043Z"
    }
   },
   "outputs": [
    {
     "data": {
      "image/png": "[encoded data removed]",
      "text/plain": [
       "<Figure size 432x288 with 1 Axes>"
      ]
     },
     "metadata": {
      "needs_background": "light"
     },
     "output_type": "display_data"
    }
   ],
   "source": [
    "bin_source_isaacs.value_counts()[[\"bottom\", \"middle\", \"top\"]].plot(kind=\"bar\")\n",
    "plt.title(\"Frequency of Isaacs et al. Organic Weight Fraction Bins\")"
   ]
  },
  {
   "cell_type": "code",
   "execution_count": 296,
   "metadata": {
    "ExecuteTime": {
     "end_time": "2020-02-06T06:13:23.784725Z",
     "start_time": "2020-02-06T06:13:23.427959Z"
    }
   },
   "outputs": [
    {
     "data": {
      "image/png": "[encoded data removed]",
      "text/plain": [
       "<Figure size 432x288 with 1 Axes>"
      ]
     },
     "metadata": {
      "needs_background": "light"
     },
     "output_type": "display_data"
    },
    {
     "name": "stdout",
     "output_type": "stream",
     "text": [
      "Label bin:  [0 1 2]\n",
      "Count    :  [6127 7617 2695]\n",
      "Frequency:  [0.37, 0.46, 0.16]\n"
     ]
    }
   ],
   "source": [
    "# Apply bins to organics data\n",
    "# (slightly different ranges from those used by Isaacs et al. 2016)\n",
    "bin_source = np.asarray(y_source.apply(blt.bins, axis=1))\n",
    "# View bar plot of ENM WF bins\n",
    "blt.bar_graph_bins(bin_source, data_composition=\"Organic (Based on ENM)\")"
   ]
  },
  {
   "cell_type": "markdown",
   "metadata": {},
   "source": [
    "# Pre-processing"
   ]
  },
  {
   "cell_type": "markdown",
   "metadata": {},
   "source": [
    "## Data distributions"
   ]
  },
  {
   "cell_type": "code",
   "execution_count": 307,
   "metadata": {
    "ExecuteTime": {
     "end_time": "2020-02-06T07:25:42.235802Z",
     "start_time": "2020-02-06T07:25:42.225762Z"
    }
   },
   "outputs": [],
   "source": [
    "# Function for plotting piecharts\n",
    "def plot_barhgraph(df1, df2, feat_subset_prefix, save_fig_name=None, figsize=[3, 2.5]):\n",
    "\n",
    "    # Aesthetic settings\n",
    "    font_body = {\"fontsize\": 7, \"fontname\": \"Helvetica\"}\n",
    "    # font_title = {'fontsize':10, 'fontname':'Helvetica'}\n",
    "    my_colors = [\n",
    "        \"tab:blue\",  # sky blue\n",
    "        \"#E59400\",  # orange\n",
    "        \"tab:purple\",  # purple-blue\n",
    "        \"#C0504D\",  # red\n",
    "        \"tab:olive\",\n",
    "        \"#323299\",  # dark blue\n",
    "        \"#7a307a\",  # violet\n",
    "        \"seagreen\",\n",
    "        \"sienna\",\n",
    "        \"gold\",\n",
    "    ]\n",
    "\n",
    "    # Define data and labels for plotting\n",
    "    feat_subset = [f for f in df1.columns if feat_subset_prefix in f]\n",
    "    v1 = df1[feat_subset].sum(axis=0)\n",
    "    v2 = df2[feat_subset].sum(axis=0)\n",
    "    labels = [f.split(\"_\")[1] for f in feat_subset]\n",
    "\n",
    "    # Plot\n",
    "    ind = np.arange(len(labels))\n",
    "    p1 = plt.barh(ind, v1)\n",
    "    p2 = plt.barh(ind, v2)  # , bottom=v1\n",
    "\n",
    "    plt.xlabel(\"Number of Consumer Products with Feature\")\n",
    "    # plt.title('Scores by group and gender')\n",
    "    plt.yticks(ind, labels)\n",
    "    # plt.yticks(np.arange(0, 81, 10))\n",
    "    plt.legend((p1[0], p2[0]), (\"ENM Products\", \"Organics Products\"))\n",
    "\n",
    "    # savepdf(fig, \"bar_%s\" % save_fig_name.lower().replace(\" \", \"_\").replace(\")\", \"\"))\n",
    "    plt.show()"
   ]
  },
  {
   "cell_type": "code",
   "execution_count": 308,
   "metadata": {},
   "outputs": [
    {
     "data": {
      "image/png": "[encoded data removed]",
      "text/plain": [
       "<Figure size 432x288 with 1 Axes>"
      ]
     },
     "metadata": {
      "needs_background": "light"
     },
     "output_type": "display_data"
    }
   ],
   "source": [
    "plot_barhgraph(X_enm, X_source, feat_subset_prefix=\"pgrp\")"
   ]
  },
  {
   "cell_type": "code",
   "execution_count": 150,
   "metadata": {
    "ExecuteTime": {
     "end_time": "2020-02-06T07:25:52.954201Z",
     "start_time": "2020-02-06T07:25:52.673170Z"
    }
   },
   "outputs": [
    {
     "data": {
      "image/png": "[encoded data removed]",
      "text/plain": [
       "<Figure size 216x180 with 1 Axes>"
      ]
     },
     "metadata": {},
     "output_type": "display_data"
    }
   ],
   "source": [
    "# Organics function breakdown as pie chart\n",
    "plot_piechart(data=Xf_source.sum(axis=0), \n",
    "              labels=source_func_names, \n",
    "              save_fig_name='b) Organics Functional Uses')"
   ]
  },
  {
   "cell_type": "code",
   "execution_count": 152,
   "metadata": {
    "ExecuteTime": {
     "end_time": "2020-02-06T07:28:14.837874Z",
     "start_time": "2020-02-06T07:28:14.627136Z"
    }
   },
   "outputs": [
    {
     "data": {
      "image/png": "[encoded data removed]",
      "text/plain": [
       "<Figure size 216x144 with 1 Axes>"
      ]
     },
     "metadata": {},
     "output_type": "display_data"
    }
   ],
   "source": [
    "# Organics PUC breakdown as pie chart\n",
    "plot_piechart(data=Xp_source.values[:,0:7].sum(axis=0), \n",
    "              labels=source_PUC_names[0:7], \n",
    "              save_fig_name='d) Organics General Product Categories', \n",
    "              figsize=[3,2])"
   ]
  },
  {
   "cell_type": "code",
   "execution_count": 146,
   "metadata": {
    "ExecuteTime": {
     "end_time": "2020-02-06T07:24:08.013960Z",
     "start_time": "2020-02-06T07:24:07.744157Z"
    }
   },
   "outputs": [
    {
     "data": {
      "image/png": "[encoded data removed]",
      "text/plain": [
       "<Figure size 216x180 with 1 Axes>"
      ]
     },
     "metadata": {},
     "output_type": "display_data"
    }
   ],
   "source": [
    "# Organics PUC breakdown as pie chart\n",
    "plot_piechart(data=Xp_source.values[:,7:].sum(axis=0), \n",
    "              labels=source_PUC_names[7:], \n",
    "              save_fig_name='f) Organics Product Group Categories')"
   ]
  },
  {
   "cell_type": "code",
   "execution_count": 153,
   "metadata": {
    "ExecuteTime": {
     "end_time": "2020-02-06T07:28:31.364149Z",
     "start_time": "2020-02-06T07:28:31.171844Z"
    }
   },
   "outputs": [
    {
     "data": {
      "image/png": "[encoded data removed]",
      "text/plain": [
       "<Figure size 216x144 with 1 Axes>"
      ]
     },
     "metadata": {},
     "output_type": "display_data"
    }
   ],
   "source": [
    "# Organics product matrices as pie chart\n",
    "labels = ['formulation','article']\n",
    "values = [(np.count_nonzero(X_source['mtrx_formulation'])), \n",
    "          (len(X_source['mtrx_formulation']) - np.count_nonzero(X_source['mtrx_formulation']))]\n",
    "plot_piechart(data=values, \n",
    "              labels=labels, \n",
    "              save_fig_name='h) Organics Product Matrix', \n",
    "              figsize=[3,2])"
   ]
  },
  {
   "cell_type": "code",
   "execution_count": 154,
   "metadata": {
    "ExecuteTime": {
     "end_time": "2020-02-06T07:28:51.948885Z",
     "start_time": "2020-02-06T07:28:51.762751Z"
    }
   },
   "outputs": [
    {
     "data": {
      "image/png": "[encoded data removed]",
      "text/plain": [
       "<Figure size 216x144 with 1 Axes>"
      ]
     },
     "metadata": {},
     "output_type": "display_data"
    }
   ],
   "source": [
    "# Organics spray products as pie chart\n",
    "labels = ['spray','other']\n",
    "values = [(np.count_nonzero(X_source['mtrx_spray'])), \n",
    "          (len(X_source['mtrx_spray']) \\\n",
    "           - np.count_nonzero(X_source['mtrx_spray']))]\n",
    "plot_piechart(data=values, \n",
    "              labels=labels, \n",
    "              save_fig_name='j) Organics Spray Products', \n",
    "              figsize=[3,2])"
   ]
  },
  {
   "cell_type": "markdown",
   "metadata": {},
   "source": [
    "## PCA"
   ]
  },
  {
   "cell_type": "markdown",
   "metadata": {},
   "source": [
    "Fit PCA to ENM data, then apply to organics."
   ]
  },
  {
   "cell_type": "code",
   "execution_count": 135,
   "metadata": {
    "ExecuteTime": {
     "end_time": "2020-02-06T06:13:58.593022Z",
     "start_time": "2020-02-06T06:13:58.112861Z"
    }
   },
   "outputs": [],
   "source": [
    "# Scale the data first (i.e., chemical properties) from 0 to 1\n",
    "from sklearn.preprocessing import MinMaxScaler\n",
    "scaler = MinMaxScaler()\n",
    "scaler.fit(X_enm)\n",
    "X_enm_scaled = scaler.transform(X_enm)\n",
    "X_source_scaled = scaler.transform(X_source)\n",
    "\n",
    "# Transform/apply PCA\n",
    "from sklearn import decomposition \n",
    "pca = decomposition.PCA(n_components=11)\n",
    "pca.fit(X_enm_scaled)\n",
    "dim_red_source = pd.DataFrame(pca.transform(X_source_scaled))\n",
    "\n",
    "# Export PCA dataframe\n",
    "dim_red_source.to_csv(\"./data/organics-PCA-feats.csv\", sep='\\t', na_rep='', \n",
    "                      header=True, index=True, index_label=None, mode='w')"
   ]
  },
  {
   "cell_type": "markdown",
   "metadata": {},
   "source": [
    "## Hierarchical Agglomerative Clustering (HAC)"
   ]
  },
  {
   "cell_type": "code",
   "execution_count": 136,
   "metadata": {
    "ExecuteTime": {
     "end_time": "2020-02-06T06:14:00.819704Z",
     "start_time": "2020-02-06T06:14:00.570113Z"
    }
   },
   "outputs": [],
   "source": [
    "# Apply feature agglomeration to functional use and PUC features\n",
    "Xf_source_red = blt.feat_agglom(13, 'fagg', Xf_enm, Xf_source)\n",
    "Xp_source_red = blt.feat_agglom(16, 'pagg', Xp_enm, Xp_source)\n",
    "\n",
    "# Make sure indices match\n",
    "Xf_source_red.index = Xc_source.index\n",
    "Xp_source_red.index = Xc_source.index\n",
    "\n",
    "# Drop boiling point as per ENM data\n",
    "Xc_source = Xc_source.drop(['cprp_BP'], axis=1)"
   ]
  },
  {
   "cell_type": "code",
   "execution_count": 137,
   "metadata": {
    "ExecuteTime": {
     "end_time": "2020-02-06T06:14:02.453789Z",
     "start_time": "2020-02-06T06:14:02.420722Z"
    }
   },
   "outputs": [
    {
     "data": {
      "text/html": [
       "<div>\n",
       "<style scoped>\n",
       "    .dataframe tbody tr th:only-of-type {\n",
       "        vertical-align: middle;\n",
       "    }\n",
       "\n",
       "    .dataframe tbody tr th {\n",
       "        vertical-align: top;\n",
       "    }\n",
       "\n",
       "    .dataframe thead th {\n",
       "        text-align: right;\n",
       "    }\n",
       "</style>\n",
       "<table border=\"1\" class=\"dataframe\">\n",
       "  <thead>\n",
       "    <tr style=\"text-align: right;\">\n",
       "      <th></th>\n",
       "      <th>cprp_MW</th>\n",
       "      <th>cprp_MP</th>\n",
       "      <th>cprp_logdensity</th>\n",
       "      <th>fagg_absorbent_opacifier</th>\n",
       "      <th>fagg_brightener_viscositymodifier</th>\n",
       "      <th>fagg_filler_humectant</th>\n",
       "      <th>func_UVstabilizer</th>\n",
       "      <th>func_antiadhesivecohesive</th>\n",
       "      <th>func_antioxidant</th>\n",
       "      <th>func_antiredepositionagent</th>\n",
       "      <th>...</th>\n",
       "      <th>pgrp_dentalcare</th>\n",
       "      <th>pgrp_deodorant</th>\n",
       "      <th>pgrp_facialcleansingmoisturizing</th>\n",
       "      <th>pgrp_footcare</th>\n",
       "      <th>pgrp_generalmoisturizing</th>\n",
       "      <th>pgrp_makeuprelated</th>\n",
       "      <th>pgrp_surfacesealers</th>\n",
       "      <th>mtrx_spray</th>\n",
       "      <th>mtrx_formulation</th>\n",
       "      <th>mtrx_WFmeasured</th>\n",
       "    </tr>\n",
       "  </thead>\n",
       "  <tbody>\n",
       "    <tr>\n",
       "      <th>29361</th>\n",
       "      <td>152.149</td>\n",
       "      <td>84.03215</td>\n",
       "      <td>0.078457</td>\n",
       "      <td>0.0</td>\n",
       "      <td>0.0</td>\n",
       "      <td>0.0</td>\n",
       "      <td>0.0</td>\n",
       "      <td>0.0</td>\n",
       "      <td>0.0</td>\n",
       "      <td>0.0</td>\n",
       "      <td>...</td>\n",
       "      <td>0.0</td>\n",
       "      <td>0.0</td>\n",
       "      <td>0.0</td>\n",
       "      <td>0.0</td>\n",
       "      <td>0.0</td>\n",
       "      <td>1.0</td>\n",
       "      <td>0.0</td>\n",
       "      <td>0.0</td>\n",
       "      <td>1.0</td>\n",
       "      <td>0.0</td>\n",
       "    </tr>\n",
       "    <tr>\n",
       "      <th>29362</th>\n",
       "      <td>152.149</td>\n",
       "      <td>84.03215</td>\n",
       "      <td>0.078457</td>\n",
       "      <td>0.0</td>\n",
       "      <td>0.0</td>\n",
       "      <td>0.0</td>\n",
       "      <td>0.0</td>\n",
       "      <td>0.0</td>\n",
       "      <td>0.0</td>\n",
       "      <td>0.0</td>\n",
       "      <td>...</td>\n",
       "      <td>0.0</td>\n",
       "      <td>0.0</td>\n",
       "      <td>0.0</td>\n",
       "      <td>0.0</td>\n",
       "      <td>0.0</td>\n",
       "      <td>1.0</td>\n",
       "      <td>0.0</td>\n",
       "      <td>0.0</td>\n",
       "      <td>1.0</td>\n",
       "      <td>0.0</td>\n",
       "    </tr>\n",
       "    <tr>\n",
       "      <th>29363</th>\n",
       "      <td>152.149</td>\n",
       "      <td>84.03215</td>\n",
       "      <td>0.078457</td>\n",
       "      <td>0.0</td>\n",
       "      <td>0.0</td>\n",
       "      <td>0.0</td>\n",
       "      <td>0.0</td>\n",
       "      <td>0.0</td>\n",
       "      <td>0.0</td>\n",
       "      <td>0.0</td>\n",
       "      <td>...</td>\n",
       "      <td>0.0</td>\n",
       "      <td>0.0</td>\n",
       "      <td>0.0</td>\n",
       "      <td>0.0</td>\n",
       "      <td>0.0</td>\n",
       "      <td>0.0</td>\n",
       "      <td>0.0</td>\n",
       "      <td>0.0</td>\n",
       "      <td>1.0</td>\n",
       "      <td>0.0</td>\n",
       "    </tr>\n",
       "    <tr>\n",
       "      <th>29364</th>\n",
       "      <td>152.149</td>\n",
       "      <td>84.03215</td>\n",
       "      <td>0.078457</td>\n",
       "      <td>0.0</td>\n",
       "      <td>0.0</td>\n",
       "      <td>0.0</td>\n",
       "      <td>0.0</td>\n",
       "      <td>0.0</td>\n",
       "      <td>0.0</td>\n",
       "      <td>0.0</td>\n",
       "      <td>...</td>\n",
       "      <td>0.0</td>\n",
       "      <td>0.0</td>\n",
       "      <td>0.0</td>\n",
       "      <td>0.0</td>\n",
       "      <td>1.0</td>\n",
       "      <td>0.0</td>\n",
       "      <td>0.0</td>\n",
       "      <td>0.0</td>\n",
       "      <td>1.0</td>\n",
       "      <td>0.0</td>\n",
       "    </tr>\n",
       "    <tr>\n",
       "      <th>29365</th>\n",
       "      <td>152.149</td>\n",
       "      <td>84.03215</td>\n",
       "      <td>0.078457</td>\n",
       "      <td>0.0</td>\n",
       "      <td>0.0</td>\n",
       "      <td>0.0</td>\n",
       "      <td>0.0</td>\n",
       "      <td>0.0</td>\n",
       "      <td>0.0</td>\n",
       "      <td>0.0</td>\n",
       "      <td>...</td>\n",
       "      <td>0.0</td>\n",
       "      <td>0.0</td>\n",
       "      <td>0.0</td>\n",
       "      <td>0.0</td>\n",
       "      <td>1.0</td>\n",
       "      <td>0.0</td>\n",
       "      <td>0.0</td>\n",
       "      <td>0.0</td>\n",
       "      <td>1.0</td>\n",
       "      <td>0.0</td>\n",
       "    </tr>\n",
       "    <tr>\n",
       "      <th>29366</th>\n",
       "      <td>152.149</td>\n",
       "      <td>84.03215</td>\n",
       "      <td>0.078457</td>\n",
       "      <td>0.0</td>\n",
       "      <td>0.0</td>\n",
       "      <td>0.0</td>\n",
       "      <td>0.0</td>\n",
       "      <td>0.0</td>\n",
       "      <td>0.0</td>\n",
       "      <td>0.0</td>\n",
       "      <td>...</td>\n",
       "      <td>0.0</td>\n",
       "      <td>0.0</td>\n",
       "      <td>0.0</td>\n",
       "      <td>0.0</td>\n",
       "      <td>0.0</td>\n",
       "      <td>1.0</td>\n",
       "      <td>0.0</td>\n",
       "      <td>0.0</td>\n",
       "      <td>1.0</td>\n",
       "      <td>0.0</td>\n",
       "    </tr>\n",
       "    <tr>\n",
       "      <th>29367</th>\n",
       "      <td>152.149</td>\n",
       "      <td>84.03215</td>\n",
       "      <td>0.078457</td>\n",
       "      <td>0.0</td>\n",
       "      <td>0.0</td>\n",
       "      <td>0.0</td>\n",
       "      <td>0.0</td>\n",
       "      <td>0.0</td>\n",
       "      <td>0.0</td>\n",
       "      <td>0.0</td>\n",
       "      <td>...</td>\n",
       "      <td>0.0</td>\n",
       "      <td>0.0</td>\n",
       "      <td>0.0</td>\n",
       "      <td>0.0</td>\n",
       "      <td>1.0</td>\n",
       "      <td>0.0</td>\n",
       "      <td>0.0</td>\n",
       "      <td>0.0</td>\n",
       "      <td>1.0</td>\n",
       "      <td>0.0</td>\n",
       "    </tr>\n",
       "    <tr>\n",
       "      <th>29368</th>\n",
       "      <td>152.149</td>\n",
       "      <td>84.03215</td>\n",
       "      <td>0.078457</td>\n",
       "      <td>0.0</td>\n",
       "      <td>0.0</td>\n",
       "      <td>0.0</td>\n",
       "      <td>0.0</td>\n",
       "      <td>0.0</td>\n",
       "      <td>0.0</td>\n",
       "      <td>0.0</td>\n",
       "      <td>...</td>\n",
       "      <td>0.0</td>\n",
       "      <td>0.0</td>\n",
       "      <td>0.0</td>\n",
       "      <td>0.0</td>\n",
       "      <td>0.0</td>\n",
       "      <td>1.0</td>\n",
       "      <td>0.0</td>\n",
       "      <td>0.0</td>\n",
       "      <td>1.0</td>\n",
       "      <td>0.0</td>\n",
       "    </tr>\n",
       "    <tr>\n",
       "      <th>29369</th>\n",
       "      <td>135.210</td>\n",
       "      <td>-31.78080</td>\n",
       "      <td>-0.031517</td>\n",
       "      <td>0.0</td>\n",
       "      <td>0.0</td>\n",
       "      <td>0.0</td>\n",
       "      <td>0.0</td>\n",
       "      <td>0.0</td>\n",
       "      <td>0.0</td>\n",
       "      <td>0.0</td>\n",
       "      <td>...</td>\n",
       "      <td>0.0</td>\n",
       "      <td>0.0</td>\n",
       "      <td>0.0</td>\n",
       "      <td>0.0</td>\n",
       "      <td>0.0</td>\n",
       "      <td>0.0</td>\n",
       "      <td>0.0</td>\n",
       "      <td>0.0</td>\n",
       "      <td>1.0</td>\n",
       "      <td>0.0</td>\n",
       "    </tr>\n",
       "    <tr>\n",
       "      <th>29370</th>\n",
       "      <td>135.210</td>\n",
       "      <td>-31.78080</td>\n",
       "      <td>-0.031517</td>\n",
       "      <td>0.0</td>\n",
       "      <td>0.0</td>\n",
       "      <td>0.0</td>\n",
       "      <td>0.0</td>\n",
       "      <td>0.0</td>\n",
       "      <td>0.0</td>\n",
       "      <td>0.0</td>\n",
       "      <td>...</td>\n",
       "      <td>0.0</td>\n",
       "      <td>0.0</td>\n",
       "      <td>0.0</td>\n",
       "      <td>0.0</td>\n",
       "      <td>0.0</td>\n",
       "      <td>0.0</td>\n",
       "      <td>0.0</td>\n",
       "      <td>0.0</td>\n",
       "      <td>1.0</td>\n",
       "      <td>0.0</td>\n",
       "    </tr>\n",
       "  </tbody>\n",
       "</table>\n",
       "<p>10 rows × 35 columns</p>\n",
       "</div>"
      ],
      "text/plain": [
       "       cprp_MW   cprp_MP  cprp_logdensity  fagg_absorbent_opacifier  \\\n",
       "29361  152.149  84.03215         0.078457                       0.0   \n",
       "29362  152.149  84.03215         0.078457                       0.0   \n",
       "29363  152.149  84.03215         0.078457                       0.0   \n",
       "29364  152.149  84.03215         0.078457                       0.0   \n",
       "29365  152.149  84.03215         0.078457                       0.0   \n",
       "29366  152.149  84.03215         0.078457                       0.0   \n",
       "29367  152.149  84.03215         0.078457                       0.0   \n",
       "29368  152.149  84.03215         0.078457                       0.0   \n",
       "29369  135.210 -31.78080        -0.031517                       0.0   \n",
       "29370  135.210 -31.78080        -0.031517                       0.0   \n",
       "\n",
       "       fagg_brightener_viscositymodifier  fagg_filler_humectant  \\\n",
       "29361                                0.0                    0.0   \n",
       "29362                                0.0                    0.0   \n",
       "29363                                0.0                    0.0   \n",
       "29364                                0.0                    0.0   \n",
       "29365                                0.0                    0.0   \n",
       "29366                                0.0                    0.0   \n",
       "29367                                0.0                    0.0   \n",
       "29368                                0.0                    0.0   \n",
       "29369                                0.0                    0.0   \n",
       "29370                                0.0                    0.0   \n",
       "\n",
       "       func_UVstabilizer  func_antiadhesivecohesive  func_antioxidant  \\\n",
       "29361                0.0                        0.0               0.0   \n",
       "29362                0.0                        0.0               0.0   \n",
       "29363                0.0                        0.0               0.0   \n",
       "29364                0.0                        0.0               0.0   \n",
       "29365                0.0                        0.0               0.0   \n",
       "29366                0.0                        0.0               0.0   \n",
       "29367                0.0                        0.0               0.0   \n",
       "29368                0.0                        0.0               0.0   \n",
       "29369                0.0                        0.0               0.0   \n",
       "29370                0.0                        0.0               0.0   \n",
       "\n",
       "       func_antiredepositionagent  ...  pgrp_dentalcare  pgrp_deodorant  \\\n",
       "29361                         0.0  ...              0.0             0.0   \n",
       "29362                         0.0  ...              0.0             0.0   \n",
       "29363                         0.0  ...              0.0             0.0   \n",
       "29364                         0.0  ...              0.0             0.0   \n",
       "29365                         0.0  ...              0.0             0.0   \n",
       "29366                         0.0  ...              0.0             0.0   \n",
       "29367                         0.0  ...              0.0             0.0   \n",
       "29368                         0.0  ...              0.0             0.0   \n",
       "29369                         0.0  ...              0.0             0.0   \n",
       "29370                         0.0  ...              0.0             0.0   \n",
       "\n",
       "       pgrp_facialcleansingmoisturizing  pgrp_footcare  \\\n",
       "29361                               0.0            0.0   \n",
       "29362                               0.0            0.0   \n",
       "29363                               0.0            0.0   \n",
       "29364                               0.0            0.0   \n",
       "29365                               0.0            0.0   \n",
       "29366                               0.0            0.0   \n",
       "29367                               0.0            0.0   \n",
       "29368                               0.0            0.0   \n",
       "29369                               0.0            0.0   \n",
       "29370                               0.0            0.0   \n",
       "\n",
       "       pgrp_generalmoisturizing  pgrp_makeuprelated  pgrp_surfacesealers  \\\n",
       "29361                       0.0                 1.0                  0.0   \n",
       "29362                       0.0                 1.0                  0.0   \n",
       "29363                       0.0                 0.0                  0.0   \n",
       "29364                       1.0                 0.0                  0.0   \n",
       "29365                       1.0                 0.0                  0.0   \n",
       "29366                       0.0                 1.0                  0.0   \n",
       "29367                       1.0                 0.0                  0.0   \n",
       "29368                       0.0                 1.0                  0.0   \n",
       "29369                       0.0                 0.0                  0.0   \n",
       "29370                       0.0                 0.0                  0.0   \n",
       "\n",
       "       mtrx_spray  mtrx_formulation  mtrx_WFmeasured  \n",
       "29361         0.0               1.0              0.0  \n",
       "29362         0.0               1.0              0.0  \n",
       "29363         0.0               1.0              0.0  \n",
       "29364         0.0               1.0              0.0  \n",
       "29365         0.0               1.0              0.0  \n",
       "29366         0.0               1.0              0.0  \n",
       "29367         0.0               1.0              0.0  \n",
       "29368         0.0               1.0              0.0  \n",
       "29369         0.0               1.0              0.0  \n",
       "29370         0.0               1.0              0.0  \n",
       "\n",
       "[10 rows x 35 columns]"
      ]
     },
     "execution_count": 137,
     "metadata": {},
     "output_type": "execute_result"
    }
   ],
   "source": [
    "# Concatenate all clustered features into new dataframe\n",
    "XX_source = pd.concat([Xc_source, Xf_source_red, Xp_source_red, Xm_source], \n",
    "                      axis=1)\n",
    "XX_source.tail(10)"
   ]
  },
  {
   "cell_type": "code",
   "execution_count": 138,
   "metadata": {
    "ExecuteTime": {
     "end_time": "2020-02-06T06:14:03.577717Z",
     "start_time": "2020-02-06T06:14:03.169379Z"
    }
   },
   "outputs": [],
   "source": [
    "# Export unscaled organics dataframe\n",
    "XX_source.to_csv(\"./data/organics-preprocessed-feats.csv\", \n",
    "                 sep='\\t', na_rep='', header=True, \n",
    "                 index=True, index_label=None, mode='w')"
   ]
  },
  {
   "cell_type": "code",
   "execution_count": 139,
   "metadata": {
    "ExecuteTime": {
     "end_time": "2020-02-06T06:14:05.021731Z",
     "start_time": "2020-02-06T06:14:04.512645Z"
    }
   },
   "outputs": [],
   "source": [
    "# Export organics dataframe without feature reduction\n",
    "X_source.to_csv(\"./data/organics-pre-preprocessed-feats.csv\", \n",
    "                sep='\\t', na_rep='', header=True, \n",
    "                index=True, index_label=None, mode='w')"
   ]
  },
  {
   "cell_type": "code",
   "execution_count": 140,
   "metadata": {
    "ExecuteTime": {
     "end_time": "2020-02-06T06:14:05.588400Z",
     "start_time": "2020-02-06T06:14:05.544900Z"
    }
   },
   "outputs": [],
   "source": [
    "# Export organics WF labels\n",
    "y_source.to_csv(\"./data/organics-preprocessed-WF.csv\", sep='\\t', na_rep='', \n",
    "                 header=True, index=True, index_label=None, mode='w')"
   ]
  },
  {
   "cell_type": "code",
   "execution_count": null,
   "metadata": {},
   "outputs": [],
   "source": []
  }
 ],
 "metadata": {
  "kernelspec": {
   "display_name": "Python 3",
   "language": "python",
   "name": "python3"
  },
  "language_info": {
   "codemirror_mode": {
    "name": "ipython",
    "version": 3
   },
   "file_extension": ".py",
   "mimetype": "text/x-python",
   "name": "python",
   "nbconvert_exporter": "python",
   "pygments_lexer": "ipython3",
   "version": "3.7.3"
  },
  "toc": {
   "base_numbering": 1,
   "nav_menu": {},
   "number_sections": true,
   "sideBar": true,
   "skip_h1_title": false,
   "title_cell": "Table of Contents",
   "title_sidebar": "Contents",
   "toc_cell": true,
   "toc_position": {
    "height": "calc(100% - 180px)",
    "left": "10px",
    "top": "150px",
    "width": "165px"
   },
   "toc_section_display": true,
   "toc_window_display": true
  }
 },
 "nbformat": 4,
 "nbformat_minor": 4
}
