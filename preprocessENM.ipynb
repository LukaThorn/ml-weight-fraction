{
 "cells": [
  {
   "cell_type": "markdown",
   "metadata": {
    "toc": true
   },
   "source": [
    "<h1>Table of Contents<span class=\"tocSkip\"></span></h1>\n",
    "<div class=\"toc\"><ul class=\"toc-item\"><li><span><a href=\"#Code-Setup\" data-toc-modified-id=\"Code-Setup-1\"><span class=\"toc-item-num\">1&nbsp;&nbsp;</span>Code Setup</a></span><ul class=\"toc-item\"><li><span><a href=\"#Acronyms-and-abbreviations\" data-toc-modified-id=\"Acronyms-and-abbreviations-1.1\"><span class=\"toc-item-num\">1.1&nbsp;&nbsp;</span>Acronyms and abbreviations</a></span></li></ul></li><li><span><a href=\"#Establish-Data-Frames\" data-toc-modified-id=\"Establish-Data-Frames-2\"><span class=\"toc-item-num\">2&nbsp;&nbsp;</span>Establish Data Frames</a></span><ul class=\"toc-item\"><li><span><a href=\"#Read-ENM-data\" data-toc-modified-id=\"Read-ENM-data-2.1\"><span class=\"toc-item-num\">2.1&nbsp;&nbsp;</span>Read ENM data</a></span></li><li><span><a href=\"#ENM-dataframes\" data-toc-modified-id=\"ENM-dataframes-2.2\"><span class=\"toc-item-num\">2.2&nbsp;&nbsp;</span>ENM dataframes</a></span></li><li><span><a href=\"#ENM-WF-bins\" data-toc-modified-id=\"ENM-WF-bins-2.3\"><span class=\"toc-item-num\">2.3&nbsp;&nbsp;</span>ENM WF bins</a></span></li></ul></li><li><span><a href=\"#Pre-processing\" data-toc-modified-id=\"Pre-processing-3\"><span class=\"toc-item-num\">3&nbsp;&nbsp;</span>Pre-processing</a></span><ul class=\"toc-item\"><li><span><a href=\"#Preliminary-performance-check\" data-toc-modified-id=\"Preliminary-performance-check-3.1\"><span class=\"toc-item-num\">3.1&nbsp;&nbsp;</span>Preliminary performance check</a></span></li><li><span><a href=\"#PCA\" data-toc-modified-id=\"PCA-3.2\"><span class=\"toc-item-num\">3.2&nbsp;&nbsp;</span>PCA</a></span></li><li><span><a href=\"#Hierarchical-Agglomerative-Clustering-(HAC)\" data-toc-modified-id=\"Hierarchical-Agglomerative-Clustering-(HAC)-3.3\"><span class=\"toc-item-num\">3.3&nbsp;&nbsp;</span>Hierarchical Agglomerative Clustering (HAC)</a></span><ul class=\"toc-item\"><li><span><a href=\"#Helper-class-for-selecting-best-ENM-estimator\" data-toc-modified-id=\"Helper-class-for-selecting-best-ENM-estimator-3.3.1\"><span class=\"toc-item-num\">3.3.1&nbsp;&nbsp;</span>Helper class for selecting best ENM estimator</a></span></li><li><span><a href=\"#Pipeline/GridSearch-to-select-n_clusters\" data-toc-modified-id=\"Pipeline/GridSearch-to-select-n_clusters-3.3.2\"><span class=\"toc-item-num\">3.3.2&nbsp;&nbsp;</span>Pipeline/GridSearch to select n_clusters</a></span></li><li><span><a href=\"#Apply-feature-agglomeration-using-optimized-n_clusters\" data-toc-modified-id=\"Apply-feature-agglomeration-using-optimized-n_clusters-3.3.3\"><span class=\"toc-item-num\">3.3.3&nbsp;&nbsp;</span>Apply feature agglomeration using optimized n_clusters</a></span></li></ul></li></ul></li><li><span><a href=\"#Core-models\" data-toc-modified-id=\"Core-models-4\"><span class=\"toc-item-num\">4&nbsp;&nbsp;</span>Core models</a></span><ul class=\"toc-item\"><li><span><a href=\"#Model-with-clustering,-regression\" data-toc-modified-id=\"Model-with-clustering,-regression-4.1\"><span class=\"toc-item-num\">4.1&nbsp;&nbsp;</span>Model with clustering, regression</a></span></li><li><span><a href=\"#Model-with-PCA,-regression\" data-toc-modified-id=\"Model-with-PCA,-regression-4.2\"><span class=\"toc-item-num\">4.2&nbsp;&nbsp;</span>Model with PCA, regression</a></span><ul class=\"toc-item\"><li><span><a href=\"#Evaluate-model-without-product-categories\" data-toc-modified-id=\"Evaluate-model-without-product-categories-4.2.1\"><span class=\"toc-item-num\">4.2.1&nbsp;&nbsp;</span>Evaluate model without product categories</a></span></li></ul></li><li><span><a href=\"#Model-with-PCA,-WF-Bins\" data-toc-modified-id=\"Model-with-PCA,-WF-Bins-4.3\"><span class=\"toc-item-num\">4.3&nbsp;&nbsp;</span>Model with PCA, WF Bins</a></span><ul class=\"toc-item\"><li><span><a href=\"#Optimize-SVC-RBF\" data-toc-modified-id=\"Optimize-SVC-RBF-4.3.1\"><span class=\"toc-item-num\">4.3.1&nbsp;&nbsp;</span>Optimize SVC-RBF</a></span></li><li><span><a href=\"#Final-Organics-Model\" data-toc-modified-id=\"Final-Organics-Model-4.3.2\"><span class=\"toc-item-num\">4.3.2&nbsp;&nbsp;</span>Final Organics Model</a></span></li><li><span><a href=\"#Finalizing-ENM-Model\" data-toc-modified-id=\"Finalizing-ENM-Model-4.3.3\"><span class=\"toc-item-num\">4.3.3&nbsp;&nbsp;</span>Finalizing ENM Model</a></span></li><li><span><a href=\"#NEW-ENM-Model-(Clusters)\" data-toc-modified-id=\"NEW-ENM-Model-(Clusters)-4.3.4\"><span class=\"toc-item-num\">4.3.4&nbsp;&nbsp;</span>NEW ENM Model (Clusters)</a></span></li><li><span><a href=\"#NEW-ENM-Model-(PCA)\" data-toc-modified-id=\"NEW-ENM-Model-(PCA)-4.3.5\"><span class=\"toc-item-num\">4.3.5&nbsp;&nbsp;</span>NEW ENM Model (PCA)</a></span></li></ul></li></ul></li></ul></div>"
   ]
  },
  {
   "cell_type": "markdown",
   "metadata": {},
   "source": [
    "# Code Setup"
   ]
  },
  {
   "cell_type": "code",
   "execution_count": 1,
   "metadata": {
    "ExecuteTime": {
     "end_time": "2018-10-22T17:29:37.023102Z",
     "start_time": "2018-10-22T17:29:36.430373Z"
    },
    "collapsed": true
   },
   "outputs": [],
   "source": [
    "# To support both python 2 and python 3\n",
    "from __future__ import division, print_function, unicode_literals\n",
    "\n",
    "# Common imports\n",
    "import numpy as np\n",
    "import pandas as pd\n",
    "import os"
   ]
  },
  {
   "cell_type": "code",
   "execution_count": 2,
   "metadata": {
    "ExecuteTime": {
     "end_time": "2018-10-22T17:29:37.638358Z",
     "start_time": "2018-10-22T17:29:37.632418Z"
    },
    "collapsed": true
   },
   "outputs": [],
   "source": [
    "# to make this notebook's output stable across runs\n",
    "np.random.seed(42)"
   ]
  },
  {
   "cell_type": "code",
   "execution_count": 3,
   "metadata": {
    "ExecuteTime": {
     "end_time": "2018-10-22T17:29:38.553503Z",
     "start_time": "2018-10-22T17:29:38.327640Z"
    },
    "collapsed": true
   },
   "outputs": [],
   "source": [
    "# To plot pretty figures\n",
    "%matplotlib inline\n",
    "import matplotlib\n",
    "import matplotlib.pyplot as plt\n",
    "import matplotlib.image as mpimg\n",
    "plt.rcParams['axes.labelsize'] = 14\n",
    "plt.rcParams['xtick.labelsize'] = 12\n",
    "plt.rcParams['ytick.labelsize'] = 12"
   ]
  },
  {
   "cell_type": "code",
   "execution_count": 4,
   "metadata": {
    "ExecuteTime": {
     "end_time": "2018-10-22T17:29:39.137776Z",
     "start_time": "2018-10-22T17:29:39.132837Z"
    },
    "collapsed": true
   },
   "outputs": [],
   "source": [
    "# Where to save the figures\n",
    "PROJECT_ROOT_DIR = \".\"\n",
    "PROJECT_SAVE_DIR = \"BLTfigs\""
   ]
  },
  {
   "cell_type": "code",
   "execution_count": 5,
   "metadata": {
    "ExecuteTime": {
     "end_time": "2018-10-22T17:29:39.765527Z",
     "start_time": "2018-10-22T17:29:39.757017Z"
    }
   },
   "outputs": [
    {
     "name": "stdout",
     "output_type": "stream",
     "text": [
      "Figure directory exists.\n"
     ]
    }
   ],
   "source": [
    "import os\n",
    "#os.chdir(path)\n",
    "if not (os.path.isdir(PROJECT_ROOT_DIR+'/'+PROJECT_SAVE_DIR)):\n",
    "    print('Figure directory did not exist, creating now.')\n",
    "    os.mkdir(PROJECT_ROOT_DIR+'/'+PROJECT_SAVE_DIR)\n",
    "else:\n",
    "    print('Figure directory exists.')"
   ]
  },
  {
   "cell_type": "code",
   "execution_count": 6,
   "metadata": {
    "ExecuteTime": {
     "end_time": "2018-10-22T17:29:40.644209Z",
     "start_time": "2018-10-22T17:29:40.640452Z"
    },
    "collapsed": true
   },
   "outputs": [],
   "source": [
    "def savepdf(fig,name):\n",
    "    fig.savefig(PROJECT_ROOT_DIR+'/'+PROJECT_SAVE_DIR+'/'+name+'.pdf')"
   ]
  },
  {
   "cell_type": "code",
   "execution_count": 7,
   "metadata": {
    "ExecuteTime": {
     "end_time": "2018-10-22T17:29:41.438767Z",
     "start_time": "2018-10-22T17:29:41.387292Z"
    }
   },
   "outputs": [
    {
     "data": {
      "text/html": [
       "\n",
       "                <audio controls=\"controls\" autoplay=\"autoplay\">\n",
       "                    <source src=\"./data/Glass.wav\" type=\"audio/x-wav\" />\n",
       "                    Your browser does not support the audio element.\n",
       "                </audio>\n",
       "              "
      ],
      "text/plain": [
       "<IPython.lib.display.Audio object>"
      ]
     },
     "execution_count": 7,
     "metadata": {},
     "output_type": "execute_result"
    }
   ],
   "source": [
    "# To enable a specified sound to play\n",
    "from IPython.display import Audio\n",
    "sound_file = './data/Glass.wav'\n",
    "\n",
    "# Add the following to the end of a cell with a long run time\n",
    "# Play sound when cell is done running\n",
    "Audio(url=sound_file, autoplay=True)"
   ]
  },
  {
   "cell_type": "code",
   "execution_count": 8,
   "metadata": {
    "ExecuteTime": {
     "end_time": "2018-10-22T17:29:42.323230Z",
     "start_time": "2018-10-22T17:29:42.319311Z"
    },
    "collapsed": true
   },
   "outputs": [],
   "source": [
    "# Shift tab to understand function components\n",
    "# Type questionmark before function to bring up help"
   ]
  },
  {
   "cell_type": "markdown",
   "metadata": {
    "ExecuteTime": {
     "end_time": "2018-07-17T17:12:41.336563Z",
     "start_time": "2018-07-17T17:12:41.333288Z"
    }
   },
   "source": [
    "## Acronyms and abbreviations"
   ]
  },
  {
   "cell_type": "code",
   "execution_count": 9,
   "metadata": {
    "ExecuteTime": {
     "end_time": "2018-10-22T17:29:43.491603Z",
     "start_time": "2018-10-22T17:29:43.486510Z"
    },
    "collapsed": true
   },
   "outputs": [],
   "source": [
    "# enm = engineered nanomaterial\n",
    "# mw = molecular weight\n",
    "# oecd = Organisation for Economic Co-operation and Development\n",
    "# prop = property\n",
    "# PUC = product use category\n",
    "# wf = weight fraction"
   ]
  },
  {
   "cell_type": "markdown",
   "metadata": {},
   "source": [
    "# Establish Data Frames"
   ]
  },
  {
   "cell_type": "markdown",
   "metadata": {
    "ExecuteTime": {
     "end_time": "2018-07-31T20:26:39.287566Z",
     "start_time": "2018-07-31T20:26:39.283890Z"
    }
   },
   "source": [
    "## Read ENM data"
   ]
  },
  {
   "cell_type": "code",
   "execution_count": 10,
   "metadata": {
    "ExecuteTime": {
     "end_time": "2018-10-22T17:29:45.350189Z",
     "start_time": "2018-10-22T17:29:45.298135Z"
    },
    "collapsed": true
   },
   "outputs": [],
   "source": [
    "# Read in engineered nanomaterials (ENM) weight fraction data and potential predictive variables\n",
    "X_enm=pd.read_csv(\"./data/ENM_conc_export.csv\", sep=',', header='infer') #, usecols=range(0,34), nrows=60\n",
    "\n",
    "# Drop unwanted columns\n",
    "# For PUC, keeping getcat, group, refined, assigned\n",
    "#X_enm = X_enm[X_enm['LOD'].notnull()] # delete missing data\n",
    "X_enm.drop(X_enm.columns[[0,1,2,3,4,9,12,22,24,27,34,35,36]], axis=1, inplace=True)\n",
    "# drop dehydrating_agent[22],dispersing_agent[24],fuel_agent[27]\n",
    "\n",
    "# Rename columns\n",
    "X_enm.rename(columns = {'gencatID':'gen'}, inplace = True)\n",
    "#X_enm.rename(columns = {'product_type':'prod'}, inplace = True)\n",
    "X_enm.rename(columns = {'refined_product_type':'refined'}, inplace = True)\n",
    "X_enm.rename(columns = {'assignedID':'matrix'}, inplace = True)"
   ]
  },
  {
   "cell_type": "code",
   "execution_count": 11,
   "metadata": {
    "ExecuteTime": {
     "end_time": "2018-10-22T17:29:46.138133Z",
     "start_time": "2018-10-22T17:29:46.114771Z"
    },
    "collapsed": true
   },
   "outputs": [],
   "source": [
    "# Find and replace (clean data)\n",
    "\n",
    "# To maintain atomicity, assign all child-specific products (C) as articles (A) (there were no formulas) \n",
    "    # and all OTC pharmaceuticals (P) as formulas (F) (they were all liquids)\n",
    "X_enm['matrix'] = X_enm['matrix'].replace('C','A', regex=True)\n",
    "X_enm['matrix'] = X_enm['matrix'].replace('P','F', regex=True)\n",
    "#list(X_enm.assigned.values)\n",
    "\n",
    "# Clean up data in refined column so it's only spray vs NOC\n",
    "X_enm['refined'] = X_enm['refined'].replace('child','NOC', regex=True)\n",
    "X_enm['refined'] = X_enm['refined'].replace('exterior','NOC', regex=True)\n",
    "X_enm['refined'] = X_enm['refined'].replace('interior','NOC', regex=True)\n",
    "X_enm['refined'] = X_enm['refined'].replace('soft','NOC', regex=True)\n",
    "X_enm['refined'] = X_enm['refined'].replace('plastic','NOC', regex=True)\n",
    "\n",
    "# Replace antistain_agent as antiredeposition_agent, as the former does not exist in the organics dataset\n",
    "X_enm.rename(columns = {'antistain_agent':'antiredeposition_agent'}, inplace = True)"
   ]
  },
  {
   "cell_type": "code",
   "execution_count": 12,
   "metadata": {
    "ExecuteTime": {
     "end_time": "2018-10-22T17:29:46.773883Z",
     "start_time": "2018-10-22T17:29:46.739190Z"
    }
   },
   "outputs": [
    {
     "data": {
      "text/html": [
       "<div>\n",
       "<style scoped>\n",
       "    .dataframe tbody tr th:only-of-type {\n",
       "        vertical-align: middle;\n",
       "    }\n",
       "\n",
       "    .dataframe tbody tr th {\n",
       "        vertical-align: top;\n",
       "    }\n",
       "\n",
       "    .dataframe thead th {\n",
       "        text-align: right;\n",
       "    }\n",
       "</style>\n",
       "<table border=\"1\" class=\"dataframe\">\n",
       "  <thead>\n",
       "    <tr style=\"text-align: right;\">\n",
       "      <th></th>\n",
       "      <th>propMW</th>\n",
       "      <th>propMP</th>\n",
       "      <th>propBP</th>\n",
       "      <th>propDensity</th>\n",
       "      <th>gen</th>\n",
       "      <th>group</th>\n",
       "      <th>refined</th>\n",
       "      <th>matrix</th>\n",
       "      <th>absorbent</th>\n",
       "      <th>antioxidant</th>\n",
       "      <th>...</th>\n",
       "      <th>colorant</th>\n",
       "      <th>deodorizer</th>\n",
       "      <th>filler</th>\n",
       "      <th>flavouring_nutrient</th>\n",
       "      <th>hardener</th>\n",
       "      <th>humectant</th>\n",
       "      <th>lubricating_agent</th>\n",
       "      <th>opacifier</th>\n",
       "      <th>uv_stabilizer</th>\n",
       "      <th>viscosity_modifier</th>\n",
       "    </tr>\n",
       "  </thead>\n",
       "  <tbody>\n",
       "    <tr>\n",
       "      <th>69</th>\n",
       "      <td>101.960</td>\n",
       "      <td>2072.00</td>\n",
       "      <td>2977.0</td>\n",
       "      <td>3.7950</td>\n",
       "      <td>PC</td>\n",
       "      <td>facial cleansing and moisturizing</td>\n",
       "      <td>NOC</td>\n",
       "      <td>F</td>\n",
       "      <td>1</td>\n",
       "      <td>0</td>\n",
       "      <td>...</td>\n",
       "      <td>0</td>\n",
       "      <td>0</td>\n",
       "      <td>0</td>\n",
       "      <td>0</td>\n",
       "      <td>0</td>\n",
       "      <td>0</td>\n",
       "      <td>0</td>\n",
       "      <td>0</td>\n",
       "      <td>0</td>\n",
       "      <td>1</td>\n",
       "    </tr>\n",
       "    <tr>\n",
       "      <th>70</th>\n",
       "      <td>60.085</td>\n",
       "      <td>1600.00</td>\n",
       "      <td>2230.0</td>\n",
       "      <td>2.5915</td>\n",
       "      <td>PC</td>\n",
       "      <td>facial cleansing and moisturizing</td>\n",
       "      <td>NOC</td>\n",
       "      <td>F</td>\n",
       "      <td>1</td>\n",
       "      <td>0</td>\n",
       "      <td>...</td>\n",
       "      <td>0</td>\n",
       "      <td>0</td>\n",
       "      <td>1</td>\n",
       "      <td>0</td>\n",
       "      <td>0</td>\n",
       "      <td>0</td>\n",
       "      <td>0</td>\n",
       "      <td>1</td>\n",
       "      <td>0</td>\n",
       "      <td>1</td>\n",
       "    </tr>\n",
       "    <tr>\n",
       "      <th>71</th>\n",
       "      <td>79.867</td>\n",
       "      <td>1843.00</td>\n",
       "      <td>2972.0</td>\n",
       "      <td>4.2300</td>\n",
       "      <td>PC</td>\n",
       "      <td>facial cleansing and moisturizing</td>\n",
       "      <td>NOC</td>\n",
       "      <td>F</td>\n",
       "      <td>0</td>\n",
       "      <td>0</td>\n",
       "      <td>...</td>\n",
       "      <td>0</td>\n",
       "      <td>0</td>\n",
       "      <td>0</td>\n",
       "      <td>0</td>\n",
       "      <td>0</td>\n",
       "      <td>0</td>\n",
       "      <td>0</td>\n",
       "      <td>0</td>\n",
       "      <td>0</td>\n",
       "      <td>1</td>\n",
       "    </tr>\n",
       "    <tr>\n",
       "      <th>72</th>\n",
       "      <td>107.868</td>\n",
       "      <td>961.78</td>\n",
       "      <td>2162.0</td>\n",
       "      <td>10.3450</td>\n",
       "      <td>AP</td>\n",
       "      <td>apparel</td>\n",
       "      <td>NOC</td>\n",
       "      <td>A</td>\n",
       "      <td>0</td>\n",
       "      <td>0</td>\n",
       "      <td>...</td>\n",
       "      <td>0</td>\n",
       "      <td>1</td>\n",
       "      <td>0</td>\n",
       "      <td>0</td>\n",
       "      <td>0</td>\n",
       "      <td>0</td>\n",
       "      <td>0</td>\n",
       "      <td>0</td>\n",
       "      <td>0</td>\n",
       "      <td>0</td>\n",
       "    </tr>\n",
       "    <tr>\n",
       "      <th>73</th>\n",
       "      <td>107.868</td>\n",
       "      <td>961.78</td>\n",
       "      <td>2162.0</td>\n",
       "      <td>10.3450</td>\n",
       "      <td>AP</td>\n",
       "      <td>apparel</td>\n",
       "      <td>NOC</td>\n",
       "      <td>A</td>\n",
       "      <td>0</td>\n",
       "      <td>0</td>\n",
       "      <td>...</td>\n",
       "      <td>0</td>\n",
       "      <td>0</td>\n",
       "      <td>0</td>\n",
       "      <td>0</td>\n",
       "      <td>0</td>\n",
       "      <td>0</td>\n",
       "      <td>0</td>\n",
       "      <td>0</td>\n",
       "      <td>0</td>\n",
       "      <td>0</td>\n",
       "    </tr>\n",
       "  </tbody>\n",
       "</table>\n",
       "<p>5 rows × 24 columns</p>\n",
       "</div>"
      ],
      "text/plain": [
       "     propMW   propMP  propBP  propDensity gen  \\\n",
       "69  101.960  2072.00  2977.0       3.7950  PC   \n",
       "70   60.085  1600.00  2230.0       2.5915  PC   \n",
       "71   79.867  1843.00  2972.0       4.2300  PC   \n",
       "72  107.868   961.78  2162.0      10.3450  AP   \n",
       "73  107.868   961.78  2162.0      10.3450  AP   \n",
       "\n",
       "                                 group refined matrix  absorbent  antioxidant  \\\n",
       "69  facial cleansing and moisturizing      NOC      F          1            0   \n",
       "70  facial cleansing and moisturizing      NOC      F          1            0   \n",
       "71  facial cleansing and moisturizing      NOC      F          0            0   \n",
       "72                            apparel      NOC      A          0            0   \n",
       "73                            apparel      NOC      A          0            0   \n",
       "\n",
       "           ...          colorant  deodorizer  filler  flavouring_nutrient  \\\n",
       "69         ...                 0           0       0                    0   \n",
       "70         ...                 0           0       1                    0   \n",
       "71         ...                 0           0       0                    0   \n",
       "72         ...                 0           1       0                    0   \n",
       "73         ...                 0           0       0                    0   \n",
       "\n",
       "    hardener  humectant  lubricating_agent  opacifier  uv_stabilizer  \\\n",
       "69         0          0                  0          0              0   \n",
       "70         0          0                  0          1              0   \n",
       "71         0          0                  0          0              0   \n",
       "72         0          0                  0          0              0   \n",
       "73         0          0                  0          0              0   \n",
       "\n",
       "    viscosity_modifier  \n",
       "69                   1  \n",
       "70                   1  \n",
       "71                   1  \n",
       "72                   0  \n",
       "73                   0  \n",
       "\n",
       "[5 rows x 24 columns]"
      ]
     },
     "execution_count": 12,
     "metadata": {},
     "output_type": "execute_result"
    }
   ],
   "source": [
    "X_enm.loc[69:73,]"
   ]
  },
  {
   "cell_type": "code",
   "execution_count": 13,
   "metadata": {
    "ExecuteTime": {
     "end_time": "2018-10-22T17:29:47.429692Z",
     "start_time": "2018-10-22T17:29:47.394404Z"
    }
   },
   "outputs": [
    {
     "data": {
      "text/html": [
       "<div>\n",
       "<style scoped>\n",
       "    .dataframe tbody tr th:only-of-type {\n",
       "        vertical-align: middle;\n",
       "    }\n",
       "\n",
       "    .dataframe tbody tr th {\n",
       "        vertical-align: top;\n",
       "    }\n",
       "\n",
       "    .dataframe thead th {\n",
       "        text-align: right;\n",
       "    }\n",
       "</style>\n",
       "<table border=\"1\" class=\"dataframe\">\n",
       "  <thead>\n",
       "    <tr style=\"text-align: right;\">\n",
       "      <th></th>\n",
       "      <th>propMW</th>\n",
       "      <th>propMP</th>\n",
       "      <th>propBP</th>\n",
       "      <th>propDensity</th>\n",
       "      <th>absorbent</th>\n",
       "      <th>antioxidant</th>\n",
       "      <th>antiredeposition_agent</th>\n",
       "      <th>biocide</th>\n",
       "      <th>brightener</th>\n",
       "      <th>chemical_reaction_regulator</th>\n",
       "      <th>...</th>\n",
       "      <th>group_nutritional supplements</th>\n",
       "      <th>group_paint/stain and related products</th>\n",
       "      <th>group_portable air processing</th>\n",
       "      <th>group_sunscreen</th>\n",
       "      <th>group_surface sealers</th>\n",
       "      <th>group_toys</th>\n",
       "      <th>refined_NOC</th>\n",
       "      <th>refined_spray</th>\n",
       "      <th>matrix_A</th>\n",
       "      <th>matrix_F</th>\n",
       "    </tr>\n",
       "  </thead>\n",
       "  <tbody>\n",
       "    <tr>\n",
       "      <th>0</th>\n",
       "      <td>79.867</td>\n",
       "      <td>1843.00</td>\n",
       "      <td>2972.0</td>\n",
       "      <td>4.230</td>\n",
       "      <td>0</td>\n",
       "      <td>0</td>\n",
       "      <td>1</td>\n",
       "      <td>0</td>\n",
       "      <td>0</td>\n",
       "      <td>0</td>\n",
       "      <td>...</td>\n",
       "      <td>0</td>\n",
       "      <td>1</td>\n",
       "      <td>0</td>\n",
       "      <td>0</td>\n",
       "      <td>0</td>\n",
       "      <td>0</td>\n",
       "      <td>1</td>\n",
       "      <td>0</td>\n",
       "      <td>0</td>\n",
       "      <td>1</td>\n",
       "    </tr>\n",
       "    <tr>\n",
       "      <th>1</th>\n",
       "      <td>63.546</td>\n",
       "      <td>1083.00</td>\n",
       "      <td>2567.0</td>\n",
       "      <td>8.960</td>\n",
       "      <td>0</td>\n",
       "      <td>1</td>\n",
       "      <td>0</td>\n",
       "      <td>1</td>\n",
       "      <td>0</td>\n",
       "      <td>0</td>\n",
       "      <td>...</td>\n",
       "      <td>1</td>\n",
       "      <td>0</td>\n",
       "      <td>0</td>\n",
       "      <td>0</td>\n",
       "      <td>0</td>\n",
       "      <td>0</td>\n",
       "      <td>1</td>\n",
       "      <td>0</td>\n",
       "      <td>0</td>\n",
       "      <td>1</td>\n",
       "    </tr>\n",
       "    <tr>\n",
       "      <th>2</th>\n",
       "      <td>65.370</td>\n",
       "      <td>419.53</td>\n",
       "      <td>907.0</td>\n",
       "      <td>7.140</td>\n",
       "      <td>0</td>\n",
       "      <td>1</td>\n",
       "      <td>0</td>\n",
       "      <td>0</td>\n",
       "      <td>0</td>\n",
       "      <td>0</td>\n",
       "      <td>...</td>\n",
       "      <td>1</td>\n",
       "      <td>0</td>\n",
       "      <td>0</td>\n",
       "      <td>0</td>\n",
       "      <td>0</td>\n",
       "      <td>0</td>\n",
       "      <td>1</td>\n",
       "      <td>0</td>\n",
       "      <td>0</td>\n",
       "      <td>1</td>\n",
       "    </tr>\n",
       "    <tr>\n",
       "      <th>3</th>\n",
       "      <td>107.868</td>\n",
       "      <td>961.78</td>\n",
       "      <td>2162.0</td>\n",
       "      <td>10.345</td>\n",
       "      <td>0</td>\n",
       "      <td>0</td>\n",
       "      <td>0</td>\n",
       "      <td>1</td>\n",
       "      <td>0</td>\n",
       "      <td>0</td>\n",
       "      <td>...</td>\n",
       "      <td>0</td>\n",
       "      <td>0</td>\n",
       "      <td>0</td>\n",
       "      <td>0</td>\n",
       "      <td>0</td>\n",
       "      <td>0</td>\n",
       "      <td>1</td>\n",
       "      <td>0</td>\n",
       "      <td>0</td>\n",
       "      <td>1</td>\n",
       "    </tr>\n",
       "  </tbody>\n",
       "</table>\n",
       "<p>4 rows × 56 columns</p>\n",
       "</div>"
      ],
      "text/plain": [
       "    propMW   propMP  propBP  propDensity  absorbent  antioxidant  \\\n",
       "0   79.867  1843.00  2972.0        4.230          0            0   \n",
       "1   63.546  1083.00  2567.0        8.960          0            1   \n",
       "2   65.370   419.53   907.0        7.140          0            1   \n",
       "3  107.868   961.78  2162.0       10.345          0            0   \n",
       "\n",
       "   antiredeposition_agent  biocide  brightener  chemical_reaction_regulator  \\\n",
       "0                       1        0           0                            0   \n",
       "1                       0        1           0                            0   \n",
       "2                       0        0           0                            0   \n",
       "3                       0        1           0                            0   \n",
       "\n",
       "     ...     group_nutritional supplements   \\\n",
       "0    ...                                  0   \n",
       "1    ...                                  1   \n",
       "2    ...                                  1   \n",
       "3    ...                                  0   \n",
       "\n",
       "   group_paint/stain and related products   group_portable air processing   \\\n",
       "0                                        1                               0   \n",
       "1                                        0                               0   \n",
       "2                                        0                               0   \n",
       "3                                        0                               0   \n",
       "\n",
       "   group_sunscreen   group_surface sealers   group_toys   refined_NOC  \\\n",
       "0                 0                       0            0            1   \n",
       "1                 0                       0            0            1   \n",
       "2                 0                       0            0            1   \n",
       "3                 0                       0            0            1   \n",
       "\n",
       "   refined_spray  matrix_A  matrix_F  \n",
       "0              0         0         1  \n",
       "1              0         0         1  \n",
       "2              0         0         1  \n",
       "3              0         0         1  \n",
       "\n",
       "[4 rows x 56 columns]"
      ]
     },
     "execution_count": 13,
     "metadata": {},
     "output_type": "execute_result"
    }
   ],
   "source": [
    "# Transform factor data (product categories) into binary columns\n",
    "X_enm=pd.get_dummies(X_enm, prefix=[\"gen\",\"group\",\"refined\",\"matrix\"], columns=[\"gen\",\"group\",\"refined\",\"matrix\"])\n",
    "X_enm.loc[0:3,]"
   ]
  },
  {
   "cell_type": "code",
   "execution_count": 14,
   "metadata": {
    "ExecuteTime": {
     "end_time": "2018-10-22T17:29:48.226758Z",
     "start_time": "2018-10-22T17:29:48.215548Z"
    }
   },
   "outputs": [
    {
     "data": {
      "text/plain": [
       "propMW                                        8919.998\n",
       "propMP                                      109340.950\n",
       "propBP                                      203338.900\n",
       "propDensity                                    693.180\n",
       "absorbent                                        5.000\n",
       "antioxidant                                      2.000\n",
       "antiredeposition_agent                           2.000\n",
       "biocide                                         40.000\n",
       "brightener                                       6.000\n",
       "chemical_reaction_regulator                      2.000\n",
       "colorant                                         4.000\n",
       "deodorizer                                       2.000\n",
       "filler                                          14.000\n",
       "flavouring_nutrient                             22.000\n",
       "hardener                                         3.000\n",
       "humectant                                        7.000\n",
       "lubricating_agent                                5.000\n",
       "opacifier                                        5.000\n",
       "uv_stabilizer                                   16.000\n",
       "viscosity_modifier                              13.000\n",
       "gen_AC                                           2.000\n",
       "gen_AP                                           5.000\n",
       "gen_CP                                           1.000\n",
       "gen_CS                                           1.000\n",
       "gen_EL                                           1.000\n",
       "gen_FC                                           2.000\n",
       "gen_HM                                           6.000\n",
       "gen_PC                                          30.000\n",
       "gen_PE                                           1.000\n",
       "gen_PH                                          27.000\n",
       "gen_VE                                           6.000\n",
       "group_apparel                                    5.000\n",
       "group_child specific                             3.000\n",
       "group_cold relief                                5.000\n",
       "group_dental care                                4.000\n",
       "group_deodorant                                  1.000\n",
       "group_engine maintenance                         6.000\n",
       "group_fabric treatment and dye                   2.000\n",
       "group_facial cleansing and moisturizing          7.000\n",
       "group_first aid                                  1.000\n",
       "group_food storage                               2.000\n",
       "group_fungicide                                  1.000\n",
       "group_general household cleaning                 1.000\n",
       "group_general moisturizing                       1.000\n",
       "group_large appliances                           2.000\n",
       "group_make-up and related                        4.000\n",
       "group_nutritional supplements                   22.000\n",
       "group_paint/stain and related products           3.000\n",
       "group_portable air processing                    1.000\n",
       "group_sunscreen                                  9.000\n",
       "group_surface sealers                            1.000\n",
       "group_toys                                       1.000\n",
       "refined_NOC                                     69.000\n",
       "refined_spray                                   13.000\n",
       "matrix_A                                        15.000\n",
       "matrix_F                                        67.000\n",
       "dtype: float64"
      ]
     },
     "execution_count": 14,
     "metadata": {},
     "output_type": "execute_result"
    }
   ],
   "source": [
    "# Sum columns\n",
    "X_enm.sum(axis=0)"
   ]
  },
  {
   "cell_type": "code",
   "execution_count": 15,
   "metadata": {
    "ExecuteTime": {
     "end_time": "2018-10-22T17:29:48.904475Z",
     "start_time": "2018-10-22T17:29:48.896936Z"
    },
    "collapsed": true
   },
   "outputs": [],
   "source": [
    "# Read in ENM maximum_weight_fraction data\n",
    "y_enm = pd.read_csv(\"./data/ENM_conc_export.csv\", sep=',', header='infer', usecols=[3]) #,36, nrows=60\n",
    "#y_enm = y_enm[y_enm['LOD'].notnull()] # delete missing data\n",
    "#y_enm.drop(y_enm.columns[[1]], axis=1, inplace=True)"
   ]
  },
  {
   "cell_type": "code",
   "execution_count": 16,
   "metadata": {
    "ExecuteTime": {
     "end_time": "2018-10-22T17:29:49.493912Z",
     "start_time": "2018-10-22T17:29:49.487882Z"
    }
   },
   "outputs": [
    {
     "name": "stdout",
     "output_type": "stream",
     "text": [
      "(82,)\n"
     ]
    }
   ],
   "source": [
    "# Array for ENM function and product categories\n",
    "yarr_enm=np.array(y_enm.maximum_weight_fraction)\n",
    "print(yarr_enm.shape)"
   ]
  },
  {
   "cell_type": "code",
   "execution_count": 17,
   "metadata": {
    "ExecuteTime": {
     "end_time": "2018-10-22T17:29:50.030225Z",
     "start_time": "2018-10-22T17:29:50.021999Z"
    }
   },
   "outputs": [
    {
     "data": {
      "text/plain": [
       "array([3.10000000e-01, 1.00000000e-03, 3.00000000e-03, 3.00000000e-03,\n",
       "       5.00000000e-04, 5.00000000e-03, 5.00000000e-02, 2.20000000e-03,\n",
       "       2.00000000e-03, 1.00000000e-03, 2.00000000e-03, 8.00000000e-04,\n",
       "       2.00000000e-01, 9.90000000e-04, 6.00000000e-04, 3.00000000e-03,\n",
       "       1.00000000e-03, 1.40000000e-03, 1.00000000e-03, 2.50000000e-02,\n",
       "       9.50000000e-01, 2.20000000e-03, 1.00000000e-02, 3.00000000e-03,\n",
       "       2.00000000e-03, 2.00000000e-03, 3.00000000e-03, 3.00000000e-03,\n",
       "       1.00000000e-03, 1.00000000e-03, 5.00000000e-04, 5.00000000e-04,\n",
       "       2.00000000e-03, 1.00000000e-03, 1.00000000e-03, 1.00000000e-03,\n",
       "       6.00000000e-02, 6.00000000e-02, 1.00000000e-03, 1.00000000e-03,\n",
       "       9.90000000e-01, 7.00000000e-02, 5.00000000e-02, 5.00000000e-02,\n",
       "       5.00000000e-02, 5.00000000e-02, 6.00000000e-02, 6.00000000e-02,\n",
       "       2.50000000e-01, 2.00000000e-01, 6.19469000e-03, 2.20000000e-03,\n",
       "       6.80000000e-02, 2.00000000e-01, 3.00000000e-02, 1.80000000e-01,\n",
       "       6.00000000e-02, 1.00000000e-05, 2.00000000e-03, 1.00000000e-03,\n",
       "       6.67408000e-04, 1.50616032e-01, 8.50000000e-04, 8.00000000e-04,\n",
       "       8.40000000e-04, 2.13939800e-03, 2.66963040e-02, 1.92545840e-02,\n",
       "       3.33703800e-03, 2.64536690e-02, 4.92061600e-02, 3.33703800e-03,\n",
       "       1.00000000e-02, 8.00000000e-04, 9.50000000e-01, 8.00000000e-04,\n",
       "       5.00555700e-03, 2.00000000e-04, 6.22380000e-04, 8.12971300e-03,\n",
       "       6.67408000e-04, 8.00000000e-04])"
      ]
     },
     "execution_count": 17,
     "metadata": {},
     "output_type": "execute_result"
    }
   ],
   "source": [
    "yarr_enm"
   ]
  },
  {
   "cell_type": "markdown",
   "metadata": {},
   "source": [
    "## ENM dataframes"
   ]
  },
  {
   "cell_type": "markdown",
   "metadata": {},
   "source": [
    "Split ENM-WF into separate dataframes."
   ]
  },
  {
   "cell_type": "code",
   "execution_count": 18,
   "metadata": {
    "ExecuteTime": {
     "end_time": "2018-10-22T17:29:51.533551Z",
     "start_time": "2018-10-22T17:29:51.526786Z"
    },
    "collapsed": true
   },
   "outputs": [],
   "source": [
    "# Dataframe for ENM function and product categories\n",
    "Xfp_enm=pd.DataFrame(X_enm)\n",
    "# Drop unwanted columns\n",
    "Xfp_enm.drop(Xfp_enm.columns[0:4], axis=1, inplace=True) # drop chem props\n",
    "enm_all_names=list(Xfp_enm.columns.values)\n",
    "#enm_all_names"
   ]
  },
  {
   "cell_type": "code",
   "execution_count": 19,
   "metadata": {
    "ExecuteTime": {
     "end_time": "2018-10-22T17:29:52.077251Z",
     "start_time": "2018-10-22T17:29:52.071414Z"
    }
   },
   "outputs": [
    {
     "name": "stdout",
     "output_type": "stream",
     "text": [
      "(82, 52)\n"
     ]
    }
   ],
   "source": [
    "# Array for ENM function and product categories\n",
    "Xfp_enm=np.array(Xfp_enm)\n",
    "print(Xfp_enm.shape)"
   ]
  },
  {
   "cell_type": "code",
   "execution_count": 20,
   "metadata": {
    "ExecuteTime": {
     "end_time": "2018-10-22T17:29:52.543748Z",
     "start_time": "2018-10-22T17:29:52.525787Z"
    },
    "scrolled": true
   },
   "outputs": [
    {
     "data": {
      "text/plain": [
       "['absorbent',\n",
       " 'antioxidant',\n",
       " 'antiredeposition_agent',\n",
       " 'biocide',\n",
       " 'brightener',\n",
       " 'chemical_reaction_regulator',\n",
       " 'colorant',\n",
       " 'deodorizer',\n",
       " 'filler',\n",
       " 'flavouring_nutrient',\n",
       " 'hardener',\n",
       " 'humectant',\n",
       " 'lubricating_agent',\n",
       " 'opacifier',\n",
       " 'uv_stabilizer',\n",
       " 'viscosity_modifier']"
      ]
     },
     "execution_count": 20,
     "metadata": {},
     "output_type": "execute_result"
    }
   ],
   "source": [
    "# Dataframe for only ENM functional use categories\n",
    "Xf_enm=pd.DataFrame(X_enm)\n",
    "# Drop unwanted columns\n",
    "Xf_enm.drop(Xf_enm.columns[0:4], axis=1, inplace=True) # drop chem props\n",
    "Xf_enm.drop(Xf_enm.columns[16:], axis=1, inplace=True) # drop product categories\n",
    "enm_func_names=list(Xf_enm.columns.values)\n",
    "enm_func_names"
   ]
  },
  {
   "cell_type": "code",
   "execution_count": 21,
   "metadata": {
    "ExecuteTime": {
     "end_time": "2018-10-22T17:29:53.001287Z",
     "start_time": "2018-10-22T17:29:52.993219Z"
    }
   },
   "outputs": [
    {
     "name": "stdout",
     "output_type": "stream",
     "text": [
      "(82, 16)\n"
     ]
    }
   ],
   "source": [
    "# Array for only ENM functional use categories\n",
    "Xf_enm=np.array(Xf_enm)\n",
    "print(Xf_enm.shape)"
   ]
  },
  {
   "cell_type": "code",
   "execution_count": 22,
   "metadata": {
    "ExecuteTime": {
     "end_time": "2018-10-22T17:29:53.525608Z",
     "start_time": "2018-10-22T17:29:53.512290Z"
    }
   },
   "outputs": [
    {
     "data": {
      "text/plain": [
       "['gen_AC',\n",
       " 'gen_AP',\n",
       " 'gen_CP',\n",
       " 'gen_CS',\n",
       " 'gen_EL',\n",
       " 'gen_FC',\n",
       " 'gen_HM',\n",
       " 'gen_PC',\n",
       " 'gen_PE',\n",
       " 'gen_PH',\n",
       " 'gen_VE',\n",
       " 'group_apparel ',\n",
       " 'group_child specific ',\n",
       " 'group_cold relief',\n",
       " 'group_dental care ',\n",
       " 'group_deodorant ',\n",
       " 'group_engine maintenance ',\n",
       " 'group_fabric treatment and dye ',\n",
       " 'group_facial cleansing and moisturizing ',\n",
       " 'group_first aid ',\n",
       " 'group_food storage ',\n",
       " 'group_fungicide ',\n",
       " 'group_general household cleaning ',\n",
       " 'group_general moisturizing ',\n",
       " 'group_large appliances ',\n",
       " 'group_make-up and related ',\n",
       " 'group_nutritional supplements ',\n",
       " 'group_paint/stain and related products ',\n",
       " 'group_portable air processing ',\n",
       " 'group_sunscreen ',\n",
       " 'group_surface sealers ',\n",
       " 'group_toys ']"
      ]
     },
     "execution_count": 22,
     "metadata": {},
     "output_type": "execute_result"
    }
   ],
   "source": [
    "# Dataframe for only ENM product categories\n",
    "Xp_enm=pd.DataFrame(X_enm)\n",
    "# Drop unwanted columns\n",
    "Xp_enm.drop(Xp_enm.columns[0:20], axis=1, inplace=True) # drop chem props and functions\n",
    "Xp_enm.drop(Xp_enm.columns[32:], axis=1, inplace=True) # drop matrix categories\n",
    "enm_PUC_names=list(Xp_enm.columns.values)\n",
    "enm_PUC_names"
   ]
  },
  {
   "cell_type": "code",
   "execution_count": 23,
   "metadata": {
    "ExecuteTime": {
     "end_time": "2018-10-22T17:29:54.076947Z",
     "start_time": "2018-10-22T17:29:54.071124Z"
    }
   },
   "outputs": [
    {
     "name": "stdout",
     "output_type": "stream",
     "text": [
      "(82, 32)\n"
     ]
    }
   ],
   "source": [
    "# Array for only ENM product categories\n",
    "Xp_enm=np.array(Xp_enm)\n",
    "print(Xp_enm.shape)"
   ]
  },
  {
   "cell_type": "code",
   "execution_count": 24,
   "metadata": {
    "ExecuteTime": {
     "end_time": "2018-10-22T17:29:54.648797Z",
     "start_time": "2018-10-22T17:29:54.639654Z"
    }
   },
   "outputs": [
    {
     "data": {
      "text/plain": [
       "['refined_NOC', 'refined_spray', 'matrix_A', 'matrix_F']"
      ]
     },
     "execution_count": 24,
     "metadata": {},
     "output_type": "execute_result"
    }
   ],
   "source": [
    "# Dataframe for only ENM product categories\n",
    "Xm_enm=pd.DataFrame(X_enm)\n",
    "# Drop unwanted columns\n",
    "Xm_enm.drop(Xm_enm.columns[0:52], axis=1, inplace=True) # drop chem props\n",
    "enm_matrix_names=list(Xm_enm.columns.values)\n",
    "enm_matrix_names"
   ]
  },
  {
   "cell_type": "code",
   "execution_count": 25,
   "metadata": {
    "ExecuteTime": {
     "end_time": "2018-10-22T17:29:55.174642Z",
     "start_time": "2018-10-22T17:29:55.167997Z"
    },
    "collapsed": true
   },
   "outputs": [],
   "source": [
    "# Array for only chemical properties\n",
    "Xc_enm=pd.DataFrame(X_enm)\n",
    "# Drop unwanted columns\n",
    "Xc_enm.drop(Xc_enm.columns[4:], axis=1, inplace=True)"
   ]
  },
  {
   "cell_type": "markdown",
   "metadata": {
    "ExecuteTime": {
     "end_time": "2018-07-31T20:29:35.081047Z",
     "start_time": "2018-07-31T20:29:35.076307Z"
    }
   },
   "source": [
    "## ENM WF bins"
   ]
  },
  {
   "cell_type": "code",
   "execution_count": 122,
   "metadata": {
    "ExecuteTime": {
     "end_time": "2018-10-22T20:32:11.354716Z",
     "start_time": "2018-10-22T20:32:11.169820Z"
    }
   },
   "outputs": [
    {
     "data": {
      "text/plain": [
       "(array([ 1.,  0.,  0.,  0.,  0.,  0.,  0.,  1.,  0.,  0.,  7.,  8., 13.,\n",
       "         7.,  9.,  2.,  3.,  1.,  2.,  1.,  4.,  0., 11.,  2.,  0.,  5.,\n",
       "         2.,  0.,  0.,  3.]),\n",
       " array([-5.00e+00, -4.83e+00, -4.67e+00, -4.50e+00, -4.33e+00, -4.17e+00,\n",
       "        -4.00e+00, -3.83e+00, -3.67e+00, -3.50e+00, -3.33e+00, -3.17e+00,\n",
       "        -3.00e+00, -2.84e+00, -2.67e+00, -2.50e+00, -2.34e+00, -2.17e+00,\n",
       "        -2.00e+00, -1.84e+00, -1.67e+00, -1.50e+00, -1.34e+00, -1.17e+00,\n",
       "        -1.00e+00, -8.37e-01, -6.70e-01, -5.04e-01, -3.37e-01, -1.71e-01,\n",
       "        -4.36e-03]),\n",
       " <a list of 30 Patch objects>)"
      ]
     },
     "execution_count": 122,
     "metadata": {},
     "output_type": "execute_result"
    },
    {
     "data": {
      "image/png": "[encoded data removed]",
      "text/plain": [
       "<Figure size 432x288 with 1 Axes>"
      ]
     },
     "metadata": {},
     "output_type": "display_data"
    }
   ],
   "source": [
    "# Log-transformed histogram of weight fraction\n",
    "plt.hist(np.log10(yarr_enm), bins=30) #"
   ]
  },
  {
   "cell_type": "code",
   "execution_count": 123,
   "metadata": {
    "ExecuteTime": {
     "end_time": "2018-10-22T20:32:11.795161Z",
     "start_time": "2018-10-22T20:32:11.785364Z"
    },
    "collapsed": true
   },
   "outputs": [],
   "source": [
    "y_enm_log = pd.DataFrame(np.log10(yarr_enm)) #['maximum_weight_fraction']"
   ]
  },
  {
   "cell_type": "code",
   "execution_count": 124,
   "metadata": {
    "ExecuteTime": {
     "end_time": "2018-10-22T20:32:12.467011Z",
     "start_time": "2018-10-22T20:32:12.447680Z"
    },
    "collapsed": true
   },
   "outputs": [],
   "source": [
    "# Define function to assign weight fractionchemical content s to bins per Isaacs et al. 2016\n",
    "def bins(row):\n",
    "    if row['maximum_weight_fraction'] <= 0.002:\n",
    "        val = 'bottom'\n",
    "    elif row['maximum_weight_fraction'] > 0.05:\n",
    "        val = 'top'\n",
    "    else:\n",
    "        val = 'middle'\n",
    "    return val\n",
    "\n",
    "bin_enm = y_enm\n",
    "bin_enm['bin_enm'] = bin_enm.apply(bins, axis=1)"
   ]
  },
  {
   "cell_type": "code",
   "execution_count": 125,
   "metadata": {
    "ExecuteTime": {
     "end_time": "2018-10-22T20:32:13.188732Z",
     "start_time": "2018-10-22T20:32:13.182047Z"
    },
    "collapsed": true
   },
   "outputs": [],
   "source": [
    "# Apply function to assign weight fractions to bins that were log10-transformed\n",
    "#bin_enm = pd.DataFrame(np.log10(yarr_enm))\n",
    "#bin_enm['bin_enm'] = bin_enm.apply(bins, axis=1)"
   ]
  },
  {
   "cell_type": "code",
   "execution_count": 126,
   "metadata": {
    "ExecuteTime": {
     "end_time": "2018-10-22T20:32:13.840930Z",
     "start_time": "2018-10-22T20:32:13.833419Z"
    }
   },
   "outputs": [
    {
     "name": "stdout",
     "output_type": "stream",
     "text": [
      "(82, 2)\n"
     ]
    }
   ],
   "source": [
    "print(bin_enm.shape)"
   ]
  },
  {
   "cell_type": "code",
   "execution_count": 127,
   "metadata": {
    "ExecuteTime": {
     "end_time": "2018-10-22T20:32:14.443233Z",
     "start_time": "2018-10-22T20:32:14.423500Z"
    }
   },
   "outputs": [
    {
     "name": "stdout",
     "output_type": "stream",
     "text": [
      "[0, 1, 2]\n",
      "['bottom', 'middle', 'top']\n",
      "bin_num_enm shape: (82,)\n"
     ]
    },
    {
     "name": "stderr",
     "output_type": "stream",
     "text": [
      "/anaconda3/lib/python3.6/site-packages/sklearn/preprocessing/label.py:151: DeprecationWarning: The truth value of an empty array is ambiguous. Returning False, but in future this will result in an error. Use `array.size > 0` to check that an array is not empty.\n",
      "  if diff:\n"
     ]
    }
   ],
   "source": [
    "# Use label encoder to make bins compatible with Scikit-Learn\n",
    "from sklearn import preprocessing\n",
    "le2 = preprocessing.LabelEncoder()\n",
    "# Fit the encoder to the categorical column\n",
    "bin_num_enm = le2.fit_transform(bin_enm['bin_enm'])\n",
    "# Transform categories into integers\n",
    "le2.transform(bin_enm['bin_enm'])\n",
    "# Convert a list of integers into their category names\n",
    "print('[0, 1, 2]')\n",
    "print(list(le2.inverse_transform([0,1,2])))\n",
    "print('bin_num_enm shape: {}'.format(bin_num_enm.shape))"
   ]
  },
  {
   "cell_type": "code",
   "execution_count": 128,
   "metadata": {
    "ExecuteTime": {
     "end_time": "2018-10-22T20:32:15.434361Z",
     "start_time": "2018-10-22T20:32:15.422066Z"
    }
   },
   "outputs": [
    {
     "data": {
      "text/plain": [
       "array([2, 0, 1, 1, 0, 1, 1, 1, 0, 0, 0, 0, 2, 0, 0, 1, 0, 0, 0, 1, 2, 1,\n",
       "       1, 1, 0, 0, 1, 1, 0, 0, 0, 0, 0, 0, 0, 0, 2, 2, 0, 0, 2, 2, 1, 1,\n",
       "       1, 1, 2, 2, 2, 2, 1, 1, 2, 2, 1, 2, 2, 0, 0, 0, 0, 2, 0, 0, 0, 1,\n",
       "       1, 1, 1, 1, 1, 1, 1, 0, 2, 0, 1, 0, 0, 1, 0, 0])"
      ]
     },
     "execution_count": 128,
     "metadata": {},
     "output_type": "execute_result"
    }
   ],
   "source": [
    "bin_num_enm"
   ]
  },
  {
   "cell_type": "code",
   "execution_count": 129,
   "metadata": {
    "ExecuteTime": {
     "end_time": "2018-10-22T20:32:16.276327Z",
     "start_time": "2018-10-22T20:32:16.102516Z"
    }
   },
   "outputs": [
    {
     "data": {
      "text/plain": [
       "Text(0.5,1,'Frequency of ENM Weight Fraction Bins')"
      ]
     },
     "execution_count": 129,
     "metadata": {},
     "output_type": "execute_result"
    },
    {
     "data": {
      "image/png": "[encoded data removed]",
      "text/plain": [
       "<Figure size 432x288 with 1 Axes>"
      ]
     },
     "metadata": {},
     "output_type": "display_data"
    }
   ],
   "source": [
    "#plt.hist(bin_enm['bin_enm'])\n",
    "plt.hist(bin_num_enm)\n",
    "plt.title('Frequency of ENM Weight Fraction Bins')"
   ]
  },
  {
   "cell_type": "markdown",
   "metadata": {},
   "source": [
    "# Pre-processing"
   ]
  },
  {
   "cell_type": "markdown",
   "metadata": {},
   "source": [
    "## Preliminary performance check"
   ]
  },
  {
   "cell_type": "code",
   "execution_count": 130,
   "metadata": {
    "ExecuteTime": {
     "end_time": "2018-10-22T20:32:23.860485Z",
     "start_time": "2018-10-22T20:32:22.340375Z"
    }
   },
   "outputs": [
    {
     "name": "stderr",
     "output_type": "stream",
     "text": [
      "/anaconda3/lib/python3.6/site-packages/sklearn/utils/validation.py:578: DataConversionWarning: A column-vector y was passed when a 1d array was expected. Please change the shape of y to (n_samples, ), for example using ravel().\n",
      "  y = column_or_1d(y, warn=True)\n",
      "/anaconda3/lib/python3.6/site-packages/sklearn/utils/validation.py:578: DataConversionWarning: A column-vector y was passed when a 1d array was expected. Please change the shape of y to (n_samples, ), for example using ravel().\n",
      "  y = column_or_1d(y, warn=True)\n",
      "/anaconda3/lib/python3.6/site-packages/sklearn/utils/validation.py:578: DataConversionWarning: A column-vector y was passed when a 1d array was expected. Please change the shape of y to (n_samples, ), for example using ravel().\n",
      "  y = column_or_1d(y, warn=True)\n",
      "/anaconda3/lib/python3.6/site-packages/sklearn/utils/validation.py:578: DataConversionWarning: A column-vector y was passed when a 1d array was expected. Please change the shape of y to (n_samples, ), for example using ravel().\n",
      "  y = column_or_1d(y, warn=True)\n",
      "/anaconda3/lib/python3.6/site-packages/sklearn/utils/validation.py:578: DataConversionWarning: A column-vector y was passed when a 1d array was expected. Please change the shape of y to (n_samples, ), for example using ravel().\n",
      "  y = column_or_1d(y, warn=True)\n",
      "/anaconda3/lib/python3.6/site-packages/sklearn/utils/validation.py:578: DataConversionWarning: A column-vector y was passed when a 1d array was expected. Please change the shape of y to (n_samples, ), for example using ravel().\n",
      "  y = column_or_1d(y, warn=True)\n",
      "/anaconda3/lib/python3.6/site-packages/sklearn/utils/validation.py:578: DataConversionWarning: A column-vector y was passed when a 1d array was expected. Please change the shape of y to (n_samples, ), for example using ravel().\n",
      "  y = column_or_1d(y, warn=True)\n",
      "/anaconda3/lib/python3.6/site-packages/sklearn/utils/validation.py:578: DataConversionWarning: A column-vector y was passed when a 1d array was expected. Please change the shape of y to (n_samples, ), for example using ravel().\n",
      "  y = column_or_1d(y, warn=True)\n",
      "/anaconda3/lib/python3.6/site-packages/sklearn/utils/validation.py:578: DataConversionWarning: A column-vector y was passed when a 1d array was expected. Please change the shape of y to (n_samples, ), for example using ravel().\n",
      "  y = column_or_1d(y, warn=True)\n",
      "/anaconda3/lib/python3.6/site-packages/sklearn/utils/validation.py:578: DataConversionWarning: A column-vector y was passed when a 1d array was expected. Please change the shape of y to (n_samples, ), for example using ravel().\n",
      "  y = column_or_1d(y, warn=True)\n",
      "/anaconda3/lib/python3.6/site-packages/sklearn/utils/validation.py:578: DataConversionWarning: A column-vector y was passed when a 1d array was expected. Please change the shape of y to (n_samples, ), for example using ravel().\n",
      "  y = column_or_1d(y, warn=True)\n",
      "/anaconda3/lib/python3.6/site-packages/sklearn/utils/validation.py:578: DataConversionWarning: A column-vector y was passed when a 1d array was expected. Please change the shape of y to (n_samples, ), for example using ravel().\n",
      "  y = column_or_1d(y, warn=True)\n",
      "/anaconda3/lib/python3.6/site-packages/sklearn/utils/validation.py:578: DataConversionWarning: A column-vector y was passed when a 1d array was expected. Please change the shape of y to (n_samples, ), for example using ravel().\n",
      "  y = column_or_1d(y, warn=True)\n",
      "/anaconda3/lib/python3.6/site-packages/sklearn/utils/validation.py:578: DataConversionWarning: A column-vector y was passed when a 1d array was expected. Please change the shape of y to (n_samples, ), for example using ravel().\n",
      "  y = column_or_1d(y, warn=True)\n",
      "/anaconda3/lib/python3.6/site-packages/sklearn/utils/validation.py:578: DataConversionWarning: A column-vector y was passed when a 1d array was expected. Please change the shape of y to (n_samples, ), for example using ravel().\n",
      "  y = column_or_1d(y, warn=True)\n",
      "/anaconda3/lib/python3.6/site-packages/sklearn/utils/validation.py:578: DataConversionWarning: A column-vector y was passed when a 1d array was expected. Please change the shape of y to (n_samples, ), for example using ravel().\n",
      "  y = column_or_1d(y, warn=True)\n",
      "/anaconda3/lib/python3.6/site-packages/sklearn/utils/validation.py:578: DataConversionWarning: A column-vector y was passed when a 1d array was expected. Please change the shape of y to (n_samples, ), for example using ravel().\n",
      "  y = column_or_1d(y, warn=True)\n",
      "/anaconda3/lib/python3.6/site-packages/sklearn/utils/validation.py:578: DataConversionWarning: A column-vector y was passed when a 1d array was expected. Please change the shape of y to (n_samples, ), for example using ravel().\n",
      "  y = column_or_1d(y, warn=True)\n",
      "/anaconda3/lib/python3.6/site-packages/sklearn/utils/validation.py:578: DataConversionWarning: A column-vector y was passed when a 1d array was expected. Please change the shape of y to (n_samples, ), for example using ravel().\n",
      "  y = column_or_1d(y, warn=True)\n",
      "/anaconda3/lib/python3.6/site-packages/sklearn/utils/validation.py:578: DataConversionWarning: A column-vector y was passed when a 1d array was expected. Please change the shape of y to (n_samples, ), for example using ravel().\n",
      "  y = column_or_1d(y, warn=True)\n",
      "/anaconda3/lib/python3.6/site-packages/sklearn/utils/validation.py:578: DataConversionWarning: A column-vector y was passed when a 1d array was expected. Please change the shape of y to (n_samples, ), for example using ravel().\n",
      "  y = column_or_1d(y, warn=True)\n",
      "/anaconda3/lib/python3.6/site-packages/sklearn/utils/validation.py:578: DataConversionWarning: A column-vector y was passed when a 1d array was expected. Please change the shape of y to (n_samples, ), for example using ravel().\n",
      "  y = column_or_1d(y, warn=True)\n",
      "/anaconda3/lib/python3.6/site-packages/sklearn/utils/validation.py:578: DataConversionWarning: A column-vector y was passed when a 1d array was expected. Please change the shape of y to (n_samples, ), for example using ravel().\n",
      "  y = column_or_1d(y, warn=True)\n",
      "/anaconda3/lib/python3.6/site-packages/sklearn/utils/validation.py:578: DataConversionWarning: A column-vector y was passed when a 1d array was expected. Please change the shape of y to (n_samples, ), for example using ravel().\n",
      "  y = column_or_1d(y, warn=True)\n",
      "/anaconda3/lib/python3.6/site-packages/sklearn/utils/validation.py:578: DataConversionWarning: A column-vector y was passed when a 1d array was expected. Please change the shape of y to (n_samples, ), for example using ravel().\n",
      "  y = column_or_1d(y, warn=True)\n",
      "/anaconda3/lib/python3.6/site-packages/sklearn/utils/validation.py:578: DataConversionWarning: A column-vector y was passed when a 1d array was expected. Please change the shape of y to (n_samples, ), for example using ravel().\n",
      "  y = column_or_1d(y, warn=True)\n",
      "/anaconda3/lib/python3.6/site-packages/sklearn/utils/validation.py:578: DataConversionWarning: A column-vector y was passed when a 1d array was expected. Please change the shape of y to (n_samples, ), for example using ravel().\n",
      "  y = column_or_1d(y, warn=True)\n",
      "/anaconda3/lib/python3.6/site-packages/sklearn/utils/validation.py:578: DataConversionWarning: A column-vector y was passed when a 1d array was expected. Please change the shape of y to (n_samples, ), for example using ravel().\n",
      "  y = column_or_1d(y, warn=True)\n",
      "/anaconda3/lib/python3.6/site-packages/sklearn/utils/validation.py:578: DataConversionWarning: A column-vector y was passed when a 1d array was expected. Please change the shape of y to (n_samples, ), for example using ravel().\n",
      "  y = column_or_1d(y, warn=True)\n",
      "/anaconda3/lib/python3.6/site-packages/sklearn/utils/validation.py:578: DataConversionWarning: A column-vector y was passed when a 1d array was expected. Please change the shape of y to (n_samples, ), for example using ravel().\n",
      "  y = column_or_1d(y, warn=True)\n",
      "/anaconda3/lib/python3.6/site-packages/sklearn/utils/validation.py:578: DataConversionWarning: A column-vector y was passed when a 1d array was expected. Please change the shape of y to (n_samples, ), for example using ravel().\n",
      "  y = column_or_1d(y, warn=True)\n",
      "/anaconda3/lib/python3.6/site-packages/sklearn/utils/validation.py:578: DataConversionWarning: A column-vector y was passed when a 1d array was expected. Please change the shape of y to (n_samples, ), for example using ravel().\n",
      "  y = column_or_1d(y, warn=True)\n"
     ]
    },
    {
     "name": "stderr",
     "output_type": "stream",
     "text": [
      "/anaconda3/lib/python3.6/site-packages/sklearn/utils/validation.py:578: DataConversionWarning: A column-vector y was passed when a 1d array was expected. Please change the shape of y to (n_samples, ), for example using ravel().\n",
      "  y = column_or_1d(y, warn=True)\n",
      "/anaconda3/lib/python3.6/site-packages/sklearn/utils/validation.py:578: DataConversionWarning: A column-vector y was passed when a 1d array was expected. Please change the shape of y to (n_samples, ), for example using ravel().\n",
      "  y = column_or_1d(y, warn=True)\n",
      "/anaconda3/lib/python3.6/site-packages/sklearn/utils/validation.py:578: DataConversionWarning: A column-vector y was passed when a 1d array was expected. Please change the shape of y to (n_samples, ), for example using ravel().\n",
      "  y = column_or_1d(y, warn=True)\n",
      "/anaconda3/lib/python3.6/site-packages/sklearn/utils/validation.py:578: DataConversionWarning: A column-vector y was passed when a 1d array was expected. Please change the shape of y to (n_samples, ), for example using ravel().\n",
      "  y = column_or_1d(y, warn=True)\n",
      "/anaconda3/lib/python3.6/site-packages/sklearn/utils/validation.py:578: DataConversionWarning: A column-vector y was passed when a 1d array was expected. Please change the shape of y to (n_samples, ), for example using ravel().\n",
      "  y = column_or_1d(y, warn=True)\n",
      "/anaconda3/lib/python3.6/site-packages/sklearn/utils/validation.py:578: DataConversionWarning: A column-vector y was passed when a 1d array was expected. Please change the shape of y to (n_samples, ), for example using ravel().\n",
      "  y = column_or_1d(y, warn=True)\n",
      "/anaconda3/lib/python3.6/site-packages/sklearn/utils/validation.py:578: DataConversionWarning: A column-vector y was passed when a 1d array was expected. Please change the shape of y to (n_samples, ), for example using ravel().\n",
      "  y = column_or_1d(y, warn=True)\n",
      "/anaconda3/lib/python3.6/site-packages/sklearn/utils/validation.py:578: DataConversionWarning: A column-vector y was passed when a 1d array was expected. Please change the shape of y to (n_samples, ), for example using ravel().\n",
      "  y = column_or_1d(y, warn=True)\n",
      "/anaconda3/lib/python3.6/site-packages/sklearn/utils/validation.py:578: DataConversionWarning: A column-vector y was passed when a 1d array was expected. Please change the shape of y to (n_samples, ), for example using ravel().\n",
      "  y = column_or_1d(y, warn=True)\n",
      "/anaconda3/lib/python3.6/site-packages/sklearn/utils/validation.py:578: DataConversionWarning: A column-vector y was passed when a 1d array was expected. Please change the shape of y to (n_samples, ), for example using ravel().\n",
      "  y = column_or_1d(y, warn=True)\n",
      "/anaconda3/lib/python3.6/site-packages/sklearn/utils/validation.py:578: DataConversionWarning: A column-vector y was passed when a 1d array was expected. Please change the shape of y to (n_samples, ), for example using ravel().\n",
      "  y = column_or_1d(y, warn=True)\n",
      "/anaconda3/lib/python3.6/site-packages/sklearn/utils/validation.py:578: DataConversionWarning: A column-vector y was passed when a 1d array was expected. Please change the shape of y to (n_samples, ), for example using ravel().\n",
      "  y = column_or_1d(y, warn=True)\n",
      "/anaconda3/lib/python3.6/site-packages/sklearn/utils/validation.py:578: DataConversionWarning: A column-vector y was passed when a 1d array was expected. Please change the shape of y to (n_samples, ), for example using ravel().\n",
      "  y = column_or_1d(y, warn=True)\n",
      "/anaconda3/lib/python3.6/site-packages/sklearn/utils/validation.py:578: DataConversionWarning: A column-vector y was passed when a 1d array was expected. Please change the shape of y to (n_samples, ), for example using ravel().\n",
      "  y = column_or_1d(y, warn=True)\n",
      "/anaconda3/lib/python3.6/site-packages/sklearn/utils/validation.py:578: DataConversionWarning: A column-vector y was passed when a 1d array was expected. Please change the shape of y to (n_samples, ), for example using ravel().\n",
      "  y = column_or_1d(y, warn=True)\n",
      "/anaconda3/lib/python3.6/site-packages/sklearn/utils/validation.py:578: DataConversionWarning: A column-vector y was passed when a 1d array was expected. Please change the shape of y to (n_samples, ), for example using ravel().\n",
      "  y = column_or_1d(y, warn=True)\n",
      "/anaconda3/lib/python3.6/site-packages/sklearn/utils/validation.py:578: DataConversionWarning: A column-vector y was passed when a 1d array was expected. Please change the shape of y to (n_samples, ), for example using ravel().\n",
      "  y = column_or_1d(y, warn=True)\n",
      "/anaconda3/lib/python3.6/site-packages/sklearn/utils/validation.py:578: DataConversionWarning: A column-vector y was passed when a 1d array was expected. Please change the shape of y to (n_samples, ), for example using ravel().\n",
      "  y = column_or_1d(y, warn=True)\n",
      "/anaconda3/lib/python3.6/site-packages/sklearn/utils/validation.py:578: DataConversionWarning: A column-vector y was passed when a 1d array was expected. Please change the shape of y to (n_samples, ), for example using ravel().\n",
      "  y = column_or_1d(y, warn=True)\n",
      "/anaconda3/lib/python3.6/site-packages/sklearn/utils/validation.py:578: DataConversionWarning: A column-vector y was passed when a 1d array was expected. Please change the shape of y to (n_samples, ), for example using ravel().\n",
      "  y = column_or_1d(y, warn=True)\n",
      "/anaconda3/lib/python3.6/site-packages/sklearn/utils/validation.py:578: DataConversionWarning: A column-vector y was passed when a 1d array was expected. Please change the shape of y to (n_samples, ), for example using ravel().\n",
      "  y = column_or_1d(y, warn=True)\n",
      "/anaconda3/lib/python3.6/site-packages/sklearn/utils/validation.py:578: DataConversionWarning: A column-vector y was passed when a 1d array was expected. Please change the shape of y to (n_samples, ), for example using ravel().\n",
      "  y = column_or_1d(y, warn=True)\n",
      "/anaconda3/lib/python3.6/site-packages/sklearn/utils/validation.py:578: DataConversionWarning: A column-vector y was passed when a 1d array was expected. Please change the shape of y to (n_samples, ), for example using ravel().\n",
      "  y = column_or_1d(y, warn=True)\n",
      "/anaconda3/lib/python3.6/site-packages/sklearn/utils/validation.py:578: DataConversionWarning: A column-vector y was passed when a 1d array was expected. Please change the shape of y to (n_samples, ), for example using ravel().\n",
      "  y = column_or_1d(y, warn=True)\n",
      "/anaconda3/lib/python3.6/site-packages/sklearn/utils/validation.py:578: DataConversionWarning: A column-vector y was passed when a 1d array was expected. Please change the shape of y to (n_samples, ), for example using ravel().\n",
      "  y = column_or_1d(y, warn=True)\n",
      "/anaconda3/lib/python3.6/site-packages/sklearn/utils/validation.py:578: DataConversionWarning: A column-vector y was passed when a 1d array was expected. Please change the shape of y to (n_samples, ), for example using ravel().\n",
      "  y = column_or_1d(y, warn=True)\n",
      "/anaconda3/lib/python3.6/site-packages/sklearn/utils/validation.py:578: DataConversionWarning: A column-vector y was passed when a 1d array was expected. Please change the shape of y to (n_samples, ), for example using ravel().\n",
      "  y = column_or_1d(y, warn=True)\n",
      "/anaconda3/lib/python3.6/site-packages/sklearn/utils/validation.py:578: DataConversionWarning: A column-vector y was passed when a 1d array was expected. Please change the shape of y to (n_samples, ), for example using ravel().\n",
      "  y = column_or_1d(y, warn=True)\n",
      "/anaconda3/lib/python3.6/site-packages/sklearn/utils/validation.py:578: DataConversionWarning: A column-vector y was passed when a 1d array was expected. Please change the shape of y to (n_samples, ), for example using ravel().\n",
      "  y = column_or_1d(y, warn=True)\n",
      "/anaconda3/lib/python3.6/site-packages/sklearn/utils/validation.py:578: DataConversionWarning: A column-vector y was passed when a 1d array was expected. Please change the shape of y to (n_samples, ), for example using ravel().\n",
      "  y = column_or_1d(y, warn=True)\n",
      "/anaconda3/lib/python3.6/site-packages/sklearn/utils/validation.py:578: DataConversionWarning: A column-vector y was passed when a 1d array was expected. Please change the shape of y to (n_samples, ), for example using ravel().\n",
      "  y = column_or_1d(y, warn=True)\n",
      "/anaconda3/lib/python3.6/site-packages/sklearn/utils/validation.py:578: DataConversionWarning: A column-vector y was passed when a 1d array was expected. Please change the shape of y to (n_samples, ), for example using ravel().\n",
      "  y = column_or_1d(y, warn=True)\n"
     ]
    },
    {
     "name": "stderr",
     "output_type": "stream",
     "text": [
      "/anaconda3/lib/python3.6/site-packages/sklearn/utils/validation.py:578: DataConversionWarning: A column-vector y was passed when a 1d array was expected. Please change the shape of y to (n_samples, ), for example using ravel().\n",
      "  y = column_or_1d(y, warn=True)\n",
      "/anaconda3/lib/python3.6/site-packages/sklearn/utils/validation.py:578: DataConversionWarning: A column-vector y was passed when a 1d array was expected. Please change the shape of y to (n_samples, ), for example using ravel().\n",
      "  y = column_or_1d(y, warn=True)\n",
      "/anaconda3/lib/python3.6/site-packages/sklearn/utils/validation.py:578: DataConversionWarning: A column-vector y was passed when a 1d array was expected. Please change the shape of y to (n_samples, ), for example using ravel().\n",
      "  y = column_or_1d(y, warn=True)\n",
      "/anaconda3/lib/python3.6/site-packages/sklearn/utils/validation.py:578: DataConversionWarning: A column-vector y was passed when a 1d array was expected. Please change the shape of y to (n_samples, ), for example using ravel().\n",
      "  y = column_or_1d(y, warn=True)\n",
      "/anaconda3/lib/python3.6/site-packages/sklearn/utils/validation.py:578: DataConversionWarning: A column-vector y was passed when a 1d array was expected. Please change the shape of y to (n_samples, ), for example using ravel().\n",
      "  y = column_or_1d(y, warn=True)\n",
      "/anaconda3/lib/python3.6/site-packages/sklearn/utils/validation.py:578: DataConversionWarning: A column-vector y was passed when a 1d array was expected. Please change the shape of y to (n_samples, ), for example using ravel().\n",
      "  y = column_or_1d(y, warn=True)\n",
      "/anaconda3/lib/python3.6/site-packages/sklearn/utils/validation.py:578: DataConversionWarning: A column-vector y was passed when a 1d array was expected. Please change the shape of y to (n_samples, ), for example using ravel().\n",
      "  y = column_or_1d(y, warn=True)\n",
      "/anaconda3/lib/python3.6/site-packages/sklearn/utils/validation.py:578: DataConversionWarning: A column-vector y was passed when a 1d array was expected. Please change the shape of y to (n_samples, ), for example using ravel().\n",
      "  y = column_or_1d(y, warn=True)\n",
      "/anaconda3/lib/python3.6/site-packages/sklearn/utils/validation.py:578: DataConversionWarning: A column-vector y was passed when a 1d array was expected. Please change the shape of y to (n_samples, ), for example using ravel().\n",
      "  y = column_or_1d(y, warn=True)\n",
      "/anaconda3/lib/python3.6/site-packages/sklearn/utils/validation.py:578: DataConversionWarning: A column-vector y was passed when a 1d array was expected. Please change the shape of y to (n_samples, ), for example using ravel().\n",
      "  y = column_or_1d(y, warn=True)\n",
      "/anaconda3/lib/python3.6/site-packages/sklearn/utils/validation.py:578: DataConversionWarning: A column-vector y was passed when a 1d array was expected. Please change the shape of y to (n_samples, ), for example using ravel().\n",
      "  y = column_or_1d(y, warn=True)\n",
      "/anaconda3/lib/python3.6/site-packages/sklearn/utils/validation.py:578: DataConversionWarning: A column-vector y was passed when a 1d array was expected. Please change the shape of y to (n_samples, ), for example using ravel().\n",
      "  y = column_or_1d(y, warn=True)\n",
      "/anaconda3/lib/python3.6/site-packages/sklearn/utils/validation.py:578: DataConversionWarning: A column-vector y was passed when a 1d array was expected. Please change the shape of y to (n_samples, ), for example using ravel().\n",
      "  y = column_or_1d(y, warn=True)\n",
      "/anaconda3/lib/python3.6/site-packages/sklearn/utils/validation.py:578: DataConversionWarning: A column-vector y was passed when a 1d array was expected. Please change the shape of y to (n_samples, ), for example using ravel().\n",
      "  y = column_or_1d(y, warn=True)\n",
      "/anaconda3/lib/python3.6/site-packages/sklearn/utils/validation.py:578: DataConversionWarning: A column-vector y was passed when a 1d array was expected. Please change the shape of y to (n_samples, ), for example using ravel().\n",
      "  y = column_or_1d(y, warn=True)\n",
      "/anaconda3/lib/python3.6/site-packages/sklearn/utils/validation.py:578: DataConversionWarning: A column-vector y was passed when a 1d array was expected. Please change the shape of y to (n_samples, ), for example using ravel().\n",
      "  y = column_or_1d(y, warn=True)\n",
      "/anaconda3/lib/python3.6/site-packages/sklearn/utils/validation.py:578: DataConversionWarning: A column-vector y was passed when a 1d array was expected. Please change the shape of y to (n_samples, ), for example using ravel().\n",
      "  y = column_or_1d(y, warn=True)\n",
      "/anaconda3/lib/python3.6/site-packages/sklearn/utils/validation.py:578: DataConversionWarning: A column-vector y was passed when a 1d array was expected. Please change the shape of y to (n_samples, ), for example using ravel().\n",
      "  y = column_or_1d(y, warn=True)\n",
      "/anaconda3/lib/python3.6/site-packages/sklearn/utils/validation.py:578: DataConversionWarning: A column-vector y was passed when a 1d array was expected. Please change the shape of y to (n_samples, ), for example using ravel().\n",
      "  y = column_or_1d(y, warn=True)\n",
      "/anaconda3/lib/python3.6/site-packages/sklearn/utils/validation.py:578: DataConversionWarning: A column-vector y was passed when a 1d array was expected. Please change the shape of y to (n_samples, ), for example using ravel().\n",
      "  y = column_or_1d(y, warn=True)\n",
      "/anaconda3/lib/python3.6/site-packages/sklearn/utils/validation.py:578: DataConversionWarning: A column-vector y was passed when a 1d array was expected. Please change the shape of y to (n_samples, ), for example using ravel().\n",
      "  y = column_or_1d(y, warn=True)\n",
      "/anaconda3/lib/python3.6/site-packages/sklearn/utils/validation.py:578: DataConversionWarning: A column-vector y was passed when a 1d array was expected. Please change the shape of y to (n_samples, ), for example using ravel().\n",
      "  y = column_or_1d(y, warn=True)\n",
      "/anaconda3/lib/python3.6/site-packages/sklearn/utils/validation.py:578: DataConversionWarning: A column-vector y was passed when a 1d array was expected. Please change the shape of y to (n_samples, ), for example using ravel().\n",
      "  y = column_or_1d(y, warn=True)\n",
      "/anaconda3/lib/python3.6/site-packages/sklearn/utils/validation.py:578: DataConversionWarning: A column-vector y was passed when a 1d array was expected. Please change the shape of y to (n_samples, ), for example using ravel().\n",
      "  y = column_or_1d(y, warn=True)\n",
      "/anaconda3/lib/python3.6/site-packages/sklearn/utils/validation.py:578: DataConversionWarning: A column-vector y was passed when a 1d array was expected. Please change the shape of y to (n_samples, ), for example using ravel().\n",
      "  y = column_or_1d(y, warn=True)\n",
      "/anaconda3/lib/python3.6/site-packages/sklearn/utils/validation.py:578: DataConversionWarning: A column-vector y was passed when a 1d array was expected. Please change the shape of y to (n_samples, ), for example using ravel().\n",
      "  y = column_or_1d(y, warn=True)\n",
      "/anaconda3/lib/python3.6/site-packages/sklearn/utils/validation.py:578: DataConversionWarning: A column-vector y was passed when a 1d array was expected. Please change the shape of y to (n_samples, ), for example using ravel().\n",
      "  y = column_or_1d(y, warn=True)\n",
      "/anaconda3/lib/python3.6/site-packages/sklearn/utils/validation.py:578: DataConversionWarning: A column-vector y was passed when a 1d array was expected. Please change the shape of y to (n_samples, ), for example using ravel().\n",
      "  y = column_or_1d(y, warn=True)\n",
      "/anaconda3/lib/python3.6/site-packages/sklearn/utils/validation.py:578: DataConversionWarning: A column-vector y was passed when a 1d array was expected. Please change the shape of y to (n_samples, ), for example using ravel().\n",
      "  y = column_or_1d(y, warn=True)\n",
      "/anaconda3/lib/python3.6/site-packages/sklearn/utils/validation.py:578: DataConversionWarning: A column-vector y was passed when a 1d array was expected. Please change the shape of y to (n_samples, ), for example using ravel().\n",
      "  y = column_or_1d(y, warn=True)\n",
      "/anaconda3/lib/python3.6/site-packages/sklearn/utils/validation.py:578: DataConversionWarning: A column-vector y was passed when a 1d array was expected. Please change the shape of y to (n_samples, ), for example using ravel().\n",
      "  y = column_or_1d(y, warn=True)\n",
      "/anaconda3/lib/python3.6/site-packages/sklearn/utils/validation.py:578: DataConversionWarning: A column-vector y was passed when a 1d array was expected. Please change the shape of y to (n_samples, ), for example using ravel().\n",
      "  y = column_or_1d(y, warn=True)\n"
     ]
    },
    {
     "name": "stderr",
     "output_type": "stream",
     "text": [
      "/anaconda3/lib/python3.6/site-packages/sklearn/utils/validation.py:578: DataConversionWarning: A column-vector y was passed when a 1d array was expected. Please change the shape of y to (n_samples, ), for example using ravel().\n",
      "  y = column_or_1d(y, warn=True)\n",
      "/anaconda3/lib/python3.6/site-packages/sklearn/utils/validation.py:578: DataConversionWarning: A column-vector y was passed when a 1d array was expected. Please change the shape of y to (n_samples, ), for example using ravel().\n",
      "  y = column_or_1d(y, warn=True)\n",
      "/anaconda3/lib/python3.6/site-packages/sklearn/utils/validation.py:578: DataConversionWarning: A column-vector y was passed when a 1d array was expected. Please change the shape of y to (n_samples, ), for example using ravel().\n",
      "  y = column_or_1d(y, warn=True)\n",
      "/anaconda3/lib/python3.6/site-packages/sklearn/utils/validation.py:578: DataConversionWarning: A column-vector y was passed when a 1d array was expected. Please change the shape of y to (n_samples, ), for example using ravel().\n",
      "  y = column_or_1d(y, warn=True)\n",
      "/anaconda3/lib/python3.6/site-packages/sklearn/utils/validation.py:578: DataConversionWarning: A column-vector y was passed when a 1d array was expected. Please change the shape of y to (n_samples, ), for example using ravel().\n",
      "  y = column_or_1d(y, warn=True)\n",
      "/anaconda3/lib/python3.6/site-packages/sklearn/utils/validation.py:578: DataConversionWarning: A column-vector y was passed when a 1d array was expected. Please change the shape of y to (n_samples, ), for example using ravel().\n",
      "  y = column_or_1d(y, warn=True)\n",
      "/anaconda3/lib/python3.6/site-packages/sklearn/utils/validation.py:578: DataConversionWarning: A column-vector y was passed when a 1d array was expected. Please change the shape of y to (n_samples, ), for example using ravel().\n",
      "  y = column_or_1d(y, warn=True)\n",
      "/anaconda3/lib/python3.6/site-packages/sklearn/utils/validation.py:578: DataConversionWarning: A column-vector y was passed when a 1d array was expected. Please change the shape of y to (n_samples, ), for example using ravel().\n",
      "  y = column_or_1d(y, warn=True)\n",
      "/anaconda3/lib/python3.6/site-packages/sklearn/utils/validation.py:578: DataConversionWarning: A column-vector y was passed when a 1d array was expected. Please change the shape of y to (n_samples, ), for example using ravel().\n",
      "  y = column_or_1d(y, warn=True)\n",
      "/anaconda3/lib/python3.6/site-packages/sklearn/utils/validation.py:578: DataConversionWarning: A column-vector y was passed when a 1d array was expected. Please change the shape of y to (n_samples, ), for example using ravel().\n",
      "  y = column_or_1d(y, warn=True)\n",
      "/anaconda3/lib/python3.6/site-packages/sklearn/utils/validation.py:578: DataConversionWarning: A column-vector y was passed when a 1d array was expected. Please change the shape of y to (n_samples, ), for example using ravel().\n",
      "  y = column_or_1d(y, warn=True)\n",
      "/anaconda3/lib/python3.6/site-packages/sklearn/utils/validation.py:578: DataConversionWarning: A column-vector y was passed when a 1d array was expected. Please change the shape of y to (n_samples, ), for example using ravel().\n",
      "  y = column_or_1d(y, warn=True)\n",
      "/anaconda3/lib/python3.6/site-packages/sklearn/utils/validation.py:578: DataConversionWarning: A column-vector y was passed when a 1d array was expected. Please change the shape of y to (n_samples, ), for example using ravel().\n",
      "  y = column_or_1d(y, warn=True)\n",
      "/anaconda3/lib/python3.6/site-packages/sklearn/utils/validation.py:578: DataConversionWarning: A column-vector y was passed when a 1d array was expected. Please change the shape of y to (n_samples, ), for example using ravel().\n",
      "  y = column_or_1d(y, warn=True)\n",
      "/anaconda3/lib/python3.6/site-packages/sklearn/utils/validation.py:578: DataConversionWarning: A column-vector y was passed when a 1d array was expected. Please change the shape of y to (n_samples, ), for example using ravel().\n",
      "  y = column_or_1d(y, warn=True)\n",
      "/anaconda3/lib/python3.6/site-packages/sklearn/utils/validation.py:578: DataConversionWarning: A column-vector y was passed when a 1d array was expected. Please change the shape of y to (n_samples, ), for example using ravel().\n",
      "  y = column_or_1d(y, warn=True)\n",
      "/anaconda3/lib/python3.6/site-packages/sklearn/utils/validation.py:578: DataConversionWarning: A column-vector y was passed when a 1d array was expected. Please change the shape of y to (n_samples, ), for example using ravel().\n",
      "  y = column_or_1d(y, warn=True)\n",
      "/anaconda3/lib/python3.6/site-packages/sklearn/utils/validation.py:578: DataConversionWarning: A column-vector y was passed when a 1d array was expected. Please change the shape of y to (n_samples, ), for example using ravel().\n",
      "  y = column_or_1d(y, warn=True)\n",
      "/anaconda3/lib/python3.6/site-packages/sklearn/utils/validation.py:578: DataConversionWarning: A column-vector y was passed when a 1d array was expected. Please change the shape of y to (n_samples, ), for example using ravel().\n",
      "  y = column_or_1d(y, warn=True)\n",
      "/anaconda3/lib/python3.6/site-packages/sklearn/utils/validation.py:578: DataConversionWarning: A column-vector y was passed when a 1d array was expected. Please change the shape of y to (n_samples, ), for example using ravel().\n",
      "  y = column_or_1d(y, warn=True)\n",
      "/anaconda3/lib/python3.6/site-packages/sklearn/utils/validation.py:578: DataConversionWarning: A column-vector y was passed when a 1d array was expected. Please change the shape of y to (n_samples, ), for example using ravel().\n",
      "  y = column_or_1d(y, warn=True)\n",
      "/anaconda3/lib/python3.6/site-packages/sklearn/utils/validation.py:578: DataConversionWarning: A column-vector y was passed when a 1d array was expected. Please change the shape of y to (n_samples, ), for example using ravel().\n",
      "  y = column_or_1d(y, warn=True)\n",
      "/anaconda3/lib/python3.6/site-packages/sklearn/utils/validation.py:578: DataConversionWarning: A column-vector y was passed when a 1d array was expected. Please change the shape of y to (n_samples, ), for example using ravel().\n",
      "  y = column_or_1d(y, warn=True)\n",
      "/anaconda3/lib/python3.6/site-packages/sklearn/utils/validation.py:578: DataConversionWarning: A column-vector y was passed when a 1d array was expected. Please change the shape of y to (n_samples, ), for example using ravel().\n",
      "  y = column_or_1d(y, warn=True)\n",
      "/anaconda3/lib/python3.6/site-packages/sklearn/utils/validation.py:578: DataConversionWarning: A column-vector y was passed when a 1d array was expected. Please change the shape of y to (n_samples, ), for example using ravel().\n",
      "  y = column_or_1d(y, warn=True)\n",
      "/anaconda3/lib/python3.6/site-packages/sklearn/utils/validation.py:578: DataConversionWarning: A column-vector y was passed when a 1d array was expected. Please change the shape of y to (n_samples, ), for example using ravel().\n",
      "  y = column_or_1d(y, warn=True)\n",
      "/anaconda3/lib/python3.6/site-packages/sklearn/utils/validation.py:578: DataConversionWarning: A column-vector y was passed when a 1d array was expected. Please change the shape of y to (n_samples, ), for example using ravel().\n",
      "  y = column_or_1d(y, warn=True)\n",
      "/anaconda3/lib/python3.6/site-packages/sklearn/utils/validation.py:578: DataConversionWarning: A column-vector y was passed when a 1d array was expected. Please change the shape of y to (n_samples, ), for example using ravel().\n",
      "  y = column_or_1d(y, warn=True)\n",
      "/anaconda3/lib/python3.6/site-packages/sklearn/utils/validation.py:578: DataConversionWarning: A column-vector y was passed when a 1d array was expected. Please change the shape of y to (n_samples, ), for example using ravel().\n",
      "  y = column_or_1d(y, warn=True)\n",
      "/anaconda3/lib/python3.6/site-packages/sklearn/utils/validation.py:578: DataConversionWarning: A column-vector y was passed when a 1d array was expected. Please change the shape of y to (n_samples, ), for example using ravel().\n",
      "  y = column_or_1d(y, warn=True)\n",
      "/anaconda3/lib/python3.6/site-packages/sklearn/utils/validation.py:578: DataConversionWarning: A column-vector y was passed when a 1d array was expected. Please change the shape of y to (n_samples, ), for example using ravel().\n",
      "  y = column_or_1d(y, warn=True)\n",
      "/anaconda3/lib/python3.6/site-packages/sklearn/utils/validation.py:578: DataConversionWarning: A column-vector y was passed when a 1d array was expected. Please change the shape of y to (n_samples, ), for example using ravel().\n",
      "  y = column_or_1d(y, warn=True)\n"
     ]
    },
    {
     "name": "stderr",
     "output_type": "stream",
     "text": [
      "/anaconda3/lib/python3.6/site-packages/sklearn/utils/validation.py:578: DataConversionWarning: A column-vector y was passed when a 1d array was expected. Please change the shape of y to (n_samples, ), for example using ravel().\n",
      "  y = column_or_1d(y, warn=True)\n",
      "/anaconda3/lib/python3.6/site-packages/sklearn/utils/validation.py:578: DataConversionWarning: A column-vector y was passed when a 1d array was expected. Please change the shape of y to (n_samples, ), for example using ravel().\n",
      "  y = column_or_1d(y, warn=True)\n",
      "/anaconda3/lib/python3.6/site-packages/sklearn/utils/validation.py:578: DataConversionWarning: A column-vector y was passed when a 1d array was expected. Please change the shape of y to (n_samples, ), for example using ravel().\n",
      "  y = column_or_1d(y, warn=True)\n",
      "/anaconda3/lib/python3.6/site-packages/sklearn/utils/validation.py:578: DataConversionWarning: A column-vector y was passed when a 1d array was expected. Please change the shape of y to (n_samples, ), for example using ravel().\n",
      "  y = column_or_1d(y, warn=True)\n",
      "/anaconda3/lib/python3.6/site-packages/sklearn/utils/validation.py:578: DataConversionWarning: A column-vector y was passed when a 1d array was expected. Please change the shape of y to (n_samples, ), for example using ravel().\n",
      "  y = column_or_1d(y, warn=True)\n",
      "/anaconda3/lib/python3.6/site-packages/sklearn/utils/validation.py:578: DataConversionWarning: A column-vector y was passed when a 1d array was expected. Please change the shape of y to (n_samples, ), for example using ravel().\n",
      "  y = column_or_1d(y, warn=True)\n",
      "/anaconda3/lib/python3.6/site-packages/sklearn/utils/validation.py:578: DataConversionWarning: A column-vector y was passed when a 1d array was expected. Please change the shape of y to (n_samples, ), for example using ravel().\n",
      "  y = column_or_1d(y, warn=True)\n",
      "/anaconda3/lib/python3.6/site-packages/sklearn/utils/validation.py:578: DataConversionWarning: A column-vector y was passed when a 1d array was expected. Please change the shape of y to (n_samples, ), for example using ravel().\n",
      "  y = column_or_1d(y, warn=True)\n",
      "/anaconda3/lib/python3.6/site-packages/sklearn/utils/validation.py:578: DataConversionWarning: A column-vector y was passed when a 1d array was expected. Please change the shape of y to (n_samples, ), for example using ravel().\n",
      "  y = column_or_1d(y, warn=True)\n",
      "/anaconda3/lib/python3.6/site-packages/sklearn/utils/validation.py:578: DataConversionWarning: A column-vector y was passed when a 1d array was expected. Please change the shape of y to (n_samples, ), for example using ravel().\n",
      "  y = column_or_1d(y, warn=True)\n",
      "/anaconda3/lib/python3.6/site-packages/sklearn/utils/validation.py:578: DataConversionWarning: A column-vector y was passed when a 1d array was expected. Please change the shape of y to (n_samples, ), for example using ravel().\n",
      "  y = column_or_1d(y, warn=True)\n",
      "/anaconda3/lib/python3.6/site-packages/sklearn/utils/validation.py:578: DataConversionWarning: A column-vector y was passed when a 1d array was expected. Please change the shape of y to (n_samples, ), for example using ravel().\n",
      "  y = column_or_1d(y, warn=True)\n",
      "/anaconda3/lib/python3.6/site-packages/sklearn/utils/validation.py:578: DataConversionWarning: A column-vector y was passed when a 1d array was expected. Please change the shape of y to (n_samples, ), for example using ravel().\n",
      "  y = column_or_1d(y, warn=True)\n",
      "/anaconda3/lib/python3.6/site-packages/sklearn/utils/validation.py:578: DataConversionWarning: A column-vector y was passed when a 1d array was expected. Please change the shape of y to (n_samples, ), for example using ravel().\n",
      "  y = column_or_1d(y, warn=True)\n",
      "/anaconda3/lib/python3.6/site-packages/sklearn/utils/validation.py:578: DataConversionWarning: A column-vector y was passed when a 1d array was expected. Please change the shape of y to (n_samples, ), for example using ravel().\n",
      "  y = column_or_1d(y, warn=True)\n",
      "/anaconda3/lib/python3.6/site-packages/sklearn/utils/validation.py:578: DataConversionWarning: A column-vector y was passed when a 1d array was expected. Please change the shape of y to (n_samples, ), for example using ravel().\n",
      "  y = column_or_1d(y, warn=True)\n",
      "/anaconda3/lib/python3.6/site-packages/sklearn/utils/validation.py:578: DataConversionWarning: A column-vector y was passed when a 1d array was expected. Please change the shape of y to (n_samples, ), for example using ravel().\n",
      "  y = column_or_1d(y, warn=True)\n",
      "/anaconda3/lib/python3.6/site-packages/sklearn/utils/validation.py:578: DataConversionWarning: A column-vector y was passed when a 1d array was expected. Please change the shape of y to (n_samples, ), for example using ravel().\n",
      "  y = column_or_1d(y, warn=True)\n",
      "/anaconda3/lib/python3.6/site-packages/sklearn/utils/validation.py:578: DataConversionWarning: A column-vector y was passed when a 1d array was expected. Please change the shape of y to (n_samples, ), for example using ravel().\n",
      "  y = column_or_1d(y, warn=True)\n",
      "/anaconda3/lib/python3.6/site-packages/sklearn/utils/validation.py:578: DataConversionWarning: A column-vector y was passed when a 1d array was expected. Please change the shape of y to (n_samples, ), for example using ravel().\n",
      "  y = column_or_1d(y, warn=True)\n",
      "/anaconda3/lib/python3.6/site-packages/sklearn/utils/validation.py:578: DataConversionWarning: A column-vector y was passed when a 1d array was expected. Please change the shape of y to (n_samples, ), for example using ravel().\n",
      "  y = column_or_1d(y, warn=True)\n",
      "/anaconda3/lib/python3.6/site-packages/sklearn/utils/validation.py:578: DataConversionWarning: A column-vector y was passed when a 1d array was expected. Please change the shape of y to (n_samples, ), for example using ravel().\n",
      "  y = column_or_1d(y, warn=True)\n",
      "/anaconda3/lib/python3.6/site-packages/sklearn/utils/validation.py:578: DataConversionWarning: A column-vector y was passed when a 1d array was expected. Please change the shape of y to (n_samples, ), for example using ravel().\n",
      "  y = column_or_1d(y, warn=True)\n",
      "/anaconda3/lib/python3.6/site-packages/sklearn/utils/validation.py:578: DataConversionWarning: A column-vector y was passed when a 1d array was expected. Please change the shape of y to (n_samples, ), for example using ravel().\n",
      "  y = column_or_1d(y, warn=True)\n",
      "/anaconda3/lib/python3.6/site-packages/sklearn/utils/validation.py:578: DataConversionWarning: A column-vector y was passed when a 1d array was expected. Please change the shape of y to (n_samples, ), for example using ravel().\n",
      "  y = column_or_1d(y, warn=True)\n",
      "/anaconda3/lib/python3.6/site-packages/sklearn/utils/validation.py:578: DataConversionWarning: A column-vector y was passed when a 1d array was expected. Please change the shape of y to (n_samples, ), for example using ravel().\n",
      "  y = column_or_1d(y, warn=True)\n",
      "/anaconda3/lib/python3.6/site-packages/sklearn/utils/validation.py:578: DataConversionWarning: A column-vector y was passed when a 1d array was expected. Please change the shape of y to (n_samples, ), for example using ravel().\n",
      "  y = column_or_1d(y, warn=True)\n",
      "/anaconda3/lib/python3.6/site-packages/sklearn/utils/validation.py:578: DataConversionWarning: A column-vector y was passed when a 1d array was expected. Please change the shape of y to (n_samples, ), for example using ravel().\n",
      "  y = column_or_1d(y, warn=True)\n",
      "/anaconda3/lib/python3.6/site-packages/sklearn/utils/validation.py:578: DataConversionWarning: A column-vector y was passed when a 1d array was expected. Please change the shape of y to (n_samples, ), for example using ravel().\n",
      "  y = column_or_1d(y, warn=True)\n",
      "/anaconda3/lib/python3.6/site-packages/sklearn/utils/validation.py:578: DataConversionWarning: A column-vector y was passed when a 1d array was expected. Please change the shape of y to (n_samples, ), for example using ravel().\n",
      "  y = column_or_1d(y, warn=True)\n",
      "/anaconda3/lib/python3.6/site-packages/sklearn/utils/validation.py:578: DataConversionWarning: A column-vector y was passed when a 1d array was expected. Please change the shape of y to (n_samples, ), for example using ravel().\n",
      "  y = column_or_1d(y, warn=True)\n",
      "/anaconda3/lib/python3.6/site-packages/sklearn/utils/validation.py:578: DataConversionWarning: A column-vector y was passed when a 1d array was expected. Please change the shape of y to (n_samples, ), for example using ravel().\n",
      "  y = column_or_1d(y, warn=True)\n"
     ]
    },
    {
     "name": "stdout",
     "output_type": "stream",
     "text": [
      "{'estimator__C': 0.5, 'estimator__gamma': 0.01}\n",
      "0.0177125168965301\n"
     ]
    },
    {
     "name": "stderr",
     "output_type": "stream",
     "text": [
      "/anaconda3/lib/python3.6/site-packages/sklearn/utils/validation.py:578: DataConversionWarning: A column-vector y was passed when a 1d array was expected. Please change the shape of y to (n_samples, ), for example using ravel().\n",
      "  y = column_or_1d(y, warn=True)\n"
     ]
    },
    {
     "data": {
      "text/html": [
       "\n",
       "                <audio controls=\"controls\" autoplay=\"autoplay\">\n",
       "                    <source src=\"./data/Glass.wav\" type=\"audio/x-wav\" />\n",
       "                    Your browser does not support the audio element.\n",
       "                </audio>\n",
       "              "
      ],
      "text/plain": [
       "<IPython.lib.display.Audio object>"
      ]
     },
     "execution_count": 130,
     "metadata": {},
     "output_type": "execute_result"
    }
   ],
   "source": [
    "# SVR-RBF with all features, normalized\n",
    "    # Log-transformed weight fractions (NOT BINS!)\n",
    "    # Explained variance\n",
    "\n",
    "from sklearn.pipeline import Pipeline\n",
    "from sklearn.model_selection import GridSearchCV\n",
    "from sklearn.preprocessing import MinMaxScaler\n",
    "from sklearn.svm import SVR\n",
    "\n",
    "# Pipeline\n",
    "estimator = SVR(kernel='rbf')\n",
    "prepipe = Pipeline([\n",
    "    ('scale', MinMaxScaler()),\n",
    "    ('estimator', estimator)\n",
    "])\n",
    "\n",
    "# Set parameter ranges for gridsearch\n",
    "cv=10\n",
    "n_jobs=3\n",
    "c_set=[0.1, 0.5, 1, 5]\n",
    "gamma_set=[0.0001, 0.001, 0.01, 0.1]\n",
    "\n",
    "# Gridsearch\n",
    "param_grid={'estimator__C': c_set,\n",
    "            'estimator__gamma': gamma_set\n",
    "           }\n",
    "grid_search=GridSearchCV(prepipe,param_grid,cv=cv,scoring='explained_variance', n_jobs=n_jobs, pre_dispatch=2*n_jobs)\n",
    "grid_search.fit(X_enm,y_enm_log)\n",
    "print(grid_search.best_params_)\n",
    "print(grid_search.best_score_)\n",
    "\n",
    "# Play sound when done running\n",
    "Audio(url=sound_file, autoplay=True)"
   ]
  },
  {
   "cell_type": "markdown",
   "metadata": {},
   "source": [
    "## PCA"
   ]
  },
  {
   "cell_type": "markdown",
   "metadata": {},
   "source": [
    "http://scikit-learn.org/stable/modules/generated/sklearn.decomposition.PCA.html#sklearn.decomposition.PCA\n",
    "\n",
    "***Need to add in cross-validation***"
   ]
  },
  {
   "cell_type": "code",
   "execution_count": 131,
   "metadata": {
    "ExecuteTime": {
     "end_time": "2018-10-22T20:32:26.078826Z",
     "start_time": "2018-10-22T20:32:26.065512Z"
    },
    "collapsed": true
   },
   "outputs": [],
   "source": [
    "# Scale the data first (i.e., the chemical properties) so everything is from 0 to 1\n",
    "from sklearn.preprocessing import MinMaxScaler\n",
    "scaler = MinMaxScaler()\n",
    "X_enm_scaled = scaler.fit_transform(X_enm)"
   ]
  },
  {
   "cell_type": "code",
   "execution_count": 36,
   "metadata": {
    "ExecuteTime": {
     "end_time": "2018-10-22T17:30:29.529170Z",
     "start_time": "2018-10-22T17:30:29.278396Z"
    }
   },
   "outputs": [
    {
     "data": {
      "image/png": "[encoded data removed]",
      "text/plain": [
       "<Figure size 432x288 with 1 Axes>"
      ]
     },
     "metadata": {},
     "output_type": "display_data"
    }
   ],
   "source": [
    "# Figure out number of components to achieve 85% cumulative explained variance\n",
    "from sklearn import decomposition \n",
    "pca=decomposition.PCA(n_components=30)\n",
    "dim_red_source=pca.fit(X_enm_scaled)\n",
    "\n",
    "fig =plt.figure()\n",
    "plt.plot(np.cumsum(pca.explained_variance_ratio_),'.-',label='pca')\n",
    "plt.plot([0, 30],[.95,.95],'k',label='95%')\n",
    "plt.plot([0, 30],[.85,.85],'r',label='85%')\n",
    "#plt.xlim([15,50])\n",
    "plt.xlabel('Coefficient Number')\n",
    "plt.ylabel('Cumulative Explained Variance Ratio')\n",
    "plt.grid()\n",
    "plt.legend()\n",
    "plt.show()"
   ]
  },
  {
   "cell_type": "code",
   "execution_count": 37,
   "metadata": {
    "ExecuteTime": {
     "end_time": "2018-10-22T17:30:29.834184Z",
     "start_time": "2018-10-22T17:30:29.817060Z"
    },
    "collapsed": true
   },
   "outputs": [],
   "source": [
    "# PCA, 2 component\n",
    "pca = decomposition.PCA(n_components=2)\n",
    "pca.fit_transform(X_enm_scaled)\n",
    "\n",
    "# Dump components relations with features:\n",
    "#https://stackoverflow.com/questions/22984335/recovering-features-names-of-explained-variance-ratio-in-pca-with-sklearn\n",
    "pca_enm_df = pd.DataFrame(pca.components_,columns=X_enm.columns,index = ['PC-1','PC-2'])\n",
    "pca_enm_df.to_csv('./BLTfigs/enm_pca2component_2.csv')"
   ]
  },
  {
   "cell_type": "code",
   "execution_count": 38,
   "metadata": {
    "ExecuteTime": {
     "end_time": "2018-10-22T17:30:30.608469Z",
     "start_time": "2018-10-22T17:30:30.601692Z"
    },
    "collapsed": true
   },
   "outputs": [],
   "source": [
    "# Transform/apply PCA\n",
    "from sklearn import decomposition \n",
    "pca=decomposition.PCA(n_components=21)\n",
    "dim_red_enm=pca.fit_transform(X_enm_scaled)"
   ]
  },
  {
   "cell_type": "markdown",
   "metadata": {},
   "source": [
    "## Hierarchical Agglomerative Clustering (HAC)"
   ]
  },
  {
   "cell_type": "markdown",
   "metadata": {},
   "source": [
    "* Feature Agglomeration sklearn http://scikit-learn.org/stable/modules/generated/sklearn.cluster.FeatureAgglomeration.html\n",
    "* Alternate approach\n",
    "https://joernhees.de/blog/2015/08/26/scipy-hierarchical-clustering-and-dendrogram-tutorial/"
   ]
  },
  {
   "cell_type": "code",
   "execution_count": 39,
   "metadata": {
    "ExecuteTime": {
     "end_time": "2018-10-22T17:30:32.499313Z",
     "start_time": "2018-10-22T17:30:32.482254Z"
    },
    "collapsed": true
   },
   "outputs": [],
   "source": [
    "# Distance matrix using cosine\n",
    "# ENM Functions and Product Category Features\n",
    "\n",
    "from scipy.spatial.distance import squareform, pdist, cosine\n",
    "from scipy.cluster.hierarchy import dendrogram, linkage\n",
    "\n",
    "# https://stackoverflow.com/questions/35639571/python-pandas-distance-matrix-using-jaccard-similarity\n",
    "res_enm = 1-pdist(Xfp_enm.T, 'cosine') # transform to find similarity between features (not datapoints)\n",
    "distance_enm = pd.DataFrame(squareform(res_enm), index=enm_all_names, columns=enm_all_names)"
   ]
  },
  {
   "cell_type": "code",
   "execution_count": 40,
   "metadata": {
    "ExecuteTime": {
     "end_time": "2018-10-22T17:30:35.692085Z",
     "start_time": "2018-10-22T17:30:35.572268Z"
    }
   },
   "outputs": [
    {
     "data": {
      "text/html": [
       "<div>\n",
       "<style scoped>\n",
       "    .dataframe tbody tr th:only-of-type {\n",
       "        vertical-align: middle;\n",
       "    }\n",
       "\n",
       "    .dataframe tbody tr th {\n",
       "        vertical-align: top;\n",
       "    }\n",
       "\n",
       "    .dataframe thead th {\n",
       "        text-align: right;\n",
       "    }\n",
       "</style>\n",
       "<table border=\"1\" class=\"dataframe\">\n",
       "  <thead>\n",
       "    <tr style=\"text-align: right;\">\n",
       "      <th></th>\n",
       "      <th>absorbent</th>\n",
       "      <th>antioxidant</th>\n",
       "      <th>antiredeposition_agent</th>\n",
       "      <th>biocide</th>\n",
       "      <th>brightener</th>\n",
       "      <th>chemical_reaction_regulator</th>\n",
       "      <th>colorant</th>\n",
       "      <th>deodorizer</th>\n",
       "      <th>filler</th>\n",
       "      <th>flavouring_nutrient</th>\n",
       "      <th>...</th>\n",
       "      <th>group_nutritional supplements</th>\n",
       "      <th>group_paint/stain and related products</th>\n",
       "      <th>group_portable air processing</th>\n",
       "      <th>group_sunscreen</th>\n",
       "      <th>group_surface sealers</th>\n",
       "      <th>group_toys</th>\n",
       "      <th>refined_NOC</th>\n",
       "      <th>refined_spray</th>\n",
       "      <th>matrix_A</th>\n",
       "      <th>matrix_F</th>\n",
       "    </tr>\n",
       "  </thead>\n",
       "  <tbody>\n",
       "    <tr>\n",
       "      <th>absorbent</th>\n",
       "      <td>0.000000</td>\n",
       "      <td>0.000000</td>\n",
       "      <td>0.000000</td>\n",
       "      <td>0.000000</td>\n",
       "      <td>0.000000</td>\n",
       "      <td>0.000000</td>\n",
       "      <td>0.000000</td>\n",
       "      <td>0.000000</td>\n",
       "      <td>0.478091</td>\n",
       "      <td>0.000000</td>\n",
       "      <td>...</td>\n",
       "      <td>0.000000</td>\n",
       "      <td>0.000000</td>\n",
       "      <td>0.000000</td>\n",
       "      <td>0.149071</td>\n",
       "      <td>0.000000</td>\n",
       "      <td>0.000000</td>\n",
       "      <td>0.215353</td>\n",
       "      <td>0.124035</td>\n",
       "      <td>0.000000</td>\n",
       "      <td>0.273179</td>\n",
       "    </tr>\n",
       "    <tr>\n",
       "      <th>antioxidant</th>\n",
       "      <td>0.000000</td>\n",
       "      <td>0.000000</td>\n",
       "      <td>0.000000</td>\n",
       "      <td>0.111803</td>\n",
       "      <td>0.000000</td>\n",
       "      <td>0.000000</td>\n",
       "      <td>0.000000</td>\n",
       "      <td>0.000000</td>\n",
       "      <td>0.000000</td>\n",
       "      <td>0.301511</td>\n",
       "      <td>...</td>\n",
       "      <td>0.301511</td>\n",
       "      <td>0.000000</td>\n",
       "      <td>0.000000</td>\n",
       "      <td>0.000000</td>\n",
       "      <td>0.000000</td>\n",
       "      <td>0.000000</td>\n",
       "      <td>0.170251</td>\n",
       "      <td>0.000000</td>\n",
       "      <td>0.000000</td>\n",
       "      <td>0.172774</td>\n",
       "    </tr>\n",
       "    <tr>\n",
       "      <th>antiredeposition_agent</th>\n",
       "      <td>0.000000</td>\n",
       "      <td>0.000000</td>\n",
       "      <td>0.000000</td>\n",
       "      <td>0.000000</td>\n",
       "      <td>0.000000</td>\n",
       "      <td>0.000000</td>\n",
       "      <td>0.353553</td>\n",
       "      <td>0.000000</td>\n",
       "      <td>0.188982</td>\n",
       "      <td>0.000000</td>\n",
       "      <td>...</td>\n",
       "      <td>0.000000</td>\n",
       "      <td>0.408248</td>\n",
       "      <td>0.000000</td>\n",
       "      <td>0.000000</td>\n",
       "      <td>0.000000</td>\n",
       "      <td>0.000000</td>\n",
       "      <td>0.085126</td>\n",
       "      <td>0.196116</td>\n",
       "      <td>0.000000</td>\n",
       "      <td>0.172774</td>\n",
       "    </tr>\n",
       "    <tr>\n",
       "      <th>biocide</th>\n",
       "      <td>0.000000</td>\n",
       "      <td>0.111803</td>\n",
       "      <td>0.000000</td>\n",
       "      <td>0.000000</td>\n",
       "      <td>0.000000</td>\n",
       "      <td>0.000000</td>\n",
       "      <td>0.000000</td>\n",
       "      <td>0.223607</td>\n",
       "      <td>0.000000</td>\n",
       "      <td>0.438230</td>\n",
       "      <td>...</td>\n",
       "      <td>0.438230</td>\n",
       "      <td>0.091287</td>\n",
       "      <td>0.158114</td>\n",
       "      <td>0.000000</td>\n",
       "      <td>0.000000</td>\n",
       "      <td>0.158114</td>\n",
       "      <td>0.609110</td>\n",
       "      <td>0.350823</td>\n",
       "      <td>0.612372</td>\n",
       "      <td>0.482917</td>\n",
       "    </tr>\n",
       "    <tr>\n",
       "      <th>brightener</th>\n",
       "      <td>0.000000</td>\n",
       "      <td>0.000000</td>\n",
       "      <td>0.000000</td>\n",
       "      <td>0.000000</td>\n",
       "      <td>0.000000</td>\n",
       "      <td>0.000000</td>\n",
       "      <td>0.000000</td>\n",
       "      <td>0.000000</td>\n",
       "      <td>0.000000</td>\n",
       "      <td>0.000000</td>\n",
       "      <td>...</td>\n",
       "      <td>0.000000</td>\n",
       "      <td>0.000000</td>\n",
       "      <td>0.000000</td>\n",
       "      <td>0.136083</td>\n",
       "      <td>0.000000</td>\n",
       "      <td>0.000000</td>\n",
       "      <td>0.294884</td>\n",
       "      <td>0.000000</td>\n",
       "      <td>0.000000</td>\n",
       "      <td>0.299253</td>\n",
       "    </tr>\n",
       "    <tr>\n",
       "      <th>chemical_reaction_regulator</th>\n",
       "      <td>0.000000</td>\n",
       "      <td>0.000000</td>\n",
       "      <td>0.000000</td>\n",
       "      <td>0.000000</td>\n",
       "      <td>0.000000</td>\n",
       "      <td>0.000000</td>\n",
       "      <td>0.000000</td>\n",
       "      <td>0.000000</td>\n",
       "      <td>0.000000</td>\n",
       "      <td>0.000000</td>\n",
       "      <td>...</td>\n",
       "      <td>0.000000</td>\n",
       "      <td>0.000000</td>\n",
       "      <td>0.000000</td>\n",
       "      <td>0.000000</td>\n",
       "      <td>0.000000</td>\n",
       "      <td>0.000000</td>\n",
       "      <td>0.170251</td>\n",
       "      <td>0.000000</td>\n",
       "      <td>0.000000</td>\n",
       "      <td>0.172774</td>\n",
       "    </tr>\n",
       "    <tr>\n",
       "      <th>colorant</th>\n",
       "      <td>0.000000</td>\n",
       "      <td>0.000000</td>\n",
       "      <td>0.353553</td>\n",
       "      <td>0.000000</td>\n",
       "      <td>0.000000</td>\n",
       "      <td>0.000000</td>\n",
       "      <td>0.000000</td>\n",
       "      <td>0.000000</td>\n",
       "      <td>0.133631</td>\n",
       "      <td>0.000000</td>\n",
       "      <td>...</td>\n",
       "      <td>0.000000</td>\n",
       "      <td>0.577350</td>\n",
       "      <td>0.000000</td>\n",
       "      <td>0.166667</td>\n",
       "      <td>0.000000</td>\n",
       "      <td>0.000000</td>\n",
       "      <td>0.240772</td>\n",
       "      <td>0.000000</td>\n",
       "      <td>0.000000</td>\n",
       "      <td>0.244339</td>\n",
       "    </tr>\n",
       "    <tr>\n",
       "      <th>deodorizer</th>\n",
       "      <td>0.000000</td>\n",
       "      <td>0.000000</td>\n",
       "      <td>0.000000</td>\n",
       "      <td>0.223607</td>\n",
       "      <td>0.000000</td>\n",
       "      <td>0.000000</td>\n",
       "      <td>0.000000</td>\n",
       "      <td>0.000000</td>\n",
       "      <td>0.000000</td>\n",
       "      <td>0.000000</td>\n",
       "      <td>...</td>\n",
       "      <td>0.000000</td>\n",
       "      <td>0.000000</td>\n",
       "      <td>0.000000</td>\n",
       "      <td>0.000000</td>\n",
       "      <td>0.000000</td>\n",
       "      <td>0.000000</td>\n",
       "      <td>0.085126</td>\n",
       "      <td>0.196116</td>\n",
       "      <td>0.182574</td>\n",
       "      <td>0.086387</td>\n",
       "    </tr>\n",
       "    <tr>\n",
       "      <th>filler</th>\n",
       "      <td>0.478091</td>\n",
       "      <td>0.000000</td>\n",
       "      <td>0.188982</td>\n",
       "      <td>0.000000</td>\n",
       "      <td>0.000000</td>\n",
       "      <td>0.000000</td>\n",
       "      <td>0.133631</td>\n",
       "      <td>0.000000</td>\n",
       "      <td>0.000000</td>\n",
       "      <td>0.000000</td>\n",
       "      <td>...</td>\n",
       "      <td>0.000000</td>\n",
       "      <td>0.000000</td>\n",
       "      <td>0.000000</td>\n",
       "      <td>0.534522</td>\n",
       "      <td>0.000000</td>\n",
       "      <td>0.000000</td>\n",
       "      <td>0.321745</td>\n",
       "      <td>0.296500</td>\n",
       "      <td>0.000000</td>\n",
       "      <td>0.457116</td>\n",
       "    </tr>\n",
       "    <tr>\n",
       "      <th>flavouring_nutrient</th>\n",
       "      <td>0.000000</td>\n",
       "      <td>0.301511</td>\n",
       "      <td>0.000000</td>\n",
       "      <td>0.438230</td>\n",
       "      <td>0.000000</td>\n",
       "      <td>0.000000</td>\n",
       "      <td>0.000000</td>\n",
       "      <td>0.000000</td>\n",
       "      <td>0.000000</td>\n",
       "      <td>0.000000</td>\n",
       "      <td>...</td>\n",
       "      <td>1.000000</td>\n",
       "      <td>0.000000</td>\n",
       "      <td>0.000000</td>\n",
       "      <td>0.000000</td>\n",
       "      <td>0.000000</td>\n",
       "      <td>0.000000</td>\n",
       "      <td>0.564660</td>\n",
       "      <td>0.000000</td>\n",
       "      <td>0.000000</td>\n",
       "      <td>0.573025</td>\n",
       "    </tr>\n",
       "    <tr>\n",
       "      <th>hardener</th>\n",
       "      <td>0.000000</td>\n",
       "      <td>0.000000</td>\n",
       "      <td>0.408248</td>\n",
       "      <td>0.000000</td>\n",
       "      <td>0.000000</td>\n",
       "      <td>0.000000</td>\n",
       "      <td>0.000000</td>\n",
       "      <td>0.000000</td>\n",
       "      <td>0.308607</td>\n",
       "      <td>0.000000</td>\n",
       "      <td>...</td>\n",
       "      <td>0.000000</td>\n",
       "      <td>0.000000</td>\n",
       "      <td>0.000000</td>\n",
       "      <td>0.000000</td>\n",
       "      <td>0.577350</td>\n",
       "      <td>0.000000</td>\n",
       "      <td>0.069505</td>\n",
       "      <td>0.320256</td>\n",
       "      <td>0.000000</td>\n",
       "      <td>0.211604</td>\n",
       "    </tr>\n",
       "    <tr>\n",
       "      <th>humectant</th>\n",
       "      <td>0.000000</td>\n",
       "      <td>0.000000</td>\n",
       "      <td>0.000000</td>\n",
       "      <td>0.000000</td>\n",
       "      <td>0.000000</td>\n",
       "      <td>0.000000</td>\n",
       "      <td>0.000000</td>\n",
       "      <td>0.000000</td>\n",
       "      <td>0.707107</td>\n",
       "      <td>0.000000</td>\n",
       "      <td>...</td>\n",
       "      <td>0.000000</td>\n",
       "      <td>0.000000</td>\n",
       "      <td>0.000000</td>\n",
       "      <td>0.629941</td>\n",
       "      <td>0.000000</td>\n",
       "      <td>0.000000</td>\n",
       "      <td>0.273009</td>\n",
       "      <td>0.104828</td>\n",
       "      <td>0.000000</td>\n",
       "      <td>0.323230</td>\n",
       "    </tr>\n",
       "    <tr>\n",
       "      <th>lubricating_agent</th>\n",
       "      <td>0.000000</td>\n",
       "      <td>0.000000</td>\n",
       "      <td>0.000000</td>\n",
       "      <td>0.000000</td>\n",
       "      <td>0.000000</td>\n",
       "      <td>0.316228</td>\n",
       "      <td>0.000000</td>\n",
       "      <td>0.000000</td>\n",
       "      <td>0.000000</td>\n",
       "      <td>0.000000</td>\n",
       "      <td>...</td>\n",
       "      <td>0.000000</td>\n",
       "      <td>0.000000</td>\n",
       "      <td>0.000000</td>\n",
       "      <td>0.000000</td>\n",
       "      <td>0.000000</td>\n",
       "      <td>0.000000</td>\n",
       "      <td>0.269191</td>\n",
       "      <td>0.000000</td>\n",
       "      <td>0.000000</td>\n",
       "      <td>0.273179</td>\n",
       "    </tr>\n",
       "    <tr>\n",
       "      <th>opacifier</th>\n",
       "      <td>0.800000</td>\n",
       "      <td>0.000000</td>\n",
       "      <td>0.000000</td>\n",
       "      <td>0.000000</td>\n",
       "      <td>0.000000</td>\n",
       "      <td>0.316228</td>\n",
       "      <td>0.000000</td>\n",
       "      <td>0.000000</td>\n",
       "      <td>0.478091</td>\n",
       "      <td>0.000000</td>\n",
       "      <td>...</td>\n",
       "      <td>0.000000</td>\n",
       "      <td>0.000000</td>\n",
       "      <td>0.000000</td>\n",
       "      <td>0.149071</td>\n",
       "      <td>0.000000</td>\n",
       "      <td>0.000000</td>\n",
       "      <td>0.215353</td>\n",
       "      <td>0.124035</td>\n",
       "      <td>0.000000</td>\n",
       "      <td>0.273179</td>\n",
       "    </tr>\n",
       "    <tr>\n",
       "      <th>uv_stabilizer</th>\n",
       "      <td>0.000000</td>\n",
       "      <td>0.000000</td>\n",
       "      <td>0.176777</td>\n",
       "      <td>0.000000</td>\n",
       "      <td>0.408248</td>\n",
       "      <td>0.000000</td>\n",
       "      <td>0.375000</td>\n",
       "      <td>0.000000</td>\n",
       "      <td>0.467707</td>\n",
       "      <td>0.000000</td>\n",
       "      <td>...</td>\n",
       "      <td>0.000000</td>\n",
       "      <td>0.288675</td>\n",
       "      <td>0.000000</td>\n",
       "      <td>0.666667</td>\n",
       "      <td>0.250000</td>\n",
       "      <td>0.000000</td>\n",
       "      <td>0.391254</td>\n",
       "      <td>0.208013</td>\n",
       "      <td>0.000000</td>\n",
       "      <td>0.488678</td>\n",
       "    </tr>\n",
       "    <tr>\n",
       "      <th>viscosity_modifier</th>\n",
       "      <td>0.620174</td>\n",
       "      <td>0.000000</td>\n",
       "      <td>0.196116</td>\n",
       "      <td>0.000000</td>\n",
       "      <td>0.679366</td>\n",
       "      <td>0.000000</td>\n",
       "      <td>0.138675</td>\n",
       "      <td>0.000000</td>\n",
       "      <td>0.296500</td>\n",
       "      <td>0.000000</td>\n",
       "      <td>...</td>\n",
       "      <td>0.000000</td>\n",
       "      <td>0.160128</td>\n",
       "      <td>0.000000</td>\n",
       "      <td>0.184900</td>\n",
       "      <td>0.000000</td>\n",
       "      <td>0.000000</td>\n",
       "      <td>0.400668</td>\n",
       "      <td>0.076923</td>\n",
       "      <td>0.000000</td>\n",
       "      <td>0.440488</td>\n",
       "    </tr>\n",
       "    <tr>\n",
       "      <th>gen_AC</th>\n",
       "      <td>0.000000</td>\n",
       "      <td>0.000000</td>\n",
       "      <td>0.500000</td>\n",
       "      <td>0.000000</td>\n",
       "      <td>0.000000</td>\n",
       "      <td>0.000000</td>\n",
       "      <td>0.000000</td>\n",
       "      <td>0.000000</td>\n",
       "      <td>0.377964</td>\n",
       "      <td>0.000000</td>\n",
       "      <td>...</td>\n",
       "      <td>0.000000</td>\n",
       "      <td>0.000000</td>\n",
       "      <td>0.000000</td>\n",
       "      <td>0.000000</td>\n",
       "      <td>0.000000</td>\n",
       "      <td>0.000000</td>\n",
       "      <td>0.000000</td>\n",
       "      <td>0.392232</td>\n",
       "      <td>0.000000</td>\n",
       "      <td>0.172774</td>\n",
       "    </tr>\n",
       "    <tr>\n",
       "      <th>gen_AP</th>\n",
       "      <td>0.000000</td>\n",
       "      <td>0.000000</td>\n",
       "      <td>0.000000</td>\n",
       "      <td>0.353553</td>\n",
       "      <td>0.000000</td>\n",
       "      <td>0.000000</td>\n",
       "      <td>0.000000</td>\n",
       "      <td>0.316228</td>\n",
       "      <td>0.000000</td>\n",
       "      <td>0.000000</td>\n",
       "      <td>...</td>\n",
       "      <td>0.000000</td>\n",
       "      <td>0.000000</td>\n",
       "      <td>0.000000</td>\n",
       "      <td>0.000000</td>\n",
       "      <td>0.000000</td>\n",
       "      <td>0.000000</td>\n",
       "      <td>0.269191</td>\n",
       "      <td>0.000000</td>\n",
       "      <td>0.577350</td>\n",
       "      <td>0.000000</td>\n",
       "    </tr>\n",
       "    <tr>\n",
       "      <th>gen_CP</th>\n",
       "      <td>0.000000</td>\n",
       "      <td>0.000000</td>\n",
       "      <td>0.000000</td>\n",
       "      <td>0.158114</td>\n",
       "      <td>0.000000</td>\n",
       "      <td>0.000000</td>\n",
       "      <td>0.000000</td>\n",
       "      <td>0.000000</td>\n",
       "      <td>0.000000</td>\n",
       "      <td>0.000000</td>\n",
       "      <td>...</td>\n",
       "      <td>0.000000</td>\n",
       "      <td>0.000000</td>\n",
       "      <td>0.000000</td>\n",
       "      <td>0.000000</td>\n",
       "      <td>0.000000</td>\n",
       "      <td>0.000000</td>\n",
       "      <td>0.000000</td>\n",
       "      <td>0.277350</td>\n",
       "      <td>0.000000</td>\n",
       "      <td>0.122169</td>\n",
       "    </tr>\n",
       "    <tr>\n",
       "      <th>gen_CS</th>\n",
       "      <td>0.000000</td>\n",
       "      <td>0.000000</td>\n",
       "      <td>0.000000</td>\n",
       "      <td>0.158114</td>\n",
       "      <td>0.000000</td>\n",
       "      <td>0.000000</td>\n",
       "      <td>0.000000</td>\n",
       "      <td>0.000000</td>\n",
       "      <td>0.000000</td>\n",
       "      <td>0.000000</td>\n",
       "      <td>...</td>\n",
       "      <td>0.000000</td>\n",
       "      <td>0.000000</td>\n",
       "      <td>0.000000</td>\n",
       "      <td>0.000000</td>\n",
       "      <td>0.000000</td>\n",
       "      <td>1.000000</td>\n",
       "      <td>0.120386</td>\n",
       "      <td>0.000000</td>\n",
       "      <td>0.258199</td>\n",
       "      <td>0.000000</td>\n",
       "    </tr>\n",
       "    <tr>\n",
       "      <th>gen_EL</th>\n",
       "      <td>0.000000</td>\n",
       "      <td>0.000000</td>\n",
       "      <td>0.000000</td>\n",
       "      <td>0.158114</td>\n",
       "      <td>0.000000</td>\n",
       "      <td>0.000000</td>\n",
       "      <td>0.000000</td>\n",
       "      <td>0.000000</td>\n",
       "      <td>0.000000</td>\n",
       "      <td>0.000000</td>\n",
       "      <td>...</td>\n",
       "      <td>0.000000</td>\n",
       "      <td>0.000000</td>\n",
       "      <td>1.000000</td>\n",
       "      <td>0.000000</td>\n",
       "      <td>0.000000</td>\n",
       "      <td>0.000000</td>\n",
       "      <td>0.120386</td>\n",
       "      <td>0.000000</td>\n",
       "      <td>0.258199</td>\n",
       "      <td>0.000000</td>\n",
       "    </tr>\n",
       "    <tr>\n",
       "      <th>gen_FC</th>\n",
       "      <td>0.000000</td>\n",
       "      <td>0.000000</td>\n",
       "      <td>0.000000</td>\n",
       "      <td>0.223607</td>\n",
       "      <td>0.000000</td>\n",
       "      <td>0.000000</td>\n",
       "      <td>0.000000</td>\n",
       "      <td>0.000000</td>\n",
       "      <td>0.000000</td>\n",
       "      <td>0.000000</td>\n",
       "      <td>...</td>\n",
       "      <td>0.000000</td>\n",
       "      <td>0.000000</td>\n",
       "      <td>0.000000</td>\n",
       "      <td>0.000000</td>\n",
       "      <td>0.000000</td>\n",
       "      <td>0.000000</td>\n",
       "      <td>0.170251</td>\n",
       "      <td>0.000000</td>\n",
       "      <td>0.365148</td>\n",
       "      <td>0.000000</td>\n",
       "    </tr>\n",
       "    <tr>\n",
       "      <th>gen_HM</th>\n",
       "      <td>0.000000</td>\n",
       "      <td>0.000000</td>\n",
       "      <td>0.288675</td>\n",
       "      <td>0.193649</td>\n",
       "      <td>0.000000</td>\n",
       "      <td>0.000000</td>\n",
       "      <td>0.408248</td>\n",
       "      <td>0.000000</td>\n",
       "      <td>0.000000</td>\n",
       "      <td>0.000000</td>\n",
       "      <td>...</td>\n",
       "      <td>0.000000</td>\n",
       "      <td>0.707107</td>\n",
       "      <td>0.000000</td>\n",
       "      <td>0.000000</td>\n",
       "      <td>0.408248</td>\n",
       "      <td>0.000000</td>\n",
       "      <td>0.294884</td>\n",
       "      <td>0.000000</td>\n",
       "      <td>0.210819</td>\n",
       "      <td>0.199502</td>\n",
       "    </tr>\n",
       "    <tr>\n",
       "      <th>gen_PC</th>\n",
       "      <td>0.408248</td>\n",
       "      <td>0.000000</td>\n",
       "      <td>0.000000</td>\n",
       "      <td>0.230940</td>\n",
       "      <td>0.447214</td>\n",
       "      <td>0.000000</td>\n",
       "      <td>0.182574</td>\n",
       "      <td>0.129099</td>\n",
       "      <td>0.585540</td>\n",
       "      <td>0.000000</td>\n",
       "      <td>...</td>\n",
       "      <td>0.000000</td>\n",
       "      <td>0.000000</td>\n",
       "      <td>0.000000</td>\n",
       "      <td>0.547723</td>\n",
       "      <td>0.000000</td>\n",
       "      <td>0.000000</td>\n",
       "      <td>0.571463</td>\n",
       "      <td>0.202548</td>\n",
       "      <td>0.188562</td>\n",
       "      <td>0.579930</td>\n",
       "    </tr>\n",
       "    <tr>\n",
       "      <th>gen_PE</th>\n",
       "      <td>0.000000</td>\n",
       "      <td>0.000000</td>\n",
       "      <td>0.000000</td>\n",
       "      <td>0.158114</td>\n",
       "      <td>0.000000</td>\n",
       "      <td>0.000000</td>\n",
       "      <td>0.000000</td>\n",
       "      <td>0.000000</td>\n",
       "      <td>0.000000</td>\n",
       "      <td>0.000000</td>\n",
       "      <td>...</td>\n",
       "      <td>0.000000</td>\n",
       "      <td>0.000000</td>\n",
       "      <td>0.000000</td>\n",
       "      <td>0.000000</td>\n",
       "      <td>0.000000</td>\n",
       "      <td>0.000000</td>\n",
       "      <td>0.000000</td>\n",
       "      <td>0.277350</td>\n",
       "      <td>0.000000</td>\n",
       "      <td>0.122169</td>\n",
       "    </tr>\n",
       "    <tr>\n",
       "      <th>gen_PH</th>\n",
       "      <td>0.000000</td>\n",
       "      <td>0.272166</td>\n",
       "      <td>0.000000</td>\n",
       "      <td>0.547723</td>\n",
       "      <td>0.000000</td>\n",
       "      <td>0.000000</td>\n",
       "      <td>0.000000</td>\n",
       "      <td>0.000000</td>\n",
       "      <td>0.000000</td>\n",
       "      <td>0.902671</td>\n",
       "      <td>...</td>\n",
       "      <td>0.902671</td>\n",
       "      <td>0.000000</td>\n",
       "      <td>0.000000</td>\n",
       "      <td>0.000000</td>\n",
       "      <td>0.000000</td>\n",
       "      <td>0.000000</td>\n",
       "      <td>0.509702</td>\n",
       "      <td>0.266880</td>\n",
       "      <td>0.000000</td>\n",
       "      <td>0.634811</td>\n",
       "    </tr>\n",
       "    <tr>\n",
       "      <th>gen_VE</th>\n",
       "      <td>0.000000</td>\n",
       "      <td>0.000000</td>\n",
       "      <td>0.000000</td>\n",
       "      <td>0.000000</td>\n",
       "      <td>0.000000</td>\n",
       "      <td>0.577350</td>\n",
       "      <td>0.000000</td>\n",
       "      <td>0.000000</td>\n",
       "      <td>0.000000</td>\n",
       "      <td>0.000000</td>\n",
       "      <td>...</td>\n",
       "      <td>0.000000</td>\n",
       "      <td>0.000000</td>\n",
       "      <td>0.000000</td>\n",
       "      <td>0.000000</td>\n",
       "      <td>0.000000</td>\n",
       "      <td>0.000000</td>\n",
       "      <td>0.294884</td>\n",
       "      <td>0.000000</td>\n",
       "      <td>0.000000</td>\n",
       "      <td>0.299253</td>\n",
       "    </tr>\n",
       "    <tr>\n",
       "      <th>group_apparel</th>\n",
       "      <td>0.000000</td>\n",
       "      <td>0.000000</td>\n",
       "      <td>0.000000</td>\n",
       "      <td>0.353553</td>\n",
       "      <td>0.000000</td>\n",
       "      <td>0.000000</td>\n",
       "      <td>0.000000</td>\n",
       "      <td>0.316228</td>\n",
       "      <td>0.000000</td>\n",
       "      <td>0.000000</td>\n",
       "      <td>...</td>\n",
       "      <td>0.000000</td>\n",
       "      <td>0.000000</td>\n",
       "      <td>0.000000</td>\n",
       "      <td>0.000000</td>\n",
       "      <td>0.000000</td>\n",
       "      <td>0.000000</td>\n",
       "      <td>0.269191</td>\n",
       "      <td>0.000000</td>\n",
       "      <td>0.577350</td>\n",
       "      <td>0.000000</td>\n",
       "    </tr>\n",
       "    <tr>\n",
       "      <th>group_child specific</th>\n",
       "      <td>0.000000</td>\n",
       "      <td>0.000000</td>\n",
       "      <td>0.000000</td>\n",
       "      <td>0.091287</td>\n",
       "      <td>0.000000</td>\n",
       "      <td>0.000000</td>\n",
       "      <td>0.000000</td>\n",
       "      <td>0.000000</td>\n",
       "      <td>0.154303</td>\n",
       "      <td>0.000000</td>\n",
       "      <td>...</td>\n",
       "      <td>0.000000</td>\n",
       "      <td>0.000000</td>\n",
       "      <td>0.000000</td>\n",
       "      <td>0.000000</td>\n",
       "      <td>0.000000</td>\n",
       "      <td>0.000000</td>\n",
       "      <td>0.208514</td>\n",
       "      <td>0.000000</td>\n",
       "      <td>0.000000</td>\n",
       "      <td>0.211604</td>\n",
       "    </tr>\n",
       "    <tr>\n",
       "      <th>group_cold relief</th>\n",
       "      <td>0.000000</td>\n",
       "      <td>0.000000</td>\n",
       "      <td>0.000000</td>\n",
       "      <td>0.353553</td>\n",
       "      <td>0.000000</td>\n",
       "      <td>0.000000</td>\n",
       "      <td>0.000000</td>\n",
       "      <td>0.000000</td>\n",
       "      <td>0.000000</td>\n",
       "      <td>0.000000</td>\n",
       "      <td>...</td>\n",
       "      <td>0.000000</td>\n",
       "      <td>0.000000</td>\n",
       "      <td>0.000000</td>\n",
       "      <td>0.000000</td>\n",
       "      <td>0.000000</td>\n",
       "      <td>0.000000</td>\n",
       "      <td>0.000000</td>\n",
       "      <td>0.620174</td>\n",
       "      <td>0.000000</td>\n",
       "      <td>0.273179</td>\n",
       "    </tr>\n",
       "    <tr>\n",
       "      <th>group_dental care</th>\n",
       "      <td>0.000000</td>\n",
       "      <td>0.000000</td>\n",
       "      <td>0.000000</td>\n",
       "      <td>0.316228</td>\n",
       "      <td>0.000000</td>\n",
       "      <td>0.000000</td>\n",
       "      <td>0.000000</td>\n",
       "      <td>0.000000</td>\n",
       "      <td>0.000000</td>\n",
       "      <td>0.000000</td>\n",
       "      <td>...</td>\n",
       "      <td>0.000000</td>\n",
       "      <td>0.000000</td>\n",
       "      <td>0.000000</td>\n",
       "      <td>0.000000</td>\n",
       "      <td>0.000000</td>\n",
       "      <td>0.000000</td>\n",
       "      <td>0.240772</td>\n",
       "      <td>0.000000</td>\n",
       "      <td>0.387298</td>\n",
       "      <td>0.061085</td>\n",
       "    </tr>\n",
       "    <tr>\n",
       "      <th>group_deodorant</th>\n",
       "      <td>0.000000</td>\n",
       "      <td>0.000000</td>\n",
       "      <td>0.000000</td>\n",
       "      <td>0.158114</td>\n",
       "      <td>0.000000</td>\n",
       "      <td>0.000000</td>\n",
       "      <td>0.000000</td>\n",
       "      <td>0.707107</td>\n",
       "      <td>0.000000</td>\n",
       "      <td>0.000000</td>\n",
       "      <td>...</td>\n",
       "      <td>0.000000</td>\n",
       "      <td>0.000000</td>\n",
       "      <td>0.000000</td>\n",
       "      <td>0.000000</td>\n",
       "      <td>0.000000</td>\n",
       "      <td>0.000000</td>\n",
       "      <td>0.000000</td>\n",
       "      <td>0.277350</td>\n",
       "      <td>0.000000</td>\n",
       "      <td>0.122169</td>\n",
       "    </tr>\n",
       "    <tr>\n",
       "      <th>group_engine maintenance</th>\n",
       "      <td>0.000000</td>\n",
       "      <td>0.000000</td>\n",
       "      <td>0.000000</td>\n",
       "      <td>0.000000</td>\n",
       "      <td>0.000000</td>\n",
       "      <td>0.577350</td>\n",
       "      <td>0.000000</td>\n",
       "      <td>0.000000</td>\n",
       "      <td>0.000000</td>\n",
       "      <td>0.000000</td>\n",
       "      <td>...</td>\n",
       "      <td>0.000000</td>\n",
       "      <td>0.000000</td>\n",
       "      <td>0.000000</td>\n",
       "      <td>0.000000</td>\n",
       "      <td>0.000000</td>\n",
       "      <td>0.000000</td>\n",
       "      <td>0.294884</td>\n",
       "      <td>0.000000</td>\n",
       "      <td>0.000000</td>\n",
       "      <td>0.299253</td>\n",
       "    </tr>\n",
       "    <tr>\n",
       "      <th>group_fabric treatment and dye</th>\n",
       "      <td>0.000000</td>\n",
       "      <td>0.000000</td>\n",
       "      <td>0.500000</td>\n",
       "      <td>0.000000</td>\n",
       "      <td>0.000000</td>\n",
       "      <td>0.000000</td>\n",
       "      <td>0.000000</td>\n",
       "      <td>0.000000</td>\n",
       "      <td>0.377964</td>\n",
       "      <td>0.000000</td>\n",
       "      <td>...</td>\n",
       "      <td>0.000000</td>\n",
       "      <td>0.000000</td>\n",
       "      <td>0.000000</td>\n",
       "      <td>0.000000</td>\n",
       "      <td>0.000000</td>\n",
       "      <td>0.000000</td>\n",
       "      <td>0.000000</td>\n",
       "      <td>0.392232</td>\n",
       "      <td>0.000000</td>\n",
       "      <td>0.172774</td>\n",
       "    </tr>\n",
       "    <tr>\n",
       "      <th>group_facial cleansing and moisturizing</th>\n",
       "      <td>0.507093</td>\n",
       "      <td>0.000000</td>\n",
       "      <td>0.000000</td>\n",
       "      <td>0.059761</td>\n",
       "      <td>0.462910</td>\n",
       "      <td>0.000000</td>\n",
       "      <td>0.000000</td>\n",
       "      <td>0.000000</td>\n",
       "      <td>0.202031</td>\n",
       "      <td>0.000000</td>\n",
       "      <td>...</td>\n",
       "      <td>0.000000</td>\n",
       "      <td>0.000000</td>\n",
       "      <td>0.000000</td>\n",
       "      <td>0.000000</td>\n",
       "      <td>0.000000</td>\n",
       "      <td>0.000000</td>\n",
       "      <td>0.318511</td>\n",
       "      <td>0.000000</td>\n",
       "      <td>0.000000</td>\n",
       "      <td>0.323230</td>\n",
       "    </tr>\n",
       "    <tr>\n",
       "      <th>group_first aid</th>\n",
       "      <td>0.000000</td>\n",
       "      <td>0.000000</td>\n",
       "      <td>0.000000</td>\n",
       "      <td>0.158114</td>\n",
       "      <td>0.000000</td>\n",
       "      <td>0.000000</td>\n",
       "      <td>0.000000</td>\n",
       "      <td>0.000000</td>\n",
       "      <td>0.000000</td>\n",
       "      <td>0.000000</td>\n",
       "      <td>...</td>\n",
       "      <td>0.000000</td>\n",
       "      <td>0.000000</td>\n",
       "      <td>0.000000</td>\n",
       "      <td>0.000000</td>\n",
       "      <td>0.000000</td>\n",
       "      <td>0.000000</td>\n",
       "      <td>0.120386</td>\n",
       "      <td>0.000000</td>\n",
       "      <td>0.258199</td>\n",
       "      <td>0.000000</td>\n",
       "    </tr>\n",
       "    <tr>\n",
       "      <th>group_food storage</th>\n",
       "      <td>0.000000</td>\n",
       "      <td>0.000000</td>\n",
       "      <td>0.000000</td>\n",
       "      <td>0.223607</td>\n",
       "      <td>0.000000</td>\n",
       "      <td>0.000000</td>\n",
       "      <td>0.000000</td>\n",
       "      <td>0.000000</td>\n",
       "      <td>0.000000</td>\n",
       "      <td>0.000000</td>\n",
       "      <td>...</td>\n",
       "      <td>0.000000</td>\n",
       "      <td>0.000000</td>\n",
       "      <td>0.000000</td>\n",
       "      <td>0.000000</td>\n",
       "      <td>0.000000</td>\n",
       "      <td>0.000000</td>\n",
       "      <td>0.170251</td>\n",
       "      <td>0.000000</td>\n",
       "      <td>0.365148</td>\n",
       "      <td>0.000000</td>\n",
       "    </tr>\n",
       "    <tr>\n",
       "      <th>group_fungicide</th>\n",
       "      <td>0.000000</td>\n",
       "      <td>0.000000</td>\n",
       "      <td>0.000000</td>\n",
       "      <td>0.158114</td>\n",
       "      <td>0.000000</td>\n",
       "      <td>0.000000</td>\n",
       "      <td>0.000000</td>\n",
       "      <td>0.000000</td>\n",
       "      <td>0.000000</td>\n",
       "      <td>0.000000</td>\n",
       "      <td>...</td>\n",
       "      <td>0.000000</td>\n",
       "      <td>0.000000</td>\n",
       "      <td>0.000000</td>\n",
       "      <td>0.000000</td>\n",
       "      <td>0.000000</td>\n",
       "      <td>0.000000</td>\n",
       "      <td>0.000000</td>\n",
       "      <td>0.277350</td>\n",
       "      <td>0.000000</td>\n",
       "      <td>0.122169</td>\n",
       "    </tr>\n",
       "    <tr>\n",
       "      <th>group_general household cleaning</th>\n",
       "      <td>0.000000</td>\n",
       "      <td>0.000000</td>\n",
       "      <td>0.000000</td>\n",
       "      <td>0.158114</td>\n",
       "      <td>0.000000</td>\n",
       "      <td>0.000000</td>\n",
       "      <td>0.000000</td>\n",
       "      <td>0.000000</td>\n",
       "      <td>0.000000</td>\n",
       "      <td>0.000000</td>\n",
       "      <td>...</td>\n",
       "      <td>0.000000</td>\n",
       "      <td>0.000000</td>\n",
       "      <td>0.000000</td>\n",
       "      <td>0.000000</td>\n",
       "      <td>0.000000</td>\n",
       "      <td>0.000000</td>\n",
       "      <td>0.000000</td>\n",
       "      <td>0.277350</td>\n",
       "      <td>0.000000</td>\n",
       "      <td>0.122169</td>\n",
       "    </tr>\n",
       "    <tr>\n",
       "      <th>group_general moisturizing</th>\n",
       "      <td>0.000000</td>\n",
       "      <td>0.000000</td>\n",
       "      <td>0.000000</td>\n",
       "      <td>0.000000</td>\n",
       "      <td>0.000000</td>\n",
       "      <td>0.000000</td>\n",
       "      <td>0.000000</td>\n",
       "      <td>0.000000</td>\n",
       "      <td>0.267261</td>\n",
       "      <td>0.000000</td>\n",
       "      <td>...</td>\n",
       "      <td>0.000000</td>\n",
       "      <td>0.000000</td>\n",
       "      <td>0.000000</td>\n",
       "      <td>0.000000</td>\n",
       "      <td>0.000000</td>\n",
       "      <td>0.000000</td>\n",
       "      <td>0.120386</td>\n",
       "      <td>0.000000</td>\n",
       "      <td>0.000000</td>\n",
       "      <td>0.122169</td>\n",
       "    </tr>\n",
       "    <tr>\n",
       "      <th>group_large appliances</th>\n",
       "      <td>0.000000</td>\n",
       "      <td>0.000000</td>\n",
       "      <td>0.000000</td>\n",
       "      <td>0.223607</td>\n",
       "      <td>0.000000</td>\n",
       "      <td>0.000000</td>\n",
       "      <td>0.000000</td>\n",
       "      <td>0.000000</td>\n",
       "      <td>0.000000</td>\n",
       "      <td>0.000000</td>\n",
       "      <td>...</td>\n",
       "      <td>0.000000</td>\n",
       "      <td>0.000000</td>\n",
       "      <td>0.000000</td>\n",
       "      <td>0.000000</td>\n",
       "      <td>0.000000</td>\n",
       "      <td>0.000000</td>\n",
       "      <td>0.170251</td>\n",
       "      <td>0.000000</td>\n",
       "      <td>0.365148</td>\n",
       "      <td>0.000000</td>\n",
       "    </tr>\n",
       "    <tr>\n",
       "      <th>group_make-up and related</th>\n",
       "      <td>0.223607</td>\n",
       "      <td>0.000000</td>\n",
       "      <td>0.000000</td>\n",
       "      <td>0.000000</td>\n",
       "      <td>0.408248</td>\n",
       "      <td>0.000000</td>\n",
       "      <td>0.250000</td>\n",
       "      <td>0.000000</td>\n",
       "      <td>0.267261</td>\n",
       "      <td>0.000000</td>\n",
       "      <td>...</td>\n",
       "      <td>0.000000</td>\n",
       "      <td>0.000000</td>\n",
       "      <td>0.000000</td>\n",
       "      <td>0.000000</td>\n",
       "      <td>0.000000</td>\n",
       "      <td>0.000000</td>\n",
       "      <td>0.240772</td>\n",
       "      <td>0.000000</td>\n",
       "      <td>0.000000</td>\n",
       "      <td>0.244339</td>\n",
       "    </tr>\n",
       "    <tr>\n",
       "      <th>group_nutritional supplements</th>\n",
       "      <td>0.000000</td>\n",
       "      <td>0.301511</td>\n",
       "      <td>0.000000</td>\n",
       "      <td>0.438230</td>\n",
       "      <td>0.000000</td>\n",
       "      <td>0.000000</td>\n",
       "      <td>0.000000</td>\n",
       "      <td>0.000000</td>\n",
       "      <td>0.000000</td>\n",
       "      <td>1.000000</td>\n",
       "      <td>...</td>\n",
       "      <td>0.000000</td>\n",
       "      <td>0.000000</td>\n",
       "      <td>0.000000</td>\n",
       "      <td>0.000000</td>\n",
       "      <td>0.000000</td>\n",
       "      <td>0.000000</td>\n",
       "      <td>0.564660</td>\n",
       "      <td>0.000000</td>\n",
       "      <td>0.000000</td>\n",
       "      <td>0.573025</td>\n",
       "    </tr>\n",
       "    <tr>\n",
       "      <th>group_paint/stain and related products</th>\n",
       "      <td>0.000000</td>\n",
       "      <td>0.000000</td>\n",
       "      <td>0.408248</td>\n",
       "      <td>0.091287</td>\n",
       "      <td>0.000000</td>\n",
       "      <td>0.000000</td>\n",
       "      <td>0.577350</td>\n",
       "      <td>0.000000</td>\n",
       "      <td>0.000000</td>\n",
       "      <td>0.000000</td>\n",
       "      <td>...</td>\n",
       "      <td>0.000000</td>\n",
       "      <td>0.000000</td>\n",
       "      <td>0.000000</td>\n",
       "      <td>0.000000</td>\n",
       "      <td>0.000000</td>\n",
       "      <td>0.000000</td>\n",
       "      <td>0.208514</td>\n",
       "      <td>0.000000</td>\n",
       "      <td>0.000000</td>\n",
       "      <td>0.211604</td>\n",
       "    </tr>\n",
       "    <tr>\n",
       "      <th>group_portable air processing</th>\n",
       "      <td>0.000000</td>\n",
       "      <td>0.000000</td>\n",
       "      <td>0.000000</td>\n",
       "      <td>0.158114</td>\n",
       "      <td>0.000000</td>\n",
       "      <td>0.000000</td>\n",
       "      <td>0.000000</td>\n",
       "      <td>0.000000</td>\n",
       "      <td>0.000000</td>\n",
       "      <td>0.000000</td>\n",
       "      <td>...</td>\n",
       "      <td>0.000000</td>\n",
       "      <td>0.000000</td>\n",
       "      <td>0.000000</td>\n",
       "      <td>0.000000</td>\n",
       "      <td>0.000000</td>\n",
       "      <td>0.000000</td>\n",
       "      <td>0.120386</td>\n",
       "      <td>0.000000</td>\n",
       "      <td>0.258199</td>\n",
       "      <td>0.000000</td>\n",
       "    </tr>\n",
       "    <tr>\n",
       "      <th>group_sunscreen</th>\n",
       "      <td>0.149071</td>\n",
       "      <td>0.000000</td>\n",
       "      <td>0.000000</td>\n",
       "      <td>0.000000</td>\n",
       "      <td>0.136083</td>\n",
       "      <td>0.000000</td>\n",
       "      <td>0.166667</td>\n",
       "      <td>0.000000</td>\n",
       "      <td>0.534522</td>\n",
       "      <td>0.000000</td>\n",
       "      <td>...</td>\n",
       "      <td>0.000000</td>\n",
       "      <td>0.000000</td>\n",
       "      <td>0.000000</td>\n",
       "      <td>0.000000</td>\n",
       "      <td>0.000000</td>\n",
       "      <td>0.000000</td>\n",
       "      <td>0.240772</td>\n",
       "      <td>0.277350</td>\n",
       "      <td>0.000000</td>\n",
       "      <td>0.366508</td>\n",
       "    </tr>\n",
       "    <tr>\n",
       "      <th>group_surface sealers</th>\n",
       "      <td>0.000000</td>\n",
       "      <td>0.000000</td>\n",
       "      <td>0.000000</td>\n",
       "      <td>0.000000</td>\n",
       "      <td>0.000000</td>\n",
       "      <td>0.000000</td>\n",
       "      <td>0.000000</td>\n",
       "      <td>0.000000</td>\n",
       "      <td>0.000000</td>\n",
       "      <td>0.000000</td>\n",
       "      <td>...</td>\n",
       "      <td>0.000000</td>\n",
       "      <td>0.000000</td>\n",
       "      <td>0.000000</td>\n",
       "      <td>0.000000</td>\n",
       "      <td>0.000000</td>\n",
       "      <td>0.000000</td>\n",
       "      <td>0.120386</td>\n",
       "      <td>0.000000</td>\n",
       "      <td>0.000000</td>\n",
       "      <td>0.122169</td>\n",
       "    </tr>\n",
       "    <tr>\n",
       "      <th>group_toys</th>\n",
       "      <td>0.000000</td>\n",
       "      <td>0.000000</td>\n",
       "      <td>0.000000</td>\n",
       "      <td>0.158114</td>\n",
       "      <td>0.000000</td>\n",
       "      <td>0.000000</td>\n",
       "      <td>0.000000</td>\n",
       "      <td>0.000000</td>\n",
       "      <td>0.000000</td>\n",
       "      <td>0.000000</td>\n",
       "      <td>...</td>\n",
       "      <td>0.000000</td>\n",
       "      <td>0.000000</td>\n",
       "      <td>0.000000</td>\n",
       "      <td>0.000000</td>\n",
       "      <td>0.000000</td>\n",
       "      <td>0.000000</td>\n",
       "      <td>0.120386</td>\n",
       "      <td>0.000000</td>\n",
       "      <td>0.258199</td>\n",
       "      <td>0.000000</td>\n",
       "    </tr>\n",
       "    <tr>\n",
       "      <th>refined_NOC</th>\n",
       "      <td>0.215353</td>\n",
       "      <td>0.170251</td>\n",
       "      <td>0.085126</td>\n",
       "      <td>0.609110</td>\n",
       "      <td>0.294884</td>\n",
       "      <td>0.170251</td>\n",
       "      <td>0.240772</td>\n",
       "      <td>0.085126</td>\n",
       "      <td>0.321745</td>\n",
       "      <td>0.564660</td>\n",
       "      <td>...</td>\n",
       "      <td>0.564660</td>\n",
       "      <td>0.208514</td>\n",
       "      <td>0.120386</td>\n",
       "      <td>0.240772</td>\n",
       "      <td>0.120386</td>\n",
       "      <td>0.120386</td>\n",
       "      <td>0.000000</td>\n",
       "      <td>0.000000</td>\n",
       "      <td>0.466252</td>\n",
       "      <td>0.794204</td>\n",
       "    </tr>\n",
       "    <tr>\n",
       "      <th>refined_spray</th>\n",
       "      <td>0.124035</td>\n",
       "      <td>0.000000</td>\n",
       "      <td>0.196116</td>\n",
       "      <td>0.350823</td>\n",
       "      <td>0.000000</td>\n",
       "      <td>0.000000</td>\n",
       "      <td>0.000000</td>\n",
       "      <td>0.196116</td>\n",
       "      <td>0.296500</td>\n",
       "      <td>0.000000</td>\n",
       "      <td>...</td>\n",
       "      <td>0.000000</td>\n",
       "      <td>0.000000</td>\n",
       "      <td>0.000000</td>\n",
       "      <td>0.277350</td>\n",
       "      <td>0.000000</td>\n",
       "      <td>0.000000</td>\n",
       "      <td>0.000000</td>\n",
       "      <td>0.000000</td>\n",
       "      <td>0.000000</td>\n",
       "      <td>0.440488</td>\n",
       "    </tr>\n",
       "    <tr>\n",
       "      <th>matrix_A</th>\n",
       "      <td>0.000000</td>\n",
       "      <td>0.000000</td>\n",
       "      <td>0.000000</td>\n",
       "      <td>0.612372</td>\n",
       "      <td>0.000000</td>\n",
       "      <td>0.000000</td>\n",
       "      <td>0.000000</td>\n",
       "      <td>0.182574</td>\n",
       "      <td>0.000000</td>\n",
       "      <td>0.000000</td>\n",
       "      <td>...</td>\n",
       "      <td>0.000000</td>\n",
       "      <td>0.000000</td>\n",
       "      <td>0.258199</td>\n",
       "      <td>0.000000</td>\n",
       "      <td>0.000000</td>\n",
       "      <td>0.258199</td>\n",
       "      <td>0.466252</td>\n",
       "      <td>0.000000</td>\n",
       "      <td>0.000000</td>\n",
       "      <td>0.000000</td>\n",
       "    </tr>\n",
       "    <tr>\n",
       "      <th>matrix_F</th>\n",
       "      <td>0.273179</td>\n",
       "      <td>0.172774</td>\n",
       "      <td>0.172774</td>\n",
       "      <td>0.482917</td>\n",
       "      <td>0.299253</td>\n",
       "      <td>0.172774</td>\n",
       "      <td>0.244339</td>\n",
       "      <td>0.086387</td>\n",
       "      <td>0.457116</td>\n",
       "      <td>0.573025</td>\n",
       "      <td>...</td>\n",
       "      <td>0.573025</td>\n",
       "      <td>0.211604</td>\n",
       "      <td>0.000000</td>\n",
       "      <td>0.366508</td>\n",
       "      <td>0.122169</td>\n",
       "      <td>0.000000</td>\n",
       "      <td>0.794204</td>\n",
       "      <td>0.440488</td>\n",
       "      <td>0.000000</td>\n",
       "      <td>0.000000</td>\n",
       "    </tr>\n",
       "  </tbody>\n",
       "</table>\n",
       "<p>52 rows × 52 columns</p>\n",
       "</div>"
      ],
      "text/plain": [
       "                                          absorbent  antioxidant  \\\n",
       "absorbent                                  0.000000     0.000000   \n",
       "antioxidant                                0.000000     0.000000   \n",
       "antiredeposition_agent                     0.000000     0.000000   \n",
       "biocide                                    0.000000     0.111803   \n",
       "brightener                                 0.000000     0.000000   \n",
       "chemical_reaction_regulator                0.000000     0.000000   \n",
       "colorant                                   0.000000     0.000000   \n",
       "deodorizer                                 0.000000     0.000000   \n",
       "filler                                     0.478091     0.000000   \n",
       "flavouring_nutrient                        0.000000     0.301511   \n",
       "hardener                                   0.000000     0.000000   \n",
       "humectant                                  0.000000     0.000000   \n",
       "lubricating_agent                          0.000000     0.000000   \n",
       "opacifier                                  0.800000     0.000000   \n",
       "uv_stabilizer                              0.000000     0.000000   \n",
       "viscosity_modifier                         0.620174     0.000000   \n",
       "gen_AC                                     0.000000     0.000000   \n",
       "gen_AP                                     0.000000     0.000000   \n",
       "gen_CP                                     0.000000     0.000000   \n",
       "gen_CS                                     0.000000     0.000000   \n",
       "gen_EL                                     0.000000     0.000000   \n",
       "gen_FC                                     0.000000     0.000000   \n",
       "gen_HM                                     0.000000     0.000000   \n",
       "gen_PC                                     0.408248     0.000000   \n",
       "gen_PE                                     0.000000     0.000000   \n",
       "gen_PH                                     0.000000     0.272166   \n",
       "gen_VE                                     0.000000     0.000000   \n",
       "group_apparel                              0.000000     0.000000   \n",
       "group_child specific                       0.000000     0.000000   \n",
       "group_cold relief                          0.000000     0.000000   \n",
       "group_dental care                          0.000000     0.000000   \n",
       "group_deodorant                            0.000000     0.000000   \n",
       "group_engine maintenance                   0.000000     0.000000   \n",
       "group_fabric treatment and dye             0.000000     0.000000   \n",
       "group_facial cleansing and moisturizing    0.507093     0.000000   \n",
       "group_first aid                            0.000000     0.000000   \n",
       "group_food storage                         0.000000     0.000000   \n",
       "group_fungicide                            0.000000     0.000000   \n",
       "group_general household cleaning           0.000000     0.000000   \n",
       "group_general moisturizing                 0.000000     0.000000   \n",
       "group_large appliances                     0.000000     0.000000   \n",
       "group_make-up and related                  0.223607     0.000000   \n",
       "group_nutritional supplements              0.000000     0.301511   \n",
       "group_paint/stain and related products     0.000000     0.000000   \n",
       "group_portable air processing              0.000000     0.000000   \n",
       "group_sunscreen                            0.149071     0.000000   \n",
       "group_surface sealers                      0.000000     0.000000   \n",
       "group_toys                                 0.000000     0.000000   \n",
       "refined_NOC                                0.215353     0.170251   \n",
       "refined_spray                              0.124035     0.000000   \n",
       "matrix_A                                   0.000000     0.000000   \n",
       "matrix_F                                   0.273179     0.172774   \n",
       "\n",
       "                                          antiredeposition_agent   biocide  \\\n",
       "absorbent                                               0.000000  0.000000   \n",
       "antioxidant                                             0.000000  0.111803   \n",
       "antiredeposition_agent                                  0.000000  0.000000   \n",
       "biocide                                                 0.000000  0.000000   \n",
       "brightener                                              0.000000  0.000000   \n",
       "chemical_reaction_regulator                             0.000000  0.000000   \n",
       "colorant                                                0.353553  0.000000   \n",
       "deodorizer                                              0.000000  0.223607   \n",
       "filler                                                  0.188982  0.000000   \n",
       "flavouring_nutrient                                     0.000000  0.438230   \n",
       "hardener                                                0.408248  0.000000   \n",
       "humectant                                               0.000000  0.000000   \n",
       "lubricating_agent                                       0.000000  0.000000   \n",
       "opacifier                                               0.000000  0.000000   \n",
       "uv_stabilizer                                           0.176777  0.000000   \n",
       "viscosity_modifier                                      0.196116  0.000000   \n",
       "gen_AC                                                  0.500000  0.000000   \n",
       "gen_AP                                                  0.000000  0.353553   \n",
       "gen_CP                                                  0.000000  0.158114   \n",
       "gen_CS                                                  0.000000  0.158114   \n",
       "gen_EL                                                  0.000000  0.158114   \n",
       "gen_FC                                                  0.000000  0.223607   \n",
       "gen_HM                                                  0.288675  0.193649   \n",
       "gen_PC                                                  0.000000  0.230940   \n",
       "gen_PE                                                  0.000000  0.158114   \n",
       "gen_PH                                                  0.000000  0.547723   \n",
       "gen_VE                                                  0.000000  0.000000   \n",
       "group_apparel                                           0.000000  0.353553   \n",
       "group_child specific                                    0.000000  0.091287   \n",
       "group_cold relief                                       0.000000  0.353553   \n",
       "group_dental care                                       0.000000  0.316228   \n",
       "group_deodorant                                         0.000000  0.158114   \n",
       "group_engine maintenance                                0.000000  0.000000   \n",
       "group_fabric treatment and dye                          0.500000  0.000000   \n",
       "group_facial cleansing and moisturizing                 0.000000  0.059761   \n",
       "group_first aid                                         0.000000  0.158114   \n",
       "group_food storage                                      0.000000  0.223607   \n",
       "group_fungicide                                         0.000000  0.158114   \n",
       "group_general household cleaning                        0.000000  0.158114   \n",
       "group_general moisturizing                              0.000000  0.000000   \n",
       "group_large appliances                                  0.000000  0.223607   \n",
       "group_make-up and related                               0.000000  0.000000   \n",
       "group_nutritional supplements                           0.000000  0.438230   \n",
       "group_paint/stain and related products                  0.408248  0.091287   \n",
       "group_portable air processing                           0.000000  0.158114   \n",
       "group_sunscreen                                         0.000000  0.000000   \n",
       "group_surface sealers                                   0.000000  0.000000   \n",
       "group_toys                                              0.000000  0.158114   \n",
       "refined_NOC                                             0.085126  0.609110   \n",
       "refined_spray                                           0.196116  0.350823   \n",
       "matrix_A                                                0.000000  0.612372   \n",
       "matrix_F                                                0.172774  0.482917   \n",
       "\n",
       "                                          brightener  \\\n",
       "absorbent                                   0.000000   \n",
       "antioxidant                                 0.000000   \n",
       "antiredeposition_agent                      0.000000   \n",
       "biocide                                     0.000000   \n",
       "brightener                                  0.000000   \n",
       "chemical_reaction_regulator                 0.000000   \n",
       "colorant                                    0.000000   \n",
       "deodorizer                                  0.000000   \n",
       "filler                                      0.000000   \n",
       "flavouring_nutrient                         0.000000   \n",
       "hardener                                    0.000000   \n",
       "humectant                                   0.000000   \n",
       "lubricating_agent                           0.000000   \n",
       "opacifier                                   0.000000   \n",
       "uv_stabilizer                               0.408248   \n",
       "viscosity_modifier                          0.679366   \n",
       "gen_AC                                      0.000000   \n",
       "gen_AP                                      0.000000   \n",
       "gen_CP                                      0.000000   \n",
       "gen_CS                                      0.000000   \n",
       "gen_EL                                      0.000000   \n",
       "gen_FC                                      0.000000   \n",
       "gen_HM                                      0.000000   \n",
       "gen_PC                                      0.447214   \n",
       "gen_PE                                      0.000000   \n",
       "gen_PH                                      0.000000   \n",
       "gen_VE                                      0.000000   \n",
       "group_apparel                               0.000000   \n",
       "group_child specific                        0.000000   \n",
       "group_cold relief                           0.000000   \n",
       "group_dental care                           0.000000   \n",
       "group_deodorant                             0.000000   \n",
       "group_engine maintenance                    0.000000   \n",
       "group_fabric treatment and dye              0.000000   \n",
       "group_facial cleansing and moisturizing     0.462910   \n",
       "group_first aid                             0.000000   \n",
       "group_food storage                          0.000000   \n",
       "group_fungicide                             0.000000   \n",
       "group_general household cleaning            0.000000   \n",
       "group_general moisturizing                  0.000000   \n",
       "group_large appliances                      0.000000   \n",
       "group_make-up and related                   0.408248   \n",
       "group_nutritional supplements               0.000000   \n",
       "group_paint/stain and related products      0.000000   \n",
       "group_portable air processing               0.000000   \n",
       "group_sunscreen                             0.136083   \n",
       "group_surface sealers                       0.000000   \n",
       "group_toys                                  0.000000   \n",
       "refined_NOC                                 0.294884   \n",
       "refined_spray                               0.000000   \n",
       "matrix_A                                    0.000000   \n",
       "matrix_F                                    0.299253   \n",
       "\n",
       "                                          chemical_reaction_regulator  \\\n",
       "absorbent                                                    0.000000   \n",
       "antioxidant                                                  0.000000   \n",
       "antiredeposition_agent                                       0.000000   \n",
       "biocide                                                      0.000000   \n",
       "brightener                                                   0.000000   \n",
       "chemical_reaction_regulator                                  0.000000   \n",
       "colorant                                                     0.000000   \n",
       "deodorizer                                                   0.000000   \n",
       "filler                                                       0.000000   \n",
       "flavouring_nutrient                                          0.000000   \n",
       "hardener                                                     0.000000   \n",
       "humectant                                                    0.000000   \n",
       "lubricating_agent                                            0.316228   \n",
       "opacifier                                                    0.316228   \n",
       "uv_stabilizer                                                0.000000   \n",
       "viscosity_modifier                                           0.000000   \n",
       "gen_AC                                                       0.000000   \n",
       "gen_AP                                                       0.000000   \n",
       "gen_CP                                                       0.000000   \n",
       "gen_CS                                                       0.000000   \n",
       "gen_EL                                                       0.000000   \n",
       "gen_FC                                                       0.000000   \n",
       "gen_HM                                                       0.000000   \n",
       "gen_PC                                                       0.000000   \n",
       "gen_PE                                                       0.000000   \n",
       "gen_PH                                                       0.000000   \n",
       "gen_VE                                                       0.577350   \n",
       "group_apparel                                                0.000000   \n",
       "group_child specific                                         0.000000   \n",
       "group_cold relief                                            0.000000   \n",
       "group_dental care                                            0.000000   \n",
       "group_deodorant                                              0.000000   \n",
       "group_engine maintenance                                     0.577350   \n",
       "group_fabric treatment and dye                               0.000000   \n",
       "group_facial cleansing and moisturizing                      0.000000   \n",
       "group_first aid                                              0.000000   \n",
       "group_food storage                                           0.000000   \n",
       "group_fungicide                                              0.000000   \n",
       "group_general household cleaning                             0.000000   \n",
       "group_general moisturizing                                   0.000000   \n",
       "group_large appliances                                       0.000000   \n",
       "group_make-up and related                                    0.000000   \n",
       "group_nutritional supplements                                0.000000   \n",
       "group_paint/stain and related products                       0.000000   \n",
       "group_portable air processing                                0.000000   \n",
       "group_sunscreen                                              0.000000   \n",
       "group_surface sealers                                        0.000000   \n",
       "group_toys                                                   0.000000   \n",
       "refined_NOC                                                  0.170251   \n",
       "refined_spray                                                0.000000   \n",
       "matrix_A                                                     0.000000   \n",
       "matrix_F                                                     0.172774   \n",
       "\n",
       "                                          colorant  deodorizer    filler  \\\n",
       "absorbent                                 0.000000    0.000000  0.478091   \n",
       "antioxidant                               0.000000    0.000000  0.000000   \n",
       "antiredeposition_agent                    0.353553    0.000000  0.188982   \n",
       "biocide                                   0.000000    0.223607  0.000000   \n",
       "brightener                                0.000000    0.000000  0.000000   \n",
       "chemical_reaction_regulator               0.000000    0.000000  0.000000   \n",
       "colorant                                  0.000000    0.000000  0.133631   \n",
       "deodorizer                                0.000000    0.000000  0.000000   \n",
       "filler                                    0.133631    0.000000  0.000000   \n",
       "flavouring_nutrient                       0.000000    0.000000  0.000000   \n",
       "hardener                                  0.000000    0.000000  0.308607   \n",
       "humectant                                 0.000000    0.000000  0.707107   \n",
       "lubricating_agent                         0.000000    0.000000  0.000000   \n",
       "opacifier                                 0.000000    0.000000  0.478091   \n",
       "uv_stabilizer                             0.375000    0.000000  0.467707   \n",
       "viscosity_modifier                        0.138675    0.000000  0.296500   \n",
       "gen_AC                                    0.000000    0.000000  0.377964   \n",
       "gen_AP                                    0.000000    0.316228  0.000000   \n",
       "gen_CP                                    0.000000    0.000000  0.000000   \n",
       "gen_CS                                    0.000000    0.000000  0.000000   \n",
       "gen_EL                                    0.000000    0.000000  0.000000   \n",
       "gen_FC                                    0.000000    0.000000  0.000000   \n",
       "gen_HM                                    0.408248    0.000000  0.000000   \n",
       "gen_PC                                    0.182574    0.129099  0.585540   \n",
       "gen_PE                                    0.000000    0.000000  0.000000   \n",
       "gen_PH                                    0.000000    0.000000  0.000000   \n",
       "gen_VE                                    0.000000    0.000000  0.000000   \n",
       "group_apparel                             0.000000    0.316228  0.000000   \n",
       "group_child specific                      0.000000    0.000000  0.154303   \n",
       "group_cold relief                         0.000000    0.000000  0.000000   \n",
       "group_dental care                         0.000000    0.000000  0.000000   \n",
       "group_deodorant                           0.000000    0.707107  0.000000   \n",
       "group_engine maintenance                  0.000000    0.000000  0.000000   \n",
       "group_fabric treatment and dye            0.000000    0.000000  0.377964   \n",
       "group_facial cleansing and moisturizing   0.000000    0.000000  0.202031   \n",
       "group_first aid                           0.000000    0.000000  0.000000   \n",
       "group_food storage                        0.000000    0.000000  0.000000   \n",
       "group_fungicide                           0.000000    0.000000  0.000000   \n",
       "group_general household cleaning          0.000000    0.000000  0.000000   \n",
       "group_general moisturizing                0.000000    0.000000  0.267261   \n",
       "group_large appliances                    0.000000    0.000000  0.000000   \n",
       "group_make-up and related                 0.250000    0.000000  0.267261   \n",
       "group_nutritional supplements             0.000000    0.000000  0.000000   \n",
       "group_paint/stain and related products    0.577350    0.000000  0.000000   \n",
       "group_portable air processing             0.000000    0.000000  0.000000   \n",
       "group_sunscreen                           0.166667    0.000000  0.534522   \n",
       "group_surface sealers                     0.000000    0.000000  0.000000   \n",
       "group_toys                                0.000000    0.000000  0.000000   \n",
       "refined_NOC                               0.240772    0.085126  0.321745   \n",
       "refined_spray                             0.000000    0.196116  0.296500   \n",
       "matrix_A                                  0.000000    0.182574  0.000000   \n",
       "matrix_F                                  0.244339    0.086387  0.457116   \n",
       "\n",
       "                                          flavouring_nutrient    ...     \\\n",
       "absorbent                                            0.000000    ...      \n",
       "antioxidant                                          0.301511    ...      \n",
       "antiredeposition_agent                               0.000000    ...      \n",
       "biocide                                              0.438230    ...      \n",
       "brightener                                           0.000000    ...      \n",
       "chemical_reaction_regulator                          0.000000    ...      \n",
       "colorant                                             0.000000    ...      \n",
       "deodorizer                                           0.000000    ...      \n",
       "filler                                               0.000000    ...      \n",
       "flavouring_nutrient                                  0.000000    ...      \n",
       "hardener                                             0.000000    ...      \n",
       "humectant                                            0.000000    ...      \n",
       "lubricating_agent                                    0.000000    ...      \n",
       "opacifier                                            0.000000    ...      \n",
       "uv_stabilizer                                        0.000000    ...      \n",
       "viscosity_modifier                                   0.000000    ...      \n",
       "gen_AC                                               0.000000    ...      \n",
       "gen_AP                                               0.000000    ...      \n",
       "gen_CP                                               0.000000    ...      \n",
       "gen_CS                                               0.000000    ...      \n",
       "gen_EL                                               0.000000    ...      \n",
       "gen_FC                                               0.000000    ...      \n",
       "gen_HM                                               0.000000    ...      \n",
       "gen_PC                                               0.000000    ...      \n",
       "gen_PE                                               0.000000    ...      \n",
       "gen_PH                                               0.902671    ...      \n",
       "gen_VE                                               0.000000    ...      \n",
       "group_apparel                                        0.000000    ...      \n",
       "group_child specific                                 0.000000    ...      \n",
       "group_cold relief                                    0.000000    ...      \n",
       "group_dental care                                    0.000000    ...      \n",
       "group_deodorant                                      0.000000    ...      \n",
       "group_engine maintenance                             0.000000    ...      \n",
       "group_fabric treatment and dye                       0.000000    ...      \n",
       "group_facial cleansing and moisturizing              0.000000    ...      \n",
       "group_first aid                                      0.000000    ...      \n",
       "group_food storage                                   0.000000    ...      \n",
       "group_fungicide                                      0.000000    ...      \n",
       "group_general household cleaning                     0.000000    ...      \n",
       "group_general moisturizing                           0.000000    ...      \n",
       "group_large appliances                               0.000000    ...      \n",
       "group_make-up and related                            0.000000    ...      \n",
       "group_nutritional supplements                        1.000000    ...      \n",
       "group_paint/stain and related products               0.000000    ...      \n",
       "group_portable air processing                        0.000000    ...      \n",
       "group_sunscreen                                      0.000000    ...      \n",
       "group_surface sealers                                0.000000    ...      \n",
       "group_toys                                           0.000000    ...      \n",
       "refined_NOC                                          0.564660    ...      \n",
       "refined_spray                                        0.000000    ...      \n",
       "matrix_A                                             0.000000    ...      \n",
       "matrix_F                                             0.573025    ...      \n",
       "\n",
       "                                          group_nutritional supplements   \\\n",
       "absorbent                                                       0.000000   \n",
       "antioxidant                                                     0.301511   \n",
       "antiredeposition_agent                                          0.000000   \n",
       "biocide                                                         0.438230   \n",
       "brightener                                                      0.000000   \n",
       "chemical_reaction_regulator                                     0.000000   \n",
       "colorant                                                        0.000000   \n",
       "deodorizer                                                      0.000000   \n",
       "filler                                                          0.000000   \n",
       "flavouring_nutrient                                             1.000000   \n",
       "hardener                                                        0.000000   \n",
       "humectant                                                       0.000000   \n",
       "lubricating_agent                                               0.000000   \n",
       "opacifier                                                       0.000000   \n",
       "uv_stabilizer                                                   0.000000   \n",
       "viscosity_modifier                                              0.000000   \n",
       "gen_AC                                                          0.000000   \n",
       "gen_AP                                                          0.000000   \n",
       "gen_CP                                                          0.000000   \n",
       "gen_CS                                                          0.000000   \n",
       "gen_EL                                                          0.000000   \n",
       "gen_FC                                                          0.000000   \n",
       "gen_HM                                                          0.000000   \n",
       "gen_PC                                                          0.000000   \n",
       "gen_PE                                                          0.000000   \n",
       "gen_PH                                                          0.902671   \n",
       "gen_VE                                                          0.000000   \n",
       "group_apparel                                                   0.000000   \n",
       "group_child specific                                            0.000000   \n",
       "group_cold relief                                               0.000000   \n",
       "group_dental care                                               0.000000   \n",
       "group_deodorant                                                 0.000000   \n",
       "group_engine maintenance                                        0.000000   \n",
       "group_fabric treatment and dye                                  0.000000   \n",
       "group_facial cleansing and moisturizing                         0.000000   \n",
       "group_first aid                                                 0.000000   \n",
       "group_food storage                                              0.000000   \n",
       "group_fungicide                                                 0.000000   \n",
       "group_general household cleaning                                0.000000   \n",
       "group_general moisturizing                                      0.000000   \n",
       "group_large appliances                                          0.000000   \n",
       "group_make-up and related                                       0.000000   \n",
       "group_nutritional supplements                                   0.000000   \n",
       "group_paint/stain and related products                          0.000000   \n",
       "group_portable air processing                                   0.000000   \n",
       "group_sunscreen                                                 0.000000   \n",
       "group_surface sealers                                           0.000000   \n",
       "group_toys                                                      0.000000   \n",
       "refined_NOC                                                     0.564660   \n",
       "refined_spray                                                   0.000000   \n",
       "matrix_A                                                        0.000000   \n",
       "matrix_F                                                        0.573025   \n",
       "\n",
       "                                          group_paint/stain and related products   \\\n",
       "absorbent                                                                0.000000   \n",
       "antioxidant                                                              0.000000   \n",
       "antiredeposition_agent                                                   0.408248   \n",
       "biocide                                                                  0.091287   \n",
       "brightener                                                               0.000000   \n",
       "chemical_reaction_regulator                                              0.000000   \n",
       "colorant                                                                 0.577350   \n",
       "deodorizer                                                               0.000000   \n",
       "filler                                                                   0.000000   \n",
       "flavouring_nutrient                                                      0.000000   \n",
       "hardener                                                                 0.000000   \n",
       "humectant                                                                0.000000   \n",
       "lubricating_agent                                                        0.000000   \n",
       "opacifier                                                                0.000000   \n",
       "uv_stabilizer                                                            0.288675   \n",
       "viscosity_modifier                                                       0.160128   \n",
       "gen_AC                                                                   0.000000   \n",
       "gen_AP                                                                   0.000000   \n",
       "gen_CP                                                                   0.000000   \n",
       "gen_CS                                                                   0.000000   \n",
       "gen_EL                                                                   0.000000   \n",
       "gen_FC                                                                   0.000000   \n",
       "gen_HM                                                                   0.707107   \n",
       "gen_PC                                                                   0.000000   \n",
       "gen_PE                                                                   0.000000   \n",
       "gen_PH                                                                   0.000000   \n",
       "gen_VE                                                                   0.000000   \n",
       "group_apparel                                                            0.000000   \n",
       "group_child specific                                                     0.000000   \n",
       "group_cold relief                                                        0.000000   \n",
       "group_dental care                                                        0.000000   \n",
       "group_deodorant                                                          0.000000   \n",
       "group_engine maintenance                                                 0.000000   \n",
       "group_fabric treatment and dye                                           0.000000   \n",
       "group_facial cleansing and moisturizing                                  0.000000   \n",
       "group_first aid                                                          0.000000   \n",
       "group_food storage                                                       0.000000   \n",
       "group_fungicide                                                          0.000000   \n",
       "group_general household cleaning                                         0.000000   \n",
       "group_general moisturizing                                               0.000000   \n",
       "group_large appliances                                                   0.000000   \n",
       "group_make-up and related                                                0.000000   \n",
       "group_nutritional supplements                                            0.000000   \n",
       "group_paint/stain and related products                                   0.000000   \n",
       "group_portable air processing                                            0.000000   \n",
       "group_sunscreen                                                          0.000000   \n",
       "group_surface sealers                                                    0.000000   \n",
       "group_toys                                                               0.000000   \n",
       "refined_NOC                                                              0.208514   \n",
       "refined_spray                                                            0.000000   \n",
       "matrix_A                                                                 0.000000   \n",
       "matrix_F                                                                 0.211604   \n",
       "\n",
       "                                          group_portable air processing   \\\n",
       "absorbent                                                       0.000000   \n",
       "antioxidant                                                     0.000000   \n",
       "antiredeposition_agent                                          0.000000   \n",
       "biocide                                                         0.158114   \n",
       "brightener                                                      0.000000   \n",
       "chemical_reaction_regulator                                     0.000000   \n",
       "colorant                                                        0.000000   \n",
       "deodorizer                                                      0.000000   \n",
       "filler                                                          0.000000   \n",
       "flavouring_nutrient                                             0.000000   \n",
       "hardener                                                        0.000000   \n",
       "humectant                                                       0.000000   \n",
       "lubricating_agent                                               0.000000   \n",
       "opacifier                                                       0.000000   \n",
       "uv_stabilizer                                                   0.000000   \n",
       "viscosity_modifier                                              0.000000   \n",
       "gen_AC                                                          0.000000   \n",
       "gen_AP                                                          0.000000   \n",
       "gen_CP                                                          0.000000   \n",
       "gen_CS                                                          0.000000   \n",
       "gen_EL                                                          1.000000   \n",
       "gen_FC                                                          0.000000   \n",
       "gen_HM                                                          0.000000   \n",
       "gen_PC                                                          0.000000   \n",
       "gen_PE                                                          0.000000   \n",
       "gen_PH                                                          0.000000   \n",
       "gen_VE                                                          0.000000   \n",
       "group_apparel                                                   0.000000   \n",
       "group_child specific                                            0.000000   \n",
       "group_cold relief                                               0.000000   \n",
       "group_dental care                                               0.000000   \n",
       "group_deodorant                                                 0.000000   \n",
       "group_engine maintenance                                        0.000000   \n",
       "group_fabric treatment and dye                                  0.000000   \n",
       "group_facial cleansing and moisturizing                         0.000000   \n",
       "group_first aid                                                 0.000000   \n",
       "group_food storage                                              0.000000   \n",
       "group_fungicide                                                 0.000000   \n",
       "group_general household cleaning                                0.000000   \n",
       "group_general moisturizing                                      0.000000   \n",
       "group_large appliances                                          0.000000   \n",
       "group_make-up and related                                       0.000000   \n",
       "group_nutritional supplements                                   0.000000   \n",
       "group_paint/stain and related products                          0.000000   \n",
       "group_portable air processing                                   0.000000   \n",
       "group_sunscreen                                                 0.000000   \n",
       "group_surface sealers                                           0.000000   \n",
       "group_toys                                                      0.000000   \n",
       "refined_NOC                                                     0.120386   \n",
       "refined_spray                                                   0.000000   \n",
       "matrix_A                                                        0.258199   \n",
       "matrix_F                                                        0.000000   \n",
       "\n",
       "                                          group_sunscreen   \\\n",
       "absorbent                                         0.149071   \n",
       "antioxidant                                       0.000000   \n",
       "antiredeposition_agent                            0.000000   \n",
       "biocide                                           0.000000   \n",
       "brightener                                        0.136083   \n",
       "chemical_reaction_regulator                       0.000000   \n",
       "colorant                                          0.166667   \n",
       "deodorizer                                        0.000000   \n",
       "filler                                            0.534522   \n",
       "flavouring_nutrient                               0.000000   \n",
       "hardener                                          0.000000   \n",
       "humectant                                         0.629941   \n",
       "lubricating_agent                                 0.000000   \n",
       "opacifier                                         0.149071   \n",
       "uv_stabilizer                                     0.666667   \n",
       "viscosity_modifier                                0.184900   \n",
       "gen_AC                                            0.000000   \n",
       "gen_AP                                            0.000000   \n",
       "gen_CP                                            0.000000   \n",
       "gen_CS                                            0.000000   \n",
       "gen_EL                                            0.000000   \n",
       "gen_FC                                            0.000000   \n",
       "gen_HM                                            0.000000   \n",
       "gen_PC                                            0.547723   \n",
       "gen_PE                                            0.000000   \n",
       "gen_PH                                            0.000000   \n",
       "gen_VE                                            0.000000   \n",
       "group_apparel                                     0.000000   \n",
       "group_child specific                              0.000000   \n",
       "group_cold relief                                 0.000000   \n",
       "group_dental care                                 0.000000   \n",
       "group_deodorant                                   0.000000   \n",
       "group_engine maintenance                          0.000000   \n",
       "group_fabric treatment and dye                    0.000000   \n",
       "group_facial cleansing and moisturizing           0.000000   \n",
       "group_first aid                                   0.000000   \n",
       "group_food storage                                0.000000   \n",
       "group_fungicide                                   0.000000   \n",
       "group_general household cleaning                  0.000000   \n",
       "group_general moisturizing                        0.000000   \n",
       "group_large appliances                            0.000000   \n",
       "group_make-up and related                         0.000000   \n",
       "group_nutritional supplements                     0.000000   \n",
       "group_paint/stain and related products            0.000000   \n",
       "group_portable air processing                     0.000000   \n",
       "group_sunscreen                                   0.000000   \n",
       "group_surface sealers                             0.000000   \n",
       "group_toys                                        0.000000   \n",
       "refined_NOC                                       0.240772   \n",
       "refined_spray                                     0.277350   \n",
       "matrix_A                                          0.000000   \n",
       "matrix_F                                          0.366508   \n",
       "\n",
       "                                          group_surface sealers   group_toys   \\\n",
       "absorbent                                               0.000000     0.000000   \n",
       "antioxidant                                             0.000000     0.000000   \n",
       "antiredeposition_agent                                  0.000000     0.000000   \n",
       "biocide                                                 0.000000     0.158114   \n",
       "brightener                                              0.000000     0.000000   \n",
       "chemical_reaction_regulator                             0.000000     0.000000   \n",
       "colorant                                                0.000000     0.000000   \n",
       "deodorizer                                              0.000000     0.000000   \n",
       "filler                                                  0.000000     0.000000   \n",
       "flavouring_nutrient                                     0.000000     0.000000   \n",
       "hardener                                                0.577350     0.000000   \n",
       "humectant                                               0.000000     0.000000   \n",
       "lubricating_agent                                       0.000000     0.000000   \n",
       "opacifier                                               0.000000     0.000000   \n",
       "uv_stabilizer                                           0.250000     0.000000   \n",
       "viscosity_modifier                                      0.000000     0.000000   \n",
       "gen_AC                                                  0.000000     0.000000   \n",
       "gen_AP                                                  0.000000     0.000000   \n",
       "gen_CP                                                  0.000000     0.000000   \n",
       "gen_CS                                                  0.000000     1.000000   \n",
       "gen_EL                                                  0.000000     0.000000   \n",
       "gen_FC                                                  0.000000     0.000000   \n",
       "gen_HM                                                  0.408248     0.000000   \n",
       "gen_PC                                                  0.000000     0.000000   \n",
       "gen_PE                                                  0.000000     0.000000   \n",
       "gen_PH                                                  0.000000     0.000000   \n",
       "gen_VE                                                  0.000000     0.000000   \n",
       "group_apparel                                           0.000000     0.000000   \n",
       "group_child specific                                    0.000000     0.000000   \n",
       "group_cold relief                                       0.000000     0.000000   \n",
       "group_dental care                                       0.000000     0.000000   \n",
       "group_deodorant                                         0.000000     0.000000   \n",
       "group_engine maintenance                                0.000000     0.000000   \n",
       "group_fabric treatment and dye                          0.000000     0.000000   \n",
       "group_facial cleansing and moisturizing                 0.000000     0.000000   \n",
       "group_first aid                                         0.000000     0.000000   \n",
       "group_food storage                                      0.000000     0.000000   \n",
       "group_fungicide                                         0.000000     0.000000   \n",
       "group_general household cleaning                        0.000000     0.000000   \n",
       "group_general moisturizing                              0.000000     0.000000   \n",
       "group_large appliances                                  0.000000     0.000000   \n",
       "group_make-up and related                               0.000000     0.000000   \n",
       "group_nutritional supplements                           0.000000     0.000000   \n",
       "group_paint/stain and related products                  0.000000     0.000000   \n",
       "group_portable air processing                           0.000000     0.000000   \n",
       "group_sunscreen                                         0.000000     0.000000   \n",
       "group_surface sealers                                   0.000000     0.000000   \n",
       "group_toys                                              0.000000     0.000000   \n",
       "refined_NOC                                             0.120386     0.120386   \n",
       "refined_spray                                           0.000000     0.000000   \n",
       "matrix_A                                                0.000000     0.258199   \n",
       "matrix_F                                                0.122169     0.000000   \n",
       "\n",
       "                                          refined_NOC  refined_spray  \\\n",
       "absorbent                                    0.215353       0.124035   \n",
       "antioxidant                                  0.170251       0.000000   \n",
       "antiredeposition_agent                       0.085126       0.196116   \n",
       "biocide                                      0.609110       0.350823   \n",
       "brightener                                   0.294884       0.000000   \n",
       "chemical_reaction_regulator                  0.170251       0.000000   \n",
       "colorant                                     0.240772       0.000000   \n",
       "deodorizer                                   0.085126       0.196116   \n",
       "filler                                       0.321745       0.296500   \n",
       "flavouring_nutrient                          0.564660       0.000000   \n",
       "hardener                                     0.069505       0.320256   \n",
       "humectant                                    0.273009       0.104828   \n",
       "lubricating_agent                            0.269191       0.000000   \n",
       "opacifier                                    0.215353       0.124035   \n",
       "uv_stabilizer                                0.391254       0.208013   \n",
       "viscosity_modifier                           0.400668       0.076923   \n",
       "gen_AC                                       0.000000       0.392232   \n",
       "gen_AP                                       0.269191       0.000000   \n",
       "gen_CP                                       0.000000       0.277350   \n",
       "gen_CS                                       0.120386       0.000000   \n",
       "gen_EL                                       0.120386       0.000000   \n",
       "gen_FC                                       0.170251       0.000000   \n",
       "gen_HM                                       0.294884       0.000000   \n",
       "gen_PC                                       0.571463       0.202548   \n",
       "gen_PE                                       0.000000       0.277350   \n",
       "gen_PH                                       0.509702       0.266880   \n",
       "gen_VE                                       0.294884       0.000000   \n",
       "group_apparel                                0.269191       0.000000   \n",
       "group_child specific                         0.208514       0.000000   \n",
       "group_cold relief                            0.000000       0.620174   \n",
       "group_dental care                            0.240772       0.000000   \n",
       "group_deodorant                              0.000000       0.277350   \n",
       "group_engine maintenance                     0.294884       0.000000   \n",
       "group_fabric treatment and dye               0.000000       0.392232   \n",
       "group_facial cleansing and moisturizing      0.318511       0.000000   \n",
       "group_first aid                              0.120386       0.000000   \n",
       "group_food storage                           0.170251       0.000000   \n",
       "group_fungicide                              0.000000       0.277350   \n",
       "group_general household cleaning             0.000000       0.277350   \n",
       "group_general moisturizing                   0.120386       0.000000   \n",
       "group_large appliances                       0.170251       0.000000   \n",
       "group_make-up and related                    0.240772       0.000000   \n",
       "group_nutritional supplements                0.564660       0.000000   \n",
       "group_paint/stain and related products       0.208514       0.000000   \n",
       "group_portable air processing                0.120386       0.000000   \n",
       "group_sunscreen                              0.240772       0.277350   \n",
       "group_surface sealers                        0.120386       0.000000   \n",
       "group_toys                                   0.120386       0.000000   \n",
       "refined_NOC                                  0.000000       0.000000   \n",
       "refined_spray                                0.000000       0.000000   \n",
       "matrix_A                                     0.466252       0.000000   \n",
       "matrix_F                                     0.794204       0.440488   \n",
       "\n",
       "                                          matrix_A  matrix_F  \n",
       "absorbent                                 0.000000  0.273179  \n",
       "antioxidant                               0.000000  0.172774  \n",
       "antiredeposition_agent                    0.000000  0.172774  \n",
       "biocide                                   0.612372  0.482917  \n",
       "brightener                                0.000000  0.299253  \n",
       "chemical_reaction_regulator               0.000000  0.172774  \n",
       "colorant                                  0.000000  0.244339  \n",
       "deodorizer                                0.182574  0.086387  \n",
       "filler                                    0.000000  0.457116  \n",
       "flavouring_nutrient                       0.000000  0.573025  \n",
       "hardener                                  0.000000  0.211604  \n",
       "humectant                                 0.000000  0.323230  \n",
       "lubricating_agent                         0.000000  0.273179  \n",
       "opacifier                                 0.000000  0.273179  \n",
       "uv_stabilizer                             0.000000  0.488678  \n",
       "viscosity_modifier                        0.000000  0.440488  \n",
       "gen_AC                                    0.000000  0.172774  \n",
       "gen_AP                                    0.577350  0.000000  \n",
       "gen_CP                                    0.000000  0.122169  \n",
       "gen_CS                                    0.258199  0.000000  \n",
       "gen_EL                                    0.258199  0.000000  \n",
       "gen_FC                                    0.365148  0.000000  \n",
       "gen_HM                                    0.210819  0.199502  \n",
       "gen_PC                                    0.188562  0.579930  \n",
       "gen_PE                                    0.000000  0.122169  \n",
       "gen_PH                                    0.000000  0.634811  \n",
       "gen_VE                                    0.000000  0.299253  \n",
       "group_apparel                             0.577350  0.000000  \n",
       "group_child specific                      0.000000  0.211604  \n",
       "group_cold relief                         0.000000  0.273179  \n",
       "group_dental care                         0.387298  0.061085  \n",
       "group_deodorant                           0.000000  0.122169  \n",
       "group_engine maintenance                  0.000000  0.299253  \n",
       "group_fabric treatment and dye            0.000000  0.172774  \n",
       "group_facial cleansing and moisturizing   0.000000  0.323230  \n",
       "group_first aid                           0.258199  0.000000  \n",
       "group_food storage                        0.365148  0.000000  \n",
       "group_fungicide                           0.000000  0.122169  \n",
       "group_general household cleaning          0.000000  0.122169  \n",
       "group_general moisturizing                0.000000  0.122169  \n",
       "group_large appliances                    0.365148  0.000000  \n",
       "group_make-up and related                 0.000000  0.244339  \n",
       "group_nutritional supplements             0.000000  0.573025  \n",
       "group_paint/stain and related products    0.000000  0.211604  \n",
       "group_portable air processing             0.258199  0.000000  \n",
       "group_sunscreen                           0.000000  0.366508  \n",
       "group_surface sealers                     0.000000  0.122169  \n",
       "group_toys                                0.258199  0.000000  \n",
       "refined_NOC                               0.466252  0.794204  \n",
       "refined_spray                             0.000000  0.440488  \n",
       "matrix_A                                  0.000000  0.000000  \n",
       "matrix_F                                  0.000000  0.000000  \n",
       "\n",
       "[52 rows x 52 columns]"
      ]
     },
     "execution_count": 40,
     "metadata": {},
     "output_type": "execute_result"
    }
   ],
   "source": [
    "distance_enm"
   ]
  },
  {
   "cell_type": "code",
   "execution_count": 41,
   "metadata": {
    "ExecuteTime": {
     "end_time": "2018-10-22T17:30:38.570374Z",
     "start_time": "2018-10-22T17:30:38.323263Z"
    }
   },
   "outputs": [
    {
     "data": {
      "image/png": "[encoded data removed]",
      "text/plain": [
       "<Figure size 432x288 with 2 Axes>"
      ]
     },
     "metadata": {},
     "output_type": "display_data"
    }
   ],
   "source": [
    "# ENM Functions and Product Category Features\n",
    "from textwrap import wrap\n",
    "fig=plt.imshow(distance_enm)\n",
    "#plt.title('Distance Matrix (Cosine) of Function and Product Category Features')\n",
    "plt.title(\"\\n\".join(wrap(\"Distance Matrix (Cosine) of ENM Function and Product Category Features\", 60)))\n",
    "plt.colorbar()\n",
    "plt.savefig('./BLTfigs/enm_distmatrix_function-PUC_cosine.png')"
   ]
  },
  {
   "cell_type": "markdown",
   "metadata": {},
   "source": [
    "Optimize the number of clusters using the elbow method, which estimates the clustering step where the acceleration of distance growth is largest."
   ]
  },
  {
   "cell_type": "code",
   "execution_count": 42,
   "metadata": {
    "ExecuteTime": {
     "end_time": "2018-10-22T17:30:39.905863Z",
     "start_time": "2018-10-22T17:30:39.895234Z"
    }
   },
   "outputs": [
    {
     "data": {
      "text/plain": [
       "array([[ 0.        , 13.        ,  0.2       ,  2.        ],\n",
       "       [ 8.        , 11.        ,  0.29289322,  2.        ],\n",
       "       [ 4.        , 15.        ,  0.32063378,  2.        ],\n",
       "       [14.        , 17.        ,  0.48267306,  3.        ],\n",
       "       [ 3.        ,  9.        ,  0.56177009,  2.        ]])"
      ]
     },
     "execution_count": 42,
     "metadata": {},
     "output_type": "execute_result"
    }
   ],
   "source": [
    "# Generate linkage matrix\n",
    "# ENM Functions only\n",
    "from scipy.spatial.distance import squareform, pdist, cosine\n",
    "from scipy.cluster.hierarchy import dendrogram, linkage\n",
    "Z = linkage((Xf_enm.T), method='average', metric='cosine')\n",
    "\n",
    "# Z-array with format [idx1, idx2, dist, sample_count]\n",
    "Z[:5]"
   ]
  },
  {
   "cell_type": "code",
   "execution_count": 43,
   "metadata": {
    "ExecuteTime": {
     "end_time": "2018-10-22T17:30:41.288473Z",
     "start_time": "2018-10-22T17:30:40.788665Z"
    }
   },
   "outputs": [
    {
     "data": {
      "image/png": "[encoded data removed]",
      "text/plain": [
       "<Figure size 2160x1080 with 1 Axes>"
      ]
     },
     "metadata": {},
     "output_type": "display_data"
    }
   ],
   "source": [
    "# Calculate full dendrogram\n",
    "# ENM Functions only\n",
    "\n",
    "fig=plt.figure(figsize=(30, 15))\n",
    "plt.title('Hierarchical Clustering Dendrogram')\n",
    "plt.xlabel('Feature Index')\n",
    "plt.ylabel('Distance')\n",
    "dendrogram(\n",
    "    Z,\n",
    "    leaf_rotation=90.,  # rotates the x axis labels\n",
    "    leaf_font_size=12.,  # font size for the x axis labels\n",
    "    labels=enm_func_names\n",
    ")\n",
    "plt.axhline(y=0.4, color='gray', linestyle='--')\n",
    "plt.show()\n",
    "savepdf(fig,'enm_cluster_dendrogram_func-only')"
   ]
  },
  {
   "cell_type": "code",
   "execution_count": 44,
   "metadata": {
    "ExecuteTime": {
     "end_time": "2018-10-22T17:30:42.698279Z",
     "start_time": "2018-10-22T17:30:42.481155Z"
    }
   },
   "outputs": [
    {
     "data": {
      "image/png": "[encoded data removed]",
      "text/plain": [
       "<Figure size 432x288 with 1 Axes>"
      ]
     },
     "metadata": {},
     "output_type": "display_data"
    },
    {
     "name": "stdout",
     "output_type": "stream",
     "text": [
      "clusters: 13\n"
     ]
    }
   ],
   "source": [
    "# Optimize n_clusters with Elbow Method\n",
    "# ENM functions only\n",
    "\n",
    "last = Z[-16:, 2]\n",
    "last_rev = last[::-1]\n",
    "idxs = np.arange(1, len(last) + 1)\n",
    "acceleration = np.diff(last, 2)  # 2nd derivative of the distances\n",
    "acceleration_rev = acceleration[::-1]\n",
    "\n",
    "plt.plot(idxs, last_rev, label='distance')\n",
    "plt.axhline(y=0.016, color='gray', linestyle='--')\n",
    "plt.plot(idxs[:-2] + 1, acceleration_rev, label='acceleration')\n",
    "plt.title('Elbow Method to determine n_clusters of functions')\n",
    "plt.legend(bbox_to_anchor=(1.05, 1), loc=1, borderaxespad=0.)\n",
    "#plt.xlim([10,62])\n",
    "#plt.ylim([-.05,.1])\n",
    "plt.savefig('./BLTfigs/enm_elbow_func-only.png')\n",
    "plt.show()\n",
    "\n",
    "k = acceleration_rev.argmax() + 2  # if idx 0 is the max of this we want 2 clusters\n",
    "print(\"clusters:\", k)\n",
    "\n",
    "# look for spikes in orange\n",
    "# 13,10,8"
   ]
  },
  {
   "cell_type": "markdown",
   "metadata": {},
   "source": [
    "Now to repeat with ENM product categories."
   ]
  },
  {
   "cell_type": "code",
   "execution_count": 45,
   "metadata": {
    "ExecuteTime": {
     "end_time": "2018-10-22T17:30:43.928021Z",
     "start_time": "2018-10-22T17:30:43.921092Z"
    },
    "collapsed": true
   },
   "outputs": [],
   "source": [
    "# Generate linkage matrix\n",
    "# ENM PUCs only\n",
    "Z = linkage((Xp_enm.T), method='average', metric='cosine')\n",
    "# Z-array with format [idx1, idx2, dist, sample_count]\n",
    "np.savetxt(\"./BLTfigs/Z_puc.csv\", Z, delimiter=\",\")"
   ]
  },
  {
   "cell_type": "code",
   "execution_count": 46,
   "metadata": {
    "ExecuteTime": {
     "end_time": "2018-10-22T17:30:45.439729Z",
     "start_time": "2018-10-22T17:30:44.609399Z"
    }
   },
   "outputs": [
    {
     "data": {
      "image/png": "[encoded data removed]",
      "text/plain": [
       "<Figure size 2880x1800 with 1 Axes>"
      ]
     },
     "metadata": {},
     "output_type": "display_data"
    }
   ],
   "source": [
    "# Calculate full dendrogram\n",
    "# ENM PUCs only\n",
    "\n",
    "fig=plt.figure(figsize=(40, 25))\n",
    "plt.title('Hierarchical Clustering Dendrogram')\n",
    "plt.xlabel('Feature Index')\n",
    "plt.ylabel('Distance')\n",
    "dendrogram(\n",
    "    Z,\n",
    "    leaf_rotation=90.,  # rotates the x axis labels\n",
    "    leaf_font_size=12.,  # font size for the x axis labels\n",
    "    labels=enm_PUC_names\n",
    ")\n",
    "plt.axhline(y=0.58, color='gray', linestyle='--')\n",
    "plt.show()\n",
    "savepdf(fig,'enm_cluster_dendrogram_PUC-nomatrix')"
   ]
  },
  {
   "cell_type": "code",
   "execution_count": 47,
   "metadata": {
    "ExecuteTime": {
     "end_time": "2018-10-22T17:30:45.649110Z",
     "start_time": "2018-10-22T17:30:45.442342Z"
    }
   },
   "outputs": [
    {
     "data": {
      "image/png": "[encoded data removed]",
      "text/plain": [
       "<Figure size 432x288 with 1 Axes>"
      ]
     },
     "metadata": {},
     "output_type": "display_data"
    },
    {
     "name": "stdout",
     "output_type": "stream",
     "text": [
      "clusters: 21\n"
     ]
    }
   ],
   "source": [
    "# Optimize n_clusters with Elbow Method\n",
    "# Organic functions only\n",
    "\n",
    "last = Z[-30:, 2]\n",
    "last_rev = last[::-1]\n",
    "idxs = np.arange(1, len(last) + 1)\n",
    "acceleration = np.diff(last, 2)  # 2nd derivative of the distances\n",
    "acceleration_rev = acceleration[::-1]\n",
    "\n",
    "plt.plot(idxs, last_rev, label='distance')\n",
    "plt.axhline(y=0.016, color='gray', linestyle='--')\n",
    "plt.plot(idxs[:-2] + 1, acceleration_rev, label='acceleration')\n",
    "plt.title('Elbow Method to determine n_clusters of functions')\n",
    "plt.legend(bbox_to_anchor=(1.05, 1), loc=1, borderaxespad=0.)\n",
    "plt.xlim([5,30])\n",
    "#plt.ylim([-.05,.1])\n",
    "plt.savefig('./BLTfigs/enm_elbow_PUC-nomatrix.png')\n",
    "plt.show()\n",
    "\n",
    "k = acceleration_rev.argmax() + 2  # if idx 0 is the max of this we want 2 clusters\n",
    "print(\"clusters:\", k)\n",
    "\n",
    "# look for spikes in orange"
   ]
  },
  {
   "cell_type": "markdown",
   "metadata": {},
   "source": [
    "Clusters to try: 11, 18, 21, 23"
   ]
  },
  {
   "cell_type": "markdown",
   "metadata": {},
   "source": [
    "### Helper class for selecting best ENM estimator"
   ]
  },
  {
   "cell_type": "markdown",
   "metadata": {},
   "source": [
    "Estimator Selection Helper by David Batista\n",
    "http://www.davidsbatista.net/blog/2018/02/23/model_optimization/"
   ]
  },
  {
   "cell_type": "code",
   "execution_count": 48,
   "metadata": {
    "ExecuteTime": {
     "end_time": "2018-10-22T17:30:53.533572Z",
     "start_time": "2018-10-22T17:30:53.411387Z"
    },
    "collapsed": true
   },
   "outputs": [],
   "source": [
    "# Set up for grid search across multiple pipelines\n",
    "from sklearn.model_selection import GridSearchCV\n",
    "\n",
    "cv=10\n",
    "class EstimatorSelectionHelper:\n",
    "\n",
    "    def __init__(self, models, params):\n",
    "        if not set(models.keys()).issubset(set(params.keys())):\n",
    "            missing_params = list(set(models.keys()) - set(params.keys()))\n",
    "            raise ValueError(\"Some estimators are missing parameters: %s\" % missing_params)\n",
    "        self.models = models\n",
    "        self.params = params\n",
    "        self.keys = models.keys()\n",
    "        self.grid_searches = {}\n",
    "\n",
    "    def fit(self, X, y, cv=cv, n_jobs=1, verbose=1, scoring='accuracy', refit=False): # scoring=None\n",
    "        for key in self.keys:\n",
    "            print(\"Running GridSearchCV for %s.\" % key)\n",
    "            model = self.models[key]\n",
    "            params = self.params[key]\n",
    "            gs = GridSearchCV(model, params, cv=cv, n_jobs=n_jobs,\n",
    "                              verbose=verbose, scoring=scoring, refit=refit,\n",
    "                              return_train_score=True)\n",
    "            gs.fit(X,y)\n",
    "            self.grid_searches[key] = gs    \n",
    "\n",
    "    def score_summary(self, sort_by='mean_score'):\n",
    "        def row(key, scores, params):\n",
    "            d = {\n",
    "                 'estimator': key,\n",
    "                 'min_score': min(scores),\n",
    "                 'max_score': max(scores),\n",
    "                 'mean_score': np.mean(scores),\n",
    "                 'std_score': np.std(scores),\n",
    "            }\n",
    "            return pd.Series({**params,**d})\n",
    "\n",
    "        rows = []\n",
    "        for k in self.grid_searches:\n",
    "            print(k)\n",
    "            params = self.grid_searches[k].cv_results_['params']\n",
    "            scores = []\n",
    "            for i in range(self.grid_searches[k].cv):\n",
    "                key = \"split{}_test_score\".format(i)\n",
    "                r = self.grid_searches[k].cv_results_[key]        \n",
    "                scores.append(r.reshape(len(params),1))\n",
    "\n",
    "            all_scores = np.hstack(scores)\n",
    "            for p, s in zip(params,all_scores):\n",
    "                rows.append((row(k, s, p)))\n",
    "\n",
    "        df = pd.concat(rows, axis=1).T.sort_values([sort_by], ascending=False)\n",
    "\n",
    "        columns = ['estimator', 'min_score', 'mean_score', 'max_score', 'std_score']\n",
    "        columns = columns + [c for c in df.columns if c not in columns]\n",
    "\n",
    "        return df[columns]"
   ]
  },
  {
   "cell_type": "code",
   "execution_count": 49,
   "metadata": {
    "ExecuteTime": {
     "end_time": "2018-10-22T17:30:54.450473Z",
     "start_time": "2018-10-22T17:30:54.360893Z"
    },
    "collapsed": true
   },
   "outputs": [],
   "source": [
    "# Define sets of models and their respective parameters to compare\n",
    "# The first dictionary contains the models to be scored\n",
    "# while the second contains the parameters for each model\n",
    "\n",
    "from sklearn.cluster import FeatureAgglomeration\n",
    "from sklearn.svm import SVC\n",
    "from sklearn.ensemble import RandomForestClassifier\n",
    "\n",
    "cv=5\n",
    "models_b = {\n",
    "    'RandomForest': RandomForestClassifier(),\n",
    "    'SVC': SVC()\n",
    "}\n",
    "\n",
    "params_b = {\n",
    "    'RandomForest': { 'n_estimators': [4,8,12]},\n",
    "    'SVC': [\n",
    "        {'kernel': ['linear'], 'C': [1,10,100]},\n",
    "        {'kernel': ['rbf'], 'C': [1,10,100], 'gamma': [0.001,0.1,1]},\n",
    "    ]\n",
    "}"
   ]
  },
  {
   "cell_type": "code",
   "execution_count": 50,
   "metadata": {
    "ExecuteTime": {
     "end_time": "2018-10-22T17:31:00.583043Z",
     "start_time": "2018-10-22T17:31:00.066286Z"
    }
   },
   "outputs": [
    {
     "name": "stdout",
     "output_type": "stream",
     "text": [
      "Running GridSearchCV for RandomForest.\n",
      "Fitting 5 folds for each of 3 candidates, totalling 15 fits\n",
      "Running GridSearchCV for SVC.\n",
      "Fitting 5 folds for each of 12 candidates, totalling 60 fits\n"
     ]
    },
    {
     "name": "stderr",
     "output_type": "stream",
     "text": [
      "[Parallel(n_jobs=3)]: Done  15 out of  15 | elapsed:    0.2s finished\n",
      "[Parallel(n_jobs=3)]: Done  60 out of  60 | elapsed:    0.1s finished\n"
     ]
    },
    {
     "data": {
      "text/html": [
       "\n",
       "                <audio controls=\"controls\" autoplay=\"autoplay\">\n",
       "                    <source src=\"./data/Glass.wav\" type=\"audio/x-wav\" />\n",
       "                    Your browser does not support the audio element.\n",
       "                </audio>\n",
       "              "
      ],
      "text/plain": [
       "<IPython.lib.display.Audio object>"
      ]
     },
     "execution_count": 50,
     "metadata": {},
     "output_type": "execute_result"
    }
   ],
   "source": [
    "# Fit gridsearch models to select best estimator\n",
    "# All ENM features only\n",
    "helper_b = EstimatorSelectionHelper(models_b, params_b)\n",
    "helper_b.fit(Xf_enm+0.00001, bin_num_enm, n_jobs=3)\n",
    "\n",
    "# Play sound when cell is done running\n",
    "Audio(url=sound_file, autoplay=True)"
   ]
  },
  {
   "cell_type": "code",
   "execution_count": 51,
   "metadata": {
    "ExecuteTime": {
     "end_time": "2018-10-22T17:31:04.177804Z",
     "start_time": "2018-10-22T17:31:04.135744Z"
    }
   },
   "outputs": [
    {
     "name": "stdout",
     "output_type": "stream",
     "text": [
      "RandomForest\n",
      "SVC\n"
     ]
    },
    {
     "name": "stderr",
     "output_type": "stream",
     "text": [
      "/anaconda3/lib/python3.6/site-packages/ipykernel/__main__.py:52: FutureWarning: Sorting because non-concatenation axis is not aligned. A future version\n",
      "of pandas will change to not sort by default.\n",
      "\n",
      "To accept the future behavior, pass 'sort=True'.\n",
      "\n",
      "To retain the current behavior and silence the warning, pass sort=False\n",
      "\n"
     ]
    },
    {
     "data": {
      "text/html": [
       "<div>\n",
       "<style scoped>\n",
       "    .dataframe tbody tr th:only-of-type {\n",
       "        vertical-align: middle;\n",
       "    }\n",
       "\n",
       "    .dataframe tbody tr th {\n",
       "        vertical-align: top;\n",
       "    }\n",
       "\n",
       "    .dataframe thead th {\n",
       "        text-align: right;\n",
       "    }\n",
       "</style>\n",
       "<table border=\"1\" class=\"dataframe\">\n",
       "  <thead>\n",
       "    <tr style=\"text-align: right;\">\n",
       "      <th></th>\n",
       "      <th>estimator</th>\n",
       "      <th>min_score</th>\n",
       "      <th>mean_score</th>\n",
       "      <th>max_score</th>\n",
       "      <th>std_score</th>\n",
       "      <th>C</th>\n",
       "      <th>gamma</th>\n",
       "      <th>kernel</th>\n",
       "      <th>n_estimators</th>\n",
       "    </tr>\n",
       "  </thead>\n",
       "  <tbody>\n",
       "    <tr>\n",
       "      <th>12</th>\n",
       "      <td>SVC</td>\n",
       "      <td>0.411765</td>\n",
       "      <td>0.578742</td>\n",
       "      <td>0.875</td>\n",
       "      <td>0.163952</td>\n",
       "      <td>100</td>\n",
       "      <td>0.001</td>\n",
       "      <td>rbf</td>\n",
       "      <td>NaN</td>\n",
       "    </tr>\n",
       "    <tr>\n",
       "      <th>7</th>\n",
       "      <td>SVC</td>\n",
       "      <td>0.411765</td>\n",
       "      <td>0.540408</td>\n",
       "      <td>0.75</td>\n",
       "      <td>0.118512</td>\n",
       "      <td>1</td>\n",
       "      <td>0.1</td>\n",
       "      <td>rbf</td>\n",
       "      <td>NaN</td>\n",
       "    </tr>\n",
       "    <tr>\n",
       "      <th>0</th>\n",
       "      <td>RandomForest</td>\n",
       "      <td>0.333333</td>\n",
       "      <td>0.49402</td>\n",
       "      <td>0.75</td>\n",
       "      <td>0.157168</td>\n",
       "      <td>NaN</td>\n",
       "      <td>NaN</td>\n",
       "      <td>NaN</td>\n",
       "      <td>4</td>\n",
       "    </tr>\n",
       "    <tr>\n",
       "      <th>10</th>\n",
       "      <td>SVC</td>\n",
       "      <td>0.1875</td>\n",
       "      <td>0.478742</td>\n",
       "      <td>0.75</td>\n",
       "      <td>0.189087</td>\n",
       "      <td>10</td>\n",
       "      <td>0.1</td>\n",
       "      <td>rbf</td>\n",
       "      <td>NaN</td>\n",
       "    </tr>\n",
       "    <tr>\n",
       "      <th>13</th>\n",
       "      <td>SVC</td>\n",
       "      <td>0.1875</td>\n",
       "      <td>0.478742</td>\n",
       "      <td>0.75</td>\n",
       "      <td>0.189087</td>\n",
       "      <td>100</td>\n",
       "      <td>0.1</td>\n",
       "      <td>rbf</td>\n",
       "      <td>NaN</td>\n",
       "    </tr>\n",
       "    <tr>\n",
       "      <th>1</th>\n",
       "      <td>RandomForest</td>\n",
       "      <td>0.125</td>\n",
       "      <td>0.477908</td>\n",
       "      <td>0.875</td>\n",
       "      <td>0.241161</td>\n",
       "      <td>NaN</td>\n",
       "      <td>NaN</td>\n",
       "      <td>NaN</td>\n",
       "      <td>8</td>\n",
       "    </tr>\n",
       "    <tr>\n",
       "      <th>8</th>\n",
       "      <td>SVC</td>\n",
       "      <td>0.125</td>\n",
       "      <td>0.466242</td>\n",
       "      <td>0.75</td>\n",
       "      <td>0.208949</td>\n",
       "      <td>1</td>\n",
       "      <td>1</td>\n",
       "      <td>rbf</td>\n",
       "      <td>NaN</td>\n",
       "    </tr>\n",
       "    <tr>\n",
       "      <th>11</th>\n",
       "      <td>SVC</td>\n",
       "      <td>0.125</td>\n",
       "      <td>0.466242</td>\n",
       "      <td>0.75</td>\n",
       "      <td>0.208949</td>\n",
       "      <td>10</td>\n",
       "      <td>1</td>\n",
       "      <td>rbf</td>\n",
       "      <td>NaN</td>\n",
       "    </tr>\n",
       "    <tr>\n",
       "      <th>14</th>\n",
       "      <td>SVC</td>\n",
       "      <td>0.125</td>\n",
       "      <td>0.466242</td>\n",
       "      <td>0.75</td>\n",
       "      <td>0.208949</td>\n",
       "      <td>100</td>\n",
       "      <td>1</td>\n",
       "      <td>rbf</td>\n",
       "      <td>NaN</td>\n",
       "    </tr>\n",
       "    <tr>\n",
       "      <th>3</th>\n",
       "      <td>SVC</td>\n",
       "      <td>0.1875</td>\n",
       "      <td>0.465408</td>\n",
       "      <td>0.75</td>\n",
       "      <td>0.182294</td>\n",
       "      <td>1</td>\n",
       "      <td>NaN</td>\n",
       "      <td>linear</td>\n",
       "      <td>NaN</td>\n",
       "    </tr>\n",
       "    <tr>\n",
       "      <th>4</th>\n",
       "      <td>SVC</td>\n",
       "      <td>0.1875</td>\n",
       "      <td>0.465408</td>\n",
       "      <td>0.75</td>\n",
       "      <td>0.182294</td>\n",
       "      <td>10</td>\n",
       "      <td>NaN</td>\n",
       "      <td>linear</td>\n",
       "      <td>NaN</td>\n",
       "    </tr>\n",
       "    <tr>\n",
       "      <th>5</th>\n",
       "      <td>SVC</td>\n",
       "      <td>0.1875</td>\n",
       "      <td>0.465408</td>\n",
       "      <td>0.75</td>\n",
       "      <td>0.182294</td>\n",
       "      <td>100</td>\n",
       "      <td>NaN</td>\n",
       "      <td>linear</td>\n",
       "      <td>NaN</td>\n",
       "    </tr>\n",
       "    <tr>\n",
       "      <th>6</th>\n",
       "      <td>SVC</td>\n",
       "      <td>0.411765</td>\n",
       "      <td>0.439575</td>\n",
       "      <td>0.466667</td>\n",
       "      <td>0.0175482</td>\n",
       "      <td>1</td>\n",
       "      <td>0.001</td>\n",
       "      <td>rbf</td>\n",
       "      <td>NaN</td>\n",
       "    </tr>\n",
       "    <tr>\n",
       "      <th>9</th>\n",
       "      <td>SVC</td>\n",
       "      <td>0.411765</td>\n",
       "      <td>0.439575</td>\n",
       "      <td>0.466667</td>\n",
       "      <td>0.0175482</td>\n",
       "      <td>10</td>\n",
       "      <td>0.001</td>\n",
       "      <td>rbf</td>\n",
       "      <td>NaN</td>\n",
       "    </tr>\n",
       "    <tr>\n",
       "      <th>2</th>\n",
       "      <td>RandomForest</td>\n",
       "      <td>0.0625</td>\n",
       "      <td>0.43152</td>\n",
       "      <td>0.75</td>\n",
       "      <td>0.234956</td>\n",
       "      <td>NaN</td>\n",
       "      <td>NaN</td>\n",
       "      <td>NaN</td>\n",
       "      <td>12</td>\n",
       "    </tr>\n",
       "  </tbody>\n",
       "</table>\n",
       "</div>"
      ],
      "text/plain": [
       "       estimator min_score mean_score max_score  std_score    C  gamma  \\\n",
       "12           SVC  0.411765   0.578742     0.875   0.163952  100  0.001   \n",
       "7            SVC  0.411765   0.540408      0.75   0.118512    1    0.1   \n",
       "0   RandomForest  0.333333    0.49402      0.75   0.157168  NaN    NaN   \n",
       "10           SVC    0.1875   0.478742      0.75   0.189087   10    0.1   \n",
       "13           SVC    0.1875   0.478742      0.75   0.189087  100    0.1   \n",
       "1   RandomForest     0.125   0.477908     0.875   0.241161  NaN    NaN   \n",
       "8            SVC     0.125   0.466242      0.75   0.208949    1      1   \n",
       "11           SVC     0.125   0.466242      0.75   0.208949   10      1   \n",
       "14           SVC     0.125   0.466242      0.75   0.208949  100      1   \n",
       "3            SVC    0.1875   0.465408      0.75   0.182294    1    NaN   \n",
       "4            SVC    0.1875   0.465408      0.75   0.182294   10    NaN   \n",
       "5            SVC    0.1875   0.465408      0.75   0.182294  100    NaN   \n",
       "6            SVC  0.411765   0.439575  0.466667  0.0175482    1  0.001   \n",
       "9            SVC  0.411765   0.439575  0.466667  0.0175482   10  0.001   \n",
       "2   RandomForest    0.0625    0.43152      0.75   0.234956  NaN    NaN   \n",
       "\n",
       "    kernel n_estimators  \n",
       "12     rbf          NaN  \n",
       "7      rbf          NaN  \n",
       "0      NaN            4  \n",
       "10     rbf          NaN  \n",
       "13     rbf          NaN  \n",
       "1      NaN            8  \n",
       "8      rbf          NaN  \n",
       "11     rbf          NaN  \n",
       "14     rbf          NaN  \n",
       "3   linear          NaN  \n",
       "4   linear          NaN  \n",
       "5   linear          NaN  \n",
       "6      rbf          NaN  \n",
       "9      rbf          NaN  \n",
       "2      NaN           12  "
      ]
     },
     "execution_count": 51,
     "metadata": {},
     "output_type": "execute_result"
    }
   ],
   "source": [
    "# Compare performance for estimators (accuracy)\n",
    "# Function features only\n",
    "helper_b.score_summary(sort_by='mean_score')"
   ]
  },
  {
   "cell_type": "code",
   "execution_count": 52,
   "metadata": {
    "ExecuteTime": {
     "end_time": "2018-10-22T17:31:10.386011Z",
     "start_time": "2018-10-22T17:31:09.890900Z"
    }
   },
   "outputs": [
    {
     "name": "stdout",
     "output_type": "stream",
     "text": [
      "Running GridSearchCV for RandomForest.\n",
      "Fitting 5 folds for each of 3 candidates, totalling 15 fits\n",
      "Running GridSearchCV for SVC.\n",
      "Fitting 5 folds for each of 12 candidates, totalling 60 fits\n"
     ]
    },
    {
     "name": "stderr",
     "output_type": "stream",
     "text": [
      "[Parallel(n_jobs=3)]: Done  15 out of  15 | elapsed:    0.2s finished\n",
      "[Parallel(n_jobs=3)]: Done  60 out of  60 | elapsed:    0.1s finished\n"
     ]
    }
   ],
   "source": [
    "# Fit gridsearch models to select best estimator\n",
    "# All organics features only\n",
    "helper_b = EstimatorSelectionHelper(models_b, params_b)\n",
    "helper_b.fit(Xp_enm, bin_num_enm, n_jobs=3)"
   ]
  },
  {
   "cell_type": "code",
   "execution_count": 53,
   "metadata": {
    "ExecuteTime": {
     "end_time": "2018-10-22T17:31:10.562704Z",
     "start_time": "2018-10-22T17:31:10.519829Z"
    }
   },
   "outputs": [
    {
     "name": "stdout",
     "output_type": "stream",
     "text": [
      "RandomForest\n",
      "SVC\n"
     ]
    },
    {
     "name": "stderr",
     "output_type": "stream",
     "text": [
      "/anaconda3/lib/python3.6/site-packages/ipykernel/__main__.py:52: FutureWarning: Sorting because non-concatenation axis is not aligned. A future version\n",
      "of pandas will change to not sort by default.\n",
      "\n",
      "To accept the future behavior, pass 'sort=True'.\n",
      "\n",
      "To retain the current behavior and silence the warning, pass sort=False\n",
      "\n"
     ]
    },
    {
     "data": {
      "text/html": [
       "<div>\n",
       "<style scoped>\n",
       "    .dataframe tbody tr th:only-of-type {\n",
       "        vertical-align: middle;\n",
       "    }\n",
       "\n",
       "    .dataframe tbody tr th {\n",
       "        vertical-align: top;\n",
       "    }\n",
       "\n",
       "    .dataframe thead th {\n",
       "        text-align: right;\n",
       "    }\n",
       "</style>\n",
       "<table border=\"1\" class=\"dataframe\">\n",
       "  <thead>\n",
       "    <tr style=\"text-align: right;\">\n",
       "      <th></th>\n",
       "      <th>estimator</th>\n",
       "      <th>min_score</th>\n",
       "      <th>mean_score</th>\n",
       "      <th>max_score</th>\n",
       "      <th>std_score</th>\n",
       "      <th>C</th>\n",
       "      <th>gamma</th>\n",
       "      <th>kernel</th>\n",
       "      <th>n_estimators</th>\n",
       "    </tr>\n",
       "  </thead>\n",
       "  <tbody>\n",
       "    <tr>\n",
       "      <th>8</th>\n",
       "      <td>SVC</td>\n",
       "      <td>0.411765</td>\n",
       "      <td>0.552353</td>\n",
       "      <td>0.75</td>\n",
       "      <td>0.115396</td>\n",
       "      <td>1</td>\n",
       "      <td>1</td>\n",
       "      <td>rbf</td>\n",
       "      <td>NaN</td>\n",
       "    </tr>\n",
       "    <tr>\n",
       "      <th>11</th>\n",
       "      <td>SVC</td>\n",
       "      <td>0.411765</td>\n",
       "      <td>0.552353</td>\n",
       "      <td>0.75</td>\n",
       "      <td>0.115396</td>\n",
       "      <td>10</td>\n",
       "      <td>1</td>\n",
       "      <td>rbf</td>\n",
       "      <td>NaN</td>\n",
       "    </tr>\n",
       "    <tr>\n",
       "      <th>14</th>\n",
       "      <td>SVC</td>\n",
       "      <td>0.411765</td>\n",
       "      <td>0.552353</td>\n",
       "      <td>0.75</td>\n",
       "      <td>0.115396</td>\n",
       "      <td>100</td>\n",
       "      <td>1</td>\n",
       "      <td>rbf</td>\n",
       "      <td>NaN</td>\n",
       "    </tr>\n",
       "    <tr>\n",
       "      <th>3</th>\n",
       "      <td>SVC</td>\n",
       "      <td>0.411765</td>\n",
       "      <td>0.541242</td>\n",
       "      <td>0.75</td>\n",
       "      <td>0.122366</td>\n",
       "      <td>1</td>\n",
       "      <td>NaN</td>\n",
       "      <td>linear</td>\n",
       "      <td>NaN</td>\n",
       "    </tr>\n",
       "    <tr>\n",
       "      <th>4</th>\n",
       "      <td>SVC</td>\n",
       "      <td>0.411765</td>\n",
       "      <td>0.541242</td>\n",
       "      <td>0.75</td>\n",
       "      <td>0.122366</td>\n",
       "      <td>10</td>\n",
       "      <td>NaN</td>\n",
       "      <td>linear</td>\n",
       "      <td>NaN</td>\n",
       "    </tr>\n",
       "    <tr>\n",
       "      <th>5</th>\n",
       "      <td>SVC</td>\n",
       "      <td>0.411765</td>\n",
       "      <td>0.541242</td>\n",
       "      <td>0.75</td>\n",
       "      <td>0.122366</td>\n",
       "      <td>100</td>\n",
       "      <td>NaN</td>\n",
       "      <td>linear</td>\n",
       "      <td>NaN</td>\n",
       "    </tr>\n",
       "    <tr>\n",
       "      <th>10</th>\n",
       "      <td>SVC</td>\n",
       "      <td>0.411765</td>\n",
       "      <td>0.541242</td>\n",
       "      <td>0.75</td>\n",
       "      <td>0.122366</td>\n",
       "      <td>10</td>\n",
       "      <td>0.1</td>\n",
       "      <td>rbf</td>\n",
       "      <td>NaN</td>\n",
       "    </tr>\n",
       "    <tr>\n",
       "      <th>13</th>\n",
       "      <td>SVC</td>\n",
       "      <td>0.411765</td>\n",
       "      <td>0.541242</td>\n",
       "      <td>0.75</td>\n",
       "      <td>0.122366</td>\n",
       "      <td>100</td>\n",
       "      <td>0.1</td>\n",
       "      <td>rbf</td>\n",
       "      <td>NaN</td>\n",
       "    </tr>\n",
       "    <tr>\n",
       "      <th>1</th>\n",
       "      <td>RandomForest</td>\n",
       "      <td>0.411765</td>\n",
       "      <td>0.527353</td>\n",
       "      <td>0.6875</td>\n",
       "      <td>0.10306</td>\n",
       "      <td>NaN</td>\n",
       "      <td>NaN</td>\n",
       "      <td>NaN</td>\n",
       "      <td>8</td>\n",
       "    </tr>\n",
       "    <tr>\n",
       "      <th>0</th>\n",
       "      <td>RandomForest</td>\n",
       "      <td>0.411765</td>\n",
       "      <td>0.527075</td>\n",
       "      <td>0.75</td>\n",
       "      <td>0.122249</td>\n",
       "      <td>NaN</td>\n",
       "      <td>NaN</td>\n",
       "      <td>NaN</td>\n",
       "      <td>4</td>\n",
       "    </tr>\n",
       "    <tr>\n",
       "      <th>7</th>\n",
       "      <td>SVC</td>\n",
       "      <td>0.411765</td>\n",
       "      <td>0.50152</td>\n",
       "      <td>0.625</td>\n",
       "      <td>0.0753874</td>\n",
       "      <td>1</td>\n",
       "      <td>0.1</td>\n",
       "      <td>rbf</td>\n",
       "      <td>NaN</td>\n",
       "    </tr>\n",
       "    <tr>\n",
       "      <th>2</th>\n",
       "      <td>RandomForest</td>\n",
       "      <td>0.1875</td>\n",
       "      <td>0.489853</td>\n",
       "      <td>0.75</td>\n",
       "      <td>0.188376</td>\n",
       "      <td>NaN</td>\n",
       "      <td>NaN</td>\n",
       "      <td>NaN</td>\n",
       "      <td>12</td>\n",
       "    </tr>\n",
       "    <tr>\n",
       "      <th>12</th>\n",
       "      <td>SVC</td>\n",
       "      <td>0.411765</td>\n",
       "      <td>0.489575</td>\n",
       "      <td>0.625</td>\n",
       "      <td>0.0735726</td>\n",
       "      <td>100</td>\n",
       "      <td>0.001</td>\n",
       "      <td>rbf</td>\n",
       "      <td>NaN</td>\n",
       "    </tr>\n",
       "    <tr>\n",
       "      <th>6</th>\n",
       "      <td>SVC</td>\n",
       "      <td>0.411765</td>\n",
       "      <td>0.439575</td>\n",
       "      <td>0.466667</td>\n",
       "      <td>0.0175482</td>\n",
       "      <td>1</td>\n",
       "      <td>0.001</td>\n",
       "      <td>rbf</td>\n",
       "      <td>NaN</td>\n",
       "    </tr>\n",
       "    <tr>\n",
       "      <th>9</th>\n",
       "      <td>SVC</td>\n",
       "      <td>0.411765</td>\n",
       "      <td>0.439575</td>\n",
       "      <td>0.466667</td>\n",
       "      <td>0.0175482</td>\n",
       "      <td>10</td>\n",
       "      <td>0.001</td>\n",
       "      <td>rbf</td>\n",
       "      <td>NaN</td>\n",
       "    </tr>\n",
       "  </tbody>\n",
       "</table>\n",
       "</div>"
      ],
      "text/plain": [
       "       estimator min_score mean_score max_score  std_score    C  gamma  \\\n",
       "8            SVC  0.411765   0.552353      0.75   0.115396    1      1   \n",
       "11           SVC  0.411765   0.552353      0.75   0.115396   10      1   \n",
       "14           SVC  0.411765   0.552353      0.75   0.115396  100      1   \n",
       "3            SVC  0.411765   0.541242      0.75   0.122366    1    NaN   \n",
       "4            SVC  0.411765   0.541242      0.75   0.122366   10    NaN   \n",
       "5            SVC  0.411765   0.541242      0.75   0.122366  100    NaN   \n",
       "10           SVC  0.411765   0.541242      0.75   0.122366   10    0.1   \n",
       "13           SVC  0.411765   0.541242      0.75   0.122366  100    0.1   \n",
       "1   RandomForest  0.411765   0.527353    0.6875    0.10306  NaN    NaN   \n",
       "0   RandomForest  0.411765   0.527075      0.75   0.122249  NaN    NaN   \n",
       "7            SVC  0.411765    0.50152     0.625  0.0753874    1    0.1   \n",
       "2   RandomForest    0.1875   0.489853      0.75   0.188376  NaN    NaN   \n",
       "12           SVC  0.411765   0.489575     0.625  0.0735726  100  0.001   \n",
       "6            SVC  0.411765   0.439575  0.466667  0.0175482    1  0.001   \n",
       "9            SVC  0.411765   0.439575  0.466667  0.0175482   10  0.001   \n",
       "\n",
       "    kernel n_estimators  \n",
       "8      rbf          NaN  \n",
       "11     rbf          NaN  \n",
       "14     rbf          NaN  \n",
       "3   linear          NaN  \n",
       "4   linear          NaN  \n",
       "5   linear          NaN  \n",
       "10     rbf          NaN  \n",
       "13     rbf          NaN  \n",
       "1      NaN            8  \n",
       "0      NaN            4  \n",
       "7      rbf          NaN  \n",
       "2      NaN           12  \n",
       "12     rbf          NaN  \n",
       "6      rbf          NaN  \n",
       "9      rbf          NaN  "
      ]
     },
     "execution_count": 53,
     "metadata": {},
     "output_type": "execute_result"
    }
   ],
   "source": [
    "# Compare performance for estimators (accuracy)\n",
    "# Function features only\n",
    "helper_b.score_summary(sort_by='mean_score')"
   ]
  },
  {
   "cell_type": "markdown",
   "metadata": {},
   "source": [
    "### Pipeline/GridSearch to select n_clusters"
   ]
  },
  {
   "cell_type": "markdown",
   "metadata": {},
   "source": [
    "Have to run fit with [X + a very small number] so that features with very few ones don't go missing during cross validation. https://stats.stackexchange.com/questions/324732/kernel-density-estimator-kde-with-too-many-zeroes-as-input"
   ]
  },
  {
   "cell_type": "code",
   "execution_count": 54,
   "metadata": {
    "ExecuteTime": {
     "end_time": "2018-10-22T17:31:21.665134Z",
     "start_time": "2018-10-22T17:31:21.657480Z"
    },
    "collapsed": true
   },
   "outputs": [],
   "source": [
    "from sklearn.pipeline import Pipeline\n",
    "from sklearn.model_selection import GridSearchCV\n",
    "from sklearn.cluster import FeatureAgglomeration\n",
    "from sklearn.ensemble import RandomForestClassifier\n",
    "from sklearn.svm import SVC\n",
    "#from sklearn import preprocessing"
   ]
  },
  {
   "cell_type": "code",
   "execution_count": 55,
   "metadata": {
    "ExecuteTime": {
     "end_time": "2018-10-22T17:31:23.283202Z",
     "start_time": "2018-10-22T17:31:22.615197Z"
    }
   },
   "outputs": [
    {
     "name": "stdout",
     "output_type": "stream",
     "text": [
      "{'estimator__C': 20, 'estimator__gamma': 0.01, 'feat__n_clusters': 13}\n",
      "0.6585365853658537\n"
     ]
    },
    {
     "data": {
      "text/html": [
       "\n",
       "                <audio controls=\"controls\" autoplay=\"autoplay\">\n",
       "                    <source src=\"./data/Glass.wav\" type=\"audio/x-wav\" />\n",
       "                    Your browser does not support the audio element.\n",
       "                </audio>\n",
       "              "
      ],
      "text/plain": [
       "<IPython.lib.display.Audio object>"
      ]
     },
     "execution_count": 55,
     "metadata": {},
     "output_type": "execute_result"
    }
   ],
   "source": [
    "# Pipeline/GridSearch to select n_clusters for feature agglomeration\n",
    "# after selecting ideal estimator\n",
    "# ENM Functions only\n",
    "\n",
    "# Pipeline\n",
    "feat = FeatureAgglomeration(affinity=\"cosine\", linkage=\"average\")\n",
    "estimator = SVC(kernel='rbf')\n",
    "prepipe = Pipeline([\n",
    "    ('feat', feat),\n",
    "    ('estimator', estimator)\n",
    "])\n",
    "\n",
    "# Set parameter ranges for gridsearch\n",
    "cv=10\n",
    "k_set=[8,10,13]\n",
    "c_set=[0.1,5,20]\n",
    "gamma_set=[0.0001,0.01, 0.5]\n",
    "\n",
    "# Gridsearch\n",
    "param_grid={'feat__n_clusters': k_set,\n",
    "            'estimator__C': c_set,\n",
    "            'estimator__gamma': gamma_set\n",
    "           }\n",
    "grid_search=GridSearchCV(prepipe,param_grid,cv=cv,scoring='accuracy', n_jobs=3)\n",
    "grid_search.fit(Xf_enm+.0001,bin_num_enm)\n",
    "print(grid_search.best_params_)\n",
    "print(grid_search.best_score_)\n",
    "\n",
    "# Play sound when cell is done running\n",
    "Audio(url=sound_file, autoplay=True)"
   ]
  },
  {
   "cell_type": "code",
   "execution_count": 57,
   "metadata": {
    "ExecuteTime": {
     "end_time": "2018-10-22T17:32:39.430897Z",
     "start_time": "2018-10-22T17:32:38.773487Z"
    }
   },
   "outputs": [
    {
     "name": "stdout",
     "output_type": "stream",
     "text": [
      "{'estimator__C': 5, 'estimator__gamma': 0.1, 'feat__n_clusters': 21}\n",
      "0.5487804878048781\n"
     ]
    },
    {
     "data": {
      "text/html": [
       "\n",
       "                <audio controls=\"controls\" autoplay=\"autoplay\">\n",
       "                    <source src=\"./data/Glass.wav\" type=\"audio/x-wav\" />\n",
       "                    Your browser does not support the audio element.\n",
       "                </audio>\n",
       "              "
      ],
      "text/plain": [
       "<IPython.lib.display.Audio object>"
      ]
     },
     "execution_count": 57,
     "metadata": {},
     "output_type": "execute_result"
    }
   ],
   "source": [
    "# Pipeline/GridSearch to select n_clusters for feature agglomeration\n",
    "# after selecting ideal estimator\n",
    "# ENM PUCs only\n",
    "\n",
    "# Pipeline\n",
    "feat = FeatureAgglomeration(affinity=\"cosine\", linkage=\"average\")\n",
    "estimator = SVC(kernel='rbf')\n",
    "prepipe = Pipeline([\n",
    "    ('feat', feat),\n",
    "    ('estimator', estimator)\n",
    "])\n",
    "\n",
    "# Set parameter ranges for gridsearch\n",
    "cv=5\n",
    "k_set=[11,18,21,23]\n",
    "c_set=[0.1,5,20]\n",
    "gamma_set=[0.0001,0.001,0.1]\n",
    "\n",
    "# Gridsearch\n",
    "param_grid={'feat__n_clusters': k_set,\n",
    "            'estimator__C': c_set,\n",
    "            'estimator__gamma': gamma_set\n",
    "           }\n",
    "grid_search=GridSearchCV(prepipe,param_grid,cv=cv,scoring='accuracy', n_jobs=3)\n",
    "grid_search.fit(Xp_enm+.0001,bin_num_enm)\n",
    "print(grid_search.best_params_)\n",
    "print(grid_search.best_score_)\n",
    "\n",
    "# Play sound when cell is done running\n",
    "Audio(url=sound_file, autoplay=True)"
   ]
  },
  {
   "cell_type": "code",
   "execution_count": 90,
   "metadata": {
    "ExecuteTime": {
     "end_time": "2018-09-01T23:26:19.332257Z",
     "start_time": "2018-09-01T23:26:18.896089Z"
    }
   },
   "outputs": [
    {
     "name": "stdout",
     "output_type": "stream",
     "text": [
      "{'estimator__C': 0.1, 'estimator__gamma': 0.0001, 'feat__n_clusters': 17}\n",
      "0.658536585366\n"
     ]
    },
    {
     "data": {
      "text/html": [
       "\n",
       "                <audio controls=\"controls\" autoplay=\"autoplay\">\n",
       "                    <source src=\"./data/Glass.wav\" type=\"audio/x-wav\" />\n",
       "                    Your browser does not support the audio element.\n",
       "                </audio>\n",
       "              "
      ],
      "text/plain": [
       "<IPython.lib.display.Audio object>"
      ]
     },
     "execution_count": 90,
     "metadata": {},
     "output_type": "execute_result"
    }
   ],
   "source": [
    "# Pipeline/GridSearch to select n_clusters for feature agglomeration\n",
    "# after selecting ideal estimator\n",
    "# ENM PUCs only\n",
    "\n",
    "# Pipeline\n",
    "feat = FeatureAgglomeration(affinity=\"cosine\", linkage=\"average\")\n",
    "estimator = SVC(kernel='rbf')\n",
    "prepipe = Pipeline([\n",
    "    ('feat', feat),\n",
    "    ('estimator', estimator)\n",
    "])\n",
    "\n",
    "# Set parameter ranges for gridsearch\n",
    "cv=5\n",
    "k_set=[17,19,22,28]\n",
    "c_set=[0.1,1,5]\n",
    "gamma_set=[0.0001,0.001,0.01]\n",
    "\n",
    "# Gridsearch\n",
    "param_grid={'feat__n_clusters': k_set,\n",
    "            'estimator__C': c_set,\n",
    "            'estimator__gamma': gamma_set\n",
    "           }\n",
    "grid_search=GridSearchCV(prepipe,param_grid,cv=cv,scoring='accuracy', n_jobs=3)\n",
    "grid_search.fit(Xp_enm+0.0001,bin_num_enm)\n",
    "print(grid_search.best_params_)\n",
    "print(grid_search.best_score_)\n",
    "\n",
    "# Play sound when cell is done running\n",
    "Audio(url=sound_file, autoplay=True)"
   ]
  },
  {
   "cell_type": "code",
   "execution_count": 408,
   "metadata": {
    "ExecuteTime": {
     "end_time": "2018-08-01T02:56:08.204788Z",
     "start_time": "2018-08-01T02:56:07.512536Z"
    }
   },
   "outputs": [
    {
     "name": "stdout",
     "output_type": "stream",
     "text": [
      "{'estimator__C': 5, 'estimator__gamma': 0.1, 'feat__n_clusters': 18}\n",
      "0.709090909091\n"
     ]
    },
    {
     "data": {
      "text/html": [
       "\n",
       "                <audio controls=\"controls\" autoplay=\"autoplay\">\n",
       "                    <source src=\"./data/Glass.wav\" type=\"audio/x-wav\" />\n",
       "                    Your browser does not support the audio element.\n",
       "                </audio>\n",
       "              "
      ],
      "text/plain": [
       "<IPython.lib.display.Audio object>"
      ]
     },
     "execution_count": 408,
     "metadata": {},
     "output_type": "execute_result"
    }
   ],
   "source": [
    "# Pipeline/GridSearch to select n_clusters for feature agglomeration\n",
    "# after selecting ideal estimator\n",
    "# ENM PUCs only\n",
    "\n",
    "# Pipeline\n",
    "feat = FeatureAgglomeration(affinity=\"cosine\", linkage=\"average\")\n",
    "estimator = SVC(kernel='rbf')\n",
    "prepipe = Pipeline([\n",
    "    ('feat', feat),\n",
    "    ('estimator', estimator)\n",
    "])\n",
    "\n",
    "# Set parameter ranges for gridsearch\n",
    "cv=5\n",
    "k_set=[10,12,18,20]\n",
    "c_set=[5,10,15]\n",
    "gamma_set=[0.003,0.1,0.3]\n",
    "\n",
    "# Gridsearch\n",
    "param_grid={'feat__n_clusters': k_set,\n",
    "            'estimator__C': c_set,\n",
    "            'estimator__gamma': gamma_set\n",
    "           }\n",
    "grid_search=GridSearchCV(prepipe,param_grid,cv=cv,scoring='accuracy', n_jobs=3)\n",
    "grid_search.fit(Xp_enm+0.0001,bin_num_enm)\n",
    "print(grid_search.best_params_)\n",
    "print(grid_search.best_score_)\n",
    "\n",
    "# Play sound when cell is done running\n",
    "Audio(url=sound_file, autoplay=True)"
   ]
  },
  {
   "cell_type": "markdown",
   "metadata": {},
   "source": [
    "### Apply feature agglomeration using optimized n_clusters"
   ]
  },
  {
   "cell_type": "code",
   "execution_count": 58,
   "metadata": {
    "ExecuteTime": {
     "end_time": "2018-10-22T17:33:10.129654Z",
     "start_time": "2018-10-22T17:33:10.122217Z"
    },
    "collapsed": true
   },
   "outputs": [],
   "source": [
    "# Apply feature agglomeration\n",
    "# Functions only\n",
    "\n",
    "agg = FeatureAgglomeration(n_clusters=13, affinity=\"cosine\", linkage=\"average\")\n",
    "Xf_enm_red = agg.fit_transform(Xf_enm+0.0001) # fit to data, then transform it"
   ]
  },
  {
   "cell_type": "code",
   "execution_count": 59,
   "metadata": {
    "ExecuteTime": {
     "end_time": "2018-10-22T17:33:11.333952Z",
     "start_time": "2018-10-22T17:33:11.327011Z"
    }
   },
   "outputs": [
    {
     "name": "stdout",
     "output_type": "stream",
     "text": [
      "(82, 13)\n"
     ]
    }
   ],
   "source": [
    "Xf_enm_red = pd.DataFrame(Xf_enm_red)\n",
    "print(Xf_enm_red.shape)"
   ]
  },
  {
   "cell_type": "code",
   "execution_count": 60,
   "metadata": {
    "ExecuteTime": {
     "end_time": "2018-10-22T17:33:45.934634Z",
     "start_time": "2018-10-22T17:33:45.927997Z"
    },
    "collapsed": true
   },
   "outputs": [],
   "source": [
    "# Apply feature agglomeration\n",
    "# Product categories only\n",
    "\n",
    "agg = FeatureAgglomeration(n_clusters=21, affinity=\"cosine\", linkage=\"average\")\n",
    "Xp_enm_red = agg.fit_transform(Xp_enm+0.0001) # fit to data, then transform it"
   ]
  },
  {
   "cell_type": "code",
   "execution_count": 61,
   "metadata": {
    "ExecuteTime": {
     "end_time": "2018-10-22T17:33:47.360398Z",
     "start_time": "2018-10-22T17:33:47.354152Z"
    }
   },
   "outputs": [
    {
     "name": "stdout",
     "output_type": "stream",
     "text": [
      "(82, 21)\n"
     ]
    }
   ],
   "source": [
    "Xp_enm_red = pd.DataFrame(Xp_enm_red)\n",
    "print(Xp_enm_red.shape)"
   ]
  },
  {
   "cell_type": "code",
   "execution_count": 62,
   "metadata": {
    "ExecuteTime": {
     "end_time": "2018-10-22T17:33:50.095135Z",
     "start_time": "2018-10-22T17:33:50.088550Z"
    },
    "collapsed": true
   },
   "outputs": [],
   "source": [
    "# Scale pchem properties\n",
    "from sklearn.preprocessing import MinMaxScaler\n",
    "scaler = MinMaxScaler()\n",
    "Xc_enm_scaled = scaler.fit_transform(Xc_enm)\n",
    "Xc_enm_scaled = pd.DataFrame(data=Xc_enm_scaled)"
   ]
  },
  {
   "cell_type": "code",
   "execution_count": 63,
   "metadata": {
    "ExecuteTime": {
     "end_time": "2018-10-22T17:33:56.011147Z",
     "start_time": "2018-10-22T17:33:55.981052Z"
    }
   },
   "outputs": [
    {
     "data": {
      "text/html": [
       "<div>\n",
       "<style scoped>\n",
       "    .dataframe tbody tr th:only-of-type {\n",
       "        vertical-align: middle;\n",
       "    }\n",
       "\n",
       "    .dataframe tbody tr th {\n",
       "        vertical-align: top;\n",
       "    }\n",
       "\n",
       "    .dataframe thead th {\n",
       "        text-align: right;\n",
       "    }\n",
       "</style>\n",
       "<table border=\"1\" class=\"dataframe\">\n",
       "  <thead>\n",
       "    <tr style=\"text-align: right;\">\n",
       "      <th></th>\n",
       "      <th>0</th>\n",
       "      <th>1</th>\n",
       "      <th>2</th>\n",
       "      <th>3</th>\n",
       "      <th>0</th>\n",
       "      <th>1</th>\n",
       "      <th>2</th>\n",
       "      <th>3</th>\n",
       "      <th>4</th>\n",
       "      <th>5</th>\n",
       "      <th>...</th>\n",
       "      <th>15</th>\n",
       "      <th>16</th>\n",
       "      <th>17</th>\n",
       "      <th>18</th>\n",
       "      <th>19</th>\n",
       "      <th>20</th>\n",
       "      <th>refined_NOC</th>\n",
       "      <th>refined_spray</th>\n",
       "      <th>matrix_A</th>\n",
       "      <th>matrix_F</th>\n",
       "    </tr>\n",
       "  </thead>\n",
       "  <tbody>\n",
       "    <tr>\n",
       "      <th>0</th>\n",
       "      <td>0.159910</td>\n",
       "      <td>0.728168</td>\n",
       "      <td>0.611018</td>\n",
       "      <td>0.082634</td>\n",
       "      <td>0.5001</td>\n",
       "      <td>0.0001</td>\n",
       "      <td>0.0001</td>\n",
       "      <td>0.0001</td>\n",
       "      <td>0.0001</td>\n",
       "      <td>1.0001</td>\n",
       "      <td>...</td>\n",
       "      <td>0.0001</td>\n",
       "      <td>0.0001</td>\n",
       "      <td>0.0001</td>\n",
       "      <td>0.0001</td>\n",
       "      <td>0.0001</td>\n",
       "      <td>0.0001</td>\n",
       "      <td>1</td>\n",
       "      <td>0</td>\n",
       "      <td>0</td>\n",
       "      <td>1</td>\n",
       "    </tr>\n",
       "    <tr>\n",
       "      <th>1</th>\n",
       "      <td>0.078351</td>\n",
       "      <td>0.387819</td>\n",
       "      <td>0.502819</td>\n",
       "      <td>0.321179</td>\n",
       "      <td>0.0001</td>\n",
       "      <td>0.0001</td>\n",
       "      <td>0.0001</td>\n",
       "      <td>0.0001</td>\n",
       "      <td>0.0001</td>\n",
       "      <td>0.0001</td>\n",
       "      <td>...</td>\n",
       "      <td>0.0001</td>\n",
       "      <td>0.0001</td>\n",
       "      <td>0.0001</td>\n",
       "      <td>0.0001</td>\n",
       "      <td>0.0001</td>\n",
       "      <td>0.0001</td>\n",
       "      <td>1</td>\n",
       "      <td>0</td>\n",
       "      <td>0</td>\n",
       "      <td>1</td>\n",
       "    </tr>\n",
       "    <tr>\n",
       "      <th>2</th>\n",
       "      <td>0.087466</td>\n",
       "      <td>0.090699</td>\n",
       "      <td>0.059336</td>\n",
       "      <td>0.229392</td>\n",
       "      <td>0.0001</td>\n",
       "      <td>0.0001</td>\n",
       "      <td>0.0001</td>\n",
       "      <td>0.0001</td>\n",
       "      <td>0.0001</td>\n",
       "      <td>0.0001</td>\n",
       "      <td>...</td>\n",
       "      <td>0.0001</td>\n",
       "      <td>0.0001</td>\n",
       "      <td>0.0001</td>\n",
       "      <td>0.0001</td>\n",
       "      <td>0.0001</td>\n",
       "      <td>0.0001</td>\n",
       "      <td>1</td>\n",
       "      <td>0</td>\n",
       "      <td>0</td>\n",
       "      <td>1</td>\n",
       "    </tr>\n",
       "    <tr>\n",
       "      <th>3</th>\n",
       "      <td>0.299836</td>\n",
       "      <td>0.333533</td>\n",
       "      <td>0.394619</td>\n",
       "      <td>0.391028</td>\n",
       "      <td>0.0001</td>\n",
       "      <td>0.0001</td>\n",
       "      <td>0.0001</td>\n",
       "      <td>0.0001</td>\n",
       "      <td>0.0001</td>\n",
       "      <td>0.0001</td>\n",
       "      <td>...</td>\n",
       "      <td>0.0001</td>\n",
       "      <td>0.0001</td>\n",
       "      <td>0.0001</td>\n",
       "      <td>0.0001</td>\n",
       "      <td>1.0001</td>\n",
       "      <td>0.0001</td>\n",
       "      <td>1</td>\n",
       "      <td>0</td>\n",
       "      <td>0</td>\n",
       "      <td>1</td>\n",
       "    </tr>\n",
       "  </tbody>\n",
       "</table>\n",
       "<p>4 rows × 42 columns</p>\n",
       "</div>"
      ],
      "text/plain": [
       "          0         1         2         3       0       1       2       3  \\\n",
       "0  0.159910  0.728168  0.611018  0.082634  0.5001  0.0001  0.0001  0.0001   \n",
       "1  0.078351  0.387819  0.502819  0.321179  0.0001  0.0001  0.0001  0.0001   \n",
       "2  0.087466  0.090699  0.059336  0.229392  0.0001  0.0001  0.0001  0.0001   \n",
       "3  0.299836  0.333533  0.394619  0.391028  0.0001  0.0001  0.0001  0.0001   \n",
       "\n",
       "        4       5    ...         15      16      17      18      19      20  \\\n",
       "0  0.0001  1.0001    ...     0.0001  0.0001  0.0001  0.0001  0.0001  0.0001   \n",
       "1  0.0001  0.0001    ...     0.0001  0.0001  0.0001  0.0001  0.0001  0.0001   \n",
       "2  0.0001  0.0001    ...     0.0001  0.0001  0.0001  0.0001  0.0001  0.0001   \n",
       "3  0.0001  0.0001    ...     0.0001  0.0001  0.0001  0.0001  1.0001  0.0001   \n",
       "\n",
       "   refined_NOC  refined_spray  matrix_A  matrix_F  \n",
       "0            1              0         0         1  \n",
       "1            1              0         0         1  \n",
       "2            1              0         0         1  \n",
       "3            1              0         0         1  \n",
       "\n",
       "[4 rows x 42 columns]"
      ]
     },
     "execution_count": 63,
     "metadata": {},
     "output_type": "execute_result"
    }
   ],
   "source": [
    "# Concatenate all clustered and scaled features into new dataframe\n",
    "XX_enm_scaled = pd.concat([Xc_enm_scaled,Xf_enm_red,Xp_enm_red,Xm_enm], axis=1)\n",
    "XX_enm_scaled.loc[0:3,]\n",
    "#XX_scaled=np.array(XX_scaled)\n",
    "#print(XX_scaled.shape)"
   ]
  },
  {
   "cell_type": "code",
   "execution_count": 64,
   "metadata": {
    "ExecuteTime": {
     "end_time": "2018-10-22T17:34:01.679236Z",
     "start_time": "2018-10-22T17:34:01.644176Z"
    }
   },
   "outputs": [
    {
     "data": {
      "text/html": [
       "<div>\n",
       "<style scoped>\n",
       "    .dataframe tbody tr th:only-of-type {\n",
       "        vertical-align: middle;\n",
       "    }\n",
       "\n",
       "    .dataframe tbody tr th {\n",
       "        vertical-align: top;\n",
       "    }\n",
       "\n",
       "    .dataframe thead th {\n",
       "        text-align: right;\n",
       "    }\n",
       "</style>\n",
       "<table border=\"1\" class=\"dataframe\">\n",
       "  <thead>\n",
       "    <tr style=\"text-align: right;\">\n",
       "      <th></th>\n",
       "      <th>propMW</th>\n",
       "      <th>propMP</th>\n",
       "      <th>propBP</th>\n",
       "      <th>propDensity</th>\n",
       "      <th>0</th>\n",
       "      <th>1</th>\n",
       "      <th>2</th>\n",
       "      <th>3</th>\n",
       "      <th>4</th>\n",
       "      <th>5</th>\n",
       "      <th>...</th>\n",
       "      <th>11</th>\n",
       "      <th>12</th>\n",
       "      <th>13</th>\n",
       "      <th>14</th>\n",
       "      <th>15</th>\n",
       "      <th>16</th>\n",
       "      <th>17</th>\n",
       "      <th>18</th>\n",
       "      <th>19</th>\n",
       "      <th>20</th>\n",
       "    </tr>\n",
       "  </thead>\n",
       "  <tbody>\n",
       "    <tr>\n",
       "      <th>0</th>\n",
       "      <td>79.867</td>\n",
       "      <td>1843.00</td>\n",
       "      <td>2972.0</td>\n",
       "      <td>4.230</td>\n",
       "      <td>0.5001</td>\n",
       "      <td>0.0001</td>\n",
       "      <td>0.0001</td>\n",
       "      <td>0.0001</td>\n",
       "      <td>0.0001</td>\n",
       "      <td>1.0001</td>\n",
       "      <td>...</td>\n",
       "      <td>0.0001</td>\n",
       "      <td>0.0001</td>\n",
       "      <td>0.0001</td>\n",
       "      <td>0.0001</td>\n",
       "      <td>0.0001</td>\n",
       "      <td>0.0001</td>\n",
       "      <td>0.0001</td>\n",
       "      <td>0.0001</td>\n",
       "      <td>0.0001</td>\n",
       "      <td>0.0001</td>\n",
       "    </tr>\n",
       "    <tr>\n",
       "      <th>1</th>\n",
       "      <td>63.546</td>\n",
       "      <td>1083.00</td>\n",
       "      <td>2567.0</td>\n",
       "      <td>8.960</td>\n",
       "      <td>0.0001</td>\n",
       "      <td>0.0001</td>\n",
       "      <td>0.0001</td>\n",
       "      <td>0.0001</td>\n",
       "      <td>0.0001</td>\n",
       "      <td>0.0001</td>\n",
       "      <td>...</td>\n",
       "      <td>0.0001</td>\n",
       "      <td>0.0001</td>\n",
       "      <td>0.0001</td>\n",
       "      <td>0.0001</td>\n",
       "      <td>0.0001</td>\n",
       "      <td>0.0001</td>\n",
       "      <td>0.0001</td>\n",
       "      <td>0.0001</td>\n",
       "      <td>0.0001</td>\n",
       "      <td>0.0001</td>\n",
       "    </tr>\n",
       "    <tr>\n",
       "      <th>2</th>\n",
       "      <td>65.370</td>\n",
       "      <td>419.53</td>\n",
       "      <td>907.0</td>\n",
       "      <td>7.140</td>\n",
       "      <td>0.0001</td>\n",
       "      <td>0.0001</td>\n",
       "      <td>0.0001</td>\n",
       "      <td>0.0001</td>\n",
       "      <td>0.0001</td>\n",
       "      <td>0.0001</td>\n",
       "      <td>...</td>\n",
       "      <td>0.0001</td>\n",
       "      <td>0.0001</td>\n",
       "      <td>0.0001</td>\n",
       "      <td>0.0001</td>\n",
       "      <td>0.0001</td>\n",
       "      <td>0.0001</td>\n",
       "      <td>0.0001</td>\n",
       "      <td>0.0001</td>\n",
       "      <td>0.0001</td>\n",
       "      <td>0.0001</td>\n",
       "    </tr>\n",
       "    <tr>\n",
       "      <th>3</th>\n",
       "      <td>107.868</td>\n",
       "      <td>961.78</td>\n",
       "      <td>2162.0</td>\n",
       "      <td>10.345</td>\n",
       "      <td>0.0001</td>\n",
       "      <td>0.0001</td>\n",
       "      <td>0.0001</td>\n",
       "      <td>0.0001</td>\n",
       "      <td>0.0001</td>\n",
       "      <td>0.0001</td>\n",
       "      <td>...</td>\n",
       "      <td>0.0001</td>\n",
       "      <td>0.0001</td>\n",
       "      <td>0.0001</td>\n",
       "      <td>0.0001</td>\n",
       "      <td>0.0001</td>\n",
       "      <td>0.0001</td>\n",
       "      <td>0.0001</td>\n",
       "      <td>0.0001</td>\n",
       "      <td>1.0001</td>\n",
       "      <td>0.0001</td>\n",
       "    </tr>\n",
       "  </tbody>\n",
       "</table>\n",
       "<p>4 rows × 38 columns</p>\n",
       "</div>"
      ],
      "text/plain": [
       "    propMW   propMP  propBP  propDensity       0       1       2       3  \\\n",
       "0   79.867  1843.00  2972.0        4.230  0.5001  0.0001  0.0001  0.0001   \n",
       "1   63.546  1083.00  2567.0        8.960  0.0001  0.0001  0.0001  0.0001   \n",
       "2   65.370   419.53   907.0        7.140  0.0001  0.0001  0.0001  0.0001   \n",
       "3  107.868   961.78  2162.0       10.345  0.0001  0.0001  0.0001  0.0001   \n",
       "\n",
       "        4       5   ...        11      12      13      14      15      16  \\\n",
       "0  0.0001  1.0001   ...    0.0001  0.0001  0.0001  0.0001  0.0001  0.0001   \n",
       "1  0.0001  0.0001   ...    0.0001  0.0001  0.0001  0.0001  0.0001  0.0001   \n",
       "2  0.0001  0.0001   ...    0.0001  0.0001  0.0001  0.0001  0.0001  0.0001   \n",
       "3  0.0001  0.0001   ...    0.0001  0.0001  0.0001  0.0001  0.0001  0.0001   \n",
       "\n",
       "       17      18      19      20  \n",
       "0  0.0001  0.0001  0.0001  0.0001  \n",
       "1  0.0001  0.0001  0.0001  0.0001  \n",
       "2  0.0001  0.0001  0.0001  0.0001  \n",
       "3  0.0001  0.0001  1.0001  0.0001  \n",
       "\n",
       "[4 rows x 38 columns]"
      ]
     },
     "execution_count": 64,
     "metadata": {},
     "output_type": "execute_result"
    }
   ],
   "source": [
    "# Concatenate all clustered and scaled features into new dataframe\n",
    "XX_enm = pd.concat([Xc_enm,Xf_enm_red,Xp_enm_red], axis=1)\n",
    "XX_enm.loc[0:3,]"
   ]
  },
  {
   "cell_type": "markdown",
   "metadata": {},
   "source": [
    "# Core models"
   ]
  },
  {
   "cell_type": "markdown",
   "metadata": {},
   "source": [
    "## Model with clustering, regression"
   ]
  },
  {
   "cell_type": "code",
   "execution_count": 189,
   "metadata": {
    "ExecuteTime": {
     "end_time": "2018-05-29T08:50:05.891453Z",
     "start_time": "2018-05-29T08:50:05.880957Z"
    },
    "collapsed": true
   },
   "outputs": [],
   "source": [
    "# Define sets of models and their respective parameters to compare\n",
    "# The first dictionary contains the models to be scored\n",
    "# while the second contains the parameters for each model\n",
    "\n",
    "#from sklearn import model_selection, metrics\n",
    "from sklearn.svm import SVR\n",
    "from sklearn.ensemble import RandomForestRegressor\n",
    "\n",
    "njobs=3\n",
    "models3 = {\n",
    "    'RandomForest': RandomForestRegressor(),\n",
    "    'SVR': SVR()\n",
    "}\n",
    "\n",
    "params3 = {\n",
    "    'RandomForest': { 'n_estimators': [16, 32] },\n",
    "    'SVR': [\n",
    "        {'kernel': ['linear'], 'C': [1, 10]},\n",
    "        {'kernel': ['rbf'], 'C': [1, 10], 'gamma': [0.001, 0.0001]},\n",
    "    ]\n",
    "}"
   ]
  },
  {
   "cell_type": "code",
   "execution_count": 190,
   "metadata": {
    "ExecuteTime": {
     "end_time": "2018-05-29T09:04:10.205195Z",
     "start_time": "2018-05-29T08:50:13.995472Z"
    }
   },
   "outputs": [
    {
     "name": "stdout",
     "output_type": "stream",
     "text": [
      "Running GridSearchCV for RandomForest.\n",
      "Fitting 4 folds for each of 2 candidates, totalling 8 fits\n",
      "Running GridSearchCV for SVR.\n",
      "Fitting 4 folds for each of 6 candidates, totalling 24 fits\n"
     ]
    },
    {
     "name": "stderr",
     "output_type": "stream",
     "text": [
      "[Parallel(n_jobs=3)]: Done   8 out of   8 | elapsed:   13.7s finished\n",
      "[Parallel(n_jobs=3)]: Done  24 out of  24 | elapsed: 13.7min finished\n"
     ]
    }
   ],
   "source": [
    "# Fit gridsearch models to select best estimator\n",
    "\n",
    "helper3 = EstimatorSelectionHelper(models3, params3)\n",
    "helper3.fit(XX_enm_scaled+0.0001, y_log, n_jobs=n_jobs, scoring='explained_variance') # n_jobs=1 by default"
   ]
  },
  {
   "cell_type": "code",
   "execution_count": 191,
   "metadata": {
    "ExecuteTime": {
     "end_time": "2018-05-29T09:04:17.686994Z",
     "start_time": "2018-05-29T09:04:17.640020Z"
    }
   },
   "outputs": [
    {
     "name": "stdout",
     "output_type": "stream",
     "text": [
      "RandomForest\n",
      "SVR\n"
     ]
    },
    {
     "name": "stderr",
     "output_type": "stream",
     "text": [
      "/anaconda3/lib/python3.6/site-packages/ipykernel_launcher.py:52: FutureWarning: Sorting because non-concatenation axis is not aligned. A future version\n",
      "of pandas will change to not sort by default.\n",
      "\n",
      "To accept the future behavior, pass 'sort=True'.\n",
      "\n",
      "To retain the current behavior and silence the warning, pass sort=False\n",
      "\n"
     ]
    },
    {
     "data": {
      "text/html": [
       "<div>\n",
       "<style scoped>\n",
       "    .dataframe tbody tr th:only-of-type {\n",
       "        vertical-align: middle;\n",
       "    }\n",
       "\n",
       "    .dataframe tbody tr th {\n",
       "        vertical-align: top;\n",
       "    }\n",
       "\n",
       "    .dataframe thead th {\n",
       "        text-align: right;\n",
       "    }\n",
       "</style>\n",
       "<table border=\"1\" class=\"dataframe\">\n",
       "  <thead>\n",
       "    <tr style=\"text-align: right;\">\n",
       "      <th></th>\n",
       "      <th>estimator</th>\n",
       "      <th>min_score</th>\n",
       "      <th>mean_score</th>\n",
       "      <th>max_score</th>\n",
       "      <th>std_score</th>\n",
       "      <th>C</th>\n",
       "      <th>gamma</th>\n",
       "      <th>kernel</th>\n",
       "      <th>n_estimators</th>\n",
       "    </tr>\n",
       "  </thead>\n",
       "  <tbody>\n",
       "    <tr>\n",
       "      <th>6</th>\n",
       "      <td>SVR</td>\n",
       "      <td>0.181408</td>\n",
       "      <td>0.235389</td>\n",
       "      <td>0.333006</td>\n",
       "      <td>0.0581024</td>\n",
       "      <td>10</td>\n",
       "      <td>0.001</td>\n",
       "      <td>rbf</td>\n",
       "      <td>NaN</td>\n",
       "    </tr>\n",
       "    <tr>\n",
       "      <th>7</th>\n",
       "      <td>SVR</td>\n",
       "      <td>0.130657</td>\n",
       "      <td>0.192446</td>\n",
       "      <td>0.263583</td>\n",
       "      <td>0.049459</td>\n",
       "      <td>10</td>\n",
       "      <td>0.0001</td>\n",
       "      <td>rbf</td>\n",
       "      <td>NaN</td>\n",
       "    </tr>\n",
       "    <tr>\n",
       "      <th>4</th>\n",
       "      <td>SVR</td>\n",
       "      <td>0.130558</td>\n",
       "      <td>0.192403</td>\n",
       "      <td>0.263551</td>\n",
       "      <td>0.0494829</td>\n",
       "      <td>1</td>\n",
       "      <td>0.001</td>\n",
       "      <td>rbf</td>\n",
       "      <td>NaN</td>\n",
       "    </tr>\n",
       "    <tr>\n",
       "      <th>2</th>\n",
       "      <td>SVR</td>\n",
       "      <td>-0.0478509</td>\n",
       "      <td>0.119079</td>\n",
       "      <td>0.248771</td>\n",
       "      <td>0.117397</td>\n",
       "      <td>1</td>\n",
       "      <td>NaN</td>\n",
       "      <td>linear</td>\n",
       "      <td>NaN</td>\n",
       "    </tr>\n",
       "    <tr>\n",
       "      <th>5</th>\n",
       "      <td>SVR</td>\n",
       "      <td>0.0314226</td>\n",
       "      <td>0.0573698</td>\n",
       "      <td>0.069992</td>\n",
       "      <td>0.0153253</td>\n",
       "      <td>1</td>\n",
       "      <td>0.0001</td>\n",
       "      <td>rbf</td>\n",
       "      <td>NaN</td>\n",
       "    </tr>\n",
       "    <tr>\n",
       "      <th>3</th>\n",
       "      <td>SVR</td>\n",
       "      <td>-0.131118</td>\n",
       "      <td>0.0404863</td>\n",
       "      <td>0.222609</td>\n",
       "      <td>0.125494</td>\n",
       "      <td>10</td>\n",
       "      <td>NaN</td>\n",
       "      <td>linear</td>\n",
       "      <td>NaN</td>\n",
       "    </tr>\n",
       "    <tr>\n",
       "      <th>0</th>\n",
       "      <td>RandomForest</td>\n",
       "      <td>-1.08712</td>\n",
       "      <td>-0.101413</td>\n",
       "      <td>0.293497</td>\n",
       "      <td>0.570551</td>\n",
       "      <td>NaN</td>\n",
       "      <td>NaN</td>\n",
       "      <td>NaN</td>\n",
       "      <td>16</td>\n",
       "    </tr>\n",
       "    <tr>\n",
       "      <th>1</th>\n",
       "      <td>RandomForest</td>\n",
       "      <td>-1.71474</td>\n",
       "      <td>-0.236531</td>\n",
       "      <td>0.368963</td>\n",
       "      <td>0.857433</td>\n",
       "      <td>NaN</td>\n",
       "      <td>NaN</td>\n",
       "      <td>NaN</td>\n",
       "      <td>32</td>\n",
       "    </tr>\n",
       "  </tbody>\n",
       "</table>\n",
       "</div>"
      ],
      "text/plain": [
       "      estimator  min_score mean_score max_score  std_score    C   gamma  \\\n",
       "6           SVR   0.181408   0.235389  0.333006  0.0581024   10   0.001   \n",
       "7           SVR   0.130657   0.192446  0.263583   0.049459   10  0.0001   \n",
       "4           SVR   0.130558   0.192403  0.263551  0.0494829    1   0.001   \n",
       "2           SVR -0.0478509   0.119079  0.248771   0.117397    1     NaN   \n",
       "5           SVR  0.0314226  0.0573698  0.069992  0.0153253    1  0.0001   \n",
       "3           SVR  -0.131118  0.0404863  0.222609   0.125494   10     NaN   \n",
       "0  RandomForest   -1.08712  -0.101413  0.293497   0.570551  NaN     NaN   \n",
       "1  RandomForest   -1.71474  -0.236531  0.368963   0.857433  NaN     NaN   \n",
       "\n",
       "   kernel n_estimators  \n",
       "6     rbf          NaN  \n",
       "7     rbf          NaN  \n",
       "4     rbf          NaN  \n",
       "2  linear          NaN  \n",
       "5     rbf          NaN  \n",
       "3  linear          NaN  \n",
       "0     NaN           16  \n",
       "1     NaN           32  "
      ]
     },
     "execution_count": 191,
     "metadata": {},
     "output_type": "execute_result"
    }
   ],
   "source": [
    "# Compare performance for estimators\n",
    "helper3.score_summary(sort_by='mean_score')"
   ]
  },
  {
   "cell_type": "markdown",
   "metadata": {},
   "source": [
    "## Model with PCA, regression"
   ]
  },
  {
   "cell_type": "code",
   "execution_count": 195,
   "metadata": {
    "ExecuteTime": {
     "end_time": "2018-05-29T09:25:25.233932Z",
     "start_time": "2018-05-29T09:18:30.231242Z"
    }
   },
   "outputs": [
    {
     "name": "stdout",
     "output_type": "stream",
     "text": [
      "Running GridSearchCV for RandomForest.\n",
      "Fitting 4 folds for each of 2 candidates, totalling 8 fits\n",
      "Running GridSearchCV for SVR.\n",
      "Fitting 4 folds for each of 6 candidates, totalling 24 fits\n"
     ]
    },
    {
     "name": "stderr",
     "output_type": "stream",
     "text": [
      "[Parallel(n_jobs=3)]: Done   8 out of   8 | elapsed:   24.1s finished\n",
      "[Parallel(n_jobs=3)]: Done  24 out of  24 | elapsed:  6.5min finished\n"
     ]
    }
   ],
   "source": [
    "# Fit gridsearch models to select best estimator\n",
    "\n",
    "helper2 = EstimatorSelectionHelper(models3, params3)\n",
    "helper2.fit(dim_red, y_log, n_jobs=n_jobs, scoring='explained_variance') # n_jobs=1 by default"
   ]
  },
  {
   "cell_type": "code",
   "execution_count": 196,
   "metadata": {
    "ExecuteTime": {
     "end_time": "2018-05-29T09:25:35.115722Z",
     "start_time": "2018-05-29T09:25:35.076453Z"
    }
   },
   "outputs": [
    {
     "name": "stdout",
     "output_type": "stream",
     "text": [
      "RandomForest\n",
      "SVR\n"
     ]
    },
    {
     "name": "stderr",
     "output_type": "stream",
     "text": [
      "/anaconda3/lib/python3.6/site-packages/ipykernel_launcher.py:52: FutureWarning: Sorting because non-concatenation axis is not aligned. A future version\n",
      "of pandas will change to not sort by default.\n",
      "\n",
      "To accept the future behavior, pass 'sort=True'.\n",
      "\n",
      "To retain the current behavior and silence the warning, pass sort=False\n",
      "\n"
     ]
    },
    {
     "data": {
      "text/html": [
       "<div>\n",
       "<style scoped>\n",
       "    .dataframe tbody tr th:only-of-type {\n",
       "        vertical-align: middle;\n",
       "    }\n",
       "\n",
       "    .dataframe tbody tr th {\n",
       "        vertical-align: top;\n",
       "    }\n",
       "\n",
       "    .dataframe thead th {\n",
       "        text-align: right;\n",
       "    }\n",
       "</style>\n",
       "<table border=\"1\" class=\"dataframe\">\n",
       "  <thead>\n",
       "    <tr style=\"text-align: right;\">\n",
       "      <th></th>\n",
       "      <th>estimator</th>\n",
       "      <th>min_score</th>\n",
       "      <th>mean_score</th>\n",
       "      <th>max_score</th>\n",
       "      <th>std_score</th>\n",
       "      <th>C</th>\n",
       "      <th>gamma</th>\n",
       "      <th>kernel</th>\n",
       "      <th>n_estimators</th>\n",
       "    </tr>\n",
       "  </thead>\n",
       "  <tbody>\n",
       "    <tr>\n",
       "      <th>4</th>\n",
       "      <td>SVR</td>\n",
       "      <td>0.162767</td>\n",
       "      <td>0.208766</td>\n",
       "      <td>0.2824</td>\n",
       "      <td>0.0463174</td>\n",
       "      <td>1</td>\n",
       "      <td>0.001</td>\n",
       "      <td>rbf</td>\n",
       "      <td>NaN</td>\n",
       "    </tr>\n",
       "    <tr>\n",
       "      <th>7</th>\n",
       "      <td>SVR</td>\n",
       "      <td>0.162846</td>\n",
       "      <td>0.208663</td>\n",
       "      <td>0.282249</td>\n",
       "      <td>0.04622</td>\n",
       "      <td>10</td>\n",
       "      <td>0.0001</td>\n",
       "      <td>rbf</td>\n",
       "      <td>NaN</td>\n",
       "    </tr>\n",
       "    <tr>\n",
       "      <th>6</th>\n",
       "      <td>SVR</td>\n",
       "      <td>0.0843965</td>\n",
       "      <td>0.19016</td>\n",
       "      <td>0.336038</td>\n",
       "      <td>0.0982342</td>\n",
       "      <td>10</td>\n",
       "      <td>0.001</td>\n",
       "      <td>rbf</td>\n",
       "      <td>NaN</td>\n",
       "    </tr>\n",
       "    <tr>\n",
       "      <th>2</th>\n",
       "      <td>SVR</td>\n",
       "      <td>-0.0441376</td>\n",
       "      <td>0.13565</td>\n",
       "      <td>0.330196</td>\n",
       "      <td>0.150264</td>\n",
       "      <td>1</td>\n",
       "      <td>NaN</td>\n",
       "      <td>linear</td>\n",
       "      <td>NaN</td>\n",
       "    </tr>\n",
       "    <tr>\n",
       "      <th>3</th>\n",
       "      <td>SVR</td>\n",
       "      <td>-0.0456671</td>\n",
       "      <td>0.134709</td>\n",
       "      <td>0.32938</td>\n",
       "      <td>0.150663</td>\n",
       "      <td>10</td>\n",
       "      <td>NaN</td>\n",
       "      <td>linear</td>\n",
       "      <td>NaN</td>\n",
       "    </tr>\n",
       "    <tr>\n",
       "      <th>1</th>\n",
       "      <td>RandomForest</td>\n",
       "      <td>-0.0299161</td>\n",
       "      <td>0.103178</td>\n",
       "      <td>0.241841</td>\n",
       "      <td>0.130373</td>\n",
       "      <td>NaN</td>\n",
       "      <td>NaN</td>\n",
       "      <td>NaN</td>\n",
       "      <td>32</td>\n",
       "    </tr>\n",
       "    <tr>\n",
       "      <th>0</th>\n",
       "      <td>RandomForest</td>\n",
       "      <td>-0.0595416</td>\n",
       "      <td>0.0962785</td>\n",
       "      <td>0.232918</td>\n",
       "      <td>0.132716</td>\n",
       "      <td>NaN</td>\n",
       "      <td>NaN</td>\n",
       "      <td>NaN</td>\n",
       "      <td>16</td>\n",
       "    </tr>\n",
       "    <tr>\n",
       "      <th>5</th>\n",
       "      <td>SVR</td>\n",
       "      <td>0.0479669</td>\n",
       "      <td>0.0909964</td>\n",
       "      <td>0.118614</td>\n",
       "      <td>0.0271788</td>\n",
       "      <td>1</td>\n",
       "      <td>0.0001</td>\n",
       "      <td>rbf</td>\n",
       "      <td>NaN</td>\n",
       "    </tr>\n",
       "  </tbody>\n",
       "</table>\n",
       "</div>"
      ],
      "text/plain": [
       "      estimator  min_score mean_score max_score  std_score    C   gamma  \\\n",
       "4           SVR   0.162767   0.208766    0.2824  0.0463174    1   0.001   \n",
       "7           SVR   0.162846   0.208663  0.282249    0.04622   10  0.0001   \n",
       "6           SVR  0.0843965    0.19016  0.336038  0.0982342   10   0.001   \n",
       "2           SVR -0.0441376    0.13565  0.330196   0.150264    1     NaN   \n",
       "3           SVR -0.0456671   0.134709   0.32938   0.150663   10     NaN   \n",
       "1  RandomForest -0.0299161   0.103178  0.241841   0.130373  NaN     NaN   \n",
       "0  RandomForest -0.0595416  0.0962785  0.232918   0.132716  NaN     NaN   \n",
       "5           SVR  0.0479669  0.0909964  0.118614  0.0271788    1  0.0001   \n",
       "\n",
       "   kernel n_estimators  \n",
       "4     rbf          NaN  \n",
       "7     rbf          NaN  \n",
       "6     rbf          NaN  \n",
       "2  linear          NaN  \n",
       "3  linear          NaN  \n",
       "1     NaN           32  \n",
       "0     NaN           16  \n",
       "5     rbf          NaN  "
      ]
     },
     "execution_count": 196,
     "metadata": {},
     "output_type": "execute_result"
    }
   ],
   "source": [
    "# Compare performance for estimators\n",
    "helper2.score_summary(sort_by='mean_score')"
   ]
  },
  {
   "cell_type": "code",
   "execution_count": 109,
   "metadata": {
    "ExecuteTime": {
     "end_time": "2018-05-23T16:06:30.182575Z",
     "start_time": "2018-05-22T22:45:10.760054Z"
    }
   },
   "outputs": [
    {
     "name": "stdout",
     "output_type": "stream",
     "text": [
      "{'estimator__C': 5, 'estimator__gamma': 0.001}\n",
      "0.189540980007\n"
     ]
    }
   ],
   "source": [
    "# Pipeline/GridSearch to find best optimized model\n",
    "# after selecting ideal estimator\n",
    "\n",
    "# Pipeline\n",
    "estimator = SVR(kernel='rbf')\n",
    "prepipe = Pipeline([\n",
    "    ('scale', MinMaxScaler()),\n",
    "    ('estimator', estimator)\n",
    "])\n",
    "\n",
    "# Set parameter ranges for gridsearch\n",
    "cv=4\n",
    "n_jobs=3\n",
    "c_set=[5,10,15]\n",
    "gamma_set=[0.001,0.01]\n",
    "\n",
    "# Gridsearch\n",
    "param_grid={'estimator__C': c_set,\n",
    "            'estimator__gamma': gamma_set\n",
    "           }\n",
    "grid_search=GridSearchCV(prepipe,param_grid,cv=cv,scoring='explained_variance', n_jobs=n_jobs, pre_dispatch=2*n_jobs)\n",
    "#grid_search.fit(XX,y_log)\n",
    "grid_search.fit(XX+.0001,y_log)\n",
    "print(grid_search.best_params_)\n",
    "print(grid_search.best_score_)"
   ]
  },
  {
   "cell_type": "markdown",
   "metadata": {},
   "source": [
    "Try after adding 10^-6 to y_log"
   ]
  },
  {
   "cell_type": "code",
   "execution_count": 228,
   "metadata": {
    "ExecuteTime": {
     "end_time": "2018-06-14T17:29:24.200807Z",
     "start_time": "2018-06-14T17:25:23.925035Z"
    }
   },
   "outputs": [
    {
     "name": "stdout",
     "output_type": "stream",
     "text": [
      "{'estimator__C': 5, 'estimator__gamma': 0.0003}\n",
      "0.247951378691\n"
     ]
    }
   ],
   "source": [
    "# Pipeline/GridSearch to find best optimized model\n",
    "# after selecting ideal estimator\n",
    "\n",
    "# Pipeline\n",
    "estimator = SVR(kernel='rbf')\n",
    "prepipe = Pipeline([\n",
    "    ('scale', MinMaxScaler()),\n",
    "    ('estimator', estimator)\n",
    "])\n",
    "\n",
    "# Set parameter ranges for gridsearch\n",
    "cv=4\n",
    "n_jobs=3\n",
    "c_set=[5]\n",
    "gamma_set=[0.0003]\n",
    "\n",
    "# Gridsearch\n",
    "param_grid={'estimator__C': c_set,\n",
    "            'estimator__gamma': gamma_set\n",
    "           }\n",
    "grid_search=GridSearchCV(prepipe,param_grid,cv=cv,scoring='explained_variance', n_jobs=n_jobs, pre_dispatch=2*n_jobs)\n",
    "#grid_search.fit(XX,y_log)\n",
    "grid_search.fit(XX+.0001,y_log)\n",
    "print(grid_search.best_params_)\n",
    "print(grid_search.best_score_)"
   ]
  },
  {
   "cell_type": "markdown",
   "metadata": {},
   "source": [
    "### Evaluate model without product categories"
   ]
  },
  {
   "cell_type": "code",
   "execution_count": 192,
   "metadata": {
    "ExecuteTime": {
     "end_time": "2018-05-29T09:08:40.011378Z",
     "start_time": "2018-05-29T09:08:39.981269Z"
    }
   },
   "outputs": [
    {
     "name": "stdout",
     "output_type": "stream",
     "text": [
      "(18466, 42)\n"
     ]
    }
   ],
   "source": [
    "# Concatenate all clustered and scaled features into new dataframe\n",
    "XXwo = pd.concat([Xc_scaleddf,Xf_reddf], axis=1)\n",
    "XXwo_scaled=np.array(XXwo)\n",
    "print(XXwo_scaled.shape)"
   ]
  },
  {
   "cell_type": "code",
   "execution_count": 193,
   "metadata": {
    "ExecuteTime": {
     "end_time": "2018-05-29T09:14:08.087881Z",
     "start_time": "2018-05-29T09:09:03.016596Z"
    }
   },
   "outputs": [
    {
     "name": "stdout",
     "output_type": "stream",
     "text": [
      "Running GridSearchCV for RandomForest.\n",
      "Fitting 4 folds for each of 2 candidates, totalling 8 fits\n",
      "Running GridSearchCV for SVR.\n",
      "Fitting 4 folds for each of 6 candidates, totalling 24 fits\n"
     ]
    },
    {
     "name": "stderr",
     "output_type": "stream",
     "text": [
      "[Parallel(n_jobs=3)]: Done   8 out of   8 | elapsed:    3.8s finished\n",
      "[Parallel(n_jobs=3)]: Done  24 out of  24 | elapsed:  5.0min finished\n"
     ]
    }
   ],
   "source": [
    "# Fit gridsearch models to select best estimator\n",
    "# estimated variance\n",
    "\n",
    "helper3 = EstimatorSelectionHelper(models3, params3)\n",
    "helper3.fit(XXwo_scaled+0.0001, y_log, n_jobs=n_jobs, scoring='explained_variance') "
   ]
  },
  {
   "cell_type": "code",
   "execution_count": 194,
   "metadata": {
    "ExecuteTime": {
     "end_time": "2018-05-29T09:15:47.118743Z",
     "start_time": "2018-05-29T09:15:47.080917Z"
    }
   },
   "outputs": [
    {
     "name": "stdout",
     "output_type": "stream",
     "text": [
      "RandomForest\n",
      "SVR\n"
     ]
    },
    {
     "name": "stderr",
     "output_type": "stream",
     "text": [
      "/anaconda3/lib/python3.6/site-packages/ipykernel_launcher.py:52: FutureWarning: Sorting because non-concatenation axis is not aligned. A future version\n",
      "of pandas will change to not sort by default.\n",
      "\n",
      "To accept the future behavior, pass 'sort=True'.\n",
      "\n",
      "To retain the current behavior and silence the warning, pass sort=False\n",
      "\n"
     ]
    },
    {
     "data": {
      "text/html": [
       "<div>\n",
       "<style scoped>\n",
       "    .dataframe tbody tr th:only-of-type {\n",
       "        vertical-align: middle;\n",
       "    }\n",
       "\n",
       "    .dataframe tbody tr th {\n",
       "        vertical-align: top;\n",
       "    }\n",
       "\n",
       "    .dataframe thead th {\n",
       "        text-align: right;\n",
       "    }\n",
       "</style>\n",
       "<table border=\"1\" class=\"dataframe\">\n",
       "  <thead>\n",
       "    <tr style=\"text-align: right;\">\n",
       "      <th></th>\n",
       "      <th>estimator</th>\n",
       "      <th>min_score</th>\n",
       "      <th>mean_score</th>\n",
       "      <th>max_score</th>\n",
       "      <th>std_score</th>\n",
       "      <th>C</th>\n",
       "      <th>gamma</th>\n",
       "      <th>kernel</th>\n",
       "      <th>n_estimators</th>\n",
       "    </tr>\n",
       "  </thead>\n",
       "  <tbody>\n",
       "    <tr>\n",
       "      <th>6</th>\n",
       "      <td>SVR</td>\n",
       "      <td>0.0918576</td>\n",
       "      <td>0.190195</td>\n",
       "      <td>0.27218</td>\n",
       "      <td>0.0645974</td>\n",
       "      <td>10</td>\n",
       "      <td>0.001</td>\n",
       "      <td>rbf</td>\n",
       "      <td>NaN</td>\n",
       "    </tr>\n",
       "    <tr>\n",
       "      <th>7</th>\n",
       "      <td>SVR</td>\n",
       "      <td>0.11591</td>\n",
       "      <td>0.17574</td>\n",
       "      <td>0.245221</td>\n",
       "      <td>0.0525884</td>\n",
       "      <td>10</td>\n",
       "      <td>0.0001</td>\n",
       "      <td>rbf</td>\n",
       "      <td>NaN</td>\n",
       "    </tr>\n",
       "    <tr>\n",
       "      <th>4</th>\n",
       "      <td>SVR</td>\n",
       "      <td>0.115861</td>\n",
       "      <td>0.175737</td>\n",
       "      <td>0.245163</td>\n",
       "      <td>0.0525934</td>\n",
       "      <td>1</td>\n",
       "      <td>0.001</td>\n",
       "      <td>rbf</td>\n",
       "      <td>NaN</td>\n",
       "    </tr>\n",
       "    <tr>\n",
       "      <th>5</th>\n",
       "      <td>SVR</td>\n",
       "      <td>0.0293069</td>\n",
       "      <td>0.0543393</td>\n",
       "      <td>0.0665254</td>\n",
       "      <td>0.0150271</td>\n",
       "      <td>1</td>\n",
       "      <td>0.0001</td>\n",
       "      <td>rbf</td>\n",
       "      <td>NaN</td>\n",
       "    </tr>\n",
       "    <tr>\n",
       "      <th>2</th>\n",
       "      <td>SVR</td>\n",
       "      <td>-0.081444</td>\n",
       "      <td>0.0526751</td>\n",
       "      <td>0.200449</td>\n",
       "      <td>0.1235</td>\n",
       "      <td>1</td>\n",
       "      <td>NaN</td>\n",
       "      <td>linear</td>\n",
       "      <td>NaN</td>\n",
       "    </tr>\n",
       "    <tr>\n",
       "      <th>0</th>\n",
       "      <td>RandomForest</td>\n",
       "      <td>-0.270645</td>\n",
       "      <td>0.0366894</td>\n",
       "      <td>0.323001</td>\n",
       "      <td>0.22152</td>\n",
       "      <td>NaN</td>\n",
       "      <td>NaN</td>\n",
       "      <td>NaN</td>\n",
       "      <td>16</td>\n",
       "    </tr>\n",
       "    <tr>\n",
       "      <th>3</th>\n",
       "      <td>SVR</td>\n",
       "      <td>-0.19972</td>\n",
       "      <td>-0.0373581</td>\n",
       "      <td>0.172809</td>\n",
       "      <td>0.135355</td>\n",
       "      <td>10</td>\n",
       "      <td>NaN</td>\n",
       "      <td>linear</td>\n",
       "      <td>NaN</td>\n",
       "    </tr>\n",
       "    <tr>\n",
       "      <th>1</th>\n",
       "      <td>RandomForest</td>\n",
       "      <td>-0.508223</td>\n",
       "      <td>-0.051572</td>\n",
       "      <td>0.312178</td>\n",
       "      <td>0.320532</td>\n",
       "      <td>NaN</td>\n",
       "      <td>NaN</td>\n",
       "      <td>NaN</td>\n",
       "      <td>32</td>\n",
       "    </tr>\n",
       "  </tbody>\n",
       "</table>\n",
       "</div>"
      ],
      "text/plain": [
       "      estimator  min_score mean_score  max_score  std_score    C   gamma  \\\n",
       "6           SVR  0.0918576   0.190195    0.27218  0.0645974   10   0.001   \n",
       "7           SVR    0.11591    0.17574   0.245221  0.0525884   10  0.0001   \n",
       "4           SVR   0.115861   0.175737   0.245163  0.0525934    1   0.001   \n",
       "5           SVR  0.0293069  0.0543393  0.0665254  0.0150271    1  0.0001   \n",
       "2           SVR  -0.081444  0.0526751   0.200449     0.1235    1     NaN   \n",
       "0  RandomForest  -0.270645  0.0366894   0.323001    0.22152  NaN     NaN   \n",
       "3           SVR   -0.19972 -0.0373581   0.172809   0.135355   10     NaN   \n",
       "1  RandomForest  -0.508223  -0.051572   0.312178   0.320532  NaN     NaN   \n",
       "\n",
       "   kernel n_estimators  \n",
       "6     rbf          NaN  \n",
       "7     rbf          NaN  \n",
       "4     rbf          NaN  \n",
       "5     rbf          NaN  \n",
       "2  linear          NaN  \n",
       "0     NaN           16  \n",
       "3  linear          NaN  \n",
       "1     NaN           32  "
      ]
     },
     "execution_count": 194,
     "metadata": {},
     "output_type": "execute_result"
    }
   ],
   "source": [
    "# Compare performance for estimators\n",
    "helper3.score_summary(sort_by='mean_score')"
   ]
  },
  {
   "cell_type": "markdown",
   "metadata": {},
   "source": [
    "## Model with PCA, WF Bins"
   ]
  },
  {
   "cell_type": "code",
   "execution_count": 535,
   "metadata": {
    "ExecuteTime": {
     "end_time": "2018-08-03T20:59:27.119715Z",
     "start_time": "2018-08-03T20:59:26.556578Z"
    },
    "collapsed": true
   },
   "outputs": [],
   "source": [
    "# PREP DATA\n",
    "\n",
    "# Scale the data first (i.e., the chemical properties) so everything is from 0 to 1\n",
    "from sklearn.preprocessing import MinMaxScaler\n",
    "scaler = MinMaxScaler()\n",
    "wf_scaled = scaler.fit_transform(wfdata)\n",
    "\n",
    "from sklearn import decomposition \n",
    "pca=decomposition.PCA(n_components=46)\n",
    "dim_red=pca.fit_transform(wf_scaled)"
   ]
  },
  {
   "cell_type": "markdown",
   "metadata": {},
   "source": [
    "Define helper class from earlier."
   ]
  },
  {
   "cell_type": "code",
   "execution_count": 536,
   "metadata": {
    "ExecuteTime": {
     "end_time": "2018-08-03T20:59:51.433541Z",
     "start_time": "2018-08-03T20:59:51.309713Z"
    },
    "collapsed": true
   },
   "outputs": [],
   "source": [
    "# Set up for grid search across multiple pipelines\n",
    "from sklearn.model_selection import GridSearchCV\n",
    "\n",
    "cv=5\n",
    "class EstimatorSelectionHelper:\n",
    "\n",
    "    def __init__(self, models, params):\n",
    "        if not set(models.keys()).issubset(set(params.keys())):\n",
    "            missing_params = list(set(models.keys()) - set(params.keys()))\n",
    "            raise ValueError(\"Some estimators are missing parameters: %s\" % missing_params)\n",
    "        self.models = models\n",
    "        self.params = params\n",
    "        self.keys = models.keys()\n",
    "        self.grid_searches = {}\n",
    "\n",
    "    def fit(self, X, y, cv=cv, n_jobs=1, verbose=1, scoring='accuracy', refit=False):\n",
    "        for key in self.keys:\n",
    "            print(\"Running GridSearchCV for %s.\" % key)\n",
    "            model = self.models[key]\n",
    "            params = self.params[key]\n",
    "            gs = GridSearchCV(model, params, cv=cv, n_jobs=n_jobs,\n",
    "                              verbose=verbose, scoring=scoring, refit=refit,\n",
    "                              return_train_score=True)\n",
    "            gs.fit(X,y)\n",
    "            self.grid_searches[key] = gs    \n",
    "\n",
    "    def score_summary(self, sort_by='mean_score'):\n",
    "        def row(key, scores, params):\n",
    "            d = {\n",
    "                 'estimator': key,\n",
    "                 'min_score': min(scores),\n",
    "                 'max_score': max(scores),\n",
    "                 'mean_score': np.mean(scores),\n",
    "                 'std_score': np.std(scores),\n",
    "            }\n",
    "            return pd.Series({**params,**d})\n",
    "\n",
    "        rows = []\n",
    "        for k in self.grid_searches:\n",
    "            print(k)\n",
    "            params = self.grid_searches[k].cv_results_['params']\n",
    "            scores = []\n",
    "            for i in range(self.grid_searches[k].cv):\n",
    "                key = \"split{}_test_score\".format(i)\n",
    "                r = self.grid_searches[k].cv_results_[key]        \n",
    "                scores.append(r.reshape(len(params),1))\n",
    "\n",
    "            all_scores = np.hstack(scores)\n",
    "            for p, s in zip(params,all_scores):\n",
    "                rows.append((row(k, s, p)))\n",
    "\n",
    "        df = pd.concat(rows, axis=1).T.sort_values([sort_by], ascending=False)\n",
    "\n",
    "        columns = ['estimator', 'min_score', 'mean_score', 'max_score', 'std_score']\n",
    "        columns = columns + [c for c in df.columns if c not in columns]\n",
    "\n",
    "        return df[columns]"
   ]
  },
  {
   "cell_type": "code",
   "execution_count": 537,
   "metadata": {
    "ExecuteTime": {
     "end_time": "2018-08-03T21:00:04.866012Z",
     "start_time": "2018-08-03T21:00:04.854731Z"
    },
    "collapsed": true
   },
   "outputs": [],
   "source": [
    "# Define sets of models and their respective parameters to compare\n",
    "# The first dictionary contains the models to be scored\n",
    "# while the second contains the parameters for each model\n",
    "\n",
    "from sklearn.cluster import FeatureAgglomeration\n",
    "from sklearn.svm import SVC\n",
    "from sklearn.ensemble import RandomForestClassifier\n",
    "\n",
    "cv=5\n",
    "models1 = {\n",
    "    'RandomForest': RandomForestClassifier(),\n",
    "    'SVC': SVC()\n",
    "}\n",
    "\n",
    "params1 = {\n",
    "    'RandomForest': { 'n_estimators': [8, 16] },\n",
    "    'SVC': [\n",
    "        {'kernel': ['linear'], 'C': [1, 5]},\n",
    "        {'kernel': ['rbf'], 'C': [1, 5], 'gamma': [0.001, 0.0001]},\n",
    "    ]\n",
    "}"
   ]
  },
  {
   "cell_type": "code",
   "execution_count": 538,
   "metadata": {
    "ExecuteTime": {
     "end_time": "2018-08-03T21:08:14.621977Z",
     "start_time": "2018-08-03T21:00:14.073609Z"
    }
   },
   "outputs": [
    {
     "name": "stdout",
     "output_type": "stream",
     "text": [
      "Running GridSearchCV for RandomForest.\n",
      "Fitting 5 folds for each of 2 candidates, totalling 10 fits\n",
      "Running GridSearchCV for SVC.\n",
      "Fitting 5 folds for each of 6 candidates, totalling 30 fits\n"
     ]
    },
    {
     "name": "stderr",
     "output_type": "stream",
     "text": [
      "[Parallel(n_jobs=3)]: Done  10 out of  10 | elapsed:    2.9s finished\n",
      "[Parallel(n_jobs=3)]: Done  30 out of  30 | elapsed:  7.9min finished\n"
     ]
    },
    {
     "data": {
      "text/html": [
       "\n",
       "                <audio controls=\"controls\" autoplay=\"autoplay\">\n",
       "                    <source src=\"./data/Glass.wav\" type=\"audio/x-wav\" />\n",
       "                    Your browser does not support the audio element.\n",
       "                </audio>\n",
       "              "
      ],
      "text/plain": [
       "<IPython.lib.display.Audio object>"
      ]
     },
     "execution_count": 538,
     "metadata": {},
     "output_type": "execute_result"
    }
   ],
   "source": [
    "# Fit gridsearch models to select best estimator\n",
    "# Take2\n",
    "helper1 = EstimatorSelectionHelper(models1, params1)\n",
    "helper1.fit(dim_red, bin_num, n_jobs=3) # n_jobs=1 by default\n",
    "\n",
    "# Play sound when done running\n",
    "Audio(url=sound_file, autoplay=True)"
   ]
  },
  {
   "cell_type": "code",
   "execution_count": 539,
   "metadata": {
    "ExecuteTime": {
     "end_time": "2018-08-03T21:24:06.339479Z",
     "start_time": "2018-08-03T21:24:06.287084Z"
    }
   },
   "outputs": [
    {
     "name": "stdout",
     "output_type": "stream",
     "text": [
      "RandomForest\n",
      "SVC\n"
     ]
    },
    {
     "name": "stderr",
     "output_type": "stream",
     "text": [
      "/anaconda3/lib/python3.6/site-packages/ipykernel_launcher.py:52: FutureWarning: Sorting because non-concatenation axis is not aligned. A future version\n",
      "of pandas will change to not sort by default.\n",
      "\n",
      "To accept the future behavior, pass 'sort=True'.\n",
      "\n",
      "To retain the current behavior and silence the warning, pass sort=False\n",
      "\n"
     ]
    },
    {
     "data": {
      "text/html": [
       "<div>\n",
       "<style scoped>\n",
       "    .dataframe tbody tr th:only-of-type {\n",
       "        vertical-align: middle;\n",
       "    }\n",
       "\n",
       "    .dataframe tbody tr th {\n",
       "        vertical-align: top;\n",
       "    }\n",
       "\n",
       "    .dataframe thead th {\n",
       "        text-align: right;\n",
       "    }\n",
       "</style>\n",
       "<table border=\"1\" class=\"dataframe\">\n",
       "  <thead>\n",
       "    <tr style=\"text-align: right;\">\n",
       "      <th></th>\n",
       "      <th>estimator</th>\n",
       "      <th>min_score</th>\n",
       "      <th>mean_score</th>\n",
       "      <th>max_score</th>\n",
       "      <th>std_score</th>\n",
       "      <th>C</th>\n",
       "      <th>gamma</th>\n",
       "      <th>kernel</th>\n",
       "      <th>n_estimators</th>\n",
       "    </tr>\n",
       "  </thead>\n",
       "  <tbody>\n",
       "    <tr>\n",
       "      <th>4</th>\n",
       "      <td>SVC</td>\n",
       "      <td>0.563769</td>\n",
       "      <td>0.666145</td>\n",
       "      <td>0.745395</td>\n",
       "      <td>0.0604423</td>\n",
       "      <td>1</td>\n",
       "      <td>0.001</td>\n",
       "      <td>rbf</td>\n",
       "      <td>NaN</td>\n",
       "    </tr>\n",
       "    <tr>\n",
       "      <th>7</th>\n",
       "      <td>SVC</td>\n",
       "      <td>0.562145</td>\n",
       "      <td>0.657212</td>\n",
       "      <td>0.743229</td>\n",
       "      <td>0.0618239</td>\n",
       "      <td>5</td>\n",
       "      <td>0.0001</td>\n",
       "      <td>rbf</td>\n",
       "      <td>NaN</td>\n",
       "    </tr>\n",
       "    <tr>\n",
       "      <th>6</th>\n",
       "      <td>SVC</td>\n",
       "      <td>0.485784</td>\n",
       "      <td>0.634193</td>\n",
       "      <td>0.74675</td>\n",
       "      <td>0.0967791</td>\n",
       "      <td>5</td>\n",
       "      <td>0.001</td>\n",
       "      <td>rbf</td>\n",
       "      <td>NaN</td>\n",
       "    </tr>\n",
       "    <tr>\n",
       "      <th>2</th>\n",
       "      <td>SVC</td>\n",
       "      <td>0.417276</td>\n",
       "      <td>0.596179</td>\n",
       "      <td>0.737811</td>\n",
       "      <td>0.114214</td>\n",
       "      <td>1</td>\n",
       "      <td>NaN</td>\n",
       "      <td>linear</td>\n",
       "      <td>NaN</td>\n",
       "    </tr>\n",
       "    <tr>\n",
       "      <th>3</th>\n",
       "      <td>SVC</td>\n",
       "      <td>0.419171</td>\n",
       "      <td>0.595204</td>\n",
       "      <td>0.737811</td>\n",
       "      <td>0.112581</td>\n",
       "      <td>5</td>\n",
       "      <td>NaN</td>\n",
       "      <td>linear</td>\n",
       "      <td>NaN</td>\n",
       "    </tr>\n",
       "    <tr>\n",
       "      <th>1</th>\n",
       "      <td>RandomForest</td>\n",
       "      <td>0.434064</td>\n",
       "      <td>0.550362</td>\n",
       "      <td>0.616197</td>\n",
       "      <td>0.0652017</td>\n",
       "      <td>NaN</td>\n",
       "      <td>NaN</td>\n",
       "      <td>NaN</td>\n",
       "      <td>16</td>\n",
       "    </tr>\n",
       "    <tr>\n",
       "      <th>5</th>\n",
       "      <td>SVC</td>\n",
       "      <td>0.515028</td>\n",
       "      <td>0.515109</td>\n",
       "      <td>0.515168</td>\n",
       "      <td>6.57264e-05</td>\n",
       "      <td>1</td>\n",
       "      <td>0.0001</td>\n",
       "      <td>rbf</td>\n",
       "      <td>NaN</td>\n",
       "    </tr>\n",
       "    <tr>\n",
       "      <th>0</th>\n",
       "      <td>RandomForest</td>\n",
       "      <td>0.424316</td>\n",
       "      <td>0.501407</td>\n",
       "      <td>0.532774</td>\n",
       "      <td>0.0400027</td>\n",
       "      <td>NaN</td>\n",
       "      <td>NaN</td>\n",
       "      <td>NaN</td>\n",
       "      <td>8</td>\n",
       "    </tr>\n",
       "  </tbody>\n",
       "</table>\n",
       "</div>"
      ],
      "text/plain": [
       "      estimator min_score mean_score max_score    std_score    C   gamma  \\\n",
       "4           SVC  0.563769   0.666145  0.745395    0.0604423    1   0.001   \n",
       "7           SVC  0.562145   0.657212  0.743229    0.0618239    5  0.0001   \n",
       "6           SVC  0.485784   0.634193   0.74675    0.0967791    5   0.001   \n",
       "2           SVC  0.417276   0.596179  0.737811     0.114214    1     NaN   \n",
       "3           SVC  0.419171   0.595204  0.737811     0.112581    5     NaN   \n",
       "1  RandomForest  0.434064   0.550362  0.616197    0.0652017  NaN     NaN   \n",
       "5           SVC  0.515028   0.515109  0.515168  6.57264e-05    1  0.0001   \n",
       "0  RandomForest  0.424316   0.501407  0.532774    0.0400027  NaN     NaN   \n",
       "\n",
       "   kernel n_estimators  \n",
       "4     rbf          NaN  \n",
       "7     rbf          NaN  \n",
       "6     rbf          NaN  \n",
       "2  linear          NaN  \n",
       "3  linear          NaN  \n",
       "1     NaN           16  \n",
       "5     rbf          NaN  \n",
       "0     NaN            8  "
      ]
     },
     "execution_count": 539,
     "metadata": {},
     "output_type": "execute_result"
    }
   ],
   "source": [
    "# Compare performance for estimators\n",
    "# Explained variance\n",
    "helper1.score_summary(sort_by='mean_score')"
   ]
  },
  {
   "cell_type": "code",
   "execution_count": 540,
   "metadata": {
    "ExecuteTime": {
     "end_time": "2018-08-03T21:27:47.455321Z",
     "start_time": "2018-08-03T21:27:47.443469Z"
    },
    "collapsed": true
   },
   "outputs": [],
   "source": [
    "# Define sets of models and their respective parameters to compare\n",
    "# The first dictionary contains the models to be scored\n",
    "# while the second contains the parameters for each model\n",
    "\n",
    "from sklearn.cluster import FeatureAgglomeration\n",
    "from sklearn.svm import SVC\n",
    "from sklearn.ensemble import RandomForestClassifier\n",
    "\n",
    "cv=5\n",
    "models1 = {\n",
    "    'RandomForest': RandomForestClassifier(),\n",
    "    'SVC': SVC()\n",
    "}\n",
    "\n",
    "params1 = {\n",
    "    'RandomForest': { 'n_estimators': [24] },\n",
    "    'SVC': [\n",
    "        {'kernel': ['linear'], 'C': [3]},\n",
    "        {'kernel': ['rbf'], 'C': [1, 3], 'gamma': [0.001, 0.003, 0.01]},\n",
    "    ]\n",
    "}"
   ]
  },
  {
   "cell_type": "code",
   "execution_count": 541,
   "metadata": {
    "ExecuteTime": {
     "end_time": "2018-08-07T17:57:57.508076Z",
     "start_time": "2018-08-03T21:28:06.482385Z"
    }
   },
   "outputs": [
    {
     "name": "stdout",
     "output_type": "stream",
     "text": [
      "Running GridSearchCV for RandomForest.\n",
      "Fitting 5 folds for each of 1 candidates, totalling 5 fits\n"
     ]
    },
    {
     "ename": "KeyboardInterrupt",
     "evalue": "",
     "output_type": "error",
     "traceback": [
      "\u001b[0;31m---------------------------------------------------------------------------\u001b[0m",
      "\u001b[0;31mRemoteTraceback\u001b[0m                           Traceback (most recent call last)",
      "\u001b[0;31mRemoteTraceback\u001b[0m: \n\"\"\"\nTraceback (most recent call last):\n  File \"/anaconda3/lib/python3.6/site-packages/sklearn/externals/joblib/_parallel_backends.py\", line 350, in __call__\n    return self.func(*args, **kwargs)\n  File \"/anaconda3/lib/python3.6/site-packages/sklearn/externals/joblib/parallel.py\", line 131, in __call__\n    return [func(*args, **kwargs) for func, args, kwargs in self.items]\n  File \"/anaconda3/lib/python3.6/site-packages/sklearn/externals/joblib/parallel.py\", line 131, in <listcomp>\n    return [func(*args, **kwargs) for func, args, kwargs in self.items]\n  File \"/anaconda3/lib/python3.6/site-packages/sklearn/model_selection/_validation.py\", line 458, in _fit_and_score\n    estimator.fit(X_train, y_train, **fit_params)\n  File \"/anaconda3/lib/python3.6/site-packages/sklearn/ensemble/forest.py\", line 247, in fit\n    X = check_array(X, accept_sparse=\"csc\", dtype=DTYPE)\n  File \"/anaconda3/lib/python3.6/site-packages/sklearn/utils/validation.py\", line 453, in check_array\n    _assert_all_finite(array)\n  File \"/anaconda3/lib/python3.6/site-packages/sklearn/utils/validation.py\", line 44, in _assert_all_finite\n    \" or a value too large for %r.\" % X.dtype)\nValueError: Input contains NaN, infinity or a value too large for dtype('float32').\n\nDuring handling of the above exception, another exception occurred:\n\nTraceback (most recent call last):\n  File \"/anaconda3/lib/python3.6/multiprocessing/pool.py\", line 119, in worker\n    result = (True, func(*args, **kwds))\n  File \"/anaconda3/lib/python3.6/site-packages/sklearn/externals/joblib/_parallel_backends.py\", line 359, in __call__\n    raise TransportableException(text, e_type)\nsklearn.externals.joblib.my_exceptions.TransportableException: TransportableException\n___________________________________________________________________________\nValueError                                         Fri Aug  3 17:28:07 2018\nPID: 81077                              Python 3.6.3: /anaconda3/bin/python\n...........................................................................\n/anaconda3/lib/python3.6/site-packages/sklearn/externals/joblib/parallel.py in __call__(self=<sklearn.externals.joblib.parallel.BatchedCalls object>)\n    126     def __init__(self, iterator_slice):\n    127         self.items = list(iterator_slice)\n    128         self._size = len(self.items)\n    129 \n    130     def __call__(self):\n--> 131         return [func(*args, **kwargs) for func, args, kwargs in self.items]\n        self.items = [(<function _fit_and_score>, (RandomForestClassifier(bootstrap=True, class_wei...te=None, verbose=0,\n            warm_start=False), memmap([[  4.98572000e+02,   4.23709000e+00,   2...000000e-04,   1.00000000e-04,   1.00000000e-04]]), array([1, 1, 1, ..., 1, 1, 1]), {'score': make_scorer(accuracy_score)}, array([ 3045,  3046,  3047, ..., 18463, 18464, 18465]), array([   0,    1,    2, ..., 4875, 4876, 4877]), 1, {'n_estimators': 24}), {'error_score': 'raise', 'fit_params': {}, 'return_n_test_samples': True, 'return_parameters': False, 'return_times': True, 'return_train_score': True})]\n    132 \n    133     def __len__(self):\n    134         return self._size\n    135 \n\n...........................................................................\n/anaconda3/lib/python3.6/site-packages/sklearn/externals/joblib/parallel.py in <listcomp>(.0=<list_iterator object>)\n    126     def __init__(self, iterator_slice):\n    127         self.items = list(iterator_slice)\n    128         self._size = len(self.items)\n    129 \n    130     def __call__(self):\n--> 131         return [func(*args, **kwargs) for func, args, kwargs in self.items]\n        func = <function _fit_and_score>\n        args = (RandomForestClassifier(bootstrap=True, class_wei...te=None, verbose=0,\n            warm_start=False), memmap([[  4.98572000e+02,   4.23709000e+00,   2...000000e-04,   1.00000000e-04,   1.00000000e-04]]), array([1, 1, 1, ..., 1, 1, 1]), {'score': make_scorer(accuracy_score)}, array([ 3045,  3046,  3047, ..., 18463, 18464, 18465]), array([   0,    1,    2, ..., 4875, 4876, 4877]), 1, {'n_estimators': 24})\n        kwargs = {'error_score': 'raise', 'fit_params': {}, 'return_n_test_samples': True, 'return_parameters': False, 'return_times': True, 'return_train_score': True}\n    132 \n    133     def __len__(self):\n    134         return self._size\n    135 \n\n...........................................................................\n/anaconda3/lib/python3.6/site-packages/sklearn/model_selection/_validation.py in _fit_and_score(estimator=RandomForestClassifier(bootstrap=True, class_wei...te=None, verbose=0,\n            warm_start=False), X=memmap([[  4.98572000e+02,   4.23709000e+00,   2...000000e-04,   1.00000000e-04,   1.00000000e-04]]), y=array([1, 1, 1, ..., 1, 1, 1]), scorer={'score': make_scorer(accuracy_score)}, train=array([ 3045,  3046,  3047, ..., 18463, 18464, 18465]), test=array([   0,    1,    2, ..., 4875, 4876, 4877]), verbose=1, parameters={'n_estimators': 24}, fit_params={}, return_train_score=True, return_parameters=False, return_n_test_samples=True, return_times=True, error_score='raise')\n    453 \n    454     try:\n    455         if y_train is None:\n    456             estimator.fit(X_train, **fit_params)\n    457         else:\n--> 458             estimator.fit(X_train, y_train, **fit_params)\n        estimator.fit = <bound method BaseForest.fit of RandomForestClas...e=None, verbose=0,\n            warm_start=False)>\n        X_train = memmap([[  2.82468000e+02,   7.52139000e+00,   1...000000e-04,   1.00000000e-04,   1.00000000e-04]])\n        y_train = array([1, 1, 1, ..., 1, 1, 1])\n        fit_params = {}\n    459 \n    460     except Exception as e:\n    461         # Note fit time as time until error\n    462         fit_time = time.time() - start_time\n\n...........................................................................\n/anaconda3/lib/python3.6/site-packages/sklearn/ensemble/forest.py in fit(self=RandomForestClassifier(bootstrap=True, class_wei...te=None, verbose=0,\n            warm_start=False), X=memmap([[  2.82468000e+02,   7.52139000e+00,   1...000000e-04,   1.00000000e-04,   1.00000000e-04]]), y=array([1, 1, 1, ..., 1, 1, 1]), sample_weight=None)\n    242         -------\n    243         self : object\n    244             Returns self.\n    245         \"\"\"\n    246         # Validate or convert input data\n--> 247         X = check_array(X, accept_sparse=\"csc\", dtype=DTYPE)\n        X = memmap([[  2.82468000e+02,   7.52139000e+00,   1...000000e-04,   1.00000000e-04,   1.00000000e-04]])\n    248         y = check_array(y, accept_sparse='csc', ensure_2d=False, dtype=None)\n    249         if sample_weight is not None:\n    250             sample_weight = check_array(sample_weight, ensure_2d=False)\n    251         if issparse(X):\n\n...........................................................................\n/anaconda3/lib/python3.6/site-packages/sklearn/utils/validation.py in check_array(array=array([[  2.82467987e+02,   7.52138996e+00,   1.....99999975e-05,   9.99999975e-05]], dtype=float32), accept_sparse='csc', dtype=<class 'numpy.float32'>, order=None, copy=False, force_all_finite=True, ensure_2d=True, allow_nd=False, ensure_min_samples=1, ensure_min_features=1, warn_on_dtype=False, estimator=None)\n    448             array = array.astype(np.float64)\n    449         if not allow_nd and array.ndim >= 3:\n    450             raise ValueError(\"Found array with dim %d. %s expected <= 2.\"\n    451                              % (array.ndim, estimator_name))\n    452         if force_all_finite:\n--> 453             _assert_all_finite(array)\n        array = array([[  2.82467987e+02,   7.52138996e+00,   1.....99999975e-05,   9.99999975e-05]], dtype=float32)\n    454 \n    455     shape_repr = _shape_repr(array.shape)\n    456     if ensure_min_samples > 0:\n    457         n_samples = _num_samples(array)\n\n...........................................................................\n/anaconda3/lib/python3.6/site-packages/sklearn/utils/validation.py in _assert_all_finite(X=array([[  2.82467987e+02,   7.52138996e+00,   1.....99999975e-05,   9.99999975e-05]], dtype=float32))\n     39     # everything is finite; fall back to O(n) space np.isfinite to prevent\n     40     # false positives from overflow in sum method.\n     41     if (X.dtype.char in np.typecodes['AllFloat'] and not np.isfinite(X.sum())\n     42             and not np.isfinite(X).all()):\n     43         raise ValueError(\"Input contains NaN, infinity\"\n---> 44                          \" or a value too large for %r.\" % X.dtype)\n        X.dtype = dtype('float32')\n     45 \n     46 \n     47 def assert_all_finite(X):\n     48     \"\"\"Throw a ValueError if X contains NaN or infinity.\n\nValueError: Input contains NaN, infinity or a value too large for dtype('float32').\n___________________________________________________________________________\n\"\"\"",
      "\nThe above exception was the direct cause of the following exception:\n",
      "\u001b[0;31mTransportableException\u001b[0m                    Traceback (most recent call last)",
      "\u001b[0;32m/anaconda3/lib/python3.6/site-packages/sklearn/externals/joblib/parallel.py\u001b[0m in \u001b[0;36mretrieve\u001b[0;34m(self)\u001b[0m\n\u001b[1;32m    698\u001b[0m                 \u001b[0;32mif\u001b[0m \u001b[0mgetattr\u001b[0m\u001b[0;34m(\u001b[0m\u001b[0mself\u001b[0m\u001b[0;34m.\u001b[0m\u001b[0m_backend\u001b[0m\u001b[0;34m,\u001b[0m \u001b[0;34m'supports_timeout'\u001b[0m\u001b[0;34m,\u001b[0m \u001b[0;32mFalse\u001b[0m\u001b[0;34m)\u001b[0m\u001b[0;34m:\u001b[0m\u001b[0;34m\u001b[0m\u001b[0m\n\u001b[0;32m--> 699\u001b[0;31m                     \u001b[0mself\u001b[0m\u001b[0;34m.\u001b[0m\u001b[0m_output\u001b[0m\u001b[0;34m.\u001b[0m\u001b[0mextend\u001b[0m\u001b[0;34m(\u001b[0m\u001b[0mjob\u001b[0m\u001b[0;34m.\u001b[0m\u001b[0mget\u001b[0m\u001b[0;34m(\u001b[0m\u001b[0mtimeout\u001b[0m\u001b[0;34m=\u001b[0m\u001b[0mself\u001b[0m\u001b[0;34m.\u001b[0m\u001b[0mtimeout\u001b[0m\u001b[0;34m)\u001b[0m\u001b[0;34m)\u001b[0m\u001b[0;34m\u001b[0m\u001b[0m\n\u001b[0m\u001b[1;32m    700\u001b[0m                 \u001b[0;32melse\u001b[0m\u001b[0;34m:\u001b[0m\u001b[0;34m\u001b[0m\u001b[0m\n",
      "\u001b[0;32m/anaconda3/lib/python3.6/multiprocessing/pool.py\u001b[0m in \u001b[0;36mget\u001b[0;34m(self, timeout)\u001b[0m\n\u001b[1;32m    643\u001b[0m         \u001b[0;32melse\u001b[0m\u001b[0;34m:\u001b[0m\u001b[0;34m\u001b[0m\u001b[0m\n\u001b[0;32m--> 644\u001b[0;31m             \u001b[0;32mraise\u001b[0m \u001b[0mself\u001b[0m\u001b[0;34m.\u001b[0m\u001b[0m_value\u001b[0m\u001b[0;34m\u001b[0m\u001b[0m\n\u001b[0m\u001b[1;32m    645\u001b[0m \u001b[0;34m\u001b[0m\u001b[0m\n",
      "\u001b[0;31mTransportableException\u001b[0m: TransportableException\n___________________________________________________________________________\nValueError                                         Fri Aug  3 17:28:07 2018\nPID: 81077                              Python 3.6.3: /anaconda3/bin/python\n...........................................................................\n/anaconda3/lib/python3.6/site-packages/sklearn/externals/joblib/parallel.py in __call__(self=<sklearn.externals.joblib.parallel.BatchedCalls object>)\n    126     def __init__(self, iterator_slice):\n    127         self.items = list(iterator_slice)\n    128         self._size = len(self.items)\n    129 \n    130     def __call__(self):\n--> 131         return [func(*args, **kwargs) for func, args, kwargs in self.items]\n        self.items = [(<function _fit_and_score>, (RandomForestClassifier(bootstrap=True, class_wei...te=None, verbose=0,\n            warm_start=False), memmap([[  4.98572000e+02,   4.23709000e+00,   2...000000e-04,   1.00000000e-04,   1.00000000e-04]]), array([1, 1, 1, ..., 1, 1, 1]), {'score': make_scorer(accuracy_score)}, array([ 3045,  3046,  3047, ..., 18463, 18464, 18465]), array([   0,    1,    2, ..., 4875, 4876, 4877]), 1, {'n_estimators': 24}), {'error_score': 'raise', 'fit_params': {}, 'return_n_test_samples': True, 'return_parameters': False, 'return_times': True, 'return_train_score': True})]\n    132 \n    133     def __len__(self):\n    134         return self._size\n    135 \n\n...........................................................................\n/anaconda3/lib/python3.6/site-packages/sklearn/externals/joblib/parallel.py in <listcomp>(.0=<list_iterator object>)\n    126     def __init__(self, iterator_slice):\n    127         self.items = list(iterator_slice)\n    128         self._size = len(self.items)\n    129 \n    130     def __call__(self):\n--> 131         return [func(*args, **kwargs) for func, args, kwargs in self.items]\n        func = <function _fit_and_score>\n        args = (RandomForestClassifier(bootstrap=True, class_wei...te=None, verbose=0,\n            warm_start=False), memmap([[  4.98572000e+02,   4.23709000e+00,   2...000000e-04,   1.00000000e-04,   1.00000000e-04]]), array([1, 1, 1, ..., 1, 1, 1]), {'score': make_scorer(accuracy_score)}, array([ 3045,  3046,  3047, ..., 18463, 18464, 18465]), array([   0,    1,    2, ..., 4875, 4876, 4877]), 1, {'n_estimators': 24})\n        kwargs = {'error_score': 'raise', 'fit_params': {}, 'return_n_test_samples': True, 'return_parameters': False, 'return_times': True, 'return_train_score': True}\n    132 \n    133     def __len__(self):\n    134         return self._size\n    135 \n\n...........................................................................\n/anaconda3/lib/python3.6/site-packages/sklearn/model_selection/_validation.py in _fit_and_score(estimator=RandomForestClassifier(bootstrap=True, class_wei...te=None, verbose=0,\n            warm_start=False), X=memmap([[  4.98572000e+02,   4.23709000e+00,   2...000000e-04,   1.00000000e-04,   1.00000000e-04]]), y=array([1, 1, 1, ..., 1, 1, 1]), scorer={'score': make_scorer(accuracy_score)}, train=array([ 3045,  3046,  3047, ..., 18463, 18464, 18465]), test=array([   0,    1,    2, ..., 4875, 4876, 4877]), verbose=1, parameters={'n_estimators': 24}, fit_params={}, return_train_score=True, return_parameters=False, return_n_test_samples=True, return_times=True, error_score='raise')\n    453 \n    454     try:\n    455         if y_train is None:\n    456             estimator.fit(X_train, **fit_params)\n    457         else:\n--> 458             estimator.fit(X_train, y_train, **fit_params)\n        estimator.fit = <bound method BaseForest.fit of RandomForestClas...e=None, verbose=0,\n            warm_start=False)>\n        X_train = memmap([[  2.82468000e+02,   7.52139000e+00,   1...000000e-04,   1.00000000e-04,   1.00000000e-04]])\n        y_train = array([1, 1, 1, ..., 1, 1, 1])\n        fit_params = {}\n    459 \n    460     except Exception as e:\n    461         # Note fit time as time until error\n    462         fit_time = time.time() - start_time\n\n...........................................................................\n/anaconda3/lib/python3.6/site-packages/sklearn/ensemble/forest.py in fit(self=RandomForestClassifier(bootstrap=True, class_wei...te=None, verbose=0,\n            warm_start=False), X=memmap([[  2.82468000e+02,   7.52139000e+00,   1...000000e-04,   1.00000000e-04,   1.00000000e-04]]), y=array([1, 1, 1, ..., 1, 1, 1]), sample_weight=None)\n    242         -------\n    243         self : object\n    244             Returns self.\n    245         \"\"\"\n    246         # Validate or convert input data\n--> 247         X = check_array(X, accept_sparse=\"csc\", dtype=DTYPE)\n        X = memmap([[  2.82468000e+02,   7.52139000e+00,   1...000000e-04,   1.00000000e-04,   1.00000000e-04]])\n    248         y = check_array(y, accept_sparse='csc', ensure_2d=False, dtype=None)\n    249         if sample_weight is not None:\n    250             sample_weight = check_array(sample_weight, ensure_2d=False)\n    251         if issparse(X):\n\n...........................................................................\n/anaconda3/lib/python3.6/site-packages/sklearn/utils/validation.py in check_array(array=array([[  2.82467987e+02,   7.52138996e+00,   1.....99999975e-05,   9.99999975e-05]], dtype=float32), accept_sparse='csc', dtype=<class 'numpy.float32'>, order=None, copy=False, force_all_finite=True, ensure_2d=True, allow_nd=False, ensure_min_samples=1, ensure_min_features=1, warn_on_dtype=False, estimator=None)\n    448             array = array.astype(np.float64)\n    449         if not allow_nd and array.ndim >= 3:\n    450             raise ValueError(\"Found array with dim %d. %s expected <= 2.\"\n    451                              % (array.ndim, estimator_name))\n    452         if force_all_finite:\n--> 453             _assert_all_finite(array)\n        array = array([[  2.82467987e+02,   7.52138996e+00,   1.....99999975e-05,   9.99999975e-05]], dtype=float32)\n    454 \n    455     shape_repr = _shape_repr(array.shape)\n    456     if ensure_min_samples > 0:\n    457         n_samples = _num_samples(array)\n\n...........................................................................\n/anaconda3/lib/python3.6/site-packages/sklearn/utils/validation.py in _assert_all_finite(X=array([[  2.82467987e+02,   7.52138996e+00,   1.....99999975e-05,   9.99999975e-05]], dtype=float32))\n     39     # everything is finite; fall back to O(n) space np.isfinite to prevent\n     40     # false positives from overflow in sum method.\n     41     if (X.dtype.char in np.typecodes['AllFloat'] and not np.isfinite(X.sum())\n     42             and not np.isfinite(X).all()):\n     43         raise ValueError(\"Input contains NaN, infinity\"\n---> 44                          \" or a value too large for %r.\" % X.dtype)\n        X.dtype = dtype('float32')\n     45 \n     46 \n     47 def assert_all_finite(X):\n     48     \"\"\"Throw a ValueError if X contains NaN or infinity.\n\nValueError: Input contains NaN, infinity or a value too large for dtype('float32').\n___________________________________________________________________________",
      "\nDuring handling of the above exception, another exception occurred:\n",
      "\u001b[0;31mKeyboardInterrupt\u001b[0m                         Traceback (most recent call last)",
      "\u001b[0;32m<ipython-input-541-d6c088d19a47>\u001b[0m in \u001b[0;36m<module>\u001b[0;34m()\u001b[0m\n\u001b[1;32m      2\u001b[0m \u001b[0;31m# Clustered data\u001b[0m\u001b[0;34m\u001b[0m\u001b[0;34m\u001b[0m\u001b[0m\n\u001b[1;32m      3\u001b[0m \u001b[0mhelper1\u001b[0m \u001b[0;34m=\u001b[0m \u001b[0mEstimatorSelectionHelper\u001b[0m\u001b[0;34m(\u001b[0m\u001b[0mmodels1\u001b[0m\u001b[0;34m,\u001b[0m \u001b[0mparams1\u001b[0m\u001b[0;34m)\u001b[0m\u001b[0;34m\u001b[0m\u001b[0m\n\u001b[0;32m----> 4\u001b[0;31m \u001b[0mhelper1\u001b[0m\u001b[0;34m.\u001b[0m\u001b[0mfit\u001b[0m\u001b[0;34m(\u001b[0m\u001b[0mXX\u001b[0m\u001b[0;34m,\u001b[0m \u001b[0mbin_num\u001b[0m\u001b[0;34m,\u001b[0m \u001b[0mn_jobs\u001b[0m\u001b[0;34m=\u001b[0m\u001b[0;36m3\u001b[0m\u001b[0;34m)\u001b[0m \u001b[0;31m# n_jobs=1 by default\u001b[0m\u001b[0;34m\u001b[0m\u001b[0m\n\u001b[0m\u001b[1;32m      5\u001b[0m \u001b[0;34m\u001b[0m\u001b[0m\n\u001b[1;32m      6\u001b[0m \u001b[0;31m# Play sound when done running\u001b[0m\u001b[0;34m\u001b[0m\u001b[0;34m\u001b[0m\u001b[0m\n",
      "\u001b[0;32m<ipython-input-536-1c876c6df317>\u001b[0m in \u001b[0;36mfit\u001b[0;34m(self, X, y, cv, n_jobs, verbose, scoring, refit)\u001b[0m\n\u001b[1;32m     22\u001b[0m                               \u001b[0mverbose\u001b[0m\u001b[0;34m=\u001b[0m\u001b[0mverbose\u001b[0m\u001b[0;34m,\u001b[0m \u001b[0mscoring\u001b[0m\u001b[0;34m=\u001b[0m\u001b[0mscoring\u001b[0m\u001b[0;34m,\u001b[0m \u001b[0mrefit\u001b[0m\u001b[0;34m=\u001b[0m\u001b[0mrefit\u001b[0m\u001b[0;34m,\u001b[0m\u001b[0;34m\u001b[0m\u001b[0m\n\u001b[1;32m     23\u001b[0m                               return_train_score=True)\n\u001b[0;32m---> 24\u001b[0;31m             \u001b[0mgs\u001b[0m\u001b[0;34m.\u001b[0m\u001b[0mfit\u001b[0m\u001b[0;34m(\u001b[0m\u001b[0mX\u001b[0m\u001b[0;34m,\u001b[0m\u001b[0my\u001b[0m\u001b[0;34m)\u001b[0m\u001b[0;34m\u001b[0m\u001b[0m\n\u001b[0m\u001b[1;32m     25\u001b[0m             \u001b[0mself\u001b[0m\u001b[0;34m.\u001b[0m\u001b[0mgrid_searches\u001b[0m\u001b[0;34m[\u001b[0m\u001b[0mkey\u001b[0m\u001b[0;34m]\u001b[0m \u001b[0;34m=\u001b[0m \u001b[0mgs\u001b[0m\u001b[0;34m\u001b[0m\u001b[0m\n\u001b[1;32m     26\u001b[0m \u001b[0;34m\u001b[0m\u001b[0m\n",
      "\u001b[0;32m/anaconda3/lib/python3.6/site-packages/sklearn/model_selection/_search.py\u001b[0m in \u001b[0;36mfit\u001b[0;34m(self, X, y, groups, **fit_params)\u001b[0m\n\u001b[1;32m    637\u001b[0m                                   error_score=self.error_score)\n\u001b[1;32m    638\u001b[0m           for parameters, (train, test) in product(candidate_params,\n\u001b[0;32m--> 639\u001b[0;31m                                                    cv.split(X, y, groups)))\n\u001b[0m\u001b[1;32m    640\u001b[0m \u001b[0;34m\u001b[0m\u001b[0m\n\u001b[1;32m    641\u001b[0m         \u001b[0;31m# if one choose to see train score, \"out\" will contain train score info\u001b[0m\u001b[0;34m\u001b[0m\u001b[0;34m\u001b[0m\u001b[0m\n",
      "\u001b[0;32m/anaconda3/lib/python3.6/site-packages/sklearn/externals/joblib/parallel.py\u001b[0m in \u001b[0;36m__call__\u001b[0;34m(self, iterable)\u001b[0m\n\u001b[1;32m    787\u001b[0m                 \u001b[0;31m# consumption.\u001b[0m\u001b[0;34m\u001b[0m\u001b[0;34m\u001b[0m\u001b[0m\n\u001b[1;32m    788\u001b[0m                 \u001b[0mself\u001b[0m\u001b[0;34m.\u001b[0m\u001b[0m_iterating\u001b[0m \u001b[0;34m=\u001b[0m \u001b[0;32mFalse\u001b[0m\u001b[0;34m\u001b[0m\u001b[0m\n\u001b[0;32m--> 789\u001b[0;31m             \u001b[0mself\u001b[0m\u001b[0;34m.\u001b[0m\u001b[0mretrieve\u001b[0m\u001b[0;34m(\u001b[0m\u001b[0;34m)\u001b[0m\u001b[0;34m\u001b[0m\u001b[0m\n\u001b[0m\u001b[1;32m    790\u001b[0m             \u001b[0;31m# Make sure that we get a last message telling us we are done\u001b[0m\u001b[0;34m\u001b[0m\u001b[0;34m\u001b[0m\u001b[0m\n\u001b[1;32m    791\u001b[0m             \u001b[0melapsed_time\u001b[0m \u001b[0;34m=\u001b[0m \u001b[0mtime\u001b[0m\u001b[0;34m.\u001b[0m\u001b[0mtime\u001b[0m\u001b[0;34m(\u001b[0m\u001b[0;34m)\u001b[0m \u001b[0;34m-\u001b[0m \u001b[0mself\u001b[0m\u001b[0;34m.\u001b[0m\u001b[0m_start_time\u001b[0m\u001b[0;34m\u001b[0m\u001b[0m\n",
      "\u001b[0;32m/anaconda3/lib/python3.6/site-packages/sklearn/externals/joblib/parallel.py\u001b[0m in \u001b[0;36mretrieve\u001b[0;34m(self)\u001b[0m\n\u001b[1;32m    719\u001b[0m                     \u001b[0;31m# scheduling.\u001b[0m\u001b[0;34m\u001b[0m\u001b[0;34m\u001b[0m\u001b[0m\n\u001b[1;32m    720\u001b[0m                     \u001b[0mensure_ready\u001b[0m \u001b[0;34m=\u001b[0m \u001b[0mself\u001b[0m\u001b[0;34m.\u001b[0m\u001b[0m_managed_backend\u001b[0m\u001b[0;34m\u001b[0m\u001b[0m\n\u001b[0;32m--> 721\u001b[0;31m                     \u001b[0mbackend\u001b[0m\u001b[0;34m.\u001b[0m\u001b[0mabort_everything\u001b[0m\u001b[0;34m(\u001b[0m\u001b[0mensure_ready\u001b[0m\u001b[0;34m=\u001b[0m\u001b[0mensure_ready\u001b[0m\u001b[0;34m)\u001b[0m\u001b[0;34m\u001b[0m\u001b[0m\n\u001b[0m\u001b[1;32m    722\u001b[0m \u001b[0;34m\u001b[0m\u001b[0m\n\u001b[1;32m    723\u001b[0m                 \u001b[0;32mif\u001b[0m \u001b[0;32mnot\u001b[0m \u001b[0misinstance\u001b[0m\u001b[0;34m(\u001b[0m\u001b[0mexception\u001b[0m\u001b[0;34m,\u001b[0m \u001b[0mTransportableException\u001b[0m\u001b[0;34m)\u001b[0m\u001b[0;34m:\u001b[0m\u001b[0;34m\u001b[0m\u001b[0m\n",
      "\u001b[0;32m/anaconda3/lib/python3.6/site-packages/sklearn/externals/joblib/_parallel_backends.py\u001b[0m in \u001b[0;36mabort_everything\u001b[0;34m(self, ensure_ready)\u001b[0m\n\u001b[1;32m    143\u001b[0m     \u001b[0;32mdef\u001b[0m \u001b[0mabort_everything\u001b[0m\u001b[0;34m(\u001b[0m\u001b[0mself\u001b[0m\u001b[0;34m,\u001b[0m \u001b[0mensure_ready\u001b[0m\u001b[0;34m=\u001b[0m\u001b[0;32mTrue\u001b[0m\u001b[0;34m)\u001b[0m\u001b[0;34m:\u001b[0m\u001b[0;34m\u001b[0m\u001b[0m\n\u001b[1;32m    144\u001b[0m         \u001b[0;34m\"\"\"Shutdown the pool and restart a new one with the same parameters\"\"\"\u001b[0m\u001b[0;34m\u001b[0m\u001b[0m\n\u001b[0;32m--> 145\u001b[0;31m         \u001b[0mself\u001b[0m\u001b[0;34m.\u001b[0m\u001b[0mterminate\u001b[0m\u001b[0;34m(\u001b[0m\u001b[0;34m)\u001b[0m\u001b[0;34m\u001b[0m\u001b[0m\n\u001b[0m\u001b[1;32m    146\u001b[0m         \u001b[0;32mif\u001b[0m \u001b[0mensure_ready\u001b[0m\u001b[0;34m:\u001b[0m\u001b[0;34m\u001b[0m\u001b[0m\n\u001b[1;32m    147\u001b[0m             self.configure(n_jobs=self.parallel.n_jobs, parallel=self.parallel,\n",
      "\u001b[0;32m/anaconda3/lib/python3.6/site-packages/sklearn/externals/joblib/_parallel_backends.py\u001b[0m in \u001b[0;36mterminate\u001b[0;34m(self)\u001b[0m\n\u001b[1;32m    321\u001b[0m     \u001b[0;32mdef\u001b[0m \u001b[0mterminate\u001b[0m\u001b[0;34m(\u001b[0m\u001b[0mself\u001b[0m\u001b[0;34m)\u001b[0m\u001b[0;34m:\u001b[0m\u001b[0;34m\u001b[0m\u001b[0m\n\u001b[1;32m    322\u001b[0m         \u001b[0;34m\"\"\"Shutdown the process or thread pool\"\"\"\u001b[0m\u001b[0;34m\u001b[0m\u001b[0m\n\u001b[0;32m--> 323\u001b[0;31m         \u001b[0msuper\u001b[0m\u001b[0;34m(\u001b[0m\u001b[0mMultiprocessingBackend\u001b[0m\u001b[0;34m,\u001b[0m \u001b[0mself\u001b[0m\u001b[0;34m)\u001b[0m\u001b[0;34m.\u001b[0m\u001b[0mterminate\u001b[0m\u001b[0;34m(\u001b[0m\u001b[0;34m)\u001b[0m\u001b[0;34m\u001b[0m\u001b[0m\n\u001b[0m\u001b[1;32m    324\u001b[0m         \u001b[0;32mif\u001b[0m \u001b[0mself\u001b[0m\u001b[0;34m.\u001b[0m\u001b[0mJOBLIB_SPAWNED_PROCESS\u001b[0m \u001b[0;32min\u001b[0m \u001b[0mos\u001b[0m\u001b[0;34m.\u001b[0m\u001b[0menviron\u001b[0m\u001b[0;34m:\u001b[0m\u001b[0;34m\u001b[0m\u001b[0m\n\u001b[1;32m    325\u001b[0m             \u001b[0;32mdel\u001b[0m \u001b[0mos\u001b[0m\u001b[0;34m.\u001b[0m\u001b[0menviron\u001b[0m\u001b[0;34m[\u001b[0m\u001b[0mself\u001b[0m\u001b[0;34m.\u001b[0m\u001b[0mJOBLIB_SPAWNED_PROCESS\u001b[0m\u001b[0;34m]\u001b[0m\u001b[0;34m\u001b[0m\u001b[0m\n",
      "\u001b[0;32m/anaconda3/lib/python3.6/site-packages/sklearn/externals/joblib/_parallel_backends.py\u001b[0m in \u001b[0;36mterminate\u001b[0;34m(self)\u001b[0m\n\u001b[1;32m    134\u001b[0m         \u001b[0;32mif\u001b[0m \u001b[0mself\u001b[0m\u001b[0;34m.\u001b[0m\u001b[0m_pool\u001b[0m \u001b[0;32mis\u001b[0m \u001b[0;32mnot\u001b[0m \u001b[0;32mNone\u001b[0m\u001b[0;34m:\u001b[0m\u001b[0;34m\u001b[0m\u001b[0m\n\u001b[1;32m    135\u001b[0m             \u001b[0mself\u001b[0m\u001b[0;34m.\u001b[0m\u001b[0m_pool\u001b[0m\u001b[0;34m.\u001b[0m\u001b[0mclose\u001b[0m\u001b[0;34m(\u001b[0m\u001b[0;34m)\u001b[0m\u001b[0;34m\u001b[0m\u001b[0m\n\u001b[0;32m--> 136\u001b[0;31m             \u001b[0mself\u001b[0m\u001b[0;34m.\u001b[0m\u001b[0m_pool\u001b[0m\u001b[0;34m.\u001b[0m\u001b[0mterminate\u001b[0m\u001b[0;34m(\u001b[0m\u001b[0;34m)\u001b[0m  \u001b[0;31m# terminate does a join()\u001b[0m\u001b[0;34m\u001b[0m\u001b[0m\n\u001b[0m\u001b[1;32m    137\u001b[0m             \u001b[0mself\u001b[0m\u001b[0;34m.\u001b[0m\u001b[0m_pool\u001b[0m \u001b[0;34m=\u001b[0m \u001b[0;32mNone\u001b[0m\u001b[0;34m\u001b[0m\u001b[0m\n\u001b[1;32m    138\u001b[0m \u001b[0;34m\u001b[0m\u001b[0m\n",
      "\u001b[0;32m/anaconda3/lib/python3.6/site-packages/sklearn/externals/joblib/pool.py\u001b[0m in \u001b[0;36mterminate\u001b[0;34m(self)\u001b[0m\n\u001b[1;32m    604\u001b[0m         \u001b[0;32mfor\u001b[0m \u001b[0mi\u001b[0m \u001b[0;32min\u001b[0m \u001b[0mrange\u001b[0m\u001b[0;34m(\u001b[0m\u001b[0mn_retries\u001b[0m\u001b[0;34m)\u001b[0m\u001b[0;34m:\u001b[0m\u001b[0;34m\u001b[0m\u001b[0m\n\u001b[1;32m    605\u001b[0m             \u001b[0;32mtry\u001b[0m\u001b[0;34m:\u001b[0m\u001b[0;34m\u001b[0m\u001b[0m\n\u001b[0;32m--> 606\u001b[0;31m                 \u001b[0msuper\u001b[0m\u001b[0;34m(\u001b[0m\u001b[0mMemmapingPool\u001b[0m\u001b[0;34m,\u001b[0m \u001b[0mself\u001b[0m\u001b[0;34m)\u001b[0m\u001b[0;34m.\u001b[0m\u001b[0mterminate\u001b[0m\u001b[0;34m(\u001b[0m\u001b[0;34m)\u001b[0m\u001b[0;34m\u001b[0m\u001b[0m\n\u001b[0m\u001b[1;32m    607\u001b[0m                 \u001b[0;32mbreak\u001b[0m\u001b[0;34m\u001b[0m\u001b[0m\n\u001b[1;32m    608\u001b[0m             \u001b[0;32mexcept\u001b[0m \u001b[0mOSError\u001b[0m \u001b[0;32mas\u001b[0m \u001b[0me\u001b[0m\u001b[0;34m:\u001b[0m\u001b[0;34m\u001b[0m\u001b[0m\n",
      "\u001b[0;32m/anaconda3/lib/python3.6/multiprocessing/pool.py\u001b[0m in \u001b[0;36mterminate\u001b[0;34m(self)\u001b[0m\n\u001b[1;32m    539\u001b[0m         \u001b[0mself\u001b[0m\u001b[0;34m.\u001b[0m\u001b[0m_state\u001b[0m \u001b[0;34m=\u001b[0m \u001b[0mTERMINATE\u001b[0m\u001b[0;34m\u001b[0m\u001b[0m\n\u001b[1;32m    540\u001b[0m         \u001b[0mself\u001b[0m\u001b[0;34m.\u001b[0m\u001b[0m_worker_handler\u001b[0m\u001b[0;34m.\u001b[0m\u001b[0m_state\u001b[0m \u001b[0;34m=\u001b[0m \u001b[0mTERMINATE\u001b[0m\u001b[0;34m\u001b[0m\u001b[0m\n\u001b[0;32m--> 541\u001b[0;31m         \u001b[0mself\u001b[0m\u001b[0;34m.\u001b[0m\u001b[0m_terminate\u001b[0m\u001b[0;34m(\u001b[0m\u001b[0;34m)\u001b[0m\u001b[0;34m\u001b[0m\u001b[0m\n\u001b[0m\u001b[1;32m    542\u001b[0m \u001b[0;34m\u001b[0m\u001b[0m\n\u001b[1;32m    543\u001b[0m     \u001b[0;32mdef\u001b[0m \u001b[0mjoin\u001b[0m\u001b[0;34m(\u001b[0m\u001b[0mself\u001b[0m\u001b[0;34m)\u001b[0m\u001b[0;34m:\u001b[0m\u001b[0;34m\u001b[0m\u001b[0m\n",
      "\u001b[0;32m/anaconda3/lib/python3.6/multiprocessing/util.py\u001b[0m in \u001b[0;36m__call__\u001b[0;34m(self, wr, _finalizer_registry, sub_debug, getpid)\u001b[0m\n\u001b[1;32m    184\u001b[0m                 sub_debug('finalizer calling %s with args %s and kwargs %s',\n\u001b[1;32m    185\u001b[0m                           self._callback, self._args, self._kwargs)\n\u001b[0;32m--> 186\u001b[0;31m                 \u001b[0mres\u001b[0m \u001b[0;34m=\u001b[0m \u001b[0mself\u001b[0m\u001b[0;34m.\u001b[0m\u001b[0m_callback\u001b[0m\u001b[0;34m(\u001b[0m\u001b[0;34m*\u001b[0m\u001b[0mself\u001b[0m\u001b[0;34m.\u001b[0m\u001b[0m_args\u001b[0m\u001b[0;34m,\u001b[0m \u001b[0;34m**\u001b[0m\u001b[0mself\u001b[0m\u001b[0;34m.\u001b[0m\u001b[0m_kwargs\u001b[0m\u001b[0;34m)\u001b[0m\u001b[0;34m\u001b[0m\u001b[0m\n\u001b[0m\u001b[1;32m    187\u001b[0m             \u001b[0mself\u001b[0m\u001b[0;34m.\u001b[0m\u001b[0m_weakref\u001b[0m \u001b[0;34m=\u001b[0m \u001b[0mself\u001b[0m\u001b[0;34m.\u001b[0m\u001b[0m_callback\u001b[0m \u001b[0;34m=\u001b[0m \u001b[0mself\u001b[0m\u001b[0;34m.\u001b[0m\u001b[0m_args\u001b[0m \u001b[0;34m=\u001b[0m\u001b[0;31m \u001b[0m\u001b[0;31m\\\u001b[0m\u001b[0;34m\u001b[0m\u001b[0m\n\u001b[1;32m    188\u001b[0m                             \u001b[0mself\u001b[0m\u001b[0;34m.\u001b[0m\u001b[0m_kwargs\u001b[0m \u001b[0;34m=\u001b[0m \u001b[0mself\u001b[0m\u001b[0;34m.\u001b[0m\u001b[0m_key\u001b[0m \u001b[0;34m=\u001b[0m \u001b[0;32mNone\u001b[0m\u001b[0;34m\u001b[0m\u001b[0m\n",
      "\u001b[0;32m/anaconda3/lib/python3.6/multiprocessing/pool.py\u001b[0m in \u001b[0;36m_terminate_pool\u001b[0;34m(cls, taskqueue, inqueue, outqueue, pool, worker_handler, task_handler, result_handler, cache)\u001b[0m\n\u001b[1;32m    591\u001b[0m         \u001b[0mutil\u001b[0m\u001b[0;34m.\u001b[0m\u001b[0mdebug\u001b[0m\u001b[0;34m(\u001b[0m\u001b[0;34m'joining task handler'\u001b[0m\u001b[0;34m)\u001b[0m\u001b[0;34m\u001b[0m\u001b[0m\n\u001b[1;32m    592\u001b[0m         \u001b[0;32mif\u001b[0m \u001b[0mthreading\u001b[0m\u001b[0;34m.\u001b[0m\u001b[0mcurrent_thread\u001b[0m\u001b[0;34m(\u001b[0m\u001b[0;34m)\u001b[0m \u001b[0;32mis\u001b[0m \u001b[0;32mnot\u001b[0m \u001b[0mtask_handler\u001b[0m\u001b[0;34m:\u001b[0m\u001b[0;34m\u001b[0m\u001b[0m\n\u001b[0;32m--> 593\u001b[0;31m             \u001b[0mtask_handler\u001b[0m\u001b[0;34m.\u001b[0m\u001b[0mjoin\u001b[0m\u001b[0;34m(\u001b[0m\u001b[0;34m)\u001b[0m\u001b[0;34m\u001b[0m\u001b[0m\n\u001b[0m\u001b[1;32m    594\u001b[0m \u001b[0;34m\u001b[0m\u001b[0m\n\u001b[1;32m    595\u001b[0m         \u001b[0mutil\u001b[0m\u001b[0;34m.\u001b[0m\u001b[0mdebug\u001b[0m\u001b[0;34m(\u001b[0m\u001b[0;34m'joining result handler'\u001b[0m\u001b[0;34m)\u001b[0m\u001b[0;34m\u001b[0m\u001b[0m\n",
      "\u001b[0;32m/anaconda3/lib/python3.6/threading.py\u001b[0m in \u001b[0;36mjoin\u001b[0;34m(self, timeout)\u001b[0m\n\u001b[1;32m   1054\u001b[0m \u001b[0;34m\u001b[0m\u001b[0m\n\u001b[1;32m   1055\u001b[0m         \u001b[0;32mif\u001b[0m \u001b[0mtimeout\u001b[0m \u001b[0;32mis\u001b[0m \u001b[0;32mNone\u001b[0m\u001b[0;34m:\u001b[0m\u001b[0;34m\u001b[0m\u001b[0m\n\u001b[0;32m-> 1056\u001b[0;31m             \u001b[0mself\u001b[0m\u001b[0;34m.\u001b[0m\u001b[0m_wait_for_tstate_lock\u001b[0m\u001b[0;34m(\u001b[0m\u001b[0;34m)\u001b[0m\u001b[0;34m\u001b[0m\u001b[0m\n\u001b[0m\u001b[1;32m   1057\u001b[0m         \u001b[0;32melse\u001b[0m\u001b[0;34m:\u001b[0m\u001b[0;34m\u001b[0m\u001b[0m\n\u001b[1;32m   1058\u001b[0m             \u001b[0;31m# the behavior of a negative timeout isn't documented, but\u001b[0m\u001b[0;34m\u001b[0m\u001b[0;34m\u001b[0m\u001b[0m\n",
      "\u001b[0;32m/anaconda3/lib/python3.6/threading.py\u001b[0m in \u001b[0;36m_wait_for_tstate_lock\u001b[0;34m(self, block, timeout)\u001b[0m\n\u001b[1;32m   1070\u001b[0m         \u001b[0;32mif\u001b[0m \u001b[0mlock\u001b[0m \u001b[0;32mis\u001b[0m \u001b[0;32mNone\u001b[0m\u001b[0;34m:\u001b[0m  \u001b[0;31m# already determined that the C code is done\u001b[0m\u001b[0;34m\u001b[0m\u001b[0m\n\u001b[1;32m   1071\u001b[0m             \u001b[0;32massert\u001b[0m \u001b[0mself\u001b[0m\u001b[0;34m.\u001b[0m\u001b[0m_is_stopped\u001b[0m\u001b[0;34m\u001b[0m\u001b[0m\n\u001b[0;32m-> 1072\u001b[0;31m         \u001b[0;32melif\u001b[0m \u001b[0mlock\u001b[0m\u001b[0;34m.\u001b[0m\u001b[0macquire\u001b[0m\u001b[0;34m(\u001b[0m\u001b[0mblock\u001b[0m\u001b[0;34m,\u001b[0m \u001b[0mtimeout\u001b[0m\u001b[0;34m)\u001b[0m\u001b[0;34m:\u001b[0m\u001b[0;34m\u001b[0m\u001b[0m\n\u001b[0m\u001b[1;32m   1073\u001b[0m             \u001b[0mlock\u001b[0m\u001b[0;34m.\u001b[0m\u001b[0mrelease\u001b[0m\u001b[0;34m(\u001b[0m\u001b[0;34m)\u001b[0m\u001b[0;34m\u001b[0m\u001b[0m\n\u001b[1;32m   1074\u001b[0m             \u001b[0mself\u001b[0m\u001b[0;34m.\u001b[0m\u001b[0m_stop\u001b[0m\u001b[0;34m(\u001b[0m\u001b[0;34m)\u001b[0m\u001b[0;34m\u001b[0m\u001b[0m\n",
      "\u001b[0;31mKeyboardInterrupt\u001b[0m: "
     ]
    }
   ],
   "source": [
    "# Fit gridsearch models to select best estimator\n",
    "# Clustered data\n",
    "helper1 = EstimatorSelectionHelper(models1, params1)\n",
    "helper1.fit(XX, bin_num, n_jobs=3) # n_jobs=1 by default\n",
    "\n",
    "# Play sound when done running\n",
    "Audio(url=sound_file, autoplay=True)"
   ]
  },
  {
   "cell_type": "code",
   "execution_count": null,
   "metadata": {
    "collapsed": true
   },
   "outputs": [],
   "source": [
    "# Compare performance for estimators\n",
    "# Explained variance\n",
    "helper2.score_summary(sort_by='mean_score')"
   ]
  },
  {
   "cell_type": "markdown",
   "metadata": {},
   "source": [
    "SVC-RBF performed the best on average. Try optimizing with gridsearch, including preprocessing steps."
   ]
  },
  {
   "cell_type": "markdown",
   "metadata": {},
   "source": [
    "### Optimize SVC-RBF"
   ]
  },
  {
   "cell_type": "code",
   "execution_count": 147,
   "metadata": {
    "ExecuteTime": {
     "end_time": "2018-05-29T04:43:48.592282Z",
     "start_time": "2018-05-29T04:33:46.983993Z"
    }
   },
   "outputs": [
    {
     "name": "stdout",
     "output_type": "stream",
     "text": [
      "{'estimator__C': 5, 'estimator__gamma': 0.0003}\n",
      "0.136647974002\n"
     ]
    },
    {
     "data": {
      "text/html": [
       "\n",
       "                <audio controls=\"controls\" autoplay=\"autoplay\">\n",
       "                    <source src=\"./data/Glass.wav\" type=\"audio/x-wav\" />\n",
       "                    Your browser does not support the audio element.\n",
       "                </audio>\n",
       "              "
      ],
      "text/plain": [
       "<IPython.lib.display.Audio object>"
      ]
     },
     "execution_count": 147,
     "metadata": {},
     "output_type": "execute_result"
    }
   ],
   "source": [
    "# Pipeline/GridSearch to find best optimized model\n",
    "# after selecting ideal estimator\n",
    "\n",
    "from sklearn.pipeline import Pipeline\n",
    "from sklearn.model_selection import GridSearchCV\n",
    "from sklearn.preprocessing import MinMaxScaler\n",
    "from sklearn import decomposition\n",
    "from sklearn.svm import SVC\n",
    "\n",
    "# Pipeline\n",
    "#estimator = SVC(kernel='rbf')\n",
    "pipe = Pipeline([\n",
    "    ('scale', MinMaxScaler()),\n",
    "    ('feat', decomposition.PCA(n_components=46)),\n",
    "    ('estimator', SVC(kernel='rbf'))\n",
    "     ])\n",
    "\n",
    "# Set parameter ranges for gridsearch\n",
    "cv=4 # last ran with 5 --> 0.136648\n",
    "n_jobs=3\n",
    "c_set=[3,4,5]\n",
    "gamma_set=[0.0001,0.0003,0.005]\n",
    "\n",
    "# Gridsearch\n",
    "param_grid={'estimator__C': c_set,\n",
    "            'estimator__gamma': gamma_set\n",
    "           }\n",
    "grid_search=GridSearchCV(pipe,param_grid,cv=cv,scoring='explained_variance', n_jobs=n_jobs, pre_dispatch=2*n_jobs)\n",
    "grid_search.fit(wfdata,bin_num)\n",
    "print(grid_search.best_params_)\n",
    "print(grid_search.best_score_)\n",
    "\n",
    "# Play sound when done running\n",
    "Audio(url=sound_file, autoplay=True)"
   ]
  },
  {
   "cell_type": "code",
   "execution_count": 148,
   "metadata": {
    "ExecuteTime": {
     "end_time": "2018-05-29T04:57:27.872234Z",
     "start_time": "2018-05-29T04:47:44.529903Z"
    }
   },
   "outputs": [
    {
     "name": "stdout",
     "output_type": "stream",
     "text": [
      "{'estimator__C': 5, 'estimator__gamma': 0.0003}\n",
      "0.13847218762\n"
     ]
    },
    {
     "data": {
      "text/html": [
       "\n",
       "                <audio controls=\"controls\" autoplay=\"autoplay\">\n",
       "                    <source src=\"./data/Glass.wav\" type=\"audio/x-wav\" />\n",
       "                    Your browser does not support the audio element.\n",
       "                </audio>\n",
       "              "
      ],
      "text/plain": [
       "<IPython.lib.display.Audio object>"
      ]
     },
     "execution_count": 148,
     "metadata": {},
     "output_type": "execute_result"
    }
   ],
   "source": [
    "# Pipeline/GridSearch to find best optimized model\n",
    "# after selecting ideal estimator\n",
    "\n",
    "from sklearn.pipeline import Pipeline\n",
    "from sklearn.model_selection import GridSearchCV\n",
    "from sklearn.preprocessing import MinMaxScaler\n",
    "from sklearn import decomposition\n",
    "from sklearn.svm import SVC\n",
    "\n",
    "# Pipeline\n",
    "#estimator = SVC(kernel='rbf')\n",
    "pipe = Pipeline([\n",
    "    ('scale', MinMaxScaler()),\n",
    "    ('feat', decomposition.PCA(n_components=46)),\n",
    "    ('estimator', SVC(kernel='rbf'))\n",
    "     ])\n",
    "\n",
    "# Set parameter ranges for gridsearch\n",
    "cv=5\n",
    "n_jobs=3\n",
    "c_set=[4,5,6]\n",
    "gamma_set=[0.0003,0.0005,0.0007]\n",
    "\n",
    "# Gridsearch\n",
    "param_grid={'estimator__C': c_set,\n",
    "            'estimator__gamma': gamma_set\n",
    "           }\n",
    "grid_search=GridSearchCV(pipe,param_grid,cv=cv,scoring='explained_variance', n_jobs=n_jobs, pre_dispatch=2*n_jobs)\n",
    "grid_search.fit(wfdata,bin_num)\n",
    "\n",
    "#scores = grid.cv_results_['mean_test_score'].reshape(len(C_range),\n",
    "#                                                     len(gamma_range))\n",
    "print(grid_search.best_params_)\n",
    "print(grid_search.best_score_)\n",
    "\n",
    "# Play sound when done running\n",
    "Audio(url=sound_file, autoplay=True)"
   ]
  },
  {
   "cell_type": "code",
   "execution_count": null,
   "metadata": {
    "collapsed": true
   },
   "outputs": [],
   "source": [
    "# Draw heatmap of the validation accuracy as a function of gamma and C\n",
    "#\n",
    "# The score are encoded as colors with the hot colormap which varies from dark\n",
    "# red to bright yellow. As the most interesting scores are all located in the\n",
    "# 0.92 to 0.97 range we use a custom normalizer to set the mid-point to 0.92 so\n",
    "# as to make it easier to visualize the small variations of score values in the\n",
    "# interesting range while not brutally collapsing all the low score values to\n",
    "# the same color.\n",
    "\n",
    "plt.figure(figsize=(8, 6))\n",
    "plt.subplots_adjust(left=.2, right=0.95, bottom=0.15, top=0.95)\n",
    "plt.imshow(scores, interpolation='nearest', cmap=plt.cm.hot,\n",
    "           norm=MidpointNormalize(vmin=0.2, midpoint=0.92))\n",
    "plt.xlabel('gamma')\n",
    "plt.ylabel('C')\n",
    "plt.colorbar()\n",
    "plt.xticks(np.arange(len(gamma_range)), gamma_range, rotation=45)\n",
    "plt.yticks(np.arange(len(C_range)), C_range)\n",
    "plt.title('Validation accuracy')\n",
    "plt.show()"
   ]
  },
  {
   "cell_type": "markdown",
   "metadata": {},
   "source": [
    "### Final Organics Model"
   ]
  },
  {
   "cell_type": "code",
   "execution_count": 546,
   "metadata": {
    "ExecuteTime": {
     "end_time": "2018-08-31T19:17:29.567331Z",
     "start_time": "2018-08-31T19:17:29.504302Z"
    }
   },
   "outputs": [
    {
     "ename": "NameError",
     "evalue": "name 'wf' is not defined",
     "output_type": "error",
     "traceback": [
      "\u001b[0;31m-----------------------------------------------------------------\u001b[0m",
      "\u001b[0;31mNameError\u001b[0m                       Traceback (most recent call last)",
      "\u001b[0;32m<ipython-input-546-0d44b23cb4bc>\u001b[0m in \u001b[0;36m<module>\u001b[0;34m()\u001b[0m\n\u001b[1;32m      4\u001b[0m     \u001b[0;34m(\u001b[0m\u001b[0;34m'estimator'\u001b[0m\u001b[0;34m,\u001b[0m \u001b[0mSVC\u001b[0m\u001b[0;34m(\u001b[0m\u001b[0mkernel\u001b[0m\u001b[0;34m=\u001b[0m\u001b[0;34m'rbf'\u001b[0m\u001b[0;34m,\u001b[0m \u001b[0mC\u001b[0m\u001b[0;34m=\u001b[0m\u001b[0;36m5\u001b[0m\u001b[0;34m,\u001b[0m \u001b[0mgamma\u001b[0m\u001b[0;34m=\u001b[0m\u001b[0;36m0.0003\u001b[0m\u001b[0;34m)\u001b[0m\u001b[0;34m)\u001b[0m\u001b[0;34m\u001b[0m\u001b[0m\n\u001b[1;32m      5\u001b[0m      ])\n\u001b[0;32m----> 6\u001b[0;31m \u001b[0mbestpipe\u001b[0m\u001b[0;34m.\u001b[0m\u001b[0mfit\u001b[0m\u001b[0;34m(\u001b[0m\u001b[0mwf\u001b[0m\u001b[0;34m,\u001b[0m\u001b[0mbin_num\u001b[0m\u001b[0;34m)\u001b[0m\u001b[0;34m\u001b[0m\u001b[0m\n\u001b[0m",
      "\u001b[0;31mNameError\u001b[0m: name 'wf' is not defined"
     ]
    }
   ],
   "source": [
    "bestpipe = Pipeline([\n",
    "    ('scale', MinMaxScaler()),\n",
    "    ('feat', decomposition.PCA(n_components=46)),\n",
    "    ('estimator', SVC(kernel='rbf', C=5, gamma=0.0003))\n",
    "     ])\n",
    "bestpipe.fit(wf,bin_num)"
   ]
  },
  {
   "cell_type": "code",
   "execution_count": 240,
   "metadata": {
    "ExecuteTime": {
     "end_time": "2018-06-15T22:02:18.595191Z",
     "start_time": "2018-06-15T22:01:56.220917Z"
    }
   },
   "outputs": [
    {
     "data": {
      "text/plain": [
       "Pipeline(memory=None,\n",
       "     steps=[('scale', MinMaxScaler(copy=True, feature_range=(0, 1))), ('feat', PCA(copy=True, iterated_power='auto', n_components=46, random_state=None,\n",
       "  svd_solver='auto', tol=0.0, whiten=False)), ('estimator', SVR(C=5, cache_size=200, coef0=0.0, degree=3, epsilon=0.1, gamma=0.0003,\n",
       "  kernel='rbf', max_iter=-1, shrinking=True, tol=0.001, verbose=False))])"
      ]
     },
     "execution_count": 240,
     "metadata": {},
     "output_type": "execute_result"
    }
   ],
   "source": [
    "bestpipe = Pipeline([\n",
    "    ('scale', MinMaxScaler()),\n",
    "    ('feat', decomposition.PCA(n_components=46)),\n",
    "    ('estimator', SVR(kernel='rbf', C=5, gamma=0.0003))\n",
    "     ])\n",
    "bestpipe.fit(XX,y_log)"
   ]
  },
  {
   "cell_type": "code",
   "execution_count": 241,
   "metadata": {
    "ExecuteTime": {
     "end_time": "2018-06-15T22:02:44.496047Z",
     "start_time": "2018-06-15T22:02:27.659081Z"
    },
    "collapsed": true
   },
   "outputs": [],
   "source": [
    "y_predict=bestpipe.predict(XX)"
   ]
  },
  {
   "cell_type": "code",
   "execution_count": 208,
   "metadata": {
    "ExecuteTime": {
     "end_time": "2018-05-29T18:29:35.992366Z",
     "start_time": "2018-05-29T18:29:35.977792Z"
    }
   },
   "outputs": [
    {
     "ename": "IndexError",
     "evalue": "too many indices for array",
     "output_type": "error",
     "traceback": [
      "\u001b[0;31m---------------------------------------------------------------------------\u001b[0m",
      "\u001b[0;31mIndexError\u001b[0m                                Traceback (most recent call last)",
      "\u001b[0;32m<ipython-input-208-e8ba1044ded0>\u001b[0m in \u001b[0;36m<module>\u001b[0;34m()\u001b[0m\n\u001b[1;32m      3\u001b[0m \u001b[0;34m\u001b[0m\u001b[0m\n\u001b[1;32m      4\u001b[0m \u001b[0;32mfrom\u001b[0m \u001b[0msklearn\u001b[0m \u001b[0;32mimport\u001b[0m \u001b[0mmetrics\u001b[0m\u001b[0;34m\u001b[0m\u001b[0m\n\u001b[0;32m----> 5\u001b[0;31m \u001b[0mmetrics\u001b[0m\u001b[0;34m.\u001b[0m\u001b[0mroc_auc_score\u001b[0m\u001b[0;34m(\u001b[0m\u001b[0my_log\u001b[0m\u001b[0;34m,\u001b[0m\u001b[0my_predict\u001b[0m\u001b[0;34m[\u001b[0m\u001b[0;34m:\u001b[0m\u001b[0;34m,\u001b[0m\u001b[0;36m1\u001b[0m\u001b[0;34m]\u001b[0m\u001b[0;34m)\u001b[0m\u001b[0;34m\u001b[0m\u001b[0m\n\u001b[0m",
      "\u001b[0;31mIndexError\u001b[0m: too many indices for array"
     ]
    }
   ],
   "source": [
    "# Check model performance\n",
    "#y_blind_predict=bestpipe.predict_proba(X_blind)\n",
    "\n",
    "from sklearn import metrics\n",
    "metrics.roc_auc_score(np.log(y),y_predict[:,1])"
   ]
  },
  {
   "cell_type": "code",
   "execution_count": 242,
   "metadata": {
    "ExecuteTime": {
     "end_time": "2018-06-15T22:03:11.171295Z",
     "start_time": "2018-06-15T22:03:10.987905Z"
    }
   },
   "outputs": [
    {
     "data": {
      "text/plain": [
       "Text(0.5,1,'predicted vs actual')"
      ]
     },
     "execution_count": 242,
     "metadata": {},
     "output_type": "execute_result"
    },
    {
     "data": {
      "image/png": "[encoded data removed]",
      "text/plain": [
       "<matplotlib.figure.Figure at 0x1a22dd8358>"
      ]
     },
     "metadata": {},
     "output_type": "display_data"
    }
   ],
   "source": [
    "# AFTER adjusting y_log\n",
    "plt.plot(y_log,y_predict,'.')\n",
    "plt.title('predicted vs actual')"
   ]
  },
  {
   "cell_type": "code",
   "execution_count": 235,
   "metadata": {
    "ExecuteTime": {
     "end_time": "2018-06-14T18:20:08.329378Z",
     "start_time": "2018-06-14T18:20:08.152755Z"
    }
   },
   "outputs": [
    {
     "data": {
      "text/plain": [
       "[<matplotlib.lines.Line2D at 0x1a1804ef60>]"
      ]
     },
     "execution_count": 235,
     "metadata": {},
     "output_type": "execute_result"
    },
    {
     "data": {
      "image/png": "[encoded data removed]",
      "text/plain": [
       "<matplotlib.figure.Figure at 0x1a17b1bf60>"
      ]
     },
     "metadata": {},
     "output_type": "display_data"
    }
   ],
   "source": [
    "plt.plot(np.exp(y_log),np.exp(y_predict),'.')"
   ]
  },
  {
   "cell_type": "code",
   "execution_count": 227,
   "metadata": {
    "ExecuteTime": {
     "end_time": "2018-06-14T17:24:21.102809Z",
     "start_time": "2018-06-14T17:24:20.955766Z"
    }
   },
   "outputs": [
    {
     "data": {
      "text/plain": [
       "Text(0.5,1,'predicted vs actual')"
      ]
     },
     "execution_count": 227,
     "metadata": {},
     "output_type": "execute_result"
    },
    {
     "data": {
      "image/png": "[encoded data removed]",
      "text/plain": [
       "<matplotlib.figure.Figure at 0x1a171798d0>"
      ]
     },
     "metadata": {},
     "output_type": "display_data"
    }
   ],
   "source": [
    "# BEFORE\n",
    "plt.plot(np.log(y),y_predict,'.')\n",
    "plt.title('predicted vs actual')"
   ]
  },
  {
   "cell_type": "code",
   "execution_count": null,
   "metadata": {
    "collapsed": true
   },
   "outputs": [],
   "source": [
    "# add in offset (e.g., 1/10,000) when I take the y-log\n",
    "# what threshold is actually reasonable for my model?\n",
    "# be sure to state limitations"
   ]
  },
  {
   "cell_type": "markdown",
   "metadata": {
    "ExecuteTime": {
     "end_time": "2018-08-01T22:13:23.241143Z",
     "start_time": "2018-08-01T22:13:23.237012Z"
    }
   },
   "source": [
    "### Finalizing ENM Model"
   ]
  },
  {
   "cell_type": "code",
   "execution_count": 159,
   "metadata": {
    "ExecuteTime": {
     "end_time": "2018-09-05T03:11:51.445798Z",
     "start_time": "2018-09-05T03:11:46.165849Z"
    }
   },
   "outputs": [
    {
     "name": "stdout",
     "output_type": "stream",
     "text": [
      "{'estimator__C': 1.623776739188721, 'estimator__gamma': 0.23357214690901212}\n",
      "0.634146341463\n"
     ]
    },
    {
     "data": {
      "text/html": [
       "\n",
       "                <audio controls=\"controls\" autoplay=\"autoplay\">\n",
       "                    <source src=\"./data/Glass.wav\" type=\"audio/x-wav\" />\n",
       "                    Your browser does not support the audio element.\n",
       "                </audio>\n",
       "              "
      ],
      "text/plain": [
       "<IPython.lib.display.Audio object>"
      ]
     },
     "execution_count": 159,
     "metadata": {},
     "output_type": "execute_result"
    }
   ],
   "source": [
    "# SVR-RBF with all features, normalized\n",
    "    # Log-transformed weight fractions\n",
    "    # Explained variance\n",
    "\n",
    "from sklearn.pipeline import Pipeline\n",
    "from sklearn.model_selection import GridSearchCV\n",
    "from sklearn.svm import SVC\n",
    "\n",
    "# Pipeline\n",
    "estimator = SVC(kernel='rbf')\n",
    "prepipe = Pipeline([\n",
    "    ('scale', MinMaxScaler()),\n",
    "    ('estimator', estimator)\n",
    "])\n",
    "\n",
    "# Set parameter ranges for gridsearch\n",
    "cv=10\n",
    "n_jobs=3\n",
    "c_set=np.logspace(-2,4,20)\n",
    "gamma_set=np.logspace(-6,0,20)\n",
    "\n",
    "# Gridsearch\n",
    "param_grid={'estimator__C': c_set,\n",
    "            'estimator__gamma': gamma_set\n",
    "           }\n",
    "grid_search=GridSearchCV(prepipe,param_grid,cv=cv,scoring='accuracy', n_jobs=n_jobs, pre_dispatch=2*n_jobs)\n",
    "grid_search.fit(Xf_enm+0.0001,bin_num_enm)\n",
    "print(grid_search.best_params_)\n",
    "print(grid_search.best_score_)\n",
    "\n",
    "# Play sound when done running\n",
    "Audio(url=sound_file, autoplay=True)"
   ]
  },
  {
   "cell_type": "code",
   "execution_count": 160,
   "metadata": {
    "ExecuteTime": {
     "end_time": "2018-09-05T03:12:25.159204Z",
     "start_time": "2018-09-05T03:12:20.156207Z"
    }
   },
   "outputs": [
    {
     "name": "stdout",
     "output_type": "stream",
     "text": [
      "{'estimator__C': 0.78475997035146106, 'estimator__gamma': 0.48329302385717521}\n",
      "0.585365853659\n"
     ]
    },
    {
     "data": {
      "text/html": [
       "\n",
       "                <audio controls=\"controls\" autoplay=\"autoplay\">\n",
       "                    <source src=\"./data/Glass.wav\" type=\"audio/x-wav\" />\n",
       "                    Your browser does not support the audio element.\n",
       "                </audio>\n",
       "              "
      ],
      "text/plain": [
       "<IPython.lib.display.Audio object>"
      ]
     },
     "execution_count": 160,
     "metadata": {},
     "output_type": "execute_result"
    }
   ],
   "source": [
    "# SVR-RBF with all features, normalized\n",
    "    # Log-transformed weight fractions\n",
    "    # Explained variance\n",
    "\n",
    "from sklearn.pipeline import Pipeline\n",
    "from sklearn.model_selection import GridSearchCV\n",
    "from sklearn.svm import SVC\n",
    "\n",
    "# Pipeline\n",
    "estimator = SVC(kernel='rbf')\n",
    "prepipe = Pipeline([\n",
    "    ('scale', MinMaxScaler()),\n",
    "    ('estimator', estimator)\n",
    "])\n",
    "\n",
    "# Set parameter ranges for gridsearch\n",
    "cv=10\n",
    "n_jobs=3\n",
    "c_set=np.logspace(-2,4,20)\n",
    "gamma_set=np.logspace(-6,0,20)\n",
    "\n",
    "# Gridsearch\n",
    "param_grid={'estimator__C': c_set,\n",
    "            'estimator__gamma': gamma_set\n",
    "           }\n",
    "grid_search=GridSearchCV(prepipe,param_grid,cv=cv,scoring='accuracy', n_jobs=n_jobs, pre_dispatch=2*n_jobs)\n",
    "grid_search.fit(Xp_enm+0.0001,bin_num_enm)\n",
    "print(grid_search.best_params_)\n",
    "print(grid_search.best_score_)\n",
    "\n",
    "# Play sound when done running\n",
    "Audio(url=sound_file, autoplay=True)"
   ]
  },
  {
   "cell_type": "code",
   "execution_count": 161,
   "metadata": {
    "ExecuteTime": {
     "end_time": "2018-09-05T03:13:40.613463Z",
     "start_time": "2018-09-05T03:13:34.237151Z"
    }
   },
   "outputs": [
    {
     "name": "stdout",
     "output_type": "stream",
     "text": [
      "{'estimator__C': 61.584821106602604, 'estimator__gamma': 1.0}\n",
      "0.59756097561\n"
     ]
    },
    {
     "data": {
      "text/html": [
       "\n",
       "                <audio controls=\"controls\" autoplay=\"autoplay\">\n",
       "                    <source src=\"./data/Glass.wav\" type=\"audio/x-wav\" />\n",
       "                    Your browser does not support the audio element.\n",
       "                </audio>\n",
       "              "
      ],
      "text/plain": [
       "<IPython.lib.display.Audio object>"
      ]
     },
     "execution_count": 161,
     "metadata": {},
     "output_type": "execute_result"
    }
   ],
   "source": [
    "# SVR-RBF with all features, normalized\n",
    "    # Log-transformed weight fractions\n",
    "    # Explained variance\n",
    "\n",
    "from sklearn.pipeline import Pipeline\n",
    "from sklearn.model_selection import GridSearchCV\n",
    "from sklearn.svm import SVC\n",
    "\n",
    "# Pipeline\n",
    "estimator = SVC(kernel='rbf')\n",
    "prepipe = Pipeline([\n",
    "    ('scale', MinMaxScaler()),\n",
    "    ('estimator', estimator)\n",
    "])\n",
    "\n",
    "# Set parameter ranges for gridsearch\n",
    "cv=10\n",
    "n_jobs=3\n",
    "c_set=np.logspace(-2,4,20)\n",
    "gamma_set=np.logspace(-6,0,20)\n",
    "\n",
    "# Gridsearch\n",
    "param_grid={'estimator__C': c_set,\n",
    "            'estimator__gamma': gamma_set\n",
    "           }\n",
    "grid_search=GridSearchCV(prepipe,param_grid,cv=cv,scoring='accuracy', n_jobs=n_jobs, pre_dispatch=2*n_jobs)\n",
    "grid_search.fit(Xc_enm+0.0001,bin_num_enm)\n",
    "print(grid_search.best_params_)\n",
    "print(grid_search.best_score_)\n",
    "\n",
    "# Play sound when done running\n",
    "Audio(url=sound_file, autoplay=True)"
   ]
  },
  {
   "cell_type": "code",
   "execution_count": 214,
   "metadata": {
    "ExecuteTime": {
     "end_time": "2018-09-04T14:05:40.425496Z",
     "start_time": "2018-09-04T14:05:37.865782Z"
    }
   },
   "outputs": [
    {
     "name": "stdout",
     "output_type": "stream",
     "text": [
      "{'estimator__C': 0.01, 'estimator__gamma': 9.9999999999999995e-07}\n",
      "0.439024390244\n"
     ]
    },
    {
     "data": {
      "text/html": [
       "\n",
       "                <audio controls=\"controls\" autoplay=\"autoplay\">\n",
       "                    <source src=\"./data/Glass.wav\" type=\"audio/x-wav\" />\n",
       "                    Your browser does not support the audio element.\n",
       "                </audio>\n",
       "              "
      ],
      "text/plain": [
       "<IPython.lib.display.Audio object>"
      ]
     },
     "execution_count": 214,
     "metadata": {},
     "output_type": "execute_result"
    }
   ],
   "source": [
    "# SVR-RBF with all features, normalized\n",
    "    # ENM weight fractions (PCA)\n",
    "    # Accuracy\n",
    "\n",
    "from sklearn.pipeline import Pipeline\n",
    "from sklearn.model_selection import GridSearchCV\n",
    "from sklearn.svm import SVC\n",
    "\n",
    "# Pipeline\n",
    "estimator = SVC(kernel='rbf',class_weight=None)\n",
    "prepipe = Pipeline([\n",
    "#    ('scale', MinMaxScaler()),\n",
    "    ('estimator', estimator)\n",
    "])\n",
    "\n",
    "# Set parameter ranges for gridsearch\n",
    "cv=5\n",
    "n_jobs=3\n",
    "c_set=np.logspace(-2,4,20)\n",
    "gamma_set=np.logspace(-6,0,20)\n",
    "\n",
    "# Gridsearch\n",
    "param_grid={'estimator__C': c_set,\n",
    "            'estimator__gamma': gamma_set\n",
    "           }\n",
    "grid_search=GridSearchCV(prepipe,param_grid,cv=cv,scoring='accuracy', n_jobs=n_jobs, pre_dispatch=2*n_jobs)\n",
    "grid_search.fit(dim_red_enm,bin_num_enm)\n",
    "print(grid_search.best_params_)\n",
    "print(grid_search.best_score_)\n",
    "\n",
    "# Play sound when done running\n",
    "Audio(url=sound_file, autoplay=True)"
   ]
  },
  {
   "cell_type": "code",
   "execution_count": 507,
   "metadata": {
    "ExecuteTime": {
     "end_time": "2018-08-03T18:54:28.108013Z",
     "start_time": "2018-08-03T18:54:28.070613Z"
    }
   },
   "outputs": [
    {
     "data": {
      "text/plain": [
       "Pipeline(memory=None,\n",
       "     steps=[('scale', MinMaxScaler(copy=True, feature_range=(0, 1))), ('estimator', SVC(C=3, cache_size=200, class_weight=None, coef0=0.0,\n",
       "  decision_function_shape='ovr', degree=3, gamma=0.1, kernel='rbf',\n",
       "  max_iter=-1, probability=False, random_state=None, shrinking=True,\n",
       "  tol=0.001, verbose=False))])"
      ]
     },
     "execution_count": 507,
     "metadata": {},
     "output_type": "execute_result"
    }
   ],
   "source": [
    "# Final pipeline\n",
    "bestpipe = Pipeline([\n",
    "    ('scale', MinMaxScaler()),\n",
    "    ('estimator', SVC(kernel='rbf', C=3, gamma=0.1))\n",
    "     ])\n",
    "bestpipe.fit(XX_enm,bin_num_enm)"
   ]
  },
  {
   "cell_type": "code",
   "execution_count": 513,
   "metadata": {
    "ExecuteTime": {
     "end_time": "2018-08-03T18:57:42.645897Z",
     "start_time": "2018-08-03T18:57:42.638034Z"
    }
   },
   "outputs": [
    {
     "name": "stdout",
     "output_type": "stream",
     "text": [
      "(55,)\n"
     ]
    }
   ],
   "source": [
    "# Predictions for ENM WF\n",
    "y_enm_predict=bestpipe.predict(XX_enm) "
   ]
  },
  {
   "cell_type": "code",
   "execution_count": 515,
   "metadata": {
    "ExecuteTime": {
     "end_time": "2018-08-03T19:15:35.044805Z",
     "start_time": "2018-08-03T19:15:35.017228Z"
    }
   },
   "outputs": [
    {
     "data": {
      "text/plain": [
       "0.81818181818181823"
      ]
     },
     "execution_count": 515,
     "metadata": {},
     "output_type": "execute_result"
    }
   ],
   "source": [
    "# Accuracy score of model\n",
    "from sklearn.metrics import accuracy_score\n",
    "accuracy_score(bin_num_enm, y_enm_predict, normalize=True, sample_weight=None)"
   ]
  },
  {
   "cell_type": "code",
   "execution_count": 155,
   "metadata": {
    "ExecuteTime": {
     "end_time": "2018-09-03T17:37:56.514501Z",
     "start_time": "2018-09-03T17:37:56.474856Z"
    },
    "collapsed": true
   },
   "outputs": [],
   "source": [
    "# Make a confusion matrix to summarize accuracy across labels\n",
    "from sklearn.metrics import confusion_matrix\n",
    "import itertools\n",
    "\n",
    "def plot_confusion_matrix(cm, classes,\n",
    "                          normalize=False,\n",
    "                          title='Confusion matrix',\n",
    "                          cmap=plt.cm.Blues):\n",
    "    \"\"\"\n",
    "    This function prints and plots the confusion matrix.\n",
    "    Normalization can be applied by setting `normalize=True`.\n",
    "    \"\"\"\n",
    "    if normalize:\n",
    "        cm = cm.astype('float') / cm.sum(axis=1)[:, np.newaxis]\n",
    "        print(\"Normalized confusion matrix\")\n",
    "    else:\n",
    "        print('Confusion matrix, without normalization')\n",
    "\n",
    "    print(cm)\n",
    "\n",
    "    plt.imshow(cm, interpolation='nearest', cmap=cmap)\n",
    "    plt.title(title)\n",
    "    plt.colorbar()\n",
    "    tick_marks = np.arange(len(classes))\n",
    "    plt.xticks(tick_marks, classes, rotation=45)\n",
    "    plt.yticks(tick_marks, classes)\n",
    "\n",
    "    fmt = '.2f' if normalize else 'd'\n",
    "    thresh = cm.max() / 2.\n",
    "    for i, j in itertools.product(range(cm.shape[0]), range(cm.shape[1])):\n",
    "        plt.text(j, i, format(cm[i, j], fmt),\n",
    "                 horizontalalignment=\"center\",\n",
    "                 color=\"white\" if cm[i, j] > thresh else \"black\")\n",
    "    plt.tight_layout()\n",
    "    plt.ylabel('True label')\n",
    "    plt.xlabel('Predicted label')"
   ]
  },
  {
   "cell_type": "code",
   "execution_count": 556,
   "metadata": {
    "ExecuteTime": {
     "end_time": "2018-08-10T19:09:17.644994Z",
     "start_time": "2018-08-10T19:09:17.260126Z"
    }
   },
   "outputs": [
    {
     "name": "stdout",
     "output_type": "stream",
     "text": [
      "Confusion matrix, without normalization\n",
      "[[31  1  0]\n",
      " [ 4 10  0]\n",
      " [ 2  3  4]]\n",
      "Normalized confusion matrix\n",
      "[[ 0.97  0.03  0.  ]\n",
      " [ 0.29  0.71  0.  ]\n",
      " [ 0.22  0.33  0.44]]\n"
     ]
    },
    {
     "data": {
      "image/png": "[encoded data removed]",
      "text/plain": [
       "<matplotlib.figure.Figure at 0x11c0d4f60>"
      ]
     },
     "metadata": {},
     "output_type": "display_data"
    },
    {
     "data": {
      "image/png": "[encoded data removed]",
      "text/plain": [
       "<matplotlib.figure.Figure at 0x1a51207fd0>"
      ]
     },
     "metadata": {},
     "output_type": "display_data"
    }
   ],
   "source": [
    "# Define confusion matrix\n",
    "cnf_matrix = confusion_matrix(bin_num_enm, y_enm_predict)\n",
    "\n",
    "np.set_printoptions(precision=2)\n",
    "class_names=[\"low\",\"mid\",\"high\"]\n",
    "\n",
    "# Plot non-normalized confusion matrix\n",
    "plt.figure()\n",
    "plot_confusion_matrix(cnf_matrix, classes=class_names,\n",
    "                      title='Confusion matrix, without normalization')\n",
    "# Plot normalized confusion matrix\n",
    "plt.figure()\n",
    "plot_confusion_matrix(cnf_matrix, classes=class_names, normalize=True,\n",
    "                      title='Normalized confusion matrix')\n",
    "\n",
    "plt.show()"
   ]
  },
  {
   "cell_type": "markdown",
   "metadata": {
    "collapsed": true
   },
   "source": [
    "### NEW ENM Model (Clusters)"
   ]
  },
  {
   "cell_type": "code",
   "execution_count": 65,
   "metadata": {
    "ExecuteTime": {
     "end_time": "2018-10-22T17:34:33.480840Z",
     "start_time": "2018-10-22T17:34:26.620985Z"
    }
   },
   "outputs": [
    {
     "name": "stdout",
     "output_type": "stream",
     "text": [
      "{'estimator__C': 29.76351441631316, 'estimator__gamma': 0.026366508987303555}\n",
      "0.6219512195121951\n",
      "accuracy\n"
     ]
    },
    {
     "data": {
      "text/html": [
       "\n",
       "                <audio controls=\"controls\" autoplay=\"autoplay\">\n",
       "                    <source src=\"./data/Glass.wav\" type=\"audio/x-wav\" />\n",
       "                    Your browser does not support the audio element.\n",
       "                </audio>\n",
       "              "
      ],
      "text/plain": [
       "<IPython.lib.display.Audio object>"
      ]
     },
     "execution_count": 65,
     "metadata": {},
     "output_type": "execute_result"
    }
   ],
   "source": [
    "# SVR-RBF with all features, normalized\n",
    "    # ENM weight fractions\n",
    "    # Accuracy\n",
    "\n",
    "from sklearn.pipeline import Pipeline\n",
    "from sklearn.model_selection import GridSearchCV\n",
    "from sklearn.svm import SVC\n",
    "\n",
    "# Pipeline\n",
    "estimator = SVC(kernel='rbf',class_weight='balanced')\n",
    "prepipe = Pipeline([\n",
    "    ('scale', MinMaxScaler()),\n",
    "    ('estimator', estimator)\n",
    "])\n",
    "\n",
    "# Set parameter ranges for gridsearch\n",
    "cv=10\n",
    "n_jobs=3\n",
    "c_set=np.logspace(-2,4,20)\n",
    "gamma_set=np.logspace(-6,0,20)\n",
    "\n",
    "# Gridsearch\n",
    "param_grid={'estimator__C': c_set,\n",
    "            'estimator__gamma': gamma_set\n",
    "           }\n",
    "grid_search=GridSearchCV(prepipe,param_grid,cv=cv,scoring='accuracy', n_jobs=n_jobs, pre_dispatch=2*n_jobs)\n",
    "grid_search.fit(XX_enm,bin_num_enm) #dim_red_enm\n",
    "print(grid_search.best_params_)\n",
    "print(grid_search.best_score_)\n",
    "print(grid_search.scoring)\n",
    "\n",
    "# Play sound when done running\n",
    "Audio(url=sound_file, autoplay=True)"
   ]
  },
  {
   "cell_type": "code",
   "execution_count": 66,
   "metadata": {
    "ExecuteTime": {
     "end_time": "2018-10-22T17:34:55.421515Z",
     "start_time": "2018-10-22T17:34:55.417186Z"
    },
    "collapsed": true
   },
   "outputs": [],
   "source": [
    "# essentially leave one out cross validation, slight biases, might be overfitting"
   ]
  },
  {
   "cell_type": "code",
   "execution_count": 67,
   "metadata": {
    "ExecuteTime": {
     "end_time": "2018-10-22T17:35:03.021623Z",
     "start_time": "2018-10-22T17:35:03.015247Z"
    },
    "collapsed": true
   },
   "outputs": [],
   "source": [
    "# Final pipeline\n",
    "bestpipe = Pipeline([\n",
    "    ('scale', MinMaxScaler()),\n",
    "    ('estimator', SVC(kernel='rbf',class_weight='balanced', C=29.7635, gamma=0.0263665))\n",
    "     ])"
   ]
  },
  {
   "cell_type": "code",
   "execution_count": 103,
   "metadata": {
    "ExecuteTime": {
     "end_time": "2018-10-22T18:38:10.354362Z",
     "start_time": "2018-10-22T18:38:10.318879Z"
    },
    "collapsed": true
   },
   "outputs": [],
   "source": [
    "# Make a confusion matrix to summarize accuracy across labels\n",
    "from sklearn.metrics import confusion_matrix\n",
    "import itertools\n",
    "\n",
    "def plot_confusion_matrix(cm, classes,\n",
    "                          normalize=False,\n",
    "                          title='Confusion matrix',\n",
    "                          cmap=plt.cm.Blues):\n",
    "    \"\"\"\n",
    "    This function prints and plots the confusion matrix.\n",
    "    Normalization can be applied by setting `normalize=True`.\n",
    "    \"\"\"\n",
    "    if normalize:\n",
    "        cm = cm.astype('float') / cm.sum(axis=1)[:, np.newaxis]\n",
    "        print(\"Normalized confusion matrix\")\n",
    "    else:\n",
    "        print('Confusion matrix, without normalization')\n",
    "\n",
    "    print(cm)\n",
    "\n",
    "    plt.imshow(cm, interpolation='nearest', cmap=cmap)\n",
    "    plt.title(title)\n",
    "    plt.colorbar()\n",
    "    tick_marks = np.arange(len(classes))\n",
    "    plt.xticks(tick_marks, classes, rotation=45)\n",
    "    plt.yticks(tick_marks, classes)\n",
    "\n",
    "    fmt = '.2f' if normalize else 'd'\n",
    "    thresh = cm.max() / 2.\n",
    "    for i, j in itertools.product(range(cm.shape[0]), range(cm.shape[1])):\n",
    "        plt.text(j, i, format(cm[i, j], fmt),\n",
    "                 horizontalalignment=\"center\",\n",
    "                 color=\"white\" if cm[i, j] > thresh else \"black\")\n",
    "    plt.tight_layout()\n",
    "    plt.ylabel('True label')\n",
    "    plt.xlabel('Predicted label')"
   ]
  },
  {
   "cell_type": "code",
   "execution_count": 111,
   "metadata": {
    "ExecuteTime": {
     "end_time": "2018-10-22T18:40:15.900884Z",
     "start_time": "2018-10-22T18:40:15.851219Z"
    },
    "collapsed": true
   },
   "outputs": [],
   "source": [
    "from sklearn import model_selection\n",
    "# n_splits=17\n",
    "kfold = model_selection.StratifiedKFold(n_splits=17,shuffle=True) #n_splits=17\n",
    "cnf_matrix2=np.zeros([3,3])\n",
    "X=np.array(XX_enm)\n",
    "y=np.array(bin_num_enm)\n",
    "for train_index,test_index in kfold.split(X,y):\n",
    "    X_train, X_test = X[train_index], X[test_index]\n",
    "    y_train, y_test = y[train_index], y[test_index]\n",
    "    bestpipe.fit(X_train,y_train)\n",
    "    y_enm_predict=bestpipe.predict(X_test)\n",
    "    y[test_index]=y_enm_predict\n",
    "    cnf_matrix2+= confusion_matrix(y_test, y_enm_predict);"
   ]
  },
  {
   "cell_type": "code",
   "execution_count": 112,
   "metadata": {
    "ExecuteTime": {
     "end_time": "2018-10-22T18:40:19.141054Z",
     "start_time": "2018-10-22T18:40:19.132172Z"
    }
   },
   "outputs": [
    {
     "name": "stdout",
     "output_type": "stream",
     "text": [
      "(82,)\n"
     ]
    }
   ],
   "source": [
    "print(y.shape)"
   ]
  },
  {
   "cell_type": "code",
   "execution_count": 108,
   "metadata": {
    "ExecuteTime": {
     "end_time": "2018-10-22T18:38:29.227247Z",
     "start_time": "2018-10-22T18:38:29.222890Z"
    },
    "collapsed": true
   },
   "outputs": [],
   "source": [
    "cnf_matrix=cnf_matrix2.astype(np.int)"
   ]
  },
  {
   "cell_type": "code",
   "execution_count": 113,
   "metadata": {
    "ExecuteTime": {
     "end_time": "2018-10-22T18:40:23.653418Z",
     "start_time": "2018-10-22T18:40:23.125643Z"
    }
   },
   "outputs": [
    {
     "name": "stdout",
     "output_type": "stream",
     "text": [
      "Confusion matrix, without normalization\n",
      "[[27  3  6]\n",
      " [ 9 16  4]\n",
      " [ 3  3 11]]\n",
      "Normalized confusion matrix\n",
      "[[0.75 0.08 0.17]\n",
      " [0.31 0.55 0.14]\n",
      " [0.18 0.18 0.65]]\n"
     ]
    },
    {
     "data": {
      "image/png": "[encoded data removed]",
      "text/plain": [
       "<Figure size 432x288 with 2 Axes>"
      ]
     },
     "metadata": {},
     "output_type": "display_data"
    },
    {
     "data": {
      "image/png": "[encoded data removed]",
      "text/plain": [
       "<Figure size 432x288 with 2 Axes>"
      ]
     },
     "metadata": {},
     "output_type": "display_data"
    }
   ],
   "source": [
    "# Define confusion matrix\n",
    "cnf_matrix = confusion_matrix(bin_num_enm, y)\n",
    "\n",
    "np.set_printoptions(precision=2)\n",
    "class_names=[\"low\",\"mid\",\"high\"]\n",
    "\n",
    "# Plot non-normalized confusion matrix\n",
    "plt.figure()\n",
    "plot_confusion_matrix(cnf_matrix, classes=class_names,\n",
    "                      title='Confusion matrix, without normalization')\n",
    "# Plot normalized confusion matrix\n",
    "plt.figure()\n",
    "plot_confusion_matrix(cnf_matrix, classes=class_names, normalize=True,\n",
    "                      title='Normalized confusion matrix')\n",
    "\n",
    "plt.show()"
   ]
  },
  {
   "cell_type": "markdown",
   "metadata": {
    "collapsed": true
   },
   "source": [
    "### NEW ENM Model (PCA)"
   ]
  },
  {
   "cell_type": "code",
   "execution_count": 90,
   "metadata": {
    "ExecuteTime": {
     "end_time": "2018-10-22T17:44:36.211892Z",
     "start_time": "2018-10-22T17:44:35.739719Z"
    }
   },
   "outputs": [
    {
     "name": "stdout",
     "output_type": "stream",
     "text": [
      "{'estimator__C': 5, 'estimator__gamma': 0.1}\n",
      "0.573170731707317\n"
     ]
    },
    {
     "data": {
      "text/html": [
       "\n",
       "                <audio controls=\"controls\" autoplay=\"autoplay\">\n",
       "                    <source src=\"./data/Glass.wav\" type=\"audio/x-wav\" />\n",
       "                    Your browser does not support the audio element.\n",
       "                </audio>\n",
       "              "
      ],
      "text/plain": [
       "<IPython.lib.display.Audio object>"
      ]
     },
     "execution_count": 90,
     "metadata": {},
     "output_type": "execute_result"
    }
   ],
   "source": [
    "# SVR-RBF with all features, normalized\n",
    "    # ENM weight fractions\n",
    "    # Accuracy\n",
    "\n",
    "from sklearn.pipeline import Pipeline\n",
    "from sklearn.model_selection import GridSearchCV\n",
    "from sklearn.svm import SVC\n",
    "\n",
    "# Pipeline\n",
    "estimator = SVC(kernel='rbf',class_weight='balanced')\n",
    "prepipe = Pipeline([\n",
    "#    ('scale', MinMaxScaler()),\n",
    "    ('estimator', estimator)\n",
    "])\n",
    "\n",
    "# Set parameter ranges for gridsearch\n",
    "cv=10\n",
    "n_jobs=3\n",
    "c_set=[0.1,4,5,6,20]\n",
    "gamma_set=[0.0001, 0.001, 0.1, 1]\n",
    "\n",
    "# Gridsearch\n",
    "param_grid={'estimator__C': c_set,\n",
    "            'estimator__gamma': gamma_set\n",
    "           }\n",
    "grid_search=GridSearchCV(prepipe,param_grid,cv=cv,scoring='accuracy', n_jobs=n_jobs, pre_dispatch=2*n_jobs)\n",
    "grid_search.fit(dim_red_enm,bin_num_enm)\n",
    "print(grid_search.best_params_)\n",
    "print(grid_search.best_score_)\n",
    "\n",
    "# Play sound when done running\n",
    "Audio(url=sound_file, autoplay=True)"
   ]
  },
  {
   "cell_type": "code",
   "execution_count": 91,
   "metadata": {
    "ExecuteTime": {
     "end_time": "2018-10-22T17:44:56.412857Z",
     "start_time": "2018-10-22T17:44:56.391547Z"
    }
   },
   "outputs": [
    {
     "data": {
      "text/plain": [
       "Pipeline(memory=None,\n",
       "     steps=[('scale', MinMaxScaler(copy=True, feature_range=(0, 1))), ('estimator', SVC(C=5, cache_size=200, class_weight='balanced', coef0=0.0,\n",
       "  decision_function_shape='ovr', degree=3, gamma=0.1, kernel='rbf',\n",
       "  max_iter=-1, probability=False, random_state=None, shrinking=True,\n",
       "  tol=0.001, verbose=False))])"
      ]
     },
     "execution_count": 91,
     "metadata": {},
     "output_type": "execute_result"
    }
   ],
   "source": [
    "# Final pipeline\n",
    "bestpipe = Pipeline([\n",
    "    ('scale', MinMaxScaler()),\n",
    "    ('estimator', SVC(kernel='rbf',class_weight='balanced', C=5, gamma=0.1))\n",
    "     ])\n",
    "bestpipe.fit(dim_red_enm,bin_num_enm)"
   ]
  },
  {
   "cell_type": "code",
   "execution_count": 183,
   "metadata": {
    "ExecuteTime": {
     "end_time": "2018-09-03T18:11:50.102725Z",
     "start_time": "2018-09-03T18:11:50.097996Z"
    },
    "collapsed": true
   },
   "outputs": [],
   "source": [
    "# Predictions for ENM WF\n",
    "#y_enm_predict=bestpipe.predict(dim_red_enm) "
   ]
  },
  {
   "cell_type": "code",
   "execution_count": 184,
   "metadata": {
    "ExecuteTime": {
     "end_time": "2018-09-03T18:11:52.216793Z",
     "start_time": "2018-09-03T18:11:52.207596Z"
    }
   },
   "outputs": [
    {
     "data": {
      "text/plain": [
       "0.43902439024390244"
      ]
     },
     "execution_count": 184,
     "metadata": {},
     "output_type": "execute_result"
    }
   ],
   "source": [
    "# Accuracy score of model\n",
    "#from sklearn.metrics import accuracy_score\n",
    "#accuracy_score(bin_num_enm, y_enm_predict, normalize=True, sample_weight=None)"
   ]
  },
  {
   "cell_type": "code",
   "execution_count": 92,
   "metadata": {
    "ExecuteTime": {
     "end_time": "2018-10-22T17:45:42.604555Z",
     "start_time": "2018-10-22T17:45:42.553168Z"
    },
    "collapsed": true
   },
   "outputs": [],
   "source": [
    "from sklearn import model_selection\n",
    "# n_splits=17\n",
    "kfold = model_selection.StratifiedKFold(n_splits=17,shuffle=True) #n_splits=17\n",
    "cnf_matrix2=np.zeros([3,3])\n",
    "X=np.array(dim_red_enm)\n",
    "y=np.array(bin_num_enm)\n",
    "for train_index,test_index in kfold.split(X,y):\n",
    "    X_train, X_test = X[train_index], X[test_index]\n",
    "    y_train, y_test = y[train_index], y[test_index]\n",
    "    bestpipe.fit(X_train,y_train)\n",
    "    y_enm_predict=bestpipe.predict(X_test)\n",
    "    cnf_matrix2+= confusion_matrix(y_test, y_enm_predict);"
   ]
  },
  {
   "cell_type": "code",
   "execution_count": 93,
   "metadata": {
    "ExecuteTime": {
     "end_time": "2018-10-22T17:45:46.063896Z",
     "start_time": "2018-10-22T17:45:46.025682Z"
    }
   },
   "outputs": [
    {
     "ename": "ValueError",
     "evalue": "Found input variables with inconsistent numbers of samples: [82, 4]",
     "output_type": "error",
     "traceback": [
      "\u001b[0;31m---------------------------------------------------------------------------\u001b[0m",
      "\u001b[0;31mValueError\u001b[0m                                Traceback (most recent call last)",
      "\u001b[0;32m<ipython-input-93-ca038c36b68d>\u001b[0m in \u001b[0;36m<module>\u001b[0;34m()\u001b[0m\n\u001b[1;32m      1\u001b[0m \u001b[0;31m# Define confusion matrix\u001b[0m\u001b[0;34m\u001b[0m\u001b[0;34m\u001b[0m\u001b[0m\n\u001b[0;32m----> 2\u001b[0;31m \u001b[0mcnf_matrix\u001b[0m \u001b[0;34m=\u001b[0m \u001b[0mconfusion_matrix\u001b[0m\u001b[0;34m(\u001b[0m\u001b[0mbin_num_enm\u001b[0m\u001b[0;34m,\u001b[0m \u001b[0my_enm_predict\u001b[0m\u001b[0;34m)\u001b[0m\u001b[0;34m\u001b[0m\u001b[0m\n\u001b[0m\u001b[1;32m      3\u001b[0m \u001b[0;34m\u001b[0m\u001b[0m\n\u001b[1;32m      4\u001b[0m \u001b[0mnp\u001b[0m\u001b[0;34m.\u001b[0m\u001b[0mset_printoptions\u001b[0m\u001b[0;34m(\u001b[0m\u001b[0mprecision\u001b[0m\u001b[0;34m=\u001b[0m\u001b[0;36m2\u001b[0m\u001b[0;34m)\u001b[0m\u001b[0;34m\u001b[0m\u001b[0m\n\u001b[1;32m      5\u001b[0m \u001b[0mclass_names\u001b[0m\u001b[0;34m=\u001b[0m\u001b[0;34m[\u001b[0m\u001b[0;34m\"low\"\u001b[0m\u001b[0;34m,\u001b[0m\u001b[0;34m\"mid\"\u001b[0m\u001b[0;34m,\u001b[0m\u001b[0;34m\"high\"\u001b[0m\u001b[0;34m]\u001b[0m\u001b[0;34m\u001b[0m\u001b[0m\n",
      "\u001b[0;32m/anaconda3/lib/python3.6/site-packages/sklearn/metrics/classification.py\u001b[0m in \u001b[0;36mconfusion_matrix\u001b[0;34m(y_true, y_pred, labels, sample_weight)\u001b[0m\n\u001b[1;32m    248\u001b[0m \u001b[0;34m\u001b[0m\u001b[0m\n\u001b[1;32m    249\u001b[0m     \"\"\"\n\u001b[0;32m--> 250\u001b[0;31m     \u001b[0my_type\u001b[0m\u001b[0;34m,\u001b[0m \u001b[0my_true\u001b[0m\u001b[0;34m,\u001b[0m \u001b[0my_pred\u001b[0m \u001b[0;34m=\u001b[0m \u001b[0m_check_targets\u001b[0m\u001b[0;34m(\u001b[0m\u001b[0my_true\u001b[0m\u001b[0;34m,\u001b[0m \u001b[0my_pred\u001b[0m\u001b[0;34m)\u001b[0m\u001b[0;34m\u001b[0m\u001b[0m\n\u001b[0m\u001b[1;32m    251\u001b[0m     \u001b[0;32mif\u001b[0m \u001b[0my_type\u001b[0m \u001b[0;32mnot\u001b[0m \u001b[0;32min\u001b[0m \u001b[0;34m(\u001b[0m\u001b[0;34m\"binary\"\u001b[0m\u001b[0;34m,\u001b[0m \u001b[0;34m\"multiclass\"\u001b[0m\u001b[0;34m)\u001b[0m\u001b[0;34m:\u001b[0m\u001b[0;34m\u001b[0m\u001b[0m\n\u001b[1;32m    252\u001b[0m         \u001b[0;32mraise\u001b[0m \u001b[0mValueError\u001b[0m\u001b[0;34m(\u001b[0m\u001b[0;34m\"%s is not supported\"\u001b[0m \u001b[0;34m%\u001b[0m \u001b[0my_type\u001b[0m\u001b[0;34m)\u001b[0m\u001b[0;34m\u001b[0m\u001b[0m\n",
      "\u001b[0;32m/anaconda3/lib/python3.6/site-packages/sklearn/metrics/classification.py\u001b[0m in \u001b[0;36m_check_targets\u001b[0;34m(y_true, y_pred)\u001b[0m\n\u001b[1;32m     69\u001b[0m     \u001b[0my_pred\u001b[0m \u001b[0;34m:\u001b[0m \u001b[0marray\u001b[0m \u001b[0;32mor\u001b[0m \u001b[0mindicator\u001b[0m \u001b[0mmatrix\u001b[0m\u001b[0;34m\u001b[0m\u001b[0m\n\u001b[1;32m     70\u001b[0m     \"\"\"\n\u001b[0;32m---> 71\u001b[0;31m     \u001b[0mcheck_consistent_length\u001b[0m\u001b[0;34m(\u001b[0m\u001b[0my_true\u001b[0m\u001b[0;34m,\u001b[0m \u001b[0my_pred\u001b[0m\u001b[0;34m)\u001b[0m\u001b[0;34m\u001b[0m\u001b[0m\n\u001b[0m\u001b[1;32m     72\u001b[0m     \u001b[0mtype_true\u001b[0m \u001b[0;34m=\u001b[0m \u001b[0mtype_of_target\u001b[0m\u001b[0;34m(\u001b[0m\u001b[0my_true\u001b[0m\u001b[0;34m)\u001b[0m\u001b[0;34m\u001b[0m\u001b[0m\n\u001b[1;32m     73\u001b[0m     \u001b[0mtype_pred\u001b[0m \u001b[0;34m=\u001b[0m \u001b[0mtype_of_target\u001b[0m\u001b[0;34m(\u001b[0m\u001b[0my_pred\u001b[0m\u001b[0;34m)\u001b[0m\u001b[0;34m\u001b[0m\u001b[0m\n",
      "\u001b[0;32m/anaconda3/lib/python3.6/site-packages/sklearn/utils/validation.py\u001b[0m in \u001b[0;36mcheck_consistent_length\u001b[0;34m(*arrays)\u001b[0m\n\u001b[1;32m    202\u001b[0m     \u001b[0;32mif\u001b[0m \u001b[0mlen\u001b[0m\u001b[0;34m(\u001b[0m\u001b[0muniques\u001b[0m\u001b[0;34m)\u001b[0m \u001b[0;34m>\u001b[0m \u001b[0;36m1\u001b[0m\u001b[0;34m:\u001b[0m\u001b[0;34m\u001b[0m\u001b[0m\n\u001b[1;32m    203\u001b[0m         raise ValueError(\"Found input variables with inconsistent numbers of\"\n\u001b[0;32m--> 204\u001b[0;31m                          \" samples: %r\" % [int(l) for l in lengths])\n\u001b[0m\u001b[1;32m    205\u001b[0m \u001b[0;34m\u001b[0m\u001b[0m\n\u001b[1;32m    206\u001b[0m \u001b[0;34m\u001b[0m\u001b[0m\n",
      "\u001b[0;31mValueError\u001b[0m: Found input variables with inconsistent numbers of samples: [82, 4]"
     ]
    }
   ],
   "source": [
    "# Define confusion matrix\n",
    "cnf_matrix = confusion_matrix(bin_num_enm, y_enm_predict)\n",
    "\n",
    "np.set_printoptions(precision=2)\n",
    "class_names=[\"low\",\"mid\",\"high\"]\n",
    "\n",
    "# Plot non-normalized confusion matrix\n",
    "plt.figure()\n",
    "plot_confusion_matrix(cnf_matrix, classes=class_names,\n",
    "                      title='Confusion matrix, without normalization')\n",
    "# Plot normalized confusion matrix\n",
    "plt.figure()\n",
    "plot_confusion_matrix(cnf_matrix, classes=class_names, normalize=True,\n",
    "                      title='Normalized confusion matrix')\n",
    "\n",
    "plt.show()"
   ]
  },
  {
   "cell_type": "code",
   "execution_count": 206,
   "metadata": {
    "ExecuteTime": {
     "end_time": "2018-09-03T19:16:44.792878Z",
     "start_time": "2018-09-03T19:16:44.785926Z"
    }
   },
   "outputs": [
    {
     "ename": "SyntaxError",
     "evalue": "invalid syntax (<ipython-input-206-17924e0f0c72>, line 1)",
     "output_type": "error",
     "traceback": [
      "\u001b[0;36m  File \u001b[0;32m\"<ipython-input-206-17924e0f0c72>\"\u001b[0;36m, line \u001b[0;32m1\u001b[0m\n\u001b[0;31m    enm_corr = pd.concat([XX_enm,y_enm.apply(np.log10()), axis=1)\u001b[0m\n\u001b[0m                                                              ^\u001b[0m\n\u001b[0;31mSyntaxError\u001b[0m\u001b[0;31m:\u001b[0m invalid syntax\n"
     ]
    }
   ],
   "source": [
    "enm_corr = pd.concat([XX_enm,y_enm.apply(np.log10()), axis=1)\n",
    "plt.matshow(enm_corr.corr())"
   ]
  },
  {
   "cell_type": "code",
   "execution_count": 211,
   "metadata": {
    "ExecuteTime": {
     "end_time": "2018-09-03T19:42:45.197420Z",
     "start_time": "2018-09-03T19:42:45.179289Z"
    }
   },
   "outputs": [
    {
     "ename": "AttributeError",
     "evalue": "'float' object has no attribute 'log10'",
     "output_type": "error",
     "traceback": [
      "\u001b[0;31m---------------------------------------------------------------------------\u001b[0m",
      "\u001b[0;31mAttributeError\u001b[0m                            Traceback (most recent call last)",
      "\u001b[0;32m<ipython-input-211-e33a66145c6c>\u001b[0m in \u001b[0;36m<module>\u001b[0;34m()\u001b[0m\n\u001b[0;32m----> 1\u001b[0;31m \u001b[0my_enm_log\u001b[0m \u001b[0;34m=\u001b[0m \u001b[0mpd\u001b[0m\u001b[0;34m.\u001b[0m\u001b[0mDataFrame\u001b[0m\u001b[0;34m(\u001b[0m\u001b[0mdata\u001b[0m\u001b[0;34m=\u001b[0m\u001b[0mnp\u001b[0m\u001b[0;34m.\u001b[0m\u001b[0mlog10\u001b[0m\u001b[0;34m(\u001b[0m\u001b[0my_enm\u001b[0m\u001b[0;34m)\u001b[0m\u001b[0;34m)\u001b[0m\u001b[0;34m\u001b[0m\u001b[0m\n\u001b[0m\u001b[1;32m      2\u001b[0m \u001b[0my_enm_log\u001b[0m\u001b[0;34m\u001b[0m\u001b[0m\n",
      "\u001b[0;31mAttributeError\u001b[0m: 'float' object has no attribute 'log10'"
     ]
    }
   ],
   "source": [
    "y_enm_log = pd.DataFrame(data=np.log10(y_enm))\n",
    "y_enm_log"
   ]
  },
  {
   "cell_type": "code",
   "execution_count": null,
   "metadata": {
    "collapsed": true
   },
   "outputs": [],
   "source": [
    "plt.subplot(331)\n",
    "plt.\n",
    "DataFrame.boxplot(column=None, by=None"
   ]
  }
 ],
 "metadata": {
  "kernelspec": {
   "display_name": "Python [default]",
   "language": "python",
   "name": "python3"
  },
  "language_info": {
   "codemirror_mode": {
    "name": "ipython",
    "version": 3
   },
   "file_extension": ".py",
   "mimetype": "text/x-python",
   "name": "python",
   "nbconvert_exporter": "python",
   "pygments_lexer": "ipython3",
   "version": "3.6.3"
  },
  "toc": {
   "base_numbering": 1,
   "nav_menu": {},
   "number_sections": true,
   "sideBar": true,
   "skip_h1_title": false,
   "title_cell": "Table of Contents",
   "title_sidebar": "Contents",
   "toc_cell": true,
   "toc_position": {
    "height": "calc(100% - 180px)",
    "left": "10px",
    "top": "150px",
    "width": "165px"
   },
   "toc_section_display": true,
   "toc_window_display": true
  }
 },
 "nbformat": 4,
 "nbformat_minor": 2
}
