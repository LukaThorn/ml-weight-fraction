{
 "cells": [
  {
   "cell_type": "markdown",
   "metadata": {
    "toc": true
   },
   "source": [
    "<h1>Table of Contents<span class=\"tocSkip\"></span></h1>\n",
    "<div class=\"toc\"><ul class=\"toc-item\"><li><span><a href=\"#Code-setup\" data-toc-modified-id=\"Code-setup-1\"><span class=\"toc-item-num\">1&nbsp;&nbsp;</span>Code setup</a></span></li><li><span><a href=\"#Data\" data-toc-modified-id=\"Data-2\"><span class=\"toc-item-num\">2&nbsp;&nbsp;</span>Data</a></span><ul class=\"toc-item\"><li><span><a href=\"#Read-in-ENM-data\" data-toc-modified-id=\"Read-in-ENM-data-2.1\"><span class=\"toc-item-num\">2.1&nbsp;&nbsp;</span>Read in ENM data</a></span></li><li><span><a href=\"#ENM-data-frames\" data-toc-modified-id=\"ENM-data-frames-2.2\"><span class=\"toc-item-num\">2.2&nbsp;&nbsp;</span>ENM data frames</a></span></li><li><span><a href=\"#ENM-WF-bins\" data-toc-modified-id=\"ENM-WF-bins-2.3\"><span class=\"toc-item-num\">2.3&nbsp;&nbsp;</span>ENM WF bins</a></span></li></ul></li><li><span><a href=\"#Pre-processing\" data-toc-modified-id=\"Pre-processing-3\"><span class=\"toc-item-num\">3&nbsp;&nbsp;</span>Pre-processing</a></span><ul class=\"toc-item\"><li><span><a href=\"#Data-distributions\" data-toc-modified-id=\"Data-distributions-3.1\"><span class=\"toc-item-num\">3.1&nbsp;&nbsp;</span>Data distributions</a></span></li><li><span><a href=\"#PCA\" data-toc-modified-id=\"PCA-3.2\"><span class=\"toc-item-num\">3.2&nbsp;&nbsp;</span>PCA</a></span></li><li><span><a href=\"#Hierarchical-Agglomerative-Clustering-(HAC)\" data-toc-modified-id=\"Hierarchical-Agglomerative-Clustering-(HAC)-3.3\"><span class=\"toc-item-num\">3.3&nbsp;&nbsp;</span>Hierarchical Agglomerative Clustering (HAC)</a></span><ul class=\"toc-item\"><li><span><a href=\"#Similarity-heatmap\" data-toc-modified-id=\"Similarity-heatmap-3.3.1\"><span class=\"toc-item-num\">3.3.1&nbsp;&nbsp;</span>Similarity heatmap</a></span></li><li><span><a href=\"#Dendrograms-and-elbow-graph\" data-toc-modified-id=\"Dendrograms-and-elbow-graph-3.3.2\"><span class=\"toc-item-num\">3.3.2&nbsp;&nbsp;</span>Dendrograms and elbow graph</a></span></li><li><span><a href=\"#Helper-class-for-selecting-best-ENM-estimator\" data-toc-modified-id=\"Helper-class-for-selecting-best-ENM-estimator-3.3.3\"><span class=\"toc-item-num\">3.3.3&nbsp;&nbsp;</span>Helper class for selecting best ENM estimator</a></span></li><li><span><a href=\"#Gridsearch-to-select-n_clusters\" data-toc-modified-id=\"Gridsearch-to-select-n_clusters-3.3.4\"><span class=\"toc-item-num\">3.3.4&nbsp;&nbsp;</span>Gridsearch to select n_clusters</a></span></li><li><span><a href=\"#Apply-feature-agglomeration\" data-toc-modified-id=\"Apply-feature-agglomeration-3.3.5\"><span class=\"toc-item-num\">3.3.5&nbsp;&nbsp;</span>Apply feature agglomeration</a></span></li><li><span><a href=\"#Concatenate-final-dataframe\" data-toc-modified-id=\"Concatenate-final-dataframe-3.3.6\"><span class=\"toc-item-num\">3.3.6&nbsp;&nbsp;</span>Concatenate final dataframe</a></span></li></ul></li></ul></li><li><span><a href=\"#Preliminary-models\" data-toc-modified-id=\"Preliminary-models-4\"><span class=\"toc-item-num\">4&nbsp;&nbsp;</span>Preliminary models</a></span></li></ul></div>"
   ]
  },
  {
   "cell_type": "markdown",
   "metadata": {},
   "source": [
    "# Code setup"
   ]
  },
  {
   "cell_type": "code",
   "execution_count": 1,
   "metadata": {
    "ExecuteTime": {
     "end_time": "2019-09-30T09:54:40.159246Z",
     "start_time": "2019-09-30T09:54:39.515262Z"
    }
   },
   "outputs": [],
   "source": [
    "# To support both python 2 and python 3\n",
    "from __future__ import division, print_function, unicode_literals\n",
    "\n",
    "# To suppress warning output\n",
    "import warnings\n",
    "warnings.filterwarnings('ignore')\n",
    "warnings.simplefilter('ignore')\n",
    "\n",
    "# Important imports\n",
    "import numpy as np\n",
    "from numpy import random\n",
    "import pandas as pd\n",
    "import os, sys\n",
    "\n",
    "# Set random seed across notebook for repeatable results\n",
    "np.random.seed(42)"
   ]
  },
  {
   "cell_type": "code",
   "execution_count": 2,
   "metadata": {
    "ExecuteTime": {
     "end_time": "2019-09-30T09:54:40.911894Z",
     "start_time": "2019-09-30T09:54:40.713711Z"
    }
   },
   "outputs": [],
   "source": [
    "# To plot nice figures\n",
    "%matplotlib inline\n",
    "import matplotlib\n",
    "import matplotlib.pyplot as plt\n",
    "import matplotlib.cm as cm\n",
    "import matplotlib.image as mpimg\n",
    "plt.rcParams['axes.titlesize'] = 'x-large' #16\n",
    "plt.rcParams['axes.labelsize'] = 'x-large'\n",
    "plt.rcParams['xtick.labelsize'] = 'x-large'\n",
    "plt.rcParams['ytick.labelsize'] = 'x-large'"
   ]
  },
  {
   "cell_type": "code",
   "execution_count": 3,
   "metadata": {
    "ExecuteTime": {
     "end_time": "2019-09-30T09:54:41.446943Z",
     "start_time": "2019-09-30T09:54:41.431924Z"
    }
   },
   "outputs": [
    {
     "name": "stdout",
     "output_type": "stream",
     "text": [
      "Figure directory exists.\n"
     ]
    }
   ],
   "source": [
    "# Where to save the figures\n",
    "PROJECT_ROOT_DIR = \".\"\n",
    "PROJECT_SAVE_DIR = \"figs\"\n",
    "\n",
    "if not (os.path.isdir(PROJECT_ROOT_DIR+'/'+PROJECT_SAVE_DIR)):\n",
    "    print('Figure directory did not exist, creating now.')\n",
    "    os.mkdir(PROJECT_ROOT_DIR+'/'+PROJECT_SAVE_DIR)\n",
    "else:\n",
    "    print('Figure directory exists.')"
   ]
  },
  {
   "cell_type": "code",
   "execution_count": 4,
   "metadata": {
    "ExecuteTime": {
     "end_time": "2019-09-30T09:54:43.658949Z",
     "start_time": "2019-09-30T09:54:41.992480Z"
    }
   },
   "outputs": [
    {
     "name": "stdout",
     "output_type": "stream",
     "text": [
      "Figure directory exists.\n",
      "Figure directory exists.\n"
     ]
    }
   ],
   "source": [
    "# Import classes and functions used across multiple notebooks\n",
    "sys.path.append(os.getcwd())\n",
    "import importlib\n",
    "import functions as blt\n",
    "importlib.reload(blt);"
   ]
  },
  {
   "cell_type": "markdown",
   "metadata": {},
   "source": [
    "# Data"
   ]
  },
  {
   "cell_type": "markdown",
   "metadata": {
    "ExecuteTime": {
     "end_time": "2018-07-31T20:26:39.287566Z",
     "start_time": "2018-07-31T20:26:39.283890Z"
    }
   },
   "source": [
    "## Read in ENM data"
   ]
  },
  {
   "cell_type": "code",
   "execution_count": 9,
   "metadata": {
    "ExecuteTime": {
     "end_time": "2019-09-30T09:55:52.872288Z",
     "start_time": "2019-09-30T09:55:52.855112Z"
    }
   },
   "outputs": [],
   "source": [
    "# Read in engineered nanomaterials (ENM) weight fraction (WF) data (\"labels\")\n",
    "y_enm = pd.read_csv(\"./data/ENM-clean.csv\", \n",
    "                    sep=',', header='infer', usecols=[4])\n",
    "\n",
    "# Read in potential predictive variables (\"features\") for ENM WF\n",
    "X_enm = pd.read_csv(\"./data/ENM-clean.csv\", \n",
    "                    sep=',', header='infer', index_col=0)"
   ]
  },
  {
   "cell_type": "markdown",
   "metadata": {},
   "source": [
    "Note that each feature either has a prefix, or will be assigned a prefix that indicates what \"data group\" it belongs under.\n",
    "* cprp = chemical property\n",
    "* func = chemical functional use\n",
    "* pgen = general product category\n",
    "* pgrp = product groups (a subset of a category)\n",
    "* mtrx = product matrix property  \n",
    "\n",
    "After agglomeration, two new prefixes are introduced:\n",
    "* fagg = aggregated chemical functional uses\n",
    "* pagg = aggregated product categories\n",
    "\n",
    "The following code cleans the data and column names."
   ]
  },
  {
   "cell_type": "code",
   "execution_count": 10,
   "metadata": {
    "ExecuteTime": {
     "end_time": "2019-09-30T09:55:54.091184Z",
     "start_time": "2019-09-30T09:55:54.012236Z"
    }
   },
   "outputs": [],
   "source": [
    "# Drop unwanted columns\n",
    "    # For PUC, keeping getcat, group, refined, assigned (\"matrix\")\n",
    "    # Drop dehydrating_agent[22], dispersing_agent[24], fuel_agent[27]\n",
    "X_enm.drop(X_enm.columns[[0,1,2,3,4,9,12,22,24,27,34,35,36]], \n",
    "           axis=1, inplace=True)    \n",
    "\n",
    "# Rename columns\n",
    "X_enm.columns = X_enm.columns.str.replace('_','')\n",
    "X_enm.rename(columns = {'gencatID':'pgen', \n",
    "                        'group':'pgrp', \n",
    "                        'refinedproducttype':'refined', \n",
    "                        'assignedID':'mtrx', \n",
    "                        'measured':'mtrx_WFmeasured', \n",
    "                        'antistainagent':'antiredepositionagent', \n",
    "                        'lubricatingagent':'antiadhesivecohesive', \n",
    "                        'uvstabilizer':'UVstabilizer'\n",
    "                       }, inplace=True)\n",
    "\n",
    "# To maintain atomicity, assign all child-specific products (C) as articles (A) \n",
    "# and all OTC pharmaceuticals (P) as formulas (F) (they were all liquids)\n",
    "X_enm['mtrx'] = X_enm['mtrx'].replace('C','A', regex=True)\n",
    "X_enm['mtrx'] = X_enm['mtrx'].replace('P','F', regex=True)\n",
    "\n",
    "# Clean up data in refined column so it's only spray vs NOC\n",
    "X_enm.loc[X_enm.refined != 'spray', 'refined'] = 'NOC'\n",
    "\n",
    "# Transform factor data (product categories) into binary columns\n",
    "X_enm = pd.get_dummies(X_enm, \n",
    "                       prefix=[\"pgen\",\"pgrp\",\"refined\",\"mtrx\"], \n",
    "                       columns=[\"pgen\",\"pgrp\",\"refined\",\"mtrx\"])\n",
    "\n",
    "# Remove spaces from column names\n",
    "X_enm.columns = X_enm.columns.str.replace(' ','')\n",
    "X_enm.columns = X_enm.columns.str.replace('/','')\n",
    "X_enm.columns = X_enm.columns.str.replace('-','')\n",
    "X_enm.columns = X_enm.columns.str.replace('and','')\n",
    "\n",
    "# Edit column name prefixes and suffixes for consistency and clarity\n",
    "X_enm.columns = X_enm.columns.str.replace('prop','cprp_')\n",
    "X_enm.columns = X_enm.columns.str.replace('refined','mtrx')\n",
    "X_enm.columns = X_enm.columns.str.replace('mtrx_F','mtrx_formulation')\n",
    "\n",
    "# Drop columns absent from organics\n",
    "X_enm.drop(['pgen_AP','pgen_CS','pgen_FC','pgen_PH','pgrp_apparel',\n",
    "            'pgrp_coldrelief','pgrp_firstaid','pgrp_foodstorage',\n",
    "            'pgrp_largeappliances','pgrp_nutritionalsupplements',\n",
    "            'pgrp_portableairprocessing','pgrp_toys',\n",
    "            'mtrx_NOC','mtrx_A'],   # redundant features\n",
    "           axis=1, inplace=True)\n",
    "\n",
    "# Rearrange feature order\n",
    "cols = X_enm.columns.tolist()\n",
    "cols = cols[:5] + [cols[16]] + cols[5:16] + cols[17:] # Move anti_adh. up\n",
    "cols = cols[:20] + cols[21:] + [cols[20]]             # WF_measured to end\n",
    "X_enm = X_enm[cols]\n",
    "\n",
    "# Add 'func' prefix to functional uses\n",
    "cols = X_enm.columns\n",
    "idx_func = np.asarray([i for i, c in enumerate(cols) if not '_' in c])\n",
    "X_enm.rename(columns={c: '_'.join(('func', c)) for c in cols[idx_func]}, \n",
    "             inplace=True)"
   ]
  },
  {
   "cell_type": "code",
   "execution_count": 11,
   "metadata": {
    "ExecuteTime": {
     "end_time": "2019-09-30T09:55:55.480126Z",
     "start_time": "2019-09-30T09:55:55.471843Z"
    }
   },
   "outputs": [],
   "source": [
    "# Log-transform density so that it is no longer skewed\n",
    "X_enm['cprp_logdensity'] = X_enm['cprp_Density'].apply(np.log10)\n",
    "\n",
    "# Replace propDensity with propLogDensity in data frame\n",
    "cols = X_enm.columns.tolist()\n",
    "cols = cols[:3] + cols[-1:] + cols[4:-1]\n",
    "X_enm = X_enm[cols]"
   ]
  },
  {
   "cell_type": "code",
   "execution_count": 12,
   "metadata": {
    "ExecuteTime": {
     "end_time": "2019-09-30T09:55:59.347157Z",
     "start_time": "2019-09-30T09:55:59.339086Z"
    }
   },
   "outputs": [],
   "source": [
    "# Export column headings list\n",
    "cols = X_enm.columns\n",
    "with open('./data/column-headers.txt', 'w') as filehandle:  \n",
    "    for listitem in cols:\n",
    "        filehandle.write('%s\\n' % listitem)"
   ]
  },
  {
   "cell_type": "markdown",
   "metadata": {},
   "source": [
    "## ENM data frames"
   ]
  },
  {
   "cell_type": "markdown",
   "metadata": {},
   "source": [
    "Split ENM-WF into separate dataframes."
   ]
  },
  {
   "cell_type": "code",
   "execution_count": 14,
   "metadata": {
    "ExecuteTime": {
     "end_time": "2019-09-30T09:56:19.855099Z",
     "start_time": "2019-09-30T09:56:19.842143Z"
    }
   },
   "outputs": [
    {
     "name": "stdout",
     "output_type": "stream",
     "text": [
      "['mtrx_spray' 'mtrx_formulation' 'mtrx_WFmeasured']\n"
     ]
    }
   ],
   "source": [
    "# Data frame for only functional use categories\n",
    "Xf_enm = X_enm[X_enm.columns[pd.Series(X_enm.columns).str.startswith('func')]]\n",
    "enm_func_names = [s[5:] for s in list(Xf_enm.columns.values)]\n",
    "\n",
    "# Only product categories\n",
    "filter_col = [c for c in X_enm if c.startswith('pgen') or c.startswith('pgrp')]\n",
    "Xp_enm = X_enm[filter_col]\n",
    "enm_PUC_names = [s[5:] for s in list(Xp_enm.columns.values)]\n",
    "\n",
    "# Only chemical properties\n",
    "Xc_enm = X_enm[X_enm.columns[pd.Series(X_enm.columns).str.startswith('cprp')]]\n",
    "\n",
    "# Only matrix properties\n",
    "Xm_enm = X_enm.iloc[:,-3:]\n",
    "print(Xm_enm.columns.values)"
   ]
  },
  {
   "cell_type": "markdown",
   "metadata": {},
   "source": [
    "Note that 'WFmeasured' is not actually a matrix property; it describes whether the WF was verified with lab analysis or if it was simply claimed by the manufacturer."
   ]
  },
  {
   "cell_type": "markdown",
   "metadata": {
    "ExecuteTime": {
     "end_time": "2018-07-31T20:29:35.081047Z",
     "start_time": "2018-07-31T20:29:35.076307Z"
    }
   },
   "source": [
    "## ENM WF bins"
   ]
  },
  {
   "cell_type": "code",
   "execution_count": 11,
   "metadata": {
    "ExecuteTime": {
     "end_time": "2019-09-30T09:47:12.050782Z",
     "start_time": "2019-09-30T09:47:11.906434Z"
    }
   },
   "outputs": [
    {
     "data": {
      "image/png": "[encoded data removed]",
      "text/plain": [
       "<Figure size 432x288 with 1 Axes>"
      ]
     },
     "metadata": {
      "needs_background": "light"
     },
     "output_type": "display_data"
    }
   ],
   "source": [
    "# Log-transformed histogram of weight fraction\n",
    "plt.hist(np.log10(np.asarray(y_enm)), bins=20);"
   ]
  },
  {
   "cell_type": "code",
   "execution_count": 12,
   "metadata": {
    "ExecuteTime": {
     "end_time": "2019-09-30T09:47:12.300137Z",
     "start_time": "2019-09-30T09:47:12.202558Z"
    }
   },
   "outputs": [
    {
     "data": {
      "image/png": "[encoded data removed]",
      "text/plain": [
       "<Figure size 432x288 with 1 Axes>"
      ]
     },
     "metadata": {
      "needs_background": "light"
     },
     "output_type": "display_data"
    },
    {
     "name": "stdout",
     "output_type": "stream",
     "text": [
      "Label bin:  [0 1 2]\n",
      "Count    :  [48 27 37]\n",
      "Frequency:  [0.43, 0.24, 0.33]\n"
     ]
    }
   ],
   "source": [
    "# Apply bins to ENM and organics data\n",
    "# (slightly different ranges from those used by Isaacs et al. 2016)\n",
    "bin_enm = np.asarray(y_enm.apply(blt.bins, axis=1))\n",
    "\n",
    "# View bar plot of ENM WF bins\n",
    "blt.bar_graph_bins(bin_enm, data_composition='ENM')"
   ]
  },
  {
   "cell_type": "markdown",
   "metadata": {},
   "source": [
    "# Pre-processing"
   ]
  },
  {
   "cell_type": "markdown",
   "metadata": {},
   "source": [
    "## Data distributions"
   ]
  },
  {
   "cell_type": "code",
   "execution_count": 13,
   "metadata": {
    "ExecuteTime": {
     "end_time": "2019-09-30T09:47:13.033379Z",
     "start_time": "2019-09-30T09:47:13.027425Z"
    }
   },
   "outputs": [],
   "source": [
    "# Function for plotting piecharts\n",
    "def plot_piechart(data,\n",
    "                  labels, \n",
    "                  save_fig_name):\n",
    "    my_colors = [\"#1f77b4\",\"#ff7f0e\",\"#ffdf00\",\"#d62728\",\"#9467bd\",\n",
    "                 \"#2ca02c\",\"#1034A6\",\"#ffbf33\",\"#8B0000\",'teal',\n",
    "                 \"#aada30\",\"#e37799\",\"#17becf\",\"#7f7f7f\",\"#cc0099\",\"#0B6623\"]\n",
    "    fig, ax = plt.subplots(figsize=(6,6))\n",
    "    ax.pie(data, autopct='%1.1f%%', \n",
    "           colors=my_colors, \n",
    "           labels=labels, \n",
    "           pctdistance=0.9, labeldistance=1.05, \n",
    "           startangle=90, counterclock=False, \n",
    "           textprops={'fontsize':9})\n",
    "    ax.axis('equal')\n",
    "    ax.set_title(save_fig_name, weight=\"bold\")\n",
    "    fig.savefig('./figs/pie_%s.png' \n",
    "                % save_fig_name.lower().replace(' ','_'))\n",
    "    plt.show()"
   ]
  },
  {
   "cell_type": "code",
   "execution_count": 14,
   "metadata": {
    "ExecuteTime": {
     "end_time": "2019-09-30T04:39:50.066840Z",
     "start_time": "2019-09-30T04:39:49.917712Z"
    }
   },
   "outputs": [
    {
     "data": {
      "image/png": "[encoded data removed]",
      "text/plain": [
       "<Figure size 432x432 with 1 Axes>"
      ]
     },
     "metadata": {},
     "output_type": "display_data"
    }
   ],
   "source": [
    "# ENM function breakdown as pie chart\n",
    "plot_piechart(data=Xf_enm.sum(axis=0), \n",
    "              labels=enm_func_names, \n",
    "              save_fig_name='ENM Functions')"
   ]
  },
  {
   "cell_type": "code",
   "execution_count": 15,
   "metadata": {
    "ExecuteTime": {
     "end_time": "2019-09-30T04:39:50.681340Z",
     "start_time": "2019-09-30T04:39:50.580867Z"
    },
    "scrolled": true
   },
   "outputs": [
    {
     "data": {
      "image/png": "[encoded data removed]",
      "text/plain": [
       "<Figure size 432x432 with 1 Axes>"
      ]
     },
     "metadata": {},
     "output_type": "display_data"
    }
   ],
   "source": [
    "# ENM PUC breakdown as pie chart\n",
    "plot_piechart(data=Xp_enm.values[:,:7].sum(axis=0), \n",
    "              labels=enm_PUC_names[:7], \n",
    "              save_fig_name='ENM General Product Categories')"
   ]
  },
  {
   "cell_type": "code",
   "execution_count": 16,
   "metadata": {
    "ExecuteTime": {
     "end_time": "2019-09-30T04:39:51.223310Z",
     "start_time": "2019-09-30T04:39:51.083846Z"
    }
   },
   "outputs": [
    {
     "data": {
      "image/png": "[encoded data removed]",
      "text/plain": [
       "<Figure size 432x432 with 1 Axes>"
      ]
     },
     "metadata": {},
     "output_type": "display_data"
    }
   ],
   "source": [
    "# ENM PUC breakdown as pie chart\n",
    "plot_piechart(data=Xp_enm.values[:,7:].sum(axis=0), \n",
    "              labels=enm_PUC_names[7:], \n",
    "              save_fig_name='ENM Product Group Categories')"
   ]
  },
  {
   "cell_type": "code",
   "execution_count": 17,
   "metadata": {
    "ExecuteTime": {
     "end_time": "2019-09-30T04:39:51.947767Z",
     "start_time": "2019-09-30T04:39:51.850722Z"
    }
   },
   "outputs": [
    {
     "data": {
      "image/png": "[encoded data removed]",
      "text/plain": [
       "<Figure size 432x432 with 1 Axes>"
      ]
     },
     "metadata": {},
     "output_type": "display_data"
    }
   ],
   "source": [
    "# ENM spray products as pie chart\n",
    "labels = ['spray','other']\n",
    "values = [(np.count_nonzero(X_enm['mtrx_spray'])), \n",
    "          (len(X_enm['mtrx_spray']) - np.count_nonzero(X_enm['mtrx_spray']))]\n",
    "plot_piechart(data=values, \n",
    "              labels=labels, \n",
    "              save_fig_name='ENM Spray Products')"
   ]
  },
  {
   "cell_type": "code",
   "execution_count": 18,
   "metadata": {
    "ExecuteTime": {
     "end_time": "2019-09-30T04:39:52.670362Z",
     "start_time": "2019-09-30T04:39:52.596121Z"
    }
   },
   "outputs": [
    {
     "data": {
      "image/png": "[encoded data removed]",
      "text/plain": [
       "<Figure size 432x432 with 1 Axes>"
      ]
     },
     "metadata": {},
     "output_type": "display_data"
    }
   ],
   "source": [
    "# ENM product matrices as pie chart\n",
    "labels = ['formulation','article']\n",
    "pos_labels = np.count_nonzero(X_enm['mtrx_formulation'])\n",
    "values = [(pos_labels), (len(X_enm['mtrx_formulation']) - pos_labels)]\n",
    "plot_piechart(data=values, \n",
    "              labels=labels, \n",
    "              save_fig_name='ENM Product Matrix')"
   ]
  },
  {
   "cell_type": "code",
   "execution_count": 19,
   "metadata": {
    "ExecuteTime": {
     "end_time": "2019-09-30T04:39:53.213769Z",
     "start_time": "2019-09-30T04:39:53.202929Z"
    }
   },
   "outputs": [],
   "source": [
    "# Shapiro-Wilk Test for normality\n",
    "from scipy.stats import shapiro\n",
    "\n",
    "def norm_test(data):\n",
    "    \"\"\"\n",
    "    Source:\n",
    "    https://machinelearningmastery.com/a-gentle-introduction-to-normality-tests-in-python/\n",
    "    \"\"\"\n",
    "    # Normality test\n",
    "    stat, p = shapiro(data)\n",
    "    print('Statistics=%.3f, p=%.3f' % (stat, p))\n",
    "    # Interpret\n",
    "    alpha = 0.05\n",
    "    if p > alpha:\n",
    "        print('Sample looks Gaussian (fail to reject H0)')\n",
    "    else:\n",
    "        print('Sample does not look Gaussian (reject H0)')"
   ]
  },
  {
   "cell_type": "code",
   "execution_count": 20,
   "metadata": {
    "ExecuteTime": {
     "end_time": "2019-09-30T04:39:54.492320Z",
     "start_time": "2019-09-30T04:39:54.485902Z"
    }
   },
   "outputs": [
    {
     "name": "stdout",
     "output_type": "stream",
     "text": [
      "Statistics=0.798, p=0.000\n",
      "Sample does not look Gaussian (reject H0)\n"
     ]
    }
   ],
   "source": [
    "norm_test(X_enm['cprp_MP'])"
   ]
  },
  {
   "cell_type": "code",
   "execution_count": 21,
   "metadata": {
    "ExecuteTime": {
     "end_time": "2019-09-30T04:39:55.342707Z",
     "start_time": "2019-09-30T04:39:55.338258Z"
    }
   },
   "outputs": [
    {
     "name": "stdout",
     "output_type": "stream",
     "text": [
      "Statistics=0.756, p=0.000\n",
      "Sample does not look Gaussian (reject H0)\n"
     ]
    }
   ],
   "source": [
    "norm_test(X_enm['cprp_BP'])"
   ]
  },
  {
   "cell_type": "code",
   "execution_count": 22,
   "metadata": {
    "ExecuteTime": {
     "end_time": "2019-09-30T04:40:02.136551Z",
     "start_time": "2019-09-30T04:40:02.125143Z"
    }
   },
   "outputs": [
    {
     "data": {
      "text/plain": [
       "SpearmanrResult(correlation=0.8767222625090646, pvalue=9.373276989841227e-37)"
      ]
     },
     "execution_count": 22,
     "metadata": {},
     "output_type": "execute_result"
    }
   ],
   "source": [
    "# Data is non-parametric, so use non-parametric correlation test\n",
    "from scipy.stats import spearmanr\n",
    "\n",
    "spearmanr(X_enm['cprp_MP'], X_enm['cprp_BP'])"
   ]
  },
  {
   "cell_type": "markdown",
   "metadata": {},
   "source": [
    "The high correlation between MP and BP suggests that BP could be dropped. This is supported by the fact that BP is not very relevant for metallic ENM."
   ]
  },
  {
   "cell_type": "markdown",
   "metadata": {},
   "source": [
    "## PCA"
   ]
  },
  {
   "cell_type": "code",
   "execution_count": 23,
   "metadata": {
    "ExecuteTime": {
     "end_time": "2019-09-30T04:40:14.200952Z",
     "start_time": "2019-09-30T04:40:14.190470Z"
    }
   },
   "outputs": [],
   "source": [
    "# Scale the data first (i.e., chemical properties) from 0 to 1\n",
    "from sklearn.preprocessing import MinMaxScaler\n",
    "scaler = MinMaxScaler()\n",
    "X_enm_scaled = scaler.fit_transform(X_enm)"
   ]
  },
  {
   "cell_type": "code",
   "execution_count": 24,
   "metadata": {
    "ExecuteTime": {
     "end_time": "2019-09-30T04:40:21.018473Z",
     "start_time": "2019-09-30T04:40:20.788283Z"
    }
   },
   "outputs": [
    {
     "data": {
      "image/png": "[encoded data removed]",
      "text/plain": [
       "<Figure size 432x288 with 1 Axes>"
      ]
     },
     "metadata": {
      "needs_background": "light"
     },
     "output_type": "display_data"
    }
   ],
   "source": [
    "# Figure out number of components to achieve 85% cumulative explained variance\n",
    "from sklearn import decomposition \n",
    "pca=decomposition.PCA(n_components=30)\n",
    "dim_red_enm=pca.fit(X_enm_scaled)\n",
    "\n",
    "fig =plt.figure()\n",
    "plt.plot(np.cumsum(pca.explained_variance_ratio_),'.-',label='pca')\n",
    "plt.plot([0, 30],[.95,.95],'k',label='95%')\n",
    "plt.plot([0, 30],[.85,.85],'r',label='85%')\n",
    "plt.xlabel('Coefficient Number')\n",
    "plt.ylabel('Cumulative Explained Variance Ratio')\n",
    "plt.grid()\n",
    "plt.legend()\n",
    "plt.show()"
   ]
  },
  {
   "cell_type": "code",
   "execution_count": 100,
   "metadata": {
    "ExecuteTime": {
     "end_time": "2019-09-26T05:55:59.778048Z",
     "start_time": "2019-09-26T05:55:59.760659Z"
    }
   },
   "outputs": [],
   "source": [
    "# Transform/apply PCA\n",
    "from sklearn import decomposition \n",
    "pca = decomposition.PCA(n_components=11)\n",
    "dim_red_enm = pd.DataFrame(pca.fit_transform(X_enm_scaled))\n",
    "\n",
    "# Export PCA dataframe\n",
    "dim_red_enm.to_csv(\"./data/ENM-PCA-feats.csv\", sep='\\t', na_rep='', \n",
    "              header=True, index=True, index_label=None, mode='w')"
   ]
  },
  {
   "cell_type": "markdown",
   "metadata": {},
   "source": [
    "## Hierarchical Agglomerative Clustering (HAC)"
   ]
  },
  {
   "cell_type": "markdown",
   "metadata": {},
   "source": [
    "* Feature Agglomeration sklearn http://scikit-learn.org/stable/modules/generated/sklearn.cluster.FeatureAgglomeration.html\n",
    "* Alternate approach\n",
    "https://joernhees.de/blog/2015/08/26/scipy-hierarchical-clustering-and-dendrogram-tutorial/\n",
    "* Distance matrix with Jaccard similarity: https://stackoverflow.com/questions/35639571/python-pandas-distance-matrix-using-jaccard-similarity"
   ]
  },
  {
   "cell_type": "markdown",
   "metadata": {},
   "source": [
    "### Similarity heatmap"
   ]
  },
  {
   "cell_type": "code",
   "execution_count": 25,
   "metadata": {
    "ExecuteTime": {
     "end_time": "2019-09-30T04:40:29.869777Z",
     "start_time": "2019-09-30T04:40:29.852724Z"
    }
   },
   "outputs": [],
   "source": [
    "# Function for distance matrix, selecting n_clusters\n",
    "from scipy.spatial.distance import squareform, pdist, cosine, jaccard\n",
    "from scipy.cluster.hierarchy import dendrogram, linkage\n",
    "\n",
    "def similarity_heatmap(feature_data, \n",
    "                       feature_names, \n",
    "                       save_fig_name, \n",
    "                       dist_metric='cosine'):\n",
    "    \n",
    "    # Transform to find distance between features (not datapoints)\n",
    "    sim = 1- pdist(feature_data.T, dist_metric)\n",
    "    \n",
    "    # Make matrix\n",
    "    sim_matrix = pd.DataFrame(squareform(sim), \n",
    "                               index=feature_names, \n",
    "                               columns=feature_names)\n",
    "    \n",
    "    # Plot matrix\n",
    "    from textwrap import wrap\n",
    "    fig = plt.imshow(sim_matrix)\n",
    "    plt.title(\"\\n\".join(wrap('%s\\nSimilarity Matrix of Features (%s)' \n",
    "                             % (dist_metric.title(), \n",
    "                                save_fig_name.title()), 60)))\n",
    "    plt.colorbar()\n",
    "    plt.savefig('./figs/enm_similarmatrix_%s_%s.png' \n",
    "                % (save_fig_name, dist_metric))"
   ]
  },
  {
   "cell_type": "code",
   "execution_count": 26,
   "metadata": {
    "ExecuteTime": {
     "end_time": "2019-09-30T04:40:30.405554Z",
     "start_time": "2019-09-30T04:40:30.178046Z"
    }
   },
   "outputs": [
    {
     "data": {
      "image/png": "[encoded data removed]",
      "text/plain": [
       "<Figure size 432x288 with 2 Axes>"
      ]
     },
     "metadata": {
      "needs_background": "light"
     },
     "output_type": "display_data"
    }
   ],
   "source": [
    "# Similarity matrix: ENM functional use features\n",
    "similarity_heatmap(Xf_enm, \n",
    "                   feature_names=enm_func_names, \n",
    "                   save_fig_name='function-only')"
   ]
  },
  {
   "cell_type": "code",
   "execution_count": 27,
   "metadata": {
    "ExecuteTime": {
     "end_time": "2019-09-30T04:40:30.877036Z",
     "start_time": "2019-09-30T04:40:30.667483Z"
    }
   },
   "outputs": [
    {
     "data": {
      "image/png": "[encoded data removed]",
      "text/plain": [
       "<Figure size 432x288 with 2 Axes>"
      ]
     },
     "metadata": {
      "needs_background": "light"
     },
     "output_type": "display_data"
    }
   ],
   "source": [
    "# Similarity matrix: ENM PUC features\n",
    "similarity_heatmap(Xp_enm, \n",
    "                   feature_names=enm_PUC_names, \n",
    "                   save_fig_name='PUC-only')"
   ]
  },
  {
   "cell_type": "markdown",
   "metadata": {
    "ExecuteTime": {
     "end_time": "2018-12-11T05:06:12.347198Z",
     "start_time": "2018-12-11T05:06:12.330881Z"
    }
   },
   "source": [
    "### Dendrograms and elbow graph"
   ]
  },
  {
   "cell_type": "markdown",
   "metadata": {},
   "source": [
    "Optimize the number of clusters using the elbow method, which estimates the clustering step where the acceleration of distance growth is largest (indicated by the dashed gray line on the dendrogram)."
   ]
  },
  {
   "cell_type": "code",
   "execution_count": 28,
   "metadata": {
    "ExecuteTime": {
     "end_time": "2019-09-30T04:40:34.659178Z",
     "start_time": "2019-09-30T04:40:34.595451Z"
    }
   },
   "outputs": [],
   "source": [
    "# Define function to visualize best parameter options for clustering\n",
    "from scipy.spatial.distance import pdist, cosine\n",
    "from scipy.cluster.hierarchy import dendrogram, linkage\n",
    "\n",
    "def optimize_clustering(feature_data,\n",
    "                        feature_names,\n",
    "                        save_fig_name):\n",
    "    \n",
    "    # Calculate cosine distance and features to be clustered \n",
    "    # Z-array has format [idx1, idx2, dist, sample_count]\n",
    "    Z = linkage((feature_data.T), method='average', metric='cosine')\n",
    "    \n",
    "    # Calculations for elbow graph\n",
    "    last = Z[-len(Z):, 2]\n",
    "    last_rev = last[::-1]\n",
    "    idxs = np.arange(1, len(last) + 1)\n",
    "    acceleration = np.diff(last, 2)  # 2nd derivative of the distances\n",
    "    acceleration_rev = acceleration[::-1]\n",
    "    \n",
    "    # Find the 5 best contenders for optimal n_clusters\n",
    "    n = acceleration_rev.argmax() + 2  # if idx 0 is the max, want 2 clusters\n",
    "    top_n_clusters = acceleration_rev.argsort()[::-1][:3] + 2\n",
    "    \n",
    "    # Calculate best clustering threshold for dendrogram\n",
    "    cutoff_idx = len(feature_data.T) - n - 1\n",
    "    cutoff_dist = Z[cutoff_idx,2]\n",
    "    \n",
    "    # Report optimal n_clusters with Elbow Method\n",
    "    plt.plot(idxs, last_rev, label='distance')\n",
    "    plt.plot(idxs[:-2] + 1, acceleration_rev, label='acceleration')\n",
    "    plt.title('Elbow Method to Determine n_clusters for %s Features' \n",
    "              % save_fig_name)\n",
    "    plt.legend(bbox_to_anchor=(1.05, 1), loc=1, borderaxespad=0.)\n",
    "    plt.savefig('./figs/enm_elbow_%s.png' % save_fig_name)\n",
    "    plt.show()\n",
    "\n",
    "    print(\"Optimal(?) n_clusters:\", n)   \n",
    "    print(\"Contending n_clusters:\", top_n_clusters)\n",
    "    \n",
    "    # Plot and save dendrogram\n",
    "    fig=plt.figure(figsize=(30, 15))\n",
    "    plt.title('Hierarchical Clustering Dendrogram (%s)' % save_fig_name)\n",
    "    plt.xlabel('Feature Index')\n",
    "    plt.ylabel('Distance')\n",
    "    dendrogram(Z,\n",
    "               leaf_rotation=90.,   # rotates the x axis labels\n",
    "               leaf_font_size=14.,  # font size for the x axis labels\n",
    "               labels=feature_names)\n",
    "    plt.axhline(y=cutoff_dist, color='gray', linestyle='--',\n",
    "               label=\"cluster threshold\")\n",
    "    plt.show()\n",
    "    fig.savefig('./figs/enm_cluster_dendrogram_%s' % save_fig_name, \n",
    "                bbox_inches = 'tight')\n",
    "    \n",
    "    return top_n_clusters"
   ]
  },
  {
   "cell_type": "code",
   "execution_count": 29,
   "metadata": {
    "ExecuteTime": {
     "end_time": "2019-09-30T04:40:36.499393Z",
     "start_time": "2019-09-30T04:40:35.780109Z"
    }
   },
   "outputs": [
    {
     "data": {
      "image/png": "[encoded data removed]",
      "text/plain": [
       "<Figure size 432x288 with 1 Axes>"
      ]
     },
     "metadata": {
      "needs_background": "light"
     },
     "output_type": "display_data"
    },
    {
     "name": "stdout",
     "output_type": "stream",
     "text": [
      "Optimal(?) n_clusters: 13\n",
      "Contending n_clusters: [13 10  8]\n"
     ]
    },
    {
     "data": {
      "image/png": "[encoded data removed]",
      "text/plain": [
       "<Figure size 2160x1080 with 1 Axes>"
      ]
     },
     "metadata": {
      "needs_background": "light"
     },
     "output_type": "display_data"
    }
   ],
   "source": [
    "# Elbow graph and dendrogram: ENM functional use features\n",
    "cluster_set_f = optimize_clustering(Xf_enm, \n",
    "                                    feature_names=enm_func_names, \n",
    "                                    save_fig_name='function')"
   ]
  },
  {
   "cell_type": "code",
   "execution_count": 30,
   "metadata": {
    "ExecuteTime": {
     "end_time": "2019-09-30T04:40:37.941198Z",
     "start_time": "2019-09-30T04:40:37.174238Z"
    }
   },
   "outputs": [
    {
     "data": {
      "image/png": "[encoded data removed]",
      "text/plain": [
       "<Figure size 432x288 with 1 Axes>"
      ]
     },
     "metadata": {
      "needs_background": "light"
     },
     "output_type": "display_data"
    },
    {
     "name": "stdout",
     "output_type": "stream",
     "text": [
      "Optimal(?) n_clusters: 16\n",
      "Contending n_clusters: [16 18 14]\n"
     ]
    },
    {
     "data": {
      "image/png": "[encoded data removed]",
      "text/plain": [
       "<Figure size 2160x1080 with 1 Axes>"
      ]
     },
     "metadata": {
      "needs_background": "light"
     },
     "output_type": "display_data"
    }
   ],
   "source": [
    "# Elbow graph and dendrogram: ENM PUC features\n",
    "cluster_set_p = optimize_clustering(Xp_enm, \n",
    "                                    feature_names=enm_PUC_names, \n",
    "                                    save_fig_name='PUC')"
   ]
  },
  {
   "cell_type": "markdown",
   "metadata": {},
   "source": [
    "### Helper class for selecting best ENM estimator"
   ]
  },
  {
   "cell_type": "code",
   "execution_count": 31,
   "metadata": {
    "ExecuteTime": {
     "end_time": "2019-09-30T04:40:39.066599Z",
     "start_time": "2019-09-30T04:40:39.003648Z"
    }
   },
   "outputs": [],
   "source": [
    "# Define sets of models and their respective parameters to compare\n",
    "# The first dictionary contains the models to be scored\n",
    "# while the second contains the parameters for each model\n",
    "\n",
    "from sklearn.cluster import FeatureAgglomeration\n",
    "from sklearn.svm import SVC\n",
    "from sklearn.ensemble import RandomForestClassifier\n",
    "\n",
    "models = {\n",
    "    'RFC': RandomForestClassifier(class_weight='balanced'),\n",
    "    'SVC': SVC(class_weight='balanced')\n",
    "}\n",
    "params = {\n",
    "    'RFC': {'max_depth': [2,4,6,8]},\n",
    "    'SVC': [{'kernel': ['linear'], \n",
    "             'C': np.logspace(-1,7,9)},\n",
    "            {'kernel': ['rbf'], \n",
    "             'C': np.logspace(-1,7,9), \n",
    "             'gamma': np.logspace(-7,1,9)},\n",
    "           ]\n",
    "}"
   ]
  },
  {
   "cell_type": "code",
   "execution_count": 33,
   "metadata": {
    "ExecuteTime": {
     "end_time": "2019-09-30T04:43:17.753130Z",
     "start_time": "2019-09-30T04:41:25.056727Z"
    }
   },
   "outputs": [
    {
     "name": "stdout",
     "output_type": "stream",
     "text": [
      "Running GridSearchCV for RFC.\n",
      "Fitting 10 folds for each of 4 candidates, totalling 40 fits\n"
     ]
    },
    {
     "name": "stderr",
     "output_type": "stream",
     "text": [
      "[Parallel(n_jobs=3)]: Using backend LokyBackend with 3 concurrent workers.\n",
      "[Parallel(n_jobs=3)]: Done  40 out of  40 | elapsed:    0.3s finished\n",
      "/anaconda3/lib/python3.7/site-packages/sklearn/model_selection/_search.py:841: DeprecationWarning: The default of the `iid` parameter will change from True to False in version 0.22 and will be removed in 0.24. This will change numeric results when test-set sizes are unequal.\n",
      "  DeprecationWarning)\n",
      "[Parallel(n_jobs=3)]: Using backend LokyBackend with 3 concurrent workers.\n"
     ]
    },
    {
     "name": "stdout",
     "output_type": "stream",
     "text": [
      "Running GridSearchCV for SVC.\n",
      "Fitting 10 folds for each of 90 candidates, totalling 900 fits\n",
      "RFC\n",
      "SVC\n"
     ]
    },
    {
     "name": "stderr",
     "output_type": "stream",
     "text": [
      "[Parallel(n_jobs=3)]: Done 900 out of 900 | elapsed:  1.9min finished\n",
      "/anaconda3/lib/python3.7/site-packages/sklearn/model_selection/_search.py:841: DeprecationWarning: The default of the `iid` parameter will change from True to False in version 0.22 and will be removed in 0.24. This will change numeric results when test-set sizes are unequal.\n",
      "  DeprecationWarning)\n"
     ]
    },
    {
     "data": {
      "text/html": [
       "<div>\n",
       "<style scoped>\n",
       "    .dataframe tbody tr th:only-of-type {\n",
       "        vertical-align: middle;\n",
       "    }\n",
       "\n",
       "    .dataframe tbody tr th {\n",
       "        vertical-align: top;\n",
       "    }\n",
       "\n",
       "    .dataframe thead th {\n",
       "        text-align: right;\n",
       "    }\n",
       "</style>\n",
       "<table border=\"1\" class=\"dataframe\">\n",
       "  <thead>\n",
       "    <tr style=\"text-align: right;\">\n",
       "      <th></th>\n",
       "      <th>estimator</th>\n",
       "      <th>min_score</th>\n",
       "      <th>mean_score</th>\n",
       "      <th>max_score</th>\n",
       "      <th>std_score</th>\n",
       "      <th>C</th>\n",
       "      <th>gamma</th>\n",
       "      <th>kernel</th>\n",
       "      <th>max_depth</th>\n",
       "    </tr>\n",
       "  </thead>\n",
       "  <tbody>\n",
       "    <tr>\n",
       "      <th>4</th>\n",
       "      <td>SVC</td>\n",
       "      <td>0.416667</td>\n",
       "      <td>0.688333</td>\n",
       "      <td>0.8</td>\n",
       "      <td>0.11316</td>\n",
       "      <td>0.1</td>\n",
       "      <td>NaN</td>\n",
       "      <td>linear</td>\n",
       "      <td>NaN</td>\n",
       "    </tr>\n",
       "    <tr>\n",
       "      <th>76</th>\n",
       "      <td>SVC</td>\n",
       "      <td>0.416667</td>\n",
       "      <td>0.655</td>\n",
       "      <td>0.8</td>\n",
       "      <td>0.12053</td>\n",
       "      <td>1e+06</td>\n",
       "      <td>1e-07</td>\n",
       "      <td>rbf</td>\n",
       "      <td>NaN</td>\n",
       "    </tr>\n",
       "    <tr>\n",
       "      <th>20</th>\n",
       "      <td>SVC</td>\n",
       "      <td>0.416667</td>\n",
       "      <td>0.651667</td>\n",
       "      <td>0.777778</td>\n",
       "      <td>0.108242</td>\n",
       "      <td>0.1</td>\n",
       "      <td>1</td>\n",
       "      <td>rbf</td>\n",
       "      <td>NaN</td>\n",
       "    </tr>\n",
       "    <tr>\n",
       "      <th>1</th>\n",
       "      <td>RFC</td>\n",
       "      <td>0.0833333</td>\n",
       "      <td>0.646667</td>\n",
       "      <td>0.8</td>\n",
       "      <td>0.199895</td>\n",
       "      <td>NaN</td>\n",
       "      <td>NaN</td>\n",
       "      <td>NaN</td>\n",
       "      <td>4</td>\n",
       "    </tr>\n",
       "    <tr>\n",
       "      <th>28</th>\n",
       "      <td>SVC</td>\n",
       "      <td>0.416667</td>\n",
       "      <td>0.646667</td>\n",
       "      <td>0.8</td>\n",
       "      <td>0.122303</td>\n",
       "      <td>1</td>\n",
       "      <td>0.1</td>\n",
       "      <td>rbf</td>\n",
       "      <td>NaN</td>\n",
       "    </tr>\n",
       "    <tr>\n",
       "      <th>59</th>\n",
       "      <td>SVC</td>\n",
       "      <td>0.2</td>\n",
       "      <td>0.636667</td>\n",
       "      <td>0.777778</td>\n",
       "      <td>0.170007</td>\n",
       "      <td>10000</td>\n",
       "      <td>1e-06</td>\n",
       "      <td>rbf</td>\n",
       "      <td>NaN</td>\n",
       "    </tr>\n",
       "    <tr>\n",
       "      <th>35</th>\n",
       "      <td>SVC</td>\n",
       "      <td>0.2</td>\n",
       "      <td>0.636667</td>\n",
       "      <td>0.777778</td>\n",
       "      <td>0.170007</td>\n",
       "      <td>10</td>\n",
       "      <td>0.001</td>\n",
       "      <td>rbf</td>\n",
       "      <td>NaN</td>\n",
       "    </tr>\n",
       "    <tr>\n",
       "      <th>0</th>\n",
       "      <td>RFC</td>\n",
       "      <td>0.416667</td>\n",
       "      <td>0.626667</td>\n",
       "      <td>0.777778</td>\n",
       "      <td>0.117531</td>\n",
       "      <td>NaN</td>\n",
       "      <td>NaN</td>\n",
       "      <td>NaN</td>\n",
       "      <td>2</td>\n",
       "    </tr>\n",
       "    <tr>\n",
       "      <th>68</th>\n",
       "      <td>SVC</td>\n",
       "      <td>0.333333</td>\n",
       "      <td>0.624444</td>\n",
       "      <td>0.8</td>\n",
       "      <td>0.15314</td>\n",
       "      <td>100000</td>\n",
       "      <td>1e-06</td>\n",
       "      <td>rbf</td>\n",
       "      <td>NaN</td>\n",
       "    </tr>\n",
       "    <tr>\n",
       "      <th>52</th>\n",
       "      <td>SVC</td>\n",
       "      <td>0.333333</td>\n",
       "      <td>0.624444</td>\n",
       "      <td>0.8</td>\n",
       "      <td>0.15314</td>\n",
       "      <td>1000</td>\n",
       "      <td>0.0001</td>\n",
       "      <td>rbf</td>\n",
       "      <td>NaN</td>\n",
       "    </tr>\n",
       "    <tr>\n",
       "      <th>60</th>\n",
       "      <td>SVC</td>\n",
       "      <td>0.333333</td>\n",
       "      <td>0.624444</td>\n",
       "      <td>0.8</td>\n",
       "      <td>0.15314</td>\n",
       "      <td>10000</td>\n",
       "      <td>1e-05</td>\n",
       "      <td>rbf</td>\n",
       "      <td>NaN</td>\n",
       "    </tr>\n",
       "    <tr>\n",
       "      <th>44</th>\n",
       "      <td>SVC</td>\n",
       "      <td>0.333333</td>\n",
       "      <td>0.624444</td>\n",
       "      <td>0.8</td>\n",
       "      <td>0.15314</td>\n",
       "      <td>100</td>\n",
       "      <td>0.001</td>\n",
       "      <td>rbf</td>\n",
       "      <td>NaN</td>\n",
       "    </tr>\n",
       "    <tr>\n",
       "      <th>36</th>\n",
       "      <td>SVC</td>\n",
       "      <td>0.333333</td>\n",
       "      <td>0.624444</td>\n",
       "      <td>0.8</td>\n",
       "      <td>0.15314</td>\n",
       "      <td>10</td>\n",
       "      <td>0.01</td>\n",
       "      <td>rbf</td>\n",
       "      <td>NaN</td>\n",
       "    </tr>\n",
       "    <tr>\n",
       "      <th>51</th>\n",
       "      <td>SVC</td>\n",
       "      <td>0.4</td>\n",
       "      <td>0.623333</td>\n",
       "      <td>0.777778</td>\n",
       "      <td>0.132003</td>\n",
       "      <td>1000</td>\n",
       "      <td>1e-05</td>\n",
       "      <td>rbf</td>\n",
       "      <td>NaN</td>\n",
       "    </tr>\n",
       "    <tr>\n",
       "      <th>2</th>\n",
       "      <td>RFC</td>\n",
       "      <td>0.0833333</td>\n",
       "      <td>0.621667</td>\n",
       "      <td>0.8</td>\n",
       "      <td>0.204463</td>\n",
       "      <td>NaN</td>\n",
       "      <td>NaN</td>\n",
       "      <td>NaN</td>\n",
       "      <td>6</td>\n",
       "    </tr>\n",
       "    <tr>\n",
       "      <th>8</th>\n",
       "      <td>SVC</td>\n",
       "      <td>0.0833333</td>\n",
       "      <td>0.613333</td>\n",
       "      <td>0.833333</td>\n",
       "      <td>0.214119</td>\n",
       "      <td>1000</td>\n",
       "      <td>NaN</td>\n",
       "      <td>linear</td>\n",
       "      <td>NaN</td>\n",
       "    </tr>\n",
       "    <tr>\n",
       "      <th>9</th>\n",
       "      <td>SVC</td>\n",
       "      <td>0.0833333</td>\n",
       "      <td>0.613333</td>\n",
       "      <td>0.833333</td>\n",
       "      <td>0.214119</td>\n",
       "      <td>10000</td>\n",
       "      <td>NaN</td>\n",
       "      <td>linear</td>\n",
       "      <td>NaN</td>\n",
       "    </tr>\n",
       "    <tr>\n",
       "      <th>72</th>\n",
       "      <td>SVC</td>\n",
       "      <td>0.0833333</td>\n",
       "      <td>0.613333</td>\n",
       "      <td>0.833333</td>\n",
       "      <td>0.214119</td>\n",
       "      <td>100000</td>\n",
       "      <td>0.01</td>\n",
       "      <td>rbf</td>\n",
       "      <td>NaN</td>\n",
       "    </tr>\n",
       "    <tr>\n",
       "      <th>71</th>\n",
       "      <td>SVC</td>\n",
       "      <td>0.0833333</td>\n",
       "      <td>0.613333</td>\n",
       "      <td>0.833333</td>\n",
       "      <td>0.214119</td>\n",
       "      <td>100000</td>\n",
       "      <td>0.001</td>\n",
       "      <td>rbf</td>\n",
       "      <td>NaN</td>\n",
       "    </tr>\n",
       "    <tr>\n",
       "      <th>70</th>\n",
       "      <td>SVC</td>\n",
       "      <td>0.0833333</td>\n",
       "      <td>0.613333</td>\n",
       "      <td>0.833333</td>\n",
       "      <td>0.214119</td>\n",
       "      <td>100000</td>\n",
       "      <td>0.0001</td>\n",
       "      <td>rbf</td>\n",
       "      <td>NaN</td>\n",
       "    </tr>\n",
       "    <tr>\n",
       "      <th>62</th>\n",
       "      <td>SVC</td>\n",
       "      <td>0.0833333</td>\n",
       "      <td>0.613333</td>\n",
       "      <td>0.833333</td>\n",
       "      <td>0.214119</td>\n",
       "      <td>10000</td>\n",
       "      <td>0.001</td>\n",
       "      <td>rbf</td>\n",
       "      <td>NaN</td>\n",
       "    </tr>\n",
       "    <tr>\n",
       "      <th>64</th>\n",
       "      <td>SVC</td>\n",
       "      <td>0.0833333</td>\n",
       "      <td>0.613333</td>\n",
       "      <td>0.833333</td>\n",
       "      <td>0.214119</td>\n",
       "      <td>10000</td>\n",
       "      <td>0.1</td>\n",
       "      <td>rbf</td>\n",
       "      <td>NaN</td>\n",
       "    </tr>\n",
       "    <tr>\n",
       "      <th>63</th>\n",
       "      <td>SVC</td>\n",
       "      <td>0.0833333</td>\n",
       "      <td>0.613333</td>\n",
       "      <td>0.833333</td>\n",
       "      <td>0.214119</td>\n",
       "      <td>10000</td>\n",
       "      <td>0.01</td>\n",
       "      <td>rbf</td>\n",
       "      <td>NaN</td>\n",
       "    </tr>\n",
       "    <tr>\n",
       "      <th>55</th>\n",
       "      <td>SVC</td>\n",
       "      <td>0.0833333</td>\n",
       "      <td>0.613333</td>\n",
       "      <td>0.833333</td>\n",
       "      <td>0.214119</td>\n",
       "      <td>1000</td>\n",
       "      <td>0.1</td>\n",
       "      <td>rbf</td>\n",
       "      <td>NaN</td>\n",
       "    </tr>\n",
       "    <tr>\n",
       "      <th>46</th>\n",
       "      <td>SVC</td>\n",
       "      <td>0.0833333</td>\n",
       "      <td>0.613333</td>\n",
       "      <td>0.833333</td>\n",
       "      <td>0.214119</td>\n",
       "      <td>100</td>\n",
       "      <td>0.1</td>\n",
       "      <td>rbf</td>\n",
       "      <td>NaN</td>\n",
       "    </tr>\n",
       "    <tr>\n",
       "      <th>3</th>\n",
       "      <td>RFC</td>\n",
       "      <td>0.0833333</td>\n",
       "      <td>0.613333</td>\n",
       "      <td>0.8</td>\n",
       "      <td>0.210851</td>\n",
       "      <td>NaN</td>\n",
       "      <td>NaN</td>\n",
       "      <td>NaN</td>\n",
       "      <td>8</td>\n",
       "    </tr>\n",
       "    <tr>\n",
       "      <th>6</th>\n",
       "      <td>SVC</td>\n",
       "      <td>0.0833333</td>\n",
       "      <td>0.613333</td>\n",
       "      <td>0.833333</td>\n",
       "      <td>0.214119</td>\n",
       "      <td>10</td>\n",
       "      <td>NaN</td>\n",
       "      <td>linear</td>\n",
       "      <td>NaN</td>\n",
       "    </tr>\n",
       "    <tr>\n",
       "      <th>73</th>\n",
       "      <td>SVC</td>\n",
       "      <td>0.0833333</td>\n",
       "      <td>0.613333</td>\n",
       "      <td>0.833333</td>\n",
       "      <td>0.214119</td>\n",
       "      <td>100000</td>\n",
       "      <td>0.1</td>\n",
       "      <td>rbf</td>\n",
       "      <td>NaN</td>\n",
       "    </tr>\n",
       "    <tr>\n",
       "      <th>54</th>\n",
       "      <td>SVC</td>\n",
       "      <td>0.0833333</td>\n",
       "      <td>0.613333</td>\n",
       "      <td>0.833333</td>\n",
       "      <td>0.214119</td>\n",
       "      <td>1000</td>\n",
       "      <td>0.01</td>\n",
       "      <td>rbf</td>\n",
       "      <td>NaN</td>\n",
       "    </tr>\n",
       "    <tr>\n",
       "      <th>12</th>\n",
       "      <td>SVC</td>\n",
       "      <td>0.0833333</td>\n",
       "      <td>0.613333</td>\n",
       "      <td>0.833333</td>\n",
       "      <td>0.214119</td>\n",
       "      <td>1e+07</td>\n",
       "      <td>NaN</td>\n",
       "      <td>linear</td>\n",
       "      <td>NaN</td>\n",
       "    </tr>\n",
       "    <tr>\n",
       "      <th>...</th>\n",
       "      <td>...</td>\n",
       "      <td>...</td>\n",
       "      <td>...</td>\n",
       "      <td>...</td>\n",
       "      <td>...</td>\n",
       "      <td>...</td>\n",
       "      <td>...</td>\n",
       "      <td>...</td>\n",
       "      <td>...</td>\n",
       "    </tr>\n",
       "    <tr>\n",
       "      <th>84</th>\n",
       "      <td>SVC</td>\n",
       "      <td>0.0833333</td>\n",
       "      <td>0.538333</td>\n",
       "      <td>0.8</td>\n",
       "      <td>0.222672</td>\n",
       "      <td>1e+06</td>\n",
       "      <td>10</td>\n",
       "      <td>rbf</td>\n",
       "      <td>NaN</td>\n",
       "    </tr>\n",
       "    <tr>\n",
       "      <th>57</th>\n",
       "      <td>SVC</td>\n",
       "      <td>0.0833333</td>\n",
       "      <td>0.538333</td>\n",
       "      <td>0.8</td>\n",
       "      <td>0.222672</td>\n",
       "      <td>1000</td>\n",
       "      <td>10</td>\n",
       "      <td>rbf</td>\n",
       "      <td>NaN</td>\n",
       "    </tr>\n",
       "    <tr>\n",
       "      <th>93</th>\n",
       "      <td>SVC</td>\n",
       "      <td>0.0833333</td>\n",
       "      <td>0.538333</td>\n",
       "      <td>0.8</td>\n",
       "      <td>0.222672</td>\n",
       "      <td>1e+07</td>\n",
       "      <td>10</td>\n",
       "      <td>rbf</td>\n",
       "      <td>NaN</td>\n",
       "    </tr>\n",
       "    <tr>\n",
       "      <th>39</th>\n",
       "      <td>SVC</td>\n",
       "      <td>0.0833333</td>\n",
       "      <td>0.538333</td>\n",
       "      <td>0.8</td>\n",
       "      <td>0.222672</td>\n",
       "      <td>10</td>\n",
       "      <td>10</td>\n",
       "      <td>rbf</td>\n",
       "      <td>NaN</td>\n",
       "    </tr>\n",
       "    <tr>\n",
       "      <th>48</th>\n",
       "      <td>SVC</td>\n",
       "      <td>0.0833333</td>\n",
       "      <td>0.538333</td>\n",
       "      <td>0.8</td>\n",
       "      <td>0.222672</td>\n",
       "      <td>100</td>\n",
       "      <td>10</td>\n",
       "      <td>rbf</td>\n",
       "      <td>NaN</td>\n",
       "    </tr>\n",
       "    <tr>\n",
       "      <th>43</th>\n",
       "      <td>SVC</td>\n",
       "      <td>0.222222</td>\n",
       "      <td>0.534444</td>\n",
       "      <td>0.75</td>\n",
       "      <td>0.197121</td>\n",
       "      <td>100</td>\n",
       "      <td>0.0001</td>\n",
       "      <td>rbf</td>\n",
       "      <td>NaN</td>\n",
       "    </tr>\n",
       "    <tr>\n",
       "      <th>30</th>\n",
       "      <td>SVC</td>\n",
       "      <td>0.0833333</td>\n",
       "      <td>0.53</td>\n",
       "      <td>0.8</td>\n",
       "      <td>0.219247</td>\n",
       "      <td>1</td>\n",
       "      <td>10</td>\n",
       "      <td>rbf</td>\n",
       "      <td>NaN</td>\n",
       "    </tr>\n",
       "    <tr>\n",
       "      <th>86</th>\n",
       "      <td>SVC</td>\n",
       "      <td>0.0833333</td>\n",
       "      <td>0.515556</td>\n",
       "      <td>0.833333</td>\n",
       "      <td>0.232708</td>\n",
       "      <td>1e+07</td>\n",
       "      <td>1e-06</td>\n",
       "      <td>rbf</td>\n",
       "      <td>NaN</td>\n",
       "    </tr>\n",
       "    <tr>\n",
       "      <th>19</th>\n",
       "      <td>SVC</td>\n",
       "      <td>0.2</td>\n",
       "      <td>0.495</td>\n",
       "      <td>0.75</td>\n",
       "      <td>0.14628</td>\n",
       "      <td>0.1</td>\n",
       "      <td>0.1</td>\n",
       "      <td>rbf</td>\n",
       "      <td>NaN</td>\n",
       "    </tr>\n",
       "    <tr>\n",
       "      <th>13</th>\n",
       "      <td>SVC</td>\n",
       "      <td>0.2</td>\n",
       "      <td>0.400556</td>\n",
       "      <td>0.444444</td>\n",
       "      <td>0.0677436</td>\n",
       "      <td>0.1</td>\n",
       "      <td>1e-07</td>\n",
       "      <td>rbf</td>\n",
       "      <td>NaN</td>\n",
       "    </tr>\n",
       "    <tr>\n",
       "      <th>14</th>\n",
       "      <td>SVC</td>\n",
       "      <td>0.2</td>\n",
       "      <td>0.400556</td>\n",
       "      <td>0.444444</td>\n",
       "      <td>0.0677436</td>\n",
       "      <td>0.1</td>\n",
       "      <td>1e-06</td>\n",
       "      <td>rbf</td>\n",
       "      <td>NaN</td>\n",
       "    </tr>\n",
       "    <tr>\n",
       "      <th>15</th>\n",
       "      <td>SVC</td>\n",
       "      <td>0.2</td>\n",
       "      <td>0.400556</td>\n",
       "      <td>0.444444</td>\n",
       "      <td>0.0677436</td>\n",
       "      <td>0.1</td>\n",
       "      <td>1e-05</td>\n",
       "      <td>rbf</td>\n",
       "      <td>NaN</td>\n",
       "    </tr>\n",
       "    <tr>\n",
       "      <th>16</th>\n",
       "      <td>SVC</td>\n",
       "      <td>0.2</td>\n",
       "      <td>0.400556</td>\n",
       "      <td>0.444444</td>\n",
       "      <td>0.0677436</td>\n",
       "      <td>0.1</td>\n",
       "      <td>0.0001</td>\n",
       "      <td>rbf</td>\n",
       "      <td>NaN</td>\n",
       "    </tr>\n",
       "    <tr>\n",
       "      <th>17</th>\n",
       "      <td>SVC</td>\n",
       "      <td>0.2</td>\n",
       "      <td>0.400556</td>\n",
       "      <td>0.444444</td>\n",
       "      <td>0.0677436</td>\n",
       "      <td>0.1</td>\n",
       "      <td>0.001</td>\n",
       "      <td>rbf</td>\n",
       "      <td>NaN</td>\n",
       "    </tr>\n",
       "    <tr>\n",
       "      <th>18</th>\n",
       "      <td>SVC</td>\n",
       "      <td>0.2</td>\n",
       "      <td>0.400556</td>\n",
       "      <td>0.444444</td>\n",
       "      <td>0.0677436</td>\n",
       "      <td>0.1</td>\n",
       "      <td>0.01</td>\n",
       "      <td>rbf</td>\n",
       "      <td>NaN</td>\n",
       "    </tr>\n",
       "    <tr>\n",
       "      <th>49</th>\n",
       "      <td>SVC</td>\n",
       "      <td>0.333333</td>\n",
       "      <td>0.398333</td>\n",
       "      <td>0.416667</td>\n",
       "      <td>0.0328718</td>\n",
       "      <td>1000</td>\n",
       "      <td>1e-07</td>\n",
       "      <td>rbf</td>\n",
       "      <td>NaN</td>\n",
       "    </tr>\n",
       "    <tr>\n",
       "      <th>50</th>\n",
       "      <td>SVC</td>\n",
       "      <td>0.333333</td>\n",
       "      <td>0.398333</td>\n",
       "      <td>0.416667</td>\n",
       "      <td>0.0328718</td>\n",
       "      <td>1000</td>\n",
       "      <td>1e-06</td>\n",
       "      <td>rbf</td>\n",
       "      <td>NaN</td>\n",
       "    </tr>\n",
       "    <tr>\n",
       "      <th>31</th>\n",
       "      <td>SVC</td>\n",
       "      <td>0.2</td>\n",
       "      <td>0.386667</td>\n",
       "      <td>0.777778</td>\n",
       "      <td>0.153703</td>\n",
       "      <td>10</td>\n",
       "      <td>1e-07</td>\n",
       "      <td>rbf</td>\n",
       "      <td>NaN</td>\n",
       "    </tr>\n",
       "    <tr>\n",
       "      <th>32</th>\n",
       "      <td>SVC</td>\n",
       "      <td>0.2</td>\n",
       "      <td>0.386667</td>\n",
       "      <td>0.777778</td>\n",
       "      <td>0.153703</td>\n",
       "      <td>10</td>\n",
       "      <td>1e-06</td>\n",
       "      <td>rbf</td>\n",
       "      <td>NaN</td>\n",
       "    </tr>\n",
       "    <tr>\n",
       "      <th>33</th>\n",
       "      <td>SVC</td>\n",
       "      <td>0.2</td>\n",
       "      <td>0.386667</td>\n",
       "      <td>0.777778</td>\n",
       "      <td>0.153703</td>\n",
       "      <td>10</td>\n",
       "      <td>1e-05</td>\n",
       "      <td>rbf</td>\n",
       "      <td>NaN</td>\n",
       "    </tr>\n",
       "    <tr>\n",
       "      <th>34</th>\n",
       "      <td>SVC</td>\n",
       "      <td>0.2</td>\n",
       "      <td>0.386667</td>\n",
       "      <td>0.777778</td>\n",
       "      <td>0.153703</td>\n",
       "      <td>10</td>\n",
       "      <td>0.0001</td>\n",
       "      <td>rbf</td>\n",
       "      <td>NaN</td>\n",
       "    </tr>\n",
       "    <tr>\n",
       "      <th>40</th>\n",
       "      <td>SVC</td>\n",
       "      <td>0.222222</td>\n",
       "      <td>0.376111</td>\n",
       "      <td>0.416667</td>\n",
       "      <td>0.0771022</td>\n",
       "      <td>100</td>\n",
       "      <td>1e-07</td>\n",
       "      <td>rbf</td>\n",
       "      <td>NaN</td>\n",
       "    </tr>\n",
       "    <tr>\n",
       "      <th>42</th>\n",
       "      <td>SVC</td>\n",
       "      <td>0.222222</td>\n",
       "      <td>0.376111</td>\n",
       "      <td>0.416667</td>\n",
       "      <td>0.0771022</td>\n",
       "      <td>100</td>\n",
       "      <td>1e-05</td>\n",
       "      <td>rbf</td>\n",
       "      <td>NaN</td>\n",
       "    </tr>\n",
       "    <tr>\n",
       "      <th>41</th>\n",
       "      <td>SVC</td>\n",
       "      <td>0.222222</td>\n",
       "      <td>0.376111</td>\n",
       "      <td>0.416667</td>\n",
       "      <td>0.0771022</td>\n",
       "      <td>100</td>\n",
       "      <td>1e-06</td>\n",
       "      <td>rbf</td>\n",
       "      <td>NaN</td>\n",
       "    </tr>\n",
       "    <tr>\n",
       "      <th>58</th>\n",
       "      <td>SVC</td>\n",
       "      <td>0.2</td>\n",
       "      <td>0.32</td>\n",
       "      <td>0.333333</td>\n",
       "      <td>0.04</td>\n",
       "      <td>10000</td>\n",
       "      <td>1e-07</td>\n",
       "      <td>rbf</td>\n",
       "      <td>NaN</td>\n",
       "    </tr>\n",
       "    <tr>\n",
       "      <th>22</th>\n",
       "      <td>SVC</td>\n",
       "      <td>0.2</td>\n",
       "      <td>0.297778</td>\n",
       "      <td>0.333333</td>\n",
       "      <td>0.0546142</td>\n",
       "      <td>1</td>\n",
       "      <td>1e-07</td>\n",
       "      <td>rbf</td>\n",
       "      <td>NaN</td>\n",
       "    </tr>\n",
       "    <tr>\n",
       "      <th>24</th>\n",
       "      <td>SVC</td>\n",
       "      <td>0.2</td>\n",
       "      <td>0.297778</td>\n",
       "      <td>0.333333</td>\n",
       "      <td>0.0546142</td>\n",
       "      <td>1</td>\n",
       "      <td>1e-05</td>\n",
       "      <td>rbf</td>\n",
       "      <td>NaN</td>\n",
       "    </tr>\n",
       "    <tr>\n",
       "      <th>25</th>\n",
       "      <td>SVC</td>\n",
       "      <td>0.2</td>\n",
       "      <td>0.297778</td>\n",
       "      <td>0.333333</td>\n",
       "      <td>0.0546142</td>\n",
       "      <td>1</td>\n",
       "      <td>0.0001</td>\n",
       "      <td>rbf</td>\n",
       "      <td>NaN</td>\n",
       "    </tr>\n",
       "    <tr>\n",
       "      <th>26</th>\n",
       "      <td>SVC</td>\n",
       "      <td>0.2</td>\n",
       "      <td>0.297778</td>\n",
       "      <td>0.333333</td>\n",
       "      <td>0.0546142</td>\n",
       "      <td>1</td>\n",
       "      <td>0.001</td>\n",
       "      <td>rbf</td>\n",
       "      <td>NaN</td>\n",
       "    </tr>\n",
       "    <tr>\n",
       "      <th>23</th>\n",
       "      <td>SVC</td>\n",
       "      <td>0.2</td>\n",
       "      <td>0.297778</td>\n",
       "      <td>0.333333</td>\n",
       "      <td>0.0546142</td>\n",
       "      <td>1</td>\n",
       "      <td>1e-06</td>\n",
       "      <td>rbf</td>\n",
       "      <td>NaN</td>\n",
       "    </tr>\n",
       "  </tbody>\n",
       "</table>\n",
       "<p>94 rows × 9 columns</p>\n",
       "</div>"
      ],
      "text/plain": [
       "   estimator  min_score mean_score max_score  std_score       C   gamma  \\\n",
       "4        SVC   0.416667   0.688333       0.8    0.11316     0.1     NaN   \n",
       "76       SVC   0.416667      0.655       0.8    0.12053   1e+06   1e-07   \n",
       "20       SVC   0.416667   0.651667  0.777778   0.108242     0.1       1   \n",
       "1        RFC  0.0833333   0.646667       0.8   0.199895     NaN     NaN   \n",
       "28       SVC   0.416667   0.646667       0.8   0.122303       1     0.1   \n",
       "59       SVC        0.2   0.636667  0.777778   0.170007   10000   1e-06   \n",
       "35       SVC        0.2   0.636667  0.777778   0.170007      10   0.001   \n",
       "0        RFC   0.416667   0.626667  0.777778   0.117531     NaN     NaN   \n",
       "68       SVC   0.333333   0.624444       0.8    0.15314  100000   1e-06   \n",
       "52       SVC   0.333333   0.624444       0.8    0.15314    1000  0.0001   \n",
       "60       SVC   0.333333   0.624444       0.8    0.15314   10000   1e-05   \n",
       "44       SVC   0.333333   0.624444       0.8    0.15314     100   0.001   \n",
       "36       SVC   0.333333   0.624444       0.8    0.15314      10    0.01   \n",
       "51       SVC        0.4   0.623333  0.777778   0.132003    1000   1e-05   \n",
       "2        RFC  0.0833333   0.621667       0.8   0.204463     NaN     NaN   \n",
       "8        SVC  0.0833333   0.613333  0.833333   0.214119    1000     NaN   \n",
       "9        SVC  0.0833333   0.613333  0.833333   0.214119   10000     NaN   \n",
       "72       SVC  0.0833333   0.613333  0.833333   0.214119  100000    0.01   \n",
       "71       SVC  0.0833333   0.613333  0.833333   0.214119  100000   0.001   \n",
       "70       SVC  0.0833333   0.613333  0.833333   0.214119  100000  0.0001   \n",
       "62       SVC  0.0833333   0.613333  0.833333   0.214119   10000   0.001   \n",
       "64       SVC  0.0833333   0.613333  0.833333   0.214119   10000     0.1   \n",
       "63       SVC  0.0833333   0.613333  0.833333   0.214119   10000    0.01   \n",
       "55       SVC  0.0833333   0.613333  0.833333   0.214119    1000     0.1   \n",
       "46       SVC  0.0833333   0.613333  0.833333   0.214119     100     0.1   \n",
       "3        RFC  0.0833333   0.613333       0.8   0.210851     NaN     NaN   \n",
       "6        SVC  0.0833333   0.613333  0.833333   0.214119      10     NaN   \n",
       "73       SVC  0.0833333   0.613333  0.833333   0.214119  100000     0.1   \n",
       "54       SVC  0.0833333   0.613333  0.833333   0.214119    1000    0.01   \n",
       "12       SVC  0.0833333   0.613333  0.833333   0.214119   1e+07     NaN   \n",
       "..       ...        ...        ...       ...        ...     ...     ...   \n",
       "84       SVC  0.0833333   0.538333       0.8   0.222672   1e+06      10   \n",
       "57       SVC  0.0833333   0.538333       0.8   0.222672    1000      10   \n",
       "93       SVC  0.0833333   0.538333       0.8   0.222672   1e+07      10   \n",
       "39       SVC  0.0833333   0.538333       0.8   0.222672      10      10   \n",
       "48       SVC  0.0833333   0.538333       0.8   0.222672     100      10   \n",
       "43       SVC   0.222222   0.534444      0.75   0.197121     100  0.0001   \n",
       "30       SVC  0.0833333       0.53       0.8   0.219247       1      10   \n",
       "86       SVC  0.0833333   0.515556  0.833333   0.232708   1e+07   1e-06   \n",
       "19       SVC        0.2      0.495      0.75    0.14628     0.1     0.1   \n",
       "13       SVC        0.2   0.400556  0.444444  0.0677436     0.1   1e-07   \n",
       "14       SVC        0.2   0.400556  0.444444  0.0677436     0.1   1e-06   \n",
       "15       SVC        0.2   0.400556  0.444444  0.0677436     0.1   1e-05   \n",
       "16       SVC        0.2   0.400556  0.444444  0.0677436     0.1  0.0001   \n",
       "17       SVC        0.2   0.400556  0.444444  0.0677436     0.1   0.001   \n",
       "18       SVC        0.2   0.400556  0.444444  0.0677436     0.1    0.01   \n",
       "49       SVC   0.333333   0.398333  0.416667  0.0328718    1000   1e-07   \n",
       "50       SVC   0.333333   0.398333  0.416667  0.0328718    1000   1e-06   \n",
       "31       SVC        0.2   0.386667  0.777778   0.153703      10   1e-07   \n",
       "32       SVC        0.2   0.386667  0.777778   0.153703      10   1e-06   \n",
       "33       SVC        0.2   0.386667  0.777778   0.153703      10   1e-05   \n",
       "34       SVC        0.2   0.386667  0.777778   0.153703      10  0.0001   \n",
       "40       SVC   0.222222   0.376111  0.416667  0.0771022     100   1e-07   \n",
       "42       SVC   0.222222   0.376111  0.416667  0.0771022     100   1e-05   \n",
       "41       SVC   0.222222   0.376111  0.416667  0.0771022     100   1e-06   \n",
       "58       SVC        0.2       0.32  0.333333       0.04   10000   1e-07   \n",
       "22       SVC        0.2   0.297778  0.333333  0.0546142       1   1e-07   \n",
       "24       SVC        0.2   0.297778  0.333333  0.0546142       1   1e-05   \n",
       "25       SVC        0.2   0.297778  0.333333  0.0546142       1  0.0001   \n",
       "26       SVC        0.2   0.297778  0.333333  0.0546142       1   0.001   \n",
       "23       SVC        0.2   0.297778  0.333333  0.0546142       1   1e-06   \n",
       "\n",
       "    kernel max_depth  \n",
       "4   linear       NaN  \n",
       "76     rbf       NaN  \n",
       "20     rbf       NaN  \n",
       "1      NaN         4  \n",
       "28     rbf       NaN  \n",
       "59     rbf       NaN  \n",
       "35     rbf       NaN  \n",
       "0      NaN         2  \n",
       "68     rbf       NaN  \n",
       "52     rbf       NaN  \n",
       "60     rbf       NaN  \n",
       "44     rbf       NaN  \n",
       "36     rbf       NaN  \n",
       "51     rbf       NaN  \n",
       "2      NaN         6  \n",
       "8   linear       NaN  \n",
       "9   linear       NaN  \n",
       "72     rbf       NaN  \n",
       "71     rbf       NaN  \n",
       "70     rbf       NaN  \n",
       "62     rbf       NaN  \n",
       "64     rbf       NaN  \n",
       "63     rbf       NaN  \n",
       "55     rbf       NaN  \n",
       "46     rbf       NaN  \n",
       "3      NaN         8  \n",
       "6   linear       NaN  \n",
       "73     rbf       NaN  \n",
       "54     rbf       NaN  \n",
       "12  linear       NaN  \n",
       "..     ...       ...  \n",
       "84     rbf       NaN  \n",
       "57     rbf       NaN  \n",
       "93     rbf       NaN  \n",
       "39     rbf       NaN  \n",
       "48     rbf       NaN  \n",
       "43     rbf       NaN  \n",
       "30     rbf       NaN  \n",
       "86     rbf       NaN  \n",
       "19     rbf       NaN  \n",
       "13     rbf       NaN  \n",
       "14     rbf       NaN  \n",
       "15     rbf       NaN  \n",
       "16     rbf       NaN  \n",
       "17     rbf       NaN  \n",
       "18     rbf       NaN  \n",
       "49     rbf       NaN  \n",
       "50     rbf       NaN  \n",
       "31     rbf       NaN  \n",
       "32     rbf       NaN  \n",
       "33     rbf       NaN  \n",
       "34     rbf       NaN  \n",
       "40     rbf       NaN  \n",
       "42     rbf       NaN  \n",
       "41     rbf       NaN  \n",
       "58     rbf       NaN  \n",
       "22     rbf       NaN  \n",
       "24     rbf       NaN  \n",
       "25     rbf       NaN  \n",
       "26     rbf       NaN  \n",
       "23     rbf       NaN  \n",
       "\n",
       "[94 rows x 9 columns]"
      ]
     },
     "execution_count": 33,
     "metadata": {},
     "output_type": "execute_result"
    }
   ],
   "source": [
    "# Fit gridsearch models to select best estimator based on accuracy\n",
    "helper = blt.EstimatorSelectionHelper(models, params)\n",
    "helper.fit(Xf_enm, bin_enm, n_jobs=3)\n",
    "helper.score_summary(sort_by='mean_score')"
   ]
  },
  {
   "cell_type": "code",
   "execution_count": 32,
   "metadata": {
    "ExecuteTime": {
     "end_time": "2019-09-30T04:41:04.199785Z",
     "start_time": "2019-09-30T04:41:00.336988Z"
    }
   },
   "outputs": [
    {
     "name": "stdout",
     "output_type": "stream",
     "text": [
      "Running GridSearchCV for RFC.\n",
      "Fitting 10 folds for each of 4 candidates, totalling 40 fits\n"
     ]
    },
    {
     "name": "stderr",
     "output_type": "stream",
     "text": [
      "[Parallel(n_jobs=3)]: Using backend LokyBackend with 3 concurrent workers.\n",
      "[Parallel(n_jobs=3)]: Done  40 out of  40 | elapsed:    2.0s finished\n",
      "/anaconda3/lib/python3.7/site-packages/sklearn/model_selection/_search.py:841: DeprecationWarning: The default of the `iid` parameter will change from True to False in version 0.22 and will be removed in 0.24. This will change numeric results when test-set sizes are unequal.\n",
      "  DeprecationWarning)\n",
      "[Parallel(n_jobs=3)]: Using backend LokyBackend with 3 concurrent workers.\n"
     ]
    },
    {
     "name": "stdout",
     "output_type": "stream",
     "text": [
      "Running GridSearchCV for SVC.\n",
      "Fitting 10 folds for each of 90 candidates, totalling 900 fits\n",
      "RFC\n",
      "SVC\n"
     ]
    },
    {
     "name": "stderr",
     "output_type": "stream",
     "text": [
      "[Parallel(n_jobs=3)]: Done 900 out of 900 | elapsed:    1.7s finished\n",
      "/anaconda3/lib/python3.7/site-packages/sklearn/model_selection/_search.py:841: DeprecationWarning: The default of the `iid` parameter will change from True to False in version 0.22 and will be removed in 0.24. This will change numeric results when test-set sizes are unequal.\n",
      "  DeprecationWarning)\n"
     ]
    },
    {
     "data": {
      "text/html": [
       "<div>\n",
       "<style scoped>\n",
       "    .dataframe tbody tr th:only-of-type {\n",
       "        vertical-align: middle;\n",
       "    }\n",
       "\n",
       "    .dataframe tbody tr th {\n",
       "        vertical-align: top;\n",
       "    }\n",
       "\n",
       "    .dataframe thead th {\n",
       "        text-align: right;\n",
       "    }\n",
       "</style>\n",
       "<table border=\"1\" class=\"dataframe\">\n",
       "  <thead>\n",
       "    <tr style=\"text-align: right;\">\n",
       "      <th></th>\n",
       "      <th>estimator</th>\n",
       "      <th>min_score</th>\n",
       "      <th>mean_score</th>\n",
       "      <th>max_score</th>\n",
       "      <th>std_score</th>\n",
       "      <th>C</th>\n",
       "      <th>gamma</th>\n",
       "      <th>kernel</th>\n",
       "      <th>max_depth</th>\n",
       "    </tr>\n",
       "  </thead>\n",
       "  <tbody>\n",
       "    <tr>\n",
       "      <th>93</th>\n",
       "      <td>SVC</td>\n",
       "      <td>0.333333</td>\n",
       "      <td>0.655</td>\n",
       "      <td>0.833333</td>\n",
       "      <td>0.1644</td>\n",
       "      <td>1e+07</td>\n",
       "      <td>10</td>\n",
       "      <td>rbf</td>\n",
       "      <td>NaN</td>\n",
       "    </tr>\n",
       "    <tr>\n",
       "      <th>84</th>\n",
       "      <td>SVC</td>\n",
       "      <td>0.333333</td>\n",
       "      <td>0.655</td>\n",
       "      <td>0.833333</td>\n",
       "      <td>0.1644</td>\n",
       "      <td>1e+06</td>\n",
       "      <td>10</td>\n",
       "      <td>rbf</td>\n",
       "      <td>NaN</td>\n",
       "    </tr>\n",
       "    <tr>\n",
       "      <th>75</th>\n",
       "      <td>SVC</td>\n",
       "      <td>0.333333</td>\n",
       "      <td>0.655</td>\n",
       "      <td>0.833333</td>\n",
       "      <td>0.1644</td>\n",
       "      <td>100000</td>\n",
       "      <td>10</td>\n",
       "      <td>rbf</td>\n",
       "      <td>NaN</td>\n",
       "    </tr>\n",
       "    <tr>\n",
       "      <th>66</th>\n",
       "      <td>SVC</td>\n",
       "      <td>0.333333</td>\n",
       "      <td>0.655</td>\n",
       "      <td>0.833333</td>\n",
       "      <td>0.1644</td>\n",
       "      <td>10000</td>\n",
       "      <td>10</td>\n",
       "      <td>rbf</td>\n",
       "      <td>NaN</td>\n",
       "    </tr>\n",
       "    <tr>\n",
       "      <th>57</th>\n",
       "      <td>SVC</td>\n",
       "      <td>0.333333</td>\n",
       "      <td>0.655</td>\n",
       "      <td>0.833333</td>\n",
       "      <td>0.1644</td>\n",
       "      <td>1000</td>\n",
       "      <td>10</td>\n",
       "      <td>rbf</td>\n",
       "      <td>NaN</td>\n",
       "    </tr>\n",
       "    <tr>\n",
       "      <th>48</th>\n",
       "      <td>SVC</td>\n",
       "      <td>0.333333</td>\n",
       "      <td>0.655</td>\n",
       "      <td>0.833333</td>\n",
       "      <td>0.1644</td>\n",
       "      <td>100</td>\n",
       "      <td>10</td>\n",
       "      <td>rbf</td>\n",
       "      <td>NaN</td>\n",
       "    </tr>\n",
       "    <tr>\n",
       "      <th>39</th>\n",
       "      <td>SVC</td>\n",
       "      <td>0.333333</td>\n",
       "      <td>0.655</td>\n",
       "      <td>0.833333</td>\n",
       "      <td>0.1644</td>\n",
       "      <td>10</td>\n",
       "      <td>10</td>\n",
       "      <td>rbf</td>\n",
       "      <td>NaN</td>\n",
       "    </tr>\n",
       "    <tr>\n",
       "      <th>38</th>\n",
       "      <td>SVC</td>\n",
       "      <td>0.333333</td>\n",
       "      <td>0.645</td>\n",
       "      <td>0.833333</td>\n",
       "      <td>0.144433</td>\n",
       "      <td>10</td>\n",
       "      <td>1</td>\n",
       "      <td>rbf</td>\n",
       "      <td>NaN</td>\n",
       "    </tr>\n",
       "    <tr>\n",
       "      <th>92</th>\n",
       "      <td>SVC</td>\n",
       "      <td>0.333333</td>\n",
       "      <td>0.645</td>\n",
       "      <td>0.833333</td>\n",
       "      <td>0.144433</td>\n",
       "      <td>1e+07</td>\n",
       "      <td>1</td>\n",
       "      <td>rbf</td>\n",
       "      <td>NaN</td>\n",
       "    </tr>\n",
       "    <tr>\n",
       "      <th>83</th>\n",
       "      <td>SVC</td>\n",
       "      <td>0.333333</td>\n",
       "      <td>0.645</td>\n",
       "      <td>0.833333</td>\n",
       "      <td>0.144433</td>\n",
       "      <td>1e+06</td>\n",
       "      <td>1</td>\n",
       "      <td>rbf</td>\n",
       "      <td>NaN</td>\n",
       "    </tr>\n",
       "    <tr>\n",
       "      <th>74</th>\n",
       "      <td>SVC</td>\n",
       "      <td>0.333333</td>\n",
       "      <td>0.645</td>\n",
       "      <td>0.833333</td>\n",
       "      <td>0.144433</td>\n",
       "      <td>100000</td>\n",
       "      <td>1</td>\n",
       "      <td>rbf</td>\n",
       "      <td>NaN</td>\n",
       "    </tr>\n",
       "    <tr>\n",
       "      <th>65</th>\n",
       "      <td>SVC</td>\n",
       "      <td>0.333333</td>\n",
       "      <td>0.645</td>\n",
       "      <td>0.833333</td>\n",
       "      <td>0.144433</td>\n",
       "      <td>10000</td>\n",
       "      <td>1</td>\n",
       "      <td>rbf</td>\n",
       "      <td>NaN</td>\n",
       "    </tr>\n",
       "    <tr>\n",
       "      <th>56</th>\n",
       "      <td>SVC</td>\n",
       "      <td>0.333333</td>\n",
       "      <td>0.645</td>\n",
       "      <td>0.833333</td>\n",
       "      <td>0.144433</td>\n",
       "      <td>1000</td>\n",
       "      <td>1</td>\n",
       "      <td>rbf</td>\n",
       "      <td>NaN</td>\n",
       "    </tr>\n",
       "    <tr>\n",
       "      <th>1</th>\n",
       "      <td>RFC</td>\n",
       "      <td>0.333333</td>\n",
       "      <td>0.645</td>\n",
       "      <td>0.833333</td>\n",
       "      <td>0.144433</td>\n",
       "      <td>NaN</td>\n",
       "      <td>NaN</td>\n",
       "      <td>NaN</td>\n",
       "      <td>4</td>\n",
       "    </tr>\n",
       "    <tr>\n",
       "      <th>47</th>\n",
       "      <td>SVC</td>\n",
       "      <td>0.333333</td>\n",
       "      <td>0.645</td>\n",
       "      <td>0.833333</td>\n",
       "      <td>0.144433</td>\n",
       "      <td>100</td>\n",
       "      <td>1</td>\n",
       "      <td>rbf</td>\n",
       "      <td>NaN</td>\n",
       "    </tr>\n",
       "    <tr>\n",
       "      <th>30</th>\n",
       "      <td>SVC</td>\n",
       "      <td>0.333333</td>\n",
       "      <td>0.645</td>\n",
       "      <td>0.833333</td>\n",
       "      <td>0.158201</td>\n",
       "      <td>1</td>\n",
       "      <td>10</td>\n",
       "      <td>rbf</td>\n",
       "      <td>NaN</td>\n",
       "    </tr>\n",
       "    <tr>\n",
       "      <th>54</th>\n",
       "      <td>SVC</td>\n",
       "      <td>0.333333</td>\n",
       "      <td>0.636667</td>\n",
       "      <td>0.833333</td>\n",
       "      <td>0.140484</td>\n",
       "      <td>1000</td>\n",
       "      <td>0.01</td>\n",
       "      <td>rbf</td>\n",
       "      <td>NaN</td>\n",
       "    </tr>\n",
       "    <tr>\n",
       "      <th>8</th>\n",
       "      <td>SVC</td>\n",
       "      <td>0.333333</td>\n",
       "      <td>0.636667</td>\n",
       "      <td>0.833333</td>\n",
       "      <td>0.140484</td>\n",
       "      <td>1000</td>\n",
       "      <td>NaN</td>\n",
       "      <td>linear</td>\n",
       "      <td>NaN</td>\n",
       "    </tr>\n",
       "    <tr>\n",
       "      <th>73</th>\n",
       "      <td>SVC</td>\n",
       "      <td>0.333333</td>\n",
       "      <td>0.636667</td>\n",
       "      <td>0.833333</td>\n",
       "      <td>0.140484</td>\n",
       "      <td>100000</td>\n",
       "      <td>0.1</td>\n",
       "      <td>rbf</td>\n",
       "      <td>NaN</td>\n",
       "    </tr>\n",
       "    <tr>\n",
       "      <th>72</th>\n",
       "      <td>SVC</td>\n",
       "      <td>0.333333</td>\n",
       "      <td>0.636667</td>\n",
       "      <td>0.833333</td>\n",
       "      <td>0.140484</td>\n",
       "      <td>100000</td>\n",
       "      <td>0.01</td>\n",
       "      <td>rbf</td>\n",
       "      <td>NaN</td>\n",
       "    </tr>\n",
       "    <tr>\n",
       "      <th>71</th>\n",
       "      <td>SVC</td>\n",
       "      <td>0.333333</td>\n",
       "      <td>0.636667</td>\n",
       "      <td>0.833333</td>\n",
       "      <td>0.140484</td>\n",
       "      <td>100000</td>\n",
       "      <td>0.001</td>\n",
       "      <td>rbf</td>\n",
       "      <td>NaN</td>\n",
       "    </tr>\n",
       "    <tr>\n",
       "      <th>70</th>\n",
       "      <td>SVC</td>\n",
       "      <td>0.333333</td>\n",
       "      <td>0.636667</td>\n",
       "      <td>0.833333</td>\n",
       "      <td>0.140484</td>\n",
       "      <td>100000</td>\n",
       "      <td>0.0001</td>\n",
       "      <td>rbf</td>\n",
       "      <td>NaN</td>\n",
       "    </tr>\n",
       "    <tr>\n",
       "      <th>7</th>\n",
       "      <td>SVC</td>\n",
       "      <td>0.333333</td>\n",
       "      <td>0.636667</td>\n",
       "      <td>0.833333</td>\n",
       "      <td>0.140484</td>\n",
       "      <td>100</td>\n",
       "      <td>NaN</td>\n",
       "      <td>linear</td>\n",
       "      <td>NaN</td>\n",
       "    </tr>\n",
       "    <tr>\n",
       "      <th>64</th>\n",
       "      <td>SVC</td>\n",
       "      <td>0.333333</td>\n",
       "      <td>0.636667</td>\n",
       "      <td>0.833333</td>\n",
       "      <td>0.140484</td>\n",
       "      <td>10000</td>\n",
       "      <td>0.1</td>\n",
       "      <td>rbf</td>\n",
       "      <td>NaN</td>\n",
       "    </tr>\n",
       "    <tr>\n",
       "      <th>55</th>\n",
       "      <td>SVC</td>\n",
       "      <td>0.333333</td>\n",
       "      <td>0.636667</td>\n",
       "      <td>0.833333</td>\n",
       "      <td>0.140484</td>\n",
       "      <td>1000</td>\n",
       "      <td>0.1</td>\n",
       "      <td>rbf</td>\n",
       "      <td>NaN</td>\n",
       "    </tr>\n",
       "    <tr>\n",
       "      <th>63</th>\n",
       "      <td>SVC</td>\n",
       "      <td>0.333333</td>\n",
       "      <td>0.636667</td>\n",
       "      <td>0.833333</td>\n",
       "      <td>0.140484</td>\n",
       "      <td>10000</td>\n",
       "      <td>0.01</td>\n",
       "      <td>rbf</td>\n",
       "      <td>NaN</td>\n",
       "    </tr>\n",
       "    <tr>\n",
       "      <th>62</th>\n",
       "      <td>SVC</td>\n",
       "      <td>0.333333</td>\n",
       "      <td>0.636667</td>\n",
       "      <td>0.833333</td>\n",
       "      <td>0.140484</td>\n",
       "      <td>10000</td>\n",
       "      <td>0.001</td>\n",
       "      <td>rbf</td>\n",
       "      <td>NaN</td>\n",
       "    </tr>\n",
       "    <tr>\n",
       "      <th>9</th>\n",
       "      <td>SVC</td>\n",
       "      <td>0.333333</td>\n",
       "      <td>0.636667</td>\n",
       "      <td>0.833333</td>\n",
       "      <td>0.140484</td>\n",
       "      <td>10000</td>\n",
       "      <td>NaN</td>\n",
       "      <td>linear</td>\n",
       "      <td>NaN</td>\n",
       "    </tr>\n",
       "    <tr>\n",
       "      <th>10</th>\n",
       "      <td>SVC</td>\n",
       "      <td>0.333333</td>\n",
       "      <td>0.636667</td>\n",
       "      <td>0.833333</td>\n",
       "      <td>0.140484</td>\n",
       "      <td>100000</td>\n",
       "      <td>NaN</td>\n",
       "      <td>linear</td>\n",
       "      <td>NaN</td>\n",
       "    </tr>\n",
       "    <tr>\n",
       "      <th>46</th>\n",
       "      <td>SVC</td>\n",
       "      <td>0.333333</td>\n",
       "      <td>0.636667</td>\n",
       "      <td>0.833333</td>\n",
       "      <td>0.140484</td>\n",
       "      <td>100</td>\n",
       "      <td>0.1</td>\n",
       "      <td>rbf</td>\n",
       "      <td>NaN</td>\n",
       "    </tr>\n",
       "    <tr>\n",
       "      <th>...</th>\n",
       "      <td>...</td>\n",
       "      <td>...</td>\n",
       "      <td>...</td>\n",
       "      <td>...</td>\n",
       "      <td>...</td>\n",
       "      <td>...</td>\n",
       "      <td>...</td>\n",
       "      <td>...</td>\n",
       "      <td>...</td>\n",
       "    </tr>\n",
       "    <tr>\n",
       "      <th>4</th>\n",
       "      <td>SVC</td>\n",
       "      <td>0.25</td>\n",
       "      <td>0.557222</td>\n",
       "      <td>0.777778</td>\n",
       "      <td>0.152024</td>\n",
       "      <td>0.1</td>\n",
       "      <td>NaN</td>\n",
       "      <td>linear</td>\n",
       "      <td>NaN</td>\n",
       "    </tr>\n",
       "    <tr>\n",
       "      <th>21</th>\n",
       "      <td>SVC</td>\n",
       "      <td>0.333333</td>\n",
       "      <td>0.527778</td>\n",
       "      <td>0.777778</td>\n",
       "      <td>0.139443</td>\n",
       "      <td>0.1</td>\n",
       "      <td>10</td>\n",
       "      <td>rbf</td>\n",
       "      <td>NaN</td>\n",
       "    </tr>\n",
       "    <tr>\n",
       "      <th>14</th>\n",
       "      <td>SVC</td>\n",
       "      <td>0.2</td>\n",
       "      <td>0.400556</td>\n",
       "      <td>0.444444</td>\n",
       "      <td>0.0677436</td>\n",
       "      <td>0.1</td>\n",
       "      <td>1e-06</td>\n",
       "      <td>rbf</td>\n",
       "      <td>NaN</td>\n",
       "    </tr>\n",
       "    <tr>\n",
       "      <th>17</th>\n",
       "      <td>SVC</td>\n",
       "      <td>0.2</td>\n",
       "      <td>0.400556</td>\n",
       "      <td>0.444444</td>\n",
       "      <td>0.0677436</td>\n",
       "      <td>0.1</td>\n",
       "      <td>0.001</td>\n",
       "      <td>rbf</td>\n",
       "      <td>NaN</td>\n",
       "    </tr>\n",
       "    <tr>\n",
       "      <th>13</th>\n",
       "      <td>SVC</td>\n",
       "      <td>0.2</td>\n",
       "      <td>0.400556</td>\n",
       "      <td>0.444444</td>\n",
       "      <td>0.0677436</td>\n",
       "      <td>0.1</td>\n",
       "      <td>1e-07</td>\n",
       "      <td>rbf</td>\n",
       "      <td>NaN</td>\n",
       "    </tr>\n",
       "    <tr>\n",
       "      <th>16</th>\n",
       "      <td>SVC</td>\n",
       "      <td>0.2</td>\n",
       "      <td>0.400556</td>\n",
       "      <td>0.444444</td>\n",
       "      <td>0.0677436</td>\n",
       "      <td>0.1</td>\n",
       "      <td>0.0001</td>\n",
       "      <td>rbf</td>\n",
       "      <td>NaN</td>\n",
       "    </tr>\n",
       "    <tr>\n",
       "      <th>19</th>\n",
       "      <td>SVC</td>\n",
       "      <td>0.2</td>\n",
       "      <td>0.400556</td>\n",
       "      <td>0.444444</td>\n",
       "      <td>0.0677436</td>\n",
       "      <td>0.1</td>\n",
       "      <td>0.1</td>\n",
       "      <td>rbf</td>\n",
       "      <td>NaN</td>\n",
       "    </tr>\n",
       "    <tr>\n",
       "      <th>18</th>\n",
       "      <td>SVC</td>\n",
       "      <td>0.2</td>\n",
       "      <td>0.400556</td>\n",
       "      <td>0.444444</td>\n",
       "      <td>0.0677436</td>\n",
       "      <td>0.1</td>\n",
       "      <td>0.01</td>\n",
       "      <td>rbf</td>\n",
       "      <td>NaN</td>\n",
       "    </tr>\n",
       "    <tr>\n",
       "      <th>15</th>\n",
       "      <td>SVC</td>\n",
       "      <td>0.2</td>\n",
       "      <td>0.400556</td>\n",
       "      <td>0.444444</td>\n",
       "      <td>0.0677436</td>\n",
       "      <td>0.1</td>\n",
       "      <td>1e-05</td>\n",
       "      <td>rbf</td>\n",
       "      <td>NaN</td>\n",
       "    </tr>\n",
       "    <tr>\n",
       "      <th>50</th>\n",
       "      <td>SVC</td>\n",
       "      <td>0.3</td>\n",
       "      <td>0.388333</td>\n",
       "      <td>0.416667</td>\n",
       "      <td>0.0441273</td>\n",
       "      <td>1000</td>\n",
       "      <td>1e-06</td>\n",
       "      <td>rbf</td>\n",
       "      <td>NaN</td>\n",
       "    </tr>\n",
       "    <tr>\n",
       "      <th>51</th>\n",
       "      <td>SVC</td>\n",
       "      <td>0.3</td>\n",
       "      <td>0.388333</td>\n",
       "      <td>0.416667</td>\n",
       "      <td>0.0441273</td>\n",
       "      <td>1000</td>\n",
       "      <td>1e-05</td>\n",
       "      <td>rbf</td>\n",
       "      <td>NaN</td>\n",
       "    </tr>\n",
       "    <tr>\n",
       "      <th>49</th>\n",
       "      <td>SVC</td>\n",
       "      <td>0.3</td>\n",
       "      <td>0.388333</td>\n",
       "      <td>0.416667</td>\n",
       "      <td>0.0441273</td>\n",
       "      <td>1000</td>\n",
       "      <td>1e-07</td>\n",
       "      <td>rbf</td>\n",
       "      <td>NaN</td>\n",
       "    </tr>\n",
       "    <tr>\n",
       "      <th>33</th>\n",
       "      <td>SVC</td>\n",
       "      <td>0.2</td>\n",
       "      <td>0.386667</td>\n",
       "      <td>0.777778</td>\n",
       "      <td>0.153703</td>\n",
       "      <td>10</td>\n",
       "      <td>1e-05</td>\n",
       "      <td>rbf</td>\n",
       "      <td>NaN</td>\n",
       "    </tr>\n",
       "    <tr>\n",
       "      <th>31</th>\n",
       "      <td>SVC</td>\n",
       "      <td>0.2</td>\n",
       "      <td>0.386667</td>\n",
       "      <td>0.777778</td>\n",
       "      <td>0.153703</td>\n",
       "      <td>10</td>\n",
       "      <td>1e-07</td>\n",
       "      <td>rbf</td>\n",
       "      <td>NaN</td>\n",
       "    </tr>\n",
       "    <tr>\n",
       "      <th>34</th>\n",
       "      <td>SVC</td>\n",
       "      <td>0.2</td>\n",
       "      <td>0.386667</td>\n",
       "      <td>0.777778</td>\n",
       "      <td>0.153703</td>\n",
       "      <td>10</td>\n",
       "      <td>0.0001</td>\n",
       "      <td>rbf</td>\n",
       "      <td>NaN</td>\n",
       "    </tr>\n",
       "    <tr>\n",
       "      <th>35</th>\n",
       "      <td>SVC</td>\n",
       "      <td>0.2</td>\n",
       "      <td>0.386667</td>\n",
       "      <td>0.777778</td>\n",
       "      <td>0.153703</td>\n",
       "      <td>10</td>\n",
       "      <td>0.001</td>\n",
       "      <td>rbf</td>\n",
       "      <td>NaN</td>\n",
       "    </tr>\n",
       "    <tr>\n",
       "      <th>32</th>\n",
       "      <td>SVC</td>\n",
       "      <td>0.2</td>\n",
       "      <td>0.386667</td>\n",
       "      <td>0.777778</td>\n",
       "      <td>0.153703</td>\n",
       "      <td>10</td>\n",
       "      <td>1e-06</td>\n",
       "      <td>rbf</td>\n",
       "      <td>NaN</td>\n",
       "    </tr>\n",
       "    <tr>\n",
       "      <th>40</th>\n",
       "      <td>SVC</td>\n",
       "      <td>0.222222</td>\n",
       "      <td>0.366111</td>\n",
       "      <td>0.416667</td>\n",
       "      <td>0.0797933</td>\n",
       "      <td>100</td>\n",
       "      <td>1e-07</td>\n",
       "      <td>rbf</td>\n",
       "      <td>NaN</td>\n",
       "    </tr>\n",
       "    <tr>\n",
       "      <th>41</th>\n",
       "      <td>SVC</td>\n",
       "      <td>0.222222</td>\n",
       "      <td>0.366111</td>\n",
       "      <td>0.416667</td>\n",
       "      <td>0.0797933</td>\n",
       "      <td>100</td>\n",
       "      <td>1e-06</td>\n",
       "      <td>rbf</td>\n",
       "      <td>NaN</td>\n",
       "    </tr>\n",
       "    <tr>\n",
       "      <th>42</th>\n",
       "      <td>SVC</td>\n",
       "      <td>0.222222</td>\n",
       "      <td>0.366111</td>\n",
       "      <td>0.416667</td>\n",
       "      <td>0.0797933</td>\n",
       "      <td>100</td>\n",
       "      <td>1e-05</td>\n",
       "      <td>rbf</td>\n",
       "      <td>NaN</td>\n",
       "    </tr>\n",
       "    <tr>\n",
       "      <th>43</th>\n",
       "      <td>SVC</td>\n",
       "      <td>0.222222</td>\n",
       "      <td>0.366111</td>\n",
       "      <td>0.416667</td>\n",
       "      <td>0.0797933</td>\n",
       "      <td>100</td>\n",
       "      <td>0.0001</td>\n",
       "      <td>rbf</td>\n",
       "      <td>NaN</td>\n",
       "    </tr>\n",
       "    <tr>\n",
       "      <th>67</th>\n",
       "      <td>SVC</td>\n",
       "      <td>0.222222</td>\n",
       "      <td>0.366111</td>\n",
       "      <td>0.416667</td>\n",
       "      <td>0.0797933</td>\n",
       "      <td>100000</td>\n",
       "      <td>1e-07</td>\n",
       "      <td>rbf</td>\n",
       "      <td>NaN</td>\n",
       "    </tr>\n",
       "    <tr>\n",
       "      <th>59</th>\n",
       "      <td>SVC</td>\n",
       "      <td>0.2</td>\n",
       "      <td>0.32</td>\n",
       "      <td>0.333333</td>\n",
       "      <td>0.04</td>\n",
       "      <td>10000</td>\n",
       "      <td>1e-06</td>\n",
       "      <td>rbf</td>\n",
       "      <td>NaN</td>\n",
       "    </tr>\n",
       "    <tr>\n",
       "      <th>58</th>\n",
       "      <td>SVC</td>\n",
       "      <td>0.2</td>\n",
       "      <td>0.32</td>\n",
       "      <td>0.333333</td>\n",
       "      <td>0.04</td>\n",
       "      <td>10000</td>\n",
       "      <td>1e-07</td>\n",
       "      <td>rbf</td>\n",
       "      <td>NaN</td>\n",
       "    </tr>\n",
       "    <tr>\n",
       "      <th>27</th>\n",
       "      <td>SVC</td>\n",
       "      <td>0.2</td>\n",
       "      <td>0.297778</td>\n",
       "      <td>0.333333</td>\n",
       "      <td>0.0546142</td>\n",
       "      <td>1</td>\n",
       "      <td>0.01</td>\n",
       "      <td>rbf</td>\n",
       "      <td>NaN</td>\n",
       "    </tr>\n",
       "    <tr>\n",
       "      <th>26</th>\n",
       "      <td>SVC</td>\n",
       "      <td>0.2</td>\n",
       "      <td>0.297778</td>\n",
       "      <td>0.333333</td>\n",
       "      <td>0.0546142</td>\n",
       "      <td>1</td>\n",
       "      <td>0.001</td>\n",
       "      <td>rbf</td>\n",
       "      <td>NaN</td>\n",
       "    </tr>\n",
       "    <tr>\n",
       "      <th>24</th>\n",
       "      <td>SVC</td>\n",
       "      <td>0.2</td>\n",
       "      <td>0.297778</td>\n",
       "      <td>0.333333</td>\n",
       "      <td>0.0546142</td>\n",
       "      <td>1</td>\n",
       "      <td>1e-05</td>\n",
       "      <td>rbf</td>\n",
       "      <td>NaN</td>\n",
       "    </tr>\n",
       "    <tr>\n",
       "      <th>23</th>\n",
       "      <td>SVC</td>\n",
       "      <td>0.2</td>\n",
       "      <td>0.297778</td>\n",
       "      <td>0.333333</td>\n",
       "      <td>0.0546142</td>\n",
       "      <td>1</td>\n",
       "      <td>1e-06</td>\n",
       "      <td>rbf</td>\n",
       "      <td>NaN</td>\n",
       "    </tr>\n",
       "    <tr>\n",
       "      <th>22</th>\n",
       "      <td>SVC</td>\n",
       "      <td>0.2</td>\n",
       "      <td>0.297778</td>\n",
       "      <td>0.333333</td>\n",
       "      <td>0.0546142</td>\n",
       "      <td>1</td>\n",
       "      <td>1e-07</td>\n",
       "      <td>rbf</td>\n",
       "      <td>NaN</td>\n",
       "    </tr>\n",
       "    <tr>\n",
       "      <th>25</th>\n",
       "      <td>SVC</td>\n",
       "      <td>0.2</td>\n",
       "      <td>0.297778</td>\n",
       "      <td>0.333333</td>\n",
       "      <td>0.0546142</td>\n",
       "      <td>1</td>\n",
       "      <td>0.0001</td>\n",
       "      <td>rbf</td>\n",
       "      <td>NaN</td>\n",
       "    </tr>\n",
       "  </tbody>\n",
       "</table>\n",
       "<p>94 rows × 9 columns</p>\n",
       "</div>"
      ],
      "text/plain": [
       "   estimator min_score mean_score max_score  std_score       C   gamma  \\\n",
       "93       SVC  0.333333      0.655  0.833333     0.1644   1e+07      10   \n",
       "84       SVC  0.333333      0.655  0.833333     0.1644   1e+06      10   \n",
       "75       SVC  0.333333      0.655  0.833333     0.1644  100000      10   \n",
       "66       SVC  0.333333      0.655  0.833333     0.1644   10000      10   \n",
       "57       SVC  0.333333      0.655  0.833333     0.1644    1000      10   \n",
       "48       SVC  0.333333      0.655  0.833333     0.1644     100      10   \n",
       "39       SVC  0.333333      0.655  0.833333     0.1644      10      10   \n",
       "38       SVC  0.333333      0.645  0.833333   0.144433      10       1   \n",
       "92       SVC  0.333333      0.645  0.833333   0.144433   1e+07       1   \n",
       "83       SVC  0.333333      0.645  0.833333   0.144433   1e+06       1   \n",
       "74       SVC  0.333333      0.645  0.833333   0.144433  100000       1   \n",
       "65       SVC  0.333333      0.645  0.833333   0.144433   10000       1   \n",
       "56       SVC  0.333333      0.645  0.833333   0.144433    1000       1   \n",
       "1        RFC  0.333333      0.645  0.833333   0.144433     NaN     NaN   \n",
       "47       SVC  0.333333      0.645  0.833333   0.144433     100       1   \n",
       "30       SVC  0.333333      0.645  0.833333   0.158201       1      10   \n",
       "54       SVC  0.333333   0.636667  0.833333   0.140484    1000    0.01   \n",
       "8        SVC  0.333333   0.636667  0.833333   0.140484    1000     NaN   \n",
       "73       SVC  0.333333   0.636667  0.833333   0.140484  100000     0.1   \n",
       "72       SVC  0.333333   0.636667  0.833333   0.140484  100000    0.01   \n",
       "71       SVC  0.333333   0.636667  0.833333   0.140484  100000   0.001   \n",
       "70       SVC  0.333333   0.636667  0.833333   0.140484  100000  0.0001   \n",
       "7        SVC  0.333333   0.636667  0.833333   0.140484     100     NaN   \n",
       "64       SVC  0.333333   0.636667  0.833333   0.140484   10000     0.1   \n",
       "55       SVC  0.333333   0.636667  0.833333   0.140484    1000     0.1   \n",
       "63       SVC  0.333333   0.636667  0.833333   0.140484   10000    0.01   \n",
       "62       SVC  0.333333   0.636667  0.833333   0.140484   10000   0.001   \n",
       "9        SVC  0.333333   0.636667  0.833333   0.140484   10000     NaN   \n",
       "10       SVC  0.333333   0.636667  0.833333   0.140484  100000     NaN   \n",
       "46       SVC  0.333333   0.636667  0.833333   0.140484     100     0.1   \n",
       "..       ...       ...        ...       ...        ...     ...     ...   \n",
       "4        SVC      0.25   0.557222  0.777778   0.152024     0.1     NaN   \n",
       "21       SVC  0.333333   0.527778  0.777778   0.139443     0.1      10   \n",
       "14       SVC       0.2   0.400556  0.444444  0.0677436     0.1   1e-06   \n",
       "17       SVC       0.2   0.400556  0.444444  0.0677436     0.1   0.001   \n",
       "13       SVC       0.2   0.400556  0.444444  0.0677436     0.1   1e-07   \n",
       "16       SVC       0.2   0.400556  0.444444  0.0677436     0.1  0.0001   \n",
       "19       SVC       0.2   0.400556  0.444444  0.0677436     0.1     0.1   \n",
       "18       SVC       0.2   0.400556  0.444444  0.0677436     0.1    0.01   \n",
       "15       SVC       0.2   0.400556  0.444444  0.0677436     0.1   1e-05   \n",
       "50       SVC       0.3   0.388333  0.416667  0.0441273    1000   1e-06   \n",
       "51       SVC       0.3   0.388333  0.416667  0.0441273    1000   1e-05   \n",
       "49       SVC       0.3   0.388333  0.416667  0.0441273    1000   1e-07   \n",
       "33       SVC       0.2   0.386667  0.777778   0.153703      10   1e-05   \n",
       "31       SVC       0.2   0.386667  0.777778   0.153703      10   1e-07   \n",
       "34       SVC       0.2   0.386667  0.777778   0.153703      10  0.0001   \n",
       "35       SVC       0.2   0.386667  0.777778   0.153703      10   0.001   \n",
       "32       SVC       0.2   0.386667  0.777778   0.153703      10   1e-06   \n",
       "40       SVC  0.222222   0.366111  0.416667  0.0797933     100   1e-07   \n",
       "41       SVC  0.222222   0.366111  0.416667  0.0797933     100   1e-06   \n",
       "42       SVC  0.222222   0.366111  0.416667  0.0797933     100   1e-05   \n",
       "43       SVC  0.222222   0.366111  0.416667  0.0797933     100  0.0001   \n",
       "67       SVC  0.222222   0.366111  0.416667  0.0797933  100000   1e-07   \n",
       "59       SVC       0.2       0.32  0.333333       0.04   10000   1e-06   \n",
       "58       SVC       0.2       0.32  0.333333       0.04   10000   1e-07   \n",
       "27       SVC       0.2   0.297778  0.333333  0.0546142       1    0.01   \n",
       "26       SVC       0.2   0.297778  0.333333  0.0546142       1   0.001   \n",
       "24       SVC       0.2   0.297778  0.333333  0.0546142       1   1e-05   \n",
       "23       SVC       0.2   0.297778  0.333333  0.0546142       1   1e-06   \n",
       "22       SVC       0.2   0.297778  0.333333  0.0546142       1   1e-07   \n",
       "25       SVC       0.2   0.297778  0.333333  0.0546142       1  0.0001   \n",
       "\n",
       "    kernel max_depth  \n",
       "93     rbf       NaN  \n",
       "84     rbf       NaN  \n",
       "75     rbf       NaN  \n",
       "66     rbf       NaN  \n",
       "57     rbf       NaN  \n",
       "48     rbf       NaN  \n",
       "39     rbf       NaN  \n",
       "38     rbf       NaN  \n",
       "92     rbf       NaN  \n",
       "83     rbf       NaN  \n",
       "74     rbf       NaN  \n",
       "65     rbf       NaN  \n",
       "56     rbf       NaN  \n",
       "1      NaN         4  \n",
       "47     rbf       NaN  \n",
       "30     rbf       NaN  \n",
       "54     rbf       NaN  \n",
       "8   linear       NaN  \n",
       "73     rbf       NaN  \n",
       "72     rbf       NaN  \n",
       "71     rbf       NaN  \n",
       "70     rbf       NaN  \n",
       "7   linear       NaN  \n",
       "64     rbf       NaN  \n",
       "55     rbf       NaN  \n",
       "63     rbf       NaN  \n",
       "62     rbf       NaN  \n",
       "9   linear       NaN  \n",
       "10  linear       NaN  \n",
       "46     rbf       NaN  \n",
       "..     ...       ...  \n",
       "4   linear       NaN  \n",
       "21     rbf       NaN  \n",
       "14     rbf       NaN  \n",
       "17     rbf       NaN  \n",
       "13     rbf       NaN  \n",
       "16     rbf       NaN  \n",
       "19     rbf       NaN  \n",
       "18     rbf       NaN  \n",
       "15     rbf       NaN  \n",
       "50     rbf       NaN  \n",
       "51     rbf       NaN  \n",
       "49     rbf       NaN  \n",
       "33     rbf       NaN  \n",
       "31     rbf       NaN  \n",
       "34     rbf       NaN  \n",
       "35     rbf       NaN  \n",
       "32     rbf       NaN  \n",
       "40     rbf       NaN  \n",
       "41     rbf       NaN  \n",
       "42     rbf       NaN  \n",
       "43     rbf       NaN  \n",
       "67     rbf       NaN  \n",
       "59     rbf       NaN  \n",
       "58     rbf       NaN  \n",
       "27     rbf       NaN  \n",
       "26     rbf       NaN  \n",
       "24     rbf       NaN  \n",
       "23     rbf       NaN  \n",
       "22     rbf       NaN  \n",
       "25     rbf       NaN  \n",
       "\n",
       "[94 rows x 9 columns]"
      ]
     },
     "execution_count": 32,
     "metadata": {},
     "output_type": "execute_result"
    }
   ],
   "source": [
    "# Fit gridsearch models to select best estimator based on accuracy\n",
    "helper = blt.EstimatorSelectionHelper(models, params)\n",
    "helper.fit(Xp_enm, bin_enm, n_jobs=3)\n",
    "helper.score_summary(sort_by='mean_score')"
   ]
  },
  {
   "cell_type": "markdown",
   "metadata": {},
   "source": [
    "The best performing classifier was variable. The SVC-RBF seemed to rank well overall for both data sets, so it was used in subsequent pre-processing steps."
   ]
  },
  {
   "cell_type": "markdown",
   "metadata": {},
   "source": [
    "### Gridsearch to select n_clusters"
   ]
  },
  {
   "cell_type": "markdown",
   "metadata": {},
   "source": [
    "The top few n_clusters found using elbow graphs in addition to the maximum number of clusters (i.e., no agglomeration), are evaluated using an SVC-RBF (supervised learning) to determine the final n_clusters. This is done using a gridsearch function."
   ]
  },
  {
   "cell_type": "code",
   "execution_count": 190,
   "metadata": {
    "ExecuteTime": {
     "end_time": "2019-09-28T00:54:20.384123Z",
     "start_time": "2019-09-28T00:54:20.248474Z"
    }
   },
   "outputs": [],
   "source": [
    "# TODO: breaks on contour plot when search includes third parameter\n",
    "\n",
    "# Define function to optimize and perform SVC-RBF with accuracy scoring\n",
    "from sklearn.pipeline import Pipeline\n",
    "from sklearn.model_selection import GridSearchCV\n",
    "from sklearn.preprocessing import MinMaxScaler\n",
    "from sklearn.cluster import FeatureAgglomeration\n",
    "from sklearn.svm import SVC\n",
    "from sklearn.svm import SVR\n",
    "import random\n",
    "\n",
    "def gridsearch_svm(X_training, \n",
    "                   y_training, \n",
    "                   n_clusters_set=None, \n",
    "                   c_set=np.logspace(-1,7,17), \n",
    "                   gamma_set=np.logspace(-7,1,17)):\n",
    "    \"\"\"\n",
    "    This function searches the specified grid of C and gamma values for the \n",
    "    optimal parameter values with which to run SVC-RBF, then returns the best \n",
    "    values based on validation accuracy. \n",
    "    \n",
    "    Parameters\n",
    "    ----------\n",
    "    n_clusters_set: array of int (default=None)\n",
    "        Includes feature agglomeration in pipeline using the specified array \n",
    "        of cluster numbers to try out \n",
    "    \"\"\" \n",
    "    \n",
    "    # Define pipelines and parameters for the grid search\n",
    "    seed = 42\n",
    "    if isinstance(y_training[0], float):\n",
    "        estimator = SVR(kernel='rbf', random_state=seed)\n",
    "        scoring = 'explained_variance'\n",
    "    else:\n",
    "        estimator = SVC(kernel='rbf', \n",
    "                        class_weight='balanced', \n",
    "                        random_state=seed)\n",
    "        scoring = 'balanced_accuracy'\n",
    "    if np.all(n_clusters_set == None):\n",
    "        prepipe = Pipeline([('scale', MinMaxScaler()), \n",
    "                            ('estimator', estimator)\n",
    "                           ])\n",
    "        param_grid = {'estimator__C': c_set,\n",
    "                      'estimator__gamma': gamma_set\n",
    "                     }\n",
    "    else:\n",
    "        agg = FeatureAgglomeration(X_training, \n",
    "                                   affinity=\"cosine\", \n",
    "                                   linkage=\"average\")\n",
    "        prepipe = Pipeline([('agg', agg), \n",
    "                            ('estimator', estimator)\n",
    "                           ])\n",
    "        param_grid = {'agg__n_clusters': n_clusters_set, \n",
    "                      'estimator__C': c_set, \n",
    "                      'estimator__gamma': gamma_set\n",
    "                     }\n",
    "\n",
    "    # Grid search with CV to find best model parameters\n",
    "    n_jobs = 3\n",
    "    cv = 10\n",
    "    grid_search = GridSearchCV(prepipe, \n",
    "                               param_grid, \n",
    "                               cv=cv, \n",
    "                               scoring=scoring, \n",
    "                               n_jobs=n_jobs, \n",
    "                               pre_dispatch=2*n_jobs)\n",
    "    grid_search.fit(X_training, y_training)\n",
    "    C = grid_search.best_params_.get('estimator__C')\n",
    "    gamma = grid_search.best_params_.get('estimator__gamma')\n",
    "    print(grid_search.best_params_)\n",
    "    print('K-fold CV random state: ', seed)\n",
    "    print('Best fold',grid_search.scoring, ':    ',grid_search.best_score_)\n",
    "    \n",
    "    return C, gamma"
   ]
  },
  {
   "cell_type": "markdown",
   "metadata": {},
   "source": [
    "Have to run fit with [X + a very small number] so that features with very few ones don't go missing during cross validation. https://stats.stackexchange.com/questions/324732/kernel-density-estimator-kde-with-too-many-zeroes-as-input"
   ]
  },
  {
   "cell_type": "code",
   "execution_count": 191,
   "metadata": {
    "ExecuteTime": {
     "end_time": "2019-09-28T00:54:40.083957Z",
     "start_time": "2019-09-28T00:54:29.615124Z"
    }
   },
   "outputs": [
    {
     "name": "stdout",
     "output_type": "stream",
     "text": [
      "{'agg__n_clusters': 10, 'estimator__C': 1.0, 'estimator__gamma': 1.0}\n",
      "K-fold CV random state:  42\n",
      "Best fold balanced_accuracy :     0.6029761904761904\n"
     ]
    },
    {
     "name": "stderr",
     "output_type": "stream",
     "text": [
      "/anaconda3/lib/python3.7/site-packages/sklearn/model_selection/_search.py:841: DeprecationWarning: The default of the `iid` parameter will change from True to False in version 0.22 and will be removed in 0.24. This will change numeric results when test-set sizes are unequal.\n",
      "  DeprecationWarning)\n"
     ]
    },
    {
     "data": {
      "text/plain": [
       "(1.0, 1.0)"
      ]
     },
     "execution_count": 191,
     "metadata": {},
     "output_type": "execute_result"
    }
   ],
   "source": [
    "# Function features only\n",
    "gridsearch_svm(Xf_enm+0.0001, \n",
    "               bin_enm, \n",
    "               n_clusters_set=[16,13,10], \n",
    "               c_set=np.logspace(-1,7,9), \n",
    "               gamma_set=np.logspace(-7,1,9))"
   ]
  },
  {
   "cell_type": "code",
   "execution_count": 173,
   "metadata": {
    "ExecuteTime": {
     "end_time": "2019-09-26T06:45:04.110930Z",
     "start_time": "2019-09-26T06:44:55.996741Z"
    }
   },
   "outputs": [
    {
     "name": "stdout",
     "output_type": "stream",
     "text": [
      "{'agg__n_clusters': 18, 'estimator__C': 10.0, 'estimator__gamma': 10.0}\n",
      "K-fold CV random state:  42\n",
      "Best fold balanced_accuracy :     0.5999999999999999\n"
     ]
    },
    {
     "data": {
      "text/plain": [
       "(10.0, 10.0)"
      ]
     },
     "execution_count": 173,
     "metadata": {},
     "output_type": "execute_result"
    }
   ],
   "source": [
    "# PUC features only\n",
    "gridsearch_svm(Xp_enm+0.0001, \n",
    "               bin_enm, \n",
    "               n_clusters_set=cluster_set_p, \n",
    "               c_set=np.logspace(-1,7,9), \n",
    "               gamma_set=np.logspace(-7,1,9))"
   ]
  },
  {
   "cell_type": "markdown",
   "metadata": {},
   "source": [
    "### Apply feature agglomeration"
   ]
  },
  {
   "cell_type": "markdown",
   "metadata": {},
   "source": [
    "We decided to use n_clusters from the elbow graphs, so as not to lose too many functional use groups."
   ]
  },
  {
   "cell_type": "code",
   "execution_count": 14,
   "metadata": {
    "ExecuteTime": {
     "end_time": "2019-09-30T09:48:02.239263Z",
     "start_time": "2019-09-30T09:48:02.074126Z"
    }
   },
   "outputs": [],
   "source": [
    "# Apply feature agglomeration to functional use and PUC features\n",
    "Xf_enm_red = blt.feat_agglom(13, 'fagg', Xf_enm, Xf_enm)\n",
    "Xp_enm_red = blt.feat_agglom(16, 'pagg', Xp_enm, Xp_enm)"
   ]
  },
  {
   "cell_type": "markdown",
   "metadata": {},
   "source": [
    "Lastly, eliminate propBP due to redundancy and lack of relevance for much of the ENM data."
   ]
  },
  {
   "cell_type": "code",
   "execution_count": 15,
   "metadata": {
    "ExecuteTime": {
     "end_time": "2019-09-30T09:48:06.555270Z",
     "start_time": "2019-09-30T09:48:06.550028Z"
    }
   },
   "outputs": [],
   "source": [
    "# Drop BP\n",
    "Xc_enm = Xc_enm.drop(['cprp_BP'], axis=1)"
   ]
  },
  {
   "cell_type": "markdown",
   "metadata": {},
   "source": [
    "### Concatenate final dataframe"
   ]
  },
  {
   "cell_type": "code",
   "execution_count": 16,
   "metadata": {
    "ExecuteTime": {
     "end_time": "2019-09-30T09:48:11.212417Z",
     "start_time": "2019-09-30T09:48:11.183251Z"
    }
   },
   "outputs": [
    {
     "data": {
      "text/html": [
       "<div>\n",
       "<style scoped>\n",
       "    .dataframe tbody tr th:only-of-type {\n",
       "        vertical-align: middle;\n",
       "    }\n",
       "\n",
       "    .dataframe tbody tr th {\n",
       "        vertical-align: top;\n",
       "    }\n",
       "\n",
       "    .dataframe thead th {\n",
       "        text-align: right;\n",
       "    }\n",
       "</style>\n",
       "<table border=\"1\" class=\"dataframe\">\n",
       "  <thead>\n",
       "    <tr style=\"text-align: right;\">\n",
       "      <th></th>\n",
       "      <th>cprp_MW</th>\n",
       "      <th>cprp_MP</th>\n",
       "      <th>cprp_logdensity</th>\n",
       "      <th>fagg_absorbent_opacifier</th>\n",
       "      <th>fagg_brightener_viscositymodifier</th>\n",
       "      <th>fagg_filler_humectant</th>\n",
       "      <th>func_UVstabilizer</th>\n",
       "      <th>func_antiadhesivecohesive</th>\n",
       "      <th>func_antioxidant</th>\n",
       "      <th>func_antiredepositionagent</th>\n",
       "      <th>...</th>\n",
       "      <th>pgrp_dentalcare</th>\n",
       "      <th>pgrp_deodorant</th>\n",
       "      <th>pgrp_facialcleansingmoisturizing</th>\n",
       "      <th>pgrp_footcare</th>\n",
       "      <th>pgrp_generalmoisturizing</th>\n",
       "      <th>pgrp_makeuprelated</th>\n",
       "      <th>pgrp_surfacesealers</th>\n",
       "      <th>mtrx_spray</th>\n",
       "      <th>mtrx_formulation</th>\n",
       "      <th>mtrx_WFmeasured</th>\n",
       "    </tr>\n",
       "  </thead>\n",
       "  <tbody>\n",
       "    <tr>\n",
       "      <th>108</th>\n",
       "      <td>107.868</td>\n",
       "      <td>961.78</td>\n",
       "      <td>1.01473</td>\n",
       "      <td>0.0</td>\n",
       "      <td>0.0</td>\n",
       "      <td>0.0</td>\n",
       "      <td>0.0</td>\n",
       "      <td>0.0</td>\n",
       "      <td>0.0</td>\n",
       "      <td>0.0</td>\n",
       "      <td>...</td>\n",
       "      <td>0.0</td>\n",
       "      <td>0.0</td>\n",
       "      <td>0.0</td>\n",
       "      <td>0.0</td>\n",
       "      <td>0.0</td>\n",
       "      <td>0.0</td>\n",
       "      <td>0.0</td>\n",
       "      <td>1</td>\n",
       "      <td>1</td>\n",
       "      <td>0</td>\n",
       "    </tr>\n",
       "    <tr>\n",
       "      <th>109</th>\n",
       "      <td>107.868</td>\n",
       "      <td>961.78</td>\n",
       "      <td>1.01473</td>\n",
       "      <td>0.0</td>\n",
       "      <td>0.0</td>\n",
       "      <td>0.0</td>\n",
       "      <td>0.0</td>\n",
       "      <td>0.0</td>\n",
       "      <td>0.0</td>\n",
       "      <td>0.0</td>\n",
       "      <td>...</td>\n",
       "      <td>0.0</td>\n",
       "      <td>0.0</td>\n",
       "      <td>0.0</td>\n",
       "      <td>0.0</td>\n",
       "      <td>0.0</td>\n",
       "      <td>0.0</td>\n",
       "      <td>0.0</td>\n",
       "      <td>0</td>\n",
       "      <td>1</td>\n",
       "      <td>0</td>\n",
       "    </tr>\n",
       "    <tr>\n",
       "      <th>110</th>\n",
       "      <td>107.868</td>\n",
       "      <td>961.78</td>\n",
       "      <td>1.01473</td>\n",
       "      <td>0.0</td>\n",
       "      <td>0.0</td>\n",
       "      <td>0.0</td>\n",
       "      <td>0.0</td>\n",
       "      <td>0.0</td>\n",
       "      <td>0.0</td>\n",
       "      <td>0.0</td>\n",
       "      <td>...</td>\n",
       "      <td>0.0</td>\n",
       "      <td>0.0</td>\n",
       "      <td>1.0</td>\n",
       "      <td>0.0</td>\n",
       "      <td>0.0</td>\n",
       "      <td>0.0</td>\n",
       "      <td>0.0</td>\n",
       "      <td>0</td>\n",
       "      <td>1</td>\n",
       "      <td>0</td>\n",
       "    </tr>\n",
       "    <tr>\n",
       "      <th>111</th>\n",
       "      <td>107.868</td>\n",
       "      <td>961.78</td>\n",
       "      <td>1.01473</td>\n",
       "      <td>0.0</td>\n",
       "      <td>0.0</td>\n",
       "      <td>0.0</td>\n",
       "      <td>0.0</td>\n",
       "      <td>0.0</td>\n",
       "      <td>0.0</td>\n",
       "      <td>0.0</td>\n",
       "      <td>...</td>\n",
       "      <td>0.0</td>\n",
       "      <td>0.0</td>\n",
       "      <td>0.0</td>\n",
       "      <td>0.0</td>\n",
       "      <td>0.0</td>\n",
       "      <td>0.0</td>\n",
       "      <td>0.0</td>\n",
       "      <td>0</td>\n",
       "      <td>1</td>\n",
       "      <td>0</td>\n",
       "    </tr>\n",
       "  </tbody>\n",
       "</table>\n",
       "<p>4 rows × 35 columns</p>\n",
       "</div>"
      ],
      "text/plain": [
       "     cprp_MW  cprp_MP  cprp_logdensity  fagg_absorbent_opacifier  \\\n",
       "108  107.868   961.78          1.01473                       0.0   \n",
       "109  107.868   961.78          1.01473                       0.0   \n",
       "110  107.868   961.78          1.01473                       0.0   \n",
       "111  107.868   961.78          1.01473                       0.0   \n",
       "\n",
       "     fagg_brightener_viscositymodifier  fagg_filler_humectant  \\\n",
       "108                                0.0                    0.0   \n",
       "109                                0.0                    0.0   \n",
       "110                                0.0                    0.0   \n",
       "111                                0.0                    0.0   \n",
       "\n",
       "     func_UVstabilizer  func_antiadhesivecohesive  func_antioxidant  \\\n",
       "108                0.0                        0.0               0.0   \n",
       "109                0.0                        0.0               0.0   \n",
       "110                0.0                        0.0               0.0   \n",
       "111                0.0                        0.0               0.0   \n",
       "\n",
       "     func_antiredepositionagent  ...  pgrp_dentalcare  pgrp_deodorant  \\\n",
       "108                         0.0  ...              0.0             0.0   \n",
       "109                         0.0  ...              0.0             0.0   \n",
       "110                         0.0  ...              0.0             0.0   \n",
       "111                         0.0  ...              0.0             0.0   \n",
       "\n",
       "     pgrp_facialcleansingmoisturizing  pgrp_footcare  \\\n",
       "108                               0.0            0.0   \n",
       "109                               0.0            0.0   \n",
       "110                               1.0            0.0   \n",
       "111                               0.0            0.0   \n",
       "\n",
       "     pgrp_generalmoisturizing  pgrp_makeuprelated  pgrp_surfacesealers  \\\n",
       "108                       0.0                 0.0                  0.0   \n",
       "109                       0.0                 0.0                  0.0   \n",
       "110                       0.0                 0.0                  0.0   \n",
       "111                       0.0                 0.0                  0.0   \n",
       "\n",
       "     mtrx_spray  mtrx_formulation  mtrx_WFmeasured  \n",
       "108           1                 1                0  \n",
       "109           0                 1                0  \n",
       "110           0                 1                0  \n",
       "111           0                 1                0  \n",
       "\n",
       "[4 rows x 35 columns]"
      ]
     },
     "execution_count": 16,
     "metadata": {},
     "output_type": "execute_result"
    }
   ],
   "source": [
    "# Concatenate all clustered and unscaled features into new dataframe\n",
    "XX_enm = pd.concat([Xc_enm, Xf_enm_red, Xp_enm_red, Xm_enm], axis=1)\n",
    "XX_enm.tail(4)"
   ]
  },
  {
   "cell_type": "code",
   "execution_count": 18,
   "metadata": {
    "ExecuteTime": {
     "end_time": "2019-09-30T09:49:30.821257Z",
     "start_time": "2019-09-30T09:49:30.806212Z"
    }
   },
   "outputs": [],
   "source": [
    "# Export unscaled ENM dataframe\n",
    "XX_enm.to_csv(\"./data/ENM-preprocessed-feats.csv\", sep='\\t', na_rep='', \n",
    "              header=True, index=True, index_label=None, mode='w')"
   ]
  },
  {
   "cell_type": "code",
   "execution_count": 52,
   "metadata": {
    "ExecuteTime": {
     "end_time": "2019-09-30T04:53:13.750241Z",
     "start_time": "2019-09-30T04:53:13.736846Z"
    }
   },
   "outputs": [],
   "source": [
    "# Export ENM PUC features dataframe for performing agglomeration with organics\n",
    "X_enm.to_csv(\"./data/ENM-pre-preprocessed-feats.csv\", sep='\\t', na_rep='', \n",
    "              header=True, index=True, index_label=None, mode='w')"
   ]
  },
  {
   "cell_type": "markdown",
   "metadata": {},
   "source": [
    "# Preliminary models"
   ]
  },
  {
   "cell_type": "code",
   "execution_count": 198,
   "metadata": {
    "ExecuteTime": {
     "end_time": "2019-09-28T01:02:20.570409Z",
     "start_time": "2019-09-28T01:02:13.567687Z"
    }
   },
   "outputs": [
    {
     "data": {
      "image/png": "[encoded data removed]",
      "text/plain": [
       "<Figure size 432x288 with 2 Axes>"
      ]
     },
     "metadata": {
      "needs_background": "light"
     },
     "output_type": "display_data"
    },
    {
     "name": "stdout",
     "output_type": "stream",
     "text": [
      "Random state:\t 69\n",
      "Best parameters: {'C': 10.0, 'gamma': 0.1}\n",
      "Max opt. balanced accuracy: 0.710\n",
      "Avg. balanced accuracy:     0.708\n",
      "Normalized Confusion Matrix\n",
      "[[0.81 0.15 0.04]\n",
      " [0.37 0.56 0.07]\n",
      " [0.08 0.16 0.76]]\n"
     ]
    },
    {
     "data": {
      "text/html": [
       "\n",
       "                <audio controls=\"controls\" autoplay=\"autoplay\">\n",
       "                    <source src=\"./data/ping.wav\" type=\"audio/x-wav\" />\n",
       "                    Your browser does not support the audio element.\n",
       "                </audio>\n",
       "              "
      ],
      "text/plain": [
       "<IPython.lib.display.Audio object>"
      ]
     },
     "metadata": {},
     "output_type": "display_data"
    },
    {
     "data": {
      "text/plain": [
       "0.7082707707707708"
      ]
     },
     "execution_count": 198,
     "metadata": {},
     "output_type": "execute_result"
    },
    {
     "data": {
      "image/png": "[encoded data removed]",
      "text/plain": [
       "<Figure size 432x288 with 2 Axes>"
      ]
     },
     "metadata": {
      "needs_background": "light"
     },
     "output_type": "display_data"
    }
   ],
   "source": [
    "# SVC-RBF on clustered ENM-only data\n",
    "param_grid = {'estimator__C': np.logspace(-1,7,9), \n",
    "              'estimator__gamma': np.logspace(-7,1,9)\n",
    "             }\n",
    "blt.model_opt_exe(classifier='svc', \n",
    "                  aug_type='none', \n",
    "                  k=0, \n",
    "                  feat_data=XX_enm+0.0001, \n",
    "                  bin_data=bin_enm, \n",
    "                  seed=69, \n",
    "                  show_opt_plot=True, \n",
    "                  show_cnf_matrix=True, \n",
    "                  param_grid=param_grid)"
   ]
  },
  {
   "cell_type": "code",
   "execution_count": 304,
   "metadata": {
    "ExecuteTime": {
     "end_time": "2019-09-26T08:18:49.776743Z",
     "start_time": "2019-09-26T08:08:56.313993Z"
    }
   },
   "outputs": [
    {
     "name": "stdout",
     "output_type": "stream",
     "text": [
      "Avg accuracy:     0.715\n",
      "Median accuracy:  0.715\n",
      "StdDev accuracy:  0.011\n",
      "Numer of trials:  100\n",
      "Results:  [0.71, 0.71, 0.72, 0.72, 0.7, 0.71, 0.69, 0.72, 0.71, 0.72, 0.73, 0.72, 0.73, 0.71, 0.71, 0.72, 0.71, 0.73, 0.7, 0.72, 0.72, 0.71, 0.71, 0.71, 0.72, 0.74, 0.73, 0.72, 0.74, 0.68, 0.71, 0.71, 0.71, 0.71, 0.71, 0.73, 0.7, 0.72, 0.7, 0.72, 0.72, 0.72, 0.72, 0.7, 0.7, 0.71, 0.72, 0.73, 0.72, 0.72, 0.7, 0.72, 0.72, 0.7, 0.71, 0.7, 0.73, 0.74, 0.71, 0.71, 0.72, 0.69, 0.71, 0.72, 0.72, 0.7, 0.72, 0.71, 0.71, 0.7, 0.7, 0.71, 0.71, 0.72, 0.72, 0.7, 0.73, 0.71, 0.71, 0.72, 0.72, 0.7, 0.73, 0.73, 0.72, 0.72, 0.7, 0.73, 0.73, 0.7, 0.72, 0.73, 0.71, 0.74, 0.72, 0.73, 0.74, 0.71, 0.72, 0.7]\n"
     ]
    },
    {
     "data": {
      "text/html": [
       "\n",
       "                <audio controls=\"controls\" autoplay=\"autoplay\">\n",
       "                    <source src=\"./data/ping.wav\" type=\"audio/x-wav\" />\n",
       "                    Your browser does not support the audio element.\n",
       "                </audio>\n",
       "              "
      ],
      "text/plain": [
       "<IPython.lib.display.Audio object>"
      ]
     },
     "metadata": {},
     "output_type": "display_data"
    },
    {
     "data": {
      "text/plain": [
       "(0.715, 0.011)"
      ]
     },
     "execution_count": 304,
     "metadata": {},
     "output_type": "execute_result"
    }
   ],
   "source": [
    "# Multiple trials SVC-RBF, balanced accuracy\n",
    "model_params = {'classifier': 'svc', \n",
    "                'aug_type': 'none', \n",
    "                'k': 0, \n",
    "                'feat_data': XX_enm, \n",
    "                'bin_data': bin_enm, \n",
    "                'use_balanced_accu': True, \n",
    "                'param_grid': {'estimator__C': np.logspace(-1,7,9), \n",
    "                               'estimator__gamma': np.logspace(-7,1,9)}\n",
    "               }\n",
    "blt.multi_trials(num_trials=100, \n",
    "                 model_params=model_params, \n",
    "                 print_results=True)"
   ]
  },
  {
   "cell_type": "code",
   "execution_count": null,
   "metadata": {},
   "outputs": [],
   "source": []
  }
 ],
 "metadata": {
  "kernelspec": {
   "display_name": "Python 3",
   "language": "python",
   "name": "python3"
  },
  "language_info": {
   "codemirror_mode": {
    "name": "ipython",
    "version": 3
   },
   "file_extension": ".py",
   "mimetype": "text/x-python",
   "name": "python",
   "nbconvert_exporter": "python",
   "pygments_lexer": "ipython3",
   "version": "3.7.3"
  },
  "toc": {
   "base_numbering": 1,
   "nav_menu": {},
   "number_sections": true,
   "sideBar": true,
   "skip_h1_title": false,
   "title_cell": "Table of Contents",
   "title_sidebar": "Contents",
   "toc_cell": true,
   "toc_position": {
    "height": "calc(100% - 180px)",
    "left": "10px",
    "top": "150px",
    "width": "165px"
   },
   "toc_section_display": true,
   "toc_window_display": true
  }
 },
 "nbformat": 4,
 "nbformat_minor": 2
}
