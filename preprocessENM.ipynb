{
 "cells": [
  {
   "cell_type": "markdown",
   "metadata": {},
   "source": [
    "# Code setup"
   ]
  },
  {
   "cell_type": "code",
   "execution_count": 1,
   "metadata": {
    "execution": {
     "iopub.execute_input": "2021-11-09T21:57:01.695815Z",
     "iopub.status.busy": "2021-11-09T21:57:01.694609Z",
     "iopub.status.idle": "2021-11-09T21:57:02.073526Z",
     "shell.execute_reply": "2021-11-09T21:57:02.071609Z",
     "shell.execute_reply.started": "2021-11-09T21:57:01.695663Z"
    },
    "tags": []
   },
   "outputs": [],
   "source": [
    "try:\n",
    "    %load_ext lab_black\n",
    "except ModuleNotFoundError:\n",
    "    print(\"Couldn't load Black autoformatter.\")"
   ]
  },
  {
   "cell_type": "code",
   "execution_count": 2,
   "metadata": {
    "ExecuteTime": {
     "end_time": "2020-09-14T00:01:42.782783Z",
     "start_time": "2020-09-14T00:01:41.241252Z"
    },
    "execution": {
     "iopub.execute_input": "2021-11-09T21:57:02.647837Z",
     "iopub.status.busy": "2021-11-09T21:57:02.647173Z",
     "iopub.status.idle": "2021-11-09T21:57:03.446715Z",
     "shell.execute_reply": "2021-11-09T21:57:03.445959Z",
     "shell.execute_reply.started": "2021-11-09T21:57:02.647790Z"
    },
    "tags": []
   },
   "outputs": [],
   "source": [
    "# To suppress warning output\n",
    "import warnings\n",
    "\n",
    "# warnings.filterwarnings('ignore')\n",
    "# warnings.simplefilter('ignore')\n",
    "\n",
    "# Important imports\n",
    "import numpy as np\n",
    "from numpy import random\n",
    "import pandas as pd\n",
    "import os, sys\n",
    "\n",
    "# Set random seed across notebook for repeatable results\n",
    "np.random.seed(1922)"
   ]
  },
  {
   "cell_type": "code",
   "execution_count": 3,
   "metadata": {
    "ExecuteTime": {
     "end_time": "2020-09-14T00:01:56.935003Z",
     "start_time": "2020-09-14T00:01:56.642344Z"
    },
    "execution": {
     "iopub.execute_input": "2021-11-09T21:57:03.994266Z",
     "iopub.status.busy": "2021-11-09T21:57:03.993921Z",
     "iopub.status.idle": "2021-11-09T21:57:04.652210Z",
     "shell.execute_reply": "2021-11-09T21:57:04.651155Z",
     "shell.execute_reply.started": "2021-11-09T21:57:03.994226Z"
    },
    "tags": []
   },
   "outputs": [],
   "source": [
    "# To plot nice figures\n",
    "%matplotlib inline\n",
    "import matplotlib\n",
    "import matplotlib.pyplot as plt\n",
    "import matplotlib.cm as cm\n",
    "import matplotlib.image as mpimg\n",
    "from matplotlib.ticker import MultipleLocator\n",
    "import squarify  # algorithm for treemaps\n",
    "\n",
    "plt.rcParams[\"font.family\"] = \"sans-serif\"\n",
    "plt.rcParams[\"font.sans-serif\"] = \"Helvetica\"\n",
    "plt.rcParams[\"axes.titlesize\"] = \"x-large\"  # 16\n",
    "plt.rcParams[\"axes.labelsize\"] = \"x-large\"\n",
    "plt.rcParams[\"xtick.labelsize\"] = \"x-large\"\n",
    "plt.rcParams[\"ytick.labelsize\"] = \"x-large\""
   ]
  },
  {
   "cell_type": "code",
   "execution_count": 4,
   "metadata": {
    "ExecuteTime": {
     "end_time": "2020-09-14T00:02:12.540649Z",
     "start_time": "2020-09-14T00:02:12.531729Z"
    },
    "execution": {
     "iopub.execute_input": "2021-11-09T21:57:08.821631Z",
     "iopub.status.busy": "2021-11-09T21:57:08.821131Z",
     "iopub.status.idle": "2021-11-09T21:57:08.864893Z",
     "shell.execute_reply": "2021-11-09T21:57:08.857643Z",
     "shell.execute_reply.started": "2021-11-09T21:57:08.821577Z"
    },
    "tags": []
   },
   "outputs": [
    {
     "name": "stdout",
     "output_type": "stream",
     "text": [
      "Figure directory exists.\n"
     ]
    }
   ],
   "source": [
    "# Where to save the figures\n",
    "PROJECT_ROOT_DIR = \".\"\n",
    "PROJECT_SAVE_DIR = \"figs\"\n",
    "\n",
    "if not (os.path.isdir(PROJECT_ROOT_DIR + \"/\" + PROJECT_SAVE_DIR)):\n",
    "    print(\"Figure directory did not exist, creating now.\")\n",
    "    os.mkdir(PROJECT_ROOT_DIR + \"/\" + PROJECT_SAVE_DIR)\n",
    "else:\n",
    "    print(\"Figure directory exists.\")"
   ]
  },
  {
   "cell_type": "code",
   "execution_count": 128,
   "metadata": {
    "ExecuteTime": {
     "end_time": "2020-09-14T00:40:52.820393Z",
     "start_time": "2020-09-14T00:40:52.224868Z"
    },
    "execution": {
     "iopub.execute_input": "2021-11-10T22:20:07.677200Z",
     "iopub.status.busy": "2021-11-10T22:20:07.670072Z",
     "iopub.status.idle": "2021-11-10T22:20:08.369036Z",
     "shell.execute_reply": "2021-11-10T22:20:08.365206Z",
     "shell.execute_reply.started": "2021-11-10T22:20:07.677061Z"
    },
    "tags": []
   },
   "outputs": [
    {
     "name": "stdout",
     "output_type": "stream",
     "text": [
      "The lab_black extension is already loaded. To reload it, use:\n",
      "  %reload_ext lab_black\n",
      "Figure directory exists.\n"
     ]
    },
    {
     "data": {
      "text/plain": [
       "<module 'functions' from '/Users/blt/Documents/ml-weight-fraction/functions.py'>"
      ]
     },
     "execution_count": 128,
     "metadata": {},
     "output_type": "execute_result"
    }
   ],
   "source": [
    "# Import classes and functions used across multiple notebooks\n",
    "sys.path.append(os.getcwd())\n",
    "import importlib\n",
    "import functions as blt\n",
    "\n",
    "importlib.reload(blt)"
   ]
  },
  {
   "cell_type": "markdown",
   "metadata": {},
   "source": [
    "# Data"
   ]
  },
  {
   "cell_type": "markdown",
   "metadata": {
    "ExecuteTime": {
     "end_time": "2018-07-31T20:26:39.287566Z",
     "start_time": "2018-07-31T20:26:39.283890Z"
    }
   },
   "source": [
    "## Read in ENM data"
   ]
  },
  {
   "cell_type": "code",
   "execution_count": 6,
   "metadata": {
    "ExecuteTime": {
     "end_time": "2020-09-14T00:02:21.065538Z",
     "start_time": "2020-09-14T00:02:21.046579Z"
    },
    "execution": {
     "iopub.execute_input": "2021-11-09T21:57:15.100983Z",
     "iopub.status.busy": "2021-11-09T21:57:15.100333Z",
     "iopub.status.idle": "2021-11-09T21:57:15.155545Z",
     "shell.execute_reply": "2021-11-09T21:57:15.152920Z",
     "shell.execute_reply.started": "2021-11-09T21:57:15.100935Z"
    },
    "tags": []
   },
   "outputs": [],
   "source": [
    "# Read in engineered nanomaterials (ENM) weight fraction (WF) data (\"labels\")\n",
    "y_enm = pd.read_csv(\"./data/ENM-clean.csv\", sep=\",\", header=\"infer\", usecols=[4])\n",
    "\n",
    "# Read in potential predictive variables (\"features\") for ENM WF\n",
    "X_enm = pd.read_csv(\"./data/ENM-clean.csv\", sep=\",\", header=\"infer\", index_col=0)"
   ]
  },
  {
   "cell_type": "markdown",
   "metadata": {},
   "source": [
    "Note that each feature either has a prefix, or will be assigned a prefix that indicates what \"data group\" it belongs under.\n",
    "* cprp = chemical property\n",
    "* func = chemical functional use\n",
    "* pgen = general product category\n",
    "* pgrp = product groups (a subset of a category)\n",
    "* mtrx = product matrix property\n",
    "\n",
    "The following code cleans the data and column names."
   ]
  },
  {
   "cell_type": "code",
   "execution_count": 7,
   "metadata": {
    "ExecuteTime": {
     "end_time": "2020-09-14T00:02:30.342607Z",
     "start_time": "2020-09-14T00:02:30.260538Z"
    },
    "execution": {
     "iopub.execute_input": "2021-11-09T21:57:17.073992Z",
     "iopub.status.busy": "2021-11-09T21:57:17.073183Z",
     "iopub.status.idle": "2021-11-09T21:57:17.278487Z",
     "shell.execute_reply": "2021-11-09T21:57:17.277273Z",
     "shell.execute_reply.started": "2021-11-09T21:57:17.073917Z"
    },
    "tags": []
   },
   "outputs": [],
   "source": [
    "# Drop unwanted columns\n",
    "# For PUC, keeping gencat, group, refined, assigned (\"matrix\")\n",
    "# Drop dehydrating_agent[22], dispersing_agent[24], fuel_agent[27]\n",
    "X_enm.drop(\n",
    "    X_enm.columns[[0, 1, 2, 3, 4, 9, 12, 22, 24, 27, 34, 35, 36]], axis=1, inplace=True\n",
    ")\n",
    "\n",
    "# Rename columns\n",
    "X_enm.columns = X_enm.columns.str.replace(\"_\", \"\")\n",
    "X_enm.rename(\n",
    "    columns={\n",
    "        \"gencatID\": \"pgen\",\n",
    "        \"group\": \"pgrp\",\n",
    "        \"refinedproducttype\": \"refined\",\n",
    "        \"assignedID\": \"mtrx\",\n",
    "        \"measured\": \"mtrx_WFmeasured\",\n",
    "        \"antistainagent\": \"antiredepositionagent\",\n",
    "        \"lubricatingagent\": \"antiadhesivecohesive\",\n",
    "        \"uvstabilizer\": \"UVstabilizer\",\n",
    "    },\n",
    "    inplace=True,\n",
    ")\n",
    "\n",
    "# To maintain atomicity, assign all child-specific products (C) as articles (A)\n",
    "# and all OTC pharmaceuticals (P) as formulas (F) (they were all liquids)\n",
    "X_enm[\"mtrx\"] = X_enm[\"mtrx\"].replace(\"C\", \"A\", regex=True)\n",
    "X_enm[\"mtrx\"] = X_enm[\"mtrx\"].replace(\"P\", \"F\", regex=True)\n",
    "\n",
    "# Clean up data in refined column so it's only spray vs NOC\n",
    "X_enm.loc[X_enm.refined != \"spray\", \"refined\"] = \"NOC\"\n",
    "\n",
    "# Transform factor data (product categories) into binary columns\n",
    "X_enm = pd.get_dummies(\n",
    "    X_enm,\n",
    "    prefix=[\"pgen\", \"pgrp\", \"refined\", \"mtrx\"],\n",
    "    columns=[\"pgen\", \"pgrp\", \"refined\", \"mtrx\"],\n",
    ")\n",
    "\n",
    "# Remove spaces from column names\n",
    "X_enm.columns = X_enm.columns.str.replace(\" \", \"\")\n",
    "X_enm.columns = X_enm.columns.str.replace(\"/\", \"\")\n",
    "X_enm.columns = X_enm.columns.str.replace(\"-\", \"\")\n",
    "X_enm.columns = X_enm.columns.str.replace(\"and\", \"\")\n",
    "\n",
    "# Edit column name prefixes and suffixes for consistency and clarity\n",
    "X_enm.columns = X_enm.columns.str.replace(\"Density\", \"density\")\n",
    "X_enm.columns = X_enm.columns.str.replace(\"prop\", \"cprp_\")\n",
    "X_enm.columns = X_enm.columns.str.replace(\"refined\", \"mtrx\")\n",
    "X_enm.columns = X_enm.columns.str.replace(\"mtrx_F\", \"mtrx_formulation\")\n",
    "X_enm.columns = X_enm.columns.str.replace(\"relatedproducts\", \"related\")\n",
    "\n",
    "# Drop columns absent from organics\n",
    "X_enm.drop(\n",
    "    [\n",
    "        \"pgen_AP\",\n",
    "        \"pgen_CS\",\n",
    "        \"pgen_FC\",\n",
    "        \"pgen_PH\",\n",
    "        \"mtrx_NOC\",  # not otherwise categorizable\n",
    "        \"mtrx_A\",  # duplicative of mtrx_formulation\n",
    "    ],\n",
    "    axis=1,\n",
    "    inplace=True,\n",
    ")\n",
    "\n",
    "# Rearrange feature order\n",
    "cols = X_enm.columns.tolist()\n",
    "cols = cols[:5] + [cols[16]] + cols[5:16] + cols[17:]  # Move anti_adh. up\n",
    "cols = cols[:20] + cols[21:] + [cols[20]]  # WF_measured to end\n",
    "X_enm = X_enm[cols]\n",
    "\n",
    "# Add 'func' prefix to functional uses\n",
    "cols = X_enm.columns\n",
    "idx_func = np.asarray([i for i, c in enumerate(cols) if not \"_\" in c])\n",
    "X_enm.rename(columns={c: \"_\".join((\"func\", c)) for c in cols[idx_func]}, inplace=True)"
   ]
  },
  {
   "cell_type": "markdown",
   "metadata": {},
   "source": [
    "Note that 'WFmeasured' is not actually a matrix property; it describes whether the WF was verified with lab analysis or if it was simply claimed by the manufacturer."
   ]
  },
  {
   "cell_type": "code",
   "execution_count": 8,
   "metadata": {
    "execution": {
     "iopub.execute_input": "2021-11-09T21:57:19.314927Z",
     "iopub.status.busy": "2021-11-09T21:57:19.314572Z",
     "iopub.status.idle": "2021-11-09T21:57:19.347547Z",
     "shell.execute_reply": "2021-11-09T21:57:19.345495Z",
     "shell.execute_reply.started": "2021-11-09T21:57:19.314887Z"
    },
    "tags": []
   },
   "outputs": [
    {
     "name": "stdout",
     "output_type": "stream",
     "text": [
      "Index(['cprp_MW', 'cprp_MP', 'cprp_BP', 'cprp_density', 'func_absorbent',\n",
      "       'func_antiadhesivecohesive', 'func_antioxidant',\n",
      "       'func_antiredepositionagent', 'func_biocide', 'func_brightener',\n",
      "       'func_chemicalreactionregulator', 'func_colorant', 'func_deodorizer',\n",
      "       'func_filler', 'func_flavouringnutrient', 'func_hardener',\n",
      "       'func_humectant', 'func_opacifier', 'func_UVstabilizer',\n",
      "       'func_viscositymodifier', 'pgen_AC', 'pgen_CP', 'pgen_EL', 'pgen_HM',\n",
      "       'pgen_PC', 'pgen_PE', 'pgen_VE', 'pgrp_apparel', 'pgrp_bodyhygiene',\n",
      "       'pgrp_childspecific', 'pgrp_coldrelief', 'pgrp_dentalcare',\n",
      "       'pgrp_deodorant', 'pgrp_enginemaintenance', 'pgrp_fabrictreatmentdye',\n",
      "       'pgrp_facialcleansingmoisturizing', 'pgrp_firstaid', 'pgrp_foodstorage',\n",
      "       'pgrp_footcare', 'pgrp_fungicide', 'pgrp_generalhouseholdcleaning',\n",
      "       'pgrp_generalmoisturizing', 'pgrp_largeappliances',\n",
      "       'pgrp_makeuprelated', 'pgrp_nutritionalsupplements',\n",
      "       'pgrp_paintstainrelated', 'pgrp_portableairprocessing',\n",
      "       'pgrp_sunscreen', 'pgrp_surfacesealers', 'pgrp_toys', 'mtrx_spray',\n",
      "       'mtrx_formulation', 'mtrx_WFmeasured'],\n",
      "      dtype='object')\n"
     ]
    }
   ],
   "source": [
    "print(X_enm.columns)"
   ]
  },
  {
   "cell_type": "code",
   "execution_count": 9,
   "metadata": {
    "ExecuteTime": {
     "end_time": "2020-09-14T00:02:31.624290Z",
     "start_time": "2020-09-14T00:02:31.617905Z"
    },
    "execution": {
     "iopub.execute_input": "2021-11-09T21:57:32.515509Z",
     "iopub.status.busy": "2021-11-09T21:57:32.514902Z",
     "iopub.status.idle": "2021-11-09T21:57:32.550606Z",
     "shell.execute_reply": "2021-11-09T21:57:32.549269Z",
     "shell.execute_reply.started": "2021-11-09T21:57:32.515466Z"
    },
    "tags": []
   },
   "outputs": [],
   "source": [
    "# Export column headings list\n",
    "cols = X_enm.columns\n",
    "with open(\"./data/column-headers.txt\", \"w\") as filehandle:\n",
    "    for listitem in cols:\n",
    "        filehandle.write(\"%s\\n\" % listitem)"
   ]
  },
  {
   "cell_type": "markdown",
   "metadata": {
    "ExecuteTime": {
     "end_time": "2018-07-31T20:29:35.081047Z",
     "start_time": "2018-07-31T20:29:35.076307Z"
    }
   },
   "source": [
    "## ENM WF bins"
   ]
  },
  {
   "cell_type": "code",
   "execution_count": 10,
   "metadata": {
    "ExecuteTime": {
     "end_time": "2020-09-14T00:30:36.425717Z",
     "start_time": "2020-09-14T00:30:36.291013Z"
    },
    "execution": {
     "iopub.execute_input": "2021-11-09T21:57:36.080748Z",
     "iopub.status.busy": "2021-11-09T21:57:36.079716Z",
     "iopub.status.idle": "2021-11-09T21:57:36.519660Z",
     "shell.execute_reply": "2021-11-09T21:57:36.517543Z",
     "shell.execute_reply.started": "2021-11-09T21:57:36.080675Z"
    },
    "tags": []
   },
   "outputs": [
    {
     "data": {
      "image/png": "[encoded data removed]",
      "text/plain": [
       "<Figure size 432x288 with 1 Axes>"
      ]
     },
     "metadata": {
      "needs_background": "light"
     },
     "output_type": "display_data"
    }
   ],
   "source": [
    "# Log-transformed histogram of weight fraction\n",
    "fig, ax = plt.subplots()\n",
    "plt.hist(np.log10(np.asarray(y_enm)), bins=20)\n",
    "ax.xaxis.set_major_locator(MultipleLocator(1))"
   ]
  },
  {
   "cell_type": "code",
   "execution_count": 11,
   "metadata": {
    "execution": {
     "iopub.execute_input": "2021-11-09T21:57:45.928744Z",
     "iopub.status.busy": "2021-11-09T21:57:45.928393Z",
     "iopub.status.idle": "2021-11-09T21:57:46.603092Z",
     "shell.execute_reply": "2021-11-09T21:57:46.599418Z",
     "shell.execute_reply.started": "2021-11-09T21:57:45.928704Z"
    },
    "tags": []
   },
   "outputs": [
    {
     "data": {
      "image/png": "[encoded data removed]",
      "text/plain": [
       "<Figure size 432x288 with 1 Axes>"
      ]
     },
     "metadata": {
      "needs_background": "light"
     },
     "output_type": "display_data"
    },
    {
     "name": "stdout",
     "output_type": "stream",
     "text": [
      "Label bin:  [0 1 2]\n",
      "Count    :  [75 25 12]\n",
      "Frequency:  [0.67, 0.22, 0.11]\n"
     ]
    }
   ],
   "source": [
    "# Apply bins to ENM and organics data\n",
    "# (slightly different ranges from those used by Isaacs et al. 2016)\n",
    "bin_enm = np.asarray(y_enm.apply(blt.bins, axis=1))\n",
    "\n",
    "# View bar plot of ENM WF bins\n",
    "blt.bar_graph_bins(bin_enm, data_composition=\"ENM\")"
   ]
  },
  {
   "cell_type": "markdown",
   "metadata": {},
   "source": [
    "## Data summaries"
   ]
  },
  {
   "cell_type": "code",
   "execution_count": 129,
   "metadata": {
    "execution": {
     "iopub.execute_input": "2021-11-10T22:20:23.416602Z",
     "iopub.status.busy": "2021-11-10T22:20:23.415591Z",
     "iopub.status.idle": "2021-11-10T22:20:23.909326Z",
     "shell.execute_reply": "2021-11-10T22:20:23.901723Z",
     "shell.execute_reply.started": "2021-11-10T22:20:23.416550Z"
    },
    "tags": []
   },
   "outputs": [
    {
     "data": {
      "image/png": "[encoded data removed]",
      "text/plain": [
       "<Figure size 432x144 with 1 Axes>"
      ]
     },
     "metadata": {
      "needs_background": "light"
     },
     "output_type": "display_data"
    }
   ],
   "source": [
    "# ENM functional use breakdown as treemap\n",
    "blt.plot_treemap(\n",
    "    data=X_enm,\n",
    "    feat_subset_prefix=\"func\",\n",
    "    max_labels=9,\n",
    "    char_trunc=9,\n",
    "    n_full_labels=7,\n",
    "    save_fig_name=\"a) ENM Functional Uses\",\n",
    ")"
   ]
  },
  {
   "cell_type": "code",
   "execution_count": 130,
   "metadata": {
    "execution": {
     "iopub.execute_input": "2021-11-10T22:20:56.802566Z",
     "iopub.status.busy": "2021-11-10T22:20:56.794462Z",
     "iopub.status.idle": "2021-11-10T22:20:57.200824Z",
     "shell.execute_reply": "2021-11-10T22:20:57.194171Z",
     "shell.execute_reply.started": "2021-11-10T22:20:56.802506Z"
    },
    "tags": []
   },
   "outputs": [
    {
     "data": {
      "image/png": "[encoded data removed]",
      "text/plain": [
       "<Figure size 432x144 with 1 Axes>"
      ]
     },
     "metadata": {
      "needs_background": "light"
     },
     "output_type": "display_data"
    }
   ],
   "source": [
    "# ENM PUC breakdown as treemap\n",
    "blt.plot_treemap(\n",
    "    data=X_enm,\n",
    "    feat_subset_prefix=\"pgen\",\n",
    "    save_fig_name=\"c) ENM General Product Categories\",\n",
    ")"
   ]
  },
  {
   "cell_type": "code",
   "execution_count": 131,
   "metadata": {
    "execution": {
     "iopub.execute_input": "2021-11-10T22:21:06.859848Z",
     "iopub.status.busy": "2021-11-10T22:21:06.859319Z",
     "iopub.status.idle": "2021-11-10T22:21:07.589149Z",
     "shell.execute_reply": "2021-11-10T22:21:07.588036Z",
     "shell.execute_reply.started": "2021-11-10T22:21:06.859802Z"
    },
    "tags": []
   },
   "outputs": [
    {
     "data": {
      "image/png": "[encoded data removed]",
      "text/plain": [
       "<Figure size 432x144 with 1 Axes>"
      ]
     },
     "metadata": {
      "needs_background": "light"
     },
     "output_type": "display_data"
    }
   ],
   "source": [
    "# ENM PUC breakdown as treemap\n",
    "blt.plot_treemap(\n",
    "    data=X_enm,\n",
    "    feat_subset_prefix=\"pgrp\",\n",
    "    max_labels=10,\n",
    "    char_trunc=10,\n",
    "    n_full_labels=2,\n",
    "    save_fig_name=\"e) ENM Product Group Categories\",\n",
    ")"
   ]
  },
  {
   "cell_type": "code",
   "execution_count": 134,
   "metadata": {
    "execution": {
     "iopub.execute_input": "2021-11-10T22:21:41.380656Z",
     "iopub.status.busy": "2021-11-10T22:21:41.379894Z",
     "iopub.status.idle": "2021-11-10T22:21:41.720656Z",
     "shell.execute_reply": "2021-11-10T22:21:41.719949Z",
     "shell.execute_reply.started": "2021-11-10T22:21:41.380609Z"
    },
    "tags": []
   },
   "outputs": [
    {
     "data": {
      "image/png": "[encoded data removed]",
      "text/plain": [
       "<Figure size 432x36 with 1 Axes>"
      ]
     },
     "metadata": {
      "needs_background": "light"
     },
     "output_type": "display_data"
    }
   ],
   "source": [
    "# ENM product matrices: formulations vs articles\n",
    "blt.plot_treemap(\n",
    "    data=X_enm,\n",
    "    feat_subset_prefix=\"mtrx_formulation\",\n",
    "    figsize=[6, 0.5],\n",
    "    cust_labels=[\"formulation\", \"article\"],\n",
    "    save_fig_name=\"g) ENM Product Matrix\",\n",
    ")"
   ]
  },
  {
   "cell_type": "code",
   "execution_count": 135,
   "metadata": {
    "execution": {
     "iopub.execute_input": "2021-11-10T22:21:45.226017Z",
     "iopub.status.busy": "2021-11-10T22:21:45.225538Z",
     "iopub.status.idle": "2021-11-10T22:21:45.564927Z",
     "shell.execute_reply": "2021-11-10T22:21:45.563525Z",
     "shell.execute_reply.started": "2021-11-10T22:21:45.225972Z"
    },
    "tags": []
   },
   "outputs": [
    {
     "data": {
      "image/png": "[encoded data removed]",
      "text/plain": [
       "<Figure size 432x36 with 1 Axes>"
      ]
     },
     "metadata": {
      "needs_background": "light"
     },
     "output_type": "display_data"
    }
   ],
   "source": [
    "# ENM product matrices: sprays vs other\n",
    "blt.plot_treemap(\n",
    "    data=X_enm,\n",
    "    feat_subset_prefix=\"mtrx_spray\",\n",
    "    figsize=[6, 0.5],\n",
    "    save_fig_name=\"i) ENM Spray Products\",\n",
    ")"
   ]
  },
  {
   "cell_type": "markdown",
   "metadata": {},
   "source": [
    "# Export data"
   ]
  },
  {
   "cell_type": "code",
   "execution_count": 17,
   "metadata": {
    "ExecuteTime": {
     "end_time": "2020-02-06T06:10:25.639074Z",
     "start_time": "2020-02-06T06:10:25.624684Z"
    },
    "execution": {
     "iopub.execute_input": "2021-08-18T04:45:05.491874Z",
     "iopub.status.busy": "2021-08-18T04:45:05.491492Z",
     "iopub.status.idle": "2021-08-18T04:45:05.513125Z",
     "shell.execute_reply": "2021-08-18T04:45:05.512212Z",
     "shell.execute_reply.started": "2021-08-18T04:45:05.491828Z"
    }
   },
   "outputs": [],
   "source": [
    "# Export ENM CP dataframe for use in modeling scripts\n",
    "X_enm.to_csv(\n",
    "    \"./data/ENM-preprocessed-feats.csv\",\n",
    "    sep=\"\\t\",\n",
    "    na_rep=\"\",\n",
    "    header=True,\n",
    "    index=True,\n",
    "    index_label=None,\n",
    "    mode=\"w\",\n",
    ")"
   ]
  },
  {
   "cell_type": "code",
   "execution_count": null,
   "metadata": {},
   "outputs": [],
   "source": []
  }
 ],
 "metadata": {
  "kernelspec": {
   "display_name": "Python 3",
   "language": "python",
   "name": "python3"
  },
  "language_info": {
   "codemirror_mode": {
    "name": "ipython",
    "version": 3
   },
   "file_extension": ".py",
   "mimetype": "text/x-python",
   "name": "python",
   "nbconvert_exporter": "python",
   "pygments_lexer": "ipython3",
   "version": "3.7.12"
  },
  "toc": {
   "base_numbering": 1,
   "nav_menu": {},
   "number_sections": true,
   "sideBar": true,
   "skip_h1_title": false,
   "title_cell": "Table of Contents",
   "title_sidebar": "Contents",
   "toc_cell": true,
   "toc_position": {
    "height": "calc(100% - 180px)",
    "left": "10px",
    "top": "150px",
    "width": "165px"
   },
   "toc_section_display": true,
   "toc_window_display": true
  }
 },
 "nbformat": 4,
 "nbformat_minor": 4
}
