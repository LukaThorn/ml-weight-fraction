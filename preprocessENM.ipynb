{
 "cells": [
  {
   "cell_type": "markdown",
   "metadata": {},
   "source": [
    "# Code setup"
   ]
  },
  {
   "cell_type": "code",
   "execution_count": 1,
   "metadata": {
    "execution": {
     "iopub.execute_input": "2021-08-18T04:43:54.330864Z",
     "iopub.status.busy": "2021-08-18T04:43:54.330437Z",
     "iopub.status.idle": "2021-08-18T04:43:54.561597Z",
     "shell.execute_reply": "2021-08-18T04:43:54.560855Z",
     "shell.execute_reply.started": "2021-08-18T04:43:54.330772Z"
    }
   },
   "outputs": [],
   "source": [
    "try:\n",
    "    %load_ext lab_black\n",
    "except ModuleNotFoundError:\n",
    "    print(\"Couldn't load Black autoformatter.\")"
   ]
  },
  {
   "cell_type": "code",
   "execution_count": 2,
   "metadata": {
    "ExecuteTime": {
     "end_time": "2020-09-14T00:01:42.782783Z",
     "start_time": "2020-09-14T00:01:41.241252Z"
    },
    "execution": {
     "iopub.execute_input": "2021-08-18T04:43:56.606159Z",
     "iopub.status.busy": "2021-08-18T04:43:56.605873Z",
     "iopub.status.idle": "2021-08-18T04:43:57.145308Z",
     "shell.execute_reply": "2021-08-18T04:43:57.144272Z",
     "shell.execute_reply.started": "2021-08-18T04:43:56.606124Z"
    }
   },
   "outputs": [],
   "source": [
    "# To suppress warning output\n",
    "import warnings\n",
    "\n",
    "# warnings.filterwarnings('ignore')\n",
    "# warnings.simplefilter('ignore')\n",
    "\n",
    "# Important imports\n",
    "import numpy as np\n",
    "from numpy import random\n",
    "import pandas as pd\n",
    "import os, sys\n",
    "\n",
    "# Set random seed across notebook for repeatable results\n",
    "np.random.seed(1922)"
   ]
  },
  {
   "cell_type": "code",
   "execution_count": 3,
   "metadata": {
    "ExecuteTime": {
     "end_time": "2020-09-14T00:01:56.935003Z",
     "start_time": "2020-09-14T00:01:56.642344Z"
    },
    "execution": {
     "iopub.execute_input": "2021-08-18T04:43:57.644171Z",
     "iopub.status.busy": "2021-08-18T04:43:57.643848Z",
     "iopub.status.idle": "2021-08-18T04:43:58.012484Z",
     "shell.execute_reply": "2021-08-18T04:43:58.011795Z",
     "shell.execute_reply.started": "2021-08-18T04:43:57.644133Z"
    }
   },
   "outputs": [],
   "source": [
    "# To plot nice figures\n",
    "%matplotlib inline\n",
    "import matplotlib\n",
    "import matplotlib.pyplot as plt\n",
    "import matplotlib.cm as cm\n",
    "import matplotlib.image as mpimg\n",
    "from matplotlib.ticker import MultipleLocator\n",
    "\n",
    "plt.rcParams[\"font.family\"] = \"sans-serif\"\n",
    "plt.rcParams[\"font.sans-serif\"] = \"Helvetica\"\n",
    "plt.rcParams[\"axes.titlesize\"] = \"x-large\"  # 16\n",
    "plt.rcParams[\"axes.labelsize\"] = \"x-large\"\n",
    "plt.rcParams[\"xtick.labelsize\"] = \"x-large\"\n",
    "plt.rcParams[\"ytick.labelsize\"] = \"x-large\""
   ]
  },
  {
   "cell_type": "code",
   "execution_count": 4,
   "metadata": {
    "ExecuteTime": {
     "end_time": "2020-09-14T00:02:12.540649Z",
     "start_time": "2020-09-14T00:02:12.531729Z"
    },
    "execution": {
     "iopub.execute_input": "2021-08-18T04:43:58.519162Z",
     "iopub.status.busy": "2021-08-18T04:43:58.518790Z",
     "iopub.status.idle": "2021-08-18T04:43:58.531922Z",
     "shell.execute_reply": "2021-08-18T04:43:58.531058Z",
     "shell.execute_reply.started": "2021-08-18T04:43:58.519134Z"
    }
   },
   "outputs": [
    {
     "name": "stdout",
     "output_type": "stream",
     "text": [
      "Figure directory exists.\n"
     ]
    }
   ],
   "source": [
    "# Where to save the figures\n",
    "PROJECT_ROOT_DIR = \".\"\n",
    "PROJECT_SAVE_DIR = \"figs\"\n",
    "\n",
    "if not (os.path.isdir(PROJECT_ROOT_DIR + \"/\" + PROJECT_SAVE_DIR)):\n",
    "    print(\"Figure directory did not exist, creating now.\")\n",
    "    os.mkdir(PROJECT_ROOT_DIR + \"/\" + PROJECT_SAVE_DIR)\n",
    "else:\n",
    "    print(\"Figure directory exists.\")"
   ]
  },
  {
   "cell_type": "code",
   "execution_count": 20,
   "metadata": {
    "ExecuteTime": {
     "end_time": "2020-09-14T00:40:52.820393Z",
     "start_time": "2020-09-14T00:40:52.224868Z"
    },
    "execution": {
     "iopub.execute_input": "2021-09-08T09:09:22.769838Z",
     "iopub.status.busy": "2021-09-08T09:09:22.737590Z",
     "iopub.status.idle": "2021-09-08T09:09:24.545789Z",
     "shell.execute_reply": "2021-09-08T09:09:24.539655Z",
     "shell.execute_reply.started": "2021-09-08T09:09:22.768417Z"
    },
    "tags": []
   },
   "outputs": [
    {
     "name": "stdout",
     "output_type": "stream",
     "text": [
      "The lab_black extension is already loaded. To reload it, use:\n",
      "  %reload_ext lab_black\n",
      "Figure directory exists.\n"
     ]
    },
    {
     "data": {
      "text/plain": [
       "<module 'functions' from '/Users/blt/Documents/ml-weight-fraction/functions.py'>"
      ]
     },
     "execution_count": 20,
     "metadata": {},
     "output_type": "execute_result"
    }
   ],
   "source": [
    "# Import classes and functions used across multiple notebooks\n",
    "sys.path.append(os.getcwd())\n",
    "import importlib\n",
    "import functions as blt\n",
    "\n",
    "importlib.reload(blt)"
   ]
  },
  {
   "cell_type": "markdown",
   "metadata": {},
   "source": [
    "# Data"
   ]
  },
  {
   "cell_type": "markdown",
   "metadata": {
    "ExecuteTime": {
     "end_time": "2018-07-31T20:26:39.287566Z",
     "start_time": "2018-07-31T20:26:39.283890Z"
    }
   },
   "source": [
    "## Read in ENM data"
   ]
  },
  {
   "cell_type": "code",
   "execution_count": 21,
   "metadata": {
    "ExecuteTime": {
     "end_time": "2020-09-14T00:02:21.065538Z",
     "start_time": "2020-09-14T00:02:21.046579Z"
    },
    "execution": {
     "iopub.execute_input": "2021-09-08T09:09:27.813732Z",
     "iopub.status.busy": "2021-09-08T09:09:27.813422Z",
     "iopub.status.idle": "2021-09-08T09:09:27.878413Z",
     "shell.execute_reply": "2021-09-08T09:09:27.875637Z",
     "shell.execute_reply.started": "2021-09-08T09:09:27.813693Z"
    },
    "tags": []
   },
   "outputs": [],
   "source": [
    "# Read in engineered nanomaterials (ENM) weight fraction (WF) data (\"labels\")\n",
    "y_enm = pd.read_csv(\"./data/ENM-clean.csv\", sep=\",\", header=\"infer\", usecols=[4])\n",
    "\n",
    "# Read in potential predictive variables (\"features\") for ENM WF\n",
    "X_enm = pd.read_csv(\"./data/ENM-clean.csv\", sep=\",\", header=\"infer\", index_col=0)"
   ]
  },
  {
   "cell_type": "markdown",
   "metadata": {},
   "source": [
    "Note that each feature either has a prefix, or will be assigned a prefix that indicates what \"data group\" it belongs under.\n",
    "* cprp = chemical property\n",
    "* func = chemical functional use\n",
    "* pgen = general product category\n",
    "* pgrp = product groups (a subset of a category)\n",
    "* mtrx = product matrix property\n",
    "\n",
    "The following code cleans the data and column names."
   ]
  },
  {
   "cell_type": "code",
   "execution_count": 22,
   "metadata": {
    "ExecuteTime": {
     "end_time": "2020-09-14T00:02:30.342607Z",
     "start_time": "2020-09-14T00:02:30.260538Z"
    },
    "execution": {
     "iopub.execute_input": "2021-09-08T09:09:28.580877Z",
     "iopub.status.busy": "2021-09-08T09:09:28.580646Z",
     "iopub.status.idle": "2021-09-08T09:09:28.817578Z",
     "shell.execute_reply": "2021-09-08T09:09:28.816826Z",
     "shell.execute_reply.started": "2021-09-08T09:09:28.580853Z"
    },
    "tags": []
   },
   "outputs": [],
   "source": [
    "# Drop unwanted columns\n",
    "# For PUC, keeping gencat, group, refined, assigned (\"matrix\")\n",
    "# Drop dehydrating_agent[22], dispersing_agent[24], fuel_agent[27]\n",
    "X_enm.drop(\n",
    "    X_enm.columns[[0, 1, 2, 3, 4, 9, 12, 22, 24, 27, 34, 35, 36]], axis=1, inplace=True\n",
    ")\n",
    "\n",
    "# Rename columns\n",
    "X_enm.columns = X_enm.columns.str.replace(\"_\", \"\")\n",
    "X_enm.rename(\n",
    "    columns={\n",
    "        \"gencatID\": \"pgen\",\n",
    "        \"group\": \"pgrp\",\n",
    "        \"refinedproducttype\": \"refined\",\n",
    "        \"assignedID\": \"mtrx\",\n",
    "        \"measured\": \"mtrx_WFmeasured\",\n",
    "        \"antistainagent\": \"antiredepositionagent\",\n",
    "        \"lubricatingagent\": \"antiadhesivecohesive\",\n",
    "        \"uvstabilizer\": \"UVstabilizer\",\n",
    "    },\n",
    "    inplace=True,\n",
    ")\n",
    "\n",
    "# To maintain atomicity, assign all child-specific products (C) as articles (A)\n",
    "# and all OTC pharmaceuticals (P) as formulas (F) (they were all liquids)\n",
    "X_enm[\"mtrx\"] = X_enm[\"mtrx\"].replace(\"C\", \"A\", regex=True)\n",
    "X_enm[\"mtrx\"] = X_enm[\"mtrx\"].replace(\"P\", \"F\", regex=True)\n",
    "\n",
    "# Clean up data in refined column so it's only spray vs NOC\n",
    "X_enm.loc[X_enm.refined != \"spray\", \"refined\"] = \"NOC\"\n",
    "\n",
    "# Transform factor data (product categories) into binary columns\n",
    "X_enm = pd.get_dummies(\n",
    "    X_enm,\n",
    "    prefix=[\"pgen\", \"pgrp\", \"refined\", \"mtrx\"],\n",
    "    columns=[\"pgen\", \"pgrp\", \"refined\", \"mtrx\"],\n",
    ")\n",
    "\n",
    "# Remove spaces from column names\n",
    "X_enm.columns = X_enm.columns.str.replace(\" \", \"\")\n",
    "X_enm.columns = X_enm.columns.str.replace(\"/\", \"\")\n",
    "X_enm.columns = X_enm.columns.str.replace(\"-\", \"\")\n",
    "X_enm.columns = X_enm.columns.str.replace(\"and\", \"\")\n",
    "\n",
    "# Edit column name prefixes and suffixes for consistency and clarity\n",
    "X_enm.columns = X_enm.columns.str.replace(\"Density\", \"density\")\n",
    "X_enm.columns = X_enm.columns.str.replace(\"prop\", \"cprp_\")\n",
    "X_enm.columns = X_enm.columns.str.replace(\"refined\", \"mtrx\")\n",
    "X_enm.columns = X_enm.columns.str.replace(\"mtrx_F\", \"mtrx_formulation\")\n",
    "X_enm.columns = X_enm.columns.str.replace(\"relatedproducts\", \"related\")\n",
    "\n",
    "# Drop columns absent from organics\n",
    "X_enm.drop(\n",
    "    [\n",
    "        \"pgen_AP\",\n",
    "        \"pgen_CS\",\n",
    "        \"pgen_FC\",\n",
    "        \"pgen_PH\",\n",
    "        \"mtrx_NOC\",  # not otherwise categorizable\n",
    "        \"mtrx_A\",  # duplicative of mtrx_formulation\n",
    "    ],\n",
    "    axis=1,\n",
    "    inplace=True,\n",
    ")\n",
    "\n",
    "# Rearrange feature order\n",
    "cols = X_enm.columns.tolist()\n",
    "cols = cols[:5] + [cols[16]] + cols[5:16] + cols[17:]  # Move anti_adh. up\n",
    "cols = cols[:20] + cols[21:] + [cols[20]]  # WF_measured to end\n",
    "X_enm = X_enm[cols]\n",
    "\n",
    "# Add 'func' prefix to functional uses\n",
    "cols = X_enm.columns\n",
    "idx_func = np.asarray([i for i, c in enumerate(cols) if not \"_\" in c])\n",
    "X_enm.rename(columns={c: \"_\".join((\"func\", c)) for c in cols[idx_func]}, inplace=True)"
   ]
  },
  {
   "cell_type": "markdown",
   "metadata": {},
   "source": [
    "Note that 'WFmeasured' is not actually a matrix property; it describes whether the WF was verified with lab analysis or if it was simply claimed by the manufacturer."
   ]
  },
  {
   "cell_type": "code",
   "execution_count": 23,
   "metadata": {
    "execution": {
     "iopub.execute_input": "2021-09-08T09:09:43.524929Z",
     "iopub.status.busy": "2021-09-08T09:09:43.524674Z",
     "iopub.status.idle": "2021-09-08T09:09:43.574181Z",
     "shell.execute_reply": "2021-09-08T09:09:43.572121Z",
     "shell.execute_reply.started": "2021-09-08T09:09:43.524902Z"
    },
    "tags": []
   },
   "outputs": [
    {
     "name": "stdout",
     "output_type": "stream",
     "text": [
      "Index(['cprp_MW', 'cprp_MP', 'cprp_BP', 'cprp_density', 'func_absorbent',\n",
      "       'func_antiadhesivecohesive', 'func_antioxidant',\n",
      "       'func_antiredepositionagent', 'func_biocide', 'func_brightener',\n",
      "       'func_chemicalreactionregulator', 'func_colorant', 'func_deodorizer',\n",
      "       'func_filler', 'func_flavouringnutrient', 'func_hardener',\n",
      "       'func_humectant', 'func_opacifier', 'func_UVstabilizer',\n",
      "       'func_viscositymodifier', 'pgen_AC', 'pgen_CP', 'pgen_EL', 'pgen_HM',\n",
      "       'pgen_PC', 'pgen_PE', 'pgen_VE', 'pgrp_apparel', 'pgrp_bodyhygiene',\n",
      "       'pgrp_childspecific', 'pgrp_coldrelief', 'pgrp_dentalcare',\n",
      "       'pgrp_deodorant', 'pgrp_enginemaintenance', 'pgrp_fabrictreatmentdye',\n",
      "       'pgrp_facialcleansingmoisturizing', 'pgrp_firstaid', 'pgrp_foodstorage',\n",
      "       'pgrp_footcare', 'pgrp_fungicide', 'pgrp_generalhouseholdcleaning',\n",
      "       'pgrp_generalmoisturizing', 'pgrp_largeappliances',\n",
      "       'pgrp_makeuprelated', 'pgrp_nutritionalsupplements',\n",
      "       'pgrp_paintstainrelated', 'pgrp_portableairprocessing',\n",
      "       'pgrp_sunscreen', 'pgrp_surfacesealers', 'pgrp_toys', 'mtrx_spray',\n",
      "       'mtrx_formulation', 'mtrx_WFmeasured'],\n",
      "      dtype='object')\n"
     ]
    }
   ],
   "source": [
    "print(X_enm.columns)"
   ]
  },
  {
   "cell_type": "code",
   "execution_count": 24,
   "metadata": {
    "ExecuteTime": {
     "end_time": "2020-09-14T00:02:31.624290Z",
     "start_time": "2020-09-14T00:02:31.617905Z"
    },
    "execution": {
     "iopub.execute_input": "2021-09-08T09:09:44.277231Z",
     "iopub.status.busy": "2021-09-08T09:09:44.276914Z",
     "iopub.status.idle": "2021-09-08T09:09:44.307538Z",
     "shell.execute_reply": "2021-09-08T09:09:44.306324Z",
     "shell.execute_reply.started": "2021-09-08T09:09:44.277192Z"
    },
    "tags": []
   },
   "outputs": [],
   "source": [
    "# Export column headings list\n",
    "cols = X_enm.columns\n",
    "with open(\"./data/column-headers.txt\", \"w\") as filehandle:\n",
    "    for listitem in cols:\n",
    "        filehandle.write(\"%s\\n\" % listitem)"
   ]
  },
  {
   "cell_type": "markdown",
   "metadata": {
    "ExecuteTime": {
     "end_time": "2018-07-31T20:29:35.081047Z",
     "start_time": "2018-07-31T20:29:35.076307Z"
    }
   },
   "source": [
    "## ENM WF bins"
   ]
  },
  {
   "cell_type": "code",
   "execution_count": 25,
   "metadata": {
    "ExecuteTime": {
     "end_time": "2020-09-14T00:30:36.425717Z",
     "start_time": "2020-09-14T00:30:36.291013Z"
    },
    "execution": {
     "iopub.execute_input": "2021-09-08T09:09:48.944698Z",
     "iopub.status.busy": "2021-09-08T09:09:48.944294Z",
     "iopub.status.idle": "2021-09-08T09:09:49.467804Z",
     "shell.execute_reply": "2021-09-08T09:09:49.466886Z",
     "shell.execute_reply.started": "2021-09-08T09:09:48.944656Z"
    },
    "tags": []
   },
   "outputs": [
    {
     "data": {
      "image/png": "[encoded data removed]",
      "text/plain": [
       "<Figure size 432x288 with 1 Axes>"
      ]
     },
     "metadata": {
      "needs_background": "light"
     },
     "output_type": "display_data"
    }
   ],
   "source": [
    "# Log-transformed histogram of weight fraction\n",
    "fig, ax = plt.subplots()\n",
    "plt.hist(np.log10(np.asarray(y_enm)), bins=20)\n",
    "ax.xaxis.set_major_locator(MultipleLocator(1))"
   ]
  },
  {
   "cell_type": "code",
   "execution_count": 26,
   "metadata": {
    "execution": {
     "iopub.execute_input": "2021-09-08T09:09:50.384398Z",
     "iopub.status.busy": "2021-09-08T09:09:50.384102Z",
     "iopub.status.idle": "2021-09-08T09:09:50.732213Z",
     "shell.execute_reply": "2021-09-08T09:09:50.729540Z",
     "shell.execute_reply.started": "2021-09-08T09:09:50.384369Z"
    },
    "tags": []
   },
   "outputs": [
    {
     "data": {
      "image/png": "[encoded data removed]",
      "text/plain": [
       "<Figure size 432x288 with 1 Axes>"
      ]
     },
     "metadata": {
      "needs_background": "light"
     },
     "output_type": "display_data"
    },
    {
     "name": "stdout",
     "output_type": "stream",
     "text": [
      "Label bin:  [0 1 2]\n",
      "Count    :  [75 25 12]\n",
      "Frequency:  [0.67, 0.22, 0.11]\n"
     ]
    }
   ],
   "source": [
    "# Apply bins to ENM and organics data\n",
    "# (slightly different ranges from those used by Isaacs et al. 2016)\n",
    "bin_enm = np.asarray(y_enm.apply(blt.bins, axis=1))\n",
    "\n",
    "# View bar plot of ENM WF bins\n",
    "blt.bar_graph_bins(bin_enm, data_composition=\"ENM\")"
   ]
  },
  {
   "cell_type": "markdown",
   "metadata": {},
   "source": [
    "## Data summaries"
   ]
  },
  {
   "cell_type": "code",
   "execution_count": 12,
   "metadata": {
    "ExecuteTime": {
     "end_time": "2020-03-18T01:01:47.616283Z",
     "start_time": "2020-03-18T01:01:47.293661Z"
    },
    "execution": {
     "iopub.execute_input": "2021-08-18T04:44:56.412706Z",
     "iopub.status.busy": "2021-08-18T04:44:56.412441Z",
     "iopub.status.idle": "2021-08-18T04:44:56.842064Z",
     "shell.execute_reply": "2021-08-18T04:44:56.841427Z",
     "shell.execute_reply.started": "2021-08-18T04:44:56.412678Z"
    }
   },
   "outputs": [
    {
     "data": {
      "image/png": "[encoded data removed]",
      "text/plain": [
       "<Figure size 216x180 with 1 Axes>"
      ]
     },
     "metadata": {},
     "output_type": "display_data"
    }
   ],
   "source": [
    "# ENM function breakdown as pie chart\n",
    "blt.plot_piechart(\n",
    "    data=X_enm,\n",
    "    feat_subset_prefix=\"func\",\n",
    "    save_fig_name=\"a) ENM Functional Uses\",\n",
    "    figsize=[3, 2.5],\n",
    "    labels=None,\n",
    ")"
   ]
  },
  {
   "cell_type": "code",
   "execution_count": 13,
   "metadata": {
    "ExecuteTime": {
     "end_time": "2020-03-18T01:01:47.877216Z",
     "start_time": "2020-03-18T01:01:47.619007Z"
    },
    "execution": {
     "iopub.execute_input": "2021-08-18T04:44:57.714132Z",
     "iopub.status.busy": "2021-08-18T04:44:57.713902Z",
     "iopub.status.idle": "2021-08-18T04:44:57.992021Z",
     "shell.execute_reply": "2021-08-18T04:44:57.991174Z",
     "shell.execute_reply.started": "2021-08-18T04:44:57.714101Z"
    },
    "scrolled": true
   },
   "outputs": [
    {
     "data": {
      "image/png": "[encoded data removed]",
      "text/plain": [
       "<Figure size 216x144 with 1 Axes>"
      ]
     },
     "metadata": {},
     "output_type": "display_data"
    }
   ],
   "source": [
    "# ENM PUC breakdown as pie chart\n",
    "blt.plot_piechart(\n",
    "    data=X_enm,\n",
    "    feat_subset_prefix=\"pgen\",\n",
    "    save_fig_name=\"c) ENM General Product Categories\",\n",
    "    figsize=[3, 2],\n",
    ")"
   ]
  },
  {
   "cell_type": "code",
   "execution_count": 14,
   "metadata": {
    "ExecuteTime": {
     "end_time": "2020-03-18T01:01:48.202064Z",
     "start_time": "2020-03-18T01:01:47.885698Z"
    },
    "execution": {
     "iopub.execute_input": "2021-08-18T04:44:58.518101Z",
     "iopub.status.busy": "2021-08-18T04:44:58.517785Z",
     "iopub.status.idle": "2021-08-18T04:44:59.076417Z",
     "shell.execute_reply": "2021-08-18T04:44:59.073694Z",
     "shell.execute_reply.started": "2021-08-18T04:44:58.518068Z"
    }
   },
   "outputs": [
    {
     "data": {
      "image/png": "[encoded data removed]",
      "text/plain": [
       "<Figure size 216x180 with 1 Axes>"
      ]
     },
     "metadata": {},
     "output_type": "display_data"
    }
   ],
   "source": [
    "# ENM PUC breakdown as pie chart\n",
    "blt.plot_piechart(\n",
    "    data=X_enm,\n",
    "    feat_subset_prefix=\"pgrp\",\n",
    "    save_fig_name=\"e) ENM Product Group Categories\",\n",
    ")"
   ]
  },
  {
   "cell_type": "code",
   "execution_count": 18,
   "metadata": {
    "ExecuteTime": {
     "end_time": "2020-03-18T01:01:48.501932Z",
     "start_time": "2020-03-18T01:01:48.294325Z"
    },
    "execution": {
     "iopub.execute_input": "2021-08-18T04:59:37.381613Z",
     "iopub.status.busy": "2021-08-18T04:59:37.376424Z",
     "iopub.status.idle": "2021-08-18T04:59:37.717426Z",
     "shell.execute_reply": "2021-08-18T04:59:37.716613Z",
     "shell.execute_reply.started": "2021-08-18T04:59:37.381500Z"
    },
    "tags": []
   },
   "outputs": [
    {
     "data": {
      "image/png": "[encoded data removed]",
      "text/plain": [
       "<Figure size 216x144 with 1 Axes>"
      ]
     },
     "metadata": {},
     "output_type": "display_data"
    }
   ],
   "source": [
    "# ENM product matrices as pie chart\n",
    "blt.plot_piechart(\n",
    "    data=X_enm,\n",
    "    feat_subset_prefix=\"mtrx_formulation\",\n",
    "    save_fig_name=\"g) ENM Product Matrix\",\n",
    "    figsize=[3, 2],\n",
    "    labels=[\"formulation\", \"article\"],\n",
    ")"
   ]
  },
  {
   "cell_type": "code",
   "execution_count": 19,
   "metadata": {
    "ExecuteTime": {
     "end_time": "2020-03-18T01:01:49.034941Z",
     "start_time": "2020-03-18T01:01:48.842240Z"
    },
    "execution": {
     "iopub.execute_input": "2021-08-18T04:59:38.907561Z",
     "iopub.status.busy": "2021-08-18T04:59:38.907318Z",
     "iopub.status.idle": "2021-08-18T04:59:39.201465Z",
     "shell.execute_reply": "2021-08-18T04:59:39.200573Z",
     "shell.execute_reply.started": "2021-08-18T04:59:38.907529Z"
    },
    "tags": []
   },
   "outputs": [
    {
     "data": {
      "image/png": "[encoded data removed]",
      "text/plain": [
       "<Figure size 216x144 with 1 Axes>"
      ]
     },
     "metadata": {},
     "output_type": "display_data"
    }
   ],
   "source": [
    "# ENM spray products as pie chart\n",
    "blt.plot_piechart(\n",
    "    data=X_enm,\n",
    "    feat_subset_prefix=\"mtrx_spray\",\n",
    "    save_fig_name=\"i) ENM Spray Products\",\n",
    "    figsize=[3, 2],\n",
    ")"
   ]
  },
  {
   "cell_type": "markdown",
   "metadata": {},
   "source": [
    "# Export data"
   ]
  },
  {
   "cell_type": "code",
   "execution_count": 17,
   "metadata": {
    "ExecuteTime": {
     "end_time": "2020-02-06T06:10:25.639074Z",
     "start_time": "2020-02-06T06:10:25.624684Z"
    },
    "execution": {
     "iopub.execute_input": "2021-08-18T04:45:05.491874Z",
     "iopub.status.busy": "2021-08-18T04:45:05.491492Z",
     "iopub.status.idle": "2021-08-18T04:45:05.513125Z",
     "shell.execute_reply": "2021-08-18T04:45:05.512212Z",
     "shell.execute_reply.started": "2021-08-18T04:45:05.491828Z"
    }
   },
   "outputs": [],
   "source": [
    "# Export ENM CP dataframe for use in modeling scripts\n",
    "X_enm.to_csv(\n",
    "    \"./data/ENM-preprocessed-feats.csv\",\n",
    "    sep=\"\\t\",\n",
    "    na_rep=\"\",\n",
    "    header=True,\n",
    "    index=True,\n",
    "    index_label=None,\n",
    "    mode=\"w\",\n",
    ")"
   ]
  },
  {
   "cell_type": "code",
   "execution_count": null,
   "metadata": {},
   "outputs": [],
   "source": []
  }
 ],
 "metadata": {
  "kernelspec": {
   "display_name": "Python 3",
   "language": "python",
   "name": "python3"
  },
  "language_info": {
   "codemirror_mode": {
    "name": "ipython",
    "version": 3
   },
   "file_extension": ".py",
   "mimetype": "text/x-python",
   "name": "python",
   "nbconvert_exporter": "python",
   "pygments_lexer": "ipython3",
   "version": "3.7.3"
  },
  "toc": {
   "base_numbering": 1,
   "nav_menu": {},
   "number_sections": true,
   "sideBar": true,
   "skip_h1_title": false,
   "title_cell": "Table of Contents",
   "title_sidebar": "Contents",
   "toc_cell": true,
   "toc_position": {
    "height": "calc(100% - 180px)",
    "left": "10px",
    "top": "150px",
    "width": "165px"
   },
   "toc_section_display": true,
   "toc_window_display": true
  }
 },
 "nbformat": 4,
 "nbformat_minor": 4
}
