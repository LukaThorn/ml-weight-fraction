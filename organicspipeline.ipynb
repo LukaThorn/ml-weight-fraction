{
 "cells": [
  {
   "cell_type": "markdown",
   "metadata": {},
   "source": [
    "# Code setup"
   ]
  },
  {
   "cell_type": "code",
   "execution_count": 1,
   "metadata": {
    "execution": {
     "iopub.execute_input": "2021-08-11T04:06:27.988978Z",
     "iopub.status.busy": "2021-08-11T04:06:27.988725Z",
     "iopub.status.idle": "2021-08-11T04:06:28.193699Z",
     "shell.execute_reply": "2021-08-11T04:06:28.192938Z",
     "shell.execute_reply.started": "2021-08-11T04:06:27.988917Z"
    },
    "tags": []
   },
   "outputs": [],
   "source": [
    "try:\n",
    "    %load_ext lab_black\n",
    "except ModuleNotFoundError:\n",
    "    print(\"Couldn't load Black autoformatter.\")"
   ]
  },
  {
   "cell_type": "code",
   "execution_count": 2,
   "metadata": {
    "ExecuteTime": {
     "end_time": "2020-09-14T23:55:43.137549Z",
     "start_time": "2020-09-14T23:55:42.421919Z"
    },
    "execution": {
     "iopub.execute_input": "2021-08-11T04:06:28.638201Z",
     "iopub.status.busy": "2021-08-11T04:06:28.637824Z",
     "iopub.status.idle": "2021-08-11T04:06:29.257131Z",
     "shell.execute_reply": "2021-08-11T04:06:29.256409Z",
     "shell.execute_reply.started": "2021-08-11T04:06:28.638175Z"
    },
    "tags": []
   },
   "outputs": [],
   "source": [
    "# To suppress warning output\n",
    "import warnings\n",
    "\n",
    "warnings.filterwarnings(\"ignore\")\n",
    "warnings.simplefilter(\"ignore\")\n",
    "\n",
    "# Important imports\n",
    "import numpy as np\n",
    "from numpy import random\n",
    "import pandas as pd\n",
    "import os, sys\n",
    "import math\n",
    "\n",
    "# Set random seed across notebook for repeatable results\n",
    "np.random.seed(1922)  # for Papa"
   ]
  },
  {
   "cell_type": "code",
   "execution_count": 3,
   "metadata": {
    "ExecuteTime": {
     "end_time": "2020-09-14T23:55:43.375212Z",
     "start_time": "2020-09-14T23:55:43.140047Z"
    },
    "execution": {
     "iopub.execute_input": "2021-08-11T04:06:29.258589Z",
     "iopub.status.busy": "2021-08-11T04:06:29.258224Z",
     "iopub.status.idle": "2021-08-11T04:06:29.674706Z",
     "shell.execute_reply": "2021-08-11T04:06:29.673911Z",
     "shell.execute_reply.started": "2021-08-11T04:06:29.258554Z"
    },
    "tags": []
   },
   "outputs": [],
   "source": [
    "# To plot nice figures\n",
    "%matplotlib inline\n",
    "import matplotlib\n",
    "import matplotlib.pyplot as plt\n",
    "import matplotlib.cm as cm\n",
    "\n",
    "matplotlib.rcParams[\"font.family\"] = [\"sans-serif\"]\n",
    "matplotlib.rcParams[\"font.sans-serif\"] = [\n",
    "    \"Source Sans 3\",\n",
    "    \"Helvetica\",\n",
    "    \"Arial\",\n",
    "    \"sans-serif\",\n",
    "]\n",
    "plt.rcParams[\"axes.titlesize\"] = \"x-large\"  # 16\n",
    "plt.rcParams[\"axes.labelsize\"] = \"x-large\"\n",
    "plt.rcParams[\"xtick.labelsize\"] = \"x-large\"\n",
    "plt.rcParams[\"ytick.labelsize\"] = \"x-large\""
   ]
  },
  {
   "cell_type": "code",
   "execution_count": 4,
   "metadata": {
    "ExecuteTime": {
     "end_time": "2020-09-14T23:55:43.387146Z",
     "start_time": "2020-09-14T23:55:43.377278Z"
    },
    "execution": {
     "iopub.execute_input": "2021-08-11T04:06:29.678037Z",
     "iopub.status.busy": "2021-08-11T04:06:29.675739Z",
     "iopub.status.idle": "2021-08-11T04:06:29.695908Z",
     "shell.execute_reply": "2021-08-11T04:06:29.695074Z",
     "shell.execute_reply.started": "2021-08-11T04:06:29.675943Z"
    },
    "tags": []
   },
   "outputs": [
    {
     "name": "stdout",
     "output_type": "stream",
     "text": [
      "Figure directory exists.\n"
     ]
    }
   ],
   "source": [
    "# Where to save the figures\n",
    "PROJECT_ROOT_DIR = \".\"\n",
    "PROJECT_SAVE_DIR = \"figs\"\n",
    "\n",
    "if not (os.path.isdir(PROJECT_ROOT_DIR + \"/\" + PROJECT_SAVE_DIR)):\n",
    "    print(\"Figure directory did not exist, creating now.\")\n",
    "    os.mkdir(PROJECT_ROOT_DIR + \"/\" + PROJECT_SAVE_DIR)\n",
    "else:\n",
    "    print(\"Figure directory exists.\")"
   ]
  },
  {
   "cell_type": "code",
   "execution_count": 5,
   "metadata": {
    "ExecuteTime": {
     "end_time": "2020-09-14T23:55:46.149214Z",
     "start_time": "2020-09-14T23:55:44.234228Z"
    },
    "execution": {
     "iopub.execute_input": "2021-08-11T04:06:30.457842Z",
     "iopub.status.busy": "2021-08-11T04:06:30.457434Z",
     "iopub.status.idle": "2021-08-11T04:06:32.033431Z",
     "shell.execute_reply": "2021-08-11T04:06:32.029474Z",
     "shell.execute_reply.started": "2021-08-11T04:06:30.457778Z"
    },
    "tags": []
   },
   "outputs": [
    {
     "name": "stdout",
     "output_type": "stream",
     "text": [
      "The lab_black extension is already loaded. To reload it, use:\n",
      "  %reload_ext lab_black\n",
      "Figure directory exists.\n",
      "The lab_black extension is already loaded. To reload it, use:\n",
      "  %reload_ext lab_black\n",
      "Figure directory exists.\n"
     ]
    },
    {
     "data": {
      "text/plain": [
       "<module 'functions' from '/Users/blt/Documents/ml-weight-fraction/functions.py'>"
      ]
     },
     "execution_count": 5,
     "metadata": {},
     "output_type": "execute_result"
    }
   ],
   "source": [
    "# Import classes and functions used across multiple notebooks\n",
    "sys.path.append(os.getcwd())\n",
    "import importlib\n",
    "import functions as blt\n",
    "\n",
    "importlib.reload(blt)"
   ]
  },
  {
   "cell_type": "markdown",
   "metadata": {},
   "source": [
    "# Data"
   ]
  },
  {
   "cell_type": "code",
   "execution_count": 6,
   "metadata": {
    "ExecuteTime": {
     "end_time": "2020-09-14T23:55:47.973180Z",
     "start_time": "2020-09-14T23:55:47.877223Z"
    },
    "execution": {
     "iopub.execute_input": "2021-08-11T04:06:33.091704Z",
     "iopub.status.busy": "2021-08-11T04:06:33.091368Z",
     "iopub.status.idle": "2021-08-11T04:06:33.278598Z",
     "shell.execute_reply": "2021-08-11T04:06:33.277722Z",
     "shell.execute_reply.started": "2021-08-11T04:06:33.091666Z"
    },
    "tags": []
   },
   "outputs": [
    {
     "name": "stdout",
     "output_type": "stream",
     "text": [
      "X shape: (16439, 53)\n",
      "y shape: (16439, 1)\n"
     ]
    }
   ],
   "source": [
    "# Source (bulk organics) data\n",
    "\n",
    "# Read in organics CP feature data\n",
    "X = pd.read_csv(\n",
    "    \"./data/organics-preprocessed-feats.csv\", sep=\"\\t\", header=\"infer\", index_col=0\n",
    ")\n",
    "# Read in organics CP labels (maximum_weight_fraction)\n",
    "y = pd.read_csv(\n",
    "    \"./data/organics-preprocessed-WF.csv\", sep=\"\\t\", header=\"infer\", index_col=0\n",
    ")\n",
    "y.index = X.index\n",
    "print(\"X shape:\", X.shape)\n",
    "print(\"y shape:\", y.shape)\n",
    "\n",
    "# Read in previous hyperparameterization results\n",
    "results_prelim = pd.read_csv(\"./data/results-prelim-organics.csv\", sep=\"\\t\")\n",
    "# TODO: move file over\n",
    "# results_final_organics = pd.read_csv(\n",
    "#    \"./results/accuracy-vs-samplesize.txt\", sep=\"\\t\", na_values=\"nan\", index_col=0\n",
    "# )"
   ]
  },
  {
   "cell_type": "markdown",
   "metadata": {},
   "source": [
    "## Apply WF bins"
   ]
  },
  {
   "cell_type": "markdown",
   "metadata": {},
   "source": [
    "Labels (continuous WF data) will be binned into low (0.00-0.01), medium (0.01-0.10) and high (0.10-1.00) categories."
   ]
  },
  {
   "cell_type": "code",
   "execution_count": 7,
   "metadata": {
    "ExecuteTime": {
     "end_time": "2020-09-14T23:56:15.349784Z",
     "start_time": "2020-09-14T23:56:15.072940Z"
    },
    "execution": {
     "iopub.execute_input": "2021-08-11T04:06:34.675377Z",
     "iopub.status.busy": "2021-08-11T04:06:34.675070Z",
     "iopub.status.idle": "2021-08-11T04:06:35.044062Z",
     "shell.execute_reply": "2021-08-11T04:06:35.042588Z",
     "shell.execute_reply.started": "2021-08-11T04:06:34.675346Z"
    },
    "tags": []
   },
   "outputs": [
    {
     "data": {
      "image/png": "[encoded data removed]",
      "text/plain": [
       "<Figure size 432x288 with 1 Axes>"
      ]
     },
     "metadata": {
      "needs_background": "light"
     },
     "output_type": "display_data"
    },
    {
     "name": "stdout",
     "output_type": "stream",
     "text": [
      "Label bin:  [0 1 2]\n",
      "Count    :  [6127 7617 2695]\n",
      "Frequency:  [0.37, 0.46, 0.16]\n"
     ]
    }
   ],
   "source": [
    "# Apply bins to organics data\n",
    "ybin = np.asarray(y.apply(blt.bins, axis=1))\n",
    "\n",
    "# View bar plot of WF bins\n",
    "blt.bar_graph_bins(ybin, data_composition=\"Organics\")"
   ]
  },
  {
   "cell_type": "markdown",
   "metadata": {},
   "source": [
    "## Split data"
   ]
  },
  {
   "cell_type": "code",
   "execution_count": 8,
   "metadata": {
    "execution": {
     "iopub.execute_input": "2021-08-11T04:06:36.258920Z",
     "iopub.status.busy": "2021-08-11T04:06:36.258662Z",
     "iopub.status.idle": "2021-08-11T04:06:36.291544Z",
     "shell.execute_reply": "2021-08-11T04:06:36.289535Z",
     "shell.execute_reply.started": "2021-08-11T04:06:36.258892Z"
    },
    "tags": []
   },
   "outputs": [
    {
     "name": "stdout",
     "output_type": "stream",
     "text": [
      "[(12329, 53), (4110, 53)]\n",
      "[(12329,), (4110,)]\n"
     ]
    }
   ],
   "source": [
    "# Split training data into training and test data (to be set aside)\n",
    "from sklearn.model_selection import train_test_split\n",
    "\n",
    "X_train, X_test, y_train, y_test = train_test_split(\n",
    "    X, ybin, test_size=4110, random_state=1922, stratify=ybin\n",
    ")\n",
    "print([X_train.shape, X_test.shape])\n",
    "print([y_train.shape, y_test.shape])"
   ]
  },
  {
   "cell_type": "code",
   "execution_count": 9,
   "metadata": {
    "execution": {
     "iopub.execute_input": "2021-08-11T04:06:36.680317Z",
     "iopub.status.busy": "2021-08-11T04:06:36.679879Z",
     "iopub.status.idle": "2021-08-11T04:06:36.716169Z",
     "shell.execute_reply": "2021-08-11T04:06:36.714020Z",
     "shell.execute_reply.started": "2021-08-11T04:06:36.680274Z"
    },
    "tags": []
   },
   "outputs": [
    {
     "name": "stdout",
     "output_type": "stream",
     "text": [
      "[(100, 53), (12229, 53)]\n",
      "[(100,), (12229,)]\n"
     ]
    }
   ],
   "source": [
    "# Set aside \"source\" data\n",
    "\n",
    "X_train, X_source, y_train, y_source = train_test_split(\n",
    "    X_train, y_train, train_size=100, random_state=1922, stratify=y_train\n",
    ")\n",
    "print([X_train.shape, X_source.shape])\n",
    "print([y_train.shape, y_source.shape])"
   ]
  },
  {
   "cell_type": "markdown",
   "metadata": {},
   "source": [
    "## Pre-check PCA"
   ]
  },
  {
   "cell_type": "code",
   "execution_count": 10,
   "metadata": {
    "execution": {
     "iopub.execute_input": "2021-08-11T04:06:38.488610Z",
     "iopub.status.busy": "2021-08-11T04:06:38.488366Z",
     "iopub.status.idle": "2021-08-11T04:06:38.835272Z",
     "shell.execute_reply": "2021-08-11T04:06:38.834575Z",
     "shell.execute_reply.started": "2021-08-11T04:06:38.488585Z"
    },
    "tags": []
   },
   "outputs": [
    {
     "name": "stdout",
     "output_type": "stream",
     "text": [
      "[0.14889982 0.28028494 0.3906072  0.46773028 0.53482848 0.58620723\n",
      " 0.63267835 0.6709188  0.70639119 0.73702448 0.76541578 0.79022016\n",
      " 0.81352705 0.83196745 0.85003518 0.86768711 0.88352414 0.89811045\n",
      " 0.91136413 0.92201624 0.93210242 0.94120239 0.9482765  0.95466935\n",
      " 0.96084264 0.96598785 0.9706508  0.97501311 0.97890514 0.98237657]\n"
     ]
    },
    {
     "data": {
      "image/png": "[encoded data removed]",
      "text/plain": [
       "<Figure size 432x288 with 1 Axes>"
      ]
     },
     "metadata": {
      "needs_background": "light"
     },
     "output_type": "display_data"
    },
    {
     "name": "stdout",
     "output_type": "stream",
     "text": [
      "[11, 12, 13, 14, 15, 16, 17, 18]\n"
     ]
    }
   ],
   "source": [
    "component_list = blt.pca_precheck(\n",
    "    X=X_source, n_components=30, thres_btm=0.75, thres_top=0.90\n",
    ")"
   ]
  },
  {
   "cell_type": "markdown",
   "metadata": {},
   "source": [
    "# Model optimization"
   ]
  },
  {
   "cell_type": "code",
   "execution_count": 11,
   "metadata": {
    "execution": {
     "iopub.execute_input": "2021-08-11T04:06:40.789518Z",
     "iopub.status.busy": "2021-08-11T04:06:40.789212Z",
     "iopub.status.idle": "2021-08-11T04:06:40.887356Z",
     "shell.execute_reply": "2021-08-11T04:06:40.886571Z",
     "shell.execute_reply.started": "2021-08-11T04:06:40.789488Z"
    },
    "tags": []
   },
   "outputs": [],
   "source": [
    "import random as pyrandom\n",
    "from numpy import random\n",
    "from sklearn.metrics.pairwise import cosine_distances\n",
    "from sklearn.preprocessing import MinMaxScaler\n",
    "\n",
    "# Define feature mask for data augmentation\n",
    "feat_names = X_source.columns\n",
    "col_mask = [\"cprp\" not in name for name in feat_names]\n",
    "\n",
    "\n",
    "# Function to add samples to training data\n",
    "\n",
    "\n",
    "def random_augment(k, X_source, y_source, random_state, X, y):\n",
    "    \"\"\"Randomly samples source data to pair with target data.\"\"\"\n",
    "\n",
    "    if k == 0:\n",
    "        return X, y\n",
    "\n",
    "    pyrandom.seed(random_state)\n",
    "    np.random.seed(random_state)\n",
    "\n",
    "    # Number of samples to select\n",
    "    n_samples = k * len(X)\n",
    "    # Obtain indices for randomly sampling source data\n",
    "    idx_match = np.random.choice(len(X_source), n_samples, replace=False)\n",
    "    # Select matching rows from source data\n",
    "    X_match = X_source.iloc[idx_match, :]\n",
    "    y_match = y_source[idx_match]\n",
    "    # Append sampled source data to target data\n",
    "    X_aug = np.concatenate((X, X_match))\n",
    "    y_aug = np.concatenate((y, y_match))\n",
    "    assert (\n",
    "        X_aug.shape[0] == y_aug.shape[0]\n",
    "    ), f\"X_aug.shape={X_aug.shape}, y_aug.shape={y_aug.shape}\"\n",
    "\n",
    "    return X_aug, y_aug\n",
    "\n",
    "\n",
    "def unsupervised_augment(k, X_source, y_source, random_state, X, y):\n",
    "    \"\"\"\n",
    "    Unsupervised data augmentation\n",
    "\n",
    "    Match \"k\" most similar source data samples to target data samples\n",
    "    based on the smallest cosine distance between target and source data\n",
    "    samples (i.e., in an supervised fashion).\n",
    "    \"\"\"\n",
    "\n",
    "    if k == 0:\n",
    "        return X, y\n",
    "\n",
    "    pyrandom.seed(random_state)\n",
    "    np.random.seed(random_state)\n",
    "\n",
    "    # Cosine distance matrix using feature mask\n",
    "    cosdist_samples = cosine_distances(X_source * col_mask, X * col_mask)\n",
    "    # Loop over distance matrix in search of k-smallest distances\n",
    "    idx_match = []\n",
    "    for col in cosdist_samples.T:\n",
    "        # Find organics data indices of k-smallest distances\n",
    "        matches = np.argpartition(col, k)[:k]\n",
    "        idx_match.extend(matches)\n",
    "    # Select matching rows from source data\n",
    "    X_match = X_source.iloc[idx_match, :]\n",
    "    y_match = y_source[idx_match]\n",
    "    # Append sampled source data to target data\n",
    "    X_aug = np.concatenate((X, X_match))\n",
    "    y_aug = np.concatenate((y, y_match))\n",
    "\n",
    "    return X_aug, y_aug"
   ]
  },
  {
   "cell_type": "code",
   "execution_count": 12,
   "metadata": {
    "execution": {
     "iopub.execute_input": "2021-08-11T04:06:41.252214Z",
     "iopub.status.busy": "2021-08-11T04:06:41.251632Z",
     "iopub.status.idle": "2021-08-11T04:06:41.306164Z",
     "shell.execute_reply": "2021-08-11T04:06:41.305550Z",
     "shell.execute_reply.started": "2021-08-11T04:06:41.252128Z"
    },
    "tags": []
   },
   "outputs": [],
   "source": [
    "# Define models and parameters\n",
    "from sklearn.pipeline import Pipeline\n",
    "from sklearn.model_selection import StratifiedKFold\n",
    "from sklearn.decomposition import PCA\n",
    "from sklearn.svm import SVC\n",
    "from sklearn.ensemble import RandomForestClassifier\n",
    "from sklearn.metrics import confusion_matrix, balanced_accuracy_score\n",
    "import matplotlib.pyplot as plt\n",
    "\n",
    "random_state = 1922\n",
    "augmentation_kwargs = {\n",
    "    \"augmentation_random_state\": random_state,\n",
    "    \"augmentation_X_source\": X_source,\n",
    "    \"augmentation_y_source\": y_source,\n",
    "}\n",
    "\n",
    "models = {\n",
    "    \"RandomForestClassifier\": blt.AugmentingPipeline(\n",
    "        [\n",
    "            (\"scaler\", MinMaxScaler()),  # normalization from 0 to 1\n",
    "            (\"dimreducer\", PCA()),\n",
    "            (\n",
    "                \"estimator\",\n",
    "                RandomForestClassifier(\n",
    "                    class_weight=\"balanced\", random_state=random_state\n",
    "                ),\n",
    "            ),\n",
    "        ],\n",
    "        **augmentation_kwargs\n",
    "    ),\n",
    "    \"SVC\": blt.AugmentingPipeline(\n",
    "        [\n",
    "            (\"scaler\", MinMaxScaler()),  # normalization from 0 to 1\n",
    "            (\"dimreducer\", PCA()),\n",
    "            (\n",
    "                \"estimator\",\n",
    "                SVC(\n",
    "                    kernel=\"rbf\",\n",
    "                    class_weight=\"balanced\",  # balance by class size\n",
    "                    random_state=random_state,\n",
    "                ),\n",
    "            ),\n",
    "        ],\n",
    "        **augmentation_kwargs\n",
    "    ),\n",
    "}\n",
    "params = {\n",
    "    \"RandomForestClassifier\": {\n",
    "        \"augmentation_type\": [random_augment],\n",
    "        \"augmentation_k\": [0, 1, 2, 3, 4, 9, 19, 29, 39, 49, 99],\n",
    "        \"dimreducer__n_components\": component_list,\n",
    "        \"estimator__max_depth\": np.arange(2, 19, 2),\n",
    "    },\n",
    "    \"SVC\": {\n",
    "        \"augmentation_type\": [random_augment],\n",
    "        \"augmentation_k\": [0, 1, 2, 3, 4, 9, 19, 29, 39, 49],\n",
    "        \"dimreducer__n_components\": component_list,\n",
    "        \"estimator__C\": np.logspace(-1, 7, 9),\n",
    "        \"estimator__gamma\": np.logspace(-7, 1, 9),\n",
    "    },\n",
    "}"
   ]
  },
  {
   "cell_type": "code",
   "execution_count": 13,
   "metadata": {
    "execution": {
     "iopub.execute_input": "2021-07-14T18:29:30.044959Z",
     "iopub.status.busy": "2021-07-14T18:29:30.043514Z",
     "iopub.status.idle": "2021-07-16T16:45:43.995421Z",
     "shell.execute_reply": "2021-07-16T16:45:43.992911Z",
     "shell.execute_reply.started": "2021-07-14T18:29:30.044779Z"
    }
   },
   "outputs": [
    {
     "name": "stdout",
     "output_type": "stream",
     "text": [
      "Running GridSearchCV for RandomForestClassifier.\n",
      "Fitting 5 folds for each of 792 candidates, totalling 3960 fits\n"
     ]
    },
    {
     "name": "stderr",
     "output_type": "stream",
     "text": [
      "[Parallel(n_jobs=4)]: Using backend DaskDistributedBackend with 4 concurrent workers.\n",
      "[Parallel(n_jobs=4)]: Done  42 tasks      | elapsed:   21.5s\n",
      "[Parallel(n_jobs=4)]: Done 192 tasks      | elapsed:  1.2min\n",
      "[Parallel(n_jobs=4)]: Done 442 tasks      | elapsed:  2.7min\n",
      "[Parallel(n_jobs=4)]: Done 792 tasks      | elapsed:  5.1min\n",
      "[Parallel(n_jobs=4)]: Done 1242 tasks      | elapsed:  8.2min\n",
      "[Parallel(n_jobs=4)]: Done 1792 tasks      | elapsed: 12.0min\n",
      "[Parallel(n_jobs=4)]: Done 2442 tasks      | elapsed: 18.0min\n",
      "[Parallel(n_jobs=4)]: Done 3192 tasks      | elapsed: 26.9min\n",
      "[Parallel(n_jobs=4)]: Done 3960 out of 3960 | elapsed: 39.0min finished\n",
      "[Parallel(n_jobs=4)]: Using backend DaskDistributedBackend with 4 concurrent workers.\n"
     ]
    },
    {
     "name": "stdout",
     "output_type": "stream",
     "text": [
      "Running GridSearchCV for SVC.\n",
      "Fitting 5 folds for each of 6480 candidates, totalling 32400 fits\n"
     ]
    },
    {
     "name": "stderr",
     "output_type": "stream",
     "text": [
      "[Parallel(n_jobs=4)]: Done  42 tasks      | elapsed:    2.7s\n",
      "[Parallel(n_jobs=4)]: Done 192 tasks      | elapsed:   10.2s\n",
      "[Parallel(n_jobs=4)]: Done 442 tasks      | elapsed:   22.8s\n",
      "[Parallel(n_jobs=4)]: Done 792 tasks      | elapsed:   39.5s\n",
      "[Parallel(n_jobs=4)]: Done 1242 tasks      | elapsed:  1.0min\n",
      "[Parallel(n_jobs=4)]: Done 1792 tasks      | elapsed:  1.5min\n",
      "[Parallel(n_jobs=4)]: Done 2442 tasks      | elapsed:  2.0min\n",
      "[Parallel(n_jobs=4)]: Done 3192 tasks      | elapsed:  2.6min\n",
      "[Parallel(n_jobs=4)]: Done 4042 tasks      | elapsed:  3.4min\n",
      "[Parallel(n_jobs=4)]: Done 4992 tasks      | elapsed:  4.2min\n",
      "[Parallel(n_jobs=4)]: Done 6042 tasks      | elapsed:  5.2min\n",
      "[Parallel(n_jobs=4)]: Done 7192 tasks      | elapsed:  6.4min\n",
      "[Parallel(n_jobs=4)]: Done 8442 tasks      | elapsed:  8.0min\n",
      "[Parallel(n_jobs=4)]: Done 9792 tasks      | elapsed:  9.6min\n",
      "[Parallel(n_jobs=4)]: Done 11242 tasks      | elapsed: 12.1min\n",
      "[Parallel(n_jobs=4)]: Done 12792 tasks      | elapsed: 14.7min\n",
      "[Parallel(n_jobs=4)]: Done 14442 tasks      | elapsed: 18.5min\n",
      "[Parallel(n_jobs=4)]: Done 16192 tasks      | elapsed: 22.6min\n",
      "[Parallel(n_jobs=4)]: Done 18042 tasks      | elapsed: 43.7min\n",
      "[Parallel(n_jobs=4)]: Done 19992 tasks      | elapsed: 80.6min\n",
      "[Parallel(n_jobs=4)]: Done 22042 tasks      | elapsed: 183.4min\n",
      "[Parallel(n_jobs=4)]: Done 24192 tasks      | elapsed: 384.9min\n",
      "[Parallel(n_jobs=4)]: Done 26442 tasks      | elapsed: 713.3min\n",
      "[Parallel(n_jobs=4)]: Done 28792 tasks      | elapsed: 1313.4min\n",
      "[Parallel(n_jobs=4)]: Done 31242 tasks      | elapsed: 2227.8min\n",
      "[Parallel(n_jobs=4)]: Done 32400 out of 32400 | elapsed: 2737.1min finished\n"
     ]
    },
    {
     "name": "stdout",
     "output_type": "stream",
     "text": [
      "RandomForestClassifier\n",
      "SVC\n"
     ]
    },
    {
     "data": {
      "text/html": [
       "<div>\n",
       "<style scoped>\n",
       "    .dataframe tbody tr th:only-of-type {\n",
       "        vertical-align: middle;\n",
       "    }\n",
       "\n",
       "    .dataframe tbody tr th {\n",
       "        vertical-align: top;\n",
       "    }\n",
       "\n",
       "    .dataframe thead th {\n",
       "        text-align: right;\n",
       "    }\n",
       "</style>\n",
       "<table border=\"1\" class=\"dataframe\">\n",
       "  <thead>\n",
       "    <tr style=\"text-align: right;\">\n",
       "      <th></th>\n",
       "      <th>estimator</th>\n",
       "      <th>min_score</th>\n",
       "      <th>mean_score</th>\n",
       "      <th>max_score</th>\n",
       "      <th>std_score</th>\n",
       "      <th>augmentation_k</th>\n",
       "      <th>augmentation_type</th>\n",
       "      <th>n_components</th>\n",
       "      <th>max_depth</th>\n",
       "      <th>C</th>\n",
       "      <th>gamma</th>\n",
       "    </tr>\n",
       "  </thead>\n",
       "  <tbody>\n",
       "    <tr>\n",
       "      <th>769</th>\n",
       "      <td>RandomForestClassifier</td>\n",
       "      <td>0.546296</td>\n",
       "      <td>0.732487</td>\n",
       "      <td>0.925926</td>\n",
       "      <td>0.121673</td>\n",
       "      <td>99</td>\n",
       "      <td>&lt;function random_augment at 0x7f6056a8ed40&gt;</td>\n",
       "      <td>16</td>\n",
       "      <td>10.0</td>\n",
       "      <td>NaN</td>\n",
       "      <td>NaN</td>\n",
       "    </tr>\n",
       "    <tr>\n",
       "      <th>724</th>\n",
       "      <td>RandomForestClassifier</td>\n",
       "      <td>0.546296</td>\n",
       "      <td>0.732487</td>\n",
       "      <td>0.888889</td>\n",
       "      <td>0.111680</td>\n",
       "      <td>99</td>\n",
       "      <td>&lt;function random_augment at 0x7f6056a8ed40&gt;</td>\n",
       "      <td>11</td>\n",
       "      <td>10.0</td>\n",
       "      <td>NaN</td>\n",
       "      <td>NaN</td>\n",
       "    </tr>\n",
       "    <tr>\n",
       "      <th>742</th>\n",
       "      <td>RandomForestClassifier</td>\n",
       "      <td>0.509259</td>\n",
       "      <td>0.731746</td>\n",
       "      <td>0.925926</td>\n",
       "      <td>0.135757</td>\n",
       "      <td>99</td>\n",
       "      <td>&lt;function random_augment at 0x7f6056a8ed40&gt;</td>\n",
       "      <td>13</td>\n",
       "      <td>10.0</td>\n",
       "      <td>NaN</td>\n",
       "      <td>NaN</td>\n",
       "    </tr>\n",
       "    <tr>\n",
       "      <th>778</th>\n",
       "      <td>RandomForestClassifier</td>\n",
       "      <td>0.509259</td>\n",
       "      <td>0.731746</td>\n",
       "      <td>0.888889</td>\n",
       "      <td>0.124932</td>\n",
       "      <td>99</td>\n",
       "      <td>&lt;function random_augment at 0x7f6056a8ed40&gt;</td>\n",
       "      <td>17</td>\n",
       "      <td>10.0</td>\n",
       "      <td>NaN</td>\n",
       "      <td>NaN</td>\n",
       "    </tr>\n",
       "    <tr>\n",
       "      <th>751</th>\n",
       "      <td>RandomForestClassifier</td>\n",
       "      <td>0.504630</td>\n",
       "      <td>0.731561</td>\n",
       "      <td>0.888889</td>\n",
       "      <td>0.125266</td>\n",
       "      <td>99</td>\n",
       "      <td>&lt;function random_augment at 0x7f6056a8ed40&gt;</td>\n",
       "      <td>14</td>\n",
       "      <td>10.0</td>\n",
       "      <td>NaN</td>\n",
       "      <td>NaN</td>\n",
       "    </tr>\n",
       "    <tr>\n",
       "      <th>...</th>\n",
       "      <td>...</td>\n",
       "      <td>...</td>\n",
       "      <td>...</td>\n",
       "      <td>...</td>\n",
       "      <td>...</td>\n",
       "      <td>...</td>\n",
       "      <td>...</td>\n",
       "      <td>...</td>\n",
       "      <td>...</td>\n",
       "      <td>...</td>\n",
       "      <td>...</td>\n",
       "    </tr>\n",
       "    <tr>\n",
       "      <th>3222</th>\n",
       "      <td>SVC</td>\n",
       "      <td>0.319444</td>\n",
       "      <td>0.330556</td>\n",
       "      <td>0.333333</td>\n",
       "      <td>0.005556</td>\n",
       "      <td>3</td>\n",
       "      <td>&lt;function random_augment at 0x7f6056a8ed40&gt;</td>\n",
       "      <td>17</td>\n",
       "      <td>NaN</td>\n",
       "      <td>0.1</td>\n",
       "      <td>1.000000e-07</td>\n",
       "    </tr>\n",
       "    <tr>\n",
       "      <th>3227</th>\n",
       "      <td>SVC</td>\n",
       "      <td>0.319444</td>\n",
       "      <td>0.330556</td>\n",
       "      <td>0.333333</td>\n",
       "      <td>0.005556</td>\n",
       "      <td>3</td>\n",
       "      <td>&lt;function random_augment at 0x7f6056a8ed40&gt;</td>\n",
       "      <td>17</td>\n",
       "      <td>NaN</td>\n",
       "      <td>0.1</td>\n",
       "      <td>1.000000e-02</td>\n",
       "    </tr>\n",
       "    <tr>\n",
       "      <th>2096</th>\n",
       "      <td>SVC</td>\n",
       "      <td>0.296296</td>\n",
       "      <td>0.325926</td>\n",
       "      <td>0.333333</td>\n",
       "      <td>0.014815</td>\n",
       "      <td>2</td>\n",
       "      <td>&lt;function random_augment at 0x7f6056a8ed40&gt;</td>\n",
       "      <td>11</td>\n",
       "      <td>NaN</td>\n",
       "      <td>0.1</td>\n",
       "      <td>1.000000e+01</td>\n",
       "    </tr>\n",
       "    <tr>\n",
       "      <th>2177</th>\n",
       "      <td>SVC</td>\n",
       "      <td>0.296296</td>\n",
       "      <td>0.325926</td>\n",
       "      <td>0.333333</td>\n",
       "      <td>0.014815</td>\n",
       "      <td>2</td>\n",
       "      <td>&lt;function random_augment at 0x7f6056a8ed40&gt;</td>\n",
       "      <td>12</td>\n",
       "      <td>NaN</td>\n",
       "      <td>0.1</td>\n",
       "      <td>1.000000e+01</td>\n",
       "    </tr>\n",
       "    <tr>\n",
       "      <th>2662</th>\n",
       "      <td>SVC</td>\n",
       "      <td>0.296296</td>\n",
       "      <td>0.325926</td>\n",
       "      <td>0.333333</td>\n",
       "      <td>0.014815</td>\n",
       "      <td>2</td>\n",
       "      <td>&lt;function random_augment at 0x7f6056a8ed40&gt;</td>\n",
       "      <td>18</td>\n",
       "      <td>NaN</td>\n",
       "      <td>0.1</td>\n",
       "      <td>1.000000e+00</td>\n",
       "    </tr>\n",
       "  </tbody>\n",
       "</table>\n",
       "<p>7272 rows × 11 columns</p>\n",
       "</div>"
      ],
      "text/plain": [
       "                   estimator  min_score  mean_score  max_score  std_score  \\\n",
       "769   RandomForestClassifier   0.546296    0.732487   0.925926   0.121673   \n",
       "724   RandomForestClassifier   0.546296    0.732487   0.888889   0.111680   \n",
       "742   RandomForestClassifier   0.509259    0.731746   0.925926   0.135757   \n",
       "778   RandomForestClassifier   0.509259    0.731746   0.888889   0.124932   \n",
       "751   RandomForestClassifier   0.504630    0.731561   0.888889   0.125266   \n",
       "...                      ...        ...         ...        ...        ...   \n",
       "3222                     SVC   0.319444    0.330556   0.333333   0.005556   \n",
       "3227                     SVC   0.319444    0.330556   0.333333   0.005556   \n",
       "2096                     SVC   0.296296    0.325926   0.333333   0.014815   \n",
       "2177                     SVC   0.296296    0.325926   0.333333   0.014815   \n",
       "2662                     SVC   0.296296    0.325926   0.333333   0.014815   \n",
       "\n",
       "      augmentation_k                            augmentation_type  \\\n",
       "769               99  <function random_augment at 0x7f6056a8ed40>   \n",
       "724               99  <function random_augment at 0x7f6056a8ed40>   \n",
       "742               99  <function random_augment at 0x7f6056a8ed40>   \n",
       "778               99  <function random_augment at 0x7f6056a8ed40>   \n",
       "751               99  <function random_augment at 0x7f6056a8ed40>   \n",
       "...              ...                                          ...   \n",
       "3222               3  <function random_augment at 0x7f6056a8ed40>   \n",
       "3227               3  <function random_augment at 0x7f6056a8ed40>   \n",
       "2096               2  <function random_augment at 0x7f6056a8ed40>   \n",
       "2177               2  <function random_augment at 0x7f6056a8ed40>   \n",
       "2662               2  <function random_augment at 0x7f6056a8ed40>   \n",
       "\n",
       "      n_components  max_depth    C         gamma  \n",
       "769             16       10.0  NaN           NaN  \n",
       "724             11       10.0  NaN           NaN  \n",
       "742             13       10.0  NaN           NaN  \n",
       "778             17       10.0  NaN           NaN  \n",
       "751             14       10.0  NaN           NaN  \n",
       "...            ...        ...  ...           ...  \n",
       "3222            17        NaN  0.1  1.000000e-07  \n",
       "3227            17        NaN  0.1  1.000000e-02  \n",
       "2096            11        NaN  0.1  1.000000e+01  \n",
       "2177            12        NaN  0.1  1.000000e+01  \n",
       "2662            18        NaN  0.1  1.000000e+00  \n",
       "\n",
       "[7272 rows x 11 columns]"
      ]
     },
     "execution_count": 13,
     "metadata": {},
     "output_type": "execute_result"
    }
   ],
   "source": [
    "from sklearn.pipeline import Pipeline\n",
    "from sklearn.ensemble import RandomForestClassifier\n",
    "from sklearn.svm import SVC\n",
    "from sklearn.metrics import balanced_accuracy_score\n",
    "from dask.distributed import Client\n",
    "import joblib\n",
    "\n",
    "client = Client()\n",
    "helper = blt.EstimatorSelectionHelper(models, params)\n",
    "\n",
    "with joblib.parallel_backend(\"dask\"):\n",
    "    # Apply gridsearch for optimal parameters\n",
    "    helper.fit(\n",
    "        X_train,\n",
    "        y_train,\n",
    "        n_jobs=4,\n",
    "        cv=5,\n",
    "        scoring=\"balanced_accuracy\",\n",
    "    )\n",
    "results_prelim = helper.score_summary(sort_by=\"mean_score\")\n",
    "results_prelim.columns = [col.split(\"__\")[-1] for col in results_prelim.columns]\n",
    "results_prelim.infer_objects()"
   ]
  },
  {
   "cell_type": "code",
   "execution_count": 17,
   "metadata": {
    "tags": []
   },
   "outputs": [],
   "source": [
    "# Export preliminary results table to .csv\n",
    "results_prelim.to_csv(\n",
    "    \"./data/results-prelim-organics.csv\",\n",
    "    sep=\"\\t\",\n",
    "    header=\"infer\",\n",
    "    na_rep=\"NaN\",\n",
    "    index=False,\n",
    ")"
   ]
  },
  {
   "cell_type": "markdown",
   "metadata": {},
   "source": [
    "# Model evaluation"
   ]
  },
  {
   "cell_type": "code",
   "execution_count": 31,
   "metadata": {
    "execution": {
     "iopub.execute_input": "2021-08-11T10:08:39.610839Z",
     "iopub.status.busy": "2021-08-11T10:08:39.610626Z",
     "iopub.status.idle": "2021-08-11T10:08:39.718839Z",
     "shell.execute_reply": "2021-08-11T10:08:39.718071Z",
     "shell.execute_reply.started": "2021-08-11T10:08:39.610818Z"
    },
    "tags": []
   },
   "outputs": [],
   "source": [
    "def eval_blindtest(\n",
    "    df_params,\n",
    "    random_state=1922,\n",
    "    X=X_train,\n",
    "    y=y_train,\n",
    "    X_test=X_test,\n",
    "    y_test=y_test,\n",
    "    show_conf_matrix=True,\n",
    "    save_fig_name=None,\n",
    "):\n",
    "    \"\"\"\n",
    "    Apply hyperparameters for model evaluation.\n",
    "    \"\"\"\n",
    "\n",
    "    from sklearn.decomposition import PCA\n",
    "    from sklearn.metrics import confusion_matrix\n",
    "\n",
    "    pyrandom.seed(random_state)\n",
    "    np.random.seed(random_state)\n",
    "    X = np.array(X)\n",
    "    n_b = len(np.unique(y))  # Check number of bins\n",
    "\n",
    "    # Select for highest performing parameters (averaged across 5 folds);\n",
    "    # note that these are sorted by best mean score\n",
    "    df_params[\"augmentation_type\"] = [\n",
    "        str(i).split(\" \")[1] for i in df_params.loc[:, \"augmentation_type\"]\n",
    "    ]\n",
    "    feat_subset = [\"estimator\", \"augmentation_k\", \"augmentation_type\"]\n",
    "    df_params = df_params.drop_duplicates(subset=feat_subset, keep=\"first\")\n",
    "    df_params = df_params.sort_values(by=feat_subset, ascending=[False, True, True])\n",
    "    df_params.columns = [col.split(\"__\")[-1] for col in df_params.columns]\n",
    "    df_params = df_params.reset_index(drop=True)\n",
    "\n",
    "    # Placeholder list for output\n",
    "    df_params[\"score\"] = np.nan\n",
    "    df_params[\"score\"] = df_params[\"score\"].astype(object)\n",
    "\n",
    "    for row in df_params.index:\n",
    "        # Dictionary of classifier parameters, dropping nans\n",
    "        cls_kwargs = df_params.iloc[row, -4:-1].dropna().to_dict()\n",
    "        print(cls_kwargs)\n",
    "        # Classifier function using dict\n",
    "        if df_params.loc[row, \"estimator\"] == \"SVC\":\n",
    "            classifier = SVC(kernel=\"rbf\", class_weight=\"balanced\", **cls_kwargs)\n",
    "        else:\n",
    "            classifier = RandomForestClassifier(class_weight=\"balanced\", **cls_kwargs)\n",
    "        # Define feature reducer\n",
    "        pca = PCA(n_components=df_params.n_components[row], copy=True)\n",
    "        print(\"n_components:\", df_params.n_components[row])\n",
    "        # Make sure augmentation_type is a function\n",
    "        augmentation_type = df_params.augmentation_type[row]\n",
    "        dispatcher = {\n",
    "            \"random_augment\": random_augment,\n",
    "        }\n",
    "        if isinstance(augmentation_type, str):\n",
    "            augmentation_type = dispatcher[augmentation_type]\n",
    "\n",
    "        # Make parameter dicts\n",
    "        augmentation_kwargs = {\n",
    "            \"augmentation_X_source\": X_source,\n",
    "            \"augmentation_y_source\": y_source,\n",
    "            \"augmentation_type\": augmentation_type,\n",
    "            \"augmentation_k\": df_params.augmentation_k[row],\n",
    "        }\n",
    "\n",
    "        # Pipeline with data augmentation\n",
    "        pipe = blt.AugmentingPipeline(\n",
    "            [\n",
    "                (\"scaler\", MinMaxScaler()),\n",
    "                (\"dimreducer\", pca),\n",
    "                (\"estimator\", classifier.set_params(random_state=random_state)),\n",
    "            ],\n",
    "            **augmentation_kwargs\n",
    "        )\n",
    "        pipe.fit(X, y)\n",
    "\n",
    "        # Write prediction results to confusion matrix\n",
    "        conf_matrix = np.zeros([n_b, n_b])\n",
    "        conf_matrix = confusion_matrix(y_test, pipe.predict(X_test), normalize=\"true\")\n",
    "\n",
    "        # Plot normalized confusion matrix\n",
    "        fig = plt.figure()\n",
    "        blt.plot_conf_matrix(conf_matrix, classes=[\"low\", \"mid\", \"high\"])\n",
    "        # Name figures using concatenated strings\n",
    "        if save_fig_name:\n",
    "            save_fig_name = str(df_params.loc[row, \"estimator\"]) + \"_\" + save_fig_name\n",
    "            blt.savepdf(fig, \"orgs_%s\" % save_fig_name)\n",
    "        if not show_conf_matrix:\n",
    "            plt.close(fig)\n",
    "\n",
    "        # Get balanced average proportion of correct classifications\n",
    "        df_params.score[row] = conf_matrix.diagonal().mean()\n",
    "\n",
    "    cols_report = [\"estimator\", \"augmentation_type\", \"augmentation_k\", \"score\"]\n",
    "\n",
    "    return df_params[cols_report]"
   ]
  },
  {
   "cell_type": "markdown",
   "metadata": {},
   "source": [
    "## SVC-RBF"
   ]
  },
  {
   "cell_type": "code",
   "execution_count": null,
   "metadata": {
    "execution": {
     "iopub.execute_input": "2021-08-11T04:05:09.827108Z",
     "iopub.status.busy": "2021-08-11T04:05:09.826798Z"
    },
    "tags": []
   },
   "outputs": [
    {
     "name": "stdout",
     "output_type": "stream",
     "text": [
      "{'C': 1000000.0, 'gamma': 0.001}\n",
      "n_components: 11\n",
      "{'C': 100000.0, 'gamma': 0.0001}\n",
      "n_components: 15\n",
      "{'C': 100000.0, 'gamma': 0.0001}\n",
      "n_components: 18\n",
      "{'C': 10.0, 'gamma': 0.1}\n",
      "n_components: 18\n",
      "{'C': 10000000.0, 'gamma': 0.001}\n",
      "n_components: 18\n",
      "{'C': 1000.0, 'gamma': 10.0}\n",
      "n_components: 13\n",
      "{'C': 1000000.0, 'gamma': 1.0}\n",
      "n_components: 11\n"
     ]
    },
    {
     "name": "stderr",
     "output_type": "stream",
     "text": [
      "distributed.nanny - WARNING - Restarting worker\n",
      "distributed.nanny - WARNING - Restarting worker\n",
      "distributed.nanny - WARNING - Restarting worker\n",
      "distributed.nanny - WARNING - Restarting worker\n",
      "distributed.nanny - WARNING - Restarting worker\n",
      "distributed.nanny - WARNING - Restarting worker\n",
      "distributed.nanny - WARNING - Restarting worker\n",
      "distributed.nanny - WARNING - Restarting worker\n"
     ]
    }
   ],
   "source": [
    "# SVC\n",
    "results_svc = eval_blindtest(\n",
    "    results_prelim[results_prelim[\"estimator\"] == \"SVC\"].astype(object)\n",
    ")"
   ]
  },
  {
   "cell_type": "markdown",
   "metadata": {},
   "source": [
    "## RFC"
   ]
  },
  {
   "cell_type": "code",
   "execution_count": 15,
   "metadata": {
    "execution": {
     "iopub.execute_input": "2021-08-09T21:14:49.285082Z",
     "iopub.status.busy": "2021-08-09T21:14:49.284718Z",
     "iopub.status.idle": "2021-08-09T21:14:57.925307Z",
     "shell.execute_reply": "2021-08-09T21:14:57.924371Z",
     "shell.execute_reply.started": "2021-08-09T21:14:49.285042Z"
    },
    "tags": []
   },
   "outputs": [
    {
     "name": "stdout",
     "output_type": "stream",
     "text": [
      "{'max_depth': 6.0}\n",
      "n_components: 14\n",
      "{'max_depth': 2.0}\n",
      "n_components: 14\n",
      "{'max_depth': 2.0}\n",
      "n_components: 12\n",
      "{'max_depth': 2.0}\n",
      "n_components: 16\n",
      "{'max_depth': 4.0}\n",
      "n_components: 14\n",
      "{'max_depth': 12.0}\n",
      "n_components: 18\n",
      "{'max_depth': 8.0}\n",
      "n_components: 17\n",
      "{'max_depth': 12.0}\n",
      "n_components: 14\n",
      "{'max_depth': 14.0}\n",
      "n_components: 11\n",
      "{'max_depth': 8.0}\n",
      "n_components: 15\n",
      "{'max_depth': 10.0}\n",
      "n_components: 16\n"
     ]
    },
    {
     "data": {
      "image/png": "[encoded data removed]",
      "text/plain": [
       "<Figure size 432x288 with 2 Axes>"
      ]
     },
     "metadata": {
      "needs_background": "light"
     },
     "output_type": "display_data"
    },
    {
     "data": {
      "image/png": "[encoded data removed]",
      "text/plain": [
       "<Figure size 432x288 with 2 Axes>"
      ]
     },
     "metadata": {
      "needs_background": "light"
     },
     "output_type": "display_data"
    },
    {
     "data": {
      "image/png": "[encoded data removed]",
      "text/plain": [
       "<Figure size 432x288 with 2 Axes>"
      ]
     },
     "metadata": {
      "needs_background": "light"
     },
     "output_type": "display_data"
    },
    {
     "data": {
      "image/png": "[encoded data removed]",
      "text/plain": [
       "<Figure size 432x288 with 2 Axes>"
      ]
     },
     "metadata": {
      "needs_background": "light"
     },
     "output_type": "display_data"
    },
    {
     "data": {
      "image/png": "[encoded data removed]",
      "text/plain": [
       "<Figure size 432x288 with 2 Axes>"
      ]
     },
     "metadata": {
      "needs_background": "light"
     },
     "output_type": "display_data"
    },
    {
     "data": {
      "image/png": "[encoded data removed]",
      "text/plain": [
       "<Figure size 432x288 with 2 Axes>"
      ]
     },
     "metadata": {
      "needs_background": "light"
     },
     "output_type": "display_data"
    },
    {
     "data": {
      "image/png": "[encoded data removed]",
      "text/plain": [
       "<Figure size 432x288 with 2 Axes>"
      ]
     },
     "metadata": {
      "needs_background": "light"
     },
     "output_type": "display_data"
    },
    {
     "data": {
      "image/png": "[encoded data removed]",
      "text/plain": [
       "<Figure size 432x288 with 2 Axes>"
      ]
     },
     "metadata": {
      "needs_background": "light"
     },
     "output_type": "display_data"
    },
    {
     "data": {
      "image/png": "[encoded data removed]",
      "text/plain": [
       "<Figure size 432x288 with 2 Axes>"
      ]
     },
     "metadata": {
      "needs_background": "light"
     },
     "output_type": "display_data"
    },
    {
     "data": {
      "image/png": "[encoded data removed]",
      "text/plain": [
       "<Figure size 432x288 with 2 Axes>"
      ]
     },
     "metadata": {
      "needs_background": "light"
     },
     "output_type": "display_data"
    },
    {
     "data": {
      "image/png": "[encoded data removed]",
      "text/plain": [
       "<Figure size 432x288 with 2 Axes>"
      ]
     },
     "metadata": {
      "needs_background": "light"
     },
     "output_type": "display_data"
    }
   ],
   "source": [
    "# RFC\n",
    "results_rfc = eval_blindtest(\n",
    "    results_prelim[results_prelim[\"estimator\"] == \"RandomForestClassifier\"]\n",
    ")"
   ]
  },
  {
   "cell_type": "markdown",
   "metadata": {},
   "source": [
    "# Performance results"
   ]
  },
  {
   "cell_type": "code",
   "execution_count": 14,
   "metadata": {
    "execution": {
     "iopub.execute_input": "2021-08-11T04:07:05.516655Z",
     "iopub.status.busy": "2021-08-11T04:07:05.516371Z",
     "iopub.status.idle": "2021-08-11T04:07:05.554482Z",
     "shell.execute_reply": "2021-08-11T04:07:05.551147Z",
     "shell.execute_reply.started": "2021-08-11T04:07:05.516621Z"
    },
    "tags": []
   },
   "outputs": [],
   "source": [
    "def display_table(df, df2=None):\n",
    "    \"\"\"Redisplay results as table for publication.\"\"\"\n",
    "\n",
    "    if isinstance(df2, pd.DataFrame):\n",
    "        df = pd.concat([df, df2])\n",
    "\n",
    "    # Tidy up labels, decimal places\n",
    "    df.rename(columns={\"augmentation_k\": \"k\"}, inplace=True)\n",
    "    df[\"estimator\"] = df[\"estimator\"].str.replace(\"RandomForestClassifier\", \"RFC\")\n",
    "    pd.set_option(\"display.precision\", 3)\n",
    "\n",
    "    # Include column for number of training samples\n",
    "    n = X_train.shape[0]\n",
    "    df[\"Training Samples\"] = df[\"k\"] * n + n\n",
    "\n",
    "    # Pivot table\n",
    "    table = df.pivot(\n",
    "        index=[\"Training Samples\"],\n",
    "        columns=\"estimator\",\n",
    "        values=\"score\",\n",
    "    )\n",
    "    table.columns = [\"RFC\", \"SVC\"]\n",
    "\n",
    "    return table"
   ]
  },
  {
   "cell_type": "code",
   "execution_count": 29,
   "metadata": {
    "execution": {
     "iopub.execute_input": "2021-08-09T20:17:35.012235Z",
     "iopub.status.busy": "2021-08-09T20:17:35.011108Z",
     "iopub.status.idle": "2021-08-09T20:17:35.098918Z",
     "shell.execute_reply": "2021-08-09T20:17:35.097792Z",
     "shell.execute_reply.started": "2021-08-09T20:17:35.012103Z"
    }
   },
   "outputs": [
    {
     "data": {
      "text/html": [
       "<div>\n",
       "<style scoped>\n",
       "    .dataframe tbody tr th:only-of-type {\n",
       "        vertical-align: middle;\n",
       "    }\n",
       "\n",
       "    .dataframe tbody tr th {\n",
       "        vertical-align: top;\n",
       "    }\n",
       "\n",
       "    .dataframe thead th {\n",
       "        text-align: right;\n",
       "    }\n",
       "</style>\n",
       "<table border=\"1\" class=\"dataframe\">\n",
       "  <thead>\n",
       "    <tr style=\"text-align: right;\">\n",
       "      <th></th>\n",
       "      <th>RFC</th>\n",
       "      <th>SVC</th>\n",
       "    </tr>\n",
       "    <tr>\n",
       "      <th>Training Samples</th>\n",
       "      <th></th>\n",
       "      <th></th>\n",
       "    </tr>\n",
       "  </thead>\n",
       "  <tbody>\n",
       "    <tr>\n",
       "      <th>100</th>\n",
       "      <td>0.497</td>\n",
       "      <td>0.485</td>\n",
       "    </tr>\n",
       "    <tr>\n",
       "      <th>200</th>\n",
       "      <td>0.511</td>\n",
       "      <td>0.534</td>\n",
       "    </tr>\n",
       "    <tr>\n",
       "      <th>300</th>\n",
       "      <td>0.544</td>\n",
       "      <td>0.572</td>\n",
       "    </tr>\n",
       "    <tr>\n",
       "      <th>400</th>\n",
       "      <td>0.539</td>\n",
       "      <td>0.604</td>\n",
       "    </tr>\n",
       "    <tr>\n",
       "      <th>500</th>\n",
       "      <td>0.554</td>\n",
       "      <td>0.545</td>\n",
       "    </tr>\n",
       "    <tr>\n",
       "      <th>1000</th>\n",
       "      <td>0.633</td>\n",
       "      <td>0.592</td>\n",
       "    </tr>\n",
       "    <tr>\n",
       "      <th>2000</th>\n",
       "      <td>0.657</td>\n",
       "      <td>0.612</td>\n",
       "    </tr>\n",
       "    <tr>\n",
       "      <th>3000</th>\n",
       "      <td>0.662</td>\n",
       "      <td>0.643</td>\n",
       "    </tr>\n",
       "    <tr>\n",
       "      <th>4000</th>\n",
       "      <td>0.679</td>\n",
       "      <td>0.648</td>\n",
       "    </tr>\n",
       "    <tr>\n",
       "      <th>5000</th>\n",
       "      <td>0.668</td>\n",
       "      <td>0.671</td>\n",
       "    </tr>\n",
       "    <tr>\n",
       "      <th>10000</th>\n",
       "      <td>0.698</td>\n",
       "      <td>NaN</td>\n",
       "    </tr>\n",
       "  </tbody>\n",
       "</table>\n",
       "</div>"
      ],
      "text/plain": [
       "                    RFC    SVC\n",
       "Training Samples              \n",
       "100               0.497  0.485\n",
       "200               0.511  0.534\n",
       "300               0.544  0.572\n",
       "400               0.539  0.604\n",
       "500               0.554  0.545\n",
       "1000              0.633  0.592\n",
       "2000              0.657  0.612\n",
       "3000              0.662  0.643\n",
       "4000              0.679  0.648\n",
       "5000              0.668  0.671\n",
       "10000             0.698    NaN"
      ]
     },
     "execution_count": 29,
     "metadata": {},
     "output_type": "execute_result"
    }
   ],
   "source": [
    "results_final_organics = display_table(results_svc, results_rfc)\n",
    "results_final_organics"
   ]
  },
  {
   "cell_type": "code",
   "execution_count": 15,
   "metadata": {
    "execution": {
     "iopub.execute_input": "2021-08-11T04:07:09.065964Z",
     "iopub.status.busy": "2021-08-11T04:07:09.065699Z",
     "iopub.status.idle": "2021-08-11T04:07:09.091563Z",
     "shell.execute_reply": "2021-08-11T04:07:09.089115Z",
     "shell.execute_reply.started": "2021-08-11T04:07:09.065889Z"
    },
    "tags": []
   },
   "outputs": [],
   "source": [
    "def line_plot(df, save_fig_name=None):\n",
    "\n",
    "    myplot = df[\"RFC\"].plot(kind=\"line\", color=\"navy\", marker=\"^\")\n",
    "    df[\"SVC\"].plot(kind=\"line\", color=\"royalblue\", marker=\"o\")\n",
    "    plt.title(\"Performance of Classification Models\", pad=10)\n",
    "    plt.xlabel(\"Number of Training Samples\")\n",
    "    plt.ylabel(\"Average Balanced Accuracy\")\n",
    "    plt.gca().legend(loc=\"right\", ncol=1)\n",
    "    plt.xscale(\"log\")\n",
    "    if save_fig_name:\n",
    "        fig = myplot.get_figure()\n",
    "        blt.savepdf(fig, save_fig_name)"
   ]
  },
  {
   "cell_type": "code",
   "execution_count": 15,
   "metadata": {
    "execution": {
     "iopub.execute_input": "2021-08-11T01:00:19.970800Z",
     "iopub.status.busy": "2021-08-11T01:00:19.970150Z",
     "iopub.status.idle": "2021-08-11T01:00:20.947642Z",
     "shell.execute_reply": "2021-08-11T01:00:20.946643Z",
     "shell.execute_reply.started": "2021-08-11T01:00:19.970722Z"
    },
    "tags": []
   },
   "outputs": [
    {
     "name": "stderr",
     "output_type": "stream",
     "text": [
      "findfont: Font family ['sans-serif'] not found. Falling back to DejaVu Sans.\n",
      "findfont: Generic family 'sans-serif' not found because none of the following families were found: Helvetica\n",
      "findfont: Font family ['sans-serif'] not found. Falling back to DejaVu Sans.\n",
      "findfont: Generic family 'sans-serif' not found because none of the following families were found: Helvetica\n"
     ]
    },
    {
     "data": {
      "image/png": "[encoded data removed]",
      "text/plain": [
       "<Figure size 432x288 with 1 Axes>"
      ]
     },
     "metadata": {
      "needs_background": "light"
     },
     "output_type": "display_data"
    }
   ],
   "source": [
    "line_plot(df=results_final_organics, save_fig_name=\"bal-accu-plot-organics\")"
   ]
  },
  {
   "cell_type": "code",
   "execution_count": 37,
   "metadata": {
    "execution": {
     "iopub.execute_input": "2021-08-09T20:50:54.461942Z",
     "iopub.status.busy": "2021-08-09T20:50:54.461371Z",
     "iopub.status.idle": "2021-08-09T20:50:54.495944Z",
     "shell.execute_reply": "2021-08-09T20:50:54.495003Z",
     "shell.execute_reply.started": "2021-08-09T20:50:54.461876Z"
    }
   },
   "outputs": [],
   "source": [
    "# Export preliminary results table to .csv\n",
    "results_final_organics.to_csv(\n",
    "    \"./results/accuracy-vs-samplesize.txt\",\n",
    "    sep=\"\\t\",\n",
    "    header=\"infer\",\n",
    "    na_rep=\"NaN\",\n",
    ")"
   ]
  },
  {
   "cell_type": "markdown",
   "metadata": {},
   "source": [
    "# Feature comparison"
   ]
  },
  {
   "cell_type": "code",
   "execution_count": 16,
   "metadata": {
    "execution": {
     "iopub.execute_input": "2021-08-11T03:15:09.550818Z",
     "iopub.status.busy": "2021-08-11T03:15:09.550256Z",
     "iopub.status.idle": "2021-08-11T03:15:11.000998Z",
     "shell.execute_reply": "2021-08-11T03:15:10.999739Z",
     "shell.execute_reply.started": "2021-08-11T03:15:09.550780Z"
    },
    "tags": []
   },
   "outputs": [],
   "source": [
    "#from dask.distributed import Client\n",
    "#import joblib\n",
    "\n",
    "#client = Client()"
   ]
  },
  {
   "cell_type": "code",
   "execution_count": 16,
   "metadata": {
    "execution": {
     "iopub.execute_input": "2021-08-11T04:07:15.919077Z",
     "iopub.status.busy": "2021-08-11T04:07:15.918865Z",
     "iopub.status.idle": "2021-08-11T04:07:15.946501Z",
     "shell.execute_reply": "2021-08-11T04:07:15.944921Z",
     "shell.execute_reply.started": "2021-08-11T04:07:15.919055Z"
    },
    "tags": []
   },
   "outputs": [
    {
     "name": "stdout",
     "output_type": "stream",
     "text": [
      "[(1000, 53), (1000,)]\n"
     ]
    }
   ],
   "source": [
    "# Select 1000 data samples for training\n",
    "\n",
    "X_train, _, y_train, _ = train_test_split(\n",
    "    X_source, y_source, train_size=1000, random_state=1922, stratify=y_source\n",
    ")\n",
    "print([X_train.shape, y_train.shape])"
   ]
  },
  {
   "cell_type": "code",
   "execution_count": 37,
   "metadata": {
    "execution": {
     "iopub.execute_input": "2021-08-11T10:59:55.428981Z",
     "iopub.status.busy": "2021-08-11T10:59:55.428573Z",
     "iopub.status.idle": "2021-08-11T10:59:55.544155Z",
     "shell.execute_reply": "2021-08-11T10:59:55.543062Z",
     "shell.execute_reply.started": "2021-08-11T10:59:55.428931Z"
    },
    "tags": []
   },
   "outputs": [],
   "source": [
    "def feat_comparison(list_col_idx, X_train=X_train, X_test=X_test):\n",
    "    \"\"\"Run hyperparameterization and model evaluation for a subset of features\"\"\"\n",
    "\n",
    "    # Select subset of features\n",
    "    X_train = X_train.iloc[:, list_col_idx]\n",
    "    X_test = X_test.iloc[:, list_col_idx]\n",
    "\n",
    "    # Find range of PCA components to test during hyperparameterization\n",
    "    components = blt.pca_precheck(\n",
    "        X=X_train, n_components=len(list_col_idx), thres_btm=0.75, thres_top=0.9\n",
    "    )\n",
    "\n",
    "    # Define models and parameters; no data augmentation is applied\n",
    "    random_state = 1922\n",
    "    augmentation_kwargs = {\n",
    "        \"augmentation_random_state\": random_state,\n",
    "        \"augmentation_X_source\": X_source,\n",
    "        \"augmentation_y_source\": y_source,\n",
    "    }\n",
    "    models = {\n",
    "        \"RandomForestClassifier\": blt.AugmentingPipeline(\n",
    "            [\n",
    "                (\"scaler\", MinMaxScaler()),  # normalization from 0 to 1\n",
    "                (\"dimreducer\", PCA()),\n",
    "                (\n",
    "                    \"estimator\",\n",
    "                    RandomForestClassifier(\n",
    "                        class_weight=\"balanced\", random_state=random_state\n",
    "                    ),\n",
    "                ),\n",
    "            ],\n",
    "            **augmentation_kwargs\n",
    "        ),\n",
    "        \"SVC\": blt.AugmentingPipeline(\n",
    "            [\n",
    "                (\"scaler\", MinMaxScaler()),  # normalization from 0 to 1\n",
    "                (\"dimreducer\", PCA()),\n",
    "                (\n",
    "                    \"estimator\",\n",
    "                    SVC(\n",
    "                        kernel=\"rbf\",\n",
    "                        class_weight=\"balanced\",  # balance by class size\n",
    "                        random_state=random_state,\n",
    "                    ),\n",
    "                ),\n",
    "            ],\n",
    "            **augmentation_kwargs\n",
    "        ),\n",
    "    }\n",
    "    params = {\n",
    "        \"RandomForestClassifier\": {\n",
    "            \"augmentation_type\": [random_augment],\n",
    "            \"augmentation_k\": [0],\n",
    "            \"dimreducer__n_components\": components,\n",
    "            \"estimator__max_depth\": np.arange(2, 19, 2),\n",
    "        },\n",
    "        \"SVC\": {\n",
    "            \"augmentation_type\": [random_augment],\n",
    "            \"augmentation_k\": [0],\n",
    "            \"dimreducer__n_components\": components,\n",
    "            \"estimator__C\": np.logspace(-1, 7, 9),\n",
    "            \"estimator__gamma\": np.logspace(-7, 1, 9),\n",
    "        },\n",
    "    }\n",
    "\n",
    "    # Hyperparameterization\n",
    "    helper = blt.EstimatorSelectionHelper(models, params)\n",
    "    # with joblib.parallel_backend(\"dask\"):\n",
    "    # Apply gridsearch for optimal parameters\n",
    "    helper.fit(\n",
    "        X_train,\n",
    "        y_train,\n",
    "        n_jobs=1,\n",
    "        cv=5,\n",
    "        scoring=\"balanced_accuracy\",\n",
    "    )\n",
    "    res_prelim = helper.score_summary(sort_by=\"mean_score\")\n",
    "    res_prelim.columns = [col.split(\"__\")[-1] for col in res_prelim.columns]\n",
    "    res_prelim.infer_objects()\n",
    "\n",
    "    # Model evaluation\n",
    "    res_rfc = eval_blindtest(\n",
    "        df_params=res_prelim[\n",
    "            res_prelim[\"estimator\"] == \"RandomForestClassifier\"\n",
    "        ].astype(object),\n",
    "        X=X_train,\n",
    "        y=y_train,\n",
    "        X_test=X_test,\n",
    "        save_fig_name=str(list_col_idx),\n",
    "    )\n",
    "    res_svc = eval_blindtest(\n",
    "        df_params=res_prelim[res_prelim[\"estimator\"] == \"SVC\"].astype(object),\n",
    "        X=X_train,\n",
    "        y=y_train,\n",
    "        X_test=X_test,\n",
    "        save_fig_name=str(list_col_idx),\n",
    "    )\n",
    "    res_all = pd.concat([res_rfc, res_svc]).pivot(columns=[\"estimator\"]).iloc[:, -2:]\n",
    "    res_all.columns = [\"RFC\", \"SVC\"]\n",
    "\n",
    "    return res_all"
   ]
  },
  {
   "cell_type": "code",
   "execution_count": 38,
   "metadata": {
    "execution": {
     "iopub.execute_input": "2021-08-11T11:00:00.506342Z",
     "iopub.status.busy": "2021-08-11T11:00:00.505312Z",
     "iopub.status.idle": "2021-08-11T11:00:00.567874Z",
     "shell.execute_reply": "2021-08-11T11:00:00.563383Z",
     "shell.execute_reply.started": "2021-08-11T11:00:00.506300Z"
    },
    "tags": []
   },
   "outputs": [
    {
     "name": "stdout",
     "output_type": "stream",
     "text": [
      "Chemical property column indices [0, 1, 2, 3]\n",
      "Functional use column indices\t [4, 5, 6, 7, 8, 9, 10, 11, 12, 13, 14, 15, 16, 17, 18, 19]\n",
      "Matrix property column indices\t [50, 51]\n",
      "Was WF measured? index\t\t [-1]\n",
      "Product category column indices\t [20, 21, 22, 23, 24, 25, 26, 27, 28, 29, 30, 31, 32, 33, 34, 35, 36, 37, 38, 39, 40, 41, 42, 43, 44, 45, 46, 47, 48, 49]\n"
     ]
    }
   ],
   "source": [
    "# Get column indices for groups of features\n",
    "# Feature groups: chemical properties, functional uses,\n",
    "# product categories, matrix properties, WF_measured\n",
    "feat_names = X_train.columns\n",
    "idx_cprponly = [i for i, s in enumerate(feat_names) if \"cprp\" in s]\n",
    "idx_funconly = [i for i, s in enumerate(feat_names) if \"func\" in s]\n",
    "idx_pcatonly = [i for i, s in enumerate(feat_names) if \"pgen\" in s]\n",
    "idx_pcatonly += [i for i, s in enumerate(feat_names) if \"pgrp\" in s]\n",
    "idx_mtrxonly = [i for i, s in enumerate(feat_names) if \"mtrx\" in s]\n",
    "del idx_mtrxonly[-1]  # do not include mtrx_WFmeasured\n",
    "\n",
    "print(\"Chemical property column indices\", idx_cprponly)\n",
    "print(\"Functional use column indices\\t\", idx_funconly)\n",
    "print(\"Matrix property column indices\\t\", idx_mtrxonly)\n",
    "print(\"Was WF measured? index\\t\\t\", [-1])\n",
    "print(\"Product category column indices\\t\", idx_pcatonly)"
   ]
  },
  {
   "cell_type": "code",
   "execution_count": null,
   "metadata": {
    "execution": {
     "iopub.execute_input": "2021-08-11T11:00:01.016080Z",
     "iopub.status.busy": "2021-08-11T11:00:01.015852Z"
    },
    "tags": []
   },
   "outputs": [
    {
     "name": "stdout",
     "output_type": "stream",
     "text": [
      "[0.8  0.92 0.97 1.  ]\n"
     ]
    },
    {
     "data": {
      "image/png": "[encoded data removed]",
      "text/plain": [
       "<Figure size 432x288 with 1 Axes>"
      ]
     },
     "metadata": {
      "needs_background": "light"
     },
     "output_type": "display_data"
    },
    {
     "name": "stdout",
     "output_type": "stream",
     "text": [
      "[1]\n",
      "Running GridSearchCV for RandomForestClassifier.\n",
      "Fitting 5 folds for each of 9 candidates, totalling 45 fits\n"
     ]
    },
    {
     "name": "stderr",
     "output_type": "stream",
     "text": [
      "[Parallel(n_jobs=1)]: Using backend SequentialBackend with 1 concurrent workers.\n",
      "[Parallel(n_jobs=1)]: Done  45 out of  45 | elapsed:    8.4s finished\n",
      "[Parallel(n_jobs=1)]: Using backend SequentialBackend with 1 concurrent workers.\n"
     ]
    },
    {
     "name": "stdout",
     "output_type": "stream",
     "text": [
      "Running GridSearchCV for SVC.\n",
      "Fitting 5 folds for each of 81 candidates, totalling 405 fits\n"
     ]
    }
   ],
   "source": [
    "# Run feature comparisons\n",
    "\n",
    "# List of lists of feature indices to try\n",
    "list_idx_list = [\n",
    "    idx_cprponly,\n",
    "    idx_funconly,\n",
    "    idx_pcatonly,\n",
    "    idx_mtrxonly,\n",
    "    idx_cprponly + idx_funconly,\n",
    "    idx_cprponly + idx_funconly + [-1],\n",
    "    idx_cprponly + idx_funconly + idx_mtrxonly + [-1],\n",
    "    idx_cprponly + idx_funconly + idx_pcatonly + idx_mtrxonly,\n",
    "    idx_cprponly + idx_funconly + idx_pcatonly + idx_mtrxonly + [-1],\n",
    "]\n",
    "\n",
    "res = pd.DataFrame(columns=[\"RFC\", \"SVC\"])\n",
    "for l in list_idx_list:\n",
    "    res_row = feat_comparison(l)\n",
    "    res = res.append(res_row, ignore_index=True)"
   ]
  },
  {
   "cell_type": "code",
   "execution_count": 84,
   "metadata": {
    "execution": {
     "iopub.execute_input": "2021-07-28T00:34:03.585519Z",
     "iopub.status.busy": "2021-07-28T00:34:03.585138Z",
     "iopub.status.idle": "2021-07-28T00:34:03.746197Z",
     "shell.execute_reply": "2021-07-28T00:34:03.741860Z",
     "shell.execute_reply.started": "2021-07-28T00:34:03.585488Z"
    },
    "tags": []
   },
   "outputs": [
    {
     "data": {
      "text/html": [
       "<div>\n",
       "<style scoped>\n",
       "    .dataframe tbody tr th:only-of-type {\n",
       "        vertical-align: middle;\n",
       "    }\n",
       "\n",
       "    .dataframe tbody tr th {\n",
       "        vertical-align: top;\n",
       "    }\n",
       "\n",
       "    .dataframe thead th {\n",
       "        text-align: right;\n",
       "    }\n",
       "</style>\n",
       "<table border=\"1\" class=\"dataframe\">\n",
       "  <thead>\n",
       "    <tr style=\"text-align: right;\">\n",
       "      <th></th>\n",
       "      <th>Chemical properties</th>\n",
       "      <th>Functional uses</th>\n",
       "      <th>Product categories</th>\n",
       "      <th>Matrix properties</th>\n",
       "      <th>WF measured?</th>\n",
       "      <th>RFC</th>\n",
       "      <th>SVC</th>\n",
       "    </tr>\n",
       "  </thead>\n",
       "  <tbody>\n",
       "    <tr>\n",
       "      <th>0</th>\n",
       "      <td>X</td>\n",
       "      <td></td>\n",
       "      <td></td>\n",
       "      <td></td>\n",
       "      <td></td>\n",
       "      <td>0.689</td>\n",
       "      <td>0.572</td>\n",
       "    </tr>\n",
       "    <tr>\n",
       "      <th>1</th>\n",
       "      <td></td>\n",
       "      <td>X</td>\n",
       "      <td></td>\n",
       "      <td></td>\n",
       "      <td></td>\n",
       "      <td>0.587</td>\n",
       "      <td>0.578</td>\n",
       "    </tr>\n",
       "    <tr>\n",
       "      <th>2</th>\n",
       "      <td></td>\n",
       "      <td></td>\n",
       "      <td>X</td>\n",
       "      <td></td>\n",
       "      <td></td>\n",
       "      <td>0.426</td>\n",
       "      <td>0.426</td>\n",
       "    </tr>\n",
       "    <tr>\n",
       "      <th>3</th>\n",
       "      <td></td>\n",
       "      <td></td>\n",
       "      <td></td>\n",
       "      <td>X</td>\n",
       "      <td></td>\n",
       "      <td>0.389</td>\n",
       "      <td>0.389</td>\n",
       "    </tr>\n",
       "    <tr>\n",
       "      <th>4</th>\n",
       "      <td>X</td>\n",
       "      <td>X</td>\n",
       "      <td></td>\n",
       "      <td></td>\n",
       "      <td></td>\n",
       "      <td>0.693</td>\n",
       "      <td>0.680</td>\n",
       "    </tr>\n",
       "    <tr>\n",
       "      <th>5</th>\n",
       "      <td>X</td>\n",
       "      <td>X</td>\n",
       "      <td></td>\n",
       "      <td></td>\n",
       "      <td>X</td>\n",
       "      <td>0.693</td>\n",
       "      <td>0.680</td>\n",
       "    </tr>\n",
       "    <tr>\n",
       "      <th>6</th>\n",
       "      <td>X</td>\n",
       "      <td>X</td>\n",
       "      <td></td>\n",
       "      <td>X</td>\n",
       "      <td>X</td>\n",
       "      <td>0.674</td>\n",
       "      <td>0.655</td>\n",
       "    </tr>\n",
       "    <tr>\n",
       "      <th>7</th>\n",
       "      <td>X</td>\n",
       "      <td>X</td>\n",
       "      <td>X</td>\n",
       "      <td>X</td>\n",
       "      <td></td>\n",
       "      <td>0.624</td>\n",
       "      <td>0.616</td>\n",
       "    </tr>\n",
       "    <tr>\n",
       "      <th>8</th>\n",
       "      <td>X</td>\n",
       "      <td>X</td>\n",
       "      <td>X</td>\n",
       "      <td>X</td>\n",
       "      <td>X</td>\n",
       "      <td>0.617</td>\n",
       "      <td>0.616</td>\n",
       "    </tr>\n",
       "  </tbody>\n",
       "</table>\n",
       "</div>"
      ],
      "text/plain": [
       "  Chemical properties Functional uses Product categories Matrix properties  \\\n",
       "0                   X                                                        \n",
       "1                                   X                                        \n",
       "2                                                      X                     \n",
       "3                                                                        X   \n",
       "4                   X               X                                        \n",
       "5                   X               X                                        \n",
       "6                   X               X                                    X   \n",
       "7                   X               X                  X                 X   \n",
       "8                   X               X                  X                 X   \n",
       "\n",
       "  WF measured?    RFC    SVC  \n",
       "0               0.689  0.572  \n",
       "1               0.587  0.578  \n",
       "2               0.426  0.426  \n",
       "3               0.389  0.389  \n",
       "4               0.693  0.680  \n",
       "5            X  0.693  0.680  \n",
       "6            X  0.674  0.655  \n",
       "7               0.624  0.616  \n",
       "8            X  0.617  0.616  "
      ]
     },
     "execution_count": 84,
     "metadata": {},
     "output_type": "execute_result"
    }
   ],
   "source": [
    "feat_table = pd.DataFrame(\n",
    "    {\n",
    "        \"Chemical properties\": [\"X\", \"\", \"\", \"\", \"X\", \"X\", \"X\", \"X\", \"X\"],\n",
    "        \"Functional uses\": [\"\", \"X\", \"\", \"\", \"X\", \"X\", \"X\", \"X\", \"X\"],\n",
    "        \"Product categories\": [\"\", \"\", \"X\", \"\", \"\", \"\", \"\", \"X\", \"X\"],\n",
    "        \"Matrix properties\": [\"\", \"\", \"\", \"X\", \"\", \"\", \"X\", \"X\", \"X\"],\n",
    "        \"WF measured?\": [\"\", \"\", \"\", \"\", \"\", \"X\", \"X\", \"\", \"X\"],\n",
    "    }\n",
    ")\n",
    "feat_compare = pd.concat([feat_table, res], axis=1)\n",
    "feat_compare = feat_compare.infer_objects().round(decimals=3)\n",
    "feat_compare"
   ]
  },
  {
   "cell_type": "code",
   "execution_count": 85,
   "metadata": {
    "execution": {
     "iopub.execute_input": "2021-07-28T00:34:04.986207Z",
     "iopub.status.busy": "2021-07-28T00:34:04.985779Z",
     "iopub.status.idle": "2021-07-28T00:34:04.998442Z",
     "shell.execute_reply": "2021-07-28T00:34:04.997221Z",
     "shell.execute_reply.started": "2021-07-28T00:34:04.986157Z"
    },
    "tags": []
   },
   "outputs": [
    {
     "name": "stdout",
     "output_type": "stream",
     "text": [
      "Results directory exists.\n",
      "./results/feat-compare-organics.txt\n"
     ]
    }
   ],
   "source": [
    "blt.custom_latex(feat_compare, \"feat-compare-organics\")"
   ]
  },
  {
   "cell_type": "code",
   "execution_count": null,
   "metadata": {},
   "outputs": [],
   "source": []
  }
 ],
 "metadata": {
  "kernelspec": {
   "display_name": "Python 3",
   "language": "python",
   "name": "python3"
  },
  "language_info": {
   "codemirror_mode": {
    "name": "ipython",
    "version": 3
   },
   "file_extension": ".py",
   "mimetype": "text/x-python",
   "name": "python",
   "nbconvert_exporter": "python",
   "pygments_lexer": "ipython3",
   "version": "3.7.3"
  },
  "toc": {
   "base_numbering": 1,
   "nav_menu": {
    "height": "11px",
    "width": "160px"
   },
   "number_sections": true,
   "sideBar": true,
   "skip_h1_title": false,
   "title_cell": "Table of Contents",
   "title_sidebar": "Contents",
   "toc_cell": true,
   "toc_position": {
    "height": "calc(100% - 180px)",
    "left": "10px",
    "top": "150px",
    "width": "165px"
   },
   "toc_section_display": true,
   "toc_window_display": true
  }
 },
 "nbformat": 4,
 "nbformat_minor": 4
}
